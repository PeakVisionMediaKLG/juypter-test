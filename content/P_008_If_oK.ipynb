{
 "cells": [
  {
   "cell_type": "markdown",
   "metadata": {},
   "source": [
    "# Bedingte Anweisungen<br><img width=1200 src=\"Images/If.png\" />"
   ]
  },
  {
   "cell_type": "markdown",
   "metadata": {},
   "source": [
    "Bisher waren unsere kleinen Programme linear, eine Zeile lief nach der anderen ab, bis das Ende erreicht war. Interessanter werden Programme, wenn sie unterschiedlich ablaufen, abhängig von bestimmten Bedingungen, d.h. sie verzweigen. Python hat, im Gegensatz zu anderen Sprachen nur eine bedingte Anweisung, die ```if```- Anweisung.\n",
    "\n",
    "Diese Anweisung bestimmt den weiteren Ablauf des Programms, je nachdem wie eine Bedingung ausfällt. Ein Beispiel:"
   ]
  },
  {
   "cell_type": "code",
   "execution_count": null,
   "metadata": {},
   "outputs": [],
   "source": [
    "a = 3\n",
    "\n",
    "if a<5:\n",
    "    print(\"im eingerückten Block\")\n",
    "    print(\"kleiner 5\")\n",
    "    \n",
    "print(\"ausserhalb Block\")\n",
    "print(\"weiter\")\n",
    "print(100*\"-\")\n",
    "\n",
    "a = 7\n",
    "\n",
    "if a<5:\n",
    "    print(\"im eingerückten Block\")\n",
    "    print(\"kleiner 5\")\n",
    "    \n",
    "print(\"ausserhalb Block\")\n",
    "print(\"weiter\")"
   ]
  },
  {
   "cell_type": "markdown",
   "metadata": {},
   "source": [
    "Wir sehen hier einige wichtige Punkte. Nach dem ```if``` als Schlüsselwort folgt eine Bedingung, wie wir sie bei logischen Operatoren kennengelernt haben. Deren Ergebnis kann True oder False sein. <b>Dann kommt ein Doppelpunkt. Dies ist für Python immer der Hinweis, daß ein Codeblock folgt, also ein zusammenhängender Block von Anweisungen.</b> Nach einem solchen Doppelpunkt müssen alle Anweisungen, die zu dem Block gehören, um eine Stufe (normalerweise 4 Leerzeichen) eingerückt werden. Python-Editoren erkennen das selber und tun es automatisch. Wenn der Block zu Ende ist, muß man selber einmal die ```Tab zurück``` Taste betätigen und Python springt eine Stufe zurück, hier also wieder auf den Anfang der Zeile. Leerzeichen sind also in Python im Gegensatz zu fast allen anderen Sprachen für die Programmstruktur von Bedeutung. Andere Sprachen markieren Anfang und Ende solcher Blöcke durch Schlüsselworte wie begin/end oder Klammerpaare {}, rücken sie aber nicht ein. Das Einrücken kann der Benutzer dann nach seiner eigenen Lust und Laune gestalten. Der Python-Code ist durch die Einrückungen m.E. viel einfacher zu lesen. Innerhalb eines Blocks kann natürlich eine weitere Anweisung stehen, die einen weiteren Block eröffnet. Es ergeben sich dann geschachtelte Blöcke. <br><img width=1100 src=\"Images/Anweisungs-Blöcke.png\" />"
   ]
  },
  {
   "cell_type": "markdown",
   "metadata": {},
   "source": [
    "Ein Block muß mindestens eine Anweisung enthalten. Wenn man das Programm entwickelt und noch nicht genau weiß, was in dem Codeblock z.B. nach einem ```if``` stehen soll, muß man zumindest ```pass``` als Leeranweisung in den Block schreiben, sonst entsteht ein Fehler. "
   ]
  },
  {
   "cell_type": "markdown",
   "metadata": {},
   "source": [
    "Nun zurück zu unserer ```if```-Anweisung. Wenn die Bedingung True ergibt, wird der eingerückte Codeblock ausgeführt, sonst springt das Programm zur nächsten Anweisung nach dem Ende des eingerückten Blocks.<br>\n",
    "Dies ist die einfachste Art einer bedingten Anweisung. Die nächste Erweiterung ist ein ```else``` Teil. Dieser wird <b>nur ausgeführt,</b> wenn die Bedingung False ergibt. "
   ]
  },
  {
   "cell_type": "code",
   "execution_count": null,
   "metadata": {},
   "outputs": [],
   "source": [
    "a = 7\n",
    "#a = 3\n",
    "if a<5:\n",
    "    print(\"im eingerückten if Block\")\n",
    "    print(\"kleiner 5\")\n",
    "    \n",
    "else:\n",
    "    print(\"im eingerückten else Block\")\n",
    "    print(\"grösser oder gleich 5\")\n",
    "    \n",
    "print(\"ausserhalb Block wird immer ausgeführt\")\n",
    "print(\"weiter\")"
   ]
  },
  {
   "cell_type": "markdown",
   "metadata": {},
   "source": [
    "Unsere bisherigen Verzweigungen sehen so aus:<br><img width=1100 src=\"Images/ifelse.png\" />"
   ]
  },
  {
   "cell_type": "markdown",
   "metadata": {},
   "source": [
    "Als letzte Erweiterung bei der if-Anweisung gibt es noch ```elif```. Es steht als Abkürzung für ```else if```. Es wird ausgeführt, falls der ```if```-Teil falsch ist. Falls das ```elif``` True ergibt, wird der zugehörige Block ausgeführt <B> und die gesamte if-Anweisung verlassen</b>. Sonst geht der Abaluf weiter. Mehrere ```elif``` Blöcke sind möglich. Ein ```else```-Block kann abschließen. Ein Beispiel:"
   ]
  },
  {
   "cell_type": "code",
   "execution_count": null,
   "metadata": {},
   "outputs": [],
   "source": [
    "zahl = 19\n",
    "if zahl < 5:\n",
    "    print(\"kleiner 5 \")\n",
    "elif zahl < 10:\n",
    "    print(\"grösser oder gleich 5 und kleiner als 10\")\n",
    "elif zahl <20:\n",
    "    print(\"grösser oder gleich 10 und kleiner als 20\")\n",
    "else:\n",
    "    print(\"grösser oder gleich 20\")"
   ]
  },
  {
   "cell_type": "markdown",
   "metadata": {},
   "source": [
    "<b>Bildlich:<br><img width=1500 src=\"Images/ifelifelse.png\" />"
   ]
  },
  {
   "cell_type": "markdown",
   "metadata": {},
   "source": [
    "### Aufgabe\n",
    "Nun eine kleine Übung:<br>\n",
    "Bestimmen Sie, ob zwei Integer Quadratzahlen voneinander sind oder Kubikzahlen. Geben sie das Ergebnis aus wie \"a ist b hoch 2\" oder falls kein Zusammenhang besteht: \"a und b nicht hoch 2 oder hoch 3 zusammenhängend\".\n",
    "    "
   ]
  },
  {
   "cell_type": "code",
   "execution_count": null,
   "metadata": {},
   "outputs": [],
   "source": [
    "#hoch2 oder hoch3  oder nichts dergleichen\n",
    "a,b=4,16\n",
    "if a**2==b:\n",
    "    print(\"b ist a zum Quadrat\")\n",
    "elif b**2==a:\n",
    "    print(\"a ist b zum Quadrat\")\n",
    "elif a**3==b:\n",
    "    print(\"b ist a hoch 3\")\n",
    "elif b**3==a:\n",
    "    print(\"a ist b hoch 3\")\n",
    "else:\n",
    "    print(\"a und b nicht hoch 2 oder hoch 3 zusammenhängend\")"
   ]
  },
  {
   "cell_type": "markdown",
   "metadata": {},
   "source": [
    "### Aufgabe\n",
    "Eine weitere Übung:<br>\n",
    "Geben sie mit einer Mehrfacheingabe 3 Integer ein. Bestimmen Sie, wieviele der Zahlen gleich sind. Ergebnisse können sein: 0, 2 oder 3. Testen Sie ihr Programm genau, sodaß alle Fälle abgedeckt sind. Hinweis: Nutzen Sie \"and\" und \"or\".\n",
    "    "
   ]
  },
  {
   "cell_type": "code",
   "execution_count": null,
   "metadata": {},
   "outputs": [],
   "source": [
    "resultat=0\n",
    "wert1,wert2,wert3=1,1,2\n",
    "if wert1==wert2 and wert2==wert3:\n",
    "    resultat=3\n",
    "elif wert1==wert2 or wert1==wert3 or wert2==wert3:\n",
    "    resultat=2\n",
    "print(\"Gleich sind: \",resultat)"
   ]
  },
  {
   "cell_type": "markdown",
   "metadata": {},
   "source": [
    "Es gibt noch eine Abkürzung für eine komplette if/else Konstruktion, das ```ternäre if```. "
   ]
  },
  {
   "cell_type": "code",
   "execution_count": null,
   "metadata": {},
   "outputs": [],
   "source": [
    "name = \"Erika\"\n",
    "# name = \"Klaus\" #auch probieren!\n",
    "resultat = \"Frau\" if name==\"Erika\" else \"Mann\" #Alles in einer Zeile\n",
    "print(resultat)"
   ]
  },
  {
   "cell_type": "markdown",
   "metadata": {},
   "source": [
    "Hier wird der zuerst genannte Wert zurückgegeben, wenn die Bedingung True ist, sonst der zweite Wert. Bei einfachen if-Konstruktionen ist dies eine gängige Praxis."
   ]
  },
  {
   "cell_type": "raw",
   "metadata": {},
   "source": [
    "Damit kennen wir nun die Möglichkeit, den Programmfluß entsprechend einer Bedingung umzuleiten. In unseren kleinen Programmen mußten wir die benötigten Werte direkt eingeben. Wir wollen nun dem User erlauben, auf Anfrage Eingaben zu machen."
   ]
  }
 ],
 "metadata": {
  "kernelspec": {
   "display_name": "Python 3",
   "language": "python",
   "name": "python3"
  },
  "language_info": {
   "codemirror_mode": {
    "name": "ipython",
    "version": 3
   },
   "file_extension": ".py",
   "mimetype": "text/x-python",
   "name": "python",
   "nbconvert_exporter": "python",
   "pygments_lexer": "ipython3",
   "version": "3.8.5"
  }
 },
 "nbformat": 4,
 "nbformat_minor": 4
}
