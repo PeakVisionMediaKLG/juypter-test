{
 "cells": [
  {
   "cell_type": "markdown",
   "id": "fb99b298",
   "metadata": {},
   "source": [
    "# NumPy für effektive numerische Datenmanipulation\n",
    "<br><br><br><img width=600 height=200 class=\"imgright\" src=\"Images/Numbers.jpg\"><br><br><br>\n",
    "Es ist nun an der Zeit, von unseren bewußt simplifizierten \"selbstgestrickten\" Beispielen für maschinelles Lernen, die zum Verständnis der grundlegenden Techniken dienen sollten, zur Benutzung der sehr leistungsfähigen vorhandenen Module überzugehen, die eine ernsthafte Beschäftigung mit ML erst möglich machen. Nicht zuletzt haben diese umfangreichen und frei verfügbaren Module mit einfacher Einbindung in Pythonprogramme dazu beigetragen, aus Python <b>die</b> Sprache für ML zu machen. Mit dem weitgespannten und einfach einzusetzenden Angebot von ML-Methoden machen sie den Programmcode wesentlich übersichtlicher und vermindern drastisch die Laufzeit und den Speicherbedarf. Andererseits benötigt man zum richtigen Einsatz der Module eine Menge Zusatzwissen, gelegentlich versperrt der Umgang damit den Blick auf das wirklich Grundlegende und vermittelt eine Pseudosicherheit bei der Interpretation der Ergebnisse, die eventuell aber methodisch nicht korrekt erzeugt wurden. Die wichtigsten Module und deren Zusammenhang wird unten dagestellt.<br><br><br>\n"
   ]
  },
  {
   "cell_type": "markdown",
   "id": "c474d524",
   "metadata": {},
   "source": [
    "<img width=800 height=500 class=\"imgright\" src=\"Images/MLModule.png\">"
   ]
  },
  {
   "cell_type": "markdown",
   "id": "0e5e8c6d",
   "metadata": {},
   "source": [
    "Ein grosser Teil eines ML-Programms beschäftigt sich mit der Vorbereitung und Manipulation der Daten für den eigentlichen Lernalgorithmus. Hierfür sind NumPy und Pandas eine große Hilfe. Im eigentlichen ML-Programm ist dann die Einbindung der Daten perfekt und mit Matplotlib kann man sehr elegant den Ablauf und die Ergebnisse visualisieren. Bevor wir scikit-learn (allgemein) und Keras (für deep learning) als ML- Module nutzen, werden wir uns mit den vorher genannten Hilfsmodulen beschäftigen. Man muß hierzu aber anmerken, daß jedes dieser Module so umfangreich ist, daß eine auch nur mittelgradig vertiefte Betrachtung im Rahmen dieses Tutorials nicht möglich ist. Wir müssen also an der Oberfläche bleiben und nur das Essentielle betrachten. Speziell mit NumPy müssen wir uns jedoch trotz dieser Einschränkung etwas ausführlicher beschäftigen. Es sollte danach zumindest möglich sein, Code aus dem ML - Bereich im Hinblick auf die Anwendung von NumPy zu verstehen."
   ]
  },
  {
   "cell_type": "markdown",
   "id": "7fd6444d",
   "metadata": {},
   "source": [
    "Der Name stammt von \"Numerical Python\". Das umfangreiche und kostenlose Modul ist nicht Teil der \"Kerndistribution\" von Python, wie sie z.B. von \"Python.org\" downloadbar ist. In der Anaconda - Distribution, die auch unsere Jupyter-Notebooks bereithält, ist es jedoch enthalten. Man muß es sonst von http://www.numpy.org/ downloaden und installieren. Das wichtigste Merkmal von NumPy ist, daß es effiziente Arrays anbietet. Diese Struktur ist in fast allen Programmiersprachen enthalten und ist ein Container, um Daten eines bestimmten Typs zu speichern und darauf mit numerischen Indizes zuzugreifen. Die NumPy Arrays können auch mehrdimensional sein. Das Modul ist überwiegend in C implementiert und daher auch deutlich schneller als das Kernpython, was solche Arrays nicht kennt, sondern wo man auf Listen zurückgreifen müsste. Diese sind Universalcontainer, die beliebige Objekte speichern können, aber haben deshalb deutlich mehr Speicherbedarf und sind langsamer im Zugriff. Gerade für grosse Datenmengen, wie sie in der KI oft vorkommen, ist NumPy daher fast unentbehrlich. Die Beschränkung aller Elemente des Arrays auf einen Datentyp lässt sich für sogenannte \"Strukturierte Arrays\" spaltenweise aufheben, sodaß auch diese Einschränkung nur relativ ist. (Wir werden darauf in diesem Tutorial nicht weiter eingehen)."
   ]
  },
  {
   "cell_type": "markdown",
   "id": "1a2b1a23",
   "metadata": {},
   "source": [
    "Wie erzeugen wir NumPy-Arrays? Zunächst müssen wir NumPy importieren. Dies geschieht üblicherweise mit einem Alias, um lästige Schreibarbeit zu vermeiden. Dann können wir die Array-Elemente direkt eingeben oder Python-Listen oder -Tupel in Numpy-Arrays umwandeln."
   ]
  },
  {
   "cell_type": "code",
   "execution_count": 1,
   "id": "255294d9",
   "metadata": {},
   "outputs": [
    {
     "name": "stdout",
     "output_type": "stream",
     "text": [
      " a: [1 2 3]  type: <class 'numpy.ndarray'> Direkteingabe\n",
      " b: ['b' 'ce' 'd'] aus Python Liste,bei Ausgabe keine Kommata als Trenner!\n",
      " c: [1.2 3.2 4.5] aus Python Tupel\n",
      " d: ['a' '2' '3'] bei gemischten Typen der Elemente werden alle in strings überführt!\n"
     ]
    }
   ],
   "source": [
    "import numpy as np  # typischer Alias np\n",
    "a=np.array([1,2,3])\n",
    "L=[\"b\",\"ce\",\"d\"]\n",
    "T=(1.2,3.2,4.5)\n",
    "b=np.array(L)\n",
    "c=np.array(T)\n",
    "print(f\" a: {a}  type: {type(a)} Direkteingabe\")\n",
    "print(f\" b: {b} aus Python Liste,bei Ausgabe keine Kommata als Trenner!\")\n",
    "print(f\" c: {c} aus Python Tupel\") \n",
    "d=np.array([\"a\",2,3]) \n",
    "print(f\" d: {d} bei gemischten Typen der Elemente werden alle in strings überführt!\")"
   ]
  },
  {
   "cell_type": "markdown",
   "id": "fa28c315",
   "metadata": {},
   "source": [
    "Ähnlich wie in vielen anderen Sprachen kann auch in NumPy-Arrays der Typ der Elemente festgelegt werden, hier gibt es dazu  die dtype-Angabe . Es gibt entsprechende numpy-dtype Abkürzungen wie numpy.int8, numpy.single, numpy.double, numpy.bool... und viele mehr.(s. https://numpy.org/doc/stable/) Der Hauptzweck dieser Deklarationen ist es, den Speicherbedarf zu minimieren, ein numpy.int16 benötigt zum Beipiel 2 Bytes pro gespeichertem Element, numpy.int32 braucht 4 Bytes, numpy.single für kleinere Floats braucht jeweils 4 Bytes ...\n",
    "Falls man keine Typdeklarationn vorgibt, erschliesst NumPy aus den Array-Elementen den notwendigen Grundtyp und nimmt dann jeweils die größte notwendige Variante dieses Typs. Es versteht sich von selbst, daß man mit der Wahl z.B. von int8 auch die maximale Grösse der Integer-Zahl beschränkt, die im Array gespeichert werden kann, hier auf -128 bis +127 entsprechend der Grösse eines Bytes bei einer Vorzeichenzahl.\n",
    "Falls also der Speicherbedarf nicht zu kritisch ist, kann man am Einfachsten die Default-Werte verwenden.<br> Es ist auch möglich den Typ z.B. mit dtype=\"int8\" zuzuordnen. Auch eine Abfrage des Typs ist so möglich (s.u).<br> Auf Array-Elemente greift man mit dem Index zu, wie auch beim Kernpython möglich."
   ]
  },
  {
   "cell_type": "code",
   "execution_count": 3,
   "id": "836464b5",
   "metadata": {},
   "outputs": [
    {
     "name": "stdout",
     "output_type": "stream",
     "text": [
      "Integer mit np.int8 definiert ist ein Byte (256 einzelne Zahlen möglich) lang und kann Vorzeichen haben \n",
      " \n",
      "0,1,2,3,4,5,6,7,8,9,10,11,12,13,14,15,16,17,18,19,20,21,22,23,24,25,26,27,28,29,30,31,32,33,34,35,36,37,38,39,40,41,42,43,44,45,46,47,48,49,50,51,52,53,54,55,56,57,58,59,60,61,62,63,64,65,66,67,68,69,70,71,72,73,74,75,76,77,78,79,80,81,82,83,84,85,86,87,88,89,90,91,92,93,94,95,96,97,98,99,100,101,102,103,104,105,106,107,108,109,110,111,112,113,114,115,116,117,118,119,120,121,122,123,124,125,126,127,-128,-127,-126,-125,-124,-123,-122,-121,-120,-119,-118,-117,-116,-115,-114,-113,-112,-111,-110,-109,-108,-107,-106,-105,-104,-103,-102,-101,-100,-99,-98,-97,-96,-95,-94,-93,-92,-91,-90,-89,-88,-87,-86,-85,-84,-83,-82,-81,-80,-79,-78,-77,-76,-75,-74,-73,-72,-71,-70,-69,-68,-67,-66,-65,-64,-63,-62,-61,-60,-59,-58,-57,-56,-55,-54,-53,-52,-51,-50,-49,-48,-47,-46,-45,-44,-43,-42,-41,-40,-39,-38,-37,-36,-35,-34,-33,-32,-31,-30,-29,-28,-27,-26,-25,-24,-23,-22,-21,-20,-19,-18,-17,-16,-15,-14,-13,-12,-11,-10,-9,-8,-7,-6,-5,-4,-3,-2,\n",
      "\n",
      " Array mit floats [2. 3. 4.]\n",
      "\n",
      " dtype zur Typbestimmung ganzes Array: float32  Element: float32\n",
      "\n",
      " Float mit default: [ 1.20000000e+00  3.47000000e+01 -5.66796967e+08]\n",
      "\n",
      " Integer mit default: [           1            2 274634625656] Man erkennt, daß der grösste Eintrag den Typ bestimmt.\n",
      "\n",
      " Strings : uhpuhfpuwhfpuhfrfpweifqpw9zfp9qiugfwqrgrgergergegergergegpqu\n"
     ]
    }
   ],
   "source": [
    "print(\"Integer mit np.int8 definiert ist ein Byte (256 einzelne Zahlen möglich) lang und kann Vorzeichen haben \\n \")\n",
    "for i in range(0,255):\n",
    "    a = np.array([i], np.int8) #bis 127 positiv, dann negativ\n",
    "    print(a[0],end=\",\")\n",
    "\n",
    "aa = np.array([2,3,4],dtype=\"single\") #Typzuordnung mit dtype\n",
    "print(f\"\\n\\n Array mit floats {aa}\\n\")\n",
    "print(f\" dtype zur Typbestimmung ganzes Array: {aa.dtype}  Element: {aa[1].dtype}\")\n",
    "\n",
    "b = np.array([1.2,34.7,-566796967.3]) #automatische Typzuordnung mit Maximal-Grösse\n",
    "print(f\"\\n Float mit default: {b}\")\n",
    "\n",
    "c = np.array([1,2,274634625656]) #automatische Typzuordnung mit Maximal-Grösse\n",
    "print(f\"\\n Integer mit default: {c} Man erkennt, daß der grösste Eintrag den Typ bestimmt.\")\n",
    "\n",
    "d = np.array([\"Hallo\",\"uhpuhfpuwhfpuhfrfpweifqpw9zfp9qiugfwqrgrgergergegergergegpqu\",\"Ende\"]) #automatische Zuordnung \n",
    "print(f\"\\n Strings : {d[1]}\")\n"
   ]
  },
  {
   "cell_type": "markdown",
   "id": "90df197d",
   "metadata": {},
   "source": [
    "Eine besonders elegante und oft genutzte Eigenschaft der NumPy-Arrays ist, daß man Operationen über das ganze Array durchführen kann, ohne dafür Schleifen zu verwenden. Wir wandeln hier ein komplettes Array von Celsius-Werte in ein Fahrenheit Array um.\n"
   ]
  },
  {
   "cell_type": "code",
   "execution_count": 4,
   "id": "1fcc59ca",
   "metadata": {},
   "outputs": [
    {
     "name": "stdout",
     "output_type": "stream",
     "text": [
      "[ 73.4  98.6 212. ]\n"
     ]
    }
   ],
   "source": [
    "celsius=np.array([23,37,100]) #celsius array\n",
    "fahrenheit= celsius * 9 / 5 + 32   #Die Operation wird über das ganze Array durchgeführt.\n",
    "print(fahrenheit)"
   ]
  },
  {
   "cell_type": "markdown",
   "id": "333cfc4c",
   "metadata": {},
   "source": [
    "Wir können dadurch Funktionen schreiben, die sowohl einzelne Argumente verändern können als auch ganze Arrays, dies wird in ML oft genutzt."
   ]
  },
  {
   "cell_type": "code",
   "execution_count": 5,
   "id": "4190a99c",
   "metadata": {},
   "outputs": [
    {
     "name": "stdout",
     "output_type": "stream",
     "text": [
      "6\n",
      "[4 5 6 7]\n"
     ]
    }
   ],
   "source": [
    "def general_add(x):\n",
    "    return x+3\n",
    "\n",
    "print(general_add(3))\n",
    "print(general_add(np.array([1,2,3,4])))"
   ]
  },
  {
   "cell_type": "markdown",
   "id": "de794223",
   "metadata": {},
   "source": [
    "Um  ein Array zu erzeugen und es mit Nullen oder Einsen zu füllen gibt es die Methoden ```numpy.zeros``` resp. ```numpy.ones```.\n"
   ]
  },
  {
   "cell_type": "code",
   "execution_count": 6,
   "id": "4660e7b3",
   "metadata": {},
   "outputs": [
    {
     "name": "stdout",
     "output_type": "stream",
     "text": [
      "[0. 0. 0. 0. 0.]\n",
      "[0 0 0 0 0]\n",
      "[1. 1. 1. 1. 1.]\n"
     ]
    }
   ],
   "source": [
    "b=np.zeros(5) #default float\n",
    "print(b)\n",
    "c=np.zeros(5,dtype=\"int32\")\n",
    "print(c)\n",
    "d=np.ones(5) #default float\n",
    "print(d)"
   ]
  },
  {
   "cell_type": "markdown",
   "id": "fb33e0b1",
   "metadata": {},
   "source": [
    "Eine weitere Möglichkeit, NumPy-Arrays zu erzeugen, stellen die ```arange``` oder  ```linspace``` Methoden dar. Dabei entspricht die ```arange```-Methode der ```range```-Konstruktion im Kernpython, es werden aber NumPy-Arrays und keine range-Objekte zurückgegeben. Die Syntax ist:<br>\n",
    "<b>numpy.arange(start, stop, step, dtype=...)</b><br> Dabei ist es wie im Kernpython möglich, nur den stop zu verwenden, oder start und stop, oder alle 3 Parameter.\n",
    "Aber NumPy erlaubt auch nicht-Integer Werte für den step."
   ]
  },
  {
   "cell_type": "code",
   "execution_count": 7,
   "id": "a6ff76de",
   "metadata": {},
   "outputs": [
    {
     "name": "stdout",
     "output_type": "stream",
     "text": [
      "[0.5 1.3 2.1 2.9 3.7 4.5 5.3]\n",
      "7\n"
     ]
    }
   ],
   "source": [
    "a = np.arange(0.5,6.1,.8) #ohne dtype erschliesst NumPy ,daß es sich um floats handelt\n",
    "print(a)\n",
    "print(a.size) #gibt Arraygrösse zurück\n"
   ]
  },
  {
   "cell_type": "markdown",
   "id": "d9a7a8e4",
   "metadata": {},
   "source": [
    "Die linspace-Methode erzeugt eine Anzahl ```num``` von gleichverteilten Zahlen in einem Array im Intervall ```start,stop```. Dabei bestimmt der Parameter ```endpoint```, falls er auf False gesetzt wird, das der letzte Wert vor stop endet, sonst ist stop einbegriffen. \n",
    "<br><b> linspace(start,stop,num=50,endpoint=True,retstep=False)</b>\n",
    "Die entsprechenden Default-Werte sind in der Definition zu sehen. Der retstep Parameter sorgt dafür, dass auch der Abstand zwischen 2 benachbarten Elementen des Arrays ausgegeben wird:"
   ]
  },
  {
   "cell_type": "code",
   "execution_count": 8,
   "id": "ffc677fc",
   "metadata": {},
   "outputs": [
    {
     "name": "stdout",
     "output_type": "stream",
     "text": [
      "[ 0.          0.20408163  0.40816327  0.6122449   0.81632653  1.02040816\n",
      "  1.2244898   1.42857143  1.63265306  1.83673469  2.04081633  2.24489796\n",
      "  2.44897959  2.65306122  2.85714286  3.06122449  3.26530612  3.46938776\n",
      "  3.67346939  3.87755102  4.08163265  4.28571429  4.48979592  4.69387755\n",
      "  4.89795918  5.10204082  5.30612245  5.51020408  5.71428571  5.91836735\n",
      "  6.12244898  6.32653061  6.53061224  6.73469388  6.93877551  7.14285714\n",
      "  7.34693878  7.55102041  7.75510204  7.95918367  8.16326531  8.36734694\n",
      "  8.57142857  8.7755102   8.97959184  9.18367347  9.3877551   9.59183673\n",
      "  9.79591837 10.        ] \n",
      "\n",
      "[0.  0.5 1.  1.5 2.  2.5 3.  3.5 4.  4.5 5.  5.5 6.  6.5 7.  7.5 8.  8.5\n",
      " 9.  9.5] \n",
      "\n",
      "(array([1.        , 1.13333333, 1.26666667, 1.4       , 1.53333333,\n",
      "       1.66666667, 1.8       , 1.93333333, 2.06666667, 2.2       ,\n",
      "       2.33333333, 2.46666667, 2.6       , 2.73333333, 2.86666667,\n",
      "       3.        , 3.13333333, 3.26666667, 3.4       , 3.53333333,\n",
      "       3.66666667, 3.8       , 3.93333333, 4.06666667, 4.2       ,\n",
      "       4.33333333, 4.46666667, 4.6       , 4.73333333, 4.86666667]), 0.13333333333333333)\n"
     ]
    }
   ],
   "source": [
    "print(np.linspace(0,10),\"\\n\") #default mit 50 Werten ,stop ist inbegriffen\n",
    "print(np.linspace(0,10,20,False),\"\\n\") #20 Werte , Endpunkt ausgeschlossen\n",
    "print(np.linspace(1,5,30,False,True)) #30 Werte , Endpunkt ausgeschlossen , zweites Element des Ausgabetupels gibt Abstand\n",
    "                                      #zwischen 2 Elementen an"
   ]
  },
  {
   "cell_type": "markdown",
   "id": "14b67138",
   "metadata": {},
   "source": [
    "Man kann NumPy Arrays auch aus einer Funktion befüllen. Hier wird lambda benutzt. Der zweite Parameter (z.B.: (4,4)) gibt an, wie der ```shape``` des Ergebnis-Arrays aussehen soll, und damit welche Werte für die Paramater der Funktion durchlaufen werden sollen. Zum ```shape``` eines Arrays später mehr."
   ]
  },
  {
   "cell_type": "code",
   "execution_count": 9,
   "id": "adb11737",
   "metadata": {},
   "outputs": [
    {
     "name": "stdout",
     "output_type": "stream",
     "text": [
      " Das Array a: \n",
      "\n",
      " [[ 0.  0.  0.  0.  0.]\n",
      " [ 0.  1.  2.  3.  4.]\n",
      " [ 0.  2.  4.  6.  8.]\n",
      " [ 0.  3.  6.  9. 12.]]\n",
      "\n",
      " Ein Array aus 3 2dimensionalen Arrays mit jeweils 5 Reihen und 4 Spalten.\n",
      "\n",
      " [[[ 0.  3.  6.  9.]\n",
      "  [ 2.  5.  8. 11.]\n",
      "  [ 4.  7. 10. 13.]\n",
      "  [ 6.  9. 12. 15.]\n",
      "  [ 8. 11. 14. 17.]]\n",
      "\n",
      " [[ 1.  4.  7. 10.]\n",
      "  [ 3.  6.  9. 12.]\n",
      "  [ 5.  8. 11. 14.]\n",
      "  [ 7. 10. 13. 16.]\n",
      "  [ 9. 12. 15. 18.]]\n",
      "\n",
      " [[ 2.  5.  8. 11.]\n",
      "  [ 4.  7. 10. 13.]\n",
      "  [ 6.  9. 12. 15.]\n",
      "  [ 8. 11. 14. 17.]\n",
      "  [10. 13. 16. 19.]]]\n"
     ]
    },
    {
     "data": {
      "text/plain": [
       "array([  7.,  10.,  29.,  70., 139.])"
      ]
     },
     "execution_count": 9,
     "metadata": {},
     "output_type": "execute_result"
    }
   ],
   "source": [
    "#Numpy Array aus Funktion erstellen\n",
    "    \n",
    "a = np.fromfunction(lambda i, j: i * j, (4, 5), dtype = float) #4 Reihen, 5 Spalten\n",
    "    \n",
    "print(f\" Das Array a: \\n\\n {a}\\n\")\n",
    "\n",
    "def sum_indices(x, y, z):\n",
    "    return x + 2*y + 3*z #Tiefe laüft mit x, Reihen mit 2* y , Spalten mit 3*z\n",
    "\n",
    "# Umwandeln in  vektorizierte lambda function\n",
    "f = sum_indices\n",
    "fv = np.vectorize(f)\n",
    "res = np.fromfunction(fv, (3, 5, 4)) #Tiefe 0-2, Reihen 0-5 , Spalten 0-4\n",
    "print(f\" Ein Array aus 3 2dimensionalen Arrays mit jeweils 5 Reihen und 4 Spalten.\\n\\n {res}\")\n",
    "\n",
    "def polynom_3(x):\n",
    "    return x**3 + 5 * x**2 - 3 * x + 7\n",
    "\n",
    "g = polynom_3\n",
    "gv = np.vectorize(g)\n",
    "np.fromfunction(gv,(5,)) #Tupel!"
   ]
  },
  {
   "cell_type": "markdown",
   "id": "b7a7aaef",
   "metadata": {},
   "source": [
    "Mehrdimensionale Arrays sind natürlich auch möglich. Die Dimensionen des Arrays können über numpy.shape abgefragt und auch gesetzt werden. Bei der shape Angabe ist die erste Zahl die Anzahl der Reihen, die zweite Zahl die Anzahl der Spalten und bei dreidimensionalen Arrays wird diesen beiden die Anzahl der Elemente in der Tiefe, der 3. Dimension, vorangestellt. Diese Reihenfolge spiegelt sich auch in der Benennung der Dimensionen wieder die als axis bezeichnet werden, so steht bei 3dimensionalen Arrays axis=0 für Reihenfolge der Unterarrays, axis=1 für die Reihen axis=2 für die Spalten der zweidimensionalen Unterarrays. Man kann mit shape auch ein Array in den Dimensionen umstrukturieren. Dabei muß natürlich weiderum dieselbe Summe an Plätzen für alle Elemente bereitgestellt werden."
   ]
  },
  {
   "cell_type": "code",
   "execution_count": 10,
   "id": "f142a30e",
   "metadata": {},
   "outputs": [
    {
     "name": "stdout",
     "output_type": "stream",
     "text": [
      " Shape des 2 dimensionalen Arrays (4, 3)\n",
      "\n",
      " 2 dimensionales Array nach reshaping \n",
      " [1 2 3 4 5 6] \n",
      " [ 7  8  9 -1 -2 -3]\n",
      "\n",
      " Shape des 3d Arrays (4, 2, 3)\n",
      "24\n",
      "6\n"
     ]
    }
   ],
   "source": [
    "my_array=np.array(\n",
    "        [[1,2,3],\n",
    "         [4,5,6],\n",
    "         [7,8,9],\n",
    "         [-1,-2,-3]])\n",
    "print(f\" Shape des 2 dimensionalen Arrays {np.shape(my_array)}\\n\")\n",
    "my_array.shape=(2,6)\n",
    "print(f\" 2 dimensionales Array nach reshaping \\n {my_array[0]} \\n {my_array[1]}\\n\")\n",
    "my_3dim_array=np.array([                   #Tiefe 4, also 4 2dimensionale Arrays, jeweils 2 Reihen, jeweils 3 Spalten\n",
    "                        [[1,2,3],\n",
    "                        [4,5,6]],\n",
    "    \n",
    "                        [[-2,-3,-4],\n",
    "                        [-5,-6,-7]],\n",
    "    \n",
    "                        [[10,20,30],\n",
    "                        [40,50,60]],\n",
    "    \n",
    "                        [[-1,-2,-3],\n",
    "                        [-4,-5,-6]],\n",
    "\n",
    "                        ])\n",
    "print(f\" Shape des 3d Arrays {my_3dim_array.shape}\")   \n",
    "print(my_3dim_array.size) #alle Elemente\n",
    "print(my_3dim_array[0].size) #ein Unterarray   "
   ]
  },
  {
   "cell_type": "markdown",
   "id": "ba441a4f",
   "metadata": {},
   "source": [
    "Die Indizierung eines NumPy-Arrays läuft für einzelne Elemente über die Aneinanderreihung der (nullbasierten) Indizes in den einzelnen Dimensionen in der Reihenfolge, die auch shape verwendet.\n",
    "Dabei gibt es die Möglichkeit dies mit der Aufreihung der Indizes in dieser Art zu machen:<br>\n",
    "my_3dim_array\\[3,1,0\\], welches effektiver ist als die Alternative: <br>\n",
    "my_3dim_array\\[3][1][0\\].\n"
   ]
  },
  {
   "cell_type": "code",
   "execution_count": 11,
   "id": "ba9a11d6",
   "metadata": {},
   "outputs": [
    {
     "name": "stdout",
     "output_type": "stream",
     "text": [
      "-4\n",
      "-4\n"
     ]
    }
   ],
   "source": [
    "print(my_3dim_array[3,1,0]) # 2dimensionales Array Tiefe 3 ,davon Reihe 1 und Spalte 0\n",
    "print(my_3dim_array[3][1][0]) \n"
   ]
  },
  {
   "cell_type": "markdown",
   "id": "444e8fae",
   "metadata": {},
   "source": [
    "Auch der übliche Teilbereichs-Operator ist bei NumPy-Arrays verwendbar. Bei eindimensionalen Arrays folgt er mit <b>[start:stop:step]</b> der Kernpython Syntax. "
   ]
  },
  {
   "cell_type": "code",
   "execution_count": 12,
   "id": "f9844472",
   "metadata": {},
   "outputs": [
    {
     "name": "stdout",
     "output_type": "stream",
     "text": [
      "[1 3]\n",
      "[0 1 2 3]\n",
      "[4 5 6]\n",
      "[0 1 2 3 4 5 6]\n"
     ]
    }
   ],
   "source": [
    "one_dim_array=np.array([0,1,2,3,4,5,6])\n",
    "print(one_dim_array[1:5:2])\n",
    "print(one_dim_array[:4])\n",
    "print(one_dim_array[4:])\n",
    "print(one_dim_array[:]) #Kopie\n"
   ]
  },
  {
   "cell_type": "markdown",
   "id": "b965dbd1",
   "metadata": {},
   "source": [
    "Bei mehrdimensionalen Arrays werden die jeweiligen Teilbereiche der einzelnen Dimensionen durch Kommata getrennt, also <b> [start:stop:step] der ersten Dimension, start:stop:step der zweiten Dimension...]</b>, wobei für die einzelnen Teilbereiche wieder die übliche Syntax gilt."
   ]
  },
  {
   "cell_type": "markdown",
   "id": "68770f6c",
   "metadata": {},
   "source": [
    "<b>Wollen wir den fettgedruckten Bereich ausschneiden aus </b><br><br>\n",
    "my_3dim_array=np.array(\\[<br><br>\n",
    "                        [[1,2,3],<br>\n",
    "                        [4,5,6]],<br>   \n",
    "                        [[-2,-3,-4],<br>\n",
    "                        [-5,-6,-7]],<br>    \n",
    "                        [[10,<b>20,30</b>],<br>\n",
    "                        [40,<b>50,60</b>]],<br>    \n",
    "                        [[-1,<b>-2,-3</b>],<br>\n",
    "                        [-4,<b>-5,-6</b>]],<br>\n",
    "                        \\])<br><br>\n",
    " <b>wollen wir haben: Teilarray Nr 2 und 3, davon jeweils beide Reihen und jeweils Spalte 1 und 2.</b>\n"
   ]
  },
  {
   "cell_type": "code",
   "execution_count": 13,
   "id": "b86e9468",
   "metadata": {},
   "outputs": [
    {
     "data": {
      "text/plain": [
       "array([[[20, 30],\n",
       "        [50, 60]],\n",
       "\n",
       "       [[-2, -3],\n",
       "        [-5, -6]]])"
      ]
     },
     "execution_count": 13,
     "metadata": {},
     "output_type": "execute_result"
    }
   ],
   "source": [
    "my_3dim_array[2:,:,1:]"
   ]
  },
  {
   "cell_type": "markdown",
   "id": "98109fec",
   "metadata": {},
   "source": [
    "Das Kopieren von Arrays geht mit <b>numpy.copy(my_array) oder my_array.copy(). </b>\n"
   ]
  },
  {
   "cell_type": "code",
   "execution_count": 14,
   "id": "93fff392",
   "metadata": {},
   "outputs": [],
   "source": [
    "my_array=np.array([1,2,3])\n",
    "new_array=np.copy(my_array)\n",
    "new_array1=my_array.copy()"
   ]
  },
  {
   "cell_type": "markdown",
   "id": "2a3064d3",
   "metadata": {},
   "source": [
    "Beim Einsatz von Numpy-Arrays im ML Bereich werden häufig Arrays miteinander verknüpft oder Dimensionen von Arrays verändert. Wir zeigen nun kurz die wichtigsten Techniken hierzu. Zunächst geht es um die Reduktion der Dimensionen eines mehrdimensionalen Arrays auf eine Dimension. Wir möchten also ein \"flachees\" Array erzeugen, indem wir Teile des mehrdimensionalen Arrays zusammenführen. Hierzu gibt es drei Methoden: ```flatten```, ```ravel``` und ```reshape```. Wir verdeutlichen diese wieder an unserem 3d Array:<br>\n",
    "my_3dim_array=np.array(\\[<br><br>\n",
    "                        [[1,2,3],<br>\n",
    "                        [4,5,6]],<br>   \n",
    "                        [[-2,-3,-4],<br>\n",
    "                        [-5,-6,-7]],<br>    \n",
    "                        [[10,<20,30],<br>\n",
    "                        [40,50,60]],<br>    \n",
    "                        [[-1,-2,-3],<br>\n",
    "                        [-4,-5,-6]],<br>\n",
    "                        \\])<br>\n",
    "Zunächst demonstrieren wir die Methode \"flatten\". Diese erzeugt eine eindimensionale Kopie des Originalarrays, die Reihenfolge der Sortierung in das neue Array kann über den Parameter \"order\" bestimmt werden, für den wir die wichtigsten Beispiele zeigen. (Für genaue Erklärung der Optionen bitte in der Hilfe nachschauen)."
   ]
  },
  {
   "cell_type": "code",
   "execution_count": 15,
   "id": "27f0553f",
   "metadata": {},
   "outputs": [
    {
     "name": "stdout",
     "output_type": "stream",
     "text": [
      "[ 1  2  3  4  5  6 -2 -3 -4 -5 -6 -7 10 20 30 40 50 60 -1 -2 -3 -4 -5 -6]\n",
      "[ 1 -2 10 -1  4 -5 40 -4  2 -3 20 -2  5 -6 50 -5  3 -4 30 -3  6 -7 60 -6]\n"
     ]
    }
   ],
   "source": [
    "flat_array = my_3dim_array.flatten()\n",
    "print(flat_array)\n",
    "flat_array = my_3dim_array.flatten(order=\"F\") #durch diesen Parameter kann man die Sortierreihenfolge ändern \"C\" ist default\n",
    "print(flat_array)"
   ]
  },
  {
   "cell_type": "markdown",
   "id": "f173b268",
   "metadata": {},
   "source": [
    "\"ravel\" liefert ebenfalls ein eindimensionales Array zurück, und erstellt keine Kopie sondern eine angepasste Ansicht des Ausgangsarrays, auch hier gibt es den Parameter \"order\" für die Reihenfolge."
   ]
  },
  {
   "cell_type": "code",
   "execution_count": 16,
   "id": "054b25ad",
   "metadata": {},
   "outputs": [
    {
     "name": "stdout",
     "output_type": "stream",
     "text": [
      "[ 1  2  3  4  5  6 -2 -3 -4 -5 -6 -7 10 20 30 40 50 60 -1 -2 -3 -4 -5 -6]\n"
     ]
    }
   ],
   "source": [
    "print(my_3dim_array.ravel()) #inplace\n",
    "\n"
   ]
  },
  {
   "cell_type": "markdown",
   "id": "7a71e3c1",
   "metadata": {},
   "source": [
    "Wann sollten wir also ```ravel``` und wann ```flatten``` benutzen? ```ravel``` ist schneller, weil es nur eine Ansicht des Arrays liefert , ```flatten``` macht eine Kopie des Originalarrays, Änderungen des Originalarrays wirken sich auf diese Kopie nicht aus."
   ]
  },
  {
   "cell_type": "code",
   "execution_count": 17,
   "id": "ec5b779c",
   "metadata": {},
   "outputs": [
    {
     "name": "stdout",
     "output_type": "stream",
     "text": [
      "[[[         1          2          3]\n",
      "  [         4          5 1234567890]]\n",
      "\n",
      " [[        -2         -3         -4]\n",
      "  [        -5         -6         -7]]\n",
      "\n",
      " [[        10         20         30]\n",
      "  [        40         50         60]]\n",
      "\n",
      " [[        -1         -2         -3]\n",
      "  [        -4         -5         -6]]]\n",
      "[         1          2          3          4          5 1234567890\n",
      "         -2         -3         -4         -5         -6         -7\n",
      "         10         20         30         40         50         60\n",
      "         -1         -2         -3         -4         -5         -6]\n"
     ]
    }
   ],
   "source": [
    "my_3dim_array=np.array([                  \n",
    "                        [[1,2,3],\n",
    "                        [4,5,6]],\n",
    "    \n",
    "                        [[-2,-3,-4],\n",
    "                        [-5,-6,-7]],\n",
    "    \n",
    "                        [[10,20,30],\n",
    "                        [40,50,60]],\n",
    "    \n",
    "                        [[-1,-2,-3],\n",
    "                        [-4,-5,-6]],\n",
    "\n",
    "                        ])\n",
    "\n",
    "rav = my_3dim_array.ravel()\n",
    "rav[5]=1234567890\n",
    "\n",
    "print(my_3dim_array) #das Element 1,1,1 des Originalarrays ist verändert\n",
    "print(rav)"
   ]
  },
  {
   "cell_type": "code",
   "execution_count": 18,
   "id": "644e8274",
   "metadata": {},
   "outputs": [
    {
     "name": "stdout",
     "output_type": "stream",
     "text": [
      "[[[ 1  2  3]\n",
      "  [ 4  5  6]]\n",
      "\n",
      " [[-2 -3 -4]\n",
      "  [-5 -6 -7]]\n",
      "\n",
      " [[10 20 30]\n",
      "  [40 50 60]]\n",
      "\n",
      " [[-1 -2 -3]\n",
      "  [-4 -5 -6]]]\n",
      "[         1          2          3          4          5 1234567890\n",
      "         -2         -3         -4         -5         -6         -7\n",
      "         10         20         30         40         50         60\n",
      "         -1         -2         -3         -4         -5         -6]\n"
     ]
    }
   ],
   "source": [
    "my_3dim_array=np.array([                  \n",
    "                        [[1,2,3],\n",
    "                        [4,5,6]],\n",
    "    \n",
    "                        [[-2,-3,-4],\n",
    "                        [-5,-6,-7]],\n",
    "    \n",
    "                        [[10,20,30],\n",
    "                        [40,50,60]],\n",
    "    \n",
    "                        [[-1,-2,-3],\n",
    "                        [-4,-5,-6]],\n",
    "\n",
    "                        ])\n",
    "\n",
    "flat = my_3dim_array.flatten()\n",
    "flat[5]=1234567890\n",
    "\n",
    "print(my_3dim_array) #das Element 1,1,1 des Originalarrays ist unverändert, da flat eine Kopie ist\n",
    "print(flat)"
   ]
  },
  {
   "cell_type": "markdown",
   "id": "5d9a71c8",
   "metadata": {},
   "source": [
    "Mit \"reshape\" kann man die Dimensionen eines Array ändern immer dann, wenn das Produkt der Dimensionslängen für das reshape- Array gleich dem des Originalarray ist. Es erzeugt eine Kopie."
   ]
  },
  {
   "cell_type": "code",
   "execution_count": 19,
   "id": "37e0904c",
   "metadata": {},
   "outputs": [
    {
     "name": "stdout",
     "output_type": "stream",
     "text": [
      " 12 * 2  \n",
      " [[ 1  2]\n",
      " [ 3  4]\n",
      " [ 5  6]\n",
      " [-2 -3]\n",
      " [-4 -5]\n",
      " [-6 -7]\n",
      " [10 20]\n",
      " [30 40]\n",
      " [50 60]\n",
      " [-1 -2]\n",
      " [-3 -4]\n",
      " [-5 -6]]\n",
      "--------------------------------------------------------------------------------\n",
      " 24   \n",
      " [ 1  2  3  4  5  6 -2 -3 -4 -5 -6 -7 10 20 30 40 50 60 -1 -2 -3 -4 -5 -6]\n",
      "--------------------------------------------------------------------------------\n",
      " 24 * 1   \n",
      " [[ 1]\n",
      " [ 2]\n",
      " [ 3]\n",
      " [ 4]\n",
      " [ 5]\n",
      " [ 6]\n",
      " [-2]\n",
      " [-3]\n",
      " [-4]\n",
      " [-5]\n",
      " [-6]\n",
      " [-7]\n",
      " [10]\n",
      " [20]\n",
      " [30]\n",
      " [40]\n",
      " [50]\n",
      " [60]\n",
      " [-1]\n",
      " [-2]\n",
      " [-3]\n",
      " [-4]\n",
      " [-5]\n",
      " [-6]]\n"
     ]
    }
   ],
   "source": [
    "my_3dim_array=np.array([                  \n",
    "                        [[1,2,3],\n",
    "                        [4,5,6]],\n",
    "    \n",
    "                        [[-2,-3,-4],\n",
    "                        [-5,-6,-7]],\n",
    "    \n",
    "                        [[10,20,30],\n",
    "                        [40,50,60]],\n",
    "    \n",
    "                        [[-1,-2,-3],\n",
    "                        [-4,-5,-6]],\n",
    "\n",
    "                        ])\n",
    "\n",
    "# shape ist 4,2,3: Produkt ist 24\n",
    "\n",
    "print(f\" 12 * 2  \\n {my_3dim_array.reshape(12,2)}\") # Produkt ebenfalls 24\n",
    "print(\"-\"*80)\n",
    "print(f\" 24   \\n {my_3dim_array.reshape(24)}\") # ebenfalls 24 !!!  aber 1 Reihe !!!\n",
    "print(\"-\"*80)\n",
    "print(f\" 24 * 1   \\n {my_3dim_array.reshape(24,1)}\") # Produkt ebenfalls 24 !!! 24 Reihen  1 Spalte !!!"
   ]
  },
  {
   "cell_type": "markdown",
   "id": "0f250dbd",
   "metadata": {},
   "source": [
    "Das Zusammenführen oder Konkatenieren ist bei eindimensionalen Arrays einfach und intuitiv. Man beachte allerdings, daß die zusammenzuführenden Arrays als Tupel eingegeben werden müssen. Die einfache Benutzung von \"+\" als überladener Operator geht hingegen nicht."
   ]
  },
  {
   "cell_type": "code",
   "execution_count": 20,
   "id": "df36c299",
   "metadata": {},
   "outputs": [
    {
     "name": "stdout",
     "output_type": "stream",
     "text": [
      "[1 2 3 4 5 6 7]\n"
     ]
    }
   ],
   "source": [
    "my_array_a=np.array([1,2,3,4,5])\n",
    "my_array_b=np.array([6,7])\n",
    "new_array=np.concatenate((my_array_a,my_array_b)) # Achtung Eingabe der Arrays als Tupel\n",
    "print(new_array)\n",
    "#print(my_array_a + my_array_b) #dies geht hingegen nicht"
   ]
  },
  {
   "cell_type": "markdown",
   "id": "75f303cb",
   "metadata": {},
   "source": [
    "Bei mehrdimensional Arrays muss man die gewünschte Achse der Zusammenführung mit dem \"axis\" Parameter angeben, grundsätzlich müssen die Arrays den gleichen shape haben."
   ]
  },
  {
   "cell_type": "code",
   "execution_count": 21,
   "id": "a1e190a5",
   "metadata": {},
   "outputs": [
    {
     "name": "stdout",
     "output_type": "stream",
     "text": [
      " a: [ 0  1  2  3  4  5  6  7  8  9 10 11]\n",
      " b: [12 13 14 15 16 17 18 19 20 21 22 23]\n",
      "--------------------------------------------------------------------------------\n",
      " a reshaped:\n",
      " [[ 0  1  2  3]\n",
      " [ 4  5  6  7]\n",
      " [ 8  9 10 11]]\n",
      "\n",
      "--------------------------------------------------------------------------------\n",
      " a und b entlang Achse 0 zusammengeführt:\n",
      "[[ 0  1  2  3]\n",
      " [ 4  5  6  7]\n",
      " [ 8  9 10 11]\n",
      " [12 13 14 15]\n",
      " [16 17 18 19]\n",
      " [20 21 22 23]]\n",
      "\n",
      "--------------------------------------------------------------------------------\n",
      " a und b entlang Achse 1 zusammengeführt:\n",
      "[[ 0  1  2  3 12 13 14 15]\n",
      " [ 4  5  6  7 16 17 18 19]\n",
      " [ 8  9 10 11 20 21 22 23]]\n",
      "\n"
     ]
    }
   ],
   "source": [
    "a = np.arange(12)\n",
    "b = np.arange(12,24)\n",
    "new_a = a.reshape(3,4) # 3 Reihen , 4 Spalten\n",
    "new_b = b.reshape(3,4)\n",
    "print(f\" a: {a}\")  # Ursprungsarray\n",
    "print(f\" b: {b}\")  # Ursprungsarray \n",
    "print(\"-\"*80)\n",
    "print(f\" a reshaped:\\n {new_a}\\n\") #reshaped\n",
    "print(\"-\"*80)\n",
    "my_3dim_0=np.concatenate((new_a,new_b),axis=0)\n",
    "print(f\" a und b entlang Achse 0 zusammengeführt:\\n{my_3dim_0}\\n\") #die einzelnen Teilarrays werden entlang der Reihen, axis 0 bei 2 Dimensionen, zusammengefasst\n",
    "print(\"-\"*80)\n",
    "my_3dim_1=np.concatenate((new_a,new_b),axis=1)\n",
    "print((f\" a und b entlang Achse 1 zusammengeführt:\\n{my_3dim_1}\\n\")) # die einzelnen Teilarrays werden entlang der Spalten, axis 1 bei 2 Dimensionen, zusammengefasst\n",
    "\n",
    "                \n",
    "                         "
   ]
  },
  {
   "cell_type": "markdown",
   "id": "46a89093",
   "metadata": {},
   "source": [
    "Man kann so auch Vektoren (als eindimensionale Arrays) mit ```concatenate``` zusammenführen. Andererseits möchte man oft in ML Vektoren zusammenfassen (zum Beispiel, wenn man alle Features von allen Samples zusammenbringen möchte) und in ein Array mit einer oder mehreren Zusatzspalte/n oder -reihe/n für den/die hinzugefügten Vektor/en speichern. Dafür gibt es das häufig verwendete ```dstack``` , ```row_stack``` oder ```column_stack```. Auch hier müssen die Vektoren als Tupel eingegeben werden."
   ]
  },
  {
   "cell_type": "code",
   "execution_count": 22,
   "id": "fe5190e2",
   "metadata": {},
   "outputs": [
    {
     "name": "stdout",
     "output_type": "stream",
     "text": [
      "einfaches Konkatenieren:\n",
      " [ 1  2  3  4  5  6  7  8  9 10]\n",
      "\n",
      "Spaltenweise in 2d Array:\n",
      " [[ 1  6]\n",
      " [ 2  7]\n",
      " [ 3  8]\n",
      " [ 4  9]\n",
      " [ 5 10]]\n",
      "\n",
      "Reihenweise in 2d Array:\n",
      " [[ 1  2  3  4  5]\n",
      " [ 6  7  8  9 10]]\n",
      "\n",
      "Spaltenweise zusammengefasst und als erstes Teilarray in 3d Array:\n",
      " [[[ 1  6]\n",
      "  [ 2  7]\n",
      "  [ 3  8]\n",
      "  [ 4  9]\n",
      "  [ 5 10]]]\n"
     ]
    },
    {
     "data": {
      "text/plain": [
       "(1, 5, 2)"
      ]
     },
     "execution_count": 22,
     "metadata": {},
     "output_type": "execute_result"
    }
   ],
   "source": [
    "v1=np.array([1,2,3,4,5])\n",
    "v2=np.array([6,7,8,9,10])\n",
    "new_array= np.concatenate((v1,v2)) # Bildung eines neuen eindimensionalen Arrays aus v1 und v2\n",
    "print(f\"einfaches Konkatenieren:\\n {new_array}\\n\")\n",
    "print(f\"Spaltenweise in 2d Array:\\n {np.column_stack((v1,v2))}\\n\") # Zusatzspalte für 2.Vektor\n",
    "print(f\"Reihenweise in 2d Array:\\n {np.row_stack((v1,v2))}\\n\") # Zusatzreihe für 2.Vektor\n",
    "print(f\"Spaltenweise zusammengefasst und als erstes Teilarray in 3d Array:\\n {np.dstack((v1,v2))}\") # lege v1 und v2 zusammen in 2d Array und nimm dies als ersten Eintrag eines 3d Arrays\n",
    "np.dstack((v1,v2)).shape"
   ]
  },
  {
   "cell_type": "markdown",
   "id": "d0d66bc9",
   "metadata": {},
   "source": [
    "Nachdem wir uns bisher mit der Erzeugung und den Dimensionen von NumPy-Arrays beschäftigt haben, wollen wir jetzt die Operationen vorstellen, die mit diesen Arrays durchgeführt werden können. Sie stellen einen sehr wertvollen Teil der Arbeit mit Numpy dar. Für ML ist vor allem der elegante Umgang mit Matrizen (als 2dimensionale Arrays implementiert) essentiell.\n",
    "Bereits zu Beginn des Kapitels hatten wir ein Array mit einem Skalar, hier einem einfachen numerischen Ausdruck, verknüpft. Ausserdem hatten wir eine einfache Funktion gezeigt, die sowohl mit Arrays als auch mit Skalaren arbeiten kann."
   ]
  },
  {
   "cell_type": "code",
   "execution_count": 23,
   "id": "c5756b57",
   "metadata": {},
   "outputs": [
    {
     "name": "stdout",
     "output_type": "stream",
     "text": [
      "[ 73.4  98.6 212. ]\n"
     ]
    }
   ],
   "source": [
    "celsius=np.array([23,37,100])\n",
    "fahrenheit= celsius * 9 / 5 + 32   #Die Operation wird über das ganze Array durchgeführt.\n",
    "print(fahrenheit)\n"
   ]
  },
  {
   "cell_type": "code",
   "execution_count": 24,
   "id": "b5d0a2bc",
   "metadata": {},
   "outputs": [
    {
     "name": "stdout",
     "output_type": "stream",
     "text": [
      "6\n",
      "[4 5 6 7]\n"
     ]
    }
   ],
   "source": [
    "def general_add(x):\n",
    "    return x+3\n",
    "\n",
    "print(general_add(3))\n",
    "print(general_add(np.array([1,2,3,4])))"
   ]
  },
  {
   "cell_type": "markdown",
   "id": "8d28bef9",
   "metadata": {},
   "source": [
    "Arrays lassen sich auch sehr einfach filtern nach bestimmten Konditionen mit numpy.where.\n",
    "Zunächst kommt dabei die Bedingung, dann woraus die Elemente genommen werden sollen, wenn die Bedingung stimmt (hier a). Als letztes woraus die Elemente stammen sollen, falls die Bedingung False ergibt (hier b):"
   ]
  },
  {
   "cell_type": "code",
   "execution_count": 25,
   "id": "058b9170",
   "metadata": {},
   "outputs": [
    {
     "name": "stdout",
     "output_type": "stream",
     "text": [
      "[ 0  1  2  3  4 25 26 27 28 29]\n"
     ]
    }
   ],
   "source": [
    "a=np.arange(10)\n",
    "b=np.arange(20,30)\n",
    "a_gefiltert = np.where(a<5, a,b)\n",
    "print(a_gefiltert)"
   ]
  },
  {
   "cell_type": "markdown",
   "id": "45877f32",
   "metadata": {},
   "source": [
    "Wollen wir statt mit Skalaren zu arbeiten, <b>zwei Arrays</b> miteinander numerisch verknüpfen, <b>werden die jeweils vergleichbaren Elemente der Arrays miteinander verrechnet</b> und können dann in ein neues Array abgespeichert werden. Wir zeigen dies hier für Addition, Division, Modulo als Beispiele mit eindimensionalen Arrays."
   ]
  },
  {
   "cell_type": "code",
   "execution_count": 26,
   "id": "6177c0f2",
   "metadata": {},
   "outputs": [
    {
     "name": "stdout",
     "output_type": "stream",
     "text": [
      "[11 23 35 47]\n",
      "[10.          6.66666667  6.          5.71428571]\n",
      "[0 2 0 5]\n"
     ]
    }
   ],
   "source": [
    "my_arr_1=np.array([10,20,30,40])\n",
    "my_arr_2=np.array([1,3,5,7])\n",
    "print(my_arr_1+my_arr_2)\n",
    "print(my_arr_1/my_arr_2)\n",
    "print(my_arr_1%my_arr_2)"
   ]
  },
  {
   "cell_type": "markdown",
   "id": "c610928e",
   "metadata": {},
   "source": [
    "Auch die Matrizenmultiplikation und die Erstellung eines Skalarproduktes sind mit Numpy denkbar einfach. (Dies wird häufig benötigt, um z.B. Features mit ihren zugehörigen Gewichten zu multiplizieren und das Ergebnis zu summieren (sogennate gewichtete Summe), um den Vorhersagewert zu produzieren, wie wir es z.B. in unserem Kategorisierer getan haben. In NumPy geht dies in einer Zeile. X ist hierbei die Matrix aller Features aller Fallbeispiele, W die Matrix aller zugehörigen Gewichte der einzelnen Features. Man muss dann nur <b>np.dot(X.T,W)</b> schreiben und hat als Ergebniss den kompletten y_vor (Vorhersage) Vektor. Dies nur, um zu zeigen, wieviel einfacher der Code wird, bei Einbindung von NumPy. Später viel mehr dazu.) "
   ]
  },
  {
   "cell_type": "markdown",
   "id": "74386198",
   "metadata": {},
   "source": [
    "Nun müssen wir (wegen der begrenzten Zeit) die mathematische Vorgehensweise bei der Vektor- und Matrizenmultiplikation voraussetzen. "
   ]
  },
  {
   "cell_type": "code",
   "execution_count": 27,
   "id": "249997df",
   "metadata": {},
   "outputs": [
    {
     "name": "stdout",
     "output_type": "stream",
     "text": [
      " Skalarmultiplikation: 30\n",
      " Dotmultiplikation von Vektoren: 96\n"
     ]
    }
   ],
   "source": [
    "#Vektor dot Produkt\n",
    "a=np.array([5]) #Skalar\n",
    "b=np.array([6]) #Skalar\n",
    "c=np.array([12,24]) #eindimensionales Array\n",
    "d=np.array([2,3]) #eindimensionales Array\n",
    "print(f\" Skalarmultiplikation: {np.dot(a,b)}\") #Achtung hier Eingabe Komma-getrennt einzeln, nicht als Tupel wie in concatenate ...Warum? Who knows?\n",
    "#print(np.dot(a,c)) #hier passen die Dimensionen nicht\n",
    "print(f\" Dotmultiplikation von Vektoren: {np.dot(c,d)}\") # 2*12+3*24"
   ]
  },
  {
   "cell_type": "markdown",
   "id": "86962907",
   "metadata": {},
   "source": [
    "Bei zweidimensionalen Arrays kann man eine Matrizenmultiplikation durchführen (Dimensionen müssen passen):"
   ]
  },
  {
   "cell_type": "code",
   "execution_count": 28,
   "id": "6fc6d661",
   "metadata": {},
   "outputs": [
    {
     "name": "stdout",
     "output_type": "stream",
     "text": [
      "(3, 2)\n",
      "(2, 3)\n",
      "[[190 260 330]\n",
      " [290 400 510]\n",
      " [390 540 690]]\n",
      "[[190 260 330]\n",
      " [290 400 510]\n",
      " [390 540 690]]\n"
     ]
    }
   ],
   "source": [
    "a2_dim=np.array([\n",
    "    [3,4],\n",
    "    [5,6],\n",
    "    [7,8]\n",
    "])\n",
    "print(a2_dim.shape)\n",
    "b2_dim=np.array([\n",
    "    [10,20,30],\n",
    "    [40,50,60]\n",
    "])\n",
    "print(b2_dim.shape) #sahpes passen , Ergebniss 3 x 3\n",
    "print(np.dot(a2_dim,b2_dim))\n",
    "print(np.matmul(a2_dim,b2_dim)) #hier dot und matmul identisch, unterscheiden sich, wenn Matrizenelemte selber Arrays sind"
   ]
  },
  {
   "cell_type": "markdown",
   "id": "e89a3e6c",
   "metadata": {},
   "source": [
    "Man kann auch Identitätsmatrizen erzeugen und Matrizen transponieren. \n"
   ]
  },
  {
   "cell_type": "code",
   "execution_count": 29,
   "id": "026c4b40",
   "metadata": {},
   "outputs": [
    {
     "name": "stdout",
     "output_type": "stream",
     "text": [
      "[[1 2 3 4]\n",
      " [5 6 7 8]]\n",
      "[[1 5]\n",
      " [2 6]\n",
      " [3 7]\n",
      " [4 8]]\n",
      "[[1. 0. 0. 0.]\n",
      " [0. 1. 0. 0.]\n",
      " [0. 0. 1. 0.]\n",
      " [0. 0. 0. 1.]]\n"
     ]
    }
   ],
   "source": [
    "X=np.array([\n",
    "    [1,2,3,4],\n",
    "    [5,6,7,8]\n",
    "])\n",
    "print(X)\n",
    "print(X.T) #transponiert\n",
    "print(np.identity(4)) #Identitätsmatrix 4 * 4"
   ]
  },
  {
   "cell_type": "markdown",
   "id": "d2e866e8",
   "metadata": {},
   "source": [
    "Eine wichtige Methode, die beim ML häufig genutzt wird ist np.unique. Dieses zählt in einem np.array dias Vorkommen aller Elemente und gibt die  gefundenen Elemente und deren Anzahl als 2 numpy arrays aus. <br>\n",
    "numpy.unique(ar, return_index=False, return_inverse=False, return_counts=False, axis=None)<br> Mit return_index kann man sich ausgeben lassen, wo das erste Vorkommen der gefundenen Elemente in dem Ausgangsarray ist."
   ]
  },
  {
   "cell_type": "code",
   "execution_count": 52,
   "id": "e25a678c",
   "metadata": {},
   "outputs": [
    {
     "name": "stdout",
     "output_type": "stream",
     "text": [
      " Das Array: [1 2 1 3 2 4 1 2 5]\n",
      " Die Elemente: [1 2 3 4 5]  Index des ersten Vorkommens: [0 1 3 5 8]   Häufigkeiten: [3 3 1 1 1]\n"
     ]
    }
   ],
   "source": [
    "test_array=np.array([1,2,1,3,2,4,1,2,5])\n",
    "elems,index,number=np.unique(test_array,return_index=True,return_counts=True)\n",
    "print(f\" Das Array: {test_array}\")\n",
    "print(f\" Die Elemente: {elems}  Index des ersten Vorkommens: {index}   Häufigkeiten: {number}\")"
   ]
  },
  {
   "cell_type": "markdown",
   "id": "2a76a4c9",
   "metadata": {},
   "source": [
    "An dieser Stelle wissen wir genug über NumPy, um unseren binären Klassifizierer mit NumPy-Arrays zu erstellen und zu zeigen, wieviel übersichtlicher der Code wird. Damit können wir vielleicht die Motivation, Numpy zu lernen erhalten. Hier haben wir im Übrigen alle 3 Features aus unserer Autodatei verwendet. Noch nicht gesehen haben wir lediglich np.loadtxt zum Einlesen eines Textfiles, wozu wir sofort kommen. Wenn man die Funktionsdefinitionsstrings ausser acht lässt, sieht man, wie wenig Code nötig ist. Man benötigt, wenn man vom Testen absieht nur 16 Zeilen Code."
   ]
  },
  {
   "cell_type": "code",
   "execution_count": 2,
   "id": "7661055b",
   "metadata": {},
   "outputs": [
    {
     "name": "stdout",
     "output_type": "stream",
     "text": [
      "Richtig sind: 40 von: 50 , das sind: 80.00 Prozent\n",
      "Die sigmoid Funktion muss mit sehr grossen und kleinen Werten umgehen, deshalb die Warnung.\n",
      "NumPy fängt den Fehler ab und arbeitet weiter, math würde abbrechen\n"
     ]
    }
   ],
   "source": [
    "#binärer Klassifikator\n",
    "\n",
    "import numpy as np \n",
    "import warnings\n",
    "warnings.filterwarnings(\"ignore\")\n",
    "\n",
    "def erstelle_y_vor(X, g):\n",
    "    \"\"\"erstellt die Gewichtete Summe: feature1*Gewicht1+ feature2*Gewicht2 ... für alle Samples\n",
    "    X Array mit allen Features von allen Samples 2 dim, g Array aller Gewichte 1 dim \"\"\"\n",
    "    gewichtete_summe = np.dot(X, g)\n",
    "    return mache_sigmoid(gewichtete_summe)\n",
    "\n",
    "\n",
    "def runde_auf_0_und_1(X, g):\n",
    "    \"\"\" rundet die Ergebnisse für die Ausgabe auf 1 oder 0\"\"\"\n",
    "    return np.round(erstelle_y_vor(X, g))\n",
    "\n",
    "\n",
    "def leite_Fehlerfunktion_ab(X, Y, g):\n",
    "    \"\"\"multipliziert die Matrizen für X mit allen Features für alle Samples, transponiert diese Matrix zum \n",
    "    multiplizieren und betimmt davon den mittleren Wert \"\"\"\n",
    "    return (np.dot(X.T, (erstelle_y_vor(X, g) - Y))/X.shape[0])\n",
    "\n",
    "\n",
    "def trainiere(X, Y, anzahl, lernrate):\n",
    "    \"\"\"lässt den Trainingsvorgang über anzahl Schritte laufen, optimiert die Gewichtsmatrix entsprechend\n",
    "    der Ableitung der Fehlerfunktion\n",
    "    \"\"\"\n",
    "    w = np.zeros((X.shape[1], 1)) #X.shape[1] 4 Spalten \n",
    "    for i in range(anzahl):        \n",
    "        w -= leite_Fehlerfunktion_ab(X, Y, w) * lernrate\n",
    "    return w\n",
    "\n",
    "def berechne_Fehler(X, Y, g):\n",
    "    \"\"\"Bestimmt die logarithmische Fehlerfunktion aus den y_vor Werten,\n",
    "    die mit erstelle_y_vor produziert wurden und mit den wahren Y Werten,\n",
    "    die im eindimensionalen Array Y gespeichert sind\n",
    "    \"\"\"\n",
    "    y_vor = erstelle_y_vor(X, g)    \n",
    "    return -np.average(Y * np.log(y_vor)+(1 - Y) * np.log(1 - y_vor))\n",
    "\n",
    "\n",
    "    \n",
    "def mache_sigmoid(a):\n",
    "    \"\"\"erzeugt den Wert der Sigmoid Funktion\n",
    "    \"\"\"\n",
    "    return 1 / (1 + np.exp(-a))\n",
    "    \n",
    "    \n",
    "    \n",
    "    \n",
    "    \n",
    "\n",
    "def teste_ergebnis(X, Y, g):\n",
    "    \"\"\"Berechne den Prozentsatz richtiger Ergebnisse\"\"\"\n",
    "    gesamtzahl = Y.size   \n",
    "    richtige = np.sum(runde_auf_0_und_1(X, g) == Y)\n",
    "    erfolgsrate = richtige * 100 / gesamtzahl\n",
    "    print(f\"Richtig sind: {richtige:2d} von: {gesamtzahl:2d} , das sind: {richtige/gesamtzahl * 100:5.2f} Prozent\" )\n",
    "    print(\"Die sigmoid Funktion muss mit sehr grossen und kleinen Werten umgehen, deshalb die Warnung.\")\n",
    "    print(\"NumPy fängt den Fehler ab und arbeitet weiter, math würde abbrechen\")\n",
    "          \n",
    "\n",
    "# Aufbereitung der Daten\n",
    "f1, f2, f3,  y = np.loadtxt(\"Data/Autos2.txt\", skiprows=1,unpack=True) #Features und Labels\n",
    "X = np.column_stack((np.ones(f1.size), f1, f2 , f3))\n",
    "Y = y.reshape(y.size, 1)\n",
    "\n",
    "w = trainiere(X, Y, anzahl=1000, lernrate=0.01)\n",
    "\n",
    "# Test\n",
    "teste_ergebnis(X, Y, w)"
   ]
  },
  {
   "cell_type": "markdown",
   "id": "260826f3",
   "metadata": {},
   "source": [
    "Sehr elegant lassen sich auch Vergleichsoperatoren auf Arrays anwenden und dann Boolsche Arrays zurückgeben."
   ]
  },
  {
   "cell_type": "markdown",
   "id": "eeab2ae5",
   "metadata": {},
   "source": [
    "Arrays lassen sich sortieren und filtern, letzteres kann man durch sogenannte \"Fancy-Indizierung\" durchführen, wobei der Index durch einen logischen Ausdruck ersetzt wird und dann nur Elemente zurückgegeben werden, für die diese Bedingung \"True\" liefert."
   ]
  },
  {
   "cell_type": "code",
   "execution_count": 31,
   "id": "7d1901b3",
   "metadata": {},
   "outputs": [
    {
     "data": {
      "text/plain": [
       "array([2, 4, 6])"
      ]
     },
     "execution_count": 31,
     "metadata": {},
     "output_type": "execute_result"
    }
   ],
   "source": [
    "\n",
    "a=np.array([4,2,6])\n",
    "a.sort()\n",
    "a"
   ]
  },
  {
   "cell_type": "code",
   "execution_count": 32,
   "id": "2f4233dc",
   "metadata": {},
   "outputs": [
    {
     "data": {
      "text/plain": [
       "array([2, 4])"
      ]
     },
     "execution_count": 32,
     "metadata": {},
     "output_type": "execute_result"
    }
   ],
   "source": [
    "a[a<5] #Filtern mit einem logischen Ausdruck als Index\n"
   ]
  },
  {
   "cell_type": "markdown",
   "id": "8ab861a5",
   "metadata": {},
   "source": [
    "Eine wichtige Methode ist np.where. numpy.where(condition, [x, y, ]) Hier wird je nachdem, ob condition False oder True ist der erste Ausdruck zurückgegeben oder der zweite. "
   ]
  },
  {
   "cell_type": "code",
   "execution_count": 55,
   "id": "da417a28",
   "metadata": {},
   "outputs": [
    {
     "data": {
      "text/plain": [
       "array([0, 0, 3])"
      ]
     },
     "execution_count": 55,
     "metadata": {},
     "output_type": "execute_result"
    }
   ],
   "source": [
    "x=np.array([1,2,3])\n",
    "\n",
    "np.where(x>2,x,0)"
   ]
  },
  {
   "cell_type": "markdown",
   "id": "a0cb293d",
   "metadata": {},
   "source": [
    "Nun zum Lesen und Schreiben von Daten-Files in Verbindung mit NumPy.  \n",
    "<br> Wir erstellen zuerst ein Textfile und lesen es dann ein."
   ]
  },
  {
   "cell_type": "code",
   "execution_count": 33,
   "id": "a2d88713",
   "metadata": {},
   "outputs": [],
   "source": [
    "x = np.array([[1,2,3],[2,3,4]])\n",
    "np.savetxt(\"Data/Test.txt\",x)\n"
   ]
  },
  {
   "cell_type": "markdown",
   "id": "25993cfa",
   "metadata": {},
   "source": [
    "Diese Datei hat den folgtenden Inhalt:<br>\n",
    "1.000000000000000000e+00 2.000000000000000000e+00 3.000000000000000000e+00<br>\n",
    "2.000000000000000000e+00 3.000000000000000000e+00 4.000000000000000000e+00\n"
   ]
  },
  {
   "cell_type": "markdown",
   "id": "f6d536ee",
   "metadata": {},
   "source": [
    "Wir können aber den Typ der Daten bestimmen, die abgelegt werden, und auch, ob wir ein Trennzeichen wollen."
   ]
  },
  {
   "cell_type": "code",
   "execution_count": 34,
   "id": "dc2580ad",
   "metadata": {},
   "outputs": [],
   "source": [
    "x = np.array([[1,2,3],[2,3,4]])\n",
    "np.savetxt(\"Data/Test.txt\",x,fmt=\"%4d\")"
   ]
  },
  {
   "cell_type": "markdown",
   "id": "8c80e120",
   "metadata": {},
   "source": [
    "Nun erhalten wir:<br>\n",
    "   1    2    3<br>\n",
    "   2    3    4"
   ]
  },
  {
   "cell_type": "code",
   "execution_count": 35,
   "id": "8d4d68e5",
   "metadata": {},
   "outputs": [],
   "source": [
    "x = np.array([[1,2,3],[2,3,4]])\n",
    "np.savetxt(\"Data/Test.txt\",x,fmt=\"%4d\",delimiter=\",\") #erzeugt Trenzeichen"
   ]
  },
  {
   "cell_type": "markdown",
   "id": "a6827bcb",
   "metadata": {},
   "source": [
    "Nun erhalten wir:<br>\n",
    "   1,    2,    3<br>\n",
    "   2,    3,    4"
   ]
  },
  {
   "cell_type": "markdown",
   "id": "8abd6c87",
   "metadata": {},
   "source": [
    "Laden können wir die Datei mit np.loadtxt()."
   ]
  },
  {
   "cell_type": "code",
   "execution_count": 36,
   "id": "e392ce78",
   "metadata": {},
   "outputs": [
    {
     "name": "stdout",
     "output_type": "stream",
     "text": [
      "[[1. 2. 3.]\n",
      " [2. 3. 4.]]\n"
     ]
    }
   ],
   "source": [
    "y = np.loadtxt(\"Data/Test.txt\",delimiter=\",\")\n",
    "print(y)"
   ]
  },
  {
   "cell_type": "markdown",
   "id": "e6259daf",
   "metadata": {},
   "source": [
    "Eine interessante Möglichkeit ist, eine oder mehrere Überschriftszeilen nicht zu übernehmen mit ```skiprows```.\n",
    "Hätten wir z.B. diese Datei:<br>\n",
    "Kosten  Gewinn  KundenNr<br>\n",
    "1234    2345    12345<br>\n",
    "3452    4323    34523<br>\n",
    "  ..."
   ]
  },
  {
   "cell_type": "markdown",
   "id": "ba936370",
   "metadata": {},
   "source": [
    "Mit <b>np.loadtxt(\"DieseDatei.txt\",skiprows=1)</b> vermeiden wir, daß die erste Reihe als Daten übernommen wird."
   ]
  },
  {
   "cell_type": "markdown",
   "id": "f686b3b6",
   "metadata": {},
   "source": [
    "Mit <b>unpack=True</b> kann man die Spalten des eingelesenen Arrays entpacken in einzelne Felder."
   ]
  },
  {
   "cell_type": "code",
   "execution_count": 37,
   "id": "d7931b10",
   "metadata": {},
   "outputs": [
    {
     "name": "stdout",
     "output_type": "stream",
     "text": [
      "[1. 2.]\n",
      "[2. 3.]\n",
      "[3. 4.]\n"
     ]
    }
   ],
   "source": [
    "y1,y2,y3 = np.loadtxt(\"Data/Test.txt\",delimiter=\",\",unpack=True)\n",
    "print(y1)\n",
    "print(y2)\n",
    "print(y3)"
   ]
  },
  {
   "cell_type": "markdown",
   "id": "34494681",
   "metadata": {},
   "source": [
    "Damit möchten wir jetzt dieses sehr lange Kapitel abschliessen und hoffen, daß Sie einen Eindruck der vielfältigen Möglichkeiten von NumPy bekommen haben, für weitere Informationen verweisen wir auf die NumPy Dokumentation, das Buch \"Numerisches Python\" von B. Klein oder die Webseite https://python-course.eu/numpy.php."
   ]
  },
  {
   "cell_type": "code",
   "execution_count": null,
   "id": "37d85495",
   "metadata": {},
   "outputs": [],
   "source": []
  }
 ],
 "metadata": {
  "kernelspec": {
   "display_name": "Python 3 (ipykernel)",
   "language": "python",
   "name": "python3"
  },
  "language_info": {
   "codemirror_mode": {
    "name": "ipython",
    "version": 3
   },
   "file_extension": ".py",
   "mimetype": "text/x-python",
   "name": "python",
   "nbconvert_exporter": "python",
   "pygments_lexer": "ipython3",
   "version": "3.9.12"
  }
 },
 "nbformat": 4,
 "nbformat_minor": 5
}
