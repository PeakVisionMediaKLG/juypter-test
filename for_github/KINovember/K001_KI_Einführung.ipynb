{
 "cells": [
  {
   "cell_type": "markdown",
   "id": "b5766691",
   "metadata": {},
   "source": [
    "## Einführung in Künstliche Intelligenz und Maschinelles Lernen"
   ]
  },
  {
   "cell_type": "markdown",
   "id": "66f394cd",
   "metadata": {},
   "source": [
    "<img width=400 height=400 class=\"imgright\" src=\"Images/AI.jpg\"><br><br>\n",
    "Das Stichwort \"künstliche Intelligenz\" (KI) ist in den letzten Jahren nahezu überall zu finden. Fast jeder hat eine irgendwie geartete Vorstellung, worum es dabei geht, bei manchen geprägt durch Angst vor dem Unbekannten und der Furcht davor, von Maschinen ersetzt zu werden. Bei anderen wiederum ist die KI mit nahezu göttlichen Verheißungen besetzt - als die Lösung aller Probleme.\n",
    "Wir möchten nun versuchen, eine sinnvolle Definition zu finden und dabei auch die Abgrenzung von künstlicher Intelligenz im allgemeinen zum maschinellem Lernen beleuchten.<br><br>\n",
    "<b>Künstliche Intelligenz ist die Art so mit Maschinen umzugehen, daß sie \"intelligent\" handeln können.</b><br>\n",
    "Solche Definitionen mit offensichtlichen Zirkelschlüssen findet man sehr häufig.\n",
    "Also was heißt hier \"intelligent\"? Diese Art von Definitionen führen uns nicht weiter.<br><br>\n",
    "Hier brauchbarere Definition des EU-Parlaments:<br>\n",
    "<b>\"Künstliche Intelligenz ist die Fähigkeit einer Maschine, menschliche Fähigkeiten wie logisches Denken, Lernen, Planen und Kreativität zu imitieren.\"</b> <br>\n",
    "Wir erkennen bei dieser Definition, daß der Mensch hier zum Maß aller Dinge gemacht wird. Und in der Tat ist die KI sehr mit dem Vergleich zum menschlichen Handeln belastet und oft wird auch argumentiert, daß man hier mit den Mitteln der Informatik versucht, das menschliche Gehirn nachzubilden und eventuell sogar in seiner Leistungsfähigkeit zu übertreffen. Bezeichnenend ist auch das Wort \"imitieren\" in der Definition, hier erkennt man gut, daß der KI eine \"echte Intelligenz\" nicht zugetraut wird.\n"
   ]
  },
  {
   "cell_type": "markdown",
   "id": "8f9135a6",
   "metadata": {},
   "source": [
    "Das Ziel scheint zu sein, den Verstand des Menschen nachzubilden. Als \"Abfallprodukt\" stellt man sich vor, hierdurch auch Möglichkeiten aufgedecken, den menschlichen Geist eventuell besser zu verstehen. Manche Werkzeuge der KI, wie zum Beispiel neuronale Netze, werden auch heute noch als vereinfachte Nachbildungen eines Gehirns mit seinen Nervenzellen und deren Verbindungen angesehen, es wird damit also (wenn auch auf sehr vereinfachendem Niveau) versucht, die Hardware des Gehirns nachzubauen. <br><br>\n",
    "Die Geschichte der KI ist interessant.<br>\n",
    "Ende der 50er Jahre des vorherigen Jahrhunderts kam es vor allem wegen der nun verfügbaren ersten leistungsfähigeren Computern verbunden mit der Entwicklung von leichter zu handhabenden symbolischen Programmiersprachen zu einem Interesse an einer \"künstlichen Intelligenz\", welche man versuchte zu entwickeln und in der Praxis zu nutzen.<br><br>\n",
    "Über viele Jahre entwickelte sich dabei als eine Strömung in der KI das Bestreben, möglichst viele der Prozesse und Bauprinzipien, die man im menschlichen Hirn nachgewiesen oder zumindest vermutet hatte, mit Computern nachzubilden, sozusagen aus vielen Teilen dann ein komplettes menschliches Hirn nachzubauen.<br><br>  So versuchten insbesondere die sogenannten <b>\"Konnektionisten\"</b> die Struktur des Gehirns nachzubauen und erfanden hierzu unter anderem das Perzeptron, was wir in späteren Kapiteln noch kennenlernen werden, als massiv vereinfachtes Abbild einer menschlichen Nervenzelle. Derzeit versucht man ernsthaft, das komplette menschliches Hirn mit Computern nachzubauen mit sehr grossen Supercomputern. Dies ist so ungeheuer  schwierig, so groß, so teuer, daß es kaum machbar scheint. Doch Wissenschaftler z.B. der Universitäten in Dresden und Manchester haben nun Wege gefunden, die dieses Ziel erreichbar zu machen scheinen. Ob das \"Kunstgehirn\" dann auch in irgendeiner Weise so funktioniert wie ein menschliches sei dahingestellt. <br><br>\n",
    "Entgegengesetzt war das Ziel der sogenannten <b>\"Symbolisten\"</b>, die ebenfalls eine Maschine so programmieren wollten, daß sie besser und schneller allgemeine Probleme lösen könnte als der Mensch.<br> Ihnen kam es aber nicht darauf an, die <b>Struktur</b> des menschlichen Geistes nachzubauen, sondern nur seine <b>Funktionen</b> abzubilden, entsprechende \"Intelligenzalgorithmen\" zu entwickeln.<br> Es stellte sich aber dann schnell heraus, daß es so einfach nicht war, diese hehren Ziele zu erreichen, und die frühen Bestrebungen stießen auf nahezu unüberwindbare Hindernisse, verstärkt natürlich noch durch die unzureichende Hardware zu dieser Zeit.<br><br>\n",
    "\n",
    "Bei beiden Ansätzen kam es so in den 60er und 70er Jahren, nachdem die großen Versprechungen der Protagonisten zu keinen greifbaren Ergebnissen führten, fast zu einem völligen Stillstand der Entwicklung, die Finanzierung versiegte, das Ziel erschien nicht erreichbar. Es kam zur sogenannten KI-Eiszeit.<br>"
   ]
  },
  {
   "cell_type": "markdown",
   "id": "af272317",
   "metadata": {},
   "source": [
    "Alle diese Versuche waren von vorneherein durch den ständigen Vergleich zum menschlichen Geist belastet, diesen galt es zu erreichen oder gar zu übertreffen. Dieses Prinzip bezeichnet man heute als <b>\"starke künstliche Intelligenz\"</b> und diese ist nach wie vor nur in Ansätzen und Teilgebieten in Sichtweite, wenn auch die Entwicklung in den letzten Jahren wieder fortschreitet. Nach vielen Jahren des Stillstands, in denen nur noch einzelne Enthusiasten an der KI arbeiteten, rückte so erst in den letzten Jahrzehnten die KI mehr denn je in den Vordergrund, nicht zuletzt durch ein verändertes Konzept (neben der rasanten Entwicklung von Hardware und auch Programmiertechniken).\n",
    "Das heutige Konzept kann man als <b>\"schwache künstliche Intelligenz\"</b> bezeichnen und ist wesentlich realistischer und erfolgreicher."
   ]
  },
  {
   "cell_type": "markdown",
   "id": "99e5c951",
   "metadata": {},
   "source": [
    "Dieser Ansatz verfolgt das Ziel, Maschinen lernfähig zu machen, insofern, als man sie durch die <b>eigenständige Optimierung von Programmparametern in die Lage versetzt, den Zusammenhang zwischen Eingangs- und Ausgangsdaten eines genau definierten Problems zu erfassen</b>, um dann Instanzen des Problems selbstständig bearbeiten zu können.\n",
    "Dies wäre der eigentliche Lernvorgang, <b>man beschränkt dieses Vorgehen auf konkrete Probleme und versteht sich als helfende Instanz für den Menschen, nicht als Ersatz.</b><br>Die KI ist daher mehr Werkzeug, der ideologische Überbau vermindert. <img width=400 height=400 class=\"imgright\" src=\"Images/handshake.jpg\"><br><br>\n",
    "\n",
    "Das wesentlich Neue an diesem Ansatz lässt sich gut durch den Vergleich mit sogenannten \"klassischen\" Expertensystemen aufzeigen, die eine Zeitlang in Mode waren, zum Beispiel als Diagnosesysteme in der Medizin. Dabei wurden durch Befragung von Experten Regeln herausgefiltert, nach denen diese zu ihren Schlüssen kommen.<br><br> Es ergibt sich ein kompliziertes Netz von Bedingungen wie: \"wenn dieses Symptom vorliegt und jenes Symptom vorliegt, aber nicht dieses Symptom und dasjenige nur leicht, dann  handelt es sich um...\".\n",
    "Diese Systeme waren von vielen Problemen geplagt, so z.B. durch sich widersprechende Expertenmeinungen, Schwierigkeiten bei der numerischen Erfassung von \"Bauchgefühlen\", ein sich immer weiter ausbreitendes Netz von \"Sonderfällen\"... und verloren mit zunehmender Komplexität meist ihre Relevanz für die Praxis.<br><br>\n",
    "Ein KI- Ansatz für dieses Problem bestünde darin, einer Maschine die vorliegenden Symptome und die (von Experten festgestellte) Diagnose einzugeben und diese dann <b>selbstständig</b> den Zusammenhang zwischen Eingabe und Ausgabe durch Anpassung von programminternen Parametern so optimieren zu lassen, daß in möglichst vielen Fällen die (hoffentlich) richtige Diagnose gestellt wird und im besten Fall auch noch eine Information über die Wahrscheinlichkeit erstellt wird, mit der diese Diagnose zutrifft. Dann könnte die Maschine mit diesen optimierten Parametern auch neue Symptomkonstellationen bearbeiten und die Diagnose voraussagen. Wie dies im Detail funktioniert, werden wir in den folgenden Kapiteln lernen. Bemerkenswert ist dabei jedoch, daß auch beim maschinellen Lernen \"Expertenmeinungen\" notwendig sind, um das System lernen lassen zu können, oder zumindest um die Qualität von Vorhersagen beurteilen zu können.\n",
    "Der oben beschriebene Ansatz stellt den Ablauf des <b>maschinellen Lernens</b> dar, welches als Methode der KI angesehen werden kann.<br><br>\n",
    "Hier die Definition aus Wikipedia:<br><b>\n",
    "Maschinelles Lernen ist ein Oberbegriff für die „künstliche“ Generierung von Wissen aus Erfahrung: Ein künstliches System lernt aus Beispielen und kann diese nach Beendigung einer Lernphase verallgemeinern. Dazu bauen Algorithmen beim maschinellen Lernen ein statistisches Modell auf, das auf Trainingsdaten beruht.</b> Maschinelles Lernen ist der Prozess des automatischen Extrahierens von Wissen aus Daten, normalerweise mit dem Ziel, Vorhersagen über neue, bisher dem System unbekannte Daten zu treffen.<br>\n",
    "Man kann sich sehr gut vorstellen, daß mit steigender Komplexität des Problems auch die Zahl der Beispiele größer sein muß, mit denen das Lernsystem lernen kann, da eventuell Tausende Parameter in diesem System optimiert werden müssen.<br>\n",
    "Das erklärt, warum KI besonders von \"Big Data\" und den daraus resultierenden gigantischen Datenmengen profitiert."
   ]
  },
  {
   "cell_type": "markdown",
   "id": "83d7be1e",
   "metadata": {},
   "source": [
    "Nachfolgend werfen wir einen näheren Blick auf <b>maschinelles Lernen.</b>\n",
    "Wie oben geschildert, bleibt bei diesem Ansatz ein bekanntes Problem bestehen:<br>\n",
    "<b> Woher kommen die Regeln, die es dem Lernsystem ermöglichen, zu erkennen, ob seine Prognosen richtig oder falsch sind?</b>\n",
    "Hier ist weiter der Experte gefragt und mit ihm steht und fällt die Performance des maschinellen Lernsystems.\n"
   ]
  },
  {
   "cell_type": "markdown",
   "id": "08deb880",
   "metadata": {},
   "source": [
    "## Maschinelles Lernen Unterteilung"
   ]
  },
  {
   "cell_type": "markdown",
   "id": "aa38c8fd",
   "metadata": {},
   "source": [
    "### Grundsätzlich unterscheidet man bei maschinellem Lernen zwei Hauptkategorien:    \n",
    "### - Überwachtes Lernen (supervised Learning)\n",
    "### - Unüberwachtes Lernen (unsupervised Learning)\n",
    "    "
   ]
  },
  {
   "cell_type": "markdown",
   "id": "dd0c09f0",
   "metadata": {},
   "source": [
    "### Überwachtes Lernen\n",
    "Beim <b>überwachten Lernen</b> wird dem Lernsystem ein Satz aus Eingabebeispielen (Samples) vorgelegt, die jeweils eine oder mehrere Eingangsvariablen haben, die als <b>Features</b> bezeichnet werden.\n",
    "Das Entscheidende ist bei dieser Kategorie, daß ebenfalls für jedes Beispiel ein <b>vorgegebener Ausgabewert</b> vorliegt, das <b>Label</b>.<br>\n",
    "Trainieren wir das Lernsystem mit einer Vielzahl von Beispieldatensätzen (Trainingsinstanzen), ist es deshalb für das System möglich, die Richtigkeit und Genauigkeit seiner Vorhersagen zu verbessern (Trainingsphase), indem die internen Parameter selbstständig optimiert werden, sodaß möglichst oft das vorgegebene Label ausgegeben wird. In einem zweiten Schritt können dann Testdatensätze eingeben werden und überprüft werden, ob das System für diese nicht in der Trainingsphase verwendeten Beispiele  korrekte Label erstellt (Testphase). Das erfolgreiche System kann dann zur Bearbeitung von unbekannten Datensätzen verwendet werden und dabei (hoffentlich richtige) eigene Label erstellen (Vorhersagephase). Der Ablauf wäre also: "
   ]
  },
  {
   "cell_type": "markdown",
   "id": "139bdbdc",
   "metadata": {},
   "source": [
    "<img width=800 height=800 class=\"imgright\" src=\"Images/training.png\">"
   ]
  },
  {
   "cell_type": "markdown",
   "id": "5342fd2e",
   "metadata": {},
   "source": [
    "In der Trainingsphase werden in einer meist vorbestimmten Anzahl von Lernschritten die internen Parameter des Lernalgorithmus optimiert. Dazu werden die Trainingsdaten verwendet. Die Label der Trainingsdaten werden mit den errechneten Label verglichen und dann die internen Parameter des Lernalgorithmus verbessert, bis die maximale Anzahl der Lernschritte erreicht ist, oder bis die Übereinstimmung im gewünschten Maß gegeben ist. Die optimierten Parameter werden dann ausgegeben bzw. gespeichert. Die Testdaten müssen hierbei komplett von den Trainingsdaten getrennt werden und dürfen zum Training nicht verwendet werden, da sonst der Lernalgorithmus in der Testphase nicht daraufhin geprüft werden kann, wie er mit <b>vollständig unbekannten Daten</b> umgeht.<br><br> Bei sehr vielen Trainingsschritten könnte es zum \"Overfitting\", also dem übermässigen Angleichen der Trainingsdaten mit den gewünschten Ausgaben kommen. Der Lernalgorithmus könnte die bekannten Daten bis auf jede Kleinigkeit hin und unter Berücksichtigung jedes Ausreißers und Sonderfalles genau lernen, die Übereinstimmung der Label mit den erechneten Label wäre so für die <b>bekannten Trainingsdaten</b> zwar optimal.(Man stelle sich nur vor, daß das System alle Datensätze sozusagen \"auswendig lernen\" würde.) Es würde durch die übermässige Spezialisierung auf \"alle speziellen Fälle\" aber nicht die vorgebenen <b>allgemeinen Gesetzmässigkeiten</b> in den Trainingsdaten erkennen. Unbekannte Daten könnten dann nur schlecht bearbeitet werden. Mehr dazu später. "
   ]
  },
  {
   "cell_type": "markdown",
   "id": "e3aa7f20",
   "metadata": {},
   "source": [
    "In der Testphase wird dann die Leistung des Lernalgorithmus mit den im Training optimierten Parametern geprüft.<br>\n",
    "<img width=800 height=800 class=\"imgright\" src=\"Images/Test.png\"><br><br>\n",
    "Bei genügender Leistungsfähigkeit kann dann das System zur Prognose unbekannter Daten mit den in der Testphase verwendeten Parametern freigegeben werden, im anderen Fall muss die Trainingsphase verlängert oder ausgeweitet werden.\n",
    "Typische Anwendungsfälle sind Kategorisieren (Einteilen in verschiedene Klassen) von Fotos, handschriftlichen Unterlagen, Spracherkennung oder Gesichtserkennung. Daneben auch Prognosen z.B. über Preisentwicklung oder Veränderung des Kundenstammes einer Firma, Kategorisierung von Nutzern einer Webseite neben tausenden weiteren Anwendungen. Gerade beim überwachten Lernen wurden große Fortschritte in den letzten Jahren erzielt, es gibt daher zahlreiche gut etablierte Verfahren dazu. "
   ]
  },
  {
   "cell_type": "markdown",
   "id": "6e4e3736",
   "metadata": {},
   "source": [
    "Beim überwachten Lernen unterscheidet man noch einige Unterarten, wie<br>\n",
    "<b>-Klassifikation für diskrete Daten (Daten, die nicht geordnet sind und mit denen man nicht rechnen kann)<br></b>\n",
    "    z.B.: Hund, Katze, Kaninchen <br>\n",
    "    \n",
    "<b>-Regression für stetige Daten (Daten, die geordnet sind, kontinuierlich)<br></b>\n",
    "    z.B.: Einnahmen 2018 , Einnahmen 2019 ... und andere potentiell kontinuierliche Grössen<br>\n",
    "\n",
    "Diese Anwendungsgebiete sind aber konzeptionell sehr ähnlich."
   ]
  },
  {
   "cell_type": "markdown",
   "id": "0f257fb2",
   "metadata": {},
   "source": [
    "### Unüberwachtes Lernen\n",
    "Beim <b>unüberwachten Lernen</b> besteht der Hauptunterschied zum überwachten Lernen darin, daß das Lernsystem keine vorgegebenen Label mit seinen Trainingsdatensätzen erhält. Stattdessen sucht das System nach Mustern in den Eingangsdaten (Patternrecognition) und versucht z.B. ähnliche Eingangsdatensätze in Gruppen (Clustern) zusammenzufassen. Nehmen wir also an, daß wir die Daten von Tausenden Benutzern eines Webshops hätten und uns dafür interessierten, in welche Gruppen diese Kunden nach ihrem Kaufverhalten eingeteilt werden könnten, was dann z.B. Einfluss auf eine personalisierte Werbung für die Kunden hätte. (Wir kennen das leider alle.) Oder ob es unter Immobilien einer bestimmten Region Gruppen gibt, die besonders leicht zum gegebenen Preis zu verkaufen wären, während bei anderen der Preis angepasst werden müßte. Dieses Clustering ist die typische Domäne des unüberwachten Lernens. Der Ablauf wäre:"
   ]
  },
  {
   "cell_type": "markdown",
   "id": "09297517",
   "metadata": {},
   "source": [
    "<img width=800 height=800 class=\"imgright\" src=\"Images/Clustering.png\"><br><br>"
   ]
  },
  {
   "cell_type": "markdown",
   "id": "86aacd8b",
   "metadata": {},
   "source": [
    "Auch hier stellt der Nutzer die letzte Instanz dar, er muss prüfen, ob die Cluster, die durch das System erstellt wurden, auch eine sinnvolle Einteilung darstellen, die im gegebenen Kontext nutzbar ist.\n",
    "\n"
   ]
  },
  {
   "cell_type": "markdown",
   "id": "50882c8e",
   "metadata": {},
   "source": [
    "### Reinforcement Learning\n",
    "Ein grundsätzlich anderes Lernprinzip wäre das <b>bestärkende Lernen (oder verstärkendes Lernen, \"reinforcement learning\")</b>. Es beschreibt eine Art des maschinellen Lernens, bei der das Lernsystem (hier meist als Lern-Agent bezeichnet) eigenständig eine Strategie erlernt, wobei es immer wieder den Wert einer Belohnungsfunktion errechnet, die entsprechend des gewünschten Ergebnisses vom Konstrukteur des Systems vorgegeben ist, und die es versucht zu maximieren. Es lernt so ohne äußeres Zutun für ein gegebenes Eingangsproblem durch Veränderung seiner Reaktion auf seine echte oder simulierte Umwelt die optimale Lösung zu finden. Dabei gibt es keine Datensätze mit vorgegebenen Labeln, sondern der Agent lernt durch Versuche und Interaktionen seine Umwelt kennen. Eine häufige Anwendung findet es im Bereich des autonomen Fahrens oder der Robotik sowie in der Spieleentwicklung.<br><img width=850 height=850 class=\"imgright\" src=\"Images/ReinforcementLearning.png\"><br><br>"
   ]
  },
  {
   "cell_type": "markdown",
   "id": "1992178c",
   "metadata": {},
   "source": [
    "Wir werden in den nächsten Kapiteln einige Beispiele für Maschinenlernsysteme vorstellen. Während normalerweise dazu sehr umfangreiche und effektive externe Bibliotheken für Python (als Module) verwendet werden, wollen wir uns für ein besseres Verständnis der Grundlagen meist 3 verschiedene Level entwickeln:<br><br>  <b>1) bewusst einfache Skripte, die nur Kern-Python verwenden, aber keine externen Module und die die ML-Algorithmen ebenfalls in Kernpython umsetzen</b><br><br>\n",
    "<b>2) Skripte, die Hilfsmodule wie NumPy, Pandas und Matplotlib benutzen, aber die ML-Algorithmen wie oben nicht aus Fertigbibliotheken übernehmen.\n",
    "</b> <br><br>\n",
    "<b>3) Skripte, die neben den Hilfsmodulen auch die ML-Algorithmen aus der umfangreichen ML-Bibliothek Sklearn verwenden.</b><br><br>\n",
    "Dieses Vorgehen soll zeigen, daß Maschinenlernen nicht \"Computermagie\" ist, sondern daß man sehr wohl auch in der Tiefe verstehen kann, wie die diversen Prozesse ablaufen. Wir wollen hier sozusagen einen Blick unter die Motorhaube werfen.<br><br> Unser Kurs umfaßt auch die meist für ernstzunehmende Fragestellungen im maschinellen Lernen verwendeten Hilfs-Module (im für maschinelles Lernen relevanten Umfang und als Überblick). Es sind NumPy, Matplotlib und pandas. Diese werden vor allem zum effektiven Umgang mit in Feldern organisierten größeren Datenstrukturen und Matrizen, zur Datenein- und -ausgabe, zur Bearbeitung von grossen Datenmengen (big data) und zur Visualisierung von Eingangsdaten und Ergebnissen verwendet. Es wird auch klar werden, warum die perfekte Einbindung solcher Module Python zu <b>der</b> Sprache für KI gemacht hat."
   ]
  },
  {
   "cell_type": "code",
   "execution_count": null,
   "id": "9dc09578",
   "metadata": {},
   "outputs": [],
   "source": []
  }
 ],
 "metadata": {
  "kernelspec": {
   "display_name": "Python 3 (ipykernel)",
   "language": "python",
   "name": "python3"
  },
  "language_info": {
   "codemirror_mode": {
    "name": "ipython",
    "version": 3
   },
   "file_extension": ".py",
   "mimetype": "text/x-python",
   "name": "python",
   "nbconvert_exporter": "python",
   "pygments_lexer": "ipython3",
   "version": "3.9.12"
  }
 },
 "nbformat": 4,
 "nbformat_minor": 5
}
