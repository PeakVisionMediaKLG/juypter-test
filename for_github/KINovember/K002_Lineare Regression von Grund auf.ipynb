{
 "cells": [
  {
   "cell_type": "markdown",
   "id": "e55a826b",
   "metadata": {},
   "source": [
    "## Lineare Regression durch Überwachtes Lernen von Grund auf erklärt\n",
    "Meistens werden, um maschinelles Lernen zu erklären, Module aus Libraries wie NumPy, Matplotlib, pandas oder sklearn benutzt, die einerseits den Umgang mit den Daten selbst erleichtern und andererseits vorgefertigte Methoden enthalten, die wir dann nur noch anwenden müssen. Hier wollen wir zunächst einen anderen Weg gehen und ein Problem (zugegebenermassen ein einfaches Problem) mit maschinellem Lernen lösen und hierzu nur Python-Grundlagen verwenden. Dies wird unser Verständnis vertiefen und außerdem genau aufzeigen, was hinter den Kulissen des maschinellen Lernens vorgeht. Lediglich das Modul ```matplotlib``` werden wir in sehr einfacher Form verwenden, um uns die Daten graphisch darstellen zu lassen. Wir werden danach unser Vorgehen zunehmend professionell gestalten.\n",
    "\n",
    "\n",
    "Stellen wir uns vor, ein Bekannter von uns betreibt ein Restaurant, dass jeden Abend geöffnet hat. Er hat das Problem, daß er wissen möchte, wieviele  Gerichte er durchschnittlich an einem Abend verkaufen kann, damit er das Personal und die Rohstoffe entsprechend im Voraus einplanen kann. Er hat bemerkt, daß diese Zahlen sehr von der Anzahl der Reservierungen an diesem Tag abhängen. Diese Reservierungen sind ihm jeweils bis einige Stunden vor der Öffnung bekannt und er hat beobachtet, daß er natürlich mehr Gerichte anbieten kann, wenn mehr Reservierungen vorliegen. Aber neben den Reservierungen kommt auch eine variable Anzahl von Gästen, die nicht reserviert haben. Er fragt uns, ob wir ihm vielleicht helfen können, aus den Reservierungszahlen der letzten Monate und der dann erfolgten Abgabe von Gerichten auf zukünftige Zahlen schließen zu können. "
   ]
  },
  {
   "cell_type": "markdown",
   "id": "0925a9dd",
   "metadata": {},
   "source": [
    "<img width=300 height=300 class=\"imgright\" src=\"Images/restaurant.png\" alt=\"restaurant\" />"
   ]
  },
  {
   "cell_type": "markdown",
   "id": "9cf9aeee",
   "metadata": {},
   "source": [
    "Dies ist ein Problem, welches wir hier versuchen wollen durch überwachtes Lernen zu lösen. Wir haben Reservierungszahlen und die jeweils zugehörige Anzahl von abgegebenen Gerichten vorliegen, haben also einige Datensätze mit den zugehörigen Labeln und könnten einen Algorithmus mit diesen Daten trainieren, um dann Voraussagen zu treffen. "
   ]
  },
  {
   "cell_type": "markdown",
   "id": "96d21996",
   "metadata": {},
   "source": [
    "Wir bitten unseren Bekannten, uns seine Daten zukommen zu lassen und erhalten von ihm das Textfile \"Reservierung.txt\". "
   ]
  },
  {
   "cell_type": "code",
   "execution_count": 7,
   "id": "e2811385",
   "metadata": {},
   "outputs": [
    {
     "name": "stdout",
     "output_type": "stream",
     "text": [
      "Reservierungen: 10 Mahlzeiten 32\n",
      "Reservierungen: 2 Mahlzeiten 30\n",
      "Reservierungen: 49 Mahlzeiten 66\n",
      "Reservierungen: 5 Mahlzeiten 32\n",
      "Reservierungen: 97 Mahlzeiten 98\n",
      "Reservierungen: 90 Mahlzeiten 90\n",
      "Reservierungen: 100 Mahlzeiten 88\n",
      "Reservierungen: 14 Mahlzeiten 45\n",
      "Reservierungen: 36 Mahlzeiten 48\n",
      "Reservierungen: 13 Mahlzeiten 26\n",
      "Reservierungen: 50 Mahlzeiten 69\n",
      "Reservierungen: 88 Mahlzeiten 73\n",
      "Reservierungen: 39 Mahlzeiten 48\n",
      "Reservierungen: 4 Mahlzeiten 35\n",
      "Reservierungen: 16 Mahlzeiten 35\n",
      "Reservierungen: 52 Mahlzeiten 62\n",
      "Reservierungen: 61 Mahlzeiten 69\n",
      "Reservierungen: 62 Mahlzeiten 67\n",
      "Reservierungen: 23 Mahlzeiten 52\n",
      "Reservierungen: 56 Mahlzeiten 56\n",
      "Reservierungen: 3 Mahlzeiten 34\n",
      "Reservierungen: 37 Mahlzeiten 60\n",
      "Reservierungen: 96 Mahlzeiten 88\n",
      "Reservierungen: 83 Mahlzeiten 78\n",
      "Reservierungen: 70 Mahlzeiten 76\n",
      "Reservierungen: 95 Mahlzeiten 85\n",
      "Reservierungen: 40 Mahlzeiten 60\n",
      "Reservierungen: 98 Mahlzeiten 91\n",
      "Reservierungen: 19 Mahlzeiten 44\n",
      "Reservierungen: 68 Mahlzeiten 77\n",
      "Reservierungen: 17 Mahlzeiten 46\n",
      "Reservierungen: 25 Mahlzeiten 56\n",
      "Reservierungen: 91 Mahlzeiten 81\n",
      "Reservierungen: 20 Mahlzeiten 52\n",
      "Reservierungen: 29 Mahlzeiten 40\n",
      "Reservierungen: 75 Mahlzeiten 76\n",
      "Reservierungen: 33 Mahlzeiten 46\n",
      "Reservierungen: 84 Mahlzeiten 92\n",
      "Reservierungen: 78 Mahlzeiten 76\n",
      "Reservierungen: 74 Mahlzeiten 66\n",
      "Reservierungen: 86 Mahlzeiten 78\n",
      "Reservierungen: 11 Mahlzeiten 43\n",
      "Reservierungen: 44 Mahlzeiten 63\n",
      "Reservierungen: 28 Mahlzeiten 38\n",
      "Reservierungen: 76 Mahlzeiten 69\n",
      "Reservierungen: 24 Mahlzeiten 53\n",
      "Reservierungen: 41 Mahlzeiten 61\n",
      "Reservierungen: 77 Mahlzeiten 76\n",
      "Reservierungen: 89 Mahlzeiten 91\n",
      "Reservierungen: 64 Mahlzeiten 61\n"
     ]
    }
   ],
   "source": [
    "with open(\"Data/Reservierungen.txt\",\"r\") as fh:\n",
    "    for line in fh:\n",
    "        x,y=line.rstrip().split(\",\") #um doppelten Zeilenumbruch zu vermeiden\n",
    "        print(f\"Reservierungen: {x} Mahlzeiten {y}\")\n",
    "    "
   ]
  },
  {
   "cell_type": "markdown",
   "id": "774b9804",
   "metadata": {},
   "source": [
    "Diesen Zusammenhang lassen wir uns mit dem Modul Matplotlib graphisch ausgeben. Dies muss jetzt nicht gelernt oder verstanden werden, dazu folgt ein ganzes Kapitel, es dient nur der Veranschaulichung, denn als erstes wollen wir uns einen Überblick über die Daten verschaffen."
   ]
  },
  {
   "cell_type": "code",
   "execution_count": 8,
   "id": "70f37366",
   "metadata": {},
   "outputs": [
    {
     "data": {
      "text/plain": [
       "<matplotlib.collections.PathCollection at 0x7f1088a99430>"
      ]
     },
     "execution_count": 8,
     "metadata": {},
     "output_type": "execute_result"
    },
    {
     "data": {
      "image/png": "[encoded data removed]",
      "text/plain": [
       "<Figure size 432x288 with 1 Axes>"
      ]
     },
     "metadata": {
      "needs_background": "light"
     },
     "output_type": "display_data"
    }
   ],
   "source": [
    " \n",
    "import matplotlib.pyplot as plt \n",
    "xliste,yliste=[],[]\n",
    "with open(\"Data/Reservierungen.txt\", \"r\") as fh:\n",
    "    for line in fh:\n",
    "        x,y=line.rstrip().split(\",\")\n",
    "        xliste.append(int(x))\n",
    "        yliste.append(int(y))  #wir schreiben unsere Reservierungen und die Anzahl der Mahlzeiten in\n",
    "                                   #eine 2-dimensionale Liste\n",
    "\n",
    "plt.xlabel(\"Reservierungen\", fontsize=12)#wir legen die Label für X-Achse und Y-Achse fest.                 \n",
    "plt.ylabel(\"Mahlzeiten\", fontsize=12)\n",
    "plt.scatter(xliste,yliste,color=\"red\",marker=\"*\")#wir machen mit matplotlib ein Streudiagramm\n"
   ]
  },
  {
   "cell_type": "markdown",
   "id": "ce8dd288",
   "metadata": {},
   "source": [
    "Wir sehen, daß die Daten grob gesehen einen linearen Zusammenhang aufweisen. Deshalb legen wir durch die Punkte eine Gerade, die sich den Punkten bestmöglich annähert. Dieses wäre das klassische Vorgehen der linearen Regression und natürlich gibt es hierzu einfache Methoden, die man benutzen könnte. Für die Steigung m und den Schnittpunkt b mit der y-Achse bekommen wir mit S für Summe, n Anzahl der Punkte :<br><br>\n",
    "\\begin{aligned}{ {m }}&={\\frac {nS_{xy}-S_{x}S_{y}}{nS_{xx}-S_{x}^{2}}}\\\\[8pt]{ {b }}&={\\frac {1}{n}}S_{y}-{ {m }}{\\frac {1}{n}}S_{x}\\end{aligned}<br>\n",
    "Wir wollen das Problem jedoch mit maschinellem Lernen lösen. Die hier dargestellte berechnete optimale Linie dient sozusagen als \"Referenz\" unseres mit ML anzustrebenden Zieles. Die Steigung m dieser Optimalgeraden beträgt .587, der Schnittpunkt b mit der y-Achse 31.72 ."
   ]
  },
  {
   "cell_type": "code",
   "execution_count": 9,
   "id": "cebfecf7",
   "metadata": {},
   "outputs": [
    {
     "data": {
      "text/plain": [
       "[<matplotlib.lines.Line2D at 0x7f1088b7fdf0>]"
      ]
     },
     "execution_count": 9,
     "metadata": {},
     "output_type": "execute_result"
    },
    {
     "data": {
      "image/png": "[encoded data removed]",
      "text/plain": [
       "<Figure size 432x288 with 1 Axes>"
      ]
     },
     "metadata": {
      "needs_background": "light"
     },
     "output_type": "display_data"
    }
   ],
   "source": [
    "plt.title(\"Optimalgerade\")\n",
    "plt.xlabel(\"Reservierungen\", fontsize=12)#wir legen die Label für X-Achse und Y-Achse fest.                 \n",
    "plt.ylabel(\"Mahlzeiten\", fontsize=12)\n",
    "plt.scatter(xliste,yliste,marker=\"*\")#wir machen mit matplotlib ein Streudiagramm\n",
    "plt.plot((0,100),(31.72,90.59))#wir zeichnen die Gerade"
   ]
  },
  {
   "cell_type": "markdown",
   "id": "d949b4a3",
   "metadata": {},
   "source": [
    "Wir wollen unsere Reservierungsdaten jetzt nutzen, um in der Trainingsphase unseres Programmes dieses selbstständig einen Zusammenhang zwischen den Eingangsdaten (Reservierungen) und den Labeln (Mahlzeiten) finden zu lassen, wobei wir von einem linearen Zusammenhang ausgehen. Dies ist natürlich nicht immer gegeben, aber hier geht es ja um die grundsätzliche Erklärung des Verfahrens. Dann wollen wir vom Programm Voraussagen erstellen lassen und sehen, wie gut sie in unser Beispiel passen. "
   ]
  },
  {
   "cell_type": "markdown",
   "id": "47e0ab79",
   "metadata": {},
   "source": [
    "<b>Um es klarer zu formulieren: das Modell soll aus allen denkbaren Geraden, die die Punkteverteilung unseres Modells approximieren, diejenige herausfinden, welche dies am besten kann."
   ]
  },
  {
   "cell_type": "markdown",
   "id": "a8a34801",
   "metadata": {},
   "source": [
    "Dazu müssen wir uns überlegen, wie wir eine solche Gerade mathematisch repräsentieren können und werden hierzu die übliche Geradengleichung verwenden:<br><br> <b>$$ y(Mahlzeiten) = m * x(Reservierungen) + b$$ </b><br> Hier vereinfachen wir zunächst weiter und lassen unsere Geraden durch den Nullpunkt gehen (b=0), um nur einen Parameter optimieren zu müssen. Hier ein Bündel mit solchen Geraden mit unterschiedlichen Werten für m und unsere Referenzgerade."
   ]
  },
  {
   "cell_type": "markdown",
   "id": "519b84df",
   "metadata": {},
   "source": [
    "\t\t\t\t\t\t\t\t\tMögliche Gerade durch den Nullpunkt und optimale Gerade \n",
    "<img width=500 src=\"Images/plotwithmultiplelines.png\"  />"
   ]
  },
  {
   "cell_type": "markdown",
   "id": "60b037db",
   "metadata": {},
   "source": [
    "Unsere Steigung m ist im Moment alles, was die jeweilige Gerade definiert. Wenn wir nun für eine solche Gerade eine Voraussage treffen wollen, ist das sehr einfach und folgt der Formel: <b>$$y_{vor}=m*x $$</b><br> dabei soll <b>$y_{vor}$</b> für den jeweiligen vorausgesagten Wert stehen (<b>y</b> gibt dagegen den wahren y-Wert am Punkt <b>x</b> an.)\n"
   ]
  },
  {
   "cell_type": "markdown",
   "id": "6dafdee2",
   "metadata": {},
   "source": [
    "Wenn wir nun durch unsere Liste von Reservierungen gehen und jeweils mit unserer momentanen Steigung m einen y_vor- Wert für jeden x-Wert erzeugen, werden wir feststellen, daß sich diese Werte von den echten y-Werten, die für unseren x-Wert vorliegen, abweichen. Es ergibt sich also ein Fehler für jeden x-Wert. Diese Fehler können wir summieren. Es ergibt sich dabei aber das Problem, daß der Fehler positiv sein kann, wenn y_vor > y ist oder negativ im umgekehrten Fall. So könnten sich die Fehler in der Fehlersumme ausgleichen und nicht die wahre Abweichung abbilden. Will man den wirklichen Fehler berücksichtigen, müßte man die absolute Abweichung von <b>$|y - y_{vor}|$</b> summieren. Man kann sich stattdessen aber auch damit behelfen, daß man die Abweichung jeweils quadriert und erhält damit immer positive Werte, die man einfach summieren kann, wobei die Quadrierung grössere Abweichung noch betont. Man bildet also als Wert zur Beurteilung des Verfahrens die Fehlerquadratsumme:<br><br>$$Fehlerquadratsumme = \\sum_{i=1}^{n} (y - y_{vor})^2$$<br> Nun zur Implementierung. Wir berechnen für eine Steigung m (am Anfang auf willkürlich 0 gesetzt) die Summe der Fehlerquadrate und ändern dann die Steigung plus und minus um einen kleinen Wert, die Lernrate. Ist die Fehlersumme bei einem der beiden veränderten Werte der Steigung kleiner als die Fehlersumme mit der Originalsteigung, dann übernehmen wir diesen Steigungswert als neue Steigung für den nächsten Schritt. Dies wiederholen wir, bis zur Maximalzahl von Versuchen erreicht ist oder bis die Fehlersumme durch kleine Veränderungen der Steigung nicht mehr verbessert werden kann."
   ]
  },
  {
   "cell_type": "code",
   "execution_count": null,
   "id": "36225fed",
   "metadata": {},
   "outputs": [],
   "source": [
    "def trainieren(x_werte,y_werte,anzahl_durchgänge,lernrate):\n",
    "    m=0 #Anfangssteigung beliebig    \n",
    "    for lauf in range(anzahl_durchgänge):        \n",
    "        sum_0,sum_plus_lr,sum_minus_lr=0,0,0\n",
    "        fehler_werte=0\n",
    "        for i in range(len(x_werte)): #für alle Wertepaare Fehlerquadratsumme berechnen\n",
    "            sum_0+=(m*x_werte[i]- y_werte[i])**2 #m Differenz berechneter Wert mit m und echter Wert zum Quadrat\n",
    "            sum_plus_lr+=((m+lernrate)*x_werte[i]- y_werte[i])**2 #m+lernrate\n",
    "            sum_minus_lr+=((m-lernrate)*x_werte[i]- y_werte[i])**2 #m-lernrate\n",
    "        fehler_werte=sum_0,sum_plus_lr,sum_minus_lr\n",
    "        min_index=fehler_werte.index(min(fehler_werte))\n",
    "        if min_index==0:\n",
    "            print(f\"\\nEnde, keine Verbesserung mehr,  Fehlerquadratsumme {min(fehler_werte):6.2f}, m = {m:4.2f} in Lauf {lauf} \\n\")                        \n",
    "            return m\n",
    "        elif min_index==1:                    \n",
    "            m+=lernrate\n",
    "        else:\n",
    "            m-=lernrate        \n",
    "    return m #beste Steigung für m, m+lernrate, m-lernrate\n",
    "\n",
    "def voraussagen(m,x,y):\n",
    "    for x_item,y_item in sorted(zip(x,y)):\n",
    "        print(f\"X-Wert:{x_item:4.2f} wahrer Y-Wert:{y_item:4.2f} vorausgesagter Y-Wert: {x_item*m:4.2f}\")\n",
    "    \n",
    "    return \n",
    "    \n",
    "x,y=[],[]    \n",
    "with open(\"Data/Reservierungen.txt\", \"r\") as fh:\n",
    "    for line in fh:\n",
    "        x_roh,y_roh=line.rstrip().split(\",\")        \n",
    "        x.append(int(x_roh))#x und y kommt als String\n",
    "        y.append(int(y_roh))\n",
    "\n",
    "voraussagen(trainieren(x,y,50000,1e-4),x,y)"
   ]
  },
  {
   "cell_type": "markdown",
   "id": "9ce6e988",
   "metadata": {},
   "source": [
    "Wir sehen nun unsere errechnete Gerade und erkennen, dass hier noch viel Raum zur Verbesserung ist. Wir haben noch eine große Fehlerquadratsumme. Der Wert der optimalen Steigung unseres Verfahrens mit 1.04 weicht vom Wert der Referenzgeraden mit 0.587 noch gewaltig ab.\n",
    "<img class=\"imgright\" src=\"Images/plotwithlearnerline.png\" alt=\"mit Linie\" />"
   ]
  },
  {
   "cell_type": "markdown",
   "id": "2bbc3e5d",
   "metadata": {},
   "source": [
    "Ein deutlicher Schritt zur Verbesserung des Systems wäre, die errechnete Gerade nicht durch den Nullpunkt gehen zu lassen, wie es auch unsere Referenzgerade nicht tut. Hier benötigen wir nun unsere komplette Geradengleichung mit <b> $y_{vor}=x*m + b $</b> wobei b den Schnittpunkt mit der y-Achse darstellt. Wir würden unseren Algorithmus dann so implementieren, daß wir auch den Wert für b in kleinen Schritten verändern und optimieren (wie für m).\n"
   ]
  },
  {
   "cell_type": "code",
   "execution_count": null,
   "id": "f0859a37",
   "metadata": {},
   "outputs": [],
   "source": [
    "def trainieren(x_werte,y_werte,anzahl_durchgänge,lernrate_m,lernrate_b):\n",
    "    m,b=0,0 #1,1 #Anfangssteigung,Anfangsschnittpunkt\n",
    "    \n",
    "    for lauf in range(anzahl_durchgänge):\n",
    "        sum_0,sum_m_plus_lr,sum_m_minus_lr,sum_b_plus_lr,sum_b_minus_lr=0,0,0,0,0\n",
    "        for i in range(len(x_werte)):\n",
    "            sum_0+=((m*x_werte[i]+b)- y_werte[i])**2\n",
    "            sum_m_plus_lr+=((m+lernrate_m)*x_werte[i]+b- y_werte[i])**2 #m+lr\n",
    "            sum_m_minus_lr+=((m-lernrate_m)*x_werte[i]+b- y_werte[i])**2 #m-lr\n",
    "            sum_b_plus_lr+=((m*x_werte[i]+b+lernrate_b)- y_werte[i])**2 #b+lr\n",
    "            sum_b_minus_lr+=((m*x_werte[i]+b-lernrate_b)- y_werte[i])**2 #b-lr\n",
    "            \n",
    "        werte=[sum_0,sum_m_plus_lr,sum_m_minus_lr,sum_b_plus_lr,sum_b_minus_lr]\n",
    "        \n",
    "        if min(werte)==sum_0:\n",
    "            print(f\"\\n keine Verbesserung mehr,Fehlerquadratsumme {sum_0:6.1f}, m = {m:6.4f}, b= {b:6.4f} in Lauf {lauf}\\n\") \n",
    "            return m,b\n",
    "           \n",
    "        if min(werte)==sum_m_plus_lr:\n",
    "            m+=lernrate_m\n",
    "        elif min(werte)==sum_m_minus_lr:\n",
    "            m-=lernrate_m\n",
    "        elif min(werte)==sum_b_plus_lr:\n",
    "            b+=lernrate_b\n",
    "        elif min(werte)==sum_b_minus_lr:\n",
    "            b-=lernrate_b      \n",
    "    print(f\"\\n Fehlerquadratsumme {sum_0:6.1f} , m = {m:6.4f}, b= {b:6.4f} in Lauf {anzahl_durchgänge}\\n\")\n",
    "    return m,b\n",
    "\n",
    "def voraussagen(m,b,x,y):    \n",
    "    for x_item,y_item in sorted(zip(x,y)):\n",
    "        print(f\"X-Wert:{x_item:4.3f} wahrer Y-Wert:{y_item:4.3f} vorausgesagter Y-Wert: {x_item*m+b:4.2f}\")\n",
    "    \n",
    "    return \n",
    "    \n",
    "    \n",
    "x,y=[],[]    \n",
    "with open(\"Data/Reservierungen.txt\", \"r\") as fh:\n",
    "    for line in fh:\n",
    "        x_roh,y_roh=line.rstrip().split(\",\")        \n",
    "        x.append(int(x_roh))#x und y kommt als String\n",
    "        y.append(int(y_roh))\n",
    "\n",
    "voraussagen(*trainieren(x,y,10000,0.001,0.1),x,y)"
   ]
  },
  {
   "cell_type": "code",
   "execution_count": null,
   "id": "0330523f",
   "metadata": {},
   "outputs": [],
   "source": [
    "from matplotlib.pyplot import figure\n",
    "plt.figure(figsize=(8,8))\n",
    "plt.scatter(xliste,yliste,marker=\"*\")#wir machen mit matplotlib ein Streudiagramm\n",
    "plt.plot((0,100),(31.72,90.59),c=\"r\",label=\"Referenz\")#wir zeichnen die Refrenzgerade\n",
    "plt.plot((0,100),(31.9,90.3),c=\"b\",label=\"System\")\n",
    "plt.xlabel(\"x\",fontsize=20)\n",
    "plt.ylabel(\"y\",fontsize=20)\n",
    "plt.legend()"
   ]
  },
  {
   "cell_type": "markdown",
   "id": "756610a4",
   "metadata": {},
   "source": [
    "Wir sehen, dass wir unser Ziel erreicht haben. Die Gerade liegt fast genau auf unserer \"Referenzgeraden\". Die Werte für m und b sind sehr nahe an den Werten der Referenzgeraden mit <br>\n",
    "<table style=\"text-align: left; width: 50%; background-color: rgb(255, 255, 102);font-size:14pt;\" border=\"1\" cellpadding=\"2\" cellspacing=\"2\">\n",
    "<tr>\n",
    "<td style=\"vertical-align: top;\">Referenz\n",
    "</td>\n",
    "<td style=\"vertical-align: top;\">Lernsystem\n",
    "</td>\n",
    "</tr>\n",
    "<tr>\n",
    "<td style=\"vertical-align: top;\">m= .587\n",
    "</td>\n",
    "<td style=\"vertical-align: top;\">m= .584\n",
    "</td>\n",
    "</tr>    \n",
    "</tr>\n",
    "<tr>\n",
    "<td style=\"vertical-align: top;\">b= 31.72\n",
    "</td>\n",
    "<td style=\"vertical-align: top;\">b= 31.90\n",
    "</td>\n",
    "</tr>      \n",
    "</table>    \n",
    "<br><br>\n",
    "\n"
   ]
  },
  {
   "cell_type": "markdown",
   "id": "07a46b08",
   "metadata": {},
   "source": [
    "Fassen wir zusammen, haben wir ein Programm geschrieben, welches Eingangsdaten auf Ausgangsdaten abbildet und hierfür in der Lage ist, den Zusammenhang selbstständig zu optimieren. Im obigen Programm findet man einige Parameter, die auf willkürliche Werte gesetzt zu sein scheinen. Es sind die Ausgangswerte m und b für den Optimierungsprozess.\n",
    "Variieren wir diese, hat das Auswirkungen auf den Zeitbedarf der Optimierung, das Ergebnis bleibt jedoch gleich. So sinkt der Zeitbedarf, wenn wir diese Werte von 0 , 0 auf 1 , 1 setzen, von 453 Läufen in diesem Beispiel auf 341 Läufe. Wichtiger sind die Werte für die lernrate_m und die lernrate_b, die jeweils die Schrittgrösse der Änderung für die Steigung m und den Schnittpunkt mit der y-Achse darstellen. Diese Werte haben ebenfalls einen Einfluss auf die Geschwindigkeit der Optimierung aber auch auf deren Genauigkeit.\n",
    "\n",
    "<table style=\"text-align: left; width: 100%; background-color: rgb(255, 255, 102);font-size:14pt;\" border=\"1\" cellpadding=\"2\" cellspacing=\"2\">\n",
    "<tr>\n",
    "<td style=\"vertical-align: top;\">lernrate_m\n",
    "</td>\n",
    "<td style=\"vertical-align: top;\">lernrate_b\n",
    "</td>\n",
    "<td style=\"vertical-align: top;\">Gesamtfehlerquadratsumme\n",
    "</td>\n",
    "<td style=\"vertical-align: top;\">Anzahl Läufe bis Ende<br>(max 10000)\n",
    "</td>\n",
    "</tr>\n",
    "\n",
    "<tr>\n",
    "<td style=\"vertical-align: top;\">\n",
    "10 ** -1\n",
    "</td>\n",
    "<td style=\"vertical-align: top;\">\n",
    "10 ** -1\n",
    "</td>\n",
    "<td style=\"vertical-align: top;\">\n",
    "2473\n",
    "</td>\n",
    "<td style=\"vertical-align: top;\">\n",
    "273\n",
    "</td>    \n",
    "</tr>\n",
    "    \n",
    "<tr>\n",
    "<td style=\"vertical-align: top;\">\n",
    "10 ** -2\n",
    "</td>\n",
    "<td style=\"vertical-align: top;\">\n",
    "10 ** -1\n",
    "</td>\n",
    "<td style=\"vertical-align: top;\">\n",
    "1868\n",
    "</td>\n",
    "<td style=\"vertical-align: top;\">\n",
    "453\n",
    "</td>    \n",
    "</tr>\n",
    "    \n",
    "<tr>\n",
    "<td style=\"vertical-align: top;\">\n",
    "10 ** -3\n",
    "</td>\n",
    "<td style=\"vertical-align: top;\">\n",
    "10 ** -1\n",
    "</td>\n",
    "<td style=\"vertical-align: top;\">\n",
    "1860\n",
    "</td>\n",
    "<td style=\"vertical-align: top;\">\n",
    "1267\n",
    "</td>    \n",
    "</tr>\n",
    "\n",
    "<tr>\n",
    "<td style=\"vertical-align: top;\">\n",
    "10 ** -4\n",
    "</td>\n",
    "<td style=\"vertical-align: top;\">\n",
    "10 ** -1\n",
    "</td>\n",
    "<td style=\"vertical-align: top;\">\n",
    "1860\n",
    "</td>\n",
    "<td style=\"vertical-align: top;\">\n",
    "6760\n",
    "</td>    \n",
    "</tr>\n",
    "    \n",
    "<tr>\n",
    "<td style=\"vertical-align: top;\">\n",
    "10 ** -5\n",
    "</td>\n",
    "<td style=\"vertical-align: top;\">\n",
    "10 ** -1\n",
    "</td>\n",
    "<td style=\"vertical-align: top;\">\n",
    "13559\n",
    "</td>\n",
    "<td style=\"vertical-align: top;\">\n",
    ">10000\n",
    "</td>    \n",
    "</tr>    \n",
    "    \n",
    "    \n",
    "<tr>\n",
    "<td style=\"vertical-align: top;\">\n",
    "10 ** -3\n",
    "</td>\n",
    "<td style=\"vertical-align: top;\">\n",
    "10 ** -2\n",
    "</td>\n",
    "<td style=\"vertical-align: top;\">\n",
    "1860\n",
    "</td>\n",
    "<td style=\"vertical-align: top;\">\n",
    "4670\n",
    "</td>    \n",
    "</tr>    \n",
    " \n",
    "<tr>\n",
    "<td style=\"vertical-align: top;\">\n",
    "10 ** -3\n",
    "</td>\n",
    "<td style=\"vertical-align: top;\">\n",
    "10 ** -3\n",
    "</td>\n",
    "<td style=\"vertical-align: top;\">\n",
    "8950\n",
    "</td>\n",
    "<td style=\"vertical-align: top;\">\n",
    ">10000\n",
    "</td>    \n",
    "</tr>\n",
    "    \n",
    "<tr>\n",
    "<td style=\"vertical-align: top;\">\n",
    "10 ** -3\n",
    "</td>\n",
    "<td style=\"vertical-align: top;\">\n",
    "10 ** -4\n",
    "</td>\n",
    "<td style=\"vertical-align: top;\">\n",
    "14727\n",
    "</td>\n",
    "<td style=\"vertical-align: top;\">\n",
    ">10000\n",
    "</td>    \n",
    "</tr> \n",
    "\n",
    "</table>\n"
   ]
  },
  {
   "cell_type": "markdown",
   "id": "752e3d05",
   "metadata": {},
   "source": [
    "Wir erkennen in obiger Tabelle, welchen Einfluss diese Parameter, die beim maschinellen Lernen als Hyperparameter bezeichnet werden, auf das Laufzeitverhalten bis zum Optimalwert haben, wobei wir die Anzahl der Durchgänge auf maximal 10000 beschränkt haben. Um die beste Leistung aus dem Lernverfahren herauszuholen, ist es eine notwendige Aufgabe, diese Hyperparameter auszutesten und zu optimieren. Wir erkennen außerdem, dass trotz eigentlich anzunehmender höherer Genauigkeit des Verfahrens bei sehr kleinen Werten für die Lernraten irgendwann der Gesamtfehler sogar wieder zuzunehmen scheint.<br><br>Dies deshalb, weil der Algorithmus in 10000 Schritten sein Optimum noch gar nicht erreicht hat. Um vergleichbare Fehlerwerte für die letzte Zeile zu erreichen wie für die beste Zeile müsste man <b>318517 Läufe</b> zulassen!\n",
    "\n",
    "Nun werden wir unser Programm mit NumPy professioneller gestalten. Wir erkennen nun auch, wie schrittweise die Gerade verbessert wird."
   ]
  },
  {
   "cell_type": "code",
   "execution_count": null,
   "id": "758d281f",
   "metadata": {},
   "outputs": [],
   "source": [
    "import numpy as np\n",
    "import sys\n",
    "import matplotlib.pyplot as plt\n",
    "import seaborn as sns\n",
    "sns.set()\n",
    "from matplotlib.pyplot import figure\n",
    "#daten einlesen und übergeben\n",
    "\n",
    "def fehler(X,Y,w,b):\n",
    "    return np.sum((vorausgesagt(X,w,b)-Y)**2)\n",
    "\n",
    "def vorausgesagt(X,w,b):\n",
    "    return X*w+b\n",
    "    \n",
    "\n",
    "def train(X,Y,lauf_anzahl,lern_rate_w,lern_rate_b,step):\n",
    "    w,ws,b,bs=0,[],0,[]\n",
    "    flagw,flagb=0,0\n",
    "    for _ in range(lauf_anzahl):\n",
    "        walt,balt=w,b\n",
    "        fehler_jetzt=fehler(X,Y,w,b)\n",
    "        ###############Auskommentieren für Diagramm allein\n",
    "        print(f\"Lauf: {_:3d} Gesamtfehlerquadrat: {fehler_jetzt:5.2f}\")\n",
    "        w_up,w_down,b_up,b_down=w+lern_rate_w,w-lern_rate_w,b+lern_rate_b,b-lern_rate_b\n",
    "        fehler_w_up,fehler_w_down=fehler(X,Y,w_up,b),fehler(X,Y,w_down,b)\n",
    "        if fehler_w_up<fehler_jetzt:\n",
    "            w=w_up\n",
    "            ws.append(w)\n",
    "        elif fehler_w_down<fehler_jetzt:\n",
    "            w=w_down\n",
    "            ws.append(w)\n",
    "        else:\n",
    "            ws.append(w)\n",
    "            flagw=1\n",
    "        fehler_b_up,fehler_b_down=fehler(X,Y,walt,b_up),fehler(X,Y,walt,b_down)\n",
    "        if fehler_b_up<fehler_jetzt:\n",
    "            b=b_up\n",
    "            bs.append(b)\n",
    "        elif fehler_b_down<fehler_jetzt:\n",
    "            b=b_down\n",
    "            bs.append(b)\n",
    "        \n",
    "        else:\n",
    "            bs.append(b)\n",
    "            flagb=1\n",
    "        \n",
    "        if flagw==1 and flagb==1:\n",
    "            diagramm(X,Y,ws,bs,step) #um Diagramm zu produzieren\n",
    "            return w,b\n",
    "    print(f\"Noch keine Konvergenz erreicht bei w = {w:5.2f} b = {b:5.2f}\")\n",
    "    diagramm(X,Y,ws,bs,step) #um Diagramm zu produzieren\n",
    "    return w,b\n",
    "    sys.exit()\n",
    "              \n",
    "\n",
    "def diagramm(X,Y,ws,bs,step):\n",
    "    \n",
    "    plt.figure(figsize=(12,12))\n",
    "    plt.axis([0,100,0,100])\n",
    "    plt.xticks(fontsize=12)\n",
    "    plt.yticks(fontsize=12)\n",
    "    plt.xlabel(\"Reservierungen\")\n",
    "    plt.ylabel(\"Pizzas\")\n",
    "    plt.plot(X,Y,\"ro\")\n",
    "    wsmax=max(ws)\n",
    "    wsmin=min(ws)\n",
    "    \n",
    "    for i in range(0,len(ws),step):\n",
    "        green=(i/len(ws))\n",
    "        \n",
    "        plt.plot((0,100),(bs[i],100*ws[i]+bs[i]),color=(0,1-green,0),linewidth=1,label=str(round(ws[i],2))+\"/\"+str(round(bs[i],2)))\n",
    "    plt.legend(loc=\"upper left\")\n",
    "    plt.show()\n",
    "    \n",
    "X,Y=np.loadtxt(\"Data/Reservierungen_np.txt\",skiprows=1,unpack=True)\n",
    "print(f\"die ersten 5 X_Werte {X[:5]}\") # Numpy ohne Kommata beim Ausdruck\n",
    "print(f\"die ersten 5 Y_Werte {Y[:5]}\")\n",
    "\n",
    "w_ende,b_ende=train (X,Y,lauf_anzahl=500,lern_rate_w=.01,lern_rate_b=.1,step=10)\n",
    "print(f\" Bestes w ist: {w_ende:5.2f} Bestes b ist: {b_ende:5.2f}\")\n",
    "#diagramm(X,Y,w_ende,b_ende,step)"
   ]
  },
  {
   "cell_type": "markdown",
   "id": "2bc81c4b",
   "metadata": {},
   "source": [
    "Natürlich beschränkt sich unser Verfahren nicht nur auf die lineare Regression. Wir zeigen im Folgenden ein Beispiel mit einem Polynom 3. Grades, welches wir mit ML approximieren möchten.<br>\n",
    "Das Polynom wäre $$y = x^3*w0 + x^2*w1+ x * w2 + w3$$<br> Dabei ist zu beachten, daß wir nicht mehr die Unterscheidung in die Gewichte w und einen Wert für b machen. Unsere Gewichte (w0,w1,w2,w3) werden jetzt gleichberechtigt verwendet, w3  ist dann äquivalent zu b.<br>\n",
    "Unser Testpolynom wäre:<br>$$y = x^3 * -.2 + x^2 * 5 + x * -4 + 3$$<br>\n",
    "Dabei haben wir die Werte ein wenig gestreut.\n",
    "\n",
    " Hier unsere Werte zum Annähern:"
   ]
  },
  {
   "cell_type": "code",
   "execution_count": null,
   "id": "9ede61c7",
   "metadata": {},
   "outputs": [],
   "source": [
    "import matplotlib.pyplot as plt\n",
    "from matplotlib.pyplot import figure\n",
    "import seaborn as sns\n",
    "import numpy as np\n",
    "sns.set()\n",
    "#make the values\n",
    "rng = np.random.RandomState(9)\n",
    "X = 30 * rng.rand(200)-10\n",
    "Y = X**3*-.2+X**2*5+X*-4+3 + 30 * rng.randn(200)\n",
    "#print(X[:5])\n",
    "#print(Y[:5])\n",
    "plt.figure(figsize=(12,12))\n",
    "plt.title(\"Beispielpunktewolke zum Annähern\",fontsize =16)\n",
    "plt.scatter(X,Y,c=\"red\",s=5)"
   ]
  },
  {
   "cell_type": "markdown",
   "id": "df3f71cc",
   "metadata": {},
   "source": [
    "Wir nähern jetzt unsere Punktewolke mit Polynomen an, den Grad des Polynoms können wir eingeben. Unser Polynom, was die Punktwolke erzeugt hat, war dritten Grades, wie oben beschrieben."
   ]
  },
  {
   "cell_type": "code",
   "execution_count": null,
   "id": "870b9c6b",
   "metadata": {},
   "outputs": [],
   "source": [
    "\n",
    "\n",
    "\n",
    "\n",
    "\n",
    "def fehler(X,Y,w):    \n",
    "    return np.average((vorausgesagt(X,w)-Y)**2)\n",
    "\n",
    "def vorausgesagt(X,w):    \n",
    "    predict_sum=0\n",
    "    for i in range(len(w)): #0 bis grad inclusiv        \n",
    "        predict_sum+=X**i*w[i] # hier wird das Polynom erzeugt\n",
    "    return predict_sum\n",
    "\n",
    "def train(X,Y,lernrate,lauf_anzahl,grad):\n",
    "    w=rng.uniform(-.2,.2,grad+1) #setze auf kleine pos-neg Werte\n",
    "    ws,fehler_list=[],[]\n",
    "    for lauf in range(lauf_anzahl):        \n",
    "        fehler_jetzt=fehler(X,Y,w)\n",
    "        ###############Auskommentieren für Diagramm\n",
    "        #print(f\"Lauf: {lauf:3d} Gesamtfehlerquadrat: {fehler_jetzt:6.4f}\")\n",
    "        w_new=w.copy()\n",
    "        for index,w_to_change in enumerate(w):\n",
    "            w_new[index]=w_to_change+lernrate\n",
    "            if fehler(X,Y,w_new)<fehler_jetzt:\n",
    "                continue\n",
    "            w_new[index]=w_to_change-lernrate\n",
    "            if fehler(X,Y,w_new)<fehler_jetzt:\n",
    "                continue\n",
    "        w=w_new.copy()\n",
    "        ws.append(w)\n",
    "        fehler_list.append(fehler(X,Y,ws[-1]))\n",
    "        #f lauf>2 and fehler_list[lauf-2]==fehler_list[lauf]:\n",
    "            #eturn w,ws,lauf_anzahl\n",
    "#        \n",
    "    return w,ws,lauf_anzahl\n",
    "\n",
    "pol_grad=int(input(\"Welcher Polynomgrad?: \"))\n",
    "w_ende,ws,lauf_anzahl=train(X,Y,lauf_anzahl=1000,lernrate=.004,grad=pol_grad)#grad 5\n",
    "\n",
    "\n",
    "fig, ax = plt.subplots( figsize=(10,6))\n",
    " \n",
    "for lauf,lauf_ws in enumerate(ws):\n",
    "    X0=np.linspace(-10,20,200)\n",
    "    Y0=vorausgesagt(X0,lauf_ws)\n",
    "    green=(lauf/lauf_anzahl)\n",
    "    plt.title(f\"Polynom Grad {pol_grad}\")\n",
    "    plt.plot(X0,Y0,color=(0,1-green,0),linewidth=1,alpha=.02) #alpha hochsetzen für Darstellung?\n",
    "    plt.ylim((-100,800))\n",
    "    plt.xlabel(\"X\")\n",
    "    plt.ylabel(\"Fehlerquadratsumme\")\n",
    "    \n",
    "plt.scatter(X,Y,c=\"red\",s=5)"
   ]
  },
  {
   "cell_type": "markdown",
   "id": "2c850196",
   "metadata": {},
   "source": [
    "Wir können nun die Qualität der Annäherung beurteilen in Abhängigkeit vom Polynomgrad, den wir verwenden. Dabei zeigt sich, dass bei Erhöhung des Grades des Polynoms über eine gewisse Grenze hinaus die Annäherung nicht verbessert wird, im Gegenteil streben die Werte an der Grenze des Bereichs schnell gegen Unendlich."
   ]
  },
  {
   "cell_type": "markdown",
   "id": "462ff85a",
   "metadata": {},
   "source": [
    "Hier zuletzt ein Beispiel unter Einsatz von sklearn als ML-Bibliothek. Zuerst die lineare Regression."
   ]
  },
  {
   "cell_type": "code",
   "execution_count": null,
   "id": "d1c11f3d",
   "metadata": {},
   "outputs": [],
   "source": [
    "from sklearn.linear_model import LinearRegression\n",
    "model = LinearRegression(fit_intercept=True) #die Linie muss nicht durch den 0 Punkt gehen\n",
    "x,y=np.loadtxt(\"Data/Reservierungen_np.txt\",skiprows=1,unpack=True)\n",
    "newx=x[:,np.newaxis]\n",
    "#print(x,np.shape(x)) #lineares Array\n",
    "#print(newx[:10],np.shape(newx)) # Methode möchte x im shape (50,1) bei weiteren Features (n) wäre es (50,n)\n",
    "#print(y) #y darf lineares Array bleiben\n",
    "model.fit(newx, y)\n",
    "\n",
    "xfit = np.linspace(0, 100, 1000) # 1000 Werte mit gleichem Absatnd zwischen 0 und 100\n",
    "yfit = model.predict(xfit[:, np.newaxis]) #die entsprechenden y Werte des Modells\n",
    "\n",
    "plt.scatter(x, y)\n",
    "plt.plot(xfit, yfit); # die Gerade"
   ]
  },
  {
   "cell_type": "code",
   "execution_count": null,
   "id": "cb1f678b",
   "metadata": {},
   "outputs": [],
   "source": [
    "print(\"Model slope:    \", model.coef_[0])\n",
    "print(\"Model intercept:\", model.intercept_)"
   ]
  },
  {
   "cell_type": "markdown",
   "id": "31dd715a",
   "metadata": {},
   "source": [
    "Hier nochmal ein nichtlineares Beispiel mit sklearn, auch wieder interessant die Auswirkung des Polynomgrades. Wir sehen zunächst die anzunähernde Punktwolke, die mit einem Sinus und dann einer Zufallsstreuung produziert wurde.<br>\n",
    "Bei einem Polynom 19. Grades z.B. sehen wir wieder das \"Verschwinden\" der Annäherungskurve im Unendlichen und ein klares \"Overfitting\" vor allem im hohen Bereich. Hier versucht die Kurve einzelne Punkte abzubilden. Bei Polynomen geringen Grades sieht man eher \"Underfitting\" mit unzureichender Annäherung der Kurve.<br>Wir haben das Bestimmtheitsmass $R^2$ als Hinweis auf die Qualität der Annäherung ausgedruckt.<br>Diese Abwägung wie genau die Anpassung sein soll, um ein höchstmögliches Mass an Übereinstimmung mit den wahren Werten zu erreichen, wird uns im ML immer begleiten. <br>\n",
    "<b>Overfitting: übergenaue Optimierung mit Überbetonung von einzelnen Samples und schlechter genereller Anpassung<br>\n",
    "Underfitting: unzureichende Optimierung, Fehlersumme noch zu groß "
   ]
  },
  {
   "cell_type": "code",
   "execution_count": null,
   "id": "0fe0177d",
   "metadata": {},
   "outputs": [],
   "source": [
    "from sklearn.pipeline import make_pipeline\n",
    "from sklearn.linear_model import LinearRegression \n",
    "from sklearn.preprocessing import PolynomialFeatures\n",
    "import numpy as np\n",
    "import matplotlib.pyplot as plt\n",
    "import seaborn as sns\n",
    "sns.set()\n",
    "#mache Punktwolke\n",
    "rng = np.random.RandomState(10)\n",
    "x = 10 * rng.rand(50)\n",
    "y = np.sin(x) + 0.1 * rng.randn(50)\n",
    "\n",
    "#zeichne Punktwolke\n",
    "plt.figure(figsize=(10,6))\n",
    "plt.scatter(x, y,color=\"red\")\n",
    "plt.show()\n",
    "\n",
    "#mache Regression mit den Graden bei color_nums und den Farben bei colors\n",
    "plt.figure(figsize=(10,6))\n",
    "plt.ylim((-3,1.5))\n",
    "colormap=np.empty(22,dtype=object)    \n",
    "color_nums=[2,3,6,10,15,19,21]\n",
    "colors=[\"orange\",\"blue\",\"green\",\"red\",\"turquoise\",\"black\",\"violet\"]\n",
    "count=0\n",
    "for i in color_nums:\n",
    "    colormap[i]=colors[count]\n",
    "    count+=1\n",
    "    \n",
    "#hier die eigentliche Regression    \n",
    "for i in [2,3,6,10,15,19,21]:\n",
    "    poly_model = make_pipeline(PolynomialFeatures(i), \n",
    "                           LinearRegression()) #benutze die Pipeline um die Polynome zu machen und dann die Regression\n",
    "\n",
    "\n",
    "    poly_model.fit(x[:, np.newaxis], y) #berechne die beste Annäherung des Polynoms mit Grad i\n",
    "    \n",
    "    #drucke Werte für Coeffizienten aus\n",
    "    print(f\" R²:{poly_model.score(x[:, np.newaxis], y):4.3f} Grad {i}\")\n",
    "    \n",
    "    #predicte für jweils 1000 Werte zwischen 0 und 10 die Werte des Polynoms \n",
    "    xfit = np.linspace(0, 10, 1000)\n",
    "    yfit = poly_model.predict(xfit[:, np.newaxis])\n",
    "    plt.plot(xfit, yfit, color=colormap[i],alpha=.7,label=str(i));\n",
    "    \n",
    "plt.scatter(x, y,color=\"red\")\n",
    "plt.legend(loc='lower left')\n",
    "\n",
    "plt.show()"
   ]
  },
  {
   "cell_type": "markdown",
   "id": "eefe23e0",
   "metadata": {},
   "source": [
    "Wir haben bisher nur gezeigt, dass wir mit ML in der Lage sind, Annäherungen an Punktewolken durchzuführen. Erinnern wir uns an die Definitionen im Einführungskapitel geht es aber darum, nun neue Punkte (neue X-Werte) mit der optimalen Annäherung, die wir bei den hier gezeigten Lernvorgängen erreicht haben, vorauszusagen (bezüglich des zugehörigen Y-Wertes, den wir nicht haben!). Dazu später mehr."
   ]
  },
  {
   "cell_type": "code",
   "execution_count": null,
   "id": "cdc2943b",
   "metadata": {},
   "outputs": [],
   "source": []
  }
 ],
 "metadata": {
  "kernelspec": {
   "display_name": "Python 3 (ipykernel)",
   "language": "python",
   "name": "python3"
  },
  "language_info": {
   "codemirror_mode": {
    "name": "ipython",
    "version": 3
   },
   "file_extension": ".py",
   "mimetype": "text/x-python",
   "name": "python",
   "nbconvert_exporter": "python",
   "pygments_lexer": "ipython3",
   "version": "3.9.7"
  }
 },
 "nbformat": 4,
 "nbformat_minor": 5
}
