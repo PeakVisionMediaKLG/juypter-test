{
 "cells": [
  {
   "cell_type": "markdown",
   "id": "c74d0ddb",
   "metadata": {},
   "source": [
    "## Gradientenabstiegsverfahren von Grund auf erklärt\n",
    "<img width=300 height=300 class=\"imgright\" src=\"Images/climbing1.png\" alt=\"restaurant\" />"
   ]
  },
  {
   "cell_type": "markdown",
   "id": "d36878d1",
   "metadata": {},
   "source": [
    "In unserem Beispiel der linearen Regression haben wir getestet, welche der Kombinationen von Änderungen von m (Steigung) und b (Schnittpunkt mit der y-Achse) jeweils zu einer Verminderung des Gesamtfehlers führen und haben schrittweise diese Parameter-Kombination optimiert. Wir hatten die Optimierung so durchgeführt, dass wir die Parameter jeweils um kleine Beträge verändert haben in plus- und minus-Richtung und dann jeweils den besten Wert für den entsprechenden Parameter im nächsten Optimierungsschritt verwendet haben. <br><br>Jetzt wollen wir ein schnelleres und gebräuchlicheres Verfahren besprechen, das Gradientenabstiegsverfahren, bei der die Gesamtfehlerfunktion nach den einzelnen Parametern differenziert wird und so das Fehlerminimum und die zugehörigen Parameterwerte bestimmt werden. Das Ziel ist wieder, die Parameter dann unabhängig voneinander so zu verändern, dass das Fehlerminimum gefunden wird. Dies wird durch kleine Schritte erreicht, deren Grösse von der Entfernung zum Minimum abhängen."
   ]
  },
  {
   "cell_type": "markdown",
   "id": "98216cc2",
   "metadata": {},
   "source": [
    "Um unsere Überlegungen zu erleichtern, lassen wir jetzt wieder die Optimierung von b zunächst wieder einmal weg und beschränken uns auf das Modell mit alleiniger Optimierung von m, <b>b wird konstant auf 0 gesetzt</b>.\n",
    "Wir zeichnen nun zunächst eine Kurve, die uns den Gesamtfehler für unser System in Abhängigkeit von m angibt:"
   ]
  },
  {
   "cell_type": "code",
   "execution_count": 1,
   "id": "cccd9ca0",
   "metadata": {},
   "outputs": [
    {
     "name": "stdout",
     "output_type": "stream",
     "text": [
      " Minimum Fehlerquadratsumme 15486.000000000042 bei m von  1.04\n"
     ]
    },
    {
     "data": {
      "image/png": "[encoded data removed]",
      "text/plain": [
       "<Figure size 432x288 with 1 Axes>"
      ]
     },
     "metadata": {
      "needs_background": "light"
     },
     "output_type": "display_data"
    }
   ],
   "source": [
    "import matplotlib.pyplot as plt\n",
    "b=0\n",
    "\n",
    "def gesamtfehler(x_werte,y_werte,m):\n",
    "    sum_0=0\n",
    "    for i in range(len(x_werte)):\n",
    "            sum_0+=(m*x_werte[i]+b - y_werte[i])**2 \n",
    "    return sum_0\n",
    "\n",
    "\n",
    "x,y=[],[]    \n",
    "with open(\"Data/Reservierungen.txt\", \"r\") as fh:\n",
    "    for line in fh:\n",
    "        x_roh,y_roh=line.rstrip().split(\",\")        \n",
    "        x.append(int(x_roh))#x und y kommt als String\n",
    "        y.append(int(y_roh))\n",
    "\n",
    "    \n",
    "res_list,m_list=[],[]\n",
    "m=-5\n",
    "while m<6:\n",
    "    m_list.append(m)\n",
    "    res_list.append(gesamtfehler(x,y,m))\n",
    "    m+=.01\n",
    "plt.xlabel(\"m-Werte\", fontsize=10)                 \n",
    "plt.ylabel(\"Fehlerquadratsumme\", fontsize=10)\n",
    "plt.plot(m_list,res_list)\n",
    "plt.plot([-3.9,-1.8],[4e6,1.2e6]) # Beispiel Tangente\n",
    "\n",
    "#print(m_list.index(1.0399999999999383))\n",
    "print(f\" Minimum Fehlerquadratsumme {res_list[604]} bei m von {m_list[res_list.index(min(res_list))]:5.2f}\") #wo ist das Minimum?\n"
   ]
  },
  {
   "cell_type": "markdown",
   "id": "a75fdad9",
   "metadata": {},
   "source": [
    "Wir sehen hier eine glatte Kurve mit einem Minimum für m bei 1.04. Wollen wir diesen Punkt (x,y) für das Minimum von m in unserer Grafik finden, so wäre eine Möglichkeit, an jedem beliebigen Punkt der Kurve deren Steigung festzustellen, wie es die orange Linie (Tangente) an einer Stelle exemplarisch tut. Am Minimum der Kurve wäre dann die Steigung 0. Um diesen Punkt <b> mit schrittweiser Veränderung von m</b> zu finden, würde man sich bei negativer Steigung (wie dargestellt) einen Schritt zu grösseren m-Werten hin bewegen, bei positver Steigung umgekehrt. Man könnte zusätzlich noch die Grösse des Schritts von der Grösse der Steigung abhängig machen, je steiler, desto grösser der Schritt. Wir würden also das Minimum mittels Differentialrechnung finden. (Wir könnten hier im Falle nur eines Parameters natürlich direkt den Minimalwert berechnen, an dem die Steigung der Fehlerfunktion 0 ist. Bei Problemen mit mehreren (bis vielen) Parametern ist die Funktion für den Gesamtfehler aber meist sehr komplex, Einzelfehlerkurven für jeden der Parameter sind dann bei konstanten Werten für die anderen Parameter darstellbar (und hoffentlich differenzierbar), die Gesamtfehlerfunktion aber nur noch iterativ zu optimieren.)"
   ]
  },
  {
   "cell_type": "markdown",
   "id": "9fb30119",
   "metadata": {},
   "source": [
    "Um dies zu erreichen, müsste man die Fehlerkurve differenzieren. \n",
    "Die Gleichung für die Fehlerquadratsumme lautet:<br>\n",
    "<br> \n",
    "$$mittlereFehlerquadratsumme = 1/n\\sum_{i=1}^{n} (x_i*m+b-y_i)^2$$\n",
    "<br><br>\n",
    "für b = 0, <br><br>\n",
    "$$mittlereFehlerquadratsumme = 1/n\\sum_{i=1}^{n} (x_i*m-y_i)^2$$\n",
    "    "
   ]
  },
  {
   "cell_type": "markdown",
   "id": "ee2a20c4",
   "metadata": {},
   "source": [
    "<b>Leiten wir dieses nach m ab</b> (die x-Werte und y-Werte und damit auch der Einzelwert x[i] und y[i] sowie n stellen Konstanten dar) so erhält man (äussere Ableitung mal innere Ableitung):\n",
    "<br><br> \n",
    "$$dmittlereFehlerquadratsumme/dm = 2/n\\sum_{i=1}^{n} x_i * (x_i*m -y_i)$$<br>\n"
   ]
  },
  {
   "cell_type": "markdown",
   "id": "7995baf2",
   "metadata": {},
   "source": [
    "Passen wir nun unser ursprüngliches Modell ohne Optimierung von b unserer neuen Methode an:"
   ]
  },
  {
   "cell_type": "code",
   "execution_count": 2,
   "id": "237b1009",
   "metadata": {},
   "outputs": [
    {
     "name": "stdout",
     "output_type": "stream",
     "text": [
      "\n",
      "Ende, keine Verbesserung mehr möglich  m =  1.04, b = 0 in Lauf 6 \n",
      "\n",
      "X-Wert:2.00 wahrer Y-Wert:30.00 vorausgesagter Y-Wert: 2.08\n",
      "X-Wert:3.00 wahrer Y-Wert:34.00 vorausgesagter Y-Wert: 3.12\n",
      "X-Wert:4.00 wahrer Y-Wert:35.00 vorausgesagter Y-Wert: 4.16\n",
      "X-Wert:5.00 wahrer Y-Wert:32.00 vorausgesagter Y-Wert: 5.21\n",
      "X-Wert:10.00 wahrer Y-Wert:32.00 vorausgesagter Y-Wert: 10.41\n",
      "X-Wert:11.00 wahrer Y-Wert:43.00 vorausgesagter Y-Wert: 11.45\n",
      "X-Wert:13.00 wahrer Y-Wert:26.00 vorausgesagter Y-Wert: 13.54\n",
      "X-Wert:14.00 wahrer Y-Wert:45.00 vorausgesagter Y-Wert: 14.58\n",
      "X-Wert:16.00 wahrer Y-Wert:35.00 vorausgesagter Y-Wert: 16.66\n",
      "X-Wert:17.00 wahrer Y-Wert:46.00 vorausgesagter Y-Wert: 17.70\n",
      "X-Wert:19.00 wahrer Y-Wert:44.00 vorausgesagter Y-Wert: 19.78\n",
      "X-Wert:20.00 wahrer Y-Wert:52.00 vorausgesagter Y-Wert: 20.82\n",
      "X-Wert:23.00 wahrer Y-Wert:52.00 vorausgesagter Y-Wert: 23.95\n",
      "X-Wert:24.00 wahrer Y-Wert:53.00 vorausgesagter Y-Wert: 24.99\n",
      "X-Wert:25.00 wahrer Y-Wert:56.00 vorausgesagter Y-Wert: 26.03\n",
      "X-Wert:28.00 wahrer Y-Wert:38.00 vorausgesagter Y-Wert: 29.15\n",
      "X-Wert:29.00 wahrer Y-Wert:40.00 vorausgesagter Y-Wert: 30.20\n",
      "X-Wert:33.00 wahrer Y-Wert:46.00 vorausgesagter Y-Wert: 34.36\n",
      "X-Wert:36.00 wahrer Y-Wert:48.00 vorausgesagter Y-Wert: 37.48\n",
      "X-Wert:37.00 wahrer Y-Wert:60.00 vorausgesagter Y-Wert: 38.53\n",
      "X-Wert:39.00 wahrer Y-Wert:48.00 vorausgesagter Y-Wert: 40.61\n",
      "X-Wert:40.00 wahrer Y-Wert:60.00 vorausgesagter Y-Wert: 41.65\n",
      "X-Wert:41.00 wahrer Y-Wert:61.00 vorausgesagter Y-Wert: 42.69\n",
      "X-Wert:44.00 wahrer Y-Wert:63.00 vorausgesagter Y-Wert: 45.81\n",
      "X-Wert:49.00 wahrer Y-Wert:66.00 vorausgesagter Y-Wert: 51.02\n",
      "X-Wert:50.00 wahrer Y-Wert:69.00 vorausgesagter Y-Wert: 52.06\n",
      "X-Wert:52.00 wahrer Y-Wert:62.00 vorausgesagter Y-Wert: 54.14\n",
      "X-Wert:56.00 wahrer Y-Wert:56.00 vorausgesagter Y-Wert: 58.31\n",
      "X-Wert:61.00 wahrer Y-Wert:69.00 vorausgesagter Y-Wert: 63.51\n",
      "X-Wert:62.00 wahrer Y-Wert:67.00 vorausgesagter Y-Wert: 64.56\n",
      "X-Wert:64.00 wahrer Y-Wert:61.00 vorausgesagter Y-Wert: 66.64\n",
      "X-Wert:68.00 wahrer Y-Wert:77.00 vorausgesagter Y-Wert: 70.80\n",
      "X-Wert:70.00 wahrer Y-Wert:76.00 vorausgesagter Y-Wert: 72.89\n",
      "X-Wert:74.00 wahrer Y-Wert:66.00 vorausgesagter Y-Wert: 77.05\n",
      "X-Wert:75.00 wahrer Y-Wert:76.00 vorausgesagter Y-Wert: 78.09\n",
      "X-Wert:76.00 wahrer Y-Wert:69.00 vorausgesagter Y-Wert: 79.13\n",
      "X-Wert:77.00 wahrer Y-Wert:76.00 vorausgesagter Y-Wert: 80.17\n",
      "X-Wert:78.00 wahrer Y-Wert:76.00 vorausgesagter Y-Wert: 81.22\n",
      "X-Wert:83.00 wahrer Y-Wert:78.00 vorausgesagter Y-Wert: 86.42\n",
      "X-Wert:84.00 wahrer Y-Wert:92.00 vorausgesagter Y-Wert: 87.46\n",
      "X-Wert:86.00 wahrer Y-Wert:78.00 vorausgesagter Y-Wert: 89.55\n",
      "X-Wert:88.00 wahrer Y-Wert:73.00 vorausgesagter Y-Wert: 91.63\n",
      "X-Wert:89.00 wahrer Y-Wert:91.00 vorausgesagter Y-Wert: 92.67\n",
      "X-Wert:90.00 wahrer Y-Wert:90.00 vorausgesagter Y-Wert: 93.71\n",
      "X-Wert:91.00 wahrer Y-Wert:81.00 vorausgesagter Y-Wert: 94.75\n",
      "X-Wert:95.00 wahrer Y-Wert:85.00 vorausgesagter Y-Wert: 98.92\n",
      "X-Wert:96.00 wahrer Y-Wert:88.00 vorausgesagter Y-Wert: 99.96\n",
      "X-Wert:97.00 wahrer Y-Wert:98.00 vorausgesagter Y-Wert: 101.00\n",
      "X-Wert:98.00 wahrer Y-Wert:91.00 vorausgesagter Y-Wert: 102.04\n",
      "X-Wert:100.00 wahrer Y-Wert:88.00 vorausgesagter Y-Wert: 104.12\n",
      "Fehlerquadratsumme: 15485.456558626669\n"
     ]
    }
   ],
   "source": [
    "def trainieren(x_werte,y_werte,anzahl_durchgänge,lernrate):\n",
    "    m=0\n",
    "    b=0\n",
    "    \n",
    "    for lauf in range(anzahl_durchgänge):\n",
    "        gradient_sum=0\n",
    "        for i in range(len(x_werte)):            \n",
    "            gradient_sum+=x_werte[i]*(x_werte[i]*m - y_werte[i]) #Ableitung Fehlerquadratsummenkurve\n",
    "        change= 2*-gradient_sum/len(x_werte) *lernrate         \n",
    "        if abs(change)<1e-3: #Kurvensteigung (Tangente) kleiner 1/1000 Änderung\n",
    "            print(f\"\\nEnde, keine Verbesserung mehr möglich  m = {m:5.2f}, b = 0 in Lauf {lauf} \\n\")\n",
    "            return m\n",
    "        else:\n",
    "            m += change \n",
    "        \n",
    "    return m\n",
    "\n",
    "\n",
    "\n",
    "def voraussagen(m,x,y):\n",
    "    my_sum=0\n",
    "    for x_item,y_item in sorted(zip(x,y)):\n",
    "        print(f\"X-Wert:{x_item:4.2f} wahrer Y-Wert:{y_item:4.2f} vorausgesagter Y-Wert: {x_item*m:4.2f}\")\n",
    "        my_sum+=(y_item-x_item*m)**2\n",
    "    print (f\"Fehlerquadratsumme: {my_sum}\")\n",
    "    return\n",
    "\n",
    "x,y=[],[]    \n",
    "with open(\"Data/Reservierungen.txt\", \"r\") as fh:\n",
    "    for line in fh:\n",
    "        x_roh,y_roh=line.rstrip().split(\",\")        \n",
    "        x.append(int(x_roh))#x und y kommt als String\n",
    "        y.append(int(y_roh))#wir schreiben unsere Reservierungen und die Anzahl der Mahlzeiten in L\n",
    "\n",
    "   \n",
    "\n",
    "voraussagen(trainieren(x,y,1000,1e-4),x,y)"
   ]
  },
  {
   "cell_type": "markdown",
   "id": "959f58bd",
   "metadata": {},
   "source": [
    "Wir erhalten nahezu identische Werte zu unserem Programm im letzten Kapitel, als wir auch nur m optimierten, aber dies bereits nach 6 Läufen und nicht nach 10419 Läufen bei gleicher Lernrate von 1e-4.\n",
    "Die Methode scheint also sehr effizient zu sein.\n",
    "Man beachte auch, dass die Änderung von m nicht mehr in festen Schritten erfolgt wie vorher. Die bei der Optimierung immer kleiner werdende Steigung der Fehlerquadratsumme wird mit der Lernrate multipliziert und dieses immer kleiner werdende Produkt als Änderung zu m addiert. Wir haben damit bei Annäherung an unseren Optimalwert automatisch immer kleinere Änderungsschritte.<br><br>\n",
    "Nun wollen wir die mittlere Fehlerquadratsumme der Geradengleichung für den Parameter b ermitteln, <b>m bleibt konstant</b>.\n",
    "<br><br>\n",
    "Um dies zu erreichen, müsste man die Fehlerkurve differenzieren. \n",
    "Die Gleichung für die Fehlerquadratsumme lautet:<br>\n",
    "<br> \n",
    "$$mittlereFehlerquadratsumme = 1/n\\sum_{i=1}^{n} (x_i*m+b-y_i)^2$$\n",
    "\n",
    "<br><br>\n",
    "für m = 0, konstant und willkürlich auf 0 gesetzt<br><br>\n",
    "$$mittlereFehlerquadratsumme = 1/n\\sum_{i=1}^{n} (b-y_i)^2$$<br>\n",
    "\n",
    "Dasselbe können wir auch für b durchführen und dabei m konstant halten.\n",
    "Die Ableitung der Fehlerquadratsumme nach b sieht folgendermassen aus:\n",
    "<br>\n",
    "$$dmittlereFehlerquadratsumme/db = 2/n\\sum_{i=1}^{n}  (b -y_i)$$<br>\n",
    "\n",
    "Hier die Kurven der Fehlerquadratsumme für m (b=0) und für b (m=0).<br><br>\n",
    "<img width=600 height=600 class=\"imgright\" src=\"Images/Fehlerquadratsumme_mb.png\"  />\n"
   ]
  },
  {
   "cell_type": "markdown",
   "id": "a5018060",
   "metadata": {},
   "source": [
    "\n",
    "Und unser Programm würde sich wie folgt verändern:\n",
    "    "
   ]
  },
  {
   "cell_type": "code",
   "execution_count": 2,
   "id": "acfeb6f6",
   "metadata": {},
   "outputs": [
    {
     "name": "stdout",
     "output_type": "stream",
     "text": [
      "\n",
      "Ende, keine Verbesserung mehr möglich  m = 0.00 in Lauf 33 \n",
      "\n",
      " 61.557 errechneter b-Wert\n",
      "\n",
      " Für 30 Reservierungen auf der vorausgesagten Geraden:  61.56, Wert der Referenzgeraden: 49.3 \n",
      "\n",
      " Für 50 Reservierungen auf der vorausgesagten Geraden:  61.56, Wert der Referenzgeraden: 61.1 \n",
      "\n",
      " Für 80 Reservierungen auf der vorausgesagten Geraden:  61.56, Wert der Referenzgeraden: 78.7 \n",
      "\n",
      " Gesamtfehler 444.3251533808939\n"
     ]
    }
   ],
   "source": [
    "def trainieren(x_werte,y_werte,anzahl_durchgänge,lernrate):\n",
    "    m=0\n",
    "    b=0\n",
    "    for lauf in range(anzahl_durchgänge):\n",
    "        gradient_sum=0\n",
    "        for i in range(len(x_werte)):\n",
    "            gradient_sum+=(x_werte[i]*m+b - y_werte[i]) #m=0\n",
    "        change= 2*-gradient_sum/len(x_werte) *lernrate        \n",
    "        if abs(change)<1e-3:\n",
    "            print(f\"\\nEnde, keine Verbesserung mehr möglich  m ={m:5.2f} in Lauf {lauf} \\n\")\n",
    "            return b\n",
    "        else:\n",
    "            b += change\n",
    "        \n",
    "    return b\n",
    "\n",
    "def voraussagen(b):\n",
    "    fehler,Ergebnisse=0,{30:49.3,50:61.1,80:78.7}\n",
    "    print(f\" {b:2.3f} errechneter b-Wert\\n\")\n",
    "    for x,y in Ergebnisse.items():\n",
    "        print(f\" Für {x} Reservierungen auf der vorausgesagten Geraden: {b:6.2f}, Wert der Referenzgeraden: {y} \\n\")\n",
    "        fehler+=(b-y)**2\n",
    "    print(f\" Gesamtfehler {fehler}\")    \n",
    "\n",
    "x,y=[],[]    \n",
    "with open(\"Data/Reservierungen.txt\", \"r\") as fh:\n",
    "    for line in fh:\n",
    "        x_roh,y_roh=line.rstrip().split(\",\")        \n",
    "        x.append(int(x_roh))#x und y kommt als String\n",
    "        y.append(int(y_roh))#wir schreiben unsere Reservierungen und die Anzahl der Mahlzeiten in L\n",
    "\n",
    "   \n",
    "\n",
    "voraussagen(trainieren(x,y,1000,.13))"
   ]
  },
  {
   "cell_type": "markdown",
   "id": "67702fe2",
   "metadata": {},
   "source": [
    "Wir sehen hier bei noch grossem Gesamtfehler eine relativ geringe Anzahl von Läufen bis zum Optimum. Nachdem wir nun gezeigt haben, dass man die Optimierung für beide Einzelparameter durchführen kann, werden wir nun unsere beiden Verfahren kombinieren und erhalten dann:"
   ]
  },
  {
   "cell_type": "code",
   "execution_count": 3,
   "id": "f43a0569",
   "metadata": {},
   "outputs": [
    {
     "name": "stdout",
     "output_type": "stream",
     "text": [
      "\n",
      "Ende, keine Verbesserung mehr möglich m =  0.59 b= 31.49 in Lauf 97 \n",
      "\n",
      "X-Wert:2.00 wahrer Y-Wert:30.00 vorausgesagter Y-Wert: 32.67\n",
      "X-Wert:3.00 wahrer Y-Wert:34.00 vorausgesagter Y-Wert: 33.26\n",
      "X-Wert:4.00 wahrer Y-Wert:35.00 vorausgesagter Y-Wert: 33.85\n",
      "X-Wert:5.00 wahrer Y-Wert:32.00 vorausgesagter Y-Wert: 34.44\n",
      "X-Wert:10.00 wahrer Y-Wert:32.00 vorausgesagter Y-Wert: 37.40\n",
      "X-Wert:11.00 wahrer Y-Wert:43.00 vorausgesagter Y-Wert: 37.99\n",
      "X-Wert:13.00 wahrer Y-Wert:26.00 vorausgesagter Y-Wert: 39.17\n",
      "X-Wert:14.00 wahrer Y-Wert:45.00 vorausgesagter Y-Wert: 39.76\n",
      "X-Wert:16.00 wahrer Y-Wert:35.00 vorausgesagter Y-Wert: 40.94\n",
      "X-Wert:17.00 wahrer Y-Wert:46.00 vorausgesagter Y-Wert: 41.53\n",
      "X-Wert:19.00 wahrer Y-Wert:44.00 vorausgesagter Y-Wert: 42.71\n",
      "X-Wert:20.00 wahrer Y-Wert:52.00 vorausgesagter Y-Wert: 43.30\n",
      "X-Wert:23.00 wahrer Y-Wert:52.00 vorausgesagter Y-Wert: 45.07\n",
      "X-Wert:24.00 wahrer Y-Wert:53.00 vorausgesagter Y-Wert: 45.66\n",
      "X-Wert:25.00 wahrer Y-Wert:56.00 vorausgesagter Y-Wert: 46.25\n",
      "X-Wert:28.00 wahrer Y-Wert:38.00 vorausgesagter Y-Wert: 48.02\n",
      "X-Wert:29.00 wahrer Y-Wert:40.00 vorausgesagter Y-Wert: 48.62\n",
      "X-Wert:33.00 wahrer Y-Wert:46.00 vorausgesagter Y-Wert: 50.98\n",
      "X-Wert:36.00 wahrer Y-Wert:48.00 vorausgesagter Y-Wert: 52.75\n",
      "X-Wert:37.00 wahrer Y-Wert:60.00 vorausgesagter Y-Wert: 53.34\n",
      "X-Wert:39.00 wahrer Y-Wert:48.00 vorausgesagter Y-Wert: 54.52\n",
      "X-Wert:40.00 wahrer Y-Wert:60.00 vorausgesagter Y-Wert: 55.11\n",
      "X-Wert:41.00 wahrer Y-Wert:61.00 vorausgesagter Y-Wert: 55.70\n",
      "X-Wert:44.00 wahrer Y-Wert:63.00 vorausgesagter Y-Wert: 57.47\n",
      "X-Wert:49.00 wahrer Y-Wert:66.00 vorausgesagter Y-Wert: 60.42\n",
      "X-Wert:50.00 wahrer Y-Wert:69.00 vorausgesagter Y-Wert: 61.01\n",
      "X-Wert:52.00 wahrer Y-Wert:62.00 vorausgesagter Y-Wert: 62.20\n",
      "X-Wert:56.00 wahrer Y-Wert:56.00 vorausgesagter Y-Wert: 64.56\n",
      "X-Wert:61.00 wahrer Y-Wert:69.00 vorausgesagter Y-Wert: 67.51\n",
      "X-Wert:62.00 wahrer Y-Wert:67.00 vorausgesagter Y-Wert: 68.10\n",
      "X-Wert:64.00 wahrer Y-Wert:61.00 vorausgesagter Y-Wert: 69.28\n",
      "X-Wert:68.00 wahrer Y-Wert:77.00 vorausgesagter Y-Wert: 71.64\n",
      "X-Wert:70.00 wahrer Y-Wert:76.00 vorausgesagter Y-Wert: 72.82\n",
      "X-Wert:74.00 wahrer Y-Wert:66.00 vorausgesagter Y-Wert: 75.18\n",
      "X-Wert:75.00 wahrer Y-Wert:76.00 vorausgesagter Y-Wert: 75.77\n",
      "X-Wert:76.00 wahrer Y-Wert:69.00 vorausgesagter Y-Wert: 76.37\n",
      "X-Wert:77.00 wahrer Y-Wert:76.00 vorausgesagter Y-Wert: 76.96\n",
      "X-Wert:78.00 wahrer Y-Wert:76.00 vorausgesagter Y-Wert: 77.55\n",
      "X-Wert:83.00 wahrer Y-Wert:78.00 vorausgesagter Y-Wert: 80.50\n",
      "X-Wert:84.00 wahrer Y-Wert:92.00 vorausgesagter Y-Wert: 81.09\n",
      "X-Wert:86.00 wahrer Y-Wert:78.00 vorausgesagter Y-Wert: 82.27\n",
      "X-Wert:88.00 wahrer Y-Wert:73.00 vorausgesagter Y-Wert: 83.45\n",
      "X-Wert:89.00 wahrer Y-Wert:91.00 vorausgesagter Y-Wert: 84.04\n",
      "X-Wert:90.00 wahrer Y-Wert:90.00 vorausgesagter Y-Wert: 84.63\n",
      "X-Wert:91.00 wahrer Y-Wert:81.00 vorausgesagter Y-Wert: 85.22\n",
      "X-Wert:95.00 wahrer Y-Wert:85.00 vorausgesagter Y-Wert: 87.58\n",
      "X-Wert:96.00 wahrer Y-Wert:88.00 vorausgesagter Y-Wert: 88.17\n",
      "X-Wert:97.00 wahrer Y-Wert:98.00 vorausgesagter Y-Wert: 88.76\n",
      "X-Wert:98.00 wahrer Y-Wert:91.00 vorausgesagter Y-Wert: 89.35\n",
      "X-Wert:100.00 wahrer Y-Wert:88.00 vorausgesagter Y-Wert: 90.54\n",
      "Fehlerquadratsumme: 51607.45139058406\n"
     ]
    }
   ],
   "source": [
    "def trainieren(x_werte,y_werte,anzahl_durchgänge,lernrate_m,lernrate_b):\n",
    "    m=0\n",
    "    b=0\n",
    "    for lauf in range(anzahl_durchgänge):\n",
    "        gradient_sum_b,gradient_sum_m=0,0\n",
    "        for i in range(len(x_werte)):\n",
    "            gradient_sum_b+=(x_werte[i]*m+b - y_werte[i])            \n",
    "            gradient_sum_m+= x_werte[i]*(x_werte[i]*m+b - y_werte[i])\n",
    "        change_b=2*-gradient_sum_b/len(x_werte) *lernrate_b\n",
    "        change_m=2*-gradient_sum_m/len(x_werte) *lernrate_m  \n",
    "        \n",
    "        if abs(change_b)<.01 and abs(change_m)<.01:\n",
    "            print(f\"\\nEnde, keine Verbesserung mehr möglich m = {m:5.2f} b= {b:5.2f} in Lauf {lauf} \\n\")\n",
    "            return m,b\n",
    "        else:\n",
    "            b += change_b\n",
    "            m += change_m            \n",
    "    return m,b\n",
    "\n",
    "def voraussagen(m,b,x,y):\n",
    "    my_sum=0\n",
    "    for x_item,y_item in sorted(zip(x,y)):\n",
    "        print(f\"X-Wert:{x_item:4.2f} wahrer Y-Wert:{y_item:4.2f} vorausgesagter Y-Wert: {x_item*m+b:4.2f}\")\n",
    "        my_sum+=(y_item-x_item*m)**2\n",
    "    print (f\"Fehlerquadratsumme: {my_sum}\")\n",
    "    return\n",
    "    \n",
    "x,y=[],[]    \n",
    "with open(\"Data/Reservierungen.txt\", \"r\") as fh:\n",
    "    for line in fh:\n",
    "        x_roh,y_roh=line.rstrip().split(\",\")        \n",
    "        x.append(int(x_roh))#x und y kommt als String\n",
    "        y.append(int(y_roh))#wir schreiben unsere Reservierungen und die Anzahl der Mahlzeiten in L\n",
    "\n",
    "   \n",
    "\n",
    "voraussagen(*trainieren(x,y,1000,1e-4,1e-1),x,y)"
   ]
  },
  {
   "cell_type": "markdown",
   "id": "58b61cb5",
   "metadata": {},
   "source": [
    "Dieses Verfahren läuft mit sehr schneller Annäherung ans Optimum.<b> Wichtig zu erwähnen ist, daß man davon ausgeht, dass die Gewichte voneinander unabhängig verändert werden können, um zum Fehlerminimum zu kommen. Diese Annahme ist nur zu halten, wenn die Lernrate genügend klein ist. Alle Gewichte werden dann um einen kleinen Betrag in die richtige Richtung verändert. Es könnte bei hohen Lernraten ein Gewicht zufällig die Oberhand gewinnen und das Ergebnis quasi allein bestimmen.</b>\n",
    "Ob es möglich ist, das Verfahren zu verwenden, hängt davon ab, ob die jeweilige Funktion für den Fehler (bei uns die Fehlerquadratsumme) glatt verläuft und keine Sprünge macht, sodass man sie differenzieren kann, und ob sie nur ein Minimum hat oder mehrere, von denen dann eines zufällig angesteuert wird, aber nicht zwingend das <b>absolute Minimum</b>. Für hohe Werte der Lernrate funktioniert unser Verfahren nicht. Der jeweilige Änderungsschritt der Parameter, der sich aus der Steigung der Fehlerfunktion ergibt, kann so groß ein, daß der neue Wert zu einem höheren Wert der Fehlerfunktion führt. Die Veränderung wird dann noch größer beim nächsten Schritt und dies kann zu sich ständig erhöhenden Fehlerwerten führen, wie unsere Grafik unten zeigt. \n"
   ]
  },
  {
   "cell_type": "markdown",
   "id": "aa61495d",
   "metadata": {},
   "source": [
    "<img class=\"imgright\" src=\"Images/overshoot.png\" alt=\"overshoot\" />\n",
    "Hier führt jeder Schritt der Anpassung, weil er zu groß ist, zu immer schlechteren Werten auf der Fehlerfunktion.\n",
    "Man nennt dies \"overshoot\" oder überschwingen. Deshalb muss die Lernrate genügend klein sein und als Hyperparameter optimiert werden."
   ]
  },
  {
   "cell_type": "code",
   "execution_count": null,
   "id": "37b121a5",
   "metadata": {},
   "outputs": [],
   "source": []
  }
 ],
 "metadata": {
  "kernelspec": {
   "display_name": "Python 3 (ipykernel)",
   "language": "python",
   "name": "python3"
  },
  "language_info": {
   "codemirror_mode": {
    "name": "ipython",
    "version": 3
   },
   "file_extension": ".py",
   "mimetype": "text/x-python",
   "name": "python",
   "nbconvert_exporter": "python",
   "pygments_lexer": "ipython3",
   "version": "3.9.7"
  }
 },
 "nbformat": 4,
 "nbformat_minor": 5
}
