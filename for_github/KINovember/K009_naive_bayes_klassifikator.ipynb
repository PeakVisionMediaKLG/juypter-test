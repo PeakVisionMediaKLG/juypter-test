{
 "cells": [
  {
   "cell_type": "markdown",
   "metadata": {},
   "source": [
    "## Naive Bayes Klassifikator\n",
    "\n",
    "\n",
    "\n",
    "<img width=600   src=\"Images/Bayes.png\"  /><br><br>\n",
    "\n",
    "Ein beim maschinellen Lernen häufig verwendeter Klassifikator ist der Naive Bayes Klassifikator. Er beruht auf dem <b>Bayes Theorem,</b> welche eine einfache mathematische Formulierung zum Ungang mit bedingten Wahrscheinlichkeiten darstellt. Bedingte Wahrscheinlichkeiten entstehen, wenn man nach der Wahrscheinlichkeit eines Ereignisses fragt <b>unter der Voraussetzung,</b> daß ein anderes Ereignis bereits abgelaufen ist. <b>Der Naive Bayes Klassifikator ist probabilistisch, er gibt also nicht nur einfache Klassenzugehörigkeiten aus, sondern auch die Wahrscheinlichkeiten</b> für die entsprechende Zuordnung. Warum \"naive\"? Weil der Klassifikator prinzipiell davon ausgeht, daß alle Features völlig voneinander unabhängig sind, was natürlich häufig nicht der Fall ist, aber dennoch die Methode dadurch nicht unbrauchbar macht. Wäre für eine Sample das Feature A (z.B. Körpergrösse) mit einem bestimmten Wert belegt, so hätte dies im Idealfall also keinerlei Einfluß auf Feature B (z.B. Gewicht).\n",
    "\n",
    "<br> Da die Grundlage das Bayes Theorem ist, möchten wir dies zunächst kurz besprechen. Zunächst zu bedingten Wahrscheinlichkeiten: Nehmen wir an, wir sind ein sehr schlechter Schütze und schiessen auf ein Wand, die auf der 2 Bereiche aufgemalt sind, die sich überlappen und mit A und B gekennzeichnet sind. Wo wir die Wand treffen, soll absolut zufällig sein. Unten die Situation:<br><br><img width=600   src=\"Images/Wand.png\"  /><br><br>\n",
    "Wir erkennen nun 4 mögliche Bereiche, in denen wir die Wand treffen können:<br><br>  Weisser Bereich, also weder A noch B. Wir nennen ihn notA,notB. Damit meinen wir notA <b>und</b> notB.  <br>\n",
    "  Kompletter Bereich A. Wir nennen ihn A.<br>\n",
    "  Kompletter Bereich B. Wir nennen ihn B.<br>\n",
    "  Bereich der Überlappung von A und B. Wir nennen ihn <b>A∩B. \"∩\" meint dabei die Schnittmenge.</b><br><br>\n",
    " Die Wahrscheinlichkeit die Wand P(W) zu treffen sei 1, wir treffen also die Wand immer.<br>\n",
    " Die Wahrscheinlichkeit in A zu treffen nennen wir P(A), sie ist natürlich kleiner als P(W). Sie berechnet sich mit P(A)/P/W),wobei P(W) ja 1 ist.<br>\n",
    " Die Wahrscheinlichkeit in B zu treffen wäre P(B). Und nun kommen wir in den Bereich der bedingten Wahrscheinlichkeiten:<br>\n",
    " Die Wahrscheinlichkeit B zu treffen, wenn wir A ebenfalls getroffen haben, also im Überlappungsbereich von A und B nennen wir P(A|B).<br>Umgekehrt für A wenn B ebenfalls getroffen P(B|A). Die P(Ereignis1|Ereignis2) Schreibweise bedeutet damit: Wahrscheinlichkeit für das Ereignis1 unter der Voraussetzung, daß Ereignis2 eingetreten ist.\n",
    " "
   ]
  },
  {
   "cell_type": "markdown",
   "metadata": {},
   "source": [
    "Wie groß wäre nun P(A|B)? Wenn wir dies bestimmen wollen handelt es sich um einen Teilbereich von B. Von allen Treffern in B ist nur der Teil betroffen, der in der Überlappung von A und B liegt.\n",
    "Dieser Teil ist nach unserer Nomenklatur P(A∩B). Diesen Teil müssen wir durch P(B) teilen, da wir ja auch B getroffen haben müssen, damit das Ereignis \"Übergangsbereich von A und B treffen, wenn wir B getroffen haben\" erfüllt ist.\n",
    "Die bedingte Wahrscheinlichkeit P(A|B) wäre damit:<br><br> $$P(A|B)=P(A∩B)/P(B)$$.<br>\n",
    "Und für P(B|A):$$P(B|A)=P(A∩B)/P(A)$$.<br> Sind diese gleich? Mitnichten. Da P(B) im Beispiel wesentlich kleiner ist, treffen wir, wenn wir in B einen Treffer landen auch häufiger in den Bereich P(A∩B) als im umgekehrten Fall.<br><br>\n",
    "Von dieser Überlegung leitet sich Bayes Theorem ab. Unsere beiden Gleichungen oben haben einen gemeinsamen Term $P(A∩B)$.\n",
    "Wenn wir sie umformen und gleich setzen erhalten wir:<br><br>\n",
    "$$ P(A∩B)=P(A|B)/P(B)$$  und $$P(A∩B)=P(B|A)/P(A)$$ <br><br> also: <br><br>$$P(A|B)/P(B)=P(B|A)/P(A)$$.<br><br><b> und damit Bayes Theorem:</b><br><br>\n",
    "$$ P(A|B)=\\frac {P(B|A) P(A)} {P(B)}$$"
   ]
  },
  {
   "cell_type": "markdown",
   "metadata": {},
   "source": [
    "Was können wir damit anfangen? Bringen wir ein Beispiel eines medizinischen Tests. Dieser soll als Screening gelten. Dabei gibt es typischerweise das Problem mit falsch-positiven Ergebnissen.\n",
    "Nehmen wir an, wir wollen wissen, wie oft die Krankheit wirklich vorliegt bei einem positiven Testergebnis. \n",
    "<br> Zunächst setzen wir diese Daten in unsere Bayes Formel ein. A wäre die Wahrscheinlichkeit, daß die Krankheit vorliegt in unserer Population sagen wir in 1 von 10000 Fällen P(A)=0.0001. P(B|A) die Wahrscheinlichkeit einen positiven Test zu haben, wenn man krank ist. Der Hersteller gibt an, daß der Test in 99.9% der Fälle bei kranken Personen positiv ist. P(B|A) wäre also <b>.999</b>. <b>Der Test wäre aber bei 1 von 100 Gesunden  also mit 0.01</b> ebenfalls positiv.<br>\n",
    "Für unsere Bayes Formel haben wir jetzt P(A) und P(B|A). Wir sind interessiert an P(A|B). Es fehlt uns noch P(B). Der Test kann positiv sein bei Gesunden oder bei Kranken. Diese erste Wahrscheinlichkeit ist ${P(nichtA)}*{0.01}$. Ausserdem ist er mit 0.999  Wahrscheinlichkeit positiv bei Kranken. Also ${P(A)}*{.999}$.<br> Diese beiden Möglichkeiten müssen wir addieren um die Gesamtwahrscheinlichkeit für B, also einen positiven Test, zu bekommen und erhalten: <br> \n",
    "$0.009999 + 0.0000999=0.0100989$. Dies ist P(B), denn andere Möglichkeiten für einen positiven Test gibt es nicht.<br>\n",
    "Damit können wir den uns interessierenden Wert berechnen mit:<br><br>$$ P(A|B)=\\frac {P(B|A) P(A)} {P(B)}$$<br>\n",
    "$$P(A|B)=\\frac {{0.999}*{0.0001}}{0.0100989}$$<br><br>\n",
    "$$P(A|B)=0.0099$$<br><br>\n",
    "<b>Dies bedeutet, daß bei positivem Testergebnis nur knapp 1% der Getesteten wirklich krank ist!!</b> <br> Ein überraschendes Ergebnis für den eigentlich doch ganz guten Test und eine interessante Anwendung des Bayes Theorems.<br>\n",
    "Was hat dies aber nun mit dem Klassifikator zu tun?\n",
    "\n"
   ]
  },
  {
   "cell_type": "markdown",
   "metadata": {},
   "source": [
    "### Der Naive Bayes Klassifikator nutzt das Bayes Theorem in dieser Weise:\n",
    "<br><b>\n",
    "K steht für einen der Werte, die der Klassifikator als Zuordnungsergebnis ausgeben kann.<br>\n",
    "L steht für das echte Label einer Sample.</b><br><br> Dann gilt:<br><br>\n",
    "$$P(K | L) = \\frac{P(L | K) P(K)}{P(L)}$$\n",
    "\n",
    "Es bedeutet dabei:\n",
    "\n",
    "- $P(K | L)$ ist die Wahrscheinlichkeit einer Sample mit dem Label \"L\" in der Klasse \"K\" zu sein. Dies ist genau das, was wir wissen wollen.<br>\n",
    "- $P(L | K)$ ist die Wahrscheinlichkeit, mit der das wirkliche Label \"L\" auftritt in der Klasse \"K\". Dies können wir für unseren Klassifikator einfach auszählen und dann berechnen.<br>\n",
    "\n",
    "- $P(K)$ ist die Wahrscheinlichkeit für das Vorkommen der Klasse \"K\" in allen Ausgabewerten unseres Klassifikators. Dies können wir ebenfalls berechnen.<br>\n",
    "\n",
    "- $P(L)$ ist die Wahrscheinlichkeit für das Vorkommen eines Labels \"L\" in all unseren Samples. Auch dies können wir einfach bestimmen.<br><br>\n",
    "\n",
    "<b>Der Klassifikator würde uns also zurückgeben, wie groß die <u>Wahrscheinlichkeit</u> ist, daß der Klassifikator unsere Sample mit dem Label L einer bestimmten Klasse K zuordnet. Deshalb ist der Naive Bayes Klassifikator auch ein probabilistischer Klassifikator.</b><br>\n"
   ]
  },
  {
   "cell_type": "markdown",
   "metadata": {},
   "source": [
    "Wir wollen jetzt einen einfachen NB Klassifikator erstellen.\n",
    "Nehmen wir wieder unser Beispiel, den Autoverkäufer. Dieser will wissen, was die Anzahl von Zeitungsinseraten für  den Verkauf bringt. Er hat z.B. 20 Autos nur einmal inseriert, davon wurden dann 3 verkauft. Bei 5 Inseraten hat er dagegen 14 von 23 Autos verkauft.<br>\n",
    "Als Label nehmen wir also nicht verkauft oder verkauft (0,1).<br>\n",
    "Als Feature haben wir Anzahl der Inserate.<br> \n",
    "Wir tragen dann jeweils für ein Auto ein: Anzahl der Inserate , verkauft oder nicht verkauft.\n",
    "Wir lesen die Datei Autos_Angebote ein.\n",
    "Dann zeigen wir daraus einen Ausschnitt(Auto 50-59).\n",
    "Es sind 95 Autos eingetragen.<br>\n",
    "<b>Verkauft wurden insgesamt 48.</b>\n",
    "Wir geben dann die Verteilung graphisch aus."
   ]
  },
  {
   "cell_type": "code",
   "execution_count": 1,
   "metadata": {},
   "outputs": [
    {
     "name": "stdout",
     "output_type": "stream",
     "text": [
      "Beispiel: 50 Inserate: 5 verkauft: False\n",
      "Beispiel: 51 Inserate: 10 verkauft: True\n",
      "Beispiel: 52 Inserate: 7 verkauft: True\n",
      "Beispiel: 53 Inserate: 7 verkauft: False\n",
      "Beispiel: 54 Inserate: 4 verkauft: False\n",
      "Beispiel: 55 Inserate: 9 verkauft: True\n",
      "Beispiel: 56 Inserate: 1 verkauft: False\n",
      "Beispiel: 57 Inserate: 8 verkauft: True\n",
      "Beispiel: 58 Inserate: 1 verkauft: True\n",
      "Beispiel: 59 Inserate: 3 verkauft: False\n",
      "\n",
      "Klasse 3: 13 davon verkauft: 4\n"
     ]
    },
    {
     "data": {
      "image/png": "[encoded data removed]",
      "text/plain": [
       "<Figure size 432x288 with 1 Axes>"
      ]
     },
     "metadata": {
      "needs_background": "light"
     },
     "output_type": "display_data"
    }
   ],
   "source": [
    "import matplotlib.pyplot as plt\n",
    "import numpy as np\n",
    "import pickle\n",
    "import numpy.random as r\n",
    "with  open(\"Data/Autos_Angebote\",\"rb\") as fh:\n",
    "    X,y=pickle.load(fh)\n",
    "data_complete=np.column_stack((X,y)) #Samples zusammenfassen mit Label \n",
    "r.shuffle(data_complete) #inplace durchmischen\n",
    "X=data_complete[:,0] #wieder zerlegen\n",
    "y=data_complete[:,1]\n",
    "for i in range(50,60):\n",
    "    print(f\"Beispiel: {i} Inserate: {X[i]} verkauft: {bool(y[i])}\")\n",
    "Xno=X[y==0]\n",
    "Xyes=X[y==1]\n",
    "\n",
    "yes_unique, yes_counts = np.unique(Xyes[Xyes>0], return_counts=True)\n",
    "\n",
    "plt.bar(yes_unique,yes_counts,.7,color=\"red\",label=\"verkauft\")\n",
    "no_unique, no_counts = np.unique(Xno[Xno>0], return_counts=True)\n",
    "plt.bar(no_unique,no_counts,.9,color=\"blue\",alpha=.4,label=\"nicht verkauft\")\n",
    "plt.legend(loc='upper center')\n",
    "plt.xlabel(\"Anzahl Inserate\")\n",
    "plt.ylabel(\"Anzahl Autos\")\n",
    "sum3,sum3_True=0,0\n",
    "for i in range(len(X)):\n",
    "    if X[i]==3:\n",
    "        sum3+=1\n",
    "        if y[i]==1:\n",
    "            sum3_True+=1\n",
    "print(f\"\\nKlasse 3: {sum3} davon verkauft: {sum3_True}\")\n",
    "    \n",
    "    "
   ]
  },
  {
   "cell_type": "markdown",
   "metadata": {},
   "source": [
    "Für jede Klasse entsprechend der Anzahl der Inserate (Inserat Anzahl) können wir jetzt die Wahrscheinlichkeit eines Verkaufs berechnen als <br><br>$$p\\ Verkauf(Inserat\\ Anzahl)= \\frac{Anzahl\\ verkauft(Inserat\\ Anzahl)} {Gesamt\\ Anzahl\\ (Inserat\\ Anzahl)}$$<br><br><br> ergibt sich so aus unseren Werten für die Klasse mit 3 Inseraten:<br><br>$$p(Verkauf bei 3 Inseraten)= \\frac{4}{13} = 0.3079$$<br><br>entsprechend unserer oben angeführten Bayes_Formel:<br><br>\n",
    "\n",
    "$$P(K | L) = \\frac{P(L | K) P(K)}{P(L)}$$ ergibt sich ebenfalls:\n",
    "<br><br>\n",
    "(zur Erinnerung:<br>K steht für eines der Werte, die der Klassifikator als Zuordnungsergebnis ausgeben kann.<br>\n",
    "L steht für das echte Label einer Sample)<br><br> \n",
    "$$p(\\ Verkauf\\ bei\\ Inserate\\ Anzahl\\ 3)=\\frac{p(\\ 3 \\ mal\\ inseriert\\ bei\\ allen\\ verkauften \\ Autos) * p(\\ Verkauf \\ allgemein)}{p(\\ 3\\ Inserate\\ geschaltet\\ für\\ alle Autos)}$$<br><br>\n",
    "eingesetzt:<br><br>\n",
    "$$p(\\ Verkauf\\ bei\\ Inserate\\ Anzahl\\ 3)=\\frac{(4/48)*(48/95)}{13/95} = 0.3079 $$<br><br>\n",
    "<b>Wir können also unseren Klassifikator mit der Bayes-Formel benutzen, wenn wir die Wahrscheinlichkeit wissen wollen, mit der ein neuer Eintrag mit dem Label L in die Klasse K fällt.\n",
    "<br><br></b> Unten das Ergebnis unseres Klassifikators."
   ]
  },
  {
   "cell_type": "code",
   "execution_count": 2,
   "metadata": {},
   "outputs": [
    {
     "name": "stdout",
     "output_type": "stream",
     "text": [
      "Anzahl Inserate:  1   Verkaufswahrscheinlichkeit: 0.125\n",
      "Anzahl Inserate:  2   Verkaufswahrscheinlichkeit: 0.200\n",
      "Anzahl Inserate:  3   Verkaufswahrscheinlichkeit: 0.308\n",
      "Anzahl Inserate:  4   Verkaufswahrscheinlichkeit: 0.375\n",
      "Anzahl Inserate:  5   Verkaufswahrscheinlichkeit: 0.375\n",
      "Anzahl Inserate:  6   Verkaufswahrscheinlichkeit: 0.538\n",
      "Anzahl Inserate:  7   Verkaufswahrscheinlichkeit: 0.636\n",
      "Anzahl Inserate:  8   Verkaufswahrscheinlichkeit: 0.714\n",
      "Anzahl Inserate:  9   Verkaufswahrscheinlichkeit: 0.900\n",
      "Anzahl Inserate: 10   Verkaufswahrscheinlichkeit: 0.857\n"
     ]
    }
   ],
   "source": [
    "yes_dict = dict(zip(yes_unique,yes_counts))\n",
    "no_dict = dict(zip(no_unique,no_counts))\n",
    "\n",
    "\n",
    "def verkaufs_erfolg(yes_dict,no_dict,num_inserat):\n",
    "    yes = yes_dict.get(num_inserat, 0)\n",
    "    if yes == 0:\n",
    "        return 0\n",
    "    else:\n",
    "        no = no_dict.get(num_inserat, 0)\n",
    "        return yes / (yes + no)\n",
    "\n",
    "for inserat_num in range(1, 11):\n",
    "    print(f\"Anzahl Inserate: {inserat_num:2d}   Verkaufswahrscheinlichkeit: {verkaufs_erfolg(yes_dict,no_dict,inserat_num):5.3f}\")\n",
    "        \n"
   ]
  },
  {
   "cell_type": "markdown",
   "metadata": {},
   "source": [
    "### Ein Naive Bayes Klassifikator Beispiel\n",
    "\n",
    "#### Daten vorbereiten\n",
    "\n",
    "Wir verwenden die Datei <code>person_data.txt</code>. Sie enthält 100 zufällige Personen-Daten, männlich oder weiblich, mit Körpergrößen, Gewicht und Geschlechts-Informationen."
   ]
  },
  {
   "cell_type": "code",
   "execution_count": 12,
   "metadata": {
    "scrolled": true
   },
   "outputs": [
    {
     "name": "stdout",
     "output_type": "stream",
     "text": [
      "Übersicht über Daten:\n",
      "\n",
      "['Randy', 'Carter', '184', '73.0', 'male']\n",
      "['Stephanie', 'Smith', '149', '52', 'female']\n",
      "['Cynthia', 'Watson', '174', '63', 'female']\n",
      "['Jessie', 'Morgan', '175', '67.0', 'male']\n",
      "['Katherine', 'Carter', '183', '81', 'female']\n",
      "-----------------------------------------------------------------------------------------------------------------------------\n",
      "Wir haben 'vornamen' und 'grösse' als  2 dicts mit den Features 0 und 2 aus 'persons' erstellt\n",
      "Der key der dicts ist jeweils das Geschlecht, der value ist eine Liste mit den Eintägen von Vornamen und Grösse\n",
      "für Personen des jeweiligen Geschlechts.\n",
      "\n",
      "Dictionary vornamen\n",
      "{female:['Stephanie', 'Cynthia', 'Katherine', 'Elizabeth', 'Carol', 'Christina', 'Beverly', 'Sharon', 'Denise', 'Rebecca'] }\n",
      "{male:['Randy', 'Jessie', 'David', 'Stephen', 'Jerry', 'Billy', 'Earl', 'Todd', 'Martin', 'Kenneth'] }\n",
      "\n",
      "Dictionary grössen\n",
      "{female:[149 174 183 138 145 161 179 162 148 196] }\n",
      "{male:[184 175 187 192 204 180 184 174 177 200] }\n"
     ]
    }
   ],
   "source": [
    "import numpy as np\n",
    "\n",
    "genders = [\"male\", \"female\"]\n",
    "persons = []\n",
    "with open(\"Data/person_data.txt\") as fh:\n",
    "    for line in fh:\n",
    "        persons.append(line.strip().split())\n",
    "print(\"Übersicht über Daten:\\n\")\n",
    "for i in range(5):\n",
    "    print(persons[i])\n",
    "print(125*\"-\")\n",
    "\n",
    "vornamen = {}\n",
    "grössen = {}\n",
    "\n",
    "for gender in genders:\n",
    "    vornamen[gender] = [ x[0] for x in persons if x[4]==gender]\n",
    "    grössen[gender] = np.array([ x[2] for x in persons if x[4]==gender]).astype(int)\n",
    "    #heights[gender] = np.array(heights[gender]).astype(int)\n",
    "print(\"\"\"Wir haben 'vornamen' und 'grösse' als  2 dicts mit den Features 0 und 2 aus 'persons' erstellt\n",
    "Der key der dicts ist jeweils das Geschlecht, der value ist eine Liste mit den Eintägen von Vornamen und Grösse\n",
    "für Personen des jeweiligen Geschlechts.\"\"\")\n",
    "\n",
    "print(\"\\nDictionary vornamen\")\n",
    "for gender in (\"female\", \"male\"):\n",
    "    print(\"{\"+gender + \":\",end=\"\")\n",
    "    print(vornamen[gender][:10],\"}\")\n",
    "print(\"\\nDictionary grössen\")\n",
    "for gender in (\"female\", \"male\"):\n",
    "    print(\"{\"+gender + \":\",end=\"\")\n",
    "    print(grössen[gender][:10],\"}\")\n"
   ]
  },
  {
   "cell_type": "markdown",
   "metadata": {},
   "source": [
    "Jetzt werden wir ein dict ```fts``` anlegen mit einem dict des Histogramms der Grössen unserer Personen  als value und  \"male\" und \"female\" als keys  .\n"
   ]
  },
  {
   "cell_type": "code",
   "execution_count": 13,
   "metadata": {},
   "outputs": [
    {
     "name": "stdout",
     "output_type": "stream",
     "text": [
      "{'female': {130: 1, 135: 1, 140: 0, 145: 3, 150: 5, 155: 7, 160: 8, 165: 11, 170: 7, 175: 2, 180: 4, 185: 0, 190: 0, 195: 1, 200: 0}, 'male': {130: 0, 135: 0, 140: 0, 145: 0, 150: 0, 155: 1, 160: 5, 165: 4, 170: 6, 175: 7, 180: 5, 185: 8, 190: 8, 195: 2, 200: 3}}\n"
     ]
    }
   ],
   "source": [
    "fts={}\n",
    "start,ende=130,205\n",
    "for gender in [\"female\",\"male\"]:\n",
    "    cls=dict()\n",
    "    for cls_index in range(start,ende,5):\n",
    "        cls[cls_index]=0\n",
    "        for elem in  grössen[gender]:\n",
    "            if cls_index<=elem<cls_index+5:\n",
    "                cls[cls_index]+=1\n",
    "               \n",
    "    fts[gender]=cls\n",
    "print(fts)"
   ]
  },
  {
   "cell_type": "markdown",
   "metadata": {},
   "source": [
    "Wir demonstrieren die Verteilung der Körpergrössen in Abhängigkeit vom Geschlecht mit einem Diagramm."
   ]
  },
  {
   "cell_type": "code",
   "execution_count": 14,
   "metadata": {},
   "outputs": [
    {
     "data": {
      "text/plain": [
       "Text(0, 0.5, 'Anzahl Personen')"
      ]
     },
     "execution_count": 14,
     "metadata": {},
     "output_type": "execute_result"
    },
    {
     "data": {
      "image/png": "[encoded data removed]",
      "text/plain": [
       "<Figure size 432x288 with 1 Axes>"
      ]
     },
     "metadata": {
      "needs_background": "light"
     },
     "output_type": "display_data"
    }
   ],
   "source": [
    "import matplotlib.pyplot as plt\n",
    "import numpy as np\n",
    "import pickle\n",
    "\n",
    "male_grössen=fts[\"male\"]\n",
    "female_grössen=fts[\"female\"]\n",
    "plt.bar(male_grössen.keys(),male_grössen.values(),4.5,color=\"blue\",label=\"Männer\",alpha=1)\n",
    "plt.bar(female_grössen.keys(),female_grössen.values(),3.5,color=\"red\",label=\"Frauen\",alpha=.6)\n",
    "\n",
    "plt.legend(loc='upper left')\n",
    "plt.xlabel(\"Körpergröße\")\n",
    "plt.ylabel(\"Anzahl Personen\")\n"
   ]
  },
  {
   "cell_type": "markdown",
   "metadata": {},
   "source": [
    "Jetzt unser Naive Bayes Klassifikator:"
   ]
  },
  {
   "cell_type": "code",
   "execution_count": 15,
   "metadata": {},
   "outputs": [
    {
     "name": "stdout",
     "output_type": "stream",
     "text": [
      "Label 130-134 p(male): 0.00 p(female): 1.00\n",
      "Label 135-139 p(male): 0.00 p(female): 1.00\n",
      "Label 140-144 p(male): 0.50 p(female): 0.50\n",
      "Label 145-149 p(male): 0.00 p(female): 1.00\n",
      "Label 150-154 p(male): 0.00 p(female): 1.00\n",
      "Label 155-159 p(male): 0.12 p(female): 0.88\n",
      "Label 160-164 p(male): 0.38 p(female): 0.62\n",
      "Label 165-169 p(male): 0.27 p(female): 0.73\n",
      "Label 170-174 p(male): 0.46 p(female): 0.54\n",
      "Label 175-179 p(male): 0.78 p(female): 0.22\n",
      "Label 180-184 p(male): 0.56 p(female): 0.44\n",
      "Label 185-189 p(male): 1.00 p(female): 0.00\n",
      "Label 190-194 p(male): 1.00 p(female): 0.00\n",
      "Label 195-199 p(male): 0.67 p(female): 0.33\n",
      "Label 200-204 p(male): 1.00 p(female): 0.00\n"
     ]
    }
   ],
   "source": [
    "def NBayes(male,female,bis=True):\n",
    "    for label in male.keys():\n",
    "        if label not in male.keys():\n",
    "            male[label]=0\n",
    "        if label not in female.keys():\n",
    "            female[label]=0\n",
    "        sum_pers=male[label]+female[label]\n",
    "        prob_male=male[label]/sum_pers if sum_pers!=0 else 0\n",
    "        prob_female=female[label]/sum_pers if sum_pers!=0 else 0\n",
    "        if prob_male==0 and prob_female==0: #Achtung Label nicht besetzt\n",
    "            prob_male,prob_female=.5,.5\n",
    "        if bis==True:\n",
    "            print(f\"Label {str(label)}-{str(label+4)} p(male): {prob_male:4.2f} p(female): {prob_female:4.2f}\")\n",
    "        else:\n",
    "            print(f\"Label {str(label)} p(male): {prob_male:4.2f} p(female): {prob_female:4.2f}\")\n",
    "NBayes(male_grössen,female_grössen)"
   ]
  },
  {
   "cell_type": "markdown",
   "metadata": {},
   "source": [
    "Es gibt keine Personen - weder männlich noch weiblich - in unserem Lern-Set, mit einer Körpergröße zwischen 140 und 144 cm. Deshalb kann der Klassifikator nicht auf gelernte Daten aus diesem Wertebereich zugreifen und wir bekommen ein 50-50-Ergebnis bei Label 140 (140 bis 144)."
   ]
  },
  {
   "cell_type": "markdown",
   "metadata": {},
   "source": [
    "Trainieren wir unseren Klassifikator mit Vornamen und lassen uns das Ergebnis für die Klasse \"Male\" ausgeben."
   ]
  },
  {
   "cell_type": "code",
   "execution_count": 16,
   "metadata": {},
   "outputs": [
    {
     "name": "stdout",
     "output_type": "stream",
     "text": [
      "female {'Stephanie': 1, 'Cynthia': 1, 'Katherine': 1, 'Elizabeth': 1, 'Carol': 1, 'Christina': 1, 'Beverly': 1, 'Sharon': 1, 'Denise': 1, 'Rebecca': 1, 'Alice': 1, 'Ashley': 1, 'Sarah': 1, 'Betty': 1, 'Kimberly': 1, 'Julie': 1, 'Donna': 1, 'Marie': 1, 'Paula': 1, 'Irene': 1, 'Barbara': 1, 'Evelyn': 1, 'Kelly': 1, 'Jessie': 4, 'Laura': 1, 'Marilyn': 1, 'Diana': 1, 'Sandra': 1, 'Ann': 1, 'Helen': 1, 'Nicole': 1, 'Lisa': 1, 'Julia': 1, 'Louise': 1, 'Anna': 1, 'Brenda': 1, 'Deborah': 1, 'Angela': 1, 'Sara': 1, 'Maria': 1, 'Debra': 1, 'Lillian': 1, 'Theresa': 1, 'Phyllis': 1, 'Emily': 1, 'Doris': 1, 'Janice': 1}\n",
      "\n",
      "male {'Randy': 1, 'Jessie': 2, 'David': 1, 'Stephen': 1, 'Jerry': 1, 'Billy': 1, 'Earl': 1, 'Todd': 1, 'Martin': 1, 'Kenneth': 1, 'Frank': 1, 'Wayne': 1, 'Henry': 1, 'Alan': 1, 'Paul': 1, 'Jack': 1, 'Bobby': 1, 'Keith': 1, 'Carl': 1, 'Brian': 1, 'Anthony': 1, 'Peter': 1, 'Willie': 1, 'Albert': 1, 'Benjamin': 1, 'Steve': 1, 'Gerald': 1, 'Craig': 1, 'Douglas': 1, 'Joshua': 1, 'Raymond': 1, 'Eric': 1, 'Shawn': 1, 'Justin': 1, 'Arthur': 1, 'Adam': 1, 'Fred': 1, 'George': 1, 'William': 1, 'Andrew': 1, 'Richard': 1, 'Harry': 1, 'Chris': 1, 'Edward': 1, 'Donald': 1, 'Thomas': 1, 'Johnny': 1, 'Matthew': 1, 'Louis': 1}\n",
      "\n",
      "\n",
      "Label Randy p(male): 1.00 p(female): 0.00\n",
      "Label Jessie p(male): 0.33 p(female): 0.67\n",
      "Label David p(male): 1.00 p(female): 0.00\n",
      "Label Stephen p(male): 1.00 p(female): 0.00\n",
      "Label Jerry p(male): 1.00 p(female): 0.00\n",
      "Label Billy p(male): 1.00 p(female): 0.00\n",
      "Label Earl p(male): 1.00 p(female): 0.00\n",
      "Label Todd p(male): 1.00 p(female): 0.00\n",
      "Label Martin p(male): 1.00 p(female): 0.00\n",
      "Label Kenneth p(male): 1.00 p(female): 0.00\n",
      "Label Frank p(male): 1.00 p(female): 0.00\n",
      "Label Wayne p(male): 1.00 p(female): 0.00\n",
      "Label Henry p(male): 1.00 p(female): 0.00\n",
      "Label Alan p(male): 1.00 p(female): 0.00\n",
      "Label Paul p(male): 1.00 p(female): 0.00\n",
      "Label Jack p(male): 1.00 p(female): 0.00\n",
      "Label Bobby p(male): 1.00 p(female): 0.00\n",
      "Label Keith p(male): 1.00 p(female): 0.00\n",
      "Label Carl p(male): 1.00 p(female): 0.00\n",
      "Label Brian p(male): 1.00 p(female): 0.00\n",
      "Label Anthony p(male): 1.00 p(female): 0.00\n",
      "Label Peter p(male): 1.00 p(female): 0.00\n",
      "Label Willie p(male): 1.00 p(female): 0.00\n",
      "Label Albert p(male): 1.00 p(female): 0.00\n",
      "Label Benjamin p(male): 1.00 p(female): 0.00\n",
      "Label Steve p(male): 1.00 p(female): 0.00\n",
      "Label Gerald p(male): 1.00 p(female): 0.00\n",
      "Label Craig p(male): 1.00 p(female): 0.00\n",
      "Label Douglas p(male): 1.00 p(female): 0.00\n",
      "Label Joshua p(male): 1.00 p(female): 0.00\n",
      "Label Raymond p(male): 1.00 p(female): 0.00\n",
      "Label Eric p(male): 1.00 p(female): 0.00\n",
      "Label Shawn p(male): 1.00 p(female): 0.00\n",
      "Label Justin p(male): 1.00 p(female): 0.00\n",
      "Label Arthur p(male): 1.00 p(female): 0.00\n",
      "Label Adam p(male): 1.00 p(female): 0.00\n",
      "Label Fred p(male): 1.00 p(female): 0.00\n",
      "Label George p(male): 1.00 p(female): 0.00\n",
      "Label William p(male): 1.00 p(female): 0.00\n",
      "Label Andrew p(male): 1.00 p(female): 0.00\n",
      "Label Richard p(male): 1.00 p(female): 0.00\n",
      "Label Harry p(male): 1.00 p(female): 0.00\n",
      "Label Chris p(male): 1.00 p(female): 0.00\n",
      "Label Edward p(male): 1.00 p(female): 0.00\n",
      "Label Donald p(male): 1.00 p(female): 0.00\n",
      "Label Thomas p(male): 1.00 p(female): 0.00\n",
      "Label Johnny p(male): 1.00 p(female): 0.00\n",
      "Label Matthew p(male): 1.00 p(female): 0.00\n",
      "Label Louis p(male): 1.00 p(female): 0.00\n"
     ]
    }
   ],
   "source": [
    "\n",
    "fts={}\n",
    "#start,ende=130,205\n",
    "for gender in [\"female\",\"male\"]:\n",
    "    cls=dict()\n",
    "    for cls_index in vornamen[gender]:\n",
    "        cls[cls_index]=0\n",
    "        for elem in  vornamen[gender]:\n",
    "            if cls_index==elem:\n",
    "                cls[cls_index]+=1\n",
    "               \n",
    "    fts[gender]=cls\n",
    "male_vornamen=fts[\"male\"]\n",
    "female_vornamen=fts[\"female\"]\n",
    "print(f\"female {female_vornamen}\\n\")\n",
    "print(f\"male {male_vornamen}\\n\\n\")\n",
    "      \n",
    "NBayes(male_vornamen,female_vornamen,bis=False)"
   ]
  },
  {
   "cell_type": "markdown",
   "metadata": {},
   "source": [
    "Der Name \"Jessie\" ist mehrdeutig. Es gibt Jungen und Mädchen mit diesem Namen. Aus dem Klassifikations-Ergebnis lernen wir, dass die Wahrscheinlichkeit bei zwei-drittel für \"female\" liegt. Hier die \"Jessies\"."
   ]
  },
  {
   "cell_type": "code",
   "execution_count": 17,
   "metadata": {},
   "outputs": [
    {
     "data": {
      "text/plain": [
       "[['Jessie', 'Morgan', '175', '67.0', 'male'],\n",
       " ['Jessie', 'Bell', '165', '65', 'female'],\n",
       " ['Jessie', 'Washington', '159', '56', 'female'],\n",
       " ['Jessie', 'Davis', '174', '45', 'female'],\n",
       " ['Jessie', 'Johnson', '165', '30.0', 'male'],\n",
       " ['Jessie', 'Thomas', '168', '69', 'female']]"
      ]
     },
     "execution_count": 17,
     "metadata": {},
     "output_type": "execute_result"
    }
   ],
   "source": [
    "[person for person in persons if person[0] == \"Jessie\"]"
   ]
  },
  {
   "cell_type": "markdown",
   "metadata": {},
   "source": [
    "Jessie Washington ist nur 159 cm groß. Schauen wir uns die Ergebnisse des Klassifikators an, der mit Körpergrößen trainiert wurde, erkennen wir dass die Wahrscheinlichkeit dafür, dass eine 159 cm große Person weiblich ist, bei 0.875 liegt. <b>Was ist mit einer unbekannten Person die \"Jessie\" heisst und 159 cm groß ist? Ist sie männlich oder weiblich?</b>\n"
   ]
  },
  {
   "cell_type": "markdown",
   "metadata": {},
   "source": [
    "Es gibt nun 2 Möglichkeiten die wir aus den Klassifikationen der Features Vornamen und Größe kennen:<br>\n",
    "Entweder Jessie ist weiblich.<br> Das ergibt sich aus dem Namen mit 0.67 Wahrscheinlichkeit. \n",
    "Aus der Größe ergibt es sich mit 0.875 Wahrscheinlichkeit.<br>\n",
    "\n",
    "Oder Jessie ist männlich.<br>Vorname: 0.33 Wahrscheinlichkeit, Größe 0.12 Wahrscheinlichkeit.\n",
    " Wollen wir mehrere Features in der Bayes Formel berechnen, so können wir das am einfachsten wie folgt machen:<br><br>\n",
    " $p(Klasse1|Feature1 und Feature2)$ = $ \\frac{p(Feature1|Klasse1) * p(Feature2|Klasse1) * p(Klasse1)}{p(Feature1|Klasse1) * p(Feature2|Klasse1) * p(Klasse1)+p(Feature1|Klasse2) * p(Feature2|Klasse2) * p(Klasse2)...}$<br><br>Es gibt nur Klasse1 \"female\" und Klasse2 \"male\".<br>\n",
    " also Zähler: 7/50 * 4/50 * 50/100 = .0056 (7 female sind im Bereich 155-159 , 4 female heißen Jessie, 50 von 100 sind female<br>\n",
    " also Nenner entsprechend: .0056 + 1/50 * 2/50 * 50/100 (.006)<br>\n",
    " Ergebnis, Jessie ist weiblich: 0.0056 / 0.006 = <b>93.333</b><br>\n",
    " Das Gegenereignis , daß Jessie männlich ist, ist 1-0.9333 = <b>0.06667.</b>\n",
    " <br><b> Achtung: Falls der Zähler unserer Formel 0 wäre, ist das Ergebnis 0. Wenn der zu testende Wert in keiner der alternativen Klassen vorkommt, könnte sonst der Nenner ebenfalls 0 werden, und die Rechnung würde einen Fehler ergeben.  \n",
    " "
   ]
  },
  {
   "cell_type": "markdown",
   "metadata": {},
   "source": [
    "Wir werden nun den Naive Bayes Klassifikator von sklearn verwenden, um die Brustkrebsdaten der Wisconsin Breast Cancer Data der Universität von Ljubljana zu kategorisieren. (University Medical Centre,\n",
    "   Institute of Oncology, Ljubljana, Yugoslavia. Go to M. Zwitter and \n",
    "   M. Soklic for providing the data.)"
   ]
  },
  {
   "cell_type": "markdown",
   "metadata": {},
   "source": [
    "Dieses Datenset enthält die Daten von 279 (ohne missing values) Frauen mit Brustkrebsdiagnose. Die beiden Klassen sind: no_recurrence_events und recurrence_events, also Wiederauftreten des Tumors oder kein Wiederauftreten des Tumors. Die entsprechenden Daten zu Diagnosestellungszeitpunkt sind:\n",
    "\n",
    "   <br> age: 10-19, 20-29, 30-39, 40-49, 50-59, 60-69, 70-79, 80-89, 90-99.\n",
    "   <br> menopause: lt40, ge40, premeno. (Menopause vor 40, nach 40 inkl., vor Menopause) \n",
    "   <br> tumor- excision - size: 0-4, 5-9, 10-14, 15-19, 20-24, 25-29, 30-34, 35-39, 40-44,\n",
    "                  45-49, 50-54, 55-59. (im mm)\n",
    "   <br>inv-nodes: 0-2, 3-5, 6-8, 9-11, 12-14, 15-17, 18-20, 21-23, 24-26,\n",
    "                 27-29, 30-32, 33-35, 36-39. (befallene Lymphknoten)\n",
    "   <br> node-caps: yes, no. (Lymphknoten ohne Tumordurchbruch)\n",
    "   <br> deg-malig: 1, 2, 3. (maligintätsgrad histologisch)\n",
    "   <br> breast: left, right.\n",
    "   <br> breast-quad: left-up, left-low, right-up,\tright-low, central. (welcher Brustabschnitt)\n",
    "   <br> irradiat:\tyes, no. (Bestrahlungstherapie)\n",
    "   \n",
    "   Wir lesen die Daten ein und präsentieren einige Samples."
   ]
  },
  {
   "cell_type": "code",
   "execution_count": 5,
   "metadata": {},
   "outputs": [
    {
     "name": "stdout",
     "output_type": "stream",
     "text": [
      "              recurrence    age menopause tumor_excision_size lymph_nodes_nr  \\\n",
      "0   no-recurrence-events  40-49   premeno               20-24            0-2   \n",
      "1   no-recurrence-events  40-49   premeno               20-24            0-2   \n",
      "2   no-recurrence-events  60-69      ge40               15-19            0-2   \n",
      "3   no-recurrence-events  40-49   premeno                 0-4            0-2   \n",
      "4   no-recurrence-events  60-69      ge40               15-19            0-2   \n",
      "5   no-recurrence-events  50-59   premeno               25-29            0-2   \n",
      "6   no-recurrence-events  60-69      ge40               20-24            0-2   \n",
      "7   no-recurrence-events  40-49   premeno               50-54            0-2   \n",
      "8   no-recurrence-events  40-49   premeno               20-24            0-2   \n",
      "9   no-recurrence-events  40-49   premeno                 0-4            0-2   \n",
      "10  no-recurrence-events  50-59      ge40               25-29            0-2   \n",
      "11  no-recurrence-events  60-69      lt40               10-14            0-2   \n",
      "12  no-recurrence-events  50-59      ge40               25-29            0-2   \n",
      "13  no-recurrence-events  40-49   premeno               30-34            0-2   \n",
      "14  no-recurrence-events  60-69      lt40               30-34            0-2   \n",
      "15  no-recurrence-events  40-49   premeno               15-19            0-2   \n",
      "16  no-recurrence-events  50-59   premeno               30-34            0-2   \n",
      "17  no-recurrence-events  60-69      ge40               30-34            0-2   \n",
      "18  no-recurrence-events  50-59      ge40               30-34            0-2   \n",
      "19  no-recurrence-events  50-59      ge40               40-44            0-2   \n",
      "\n",
      "   lnode_break  malig_grade   side   quadrant radiotherapy  \n",
      "0           no            2  right   right_up           no  \n",
      "1           no            2   left   left_low           no  \n",
      "2           no            2  right    left_up           no  \n",
      "3           no            2  right  right_low           no  \n",
      "4           no            2   left   left_low           no  \n",
      "5           no            2   left   left_low           no  \n",
      "6           no            1   left   left_low           no  \n",
      "7           no            2   left   left_low           no  \n",
      "8           no            2  right    left_up           no  \n",
      "9           no            3   left    central           no  \n",
      "10          no            2   left   left_low           no  \n",
      "11          no            1   left   right_up           no  \n",
      "12          no            3   left   right_up           no  \n",
      "13          no            3   left    left_up           no  \n",
      "14          no            1   left   left_low           no  \n",
      "15          no            2   left   left_low           no  \n",
      "16          no            3   left   left_low           no  \n",
      "17          no            3   left   left_low           no  \n",
      "18          no            1  right   right_up           no  \n",
      "19          no            2   left   left_low           no  \n",
      "285 Datensätze gesamt. \n"
     ]
    }
   ],
   "source": [
    "import numpy as np\n",
    "import pandas as pd\n",
    "from pandas import read_csv\n",
    "data = read_csv('Data/breast-cancer.txt',header=0)\n",
    "data.columns = ['recurrence', 'age','menopause','tumor_excision_size','lymph_nodes_nr','lnode_break','malig_grade','side','quadrant','radiotherapy']\n",
    "print(data[:20])\n",
    "print(f\"{len(data)} Datensätze gesamt. \")"
   ]
  },
  {
   "cell_type": "markdown",
   "metadata": {},
   "source": [
    "Wir entfernen die Samples mit missing data. (bekannt sind 8 mit unbekanntem lnode_break (?) und 1 mit unbekanntem quadrant (?))"
   ]
  },
  {
   "cell_type": "code",
   "execution_count": 6,
   "metadata": {},
   "outputs": [
    {
     "name": "stdout",
     "output_type": "stream",
     "text": [
      "276\n",
      "               recurrence    age menopause tumor_excision_size lymph_nodes_nr  \\\n",
      "0    no-recurrence-events  40-49   premeno               20-24            0-2   \n",
      "1    no-recurrence-events  40-49   premeno               20-24            0-2   \n",
      "2    no-recurrence-events  60-69      ge40               15-19            0-2   \n",
      "3    no-recurrence-events  40-49   premeno                 0-4            0-2   \n",
      "4    no-recurrence-events  60-69      ge40               15-19            0-2   \n",
      "..                    ...    ...       ...                 ...            ...   \n",
      "280     recurrence-events  30-39   premeno               30-34            0-2   \n",
      "281     recurrence-events  30-39   premeno               20-24            0-2   \n",
      "282     recurrence-events  60-69      ge40               20-24            0-2   \n",
      "283     recurrence-events  40-49      ge40               30-34            3-5   \n",
      "284     recurrence-events  50-59      ge40               30-34            3-5   \n",
      "\n",
      "    lnode_break  malig_grade   side   quadrant radiotherapy  \n",
      "0            no            2  right   right_up           no  \n",
      "1            no            2   left   left_low           no  \n",
      "2            no            2  right    left_up           no  \n",
      "3            no            2  right  right_low           no  \n",
      "4            no            2   left   left_low           no  \n",
      "..          ...          ...    ...        ...          ...  \n",
      "280          no            2   left    left_up           no  \n",
      "281          no            3   left    left_up          yes  \n",
      "282          no            1  right    left_up           no  \n",
      "283          no            3   left   left_low           no  \n",
      "284          no            3   left   left_low           no  \n",
      "\n",
      "[276 rows x 10 columns]\n"
     ]
    }
   ],
   "source": [
    "data = data[data['lnode_break']!=\"?\"]\n",
    "data = data[data['quadrant']!=\"?\"]\n",
    "print(len(data))\n",
    "#data=data.sample(frac=1)\n",
    "print(data)"
   ]
  },
  {
   "cell_type": "markdown",
   "metadata": {},
   "source": [
    "Hier nochmals die Feature-Namen. Wir trennen die Originaldaten in Features (features) und Label (targets). Dann Codieren wir die Label numerisch mit 0 und 1."
   ]
  },
  {
   "cell_type": "code",
   "execution_count": 7,
   "metadata": {},
   "outputs": [
    {
     "name": "stdout",
     "output_type": "stream",
     "text": [
      "Features\n",
      "['age', 'menopause', 'tumor_excision_size', 'lymph_nodes_nr', 'lnode_break', 'malig_grade', 'side', 'quadrant', 'radiotherapy']\n",
      "einige Targets ['no-recurrence-events' 'no-recurrence-events' 'no-recurrence-events'\n",
      " 'no-recurrence-events' 'no-recurrence-events' 'no-recurrence-events'\n",
      " 'no-recurrence-events' 'no-recurrence-events' 'no-recurrence-events'\n",
      " 'no-recurrence-events' 'no-recurrence-events' 'no-recurrence-events'\n",
      " 'no-recurrence-events' 'no-recurrence-events' 'no-recurrence-events'\n",
      " 'no-recurrence-events' 'no-recurrence-events' 'no-recurrence-events'\n",
      " 'no-recurrence-events' 'no-recurrence-events' 'no-recurrence-events'\n",
      " 'no-recurrence-events' 'no-recurrence-events' 'no-recurrence-events'\n",
      " 'no-recurrence-events' 'recurrence-events' 'recurrence-events'\n",
      " 'recurrence-events' 'recurrence-events' 'recurrence-events'\n",
      " 'recurrence-events' 'recurrence-events' 'recurrence-events'\n",
      " 'recurrence-events' 'recurrence-events' 'recurrence-events'\n",
      " 'recurrence-events' 'recurrence-events' 'recurrence-events'\n",
      " 'recurrence-events' 'recurrence-events' 'recurrence-events'\n",
      " 'recurrence-events' 'recurrence-events' 'recurrence-events'\n",
      " 'recurrence-events' 'recurrence-events' 'recurrence-events'\n",
      " 'recurrence-events' 'recurrence-events']\n",
      "einige encodete Targets [0 0 0 0 0 0 0 0 0 0 0 0 0 0 0 0 0 0 0 0 0 0 0 0 0 1 1 1 1 1 1 1 1 1 1 1 1\n",
      " 1 1 1 1 1 1 1 1 1 1 1 1 1]\n"
     ]
    }
   ],
   "source": [
    "features=data.iloc[:,1:]\n",
    "print(f\"Features\")\n",
    "\n",
    "columns=features.columns.values.tolist()\n",
    "print(columns)\n",
    "features=np.array(features)\n",
    "targets=data.iloc[:,0]\n",
    "#print(features[:,5])\n",
    "\n",
    "#print(np.unique(features[:,5],return_counts=True))\n",
    "targets=np.array(targets)\n",
    "print(f\"einige Targets {targets[170:220]}\")\n",
    "\n",
    "\n",
    "\n",
    "from  sklearn.preprocessing import LabelEncoder\n",
    "le=LabelEncoder()\n",
    "le.fit(targets)\n",
    "targets=le.transform(targets)\n",
    "print(f\"einige encodete Targets {targets[170:220]}\")"
   ]
  },
  {
   "cell_type": "markdown",
   "metadata": {},
   "source": [
    "Hier unsere graphische Übersicht über die Daten."
   ]
  },
  {
   "cell_type": "code",
   "execution_count": 8,
   "metadata": {},
   "outputs": [
    {
     "data": {
      "image/png": "[encoded data removed]",
      "text/plain": [
       "<Figure size 1200x1600 with 8 Axes>"
      ]
     },
     "metadata": {},
     "output_type": "display_data"
    }
   ],
   "source": [
    "import matplotlib.pyplot as plt\n",
    "def make_feature_hist(feature,targets):    \n",
    "    hist_l={}\n",
    "    values = np.unique(targets)    \n",
    "    for cls_value in values:\n",
    "        my_temp_list=list()\n",
    "        for index in range(len(feature)):            \n",
    "            if targets[index] == cls_value:\n",
    "                my_temp_list.append(feature[index])\n",
    "        hist_l[cls_value]=my_temp_list    \n",
    "    all_labels=[]     \n",
    "    for cls_index in values:\n",
    "        for label in hist_l[cls_index]:\n",
    "            if label not in all_labels:\n",
    "                all_labels.append(label)           \n",
    "    \n",
    "    hist_dict=dict()\n",
    "    for cls_value in values:\n",
    "        hist_dict[cls_value]=dict()\n",
    "        for feature_value in all_labels:\n",
    "            hist_dict[cls_value][feature_value]=0\n",
    "            for index in range(len(feature)):\n",
    "                if feature[index]==feature_value and targets[index]==cls_value:\n",
    "                    hist_dict[cls_value][feature_value]+=1\n",
    "           \n",
    "    return hist_dict\n",
    "\n",
    "\n",
    "\n",
    "fig, ax = plt.subplots(4, 2, figsize=(12,16)) ##figsize bestimmt eine identische Größe für alle Einzelplots\n",
    "fig.tight_layout() ### genug Abstand um alle Achsen mit Beschriftung abzubilden ###\n",
    "\n",
    "order=[]\n",
    "order.append([5,3,0,2,1,4])\n",
    "order.append([0,2,1])\n",
    "order.append([2,9,5,1,0,3,6,8,7,10,4])\n",
    "order.append([0,3,1,2,5,4,6])\n",
    "order.append([1,0])\n",
    "order.append([0,1,2])\n",
    "order.append([0,1])\n",
    "order.append([0,1,2,3,4])\n",
    "for i in range(8):\n",
    "    plt.subplot(4,2,i+1)    \n",
    "    hist=make_feature_hist(features[:,i],targets)\n",
    "    recurrence=hist[0]\n",
    "    no_recurrence=hist[1]\n",
    "    keys=list(recurrence.keys())\n",
    "    recurrence=list(recurrence.values())\n",
    "    no_recurrence=list(no_recurrence.values())\n",
    "    \n",
    "    key_old,recurrence_old,no_recurrence_old=keys,recurrence,no_recurrence\n",
    "    keys,recurrence,no_recurrence=[],[],[]\n",
    "    for index in order[i]:\n",
    "        keys.append(key_old[index])\n",
    "        recurrence.append(recurrence_old[index])\n",
    "        no_recurrence.append(no_recurrence_old[index])\n",
    "    \n",
    "    plt.bar(keys,recurrence,.8,color=\"blue\",label=\"No Recurrence\",alpha=1)\n",
    "    plt.bar(keys,no_recurrence,.7,color=\"red\",label=\" Recurrence\",alpha=.6)#,bottom=recurrence)\n",
    "    plt.legend(loc='upper left')\n",
    "    plt.xlabel(columns[i])\n",
    "    plt.ylabel(\"Anzahl Personen\")\n",
    "\n",
    "\n",
    "plt.show()"
   ]
  },
  {
   "cell_type": "code",
   "execution_count": 9,
   "metadata": {},
   "outputs": [
    {
     "name": "stdout",
     "output_type": "stream",
     "text": [
      "Verteilung_Alter:\n",
      " {0: {'60-69': 38, '50-59': 69, '40-49': 62, '30-39': 20}, 1: {'60-69': 17, '50-59': 22, '40-49': 27, '30-39': 15}}\n",
      "Verteilung_Malignitätsgrad:\n",
      " {0: {1: 57, 2: 101, 3: 37}, 1: {1: 9, 2: 28, 3: 44}}\n",
      "Recurrences: 81\n",
      "alle Patienten: 276\n"
     ]
    }
   ],
   "source": [
    "def make_feature_hist(feature,targets):    \n",
    "    hist_l={}\n",
    "    values = np.unique(targets)    \n",
    "    for cls_value in values:\n",
    "        my_temp_list=list()\n",
    "        for index in range(len(feature)):            \n",
    "            if targets[index] == cls_value:\n",
    "                my_temp_list.append(feature[index])\n",
    "        hist_l[cls_value]=my_temp_list\n",
    "    all_values=set()\n",
    "    for cls in hist_l:\n",
    "        all_values=all_values.union(set(np.unique(hist_l[cls_value])))    \n",
    "    hist_dict=dict()\n",
    "    for cls_value in values:\n",
    "        hist_dict[cls_value]=dict()\n",
    "        for feature_value in all_values:\n",
    "            hist_dict[cls_value][feature_value]=0\n",
    "            for index in range(len(feature)):\n",
    "                if feature[index]==feature_value and targets[index]==cls_value:\n",
    "                    hist_dict[cls_value][feature_value]+=1\n",
    "           \n",
    "    return hist_dict\n",
    "Verteilung_Alter=make_feature_hist(features[:,0],targets)\n",
    "Verteilung_Malignitätsgrad=make_feature_hist(features[:,5],targets)\n",
    "\n",
    "print(f\"Verteilung_Alter:\\n {Verteilung_Alter}\")\n",
    "print(f\"Verteilung_Malignitätsgrad:\\n {Verteilung_Malignitätsgrad}\")\n",
    "print(f\"Recurrences: {len(targets[targets==1])}\")\n",
    "print(f\"alle Patienten: {len(targets)}\")\n"
   ]
  },
  {
   "cell_type": "markdown",
   "metadata": {},
   "source": [
    "Mit der neuen make_feature_hist Funktion erhalten wir für die gewüschten Features die Verteilungsdaten."
   ]
  },
  {
   "cell_type": "markdown",
   "metadata": {},
   "source": [
    "Und nun unser Naive Bayes Klassifikator from sklearn.naive_bayes import CategoricalNB. Zunächst verwandeln wir die Features mit einem Encoder in numerische Werte. Wir trennen in 70% Trainingsdaten und 30% Testdaten. Die Accuracy beträgt für unsere Testdaten 66 oder 73% (je nachdem , ob wir die unterschiedliche Größe der zwei Klassen berücksichtigen ->weighted oder nicht). Wir sehen ebenfalls die Konfusionsmatrix."
   ]
  },
  {
   "cell_type": "code",
   "execution_count": 10,
   "metadata": {},
   "outputs": [
    {
     "name": "stdout",
     "output_type": "stream",
     "text": [
      "Codierte Features:\n",
      " [[0. 2. 2. ... 1. 4. 0.]\n",
      " [0. 2. 2. ... 0. 1. 0.]\n",
      " [0. 4. 0. ... 1. 2. 0.]\n",
      " ...\n",
      " [0. 4. 0. ... 1. 2. 0.]\n",
      " [0. 2. 0. ... 0. 1. 0.]\n",
      " [0. 3. 0. ... 0. 1. 0.]]\n",
      "Report:\n",
      "               precision    recall  f1-score   support\n",
      "\n",
      "           0       0.81      0.82      0.81        66\n",
      "           1       0.52      0.50      0.51        26\n",
      "\n",
      "    accuracy                           0.73        92\n",
      "   macro avg       0.66      0.66      0.66        92\n",
      "weighted avg       0.73      0.73      0.73        92\n",
      "\n",
      "Konfusionsmatrix:\n",
      "\n"
     ]
    },
    {
     "data": {
      "image/png": "[encoded data removed]",
      "text/plain": [
       "<Figure size 640x480 with 2 Axes>"
      ]
     },
     "metadata": {},
     "output_type": "display_data"
    }
   ],
   "source": [
    "from sklearn.naive_bayes import CategoricalNB\n",
    "\n",
    "from  sklearn.preprocessing import LabelEncoder\n",
    "from sklearn.metrics import confusion_matrix, ConfusionMatrixDisplay, classification_report\n",
    "from sklearn.model_selection import train_test_split\n",
    "import sys\n",
    "model = CategoricalNB()\n",
    "le=LabelEncoder()\n",
    "\n",
    "enc_features=np.zeros(len(features))\n",
    "\n",
    "for i in range(9):\n",
    "    feature=features[:,i]\n",
    "    le.fit(features[:,i])\n",
    "    feature=le.transform(feature)\n",
    "    \n",
    "    enc_features=np.column_stack((enc_features,feature))\n",
    "print(f\"Codierte Features:\\n {enc_features}\")\n",
    "X_train, X_test, y_train, y_test = train_test_split(enc_features, targets, test_size=0.33, random_state=42)\n",
    "model.fit(X_train, y_train)\n",
    "\n",
    "# # Vorhersagen treffen\n",
    "expected = y_test\n",
    "predicted = model.predict(X_test)\n",
    "\n",
    "# #  Zusammenfassung\n",
    "print(\"Report:\\n\",classification_report(expected, predicted))\n",
    "\n",
    "print(\"Konfusionsmatrix:\\n\")\n",
    "\n",
    "cm = confusion_matrix(expected, predicted, labels=[0,1])\n",
    "disp = ConfusionMatrixDisplay(confusion_matrix=cm,\n",
    "                               display_labels=[\"Recurrence:yes\",\"Recurrence:no\"])\n",
    "disp.plot(cmap=\"Oranges\")\n",
    "\n",
    "plt.show()"
   ]
  },
  {
   "cell_type": "markdown",
   "metadata": {},
   "source": [
    "<b>Hier ein Beispiel zur Demonstration von Precision und Recall-Berechnung und zur Wiederholung die Metriken.</b><br><br><img width=600   src=\"Images/PrecRecall.png\"  /><br><br>\n",
    "\n",
    "<table style=\"text-align: left; width: 100%; background-color: rgb(77, 225, 225); font-size: 16px\">\n",
    "\n",
    "\n",
    "\n",
    "<th style=\"vertical-align: top; width:10% ;text-align: center\">Name\n",
    "</th>\n",
    "<th style=\"vertical-align: top;width:10%;text-align: center\">gebräuchliche Abkürzung\n",
    "</th>\n",
    "<th style=\"vertical-align: top;width:25%;text-align: center\">Formel\n",
    "</th>\n",
    "<th style=\"vertical-align: top;width:55%;text-align: center\">Bedeutung\n",
    "</th>\n",
    "<tr>\n",
    "<td style=\"vertical-align: top;text-align: center\">\n",
    "Richtig Positiv\n",
    "</td>\n",
    "<td style=\"vertical-align: top;text-align: center\">\n",
    "TP\n",
    "</td>\n",
    "    <td style=\"vertical-align: top;text-align: center\">TP</td>\n",
    "<td style=\"vertical-align: top;text-align: left\">\n",
    "positive Punkte in zutreffender Kategorie<br>\n",
    "(hier: Blaue Kategorie für blaue Punkte)    \n",
    "</td>\n",
    "</tr>\n",
    "<tr>\n",
    "<td style=\"vertical-align: top;text-align: center\">\n",
    "Richtig Negativ\n",
    "</td>\n",
    "<td style=\"vertical-align: top;text-align: center\">\n",
    "TN\n",
    "</td><td style=\"vertical-align: top;text-align: center\">TN</td>\n",
    "\n",
    "<td style=\"vertical-align: top;text-align: left\">\n",
    "negative Punkte in zutreffender Kategorie<br>\n",
    "(hier: Braune Kategorie für braune Punkte)     \n",
    "</td>\n",
    "</tr>\n",
    "<tr>\n",
    "<td style=\"vertical-align: top;text-align: center\">\n",
    "Falsch Positiv\n",
    "</td>\n",
    "<td style=\"vertical-align: top;text-align: center\">\n",
    "FP\n",
    "</td><td style=\"vertical-align: top;text-align: center\">FP</td>\n",
    "<td style=\"vertical-align: top;text-align: left\">\n",
    "positive Punkte in nicht zutreffender Kategorie<br>\n",
    "(hier: Braune Kategorie für blaue Punkte)  \n",
    "</td>\n",
    "</tr>\n",
    "<tr>\n",
    "<td style=\"vertical-align: top;text-align: center\">\n",
    "Falsch Negativ\n",
    "</td>\n",
    "<td style=\"vertical-align: top;text-align: center\">\n",
    "FN\n",
    "</td><td style=\"vertical-align: top;text-align: center\">FN</td>\n",
    "<td style=\"vertical-align: top;text-align: left\">\n",
    "negative Punkte in nicht zutreffender Kategorie<br>\n",
    "(hier: Blaue Kategorie für braune Punkte)  \n",
    "</td>\n",
    "</tr>\n",
    "<tr>\n",
    "<td style=\"vertical-align: top;text-align: center\">\n",
    "Recall\n",
    "</td>\n",
    "<td style=\"vertical-align: top;text-align: center\">\n",
    "TPR\n",
    "</td><td>TP/(TP+FN)</td>\n",
    "<td style=\"vertical-align: top;text-align: left\">\n",
    "      % positive Punkte in zutreffender Kategorie/ alle richtigen Punkte<br>\n",
    "    (hier: Blaue Kategorie für blaue Punkte / alle blauen Punkte) \n",
    "</td>\n",
    "</tr>\n",
    "    <tr>\n",
    "<td style=\"vertical-align: top;text-align: center\">\n",
    "Spezifität\n",
    "</td>\n",
    "<td style=\"vertical-align: top;text-align: center\">\n",
    "SPC\n",
    "    </td><td>TN/(TN+FP) </td>\n",
    "<td style=\"vertical-align: top;text-align: left\">\n",
    "     % negative Punkte in zutreffender Kategorie / alle negativen Punkte<br>\n",
    "    (hier: Braune Kategorie für braune Punkte / alle braunen Punkte)\n",
    "</td>\n",
    "</tr>\n",
    "    <tr>\n",
    "<td style=\"vertical-align: top;text-align: center\">\n",
    "Präzision\n",
    "</td>\n",
    "<td style=\"vertical-align: top;text-align: center\">\n",
    "PPV\n",
    "    </td><td>TP/(TP+FP)  </td>\n",
    "<td style=\"vertical-align: top;text-align: left\">\n",
    "    % positive Punkte in zutreffender Kategorie / alle Punkte in Kategorie \"richtig\"\n",
    "    (hier: blaue Kategorie für blaue Punkte / alle Punkte der blauen Kategorie)\n",
    "</td>\n",
    "</tr>\n",
    "    <tr>\n",
    "<td style=\"vertical-align: top;text-align: center\">\n",
    "Negativ vorher-<br>gesagte Werte\n",
    "</td>\n",
    "<td style=\"vertical-align: top;text-align: center\">\n",
    "NPV\n",
    "    </td><td>TN/(TN+FN) </td>\n",
    "<td style=\"vertical-align: top;text-align: left\">\n",
    "    % negative Punkte in zutreffender Kategorie / alle Punkte in Kategorie \"falsch\"\n",
    "    (hier: braune Kategorie für braune Punkte / alle Punkte der braunen Kategorie)    \n",
    "</td>\n",
    "</tr>\n",
    "    <tr>\n",
    "<td style=\"vertical-align: top;text-align: center\">\n",
    "Genauigkeit\n",
    "</td>\n",
    "<td style=\"vertical-align: top;text-align: center\">\n",
    "ACC\n",
    "    </td><td>(TP+TN)/(Alle) </td>\n",
    "<td style=\"vertical-align: top;text-align: left\">\n",
    " % positive Punkte in zutreffender Kategorie + negative Punkte in zutreffender Kategorie / Gesamtzahl Punkte <br>\n",
    "    (hier: (blaue Kategorie für blaue Punkte + braune Kategorie für braune Punkte) / Gesamtzahl Punkte) )\n",
    "</td>\n",
    "</tr>\n",
    "    <tr>\n",
    "<td style=\"vertical-align: top;text-align: center\">\n",
    "f1 Score\n",
    "</td>\n",
    "<td style=\"vertical-align: top;text-align: center\">\n",
    "f1\n",
    "    </td><td>(2*TP)/((2*TP)+FN+FP)</td>\n",
    "<td style=\"vertical-align: top;text-align: left\">\n",
    "   Geht gegen 1 bei abnehmenden Fehlern\n",
    "</td>\n",
    "</tr>\n",
    "</table>\n",
    "<br><br>\n",
    "\n",
    " "
   ]
  },
  {
   "cell_type": "markdown",
   "metadata": {},
   "source": [
    "Wir können natürlich (wie oben gezeigt) auch hier unsere Wahrscheinlichkeiten in Abhängigkeit von Feature - Werten berechnen.\n",
    "Es gibt nur 2 Klassen, Recurrence oder No-Recurrence. <br>\n",
    "<br> <b>Testen wir die Wahrscheinlichkeit für eine Patientin im Alter zwischen 50 und 59 mit dem Malignitätsgrad 2 eine Recurrence zu bekommen. </b>\n",
    "Aus dem Alter ergibt sich ergibt eine Recurrence-Wahrscheinlichkeit von:<br> 21/(70+21)\n",
    "Aus dem Malignitätsgrad von 32/(97+32)\n",
    "<br>Unsere Formel:<br>\n",
    " $p(Klasse1|Feature1 und Feature2)$ = $ \\frac{p(Feature1|Klasse1) * p(Feature2|Klasse1) * p(Klasse1)}{p(Feature1|Klasse1) * p(Feature2|Klasse1) * p(Klasse1)+p(Feature1|Klasse2) * p(Feature2|Klasse2) * p(Klasse2)...}$<br><br>Es gibt nur Klasse1 \"female\" und Klasse2 \"male\".<br>\n",
    " also Zähler: 22/81 * 28/81 * 81/276 = .0275<br>\n",
    " also Nenner: .0275 + 69/195 * 101/195 * 195/276 (.1565)<br>\n",
    " Ergebnis: 0.0275 / 0.1565 = .176<br>\n",
    " Das Gegenereignis , daß keine Recurrence auftritt wäre: 1-0.176=.824\n"
   ]
  },
  {
   "cell_type": "code",
   "execution_count": null,
   "metadata": {},
   "outputs": [],
   "source": []
  }
 ],
 "metadata": {
  "anaconda-cloud": {},
  "kernelspec": {
   "display_name": "Python 3 (ipykernel)",
   "language": "python",
   "name": "python3"
  },
  "language_info": {
   "codemirror_mode": {
    "name": "ipython",
    "version": 3
   },
   "file_extension": ".py",
   "mimetype": "text/x-python",
   "name": "python",
   "nbconvert_exporter": "python",
   "pygments_lexer": "ipython3",
   "version": "3.9.12"
  }
 },
 "nbformat": 4,
 "nbformat_minor": 4
}
