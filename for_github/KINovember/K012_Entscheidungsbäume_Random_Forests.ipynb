{
 "cells": [
  {
   "cell_type": "markdown",
   "metadata": {},
   "source": [
    "# Entscheidungsbäume (Decision Trees)\n",
    "## von Grund auf\n",
    "<br>\n",
    "<img width=500 height=300 class=\"imgright\" src=\"Images/Tree.png\" alt=\"restaurant\" />"
   ]
  },
  {
   "cell_type": "markdown",
   "metadata": {},
   "source": [
    "Bei Entscheidungsbäumen handelt es sich um ein Beispiel von Entscheidungs-basierten Klassifikationsverfahren.\n",
    "Die Features eines Satzes von Samples werden in Abfragen überprüft und nach jeder Abfrage die Samples aufgeteilt in jeweils 2 Gruppen. Es handelt sich also somit um einen binären Baum, in dem die einzelnen Verzweigungen die Samples nach bestimmten Gesichtspunkten trennen, bis sich in den so entstehenden weiteren Knoten des Baumes nach Möglichkeit nur noch Samples jeweils einer der verschiedenen Klassen befinden. Dies wäre das Ziel der Klassifikation. Für unbekannte Testsamples könnten wir dann für die Klassifikation unseren Baum durchfahren und sehen, in welchen Endknoten (Blattknoten) die jeweiligen Samples enden.\n"
   ]
  },
  {
   "cell_type": "markdown",
   "metadata": {},
   "source": [
    "Die aufzuteilenden Samples könnnen für die Features dabei sowohl kategorische Daten als auch kontinuierliche Daten enthalten also z.B. <br>für <b>Autos \"Dieselmotor\",\"4 Radantrieb\"... kategorisch</b><br>\n",
    "oder  z.B. für die <b>Körpergrösse 165cm, 176cm ... kontinuierlich.\n",
    "    <br></b>\n",
    "    Entsprechend heissen die Entscheidungsbäume dann ```kategorische Entscheidungsbäume``` oder ```kontinuierliche Entscheidungsbäume.```"
   ]
  },
  {
   "cell_type": "markdown",
   "metadata": {},
   "source": [
    "Die Knoten eines Entscheidungsbaumes haben eine bestimmte Terminologie. Das Ziel ist, in den Blattknoten nur jeweils einen Label zu haben.\n",
    "<br>\n",
    "<img width=800   src=\"Images/Terminologie Entscheidungsbäume.png\"  />"
   ]
  },
  {
   "cell_type": "markdown",
   "metadata": {},
   "source": [
    "Nehmen wir als Beispiel Datenpunkte in einem zweidimensionalen Koordinatensystem mit den zwei Features x-Wert und y-Wert, die zu jeweils einer von zwei Kategorien gehören (rot und grün). Wir wollen hierfür einen kontinuierlichen Entscheidungsbaum erstellen. Zunächst unsere Daten."
   ]
  },
  {
   "cell_type": "code",
   "execution_count": 1,
   "metadata": {},
   "outputs": [
    {
     "name": "stdout",
     "output_type": "stream",
     "text": [
      "X-Koordinate: -5.00  Y-Koordinate:  0.50  Label: 0\n",
      "X-Koordinate: -4.50  Y-Koordinate: -1.50  Label: 0\n",
      "X-Koordinate: -4.20  Y-Koordinate:  3.30  Label: 0\n",
      "X-Koordinate: -3.00  Y-Koordinate: -2.00  Label: 0\n",
      "X-Koordinate: -1.50  Y-Koordinate: -0.80  Label: 1\n",
      "X-Koordinate: -1.20  Y-Koordinate:  1.30  Label: 1\n",
      "X-Koordinate: -0.50  Y-Koordinate:  0.50  Label: 1\n",
      "X-Koordinate:  0.00  Y-Koordinate:  0.00  Label: 1\n",
      "X-Koordinate:  0.30  Y-Koordinate:  1.40  Label: 1\n",
      "X-Koordinate:  0.50  Y-Koordinate: -0.50  Label: 1\n",
      "X-Koordinate:  1.20  Y-Koordinate:  0.10  Label: 1\n",
      "X-Koordinate:  2.00  Y-Koordinate:  1.70  Label: 1\n",
      "X-Koordinate:  1.80  Y-Koordinate: -1.20  Label: 1\n",
      "X-Koordinate:  0.20  Y-Koordinate:  3.20  Label: 0\n",
      "X-Koordinate:  2.20  Y-Koordinate:  3.80  Label: 0\n",
      "X-Koordinate:  4.00  Y-Koordinate:  0.20  Label: 0\n",
      "X-Koordinate:  3.20  Y-Koordinate: -1.90  Label: 0\n",
      "X-Koordinate:  5.00  Y-Koordinate: -1.00  Label: 0\n",
      "0\n"
     ]
    },
    {
     "data": {
      "text/plain": [
       "<matplotlib.collections.PathCollection at 0x7fa231a38bb0>"
      ]
     },
     "execution_count": 1,
     "metadata": {},
     "output_type": "execute_result"
    },
    {
     "data": {
      "image/png": "[encoded data removed]",
      "text/plain": [
       "<Figure size 432x432 with 1 Axes>"
      ]
     },
     "metadata": {
      "needs_background": "light"
     },
     "output_type": "display_data"
    }
   ],
   "source": [
    "import matplotlib.pyplot as plt\n",
    "from matplotlib.pyplot import figure\n",
    "import numpy as np\n",
    "L,labels=[],[]\n",
    "with open(\"Data/points.txt\",\"r\") as fh:\n",
    "    for line in fh:\n",
    "        x,y,label= line.rstrip().split(\",\")\n",
    "        L.append([float(x),float(y)])\n",
    "        labels.append (int(label))\n",
    "        print(f\"X-Koordinate: {float(x):5.2f}  Y-Koordinate: {float(y):5.2f}  Label: {int(label)}\")\n",
    "plt.figure(figsize=(6,6))\n",
    "L=np.array(L)\n",
    "plt.xlim(-6,6)\n",
    "plt.ylim(-6,6)\n",
    "colormap=np.array([\"red\",\"green\"])\n",
    "print(label)\n",
    "plt.scatter(L[:,0],L[:,1],color=colormap[labels],s=80)"
   ]
  },
  {
   "cell_type": "markdown",
   "metadata": {},
   "source": [
    "Diese Daten können wir nicht linear separieren.<br> Wie funktioniert nun unser Entscheidungsbaum?<br> Im Wurzelknoten haben wir alle 18 Punkte. Im ersten Knoten haben wir die Abfrage, ob der x-Wert grösser ist als -2. Falls dies der Fall ist, enthält der neue Knoten nur 4 rote Punkte, ist also rein und damit ein Blattknoten. Im anderen Fall haben wir noch 5 rote und 9 grüne Punkte im Knoten. Eine weitere Abfrage mit x<=3 spaltet diesen gemischten Knoten und es ergeben sich für den einen neuen Knoten bei \"ja\" 2 rote und 9 grüne Punkte. Im anderen Fall erhalten wir wieder einen Blattknoten mit 3 roten Punkten. Spalten wir unseren gemischten Knoten wieder auf mit y>=2 erhalten wir zwei Blattknoten mit 2 roten Punkte im Fall \"ja\" und 9 grünen Punkten bei \"nein\".<br>\n",
    "<img width=600 height=600 class=\"imgright\" src=\"Images/Entscheidungsbaum.png\" alt=\"restaurant\" />\n",
    "<br> Damit haben wir alle Punkte kategorisiert. In unserem Plot zeigen wir unsere 3 Entscheidungstrennlinien.\n"
   ]
  },
  {
   "cell_type": "code",
   "execution_count": 2,
   "metadata": {},
   "outputs": [
    {
     "name": "stdout",
     "output_type": "stream",
     "text": [
      "0\n"
     ]
    },
    {
     "data": {
      "text/plain": [
       "[<matplotlib.lines.Line2D at 0x7fa231943f70>]"
      ]
     },
     "execution_count": 2,
     "metadata": {},
     "output_type": "execute_result"
    },
    {
     "data": {
      "image/png": "[encoded data removed]",
      "text/plain": [
       "<Figure size 432x288 with 1 Axes>"
      ]
     },
     "metadata": {
      "needs_background": "light"
     },
     "output_type": "display_data"
    }
   ],
   "source": [
    "plt.xlim(-6,6)\n",
    "plt.ylim(-6,6)\n",
    "colormap=np.array([\"red\",\"green\"])\n",
    "print(label)\n",
    "plt.scatter(L[:,0],L[:,1],color=colormap[labels])\n",
    "plt.plot((-2,-2),(6,-6),c=\"black\")\n",
    "plt.plot((3,3),(6,-6),c=\"blue\")\n",
    "plt.plot((-6,6),(3,3),c=\"orange\")"
   ]
  },
  {
   "cell_type": "markdown",
   "metadata": {},
   "source": [
    "Bei komplexer Datensätzen kann es sein, dass wir nicht immer reine Blattknoten am Ende unseres Baumes erhalten. In diesem Fall machen wir eine Mehrheitsentscheidung und weisen den Punkten den Label zu, der am häufigsten im Knoten vorkommt. Warum machen wir dann nicht einfach weitere Abfragen und teilen die Knoten immer weiter auf bis wir reine Blattknoten erhalten? Dies würde im Extremfall dazu führen, dass jede Sample in einem eigenen Blattknoten liegt und würde einen extremen Fall von Overfitting darstellen. Wann wir unseren Entscheidungsbaum abbrechen, dazu später mehr."
   ]
  },
  {
   "cell_type": "markdown",
   "metadata": {},
   "source": [
    "Die zweite Frage ist natürlich, wieso diese Methode dem maschinellen Lernen zugeordnet wird. Dazu muss man natürlich fragen: <b>Woher kommen die Bedingungen für unsere Abfragen? Diese muss die Maschine nämlich autonom gestalten. Aber wie kann sie das machen? "
   ]
  },
  {
   "cell_type": "markdown",
   "metadata": {},
   "source": [
    "Wenn man unseren Wurzelknoten in verschiedener Weise aufspalten, bekommen wir natürlich unterschiedlich zusammengesetzte Tochterknoten. Nehmen wir als Bedingung x<=-2 erhalten wir die bekannte Aufteilung aus obigen Diagramm mit einem Knoten mit 4 roten Punkten und einem Knoten mit 5 roten und 9 grünen Punkten. Was wäre mit der Bedingung x>=0?<br>\n",
    "Wir hätten dann 6 grüne und 5 rote Punkte im \"Ja\" Knoten und 3 grüne und 4 rote Punkte im anderen Tochterknoten. Welche Aufteilung ist als besser zu beurteilen und führt zu einer schnelleren Klassifizierung? Natürlich die erste mit ihrem Ergebnis eines rein roten Blattknotens. Wie können wir dies quantifizieren? Hierzu gibt es eine Vielzahl von Verfahren, wir wollen damit die Aufteilung berechnen, die den größten Informationsgewinn bewirkt. Wie berechnen wir diesen Informationsgewinn?<br> Schauen wir uns den Wurzelknoten an, haben wir eine Wahrscheinlichkeit von .5 für jede der beiden Farben, wenn wir zufällig einen Punkt wählen. Diese Situation beschreibt eine maximale Heterogenität dieses Knotens. Ein häufiges Mass der Quantifizierung dieser Heterogenität stellt die Shannon Entropie dar, die von dem Informationswissenschaftler Claude Shannon bereits 1948 vorgestellt wurde. Berechnet wird sie mit $$Entropie =\\sum - p_i * log_2(p_i)$$ dabei ist $$p_i = Wahrscheinlichkeit\\ der\\ Klasse\\ i\\ im\\ Knoten$$. <br> Berechnet wird immer die Summe der Entropien der Tochterknoten je nach der durchgeführten Aufteilung. Diese wird minimiert."
   ]
  },
  {
   "cell_type": "markdown",
   "metadata": {},
   "source": [
    "In unserem <b>Wurzelknoten</b> wäre das also: $$-.5*-1+-.5*-1=0.5+0.5=1$$<br> Dies wäre die maximale Heterogenität oder Entropie, wie sie der Wurzelknoten ja zeigt.<br>\n",
    "Für unsere beiden möglichen Aufteilungen würden wir die Entropie unserer <b>Tochterknoten</b> jeweils addieren.<br>\n",
    "Im ersten Fall (x>=-2) ergäbe sich $$-1*0=0$$ <b>für den rein roten Knoten</b> und $$-4/14*log_2(4/14)+ -9/14*log_2(9/14)=.52+.41=.93$$ <b>für den gemischten Knoten.</b><br><br>\n",
    "Im zweiten Fall (x>=0) ergäbe sich $$-5/11*log_2(5/11)+ -6/11*log_2(6/11)=.52+.47=.99$$   <b>für den \"Ja\" Knoten</b> und <br>\n",
    "$$-4/7*log_2(4/7)+ -3/7*log_2(3/7)=.46+.52=.98$$ <b>für den \"Nein\" Knoten.</b><br>\n",
    "Sind wir am Informationsgewin durch die jeweilige Aufteilung interessiert, müssen wir berechnen, wie <b>die Gesamtentropie der beiden Knoten nach der Aufteilung gesunken ist,</b> je mehr desto mehr Informationsgewinn. Die Knoten können aber sehr unterschiedlich in ihrer Grösse sein, deshalb summieren wir nicht einfach die Einzelentropien der beiden Knoten sondern multiplizieren diese noch mit <b>der relativen Grösse der beiden Knoten</b> also<br><br> $$Anzahl\\ Elemente\\ im\\ jeweiligen Knoten/Anzahl\\ aller\\ Elemente\\ in\\ beiden\\ Knoten$$.<br> \n",
    "Das Ergebnis wäre im ersten Fall also: $$4/18*0 + 14/18*.93=.723$$<br>\n",
    "im zweiten Fall: $$11/18*.99 + 7/18*.98=.986$$<br>\n",
    "Die Entropie in ersten Fall ist also deutlich mehr gesunken und damit ist diese Aufteilung besser.<br> Die Aufgabe des Programms besteht also darin für alle möglichen Aufteilungen eines Knotens die zu finden, welche die Gesamtentropie der Tochterknoten am meisten sinken lässt im Vergleich zum Mutterknoten.<br> Haben wir nicht kontinuierliche Features, würde das Programm für alle Features dasjenige auswählen, welches eine Aufteilung des zu testenden Knotens mit dem grössten Abfall der Entropie der Tochterknoten ermöglicht. Bei kontinuierlichen Entscheidungsbäumen wäre es natürlich nicht möglich, für jede denkbare Abfrage und jedes Feature alle denkbaren Werte auszuprobieren. Hier testet das Programm für eine (grosse) Menge von (normalerweise gleichverteilten) Testwerten im Gesamtintervall des jeweiligen Features, welches der optimale Grenzwert (z.B. x<=1...) für die Abfrage für dieses Feature wäre.<br> Der Algorithmus eines Entscheidungsbaumes ist ein sogenannter \"greedy algorithm\", das heißt, an jedem Punkt wird die momentan beste Abfrage durchgeführt, es ist dann das jeweilige Feature verbraucht, es kann nicht mehr für weitere Test verwendet werden. Bei kategorischen Entscheidungsbäumen ist dies unmittelbar klar: Ein Knoten, der z.B. nach \"Art des Antriebs\" eines Autos z.B. in \"Diesel\" und \"Benziner\" aufgeteilt wird, übermittelt den Tochterknoten jeweils bezüglich dieses Features reine Werte (nicht aber natürlich bezüglich der anderen Features). Eine erneute Abfrage nach diesem Feature wäre also sinnlos. Bei kontinuierlichen Entscheidungsbäumen wird, wie oben erwähnt, ebenfalls der beste Grenzwert für die Aufteilung des Knotens berechnet. Eine erneute Aufteilung mit strengeren Grenzwerten wäre aber möglich (s.unteres Beispiel mit sklearn). Daß so immer die beste Aufteilung erreicht wird, ist nicht garantiert. Meist ist aber auch unter diesen Bedingungen, die eine schnelle Berechnung ermöglichen, eine sehr effektive Implementierung eines Entscheidungsbaums möglich.\n",
    "\n"
   ]
  },
  {
   "cell_type": "markdown",
   "metadata": {},
   "source": [
    "Wir zeigen nun einen einfachen kategorischen Entscheidungsbaum."
   ]
  },
  {
   "cell_type": "markdown",
   "metadata": {},
   "source": [
    "In einem Beispiel könnten wir so Tiere in 2 Klassen , nämlich Säugetiere und Fische als Labels (class_type=1 für Säugetiere, class_type=4 für Fische) aufteilen.\n",
    "Die Features wären Boolsche Daten, also entweder True oder False (0,1).<br> \n",
    "Die einzelnen Features:<br>\n",
    "hat es Zähne?<br>ist es ein Haustier?<br>hat es einen Schwanz?<br>ist es ein Raubtier?<br>\n",
    "Wir lesen dazu das UCI Zoo Data Set ein, welches 102 Tiere mit ihren Eigenschaften (17) enthält. Hier ein Ausschnitt mit den ersten 10 Tieren.\n",
    "\n"
   ]
  },
  {
   "cell_type": "code",
   "execution_count": 5,
   "metadata": {},
   "outputs": [
    {
     "data": {
      "text/html": [
       "<div>\n",
       "<style scoped>\n",
       "    .dataframe tbody tr th:only-of-type {\n",
       "        vertical-align: middle;\n",
       "    }\n",
       "\n",
       "    .dataframe tbody tr th {\n",
       "        vertical-align: top;\n",
       "    }\n",
       "\n",
       "    .dataframe thead th {\n",
       "        text-align: right;\n",
       "    }\n",
       "</style>\n",
       "<table border=\"1\" class=\"dataframe\">\n",
       "  <thead>\n",
       "    <tr style=\"text-align: right;\">\n",
       "      <th></th>\n",
       "      <th>animal_name</th>\n",
       "      <th>hair</th>\n",
       "      <th>feathers</th>\n",
       "      <th>eggs</th>\n",
       "      <th>milk</th>\n",
       "      <th>airbone</th>\n",
       "      <th>aquatic</th>\n",
       "      <th>predator</th>\n",
       "      <th>toothed</th>\n",
       "      <th>backbone</th>\n",
       "      <th>breathes</th>\n",
       "      <th>venomous</th>\n",
       "      <th>fins</th>\n",
       "      <th>legs</th>\n",
       "      <th>tail</th>\n",
       "      <th>domestic</th>\n",
       "      <th>catsize</th>\n",
       "      <th>class</th>\n",
       "    </tr>\n",
       "  </thead>\n",
       "  <tbody>\n",
       "    <tr>\n",
       "      <th>0</th>\n",
       "      <td>animal_name</td>\n",
       "      <td>hair</td>\n",
       "      <td>feathers</td>\n",
       "      <td>eggs</td>\n",
       "      <td>milk</td>\n",
       "      <td>airborne</td>\n",
       "      <td>aquatic</td>\n",
       "      <td>predator</td>\n",
       "      <td>toothed</td>\n",
       "      <td>backbone</td>\n",
       "      <td>breathes</td>\n",
       "      <td>venomous</td>\n",
       "      <td>fins</td>\n",
       "      <td>legs</td>\n",
       "      <td>tail</td>\n",
       "      <td>domestic</td>\n",
       "      <td>catsize</td>\n",
       "      <td>class_type</td>\n",
       "    </tr>\n",
       "    <tr>\n",
       "      <th>1</th>\n",
       "      <td>aardvark</td>\n",
       "      <td>1</td>\n",
       "      <td>0</td>\n",
       "      <td>0</td>\n",
       "      <td>1</td>\n",
       "      <td>0</td>\n",
       "      <td>0</td>\n",
       "      <td>1</td>\n",
       "      <td>1</td>\n",
       "      <td>1</td>\n",
       "      <td>1</td>\n",
       "      <td>0</td>\n",
       "      <td>0</td>\n",
       "      <td>4</td>\n",
       "      <td>0</td>\n",
       "      <td>0</td>\n",
       "      <td>1</td>\n",
       "      <td>1</td>\n",
       "    </tr>\n",
       "    <tr>\n",
       "      <th>2</th>\n",
       "      <td>antelope</td>\n",
       "      <td>1</td>\n",
       "      <td>0</td>\n",
       "      <td>0</td>\n",
       "      <td>1</td>\n",
       "      <td>0</td>\n",
       "      <td>0</td>\n",
       "      <td>0</td>\n",
       "      <td>1</td>\n",
       "      <td>1</td>\n",
       "      <td>1</td>\n",
       "      <td>0</td>\n",
       "      <td>0</td>\n",
       "      <td>4</td>\n",
       "      <td>1</td>\n",
       "      <td>0</td>\n",
       "      <td>1</td>\n",
       "      <td>1</td>\n",
       "    </tr>\n",
       "    <tr>\n",
       "      <th>3</th>\n",
       "      <td>bass</td>\n",
       "      <td>0</td>\n",
       "      <td>0</td>\n",
       "      <td>1</td>\n",
       "      <td>0</td>\n",
       "      <td>0</td>\n",
       "      <td>1</td>\n",
       "      <td>1</td>\n",
       "      <td>1</td>\n",
       "      <td>1</td>\n",
       "      <td>0</td>\n",
       "      <td>0</td>\n",
       "      <td>1</td>\n",
       "      <td>0</td>\n",
       "      <td>1</td>\n",
       "      <td>0</td>\n",
       "      <td>0</td>\n",
       "      <td>4</td>\n",
       "    </tr>\n",
       "    <tr>\n",
       "      <th>4</th>\n",
       "      <td>bear</td>\n",
       "      <td>1</td>\n",
       "      <td>0</td>\n",
       "      <td>0</td>\n",
       "      <td>1</td>\n",
       "      <td>0</td>\n",
       "      <td>0</td>\n",
       "      <td>1</td>\n",
       "      <td>1</td>\n",
       "      <td>1</td>\n",
       "      <td>1</td>\n",
       "      <td>0</td>\n",
       "      <td>0</td>\n",
       "      <td>4</td>\n",
       "      <td>0</td>\n",
       "      <td>0</td>\n",
       "      <td>1</td>\n",
       "      <td>1</td>\n",
       "    </tr>\n",
       "    <tr>\n",
       "      <th>5</th>\n",
       "      <td>boar</td>\n",
       "      <td>1</td>\n",
       "      <td>0</td>\n",
       "      <td>0</td>\n",
       "      <td>1</td>\n",
       "      <td>0</td>\n",
       "      <td>0</td>\n",
       "      <td>1</td>\n",
       "      <td>1</td>\n",
       "      <td>1</td>\n",
       "      <td>1</td>\n",
       "      <td>0</td>\n",
       "      <td>0</td>\n",
       "      <td>4</td>\n",
       "      <td>1</td>\n",
       "      <td>0</td>\n",
       "      <td>1</td>\n",
       "      <td>1</td>\n",
       "    </tr>\n",
       "    <tr>\n",
       "      <th>6</th>\n",
       "      <td>buffalo</td>\n",
       "      <td>1</td>\n",
       "      <td>0</td>\n",
       "      <td>0</td>\n",
       "      <td>1</td>\n",
       "      <td>0</td>\n",
       "      <td>0</td>\n",
       "      <td>0</td>\n",
       "      <td>1</td>\n",
       "      <td>1</td>\n",
       "      <td>1</td>\n",
       "      <td>0</td>\n",
       "      <td>0</td>\n",
       "      <td>4</td>\n",
       "      <td>1</td>\n",
       "      <td>0</td>\n",
       "      <td>1</td>\n",
       "      <td>1</td>\n",
       "    </tr>\n",
       "    <tr>\n",
       "      <th>7</th>\n",
       "      <td>calf</td>\n",
       "      <td>1</td>\n",
       "      <td>0</td>\n",
       "      <td>0</td>\n",
       "      <td>1</td>\n",
       "      <td>0</td>\n",
       "      <td>0</td>\n",
       "      <td>0</td>\n",
       "      <td>1</td>\n",
       "      <td>1</td>\n",
       "      <td>1</td>\n",
       "      <td>0</td>\n",
       "      <td>0</td>\n",
       "      <td>4</td>\n",
       "      <td>1</td>\n",
       "      <td>1</td>\n",
       "      <td>1</td>\n",
       "      <td>1</td>\n",
       "    </tr>\n",
       "    <tr>\n",
       "      <th>8</th>\n",
       "      <td>carp</td>\n",
       "      <td>0</td>\n",
       "      <td>0</td>\n",
       "      <td>1</td>\n",
       "      <td>0</td>\n",
       "      <td>0</td>\n",
       "      <td>1</td>\n",
       "      <td>0</td>\n",
       "      <td>1</td>\n",
       "      <td>1</td>\n",
       "      <td>0</td>\n",
       "      <td>0</td>\n",
       "      <td>1</td>\n",
       "      <td>0</td>\n",
       "      <td>1</td>\n",
       "      <td>1</td>\n",
       "      <td>0</td>\n",
       "      <td>4</td>\n",
       "    </tr>\n",
       "    <tr>\n",
       "      <th>9</th>\n",
       "      <td>catfish</td>\n",
       "      <td>0</td>\n",
       "      <td>0</td>\n",
       "      <td>1</td>\n",
       "      <td>0</td>\n",
       "      <td>0</td>\n",
       "      <td>1</td>\n",
       "      <td>1</td>\n",
       "      <td>1</td>\n",
       "      <td>1</td>\n",
       "      <td>0</td>\n",
       "      <td>0</td>\n",
       "      <td>1</td>\n",
       "      <td>0</td>\n",
       "      <td>1</td>\n",
       "      <td>0</td>\n",
       "      <td>0</td>\n",
       "      <td>4</td>\n",
       "    </tr>\n",
       "  </tbody>\n",
       "</table>\n",
       "</div>"
      ],
      "text/plain": [
       "   animal_name  hair  feathers  eggs  milk   airbone  aquatic  predator  \\\n",
       "0  animal_name  hair  feathers  eggs  milk  airborne  aquatic  predator   \n",
       "1     aardvark     1         0     0     1         0        0         1   \n",
       "2     antelope     1         0     0     1         0        0         0   \n",
       "3         bass     0         0     1     0         0        1         1   \n",
       "4         bear     1         0     0     1         0        0         1   \n",
       "5         boar     1         0     0     1         0        0         1   \n",
       "6      buffalo     1         0     0     1         0        0         0   \n",
       "7         calf     1         0     0     1         0        0         0   \n",
       "8         carp     0         0     1     0         0        1         0   \n",
       "9      catfish     0         0     1     0         0        1         1   \n",
       "\n",
       "   toothed  backbone  breathes  venomous  fins  legs  tail  domestic  catsize  \\\n",
       "0  toothed  backbone  breathes  venomous  fins  legs  tail  domestic  catsize   \n",
       "1        1         1         1         0     0     4     0         0        1   \n",
       "2        1         1         1         0     0     4     1         0        1   \n",
       "3        1         1         0         0     1     0     1         0        0   \n",
       "4        1         1         1         0     0     4     0         0        1   \n",
       "5        1         1         1         0     0     4     1         0        1   \n",
       "6        1         1         1         0     0     4     1         0        1   \n",
       "7        1         1         1         0     0     4     1         1        1   \n",
       "8        1         1         0         0     1     0     1         1        0   \n",
       "9        1         1         0         0     1     0     1         0        0   \n",
       "\n",
       "        class  \n",
       "0  class_type  \n",
       "1           1  \n",
       "2           1  \n",
       "3           4  \n",
       "4           1  \n",
       "5           1  \n",
       "6           1  \n",
       "7           1  \n",
       "8           4  \n",
       "9           4  "
      ]
     },
     "execution_count": 5,
     "metadata": {},
     "output_type": "execute_result"
    }
   ],
   "source": [
    "import pandas as pd\n",
    "import numpy as np\n",
    "dataset = pd.read_csv('Data/zoo.csv',names=['animal_name','hair','feathers','eggs','milk',\n",
    "                                                   'airbone','aquatic','predator','toothed','backbone',\n",
    "                                                  'breathes','venomous','fins','legs','tail','domestic','catsize','class',])\n",
    "dataset[:10]\n"
   ]
  },
  {
   "cell_type": "markdown",
   "metadata": {},
   "source": [
    "Wir wollen uns auf die Tiere mit der Klasse 1 für Säugetiere und 4 für Fische beschränken und auch nur die genannten Features \"toothed\", \"domestic\", \"tail\" und \"predator\" verwenden."
   ]
  },
  {
   "cell_type": "code",
   "execution_count": 6,
   "metadata": {},
   "outputs": [
    {
     "name": "stdout",
     "output_type": "stream",
     "text": [
      "Säugetiere: 41\n",
      "Fische: 13\n",
      "   domestic toothed tail predator class\n",
      "1         0       1    0        1     1\n",
      "2         0       1    1        0     1\n",
      "3         0       1    1        1     4\n",
      "4         0       1    0        1     1\n",
      "5         0       1    1        1     1\n",
      "6         0       1    1        0     1\n",
      "7         1       1    1        0     1\n",
      "8         1       1    1        0     4\n",
      "9         0       1    1        1     4\n",
      "10        1       1    0        0     1\n",
      "11        0       1    1        1     1\n",
      "13        0       1    1        1     4\n",
      "18        0       1    1        0     1\n",
      "19        0       1    1        1     4\n",
      "20        0       1    1        1     1\n",
      "23        0       1    1        0     1\n",
      "28        0       1    1        0     1\n",
      "29        0       1    1        0     1\n",
      "30        1       1    0        1     1\n",
      "32        1       1    1        0     1\n",
      "33        0       1    0        0     1\n",
      "35        0       1    1        0     4\n",
      "36        1       1    1        0     1\n",
      "37        0       1    1        0     1\n",
      "39        0       1    1        1     4\n",
      "45        0       1    1        1     1\n",
      "46        0       1    1        1     1\n",
      "48        0       1    1        1     1\n",
      "49        0       1    1        1     1\n",
      "50        0       1    1        1     1\n",
      "51        0       1    1        1     1\n",
      "55        0       1    1        1     1\n",
      "56        0       1    1        0     1\n",
      "61        0       1    1        1     4\n",
      "62        0       1    1        1     4\n",
      "64        0       0    1        1     1\n",
      "65        0       1    1        1     1\n",
      "66        1       1    1        0     1\n",
      "67        0       1    1        1     1\n",
      "68        0       1    1        1     1\n",
      "69        1       1    1        1     1\n",
      "70        0       1    1        1     1\n",
      "71        1       1    1        0     1\n",
      "74        0       1    1        0     4\n",
      "75        0       1    0        1     1\n",
      "76        0       1    1        1     1\n",
      "83        0       1    1        0     4\n",
      "85        0       1    1        0     1\n",
      "87        0       1    1        1     4\n",
      "93        0       1    1        1     4\n",
      "94        0       1    1        0     1\n",
      "95        0       1    1        0     1\n",
      "97        0       1    1        0     1\n",
      "99        0       1    1        1     1\n"
     ]
    }
   ],
   "source": [
    "\n",
    "d0 = dataset[['domestic', 'toothed', 'tail','predator','class']]\n",
    "d_1 = d0[d0['class'] == '1']\n",
    "d_4 = d0[d0['class'] == '4']\n",
    "print(f\"Säugetiere: {d_1.shape[0]}\")\n",
    "print(f\"Fische: {d_4.shape[0]}\")\n",
    "\n",
    "d_to_test = d0[np.logical_or(d0['class'] == '1',d0['class'] == \"4\")] #alle Säugetiere und Reptilien\n",
    "print(d_to_test)"
   ]
  },
  {
   "cell_type": "markdown",
   "metadata": {},
   "source": [
    "Lassen wir uns jetzt ausgeben, welche Zusammensetzung die ersten Zwischenknoten hätten, wenn wir jeweils für <br>hat es Zähne?<br>hat es einen Schwanz?<br>hat es Beine?<br>ist es ein Raubtier? <br>unseren Datensatz aufteilen. \n"
   ]
  },
  {
   "cell_type": "code",
   "execution_count": 7,
   "metadata": {},
   "outputs": [
    {
     "name": "stdout",
     "output_type": "stream",
     "text": [
      " für domestic True haben wir 8 Säugetiere und 1 Fische Knoten 1 \n",
      " für domestic False haben wir 33 Säugetiere und 12 Fische Knoten 2 \n",
      "\n",
      " für toothed True haben wir 40 Säugetiere und 13 Fische Knoten 1 \n",
      " für toothed False haben wir 1 Säugetiere und 0 Fische Knoten 2 \n",
      "\n",
      " für tail True haben wir 35 Säugetiere und 13 Fische Knoten 1 \n",
      " für tail False haben wir 6 Säugetiere und 0 Fische Knoten 2 \n",
      "\n",
      " für predator True haben wir 22 Säugetiere und 9 Fische Knoten 1 \n",
      " für predator False haben wir 19 Säugetiere und 4 Fische Knoten 2 \n",
      "\n"
     ]
    }
   ],
   "source": [
    "features=['domestic', 'toothed', 'tail','predator']\n",
    "for feature in features:\n",
    "    node_True_1=d_to_test[np.logical_and(d_to_test[\"class\"]==\"1\",d_to_test[feature]==\"1\")]\n",
    "    node_True_4=d_to_test[np.logical_and(d_to_test[\"class\"]==\"4\",d_to_test[feature]==\"1\")]\n",
    "    node_False_1=d_to_test[np.logical_and(d_to_test[\"class\"]==\"1\",d_to_test[feature]==\"0\")]\n",
    "    node_False_4=d_to_test[np.logical_and(d_to_test[\"class\"]==\"4\",d_to_test[feature]==\"0\")]\n",
    "    print(f\" für {feature} True haben wir {len(node_True_1)} Säugetiere und {len(node_True_4)} Fische Knoten 1 \")\n",
    "    print(f\" für {feature} False haben wir {len(node_False_1)} Säugetiere und {len(node_False_4)} Fische Knoten 2 \\n\")"
   ]
  },
  {
   "cell_type": "markdown",
   "metadata": {},
   "source": [
    "Berechnen wir nun die Shannon-Entropie einiger Knoten.<br><br>\n",
    "Ein Beispiel für den Test auf \"domestic\".<br>\n",
    "In Knoten 1 haben wir:<br><br>\n",
    "$p_{säugetier} = 8/9$ &emsp;&emsp; $Entropie_{säugetier} = 8/9 * log_2(8/9) = - 0.151$<br><br> \n",
    "$p_{fisch}= 1/9$ &emsp;&emsp; $Entropie_{fisch} = 1/9 * log_2(1/9) = - 0.352$<br><br> \n",
    "$Gesamt_{Knoten1} = 0.503$\n",
    "\n",
    "<br><br>In Knoten 2 haben wir:<br><br>\n",
    "$p_{säugetier} = 33/45$ &emsp;&emsp; $Entropie_{säugetier} = 33/45 * log_2(33/45) = - 0.328$<br><br> \n",
    "$p_{fisch}= 12/45$ &emsp;&emsp; $Entropie_{fisch} = 12/45 * log_2(12/45) = - 0.509$<br><br> \n",
    "$Gesamt_{Knoten1} = 0.837$"
   ]
  },
  {
   "cell_type": "markdown",
   "metadata": {},
   "source": [
    "Wir können auf diese Weise den \"Reinheitswert\" für jeden Knoten als Shannon-Entropie messen, wobei ein vollständig reiner Knoten einen Wert von 1 hat.<br>\n",
    "Knoten2 für \"tail\" wäre ein solcher Knoten mit Shannon-Entropie 1.\n",
    "Wie wäre die Entropie für unseren Wurzelknoten?<br><br>\n",
    "$$-(41/54*log_2(41/54)+13/54*log_2(13/54)) = -(-0.302 + -0.495) = 0.797$$\n",
    "\n"
   ]
  },
  {
   "cell_type": "markdown",
   "metadata": {},
   "source": [
    "Die Gesamtentropie nach der Aufteilung eines Knotens in zwei Einzelknoten berechnen wir mit der Summe aus <br><br>\n",
    "$$ p_{feature\\ in\\ Knoten1} * GesamtEntropie_{Knoten1} + p_{feature\\ in\\ Knoten2} * GesamtEntropie_{Knoten2}$$"
   ]
  },
  {
   "cell_type": "markdown",
   "metadata": {},
   "source": [
    "Machen wir dies für unsere vier möglichen Aufteilungen erhalten wir:"
   ]
  },
  {
   "cell_type": "code",
   "execution_count": 29,
   "metadata": {},
   "outputs": [
    {
     "name": "stdout",
     "output_type": "stream",
     "text": [
      " für domestic True haben wir 8 Säugetiere und 1 Fische Knoten 1 \n",
      " für domestic False haben wir 33 Säugetiere und 12 Fische Knoten 2 \n",
      " Gesamtentropie für diese Aufteilung: 0.781\n",
      "\n",
      " für toothed True haben wir 40 Säugetiere und 13 Fische Knoten 1 \n",
      " für toothed False haben wir 1 Säugetiere und 0 Fische Knoten 2 \n",
      " Gesamtentropie für diese Aufteilung: 0.789\n",
      "\n",
      " für tail True haben wir 35 Säugetiere und 13 Fische Knoten 1 \n",
      " für tail False haben wir 6 Säugetiere und 0 Fische Knoten 2 \n",
      " Gesamtentropie für diese Aufteilung: 0.749\n",
      "\n",
      " für predator True haben wir 22 Säugetiere und 9 Fische Knoten 1 \n",
      " für predator False haben wir 19 Säugetiere und 4 Fische Knoten 2 \n",
      " Gesamtentropie für diese Aufteilung: 0.783\n",
      "\n"
     ]
    }
   ],
   "source": [
    "features=['domestic', 'toothed', 'tail','predator']\n",
    "for feature in features:\n",
    "    Gesamt=len(d_to_test)\n",
    "    node_True_1=d_to_test[np.logical_and(d_to_test[\"class\"]==\"1\",d_to_test[feature]==\"1\")]    \n",
    "    node_True_4=d_to_test[np.logical_and(d_to_test[\"class\"]==\"4\",d_to_test[feature]==\"1\")]\n",
    "    node_False_1=d_to_test[np.logical_and(d_to_test[\"class\"]==\"1\",d_to_test[feature]==\"0\")]\n",
    "    node_False_4=d_to_test[np.logical_and(d_to_test[\"class\"]==\"4\",d_to_test[feature]==\"0\")]        \n",
    "    print(f\" für {feature} True haben wir {len(node_True_1)} Säugetiere und {len(node_True_4)} Fische Knoten 1 \")\n",
    "    print(f\" für {feature} False haben wir {len(node_False_1)} Säugetiere und {len(node_False_4)} Fische Knoten 2 \")\n",
    "    p1=(len(node_True_1)+len(node_True_4))/Gesamt\n",
    "    p2=(len(node_False_1)+len(node_False_4))/Gesamt    \n",
    "    pT1=len(node_True_1)/(len(node_True_1)+len(node_True_4))    \n",
    "    pT4=len(node_True_4)/(len(node_True_1)+len(node_True_4))    \n",
    "    pF1=len(node_False_1)/(len(node_False_1)+len(node_False_4))\n",
    "    pF4=len(node_False_4)/(len(node_False_1)+len(node_False_4))\n",
    "    eT1=0 if pT1==0 else pT1*np.log2(pT1)\n",
    "    eT4=0 if pT4==0 else pT4*np.log2(pT4)\n",
    "    eF1=0 if pF1==0 else pF1*np.log2(pF1)\n",
    "    eF4=0 if pF4==0 else pF4*np.log2(pF4)    \n",
    "    Gesamt_e=p1*-(eT1+eT4)+p2*-(eF1+eF4)\n",
    "    print(f\" Gesamtentropie für diese Aufteilung: {round(Gesamt_e,3)}\\n\")\n",
    "    #print(f\"Knoten1 enthält: {pd.concat([node_True_1,node_True_4])}\")\n",
    "    #print(f\"Knoten2 enthält: {pd.concat([node_False_1,node_False_4])}\")\n",
    "    if feature==\"tail\":\n",
    "        d_neu=pd.concat([node_True_1,node_True_4])\n",
    "    "
   ]
  },
  {
   "cell_type": "markdown",
   "metadata": {},
   "source": [
    "Wir können jetzt sehen, dass für jede Aufteilung die Gesamtentropie der beiden neuen Knoten im Vergleich zum Wurzelknoten (0.797) sinkt. Am stärksten ist der Rückgang für das Merkmal \"tail\".<br>\n",
    "Wir würden jetzt diese Aufteilung vornehmen. Das Merkmal \"tail\" können wir dann für weitere Aufteilungen weglassen. Es verbleiben dann nur noch 3 Merkmale. Desweiteren ist für das Merkmal \"tail\" == False die Zusammensetzung des Knotens rein mit 6 Säugetieren und keinem Fisch. Dieser Knoten würde dann als Blattknoten Säugetier bekommen. Unsere Aufteilung sieht nun so aus:\n",
    "<br><br><img width=900   src=\"Images/Entscheidungsbaum1.png\"  />"
   ]
  },
  {
   "cell_type": "markdown",
   "metadata": {},
   "source": [
    "Wir machen nun weiter mit dem linken Knoten. Es stehen uns 3 Möglichkeiten der Aufteilung zur Verfügung:<br>\n",
    "    \"toothed\",\"domestic\" und \"predator\"."
   ]
  },
  {
   "cell_type": "code",
   "execution_count": 30,
   "metadata": {},
   "outputs": [
    {
     "name": "stdout",
     "output_type": "stream",
     "text": [
      " für domestic True haben wir 6 Säugetiere und 1 Fische Knoten 1 \n",
      " für domestic False haben wir 29 Säugetiere und 12 Fische Knoten 2 \n",
      " Gesamtentropie für diese Aufteilung: 0.831\n",
      "\n",
      " für toothed True haben wir 34 Säugetiere und 13 Fische Knoten 1 \n",
      " für toothed False haben wir 1 Säugetiere und 0 Fische Knoten 2 \n",
      " Gesamtentropie für diese Aufteilung: 0.833\n",
      "\n",
      " für predator True haben wir 18 Säugetiere und 9 Fische Knoten 1 \n",
      " für predator False haben wir 17 Säugetiere und 4 Fische Knoten 2 \n",
      " Gesamtentropie für diese Aufteilung: 0.824\n",
      "\n"
     ]
    }
   ],
   "source": [
    "d_to_test=d_neu\n",
    "features=['domestic', 'toothed', 'predator']\n",
    "for feature in features:\n",
    "    Gesamt=len(d_to_test)\n",
    "    node_True_1=d_to_test[np.logical_and(d_to_test[\"class\"]==\"1\",d_to_test[feature]==\"1\")]    \n",
    "    node_True_4=d_to_test[np.logical_and(d_to_test[\"class\"]==\"4\",d_to_test[feature]==\"1\")]\n",
    "    node_False_1=d_to_test[np.logical_and(d_to_test[\"class\"]==\"1\",d_to_test[feature]==\"0\")]\n",
    "    node_False_4=d_to_test[np.logical_and(d_to_test[\"class\"]==\"4\",d_to_test[feature]==\"0\")]        \n",
    "    print(f\" für {feature} True haben wir {len(node_True_1)} Säugetiere und {len(node_True_4)} Fische Knoten 1 \")\n",
    "    print(f\" für {feature} False haben wir {len(node_False_1)} Säugetiere und {len(node_False_4)} Fische Knoten 2 \")\n",
    "    p1=(len(node_True_1)+len(node_True_4))/Gesamt\n",
    "    p2=(len(node_False_1)+len(node_False_4))/Gesamt    \n",
    "    pT1=len(node_True_1)/(len(node_True_1)+len(node_True_4))    \n",
    "    pT4=len(node_True_4)/(len(node_True_1)+len(node_True_4))    \n",
    "    pF1=len(node_False_1)/(len(node_False_1)+len(node_False_4))\n",
    "    pF4=len(node_False_4)/(len(node_False_1)+len(node_False_4))\n",
    "    eT1=0 if pT1==0 else pT1*np.log2(pT1)\n",
    "    eT4=0 if pT4==0 else pT4*np.log2(pT4)\n",
    "    eF1=0 if pF1==0 else pF1*np.log2(pF1)\n",
    "    eF4=0 if pF4==0 else pF4*np.log2(pF4)    \n",
    "    Gesamt_e=p1*-(eT1+eT4)+p2*-(eF1+eF4)\n",
    "    print(f\" Gesamtentropie für diese Aufteilung: {round(Gesamt_e,3)}\\n\")\n",
    "    #print(f\"Knoten1 enthält: {pd.concat([node_True_1,node_True_4])}\")\n",
    "    #print(f\"Knoten2 enthält: {pd.concat([node_False_1,node_False_4])}\")\n",
    "    if feature==\"predator\":\n",
    "        d_neu_true=pd.concat([node_True_1,node_True_4])\n",
    "        d_neu_false=pd.concat([node_False_1,node_False_4])\n",
    "        #print(d_neu_true)\n",
    "        #print(d_neu_false)"
   ]
  },
  {
   "cell_type": "markdown",
   "metadata": {},
   "source": [
    "Der Knoten links hat eine Ausgangsentropie von: <br>\n",
    "-(35/48* np.log2(35/48)+13/48* np.log2(13/48)) = <b>0.843<br>\n",
    "    </b> Die Aufteilung nach \"predator\" erlaubt den grössten Rückgang der Entropie von 0.019 . Wir werden sie nun durchführen.<br><br><img width=600   src=\"Images/Entscheidungsbaum2.png\"  />\n",
    "    "
   ]
  },
  {
   "cell_type": "markdown",
   "metadata": {},
   "source": [
    "So würden wir weitermachen bis zum Abbruch des Verfahrens."
   ]
  },
  {
   "cell_type": "markdown",
   "metadata": {},
   "source": [
    "<b>Wann brechen wir die Aufsplittung der Knoten ab? \n",
    "1. Der Knoten ist pur bezüglich der Label. Wir haben also einen Blattknoten.<br>\n",
    "2. Es sind alle Features verarbeitet worden. Ein Splitten ist also nicht mehr möglich, da das Kriterium fehlt.<br>\n",
    "3. Es entstehen leere Tochterknoten.</b><br>\n",
    "Für die weiteren Schritte wollen wir jetzt aus der sklearn Bibliothek das Modul tree zur Erstellung von Entscheidungsbäumen benutzen. Wir beschränken zunächst unseren Baum wieder auf Fische und Säuger und verwenden nur unsere Merkmale wie vorher. Wir teilen unsere Daten in 34 Trainingsdatensätze und 14 Testdatensätze auf. Man sieht, dass die Accuracy für die Testdaten nur bei ca. 75% liegt, was bei unserem sehr kleinen Datensatz nicht verwunderlich ist."
   ]
  },
  {
   "cell_type": "code",
   "execution_count": 1,
   "metadata": {},
   "outputs": [
    {
     "name": "stdout",
     "output_type": "stream",
     "text": [
      "The prediction accuracy is:  85.0 %\n"
     ]
    }
   ],
   "source": [
    "\"\"\"\n",
    "Import the DecisionTreeClassifier model.\n",
    "\"\"\"\n",
    "import matplotlib.pyplot as plt\n",
    "import pandas as pd\n",
    "#import  graphviz\n",
    "import numpy as np\n",
    "#Import the DecisionTreeClassifier\n",
    "from sklearn.tree import DecisionTreeClassifier, plot_tree, export_graphviz\n",
    "from sklearn.tree import plot_tree\n",
    "from sklearn.utils import shuffle\n",
    "\n",
    "###########################################################################################################\n",
    "\n",
    "##########################################################################################################\n",
    "\n",
    "\"\"\"\n",
    "Import the Zoo Dataset\n",
    "\"\"\"\n",
    "\n",
    "#Import the dataset \n",
    "dataset = pd.read_csv('Data/zoo.csv')\n",
    "\n",
    "cols_to_keep=['domestic', 'toothed', 'tail','predator','class_type']\n",
    "dataset=dataset.loc[:, cols_to_keep]\n",
    "säuger =  dataset['class_type']==1\n",
    "fisch =  dataset[\"class_type\"]==4\n",
    "dataset1=dataset[säuger]\n",
    "dataset2=dataset[fisch]\n",
    "dataset=pd.concat([dataset1,dataset2])\n",
    "#print(dataset,len(dataset))\n",
    "index = dataset.index\n",
    "dataset = shuffle(dataset)\n",
    "dataset.index = index\n",
    "\n",
    "\n",
    "###########################################################################################################\n",
    "\n",
    "##########################################################################################################\n",
    "\n",
    "\n",
    "\n",
    "\"\"\"\n",
    "Split the data into a training and a testing set\n",
    "\"\"\"\n",
    "\n",
    "#train_features = dataset.iloc[:34,:-1]\n",
    "test_features = dataset.iloc[34:,:-1]\n",
    "train_features= dataset.iloc[:,:-1]\n",
    "train_targets= dataset.iloc[:,-1]\n",
    "#train_targets = dataset.iloc[:34,-1]\n",
    "test_targets = dataset.iloc[34:,-1]\n",
    "#print(test_targets,type(test_targets))\n",
    "###########################################################################################################\n",
    "\n",
    "##########################################################################################################\n",
    "\n",
    "\n",
    "\"\"\"\n",
    "Train the model\n",
    "\"\"\"\n",
    "\n",
    "tree = DecisionTreeClassifier(criterion = 'entropy').fit(train_features,train_targets)\n",
    "\n",
    "###########################################################################################################\n",
    "\n",
    "##########################################################################################################\n",
    "\n",
    "\"\"\"\n",
    "Predict the classes of new, unseen data\n",
    "\"\"\"\n",
    "prediction = tree.predict(test_features)\n",
    "\n",
    "\n",
    "###########################################################################################################\n",
    "\n",
    "##########################################################################################################\n",
    "\n",
    "\"\"\"\n",
    "Check the accuracy\n",
    "\"\"\"\n",
    "\n",
    "print(\"The prediction accuracy is: \",tree.score(test_features,test_targets)*100,\"%\")\n",
    "#plot_tree(tree)\n",
    "plt.rcParams[\"figure.figsize\"]=30,30\n",
    "\n",
    "#plt.show()\n",
    "classes=[\"Säugetier\",\"Vogel\",\"Reptilien\",\"Fische\",\"Amphibien\",\"Gliedertiere\",\"Wirbellose\"]\n",
    "#dot_data=export_graphviz(tree, out_file=None)\n",
    "dot_data = export_graphviz(tree, out_file=None, feature_names=test_features.columns.values, class_names=classes, filled=True, rounded=True,special_characters=True)  \n",
    "#graph = graphviz.Source(dot_data)\n",
    "#graph"
   ]
  },
  {
   "cell_type": "markdown",
   "metadata": {},
   "source": [
    "<br><br><img width=900   src=\"Images/tree_animals.png\"  />"
   ]
  },
  {
   "cell_type": "markdown",
   "metadata": {},
   "source": [
    "Wir wollen nun das komplette UCI Zoo Data Set mit 101 Tieren auswerten. Es enthält die Klassen:<br>\n",
    "1-> Säugetier<br>\n",
    "2-> Vogel<br>\n",
    "3-> Reptilien<br>\n",
    "4-> Fische<br>\n",
    "5-> Amphibien<br>\n",
    "6-> Gliedertiere<br>\n",
    "7-> Wirbellose<br>\n",
    "Wir spalten die Datensätze in 80 Trainingsdatensätze und 21 Testdatensätze.\n",
    "Die Accuracy für unsere Testdaten liegt zwischne 80 und 100% je nach dem zufälligen Aufteilen der Datensätze in Training- und Testdaten. Dies ist für eine so kleinen Datensatz mit sovielen Feature wirklich erstaunlich."
   ]
  },
  {
   "cell_type": "code",
   "execution_count": 2,
   "metadata": {},
   "outputs": [
    {
     "name": "stdout",
     "output_type": "stream",
     "text": [
      "The prediction accuracy is:  90.48 %\n"
     ]
    }
   ],
   "source": [
    "\"\"\"\n",
    "Import the DecisionTreeClassifier model.\n",
    "\"\"\"\n",
    "import matplotlib.pyplot as plt\n",
    "import pandas as pd\n",
    "#import  graphviz\n",
    "import numpy as np\n",
    "#Import the DecisionTreeClassifier\n",
    "from sklearn.tree import DecisionTreeClassifier, plot_tree, export_graphviz\n",
    "from sklearn.tree import plot_tree\n",
    "from sklearn.utils import shuffle\n",
    "\n",
    "###########################################################################################################\n",
    "\n",
    "##########################################################################################################\n",
    "\n",
    "\"\"\"\n",
    "Import the Zoo Dataset\n",
    "\"\"\"\n",
    "\n",
    "#Import the dataset \n",
    "dataset = pd.read_csv('Data/zoo.csv')\n",
    "\n",
    "dataset=dataset.drop('animal_name',axis=1)\n",
    "dataset=shuffle(dataset)\n",
    "\n",
    "\n",
    "###########################################################################################################\n",
    "\n",
    "##########################################################################################################\n",
    "\n",
    "\n",
    "\n",
    "\"\"\"\n",
    "Split the data into a training and a testing set\n",
    "\"\"\"\n",
    "\n",
    "train_features = dataset.iloc[:80,:-1]\n",
    "test_features = dataset.iloc[80:,:-1]\n",
    "train_targets = dataset.iloc[:80,-1]\n",
    "test_targets = dataset.iloc[80:,-1]\n",
    "###########################################################################################################\n",
    "\n",
    "##########################################################################################################\n",
    "\n",
    "\n",
    "\"\"\"\n",
    "Train the model\n",
    "\"\"\"\n",
    "\n",
    "tree = DecisionTreeClassifier(criterion = 'entropy').fit(train_features,train_targets)\n",
    "\n",
    "###########################################################################################################\n",
    "\n",
    "##########################################################################################################\n",
    "\n",
    "\"\"\"\n",
    "Predict the classes of new, unseen data\n",
    "\"\"\"\n",
    "prediction = tree.predict(test_features)\n",
    "\n",
    "\n",
    "###########################################################################################################\n",
    "\n",
    "##########################################################################################################\n",
    "\n",
    "\"\"\"\n",
    "Check the accuracy\n",
    "\"\"\"\n",
    "\n",
    "print(\"The prediction accuracy is: \",round(tree.score(test_features,test_targets)*100,2),\"%\")\n",
    "#plot_tree(tree)\n",
    "#plt.rcParams[\"figure.figsize\"]=30,30\n",
    "\n",
    "#plt.show()\n",
    "classes=[\"Säugetier\",\"Vögel\",\"Reptilien\",\"Fische\",\"Amphibien\",\"Gliedertiere\",\"Wirbellose\"]\n",
    "dot_data=export_graphviz(tree, out_file=None)\n",
    "dot_data = export_graphviz(tree, out_file=None, feature_names=test_features.columns.values,class_names=classes, filled=True, rounded=True,\n",
    "                          special_characters=True,leaves_parallel=False )  \n",
    "#graph = graphviz.Source(dot_data)\n",
    "#graph"
   ]
  },
  {
   "cell_type": "markdown",
   "metadata": {},
   "source": [
    "<br><br><img width=900   src=\"Images/KompletterBaum.png\"  />"
   ]
  },
  {
   "cell_type": "markdown",
   "metadata": {},
   "source": [
    "Zusammenfassend sind Entscheidungsbäume sehr effektive ML-Algorithmen. Sie können sowohl für kategorische Daten als auch für kontinuierliche Daten angewendet werden. Eine Datenpräparation, wie sie von vielen anderen ML-Algorithmen essentiell benötigt wird, ist hier meistens nicht erforderlich. Sie sind sehr robust bezüglich des möglichen Zusammenhangs der einzelnen Features, es wird keine lineare Abhängigkeit vorausgesetzt. Es lassen sich die Zusammenhänge zwischen den Features optisch in der Baumform gut erkennen. \n",
    "Sie haben aber natürlich auch Nachteile:\n",
    "Sie neigen zum Overfitting, vor allem, wenn man die Baumtiefe nicht beschränkt und mögliche Optimierungen (auf die wir in diesem Rahmen nicht eingehen können) nicht benutzt werden. Kleine Veränderungen im Datensatz können zu völlig anderen Bäumen führen. <b>Man kann diesen Nachteil ausgleichen, indem man das Konzept erweitert auf Zufallswälder (Random Forests), indem man viele verschiedene Entscheidungsbäume erzeugt und dann daraus einen optimalen Gesamtbaum generiert.</b> Grosse Bäume können sehr unübersichtlich und schwer zu interpretieren werden.\n",
    "\n"
   ]
  },
  {
   "cell_type": "markdown",
   "metadata": {},
   "source": [
    "# Random Forests\n",
    "## Zufallswälder"
   ]
  },
  {
   "cell_type": "markdown",
   "metadata": {},
   "source": [
    "Bei Random Forests oder Zufallswäldern handelt es sich um sog. Ensemble-Lernmethoden. Dies bedeutet, daß verschiedene Lerntechniken (hier Entscheidungsbäume, deshalb Forests) kombiniert werden oder bei einer Lerntechnik verschiedene Auswahlen von Datensatzgruppen bearbeitet werden, und dann eine Zusammenfassung der Einzelergebnisse das letztendliche Ergebnis darstellt. Gerade Verfahren wie Entscheidungsbäume, die sich auch bei kleinen Abweichungen der Ursprungsbedingungen sehr verändern können, wird durch mehrfaches Durchführen des Algorithmus mit leicht unterschiedlichen Datensätzen und Mitteln des Ergebnisses eine deutlich höhrere Leistungsfähigkeit erreicht. Wir erhalten die unterschiedlichen Ergebnisse, indem wir zufällig ausgewählte Batches oder Teilmengen der Daten in einzelnen Entscheidungsbäumen auswerten (Bootstrapping). Diese Ergebnisse fassen wir dann zusammen (Bagging), zum Beispiel könnte für eine Sample der Label letztendlich vorhergesagt werden, der sich am häufigsten in den Einzelentscheiduungsbäumen ergab (Majority Voting). <br>\n",
    "Während in anderen Ensemble-Verfahren oft nicht unmittelbar klar ist, wie die zusammengefasste Lösung am Ende ensteht, ist dies für Random Forests einfach, da man sich alle einzelnen Entscheidungsbäume anschauen kann. Wir machen jetzt ein Beispiel mit sklearn und der Datei für maschinelles Lernen \"wine.data\" von der Universität von Kalifornien Irvine. Diese enthält Angaben (13 Features) über 178 Weine. Diese werden in  3 Kategorien aufgeteilt. \n"
   ]
  },
  {
   "cell_type": "code",
   "execution_count": 3,
   "metadata": {},
   "outputs": [
    {
     "name": "stdout",
     "output_type": "stream",
     "text": [
      "   Class label  Alcohol  Malic acid   Ash  Alcalinity of ash  Magnesium  \\\n",
      "0            1    14.23        1.71  2.43               15.6        127   \n",
      "1            1    13.20        1.78  2.14               11.2        100   \n",
      "2            1    13.16        2.36  2.67               18.6        101   \n",
      "3            1    14.37        1.95  2.50               16.8        113   \n",
      "4            1    13.24        2.59  2.87               21.0        118   \n",
      "\n",
      "   Total phenols  Flavanoids  Nonflavanoid phenols  Proanthocyanins  \\\n",
      "0           2.80        3.06                  0.28             2.29   \n",
      "1           2.65        2.76                  0.26             1.28   \n",
      "2           2.80        3.24                  0.30             2.81   \n",
      "3           3.85        3.49                  0.24             2.18   \n",
      "4           2.80        2.69                  0.39             1.82   \n",
      "\n",
      "   Color intensity   Hue  OD280/OD315 of diluted wines  Proline  \n",
      "0             5.64  1.04                          3.92     1065  \n",
      "1             4.38  1.05                          3.40     1050  \n",
      "2             5.68  1.03                          3.17     1185  \n",
      "3             7.80  0.86                          3.45     1480  \n",
      "4             4.32  1.04                          2.93      735  \n",
      "[1. 1. 1. 1. 1. 1. 1. 1. 1. 1. 1. 1. 1. 1. 1. 1. 1. 1. 1. 1. 1. 1. 1. 1.\n",
      " 1. 1. 1. 1. 1. 1. 1. 1. 1. 1. 1. 1. 1. 1. 1. 1. 1. 1. 1. 1. 1. 1. 1. 1.\n",
      " 1. 1. 1. 1. 1. 1. 1. 1. 1. 1. 1. 2. 2. 2. 2. 2. 2. 2. 2. 2. 2. 2. 2. 2.\n",
      " 2. 2. 2. 2. 2. 2. 2. 2. 2. 2. 2. 2. 2. 2. 2. 2. 2. 2. 2. 2. 2. 2. 2. 2.\n",
      " 2. 2. 2. 2. 2. 2. 2. 2. 2. 2. 2. 2. 2. 2. 2. 2. 2. 2. 2. 2. 2. 2. 2. 2.\n",
      " 2. 2. 2. 2. 2. 2. 2. 2. 2. 2. 3. 3. 3. 3. 3. 3. 3. 3. 3. 3. 3. 3. 3. 3.\n",
      " 3. 3. 3. 3. 3. 3. 3. 3. 3. 3. 3. 3. 3. 3. 3. 3. 3. 3. 3. 3. 3. 3. 3. 3.\n",
      " 3. 3. 3. 3. 3. 3. 3. 3. 3. 3.]\n",
      "Länge des Datenstes 178\n"
     ]
    }
   ],
   "source": [
    "import pandas as pd\n",
    "import numpy as np\n",
    "df_wine = pd.read_csv('Data/wine.data', header=0)\n",
    "#df_wine = pd.read_csv('https://archive.ics.uci.edu/ml/machine-learning-databases/wine/wine.data',header=None)\n",
    "                      \n",
    "#df_wine.to_csv('wine.data', index=False)\n",
    "\n",
    "df_wine.columns = ['Class label', 'Alcohol', 'Malic acid', 'Ash',\n",
    "                   'Alcalinity of ash', 'Magnesium', 'Total phenols',\n",
    "                   'Flavanoids', 'Nonflavanoid phenols', 'Proanthocyanins',\n",
    "                   'Color intensity', 'Hue', 'OD280/OD315 of diluted wines',\n",
    "                   'Proline']\n",
    "\n",
    "print(df_wine[:5])\n",
    "df_wine_np=np.array(df_wine)\n",
    "print(df_wine_np[:,0])\n",
    "print(f\"Länge des Datenstes {len(df_wine_np)}\")\n",
    "# df_wine = pd.read_csv('wine.data', header=None)\n",
    "\n",
    "# drop 1 class\n",
    "df_wine = df_wine[df_wine['Class label'] != 1]\n",
    "\n",
    "y = df_wine['Class label'].values-2 #spart Label encoder\n",
    "\n",
    "\n",
    "X = df_wine[['Alcohol', 'Malic acid']].values\n",
    "#print(X)\n",
    "#print(y)"
   ]
  },
  {
   "cell_type": "code",
   "execution_count": 4,
   "metadata": {},
   "outputs": [],
   "source": [
    "#from sklearn.preprocessing import LabelEncoder\n",
    "from sklearn.model_selection import train_test_split\n",
    "\n",
    "\n",
    "X_train, X_test, y_train, y_test =\\\n",
    "            train_test_split(X, y, \n",
    "                             test_size=0.3, \n",
    "                             random_state=1,\n",
    "                             stratify=y)"
   ]
  },
  {
   "cell_type": "code",
   "execution_count": 5,
   "metadata": {},
   "outputs": [],
   "source": [
    "from sklearn.ensemble import BaggingClassifier\n",
    "from sklearn.tree import DecisionTreeClassifier\n",
    "#from sklearn.tree import plot_tree\n",
    "#objekte bauen\n",
    "tree = DecisionTreeClassifier(criterion='entropy', \n",
    "                              max_depth=4,\n",
    "                              random_state=3)\n",
    "\n",
    "\n",
    "bag = BaggingClassifier(base_estimator=tree, #5000 verschiedene Entscheidungsbäume auswerten mit Bootsstrapping\n",
    "                        n_estimators=5000, \n",
    "                        max_samples=1.0, \n",
    "                        max_features=1.0, \n",
    "                        bootstrap=True, \n",
    "                        bootstrap_features=False, \n",
    "                        n_jobs=1, \n",
    "                        random_state=2)\n"
   ]
  },
  {
   "cell_type": "code",
   "execution_count": 36,
   "metadata": {},
   "outputs": [
    {
     "name": "stdout",
     "output_type": "stream",
     "text": [
      "Decision tree train/test accuracies 0.916/0.778\n",
      "Bagging train/test accuracies 0.988/0.861\n"
     ]
    }
   ],
   "source": [
    "from sklearn.metrics import accuracy_score\n",
    "\n",
    "tree = tree.fit(X_train, y_train)\n",
    "\n",
    "y_train_pred = tree.predict(X_train)\n",
    "y_test_pred = tree.predict(X_test)\n",
    "\n",
    "tree_train = accuracy_score(y_train, y_train_pred)\n",
    "tree_test = accuracy_score(y_test, y_test_pred)\n",
    "print('Decision tree train/test accuracies %.3f/%.3f'\n",
    "      % (tree_train, tree_test))\n",
    "\n",
    "bag = bag.fit(X_train, y_train)\n",
    "y_train_pred = bag.predict(X_train)\n",
    "y_test_pred = bag.predict(X_test)\n",
    "\n",
    "bag_train = accuracy_score(y_train, y_train_pred) \n",
    "bag_test = accuracy_score(y_test, y_test_pred) \n",
    "print('Bagging train/test accuracies %.3f/%.3f'\n",
    "      % (bag_train, bag_test))"
   ]
  },
  {
   "cell_type": "markdown",
   "metadata": {},
   "source": [
    "Wir haben jetzt mit dem sogenannten Bagging einen Konsensbaum aus 1000 einzelnen Entscheidungsbäumen mit verschiedenen Batches produziert und zeigen jetzt den Unterschied zwischen den Entscheidungsgrenzen für einem einzelnen Entscheidungsbaum und den Konsensbaum."
   ]
  },
  {
   "cell_type": "code",
   "execution_count": 6,
   "metadata": {},
   "outputs": [
    {
     "data": {
      "image/png": "[encoded data removed]",
      "text/plain": [
       "<Figure size 864x576 with 2 Axes>"
      ]
     },
     "metadata": {
      "needs_background": "light"
     },
     "output_type": "display_data"
    }
   ],
   "source": [
    "import numpy as np\n",
    "import matplotlib.pyplot as plt\n",
    "\n",
    "x_min = X_train[:, 0].min() - 1\n",
    "x_max = X_train[:, 0].max() + 1\n",
    "y_min = X_train[:, 1].min() - 1\n",
    "y_max = X_train[:, 1].max() + 1\n",
    "\n",
    "xx, yy = np.meshgrid(np.arange(x_min, x_max, 0.1),\n",
    "                     np.arange(y_min, y_max, 0.1))\n",
    "\n",
    "f, axarr = plt.subplots(nrows=1, ncols=2, \n",
    "                        sharex='col', \n",
    "                        sharey='row', \n",
    "                        figsize=(12, 8))\n",
    "\n",
    "\n",
    "for idx, clf, tt in zip([0, 1],\n",
    "                        [tree, bag],\n",
    "                        ['Decision tree', 'Bagging']):\n",
    "    clf.fit(X_train, y_train)\n",
    "\n",
    "    Z = clf.predict(np.c_[xx.ravel(), yy.ravel()])\n",
    "    Z = Z.reshape(xx.shape)\n",
    "\n",
    "    axarr[idx].contourf(xx, yy, Z, alpha=0.3)\n",
    "    axarr[idx].scatter(X_train[y_train == 0, 0],\n",
    "                       X_train[y_train == 0, 1],\n",
    "                       c='blue', marker='^')\n",
    "\n",
    "    axarr[idx].scatter(X_train[y_train == 1, 0],\n",
    "                       X_train[y_train == 1, 1],\n",
    "                       c='green', marker='o')\n",
    "\n",
    "    axarr[idx].set_title(tt)\n",
    "\n",
    "axarr[0].set_ylabel('Alcohol', fontsize=12)\n",
    "\n",
    "plt.tight_layout()\n",
    "plt.text(0, -0.1,\n",
    "         s='Malic Acid',\n",
    "         ha='center',\n",
    "         va='center',\n",
    "         fontsize=12,\n",
    "         transform=axarr[1].transAxes)\n",
    "\n",
    "#plt.savefig('images/07_08.png', dpi=300, bbox_inches='tight')\n",
    "plt.show()"
   ]
  },
  {
   "cell_type": "markdown",
   "metadata": {},
   "source": [
    "Bei unserem einfachen Beispiel gewinnen wir durch Bagging deutlich an Accuracy. Wir sehen auch, daß ein Hinweis für Overfitting vorliegt.<b><br> Decision tree train/test accuracies 0.916/0.778<br>\n",
    "Bagging train/test accuracies 0.988/0.861"
   ]
  },
  {
   "cell_type": "code",
   "execution_count": null,
   "metadata": {},
   "outputs": [],
   "source": []
  }
 ],
 "metadata": {
  "kernelspec": {
   "display_name": "Python 3 (ipykernel)",
   "language": "python",
   "name": "python3"
  },
  "language_info": {
   "codemirror_mode": {
    "name": "ipython",
    "version": 3
   },
   "file_extension": ".py",
   "mimetype": "text/x-python",
   "name": "python",
   "nbconvert_exporter": "python",
   "pygments_lexer": "ipython3",
   "version": "3.9.7"
  }
 },
 "nbformat": 4,
 "nbformat_minor": 4
}
