{
 "cells": [
  {
   "cell_type": "markdown",
   "metadata": {},
   "source": [
    "# Unsere ersten eigenen Klassen\n",
    "<br><br>\n",
    "<img width=900 src=\"Images/class.png\"> <br><br>"
   ]
  },
  {
   "cell_type": "markdown",
   "metadata": {},
   "source": [
    "Wenn wir unsere eigenen Klassen aufbauen wollen, geht das so:<br>\n",
    "Wir brauchen das Schlüsselwort ```class``` gefolgt von einem Bezeichner, dem Namen der Klasse. Der Bezeichner folgt Pythons allgemeinen Namensregeln (nur Buchstaben, Ziffern und _ erlaubt, am Anfang keine Ziffer). Meistens wird dieser Bezeichner mit einem Großbuchstaben begonnen, um anzuzeigen, daß es ein Klassenname ist. Dann folgt ein Doppelpunkt und dann beginnt der Körper der Klasse. Wie immer, wenn Python einen (eingerückten) Block anlegt, muß dieser mindesten eine Anweisung enthalten. Wir nehmen hier die Leeranweisung ```pass```."
   ]
  },
  {
   "cell_type": "code",
   "execution_count": 51,
   "metadata": {},
   "outputs": [],
   "source": [
    "class Dog:\n",
    "    pass"
   ]
  },
  {
   "cell_type": "markdown",
   "metadata": {},
   "source": [
    "Mit diesem einfachen Befehl haben wir die Klasse \"Dog\" angelegt. Was können wir damit machen? Wir können Instanzen der Dog-Klasse anlegen und uns deren Typ ausgeben lassen. Wir sehen, daß der Typ beim Ausdruck unten in der Form ```__ausführendes Modul__.Klassenbezeichner``` ausgegeben wird. Es ist also ein neuer Typ für Instanzen der Dog-Klasse entstanden. Außerdem sehen wir, daß die Instanzen jeweils in einem eigenen Speicherbereich (Test mit id()) abgelegt sind. Wir können mit der vorletzten Zeile eine zweite Referenz auf \"Wau\" erzeugen, wir erkennen dies am identischen Speicherbereich."
   ]
  },
  {
   "cell_type": "code",
   "execution_count": 52,
   "metadata": {},
   "outputs": [
    {
     "name": "stdout",
     "output_type": "stream",
     "text": [
      "<class '__main__.Dog'>\n",
      "2850191862992 2850191862320\n",
      "Wau2 liegt bei 2850191862320 genau wie Wau 2850191862320\n"
     ]
    }
   ],
   "source": [
    "Wuffi=Dog() #Instanz der Klasse Dog anlegen\n",
    "Wau=Dog() #noch eine Instanz\n",
    "print(type(Wuffi)) #type von Wuffi \n",
    "print(id(Wuffi),id(Wau))\n",
    "Wau2=Wau # Wau2 und Wau sind Referenzen auf das gleiche Objekt\n",
    "print(f\"Wau2 liegt bei {id(Wau2)} genau wie Wau {id(Wau)}\")\n"
   ]
  },
  {
   "cell_type": "markdown",
   "metadata": {},
   "source": [
    "Bei der Erstellung einer Instanz wird hinter den Kulissen eine Methode mit dem Namen ```__new__``` aufgerufen, die die Vorbereitungen für die Anlage einer neuen Instanz erledigt. Man nennt dies einen ```Konstruktur```, er ist nötig zur Erzeugung der Instanz. Wie gezeigt haben wir normalerweise damit nichts zu tun, es reicht unsere einfache Syntax:<br>\n",
    "```Instanzbezeicher=Klassenname(eventuell Argumente)```. Davon später mehr."
   ]
  },
  {
   "cell_type": "markdown",
   "metadata": {},
   "source": [
    "Nun sollten unsere Hunde aber auch Eigenschaften, Attribute haben. Wie schaffen wir dies. Im einfachsten Fall einfach \"on the fly\" oder \"dynamisch\". Das heißt, wir hängen mit der dot-Syntax den Namen des Attributs an die Instanz an und weisen diesem Attribut einen Wert zu. Zu beachten ist, daß Wau und Wau2 die gleiche Instanz referenzieren, eine Änderung in den Attributen der Instanz betrifft damit immer auch die andere Referenz, wie unten zu sehen."
   ]
  },
  {
   "cell_type": "code",
   "execution_count": 53,
   "metadata": {},
   "outputs": [
    {
     "name": "stdout",
     "output_type": "stream",
     "text": [
      "2850191862320 2850191862320\n",
      "43\n"
     ]
    }
   ],
   "source": [
    "Wau.gewicht=25\n",
    "Wau2.gewicht=43\n",
    "Wuffi.grösse=60\n",
    "print(id(Wau),id(Wau2))\n",
    "print(Wau.gewicht) #geändert durch Wau2.gewicht=43!!\n"
   ]
  },
  {
   "cell_type": "markdown",
   "metadata": {},
   "source": [
    "Dieses Zuweisen von Attributen geht auch für einige eingebaute Python-Objekte, wir zeigen es hier für eine Funktion. Das erste Beispiel speichert den Namen des Erzeugers der Funktion ab, das zweite zählt, wie oft die Funktion aufgerufen wurde. Ist das Attribut \"counter\" für die Funktion schon angelegt, wird das Attribut beim Aufruf um 1 incrementiert. Sonst wird das Attribut angelegt und auf 1 gesetzt. Im unteren Beispiel erledigen wir dieselbe Funktionalität mit der \"getatttr\"- Funktion, die den Wert des Attributs ausgibt (object ist my_fun3, Name des Attributs ist \"counter\"). Ist das Attribut noch nicht gesetzt, wird es auf den Default-Wert, hier 0 gesetzt. getattr gibt immer einen String zurück, sodaß noch ein int() Casting notwendig ist. Wenn man dann um 1 incrementiert, ist diese Funktion wie my_fun2."
   ]
  },
  {
   "cell_type": "code",
   "execution_count": 54,
   "metadata": {},
   "outputs": [
    {
     "name": "stdout",
     "output_type": "stream",
     "text": [
      "Bill Gates\n",
      "====================================================================================================\n",
      "Counter ist: 1\n",
      "Counter ist: 2\n",
      "====================================================================================================\n",
      "Counter ist: 1\n",
      "Counter ist: 2\n"
     ]
    }
   ],
   "source": [
    "def my_fun():\n",
    "    return\n",
    "\n",
    "my_fun.erzeuger=\"Bill Gates\" #Attribut einer Funktion\n",
    "print(my_fun.erzeuger)\n",
    "print(100*\"=\")\n",
    "#######diese Funktion gibt die Zahl ihrer Aufrufe aus, die in dem counter-Attribut gespeichert sind###\n",
    "def my_fun2():\n",
    "    if hasattr(my_fun2,\"counter\"):\n",
    "        my_fun2.counter+=1 #Attribut schon da\n",
    "    else:\n",
    "        my_fun2.counter=1 #Attribut anlegen und setzen\n",
    "        \n",
    "    print(f\"Counter ist: {my_fun2.counter}\")\n",
    "\n",
    "my_fun2()\n",
    "my_fun2()\n",
    "print(100*\"=\")\n",
    "#Alternativ##########\n",
    "def my_fun3():\n",
    "    my_fun3.counter=int(getattr(my_fun3,\"counter\",\"0\"))+1\n",
    "    \n",
    "    print(f\"Counter ist: {my_fun3.counter}\")\n",
    "\n",
    "my_fun3()\n",
    "my_fun3()"
   ]
  },
  {
   "cell_type": "markdown",
   "metadata": {},
   "source": [
    "Dies stellt einen Ersatz für statische Funktionsvariablen dar, die Python nicht kennt. Es wird wie bei der statischen Funktionsvariablen der Funktion ein Wert zugeordnet, der nach der Ausführung der Funktion bestehen bleibt. Dieses Attributzuordnen geht längst nicht bei allen Python_Objekten. Bei der Klasse \"list\" z.B. funktioniert das Vorgehen nicht."
   ]
  },
  {
   "cell_type": "code",
   "execution_count": 55,
   "metadata": {},
   "outputs": [],
   "source": [
    "x=[1,2,3]\n",
    "#x.länge=3 #####  geht nicht:AttributeError: 'list' object has no attribute 'Länge'\n"
   ]
  },
  {
   "cell_type": "markdown",
   "metadata": {},
   "source": [
    "Auch eigene Klassen können Attribute zugewiesen bekommen:"
   ]
  },
  {
   "cell_type": "code",
   "execution_count": 56,
   "metadata": {},
   "outputs": [
    {
     "name": "stdout",
     "output_type": "stream",
     "text": [
      "Bill Gates\n"
     ]
    }
   ],
   "source": [
    "class Cat:\n",
    "    pass\n",
    "Cat.Erzeuger=\"Bill Gates\"\n",
    "print(Cat.Erzeuger)"
   ]
  },
  {
   "cell_type": "markdown",
   "metadata": {},
   "source": [
    "Mit my_fun3.__dir__() oder auch dir(my_fun3) lassen sich, wie schon gezeigt, die Attribute anzeigen, wir finden auch unser neues Attribut \"counter\"."
   ]
  },
  {
   "cell_type": "code",
   "execution_count": 57,
   "metadata": {},
   "outputs": [
    {
     "data": {
      "text/plain": [
       "['counter',\n",
       " '__repr__',\n",
       " '__call__',\n",
       " '__get__',\n",
       " '__new__',\n",
       " '__closure__',\n",
       " '__doc__',\n",
       " '__globals__',\n",
       " '__module__',\n",
       " '__code__',\n",
       " '__defaults__',\n",
       " '__kwdefaults__',\n",
       " '__annotations__',\n",
       " '__dict__',\n",
       " '__name__',\n",
       " '__qualname__',\n",
       " '__hash__',\n",
       " '__str__',\n",
       " '__getattribute__',\n",
       " '__setattr__',\n",
       " '__delattr__',\n",
       " '__lt__',\n",
       " '__le__',\n",
       " '__eq__',\n",
       " '__ne__',\n",
       " '__gt__',\n",
       " '__ge__',\n",
       " '__init__',\n",
       " '__reduce_ex__',\n",
       " '__reduce__',\n",
       " '__subclasshook__',\n",
       " '__init_subclass__',\n",
       " '__format__',\n",
       " '__sizeof__',\n",
       " '__dir__',\n",
       " '__class__']"
      ]
     },
     "execution_count": 57,
     "metadata": {},
     "output_type": "execute_result"
    }
   ],
   "source": [
    "my_fun3.__dir__()"
   ]
  },
  {
   "cell_type": "markdown",
   "metadata": {},
   "source": [
    "<b>Diese Art Attribute zuzuordnen ist für die OOP verheerend.</b> Produzieren wir noch ein paar Hunde. Wir ordnen ihnen Attribute zu. Dies erzeugt inkonsistente Instanzen. New_Wau hat kein Attribut \"beisst\" und New_Wau1 keines \"gefüttert\". Wollten wir uns merken, welche Instanz welches Attribut hat, müssten wir eine \"Buchführung\" einrichten oder es entsprechend überprüfen, wozu es ein neben der dir-Funktion auch ein <b>Attributdictionary ```__dict__```</b> gibt, wie unten gezeigt. Das kann nicht im Sinne der OOP sein. Man sollte nie \"dynamisch\" Instanzen Attribute zuordnen."
   ]
  },
  {
   "cell_type": "code",
   "execution_count": 58,
   "metadata": {},
   "outputs": [
    {
     "data": {
      "text/plain": [
       "{'gefüttert': True}"
      ]
     },
     "execution_count": 58,
     "metadata": {},
     "output_type": "execute_result"
    }
   ],
   "source": [
    "class Dog:\n",
    "    pass\n",
    "New_Wau=Dog()\n",
    "New_Wau1=Dog()\n",
    "New_Wau.gefüttert=True\n",
    "New_Wau1.beisst=False\n",
    "New_Wau.__dict__ #Attribut(e) wird(werden) ausgegeben"
   ]
  },
  {
   "cell_type": "markdown",
   "metadata": {},
   "source": [
    "Wie aber dann? <b>Wenn wir Instanzattribute für unsere Roboterklasse erzeugen wollen, so sollten wir dies unmittelbar in der Klassendefinition tun.</b> Bevor wir dies tun, sollten wir uns aber noch anschauen, wie in einer Klasse Methoden eingebaut werden. Da Methoden nichts anderes sind als Klassen-eigene Funktionen ist das einfach. Wir erzeugen eine neue Dog-Klasse mit der Methode \"bellen\". Achten Sie bitte auf die Klammern, die ja beim Aufruf einer Methode nötig sind, man erhält sonst nur den Namen der Methode zurückgegeben."
   ]
  },
  {
   "cell_type": "code",
   "execution_count": 59,
   "metadata": {},
   "outputs": [
    {
     "name": "stdout",
     "output_type": "stream",
     "text": [
      "wuff\n",
      "Keine Klammern: <bound method Dog.bellen of <__main__.Dog object at 0x000002979CAC6AC0>>\n"
     ]
    }
   ],
   "source": [
    "class Dog:\n",
    "    def bellen(self):\n",
    "        print(\"wuff\")\n",
    "        \n",
    "New_Wau=Dog()\n",
    "New_Wau1=Dog()\n",
    "New_Wau.bellen()\n",
    "print(f\"Keine Klammern: {New_Wau.bellen}\")"
   ]
  },
  {
   "cell_type": "markdown",
   "metadata": {},
   "source": [
    "Eigentlich einfach, aber was ist dieser merkwürdige Parameter ```self```?."
   ]
  },
  {
   "cell_type": "markdown",
   "metadata": {},
   "source": [
    "Wir rufen die Methode \"bellen\" ja von einer Instanz (New_Wau) aus auf.  Diese übergeben wir mit self an unsere Methode. Die Methode weiß so, daß sie von einer bestimmten Instanz aufgerufen wurde. Der Aufruf könnte auch so formuliert werden:<br> Dog.bellen(New_Wau)<br>Dies wäre also: Rufe aus der Klasse \"Dog\" die Methode \"bellen\" für die Instanz \"New_Wau\" auf. Diese konventionelle Art des Methodenaufrufs ist aber absolut unüblich. Man verwendet gemeinhin die \"dot\"- Syntax wie oben angeführt. \"self\" steht also symbolisch in der Methode für die aufrufende Instanz. Dieser Parameter muß immer als erstes in einer Methode stehen. Muß es \"self\" sein? Nein jeder Name wäre möglich, aber es wäre völlig unüblich einen anderen Namen zu verwenden. Das \"self\" würde uns zum Beispiel ermöglichen, auf Attribute der aufrufenden Instanz zuzugreifen. Das self steht ja für New_Wau.\n",
    "\n"
   ]
  },
  {
   "cell_type": "code",
   "execution_count": 60,
   "metadata": {},
   "outputs": [
    {
     "name": "stdout",
     "output_type": "stream",
     "text": [
      "wuff\n",
      "Wurde ich gefütter? False\n"
     ]
    }
   ],
   "source": [
    "class Dog:\n",
    "    def bellen(self):\n",
    "        print(\"wuff\")\n",
    "        print(f\"Wurde ich gefütter? {self.gefüttert}\")\n",
    "        \n",
    "New_Wau=Dog()\n",
    "New_Wau.gefüttert=False\n",
    "New_Wau.bellen()"
   ]
  },
  {
   "cell_type": "markdown",
   "metadata": {},
   "source": [
    "<b>Kommen wir jetzt zur üblichen Vorgehensweise, wenn wir eine neue Instanz anlegen wollen mit ihren Attributen. Hierzu verwenden wir die Methode ```__init__()```, die immer als erstes (nach ```__new__()``` im Hintergrund, wie oben besprochen) ausgeführt wird, wenn wir eine Instanz anlegen."
   ]
  },
  {
   "cell_type": "code",
   "execution_count": 61,
   "metadata": {},
   "outputs": [
    {
     "name": "stdout",
     "output_type": "stream",
     "text": [
      "90 35 False\n"
     ]
    }
   ],
   "source": [
    "class Dog:\n",
    "    def __init__(self,grösse,gewicht):\n",
    "        self.grösse=grösse\n",
    "        self.gewicht=gewicht\n",
    "        self.gefüttert=False\n",
    "        \n",
    "Wuffi=Dog(90,35)\n",
    "print(Wuffi.grösse,Wuffi.gewicht,Wuffi.gefüttert)    "
   ]
  },
  {
   "cell_type": "markdown",
   "metadata": {},
   "source": [
    "Hier wird also ```__init__``` aufgerufen, wenn wir die Instanz Wuffi anlegen wollen. \"self\" ist mit Wuffi belegt, für die anderen beiden Parameter wird 90 und 35 übergeben. Es werden dann für Wuffi die 3 Attribute grösse,gewicht und gefüttert angelegt. Die ersten beiden werden mit den im Aufruf übergebenen Argumenten befüllt. Für gefüttert wird False eingesetzt.\n",
    "Dieses Schema erlaubt konsistente Instanzen anzulegen, wenn die Argumente im Aufruf bei der Instanzerzeugung fehlen, entsteht nämlich ein Fehler. "
   ]
  },
  {
   "cell_type": "code",
   "execution_count": 62,
   "metadata": {},
   "outputs": [],
   "source": [
    "class Dog:\n",
    "    def __init__(self,grösse,gewicht):\n",
    "        self.grösse=grösse\n",
    "        self.gewicht=gewicht\n",
    "        self.gefüttert=False\n",
    "        \n",
    "#Wuffi=Dog() #geht nicht mehr:TypeError: __init__() missing 2 required positional arguments: 'grösse' and 'gewicht'\n",
    "   "
   ]
  },
  {
   "cell_type": "markdown",
   "metadata": {},
   "source": [
    "Die Namen der Parameter müssen natürlich <b>nicht</b> mit den Attributbezeichnern übereinstimmen, auch wenn man dies oft sieht. Hier ein Beispiel zum Verdeutlichen. Attribute:grösse,gewicht,gefüttert. Funktionsparameter:self,size,weight."
   ]
  },
  {
   "cell_type": "code",
   "execution_count": 63,
   "metadata": {},
   "outputs": [
    {
     "name": "stdout",
     "output_type": "stream",
     "text": [
      "90 35 False\n",
      "wuff\n",
      "False\n"
     ]
    }
   ],
   "source": [
    "class Dog:\n",
    "    def __init__(self,size,weight):\n",
    "        self.grösse=size\n",
    "        self.gewicht=weight\n",
    "        self.gefüttert=False\n",
    "        \n",
    "    \n",
    "    def bellen(self):\n",
    "        print(\"wuff\")\n",
    "        return self.gefüttert\n",
    "        \n",
    "Wuffi=Dog(90,35)\n",
    "print(Wuffi.grösse,Wuffi.gewicht,Wuffi.gefüttert)  \n",
    "print(Wuffi.bellen())"
   ]
  },
  {
   "cell_type": "markdown",
   "metadata": {},
   "source": [
    "Wichtig ist noch zu wissen, daß die ```__init__()``` Methode nie etwas zurückgibt, ein return irgendeines Objektes erzeugt einen Fehler, z.B.  ``` TypeError: __init__() should return None, not 'Dog'```, wenn wir self returnieren. Andere Methoden können das aber wie oben gezeigt sehr wohl. Der merkwürdige Name ```__init__``` , der mit einem doppelten Unterstrich anfängt und auch aufhört, zeigt an, daß die Methode eine Python interne spezielle Methode ist, eine ```Dunder-Methode``` (für double Underscore) oder magische Methode. Hiervon gibt es eine Vielzahl, und wir werden sie in einem eigenen Kapitel besprechen. Können Methoden alles, was Funktionen können? Ja. Es gibt Standardparameter und Schlüsselwortargumente, außerdem kann eine unbestimmte Anzahl von Argumenten oder Schlüsselwortargumenten mit ```*args und **kwargs``` übergeben werden, wie in normalen Funktionen auch. Ein Beispiel folgt: "
   ]
  },
  {
   "cell_type": "code",
   "execution_count": 64,
   "metadata": {},
   "outputs": [
    {
     "name": "stdout",
     "output_type": "stream",
     "text": [
      "Wuffi: (90, 35, False)\n",
      "wuff\n",
      "gefüttert? False \n",
      "====================================================================================================\n",
      "{'grösse': 25, 'gewicht': 30, 'gefüttert': False}\n",
      "====================================================================================================\n",
      "wuff\n",
      "Vielen Dank\n",
      "{'grösse': 25, 'gewicht': 30, 'gefüttert': True}\n"
     ]
    }
   ],
   "source": [
    "class Dog:\n",
    "    def __init__(self,size,weight=30):\n",
    "        self.grösse=size\n",
    "        self.gewicht=weight\n",
    "        self.gefüttert=False\n",
    "        \n",
    "    def bellen(self):\n",
    "        print(\"wuff\")\n",
    "        if self.gefüttert==True:\n",
    "            print(\"Vielen Dank\")\n",
    "        return self.gefüttert\n",
    "        \n",
    "Wuffi=Dog(90,35)\n",
    "print(f\"Wuffi: {Wuffi.grösse,Wuffi.gewicht,Wuffi.gefüttert}\")  \n",
    "print(f\"gefüttert? {Wuffi.bellen()} \")\n",
    "print(100*\"=\")\n",
    "Wau=Dog(size=25) #für gewicht standardparameter in __init__()\n",
    "print(Wau.__dict__)\n",
    "print(100*\"=\")\n",
    "Wau.gefüttert=True \n",
    "Wau.bellen()\n",
    "print(Wau.__dict__)"
   ]
  },
  {
   "cell_type": "markdown",
   "metadata": {},
   "source": [
    "Wie können wir mehrere Instanzen miteinander interagieren lassen in einer Methode? Dies können wir, indem wir für die zweite Instanz ebenfalls einen \"Dummy-Parameter\" in die Methode eingeben, wie für die erste Instanz das \"self\".\n",
    "Normalerweise wird hierfür nach Konvention ```other``` verwendet."
   ]
  },
  {
   "cell_type": "code",
   "execution_count": 65,
   "metadata": {},
   "outputs": [
    {
     "name": "stdout",
     "output_type": "stream",
     "text": [
      " Maria tanzt mit Klaus\n"
     ]
    }
   ],
   "source": [
    "class tanzen:\n",
    "    def __init__(self,name):\n",
    "        self.name=name\n",
    "        \n",
    "    def wer_mit_wem(self,other):\n",
    "        print(f\" {self.name} tanzt mit {other.name}\" )\n",
    "        \n",
    "partner1=tanzen(\"Maria\")\n",
    "partner2=tanzen(\"Klaus\")\n",
    "partner1.wer_mit_wem(partner2) #man beachte den Aufruf der Methode, die 2. Instanz ist ein normaler Parameter"
   ]
  },
  {
   "cell_type": "markdown",
   "metadata": {},
   "source": [
    "Wir wollen in diesem Kapitel als Letztes besprechen, wie eine Instanz gelöscht werden kann. Man nennt die Methode hierzu einen Destruktor, analog zum Konstruktur ```__new__```, der ja im Hintergrund abläuft. Diese Methode ist wieder eine Dunder-Methode. Sie heißt ```__del__```. Eigentlich handelt es sich aber nicht um den wirklichen Destruktor. Wenn man eine Instanz einer Klasse mit der ```del``` <b>Anweisung (die die Referenz auf ein Objekt löscht)</b> bearbeitet (ist etwas anderes als ```__del__```!!), was ja auch für die internen Klassen geht, z.B. <b>del my_list</b>, wird die <b>Methode</b>```__del__``` <b>vor dem eigentlichen Destruktor</b> aufgerufen. Allerdings nur, falls es keine weitere Referenz auf diese Instanz gibt. ```__del__``` wird selten benutzt, und es wird von der Verwendung abgeraten, da man sich normalerweise nicht um das Aufräumen im Speicher kümmern muss. Die sogenannte \"garbage collection\" also Müllsammlung erledigt Python automatisch, indem es Objekte löscht, auf die keine Referenz, also kein Zugriff mehr besteht. Ein Gebrauchsfall würde darin bestehen, vor dem Löschen eines Objekts noch Aufräumarbeiten zu erledigen, für die Attribute des zu löschenden Objektes benötigt werden, denn ```__del__``` wird ja vor dem eigentlichen Löschen ausgeführt. Insgesamt ist die Verwendung von ```__del__``` problematisch, wie wir gleich sehen werden. <br><br>Wir löschen unsere Instanzen jetzt selber. Da z und x auf die gleiche Instanz verweisen, ist nach dem Ausführen der ```del``` - Anweisung für x die zweite Referenz z auf das gleiche Objekt weiterhin verfügbar. Auf den Speicherplatz für x verweist ja noch die Referenz z. Während die Referenz x also mit ```del``` gelöscht wurde, wird die ```__del__``` Methode nicht aufgerufen, da die Zahl der Referenzen für dieses Objekt nicht 0 ist. Die Referenz x existiert allerdings natürlich nicht mehr. Bei y hingegen löscht man ja die letzte Referenz."
   ]
  },
  {
   "cell_type": "code",
   "execution_count": 66,
   "metadata": {},
   "outputs": [
    {
     "name": "stdout",
     "output_type": "stream",
     "text": [
      "Fiat wurde erschaffen!\n",
      "VW wurde erschaffen!\n",
      "Löschen x?\n",
      "z ist noch da, z.B. z.name ist: Fiat , __del__ für x nicht aufgerufen!!\n",
      "Löschen z?\n",
      "Fiat wurde zerstört, hier könnte man Code einfügen, der vor dem Löschen noch erledigt werden soll,\n",
      "denn zu diesem Zeitpunkt sind alle Attribute der Instanz noch da, wie im Attributedict ersichtlich: {'name': 'Fiat'}\n",
      "Löschen y?\n",
      "VW wurde zerstört, hier könnte man Code einfügen, der vor dem Löschen noch erledigt werden soll,\n",
      "denn zu diesem Zeitpunkt sind alle Attribute der Instanz noch da, wie im Attributedict ersichtlich: {'name': 'VW'}\n"
     ]
    }
   ],
   "source": [
    "class Auto():\n",
    "    \n",
    "    def __init__(self, name):\n",
    "        print(name + \" wurde erschaffen!\")\n",
    "        self.name=name\n",
    "        \n",
    "    def __del__(self):\n",
    "        print (f\"{self.name} wurde zerstört, hier könnte man Code einfügen, der vor dem Löschen noch erledigt werden soll,\")\n",
    "        print(f\"denn zu diesem Zeitpunkt sind alle Attribute der Instanz noch da, wie im Attributedict ersichtlich: {self.__dict__}\")\n",
    "        \n",
    "x = Auto(\"Fiat\")\n",
    "y = Auto(\"VW\")\n",
    "z=x\n",
    "print(\"Löschen x?\")\n",
    "del x\n",
    "print(f\"z ist noch da, z.B. z.name ist: {z.name} , __del__ für x nicht aufgerufen!!\")\n",
    "print(\"Löschen z?\")\n",
    "del z\n",
    "print(\"Löschen y?\")\n",
    "del y"
   ]
  },
  {
   "cell_type": "markdown",
   "metadata": {},
   "source": [
    "Ein weiteres Beispiel warum ```__del__``` problematisch ist. In untenstehenden Beispiel erzeugen wir in der Klasse eine Liste instances, die zunächt leer ist. Diese Liste gehört zur Klasse, nicht zu einer Instanz, davon später mehr. Beim Anlegen der Instanz a wird neben Belegen des Attributs name auch die Instanz a in die Klassenliste instances eingefügt mit A.instances, welches sich auf die Liste instances der Klasse A bezieht. An diese Liste wird die Instanz a über ihren symbolischen Parameter self angefügt mit append. Dies erhöht die Zahl der Referenzen für a auf 2. Dadurch wird beim Vermindern der Referenzanzahl um 1 mit ```del``` nicht 0 erreicht und x wird nicht mit ```__del__``` bearbeitet!!"
   ]
  },
  {
   "cell_type": "code",
   "execution_count": 67,
   "metadata": {},
   "outputs": [
    {
     "name": "stdout",
     "output_type": "stream",
     "text": [
      "instances enthält jetzt a : [<__main__.A object at 0x000002979CADE3D0>]\n",
      "end\n"
     ]
    }
   ],
   "source": [
    "class A():\n",
    "    instances=[]\n",
    "    def __init__(self, name):\n",
    "        self.name = name        \n",
    "        A.instances.append(self)\n",
    "        print(f\"instances enthält jetzt a : {A.instances}\")\n",
    "    def __del__(self):\n",
    "        print(\"delete\", self.name)\n",
    "\n",
    "a = A(\"ich heiße a\")\n",
    "\n",
    "del a #kein Ausführen von __del__()!!!\n",
    "print(\"end\")\n",
    "# print(a) ######### macht Fehler , gelöscht wurde a, nur die __del__ Methode wurde nicht ausgeführt"
   ]
  },
  {
   "cell_type": "markdown",
   "metadata": {},
   "source": [
    "<b>Wir haben nun unsere erste Klasse erzeugt, Attribute zugeordnet mit der ```__init__```- Methode und eigene Methoden erstellt. Damit sind wir einen großen Schritt weiter beim Erlernen der OOP."
   ]
  },
  {
   "cell_type": "markdown",
   "metadata": {},
   "source": [
    "## Einfache Übungen\n",
    "### Task1:<br>\n",
    "Schreiben Sie eine Roboterklasse R2D2. Als Attribut soll jeder Roboter einen Namen haben. Roboter dürfen aber (laut Gewerkschaft der Roboter) nicht \"Hugo\" heissen. Schreiben Sie die Klasse so, dass ein solcher Roboter automatisch \"Marvin\" heisst und geben Sie eine Meldung aus, dass der Name geändert wurde. \n",
    "\n",
    "### Task1a:<br>\n",
    "Ein Roboter soll auch ein Baujahr haben. Ergänzen Sie die Klasse. Schreiben Sie eine if-Anweisung, die den Roboter verschrottet, wenn er älter als 10 Jahre ist. Benutzen Sie dazu auch die __del__ Methode. Schreiben Sie eine Meldung, dass der Roboter gelöscht wurde.\n",
    "\n",
    "### Task2:<br>\n",
    "Schreiben Sie eine Roboterklasse mit ```Namen``` als Attribut. Der Name soll maximal 10 Zeichen lang sein, längere Namen werden abgeschnitten. Die Roboter sollen sich in einem zweidimensionalen Koordinatensystem bewegen können.Die Attribute sollen ```x``` und ```y``` sein als Standort im Koordinatensystem. Ausserdem soll ein Attribut ```richtung``` vorhanden sein. Hier sind 4 Werte möglich, \"Nord\", \"West\", \"Süd\" und \"Ost\". Das Attribut bezeichnet die Ausrichtung des Roboters im Koordinatensystem. Schreiben sie eine ```move```-Methode, die einen Parameter ```distanz``` (im Beispiel 10) erwartet, z.B. x.move(10). Der Roboter soll dann in seiner Orientierung um ```distanz``` bewegt werden. Schreiben Sie ausserdem eine ```change_orientierung```-Methode , die die Ausrichtung des Roboters ändert. Das Koordinatensystem soll so aussehen.<br>\n",
    "<img  width=400  height = 400 src=\"Images/coordinates.jpg\"   /> "
   ]
  },
  {
   "cell_type": "markdown",
   "metadata": {},
   "source": [
    "# Weitere entwas anspruchsvollere Übungen\n",
    "## Übungen\n",
    "\n",
    "\n",
    "<table>\n",
    "<tr>    \n",
    "    <td> <img  width=200  height = 200 src=\"Images/smoothie.png\"   /> </td>\n",
    "    <td> <img  width=200  height = 200 src=\"Images/brain.jpeg\"   /> </td>\n",
    "    <td> <img  width=200  height = 200 src=\"Images/car.jpg\"   /> </td>\n",
    "    <td> <img  width=200  height = 200 src=\"Images/multiple_choice.jpg\"   /> </td>\n",
    "    </tr>\n",
    "</table>\n",
    "\n",
    "### Übung 1\n",
    "Schreiben Sie eine Klasse Memories, die Ihnen beim Erinnern hilft. Darin sollen Sie mit der Methode \"add\" eine Aufzählung von Schlüsselwortargumenten in ein Dictionary übergeben können. Mit der Methode \"remember\" sollen Sie dann mit dem key des Dictionary den zugehörigen Wert ausgeben lassen können. Falls der key nicht im Dictionary ist, soll \"Kenne ich nicht\" ausgegeben werden.\n",
    "Also ein Beispiel:<br>\n",
    "m=Memories() #Instanzerzeugung<br>\n",
    "m.add(Name=\"Petra\",Geschenk=\"Handtasche\") #füllen des Dicts<br>\n",
    "print(m.remember(\"Geschenk\") => \"Handtasche\" #auslesen des Dicts\n",
    "\n",
    "\n",
    "### Übung 2\n",
    "\n",
    "Schreiben Sie eine Klasse mit dem Namen Zug. Die Züge sollen als Eigenschaft haben:<br>\n",
    "Geschwindigkeit vmax in km/h<br> Standort x auf einem Gleis als km Angabe<br>\n",
    "Es soll die Methode \"treffen\" geben, die Zug1 und Zug2 in gleicher Richtung losfahren lässt. Es soll zurückgegeben werden, nach <b>welcher Zeit</b> (Stunden und Minuten z.B. 1:30 für eine Stunde und 30 Minuten, wird nicht grösser als 24 Stunden) und <b>wo</b> die Züge sich treffen (km mit 3 Nachkommastellen). Falls das nicht möglich ist, soll \"geht nicht\" zurückgegeben werden. <br>\n",
    "Die Bewegungsgleichung soll sein : $$pos1=x1+vmax1*Zeit$$ <br> $$pos2=x2+vmax2*Zeit$$ <br> und dann gleichgesetzt für die Zeit des Zusammentreffens:<br><br> $$(x1-x2)/(v2-v1)=Zeit\\ des\\ Treffens$$<br>Ort des Zusammentreffens:<br>$$x1*v1*Zeit\\ des\\ Treffens$$<br>\n",
    "Ausgabe also etwa so:<br><br> Zeit: 0:15 Ort: 30.000 km\n",
    "\n",
    "### Übung 3\n",
    "\n",
    "Erweitern Sie die Klasse um eine Methode count, die die Anzahl von Zügen ausgibt, die im Moment Instanzen der Zugklasse darstellen. (Auch an die Möglichkeit denken, mit \"del\" Instanzen zu löschen.)\n",
    "\n",
    "### Übung 4\n",
    "\n",
    "Erweitern Sie die Klasse so, dass alle Züge einen Namen erhalten und alle Zuginstanzen in Paaren losgeschickt werden und dann eine Nachricht ausgegeben wird wie:\n",
    "Alpenexpress und Ostseeschleicher: Zeit: 0:15 Ort: 30.000 km<br>\n",
    "Ostseeschleicher und Donauexpress: geht nicht\n",
    "...\n",
    "\n",
    "### Übung 5\n",
    "\n",
    "Erzeugen Sie eine Smoothie Klasse. Sie enthält ein Dictionary von Inhaltsstoffen mit ihren Preisen, die Sie mit pickle als \"inhaltsstoffe.pickle\" laden können. \n",
    "Daraus werden Smoothies mit einem bestimmten Namen produziert. Die Inhaltsstoffe eines Smoothie werden als Liste eingegeben. Es gibt eine Methode get_kosten, die die Summe der Kosten der Inhaltsstoffe ausgibt. Ausserdem eine Methode  get_preis, die den Gesamtpreis des Smoothie ausgibt, der mit 150% Aufschlag kalkuliert ist. Dann gibt es noch die Methode get_name, die eine Beschreibung der Inhaltstoffe und des Namens in schöner Form ausgibt. Alle Preise sind auf 2 Nachkommastellen gerundet und werden auch so ausgegeben.\n",
    "\n",
    "### Übung 6\n",
    "\n",
    "Helfen Sie einem Professor an der Uni Multiple Choice Examen der Studenten auszuwerten. Machen Sie 2 Klassen. Einmal die Klasse Examen. Diese enthält die möglichen Examen in dieser Form:\n",
    "<br>paper1 = Examen(\"Mathe\", [\"1A\", \"2C\", \"3D\", \"4A\", \"5A\"], \"60%\")<br>\n",
    "Das wären das Fach, die richtigen Antworten auf die Fragen und der Prozentsatz, den der Student richtig haben muss, um zu bestehen. Es gibt bisher 3 Examen, die Sie als paper1,paper2 und paper3 abspeichern sollen und aus der Datei \"papers.pickle\" laden sollen.<br>\n",
    "Die zweite Klasse ist die Klasse Student, hier werden die vom Studenten abgelegten Examen gespeichert in ein Dictionary : keys sind die Namen der Fächer, Values ein String in der Form:<br>{'Maths': ' Bestanden!  ( 80.0%) '}, oder {'Chemistry': ' Durchgefallen!  ( 25.0%) '}.\n",
    "Also Fach, Ergebnis und der Prozentsatz der richtigen Antworten. Ausserdem gibt es zwei Methoden: mache_examen und übersicht_examen. <br>\n",
    "mache_examen erhält als Parameter das Paper und die Antworten des Studenten. Es werden dann die Antworten mit den richtigen Antworten für das Paper verglichen und der Prozentsatz der richtigen Antworten bestimmt und mit dem Prozentsatz zum Bestehen verglichen. Das Ergebnis wird in das Dictionary der Studentenklasse abgelegt s.o.<br>\n",
    "übersicht_examen printed die vom Studenten abgeleisteten Examen mit ihren Ergebnissen:<br>\n",
    "z.B. {'Chemistry': ' Durchgefallen !  ( 25.0%) ','Maths': ' Bestanden !  ( 80.0%) '}<br>\n",
    "Falls der Student noch kein Examen abgelegt hat (oder es zumindest versucht hat:)) soll ausgegeben werden: \"Noch kein Examen\"<br>\n",
    "Hier eine Beispielsession:<br>\n",
    "student1=Student()<br>\n",
    "student2=Student()<br>\n",
    "paper1 = Examen(\"Maths\", [\"1A\", \"2C\", \"3D\", \"4A\", \"5A\"], \"60%\")<br>\n",
    "paper2 = Examen(\"Chemistry\", [\"1C\", \"2C\", \"3D\", \"4A\"], \"75%\")<br>\n",
    "paper3 = Examen(\"Computing\", [\"1D\", \"2C\", \"3C\", \"4B\", \"5D\", \"6C\", \"7A\"], \"75%\")<br><br>\n",
    "student1.mache_examen(paper1, [\"1A\", \"2D\", \"3D\", \"4A\", \"5A\"])<br>\n",
    "student1.übersicht_examen() ➞ {\"Maths\" : \"Passed! (80%)\"}<br>\n",
    "\n",
    "student2.mache_examen(paper2, [\"1C\", \"2D\", \"3A\", \"4C\"])<br>\n",
    "student2.mache_examen(paper3, [\"1A\", \"2C\", \"3A\", \"4C\", \"5D\", \"6C\", \"7B\"])<br>\n",
    "student2.übersicht_examen() ➞  {\"Chemistry\" : \"Failed! (25%)\", \"Computing\" : \"Failed! (43%)\"}  \n",
    "Bitte Ergebnisse auf eine Kommastelle begrenzen."
   ]
  },
  {
   "cell_type": "code",
   "execution_count": null,
   "metadata": {},
   "outputs": [],
   "source": []
  }
 ],
 "metadata": {
  "kernelspec": {
   "display_name": "Python 3",
   "language": "python",
   "name": "python3"
  },
  "language_info": {
   "codemirror_mode": {
    "name": "ipython",
    "version": 3
   },
   "file_extension": ".py",
   "mimetype": "text/x-python",
   "name": "python",
   "nbconvert_exporter": "python",
   "pygments_lexer": "ipython3",
   "version": "3.8.5"
  }
 },
 "nbformat": 4,
 "nbformat_minor": 4
}
