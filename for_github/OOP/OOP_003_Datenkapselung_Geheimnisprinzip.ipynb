{
 "cells": [
  {
   "cell_type": "markdown",
   "metadata": {},
   "source": [
    "# Datenkapselung , Geheimnisprinzip <br>\n",
    "<img width=500 src=\"Images/secret.gif\" />"
   ]
  },
  {
   "cell_type": "markdown",
   "metadata": {},
   "source": [
    "In der OOP ist es üblich, nicht alle Attribute von Objekten frei zugänglich zu machen, indem man sei einfach lesen geschweige denn überschreiben kann. Die Änderung von Attributen soll vielmehr einer Zugriffskontrolle unterliegen, man denke z.B. an Admin-Rechte oder eine Paßwortüberprüfung. Es wird auch häufig eine Eingabe vor dem Überschreiben von Attributen geprüft auf Plausibilität oder den richtigen Typ oder Wertebereich. Alles dies spricht gegen das einfache ```Instanz.attribut=neuer_Wert``` Schema. Der Zugriff auf die Attribute erfolgt stattdessen über spezielle Methoden, die als \"Getter\" oder \"Setter\" bezeichnet werden, und das Attribut zurückgeben oder neu setzen. In diesen Methoden können dann unsere oben angeführte Überprüfungen vorgenommen werden. Das Prinzip, daß man nicht direkt auf die Attribute zugreifen kann, wird als ```Datenkapselung (Encapsulation)``` oder ```Geheimnisprinzip(Information hiding)``` bezeichnet."
   ]
  },
  {
   "cell_type": "markdown",
   "metadata": {},
   "source": [
    "Implemetierungsdetails werden so zum Schutz der Klasse einerseits versteckt, andererseits benötigt der User sie auch nicht, wenn er die Klasse benutzen will. Der Zugriff erfolgt nur über definierte Schnittstellen. Wie sieht es damit in unserer Klasse Dog aus?"
   ]
  },
  {
   "cell_type": "code",
   "execution_count": null,
   "metadata": {},
   "outputs": [],
   "source": [
    "class Dog:\n",
    "    def __init__(self,size,weight=30):\n",
    "        self.grösse=size\n",
    "        self.gewicht=weight\n",
    "        self.gefüttert=False\n",
    "        \n",
    "    def bellen(self):\n",
    "        print(\"wuff\")\n",
    "        if self.gefüttert==True:\n",
    "            print(\"Vielen Dank\")\n",
    "        return self.gefüttert\n",
    "        \n",
    "Wuffi=Dog(90,35)\n",
    "print(Wuffi.grösse,Wuffi.gewicht,Wuffi.gefüttert)  \n",
    "Wuffi.gewicht=100\n",
    "Wuffi.__dict__"
   ]
  },
  {
   "cell_type": "markdown",
   "metadata": {},
   "source": [
    "Wir können völlig frei auf unsere Attribute zugreifen und sie auch überschreiben. Das ist nicht im Sinne der OOP. Fangen wir zunächst damit an, daß wir Zugriffsmethoden verwenden."
   ]
  },
  {
   "cell_type": "code",
   "execution_count": null,
   "metadata": {},
   "outputs": [],
   "source": [
    "class Dog:\n",
    "    def __init__(self,size,weight=30):\n",
    "        self.grösse=size\n",
    "        self.gewicht=weight\n",
    "        self.gefüttert=False\n",
    "        \n",
    "    def bellen(self):\n",
    "        print(\"wuff\")\n",
    "        if self.gefüttert==True:\n",
    "            print(\"Vielen Dank\")\n",
    "        return self.gefüttert\n",
    "    \n",
    "######### 3 mal Getter \n",
    "\n",
    "    def gib_gewicht(self):\n",
    "        return self.gewicht\n",
    "    \n",
    "    def gib_grösse(self):\n",
    "        return self.grösse\n",
    "    \n",
    "    def gib_gefüttert(self):\n",
    "        return self.gefüttert\n",
    "    \n",
    "######### 3 mal Setter \n",
    "\n",
    "    def setze_gewicht(self,neu):\n",
    "        self.gewicht=neu\n",
    "        \n",
    "    def setze_grösse(self,neu):\n",
    "        self.grösse=neu\n",
    "        \n",
    "    def setze_gefüttert(self,neu):\n",
    "        self.gefüttert=neu\n",
    "        if neu==True:\n",
    "            print(\"Danke\")\n",
    "        \n",
    "Wuffi=Dog(90,35)\n",
    "Wau=Dog(40)\n",
    "\n",
    "for hund in [Wuffi,Wau]:\n",
    "    print(f\"Mein Gewicht ist: {hund.gib_gewicht()}, meine Grösse ist: {hund.gib_grösse()}, \\\n",
    "ich wurde {'' if  hund.gib_gefüttert() else 'nicht'} gefüttert\") #ternäres if\n",
    "\n",
    "Wuffi.setze_gefüttert(True)\n",
    "hund=Wuffi\n",
    "print(f\"Mein Gewicht ist: {hund.gib_gewicht()}, meine Grösse ist: {hund.gib_grösse()}, \\\n",
    "ich wurde {'' if  hund.gib_gefüttert() else 'nicht'} gefüttert\")\n",
    "\n",
    "Wuffi.gewicht=300\n",
    "Wuffi.gewicht"
   ]
  },
  {
   "cell_type": "markdown",
   "metadata": {},
   "source": [
    "Hier haben wir Zugriffsmethoden verwendet. <b>Aber weiterhin ist die direkte Überschreibung unserer Attribute möglich.</b> Das wollen wir nun schrittweise ändern.\n",
    "<br> Python erlaubt es uns, durch eine entsprechend Syntax Attribute in drei verschiedene Stufen des Schutzes einzuordnen.\n",
    "<br> Wir haben Attribute die <br><br><b>\n",
    "    öffentlich (public) sind<br><b> <br>\n",
    "    <img width=200 src=\"Images/Free.png\"/>\n",
    "    geschützt (protected) sind <br>\n",
    "    <img width=200 src=\"Images/HandleWithCare.png\"/>\n",
    "    privat (private) sind <br>\n",
    "    <img width=200 src=\"Images/Stop.png\" />"
   ]
  },
  {
   "cell_type": "markdown",
   "metadata": {},
   "source": [
    "Was genau bedeuten diese Kategorien und wie erkennt Python, in welche Kategorie ein Attribut gehört?\n",
    "Zur letzteren Frage gibt es eine einfache Syntax. <br>\n",
    "<b> Attribute mit Bezeichner ohne führenden Unterstrich, wie wir sie bisher verwendet haben, sind public. (```gewicht,grösse...```)<br>\n",
    "    Attribute mit einem führenden Unterstrich sind protected.(```_meinAttribut,_PSzahl...```)<br>\n",
    "    Attribute mit zwei führenden Unterstrichen sind private. (```__Kontostand,__Zugangscode...```)"
   ]
  },
  {
   "cell_type": "markdown",
   "metadata": {},
   "source": [
    "Aber was beinhaltet die Definition?<br>\n",
    "<b>Öffentliche Attribute sind jederzeit (auch ohne Zugriffsmethoden) zu lesen und auch zu überschreiben.</b><br>\n",
    "<b>Für geschützte Attribute gilt dasselbe</b>. Der Unterstrich weist lediglich als Warnzeichen den Programmierer darauf hin, daß der Klassendesigner sie nicht geändert haben will ohne besondere Vorsicht (z.B. Rücksprache mit ihm). Es ist also eine reine Konvention.<br>\n",
    "<b>Private Attribute sind von außerhalb der Klasse weder lesbar noch überschreibbar. Ein Zugriff geht nur über Zugriffsmethoden.<br><br> Schreiben wir unsere Klasse nun so um, daß sie nur private Attribute enthält.</b> <br>\n",
    "Die Attribute beider Hunde können wir in der for -Schleife darstellen lassen über unsere Zugriffsmethoden. (Wir verwenden für \"gib_gefüttert()\" ein ternäres if). Dann setzen wir für die Instanz \"Wuffi\" ```__gefüttert``` über die Zugriffsmethode auf True und bekommen mit \"Danke\" die Bestätigung. Wir sehen in der nächsten Zeile, daß die Fütterung funktioniert hat. Versuchen wir ```__gefüttert``` direkt zu überschreiben, wir dies nicht ausgeführt (aber auch keine Fehlermeldung, sonst könnte man anhand der Fehlermeldung eventuell erschließen, daß es ```__gefüttert``` in der Klasse gibt, was nicht erwünscht ist). Natürlich können wir dynamisch ein Attribut \"gewicht\" erzeugen und einen Wert zuordnen. Das hat aber nichts mit ```__gewicht``` zu tun!!! Versuchen wir, auf ```__gewicht``` direkt zuzugreifen, gibt es untenstehende interessante Fehlermeldung. Interessant ist die Fehlermeldung. Ein Dog-Objekt hat ja sehr wohl ein Attribut ```__gewicht```. Die Fehlermeldung versteckt dies aber, damit man nicht durch Ausprobieren auf geschützte Attributbezeichner kommen kann. Außerdem ist ein Überschreiben unserer geschützten Attribute ohne Zugriffsmethde nicht möglich, wir bekommen aber beim Versuch keine Fehlermeldung, s.o.!<br>\n",
    "    "
   ]
  },
  {
   "cell_type": "code",
   "execution_count": null,
   "metadata": {},
   "outputs": [],
   "source": [
    "class Dog:\n",
    "    def __init__(self,size,weight=30):\n",
    "        self.__grösse=size     #privat\n",
    "        self.__gewicht=weight  #privat\n",
    "        self.__gefüttert=False #privat\n",
    "        \n",
    "    def bellen(self):\n",
    "        print(\"wuff\")\n",
    "        if self.__gefüttert==True:\n",
    "            print(\"Vielen Dank\")\n",
    "        return self.__gefüttert\n",
    "    \n",
    "######### 3 mal Getter \n",
    "\n",
    "    def gib_gewicht(self):\n",
    "        return self.__gewicht\n",
    "    \n",
    "    def gib_grösse(self):\n",
    "        return self.__grösse\n",
    "    \n",
    "    def gib_gefüttert(self):\n",
    "        return self.__gefüttert\n",
    "    \n",
    "######### 3 mal Setter \n",
    "\n",
    "    def setze_gewicht(self,neu):\n",
    "        self.__gewicht=neu\n",
    "        \n",
    "    def setze_grösse(self,neu):\n",
    "        self.__grösse=neu\n",
    "        \n",
    "    def setze_gefüttert(self,neu):\n",
    "        self.__gefüttert=neu\n",
    "        if neu==True:\n",
    "            print(\"Danke\")\n",
    "        \n",
    "Wuffi=Dog(90,35)\n",
    "Wau=Dog(40)\n",
    "\n",
    "for hund in [Wuffi,Wau]:\n",
    "    print(f\"Mein Gewicht ist: {hund.gib_gewicht()}, meine Grösse ist: {hund.gib_grösse()}, \\\n",
    "    ich wurde {'' if  hund.gib_gefüttert() else 'nicht'} gefüttert\") #ternäres if\n",
    "\n",
    "Wuffi.setze_gefüttert(True)\n",
    "\n",
    "print(f\"Mein Gewicht ist: {Wuffi.gib_gewicht()}, meine Grösse ist: {Wuffi.gib_grösse()}, \\\n",
    "    ich wurde {'' if  Wuffi.gib_gefüttert() else 'nicht'} gefüttert\")\n",
    "\n",
    "Wuffi.__gefüttert=False ############produziert keinen Fehler, wird aber nicht ausgeführt!!! s. nächste Anweisung, \n",
    "                        #gefüttert weiter True!!\n",
    "\n",
    "print(f\"Mein Gewicht ist: {Wuffi.gib_gewicht()}, meine Grösse ist: {Wuffi.gib_grösse()}, \\\n",
    "    ich wurde {'' if  Wuffi.gib_gefüttert() else 'nicht'} gefüttert\")\n",
    "\n",
    "Wuffi.gewicht=300\n",
    "print(Wuffi.gewicht)\n",
    "#Wuffi.__gewicht ############produziert Fehler!!! AttributeError: 'Dog' object has no attribute '__gewicht'"
   ]
  },
  {
   "cell_type": "markdown",
   "metadata": {},
   "source": [
    "Es ist uns also weiterhin möglich, selbst Attribute zu erstellen (\"gewicht\" s. Zeile 55). Wie man dies verhindert, dazu später mehr. Aber an die in der Klasse geschützten Attribute wie ```__gewicht``` kommen wir nur noch über unsere Zugriffsmethoden heran. \n",
    "\n",
    "Ein Problem haben wir aber noch. Die Zugriffsmethoden können ganz normal aufgerufen werden."
   ]
  },
  {
   "cell_type": "code",
   "execution_count": null,
   "metadata": {},
   "outputs": [],
   "source": [
    "Wuffi.setze_gewicht(45)\n",
    "Wuffi.gib_gewicht()"
   ]
  },
  {
   "cell_type": "markdown",
   "metadata": {},
   "source": [
    "Hier wird das geschützte Attribut ausgegeben. Wie können wir diesen Zugriff verhindern? <br>Auch für Methoden gilt die oben genannte Syntax, wir können sie ebenfalls schützen. Wir machen zunächst unsere Setter private.<br>\n",
    "\n",
    "Unsere geschützten Attribute werden nun in der ```__init__()``` Methode an die geschützten setze - Methoden weitergegeben. Wir können die Attribute über die gib_Methoden auslesen, aber nicht überschreiben. (s.unten) Wie wir dies über ein anderes Verfahren machen können, und trotzdem den Zugriff schützen, zeigen wir im Kapitel \"Properties\"."
   ]
  },
  {
   "cell_type": "code",
   "execution_count": null,
   "metadata": {},
   "outputs": [],
   "source": [
    "class Dog:\n",
    "    def __init__(self,size,weight=30):\n",
    "        self.__setze_gewicht(weight)\n",
    "        self.__setze_grösse(size)\n",
    "        self.__setze_gefüttert(False)\n",
    "        \n",
    "    def bellen(self):\n",
    "        print(\"wuff\")\n",
    "        if self.__gefüttert==True:\n",
    "            print(\"Vielen Dank\")\n",
    "        return self.__gefüttert\n",
    "    \n",
    "#########3 mal Getter \n",
    "\n",
    "    def gib_gewicht(self):\n",
    "        return self.__gewicht\n",
    "    \n",
    "    def gib_grösse(self):\n",
    "        return self.__grösse\n",
    "    \n",
    "    def gib_gefüttert(self):\n",
    "        return self.__gefüttert\n",
    "    \n",
    "#########3 mal Setter \n",
    "\n",
    "    def __setze_gewicht(self,neu):\n",
    "        self.__gewicht=neu\n",
    "        \n",
    "    def __setze_grösse(self,neu):\n",
    "        self.__grösse=neu\n",
    "        \n",
    "    def __setze_gefüttert(self,neu):\n",
    "        self.__gefüttert=neu\n",
    "        if neu==True:\n",
    "            print(\"Danke\")\n",
    "        \n",
    "Wuffi=Dog(90,35)\n",
    "Wau=Dog(40,10)\n",
    "\n",
    "for hund in [Wuffi,Wau]:\n",
    "    print(f\"Mein Gewicht ist: {hund.gib_gewicht()}, meine Grösse ist: {hund.gib_grösse()}, \\\n",
    "    ich wurde {'' if  hund.gib_gefüttert() else 'nicht'} gefüttert\") #ternäres if\n",
    "    \n",
    "########weder das eine noch das andere geht!!\n",
    "#Wuffi.setze_gewicht(56) #Fehler: AttributeError: 'Dog' object has no attribute 'setze_gewicht'\n",
    "#Wuffi.__setze_gewicht(56) #Fehler: AttributeError: 'Dog' object has no attribute '__setze_gewicht'\n"
   ]
  },
  {
   "cell_type": "markdown",
   "metadata": {},
   "source": [
    " Was wir aber jetzt schon machen können, ist eine Überprüfung der Eingabewerte in der ```__setze_werte```- Methode, bevor wir die Attribute wirklich mit ihren Werten versehen."
   ]
  },
  {
   "cell_type": "code",
   "execution_count": null,
   "metadata": {},
   "outputs": [],
   "source": [
    "class Dog:\n",
    "    def __init__(self,size,weight=30):\n",
    "        self.__setze_werte(size,weight)\n",
    "        \n",
    "        \n",
    "    def bellen(self):\n",
    "        print(\"wuff\")\n",
    "        if self.__gefüttert==True:\n",
    "            print(\"Vielen Dank\")\n",
    "        return self.__gefüttert\n",
    "    \n",
    "#########3 mal Getter \n",
    "\n",
    "    def gib_gewicht(self):\n",
    "        return self.__gewicht\n",
    "    \n",
    "    def gib_grösse(self):\n",
    "        return self.__grösse\n",
    "    \n",
    "    def gib_gefüttert(self):\n",
    "        return self.__gefüttert\n",
    "    \n",
    "######### Setter \n",
    "\n",
    "    def __setze_werte(self,size,weight):\n",
    "        \n",
    "        passw=input(\"Password:\")\n",
    "        if passw!=\"Admin\":\n",
    "            print(\"Falsches Password, keine Attribute angelegt.\")\n",
    "            return\n",
    "        elif size>120:\n",
    "            print(f\"Falsche Grösse,{size}, keine Attribute angelegt.\")\n",
    "            return\n",
    "        elif weight>120:\n",
    "            print(f\"Falsches Gewicht,{weight}, keine Attribute angelegt.\")\n",
    "            return\n",
    "        else:\n",
    "            self.__gewicht=weight\n",
    "            self.__grösse=size\n",
    "            self.__gefüttert=False\n",
    " \n",
    "        \n",
    "    def füttern(self):\n",
    "        self.__gefüttert=True        \n",
    "        print(\"Danke\")\n",
    "        \n",
    "        \n",
    "Wuffi=Dog(90,135) \n",
    "Wuffi=Dog(90,90)\n",
    "print(f\"Vor dem Füttern: {Wuffi.__dict__}\")\n",
    "\n",
    "Wuffi.füttern()\n",
    "\n",
    "\n",
    "print(f\"Mein Gewicht ist: {Wuffi.gib_gewicht()}, meine Grösse ist: {Wuffi.gib_grösse()}, \\\n",
    "    ich wurde {'' if  Wuffi.gib_gefüttert() else 'nicht'} gefüttert\") #ternäres if\n",
    "    \n"
   ]
  },
  {
   "cell_type": "markdown",
   "metadata": {},
   "source": [
    "##### Wir werden im nächsten Kapitel den pythonischen Weg zeigen, wie man seine Klassen schützt."
   ]
  },
  {
   "cell_type": "markdown",
   "metadata": {},
   "source": [
    "## Nun einige Übungen. Machen sie alle Attribute öffentlich.<br>\n",
    "<img  src=\"Images/drunk.jfif\" width=\"200\">\n",
    "\n",
    "### Übung 1\n",
    "\n",
    "Schreiben Sie eine Klasse \"Betrunken\", die einen \"Randomwalk\" abbildet. Die Betrunkenen haben einen Standort mit x und y Koordinate (initial 0,0). Sie können sich schrittweise bewegen, zufällig um 1, -1 oder 0 in einem Schritt in jeweils beiden Koordinaten. Stellen Sie fest, wie weit der Betrunkene sich von seinem Ausgangspunt 0,0 entfernt nach 10, 20, 50 Schritten. Bauen Sie die Klasse mit öffentlichen Attributen.<br>\n",
    "<img class=\"imgright\" src=\"Images/randomwalk.png\"  width=\"600\">\n",
    "\n",
    "### Übung 2\n",
    "\n",
    "Schreiben Sie die Klasse um, sodass die Betrunkenen nicht bei 0,0 anfangen sondern an beliebiger Stelle.\n",
    "\n",
    "\n",
    "\n",
    "### Übung 3\n",
    "\n",
    "Laden Sie einen Zugfahrplan herunter (\"Fahrplan.pickle\") für Züge aus der Klasse Train. Jede Instanz der Klasse hat eine Liste der Ziele, zu denen der Zug fährt, und eine voraussichtliche Ankunftszeit im \"00:00\" Format. Also z.B.:<br>\n",
    "Fahrplan = [(['Townsville', 'Suburbia', 'Urbantska'], '13:04'),\n",
    "(['Farmsdale', 'Suburbia', 'Lakeside Valley'], '13:20'),\n",
    "(['Suburbia', 'Townsville', 'Lakeside Valley'], '13:22')]<br>Schreiben Sie eine Methode manage_delays, die einen Ort angegeben bekommt, am dem eine Störung vorliegt und eine Zeit in Minuten, um die sich der Zug verspätet. Geben Sie für einen Zug an, wann die voraussichtliche Ankunftszeit ist. (Nur die Züge verspäten sich, die auch den Ort der Störung in ihrer Zielliste haben, Verspätungen, die über Mitternacht hinausgehen  gibt es nicht, Tage müssen also nicht berücksichtigt werden).\n",
    "<img class=\"imgright\" src=\"Images/car.jpg\"  width=\"400\">"
   ]
  },
  {
   "cell_type": "code",
   "execution_count": null,
   "metadata": {},
   "outputs": [],
   "source": []
  }
 ],
 "metadata": {
  "kernelspec": {
   "display_name": "Python 3",
   "language": "python",
   "name": "python3"
  },
  "language_info": {
   "codemirror_mode": {
    "name": "ipython",
    "version": 3
   },
   "file_extension": ".py",
   "mimetype": "text/x-python",
   "name": "python",
   "nbconvert_exporter": "python",
   "pygments_lexer": "ipython3",
   "version": "3.8.5"
  }
 },
 "nbformat": 4,
 "nbformat_minor": 4
}
