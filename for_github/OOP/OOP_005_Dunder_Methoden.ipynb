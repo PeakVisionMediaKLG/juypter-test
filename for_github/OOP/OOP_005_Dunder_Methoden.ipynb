{
 "cells": [
  {
   "cell_type": "markdown",
   "metadata": {},
   "source": [
    "# Magische Methoden (Dunder-Methoden)\n",
    "<img width=500 src=\"Images/magic.gif\"/> <br><br>"
   ]
  },
  {
   "cell_type": "markdown",
   "metadata": {},
   "source": [
    "Wie bereits besprochen, bietet Python eine Fülle von sogeannten \"Magischen Methoden\" oder \"Dunder-Methoden\" an. Diese sind zu erkennen an ihrer etwas umständlichen Benennung mit einem führenden doppelten Unterstrich und einem doppelten Unterstrich am Ende des Namens (daher Dunder für <b>D</b>ouble <b>Under</b>stroke). Wir kennen z.B. schon ```__init__()``` und ```__del__()```. Was ist darn das magische. Diese Funktionen sind in Python integriert und führen meist komplexere Aufgaben hinter den Kulissen aus. So wissen wir ja, daß ```__init__``` z.B. automatisch nach ```__new``` beim Erzeugen einer Instanz als Erstes aufgerufen wird. Diese Funktionalität ist für solche Methoden ein Beispiel, warum sie \"magisch\" genannt werden, denn das genannte Verhalten ist ja eingebaut und muß nicht selber programmiert werden.  "
   ]
  },
  {
   "cell_type": "markdown",
   "metadata": {},
   "source": [
    "Was gibt es alles und was sind die hauptsächlichen Anwendungsgebiete? Neben Methoden, die sich mit grundsätzlichen Aktionen in der OOP wie Instanzenerzeugung, Instanzenlöschung, Objektinitiierung... beschäftigen, werden sie vor allem zur Operatorenüberladung für Klasseninstanzen benötigt. Zunächst ein simples Beispiel für Pythons Operatorenüberladung, mit der wir sicher schon alle gearbeitet haben. Alles unten gezeigte und noch viel mehr macht der \"+\" Operator, der in Python multipel überladen ist."
   ]
  },
  {
   "cell_type": "code",
   "execution_count": 35,
   "metadata": {},
   "outputs": [
    {
     "name": "stdout",
     "output_type": "stream",
     "text": [
      "4\n",
      "(15-3j)\n",
      "Hello World\n",
      "[1, 2, 3, 4]\n"
     ]
    }
   ],
   "source": [
    "# + \n",
    "a = 1 + 3 # hier Addition zweier Integer\n",
    "print(a)\n",
    "b = (7 -3j) + 8 #  Addition komplexe Zahl mit Integer\n",
    "print(b)\n",
    "c = \"Hello \" + \"World\" # Konkatenation von Strings\n",
    "print(c)\n",
    "d = [1,2,3] + [4] # Extension von Listen\n",
    "print(d)"
   ]
  },
  {
   "cell_type": "markdown",
   "metadata": {},
   "source": [
    "Auch für unsere Klassen könnten wir gut eine solche Überladung von Operatoren wie bei \"+\" brauchen. Dazu ein Beispiel:"
   ]
  },
  {
   "cell_type": "code",
   "execution_count": 36,
   "metadata": {},
   "outputs": [
    {
     "name": "stdout",
     "output_type": "stream",
     "text": [
      "13\n"
     ]
    }
   ],
   "source": [
    "class Zahl:\n",
    "    def __init__(self,num):\n",
    "        self.zahl=num\n",
    "    \n",
    "    def __add__(self,other):\n",
    "        return self.zahl+other.zahl\n",
    "    \n",
    "a=Zahl(5)\n",
    "b=Zahl(8)\n",
    "print(a+b)"
   ]
  },
  {
   "cell_type": "markdown",
   "metadata": {},
   "source": [
    "Wir sehen hier, daß der Operator \"+\", den wir in der letzten Zeile verwendet haben, an die magische Methode ```__add__()``` gebunden ist. Wir können unserer Klasse so diese Funktionalität der Addition des Attributs zweier Instanzen hinzufügen. Ohne die magische Methode ginge das nicht."
   ]
  },
  {
   "cell_type": "code",
   "execution_count": 37,
   "metadata": {},
   "outputs": [],
   "source": [
    "class Zahl:\n",
    "    def __init__(self,num):\n",
    "        self.zahl=num\n",
    "    \n",
    "    \n",
    "    \n",
    "a=Zahl(5)\n",
    "b=Zahl(8)\n",
    "# print(a+b) #macht Fehler!"
   ]
  },
  {
   "cell_type": "markdown",
   "metadata": {},
   "source": [
    "Wir wollen jetzt kurz einen Überblick über die Dunder-Methoden geben, die für die Operatorüberladung in unseren Klassen zur Verfügung stehen."
   ]
  },
  {
   "cell_type": "markdown",
   "metadata": {},
   "source": [
    "## Magische Methoden<br>\n",
    "### Binäre Operatoren\n",
    "\n",
    "<table \n",
    "style=\" width: 80%; background-color: rgb(255, 200, 0);font-size: 16px;\"\n",
    "border=\"10\" cellpadding=\"0\" cellspacing=\"0\">\n",
    "<tbody>\n",
    "<tr>\n",
    "<th style=\"text-align: center;\">Operator</th>\n",
    "<th style=\"text-align: center;\">Methode</th>\n",
    "</tr>\n",
    "\n",
    "<tr>\n",
    "<td style=\"text-align: center;\">+</td>\n",
    "<td style=\"text-align: center;\"> __add__(self, other) </td>\n",
    "</tr>\n",
    "\n",
    "<tr>\n",
    "<td style=\"text-align: center;\">-</td>\n",
    "<td style=\"text-align: center;\"> __sub__(self, other)</td>\n",
    "</tr>\n",
    "\n",
    "<tr>\n",
    "<td style=\"text-align: center;\">*</td>\n",
    "<td style=\"text-align: center;\"> __mul__(self, other) </td>\n",
    "</tr>\n",
    "\n",
    "<tr>\n",
    "<td style=\"text-align: center;\">//</td>\n",
    "<td style=\"text-align: center;\"> __floordiv__(self, other)</td>\n",
    "</tr>\n",
    "\n",
    "<tr>\n",
    "<td style=\"text-align: center;\">/</td>\n",
    "<td style=\"text-align: center;\"> __truediv__(self, other)</td>\n",
    "</tr>\n",
    "\n",
    "<tr>\n",
    "<td style=\"text-align: center;\">%</td>\n",
    "<td style=\"text-align: center;\"> __mod__(self, other) </td>\n",
    "</tr>\n",
    "\n",
    "<tr>\n",
    "<td style=\"text-align: center;\">**</td>\n",
    "<td style=\"text-align: center;\"> __pow__(self, other[, modulo]) </td>\n",
    "</tr>\n",
    "\n",
    "<tr>\n",
    "<td style=\"text-align: center;\"><<</td>\n",
    "<td style=\"text-align: center;\"> __lshift__(self, other) </td>\n",
    "</tr>\n",
    "\n",
    "<tr>\n",
    "<td style=\"text-align: center;\">>></td>\n",
    "<td style=\"text-align: center;\"> __rshift__(self, other) </td>\n",
    "</tr>\n",
    "\n",
    "<tr>\n",
    "<td style=\"text-align: center;\">&</td>\n",
    "<td style=\"text-align: center;\"> __and__(self, other)</td>\n",
    "</tr>\n",
    "\n",
    "<tr>\n",
    "<td style=\"text-align: center;\">^</td>\n",
    "<td style=\"text-align: center;\"> __xor__(self, other) </td>\n",
    "</tr>\n",
    "\n",
    "<tr>\n",
    "<td style=\"text-align: center;\">|</td>\n",
    "<td style=\"text-align: center;\"> __or__(self, other) </td>\n",
    "</tr>\n",
    "</tbody>\n",
    "</table>\n",
    "\n",
    "\n",
    "\n",
    "### Erweiterte Zuweisungen\n",
    "\n",
    "<table style=\"text-align: left; width: 80%; background-color: rgb(255, 200, 0);font-size: 16px;\"\n",
    "border=\"0\" cellpadding=\"2\" cellspacing=\"2\">\n",
    "<tbody>\n",
    "\n",
    "<tr>\n",
    "<th style=\"text-align: center;\">Operator</th>\n",
    "<th style=\"text-align: center;\">Methode</th>\n",
    "</tr>\n",
    "\n",
    "<tr>\n",
    "<td style=\"text-align: center;\">+=</td>\n",
    "<td style=\"text-align: center;\"> __iadd__(self, other) </td>\n",
    "</tr>\n",
    "\n",
    "<tr>\n",
    "<td style=\"text-align: center;\">-=</td>\n",
    "<td style=\"text-align: center;\"> __isub__(self, other) </td>\n",
    "</tr>\n",
    "\n",
    "<tr>\n",
    "<td style=\"text-align: center;\">*=</td>\n",
    "<td style=\"text-align: center;\"> __imul__(self, other) </td>\n",
    "</tr>\n",
    "\n",
    "<tr>\n",
    "<td style=\"text-align: center;\">/= </td>\n",
    "<td style=\"text-align: center;\"> __idiv__(self, other) </td>\n",
    "</tr>\n",
    "\n",
    "<tr>\n",
    "<td style=\"text-align: center;\">//=</td>\n",
    "<td style=\"text-align: center;\"> __ifloordiv__(self, other) </td>\n",
    "</tr>\n",
    "\n",
    "<tr>\n",
    "<td style=\"text-align: center;\">%=</td>\n",
    "<td style=\"text-align: center;\"> __imod__(self, other) </td>\n",
    "</tr>\n",
    "\n",
    "<tr>\n",
    "<td style=\"text-align: center;\">**=</td>\n",
    "<td style=\"text-align: center;\"> __ipow__(self, other[, modulo]) </td>\n",
    "</tr>\n",
    "\n",
    "<tr>\n",
    "<td style=\"text-align: center;\"><<=</td>\n",
    "<td style=\"text-align: center;\"> __ilshift__(self, other) </td>\n",
    "</tr>\n",
    "\n",
    "<tr>\n",
    "<td style=\"text-align: center;\">>>= </td>\n",
    "<td style=\"text-align: center;\"> __irshift__(self, other) </td>\n",
    "</tr>\n",
    "\n",
    "<tr>\n",
    "<td style=\"text-align: center;\">&=</td>\n",
    "<td style=\"text-align: center;\"> __iand__(self, other) </td>\n",
    "</tr>\n",
    "\n",
    "<tr>\n",
    "<td style=\"text-align: center;\">^=</td>\n",
    "<td style=\"text-align: center;\"> __ixor__(self, other) </td>\n",
    "</tr>\n",
    "\n",
    "<tr>\n",
    "<td style=\"text-align: center;\">|=</td>\n",
    "<td style=\"text-align: center;\"> __ior__(self, other) </td>\n",
    "</tr>\n",
    "</tbody>\n",
    "</table>\n",
    "\n",
    "### Unäre Operatoren\n",
    "\n",
    "\n",
    "<table\n",
    "style=\"text-align: left; width: 80%; background-color: rgb(255, 200, 0);font-size: 16px;\"\n",
    "border=\"0\" cellpadding=\"2\" cellspacing=\"2\">\n",
    "<tbody>\n",
    "\n",
    "<tr>\n",
    "<th style=\"text-align: center;\">Operator</th>\n",
    "<th style=\"text-align: center;\">Methode</th>\n",
    "</tr>\n",
    "\n",
    "<tr>\n",
    "<td style=\"text-align: center;\">- </td>\n",
    "<td style=\"text-align: center;\"> __neg__(self) </td>\n",
    "</tr>\n",
    "\n",
    "<tr>\n",
    "<td style=\"text-align: center;\">+</td>\n",
    "<td style=\"text-align: center;\"> __pos__(self) </td>\n",
    "</tr>\n",
    "\n",
    "<tr>\n",
    "<td style=\"text-align: center;\">abs()   </td>\n",
    "<td style=\"text-align: center;\"> __abs__(self) </td>\n",
    "</tr>\n",
    "\n",
    "<tr>\n",
    "<td style=\"text-align: center;\">~</td>\n",
    "<td style=\"text-align: center;\"> __invert__(self) </td>\n",
    "</tr>\n",
    "\n",
    "<tr>\n",
    "<td style=\"text-align: center;\">complex()       </td>\n",
    "<td style=\"text-align: center;\"> __complex__(self) </td>\n",
    "</tr>\n",
    "\n",
    "<tr>\n",
    "<td style=\"text-align: center;\">int()           </td>\n",
    "<td style=\"text-align: center;\"> __int__(self) </td>\n",
    "</tr>\n",
    "\n",
    "<tr>\n",
    "<td style=\"text-align: center;\">long()          </td>\n",
    "<td style=\"text-align: center;\"> __long__(self) </td>\n",
    "</tr>\n",
    "\n",
    "<tr>\n",
    "<td style=\"text-align: center;\">float()         </td>\n",
    "<td style=\"text-align: center;\"> __float__(self) </td>\n",
    "</tr>\n",
    "\n",
    "<tr>\n",
    "<td style=\"text-align: center;\">oct()           </td>\n",
    "<td style=\"text-align: center;\"> __oct__(self) </td>\n",
    "</tr>\n",
    "\n",
    "<tr>\n",
    "<td style=\"text-align: center;\">hex()           </td>\n",
    "<td style=\"text-align: center;\"> __hex__(self </td>\n",
    "</tr>\n",
    "\n",
    "</tbody>\n",
    "</table>\n",
    "\n",
    "###  Vergleichsoperatoren\n",
    "\n",
    "\n",
    "<table\n",
    "style=\"text-align: left; width: 80%; background-color: rgb(255, 200, 0);font-size: 16px;\"\n",
    "border=\"0\" cellpadding=\"2\" cellspacing=\"2\">\n",
    "<tbody>\n",
    "\n",
    "<tr>\n",
    "<th style=\"text-align: center;\">Operator</th>\n",
    "<th style=\"text-align: center;\">Methode</th>\n",
    "</tr>\n",
    "\n",
    "<tr>\n",
    "<td style=\"text-align: center;\"><        </td>\n",
    "<td style=\"text-align: center;\"> __lt__(self, other) </td>\n",
    "</tr>\n",
    "\n",
    "<tr>\n",
    "<td style=\"text-align: center;\"><=       </td>\n",
    "<td style=\"text-align: center;\"> __le__(self, other) </td>\n",
    "</tr>\n",
    "\n",
    "<tr>\n",
    "<td style=\"text-align: center;\">==       </td>\n",
    "<td style=\"text-align: center;\"> __eq__(self, other) </td>\n",
    "</tr>\n",
    "\n",
    "<tr>\n",
    "<td style=\"text-align: center;\">!=       </td>\n",
    "<td style=\"text-align: center;\"> __ne__(self, other) </td>\n",
    "</tr>\n",
    "\n",
    "<tr>\n",
    "<td style=\"text-align: center;\">>=       </td>\n",
    "<td style=\"text-align: center;\"> __ge__(self, other) </td>\n",
    "</tr>\n",
    "\n",
    "<tr>\n",
    "<td style=\"text-align: center;\">>        </th>\n",
    "<td style=\"text-align: center;\"> __gt__(self, other) </td>\n",
    "</tr>\n",
    "\n",
    "<tr>\n",
    "\n",
    "</tbody>\n",
    "</table>"
   ]
  },
  {
   "cell_type": "markdown",
   "metadata": {},
   "source": [
    "Wir sehen, daß es fast für alle Fälle solche Methoden gibt und wollen uns jetzt zunächst mit ```__str__()``` und ```__repr__()``` zum Steuern des Ausdrucks von Klassenelementen beschäftigen, bevor wir zu den obigen Methoden zum Operator-Überladen kommen, und danach gehen wir zu den verbleibenden wie ```__new__(),__call__(),__next__()``` und ```__iter__()```."
   ]
  },
  {
   "cell_type": "markdown",
   "metadata": {},
   "source": [
    "### ```__str__() , __repr__()```<br>\n",
    "<br>\n",
    "Wenn wir einen Ausdruck erzeugen möchten, haben wir dazu verschiedene Möglichkeiten. Nehmen wir an, wir wollen das Dict d ausdrucken."
   ]
  },
  {
   "cell_type": "code",
   "execution_count": 38,
   "metadata": {},
   "outputs": [
    {
     "name": "stdout",
     "output_type": "stream",
     "text": [
      "{'a': 1, 'b': 2}\n",
      "{'a': 1, 'b': 2}\n",
      "{'a': 1, 'b': 2}\n",
      "<class 'str'> <class 'str'>\n"
     ]
    },
    {
     "data": {
      "text/plain": [
       "{'a': 1, 'b': 2}"
      ]
     },
     "execution_count": 38,
     "metadata": {},
     "output_type": "execute_result"
    }
   ],
   "source": [
    "d={\"a\":1,\"b\":2}\n",
    "print(d)\n",
    "print(str(d))\n",
    "print(repr(d))\n",
    "print(type(str(d)),type(repr(d)))\n",
    "d"
   ]
  },
  {
   "cell_type": "markdown",
   "metadata": {},
   "source": [
    "Wir können mit print natürlich jedes Objekt ausgeben lassen, str() und repr() verwandeln das Objekt in einen String, außerdem ist natürlich der direkte Ausdruck am Ende der Zelle möglich. Was passiert, wenn wir eine Instanz einer selbstgeschriebenen Klasse ausdrucken wollen. Wie in der internen Klasse ```dict``` sucht dann Python nach einer ```__str__()``` oder ```__repr__``` Methode (die in der internen dict-Klasse natürlich existiert, wie wir sehen). Gibt es diese nicht in unserer eigenen Klasse passiert folgendes:"
   ]
  },
  {
   "cell_type": "code",
   "execution_count": 39,
   "metadata": {},
   "outputs": [
    {
     "name": "stdout",
     "output_type": "stream",
     "text": [
      "<__main__.Test object at 0x00000185C1FF14F0>\n",
      "<__main__.Test object at 0x00000185C1FF14F0>\n",
      "<__main__.Test object at 0x00000185C1FF14F0>\n"
     ]
    },
    {
     "data": {
      "text/plain": [
       "<__main__.Test at 0x185c1ff14f0>"
      ]
     },
     "execution_count": 39,
     "metadata": {},
     "output_type": "execute_result"
    }
   ],
   "source": [
    "class Test():\n",
    "    def __init__(self,attr1,attr2):\n",
    "        self.attr1=attr1\n",
    "        self.attr2=attr2\n",
    "a=Test(\"erstes\",2)\n",
    "print(a)\n",
    "print(str(a))\n",
    "print(repr(a))\n",
    "a"
   ]
  },
  {
   "cell_type": "markdown",
   "metadata": {},
   "source": [
    "Dies ist für den User nicht gerade toll. er wünscht sich eher etwas wie: attr1:\"erstes\", attr2:2. Wollen wir das ändern können wir mit einer ```__str__()``` oder ```__repr__()``` Methode für Abhilfe sorgen. Wir steuern jetzt zunächst mit der ```__str__()``` - Methode das verhalten für print() und str()."
   ]
  },
  {
   "cell_type": "code",
   "execution_count": 40,
   "metadata": {},
   "outputs": [
    {
     "name": "stdout",
     "output_type": "stream",
     "text": [
      "attr1:erstes, attr2:2\n",
      "attr1:erstes, attr2:2\n",
      "<__main__.Test object at 0x00000185C1FD9880>\n"
     ]
    },
    {
     "data": {
      "text/plain": [
       "<__main__.Test at 0x185c1fd9880>"
      ]
     },
     "execution_count": 40,
     "metadata": {},
     "output_type": "execute_result"
    }
   ],
   "source": [
    "class Test():\n",
    "    def __init__(self,attr1,attr2):\n",
    "        self.attr1=attr1\n",
    "        self.attr2=attr2\n",
    "        \n",
    "    def __str__(self):\n",
    "        return f\"attr1:{self.attr1}, attr2:{self.attr2}\"\n",
    "    \n",
    "    \n",
    "a=Test(\"erstes\",2)\n",
    "print(a)\n",
    "print(str(a))\n",
    "print(repr(a))\n",
    "a"
   ]
  },
  {
   "cell_type": "markdown",
   "metadata": {},
   "source": [
    "Für unsere ersten beiden Ausdruckmethoden geht das doch schon gut."
   ]
  },
  {
   "cell_type": "markdown",
   "metadata": {},
   "source": [
    "Ergänzen wir eine ```__repr__()``` -Methode erschlagen wir auch die anderen beiden Fälle. "
   ]
  },
  {
   "cell_type": "code",
   "execution_count": 41,
   "metadata": {},
   "outputs": [
    {
     "name": "stdout",
     "output_type": "stream",
     "text": [
      "attr1:erstes, attr2:2\n",
      "attr1:erstes, attr2:2\n",
      "attr1:erstes, attr2:2\n"
     ]
    },
    {
     "data": {
      "text/plain": [
       "attr1:erstes, attr2:2"
      ]
     },
     "execution_count": 41,
     "metadata": {},
     "output_type": "execute_result"
    }
   ],
   "source": [
    "class Test():\n",
    "    def __init__(self,attr1,attr2):\n",
    "        self.attr1=attr1\n",
    "        self.attr2=attr2\n",
    "        \n",
    "    def __str__(self):\n",
    "        return f\"attr1:{self.attr1}, attr2:{self.attr2}\"\n",
    "    \n",
    "    def __repr__(self):\n",
    "        return f\"attr1:{self.attr1}, attr2:{self.attr2}\"\n",
    "    \n",
    "    \n",
    "a=Test(\"erstes\",2)\n",
    "print(a)\n",
    "print(str(a))\n",
    "print(repr(a))\n",
    "a"
   ]
  },
  {
   "cell_type": "markdown",
   "metadata": {},
   "source": [
    "```__str()__``` und ```__repr()__``` sind also verschiedenen Fällen zugeordnet. Hier eine Übersicht. Den dritten Fall haben wir noch nicht demonstriert, aber es funktioniert so :)."
   ]
  },
  {
   "cell_type": "markdown",
   "metadata": {},
   "source": [
    "<table\n",
    "style=\"text-align: center; width: 100%; background-color: rgb(255, 220, 0);font-size:14px\"\n",
    "border=\"0\" cellpadding=\"2\" cellspacing=\"2\">\n",
    "<tbody>\n",
    "\n",
    "<tr>\n",
    "<th style= \"text_align: center;\">Vorhandene Methoden</th>\n",
    "<th style= \"text_align: center;\">Ausdruck bei str</th>\n",
    "    <th style= \"text_align: center;\">Ausdruck bei repr</th>\n",
    "    <th style= \"text_align: center;\">Ausdruck bei print</th>\n",
    "    <th style= \"text_align: center;\">Ausdruck direkt</th>\n",
    "</tr>\n",
    "\n",
    "<tr>\n",
    "<td style=\"vertical-align: top;text-align: middle\">kein __str__, kein __repr__</td>\n",
    "<td style= \"text_align: center;\">Default  </td>\n",
    "<td style= \"text_align: center;\">Default  </td>\n",
    "<td style= \"text_align: center;\">Default </td>\n",
    "<td style= \"text_align: center;\">Default </td>\n",
    "</tr>\n",
    "<tr>\n",
    "<td style= \"text_align: center;\">  nur  __str__ </td>\n",
    "<td style= \"text_align: center;\">__str__  </td>\n",
    "<td style= \"text_align: center;\">Default  </td>\n",
    "<td style= \"text_align: center;\">__str__ </td>\n",
    "<td style= \"text_align: center;\">Default </td>\n",
    "</tr>\n",
    "<tr>\n",
    "<td style= \"text_align: center;\">nur __repr__ </td>\n",
    "<td style= \"text_align: center;\">__repr__  </td>\n",
    "<td style= \"text_align: center;\">__repr__  </td>\n",
    "<td style= \"text_align: center;\">__repr__ </td>\n",
    "<td style= \"text_align: center;\">__repr__ </td>\n",
    "</tr>\n",
    "<tr>\n",
    "<td style= \"text_align: center;\">__str__ und __repr__</td>\n",
    "<td style= \"text_align: center;\">__str__  </td>\n",
    "<td style= \"text_align: center;\">__repr__  </td>\n",
    "<td style= \"text_align: center;\">__str__ </td>\n",
    "<td style= \"text_align: center;\">__repr__ </td>\n",
    "</tr>\n",
    "</table>"
   ]
  },
  {
   "cell_type": "markdown",
   "metadata": {},
   "source": [
    "Es gibt aber noch einen Aspekt. ```__repr__``` soll eigentlich eine Repräsentation der Instanz zurückgeben. Das heißt:<br>\n",
    "Führt man den Befehl eval(repr(instanz)) aus, soll eine Instanz angelegt werden. eval führt den nachfolgenden String wie einen Befehl aus. In unserem Beispiel soll also eine Instanz angelegt werden. Wie ginge das?\n",
    "    "
   ]
  },
  {
   "cell_type": "code",
   "execution_count": 42,
   "metadata": {},
   "outputs": [
    {
     "name": "stdout",
     "output_type": "stream",
     "text": [
      "attr1:erstes, attr2:2\n",
      "attr1:erstes, attr2:2\n",
      "Kontrollausdruck: Test(\"erstes\",2)\n",
      "Test(\"erstes\",2)\n",
      "Kontrollausdruck: Test(\"erstes\",2)\n",
      "<class '__main__.Test'>\n",
      "Kontrollausdruck: Test(\"erstes\",2)\n"
     ]
    }
   ],
   "source": [
    "class Test():\n",
    "    def __init__(self,attr1,attr2):\n",
    "        self.attr1=attr1\n",
    "        self.attr2=attr2\n",
    "        \n",
    "    def __str__(self):\n",
    "        return f\"attr1:{self.attr1}, attr2:{self.attr2}\"\n",
    "    \n",
    "    def __repr__(self):\n",
    "        print(\"Kontrollausdruck: \",end=\"\")\n",
    "        print(\"Test(\\\"\" + self.attr1 + \"\\\",\" +  str(self.attr2) +  \")\" )\n",
    "        return \"Test(\\\"\" + self.attr1 + \"\\\",\" +  str(self.attr2) +  \")\" \n",
    "        #return f\"Test('{self.attr1}',{self.attr2})\"\n",
    "    \n",
    "    \n",
    "a=Test(\"erstes\",2)\n",
    "print(a)\n",
    "print(str(a))\n",
    "print(repr(a))\n",
    "print(type(eval(repr(a))))\n",
    "representation=repr(a)\n",
    "del a\n",
    "#a   #macht Fehler, a ist nicht mehr da"
   ]
  },
  {
   "cell_type": "code",
   "execution_count": 43,
   "metadata": {},
   "outputs": [
    {
     "name": "stdout",
     "output_type": "stream",
     "text": [
      "<class '__main__.Test'>\n",
      "attr1:drittes, attr2:2\n"
     ]
    }
   ],
   "source": [
    "a=eval(representation)\n",
    "a # wurde neu erzeugt\n",
    "a.attr1=\"drittes\"\n",
    "print(type(a))\n",
    "print(a)"
   ]
  },
  {
   "cell_type": "markdown",
   "metadata": {},
   "source": [
    "Besonders eindrücklich sieht man diesen Effekt von ```__repr__``` bei eingebauten Klassen, wo natürlich die Funktion entsprechend implementiert wurde."
   ]
  },
  {
   "cell_type": "code",
   "execution_count": 44,
   "metadata": {},
   "outputs": [
    {
     "name": "stdout",
     "output_type": "stream",
     "text": [
      "2022-07-04 13:03:44.510698\n",
      "repr(today) sieht aus wie datetime-Objekt!:  datetime.datetime(2022, 7, 4, 13, 3, 44, 510698)\n",
      "2022\n"
     ]
    }
   ],
   "source": [
    "import datetime\n",
    "today = datetime.datetime.now()\n",
    "str_s = str(today)\n",
    "print(str_s)\n",
    "#eval(str_s) #geht nicht, der Ausdruck wird nicht in datetime Objekt verwandelt\n",
    "repr_s= repr(today)\n",
    "print(f\"repr(today) sieht aus wie datetime-Objekt!:  {repr_s}\")\n",
    "del today #today existiert nicht mehr\n",
    "today=eval(repr_s) # today wird neu angelegt mit dem Ergebnis aus repr(today)\n",
    "print(today.year) #Beweis dafür"
   ]
  },
  {
   "cell_type": "markdown",
   "metadata": {},
   "source": [
    "Nun können wir User-freundliche Ausdrucke unserer Instanzen produzieren. Wie besprochen nun zu den Overload-Methoden mit Beispielen:"
   ]
  },
  {
   "cell_type": "markdown",
   "metadata": {},
   "source": [
    "Machen wir zunächst eine Klasse, die complexe Zahlen bearbeiten kann. ```\"+\",\"-\",\"*\",\"/\"``` sollen überladen werden.\n",
    "Kurz zur Mathematik:<br>\n",
    "Die komplexen Zahlen sollen aus ihrem reellen Anteil a und ihrem imaginären Anteil b bestehen und wie in Python üblich a+bj geschrieben werden.<br>\n",
    "Die Addition ist dann:<br> $(a+bj) + (c+dj)= (a+c) + (b+d)j$<br>\n",
    "Subtraktion:<br>          $(a+bj) - (c+dj)= (a-c) + (b-d)j$<br>\n",
    "Multiplikation:<br>        $(a+bj) * (c+dj) = ac - bd + (ad+bc)j$<br>\n",
    "Division: <br>             $(a+bj) / (c+dj) = (ac + bd) / (c**2 + d**2) + (bc - ad) / (c**2 + d**2)j$"
   ]
  },
  {
   "cell_type": "code",
   "execution_count": 45,
   "metadata": {},
   "outputs": [
    {
     "name": "stdout",
     "output_type": "stream",
     "text": [
      "(12+7j)\n",
      "(4+3j)\n",
      "(22+36j)\n",
      "(2.1+0.2j)\n"
     ]
    }
   ],
   "source": [
    "class Imag():\n",
    "    \n",
    "    \n",
    "    \n",
    "    def __init__(self,complex1,complex2):\n",
    "        self.reell=complex1\n",
    "        self.imaginär=complex2\n",
    "        \n",
    "    \n",
    "    def __add__(self,other):\n",
    "        a=self.reell\n",
    "        b=self.imaginär\n",
    "        c=other.reell\n",
    "        d=other.imaginär        \n",
    "        return complex(a+c,b+d)\n",
    "    \n",
    "    def __sub__(self,other):\n",
    "        a=self.reell\n",
    "        b=self.imaginär\n",
    "        c=other.reell\n",
    "        d=other.imaginär        \n",
    "        return complex(a-c,b-d)\n",
    "    \n",
    "    def __mul__(self,other):\n",
    "        a=self.reell\n",
    "        b=self.imaginär\n",
    "        c=other.reell\n",
    "        d=other.imaginär        \n",
    "        return complex(a*c-b*d,a*d+b*c)\n",
    "    \n",
    "    def __truediv__(self,other):        \n",
    "        a=self.reell\n",
    "        b=self.imaginär\n",
    "        c=other.reell\n",
    "        d=other.imaginär        \n",
    "        return complex((a*c+b*d)/(c**2+d**2),(b*c-a*d)/(c**2+d**2))\n",
    "        \n",
    "a=Imag(8,5)    \n",
    "b=Imag(4,2)\n",
    "print(a+b)\n",
    "print(a-b)\n",
    "print(a*b)\n",
    "print(a/b)"
   ]
  },
  {
   "cell_type": "markdown",
   "metadata": {},
   "source": [
    "Unsere Ergebnisse stimmen!"
   ]
  },
  {
   "cell_type": "code",
   "execution_count": 46,
   "metadata": {},
   "outputs": [
    {
     "name": "stdout",
     "output_type": "stream",
     "text": [
      "(12+7j)\n",
      "(4+3j)\n",
      "(22+36j)\n",
      "(2.1+0.2j)\n"
     ]
    }
   ],
   "source": [
    "print((8+5j)+ (4+2j))\n",
    "print((8+5j)- (4+2j))\n",
    "print((8+5j)* (4+2j))\n",
    "print((8+5j)/ (4+2j))"
   ]
  },
  {
   "cell_type": "markdown",
   "metadata": {},
   "source": [
    "Gelegentlich werden bei binären Operationen die beiden Operanden nicht gleichwertig behandelt. Wenn wir z.B. eine Instanz unserer Klasse erzeugen, die das Attribut ```wert``` hat und dazu eine Integer addieren wollen geht das perfekt."
   ]
  },
  {
   "cell_type": "code",
   "execution_count": 47,
   "metadata": {},
   "outputs": [
    {
     "name": "stdout",
     "output_type": "stream",
     "text": [
      "9\n"
     ]
    }
   ],
   "source": [
    "class Mixed_addition:\n",
    "    \n",
    "    \n",
    "    def __init__(self,wert):\n",
    "        self.wert=wert\n",
    "    \n",
    "    def __add__(self,zahl):\n",
    "        return self.wert+zahl\n",
    "        \n",
    "   \n",
    "    \n",
    "zahl1=Mixed_addition(4)\n",
    "print(zahl1 + 5)\n",
    "# print(5 + zahl1) # macht Fehler!\n",
    "\n"
   ]
  },
  {
   "cell_type": "markdown",
   "metadata": {},
   "source": [
    "Drehen wir das um auf ```(5 + zahl1)```, ergibt sich natürlich ein Fehler. Eine Möglichkeit dies zu vermeiden wäre natürlich, die Eingabe entsprechend zu überprüfen und dann nur die richtige Reihenfolge zuzulassen. Python hat aber noch eine elegantere Möglichkeit im Repertoire. Die reversen magischen Methoden. Diese sind ```__radd__ ,__rsub__,__rmul__,__rtruediv__,__rfloordiv__,__rpow__, und __rmod__```. Sie drehen für die entsprechende Grundfunktion die Operanden um, wenn sich der erste Operand nicht bestimmen läßt. Für unser Beispiel:"
   ]
  },
  {
   "cell_type": "code",
   "execution_count": 48,
   "metadata": {},
   "outputs": [
    {
     "name": "stdout",
     "output_type": "stream",
     "text": [
      "9\n",
      "9\n"
     ]
    }
   ],
   "source": [
    "class Mixed_addition:\n",
    "    \n",
    "    \n",
    "    def __init__(self,wert):\n",
    "        self.wert=wert\n",
    "    \n",
    "    def __add__(self,zahl):\n",
    "        return self.wert+zahl\n",
    "        \n",
    "    \n",
    "    def __radd__(self,zahl):\n",
    "        return self.wert+zahl\n",
    "        #return Mixed_addition.__add__(self,zahl) #wäre andere Möglichkeit\n",
    "        \n",
    "    \n",
    "    \n",
    "zahl1=Mixed_addition(4)\n",
    "print(zahl1 + 5)\n",
    "print(5 + zahl1)\n"
   ]
  },
  {
   "cell_type": "markdown",
   "metadata": {},
   "source": [
    "Kommen wir nun zu den magischen Methoden, die keine Operatorenüberladung machen. Zunächst zu ```__call()```."
   ]
  },
  {
   "cell_type": "markdown",
   "metadata": {},
   "source": [
    "Zunächst sollten wir klären, was in Python ein callable Objekt, also ein aufrufbares Objekt ist. Es ist ein Objekt, welches wir mit oder ohne Parameter wie eine Funktion aufrufen können. Alle Funktionen sind natürlich auch aufrufbar. Python bietet eine eingebaute Funktion mit dem Namen callable(). Mit Hilfe dieser Funktion können wir feststellen, ob ein Objekt aufrufbar ist oder nicht. Die Funktion callable gibt True oder False zurück, je nachdem, ob das als Argument übergebene Objekt wie eine Funktion aufgerufen werden kann oder nicht. Auch Klassen sind generell aufrufbar. Testen wir dies:\n"
   ]
  },
  {
   "cell_type": "code",
   "execution_count": 49,
   "metadata": {},
   "outputs": [
    {
     "name": "stdout",
     "output_type": "stream",
     "text": [
      "Klasse Mixed_addtion ist: True\n",
      "Funktion f ist: True\n",
      "a ist: False\n"
     ]
    }
   ],
   "source": [
    "def f():\n",
    "    pass\n",
    "\n",
    "print(f\"Klasse Mixed_addtion ist: {callable(Mixed_addition)}\")\n",
    "print(f\"Funktion f ist: {callable(f)}\")\n",
    "a=3\n",
    "print(f\"a ist: {callable(a)}\")"
   ]
  },
  {
   "cell_type": "markdown",
   "metadata": {},
   "source": [
    "Schauen wir uns an, was passiert, wenn wir mit der magischen Methode ```__call__()``` eine Klasseninstanz wie eine Funktion aufrufen:"
   ]
  },
  {
   "cell_type": "code",
   "execution_count": 50,
   "metadata": {},
   "outputs": [
    {
     "name": "stdout",
     "output_type": "stream",
     "text": [
      "Test wurde aufgerufen\n",
      "Test wurde aufgerufen\n"
     ]
    }
   ],
   "source": [
    "class Test:\n",
    "    \n",
    "    def __call__(self):\n",
    "        return \"Test wurde aufgerufen\"\n",
    "    \n",
    "inst1 = Test()\n",
    "inst2 = Test()\n",
    "\n",
    "print(inst1()+\"\\n\"+inst2()) #hier werden die Instanzen inst1 und inst2 wie eine Funktion aufgerufen __call__() läuft ab"
   ]
  },
  {
   "cell_type": "markdown",
   "metadata": {},
   "source": [
    "Soweit so gut, nun ein Beispiel mit \"praktischem Nutzen\". Wir bestimmen hier für einen 2-dimensionalen Vektor den Absatnd zum Nullpunkt und sagen das auch."
   ]
  },
  {
   "cell_type": "code",
   "execution_count": 51,
   "metadata": {},
   "outputs": [
    {
     "data": {
      "text/plain": [
       "'Abstand zum Nullpunkt: 5.0'"
      ]
     },
     "execution_count": 51,
     "metadata": {},
     "output_type": "execute_result"
    }
   ],
   "source": [
    "class Vektor:\n",
    "    def __init__(self,x,y):\n",
    "        self.x=x\n",
    "        self.y=y\n",
    "        \n",
    "    def __call__(self,Bemerkung):\n",
    "        return (f\"{Bemerkung}: {(self.x**2+self.y**2)**.5}\")\n",
    "\n",
    "v1=Vektor(4,3)\n",
    "v1(\"Abstand zum Nullpunkt\")\n",
    "    "
   ]
  },
  {
   "cell_type": "markdown",
   "metadata": {},
   "source": [
    "Wir können damit also Instanzen wie eine Funktion ansprechen und sie je nach dem Wert von Funktionsparametern unterschiedlich behandeln. Hier noch ein interessanter Anwendungsfall mit einer Klassendekoration, die genauso funktioniert wie die property Dekoration, die wir bereist besprochen haben. Wir rufen die Funktion upload_file() auf. Diese ist mit der Klasse Loader dekoriert, bevor sie abläuft wird also diese Klasse abgearbeitet. Zunächst wird in der Klasse in der ```__init__``` die dekorierte Funktion ```upload_file()``` an self.func übergeben. Da ja dadurch eine Instanz upload_file erstellt wurde und diese callable ist durch die ```__call__``` Methode der Klasse wird diese dann abgearbeitet. "
   ]
  },
  {
   "cell_type": "code",
   "execution_count": 52,
   "metadata": {},
   "outputs": [
    {
     "name": "stdout",
     "output_type": "stream",
     "text": [
      "Connected to Loader\n",
      "Uploading File....\n",
      "Connection to Loader Closed\n"
     ]
    }
   ],
   "source": [
    "class Loader:\n",
    "    def __init__(self, func):\n",
    "        self.func = func\n",
    "        \n",
    "    def __call__(self):\n",
    "        print(\"Connected to Loader\")\n",
    "        self.func()\n",
    "        print(\"Connection to Loader Closed\")\n",
    "\n",
    "@Loader\n",
    "def upload_file():\n",
    "    print(\"Uploading File....\")\n",
    "    \n",
    "upload_file()"
   ]
  },
  {
   "cell_type": "markdown",
   "metadata": {},
   "source": [
    "Die ```__new__``` Methode besprechen wir in einem eigenen Kapitel, wenn es um Typen und Metaklassen geht.<br><br> Hier aber noch das Paar ```__iter__``` und ```__next__```. Diese beiden Methoden lassen uns über Instanzen iterieren. Zunächst solten wir daher kurz wiederholen, was ein Iterator ist und wozu wir ihn brauchen. Ein Iterator ist ein Objekt, welches eine abzählbare Menge von Elementen enthält. Solche eingebauten Container sind z.B. Listen, Tuples, Dictionaries und Sets. Wir können aber auch andere Container, wie einen String für die Iteration benutzen. Man kann durch einen solchen Iterator durchgehen und die einzelnen Elemente bearbeiten. Alle diese Container haben ein Iterator-Protokoll und wir können mittels ```__iter()``` einen Iterator daraus erzeugen. Mitttels ```for``` oder ```next``` können wird dann das Iteratorobjekt durchlaufen. Während wir, wenn wir mit der ```next()``` Funktion den Iterator durchlaufen wollen, zunächst ein solches Iteratorobjekt explizit erzeugen müssen, erledigt der ```for``` Befehl dies für uns automatisch. Ist der Iterator abgearbeitet und wir rufen mit ```next()``` ein nicht viorhandenes weiters Element auf, erhalten wir eine ```StopIteration-Ausnahme.```\n",
    "\n"
   ]
  },
  {
   "cell_type": "code",
   "execution_count": 53,
   "metadata": {},
   "outputs": [
    {
     "name": "stdout",
     "output_type": "stream",
     "text": [
      "I\n",
      "t\n",
      "e\n",
      "r\n",
      "a\n",
      "t\n",
      "o\n",
      "r\n",
      "----------------------------------------------------------------------------------------------------\n",
      "I\n",
      "t\n",
      "e\n",
      "r\n",
      "a\n",
      "t\n",
      "o\n",
      "r\n"
     ]
    }
   ],
   "source": [
    "a_string = \"Iterator\"\n",
    "it = iter(mystr) #hier machen wir aus einem String ein Iterator-Objekt\n",
    "\n",
    "print(next(it)) #wir laufen durch den Iteratot mit next()\n",
    "print(next(it))\n",
    "print(next(it))\n",
    "print(next(it))\n",
    "print(next(it))\n",
    "print(next(it))\n",
    "print(next(it))\n",
    "print(next(it))\n",
    "#print(next(it)) #macht StopIteration Exception\n",
    "print(100*\"-\")\n",
    "for element in a_string: #alles automatisch\n",
    "    print(element)"
   ]
  },
  {
   "cell_type": "markdown",
   "metadata": {},
   "source": [
    "Wir können auch unsere selbstgebauten Klassen oder deren Instanzen iterierbar machen. Hierzu benötigen wir zwei magische Methoden, ```__iter__``` und ```__next__```. Die Erstere muß immer die Instanz ```self``` zurückgeben. Es kann aber darin zusätzlicher Code enthalten sein. Sie wird beim Erzeugen des Iterators aufgerufen. Die ```__next__``` Methode definiert, was beim Aufrufen des nächsten Elements passiert. Hier ein Beispiel zum Erzeugen einer Zahlenfolge. In dieser Konstruktion können wir ohne Auslösen eines Fehlers immer weiter ```next()``` benutzen. Im zweiten Beispiel nutzen wir den ```for``` Befehl. Hier wird aber die Schleife endlos laufen!! Wir müssen in diesem Fall eine Abbruchsbedingung einbauen, wie in der nächsten Zelle."
   ]
  },
  {
   "cell_type": "code",
   "execution_count": 54,
   "metadata": {},
   "outputs": [
    {
     "name": "stdout",
     "output_type": "stream",
     "text": [
      "1\n",
      "2\n",
      "3\n",
      "4\n",
      "5\n"
     ]
    }
   ],
   "source": [
    "class Zahlen:\n",
    "  def __iter__(self):\n",
    "    self.start = 1\n",
    "    return self\n",
    "\n",
    "  def __next__(self):\n",
    "    jetzt = self.start\n",
    "    self.start += 1\n",
    "    return jetzt\n",
    "\n",
    "inst1 = Zahlen() # Instanz machen\n",
    "my_it = iter(inst1)\n",
    "\n",
    "print(next(my_it))\n",
    "print(next(my_it))\n",
    "print(next(my_it))\n",
    "print(next(my_it))\n",
    "print(next(my_it))\n",
    "\n",
    "# for elem in my_it: # Endlosschleife\n",
    "    # print(elem)"
   ]
  },
  {
   "cell_type": "code",
   "execution_count": 59,
   "metadata": {},
   "outputs": [
    {
     "name": "stdout",
     "output_type": "stream",
     "text": [
      "Start for1\n",
      "2\n",
      "4\n",
      "8\n",
      "16\n",
      "Ende for1\n",
      "Start for2\n",
      "Ende for2\n",
      "[(0, 2), (1, 4), (2, 8), (3, 16), (4, 32)]\n"
     ]
    }
   ],
   "source": [
    "class Zahlen:\n",
    "\n",
    "  def __init__(self,end=10):\n",
    "    self.start = 1\n",
    "    self.end = end\n",
    "    \n",
    "\n",
    "  def __iter__(self):\n",
    "    return self\n",
    "\n",
    "  def __next__(self):\n",
    "    if self.start<self.end:\n",
    "        self.start*=2\n",
    "        return self.start\n",
    "    else:\n",
    "        raise StopIteration\n",
    "\n",
    "inst1 = Zahlen(16) # Instanz machen\n",
    "my_it = iter(inst1)\n",
    "print(\"Start for1\")\n",
    "for elem in my_it:\n",
    "    print(elem)\n",
    "print(\"Ende for1\")\n",
    "#hier ist der Iterator erschöpft\n",
    "print(\"Start for2\")\n",
    "my_it1 = iter(inst1)\n",
    "for elem in my_it1:\n",
    "    print(elem)\n",
    "print(\"Ende for2\")\n",
    "    \n",
    "#deshalb neue Instanz:\n",
    "\n",
    "inst2 = Zahlen(32)\n",
    "my_it1 = iter(inst2)    \n",
    "#print(list(my_it1)) #packt die Ergebnisse des kompletten Ablaufs in eine Liste\n",
    "print(list(enumerate(my_it1)))"
   ]
  },
  {
   "cell_type": "markdown",
   "metadata": {},
   "source": [
    "Hier sehen wir mehrere interessante Punkte:<br>\n",
    "Wir übernehmen einen Maximal-Wert für unseren Iterator in die ```__init__``` Methode.  \n",
    "Der Iterator ist nach der Schleife erschöpft und kann nicht mehr ein zweites mal benutzt werden für diese Instanz.<br>\n",
    "Wir erzeugen deshalb eine neue Instanz.<br>\n",
    "Die ```list()``` Funktion läßt den Iterator komplett ablaufen und füllt alle Ergebnisse in eine Liste. Die können wir natürlich enumerieren. Aber auch hier gilt: einmal bearbeitet ist der Iterator erschöpft."
   ]
  },
  {
   "cell_type": "markdown",
   "metadata": {},
   "source": [
    " Hier ein letztes Beispiel mit einer \"klassischen For-Schleife\" und zum Vergleich die Anwendung von ```next()```. Wir erstellen zunächst für unsere Instanzen einen Start- und einen Endwert. Wir machen durch die Verwendung unserer ```__iter__``` Methode die Instanz (z.B. C1) iterierbar. Ohne ```__iter__``` würde hier ein Fehler ausgelöst. Wenn über die Instanz mit ```next(Instanz)``` iteriert wird, wird jeweils ```__next__``` aufgerufen. Wenn die Zahl der Aufrufe den Endwert überschreitet, wird eine ```StopIteration``` Ausnahme erzeugt. Diese wird in der for-Schleife nicht angezeigt, bei der while-Schleife muß sie aber abgefangen werden, sonstbricht das Programm ab."
   ]
  },
  {
   "cell_type": "code",
   "execution_count": 56,
   "metadata": {},
   "outputs": [
    {
     "name": "stdout",
     "output_type": "stream",
     "text": [
      "\n",
      "Drucke die Durchläufe ohne next\n",
      "\n",
      "Iss eine Pizza, Nr  2\n",
      "Iss eine Pizza, Nr  3\n",
      "Iss eine Pizza, Nr  4\n",
      "Iss eine Pizza, Nr  5\n",
      "\n",
      "Drucke die Durchläufe mit next\n",
      "\n",
      "Iss eine Pizza, Nr  2\n",
      "Iss eine Pizza, Nr  3\n",
      "Iss eine Pizza, Nr  4\n",
      "Iss eine Pizza, Nr  5\n",
      "\n",
      " überfressen, GAME OVER\n",
      "Aber es geht weiter!!\n"
     ]
    }
   ],
   "source": [
    "class Counter:\n",
    "    def __init__(self, start, end):\n",
    "        self.num = start\n",
    "        self.end = end\n",
    " \n",
    "    def __iter__(self): #macht die Instanz aufzählbar\n",
    "        return self\n",
    " \n",
    "    def __next__(self): #bestimmt, was passiert, wenn wir die Instanz mit next iterieren\n",
    "        if self.num > self.end:\n",
    "            raise StopIteration\n",
    "        else:\n",
    "            self.num += 1\n",
    "            return self.num - 1\n",
    "             \n",
    "\n",
    "a, b = 2, 5\n",
    "     \n",
    "c1 = Counter(a, b)\n",
    "c2 = Counter(a, b)\n",
    "     \n",
    "######### mit for\n",
    "print (\"\\nDrucke die Durchläufe ohne next\\n\")     \n",
    "for i in c1:\n",
    "    print (\"Iss eine Pizza, Nr \", i, end =\"\\n\")\n",
    "    \n",
    "######### mit next     \n",
    "print (\"\\nDrucke die Durchläufe mit next\\n\") \n",
    "obj = iter(c2)\n",
    "try:\n",
    "    while True: # Bis zum Fehler\n",
    "        print (\"Iss eine Pizza, Nr \", next(obj))\n",
    "except:\n",
    "    #  StopIteration raised\n",
    "    print (\"\\n überfressen, GAME OVER\")\n",
    "print(\"Aber es geht weiter!!\")"
   ]
  },
  {
   "cell_type": "markdown",
   "metadata": {},
   "source": [
    "# Übung\n",
    "<img width=200 src=\"Images/Bruch.jpg\" />\n",
    "\n",
    "## Übung 1\n",
    "Schreibe eine Klasse Punkt, deren Instanzen x und y Wert in einem 2dim Koordinatensystem sind.\n",
    "Mache die Instanz callable. Gebe beim Aufruf die Koordinaten eines 2. Punktes ein und lasse den Abstand der beiden Punkte ausgeben. Mache entsprechende Ausdrücke dafür mit ```__str__```.\n",
    "\n",
    "## Übung 2\n",
    "Schreibe eine Klasse \"Bruch\", die als Attribute Zähler und Nenner hat. Überlade +,-,* und /. Schreibe auch eine Methode kürzen. (Achtung: schließe aus, daß der Nenner 0 ist). Schreibe auch eine ```__str__``` in der Form \"Bruch:3/4\" und bei x/1 nur \"x\". \n"
   ]
  },
  {
   "cell_type": "markdown",
   "metadata": {},
   "source": [
    "Nachdem wir jetzt viel über den Umgang mit einzelnen Klassen gesprochen haben, wollen wir uns nun mit der Zusammenarbeit von verschiedenen Klassen miteinander beschäftigen."
   ]
  }
 ],
 "metadata": {
  "kernelspec": {
   "display_name": "Python 3",
   "language": "python",
   "name": "python3"
  },
  "language_info": {
   "codemirror_mode": {
    "name": "ipython",
    "version": 3
   },
   "file_extension": ".py",
   "mimetype": "text/x-python",
   "name": "python",
   "nbconvert_exporter": "python",
   "pygments_lexer": "ipython3",
   "version": "3.8.5"
  }
 },
 "nbformat": 4,
 "nbformat_minor": 4
}
