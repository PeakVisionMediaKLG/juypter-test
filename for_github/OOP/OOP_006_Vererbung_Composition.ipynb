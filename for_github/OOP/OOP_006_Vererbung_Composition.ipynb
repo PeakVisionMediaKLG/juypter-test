{
 "cells": [
  {
   "cell_type": "markdown",
   "metadata": {},
   "source": [
    "# Einfache Vererbung und Composition<br><br>\n",
    "<img width=700 src=\"Images/Erbe.png\"/>"
   ]
  },
  {
   "cell_type": "markdown",
   "metadata": {},
   "source": [
    "Um mehrere Klassen zusammenarbeiten zu lassen gibt es mehrere Grundmethoden, die wichtigste ist wahrscheinlich die Vererbung. Diese ist ein altes Konzept, schon die ersten OOP Sprachen (wie Simula 1969) hatten sie im Repertoire. Python unterstützt die Vererbung in vollem Umfang, nicht nur als Vererbung zwischen einer Oberklasse und einer Unterklasse, sondern auch als Mehrfachvererbung, wozu wir später kommen. Sinn und Zweck einer Vererbung ist es normalerweise Attribute und Methoden der Oberklasse zumindest teilweise für die Unterklasse(n) zur Verfügung zu stellen, ohne daß diese in der Unterklasse wieder neu definiert werden müssen. Man vermeidet so Code-Redundanz. Da auch Mehrfachvererbung möglich ist, können regelrechte Vererbungshierarchien entstehen. Wenn man für eine Unterklasse die Frage \"Ist ein Objekt dieser Klasse auch ein Objekt der Oberklasse?\" mit ja beantworten kann, sollte man eine Vererbung ins Auge fassen. Hier eine Klassenhierarchie. \n",
    "<br><br><img width=800 src=\"Images/Klassenhierarchie.png\" />"
   ]
  },
  {
   "cell_type": "markdown",
   "metadata": {},
   "source": [
    "Wir sehen, daß die jeweiligen Unterklassen die Attribute und Methoden der Oberklassen übernehmen können und selbst darüber hinaus spezielle Methoden und Attribute haben. Auch die Frage \"Ist ein Objekt dieser Klasse auch ein Objekt der Oberklasse?\" kann man jeweils mit ja beantworten. In Python erweitert sich bei vererbung die Syntax des Klassenkopfes um die jeweilige Oberklasse in Klammern.\n",
    "Hier ein Beispiel für die Klasse Tiere und die Klasse Säugetiere.<br>\n",
    "Wir erzeugen hier zwei Instanzen von Säugetier, indem wir die ```__init__()``` von Tiere benutzen, denn Säugetiere hat ja keine eigene ```__init__```. Auch ```__str__``` benutzen wir von Tiere. Daß Säugetiere von Tiere erbt, sehen wir an der Oberklasse in Klammern im Kopf von Säugetiere.\n"
   ]
  },
  {
   "cell_type": "code",
   "execution_count": 61,
   "metadata": {},
   "outputs": [
    {
     "name": "stdout",
     "output_type": "stream",
     "text": [
      "Ich bin ein Tier mit Namen: Wuff, Gewicht: 25 und Größe: 40 vom Typ: <class '__main__.Säugetiere'>\n",
      "Ich bin ein Tier mit Namen: Wuffi, Gewicht: 1 und Größe: 20 vom Typ: <class '__main__.Säugetiere'>\n",
      "Ich bin ein Tier mit Namen: Orso, Gewicht: 200 und Größe: 180 vom Typ: <class '__main__.Tiere'>\n",
      "----------------------------------------------------------------------------------------------------\n",
      "Nach dem Essen--------------------------------------------------\n",
      "Ich bin ein Tier mit Namen: Wuff, Gewicht: 35 und Größe: 40 vom Typ: <class '__main__.Säugetiere'>\n",
      "Ich bin ein Tier mit Namen: Orso, Gewicht: 230 und Größe: 180 vom Typ: <class '__main__.Tiere'>\n"
     ]
    }
   ],
   "source": [
    "class Tiere:     \n",
    "    def __init__(self,name,größe,gewicht):\n",
    "        self.größe=größe\n",
    "        self.gewicht=gewicht\n",
    "        self.name=name      \n",
    "    \n",
    "    def essen(self,menge):\n",
    "        self.gewicht+=menge\n",
    "        \n",
    "    def __str__(self):\n",
    "        return f\"Ich bin ein Tier mit Namen: {self.name}, Gewicht: {self.gewicht}\\\n",
    " und Größe: {self.größe} vom Typ: {type(self)}\"\n",
    "    \n",
    "        \n",
    "class Säugetiere (Tiere): #Säugetiere erbt von Tiere    \n",
    "    def gebären(self):\n",
    "        neue_inst=Säugetiere(\"Wuffi\",20,1)\n",
    "        return neue_inst\n",
    "    \n",
    "    \n",
    "Bär=Tiere(\"Orso\",180,200)        \n",
    "Hund1=Säugetiere(\"Wuff\",40,25)\n",
    "Hund2=Hund1.gebären()\n",
    "print(Hund1)\n",
    "print(Hund2)\n",
    "print(Bär)\n",
    "print(100*\"-\"+\"\\n\"+\"Nach dem Essen\"+50*\"-\")\n",
    "Hund1.essen(10) \n",
    "print(Hund1)\n",
    "Bär.essen(30)\n",
    "print(Bär)\n"
   ]
  },
  {
   "cell_type": "markdown",
   "metadata": {},
   "source": [
    "Wir können durch die Vererbung also die Methoden und Attribute der Oberklasse für Instanzen der Unterklasse so nutzen, als ob sie in der Unterklasse selbst definiert wären. Wir haben hier den Typ der Instanz mit ```type()``` abgefragt. Was passiert, wenn wir stattdessen mit ```isinstance()``` testen? Außerdem zeigen wir, wie ```==``` und ```is``` sich verhalten, wenn wir mit Hund1=Hund2 eine Kopie erstellen. Wenn wir ein Attribut bei Hund1 ändern sehen wir auch was passiert. Wir zeigen auf dieselbe Stelle im Speicher mit 2 Referenzen. Ändern wir den internen Wert des Objekts zeigen weiter beide Referenzen auf dieselbe Stelle mit den geänderten Wert."
   ]
  },
  {
   "cell_type": "code",
   "execution_count": 62,
   "metadata": {},
   "outputs": [
    {
     "name": "stdout",
     "output_type": "stream",
     "text": [
      "True\n",
      "False\n",
      "True\n",
      "True\n",
      "----------------------------------------------------------------------------------------------------\n",
      "Ich bin ein Tier mit Namen: Wuff, Gewicht: 25 und Größe: 40 vom Typ: <class '__main__.Säugetiere'>\n",
      "Ich bin ein Tier mit Namen: Wuff, Gewicht: 25 und Größe: 40 vom Typ: <class '__main__.Säugetiere'>\n",
      "True\n",
      "True\n",
      "1891405497008 1891405497008\n",
      "----------------------------------------------------------------------------------------------------\n",
      "Ich bin ein Tier mit Namen: Wuff, Gewicht: 30 und Größe: 40 vom Typ: <class '__main__.Säugetiere'>\n",
      "Ich bin ein Tier mit Namen: Wuff, Gewicht: 30 und Größe: 40 vom Typ: <class '__main__.Säugetiere'>\n",
      "True\n",
      "True\n",
      "1891405497008 1891405497008\n"
     ]
    }
   ],
   "source": [
    "import copy\n",
    "print(isinstance(Bär,Tiere))\n",
    "print(isinstance(Bär,Säugetiere))\n",
    "print(isinstance(Hund1,Tiere))\n",
    "print(isinstance(Hund1,Säugetiere))\n",
    "\n",
    "print(100*\"-\")\n",
    "Hund1=Säugetiere(\"Wuff\",40,25)\n",
    "Hund2=Hund1\n",
    "print(Hund1)\n",
    "print(Hund2)\n",
    "print(Hund1 is Hund2)\n",
    "print(Hund1==Hund2)\n",
    "print(id(Hund1), id(Hund2))\n",
    "\n",
    "\n",
    "print(100*\"-\")\n",
    "Hund1.gewicht=30\n",
    "print(Hund1)\n",
    "print(Hund2)\n",
    "print(Hund1 is Hund2)\n",
    "print(Hund1==Hund2)\n",
    "print(id(Hund1), id(Hund2))\n"
   ]
  },
  {
   "cell_type": "markdown",
   "metadata": {},
   "source": [
    "Zeile 3 ist hier durchaus überraschend. ```isinstance``` gibt auch True zurück, wenn wir mit der Oberklasse prüfen!! Wir müssen also wissen, was genau wir prüfen wollen, wenn wir mit dem Typ von Instanzen arbeiten. Wenn wir wissen wollen, ob die Instanz im ganzen Vererbungsbaum irgendwo vorkommt, können wir mit ```isinstance der höchsten Oberklasse``` dieses prüfen. Wollen wir wissen, wie der eigene Typ ist, müssen wir mit ```type()``` prüfen."
   ]
  },
  {
   "cell_type": "markdown",
   "metadata": {},
   "source": [
    "Wir können auch eingebaute Klassen erweitern, indem wir neue Klassen (hier Mylist) schreiben, die von ihnen erben (siehe Klassenheader) und aber selber noch zusätzliche Attribute oder Methoden haben. Hier erweitern wir die ```list``` Klasse um die Methode ```prod()```, die das Produkt aller Elemente ausgibt. Wir legen eine eigene Liste an indem wir die ```__init__``` der list Klasse benutzen (diese erwartet ja eine komma-separierte Aufzählung von Elementen in eckigen Klammern), selbst haben wir ja keine. Dann benutzen wir die Klasseninterne Methode prod(). "
   ]
  },
  {
   "cell_type": "code",
   "execution_count": 63,
   "metadata": {},
   "outputs": [
    {
     "data": {
      "text/plain": [
       "6"
      ]
     },
     "execution_count": 63,
     "metadata": {},
     "output_type": "execute_result"
    }
   ],
   "source": [
    "class Mylist(list): #erbt von list    \n",
    "    \n",
    "    def prod(self):\n",
    "        prod=1\n",
    "        for elem in self:\n",
    "            prod*=elem\n",
    "        return prod   \n",
    "        \n",
    "l=Mylist([1,2,3])\n",
    "l.prod()\n"
   ]
  },
  {
   "cell_type": "markdown",
   "metadata": {},
   "source": [
    "Bis zu diesem Punkt haben wir Attribute und Methoden von Oberklassen übernommen und durch eigene Attribute oder Methoden in der Unterklasse ergänzt. Natürlich ist es aber auch möglich Methoden oder Attribute der Oberklasse in der Unterklasse unter gleichem Namen aber mit unterschiedlicher Fumktionalität anzulegen. Damit überschreibt man für die Unterklasse die entsprechenden Methoden oder Attribute der Oberklasse. Hier überschreiben wir die ```__init__()```. Was passiert, wenn wir einen Fisch vermehren? Er wird zum Tier:). Wollen wir das ändern, brauchen wir eine eigene Methode vermehre_dich() in Fisch."
   ]
  },
  {
   "cell_type": "code",
   "execution_count": 64,
   "metadata": {},
   "outputs": [
    {
     "name": "stdout",
     "output_type": "stream",
     "text": [
      "Ich bin ein Tier mit Größe 40 und Gewicht 20\n",
      "Ich bin ein Tier mit Größe 2 und Gewicht 10\n",
      "Ich bin ein Fisch und habe 10 Flossen\n",
      "Ich bin ein Tier mit Größe 2 und Gewicht 10\n",
      "<class '__main__.Tier'>\n"
     ]
    }
   ],
   "source": [
    "class Tier:\n",
    "    def __init__(self,gewicht,größe):\n",
    "        self.größe=größe\n",
    "        self.gewicht=gewicht\n",
    "    def vermehre_dich(self):\n",
    "        return Tier(10,2)\n",
    "    def __str__(self):\n",
    "        if type(self)==Tier:\n",
    "            return f\"Ich bin ein Tier mit Größe {self.größe} und Gewicht {self.gewicht}\"\n",
    "        else:\n",
    "            return f\"Ich bin ein Fisch und habe {self.flossen} Flossen\"\n",
    "    \n",
    "class Fisch(Tier):\n",
    "    def __init__(self,gewicht,größe,flossen):\n",
    "        self.größe=größe\n",
    "        self.gewicht=gewicht\n",
    "        self.flossen=flossen\n",
    "        \n",
    "    \n",
    "hund=Tier(20,40)\n",
    "hund1=hund.vermehre_dich()\n",
    "print(hund)\n",
    "print(hund1)\n",
    "guppy=Fisch(4,3,10)\n",
    "print(guppy)\n",
    "kleiner_guppy=guppy.vermehre_dich()\n",
    "print(kleiner_guppy)\n",
    "print(type(kleiner_guppy))"
   ]
  },
  {
   "cell_type": "markdown",
   "metadata": {},
   "source": [
    "Hier noch ein anderes Beispiel, wo wir die ```__init__()``` einer anderen Klasse ansprechen."
   ]
  },
  {
   "cell_type": "code",
   "execution_count": 3,
   "metadata": {},
   "outputs": [
    {
     "name": "stdout",
     "output_type": "stream",
     "text": [
      "Hallo\n"
     ]
    }
   ],
   "source": [
    "class bla:\n",
    "    def __init__(self,name):\n",
    "        self.name=name\n",
    "class foo:\n",
    "    def __init__(self,nummer,name):\n",
    "        self.nummer=nummer\n",
    "        bla.__init__(self,name) #voller Bezeichner mit Klassennamen\n",
    "blabla=foo(34,\"Hallo\")\n",
    "print(blabla.name)\n",
    "        "
   ]
  },
  {
   "cell_type": "markdown",
   "metadata": {},
   "source": [
    "Schreiben wir nun noch eine eigene Exception Klasse, die die eingebaute Klasse verändert. Zunächst testen wir, ob unser Eingangsstring eine Länge von unter 10 hat und erzeugen dann eine Exception."
   ]
  },
  {
   "cell_type": "code",
   "execution_count": 65,
   "metadata": {},
   "outputs": [],
   "source": [
    "def teste_string(string):\n",
    "    if len(string)<10:\n",
    "        raise ValueError\n",
    "\n",
    "teste_string(\"WWEETETETEWTEW\")\n",
    "# teste_string(\"abc\") #macht Exception"
   ]
  },
  {
   "cell_type": "markdown",
   "metadata": {},
   "source": [
    "Die Fehlermeldung sagt uns zwar, daß ein ValueError vorliegt, wollen wir aber bessere Fehlermeldungen schreiben, benutzen wir unsere eigene Klasse, die von ValueError erbt:"
   ]
  },
  {
   "cell_type": "code",
   "execution_count": 66,
   "metadata": {},
   "outputs": [],
   "source": [
    "class String_zu_kurz(ValueError):\n",
    "    pass\n",
    "\n",
    "def teste_string(string):\n",
    "    if len(string) < 10:\n",
    "        raise String_zu_kurz(string)\n",
    "\n",
    "teste_string(\"WWEETETETEWTEW\")\n",
    "#teste_string(\"abc\") #macht Exception"
   ]
  },
  {
   "cell_type": "code",
   "execution_count": null,
   "metadata": {},
   "outputs": [],
   "source": []
  },
  {
   "cell_type": "markdown",
   "metadata": {},
   "source": [
    "Wir haben nun einfache Vererbung gezeigt, eine andere Art der Klassenzusammenarbeit ist die <b>Composition</b>. Bei der Composition ist die Frage nicht wie bei der Vererbung: \"Ist ein Objekt der Unterklasse auch eine Instanz der Oberklasse?\". <br> Sie lautet vielmehr: \"Hat (Enthält) die Oberklasse eine instanz der Unterklasse?\" \n",
    "Ein Beispiel:\n"
   ]
  },
  {
   "cell_type": "code",
   "execution_count": 67,
   "metadata": {},
   "outputs": [
    {
     "name": "stdout",
     "output_type": "stream",
     "text": [
      "Name: Meier  Geb-Dat: 24.08.1968  Adresse: Ort: Köln Strasse:Weierstrasse\n"
     ]
    }
   ],
   "source": [
    "class Angestellter:\n",
    "    def __init__(self,name,geb_datum):\n",
    "        self.name=name\n",
    "        self.geb_datum=geb_datum\n",
    "        self.adresse=None\n",
    "    def __str__(self):\n",
    "        return f\"Name: {self.name}  Geb-Dat: {self.geb_datum}  Adresse: {self.adresse}\"\n",
    "\n",
    "class Adresse:\n",
    "    def __init__(self,ort,strasse):        \n",
    "        self.ort=ort\n",
    "        self.strasse=strasse\n",
    "    def __str__(self):\n",
    "        return f\"Ort: {self.ort} Strasse:{self.strasse}\"\n",
    "        \n",
    "mensch1=Angestellter(\"Meier\",\"24.08.1968\")\n",
    "mensch1.adresse=Adresse(\"Köln\",\"Weierstrasse\")\n",
    "print(mensch1)"
   ]
  },
  {
   "cell_type": "markdown",
   "metadata": {},
   "source": [
    "<b>Wir holen uns hier also aus einer Klasse eine Instanz, die zum Attribut einer anderen Klasse wird."
   ]
  },
  {
   "cell_type": "markdown",
   "metadata": {},
   "source": [
    "Man kann natürlich beide Verfahren kombinieren und komplizierte Klassenrelationen erstellen. Man sollte sich aber immer fragen, ob die Zusammenarbeit der Klassen mit der Einsparung von Codeelementen den Aufwand, bei Änderung einer der zusammenhängenden Klassen an alle verbundenen anderen Klassen und die in ihnen notwendigen Anpassungen zu denken, rechtfertigt."
   ]
  },
  {
   "cell_type": "markdown",
   "metadata": {},
   "source": [
    "<br><br><img class=\"imgright\" src=\"Images/Animals.jpg\" width=\"400\">\n",
    "\n",
    "# Übung 1\n",
    "\n",
    "Schreiben Sie eine Klasse \"Pets\", als Oberklasse. Dann schreiben Sie bitte die Unterklassen \"Hund\",\"Katze\",\"Papagei\" und \"Fisch\", die von Pet erben.\n",
    "Erzeugen Sie für jede Unterklasse eine Liste \"Inkompatibilität\", die angibt, womit Ihre Instanzen nicht kompatibel sind.\n",
    "<br>\n",
    "\n",
    "<table style=\" width: 80%; background-color: rgb(250, 150, 150); font-size: 12pt\">\n",
    "\n",
    "<tr>\n",
    "<th style=\"vertical-align: top; text-align: center;\">Pet</th>\n",
    "<th style=\"vertical-align: top;text-align: center;\">inkompatibel mit</th>\n",
    "    \n",
    "</tr>\n",
    "\n",
    "<tr>\n",
    "<td style=\"vertical-align: top;text-align: center;\">Hund</td>\n",
    "<td style=\"vertical-align: top;text-align: center;\">Katze </td>\n",
    "</tr>\n",
    "<tr>\n",
    "<td style=\"vertical-align: top;text-align: center;\">Katze</td>\n",
    "<td style=\"vertical-align: top;text-align: center;\">Hund,Papagei,Fisch  </td>\n",
    "</tr>\n",
    "<tr>\n",
    "<td style=\"vertical-align: top;text-align: center;\">Papagei</td>\n",
    "<td style=\"vertical-align: top;text-align: center;\">Hund,Katze</td>\n",
    "</tr>\n",
    "\n",
    "<tr>\n",
    "<td style=\"vertical-align: top;text-align: center;\">Fisch</td>\n",
    "<td style=\"vertical-align: top;text-align: center;\">-</td>\n",
    "</tr>\n",
    "\n",
    "\n",
    "</table>\n",
    "<br>\n",
    "<br>\n",
    " Schreiben Sie in \"Pets\" eine Methode, die eine beliebige Anzahl von Pets als Argumente übernimmt und ausgibt, ob sich alle miteinander vertragen. Schreiben Sie bitte auch eine Methode in Pets, die jederzeit angibt, wieviel Instanzen von jedem Typ erzeugt wurden. Ausserdem eine Methode, die den Namen jedes Tieres ausgibt, der in der init-Methode gesetzt wurde."
   ]
  },
  {
   "cell_type": "markdown",
   "metadata": {},
   "source": [
    "Nachdem wir jetzt einige Aspekte der einfachen Vererbung besprochen haben, beschäftigen wir uns mit den eingebauten Oberklassen jeder eigenen Klasse."
   ]
  },
  {
   "cell_type": "code",
   "execution_count": null,
   "metadata": {},
   "outputs": [],
   "source": []
  }
 ],
 "metadata": {
  "kernelspec": {
   "display_name": "Python 3",
   "language": "python",
   "name": "python3"
  },
  "language_info": {
   "codemirror_mode": {
    "name": "ipython",
    "version": 3
   },
   "file_extension": ".py",
   "mimetype": "text/x-python",
   "name": "python",
   "nbconvert_exporter": "python",
   "pygments_lexer": "ipython3",
   "version": "3.8.5"
  }
 },
 "nbformat": 4,
 "nbformat_minor": 4
}
