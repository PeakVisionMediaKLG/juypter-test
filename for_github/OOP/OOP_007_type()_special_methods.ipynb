{
 "cells": [
  {
   "cell_type": "markdown",
   "metadata": {},
   "source": [
    "# Objekterzeugung, Klassen- und statische Methoden <br>\"type\" und \"object\" Klassen<br><img width=400 src=\"Images/meta1.png\" />"
   ]
  },
  {
   "cell_type": "markdown",
   "metadata": {},
   "source": [
    "Jede Klasse in Python erbt automatisch von der eingebauten ```object``` Klasse. Machen wir eine Klasse und schauen uns an, was die object-Klasse an eigenen Methoden bietet. Die hier angezeigten Methoden sind alle von object geerbt."
   ]
  },
  {
   "cell_type": "code",
   "execution_count": 1,
   "metadata": {},
   "outputs": [
    {
     "name": "stdout",
     "output_type": "stream",
     "text": [
      "['__class__', '__delattr__', '__dict__', '__dir__', '__doc__', '__eq__', '__format__', '__ge__', '__getattribute__', '__gt__', '__hash__', '__init__', '__init_subclass__', '__le__', '__lt__', '__module__', '__ne__', '__new__', '__reduce__', '__reduce_ex__', '__repr__', '__setattr__', '__sizeof__', '__str__', '__subclasshook__', '__weakref__']\n"
     ]
    }
   ],
   "source": [
    "class Animal: #identisch zu class Animal (object):\n",
    "    pass\n",
    "print(dir(Animal))\n",
    "a = Animal()"
   ]
  },
  {
   "cell_type": "markdown",
   "metadata": {},
   "source": [
    "Wir sehen hier eine Menge Methoden, die die Animal -Klasse alle von object erbt. Wir können uns für die Methoden mit help() anschauen, welche Kurzdoku dazu ausgegeben wird."
   ]
  },
  {
   "cell_type": "code",
   "execution_count": 2,
   "metadata": {},
   "outputs": [
    {
     "name": "stdout",
     "output_type": "stream",
     "text": [
      "Help on method_descriptor:\n",
      "\n",
      "__sizeof__(self, /)\n",
      "    Size of object in memory, in bytes.\n",
      "\n",
      "880\n"
     ]
    }
   ],
   "source": [
    "help(object.__sizeof__)\n",
    "print(object.__sizeof__(Animal))\n"
   ]
  },
  {
   "cell_type": "markdown",
   "metadata": {},
   "source": [
    "Es gibt für jede Klasse ein ```__bases__``` Attribut, welches die Oberklasse(n) der geprüften Klasse anzeigt. Animal hat als Oberklasse nur object. <br><img width=500 src=\"Images/object.png\" />"
   ]
  },
  {
   "cell_type": "code",
   "execution_count": 4,
   "metadata": {},
   "outputs": [
    {
     "data": {
      "text/plain": [
       "(object,)"
      ]
     },
     "execution_count": 4,
     "metadata": {},
     "output_type": "execute_result"
    }
   ],
   "source": [
    "Animal.__bases__ #wird als Einertupel ausgegeben"
   ]
  },
  {
   "cell_type": "markdown",
   "metadata": {},
   "source": [
    "Um zu bestimmen, zu welcher Klasse eine Instanz gehört, haben wir die uns schon bekannte Funktion type(). Aber welchen Typ hat die Klasse selbst?"
   ]
  },
  {
   "cell_type": "code",
   "execution_count": 6,
   "metadata": {},
   "outputs": [
    {
     "name": "stdout",
     "output_type": "stream",
     "text": [
      "Instanz von a hat Typ: <class '__main__.Animal'>\n",
      "Klasse Animal hat Typ: <class 'type'>\n",
      "Funktion foo hat Typ: <class 'function'>\n",
      "Integer-Klasse hat Typ: <class 'type'>\n"
     ]
    }
   ],
   "source": [
    "print(f\"Instanz von a hat Typ: {type(a)}\")\n",
    "print(f\"Klasse Animal hat Typ: {type(Animal)}\")\n",
    "def foo():\n",
    "    pass\n",
    "print(f\"Funktion foo hat Typ: {type(foo)}\")\n",
    "print(f\"Integer-Klasse hat Typ: {type(int)}\")"
   ]
  },
  {
   "cell_type": "markdown",
   "metadata": {},
   "source": [
    "Wir sehen, daß die Klasse Animal als Typ ```type``` hat. Dies gilt ebenfalls für eingebaute andere Klassen, wie die Klasse ```int```. Funktionen gehören dagegen z.B. zum Typ ```function```."
   ]
  },
  {
   "cell_type": "markdown",
   "metadata": {},
   "source": [
    "Diese Klasse ```type```, deren Typ unsere Klasse Animal aufweist, ist in Python eine <b>Metaklasse</b>. Klassen sind Instanzen von Metaklassen. Von der type-Klasse sind alle anderen Klassen <b>Instanzen!</b> Das darf nicht mit der type() Funktion verwechselt werden, die uns den Typ eines Objektes zurückgibt. Was sagt uns das Methoden-Dict über die Klasse type und was ist deren Typ?"
   ]
  },
  {
   "cell_type": "code",
   "execution_count": 7,
   "metadata": {},
   "outputs": [
    {
     "name": "stdout",
     "output_type": "stream",
     "text": [
      "['__abstractmethods__', '__base__', '__bases__', '__basicsize__', '__call__', '__class__', '__delattr__', '__dict__', '__dictoffset__', '__dir__', '__doc__', '__eq__', '__flags__', '__format__', '__ge__', '__getattribute__', '__gt__', '__hash__', '__init__', '__init_subclass__', '__instancecheck__', '__itemsize__', '__le__', '__lt__', '__module__', '__mro__', '__name__', '__ne__', '__new__', '__prepare__', '__qualname__', '__reduce__', '__reduce_ex__', '__repr__', '__setattr__', '__sizeof__', '__str__', '__subclasscheck__', '__subclasses__', '__subclasshook__', '__text_signature__', '__weakrefoffset__', 'mro']\n"
     ]
    },
    {
     "data": {
      "text/plain": [
       "type"
      ]
     },
     "execution_count": 7,
     "metadata": {},
     "output_type": "execute_result"
    }
   ],
   "source": [
    "print(dir(type)) #bezieht sich auf die Klasse \"type\"\n",
    "type(type)"
   ]
  },
  {
   "cell_type": "markdown",
   "metadata": {},
   "source": [
    "Sie hat eine Menge Methoden, unter anderem auch ```__new__``` und ihr Typ ist selber \"type\".<br><br><img width=500 src=\"Images/type.png\" />"
   ]
  },
  {
   "cell_type": "markdown",
   "metadata": {},
   "source": [
    "Also zusammengefaßt:<br><br><img width=700 src=\"Images/type-object.png\" />"
   ]
  },
  {
   "cell_type": "markdown",
   "metadata": {},
   "source": [
    "Wir haben schon gesagt, daß beim Erzeugen einer Instanz im Hintergrund die ```__new__``` Methode abläuft, ```__init__``` haben wir ja schon oft benutzt, was passiert hier im einzelnen? Die Instanzerzeugung ist klar, die Frage ist nur, wie wird das \"self\" in unsere Beispiel-Klasse Mensch übertragen. Woher weiß \"Mensch\", was self ist?"
   ]
  },
  {
   "cell_type": "code",
   "execution_count": 44,
   "metadata": {},
   "outputs": [
    {
     "data": {
      "text/plain": [
       "True"
      ]
     },
     "execution_count": 44,
     "metadata": {},
     "output_type": "execute_result"
    }
   ],
   "source": [
    "class Mensch:\n",
    "    def __init__(self, first_name, last_name):\n",
    "        self.first_name = first_name\n",
    "        self.last_name = last_name\n",
    "\n",
    "Mensch_instanz = Mensch(\"Bill\", \"Gates\")\n",
    "\n",
    "isinstance(Mensch_instanz, Mensch) \n"
   ]
  },
  {
   "cell_type": "markdown",
   "metadata": {},
   "source": [
    "Die Instanzerzeugung in Python umfaßt zwei Schritte. Zuerst wird die Instanz als Objekt erzeugt, dann wird sie mit ```__init__``` initialisiert. Python läßt den ersten Schritt im Hintergrund ablaufen mit ```__new__``` aus der Klasse \"object\", wenn in der eigenen Klasse kein ```__new__``` existiert, denn jede Klasse hat ja object als Oberklasse und erbt davon."
   ]
  },
  {
   "cell_type": "markdown",
   "metadata": {},
   "source": [
    "Die ```__new__``` Methode läuft, wenn es sie in der eigenen Klasse nicht gibt, in der object-Klasse als Oberklasse, von der geerbt wird, ab. Sie erhält als Argument den Namen der aufrufenden Klasse und übernimmt zusätzlich die Argumente aus der Instanziierungs-Anweisung der entsprechenden aufrufenden Klasse. Die Signature wäre also:<br>\n",
    "```def __new__(cls,arg1,arg2...):```  cls wäre die aufrufende Klasse und arg1,arg2... die Argumente bei Instantiierung:<br>\n",
    "```Instanz=aufrufende_Klasse(arg1,arg2...)```.<br> Wir werden jetzt die ```__new__``` - Methode überschreiben in unserer eigenen Klasse. Dazu reservieren wir mit der ```__new__```-Methode der Klasse object, von der wir ja erben, den Speicher für unsere neue Instanz (1). Dann legen wir das Attribut ```name``` der Instanz fest. Wir sehen dann, daß der Typ der neu geschaffenen Instanz Animal ist, die Klasse wurde ja mit cls übergeben. Da wir keine eigene ```__init__()``` in unserer Klasse Animal haben, wird die von \"object\" aufgerufen und kann dort unsere Attributzuordnung durchführen. Wichtig ist, daß die ```__new__```-Methode von object die Klasseninstanz returniert (2)."
   ]
  },
  {
   "cell_type": "code",
   "execution_count": 15,
   "metadata": {},
   "outputs": [
    {
     "name": "stdout",
     "output_type": "stream",
     "text": [
      "eigene __new__() läuft\n",
      "die neue Instanz ist vom Typ: <class '__main__.Animal'>\n",
      "Creepy\n",
      "<__main__.Animal object at 0x0000017A834C7FD0>\n"
     ]
    }
   ],
   "source": [
    "class Animal:\n",
    "    def __new__(cls,name):\n",
    "        print(\"eigene __new__() läuft\")\n",
    "        instanz = object.__new__(cls) #(1) damit reservieren wir Platz für unser zu schaffendes Objekt in unserer Klasse \n",
    "        instanz.name=name\n",
    "        print(f\"die neue Instanz ist vom Typ: {type(instanz)}\")\n",
    "        return instanz #(2)\n",
    "ameise=Animal(\"Creepy\")\n",
    "print(ameise.name)\n",
    "print(ameise)"
   ]
  },
  {
   "cell_type": "markdown",
   "metadata": {},
   "source": [
    "Mit eigener ```__init__``` geht es natürlich auch. Aber man muß beachten, daß die Instanziierung ja mit einem Argument erfolgt, welches auch in der ```__new__``` von object aufgeführt werden muß (1), auch wenn es nicht verwendet wird."
   ]
  },
  {
   "cell_type": "code",
   "execution_count": 17,
   "metadata": {},
   "outputs": [
    {
     "name": "stdout",
     "output_type": "stream",
     "text": [
      "<class '__main__.Animal'>\n",
      "Die eigene __new__() kann naürlich allerlei Sonstiges erledigen\n",
      "Creepy\n",
      "<__main__.Animal object at 0x0000017A834C7E50>\n"
     ]
    }
   ],
   "source": [
    "class Animal:\n",
    "    def __new__(cls,name): # (1) auch hier name aufführen!\n",
    "        instanz = object.__new__(cls) #damit reservieren wir Platz für unser zu schaffendes Objekt in der object Klasse \n",
    "        print(type(instanz))\n",
    "        print(\"Die eigene __new__() kann naürlich allerlei Sonstiges erledigen\")\n",
    "        return instanz\n",
    "    def __init__(self,name):\n",
    "        self.name=name\n",
    "ameise=Animal(\"Creepy\")\n",
    "print(ameise.name)\n",
    "print(ameise)"
   ]
  },
  {
   "cell_type": "markdown",
   "metadata": {},
   "source": [
    "Es ist auch möglich in der Klasse A so eine Instanz von B zu erzeugen."
   ]
  },
  {
   "cell_type": "code",
   "execution_count": 21,
   "metadata": {},
   "outputs": [
    {
     "name": "stdout",
     "output_type": "stream",
     "text": [
      "Bla\n",
      "<class '__main__.B'>\n"
     ]
    }
   ],
   "source": [
    "class A:\n",
    "    def __new__(cls,name):\n",
    "        instanz=object.__new__(B)\n",
    "        instanz.name=name\n",
    "        return instanz\n",
    "    \n",
    "class B:\n",
    "    pass\n",
    "inst=A(\"Bla\")\n",
    "print(inst.name)\n",
    "print(type(inst))"
   ]
  },
  {
   "cell_type": "markdown",
   "metadata": {},
   "source": [
    "Hier noch ein Beispiel, wir überschreiben sowohl ```__new__``` als auch ```__init__``` von \"object\". Wieder müssen wir aber in der eigenen ```__new__``` unserer Klasse auch die ```__new__``` der object Klasse benutzen, um unsere Instanz anzulegen. Hier nochmals zu sehen, daß die Argumente bei der Instanziierung weitergegeben werden. Neu ist auch super(), dies bezeichnet die Oberklasse unserer Klasse, in diesem Fall \"object\"."
   ]
  },
  {
   "cell_type": "code",
   "execution_count": 22,
   "metadata": {},
   "outputs": [
    {
     "name": "stdout",
     "output_type": "stream",
     "text": [
      "Animal __new__ Methode aufgerufen\n",
      "übergebene Argumente: ('Hauskatze',)\n",
      "übergebene Keyword-Argumente: {'gattung': 'Katzen'}\n",
      "Instanz:  <__main__.Animal object at 0x0000017A835BAA00>\n",
      "Animal __init__ Methode aufgerufen\n",
      "Instanz immer noch <__main__.Animal object at 0x0000017A835BAA00> mit : art: Hauskatze, gattung: Katzen\n"
     ]
    }
   ],
   "source": [
    "class Animal:\n",
    "    def __new__(cls, *args, **kwargs):\n",
    "        \n",
    "        print(\"Animal __new__ Methode aufgerufen\")\n",
    "        print(f\"übergebene Argumente: {args}\")\n",
    "        print(f\"übergebene Keyword-Argumente: {kwargs}\")\n",
    "\n",
    "        \n",
    "        instanz = super(Animal, cls).__new__(cls) #wichtigste Zeile Aufruf von __new__ von object\n",
    "\n",
    "        print(f\"Instanz:  {instanz}\")\n",
    "        return instanz  #nicht vergessen\n",
    "\n",
    "    # As we have overridden the __init__ method, the __init__ method of the object class will not be called\n",
    "    def __init__(self, art, gattung=\"\"):\n",
    "        print(\"Animal __init__ Methode aufgerufen\")\n",
    "        \n",
    "        #unser self kommt aus der __new__ -Methode\n",
    "\n",
    "        self.art = art\n",
    "        self.gattung = gattung\n",
    "\n",
    "        print(f\"Instanz immer noch {self} mit : art: {self.art}, gattung: {self.gattung}\")\n",
    "\n",
    "Mau = Animal(\"Hauskatze\",gattung= \"Katzen\")"
   ]
  },
  {
   "cell_type": "markdown",
   "metadata": {},
   "source": [
    "Was passiert, wenn wir vergessen eine Instanz in der ```__new__``` zu returnieren?"
   ]
  },
  {
   "cell_type": "code",
   "execution_count": 23,
   "metadata": {},
   "outputs": [
    {
     "name": "stdout",
     "output_type": "stream",
     "text": [
      "Animal __new__ Methode aufgerufen\n",
      "übergebene Argumente: ('Hauskatze',)\n",
      "übergebene Keyword-Argumente: {'gattung': 'Katzen'}\n",
      "Instanz:  <__main__.Animal object at 0x0000017A835BAC10>\n"
     ]
    }
   ],
   "source": [
    "class Animal:\n",
    "    def __new__(cls, *args, **kwargs):\n",
    "        \n",
    "        print(\"Animal __new__ Methode aufgerufen\")\n",
    "        print(f\"übergebene Argumente: {args}\")\n",
    "        print(f\"übergebene Keyword-Argumente: {kwargs}\")\n",
    "\n",
    "        \n",
    "        instanz = super(Animal, cls).__new__(cls) #wichtigste Zeile Aufruf von __new__ von object\n",
    "\n",
    "        print(f\"Instanz:  {instanz}\")\n",
    "        ### return instanz  #wurde vergessen\n",
    "\n",
    "    # As we have overridden the __init__ method, the __init__ method of the object class will not be called\n",
    "    def __init__(self, art, gattung=\"\"):\n",
    "        print(\"Animal __init__ Methode aufgerufen\")\n",
    "        \n",
    "        #unser self kommt aus der __new__ -Methode\n",
    "\n",
    "        self.art = art\n",
    "        self.gattung = gattung\n",
    "\n",
    "        print(f\"Instanz immer noch {self} mit : art: {self.art}, gattung: {self.gattung}\")\n",
    "\n",
    "Mau = Animal(\"Hauskatze\",gattung= \"Katzen\")\n",
    "# print(Mau.art) macht Fehler!! AttributeError: 'NoneType' object has no attribute 'art'\n"
   ]
  },
  {
   "cell_type": "markdown",
   "metadata": {},
   "source": [
    "Geben wir keine Instanz zurück, wird die ```__init__``` nicht ausgeführt. Wir haben gesagt, das \"type\" die Metaklasse jeder Klasse ist. Wir können solche Metaklassen auch selbst anlegen, wie wir in einem anderen Kapitel lernen werden.<br> Nachdem wir jetzt besser wissen, was beim Instanziieren wirklich passiert, wollen wir uns noch mit zwei speziellen Typen von Methoden befassen, den Klassenmethoden (classmethods) und den statischen Methoden (staticmethods). Wir haben in Beispielen schon gesehen, daß nicht nur Instanzen ihre eigenen Attribute haben können, sondern daß auch eine Klasse selber Attribute haben kann, die dann natürlich nichts mit einzelnen Instanzen zu tun haben. Ein typisches Beispiel ist die Konstruktion, bei der Instanzen oder deren Attribute in einen Container abgelegt werden, <b>der der Klasse gehört</b>, um den dann mit einer Schleife zu durchlaufen. Wird der Container (hier eine Liste) angesprochen, muß der volle Name mit vorangestellem Klassennamen verwendet werden."
   ]
  },
  {
   "cell_type": "code",
   "execution_count": 50,
   "metadata": {},
   "outputs": [
    {
     "name": "stdout",
     "output_type": "stream",
     "text": [
      "Marke: Citroen\n",
      "Marke: VW\n",
      "Marke: VW\n",
      "Marke: Mercedes\n"
     ]
    }
   ],
   "source": [
    "class Autos:\n",
    "    class_list=[]\n",
    "    def __init__(self,marke):\n",
    "        self.marke=marke\n",
    "        Autos.class_list.append(marke) #Achtung voller Name nötig!!\n",
    "    \n",
    "auto1=Autos(\"Citroen\")\n",
    "auto2=Autos(\"VW\")\n",
    "auto3=Autos(\"VW\")\n",
    "auto4=Autos(\"Mercedes\")\n",
    "\n",
    "for automarke in Autos.class_list: #wieder voller Name\n",
    "    print(f\"Marke: {automarke}\")"
   ]
  },
  {
   "cell_type": "markdown",
   "metadata": {},
   "source": [
    "Was wäre, wenn wir unser Klassenattribut schützen wollen, und es ```__class_list``` nennen?"
   ]
  },
  {
   "cell_type": "code",
   "execution_count": 51,
   "metadata": {},
   "outputs": [],
   "source": [
    "class Autos:\n",
    "    __class_list=[]\n",
    "    def __init__(self,marke):\n",
    "        self.marke=marke\n",
    "        Autos.__class_list.append(marke) #Achtung voller Name nötig!!\n",
    "    \n",
    "auto1=Autos(\"Citroen\")\n",
    "auto2=Autos(\"VW\")\n",
    "auto3=Autos(\"VW\")\n",
    "auto4=Autos(\"Mercedes\")\n",
    "\n",
    "# for automarke in Autos.__class_list: # macht Fehler: AttributeError: type object 'Autos' has no attribute '__class_list'\n",
    "#    print(f\"Marke: {automarke}\")"
   ]
  },
  {
   "cell_type": "markdown",
   "metadata": {},
   "source": [
    "Wie greifen wir dann auf unser Klassenattribut zu? Dafür brauchen wir eine Zugriffsmethode. Aber wo soll die stehen? Schreiben wir einen getter für das Klassenattribut in üblicher Weise in die Klasse, so erwartet diese Methode als erstes den Parameter self, da sich normale Klassenmethoden ja mit Instanzen befassen. Hier brauchen wir etwas Neues. Eine Klassenmethode, wie folgt:"
   ]
  },
  {
   "cell_type": "code",
   "execution_count": 24,
   "metadata": {},
   "outputs": [
    {
     "name": "stdout",
     "output_type": "stream",
     "text": [
      "Marke: Citroen\n",
      "Marke: VW\n",
      "Marke: VW\n",
      "Marke: Mercedes\n"
     ]
    }
   ],
   "source": [
    "class Autos:\n",
    "    __class_list=[]\n",
    "    \n",
    "    @classmethod\n",
    "    def get_class_list(cls):\n",
    "        return Autos.__class_list\n",
    "    \n",
    "    def __init__(self,marke):\n",
    "        self.marke=marke\n",
    "        Autos.__class_list.append(marke) #Achtung voller Name nötig!!\n",
    "    \n",
    "auto1=Autos(\"Citroen\")\n",
    "auto2=Autos(\"VW\")\n",
    "auto3=Autos(\"VW\")\n",
    "auto4=Autos(\"Mercedes\")\n",
    "\n",
    "for automarke in Autos.get_class_list(): #wieder voller Name\n",
    "    print(f\"Marke: {automarke}\")"
   ]
  },
  {
   "cell_type": "markdown",
   "metadata": {},
   "source": [
    "Wir haben hier eine Methode geschrieben und mit @classmethod dekoriert. Damit erkennt Python, daß diese Methode zur Klasse und nicht zu einer Instanz gehört. Als ersten Parameter erwartet die Methode die Klasse, die mit dem Parameter cls (wieder Konvention) automatisch übergeben wird. Wir haben die Methode get_class_list() ja mit Autos.get_class_list() aufgerufen und Autos wird als cls Parameter übergeben. Fehlt dies gibt es einen Fehler. Beliebt sind Klassenmethoden auch um Counter zu implementieren, die angeben, wie oft die Klasse eine Instanz erzeugt hat:"
   ]
  },
  {
   "cell_type": "code",
   "execution_count": 53,
   "metadata": {},
   "outputs": [
    {
     "name": "stdout",
     "output_type": "stream",
     "text": [
      "Instanzen gebildet: 4\n"
     ]
    }
   ],
   "source": [
    "class Autos:\n",
    "    __counter=0\n",
    "    \n",
    "    @classmethod\n",
    "    def get_class_counter(cls):\n",
    "        return Autos.__counter\n",
    "    \n",
    "    def __init__(self,marke):\n",
    "        self.marke=marke\n",
    "        Autos.__counter+=1 #Achtung voller Name nötig!!\n",
    "    \n",
    "auto1=Autos(\"Citroen\")\n",
    "auto2=Autos(\"VW\")\n",
    "auto3=Autos(\"VW\")\n",
    "auto4=Autos(\"Mercedes\")\n",
    "\n",
    "print(f\"Instanzen gebildet: {Autos.get_class_counter()}\")"
   ]
  },
  {
   "cell_type": "markdown",
   "metadata": {},
   "source": [
    "Dies ist der erste Typ einer besonderen Methode, der zweite Typ wird benötigt, wenn wir in eine Klasse eine Methode einbinden wollen, die sowohl von einer Instanz als auch von der Klasse selbst aufgerufen werden kann. Nehmen wir an, wir haben in der Bruchklasse Bruch eine Methode \"kürze\" geschrieben, die so wichtig und wertvoll ist, daß wir sie von überall her (auch außerhalb der Klasse) aufrufen wollen. Machen wir eine Instanz und rufen \"kürze\" auf, so funktioniert das einwandfrei."
   ]
  },
  {
   "cell_type": "code",
   "execution_count": 54,
   "metadata": {},
   "outputs": [
    {
     "name": "stdout",
     "output_type": "stream",
     "text": [
      "Bruch:1/3\n"
     ]
    }
   ],
   "source": [
    "class Bruch:\n",
    "    def __init__(self,zähler,nenner):\n",
    "        if nenner==0:\n",
    "            print(\"Kein gültiger Bruch!\")\n",
    "            return\n",
    "        self.zähler=zähler\n",
    "        self.nenner=nenner\n",
    "        \n",
    "    def __str__(self):\n",
    "        if self.nenner==1:\n",
    "            return f\"{int(self.zähler)}\"\n",
    "        else:\n",
    "            return f\"Bruch:{self.zähler}/{self.nenner}\"\n",
    "    \n",
    "       \n",
    "    def kürze(self):\n",
    "        z=self.zähler\n",
    "        n=self.nenner\n",
    "        if z%n==0:\n",
    "            return Bruch(int(z/n),int(n/n))\n",
    "        else:\n",
    "            div=2\n",
    "            while True:\n",
    "                if z%div==0 and n%div==0:\n",
    "                    z=z/div\n",
    "                    n=n/div\n",
    "                else:\n",
    "                    div+=1\n",
    "                    if div>n//2+1:\n",
    "                        break\n",
    "            \n",
    "            return Bruch(int(z),int(n))\n",
    "\n",
    "zwei_sechstel=Bruch(2,6)\n",
    "print(zwei_sechstel.kürze())"
   ]
  },
  {
   "cell_type": "markdown",
   "metadata": {},
   "source": [
    "Aber warum sollen wir, wenn wir den Bruch 45/90 küzen wollen, dafür eine Insatnz anlegen? Wie wäre es, wenn wir die Argumente für \"kürze\" direkt übergeben und das \"self\" weglassen? Für die Klasse funktioniert es. Für eine Instanz nicht, da benötigt die Methode natürlich als ersten Parameter self."
   ]
  },
  {
   "cell_type": "code",
   "execution_count": 55,
   "metadata": {},
   "outputs": [
    {
     "name": "stdout",
     "output_type": "stream",
     "text": [
      "(1, 3)\n"
     ]
    }
   ],
   "source": [
    "class Bruch:\n",
    "    def __init__(self,zähler,nenner):\n",
    "        if nenner==0:\n",
    "            print(\"Kein gültiger Bruch!\")\n",
    "            return\n",
    "        self.zähler=zähler\n",
    "        self.nenner=nenner\n",
    "        \n",
    "    def __str__(self):\n",
    "        if self.nenner==1:\n",
    "            return f\"{int(self.zähler)}\"\n",
    "        else:\n",
    "            return f\"Bruch:{self.zähler}/{self.nenner}\"\n",
    "    \n",
    "       \n",
    "    def kürze(z,n):        \n",
    "        if z%n==0:\n",
    "            return Bruch(int(z/n),int(n/n))\n",
    "        else:\n",
    "            div=2\n",
    "            while True:\n",
    "                if z%div==0 and n%div==0:\n",
    "                    z=z/div\n",
    "                    n=n/div\n",
    "                else:\n",
    "                    div+=1\n",
    "                    if div>n//2+1:\n",
    "                        break\n",
    "            \n",
    "            return int(z),int(n)\n",
    "\n",
    "\n",
    "\n",
    "print(Bruch.kürze(2,6))\n",
    "a=Bruch(2,6)\n",
    "#print(a.kürze(2,6)) #macht Fehler: kürze() takes 2 positional arguments but 3 were given"
   ]
  },
  {
   "cell_type": "markdown",
   "metadata": {},
   "source": [
    "Die Lösung ist, die Methode mit @staticmethod zu dekorieren, dann kann man sie über dei Klasse, aber auch über eine Instanz aufrufen. Übrigens könnten wir dann das Ergebnis einer neuen Instanz zuordnen, indem wir die beiden Rückgabewerte mit dem * Tupelentpackungsoperator trennen und als Argumente für die ```__init__``` übergeben."
   ]
  },
  {
   "cell_type": "code",
   "execution_count": 56,
   "metadata": {},
   "outputs": [
    {
     "name": "stdout",
     "output_type": "stream",
     "text": [
      "(1, 3)\n",
      "(1, 3)\n",
      "Bruch:1/3\n"
     ]
    }
   ],
   "source": [
    "class Bruch:\n",
    "    def __init__(self,zähler,nenner):\n",
    "        if nenner==0:\n",
    "            print(\"Kein gültiger Bruch!\")\n",
    "            return\n",
    "        self.zähler=zähler\n",
    "        self.nenner=nenner\n",
    "        \n",
    "    def __str__(self):\n",
    "        if self.nenner==1:\n",
    "            return f\"{int(self.zähler)}\"\n",
    "        else:\n",
    "            return f\"Bruch:{self.zähler}/{self.nenner}\"\n",
    "    \n",
    "    @staticmethod   \n",
    "    def kürze(z,n):        \n",
    "        if z%n==0:\n",
    "            return Bruch(int(z/n),int(n/n))\n",
    "        else:\n",
    "            div=2\n",
    "            while True:\n",
    "                if z%div==0 and n%div==0:\n",
    "                    z=z/div\n",
    "                    n=n/div\n",
    "                else:\n",
    "                    div+=1\n",
    "                    if div>n//2+1:\n",
    "                        break\n",
    "            \n",
    "            return int(z),int(n)\n",
    "\n",
    "\n",
    "\n",
    "print(Bruch.kürze(2,6))\n",
    "a=Bruch(2,6)\n",
    "print(a.kürze(2,6)) #macht Fehler: kürze() takes 2 positional arguments but 3 were given\n",
    "b=Bruch(*a.kürze(2,6)) #Rückgabetupel entpacken in 2 Einzelwerte\n",
    "print(b)"
   ]
  },
  {
   "cell_type": "markdown",
   "metadata": {},
   "source": [
    "Die nachfolgenden Beispiele sollen nochmals den Unterschied zwischen den beiden speziellen Methoden im Rahmen der Vererbung zeigen. Mit der statischen Methode sehen wir, daß ein Aufruf sowohl von der Klasse aus, als auch von einer Instanz möglich ist. Die beiden Unterklassen erben die Methode von Animal. Die Methode kann aber nicht unterscheiden, wer sie aufruft, deshalb immer dieselbe Meldung."
   ]
  },
  {
   "cell_type": "code",
   "execution_count": 57,
   "metadata": {},
   "outputs": [
    {
     "name": "stdout",
     "output_type": "stream",
     "text": [
      "Hier geht es um  Tiere!\n",
      "Hier geht es um  Tiere!\n",
      "Hier geht es um  Tiere!\n",
      "Hier geht es um  Tiere!\n"
     ]
    }
   ],
   "source": [
    "class Animal:\n",
    "    name = \"Tiere\"\n",
    "\n",
    "    @staticmethod\n",
    "    def worum_geht_es():\n",
    "        print(f\"Hier geht es um  {Animal.name}!\")   \n",
    "    \n",
    "\n",
    "class Hund(Animal):\n",
    "    name = \"Hund\"\n",
    "\n",
    "class Katze(Animal):\n",
    "    name = \"Katze\"\n",
    "\n",
    "ein_tier = Animal()\n",
    "Animal.worum_geht_es() #Klasse\n",
    "ein_tier.worum_geht_es() #Instanz\n",
    "ein_hund = Hund()\n",
    "ein_hund.worum_geht_es()\n",
    "eine_katze= Katze()\n",
    "eine_katze.worum_geht_es()"
   ]
  },
  {
   "cell_type": "markdown",
   "metadata": {},
   "source": [
    "Anders bei der Klassenmethode, hier muß ja die Klasse übergeben werden. Daher weiß die Methode , wer der Aufrufer war. der Aufruf ist wiederum sowohl von der Klasse aus, als auch von einer Instanz aus möglich. "
   ]
  },
  {
   "cell_type": "code",
   "execution_count": 59,
   "metadata": {},
   "outputs": [
    {
     "name": "stdout",
     "output_type": "stream",
     "text": [
      "Hier geht es um  Tiere!\n",
      "Hier geht es um  Tiere!\n",
      "Hier geht es um  Hunde!\n",
      "Hier geht es um  Hunde!\n",
      "Hier geht es um  Katzen!\n"
     ]
    }
   ],
   "source": [
    "class Animal:\n",
    "    name = \"Tiere\"\n",
    "\n",
    "    @classmethod\n",
    "    def worum_geht_es(cls):\n",
    "        print(f\"Hier geht es um  {cls.name}!\")   \n",
    "    \n",
    "\n",
    "class Hund(Animal):\n",
    "    name = \"Hunde\"\n",
    "\n",
    "class Katze(Animal):\n",
    "    name = \"Katzen\"\n",
    "\n",
    "ein_tier = Animal()\n",
    "Animal.worum_geht_es() #Klasse\n",
    "\n",
    "ein_tier.worum_geht_es() #Instanz\n",
    "\n",
    "ein_hund = Hund()\n",
    "ein_hund.worum_geht_es()\n",
    "\n",
    "Hund.worum_geht_es()\n",
    "\n",
    "eine_katze= Katze()\n",
    "eine_katze.worum_geht_es()"
   ]
  },
  {
   "cell_type": "markdown",
   "metadata": {},
   "source": [
    "Um eine Klassenmethode so zu implementieren, daß man sowohl über Instanzen als auch über den Klassennamen zugreifen kann, benötigen wir statische Methoden oder Klassenmethoden, der Parameter self fehlt. Um die aufrufende Klasse zu identifizieren braucht es Klassenmethoden, diese haben als ersten Parameter die Klasse cls."
   ]
  },
  {
   "cell_type": "markdown",
   "metadata": {},
   "source": [
    "Wir wollen uns nun mit der Mehrfachvererbung befassen."
   ]
  }
 ],
 "metadata": {
  "kernelspec": {
   "display_name": "Python 3 (ipykernel)",
   "language": "python",
   "name": "python3"
  },
  "language_info": {
   "codemirror_mode": {
    "name": "ipython",
    "version": 3
   },
   "file_extension": ".py",
   "mimetype": "text/x-python",
   "name": "python",
   "nbconvert_exporter": "python",
   "pygments_lexer": "ipython3",
   "version": "3.9.12"
  }
 },
 "nbformat": 4,
 "nbformat_minor": 4
}
