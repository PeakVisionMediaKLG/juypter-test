{
 "cells": [
  {
   "cell_type": "markdown",
   "metadata": {},
   "source": [
    "# Mehrfachvererbung<br>\n",
    "<img width=900 src=\"Images/multi_inheritance.png\" />"
   ]
  },
  {
   "cell_type": "markdown",
   "metadata": {},
   "source": [
    "Mehrfache Vererbung bedeutet, daß zumindest eine der Klassen in unserem Projekt mehr als eine Oberklasse hat. Hoffentlich sieht das nicht so aus wie in der Abbildung oben! Ein sehr einfaches Beispiel folgt:"
   ]
  },
  {
   "cell_type": "code",
   "execution_count": 62,
   "metadata": {},
   "outputs": [
    {
     "name": "stdout",
     "output_type": "stream",
     "text": [
      "mens sana in corpore sana\n"
     ]
    }
   ],
   "source": [
    "class Mens:\n",
    "    def spruch(self):\n",
    "        return \"mens sana\"\n",
    "    \n",
    "class Corpor:\n",
    "    def aussage(self):\n",
    "        return \"corpore sana\"\n",
    "    \n",
    "class Philosophie(Mens, Corpor):\n",
    "    pass\n",
    "\n",
    "der_spruch=Philosophie()\n",
    "print(der_spruch.spruch(), \"in\", der_spruch.aussage())"
   ]
  },
  {
   "cell_type": "markdown",
   "metadata": {},
   "source": [
    "Hier erbt die Klasse Philosophie sowohl von Mens als auch von Corpor. Es sind somit deren Methoden bekannt, für Instanzen von Philosophie kann auf beide zugegriffen werden. In diesem Beispiel haben wir einen kleinen Baum, eine Unterklasse, zwei Oberklassen als Stamm und Äste. Dies kann man natürlich ausdehnen wie unten:<br>\n",
    "<img width=700 src=\"Images/Geist.png\" />"
   ]
  },
  {
   "cell_type": "code",
   "execution_count": 63,
   "metadata": {},
   "outputs": [
    {
     "name": "stdout",
     "output_type": "stream",
     "text": [
      "Geist aufgerufen\n",
      "Hirn aufgerufen\n",
      "Mens aufgerufen\n",
      "Corpor aufgerufen\n",
      "Philosophie aufgerufen\n",
      "\n",
      " mens sana in corpore sana\n"
     ]
    }
   ],
   "source": [
    "class Geist:\n",
    "    print(\"Geist aufgerufen\")\n",
    "    def spruch(self):\n",
    "        return \"mens sana\"\n",
    "    \n",
    "class Hirn(Geist):\n",
    "    print(\"Hirn aufgerufen\")\n",
    "    \n",
    "class Mens(Hirn):\n",
    "    print(\"Mens aufgerufen\")\n",
    "\n",
    "    \n",
    "class Corpor:\n",
    "    print(\"Corpor aufgerufen\")\n",
    "    def aussage(self):\n",
    "        return \"corpore sana\"\n",
    "    \n",
    "class Philosophie(Corpor,Mens): #wir stellen die Reihenfolge um, hier kein Effekt\n",
    "    print(\"Philosophie aufgerufen\")\n",
    "    \n",
    "der_spruch=Philosophie()\n",
    "print(\"\\n\",der_spruch.spruch(), \"in\", der_spruch.aussage())"
   ]
  },
  {
   "cell_type": "markdown",
   "metadata": {},
   "source": [
    "Immer noch ein übersichtlicher Baum. Wir sehen, wie sich bei der Mehrfachvererbung das Programm die benötigten Bestandteile zusammensucht. Für \"der_spruch.spruch()\" geht es erst in Geist (wo die Methode steht), dann zurück über Hirn und Mens, dann für \"der_spruch.aussage()\" nach Corpor und dann am Ende zurück zu Philosophie. Nun können wir uns vorstellen, daß es Konflikte geben kann, wenn in verschiedenen Klassen Merthoden oder Attribute gleiche Bezeichner haben:"
   ]
  },
  {
   "cell_type": "code",
   "execution_count": 64,
   "metadata": {},
   "outputs": [
    {
     "name": "stdout",
     "output_type": "stream",
     "text": [
      "Fiat\n"
     ]
    }
   ],
   "source": [
    "class A():  \n",
    "    def __init__(self):\n",
    "        self.marke = \"VW\"\n",
    "   \n",
    "class B():  \n",
    "    def __init__(self):\n",
    "        self.marke = \"Fiat\"\n",
    "class C(A, B):  \n",
    "    def __init__(self):\n",
    "        A.__init__(self)\n",
    "        B.__init__(self)\n",
    "        \n",
    "mein_auto = C()\n",
    "print(mein_auto.marke)"
   ]
  },
  {
   "cell_type": "markdown",
   "metadata": {},
   "source": [
    "Warum Fiat? Weil die ```__init__``` von A aufgerufen wurde und damit das Attribut marke auf \"VW\" gesetzt wurde, dann aber B initialisiert wurde und damit marke \"Fiat\" wurde. So weit so klar, aber:"
   ]
  },
  {
   "cell_type": "code",
   "execution_count": 65,
   "metadata": {},
   "outputs": [
    {
     "name": "stdout",
     "output_type": "stream",
     "text": [
      "Methode von A\n",
      "----------------------------------------------------------------------------------------------------\n",
      "Methode von B\n"
     ]
    }
   ],
   "source": [
    "class A():  \n",
    "    def __init__(self):\n",
    "        self.marke = \"VW\"\n",
    "    def melde(self):\n",
    "        print(\"Methode von A\")\n",
    "   \n",
    "class B():  \n",
    "    def __init__(self):\n",
    "        self.marke = \"Fiat\"\n",
    "    def melde(self):\n",
    "        print(\"Methode von B\")\n",
    "  \n",
    "class C(A, B):  \n",
    "    pass\n",
    "        \n",
    "mein_auto=C()\n",
    "mein_auto.melde()\n",
    "\n",
    "print(100*\"-\")\n",
    "class C(B,A):  #Reihenfolge andersherum\n",
    "    pass\n",
    "\n",
    "mein_auto=C()\n",
    "mein_auto.melde()"
   ]
  },
  {
   "cell_type": "markdown",
   "metadata": {},
   "source": [
    "Oder noch besser. Hier wären 2 Möglichkeiten denkbar, melde von A oder melde von C."
   ]
  },
  {
   "cell_type": "code",
   "execution_count": 66,
   "metadata": {},
   "outputs": [
    {
     "name": "stdout",
     "output_type": "stream",
     "text": [
      "Methode von C\n",
      "----------------------------------------------------------------------------------------------------\n"
     ]
    }
   ],
   "source": [
    "class A():  \n",
    "    def __init__(self):\n",
    "        self.marke = \"VW\"\n",
    "    def melde(self):\n",
    "        print(\"Methode von A\")\n",
    "   \n",
    "class B(A):  \n",
    "    def __init__(self):\n",
    "        self.marke = \"Fiat\"\n",
    "    \n",
    "  \n",
    "class C(A):  \n",
    "    def __init__(self):\n",
    "        self.marke = \"Opel\"\n",
    "    def melde(self):\n",
    "        print(\"Methode von C\")\n",
    "\n",
    "class D(B,C):\n",
    "    pass\n",
    "\n",
    "mein_auto=D()\n",
    "mein_auto.melde()\n",
    "\n",
    "print(100*\"-\")\n",
    "class D(C,B):  #Reihenfolge andersherum\n",
    "     pass\n",
    "\n"
   ]
  },
  {
   "cell_type": "markdown",
   "metadata": {},
   "source": [
    "Hier spielt die Reihenfolge in D keine Rolle! Wie entscheidet Python bei Nameskonflikten, welches Element aus welcher Klasse genutzt wird? Hierzu gibt es die Methoden Auflösungs Reihenfolge oder \"Method Resolution Order\" MRO."
   ]
  },
  {
   "cell_type": "code",
   "execution_count": 67,
   "metadata": {},
   "outputs": [
    {
     "name": "stdout",
     "output_type": "stream",
     "text": [
      "__init__ von C aufgerufen\n",
      "__init__ von A aufgerufen\n",
      "__init__ von A beendet\n",
      "__init__ von C beendet\n",
      "Methode von A\n",
      "----------------------------------------------------------------------------------------------------\n",
      "__init__ von C aufgerufen\n",
      "__init__ von B aufgerufen\n",
      "__init__ von B beendet\n",
      "__init__ von C beendet\n",
      "Methode von B\n"
     ]
    }
   ],
   "source": [
    "class A():  \n",
    "    def __init__(self):\n",
    "        print(f\"__init__ von A aufgerufen\")\n",
    "        self.marke = \"VW\"\n",
    "        print(f\"__init__ von A beendet\")\n",
    "        \n",
    "    def melde(self):\n",
    "        print(\"Methode von A\")\n",
    "   \n",
    "class B():  \n",
    "    def __init__(self):\n",
    "        print(f\"__init__ von B aufgerufen\")\n",
    "        self.marke = \"Fiat\"\n",
    "        print(f\"__init__ von B beendet\")\n",
    "        \n",
    "    def melde(self):\n",
    "        print(\"Methode von B\")\n",
    "    \n",
    "  \n",
    "class C(A,B):  \n",
    "    def __init__(self):\n",
    "        print(f\"__init__ von C aufgerufen\")\n",
    "        self.marke = \"Opel\"\n",
    "        super().__init__()\n",
    "        print(f\"__init__ von C beendet\")\n",
    "    \n",
    "\n",
    "\n",
    "\n",
    "mein_auto=C()\n",
    "mein_auto.melde()\n",
    "\n",
    "print(100*\"-\")\n",
    "class C(B,A):  \n",
    "    def __init__(self):\n",
    "        print(f\"__init__ von C aufgerufen\")\n",
    "        self.marke = \"Opel\"\n",
    "        super().__init__()\n",
    "        print(f\"__init__ von C beendet\")\n",
    "mein_auto=C()\n",
    "mein_auto.melde()    "
   ]
  },
  {
   "cell_type": "markdown",
   "metadata": {},
   "source": [
    "Hier sehen wir schön den Einfluß der Reihenfolge der Oberklassen in C. In C wird mit ```super().__init__()``` diese Methode der nächsten Oberklasse aufgerufen. Was aber wenn z.B. die erste Oberklasse ist und kein melde enthält?"
   ]
  },
  {
   "cell_type": "code",
   "execution_count": 68,
   "metadata": {},
   "outputs": [
    {
     "name": "stdout",
     "output_type": "stream",
     "text": [
      "__init__ von C aufgerufen\n",
      "__init__ von B aufgerufen\n",
      "__init__ von B beendet\n",
      "__init__ von C beendet\n",
      "Methode von A\n"
     ]
    }
   ],
   "source": [
    "class A():  \n",
    "    def __init__(self):\n",
    "        print(f\"__init__ von A aufgerufen\")\n",
    "        self.marke = \"VW\"\n",
    "        print(f\"__init__ von A beendet\")\n",
    "        \n",
    "    def melde(self):\n",
    "        print(\"Methode von A\")\n",
    "   \n",
    "class B():  \n",
    "    def __init__(self):\n",
    "        print(f\"__init__ von B aufgerufen\")\n",
    "        self.marke = \"Fiat\"\n",
    "        print(f\"__init__ von B beendet\")\n",
    "        \n",
    "#    def melde(self):\n",
    "#        print(\"Methode von B\")\n",
    "    \n",
    "  \n",
    "class C(B,A):  \n",
    "    def __init__(self):\n",
    "        print(f\"__init__ von C aufgerufen\")\n",
    "        self.marke = \"Opel\"\n",
    "        super().__init__()\n",
    "        print(f\"__init__ von C beendet\")\n",
    "mein_auto=C()\n",
    "mein_auto.melde()  "
   ]
  },
  {
   "cell_type": "markdown",
   "metadata": {},
   "source": [
    "Hier wird zwar melde von A ausgeführt, aber A wird nicht initialisiert. Um zu sehen, was genau passiert gibt es die Methode mro()."
   ]
  },
  {
   "cell_type": "code",
   "execution_count": 69,
   "metadata": {},
   "outputs": [
    {
     "data": {
      "text/plain": [
       "[__main__.C, __main__.B, __main__.A, object]"
      ]
     },
     "execution_count": 69,
     "metadata": {},
     "output_type": "execute_result"
    }
   ],
   "source": [
    "C.mro()"
   ]
  },
  {
   "cell_type": "code",
   "execution_count": 70,
   "metadata": {},
   "outputs": [
    {
     "name": "stdout",
     "output_type": "stream",
     "text": [
      "[<class '__main__.D'>, <class '__main__.B'>, <class '__main__.C'>, <class '__main__.A'>, <class 'object'>]\n"
     ]
    }
   ],
   "source": [
    "class A():  \n",
    "    def __init__(self):\n",
    "        self.marke = \"VW\"\n",
    "    def melde(self):\n",
    "        print(\"Methode von A\")\n",
    "   \n",
    "class B(A):  \n",
    "    def __init__(self):\n",
    "        self.marke = \"Fiat\"\n",
    "    \n",
    "  \n",
    "class C(A):  \n",
    "    def __init__(self):\n",
    "        self.marke = \"Opel\"\n",
    "    def melde(self):\n",
    "        print(\"Methode von C\")\n",
    "\n",
    "class D(B,C):\n",
    "    pass\n",
    "\n",
    "\n",
    "\n",
    "print(D.mro())"
   ]
  },
  {
   "cell_type": "markdown",
   "metadata": {},
   "source": [
    "Hier können wir nun sehen, wie die MRO ist. Ist dies immer eindeutig? Nein, hier verweist D sowohl auf B als auch D über C auf B, dies löst einen Fehler aus.<br> <img width=500 src=\"Images/Zirkel.png\" />"
   ]
  },
  {
   "cell_type": "code",
   "execution_count": 71,
   "metadata": {},
   "outputs": [
    {
     "ename": "TypeError",
     "evalue": "Cannot create a consistent method resolution\norder (MRO) for bases B, C",
     "output_type": "error",
     "traceback": [
      "\u001b[1;31m---------------------------------------------------------------------------\u001b[0m",
      "\u001b[1;31mTypeError\u001b[0m                                 Traceback (most recent call last)",
      "\u001b[1;32m<ipython-input-71-39023e2cf44f>\u001b[0m in \u001b[0;36m<module>\u001b[1;34m\u001b[0m\n\u001b[0;32m     16\u001b[0m         \u001b[0mprint\u001b[0m\u001b[1;33m(\u001b[0m\u001b[1;34m\"Methode von C\"\u001b[0m\u001b[1;33m)\u001b[0m\u001b[1;33m\u001b[0m\u001b[1;33m\u001b[0m\u001b[0m\n\u001b[0;32m     17\u001b[0m \u001b[1;33m\u001b[0m\u001b[0m\n\u001b[1;32m---> 18\u001b[1;33m \u001b[1;32mclass\u001b[0m \u001b[0mD\u001b[0m\u001b[1;33m(\u001b[0m\u001b[0mB\u001b[0m\u001b[1;33m,\u001b[0m\u001b[0mC\u001b[0m\u001b[1;33m)\u001b[0m\u001b[1;33m:\u001b[0m\u001b[1;33m\u001b[0m\u001b[1;33m\u001b[0m\u001b[0m\n\u001b[0m\u001b[0;32m     19\u001b[0m     \u001b[1;32mpass\u001b[0m\u001b[1;33m\u001b[0m\u001b[1;33m\u001b[0m\u001b[0m\n\u001b[0;32m     20\u001b[0m \u001b[1;33m\u001b[0m\u001b[0m\n",
      "\u001b[1;31mTypeError\u001b[0m: Cannot create a consistent method resolution\norder (MRO) for bases B, C"
     ]
    }
   ],
   "source": [
    "class A():  \n",
    "    def __init__(self):\n",
    "        self.marke = \"VW\"\n",
    "    def melde(self):\n",
    "        print(\"Methode von A\")\n",
    "   \n",
    "class B():  \n",
    "    def __init__(self):\n",
    "        self.marke = \"Fiat\"\n",
    "    \n",
    "  \n",
    "class C(B):  \n",
    "    def __init__(self):\n",
    "        self.marke = \"Opel\"\n",
    "    def melde(self):\n",
    "        print(\"Methode von C\")\n",
    "\n",
    "class D(B,C):\n",
    "    pass\n",
    "\n",
    "\n",
    "\n",
    "# print(D.mro()) macht Fehler TypeError: Cannot create a consistent method resolution order (MRO) for bases B, C\n"
   ]
  },
  {
   "cell_type": "markdown",
   "metadata": {},
   "source": [
    "Wir wollen nun noch die Verwendung der super() Methode genauer beleuchten. Hier wir m von verschiedenen Klassen aufgerufen. Wir wollen die m Methode in D auch m von A,B und C aufrufen."
   ]
  },
  {
   "cell_type": "code",
   "execution_count": null,
   "metadata": {},
   "outputs": [],
   "source": [
    "class A:\n",
    "    def m(self):\n",
    "        print(\"m von A aufgerufen\")\n",
    "\n",
    "class B(A):\n",
    "    def m(self):\n",
    "        print(\"m von B aufgerufen\")\n",
    "        A.m(self)\n",
    "    \n",
    "class C(A):\n",
    "    def m(self):\n",
    "        print(\"m von C aufgerufen\")\n",
    "        A.m(self)\n",
    "\n",
    "class D(B,C):\n",
    "    def m(self):\n",
    "        print(\"m von D aufgerufen\")\n",
    "        A.m(self)\n",
    "        B.m(self)\n",
    "        C.m(self)\n",
    "        \n",
    "        \n",
    "print(D.mro())\n",
    "inst=D()\n",
    "inst.m()"
   ]
  },
  {
   "cell_type": "markdown",
   "metadata": {},
   "source": [
    "Das Ergebnis ist klar. Wir rufen aber nach dem Aufruf in D m dreimal auf, einmal von A, einmal von B, einmal von C. Wollen wir haben, daß m in der Reihenfolge D,A,B,C aufgerufen wird, aber nicht von A mehrfach geht das mit der super()-Methode."
   ]
  },
  {
   "cell_type": "code",
   "execution_count": null,
   "metadata": {},
   "outputs": [],
   "source": [
    "class A:\n",
    "    def m(self):\n",
    "        print(\"m von A aufgerufen\")\n",
    "\n",
    "class B(A):\n",
    "    def m(self):\n",
    "        print(\"m von B aufgerufen\")\n",
    "        super().m() #geht nur eine Stufe höher, wenn die Ebene mit B und C komplett bearbeitet\n",
    "    \n",
    "class C(A):\n",
    "    def m(self):\n",
    "        print(\"m von C aufgerufen\")\n",
    "        super().m() #geht nur eine Stufe höher, wenn die Ebene mit B und C komplett bearbeitet\n",
    "        \n",
    "class D(B,C):\n",
    "    def m(self):\n",
    "        print(\"m von D aufgerufen\")\n",
    "        super().m() #geht eine Stufe höher auf die Stufe B und C\n",
    "        \n",
    "\n",
    "inst = D()\n",
    "inst.m()\n",
    "print(D.mro())"
   ]
  },
  {
   "cell_type": "markdown",
   "metadata": {},
   "source": [
    "Hier passiert Folgendes: <br>\n",
    "In D ruft super() die nächste Vererbungebene auf, also B und C. In B bewirkt super() aber nur einen Aufruf der nächst höheren Ebene, wenn die aktuelle Ebene komplett bearbeitet wurde. Das ist noch nicht der Fall. Erst wird C bearbeitet. In C ist dann diese Ebene beendet, deshalb verweist super() hier auf A. Wozu wird dies benötigt? Häufig zur stufenweise Initialisierung. z.B.:"
   ]
  },
  {
   "cell_type": "code",
   "execution_count": null,
   "metadata": {},
   "outputs": [],
   "source": [
    "class A:\n",
    "    def __init__(self):\n",
    "        print(\"A.__init__\")\n",
    "\n",
    "class B(A):\n",
    "    def __init__(self):\n",
    "        print(\"B.__init__\")\n",
    "        super().__init__() #geht nur eine Stufe höher, wenn die Ebene mit B und C komplett bearbeitet\n",
    "    \n",
    "class C(A):\n",
    "    def __init__(self):\n",
    "        print(\"C.__init__\")\n",
    "        super().__init__() #geht nur eine Stufe höher, wenn die Ebene mit B und C komplett bearbeitet\n",
    "\n",
    "\n",
    "class D(B,C):\n",
    "    def __init__(self):\n",
    "        print(\"D.__init__\")\n",
    "        super().__init__()\n",
    "        \n",
    "inst=D()"
   ]
  },
  {
   "cell_type": "markdown",
   "metadata": {},
   "source": [
    "Im Zweifelsfall können wir die mro() befragen. Hier eine Übung: Bitte erst selber probieren! Wie ist die Reihenfolge? Hätten Sie es gewußt? Und beim Wechsel auf class B(Y,X)?"
   ]
  },
  {
   "cell_type": "code",
   "execution_count": null,
   "metadata": {},
   "outputs": [],
   "source": [
    "class X:pass\n",
    "class Y: pass\n",
    "class Z:pass\n",
    "class A(X,Y):pass\n",
    "class B(Y,Z):pass\n",
    "# class B(Y,X):pass # und jetzt?\n",
    "class M(B,A,Z):pass\n",
    "# M.mro() hier die Auflösung"
   ]
  },
  {
   "cell_type": "markdown",
   "metadata": {},
   "source": [
    "Diese Komplexität, die bei Mehrfachvererbung entstehen kann, wenn sie über ein gewisses Maß hinausgeht hat auch den Namen \"Diamant des Todes\". Zeichnen wir die Klassenverbindungen auf, so kann nämlich eine Figur entstehen, die der Oberfläche eines Diamants ähnlich ist.<br><img width=300 src=\"Images/Diamond.png\" />"
   ]
  },
  {
   "cell_type": "markdown",
   "metadata": {},
   "source": [
    "Nachdem wir gesehn haben, daß komplexe Mehrfachvererbung ihre Tücken hat, noch ein Beispiel einer Klasse für eine Digitaluhr."
   ]
  },
  {
   "cell_type": "code",
   "execution_count": 125,
   "metadata": {},
   "outputs": [
    {
     "name": "stdout",
     "output_type": "stream",
     "text": [
      "16:03:18 07/07/2022\r"
     ]
    },
    {
     "ename": "KeyboardInterrupt",
     "evalue": "",
     "output_type": "error",
     "traceback": [
      "\u001b[1;31m---------------------------------------------------------------------------\u001b[0m",
      "\u001b[1;31mKeyboardInterrupt\u001b[0m                         Traceback (most recent call last)",
      "\u001b[1;32m<ipython-input-125-c2f4a550d555>\u001b[0m in \u001b[0;36m<module>\u001b[1;34m\u001b[0m\n\u001b[0;32m     25\u001b[0m     \u001b[0mjetzt\u001b[0m\u001b[1;33m=\u001b[0m\u001b[0mDigital\u001b[0m\u001b[1;33m(\u001b[0m\u001b[1;33m)\u001b[0m\u001b[1;33m\u001b[0m\u001b[1;33m\u001b[0m\u001b[0m\n\u001b[0;32m     26\u001b[0m     \u001b[0mprint\u001b[0m\u001b[1;33m(\u001b[0m\u001b[0mjetzt\u001b[0m\u001b[1;33m.\u001b[0m\u001b[0muhr\u001b[0m\u001b[1;33m,\u001b[0m\u001b[0mjetzt\u001b[0m\u001b[1;33m.\u001b[0m\u001b[0mdat\u001b[0m\u001b[1;33m,\u001b[0m\u001b[0mend\u001b[0m\u001b[1;33m=\u001b[0m\u001b[1;34m\"\\r\"\u001b[0m\u001b[1;33m)\u001b[0m\u001b[1;33m\u001b[0m\u001b[1;33m\u001b[0m\u001b[0m\n\u001b[1;32m---> 27\u001b[1;33m     \u001b[0mtime\u001b[0m\u001b[1;33m.\u001b[0m\u001b[0msleep\u001b[0m\u001b[1;33m(\u001b[0m\u001b[1;36m1\u001b[0m\u001b[1;33m)\u001b[0m\u001b[1;33m\u001b[0m\u001b[1;33m\u001b[0m\u001b[0m\n\u001b[0m\u001b[0;32m     28\u001b[0m \u001b[1;33m\u001b[0m\u001b[0m\n\u001b[0;32m     29\u001b[0m \u001b[1;31m#Abrechen mit Menüleiste Block\u001b[0m\u001b[1;33m\u001b[0m\u001b[1;33m\u001b[0m\u001b[1;33m\u001b[0m\u001b[0m\n",
      "\u001b[1;31mKeyboardInterrupt\u001b[0m: "
     ]
    }
   ],
   "source": [
    "import time\n",
    "class Datum:\n",
    "    def __init__(self):\n",
    "        from datetime import date\n",
    "        heute=date.today()        \n",
    "        parts=str(heute).split(\"-\")\n",
    "        self.parts=f\"{parts[2]}/{parts[1]}/{parts[0]}\"\n",
    "\n",
    "\n",
    "class Uhrzeit:\n",
    "    def __init__(self):\n",
    "        from datetime import datetime\n",
    "        jetzt= datetime.now().time()        \n",
    "        parts=str(jetzt).split(\":\")\n",
    "        self.parts=f\"{parts[0]}:{parts[1]}:{parts[2][:2]}\"\n",
    "\n",
    "class Digital(Datum,Uhrzeit):\n",
    "    def __init__(self):\n",
    "        self.dat=Datum().parts\n",
    "        self.uhr=Uhrzeit().parts\n",
    "          \n",
    "\n",
    "\n",
    "while True:  \n",
    "    \n",
    "    \n",
    "    jetzt=Digital()\n",
    "    print(jetzt.uhr,jetzt.dat,end=\"\\r\")\n",
    "    time.sleep(1)     \n",
    "    \n",
    "#Abrechen mit Menüleiste Block"
   ]
  },
  {
   "cell_type": "markdown",
   "metadata": {},
   "source": [
    "Nun noch zu einem kurzen Thema, was eigentlich gar nicht notwendig wäre in Python, im Gegensatz zu anderen Sprachen."
   ]
  },
  {
   "cell_type": "markdown",
   "metadata": {},
   "source": [
    "## Polymorphismus\n",
    "### bei Python automatisch\n",
    "\n",
    "<img  class=\"imgright\" width=800 src=\"Images/PolymorphismusBiologie.png\"   />\n",
    "\n",
    "Polymorphismus wird aus zwei griechischen Wörtern konstruiert. \"Poly\" steht für \"viel\" oder \"viele\" und \"Morph\" bedeutet Form oder Gestalt. Polymorphismus ist der Zustand oder die Bedingung, polymorph zu sein, oder wenn wir die Übersetzungen der Komponenten verwenden, \"die Fähigkeit, in vielen Formen oder Gestalten zu sein\". Polymorphismus ist ein Begriff, der in vielen wissenschaftlichen Bereichen verwendet wird. In der Kristallographie definiert er den z.B. den Zustand, wenn etwas kristallisiert in zwei oder mehr chemisch identischen, aber kristallographisch unterschiedlichen Formen. Biologen kennen Polymorphismus als die Existenz eines Organismus in verschiedenen Formen oder Farbvarianten. \n",
    "\n",
    "Kehren wir zu Python zurück und zu dem, was Polymorphismus im Kontext von Programmiersprachen bedeutet. Polymorphismus in der Informatik ist die Fähigkeit, dieselbe Schnittstelle für unterschiedliche zugrunde liegende Parameter darzustellen. Wir können zum Beispiel in einigen Programmiersprachen polymorphe Funktionen oder Methoden haben. Polymorphe Funktionen oder Methoden können auf Argumente unterschiedlichen Typs angewendet werden und sie können sich je nach Art der Argumente, mit denen sie angewendet werden, unterschiedlich verhalten. Wir können den gleichen Funktionsnamen aber auch mit einer variierenden Anzahl von Parametern definieren.\n",
    "\n",
    "\n",
    "Schauen wir uns die folgende Python-Funktion an:"
   ]
  },
  {
   "cell_type": "code",
   "execution_count": 132,
   "metadata": {},
   "outputs": [
    {
     "name": "stdout",
     "output_type": "stream",
     "text": [
      "Werte:  42 43\n",
      "Werte:  42 43.7\n",
      "Werte:  42.3 43\n",
      "Werte:  42.0 43.9\n",
      "Werte:  [1, 2, 3] [3, 4, 5]\n",
      "Werte:  bla (3+4j)\n",
      "Werte:  <__main__.A object at 0x0000024A5C398C70> <__main__.A object at 0x0000024A5C398F40>\n"
     ]
    }
   ],
   "source": [
    "def f(x, y):\n",
    "    print(\"Werte: \", x, y)\n",
    "\n",
    "class A:\n",
    "    pass\n",
    "\n",
    "a=A()\n",
    "b=A()\n",
    "f(42, 43)\n",
    "f(42, 43.7) \n",
    "f(42.3, 43)\n",
    "f(42.0, 43.9)\n",
    "f([1,2,3],[3,4,5])\n",
    "f(\"bla\",complex(3,4))\n",
    "f(a,b)"
   ]
  },
  {
   "cell_type": "markdown",
   "metadata": {},
   "source": [
    "Python kann hier unabhängig vom Typ der Argumente die Funktion immer fehlerfrei ausführen. In anderen Sprachen, z.B. C++, müßte man für jede Kombination von Argumententypen eine eigene Funktion bauen. z.B.:"
   ]
  },
  {
   "cell_type": "raw",
   "metadata": {},
   "source": [
    "#include \n",
    "using namespace std;\n",
    "\n",
    "für 2 Integer:\n",
    "void f(int x, int y ) {\n",
    "    cout << \"values: \" << x << \", \" << x << endl;\n",
    "}\n",
    "\n",
    "für 1 Integer gefolgt von 1 Float:\n",
    "void f(int x, double y ) {\n",
    "    cout << \"values: \" << x << \", \" << x << endl;\n",
    "}\n",
    "\n",
    "für 1 Float gefolgt von 1 Integer:\n",
    "void f(double x, int y ) {\n",
    "    cout << \"values: \" << x << \", \" << x << endl;\n",
    "}\n",
    "\n",
    "für 2 Floats:\n",
    "void f(double x, double y ) {\n",
    "    cout << \"values: \" << x << \", \" << x << endl;\n",
    "}\n",
    "\n",
    "\n",
    "int main()\n",
    "{\n",
    "    f(42, 43); \n",
    "    f(42, 43.7); \n",
    "    f(42.3,43);\n",
    "    f(42.0, 43.9); \n",
    "}\n"
   ]
  },
  {
   "cell_type": "markdown",
   "metadata": {},
   "source": [
    "Python ist aber ja dynamisch typisiert und erkennt den Typ eines Ausdrucks automatisch, kann somit den Ausdruck dann auch korrekt behandeln. Python ist <b>implizit polymorph</b>. Wir können unsere zuvor definierte Funktion f auf alle möglichen druckbaren Objekte anwenden."
   ]
  },
  {
   "cell_type": "markdown",
   "metadata": {},
   "source": [
    "## Übung\n",
    "\n",
    "Erstelle eine Klasse Digitaluhr als Erinnerer für Geburtstage und als Wecker.\n",
    "Lege in der Klasse ein Dict von Geburtstagen an in der Form {\"24.07.\":\"Klaus,Maria\", \"18.09.\":\"Karin\",...}.\n",
    "Wenn das Datum auf den entsprechenden Wert geht, gebe eine Meldung aus mit dem Namen des Geburtstagskind.\n",
    "Lege ein Dict von Uhrzeiten und Meldungen in der Form {\"09:45\":\"Frühstück\",\"19:00\":\"Heute\",...} an. Gib eine Meldung aus, wenn die Uhrzeit erreicht ist. Schreibe eine Methode tick(), die die Uhrzeit um eine Sekunde vorstellt. Teste die Funktionalität.\n",
    "\n",
    "Benutze das Beispiel unten als Zähler:"
   ]
  },
  {
   "cell_type": "code",
   "execution_count": 178,
   "metadata": {},
   "outputs": [
    {
     "name": "stdout",
     "output_type": "stream",
     "text": [
      "2022-07-05 12:31:32\r"
     ]
    },
    {
     "ename": "KeyboardInterrupt",
     "evalue": "",
     "output_type": "error",
     "traceback": [
      "\u001b[1;31m---------------------------------------------------------------------------\u001b[0m",
      "\u001b[1;31mKeyboardInterrupt\u001b[0m                         Traceback (most recent call last)",
      "\u001b[1;32m<ipython-input-178-c246d38a84f9>\u001b[0m in \u001b[0;36m<module>\u001b[1;34m\u001b[0m\n\u001b[0;32m      8\u001b[0m     \u001b[0mnext_time\u001b[0m\u001b[1;33m=\u001b[0m\u001b[0mnext_time\u001b[0m\u001b[1;33m+\u001b[0m\u001b[0mtimedelta\u001b[0m\u001b[1;33m(\u001b[0m\u001b[0mseconds\u001b[0m\u001b[1;33m=\u001b[0m\u001b[1;36m1\u001b[0m\u001b[1;33m)\u001b[0m\u001b[1;33m\u001b[0m\u001b[1;33m\u001b[0m\u001b[0m\n\u001b[0;32m      9\u001b[0m     \u001b[0mprint\u001b[0m\u001b[1;33m(\u001b[0m\u001b[0mnext_time\u001b[0m\u001b[1;33m,\u001b[0m\u001b[0mend\u001b[0m\u001b[1;33m=\u001b[0m\u001b[1;34m\"\\r\"\u001b[0m\u001b[1;33m)\u001b[0m\u001b[1;33m\u001b[0m\u001b[1;33m\u001b[0m\u001b[0m\n\u001b[1;32m---> 10\u001b[1;33m     \u001b[0mtime\u001b[0m\u001b[1;33m.\u001b[0m\u001b[0msleep\u001b[0m\u001b[1;33m(\u001b[0m\u001b[1;36m1\u001b[0m\u001b[1;33m)\u001b[0m\u001b[1;33m\u001b[0m\u001b[1;33m\u001b[0m\u001b[0m\n\u001b[0m\u001b[0;32m     11\u001b[0m \u001b[1;31m# Abstellen mit Menüleiste Blocksymbol\u001b[0m\u001b[1;33m\u001b[0m\u001b[1;33m\u001b[0m\u001b[1;33m\u001b[0m\u001b[0m\n",
      "\u001b[1;31mKeyboardInterrupt\u001b[0m: "
     ]
    }
   ],
   "source": [
    "from datetime import datetime,timedelta\n",
    "import time\n",
    "start=datetime(2022,7,5,12,31,23)\n",
    "#start=datetime.now() #für jetzt\n",
    "next_time=start\n",
    "while True:\n",
    "    second+=1\n",
    "    next_time=next_time+timedelta(seconds=1)\n",
    "    print(next_time,end=\"\\r\")\n",
    "    time.sleep(1)\n",
    "# Abstellen mit Menüleiste Blocksymbol    "
   ]
  },
  {
   "cell_type": "markdown",
   "metadata": {},
   "source": [
    "Hier eine mögliche Lösung:"
   ]
  },
  {
   "cell_type": "code",
   "execution_count": 1,
   "metadata": {},
   "outputs": [
    {
     "name": "stdout",
     "output_type": "stream",
     "text": [
      "Klaus,Maria hat(haben) Geburtstag\n",
      "Frühstück   07/2022\n",
      "09:45:05 24/07/2022\r"
     ]
    },
    {
     "ename": "KeyboardInterrupt",
     "evalue": "",
     "output_type": "error",
     "traceback": [
      "\u001b[1;31m---------------------------------------------------------------------------\u001b[0m",
      "\u001b[1;31mKeyboardInterrupt\u001b[0m                         Traceback (most recent call last)",
      "\u001b[1;32m<ipython-input-1-616d29bb6480>\u001b[0m in \u001b[0;36m<module>\u001b[1;34m\u001b[0m\n\u001b[0;32m     39\u001b[0m \u001b[1;33m\u001b[0m\u001b[0m\n\u001b[0;32m     40\u001b[0m     \u001b[0minst\u001b[0m\u001b[1;33m.\u001b[0m\u001b[0mtick\u001b[0m\u001b[1;33m(\u001b[0m\u001b[1;33m)\u001b[0m\u001b[1;33m\u001b[0m\u001b[1;33m\u001b[0m\u001b[0m\n\u001b[1;32m---> 41\u001b[1;33m     \u001b[0mtime\u001b[0m\u001b[1;33m.\u001b[0m\u001b[0msleep\u001b[0m\u001b[1;33m(\u001b[0m\u001b[1;36m1\u001b[0m\u001b[1;33m)\u001b[0m\u001b[1;33m\u001b[0m\u001b[1;33m\u001b[0m\u001b[0m\n\u001b[0m",
      "\u001b[1;31mKeyboardInterrupt\u001b[0m: "
     ]
    }
   ],
   "source": [
    "from datetime import datetime,timedelta\n",
    "import time\n",
    "\n",
    "\n",
    "class Digital():\n",
    "    geb_dict={\"24.07.\":\"Klaus,Maria\" , \"18.09.\":\"Karin\"}\n",
    "    wecker_dict={\"09:45:00\":\"Frühstück\",\"19:00:00\":\"Heute\"}\n",
    "    def __init__(self):\n",
    "        self.next_time=start\n",
    "    def tick(self):\n",
    "        self.next_time+=timedelta(seconds=1)\n",
    "        \n",
    "\n",
    "\n",
    "from datetime import datetime,timedelta\n",
    "import time\n",
    "\n",
    "#start=datetime.now() #für einen echten Lauf\n",
    "start=datetime(2022,7,24,9,44,56) #year,month,day,hour,minute,second zum Testen\n",
    "inst=Digital()\n",
    "schon_bearbeitete_geb_tage=[]\n",
    "while True:\n",
    "    \n",
    "    datum,zeit=(str(inst.next_time).split())    \n",
    "    datum=datum.split(\"-\")\n",
    "    datum_str=f\"{datum[2]}/{datum[1]}/{datum[0]}\"\n",
    "    zeit=zeit.split(\":\")\n",
    "    zeit=f\"{zeit[0]}:{zeit[1]}:{zeit[2]}\"\n",
    "    print(zeit,datum_str,end=\"\\r\")\n",
    "    \n",
    "    if zeit in Digital.wecker_dict:\n",
    "        print(Digital.wecker_dict[zeit],\"  \")\n",
    "    datum_test=f\"{datum[2]}.{datum[1]}.\"\n",
    "    #print(datum_test)\n",
    "    if datum_test in Digital.geb_dict and datum_test not in schon_bearbeitete_geb_tage:\n",
    "        print(f\"{Digital.geb_dict[datum_test]} hat(haben) Geburtstag\")\n",
    "        schon_bearbeitete_geb_tage.append(datum_test)\n",
    "        \n",
    "    \n",
    "    inst.tick()\n",
    "    time.sleep(1)"
   ]
  },
  {
   "cell_type": "markdown",
   "metadata": {},
   "source": [
    "Nachdem wir jetzt Mehrfachvererbung erklärt haben, kommen wir zu Meta-Klassen."
   ]
  },
  {
   "cell_type": "code",
   "execution_count": null,
   "metadata": {},
   "outputs": [],
   "source": []
  }
 ],
 "metadata": {
  "kernelspec": {
   "display_name": "Python 3",
   "language": "python",
   "name": "python3"
  },
  "language_info": {
   "codemirror_mode": {
    "name": "ipython",
    "version": 3
   },
   "file_extension": ".py",
   "mimetype": "text/x-python",
   "name": "python",
   "nbconvert_exporter": "python",
   "pygments_lexer": "ipython3",
   "version": "3.8.5"
  }
 },
 "nbformat": 4,
 "nbformat_minor": 4
}
