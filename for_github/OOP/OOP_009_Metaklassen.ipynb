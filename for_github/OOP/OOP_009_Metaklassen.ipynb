{
 "cells": [
  {
   "cell_type": "markdown",
   "metadata": {},
   "source": [
    "# Metaklassen <br><img width=400 src=\"Images/container.png\" />"
   ]
  },
  {
   "cell_type": "markdown",
   "metadata": {},
   "source": [
    "Metaklassen sind ein fortgeschrittenes OOP-Konzept. Sie haben durchaus ihre Verwendung , z.B. zur Protokollerstellung, zur Erstellung von Klassen zur Laufzeit, für das Erstellen von Userprofilen, automatisches Hinzufügen neuer Methoden... Wird der durchschnittliche User sie brauchen? Eher nicht. Wir sollten das Konzept aber im Hinterkopf behalten, denn wenn wir sie brauchen, sind sie ein wichtiges Instrument.<br>\n",
    "Um Metaklassen zu verstehen, müssen wir uns an unser Bild aus einem vorherigen Kapitel erinnern.<br><br><img width=700 src=\"Images/type-object.png\" />"
   ]
  },
  {
   "cell_type": "markdown",
   "metadata": {},
   "source": [
    "<b>Kurze Wiederholung:</b><br>\n",
    "Alles in Python ist ein Objekt, auch eine Klasse.<br>\n",
    "type() gibt den Typ eines Objekts zurück.<br>\n",
    "Alle Klassen sind vom Typ ```type```.<br>\n",
    "Auch die type-Klasse ist vom Typ ```type```."
   ]
  },
  {
   "cell_type": "code",
   "execution_count": 148,
   "metadata": {},
   "outputs": [
    {
     "name": "stdout",
     "output_type": "stream",
     "text": [
      "die Instanz: <__main__.Test object at 0x0000020D0F26E130>\n",
      "die Instanz ist vom Typ: <class '__main__.Test'>\n",
      "die Klasse Test ist vom Typ: <class 'type'>\n",
      "die Klasse type ist vom Typ: <class 'type'>\n"
     ]
    }
   ],
   "source": [
    "class Test:                       \n",
    "    pass\n",
    "\n",
    "meine_instanz = Test()\n",
    "print(f\"die Instanz: {meine_instanz}\")\n",
    "print(f\"die Instanz ist vom Typ: {type(meine_instanz)}\")\n",
    "print(f\"die Klasse Test ist vom Typ: {type(Test)}\")\n",
    "print(f\"die Klasse type ist vom Typ: {type(type)}\")"
   ]
  },
  {
   "cell_type": "markdown",
   "metadata": {},
   "source": [
    "type() ist aber nicht nur für die Typeabfrage gut. Damit können wir auch Klassen erstellen:"
   ]
  },
  {
   "cell_type": "code",
   "execution_count": 149,
   "metadata": {},
   "outputs": [
    {
     "name": "stdout",
     "output_type": "stream",
     "text": [
      "2255099660448 2255099654784\n",
      "<__main__.Neu object at 0x0000020D0F3A1F70>\n",
      "<__main__.Neu object at 0x0000020D0F3A1A30>\n",
      "<class 'type'> <class 'type'>\n"
     ]
    }
   ],
   "source": [
    "neue_Klasse = type('Neu', (), {})\n",
    "neue_Klasse1 = type('Neu', (), {})\n",
    "print(id(neue_Klasse),id(neue_Klasse1)) #die Klassenspeicherbereiche\n",
    "print(neue_Klasse()) #eine Instanz von Neu\n",
    "print(neue_Klasse()) #noch eine Instanz von Neu\n",
    "print(type(neue_Klasse),type(neue_Klasse1))"
   ]
  },
  {
   "cell_type": "markdown",
   "metadata": {},
   "source": [
    "Hier ist ```neue_Klasse``` die Referenz auf die erstellte Klasse \"Neu\". ```neue_klasse1``` ist die Referenz auf eine andere Klasse \"Neu\". Beide haben den type ```type``` wie jede Klasse. Aber was sind die anderen Parameter?<br> Der erste ist ja der Klassenname.<br>\n",
    "Der zweite ist ein Tupel der Klassen, von denen die neue Klasse erbt.<br>\n",
    "Der dritte Parameter ist ein Dictionary mit den Attributen für Instanzen und deren Wert."
   ]
  },
  {
   "cell_type": "code",
   "execution_count": 150,
   "metadata": {},
   "outputs": [
    {
     "name": "stdout",
     "output_type": "stream",
     "text": [
      "<class '__main__.Neu'>\n",
      "Brigitte\n"
     ]
    }
   ],
   "source": [
    "class Ober:\n",
    "    def __init__(self,attr=None):\n",
    "        self.attr=attr\n",
    "\n",
    "neue_Klasse = type('Neu', (Ober,), {\"name\":\"Klaus\"})\n",
    "Klassen_inst=neue_Klasse(\"my_attr\") #neue_KLasse ist eine Instanz der Klasse Neu\n",
    "print(type(Klassen_inst))\n",
    "Klassen_inst.name=\"Brigitte\"\n",
    "print(Klassen_inst.name)"
   ]
  },
  {
   "cell_type": "markdown",
   "metadata": {},
   "source": [
    "Unsere neue Klasse erbt von Ober, inst ist eine Instanz dieser Klasse. self wird also hier eine Klasse und da in der Oberklasse Ober eine ```__init__()``` vorliegt, wird das Attribut \"my_attr\" auf den Wert attr gesetzt, wenn dieser übergeben wird, sonst None. Die ```__init__``` von der type-Klasse wird damit überschrieben. In der Oberklasse könnten wir natürlich weitere Attribute und Methoden schreiben, die dann für die neu erstellte Klasse zur Verfügung stünden. Interessant ist das Ergebnis von help() und das Dict der Klasse."
   ]
  },
  {
   "cell_type": "code",
   "execution_count": 151,
   "metadata": {},
   "outputs": [
    {
     "name": "stdout",
     "output_type": "stream",
     "text": [
      "0  1  2  3  4  5  6  7  8  9  \n",
      "__________________________________________________\n",
      "Help on Neu in module __main__ object:\n",
      "\n",
      "class Neu(Ober)\n",
      " |  Neu(attr=None)\n",
      " |  \n",
      " |  Method resolution order:\n",
      " |      Neu\n",
      " |      Ober\n",
      " |      builtins.object\n",
      " |  \n",
      " |  Data and other attributes defined here:\n",
      " |  \n",
      " |  name = 'Klaus'\n",
      " |  \n",
      " |  ----------------------------------------------------------------------\n",
      " |  Methods inherited from Ober:\n",
      " |  \n",
      " |  __init__(self, attr=None)\n",
      " |      Initialize self.  See help(type(self)) for accurate signature.\n",
      " |  \n",
      " |  zähle_bis_10(self)\n",
      " |  \n",
      " |  ----------------------------------------------------------------------\n",
      " |  Data descriptors inherited from Ober:\n",
      " |  \n",
      " |  __dict__\n",
      " |      dictionary for instance variables (if defined)\n",
      " |  \n",
      " |  __weakref__\n",
      " |      list of weak references to the object (if defined)\n",
      "\n"
     ]
    },
    {
     "data": {
      "text/plain": [
       "{'attr': 'my_attr'}"
      ]
     },
     "execution_count": 151,
     "metadata": {},
     "output_type": "execute_result"
    }
   ],
   "source": [
    "class Ober:\n",
    "    def __init__(self,attr=None):\n",
    "        self.attr=attr\n",
    "    def zähle_bis_10(self):\n",
    "        for i in range(10):\n",
    "            print(i,\" \",end=\"\")\n",
    "        print(\"\\n\"+50*\"_\")\n",
    "\n",
    "neue_Klasse = type('Neu', (Ober,), {\"name\":\"Klaus\"})\n",
    "Klassen_inst=neue_Klasse(\"my_attr\") #neue_KLasse ist eine Instanz der Klasse Neu\n",
    "Klassen_inst.zähle_bis_10()\n",
    "help(Klassen_inst)\n",
    "Klassen_inst.__dict__"
   ]
  },
  {
   "cell_type": "markdown",
   "metadata": {},
   "source": [
    "Wir machen hier also neue Klassen, deren Vererbung wir festlegen und denen wir Attribute zuordnen können. Dies erledigt die type() Anweisung. Diese Klassen bedienen sich der Methoden der Metaklasse type und der ererbten Methoden von eventuellen Oberklassen. Interessant ist die Erstellung eigener Metaklassen. Dies tun wir jetzt, aber zunächst noch eine Möglichkeit Klassen von außen dynamisch Methoden zuzuweisen mithilfe eienr Klassendekoration. Auch dies erstellt ja in gewisser Weise dynamisch Klassen. Was passiert hier? Wir bestimmen mit dem Input eine flag (1 oder 2). Je nach dem Wert der flag wird in entscheidung der aufrufenden Klasse \"cls\" für meine_methode die methode1 oder methode2 zugewiesen und die Klasse so verändert zurückgegeben. Da die Klassen mit @entscheidung dekoriert ist, wird bei Beginn des Ablauf des Skripts (Beweis s.help(), hier gibt es noch keine Instanzen der Klassen) für beide Klassen entscheidung ausgeführt und die Klassen modifiziert, mit dem erwarteten Ergebnis."
   ]
  },
  {
   "cell_type": "code",
   "execution_count": 152,
   "metadata": {},
   "outputs": [
    {
     "name": "stdout",
     "output_type": "stream",
     "text": [
      "Soll die Klasse methode1 oder methode2 enthalten? Bitte 1 oder 2 eingeben: 1\n",
      "Help on class Second in module __main__:\n",
      "\n",
      "class Second(builtins.object)\n",
      " |  Methods defined here:\n",
      " |  \n",
      " |  meine_methode = methode1(self, wert)\n",
      " |  \n",
      " |  ----------------------------------------------------------------------\n",
      " |  Data descriptors defined here:\n",
      " |  \n",
      " |  __dict__\n",
      " |      dictionary for instance variables (if defined)\n",
      " |  \n",
      " |  __weakref__\n",
      " |      list of weak references to the object (if defined)\n",
      "\n",
      "9\n",
      "16\n"
     ]
    }
   ],
   "source": [
    "flag=int(input(\"Soll die Klasse methode1 oder methode2 enthalten? Bitte 1 oder 2 eingeben: \"))\n",
    "\n",
    "def entscheidung(cls):\n",
    "    if flag==1:\n",
    "        cls.meine_methode=methode1\n",
    "    else:        \n",
    "        cls.meine_methode=methode2\n",
    "    return cls\n",
    "\n",
    "def methode1(self,wert):\n",
    "    return wert**2\n",
    "\n",
    "def methode2(self,wert):\n",
    "    return wert*2\n",
    "\n",
    "@entscheidung\n",
    "class First: \n",
    "    pass\n",
    "\n",
    "@entscheidung\n",
    "class Second:\n",
    "    pass\n",
    "\n",
    "\n",
    "help(Second)\n",
    "test1 = First()\n",
    "print(test1.meine_methode(3))\n",
    "test2 = Second()\n",
    "print(test2.meine_methode(4))"
   ]
  },
  {
   "cell_type": "markdown",
   "metadata": {},
   "source": [
    "Wir produzieren jetzt unsere erste eigene Metaklasse. Die Namen im Beispiel sind natürlich frei. Wir erzeugen sie, indem wir in den Klassenkopf metaclass= und dann den Namen der Metaklasse schreiben. Die Metaklasse muß von type erben. Wir sehen, daß sowohl die Klasse, die die Metaklasse aufruft als auch ihre Unterklassen vom typ Metaklasse sind."
   ]
  },
  {
   "cell_type": "code",
   "execution_count": 153,
   "metadata": {},
   "outputs": [
    {
     "name": "stdout",
     "output_type": "stream",
     "text": [
      "<class 'type'>\n",
      "<class '__main__.Metaklasse'>\n",
      "<class '__main__.Metaklasse'>\n"
     ]
    }
   ],
   "source": [
    "class Metaklasse(type):\n",
    "    pass\n",
    "\n",
    "class Klasse (metaclass=Metaklasse):\n",
    "    pass\n",
    "\n",
    "class Unterklasse (Klasse):\n",
    "    pass\n",
    "\n",
    "print(type(Metaklasse))\n",
    "print(type(Klasse))\n",
    "print(type(Unterklasse))"
   ]
  },
  {
   "cell_type": "markdown",
   "metadata": {},
   "source": [
    "Machen wir nun eine Version, die in der Metaklasse etwas bewirkt. Wir haben hier eine Metaklasse mit ihrer ```__new__()``` Methode. Diese erzeugt dynamisch die Klasse mit Namen, der(den) Oberklasse(n) und dem Attributedict. Diese neue Klasse wird zurückgegeben indem ```__new__()``` von type aufgerufen wird mit den genannten Parametern. Sobald unser Skript läuft, wird auf die Metaklasse umgelenkt. Diese gibt dann die darin erzeugte Klasse zurück."
   ]
  },
  {
   "cell_type": "code",
   "execution_count": 154,
   "metadata": {},
   "outputs": [
    {
     "name": "stdout",
     "output_type": "stream",
     "text": [
      "Name:  A\n",
      "Oberklassen:  (<class '__main__.B'>,)\n",
      "Attributedict:  {'__module__': '__main__', '__qualname__': 'A'}\n",
      "new von Die_Metaklasse aufgerufen mit A\n",
      "====================================================================================================\n",
      " A ist: <class '__main__.A'>,Typ von A ist: <class '__main__.Die_Metaklasse'> !!!!!!\n",
      "====================================================================================================\n",
      " B ist: <class '__main__.B'>,Typ von A ist: <class 'type'> !!!!!!\n",
      "****************************************************************************************************\n",
      "<class '__main__.B'>\n"
     ]
    }
   ],
   "source": [
    "class Die_Metaklasse(type):\n",
    "    def __new__(cls, Name, Oberklassen, Attributedict):\n",
    "        print(\"Name: \", Name)\n",
    "        print(\"Oberklassen: \", Oberklassen)\n",
    "        print(\"Attributedict: \", Attributedict)\n",
    "        print(f\"new von Die_Metaklasse aufgerufen mit {Name}\")\n",
    "        print(100*\"=\")\n",
    "        return type.__new__(cls, Name, Oberklassen, Attributedict) #gibt die Klasse zurück\n",
    "\n",
    "\n",
    "class B:\n",
    "    pass\n",
    "\n",
    "\n",
    "class A(B, metaclass=Die_Metaklasse): # Verbindung mit LittleMeta wird erstellt ohne Aufruf von A\n",
    "    pass\n",
    "    \n",
    "\n",
    "\n",
    "\n",
    "print(f\" A ist: {A},Typ von A ist: {type(A)} !!!!!!\") #\"Nicht call A sondern call LittleMeta!!\"\n",
    "print(100*\"=\")\n",
    "print(f\" B ist: {B},Typ von A ist: {type(B)} !!!!!!\")\n",
    "print(100*\"*\")\n",
    "x=B()\n",
    "print(type(x))"
   ]
  },
  {
   "cell_type": "markdown",
   "metadata": {},
   "source": [
    "Was passiert hier? Wir sehen, daß ```__new__``` der Metaklasse für A aufgerufen wurde. Für B hingegen wurde dieselbe Anweisung von type benutzt, wie dies ja immer geschieht, wenn keine Metaklasse vorliegt. Der Name der Klasse, Oberklasseninfo und ein Attributedict werden automatisch übergeben, bzw. erzeugt. Wir werden nun mit einer Metaklasse ein Attribut übergeben je nach Ausfall einer flag. Die Klasse (First oder Second) wird in der Metaclass Entscheidung erzeugt. Dann wird der aufrufenden Klasse ein Attribut hinzugefügt."
   ]
  },
  {
   "cell_type": "code",
   "execution_count": 155,
   "metadata": {},
   "outputs": [
    {
     "name": "stdout",
     "output_type": "stream",
     "text": [
      "Soll die Klasse methode1 oder methode2 enthalten? Bitte 1 oder 2 eingeben: 1\n",
      "clsname: First superclasses: () attributedict: {'__module__': '__main__', '__qualname__': 'First'}\n",
      "clsname: Second superclasses: () attributedict: {'__module__': '__main__', '__qualname__': 'Second'}\n",
      "<class '__main__.First'>\n",
      "Attribute1\n",
      "Attribute1\n",
      "Attribute1\n"
     ]
    }
   ],
   "source": [
    "flag=int(input(\"Soll die Klasse methode1 oder methode2 enthalten? Bitte 1 oder 2 eingeben: \"))\n",
    "\n",
    "\n",
    "Attr1=\"Attribute1\"\n",
    "Attr2=\"Attribute2\"\n",
    "\n",
    "class Entscheidung(type):\n",
    "    \n",
    "    \n",
    "    def __init__(cls, clsname, superclasses, attributedict):\n",
    "        if flag==1:\n",
    "            mein_Attribute=Attr1\n",
    "        else:        \n",
    "            mein_Attribute=Attr2\n",
    "        \n",
    "        print(f\"clsname: {clsname} superclasses: {superclasses} attributedict: {attributedict}\")\n",
    "        cls.mein_Attr = mein_Attribute\n",
    "    \n",
    "\n",
    "    \n",
    "\n",
    "\n",
    "class First(metaclass=Entscheidung): \n",
    "    pass\n",
    "\n",
    "\n",
    "class Second(metaclass=Entscheidung):\n",
    "    pass\n",
    "\n",
    "\n",
    "\n",
    "test1 = First()\n",
    "test2 = First()\n",
    "print(type(test1))\n",
    "print(test1.mein_Attr)\n",
    "print(test2.mein_Attr)\n",
    "test3 = Second()\n",
    "print(test3.mein_Attr)\n",
    "\n"
   ]
  },
  {
   "cell_type": "markdown",
   "metadata": {},
   "source": [
    "Nun erzeugen wir dynamisch eine Methode nach Auswahl."
   ]
  },
  {
   "cell_type": "code",
   "execution_count": 156,
   "metadata": {},
   "outputs": [
    {
     "name": "stdout",
     "output_type": "stream",
     "text": [
      "Soll die Klasse methode1 oder methode2 enthalten? Bitte 1 oder 2 eingeben: 1\n",
      "clsname: First superclasses: () attributedict: {'__module__': '__main__', '__qualname__': 'First'}\n",
      "clsname: Second superclasses: () attributedict: {'__module__': '__main__', '__qualname__': 'Second'}\n",
      "9\n",
      "16\n"
     ]
    }
   ],
   "source": [
    "flag=int(input(\"Soll die Klasse methode1 oder methode2 enthalten? Bitte 1 oder 2 eingeben: \"))\n",
    "\n",
    "def methode1(self,wert):\n",
    "    return wert**2\n",
    "\n",
    "def methode2(self,wert):\n",
    "    return wert*2\n",
    "\n",
    "class Entscheidung(type):\n",
    "    \n",
    "    \n",
    "    def __init__(cls, clsname, superclasses, attributedict):\n",
    "        if flag==1:\n",
    "            meine_methode=methode1\n",
    "        else:        \n",
    "            meine_methode=methode2\n",
    "        \n",
    "        print(f\"clsname: {clsname} superclasses: {superclasses} attributedict: {attributedict}\")\n",
    "        cls.meine_methode = meine_methode\n",
    "    \n",
    "\n",
    "    \n",
    "\n",
    "\n",
    "class First(metaclass=Entscheidung): \n",
    "    pass\n",
    "\n",
    "\n",
    "class Second(metaclass=Entscheidung):\n",
    "    pass\n",
    "\n",
    "\n",
    "\n",
    "test1 = First()\n",
    "print(test1.meine_methode(3))\n",
    "test2 = Second()\n",
    "print(test2.meine_methode(4))"
   ]
  },
  {
   "cell_type": "markdown",
   "metadata": {},
   "source": [
    "Nachdem wir gesehen haben, daß wir mit Metaklassen Attribute und Methoden dynamisch erzeugen können, zeigen wir jetzt, wie wir ein Dictionary aller im Skript beteiligten Klassen (Ober- und Unterklassen) anlegen können."
   ]
  },
  {
   "cell_type": "code",
   "execution_count": 157,
   "metadata": {},
   "outputs": [
    {
     "name": "stdout",
     "output_type": "stream",
     "text": [
      "{'Grundklasse': <class '__main__.Grundklasse'>, 'A': <class '__main__.A'>, 'B': <class '__main__.B'>}\n"
     ]
    }
   ],
   "source": [
    "alle_klassen = {}\n",
    "\n",
    "class eine_Metaklasse(type):\n",
    "    def __new__(meta, name, bases, attrs):\n",
    "        alle_klassen[name] = cls = type.__new__(meta, name, bases, attrs)\n",
    "        return cls\n",
    "\n",
    "class Grundklasse(metaclass = eine_Metaklasse):\n",
    "    pass\n",
    "#Alle Klassen nebst Subklassen sind im dict registriert\n",
    "\n",
    "class A(Grundklasse):\n",
    "    pass\n",
    "\n",
    "class B(A):\n",
    "    pass\n",
    "\n",
    "print (alle_klassen)"
   ]
  },
  {
   "cell_type": "markdown",
   "metadata": {},
   "source": [
    "Wir wollen nun eine Konstruktion machen, die es in einer Klasse nur einmal erlaubt, eine Instanz anzulegen. Ein sogenannte Singleton Klasse."
   ]
  },
  {
   "cell_type": "code",
   "execution_count": 158,
   "metadata": {},
   "outputs": [
    {
     "name": "stdout",
     "output_type": "stream",
     "text": [
      "<__main__.Singleton_class object at 0x0000020D0F26EEB0>\n",
      "True\n"
     ]
    }
   ],
   "source": [
    "class Singleton_class:\n",
    "    instance = None\n",
    "\n",
    "    def hello(self):\n",
    "        print(\"Hello!\")\n",
    "\n",
    "\n",
    "def Singleton_fun():\n",
    "    if Singleton_class.instance is None:\n",
    "        Singleton_class.instance = Singleton_class()\n",
    "    return Singleton_class.instance\n",
    "\n",
    "\n",
    "\n",
    "s1 = Singleton_fun()\n",
    "s2 = Singleton_fun()\n",
    "print(s1)\n",
    "print( s1 is s2 )"
   ]
  },
  {
   "cell_type": "markdown",
   "metadata": {},
   "source": [
    "Was passiert hier? Wir haben eine Singleton_class Klasse und eine Singleton_fun Funktion.\n",
    "Die Funktion liefert eine Instanz der Singleton_class Klasse zurück. In der Funktion wir getestet, ob in der Klassenvariablen instances schon eine Instanz abgelegt ist. Wenn ja wir diese Instanz zurückgegeben, wenn nein, beim ersten Mal eine Instanz angelegt."
   ]
  },
  {
   "cell_type": "markdown",
   "metadata": {},
   "source": [
    "Das gleiche machen wir jetzt mit einer Metaklasse."
   ]
  },
  {
   "cell_type": "code",
   "execution_count": 159,
   "metadata": {},
   "outputs": [
    {
     "name": "stdout",
     "output_type": "stream",
     "text": [
      "wurde gecallt mit Test\n",
      "Test ist vom Typ: <class '__main__.Singletone'> wegen der Metaklasse\n",
      "Inst0 is of type: <class '__main__.Test'>\n",
      "wurde gecallt mit Test\n",
      "wurde gecallt mit Test\n",
      "inst0.name ist weiterhin bla\n",
      "True\n",
      "inst1.name wurde auch nicht verändert und ist bla\n"
     ]
    }
   ],
   "source": [
    "class Singletone(type):\n",
    "    instances = None\n",
    "    \n",
    "    def __call__(cls,name=\"kein Name\"):\n",
    "        print(f\"wurde gecallt mit {cls.__name__}\") \n",
    "        if  Singletone.instances == None:\n",
    "            Singletone.instances = type.__call__(cls,name) \n",
    "                       \n",
    "        return Singletone.instances\n",
    "\n",
    "\n",
    "class Test(metaclass=Singletone):\n",
    "    def __init__(self,name):\n",
    "        self.name=name\n",
    "        \n",
    "inst0 = Test(\"bla\") #ruft Singleton mit name=\"bla\" auf\n",
    "print(f\"Test ist vom Typ: {type(Test)} wegen der Metaklasse\")\n",
    "print(f\"Inst0 is of type: {type(inst0)}\")\n",
    "inst1 = Test(\"foo\") #Versuch eine neue Instanz zu machen\n",
    "inst0 = Test(\"foo\") #Versuch das Attribut namen zu ändern\n",
    "print(f\"inst0.name ist weiterhin {inst0.name}\")\n",
    "print(id(inst1) == id(inst0)) #inst0 und inst1 verweisen auf die erste angelegte Instanz als zwei Verweise\n",
    "print(f\"inst1.name wurde auch nicht verändert und ist {inst1.name}\")"
   ]
  },
  {
   "cell_type": "markdown",
   "metadata": {},
   "source": [
    "Wir haben die Metaklasse Singleton. Diese ist callbar durch ```__call__```. Machen wir eine Instanz von Test, wird Singleton aufgerufen mit dem entsprechenden Parameter, wenn er existiert. Im call von Singleton wird der Name der aufrufenden Klasse (Test) erwartet sowie deren Attribut name. Es iwrd dann geprüft, ob instances von Singleton None ist. Dies ist beim ersten Aufruf der Fall. Wenn dies der Fall ist, wird über einen Aufruf der Klasse type mit den Parametern \"Test\" für den Klassennamen und dem Wert des Attributs \"namen\" eine Instanz von Test angelegt und in Singleton.instances abgelegt. Diese Instanz wird dann zurückgegeben. Ist Singleton.instances dagegen nicht mehr None, wird die schon gespeicherte Instanz wieder zurückgegeben. Man kannalso nur einmal eine Instanz anlegen."
   ]
  },
  {
   "cell_type": "markdown",
   "metadata": {},
   "source": [
    "Nachdem wir nun das etwas esoterische Kapitel Metaklassen bearbeitet haben, und einige prinzipielle Anwendungen gezeigt haben, werden wir uns jetzt zur Erholung mit Slots beschäftigen. "
   ]
  }
 ],
 "metadata": {
  "kernelspec": {
   "display_name": "Python 3",
   "language": "python",
   "name": "python3"
  },
  "language_info": {
   "codemirror_mode": {
    "name": "ipython",
    "version": 3
   },
   "file_extension": ".py",
   "mimetype": "text/x-python",
   "name": "python",
   "nbconvert_exporter": "python",
   "pygments_lexer": "ipython3",
   "version": "3.8.5"
  }
 },
 "nbformat": 4,
 "nbformat_minor": 4
}
