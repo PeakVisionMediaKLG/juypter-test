{
 "cells": [
  {
   "cell_type": "markdown",
   "metadata": {},
   "source": [
    "# Slots\n",
    "<img width=400 src=\"Images/Slot.png\" />"
   ]
  },
  {
   "cell_type": "markdown",
   "metadata": {},
   "source": [
    "Nun zu einem kurzen Kapitel über sogenannte Slots. Mit Hilfe dieser Konstruktion können wir die dynamische Erstellung von Klassenattributen verhindern. Wir hatten dies am Anfang des Kurses bereits als sehr unschöne Taktik beschrieben. Attribute sollten über die ```__init__()``` Methode zugeordnet werden, um Inkosistenzen zu vermeiden. Aber selbst in Klassen, deren Zugang über Properties und entsprechenden Schutz der Methoden gut abgesichert ist, kann Folgendes natürlich passieren:"
   ]
  },
  {
   "cell_type": "code",
   "execution_count": 44,
   "metadata": {},
   "outputs": [
    {
     "name": "stdout",
     "output_type": "stream",
     "text": [
      "100\n",
      "bla\n"
     ]
    }
   ],
   "source": [
    "class Myclass:\n",
    "\n",
    "    def __init__(self, num):\n",
    "        self.number=num #sofortige Umleitung in den setter!!\n",
    "    \n",
    "    @property #markiert number() als getter für __number\n",
    "    def number(self): \n",
    "        #hier Code zum Manipulieren des Zugriffs. z.B. \"Geben Sie Passwort ein\"\n",
    "        return self.__number\n",
    "    \n",
    "    @number.setter #markiert number() als setter für __number\n",
    "    def number(self, number):        \n",
    "        if number < 0:\n",
    "            self.__number = 0\n",
    "        elif number > 100:\n",
    "            self.__number = 100\n",
    "        else:\n",
    "            self.__number = number\n",
    "\n",
    "x= Myclass(110)  \n",
    "print(x.number)\n",
    "x.mein_neues_attribut=\"bla\"\n",
    "print(x.mein_neues_attribut)"
   ]
  },
  {
   "cell_type": "markdown",
   "metadata": {},
   "source": [
    "Im Dict der Instanz haben wir jetzt das Attribut ebenfalls eingetragen. "
   ]
  },
  {
   "cell_type": "code",
   "execution_count": 45,
   "metadata": {},
   "outputs": [
    {
     "data": {
      "text/plain": [
       "{'_Myclass__number': 100, 'mein_neues_attribut': 'bla'}"
      ]
     },
     "execution_count": 45,
     "metadata": {},
     "output_type": "execute_result"
    }
   ],
   "source": [
    "x.__dict__"
   ]
  },
  {
   "cell_type": "markdown",
   "metadata": {},
   "source": [
    "Wollen wir den Wert des Attributs sehen, geht dies auch so:"
   ]
  },
  {
   "cell_type": "code",
   "execution_count": 46,
   "metadata": {},
   "outputs": [
    {
     "data": {
      "text/plain": [
       "'bla'"
      ]
     },
     "execution_count": 46,
     "metadata": {},
     "output_type": "execute_result"
    }
   ],
   "source": [
    "x.__dict__['mein_neues_attribut']"
   ]
  },
  {
   "cell_type": "markdown",
   "metadata": {},
   "source": [
    "Die dynamische Attributzuordnung ist aber, wie gezeigt,  nicht für alle Objekte möglich."
   ]
  },
  {
   "cell_type": "code",
   "execution_count": 47,
   "metadata": {},
   "outputs": [],
   "source": [
    "a=3\n",
    "# a.anfangswert=5 #macht Fehler\n",
    "my_list=[1,2,3]\n",
    "# my_list.attr=\"Schöne Liste\" #macht Fehler\n",
    "Myclass.creator=\"Ich\" # das geht\n",
    "def foo():\n",
    "    pass\n",
    "foo.counter=0 #das geht\n",
    "my_dict={}\n",
    "# my_dict.attr=3 #macht Fehler"
   ]
  },
  {
   "cell_type": "markdown",
   "metadata": {},
   "source": [
    "Das Verhindern des dynamischen Erzeugens von Attributen stellt einen bedeutenden Sicherheitsaspekt dar. Wie helfen hier slots?"
   ]
  },
  {
   "cell_type": "code",
   "execution_count": 48,
   "metadata": {},
   "outputs": [
    {
     "name": "stdout",
     "output_type": "stream",
     "text": [
      "Hubert\n",
      "Karl\n"
     ]
    }
   ],
   "source": [
    "class Person:\n",
    "    __slots__ = 'name','nachname'\n",
    "    def __init__(self, name):\n",
    "        self.name = name\n",
    "        # self.bla=\"bla\" #macht fehler 'Person' object has no attribute 'bla'\n",
    "\n",
    "inst=Person(\"Hubert\")\n",
    "print(inst.name)\n",
    "inst.name = \"Karl\"\n",
    "print(inst.name)\n",
    "# inst.geb_datum=\"24.05.2000\" #macht Fehler 'Person' object has no attribute 'geb_datum'\n",
    "inst.nachname = \"Müller\" #kein Problem"
   ]
  },
  {
   "cell_type": "markdown",
   "metadata": {},
   "source": [
    "Wie wir sehen, legt ```__slots__``` am Beginn der Klasse fest, welches die erlaubten Attribute sind, nur diese können bearbeitet werden. Das gilt, wie oben zu sehen auch für die ```__init__()```. Das <b>Klassen-Dict</b> spiegelt den Zustand, daß wir jetzt slots verwendet haben. Wir finden darin unter ```__slots__``` die erlaubten Attribute aufgelistet. Auch für die Instanz können wir uns mit ```__slots``` die erlaubten Attribute ausgeben lassen. Ein dict hat aber die Instanz jetzt nicht mehr, konsequenterweise wird dies auch als Attribut angesehen und ist somit nicht erlaubt."
   ]
  },
  {
   "cell_type": "code",
   "execution_count": 49,
   "metadata": {},
   "outputs": [
    {
     "name": "stdout",
     "output_type": "stream",
     "text": [
      "{'__module__': '__main__', '__slots__': ('name', 'nachname'), '__init__': <function Person.__init__ at 0x00000259F8F834C0>, 'nachname': <member 'nachname' of 'Person' objects>, 'name': <member 'name' of 'Person' objects>, '__doc__': None}\n",
      "____________________________________________________________________________________________________\n",
      "('name', 'nachname')\n"
     ]
    }
   ],
   "source": [
    "print(Person.__dict__)\n",
    "print(100*\"_\")\n",
    "print(inst.__slots__)\n",
    "# print(inst.__dict__) #macht Fehler 'Person' object has no attribute '__dict__'\n"
   ]
  },
  {
   "cell_type": "markdown",
   "metadata": {},
   "source": [
    "Was passiert bei Vererbung? Die Unterklasse kümmert sich nicht um die slots der Oberklasse!"
   ]
  },
  {
   "cell_type": "code",
   "execution_count": 50,
   "metadata": {},
   "outputs": [
    {
     "name": "stdout",
     "output_type": "stream",
     "text": [
      "{'meal': 'Maus'}\n",
      "{'meal': 'Maus', 'new_attr': 'maumau'}\n"
     ]
    }
   ],
   "source": [
    "class Animals:\n",
    "    __slots__ = 'alter', 'art'\n",
    "    def __init__(self, age, species):\n",
    "        self.alter = age\n",
    "        self.art = species\n",
    "\n",
    "class Katzen(Animals):\n",
    "    def __init__(self, age, name, meal):\n",
    "        super(Katzen, self).__init__(age, name)\n",
    "        self.meal = meal\n",
    "        \n",
    "me = Katzen(35, 'Violetta', 'Maus')\n",
    "print(me.__dict__)\n",
    "me.new_attr = \"maumau\"\n",
    "print(me.__dict__)"
   ]
  },
  {
   "cell_type": "markdown",
   "metadata": {},
   "source": [
    "Umgekehrt, wenn nur die Unterklasse slots hat, genauso. Nur wenn beide ihre slots haben, kann man nicht mehr dynamische Attribute erzeugen."
   ]
  },
  {
   "cell_type": "code",
   "execution_count": 51,
   "metadata": {},
   "outputs": [
    {
     "name": "stdout",
     "output_type": "stream",
     "text": [
      "{'alter': 35, 'art': 'Violetta'}\n",
      "{'alter': 35, 'art': 'Violetta', 'new_attr': 'maumau'}\n"
     ]
    }
   ],
   "source": [
    "class Animals:    \n",
    "    def __init__(self, age, species):\n",
    "        self.alter = age\n",
    "        self.art = species\n",
    "\n",
    "class Katzen(Animals):\n",
    "    __slots__ = 'meal'\n",
    "    def __init__(self, age, name, meal):\n",
    "        super(Katzen, self).__init__(age, name)\n",
    "        self.meal = meal\n",
    "        \n",
    "me = Katzen(35, 'Violetta', 'Maus')\n",
    "print(me.__dict__)\n",
    "me.new_attr = \"maumau\"\n",
    "print(me.__dict__)"
   ]
  },
  {
   "cell_type": "markdown",
   "metadata": {},
   "source": [
    "Einige Schlussbemerkungen:<br>\n",
    "Fraglos sind slots eine Hilfe zum Schutz der Klassen. Aber bei Klassen, die noch in Arbeit sind und viele Attribute haben, muß man die Verwaltung der slots ins Kalkül nehmen, die ja auch einen Aufwand darstellt.<br>\n",
    "Ein bedeutender Vorteil bezüglich Ausführungsgeschwindigkeit und Speicherbedarf ist nicht zu erwarten.<br>\n",
    "Der schlimmste Fehler für den User, der den Namen eines Attributs verwechseln könnte und dann das eigentlich gewünschte Attribut nicht angpasst , aber darüber auch keine Fehlermeldung bekommt, ist aber sicher vermieden:\n"
   ]
  },
  {
   "cell_type": "code",
   "execution_count": 52,
   "metadata": {},
   "outputs": [
    {
     "name": "stdout",
     "output_type": "stream",
     "text": [
      "Hubert\n",
      "Hubert\n"
     ]
    }
   ],
   "source": [
    "#ohne Slots\n",
    "class Person:\n",
    "    \n",
    "    def __init__(self, name):\n",
    "        self.name = name\n",
    "        # self.bla=\"bla\" #macht fehler 'Person' object has no attribute 'bla'\n",
    "\n",
    "inst=Person(\"Hubert\")\n",
    "print(inst.name)\n",
    "inst.nname = \"Karl\"\n",
    "print(inst.name)\n",
    "# Schreibfehler mit nname, name wird nicht angepasst! Keine Fehlermeldung"
   ]
  },
  {
   "cell_type": "code",
   "execution_count": 53,
   "metadata": {},
   "outputs": [
    {
     "name": "stdout",
     "output_type": "stream",
     "text": [
      "Hubert\n"
     ]
    }
   ],
   "source": [
    "#mit Slots\n",
    "class Person:\n",
    "    __slots__ = 'name','nachname'\n",
    "    def __init__(self, name):\n",
    "        self.name = name\n",
    "        # self.bla=\"bla\" #macht fehler 'Person' object has no attribute 'bla'\n",
    "\n",
    "inst=Person(\"Hubert\")\n",
    "print(inst.name)\n",
    "# inst.nname = \"Karl\" #macht Fehler 'Person' object has no attribute 'nname'\n"
   ]
  },
  {
   "cell_type": "markdown",
   "metadata": {},
   "source": [
    "Nun zu abstrakten Klassen und ihre Benutzung."
   ]
  }
 ],
 "metadata": {
  "kernelspec": {
   "display_name": "Python 3",
   "language": "python",
   "name": "python3"
  },
  "language_info": {
   "codemirror_mode": {
    "name": "ipython",
    "version": 3
   },
   "file_extension": ".py",
   "mimetype": "text/x-python",
   "name": "python",
   "nbconvert_exporter": "python",
   "pygments_lexer": "ipython3",
   "version": "3.8.5"
  }
 },
 "nbformat": 4,
 "nbformat_minor": 4
}
