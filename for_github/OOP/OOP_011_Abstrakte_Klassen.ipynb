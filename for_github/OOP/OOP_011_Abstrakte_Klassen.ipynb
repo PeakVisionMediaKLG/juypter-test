{
 "cells": [
  {
   "cell_type": "markdown",
   "metadata": {},
   "source": [
    "# Abstrakte Klassen\n",
    "<br><br><img width=400 src=\"Images/abstract.jpg\" />"
   ]
  },
  {
   "cell_type": "markdown",
   "metadata": {},
   "source": [
    "Abstrakte Klassen stellen Klassen dar, die man als generelle Baupläne für andere Klassen ansehen kann. Sie selber können nicht ausgeführt werden und auch keine Instanzen haben, aber sie schreiben anderen Klassen, <b>die Unterklassen von ihnen sind,</b> eine bestimmte Struktur vor. Solche Kinderklassen müssen die in der abstrakten Klasse definierten (leeren) Methoden implementieren. Wir finden in der abstrakten Klasse nur die Methodendeklaration, aber keinen Methodenbody. In Python muß man, um mit abstrakten Klassen arbeiten zu könnnen das Modul abc importieren. Ein Beispiel:"
   ]
  },
  {
   "cell_type": "code",
   "execution_count": 17,
   "metadata": {},
   "outputs": [
    {
     "name": "stdout",
     "output_type": "stream",
     "text": [
      "4 Räder\n",
      "2 Räder\n",
      "kein Rad\n",
      "3 Räder\n"
     ]
    }
   ],
   "source": [
    "from abc import ABC, abstractmethod\n",
    " \n",
    "class Fahrzeuge(ABC):\n",
    " \n",
    "    @abstractmethod\n",
    "    def n_räder(self):\n",
    "        pass\n",
    " \n",
    "class Auto(Fahrzeuge):\n",
    " \n",
    "    # abstrakte Methode wird überschrieben\n",
    "    def n_räder(self):\n",
    "        print(\"4 Räder\")\n",
    " \n",
    "class Motorrad(Fahrzeuge):\n",
    " \n",
    "    # abstrakte Methode wird überschrieben\n",
    "    def n_räder(self):\n",
    "        print(\"2 Räder\")\n",
    " \n",
    "class Boot(Fahrzeuge):\n",
    " \n",
    "    # abstrakte Methode wird überschrieben\n",
    "    def n_räder(self):\n",
    "        print(\"kein Rad\")\n",
    " \n",
    "class Dreirad(Fahrzeuge):\n",
    " \n",
    "    # abstrakte Methode wird überschrieben\n",
    "    def n_räder(self):\n",
    "        print(\"3 Räder\")\n",
    " \n",
    "\n",
    "inst1= Auto()\n",
    "inst1.n_räder()\n",
    " \n",
    "inst1= Motorrad()\n",
    "inst1.n_räder()\n",
    " \n",
    "inst1= Boot()\n",
    "inst1.n_räder()\n",
    "\n",
    "inst1= Dreirad()\n",
    "inst1.n_räder()"
   ]
  },
  {
   "cell_type": "markdown",
   "metadata": {},
   "source": [
    "Wir sehen, daß nach importieren von abc die Klasse \"Fahrzeug\" als abstrakte Klasse zur Verfügung steht (sie erbt von ABC). Die Methode n_räder() in der abstrakten Basisklasse Fahrzeuge ist mit ihrem Header beschrieben, einen body hat sie nicht und es wird auch nichts zurückgegeben. <b>Alle Klassen, die von Fahrzeuge erben, müssen die mit abstractmethod dekorierten Methode(n) der Basisklasse aufweisen, sonst entsteht eine Exception, wenn man versucht eine Instanz in der Unterklasse zu erzeugen."
   ]
  },
  {
   "cell_type": "code",
   "execution_count": 2,
   "metadata": {},
   "outputs": [
    {
     "name": "stdout",
     "output_type": "stream",
     "text": [
      "4 Räder\n",
      "2 Räder\n",
      "kein Rad\n"
     ]
    }
   ],
   "source": [
    "from abc import ABC, abstractmethod\n",
    " \n",
    "class Fahrzeuge(ABC):\n",
    "    \n",
    "    @abstractmethod\n",
    "    def n_räder(self):\n",
    "        pass\n",
    " \n",
    "class Auto(Fahrzeuge):\n",
    " \n",
    "    # abstrakte Methode wird überschrieben\n",
    "    def n_räder(self):\n",
    "        print(\"4 Räder\")\n",
    " \n",
    "class Motorrad(Fahrzeuge):\n",
    " \n",
    "    # abstrakte Methode wird überschrieben\n",
    "    def n_räder(self):\n",
    "        print(\"2 Räder\")\n",
    " \n",
    "class Boot(Fahrzeuge):\n",
    " \n",
    "    # abstrakte Methode wird überschrieben\n",
    "    def n_räder(self):\n",
    "        print(\"kein Rad\")\n",
    " \n",
    "class Dreirad(Fahrzeuge):\n",
    "    \n",
    "    # abstrakte Methode wird überschrieben\n",
    "    def n_räder(self):\n",
    "        print(\"3 Räder\")\n",
    " \n",
    " \n",
    "\n",
    "inst1= Auto()\n",
    "inst1.n_räder()\n",
    " \n",
    "inst1= Motorrad()\n",
    "inst1.n_räder()\n",
    " \n",
    "inst1= Boot()\n",
    "inst1.n_räder()\n",
    "\n",
    "#inst1= Dreirad() macht Fehler:Can't instantiate abstract class Dreirad with abstract methods n_räder\n",
    "#inst1.n_räder()"
   ]
  },
  {
   "cell_type": "markdown",
   "metadata": {},
   "source": [
    "Dies gilt nur für die <b>dekorierte(n)</b> Methode(n) in der Basisklasse. Natürlich können die Unterklassen auchzusätzliche Methoden haben. Auch wenn die Methode in der Basisklasse ausgeführt ist, also auch einen Methodenkörper hat, muß trozdem jede Unterklasse diese Methode implementieren. Außerdem kann die Parametrisierung der Methode in den verschiedenen Unterklassen sich unterscheiden (s.u. Motorrad),<b> der Name der Methode muß aber übereinstimmen.</b> Dies schmälert etwas den Nutzen, da man sich nicht darauf verlassen kann, daß das Interface bezüglich der vorgeschriebenen Methoden wirklich identisch ist.\n"
   ]
  },
  {
   "cell_type": "code",
   "execution_count": 8,
   "metadata": {},
   "outputs": [
    {
     "name": "stdout",
     "output_type": "stream",
     "text": [
      "4 Räder\n",
      "viele Fahrzeuge haben Räder!\n",
      "2 Räder\n",
      "kein Rad\n",
      "kein Rad\n",
      "hello\n",
      "Dreieck\n"
     ]
    }
   ],
   "source": [
    "from abc import ABC, abstractmethod\n",
    " \n",
    "class Fahrzeuge(ABC):\n",
    "    \n",
    "    def say_hello(self):\n",
    "        print(\"hello\")\n",
    " \n",
    " \n",
    "#     @abstractmethod\n",
    "#     def n_räder(self):\n",
    "#         pass\n",
    "\n",
    "    @abstractmethod\n",
    "    def n_räder(self):\n",
    "        print(\"viele Fahrzeuge haben Räder!\") #Trotzdem in jeder Unterklasse def n_räder nötig\n",
    "\n",
    "class Auto(Fahrzeuge):\n",
    " \n",
    "    # abstrakte Methode wird überschrieben\n",
    "    def n_räder(self):\n",
    "        print(\"4 Räder\")\n",
    " \n",
    "class Motorrad(Fahrzeuge):\n",
    " \n",
    "    # abstrakte Methode wird überschrieben\n",
    "    def n_räder(self,number): # Die Parameteranzahl kann unterschiedlich sein\n",
    "        print(\"2 Räder\")\n",
    " \n",
    "class Boot(Fahrzeuge):\n",
    " \n",
    "    # abstrakte Methode wird überschrieben\n",
    "    def n_räder(self):\n",
    "        print(\"kein Rad\")\n",
    " \n",
    "class Dreirad(Fahrzeuge):\n",
    "    # abstrakte Methode wird überschrieben\n",
    "    def n_räder(self):\n",
    "        print(\"kein Rad\")\n",
    "        \n",
    "    def dreirad_methode(self):\n",
    "        print(\"Dreieck\")\n",
    " \n",
    "\n",
    "\n",
    "inst1= Auto()\n",
    "inst1.n_räder()\n",
    "\n",
    "Fahrzeuge.n_räder(inst1) #Methode der Basisklasse mit Instanz der Unterklasse, abstrakte Klasse kann keine Instanz haben\n",
    " \n",
    "inst1= Motorrad()\n",
    "inst1.n_räder(2)\n",
    " \n",
    "inst1= Boot()\n",
    "inst1.n_räder()\n",
    "\n",
    "inst1= Dreirad() \n",
    "inst1.n_räder()\n",
    "\n",
    "inst1.say_hello()\n",
    "inst1.dreirad_methode()"
   ]
  },
  {
   "cell_type": "markdown",
   "metadata": {},
   "source": [
    "Wozu das Ganze? Wenn man eine Abstract Klasse definiert, legt man eine minimal einheitliche Struktur für die davon abgeleiteten Klassen fest. Arbeitet man in großen Teams, ist so sichergestellt, daß die Minimalanforderungen an die von der Baseklasse abgeleiteten Klassen erfüllt sind. Benutzt man sie bei großen Projekten nicht, besteht immer die Möglichkeit, daß man über die abgeleiteten Klassen den Überblick verliert und bei der Vorstellung, daß alle abgeleiteten Klassen das gleiche minimal Interface haben, danebenliegt. Dies hat z.B. dann die Folge, daß die Methode der Basisklasse evetuell nicht wie erwartet überschrieben ist, sondern fälschlich auch für die abgeleitete Klasse verwendet wird, wo diese Methode versehentlich nicht implementiert wurde!"
   ]
  }
 ],
 "metadata": {
  "kernelspec": {
   "display_name": "Python 3 (ipykernel)",
   "language": "python",
   "name": "python3"
  },
  "language_info": {
   "codemirror_mode": {
    "name": "ipython",
    "version": 3
   },
   "file_extension": ".py",
   "mimetype": "text/x-python",
   "name": "python",
   "nbconvert_exporter": "python",
   "pygments_lexer": "ipython3",
   "version": "3.9.12"
  }
 },
 "nbformat": 4,
 "nbformat_minor": 4
}
