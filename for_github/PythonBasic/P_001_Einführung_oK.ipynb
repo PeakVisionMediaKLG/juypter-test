{
 "cells": [
  {
   "cell_type": "markdown",
   "metadata": {},
   "source": [
    "# Einführung in Python<br>\n",
    "<img width=400 src=\"Images/Logo.png\" />\n"
   ]
  },
  {
   "cell_type": "markdown",
   "metadata": {},
   "source": [
    "<br><br>Python ist die bei weitem beliebteste Programmiersprache weltweit.<br> <img width=500 src=\"Images/pypl2022.png\" /><br>Die Verbreitung ist weiter im Wachsen begriffen. Warum ist das so? Hierfür gibt es einige Gründe, und die wichtigsten wollen wir kurz diskutieren:<br>"
   ]
  },
  {
   "cell_type": "markdown",
   "metadata": {},
   "source": [
    "<b>1. Python ist einfach zu lernen und zu benutzen<br></b>\n",
    "Python ist von vornherein als einfach zu benutzende Sprache speziell für Anfänger und Umsteiger entwickelt worden. Die Sprache ist besonders zugänglich, weil sie in ihrer Syntax sehr an die normale Angloamerikanische Sprache angepaßt ist. Der Code kann nach etwas Übung wie ein normaler Text gelesen werden, was die Entwicklung und Wartung von Programmen sehr beschleunigt und insbesondere auch die Zusammenarbeit in Teams erleichtert. Da Python mit obligatorischen Einrückungen arbeitet, um Codeblöcke sichtbar zu machen, wird die Lesbarkeit zusätzlich erleichtert. Dieser Ausschnitt aus einem Programm zeigt diese Einrückungen (sonst müssen wir hier natürlich noch nichts verstehen!) und das die Übersichtlichkeit \"relativ\" zu sehen ist."
   ]
  },
  {
   "cell_type": "code",
   "execution_count": null,
   "metadata": {},
   "outputs": [],
   "source": [
    "while len(to_search)>0:\n",
    "        temp=[to_search[0]]        \n",
    "        while True:\n",
    "            before=len(temp)\n",
    "            for elem in temp[:]:        \n",
    "                neighs=neighbours(*elem,char)                \n",
    "                for a_neigh in neighs:\n",
    "                    if a_neigh in to_search:\n",
    "                        to_search.remove(a_neigh)\n",
    "                    if a_neigh not in temp:\n",
    "                        temp.append(a_neigh)\n",
    "                if elem in to_search:\n",
    "                    to_search.remove(elem)\n",
    "            if len(temp)==before:\n",
    "                break\n",
    "        \n",
    "        all_groups.append(temp)\n",
    "    return all_groups "
   ]
  },
  {
   "cell_type": "markdown",
   "metadata": {},
   "source": [
    "Schon bei der Entwicklung im Jahre 1980 legte der Erfinder Guido van Rossum besonderen Wert auf eine allgemeine Benutzbarkeit der Sprache (general-purpose language). Hier ein Vergleich des \"einfachsten aller Programme\", des \"hello world\"- Programms in Python und in C++ (eine andere sehr wichtige Programmiersprache, die als Basis für große Projekte gilt und relativ maschinennah ist). Das Skript druckt nur \"hello world\" aus und wird traditionell bei Computersprachtutorials als Einstieg verwendet. Der Vergleich der Lesbarkeit ist wohl eindeutig. "
   ]
  },
  {
   "cell_type": "markdown",
   "metadata": {},
   "source": [
    "<b>Python:</b><br>\n",
    "print(\"hello world\")<br>\n",
    "\n",
    "<b>C++:</b><br>\n",
    "#include<br>\n",
    "using namespace std;<br>\n",
    "int main()<br>\n",
    "{<br>\n",
    "cout << \"Hello World!\\n\";<br>\n",
    "return 0;<br>\n",
    "}"
   ]
  },
  {
   "cell_type": "markdown",
   "metadata": {},
   "source": [
    "Dazu kommt, das Python eine interpretierte Sprache ist, die interaktiv verwendet werden kann, das heißt, Programmteile können sehr einfach überprüft werden und es entsteht eine sehr schnelle Rückkopplung mit dem Computer. Unten sehen wir auch ein (sehr einfaches) Beispiel einer solchen interpretierten Sitzung. Auf die Eingabe folgt hier sofort die Ausgabe des Computers, ohne das ein Programm erst geladen, aufgebaut und compiliert werden muß.\n",
    "\n"
   ]
  },
  {
   "cell_type": "code",
   "execution_count": 1,
   "metadata": {},
   "outputs": [
    {
     "data": {
      "text/plain": [
       "10.86"
      ]
     },
     "execution_count": 1,
     "metadata": {},
     "output_type": "execute_result"
    }
   ],
   "source": [
    "6 + 7 - 2.14"
   ]
  },
  {
   "cell_type": "code",
   "execution_count": null,
   "metadata": {},
   "outputs": [],
   "source": [
    "77 / 7 + 14"
   ]
  },
  {
   "cell_type": "markdown",
   "metadata": {},
   "source": [
    "<b>2. Python ist ausgereift und hat eine große Gemeinschaft von Unterstützern</b><br>\n",
    "Vor mehr als 30 Jahren wurde Python erfunden und hat seitdem mehrere Versions-Updates bekommen, zuletzt 2008 als Python 3, dieses hat inzwischen die 10. Unterversion als Python 3.10. Nachdem zunächst Python 2 und 3 nebeneinander existierten, aber nicht voll kompatibel waren, was zu einiger Userkritik führte, findet man heute fast nur noch Python 3 Programme, welches wir auch hier benutzen. (Falls man doch noch einmal mit einem alten Python 2 Programm arbeiten muß, gibt es Hilfsprogramme die Python 2 automatisch in Python 3 überführen, außerdem sind die Unterschiede nicht groß). Die Sprache ist weiter in der Entwicklung, eine große Unterstützerschaft hat sich gebildet von Programmierern aller Könnensstufen. Es gibt eine immense und detaillierte Dokumentation aller Aspekte, eine Vielzahl von Tutorials und Büchern, es ist also relativ einfach, seinen Kenntnisstand kontinuierlich zu verbessern. Bei Problemen gibt es in der Usergemeinschaft online fast immer schnelle Hilfe, dies hilft sehr beim Verkürzen der Entwicklungszeit von Projekten. Daneben wird Python auch im universitären Umfeld immer wichtiger, sodaß viele Studenten damit erste Programmiererfahrungen machen.  <br><br>\n",
    "Kurz zur Geschichte:<br>\n",
    "Der Name \"Python\" wurde nicht im Zusammenhang mit irgendwelchen Reptilien gewählt, sondern vom Erfinder Guido van Rossum (der wohl in aufgeräumter Stimmung war) nach der Britischen Commedy-Gruppe Monthy Python gewählt.<br><br><img width=400 height=400 src=\"Images/montypythonoriginal.webp\"  /> <br> Trotzdem ist überall eine Verbindung mit Schlangen zu sehen, wie im Logo oben und auch in der Benennung von Programmen, die mit Python zu tun haben, wie Anaconda, Cobra...\n"
   ]
  },
  {
   "cell_type": "markdown",
   "metadata": {},
   "source": [
    "<b>3. Python genießt die Unterstützung großer Unternehmen<br></b>\n",
    "Facebook, Amazon und besonders Google (seit 2006) arbeiten viel mit Python und haben sehr viel Geld in Projekte gesteckt, die damit generiert wurden. Dies führte zu einem weiteren Schub von Unterstützung für die Python Plattform."
   ]
  },
  {
   "cell_type": "markdown",
   "metadata": {},
   "source": [
    "<b>4. Für Python wurden inzwischen unglaublich viele wertvolle und meist frei zu nutzende Erweiterungsmodule erstellt</b><br> Es gibt große Bibliotheken, die in eigene Programme sehr einfach einzubinden sind und massiv Entwicklungszeit sparen, da so das Rad nicht zweimal erfunden werden muß. Die wichtigsten sind wahrscheinlich:<br>\n",
    "- NumPy für numerische Anwendungen wie Matrizenmanipulation, Berechnungen von großen Zahlenmengen...\n",
    "- matplotib zum Ausdrucken von Graphen und Illustrationen\n",
    "- sklearn für maschinelles Lernen\n",
    "- SciPy für Anwendungen in der Technik, Wissenschaft und Mathematik\n",
    "- pandas für Arbeiten mit tabellarischen Daten und\n",
    "- Django für Server-seitige Webentwicklung<br><br>\n",
    "Es gibt auch eine lebhafte cloud-Unterstützung."
   ]
  },
  {
   "cell_type": "markdown",
   "metadata": {},
   "source": [
    "<b>5. Python besticht durch Flexibilität und Effektivität bei unterschiedlichsten Programmieraufgaben</b><br>\n",
    "Wie schon erwähnt ist Python immer als \"general-purpose\" Sprache, also für alle möglichen unterschiedlichen Arbeitsfelder geplant gewesen und wird auch so genutzt. Auch unterstützt die Sprache nahtlos viele Plattformen wie Windows, IOS, Unix...<br> Man findet Python bei Web-Apps genauso wie bei der Systemprogrammierung oder für Desktop-Applikationen. Dies wiederum erhöht durch die schiere Anzahl von Anwendungsbeispielen die Erfahrung mit dieser Sprache. Ein leichter Geschwindigkeitsnachteil der an sich interpretierten (s.u.) Sprache wird durch die interne Einbindung von schnelleren C++ -Modulen ausgeglichen.<br>\n",
    "Python gilt zwar als interpretierte Sprache, dies stimmt aber nur zum Teil. Hier zunächst die Charakteristika der beiden Typen von Programmiersprachen:<br>\n",
    "#### Interpretierte vs. Compilierte Sprache<br>\n",
    "- Interpretierte Sprache:<br>\n",
    "    - Eher langsamer, da Zeilenweise gearbeitet wird<br>\n",
    "    - Eher mehr Speicherbedarf, da Programm nicht gesamt optimiert wird<br>\n",
    "    - Interaktiv besonders gut nutzbar<br>\n",
    "    - Einfache Einbindung von Bibliotheken <br><br>\n",
    "- Compilierte Sprache:<br>\n",
    "    - Eher schneller, Gesamtprogramm kann optimiert werden<br>\n",
    "    - Eher weniger Speicherbedarf (s.o.)<br>\n",
    "    - Vor Ausführung Zusatzschritte wie Laden,Binden und Compilieren<br>\n",
    "    - Interaktiv nicht nutzbar, nur komplette Programme laufen\n",
    "<br><br><img width=600 src=\"Images/PythonAblauf.png\" /><br><br>\n",
    "Bei Python wird der Source-Code (mit Datei-Endung .py) zunächst compiliert in Byte-Code (mit Datei-Endung .pyc).\n",
    "    Dieser Byte-Code wird dann von der Python Virtual Machine interpretiert und steht für alle Plattformen als Maschinencode zur Verfügung. <br>\n",
    "<b>Für unsere Zwecke kann Python als interpretierte Sprache gelten und verhält sich auch so.\n",
    "    \n"
   ]
  },
  {
   "cell_type": "markdown",
   "metadata": {},
   "source": [
    "<b>6. Für Machine Learning und Big Data hält Python zahlreiche bewährte Bibliotheken bereit<br></b>\n",
    "Maschinelles Lernen und Big Data sind im Moment an der Front der IT Branche, durch bewährte und umfangreiche Bibliotheken ist Python hier neben R zur führenden Sprache geworden. Ein sehr großer Anteil der KI-Projekte speziell auch in der Forschung läuft in Python, was die Entwicklung der frei nutzbaren Bibliotheken wiederum massiv fördert, also eine positive Rückkoppelung."
   ]
  },
  {
   "cell_type": "markdown",
   "metadata": {},
   "source": [
    "<b>7. Python wird bei immer mehr Studenten und Programmierern zur ersten erlernten Sprache.</b><br>\n",
    "Da Python auch auf dem Arbeitsmarkt einer großen Nachfrage unterliegt, ist die Motivation, Python als erste Sprache zu lernen, immer höher. Viele Kurse z.B. in Data Science beruhen vollständig auf Python. Wenn die Benutzer sehen, daß Python alle ihre Bedürfnisse abdeckt, bleibt ein großer Teil bei dieser Sprache als tägliches Arbeitstool."
   ]
  },
  {
   "cell_type": "markdown",
   "metadata": {},
   "source": [
    "<b>8. Python hat eine hohe Flexibilität, die Anwendern Freiraum lässt.</b><br>\n",
    "Python ist nach einer relativ kurzen Einarbeitung sehr intuitiv nutzbar, es läßt Spielraum zum Experimentieren mit hoher Erfolgsaussicht und fördert die Kreativität. Die Sprache hält ein sehr systematisches Umfeld bereit, um sie im vollen Umfang ohne \"Spezialfälle\" benutzen zu können."
   ]
  },
  {
   "cell_type": "markdown",
   "metadata": {},
   "source": [
    "<b>9. Auch in der Automation von Aufgaben und für Software Tests ist Python sehr effektiv</b><br>\n",
    "Python ist auch als alleiniges Tool in der Automation sehr mächtig und enthält auch hier viele sehr nützliche Bibliotheken. Es ist ein massiver Beschleuniger im Entwicklungsprozess."
   ]
  },
  {
   "cell_type": "markdown",
   "metadata": {},
   "source": [
    "Natürlich ist jede Sprache ein Kompromiss, so auch Python. Einige Nachteile möchten wir nicht verschweigen.\n",
    "- das Speichermodell ist gewöhnungsbedürftig und kann zu subtilen Fehlern führen\n",
    "- der Speicherbedarf ist nicht gering und die Ausführung eher langsamer\n",
    "- manche häufig gebrauchten Sprachelemente sind nicht im \"Kern\"-Python enthalten, sondern müssen über Module geladen werden"
   ]
  },
  {
   "cell_type": "markdown",
   "metadata": {},
   "source": [
    "Zusammenfassend gibt es aber eine Vielzahl von guten Gründen, Python zu erlernen und anzuwenden, was wir jetzt auch sofort im nächsten Kapitel in der Praxis beginnen werden."
   ]
  },
  {
   "cell_type": "markdown",
   "metadata": {},
   "source": [
    "<img width=500 src=\"Images/work.jpg\" />"
   ]
  },
  {
   "cell_type": "code",
   "execution_count": null,
   "metadata": {},
   "outputs": [],
   "source": []
  }
 ],
 "metadata": {
  "kernelspec": {
   "display_name": "Python 3 (ipykernel)",
   "language": "python",
   "name": "python3"
  },
  "language_info": {
   "codemirror_mode": {
    "name": "ipython",
    "version": 3
   },
   "file_extension": ".py",
   "mimetype": "text/x-python",
   "name": "python",
   "nbconvert_exporter": "python",
   "pygments_lexer": "ipython3",
   "version": "3.9.12"
  }
 },
 "nbformat": 4,
 "nbformat_minor": 4
}
