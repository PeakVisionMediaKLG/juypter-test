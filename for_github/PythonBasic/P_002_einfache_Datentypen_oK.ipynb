{
 "cells": [
  {
   "cell_type": "markdown",
   "metadata": {},
   "source": [
    "# einfache Datentypen \n",
    "<br>\n",
    "\n",
    "<img width=800 height=800 src=\"Images/EDV.png\" /><br>\n",
    "\n"
   ]
  },
  {
   "cell_type": "markdown",
   "metadata": {},
   "source": [
    "Wollen wir mit einem Computer arbeiten, betreiben wir Datenverarbeitung. Welche Daten kann der Computer verstehen und wie sind die Regeln für die Arbeit mit solchen Daten? Python versteht, wie alle anderen Computersprachen, nur bestimmte Typen von Daten. Diese teilen sich auf in 2 große Gruppen:<br>\n",
    "- einfache Datentypen oder primitive Datentypen\n",
    "- kombinierte Datentypen oder nicht-primitive Datentypen<br>\n",
    "<br>Einfache Datentypen sind solche, die nur ein Element enthalten, wie z.B. eine Zahl. Kombinierte Datentypen enthalten dagegen mehrere Datenelemente, ein Beipiel wäre eine Liste von Zahlen.\n",
    "Wir werden uns zunächst mit den einfachen Datentypen beschäftigen, die sich in numerische Daten und Boolsche Daten aufteilen."
   ]
  },
  {
   "cell_type": "markdown",
   "metadata": {},
   "source": [
    "<b>Als ersten numerischen Datentyp haben wir in Python die Integerzahlen. Dies sind die Ganzzahlen, also Zahlen ohne Nachkommastellen.</b> \n",
    "### Integer, Ganzzahl, Abkürzung int\n",
    "Einige Beispiele:"
   ]
  },
  {
   "cell_type": "code",
   "execution_count": 1,
   "metadata": {},
   "outputs": [
    {
     "data": {
      "text/plain": [
       "3"
      ]
     },
     "execution_count": 1,
     "metadata": {},
     "output_type": "execute_result"
    }
   ],
   "source": [
    "3"
   ]
  },
  {
   "cell_type": "markdown",
   "metadata": {},
   "source": [
    "Was passiert hier? Der interaktive Interpreter erkennt die Zahl 3, er weist sie dem Integer-Typ zu (er erkennt, daß es eine Zahl ist, findet keinen Dezimalpunkt und findet den richtigen Typ automatisch). Da mit der Zahl nichts weiter passiert, gibt Python sie wieder aus auf dem Bildschirm. Ein solches einfaches Beispiel eines Datentyps wie die Zahl 3 heißt <b>Literal</b>, es ist sozusagen ein Atom dieses Datentyps<b>. In unserer Arbeitsumgebung (Jupyter Notebook) wird der letzte Wert in einer Zelle als Output automatisch zurückgegeben und in Out dargestellt.</b> Bei mehreren Werten sehen wir somit nur den Letzten.(s.u.)"
   ]
  },
  {
   "cell_type": "code",
   "execution_count": 2,
   "metadata": {},
   "outputs": [
    {
     "data": {
      "text/plain": [
       "-55"
      ]
     },
     "execution_count": 2,
     "metadata": {},
     "output_type": "execute_result"
    }
   ],
   "source": [
    "-45\n",
    "-55"
   ]
  },
  {
   "cell_type": "markdown",
   "metadata": {},
   "source": [
    "Um auch andere Ausgaben zu ermöglichen, werden wir unsere Ergebnisse mit der print() Funktion ausgeben, wie unten gezeigt. Wir schreiben hierzu das Wort ```print``` hin und geben in Klammern an, was gedruckt werden soll. Diese Schreibweise mit einem Klammerpaar und darin eventuell einem oder mehreren Werten steht für eine <b>Funktion</b>, die die Werte bearbeitet. Es gibt solche Funktionen eingebaut in Python (z.B. print()), aber wir können sie auch selber schreiben (dazu folgen einige Kapitel!). Wir erzwingen mit print() einen Ausdruck, wenn diese Funktion vom Programm erkannt wird. (Weiteres zur print() Funktion folgt später.)<br> Wir können uns den Typ, den Python der Eingabe zuordnet, durch die <b>eingebaute Funktion type()</b> ausgeben lassen, wie unten gezeigt. Es wird angezeigt, daß der Wert zur Klasse ```int``` gehört, also Integer ist."
   ]
  },
  {
   "cell_type": "code",
   "execution_count": 3,
   "metadata": {},
   "outputs": [
    {
     "name": "stdout",
     "output_type": "stream",
     "text": [
      "-45\n",
      "-55\n",
      "<class 'int'>\n"
     ]
    }
   ],
   "source": [
    "print(-45)\n",
    "print(-55)\n",
    "print(type(56))"
   ]
  },
  {
   "cell_type": "markdown",
   "metadata": {},
   "source": [
    "Wir sehen, daß Python Vorzeichen berücksichtigt. Hier ist es sehr flexibel und erlaubt auch Ausdrücke wie unten. Es kann also \"Vorzeichenarithmetik\"."
   ]
  },
  {
   "cell_type": "code",
   "execution_count": null,
   "metadata": {},
   "outputs": [],
   "source": [
    "print(- - + 5) #--+ ist +\n",
    "print(--- 45) #--- ist -"
   ]
  },
  {
   "cell_type": "markdown",
   "metadata": {},
   "source": [
    "Außerdem ist die sogenannte \"wissenschaftliche Notation\" möglich, die durch positive oder negative Zahlen angibt, mit welcher Potenz der Zahl 10 die vorangestellte Zahl multipliziert wird. Als Kennzeichen muß <b>unmittelbar</b> an die Zahl der Buchstabe E (klein oder groß) angefügt werden und danach die Anzahl der Zehnerpotenzen wie unten gezeigt. Bei ```3E+5```(identisch mit 3E+05) und ```46E14```(identisch mit 46E+14) sehen wir, daß die Ausgabe als Zahl mit einer Nachkommastelle erfolgt (dazu gleich mehr). Wenn die Zahlen zu groß werden (ab 16 Stellen) erfolgt auch <b>die Ausgabe</b> in wissenschaftlicher Notation."
   ]
  },
  {
   "cell_type": "code",
   "execution_count": 1,
   "metadata": {},
   "outputs": [
    {
     "name": "stdout",
     "output_type": "stream",
     "text": [
      "5e+17\n",
      "300000.0\n",
      "4600000000000000.0\n",
      "-0.004\n"
     ]
    }
   ],
   "source": [
    "print(5e17) #auch Ausgabe in wissenschaftlicher Notation\n",
    "print(3E+5)\n",
    "print(46E14)\n",
    "print(-4e-03)"
   ]
  },
  {
   "cell_type": "markdown",
   "metadata": {},
   "source": [
    "Das Zeichen # leitet einen <b>Kommentar</b> ein, der <b>nicht vom Programm bearbeitet wird</b> und der Orientierung des Lesers dient."
   ]
  },
  {
   "cell_type": "code",
   "execution_count": null,
   "metadata": {},
   "outputs": [],
   "source": [
    "# Diese ganze Zeile ist Kommentar\n",
    "print(3) #ab hier Kommentar\n",
    "#Blöcke kann man mit CTRl-/ aus und einkommentieren. Der Schrägstrich muss vom numerischen Pad stammen\n",
    "print(\"Zeile 1\")\n",
    "print(\"Zeile 2\")"
   ]
  },
  {
   "cell_type": "markdown",
   "metadata": {},
   "source": [
    "Viele Computersprachen begrenzen die Größe der numerischen Typen z.B. auf 16 Stellen. Python tut dies nicht. <b>Integer können beliebig groß werden</b> (solange der Speicher reicht :)) Wir haben unten 5678 hoch 40 dargestellt, zum Operator ** später mehr."
   ]
  },
  {
   "cell_type": "code",
   "execution_count": 4,
   "metadata": {},
   "outputs": [
    {
     "data": {
      "text/plain": [
       "1471687250750319913093575862122532601625935699587365003459715323582609624254949079233179916794178346122991732524668872044107298883277969574606118322176"
      ]
     },
     "execution_count": 4,
     "metadata": {},
     "output_type": "execute_result"
    }
   ],
   "source": [
    "5678**40 #beliebige Länge"
   ]
  },
  {
   "cell_type": "markdown",
   "metadata": {},
   "source": [
    "Bisher haben wir mit Dezimalzahlen gearbeitet, bei Computertätigkeiten werden aber auch manchmal binäre, oktale oder auch hexadezimale Zahlen verarbeitet. Dies kann Python auch, es <b>erkennt bei der Eingabe der Zahl an der führenden 0, daß ein anderes Zahlensytem gemeint ist.</b> Dann folgt der Kennbuchstabe mit b, o oder x (groß oder klein geschrieben) für die 3 oben besprochenen Typen. Die Ausgabe erfolgt in dezimal. Eine Zahl mit einer führenden 0 wie z.B. 0456 würde einen Fehler auslösen, da der Kennbuchstabe fehlt. Wir machen das unten einmal und sehen, welcher Fehler angezeigt wird. Das Hashtag- Zeichen # steht in Python für einen Kommentar. Dieser beginnt unmittelbar hinter dem Zeichen und geht über den Rest der Zeile. Er ist nur zum Lesen für den Programmierer gedacht und hat sonst für das Programm keine Bedeutung. Wir haben unten die fehlerhafte Zeile in einen Kommentar verwandelt. Wenn sie abgearbeitet werden soll, müssen wir das # Zeichen am Anfang löschen."
   ]
  },
  {
   "cell_type": "code",
   "execution_count": 6,
   "metadata": {},
   "outputs": [
    {
     "name": "stdout",
     "output_type": "stream",
     "text": [
      "9\n",
      "175\n"
     ]
    }
   ],
   "source": [
    "print(0b1001) #    0b binär   0o octal   0x hexadezimal\n",
    "print(0XAF) #hexadecimal 10*16 + 15\n",
    "##########Ausgabe in dezimal#############3\n",
    "\n",
    "#print(04556) # Achtung macht Fehler: SyntaxError"
   ]
  },
  {
   "cell_type": "markdown",
   "metadata": {},
   "source": [
    "Der SyntaxError wird uns noch oft begegnen, er bedeutet, das Python in unserer Formulierung des Codes einen Fehler entdeckt hat. Lassen wir die fehlerhafte Zeile laufen, zeigt das ^ Zeichen in der Fehleranzeige auf die (ungefähre) Stelle des Fehlers, dann folgt eine Beschreibung, was falsch ist und dann eventuell sogar noch ein Vorschlag zum Abstellen des Fehlers. Dies macht Python im Vergleich zu anderen Sprachen recht gut und die Fehlerbeschreibung wird in den aktuelleren Versionen immer besser."
   ]
  },
  {
   "cell_type": "markdown",
   "metadata": {},
   "source": [
    "Neben der beschriebenen Syntax mit führender 0 gibt es auch Funktionen (wie oben erwähnt zu erkennen an dem Klammerpaar, welches die Werte enthält, wie bei print() oder type(), später davon viele mehr), die die Umwandlung von dezimal in andere Zahlensysteme vornehmen, wir zeigen sie hier."
   ]
  },
  {
   "cell_type": "code",
   "execution_count": 9,
   "metadata": {},
   "outputs": [
    {
     "name": "stdout",
     "output_type": "stream",
     "text": [
      "0b10001\n",
      "0x40\n",
      "0o55\n"
     ]
    },
    {
     "data": {
      "text/plain": [
       "'0o55'"
      ]
     },
     "execution_count": 9,
     "metadata": {},
     "output_type": "execute_result"
    }
   ],
   "source": [
    "print(bin(17)) #eingebaute Funktionen für dezimal Ausgabe in binär \n",
    "                #Achtung Ausgabe string, also Text, keine Zahl, später mehr dazu! \n",
    "print(hex(64)) #Verwandelt in hexadezimal\n",
    "print(oct(45)) #Verwandelt in octal\n",
    "oct(45) #Hochkommata zeigen String an be Direktausgabe ohne print"
   ]
  },
  {
   "cell_type": "markdown",
   "metadata": {},
   "source": [
    "Die Funktion int() verwandelt ihren Wert (auch Parameter genannt) in eine Integer, wenn das möglich ist. Hier geben wir eine Zahl mit Nachkommastellen ein und sehen, daß sie in eine Integer verwandelt wird. Die Nachkomawerte gehen dabei verloren (keine Rundung!)"
   ]
  },
  {
   "cell_type": "code",
   "execution_count": 7,
   "metadata": {},
   "outputs": [
    {
     "name": "stdout",
     "output_type": "stream",
     "text": [
      "4\n"
     ]
    }
   ],
   "source": [
    "print(int(4.5)) #Nachkommstellen gehen verloren, keine Rundung"
   ]
  },
  {
   "cell_type": "markdown",
   "metadata": {},
   "source": [
    "So kann man auch eine Zahl aus einem anderen Zahlensystem wieder in eine Integerzahl verwandeln. Es muß allerdings der Typ des Zahlensystems (hier z.B. 16 für hexadezimal) noch extra angegeben werden. Wir sehen hier, wie die Funktionen print(),int() und hex() von innen nach außen verschachtelt verarbeitet werden. Zunächst wird die hexadezimale Zahl erzeugt (hex()), dann in eine Integer verwandelt (int()) und dann das Ergebnis ausgedruckt (print()). Man muß die Klammerpaare genau anschauen, um die Reihenfolge richtig zu interpretieren. Der Editor hilft, indem er zusammengehörige Klammerpaare, wenn der Cursor vor einer öffnenden oder hinter einer schließenden Klammer steht, grün markiert."
   ]
  },
  {
   "cell_type": "code",
   "execution_count": null,
   "metadata": {},
   "outputs": [],
   "source": [
    "print(int(hex(67),16)) #verschachtelte Funktionen"
   ]
  },
  {
   "cell_type": "markdown",
   "metadata": {},
   "source": [
    "Nun sind längst nicht alle Zahlen Ganzzahlen, deshalb folgen jetzt die Fließkommazahlen oder Floats."
   ]
  },
  {
   "cell_type": "markdown",
   "metadata": {},
   "source": [
    "### Float , Fließkommazahl ,<b> Abkürzung float"
   ]
  },
  {
   "cell_type": "markdown",
   "metadata": {},
   "source": [
    "Eine Fließkommazahl wird von Python erkannt durch den Dezimalpunkt. Der Typ ist ```float```. Hier einige Beispiele."
   ]
  },
  {
   "cell_type": "code",
   "execution_count": 10,
   "metadata": {},
   "outputs": [
    {
     "name": "stdout",
     "output_type": "stream",
     "text": [
      "3.1415926\n",
      "0.3333333333333333\n",
      "-4.35\n"
     ]
    }
   ],
   "source": [
    "print(3.1415926)\n",
    "print(1/3) #Division, später mehr, das Ergebnis wird ausgedruckt\n",
    "print(-4.35)"
   ]
  },
  {
   "cell_type": "markdown",
   "metadata": {},
   "source": [
    "Bezüglich Vorzeichen und wissenschaftlicher Notation verhalten sich floats wie integer. Aber es gibt ein zusätzliches Problem. Bei dem Darstellen von 1/7 ergibt sich eine periodische Dezimalzahl. Mit wieviel Stellen arbeitet Python? Wie schneidet es das Ergebnis ab?"
   ]
  },
  {
   "cell_type": "code",
   "execution_count": 11,
   "metadata": {},
   "outputs": [
    {
     "name": "stdout",
     "output_type": "stream",
     "text": [
      "0.14285714285714285\n"
     ]
    }
   ],
   "source": [
    "print(1/7)"
   ]
  },
  {
   "cell_type": "markdown",
   "metadata": {},
   "source": [
    "Wir sehen hier, daß Python auf 16 Stellen genau arbeitet. Die 17. Stelle ist falsch (müßte 6 sein), es wird also nicht gerundet. Im nächsten Beispiel aber wohl!"
   ]
  },
  {
   "cell_type": "code",
   "execution_count": 12,
   "metadata": {},
   "outputs": [
    {
     "name": "stdout",
     "output_type": "stream",
     "text": [
      "1.4285714285714286\n"
     ]
    }
   ],
   "source": [
    "print(10/7)"
   ]
  },
  {
   "cell_type": "markdown",
   "metadata": {},
   "source": [
    "Mit anderen Worten sollte man, um sicher zu gehen, <b>sich nur auf 15 Stellen der Zahl verlassen.</b> Wie aber wird sicher gerundet? Dafür gibt es wieder eine Funktion round() die als ersten Wert (\"Parameter\", später mehr) die zu rundende Zahl annimmt und dann durch Komma getrennt die Anzahl der gewünschten Nachkommastellen. Die 3 an letzter Stelle ist richtig gerundet, nicht nur abgeschnitten. "
   ]
  },
  {
   "cell_type": "code",
   "execution_count": 30,
   "metadata": {},
   "outputs": [
    {
     "name": "stdout",
     "output_type": "stream",
     "text": [
      "0.143\n"
     ]
    }
   ],
   "source": [
    "print(round(0.14285714285714285,3)) #auf 3 Stellen\n"
   ]
  },
  {
   "cell_type": "markdown",
   "metadata": {},
   "source": [
    "Manche User brauchen eventuell eine noch höhere Genauigkeit. Hierfür bietet Python den Decimaltyp an, der aber das Laden eines externen Moduls (decimal) benötigt. Was hier genau passiert, lernen wir später, es soll nur demonstriert werden, daß durch diese Möglichkeit eine (fast) beliebige Genauigkeit möglich ist."
   ]
  },
  {
   "cell_type": "code",
   "execution_count": 15,
   "metadata": {},
   "outputs": [
    {
     "name": "stdout",
     "output_type": "stream",
     "text": [
      "0.14285714285714285714285714285714285714285714285714285714285714285714285714285714285714285714285714285714285714285714285714285714285714285714285714285714285714285714285714285714285714285714285714285714285714285714285714285714285714285714285714285714285714285714285714285714285714285714285714\n",
      "<class 'decimal.Decimal'>\n"
     ]
    }
   ],
   "source": [
    "from decimal import * #Modul importieren\n",
    "\n",
    "getcontext().prec = 29 #Anweisung bezüglich Genauigkeit, hier 29 Stellen\n",
    "\n",
    "c = Decimal(1.0)/Decimal(7) #Zahl 1.0 vom Decimaltyp durch Zahl 7.0 vom Decimaltyp\n",
    "\n",
    "print(c) #29 Stellen\n",
    "\n",
    "print(type(Decimal(7)))\n"
   ]
  },
  {
   "cell_type": "markdown",
   "metadata": {},
   "source": [
    "Mit der float() Funktion wandeln wir andere Datentypen in floats um, falls das möglich ist. "
   ]
  },
  {
   "cell_type": "code",
   "execution_count": null,
   "metadata": {},
   "outputs": [],
   "source": [
    "print(float(4)) #integer in float"
   ]
  },
  {
   "cell_type": "markdown",
   "metadata": {},
   "source": [
    "Die Länge von floats ist im Gegensatz zu Integer-Zahlen beschränkt. Ab einer gewissen Grösse wird ```inf``` als Infinity ausgegeben (in unserem System Grenze e307)."
   ]
  },
  {
   "cell_type": "code",
   "execution_count": 16,
   "metadata": {},
   "outputs": [
    {
     "name": "stdout",
     "output_type": "stream",
     "text": [
      "2e+307\n"
     ]
    },
    {
     "data": {
      "text/plain": [
       "inf"
      ]
     },
     "execution_count": 16,
     "metadata": {},
     "output_type": "execute_result"
    }
   ],
   "source": [
    "print(2.0e307)\n",
    "2.0e308\n"
   ]
  },
  {
   "cell_type": "markdown",
   "metadata": {},
   "source": [
    "Wegen der begrenzten Präzision von floats können merkwürdige Dinge passieren. Hier sehen wir , daß 0.1 + 0.2 nict 0.3 ist! Mehr davon später."
   ]
  },
  {
   "cell_type": "code",
   "execution_count": 24,
   "metadata": {},
   "outputs": [
    {
     "name": "stdout",
     "output_type": "stream",
     "text": [
      "0.30000000000000004\n",
      "0.3\n"
     ]
    }
   ],
   "source": [
    "print(0.1+0.2)\n",
    "print(0.3)"
   ]
  },
  {
   "cell_type": "markdown",
   "metadata": {},
   "source": [
    "Nachdem wir jetzt die beiden wichtigsten numerischen Typen kennengelernt haben, möchten wir Python als Taschenrechner benutzen, d.h. wir wollen diese Zahlentypen mit <b>arithmetischen Operatoren</b> verbinden. Ein Operator wie + wirkt auf Operanden, wie z.B. eine oder mehrere Integer- oder Float-Zahlen.Es ensteht dann ein Ausdruck (expression), der berechnet werden kann und einen Wert ergibt. Ein einfaches Beispiel mit dem + und * Operator für Addition und Multiplikation:"
   ]
  },
  {
   "cell_type": "code",
   "execution_count": null,
   "metadata": {},
   "outputs": [],
   "source": [
    "print(3 + 5)\n",
    "print(7 * 5 + 6) #Punktrechnung vor Strichrechnung, wie in der Grundschule"
   ]
  },
  {
   "cell_type": "markdown",
   "metadata": {},
   "source": [
    "Bei den arithmetischen Operatoren gibt es das Minuszeichen als unären Operator, d.h. es bezieht sich nur auf die folgende Zahl (z.B. -345). Daneben existieren auch einige binäre Operatoren die zwei Zahlen miteinander verbinden. Hier eine Tabelle:<br><br>\n",
    "\n",
    "<table style=\" width:80%; background-color: rgb(220, 220, 10); font-size: 14px\">\n",
    "<tbody>\n",
    "\n",
    "<th style=\"text-align: center\">arithmetische Operatoren\n",
    "</th>\n",
    "<th style=\"text-align: center\">Beschreibung\n",
    "</th>\n",
    "    \n",
    "\n",
    "<tr>\n",
    "<td style=\"text-align: center;\"><FONT FACE=\"Courier 10 Pitch\">x + y</FONT></td>\n",
    "<td style=\"text-align: center;\">Addition</td>\n",
    "</tr>\n",
    "<tr>\n",
    "<td style=\"text-align: center\"><FONT FACE=\"Courier 10 Pitch\">x - y</FONT></td>\n",
    "<td style=\"text-align: center\">Subtraktion</td>\n",
    "</tr>\n",
    "\n",
    "<tr>\n",
    "<td style=\"text-align: center\"><FONT FACE=\"Courier 10 Pitch\">x * y</FONT></td>\n",
    "<td style=\"text-align: center\">Multiplikation</td>\n",
    "</tr>\n",
    "\n",
    "<tr>\n",
    "<td style=\"text-align: center\"><FONT FACE=\"Courier 10 Pitch\">\n",
    "x / y</FONT></td>\n",
    "<td style=\"text-align: center\">normale Division</td>\n",
    "</tr>\n",
    "\n",
    "<tr>\n",
    "<td style=\"text-align: center\"><FONT FACE=\"Courier 10 Pitch\">\n",
    "x // y\n",
    "</FONT></td>\n",
    "<td style=\"text-align: center\">Ganzzahldivision (Teilung mit Rest: 7//3 = 2) <br>in 7 passen 2 mal 3 </td>\n",
    "</tr>\n",
    "\n",
    "<tr>\n",
    "<td style=\"text-align: center\"><FONT FACE=\"Courier 10 Pitch\">x % y</FONT></td>\n",
    "<td style=\"text-align: center\">Modulo (Rest bei Teilung: 7%3 = 1)<br> der Rest bei 7 durch 3 ist 1</td>\n",
    "</tr>\n",
    "\n",
    "\n",
    "<tr>\n",
    "<td style=\"text-align: center\"><FONT FACE=\"Courier 10 Pitch\">x ** y</FONT></td>\n",
    "<td style=\"text-align: center\">Exponenzierung (x hoch y)</td>\n",
    "</tr>\n",
    "\n",
    "</tbody>\n",
    "</table>"
   ]
  },
  {
   "cell_type": "markdown",
   "metadata": {},
   "source": [
    "Damit können wir jetzt Taschenrechner spielen. Python kennt auch Klammern wie in der Mathematik, bei verschachtelten Klammern wird zuerst die innere Klammer bearbeitet, dann die nächste... Beispiele: "
   ]
  },
  {
   "cell_type": "code",
   "execution_count": 21,
   "metadata": {},
   "outputs": [
    {
     "name": "stdout",
     "output_type": "stream",
     "text": [
      "50.0\n",
      "8\n",
      "8.0\n",
      "2.0\n",
      "0.125\n",
      "1\n",
      "2\n",
      "-2\n",
      "etwas kontaintuitiv: -5%-3 ist: -2\n",
      "1\n",
      "Python rechnet den Modulo x%y aus mit x - (y * (x // y)) also im Beispiel -5-(-3*(-1))=-2\n"
     ]
    }
   ],
   "source": [
    "print(45 + 5 * 9 / 3 ** 2) #Reihenfolge Operatoren Vorrang print kann auch Ausdrücke (Verknüpfung zu berechnender Elemente) annehmen\n",
    "print(4 * 2)\n",
    "print(4.0 * 2)\n",
    "print(6 / 3)\n",
    "print((3 - 4)/(5-(7+6))) #wird  (3-4)/(5-13) da zuerst innere Klammer,  dann -1/-8,  dann 0.125\n",
    "print(8//6) #Ganzzahldivision mit Rest\n",
    "print(8 % 6) #Rest der Ganzzahldivision\n",
    "print(7%-3) #negativer Teiler\n",
    "print(f\"etwas kontaintuitiv: -5%-3 ist: {-5%-3}\")\n",
    "print(\"Python rechnet den Modulo x%y aus mit x - (y * (x // y)) also im Beispiel -5-(-3*(-1))=-2\")\n"
   ]
  },
  {
   "cell_type": "markdown",
   "metadata": {},
   "source": [
    "<b>Wird bei solchen Rechnungen eine oder mehrere Fließkommazahlen verwendet, wird das Ergebnis automatisch float. Die normale Division erzeugt immer floats.</b> Falls Klammern verwendet werden, haben diese Vorrang in der Berechnung. Im ersten Beispiel haben wir die verschiedenen Operatoren ohne Klammerung nebeneinander.<br><b> Es gilt der Vorrang für die Potenzierung ```**```, dann folgen ```*,/,// und %``` und zum Schluß ```+,-```."
   ]
  },
  {
   "cell_type": "markdown",
   "metadata": {},
   "source": [
    "Python hat einige einfache eingebaute arithmetische Funktionen, die wir kurz zeigen wollen. "
   ]
  },
  {
   "cell_type": "code",
   "execution_count": 31,
   "metadata": {},
   "outputs": [
    {
     "name": "stdout",
     "output_type": "stream",
     "text": [
      "4\n",
      "-1\n",
      "100\n",
      "9\n",
      "1\n",
      "(3, 1)\n"
     ]
    }
   ],
   "source": [
    "print(abs(-4)) #Absolutwert abs(-4)=4, abs(4)=4\n",
    "print(min(3,-1,5.6)) #Minimum der Parameter, Funktion mit mehreren Parametern!\n",
    "print(max(4,6,1.2,100)) #Maximum der Parameter\n",
    "print(pow(3,2)) #wie ** pow(3,2)=9  ->3 hoch 2\n",
    "print(pow(5,2,3)) #wie (5 hoch 2) Modulo 3 =>25 Modulo 3 = 1\n",
    "print(divmod(10,3)) #Ausgabe (3,1) als 10//3 = 3 Rest 1 Funktion mit mehreren Ausgaben!"
   ]
  },
  {
   "cell_type": "markdown",
   "metadata": {},
   "source": [
    "Darüber hinaus kann Python mit komplexen Zahlen arbeiten, die als Typ ```complex``` definiert sind und ```a + bj``` geschrieben werden (mit a als reellem und b als imaginärem Teil). "
   ]
  },
  {
   "cell_type": "code",
   "execution_count": null,
   "metadata": {},
   "outputs": [],
   "source": [
    "print((4 + 5j) - (8 - 6j))\n",
    "print(type(3 - 7j))\n",
    "print((5 + 4j)*(6 - 7j)) #Achtung Klammern müssen sein!!  Sonst:\n",
    "print(5 + 4j * 6 - 7j) #Falsch!!"
   ]
  },
  {
   "cell_type": "markdown",
   "metadata": {},
   "source": [
    "Damit haben wir die numerischen Datentypen im Detail besprochen und kommen jetzt zu einem anderen Datentyp, dem Typ ```bool```."
   ]
  },
  {
   "cell_type": "markdown",
   "metadata": {},
   "source": [
    "### Bool, Wahrheitswert,  Typ , <b> Abkürzung bool"
   ]
  },
  {
   "cell_type": "markdown",
   "metadata": {},
   "source": [
    "Hierbei handelt es sich um einen Typ, der nur die beiden Werte ```True``` und ```False``` kennt. Bitte die Schreibweise beachten, Beginn mit Großbuchstabe dann klein, \"true\" ist nicht richtig und \"TRUE\" auch nicht. Hier wird a auf den Wert True gesetzt. Auch hierzu (Variablen Zuweisung) gleich mehr. Der Typ bool ist ein Untertyp von Integer, False wird wie 0 behandelt, True wie 1. Von einer Bool-Arithmetik, wie im letzten Beispiel unten rät man aber dringend ab."
   ]
  },
  {
   "cell_type": "code",
   "execution_count": 32,
   "metadata": {},
   "outputs": [
    {
     "name": "stdout",
     "output_type": "stream",
     "text": [
      "<class 'bool'>\n",
      "True\n",
      "2\n"
     ]
    }
   ],
   "source": [
    "print(type(True))\n",
    "a = True\n",
    "print(a)\n",
    "print(False+True+True) #Bitte nicht tun!"
   ]
  },
  {
   "cell_type": "markdown",
   "metadata": {},
   "source": [
    "Der bool Typ wird häufig zum Bestimmen des Wahrheitswertes von Ausdrücken benutzt. Hier testen wir, ob 3 größer als 4 ist, das Ergebnis ist ein bool Wert."
   ]
  },
  {
   "cell_type": "code",
   "execution_count": 24,
   "metadata": {},
   "outputs": [
    {
     "name": "stdout",
     "output_type": "stream",
     "text": [
      "False\n",
      "True\n"
     ]
    }
   ],
   "source": [
    "print(3 > 4)\n",
    "print(\"K\">\"I\") #geht auch mit anderen Typen hier Text(String)"
   ]
  },
  {
   "cell_type": "markdown",
   "metadata": {},
   "source": [
    "Der ```>``` Operator ist ein Vergleichsoperator, wovon Python 6 verschiedene bereithält."
   ]
  },
  {
   "cell_type": "markdown",
   "metadata": {},
   "source": [
    "<table style=\" width:80%; background-color: rgb(10, 220, 200); font-size: 14px\">\n",
    "<tbody>\n",
    "\n",
    "<th style=\"text-align: center\">Vergleichs Operatoren\n",
    "</th>\n",
    "<th style=\"text-align: center\">Beschreibung\n",
    "</th>\n",
    "    \n",
    "\n",
    "\n",
    "<tr>\n",
    "<td style=\"text-align: center;\"><FONT FACE=\"Courier 10 Pitch\">x > y</FONT></td>\n",
    "<td style=\"text-align: center;\">größer</td>\n",
    "</tr>\n",
    "<tr>\n",
    "<td style=\"text-align: center\"><FONT FACE=\"Courier 10 Pitch\">x < y</FONT></td>\n",
    "<td style=\"text-align: center\">kleiner</td>\n",
    "</tr>\n",
    "\n",
    "<tr>\n",
    "<td style=\"text-align: center\"><FONT FACE=\"Courier 10 Pitch\">x >= y</FONT></td>\n",
    "<td style=\"text-align: center\">größer gleich (Reihenfolge nur so, nicht: x => y)</td>\n",
    "</tr>\n",
    "\n",
    "<tr>\n",
    "<td style=\"text-align: center\"><FONT FACE=\"Courier 10 Pitch\">\n",
    "x <= y</FONT></td>\n",
    "<td style=\"text-align: center\">kleiner gleich (s.o.)</td>\n",
    "</tr>\n",
    "\n",
    "<tr>\n",
    "<td style=\"text-align: center\"><FONT FACE=\"Courier 10 Pitch\">\n",
    "x != y\n",
    "</FONT></td>\n",
    "<td style=\"text-align: center\">nicht gleich (verschieden von) </td>\n",
    "</tr>\n",
    "\n",
    "<tr>\n",
    "<td style=\"text-align: center\"><FONT FACE=\"Courier 10 Pitch\">x == y</FONT></td>\n",
    "<td style=\"text-align: center\">gleicher Wert</td>\n",
    "</tr>\n",
    "\n",
    "\n",
    "\n",
    "</tbody>\n",
    "</table>"
   ]
  },
  {
   "cell_type": "code",
   "execution_count": 25,
   "metadata": {},
   "outputs": [
    {
     "name": "stdout",
     "output_type": "stream",
     "text": [
      "True\n",
      "True\n"
     ]
    }
   ],
   "source": [
    "print(5 <= 5)\n",
    "print(6 == 3*2) #Achtung doppeltes Gleichheitszeichen für den Test auf gleich!!!!"
   ]
  },
  {
   "cell_type": "markdown",
   "metadata": {},
   "source": [
    "<b>Der Test auf Wertegleichheit mit dem doppelten Gleichheitszeichen ist eine sehr häufige Fehlerquelle, indem man ein Gleichheitszeichen vergißt,<br> \"6 = 3*2\" funktioniert nicht!"
   ]
  },
  {
   "cell_type": "markdown",
   "metadata": {},
   "source": [
    "Hier muß man noch auf folgendes achten:<br>\n",
    "- der Test auf Gleichheit zweier Integerzahlen ist problemlos\n",
    "- der Test auf Gleichheit zweier Fließkommazahlen ist problematisch (s.oben wegen des Problems mit der Genauigkeit)\n",
    "<br> Bei Fließkommazahlen testet man, ob der <b>Unterschied</b> (Absolutwert nehmen mit abs(), könnte ja positiv oder neagtiv sein!) <b>zwischen den zu vergleichenden Zahlen sehr klein ist. Man zieht die beiden Zahlen voneinander ab, bildet den Absolutwert, damit das Ergebnis immer positiv ist, und vergleicht mit einer sehr kleinen Zahl (z.B. 10 hoch-8)\n",
    "    "
   ]
  },
  {
   "cell_type": "code",
   "execution_count": 26,
   "metadata": {},
   "outputs": [
    {
     "name": "stdout",
     "output_type": "stream",
     "text": [
      "a==b True\n",
      "c==d False Wieso das?\n",
      "c: 0.3\n",
      "d: 0.30000000000000004 deshalb der Fehler!\n",
      "sind c und d gleich, also wie c==d? True\n"
     ]
    }
   ],
   "source": [
    "a = 3\n",
    "b = 3 * 1\n",
    "c = 0.3\n",
    "d = 0.2 + 0.1\n",
    "print(f\"a==b {a==b}\")\n",
    "print(f\"c==d {c==d} Wieso das?\") #sehr überraschend! Fließkommavergleich\n",
    "print(f\"c: {c}\")\n",
    "print(f\"d: {d} deshalb der Fehler!\")\n",
    "print(f\"sind c und d gleich, also wie c==d? {abs(c-d)< 1e-8}\") #ist der absolute Unterschied kleiner als 10 hoch-8 (oder andere sehr kleine Zahl)?"
   ]
  },
  {
   "cell_type": "markdown",
   "metadata": {},
   "source": [
    "Darüber hinaus gibt es noch die logischen Operatoren ```not, and und or```."
   ]
  },
  {
   "cell_type": "markdown",
   "metadata": {},
   "source": [
    "Diese erlauben weitere logische Verknüpfungen wie : Ist 3<4 und 4<5?"
   ]
  },
  {
   "cell_type": "code",
   "execution_count": 27,
   "metadata": {},
   "outputs": [
    {
     "name": "stdout",
     "output_type": "stream",
     "text": [
      "True\n",
      "True\n",
      "True\n"
     ]
    }
   ],
   "source": [
    "print((3<4) and (4<5))\n",
    "print((3>4) or (4<5))\n",
    "print(not(3>4) and (4<5))"
   ]
  },
  {
   "cell_type": "markdown",
   "metadata": {},
   "source": [
    "Damit ```and``` True zurückgibt müssen alle Teile des Ausdrucks wahr sein, bei ```or``` reicht ein richtiger Teil. ```not``` dreht den Wahrheitswert um."
   ]
  },
  {
   "cell_type": "markdown",
   "metadata": {},
   "source": [
    "Auch hier gibt es einen Vorrang von Vergleichoperatoren vor ```not``` vor ```and``` und ```or```. Es ist aber anzuraten, die einzelnen Ausdrücke zu klammern, dann weiß man immer, was gemeint ist. (Unten ein Beispiel)"
   ]
  },
  {
   "cell_type": "code",
   "execution_count": 35,
   "metadata": {},
   "outputs": [
    {
     "name": "stdout",
     "output_type": "stream",
     "text": [
      "False\n"
     ]
    }
   ],
   "source": [
    "#was kommt raus?\n",
    "print(True and False == True and False)\n",
    "#Entspricht (True and (False==True) and False)  wegen Vorrang von == vor and.\n"
   ]
  },
  {
   "cell_type": "markdown",
   "metadata": {},
   "source": [
    "In Python haben alle Objekte einen \"eingebauten\" Wahrheitswert.<b> Alle haben True, außer:</b>\n",
    "- numerische Null-Werte(0, 0.0, 0.0+0.0j),\n",
    "- der boolsche Wert False,\n",
    "- leere Zeichenketten,\n",
    "- leere Listen, leere Tupel,\n",
    "- leere Dictionaries.\n",
    "- sowie der spezielle Wert None. \n",
    "Zu den letzten 4 Punkten kommen wir in Bälde. Mit bool() kann man sich den Wahrheitswert eines Objektes ausgeben lassen, bzw. man verwandelt das Objekt in seinen Boolschen Typ. Es wäre also möglich zu schreiben:"
   ]
  },
  {
   "cell_type": "code",
   "execution_count": 28,
   "metadata": {},
   "outputs": [
    {
     "name": "stdout",
     "output_type": "stream",
     "text": [
      "False\n",
      "True\n"
     ]
    }
   ],
   "source": [
    "a = 0\n",
    "print(bool(a))\n",
    "b = 9\n",
    "print(bool(b))"
   ]
  },
  {
   "cell_type": "markdown",
   "metadata": {},
   "source": [
    "Dies wird aber nicht als guter Stil betrachtet. Noch schlimmer ist, wenn man an einer Stelle, wo ein Boolscher Wert wie True oder False stehen muß, einfach einen Wert eines anderen Typs einsetzt und sich auf den eingebauten Wahrheitswert verlässt, wie in der ersten Zeile und zweiten Zeile unten.  Besser wäre der direkte Test:"
   ]
  },
  {
   "cell_type": "code",
   "execution_count": 29,
   "metadata": {},
   "outputs": [
    {
     "name": "stdout",
     "output_type": "stream",
     "text": [
      "True\n",
      "True\n",
      "True\n",
      "False\n"
     ]
    }
   ],
   "source": [
    "print(1 and True) #der interne Wahrheitswert von 1 ist True -> True and True ist -> True\n",
    "print(not 0.0) #0.0 hat den internen Wahrheitswert False, not False -> True\n",
    "print(a==0)\n",
    "print(b!=9)"
   ]
  },
  {
   "cell_type": "markdown",
   "metadata": {},
   "source": [
    "Wir haben jetzt die numerischen und boolschen Datentypen besprochen und die zugehörigen Operatoren. Ist das alle Mathematik, die Python kann? Natürlich nicht, es gibt ein Modul ```math```, was man einfach importieren kann und welches eine Vielzahl weiterer mathematischen Aufgaben erledigt. Es enthält Konstanten wie Pi oder e und Funktionen wie Sinus sin() oder Quadratwurzel sqrt()."
   ]
  },
  {
   "cell_type": "code",
   "execution_count": 30,
   "metadata": {},
   "outputs": [
    {
     "name": "stdout",
     "output_type": "stream",
     "text": [
      "3.141592653589793\n",
      "2.718281828459045\n",
      "1.2246467991473532e-16\n",
      "2.0\n"
     ]
    }
   ],
   "source": [
    "import math\n",
    "print(math.pi)\n",
    "print(math.e)\n",
    "print(math.sin(math.pi)) #fast 0\n",
    "print(math.sqrt(4))#square root  Quadratwurzel"
   ]
  },
  {
   "cell_type": "markdown",
   "metadata": {},
   "source": [
    "Mit der help() Funktion können wir uns ausgeben lassen, welche Funktionen und Konstanten das Modul enthält. Python läßt auch hier fast keine Wünsche offen. Zuerst werden die Funktionen mit einer kurzen Beschreibung und am Schluß die Konstanten beschrieben."
   ]
  },
  {
   "cell_type": "code",
   "execution_count": 31,
   "metadata": {},
   "outputs": [
    {
     "name": "stdout",
     "output_type": "stream",
     "text": [
      "Help on built-in module math:\n",
      "\n",
      "NAME\n",
      "    math\n",
      "\n",
      "DESCRIPTION\n",
      "    This module provides access to the mathematical functions\n",
      "    defined by the C standard.\n",
      "\n",
      "FUNCTIONS\n",
      "    acos(x, /)\n",
      "        Return the arc cosine (measured in radians) of x.\n",
      "        \n",
      "        The result is between 0 and pi.\n",
      "    \n",
      "    acosh(x, /)\n",
      "        Return the inverse hyperbolic cosine of x.\n",
      "    \n",
      "    asin(x, /)\n",
      "        Return the arc sine (measured in radians) of x.\n",
      "        \n",
      "        The result is between -pi/2 and pi/2.\n",
      "    \n",
      "    asinh(x, /)\n",
      "        Return the inverse hyperbolic sine of x.\n",
      "    \n",
      "    atan(x, /)\n",
      "        Return the arc tangent (measured in radians) of x.\n",
      "        \n",
      "        The result is between -pi/2 and pi/2.\n",
      "    \n",
      "    atan2(y, x, /)\n",
      "        Return the arc tangent (measured in radians) of y/x.\n",
      "        \n",
      "        Unlike atan(y/x), the signs of both x and y are considered.\n",
      "    \n",
      "    atanh(x, /)\n",
      "        Return the inverse hyperbolic tangent of x.\n",
      "    \n",
      "    ceil(x, /)\n",
      "        Return the ceiling of x as an Integral.\n",
      "        \n",
      "        This is the smallest integer >= x.\n",
      "    \n",
      "    comb(n, k, /)\n",
      "        Number of ways to choose k items from n items without repetition and without order.\n",
      "        \n",
      "        Evaluates to n! / (k! * (n - k)!) when k <= n and evaluates\n",
      "        to zero when k > n.\n",
      "        \n",
      "        Also called the binomial coefficient because it is equivalent\n",
      "        to the coefficient of k-th term in polynomial expansion of the\n",
      "        expression (1 + x)**n.\n",
      "        \n",
      "        Raises TypeError if either of the arguments are not integers.\n",
      "        Raises ValueError if either of the arguments are negative.\n",
      "    \n",
      "    copysign(x, y, /)\n",
      "        Return a float with the magnitude (absolute value) of x but the sign of y.\n",
      "        \n",
      "        On platforms that support signed zeros, copysign(1.0, -0.0)\n",
      "        returns -1.0.\n",
      "    \n",
      "    cos(x, /)\n",
      "        Return the cosine of x (measured in radians).\n",
      "    \n",
      "    cosh(x, /)\n",
      "        Return the hyperbolic cosine of x.\n",
      "    \n",
      "    degrees(x, /)\n",
      "        Convert angle x from radians to degrees.\n",
      "    \n",
      "    dist(p, q, /)\n",
      "        Return the Euclidean distance between two points p and q.\n",
      "        \n",
      "        The points should be specified as sequences (or iterables) of\n",
      "        coordinates.  Both inputs must have the same dimension.\n",
      "        \n",
      "        Roughly equivalent to:\n",
      "            sqrt(sum((px - qx) ** 2.0 for px, qx in zip(p, q)))\n",
      "    \n",
      "    erf(x, /)\n",
      "        Error function at x.\n",
      "    \n",
      "    erfc(x, /)\n",
      "        Complementary error function at x.\n",
      "    \n",
      "    exp(x, /)\n",
      "        Return e raised to the power of x.\n",
      "    \n",
      "    expm1(x, /)\n",
      "        Return exp(x)-1.\n",
      "        \n",
      "        This function avoids the loss of precision involved in the direct evaluation of exp(x)-1 for small x.\n",
      "    \n",
      "    fabs(x, /)\n",
      "        Return the absolute value of the float x.\n",
      "    \n",
      "    factorial(x, /)\n",
      "        Find x!.\n",
      "        \n",
      "        Raise a ValueError if x is negative or non-integral.\n",
      "    \n",
      "    floor(x, /)\n",
      "        Return the floor of x as an Integral.\n",
      "        \n",
      "        This is the largest integer <= x.\n",
      "    \n",
      "    fmod(x, y, /)\n",
      "        Return fmod(x, y), according to platform C.\n",
      "        \n",
      "        x % y may differ.\n",
      "    \n",
      "    frexp(x, /)\n",
      "        Return the mantissa and exponent of x, as pair (m, e).\n",
      "        \n",
      "        m is a float and e is an int, such that x = m * 2.**e.\n",
      "        If x is 0, m and e are both 0.  Else 0.5 <= abs(m) < 1.0.\n",
      "    \n",
      "    fsum(seq, /)\n",
      "        Return an accurate floating point sum of values in the iterable seq.\n",
      "        \n",
      "        Assumes IEEE-754 floating point arithmetic.\n",
      "    \n",
      "    gamma(x, /)\n",
      "        Gamma function at x.\n",
      "    \n",
      "    gcd(*integers)\n",
      "        Greatest Common Divisor.\n",
      "    \n",
      "    hypot(...)\n",
      "        hypot(*coordinates) -> value\n",
      "        \n",
      "        Multidimensional Euclidean distance from the origin to a point.\n",
      "        \n",
      "        Roughly equivalent to:\n",
      "            sqrt(sum(x**2 for x in coordinates))\n",
      "        \n",
      "        For a two dimensional point (x, y), gives the hypotenuse\n",
      "        using the Pythagorean theorem:  sqrt(x*x + y*y).\n",
      "        \n",
      "        For example, the hypotenuse of a 3/4/5 right triangle is:\n",
      "        \n",
      "            >>> hypot(3.0, 4.0)\n",
      "            5.0\n",
      "    \n",
      "    isclose(a, b, *, rel_tol=1e-09, abs_tol=0.0)\n",
      "        Determine whether two floating point numbers are close in value.\n",
      "        \n",
      "          rel_tol\n",
      "            maximum difference for being considered \"close\", relative to the\n",
      "            magnitude of the input values\n",
      "          abs_tol\n",
      "            maximum difference for being considered \"close\", regardless of the\n",
      "            magnitude of the input values\n",
      "        \n",
      "        Return True if a is close in value to b, and False otherwise.\n",
      "        \n",
      "        For the values to be considered close, the difference between them\n",
      "        must be smaller than at least one of the tolerances.\n",
      "        \n",
      "        -inf, inf and NaN behave similarly to the IEEE 754 Standard.  That\n",
      "        is, NaN is not close to anything, even itself.  inf and -inf are\n",
      "        only close to themselves.\n",
      "    \n",
      "    isfinite(x, /)\n",
      "        Return True if x is neither an infinity nor a NaN, and False otherwise.\n",
      "    \n",
      "    isinf(x, /)\n",
      "        Return True if x is a positive or negative infinity, and False otherwise.\n",
      "    \n",
      "    isnan(x, /)\n",
      "        Return True if x is a NaN (not a number), and False otherwise.\n",
      "    \n",
      "    isqrt(n, /)\n",
      "        Return the integer part of the square root of the input.\n",
      "    \n",
      "    lcm(*integers)\n",
      "        Least Common Multiple.\n",
      "    \n",
      "    ldexp(x, i, /)\n",
      "        Return x * (2**i).\n",
      "        \n",
      "        This is essentially the inverse of frexp().\n",
      "    \n",
      "    lgamma(x, /)\n",
      "        Natural logarithm of absolute value of Gamma function at x.\n",
      "    \n",
      "    log(...)\n",
      "        log(x, [base=math.e])\n",
      "        Return the logarithm of x to the given base.\n",
      "        \n",
      "        If the base not specified, returns the natural logarithm (base e) of x.\n",
      "    \n",
      "    log10(x, /)\n",
      "        Return the base 10 logarithm of x.\n",
      "    \n",
      "    log1p(x, /)\n",
      "        Return the natural logarithm of 1+x (base e).\n",
      "        \n",
      "        The result is computed in a way which is accurate for x near zero.\n",
      "    \n",
      "    log2(x, /)\n",
      "        Return the base 2 logarithm of x.\n",
      "    \n",
      "    modf(x, /)\n",
      "        Return the fractional and integer parts of x.\n",
      "        \n",
      "        Both results carry the sign of x and are floats.\n",
      "    \n",
      "    nextafter(x, y, /)\n",
      "        Return the next floating-point value after x towards y.\n",
      "    \n",
      "    perm(n, k=None, /)\n",
      "        Number of ways to choose k items from n items without repetition and with order.\n",
      "        \n",
      "        Evaluates to n! / (n - k)! when k <= n and evaluates\n",
      "        to zero when k > n.\n",
      "        \n",
      "        If k is not specified or is None, then k defaults to n\n",
      "        and the function returns n!.\n",
      "        \n",
      "        Raises TypeError if either of the arguments are not integers.\n",
      "        Raises ValueError if either of the arguments are negative.\n",
      "    \n",
      "    pow(x, y, /)\n",
      "        Return x**y (x to the power of y).\n",
      "    \n",
      "    prod(iterable, /, *, start=1)\n",
      "        Calculate the product of all the elements in the input iterable.\n",
      "        \n",
      "        The default start value for the product is 1.\n",
      "        \n",
      "        When the iterable is empty, return the start value.  This function is\n",
      "        intended specifically for use with numeric values and may reject\n",
      "        non-numeric types.\n",
      "    \n",
      "    radians(x, /)\n",
      "        Convert angle x from degrees to radians.\n",
      "    \n",
      "    remainder(x, y, /)\n",
      "        Difference between x and the closest integer multiple of y.\n",
      "        \n",
      "        Return x - n*y where n*y is the closest integer multiple of y.\n",
      "        In the case where x is exactly halfway between two multiples of\n",
      "        y, the nearest even value of n is used. The result is always exact.\n",
      "    \n",
      "    sin(x, /)\n",
      "        Return the sine of x (measured in radians).\n",
      "    \n",
      "    sinh(x, /)\n",
      "        Return the hyperbolic sine of x.\n",
      "    \n",
      "    sqrt(x, /)\n",
      "        Return the square root of x.\n",
      "    \n",
      "    tan(x, /)\n",
      "        Return the tangent of x (measured in radians).\n",
      "    \n",
      "    tanh(x, /)\n",
      "        Return the hyperbolic tangent of x.\n",
      "    \n",
      "    trunc(x, /)\n",
      "        Truncates the Real x to the nearest Integral toward 0.\n",
      "        \n",
      "        Uses the __trunc__ magic method.\n",
      "    \n",
      "    ulp(x, /)\n",
      "        Return the value of the least significant bit of the float x.\n",
      "\n",
      "DATA\n",
      "    e = 2.718281828459045\n",
      "    inf = inf\n",
      "    nan = nan\n",
      "    pi = 3.141592653589793\n",
      "    tau = 6.283185307179586\n",
      "\n",
      "FILE\n",
      "    (built-in)\n",
      "\n",
      "\n",
      "None\n"
     ]
    }
   ],
   "source": [
    "print(help(\"math\"))"
   ]
  },
  {
   "cell_type": "markdown",
   "metadata": {},
   "source": [
    "Kommen wir nun zum Begriff der Variablen und zu der Art, wie Python damit umgeht."
   ]
  }
 ],
 "metadata": {
  "kernelspec": {
   "display_name": "Python 3 (ipykernel)",
   "language": "python",
   "name": "python3"
  },
  "language_info": {
   "codemirror_mode": {
    "name": "ipython",
    "version": 3
   },
   "file_extension": ".py",
   "mimetype": "text/x-python",
   "name": "python",
   "nbconvert_exporter": "python",
   "pygments_lexer": "ipython3",
   "version": "3.9.12"
  }
 },
 "nbformat": 4,
 "nbformat_minor": 4
}
