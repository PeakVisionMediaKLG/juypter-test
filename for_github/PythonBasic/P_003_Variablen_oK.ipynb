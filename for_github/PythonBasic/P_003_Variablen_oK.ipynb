{
 "cells": [
  {
   "cell_type": "markdown",
   "metadata": {},
   "source": [
    "# Variablen<br>\n",
    "<img width =500 src=\"Images/Variablen.png\"/>"
   ]
  },
  {
   "cell_type": "markdown",
   "metadata": {},
   "source": [
    "Bisher haben wir bei unseren kleinen Programmen mit \"Literalen\" gearbeitet, also mit einfachen direkten Beispielen für unsere Typen. Nach dem Bearbeiten unserer Zellen sind diese Werte verloren. Eine wesentliche Eigenschaft von Computersprachen ist jedoch die Möglichkeit, Werte mit bestimmten Namen zu belegen und zu speichern, so daß man sie wieder abrufen und weiter verwenden kann. Dies nennt man \"Arbeiten mit Variablen\". <b>In Python sind alle Elemente Objekte, diese haben einen Namen (Bezeichner) und einen (oder bei kombinierten Datentypen auch mehrere) Werte und jeweils einen Typ.</b> Sie werden automatisch in einem bestimmten Speicherbereich abgelegt, wenn man sie erzeugt. Wie geht das? Mit einer <b>Zuweisung."
   ]
  },
  {
   "cell_type": "code",
   "execution_count": 1,
   "metadata": {},
   "outputs": [
    {
     "name": "stdout",
     "output_type": "stream",
     "text": [
      "23 398.65 False 529\n"
     ]
    }
   ],
   "source": [
    "a = 23 #Zuweisung mit Literal\n",
    "mein_preis = 23.45 * 17 #Zuweisung mit Expression\n",
    "stimmt = False\n",
    "b = 23 ** 2\n",
    "print(a,mein_preis,stimmt,b) #Ausdruck mehrerer Werte im print() , getrennt durch Kommata"
   ]
  },
  {
   "cell_type": "markdown",
   "metadata": {},
   "source": [
    "Bei einer Zuweisung steht auf der <b>linken Seite</b> eines Gleichheitszeichens ein Bezeichner, der Variablenname. Auf der <b>rechten</b> Seite steht ein Ausdruck, der einen Wert ergibt. Der Bezeichner ist eine Referenz, ein Zeiger auf den Speicherplatz des Objektes, womit Python den Wert wiederfindet. <b>Das Gleichheitszeichen darf man nicht als mathematisches Gleichheitszeichen sehen, sondern als \"der Variablen a wird der Wert 23 zugewiesen\", d.h. der Name a zeigt nach der Zuweisung auf den Wert 23, deshalb ist eine Anweisung wie unten (Zeile 2) völlig in Ordnung und bedeutet:<br>\n",
    "Nimm den Wert der Variablen a, addiere 3 dazu, lege das Ergebnis unter dem Namen a in den Speicher ab. Wie schon erklärt, sucht Python unter dem Namen der Variable nach ihrem Wert, wurde unter diesem Bezeichner kein Objekt angelegt, gibt es natürlich einen Fehler (Zeile 4). "
   ]
  },
  {
   "cell_type": "code",
   "execution_count": null,
   "metadata": {},
   "outputs": [],
   "source": [
    "a = 23\n",
    "a = a + 3 #kann kein normales Gleichheitszeichen wie in der Mathematik sein!\n",
    "print(a)\n",
    "# print(d) # macht Fehler: NameError: name 'd' is not defined"
   ]
  },
  {
   "cell_type": "markdown",
   "metadata": {},
   "source": [
    "Für eine Zuweisung wie \"a = a + 3\" gibt es eine Abkürzung, die <b>erweiterte Zuweisung. "
   ]
  },
  {
   "cell_type": "code",
   "execution_count": null,
   "metadata": {},
   "outputs": [],
   "source": [
    "a += 3 # identisch mit a = a + 3\n",
    "a -= 4 # identisch mit a = a - 4"
   ]
  },
  {
   "cell_type": "markdown",
   "metadata": {},
   "source": [
    "Solche erweiterten Zuweisungen gibt es auch für die anderen arithmetischen Operatoren:<br><b>```-= , *= , /= , //= , %= , //= , **=```"
   ]
  },
  {
   "cell_type": "markdown",
   "metadata": {},
   "source": [
    "Für die Bezeichner gibt es in Python feste Regeln, die befolgt werden müssen, und daneben gibt es Empfehlungen.\n",
    "PEP 8 beinhaltet für viele Dinge in Python solche Regeln, sozusagen der Python-Knigge (Python Enhancement Proposal s. https://peps.python.org/pep-0008/) <br>\n",
    "- Feste Regeln:<br><b>\n",
    "Beliebige Kombinationen aus Buchstaben (nicht nur aus dem Lateinischen Alphabet s.u.) und Ziffern sind erlaubt, als einziges Sonderzeichen darf der Unterstrich _ verwendet werden.<br>\n",
    "Der Bezeichner muß mit einem Buchstaben oder einem Unterstrich anfangen.<br></b>\n",
    "- Empfehlungen:<br>\n",
    "Variablennamen sollten aussagen, was sie beinhalten, also z.B. mein_kontostand, aber nicht k. Jeder Programmierer, der unser Programm anschaut und eventuell warten soll, wird uns dankbar sein (und nach einer gewissen Zeit [ohne mit dem Programm gearbeitet zu haben] werden auch wir sonst Schwierigkeiten bekommen).<br>\n",
    "Wir sollten im allgemeinen nur Kleinbuchstaben verwenden (es gibt Ausnahmen z.B. für Namen von Klassen).<br> Wortbestandteile sollten mit Unterstrichen getrennt werden."
   ]
  },
  {
   "cell_type": "code",
   "execution_count": 2,
   "metadata": {},
   "outputs": [],
   "source": [
    "#Erlaubt:\n",
    "ein_auto = True #alles klein und mit Unterstrich getrennt\n",
    "gewinn_in_2020 = 12346.00\n",
    "_ = False\n",
    "_123 = 45\n",
    "vö1l2l3i4g_durcheinander = True #besondere Buchstaben, wie ö erlaubt\n",
    "anderes_Alphabet =True \n",
    "ταχύτητα = anderes_Alphabet\n",
    "\n",
    "#nicht erlaubt\n",
    "#1auto = True # macht Fehler SyntaxError: invalid syntax\n",
    "\n",
    "#Nicht gut, nicht üblich:\n",
    "a = 3\n",
    "KeineGuteIdee = True\n",
    "Mein_Auto = ein_auto\n"
   ]
  },
  {
   "cell_type": "markdown",
   "metadata": {},
   "source": [
    "Wir haben also hinreichend Möglichkeiten, unsere Variablen zu benennen, allerdings hat Python einige reservierte Wörter mit festgelegter Bedeutung, die wir nicht als Bezeichner zur Verfügung haben. Hier eine Übersicht. Was die einzelnen Wörter bedeuten, (falls wir sie noch nicht kennen) erfahren wir ausführlich in diesem Tutorial."
   ]
  },
  {
   "cell_type": "markdown",
   "metadata": {},
   "source": [
    "<img width=800 src=\"Images/ReservierteWörter.png\" />"
   ]
  },
  {
   "cell_type": "markdown",
   "metadata": {},
   "source": [
    "Bei eingebauten Funktionen wie abs() oder importierten Funktionen wie sin() wäre es aber erlaubt, sie als Bezeichner für eigene Variablen zu verwenden. Bitte nicht tun, das wird sehr ungern gesehen bei anderen Programmierern. (Normalerweise mindestens Gefängnisstrafe!:))"
   ]
  },
  {
   "cell_type": "code",
   "execution_count": 1,
   "metadata": {},
   "outputs": [
    {
     "name": "stdout",
     "output_type": "stream",
     "text": [
      "Absolutwert von -2: 2\n",
      "abs ohne Klammern: <built-in function abs> ist die Funktion selber\n",
      "Variable abs: 3\n",
      "Variable sin: 7\n"
     ]
    }
   ],
   "source": [
    "#Bitte , bitte nicht tun!\n",
    "print(f\"Absolutwert von -2: {abs(-2)}\")\n",
    "print(f\"abs ohne Klammern: {abs} ist die Funktion selber\")\n",
    "abs=3\n",
    "print(f\"Variable abs: {abs}\") #wer zuletzt kommt setzt sich durch!\n",
    "sin=7\n",
    "print(f\"Variable sin: {sin}\") \n",
    "#Achtung, dieses Skript kann bei mehrfachen Aufrufen einen neuen Kernelstart erforderlich machen!!!"
   ]
  },
  {
   "cell_type": "markdown",
   "metadata": {},
   "source": [
    "Nachdem wir jetzt gelernt haben, mit Variablen umzugehen, schauen wir uns genauer an, was beim Speichern der Werte im Hintergrund passiert."
   ]
  },
  {
   "cell_type": "markdown",
   "metadata": {},
   "source": [
    "Wir haben bereits gesagt, daß in Python alle Elemente der Sprache Objekte sind, daß deren Werte mit einem Bezeichner als Referenz (wie ein Etikett) gespeichert werden können und einen Typ haben. Wir können uns mit der id() Funktion anschauen, wo die Objekte gespeichert sind. Wir erhalten dann die Speicheradresse, die uns im allgemeinen wenig hilfreich ist. Was aber möglich ist, ist zu sehen, ob mehrere Objekte den gleichen Speicherort haben. "
   ]
  },
  {
   "cell_type": "code",
   "execution_count": 2,
   "metadata": {},
   "outputs": [
    {
     "name": "stdout",
     "output_type": "stream",
     "text": [
      "<class 'int'>\n",
      "Speicherplatz auf den test1 und test2 verweisen: 2388903029104  2388903029104\n"
     ]
    }
   ],
   "source": [
    "test1 = 3\n",
    "print(type(test1))\n",
    "test2 = test1\n",
    "print(f\"Speicherplatz auf den test1 und test2 verweisen: {id(test1)}  {id(test2)}\")"
   ]
  },
  {
   "cell_type": "markdown",
   "metadata": {},
   "source": [
    "Wir haben im Beispiel zunächst die Referenz (also quasi einen Zeiger auf einen Speicherbereich) ```test1``` erzeugt und diesem Objekt den Integerwert 3 zugeordnet. Dann haben wir durch Zeile 3 eine zweite Referenz auf dieselbe Stelle erzeugt (test2). Die letzte Zeile liefert dazu den Beweis, weil die Speicheradresse für beide Variablen gleich ist. In Zeile 3 wird also lediglich eine 2. Referenz erzeugt, der Wert 3 ist aber nur einmal gespeichert. In Python sind die Bezeichner <b>Referenzen auf Objekte<b/>. In anderen Sprachen kann dies durchaus anders sein, hier können Bezeichner wirklich jeweils einen eigenen Wert zugeordnet werden. 3 wäre dann an 2 verschiedenen Stellen gespeichert. Wir haben gesagt, dass 3 als Integer gespeichert wird. Python erkennt dies automatisch am Wert der Variablen, dieselbe Variable kann auch mit einem Wert eines anderen Typs überschrieben werden. Dies nennt man \"dynamische Typisierung\" und dies ist in vielen anderen Sprachen nicht möglich (s.u.)."
   ]
  },
  {
   "cell_type": "code",
   "execution_count": 3,
   "metadata": {},
   "outputs": [
    {
     "name": "stdout",
     "output_type": "stream",
     "text": [
      "<class 'int'>\n",
      "<class 'bool'>\n",
      "<class 'float'>\n"
     ]
    }
   ],
   "source": [
    "a = 3\n",
    "print (type(a))\n",
    "a = False\n",
    "print (type(a))\n",
    "a = 3.1415926\n",
    "print(type(a))"
   ]
  },
  {
   "cell_type": "markdown",
   "metadata": {},
   "source": [
    "Diese Möglichkeit von Python ist sehr elegant, aber zwingt den Programmierer dazu immer im Auge zu behalten, welchen Typ denn seine Variablen haben sollen. Denn manche selbst gebauten Programmkonstruktionen können vielleicht nur mit bestimmten Typen umgehen. Eine Hilfe bietet hier die Funktion isinstance(). Zunächst gibt man hier den Namen des Objektes an, dann den Typ, der geprüft werden soll. Die Funktion liefert dann True oder False zurück, je nachdem was der Test ergibt."
   ]
  },
  {
   "cell_type": "code",
   "execution_count": 4,
   "metadata": {},
   "outputs": [
    {
     "name": "stdout",
     "output_type": "stream",
     "text": [
      "True\n",
      "False\n"
     ]
    }
   ],
   "source": [
    "a = 3\n",
    "print(isinstance(a,int))\n",
    "print(isinstance(a,float))"
   ]
  },
  {
   "cell_type": "code",
   "execution_count": 5,
   "metadata": {},
   "outputs": [
    {
     "name": "stdout",
     "output_type": "stream",
     "text": [
      "Referenzen x und y verweisen auf Speicher: 2388903030352,2388903030352\n",
      "x -> Wert:  42 Speicherplatz: 2388903030352\n",
      "y -> Wert:  76 Speicherplatz: 2388903219920\n",
      "y -> Wert: 3.1 Speicherplatz: 2388986309520\n"
     ]
    }
   ],
   "source": [
    "x = 42\n",
    "y = x #zwei Referenzen, ein Wert\n",
    "print(f\"Referenzen x und y verweisen auf Speicher: {id(x)},{id(y)}\")\n",
    "y = 76\n",
    "print(f\"x -> Wert: {x:3d} Speicherplatz: {id(x)}\")\n",
    "print(f\"y -> Wert: {y:3d} Speicherplatz: {id(y)}\")\n",
    "y = 3.14\n",
    "print(f\"y -> Wert: {y:2.1f} Speicherplatz: {id(y)}\")"
   ]
  },
  {
   "cell_type": "markdown",
   "metadata": {},
   "source": [
    "Was passiert hier? <img width=800 src=\"Images/ReferenzenWerte.png\" />"
   ]
  },
  {
   "cell_type": "markdown",
   "metadata": {},
   "source": [
    "Wenn wir \"y = x\" schreiben, erzeugen wir eine neue Referenz y auf die Speicherzelle, deren Bezeichner x ist. x und y verweisen also beide auf diese Speicherzelle, diese Bindung wird aufgelöst, wenn wir y mit einem neuen Wert belegen. Neben dem Wert ist auch der Typ gespeichert, dieser wird beim Überschreiben mit einer Fließkommazahl entsprechend angepaßt."
   ]
  },
  {
   "cell_type": "markdown",
   "metadata": {},
   "source": [
    "Dieses Speichermodell unterscheidet sich, wie schon kurz angedeutet, sehr von anderen Sprachen. In C muß z.B. jede Variable deklariert werden, also einen Typ zugewiesen bekommen, bevor man sie mit einem Wert belegen kann, etwa so : ```int x;```. Diese Typzuordnung bleibt erhalten, solange das Programm läuft. Wird dieser Variable x ein neuer Wert zugewiesen, der nicht vom Typ ```int``` ist, gibt es einen Fehler. Der Vorteil dieser ```statischen Typisierung von C``` ist höhere Geschwindigkeit, einfachere Erkennung von Fehlern, Fehlbelegung von Variablen wird schon in der Programmierumgebung angezeigt. Der Nachteil ist, daß man mehr Code braucht und Programmteile nicht für mehrere Arten von Typen schreiben kann. ```Dynamische Typisierung mit automatischer Erkennung des Typs``` wie in Python, macht Wiederholungen im Code weniger wahrscheinlich. Man kann häufig Code, der an sich für einen bestimmten Variablentyp gedacht war, auch für andere Typen verwenden (Refaktorierung). Nachteil ist, daß bei Nichtbeachtung des erforderlichen Typs einer Variablen gelegentlich schwer zu findende Fehler auftreten können. Darüber hinaus ist das Speichermodell mit Referenzen auf Objekte bei zusammengesetzten mutablen Typen (werden wir gleich besprechen) manchmal für Anfänger unübersichtlich. Diese Punkte haben bei Programmierern anderer Sprachen teils erhebliche Kritik ausgelöst, weil Python als unzuverlässig und fehleranfällig gesehen wird. Diese Aussagen sind aber sicher massiv übertrieben, wie unzählige komplexe und fehlerfreie Programme mit Python eindruckvoll belegen. Alles eine Frage des Wissens (man muß die Schwachstellen kennen) und der Gewöhnung."
   ]
  },
  {
   "cell_type": "markdown",
   "metadata": {},
   "source": [
    "Nun noch ein kleines Extra. Seit Python 3.8 gibt es den Ausdruck-Zuweisungs Operator (Expression-Assignment). Dieser Operator heißt auch Walross- Operator, da er so aussieht:<b> := (liegendes Walross:)</b>. Damit kann man in <b>einem Ausdruck einer Variablen einen Wert zuordnen</b>. ohne dafür eine extra Zuweisung zu benötigen. Ein Beispiel mit und ohne Walross-Operator folgt. Im ersten Beispiel wird im Ausdruck \"listen_länge := len(meine_liste)\" ```listen_länge``` gleich auf den Wert ```len(meine_liste)``` gesetzt mit dem Walross-Operaor. Im zweiten Beispiel muß man das extra tun.\n",
    "<b>Die Zuweisung mit dem Walross-Operator wie im ersten Beispiel muß geklammert sein."
   ]
  },
  {
   "cell_type": "code",
   "execution_count": 6,
   "metadata": {},
   "outputs": [
    {
     "name": "stdout",
     "output_type": "stream",
     "text": [
      "meine_liste ist länger als 2, nämlich 5 lang.\n"
     ]
    }
   ],
   "source": [
    "meine_liste = [1, 2, 3, 4, 5]\n",
    "if (listen_länge := len(meine_liste)) > 2: #hier wird list_length auf len(meine_Liste) gesetzt\n",
    "    print(f\"meine_liste ist länger als 2, nämlich {listen_länge} lang.\" )"
   ]
  },
  {
   "cell_type": "code",
   "execution_count": null,
   "metadata": {},
   "outputs": [],
   "source": [
    "meine_liste = [1, 2, 3, 4, 5]\n",
    "listen_länge = len(meine_liste) #extra Zuweisung\n",
    "if listen_länge  > 2: #hier wird list_length auf len(meine_Liste) gesetzt\n",
    "    print(f\"meine_liste ist länger als 2, nämlich {listen_länge} lang.\" )"
   ]
  },
  {
   "cell_type": "markdown",
   "metadata": {},
   "source": [
    "Man könnte natürlich fragen, ist es so schlimm, wenn man die Zuweisung extra macht? Bei komplizierteren Beispielen sieht man besser den Vorteil, der vor allem beim Debuggen wertvoll sein kann."
   ]
  },
  {
   "cell_type": "code",
   "execution_count": 7,
   "metadata": {},
   "outputs": [
    {
     "name": "stdout",
     "output_type": "stream",
     "text": [
      "1.3020877013558598e+16\n"
     ]
    }
   ],
   "source": [
    "import math\n",
    "komplizierterer_ausdruck=(der_sinus:=math.sin(4.5/7.6))/(.7*(der_cosinus:=math.cos(1.5707963267948966)))\n",
    "print(komplizierterer_ausdruck)"
   ]
  },
  {
   "cell_type": "markdown",
   "metadata": {},
   "source": [
    "Ganz schön hohe Zahl. Warum? Schauen wir mal:"
   ]
  },
  {
   "cell_type": "code",
   "execution_count": 8,
   "metadata": {},
   "outputs": [
    {
     "name": "stdout",
     "output_type": "stream",
     "text": [
      "0.5581091374861059\n",
      "6.123233995736766e-17\n"
     ]
    }
   ],
   "source": [
    "print(der_sinus)\n",
    "print(der_cosinus)\n"
   ]
  },
  {
   "cell_type": "markdown",
   "metadata": {},
   "source": [
    "Also der Cosinus ist es. Wenn wir die Werte aber nicht ausdrucken wollen (müssen), arbeiten wir einfach weiter. Was aber nicht nötig ist mit dem Walross-Operator ist:"
   ]
  },
  {
   "cell_type": "code",
   "execution_count": null,
   "metadata": {},
   "outputs": [],
   "source": [
    "import math\n",
    "der_sinus=math.sin(4.5/7.6) #entfällt\n",
    "der_cosinus=math.cos(1.5707963267948966) #entfällt\n",
    "komplizierterer_ausdruck=math.sin(4.5/7.6)/(.7*math.cos(1.5707963267948966))\n",
    "print(komplizierterer_ausdruck)\n",
    "print(der_sinus)\n",
    "print(der_cosinus)"
   ]
  },
  {
   "cell_type": "markdown",
   "metadata": {},
   "source": [
    "Hat man einen komplizierten Ausdruck, von dem man nicht ganz sicher ist, ob man ihn richtig formuliert hat, kann im Zweifelsfall der Walross-Operator zum einfachen Debuggen helfen."
   ]
  }
 ],
 "metadata": {
  "kernelspec": {
   "display_name": "Python 3 (ipykernel)",
   "language": "python",
   "name": "python3"
  },
  "language_info": {
   "codemirror_mode": {
    "name": "ipython",
    "version": 3
   },
   "file_extension": ".py",
   "mimetype": "text/x-python",
   "name": "python",
   "nbconvert_exporter": "python",
   "pygments_lexer": "ipython3",
   "version": "3.9.12"
  }
 },
 "nbformat": 4,
 "nbformat_minor": 4
}
