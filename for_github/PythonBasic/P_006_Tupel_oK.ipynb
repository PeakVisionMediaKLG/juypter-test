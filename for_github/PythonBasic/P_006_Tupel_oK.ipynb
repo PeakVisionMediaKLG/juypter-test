{
 "cells": [
  {
   "cell_type": "markdown",
   "metadata": {},
   "source": [
    "# Tupel<br><br><img width=700 src=\"Images/Tupel.png\" />"
   ]
  },
  {
   "cell_type": "markdown",
   "metadata": {},
   "source": [
    "Tupel haben sehr viel gemeinsam mit Listen. Auch sie sind sequentielle Allzweckcontainer, aber sie sind nicht veränderbar (immutable). Beim Erstellen wird das Tupel mit runden Klammern begrenzt. Die Indizierung und das Ausschneiden ist analog zu Listen. Unsere vorher gezeigten Listenfunktionen (append,extend,copy,remove...) funktionieren für Tuple nicht. Es ist nicht möglich ein Element zu überschreiben. Mit dem ```+``` Operator kann man an ein Tupel ein anderes Tupel anhängen. Auch ```+=``` existiert analog zu Listen. <b>Wichtig: ein Tupel mit nur einem Element muß nach dem Wert ein Komma haben, also: ```(wert,)```!! Es wird sonst nicht als Tupel erkannt.</b>"
   ]
  },
  {
   "cell_type": "code",
   "execution_count": null,
   "metadata": {},
   "outputs": [],
   "source": [
    "das_tupel=(2,3,(\"Hallo\",3),[3,4,5],False)\n",
    "print(f\"(2,3,('Hallo',3),[3,4,5],False) ist vom Typ: {type(das_tupel)}\")\n",
    "print(f\"das_tupel:  {das_tupel}\")\n",
    "t = das_tupel + (4,5)\n",
    "print(f\"das_tupel + (4,5):  {t}\")\n",
    "t += (4,) # einer-Tupel!!\n",
    "print(f\"das_tupel += (4,) {t}\")\n",
    "#t[3] = 7 #macht Fehler: TypeError: 'tuple' object does not support item assignment"
   ]
  },
  {
   "cell_type": "markdown",
   "metadata": {},
   "source": [
    "Wozu braucht man Tupel, wenn es Listen gibt?<br>\n",
    "- Tupel werden schneller bearbeitet\n",
    "- Tupel schützen Daten, die im Ablauf des Programms nicht verändert werden sollen, vor versehentlicher Änderung\n",
    "- Tupel können Schlüssel in Wörterbüchern sein (später mehr)"
   ]
  },
  {
   "cell_type": "markdown",
   "metadata": {},
   "source": [
    "Die Struktur der Referenzen bei verschachtelten Tupeln ist wie bei Listen. Unveränderlich ist nur die <b>erste Schicht von Referenzen</b>, interne Container wie Listen (da sie mutabel sind) können verändert werden!! "
   ]
  },
  {
   "cell_type": "code",
   "execution_count": null,
   "metadata": {},
   "outputs": [],
   "source": [
    "my_tuple = (1,2,3,[4,5])\n",
    "my_tuple[3][1] = 6\n",
    "print(f\"Das Tupel ist jetzt {my_tuple}\")\n",
    "#my_tuple[3]=[4,6] #macht Fehler TypeError: 'tuple' object does not support item assignment, da erste Schicht verändert"
   ]
  },
  {
   "cell_type": "markdown",
   "metadata": {},
   "source": [
    "<b>Tupel können gepackt und entpackt werden.</b> Wenn man z.B. in einem Tupel 3 Elemente hat und diese 3 Variablen zuordnen will, macht Python dies automatisch (automatisches Tupel-Packen und -Entpacken)."
   ]
  },
  {
   "cell_type": "code",
   "execution_count": null,
   "metadata": {},
   "outputs": [],
   "source": [
    "t = 1,2,3 #Packen\n",
    "print(f\"gepacktes Tupel: {t}\")\n",
    "a,b,c = t #Entpacken\n",
    "print(a)\n",
    "print(b)\n",
    "print(c)"
   ]
  },
  {
   "cell_type": "markdown",
   "metadata": {},
   "source": [
    "Eine wertvolle Ergänzung zu Tupeln sind die benannten Tupel oder ```named tuples```. Sie benötigen wieder den Import eines Moduls. (wie bei math, copy, ...) Nach dem Funktionsnamen ```namedtuple``` folgt in Klammern der Name des namedtuple, also \"Auto\" in dieser speziellen Konstruktion, und dann eine Aufzählung der Namen der Bestandteile des Tupel als Strings gtrennt durch Blanks. (s.u.) Auf die Bestandteile des \"named tupels\" greift man über ```Tupel.Bestandteilname``` zu. Dieses Vorgehen bildet eine einfache Datenbank-ähnliche Strukur dar, aber ohne Relationen und Veränderbarkeit."
   ]
  },
  {
   "cell_type": "code",
   "execution_count": null,
   "metadata": {},
   "outputs": [],
   "source": [
    "from collections import namedtuple #später hierzu mehr\n",
    "Auto = namedtuple(\"Auto\",\"PS Farbe Hubraum\")\n",
    "\n",
    "Passat = Auto(123,\"rot\",2000)\n",
    "print(Passat) \n",
    "print(Passat.Farbe)\n",
    "print(Passat.Hubraum) "
   ]
  },
  {
   "cell_type": "markdown",
   "metadata": {},
   "source": [
    "Erlaubte Funktionen in Tupeln sind neben + und +=: <br>\n",
    "- len()\n",
    "- in\n",
    "- count()\n",
    "- index(Wert)\n",
    "- *\n",
    "- *=\n",
    "<br> mit den aus Listen bekannten Bedeutungen."
   ]
  },
  {
   "cell_type": "code",
   "execution_count": null,
   "metadata": {},
   "outputs": [],
   "source": [
    "t = (1,3,2,3)\n",
    "print(f\"Länge von {t} ist {len(t)}\")\n",
    "print(f\"Ist 5 in t? {5 in t}\")\n",
    "print(f\"Wieviel mal 3 gibt es in {t}? {t.count(3)}\")\n",
    "print(f\"Was steht am Index 2 in {t}? {t.index(2)}\")\n",
    "print(f\"t * 2: {t*2}\")\n",
    "t *= 3\n",
    "print(f\"Was ist t nach t*=3? {t}\")"
   ]
  },
  {
   "cell_type": "markdown",
   "metadata": {},
   "source": [
    "Bevor wir das Kapitel verlassen noch etwas zu Mehrfachzuordnungen, wie wir sie beim Tupelentpacken gesehen haben. Die Anzahl der Werte (auch natürlich Ausdrücke, die einen Wert ergeben), die wir zuordnen wollen, muß mit der Anzahl der Bezeichner übereinstimmen (außer s.o. Tupel). Also:"
   ]
  },
  {
   "cell_type": "code",
   "execution_count": null,
   "metadata": {},
   "outputs": [],
   "source": [
    "a,b,c=2,17*6,\"bla\"\n",
    "print(a)\n",
    "print(b)\n",
    "print(c)"
   ]
  },
  {
   "cell_type": "markdown",
   "metadata": {},
   "source": [
    "<b>Wichtig: Zuerst wird die gesamte rechte Seite ausgewertet und dann der Reihe nach den Bezeichnern zugeordnet.</b> Deshalb tauscht man unten x und y aus."
   ]
  },
  {
   "cell_type": "code",
   "execution_count": null,
   "metadata": {},
   "outputs": [],
   "source": [
    "x=3\n",
    "y=4\n",
    "x,y=y,x #zuerst Wert von y und Wert von x bestimmen, dann zuordnen\n",
    "print(x,y)"
   ]
  },
  {
   "cell_type": "markdown",
   "metadata": {},
   "source": [
    "In anderen Sprachen ist dies zum Teil nicht so."
   ]
  },
  {
   "cell_type": "markdown",
   "metadata": {},
   "source": [
    "Soviel zu Tupel, kommen wir jetzt zu den wichtigen Strings, ihren Funktionen und der Art sie auszudrucken. "
   ]
  }
 ],
 "metadata": {
  "kernelspec": {
   "display_name": "Python 3 (ipykernel)",
   "language": "python",
   "name": "python3"
  },
  "language_info": {
   "codemirror_mode": {
    "name": "ipython",
    "version": 3
   },
   "file_extension": ".py",
   "mimetype": "text/x-python",
   "name": "python",
   "nbconvert_exporter": "python",
   "pygments_lexer": "ipython3",
   "version": "3.9.12"
  }
 },
 "nbformat": 4,
 "nbformat_minor": 4
}
