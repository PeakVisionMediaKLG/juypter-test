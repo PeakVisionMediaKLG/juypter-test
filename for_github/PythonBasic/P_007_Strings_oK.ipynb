{
 "cells": [
  {
   "cell_type": "markdown",
   "metadata": {},
   "source": [
    "# Strings <br><br><img width=700 src=\"Images/Strings.png\" />"
   ]
  },
  {
   "cell_type": "markdown",
   "metadata": {},
   "source": [
    "Nachdem Computer in den Anfängen hauptsächlich mit numerischen Aufgaben beschäftigt waren, wird der Umgang mit Texten immer wichtiger. Der Datentyp, der in Python hierfür zur Verfügung steht, sind Strings. Strings sind ein fundamentaler Datentyp, sie können nicht in Einzelteile eines anderen Typs zerlegt werden, sind aber natürlich ein zusammengesetzter Datentyp, da sie viele Einzelteile, die selbst kleiner Strings sind, enthalten können, im kleinsten Fall einzelne Buchstaben.<br>\n",
    "- Strings enthalten Buchstaben und Sonderzeichen (nicht nur aus dem lateinischen Alphabet, wie wir schon gesehen haben)\n",
    "- Strings sind geordnet, also sequentielle Typen\n",
    "- Strings sind unveränderbar (immutable)\n",
    "- Strings sind in doppelte oder einfache Hochkommata eingeschlossen<br>\n",
    "Beispiele s.u.:<br>\n",
    "s und s1 unten sind äquivalent.<br>\n",
    "- Das Indizieren und Ausschneiden ist identisch wie bei Listen.<br>\n",
    "- Es gibt ```len()``` für die Länge, ```in``` und ```count()``` sowie ```index()``` wie bei Listen.<br>\n",
    "- Auch ```+ , += , * , *=``` funktionieren genauso.<br>\n",
    "- Der Typ ist ```str```."
   ]
  },
  {
   "cell_type": "markdown",
   "metadata": {},
   "source": [
    "Das Auschneiden von Bereichen aus Strings entspricht genau dem Verfahren wie bei Listen. Wichtige Funktionen sind len() und count(). Auch ```in``` wird bei Strings verwendet. ```+,+= und *,*= ```Operatoren sind bei Strings ebenfalls möglich. Beispiele unten:"
   ]
  },
  {
   "cell_type": "code",
   "execution_count": 16,
   "metadata": {},
   "outputs": [
    {
     "name": "stdout",
     "output_type": "stream",
     "text": [
      "Ausschnitt 2-4 (4 ausgeschlossen!) aus Hallo: ll\n",
      "Ausschnitt 2:8:2  aus Hallo Welt: loW\n",
      "Länge von Hallo: 5\n",
      "Wieviel mal l in Hallo: 2\n",
      "o in Hallo? True\n",
      "Index von o in Hallo: 4\n",
      "2 mal Hallo: HalloHallo\n",
      "s+=s HalloHallo\n",
      "s+\"World\": HalloHalloWorld\n",
      "Ein String ist vom Typ: <class 'str'>\n"
     ]
    }
   ],
   "source": [
    "s = \"Hallo\"\n",
    "s1 = 'Hallo'\n",
    "ausschnitt = s[2:4]\n",
    "ausschnitt1 = \"Hallo Welt\"[2:8:2]\n",
    "print(f\"Ausschnitt 2-4 (4 ausgeschlossen!) aus Hallo: {ausschnitt}\")\n",
    "print(f\"Ausschnitt 2:8:2  aus Hallo Welt: {ausschnitt1}\")\n",
    "print(f\"Länge von Hallo: {len(s)}\")\n",
    "print(f\"Wieviel mal l in Hallo: {s.count('l')}\")\n",
    "print(f\"o in Hallo? {'o' in s}\")\n",
    "print(f\"Index von o in Hallo: {s.index('o')}\")\n",
    "print(f\"2 mal Hallo: {s*2}\")\n",
    "s+=s\n",
    "print(f\"s+=s {s}\")\n",
    "print(f\"s+\\\"World\\\": {s+'World'}\")\n",
    "print(f\"Ein String ist vom Typ: {type(s)}\")"
   ]
  },
  {
   "cell_type": "markdown",
   "metadata": {},
   "source": [
    "Wichtig, noch einmal daruf hinzuweisen, daß im Jupyter-Notebook nur bei Direktausgabe der Zelle, also ohne print() (der letzte Wert einer Zelle wird ja automatisch ausgegeben in ```Out```) die Anführungszeichen gezeigt werden."
   ]
  },
  {
   "cell_type": "code",
   "execution_count": 1,
   "metadata": {},
   "outputs": [
    {
     "name": "stdout",
     "output_type": "stream",
     "text": [
      "Hallo Leute\n"
     ]
    },
    {
     "data": {
      "text/plain": [
       "'Hallo Leute'"
      ]
     },
     "execution_count": 1,
     "metadata": {},
     "output_type": "execute_result"
    }
   ],
   "source": [
    "s = \"Hallo Leute\"\n",
    "print(\"Hallo Leute\")\n",
    "s"
   ]
  },
  {
   "cell_type": "markdown",
   "metadata": {},
   "source": [
    "Damit man mit Strings auch arbeiten kann, gibt es eine Vielzahl von Funktionen dafür.<b> Es wird immer ein neuer String zurückgegeben, der Originalstring wird nicht verändert. Er ist ja schließlich immutable. Will man also das Ergebnis verwerten muß man es zuweisen wie :<br>neuer_string=string.methode() Der Ausgangsstring bleibt gleich. Macht man keine Zuweisung, ist das Ergebnis verloren.<br>\n",
    "    Hier die String-Methoden mit einer Erklärung: (Diese kann man natürlich nicht sofort alle umsetzen, es soll nur grob gezeigt werden, was es alles gibt!)"
   ]
  },
  {
   "cell_type": "markdown",
   "metadata": {},
   "source": [
    "## Stringmethoden (-funktionen)<br>\n",
    "<table style=\" width:100%; background-color: rgb(220, 120, 170); font-size: 14px\">\n",
    "<tbody>\n",
    "<tr style=\"height: 27px;\">\n",
    "    <td style=\"width: 120px;text-align: center;\"><FONT FACE=\"Courier 14 Pitch\" ><b>Methode</b></FONT></td>\n",
    "    <td style=\"width: 850px;text-align: center;\"><FONT FACE=\"Courier 14 Pitch\" ><b>Erklärung</b></FONT></td>\n",
    "\n",
    "</tr>\n",
    "<tr>\n",
    "<td style=\"text-align: left;width: 120px;\"><FONT FACE=\"Courier 14 Pitch\">capitalize()</FONT></td>\n",
    "<td style=\"text-align: center;width: 850px;\"><FONT FACE=\"Courier 14 Pitch\">Verwandelt den ersten Buchstaben in Großbuchstaben </FONT></td>\n",
    "    </tr>\n",
    "<tr>\n",
    "<td style=\"text-align: left;width: 120px;\"><FONT FACE=\"Courier 14 Pitch\">casefold()</FONT></td>\n",
    "<td style=\"text-align: center;width: 850px;\"><FONT FACE=\"Courier 14 Pitch\">Verwandelt den String in Kleinbuchstaben, auch andere Alphabete möglich</FONT></td>\n",
    "    </tr><tr>\n",
    "<td style=\"text-align: left;width: 120px;\"><FONT FACE=\"Courier 14 Pitch\">center(Wert)</FONT></td>\n",
    "<td style=\"text-align: center;width: 850px;\"><FONT FACE=\"Courier 14 Pitch\">Zentriert den String in einen Bereich der Breite \"Wert\"</FONT></td>\n",
    "    </tr><tr>\n",
    "<td style=\"text-align: left;width: 120px;\"><FONT FACE=\"Courier 14 Pitch\">count(Wert)</FONT></td>\n",
    "<td style=\"text-align: center;width: 850px;\"><FONT FACE=\"Courier 14 Pitch\">Gibt die Anzahl des Buchstabens oder Ausschnitts \"Wert\" im String zurück</FONT></td>\n",
    "    </tr><tr>\n",
    "<td style=\"text-align: left;width: 120px;\"><FONT FACE=\"Courier 14 Pitch\">encode(Wert)</FONT></td>\n",
    "<td style=\"text-align: center;width: 850px;\"><FONT FACE=\"Courier 14 Pitch\">Gibt eine enkodierte Version des Strings zurück </FONT></td>\n",
    "    </tr><tr>\n",
    "<td style=\"text-align: left;width: 120px;\"><FONT FACE=\"Courier 14 Pitch\">endswith(Wert)</FONT></td>\n",
    "<td style=\"text-align: center;width: 850px;\"><FONT FACE=\"Courier 14 Pitch\">Gibt True zurück,wenn der String ein bestimmmtes Ende \"Wert\" hat </FONT></td>\n",
    "    </tr>\n",
    "    \n",
    "<td style=\"text-align: left;width: 120px;\"><FONT FACE=\"Courier 14 Pitch\">startswith(Wert)</FONT></td>\n",
    "<td style=\"text-align: center;width: 850px;\"><FONT FACE=\"Courier 14 Pitch\">Gibt True zurück,wenn der String einen bestimmmten Anfang \"Wert\" hat </FONT></td>\n",
    "    </tr>    \n",
    "    <tr>\n",
    "<td style=\"text-align: left;width: 120px;\"><FONT FACE=\"Courier 14 Pitch\">expandtabs(Wert)</FONT></td>\n",
    "<td style=\"text-align: center;width: 850px;\"><FONT FACE=\"Courier 14 Pitch\">Legt die Größe der Tabulatoren fest</FONT></td>\n",
    "    </tr>\n",
    "    \n",
    "<tr><td style=\"text-align: left;width: 120px;\"><FONT FACE=\"Courier 14 Pitch\">find(Wert)</FONT></td>\n",
    "<td style=\"text-align: center;width: 850px;\"><FONT FACE=\"Courier 14 Pitch\">Sucht nach \"Wert\" und gibt dessen Position zurück<br> (auch hier ist Start und Ende möglich, s.Listenausschnitt) -1, wenn \"Wert\" nicht da </FONT></td></tr>\n",
    "<tr><td style=\"text-align: left;width: 120px;\"><FONT FACE=\"Courier 14 Pitch\">rfind(Wert)</FONT></td>\n",
    "<td style=\"text-align: center;width: 850px;\"><FONT FACE=\"Courier 14 Pitch\">Sucht nach \"Wert\" vom Stringende her und gibt dessen Position zurück<br> (auch hier ist Start und Ende möglich, s.Listenausschnitt) -1, wenn \"Wert\" nicht da </FONT></td></tr>\n",
    "<tr><td style=\"text-align: left;width: 120px;\"><FONT FACE=\"Courier 14 Pitch\">format()</FONT></td>\n",
    "<td style=\"text-align: center;width: 850px;\"><FONT FACE=\"Courier 14 Pitch\">Formatiert den String beim Ausdruck (später mehr dazu) </FONT></td></tr>\n",
    "<tr><td style=\"text-align: left;width: 120px;\"><FONT FACE=\"Courier 14 Pitch\">index(Wert)</FONT></td>\n",
    "<td style=\"text-align: center;width: 850px;\"><FONT FACE=\"Courier 14 Pitch\">Sucht nach dem ersten Auftreten von \"Wert\" und gibt dessen Position zurück,<br> macht Fehler, falls \"Wert\" nicht da </FONT></td></tr>\n",
    "<tr><td style=\"text-align: left;width: 120px;\"><FONT FACE=\"Courier 14 Pitch\">rindex(Wert)</FONT></td>\n",
    "<td style=\"text-align: center;width: 850px;\"><FONT FACE=\"Courier 14 Pitch\">Sucht nach dem letzten Auftreten von \"Wert\" und gibt dessen Position zurück,<br> macht Fehler, falls \"Wert\" nicht da </FONT></td></tr>\n",
    "<tr><td style=\"text-align: left;width: 120px;\"><FONT FACE=\"Courier 14 Pitch\">isalnum()</FONT></td>\n",
    "<td style=\"text-align: center;width: 850px;\"><FONT FACE=\"Courier 14 Pitch\">True, wenn alle Zeichen Zahlen oder Buchstaben sind</FONT></td></tr>\n",
    "<tr><td style=\"text-align: left;width: 120px;\"><FONT FACE=\"Courier 14 Pitch\">isalpha()</FONT></td>\n",
    "<td style=\"text-align: center;width: 850px;\"><FONT FACE=\"Courier 14 Pitch\">True, wenn alle Zeichen Buchstaben sind</FONT></td></tr>\n",
    "<tr><td style=\"text-align: left;width: 120px;\"><FONT FACE=\"Courier 14 Pitch\">isascii()</FONT></td>\n",
    "<td style=\"text-align: center;width: 850px;\"><FONT FACE=\"Courier 14 Pitch\">True, wenn alle Zeichen ASCII Zeichen sind</FONT></td></tr>\n",
    "<tr><td style=\"text-align: left;width: 120px;\"><FONT FACE=\"Courier 14 Pitch\">isdecimal()</FONT></td>\n",
    "<td style=\"text-align: center;width: 850px;\"><FONT FACE=\"Courier 14 Pitch\">True, wenn alle Zeichen Zahlen sind<br> , auch Brüche und römische Zahlen und Zahlensonderzeichen (s.u.)<br> machen False  </FONT></td></tr>\n",
    "<tr><td style=\"text-align: left;width: 120px;\"><FONT FACE=\"Courier 14 Pitch\">isdigit()</FONT></td>\n",
    "<td style=\"text-align: center;width: 850px;\"><FONT FACE=\"Courier 14 Pitch\">True, wenn alle Zeichen Zahlen sind,<br>'2/3' oder '2²'... aber erlaubt</FONT></td></tr>\n",
    "<tr><td style=\"text-align: left;width: 120px;\"><FONT FACE=\"Courier 14 Pitch\">isidentifier()</FONT></td>\n",
    "<td style=\"text-align: center;width: 850px;\"><FONT FACE=\"Courier 14 Pitch\">True, wenn der String ein gültiger Bezeichner wäre</FONT></td></tr>\n",
    "<tr><td style=\"text-align: left;width: 120px;\"><FONT FACE=\"Courier 14 Pitch\">islower()</FONT></td>\n",
    "<td style=\"text-align: center;width: 850px;\"><FONT FACE=\"Courier 14 Pitch\">True, wenn alle vorkommenden Buchstaben Kleinbuchstaben sind</FONT></td></tr>\n",
    "<tr><td style=\"text-align: left;width: 120px;\"><FONT FACE=\"Courier 14 Pitch\">isnumeric()</FONT></td>\n",
    "<td style=\"text-align: center;width: 850px;\"><FONT FACE=\"Courier 14 Pitch\">wie isdigit() aber auch römische Ziffern erlaubt</FONT></td></tr>\n",
    "<tr><td style=\"text-align: left;width: 120px;\"><FONT FACE=\"Courier 14 Pitch\">isprintable()</FONT></td>\n",
    "<td style=\"text-align: center;width: 850px;\"><FONT FACE=\"Courier 14 Pitch\">True, wenn man den String ausdrucken kann </FONT></td></tr>\n",
    "<tr><td style=\"text-align: left;width: 120px;\"><FONT FACE=\"Courier 14 Pitch\">isspace()</FONT></td>\n",
    "<td style=\"text-align: center;width: 850px;\"><FONT FACE=\"Courier 14 Pitch\">True, wenn der String nur Leerzeichen (auch Tabs,Zeilenumbrüche...) enthält </FONT></td></tr>\n",
    "<tr><td style=\"text-align: left;width: 120px;\"><FONT FACE=\"Courier 14 Pitch\">istitle()</FONT></td>\n",
    "<td style=\"text-align: center;width: 850px;\"><FONT FACE=\"Courier 14 Pitch\">True, wenn der String wie eine Überschrift aufgebaut ist </FONT></td></tr>\n",
    "    <tr><td style=\"text-align: left;width: 120px;\"><FONT FACE=\"Courier 14 Pitch\">isupper()</FONT></td>\n",
    "<td style=\"text-align: center;width: 850px;\"><FONT FACE=\"Courier 14 Pitch\">True, wenn alle Buchstaben im String Großbuchstaben sind </FONT></td></tr>\n",
    "    <tr><td style=\"text-align: left;width: 120px;\"><FONT FACE=\"Courier 14 Pitch\">Trennzeichen.join(Kombi)</FONT></td>\n",
    "<td style=\"text-align: center;width: 850px;\"><FONT FACE=\"Courier 14 Pitch\">verbindet die Stringelemente (nur diese erlaubt) kombinierter Typen <br>(Liste,Tupel,anderer String, Wörterbücher,Mengen) <br>zu einem String mit Trennzeichen</FONT></td></tr>\n",
    "    <tr><td style=\"text-align: left;width: 120px;\"><FONT FACE=\"Courier 14 Pitch\">ljust(Wert)</FONT></td>\n",
    "<td style=\"text-align: center;width: 850px;\"><FONT FACE=\"Courier 14 Pitch\">gibt linksausgerichteten String der Breite \"Wert\" zurück</FONT></td></tr>\n",
    "    <tr><td style=\"text-align: left;width: 120px;\"><FONT FACE=\"Courier 14 Pitch\">rjust(Wert)</FONT></td>\n",
    "<td style=\"text-align: center;width: 850px;\"><FONT FACE=\"Courier 14 Pitch\">gibt rechtsausgerichteten String der Breite \"Wert\" zurück</FONT></td></tr>\n",
    "    <tr><td style=\"text-align: left;width: 120px;\"><FONT FACE=\"Courier 14 Pitch\">lower()</FONT></td>\n",
    "<td style=\"text-align: center;width: 850px;\"><FONT FACE=\"Courier 14 Pitch\">gibt einen String mit allen Buchstaben als Kleinbuchstaben zurück</FONT></td></tr>\n",
    "    <tr><td style=\"text-align: left;width: 120px;\"><FONT FACE=\"Courier 14 Pitch\">upper()</FONT></td>\n",
    "<td style=\"text-align: center;width: 850px;\"><FONT FACE=\"Courier 14 Pitch\">gibt einen String mit allen Buchstaben als Großbuchstaben zurück</FONT></td></tr>\n",
    "    <tr><td style=\"text-align: left;width: 120px;\"><FONT FACE=\"Courier 14 Pitch\">swapcase()</FONT></td>\n",
    "<td style=\"text-align: center;width: 850px;\"><FONT FACE=\"Courier 14 Pitch\">gibt einen String mit allen Buchstaben Groß in Klein und Klein in Groß zurück</FONT></td></tr>\n",
    "    <tr><td style=\"text-align: left;width: 120px;\"><FONT FACE=\"Courier 14 Pitch\">title()</FONT></td>\n",
    "<td style=\"text-align: center;width: 850px;\"><FONT FACE=\"Courier 14 Pitch\">Gibt String zurück mit Großbuchstaben für jedes Wort am Anfang<br> und danach klein</FONT></td></tr>\n",
    "    <tr><td style=\"text-align: left;width: 120px;\"><FONT FACE=\"Courier 14 Pitch\">strip()</FONT></td>\n",
    "<td style=\"text-align: center;width: 850px;\"><FONT FACE=\"Courier 14 Pitch\">gibt String mit links und rechts am Ende abgeschnittenen Leerzeichen zurück</FONT></td></tr>\n",
    "    <tr><td style=\"text-align: left;width: 120px;\"><FONT FACE=\"Courier 14 Pitch\">lstrip()</FONT></td>\n",
    "<td style=\"text-align: center;width: 850px;\"><FONT FACE=\"Courier 14 Pitch\">gibt String mit links am Ende abgeschnittenen Leerzeichen zurück</FONT></td></tr>\n",
    "    <tr><td style=\"text-align: left;width: 120px;\"><FONT FACE=\"Courier 14 Pitch\">rstrip()</FONT></td>\n",
    "<td style=\"text-align: center;width: 850px;\"><FONT FACE=\"Courier 14 Pitch\">gibt String mit rechts am Ende abgeschnittenen Leerzeichen zurück</FONT></td></tr>\n",
    "    <tr><td style=\"text-align: left;width: 120px;\"><FONT FACE=\"Courier 14 Pitch\">zfill(Wert)</FONT></td>\n",
    "<td style=\"text-align: center;width: 850px;\"><FONT FACE=\"Courier 14 Pitch\">gibt String zurück links mit Nullen aufgefüllt<br> bis Breite \"Wert\" erreicht ist</FONT></td></tr>\n",
    "    <tr><td style=\"text-align: left;width: 120px;\"><FONT FACE=\"Courier 14 Pitch\">rstrip()</FONT></td>\n",
    "<td style=\"text-align: center;width: 850px;\"><FONT FACE=\"Courier 14 Pitch\">gibt String mit rechts am Ende abgeschnittenen Leerzeichen zurück</FONT></td></tr>\n",
    "    <tr><td style=\"text-align: left;width: 120px;\"><FONT FACE=\"Courier 14 Pitch\">rstrip()</FONT></td>\n",
    "<td style=\"text-align: center;width: 850px;\"><FONT FACE=\"Courier 14 Pitch\">gibt String mit rechts am Ende abgeschnittenen Leerzeichen zurück</FONT></td></tr>\n",
    "    <tr><td style=\"text-align: left;width: 120px;\"><FONT FACE=\"Courier 14 Pitch\">rstrip()</FONT></td>\n",
    "<td style=\"text-align: center;width: 850px;\"><FONT FACE=\"Courier 14 Pitch\">gibt String mit rechts am Ende abgeschnittenen Leerzeichen zurück</FONT></td></tr>\n",
    "    <tr><td style=\"text-align: left;width: 120px;\"><FONT FACE=\"Courier 14 Pitch\">maketrans(lold,lnew,ldrop)</FONT></td>\n",
    "<td style=\"text-align: center;width: 850px;\"><FONT FACE=\"Courier 14 Pitch\">tauscht \"lold\" gegen \"lnew\",löscht \"ldrop\",<br> <b>translate()</b> von maketrans(...) gibt den neuen String zurück</FONT></td></tr>\n",
    "    <tr><td style=\"text-align: left;width: 120px;\"><FONT FACE=\"Courier 14 Pitch\">partition(Wert)</FONT></td>\n",
    "<td style=\"text-align: center;width: 850px;\"><FONT FACE=\"Courier 14 Pitch\">macht Tupel mit 3 Elementen, <br>alles im String vor dem ersten Auftreten von \"Wert\", \"Wert\", Alles nach \"Wert\"</FONT></td></tr>\n",
    "    <tr><td style=\"text-align: left;width: 120px;\"><FONT FACE=\"Courier 14 Pitch\">rpartition(Wert)</FONT></td>\n",
    "<td style=\"text-align: center;width: 850px;\"><FONT FACE=\"Courier 14 Pitch\">macht Tupel mit 3 Elementen,<br> alles im String vor dem letzten Auftreten von \"Wert\", \"Wert\", Alles nach \"Wert\"</FONT></td></tr>\n",
    "    <tr><td style=\"text-align: left;width: 120px;\"><FONT FACE=\"Courier 14 Pitch\">replace(Wert,neuerWert)</FONT></td>\n",
    "<td style=\"text-align: center;width: 850px;\"><FONT FACE=\"Courier 14 Pitch\">Gibt String zurück, wo \"Wert\" durch \"neuerWert\" ersetzt ist</FONT></td></tr>\n",
    "<tr><td style=\"text-align: left;width: 120px;\"><FONT FACE=\"Courier 14 Pitch\">split(Wert,Maximum)</FONT></td>\n",
    "<td style=\"text-align: center;width: 850px;\"><FONT FACE=\"Courier 14 Pitch\">Gibt Liste zurück mit Elementen vom bei \"Wert\" geteilten String,<br> aber nur \"Maximum\" Teile falls Maximum gesetzt</FONT></td></tr>\n",
    "<tr><td style=\"text-align: left;width: 120px;\"><FONT FACE=\"Courier 14 Pitch\">rsplit(Wert,Maximum)</FONT></td>\n",
    "<td style=\"text-align: center;width: 850px;\"><FONT FACE=\"Courier 14 Pitch\">Gibt Liste zurück mit Elementen vom bei \"Wert\" geteilten String, <br>von rechts beginnt bei \"Maximum\" Teilen</FONT></td></tr>\n",
    "<tr><td style=\"text-align: left;width: 120px;\"><FONT FACE=\"Courier 14 Pitch\">splitlines()</FONT></td>\n",
    "<td style=\"text-align: center;width: 850px;\"><FONT FACE=\"Courier 14 Pitch\">Gibt Liste zurück mit Elementen vom String, getrennt bei Zeilenumbruch </FONT></td></tr>\n",
    "    \n",
    "</tbody>\n",
    "</table>\n",
    "\n"
   ]
  },
  {
   "cell_type": "raw",
   "metadata": {},
   "source": [
    "s: \"WertY\"   s1: \"alles klein\"  s2: \"     blöd  \"  s3: \"1\t2\t3\"  s4: \"3²4\"\n",
    "----------------------------------------------------------------------------------------------------\n",
    " s1.capitalize():    Alles klein\n",
    " s.casefold():       werty\n",
    " s1.center(20):      \"    alles klein     \"\n",
    " s1.count('ll'):     1\n",
    " s2.encode('utf8'):  b'     bl\\xc3\\xb6d  '\n",
    " s2.endswith('öd'):  False\n",
    " s.startswith('W'):  True\n",
    " s3.expandtabs(4):   1   2   3\n",
    " s1.find('l',2,5):   2\n",
    " s1.rfind('l',2,8):  7\n",
    " blöd0.format('er geht es nicht!'): blöder geht es nicht! ist eigenes Unterkapitel!\n",
    " s.index('W'):       0\n",
    " s1.rindex('l'):     7\n",
    " s.isalnum():        True\n",
    " s1.isalpha():       False ->enthält Leerzeichen!\n",
    " s1.isascii():       True\n",
    " s4.isdecimal():     False ->enthält hoch 2 Zeichen!\n",
    " s4.isdigit():       True -> hoch 2... und Brüche erlaubt!\n",
    " s1.isidentifier():  False -> Leerzeichen für Bezeichner nicht erlaubt\n",
    " s1.islower()        True \n",
    " s4.isnumeric():     True \n",
    " s4.isprintable():   True -> False wäre z.B. '\\e' (später mehr)\n",
    " s3.isspace():       False \n",
    " s.istitle():        False -> Alle Wörter müssen mit Großbuchstaben starten und müssen danach klein weitergehen\n",
    " s.isupper():        False \n",
    " \":\".join([\"1\",\"2\",\"3.23\",\"bla\"]):      1:2:3.23:bla \n",
    " s.ljust(20):        \"WertY               \" \n",
    " s2.rjust(20):       \"              blöd  \" \n",
    " s.upper():          WERTY \n",
    " s.lower():          werty \n",
    " s1.title():         Alles Klein \n",
    " s.swapcase():       wERTy \n",
    " s2.strip():         \"blöd\" \n",
    " s2.lstrip():        \"blöd  \" \n",
    " s2.rstrip():        \"     blöd\" \n",
    " s.zfill(20):        000000000000000WertY \n",
    " s1.maketrans(\"aei\",\"xxx\",\"k\"):  xllxs lxxn \n",
    " s1.partition(\"es\"):             ('all', 'es', ' klein') \n",
    " s1.rpartition(\"l\"):             ('alles k', 'l', 'ein') \n",
    " s1.replace(\"es\",\"oo\"):          alloo klein \n",
    " s2.split(' ',3):                ['', '', '', '  blöd  '] 3 Einzelteile vor dem Rest \n",
    " s2.rsplit(' ',3):               ['    ', 'blöd', '', ''] ab dem 3. Teil von rechts splitten\n",
    "\"Alles\n",
    "Gute\n",
    "Leute\"\n",
    " s.splitlines():                 ['Alles', 'Gute', 'Leute'] "
   ]
  },
  {
   "cell_type": "markdown",
   "metadata": {},
   "source": [
    "Natürlich können wir alle diese Funktionen noch nicht in der Praxis einsetzen, es lohnt sich aber immer mal nachzuschauen, was es alles so gibt. Am wichtigsten sind wohl: count(),index(),find(),split(),strip(),replace(),join() und maketrans(), da das Ergebnis meist für wesentliche Beeinflußung der Programmlogik genutzt wird. Unten der Code zur Erzeugung der Ausgaben als Referenz. "
   ]
  },
  {
   "cell_type": "code",
   "execution_count": null,
   "metadata": {},
   "outputs": [],
   "source": [
    "s=\"WertY\"\n",
    "s1=\"alles klein\"\n",
    "s2=\"     blöd  \"\n",
    "s3=\"1\\t2\\t3\" #\\t wird später erklärt\n",
    "s4=\"3²4\"\n",
    "print(f\" s: \\\"{s}\\\"   s1: \\\"{s1}\\\"  s2: \\\"{s2}\\\"  s3: \\\"{s3}\\\"  s4: \\\"{s4}\\\"\")\n",
    "print(100*\"-\")\n",
    "resultat=s1.capitalize()\n",
    "print(f\" s1.capitalize():    {resultat}\")\n",
    "resultat=s.casefold()\n",
    "print(f\" s.casefold():       {resultat}\")\n",
    "resultat=s1.center(20)\n",
    "print(f\" s1.center(20):      \\\"{resultat}\\\"\")\n",
    "resultat=s1.count(\"ll\")\n",
    "print(f\" s1.count('ll'):     {resultat}\")\n",
    "resultat=s2.encode(\"utf8\")\n",
    "print(f\" s2.encode('utf8'):  {resultat}\")\n",
    "resultat=s2.endswith(\"öd\")\n",
    "print(f\" s2.endswith('öd'):  {resultat}\")\n",
    "resultat=s.startswith('W')\n",
    "print(f\" s.startswith('W'):  {resultat}\")\n",
    "resultat=s3.expandtabs(4)\n",
    "print(f\" s3.expandtabs(4):   {resultat}\")\n",
    "resultat=s1.find(\"l\",2,5)\n",
    "print(f\" s1.find('l',2,5):   {resultat}\")\n",
    "resultat=s1.rfind(\"l\",2,8)\n",
    "print(f\" s1.rfind('l',2,8):  {resultat}\")\n",
    "resultat=\"blöd{0}\".format('er geht es nicht!')\n",
    "print(f\" blöd{0}.format('er geht es nicht!'): {resultat} ist eigenes Unterkapitel!\")\n",
    "resultat=s.index(\"W\")\n",
    "print(f\" s.index('W'):       {resultat}\")\n",
    "resultat=s1.rindex(\"l\")\n",
    "print(f\" s1.rindex('l'):     {resultat}\")\n",
    "resultat=s.isalnum()\n",
    "print(f\" s.isalnum():        {resultat}\")\n",
    "resultat=s1.isalpha()\n",
    "print(f\" s1.isalpha():       {resultat} ->enthält Leerzeichen!\")\n",
    "resultat=s1.isascii()\n",
    "print(f\" s1.isascii():       {resultat}\")\n",
    "resultat=s4.isdecimal()\n",
    "print(f\" s4.isdecimal():     {resultat} ->enthält hoch 2 Zeichen!\")\n",
    "resultat=s4.isdigit()\n",
    "print(f\" s4.isdigit():       {resultat} -> hoch 2... und Brüche erlaubt!\")\n",
    "resultat=s1.isidentifier()\n",
    "print(f\" s1.isidentifier():  {resultat} -> Leerzeichen für Bezeichner nicht erlaubt\")\n",
    "resultat=s1.islower()\n",
    "print(f\" s1.islower()        {resultat} \")\n",
    "resultat=s4.isnumeric()\n",
    "print(f\" s4.isnumeric():     {resultat} \")\n",
    "resultat=s4.isprintable()\n",
    "print(f\" s4.isprintable():   {resultat} -> False wäre z.B. '\\\\e' (später mehr)\")\n",
    "resultat=s3.isspace()\n",
    "print(f\" s3.isspace():       {resultat} \")\n",
    "resultat=s.istitle()\n",
    "print(f\" s.istitle():        {resultat} -> Alle Wörter müssen mit Großbuchstaben starten und müssen danach klein weitergehen\")\n",
    "resultat=s.isupper()\n",
    "print(f\" s.isupper():        {resultat} \")\n",
    "resultat=\":\".join([\"1\",\"2\",\"3.23\",\"bla\"])\n",
    "print(f' \":\".join([\"1\",\"2\",\"3.23\",\"bla\"]):      {resultat} ')\n",
    "resultat=s.ljust(20)\n",
    "print(f\" s.ljust(20):        \\\"{resultat}\\\" \")\n",
    "resultat=s2.rjust(20)\n",
    "print(f\" s2.rjust(20):       \\\"{resultat}\\\" \")\n",
    "resultat=s.upper()\n",
    "print(f\" s.upper():          {resultat} \")\n",
    "resultat=s.lower()\n",
    "print(f\" s.lower():          {resultat} \")\n",
    "resultat=s1.title()\n",
    "print(f\" s1.title():         {resultat} \")\n",
    "resultat=s.swapcase()\n",
    "print(f\" s.swapcase():       {resultat} \")\n",
    "resultat=s2.strip()\n",
    "print(f\" s2.strip():         \\\"{resultat}\\\" \")\n",
    "resultat=s2.lstrip()\n",
    "print(f\" s2.lstrip():        \\\"{resultat}\\\" \")\n",
    "resultat=s2.rstrip()\n",
    "print(f\" s2.rstrip():        \\\"{resultat}\\\" \")\n",
    "resultat=s.zfill(20)\n",
    "print(f\" s.zfill(20):        {resultat} \")\n",
    "resultat=s1.maketrans(\"aei\",\"xxx\",\"k\")\n",
    "print(f' s1.maketrans(\"aei\",\"xxx\",\"k\"):  {s1.translate(resultat)} ')\n",
    "resultat=s1.partition(\"es\")\n",
    "print(f' s1.partition(\"es\"):             {resultat} ')\n",
    "resultat=s1.rpartition(\"l\")\n",
    "print(f' s1.rpartition(\"l\"):             {resultat} ')\n",
    "resultat=s1.replace(\"es\",\"oo\")\n",
    "print(f' s1.replace(\"es\",\"oo\"):          {resultat} ')\n",
    "resultat=s2.split(\" \",3)\n",
    "print(f\" s2.split(' ',3):                {resultat} 3 Einzelteile vor dem Rest \")\n",
    "resultat=s2.rsplit(\" \",3)\n",
    "print(f\" s2.rsplit(' ',3):               {resultat} ab dem 3. Teil von rechts splitten\")\n",
    "s=\"\"\"Alles\n",
    "Gute\n",
    "Leute\"\"\"\n",
    "print(\"\\\"\"+s+\"\\\"\")\n",
    "resultat=s.splitlines()\n",
    "print(f\" s.splitlines():                 {resultat} \")"
   ]
  },
  {
   "cell_type": "markdown",
   "metadata": {},
   "source": [
    "Einige Zeichen in Strings müssen besonders markiert werden, damit Python damit etaws anfangen kann. Dazu benutzt man vor dem Zeichen einen Rückwärts-Schrägstrich ```\\```. Dieser markiert das folgende Zeichen als anders zu interpretieren. Man nennt diesen Rückwärts-Schrägstrich auch Escape-Zeichen. Zunächst ein Beispiel, wenn wir im String ein Hochkomma verwenden wollen. Der String beginnt und endet mit einem einfachen oder doppelten Hochkomma, diese Zeichen müssen aber übereinstimmen. Wollen wir intern ein Hochkomma setzen, müssen wir das jeweils andere Hochkomma nehmen."
   ]
  },
  {
   "cell_type": "code",
   "execution_count": 17,
   "metadata": {},
   "outputs": [],
   "source": [
    "s = \"Connys Cafe\"\n",
    "s1 = 'Connys Cafe'\n",
    "#s2 = \"Connys Cafe' #macht Fehler: SyntaxError: EOL while scanning string literal\n",
    "s3 = \"Conny's Cafe\"\n",
    "s4 = 'Conny\"s Cafe'\n",
    "#s5 = \"Conny\"s Cafe\" #macht Fehler: SyntaxError: invalid syntax"
   ]
  },
  {
   "cell_type": "markdown",
   "metadata": {},
   "source": [
    "Setzen wir vor das Hochkomma ein Escape-Zeichen, weiß Python, das es diese Zeichen so drucken soll, wie geschrieben, aber daß der String dort nicht aufhört. Das Hochkomma ist geschützt."
   ]
  },
  {
   "cell_type": "code",
   "execution_count": null,
   "metadata": {},
   "outputs": [],
   "source": [
    "s = \"Conny\\\"s Cafe\"\n",
    "print(s)\n",
    "s"
   ]
  },
  {
   "cell_type": "markdown",
   "metadata": {},
   "source": [
    "Andere Zeichen dieser Art steuern zum Beispiel den Tabulator ```\\t```, machen einen Zeilenvorschub ```\\n```, eine Zeilenfortsetzung ```\\```, eine Wagenrücklauf ```\\r```...\n",
    "Je nach System (Unix,Windows,Ios...) gibt es noch mehr davon."
   ]
  },
  {
   "cell_type": "code",
   "execution_count": 18,
   "metadata": {},
   "outputs": [
    {
     "name": "stdout",
     "output_type": "stream",
     "text": [
      "3\t 24 \t 5\n",
      "----------------------------------------------------------------------------------------------------\n",
      "Hallo \n",
      "Leute\n",
      "----------------------------------------------------------------------------------------------------\n",
      "Hallo wwifuhwiewiefgowefoujiopujoiuqwwopedqwedyqopwdysqwdyhlkjsdhaKLJSDHKLA\n",
      "----------------------------------------------------------------------------------------------------\n",
      "Hallo\r",
      "K\n"
     ]
    }
   ],
   "source": [
    "s = \"3\\t 24 \\t 5\"\n",
    "print(s)\n",
    "print(100*\"-\")\n",
    "s = \"Hallo \\nLeute\"\n",
    "print(s)\n",
    "print(100*\"-\")\n",
    "s = \"Hallo wwifuhwiewiefgowefoujiopujoiuqwwopedqwedyqopwdysqwdyh\\\n",
    "lkjsdhaKLJSDHKLA\"\n",
    "print(s)\n",
    "print(100*\"-\")\n",
    "s = \"Hallo\\rK\"\n",
    "print(s)\n"
   ]
  },
  {
   "cell_type": "markdown",
   "metadata": {},
   "source": [
    "Mehrzeilige Strings kann man auf 2 Arten ausgeben. Einmal eingeschlossen in 3 Hochkommata. Es werden dann alle Umbrüche genau wie in der Eingabe beibehalten."
   ]
  },
  {
   "cell_type": "code",
   "execution_count": 14,
   "metadata": {},
   "outputs": [
    {
     "name": "stdout",
     "output_type": "stream",
     "text": [
      "Ein mehrzeiliger String\n",
      "wie dieser mit 3 Hochkommata \n",
      "zeigt auch beim Ausdruck eine identische Struktur\n"
     ]
    }
   ],
   "source": [
    "print(\"\"\"Ein mehrzeiliger String\n",
    "wie dieser mit 3 Hochkommata \n",
    "zeigt auch beim Ausdruck eine identische Struktur\"\"\")"
   ]
  },
  {
   "cell_type": "markdown",
   "metadata": {},
   "source": [
    "Oder indem man den Zeilenumbruch durch Backslashes markiert. Dann wird der Ergebnisstring aber in einer Zeile ausgegeben."
   ]
  },
  {
   "cell_type": "code",
   "execution_count": 13,
   "metadata": {},
   "outputs": [
    {
     "name": "stdout",
     "output_type": "stream",
     "text": [
      "Wir haben hier einen mehrzeiligen String bei dem die Zeilen durch Backslashes getrennt sind. Beim Ausdruck wird der String in einer Zeile ausgegeben.\n"
     ]
    }
   ],
   "source": [
    "ziemlich_langer_string = \"Wir haben hier einen mehrzeiligen String, \\\n",
    "bei dem die Zeilen durch Backslashes getrennt sind. \\\n",
    "Beim Ausdruck \\\n",
    "wird der String in einer einzigen Zeile ausgegeben.\"\n",
    "print(ziemlich_langer_string)\n"
   ]
  },
  {
   "cell_type": "markdown",
   "metadata": {},
   "source": [
    "\n",
    "<br> Da wir jetzt die wichtigsten Datentypen kennen, können wir mit interessanteren Programmen beginnen.<br> <img width=300 src=\"Images/Clap.png\" />"
   ]
  },
  {
   "cell_type": "code",
   "execution_count": null,
   "metadata": {},
   "outputs": [],
   "source": []
  }
 ],
 "metadata": {
  "kernelspec": {
   "display_name": "Python 3 (ipykernel)",
   "language": "python",
   "name": "python3"
  },
  "language_info": {
   "codemirror_mode": {
    "name": "ipython",
    "version": 3
   },
   "file_extension": ".py",
   "mimetype": "text/x-python",
   "name": "python",
   "nbconvert_exporter": "python",
   "pygments_lexer": "ipython3",
   "version": "3.9.12"
  }
 },
 "nbformat": 4,
 "nbformat_minor": 4
}
