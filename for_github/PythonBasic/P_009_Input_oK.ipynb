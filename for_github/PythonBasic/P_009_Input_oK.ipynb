{
 "cells": [
  {
   "cell_type": "markdown",
   "metadata": {},
   "source": [
    "# Input<br><img width=700 src=\"Images/input.jpg\" />"
   ]
  },
  {
   "cell_type": "markdown",
   "metadata": {},
   "source": [
    "Python hat die ```input(Meldung)``` Funktion, um Tastatureingaben entgegenzunehmen. Die Syntax beinhaltet eine Meldung an den User als String zur Information über den gewüschten Input.(prompt) Diese Funktion hält die Programmausführung an, öffnet ein Fenster zur Eingabe, gibt die Eingabe zurück und setzt das Programm fort, wenn die Return-Taste gedrückt wird. Beispiel:\n"
   ]
  },
  {
   "cell_type": "code",
   "execution_count": 1,
   "metadata": {},
   "outputs": [
    {
     "name": "stdout",
     "output_type": "stream",
     "text": [
      "Bitte eine Zahl eingeben: 56\n",
      "56 <class 'str'>\n"
     ]
    }
   ],
   "source": [
    "a = input(\"Bitte eine Zahl eingeben: \")\n",
    "print(a,type(a))"
   ]
  },
  {
   "cell_type": "markdown",
   "metadata": {},
   "source": [
    "Wenn wir uns ansehen, was in a gespeichert wurde, ist dies ein String. Dies ist immer so,<b> das Ergebnis von Input() ist ein String.</b> Wollen wir wirklich eine Integer in a übergeben, müssen wir den String in Integer umwandeln. Wie wir schon wissen, benutzt Python Funktionen wie ```int(),float(),str()...``` um das Argument in den gewüschten Typ zu überführen, dies natürlich nur, wenn es möglich ist, sonst entsteht ein Fehler. Geben wir \"eins\" ein, entsteht der Fehler: ValueError: invalid literal for int() with base 10: 'eins'. Auch 4.5 kann nicht in Integer umgewandelt werden. ValueError: invalid literal for int() with base 10: '4.5'\n"
   ]
  },
  {
   "cell_type": "code",
   "execution_count": 3,
   "metadata": {},
   "outputs": [
    {
     "name": "stdout",
     "output_type": "stream",
     "text": [
      "Bitte eine Zahl eingeben: 1\n",
      "1 <class 'int'>\n"
     ]
    }
   ],
   "source": [
    "a = int(input(\"Bitte eine Zahl eingeben: \")) #eins\n",
    "print(a,type(a))"
   ]
  },
  {
   "cell_type": "markdown",
   "metadata": {},
   "source": [
    "Wir können auch nicht testen, ob der eingegebene String in den gewünschten Typ umgewandelt werden kann, ```isinstance(input(\"Bitte eine Zahl eingeben: \"),typ)``` ist nur True, wenn wir als typ ```str``` eingeben, da ja immer ein String erzeugt wird. Wie man dennoch prüfen kann, ob die Usereingabe gültig ist, lernen wir im Kapitel \"Ausnahmen\". Mit einer Ausnahmebehandlung kann der eventuelle Fehler abgefangen werden und das Programm kann mit entsprechender Reaktion auf den Fehler weiterlaufen."
   ]
  },
  {
   "cell_type": "markdown",
   "metadata": {},
   "source": [
    "### Aufgabe\n",
    "Hier eine kleine Aufgabe:<br>\n",
    "    Bitte schreiben Sie das erste der beiden Programme aus dem Kapitel \"if\" so um, daß sie mit input() die Usereingaben empfangen."
   ]
  },
  {
   "cell_type": "code",
   "execution_count": null,
   "metadata": {},
   "outputs": [],
   "source": [
    "\n",
    "\n",
    "\n",
    "\n",
    "\n",
    "\n",
    "\n",
    "\n",
    "\n",
    "\n",
    "\n",
    "\n",
    "\n",
    "\n",
    "\n",
    "\n",
    "\n",
    "\n",
    "\n",
    "\n",
    "#hoch2 oder hoch3  oder nichts dergleichen\n",
    "a = int(input (\"Erste Integer a: \"))\n",
    "b = int(input (\"Zweite Integer b: \"))\n",
    "if a**2==b:\n",
    "    print(\"b ist a zum Quadrat\")\n",
    "elif b**2==a:\n",
    "    print(\"a ist b zum Quadrat\")\n",
    "elif a**3==b:\n",
    "    print(\"b ist a hoch 3\")\n",
    "elif b**3==a:\n",
    "    print(\"a ist b hoch 3\")\n",
    "else:\n",
    "    print(\"a und b nicht hoch 2 oder hoch 3 zusammenhängend\")"
   ]
  },
  {
   "cell_type": "markdown",
   "metadata": {},
   "source": [
    "Was passiert, wenn ich meine Eingabe mit Hochkommata versehe? Bitte \"eins\" eingeben. Wir sehen im Output (der ja bei strings die Hochkommata anzeigt), daß diese mit übernommen wurden und jetzt der String im Ergebnis mit einfachen umgebenden Hochkommata ausgegeben wird."
   ]
  },
  {
   "cell_type": "code",
   "execution_count": 4,
   "metadata": {},
   "outputs": [
    {
     "name": "stdout",
     "output_type": "stream",
     "text": [
      "Bitte \"eins\" eingeben: \"eins\"\n",
      "\"eins\" <class 'str'>\n"
     ]
    },
    {
     "data": {
      "text/plain": [
       "'\"eins\"'"
      ]
     },
     "execution_count": 4,
     "metadata": {},
     "output_type": "execute_result"
    }
   ],
   "source": [
    "a = input('Bitte \"eins\" eingeben: ') #Mehrfach der gleiche Typ Hochkommata geht nicht außer durch Escape-Zeichen s.u.\n",
    "# a = input(\"Bitte \"eins\" eingeben: \")\n",
    "print(a,type(a))\n",
    "a"
   ]
  },
  {
   "cell_type": "markdown",
   "metadata": {},
   "source": [
    "Was passiert, wenn ich mehrere Werte in einer input() Anweisung übergeben möchte? Bitte einmal ```1,2,3``` eingeben."
   ]
  },
  {
   "cell_type": "code",
   "execution_count": 1,
   "metadata": {},
   "outputs": [
    {
     "name": "stdout",
     "output_type": "stream",
     "text": [
      "Bitte drei Integerzahlen eingeben, getrennt durch Kommata: 1,2,3\n",
      "1,2,3 <class 'str'>\n"
     ]
    },
    {
     "data": {
      "text/plain": [
       "'1,2,3'"
      ]
     },
     "execution_count": 1,
     "metadata": {},
     "output_type": "execute_result"
    }
   ],
   "source": [
    "a = input(\"Bitte drei Integerzahlen eingeben, getrennt durch Kommata: \")\n",
    "print(a,type(a))\n",
    "a"
   ]
  },
  {
   "cell_type": "markdown",
   "metadata": {},
   "source": [
    "Die gesamte Eingabe wird zum String, auch wenn ich mit einem anderen Zeichen trenne. Bitte ```1:2:3.14``` eingeben."
   ]
  },
  {
   "cell_type": "code",
   "execution_count": null,
   "metadata": {},
   "outputs": [],
   "source": [
    "a = input(\"Bitte drei Integerzahlen eingeben, getrennt durch Doppelpunkt: \")\n",
    "print(a,type(a))\n",
    "a"
   ]
  },
  {
   "cell_type": "markdown",
   "metadata": {},
   "source": [
    "### Aufgabe\n",
    "Welche Möglichkeit haben wir, die einzelnen Elemente des Strings in eine Liste zu schreiben, aus der ich sie dann einzeln verwenden kann? Hierfür gibt es unsere split() Methode (s.Strings). Aufgabe: <br>\n",
    "Schreiben Sie das Programm oben so um, daß der User alle 3 Werte mit Komma getrennt eingibt.\n"
   ]
  },
  {
   "cell_type": "code",
   "execution_count": null,
   "metadata": {},
   "outputs": [],
   "source": [
    "\n",
    "\n",
    "\n",
    "\n",
    "\n",
    "\n",
    "\n",
    "\n",
    "\n",
    "\n",
    "\n",
    "\n",
    "\n",
    "\n",
    "\n",
    "\n",
    "\n",
    "\n",
    "\n",
    "\n",
    "\n",
    "\n",
    "#hoch2 oder hoch3  oder nichts dergleichen\n",
    "liste = input (\"Bitte 2  Integer getrennt durch Kommata: \").split(\",\")\n",
    "#liste = \",\".split(input (\"Bitte 3  Integer getrennt durch Kommata: \"))\n",
    "a = int(liste[0])\n",
    "b = int(liste[1])\n",
    "if a**2==b:\n",
    "    print(\"b ist a zum Quadrat\")\n",
    "elif b**2==a:\n",
    "    print(\"a ist b zum Quadrat\")\n",
    "elif a**3==b:\n",
    "    print(\"b ist a hoch 3\")\n",
    "elif b**3==a:\n",
    "    print(\"a ist b hoch 3\")\n",
    "else:\n",
    "    print(\"a und b nicht hoch 2 oder hoch 3 zusammenhängend\")"
   ]
  },
  {
   "cell_type": "markdown",
   "metadata": {},
   "source": [
    "Eine kleine Überraschung kann es geben, wenn wir eine Liste eingeben wollen, also z.B. [1,2,3]."
   ]
  },
  {
   "cell_type": "code",
   "execution_count": 69,
   "metadata": {},
   "outputs": [
    {
     "name": "stdout",
     "output_type": "stream",
     "text": [
      "Bitte Liste z.B. [1,2,3] eingeben:[1,2,3]\n",
      "['[', '1', ',', '2', ',', '3', ']']\n"
     ]
    },
    {
     "data": {
      "text/plain": [
       "'[1,2,3]'"
      ]
     },
     "execution_count": 69,
     "metadata": {},
     "output_type": "execute_result"
    }
   ],
   "source": [
    "input_string = input(\"Bitte Liste z.B. [1,2,3] eingeben:\")\n",
    "ergebnis2 = list(input_string)\n",
    "print(ergebnis2)\n",
    "ergebnis = input_string\n",
    "ergebnis"
   ]
  },
  {
   "cell_type": "markdown",
   "metadata": {},
   "source": [
    "Was passiert? Der String \"[1,2,3]\"  wird mit list() in eine Liste verwandelt. Was tut list()? Es nimmt jedes Zeichen des Strings und schreibt es als String-Element in eine neue Liste, auch die Klammern [ ]! "
   ]
  },
  {
   "cell_type": "markdown",
   "metadata": {},
   "source": [
    "Wie machen wir es richtig? z.B.:"
   ]
  },
  {
   "cell_type": "code",
   "execution_count": 41,
   "metadata": {},
   "outputs": [
    {
     "name": "stdout",
     "output_type": "stream",
     "text": [
      "Bitte Liste z.B. [1,2,3] eingeben:[1,2,3]\n",
      "ergebnis von input \"[1,2,3]\"\n",
      "Nach Entfernen der Klammern: \"1,2,3\"\n",
      "Werteliste: ['1', '2', '3']\n",
      "1 2 3\n"
     ]
    }
   ],
   "source": [
    "ergebnis = input(\"Bitte Liste z.B. [1,2,3] eingeben:\")\n",
    "print(f'Ergebnis von input \"{ergebnis}\"')\n",
    "resultat=ergebnis.maketrans(\"\",\"\",\"[]\") # Ausschneiden von [ und ] , dritter Parameter von maketrans\n",
    "werte=ergebnis.translate(resultat)\n",
    "print(f'Nach Entfernen der Klammern: \"{werte}\"')\n",
    "werte=werte.split(\",\") # in Liste verwandeln mit Stringelementen\n",
    "print(f\"Werteliste: {werte}\")\n",
    "wert1=int(werte[0]) #sehr hässliche Wiederholungen normalerweise Schleife\n",
    "wert2=int(werte[1])\n",
    "wert3=int(werte[2])\n",
    "print(wert1,wert2,wert3)"
   ]
  },
  {
   "cell_type": "markdown",
   "metadata": {},
   "source": [
    "Die drei Zeilen, die das String-Element der Liste in eine Integer-Zahl verwandeln, zeigen uns, daß manche Programmteile auch mehrfach ablaufen müssen. Dieses würde man mit einer Schleife machen, die wir in einem der nächsten Kapitel kennenlernen. (Unser Programm funktioniert ja auch nur für exakt 3 Eingaben. Eine Schleife umgeht auch dieses Problem!)\n"
   ]
  },
  {
   "cell_type": "code",
   "execution_count": null,
   "metadata": {},
   "outputs": [],
   "source": []
  }
 ],
 "metadata": {
  "kernelspec": {
   "display_name": "Python 3 (ipykernel)",
   "language": "python",
   "name": "python3"
  },
  "language_info": {
   "codemirror_mode": {
    "name": "ipython",
    "version": 3
   },
   "file_extension": ".py",
   "mimetype": "text/x-python",
   "name": "python",
   "nbconvert_exporter": "python",
   "pygments_lexer": "ipython3",
   "version": "3.9.12"
  }
 },
 "nbformat": 4,
 "nbformat_minor": 4
}
