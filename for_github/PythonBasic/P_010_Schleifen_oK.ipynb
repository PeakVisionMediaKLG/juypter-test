{
 "cells": [
  {
   "cell_type": "markdown",
   "metadata": {},
   "source": [
    "# Schleifen<br><img width = 400 src=\"Images/Loop.svg\" />"
   ]
  },
  {
   "cell_type": "markdown",
   "metadata": {},
   "source": [
    "Schleifen werden in Programmiersprachen verwendet, um Programmabschnitte mehrfach auszuführen. Python kennt 2 verschiedene Typen von Schleifen, die ```while```-Schleife und die ```for```-Schleife. Erstere wird meistens verwendet, wenn die Anzahl der Schleifendurchläufe von einer Bedingung abhängt, zweitere eher, wenn die Anzahl der Durchläufe von vorneherein bekannt ist."
   ]
  },
  {
   "cell_type": "markdown",
   "metadata": {},
   "source": [
    "Die ```for```-Schleife ist einfacher, fangen wir damit an. Eine ```for```-Schleife besteht aus einem Kopf und einem Körper. Der Körper ist wie beim ```if``` wieder eingerückt und der Kopf enthält entsprechend seinen Doppelpunkt. Ein sehr einfaches Beispiel:"
   ]
  },
  {
   "cell_type": "code",
   "execution_count": 1,
   "metadata": {},
   "outputs": [
    {
     "name": "stdout",
     "output_type": "stream",
     "text": [
      "2\n",
      "bla\n",
      "False\n",
      "----------------------------------------------------------------------------------------------------\n",
      "2\n",
      "bla\n",
      "False\n"
     ]
    }
   ],
   "source": [
    "kombinierter_typ = [2,\"bla\",False] #kann jede Art eines kombinierten Typs sein,\n",
    "                                   #Liste, Tuple, String, ...\n",
    "\n",
    "for element in kombinierter_typ:\n",
    "    print(element)\n",
    "    \n",
    "print(100*\"-\")\n",
    "for wert in [2,\"bla\",False]: #geht auch direkt ohne Referenz auf den kombinierten Typ  \n",
    "    print(wert)\n",
    "    \n"
   ]
  },
  {
   "cell_type": "markdown",
   "metadata": {},
   "source": [
    "Die Schleife läuft über Werte eines kombinierten Datentyps und holt dessen Elemente in der entsprechenden Reihenfolge heraus. Bei jedem Durchlauf der Schleife wird dann dieses entsprechende Element der Schleifenvariable \"element\" übergeben und damit kann man dann arbeiten. Es ist also klar, daß diese Schleife dreimal läuft. Die Bezeichner \"element\" und \"kombinierter_typ\" sind natürlich frei wählbar, auch kann man gleich die kombinierten Daten einsetzen, ohne sie mit einem Bezeichner zu referenzieren. Auch hier muß der Schleifenkörper mindestens eine Anweisung haben (zumindest \"pass\")."
   ]
  },
  {
   "cell_type": "markdown",
   "metadata": {},
   "source": [
    "Dies ist der pythonische Typ einer for-Schleife. In vielen anderen Programmiersprachen wird aber in der Schleife als Schleifenvariable ein numerischer Wert, ein Index, verändert und damit gearbeitet. Auch Python hat diese Funktionalität integriert. Hierzu gibt es die range() Funktion. Diese ist ähnlich aufgebaut wie ein Ausschnittsoperator mit (start,ende,schrittweite). Sie gibt Integer zwischen start und <b>ende-1</b> zurück mit der entsprechenden Schrittweite. Sie gibt ein range-Objekt zurück, wollen uns dies ansehen, müssen wir es in eine Liste verwandeln. Unten erlaubte Anwendungen von range(). Das Ende ist jeweils eine Zahl vor dem eingebenen wert Ende. Häufig wird das Ende auch als len(kombinierter Datentyp) angegeben, damit man die Länge nicht zählen muß. Dies erklärt auch, warum range() einen wert vor Ende aufhört. Die Länge des kombinierten Typs ist ja eins größer als der größte Index beim Zugreifen. (Die Liste [2,3,5,6] hat eine Länge von 4. Ihr größter Index ist 3, da ja das erste Element den Index 0 hat.)"
   ]
  },
  {
   "cell_type": "code",
   "execution_count": null,
   "metadata": {},
   "outputs": [],
   "source": [
    "print(f\" Range-Objekt {range(1,5)}\") # range Objekt\n",
    "print(100 * \"-\")\n",
    "print(f\" Start:1 Ende: 5-1 Liste des range(){list(range(1,5))}\") #Start 1, Ende 5-1=4, Schrittweite, da nicht angegeben 1\n",
    "print(100 * \"-\")\n",
    "print(f\" Start:0 Standardwert, da nicht angegeben,  Ende: 20-1 {list(range(20))}\") #Ende muß immer angegeben werden \n",
    "print(100 * \"-\")\n",
    "print(f\" Start:5 ,  Ende: 20-1 Schrittweite: 2 {list(range(5,20,2))}\") #Möchte man Schrittweite, \n",
    "                                                        #muß immer alles angegeben werden \n",
    "print(100 * \"-\")\n",
    "print(f\" Start:20 ,  Ende: 5+1, +1->da Schrittweite: -1 {list(range(20,5,-1))}\") # Rückwärts\n",
    "print(100 * \"-\")\n",
    "my_list = [2,\"bla\",False]\n",
    "print(f\" Start:1 ,  Ende: Länge von my_list-1  {list(range(1,len(my_list),1))}\") \n"
   ]
  },
  {
   "cell_type": "markdown",
   "metadata": {},
   "source": [
    "Mit diesem range-Objekt können wir nun eine sogenannte numerische Schleife aufbauen, bei der der Wert von \"index\" (Name frei wählbar) der Reihe nach die Einträge des range-Objektes übernimmt."
   ]
  },
  {
   "cell_type": "code",
   "execution_count": null,
   "metadata": {},
   "outputs": [],
   "source": [
    "my_list=[2,5,\"Hello\",[4,5],False]\n",
    "for index in range(5):\n",
    "    print(f\"index: {index}  Wert: {my_list[index]}\")\n",
    "    "
   ]
  },
  {
   "cell_type": "code",
   "execution_count": null,
   "metadata": {},
   "outputs": [],
   "source": [
    "my_list=[2,5,\"Hello\",[4,5],False]\n",
    "for index in range(4,2,-1):\n",
    "    print(f\"index: {index}  Wert: {my_list[index]}\")"
   ]
  },
  {
   "cell_type": "markdown",
   "metadata": {},
   "source": [
    "## Aufgabe\n",
    "Schreiben Sie eine for-Schleife, die nach dem kompletten Durchlaufen ausgibt, wie oft der Körper durchlaufen wurde. Hinweis: Benutzen Sie range mit (8,17,3). Setzen Sie einen Zähler auf 0 und erhöhen ihn in der Schleife bei jedem Durchlauf um 1. Nehmen Sie den Bezeichner ```_``` für die Schleifenvariable (wenn dies erlaubt ist?). Drucken Sie auch den Wert der Schleifenvariablen für jeden Durchlauf aus."
   ]
  },
  {
   "cell_type": "code",
   "execution_count": null,
   "metadata": {},
   "outputs": [],
   "source": [
    "\n",
    "\n",
    "\n",
    "\n",
    "\n",
    "\n",
    "\n",
    "\n",
    "\n",
    "\n",
    "\n",
    "\n",
    "\n",
    "\n",
    "\n",
    "\n",
    "\n",
    "\n",
    "\n",
    "\n",
    "\n",
    "\n",
    "\n",
    "\n",
    "\n",
    "zähler = 0\n",
    "for _ in range(8,17,3):\n",
    "    print(_)\n",
    "    zähler+=1\n",
    "print(\"Zähler\",zähler)"
   ]
  },
  {
   "cell_type": "markdown",
   "metadata": {},
   "source": [
    "Damit haben wir die zwei grundsätzlichen Varianten der ```for```-Schleife kennengelernt. Wie können wir die Schleife abbrechen, wenn eine bestimmte Bedingung erfüllt ist? Hierzu gibt es den Befehl ```break```. Er bricht die Schleife ab und macht mit der nächsten Anweisung nach dem Schleifenkörper weiter."
   ]
  },
  {
   "cell_type": "code",
   "execution_count": null,
   "metadata": {},
   "outputs": [],
   "source": [
    "for zahl in range(20): #0-19\n",
    "    if zahl==15:\n",
    "        break\n",
    "    else: #muß hier else stehen? Oder geht auch euinfach: print(zahl) ohne Einrückung?\n",
    "        print(zahl)"
   ]
  },
  {
   "cell_type": "markdown",
   "metadata": {},
   "source": [
    "Wir sehen, daß die Schleife beim Erreichen des Wertes 15 für Zahl abbricht. Dies geht natürlich auch, wenn wir eine Schleife über einen kombinierten Datentyp haben und wollen abbrechen, wenn die Schleifenvariable ein bestimmtes Element des komb. Datentyps ist."
   ]
  },
  {
   "cell_type": "code",
   "execution_count": null,
   "metadata": {},
   "outputs": [],
   "source": [
    "tiere=[\"Katze\",\"Hund\",\"Papagei\",\"Krokodil\",\"Hamster\"]\n",
    "for tier in tiere: #Schleifenvariable heißt tier\n",
    "                   #sehr haäufige Konstruktion: for \"element\" in \"elemente\" \n",
    "    if tier==\"Krokodil\":\n",
    "        print(\"hier ist aber Schluß\")\n",
    "        break\n",
    "    print(f\"{tier} ist ein einfaches Haustier\")"
   ]
  },
  {
   "cell_type": "markdown",
   "metadata": {},
   "source": [
    "Was ist, wenn wir aber den Hamster auch noch zum Zug kommen lassen wollen? Dafür gibt es ```continue``` als Befehl. Dieser beendet diesen Schleifendurchlauf, wenn der Test True ist. Aber dann läuft die Schleife weiter."
   ]
  },
  {
   "cell_type": "code",
   "execution_count": null,
   "metadata": {},
   "outputs": [],
   "source": [
    "tiere=[\"Katze\",\"Hund\",\"Papagei\",\"Krokodil\",\"Hamster\"]\n",
    "for tier in tiere: #Schleifenvariable heißt tier\n",
    "    if tier==\"Krokodil\":\n",
    "        print(\"dies nicht\") #oder wenn dies fehlt gar keine Ausgabe für Krokodil\n",
    "        continue\n",
    "    print(f\"{tier} ist ein einfaches Haustier\")"
   ]
  },
  {
   "cell_type": "markdown",
   "metadata": {},
   "source": [
    "Als Letztes erlaubt die Schleife noch zu unterscheiden, ob sie komplett durchlaufen wurde, oder durch ein ```break``` beendet wurde. Hierfür gibt es einen ```else``` Teil. Dieser wird nur durchlaufen, wenn die Schleife nicht mit ```break``` abgebrochen wurde."
   ]
  },
  {
   "cell_type": "code",
   "execution_count": null,
   "metadata": {},
   "outputs": [],
   "source": [
    "tiere=[\"Katze\",\"Hund\",\"Papagei\",\"Krokodil\",\"Hamster\"]\n",
    "for tier in tiere: #Schleifenvariable heißt tier\n",
    "    if tier==\"Krokodil\":\n",
    "        print(\"hier ist aber Schluß\")\n",
    "        break\n",
    "    print(f\"{tier} ist ein einfaches Haustier\")\n",
    "else:\n",
    "    print(\"alle Tiere waren in Ordnung\")"
   ]
  },
  {
   "cell_type": "markdown",
   "metadata": {},
   "source": [
    "Hier kein \"break\", daher wird \"else\" nicht durchlaufen."
   ]
  },
  {
   "cell_type": "code",
   "execution_count": null,
   "metadata": {},
   "outputs": [],
   "source": [
    "tiere=[\"Katze\",\"Hund\",\"Papagei\",\"Krokodil\",\"Hamster\"]\n",
    "for tier in tiere: #Schleifenvariable heißt tier\n",
    "    if tier==\"Wolverine\":\n",
    "        print(\"hier ist aber Schluß\")\n",
    "        break\n",
    "    print(f\"{tier} ist ein einfaches Haustier\")\n",
    "else:\n",
    "    print(\"alle Tiere waren in Ordnung\")"
   ]
  },
  {
   "cell_type": "markdown",
   "metadata": {},
   "source": [
    "## Aufgabe<br>\n",
    "Programmieren Sie Zahlenraten. Eine Geheimzahl zwischen 0 und 100, die der Computer als Zufallszahl berechnet soll vom User geraten werden. Er gibt eine Ratezahl ein und erhält als Info entweder \"zu groß\" oder \"zu klein\". Ist die Zahl richtig, gibt das Programm aus: \"Richtig in: \" und dann die Zahl der benötigten Rateversuche. Wird nach 7 Versuchen die Zahl nicht geraten, bricht das Programm ab und druckt: \"Leider zu lange gedauert\". <br>Tip: Importieren Sie das random Modul mit import random. Dann erzeugen Sie die Zufallszahl mit random.randint(0,100).\n"
   ]
  },
  {
   "cell_type": "code",
   "execution_count": null,
   "metadata": {},
   "outputs": [],
   "source": [
    "\n",
    "\n",
    "\n",
    "\n",
    "\n",
    "\n",
    "\n",
    "\n",
    "\n",
    "\n",
    "\n",
    "\n",
    "\n",
    "#Lösung\n",
    "#Mache Zufallszahl\n",
    "import random\n",
    "rate_zahl = random.randint(0,100)\n",
    "zähler = 0\n",
    "while True:\n",
    "    zähler += 1\n",
    "    if zähler== 8:\n",
    "        print(\"leider zu lange gedauert\")\n",
    "        break\n",
    "    versuch = int(input(\"Ihr Rateversuch: \"))\n",
    "    if versuch<rate_zahl:\n",
    "        print(\"zu klein\")\n",
    "    elif versuch>rate_zahl:\n",
    "        print(\"zu groß\")\n",
    "    else:\n",
    "        print(\"Richtig in:\",zähler,\" Versuchen\")\n",
    "        #oder print(f\"Richtig in {zähler} Versuchen\")\n",
    "        break"
   ]
  },
  {
   "cell_type": "markdown",
   "metadata": {},
   "source": [
    "Damit haben wir die for-Schleife komplett kennengelernt, hier im Bild:<br><img width=1300 src=\"Images/for-Schleife.png\" />"
   ]
  },
  {
   "cell_type": "markdown",
   "metadata": {},
   "source": [
    "Die zweite Schleife ist die ```while```-Schleife. Auch diese kommt in 2 Varianten vor, als Kopf- oder Fußgesteuerte Schleife. Bei der ```while```-Schleife wird der Schleifenkörper nur durchlaufen, sofern oder solange eine Bedingung erfüllt ist. Ein Beispiel einer einfachen Kopfgesteuerten Schleife:"
   ]
  },
  {
   "cell_type": "code",
   "execution_count": null,
   "metadata": {},
   "outputs": [],
   "source": [
    "zähler = 0\n",
    "while zähler<20:\n",
    "    print(zähler)\n",
    "    zähler+=1 #nicht vergessen!"
   ]
  },
  {
   "cell_type": "markdown",
   "metadata": {},
   "source": [
    "Was passiert? Solange die Bedingung im Kopf stimmt, wird der Schleifenkörper durchlaufen. Wenn nicht, wird die Schleife nicht (falls die Bedingung schon am Anfang False ist) oder nicht mehr durchlaufen. Es gibt hier einige Fehler zu machen!"
   ]
  },
  {
   "cell_type": "markdown",
   "metadata": {},
   "source": [
    " Möglicherweise ist die Bedingung immer True, dann läuft die Schleife ewig:\n",
    "\n",
    "zähler = 1<br>\n",
    "while zähler>0:<br>&nbsp;&nbsp;&nbsp;&nbsp;\n",
    "    print(zähler)<br>&nbsp;&nbsp;&nbsp;&nbsp;\n",
    "    zähler+=1<br><br>\n",
    "Läuft ewig"
   ]
  },
  {
   "cell_type": "markdown",
   "metadata": {},
   "source": [
    " Normalerweise verändert sich im Schleifenkörper etwas, was die Bedingung im Kopf verändert, hier wird z.B. \"zähler\" erhöht. Vergiß man dies, läuft die Schleife ewig!<br><br>zähler = 1<br>\n",
    "while zähler<10:<br>&nbsp;&nbsp;&nbsp;&nbsp;\n",
    "    print(zähler)<br>&nbsp;&nbsp;&nbsp;&nbsp;   \n",
    "Läuft ewig.\n",
    " "
   ]
  },
  {
   "cell_type": "markdown",
   "metadata": {},
   "source": [
    " Möglicherweise ist die Bedingung bereits am Anfang False (z.B. weil sie fehlerhaft formuliert ist), dann läuft die Schleife nie.\n",
    "\n",
    "\n",
    "<br>zähler = \"eins\"<br>\n",
    "while zähler>0:<br>&nbsp;&nbsp;&nbsp;&nbsp;\n",
    "    print(zähler)<br>&nbsp;&nbsp;&nbsp;&nbsp;\n",
    "    zähler+=1\n",
    "    \n",
    "Macht Fehler:'>' not supported between instances of 'str' and 'int'"
   ]
  },
  {
   "cell_type": "markdown",
   "metadata": {},
   "source": [
    "Oder man vergißt die Variable, die im Kopf geprüft wird, zu setzen:<br>\n",
    "<br>\n",
    "while zähler>0:<br>&nbsp;&nbsp;&nbsp;&nbsp;\n",
    "    print(zähler)<br>&nbsp;&nbsp;&nbsp;&nbsp;\n",
    "    zähler+=1\n",
    "    \n",
    "Macht Fehler:NameError: name 'zähler' is not defined"
   ]
  },
  {
   "cell_type": "markdown",
   "metadata": {},
   "source": [
    "```break``` und ```continue``` sind wie ```else```identisch zur ```for```-Schleife. Der ```else``` Teil (falls vorhanden) läuft also auch wieder nur ab, wenn kein ```break``` erfolgte.\n"
   ]
  },
  {
   "cell_type": "code",
   "execution_count": null,
   "metadata": {},
   "outputs": [],
   "source": [
    "zähler = 0\n",
    "while zähler<20:\n",
    "    zähler+=1 #nicht vergessen!! 1 ist der erste Wert der gedruckt wird!\n",
    "    if zähler==10:\n",
    "        print(\"10 mag ich nicht\")\n",
    "        continue\n",
    "    elif zähler>15:\n",
    "        print(\"bei 15 ist Schluss\")\n",
    "        break\n",
    "    print(zähler)\n",
    "else:\n",
    "    print(\"Schleife komplett durchlaufen\")\n",
    "    \n",
    "print(\"Weiteres hier\")   "
   ]
  },
  {
   "cell_type": "code",
   "execution_count": null,
   "metadata": {},
   "outputs": [],
   "source": [
    "zähler = 0\n",
    "while zähler<20:\n",
    "    zähler+=1 #nicht vergessen!! 1 ist der erste Wert der gedruckt wird!\n",
    "    if zähler==10:\n",
    "        print(\"10 mag ich nicht\")\n",
    "        continue\n",
    "    elif zähler>25:\n",
    "        print(\"bei 25 ist Schluss\")\n",
    "        break\n",
    "    print(zähler)\n",
    "else:\n",
    "    print(\"Schleife komplett durchlaufen\")\n",
    "    \n",
    "print(\"Weiteres hier\")   "
   ]
  },
  {
   "cell_type": "markdown",
   "metadata": {},
   "source": [
    "Eine Fußgesteuerte Schleife hat die Bedingung im Schleifenkörper, läuft also immer zumindest einmal. <b>Hier muß sich in der Schleife ein ```break``` befinden, sonst läuft sie ewig,</b> weil True im Kopf immer True bleibt. Daran ändert sich ja nichts. Im Kopf kann daher die Schleife nicht abgebrochen werden. Ein ```else```-Teil macht keinen Sinn, da immer ein ```break``` erfolgt."
   ]
  },
  {
   "cell_type": "code",
   "execution_count": null,
   "metadata": {},
   "outputs": [],
   "source": [
    "zahl = 0\n",
    "while True:\n",
    "    print(zahl)\n",
    "    zahl+=1\n",
    "    if zahl>20:\n",
    "        break\n",
    "print(\"Weiter\")"
   ]
  },
  {
   "cell_type": "code",
   "execution_count": null,
   "metadata": {},
   "outputs": [],
   "source": [
    "zähler = 0\n",
    "while True:\n",
    "    zähler+=1 #nicht vergessen!! 1 ist der erste Wert der gedruckt wird!\n",
    "    if zähler==10:\n",
    "        print(\"10 mag ich nicht\")\n",
    "        continue\n",
    "    elif zähler>15:\n",
    "        print(\"bei 25 ist Schluss\")\n",
    "        break\n",
    "    print(zähler)\n",
    "else: #Macht keinen Sinn\n",
    "    print(\"Schleife komplett durchlaufen\")\n",
    "    \n",
    "print(\"Weiteres hier\")   "
   ]
  },
  {
   "cell_type": "markdown",
   "metadata": {},
   "source": [
    "Wann Kopf, wann Fuß? Bei einfachen Bedingungen meist Kopf, bei vielfältigen Abbruchsbedingungen meist Fuß mit mehreren ```breaks```. "
   ]
  },
  {
   "cell_type": "code",
   "execution_count": null,
   "metadata": {},
   "outputs": [],
   "source": [
    "zahl = 0\n",
    "while True:\n",
    "    print(zahl)\n",
    "    zahl+=1\n",
    "    if zahl>8:\n",
    "        break\n",
    "    if input(\"Weiter? ja oder nein? \")==\"nein\":\n",
    "        break\n",
    "print(\"Weiter\")"
   ]
  },
  {
   "cell_type": "markdown",
   "metadata": {},
   "source": [
    "Fußgesteuerte while-Schleifen eignen sich auch für Eingabeabfragen."
   ]
  },
  {
   "cell_type": "code",
   "execution_count": null,
   "metadata": {},
   "outputs": [],
   "source": [
    "counter=0\n",
    "while True:\n",
    "    counter+=1\n",
    "    if counter>4:\n",
    "        print(\"Bitte Konzentration bei der Sache!\")\n",
    "    if counter>6:\n",
    "        print(\"Du lernst es nicht!!\")\n",
    "        break\n",
    "    zahl=int(input(\"Bitte geben Sie eine Zahl zwischen 1 und 10 ein:\"))\n",
    "    if 0<zahl<11:\n",
    "        break\n",
    "print(f\"Zahl war (zuletzt): {zahl}\")"
   ]
  },
  {
   "cell_type": "markdown",
   "metadata": {},
   "source": [
    "Schleifen können auch beliebig verschachtelt sein. Wir haben dann z.B. eine innere und eine äußere Schleife. Hier ein Beispiel:"
   ]
  },
  {
   "cell_type": "code",
   "execution_count": null,
   "metadata": {},
   "outputs": [],
   "source": [
    "for a in range(5):\n",
    "    for b in range(4):\n",
    "        print(f\" a:{a},  b:{b}\")"
   ]
  },
  {
   "cell_type": "markdown",
   "metadata": {},
   "source": [
    "Die innere Schleife läuft jeweils von Anfang bis Ende, dann geht die äußere Schleife einen Schritt weiter. Mit entsprechden breaks können wir sowohl die innere Schleife als auch die äußere Schleife abbrechen. <b>Wenn wir ein break in der inneren Schleife machen, läuft die äußere Schleife weiter. "
   ]
  },
  {
   "cell_type": "code",
   "execution_count": null,
   "metadata": {},
   "outputs": [],
   "source": [
    "for a in range(5):\n",
    "    for b in range(5):\n",
    "        if b>2:\n",
    "            break\n",
    "        print(f\" a:{a},  b:{b}\")"
   ]
  },
  {
   "cell_type": "markdown",
   "metadata": {},
   "source": [
    "Wollen wir die <b>gesamte Schleife</b> abbrechen, z.B. sobald ```a*b > 10``` wird, haben wir ein Problem. Wohin sollen wir die break-Bedingung schreiben? Im ersten Beispiel bricht die innere Schleife ab, die äußere Schleife läuft aber dann weiter, obwohl bei ```3*4``` Schluß sein müßte."
   ]
  },
  {
   "cell_type": "markdown",
   "metadata": {},
   "source": [
    "for a in range(10):\n",
    "    for b in range(5):\n",
    "        if a*b>10:\n",
    "            print(f\"\\n a:{a}  b:{b}  a*b = {a*b} deshalb abgebrochen\\n\")\n",
    "            break\n",
    "        print(f\" a:{a},  b:{b},  a*b {a*b}\")"
   ]
  },
  {
   "cell_type": "markdown",
   "metadata": {},
   "source": [
    " Im zweiten Beipiel bricht die äußere Schleife ab. Weil nach dem kompletten Ablauf der inneren Schleife, wenn a 2 ist, beim nächsten Durchlauf der äußeren Schleife mit 3 <b>der Wert von b noch auf 4 steht, da dies ja der letzte Wert aus der inneren Schleife war, bricht dann die äußere Schleife ab, und somit ist Schluß. Dadurch werden eine Menge von a,b Kombinationen, die unter 10 sind, gar nicht berechnet. (z.B. 3* 1, 3* 2 , 3* 3...)"
   ]
  },
  {
   "cell_type": "code",
   "execution_count": null,
   "metadata": {},
   "outputs": [],
   "source": [
    "for a in range(10):\n",
    "    if a*b>10:        \n",
    "        break\n",
    "    for b in range(5):        \n",
    "        print(f\" a: {a},b: {b}, a*b {a*b}\")"
   ]
  },
  {
   "cell_type": "markdown",
   "metadata": {},
   "source": [
    "Die Lösung ist eine Markierungsvariable (flag) mit einem Ausgangswert zu verwenden, die bei jedem Start der äußeren Schleife überprüft wird, und deren Wert sich beim Abbruch der inneren Schleife mit ```break``` ändert. Ist deren Wert verändert, wird dann auch die äußere Schleife abgebrochen (bei 3* 4). Diese etwas unelegante Vorgehen ist nötig, weil Python kein \"totales break\" für verschachtelte Schleifen kennt. Man kann sich mit Funktionsaufrufen ebenfalls helfen, mehr dazu in den Kapiteln über Funktionen."
   ]
  },
  {
   "cell_type": "code",
   "execution_count": null,
   "metadata": {},
   "outputs": [],
   "source": [
    "flag=0\n",
    "for a in range(10):\n",
    "    if flag==1:\n",
    "        break\n",
    "    for b in range(5):\n",
    "        if a*b>10:\n",
    "            flag=1\n",
    "            break\n",
    "        print(f\" a: {a},b: {b}, a*b {a*b}\")"
   ]
  },
  {
   "cell_type": "markdown",
   "metadata": {},
   "source": [
    "Einen subtilen Fehler kann man begehen, wenn man in einer Schleife eine Liste verändert, über die die Schleife läuft. \"my_list\" wird hier um 4 erweitert, falls \"element\" 3 ist. Daher hat die Liste jetzt auch das Element 4 und die zweite if-Anweisung ist True und hängt den String an!! Eigentlich sollte \"element\" ja nie 4 werden! Also keine Liste im Körper verändern über die die Schleife läuft. "
   ]
  },
  {
   "cell_type": "code",
   "execution_count": null,
   "metadata": {},
   "outputs": [],
   "source": [
    "my_list=[1,2,3]\n",
    "for element in my_list:\n",
    "    if element == 3:\n",
    "        my_list.append(4)\n",
    "    if element == 4: #Die Liste ist ja hier schon verlängert um \"4\" worden\n",
    "                     #Darauf zeigt jetzt die Schleifenvariable!!!\n",
    "        my_list.append(\"Auch das noch!\")\n",
    "print(my_list)   "
   ]
  },
  {
   "cell_type": "markdown",
   "metadata": {},
   "source": [
    "Man kann sich helfen, indem man die Schleife nicht über my_list sondern über eine Kopie laufen lässt. Diese Kopie wir dann nicht verändert im Körper:"
   ]
  },
  {
   "cell_type": "code",
   "execution_count": null,
   "metadata": {},
   "outputs": [],
   "source": [
    "my_list=[1,2,3]\n",
    "neue_liste=my_list.copy()\n",
    "#oder neue_liste=my_list[:]\n",
    "for element in neue_liste:  #läuft über neue_liste nicht über my_list\n",
    "                            #ich kann mit my_list daher alles machen, ohne die\n",
    "                            #Schleife zu beeinträchtigen\n",
    "    if element == 3:\n",
    "        my_list.append(4)\n",
    "    if element == 4:\n",
    "        my_list.append(\"Auch das noch!\")\n",
    "print(my_list)   "
   ]
  },
  {
   "cell_type": "markdown",
   "metadata": {},
   "source": [
    "Jetzt können wir mit Bedingungen und Schleifen interessante Programme schreiben.\n",
    "## Aufgabe (etwas schwieriger)<br>\n",
    "Schreiben Sie ein Programm mit einer verschachtelten Schleife, die die Zahlen von 1 bis 100 für a in der äußeren Schleife und für b (ebenfalls von 1 bis 100) in einer inneren Schleife durchläuft. Falls ```Wurzel aus (a**2 + b**2)``` eine Zahl ergibt, die sehr nahe (<1E-6, also kleiner als 10hoch-6) an einer Integer ist, drucken Sie aus:<br>\n",
    "print(a,b,\" sind Pythagoraszahlen\")<br>\n",
    "Hinweis: Importieren Sie math und verwenden Sie für die Quadratwurzel math.sqrt() .<br>\n",
    "Erklärung: Wenn zwei Integer-Zahlen a und b bei der Berechnung von $ \\sqrt{a^2 + b^2} $ eine Integer-Zahl ergeben, sind es sogenannte Pythagoraszahlen."
   ]
  },
  {
   "cell_type": "code",
   "execution_count": null,
   "metadata": {},
   "outputs": [],
   "source": [
    "import math\n",
    "for a in range(1,101):\n",
    "    for b in range(1,101):\n",
    "        if abs(math.sqrt(a**2+b**2)-int(math.sqrt(a**2+b**2)))<1E-6:\n",
    "            print(a,b,\" sind Pythagoraszahlen\")"
   ]
  },
  {
   "cell_type": "markdown",
   "metadata": {},
   "source": [
    "## Aufgabe\n",
    "Wie kann man verhindern, daß die Zahlenkombinationen im Ergebnisausdruck immer zweimal auftauchen?\n"
   ]
  },
  {
   "cell_type": "markdown",
   "metadata": {},
   "source": [
    "Da wir jetzt die wichtigsten Typen, Inputs, bedingte Anweisungen und Schleifen kennen, können wir langsam wirklich interessante Programme schreiben. Damit unsere Ergebnisse auch gut aussehen, beschäftigen wir uns jetzt mit der print() Funktion und der Gestaltung unserer Ausdrucke durch Formatierung."
   ]
  }
 ],
 "metadata": {
  "kernelspec": {
   "display_name": "Python 3 (ipykernel)",
   "language": "python",
   "name": "python3"
  },
  "language_info": {
   "codemirror_mode": {
    "name": "ipython",
    "version": 3
   },
   "file_extension": ".py",
   "mimetype": "text/x-python",
   "name": "python",
   "nbconvert_exporter": "python",
   "pygments_lexer": "ipython3",
   "version": "3.9.12"
  }
 },
 "nbformat": 4,
 "nbformat_minor": 4
}
