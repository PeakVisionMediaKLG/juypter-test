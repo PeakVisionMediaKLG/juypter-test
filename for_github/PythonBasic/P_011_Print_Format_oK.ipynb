{
 "cells": [
  {
   "cell_type": "markdown",
   "metadata": {},
   "source": [
    "# Print() und Formatierung<br><img width=600 src=\"Images/Printer.png\" />"
   ]
  },
  {
   "cell_type": "markdown",
   "metadata": {},
   "source": [
    "Nachdem wir jetzt interessante Programme schreiben können, wollen wir deren Ergebnisse auch angemessen ausgeben. Wir beschäftigen uns zunächst mit der Bildschirmausgabe. Hierfür gibt es die print() Funktion, die wir schon oft benutzt haben. Nun aber zu den Details. Während wir normalerweise Python 2 nicht mehr erwähnen, ist es aber doch wichtig auf den häufigsten Fehler hinzuweisen, wenn wir ein altes Python 2 Programm in Python 3 laufen lassen wollen. Wir werden ganz sicher diesen Fehler bekommen: SyntaxError: Missing parentheses in call to 'print'. Did you mean print()?"
   ]
  },
  {
   "cell_type": "code",
   "execution_count": null,
   "metadata": {},
   "outputs": [],
   "source": [
    "#print 3   macht Fehler in Python 2 erlaubt, in Python 3 nicht! \n",
    "#Hier ist print() eine Funktion und braucht Klammern um die Parameter"
   ]
  },
  {
   "cell_type": "markdown",
   "metadata": {},
   "source": [
    "Während print in Python 2 eine Anweisung war und das Auszudruckende nicht in Klammern stehen musste, ist das in Pythgon 3 nicht mehr so. Hier ist print() eine ganz normale Funktion. Die komplette Syntax der print() - Funktion sieht so aus:<br><b>print(value1, ..., sep=' ', end='\\n', file=sys.stdout, flush=False)"
   ]
  },
  {
   "cell_type": "markdown",
   "metadata": {},
   "source": [
    "Zunächst können eine beliebige Menge Werte ausgegeben werden (value1...), die kommasepariert aufgeführt werden. Der Typ der Werte ist frei, sofern sie druckbar sind. Ein häufiges Beispiel ist:"
   ]
  },
  {
   "cell_type": "code",
   "execution_count": null,
   "metadata": {},
   "outputs": [],
   "source": [
    "a = 42\n",
    "print(\"a = \",a)"
   ]
  },
  {
   "cell_type": "markdown",
   "metadata": {},
   "source": [
    "Hier haben wir einen String als ersten Wert und nach dem Komma einen Integer-Ausdruck, genauer einen Bezeichner der auf den Wert 42 zeigt. Die anderen Parameter in der Syntax werden oben mit ihren Standardwerten gezeigt, die sie annehmen, wenn man sie nicht selber angibt.<br> Zunächst zu \"sep\": Dieser Parameter steht standardmäßig auf Leerstring ```\"\"```. Er gibt an, wie die einzelnen Werte im Asudruck getrennt werden sollen. Ein paar Beispiele: (\"\\n\" neue Zeile, \"\\t\" Tabulator. siehe Escapezeichen!)\n"
   ]
  },
  {
   "cell_type": "code",
   "execution_count": null,
   "metadata": {},
   "outputs": [],
   "source": [
    "print(1,2,3,sep=\"#\")\n",
    "print(\"hallo\",\"World\",sep=\" \")\n",
    "print(\"grosser\",\"separator\",\"ist\",\"auch\",\"möglich\",sep=\"XXX\")\n",
    "print(100*\"-\")\n",
    "print(\"Alles\",\"in\",\"extra\",\"Zeile\",sep=\"\\n\")\n",
    "print(\"0123456789\"*7) \n",
    "print(\"sieben\",\"mit\",\"extra\",\"Tab\",sep=\"\\t\") #Es werden für die Werte + Tab immer 8 Zeichen \n",
    "# verwendet , falls der Wert weniger als 8 Zeichen hat! Sonst werden Blöcke mit 8 Leerzeichen \n",
    "# gebildet unde der lezte Block bis 8 aufgefüllt (s.u)\n",
    "print(\"0123456789\"*7)  \n",
    "print(\"siebenlänger\",\"mit\",\"extra\",\"Tab\",sep=\"\\t\")\n",
    "print(100*\"-\")\n",
    "print(\"Komma\"\"vergessen\",\"konkateniert die Strings automatisch\\n\",\"das\"\"kann\"\"schief\"\"gehen\"\"!\")"
   ]
  },
  {
   "cell_type": "markdown",
   "metadata": {},
   "source": [
    "Was ist mit \"end\"? Falls nicht selber gesetzt, ist dies \\n, also neue Zeile. Jede print() -Funktion erzeugt also standardmäßig nach ihrer Ausführung eine neue Zeile. Setzt man \"end\" z.B. auf \"x\" oder auf Leerstring, ändert sich das Verhalten:"
   ]
  },
  {
   "cell_type": "code",
   "execution_count": null,
   "metadata": {},
   "outputs": [],
   "source": [
    "print(\"A\")\n",
    "print(\"B\")\n",
    "print(\"Standard ist neue Zeile\")\n",
    "print(100*\"-\")\n",
    "print(\"A\",end=\"X\")\n",
    "print(\"B\")\n",
    "print(\"X und weiter\")\n",
    "print(\"dann aber nach dem letzten print() hier neue Zeile\")\n",
    "print(100*\"-\")\n",
    "print(\"X\",end=\"\")\n",
    "print(\"YYYYY\",end=\"\")\n",
    "print(\"->einfach aneinander\")\n",
    "# Weihnachtsbaum\n",
    "print() #Leerzeile\n",
    "reihen=int(input(\"Wieviele Äste?\"))\n",
    "for i in range(1,2*reihen,2): #Jeder Ast ist 2 länger als der davor Beginn 1: Ende 2*Reihen, Schritt 2\n",
    "    for leer in range((2*reihen-i)//2): #Zuerst Leerzeichen\n",
    "        print(\" \",end=\"\")\n",
    "    for anz in range(i): #Dann die ^\n",
    "        print(\"^\",end=\"\")\n",
    "    print()"
   ]
  },
  {
   "cell_type": "markdown",
   "metadata": {},
   "source": [
    "## Aufgabe:\n",
    "Ergänzen Sie das Weihnachtsbaumprogramm um einen Stamm,<b> der unten in der Mitte des Baumes steht und aus zwei #-Zeichen besteht und 4 Reihen hoch ist."
   ]
  },
  {
   "cell_type": "code",
   "execution_count": null,
   "metadata": {},
   "outputs": [],
   "source": [
    "print() #Leerzeile\n",
    "reihen=int(input(\"Wieviele Äste?\"))\n",
    "for i in range(1,2*reihen,2): #Jeder Ast ist 2 länger als der davor Beginn 1: Ende 2*Reihen, Schritt 2\n",
    "    for leer in range((2*reihen-i)//2): #Zuerst Leerzeichen\n",
    "        print(\" \",end=\"\")\n",
    "    for anz in range(i): #Dann die ^\n",
    "        print(\"^\",end=\"\")\n",
    "    print()\n",
    "for i in range(4):\n",
    "    print((reihen-2)*\" \"+\"##\")"
   ]
  },
  {
   "cell_type": "markdown",
   "metadata": {},
   "source": [
    "Nun zum \"file\" Parameter. Der bestimmt, wohin die print()-Funktion ausgibt. Standard ist der Bildschirm. Wollen wir z.B. in eine Datei schreiben, geht das wie unten gezeigt (viel mehr dazu in einem späteren Kapitel!). Auf dem Bildschirm passiert nichts, aber wir können den Ausdruck in der Datei \"test.txt\" anschauen mit \"File\" in der Menüleiste, dann \"Open\" und \"test.txt\" anklicken."
   ]
  },
  {
   "cell_type": "code",
   "execution_count": null,
   "metadata": {},
   "outputs": [],
   "source": [
    "fh = open(\"test.txt\",\"w\")\n",
    "print(\"42 ist die Antwort, aber was ist die Frage?\", file=fh)\n",
    "fh.close()"
   ]
  },
  {
   "cell_type": "markdown",
   "metadata": {},
   "source": [
    "Auch in den Standardfehlerkanal können wir drucken. "
   ]
  },
  {
   "cell_type": "code",
   "execution_count": null,
   "metadata": {},
   "outputs": [],
   "source": [
    "import sys\n",
    "# Ausgabe in Standardfehlerkanal:\n",
    "print(\"Hier werden Fehlerinformationen angezeigt!!\", file=sys.stderr)"
   ]
  },
  {
   "cell_type": "markdown",
   "metadata": {},
   "source": [
    "\"flush\" zwingt beim Schreiben das System dazu, im print() jeden einzelnen Wert (z.b: Buchstaben) <b>sofort</b> auszugeben, während beim Standardverhalten die Werte in einem Buffer gesammelt werden und dann am Ende des print() zusammen ausgegeben werden. Dies erlaubt z.B. bei System-Programmierung in einem einzelnen print() mehrere Aktionen ausführen zu lassen und deren Ergebnis vor dem nächsten Teilausdruck abzuwarten."
   ]
  },
  {
   "cell_type": "markdown",
   "metadata": {},
   "source": [
    "Soviel zur print()- Funktion. Unsere Ausdrucke haben aber weiterhin ein Problem, was wir hier zeigen:"
   ]
  },
  {
   "cell_type": "code",
   "execution_count": null,
   "metadata": {},
   "outputs": [],
   "source": [
    "brüche=[\n",
    "        (\"1/3\",\"eins durch 3\", 1/3),\n",
    "        (\"1/4\", \"eins durch vier\", 1/4),\n",
    "        (\"1/23\",\"eins durch dreiundzwanzig\", 1/23),\n",
    "        ]\n",
    "\n",
    "for i in brüche:\n",
    "    print(i)\n"
   ]
  },
  {
   "cell_type": "markdown",
   "metadata": {},
   "source": [
    "Ziemlich übel zum Lesen! Wir hätten gerne die einzelnen Angaben in Spalten untereinander und mit einer bestimmten Zahl von Nachkommastellen."
   ]
  },
  {
   "cell_type": "code",
   "execution_count": null,
   "metadata": {},
   "outputs": [],
   "source": [
    "\n",
    "print(f\" {brüche[0][0]}   {brüche[0][1]:^40} {1/3:3.3f}\")\n",
    "print(f\" {brüche[1][0]}   {brüche[1][1]:^40} {1/4:3.3f}\")\n",
    "print(f\" {brüche[2][0]}  {brüche[2][1]:^40} {1/23:3.3f}\")"
   ]
  },
  {
   "cell_type": "markdown",
   "metadata": {},
   "source": [
    "Wir wollen also unsere Ergebnisse an einer bestimmten Stelle stehen haben und in einer bestimmten Form. Dies nennt man \"Formatieren des Ausdrucks\". Während die Philosophie von Python normalerweise ist, für eine bestimmte Aufgabe nur eine Lösung zur Verfügung zu stellen, diese aber \"mit allen Haken und Ösen\", weicht die Sprache beim Formatieren von Ausdrucken davon ab und bietet 4(!) komplette Systeme dafür an. (Es gibt einen Befehl, der diese Philosophie ausdruckt, und vielen nicht bekannt ist, s.u.) <br>Dies hat vor allem historische Gründe, weil Programmierer anderer Sprachen auf ihre Formatierungen nicht verzichten wollten und somit der Druck hoch war, ihre Formatierungsart in Python zu übernehmen. Inzwischen gibt es aber eine klare Aussage zur Formatierung, die eines der Systeme uneingeschränkt empfiehlt, <b>die F-Strings (für \"formatierte Stringliterale\").</b> Wir werden daher diese ausführlich besprechen und die anderen Arten nur kurz streifen, damit man bei anderen Programmen, wo diese eventuell verwendet wurden, weiß, was gemeint ist."
   ]
  },
  {
   "cell_type": "code",
   "execution_count": null,
   "metadata": {},
   "outputs": [],
   "source": [
    "import this"
   ]
  },
  {
   "cell_type": "markdown",
   "metadata": {},
   "source": [
    "Formatierte Stringliterale oder f-strings wurden ab Python 3.6 eingeführt. Ihre Syntax ist sehr einfach und flexibel.\n",
    "\n",
    "Der f String fängt mit einem kleinen oder großen F an vor den öffnenden Anführungszeichen. Wir sehen dann hier 2 verschiedene Elemente. Einerseits Text wie in jedem normalen String, dann aber auch Elemente, die in geschweiften Klammern stehen. Diese geschweiften Klammern enthalten Werte oder Ausdrücke, die im String eingesetzt (Werte) oder vorher noch berechnet (komplexere Ausdrücke) werden. Hier wird zunächst der Wert für \"name\" und \"alter\" eingesetzt."
   ]
  },
  {
   "cell_type": "code",
   "execution_count": null,
   "metadata": {},
   "outputs": [],
   "source": [
    "name,alter = \"Jonas\",19 #Mehrfachzuweisung\n",
    "der_string = f\"Mein Freund {name} ist {alter} Jahre alt\" #der f-sString\n",
    "print(f\"Mein Freund {name} ist {alter} Jahre alt\") #direkt den f-String eingegeben beim print() oder\n",
    "print(f\"{der_string}\")#der_string als Ausdruck eingegegeben, der dann erzeugt wird.\n",
    "print(f\"In 10 Jahren wird er {alter+10} Jahre alt sein\")\n",
    "print(f\"Auch Funktionen gehen! {max(2,1,7,4)}\")\n",
    "print(f\"Ich möchte die Klammern wirklich sehen {{}}\") #geschweifte Klammer doppelt\n",
    "# print(f\"{'\\'+\"bla\"}\") #macht Fehler:SyntaxError: f-string expression part cannot include a backslash\n",
    "print(f\"Backslash im Textteil aber natürlich möglich! 1.Zeile\\n zweite Zeile\")"
   ]
  },
  {
   "cell_type": "markdown",
   "metadata": {},
   "source": [
    "Besonders wertvoll ist, daß man als Ausdruck alles einsetzen kann, was einen Wert ergibt. Damit kann man auch kompliziertere Berechnungen gleich im Ausdruck durchführen (wenn man sie nur dafür braucht.) Möchte man {} wirklich als Zeichen ausdrucken, muß man die Klammern doppelt verwenden (s.o.)<br> F-strings können keinen ```\\``` <b>innerhalb der {}</b> enthalten.(s.o.)<br> Interessant ab Python 3.8 ist, daß man eine sog. selbstdokumentierende print() Funktion schreiben kann. Das nachgestellte \"=\" druckt das Ergebnis mit dem Erklärungsstring zusammen aus."
   ]
  },
  {
   "cell_type": "code",
   "execution_count": null,
   "metadata": {},
   "outputs": [],
   "source": [
    "import math\n",
    "\n",
    "x = 0.7\n",
    "\n",
    "print(f'{math.cos(x) = }')\n",
    "print(f'{math.tan(x) = }')"
   ]
  },
  {
   "cell_type": "markdown",
   "metadata": {},
   "source": [
    "Auch das ternäre if kann man gut nutzen. Man muß darauf achten, daß bei eingefügten Strings, die Hochkommata richtig sind, also nicht z.B. ```\"``` oder ```'``` mehrfach verwendet wird."
   ]
  },
  {
   "cell_type": "code",
   "execution_count": null,
   "metadata": {},
   "outputs": [],
   "source": [
    "name,alter=\"Jonas\",28\n",
    "name2,alter2=\"Karl\",32\n",
    "f\"{name} ist {abs(alter-alter2)} Jahre {'jünger' if alter-alter2<0 else 'älter'} als {name2}.\" \n",
    "#Achtung im inneren String einfache Anführungsstriche!! Nicht auch dort \"\"!"
   ]
  },
  {
   "cell_type": "markdown",
   "metadata": {},
   "source": [
    "Multiline Strings sind einfach zu machen, aber vor jedem Teilstring muß ein f stehen:"
   ]
  },
  {
   "cell_type": "code",
   "execution_count": null,
   "metadata": {},
   "outputs": [],
   "source": [
    "name,beruf,warum = \"Klaus\",\"Arzt\",\"aus Leidenschaft\"\n",
    "nachricht = (\n",
    "            f\"Hallo {name}. \"\n",
    "            f\"Du bist {beruf}. \"\n",
    "            f\"Hoffentlich {warum}.\"\n",
    "            )\n",
    "print(nachricht)"
   ]
  },
  {
   "cell_type": "markdown",
   "metadata": {},
   "source": [
    "So kann man also die Reihenfolge und die Art der Elemente im Ausdruck steuern. Wie aber kann man z.B. bei Zahlen bestimmen, wieviel Nachkommastellen sie haben sollen und bei Strings, ob sie rechts-, linksbündig oder zentriert sein sollen? Dafür gibt es Formatierungszeichen. Das oder die Formatierungszeichen werden in den {} Klammern mit einem Doppelpunkt dem Wert nachgestellt. Zunächst kann die Breite des Ausgabefeldes bestimmt werden mit den Kennzeichen ```Breite und dann direkt anschliessend Kennbuchstabe```. Der Kennbuchstabe d oder D steht für Integer, f oder F für Float, e oder E für Exponentschreibweise, eine einfache Zahl ohne Buchsatben für Strings. <b>Strings sind ohne weitere Angabe linksausgerichtet, Zahlen rechtsausgerichtet. Beispiele:"
   ]
  },
  {
   "cell_type": "code",
   "execution_count": null,
   "metadata": {},
   "outputs": [],
   "source": [
    "a = - 3456\n",
    "b = -3.77777\n",
    "c = \"Hallo6789\"\n",
    "print(\"0123456789 zum Zeigen, wo der Ausdruck genau steht\")\n",
    "print(f\"{a:9d}\") #9Stellen\n",
    "print(f\"{a:2d}\") #Zahl passt nicht in Breite, dann minimale Breite zum Ausdruck\n",
    "print(\"0123456789\")\n",
    "print(f\"{b:9.2f}\") #9Stellen Gesamt, 2 Nachkommastellen\n",
    "print(f\"{b:4.2f}\") #Zahl passt nicht in Gesamtbreite, dann minimale Breite zum Ausdruck \n",
    "print(f\"{b:.3f}\") #wie oben\n",
    "print(\"0123456789\")\n",
    "print(f\"{b:9.2e}\") #9Stellen Gesamt, 2 Nachkommastellen Exponenetschreibweise\n",
    "print(\"0123456789\")\n",
    "print(f\"{c:9}Ende\") #9 Stellen Gesamtbreite für den String, \n",
    "print(f\"{c:2}\") #Zahl passt nicht in Gesamtbreite, dann minimale Breite zum Ausdruck \n"
   ]
  },
  {
   "cell_type": "markdown",
   "metadata": {},
   "source": [
    "Außerdem gibt es Ausrichtungszeichen. Folgende Optionen sind hierfür einsetzbar:<br><table style=\" width:80%; background-color: rgb(220, 120, 170); font-size: 14px\">\n",
    "  <thead>\n",
    "    <tr>\n",
    "      <th><center>Ausrichtungszeichen</th>\n",
    "      <th><center>Bedeutung</th>\n",
    "      </tr>\n",
    "    </thead>\n",
    "  <tbody>\n",
    "    <tr><td valign=\"baseline\"><tt><center><</tt></td>\n",
    "        <td><left><center>linksbündige Ausgabe (für strings default)</td>\n",
    "        </tr>\n",
    "    <tr><td valign=\"baseline\"><tt><center>></tt></td>\n",
    "        <td><center>rechtsbündige Ausgabe (für numerische Werte default).</td>\n",
    "        </tr>\n",
    "    <tr><td valign=\"baseline\"><tt><center>^     </tt></td>\n",
    "        <td><center>zentrierte Ausgabe</td>\n",
    "        </tr>\n",
    "    <tr><td valign=\"baseline\"><tt><center>0</tt></td>\n",
    "        <td><center>der Platz zwischen dem Vorzeichen (falls vorhanden, sonst Beginn des Feldes)<br> und dem Beginn der Zahl mit 0 belegen </td>\n",
    "        </tr>\n",
    "    <tr><td valign=\"baseline\"><tt><center>+</tt></td>\n",
    "        <td><center>Vorzeichen wird immer ausgegeben</td>\n",
    "        </tr>\n",
    "    <tr><td valign=\"baseline\"><tt><center>-</tt></td>\n",
    "        <td><center>Vorzeichen nur bei negativem Ausdruck</td>\n",
    "        </tr>\n",
    "    <tr><td valign=\"baseline\"><tt><center>Leerzeichen</tt></td>\n",
    "        <td><center>Ausdruck positiv -> Leerzeichen, Ausdruck negativ -> - Zeichen</td>\n",
    "        </tr>\n",
    "        </tbody>\n",
    "</table>"
   ]
  },
  {
   "cell_type": "code",
   "execution_count": null,
   "metadata": {},
   "outputs": [],
   "source": [
    "a=-456\n",
    "b=234\n",
    "print(f\"{a:07d}\")\n",
    "print(f\"{b:+7d}\")\n",
    "print(f\"{a:<}\")\n"
   ]
  },
  {
   "cell_type": "markdown",
   "metadata": {},
   "source": [
    "Damit haben wir viele Möglichkeiten, unsere Ausdrucke mit guter Lesbarkeit zu drucken. Nun eine<br>\n",
    "## Aufgabe:"
   ]
  },
  {
   "cell_type": "raw",
   "metadata": {},
   "source": [
    "\n",
    "einkäufe=[\n",
    "        (7,\"Tofuschnitzel\", 3.76),\n",
    "        (12, \"Hafermilchpackungen 1 l\", 1.45),\n",
    "        (5,\"Bio Rindfleisch spezial\", 24.20),\n",
    "        ]\n",
    "Drucken Sie die Einkaufsliste mit guter Lesbarkeit aus. Der Preis in Euro soll mit dem Kurs 0.98 in SFR umgerechnet werden und dann die Anzahl, das Produkt und der Preis in SFR ausgedruckt werden. Hinweis: Verwenden Sie eine for-Schleife für die 3 Einträge. Entpacken sie als Schleifenvariable den eingelesenen Tupel in 3 Einzelvariablen. "
   ]
  },
  {
   "cell_type": "code",
   "execution_count": null,
   "metadata": {},
   "outputs": [],
   "source": [
    "\n",
    "\n",
    "\n",
    "\n",
    "\n",
    "\n",
    "\n",
    "\n",
    "\n",
    "\n",
    "#Lösung\n",
    "einkäufe=[\n",
    "        (7,\"Tofuschnitzel\", 3.76),\n",
    "        (12, \"Hafermilchpackungen 1 l\", 1.45),\n",
    "        (5,\"Bio Rindfleisch spezial\", 24.20),\n",
    "        ]\n",
    "kurs_euro_sfr=.98\n",
    "for anzahl, text, preis in einkäufe: #ein Element ist das jeweilige Tupel, es wird entpackt\n",
    "    gesamt= anzahl*preis\n",
    "    gesamt_in_sfr=gesamt*kurs_euro_sfr\n",
    "    print(f\"{anzahl:4d} {text:^25s} in SFR {gesamt_in_sfr:=006.2f}\")\n",
    "print(100*\"-\")\n",
    "\n",
    "\n",
    "#andere Möglichkeit (unelegant)\n",
    "for einkauf in einkäufe:    \n",
    "    gesamt= einkauf[0]*einkauf[2]   \n",
    "    gesamt_in_sfr=gesamt*kurs_euro_sfr\n",
    "    print(f\"{einkauf[0]:4d} {einkauf[1]:^25s} in SFR {gesamt_in_sfr:=006.2f}\")\n",
    "print(100*\"-\")\n",
    "\n",
    "#andere Möglichkeit (eleganter)\n",
    "for einkauf in einkäufe:\n",
    "    anzahl,text,preis=einkauf #Tupelzerlegung extra\n",
    "    gesamt= anzahl*preis    \n",
    "    gesamt_in_sfr=gesamt*kurs_euro_sfr\n",
    "    print(f\"{anzahl:4d} {text:^25s} in SFR {gesamt_in_sfr:=006.2f}\")"
   ]
  },
  {
   "cell_type": "markdown",
   "metadata": {},
   "source": [
    "Eines unserer 4 Systeme der Formatierung wird hauptsächlich gebraucht, um Sicherheitslücken zu vermeiden. Es heißt \"Template Strings\". Dieses System ist mit dem Import eines Moduls \"Template\" aus dem \"string\" Modul zugänglich.\n",
    "\n",
    "Die variablen Werte werden jeweils mit einem vorgestellten ```$``` Zeichen im String eingefügt neben dem normalen Text. Formatierung ist nicht möglich. Sie werden dann in einem 2. Schritt mit der ```substitute({'variablenbezeichner1':Wert1,'variablenbezeichner2':Wert2,...})```- Methode dem Templatestring zugewiesen. Durch diesen 2 Schritte-Mechanismus werden subtile Sicherheitslücken geschlossen, da z.B. der einzusetzende Wert nach einem User-input() geprüft werden kann und nur dann substituiert wird, wenn bestimmte Bedingungen erfüllt sind. "
   ]
  },
  {
   "cell_type": "code",
   "execution_count": null,
   "metadata": {},
   "outputs": [],
   "source": [
    "from string import Template\n",
    "user = input(\"Bitte User eingeben: \")\n",
    "passw = input(\"Bitte Password eingeben: \")\n",
    "if user==\"Ich\":\n",
    "    p=passw\n",
    "else:\n",
    "    p=\"nicht abrufbar\"\n",
    "t = Template('Passwort ist $p') #Im String ist $variable Platzhalter\n",
    "\n",
    "print (t.substitute({'p' : p}))"
   ]
  },
  {
   "cell_type": "markdown",
   "metadata": {},
   "source": [
    "Dieses System hat also sehr begrenzten Einsatzzweck und den Nachteil, daß eine Formatierung nicht stattfindet.<br> Die verbleibenden 2 System sind veraltet und sollten nicht mehr verwendet werden.<br> Das älteste System ist wie bei C oder Perl und läuft so, daß im String mit dem % Zeichen die Stelle markiert wird, wo etwas Formatiertes eingefügt werden soll. Die Formatierung wird dann mit einem Formatstring dieser Form erzeugt. <br><b>%[flags][width][.precision]type </b><br> Nach einem %-Zeichen bestimmt(en) die \"flag(s)\" den Umgang mit Vorzeichen.  Die \"width\" ist die Gesamtbreite des Ausgabefeldes und die \"precision\" die Anzahl von Nachkommastellen. Der \"type\" gibt den Typ des Ausrucks an. z.B. E für Fließkomma,d für Integer... Nach dem restlichen String-Teil folgt das abschliessende Hochkomma und dann nach einem %-Zeichen die Aufzählung der einzusetzenden Werte in Klammern (). Beispiele:"
   ]
  },
  {
   "cell_type": "code",
   "execution_count": null,
   "metadata": {},
   "outputs": [],
   "source": [
    "print(\"0123456789\"*7)\n",
    "print(\"Diese Zahl mit 10 Gesamtstellen und 3 Nachkommastellen %+10.3e\" % (356.08977))\n",
    "print(\"Zunächst Text, dann Integer mit 10 Stellen %10i \" %(123))\n",
    "print(\"Zahl 1 (2 Nachkommastellen): %5.2f Zahl 2 (Integer! 5 Stellen): %5i\" %(3.1415926, 5.6))"
   ]
  },
  {
   "cell_type": "markdown",
   "metadata": {},
   "source": [
    "Das andere veraltete System geht über eine ```format()``` Methode (Funktion). Hier wird an den String die format() Angabe angehängt mit:<br><b>string.format(p0, p1, ..., k0=v0, k1=v1, ...)</b><br>Dabei sind normale Werte möglich oder auch Werte mit Bezeichner, wie a = 13.<br>\n",
    "Im String werden dann die Stellen zum Einfügen der Werte mit {} markiert. Dort finden sich dann auch die Formatierungsmerkmale. Mit einer Durchnummerierung vor der Formatangabe kann man bestimmen, wo welches der einzusetzenden Elemente hinkommt. Beispiele:"
   ]
  },
  {
   "cell_type": "code",
   "execution_count": null,
   "metadata": {},
   "outputs": [],
   "source": [
    "print(\"Erstes Argument: {0:3.2f}, zweites: {1:6d}\".format(47,11))\n",
    "print(\"Erstes Argument: {1:3.2f}, zweites: {0:6d}\".format(47,11))\n"
   ]
  },
  {
   "cell_type": "markdown",
   "metadata": {},
   "source": [
    "Auch benannte einzusetzende Elemente sind möglich:"
   ]
  },
  {
   "cell_type": "code",
   "execution_count": null,
   "metadata": {},
   "outputs": [],
   "source": [
    "print(\"Artikel: {a:5d},  Preis: {p:8.2f}\".format(a=453, p=59.058))"
   ]
  },
  {
   "cell_type": "markdown",
   "metadata": {},
   "source": [
    "Soviel zu den älteren Methoden der Formatierung. Als Nächstes besprechen wir noch 2 sehr wichtige kombinierte Datenttypen, Dictionaries und Sets, also Wörterbücher und Mengen. Danach kommt der große Bereich von Funktionen, der uns professionelles und effektives Programmieren eigentlich erst ermöglicht."
   ]
  }
 ],
 "metadata": {
  "kernelspec": {
   "display_name": "Python 3",
   "language": "python",
   "name": "python3"
  },
  "language_info": {
   "codemirror_mode": {
    "name": "ipython",
    "version": 3
   },
   "file_extension": ".py",
   "mimetype": "text/x-python",
   "name": "python",
   "nbconvert_exporter": "python",
   "pygments_lexer": "ipython3",
   "version": "3.8.5"
  }
 },
 "nbformat": 4,
 "nbformat_minor": 4
}
