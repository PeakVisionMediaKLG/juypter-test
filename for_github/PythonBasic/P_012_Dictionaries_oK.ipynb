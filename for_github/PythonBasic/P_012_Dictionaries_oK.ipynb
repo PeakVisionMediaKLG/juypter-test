{
 "cells": [
  {
   "cell_type": "markdown",
   "metadata": {},
   "source": [
    "# Dictionaries (Wörterbücher)<br> <img width=300 src=\"Images/Dictionary.svg\" />"
   ]
  },
  {
   "cell_type": "markdown",
   "metadata": {},
   "source": [
    "Dictionaries sind kombinierte Datentypen. Sie sind aber nicht sequentiell, sind mutabel und bilden Schlüssel auf Werte ab (\"Mapping\"). In anderen Sprachen sind sie als \"assoziative Arrays\" bekannt. Sie sind an einem {}- Klammerpaar zu erkennen. Ein Beispiel:"
   ]
  },
  {
   "cell_type": "code",
   "execution_count": null,
   "metadata": {},
   "outputs": [],
   "source": [
    "my_dict = {\"a\":1 ,5:2 ,False:\"Ist falsch\"}\n",
    "# my_dict= {a:1 , b:2} #macht Fehler: NameError: name 'a' is not defined\n",
    "\n",
    "print(my_dict[\"a\"])\n",
    "print(my_dict[5])\n",
    "print(my_dict[False])\n"
   ]
  },
  {
   "cell_type": "markdown",
   "metadata": {},
   "source": [
    "Zunächst sehen wir, wie man ein Dictionary formuliert. Die Einträge werden mit ```Schlüssel:Wert```-Paaren (```key:value```) in die {}-Klammern eingetragen und mit \",\" separiert. Möchte man einen Wert aus dem Wörterbuch auslesen, gibt man nach dem Namen des Dictionary in [ ] wie einen Index den Schlüssel ein. Genau dies ist es, was ein Wörterbuch ausmacht, statt wie bei Listen einen numerischen Index zu benutzen, muß man hier den Schlüssel verwenden. Es besteht also eine Assoziation zwischen Schlüssel und Wert. Es ist leicht ersichtlich, daß ein Schlüssel in einem Wörterbuch nur einmal vorkommen kann (welcher von mehreren Werten mit dem gleichen Schlüssel sollte sonst zurückgegeben werden?). Bezüglich der Werte ist man völlig frei. Das ganze ist also eine Einbahnstraße. Daß Wörterbücher nicht sequentiell sind, erkennt man daran, daß man nicht mit my_dict[2] den dritten Wert zurückgegeben bekommt. Statt dessen: \"KeyError: 2\". <b>Der key ```2``` wird also wie jeder andere key behandelt."
   ]
  },
  {
   "cell_type": "markdown",
   "metadata": {},
   "source": [
    "Bezüglich der Schlüssel gilt, daß diese nur immutable Werte haben können, nicht aber mutable Werte wie Listen. Warum ist das so? Würde man einen solchen Schlüssel während der Laufzeit verändern, würde die ganze Ordnung des Dictionary zusammenbrechen. Anders die Werte. Hier ist alles erlaubt, inklusive Listen oder sogar andere Wörterbücher. Beispiele:"
   ]
  },
  {
   "cell_type": "code",
   "execution_count": null,
   "metadata": {},
   "outputs": [],
   "source": [
    "d = {\"a\":[1,2,3], 4:{\"A\":5, \"B\":6}, (4,5,6): \"Schlüssel ist Tupel, also erlaubt\"}\n",
    "print(f\"Wert ist Wörterbuch! {d[4]}\")\n",
    "print(d[(4,5,6)])\n",
    "# d = {1:\"erster Wert\" , [2]:\"auch ein Wert\"} #macht Fehler: TypeError: unhashable type: 'list'"
   ]
  },
  {
   "cell_type": "markdown",
   "metadata": {},
   "source": [
    "Gibt es auch andere Möglichkeiten aus anderen kombinierten Datentypen Dictionaries zu erstellen? Denn diese jedesmal von Hand einzugeben,wäre ja sehr mühsam, oft hat man ja schon kombinierte Datentypen, die man gerne in ein Wörterbuch übernehmen will. Es gibt dazu mehrere Möglichkeiten. Wie für andere Typen wie z.B. Listen mit list() gibt es die Typumwandlungsfunktion auch für Wörterbücher mit dict(). Diese Funktion versucht aus den Parametern ein Dictionary zu machen, sofern das geht."
   ]
  },
  {
   "cell_type": "markdown",
   "metadata": {},
   "source": [
    "Als erstes nehmen wir eine Liste von Tupeln und versuchen das. Der erste Teil des Tupel ist immer der Schlüssel, der zweite der Wert. Nehmen wir an, wir hätten diese Liste von Tupeln, dann ist das Erstellen eines Dictionaries simpel. Wir werde Dictionaries ab jetzt als ```Dict``` abkürzen (aus Faulheit)."
   ]
  },
  {
   "cell_type": "code",
   "execution_count": 1,
   "metadata": {},
   "outputs": [],
   "source": [
    "tup_liste=[\n",
    "    (\"a\",2),\n",
    "    (False,5),\n",
    "    (2,[1,2,3]),\n",
    "]\n"
   ]
  },
  {
   "cell_type": "markdown",
   "metadata": {},
   "source": [
    "Eine kleine Nebenbemerkung: Dies ist die beste Art, kombinierte Datentypen einzugeben. Wir sehen sofort zeilenweise die einzelnen Elemente. Wollen wir eines von Hand löschen, können wir das einfach so, wir müsen uns nicht darum kümmern, ob das Element das letzte in der Aufzählung ist, denn <b>das Komma hinter dem letzten Element ist erlaubt.</b> Wenn wir ein Element einfügen wollen, geht das ebenfalls an jeder Stelle mit dem abschliessenden Komma."
   ]
  },
  {
   "cell_type": "code",
   "execution_count": 2,
   "metadata": {},
   "outputs": [
    {
     "name": "stdout",
     "output_type": "stream",
     "text": [
      "{'a': 2, False: 5, 2: [1, 2, 3]}\n"
     ]
    }
   ],
   "source": [
    "my_dict = dict(tup_liste)\n",
    "print(my_dict)\n"
   ]
  },
  {
   "cell_type": "markdown",
   "metadata": {},
   "source": [
    "Mit pprint können wir uns das Dict in schönerer Form ausgeben lassen (nach import). Unten der Vergleich."
   ]
  },
  {
   "cell_type": "code",
   "execution_count": 3,
   "metadata": {},
   "outputs": [
    {
     "name": "stdout",
     "output_type": "stream",
     "text": [
      "[{'Name': 'John', 'Age': '23', 'Country': 'USA'}, {'Name': 'Jose', 'Age': '44', 'Country': 'Spain'}, {'Name': 'Anne', 'Age': '29', 'Country': 'UK'}, {'Name': 'Lee', 'Age': '35', 'Country': 'Japan'}] \n",
      "\n",
      "____________________________________________________________________________________________________\n",
      "[{'Age': '23', 'Country': 'USA', 'Name': 'John'},\n",
      " {'Age': '44', 'Country': 'Spain', 'Name': 'Jose'},\n",
      " {'Age': '29', 'Country': 'UK', 'Name': 'Anne'},\n",
      " {'Age': '35', 'Country': 'Japan', 'Name': 'Lee'}]\n"
     ]
    }
   ],
   "source": [
    "from pprint import pprint\n",
    "\n",
    "\n",
    "personen = [\n",
    "  {'Name': 'John', 'Age': '23', 'Country': 'USA'},\n",
    "  {'Name': 'Jose', 'Age': '44', 'Country': 'Spain'},\n",
    "  {'Name': 'Anne', 'Age': '29', 'Country': 'UK'},\n",
    "  {'Name': 'Lee', 'Age': '35', 'Country': 'Japan'}\n",
    "]\n",
    "print(personen,\"\\n\")\n",
    "print(100*\"_\")\n",
    "pprint(personen)"
   ]
  },
  {
   "cell_type": "markdown",
   "metadata": {},
   "source": [
    "Nun werden wir aber selten eine solche Liste von Tupel haben. Häufiger ist es, daß wir eine Liste von Schlüsseln haben und eine passende Liste von Werten wie unten:"
   ]
  },
  {
   "cell_type": "code",
   "execution_count": null,
   "metadata": {},
   "outputs": [],
   "source": [
    "länder = [\n",
    "    \"Deutschland\",\n",
    "    \"Spanien\",\n",
    "    \"Italien\",\n",
    "    \"Griechenland\",\n",
    "]\n",
    "sprachen_in_english = [\n",
    "    \"German\",\n",
    "    \"Spanish\",\n",
    "    \"Italian\",\n",
    "    \"Greek\"\n",
    "]"
   ]
  },
  {
   "cell_type": "markdown",
   "metadata": {},
   "source": [
    "Um diese zu verknüpfen, hat Python die zip()(von Reißverschluss!) Funktion im Repertoire. Diese verknüpft mehrere kombinierte Datentypen zu Tupel mit jeweils dem in der Reihenfolge entsprechenden Element aus jedem der kombinierten Typen. Das Ergebnis ist ein zip-Objekt, was wir uns anschauen können, wenn wir es in eine Liste verwandeln. Wir können aber direkt über das zip-Objekt ohne weiteres eine Schleife laufen lassen. Erstaunlicherweise wird unten in der Schleife bei Zeile 11 nichts ausgdedruckt. Dies liegt daran, daß das zip-Objekt durch den print() in Zeile 5 verbraucht ist, es wird zum Ausdruck intern durchlaufen. Das zip-Objekt ist ein Beispiel eines ```Iterators```, der beim Durchlaufen jeweils das nächste Element zurückgibt. Nach einem Durchlauf sind solche Iteratoren erschöpft. Man muß sie erneuern, wie in Zeile 10, dann kann man sie wieder benutzen. Das Ganze geht auch mit mehreren (auch unterschiedlichen) kombinierten Datentypen.<br> Was, wenn die Länge der gezippten Datentypen nicht übereinstimmt?\n",
    "Das zip-Objekt wird nur bis zur kleinsten Länge aller verwendeten Daten verarbeitet, alles andere verfällt."
   ]
  },
  {
   "cell_type": "code",
   "execution_count": null,
   "metadata": {},
   "outputs": [],
   "source": [
    "a_list=[1,2,3,4]\n",
    "b_list=[\"a\",\"b\",\"c\",\"d\"]\n",
    "st=\"wert\"\n",
    "short_list=[1]\n",
    "c=zip(a_list,b_list)\n",
    "print(f\"das zip_Objekt {c}\")\n",
    "print(f\"Die Liste des zip-Objekts {list(c)}\")\n",
    "d = zip(a_list,st)\n",
    "print(f\"Zip-Objekt aus Liste und String {list(d)}\")\n",
    "# c=zip(a_list,b_list) #man muß das zip_Objekt erneuern\n",
    "for element in c:\n",
    "    print(\"->\",element)\n",
    "e = zip(a_list,b_list,st)#es geht auch mit vielen parallelen kombinierten Datentypen\n",
    "print(f\"Drei Kombitypen {list(e)}\")\n",
    "f = zip(b_list,short_list)\n",
    "print(f\"short_list hat nur 1 Element, deshalb nur ein Element in {list(f)}\")"
   ]
  },
  {
   "cell_type": "markdown",
   "metadata": {},
   "source": [
    "Damit haben wir nun genau die passenden Zutaten, um parallele Listen in ein Dict umzuwandeln."
   ]
  },
  {
   "cell_type": "code",
   "execution_count": null,
   "metadata": {},
   "outputs": [],
   "source": [
    "pprint(dict(list(zip(länder,sprachen_in_english))))"
   ]
  },
  {
   "cell_type": "markdown",
   "metadata": {},
   "source": [
    "## Aufgabe:<br>\n",
    "Warum funktioniert das Programm unten nicht wie gewünscht? Was muß man ändern?"
   ]
  },
  {
   "cell_type": "code",
   "execution_count": null,
   "metadata": {},
   "outputs": [],
   "source": [
    "land_und_sprache = zip(länder,sprachen_in_english)\n",
    "print(list(land_und_sprache))\n",
    "land_und_sprache_liste = list(land_und_sprache)\n",
    "print(land_und_sprache_liste) \n",
    "land_und_sprache_dict = dict(land_und_sprache_liste)\n",
    "print(land_und_sprache_dict)"
   ]
  },
  {
   "cell_type": "markdown",
   "metadata": {},
   "source": [
    "Wie kann man darüber hinaus mit Dicts arbeiten, sie verlängern, Elemente löschen...? Dafür gibt es Funktionen, die wir jetzt durchsprechen werden."
   ]
  },
  {
   "cell_type": "markdown",
   "metadata": {},
   "source": [
    "Erstellen eines leeren Dicts:"
   ]
  },
  {
   "cell_type": "code",
   "execution_count": null,
   "metadata": {},
   "outputs": [],
   "source": [
    "my_dict=dict()\n",
    "#oder\n",
    "my_dict1={}\n",
    "print(type(my_dict1))"
   ]
  },
  {
   "cell_type": "markdown",
   "metadata": {},
   "source": [
    "Einfügen von neuen Schlüssel:Werte Paaren:"
   ]
  },
  {
   "cell_type": "code",
   "execution_count": null,
   "metadata": {},
   "outputs": [],
   "source": [
    "my_dict[\"neuer Schlüssel\"]=\"neuer Wert\"\n",
    "my_dict[\"weiterer Schlüssel\"]=\"weiterer Wert\"\n",
    "print(my_dict)"
   ]
  },
  {
   "cell_type": "markdown",
   "metadata": {},
   "source": [
    "Feststellen der Länge, prüfen ob <b>Schlüssel</b> im Dict vorkommt ```len(),in```:"
   ]
  },
  {
   "cell_type": "code",
   "execution_count": null,
   "metadata": {},
   "outputs": [],
   "source": [
    "print(len(my_dict))\n",
    "print(\"neuer Schlüssel\" in my_dict)\n",
    "print(\"anderer Schlüssel\" in my_dict)\n",
    "print(\"anderer Schlüssel\" not in my_dict)"
   ]
  },
  {
   "cell_type": "markdown",
   "metadata": {},
   "source": [
    "Schlüssel:Werte Paar löschen,ganzes Dict leeren ```del,clear()```:"
   ]
  },
  {
   "cell_type": "code",
   "execution_count": null,
   "metadata": {},
   "outputs": [],
   "source": [
    "my_dict[\"neuer Schlüssel\"]=\"neuer Wert\"\n",
    "my_dict[\"weiterer Schlüssel\"]=\"weiterer Wert\"\n",
    "del my_dict[\"neuer Schlüssel\"]\n",
    "print(my_dict)\n",
    "# del my_dict[\"bla\"] #macht Fehler:KeyError: 'bla'\n",
    "my_dict.clear()\n",
    "print(my_dict)"
   ]
  },
  {
   "cell_type": "markdown",
   "metadata": {},
   "source": [
    "## Aufgabe<br>\n",
    "Unten finden Sie ein Dict für Morsecode. Wandeln Sie einen vom User eingegebenen Text in Morsecode um. Hinweis: Die Zeichen (oder den ganzen Text?) mit upper() in Großbuchstaben verwandeln. Zeichen, die nicht im Dict vorkommen, sollen unverändert ausgegeben werden."
   ]
  },
  {
   "cell_type": "code",
   "execution_count": null,
   "metadata": {},
   "outputs": [],
   "source": [
    "morse = {\n",
    "\"A\" : \".-\", \n",
    "\"B\" : \"-...\", \n",
    "\"C\" : \"-.-.\", \n",
    "\"D\" : \"-..\", \n",
    "\"E\" : \".\", \n",
    "\"F\" : \"..-.\", \n",
    "\"G\" : \"--.\", \n",
    "\"H\" : \"....\", \n",
    "\"I\" : \"..\", \n",
    "\"J\" : \".---\", \n",
    "\"K\" : \"-.-\", \n",
    "\"L\" : \".-..\", \n",
    "\"M\" : \"--\", \n",
    "\"N\" : \"-.\", \n",
    "\"O\" : \"---\", \n",
    "\"P\" : \".--.\", \n",
    "\"Q\" : \"--.-\", \n",
    "\"R\" : \".-.\", \n",
    "\"S\" : \"...\", \n",
    "\"T\" : \"-\", \n",
    "\"U\" : \"..-\", \n",
    "\"V\" : \"...-\", \n",
    "\"W\" : \".--\", \n",
    "\"X\" : \"-..-\", \n",
    "\"Y\" : \"-.--\", \n",
    "\"Z\" : \"--..\", \n",
    "\"0\" : \"-----\", \n",
    "\"1\" : \".----\", \n",
    "\"2\" : \"..---\", \n",
    "\"3\" : \"...--\", \n",
    "\"4\" : \"....-\", \n",
    "\"5\" : \".....\", \n",
    "\"6\" : \"-....\", \n",
    "\"7\" : \"--...\", \n",
    "\"8\" : \"---..\", \n",
    "\"9\" : \"----.\", \n",
    "\".\" : \".-.-.-\", \n",
    "\",\" : \"--..--\"\n",
    "}"
   ]
  },
  {
   "cell_type": "code",
   "execution_count": null,
   "metadata": {},
   "outputs": [],
   "source": [
    "\n",
    "\n",
    "\n",
    "\n",
    "\n",
    "\n",
    "\n",
    "\n",
    "\n",
    "\n",
    "\n",
    "\n",
    "#LÖSUNG\n",
    "text=input(\"Bitte Text eingeben:  \").upper()\n",
    "res=\"\"\n",
    "for char in text:\n",
    "    if char in morse.keys():\n",
    "        res+=\" \"+morse[char]\n",
    "    else:\n",
    "        res+=char\n",
    "print(res)"
   ]
  },
  {
   "cell_type": "markdown",
   "metadata": {},
   "source": [
    "Bei Listen kennen wir die ```pop()``` Funktion. Diese gibt es auch für Dicts. Es wird bei Eingabe eines Schlüssels als Parameter von pop() der entsprechende Wert ausgegeben. Dann wird<b> das Schlüssel:Werte Paar gelöscht.</b> Bei einem falschen Schlüssel gibt es einen KeyError. ```popitem()``` gibt ein zufälliges Schlüssel:Werte Paar als Tupel aus und löscht es. Bei leerem Dict bekommt man natürlich einen Fehler."
   ]
  },
  {
   "cell_type": "code",
   "execution_count": null,
   "metadata": {},
   "outputs": [],
   "source": [
    "a=morse.pop(\",\")\n",
    "print(a)\n",
    "pprint(morse)\n",
    "print(100*\"-\")\n",
    "b=morse.popitem()\n",
    "print(b)\n",
    "pprint(morse)"
   ]
  },
  {
   "cell_type": "markdown",
   "metadata": {},
   "source": [
    "Oft will man den Wert eines Schlüssels aus dem Dict herauslesen, weiß aber nicht, ob der Schlüssel überhaupt existiert. Wenn man es einfach probiert, und der Schlüssel nicht existiert, gibt es einen KeyError. Man kann natürlich zuerst prüfen mit ```in```, ob es diesen Schlüssel gibt, und nur dann den Lesevorgang durchführen. Eleganter ist aber die ```get(Schlüssel,Standardrückgabewert)``` Funktion. Sie gibt den entsprechenden Wert zurück, falls der Schlüssel vorhanden ist. Existiert der Schlüssel nicht, gibt sie stattdessen None oder (falls vorhanden, zweiter Parameter fakultativ) den Standardwert zurück."
   ]
  },
  {
   "cell_type": "code",
   "execution_count": null,
   "metadata": {},
   "outputs": [],
   "source": [
    "beispiel_dict={\"a\":1,\"b\":2,\"c\":3}\n",
    "wert = beispiel_dict.get(\"c\",\"nicht da\")\n",
    "print(f\"Schlüssel c: {wert}\")\n",
    "wert1 = beispiel_dict.get(\"f\",\"nicht da\")\n",
    "print(f\"Schlüssel f: {wert1}\")\n",
    "print(f\"Schlüssel f kein Standardwert: {beispiel_dict.get('f')}\")"
   ]
  },
  {
   "cell_type": "markdown",
   "metadata": {},
   "source": [
    "## Aufgabe (schwieriger) <br>\n",
    "Legen Sie ein Dict an, in dem die Häufigkeit der in einem String vorkommenden Zeichen eingetragen wird. keys sind also die Zeichen, values die Anzahl des Vorkommens im String. Benutzen Sie get().\n",
    "Der String lautet: \"Hunde sind schlechte Verlierer!! Sie beißen einfach.\""
   ]
  },
  {
   "cell_type": "code",
   "execution_count": null,
   "metadata": {},
   "outputs": [],
   "source": [
    "\n",
    "\n",
    "\n",
    "\n",
    "\n",
    "\n",
    "\n",
    "\n",
    "\n",
    "\n",
    "\n",
    "\n",
    "\n",
    "\n",
    "\n",
    "\n",
    "\n",
    "#LÖSUNG\n",
    "from pprint import pprint\n",
    "s = \"Hunde sind schlechte Verlierer!! Sie beißen einfach.\"\n",
    "histogramm=dict()\n",
    "for buchstabe in s:    \n",
    "    histogramm[buchstabe] = histogramm.get(buchstabe,0)+1\n",
    "pprint(histogramm)"
   ]
  },
  {
   "cell_type": "markdown",
   "metadata": {},
   "source": [
    "Auch Dicts kann man mit copy() kopieren. Wie bei Listen ist es allerdings eine flache Kopie, wenn also <b>Werte intern geändert werden (z.B. der Wert ist eine Liste)</b> haben wir die gleichen Probleme wie bei Listen. Also muß man, wenn mutable Typen für die Werte vorkommen, und man wirklich zwei völlig unabhängige Dicts haben will, auch für Dicts nach import von copy ```copy.deepcopy``` verwenden."
   ]
  },
  {
   "cell_type": "code",
   "execution_count": null,
   "metadata": {},
   "outputs": [],
   "source": [
    "hist2=histogramm.copy()\n",
    "print(hist2)"
   ]
  },
  {
   "cell_type": "markdown",
   "metadata": {},
   "source": [
    "An ein Dict kann man ein anderes Dict anhängen mit ```update(neuesDict)```. Dabei \"gewinnt\" bei gleichen Schlüsseln in den beiden Dicts der Schlüssel des angehängten Dicts und überschreibt den Wert des Original-Dicts. ```bike``` wird hier überschrieben."
   ]
  },
  {
   "cell_type": "code",
   "execution_count": null,
   "metadata": {},
   "outputs": [],
   "source": [
    "w={\"car\":\"Auto\",\"bike\":\"Fahrrad\",\"boat\":\"Boot\"}\n",
    "w1 = {\"plane\":\"Flugzeug\",\"bike\":\"Motorrad\"}\n",
    "w.update(w1)\n",
    "print(w)"
   ]
  },
  {
   "cell_type": "markdown",
   "metadata": {},
   "source": [
    "Dicts kann man mit Schleifen durchfahren, man kann über sie iterieren. Was wird aber ausgegeben, wenn ich als Container einfach den Bezeichner des Dicts angebe? <b>Es sind die Schlüssel."
   ]
  },
  {
   "cell_type": "code",
   "execution_count": null,
   "metadata": {},
   "outputs": [],
   "source": [
    "for elem in w: #nur Dict-Bezeichner\n",
    "    print(elem)"
   ]
  },
  {
   "cell_type": "markdown",
   "metadata": {},
   "source": [
    "Es gibt 3 Möglichkeiten, gezielt entweder auf die Schlüssel oder auf die Werte oder auf Schlüssel:Werte Paare eines Dict zuzugreifen. <br>\n",
    "- Dict.keys() greift auf die Schlüssel zu, (kann man aber auch weglassen s.o.)\n",
    "- Dict.values() greift auf die Werte zu\n",
    "- Dict.items() greift auf Schlüsselwertepaare zu und gibt jeweils ein Tupel (Schlüssel,Wert) zurück."
   ]
  },
  {
   "cell_type": "code",
   "execution_count": null,
   "metadata": {},
   "outputs": [],
   "source": [
    "for elem in w.keys():\n",
    "    print(elem)\n",
    "print(100*\"-\")\n",
    "for elemente in w.values():\n",
    "    print(elemente)\n",
    "print(100*\"-\")\n",
    "for key,wert in w.items(): #Tupelentpackung \n",
    "    print(f\"Schlüssel ist: {key:6} Wert ist: {wert}\")"
   ]
  },
  {
   "cell_type": "markdown",
   "metadata": {},
   "source": [
    "## Aufgabe (etwas schwieriger)<br>\n",
    "Machen Sie aus dem Morsetext:<br>\n",
    "-.. .. . ...  .. ... -  -. .. -.-. .... -  ... . .... .-.  . .. -. ..-. .- -.-. ..... !<br>\n",
    " wieder lesbaren Text. Hinweis: Zerlegen Sie den String. Benutzen sie Dict.items()<br>\n",
    " Unten das morse Dict. Kommt das Zeichen dort nicht vor, geben Sie es unverändert in den Text."
   ]
  },
  {
   "cell_type": "code",
   "execution_count": null,
   "metadata": {},
   "outputs": [],
   "source": [
    "morse = {\n",
    "\"A\" : \".-\", \n",
    "\"B\" : \"-...\", \n",
    "\"C\" : \"-.-.\", \n",
    "\"D\" : \"-..\", \n",
    "\"E\" : \".\", \n",
    "\"F\" : \"..-.\", \n",
    "\"G\" : \"--.\", \n",
    "\"H\" : \"....\", \n",
    "\"I\" : \"..\", \n",
    "\"J\" : \".---\", \n",
    "\"K\" : \"-.-\", \n",
    "\"L\" : \".-..\", \n",
    "\"M\" : \"--\", \n",
    "\"N\" : \"-.\", \n",
    "\"O\" : \"---\", \n",
    "\"P\" : \".--.\", \n",
    "\"Q\" : \"--.-\", \n",
    "\"R\" : \".-.\", \n",
    "\"S\" : \"...\", \n",
    "\"T\" : \"-\", \n",
    "\"U\" : \"..-\", \n",
    "\"V\" : \"...-\", \n",
    "\"W\" : \".--\", \n",
    "\"X\" : \"-..-\", \n",
    "\"Y\" : \"-.--\", \n",
    "\"Z\" : \"--..\", \n",
    "\"0\" : \"-----\", \n",
    "\"1\" : \".----\", \n",
    "\"2\" : \"..---\", \n",
    "\"3\" : \"...--\", \n",
    "\"4\" : \"....-\", \n",
    "\"5\" : \".....\", \n",
    "\"6\" : \"-....\", \n",
    "\"7\" : \"--...\", \n",
    "\"8\" : \"---..\", \n",
    "\"9\" : \"----.\", \n",
    "\".\" : \".-.-.-\", \n",
    "\",\" : \"--..--\"\n",
    "}"
   ]
  },
  {
   "cell_type": "code",
   "execution_count": null,
   "metadata": {},
   "outputs": [],
   "source": [
    "\n",
    "\n",
    "\n",
    "\n",
    "\n",
    "\n",
    "\n",
    "\n",
    "\n",
    "\n",
    "\n",
    "\n",
    "\n",
    "#LÖSUNG\n",
    "s = \"-.. .. . ...  .. ... -  -. .. -.-. .... -  ... . .... .-.  . .. -. ..-. .- -.-. .... !\"\n",
    "\n",
    "s = s.split(\" \")\n",
    "ergeb=\"\"\n",
    "for zeichen in s:\n",
    "    if zeichen not in morse.values():        \n",
    "        if zeichen==\"\":\n",
    "            zeichen=\" \"\n",
    "        ergeb+=zeichen        \n",
    "        continue\n",
    "    for k,v in morse.items():\n",
    "        if v == zeichen:\n",
    "            ergeb+=k\n",
    "print(ergeb)\n",
    "    \n"
   ]
  },
  {
   "cell_type": "markdown",
   "metadata": {},
   "source": [
    "Man kann mit keys() und values() Dicts auch sehr schön wieder in Paare von Listen verwandeln."
   ]
  },
  {
   "cell_type": "code",
   "execution_count": null,
   "metadata": {},
   "outputs": [],
   "source": [
    "morsezeichen=morse.keys()\n",
    "print(morsezeichen)\n",
    "print(100*\"-\")\n",
    "print(list(morsezeichen))\n",
    "print(100*\"-\")\n",
    "print(list(morse.values()))"
   ]
  },
  {
   "cell_type": "markdown",
   "metadata": {},
   "source": [
    "Wir haben jetzt den sehr wichtigen und häufig genutzten Datentyp ```dict``` kennengelernt und gesehen, wie man damit arbeitet! Jetzt zu dem letzten Typ, den wir besprechen werden, den Sets."
   ]
  }
 ],
 "metadata": {
  "kernelspec": {
   "display_name": "Python 3 (ipykernel)",
   "language": "python",
   "name": "python3"
  },
  "language_info": {
   "codemirror_mode": {
    "name": "ipython",
    "version": 3
   },
   "file_extension": ".py",
   "mimetype": "text/x-python",
   "name": "python",
   "nbconvert_exporter": "python",
   "pygments_lexer": "ipython3",
   "version": "3.9.12"
  }
 },
 "nbformat": 4,
 "nbformat_minor": 4
}
