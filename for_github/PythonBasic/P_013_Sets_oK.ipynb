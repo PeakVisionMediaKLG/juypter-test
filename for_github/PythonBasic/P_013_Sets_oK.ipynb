{
 "cells": [
  {
   "cell_type": "markdown",
   "metadata": {},
   "source": [
    "# Sets (Mengen)\n",
    "### viel zu wenig genutzt!<br>\n",
    "<img width=300 src=\"Images/Set.jpg\" />\n"
   ]
  },
  {
   "cell_type": "markdown",
   "metadata": {},
   "source": [
    "Mengen wie man sie aus der Mathematik kennt, sind in Python als Sets definiert. Sie sind sehr wichtig, da Python damit alle Operationen der Mengenlere elegant ausführen kann. Der Datentyp ist \"set\" und sie stellen einfach eine Sammlung von Objekten dar (sind eine Kollection), ein Set ist mutabel, also veränderbar. Sie enthalten beliebig viele Objekte, diese <b>Objekte müssen aber alle immutabel sein.</b> Ein weiterer Kernpunkt ist, daß <b>jedes Element nur einmal vorkommen kann</b>. Die Sammlung von Elementen ist ungeordnet. Schauen wir uns das gleiche Set mehrfach an, können wir die Elemente in verschiedenen Reihenfolgen zurückgegeben bekommen. Wie erzeugt man ein Set? Einmal wie auch bei den anderen Typen mit der set()-Funktion (dem Konstruktor), die versucht, einen kombinierten Datentyp (Liste,String,Tupel) in ein Set zu verwandeln (falls das geht,z.B. keine mutablen Elemente in den umzuwandelnden Daten) oder indem man mit {} Objekte kommasepariert eingibt."
   ]
  },
  {
   "cell_type": "code",
   "execution_count": 2,
   "metadata": {},
   "outputs": [
    {
     "name": "stdout",
     "output_type": "stream",
     "text": [
      "set()\n",
      "{}\n",
      "{False, 1, 'neues', 'set', (2, 3, 4)}\n",
      "{'ebenfalls', 'set'}\n",
      " {'t', 'e', 'r', 'w'} keine Duplikate, ungeordnet!\n"
     ]
    }
   ],
   "source": [
    "a = set() #erzeugt leeres Set\n",
    "b = {} #erzeugt ebenfalls leeres Set\n",
    "c = set([\"neues\",\"set\",1,False,(2,3,4)]) #Liste in set umwandeln\n",
    "d = {\"ebenfalls\",\"set\",\"set\",\"set\"} #set direkt erzeugen\n",
    "e = set(\"werte\") #string in set von Buchstabenstrings verwandeln\n",
    "print(a)\n",
    "print(b)\n",
    "print(c)\n",
    "print(d)\n",
    "print(f\" {e} keine Duplikate, ungeordnet!\")"
   ]
  },
  {
   "cell_type": "markdown",
   "metadata": {},
   "source": [
    "Wir sehen hier 2 Arten, ein leeres Set zu erzeugen. Die Ausgabe mit {} und set() ist äquivalent. Bei c sehen wir, daß unterschiedliche Objekte in ein Set gefüllt werden können (alle immutabel) aus einer Liste als kombiniertem Datentyp. d zeigt, daß bei gleichen Objekten jeweils nur eins in das Set aufgenommen wird. Bei e ein Beispiel eines Strings als kombiniertem Datentyp, wir finden nur einmal \"e\", außerdem ist wie auch bei c und d die Reihenfolge verändert. Wir können also durch Umwandeln in ein Set doppelte Vorkommen in kombinierten Datentypen feststellen, Sets haben auch die len()-Funktion und wenn sich die Länge des Sets von der der Originaldaten unterscheidet, haben wir Duplikate. "
   ]
  },
  {
   "cell_type": "code",
   "execution_count": 8,
   "metadata": {},
   "outputs": [
    {
     "name": "stdout",
     "output_type": "stream",
     "text": [
      "Set ist: {2, 3, 4, 5, 6, 7, 9}\n",
      "Länge Set und Liste sind gleich? False\n",
      "Länge Liste: 10 Länge Set: 7\n",
      "Aus 10 Listen-Elementen wurde 7 Set-Elemente, also sind insgesamt 3 mehrfach enthalten!\n"
     ]
    }
   ],
   "source": [
    "liste_zum_testen_ob_Duplikate = [2,5,6,7,3,4,5,2,2,9]\n",
    "set_daraus = set(liste_zum_testen_ob_Duplikate)\n",
    "print(f\"Set ist: {set_daraus}\")\n",
    "print(f\"Länge Set und Liste sind gleich? {len(liste_zum_testen_ob_Duplikate)==len(set_daraus)}\") #es gibt Duplikate\n",
    "print(f\"Länge Liste: {len(liste_zum_testen_ob_Duplikate)} Länge Set: {len(set_daraus)}\")\n",
    "print(\"Aus 10 Listen-Elementen wurde 7 Set-Elemente, also sind insgesamt 3 mehrfach enthalten!\")"
   ]
  },
  {
   "cell_type": "markdown",
   "metadata": {},
   "source": [
    "Eine sehr wichtige Anwendung für Sets! Über z.B. list() als Umwandlungsfunktion können wir aus dem Set wieder einen anderen Datentyp machen, allerdings ist die Reihenfolge verändert. (Python hat eine eigene Sortierreihenfolge, die aber nicht immer einfach zu verstehen ist, hier einfach nach Größe der Zahlen.)"
   ]
  },
  {
   "cell_type": "code",
   "execution_count": 9,
   "metadata": {},
   "outputs": [
    {
     "name": "stdout",
     "output_type": "stream",
     "text": [
      "[2, 3, 4, 5, 6, 7, 9]\n"
     ]
    }
   ],
   "source": [
    "print(list(set_daraus))"
   ]
  },
  {
   "cell_type": "markdown",
   "metadata": {},
   "source": [
    "Mit der add()-Funktion können wir einem Set Elemente hinzufügen. Das Set selbst ist mutabel, nur die Elemente im Set dürfen es nicht sein! remove() löscht ein Element."
   ]
  },
  {
   "cell_type": "code",
   "execution_count": 10,
   "metadata": {},
   "outputs": [
    {
     "name": "stdout",
     "output_type": "stream",
     "text": [
      "{'Hund', 'Katze'}\n",
      "{'Hund'}\n"
     ]
    }
   ],
   "source": [
    "a = set()\n",
    "a.add(\"Hund\")\n",
    "a.add(\"Katze\")\n",
    "print(a)\n",
    "a.remove(\"Katze\")\n",
    "print(a)\n",
    "# a.remove(\"Esel\") # macht Fehler: KeyError: 'Esel'\n"
   ]
  },
  {
   "cell_type": "markdown",
   "metadata": {},
   "source": [
    "Man kann Sets immutabel machen, indem man sie in ```Frozensets``` verwandelt. Dann kann man sie erzeugen, dann lesend darauf zugreifen, aber nach dem Erzeugen können Elemente weder gelöscht noch hinzugefügt werden. Man kann aber natürlich ein Frozenset durch eine Umwandlungsfunktion (wie list(),tuple(),set()) in andere kombinierte Datentypen verwandeln, auch in ein normales Set, was man dann wieder normal bearbeiten kann."
   ]
  },
  {
   "cell_type": "code",
   "execution_count": 11,
   "metadata": {},
   "outputs": [
    {
     "name": "stdout",
     "output_type": "stream",
     "text": [
      "{1, 2, 3, 4, 5, 8}\n"
     ]
    }
   ],
   "source": [
    "frozen = frozenset([1,2,3,4,5])\n",
    "#frozen.remove(1) #Fehler: AttributeError: 'frozenset' object has no attribute 'remove'\n",
    "#frozen.add(2) #Fehler: AttributeError: 'frozenset' object has no attribute 'add'\n",
    "new_set=set(frozen)\n",
    "new_set.add(8)\n",
    "print(new_set)"
   ]
  },
  {
   "cell_type": "markdown",
   "metadata": {},
   "source": [
    "Warum sollte man aber ein Set unveränderbar machen? Einerseits ist das Set dadurch geschützt vor unerwünschter Veränderung im Programm, andererseits kann es überall eingesetzt werden, wo immutable Datentypen gefragt sind, z.B. als Keys in Dictionaries.\n",
    "Kann man Dictionaries in Sets verwandeln? Da die Keys nicht mehrfach vorkommen können und immutabel sind, bietet es sich an, sie in ein Set zu verwandeln. Was auch unten passiert. Greifen wir ohne nähere Angabe auf ein Dict zu, sind bekanntlich die keys gemeint. Wir können auch die values in ein Set verwandeln, mit dict.values(). Sie müssen dann alle immutabel sein, um dies zu können. Dann gehen aber Duplikate verloren. Ist ein wert mutabel, entsteht ein Fehler <b>TypeError: unhashable type: ...\n"
   ]
  },
  {
   "cell_type": "code",
   "execution_count": 15,
   "metadata": {},
   "outputs": [
    {
     "name": "stdout",
     "output_type": "stream",
     "text": [
      "Set aus my_dict der Keys: {'Hund', 'Katze'}\n",
      "Dict mit doppeltem Value: {'Katze': 'Mau', 'Hund': 'Wau', 'großer Hund': 'Wau'}\n",
      "Die Values: dict_values(['Mau', 'Wau', 'Wau'])\n",
      "Dict.values() in set verwandeln: {'Wau', 'Mau'}\n",
      "Dict mit mutablem Wert einer Liste : {'Katze': 'Mau', 'Hund': ['Wau', 'Groll'], 'großer Hund': 'Wau'}\n"
     ]
    }
   ],
   "source": [
    "my_dict = {\"Katze\":\"Mau\",\"Hund\":\"Wau\"}\n",
    "tiere = set(my_dict)\n",
    "print(f\"Set aus my_dict der Keys: {set(tiere)}\")\n",
    "my_dict[\"großer Hund\"]=\"Wau\"\n",
    "print(f\"Dict mit doppeltem Value: {my_dict}\")\n",
    "print(f\"Die Values: {my_dict.values()}\")\n",
    "tiere = set((my_dict.values()))\n",
    "print(f\"Dict.values() in set verwandeln: {tiere}\")\n",
    "my_dict[\"Hund\"] = [\"Wau\",\"Groll\"]\n",
    "print(f\"Dict mit mutablem Wert einer Liste : {my_dict}\")\n",
    "#b = set(my_dict.values()) #macht Fehler:TypeError: unhashable type: 'list'\n"
   ]
  },
  {
   "cell_type": "markdown",
   "metadata": {},
   "source": [
    "Das Beste an Sets ist, daß man alle Mengenoperationen damit machen kann. Hier werden die einzelnen Funktionen vorgestellt. ```add() und remove()``` sowie den ```in``` Operator kennen wir schon. ```discard()``` entfernt wie remove ein Element aus dem Set, gibt aber keinen Fehler aus, wenn das Element nicht existiert. ```clear()``` leert das Set, läßt aber ein leeres Set bestehen, löscht also nicht die Referenz.<br><br>\n",
    "```copy()```\n",
    "erzeugt eine (flache) Kopie eines Set. Braucht man deepcopy für Sets? Nein. Wenn wir ein Set Element haben, das auf weitere Elemente intern verweist, müssen alle diese Verweise zu immutablen Elementen führen (z.B. verschachteltes Tupel wie (1,2,(3,4)). Man kann dann also kein Element der internen Struktur verändern. Man kann lediglich das gesamte Element austauschen, also das alte komplett entfernen und ein neues hinzufügen. Probleme wie bei Listen können so nicht entstehen. Eine einfache <b>Zuweisung wie set1 = set2</b> macht wieder nur 2 Referenzen auf dasgleiche Objekt, <b>ändert man eins der referenzierten Objekte, wird das andere auch verändert (wie bei den anderen kombinierten Datentypen)."
   ]
  },
  {
   "cell_type": "code",
   "execution_count": 16,
   "metadata": {},
   "outputs": [
    {
     "name": "stdout",
     "output_type": "stream",
     "text": [
      "Kopie von s: {1, 2, (1, (3, 4))}\n",
      "veränderte Kopie von s: {(1, (2, 4)), 1, 2}, s selber: {1, 2, (1, (3, 4))}\n",
      "----------------------------------------------------------------------------------------------------\n",
      "s vor Ändern von s1 (s1=s): {1, 2, (1, (3, 4))}\n",
      "s nach Ändern von s1!!: {(1, (2, 4)), 1, 2}\n"
     ]
    }
   ],
   "source": [
    "s = {1,2,(1,(3,4))}\n",
    "s1=s.copy()\n",
    "print(f\"Kopie von s: {s1}\")\n",
    "for element in s1:\n",
    "    if element==(1,(3,4)):\n",
    "        s1.add((1,(2,4)))\n",
    "        s1.remove((1,(3,4)))\n",
    "print(f\"veränderte Kopie von s: {s1}, s selber: {s}\")\n",
    "print(100*\"-\")\n",
    "s1 = s\n",
    "print(f\"s vor Ändern von s1 (s1=s): {s}\")\n",
    "for element in s1:\n",
    "    if element==(1,(3,4)):\n",
    "        s1.add((1,(2,4)))\n",
    "        s1.remove((1,(3,4)))\n",
    "print(f\"s nach Ändern von s1!!: {s}\")"
   ]
  },
  {
   "cell_type": "markdown",
   "metadata": {},
   "source": [
    "Kommen wir jetzt zur Mengenlehre. Zusätzlich zu Beispielen für alle diesbezüglichen Funktionen, werden wir typische Fragen stellen zu diesen Sets, die wir mit den Mengenlehre-Funktionen beantworten werden."
   ]
  },
  {
   "cell_type": "markdown",
   "metadata": {},
   "source": [
    "Welche Elemente kommen sowohl in der Menge A als auch in der Menge B vor?<br>\n",
    "<b>A.intersection(B) oder A|B (Schnittmenge)<br>(Gibt diese Menge zurück)"
   ]
  },
  {
   "cell_type": "code",
   "execution_count": null,
   "metadata": {},
   "outputs": [],
   "source": [
    "A={1,2,3,4,5,6,7}\n",
    "B={4,5,6,8,9}\n",
    "A.intersection(B)\n"
   ]
  },
  {
   "cell_type": "markdown",
   "metadata": {},
   "source": [
    "Welche Elemente sind insgesamt in beiden Mengen enthalten?<br>\n",
    "<b>A.union(B) oder A&B (Vereinigungsmenge) <br>(Gibt diese Menge zurück) "
   ]
  },
  {
   "cell_type": "code",
   "execution_count": null,
   "metadata": {},
   "outputs": [],
   "source": [
    "A={1,2,3,4,5,6,7}\n",
    "B={4,5,6,8,9}\n",
    "A.union(B)"
   ]
  },
  {
   "cell_type": "markdown",
   "metadata": {},
   "source": [
    "Welche Elemente sind in A enthalten, aber nicht in B?<br>\n",
    "<b>A.difference(B) oder A-B (Differenzmenge)<br>(Gibt diese Menge zurück)"
   ]
  },
  {
   "cell_type": "code",
   "execution_count": null,
   "metadata": {},
   "outputs": [],
   "source": [
    "A={1,2,3,4,5,6,7}\n",
    "B={4,5,6,8,9}\n",
    "A.difference(B)\n"
   ]
  },
  {
   "cell_type": "markdown",
   "metadata": {},
   "source": [
    "Welche Elemente bleiben in A, wenn wir alle Elemente von B daraus entfernen, die auch in A sind?<br><b>\n",
    "A.difference_update(B) oder A=A-B <br>(Verändert A inplace!)"
   ]
  },
  {
   "cell_type": "code",
   "execution_count": 19,
   "metadata": {},
   "outputs": [
    {
     "data": {
      "text/plain": [
       "{1, 2, 3, 7}"
      ]
     },
     "execution_count": 19,
     "metadata": {},
     "output_type": "execute_result"
    }
   ],
   "source": [
    "A={1,2,3,4,5,6,7}\n",
    "B={4,5,6,8,9}\n",
    "A.difference_update(B)\n",
    "A"
   ]
  },
  {
   "cell_type": "markdown",
   "metadata": {},
   "source": [
    "Haben A und B kein gemeinsames Element?<b> (disjunkte Mengen) <br>\n",
    "A.isdisjoint(B)<br>(Antwort Bool)"
   ]
  },
  {
   "cell_type": "code",
   "execution_count": null,
   "metadata": {},
   "outputs": [],
   "source": [
    "A={1,2,3,4,5,6,7}\n",
    "B={4,5,6,8,9}\n",
    "A.isdisjoint(B)"
   ]
  },
  {
   "cell_type": "markdown",
   "metadata": {},
   "source": [
    "Kommen alle Elemente von B auch in A vor?<b> (B echte oder unechte Untermenge von A) <br>\n",
    "B.issubset(A) <br> B<A (B echte Untermenge von A) <br>B<=A (auch unechte Untermengen)<br>(Bool)"
   ]
  },
  {
   "cell_type": "code",
   "execution_count": 18,
   "metadata": {},
   "outputs": [
    {
     "name": "stdout",
     "output_type": "stream",
     "text": [
      "B.issubset(A): True\n",
      "B<A: echte Untermenge: True\n",
      "aber auch A.issubset(A)! unechte Untermenge: True\n",
      "oder A<=A unechte Untermenge: True\n"
     ]
    }
   ],
   "source": [
    "A={2,3,4,5,6}\n",
    "B={2,3}\n",
    "print(f\"B.issubset(A): {B.issubset(A)}\")\n",
    "print(f\"B<A: echte Untermenge: {B.issubset(A)}\")\n",
    "print(f\"aber auch A.issubset(A)! unechte Untermenge: {A.issubset(A)}\")\n",
    "print(f\"oder A<=A unechte Untermenge: {A<=A}\")"
   ]
  },
  {
   "cell_type": "markdown",
   "metadata": {},
   "source": [
    "Kommen alle Elemente von A auch in B vor? <b>(B echte oder unechte Obermenge von A)<br>\n",
    "B.issuperset(A)<br> B>A (Test auf echte Obermenge)<br> B>=A (auch unechte Obermengen)\n",
    "(Bool)"
   ]
  },
  {
   "cell_type": "code",
   "execution_count": null,
   "metadata": {},
   "outputs": [],
   "source": [
    "\n",
    "A={2,3}\n",
    "B={2,3,4,5,6}\n",
    "print(f\"B.issuperset(A): {B.issuperset(A)}\")\n",
    "print(f\"B>A: echte Obermenge: {B.issuperset(A)}\")\n",
    "print(f\"aber auch B.issubset(B)! unechte Obermenge: {A.issuperset(A)}\")\n",
    "print(f\"oder A>=A unechte Obermenge: {A>=A}\")\n"
   ]
  },
  {
   "cell_type": "markdown",
   "metadata": {},
   "source": [
    "Gib ein beliebiges Element der Menge zurück.<br>\n",
    "<b> pop(A) (Fehler, wenn Menge leer)"
   ]
  },
  {
   "cell_type": "code",
   "execution_count": null,
   "metadata": {},
   "outputs": [],
   "source": [
    "A = {10,2,33,-4,5,61,7}\n",
    "for _ in range(7):\n",
    "    print(A.pop())"
   ]
  },
  {
   "cell_type": "code",
   "execution_count": null,
   "metadata": {},
   "outputs": [],
   "source": [
    "# A.pop() #macht Fehler, da kein Element mehr da: KeyError: 'pop from an empty set'"
   ]
  },
  {
   "cell_type": "markdown",
   "metadata": {},
   "source": [
    "## Aufgabe:<br>\n",
    "Schreibe ein Programm in Python <b>ohne Benutzung von Sets<b>, welches die Differenzliste von 2 Listen A [2,4,5,4,3,6,1,4] und B [4,9,7,83,3] (Elemente von A, die nicht in B sind) ausgibt. (Hinweis: Lösche zuerst doppelte Elemente aus den Listen). Mache dann dasselbe mit Sets. Beurteile wieviel einfacher das geht!"
   ]
  },
  {
   "cell_type": "code",
   "execution_count": 1,
   "metadata": {},
   "outputs": [
    {
     "name": "stdout",
     "output_type": "stream",
     "text": [
      "Ergebnis ohne Set-Benutzung: [2, 5, 1, 6]\n",
      "----------------------------------------------------------------------------------------------------\n",
      "Ergebnis ohne Set-Benutzung: [1, 2, 5, 6]\n"
     ]
    }
   ],
   "source": [
    "\n",
    "\n",
    "\n",
    "\n",
    "\n",
    "\n",
    "\n",
    "\n",
    "\n",
    "\n",
    "\n",
    "\n",
    "\n",
    "\n",
    "\n",
    "\n",
    "\n",
    "\n",
    "\n",
    "\n",
    "\n",
    "\n",
    "# Lösung ohne Sets\n",
    "A=[2,4,5,4,3,6,1,3,6,4] \n",
    "B= [4,7,7,9,7,83,3]\n",
    "for liste in [A,B]:\n",
    "    for elem in liste:\n",
    "        elem_count = liste.count(elem)\n",
    "        if elem_count>1:\n",
    "            for _ in range(elem_count-1):\n",
    "                liste.remove(elem)\n",
    "\n",
    "res_list=[]\n",
    "for elem in A:\n",
    "    if elem not in B:\n",
    "        res_list.append(elem)\n",
    "print(f\"Ergebnis ohne Set-Benutzung: {res_list}\") \n",
    "print(\"-\"*100)\n",
    "\n",
    "\n",
    "\n",
    "# mit Sets\n",
    "A=[2,4,5,4,3,6,1,3,6,4] \n",
    "B= [4,7,7,9,7,83,3]\n",
    "A,B=set(A),set(B)\n",
    "print(f\"Ergebnis ohne Set-Benutzung: {list(A-B)}\") "
   ]
  },
  {
   "cell_type": "markdown",
   "metadata": {},
   "source": [
    "Ganz schön cool, Mengen! Jetzt aber zu Funktionen, damit können wir dann wirklich effizient Programme schreiben."
   ]
  }
 ],
 "metadata": {
  "kernelspec": {
   "display_name": "Python 3 (ipykernel)",
   "language": "python",
   "name": "python3"
  },
  "language_info": {
   "codemirror_mode": {
    "name": "ipython",
    "version": 3
   },
   "file_extension": ".py",
   "mimetype": "text/x-python",
   "name": "python",
   "nbconvert_exporter": "python",
   "pygments_lexer": "ipython3",
   "version": "3.9.12"
  }
 },
 "nbformat": 4,
 "nbformat_minor": 4
}
