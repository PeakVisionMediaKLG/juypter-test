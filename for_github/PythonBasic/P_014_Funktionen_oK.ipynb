{
 "cells": [
  {
   "cell_type": "markdown",
   "metadata": {},
   "source": [
    "# Funktionen<br>\n",
    "\n",
    "\n",
    "<img width=400  src=\"Images/Funktion.png\"  />"
   ]
  },
  {
   "cell_type": "markdown",
   "metadata": {},
   "source": [
    "Funktionen sind ein nahezu unverzichtbares Element der Programmierung. Sie bieten die Möglichkeit Abschnitte des Codes nicht nur mehrfach zu verwenden, es ist außerdem möglich, diese Codeabschnitte durch die Übergabe von Werten an unterschiedliche spezifische Aufgaben anzupassen.  Da Funktionen oft Aufgaben ausführen, die im unterschiedlichsten Zusammenhang gebraucht werden können, sind sie meistens auch in vielen unterschiedlichen Programmen nutzbar als universelle Bausteine. Sie verbessern die Lesbarkeit des Codes und die Fehlersuche.\n",
    "Funktionen sind unter verschiedenen Namen in fast allen Programmiersprachen bekannt, z. als Unterprogramme, Routinen, Prozeduren, Methoden oder Subroutinen.<br> Wir haben ja bisher eingebaute Funktionen (max(),min(),count()...) in Python schon häufig in ihrer Anwendung gesehen. Nun wollen wir solche Funktionen selbst erstellen.\n",
    "Hier ein Beispiel, das zeigt, wie Codewiederholungen vermieden werden können durch die Verwendung einer Funktion."
   ]
  },
  {
   "cell_type": "code",
   "execution_count": 2,
   "metadata": {},
   "outputs": [
    {
     "name": "stdout",
     "output_type": "stream",
     "text": [
      "{'Katze': 'Mau', 'Hund': 'Bello', 'Pferd': 'Blacky', 'Papagei': 'Pirat'}\n",
      "ich bin ein(e) Katze und heiße: Mau\n",
      "ich bin ein(e) Hund und heiße: Bello\n",
      "ich bin ein(e) Pferd und heiße: Blacky\n",
      "ich bin ein(e) Papagei und heiße: Pirat\n"
     ]
    }
   ],
   "source": [
    "#FUNKTION\n",
    "def vorstellen(das_tier,der_name):\n",
    "    print(f\"ich bin ein(e) {das_tier} und heiße: {der_name}\")\n",
    "    \n",
    "    \n",
    "#HAUPTPROGRAMM\n",
    "tiere=[\"Katze\",\"Hund\",\"Pferd\",\"Papagei\"] \n",
    "namen=[\"Mau\",\"Bello\",\"Blacky\",\"Pirat\"]\n",
    "print(dict(zip(tiere,namen))) #zip macht Tupel aus tiere und namen, die auto-entpackt werden\n",
    "\n",
    "for tier,name in zip(tiere,namen): \n",
    "    vorstellen(tier,name)"
   ]
  },
  {
   "cell_type": "markdown",
   "metadata": {},
   "source": [
    "Wir sehen hier unser erstes Beispiel einer selbstgeschriebenen Funktion. Das Schlüsselwort ist ```def```, dann folgt der Name der Funktion nach den üblichen Python Bezeichnerrichtlinien. Dann in Klammern die Werte, die der Funktion übergeben werden sollen (Parameter), und mit denen sie intern arbeiten kann. Es folgt der Doppelpunkt und dann nach dem Funktionskopf jetzt der Funktionskörper (natürlich eingerückt). Der Aufruf der Funktion erfolgt in Zeile 11 mit dem Namen und in Klammern den Werten, die der Funktion übergeben werden sollen (Argumente). Bei jedem Aufruf der Funktion in der Schleife werden also verschiedene Argumente übergeben, in dieser Reihenfolge werden sie dann in der Funktion in die Parameter eingesetzt und dann dort verarbeitet.<b>(Argumentenübergabe)</b> Nach Ende des Funktionskörpers, der hier nur eine Zeile umfasst, springt das Programm wieder zurück ins Hauptprogramm und macht mit der Schleife weiter. <br><img width=900 src=\"Images/Argumentübergabe.png\" /><br>Hier hat die Funktion 2 Parameter, deren Anzahl ist aber beliebig, sie kann in der Praxis von 0 bis zu einigen Dutzend Werten gehen.<br> Eine Funktion ohne Parameter braucht trotzdem das Klammerpaar im Kopf und muß auch mit einem Klammerpaar aufgerufen werden. <b>Nimmt man nur den Namen, wird dies als die Funktion selbst interpretiert, nicht aber als Aufruf der Funktion.</b> Nach dem Durchlauf der Funktion werden die Parameter gelöscht, mit denen die Funktion arbeitet. In unserem Tierbeispiel kann man also nicht mehr auf ```das_tier``` oder ```der_name``` zugreifen. Natürlich ändert sich nichts an den Werten des Hauptprogramms.<br> Oft wird zwischen ```Parametern``` und ```Argumenten``` nicht richtig unterschieden, Parameter sind aber die Werte der Funktion und Argumente die Werte die beim Aufruf der Funktion der Funktion übergeben werden. Man spricht daher auch von Argumentenübergabe. Parameter einer Fumktion können alle Objekte sein, sogar andere Funktionen.(s.u.) <br>Der Typ der Funktion ist ```function```."
   ]
  },
  {
   "cell_type": "code",
   "execution_count": null,
   "metadata": {},
   "outputs": [],
   "source": [
    "def Hallo():\n",
    "    print(\"Ich sage hallo\")\n",
    "\n",
    "Hallo()\n",
    "Hallo()\n",
    "print(Hallo) #Hallo ohne Klammern ist die Funktion selbst, kein Aufruf der Funktion\n",
    "print(type(Hallo))"
   ]
  },
  {
   "cell_type": "code",
   "execution_count": null,
   "metadata": {},
   "outputs": [],
   "source": [
    "def addiere(a,b):\n",
    "    return a+b\n",
    "#wegen besserer Lesbarkeit nach jeder Funktion mindestens 1 Zeile frei lassen im Code\n",
    "def subtrahiere(a,b):\n",
    "    return a-b\n",
    "\n",
    "def mache_was_mit_a_und_b(function,a,b): #Funktion als Parameter\n",
    "    print(f\"habe mit Funktion {function} gearbeitet: Ergebnis {function(a,b)}\")\n",
    "    \n",
    "mache_was_mit_a_und_b(addiere,4,5)\n",
    "mache_was_mit_a_und_b(subtrahiere,8,5)"
   ]
  },
  {
   "cell_type": "markdown",
   "metadata": {},
   "source": [
    "Wir haben hier ein neues Schlüsselwort ```return```. Wird in einer Funktion eine return-Anweisung erreicht (Funktionen können kein return oder beliebig viele returns enthalten, die z.B. über verschiedene Zweige einer if-Anweisung erreicht werden), wird der hinter dem return stehende Ausdruck an die Stelle, wo der Funktionsaufruf erfolgte übergeben. (s.o.) Deshalb kann man im oberen Beispiel das Ergebnis in \"mache_was_mit_a_und_b\" ausdrucken, in der print_Anweisung erfolgt der Aufruf von addieren oder subtrahieren und an dieser Stelle wird auch das Ergebnis des return zurückgegeben. <br>"
   ]
  },
  {
   "cell_type": "markdown",
   "metadata": {},
   "source": [
    "Funktionen sind in Python sogenannte \"first class objects\". Das heißt, daß sie als Argumente an andere Funktionen übergeben werden können (s.o.), daß sie in Variablen oder in komplexen Datenstrukturen gespeichert werden können, auch können sie von anderen Funktionen beim return zurückgegeben werden. "
   ]
  },
  {
   "cell_type": "code",
   "execution_count": null,
   "metadata": {},
   "outputs": [],
   "source": [
    "\n",
    "    \n",
    "def addiere(a,b):\n",
    "    return a+b\n",
    "#wegen besserer Lesbarkeit nach jeder Funktion mindestens 1 Zeile frei lassen im Code\n",
    "def subtrahiere(a,b):\n",
    "    return a-b\n",
    "\n",
    "def mache_was_mit_a_und_b(function,a,b): #Funktion als Parameter\n",
    "    print(f\"habe mit Funktion {function} gearbeitet: Ergebnis {function(a,b)}\\n\")\n",
    "    return function\n",
    "\n",
    "returnwert = mache_was_mit_a_und_b(addiere,4,5)\n",
    "print(f\"der Returnwert von mache_was_mit_a_und_b ist {returnwert}\\n\")\n",
    "returnwert = mache_was_mit_a_und_b(subtrahiere,8,5)\n",
    "print(f\"der Returnwert von mache_was_mit_a_und_b ist {returnwert}\\n\")\n",
    "\n",
    "print(100*\"-\")  \n",
    "\n",
    "funktionsliste = [addiere,subtrahiere] #Liste von Funktionen\n",
    "for funk in funktionsliste:\n",
    "    print(funk(5,3))\n",
    "\n",
    "    \n",
    "  "
   ]
  },
  {
   "cell_type": "markdown",
   "metadata": {},
   "source": [
    "#### Argumentenübergabe anders<br>\n",
    "Die Übergabe der Argumente kann auf verschiedene Weise erfolgen. Bisher haben wir positionale Parameter verwendet, d.h. die Argumente werden in der Reihenfolge, wie sie im Funktionsaufruf stehen, in die Parameter der Funktion übergeben. Bei fortgeschrittenen Programmen kann dies oft unbequem werden. Beispiel:\n",
    "\n",
    "class sklearn.neural_network.MLPRegressor(hidden_layer_sizes=(100,), activation='relu', *, solver='adam', alpha=0.0001, batch_size='auto', learning_rate='constant', learning_rate_init=0.001, power_t=0.5, max_iter=200, shuffle=True, random_state=None, tol=0.0001, verbose=False, warm_start=False, momentum=0.9, nesterovs_momentum=True, early_stopping=False, validation_fraction=0.1, beta_1=0.9, beta_2=0.999, epsilon=1e-08, n_iter_no_change=10, max_fun=15000)[source]\n",
    "\n",
    "<br> Es handelt sich hier um einen Funktionsaufruf aus dem Maschinellen Lernen. 23 Argumente werden übergeben. Stellen wir uns vor, nur eine positionale Übergabe wäre möglich. Wir müssten dann sehr aufpassen, ob an der 23. Stelle auch wirklich der Wert für den 23. Parameter steht!! <br>\n",
    "Es gibt daher die Möglichkeit Argumente mit einem Namen zu versehen und dann in der Form: Name=Wert zu übergeben. Die Argumente können dann im Funktionsaufruf in beliebiger Reihenfolge stehen. Dies nennt man <b>Schlüsselwortparameter</b>. (Unglücklicherweise, weil eigentlich haben ja die <b>Argumente</b> jeweils einen Namen, eben ihren Schlüssel). Im Funktionskopf muß jetzt der Name des Parameters mit dem Namen des Arguments übereinstimmen. (Was ja sonst nicht sein muß (siehe erstes Beispiel oben, aber trotzdem oft gemacht wird)."
   ]
  },
  {
   "cell_type": "code",
   "execution_count": null,
   "metadata": {},
   "outputs": [],
   "source": [
    "def Werte(zweiter,dritter,erster):\n",
    "    print(f\"Das ist Wert 1 :{erster}\")\n",
    "    print(f\"Das ist Wert 2 :{zweiter}\")\n",
    "    print(f\"Das ist Wert 3 :{dritter}\")\n",
    "\n",
    "Werte(zweiter=20,erster=10,dritter=30)"
   ]
  },
  {
   "cell_type": "markdown",
   "metadata": {},
   "source": [
    "Wir sehen hier, daß mit Schlüsselwortparametern völlig klar ist, welcher Wert übergeben wird, unabhängig von der Reihenfolge der Argumente. Außerdem erkennen wir die Namensgleichheit von Parametern und Argumenten, die obligat ist. Mischungen mit positionalen Argumenten sind möglich, diese müssen dann aber zuerst kommen."
   ]
  },
  {
   "cell_type": "code",
   "execution_count": null,
   "metadata": {},
   "outputs": [],
   "source": [
    "def Werte(pos1,pos2,zweiter,dritter,erster):\n",
    "    print(f\"Das ist Wert 1 :{erster}\")\n",
    "    print(f\"Das ist Wert 2 :{zweiter}\")\n",
    "    print(f\"Das ist Wert 3 :{dritter}\")\n",
    "    print(f\"Das ist pos1 :{pos1}\")\n",
    "    print(f\"Das ist pos2 :{pos2}\")\n",
    "\n",
    "Werte(50,70,zweiter=20,erster=10,dritter=30) #zuerst die positionalen Argumente"
   ]
  },
  {
   "cell_type": "markdown",
   "metadata": {},
   "source": [
    "Eine weitere Mögichkeit der Argumentenübergabe ist dann gegeben, wenn man für manche Parameter eventuell gar nichts übergeben will, sondern in diesem Fall dann dort Standardwerte automatisch einsetzen möchte. Wenn die Funktion ohne das Argument aufgerufen wird, wird dieser Standardwert dem Parameter zugewiesen. Dies macht einen Parameter optional. Mit anderen Worten: <b>Standardargumente sind Argumente, die beim Aufruf der Funktion nicht angegeben werden müssen.</b> In diesem Fall werden die Standardwerte verwendet. Hier haben wir das Problem, daß wir zwar ein Tier ohne Namen ausdrucken können und dann der Name auf \"Mau\" gesetzt wird. Aber wir müssen trotzdem für das Tier ein Argument übergeben oder die Funktion ganz ohne Argumente aufrufen. Das erste (und einzige) Argument geht nämlich immer in ```tier```. Richtig überzeugend ist daher die Kombination aus Standardargumentenparametern und Schlüsselwortparametern."
   ]
  },
  {
   "cell_type": "code",
   "execution_count": null,
   "metadata": {},
   "outputs": [],
   "source": [
    "def kann_sein_muss_aber_nicht(tier=\"Katze\",name=\"Mau\"):\n",
    "    print(tier,\" mit Namen\", name)\n",
    "    \n",
    "#Mögliche Aufrufe:\n",
    "kann_sein_muss_aber_nicht(\"Hund\",\"Bello\") #alle Argumente sind da, positional\n",
    "kann_sein_muss_aber_nicht(\"Hund\") #erstes Argument ist \"Hund\", zweites Argument Standard\n",
    "kann_sein_muss_aber_nicht() #beide Argumente Standard\n",
    "kann_sein_muss_aber_nicht(\"Mau\") #\"Mau\" wird als erstes Argument übergeben, zweites Standard!!\n",
    "\n"
   ]
  },
  {
   "cell_type": "code",
   "execution_count": null,
   "metadata": {},
   "outputs": [],
   "source": [
    "def kann_sein_muss_aber_nicht(tier=\"Katze\",name=\"Mau\"):\n",
    "    print(tier,\" mit Namen\", name)\n",
    "    \n",
    "#Mögliche Aufrufe:\n",
    "\n",
    "kann_sein_muss_aber_nicht(name=\"Mau\") #tier fehlt, das einzige Argument ist der name, \n",
    "                                    #er wird als Schlüsselwortargument richtig übergeben\n",
    "                                    #tier wird auf Standard gesetzt\n"
   ]
  },
  {
   "cell_type": "markdown",
   "metadata": {},
   "source": [
    "Es gibt noch ein sehr spezielles Problem mit mutablen kombinierten Datentypen als Standardargumenten. <b>Standardwerte werden genau einmal erstellt, wenn die Funktion definiert ist, d. H. Zur Kompilierungszeit.</b> Dies kann, wenn man mutable kombinierte Datentypen (z.B. Listen,Dicts) übergibt, Probleme machen, wenn man sie zu Standardargumenten macht und in der Funktion verändert! Man kann über ```funktionsname.__defaults__``` sich die Standardargumente einer Funktion ausgeben lassen."
   ]
  },
  {
   "cell_type": "code",
   "execution_count": null,
   "metadata": {},
   "outputs": [],
   "source": [
    "def ein_problem(my_list=[1,2]):\n",
    "    my_list.append(3)\n",
    "    return my_list\n",
    "print(ein_problem.__defaults__)\n",
    "print(ein_problem())\n",
    "print(100*\"-\")\n",
    "print(ein_problem.__defaults__)\n",
    "print(ein_problem())\n",
    "print(100*\"-\")\n",
    "print(ein_problem.__defaults__)\n",
    "print(ein_problem())\n",
    "print(100*\"-\")\n",
    "print(ein_problem.__defaults__)\n"
   ]
  },
  {
   "cell_type": "markdown",
   "metadata": {},
   "source": [
    "Warum wird die Liste hier länger, wir rufen doch ein_problem ohne Argumente auf, also müsste my_list doch immer wieder auf [1,2] gesetzt werden? Da Standardargumente nur einmal vor dem Programmlauf gesetzt werden, hat man die Standardargumente dann auf my_list als Referenz stehen und deren Wert ([1,2]). Dieser Wert ändert sie sich aber durch die append-Funktion bei weiteren Aufrufen der Funktion für my_list. Die am Anfang festgelegte Refrenz für die Standardargumente bleibt aber bestehen und referenziert jetzt den neuen Wert von my_list. Daher wächst die Liste."
   ]
  },
  {
   "cell_type": "markdown",
   "metadata": {},
   "source": [
    "Ein zugegeben sehr spezielles Problem, vielleicht sollte man <b>einfach mutable Datentypen nicht als Standardargumente nehmen, insbesondere wenn diese Daten in der Funktion verändert werden.</b> "
   ]
  },
  {
   "cell_type": "markdown",
   "metadata": {},
   "source": [
    "#### unbestimmte Menge an Argumenten\n",
    "Manchmal wissen wir nicht von vornherein, wieviele Argumente eine Funktion übergeben bekommen soll. Schreiben wir z.B. die Funktion ```durchschnitt``` zum Berechnen des Durchschnittswertes, wäre es schön, wenn man beliebig viele Werte eingeben könnte, aus denen der Durchschnitt bestimmt würde. Dies geht mit der ```*,** Konstruktion```. Mit ```*Bezeichner``` übergibt man beliebig viele positionale Argumente, danach (falls gewünscht) mit ```**Bezeichner1``` beliebig viele Schlüsselwortparameter.<br> Oft sieht man ```*args und **kwargs``` mit diesen Bezeichnern: args für Argumente und kwargs(keywordarguments) für Schlüsselwortargumente. (Hier merkwürdigerweise Schlüsselwortargument, was ja viel logischer ist und nicht Schlüsselwortparameter!)\n"
   ]
  },
  {
   "cell_type": "code",
   "execution_count": null,
   "metadata": {},
   "outputs": [],
   "source": [
    "def durchschnitt(*argumente,**schlüsselargs):\n",
    "    print(f\"argumente kommt als tupel: {argumente}\")\n",
    "    result=0\n",
    "    counter=0\n",
    "    for arg in argumente:\n",
    "        print(arg)\n",
    "        result+=arg\n",
    "        counter+=1\n",
    "    print(f\"argumente kommt als dict: {schlüsselargs}\")\n",
    "    for name,wert in schlüsselargs.items():\n",
    "        print(name,wert)\n",
    "        result+=wert\n",
    "        counter+=1\n",
    "    return   result/counter \n",
    "\n",
    "print(f\"Ergebnis {durchschnitt(1,2,3,4,5)}\")\n",
    "print(100*\"-\")\n",
    "print(f\"Ergebnis {durchschnitt(4,6,erstes=1,zweites=5)}\") #positional vor Schlüsselwort"
   ]
  },
  {
   "cell_type": "markdown",
   "metadata": {},
   "source": [
    "Wie kann man aus Funktionen mehrere Werte zurückgeben? Neben der Möglichkeit, sie einfach in der return-Anweisung kommasepariert hintereinander aufzureihen, indem man sie in einen kombinierten Datentyp ablegt und diesen zurückgibt."
   ]
  },
  {
   "cell_type": "code",
   "execution_count": null,
   "metadata": {},
   "outputs": [],
   "source": [
    "def mehreres(pos1,pos2):\n",
    "    return pos1,pos2,pos1\n",
    "\n",
    "print(mehreres(1,2))\n",
    "   \n",
    "def mehreres(pos1,*args,**kwargs):\n",
    "    res=[]\n",
    "    for arg in args:\n",
    "        res.append(arg)\n",
    "    for name,wert in kwargs.items():\n",
    "        res.append(wert)\n",
    "    return pos1,res\n",
    "\n",
    "print(mehreres(1,2,4,5,bla=8,foo=10)) #Reihenfolge beachten! pos vor args vor kwargs"
   ]
  },
  {
   "cell_type": "markdown",
   "metadata": {},
   "source": [
    "Als letztes in diesem Kapitel besprechen wir noch einen wichtigen Bestandteil von Funktionen, der vor allem in der Zusammenarbeit mit anderen Programmieren (aber auch für sich selbst nach längerer Zeit!) wichtig ist. Funktionen sollten als Dokumentation am Anfang immer einen Docstring haben. Dieser steht unmittelbar unter dem Kopf der Funktion und sollte mit \"\"\" eingeleitet und beendet werden, damit automatisch der Zeilenumbruch beibehalten wird. Er sollte eine Beschreibung enthalten von dem, was die Funktion tut, sollte enthalten, welche Eingangsparameter sie erwartet und von welchem Typ. Außerdem sollte er enthalten, was das oder die Resultat(e) sind. ```help(funktionsname)``` gibt dann diesen Docstring aus. Beispiel:"
   ]
  },
  {
   "cell_type": "code",
   "execution_count": null,
   "metadata": {},
   "outputs": [],
   "source": [
    "def durchschnitt(*args):\n",
    "    \"\"\"Funktion zur berechnung des Durchschnitts, erwartet beliebig viele\n",
    "    integer oder float als positionale Argumente\n",
    "    gibt den Durchschitt als float aus\"\"\"\n",
    "    \n",
    "    result=0\n",
    "    counter=0\n",
    "    for arg in args:        \n",
    "        result+=arg\n",
    "        counter+=1\n",
    "    return   result/counter \n",
    "\n",
    "print(f\"Ergebnis {durchschnitt(1,2,3,4,5)}\")\n",
    "help(durchschnitt)"
   ]
  },
  {
   "cell_type": "markdown",
   "metadata": {},
   "source": [
    "Bei manchen Funktionen ist es aber im Gegenteil so, daß von einem kombinierten Datentyp alle Elemente in Parameter einer Funktion übergeben werden sollen (dann muß die Zahl der Elemente natürlich übereinstimmen). In diesem Fall kann man mit der schon bekannten ```*kombinierter Datentyp``` Operation den kobinierten Datentyp entpacken und die Einzelelemente übergeben. Man müsste sonst l[0], l[1] ,l[2] und l[4] einzeln übergeben, was schnell unbequem werden kann. Natürlich könnte man aber auch die komplette Liste als Argument übergeben und dann in der Funktion zerlegen."
   ]
  },
  {
   "cell_type": "code",
   "execution_count": null,
   "metadata": {},
   "outputs": [],
   "source": [
    "def die_ersten_4(x1,x2,x3,x4):\n",
    "    print(x1,x2,x3,x4)\n",
    "    \n",
    "        \n",
    "l = [1,2,3,4]\n",
    "die_ersten_4(*l)"
   ]
  },
  {
   "cell_type": "markdown",
   "metadata": {},
   "source": [
    "Im nächsten Kapitel gehen wir auf weitere wichtige Charakteristika von Funktionen ein, zunächst aber einige Aufgaben."
   ]
  },
  {
   "cell_type": "markdown",
   "metadata": {},
   "source": [
    "### Aufgabe1:<br><br>\n",
    "Schreiben Sie eine Funktion \"kodieren\", die einen Text aufnimmt und verschlüsselt.  Jeder Buchstabe im Text wird durch einen Buchstaben ersetzt, der sich eine feste Anzahl von Stellen weiter im Alphabet befindet. Dies ist eine der einfachsten und am häufigsten bekannten Verschlüsselungstechniken und heiß Cäsar-Code, weil angeblich damals schon dieses System verwendet wurde. Im Text sollen nur Groß-Buchstaben und Leerzeichen sowie Kommata und Punkte vorkommen. Diese Zeichen werden nicht verschlÜsselt. Setzen Sie den Versatz auf 12. Die Funktion soll als zweiten Paramtere den Versatz haben. Nehmen Sie als Alphabet \"ABCDEFGHIJKLMNOPQRSTUVWXYZ\". Der Text ist: \"HAPPY VERSCHLUESSELN. CAESAR HILFT.\"\n",
    "Hinweis: Was macht man, wenn der Buchstabe z.B. an Stelle 42 steht? \n",
    "Entschlüsseln sie dann den codierten Text zurück mit der Funktion dekodieren.\n",
    "\n"
   ]
  },
  {
   "cell_type": "code",
   "execution_count": null,
   "metadata": {},
   "outputs": [],
   "source": [
    "\n",
    "\n",
    "\n",
    "\n",
    "\n",
    "\n",
    "\n",
    "\n",
    "#LÖSUNG\n",
    "def kodieren(text,versatz):\n",
    "    alpha=\"ABCDEFGHIJKLMNOPQRSTUVWXYZ\"\n",
    "    #oder alpha1=alpha*2\n",
    "    \n",
    "    resultat =\"\"\n",
    "    #oder resultat1=\"\"\n",
    "    for element in text:\n",
    "        if element not in alpha:\n",
    "            resultat+=element\n",
    "            #oder resultat1+=element\n",
    "        else:\n",
    "            #oder resultat1+=alpha1[alpha1.index(element)+versatz]\n",
    "            resultat+=alpha[(alpha.index(element)+versatz)%26]\n",
    "    return resultat#,resultat1\n",
    "    \n",
    "text=\"HAPPY VERSCHLUESSELN. CAESAR HILFT.\"\n",
    "print(kodieren(text,12))\n",
    "\n",
    "def dekodieren(text,versatz):\n",
    "    return kodieren(text,-versatz)\n",
    "print(dekodieren(\"TMBBK HQDEOTXGQEEQXZ. OMQEMD TUXRF.\",12))"
   ]
  },
  {
   "cell_type": "markdown",
   "metadata": {},
   "source": [
    "### Aufgabe 2<br>\n",
    "Schreibe das Programm für die Differenz zweier Listen aus dem letzten Kapitel (Sets) in eine Funktion show_diff() um. (set-Funktionen erlaubt!) Mache einen Docstring.\n",
    "Erlaube die Funktion auf mehrere Listen zu erweitern. Die erste Liste ist die Ausgangsliste, die folgenden Listen sollen alle in die Differenz eingehen. Ausgegeben werden soll also, was von Set A bleibt, wenn man alle Elemente von B... davon abzieht."
   ]
  },
  {
   "cell_type": "code",
   "execution_count": null,
   "metadata": {},
   "outputs": [],
   "source": [
    "\n",
    "\n",
    "\n",
    "\n",
    "\n",
    "\n",
    "\n",
    "\n",
    "\n",
    "#LÖSUNG1\n",
    "def show_diff(A,B):\n",
    "    \"\"\"gibt die Differenzmenge als Liste zweier in Sets verwandelter Listen aus\"\"\"\n",
    "    A,B=set(A),set(B)\n",
    "    return list(A-B)\n",
    "              \n",
    "              \n",
    "A=[2,4,5,4,3,6,1,3,6,4] \n",
    "B= [4,7,7,9,7,83,3]\n",
    "print(show_diff(A,B))\n",
    "\n",
    "#LÖSUNG2\n",
    "def show_diff_viele(A,*andere):\n",
    "    A=set(A)\n",
    "    for arg in andere:\n",
    "        arg=set(arg)\n",
    "        A.difference_update(arg)\n",
    "    \n",
    "    return list(A)\n",
    "A= [2,4,5,4,3,6,1,3,6,4] \n",
    "B= [4,7,7,9,7,83,3]\n",
    "C= [2,1,2]\n",
    "print(show_diff_viele(A,B,C))\n"
   ]
  }
 ],
 "metadata": {
  "kernelspec": {
   "display_name": "Python 3 (ipykernel)",
   "language": "python",
   "name": "python3"
  },
  "language_info": {
   "codemirror_mode": {
    "name": "ipython",
    "version": 3
   },
   "file_extension": ".py",
   "mimetype": "text/x-python",
   "name": "python",
   "nbconvert_exporter": "python",
   "pygments_lexer": "ipython3",
   "version": "3.9.12"
  }
 },
 "nbformat": 4,
 "nbformat_minor": 4
}
