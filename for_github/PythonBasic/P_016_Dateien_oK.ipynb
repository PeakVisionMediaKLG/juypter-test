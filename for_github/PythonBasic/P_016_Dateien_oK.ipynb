{
 "cells": [
  {
   "cell_type": "markdown",
   "metadata": {},
   "source": [
    "# Daten aus Dateien lesen und in Dateien schreiben<br><img width=800 src=\"Images/Files.png\" />"
   ]
  },
  {
   "cell_type": "markdown",
   "metadata": {},
   "source": [
    "In vielen Programmen kommt irgendwann der Punkt, wo wir entweder Daten aus einer Datei einlesen wollen, um sie zu bearbeiten, oder selber Daten abspeichern wollen, um nach Ablauf des momentanen Programms bei einem erneuten Programmablauf darauf zugreifen zu können. Wir wollen unsere Daten persistent machen. In diesem Kapitel wollen wir uns mit dem Umgang mit Textdateien beschäftigen, aber auch mit dem ```pickle```-Modul, welches Speichern und Einlesen von fast allen Objekttypen erlaubt."
   ]
  },
  {
   "cell_type": "markdown",
   "metadata": {},
   "source": [
    "<b>Zunächst zu Textdateien:</b><br>\n",
    "Wir wollen zunächst den Einlesevorgang zeigen. Zunächst benötigt Python einen Zugang zu der zu bearbeitenden Datei. Dies geschieht über die ```open(Dateinamen,Zugriffsart)``` Funktion. Sie hat 2 Parameter, zum einen den Dateinamen der Zieldatei, zum anderen die Art des Zugriffs (z.B. Lesen, Schreiben, Anfügen.) <b>Beim Lesen verwenden wir das Kennzeichen \"r\" für \"read\", geschrieben wird mit \"w\" für \"write\". Wollen wir an eine Datei etwas anfügen, die bereits existiert, benötigen wir \"a\" für \"append\". Mit \"w\" wird die Datei nämlich komplett neu angelegt und bereits vorhandene Dateien mit diesem Namen damit gelöscht!</b><br>Mit der \"open\"-Funktion erzeugen wir dann einen Dateizugriff, einen \"Dateihandler\", dessen Bezeichner den üblichen Richtlinien folgt. Häufig wird dafür der Name \"fobj\" für \"Fileobjekt\" genommen. Wenn sich die Datei in dem Directory befindet, in dem auch das Programm abgespeichert ist, können wir als Dateinamen einfach den Filenamen einsetzen (muß eine Textdatei sein, \".txt\" oder \".doc\"...). Sonst müssen wir den Pfad zu der Datei angeben wie z.B. \"C:/Users/Name/Datei.txt\". Wir haben hier unsere Dateien im Directory \"Data\" abgelegt. Benutzen wir jetzt die Datei \"Python_Philosophie.doc\" zum Lesen. Sie enthält wichtige Ideen zur Philosophie von Python. Wir benutzen hier als Bezeichner des Filehandlers \"to_read\" um zu zeigen, daß \"fobj\" nur eine Vereinbarung ist. Wir lesen dann mit der Schleife Zeile für Zeile die Datei aus und drucken das Ergebnis."
   ]
  },
  {
   "cell_type": "code",
   "execution_count": null,
   "metadata": {},
   "outputs": [],
   "source": [
    "to_read=open(\"Data/Python_Philosophie.doc\",\"r\")\n",
    "for line in to_read:\n",
    "    print(line)\n"
   ]
  },
  {
   "cell_type": "markdown",
   "metadata": {},
   "source": [
    "Das ist schon mal gut, aber sehen wir uns das Ergebnis an und vergleichen mit der Datei in Data (File->Open->Data->Python_Philosophie.doc), stellen wir fest, daß beim Lesen immer eine Leerzeile eingefügt wurde. Dies liegt daran, daß in der Originaldatei in jeder Zeile am Ende der Befehl für eine neue Zeile steht \"\\n\", der aber nicht sichtbar ist. Diesen müssen wir nicht miteinlesen, da ja unsere Schleife mit dem print() automatisch neue Zeilen nach jedem Lesen erstellt. Wir machen das mit der rstrip()-Funktion, die alle Leerzeichen und andere besondere Zeichen am Ende eines Strings abschneidet."
   ]
  },
  {
   "cell_type": "code",
   "execution_count": null,
   "metadata": {},
   "outputs": [],
   "source": [
    "to_read=open(\"Data/Python_Philosophie.doc\",\"r\")\n",
    "for line in to_read:\n",
    "    print(line.rstrip())\n",
    "to_read.close()"
   ]
  },
  {
   "cell_type": "markdown",
   "metadata": {},
   "source": [
    "Wichtig ist nicht zu vergessen, nach dem Lese- oder Schreibvorgang den Filehandler mit ```close()``` zu schliessen. Vergessen wir dies und haben viele Dateioperationen, kann es zu einer großen unnötigen Belastung unseres Computers kommen, weil alle Filehandler offen gehalten werden, mit entsprechender Verlangsamung und unnötigen Speicherverbrauch."
   ]
  },
  {
   "cell_type": "markdown",
   "metadata": {},
   "source": [
    "Schreiben wir jetzt etwas in eine Datei. Wir Lesen unsere Datei wieder ein und bauen aus den Zeilen eine Liste auf. Dann geben wir jeder Zeile eine fortlaufende Nummer und Speichern das Ergebnis in \"Python_test.txt\" ab. Lesen wir das dann wieder ein, um zu kontrollieren, ob alles funktioniert hat. Zum Schreiben benötigen wir die ```write()``` Funktion."
   ]
  },
  {
   "cell_type": "code",
   "execution_count": null,
   "metadata": {},
   "outputs": [],
   "source": [
    "fobj=open(\"Data/Python_Philosophie.doc\",\"r\")\n",
    "lines,counter=[],0\n",
    "for line in fobj:\n",
    "    lines.append(str(counter)+\" \"+line)\n",
    "    counter+=1\n",
    "print(lines) \n",
    "fobj.close()\n",
    "print(100*\"=\")\n",
    "\n",
    "to_write=open(\"Data/Python_test.txt\",\"w\")\n",
    "for line in lines:\n",
    "    to_write.write(line)\n",
    "to_write.close()\n",
    "\n",
    "\n",
    "to_read=open(\"Data/Python_test.txt\",\"r\")\n",
    "for line in to_read:\n",
    "    print(line.rstrip())\n",
    "to_read.close()"
   ]
  },
  {
   "cell_type": "markdown",
   "metadata": {},
   "source": [
    "Es hat also funktioniert. Geben wir noch eine Weisheit hinzu und speichern dies ab. Wir benutzen \"a\", nehmen wir \"w\", findet sich in der Datei nur unser Spruch!!"
   ]
  },
  {
   "cell_type": "code",
   "execution_count": null,
   "metadata": {},
   "outputs": [],
   "source": [
    "fobj=open(\"Data/Python_Philosophie.doc\",\"r\")\n",
    "lines,counter=[],0\n",
    "for line in fobj:\n",
    "    lines.append(str(counter)+\" \"+line)\n",
    "    counter+=1\n",
    "\n",
    "print(lines) \n",
    "fobj.close()\n",
    "print(100*\"=\")\n",
    "\n",
    "\n",
    "to_write=open(\"Data/Python_test.txt\",\"a\")    \n",
    "to_write.write(\"\\nUnsere Weisheit: Es schadet nicht, etwas zu wissen!\")\n",
    "to_write.close()\n",
    "\n",
    "\n",
    "to_read=open(\"Data/Python_test.txt\",\"r\")\n",
    "for line in to_read:\n",
    "    print(line.rstrip())\n",
    "to_read.close()"
   ]
  },
  {
   "cell_type": "markdown",
   "metadata": {},
   "source": [
    "Um die Filehandler immer sicher zu schliessen, hat sich die Konstruktion mit ```with``` bewährt, die man sehr häufig sieht, damit wird der Filehandler automatisch geschlossen. \"with\" definiert einen Block (deshalb der :), ein Alias wird mit ```as``` definiert und dann im weiteren für den Filehandler verwendet. (Hier \"fobj\"). Nach Ende des Blocks wird der Filehandler automatisch geschlossen."
   ]
  },
  {
   "cell_type": "code",
   "execution_count": null,
   "metadata": {},
   "outputs": [],
   "source": [
    "with open(\"Data/Python_Philosophie.doc\",\"r\") as fobj:\n",
    "    for line in fobj:\n",
    "        print(line.rstrip())\n",
    "print(\"\\n\\nWeiter im Programm\")"
   ]
  },
  {
   "cell_type": "markdown",
   "metadata": {},
   "source": [
    "Manchmal wollen wir den Inhalt einer Textdatei komplett lesen, ohne sie vorher in Zeilen zu zerlegen. Hierfür gibt es die ```read()```-Funktion. Diese erzeugt aus der Datei einen einzelnen String, den wir mit allen String-Funktionen bearbeiten können, z.B. auch daraus Ausschneiden können, mit dem Teilbereichsoperator [start:ende:schrittweite]."
   ]
  },
  {
   "cell_type": "code",
   "execution_count": null,
   "metadata": {},
   "outputs": [],
   "source": [
    "with open(\"Data/Python_Philosophie.doc\",\"r\") as fobj:\n",
    "    the_string = fobj.read()\n",
    "    \n",
    "print(the_string)\n",
    "print(100*\"=\")\n",
    "print(the_string[70:100])\n",
    "print(100*\"=\")\n",
    "print(the_string[70:100:2])"
   ]
  },
  {
   "cell_type": "markdown",
   "metadata": {},
   "source": [
    "Mit ```readlines()``` können wir die Datei zeilenweise in eine Liste schreiben."
   ]
  },
  {
   "cell_type": "code",
   "execution_count": null,
   "metadata": {},
   "outputs": [],
   "source": [
    "with open(\"Data/Python_Philosophie.doc\",\"r\") as fobj:\n",
    "    the_list = fobj.readlines()\n",
    "    \n",
    "print(the_list)\n",
    "print(100*\"=\")\n",
    "print(the_list[3])\n",
    "print(100*\"=\")\n",
    "print(the_list[4][10:20])"
   ]
  },
  {
   "cell_type": "markdown",
   "metadata": {},
   "source": [
    "So können wir auch eine Liste komplett zeilenweise in eine Textdatei schreiben mit ```writelines()```. Hier muß man allerdings den Zeilenumbruch in den Listenelementen selbst einsetzen und dann mit rstrip() beim Lesen wieder entfernen. Etwas merkwürdig!"
   ]
  },
  {
   "cell_type": "code",
   "execution_count": null,
   "metadata": {},
   "outputs": [],
   "source": [
    "with open(\"Data/demo.txt\",\"w\") as f:\n",
    "    f.writelines([\"Erste Zeilen\\n\", \"Zweite Zeile\"])\n",
    "    \n",
    "with open(\"Data/demo.txt\",\"r\") as f:\n",
    "    for line in f:\n",
    "        print(line.rstrip())\n",
    "\n",
    "\n"
   ]
  },
  {
   "cell_type": "markdown",
   "metadata": {},
   "source": [
    "Nachdem wir hier mit Textdateien gearbeitet haben, jetzt zum pickle-Modul. Dies kann fast alle Objekte abspeichern und wieder einlesen.<br>\n",
    "Es stellt sich die Frage, welche Art von Daten man eigentlich pickeln kann? Im Prinzip alles, was man sich vorstellen kann:\n",
    "\n",
    "- Python-Basistypen, wie Booleans, Integers, Floats, Komplexe Zahlen\n",
    "- Kombinierte Typen: Strings,Listen,Tupels, Mengen und Dictionaries\n",
    "- Außerdem können auch Funktionen, Klassen und Instanzen unter gewissen Bedingungen gepickelt werden.<br>\n",
    "File-Objekte lassen sich nicht pickeln."
   ]
  },
  {
   "cell_type": "markdown",
   "metadata": {},
   "source": [
    "Ein Beispiel, indem wir ein Dictionary und einen String pickeln. Nach import von pickle verwenden wir load() und dump() zum Lesen und Schreiben. Das Modul erkennt automatisch, um welchen Typ eines Objekts es sich handelt, es wird dann beim Lesen automatisch wieder passend hergestellt, obwohl beim Speichern die Objekte serialisiert sind und somit nicht direkt aus der Datei lesbar. Schauen wir uns gleich die Datei direkt an (File->Open->Data->pickle_beispiel) Sie ist nicht lesbar. Die Schreib- und Lesebezeichner sind anders: \n",
    "- Schreiben->\"bw\"\n",
    "- Lesen->\"rb\"<br>\n",
    "Auch die Funktionen zum Lesen und Schreiben lauten anders, wie oben gezeigt. Wir schreiben unsere zu pickelden Objekte als Tupel in die \"dump\" Funktion. Mit \"load\" holen wir sie dann zurück. Die Daten und der jeweilige Typ stimmen."
   ]
  },
  {
   "cell_type": "code",
   "execution_count": null,
   "metadata": {},
   "outputs": [],
   "source": [
    "import pickle\n",
    "my_dict = {'eins':1,'zwei':2,'dreieinhalb':3.5}\n",
    "my_string = \"Sehr praktisch Pickle!\"\n",
    "with open(\"Data/pickle_beispiel.pkl\",\"bw\") as fobj:\n",
    "    \n",
    "    \n",
    "    pickle.dump((my_string,my_dict),fobj)\n",
    "   \n"
   ]
  },
  {
   "cell_type": "code",
   "execution_count": null,
   "metadata": {},
   "outputs": [],
   "source": [
    "with open(\"Data/pickle_beispiel.pkl\",\"rb\") as fobj: \n",
    "    (my_string,my_dict) = pickle.load(fobj)\n",
    "    \n",
    "    \n",
    "    print(my_string,type(my_string))\n",
    "    print(my_dict,type(my_dict))"
   ]
  },
  {
   "cell_type": "markdown",
   "metadata": {},
   "source": [
    "## Aufgabe <br>\n",
    "Schreiben Sie ein Programm, was aus dem File \"test_txt.txt\" alle Wörter nach Häufigkeit bestimmt und in ein Dict mit Key:das entsprechende Wort und Value:Häufigkeit des Vorkommens einträgt. Hinweis verwandeln sie alle Wörter in Kleinschreibung. Sonderzeichen oder Satzzeichen sollen nicht erfasst werden. Auch ersetzen Sie bitte gleich nach dem Einlesen  ```(``` und ```)``` sowie ```\"``` durch ```\" \"```."
   ]
  },
  {
   "cell_type": "code",
   "execution_count": null,
   "metadata": {},
   "outputs": [],
   "source": [
    "\n",
    "\n",
    "\n",
    "\n",
    "\n",
    "\n",
    "\n",
    "\n",
    "##LÖSUNG\n",
    "with open (\"Data/test_txt.txt\",\"r\") as f:\n",
    "    text = f.read()\n",
    "#print(text)\n",
    "text=text.replace(\"(\",\" \")\n",
    "text=text.replace(\")\",\" \")\n",
    "text=text.replace(\"\\\"\",\" \")\n",
    "\n",
    "\n",
    "text_list = text.split()\n",
    "#print(text_list)\n",
    "res_dict={}\n",
    "for word in text_list:\n",
    "    word = word.lower()\n",
    "    for buchstabe in word[:]:\n",
    "        \n",
    "        if buchstabe not in \"abcdefghijklmnopqrstuvwxyz-\":            \n",
    "            word=word.replace(buchstabe,\"\")\n",
    "   \n",
    "    res_dict[word] = res_dict.get(word,0) + 1 \n",
    "print(res_dict)\n",
    "     \n",
    "        \n"
   ]
  },
  {
   "cell_type": "markdown",
   "metadata": {},
   "source": [
    "Wir sortieren noch das Dict nach Werten. Was wir hier genau tun, lernen wir im Kapitel \"Abstraktionen und und Generatoren\"."
   ]
  },
  {
   "cell_type": "code",
   "execution_count": null,
   "metadata": {},
   "outputs": [],
   "source": [
    "def sort_fun(x):\n",
    "    return x[1]\n",
    "res_dict = {k: v for k, v in sorted(res_dict.items(),key =sort_fun,reverse = True)}\n",
    "print(res_dict)"
   ]
  },
  {
   "cell_type": "markdown",
   "metadata": {},
   "source": [
    "Worum geht es wohl im Text? Im nächsten Kapitel beschäftigen wir uns mit der Behandlung von Fehlern in Python."
   ]
  }
 ],
 "metadata": {
  "kernelspec": {
   "display_name": "Python 3",
   "language": "python",
   "name": "python3"
  },
  "language_info": {
   "codemirror_mode": {
    "name": "ipython",
    "version": 3
   },
   "file_extension": ".py",
   "mimetype": "text/x-python",
   "name": "python",
   "nbconvert_exporter": "python",
   "pygments_lexer": "ipython3",
   "version": "3.8.5"
  }
 },
 "nbformat": 4,
 "nbformat_minor": 4
}
