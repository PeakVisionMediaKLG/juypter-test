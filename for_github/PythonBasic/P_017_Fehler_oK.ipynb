{
 "cells": [
  {
   "cell_type": "markdown",
   "metadata": {},
   "source": [
    "# Fehler, was nun? \n",
    "## Ausnahme Behandlung\n",
    "<img width = 700 src=\"Images/Error.png\" />"
   ]
  },
  {
   "cell_type": "markdown",
   "metadata": {},
   "source": [
    "Python verfügt über eine ausgezeichnete Fehlerbehandlung. Die Fehler, die als \"Exceptions\" ausgegeben werden, sind meist gut beschrieben, und mit jeder neuen Version werden die Beschreibungen besser. Zwei der Mantras (kann man mit \"import this\" Python Zens anschauen) von Python sind:<br>\n",
    "- Errors should never pass silently.\n",
    "- Unless explicitly silenced.\n",
    "Während das Erste meist in der Sprache selbst verankert ist (bis auf Ausnahmen, die wir gleich besprechen) wollen wir das Zweite jetzt lernen, die Fehlerbehandlung.<br><br> Eine Möglichkeit, die uns hilft, Dinge, die schief laufen, besser zu erkennen, ist die ```assert``` Anweisung. Diese Anweisung besteht aus 2 Teilen, einem obligaten Test, der True oder False ergeben muß und einer Message, die ausgegeben wird, wenn der Test False ergibt, die aber nicht zwingend angegeben werden muß und dann fehlen kann. Die Ausführung des Programms wird, wenn der Test False ergibt mit der Message (falls vorhanden) beendet. Im True-Fall passiert nichts. Wir haben damit quasi eine \"custom made\" Fehleranzeige. Ein Beispiel:"
   ]
  },
  {
   "cell_type": "code",
   "execution_count": null,
   "metadata": {},
   "outputs": [],
   "source": [
    "#%%python -Oc \"assert False\" #schaltet alle asserts ab\n",
    "\n",
    "i = 3\n",
    "assert type(i)==int,\"Falscher Typ\"\n",
    "print(\"Nichts passiert, da i integer ist\") #assert selbst macht hier gar nichts\n",
    "assert type(i)==float,\"i ist nicht float\""
   ]
  },
  {
   "cell_type": "markdown",
   "metadata": {},
   "source": [
    "Warum nehmen wir nicht einfach eine if-Anweisung für einen solchen Zweck? Mit import sys und sys.exit können wir ein Programm jederzeit abbrechen. "
   ]
  },
  {
   "cell_type": "code",
   "execution_count": null,
   "metadata": {},
   "outputs": [],
   "source": [
    "import sys\n",
    "i = 4.0\n",
    "if type(i) != int:\n",
    "    print(\"i ist nicht integer!\")\n",
    "    sys.exit\n",
    "print(\"Weiter\")"
   ]
  },
  {
   "cell_type": "markdown",
   "metadata": {},
   "source": [
    "Die assert-Anweisung ist aber im Gegensatz zu der Konstruktion mit einem \"if\" nach der abgeschlossenen Entwicklung des Programms einfach abschaltbar, ohne den Code zu verändern. Dies wäre mit dem \"if\" völlig anders. Der Befehl dazu ist in der obigen Zelle mit dem assert- Beispiel auskommentiert, lässt man ihn laufen, sind alle asserts abgeschaltet (ähnliche Interpreter-Direktiven gibt es auch in anderen Python-Distributionen). Sollte man sie bei unvermuteten Fehlern wieder brauchen, kann man sie natürlich wieder aktivieren, indem man die obige Anweisung nicht ausführt.<br><br>\n",
    "\n",
    "Die assert-Anweisung wird gebraucht, um während der Entwicklungszeit des Programms Fehler abzufangen, die die eingebauten Fehlermechanismen von Python nicht entdecken würden. Wenn man also an einem Punkt des Programms eine bestimmte Situation voraussetzen will und prüfen will, ob alles so ist, wie erwartet, kann man ein \"assert\" verwenden. In der Funktion, die hier als Beispiel steht, erwarte ich als Parameter einen String. Die Funktion soll einen String vervielfacht zurückgeben. Wird eine Zahl als erstes Argument übergeben, macht sie etwas völlig anderes, nämlich eine Multiplikation, aber keinen von Python erkennbaren Fehler. "
   ]
  },
  {
   "cell_type": "code",
   "execution_count": null,
   "metadata": {},
   "outputs": [],
   "source": [
    "def vervielfache_string(arg1,wie_oft):\n",
    "    return arg1*wie_oft\n",
    "\n",
    "print(vervielfache_string(\"Hallo\",4))\n",
    "print(vervielfache_string(3,5))\n"
   ]
  },
  {
   "cell_type": "markdown",
   "metadata": {},
   "source": [
    "Hier hilft uns ein \"assert\" weiter."
   ]
  },
  {
   "cell_type": "code",
   "execution_count": null,
   "metadata": {},
   "outputs": [],
   "source": [
    "def vervielfache_string(arg1,wie_oft):\n",
    "    assert isinstance(arg1,str),\"Kein String!!\"\n",
    "    return arg1*wie_oft\n",
    "\n",
    "print(vervielfache_string(\"Hallo\",4))\n",
    "print(vervielfache_string(3,5))"
   ]
  },
  {
   "cell_type": "markdown",
   "metadata": {},
   "source": [
    "Was passiert hier?"
   ]
  },
  {
   "cell_type": "code",
   "execution_count": null,
   "metadata": {},
   "outputs": [],
   "source": [
    "i= 3\n",
    "assert (i==4,\"i ist nicht 4\") \n",
    "# richtig: assert i==4,\"i ist nicht 4\" \n",
    "print(\"weiter im Programm\")"
   ]
  },
  {
   "cell_type": "markdown",
   "metadata": {},
   "source": [
    "Das \"assert\" funktioniert nicht. Wir haben die 2 Teile geklammert. Python interpretiert das Ganze als Teil 1 des \"asserts\", also als zu prüfende Bedingung. Der Teil 2 fehlt dann, was erlaubt ist, eine Message wird vom assert dann nicht ausgegeben.\n",
    "Das Tupel (i==4,\"i ist nicht 4\") wird also überprüft, ob es wahr ist. Jedes Objekt in Python hat, wie wir wissen, einen internen Bool-Wert. Für Tupel wäre nur ein <b>leeres Tupel</b> ```False```, alle anderen Tupel sind ```True```. Damit ist das überprüfte Tupel immer True, und es erfolgt nie ein Programmabbruch. Freundlicherweise warnt Python hier."
   ]
  },
  {
   "cell_type": "markdown",
   "metadata": {},
   "source": [
    "Assert-Anweisungen können ein wichtiges Hilfsmittel zum Debuggen sein und sollten entsprechend großzügig verwendet werden. <br><br><br>\n",
    "Nun zur eingebauten Standard-Fehlerbehandlung von Python. <br> Nehmen wir an, wir wollen sicherstellen, daß der User eine Integer und kein anderes Objekt bei einem Input eingibt. Wir haben hier ein Problem, da ja die \"input()\" Funktion immer einen String zurückgibt. Diesen wollen wir in eine Integer verwandeln, aber wenn dies nicht möglich ist, bekommen wir eine Exception von Python, also einen Programmabbruch mit Fehlermeldung z.B. ValueError: invalid literal for int() with base 10: '3.0' bei Eingabe von 3.0 . Wir könnten natürlich den String untersuchen, ob ein Punkt darin vorkommt, mit entsprechenden String-Funktionen, es gibt aber viele Möglichkeiten Strings einzugeben, die nicht in Integer zu verwandeln sind und keinen Punkt enthalten z.B.: 3-045. "
   ]
  },
  {
   "cell_type": "code",
   "execution_count": null,
   "metadata": {},
   "outputs": [],
   "source": [
    "integer = int(input(\"Bitte Ganzzahl eingeben:\")) # Eingabe 3.0\n"
   ]
  },
  {
   "cell_type": "markdown",
   "metadata": {},
   "source": [
    "Ein viel eleganteres Verfahren ist eine entsprechende Fehlerbehandlung. Sie verwendet ```try``` und ```except```. ```try``` umfasst einen Anwendungsblock, in dem ein Fehler auftreten kann, der von uns behandelt werden soll. Tritt ein Fehler auf und nur dann, wird der ```except``` Block durchgeführt, <b>aber das Programm läuft danach weiter!!</b>"
   ]
  },
  {
   "cell_type": "code",
   "execution_count": null,
   "metadata": {},
   "outputs": [],
   "source": [
    "try:\n",
    "    integer = int(input(\"Bitte Ganzzahl eingeben:\")) # Eingabe 3.0\n",
    "except:\n",
    "    print(\"Falsche Zahl, soll Ganzzahl sein\")\n",
    "print(\"weiter im Programm\")\n",
    "    "
   ]
  },
  {
   "cell_type": "markdown",
   "metadata": {},
   "source": [
    "Dies funktioniert wie besprochen, aber die falsche Eingabe geht einfach durch. Wie wäre ein sinnvoller Ablauf, um eine richtige Eingabe sicherzustellen? (Etwas unhöflich!)"
   ]
  },
  {
   "cell_type": "code",
   "execution_count": null,
   "metadata": {},
   "outputs": [],
   "source": [
    "\n",
    "counter = 0\n",
    "while True:    \n",
    "    try:\n",
    "        counter+=1\n",
    "        \n",
    "        string = input(\"Bitte Ganzzahl eingeben:\") # Eingabe 3.0\n",
    "        integer = int(string)\n",
    "    except:\n",
    "        if string==\"\": \n",
    "            break\n",
    "        if counter == 1:\n",
    "            print(\"Falsche Zahl, soll Ganzzahl sein, bitte nochmal versuchen\") \n",
    "        elif counter ==2:\n",
    "            print(\"Falsche Zahl, eine Ganzahl hat keinen Dezimalpunkt ein Beispiel ist: 4 , bitte nochmal versuchen\")\n",
    "        elif counter <5:\n",
    "            print(\"Sie wissen nicht, was eine Ganzzahl ist, bitte lesen Sie mal nach, aber Sie können weiter versuchen\")\n",
    "        else:\n",
    "            print(\"Wenn Sie aufgeben wollen, drücken Sie einfach die Return Taste\")\n",
    "            \n",
    "print(f\"Die Zahl ist: {integer if string!='' else 'nicht eingegeben worden'}\")        "
   ]
  },
  {
   "cell_type": "markdown",
   "metadata": {},
   "source": [
    "Wir haben oben gesehen, daß Python für Ausnahmen Bezeichnungen hat, wie z.B. NameError oder ValueError.\n",
    "Ein wichtige Möglichkeit in der Fehlerbehandlung ist es, durch mehrere except-Blöcke unterschiedliche Fehler spezifisch behandeln zu können. Hier können wir unterscheiden zwischen einem IndexError bei Zugriff auf eine Liste und einem ValueError, wenn der übergebene Wert nicht in Integer zu verwandeln ist."
   ]
  },
  {
   "cell_type": "code",
   "execution_count": null,
   "metadata": {},
   "outputs": [],
   "source": [
    "my_list = [\"1\",\"3\",\"bla\",\"foo\"]\n",
    "try:\n",
    "    index = int(input(\"Welches Element der Liste soll als Integer benutzt werden (index)\")) #hier kann man mit ->2 \n",
    "                                                                # oder ->5 unterschiedliche Fehler auslösen\n",
    "\n",
    "    mein_integer_wert = int(my_list[index])\n",
    "except ValueError:\n",
    "    print(f\"Konnte Element {my_list[index]} nicht in integer umwandeln\")\n",
    "except IndexError:\n",
    "    print(f\"Diesen Index gibt es nicht in der Liste\")"
   ]
  },
  {
   "cell_type": "markdown",
   "metadata": {},
   "source": [
    "In einem except-Block können auch mehrere Fehlerarten behandelt werden , wie hier: <br>\n",
    "```except (IOError, ValueError, IndexError):```<br>\n",
    "Wichtig ist, daß ein allgemeines except ohne Angabe von spezifischen Fehlern von allen excepts am Schluss stehen muß. Zuerst wird also geprüft, ob einer der spezifisch in den except-BLöcken behandelten Fehler aufgetreten ist. Wenn nicht, wird zum allgemeinen except weitergeleitet. Hier haben wir einen ZeroDivisionError, der nicht als ValueError abgefangen wird."
   ]
  },
  {
   "cell_type": "code",
   "execution_count": null,
   "metadata": {},
   "outputs": [],
   "source": [
    "try:\n",
    "    1/0\n",
    "except ValueError:\n",
    "    print(\"Habe ValueError\")\n",
    "except:\n",
    "    print(\"Irgendwas anderes\")"
   ]
  },
  {
   "cell_type": "markdown",
   "metadata": {},
   "source": [
    "Manche eingebauten Exceptiontypen haben auch einen Rückgabewert, der den Fehler weiter spezifiziert. Hier versuchen wir eine nicht vorhandene Datei zu lesen. Es wird ein IOError ausgelöst, der eine Variable \"e\" als Exception-Instanz ausgibt. Diese gibt den erweiterten Fehlertext aus. Hier die Fehlermeldung so aus:"
   ]
  },
  {
   "cell_type": "code",
   "execution_count": null,
   "metadata": {},
   "outputs": [],
   "source": [
    "try:\n",
    "    f = open('integers.txt')    \n",
    "except IOError as e:\n",
    "    print(e) #e ist der Text\n",
    "    print(\"Unsere eigene Info zum Fehler\")"
   ]
  },
  {
   "cell_type": "markdown",
   "metadata": {},
   "source": [
    "Neben der try/ecxept Fehlerbandlungskonstruktion besteht auch die Möglichkeit, eine Exception an beliebiger Stelle auszulösen, mit selbst zu wählender Meldung und Programmabbruch. Dies geht über den ```raise``` Befehl. Der raise Befehl benötigt die entsprechende Fehlerklasse z.B. ValueError und danach kann ein geklammerter String mit einer Meldung eingegeben werden."
   ]
  },
  {
   "cell_type": "code",
   "execution_count": null,
   "metadata": {},
   "outputs": [],
   "source": [
    "raise ValueError (\"Ein Fehler, ein Fehler!\")"
   ]
  },
  {
   "cell_type": "markdown",
   "metadata": {},
   "source": [
    "Meistens verwendet man ```raise``` in einer if-Konstruktion."
   ]
  },
  {
   "cell_type": "code",
   "execution_count": null,
   "metadata": {},
   "outputs": [],
   "source": [
    "string = input(\"Bitte geben Sie einen String mit nicht mehr als 5 Zeichen ein\")\n",
    "if len(string)>5:\n",
    "    raise ValueError (\"Zu viele Zeichen\")\n",
    "print(\"Nichts passiert\")"
   ]
  },
  {
   "cell_type": "markdown",
   "metadata": {},
   "source": [
    "Um das volle Potential der benutzerdefinierten Fehlerbehandlung anwenden zu können, fehlen uns noch zwei Teile, die jeweils einen zusätzlichen Block definieren:<br>\n",
    "- finally und\n",
    "- else (was wir in anderem Zusammenhang schon kennen)"
   ]
  },
  {
   "cell_type": "markdown",
   "metadata": {},
   "source": [
    "```finally``` definiert einen Block, der <b>immer</b> nach dem try/except ausgeführt wird, egal ob ein Fehler festgestellt wurde oder nicht. Er wird z.B. zum Aufräumen benutzt, z.B. um Files abzuspeichern, auch wenn ein Fehler aufgetreten ist, um keine Daten zu verlieren. Wir machen hier einmal einen Fehler, indem wir durch 0 teilen und einmal nicht. Jedesmal wird der \"finally\"-Block ausgeführt."
   ]
  },
  {
   "cell_type": "code",
   "execution_count": null,
   "metadata": {},
   "outputs": [],
   "source": [
    "for var in [0,1]:\n",
    "    try:\n",
    "        print(1/var)        \n",
    "    except :\n",
    "        print(\"Fehler , kann nicht durch 0 teilen\")\n",
    "    finally:\n",
    "        print(\"Ich laufe immer und räume auf!\")\n",
    "print(\"Weiter\")"
   ]
  },
  {
   "cell_type": "markdown",
   "metadata": {},
   "source": [
    "Man kann sich natürlich fragen, warum man \"finally\" überhaupt braucht. Man könnte das Aufräumen doch einfach im Hauptprogramm nach dem \"except\" durchführen. Hier ein Beispiel, wo das \"finally\" hilft. Wir verlassen eine Funktion mit dem Rückgabewert \"None\", wenn ein Fehler auftritt. Ohne \"finally\" kann dann nach dem \"return\" nichts mehr ausgeführt werden. Aber wenn kein Fehler auftritt ist dies natürlich möglich. \"finally\" macht dies unabhängig davon , ob ein Fehler auftritt oder nicht."
   ]
  },
  {
   "cell_type": "code",
   "execution_count": null,
   "metadata": {},
   "outputs": [],
   "source": [
    "def ohne_finally(x):\n",
    "    try:\n",
    "        1/x\n",
    "        \n",
    "\n",
    "    except:\n",
    "        print(\"Ein Fehler ist aufgetreten\")\n",
    "        return None\n",
    "\n",
    "    print(\"Ich würde gerne aufräumen und kann es deshalb, weil kein Fehler aufgetreten ist.\")\n",
    "\n",
    "\n",
    "for var in [0,1]:\n",
    "    ohne_finally(var)\n",
    "    print(100*\"=\")"
   ]
  },
  {
   "cell_type": "code",
   "execution_count": null,
   "metadata": {},
   "outputs": [],
   "source": [
    "def mit_finally(x):\n",
    "    try:\n",
    "        1/x\n",
    "        \n",
    "    except:\n",
    "        print(\"Ein Fehler ist aufgetreten\")\n",
    "        return None\n",
    "\n",
    "    finally:\n",
    "        print(\"Ich würde gerne aufräumen und kann es immer\")\n",
    "    \n",
    "for var in [0,1]:\n",
    "    mit_finally(var)\n",
    "    print(100*\"=\")"
   ]
  },
  {
   "cell_type": "markdown",
   "metadata": {},
   "source": [
    "Trotzdem ist \"finally\" relativ selten nötog. <br><br> Die letzte Struktur in der Fehlerbehandlung, ein ```else``` Block wird nur ausgeführt, wenn im try/except <b>kein</b> Fehler aufgetreten ist. Der else-Block muß nach allen \"excepts\" kommen."
   ]
  },
  {
   "cell_type": "code",
   "execution_count": null,
   "metadata": {},
   "outputs": [],
   "source": [
    "def mit_else(x):\n",
    "    try:\n",
    "        1/x\n",
    "        \n",
    "    except:\n",
    "        print(\"Ein Fehler ist aufgetreten\")\n",
    "        return None\n",
    "    else:\n",
    "        print(\"ich laufe nur, wenn kein Fehler entstanden ist!\")\n",
    "\n",
    "    finally:\n",
    "        print(\"Ich würde gerne aufräumen und kann es immer\")\n",
    "    \n",
    "for var in [0,1]:\n",
    "    mit_else(var)\n",
    "    print(100*\"=\")"
   ]
  },
  {
   "cell_type": "markdown",
   "metadata": {},
   "source": [
    "Hier nochmal der Ablauf eines try/except/else/finally Blocks:<br>\n",
    "<img width = 900 src=\"Images/Fehlerbehandlung.png\" /><br><br>\n",
    "Nachdem wir jetzt die Fehlerbehandlung ausführlich besprochen haben, kommen wir zum Umgang mit Modulen, die uns helfen, das Rad nicht mehrfach zu erfinden."
   ]
  },
  {
   "cell_type": "code",
   "execution_count": null,
   "metadata": {},
   "outputs": [],
   "source": []
  }
 ],
 "metadata": {
  "kernelspec": {
   "display_name": "Python 3",
   "language": "python",
   "name": "python3"
  },
  "language_info": {
   "codemirror_mode": {
    "name": "ipython",
    "version": 3
   },
   "file_extension": ".py",
   "mimetype": "text/x-python",
   "name": "python",
   "nbconvert_exporter": "python",
   "pygments_lexer": "ipython3",
   "version": "3.8.5"
  }
 },
 "nbformat": 4,
 "nbformat_minor": 4
}
