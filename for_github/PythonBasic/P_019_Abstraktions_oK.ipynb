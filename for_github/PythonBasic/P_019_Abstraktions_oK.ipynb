{
 "cells": [
  {
   "cell_type": "markdown",
   "metadata": {},
   "source": [
    "# Abstraktionen und Generatoren\n",
    "<br><img width =300 src=\"Images/abstract.jpg\" />"
   ]
  },
  {
   "cell_type": "markdown",
   "metadata": {},
   "source": [
    "Python kennt wie viele andere Sprachen auch die Möglichkeit, eine anonyme Funktion zu erstellen, die in einer Zeile ausgeführt werden kann. Die Funktion hat keinen Namen, sie gibt ihren return-Wert direkt an der Stelle zurück, wo sie erstellt wurde. Die Syntax ist:<br><b> lambda argumentenliste: ausdruck</b><br>\n",
    "Die Argumentenliste umfaßt die benötigten Argumente in kommaseparierter Form, die in der Funktion in Parameter umgewandelt werden. Danach kommt der \"Funktionskörper\", der meistens sehr einfach gehalten ist. Beispiele:<br>\n",
    "Wir definieren im ersten Beispiel eine lambda-Funktion mit den Parametern x und y, die ```x**y``` zurückgibt. Diese wird in Zeile 2 aufgerufen mit den Argumenten. <br>\n",
    "Das zweite Beispiel sortiert mit der key-Funktion ein Dict nach seinen Values. Wir sortieren das dict_items Objekt. Dieses enthält wie wir wissen Tupel mit key/value-Paaren. Die key-Funktion muß den Wert zurückgeben, nachdem intern sortiert werden soll, und die lambda-Funktion tut dies, indem sie den zweiten Teil der Tupel, also den Value anspricht.\n",
    "<br> Im dritten Beispiel sortieren wir Listen mit 3 Elementen nach dem Element 2.<br>\n",
    "Als letztes Beispiel machen wir eine anonyme Funktion, die eine Liste von Celsius-Werten in Fahrenheit umrechnet. Wir haben die lambda-Funktion definiert mit der Umrechnungsformel:$$ fahrenheit=9/5*celsius + 32.$$<br> Diese rufen wir dann in der Schleife mit einigen Celsius-Werten auf."
   ]
  },
  {
   "cell_type": "code",
   "execution_count": 10,
   "metadata": {},
   "outputs": [
    {
     "name": "stdout",
     "output_type": "stream",
     "text": [
      "81\n",
      "----------------------------------------------------------------------------------------------------\n",
      "[('eins', 1), ('zwei', 2), ('drei', 3)]\n",
      "----------------------------------------------------------------------------------------------------\n",
      "[[3, 4, 0], [8, 5, 1], [3, 4, 2], [1, 2, 3]]\n",
      "----------------------------------------------------------------------------------------------------\n",
      "98.6\t212.0\t32.0\t149.0\t"
     ]
    }
   ],
   "source": [
    "expo = lambda x,y: x**y\n",
    "print(expo(3,4))\n",
    "print(100*\"-\")\n",
    "#sortieren eines Dicts nach value\n",
    "mydict={\"eins\":1,\"drei\":3,\"zwei\":2}\n",
    "new_dict=sorted(mydict.items(),key=lambda item: item[1])\n",
    "print(new_dict)\n",
    "print(100*\"-\")\n",
    "#sortieren einer Liste mit 3 Unterlisten nach dem Wert des Elements mit Index 2 in den Unterlisten\n",
    "mylist=[[1,2,3],[3,4,0],[8,5,1],[3,4,2]]\n",
    "mylist.sort(key=lambda x: x[2])\n",
    "print(mylist)\n",
    "print(100*\"-\")\n",
    "#Umrechnen von Celsius-Werten aus Liste in Fahrenheit\n",
    "celsius = [37,100,0,65] \n",
    "for c in celsius:\n",
    "    print(round((lambda x: float(9/5)*x + 32)(c),2),end=\"\\t\")\n"
   ]
  },
  {
   "cell_type": "markdown",
   "metadata": {},
   "source": [
    "Es gibt in Python andere Funktionen, die den Nutzen dieser Konstruktion erweitern. (s.Beispiel unten) In Python werden diese Funktionen (map,filter und reduce) immer seltener verwendet, da sie eigentlich nur als erzwungene Anhängsel integriert wurden, weil sie in anderen Sprachen oft gebraucht wurden, und weil die pythonische Lösung anfangs noch nicht implementiert war (reduce ist als erste dieser Funktionen aus Pythons Standardbibliothek bereits entfernt worden). map() wendet z.B. alle angegeben Parameter auf eine Funktion (hier die lambda-Funktion) an und gibt das Ergebnis als map-Objekt aus. Dieses können wir uns nach Verwandeln in eine Liste ausgeben lassen. Das zweite Beispiel zeigt, dass wir natürlich auch eine \"ganz normale\" Funktion mit map() verwenden können."
   ]
  },
  {
   "cell_type": "code",
   "execution_count": 3,
   "metadata": {},
   "outputs": [
    {
     "name": "stdout",
     "output_type": "stream",
     "text": [
      "<map object at 0x0000016A63717F40>\n",
      "[98.60000000000001, 212.0, 32.0, 149.0]\n",
      "[98.60000000000001, 212.0, 32.0, 149.0]\n"
     ]
    }
   ],
   "source": [
    "#map wendet die Funktion func auf die Sequenz seq an map(func,seq)\n",
    "celsius = [37,100,0,65] \n",
    "\n",
    "print(map(lambda x: float(9/5)*x + 32,celsius)) #für map lambda.. erstes Argument (Funktion), celsius 2.Argument (Werte)\n",
    "#map object nicht verwertbar, wir wandeln es in Liste um\n",
    "print(list(map(lambda x: float(9/5)*x + 32,celsius)))\n",
    "\n",
    "def celsius_to_fahrenheit (c):\n",
    "    return float(9/5)*c + 32\n",
    "\n",
    "result=map(celsius_to_fahrenheit,celsius) #für map lambda.. erstes Argument (Funktion), celsius 2.Argument (Werte)\n",
    "\n",
    "print(list(result))"
   ]
  },
  {
   "cell_type": "markdown",
   "metadata": {},
   "source": [
    "Der Pythonische Weg ist anders, den wollen wir nun erläutern. Python erlaubt uns stattdessen sogenannte Abstraktionen zu verwenden, welche man sehr häufig in Python-Programmen findet, und die wir deshalb kennen und auch verwenden sollten, da sie sehr nützlich sind. Zunächst beschäftigen wir uns mit Listen-Abstraktionen (engl. list comprehensions), die, wie der Namen schon sagt, Listen erzeugen. Sie sind Kurzformen von Schleifen und if-Anweisungen in einer Zeile. Sie werden begrenzt durch ein [ ]-Paar. Nach der öffnenden Klammer folgt der Rückgabewert. Hier ist es zunächst nur x, in den weiteren Beispielen dann ein Tupel aus x und y. Dann folgt eine Schleife, in der verschiedene Werte für x (und im Beispiel 2 und 3 in eine weiteren für y) erzeugt werden. Diese Werte werden dann in die Ergebnisliste geschrieben. Bei mehreren Schleifen wird zuerst die äußere, dann eventuelle innere Schleifen formuliert. Das letzte Beispiel zeigt, daß hier der x Wert als Eingangswert für die range-Funktion der y-Schleife genommen werden kann."
   ]
  },
  {
   "cell_type": "code",
   "execution_count": 29,
   "metadata": {},
   "outputs": [
    {
     "name": "stdout",
     "output_type": "stream",
     "text": [
      "[0, 1, 2, 3, 4, 5, 6, 7, 8, 9]\n",
      "----------------------------------------------------------------------------------------------------\n",
      "[(0, 0), (0, 1), (0, 2), (0, 3), (0, 4), (1, 0), (1, 1), (1, 2), (1, 3), (1, 4), (2, 0), (2, 1), (2, 2), (2, 3), (2, 4), (3, 0), (3, 1), (3, 2), (3, 3), (3, 4), (4, 0), (4, 1), (4, 2), (4, 3), (4, 4)]\n",
      "----------------------------------------------------------------------------------------------------\n",
      "[(1, 0), (2, 0), (2, 1), (3, 0), (3, 1), (3, 2), (4, 0), (4, 1), (4, 2), (4, 3)]\n"
     ]
    }
   ],
   "source": [
    "print([x for x in range(10)])\n",
    "print(100*\"-\")\n",
    "print([(x,y) for x in range(5) for y in range(5)]) #y-Schleife ist innere Schleife\n",
    "print(100*\"-\")\n",
    "print([(x,y) for x in range(5) for y in range(x)]) #y-Schleife ist innere Schleife läuft nur bis zum\n",
    "                                                   #jeweiligen Wert von x - 1"
   ]
  },
  {
   "cell_type": "markdown",
   "metadata": {},
   "source": [
    "Sehr kompakt und elegant! Es kommt aber noch besser, weil wir if-Anweisungen integrieren können. Diese folgen dann hinter dem Schleifenteil. Im Beispiel zunächst eine Schleifenkonstruktion mit if-Anweisung in normaler Weise, dann die Abstraktion dafür. Hier im Bereich bis 30 die Zahlen, die glatt durcheinander teilbar sind (und nicht identisch sind). Ausserdem sieben wir noch die Primzahlen aus."
   ]
  },
  {
   "cell_type": "code",
   "execution_count": 8,
   "metadata": {},
   "outputs": [
    {
     "name": "stdout",
     "output_type": "stream",
     "text": [
      "[(4, 2), (6, 2), (6, 3), (8, 2), (8, 4), (9, 3), (10, 2), (10, 5), (12, 2), (12, 3), (12, 4), (12, 6), (14, 2), (14, 7), (15, 3), (15, 5), (16, 2), (16, 4), (16, 8), (18, 2), (18, 3), (18, 6), (18, 9), (20, 2), (20, 4), (20, 5), (20, 10), (21, 3), (21, 7), (22, 2), (22, 11), (24, 2), (24, 3), (24, 4), (24, 6), (24, 8), (24, 12), (25, 5), (26, 2), (26, 13), (27, 3), (27, 9), (28, 2), (28, 4), (28, 7), (28, 14)]\n",
      "----------------------------------------------------------------------------------------------------\n",
      "----------------------------------------------------------------------------------------------------\n",
      "[(2, 1), (3, 1), (4, 1), (4, 2), (5, 1), (6, 1), (6, 2), (6, 3), (7, 1), (8, 1), (8, 2), (8, 4), (9, 1), (9, 3), (10, 1), (10, 2), (10, 5), (11, 1), (12, 1), (12, 2), (12, 3), (12, 4), (12, 6), (13, 1), (14, 1), (14, 2), (14, 7), (15, 1), (15, 3), (15, 5), (16, 1), (16, 2), (16, 4), (16, 8), (17, 1), (18, 1), (18, 2), (18, 3), (18, 6), (18, 9), (19, 1), (20, 1), (20, 2), (20, 4), (20, 5), (20, 10), (21, 1), (21, 3), (21, 7), (22, 1), (22, 2), (22, 11), (23, 1), (24, 1), (24, 2), (24, 3), (24, 4), (24, 6), (24, 8), (24, 12), (25, 1), (25, 5), (26, 1), (26, 2), (26, 13), (27, 1), (27, 3), (27, 9), (28, 1), (28, 2), (28, 4), (28, 7), (28, 14), (29, 1)]\n",
      "[1, 2, 3, 5, 7, 11, 13, 17, 19, 23, 29]\n"
     ]
    }
   ],
   "source": [
    "res,primes=[],[]\n",
    "for x in range(1,30):\n",
    "    found=0\n",
    "    for y in range(2,x):\n",
    "        if x//y==x/y and x!=y:\n",
    "            res.append((x,y))\n",
    "            found=1\n",
    "    if found==0:\n",
    "        primes.append(x)\n",
    "        found=1\n",
    "print(res)  \n",
    "print(100*\"-\")\n",
    "print(100*\"-\")\n",
    "print([(x,y) for x in range(1,30) for y in range(1,x) if x//y==x/y and x!=y ])\n",
    "print(primes)"
   ]
  },
  {
   "cell_type": "markdown",
   "metadata": {},
   "source": [
    "Auch ein \"else\" Teil ist möglich. Hier findet man alle geraden Zahlen positiv in der Liste, alle ungeraden negativ.<b> Der if/else Teil muß vor dem Schleifenteil stehen und entspricht einfach einem ternären if."
   ]
  },
  {
   "cell_type": "code",
   "execution_count": 39,
   "metadata": {},
   "outputs": [
    {
     "name": "stdout",
     "output_type": "stream",
     "text": [
      "[0, -1, 2, -3, 4, -5, 6, -7, 8, -9, 10, -11, 12, -13, 14, -15, 16, -17, 18, -19]\n"
     ]
    }
   ],
   "source": [
    "print([x if x%2==0 else -x for x in range(20)])"
   ]
  },
  {
   "cell_type": "markdown",
   "metadata": {},
   "source": [
    "Listen-Abstraktionen werden noch interessanter, wenn wir die ```all()``` und ```any()```-Funktionen kennen und anwenden. Diese geben Bool_Werte zurück.\n",
    "- ```all()``` True, wenn alle Elemente True sind\n",
    "- ```any()``` True, wenn mindestens ein Element True ist\n",
    "- ```not all()``` True,wenn mindestens ein Elemente False ist\n",
    "- ```not any()``` True, wenn alle Elemente False sind<br><br>\n",
    "Unten entsprechende Beispiele wobei wir 1 als True und 0 als False verwenden (implizierter Wahrheitswert für Zahlen, wie schon besprochen):"
   ]
  },
  {
   "cell_type": "code",
   "execution_count": 9,
   "metadata": {},
   "outputs": [
    {
     "name": "stdout",
     "output_type": "stream",
     "text": [
      "all([1,0,1]) ist False\n",
      "all([1,1,1]) ist True\n",
      "====================================================================================================\n",
      "any([1,0,0]) ist True\n",
      "any([0,0,0]) ist False\n",
      "====================================================================================================\n",
      "not all([1,0,0]) ist True\n",
      "not all([1,1,1]) ist False\n",
      "====================================================================================================\n",
      "not any([1,0,0]) ist False\n",
      "not any([0,0,0]) ist True\n",
      "====================================================================================================\n"
     ]
    }
   ],
   "source": [
    "print(f\"all([1,0,1]) ist {all([1,0,1])}\")\n",
    "print(f\"all([1,1,1]) ist {all([1,1,1])}\")\n",
    "print(\"=\"*100)\n",
    "print(f\"any([1,0,0]) ist {any([1,0,0])}\")\n",
    "print(f\"any([0,0,0]) ist {any([0,0,0])}\")\n",
    "print(\"=\"*100)\n",
    "print(f\"not all([1,0,0]) ist {not all([1,0,0])}\")\n",
    "print(f\"not all([1,1,1]) ist {not all([1,1,1])}\")\n",
    "print(\"=\"*100)\n",
    "print(f\"not any([1,0,0]) ist {not any([1,0,0])}\")\n",
    "print(f\"not any([0,0,0]) ist {not any([0,0,0])}\")\n",
    "print(\"=\"*100)\n"
   ]
  },
  {
   "cell_type": "markdown",
   "metadata": {},
   "source": [
    "Statt unserer Listen-Literale im obigen Beispiel können wir natürlich auch Listen-Abstraktionen verwenden."
   ]
  },
  {
   "cell_type": "code",
   "execution_count": 40,
   "metadata": {},
   "outputs": [
    {
     "name": "stdout",
     "output_type": "stream",
     "text": [
      "True\n",
      "False\n"
     ]
    }
   ],
   "source": [
    "print(all([1 if x%2==0 else 0 for x in [2,4,6,12]])) #alle Ergebnisse der Abstraktion sind 1\n",
    "print(all([1 if x%2==0 else 0 for x in [2,7,6,12]])) #das Ergebnis bei \"7\" ist 0 und somit False"
   ]
  },
  {
   "cell_type": "markdown",
   "metadata": {},
   "source": [
    "## Aufgabe: (schwierig)\n",
    "Schreibe eine Listen-Abstraktion, die die Zahlen im Bereich von 2 bis 100 enthält, die Prim-Zahlen sind. Hinweis: Lasse in der ersten Schleife x von 2 bis 101 laufen, schaue als if Bedingung dann, ob mindestens eine Zahl für x%y Null ergibt für y in range(2 bis x-1) (<b>bei 2 bis x</b> würde ja auch immer durch x geteilt und x%x wäre 0, deshalb nur bis x-1). Im if Teil wäre die y-Schleife auch in einer Listen-Abstraktion enthalten.\n",
    "Geht es schneller? Wie weit muß y wirklich laufen?"
   ]
  },
  {
   "cell_type": "code",
   "execution_count": 46,
   "metadata": {},
   "outputs": [
    {
     "name": "stdout",
     "output_type": "stream",
     "text": [
      "[2, 3, 5, 7, 11, 13, 17, 19, 23, 29, 31, 37, 41, 43, 47, 53, 59, 61, 67, 71, 73, 79, 83, 89, 97]\n",
      "[2, 3, 5, 7, 11, 13, 17, 19, 23, 29, 31, 37, 41, 43, 47, 53, 59, 61, 67, 71, 73, 79, 83, 89, 97]\n"
     ]
    }
   ],
   "source": [
    "\n",
    "\n",
    "\n",
    "\n",
    "\n",
    "\n",
    "\n",
    "\n",
    "\n",
    "\n",
    "\n",
    "\n",
    "\n",
    "#LÖSUNG\n",
    "#y muß bis Wurzel(x+1) laufen.\n",
    "#innere Abstraktion [0 if x%y==0 else 1 for y in range(2,x-1)]\n",
    "#davon müssen alle Elemente 1 sein, also keine 0 für x%y==0\n",
    "\n",
    "\n",
    "print([x for x in range(2,101) if all([0 if x%y==0 else 1 for y in range(2,x-1)])])\n",
    "print([x for x in range(2,101) if all([0 if x%y==0 else 1 for y in range(2,int(x**.5)+1)])])"
   ]
  },
  {
   "cell_type": "markdown",
   "metadata": {},
   "source": [
    "Wenn auch die List-Abstraktionen sehr elegant ist, sollte man sie nicht übertreiben. Wenn sie nicht mehr lesbar werden und man lange überlegen muß, was gemeint ist, sollte man lieber den herkömmlichen Stil verwenden. Außerdem wird die gesamte Liste im Speicher abgelegt, was bei sehr großen Listen-Abstraktionen problematisch sein kann. Hierzu gleich mehr. Das Konzept beschränkt sich nicht auf Listen. Auch Mengen können so erstellt werden, dann findet man als Begrenzung {}-Klammern."
   ]
  },
  {
   "cell_type": "code",
   "execution_count": 40,
   "metadata": {},
   "outputs": [
    {
     "name": "stdout",
     "output_type": "stream",
     "text": [
      "{0, 1, 2, 3, 4, 5, 6, 7, 8, 9, 10, 12, 14, 15, 16, 18, 20, 21, 24, 25, 27, 28, 30, 32, 35, 36, 40, 42, 45, 48, 49, 54, 56, 63, 64, 72, 81}\n"
     ]
    }
   ],
   "source": [
    "print({x*y for x in range(10) for y in range(10)})"
   ]
  },
  {
   "cell_type": "markdown",
   "metadata": {},
   "source": [
    "Wir sehen, daß eine Menge zurückgegeben wird, <b> doppelte Einträge gibt es natürlich nicht</b>. Wir haben hier alle Ergebnisse im \"kleinen Einmaleins\" ausgegeben (\"x*y ist:\") in einer Menge. Die Syntax ist bis auf die Klammern identisch zur Listen-Abstraktion. Auch hier liegt die gesamte Menge im Speicher. Verwenden wir ein ()-Klammernpaar als Begrenzung, erstellen wir Generatorenausdrücke, die anders funktionieren."
   ]
  },
  {
   "cell_type": "code",
   "execution_count": 44,
   "metadata": {},
   "outputs": [
    {
     "name": "stdout",
     "output_type": "stream",
     "text": [
      "<generator object <genexpr> at 0x0000025AE7BEA900>\n",
      "[0, 0, 0, 0, 0, 0, 1, 2, 3, 4, 0, 2, 4, 6, 8, 0, 3, 6, 9, 12, 0, 4, 8, 12, 16]\n"
     ]
    }
   ],
   "source": [
    "print((x*y for x in range(5) for y in range(5)))\n",
    "the_list=list((x*y for x in range(5) for y in range(5)))\n",
    "print(the_list)"
   ]
  },
  {
   "cell_type": "markdown",
   "metadata": {},
   "source": [
    "Wir erhalten hier also kein Tupel (wie wir vielleicht erwartet hätten), sondern ein Generator-Objekt(hier Generator-Ausdruck, generator expression, Weiteres unten). Dieses können wir in eine Liste verwandeln. Was aber wichtiger ist, ist daß dieses Generatorobjekt nur Werte produziert, wenn wir den einzelnen Wert abrufen. Das Ergebnis wird also nicht insgesamt im Speicher abgelegt, sondern nur bei Bedarf schrittweise erstellt. Bei großen Strukturen ein gewaltiger Unterschied! Wie holen wir den nächsten wert aus dem Generator-Ausdruck? Mit next() wie im Beispiel gezeigt."
   ]
  },
  {
   "cell_type": "code",
   "execution_count": 48,
   "metadata": {},
   "outputs": [
    {
     "name": "stdout",
     "output_type": "stream",
     "text": [
      "2\n",
      "3\n"
     ]
    }
   ],
   "source": [
    "the_generator=(x*y for x in range(1,5) for y in range(2,5))\n",
    "print(next(the_generator))\n",
    "print(next(the_generator))"
   ]
  },
  {
   "cell_type": "markdown",
   "metadata": {},
   "source": [
    "Was passiert, wenn es kein Element mehr gibt?"
   ]
  },
  {
   "cell_type": "code",
   "execution_count": 50,
   "metadata": {},
   "outputs": [
    {
     "name": "stdout",
     "output_type": "stream",
     "text": [
      "Durchlauf 1  Ergebnis 2\n",
      "Durchlauf 2  Ergebnis 3\n",
      "Durchlauf 3  Ergebnis 4\n",
      "Durchlauf 4  Ergebnis 4\n",
      "Durchlauf 5  Ergebnis 6\n",
      "Durchlauf 6  Ergebnis 8\n",
      "Durchlauf 7  Ergebnis 6\n",
      "Durchlauf 8  Ergebnis 9\n",
      "Durchlauf 9  Ergebnis 12\n",
      "Durchlauf 10  Ergebnis 8\n",
      "Durchlauf 11  Ergebnis 12\n",
      "Durchlauf 12  Ergebnis 16\n"
     ]
    },
    {
     "ename": "StopIteration",
     "evalue": "",
     "output_type": "error",
     "traceback": [
      "\u001b[1;31m---------------------------------------------------------------------------\u001b[0m",
      "\u001b[1;31mStopIteration\u001b[0m                             Traceback (most recent call last)",
      "\u001b[1;32m<ipython-input-50-e9be9a241157>\u001b[0m in \u001b[0;36m<module>\u001b[1;34m\u001b[0m\n\u001b[0;32m      3\u001b[0m \u001b[1;32mwhile\u001b[0m \u001b[1;32mTrue\u001b[0m\u001b[1;33m:\u001b[0m\u001b[1;33m\u001b[0m\u001b[1;33m\u001b[0m\u001b[0m\n\u001b[0;32m      4\u001b[0m     \u001b[0mcounter\u001b[0m\u001b[1;33m+=\u001b[0m\u001b[1;36m1\u001b[0m\u001b[1;33m\u001b[0m\u001b[1;33m\u001b[0m\u001b[0m\n\u001b[1;32m----> 5\u001b[1;33m     \u001b[0mprint\u001b[0m\u001b[1;33m(\u001b[0m\u001b[1;34mf\"Durchlauf {counter}  Ergebnis {next(the_generator)}\"\u001b[0m\u001b[1;33m)\u001b[0m\u001b[1;33m\u001b[0m\u001b[1;33m\u001b[0m\u001b[0m\n\u001b[0m",
      "\u001b[1;31mStopIteration\u001b[0m: "
     ]
    }
   ],
   "source": [
    "the_generator=(x*y for x in range(1,5) for y in range(2,5))\n",
    "counter=0\n",
    "while True:\n",
    "    counter+=1\n",
    "    print(f\"Durchlauf {counter}  Ergebnis {next(the_generator)}\")\n"
   ]
  },
  {
   "cell_type": "markdown",
   "metadata": {},
   "source": [
    "Wir sehen, daß dann ein \"StopIteration\" Fehler ausgegeben wird (den wir natürlich mit try/except abfangen können). Hier wird einmal der Unterschied zwischen Generator und List-Abstraktion in der Praxis gezeigt. ```itertools``` ist ein wichtiges Modul für die Kombinatorik, hier berechnen wir alle Permutationen  (also Aufreihungen ohne Wiederholung) der Zahlen 0 bis 10."
   ]
  },
  {
   "cell_type": "code",
   "execution_count": 10,
   "metadata": {},
   "outputs": [
    {
     "name": "stdout",
     "output_type": "stream",
     "text": [
      "(0, 1, 2, 3, 4, 5, 6, 10, 8, 7, 9)\n",
      "39916800\n"
     ]
    }
   ],
   "source": [
    "import itertools\n",
    "\n",
    "permutationen=[x for x in itertools.permutations(range(11))]\n",
    "print(f\"Beispiel: {permutationen[20]}\") #Ergebnisbeispiel\n",
    "print(len(permutationen)) #Wieviele Permutationen gibt es?"
   ]
  },
  {
   "cell_type": "markdown",
   "metadata": {},
   "source": [
    "Es ergibt sich eine lange Laufzeit, alle 39916800 Permutationen werden in den Speicher gelegt. Nun könnten wir z.B. nach einer bestimmten Permutation suchen. <br>\n",
    "Nun der Generatorausdruck:"
   ]
  },
  {
   "cell_type": "code",
   "execution_count": 11,
   "metadata": {},
   "outputs": [
    {
     "name": "stdout",
     "output_type": "stream",
     "text": [
      "FERTIG\n",
      "(0, 1, 2, 3, 4, 5, 6, 10, 8, 7, 9)\n"
     ]
    }
   ],
   "source": [
    "import itertools\n",
    "\n",
    "permutationen_gen=(x for x in itertools.permutations(range(11)))\n",
    "print(\"FERTIG\")\n",
    "for _ in range(39916800):\n",
    "    perm=next(permutationen_gen)\n",
    "    if _==20:\n",
    "        print(perm)\n",
    "    \n"
   ]
  },
  {
   "cell_type": "markdown",
   "metadata": {},
   "source": [
    "Es wird beim Generator-Ausdruck sozusagen nur das Rezept für die Permutation in den Speicher abgelegt und dann schrittweise genutzt. Eine Länge hat das Generatorobjekt nicht! Wir sehen, daß der Generator-Ausdruck viel schneller ist, obwohl wir auch hier alle Elemente der Permutation abgerufen haben."
   ]
  },
  {
   "cell_type": "markdown",
   "metadata": {},
   "source": [
    "Generatoren können auch auf andere Weise produziert werden. Sie entsprechen Funktionen ohne return. Man bekommt dann jeweils den nächsten Wert mit der yield-Anweisung. Nun müssen wir die Werte aus der Generatorfunktion in der Schleife immer wieder aufrufen. Oder alternativ können wir das machen, was wir schon kennen:"
   ]
  },
  {
   "cell_type": "code",
   "execution_count": 52,
   "metadata": {},
   "outputs": [
    {
     "name": "stdout",
     "output_type": "stream",
     "text": [
      "0 1 2 3 4 5 6 7 8 9 10 11 12 13 14 15 16 17 18 19 20 21 22 23 24 25 26 27 28 29 30 \n",
      "0 1 2 3 4 5 6 7 8 9 10 11 12 13 14 15 16 17 18 19 20 21 22 23 24 25 26 27 28 29 30 "
     ]
    }
   ],
   "source": [
    "def unendlich(): #Generatorfunktion\n",
    "    num = 0\n",
    "    while True:\n",
    "        yield num\n",
    "        num += 1\n",
    "        \n",
    "for i in unendlich():\n",
    "    if i>30:\n",
    "        break\n",
    "    print(i,end=\" \")\n",
    "    \n",
    "   \n",
    "print() \n",
    "\n",
    "#Alternative\n",
    "generator=unendlich()\n",
    "for i in range(31):\n",
    "    print(next(generator),end=\" \")"
   ]
  },
  {
   "cell_type": "markdown",
   "metadata": {},
   "source": [
    "Hier wollen wir nun noch einmal zwei wichtige Konstruktionen wiederholen, die in der täglichen Arbeit wichtig sein können.<br>\n",
    "- zip\n",
    "- enumerate\n",
    "<br><br>\n",
    "<b>zip(sequenz1,sequenz2...)</b> erzeugt ein zip_Objekt von Tupeln mit jeweils dem entsprechenden Element aus jeder der Sequenzen, bis die kürzeste Sequenz erschöpft ist, der Rest wird verworfen.\n",
    "Dieses zip_Objekt können wir dann z.B. in eine Liste oder anderen kombinierten Datentyp verwandeln.\n"
   ]
  },
  {
   "cell_type": "code",
   "execution_count": 6,
   "metadata": {},
   "outputs": [
    {
     "name": "stdout",
     "output_type": "stream",
     "text": [
      "<zip object at 0x0000020758C59EC0>\n",
      "[(1, 'eins', 10), (2, 'zwei', 11), (3, 'drei', 12), (3, 'drei', 12)]\n",
      "{(2, 'zwei', 11), (1, 'eins', 10), (3, 'drei', 12)}\n"
     ]
    }
   ],
   "source": [
    "l1=[1,2,3,3,4,5]\n",
    "l2=[\"eins\",\"zwei\",\"drei\",\"drei\"]\n",
    "l3=[10,11,12,12,13,14,15,16]\n",
    "print(zip(l1,l2,l3))\n",
    "print(list(zip(l1,l2,l3)))\n",
    "print(set(zip(l1,l2,l3))) #ohne Duplikat, da in Set verwandelt"
   ]
  },
  {
   "cell_type": "markdown",
   "metadata": {},
   "source": [
    "<b>enumerate(kombinierter Datentyp)</b> gibt ein enumerate-Objekt mit Tupeln, die fortlaufende Nummern (von 0 beginnend) und den fortlaufenden Werten des kombinierten Datentyps zurück. Beachte die interen Ordnung des Datentyps!"
   ]
  },
  {
   "cell_type": "code",
   "execution_count": 17,
   "metadata": {},
   "outputs": [
    {
     "name": "stdout",
     "output_type": "stream",
     "text": [
      "[(0, False), (1, 1), (2, 2), (3, 3), (4, 'eins')]\n"
     ]
    }
   ],
   "source": [
    "en=enumerate({1,2,3,\"eins\",False})\n",
    "print(list(en))"
   ]
  },
  {
   "cell_type": "markdown",
   "metadata": {},
   "source": [
    "Damit haben wir unseren Python-Grundkurs beendet. <br>Man kann die Python-Kenntnisse natürlich weiter ausbauen, z.B. mit den Kursen \"Fortgeschrittenes Python\",\"Objektorientierung\",\"Maschinellen Lernen mit Python\" oder \"numerisches Python\", die wir anbieten. <br>\n",
    "Um alles Gelernte aber wirklich in der Praxis anwenden zu können hilft nur :<br><br>\n",
    "## üben,üben,üben...    "
   ]
  },
  {
   "cell_type": "markdown",
   "metadata": {},
   "source": [
    "<img width=200 src=\"Images/sweat.jpg\"/>"
   ]
  },
  {
   "cell_type": "code",
   "execution_count": null,
   "metadata": {},
   "outputs": [],
   "source": []
  }
 ],
 "metadata": {
  "kernelspec": {
   "display_name": "Python 3 (ipykernel)",
   "language": "python",
   "name": "python3"
  },
  "language_info": {
   "codemirror_mode": {
    "name": "ipython",
    "version": 3
   },
   "file_extension": ".py",
   "mimetype": "text/x-python",
   "name": "python",
   "nbconvert_exporter": "python",
   "pygments_lexer": "ipython3",
   "version": "3.9.12"
  }
 },
 "nbformat": 4,
 "nbformat_minor": 4
}
