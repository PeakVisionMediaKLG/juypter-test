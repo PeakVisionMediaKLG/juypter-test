{
 "cells": [
  {
   "cell_type": "markdown",
   "metadata": {},
   "source": [
    "## Properties statt Getters und Setters\n",
    "\n",
    "### Properties\n",
    "\n",
    "<img class=\"imgright\" src=\"../images/venitian_masks.webp\" srcset=\"../images/venitian_masks_400w.webp 400w,../images/venitian_masks_350w.webp 350w,../images/venitian_masks_300w.webp 300w\" alt=\"Venezianische Masken\" width=\"300\">\n",
    "<br><br>\n",
    "\n",
    "<p> Getter (auch als 'Accessors' bekannt) und Setter (auch bekannt als 'Mutators') werden in vielen objektorientierten Programmiersprachen verwendet, um das Prinzip der Datenkapselung sicherzustellen. Die Datenkapselung erfolgt- wie wir in unserer Einführung auf <a href=\"https://www.python-kurs.eu/python3_klassen.php\">Objektorientierte Programmierung</a> unseres Tutorials erfahren haben - über eine Bündelung der Daten mit Methoden, die mit diesen arbeiten. Diese Methoden sind  der <em>Getter</em> zum Abrufen der Daten und der <em>Setter</em> zum Ändern der Daten. Nach diesem Prinzip werden die Attribute einer Klasse privatisiert, um den Code zu verbergen und zu schützen. </p>\n",
    "<p>Leider ist die Überzeugung weit verbreitet, dass eine richtige Python-Klasse grundsätzlich private Attribute mithilfe von Gettern und Setzern kapseln sollte. Sobald diese Programmierenden ein neues Attribut einführt, machen sie es zu einer privaten Variablen und erstellt \"automatisch\" einen Getter und einen Setter für dieses Attribut. Solche Programmierenden können sogar einen Editor oder eine IDE verwenden, die automatisch Getter und Setter für alle privaten Attribute erstellt. Diese Tools warnen die Programmierenden sogar, wenn sie ein öffentliches Attribut verwenden wollen! Manche haben OOP in anderen Sprachen so gelernt, dass sie die Stirne runzeln oder entsetzt sein werden,  wenn sie Folgendes lesen: <b>Die pythonische Art, Attribute einzuführen, besteht darin, sie öffentlich zu machen.</b> </p>\n",
    "<p> Wir werden dies später erklären. Zunächst zeigen wir im folgenden Beispiel, wie wir eine Klasse auf Java-ähnliche Weise mit Get- und Set- entwerfen können, um das private Attribut <code>self.__ x</code>:</p> zu kapseln "
   ]
  },
  {
   "cell_type": "code",
   "execution_count": 1,
   "metadata": {},
   "outputs": [],
   "source": [
    "class P:\n",
    "    def __init__(self, x):\n",
    "        self.__x = x\n",
    "\n",
    "    def get_x(self):\n",
    "        return self.__x\n",
    "\n",
    "    def set_x(self, x):\n",
    "        self.__x = x\n",
    "        \n"
   ]
  },
  {
   "cell_type": "markdown",
   "metadata": {},
   "source": [
    "Wir zeigen nun, wie man mit dieser Klasse arbeiten kann:"
   ]
  },
  {
   "cell_type": "code",
   "execution_count": 5,
   "metadata": {},
   "outputs": [
    {
     "name": "stdout",
     "output_type": "stream",
     "text": [
      "42\n"
     ]
    }
   ],
   "source": [
    "p1 = P(42)\n",
    "p2 = P(4711)\n",
    "print(p1.get_x())\n",
    "#p2.x # das geht nicht "
   ]
  },
  {
   "cell_type": "code",
   "execution_count": null,
   "metadata": {},
   "outputs": [],
   "source": [
    "Wir addieren jetzt einmal zwei __x Werte zweier Instanzen."
   ]
  },
  {
   "cell_type": "code",
   "execution_count": 6,
   "metadata": {},
   "outputs": [
    {
     "name": "stdout",
     "output_type": "stream",
     "text": [
      "4758\n"
     ]
    }
   ],
   "source": [
    "p1.set_x(47)\n",
    "p1.set_x(p1.get_x()+p2.get_x())\n",
    "print(p1.get_x())"
   ]
  },
  {
   "cell_type": "markdown",
   "metadata": {},
   "source": [
    "Was halten Sie von dem Ausdruck \"p1.set_x(p1.get_x()+p2.get_x())\"? \n",
    "Wir ist doch hässlich? Es wäre doch viel einfacher, einen Ausdruck wie den folgenden zu schreiben, wenn wir ein öffentliches Attribut x hätten: \n",
    "\n",
    "<pre>\n",
    "p1.x = p1.x + p2.x\n",
    "</pre>\n",
    "\n",
    "Eine solche Zuordnung ist leichter zu schreiben und vor allem leichter zu lesen als der Javaesque-Ausdruck.\n",
    "\n",
    "Schreiben wir die Klasse P pythonisch um. Kein Getter, kein Setter und anstelle des privaten Attributs ```self .__ x``` verwenden wir ein öffentliches: "
   ]
  },
  {
   "cell_type": "code",
   "execution_count": 7,
   "metadata": {},
   "outputs": [],
   "source": [
    "class P:\n",
    "\n",
    "    def __init__(self,x):\n",
    "        self.x = x"
   ]
  },
  {
   "cell_type": "markdown",
   "metadata": {},
   "source": [
    "Schön, nicht wahr? Nur drei Codezeilen, wenn wir die leere Zeile nicht zählen! "
   ]
  },
  {
   "cell_type": "code",
   "execution_count": 8,
   "metadata": {},
   "outputs": [
    {
     "name": "stdout",
     "output_type": "stream",
     "text": [
      "42\n"
     ]
    }
   ],
   "source": [
    "p1 = P(42)\n",
    "p2 = P(4711)\n",
    "print(p1.x)"
   ]
  },
  {
   "cell_type": "code",
   "execution_count": 9,
   "metadata": {},
   "outputs": [
    {
     "name": "stdout",
     "output_type": "stream",
     "text": [
      "4758\n"
     ]
    }
   ],
   "source": [
    "p1.x = 47\n",
    "p1.x = p1.x + p2.x\n",
    "print(p1.x)"
   ]
  },
  {
   "cell_type": "markdown",
   "metadata": {},
   "source": [
    "\"Aber, aber, aber, aber, aber ...\", wir können OOP - Programmierer heulen und schreien hören, \"aber wo bleibt die Datenkapselung?\" Ja, in diesem Fall erfolgt keine Datenkapselung. Wir brauchen sie in diesem Fall nicht. Das einzige, was get_x und set_x in unserem Startbeispiel taten, war, \"die Daten durchzureichen\", ohne etwas Zusätzliches zu tun.\n",
    "Wovor sollte also eine \"Privatisierung\" des Attributes schützen?\n",
    "\n",
    "Aber was passiert, wenn wir die Implementierung in Zukunft ändern wollen? Dies ist ein ernstes Argument. Nehmen wir an, wir möchten die Implementierung folgendermaßen ändern: Das Attribut x kann Werte zwischen 0 und 1000 haben. Wenn ein Wert größer als 1000 zugewiesen wird, sollte x auf 1000 gesetzt werden. Entsprechend sollte x auf 0 gesetzt werden, wenn der Wert kleiner als 0 ist.\n",
    "\n",
    "Es ist einfach, die Methoden unserer ersten P-Klasse anzupassen, um dieses Problem abzudecken. Wir ändern die set_x-Methode entsprechend: "
   ]
  },
  {
   "cell_type": "code",
   "execution_count": 10,
   "metadata": {},
   "outputs": [],
   "source": [
    "class P:\n",
    "\n",
    "    def __init__(self,x):\n",
    "        self.set_x(x) #Achtung wir rufen hier die Funktion set_x auf, wo die Zuweisung von x auf self.__x erfolgt.\n",
    "\n",
    "    def get_x(self):\n",
    "        return self.__x\n",
    "\n",
    "    def set_x(self, x):\n",
    "        if x < 0:\n",
    "            self.__x = 0\n",
    "        elif x > 1000:\n",
    "            self.__x = 1000\n",
    "        else:\n",
    "            self.__x = x"
   ]
  },
  {
   "cell_type": "markdown",
   "metadata": {},
   "source": [
    "Wir können nun mit dieser Klasse arbeiten und erkennen, dass das Attribut automatisch angepasst wird:"
   ]
  },
  {
   "cell_type": "code",
   "execution_count": 11,
   "metadata": {},
   "outputs": [
    {
     "name": "stdout",
     "output_type": "stream",
     "text": [
      "1000\n"
     ]
    }
   ],
   "source": [
    "p1 = P(9999)\n",
    "print(p1.get_x())"
   ]
  },
  {
   "cell_type": "code",
   "execution_count": 12,
   "metadata": {},
   "outputs": [
    {
     "name": "stdout",
     "output_type": "stream",
     "text": [
      "15\n"
     ]
    }
   ],
   "source": [
    "p2 = P(15)\n",
    "print(p2.get_x())"
   ]
  },
  {
   "cell_type": "code",
   "execution_count": 13,
   "metadata": {},
   "outputs": [
    {
     "name": "stdout",
     "output_type": "stream",
     "text": [
      "0\n"
     ]
    }
   ],
   "source": [
    "p3 = P(-1)\n",
    "print(p3.get_x())"
   ]
  },
  {
   "cell_type": "markdown",
   "metadata": {},
   "source": [
    "Aber es gibt einen Haken an der Sache: Nehmen wir an, wir haben unsere Klasse mit einem öffentlichen Attribut und ohne Methoden entworfen:"
   ]
  },
  {
   "cell_type": "code",
   "execution_count": 14,
   "metadata": {},
   "outputs": [],
   "source": [
    "class P2:\n",
    "\n",
    "    def __init__(self,x):\n",
    "        self.x = x"
   ]
  },
  {
   "cell_type": "markdown",
   "metadata": {},
   "source": [
    "Nehmen wir an, dass viele Leute die Klasse bereits oft benutzt haben und Code wie diesen geschrieben haben: "
   ]
  },
  {
   "cell_type": "code",
   "execution_count": 15,
   "metadata": {},
   "outputs": [
    {
     "name": "stdout",
     "output_type": "stream",
     "text": [
      "1001\n"
     ]
    }
   ],
   "source": [
    "p1 = P2(42)\n",
    "p1.x = 1001\n",
    "print(p1.x)"
   ]
  },
  {
   "cell_type": "markdown",
   "metadata": {},
   "source": [
    "Würden wir nun die Klasse P2 so wie P umschreiben, bedeutete dies, die Schnittstelle zu brechen. Das Attribut x ist nicht mehr direkt verfügbar. \n",
    "<br> print(p1.x) erzeugt dann einen Fehler.</b>\n",
    "Das ist der Grund, warum in vielen anderen Sprachen empfohlen wird, nur private Attribute mit Getter und Setter zu verwenden, damit man jederzeit die Implementierung ändern kann, ohne die Schnittstelle ändern zu müssen.\n",
    "\n",
    "Python bietet jedoch eine Lösung für dieses Problem. Die Lösung heißt Properties!\n",
    "\n",
    "Die Klasse mit Properties sieht folgendermaßen aus: "
   ]
  },
  {
   "cell_type": "code",
   "execution_count": 16,
   "metadata": {},
   "outputs": [],
   "source": [
    "class P:\n",
    "\n",
    "    def __init__(self, x):\n",
    "        self.set_x(x) \n",
    "\n",
    "    def get_my_att(self):\n",
    "        return self.__x\n",
    "\n",
    "    def set_x(self, x):\n",
    "        if x < 0:\n",
    "            self.__x = 0\n",
    "        elif x > 1000:\n",
    "            self.__x = 1000\n",
    "        else:\n",
    "            self.__x = x\n",
    "\n",
    "    x = property(get_my_att, set_x) #erstes Argument getter, zweites setter\n",
    "    #Name der getter und setter Funktionen get_my_att und set_x unabhängig vom Namen des Attributs (x)\n",
    "    "
   ]
  },
  {
   "cell_type": "markdown",
   "metadata": {},
   "source": [
    "Diese Klasse lässt sich nun so benutzen, als gäbe es ein öffentliches Attribut x. Es gibt aber keines! Der Zugriff auf x erfolgt immer mittels der ```get_my_att``` - Funktion, die natürlich den Zugriff manipulieren könnte z.B. mit der Abfrage eines Passwortes oder Ähnlichem."
   ]
  },
  {
   "cell_type": "code",
   "execution_count": 17,
   "metadata": {},
   "outputs": [
    {
     "name": "stdout",
     "output_type": "stream",
     "text": [
      "122\n"
     ]
    }
   ],
   "source": [
    "p = P(122)\n",
    "\n",
    "y = p.x\n",
    "print(y)"
   ]
  },
  {
   "cell_type": "markdown",
   "metadata": {},
   "source": [
    "Bei der Auswertung von ```p.x``` wurde von Python die Methode ```get_my_att``` aufgerufen, da das erste Argument der property für x immer eine Referenz auf den Getter ist, unabhängig vom dessen Namen. Also ist der folgende Code äquivalent zum vorigen:"
   ]
  },
  {
   "cell_type": "code",
   "execution_count": 18,
   "metadata": {},
   "outputs": [
    {
     "name": "stdout",
     "output_type": "stream",
     "text": [
      "122\n"
     ]
    }
   ],
   "source": [
    "p = P(122)\n",
    "\n",
    "y = p.get_my_att()\n",
    "print(y)"
   ]
  },
  {
   "cell_type": "markdown",
   "metadata": {},
   "source": [
    "Nun weisen wir dem Attribut einen neuen Wert zu:"
   ]
  },
  {
   "cell_type": "code",
   "execution_count": 19,
   "metadata": {},
   "outputs": [
    {
     "name": "stdout",
     "output_type": "stream",
     "text": [
      "44\n"
     ]
    }
   ],
   "source": [
    "p.x = 44\n",
    "\n",
    "# Dies ist äquivalent zu \n",
    "p.set_x(44)\n",
    "\n",
    "print(p.x)"
   ]
  },
  {
   "cell_type": "markdown",
   "metadata": {},
   "source": [
    "In der neuesten Version gibt es jedoch noch ein Problem. Wir haben jetzt zwei Möglichkeiten, auf den Wert von x zuzugreifen oder ihn zu ändern: Entweder mit \"p1.x = 42\" (hier ruft Python automatisch den getter für x auf) oder mit \"p1.set_x(42)\" (wo wir dies selbst tun). Auf diese Weise verletzen wir eine der Grundlagen von Python: \"Es sollte einen - und vorzugsweise nur einen - offensichtlichen Weg geben, dies (hier: etwas) zu tun.\" (Siehe <a href=\"https://www.python-kurs.eu/python3_entstehung_python.php\">Zen of Python</a>) </p>\n",
    "<p> Wir können dieses Problem leicht beheben, indem wir die Getter- und die Setter-Methode in private Methoden umwandeln, auf die User unserer Klasse P nicht mehr zugreifen können: "
   ]
  },
  {
   "cell_type": "code",
   "execution_count": 20,
   "metadata": {},
   "outputs": [],
   "source": [
    "class P:\n",
    "\n",
    "    def __init__(self, x):\n",
    "        self.__set_x(x)\n",
    "\n",
    "    def __get_x(self): #jetzt privat\n",
    "        return self.__x\n",
    "\n",
    "    def __set_x(self, x): #jetzt privat\n",
    "        if x < 0:\n",
    "            self.__x = 0\n",
    "        elif x > 1000:\n",
    "            self.__x = 1000\n",
    "        else:\n",
    "            self.__x = x\n",
    "\n",
    "    x = property(__get_x, __set_x) #jetzt geänderte Namen"
   ]
  },
  {
   "cell_type": "code",
   "execution_count": 21,
   "metadata": {},
   "outputs": [
    {
     "name": "stdout",
     "output_type": "stream",
     "text": [
      "44\n"
     ]
    },
    {
     "ename": "AttributeError",
     "evalue": "'P' object has no attribute 'set_x'",
     "output_type": "error",
     "traceback": [
      "\u001b[1;31m---------------------------------------------------------------------------\u001b[0m",
      "\u001b[1;31mAttributeError\u001b[0m                            Traceback (most recent call last)",
      "\u001b[1;32m<ipython-input-21-1621b2e5f152>\u001b[0m in \u001b[0;36m<module>\u001b[1;34m\u001b[0m\n\u001b[0;32m      3\u001b[0m \u001b[0mprint\u001b[0m\u001b[1;33m(\u001b[0m\u001b[0mp\u001b[0m\u001b[1;33m.\u001b[0m\u001b[0mx\u001b[0m\u001b[1;33m)\u001b[0m\u001b[1;33m\u001b[0m\u001b[1;33m\u001b[0m\u001b[0m\n\u001b[0;32m      4\u001b[0m \u001b[1;31m# Dies ist äquivalent zu\u001b[0m\u001b[1;33m\u001b[0m\u001b[1;33m\u001b[0m\u001b[1;33m\u001b[0m\u001b[0m\n\u001b[1;32m----> 5\u001b[1;33m \u001b[0mp\u001b[0m\u001b[1;33m.\u001b[0m\u001b[0mset_x\u001b[0m\u001b[1;33m(\u001b[0m\u001b[1;36m44\u001b[0m\u001b[1;33m)\u001b[0m\u001b[1;33m\u001b[0m\u001b[1;33m\u001b[0m\u001b[0m\n\u001b[0m\u001b[0;32m      6\u001b[0m \u001b[1;33m\u001b[0m\u001b[0m\n\u001b[0;32m      7\u001b[0m \u001b[1;33m\u001b[0m\u001b[0m\n",
      "\u001b[1;31mAttributeError\u001b[0m: 'P' object has no attribute 'set_x'"
     ]
    }
   ],
   "source": [
    "p=P(122)\n",
    "p.x = 44\n",
    "print(p.x)\n",
    "# Dies ist äquivalent zu \n",
    "p.set_x(44)\n",
    "\n",
    "\n",
    "print(p.set_x) #geht nicht mehr\n"
   ]
  },
  {
   "cell_type": "markdown",
   "metadata": {},
   "source": [
    "Python wäre jedoch nicht Python, wenn es nicht noch einen eleganteren Weg gäbe. Dieser geht mit Dekorateuren. \n",
    "\n",
    "Die Methode, die zum Abrufen eines Werts - also der Getter  - verwendet wird, wird mit \"@property\" dekoriert, d.h. wir setzen diese Zeile direkt vor den Header der Funktion. Der Name der Funktion entspricht jetzt einfach dem Namen der Property, in unserem Fall also ```x```. Die Methode, die als Setter fungieren muss, wird mit \"@x.setter\" dekoriert. Wenn die Property \"foo\" genannt worden wäre, um das Attribute foo zu setzen, müssten wir folglich die Setter-Funktionalität  mit \"@foo.setter\" dekorieren. Hier sind also Dekorateur und Attributnamen gekoppelt! <br><br>Zwei Dinge sind bemerkenswert: <br><ul><li>Wir setzen einfach die Codezeile \"self.x = x\" in die ```__init__``` -Methode und die Property-Methode x wird verwendet, um die Grenzen der Werte zu überprüfen.<li> Wir haben \"zwei\" Methoden mit demselben Namen und einer unterschiedlichen Anzahl von Parametern \"def x (self)\" und \"def x (self, x)\" geschrieben.</ul> Wir haben in einem früheren Kapitel unseres Kurses gelernt, dass dies nicht möglich ist. Es funktioniert hier nur aufgrund der Dekoration: "
   ]
  },
  {
   "cell_type": "code",
   "execution_count": 22,
   "metadata": {},
   "outputs": [],
   "source": [
    "class P:\n",
    "\n",
    "    def __init__(self,x,y=1):\n",
    "        self.x = x\n",
    "        self.y = y\n",
    "\n",
    "    @property\n",
    "    def x(self): #achte auf den Namen der Funktion\n",
    "        return self.__x\n",
    "    @property\n",
    "    def y(self):\n",
    "        return self.__y\n",
    "    @x.setter\n",
    "    def x(self, x): #o weh, derselbe Name aber andere Parameterzahl!\n",
    "        if x < 0:\n",
    "            self.__x = 0\n",
    "        elif x > 1000:\n",
    "            self.__x = 1000\n",
    "        else:\n",
    "            self.__x = x\n",
    "    @y.setter\n",
    "    def y(self,y):\n",
    "        self.__y = \"bla\""
   ]
  },
  {
   "cell_type": "code",
   "execution_count": 23,
   "metadata": {},
   "outputs": [
    {
     "name": "stdout",
     "output_type": "stream",
     "text": [
      "1000\n",
      "bla\n",
      "0\n"
     ]
    }
   ],
   "source": [
    "p1 = P(9999,2)\n",
    "print(p1.x)\n",
    "\n",
    "p2 = P(522,4)\n",
    "print(p2.y)\n",
    "\n",
    "p3 = P(-1900)\n",
    "print(p3.x)"
   ]
  },
  {
   "cell_type": "markdown",
   "metadata": {},
   "source": [
    "\n",
    "\n",
    "<img class=\"imgright\" src=\"../images/marvin2.webp\" alt=\"Roboter mit Herz und Gefühlen\" width=\"250\">\n",
    "\n",
    "\n",
    "Nach dem, was wir bisher geschrieben haben und was auch in anderen Büchern und Tutorials zu sehen ist, könnten wir leicht den Eindruck gewinnen, dass es eine Eins-zu-Eins-Verbindung zwischen Properties und den Attributen geben sollte, d.h. jedes Attribut hat oder sollte eine eigene Property haben und umgekehrt. Selbst in anderen objektorientierten Sprachen als Python ist es normalerweise keine gute Idee, eine solche Klasse zu implementieren. Der Hauptgrund ist, dass viele Attribute nur intern benötigt werden, und das Erstellen von Schnittstellen für den Benutzer der Klasse die Benutzerfreundlichkeit der Klasse unnötig erhöht. Die möglichen User einer Klasse sollten nicht in unzähligen - hauptsächlich unnötigen - Methoden oder Properties \"ertrinken\"!\n",
    "\n",
    "Das folgende Beispiel zeigt eine Klasse mit internen Attributen, auf die von außen nicht zugegriffen werden kann. Dies sind die privaten Attribute ```self.__potential_physical```  und ```self.__potential_psychic```.\n",
    " Darüber hinaus zeigen wir, dass eine Property auch aus den Werten von mehr als einem Attribut abgeleitet werden kann. Die Property  \"condition\" unseres folgenden Beispiels gibt den Zustand des Roboters in einer beschreibenden Zeichenfolge zurück. Der Zustand hängt von der Summe der Werte des psychischen und des physischen Zustands des Roboters ab:"
   ]
  },
  {
   "cell_type": "code",
   "execution_count": 25,
   "metadata": {},
   "outputs": [
    {
     "name": "stdout",
     "output_type": "stream",
     "text": [
      "Es geht mir gut!\n",
      "Fühle mich schlecht!\n"
     ]
    }
   ],
   "source": [
    "\n",
    "\n",
    "class Robot:\n",
    "\n",
    "    def __init__(self, name, build_year, lk = 0.5, lp = 0.5 ):\n",
    "        self.name = name\n",
    "        self.build_year = build_year\n",
    "        self.__potential_physical = lk #nur zum internen Gebrauch\n",
    "        self.__potential_psychic = lp #nur zum internen Gebrauch\n",
    "\n",
    "    @property \n",
    "    def condition(self): #getter für condition\n",
    "        s = self.__potential_physical + self.__potential_psychic\n",
    "        if s <= -1:\n",
    "           return \"Fühle mich miserabel!\"\n",
    "        elif s <= 0:\n",
    "           return \"Fühle mich schlecht!\"\n",
    "        elif s <= 0.5:\n",
    "           return \"Könnte besser sein!\"\n",
    "        elif s <= 1:\n",
    "           return \"Es geht mir gut!\"\n",
    "        else:\n",
    "           return \"Super!\" \n",
    "\n",
    "    \n",
    "x = Robot(\"Marvin\", 1979, 0.2, 0.4 )\n",
    "y = Robot(\"Caliban\", 1993, -0.4, 0.3)\n",
    "print(x.condition)\n",
    "print(y.condition)"
   ]
  },
  {
   "cell_type": "markdown",
   "metadata": {},
   "source": [
    "### Öffentliche statt private Attribute\n",
    "\n",
    "Fassen wir die Verwendung privater und öffentlicher Attribute, Getter und Setter sowie Properties zusammen: Nehmen wir an, wir entwerfen eine neue Klasse und denken über eine Instanz oder ein Attribut \"OurAtt\" nach, die wir für das Design unserer Klasse benötigen. Dazu müssen wir folgende Punkte beachten:\n",
    "\n",
    "- Wird der Wert von \"OurAtt\" von den <b>möglichen Usern</b> unserer Klasse wirklich benötigt?\n",
    "- Wenn nicht, können oder sollten wir es zu einem privaten Attribut machen.\n",
    "- Wenn darauf zugegriffen werden muss, machen wir es als öffentliches Attribut zugänglich\n",
    "- Wir definieren es als privates Attribut mit der korrespondierender Property, wenn und nur wenn wir einige Überprüfungen oder Transformationen der Daten durchführen müssen. (Als Beispiel können Sie sich noch einmal unsere Klasse P ansehen, in der das Attribut im Intervall zwischen 0 und 1000 liegen muss.)\n",
    "- Alternativ können Sie einen Getter und einen Setter verwenden, aber die Verwendung einer Property ist der pythonische Weg, um damit umzugehen!\n",
    "\n",
    "Nehmen wir an, wir haben \"OurAtt\" als öffentliches Attribut definiert."
   ]
  },
  {
   "cell_type": "code",
   "execution_count": 26,
   "metadata": {},
   "outputs": [
    {
     "name": "stdout",
     "output_type": "stream",
     "text": [
      "10\n"
     ]
    }
   ],
   "source": [
    "class OurClass:\n",
    "\n",
    "    def __init__(self, a):\n",
    "        self.OurAtt = a\n",
    "\n",
    "\n",
    "x = OurClass(10)\n",
    "print(x.OurAtt)"
   ]
  },
  {
   "cell_type": "markdown",
   "metadata": {},
   "source": [
    " Unsere Klasse wird seit einiger Zeit erfolgreich von anderen Benutzern verwendet. Jetzt kommt der Punkt, der einige traditionelle OOPistas aufschreckt: Stellen Sie sich vor, \"OurAtt\" wurde als Ganzzahl verwendet. Jetzt muss unsere Klasse sicherstellen, dass \"OurAtt\" einen Wert zwischen 0 und 1000 haben muss? Ohne Property, also wenn Python diese Möglichkeit nicht kennen würde, wäre dies wirklich ein schreckliches Szenario! Aufgrund von Properties ist es jedoch einfach: Wir erstellen eine Property-Version von \"OurAtt\". "
   ]
  },
  {
   "cell_type": "code",
   "execution_count": 27,
   "metadata": {},
   "outputs": [
    {
     "name": "stdout",
     "output_type": "stream",
     "text": [
      "10\n"
     ]
    }
   ],
   "source": [
    "class OurClass:\n",
    "\n",
    "    def __init__(self, a):\n",
    "        self.OurAtt = a\n",
    "\n",
    "    @property\n",
    "    def OurAtt(self):\n",
    "        return self.__OurAtt\n",
    "\n",
    "    @OurAtt.setter\n",
    "    def OurAtt(self, val):\n",
    "        if val < 0:\n",
    "            self.__OurAtt = 0\n",
    "        elif val > 1000:\n",
    "            self.__OurAtt = 1000\n",
    "        else:\n",
    "            self.__OurAtt = val\n",
    "\n",
    "\n",
    "x = OurClass(10)\n",
    "print(x.OurAtt)"
   ]
  },
  {
   "cell_type": "markdown",
   "metadata": {},
   "source": [
    "<h3>Fußnoten</h3>\n",
    "<sup>1</sup>\n",
    "<br>\n",
    "Isaac Asimov formulierte in seiner Kurzgeschichte ,,Runaround'' (Astounding, 1942) die Robotergesetze. Sie werden deshalb nach ihm auch als ,,Asimowsche Gesetze'' bezeichnet.\n",
    "<br><br>\n",
    "<sup>2</sup>\n",
    "<br>\n",
    "Dies entspricht einem der 20 Grundsätze von Python, die Tim Peters in ,,The Zen of Python'' formuliert hatte: ,,There should be one-- and preferably only one --obvious way to do it.'' (Deutsch: ,,Es sollte einen --- und bevorzugt genau einen --- offensichtlichen Weg geben, es zu tun.'')\n",
    "<br><br><br>\n"
   ]
  }
 ],
 "metadata": {
  "kernelspec": {
   "display_name": "Python 3",
   "language": "python",
   "name": "python3"
  },
  "language_info": {
   "codemirror_mode": {
    "name": "ipython",
    "version": 3
   },
   "file_extension": ".py",
   "mimetype": "text/x-python",
   "name": "python",
   "nbconvert_exporter": "python",
   "pygments_lexer": "ipython3",
   "version": "3.8.8"
  }
 },
 "nbformat": 4,
 "nbformat_minor": 4
}
