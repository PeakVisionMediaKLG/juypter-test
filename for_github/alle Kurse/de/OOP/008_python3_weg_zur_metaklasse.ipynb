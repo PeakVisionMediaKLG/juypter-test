{
 "cells": [
  {
   "cell_type": "markdown",
   "metadata": {},
   "source": [
    "## Auf dem Weg zu Metaklassen\n",
    "### Motivation für Metaklassen"
   ]
  },
  {
   "cell_type": "markdown",
   "metadata": {},
   "source": [
    "<img src=\"../images/road_to_metaclasses.webp\" alt=\"on the road to metaclasses\">"
   ]
  },
  {
   "cell_type": "markdown",
   "metadata": {},
   "source": [
    "In diesem Kapitel unseres Tutorials möchten wir einige Anreize oder Motivationen für die Verwendung von Metaklassen bieten. Um einige Designprobleme zu demonstrieren, die durch Metaklassen gelöst werden können, werden wir eine Reihe von Philosophenklassen vorstellen und entwerfen. Jede Philosophenklasse (Philosoph1, Philosoph2 usw.) benötigt dieselbe \"Menge\" von Methoden (in unserem Beispiel nur eine, d. h. die_antwort) als Grundlage für das Nachdenken und Grübeln. Man sollte sich natürlich vorstellen, dass die KLassen noch unterschiedliche Methoden haben, die wir aber nicht implementiert haben. Eine dumme Art, die Klassen zu implementieren, wäre, in jeder Philosphenklasse den gleichen Code für `die_antwort` zu haben:"
   ]
  },
  {
   "cell_type": "code",
   "execution_count": 2,
   "metadata": {},
   "outputs": [
    {
     "name": "stdout",
     "output_type": "stream",
     "text": [
      "42\n",
      "42\n"
     ]
    }
   ],
   "source": [
    "class Philosoph1(object): \n",
    "    \n",
    "    def die_antwort(self, *args):              \n",
    "        return 42\n",
    "\n",
    "class Philosoph2(object): \n",
    "\n",
    "    def die_antwort(self, *args):              \n",
    "        return 42\n",
    "\n",
    "class Philosoph3(object): \n",
    "\n",
    "    def die_antwort(self, *args):              \n",
    "        return 42\n",
    "\n",
    "plato = Philosoph1()\n",
    "print (plato.die_antwort())\n",
    "\n",
    "kant = Philosoph2()\n",
    "# lass uns sehen was Kant zu sagen hat :-)\n",
    "print (kant.die_antwort())"
   ]
  },
  {
   "cell_type": "markdown",
   "metadata": {},
   "source": [
    "Wir können sehen, dass wir mehrere Kopien der Methode \"die_antwort\" haben. Dies ist natürlich fehleranfällig und mühsam zu warten.\n",
    "\n",
    "Nach dem, was wir bisher wissen, besteht der einfachste Weg, unser Ziel zu erreichen, ohne redundanten Code zu erstellen, darin, eine Basis zu entwerfen, die \"die_antwort\" als Methode enthält. Jetzt erbt jede Philosophenklasse von dieser Basisklasse:"
   ]
  },
  {
   "cell_type": "code",
   "execution_count": 3,
   "metadata": {},
   "outputs": [
    {
     "name": "stdout",
     "output_type": "stream",
     "text": [
      "42\n",
      "42\n"
     ]
    }
   ],
   "source": [
    "class Antworten(object):\n",
    "\n",
    "    def die_antwort(self, *args):              \n",
    "        return 42\n",
    "    \n",
    "\n",
    "class Philosoph1(Antworten): \n",
    "    pass\n",
    "\n",
    "class Philosoph2(Antworten): \n",
    "    pass\n",
    "\n",
    "class Philosoph3(Antworten): \n",
    "    pass\n",
    "\n",
    "plato = Philosoph1()\n",
    "print(plato.die_antwort())\n",
    "\n",
    "kant = Philosoph2()\n",
    "# lass uns sehen was Kant zu sagen hat :-)\n",
    "print(kant.die_antwort())"
   ]
  },
  {
   "cell_type": "markdown",
   "metadata": {},
   "source": [
    "So wie wir unsere Klassen entworfen haben, wird jede Philosophen-Klasse immer eine Methode \"die_antwort\" haben. Nehmen wir an, wir wissen nicht von vornherein, ob wir diese Methode wollen oder brauchen. Nehmen wir an, dass die Entscheidung, ob die Klassen erweitert werden müssen, nur zur Laufzeit getroffen werden kann. Diese Entscheidung kann von Konfigurationsdateien, Benutzereingaben oder einigen Berechnungen abhängen."
   ]
  },
  {
   "cell_type": "code",
   "execution_count": 5,
   "metadata": {},
   "outputs": [
    {
     "name": "stdin",
     "output_type": "stream",
     "text": [
      "Benötigst du die Antwort?? (j/n):  j\n"
     ]
    },
    {
     "name": "stdout",
     "output_type": "stream",
     "text": [
      "42\n",
      "42\n"
     ]
    }
   ],
   "source": [
    "#Die folgende Variable wird als Ergebnis einer Laufzeitberechnung festgelegt:\n",
    "x = input(\"Benötigst du die Antwort?? (j/n): \")\n",
    "if x == \"j\":\n",
    "    benötigt = True\n",
    "else:\n",
    "    benötigt = False\n",
    "    \n",
    "def die_antwort(self, *args):              \n",
    "        return 42\n",
    "\n",
    "class Philosoph1(object): \n",
    "    pass\n",
    "if benötigt:\n",
    "    Philosoph1.die_antwort = die_antwort\n",
    "\n",
    "class Philosoph2(object): \n",
    "    pass\n",
    "if benötigt:\n",
    "    Philosoph2.die_antwort = die_antwort\n",
    "\n",
    "class Philosoph3(object): \n",
    "    pass\n",
    "if benötigt:\n",
    "    Philosoph3.die_antwort = die_antwort\n",
    "    \n",
    "    \n",
    "plato = Philosoph1()\n",
    "kant = Philosoph2()\n",
    "\n",
    "# lass uns sehen was Kant und Plato zu sagen haben :-)\n",
    "if benötigt:\n",
    "    print(kant.die_antwort())\n",
    "    print(plato.die_antwort()) \n",
    "else:\n",
    "    print(\"Das Schweigen der Philosophen\")"
   ]
  },
  {
   "cell_type": "markdown",
   "metadata": {},
   "source": [
    "Obwohl dies eine weitere Lösung für unser Problem ist, gibt es dennoch einige schwerwiegende Nachteile. Es ist fehleranfällig, da wir jeder Klasse den gleichen Code hinzufügen müssen, und es sehr gut möglich ist, dass wir es vergessen. Außerdem wird es kaum beherrschbar und vielleicht sogar verwirrend, wenn es viele Methoden gibt, die wir hinzufügen möchten.\n",
    "\n",
    "Wir können unseren Ansatz verbessern, indem wir eine Managerfunktion definieren und auf diese Weise redundanten Code vermeiden. Die Manager-Funktion wird verwendet, um die Klassen bedingt zu erweitern."
   ]
  },
  {
   "cell_type": "code",
   "execution_count": 6,
   "metadata": {},
   "outputs": [
    {
     "name": "stdin",
     "output_type": "stream",
     "text": [
      "Benötigst du die Antwort?? (j/n):'?  j\n"
     ]
    },
    {
     "name": "stdout",
     "output_type": "stream",
     "text": [
      "42\n",
      "42\n"
     ]
    }
   ],
   "source": [
    "x = input(\"Benötigst du die Antwort?? (j/n):'? \")\n",
    "if x == \"j\":\n",
    "    benötigt = True\n",
    "else:\n",
    "    benötigt = False\n",
    "    \n",
    "\n",
    "def die_antwort(self, *args):              \n",
    "        return 42\n",
    "\n",
    "# Managerfunktion\n",
    "def augment_antwort(cls):                      \n",
    "    if benötigt:\n",
    "        cls.die_antwort = die_antwort\n",
    "        \n",
    "    \n",
    "class Philosoph1(object): \n",
    "    pass\n",
    "augment_antwort(Philosoph1)\n",
    "\n",
    "class Philosoph2(object): \n",
    "    pass\n",
    "augment_antwort(Philosoph2)\n",
    "\n",
    "class Philosoph3(object): \n",
    "    pass\n",
    "augment_antwort(Philosoph3)\n",
    "    \n",
    "    \n",
    "plato = Philosoph1()\n",
    "kant = Philosoph2()\n",
    "\n",
    "# lass uns sehen was Kant und Plato zu sagen haben :-)\n",
    "if benötigt:\n",
    "    print(kant.die_antwort())\n",
    "    print(plato.die_antwort())\n",
    "else:\n",
    "    print(\"Das Schweigen der Philosophen\")"
   ]
  },
  {
   "cell_type": "markdown",
   "metadata": {},
   "source": [
    "Auch wenn dies besser ist als die vorige Lösung, müssen wir, d. h. die Klassendesigner, darauf achten, dass wir unmittelbar nach der Klassendefinition die Managerfunktion aufrufen. Besser wäre es, wenn der Code automatisch ausgeführt würde. Wir brauchen einen Weg\n",
    "um sicherzustellen, dass bestimmter Code nach dem Ende einer Klassendefinition automatisch ausgeführt werden."
   ]
  },
  {
   "cell_type": "code",
   "execution_count": 7,
   "metadata": {},
   "outputs": [
    {
     "name": "stdin",
     "output_type": "stream",
     "text": [
      "Benötigst du die Antwort?? (j/n):'?  j\n"
     ]
    },
    {
     "name": "stdout",
     "output_type": "stream",
     "text": [
      "42\n",
      "42\n"
     ]
    }
   ],
   "source": [
    "x = input(\"Benötigst du die Antwort?? (j/n):'? \")\n",
    "if x== \"j\":\n",
    "    benötigt = True\n",
    "else:\n",
    "    benötigt = False\n",
    "def die_antwort(self, *args):              \n",
    "        return 42\n",
    "\n",
    "def augment_antwort(cls):                      \n",
    "    if benötigt:\n",
    "        cls.die_antwort = die_antwort\n",
    "    # wir müssen jetzt die Klasse zurückgeben:\n",
    "    return cls\n",
    "        \n",
    "@augment_antwort\n",
    "class Philosoph1(object): \n",
    "    pass\n",
    "\n",
    "@augment_antwort\n",
    "class Philosoph2(object): \n",
    "    pass\n",
    "\n",
    "@augment_antwort\n",
    "class Philosoph3(object): \n",
    "    pass\n",
    "    \n",
    "plato = Philosoph1()\n",
    "kant = Philosoph2()\n",
    "    \n",
    "#lass uns sehen was Kant und Plato zu sagen haben :-)\n",
    "if benötigt:\n",
    "    print(kant.die_antwort())\n",
    "    print(plato.die_antwort())\n",
    "else:\n",
    "    print(\"Das Schweigen der Philosophen\")"
   ]
  },
  {
   "cell_type": "markdown",
   "metadata": {},
   "source": [
    "Zu diesem Zweck können auch Metaklassen verwendet werden, wie wir im nächsten Kapitel erfahren werden."
   ]
  }
 ],
 "metadata": {
  "kernelspec": {
   "display_name": "Python 3",
   "language": "python",
   "name": "python3"
  },
  "language_info": {
   "codemirror_mode": {
    "name": "ipython",
    "version": 3
   },
   "file_extension": ".py",
   "mimetype": "text/x-python",
   "name": "python",
   "nbconvert_exporter": "python",
   "pygments_lexer": "ipython3",
   "version": "3.8.8"
  }
 },
 "nbformat": 4,
 "nbformat_minor": 4
}
