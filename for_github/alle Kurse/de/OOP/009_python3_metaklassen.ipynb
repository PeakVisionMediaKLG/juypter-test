{
 "cells": [
  {
   "cell_type": "markdown",
   "metadata": {},
   "source": [
    "## Metaklasse"
   ]
  },
  {
   "cell_type": "markdown",
   "metadata": {},
   "source": [
    "<img src=\"../images/klein_bottle.webp\" alt=\"metaclasses: klein bottle\">"
   ]
  },
  {
   "cell_type": "markdown",
   "metadata": {},
   "source": [
    "Eine Metaklasse ist eine Klasse, deren Instanzen Klassen sind. Wie eine \"normale\" Klasse das Verhalten der Instanzen der Klasse definiert, definiert eine Metaklasse das Verhalten von Klassen und ihren Instanzen.\n",
    "\n",
    "Metaklassen werden nicht von jeder objektorientierten Programmiersprache unterstützt. Die Programmiersprachen, die Metaklassen unterstützen, unterscheiden sich erheblich in der Art und Weise, wie sie implementiert werden. Python unterstützt Metaklassen.\n",
    "\n",
    "Einige Programmierer sehen Metaklassen in Python als \"Lösungen, die auf ein Problem warten oder suchen\".\n",
    "\n",
    "Es gibt zahlreiche Anwendungsfälle für Metaklassen. Nur um ein paar zu nennen:\n",
    "\n",
    "\n",
    "- Protokollierung (logging) und Profilerstellung\n",
    "- Konsistenzprüfung von Schnittstellen\n",
    "- Registrieren von Klassen zur Erstellungszeit\n",
    "- automatisches Hinzufügen neuer Methoden\n",
    "- automatische Erstellung von Properties\n",
    "- Proxies\n",
    "- automatische Ressourcensperre und Synchronisation."
   ]
  },
  {
   "cell_type": "markdown",
   "metadata": {},
   "source": [
    "### Metaklassen definieren"
   ]
  },
  {
   "cell_type": "markdown",
   "metadata": {},
   "source": [
    "Grundsätzlich werden Metaklassen wie jede andere Python-Klasse definiert, aber sie sind Klassen, die von `type` erben. Ein weiterer Unterschied besteht darin, dass eine Metaklasse automatisch aufgerufen wird, wenn die Klassenanweisung mit einer Metaklasse endet. Mit anderen Worten: Wenn nach den Basisklassen (möglicherweise gibt es auch keine Basisklassen) des Klassenkopfs kein Schlüsselwort \"metaclass\" übergeben wird, wird `type()` (d. h. ```__call__``` von der  `type`-Klasse) aufgerufen. Wenn andererseits ein Metaklassen-Schlüsselwort verwendet wird, wird die ihm zugewiesene Klasse anstelle des Typs aufgerufen.\n",
    "\n",
    "Jetzt erstellen wir eine sehr einfache Metaklasse. Sie ist für nichts nützlich, außer dass sie den Inhalt ihrer Argumente in der Methode ```__new__``` ausgibt und die Ergebnisse des Aufrufs ```type.__new__``` zurückliefert:"
   ]
  },
  {
   "cell_type": "code",
   "execution_count": 4,
   "metadata": {},
   "outputs": [],
   "source": [
    "class LittleMeta(type):\n",
    "    def __new__(cls, clsname, superclasses, attributedict):\n",
    "        print(\"clsname: \", clsname)\n",
    "        print(\"superclasses: \", superclasses)\n",
    "        print(\"attributedict: \", attributedict)\n",
    "        return type.__new__(cls, clsname, superclasses, attributedict)"
   ]
  },
  {
   "cell_type": "markdown",
   "metadata": {},
   "source": [
    "Wir werden die Metaklasse \"LittleMeta\" im folgenden Beispiel verwenden:"
   ]
  },
  {
   "cell_type": "code",
   "execution_count": 5,
   "metadata": {},
   "outputs": [
    {
     "name": "stdout",
     "output_type": "stream",
     "text": [
      "clsname:  A\n",
      "superclasses:  (<class '__main__.S'>,)\n",
      "attributedict:  {'__module__': '__main__', '__qualname__': 'A'}\n"
     ]
    }
   ],
   "source": [
    "class S:\n",
    "    pass\n",
    "\n",
    "\n",
    "class A(S, metaclass=LittleMeta):\n",
    "    pass\n",
    "\n",
    "\n",
    "a = A()"
   ]
  },
  {
   "cell_type": "markdown",
   "metadata": {},
   "source": [
    "Wir können sehen, dass ```LittleMeta.__ new__``` aufgerufen wurde und nicht ``` type.__ new__```.\n",
    "\n",
    "Wiederaufnahme unseres Threads aus dem letzten Kapitel: Wir definieren eine Metaklasse `EssentialAnswers`, die unsere `augment_answer`-Methode automatisch einbinden kann:"
   ]
  },
  {
   "cell_type": "code",
   "execution_count": 7,
   "metadata": {},
   "outputs": [
    {
     "name": "stdin",
     "output_type": "stream",
     "text": [
      "Benötigst du die Antwort=? (j/n):  j\n"
     ]
    },
    {
     "name": "stdout",
     "output_type": "stream",
     "text": [
      "42\n",
      "42\n"
     ]
    }
   ],
   "source": [
    "x = input(\"Benötigst du die Antwort=? (j/n): \")\n",
    "if x.lower() == \"j\":\n",
    "    benötigt = True\n",
    "else:\n",
    "    benötigt = False\n",
    "\n",
    "    \n",
    "def der_antwort(self, *args):              \n",
    "    return 42\n",
    "\n",
    "    \n",
    "class EssentialAnswers(type):\n",
    "    \n",
    "    def __init__(cls, clsname, superclasses, attributedict):\n",
    "        if benötigt:\n",
    "            cls.der_antwort = der_antwort\n",
    "                           \n",
    "    \n",
    "class Philosoph1(metaclass=EssentialAnswers): \n",
    "    pass\n",
    "\n",
    "\n",
    "class Philosoph2(metaclass=EssentialAnswers): \n",
    "    pass\n",
    "\n",
    "\n",
    "class Philosoph3(metaclass=EssentialAnswers): \n",
    "    pass\n",
    "    \n",
    "    \n",
    "plato = Philosoph1()\n",
    "print(plato.der_antwort())\n",
    "\n",
    "\n",
    "kant = Philosoph2()\n",
    "# lass uns sehen was Kant zu sagen hat :-)\n",
    "print(kant.der_antwort())"
   ]
  },
  {
   "cell_type": "markdown",
   "metadata": {},
   "source": [
    "In unserem Kapitel \"Typ- und Klassenbeziehung\" haben wir erfahren, dass Python nach der Verarbeitung der Klassendefinition aufruft\n",
    "\n",
    "<pre>type(classname, superclasses, attributes_dict)</pre>\n",
    "\n",
    "Dies ist nicht der Fall, wenn im Header eine Metaklasse deklariert wurde. Das haben wir in unserem vorherigen Beispiel getan. Unsere Klassen Philosoph1, Philosoph2 und Philosoph3 wurden mit der Metaklasse EssentialAnswers verknüpft. Aus diesem Grund wird EssentialAnswer anstelle von type aufgerufen:\n",
    "\n",
    "<pre>EssentialAnswer(classname, superclasses, attributes_dict)</pre>\n",
    "\n",
    "Um genau zu sein, werden für die Argumente der Aufrufe die folgenden Werte festgelegt:\n",
    "\n",
    "<pre>\n",
    "EssentialAnswer('Philopsopher1', \n",
    "                (), \n",
    "                {'__module__': '__main__', '__qualname__': 'Philosopher1'})\n",
    "</pre>\n",
    "\n",
    "Die anderen Philosophenklassen werden analog behandelt."
   ]
  },
  {
   "cell_type": "markdown",
   "metadata": {},
   "source": [
    "### Erstellen von Singletons mit Metaklassen"
   ]
  },
  {
   "cell_type": "markdown",
   "metadata": {},
   "source": [
    "Das Singleton-Muster ist ein Entwurfsmuster, das die Instanziierung einer Klasse auf ein Objekt beschränkt. Es wird in Fällen verwendet, in denen genau ein Objekt benötigt wird. Das Konzept kann verallgemeinert werden, um die Instanziierung auf eine bestimmte oder feste Anzahl von Objekten zu beschränken. Der Begriff stammt aus der Mathematik, wo ein Singleton - auch als Einheitensatz bezeichnet - für Mengen mit genau einem Element verwendet wird."
   ]
  },
  {
   "cell_type": "code",
   "execution_count": 8,
   "metadata": {},
   "outputs": [
    {
     "name": "stdout",
     "output_type": "stream",
     "text": [
      "True\n",
      "False\n"
     ]
    }
   ],
   "source": [
    "class Singleton(type):\n",
    "    _instances = {}\n",
    "    def __call__(cls, *args, **kwargs):\n",
    "        if cls not in cls._instances:\n",
    "            cls._instances[cls] = super(Singleton, cls).__call__(*args, **kwargs)\n",
    "        return cls._instances[cls]\n",
    "    \n",
    "    \n",
    "class SingletonClass(metaclass=Singleton):\n",
    "    pass\n",
    "\n",
    "\n",
    "class RegularClass():\n",
    "    pass\n",
    "\n",
    "\n",
    "x = SingletonClass()\n",
    "y = SingletonClass()\n",
    "print(x == y)\n",
    "\n",
    "\n",
    "x = RegularClass()\n",
    "y = RegularClass()\n",
    "print(x == y)"
   ]
  },
  {
   "cell_type": "markdown",
   "metadata": {},
   "source": [
    "### Erstellen von Singletons mit Metaklassen\n",
    "\n",
    "Alternativ können wir Singleton-Klassen erstellen, indem wir von einer Singleton-Klasse erben, die wie folgt definiert werden kann:"
   ]
  },
  {
   "cell_type": "code",
   "execution_count": 9,
   "metadata": {},
   "outputs": [
    {
     "name": "stdout",
     "output_type": "stream",
     "text": [
      "True\n",
      "False\n"
     ]
    }
   ],
   "source": [
    "class Singleton(object):\n",
    "    _instance = None\n",
    "    def __new__(cls, *args, **kwargs):\n",
    "        if not cls._instance:\n",
    "            cls._instance = object.__new__(cls, *args, **kwargs)\n",
    "        return cls._instance\n",
    "\n",
    "    \n",
    "class SingletonClass(Singleton):\n",
    "    pass\n",
    "\n",
    "class RegularClass():\n",
    "    pass\n",
    "\n",
    "\n",
    "x = SingletonClass()\n",
    "y = SingletonClass()\n",
    "print(x == y)\n",
    "\n",
    "\n",
    "x = RegularClass()\n",
    "y = RegularClass()\n",
    "print(x == y)"
   ]
  }
 ],
 "metadata": {
  "anaconda-cloud": {},
  "kernelspec": {
   "display_name": "Python 3",
   "language": "python",
   "name": "python3"
  },
  "language_info": {
   "codemirror_mode": {
    "name": "ipython",
    "version": 3
   },
   "file_extension": ".py",
   "mimetype": "text/x-python",
   "name": "python",
   "nbconvert_exporter": "python",
   "pygments_lexer": "ipython3",
   "version": "3.8.5"
  }
 },
 "nbformat": 4,
 "nbformat_minor": 4
}
