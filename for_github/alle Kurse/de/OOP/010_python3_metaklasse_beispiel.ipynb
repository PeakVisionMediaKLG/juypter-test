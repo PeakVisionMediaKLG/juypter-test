{
 "cells": [
  {
   "cell_type": "markdown",
   "metadata": {},
   "source": [
    "## Count Method Calls mit einer Metaklasse"
   ]
  },
  {
   "cell_type": "markdown",
   "metadata": {},
   "source": [
    "<br>"
   ]
  },
  {
   "cell_type": "markdown",
   "metadata": {},
   "source": [
    "### Einführung"
   ]
  },
  {
   "cell_type": "markdown",
   "metadata": {},
   "source": [
    "<img width=335 src=\"../images/count_function_calls.webp\" srcset=\"../images/count_function_calls_400w.webp 400w,../images/count_function_calls_350w.webp 350w,../images/count_function_calls_300w.webp 300w\" alt=\"Counting Function Calls\">"
   ]
  },
  {
   "cell_type": "markdown",
   "metadata": {},
   "source": [
    "Nachdem Sie hoffentlich unser Kapitel [Einführung in Metaklassen](https://www.python-course.eu/python3_metaklassen.php) durchgearbeitet haben, haben Sie sich möglicherweise nach den möglichen Anwendungsfällen für Metaklassen gefragt. Es gibt einige interessante Anwendungsfälle, und es ist nicht - wie manche sagen - eine Lösung, die auf ein Problem wartet. Wir haben bereits einige Beispiele erwähnt.\n",
    "\n",
    "In diesem Kapitel unseres Tutorials zu Python möchten wir eine beispielhafte Metaklasse erarbeiten, die die Methoden der Unterklasse dekoriert. Die vom Dekorateur zurückgegebene dekorierte Funktion ermöglicht es, zu zählen, wie oft jede Methode der Unterklasse aufgerufen wurde.\n",
    "\n",
    "Dies ist normalerweise eine der Aufgaben, die wir von einem Profiler erwarten. Daher können wir diese Metaklasse für einfache Profiler verwenden. Natürlich ist es relativ einfach, unsere Metaklasse um weitere Profileranwendungen zu erweitern."
   ]
  },
  {
   "cell_type": "markdown",
   "metadata": {},
   "source": [
    "<br><br>"
   ]
  },
  {
   "cell_type": "markdown",
   "metadata": {},
   "source": [
    "### Vorbemerkungen"
   ]
  },
  {
   "cell_type": "markdown",
   "metadata": {},
   "source": [
    "Bevor wir uns tatsächlich mit dem Problem befassen, möchten wir daran erinnern, wie wir auf die Attribute einer Klasse zugreifen können. Wir werden dies mit der Listenklasse demonstrieren.\n",
    "Mit dem folgenden Konstrukt können wir die Liste aller nicht privaten Attribute einer Klasse - in unserem Beispiel die `random`KLasse - abrufen."
   ]
  },
  {
   "cell_type": "code",
   "execution_count": 1,
   "metadata": {},
   "outputs": [
    {
     "name": "stdout",
     "output_type": "stream",
     "text": [
      "['BPF', 'LOG4', 'NV_MAGICCONST', 'RECIP_BPF', 'Random', 'SG_MAGICCONST', 'SystemRandom', 'TWOPI', '_Sequence', '_Set', '_accumulate', '_acos', '_bisect', '_ceil', '_cos', '_e', '_exp', '_inst', '_log', '_os', '_pi', '_random', '_repeat', '_sha512', '_sin', '_sqrt', '_test', '_test_generator', '_urandom', '_warn', 'betavariate', 'choice', 'choices', 'expovariate', 'gammavariate', 'gauss', 'getrandbits', 'getstate', 'lognormvariate', 'normalvariate', 'paretovariate', 'randint', 'random', 'randrange', 'sample', 'seed', 'setstate', 'shuffle', 'triangular', 'uniform', 'vonmisesvariate', 'weibullvariate']\n"
     ]
    }
   ],
   "source": [
    "import random\n",
    "cls = \"random\" # Name der Klasse als String\n",
    "alle_attribute = [x for x in dir(eval(cls)) if not x.startswith(\"__\") ]\n",
    "print(alle_attribute)"
   ]
  },
  {
   "cell_type": "markdown",
   "metadata": {},
   "source": [
    "Jetzt filtern wir die aufrufbaren Attribute, d. h. die öffentlichen Methoden der Klasse."
   ]
  },
  {
   "cell_type": "code",
   "execution_count": 2,
   "metadata": {},
   "outputs": [
    {
     "name": "stdout",
     "output_type": "stream",
     "text": [
      "['Random', 'SystemRandom', '_Sequence', '_Set', '_accumulate', '_acos', '_bisect', '_ceil', '_cos', '_exp', '_log', '_repeat', '_sha512', '_sin', '_sqrt', '_test', '_test_generator', '_urandom', '_warn', 'betavariate', 'choice', 'choices', 'expovariate', 'gammavariate', 'gauss', 'getrandbits', 'getstate', 'lognormvariate', 'normalvariate', 'paretovariate', 'randint', 'random', 'randrange', 'sample', 'seed', 'setstate', 'shuffle', 'triangular', 'uniform', 'vonmisesvariate', 'weibullvariate']\n"
     ]
    }
   ],
   "source": [
    "methoden = [x for x in dir(eval(cls)) if not x.startswith(\"__\") \n",
    "                              and callable(eval(cls + \".\" + x))]\n",
    "print(methoden)"
   ]
  },
  {
   "cell_type": "markdown",
   "metadata": {},
   "source": [
    "Das Abrufen der nicht aufrufbaren Attribute der Klasse kann leicht erreicht werden, indem aufrufbar negiert wird, d. h. `not` hinzugefügt wird:"
   ]
  },
  {
   "cell_type": "code",
   "execution_count": 3,
   "metadata": {},
   "outputs": [
    {
     "name": "stdout",
     "output_type": "stream",
     "text": [
      "['BPF', 'LOG4', 'NV_MAGICCONST', 'RECIP_BPF', 'SG_MAGICCONST', 'TWOPI', '_e', '_inst', '_os', '_pi', '_random']\n"
     ]
    }
   ],
   "source": [
    "nicht_rufbare_attribute = [x for x in dir(eval(cls)) if not x.startswith(\"__\") \n",
    "                              and not callable(eval(cls + \".\" + x))]\n",
    "print(nicht_rufbare_attribute)"
   ]
  },
  {
   "cell_type": "markdown",
   "metadata": {},
   "source": [
    "In der normalen Python-Programmierung wird weder empfohlen noch benötigt, Methoden wie folgt anzuwenden, aber es ist möglich:"
   ]
  },
  {
   "cell_type": "code",
   "execution_count": 4,
   "metadata": {},
   "outputs": [
    {
     "data": {
      "text/plain": [
       "[3, 4, 42]"
      ]
     },
     "execution_count": 4,
     "metadata": {},
     "output_type": "execute_result"
    }
   ],
   "source": [
    "lst = [3,4]\n",
    "list.__dict__[\"append\"](lst, 42)\n",
    "lst"
   ]
  },
  {
   "cell_type": "markdown",
   "metadata": {},
   "source": [
    "<br><br>\n",
    "Bitte beachten Sie die Bemerkung aus der Python-Dokumentation:\n",
    "\n",
    "\"Da dir() in erster Linie als Annehmlichkeit für die Verwendung in einer interaktiven Eingabeaufforderung bereitgestellt wird, versucht es, eine interessante Menge von Namen und nicht  eine streng oder konsistent definierten Menge von Namen bereitzustellen, und ihr detailliertes Verhalten kann sich je nach Version ändern. Beispielsweise befinden sich Metaklassenattribute nicht in der Ergebnisliste, wenn das Argument eine Klasse ist.\"\n",
    "<br><br>"
   ]
  },
  {
   "cell_type": "markdown",
   "metadata": {},
   "source": [
    "### Ein Dekorateur zum Zählen von Funktionsaufrufen"
   ]
  },
  {
   "cell_type": "markdown",
   "metadata": {},
   "source": [
    "Nun werden wir mit dem Entwurf der Metaklasse beginnen, die wir am Anfang dieses Kapitels als unser Ziel genannt haben. Es dekoriert alle Methoden seiner Unterklasse mit einem Dekorator, der die Anzahl der Anrufe zählt. Wir haben einen solchen Dekorator in unserem Kapitel [Memoization and Decorators](python3_memoisation.php) definiert:"
   ]
  },
  {
   "cell_type": "code",
   "execution_count": 5,
   "metadata": {},
   "outputs": [],
   "source": [
    "def call_counter(func):\n",
    "    def helper(*args, **kwargs):\n",
    "        helper.calls += 1\n",
    "        return func(*args, **kwargs)\n",
    "    helper.calls = 0\n",
    "    helper.__name__= func.__name__\n",
    "\n",
    "    return helper"
   ]
  },
  {
   "cell_type": "markdown",
   "metadata": {},
   "source": [
    "Wir können es auf die übliche Weise verwenden:"
   ]
  },
  {
   "cell_type": "code",
   "execution_count": 6,
   "metadata": {},
   "outputs": [
    {
     "name": "stdout",
     "output_type": "stream",
     "text": [
      "0\n",
      "10\n"
     ]
    }
   ],
   "source": [
    "@call_counter\n",
    "def f():\n",
    "    pass\n",
    "\n",
    "print(f.calls)\n",
    "for _ in range(10):\n",
    "    f()\n",
    "    \n",
    "print(f.calls)"
   ]
  },
  {
   "cell_type": "markdown",
   "metadata": {},
   "source": [
    "Es wäre besser, wenn Sie die alternative Notation für die Dekorationsfunktion hinzufügen. Wir werden dies in unserer letzten Metaklasse brauchen:"
   ]
  },
  {
   "cell_type": "code",
   "execution_count": 7,
   "metadata": {},
   "outputs": [
    {
     "name": "stdout",
     "output_type": "stream",
     "text": [
      "0\n",
      "10\n"
     ]
    }
   ],
   "source": [
    "def f():\n",
    "    pass\n",
    "\n",
    "f = call_counter(f)\n",
    "print(f.calls)\n",
    "for _ in range(10):\n",
    "    f()\n",
    "    \n",
    "print(f.calls)"
   ]
  },
  {
   "cell_type": "markdown",
   "metadata": {},
   "source": [
    "<br><br>"
   ]
  },
  {
   "cell_type": "markdown",
   "metadata": {},
   "source": [
    "### Die Metaklasse \"Count Calls\""
   ]
  },
  {
   "cell_type": "markdown",
   "metadata": {},
   "source": [
    "Jetzt haben wir alle notwendigen \"Zutaten\" zusammen, um unsere Metaklasse zu schreiben. Wir werden unseren call_counter-Dekorator als statische Methode einbinden:"
   ]
  },
  {
   "cell_type": "code",
   "execution_count": 8,
   "metadata": {},
   "outputs": [
    {
     "name": "stdout",
     "output_type": "stream",
     "text": [
      "0 0\n",
      "1 0\n",
      "2 1\n"
     ]
    }
   ],
   "source": [
    "class FuncCallCounter(type):\n",
    "    \"\"\" Eine Metaklasse, die alle Methoden der \n",
    "        Unterklasse mit call_counter als Dekorateur\n",
    "     \"\"\"\n",
    "    \n",
    "    @staticmethod\n",
    "    def call_counter(func):\n",
    "        \"\"\" Dekorateur zum Zählen der Funktionsanzahl\n",
    "             oder Methodenaufrufe an die Funktion oder Methodenfunktion\n",
    "        \"\"\"\n",
    "        def helper(*args, **kwargs):\n",
    "            helper.calls += 1\n",
    "            return func(*args, **kwargs)\n",
    "        helper.calls = 0\n",
    "        helper.__name__= func.__name__\n",
    "    \n",
    "        return helper\n",
    "    \n",
    "    \n",
    "    def __new__(cls, clsname, superclasses, attributedict):\n",
    "        \"\"\" Jede Methode wird mit dem Dekorator call_counter dekoriert.\n",
    "             Dadurch wird die eigentliche Anrufzählung durchgeführt\n",
    "        \"\"\"\n",
    "        for attr in attributedict:\n",
    "            if callable(attributedict[attr]) and not attr.startswith(\"__\"):\n",
    "                attributedict[attr] = cls.call_counter(attributedict[attr])\n",
    "        \n",
    "        return type.__new__(cls, clsname, superclasses, attributedict)\n",
    "    \n",
    "\n",
    "class A(metaclass=FuncCallCounter):\n",
    "    \n",
    "    def foo(self):\n",
    "        pass\n",
    "    \n",
    "    def bar(self):\n",
    "        pass\n",
    "\n",
    "if __name__ == \"__main__\":\n",
    "    x = A()\n",
    "    print(x.foo.calls, x.bar.calls)\n",
    "    x.foo()\n",
    "    print(x.foo.calls, x.bar.calls)\n",
    "    x.foo()\n",
    "    x.bar()\n",
    "    print(x.foo.calls, x.bar.calls)\n",
    "        "
   ]
  }
 ],
 "metadata": {
  "anaconda-cloud": {},
  "kernelspec": {
   "display_name": "Python 3",
   "language": "python",
   "name": "python3"
  },
  "language_info": {
   "codemirror_mode": {
    "name": "ipython",
    "version": 3
   },
   "file_extension": ".py",
   "mimetype": "text/x-python",
   "name": "python",
   "nbconvert_exporter": "python",
   "pygments_lexer": "ipython3",
   "version": "3.8.5"
  }
 },
 "nbformat": 4,
 "nbformat_minor": 4
}
