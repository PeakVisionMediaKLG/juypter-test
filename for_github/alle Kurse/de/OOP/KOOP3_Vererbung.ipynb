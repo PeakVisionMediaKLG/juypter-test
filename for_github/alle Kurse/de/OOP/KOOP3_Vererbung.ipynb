{
 "cells": [
  {
   "cell_type": "markdown",
   "metadata": {},
   "source": [
    "## Vererbung\n",
    "\n",
    "### Einführung und Definitionen\n",
    "\n",
    "<img width=\"40%\" class=\"imgright\" src=\"../images/dna2.webp\" srcset=\"../images/dna2_800w.webp 800w,../images/dna2_700w.webp 700w,../images/dna2_600w.webp 600w,../images/dna2_500w.webp 500w,../images/dna2_400w.webp 400w,../images/dna2_350w.webp 350w,../images/dna2_300w.webp 300w\" alt=\"Inheritance as DNA\" />\n",
    "\n",
    "Keine objektorientierte Programmiersprache wäre es wert, betrachtet oder verwendet zu werden, wenn sie die Vererbung nicht unterstützt. Die Vererbung wurde 1969 für Simula erfunden. Python unterstützt nicht nur die Vererbung, sondern auch die Mehrfachvererbung. Im Allgemeinen ist Vererbung der Mechanismus, um neue Klassen von bestehenden abzuleiten. Auf diese Weise erhalten wir eine Hierarchie von Klassen. In den meisten klassenbasierten objektorientierten Sprachen erfasst ein durch Vererbung erstelltes Objekt (ein \"untergeordnetes Objekt\") - obwohl es in einigen Programmiersprachen Ausnahmen gibt - alle Eigenschaften und Verhaltensweisen des übergeordneten Objekts.\n",
    "\n",
    "Durch Vererbung können Programmierer Klassen erstellen, die auf vorhandenen Klassen aufbauen. Auf diese Weise kann eine durch Vererbung erstellte Klasse die Attribute und Methoden der übergeordneten Klasse erben. Dies bedeutet, dass die Vererbung die Wiederverwendbarkeit von Code unterstützt. Die von einer Unterklasse geerbten Methoden oder allgemein die von einer Unterklasse geerbte Software gelten als in der Unterklasse wiederverwendet. Die Beziehungen von Objekten oder Klassen durch Vererbung führen zu einem gerichteten Graphen.\n",
    "\n",
    "Die Klasse, von der eine Klasse erbt, wird als übergeordnete Klasse oder Oberklasse bezeichnet. Eine Klasse, die von einer Oberklasse erbt, wird als Unterklasse bezeichnet, auch als Erbenklasse oder Kinderklasse bezeichnet. Superklassen werden manchmal auch Vorfahren genannt. Es besteht eine hierarchische Beziehung zwischen Klassen. Es ähnelt Beziehungen oder Kategorisierungen, die wir aus dem wirklichen Leben kennen. Denken Sie zum Beispiel an Fahrzeuge. Fahrräder, Autos, Busse und Lastwagen sind Fahrzeuge. Pick-ups, Lieferwagen, Sportwagen, Cabrios und Kombis sind alles Autos und als Autos auch Fahrzeuge. Wir könnten eine Fahrzeugklasse in Python implementieren, die Methoden wie Beschleunigen und Bremsen haben könnte. Autos, Busse und Lastwagen und Fahrräder können als Unterklassen implementiert werden, die diese Methoden vom Fahrzeug erben.\n",
    "\n",
    "<br><br>\n",
    "<img width=90% src=\"../images/vehicles_classification.webp\" srcset=\"../images/vehicles_classification_800w.webp 800w,../images/vehicles_classification_700w.webp 700w,../images/vehicles_classification_600w.webp 600w,../images/vehicles_classification_500w.webp 500w,../images/vehicles_classification_400w.webp 400w,../images/vehicles_classification_350w.webp 350w,../images/vehicles_classification_300w.webp 300w\" alt=\"Classification of v\n",
    "ehicles\" />\n",
    "<br><br>\n",
    "\n",
    "### Syntax der Vererbung in Python\n",
    "\n",
    "Die Syntax für eine Unterklassendefinition sieht folgendermaßen aus:\n",
    "```\n",
    "class DerivedClassName(BaseClassName):\n",
    "    pass\n",
    "```"
   ]
  },
  {
   "cell_type": "markdown",
   "metadata": {},
   "source": [
    "Anstelle der Anweisung ```pass``` gibt es Methoden und Attribute wie in allen anderen Klassen. Der Name BaseClassName muss in einem Bereich definiert werden, der die abgeleitete Klassendefinition enthält.\n",
    "\n",
    "Jetzt sind wir bereit für ein einfaches Vererbungsbeispiel mit Python-Code.\n",
    "\n",
    "### Einfaches Vererbungsbeispiel\n",
    "\n",
    "Wir werden uns an unsere geliebten Roboter oder besser an die \"Roboter\" -Klasse aus den vorherigen Kapiteln unseres Python-Tutorials halten, um zu zeigen, wie das Prinzip der Vererbung funktioniert. Wir werden eine Klasse ```PhysicianRobot``` definieren, die von ``` Robot``` erbt."
   ]
  },
  {
   "cell_type": "code",
   "execution_count": 2,
   "metadata": {},
   "outputs": [
    {
     "name": "stdout",
     "output_type": "stream",
     "text": [
      "<__main__.Robot object at 0x00000088AF6068B0> <class '__main__.Robot'>\n",
      "<__main__.PhysicianRobot object at 0x00000088AF606190> <class '__main__.PhysicianRobot'>\n",
      "Hi, Ich bin James\n"
     ]
    }
   ],
   "source": [
    "class Robot:\n",
    "    \n",
    "    def __init__(self, name):\n",
    "        self.name = name\n",
    "        \n",
    "    def say_hi(self):\n",
    "        print(\"Hi, Ich bin \" + self.name)\n",
    "        \n",
    "class PhysicianRobot(Robot):\n",
    "    pass\n",
    "\n",
    "x = Robot(\"Marvin\")\n",
    "y = PhysicianRobot(\"James\")\n",
    "\n",
    "print(x, type(x))\n",
    "print(y, type(y))\n",
    "\n",
    "y.say_hi()"
   ]
  },
  {
   "cell_type": "markdown",
   "metadata": {},
   "source": [
    "<br><img width=\"30%\" src=\"../images/marvin_and_james.webp\" srcset=\"../images/marvin_and_james_300w.webp 300w\" alt=\"Marvin and James\" />\n",
    "<br><br>\n",
    "Wenn Sie sich den Code unserer ```PhysicianRobot``` -Klasse ansehen, können Sie sehen, dass wir in dieser Klasse keine Attribute oder Methoden definiert haben. Da die Klasse ```PhysicianRobot``` eine Unterklasse von ```Robot``` ist, erbt sie in diesem Fall sowohl die Methode ```__init__``` als auch ``` say_hi```. Das Erben dieser Methoden bedeutet, dass wir sie so verwenden können, als ob sie in der Klasse \"PhysicianRobot\" definiert wären. Wenn wir eine Instanz von ```PhysicianRobot``` erstellen, erstellt die Funktion ``` __init__``` auch ein Namensattribut. Wir können die ```say_hi``` Methode auf das ``` PhysisicianRobot``` Objekt ```y``` anwenden, wie wir in der Ausgabe des obigen Codes sehen können.\n",
    "\n",
    "### Unterschied zwischen ```type``` und ``` isinstance```\n",
    "\n",
    "Sie sollten auch die folgenden Fakten beachten, auf die wir auch in anderen Abschnitten unseres Python-Tutorials hingewiesen haben. Die Leute fragen häufig, wo der Unterschied zwischen der Überprüfung des Typs über die Funktion ```type``` oder der Funktion ``` isinstance``` liegt.\n",
    "Der Unterschied ist im folgenden Code zu sehen. Wir sehen, dass ```isinstance``` ```True``` zurückgibt, wenn wir ein Objekt entweder mit der Klasse vergleichen, zu der es gehört, oder mit der Oberklasse. Während der Gleichheitsoperator nur \"True\" zurückgibt, wenn wir ein Objekt mit seiner eigenen Klasse vergleichen."
   ]
  },
  {
   "cell_type": "code",
   "execution_count": 6,
   "metadata": {},
   "outputs": [
    {
     "name": "stdout",
     "output_type": "stream",
     "text": [
      "True True\n",
      "False\n",
      "True\n",
      "False True\n"
     ]
    }
   ],
   "source": [
    "x = Robot(\"Marvin\")\n",
    "y = PhysicianRobot(\"James\")\n",
    "\n",
    "print(isinstance(x, Robot), isinstance(y, Robot)) #y ist auch Instanz der Oberklasse Robot\n",
    "print(isinstance(x, PhysicianRobot))\n",
    "print(isinstance(y, PhysicianRobot))\n",
    "print(type(y) == Robot, type(y) == PhysicianRobot) #als Typ hat y aber PhysicianRobot\n"
   ]
  },
  {
   "cell_type": "markdown",
   "metadata": {},
   "source": [
    "Dies gilt sogar für beliebige Vorfahren der Klasse in der Vererbungszeile:"
   ]
  },
  {
   "cell_type": "code",
   "execution_count": 4,
   "metadata": {},
   "outputs": [
    {
     "name": "stdout",
     "output_type": "stream",
     "text": [
      "True\n"
     ]
    }
   ],
   "source": [
    "class A:\n",
    "    pass\n",
    "\n",
    "class B(A):\n",
    "    pass\n",
    "\n",
    "class C(B):\n",
    "    pass\n",
    "\n",
    "x = C()\n",
    "print(isinstance(x, A))"
   ]
  },
  {
   "cell_type": "markdown",
   "metadata": {},
   "source": [
    "Jetzt sollte klar sein, warum [PEP 8](https://legacy.python.org/dev/peps/pep-0008/#programming-recommendations), der offizielle Style Guide für Python-Code, sagt: \"Objekttypvergleiche sollte immer isinstance () verwenden, anstatt Typen direkt zu vergleichen. \""
   ]
  },
  {
   "cell_type": "markdown",
   "metadata": {},
   "source": [
    "### Überschreiben\n",
    "\n",
    "Kehren wir zu unserer neuen \"PhysicianRobot\" -Klasse zurück.\n",
    "Stellen Sie sich jetzt vor, eine Instanz eines ```PhysicianRobot``` sollte auf andere Weise Hallo sagen. In diesem Fall müssen wir die Methode ```say_hi``` innerhalb der Unterklasse ```PhysicianRobot``` neu definieren:"
   ]
  },
  {
   "cell_type": "code",
   "execution_count": 7,
   "metadata": {},
   "outputs": [
    {
     "name": "stdout",
     "output_type": "stream",
     "text": [
      "Alles wird gut! \n",
      "James wird sich um dich kümmern!\n"
     ]
    }
   ],
   "source": [
    "class Robot:\n",
    "    \n",
    "    def __init__(self, name):\n",
    "        self.name = name\n",
    "        \n",
    "    def say_hi(self):\n",
    "        print(\"Hi, ich bin \" + self.name)\n",
    "        \n",
    "class PhysicianRobot(Robot):\n",
    "\n",
    "    def say_hi(self):\n",
    "        print(\"Alles wird gut! \") \n",
    "        print(self.name + \" wird sich um dich kümmern!\")\n",
    "\n",
    "y = PhysicianRobot(\"James\")\n",
    "y.say_hi()"
   ]
  },
  {
   "cell_type": "markdown",
   "metadata": {},
   "source": [
    "Was wir im vorherigen Beispiel getan haben, wird als Überschreiben bezeichnet. Eine Methode einer übergeordneten Klasse wird überschrieben, indem einfach eine Methode mit demselben Namen in der untergeordneten Klasse definiert wird.\n",
    "\n",
    "Wenn eine Methode in einer Klasse überschrieben wird, kann weiterhin auf die ursprüngliche Methode zugegriffen werden. Wir müssen dies jedoch tun, indem wir die Methode direkt mit dem Klassennamen aufrufen, d. H. ```Robot.say_hi (y)```. Wir demonstrieren dies im folgenden Code:"
   ]
  },
  {
   "cell_type": "code",
   "execution_count": 8,
   "metadata": {},
   "outputs": [
    {
     "name": "stdout",
     "output_type": "stream",
     "text": [
      "Alles wird gut! \n",
      "Dr James wird sich um dich kümmern!\n",
      "... und jetzt die 'traditionelle' Roboter-Art, Hallo zu sagen :-)\n",
      "Hi, ich bin Dr James\n"
     ]
    }
   ],
   "source": [
    "y = PhysicianRobot(\"Dr James\")\n",
    "y.say_hi()\n",
    "print(\"... und jetzt die 'traditionelle' Roboter-Art, Hallo zu sagen :-)\")\n",
    "Robot.say_hi(y)"
   ]
  },
  {
   "cell_type": "markdown",
   "metadata": {},
   "source": [
    "Wir haben gesehen, dass eine geerbte Klasse Methoden von der Oberklasse erben und überschreiben kann. Außerdem benötigt eine Unterklasse häufig zusätzliche Methoden mit zusätzlichen Funktionen, die in der Oberklasse nicht vorhanden sind. Eine Instanz der Klasse \"PhysicianRobot\" benötigt zum Beispiel die Methode \"heilen\", damit der Arzt einen ordnungsgemäßen Job machen kann.\n",
    "Wir werden der ```Robot``` -Klasse auch ein Attribut ``` health_level``` hinzufügen, das einen Wert zwischen ```0``` und ``` 1``` annehmen kann. Die Roboter werden mit einem zufälligen Wert zwischen \"0\" und \"1\" zum Leben erweckt. Wenn der Gesundheitszustand eines Roboters unter 0,8 liegt, benötigt er einen Arzt. Wir schreiben eine Methode ```need_a_doctor```, die ``` True``` zurückgibt, wenn der Wert unter ```0.8``` liegt und andernfalls ``` False```. Die \"Heilung\" in der \"Heilung\" -Methode erfolgt durch Setzen des \"Gesundheitsniveaus\" auf einen zufälligen Wert zwischen dem alten \"Gesundheitsniveau\" und 1. Dieser Wert wird von der Uniform berechnet Funktion des Zufallsmoduls."
   ]
  },
  {
   "cell_type": "code",
   "execution_count": 19,
   "metadata": {},
   "outputs": [
    {
     "name": "stdout",
     "output_type": "stream",
     "text": [
      "Gesundheitsniveau von Marvin0 vor der Heilung:  0.5130238496919278\n",
      "Marvin0 wurde geheilt von Dr. Frankenstein!\n",
      "Gesundheitsniveau von Marvin0 nach der Heilung:  0.6742444424979326\n",
      "Gesundheitsniveau von Marvin1 vor der Heilung:  0.4208278855033214\n",
      "Marvin1 wurde geheilt von Dr. Frankenstein!\n",
      "Gesundheitsniveau von Marvin1 nach der Heilung:  0.8570650010924655\n",
      "Gesundheitsniveau von Marvin2 vor der Heilung:  0.14258274733677667\n",
      "Marvin2 wurde geheilt von Dr. Frankenstein!\n",
      "Gesundheitsniveau von Marvin2 nach der Heilung:  0.33413023783134577\n",
      "Marvin3 ist topfit,keine Heilung nötig\n",
      "Gesundheitsniveau von Marvin4 vor der Heilung:  0.20655560622887614\n",
      "Marvin4 wurde geheilt von Dr. Frankenstein!\n",
      "Gesundheitsniveau von Marvin4 nach der Heilung:  0.7469358977636754\n",
      "0.44185964384671483\n",
      "Gesundheitsniveau von Dr. Frankenstein vor der Heilung:  0.44185964384671483\n",
      "Dr. Frankenstein wurde geheilt von Dr. Frankenstein!\n",
      "Gesundheitsniveau von Dr. Frankenstein nach der Heilung:  0.8784118142757666\n",
      "[('Marvin0', 0.6742444424979326), ('Marvin1', 0.8570650010924655), ('Marvin2', 0.33413023783134577), ('Marvin3', 0.6944263068975643), ('Marvin4', 0.7469358977636754), ('Dr. Frankenstein', 0.8784118142757666)]\n"
     ]
    }
   ],
   "source": [
    "import random\n",
    "\n",
    "class Robot:\n",
    "    \n",
    "    def __init__(self, name):\n",
    "        self.name = name\n",
    "        self.health_level = random.random() #Zufallszahl zwischen 0 und 1\n",
    "        \n",
    "    def say_hi(self):\n",
    "        print(\"Hi, I am \" + self.name)\n",
    "        \n",
    "    def needs_a_doctor(self):\n",
    "        if self.health_level < 0.6:\n",
    "            return True\n",
    "        else:\n",
    "            return False\n",
    "        \n",
    "class PhysicianRobot(Robot):\n",
    "\n",
    "    def say_hi(self):\n",
    "        print(\"Alles wird gut! \") \n",
    "        print(self.name + \" kümmert sich um dich!\")\n",
    "\n",
    "\n",
    "    def heal(self, robo): #Achtung Arg1 eine Instanz und Arg2 eine Instanz\n",
    "        robo.health_level = random.uniform(robo.health_level, 1) # Zufallszahl zwischen dem jetzigen Healthlevel und 1\n",
    "        print(robo.name + \" wurde geheilt von \" + self.name + \"!\")\n",
    "\n",
    "doc = PhysicianRobot(\"Dr. Frankenstein\")        \n",
    "\n",
    "rob_list = []\n",
    "for i in range(6):\n",
    "    if i==5:\n",
    "        x=doc\n",
    "        \n",
    "    else:\n",
    "        x = Robot(\"Marvin\" + str(i))\n",
    "    if x.needs_a_doctor():\n",
    "        print(\"Gesundheitsniveau von \" + x.name + \" vor der Heilung: \", x.health_level)\n",
    "        doc.heal(x)\n",
    "        print(\"Gesundheitsniveau von \" + x.name + \" nach der Heilung: \", x.health_level)\n",
    "    else:\n",
    "        print( x.name + \" ist topfit,keine Heilung nötig\")\n",
    "    rob_list.append((x.name, x.health_level))\n",
    "    \n",
    "print(rob_list)"
   ]
  },
  {
   "cell_type": "markdown",
   "metadata": {},
   "source": [
    "Wenn wir eine Methode überschreiben, möchten wir manchmal die Methode der übergeordneten Klasse und einige neue Dinge wiederverwenden. Um dies zu demonstrieren, werden wir eine neue Version des PhysicianRobot schreiben. ```say_hi``` sollte den Text aus der Robot-Klassenversion plus den Text\" und ich bin ein Arzt! \"zurückgeben."
   ]
  },
  {
   "cell_type": "code",
   "execution_count": 20,
   "metadata": {},
   "outputs": [
    {
     "name": "stdout",
     "output_type": "stream",
     "text": [
      "Hi, I am Dr. Frankenstein\n",
      "und ich bin ein Arzt\n"
     ]
    }
   ],
   "source": [
    "class PhysicianRobot(Robot):\n",
    "\n",
    "    def say_hi(self):\n",
    "        Robot.say_hi(self)\n",
    "        print(\"und ich bin ein Arzt\")\n",
    "\n",
    "        \n",
    "doc = PhysicianRobot(\"Dr. Frankenstein\")      \n",
    "doc.say_hi()"
   ]
  },
  {
   "cell_type": "markdown",
   "metadata": {},
   "source": [
    "Wir wollen keinen redundanten Code schreiben und haben deshalb ```Robot.say_hi (self)``` aufgerufen. Wir könnten auch die ```super``` Funktion verwenden:"
   ]
  },
  {
   "cell_type": "code",
   "execution_count": 6,
   "metadata": {},
   "outputs": [
    {
     "name": "stdout",
     "output_type": "stream",
     "text": [
      "Hi, ich bin Dr. Frankenstein\n",
      "und ich bin ein Arzt!\n"
     ]
    }
   ],
   "source": [
    "class PhysicianRobot(Robot):\n",
    "\n",
    "    def say_hi(self):\n",
    "        super().say_hi()\n",
    "        print(\"und ich bin ein Arzt!\")\n",
    "\n",
    "        \n",
    "doc = PhysicianRobot(\"Dr. Frankenstein\")      \n",
    "doc.say_hi()"
   ]
  },
  {
   "cell_type": "markdown",
   "metadata": {},
   "source": [
    "```super``` ist in diesem Fall nicht wirklich notwendig. Man könnte argumentieren, dass es den Code wartbarer macht, weil wir den Namen der übergeordneten Klasse ändern könnten, aber dies wird in vorhandenen Klassen sowieso selten gemacht. Der wahre Vorteil von ```super``` zeigt sich, wenn wir es mit Mehrfachvererbung verwenden."
   ]
  }
 ],
 "metadata": {
  "kernelspec": {
   "display_name": "Python 3",
   "language": "python",
   "name": "python3"
  },
  "language_info": {
   "codemirror_mode": {
    "name": "ipython",
    "version": 3
   },
   "file_extension": ".py",
   "mimetype": "text/x-python",
   "name": "python",
   "nbconvert_exporter": "python",
   "pygments_lexer": "ipython3",
   "version": "3.8.8"
  },
  "toc": {
   "base_numbering": 1,
   "nav_menu": {},
   "number_sections": true,
   "sideBar": true,
   "skip_h1_title": false,
   "title_cell": "Table of Contents",
   "title_sidebar": "Contents",
   "toc_cell": false,
   "toc_position": {},
   "toc_section_display": true,
   "toc_window_display": false
  }
 },
 "nbformat": 4,
 "nbformat_minor": 2
}
