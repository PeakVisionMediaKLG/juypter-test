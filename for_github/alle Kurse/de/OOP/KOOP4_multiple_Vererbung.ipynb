{
 "cells": [
  {
   "cell_type": "markdown",
   "metadata": {},
   "source": [
    "## Mehrfachvererbung\n",
    "### Einführung \n",
    "\n",
    "<img  class=\"imgright\" width=200 src=\"../images/diamond.webp\" srcset=\"../images/diamond_800w.webp 800w,../images/diamond_700w.webp 700w,../images/diamond_600w.webp 600w,../images/diamond_500w.webp 500w,../images/diamond_400w.webp 400w,../images/diamond_350w.webp 350w,../images/diamond_300w.webp 300w\" alt=\"Diamond Problem\" />\n",
    "\n",
    "Im vorherigen Kapitel unseres Tutorials haben wir uns mit Vererbung oder spezifischer \"Einzelvererbung\" befasst. Wie wir gesehen haben, erbt eine Klasse in diesem Fall von einer Klasse. Die Mehrfachvererbung hingegen ist eine Funktion, mit der eine Klasse Attribute und Methoden von mehr als einer übergeordneten Klasse erben kann. Die Kritiker weisen darauf hin, dass Mehrfachvererbung in Situationen wie dem Diamantenproblem mit einem hohen Maß an Komplexität und Mehrdeutigkeit einhergeht. Wir werden dieses Problem später in diesem Kapitel ansprechen.\n",
    "\n",
    "Das weit verbreitete Vorurteil, dass Mehrfachvererbung etwas \"Gefährliches\" oder \"Schlechtes\" ist, wird hauptsächlich durch Programmiersprachen mit schlecht implementierten Mehrfachvererbungsmechanismen und vor allem durch deren missbräuchliche Verwendung genährt. Java unterstützt nicht einmal Mehrfachvererbung, während C ++ dies unterstützt. Python hat einen ausgeklügelten und gut konzipierten Ansatz für die Mehrfachvererbung.\n",
    "\n",
    "Eine Klassendefinition, bei der eine untergeordnete Klasse SubClassName von den übergeordneten Klassen BaseClass1, BaseClass2, BaseClass3 usw. erbt, sieht folgendermaßen aus:\n"
   ]
  },
  {
   "cell_type": "markdown",
   "metadata": {},
   "source": [
    "<pre>\n",
    "\n",
    "class SubclassName(BaseClass1, BaseClass2, BaseClass3, ...):\n",
    "    pass\n",
    "\n",
    "</pre>"
   ]
  },
  {
   "cell_type": "markdown",
   "metadata": {},
   "source": [
    "Es ist klar, dass alle Oberklassen BaseClass1, BaseClass2, BaseClass3, ... auch von anderen Oberklassen erben können. Was wir bekommen, ist ein Vererbungsbaum.\n",
    "\n",
    "<img width=90% src=\"../images/multiple_inheritance.webp\" srcset=\"../images/multiple_inheritance_700w.webp 700w,../images/multiple_inheritance_600w.webp 600w,../images/multiple_inheritance_500w.webp 500w,../images/multiple_inheritance_400w.webp 400w,../images/multiple_inheritance_350w.webp 350w,../images/multiple_inheritance_300w.webp 300w\" alt=\"Multiple Inheritance Tree\" />\n",
    "\n",
    "### Beispiel: CalendarClock\n",
    "\n",
    "Wir wollen die Prinzipien der Mehrfachvererbung anhand eines Beispiels vorstellen. Zu diesem Zweck implementieren wir unabhängige Klassen: eine \"Clock\" - und eine \"Calendar\" -Klasse. Danach werden wir eine Klasse \"CalendarClock\" einführen, die, wie der Name schon sagt, eine Kombination aus \"Clock\" und \"Calendar\" ist. CalendarClock erbt sowohl von \"Clock\" als auch von \"Calendar\".\n",
    "\n",
    "<img width=90% src=\"../images/clock_calendar.webp\" srcset=\"../images/clock_calendar_800w.webp 800w,../images/clock_calendar_700w.webp 700w,../images/clock_calendar_600w.webp 600w,../images/clock_calendar_500w.webp 500w,../images/clock_calendar_400w.webp 400w,../images/clock_calendar_350w.webp 350w,../images/clock_calendar_300w.webp 300w\" alt=\"CalendarClock\" />\n",
    "\n",
    "Die Klasse Clock simuliert das Tick-Tack einer Uhr. Eine Instanz dieser Klasse enthält die Zeit, die in den Attributen self.hours, self.minutes und self.seconds gespeichert ist. Grundsätzlich hätten wir die ```__init__``` Methode und die set Methode wie folgt schreiben können:"
   ]
  },
  {
   "cell_type": "markdown",
   "metadata": {},
   "source": [
    "<pre>\n",
    "def __init__(self,hours=0, minutes=0, seconds=0):\n",
    "        self._hours = hours\n",
    "        self.__minutes = minutes\n",
    "        self.__seconds = seconds\n",
    "\n",
    "    def set(self,hours, minutes, seconds=0):\n",
    "        self._hours = hours\n",
    "        self.__minutes = minutes\n",
    "        self.__seconds = seconds\n",
    "</pre>"
   ]
  },
  {
   "cell_type": "markdown",
   "metadata": {},
   "source": [
    "Wir haben uns gegen diese Implementierung entschieden, weil wir der Set-Methode zusätzlichen Code zur Überprüfung der Plausibilität der Zeitdaten hinzugefügt haben. Wir rufen die set-Methode auch von der ```__init__``` -Methode auf, weil wir redundanten Code umgehen wollen.\n",
    "Die komplette Clock-Klasse:"
   ]
  },
  {
   "cell_type": "code",
   "execution_count": 1,
   "metadata": {},
   "outputs": [
    {
     "name": "stdout",
     "output_type": "stream",
     "text": [
      "23:59:59\n",
      "00:00:00\n",
      "<class 'str'>\n"
     ]
    }
   ],
   "source": [
    "\"\"\" \n",
    "Die Klasse Clock wird verwendet, um eine Uhr zu simulieren.\n",
    "\"\"\"\n",
    "\n",
    "class Clock(object):\n",
    "\n",
    "    def __init__(self, hours, minutes, seconds):\n",
    "        \"\"\"\n",
    "        Die Parameter Stunden, Minuten und Sekunden müssen\n",
    "        ganze Zahlen sein und die folgenden Gleichungen erfüllen: \n",
    "        0 <= h <24 \n",
    "        0 <= m <60 \n",
    "        0 <= s <60\n",
    "        \"\"\"\n",
    "\n",
    "        self.set_Clock(hours, minutes, seconds)\n",
    "\n",
    "    def set_Clock(self, hours, minutes, seconds):\n",
    "        \"\"\"\n",
    "        Die Parameter Stunden, Minuten und Sekunden müssen sein\n",
    "         ganze Zahlen und müssen die folgenden Gleichungen erfüllen:\n",
    "         0 <= h <24\n",
    "         0 <= m <60\n",
    "         0 <= s <60\n",
    "        \"\"\"\n",
    "\n",
    "        if type(hours) == int and 0 <= hours and hours < 24:\n",
    "            self._hours = hours\n",
    "        else:\n",
    "            raise TypeError(\"Stunden müssen ganze Zahlen zwischen 0 und 23 sein!\")\n",
    "        if type(minutes) == int and 0 <= minutes and minutes < 60:\n",
    "            self.__minutes = minutes \n",
    "        else:\n",
    "            raise TypeError(\"Minuten müssen ganze Zahlen zwischen 0 und 59 sein!\")\n",
    "        if type(seconds) == int and 0 <= seconds and seconds < 60:\n",
    "            self.__seconds = seconds\n",
    "        else:\n",
    "            raise TypeError(\"Sekunden müssen ganze Zahlen zwischen 0 und 59 sein!\")\n",
    "\n",
    "    def __str__(self):\n",
    "        return \"{0:02d}:{1:02d}:{2:02d}\".format(self._hours,\n",
    "                                                self.__minutes,\n",
    "                                                self.__seconds)\n",
    "\n",
    "    def tick(self):\n",
    "        \"\"\"\n",
    "        Diese Methode lässt die Uhr \"ticken\", dies bedeutet, dass die\n",
    "         Die interne Zeit wird um eine Sekunde vorverlegt.\n",
    "\n",
    "         Beispiele:\n",
    "         >>> x = Clock(12,59,59)\n",
    "         >>> print(x)\n",
    "         12:59:59\n",
    "         >>> x.tick ()\n",
    "         >>> print(x)\n",
    "         13:00:00\n",
    "         >>> x.tick ()\n",
    "         >>> print(x)\n",
    "         13:00:01\n",
    "         \"\"\"\n",
    "\n",
    "        if self.__seconds == 59:\n",
    "            self.__seconds = 0\n",
    "            if self.__minutes == 59:\n",
    "                self.__minutes = 0\n",
    "                if self._hours == 23:\n",
    "                    self._hours = 0\n",
    "                else:\n",
    "                    self._hours += 1\n",
    "            else:\n",
    "                self.__minutes += 1\n",
    "        else:\n",
    "            self.__seconds += 1\n",
    "\n",
    "\n",
    "if __name__ == \"__main__\":\n",
    "    x = Clock(23,59,59)\n",
    "    print(x)\n",
    "    x.tick()\n",
    "    print(x)\n",
    "    y = str(x)\n",
    "    print(type(y))\n"
   ]
  },
  {
   "cell_type": "markdown",
   "metadata": {},
   "source": [
    "Lassen Sie uns unsere Ausnahmebehandlung überprüfen, indem wir Floats und Strings als Eingabe eingeben. Wir prüfen auch, was passiert, wenn wir die Grenzen der erwarteten Werte überschreiten:"
   ]
  },
  {
   "cell_type": "code",
   "execution_count": 2,
   "metadata": {},
   "outputs": [
    {
     "ename": "TypeError",
     "evalue": "Stunden müssen ganze Zahlen zwischen 0 und 23 sein!",
     "output_type": "error",
     "traceback": [
      "\u001b[1;31m---------------------------------------------------------------------------\u001b[0m",
      "\u001b[1;31mTypeError\u001b[0m                                 Traceback (most recent call last)",
      "\u001b[1;32m<ipython-input-2-90d5f916ef6e>\u001b[0m in \u001b[0;36m<module>\u001b[1;34m\u001b[0m\n\u001b[1;32m----> 1\u001b[1;33m \u001b[0mx\u001b[0m \u001b[1;33m=\u001b[0m \u001b[0mClock\u001b[0m\u001b[1;33m(\u001b[0m\u001b[1;36m7.7\u001b[0m\u001b[1;33m,\u001b[0m \u001b[1;36m45\u001b[0m\u001b[1;33m,\u001b[0m \u001b[1;36m17\u001b[0m\u001b[1;33m)\u001b[0m\u001b[1;33m\u001b[0m\u001b[1;33m\u001b[0m\u001b[0m\n\u001b[0m",
      "\u001b[1;32m<ipython-input-1-97996a6071ca>\u001b[0m in \u001b[0;36m__init__\u001b[1;34m(self, hours, minutes, seconds)\u001b[0m\n\u001b[0;32m     14\u001b[0m         \"\"\"\n\u001b[0;32m     15\u001b[0m \u001b[1;33m\u001b[0m\u001b[0m\n\u001b[1;32m---> 16\u001b[1;33m         \u001b[0mself\u001b[0m\u001b[1;33m.\u001b[0m\u001b[0mset_Clock\u001b[0m\u001b[1;33m(\u001b[0m\u001b[0mhours\u001b[0m\u001b[1;33m,\u001b[0m \u001b[0mminutes\u001b[0m\u001b[1;33m,\u001b[0m \u001b[0mseconds\u001b[0m\u001b[1;33m)\u001b[0m\u001b[1;33m\u001b[0m\u001b[1;33m\u001b[0m\u001b[0m\n\u001b[0m\u001b[0;32m     17\u001b[0m \u001b[1;33m\u001b[0m\u001b[0m\n\u001b[0;32m     18\u001b[0m     \u001b[1;32mdef\u001b[0m \u001b[0mset_Clock\u001b[0m\u001b[1;33m(\u001b[0m\u001b[0mself\u001b[0m\u001b[1;33m,\u001b[0m \u001b[0mhours\u001b[0m\u001b[1;33m,\u001b[0m \u001b[0mminutes\u001b[0m\u001b[1;33m,\u001b[0m \u001b[0mseconds\u001b[0m\u001b[1;33m)\u001b[0m\u001b[1;33m:\u001b[0m\u001b[1;33m\u001b[0m\u001b[1;33m\u001b[0m\u001b[0m\n",
      "\u001b[1;32m<ipython-input-1-97996a6071ca>\u001b[0m in \u001b[0;36mset_Clock\u001b[1;34m(self, hours, minutes, seconds)\u001b[0m\n\u001b[0;32m     28\u001b[0m             \u001b[0mself\u001b[0m\u001b[1;33m.\u001b[0m\u001b[0m_hours\u001b[0m \u001b[1;33m=\u001b[0m \u001b[0mhours\u001b[0m\u001b[1;33m\u001b[0m\u001b[1;33m\u001b[0m\u001b[0m\n\u001b[0;32m     29\u001b[0m         \u001b[1;32melse\u001b[0m\u001b[1;33m:\u001b[0m\u001b[1;33m\u001b[0m\u001b[1;33m\u001b[0m\u001b[0m\n\u001b[1;32m---> 30\u001b[1;33m             \u001b[1;32mraise\u001b[0m \u001b[0mTypeError\u001b[0m\u001b[1;33m(\u001b[0m\u001b[1;34m\"Stunden müssen ganze Zahlen zwischen 0 und 23 sein!\"\u001b[0m\u001b[1;33m)\u001b[0m\u001b[1;33m\u001b[0m\u001b[1;33m\u001b[0m\u001b[0m\n\u001b[0m\u001b[0;32m     31\u001b[0m         \u001b[1;32mif\u001b[0m \u001b[0mtype\u001b[0m\u001b[1;33m(\u001b[0m\u001b[0mminutes\u001b[0m\u001b[1;33m)\u001b[0m \u001b[1;33m==\u001b[0m \u001b[0mint\u001b[0m \u001b[1;32mand\u001b[0m \u001b[1;36m0\u001b[0m \u001b[1;33m<=\u001b[0m \u001b[0mminutes\u001b[0m \u001b[1;32mand\u001b[0m \u001b[0mminutes\u001b[0m \u001b[1;33m<\u001b[0m \u001b[1;36m60\u001b[0m\u001b[1;33m:\u001b[0m\u001b[1;33m\u001b[0m\u001b[1;33m\u001b[0m\u001b[0m\n\u001b[0;32m     32\u001b[0m             \u001b[0mself\u001b[0m\u001b[1;33m.\u001b[0m\u001b[0m__minutes\u001b[0m \u001b[1;33m=\u001b[0m \u001b[0mminutes\u001b[0m\u001b[1;33m\u001b[0m\u001b[1;33m\u001b[0m\u001b[0m\n",
      "\u001b[1;31mTypeError\u001b[0m: Stunden müssen ganze Zahlen zwischen 0 und 23 sein!"
     ]
    }
   ],
   "source": [
    "x = Clock(7.7, 45, 17)"
   ]
  },
  {
   "cell_type": "code",
   "execution_count": 3,
   "metadata": {},
   "outputs": [
    {
     "ename": "TypeError",
     "evalue": "Stunden müssen ganze Zahlen zwischen 0 und 23 sein!",
     "output_type": "error",
     "traceback": [
      "\u001b[1;31m---------------------------------------------------------------------------\u001b[0m",
      "\u001b[1;31mTypeError\u001b[0m                                 Traceback (most recent call last)",
      "\u001b[1;32m<ipython-input-3-36d0f83822b6>\u001b[0m in \u001b[0;36m<module>\u001b[1;34m\u001b[0m\n\u001b[1;32m----> 1\u001b[1;33m \u001b[0mx\u001b[0m \u001b[1;33m=\u001b[0m \u001b[0mClock\u001b[0m\u001b[1;33m(\u001b[0m\u001b[1;36m24\u001b[0m\u001b[1;33m,\u001b[0m \u001b[1;36m45\u001b[0m\u001b[1;33m,\u001b[0m \u001b[1;36m17\u001b[0m\u001b[1;33m)\u001b[0m\u001b[1;33m\u001b[0m\u001b[1;33m\u001b[0m\u001b[0m\n\u001b[0m",
      "\u001b[1;32m<ipython-input-1-97996a6071ca>\u001b[0m in \u001b[0;36m__init__\u001b[1;34m(self, hours, minutes, seconds)\u001b[0m\n\u001b[0;32m     14\u001b[0m         \"\"\"\n\u001b[0;32m     15\u001b[0m \u001b[1;33m\u001b[0m\u001b[0m\n\u001b[1;32m---> 16\u001b[1;33m         \u001b[0mself\u001b[0m\u001b[1;33m.\u001b[0m\u001b[0mset_Clock\u001b[0m\u001b[1;33m(\u001b[0m\u001b[0mhours\u001b[0m\u001b[1;33m,\u001b[0m \u001b[0mminutes\u001b[0m\u001b[1;33m,\u001b[0m \u001b[0mseconds\u001b[0m\u001b[1;33m)\u001b[0m\u001b[1;33m\u001b[0m\u001b[1;33m\u001b[0m\u001b[0m\n\u001b[0m\u001b[0;32m     17\u001b[0m \u001b[1;33m\u001b[0m\u001b[0m\n\u001b[0;32m     18\u001b[0m     \u001b[1;32mdef\u001b[0m \u001b[0mset_Clock\u001b[0m\u001b[1;33m(\u001b[0m\u001b[0mself\u001b[0m\u001b[1;33m,\u001b[0m \u001b[0mhours\u001b[0m\u001b[1;33m,\u001b[0m \u001b[0mminutes\u001b[0m\u001b[1;33m,\u001b[0m \u001b[0mseconds\u001b[0m\u001b[1;33m)\u001b[0m\u001b[1;33m:\u001b[0m\u001b[1;33m\u001b[0m\u001b[1;33m\u001b[0m\u001b[0m\n",
      "\u001b[1;32m<ipython-input-1-97996a6071ca>\u001b[0m in \u001b[0;36mset_Clock\u001b[1;34m(self, hours, minutes, seconds)\u001b[0m\n\u001b[0;32m     28\u001b[0m             \u001b[0mself\u001b[0m\u001b[1;33m.\u001b[0m\u001b[0m_hours\u001b[0m \u001b[1;33m=\u001b[0m \u001b[0mhours\u001b[0m\u001b[1;33m\u001b[0m\u001b[1;33m\u001b[0m\u001b[0m\n\u001b[0;32m     29\u001b[0m         \u001b[1;32melse\u001b[0m\u001b[1;33m:\u001b[0m\u001b[1;33m\u001b[0m\u001b[1;33m\u001b[0m\u001b[0m\n\u001b[1;32m---> 30\u001b[1;33m             \u001b[1;32mraise\u001b[0m \u001b[0mTypeError\u001b[0m\u001b[1;33m(\u001b[0m\u001b[1;34m\"Stunden müssen ganze Zahlen zwischen 0 und 23 sein!\"\u001b[0m\u001b[1;33m)\u001b[0m\u001b[1;33m\u001b[0m\u001b[1;33m\u001b[0m\u001b[0m\n\u001b[0m\u001b[0;32m     31\u001b[0m         \u001b[1;32mif\u001b[0m \u001b[0mtype\u001b[0m\u001b[1;33m(\u001b[0m\u001b[0mminutes\u001b[0m\u001b[1;33m)\u001b[0m \u001b[1;33m==\u001b[0m \u001b[0mint\u001b[0m \u001b[1;32mand\u001b[0m \u001b[1;36m0\u001b[0m \u001b[1;33m<=\u001b[0m \u001b[0mminutes\u001b[0m \u001b[1;32mand\u001b[0m \u001b[0mminutes\u001b[0m \u001b[1;33m<\u001b[0m \u001b[1;36m60\u001b[0m\u001b[1;33m:\u001b[0m\u001b[1;33m\u001b[0m\u001b[1;33m\u001b[0m\u001b[0m\n\u001b[0;32m     32\u001b[0m             \u001b[0mself\u001b[0m\u001b[1;33m.\u001b[0m\u001b[0m__minutes\u001b[0m \u001b[1;33m=\u001b[0m \u001b[0mminutes\u001b[0m\u001b[1;33m\u001b[0m\u001b[1;33m\u001b[0m\u001b[0m\n",
      "\u001b[1;31mTypeError\u001b[0m: Stunden müssen ganze Zahlen zwischen 0 und 23 sein!"
     ]
    }
   ],
   "source": [
    "x = Clock(24, 45, 17)"
   ]
  },
  {
   "cell_type": "code",
   "execution_count": 4,
   "metadata": {},
   "outputs": [
    {
     "ename": "TypeError",
     "evalue": "Minuten müssen ganze Zahlen zwischen 0 und 59 sein!",
     "output_type": "error",
     "traceback": [
      "\u001b[1;31m---------------------------------------------------------------------------\u001b[0m",
      "\u001b[1;31mTypeError\u001b[0m                                 Traceback (most recent call last)",
      "\u001b[1;32m<ipython-input-4-e6a01033d9c7>\u001b[0m in \u001b[0;36m<module>\u001b[1;34m\u001b[0m\n\u001b[1;32m----> 1\u001b[1;33m \u001b[0mx\u001b[0m \u001b[1;33m=\u001b[0m \u001b[0mClock\u001b[0m\u001b[1;33m(\u001b[0m\u001b[1;36m23\u001b[0m\u001b[1;33m,\u001b[0m \u001b[1;36m60\u001b[0m\u001b[1;33m,\u001b[0m \u001b[1;36m17\u001b[0m\u001b[1;33m)\u001b[0m\u001b[1;33m\u001b[0m\u001b[1;33m\u001b[0m\u001b[0m\n\u001b[0m",
      "\u001b[1;32m<ipython-input-1-97996a6071ca>\u001b[0m in \u001b[0;36m__init__\u001b[1;34m(self, hours, minutes, seconds)\u001b[0m\n\u001b[0;32m     14\u001b[0m         \"\"\"\n\u001b[0;32m     15\u001b[0m \u001b[1;33m\u001b[0m\u001b[0m\n\u001b[1;32m---> 16\u001b[1;33m         \u001b[0mself\u001b[0m\u001b[1;33m.\u001b[0m\u001b[0mset_Clock\u001b[0m\u001b[1;33m(\u001b[0m\u001b[0mhours\u001b[0m\u001b[1;33m,\u001b[0m \u001b[0mminutes\u001b[0m\u001b[1;33m,\u001b[0m \u001b[0mseconds\u001b[0m\u001b[1;33m)\u001b[0m\u001b[1;33m\u001b[0m\u001b[1;33m\u001b[0m\u001b[0m\n\u001b[0m\u001b[0;32m     17\u001b[0m \u001b[1;33m\u001b[0m\u001b[0m\n\u001b[0;32m     18\u001b[0m     \u001b[1;32mdef\u001b[0m \u001b[0mset_Clock\u001b[0m\u001b[1;33m(\u001b[0m\u001b[0mself\u001b[0m\u001b[1;33m,\u001b[0m \u001b[0mhours\u001b[0m\u001b[1;33m,\u001b[0m \u001b[0mminutes\u001b[0m\u001b[1;33m,\u001b[0m \u001b[0mseconds\u001b[0m\u001b[1;33m)\u001b[0m\u001b[1;33m:\u001b[0m\u001b[1;33m\u001b[0m\u001b[1;33m\u001b[0m\u001b[0m\n",
      "\u001b[1;32m<ipython-input-1-97996a6071ca>\u001b[0m in \u001b[0;36mset_Clock\u001b[1;34m(self, hours, minutes, seconds)\u001b[0m\n\u001b[0;32m     32\u001b[0m             \u001b[0mself\u001b[0m\u001b[1;33m.\u001b[0m\u001b[0m__minutes\u001b[0m \u001b[1;33m=\u001b[0m \u001b[0mminutes\u001b[0m\u001b[1;33m\u001b[0m\u001b[1;33m\u001b[0m\u001b[0m\n\u001b[0;32m     33\u001b[0m         \u001b[1;32melse\u001b[0m\u001b[1;33m:\u001b[0m\u001b[1;33m\u001b[0m\u001b[1;33m\u001b[0m\u001b[0m\n\u001b[1;32m---> 34\u001b[1;33m             \u001b[1;32mraise\u001b[0m \u001b[0mTypeError\u001b[0m\u001b[1;33m(\u001b[0m\u001b[1;34m\"Minuten müssen ganze Zahlen zwischen 0 und 59 sein!\"\u001b[0m\u001b[1;33m)\u001b[0m\u001b[1;33m\u001b[0m\u001b[1;33m\u001b[0m\u001b[0m\n\u001b[0m\u001b[0;32m     35\u001b[0m         \u001b[1;32mif\u001b[0m \u001b[0mtype\u001b[0m\u001b[1;33m(\u001b[0m\u001b[0mseconds\u001b[0m\u001b[1;33m)\u001b[0m \u001b[1;33m==\u001b[0m \u001b[0mint\u001b[0m \u001b[1;32mand\u001b[0m \u001b[1;36m0\u001b[0m \u001b[1;33m<=\u001b[0m \u001b[0mseconds\u001b[0m \u001b[1;32mand\u001b[0m \u001b[0mseconds\u001b[0m \u001b[1;33m<\u001b[0m \u001b[1;36m60\u001b[0m\u001b[1;33m:\u001b[0m\u001b[1;33m\u001b[0m\u001b[1;33m\u001b[0m\u001b[0m\n\u001b[0;32m     36\u001b[0m             \u001b[0mself\u001b[0m\u001b[1;33m.\u001b[0m\u001b[0m__seconds\u001b[0m \u001b[1;33m=\u001b[0m \u001b[0mseconds\u001b[0m\u001b[1;33m\u001b[0m\u001b[1;33m\u001b[0m\u001b[0m\n",
      "\u001b[1;31mTypeError\u001b[0m: Minuten müssen ganze Zahlen zwischen 0 und 59 sein!"
     ]
    }
   ],
   "source": [
    "x = Clock(23, 60, 17)"
   ]
  },
  {
   "cell_type": "code",
   "execution_count": 5,
   "metadata": {},
   "outputs": [
    {
     "ename": "TypeError",
     "evalue": "Stunden müssen ganze Zahlen zwischen 0 und 23 sein!",
     "output_type": "error",
     "traceback": [
      "\u001b[1;31m---------------------------------------------------------------------------\u001b[0m",
      "\u001b[1;31mTypeError\u001b[0m                                 Traceback (most recent call last)",
      "\u001b[1;32m<ipython-input-5-9d4de9fcfcdc>\u001b[0m in \u001b[0;36m<module>\u001b[1;34m\u001b[0m\n\u001b[1;32m----> 1\u001b[1;33m \u001b[0mx\u001b[0m \u001b[1;33m=\u001b[0m \u001b[0mClock\u001b[0m\u001b[1;33m(\u001b[0m\u001b[1;34m\"23\"\u001b[0m\u001b[1;33m,\u001b[0m \u001b[1;34m\"60\"\u001b[0m\u001b[1;33m,\u001b[0m \u001b[1;34m\"17\"\u001b[0m\u001b[1;33m)\u001b[0m\u001b[1;33m\u001b[0m\u001b[1;33m\u001b[0m\u001b[0m\n\u001b[0m",
      "\u001b[1;32m<ipython-input-1-97996a6071ca>\u001b[0m in \u001b[0;36m__init__\u001b[1;34m(self, hours, minutes, seconds)\u001b[0m\n\u001b[0;32m     14\u001b[0m         \"\"\"\n\u001b[0;32m     15\u001b[0m \u001b[1;33m\u001b[0m\u001b[0m\n\u001b[1;32m---> 16\u001b[1;33m         \u001b[0mself\u001b[0m\u001b[1;33m.\u001b[0m\u001b[0mset_Clock\u001b[0m\u001b[1;33m(\u001b[0m\u001b[0mhours\u001b[0m\u001b[1;33m,\u001b[0m \u001b[0mminutes\u001b[0m\u001b[1;33m,\u001b[0m \u001b[0mseconds\u001b[0m\u001b[1;33m)\u001b[0m\u001b[1;33m\u001b[0m\u001b[1;33m\u001b[0m\u001b[0m\n\u001b[0m\u001b[0;32m     17\u001b[0m \u001b[1;33m\u001b[0m\u001b[0m\n\u001b[0;32m     18\u001b[0m     \u001b[1;32mdef\u001b[0m \u001b[0mset_Clock\u001b[0m\u001b[1;33m(\u001b[0m\u001b[0mself\u001b[0m\u001b[1;33m,\u001b[0m \u001b[0mhours\u001b[0m\u001b[1;33m,\u001b[0m \u001b[0mminutes\u001b[0m\u001b[1;33m,\u001b[0m \u001b[0mseconds\u001b[0m\u001b[1;33m)\u001b[0m\u001b[1;33m:\u001b[0m\u001b[1;33m\u001b[0m\u001b[1;33m\u001b[0m\u001b[0m\n",
      "\u001b[1;32m<ipython-input-1-97996a6071ca>\u001b[0m in \u001b[0;36mset_Clock\u001b[1;34m(self, hours, minutes, seconds)\u001b[0m\n\u001b[0;32m     28\u001b[0m             \u001b[0mself\u001b[0m\u001b[1;33m.\u001b[0m\u001b[0m_hours\u001b[0m \u001b[1;33m=\u001b[0m \u001b[0mhours\u001b[0m\u001b[1;33m\u001b[0m\u001b[1;33m\u001b[0m\u001b[0m\n\u001b[0;32m     29\u001b[0m         \u001b[1;32melse\u001b[0m\u001b[1;33m:\u001b[0m\u001b[1;33m\u001b[0m\u001b[1;33m\u001b[0m\u001b[0m\n\u001b[1;32m---> 30\u001b[1;33m             \u001b[1;32mraise\u001b[0m \u001b[0mTypeError\u001b[0m\u001b[1;33m(\u001b[0m\u001b[1;34m\"Stunden müssen ganze Zahlen zwischen 0 und 23 sein!\"\u001b[0m\u001b[1;33m)\u001b[0m\u001b[1;33m\u001b[0m\u001b[1;33m\u001b[0m\u001b[0m\n\u001b[0m\u001b[0;32m     31\u001b[0m         \u001b[1;32mif\u001b[0m \u001b[0mtype\u001b[0m\u001b[1;33m(\u001b[0m\u001b[0mminutes\u001b[0m\u001b[1;33m)\u001b[0m \u001b[1;33m==\u001b[0m \u001b[0mint\u001b[0m \u001b[1;32mand\u001b[0m \u001b[1;36m0\u001b[0m \u001b[1;33m<=\u001b[0m \u001b[0mminutes\u001b[0m \u001b[1;32mand\u001b[0m \u001b[0mminutes\u001b[0m \u001b[1;33m<\u001b[0m \u001b[1;36m60\u001b[0m\u001b[1;33m:\u001b[0m\u001b[1;33m\u001b[0m\u001b[1;33m\u001b[0m\u001b[0m\n\u001b[0;32m     32\u001b[0m             \u001b[0mself\u001b[0m\u001b[1;33m.\u001b[0m\u001b[0m__minutes\u001b[0m \u001b[1;33m=\u001b[0m \u001b[0mminutes\u001b[0m\u001b[1;33m\u001b[0m\u001b[1;33m\u001b[0m\u001b[0m\n",
      "\u001b[1;31mTypeError\u001b[0m: Stunden müssen ganze Zahlen zwischen 0 und 23 sein!"
     ]
    }
   ],
   "source": [
    "x = Clock(\"23\", \"60\", \"17\")"
   ]
  },
  {
   "cell_type": "code",
   "execution_count": 6,
   "metadata": {},
   "outputs": [
    {
     "ename": "TypeError",
     "evalue": "__init__() missing 1 required positional argument: 'seconds'",
     "output_type": "error",
     "traceback": [
      "\u001b[1;31m---------------------------------------------------------------------------\u001b[0m",
      "\u001b[1;31mTypeError\u001b[0m                                 Traceback (most recent call last)",
      "\u001b[1;32m<ipython-input-6-dcf065c8d655>\u001b[0m in \u001b[0;36m<module>\u001b[1;34m\u001b[0m\n\u001b[1;32m----> 1\u001b[1;33m \u001b[0mx\u001b[0m \u001b[1;33m=\u001b[0m \u001b[0mClock\u001b[0m\u001b[1;33m(\u001b[0m\u001b[1;36m23\u001b[0m\u001b[1;33m,\u001b[0m \u001b[1;36m17\u001b[0m\u001b[1;33m)\u001b[0m\u001b[1;33m\u001b[0m\u001b[1;33m\u001b[0m\u001b[0m\n\u001b[0m",
      "\u001b[1;31mTypeError\u001b[0m: __init__() missing 1 required positional argument: 'seconds'"
     ]
    }
   ],
   "source": [
    "x = Clock(23, 17)"
   ]
  },
  {
   "cell_type": "markdown",
   "metadata": {},
   "source": [
    "Wir werden nun eine Klasse \"Calendar\" erstellen, die viele Ähnlichkeiten mit der zuvor definierten Clock-Klasse aufweist. Anstelle von \"tick\" haben wir eine \"advance\" -Methode, bei der das Datum bei jedem Aufruf um einen Tag vorverlegt wird. Das Hinzufügen eines Tages zu einem Datum ist ziemlich schwierig. Wir müssen prüfen, ob das Datum der letzte Tag in einem Monat ist und die Anzahl der Tage in den Monaten variiert. Als ob das nicht schlimm genug wäre, haben wir das Problem mit dem Februar und dem Schaltjahr.\n",
    "\n",
    "Die Regeln für die Berechnung eines Schaltjahres lauten wie folgt:\n",
    "\n",
    "- Wenn ein Jahr durch 400 teilbar ist, ist es ein Schaltjahr.\n",
    "- Wenn ein Jahr nicht durch 400, sondern durch 100 teilbar ist, ist es kein Schaltjahr.\n",
    "- Eine Jahreszahl, die durch 4, aber nicht durch 100 teilbar ist, ist ein Schaltjahr.\n",
    "- Alle anderen Jahreszahlen sind übliche Jahre, d. H. Keine Schaltjahre.\n",
    "\n",
    "\n",
    "Als kleine nützliche Spielerei haben wir die Möglichkeit hinzugefügt, ein Datum entweder im britischen oder im amerikanischen (kanadischen) Stil auszugeben."
   ]
  },
  {
   "cell_type": "code",
   "execution_count": 28,
   "metadata": {},
   "outputs": [
    {
     "name": "stdout",
     "output_type": "stream",
     "text": [
      "31 12 2012 31\n",
      "test ist 31 True\n",
      "31/12/2012 Nach advance:  01/01/2013\n",
      "2012 war ein Schaltjahr:\n",
      "28 2 2012 28\n",
      "test ist 29 True\n",
      "28/02/2012 Nach advance:  29/02/2012\n",
      "28 2 2013 28\n",
      "test ist 28 False\n",
      "28/02/2013 Nach advance:  01/03/2013\n",
      "1900 kein leapyear: Zahl teilbar durch 100 aber nicht durch 400: \n",
      "28 2 1900 28\n",
      "test ist 28 False\n",
      "28/02/1900 Nach advance:  01/03/1900\n",
      "2000 war ein Schaltjahr, weil die Zahl durch 400 teilbar ist: \n",
      "29 2 2000 28\n",
      "test ist 29 True\n",
      "29/02/2000 Nach advance:  01/03/2000\n",
      "Wechsel zum amerikanischen Datumsstil: \n",
      "Nach advance:  03/01/2000\n"
     ]
    }
   ],
   "source": [
    "\"\"\" \n",
    "Die Klasse Calendar implementiert einen Kalender.  \n",
    "\"\"\"\n",
    "\n",
    "class Calendar(object):\n",
    "\n",
    "    months = [31,28,31,30,31,30,31,31,30,31,30,31]\n",
    "    date_style = \"Britisch\"\n",
    "\n",
    "    @staticmethod\n",
    "    def leapyear(year):\n",
    "        \"\"\" \n",
    "        Die Methode leapyear gibt True zurück, wenn der Parameter year\n",
    "         ist ein Schaltjahr, sonst False\n",
    "        \"\"\"\n",
    "        if not year % 4 == 0:\n",
    "            return False\n",
    "        elif not year % 100 == 0:\n",
    "            return True\n",
    "        elif not year % 400 == 0:\n",
    "            return False\n",
    "        else:\n",
    "            return True\n",
    "\n",
    "\n",
    "    def __init__(self, d, m, y):\n",
    "        \"\"\"\n",
    "        d, m, y müssen ganzzahlige Werte sein und das Jahr muss sein\n",
    "         eine vierstellige Jahreszahl\n",
    "        \"\"\"\n",
    "\n",
    "        self.set_Calendar(d,m,y)\n",
    "\n",
    "\n",
    "    def set_Calendar(self, d, m, y):\n",
    "        \"\"\"\n",
    "        d, m, y müssen ganzzahlige Werte sein und das Jahr muss sein\n",
    "         eine vierstellige Jahreszahl\n",
    "        \"\"\"\n",
    "        \n",
    "        if type(d) == int and type(m) == int and type(y) == int:\n",
    "            self.__days = d\n",
    "            input_test_month=Calendar.months[m-1]+1 if Calendar.leapyear(y)==True and m==2 else Calendar.months[m-1]\n",
    "            \n",
    "            \n",
    "            if d >=0 and d<= input_test_month:\n",
    "                self.__months = m\n",
    "            else:\n",
    "                raise TypeError(\"Tageswert passt nicht zum Monat\")\n",
    "                \n",
    "            self.__years = y\n",
    "        else:\n",
    "            raise TypeError(\"d, m, y müssen ganze Zahlen sein!\")\n",
    "\n",
    "\n",
    "    def __str__(self):\n",
    "        if Calendar.date_style == \"Britisch\":\n",
    "            return \"{0:02d}/{1:02d}/{2:4d}\".format(self.__days,\n",
    "                                                   self.__months,\n",
    "                                                   self.__years)\n",
    "        else: \n",
    "            # unter der Annahme eines amerikanischen Stils\n",
    "            return \"{0:02d}/{1:02d}/{2:4d}\".format(self.__months,\n",
    "                                                   self.__days,\n",
    "                                                   self.__years)\n",
    "\n",
    "\n",
    "\n",
    "    def advance(self):\n",
    "        \"\"\"\n",
    "        Diese Methode wird zum nächsten Datum weitergeleitet.\n",
    "        \"\"\"\n",
    "\n",
    "        max_days = Calendar.months[self.__months-1]\n",
    "        if self.__months == 2 and Calendar.leapyear(self.__years)==True:\n",
    "            max_days += 1\n",
    "        if self.__days == max_days:\n",
    "            self.__days= 1\n",
    "            if self.__months == 12:\n",
    "                self.__months = 1\n",
    "                self.__years += 1\n",
    "            else:\n",
    "                self.__months += 1\n",
    "        else:\n",
    "            self.__days += 1\n",
    "\n",
    "\n",
    "if __name__ == \"__main__\":\n",
    "    x = Calendar(31,12,2012)\n",
    "    print(x, end=\" \")\n",
    "    x.advance()\n",
    "    print(\"Nach advance: \", x)\n",
    "    print(\"2012 war ein Schaltjahr:\")\n",
    "    x = Calendar(28,2,2012)\n",
    "    print(x, end=\" \")\n",
    "    x.advance()\n",
    "    print(\"Nach advance: \", x)\n",
    "    x = Calendar(28,2,2013)\n",
    "    print(x, end=\" \")\n",
    "    x.advance()\n",
    "    print(\"Nach advance: \", x)\n",
    "    print(\"1900 kein leapyear: Zahl teilbar durch 100 aber nicht durch 400: \")\n",
    "    x = Calendar(28,2,1900)\n",
    "    print(x, end=\" \")\n",
    "    x.advance()\n",
    "    print(\"Nach advance: \", x)\n",
    "    print(\"2000 war ein Schaltjahr, weil die Zahl durch 400 teilbar ist: \")\n",
    "    x = Calendar(29,2,2000)\n",
    "    print(x, end=\" \")\n",
    "    x.advance()\n",
    "    print(\"Nach advance: \", x)\n",
    "    print(\"Wechsel zum amerikanischen Datumsstil: \")\n",
    "    Calendar.date_style = \"American\"\n",
    "    print(\"Nach advance: \", x)  "
   ]
  },
  {
   "cell_type": "markdown",
   "metadata": {},
   "source": [
    "Zuletzt werden wir unser Beispiel für Mehrfachvererbung vorstellen. Wir sind jetzt in der Lage, die ursprünglich vorgesehene Klasse CalendarClock zu implementieren, die sowohl von Clock als auch von Calendar erbt. Die Methode \"tick\" von Clock muss überschrieben werden. Die neue Tick-Methode von CalendarClock muss jedoch die Tick-Methode von Clock aufrufen: Clock.tick (self)"
   ]
  },
  {
   "cell_type": "code",
   "execution_count": 12,
   "metadata": {},
   "outputs": [
    {
     "name": "stdout",
     "output_type": "stream",
     "text": [
      "Ein Tick von  31/12/2013, 23:59:59 nach  01/01/2014, 00:00:00\n",
      "Ein Tick von  28/02/1900, 23:59:59 to  01/03/1900, 00:00:00\n",
      "One tick from  28/02/2000, 23:59:59 to  29/02/2000, 00:00:00\n",
      "Ein Tick von  07/02/2013, 13:55:40 nach  07/02/2013, 13:55:41\n"
     ]
    }
   ],
   "source": [
    "\"\"\" \n",
    "Modul, das die Klasse CalendarClock implementiert.\n",
    "\"\"\"\n",
    "\n",
    "from clock import Clock\n",
    "from calender import Calendar\n",
    "\n",
    "\n",
    "class CalendarClock(Clock, Calendar):\n",
    "    \"\"\" \n",
    "        Die Klasse CalendarClock implementiert eine Uhr mit integrierter\n",
    "         Kalender. Es handelt sich um eine Mehrfachvererbung, da diese erbt\n",
    "         sowohl von der Clock als auch vom Calendar\n",
    "    \"\"\"\n",
    "\n",
    "    def __init__(self, day, month, year, hour, minute, second):\n",
    "        Clock.__init__(self,hour, minute, second)\n",
    "        Calendar.__init__(self, day, month, year)\n",
    "\n",
    "\n",
    "    def tick(self):\n",
    "        \"\"\"\n",
    "        Stellen Sie die Uhr um eine Sekunde vor\n",
    "        \"\"\"\n",
    "        previous_hour = self._hours\n",
    "        Clock.tick(self)\n",
    "        if (self._hours < previous_hour): \n",
    "            self.advance()\n",
    "\n",
    "    def __str__(self):\n",
    "        return Calendar.__str__(self) + \", \" + Clock.__str__(self)\n",
    "\n",
    "\n",
    "if __name__ == \"__main__\":\n",
    "    x = CalendarClock(31, 12, 2013, 23, 59, 59)\n",
    "    print(\"Ein Tick von \",x, end=\" \")\n",
    "    x.tick()\n",
    "    print(\"nach \", x)\n",
    "\n",
    "    x = CalendarClock(28, 2, 1900, 23, 59, 59)\n",
    "    print(\"Ein Tick von \",x, end=\" \")\n",
    "    x.tick()\n",
    "    print(\"to \", x)\n",
    "\n",
    "    x = CalendarClock(28, 2, 2000, 23, 59, 59)\n",
    "    print(\"One tick from \",x, end=\" \")\n",
    "    x.tick()\n",
    "    print(\"to \", x)\n",
    "\n",
    "    x = CalendarClock(7, 2, 2013, 13, 55, 40)\n",
    "    print(\"Ein Tick von \",x, end=\" \")\n",
    "    x.tick()\n",
    "    print(\"nach \", x)"
   ]
  },
  {
   "cell_type": "markdown",
   "metadata": {},
   "source": [
    "### Das Diamantproblem oder der tödliche Diamant des Todes ''\n",
    "\n",
    "<img  class=\"imgright\" width=200 src=\"../images/diamond.webp\" srcset=\"../images/diamond_800w.webp 800w,../images/diamond_700w.webp 700w,../images/diamond_600w.webp 600w,../images/diamond_500w.webp 500w,../images/diamond_400w.webp 400w,../images/diamond_350w.webp 350w,../images/diamond_300w.webp 300w\" alt=\"Diamond Problem\" />\n",
    "\n",
    "Das \"Diamantproblem\" (manchmal als \"tödlicher Diamant des Todes\" bezeichnet) ist der allgemein verwendete Begriff für eine Mehrdeutigkeit, die entsteht, wenn zwei Klassen B und C von einer Oberklasse A und eine andere Klasse D sowohl von B als auch von C erben. Wenn es in A eine Methode \"m\" gibt, die B oder C (oder sogar beide) überschrieben hat, und wenn diese Methode nicht überschrieben wird, stellt sich die Frage, welche Version der Methode D erbt. Es könnte der von A, B oder C sein.\n",
    "\n",
    "Schauen wir uns Python an. Die erste Diamond Problem-Konfiguration sieht folgendermaßen aus: Sowohl B als auch C überschreiben die Methode m von A:"
   ]
  },
  {
   "cell_type": "code",
   "execution_count": 34,
   "metadata": {},
   "outputs": [
    {
     "name": "stdout",
     "output_type": "stream",
     "text": [
      "m von C aufgerufen\n"
     ]
    }
   ],
   "source": [
    "class A:\n",
    "    def m(self):\n",
    "        print(\"m von A ruft\")\n",
    "\n",
    "class B(A):\n",
    "    def m(self):\n",
    "        print(\"m von B aufgerufen\")\n",
    "    \n",
    "class C(A):\n",
    "    def m(self):\n",
    "        print(\"m von C aufgerufen\")\n",
    "\n",
    "class D(B,C):\n",
    "    pass\n",
    "\n",
    "x=D()\n",
    "x.m()"
   ]
  },
  {
   "cell_type": "markdown",
   "metadata": {},
   "source": [
    "Wenn Sie die Methode m für eine Instanz x von D aufrufen, d. H. x.m (), erhalten wir die Ausgabe \"m von B aufgerufen\". Wenn wir die Reihenfolge der Klassen im Klassenkopf von D in \"Klasse D (C, B):\" transponieren, erhalten wir die Ausgabe \"m von C aufgerufen\".\n",
    "\n",
    "Der Fall, in dem m nur in einer der Klassen B oder C überschrieben wird, z. in C:"
   ]
  },
  {
   "cell_type": "code",
   "execution_count": 59,
   "metadata": {},
   "outputs": [
    {
     "name": "stdout",
     "output_type": "stream",
     "text": [
      "m von C aufgerufen\n"
     ]
    }
   ],
   "source": [
    "class A:\n",
    "    def m(self):\n",
    "        print(\"m von A aufgerufen\")\n",
    "\n",
    "class B(A):\n",
    "    pass\n",
    "    \n",
    "class C(A):\n",
    "    def m(self):\n",
    "        print(\"m von C aufgerufen\")\n",
    "\n",
    "class D(B,C):\n",
    "    pass\n",
    "\n",
    "x=D()\n",
    "x.m()"
   ]
  },
  {
   "cell_type": "markdown",
   "metadata": {},
   "source": [
    "Grundsätzlich sind zwei Möglichkeiten vorstellbar: \"m von C\" oder \"m von A\" könnten verwendet werden\n",
    "\n",
    "Wir rufen dieses Skript mit Python2.7 (Python) und Python3 (Python3) auf, um zu sehen, was passiert:\n",
    "<pre>\n",
    "$ python diamant1.py\n",
    "m von A ruft\n",
    "$ python3 diamant1.py\n",
    "m von C ruft\n",
    "</pre>"
   ]
  },
  {
   "cell_type": "markdown",
   "metadata": {},
   "source": [
    "Nur für diejenigen, die sich für Python Version 2 interessieren:\n",
    "Um in Python2 dasselbe Vererbungsverhalten wie in Python3 zu haben, muss jede Klasse von der Klasse \"Objekt\" erben. Unsere Klasse A erbt nicht vom Objekt, daher erhalten wir eine sogenannte Old-Style-Klasse, wenn wir das Skript mit python2 aufrufen. Die Mehrfachvererbung mit Klassen alten Stils unterliegt zwei Regeln: Tiefe zuerst und dann von links nach rechts. Wenn Sie die Kopfzeile von A in \"Klasse A (Objekt):\" ändern, haben wir in beiden Python-Versionen das gleiche Verhalten.\n",
    "### super und MRO\n",
    "\n",
    "Wir haben in unserer vorherigen Implementierung des Diamantproblems gesehen, wie Python das Problem \"löst\", d. H. In welcher Reihenfolge die Basisklassen durchsucht werden. Die Reihenfolge wird durch die sogenannte \"Method Resolution Order\" oder kurz MRO * definiert.\n",
    "\n",
    "Wir werden unser vorheriges Beispiel erweitern, sodass jede Klasse ihre eigene Methode m definiert:"
   ]
  },
  {
   "cell_type": "code",
   "execution_count": 60,
   "metadata": {},
   "outputs": [
    {
     "name": "stdout",
     "output_type": "stream",
     "text": [
      "m von D aufgerufen\n"
     ]
    }
   ],
   "source": [
    "class A:\n",
    "    def m(self):\n",
    "        print(\"m von A aufgerufen\")\n",
    "\n",
    "class B(A):\n",
    "    def m(self):\n",
    "        print(\"m von B aufgerufen\")\n",
    "    \n",
    "class C(A):\n",
    "    def m(self):\n",
    "        print(\"m von C aufgerufen\")\n",
    "\n",
    "class D(B,C):\n",
    "    def m(self):\n",
    "        print(\"m von D aufgerufen\")\n",
    "\n",
    "x = D()\n",
    "x.m()"
   ]
  },
  {
   "cell_type": "markdown",
   "metadata": {},
   "source": [
    "Wenden wir die Methode m auf eine Instanz von D an. Wir können sehen, dass nur der Code der Methode m von D ausgeführt wird. Wir können die Methoden m der anderen Klassen auch explizit über den Klassennamen aufrufen, wie wir in der folgenden interaktiven Python-Sitzung demonstrieren:"
   ]
  },
  {
   "cell_type": "code",
   "execution_count": 61,
   "metadata": {},
   "outputs": [
    {
     "name": "stdout",
     "output_type": "stream",
     "text": [
      "m von B aufgerufen\n"
     ]
    }
   ],
   "source": [
    "class A:\n",
    "    def m(self):\n",
    "        print(\"m von A aufgerufen\")\n",
    "\n",
    "class B(A):\n",
    "    def m(self):\n",
    "        print(\"m von B aufgerufen\")\n",
    "    \n",
    "class C(A):\n",
    "    def m(self):\n",
    "        print(\"m von C aufgerufen\")\n",
    "\n",
    "class D(B,C):\n",
    "    def m(self):\n",
    "        print(\"m von D aufgerufen\")\n",
    "x = D()\n",
    "B.m(x)"
   ]
  },
  {
   "cell_type": "code",
   "execution_count": 62,
   "metadata": {},
   "outputs": [
    {
     "name": "stdout",
     "output_type": "stream",
     "text": [
      "m von C aufgerufen\n"
     ]
    }
   ],
   "source": [
    "C.m(x)"
   ]
  },
  {
   "cell_type": "code",
   "execution_count": 63,
   "metadata": {},
   "outputs": [
    {
     "name": "stdout",
     "output_type": "stream",
     "text": [
      "m von A aufgerufen\n"
     ]
    }
   ],
   "source": [
    "A.m(x)"
   ]
  },
  {
   "cell_type": "markdown",
   "metadata": {},
   "source": [
    "Nehmen wir nun an, dass die Methode m von D beim Aufruf auch den Code von m von B, C und A ausführen soll. Wir könnten es so umsetzen:"
   ]
  },
  {
   "cell_type": "code",
   "execution_count": 64,
   "metadata": {},
   "outputs": [
    {
     "name": "stdout",
     "output_type": "stream",
     "text": [
      "m of D ruft\n",
      "m von B aufgerufen\n",
      "m von C aufgerufen\n",
      "m von A aufgerufen\n"
     ]
    }
   ],
   "source": [
    "class D(B,C):\n",
    "    def m(self):\n",
    "        print(\"m of D ruft\")\n",
    "        B.m(self)\n",
    "        C.m(self)\n",
    "        A.m(self)\n",
    "x=D()\n",
    "x.m()"
   ]
  },
  {
   "cell_type": "markdown",
   "metadata": {},
   "source": [
    "Die Ausgabe ist wie erwartet:"
   ]
  },
  {
   "cell_type": "markdown",
   "metadata": {},
   "source": [
    "Aber es stellt sich erneut heraus, dass die Dinge komplizierter sind, als sie scheinen. Wie können wir mit der Situation umgehen, wenn wir sowohl m von B als auch m von C aus auf  m von A zugreifen müssen? In diesem Fall müssen wir den Aufruf A.m (self) von m in D entfernen. Der Code könnte so aussehen, aber es lauert immer noch ein Fehler darin:"
   ]
  },
  {
   "cell_type": "code",
   "execution_count": 51,
   "metadata": {},
   "outputs": [
    {
     "name": "stdout",
     "output_type": "stream",
     "text": [
      "m of D aufgerufen\n",
      "m of B aufgerufen\n",
      "m of A aufgerufen\n",
      "m of C aufgerufen\n",
      "m of A aufgerufen\n"
     ]
    }
   ],
   "source": [
    "class A:\n",
    "    def m(self):\n",
    "        print(\"m of A aufgerufen\")\n",
    "\n",
    "class B(A):\n",
    "    def m(self):\n",
    "        print(\"m of B aufgerufen\")\n",
    "        A.m(self)\n",
    "    \n",
    "class C(A):\n",
    "    def m(self):\n",
    "        print(\"m of C aufgerufen\")\n",
    "        A.m(self)\n",
    "\n",
    "class D(B,C):\n",
    "    def m(self):\n",
    "        print(\"m of D aufgerufen\")\n",
    "        B.m(self)\n",
    "        C.m(self)\n",
    "x = D()\n",
    "x.m()"
   ]
  },
  {
   "cell_type": "markdown",
   "metadata": {},
   "source": [
    "Nun wird m von A von B und C aus aufgerufen und beim Aufruf wird nicht unterschieden."
   ]
  },
  {
   "cell_type": "markdown",
   "metadata": {},
   "source": [
    "Eine Möglichkeit, dieses Problem zu lösen - zugegebenermaßen keine pythonische - besteht darin, die Methoden m von B und C in zwei Methoden aufzuteilen. Die erste Methode mit dem Namen ``` _m``` besteht aus dem spezifischen Code für B und C und die andere Methode heißt immer noch m, besteht aber jetzt aus einem Aufruf `` `self._m ()` `` und einem Aufruf ```A.m(self)```. Der Code der Methode m von D besteht nun aus dem spezifischen Code von D 'print (\"m von D ruft\")' und den Aufrufen ```B._m(self)```, ```C._m(self)``` und  ```A.m(self)```:"
   ]
  },
  {
   "cell_type": "code",
   "execution_count": 56,
   "metadata": {},
   "outputs": [
    {
     "name": "stdout",
     "output_type": "stream",
     "text": [
      "m von D ruft\n",
      "m von B ruft\n",
      "m von C ruft\n",
      "m von A ruft\n"
     ]
    }
   ],
   "source": [
    "class A:\n",
    "    def m(self):\n",
    "        print(\"m von A aufgerufen\")\n",
    "\n",
    "class B(A):\n",
    "    def _m(self):\n",
    "        print(\"m von B aufgerufen\")\n",
    "    def m(self):\n",
    "        self._m()\n",
    "        A.m(self)\n",
    "    \n",
    "class C(A):\n",
    "    def _m(self):\n",
    "        print(\"m von C aufgerufen\")\n",
    "    def m(self):\n",
    "        self._m()\n",
    "        A.m(self)\n",
    "\n",
    "class D(B,C):\n",
    "    def m(self):\n",
    "        print(\"m von D ruft\")\n",
    "        B._m(self)\n",
    "        C._m(self)\n",
    "        A.m(self)\n",
    "x = D()\n",
    "x.m()"
   ]
  },
  {
   "cell_type": "markdown",
   "metadata": {},
   "source": [
    "Unser Problem ist gelöst, aber - wie bereits erwähnt - nicht pythonisch:"
   ]
  },
  {
   "cell_type": "markdown",
   "metadata": {},
   "source": [
    "Der optimale Weg, um das Problem zu lösen, der \"super\" pythonische Weg, wäre der Aufruf der Superfunktion.\n",
    "Diese sorgt dafür, dass jeweils nur eine Hierarchieebene höher gesprungen wird, wenn alle Aufrufe der parallelen Ebene bearbeitet sind. Hier also D-> C dann D-> B in der gleichen Ebene und dann erst A."
   ]
  },
  {
   "cell_type": "code",
   "execution_count": 68,
   "metadata": {},
   "outputs": [],
   "source": [
    "class A:\n",
    "    def m(self):\n",
    "        print(\"m von A aufgerufen\")\n",
    "\n",
    "class B(A):\n",
    "    def m(self):\n",
    "        print(\"m von B aufgerufen\")\n",
    "        super().m()\n",
    "    \n",
    "class C(A):\n",
    "    def m(self):\n",
    "        print(\"m von C aufgerufen\")\n",
    "        super().m()\n",
    "\n",
    "class D(B,C):\n",
    "    def m(self):\n",
    "        print(\"m von D ruft\")\n",
    "        super().m()\n",
    "        \n"
   ]
  },
  {
   "cell_type": "markdown",
   "metadata": {},
   "source": [
    "Es löst auch unser Problem, aber auch in einem schönen Design:"
   ]
  },
  {
   "cell_type": "code",
   "execution_count": 69,
   "metadata": {},
   "outputs": [
    {
     "name": "stdout",
     "output_type": "stream",
     "text": [
      "m von D ruft\n",
      "m von B aufgerufen\n",
      "m von C aufgerufen\n",
      "m von A aufgerufen\n"
     ]
    }
   ],
   "source": [
    "x = D()\n",
    "x.m()"
   ]
  },
  {
   "cell_type": "markdown",
   "metadata": {},
   "source": [
    "Die Superfunktion wird häufig verwendet, wenn Instanzen mit der Methode ```__init__``` initialisiert werden:"
   ]
  },
  {
   "cell_type": "code",
   "execution_count": 23,
   "metadata": {},
   "outputs": [],
   "source": [
    "class A:\n",
    "    def __init__(self):\n",
    "        print(\"A.__init__\")\n",
    "\n",
    "class B(A):\n",
    "    def __init__(self):\n",
    "        print(\"B.__init__\")\n",
    "        super().__init__()\n",
    "    \n",
    "class C(A):\n",
    "    def __init__(self):\n",
    "        print(\"C.__init__\")\n",
    "        super().__init__()\n",
    "\n",
    "\n",
    "class D(B,C):\n",
    "    def __init__(self):\n",
    "        print(\"D.__init__\")\n",
    "        super().__init__()"
   ]
  },
  {
   "cell_type": "markdown",
   "metadata": {},
   "source": [
    "Wir zeigen die Arbeitsweise in der folgenden interaktiven Sitzung:"
   ]
  },
  {
   "cell_type": "code",
   "execution_count": 24,
   "metadata": {},
   "outputs": [
    {
     "name": "stdout",
     "output_type": "stream",
     "text": [
      "D.__init__\n",
      "B.__init__\n",
      "C.__init__\n",
      "A.__init__\n"
     ]
    }
   ],
   "source": [
    "d = D()"
   ]
  },
  {
   "cell_type": "code",
   "execution_count": 25,
   "metadata": {},
   "outputs": [
    {
     "name": "stdout",
     "output_type": "stream",
     "text": [
      "C.__init__\n",
      "A.__init__\n"
     ]
    }
   ],
   "source": [
    "c = C()"
   ]
  },
  {
   "cell_type": "code",
   "execution_count": 26,
   "metadata": {},
   "outputs": [
    {
     "name": "stdout",
     "output_type": "stream",
     "text": [
      "B.__init__\n",
      "A.__init__\n"
     ]
    }
   ],
   "source": [
    "b = B()"
   ]
  },
  {
   "cell_type": "code",
   "execution_count": 27,
   "metadata": {},
   "outputs": [
    {
     "name": "stdout",
     "output_type": "stream",
     "text": [
      "A.__init__\n"
     ]
    }
   ],
   "source": [
    "a = A()"
   ]
  },
  {
   "cell_type": "markdown",
   "metadata": {},
   "source": [
    "Es stellt sich die Frage, wie die Superfunktionen Entscheidungen treffen. Wie entscheidet es, welche Klasse verwendet werden soll? Wie bereits erwähnt, wird die sogenannte Method Resolution Order (MRO) verwendet. Es basiert auf dem Algorithmus \"C3 Superclass Linearization\". Dies wird als Linearisierung bezeichnet, da die Baumstruktur in eine lineare Reihenfolge unterteilt ist. Die mro-Methode kann verwendet werden, um die jeweiligen Listen der Zugriffe zu erstellen:"
   ]
  },
  {
   "cell_type": "code",
   "execution_count": 70,
   "metadata": {},
   "outputs": [
    {
     "data": {
      "text/plain": [
       "[__main__.D, __main__.B, __main__.C, __main__.A, object]"
      ]
     },
     "execution_count": 70,
     "metadata": {},
     "output_type": "execute_result"
    }
   ],
   "source": [
    "D.mro()"
   ]
  },
  {
   "cell_type": "code",
   "execution_count": 29,
   "metadata": {},
   "outputs": [
    {
     "data": {
      "text/plain": [
       "[__main__.B, __main__.A, object]"
      ]
     },
     "execution_count": 29,
     "metadata": {},
     "output_type": "execute_result"
    }
   ],
   "source": [
    "B.mro()"
   ]
  },
  {
   "cell_type": "code",
   "execution_count": 30,
   "metadata": {},
   "outputs": [
    {
     "data": {
      "text/plain": [
       "[__main__.A, object]"
      ]
     },
     "execution_count": 30,
     "metadata": {},
     "output_type": "execute_result"
    }
   ],
   "source": [
    "A.mro()"
   ]
  },
  {
   "cell_type": "markdown",
   "metadata": {},
   "source": [
    "### Polymorphismus\n",
    "\n",
    "<img  class=\"imgright\" width=300 src=\"../images/Morpheus_and_Iris.webp\" srcset=\"../images/Morpheus_and_Iris_400w.webp 400w,../images/Morpheus_and_Iris_350w.webp 350w,../images/Morpheus_and_Iris_300w.webp 300w\" alt=\"Morpheus and Iris\" />\n",
    "\n",
    "Polymorphismus wird aus zwei griechischen Wörtern konstruiert. \"Poly\" steht für \"viel\" oder \"viele\" und \"Morph\" bedeutet Form oder Gestalt. Polymorphismus ist der Zustand oder die Bedingung, polymorph zu sein, oder wenn wir die Übersetzungen der Komponenten verwenden, \"die Fähigkeit, in vielen Formen oder Formen zu sein. Polymorphismus ist ein Begriff, der in vielen wissenschaftlichen Bereichen verwendet wird. In der Kristallographie definiert er den Zustand, wenn etwas kristallisiert in zwei oder mehr chemisch identische, aber kristallographisch unterschiedliche Formen. Biologen kennen Polymorphismus als die Existenz eines Organismus in verschiedenen Formen oder Farbvarianten. Die Römer hatten sogar einen Gott namens Morpheus, der jede menschliche Form annehmen kann: Morheus erscheint in Ovid und verwandelt sich und ist der Sohn von Somnus, dem Gott des Schlafes. Sie können Morpheus und Iris auf dem Bild oben bewundern.\n",
    "\n",
    "Bevor wir einschlafen, kehren wir zu Python zurück und zu dem, was Polymorphismus im Kontext von Programmiersprachen bedeutet. Polymorphismus in der Informatik ist die Fähigkeit, dieselbe Schnittstelle für unterschiedliche zugrunde liegende Formen darzustellen. Wir können zum Beispiel in einigen Programmiersprachen polymorphe Funktionen oder Methoden haben. Polymorphe Funktionen oder Methoden können auf Argumente unterschiedlichen Typs angewendet werden und sie können sich je nach Art der Argumente, auf die sie angewendet werden, unterschiedlich verhalten. Wir können den gleichen Funktionsnamen auch mit einer variierenden Anzahl von Parametern definieren.\n",
    "\n",
    "Schauen wir uns die folgende Python-Funktion an:"
   ]
  },
  {
   "cell_type": "code",
   "execution_count": 40,
   "metadata": {},
   "outputs": [
    {
     "name": "stdout",
     "output_type": "stream",
     "text": [
      "Werte:  42 43\n",
      "Werte:  42 43.7\n",
      "Werte:  42.3 43\n",
      "Werte:  42.0 43.9\n"
     ]
    }
   ],
   "source": [
    "def f(x, y):\n",
    "    print(\"Werte: \", x, y)\n",
    "\n",
    "f(42, 43)\n",
    "f(42, 43.7) \n",
    "f(42.3, 43)\n",
    "f(42.0, 43.9)"
   ]
  },
  {
   "cell_type": "markdown",
   "metadata": {},
   "source": [
    "Wir können diese Funktion mit verschiedenen Typen aufrufen, wie im Beispiel gezeigt. In typisierten Programmiersprachen wie Java oder C ++ müssten wir f überladen, um die verschiedenen Typkombinationen zu implementieren.\n",
    "\n",
    "Unser Beispiel könnte folgendermaßen in C ++ implementiert werden:"
   ]
  },
  {
   "cell_type": "markdown",
   "metadata": {},
   "source": [
    "<pre>\n",
    "#include <iostream>\n",
    "using namespace std;\n",
    "\n",
    "void f(int x, int y ) {\n",
    "    cout << \"values: \" << x << \", \" << x << endl;\n",
    "}\n",
    "\n",
    "void f(int x, double y ) {\n",
    "    cout << \"values: \" << x << \", \" << x << endl;\n",
    "}\n",
    "\n",
    "void f(double x, int y ) {\n",
    "    cout << \"values: \" << x << \", \" << x << endl;\n",
    "}\n",
    "\n",
    "void f(double x, double y ) {\n",
    "    cout << \"values: \" << x << \", \" << x << endl;\n",
    "}\n",
    "\n",
    "\n",
    "int main()\n",
    "{\n",
    "    f(42, 43); \n",
    "    f(42, 43.7); \n",
    "    f(42.3,43);\n",
    "    f(42.0, 43.9); \n",
    "}\n",
    "</pre>"
   ]
  },
  {
   "cell_type": "markdown",
   "metadata": {},
   "source": [
    "Python ist implizit polymorph. Wir können unsere zuvor definierte Funktion f sogar auf Listen, Zeichenfolgen oder andere Typen anwenden, die gedruckt werden können:"
   ]
  },
  {
   "cell_type": "code",
   "execution_count": 36,
   "metadata": {},
   "outputs": [],
   "source": [
    "def f(x,y):\n",
    "    print(\"Werte: \", x, y)"
   ]
  },
  {
   "cell_type": "code",
   "execution_count": 37,
   "metadata": {},
   "outputs": [
    {
     "name": "stdout",
     "output_type": "stream",
     "text": [
      "Werte:  [3, 5, 6] (3, 5)\n"
     ]
    }
   ],
   "source": [
    "f([3,5,6],(3,5))"
   ]
  },
  {
   "cell_type": "code",
   "execution_count": 38,
   "metadata": {},
   "outputs": [
    {
     "name": "stdout",
     "output_type": "stream",
     "text": [
      "Werte:  Eine Zeichenkette ('Ein Tupel', 'mit Zeichenketten')\n"
     ]
    }
   ],
   "source": [
    "f(\"Eine Zeichenkette\", (\"Ein Tupel\", \"mit Zeichenketten\"))"
   ]
  },
  {
   "cell_type": "code",
   "execution_count": 39,
   "metadata": {},
   "outputs": [
    {
     "name": "stdout",
     "output_type": "stream",
     "text": [
      "Werte:  {9, 2, 3} {'a': 3.4, 'b': 7.8, 'c': 9.04}\n"
     ]
    }
   ],
   "source": [
    "f({2,3,9}, {\"a\":3.4,\"b\":7.8, \"c\":9.04})"
   ]
  },
  {
   "cell_type": "markdown",
   "metadata": {},
   "source": [
    "### Fußnoten\n",
    "* *\n",
    "Python verwendet seit 2.3 den ,, C3 Superclass Linearization '' - Algorithmus, um die MRO zu bestimmen. ->"
   ]
  }
 ],
 "metadata": {
  "kernelspec": {
   "display_name": "Python 3",
   "language": "python",
   "name": "python3"
  },
  "language_info": {
   "codemirror_mode": {
    "name": "ipython",
    "version": 3
   },
   "file_extension": ".py",
   "mimetype": "text/x-python",
   "name": "python",
   "nbconvert_exporter": "python",
   "pygments_lexer": "ipython3",
   "version": "3.8.8"
  }
 },
 "nbformat": 4,
 "nbformat_minor": 4
}
