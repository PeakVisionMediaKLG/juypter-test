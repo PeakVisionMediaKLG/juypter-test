{
 "cells": [
  {
   "cell_type": "markdown",
   "metadata": {},
   "source": [
    "## Magische Methoden und Operatorüberladung\n",
    "\n",
    "\n",
    "### Einführung\n",
    "<img class=\"imgright\" width=300 src=\"../images/marvin_the_magician.webp\" srcset=\"../images/marvin_the_magician_400w.webp 400w,../images/marvin_the_magician_350w.webp 350w,../images/marvin_the_magician_300w.webp 300w\" alt=\"Marvin, the magician\" />\n",
    "\n",
    "Die sogenannten magischen Methoden haben nichts mit Zauberei zu tun. Sie haben sie bereits in den vorherigen Kapiteln unseres Tutorials gesehen. Sie sind spezielle Methoden mit festen Namen. Sie sind die Methoden mit dieser ungeschickten Syntax, d. H. die doppelten Unterstriche am Anfang und am Ende. Sie sind auch schwer zu besprechen. Wie spricht man einen Methodennamen wie ```__init__``` aus oder sagt er aus? \"Unterstrich Unterstrich Init Unterstrich Unterstrich\" klingt schrecklich und ist fast ein Zungenbrecher. \"Double Underscore Init Double Underscore\" ist viel besser, aber der ideale Weg ist \"Dunder Init Dunder\" * Deshalb werden magische Methoden Methoden manchmal als Dunder Methoden bezeichnet *!\n",
    "\n",
    "Was ist also Magie an der ```__init__``` Methode? Die Antwort lautet: Sie müssen es nicht direkt aufrufen. Der Aufruf erfolgt hinter den Kulissen. Wenn Sie eine Instanz x einer Klasse A mit der Anweisung \"x = A ()\" erstellen, führt Python die erforderlichen Aufrufe für ``` __new__``` und ```__init__``` aus.\n",
    "\n",
    "Gegen Ende dieses Kapitels unseres Tutorials werden wir die Methode ```__call__``` einführen. Es wird von vielen Anfängern und sogar fortgeschrittenen Programmierern von Python übersehen. Es ist eine Funktionalität, die viele Programmiersprachen nicht haben, daher suchen Programmierer im Allgemeinen nicht danach. Mit der Methode ```__call__``` können Python-Programmierer Klassen schreiben, in denen sich die Instanzen wie Funktionen verhalten. Beide Funktionen und die Instanzen solcher Klassen werden als aufrufbare Dateien bezeichnet.\n",
    "\n",
    "Im Verlauf dieses Tutorials sind wir häufig auf das Konzept der Operatoren Überladung gestoßen. Wir hatten das Pluszeichen verwendet,sowohl um numerische Werte hinzuzufügen als auch Zeichenfolgen zu verketten oder Listen zu kombinieren:"
   ]
  },
  {
   "cell_type": "code",
   "execution_count": 1,
   "metadata": {},
   "outputs": [
    {
     "data": {
      "text/plain": [
       "9"
      ]
     },
     "execution_count": 1,
     "metadata": {},
     "output_type": "execute_result"
    }
   ],
   "source": [
    "4 + 5"
   ]
  },
  {
   "cell_type": "code",
   "execution_count": 2,
   "metadata": {},
   "outputs": [
    {
     "data": {
      "text/plain": [
       "12.8"
      ]
     },
     "execution_count": 2,
     "metadata": {},
     "output_type": "execute_result"
    }
   ],
   "source": [
    "3.8 + 9"
   ]
  },
  {
   "cell_type": "code",
   "execution_count": 3,
   "metadata": {},
   "outputs": [
    {
     "data": {
      "text/plain": [
       "'Peter Pan'"
      ]
     },
     "execution_count": 3,
     "metadata": {},
     "output_type": "execute_result"
    }
   ],
   "source": [
    "\"Peter\" + \" \" + \"Pan\""
   ]
  },
  {
   "cell_type": "code",
   "execution_count": 4,
   "metadata": {},
   "outputs": [
    {
     "data": {
      "text/plain": [
       "[3, 6, 8, 7, 11, 13]"
      ]
     },
     "execution_count": 4,
     "metadata": {},
     "output_type": "execute_result"
    }
   ],
   "source": [
    "[3,6,8] + [7,11,13]"
   ]
  },
  {
   "cell_type": "markdown",
   "metadata": {},
   "source": [
    "<img class=\"imgright\" width=200 src=\"../images/operator_overloading__add__.webp\" srcset=\"../images/operator_overloading__add___350w.webp 350w,../images/operator_overloading__add___300w.webp 300w\" alt=\"Operator Overloading __add__\" />\n",
    "\n",
    "\n",
    "Es ist sogar möglich, den Operator \"+\" sowie alle anderen Operatoren für die Zwecke Ihrer eigenen Klasse zu überladen. Dazu müssen Sie den zugrunde liegenden Mechanismus verstehen. Für jedes Bedienerzeichen gibt es eine spezielle (oder \"magische\") Methode. Die magische Methode für das \"+\" - Zeichen ist die ```__add__``` Methode. Für \"-\" ist es ```__sub__``` und so weiter. Wir haben eine vollständige Liste aller magischen Methoden etwas weiter unten.\n",
    "\n",
    "Der Mechanismus funktioniert folgendermaßen: Wenn wir einen Ausdruck \"x + y\" haben und x und y eine Instanz der Klasse K sind, überprüft Python die Klassendefinition von K. Wenn K eine Methode ```__add__``` hat, wird sie aufgerufen mit ```x .__ add __ (y)```, sonst erhalten wir eine Fehlermeldung:\n",
    "\n",
    "Traceback (most recent call last):\n",
    "<br>\n",
    "  File \"```<stdin>```\", line 1, in ```<module>```\n",
    "<br>\n",
    "TypeError: unsupported operand type(s) for +: 'K' and 'K'\n",
    "<br>"
   ]
  },
  {
   "cell_type": "markdown",
   "metadata": {},
   "source": [
    "### Überblick über magische Methoden\n",
    "\n",
    "#### Binäroperatoren\n",
    "\n",
    "<table\n",
    "style=\"text-align: left; width: 100%; background-color: rgb(220, 255, 220);\"\n",
    "border=\"0\" cellpadding=\"2\" cellspacing=\"2\">\n",
    "<tbody>\n",
    "<tr>\n",
    "<th style=\"vertical-align: top;\">Operator</th>\n",
    "<th style=\"vertical-align: top;\">Methode</th>\n",
    "</tr>\n",
    "\n",
    "<tr>\n",
    "<td style=\"vertical-align: top;\">+</td>\n",
    "<td style=\"vertical-align: top;\">object.__add__(self, other) </td>\n",
    "</tr>\n",
    "\n",
    "<tr>\n",
    "<td style=\"vertical-align: top;\">-</td>\n",
    "<td style=\"vertical-align: top;\">object.__sub__(self, other)</td>\n",
    "</tr>\n",
    "\n",
    "<tr>\n",
    "<td style=\"vertical-align: top;\">*</td>\n",
    "<td style=\"vertical-align: top;\">object.__mul__(self, other) </td>\n",
    "</tr>\n",
    "\n",
    "<tr>\n",
    "<td style=\"vertical-align: top;\">//</td>\n",
    "<td style=\"vertical-align: top;\">object.__floordiv__(self, other)</td>\n",
    "</tr>\n",
    "\n",
    "<tr>\n",
    "<td style=\"vertical-align: top;\">/</td>\n",
    "<td style=\"vertical-align: top;\">object.__truediv__(self, other)</td>\n",
    "</tr>\n",
    "\n",
    "<tr>\n",
    "<td style=\"vertical-align: top;\">%</td>\n",
    "<td style=\"vertical-align: top;\">object.__mod__(self, other) </td>\n",
    "</tr>\n",
    "\n",
    "<tr>\n",
    "<td style=\"vertical-align: top;\">**</td>\n",
    "<td style=\"vertical-align: top;\">object.__pow__(self, other[, modulo]) </td>\n",
    "</tr>\n",
    "\n",
    "<tr>\n",
    "<td style=\"vertical-align: top;\"><<</td>\n",
    "<td style=\"vertical-align: top;\">object.__lshift__(self, other) </td>\n",
    "</tr>\n",
    "\n",
    "<tr>\n",
    "<td style=\"vertical-align: top;\">>></td>\n",
    "<td style=\"vertical-align: top;\">object.__rshift__(self, other) </td>\n",
    "</tr>\n",
    "\n",
    "<tr>\n",
    "<td style=\"vertical-align: top;\">&</td>\n",
    "<td style=\"vertical-align: top;\">object.__and__(self, other)</td>\n",
    "</tr>\n",
    "\n",
    "<tr>\n",
    "<td style=\"vertical-align: top;\">^</td>\n",
    "<td style=\"vertical-align: top;\">object.__xor__(self, other) </td>\n",
    "</tr>\n",
    "\n",
    "<tr>\n",
    "<td style=\"vertical-align: top;\">|</td>\n",
    "<td style=\"vertical-align: top;\">object.__or__(self, other) </td>\n",
    "</tr>\n",
    "</tbody>\n",
    "</table>\n",
    "\n",
    "\n",
    "\n",
    "#### Erweiterte Zuweisungen\n",
    "\n",
    "<table style=\"text-align: left; width: 100%; background-color: rgb(220, 255, 220);\"\n",
    "border=\"0\" cellpadding=\"2\" cellspacing=\"2\">\n",
    "<tbody>\n",
    "\n",
    "<tr>\n",
    "<th style=\"vertical-align: top;\">Operator</th>\n",
    "<th style=\"vertical-align: top;\">Methode</th>\n",
    "</tr>\n",
    "\n",
    "<tr>\n",
    "<td style=\"vertical-align: top;\">+=</td>\n",
    "<td style=\"vertical-align: top;\">object.__iadd__(self, other) </td>\n",
    "</tr>\n",
    "\n",
    "<tr>\n",
    "<td style=\"vertical-align: top;\">-=</td>\n",
    "<td style=\"vertical-align: top;\">object.__isub__(self, other) </td>\n",
    "</tr>\n",
    "\n",
    "<tr>\n",
    "<td style=\"vertical-align: top;\">*=</td>\n",
    "<td style=\"vertical-align: top;\">object.__imul__(self, other) </td>\n",
    "</tr>\n",
    "\n",
    "<tr>\n",
    "<td style=\"vertical-align: top;\">/= </td>\n",
    "<td style=\"vertical-align: top;\">object.__idiv__(self, other) </td>\n",
    "</tr>\n",
    "\n",
    "<tr>\n",
    "<td style=\"vertical-align: top;\">//=</td>\n",
    "<td style=\"vertical-align: top;\">object.__ifloordiv__(self, other) </td>\n",
    "</tr>\n",
    "\n",
    "<tr>\n",
    "<td style=\"vertical-align: top;\">%=</td>\n",
    "<td style=\"vertical-align: top;\">object.__imod__(self, other) </td>\n",
    "</tr>\n",
    "\n",
    "<tr>\n",
    "<td style=\"vertical-align: top;\">**=</td>\n",
    "<td style=\"vertical-align: top;\">object.__ipow__(self, other[, modulo]) </td>\n",
    "</tr>\n",
    "\n",
    "<tr>\n",
    "<td style=\"vertical-align: top;\"><<=</td>\n",
    "<td style=\"vertical-align: top;\">object.__ilshift__(self, other) </td>\n",
    "</tr>\n",
    "\n",
    "<tr>\n",
    "<td style=\"vertical-align: top;\">>>= </td>\n",
    "<td style=\"vertical-align: top;\">object.__irshift__(self, other) </td>\n",
    "</tr>\n",
    "\n",
    "<tr>\n",
    "<td style=\"vertical-align: top;\">&=</td>\n",
    "<td style=\"vertical-align: top;\">object.__iand__(self, other) </td>\n",
    "</tr>\n",
    "\n",
    "<tr>\n",
    "<td style=\"vertical-align: top;\">^=</td>\n",
    "<td style=\"vertical-align: top;\">object.__ixor__(self, other) </td>\n",
    "</tr>\n",
    "\n",
    "<tr>\n",
    "<td style=\"vertical-align: top;\">|=</td>\n",
    "<td style=\"vertical-align: top;\">object.__ior__(self, other) </td>\n",
    "</tr>\n",
    "</tbody>\n",
    "</table>\n",
    "\n",
    "#### Unäre Operatoren\n",
    "\n",
    "\n",
    "<table\n",
    "style=\"text-align: left; width: 100%; background-color: rgb(220, 255, 220);\"\n",
    "border=\"0\" cellpadding=\"2\" cellspacing=\"2\">\n",
    "<tbody>\n",
    "\n",
    "<tr>\n",
    "<th style=\"vertical-align: top;\">Operator</th>\n",
    "<th style=\"vertical-align: top;\">Methode</th>\n",
    "</tr>\n",
    "\n",
    "<tr>\n",
    "<td style=\"vertical-align: top;\">- </td>\n",
    "<td style=\"vertical-align: top;\">object.__neg__(self) </td>\n",
    "</tr>\n",
    "\n",
    "<tr>\n",
    "<td style=\"vertical-align: top;\">+</td>\n",
    "<td style=\"vertical-align: top;\">object.__pos__(self) </td>\n",
    "</tr>\n",
    "\n",
    "<tr>\n",
    "<td style=\"vertical-align: top;\">abs()   </td>\n",
    "<td style=\"vertical-align: top;\">object.__abs__(self) </td>\n",
    "</tr>\n",
    "\n",
    "<tr>\n",
    "<td style=\"vertical-align: top;\">~</td>\n",
    "<td style=\"vertical-align: top;\">object.__invert__(self) </td>\n",
    "</tr>\n",
    "\n",
    "<tr>\n",
    "<td style=\"vertical-align: top;\">complex()       </td>\n",
    "<td style=\"vertical-align: top;\">object.__complex__(self) </td>\n",
    "</tr>\n",
    "\n",
    "<tr>\n",
    "<td style=\"vertical-align: top;\">int()           </td>\n",
    "<td style=\"vertical-align: top;\">object.__int__(self) </td>\n",
    "</tr>\n",
    "\n",
    "<tr>\n",
    "<td style=\"vertical-align: top;\">long()          </td>\n",
    "<td style=\"vertical-align: top;\">object.__long__(self) </td>\n",
    "</tr>\n",
    "\n",
    "<tr>\n",
    "<td style=\"vertical-align: top;\">float()         </td>\n",
    "<td style=\"vertical-align: top;\">object.__float__(self) </td>\n",
    "</tr>\n",
    "\n",
    "<tr>\n",
    "<td style=\"vertical-align: top;\">oct()           </td>\n",
    "<td style=\"vertical-align: top;\">object.__oct__(self) </td>\n",
    "</tr>\n",
    "\n",
    "<tr>\n",
    "<td style=\"vertical-align: top;\">hex()           </td>\n",
    "<td style=\"vertical-align: top;\">object.__hex__(self </td>\n",
    "</tr>\n",
    "\n",
    "</tbody>\n",
    "</table>\n",
    "\n",
    "#### Vergleichsoperatoren\n",
    "\n",
    "\n",
    "<table\n",
    "style=\"text-align: left; width: 100%; background-color: rgb(220, 255, 220);\"\n",
    "border=\"0\" cellpadding=\"2\" cellspacing=\"2\">\n",
    "<tbody>\n",
    "\n",
    "<tr>\n",
    "<th style=\"vertical-align: top;\">Operator</th>\n",
    "<th style=\"vertical-align: top;\">Methode</th>\n",
    "</tr>\n",
    "\n",
    "<tr>\n",
    "<td style=\"vertical-align: top;\"><        </td>\n",
    "<td style=\"vertical-align: top;\">object.__lt__(self, other) </td>\n",
    "</tr>\n",
    "\n",
    "<tr>\n",
    "<td style=\"vertical-align: top;\"><=       </td>\n",
    "<td style=\"vertical-align: top;\">object.__le__(self, other) </td>\n",
    "</tr>\n",
    "\n",
    "<tr>\n",
    "<td style=\"vertical-align: top;\">==       </td>\n",
    "<td style=\"vertical-align: top;\">object.__eq__(self, other) </td>\n",
    "</tr>\n",
    "\n",
    "<tr>\n",
    "<td style=\"vertical-align: top;\">!=       </td>\n",
    "<td style=\"vertical-align: top;\">object.__ne__(self, other) </td>\n",
    "</tr>\n",
    "\n",
    "<tr>\n",
    "<td style=\"vertical-align: top;\">>=       </td>\n",
    "<td style=\"vertical-align: top;\">object.__ge__(self, other) </td>\n",
    "</tr>\n",
    "\n",
    "<tr>\n",
    "<td style=\"vertical-align: top;\">>        </th>\n",
    "<td style=\"vertical-align: top;\">object.__gt__(self, other) </td>\n",
    "</tr>\n",
    "\n",
    "<tr>\n",
    "\n",
    "</tbody>\n",
    "</table>\n"
   ]
  },
  {
   "cell_type": "markdown",
   "metadata": {},
   "source": [
    "### Beispielklasse: Länge\n",
    "Wir machen jetzt ein Klasse Length und zeigen wie Sie den Operator ``` + ``` für Ihre eigene Klasse überladen können. Dazu müssen wir die Methode ```__add__``` einsetzen , um ```+```  zu überladen. Unsere Klasse enthält auch die Methoden ```__str__``` und ``` __repr__```. Die Instanzen der Klasse Länge enthalten Längen- oder Entfernungsinformationen. Die Attribute einer Instanz sind self.value und self.unit.\n",
    "\n",
    "Diese Klasse ermöglicht es uns, Ausdrücke mit gemischten Einheiten wie dieser zu berechnen:\n",
    "\n",
    "2,56 m + 3 yd + 7,0 in + 7,03 cm\n",
    "\n",
    "Die fertige Klasse könnte dann folgendermaßen verwendet werden:"
   ]
  },
  {
   "cell_type": "code",
   "execution_count": 5,
   "metadata": {},
   "outputs": [
    {
     "name": "stdout",
     "output_type": "stream",
     "text": [
      "5.57162\n"
     ]
    }
   ],
   "source": [
    "from unit_conversions import Length\n",
    "L = Length\n",
    "print(L(2.56,\"m\") + L(3,\"yd\") + L(7.8,\"in\") + L(7.03,\"cm\"))"
   ]
  },
  {
   "cell_type": "markdown",
   "metadata": {},
   "source": [
    "Die Auflistung der Klasse:"
   ]
  },
  {
   "cell_type": "code",
   "execution_count": 23,
   "metadata": {},
   "outputs": [
    {
     "name": "stdout",
     "output_type": "stream",
     "text": [
      "4\n",
      "Length(5.593613298337708, 'yd')\n",
      "5.1148\n"
     ]
    }
   ],
   "source": [
    "class Length: #Länge\n",
    "\n",
    "    __metric = {\"mm\" : 0.001, \"cm\" : 0.01, \"m\" : 1, \"km\" : 1000,\n",
    "                \"in\" : 0.0254, \"ft\" : 0.3048, \"yd\" : 0.9144,\n",
    "                \"mi\" : 1609.344 }\n",
    "    \n",
    "    def __init__(self, value, unit = \"m\" ): #Standardargument unit\n",
    "        self.value = value\n",
    "        self.unit = unit\n",
    "    \n",
    "    def Convert2Metres(self): # in Meter umrechnen\n",
    "        return self.value * Length.__metric[self.unit]\n",
    "    \n",
    "    def __add__(self, other):\n",
    "        l = self.Convert2Metres() + other.Convert2Metres()\n",
    "        return Length(l / Length.__metric[self.unit], self.unit )\n",
    "    \n",
    "    def __str__(self):\n",
    "        return str(self.Convert2Metres())\n",
    "    \n",
    "    def __repr__(self):\n",
    "        return \"Length(\" + str(self.value) + \", '\" + self.unit + \"')\"\n",
    "\n",
    "\n",
    "x = Length(4)\n",
    "print(x)\n",
    "y = eval(repr(x))\n",
    "z = Length(4.5, \"yd\") + Length(1)\n",
    "#x.Convert2Metres() #+ Length(1)\n",
    "print(repr(z))\n",
    "print(z)"
   ]
  },
  {
   "cell_type": "code",
   "execution_count": 24,
   "metadata": {},
   "outputs": [
    {
     "name": "stdout",
     "output_type": "stream",
     "text": [
      "4\n",
      "Length(4.2808398950131235, 'ft')\n",
      "1.3048000000000002\n"
     ]
    }
   ],
   "source": [
    "x = Length(4)\n",
    "print(x)\n",
    "y = eval(repr(x))\n",
    "z = Length(1, \"ft\") + Length(1)\n",
    "print(repr(z))\n",
    "print(z)\n"
   ]
  },
  {
   "cell_type": "code",
   "execution_count": 25,
   "metadata": {},
   "outputs": [
    {
     "data": {
      "text/plain": [
       "1.3047997272000003"
      ]
     },
     "execution_count": 25,
     "metadata": {},
     "output_type": "execute_result"
    }
   ],
   "source": [
    "4.280839 * 0.3048 #test mit Fuss"
   ]
  },
  {
   "cell_type": "markdown",
   "metadata": {},
   "source": [
    "Wir verwenden die Methode ```__iadd__```, um die erweiterte Zuweisung zu implementieren:"
   ]
  },
  {
   "cell_type": "code",
   "execution_count": 26,
   "metadata": {},
   "outputs": [],
   "source": [
    "def __iadd__(self, other):\n",
    "    l = self.Convert2Metres() + other.Convert2Metres()\n",
    "    self.value = l / Length.__metric[self.unit]\n",
    "    return self"
   ]
  },
  {
   "cell_type": "markdown",
   "metadata": {},
   "source": [
    "Jetzt können wir folgende Aufgaben schreiben:"
   ]
  },
  {
   "cell_type": "code",
   "execution_count": 28,
   "metadata": {},
   "outputs": [
    {
     "name": "stdout",
     "output_type": "stream",
     "text": [
      "13.3152\n"
     ]
    }
   ],
   "source": [
    "x += Length(1)\n",
    "x += Length(4, \"yd\")\n",
    "print(x)"
   ]
  },
  {
   "cell_type": "markdown",
   "metadata": {},
   "source": [
    "Wir haben im obigen Beispiel 1 Meter hinzugefügt, indem wir \"x + = Length (1))\" geschrieben haben. Mit Sicherheit werden Sie uns zustimmen, dass es bequemer wäre, stattdessen einfach \"x + = 1\" zu schreiben. Wir möchten auch Ausdrücke wie \"Length (5,\" yd \") + 4,8\" ähnlich behandeln. Wenn also jemand einen Typ int oder float verwendet, nimmt unsere Klasse ihn automatisch für \"meter\" und konvertiert ihn in ein Length-Objekt. Es ist einfach, unsere ```__add__``` und ```__iadd__``` Methode für diese Aufgabe anzupassen. Wir müssen lediglich den Typ des Parameters \"other\" überprüfen:"
   ]
  },
  {
   "cell_type": "code",
   "execution_count": 39,
   "metadata": {},
   "outputs": [
    {
     "name": "stdout",
     "output_type": "stream",
     "text": [
      "7.7432\n"
     ]
    }
   ],
   "source": [
    "class Length: #Länge\n",
    "\n",
    "    __metric = {\"mm\" : 0.001, \"cm\" : 0.01, \"m\" : 1, \"km\" : 1000,\n",
    "                \"in\" : 0.0254, \"ft\" : 0.3048, \"yd\" : 0.9144,\n",
    "                \"mi\" : 1609.344 }\n",
    "    \n",
    "    def __init__(self, value, unit = \"m\" ): #Standardargument unit\n",
    "        self.value = value\n",
    "        self.unit = unit\n",
    "    \n",
    "    def Convert2Metres(self): # in Meter umrechnen\n",
    "        return self.value * Length.__metric[self.unit]\n",
    "    \n",
    "    def __str__(self):\n",
    "        return str(self.Convert2Metres())\n",
    "    \n",
    "    def __repr__(self):\n",
    "        return \"Length(\" + str(self.value) + \", '\" + self.unit + \"')\"\n",
    "    \n",
    "    def __add__(self, other):        \n",
    "        if type(other) == int or type(other) == float:            \n",
    "            l = self.Convert2Metres() + other\n",
    "        else:\n",
    "            l = self.Convert2Metres() + other.Convert2Metres()\n",
    "        return Length(l / Length.__metric[self.unit], self.unit )\n",
    "\n",
    "    def __iadd__(self, other):\n",
    "        if type(other) == int or type(other) == float:\n",
    "            l = self.Convert2Metres() + other\n",
    "        else:\n",
    "            l = self.Convert2Metres() + other.Convert2Metres()\n",
    "        self.value = l / Length.__metric[self.unit]\n",
    "        return self\n",
    "\n",
    "print(Length (3,\"yd\")+5)"
   ]
  },
  {
   "cell_type": "markdown",
   "metadata": {},
   "source": [
    "Es ist eine sichere Wette, dass jemand, der für eine Weile mit dem Hinzufügen von ganzen Zahlen gearbeitet hat und dazu ```+=```  gewöhnt ist, dasselbe für Summen wie Lenght(3) + Length (4.2) auch haben möchte! Was passiert, wenn wir die  folgende Codezeile ausführen:\n",
    "\n",
    "```x = 5 + Länge (3,\" yd \")``` ?\n",
    "\n",
    "Wir werden eine Ausnahme bekommen:\n",
    "\n",
    "```AttributeError: 'int' object has no attribute 'Converse2Metres'```"
   ]
  },
  {
   "cell_type": "markdown",
   "metadata": {},
   "source": [
    "Natürlich muss der erste Summand vom Typ \"Length\" sein, da Python versucht, die Methode ```__add__```  anzuwenden, die nur Length-Objekte für den ersten Summand verarbeiten kann und diese ja mit Convert2Metres bearbeiten will, was sie mit einer einfachen integer Zahl nicht kann. ```__add__``` und ```Convert2Metres``` arbeitet ja mit ```self``` als\n",
    "Argument vom Typ Length.\n",
    "Python bietet auch eine Lösung für dieses Problem. Es ist die ```__radd__``` Methode. Das funktioniert so: Python versucht, den Ausdruck \"5 + Länge (3, 'yd')\" auszuwerten. Zuerst wird mit der integer 5 ```__add__``` (5, Länge (3, 'yd')) aufgerufen, wodurch eine Ausnahme ausgelöst wird. Danach wird versucht, Length.```__radd__``` (Length (3, \"yd\"), 5) aufzurufen, was funktioniert. Es ist leicht zu erkennen, dass die Implementierung von ```__radd__``` analog zu ```__add__``` ist:"
   ]
  },
  {
   "cell_type": "code",
   "execution_count": 57,
   "metadata": {},
   "outputs": [],
   "source": [
    "class Length: #Länge\n",
    "\n",
    "    __metric = {\"mm\" : 0.001, \"cm\" : 0.01, \"m\" : 1, \"km\" : 1000,\n",
    "                \"in\" : 0.0254, \"ft\" : 0.3048, \"yd\" : 0.9144,\n",
    "                \"mi\" : 1609.344 }\n",
    "    \n",
    "    def __init__(self, value, unit = \"m\" ): #Standardargument unit\n",
    "        self.value = value\n",
    "        self.unit = unit\n",
    "    \n",
    "    def Convert2Metres(self): # in Meter umrechnen\n",
    "        return self.value * Length.__metric[self.unit]\n",
    "    \n",
    "    def __str__(self):\n",
    "        return str(self.Convert2Metres())\n",
    "    \n",
    "    def __repr__(self):\n",
    "        return \"Length(\" + str(self.value) + \", '\" + self.unit + \"')\"\n",
    "    \n",
    "    def __add__(self, other):        \n",
    "        if type(other) == int or type(other) == float:            \n",
    "            l = self.Convert2Metres() + other\n",
    "        else:\n",
    "            l = self.Convert2Metres() + other.Convert2Metres()\n",
    "        return Length(l / Length.__metric[self.unit], self.unit )\n",
    "\n",
    "    def __iadd__(self, other):\n",
    "        if type(other) == int or type(other) == float:\n",
    "            l = self.Convert2Metres() + other\n",
    "        else:\n",
    "            l = self.Convert2Metres() + other.Convert2Metres()\n",
    "        self.value = l / Length.__metric[self.unit]\n",
    "        return self\n",
    "\n",
    "    #def __radd__(self, other):\n",
    "        #return Length.__add__(self,other)  \n",
    "\n",
    "    def __radd__(self, other):\n",
    "        if type(other) == int or type(other) == float:            \n",
    "            l = self.Convert2Metres() + other\n",
    "        return Length(l / Length.__metric[self.unit], self.unit )\n",
    "    \n"
   ]
  },
  {
   "cell_type": "markdown",
   "metadata": {},
   "source": [
    "Es ist empfohlen, die Methode ```__add__``` in der Methode ```__radd__``` zu verwenden:"
   ]
  },
  {
   "cell_type": "code",
   "execution_count": 50,
   "metadata": {},
   "outputs": [],
   "source": [
    "def __radd__(self, other):\n",
    "    return Length.__add__(self,other)  \n"
   ]
  },
  {
   "cell_type": "code",
   "execution_count": 58,
   "metadata": {},
   "outputs": [
    {
     "name": "stdout",
     "output_type": "stream",
     "text": [
      "7.7432\n"
     ]
    }
   ],
   "source": [
    "x=Length(3)\n",
    "x = 5 + Length (3,\"yd\")\n",
    "print(x)"
   ]
  },
  {
   "cell_type": "markdown",
   "metadata": {},
   "source": [
    "Das folgende Diagramm zeigt die Beziehung zwischen ```__add__``` und ```__radd__```:\n",
    "<img width=90% src=\"../images/operator_overloading__radd__.webp\" srcset=\"../images/operator_overloading__radd___700w.webp 700w,../images/operator_overloading__radd___600w.webp 600w,../images/operator_overloading__radd___500w.webp 500w,../images/operator_overloading__radd___400w.webp 400w,../images/operator_overloading__radd___350w.webp 350w,../images/operator_overloading__radd___300w.webp 300w\" alt=\"relationship between __add__ and __radd__\">"
   ]
  },
  {
   "cell_type": "markdown",
   "metadata": {},
   "source": [
    "\n",
    "Insgesamt sind alle zuvor eingeführten binären und erweiterten Zuweisungsoperatoren auch in der \"umgekehrten\" Version vorhanden z.B:\n",
    "```__radd__```, ``` __rsub__```, ```__rmul__``` usw."
   ]
  },
  {
   "cell_type": "markdown",
   "metadata": {},
   "source": [
    "### Die __call__ Methode\n",
    "\n",
    "Bevor wir zur Methode ```__call__``` kommen, müssen wir wissen, was ein Callable ist. Im Allgemeinen ist ein dies ein Objekt, das wie eine Funktion aufgerufen werden kann und sich wie eine verhält. Alle Funktionen sind auch aufrufbar. Python bietet eine eingebaute Funktion mit dem Namen ```callable```. Mit Hilfe dieser Funktion können wir feststellen, ob ein Objekt aufrufbar ist oder nicht.\n",
    "Die Funktion ```callable``` gibt einen booleschen Wahrheitswert zurück, der angibt, ob das als Argument übergebene Objekt wie eine Funktion aufgerufen werden kann oder nicht. Zusätzlich zu den Funktionen haben wir bereits eine andere Form von ```callables``` gesehen: Klassen\n",
    "\n"
   ]
  },
  {
   "cell_type": "code",
   "execution_count": 60,
   "metadata": {},
   "outputs": [
    {
     "name": "stdout",
     "output_type": "stream",
     "text": [
      "die_antwort:  True\n"
     ]
    }
   ],
   "source": [
    "def die_antwort(question):\n",
    "    return 42\n",
    "\n",
    "print(\"die_antwort: \", callable(die_antwort))"
   ]
  },
  {
   "cell_type": "markdown",
   "metadata": {},
   "source": [
    "Die Methode ```__call__``` kann verwendet werden, um die Instanzen der Klasse in aufrufbare Dateien umzuwandeln. Funktionen sind aufrufbare Objekte. Ein aufrufbares Objekt ist ein Objekt, das sich wie eine Funktion verhält und entsprechend verwendet werden kann, aber möglicherweise keine Funktion ist. Mit der Methode ```__call__``` können Klassen so definiert werden, dass die Instanzen aufrufbare Objekte sind. Die ```__call__``` Methode wird aufgerufen, wenn die ```Instanz``` wie eine ```Funktion``` aufgerufen wird, d. H. unter Verwendung von Klammern. Die folgende Klassendefinition ist die einfachste Möglichkeit, eine Klasse mit einer ```__call__``` Methode zu definieren."
   ]
  },
  {
   "cell_type": "code",
   "execution_count": 13,
   "metadata": {},
   "outputs": [
    {
     "name": "stdout",
     "output_type": "stream",
     "text": [
      "spam spam\n"
     ]
    }
   ],
   "source": [
    "class Essen:\n",
    "    \n",
    "    def __call__(self):\n",
    "        return \"spam\"\n",
    "    \n",
    "foo = Essen()\n",
    "bar = Essen()\n",
    "\n",
    "print(foo(), bar()) #Achtung foo und bar mit Klammerpaar wie Funktion"
   ]
  },
  {
   "cell_type": "markdown",
   "metadata": {},
   "source": [
    "Das vorherige Klassenbeispiel ist extrem einfach, aber praktisch unbrauchbar. Immer wenn wir eine Instanz der Klasse erstellen, erhalten wir ein aufrufbares Objekt. Diese Callables definieren immer dieselbe konstante Funktion. Eine Funktion ohne Eingabe und konstante Ausgabe \"Spam\". Als Erstes werden wir jetzt einen Parameter übergeben, der die Anzahl der Spam Ausdrücke bestimmt."
   ]
  },
  {
   "cell_type": "code",
   "execution_count": 61,
   "metadata": {},
   "outputs": [
    {
     "name": "stdout",
     "output_type": "stream",
     "text": [
      "spam\n",
      "----------------------------------------\n",
      "spamspamspam\n"
     ]
    }
   ],
   "source": [
    "class Essen:\n",
    "    \n",
    "    def __call__(self,number):\n",
    "        return number*\"spam\"\n",
    "    \n",
    "foo = Essen()\n",
    "bar = Essen()\n",
    "\n",
    "print(foo(1))\n",
    "print(40*\"-\")\n",
    "print(bar(3)) #Achtung foo und bar mit Klammerpaar wie Funktion"
   ]
  },
  {
   "cell_type": "markdown",
   "metadata": {},
   "source": [
    "Wir werden nun eine Klasse definieren, die etwas nützlicher ist. Wir definieren eine Klasse mit dem Namen TriangleArea. Diese Klasse hat nur eine Methode, nämlich die Methode ```__call__```. Die Methode ```__call__``` berechnet die Fläche eines beliebigen Dreiecks, wenn die Länge der drei Seiten angegeben ist."
   ]
  },
  {
   "cell_type": "code",
   "execution_count": 62,
   "metadata": {},
   "outputs": [
    {
     "name": "stdout",
     "output_type": "stream",
     "text": [
      "6.0\n"
     ]
    }
   ],
   "source": [
    "class DreieckFläche:\n",
    "    \n",
    "    def __call__(self, a, b, c):\n",
    "        p = (a + b + c) / 2\n",
    "        result = (p * (p - a) * (p - b) * (p - c)) ** 0.5 #Formel nach Heron für beliebige Dreiecke\n",
    "        return result\n",
    "    \n",
    "    \n",
    "fläche = DreieckFläche()\n",
    "\n",
    "print(fläche(3, 4, 5))"
   ]
  },
  {
   "cell_type": "markdown",
   "metadata": {},
   "source": [
    "Dieses Programm gibt 6.0 zurück. Diese Klasse ist nicht sehr aufregend, obwohl wir eine beliebige Anzahl von Instanzen erstellen können, in denen jede Instanz nur eine unveränderte ```__call__``` -Funktion der TriangleClass ausführt. Wir können keine Parameter an die Instanziierung übergeben und der ```__call__``` jeder Instanz gibt nur den Wert der Fläche des Dreiecks zurück. \n",
    "\n",
    "Nach den beiden sehr didaktischen und nicht sehr praktischen Beispielen möchten wir im Folgenden ein praktischeres Beispiel demonstrieren. Wir definieren eine Klasse, mit der lineare Gleichungen definiert werden können:"
   ]
  },
  {
   "cell_type": "code",
   "execution_count": 65,
   "metadata": {},
   "outputs": [
    {
     "name": "stdout",
     "output_type": "stream",
     "text": [
      "x: -5  f(x) 1.00\n",
      "x: -4  f(x) 1.40\n",
      "x: -3  f(x) 1.80\n",
      "x: -2  f(x) 2.20\n",
      "x: -1  f(x) 2.60\n",
      "x:  0  f(x) 3.00\n",
      "x:  1  f(x) 3.40\n",
      "x:  2  f(x) 3.80\n",
      "x:  3  f(x) 4.20\n",
      "x:  4  f(x) 4.60\n",
      "x:  5  f(x) 5.00\n"
     ]
    }
   ],
   "source": [
    "class GeradeLinien():\n",
    "    \n",
    "    def __init__(self, m, c):\n",
    "        self.slope = m\n",
    "        self.y_intercept = c\n",
    "        \n",
    "    def __call__(self, x):\n",
    "        return self.slope * x + self.y_intercept\n",
    "    \n",
    "linie = GeradeLinien(0.4, 3)\n",
    "\n",
    "for x in range(-5, 6):\n",
    "    print(f\"x: {x:2d}  f(x) {linie(x):4.2f}\")"
   ]
  },
  {
   "cell_type": "markdown",
   "metadata": {},
   "source": [
    "Diese Klasse erstellt mit den Parametern m und c eine Geradengleichung für jede Instanz in der ```__init__``` Methode und beim Verwenden der Instanz als Funktion über ```__call__``` wird dann für einen x-Wert der y-Wert der jeweiligen Geraden ausgegeben."
   ]
  },
  {
   "cell_type": "markdown",
   "metadata": {},
   "source": [
    "Wir werden diese Klasse jetzt verwenden, um einige gerade Linien zu erstellen und sie mit matplotlib zu visualisieren.\n",
    "Die einzelnen Schritte sind unten jeweils erläutert."
   ]
  },
  {
   "cell_type": "code",
   "execution_count": 80,
   "metadata": {},
   "outputs": [
    {
     "data": {
      "image/png": "[encoded data removed]",
      "text/plain": [
       "<Figure size 432x288 with 1 Axes>"
      ]
     },
     "metadata": {
      "needs_background": "light"
     },
     "output_type": "display_data"
    }
   ],
   "source": [
    "linien = []\n",
    "linien.append(GeradeLinien(1, 0))\n",
    "linien.append(GeradeLinien(0.5, 3))\n",
    "linien.append(GeradeLinien(-1.4, 1.6)) # die verschiedenen Geradengleichungen werden in die Liste linie geschrieben\n",
    "\n",
    "import matplotlib.pyplot as plt\n",
    "import numpy as np\n",
    "X = np.linspace(-5,5,100) #erzeugt aufsteigend einhundert Floats im Bereich -5 bis 5 mit gleichem Abstand voneinander\n",
    "for index, linie in enumerate(linien):#erzeugt enumerate Objekt der Form:\n",
    "                    #{aufsteigende Integer von 0 bis Länge linien als index:#linie als einzelnes Objekt in linien}\n",
    "                                        \n",
    "                                        \n",
    "    line = np.vectorize(linie) \n",
    "    plt.plot(X, line(X), label='Linie' + str(index)) #X ist das Feld der X Werte, Y das Feld der Funktionswerte f(x)\n",
    "                                        #für die entsprechende Linie\n",
    "plt.title('Gerade Linien')\n",
    "plt.xlabel('x', color='#1C2833')\n",
    "plt.ylabel('y', color='#1C2833')\n",
    "plt.legend(loc='upper left')\n",
    "plt.grid()\n",
    "plt.show()"
   ]
  },
  {
   "cell_type": "code",
   "execution_count": 82,
   "metadata": {},
   "outputs": [
    {
     "name": "stdout",
     "output_type": "stream",
     "text": [
      "0 <__main__.GeradeLinien object at 0x0000001986DC3D90>\n",
      "1 <__main__.GeradeLinien object at 0x0000001986DC3400>\n",
      "2 <__main__.GeradeLinien object at 0x0000001986DC3940>\n"
     ]
    }
   ],
   "source": [
    "linien = []\n",
    "linien.append(GeradeLinien(1, 0))\n",
    "linien.append(GeradeLinien(0.5, 3))\n",
    "linien.append(GeradeLinien(-1.4, 1.6)) # die verschiedenen Geradengleichungen werden in die Liste linie geschrieben\n",
    "\n",
    "\n",
    "\n",
    "import matplotlib.pyplot as plt\n",
    "import numpy as np\n",
    "X = np.linspace(-5,5,100) #erzeugt aufsteigend einhundert Floats im Bereich -5 bis 5 mit gleichem Abstand voneinander\n",
    "for index, linie in enumerate(linien):#erzeugt dict der Form: {aufsteigende Integer von 0 bis Länge linien als index:\n",
    "    print(index,linie)"
   ]
  },
  {
   "cell_type": "code",
   "execution_count": 77,
   "metadata": {},
   "outputs": [
    {
     "name": "stdout",
     "output_type": "stream",
     "text": [
      "[-5.         -4.8989899  -4.7979798  -4.6969697  -4.5959596  -4.49494949\n",
      " -4.39393939 -4.29292929 -4.19191919 -4.09090909 -3.98989899 -3.88888889\n",
      " -3.78787879 -3.68686869 -3.58585859 -3.48484848 -3.38383838 -3.28282828\n",
      " -3.18181818 -3.08080808 -2.97979798 -2.87878788 -2.77777778 -2.67676768\n",
      " -2.57575758 -2.47474747 -2.37373737 -2.27272727 -2.17171717 -2.07070707\n",
      " -1.96969697 -1.86868687 -1.76767677 -1.66666667 -1.56565657 -1.46464646\n",
      " -1.36363636 -1.26262626 -1.16161616 -1.06060606 -0.95959596 -0.85858586\n",
      " -0.75757576 -0.65656566 -0.55555556 -0.45454545 -0.35353535 -0.25252525\n",
      " -0.15151515 -0.05050505  0.05050505  0.15151515  0.25252525  0.35353535\n",
      "  0.45454545  0.55555556  0.65656566  0.75757576  0.85858586  0.95959596\n",
      "  1.06060606  1.16161616  1.26262626  1.36363636  1.46464646  1.56565657\n",
      "  1.66666667  1.76767677  1.86868687  1.96969697  2.07070707  2.17171717\n",
      "  2.27272727  2.37373737  2.47474747  2.57575758  2.67676768  2.77777778\n",
      "  2.87878788  2.97979798  3.08080808  3.18181818  3.28282828  3.38383838\n",
      "  3.48484848  3.58585859  3.68686869  3.78787879  3.88888889  3.98989899\n",
      "  4.09090909  4.19191919  4.29292929  4.39393939  4.49494949  4.5959596\n",
      "  4.6969697   4.7979798   4.8989899   5.        ]\n"
     ]
    }
   ],
   "source": [
    "import numpy as np\n",
    "X = np.linspace(-5,5,100)\n",
    "print(X)"
   ]
  },
  {
   "cell_type": "code",
   "execution_count": 85,
   "metadata": {},
   "outputs": [
    {
     "name": "stdout",
     "output_type": "stream",
     "text": [
      "<numpy.vectorize object at 0x0000001988D821C0>\n"
     ]
    }
   ],
   "source": [
    "linien = []\n",
    "linien.append(GeradeLinien(1, 0))\n",
    "\n",
    "\n",
    "\n",
    "import matplotlib.pyplot as plt\n",
    "import numpy as np\n",
    "X = np.linspace(-5,5,100) \n",
    "for index, linie in enumerate(linien):    \n",
    "    line = np.vectorize(linie) #dies wendet die Funktion GeradeLinien für den einzelnen Eintrag in linien\n",
    "                                #für alle Werte von X an und legt das Ergebnis\n",
    "                               # in einen Vektor ab, der dann mit matplotlib als Y Wert verwendet wird zum jeweiligen X\n",
    "    print(line) "
   ]
  },
  {
   "cell_type": "markdown",
   "metadata": {},
   "source": [
    "Spannend ist auch unser nächstes Beispiel. Die Klasse FuzzyDreieckFläche definiert eine ```__call__``` Methode, die ein Fuzzy-Verhalten in die Berechnungen der Fläche implementiert. Das Ergebnis sollte mit einer Wahrscheinlichkeit von p korrekt sein, z. 0,8. Wenn das Ergebnis nicht korrekt ist, liegt das Ergebnis in einem Bereich von ± v%. z.B. 0,1."
   ]
  },
  {
   "cell_type": "code",
   "execution_count": 100,
   "metadata": {},
   "outputs": [
    {
     "name": "stdout",
     "output_type": "stream",
     "text": [
      " Standard :6.000,|| p gross v klein 6.00, || p klein v gross 6.00\n",
      " Standard :6.000,|| p gross v klein 6.00, || p klein v gross 5.93\n",
      " Standard :6.000,|| p gross v klein 6.01, || p klein v gross 6.24\n",
      " Standard :6.000,|| p gross v klein 6.00, || p klein v gross 6.28\n",
      " Standard :6.000,|| p gross v klein 6.00, || p klein v gross 6.22\n",
      " Standard :6.094,|| p gross v klein 6.00, || p klein v gross 5.99\n",
      " Standard :6.000,|| p gross v klein 6.00, || p klein v gross 5.70\n",
      " Standard :6.077,|| p gross v klein 5.99, || p klein v gross 5.66\n",
      " Standard :6.050,|| p gross v klein 6.00, || p klein v gross 6.05\n",
      " Standard :6.000,|| p gross v klein 6.00, || p klein v gross 5.98\n",
      " Standard :5.967,|| p gross v klein 6.00, || p klein v gross 6.14\n",
      " Standard :6.052,|| p gross v klein 6.00, || p klein v gross 5.78\n"
     ]
    }
   ],
   "source": [
    "import random\n",
    "\n",
    "class FuzzyDreieckFläche:\n",
    "    \n",
    "    def __init__(self, p=0.7, v=0.1):\n",
    "        self.p, self.v = p, v\n",
    "        \n",
    "    def __call__(self, a, b, c):\n",
    "        p = (a + b + c) / 2\n",
    "        result = (p * (p - a) * (p - b) * (p - c)) ** 0.5\n",
    "        if random.random() <= self.p:\n",
    "            return result\n",
    "        else:\n",
    "            return random.uniform(result-self.v, \n",
    "                                  result+self.v)\n",
    "        \n",
    "fläche1 = FuzzyDreieckFläche()\n",
    "fläche2 = FuzzyDreieckFläche(0.80, 0.02)\n",
    "fläche3 = FuzzyDreieckFläche(0.01,0.4)\n",
    "for i in range(12):\n",
    "    #print(f\"{fläche1(3, 4, 5):4.3f}, {fläche2(3, 4, 5):4.2f} , {abs(fläche2(3, 4, 5)-fläche1(3,4,5))*100:4.1f}\")\n",
    "    print(f\" Standard :{fläche1(3, 4, 5):4.3f},|| p gross v klein {fläche2(3, 4, 5):4.2f}, || p klein v gross {fläche3(3, 4, 5):4.2f}\")"
   ]
  },
  {
   "cell_type": "markdown",
   "metadata": {},
   "source": [
    "Beachten Sie, dass diese Ausgabe bei jedem Anruf unterschiedlich ist! Wir können sehen, dass wir in den meisten Fällen den richtigen Wert für das Gebiet erhalten, aber manchmal nicht."
   ]
  },
  {
   "cell_type": "markdown",
   "metadata": {},
   "source": [
    "Wir können viele verschiedene Instanzen der vorherigen Klasse erstellen. Jede dieser Funktionen verhält sich wie eine Bereichsfunktion, die abhängig von den Instanziierungsparametern p und v einen Wert für den Bereich zurückgibt, der möglicherweise korrekt ist oder nicht. Wir können diese Instanzen als Experten (Expertenfunktionen) betrachten, die in den meisten Fällen zurückgegeben werden die richtige Antwort, wenn wir p-Werte nahe 1 verwenden. Wenn der Wert v nahe Null ist, ist der Fehler, wenn überhaupt, klein. Die nächste Aufgabe wäre das Zusammenführen solcher Experten. Nennen wir sie exp1, exp2, ..., expn, um ein verbessertes Ergebnis zu erzielen. Wir können über die Ergebnisse abstimmen, d. H. Wir geben den am häufigsten vorkommenden Wert, den richtigen Wert, zurück. Alternativ können wir das arithmetische Mittel berechnen. Wir werden beide Möglichkeiten in unserer Klasse FuzzyTriangleArea implementieren:\n",
    "\n",
    "<img width=90% src=\"../images/merger_callable__call__.webp\" srcset=\"../images/merger_callable__call___800w.webp 800w,../images/merger_callable__call___700w.webp 700w,../images/merger_callable__call___600w.webp 600w,../images/merger_callable__call___500w.webp 500w,../images/merger_callable__call___400w.webp 400w,../images/merger_callable__call___350w.webp 350w,../images/merger_callable__call___300w.webp 300w\" alt=\"MergeExperts class with __call__ method\">"
   ]
  },
  {
   "cell_type": "code",
   "execution_count": 6,
   "metadata": {},
   "outputs": [
    {
     "name": "stdout",
     "output_type": "stream",
     "text": [
      "6.0\n",
      "5.996918918584497\n"
     ]
    }
   ],
   "source": [
    "from random import uniform, random\n",
    "from collections import Counter\n",
    "\n",
    "class FuzzyDreieckFläche:\n",
    "\n",
    "    def __init__(self, p=0.8, v=0.1):\n",
    "        self.p, self.v = p, v\n",
    "        \n",
    "    def __call__(self, a, b, c):\n",
    "        p = (a + b + c) / 2\n",
    "        result = (p * (p - a) * (p - b) * (p - c)) ** 0.5\n",
    "        if random() <= self.p:\n",
    "            return result\n",
    "        else:\n",
    "            return uniform(result-self.v, \n",
    "                                  result+self.v)\n",
    "     \n",
    "   \n",
    "class MergeExperts:\n",
    "    \n",
    "    def __init__(self, mode, *experts):\n",
    "        self.mode, self.experts = mode, experts\n",
    "        \n",
    "    def __call__(self, a, b, c):\n",
    "        results= [example(a, b, c) for examplep in self.experts]\n",
    "        if self.mode == \"Häufigste\":\n",
    "            c = Counter(results)\n",
    "            return c.most_common(1)[0][0]\n",
    "        elif self.mode == \"Mittelwert\":\n",
    "            return sum(results) / len(results)\n",
    "\n",
    "rvalues = [(uniform(0.7, 0.9), uniform(0.05, 0.2)) for _ in range(20)]\n",
    "experts = [FuzzyDreieckFläche(p, v) for p, v in rvalues]\n",
    "merger1 = MergeExperts(\"Häufigste\", *experts)\n",
    "print(merger1(3, 4, 5))\n",
    "merger2 = MergeExperts(\"Mittelwert\", *experts)\n",
    "print(merger2(3, 4, 5))"
   ]
  },
  {
   "cell_type": "markdown",
   "metadata": {},
   "source": [
    "Das folgende Beispiel definiert eine Klasse, mit der wir willkürliche Polynomfunktionen erstellen können:"
   ]
  },
  {
   "cell_type": "code",
   "execution_count": 19,
   "metadata": {},
   "outputs": [
    {
     "name": "stdout",
     "output_type": "stream",
     "text": [
      "1 42 2.75 3.25\n",
      "2 42 3.5 9.5\n",
      "3 42 4.25 26.75\n",
      "4 42 5.0 61.0\n",
      "5 42 5.75 118.25\n",
      "6 42 6.5 204.5\n",
      "7 42 7.25 325.75\n",
      "8 42 8.0 488.0\n",
      "9 42 8.75 697.25\n"
     ]
    }
   ],
   "source": [
    "class Polynomial:\n",
    "    \n",
    "    def __init__(self, *coefficients):\n",
    "        self.coefficients = coefficients[::-1]\n",
    "        \n",
    "    def __call__(self, x):\n",
    "        res = 0\n",
    "        for index, coeff in enumerate(self.coefficients):\n",
    "            res += coeff * x** index\n",
    "        return res\n",
    "\n",
    "# eine konstante Funktion\n",
    "p1 = Polynomial(42)\n",
    "\n",
    "# eine gerade Linie\n",
    "p2 = Polynomial(0.75, 2)\n",
    "\n",
    "# ein Polynom dritten Grades\n",
    "p3 = Polynomial(1, -0.5, 0.75, 2)\n",
    "\n",
    "for i in range(1, 10):\n",
    "    print(i, p1(i), p2(i), p3(i))"
   ]
  },
  {
   "cell_type": "markdown",
   "metadata": {},
   "source": [
    "Weitere interessante Beispiele für die Funktion ```__call__``` finden Sie in unserem Tutorial in den Kapiteln [Decorators](https://www.python-course.eu/python3_decorators.php) und [Memoization with Decorators](https://www.python-course.eu/python3_memoization.php). Sie können auch unser Kapitel über [Polynome](https://www.python-course.eu/polynomial_class_in_python.php) lesen."
   ]
  },
  {
   "cell_type": "markdown",
   "metadata": {},
   "source": [
    "### Standardklassen als Basisklassen\n",
    "Es ist auch möglich, Standardklassen - wie int, float, dict oder Listen - als Basisklassen zu verwenden.\n",
    "\n",
    "Wir erweitern die Listenklasse um eine Push-Methode:"
   ]
  },
  {
   "cell_type": "code",
   "execution_count": 20,
   "metadata": {},
   "outputs": [
    {
     "name": "stdout",
     "output_type": "stream",
     "text": [
      "[3, 4, 47]\n"
     ]
    }
   ],
   "source": [
    "class Plist(list):\n",
    "\n",
    "    def __init__(self, l):\n",
    "        list.__init__(self, l)\n",
    "\n",
    "    def push(self, item):\n",
    "        self.append(item)\n",
    "\n",
    "\n",
    "if __name__ == \"__main__\":\n",
    "    x = Plist([3,4])\n",
    "    x.push(47)\n",
    "    print(x)"
   ]
  },
  {
   "cell_type": "markdown",
   "metadata": {},
   "source": [
    "Insgesamt sind alle zuvor eingeführten binären und erweiterten Zuweisungsoperatoren auch in der \"umgekehrten\" Version vorhanden z.B:\n",
    "```__radd__```, ``` __rsub__```, ```__rmul__``` usw."
   ]
  },
  {
   "cell_type": "markdown",
   "metadata": {},
   "source": [
    "### Übungen\n",
    "\n",
    "<img class=\"imgright\" width=300 src=\"../images/money_canadian_part.webp\" srcset=\"../images/money_canadian_part_800w.webp 800w,../images/money_canadian_part_700w.webp 700w,../images/money_canadian_part_600w.webp 600w,../images/money_canadian_part_500w.webp 500w,../images/money_canadian_part_400w.webp 400w,../images/money_canadian_part_350w.webp 350w,../images/money_canadian_part_300w.webp 300w\" alt=\"Canadian money\" />\n",
    "#### Übung 1\n",
    "\n",
    "Schreiben Sie eine Klasse mit dem Namen Ccy, ähnlich der zuvor definierten Längenklasse. Ccy sollte Werte in verschiedenen Währungen enthalten, z. \"EUR\", \"GBP\" oder \"USD\". Eine Instanz sollte den Betrag und die Währungseinheit enthalten. Die Klasse, die Sie als Übung entwerfen möchten, lässt sich am besten anhand der folgenden Beispielsitzung beschreiben:\n",
    "```\n",
    "from currencies import Ccy\n",
    "v1 = Ccy(23.43, \"EUR\")\n",
    "v2 = Ccy(19.97, \"USD\")\n",
    "print(v1 + v2)\n",
    "print(v2 + v1)\n",
    "print(v1 + 3) # an int or a float is considered to be a EUR value\n",
    "print(3 + v1)\n",
    "```"
   ]
  },
  {
   "cell_type": "markdown",
   "metadata": {},
   "source": [
    "### Lösungen für unsere Übungen\n",
    "\n",
    "#### Lösung zu Übung 1\n"
   ]
  },
  {
   "cell_type": "code",
   "execution_count": 21,
   "metadata": {},
   "outputs": [
    {
     "name": "stdout",
     "output_type": "stream",
     "text": [
      "Overwriting currencies.py\n"
     ]
    }
   ],
   "source": [
    "%%writefile currencies.py\n",
    "\n",
    "\"\"\"\n",
    "\n",
    "Mit der Klasse \"Ccy\" können Geldwerte in verschiedenen Währungen definiert werden. Eine Ccy-Instanz hat die Zeichenfolgenattribute 'Einheit' (z. B. 'CHF', 'CAD' oder 'EUR' und den 'Wert' als Float.\n",
    "     Ein Währungsobjekt besteht aus einem Wert und der entsprechenden Einheit.\n",
    "    \"\"\"\n",
    "\n",
    "        \n",
    "\n",
    "class Ccy:\n",
    "\n",
    "    währungen =  {'CHF': 1.0821202355817312, \n",
    "                       'CAD': 1.488609845538393, \n",
    "                       'GBP': 0.8916546282920325, \n",
    "                       'JPY': 114.38826536281809, \n",
    "                       'EUR': 1.0, \n",
    "                       'USD': 1.11123458162018}\n",
    "    \n",
    "    def __init__(self, value, unit=\"EUR\"):\n",
    "        self.value = value\n",
    "        self.unit = unit\n",
    "\n",
    "    def __str__(self):\n",
    "        return \"{0:5.2f}\".format(self.value) + \" \" + self.unit\n",
    "\n",
    "    def changeTo(self, new_unit):\n",
    "        \"\"\"\n",
    "            An Ccy object is transformed from the unit \"self.unit\" to \"new_unit\"\n",
    "        \"\"\"\n",
    "        self.value = (self.value / Ccy.währungen[self.unit] * Ccy.währungen[new_unit])\n",
    "        self.unit = new_unit\n",
    "            \n",
    "    def __add__(self, other):\n",
    "        \"\"\"\n",
    "            Definiert den Operator '+'.\n",
    "             Wenn other ein CCy-Objekt ist, werden die Währungswerte angegeben\n",
    "             werden hinzugefügt und das Ergebnis ist die Einheit von\n",
    "             selbst. Wenn other ein int oder ein float ist, wird other will\n",
    "             als Euro-Wert behandelt werden.\n",
    "        \"\"\"\n",
    "        if type(other) == int or type(other) == float:\n",
    "            x = (other * Ccy.währungen[self.unit])\n",
    "        else:\n",
    "            x = (other.value / Ccy.währungen[other.unit] * Ccy.währungen[self.unit]) \n",
    "        return Ccy(x + self.value, self.unit)\n",
    "\n",
    "\n",
    "    def __iadd__(self, other):\n",
    "        \"\"\"\n",
    "            Ähnlich wie __add__\n",
    "        \"\"\"\n",
    "        if type(other) == int or type(other) == float:\n",
    "            x = (other * Ccy.währungen[self.unit])\n",
    "        else:\n",
    "            x = (other.value / Ccy.währungen[other.unit] * Ccy.währungen[self.unit])\n",
    "        self.value += x\n",
    "        return self\n",
    "\n",
    "    def __radd__(self, other):\n",
    "        res = self + other\n",
    "        if self.unit != \"EUR\":\n",
    "            res.changeTo(\"EUR\")\n",
    "        return res\n",
    "\n",
    "        #__sub__, __isub__ und __rsub__ können analog definiert werden\n",
    "\n"
   ]
  },
  {
   "cell_type": "code",
   "execution_count": 22,
   "metadata": {},
   "outputs": [
    {
     "name": "stdout",
     "output_type": "stream",
     "text": [
      "282.91 EUR\n",
      "28.40 EUR\n"
     ]
    }
   ],
   "source": [
    "from currencies import Ccy\n",
    "\n",
    "x = Ccy(10,\"USD\")\n",
    "y = Ccy(11)\n",
    "z = Ccy(12.34, \"JPY\")\n",
    "z = 7.8 + x + y + 255 + z\n",
    "print(z)\n",
    "\n",
    "lst = [Ccy(10,\"USD\"), Ccy(11), Ccy(12.34, \"JPY\"), Ccy(12.34, \"CAD\")]\n",
    "\n",
    "z = sum(lst)\n",
    "\n",
    "print(z)"
   ]
  },
  {
   "cell_type": "markdown",
   "metadata": {},
   "source": [
    "Ein weiterer interessanter Aspekt dieser Währungsumrechnerklasse in Python kann gezeigt werden, wenn wir die Multiplikation hinzufügen. Sie werden leicht verstehen, dass es keinen Sinn macht, Ausdrücke wie ```\" 12.4 € * 3.4 USD \"``` (oder in Präfixnotation: \"€ 12.4 * $ 3.4\") zuzulassen, aber es ist absolut sinnvoll, \"3\" zu bewerten * 4,54 € \". Sie finden die neue Währungsumrechnerklasse mit den neu hinzugefügten Methoden für ```__mul__```,```__imul__``` und ```__rmul__``` in der folgenden Liste:"
   ]
  },
  {
   "cell_type": "code",
   "execution_count": 23,
   "metadata": {},
   "outputs": [
    {
     "name": "stdout",
     "output_type": "stream",
     "text": [
      "Overwriting currency_converter.py\n"
     ]
    }
   ],
   "source": [
    "%%writefile currency_converter.py\n",
    "\n",
    "\"\"\"\n",
    "Mit der Klasse \"Ccy\" können Geldwerte in verschiedenen Währungen definiert werden. Eine Ccy-Instanz hat die Zeichenfolgenattribute 'Einheit' (z. B. 'CHF', 'CAD' oder 'EUR' und den 'Wert' als Float.\n",
    "     Ein Währungsobjekt besteht aus einem Wert und der entsprechenden Einheit.\n",
    "\"\"\"   \n",
    "\n",
    "class Ccy:\n",
    "\n",
    "    währungen =  {'CHF': 1.0821202355817312, \n",
    "                       'CAD': 1.488609845538393, \n",
    "                       'GBP': 0.8916546282920325, \n",
    "                       'JPY': 114.38826536281809, \n",
    "                       'EUR': 1.0, \n",
    "                       'USD': 1.11123458162018}\n",
    "        \n",
    "    def __init__(self, value, unit=\"EUR\"):\n",
    "        self.value = value\n",
    "        self.unit = unit\n",
    "\n",
    "    def __str__(self):\n",
    "        return \"{0:5.2f}\".format(self.value) + \" \" + self.unit\n",
    "\n",
    "    def __repr__(self):\n",
    "        return 'Ccy(' + str(self.value) + ', \"' + self.unit + '\")'\n",
    "\n",
    "    def changeTo(self, new_unit):\n",
    "        \"\"\"\n",
    "            Ein Ccy-Objekt wird von der Einheit \"self.unit\" in \"new_unit\" umgewandelt.\n",
    "        \"\"\"\n",
    "        self.value = (self.value / Ccy.währungen[self.unit] * Ccy.währungen[new_unit])\n",
    "        self.unit = new_unit\n",
    "            \n",
    "    def __add__(self, other):\n",
    "        \"\"\"\n",
    "            Definiert den Operator '+'.\n",
    "             Wenn other ein CCy-Objekt ist, werden die Währungswerte angegeben\n",
    "             werden hinzugefügt und das Ergebnis ist die Einheit von\n",
    "             selbst. Wenn other ein int oder ein float ist, wird other will\n",
    "             als Euro-Wert behandelt werden.\n",
    "        \"\"\"\n",
    "        if type(other) == int or type(other) == float:\n",
    "                x = (other * Ccy.währungen[self.unit])\n",
    "        else:\n",
    "                x = (other.value / Ccy.währungen[other.unit] * Ccy.währungen[self.unit]) \n",
    "        return Ccy(x + self.value, self.unit)\n",
    "\n",
    "\n",
    "    def __iadd__(self, other):\n",
    "        \"\"\"\n",
    "            Ähnlich wie __add__\n",
    "        \"\"\"\n",
    "        if type(other) == int or type(other) == float:\n",
    "            x = (other * Ccy.währungen[self.unit])\n",
    "        else:\n",
    "            x = (other.value / Ccy.währungen[other.unit] * Ccy.währungen[self.unit])\n",
    "            self.value += x\n",
    "        return self\n",
    "\n",
    "    def __radd__(self, other):\n",
    "        res = self + other\n",
    "        if self.unit != \"EUR\":\n",
    "            res.changeTo(\"EUR\")\n",
    "        return res\n",
    "        \n",
    "        # __sub__, __isub__ und __rsub__ können analog definiert werden\n",
    "        \n",
    "\n",
    "    def __mul__(self, other):\n",
    "        \"\"\"\n",
    "            Die Multiplikation wird nur als skalare Multiplikation definiert.\n",
    "             d.h. ein Geldwert kann mit einem int oder einem float multipliziert werden.\n",
    "             Es ist nicht möglich, mehrere Geldwerte zu multiplizieren\n",
    "        \"\"\"\n",
    "        if type(other)==int or type(other)==float:\n",
    "            return Ccy(self.value * other, self.unit)\n",
    "        else:\n",
    "            raise TypeError(\"unsupported operand type(s) for *: 'Ccy' and \" + type(other).__name__)  \n",
    "            \n",
    "    def __rmul__(self, other):\n",
    "        return self.__mul__(other)\n",
    "        \n",
    "    def __imul__(self, other):\n",
    "        if type(other)==int or type(other)==float:\n",
    "            self.value *= other\n",
    "            return self\n",
    "        else:\n",
    "            raise TypeError(\"unsupported operand type(s) for *: 'Ccy' and \" + type(other).__name__)      \n"
   ]
  },
  {
   "cell_type": "markdown",
   "metadata": {},
   "source": [
    "Angenommen, Sie haben die Klasse unter dem Namen Currency_Converter gespeichert, können Sie sie in der Befehlsshell folgendermaßen verwenden:"
   ]
  },
  {
   "cell_type": "code",
   "execution_count": 24,
   "metadata": {},
   "outputs": [
    {
     "data": {
      "text/plain": [
       "Ccy(21.215104685942173, \"EUR\")"
      ]
     },
     "execution_count": 24,
     "metadata": {},
     "output_type": "execute_result"
    }
   ],
   "source": [
    "from currency_converter import Ccy\n",
    "x = Ccy(10.00, \"EUR\")\n",
    "y = Ccy(10.00, \"GBP\")\n",
    "x + y"
   ]
  },
  {
   "cell_type": "code",
   "execution_count": 25,
   "metadata": {},
   "outputs": [
    {
     "name": "stdout",
     "output_type": "stream",
     "text": [
      "21.22 EUR\n"
     ]
    }
   ],
   "source": [
    "print(x + y)"
   ]
  },
  {
   "cell_type": "code",
   "execution_count": 26,
   "metadata": {},
   "outputs": [
    {
     "name": "stdout",
     "output_type": "stream",
     "text": [
      "30.09 EUR\n"
     ]
    }
   ],
   "source": [
    "print(2*x + y*0.9)"
   ]
  },
  {
   "cell_type": "markdown",
   "metadata": {},
   "source": [
    "### Fußnoten\n",
    "\n",
    "* wie von Mark Jackson vorgeschlagen"
   ]
  }
 ],
 "metadata": {
  "kernelspec": {
   "display_name": "Python 3",
   "language": "python",
   "name": "python3"
  },
  "language_info": {
   "codemirror_mode": {
    "name": "ipython",
    "version": 3
   },
   "file_extension": ".py",
   "mimetype": "text/x-python",
   "name": "python",
   "nbconvert_exporter": "python",
   "pygments_lexer": "ipython3",
   "version": "3.8.8"
  }
 },
 "nbformat": 4,
 "nbformat_minor": 4
}
