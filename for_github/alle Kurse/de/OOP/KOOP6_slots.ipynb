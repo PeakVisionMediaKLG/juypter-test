{
 "cells": [
  {
   "cell_type": "markdown",
   "metadata": {},
   "source": [
    "## Slots\n",
    "\n",
    "\n",
    "### Vermeiden dynamisch erstellter Attribute\n",
    "\n",
    "<img height= 40% class=\"imgright\" src=\"../images/computer_slots.webp\" srcset=\"../images/computer_slots_300w.webp 300w\" alt=\"Computer Slots\" />\n",
    "\n",
    "Die Attribute von Objekten werden in einem Dictionary ```__dict__``` gespeichert. Wie jedes andere Dictionary hat auch ein Dictionary, das zum Speichern von Attributen verwendet wird, <b>keine</b> feste Anzahl von Elementen. Mit anderen Worten, man kann diesem Dictionary Elemente hinzufügen, nachdem es definiert worden ist, wie wir in unserem Kapitel über [Dictionaries](python3_woerterbuecher_dictionaries.php) gesehen haben. Aus diesem Grund kann man Instanzen von Klassen, die man bereits erstellt hat, dynamisch Attribute hinzufügen, wie wir im folgenden Beispiel sehen können:"
   ]
  },
  {
   "cell_type": "code",
   "execution_count": 1,
   "metadata": {},
   "outputs": [],
   "source": [
    "class A(object):\n",
    "    pass\n",
    " \n",
    "a = A()\n",
    "a.x = 66\n",
    "a.y = \"dynamisch erstelltes Attribut\""
   ]
  },
  {
   "cell_type": "markdown",
   "metadata": {},
   "source": [
    "Auf das Dictionary, welches die Attribute von `a` enthält kann folgendermaßen zugegriffen werden:"
   ]
  },
  {
   "cell_type": "code",
   "execution_count": 2,
   "metadata": {},
   "outputs": [
    {
     "data": {
      "text/plain": [
       "{'x': 66, 'y': 'dynamisch erstelltes Attribut'}"
      ]
     },
     "execution_count": 2,
     "metadata": {},
     "output_type": "execute_result"
    }
   ],
   "source": [
    "a.__dict__"
   ]
  },
  {
   "cell_type": "markdown",
   "metadata": {},
   "source": [
    "Einige fragen sich nun vielleicht, ob man allen Klassen auch den Standardklassen, oder besser den Instanzen der Klassen,  dynamisch Attribute hinzufügen kann. Dies ist nicht der Fall, wie wir am Beispiel der `int`- und der `list`-Klasse demonstrieren: "
   ]
  },
  {
   "cell_type": "code",
   "execution_count": 1,
   "metadata": {},
   "outputs": [
    {
     "ename": "AttributeError",
     "evalue": "'int' object has no attribute 'a'",
     "output_type": "error",
     "traceback": [
      "\u001b[0;31m---------------------------------------------------------------------------\u001b[0m",
      "\u001b[0;31mAttributeError\u001b[0m                            Traceback (most recent call last)",
      "\u001b[0;32m<ipython-input-1-fc9c5f48e467>\u001b[0m in \u001b[0;36m<module>\u001b[0;34m\u001b[0m\n\u001b[1;32m      1\u001b[0m \u001b[0mx\u001b[0m \u001b[0;34m=\u001b[0m \u001b[0;36m42\u001b[0m\u001b[0;34m\u001b[0m\u001b[0;34m\u001b[0m\u001b[0m\n\u001b[0;32m----> 2\u001b[0;31m \u001b[0mx\u001b[0m\u001b[0;34m.\u001b[0m\u001b[0ma\u001b[0m \u001b[0;34m=\u001b[0m \u001b[0;34m\"nicht möglich, es zu tun\"\u001b[0m\u001b[0;34m\u001b[0m\u001b[0;34m\u001b[0m\u001b[0m\n\u001b[0m",
      "\u001b[0;31mAttributeError\u001b[0m: 'int' object has no attribute 'a'"
     ]
    }
   ],
   "source": [
    "x = 42\n",
    "x.a = \"nicht möglich, es zu tun\""
   ]
  },
  {
   "cell_type": "code",
   "execution_count": 3,
   "metadata": {
    "jupyter": {
     "outputs_hidden": true
    }
   },
   "outputs": [
    {
     "ename": "AttributeError",
     "evalue": "'list' object has no attribute 'a'",
     "output_type": "error",
     "traceback": [
      "\u001b[1;31m---------------------------------------------------------------------------\u001b[0m",
      "\u001b[1;31mAttributeError\u001b[0m                            Traceback (most recent call last)",
      "\u001b[1;32m<ipython-input-3-0edb5dbb1fba>\u001b[0m in \u001b[0;36m<module>\u001b[1;34m\u001b[0m\n\u001b[0;32m      1\u001b[0m \u001b[0mlst\u001b[0m \u001b[1;33m=\u001b[0m \u001b[1;33m[\u001b[0m\u001b[1;36m34\u001b[0m\u001b[1;33m,\u001b[0m \u001b[1;36m999\u001b[0m\u001b[1;33m,\u001b[0m \u001b[1;36m1001\u001b[0m\u001b[1;33m]\u001b[0m\u001b[1;33m\u001b[0m\u001b[1;33m\u001b[0m\u001b[0m\n\u001b[1;32m----> 2\u001b[1;33m \u001b[0mlst\u001b[0m\u001b[1;33m.\u001b[0m\u001b[0ma\u001b[0m \u001b[1;33m=\u001b[0m \u001b[1;34m\"vergiss es\"\u001b[0m\u001b[1;33m\u001b[0m\u001b[1;33m\u001b[0m\u001b[0m\n\u001b[0m",
      "\u001b[1;31mAttributeError\u001b[0m: 'list' object has no attribute 'a'"
     ]
    }
   ],
   "source": [
    "lst = [34, 999, 1001]\n",
    "lst.a = \"vergiss es\""
   ]
  },
  {
   "cell_type": "markdown",
   "metadata": {},
   "source": [
    "Hat man eine Klasse bei der man normalerweise nur wenige Instanzen erzeugt, wie beispielsweise die function-Klasse, überwiegen  die Vorteile gegenber den Nachteilen. Der zusätzliche Speicherplatz für das Dictionary bringt uns wesentliche Vorteile für das Design unserer Software. Sobald jedoch üblicherweise in einem Programm eine hohe Zahl von Instanzen einer Klasse erzeugt werden müssen, kann sich das Kosten-Nutzen-Verhältnis schnell umkehren. Der zusätzlich benötigte Speicherplatz kann die Ausführung des Programms negativ beeinflussen oder gar verhindern.\n",
    "\n",
    "Pythons' Slots sind eine gute Möglichkeit, um dieses Platzverbrauchsproblem zu umgehen. Anstatt ein dynamisches `__dict__` dictionary zu haben, das das dynamische Hinzufügen von Attributen zu Objekten ermöglicht, bieten Slots eine statische Struktur, die das Hinzufügen nach dem Erstellen einer Instanz verhindert.\n",
    "\n",
    "Wenn wir eine Klasse entwerfen, können wir Slots verwenden, um die dynamische Erstellung von Attributen zu verhindern. Um Slots zu definieren, müssen Sie eine Liste mit dem Namen ```__slots__``` definieren. Die Liste muss alle Attribute enthalten, die man verwenden will. Alles, was nicht in dieser Liste ist, kann nicht als Attribut verwendet werden. Wir demonstrieren dies in der folgenden Klasse, in der die `__slots__`-Liste nur den Namen für ein Attribut `val`  enthält."
   ]
  },
  {
   "cell_type": "code",
   "execution_count": 3,
   "metadata": {},
   "outputs": [
    {
     "name": "stdout",
     "output_type": "stream",
     "text": [
      "42\n"
     ]
    },
    {
     "ename": "AttributeError",
     "evalue": "'S' object has no attribute 'new'",
     "output_type": "error",
     "traceback": [
      "\u001b[1;31m---------------------------------------------------------------------------\u001b[0m",
      "\u001b[1;31mAttributeError\u001b[0m                            Traceback (most recent call last)",
      "\u001b[1;32m<ipython-input-3-0163d3859440>\u001b[0m in \u001b[0;36m<module>\u001b[1;34m\u001b[0m\n\u001b[0;32m     10\u001b[0m \u001b[0mprint\u001b[0m\u001b[1;33m(\u001b[0m\u001b[0mx\u001b[0m\u001b[1;33m.\u001b[0m\u001b[0mval\u001b[0m\u001b[1;33m)\u001b[0m\u001b[1;33m\u001b[0m\u001b[1;33m\u001b[0m\u001b[0m\n\u001b[0;32m     11\u001b[0m \u001b[1;33m\u001b[0m\u001b[0m\n\u001b[1;32m---> 12\u001b[1;33m \u001b[0mx\u001b[0m\u001b[1;33m.\u001b[0m\u001b[0mnew\u001b[0m \u001b[1;33m=\u001b[0m \u001b[1;34m\"nicht möglich\"\u001b[0m\u001b[1;33m\u001b[0m\u001b[1;33m\u001b[0m\u001b[0m\n\u001b[0m",
      "\u001b[1;31mAttributeError\u001b[0m: 'S' object has no attribute 'new'"
     ]
    }
   ],
   "source": [
    "class S(object):\n",
    "\n",
    "    __slots__ = ['val']\n",
    "\n",
    "    def __init__(self, v):\n",
    "        self.val = v\n",
    "\n",
    "\n",
    "x = S(42)\n",
    "print(x.val)\n",
    "\n",
    "x.new = \"nicht möglich\""
   ]
  },
  {
   "cell_type": "markdown",
   "metadata": {},
   "source": [
    "Wenn wir dieses Programm starten, können wir sehen, dass es nicht möglich ist, dynamisch ein neues Attribut zu erstellen. Wir können kein Attribut `new` erstellen."
   ]
  },
  {
   "cell_type": "markdown",
   "metadata": {},
   "source": [
    "Wir haben am Anfang erwähnt, dass Slots eine Verschwendung von Platz mit Objekten verhindern. Seit Python 3.3 ist dieser Vorteil nicht mehr so beeindruckend. Mit Python 3.3 werden Key-Sharing-Dictionarys zum Speichern von Objekten verwendet. Die Attribute der Instanzen können einen Teil ihres internen Speichers untereinander teilen, d. h. den Teil, in dem die Schlüssel und ihre entsprechenden Hashes gespeichert sind. Dies hilft, den Speicherverbrauch von Programmen zu reduzieren, die viele Instanzen nicht eingebauter (non-builtin) Typen  erstellen."
   ]
  }
 ],
 "metadata": {
  "kernelspec": {
   "display_name": "Python 3",
   "language": "python",
   "name": "python3"
  },
  "language_info": {
   "codemirror_mode": {
    "name": "ipython",
    "version": 3
   },
   "file_extension": ".py",
   "mimetype": "text/x-python",
   "name": "python",
   "nbconvert_exporter": "python",
   "pygments_lexer": "ipython3",
   "version": "3.8.8"
  }
 },
 "nbformat": 4,
 "nbformat_minor": 4
}
