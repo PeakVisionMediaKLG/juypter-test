{
 "cells": [
  {
   "cell_type": "markdown",
   "metadata": {},
   "source": [
    "<h2>Klassen- und Instanzattribute</h2>\n",
    "<br><br>\n",
    "<h3>Klassenattribute</h3>\n",
    "\n",
    "<img class=\"imgright\" width=300 src=\"../images/robots_asinow.webp\" srcset=\"../images/robots_asinow_400w.webp 400w,../images/robots_asinow_350w.webp 350w,../images/robots_asinow_300w.webp 300w\" alt=\"Gehorche Asimovs Gesetzen\" />\n",
    "Bisher hatte jede Instanz einer Klasse Werte für ihre eigenen Attribute, die sich von denen anderer Instanzen unterschieden. Man bezeichnet dies als ,,nicht-statisch'' oder ,,dynamisch'', da sie für jede Instanz einer Klasse dynamisch erstellt werden.  So hatten wir beispielsweise den Namen eines Roboters mit Hilfe des Instanzattribut self.__name gespeichert. Instanzattribute sind Attribute, die für jede Instanz in der Regel einen verschiedenen Wert annehmen, so wie ja jeder Roboter sinnvoller Weise einen anderen Namen haben sollte. \n",
    "<br><br>\n",
    "Wie kann man jedoch Informationen speichern, die sich nicht auf ein bestimmtes Objekt beziehen, sondern für die ganze Klasse relevant sind? Also Attribute, die für alle Instanzen gleich sind. Solche Attribute könnten für unsere Roboterklasse beispielsweise der Name des Herstellers, die Anzahl aller erzeugten Roboter oder wie in unserem folgenden Beispiel die Asimowschen Gesetze<sup>1</sup> sein. Diese Attribute bezeichnet man als statische Attribute. Sie existieren unabhängig von den Instanzen, oder anders ausgedrückt, sie sind für alle Instanzen gleich. Statische Attribute werden auch als Klassenattribute bezeichnet, weil sie wie bereits gesagt, Eigenschaften bezeichnen, die für die ganze Klasse gelten und nicht nur für einzelne Objekte der Klasse. Ein Klassenattribut existiert pro Klasse nur einmal, wird also nur einmal angelegt. Instanzattribute werden für jedes Objekt angelegt. Statische Attribute werden außerhalb der Instanzmethoden direkt im class-Block definiert.  Außerdem <b>muss</b> jedem Klassenattribut ein Initialwert zugewiesen werden. Es ist Usus, die statischen Member direkt unterhalb der class-Anweisung zu positionieren.\n",
    "\n",
    "<br><br>\n",
    "Wir könnten beispielsweise die Asimowschen Gesetze als Klassenattribut in unserer Roboterklasse formulieren, denn diese Gesetze gelten für jede Instanz, also für jeden Roboter, gleichermaßen. Wir benutzen für die Implementierung ein Tupel mit Strings, d.h. jedes Element des Tupels entspricht einem Gesetz:\n"
   ]
  },
  {
   "cell_type": "code",
   "execution_count": 1,
   "metadata": {},
   "outputs": [],
   "source": [
    "class Roboter:\n",
    "\n",
    "    Gesetze = (\n",
    "\"\"\"Ein Roboter darf kein menschliches Wesen wissentlich\n",
    "verletzen oder durch Untätigkeit gestatten, dass\n",
    "einem menschlichen Wesen wissentlich Schaden zugefügt wird.\"\"\",\n",
    "\"\"\"Ein Roboter muss den ihm von einem Menschen gegebenen\n",
    "Befehlen gehorchen - es sei denn, ein solcher Befehl \n",
    "würde mit Regel eins kollidieren.\"\"\",\n",
    "\"\"\"Ein Roboter muss seine Existenz beschützen, so lange\n",
    "dieser Schutz nicht mit Regel eins oder zwei \n",
    "kollidiert.\"\"\")\n",
    "\n",
    "    def __init__(self, name, baujahr):\n",
    "        self.__name = name\n",
    "        self.__baujahr = baujahr\n",
    "\n",
    "    # weitere Definitionen wie gehabt"
   ]
  },
  {
   "cell_type": "markdown",
   "metadata": {},
   "source": [
    "Auf die Robotergesetze können wir entweder direkt über den Klassennamen mit print(Roboter.Gesetze) oder über eine Instanz eines Roboters zugreifen:\n"
   ]
  },
  {
   "cell_type": "code",
   "execution_count": 2,
   "metadata": {},
   "outputs": [
    {
     "name": "stdout",
     "output_type": "stream",
     "text": [
      "1:\n",
      "Ein Roboter darf kein menschliches Wesen wissentlich\n",
      "verletzen oder durch Untätigkeit gestatten, dass\n",
      "einem menschlichen Wesen wissentlich Schaden zugefügt wird.\n",
      "2:\n",
      "Ein Roboter muss den ihm von einem Menschen gegebenen\n",
      "Befehlen gehorchen - es sei denn, ein solcher Befehl \n",
      "würde mit Regel eins kollidieren.\n",
      "3:\n",
      "Ein Roboter muss seine Existenz beschützen, so lange\n",
      "dieser Schutz nicht mit Regel eins oder zwei \n",
      "kollidiert.\n"
     ]
    }
   ],
   "source": [
    "for nummer, text in enumerate(Roboter.Gesetze):\n",
    "    print(str(nummer+1) + \":\\n\" + text)"
   ]
  },
  {
   "cell_type": "markdown",
   "metadata": {},
   "source": [
    "\n",
    "Im folgenden Beispiel zeigen wir, wie man Instanzen mittels einer Klassenvariablen zählen kann. Dazu erhöhen wir die Variable counter bei der Initialisierung jeder neuen Instanz. Wird eine Instanz gelöscht, wird die Methode ```__del__``` aufgerufen, in der in unserem Beispiel die Klassenvariable counter um 1 vermindert wird: "
   ]
  },
  {
   "cell_type": "code",
   "execution_count": 3,
   "metadata": {},
   "outputs": [
    {
     "name": "stdout",
     "output_type": "stream",
     "text": [
      "Anzahl der Instanzen: 1\n",
      "Anzahl der Instanzen: 2\n",
      "Anzahl der Instanzen: 1\n",
      "Anzahl der Instanzen: 0\n"
     ]
    }
   ],
   "source": [
    "class C: \n",
    "\n",
    "    counter = 0\n",
    "    \n",
    "    def __init__(self): \n",
    "        type(self).counter += 1\n",
    "\n",
    "    def __del__(self):\n",
    "        type(self).counter -= 1\n",
    "\n",
    "\n",
    "x = C()\n",
    "print(\"Anzahl der Instanzen: \" + str(C.counter))\n",
    "y = C()\n",
    "print(\"Anzahl der Instanzen: \" + str(C.counter))\n",
    "del x\n",
    "print(\"Anzahl der Instanzen: \" + str(C.counter))\n",
    "del y\n",
    "print(\"Anzahl der Instanzen: \" + str(C.counter))"
   ]
  },
  {
   "cell_type": "markdown",
   "metadata": {},
   "source": [
    "Im Prinzip hätten wir auch C.counter statt type(self).counter schreiben können, denn\n",
    "type(self) wird zu ,,C'' ausgewertet. Aber wir werden später sehen, dass type(self) bei der Vererbung wesentlich wird. \n",
    "<br><br>"
   ]
  },
  {
   "cell_type": "markdown",
   "metadata": {},
   "source": [
    "<h3>Statische Methoden</h3>\n",
    "\n",
    "Im vorigen Abschnitt hatten wir Klassenattribute als öffentliche Attribute verwendet. Selbstverständlich können und sollten wir auch Klassenattribute als private Attribute definieren können, also mit doppeltem vorangestellten Unterstrich. In diesem Fall brauchen wir aber eine Möglichkeit über Methoden die Werte zu lesen bzw. zu manipulieren. Man könnte dazu auch Instanzmethoden benutzen:\n"
   ]
  },
  {
   "cell_type": "code",
   "execution_count": 3,
   "metadata": {},
   "outputs": [
    {
     "name": "stdout",
     "output_type": "stream",
     "text": [
      "1\n",
      "2\n"
     ]
    }
   ],
   "source": [
    "class Roboter:\n",
    "    __counter = 0\n",
    "    \n",
    "    def __init__(self):\n",
    "        # type(self) liefert als Typ \"Roboter\"\n",
    "        type(self).__counter += 1\n",
    "        \n",
    "    def AnzahlRoboter(self):\n",
    "        return Roboter.__counter\n",
    "        \n",
    "\n",
    "x = Roboter()\n",
    "print(x.AnzahlRoboter())\n",
    "y = Roboter()\n",
    "print(x.AnzahlRoboter())"
   ]
  },
  {
   "cell_type": "markdown",
   "metadata": {},
   "source": [
    "Dies ist nicht brauchbar, da zum einen die Anzahl der Roboter nichts mit einer einzelnen Instanz zu tun hat und zum anderen, weil wir die Anzahl nicht abfragen können, solange keine Instanzen bestehen. Versucht man über den Klassennamen auf die Methode zuzugreifen, erhält man die Fehlermeldung:"
   ]
  },
  {
   "cell_type": "code",
   "execution_count": 2,
   "metadata": {},
   "outputs": [
    {
     "ename": "TypeError",
     "evalue": "AnzahlRoboter() missing 1 required positional argument: 'self'",
     "output_type": "error",
     "traceback": [
      "\u001b[1;31m---------------------------------------------------------------------------\u001b[0m",
      "\u001b[1;31mTypeError\u001b[0m                                 Traceback (most recent call last)",
      "\u001b[1;32m<ipython-input-2-1e6d18d985c3>\u001b[0m in \u001b[0;36m<module>\u001b[1;34m\u001b[0m\n\u001b[1;32m----> 1\u001b[1;33m \u001b[0mprint\u001b[0m\u001b[1;33m(\u001b[0m\u001b[0mRoboter\u001b[0m\u001b[1;33m.\u001b[0m\u001b[0mAnzahlRoboter\u001b[0m\u001b[1;33m(\u001b[0m\u001b[1;33m)\u001b[0m\u001b[1;33m)\u001b[0m\u001b[1;33m\u001b[0m\u001b[1;33m\u001b[0m\u001b[0m\n\u001b[0m",
      "\u001b[1;31mTypeError\u001b[0m: AnzahlRoboter() missing 1 required positional argument: 'self'"
     ]
    }
   ],
   "source": [
    "print(Roboter.AnzahlRoboter())"
   ]
  },
  {
   "cell_type": "markdown",
   "metadata": {},
   "source": [
    "Wie wäre es, wenn wir einfach das self in der Methode AnzahlRoboter weglassen? (Um dies auszuprobieren, speichern wir einfach das folgende Skript unter robots_static_methods1.py ab):\n"
   ]
  },
  {
   "cell_type": "code",
   "execution_count": 4,
   "metadata": {},
   "outputs": [
    {
     "name": "stdout",
     "output_type": "stream",
     "text": [
      "0\n"
     ]
    }
   ],
   "source": [
    "class Roboter:\n",
    "    __counter = 0\n",
    "    \n",
    "    def __init__(self):\n",
    "        # type(self) liefert als Typ \"Roboter\"\n",
    "        type(self).__counter += 1\n",
    "        \n",
    " \n",
    "    def AnzahlRoboter():\n",
    "        return Roboter.__counter\n",
    "    \n",
    "    \n",
    "print(Roboter.AnzahlRoboter())"
   ]
  },
  {
   "cell_type": "markdown",
   "metadata": {},
   "source": [
    "Über den Klassennamen können wir nun zugreifen, aber nicht über Instanzen, wie wir im Folgenden sehen:"
   ]
  },
  {
   "cell_type": "code",
   "execution_count": 6,
   "metadata": {},
   "outputs": [
    {
     "name": "stdout",
     "output_type": "stream",
     "text": [
      "2\n"
     ]
    }
   ],
   "source": [
    "x = Roboter()\n",
    "print(Roboter.AnzahlRoboter())\n",
    "#x.AnzahlRoboter() \n"
   ]
  },
  {
   "cell_type": "markdown",
   "metadata": {},
   "source": [
    "Versuchen wir über eine Instanz zuzugreifen, betrachtet Python die Methode als Instanzmethode und Instanzmethoden müssen immer als erstes Argument eine Referenz auf die Instanz haben. \n",
    "<br><br>\n"
   ]
  },
  {
   "cell_type": "code",
   "execution_count": 7,
   "metadata": {},
   "outputs": [
    {
     "ename": "TypeError",
     "evalue": "AnzahlRoboter() takes 0 positional arguments but 1 was given",
     "output_type": "error",
     "traceback": [
      "\u001b[1;31m---------------------------------------------------------------------------\u001b[0m",
      "\u001b[1;31mTypeError\u001b[0m                                 Traceback (most recent call last)",
      "\u001b[1;32m<ipython-input-7-558316025d94>\u001b[0m in \u001b[0;36m<module>\u001b[1;34m\u001b[0m\n\u001b[0;32m      1\u001b[0m \u001b[0mx\u001b[0m \u001b[1;33m=\u001b[0m \u001b[0mRoboter\u001b[0m\u001b[1;33m(\u001b[0m\u001b[1;33m)\u001b[0m\u001b[1;33m\u001b[0m\u001b[1;33m\u001b[0m\u001b[0m\n\u001b[1;32m----> 2\u001b[1;33m \u001b[0mx\u001b[0m\u001b[1;33m.\u001b[0m\u001b[0mAnzahlRoboter\u001b[0m\u001b[1;33m(\u001b[0m\u001b[1;33m)\u001b[0m\u001b[1;33m\u001b[0m\u001b[1;33m\u001b[0m\u001b[0m\n\u001b[0m",
      "\u001b[1;31mTypeError\u001b[0m: AnzahlRoboter() takes 0 positional arguments but 1 was given"
     ]
    }
   ],
   "source": [
    "x = Roboter()\n",
    "x.AnzahlRoboter() "
   ]
  },
  {
   "cell_type": "markdown",
   "metadata": {},
   "source": [
    "Um eine Methode der obigen Art so zu implementieren, dass man sowohl über Instanzen als auch über den Klassennamen zugreifen kann, benötigen wir statische Methoden.\n",
    "<br><br>\n",
    "Weil eine statische Methode nicht an eine Instanz gebunden ist, benötigt sie keinen Parameter self wie die Instanzmethoden. Steht in der Zeile vor einem Methodenheader @staticmethod wird die Methode zu einer statischen Methode. Man bezeichnet @staticmethod auch als einen Dekorator. Wir sehen im folgenden Beispiel, dass der Aufruf nun über den Klassennamen erfolgt und dass wir nun die Anzahl auch erfragen können, bevor eine erste Instanz angelegt worden ist:"
   ]
  },
  {
   "cell_type": "code",
   "execution_count": 3,
   "metadata": {},
   "outputs": [
    {
     "name": "stdout",
     "output_type": "stream",
     "text": [
      "0\n",
      "1\n",
      "1\n"
     ]
    }
   ],
   "source": [
    "class Roboter:\n",
    "    counter = 0\n",
    "    \n",
    "    def __init__(self):\n",
    "        # type(self) liefert als Typ \"Roboter\"\n",
    "        type(self).counter += 1\n",
    "        \n",
    "    @staticmethod    \n",
    "    def AnzahlRoboter():\n",
    "        return Roboter.counter\n",
    "\n",
    "\n",
    "print(Roboter.AnzahlRoboter())\n",
    "x = Roboter()\n",
    "print(Roboter.AnzahlRoboter())\n",
    "print(x.AnzahlRoboter())"
   ]
  },
  {
   "cell_type": "markdown",
   "metadata": {},
   "source": [
    "<h3>Klassenmethoden</h3>\n",
    "Statische Methoden darf man nicht mit Klassenmethoden verwechseln. Klassenmethoden sind auch nicht an Instanzen gebunden, aber anders als statische Methoden, sind Klassenmethoden an eine Klasse gebunden. Das erste Argument einer Klassenmethode ist eine Referenz auf die Klasse, d.h. das Klassenobjekt. Aufrufen kann man sie über den Klassennamen oder eine Instanz.\n",
    "<br>\n"
   ]
  },
  {
   "cell_type": "code",
   "execution_count": 9,
   "metadata": {},
   "outputs": [
    {
     "name": "stdout",
     "output_type": "stream",
     "text": [
      "(<class '__main__.Roboter'>, 0)\n",
      "(<class '__main__.Roboter'>, 1)\n",
      "(<class '__main__.Roboter'>, 1)\n"
     ]
    }
   ],
   "source": [
    "class Roboter:\n",
    "    counter = 0\n",
    "   \n",
    "    def __init__(self):\n",
    "        type(self).counter += 1\n",
    "        \n",
    "    @classmethod    \n",
    "    def AnzahlRoboter(cls):\n",
    "        return cls, Roboter.counter #neben dem Counter wird auch die Klasse ausgegeben\n",
    "\n",
    "\n",
    "print(Roboter.AnzahlRoboter())\n",
    "x = Roboter()\n",
    "print(Roboter.AnzahlRoboter())\n",
    "print(x.AnzahlRoboter())"
   ]
  },
  {
   "cell_type": "markdown",
   "metadata": {},
   "source": [
    "<br>\n",
    "Für Klassenmethoden gibt es zwei Einsatzgebiete. Zum einen die sogenannte Fabrikmethoden, -Methoden, die neue Instanzen generieren -, auf die wir hier nicht näher eingehen, und zum anderen in den Fällen, in denen aus statischen Methoden auf andere statische Methoden zugegriffen werden muss. Dann müsste man den Klassennamen fest kodieren, was insbesondere bei der Vererbung ein Nachteil sein kann.\n",
    "<br><br>\n",
    "In der folgenden Bruchklasse benutzen wir eine statische Methode  ,,ggT'' die den größten gemeinsamen Teiler von zwei Zahlen berechnet, und eine Klassenmethode ,,kuerze'', die Brüche in gekürzter Form zurückgibt. Bevor wir in __init__ die Werte für Zaehler und Nenner abspeichern, berechnen wir die gekürzte Form von beiden durch den Aufruf self.kuerze(z,n). Hätten wir kuerze als statisiche Methode definiert oder, wie man normalerweise sagt mit @staticmethod dekoriert, dann müssten wir die Zeile g = cls.ggT(zaehler, nenner) durch g = Bruch.ggT(zaehler, nenner) austauschen:\n"
   ]
  },
  {
   "cell_type": "code",
   "execution_count": 10,
   "metadata": {},
   "outputs": [
    {
     "name": "stdout",
     "output_type": "stream",
     "text": [
      "1/3\n"
     ]
    }
   ],
   "source": [
    "class Bruch(object):\n",
    "\n",
    "    def __init__(self,z,n):\n",
    "        self.__z, self.__n = self.kuerze(z,n)\n",
    "        \n",
    "    def __str__(self):\n",
    "        return str(self.__z)+'/'+str(self.__n)\n",
    "\n",
    "    @staticmethod\n",
    "    def ggT(a,b):\n",
    "        while b != 0:\n",
    "            a,b = b,a%b\n",
    "        return a\n",
    "\n",
    "    @classmethod\n",
    "    def kuerze(cls, zaehler, nenner):\n",
    "        g = cls.ggT(zaehler, nenner)\n",
    "        return (zaehler // g, nenner // g)\n",
    "\n",
    "x = Bruch(8,24)\n",
    "print(x)"
   ]
  },
  {
   "cell_type": "markdown",
   "metadata": {},
   "source": [
    "In unserem nächsten Beispiel wollen wir den Vorteil der Klassenmethoden bei der Vererbung demonstrieren. \n",
    "Wir definieren eine Klasse \"Pets\" mit einer Methode \"about\". Die Klassen \"Dogs\" und \"Cats\" erben von dieser Klasse.\n",
    "Sie erben auch die Methode \"about\". In unserer ersten Implementierung dekorieren wir die \"about\"-Methode als\n",
    "\"staticmethod\", um die Nachteile dieses Vorgehens zu zeigen:\n"
   ]
  },
  {
   "cell_type": "code",
   "execution_count": 9,
   "metadata": {},
   "outputs": [
    {
     "name": "stdout",
     "output_type": "stream",
     "text": [
      "This class is about pet animals!\n",
      "This class is about pet animals!\n",
      "This class is about pet animals!\n"
     ]
    }
   ],
   "source": [
    "class Pet:\n",
    "    name = \"pet animals\"\n",
    "\n",
    "    @staticmethod\n",
    "    def about():\n",
    "        print(\"This class is about {}!\".format(Pet.name))   \n",
    "    \n",
    "\n",
    "class Dog(Pet):\n",
    "    name = \"'man's best friends' (Frederick II)\"\n",
    "\n",
    "class Cat(Pet):\n",
    "    name = \"cats\"\n",
    "\n",
    "p = Pet()\n",
    "p.about()\n",
    "d = Dog()\n",
    "d.about()\n",
    "c = Cat()\n",
    "c.about()"
   ]
  },
  {
   "cell_type": "markdown",
   "metadata": {},
   "source": [
    "Insbesondere im Fall von c.about() und d.about() hätten wir aussagekräftigere Sätze erwartet oder uns gewünscht.\n",
    "\n",
    "Das \"Problem\" ist, dass die Methode \"about\" nicht weiß, dass sie von einer Instanz der Klasse\n",
    "Dogs oder Cats aufgerufen wird.\n",
    "\n",
    "<br>\n",
    "Im folgenden Code dekorieren wir die Methode nun mit dem \"classmethod\"-Dekorator:"
   ]
  },
  {
   "cell_type": "code",
   "execution_count": 10,
   "metadata": {},
   "outputs": [
    {
     "name": "stdout",
     "output_type": "stream",
     "text": [
      "This class is about pet animals!\n",
      "This class is about 'man's best friends' (Frederick II)!\n",
      "This class is about cats!\n"
     ]
    }
   ],
   "source": [
    "class Pet:\n",
    "    name = \"pet animals\"\n",
    "\n",
    "    @classmethod\n",
    "    def about(cls):\n",
    "        print(\"This class is about {}!\".format(cls.name))\n",
    "    \n",
    "class Dog(Pet):\n",
    "    name = \"'man's best friends' (Frederick II)\"\n",
    "\n",
    "class Cat(Pet):\n",
    "    name = \"cats\"\n",
    "\n",
    "p = Pet()\n",
    "p.about()\n",
    "d = Dog()\n",
    "d.about()\n",
    "c = Cat()\n",
    "c.about()\n"
   ]
  },
  {
   "cell_type": "markdown",
   "metadata": {},
   "source": [
    "<h3>Fußnoten:</h3>\n",
    "\n",
    "<sup>1</sup> Der Science Fiction Autor Isaac Asimov formulierte in seiner Kurzgeschichte ,,Runaround'' (Astounding, 1942) die Robotergesetze (englisch: Three Laws of Robotics). Sie werden deshalb nach ihm auch als ,,Asimowsche Gesetze'' bezeichnet. Sie beschreiben die \"Grundregeln des Roboterdienstes\"."
   ]
  },
  {
   "cell_type": "code",
   "execution_count": null,
   "metadata": {},
   "outputs": [],
   "source": []
  }
 ],
 "metadata": {
  "kernelspec": {
   "display_name": "Python 3",
   "language": "python",
   "name": "python3"
  },
  "language_info": {
   "codemirror_mode": {
    "name": "ipython",
    "version": 3
   },
   "file_extension": ".py",
   "mimetype": "text/x-python",
   "name": "python",
   "nbconvert_exporter": "python",
   "pygments_lexer": "ipython3",
   "version": "3.8.8"
  }
 },
 "nbformat": 4,
 "nbformat_minor": 4
}
