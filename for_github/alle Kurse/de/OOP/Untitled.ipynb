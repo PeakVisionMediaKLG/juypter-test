{
 "cells": [
  {
   "cell_type": "code",
   "execution_count": 53,
   "id": "bd744174",
   "metadata": {},
   "outputs": [
    {
     "name": "stdout",
     "output_type": "stream",
     "text": [
      "0\n",
      "1\n",
      "2\n",
      "3\n",
      "4\n",
      "5\n",
      "6\n",
      "7\n",
      "8\n",
      "9\n",
      "10\n",
      "11\n",
      "12\n",
      "13\n",
      "14\n",
      "15\n",
      "16\n",
      "17\n",
      "18\n",
      "19\n",
      "0\n",
      "test_pickle Instanz 0 ist 0\n",
      "test_pickle Instanz 1 ist 1\n",
      "test_pickle Instanz 2 ist 2\n",
      "test_pickle Instanz 3 ist 3\n",
      "test_pickle Instanz 4 ist 4\n",
      "test_pickle Instanz 5 ist 5\n",
      "test_pickle Instanz 6 ist 6\n",
      "test_pickle Instanz 7 ist 7\n",
      "test_pickle Instanz 8 ist 8\n",
      "test_pickle Instanz 9 ist 9\n",
      "test_pickle Instanz 10 ist 10\n",
      "test_pickle Instanz 11 ist 11\n",
      "test_pickle Instanz 12 ist 12\n",
      "test_pickle Instanz 13 ist 13\n",
      "test_pickle Instanz 14 ist 14\n",
      "test_pickle Instanz 15 ist 15\n",
      "test_pickle Instanz 16 ist 16\n",
      "test_pickle Instanz 17 ist 17\n",
      "test_pickle Instanz 18 ist 18\n",
      "test_pickle Instanz 19 ist 19\n"
     ]
    }
   ],
   "source": [
    "class test_pickle:\n",
    "    def __init__(self,name):\n",
    "        self.name=name\n",
    "        print(self.name)\n",
    "    def __str__(self):        \n",
    "        print(self.name)\n",
    "    \n",
    "NUM_BULLETS = 20\n",
    "to_pickle = [test_pickle(str(_)) for _ in range(NUM_BULLETS)]\n",
    "print(to_pickle[0].name)\n",
    "#print(to_pickle)\n",
    "#print(len(to_pickle),type(to_pickle))\n",
    "\n",
    "import pickle\n",
    "\n",
    "f = open(\"test_instanzen.pkl\", \"bw\")\n",
    "pickler = pickle.Pickler(f,2)\n",
    "\n",
    "for _ in range(20):\n",
    "    print(f\"test_pickle Instanz {_} ist {to_pickle[_].name}\")\n",
    "    pickler.dump(to_pickle[_])\n",
    "f.close()"
   ]
  },
  {
   "cell_type": "code",
   "execution_count": 45,
   "id": "cd53ef3c",
   "metadata": {},
   "outputs": [
    {
     "name": "stdout",
     "output_type": "stream",
     "text": [
      "3\n"
     ]
    }
   ],
   "source": [
    "print(to_pickle[3].name)\n"
   ]
  },
  {
   "cell_type": "code",
   "execution_count": null,
   "id": "4234efa4",
   "metadata": {},
   "outputs": [],
   "source": []
  }
 ],
 "metadata": {
  "kernelspec": {
   "display_name": "Python 3",
   "language": "python",
   "name": "python3"
  },
  "language_info": {
   "codemirror_mode": {
    "name": "ipython",
    "version": 3
   },
   "file_extension": ".py",
   "mimetype": "text/x-python",
   "name": "python",
   "nbconvert_exporter": "python",
   "pygments_lexer": "ipython3",
   "version": "3.8.8"
  }
 },
 "nbformat": 4,
 "nbformat_minor": 5
}
