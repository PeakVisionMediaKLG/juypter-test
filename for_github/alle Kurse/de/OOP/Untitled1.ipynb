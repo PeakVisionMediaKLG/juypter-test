{
 "cells": [
  {
   "cell_type": "code",
   "execution_count": 8,
   "id": "b0ef6f2e",
   "metadata": {},
   "outputs": [
    {
     "ename": "SyntaxError",
     "evalue": "Missing parentheses in call to 'print'. Did you mean print(y.A)? (<ipython-input-8-a136e42f89d0>, line 17)",
     "output_type": "error",
     "traceback": [
      "\u001b[1;36m  File \u001b[1;32m\"<ipython-input-8-a136e42f89d0>\"\u001b[1;36m, line \u001b[1;32m17\u001b[0m\n\u001b[1;33m    print y.A\u001b[0m\n\u001b[1;37m          ^\u001b[0m\n\u001b[1;31mSyntaxError\u001b[0m\u001b[1;31m:\u001b[0m Missing parentheses in call to 'print'. Did you mean print(y.A)?\n"
     ]
    }
   ],
   "source": [
    "import myClass\n",
    "import pickle\n",
    "\n",
    "x = myClass.Test()\n",
    "\n",
    "for i in xrange(5):\n",
    "    x.A.append(i)\n",
    "\n",
    "f = open('data', 'w')\n",
    "pickle.dump(x,f)\n",
    "f.close()\n",
    "\n",
    "f = open('data')\n",
    "y = pickle.load(f)\n",
    "f.close\n",
    "\n",
    "print y.A\n",
    "\n",
    "and test2.py\n",
    "\n",
    "import myClass\n",
    "import pickle\n",
    "\n",
    "f = open('data')\n",
    "y = pickle.load(f)\n",
    "f.close\n",
    "\n",
    "print y.A\n"
   ]
  },
  {
   "cell_type": "code",
   "execution_count": null,
   "id": "d9c69363",
   "metadata": {},
   "outputs": [],
   "source": []
  },
  {
   "cell_type": "code",
   "execution_count": null,
   "id": "c146d7fe",
   "metadata": {},
   "outputs": [],
   "source": []
  }
 ],
 "metadata": {
  "kernelspec": {
   "display_name": "Python 3",
   "language": "python",
   "name": "python3"
  },
  "language_info": {
   "codemirror_mode": {
    "name": "ipython",
    "version": 3
   },
   "file_extension": ".py",
   "mimetype": "text/x-python",
   "name": "python",
   "nbconvert_exporter": "python",
   "pygments_lexer": "ipython3",
   "version": "3.8.8"
  }
 },
 "nbformat": 4,
 "nbformat_minor": 5
}
