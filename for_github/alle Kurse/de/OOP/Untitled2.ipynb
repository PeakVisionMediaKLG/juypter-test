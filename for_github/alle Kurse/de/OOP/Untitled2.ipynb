{
 "cells": [
  {
   "cell_type": "code",
   "execution_count": null,
   "id": "b2bc2aab",
   "metadata": {},
   "outputs": [],
   "source": [
    "class Test:\n",
    "    A = []  # a class attribute\n",
    "    def __init__(self):\n",
    "        self.a = []  # an instance attribute\n",
    "\n",
    "You will notice that the instance attribute a will be pickled and unpickled properly, while the class attribute A will simply refer to the class in memory.\n",
    "\n",
    "for i in range(5):\n",
    "    x.A.append(i)\n",
    "    x.a.append(i)  \n",
    "\n",
    "with open('data', 'wb') as f:\n",
    "    pickle.dump(x,f)\n",
    "\n",
    "with open('data', 'rb') as f:\n",
    "    y = pickle.load(f)\n",
    "\n",
    ">>> y.A\n",
    "[0, 1, 2, 3, 4]\n",
    ">>> y.a\n",
    "[0, 1, 2, 3, 4]\n",
    ">>> Test.A\n",
    "[0, 1, 2, 3, 4]\n",
    ">>> Test.A = []  # resetting the class attribute\n",
    ">>> y.a \n",
    "[0, 1, 2, 3, 4]\n",
    ">>> y.A  # refers to the class attribute\n",
    "[]\n"
   ]
  }
 ],
 "metadata": {
  "kernelspec": {
   "display_name": "Python 3",
   "language": "python",
   "name": "python3"
  },
  "language_info": {
   "codemirror_mode": {
    "name": "ipython",
    "version": 3
   },
   "file_extension": ".py",
   "mimetype": "text/x-python",
   "name": "python",
   "nbconvert_exporter": "python",
   "pygments_lexer": "ipython3",
   "version": "3.8.8"
  }
 },
 "nbformat": 4,
 "nbformat_minor": 5
}
