{
 "cells": [
  {
   "cell_type": "code",
   "execution_count": 9,
   "id": "eb1df88a",
   "metadata": {},
   "outputs": [
    {
     "name": "stdout",
     "output_type": "stream",
     "text": [
      "[<__main__.Test object at 0x0000003681816D30>, <__main__.Test object at 0x00000036818267F0>, <__main__.Test object at 0x0000003681826D90>, <__main__.Test object at 0x0000003681A42460>, <__main__.Test object at 0x0000003681A42550>]\n",
      "a\n",
      "blöd\n",
      "c\n",
      "delta\n",
      "echo\n",
      "a\n",
      "blöd\n",
      "c\n",
      "delta\n",
      "echo\n"
     ]
    }
   ],
   "source": [
    "import pickle\n",
    "class Test:\n",
    "    A = []  # a class attribute\n",
    "    def __init__(self,name):\n",
    "        self.name = name  # an instance attribute\n",
    "\n",
    "namensliste=[\"a\",\"blöd\",\"c\",\"delta\",\"echo\"]\n",
    "fh      = open('obj.txt', 'wb')\n",
    "pickler = pickle.Pickler(fh)\n",
    "for _ in range(5):\n",
    "    Test.A.append(Test(namensliste[_]))\n",
    "print(Test.A)\n",
    "for i in Test.A:\n",
    "    print(i.name)\n",
    "    pickler.dump(i)\n",
    "    del i\n",
    "\n",
    "fh.close()\n",
    "fh = open('obj.txt',\"rb\")\n",
    "\n",
    "unpk = pickle.Unpickler(fh)\n",
    "\n",
    "\n",
    "for i in range(5):\n",
    "  Test.A.append( unpk.load())\n",
    "for i in range(5):\n",
    "    print(Test.A[i].name)\n",
    "\n",
    "fh.close()\n"
   ]
  },
  {
   "cell_type": "code",
   "execution_count": null,
   "id": "846049cc",
   "metadata": {},
   "outputs": [],
   "source": []
  }
 ],
 "metadata": {
  "kernelspec": {
   "display_name": "Python 3",
   "language": "python",
   "name": "python3"
  },
  "language_info": {
   "codemirror_mode": {
    "name": "ipython",
    "version": 3
   },
   "file_extension": ".py",
   "mimetype": "text/x-python",
   "name": "python",
   "nbconvert_exporter": "python",
   "pygments_lexer": "ipython3",
   "version": "3.8.8"
  }
 },
 "nbformat": 4,
 "nbformat_minor": 5
}
