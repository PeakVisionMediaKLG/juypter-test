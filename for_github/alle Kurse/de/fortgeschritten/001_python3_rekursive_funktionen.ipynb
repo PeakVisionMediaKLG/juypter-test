{
 "cells": [
  {
   "cell_type": "markdown",
   "metadata": {},
   "source": [
    "## Recursive Functions\n",
    "\n",
    "### Definition\n",
    "\n",
    "<img width=300 class=\"imgright\" src=\"../images/mona_lisa.webp\" alt=\"Mona Lisa Fractal\" /> \n",
    "\n",
    "\"Rekursion hat etwas mit Unendlichkeit zu tun. Ich weiß, dass Rekursion etwas mit Unendlichkeit zu tun hat. Ich glaube, ich weiß, dass Rekursion etwas mit Unendlichkeit zu tun hat. Er ist sich sicher, dass ich weiß, dass Rekursion etwas mit Unendlichkeit zu tun hat. Wir bezweifeln, dass er sicher ist, dass ich weiß ...\" Wir glauben, dass wir Sie jetzt davon überzeugt haben, dass wir mit diesem Beispiel einer Rekursion aus der natürlichen Sprache für immer weitermachen können. Rekursion ist nicht nur ein grundlegendes Merkmal der natürlichen Sprache, sondern auch der kognitiven Fähigkeiten des Menschen. Unsere Denkweise basiert auf rekursiven Denkprozessen. Selbst mit einer sehr einfachen Grammatikregel wie \"Ein englischer Satz enthält ein Subjekt und ein Prädikat und ein Prädikat enthält ein Verb, ein Objekt und eine Ergänzung\" können wir die unendlichen Möglichkeiten der natürlichen Sprache demonstrieren. Der Kognitionswissenschaftler und Linguist Stephen Pinker formuliert es so: \"Mit ein paar tausend Substantiven, die den Platzhalter für das Subjekt füllen können, und ein paar tausend Verben, die den Platzhalter für das Prädikat füllen können, hat man bereits mehrere Millionen Möglichkeiten, einen Satz zu öffnen. Die möglichen Kombinationen multiplizieren sich schnell zu unvorstellbar großen Zahlen. In der Tat ist das Repertoire an Sätzen theoretisch unendlich, weil die Sprachregeln einen Trick verwenden, der als Rekursion bezeichnet wird. Eine rekursive Regel erlaubt es einer Phrase, ein Beispiel für sich selbst zu enthalten, wie in \"Sie glaubt, dass er das denkt sie denken, dass er es weiß\" und so weiter, ad infinitum. Und wenn die Anzahl der Sätze unendlich ist, ist auch die Anzahl der möglichen Gedanken und Absichten unendlich, weil praktisch jeder Satz einen anderen Gedanken oder eine andere Absicht ausdrückt. \"<sup>1</sup>\n",
    "\n",
    "Wir müssen unsere kurze Exkursion zur Verwendung der Rekursion in natürlicher Sprache beenden, um zur Rekursion in Informatik und Programmen und schließlich zur Rekursion in der Programmiersprache Python zurückzukehren.\n",
    "\n",
    "Das Adjektiv \"rekursiv\" stammt vom lateinischen Verb \"recurrere\" ab, was \"zurücklaufen\" bedeutet. Und dies ist, was eine rekursive Definition oder eine rekursive Funktion tut: Sie \"läuft zurück\" oder kehrt zu sich selbst zurück. Die meisten Leute, diesich mit Mathematik oder Informatik beschäftigt haben oder ein Buch über Programmierung gelesen haben, werden auf die Fakultät gestoßen sein, die in mathematischen Begriffen definiert ist als\n",
    "\n",
    "<pre> n! = n * (n-1)!, wenn n> 1 und 0! = 1 </pre>\n",
    "\n",
    "Es wird wegen seiner Einfach- und Klarheit oft als erstes Beispiel für eine Rekursion verwendet.\n",
    "\n",
    "### Definition der Rekursion\n",
    "Rekursion ist eine Methode zum Programmieren oder Codieren eines Problems, bei der eine Funktion ein- oder mehrmals in ihrem Funktionskörper aufgerufen wird. Normalerweise wird der Rückgabewert dieses Funktionsaufrufs zurückgegeben. Wenn eine Funktionsdefinition die Rekursionsbedingung erfüllt, nennen wir diese Funktion eine rekursive Funktion.\n",
    "\n",
    "Abbruchbedingung:\n",
    "Eine rekursive Funktion muss eine wichtige Bedingung erfüllen, damit man sie in einem Programm verwenden  kann: Sie muss terminieren. Eine rekursive Funktion wird beendet, wenn bei jedem rekursiven Aufruf die Lösung des Problems verkleinert wird und sich einem Basisfall \"nähert\". Ein Basisfall ist ein Fall, in dem das Problem ohne weitere Rekursion gelöst werden kann. Eine Rekursion kann in einer Endlosschleife enden, wenn der Basisfall in den Aufrufen nicht erreicht wird.\n",
    "\n",
    "Beispiel:\n",
    "\n",
    "<pre>\n",
    "4! = 4 * 3!\n",
    "3! = 3 * 2!\n",
    "2! = 2 * 1!\n",
    "1! = 1\n",
    "</pre>\n",
    "\n",
    "Das Ersetzen der berechneten Werte ergibt den folgenden Ausdruck\n",
    "\n",
    "<pre>\n",
    "4! = 4 * 3 * 2 * 1\n",
    "</pre>\n",
    "Mit anderen Worten, Rekursion in der Informatik ist eine Methode, bei der die Lösung eines Problems auf der Lösung kleinerer Instanzen desselben Problems basiert.\n",
    "\n",
    "\n",
    "### Rekursive Funktionen in Python\n",
    "Nun kommen wir dazu, die Fakultät in Python zu implementieren. Es ist so einfach und elegant wie die mathematische Definition."
   ]
  },
  {
   "cell_type": "code",
   "execution_count": 3,
   "metadata": {},
   "outputs": [
    {
     "name": "stdout",
     "output_type": "stream",
     "text": [
      "24\n"
     ]
    }
   ],
   "source": [
    "def Fakultät(n):\n",
    "    if n == 1:\n",
    "        return 1\n",
    "    else:\n",
    "        return n * Fakultät(n-1)\n",
    "    \n",
    "print(Fakultät(4))"
   ]
  },
  {
   "cell_type": "markdown",
   "metadata": {},
   "source": [
    "Wir können die Funktionsweise der Funktion verfolgen, indem wir der vorherigen Funktionsdefinition zwei ```print()```-Funktionen hinzufügen:"
   ]
  },
  {
   "cell_type": "code",
   "execution_count": 6,
   "metadata": {},
   "outputs": [
    {
     "name": "stdout",
     "output_type": "stream",
     "text": [
      "Fakultät wurde mit 5 aufgerufen\n",
      "Fakultät wurde mit 4 aufgerufen\n",
      "Fakultät wurde mit 3 aufgerufen\n",
      "Fakultät wurde mit 2 aufgerufen\n",
      "Fakultät wurde mit 1 aufgerufen\n",
      "Zwischenergebnis für  2  *Fakultät ( 1 ):  2\n",
      "Zwischenergebnis für  3  *Fakultät ( 2 ):  6\n",
      "Zwischenergebnis für  4  *Fakultät ( 3 ):  24\n",
      "Zwischenergebnis für  5  *Fakultät ( 4 ):  120\n",
      "120\n"
     ]
    }
   ],
   "source": [
    "def Fakultät(n):\n",
    "    print(f\"Fakultät wurde mit {n} aufgerufen\")\n",
    "    if n == 1:\n",
    "        return 1\n",
    "    else:\n",
    "        res = n * Fakultät(n-1)\n",
    "        print(\"Zwischenergebnis für \", n, \" *Fakultät (\" , n-1, \"): \", res)\n",
    "        return res\n",
    "\n",
    "print(Fakultät(5))"
   ]
  },
  {
   "cell_type": "markdown",
   "metadata": {},
   "source": [
    "Schauen wir uns eine iterative Version der Fakultätsfunktion an."
   ]
  },
  {
   "cell_type": "code",
   "execution_count": 4,
   "metadata": {},
   "outputs": [
    {
     "name": "stdout",
     "output_type": "stream",
     "text": [
      "0 1\n",
      "1 1\n",
      "2 2\n",
      "3 6\n",
      "4 24\n"
     ]
    }
   ],
   "source": [
    "def iterative_Fakultät(n):\n",
    "    Ergebnis = 1\n",
    "    for i in range(2, n+1):\n",
    "        Ergebnis *= i\n",
    "    return Ergebnis\n",
    "\n",
    "\n",
    "for i in range(5):\n",
    "    print(i, iterative_Fakultät(i))"
   ]
  },
  {
   "cell_type": "markdown",
   "metadata": {},
   "source": [
    "Es ist üblich, die Fakultätsfunktion für 0 als Argument zu erweitern. Es ist sinnvoll, \"0!\" als \"1\" zu definieren, da es genau eine Permutation von Nullobjekten gibt, d.h. wenn nichts permutieren soll, bleibt \"Alles\" an Ort und Stelle. \n",
    "\n",
    "Für die mathematisch Interessierten: Zur Berechnung der k-Kombinationen von n Elementen gilt die Formel:\n",
    "$$\\binom{n}{k} = \\frac{n!}{(n-k)! \\cdot k!}$$\n",
    "Ist k gleich n, erhält man den Ausdruck $(n - n)!$ also 0!. Hierbei muss $0!$ auch als 1 definiert sein.\n",
    "\n",
    "\n",
    "Um dies zu implementieren, müssen wir lediglich die Bedingung der if-Anweisung ändern:"
   ]
  },
  {
   "cell_type": "code",
   "execution_count": 5,
   "metadata": {},
   "outputs": [],
   "source": [
    "def Fakultät(n):\n",
    "    if n == 0:\n",
    "        return 1\n",
    "    else:\n",
    "        return n * Fakultät(n-1)"
   ]
  },
  {
   "cell_type": "markdown",
   "metadata": {},
   "source": [
    "### Fibonacci-Zahlen\n",
    "\n",
    "Unsere Abhandlung über die Rekursion führt uns nun zu einem weiteren interessanten Fall der Rekursion.\n",
    "\n",
    "Was haben Sonnenblumen, der Goldene Schnitt, Tannenzapfen, der Da Vinci-Code, das Lied \"Lateralus\" von Tool und die Grafik auf der rechten Seite gemeinsam? Richtig, die Fibonacci-Zahlen.\n",
    "Die Fibonacci-Zahlen führen wir nicht ein, um ein weiteres Beispiel für eine rekursive Funktion zu haben. Vielmehr wollen wir mit einer rekursiven Funktion für diese Zahlenfolge auf ein interessantes Problem der Rekursion zu sprechen kommen.  Der Versuch, eine rekursive Funktion für diese Zahlenfolge zu schreiben, kann nämlich zu einem ineffizienten Programm führen. In der Tat so ineffizient, dass es in der Praxis nicht brauchbar sein wird. Wir führen die Fibonacci-Zahlen ein, um die Fallstricke der Rekursion zu zeigen.\n",
    "\n",
    "<img height= 200 width=200 class=\"imgright\" src=\"../images/fibonacci_squares.webp\" srcset=\"../images/fibonacci_squares_350w.webp 350w,../images/fibonacci_squares_300w.webp 300w\" alt=\"Fibonacci Squares\" /> \n",
    "\n",
    "\n",
    "Die folgenden Zahlen stellen den Beginn der Fibonaccifolge dar:\n",
    "\n",
    "0, 1, 1, 2, 3, 5, 8, 13, 21, 34, 55, 89, ...\n",
    "\n",
    "Schaut man diese Zahlen etwas genauer kann, kann man das Bildungsprinzip der Folge leicht erkennen. Eine Fibonacci-Zahl ist jeweils die Summe aus ihren beiden Vorgängern. Diese Gesetzmäßigkeit gilt für alle Fibonacci-Zahlen außer für die erste und die zweite, die mit 0 und 1 vorbesetzt sind:\n",
    "\n",
    "$ F_n = F_{n-1} + F_{n-2} $\n",
    "\n",
    "mit $F_0 = 0$ und $F_1 = 1$\n",
    "\n",
    "\n",
    "Die Fibonacci-Sequenz ist nach dem Mathematiker Leonardo von Pisa benannt, der besser als Fibonacci bekannt ist. In seinem Buch \"Liber Abaci\" (veröffentlicht 1202) stellte er diese Folge als Übungsaufgabe vor. Seine Folge der Fibonacci-Zahlen beginnt mit $F_1 = 1$, während in der modernen Mathematik die Folge mit $F_0 = 0$ beginnt. Dies hat jedoch keine Auswirkung auf die anderen Elemente der Folge.\n",
    "\n",
    "Die Fibonacci-Zahlen basieren auf dem von Fibonacci erdachten Populationsverhalten von Kaninchen. Sie erfüllen folgende Bedingungen:\n",
    "\n",
    "- Ein neugeborenes Kaninchenpaar, also ein Männchen und ein Weibchen, bildet die ursprüngliche Population\n",
    "- Diese Kaninchen können sich im Alter von einem Monat paaren, so dass ein Weibchen am Ende seines zweiten Monats ein weiteres Kaninchenpaar zur Welt bringen kann. \n",
    "- Diese Kaninchen sind unsterblich.\n",
    "- Ein Paar produziert ab dem zweiten Monat jeden Monat ein neues Paar (ein Männchen, ein Weibchen)\n",
    "\n",
    "Wie bereits gesagt: So sah es bei Fibonacci aus. Die moderne Mathematik setzt noch eins voran:\n",
    "\"Im Anfang gibt es keine Kaninchen\". Dann nach einem Monat gibt es plötzlich ein Parr, wo immer es herkommen mag.\n",
    "\n",
    "Die Fibonacci-Zahlen sind die Zahlen der Kaninchenpaare nach ```n``` Monaten, d.h. nach 10 Monaten haben wir $F_10$ Kaninchen.\n",
    "\n",
    "Die Fibonacci-Zahlen sind einfach als Python-Funktion zu schreiben. Es ist mehr oder weniger eine Eins-zu-Eins-Abbildung aus der mathematischen Definition:"
   ]
  },
  {
   "cell_type": "code",
   "execution_count": 7,
   "metadata": {},
   "outputs": [],
   "source": [
    "def fib(n):\n",
    "    if n == 0:\n",
    "        return 0\n",
    "    elif n == 1:\n",
    "        return 1\n",
    "    else:\n",
    "        return fib(n-1) + fib(n-2)"
   ]
  },
  {
   "cell_type": "markdown",
   "metadata": {},
   "source": [
    "Eine iterative Lösung ist geringfügig schwerer zu schreiben, aber sollte trotzdem leicht verständlich sein, auch wenn sie nicht mehr die mathematischen Definition widerspiegelt:"
   ]
  },
  {
   "cell_type": "code",
   "execution_count": 8,
   "metadata": {},
   "outputs": [],
   "source": [
    "def fibi(n):\n",
    "    alt, neu = 0, 1\n",
    "    if n == 0:\n",
    "        return 0\n",
    "    for i in range(n-1):\n",
    "        alt, neu = neu, alt + neu\n",
    "    return neu"
   ]
  },
  {
   "cell_type": "markdown",
   "metadata": {},
   "source": [
    "Wir werden ein Modul mit dem Namen ```fibonacci``` schreiben, das sowohl die Funktion ``` fib``` als auch ```fibi``` enthält. Dazu müssen Sie den folgenden Code in eine Datei mit dem Namen fibonacci0.py kopieren:"
   ]
  },
  {
   "cell_type": "code",
   "execution_count": 7,
   "metadata": {},
   "outputs": [
    {
     "name": "stdout",
     "output_type": "stream",
     "text": [
      "Overwriting fibonacci0.py\n"
     ]
    }
   ],
   "source": [
    "%%writefile fibonacci0.py\n",
    "\"\"\" Ein Modul, das sowohl eine rekursive als auch eine iterative Implementierung \n",
    "der Fibonacci-Funktion enthält. Der Zweck dieses Moduls besteht darin, \n",
    "die Ineffizienz einer rein rekursiven Implementierung von Fibonacci zu zeigen! \"\"\"\n",
    "\n",
    "def fib(n):\n",
    "    \"\"\" rekursive Version der Fibonacci-Funktion \"\"\"\n",
    "    if n == 0: \n",
    "        return 0\n",
    "    elif n == 1:\n",
    "        return 1\n",
    "    else:\n",
    "        return fib(n-1) + fib(n-2)\n",
    "    \n",
    "def fibi(n):\n",
    "    \"\"\" iterative Version der Fibonacci-Funktion \"\"\"\n",
    "    alt, neu = 0, 1\n",
    "    if n == 0:\n",
    "        return 0\n",
    "    for i in range(n-1):\n",
    "        alt, neu = neu, alt + neu\n",
    "    return neu\n"
   ]
  },
  {
   "cell_type": "markdown",
   "metadata": {},
   "source": [
    "Vergleicht man die Laufzeiten von ```fib``` und ```fibi``` überprüfen, kann man feststellen, dass die iterative Version ```fibi``` viel schneller ist als die rekursive Version ```fib```. Um eine Vorstellung davon zu bekommen, wie viel dies \"viel schneller\" sein kann, haben wir ein Skript geschrieben, das das timeit-Modul verwendet, um die Aufrufe zu messen. Dazu speichern wir die Funktionsdefinitionen für ```fib``` und ```fibi``` in einer Datei ```fibonacci.py```, die wir in das folgende Programm (```fibonacci_runit.py```) importieren können:"
   ]
  },
  {
   "cell_type": "code",
   "execution_count": 9,
   "metadata": {},
   "outputs": [
    {
     "name": "stdout",
     "output_type": "stream",
     "text": [
      "n= 1, fib: 0.000001, fibi:  0.000003, time1/time2:       0.44\n",
      "n= 2, fib: 0.000003, fibi:  0.000004, time1/time2:       0.87\n",
      "n= 3, fib: 0.000003, fibi:  0.000002, time1/time2:       1.10\n",
      "n= 4, fib: 0.000004, fibi:  0.000002, time1/time2:       1.49\n",
      "n= 5, fib: 0.000015, fibi:  0.000002, time1/time2:       6.58\n",
      "n= 6, fib: 0.000015, fibi:  0.000003, time1/time2:       5.29\n",
      "n= 7, fib: 0.000012, fibi:  0.000002, time1/time2:       5.10\n",
      "n= 8, fib: 0.000019, fibi:  0.000002, time1/time2:       7.77\n",
      "n= 9, fib: 0.000031, fibi:  0.000003, time1/time2:      12.22\n",
      "n=10, fib: 0.000051, fibi:  0.000003, time1/time2:      19.05\n",
      "n=11, fib: 0.000081, fibi:  0.000003, time1/time2:      28.69\n",
      "n=12, fib: 0.000128, fibi:  0.000003, time1/time2:      44.30\n",
      "n=13, fib: 0.000205, fibi:  0.000003, time1/time2:      71.90\n",
      "n=14, fib: 0.000332, fibi:  0.000003, time1/time2:     110.61\n",
      "n=15, fib: 0.000534, fibi:  0.000003, time1/time2:     177.86\n",
      "n=16, fib: 0.000862, fibi:  0.000003, time1/time2:     280.24\n",
      "n=17, fib: 0.001403, fibi:  0.000003, time1/time2:     415.63\n",
      "n=18, fib: 0.002206, fibi:  0.000003, time1/time2:     633.78\n",
      "n=19, fib: 0.003760, fibi:  0.000004, time1/time2:     957.86\n"
     ]
    }
   ],
   "source": [
    "from timeit import Timer\n",
    "\n",
    "t1 = Timer(\"fib(10)\",\"from fibonacci0 import fib\")\n",
    "\n",
    "for i in range(1, 20):\n",
    "    cmd = \"fib(\" + str(i) + \")\"\n",
    "    t1 = Timer(cmd, \"from fibonacci0 import fib\")\n",
    "    time1 = t1.timeit(3)\n",
    "    cmd = \"fibi(\" + str(i) + \")\"\n",
    "    t2 = Timer(cmd, \"from fibonacci0 import fibi\")\n",
    "    time2 = t2.timeit(3)\n",
    "    print(f\"n={i:2d}, fib: {time1:8.6f}, fibi:  {time2:7.6f}, time1/time2: {time1/time2:10.2f}\")"
   ]
  },
  {
   "cell_type": "markdown",
   "metadata": {},
   "source": [
    "```time1``` ist die Zeit in Sekunden, die für 3 Aufrufe von ```fib(n) ```und ```time2``` die Zeit für ```fibi(n)``` benötigt wird ."
   ]
  },
  {
   "cell_type": "markdown",
   "metadata": {},
   "source": [
    "Was ist falsch an unserer rekursiven Implementierung?\n",
    "\n",
    "Schauen wir uns den Berechnungsbaum an, d.h. die Reihenfolge, in der die Funktionen aufgerufen werden. In den Baum steht ```f()``` statt ```fib()```.\n",
    "\n",
    "<img height = 300 width = 300 src = \"../images/fib_calculation_tree.webp\" alt = \"fib() Berechnungsbaum\" />\n",
    "\n",
    "Wir können sehen, dass der Teilbaum f(2) dreimal und der Teilbaum für die Berechnung von f(3) zweimal erscheint. Wenn Sie sich vorstellen, diesen Baum für f(6) zu erweitern, werden Sie verstehen, dass f(4) zweimal, f(3) dreimal und so weiter aufgerufen wird. Dies bedeutet, dass sich unsere Rekursion nicht an zuvor berechnete Werte erinnert.\n",
    "\n",
    "Wir können einen \"Speicher\" für unsere rekursive Version implementieren, indem wir ein Dictionary verwenden, um die zuvor berechneten Werte zu speichern. Wir nennen diese Version ```fibm```:\n"
   ]
  },
  {
   "cell_type": "code",
   "execution_count": 10,
   "metadata": {},
   "outputs": [],
   "source": [
    "memo = {0:0, 1:1}\n",
    "def fibm(n):\n",
    "    if not n in memo:\n",
    "        memo[n] = fibm(n-1) + fibm(n-2)\n",
    "    return memo[n]\n"
   ]
  },
  {
   "cell_type": "markdown",
   "metadata": {},
   "source": [
    "Wir fügen diese Funktion unserem ```Fibonacci```-Modul hinzu:"
   ]
  },
  {
   "cell_type": "code",
   "execution_count": 11,
   "metadata": {},
   "outputs": [
    {
     "name": "stdout",
     "output_type": "stream",
     "text": [
      "Overwriting fibonacci.py\n"
     ]
    }
   ],
   "source": [
    "%%writefile fibonacci.py\n",
    "\"\"\" Ein Modul, das sowohl eine rekursive als auch eine iterative Implementierung der Fibonacci-Funktion enthält.\n",
    "Der Zweck dieses Moduls besteht darin, die Ineffizienz einer rein rekursiven Implementierung von Fibonacci zu zeigen! \"\"\"\n",
    "\n",
    "def fib(n):\n",
    "    \"\"\" rekursive Version der Fibonacci-Funktion \"\"\"\n",
    "    if n == 0:\n",
    "        return 0\n",
    "    elif n == 1:\n",
    "        return 1\n",
    "    else:\n",
    "        return fib(n-1) + fib(n-2)\n",
    "    \n",
    "def fibi(n):\n",
    "    \"\"\" iterative Version der Fibonacci-Funktion \"\"\"\n",
    "    old, new = 0, 1\n",
    "    if n == 0:\n",
    "        return 0\n",
    "    for i in range(n-1):\n",
    "        old, new = new, old + new\n",
    "    return new\n",
    "\n",
    "memo = {0:0, 1:1}\n",
    "def fibm(n):\n",
    "    \"\"\" rekursive Fibonacci-Funktion, die zuvor berechnete Werte mithilfe eines Wörterbuch-Memos gespeichert hat\"\"\"\n",
    "    if not n in memo:\n",
    "        memo[n] = fibm(n-1) + fibm(n-2)\n",
    "    return memo[n]\n"
   ]
  },
  {
   "cell_type": "markdown",
   "metadata": {},
   "source": [
    "Nun können wir Zeitmessungen durchführen und die neue Funktion mit ```fibi``` vergleichen:"
   ]
  },
  {
   "cell_type": "code",
   "execution_count": 12,
   "metadata": {},
   "outputs": [
    {
     "name": "stdout",
     "output_type": "stream",
     "text": [
      "n= 1, fibm: 0.000003, fibi:  0.000004, time1/time2:       0.71\n",
      "n= 2, fibm: 0.000002, fibi:  0.000005, time1/time2:       0.44\n",
      "n= 3, fibm: 0.000002, fibi:  0.000004, time1/time2:       0.44\n",
      "n= 4, fibm: 0.000002, fibi:  0.000005, time1/time2:       0.44\n",
      "n= 5, fibm: 0.000002, fibi:  0.000005, time1/time2:       0.40\n",
      "n= 6, fibm: 0.000002, fibi:  0.000005, time1/time2:       0.37\n",
      "n= 7, fibm: 0.000002, fibi:  0.000005, time1/time2:       0.35\n",
      "n= 8, fibm: 0.000002, fibi:  0.000006, time1/time2:       0.31\n",
      "n= 9, fibm: 0.000002, fibi:  0.000006, time1/time2:       0.30\n",
      "n=10, fibm: 0.000002, fibi:  0.000006, time1/time2:       0.29\n",
      "n=11, fibm: 0.000002, fibi:  0.000007, time1/time2:       0.30\n",
      "n=12, fibm: 0.000002, fibi:  0.000007, time1/time2:       0.29\n",
      "n=13, fibm: 0.000002, fibi:  0.000007, time1/time2:       0.27\n",
      "n=14, fibm: 0.000002, fibi:  0.000007, time1/time2:       0.24\n",
      "n=15, fibm: 0.000002, fibi:  0.000007, time1/time2:       0.23\n",
      "n=16, fibm: 0.000002, fibi:  0.000008, time1/time2:       0.22\n",
      "n=17, fibm: 0.000002, fibi:  0.000009, time1/time2:       0.18\n",
      "n=18, fibm: 0.000002, fibi:  0.000009, time1/time2:       0.20\n",
      "n=19, fibm: 0.000002, fibi:  0.000010, time1/time2:       0.19\n"
     ]
    }
   ],
   "source": [
    "from timeit import Timer\n",
    "from fibonacci import fib\n",
    "\n",
    "t1 = Timer(\"fib(10)\",\"from fibonacci import fib\")\n",
    "\n",
    "for i in range(1, 20):\n",
    "    s = \"fibm(\" + str(i) + \")\"\n",
    "    t1 = Timer(s,\"from fibonacci import fibm\")\n",
    "    time1 = t1.timeit(3)\n",
    "    s = \"fibi(\" + str(i) + \")\"\n",
    "    t2 = Timer(s,\"from fibonacci import fibi\")\n",
    "    time2 = t2.timeit(3)\n",
    "    print(f\"n={i:2d}, fibm: {time1:8.6f}, fibi:  {time2:7.6f}, time1/time2: {time1/time2:10.2f}\")"
   ]
  },
  {
   "cell_type": "markdown",
   "metadata": {},
   "source": [
    "Wir können sehen, dass es noch schneller als die iterative Version ist. Je größer die Argumente sind, desto größer ist natürlich der Nutzen unseres Auswendiglernens:"
   ]
  },
  {
   "cell_type": "markdown",
   "metadata": {},
   "source": [
    "Wir können auch einen rekursiven Algorithmus für unsere Fibonacci-Funktion definieren, indem wir eine Klasse mit Callable-Instanzen verwenden, d.h. indem wir die spezielle Methode ```__call__``` verwenden. Auf diese Weise können wir das Dictionary auf elegante Weise ausblenden. Wir haben einen allgemeinen Ansatz verwendet, der es erlaubt, auch Funktionen zu definieren, die der Fibonaccifolge ähnlich sind, wie beispielsweise die Lucas-Funktion:"
   ]
  },
  {
   "cell_type": "code",
   "execution_count": 12,
   "metadata": {},
   "outputs": [
    {
     "name": "stdout",
     "output_type": "stream",
     "text": [
      "1 1 1\n",
      "2 1 3\n",
      "3 2 4\n",
      "4 3 7\n",
      "5 5 11\n",
      "6 8 18\n",
      "7 13 29\n",
      "8 21 47\n",
      "9 34 76\n",
      "10 55 123\n",
      "11 89 199\n",
      "12 144 322\n",
      "13 233 521\n",
      "14 377 843\n",
      "15 610 1364\n"
     ]
    }
   ],
   "source": [
    "class Fibonacci:\n",
    "\n",
    "    def __init__(self, i1=0, i2=1):\n",
    "        self.memo = {0:i1, 1:i2}\n",
    "\n",
    "    def __call__(self, n):\n",
    "        if n not in self.memo: \n",
    "            self.memo[n] = self.__call__(n-1) + self.__call__(n-2)  \n",
    "        return self.memo[n]\n",
    "    \n",
    "fib = Fibonacci()\n",
    "lucas = Fibonacci(2, 1)\n",
    "\n",
    "for i in range(1, 16):\n",
    "    print(i, fib(i), lucas(i))"
   ]
  },
  {
   "cell_type": "markdown",
   "metadata": {},
   "source": [
    "Die Lucas-Zahlen oder Lucas-Reihen sind eine ganzzahlige Folge, die nach dem Mathematiker François Édouard Anatole Lucas (1842–91) benannt ist, der sowohl diese Folge als auch die eng verwandten Fibonacci-Zahlen studierte. Die Lucas-Zahlen haben dieselbe Erstellungsregel wie die Fibonacci-Zahl, d.h. die Summe der beiden vorherigen Zahlen, aber die Werte für das erste und zweite Element der Folge sind unterschiedlich."
   ]
  },
  {
   "cell_type": "markdown",
   "metadata": {},
   "source": [
    "### Verallgemeinerte Fibonacci-Sequenz\n",
    "\n",
    "Wir werden nun zeigen, dass unser Ansatz auch zur Berechnung beliebiger verallgemeinerter Fibonacci-Sequenzen geeignet ist. Die Fibonacci-Sequenz hängt von den beiden vorhergehenden Werten ab. Wir verallgemeinern dieses Konzept jetzt, indem wir eine k-Fib-Sequenz folgendermaßen definieren\n",
    "\n",
    "Gegeben seien eine natürlichen Zahl ```k``` mit ```k >= 2``` und ```k``` Anfangswerte \n",
    "$i_0, i_1, \\ldots i_{k-1}$ für die gilt $F_k(0) = i_0, \\ldots F_k(k-1) = i_{k-1}$\n",
    "\n",
    "Die Funktion benötigt auch $k$ Koeffizienten $c_0, c_1, \\ldots c_{k-1}$\n",
    "\n",
    "$ F_k(n)$ ist definiert als\n",
    "\n",
    "$$ F_k(n) = a_0 \\cdot F_k(n-1) + a_1 \\cdot F_k(n-2) \\ldots a_{k-1} \\cdot F_k(n-k)$$\n",
    "\n",
    "mit $k <= n$"
   ]
  },
  {
   "cell_type": "code",
   "execution_count": 13,
   "metadata": {},
   "outputs": [
    {
     "name": "stdout",
     "output_type": "stream",
     "text": [
      "1 1 1\n",
      "2 1 3\n",
      "3 2 4\n",
      "4 3 7\n",
      "5 5 11\n",
      "6 8 18\n",
      "7 13 29\n",
      "8 21 47\n",
      "9 34 76\n",
      "10 55 123\n",
      "11 89 199\n",
      "12 144 322\n",
      "13 233 521\n",
      "14 377 843\n",
      "15 610 1364\n"
     ]
    }
   ],
   "source": [
    "class kFibonacci:\n",
    "\n",
    "    def __init__(self, k, initials, coefficients):\n",
    "        self.memo = dict(zip(range(k), initials))\n",
    "        self.coeffs = coefficients\n",
    "        self.k = k\n",
    "\n",
    "    def __call__(self, n):\n",
    "        k = self.k\n",
    "        if n not in self.memo: \n",
    "            result = 0\n",
    "            for coeff, i in zip(self.coeffs, range(1, k+1)):\n",
    "                result += coeff * self.__call__(n-i)\n",
    "            self.memo[n] = result  \n",
    "        return self.memo[n]\n",
    "    \n",
    "fib = kFibonacci(2, (0, 1), (1, 1))\n",
    "lucas = kFibonacci(2, (2, 1), (1, 1))\n",
    "\n",
    "for i in range(1, 16):\n",
    "    print(i, fib(i), lucas(i))"
   ]
  },
  {
   "cell_type": "markdown",
   "metadata": {},
   "source": [
    "Die Folge der Pell-Nummern beginnt mit 1, 2, 5, 12, 29, ...\n",
    "\n",
    "Die Funktion ist\n",
    "\n",
    "$P(n) = 2 \\cdot P(n-1) + P(n-2)$\n",
    "mit $P(0) = 1$ und $P(1) = 1$\n",
    "\n",
    "Es ist einfach, diese Sequenz mit unserer ```kFibonacci``` Klasse zu formulieren:"
   ]
  },
  {
   "cell_type": "code",
   "execution_count": 17,
   "metadata": {},
   "outputs": [
    {
     "name": "stdout",
     "output_type": "stream",
     "text": [
      "0 1\n",
      "1 2\n",
      "2 5\n",
      "3 12\n",
      "4 29\n",
      "5 70\n",
      "6 169\n",
      "7 408\n",
      "8 985\n",
      "9 2378\n"
     ]
    }
   ],
   "source": [
    "P = kFibonacci(2, (1, 2), (2, 1))\n",
    "for i in range(10):\n",
    "    print(i, P(i))"
   ]
  },
  {
   "cell_type": "markdown",
   "metadata": {},
   "source": [
    "Wir können eine weitere interessante Reihe erstellen, indem wir die Summe der beiden vorherigen Pell-Zahlen zwischen zwei Pell-Zahlen P (i) und P (i + 1) addieren. Wir bekommen:\n",
    "\n",
    "$ P(0), P(1), P(0) + P(1), P(2), P(1) + P(2), P(3), P(2) + P(3) , \\ldots $\n",
    "\n",
    "korrespondierend zu:\n",
    "$ 1, 2, 3, 5, 7, 12, 17, 29, \\ldots $"
   ]
  },
  {
   "cell_type": "code",
   "execution_count": 18,
   "metadata": {},
   "outputs": [
    {
     "name": "stdout",
     "output_type": "stream",
     "text": [
      "1, 2, 3, 5, 7, 12, 17, 29, 41, 70, 99, 169, 239, 408, 577, 985, 1393, 2378, 3363, 5741, "
     ]
    }
   ],
   "source": [
    "def nP(n):\n",
    "    if n < 2:\n",
    "        return P(n)\n",
    "    else:\n",
    "        i = n // 2 + 1\n",
    "        if n % 2:  # n is odd\n",
    "            return P(i)\n",
    "        else:\n",
    "            return P(i-1) + P(i-2)\n",
    "            \n",
    "for i in range(20):\n",
    "    print(nP(i), end=\", \")"
   ]
  },
  {
   "cell_type": "markdown",
   "metadata": {},
   "source": [
    "Wenn Sie sich die Zahlen genau ansehen, sehen Sie, dass diese Reihenfolge eine andere Regel enthält. Wir können nP wie folgt definieren:\n",
    "\n",
    "$nP(n) = 2 \\cdot nP(n-2) + nP(n-4)$ mit $n > 3$ und den Startwerten $1, 2, 3, 5$\n",
    "\n",
    "Dies ist eine weitere einfache Anwendung für unsere ```kFibonacci``` Klasse:"
   ]
  },
  {
   "cell_type": "code",
   "execution_count": 15,
   "metadata": {},
   "outputs": [
    {
     "name": "stdout",
     "output_type": "stream",
     "text": [
      "1, 2, 3, 5, 7, 12, 17, 29, 41, 70, 99, 169, 239, 408, 577, 985, 1393, 2378, 3363, 5741, "
     ]
    }
   ],
   "source": [
    "nP = kFibonacci(4, (1, 2, 3, 5), (0, 2, 0, 1))\n",
    "for i in range(20):\n",
    "    print(nP(i), end=\", \")"
   ]
  },
  {
   "cell_type": "markdown",
   "metadata": {},
   "source": [
    "Eine interessante mathematische Tatsache: Für jedes ungerade n ist der Quotient von $P(n)$ durch $P(n-1) $ eine Annäherung an $\\sqrt{2}$. Wenn ```n``` gerade ist, ist der Quotient eine Annäherung an $1 + {1 \\over {\\sqrt{2}}}$"
   ]
  },
  {
   "cell_type": "code",
   "execution_count": 16,
   "metadata": {},
   "outputs": [
    {
     "name": "stdout",
     "output_type": "stream",
     "text": [
      "Quadratwurzel von 2:  1.4142135623730951\n",
      "Quadratwurzel von 3:  1.7071067811865475\n",
      "2.0, 1.5, 1.6666666666666667, 1.4, 1.7142857142857142, 1.4166666666666667, 1.7058823529411764, 1.4137931034482758, 1.7073170731707317, 1.4142857142857144, 1.707070707070707, 1.4142011834319526, 1.707112970711297, 1.4142156862745099, 1.707105719237435, 1.4142131979695431, 1.7071069633883704, 1.4142136248948696, 1.7071067499256616, "
     ]
    }
   ],
   "source": [
    "qdwl2 = 2 ** 0.5\n",
    "print(\"Quadratwurzel von 2: \", qdwl2)\n",
    "print(\"Quadratwurzel von 3: \", 1 + 1 / qdwl2)\n",
    "for i in range(1, 20):\n",
    "    print(nP(i) / nP(i-1), end=\", \")"
   ]
  },
  {
   "cell_type": "markdown",
   "metadata": {},
   "source": [
    "### Weitere Informationen zur Rekursion in Python\n",
    "\n",
    "<img height= 200 width=200 class=\"imgright\" src=\"../images/towers_of_hanoi_2.webp\" alt=\"Towers of Hanoi\" />\n",
    "\n",
    "Wenn Sie mehr über Rekursion erfahren möchten, empfehlen wir Ihnen, die folgenden Übungen zu lösen. Bitte schauen Sie sich die Lösungen nicht an, bevor Sie Ihr Bestes gegeben haben. Wenn Sie eine Weile über eine Aufgabe nachgedacht haben und die Übung immer noch nicht lösen können, dürfen Sie unsere Beispiellösungen konsultieren.\n",
    "\n",
    "In unserem Abschnitt \"Fortgeschrittene Themen\" unseres Tutorials haben wir eine umfassende Beschreibung des Spiels oder Puzzles \"Towers of Hanoi\". Natürlich lösen wir es mit einer Funktion, die eine rekursive Funktion verwendet. Das \"Hanoi-Problem\" ist etwas Besonderes, da sich dem Programmierenden fast eine rekursive Lösung aufdrängt, während die iterative Lösung des Spiels schwer zu finden und zu begreifen  ist.\n",
    "\n",
    "### Übungen\n",
    "\n",
    "#### Übung 1\n",
    "\n",
    "Überlegen Sie sich eine rekursive Version der Funktion $f(n) = 3 \\cdot n$.\n",
    "\n",
    "#### Übung 2\n",
    "\n",
    "Schreiben Sie eine rekursive Python-Funktion, die die Summe der ersten n ganzen Zahlen zurückgibt.\n",
    "(Hinweis: Die Funktion ähnelt der Fakultätsfunktion!)\n",
    "\n",
    "#### Übung 3\n",
    "\n",
    "Schreiben Sie eine Funktion, die das Pascal-Dreieck implementiert:\n",
    "\n",
    "\n",
    "                      1\n",
    "\n",
    "                    1    1\n",
    "\n",
    "                 1     2     1\n",
    "\n",
    "              1     3     3     1\n",
    "\n",
    "           1     4     6     4     1\n",
    "\n",
    "         1     5     10    10     5    1\n",
    "         \n",
    "#### Übung 4\n",
    "\n",
    "Die Fibonacci-Zahlen sind im Pascalschen Dreieck versteckt. Wenn Sie die farbigen Zahlen des folgenden Dreiecks ausummieren, erhalten Sie die 7. Fibonacci-Zahl:\n",
    "\n",
    "<center>\n",
    "                   1<br>\n",
    "                 1 &nbsp;&nbsp; 1<br>\n",
    "               1 &nbsp;&nbsp;  2 &nbsp;&nbsp; 1<br>\n",
    "             1  &nbsp;&nbsp; 3 &nbsp;&nbsp;  3  &nbsp;&nbsp; <span style=\"font-weight: bold; color: rgb(255, 150, 98);\">1</span><br>\n",
    "           1  &nbsp;&nbsp; 4 &nbsp;&nbsp;  <span style=\"font-weight: bold; color: rgb(255, 150, 98);\">6</span> &nbsp;&nbsp;  4 &nbsp;&nbsp;  1<br>\n",
    "         1 &nbsp;&nbsp;  <span style=\"font-weight: bold; color: rgb(255, 150, 98);\">5</span> &nbsp;&nbsp;  10 &nbsp;&nbsp; 10 &nbsp;&nbsp;  5 &nbsp;&nbsp; 1<br>  \n",
    "       <span style=\"font-weight: bold; color: rgb(255, 150, 98);\">1</span> &nbsp;&nbsp;  6 &nbsp;&nbsp;  15 &nbsp;&nbsp; 20 &nbsp;&nbsp;  15 &nbsp;&nbsp; 6 &nbsp;&nbsp; 1<br>  \n",
    "</center>\n",
    "\n",
    "\n",
    "Schreiben Sie ein rekursives Programm zur Berechnung der Fibonacci-Zahlen unter Verwendung des Pascal-Dreiecks.\n",
    "\n",
    "\n",
    "\n",
    "#### Übung 5\n",
    "\n",
    "Implementieren Sie in Python eine rekursive Funktion für das Sieb von Eratosthenes.\n",
    "\n",
    "Das Eratosthenes-Sieb ist ein einfacher Algorithmus zum Ermitteln aller Primzahlen bis zu einer bestimmten Ganzzahl. Es wurde vom antiken griechischen Mathematiker Eratosthenes erfunden.\n",
    "Der Algorithmus zum Finden aller Primzahlen, die kleiner oder gleich einer gegebenen ganzen Zahl n sind lautet:\n",
    "\n",
    "1. Erstellen Sie eine Liste von Ganzzahlen von zwei bis n: 2, 3, 4, ..., n\n",
    "2. Beginnen Sie mit einem Zähler i, der auf 2 gesetzt ist, d.h. der ersten Primzahl\n",
    "3. Ausgehend von i + i zählen Sie bis i hoch und entfernen Sie diese Zahlen aus der Liste, d.h. 2 * i, 3 ​​* i, 4 * i usw.\n",
    "4. Finden Sie die erste Zahl der Liste nach i. Dies ist die nächste Primzahl.\n",
    "5. Setzen Sie i auf die im vorherigen Schritt gefundene Zahl\n",
    "6. Wiederholen Sie die Schritte 3 und 4, bis i größer als n ist. (Als Verbesserung: Es reicht aus, zur Quadratwurzel von n zu gehen)\n",
    "7. Alle Zahlen, die noch in der Liste enthalten sind, sind Primzahlen\n",
    "\n",
    "Sie können leicht erkennen, dass wir ineffizient wären, wenn wir diesen Algorithmus strikt verwenden würden, z. Wir werden versuchen, die Vielfachen von 4 zu entfernen, obwohl sie bereits durch die Vielfachen von 2 entfernt wurden. Es reicht also aus, die Vielfachen aller Primzahlen bis zur Quadratwurzel von n zu erzeugen. Wir können diese Mengen rekursiv erstellen.\n",
    "\n",
    "#### Übung 6\n",
    "\n",
    "Schreiben Sie eine rekursive Funktion ```fib_indexfib()```, die den Index einer Zahl in der Fibonacci-Folge zurückgibt, wenn die Zahl ein Element dieser Folge ist, und -1 zurückgibt, wenn die Zahl nicht darin enthalten ist, d.h.\n",
    "\n",
    "$fib(fib_index(n)) == n$\n",
    "\n",
    "#### Übung 7\n",
    "\n",
    "Die Summe der Quadrate zweier aufeinanderfolgender Fibonacci-Zahlen ist ebenfalls eine Fibonacci-Zahl, beispielsweise sind 2 und 3 Elemente der Fibonacci-Sequenz und 2 * 2 + 3 * 3 = 13 entspricht Fib (7). Verwenden Sie die vorherige Funktion, um die Position der Summe der Quadrate zweier aufeinanderfolgender Zahlen in der Fibonacci-Sequenz zu ermitteln.\n",
    "\n",
    "Mathematische Erklärung:\n",
    "\n",
    "Seien a und b zwei aufeinanderfolgende Fibonacci-Zahlen mit a vor b. Die Fibonacci-Sequenz, die mit der Zahl \"a\" beginnt, sieht folgendermaßen aus:\n",
    "\n",
    "<pre>\n",
    "    0              a\n",
    "    1              b\n",
    "    2          a + b\n",
    "    3         a + 2b\n",
    "    4        2a + 3b\n",
    "    5        3a + 5b\n",
    "    6        5a + 8b\n",
    "</pre>\n",
    "    \n",
    "Wir können sehen, dass die Fibonacci-Zahlen als Faktoren für a und b erscheinen. Das n-te Element in dieser Sequenz kann mit der folgenden Formel berechnet werden:\n",
    "\n",
    "$F(n) = Fib(n-1) \\cdot a + Fib(n) \\cdot b$"
   ]
  },
  {
   "cell_type": "markdown",
   "metadata": {},
   "source": [
    "Daraus können wir schließen, dass für eine natürliche Zahl n, n> 1 Folgendes gilt:"
   ]
  },
  {
   "cell_type": "markdown",
   "metadata": {},
   "source": [
    "$Fib(2 \\cdot n + 1) = Fib(n)^2 + Fib(n+1)^2$"
   ]
  },
  {
   "cell_type": "markdown",
   "metadata": {},
   "source": [
    "#### Übung 8\n",
    "\n",
    "Die ** Tribonacci-Zahlen ** sind wie die Fibonacci-Zahlen, aber anstatt mit zwei vorgegebenen Termen  zu beginnen, beginnt die Sequenz mit drei vorbestimmten Termen und jeder Term danach ist die Summe der vorhergehenden drei Termen. Die ersten Tribonacci-Zahlen sind:\n",
    "\n",
    "$ 0, 0, 1, 1, 2, 4, 7, 13, 24, 44, 81, 149, 274, 504, 927, 1705, 3136, 5768, 10609, 19513, 35890, 66012, \\ldots $\n",
    "\n",
    "Die ** Tetranacci-Zahlen ** beginnen mit vier vorgegebenen Termen, wobei jeder Termen  danach die Summe der vorhergehenden vier Termen ist. Die ersten Tetranacci-Zahlen sind:\n",
    "\n",
    "$0, 0, 0, 1, 1, 2, 4, 8, 15, 29, 56, 108, 208, 401, 773, 1490, 2872, 5536, 10671, 20569, 39648, \\dots $\n",
    "\n",
    "Dies wird auf die gleiche Weise für Pentanacci, Hexanacci, Heptanacci, Octanacci usw. fortgesetzt.\n",
    "\n",
    "Schreiben Sie eine Funktion für die Tribonacci und Tetranacci Zahlen.\n",
    "\n",
    "#### Übung 9:\n",
    "\n",
    "Was ist, wenn jemand die Parameter in einer rekursiven Funktion überprüfen möchte? Zum Beispiel die Fakultätsfunktion.\n",
    "Okay, bitte schreiben Sie eine rekursive Version von Fakultät, die die Parameter überprüft.\n",
    "Vielleicht hast du es perfekt gemacht, aber vielleicht auch nicht. Können Sie Ihre Version verbessern? Unnötige Tests loswerden?"
   ]
  },
  {
   "cell_type": "markdown",
   "metadata": {},
   "source": [
    "### Lösungen\n",
    "\n",
    "#### Lösung zu Übung 1\n",
    "\n",
    "Mathematisch können wir es so schreiben:\n",
    "                                                         \n",
    "\n",
    "$ f (1) = 3, $\n",
    "\n",
    "$ f (n + 1) = f (n) + 3 $\n",
    "\n",
    "Eine Python-Funktion kann folgendermaßen geschrieben werden:"
   ]
  },
  {
   "cell_type": "code",
   "execution_count": 17,
   "metadata": {},
   "outputs": [
    {
     "name": "stdout",
     "output_type": "stream",
     "text": [
      "3\n",
      "6\n",
      "9\n",
      "12\n",
      "15\n",
      "18\n",
      "21\n",
      "24\n",
      "27\n"
     ]
    }
   ],
   "source": [
    "def mult3(n):\n",
    "    if n == 1:\n",
    "        return 3\n",
    "    else:\n",
    "        return mult3(n-1) + 3\n",
    "    \n",
    "for i in range(1,10):\n",
    "        print(mult3(i))"
   ]
  },
  {
   "cell_type": "markdown",
   "metadata": {},
   "source": [
    "#### Lösung zu Übung 2"
   ]
  },
  {
   "cell_type": "code",
   "execution_count": 19,
   "metadata": {},
   "outputs": [],
   "source": [
    "def sum_n(n):\n",
    "    if n== 0:\n",
    "        return 0\n",
    "    else:\n",
    "        return n + sum_n(n-1)\n"
   ]
  },
  {
   "cell_type": "markdown",
   "metadata": {},
   "source": [
    "#### Lösung zu Übung 3: Generieren des Pascal-Dreiecks:"
   ]
  },
  {
   "cell_type": "code",
   "execution_count": 20,
   "metadata": {},
   "outputs": [
    {
     "name": "stdout",
     "output_type": "stream",
     "text": [
      "[1, 5, 10, 10, 5, 1]\n"
     ]
    }
   ],
   "source": [
    "def pascal(n):\n",
    "    if n == 1:\n",
    "        return [1]\n",
    "    else:\n",
    "        Linie = [1]\n",
    "        previous_line = pascal(n-1)\n",
    "        for i in range(len(previous_line)-1):\n",
    "            line.append(previous_line[i] + previous_line[i+1])\n",
    "        line += [1]\n",
    "    return line\n",
    "\n",
    "print(pascal(6))"
   ]
  },
  {
   "cell_type": "markdown",
   "metadata": {},
   "source": [
    "Alternativ können wir eine Funktion mit Listenverständnis schreiben:"
   ]
  },
  {
   "cell_type": "code",
   "execution_count": 21,
   "metadata": {},
   "outputs": [
    {
     "name": "stdout",
     "output_type": "stream",
     "text": [
      "[1, 5, 10, 10, 5, 1]\n"
     ]
    }
   ],
   "source": [
    "def pascal(n):\n",
    "    if n == 1:\n",
    "        return [1]\n",
    "    else:\n",
    "        p_line = pascal(n-1)\n",
    "        line = [ p_line[i]+p_line[i+1] for i in range(len(p_line)-1)]\n",
    "        line.insert(0,1)\n",
    "        line.append(1)\n",
    "    return line\n",
    "\n",
    "print(pascal(6))"
   ]
  },
  {
   "cell_type": "markdown",
   "metadata": {},
   "source": [
    "#### Lösung zu Übung 4\n",
    "Produzieren der Fibonacci-Zahlen aus Pascals Dreieck:"
   ]
  },
  {
   "cell_type": "code",
   "execution_count": 22,
   "metadata": {},
   "outputs": [
    {
     "name": "stdout",
     "output_type": "stream",
     "text": [
      "1\n",
      "1\n",
      "2\n",
      "3\n",
      "5\n",
      "8\n",
      "13\n",
      "21\n",
      "34\n"
     ]
    }
   ],
   "source": [
    "def fib_pascal(n,fib_pos):\n",
    "    if n == 1:\n",
    "        line = [1]\n",
    "        fib_sum = 1 if fib_pos == 0 else 0\n",
    "    else:\n",
    "        line = [1]\n",
    "        (previous_line, fib_sum) = fib_pascal(n-1, fib_pos+1)\n",
    "        for i in range(len(previous_line)-1):\n",
    "            line.append(previous_line[i] + previous_line[i+1])\n",
    "        line += [1]\n",
    "        if fib_pos < len(line):\n",
    "            fib_sum += line[fib_pos]\n",
    "    return (line, fib_sum)\n",
    "\n",
    "def fib(n):\n",
    "    return fib_pascal(n,0)[1]\n",
    "\n",
    "# and now printing out the first ten Fibonacci numbers:\n",
    "for i in range(1,10):\n",
    "    print(fib(i))"
   ]
  },
  {
   "cell_type": "markdown",
   "metadata": {},
   "source": [
    "#### Lösung zu Übung 5\n",
    "Das folgende Programm implementiert das Eratosthenes-Sieb iterativ nach den Regeln der Aufgabe. Es werden die ersten 100 Primzahlen ausgedruckt."
   ]
  },
  {
   "cell_type": "code",
   "execution_count": 23,
   "metadata": {},
   "outputs": [
    {
     "name": "stdout",
     "output_type": "stream",
     "text": [
      "[2, 3, 5, 7, 11, 13, 17, 19, 23, 29, 31, 37, 41, 43, 47, 53, 59, 61, 67, 71, 73, 79, 83, 89, 97]\n"
     ]
    }
   ],
   "source": [
    "from math import sqrt\n",
    "def sieve(n):\n",
    "    # returns all primes between 2 and n\n",
    "    primes = list(range(2,n+1))\n",
    "    max = sqrt(n)\n",
    "    num = 2\n",
    "    while num < max:\n",
    "        i = num\n",
    "        while i <= n:\n",
    "            i += num\n",
    "            if i in primes:\n",
    "                primes.remove(i)\n",
    "        for j in primes:\n",
    "            if j > num:\n",
    "                num = j\n",
    "                break\n",
    "    return primes\n",
    "\n",
    "print(sieve(100))"
   ]
  },
  {
   "cell_type": "markdown",
   "metadata": {},
   "source": [
    "In diesem Kapitel unseres Tutorials geht es jedoch um Rekursion und rekursive Funktionen, und wir haben eine rekursive Funktion zur Berechnung der Primzahlen gefordert. Um die folgende Lösung zu verstehen, können Sie unser Kapitel über die [List Comprehension](python3_recursive_functions.php)  zu Rate ziehen:"
   ]
  },
  {
   "cell_type": "code",
   "execution_count": 24,
   "metadata": {},
   "outputs": [
    {
     "name": "stdout",
     "output_type": "stream",
     "text": [
      "[2, 3, 5, 7, 11, 13, 17, 19, 23, 29, 31, 37, 41, 43, 47, 53, 59, 61, 67, 71, 73, 79, 83, 89, 97]\n"
     ]
    }
   ],
   "source": [
    "from math import sqrt\n",
    "\n",
    "def primes(n):\n",
    "    if n == 0:\n",
    "        return []\n",
    "    elif n == 1:\n",
    "        return []\n",
    "    else:\n",
    "        p = primes(int(sqrt(n)))\n",
    "        no_p = [j for i in p for j in range(i*2, n + 1, i)]\n",
    "        p = [x for x in range(2, n + 1) if x not in no_p]\n",
    "        return p\n",
    "\n",
    "\n",
    "print(primes(100))\n"
   ]
  },
  {
   "cell_type": "markdown",
   "metadata": {},
   "source": [
    "#### Lösung von Übung 6\n",
    "\n"
   ]
  },
  {
   "cell_type": "code",
   "execution_count": 19,
   "metadata": {},
   "outputs": [
    {
     "name": "stdout",
     "output_type": "stream",
     "text": [
      " index of a |    a |      b | sum of squares | index \n",
      "=====================================================\n",
      "           0|     0|         1|             1|    1\n",
      "           1|     1|         1|             2|    3\n",
      "           2|     1|         2|             5|    5\n",
      "           3|     2|         3|            13|    7\n",
      "           4|     3|         5|            34|    9\n",
      "           5|     5|         8|            89|   11\n",
      "           6|     8|        13|           233|   13\n",
      "           7|    13|        21|           610|   15\n",
      "           8|    21|        34|          1597|   17\n",
      "           9|    34|        55|          4181|   19\n",
      "          10|    55|        89|         10946|   21\n",
      "          11|    89|       144|         28657|   23\n",
      "          12|   144|       233|         75025|   25\n",
      "          13|   233|       377|        196418|   27\n",
      "          14|   377|       610|        514229|   29\n"
     ]
    }
   ],
   "source": [
    "memo = {0:0, 1:1}\n",
    "def fib(n):\n",
    "    if not n in memo:\n",
    "        memo[n] = fib(n-1) + fib(n-2)\n",
    "    return memo[n]\n",
    "\n",
    "def fib_index(*x):\n",
    "    \"\"\" findet die natürliche Zahl i mit fib (i) == n \"\"\"\n",
    "    if len(x) == 1:\n",
    "      # vom Benutzer gestartet\n",
    "      # Index ab 0 finden\n",
    "        return fib_index(x[0], 0)\n",
    "    else:\n",
    "        n = fib(x[1])\n",
    "        m = x[0]\n",
    "        if  n > m:\n",
    "            return -1\n",
    "        elif n == m:\n",
    "            return x[1]\n",
    "        else:\n",
    "            return fib_index(m, x[1]+1)\n",
    "\n",
    "\n",
    "# Code aus dem vorherigen Beispiel mit den Funktionen fib() und find_index()\n",
    "\n",
    "print(\" index of a |    a |      b | sum of squares | index \")\n",
    "print(\"=====================================================\")\n",
    "for i in range(15):\n",
    "    square = fib(i)**2 + fib(i+1)**2\n",
    "    print(f\"{i:12d}|{fib(i):6d}|{fib(i+1):10d}|{square:14d}|{fib_index(square):5d}\")"
   ]
  },
  {
   "cell_type": "markdown",
   "metadata": {},
   "source": [
    "#### Lösung von Übung 8\n",
    "\n",
    "Wir werden die Klasse ```kFibonacci``` benutzen, die wir in diesem Kapitel definiert haben."
   ]
  },
  {
   "cell_type": "code",
   "execution_count": 26,
   "metadata": {},
   "outputs": [
    {
     "name": "stdout",
     "output_type": "stream",
     "text": [
      "0, 0, 1, 1, 2, 4, 7, 13, 24, 44, 81, 149, 274, 504, 927, 1705, 3136, 5768, 10609, 19513, "
     ]
    }
   ],
   "source": [
    "tribonacci = kFibonacci(3, (0, 0, 1), (1, 1, 1))\n",
    "\n",
    "for i in range(20):\n",
    "    print(tribonacci(i), end=\", \")"
   ]
  },
  {
   "cell_type": "code",
   "execution_count": 27,
   "metadata": {},
   "outputs": [
    {
     "name": "stdout",
     "output_type": "stream",
     "text": [
      "0, 0, 0, 1, 1, 2, 4, 8, 15, 29, 56, 108, 208, 401, 773, 1490, 2872, 5536, 10671, 20569, "
     ]
    }
   ],
   "source": [
    "tetranacci = kFibonacci(4, (0, 0, 0, 1), (1, 1, 1, 1))\n",
    "\n",
    "for i in range(20):\n",
    "    print(tetranacci(i), end=\", \")"
   ]
  },
  {
   "cell_type": "markdown",
   "metadata": {},
   "source": [
    "Wir können sie ganz einfach wie folgt erzeugen:"
   ]
  },
  {
   "cell_type": "code",
   "execution_count": 20,
   "metadata": {},
   "outputs": [
    {
     "name": "stdout",
     "output_type": "stream",
     "text": [
      "tribonacci = kFibonacci(3, (0, 0, 1), (1, 1, 1))\n",
      "tetranacci = kFibonacci(4, (0, 0, 0, 1), (1, 1, 1, 1))\n",
      "pentranacci = kFibonacci(5, (0, 0, 0, 0, 1), (1, 1, 1, 1, 1))\n",
      "hexanacci = kFibonacci(6, (0, 0, 0, 0, 0, 1), (1, 1, 1, 1, 1, 1))\n",
      "heptanacci = kFibonacci(7, (0, 0, 0, 0, 0, 0, 1), (1, 1, 1, 1, 1, 1, 1))\n",
      "octanacci = kFibonacci(8, (0, 0, 0, 0, 0, 0, 0, 1), (1, 1, 1, 1, 1, 1, 1, 1))\n",
      "\n",
      "Ein Test der octanacci-Funktion: \n",
      "0, 0, 0, 0, 0, 0, 0, 1, 1, 2, 4, 8, 16, 32, 64, 128, 255, 509, 1016, 2028, "
     ]
    }
   ],
   "source": [
    "prefixes = ['tribo', 'tetra', 'pentra', 'hexa', 'hepta', 'octa']\n",
    "for k, prefix in zip(range(len(prefixes)), prefixes):\n",
    "    cmd = prefix + \"nacci = kFibonacci(\" \n",
    "    cmd += str(k+3) + \", (\" + \"0, \" * (k+2) + \"1), \"\n",
    "    cmd += \"(\" + \"1, \" * (k+2) + \"1))\"\n",
    "    print(cmd)\n",
    "    exec(cmd)\n",
    "   \n",
    "print(\"\\nEin Test der octanacci-Funktion: \")\n",
    "for i in range(20):\n",
    "    print(octanacci(i), end=\", \")"
   ]
  },
  {
   "cell_type": "markdown",
   "metadata": {},
   "source": [
    "#### Lösung zu Übung 9\n",
    "\n"
   ]
  },
  {
   "cell_type": "code",
   "execution_count": 22,
   "metadata": {},
   "outputs": [],
   "source": [
    "def Fakultät(n):\n",
    "    \"\"\" berechnet die Fakultät von n,\n",
    "         n sollte eine ganze Zahl sein und n <= 0 \"\"\"\n",
    "    if type(n) == int and n >=0:\n",
    "        if n == 0:\n",
    "            return 1\n",
    "        else:\n",
    "            return n * Fakultät(n-1)\n",
    "\n",
    "    else:\n",
    "        raise TypeError(\"n muss eine positive ganze Zahl oder Null sein\")"
   ]
  },
  {
   "cell_type": "markdown",
   "metadata": {},
   "source": [
    "Was halten Sie von dieser Lösung? Wenn man ```Fakultät(10)``` aufruft, erfolgt automatisch ein Test, ob ```n```, also 10, eine positive ganze Zahl ist. In der Funktion rufen wir dann ```n * Fakultät(n-1)``` auf. Wenn der Wert von ```n``` eine positive ganze Zahl ist, dann ist trivialerweise auch ```n-1``` eine ganze Zahl. Dennoch wird unsere Funktion auch in diesem Fall und in allen anderen rekursiven Aufrufen, den Test unnötigerweise durchführen.  Wir werden rekursiv ```Fakultät (9)``` nennen. wir werden noch einmal prüfen, ob ```9``` eine ganze Zahl ist. Was kann es noch sein? Wir hatten zuvor ```10``` überprüft und alles, was wir getan haben, war 1 zu subtrahieren.\n",
    "\n",
    "Wir können dieses Problem überwinden, indem wir eine innere Funktion definieren:"
   ]
  },
  {
   "cell_type": "code",
   "execution_count": 23,
   "metadata": {},
   "outputs": [
    {
     "name": "stdout",
     "output_type": "stream",
     "text": [
      "3628800\n"
     ]
    }
   ],
   "source": [
    "def Fakultät(n):\n",
    "    \"\"\" berechnet die Fakultät von n,\n",
    "         n sollte eine ganze Zahl sein und n <= 0 \"\"\"\n",
    "    def innere_Fakultät(n):\n",
    "        if n == 0:\n",
    "            return 1\n",
    "        else:\n",
    "            return n * innere_Fakultät(n-1)\n",
    "    if type(n) == int and n >=0:\n",
    "        return innere_Fakultät(n)\n",
    "    else:\n",
    "        raise TypeError(\"n sollte ein positives int oder 0 sein\")\n",
    "        \n",
    "print(Fakultät(10))"
   ]
  },
  {
   "cell_type": "markdown",
   "metadata": {},
   "source": [
    "Der Test wird nur beim ersten Anruf mit ```10``` durchgeführt!"
   ]
  },
  {
   "cell_type": "markdown",
   "metadata": {},
   "source": [
    "### Footnotes\n",
    "<sup>1</sup>Stephen Pinker, The Blank Slate, 2002 "
   ]
  }
 ],
 "metadata": {
  "kernelspec": {
   "display_name": "Python 3",
   "language": "python",
   "name": "python3"
  },
  "language_info": {
   "codemirror_mode": {
    "name": "ipython",
    "version": 3
   },
   "file_extension": ".py",
   "mimetype": "text/x-python",
   "name": "python",
   "nbconvert_exporter": "python",
   "pygments_lexer": "ipython3",
   "version": "3.8.5"
  }
 },
 "nbformat": 4,
 "nbformat_minor": 4
}
