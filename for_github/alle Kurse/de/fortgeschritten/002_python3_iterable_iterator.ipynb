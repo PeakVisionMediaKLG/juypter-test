{
 "cells": [
  {
   "cell_type": "markdown",
   "metadata": {},
   "source": [
    "## Iteratoren und Iterablen\n",
    "\n",
    "<img width=150 height=150 class=\"imgright\" src=\"../images/iterator_vs_iterable.webp\" srcset=\"../images/iterator_vs_iterable_300w.webp 300w\" alt=\"Difference between Iterators and Iterables\" />\n",
    "\n",
    "Die Python-Foren und andere Frage-und-Antwort-Websites wie Quora und Stackoverflow sind voller Fragen zu \"Iteratoren\" und \"iterierbar\". Einige möchten wissen, wie sie definiert sind, andere möchten wissen, ob es eine einfache Möglichkeit gibt, zu überprüfen, ob ein Objekt ein Iterator oder ein Iterator ist. Zu diesem Zweck stellen wir eine Funktion zur Verfügung.\n",
    "\n",
    "Wir haben gesehen, dass wir verschiedene Python-Objekte wie Listen, Tupel und Strings durchlaufen oder durchlaufen können. Zum Beispiel:"
   ]
  },
  {
   "cell_type": "code",
   "execution_count": 1,
   "metadata": {},
   "outputs": [
    {
     "name": "stdout",
     "output_type": "stream",
     "text": [
      "Berlin\n",
      "Wien\n",
      "Zürich\n",
      "Python\n",
      "Perl\n",
      "Ruby\n",
      "I\n",
      "t\n",
      "e\n",
      "r\n",
      "a\n",
      "t\n",
      "i\n",
      "o\n",
      "n\n",
      " \n",
      "i\n",
      "s\n",
      "t\n",
      " \n",
      "e\n",
      "i\n",
      "n\n",
      "f\n",
      "a\n",
      "c\n",
      "h\n"
     ]
    }
   ],
   "source": [
    "for stadt in [\"Berlin\", \"Wien\", \"Zürich\"]:\n",
    "    print(stadt)\n",
    "for sprache in (\"Python\", \"Perl\", \"Ruby\"):\n",
    "    print(sprache)\n",
    "for charakter in \"Iteration ist einfach\":\n",
    "    print(charakter)"
   ]
  },
  {
   "cell_type": "markdown",
   "metadata": {},
   "source": [
    "Diese Form der Schleife kann als Iteration angesehen werden. Die Iteration ist nicht auf explizite for-Schleifen beschränkt. Wenn Sie die Funktionssumme aufrufen, - z.b Auf einer Liste von ganzzahligen Werten - führen Sie auch eine Iteration durch.\n",
    "\n",
    "Was ist der Unterschied zwischen einem iterierbaren und einem Iterator?\n",
    "\n",
    "Einerseits sind sie gleich: Sie können mit einer for-Schleife über Iteratoren und Iterablen iterieren. Jeder Iterator ist auch ein Iterator, aber nicht jeder Iterator ist ein Iterator. Z.B. Eine Liste ist iterierbar, aber eine Liste ist kein Iterator! Ein Iterator kann mit der Funktion 'iter' aus einem Iterator erstellt werden. Um dies zu ermöglichen, benötigt die Klasse eines Objekts entweder eine Methode ```__iter__```, die einen Iterator zurückgibt, oder eine Methode ``` __getitem__``` 'mit sequentiellen Indizes, die mit 0 beginnen.\n",
    "\n",
    "Iteratoren sind Objekte mit der Methode ``` __next__```, die beim Aufruf der Funktion 'next ()' verwendet wird.\n",
    "\n",
    "Was passiert also hinter den Kulissen, wenn eine for-Schleife ausgeführt wird? Die for-Anweisung ruft iter () für das Objekt auf (das ein sogenanntes Containerobjekt sein sollte), über das es eine Schleife ausführen soll. Wenn dieser Aufruf erfolgreich ist, gibt der Iterationsaufruf ein Iteratorobjekt zurück, das die Methode ```__next __ ()``` definiert, die nacheinander auf Elemente des Objekts zugreift. Die Methode ```__next __ ()``` löst eine StopIteration-Ausnahme aus, wenn keine weiteren Elemente verfügbar sind. Die for-Schleife wird beendet, sobald eine StopIteration-Ausnahme abgefangen wird. Sie können die Methode ```__next __ ()``` mit der integrierten Funktion next () aufrufen. So funktioniert es:"
   ]
  },
  {
   "cell_type": "code",
   "execution_count": 2,
   "metadata": {},
   "outputs": [
    {
     "name": "stdout",
     "output_type": "stream",
     "text": [
      "<list_iterator object at 0x000001B3A42F4F88>\n",
      "Berlin\n",
      "Wien\n",
      "Zürich\n"
     ]
    }
   ],
   "source": [
    "städte = [\"Berlin\", \"Wien\", \"Zürich\"]\n",
    "iterator_obj = iter(städte)\n",
    "print(iterator_obj)\n",
    "\n",
    "print(next(iterator_obj))\n",
    "print(next(iterator_obj))\n",
    "print(next(iterator_obj))"
   ]
  },
  {
   "cell_type": "markdown",
   "metadata": {},
   "source": [
    "Wenn wir noch einmal 'next (iterator_obj)' aufrufen würden, würde 'StopIteration' zurückgegeben.\n",
    "\n",
    "Die folgende Funktion 'iterable' gibt True zurück, wenn das Objekt 'obj' iterierbar ist, andernfalls False."
   ]
  },
  {
   "cell_type": "code",
   "execution_count": 6,
   "metadata": {},
   "outputs": [
    {
     "name": "stdout",
     "output_type": "stream",
     "text": [
      "34 iterable:  False\n",
      "[4, 5] iterable:  True\n",
      "(4, 5) iterable:  True\n",
      "{'a': 4} iterable:  True\n",
      "dfsdf iterable:  True\n",
      "4.5 iterable:  False\n"
     ]
    }
   ],
   "source": [
    "def iterable(obj):\n",
    "     try:\n",
    "         iter(obj)\n",
    "         return True\n",
    "     except TypeError:\n",
    "         return False \n",
    "        \n",
    "for element in [34, [4, 5], (4, 5), {\"a\":4}, \"dfsdf\", 4.5]:\n",
    "    print(element, \"iterable: \", iterable(element))"
   ]
  },
  {
   "cell_type": "markdown",
   "metadata": {},
   "source": [
    "Wir haben beschrieben, wie ein Iterator funktioniert. Wenn Sie Ihrer Klasse also ein Iteratorverhalten hinzufügen möchten, müssen Sie Ihrer Klasse die Methoden ```__iter__``` und ```__next__``` hinzufügen. Die Methode ```__iter__``` gibt ein Iteratorobjekt zurück. Wenn die Klasse ein ```__next__``` enthält, reicht es aus, dass die ``` __iter__``` Methode self zurückgibt, d. H. Einen Verweis auf sich selbst:"
   ]
  },
  {
   "cell_type": "code",
   "execution_count": 4,
   "metadata": {},
   "outputs": [
    {
     "name": "stdout",
     "output_type": "stream",
     "text": [
      "42\n",
      "978\n",
      "34\n"
     ]
    }
   ],
   "source": [
    "class Reverse:\n",
    "    \"\"\"\n",
    "    Erstellt Iteratoren zum Rückwärtslaufen einer Sequenz.\n",
    "    \"\"\"\n",
    "    \n",
    "    def __init__(self, data):\n",
    "        self.data = data\n",
    "        self.index = len(data)\n",
    "\n",
    "    def __iter__(self):\n",
    "        return self\n",
    "\n",
    "    def __next__(self):\n",
    "        if self.index == 0:\n",
    "            raise StopIteration\n",
    "        self.index = self.index - 1\n",
    "        return self.data[self.index]\n",
    "\n",
    "lst = [34, 978, 42]\n",
    "lst_rückwärts = Reverse(lst)\n",
    "for el in lst_rückwärts:\n",
    "    print(el)"
   ]
  }
 ],
 "metadata": {
  "kernelspec": {
   "display_name": "Python 3",
   "language": "python",
   "name": "python3"
  },
  "language_info": {
   "codemirror_mode": {
    "name": "ipython",
    "version": 3
   },
   "file_extension": ".py",
   "mimetype": "text/x-python",
   "name": "python",
   "nbconvert_exporter": "python",
   "pygments_lexer": "ipython3",
   "version": "3.8.8"
  }
 },
 "nbformat": 4,
 "nbformat_minor": 4
}
