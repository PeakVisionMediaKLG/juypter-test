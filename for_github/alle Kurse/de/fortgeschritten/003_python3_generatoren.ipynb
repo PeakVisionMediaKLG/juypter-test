{
 "cells": [
  {
   "cell_type": "markdown",
   "metadata": {},
   "source": [
    "## Generatoren und Iteratoren\n",
    "\n",
    "\n",
    "### Einführung\n",
    "\n",
    "<img class=\"imgright\" src=\"../images/wind_generators_posterize.webp\" srcset=\"../images/wind_generators_posterize_300w.webp 300w\" alt=\"Wind Power Generators\" />\n",
    "\n",
    "Was ist ein Iterator? Iteratoren sind Objekte, über die  mir einer for-Schleife iteriert werden kann. Wir können auch sagen, dass ein Iterator ein Objekt ist, das Daten Element für Element zurückgibt. Das heißt, sie machen keine Arbeit, bis wir ausdrücklich nach ihrem nächsten Objekt  fragen bzw. dieses anfordern. Sie arbeiten nach einem Prinzip, das in der Informatik als *Lazy-Evaluation* (deutsch: bequeme oder faule Auswertung) bekannt ist. Lazy-Evaluation ist eine Bewertungsstrategie, die die Bewertung eines Ausdrucks verzögert, bis sein Wert wirklich benötigt wird. Aufgrund der \"Lazyness\" von Python-Iteratoren sind sie eine großartige Möglichkeit, mit Unendlichkeit umzugehen, d. h. Iteratoren, die für immer iterieren können. Man findet kaum Python-Programme, die keine Iteratoren benutzen.\n",
    "\n",
    "Iteratoren sind ein grundlegendes Konzept von Python. Sie haben bereits in Ihren ersten Python-Programmen gelernt, dass Sie Containerobjekte wie Listen und Zeichenfolgen durchlaufen können. Zu diesem Zweck erstellt Python eine Iteratorversion der Liste oder Zeichenfolge. In diesem Fall kann ein Iterator als Zeiger auf einen Container angesehen werden, sodass wir alle Elemente dieses Containers durchlaufen können. Ein Iterator ist eine Abstraktion, mit der Programmierende auf alle Elemente eines iterierbaren Objekts (eine Menge, eine Zeichenfolge, eine Liste usw.) zugreifen können, ohne die Datenstruktur dieses Objekts genauer zu kennen.\n",
    "\n",
    "Generatoren sind eine spezielle Art von Funktion, mit der wir Iteratoren implementieren oder generieren können.\n",
    "\n",
    "Meistens werden Iteratoren implizit verwendet, wie in der for-Schleife von Python. Wir zeigen dies im folgenden Beispiel. Wir iterieren über eine Liste, aber man sollte sich nicht irren: Eine Liste ist kein Iterator, kann aber wie ein Iterator verwendet werden:"
   ]
  },
  {
   "cell_type": "code",
   "execution_count": 1,
   "metadata": {},
   "outputs": [
    {
     "name": "stdout",
     "output_type": "stream",
     "text": [
      "ort: Paris\n",
      "ort: Berlin\n",
      "ort: Hamburg\n",
      "ort: Frankfurt\n",
      "ort: London\n",
      "ort: Wien\n",
      "ort: Amsterdam\n",
      "ort: Den Haag\n"
     ]
    }
   ],
   "source": [
    "städte = [\"Paris\", \"Berlin\", \"Hamburg\", \n",
    "          \"Frankfurt\", \"London\", \"Wien\", \n",
    "          \"Amsterdam\", \"Den Haag\"]\n",
    "for ort in städte:\n",
    "    print(\"ort: \" + ort)"
   ]
  },
  {
   "cell_type": "markdown",
   "metadata": {},
   "source": [
    "Wenn eine for-Schleife ausgeführt wird passiert Folgendes: Die Funktion 'iter' wird auf das Objekt angewendet, das dem Schlüsselwort 'in' folgt, z. B. das `o` in dem Ausdruck `for i in o`: Zwei Fälle sind möglich: `o` ist entweder iterierbar oder nicht. Wenn `o` nicht iterierbar ist, wird eine Ausnahme ausgelöst, die besagt, dass der Typ des Objekts nicht iterierbar ist. Wenn `o` dagegen iterierbar ist, gibt der Aufruf `iter(o)` einen Iterator zurück. Nennen wir diesen `iterator_obj`. Die for-Schleife verwendet diesen Iterator, um mit der `next`-Methode über das Objekt `o` zu iterieren. Die for-Schleife stoppt, wenn `next(iterator_obj)` 'exhausted' (erschöpft) ist, was bedeutet, dass eine StopIteration-Ausnahme zurückgegeben wird. Wir demonstrieren dieses Verhalten im folgenden Codebeispiel:"
   ]
  },
  {
   "cell_type": "code",
   "execution_count": 2,
   "metadata": {},
   "outputs": [
    {
     "name": "stdout",
     "output_type": "stream",
     "text": [
      "Erster 'next'-Aufruf:  Anfänger\n",
      "Zweiter'next'-Aufruf:  Fortgeschritten\n"
     ]
    }
   ],
   "source": [
    "kenntnisstand = [\"Anfänger\", \"Fortgeschritten\", \"Experte\"]\n",
    "kenntnisstand_iterator = iter(kenntnisstand)\n",
    "print(\"Erster 'next'-Aufruf: \", next(kenntnisstand_iterator))\n",
    "print(\"Zweiter'next'-Aufruf: \", next(kenntnisstand_iterator))"
   ]
  },
  {
   "cell_type": "markdown",
   "metadata": {},
   "source": [
    "Wir hätten noch zweimal ```next``` aufrufen können, aber danach erhalten wir eine StopIteration-Ausnahme.\n",
    "\n",
    "Wir können dieses Iterationsverhalten der for-Schleife in einer while-Schleife simulieren: Möglicherweise haben Sie bemerkt, dass in unserem Programm etwas fehlt: Wir müssen die Ausnahme \"Stop Iteration\" abfangen:"
   ]
  },
  {
   "cell_type": "code",
   "execution_count": 3,
   "metadata": {},
   "outputs": [
    {
     "name": "stdout",
     "output_type": "stream",
     "text": [
      "Strasbourg\n",
      "Freiburg\n",
      "Stuttgart\n",
      "Wien\n",
      "Hannover\n",
      "Berlin\n",
      "Zurich\n"
     ]
    }
   ],
   "source": [
    "andere_städte = [\"Strasbourg\", \"Freiburg\", \n",
    "                 \"Stuttgart\", \"Wien\", \n",
    "                 \"Hannover\", \"Berlin\", \n",
    "                 \"Zurich\"]\n",
    "\n",
    "stadt_iterator = iter(andere_städte)\n",
    "while stadt_iterator:\n",
    "    try:\n",
    "        stadt = next(stadt_iterator)\n",
    "        print(stadt)\n",
    "    except StopIteration:\n",
    "        break"
   ]
  },
  {
   "cell_type": "markdown",
   "metadata": {},
   "source": [
    "Die sequentiellen Basistypen sowie die Mehrheit der Klassen der Standardbibliothek von Python unterstützen die Iteration. Der Wörterbuch-Datentyp dict unterstützt auch Iteratoren. In diesem Fall läuft die Iteration über die Schlüssel des Wörterbuchs:"
   ]
  },
  {
   "cell_type": "code",
   "execution_count": 4,
   "metadata": {},
   "outputs": [
    {
     "name": "stdout",
     "output_type": "stream",
     "text": [
      "Die Hauptstadt von Frankreich ist Paris\n",
      "Die Hauptstadt von Niederlande ist Amsterdam\n",
      "Die Hauptstadt von Deutschland ist Berlin\n",
      "Die Hauptstadt von Schweiz ist Bern\n",
      "Die Hauptstadt von Österreich ist Wien\n"
     ]
    }
   ],
   "source": [
    "hauptstädte = {\"Frankreich\":\"Paris\", \n",
    "               \"Niederlande\":\"Amsterdam\", \n",
    "               \"Deutschland\":\"Berlin\", \n",
    "               \"Schweiz\":\"Bern\", \n",
    "               \"Österreich\":\"Wien\"}\n",
    "\n",
    "for land in hauptstädte:\n",
    "     print(\"Die Hauptstadt von \" + land + \" ist \" + hauptstädte[land])"
   ]
  },
  {
   "cell_type": "markdown",
   "metadata": {},
   "source": [
    "Off-Topic: Einige Leser sind möglicherweise verwirrt, wenn sie aus unserem Beispiel erfahren, dass die Hauptstadt der Niederlande nicht Den Haag (Den Haag), sondern Amsterdam ist. Amsterdam ist laut Verfassung die Hauptstadt der Niederlande, obwohl sich das niederländische Parlament und die niederländische Regierung in Den Haag befinden, ebenso wie der Oberste Gerichtshof und der Staatsrat."
   ]
  },
  {
   "cell_type": "markdown",
   "metadata": {},
   "source": [
    "### Iterator implementieren\n",
    "\n",
    "<a name=\"ZyklusClass\"></a>\n",
    "Eine Möglichkeit, Iteratoren in Python zu erstellen, besteht darin, eine Klasse zu definieren, die die Methoden ```__iter__``` und ```__next__``` implementiert. Wir zeigen dies, indem wir einen Klassenzyklus implementieren, mit dem ein iterierbares Objekt für immer durchlaufen werden kann. Mit anderen Worten, eine Instanz dieser Klasse gibt das Element einer Iterable zurück, bis es erschöpft ist. Dann wird die Sequenz auf unbestimmte Zeit wiederholt."
   ]
  },
  {
   "cell_type": "code",
   "execution_count": 21,
   "metadata": {},
   "outputs": [
    {
     "name": "stdout",
     "output_type": "stream",
     "text": [
      "a, b, c, a, b, c, a, b, c, a, "
     ]
    }
   ],
   "source": [
    "class Zyklus(object):\n",
    "    counter=0\n",
    "    def __init__(self, iterable):\n",
    "        self.iterable = iterable\n",
    "        self.iter_obj = iter(iterable)\n",
    "\n",
    "    def __iter__(self):\n",
    "        return self\n",
    "\n",
    "    def __next__(self):\n",
    "        while True:\n",
    "            Zyklus.counter+=1\n",
    "            #print(Zyklus.counter) um zu zeigen, dass jeweils eine leere Iteration läuft\n",
    "            try:\n",
    "                next_obj = next(self.iter_obj)\n",
    "                return next_obj\n",
    "            except StopIteration:\n",
    "                self.iter_obj = iter(self.iterable)\n",
    "\n",
    "      \n",
    "x = Zyklus(\"abc\")\n",
    "\n",
    "for i in range(10):\n",
    "    print(next(x), end=\", \")"
   ]
  },
  {
   "cell_type": "markdown",
   "metadata": {},
   "source": [
    "Auch wenn der objektorientierte Ansatz zum Erstellen eines Iterators sehr interessant sein mag, ist dies nicht die pythonische Methode.\n",
    "\n",
    "\n",
    "Der übliche und einfachste Weg, einen Iterator in Python zu erstellen, besteht in der Verwendung einer Generatorfunktion. Wie dies funktioniert zeigen wir um Folgenden."
   ]
  },
  {
   "cell_type": "markdown",
   "metadata": {},
   "source": [
    "### Generatoren\n",
    "An der Oberfläche sehen Generatoren in Python wie Funktionen aus, aber es gibt sowohl einen syntaktischen als auch einen semantischen Unterschied. Ein Unterscheidungsmerkmal sind die *`yield`* -Anweisungen. Die `yield`-Anweisung verwandelt eine Funktiondefinition in einen Generator. Ein Generator ist eine Funktion, die ein Generatorobjekt zurückgibt. Dieses Generatorobjekt kann als eine Funktion angesehen werden, die anstelle eines einzelnen Objekts eine Folge von Ergebnissen erzeugt. Diese Folge von Werten wird durch Iteration darüber erzeugt, z. B. mit einer for-Schleife. Die Werte, auf denen iteriert werden kann, werden mithilfe der `yield`-Anweisung erstellt. Der von der `yield`-Anweisung erstellte Wert ist der Wert, der auf das `yield`-Schlüsselwort folgt. Die Ausführung des Codes wird beendet, wenn eine `yield`-Anweisung erreicht ist. Der Wert des Ausdrucks, der hinter `yield` folgt, wird zurückgegeben. Die Ausführung des Generators wird jetzt unterbrochen. Sobald `next` erneut für das Generatorobjekt aufgerufen wird, nimmt die Generatorfunktion die Ausführung direkt nach der `yield`-Anweisung im Code wieder auf, in dem der letzte Aufruf erfolgt. Die Ausführung wird in dem Zustand fortgesetzt, in dem der Generator nach letzten `yield` verlassen wurde. Mit anderen Worten, alle lokalen Variablen sind noch vorhanden, da sie zwischen den Aufrufen automatisch gespeichert werden. Dies ist ein grundlegender Unterschied zu Funktionen: Funktionen beginnen ihre Ausführung immer am Anfang des Funktionskörpers, unabhängig davon, wo sie in früheren Aufrufen verlassen worden sind. Sie haben keine statischen oder dauerhaften Werte. Der Code eines Generators kann mehr als eine `yield`-Anweisung enthalten, oder die `yield`-Anweisung befindet sich möglicherweise im Hauptteil einer Schleife. Wenn der Code eines Generators eine return-Anweisung enthält, wird die Ausführung mit einem StopIteration-Ausnahmefehler beendet, wenn dieser Code vom Python-Interpreter ausgeführt wird. Das Wort \"Generator\" wird manchmal mehrdeutig verwendet, um sowohl die Generatorfunktion selbst als auch die Objekte zu bezeichnen, die von einem Generator erzeugt (\"generiert\") werden.\n",
    "\n",
    "\n",
    "Alles, was mit einem Generator gemacht werden kann, kann auch mit einem klassenbasierten Iterator implementiert werden. Der entscheidende Vorteil von Generatoren besteht jedoch darin, dass die Methoden ```__iter__()``` und `next()` automatisch erstellt werden.\n",
    "Generatoren bieten eine geeignete Möglichkeit, Daten zu erzeugen, die riesig oder sogar unendlich sind.\n",
    "\n",
    "Das Folgende ist ein einfaches Beispiel für einen Generator, der verschiedene Städtenamen erzeugen kann.\n",
    "\n",
    "Mit diesem Generator kann ein Generatorobjekt erstellt werden, das nacheinander die Städtenamen der `yield`-Anweisungen generiert."
   ]
  },
  {
   "cell_type": "code",
   "execution_count": 6,
   "metadata": {},
   "outputs": [],
   "source": [
    "def stadt_generator():\n",
    "    yield(\"Hamburg\")\n",
    "    yield(\"Konstanz\")\n",
    "    yield(\"Berlin\")\n",
    "    yield(\"Zürich\")\n",
    "    yield(\"Schaffhausen\")\n",
    "    yield(\"Stuttgart\")  "
   ]
  },
  {
   "cell_type": "markdown",
   "metadata": {},
   "source": [
    "Wir haben einen Iterator erstellt, indem wir stadt_generator() aufgerufen haben:"
   ]
  },
  {
   "cell_type": "code",
   "execution_count": 7,
   "metadata": {},
   "outputs": [],
   "source": [
    "stadt = stadt_generator()"
   ]
  },
  {
   "cell_type": "code",
   "execution_count": 8,
   "metadata": {},
   "outputs": [
    {
     "name": "stdout",
     "output_type": "stream",
     "text": [
      "Hamburg\n"
     ]
    }
   ],
   "source": [
    "print(next(stadt))"
   ]
  },
  {
   "cell_type": "code",
   "execution_count": 9,
   "metadata": {},
   "outputs": [
    {
     "name": "stdout",
     "output_type": "stream",
     "text": [
      "Konstanz\n"
     ]
    }
   ],
   "source": [
    "print(next(stadt))"
   ]
  },
  {
   "cell_type": "code",
   "execution_count": 10,
   "metadata": {},
   "outputs": [
    {
     "name": "stdout",
     "output_type": "stream",
     "text": [
      "Berlin\n"
     ]
    }
   ],
   "source": [
    "print(next(stadt))"
   ]
  },
  {
   "cell_type": "code",
   "execution_count": 11,
   "metadata": {},
   "outputs": [
    {
     "name": "stdout",
     "output_type": "stream",
     "text": [
      "Zürich\n"
     ]
    }
   ],
   "source": [
    "print(next(stadt))"
   ]
  },
  {
   "cell_type": "code",
   "execution_count": 12,
   "metadata": {},
   "outputs": [
    {
     "name": "stdout",
     "output_type": "stream",
     "text": [
      "Schaffhausen\n"
     ]
    }
   ],
   "source": [
    "print(next(stadt))"
   ]
  },
  {
   "cell_type": "code",
   "execution_count": 13,
   "metadata": {},
   "outputs": [
    {
     "name": "stdout",
     "output_type": "stream",
     "text": [
      "Stuttgart\n"
     ]
    }
   ],
   "source": [
    "print(next(stadt))"
   ]
  },
  {
   "cell_type": "code",
   "execution_count": 14,
   "metadata": {},
   "outputs": [
    {
     "ename": "StopIteration",
     "evalue": "",
     "output_type": "error",
     "traceback": [
      "\u001b[0;31m---------------------------------------------------------------------------\u001b[0m",
      "\u001b[0;31mStopIteration\u001b[0m                             Traceback (most recent call last)",
      "\u001b[0;32m<ipython-input-14-cd845bb34848>\u001b[0m in \u001b[0;36m<module>\u001b[0;34m\u001b[0m\n\u001b[0;32m----> 1\u001b[0;31m \u001b[0mprint\u001b[0m\u001b[0;34m(\u001b[0m\u001b[0mnext\u001b[0m\u001b[0;34m(\u001b[0m\u001b[0mstadt\u001b[0m\u001b[0;34m)\u001b[0m\u001b[0;34m)\u001b[0m\u001b[0;34m\u001b[0m\u001b[0;34m\u001b[0m\u001b[0m\n\u001b[0m",
      "\u001b[0;31mStopIteration\u001b[0m: "
     ]
    }
   ],
   "source": [
    "print(next(stadt))"
   ]
  },
  {
   "cell_type": "markdown",
   "metadata": {},
   "source": [
    "Wie wir sehen können, haben wir in der interaktiven Shell einen Iterator `stadt` generiert. Jeder Aufruf der Methode `next(stadt)` gibt eine andere Stadt zurück. Nachdem die letzte Stadt, d. h. Stuttgart, erstellt wurde, löst ein weiterer Aufruf von `next(stadt)` eine Ausnahme aus, die besagt, dass die Iteration gestoppt wurde, d. h. `StopIteration`.\n",
    "\"Können wir einen Reset an einen Iterator senden?\" ist eine häufig gestellte Frage, damit die Iteration von vorne beginnen kann. Es gibt kein Reset, aber es ist möglich, einneues Generatorobjekt zu erstellen, indem man erneut die Anweisung `stadt = city_generator()` ausführen lässt.\n",
    "Obwohl die `yield`-Anweisung auf den ersten Blick wie die Return-Anweisung einer Funktion aussieht, können wir in diesem Beispiel sehen, dass es einen großen Unterschied gibt. Wenn wir im vorherigen Beispiel eine return-Anweisung anstelle eines `yield` hätten, wäre dies eine Funktion. Aber diese Funktion würde immer nur die erste STadt, also \"Hamburg\" zurückliefern und niemals eine der anderen Städte, d. h. \"Konstanz\", \"Berlin\", \"Zürich\", \"Schaffhausen\" und \"Stuttgart\"\n",
    "\n",
    "### Funktionsweise\n",
    "\n",
    "Wie wir in der Einleitung dieses Kapitels ausgeführt haben, bieten die Generatoren eine komfortable Möglichkeit zum Generieren von Iteratoren. Deshalb werden sie als Generatoren bezeichnet.\n",
    "\n",
    "Arbeitsweise:\n",
    "\n",
    "- Ein Generator wird aufgerufen wie eine Funktion. Sein Rückgabewert ist ein Iterator, d. h. ein Generatorobjekt. Der Code des Generators wird zu diesem Zeitpunkt nicht ausgeführt.\n",
    "- Der Iterator kann durch Aufrufen der `next`-Methode aufgerufen werden. Beim ersten Aufruf wird mit der ersten Codezeile des Iteratorobjektes begonnen. Der Code wird solange ausgeführt, bis eine `yield`-Anweisung erreicht wird.\n",
    "- **`yield`** gibt den Wert des Ausdrucks zurück, der dem Schlüsselwort `yield` folgt. Beim nächsten Aufruf wird die Ausführung mit der Anweisung fortgesetzt, die auf die `yield`-Anweisung folgt, und die Variablen haben dieselben Werte wie beim vorherigen Aufruf.\n",
    "- Der Iterator ist beendet, wenn der Generatorkörper vollständig durchgearbeitet worden ist oder wenn der Programmablauf auf eine return-Anweisung ohne Wert stößt.\n",
    "\n",
    "Wir werden dieses Verhalten im folgenden Beispiel veranschaulichen. Der Generator `count` erstellt einen Iterator, der eine Folge von Werten erstellt, indem er mit dem Startwert `firstval` zu zählen beginnt und den Wert von `step` als Inkrement für die Zählung verwendet:"
   ]
  },
  {
   "cell_type": "code",
   "execution_count": 2,
   "metadata": {},
   "outputs": [
    {
     "name": "stdout",
     "output_type": "stream",
     "text": [
      "0, 1, 2, 3, 4, 5, 6, 7, 8, 9, \n",
      "Neuer Zähler:\n",
      "2.10, 2.40, 2.70, 3.00, 3.30, 3.60, 3.90, 4.20, 4.50, 4.80, "
     ]
    }
   ],
   "source": [
    "def zahl(firstval=0, step=1):\n",
    "    x = firstval\n",
    "    while True:\n",
    "        yield x\n",
    "        x += step\n",
    "        \n",
    "zähler = zahl() # count beginnt mit 0\n",
    "for i in range(10):\n",
    "    print(next(zähler), end=\", \")\n",
    "\n",
    "start_wert = 2.1\n",
    "stop_wert = 0.3\n",
    "print(\"\\nNeuer Zähler:\")\n",
    "zähler = zahl(start_wert, stop_wert)\n",
    "for i in range(10):\n",
    "    neuer_wert = next(zähler)\n",
    "    print(f\"{neuer_wert:2.2f}\", end=\", \")\n",
    " "
   ]
  },
  {
   "cell_type": "markdown",
   "metadata": {},
   "source": [
    "**Fibonacci-Sequenz als Generator**:\n",
    "\n",
    "Die Fibonacci-Sequenz ist nach Leonardo von Pisa benannt, der als Fibonacci bekannt war (eine Kontraktion von Filius Bonacci, \"Sohn von Bonaccio\"). In seinem Lehrbuch Liber Abaci, das im Jahr 1202 erschien, hatte er eine Aufgabe, die sich mit Kaninchen und ihrer Fortpflanzung beschäftigt: Es geht los einem neugeborenen Kaninchenpaar, d. h. mit einem Männchen und einem Weibchen. Es dauert einen Monat, bis sie sich paaren können. Am Ende des zweiten Monats bringt das Weibchen ein neues Kaninchenpaar zur Welt. Nehmen wir nun an, dass jedes weibliche Kaninchen jeden Monat nach dem Ende des ersten Monats ein weiteres Kaninchenpaar zur Welt bringt. Wir müssen erwähnen, dass Fibonaccis Kaninchen niemals sterben. Nun kann man sich fragen, wie groß die Population nach einer bestimmten Anzahl von Monaten sein wird.\n",
    "\n",
    "Dies erzeugt eine Folge von Zahlen: 0, 1, 1, 2, 3, 5, 8, 13\n",
    "\n",
    "Diese Sequenz kann in mathematischen Begriffen wie folgt definiert werden:\n",
    "\n",
    "$F_n = F_{n - 1} + F_{n - 2}$\n",
    "mit den Startwerten:\n",
    "$F_0 = 0$ and $F_1 = 1$"
   ]
  },
  {
   "cell_type": "code",
   "execution_count": 16,
   "metadata": {},
   "outputs": [
    {
     "name": "stdout",
     "output_type": "stream",
     "text": [
      "0  1  1  2  3  5  \n"
     ]
    }
   ],
   "source": [
    "def fibonacci(n):\n",
    "    \"\"\" Ein Generator zum Erstellen der Fibonacci-Zahlen\"\"\"\n",
    "    a, b, zähler = 0, 1, 0\n",
    "    while True:\n",
    "        if (zähler > n): \n",
    "            return\n",
    "        yield a\n",
    "        a, b = b, a + b\n",
    "        zähler += 1\n",
    "f = fibonacci(5)\n",
    "for x in f:\n",
    "    print(x, \" \", end=\"\") # \n",
    "print()"
   ]
  },
  {
   "cell_type": "markdown",
   "metadata": {},
   "source": [
    "Der obige Generator kann verwendet werden, um die ersten n durch Leerzeichen getrennten Fibonacci-Zahlen oder bessere (n + 1) Zahlen zu erstellen, da auch die 0. Zahl enthalten ist.\n",
    "Im nächsten Beispiel stellen wir eine Version vor, die einen endlosen Iterator zurückgeben kann. Wir müssen bei der Verwendung dieses Iterators darauf achten, dass ein Beendigungskriterium verwendet wird:"
   ]
  },
  {
   "cell_type": "code",
   "execution_count": 17,
   "metadata": {},
   "outputs": [
    {
     "name": "stdout",
     "output_type": "stream",
     "text": [
      "0  1  1  2  3  5  8  13  21  34  55  \n"
     ]
    }
   ],
   "source": [
    "def fibonacci():\n",
    "    \"\"\"Erzeugt bei Bedarf eine unendliche Folge von Fibonacci-Zahlen\"\"\"\n",
    "    a, b = 0, 1\n",
    "    while True:\n",
    "        yield a\n",
    "        a, b = b, a + b\n",
    "\n",
    "f = fibonacci()\n",
    "\n",
    "zähler = 0\n",
    "for x in f:\n",
    "    print(x, \" \", end=\"\")\n",
    "    zähler += 1\n",
    "    if (zähler > 10): \n",
    "        break \n",
    "print()"
   ]
  },
  {
   "cell_type": "markdown",
   "metadata": {},
   "source": [
    "### Verwenden einer 'Return'-Anweisung in einem Generator\n",
    "Seit Python 3.3 können Generatoren auch return-Anweisungen verwenden, aber ein Generator benötigt immer noch mindestens eine `yield`-Anweisung, um ein Generator zu sein! Eine `return`-Anweisung in einem Generator entspricht einer `StopIteration`\n",
    "\n",
    "Schauen wir uns einen Generator an, in dem wir `StopIteration` explizit auslösen:"
   ]
  },
  {
   "cell_type": "code",
   "execution_count": 18,
   "metadata": {},
   "outputs": [],
   "source": [
    "def gen():\n",
    "    yield 1\n",
    "    raise StopIteration(42)\n",
    "    yield 2"
   ]
  },
  {
   "cell_type": "code",
   "execution_count": 19,
   "metadata": {},
   "outputs": [],
   "source": [
    "g = gen()"
   ]
  },
  {
   "cell_type": "code",
   "execution_count": 20,
   "metadata": {},
   "outputs": [
    {
     "data": {
      "text/plain": [
       "1"
      ]
     },
     "execution_count": 20,
     "metadata": {},
     "output_type": "execute_result"
    }
   ],
   "source": [
    "next(g)"
   ]
  },
  {
   "cell_type": "code",
   "execution_count": 21,
   "metadata": {},
   "outputs": [
    {
     "ename": "RuntimeError",
     "evalue": "generator raised StopIteration",
     "output_type": "error",
     "traceback": [
      "\u001b[0;31m---------------------------------------------------------------------------\u001b[0m",
      "\u001b[0;31mStopIteration\u001b[0m                             Traceback (most recent call last)",
      "\u001b[0;32m<ipython-input-18-6735830131e8>\u001b[0m in \u001b[0;36mgen\u001b[0;34m()\u001b[0m\n\u001b[1;32m      2\u001b[0m     \u001b[0;32myield\u001b[0m \u001b[0;36m1\u001b[0m\u001b[0;34m\u001b[0m\u001b[0;34m\u001b[0m\u001b[0m\n\u001b[0;32m----> 3\u001b[0;31m     \u001b[0;32mraise\u001b[0m \u001b[0mStopIteration\u001b[0m\u001b[0;34m(\u001b[0m\u001b[0;36m42\u001b[0m\u001b[0;34m)\u001b[0m\u001b[0;34m\u001b[0m\u001b[0;34m\u001b[0m\u001b[0m\n\u001b[0m\u001b[1;32m      4\u001b[0m     \u001b[0;32myield\u001b[0m \u001b[0;36m2\u001b[0m\u001b[0;34m\u001b[0m\u001b[0;34m\u001b[0m\u001b[0m\n",
      "\u001b[0;31mStopIteration\u001b[0m: 42",
      "\nThe above exception was the direct cause of the following exception:\n",
      "\u001b[0;31mRuntimeError\u001b[0m                              Traceback (most recent call last)",
      "\u001b[0;32m<ipython-input-21-e734f8aca5ac>\u001b[0m in \u001b[0;36m<module>\u001b[0;34m\u001b[0m\n\u001b[0;32m----> 1\u001b[0;31m \u001b[0mnext\u001b[0m\u001b[0;34m(\u001b[0m\u001b[0mg\u001b[0m\u001b[0;34m)\u001b[0m\u001b[0;34m\u001b[0m\u001b[0;34m\u001b[0m\u001b[0m\n\u001b[0m",
      "\u001b[0;31mRuntimeError\u001b[0m: generator raised StopIteration"
     ]
    }
   ],
   "source": [
    "next(g)"
   ]
  },
  {
   "cell_type": "markdown",
   "metadata": {},
   "source": [
    "Wir zeigen jetzt, dass die `return`-Anweisung nahezu dem expliziten Auslösen der \"StopIteration\"-Ausnahme entspricht."
   ]
  },
  {
   "cell_type": "code",
   "execution_count": 22,
   "metadata": {},
   "outputs": [],
   "source": [
    "def gen():\n",
    "    yield 1\n",
    "    return 42\n",
    "    yield 2"
   ]
  },
  {
   "cell_type": "code",
   "execution_count": 23,
   "metadata": {},
   "outputs": [
    {
     "data": {
      "text/plain": [
       "1"
      ]
     },
     "execution_count": 23,
     "metadata": {},
     "output_type": "execute_result"
    }
   ],
   "source": [
    "g = gen()\n",
    "next(g)"
   ]
  },
  {
   "cell_type": "code",
   "execution_count": 24,
   "metadata": {},
   "outputs": [
    {
     "ename": "StopIteration",
     "evalue": "42",
     "output_type": "error",
     "traceback": [
      "\u001b[0;31m---------------------------------------------------------------------------\u001b[0m",
      "\u001b[0;31mStopIteration\u001b[0m                             Traceback (most recent call last)",
      "\u001b[0;32m<ipython-input-24-e734f8aca5ac>\u001b[0m in \u001b[0;36m<module>\u001b[0;34m\u001b[0m\n\u001b[0;32m----> 1\u001b[0;31m \u001b[0mnext\u001b[0m\u001b[0;34m(\u001b[0m\u001b[0mg\u001b[0m\u001b[0;34m)\u001b[0m\u001b[0;34m\u001b[0m\u001b[0;34m\u001b[0m\u001b[0m\n\u001b[0m",
      "\u001b[0;31mStopIteration\u001b[0m: 42"
     ]
    }
   ],
   "source": [
    "next(g)"
   ]
  },
  {
   "cell_type": "markdown",
   "metadata": {},
   "source": [
    "### send Methode / Coroutinen\n",
    "\n",
    "Generatoren können nicht nur Objekte mittels yield an den Aufrufenden zurückliefern, sondern sie können auch Objekte empfangen. Das Senden einer Nachricht, d. h. eines Objekts, an den Generator kann mittels der `send`-Funktion realisiert werden. Beachten Sie, dass `send` sowohl einen Wert an den Generator sendet als auch den vom Generator mittels `yield` gelieferten Wert zurückgibt. Wir werden dieses Verhalten im folgenden einfachen Beispiel eines Generators  demonstrieren:"
   ]
  },
  {
   "cell_type": "code",
   "execution_count": 25,
   "metadata": {},
   "outputs": [
    {
     "data": {
      "text/plain": [
       "<generator object einfache_koroutine at 0x7fe12d0fa270>"
      ]
     },
     "execution_count": 25,
     "metadata": {},
     "output_type": "execute_result"
    }
   ],
   "source": [
    "def einfache_koroutine():\n",
    "    print(\"Koroutine wurde gestartet!\")\n",
    "    while True:\n",
    "        x = yield \"foo\"\n",
    "        print(\"Koroutine empfing diesen Wert: \", x)\n",
    "    \n",
    "    \n",
    "cr = einfache_koroutine()\n",
    "cr"
   ]
  },
  {
   "cell_type": "code",
   "execution_count": 26,
   "metadata": {},
   "outputs": [
    {
     "name": "stdout",
     "output_type": "stream",
     "text": [
      "Koroutine wurde gestartet!\n"
     ]
    },
    {
     "data": {
      "text/plain": [
       "'foo'"
      ]
     },
     "execution_count": 26,
     "metadata": {},
     "output_type": "execute_result"
    }
   ],
   "source": [
    "next(cr)"
   ]
  },
  {
   "cell_type": "code",
   "execution_count": 27,
   "metadata": {},
   "outputs": [
    {
     "name": "stdout",
     "output_type": "stream",
     "text": [
      "Koroutine empfing diesen Wert:  Hi\n",
      "'send' gibt zurück:  foo\n"
     ]
    }
   ],
   "source": [
    "ret_wert = cr.send(\"Hi\")\n",
    "print(\"'send' gibt zurück: \", ret_wert)"
   ]
  },
  {
   "cell_type": "markdown",
   "metadata": {},
   "source": [
    "Wir mussten zuerst den Generator einmal mittels `next` starten, weil der Generator gestartet werden muss. Die Verwendung von `send` an einen Generator, der noch nicht gestartet wurde, führt zu einer Ausnahme.\n"
   ]
  },
  {
   "cell_type": "markdown",
   "metadata": {},
   "source": [
    "Um die `send`-Methode verwenden zu können, muss bereits ein `yield` erfolgt sein, und dieses `yield` muss auf der rechten Seite einer Zuweisung stehen. Erfolg dann ein `next` oder `send` wird ein Wert an die\n",
    "Variable auf der linken Seite gesenden.  Ein `next`-Anruf sendet und empfängt ebenfalls. Von `next` wird ein None-Objekt gesendet. Die von \"next\" und \"send\" gesendeten Werte werden einer Variablen im Generator zugewiesen: Diese Variable wird im folgenden Beispiel \"new_counter_val\" genannt.\n",
    "\n",
    "Im folgenden Beispiel wird die Anzahl der Generatoren aus dem vorherigen Unterkapitel durch Hinzufügen einer Funktion \"Senden\" geändert."
   ]
  },
  {
   "cell_type": "code",
   "execution_count": 28,
   "metadata": {},
   "outputs": [
    {
     "name": "stdout",
     "output_type": "stream",
     "text": [
      "2.10, 2.40, 2.70, 3.00, 3.30, 3.60, 3.90, 4.20, 4.50, 4.80, \n",
      "Setzen Sie den aktuellen Zählwert auf einen anderen Wert:\n",
      "100.80, 101.10, 101.40, 101.70, 102.00, 102.30, 102.60, 102.90, 103.20, 103.50, "
     ]
    }
   ],
   "source": [
    "def zähle(erstewert=0, schritt=1):\n",
    "    zähler = erstewert\n",
    "    while True:\n",
    "        neu_zähler_wert = yield zähler\n",
    "        if neu_zähler_wert is None:\n",
    "            zähler += schritt\n",
    "        else:\n",
    "            zähler = neu_zähler_wert\n",
    "            \n",
    "start_wert = 2.1\n",
    "stop_wert = 0.3\n",
    "zähler = zähle(start_wert, stop_wert) \n",
    "for i in range(10):\n",
    "    neu_wert = next(zähler)\n",
    "    print(f\"{neu_wert:2.2f}\", end=\", \")\n",
    "print() \n",
    "print(\"Setzen Sie den aktuellen Zählwert auf einen anderen Wert:\")\n",
    "zähler.send(100.5)\n",
    "for i in range(10):\n",
    "    neu_wert = next(zähler)\n",
    "    print(f\"{neu_wert:2.2f}\", end=\", \")"
   ]
  },
  {
   "cell_type": "markdown",
   "metadata": {},
   "source": [
    "### Die Throw Methode\n",
    "\n",
    "Die `throw`-Methode löst an der Stelle, an der der Generator angehalten wurde, eine Ausnahme aus und gibt den nächsten vom Generator mittels `yield` ausgegebenen Wert zurück. Es löst StopIteration aus, wenn der Generator beendet wird, ohne auf ein `yield` zu stoßen. Der Generator muss die übergebene Ausnahme abfangen, andernfalls wird die Ausnahme an den Aufrufer weitergegeben.\n",
    "\n",
    "Der Iterator aus unserem vorherigen Beispiel liefert unaufhörlich die Elemente der sequentiellen Daten, aber wir haben keine Informationen über den Index oder den Status der Variablen von `count`. Wir können diese Informationen erhalten, indem wir eine Ausnahme mit der `throw`-Methode auslösen. Wir fangen diese Ausnahme im Generator ab und drucken die Werte der Variablen von `count`:"
   ]
  },
  {
   "cell_type": "code",
   "execution_count": 29,
   "metadata": {},
   "outputs": [],
   "source": [
    "def zähle(erstewert=0, schritt=1):\n",
    "    zähler = erstewert\n",
    "    while True:\n",
    "        try:\n",
    "            neu_zähler_wert = yield zähler\n",
    "            if neu_zähler_wert is None:\n",
    "                zähler += schritt\n",
    "            else:\n",
    "                zähler = neu_zähler_wert\n",
    "        except Exception:\n",
    "            yield (erstewert, schritt, zähler)"
   ]
  },
  {
   "cell_type": "markdown",
   "metadata": {},
   "source": [
    "Im folgenden Codeblock zeigen wir, wie dieser Generator verwendet werden kann:"
   ]
  },
  {
   "cell_type": "code",
   "execution_count": 30,
   "metadata": {},
   "outputs": [
    {
     "name": "stdout",
     "output_type": "stream",
     "text": [
      "0\n",
      "1\n",
      "2\n",
      "Schauen wir uns den Zustand des Iterators an:\n",
      "(0, 1, 2)\n",
      "Nun können wir fortfahren:\n",
      "2\n",
      "3\n",
      "4\n"
     ]
    }
   ],
   "source": [
    "c = zähle()\n",
    "for i in range(3):\n",
    "    print(next(c))\n",
    "print(\"Schauen wir uns den Zustand des Iterators an:\")\n",
    "i = c.throw(Exception)\n",
    "print(i)\n",
    "print(\"Nun können wir fortfahren:\")\n",
    "for i in range(3):\n",
    "    print(next(c))"
   ]
  },
  {
   "cell_type": "markdown",
   "metadata": {},
   "source": [
    "Wir können das vorherige Beispiel verbessern, indem wir unsere eigene Ausnahmeklasse StateOfGenerator definieren:"
   ]
  },
  {
   "cell_type": "code",
   "execution_count": 18,
   "metadata": {},
   "outputs": [],
   "source": [
    "class GeneratorStatus(Exception):\n",
    "     def __init__(self, nachricht=None):\n",
    "        self.nachricht = nachricht\n",
    "        print(self.nachricht)\n",
    "def zahl(erstewert=0, schritt=1):\n",
    "    zähler = erstewert\n",
    "    while True:\n",
    "        try:\n",
    "            neu_zähler_wert = yield zähler\n",
    "            if neu_zähler_wert is None:\n",
    "                zähler += schritt\n",
    "            else:\n",
    "                zähler = neu_zähler_wert\n",
    "        except GeneratorStatus:                       \n",
    "            yield (erstewert, schritt, zähler)"
   ]
  },
  {
   "cell_type": "markdown",
   "metadata": {},
   "source": [
    "Wir können den vorherigen Generator folgendermaßen verwenden:"
   ]
  },
  {
   "cell_type": "code",
   "execution_count": 20,
   "metadata": {},
   "outputs": [
    {
     "name": "stdout",
     "output_type": "stream",
     "text": [
      "0\n",
      "1\n",
      "2\n",
      "Lassen Sie uns sehen, wie der Zustand des Iterators ist:\n",
      "Eigene Fehlermeldung\n",
      "(0, 1, 2)\n",
      "Jetzt können wir fortfahren:\n",
      "2\n",
      "3\n",
      "4\n"
     ]
    }
   ],
   "source": [
    "c = zahl()\n",
    "for i in range(3):\n",
    "    print(next(c))\n",
    "print(\"Lassen Sie uns sehen, wie der Zustand des Iterators ist:\")\n",
    "i = c.throw(GeneratorStatus(\"Eigene Fehlermeldung\"))\n",
    "print(i)\n",
    "print(\"Jetzt können wir fortfahren:\")\n",
    "for i in range(3):\n",
    "    print(next(c))"
   ]
  },
  {
   "cell_type": "markdown",
   "metadata": {},
   "source": [
    "### Yield from \n",
    "\"Yield from\" ist seit Python 3.3 verfügbar!\n",
    "Die `yield from <expr>`-Anweisung kann im Körper eines Generators verwendet werden. `<expr>` muss ein Ausdruck sein, der zu einem iterierbaren Objekt auswerten lässt, aus dem dann ein Iterator extrahiert wird.\n",
    "Der Iterator wird ausgeführt bis er \"exhausted\" ist, d. h. bis er auf eine `StopIteration`-Ausnahme stößt. Dieser Iterator liefert und empfängt Werte an oder von dem Aufrufer des Generators, d. h. derjenigen, der die `yield from`-Anweisung enthält.\n",
    "\n",
    "Wir können aus dem folgenden Beispiel lernen, indem wir uns die beiden Generatoren 'gen1' und 'gen2' ansehen, dass die `yield from`-Anweisungen in `gen2` die for-Schleifen von `gen1` ersetzen:"
   ]
  },
  {
   "cell_type": "code",
   "execution_count": 33,
   "metadata": {},
   "outputs": [
    {
     "name": "stdout",
     "output_type": "stream",
     "text": [
      "g1: , P, y, t, h, o, n, 0, 1, 2, 3, 4, \n",
      "g2: , P, y, t, h, o, n, 0, 1, 2, 3, 4, \n"
     ]
    }
   ],
   "source": [
    "def gen1():\n",
    "    for char in \"Python\":\n",
    "        yield char\n",
    "    for i in range(5):\n",
    "        yield i\n",
    "\n",
    "def gen2():\n",
    "    yield from \"Python\"\n",
    "    yield from range(5)\n",
    "\n",
    "g1 = gen1()\n",
    "g2 = gen2()\n",
    "print(\"g1: \", end=\", \")\n",
    "for x in g1:\n",
    "    print(x, end=\", \")\n",
    "print(\"\\ng2: \", end=\", \")\n",
    "for x in g2:\n",
    "    print(x, end=\", \")\n",
    "print()"
   ]
  },
  {
   "cell_type": "markdown",
   "metadata": {},
   "source": [
    "Wir können an der Ausgabe erkennen, dass beide Generatoren, was das Verhalten und die Ergebnisse betrifft, gleich sind.\n",
    "\n",
    "Der Vorteil einer `yield from`-Anweisung kann als eine Möglichkeit angesehen werden, einen Generator in mehrere Generatoren aufzuteilen. Das haben wir in unserem vorherigen Beispiel getan, und wir werden dies im folgenden Beispiel deutlicher demonstrieren:"
   ]
  },
  {
   "cell_type": "code",
   "execution_count": 34,
   "metadata": {},
   "outputs": [
    {
     "name": "stdout",
     "output_type": "stream",
     "text": [
      "True\n"
     ]
    }
   ],
   "source": [
    "def städte():\n",
    "    for stadt in [\"Berlin\", \"Hamburg\", \"München\", \"Freiburg\"]:\n",
    "        yield stadt\n",
    "\n",
    "def quadrat():\n",
    "    for nummer in range(10):\n",
    "        yield nummer ** 2\n",
    "        \n",
    "def generator_all_in_one():\n",
    "    for stadt in städte():\n",
    "        yield stadt\n",
    "    for nummer in quadrat():\n",
    "        yield nummer\n",
    "        \n",
    "def generator_splitted():\n",
    "    yield from städte()\n",
    "    yield from quadrat()\n",
    "    \n",
    "lst1 = [el for el in generator_all_in_one()]\n",
    "lst2 = [el for el in generator_splitted()]\n",
    "print(lst1 == lst2)"
   ]
  },
  {
   "cell_type": "markdown",
   "metadata": {},
   "source": [
    "Der vorherige Code gibt True zurück, da die Generatoren `generator_all_in_one` und `generator_splitted` dieselben Elemente liefern. \n",
    "Dies bedeutet, dass, wenn der `<expr>` von `yield from` ein anderer Generator ist, der Effekt derselbe ist, als wäre der Körper des Subgenerators an der Stelle der `yield from`-Anweisung eingefügt worden. Darüber hinaus darf der Subgenerator eine `return`-Anweisung mit einem Wert ausführen, und der Wert wird der Wert von `yield from`. Wir zeigen dies mit dem folgenden kleinen Skript: "
   ]
  },
  {
   "cell_type": "code",
   "execution_count": 35,
   "metadata": {},
   "outputs": [
    {
     "name": "stdout",
     "output_type": "stream",
     "text": [
      "1\n",
      "42\n"
     ]
    }
   ],
   "source": [
    "def subgenerator():\n",
    "    yield 1\n",
    "    return 42\n",
    "\n",
    "def delegierender_generator():\n",
    "    x = yield from subgenerator()\n",
    "    print(x)\n",
    "\n",
    "for x in delegierender_generator():\n",
    "    print(x)"
   ]
  },
  {
   "cell_type": "markdown",
   "metadata": {},
   "source": [
    "### Rekursive Generatoren\n",
    "\n",
    "Das folgende Beispiel ist ein Generator zum Erstellen aller Permutationen einer bestimmten Liste von Elementen.\n",
    "\n",
    "Für diejenigen, die nicht wissen, was Permutationen sind, haben wir eine kurze Einführung:\n",
    "\n",
    "Formale Definition:\n",
    "\n",
    "Das Begriff Permutation kommt vom Lateinischen \"permutare\", was im Deutschen \"vertauschen\" bedeutet. \n",
    "Eine Permutation ist eine Vertauschung bzw.  Neuanordnung der Elemente einer geordneten Liste. Mit anderen Worten: Jede Anordnung von `n` Elementen wird als Permutation bezeichnet.\n",
    "\n",
    "In den folgenden Zeilen zeigen wir alle Permutationen der Buchstaben a, b und c:\n",
    "\n",
    "a b c\n",
    "<br>\n",
    "a c b\n",
    "<br>\n",
    "b a c\n",
    "<br>\n",
    "b c a\n",
    "<br>\n",
    "c a b\n",
    "<br>\n",
    "c b a\n",
    "<br>\n",
    "\n",
    "Die Anzahl der Permutationen auf einer Menge von `n` Elementen ist gegeben durch n!\n",
    "\n",
    "n! = n * (n-1) * (n-2) ... 2 * 1\n",
    "\n",
    "n! heißt die Fakultät von n.\n",
    "\n",
    "Der Permutationsgenerator kann mit einer beliebigen Liste von Objekten aufgerufen werden. Der von diesem Generator zurückgegebene Iterator generiert alle möglichen Permutationen:"
   ]
  },
  {
   "cell_type": "code",
   "execution_count": 36,
   "metadata": {},
   "outputs": [
    {
     "name": "stdout",
     "output_type": "stream",
     "text": [
      "red\n",
      "rde\n",
      "erd\n",
      "edr\n",
      "dre\n",
      "der\n",
      "game, gaem, gmae, gmea, geam, gema, agme, agem, amge, ameg, aegm, aemg, mgae, mgea, mage, maeg, mega, meag, egam, egma, eagm, eamg, emga, emag, "
     ]
    }
   ],
   "source": [
    "def permutationen(items):\n",
    "    n = len(items)\n",
    "    if n==0: yield []\n",
    "    else:\n",
    "        for i in range(len(items)):\n",
    "            for cc in permutationen(items[:i]+items[i+1:]):\n",
    "                yield [items[i]]+cc\n",
    "\n",
    "for p in permutationen(['r','e','d']): print(''.join(p))\n",
    "for p in permutationen(list(\"game\")): print(''.join(p) + \", \", end=\"\")"
   ]
  },
  {
   "cell_type": "markdown",
   "metadata": {},
   "source": [
    "Das vorherige Beispiel kann für Neulinge schwer zu verstehen sein. Wie immer bietet Python eine bequeme Lösung. Zu diesem Zweck benötigen wir das Modul **itertools**. Itertools ist ein sehr praktisches Tool zum Erstellen und Bearbeiten von Iteratoren.\n",
    "\n",
    "Erstellen von Permutationen mit itertools:"
   ]
  },
  {
   "cell_type": "code",
   "execution_count": 37,
   "metadata": {},
   "outputs": [
    {
     "data": {
      "text/plain": [
       "[('r', 'e', 'd'),\n",
       " ('r', 'd', 'e'),\n",
       " ('e', 'r', 'd'),\n",
       " ('e', 'd', 'r'),\n",
       " ('d', 'r', 'e'),\n",
       " ('d', 'e', 'r')]"
      ]
     },
     "execution_count": 37,
     "metadata": {},
     "output_type": "execute_result"
    }
   ],
   "source": [
    "import itertools\n",
    "perms = itertools.permutations(['r','e','d'])\n",
    "list(perms)"
   ]
  },
  {
   "cell_type": "markdown",
   "metadata": {},
   "source": [
    "Der Begriff \"Permutationen\" kann manchmal in einer schwächeren Bedeutung verwendet werden. Permutationen können in dieser schwächeren Bedeutung eine Folge von Elementen bezeichnen, wobei jedes Element nur einmal vorkommt, ohne dass jedoch alle Elemente einer bestimmten Menge enthalten sein müssen. In diesem Sinne ist `(1, 3, 5, 2)` eine Permutation der Ziffernmenge `{1, 2, 3, 4, 5, 6}`. Wir können zum Beispiel alle Sequenzen einer festen Länge k von Elementen bauen, die aus einer gegebenen Menge der Größe n mit k ≤ n entnommen sind.\n",
    "\n",
    "Dies sind alle 3-Permutationen der Menge {\"a\", \"b\", \"c\", \"d\"}."
   ]
  },
  {
   "cell_type": "markdown",
   "metadata": {},
   "source": [
    "Wählt  man  aus  einer  n-elementigen  Menge  von  Objekten  k  Objekte  unter  Berücksichtigung der Reihenfolge ohne Zurücklegen aus, so bezeichnet man dies als eine Variation ohne Wiederholung. Die Permutationen ergeben sich als ein Sonderfall für n = k.\n",
    "\n",
    "Die Anzahl solcher k-Permutationen von n wird mit $P_{n,k}$ bezeichnet und ihr Wert wird durch das Produkt berechnet:\n",
    "\n",
    "$n · (n - 1) · … (n - k + 1)$\n",
    "\n",
    "Unter Verwendung der Fakultätsnotation kann der oben erwähnte Ausdruck wie folgt geschrieben werden:\n",
    "\n",
    "$P_{n, k} = n! / (n - k)!$\n",
    "\n",
    "\n",
    "Ein Generator zur Erzeugung von k-Variationen von n Objekten sieht unserem vorherigen Permutationsgenerator sehr ähnlich:"
   ]
  },
  {
   "cell_type": "code",
   "execution_count": 52,
   "metadata": {},
   "outputs": [
    {
     "name": "stdout",
     "output_type": "stream",
     "text": [
      "['a', 'b', 'c']\n",
      "['a', 'b', 'd']\n",
      "['a', 'c', 'b']\n",
      "['a', 'c', 'd']\n",
      "['a', 'd', 'b']\n",
      "['a', 'd', 'c']\n",
      "['b', 'a', 'c']\n",
      "['b', 'a', 'd']\n",
      "['b', 'c', 'a']\n",
      "['b', 'c', 'd']\n",
      "['b', 'd', 'a']\n",
      "['b', 'd', 'c']\n",
      "['c', 'a', 'b']\n",
      "['c', 'a', 'd']\n",
      "['c', 'b', 'a']\n",
      "['c', 'b', 'd']\n",
      "['c', 'd', 'a']\n",
      "['c', 'd', 'b']\n",
      "['d', 'a', 'b']\n",
      "['d', 'a', 'c']\n",
      "['d', 'b', 'a']\n",
      "['d', 'b', 'c']\n",
      "['d', 'c', 'a']\n",
      "['d', 'c', 'b']\n"
     ]
    }
   ],
   "source": [
    "def k_variations(items, n):\n",
    "    if n==0: \n",
    "        yield []\n",
    "    else:\n",
    "        for item in items:\n",
    "            for kp in k_variations(items, n-1):\n",
    "                if item not in kp:\n",
    "                    yield [item] + kp\n",
    "                    \n",
    "for kp in k_variations(\"abcd\", 3):\n",
    "    print(kp)\n"
   ]
  },
  {
   "cell_type": "markdown",
   "metadata": {},
   "source": [
    "### Ein Generator von Generatoren\n",
    "\n",
    "Der zweite Generator unseres Fibonacci-Sequenzbeispiels erzeugt einen Iterator, der theoretisch alle Fibonacci-Zahlen erzeugen kann, d. h. unendlich viele. Man sollte jedoch nicht versuchen, alle diese Zahlen in einer Liste mit der folgenden Zeile zu erstellen."
   ]
  },
  {
   "cell_type": "markdown",
   "metadata": {},
   "source": [
    "<pre> list(fibonacci())</pre>"
   ]
  },
  {
   "cell_type": "markdown",
   "metadata": {},
   "source": [
    "Dies würde dir sehr schnell die Grenzen deines Computers aufzeigen.\n",
    "In den meisten praktischen Anwendungen benötigen wir nur die ersten `n` Elemente von diesem und anderen \"unendlichen\" Iteratoren. r können einen anderen Generator verwenden, in unserem Beispiel `firstn`, um die ersten n Elemente eines Generators ```generator``` zu erstellen:"
   ]
  },
  {
   "cell_type": "code",
   "execution_count": 39,
   "metadata": {},
   "outputs": [],
   "source": [
    "def firstn(generator, n):\n",
    "    g = generator()\n",
    "    for i in range(n):\n",
    "        yield next(g)\n"
   ]
  },
  {
   "cell_type": "markdown",
   "metadata": {},
   "source": [
    "Das folgende Skript gibt die ersten 10 Elemente der Fibonacci-Sequenz zurück:"
   ]
  },
  {
   "cell_type": "code",
   "execution_count": 40,
   "metadata": {},
   "outputs": [
    {
     "name": "stdout",
     "output_type": "stream",
     "text": [
      "[0, 1, 1, 2, 3, 5, 8, 13, 21, 34]\n"
     ]
    }
   ],
   "source": [
    "def fibonacci():\n",
    "    \"\"\" Ein Fibonacci-Zahlengenerator \"\"\"\n",
    "    a, b = 0, 1\n",
    "    while True:\n",
    "        yield a\n",
    "        a, b = b, a + b\n",
    "\n",
    "print(list(firstn(fibonacci, 10)))   "
   ]
  },
  {
   "cell_type": "markdown",
   "metadata": {},
   "source": [
    "### Aufgaben\n",
    "\n",
    "#### Aufgabe 1\n",
    "\n",
    "Schreibe  einen Generator, der den laufenden Durchschnitt berechnet.\n",
    "\n",
    "#### Aufgabe 2\n",
    "\n",
    "Schreibe einen Generator ```frange```, der sich wie ``` range``` verhält, aber ```float``` Werte akzeptiert.\n",
    "\n",
    "#### Aufgabe 3\n",
    "\n",
    "Schreibe einen Generator ```trange```, der eine Folge von Zeittupeln von Start bis Stopp erzeugt, die schrittweise erhöht werden. Ein Zeittupel ist ein 3-Tupel von ganzen Zahlen: (Stunden, Minuten, Sekunden)\n",
    "Ein Aufruf von ```trange``` könnte also so aussehen: \n",
    "\n",
    "``` trange ((10, 10, 10), (13, 50, 15), (0, 15, 12)) ```\n"
   ]
  },
  {
   "cell_type": "markdown",
   "metadata": {},
   "source": [
    "#### Aufgabe 4\n",
    "\n",
    "Schreibe eine Version \"rtrange\" des vorherigen Generators, die Nachrichten empfangen kann, um den Startwert zurückzusetzen.\n",
    "\n",
    "#### Aufgabe 5\n",
    "Schreibe ein Programm mit dem neu geschriebenen Generator \"trange\", um eine Datei \"times_and_temperatures.txt\" zu erstellen. Die Zeilen dieser Datei enthalten eine Zeit im Format `hh::mm::ss` und zufällige Temperaturen zwischen 10,0 und 25,0 Grad. Die Zeiten sollten in Schritten von 90 Sekunden ab 6:00:00 Uhr ansteigen und vor 23:00:00 enden.\n",
    "     Beispielsweise:\n",
    "\n",
    "     06:00:00 20.1\n",
    "     06:01:30 16.1\n",
    "     06:03:00 16.9\n",
    "     06:04:30 13.4\n",
    "     06:06:00 23.7\n",
    "     06:07:30 23.6\n",
    "     06:09:00 17.5\n",
    "     06:10:30 11.0"
   ]
  },
  {
   "cell_type": "markdown",
   "metadata": {},
   "source": [
    "<img class=\"imgright\" width=200 src=\"../images/bitstream_zeroes_ones.webp\" srcset=\"../images/bitstream_zeroes_ones_800w.webp 800w,../images/bitstream_zeroes_ones_700w.webp 700w,../images/bitstream_zeroes_ones_600w.webp 600w,../images/bitstream_zeroes_ones_500w.webp 500w,../images/bitstream_zeroes_ones_400w.webp 400w,../images/bitstream_zeroes_ones_350w.webp 350w,../images/bitstream_zeroes_ones_300w.webp 300w\" alt=\"Bitstrom von Nullen und Einsen\" />\n",
    "\n",
    "#### Aufgabe 6\n",
    "\n",
    "Schreibe einen Generator mit dem Namen `random_ones_and_zeroes`, der in jeder Iteration einen Bitstrom zurückgibt, d. h. jeweils eine Null oder eine Eins. Die Wahrscheinlichkeit p für die Rückgabe einer 1 ist in einer Variablen p definiert. Der Generator initialisiert diesen Wert auf 0.5. Mit anderen Worten, Nullen und Einsen werden mit der gleichen Wahrscheinlichkeit zurückgegeben.\n",
    "\n",
    "#### Aufgabe 7 \n",
    "\n",
    "Wir haben eine Klasse [Zyklus](#ZyklusClass) am Anfang dieses Kapitels unseres Python-Tutorials geschrieben. Schreibe nun einen Generator namens `zyklus`, der dieselbe Aufgabe erfüllt.\n",
    "\n",
    "### Lösungen für unsere Aufgaben\n",
    "\n",
    "#### Lösung zur Aufgabe 1\n"
   ]
  },
  {
   "cell_type": "code",
   "execution_count": 41,
   "metadata": {},
   "outputs": [
    {
     "name": "stdout",
     "output_type": "stream",
     "text": [
      "gesendet:   7, laufender Durchschnitt:   7.00\n",
      "gesendet:  13, laufender Durchschnitt:  10.00\n",
      "gesendet:  17, laufender Durchschnitt:  12.33\n",
      "gesendet: 231, laufender Durchschnitt:  67.00\n",
      "gesendet:  12, laufender Durchschnitt:  56.00\n",
      "gesendet:   8, laufender Durchschnitt:  48.00\n",
      "gesendet:   3, laufender Durchschnitt:  41.57\n"
     ]
    }
   ],
   "source": [
    "def laufender_durchschnitt():\n",
    "    total = 0.0\n",
    "    zähler = 0\n",
    "    durchschnitt = None\n",
    "    while True:\n",
    "        term = yield durchschnitt\n",
    "        total += term\n",
    "        zähler += 1\n",
    "        durchschnitt = total / zähler\n",
    "\n",
    "\n",
    "ra = laufender_durchschnitt()  # Initialisieren Sie die Coroutine\n",
    "next(ra)                # Wir müssen die Coroutine starten\n",
    "for wert in [7, 13, 17, 231, 12, 8, 3]:\n",
    "    out_str = \"gesendet: {wert:3d}, laufender Durchschnitt: {drc:6.2f}\"\n",
    "    print(out_str.format(wert=wert, drc=ra.send(wert)))"
   ]
  },
  {
   "cell_type": "markdown",
   "metadata": {},
   "source": [
    "#### Lösung zur Aufgabe 2"
   ]
  },
  {
   "cell_type": "code",
   "execution_count": 42,
   "metadata": {},
   "outputs": [],
   "source": [
    "def frange(*args):\n",
    "    startwert = 0\n",
    "    schrittgrösse = 1    \n",
    "    if len(args) == 1:\n",
    "        endwert = args[0]\n",
    "    elif len(args) == 2:\n",
    "        startwert, endwert = args \n",
    "    elif len(args) == 3:\n",
    "        startwert, endwert, schrittgrösse = args\n",
    "      \n",
    "    wert = startwert\n",
    "    while wert < endwert:\n",
    "        yield wert\n",
    "        wert += schrittgrösse"
   ]
  },
  {
   "cell_type": "markdown",
   "metadata": {},
   "source": [
    "Die Verwendung von ```frange``` kann folgendermaßen aussehen:"
   ]
  },
  {
   "cell_type": "code",
   "execution_count": 43,
   "metadata": {},
   "outputs": [
    {
     "name": "stdout",
     "output_type": "stream",
     "text": [
      "0, 1, 2, 3, 4, 5, \n",
      "0.3, 1.3, 2.3, 3.3, 4.3, 5.3, \n",
      "0.3, 1.1, 1.9000000000000001, 2.7, 3.5, 4.3, 5.1, \n"
     ]
    }
   ],
   "source": [
    "for i in frange(5.6):\n",
    "    print(i, end=\", \")\n",
    "print()\n",
    "for i in frange(0.3, 5.6):\n",
    "    print(i, end=\", \")\n",
    "print()\n",
    "for i in frange(0.3, 5.6, 0.8):\n",
    "    print(i, end=\", \")\n",
    "print()"
   ]
  },
  {
   "cell_type": "markdown",
   "metadata": {},
   "source": [
    "#### Lösung zur Aufgabe 3"
   ]
  },
  {
   "cell_type": "code",
   "execution_count": 44,
   "metadata": {},
   "outputs": [
    {
     "name": "stdout",
     "output_type": "stream",
     "text": [
      "Overwriting timerange.py\n"
     ]
    }
   ],
   "source": [
    "%%writefile timerange.py\n",
    "\n",
    "\n",
    "def trange(start, stopp, schrittweite):\n",
    "    \"\"\" \n",
    "    trange (stopp) -> Zeit als 3-Tupel (Stunden, Minuten, Sekunden)\n",
    "    trange (start, stopp [, schrittweite]) -> Zeittupel\n",
    "\n",
    "    start: Zeittupel (Stunden, Minuten, Sekunden)\n",
    "    stopp: Zeittupel\n",
    "    schrittweite: Zeittupel\n",
    "\n",
    "     Gibt eine Folge von Zeittupeln von `start`  bis `stopp` zurück, \n",
    "     die mittels `schrittweise` erhöht werden\n",
    "    \"\"\"        \n",
    "\n",
    "    aktuell = list(start)\n",
    "    while aktuell < list(stopp):\n",
    "        yield tuple(aktuell)\n",
    "        sekunde = schrittweite[2] + aktuell[2]\n",
    "        minuten_übertrag = 0\n",
    "        stunden_übertrag = 0\n",
    "        if sekunde < 60:\n",
    "            aktuell[2] = sekunde\n",
    "        else:\n",
    "            aktuell[2] = sekunde - 60\n",
    "            min_übertrag = 1\n",
    "        minuten = schrittweite[1] + aktuell[1] + minuten_übertrag\n",
    "        if minuten < 60:\n",
    "            aktuell[1] = minuten \n",
    "        else:\n",
    "            aktuell[1] = minuten - 60\n",
    "            stunden_übertrag = 1\n",
    "        stunden = schrittweite[0] + aktuell[0] + stunden_übertrag\n",
    "        if stunden < 24:\n",
    "            aktuell[0] = stunden \n",
    "        else:\n",
    "            aktuell[0] = stunden - 24\n",
    "\n"
   ]
  },
  {
   "cell_type": "code",
   "execution_count": 45,
   "metadata": {},
   "outputs": [
    {
     "name": "stdout",
     "output_type": "stream",
     "text": [
      "(10, 10, 10)\n",
      "(11, 34, 22)\n",
      "(12, 58, 34)\n",
      "(14, 22, 46)\n",
      "(15, 46, 58)\n",
      "(17, 10, 10)\n",
      "(18, 34, 22)\n"
     ]
    }
   ],
   "source": [
    "from timerange import trange\n",
    "\n",
    "for time in trange((10, 10, 10), (19, 53, 15), (1, 24, 12) ):\n",
    "    print(time)   "
   ]
  },
  {
   "cell_type": "markdown",
   "metadata": {},
   "source": [
    "#### Lösung zur Aufgabe 4"
   ]
  },
  {
   "cell_type": "code",
   "execution_count": 46,
   "metadata": {},
   "outputs": [
    {
     "name": "stdout",
     "output_type": "stream",
     "text": [
      "Overwriting rtimerange.py\n"
     ]
    }
   ],
   "source": [
    "%%writefile rtimerange.py\n",
    "\n",
    "def rtrange(start, stopp, schrittweite):\n",
    "    \"\"\" \n",
    "        trange (stopp) -> Zeit als 3-Tupel (Stunden, Minuten, Sekunden)\n",
    "        trange (start, stopp [, schrittweite]) -> Zeittupel\n",
    "\n",
    "        start: Zeittupel (Stunden, Minuten, Sekunden)\n",
    "        stopp: Zeittupel\n",
    "        schrittweite: Zeittupel\n",
    "\n",
    "         Gibt eine Folge von Zeittupeln von `start`  bis `stopp` zurück, \n",
    "         die mittels `schrittweise` erhöht werden\n",
    "        \n",
    "         Der Generator kann durch Senden eines neuen \"Start\"-Werts resettiert werden.\n",
    "    \"\"\"        \n",
    "\n",
    "    aktuell = list(start)\n",
    "    while aktuell < list(stopp):\n",
    "        neu_start = yield tuple(aktuell)\n",
    "        if neu_start != None:\n",
    "            aktuell = list(neu_start)\n",
    "            continue        \n",
    "        sekunde = schrittweite[2] + aktuell[2]\n",
    "        minuten_übertrag = 0\n",
    "        stunden_übertrag = 0\n",
    "        if sekunde < 60:\n",
    "            aktuell[2] = sekunde\n",
    "        else:\n",
    "            aktuell[2] = sekunde - 60\n",
    "            min_übertrag = 1\n",
    "        minuten = schrittweite[1] + aktuell[1] + minuten_übertrag\n",
    "        if minuten < 60:\n",
    "            aktuell[1] = minuten \n",
    "        else:\n",
    "            aktuell[1] = minuten - 60\n",
    "            stunden_übertrag = 1\n",
    "        stunden = schrittweite[0] + aktuell[0] + stunden_übertrag\n",
    "        if stunden < 24:\n",
    "            aktuell[0] = stunden \n",
    "        else:\n",
    "            aktuell[0] = stunden - 24\n",
    "            "
   ]
  },
  {
   "cell_type": "code",
   "execution_count": 47,
   "metadata": {},
   "outputs": [
    {
     "name": "stdout",
     "output_type": "stream",
     "text": [
      "(10, 10, 10)\n",
      "(11, 25, 22)\n",
      "(12, 40, 34)\n",
      "(8, 5, 50)\n",
      "(9, 20, 2)\n",
      "(10, 35, 14)\n",
      "(11, 50, 26)\n"
     ]
    }
   ],
   "source": [
    "from rtimerange import rtrange\n",
    "\n",
    "        \n",
    "ts = rtrange((10, 10, 10), (17, 50, 15), (1, 15, 12) )  \n",
    "for _ in range(3):\n",
    "    print(next(ts))\n",
    "\n",
    "print(ts.send((8, 5, 50)))\n",
    "for _ in range(3):\n",
    "    print(next(ts))"
   ]
  },
  {
   "cell_type": "markdown",
   "metadata": {},
   "source": [
    "#### Lösung zur Aufgabe 5"
   ]
  },
  {
   "cell_type": "code",
   "execution_count": 48,
   "metadata": {},
   "outputs": [],
   "source": [
    "from timerange import trange\n",
    "import random\n",
    "\n",
    "fh = open(\"times_and_temperatures.txt\", \"w\")\n",
    "\n",
    "for zeit in trange((6, 0, 0), (23, 0, 0), (0, 1, 30) ):\n",
    "    zufallszahl = random.randint(100, 250) / 10\n",
    "    lst = zeit + (zufallszahl,)\n",
    "    ausgabe = \"{:02d}:{:02d}:{:02d} {:4.1f}\\n\".format(*lst)\n",
    "    fh.write(ausgabe)"
   ]
  },
  {
   "cell_type": "markdown",
   "metadata": {},
   "source": [
    "Weitere Details und den mathematischen Hintergrund zu dieser Übung finden Sie in unserem Kapitel über [Gewichtete Wahrscheinlichkeiten](https://www.python-course.eu/weighted_choice_and_sample.php).\n",
    "\n",
    "#### Lösung zur Aufgabe 6"
   ]
  },
  {
   "cell_type": "code",
   "execution_count": 49,
   "metadata": {},
   "outputs": [
    {
     "name": "stdout",
     "output_type": "stream",
     "text": [
      "\n",
      "Wir ändern die Wahrscheinlichkeit auf : 0.2\n",
      "0 0 0 0 0 0 0 1 0 0 1 0 0 0 0 0 0 1 0 1 \n",
      "Wir ändern die Wahrscheinlichkeit auf : 0.8\n",
      "0 0 1 0 1 1 1 1 1 0 1 0 0 0 1 1 1 1 0 0 \n"
     ]
    }
   ],
   "source": [
    "import random\n",
    "\n",
    "def zufalls_einsen_und_nullen():\n",
    "    p = 0.5\n",
    "    while True:\n",
    "        x = random.random()\n",
    "        nachricht = yield 1 if x < p else 0\n",
    "        if nachricht != None:\n",
    "            p = nachricht\n",
    "            \n",
    "x = zufalls_einsen_und_nullen()\n",
    "next(x)  # Der Rückgabewert interessiert uns nicht\n",
    "for p in [0.2, 0.8]:\n",
    "    print(\"\\nWir ändern die Wahrscheinlichkeit auf : \" + str(p))\n",
    "    x.send(p)    \n",
    "    for i in range(20):\n",
    "        print(next(x), end=\" \")\n",
    "print()"
   ]
  },
  {
   "cell_type": "markdown",
   "metadata": {},
   "source": [
    "#### Lösung zur Aufgabe 7\n",
    "\n",
    "Der \"cycle\"-Generator ist Teil des Moduls 'itertools'. Der folgende Code ist die Implementierung in itertools:"
   ]
  },
  {
   "cell_type": "code",
   "execution_count": 51,
   "metadata": {},
   "outputs": [
    {
     "name": "stdout",
     "output_type": "stream",
     "text": [
      "Germany\n",
      "Switzerland\n",
      "Austria\n",
      "Germany\n",
      "Switzerland\n",
      "Austria\n",
      "Germany\n"
     ]
    }
   ],
   "source": [
    "def cycle(iterable):\n",
    "    # cycle('ABCD') --> A B C D A B C D A B C D ...\n",
    "    saved = []\n",
    "    for element in iterable:\n",
    "        yield element\n",
    "        saved.append(element)\n",
    "    while saved:\n",
    "        for element in saved:\n",
    "              yield element\n",
    "                \n",
    "länder = [\"Germany\", \"Switzerland\", \"Austria\"]\n",
    "länder_iterator = cycle(länder)\n",
    "for i in range(7):\n",
    "    print(next(länder_iterator))"
   ]
  }
 ],
 "metadata": {
  "kernelspec": {
   "display_name": "Python 3",
   "language": "python",
   "name": "python3"
  },
  "language_info": {
   "codemirror_mode": {
    "name": "ipython",
    "version": 3
   },
   "file_extension": ".py",
   "mimetype": "text/x-python",
   "name": "python",
   "nbconvert_exporter": "python",
   "pygments_lexer": "ipython3",
   "version": "3.8.8"
  }
 },
 "nbformat": 4,
 "nbformat_minor": 4
}
