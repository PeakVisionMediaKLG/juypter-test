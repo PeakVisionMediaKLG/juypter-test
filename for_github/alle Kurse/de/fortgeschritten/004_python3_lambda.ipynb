{
 "cells": [
  {
   "cell_type": "markdown",
   "metadata": {},
   "source": [
    "## Lambda, filter, reduce and map\n",
    "\n",
    "<img class=\"imgright\" src=\"../images/lambda_cubism.webp\" alt=\"Ring als Symbol der for-Schleife\">\n",
    "\n",
    "Wenn Guido van Rossum, der Autor der Programmiersprache Python, seinen Willen bekommen hätte, hätte dieses Kapitel in unserem Tutorial gefehlt. In seinem Artikel vom Mai 2005 [\"All Things Pythonic: Das Schicksal von reduce () in Python 3000\"](http://www.artima.com/weblogs/viewpost.jsp?thread=98196) gibt er seine Gründe dafür an Löschen von Lambda, Map (), Filter () und Reduzieren (). Er erwartete Widerstand von den Lisp und dem Schema \"Leute\". Was er nicht erwartet hatte, war die Starrheit dieser Opposition. Genug, dass Guido van Rossum kaum ein Jahr später schrieb: \"Nach so vielen Versuchen, eine Alternative für Lambda zu finden, sollten wir uns vielleicht geschlagen geben. Ich hatte nicht die Zeit, die letzten Runden zu verfolgen, aber ich schlage vor, dass wir Behalte Lambda, um nicht länger das Talent und die Zeit aller für eine unmögliche Suche zu verschwenden. \"\n",
    "Wir können das Ergebnis sehen: Lambda, Map () und Filter () sind immer noch Teil von Python. Nur reduce () musste gehen; es wurde in die Modul-Funktools verschoben.\n",
    "\n",
    "Seine Argumentation, sie fallen zu lassen, lautet wie folgt:\n",
    "\n",
    "- Es gibt eine ebenso leistungsfähige Alternative zu Lambda, Filtern, Zuordnen und Reduzieren, d. H. Listenverständnis\n",
    "- [List Comprehension](https://www.python-kurs.eu/python3_list_comprehension.php) (ist offensichtlicher und leichter zu verstehen\n",
    "- Sowohl Listenverständnis als auch \"Filtern, Zuordnen, Reduzieren und Lambda\" verstoßen gegen das Python-Motto \"Es sollte einen offensichtlichen Weg geben, ein Problem zu lösen\".\n",
    "\n",
    "Einige mögen es, andere hassen es und viele haben Angst vor dem Lambda-Operator. Der Lambda-Operator oder die Lambda-Funktion ist eine Möglichkeit, kleine anonyme Funktionen zu erstellen, d. H. Funktionen ohne Namen. Diese Funktionen sind Wegwerffunktionen, d. H. Sie werden nur dort benötigt, wo sie erstellt wurden. Lambda-Funktionen werden hauptsächlich in Kombination mit den Funktionen filter (), map () und reduce () verwendet. Die Lambda-Funktion wurde Python aufgrund der Nachfrage von Lisp-Programmierern hinzugefügt.\n",
    "\n",
    "Die allgemeine Syntax einer Lambda-Funktion ist recht einfach:\n",
    "\n",
    "lambda argument_list: Ausdruck\n",
    "\n",
    "Die Argumentliste besteht aus einer durch Kommas getrennten Liste von Argumenten, und der Ausdruck ist ein arithmetischer Ausdruck, der diese Argumente verwendet. Sie können die Funktion einer Variablen zuweisen, um ihr einen Namen zu geben.\n",
    "\n",
    "Das folgende Beispiel einer Lambda-Funktion gibt die Summe ihrer beiden Argumente zurück:"
   ]
  },
  {
   "cell_type": "code",
   "execution_count": 1,
   "metadata": {},
   "outputs": [
    {
     "data": {
      "text/plain": [
       "7"
      ]
     },
     "execution_count": 1,
     "metadata": {},
     "output_type": "execute_result"
    }
   ],
   "source": [
    "summe = lambda x, y : x + y\n",
    "summe(3,4)"
   ]
  },
  {
   "cell_type": "markdown",
   "metadata": {},
   "source": [
    "Das obige Beispiel könnte wie ein Spielzeug für einen Mathematiker aussehen. Ein Formalismus, der ein leicht verständliches Thema in ein abstraktes, schwerer zu fassendes Formalismus verwandelt. Vor allem hätten wir den gleichen Effekt erzielen können, wenn wir nur die folgende herkömmliche Funktionsdefinition verwendet hätten:"
   ]
  },
  {
   "cell_type": "code",
   "execution_count": 2,
   "metadata": {},
   "outputs": [
    {
     "data": {
      "text/plain": [
       "7"
      ]
     },
     "execution_count": 2,
     "metadata": {},
     "output_type": "execute_result"
    }
   ],
   "source": [
    "def summe(x,y):\n",
    "    return x + y\n",
    "\n",
    "summe(3,4)"
   ]
  },
  {
   "cell_type": "markdown",
   "metadata": {},
   "source": [
    "Wir können Ihnen versichern, dass die Vorteile dieses Ansatzes offensichtlich werden, wenn Sie gelernt haben, die Funktion map () zu verwenden.\n",
    "\n",
    "### Die Funktion map ()\n",
    "Wie bereits erwähnt, zeigt sich der Vorteil des Lambda-Operators in Kombination mit der Funktion map ().\n",
    "map () ist eine Funktion, die zwei Argumente akzeptiert:\n",
    "\n",
    "r = map (func, seq)\n",
    "\n",
    "\n",
    "Das erste Argument func ist der Name einer Funktion und das zweite eine Sequenz (z. B. eine Liste) seq. map () wendet die Funktion func auf alle Elemente der Sequenz seq an. Vor Python3 gab map () eine Liste zurück, wobei jedes Element der Ergebnisliste das Ergebnis der Funktion func war, die auf das entsprechende Element der Liste oder das Tupel \"seq\" angewendet wurde. Mit Python 3 gibt map () einen Iterator zurück.\n",
    "\n",
    "Das folgende Beispiel zeigt die Arbeitsweise von map ():"
   ]
  },
  {
   "cell_type": "code",
   "execution_count": 3,
   "metadata": {},
   "outputs": [
    {
     "name": "stdout",
     "output_type": "stream",
     "text": [
      "[97.7, 98.60000000000001, 99.5, 100.4, 102.2]\n",
      "[36.5, 37.00000000000001, 37.5, 38.00000000000001, 39.0]\n"
     ]
    }
   ],
   "source": [
    "def fahrenheit(T):\n",
    "    return ((float(9)/5)*T + 32)\n",
    " \n",
    "def celsius(T):\n",
    "    return (float(5)/9)*(T-32)\n",
    " \n",
    "temperaturen = (36.5, 37, 37.5, 38, 39)\n",
    "F = map(fahrenheit, temperaturen)\n",
    "C = map(celsius, F)\n",
    "temperaturen_in_Fahrenheit = list(map(fahrenheit, temperaturen))\n",
    "temperaturen_in_Celsius = list(map(celsius, temperaturen_in_Fahrenheit))\n",
    "print(temperaturen_in_Fahrenheit)\n",
    "print(temperaturen_in_Celsius)"
   ]
  },
  {
   "cell_type": "markdown",
   "metadata": {},
   "source": [
    "Im obigen Beispiel haben wir kein Lambda verwendet. Mit Lambda hätten wir die Funktionen fahrenheit () und celsius () nicht definieren und benennen müssen. Sie können dies in der folgenden interaktiven Sitzung sehen:"
   ]
  },
  {
   "cell_type": "code",
   "execution_count": 18,
   "metadata": {},
   "outputs": [
    {
     "name": "stdout",
     "output_type": "stream",
     "text": [
      "[102.56, 97.7, 99.14, 100.4, 100.03999999999999]\n"
     ]
    }
   ],
   "source": [
    "C = [39.2, 36.5, 37.3, 38, 37.8] \n",
    "F = list(map(lambda x: (float(9)/5)*x + 32, C))\n",
    "print(F)"
   ]
  },
  {
   "cell_type": "code",
   "execution_count": 19,
   "metadata": {},
   "outputs": [
    {
     "name": "stdout",
     "output_type": "stream",
     "text": [
      "[39.2, 36.5, 37.300000000000004, 38.00000000000001, 37.8]\n"
     ]
    }
   ],
   "source": [
    "C = list(map(lambda x: (float(5)/9)*(x-32), F))\n",
    "print(C)"
   ]
  },
  {
   "cell_type": "markdown",
   "metadata": {},
   "source": [
    "map () kann auf mehrere Listen angewendet werden. Die Listen müssen nicht gleich lang sein. map () wendet seine Lambda-Funktion auf die Elemente der Argumentlisten an, d. h. es gilt zuerst für die Elemente mit dem 0. Index und dann für die Elemente mit dem 1. Index, bis der n-te Index erreicht ist:"
   ]
  },
  {
   "cell_type": "code",
   "execution_count": 14,
   "metadata": {},
   "outputs": [],
   "source": [
    "a = [1, 2, 3, 4]\n",
    "b = [17, 12, 11, 10]\n",
    "c = [-1, -4, 5, 9] "
   ]
  },
  {
   "cell_type": "code",
   "execution_count": 15,
   "metadata": {},
   "outputs": [
    {
     "data": {
      "text/plain": [
       "[17, 10, 19, 23]"
      ]
     },
     "execution_count": 15,
     "metadata": {},
     "output_type": "execute_result"
    }
   ],
   "source": [
    "list(map(lambda x, y, z : x+y+z, a, b, c))"
   ]
  },
  {
   "cell_type": "code",
   "execution_count": 16,
   "metadata": {},
   "outputs": [
    {
     "data": {
      "text/plain": [
       "[18, 14, 14, 14]"
      ]
     },
     "execution_count": 16,
     "metadata": {},
     "output_type": "execute_result"
    }
   ],
   "source": [
    "list(map(lambda x, y : x+y, a, b))"
   ]
  },
  {
   "cell_type": "code",
   "execution_count": 17,
   "metadata": {},
   "outputs": [
    {
     "data": {
      "text/plain": [
       "[37.5, 33.0, 24.5, 21.0]"
      ]
     },
     "execution_count": 17,
     "metadata": {},
     "output_type": "execute_result"
    }
   ],
   "source": [
    "list(map(lambda x, y, z : 2.5*x + 2*y - z, a, b, c))"
   ]
  },
  {
   "cell_type": "markdown",
   "metadata": {},
   "source": [
    "Wenn eine Liste weniger Elemente als die anderen enthält, wird die Karte angehalten, wenn die kürzeste Liste verwendet wurde:"
   ]
  },
  {
   "cell_type": "code",
   "execution_count": 13,
   "metadata": {},
   "outputs": [
    {
     "data": {
      "text/plain": [
       "[37.5, 33.0, 24.5]"
      ]
     },
     "execution_count": 13,
     "metadata": {},
     "output_type": "execute_result"
    }
   ],
   "source": [
    "a = [1, 2, 3]\n",
    "b = [17, 12, 11, 10]\n",
    "c = [-1, -4, 5, 9]\n",
    " \n",
    "list(map(lambda x, y, z : 2.5*x + 2*y - z, a, b, c))"
   ]
  },
  {
   "cell_type": "markdown",
   "metadata": {},
   "source": [
    "Wir können im obigen Beispiel sehen, dass der Parameter x seine Werte aus der Liste a erhält, während y seine Werte aus b und z aus der Liste c erhält.\n",
    "\n",
    "### Zuordnen einer Liste von Funktionen\n",
    "Die Kartenfunktion des vorherigen Kapitels wurde verwendet, um eine Funktion auf eine oder mehrere Iterables anzuwenden. Wir werden nun eine Funktion schreiben, die eine Reihe von Funktionen anwendet, die iterativ sein können, z. B. eine Liste oder ein Tupel, beispielsweise auf ein Python-Objekt."
   ]
  },
  {
   "cell_type": "code",
   "execution_count": 10,
   "metadata": {},
   "outputs": [
    {
     "name": "stdout",
     "output_type": "stream",
     "text": [
      "[1.2246467991473532e-16, -1.0, -1.2246467991473532e-16]\n"
     ]
    }
   ],
   "source": [
    "from math import sin, cos, tan, pi\n",
    "\n",
    "def map_funktionen(x, funktionen):\n",
    "     \"\"\" Ordnen Sie dem Objekt x eine Iterable von Funktionen zu. \"\"\"\n",
    "     res = []\n",
    "     for func in funktionen:\n",
    "        res.append(func(x))\n",
    "     return res\n",
    "\n",
    "familie_von_funktionen = (sin, cos, tan)\n",
    "print(map_funktionen(pi, familie_von_funktionen))"
   ]
  },
  {
   "cell_type": "markdown",
   "metadata": {},
   "source": [
    "Die zuvor definierte Funktion map_functions kann mit der Listenverständnis-Technik vereinfacht werden, die wir im Kapitel [List Comprehensions](https://www.python-kurs.eu/python3_list_comprehension.php) behandeln werden:\n",
    "<pre>\n",
    "def map_functions(x, functions):\n",
    "     return [ func(x) for func in functions ] </pre>"
   ]
  },
  {
   "cell_type": "markdown",
   "metadata": {},
   "source": [
    "### Filtern\n",
    "\n",
    "Die Funktion\n",
    "\n",
    "Filter (Funktion, Reihenfolge)\n",
    "\n",
    "bietet eine elegante Möglichkeit, alle Elemente einer Sequenz \"Sequenz\" herauszufiltern, für die die Funktionsfunktion True zurückgibt. d.h. ein Element wird durch das Iteratorergebnis des Filters (Funktion, Sequenz) erzeugt, wenn das Element in der Sequenz \"Sequenz\" enthalten ist und wenn die Funktion (Element) True zurückgibt.\n",
    "\n",
    "Mit anderen Worten: Der Funktionsfilter (f, l) benötigt eine Funktion f als erstes Argument. f muss einen booleschen Wert zurückgeben, d. h. entweder True oder False. Diese Funktion wird auf jedes Element der Liste l angewendet. Nur wenn f True zurückgibt, wird das Element vom Iterator erzeugt. Dies ist der Rückgabewert des Filters (Funktion, Sequenz).\n",
    "\n",
    "Im folgenden Beispiel filtern wir zuerst die ungeraden und dann die geraden Elemente der Folge der ersten 11 Fibonacci-Zahlen heraus:"
   ]
  },
  {
   "cell_type": "code",
   "execution_count": 11,
   "metadata": {},
   "outputs": [
    {
     "name": "stdout",
     "output_type": "stream",
     "text": [
      "[1, 1, 3, 5, 13, 21, 55]\n"
     ]
    }
   ],
   "source": [
    "fibonacci = [0,1,1,2,3,5,8,13,21,34,55]\n",
    "ungerade_zahlen = list(filter(lambda x: x % 2, fibonacci))\n",
    "print(ungerade_zahlen)"
   ]
  },
  {
   "cell_type": "code",
   "execution_count": 12,
   "metadata": {},
   "outputs": [
    {
     "name": "stdout",
     "output_type": "stream",
     "text": [
      "[0, 2, 8, 34]\n"
     ]
    }
   ],
   "source": [
    "gerade_zahlen = list(filter(lambda x: x % 2 == 0, fibonacci))\n",
    "print(gerade_zahlen)"
   ]
  },
  {
   "cell_type": "code",
   "execution_count": 13,
   "metadata": {},
   "outputs": [
    {
     "name": "stdout",
     "output_type": "stream",
     "text": [
      "[0, 2, 8, 34]\n"
     ]
    }
   ],
   "source": [
    "gerade_zahlen = list(filter(lambda x: x % 2 -1, fibonacci))\n",
    "print(gerade_zahlen)"
   ]
  },
  {
   "cell_type": "markdown",
   "metadata": {},
   "source": [
    "### Eine Liste reduzieren\n",
    "Wie wir in der Einleitung dieses Kapitels unseres Tutorials erwähnt haben. reduce () wurde bei der Migration auf Python 3 aus dem Kern von Python entfernt. Guido van Rossum hasst reduce (), wie wir aus seiner Aussage in einem Posting vom 10. März 2005 auf artima.com erfahren können:\n",
    "\n",
    "     \"Also jetzt reduziere (). Dies ist eigentlich die, die ich immer am meisten gehasst habe, denn abgesehen von ein paar Beispielen mit + oder *, fast jedes Mal, wenn ich einen reduzierten () Aufruf mit einem nicht trivialen Funktionsargument sehe, ich Ich muss Stift und Papier greifen, um darzustellen, was tatsächlich in diese Funktion eingespeist wird, bevor ich verstehe, was reduce () tun soll. Meiner Meinung nach ist die Anwendbarkeit von reduce () also weitgehend auf assoziative Operatoren beschränkt In anderen Fällen ist es besser, die Akkumulationsschleife explizit auszuschreiben. \"\n",
    "\n",
    "Die Funktion\n",
    "\n",
    "reduzieren (func, seq)\n",
    "\n",
    "wendet kontinuierlich die Funktion func () auf die Sequenz seq an. Es wird ein einzelner Wert zurückgegeben.\n",
    "\n",
    "Wenn seq = [s1, s2, s3, ..., sn], funktioniert der Aufruf von reduce (func, seq) folgendermaßen:\n",
    "\n",
    "     Zuerst werden die ersten beiden Elemente von seq auf func angewendet, d. H. Func (s1, s2). Die Liste, auf der reduce () funktioniert, sieht jetzt folgendermaßen aus: [func (s1, s2), s3, ..., sn]\n",
    "     Im nächsten Schritt wird func auf das vorherige Ergebnis und das dritte Element der Liste angewendet, d. H. Func (func (s1, s2), s3).\n",
    "     Die Liste sieht jetzt so aus: [func (func (s1, s2), s3), ..., sn]\n",
    "     Fahren Sie so fort, bis nur noch ein Element übrig ist, und geben Sie dieses Element als Ergebnis von reduce () zurück.\n",
    "\n",
    "\n",
    "Wenn n gleich 4 ist, kann die vorherige Erklärung folgendermaßen dargestellt werden:\n",
    "\n",
    "<img class=\"img\" src=\"../images/reduce.webp\" srcset=\"../images/reduce_300w.webp 300w\"  alt=\"Reduce\" />\n",
    "\n",
    "Wir wollen diese Arbeitsweise von reduce() anhand eines einfachen Beispiels veranschaulichen. Wir müssen functools importieren, um reduzieren zu können:"
   ]
  },
  {
   "cell_type": "code",
   "execution_count": 25,
   "metadata": {},
   "outputs": [
    {
     "data": {
      "text/plain": [
       "113"
      ]
     },
     "execution_count": 25,
     "metadata": {},
     "output_type": "execute_result"
    }
   ],
   "source": [
    "import functools\n",
    "functools.reduce(lambda x,y: x+y, [47,11,42,13])"
   ]
  },
  {
   "cell_type": "markdown",
   "metadata": {},
   "source": [
    "Das folgende Diagramm zeigt die Zwischenschritte der Berechnung:\n",
    "\n",
    "<img class=\"img\" src=\"../images/reduce_diagram.webp\" srcset=\"../images/reduce_diagram_350w.webp 350w,../images/reduce_diagram_300w.webp 300w\" width=90% alt=\"Reduce: Method of operating\"/>"
   ]
  },
  {
   "cell_type": "markdown",
   "metadata": {},
   "source": [
    "### Beispiele für reduce ()\n",
    "Bestimmen des Maximums einer Liste numerischer Werte mithilfe von Reduzieren:"
   ]
  },
  {
   "cell_type": "code",
   "execution_count": 3,
   "metadata": {},
   "outputs": [
    {
     "data": {
      "text/plain": [
       "102"
      ]
     },
     "execution_count": 3,
     "metadata": {},
     "output_type": "execute_result"
    }
   ],
   "source": [
    "from functools import reduce\n",
    "f = lambda a,b: a if (a > b) else b\n",
    "reduce(f, [47,11,42,102,13])"
   ]
  },
  {
   "cell_type": "markdown",
   "metadata": {},
   "source": [
    "Berechnung der Summe der Zahlen von 1 bis 100:"
   ]
  },
  {
   "cell_type": "code",
   "execution_count": 5,
   "metadata": {},
   "outputs": [
    {
     "data": {
      "text/plain": [
       "5050"
      ]
     },
     "execution_count": 5,
     "metadata": {},
     "output_type": "execute_result"
    }
   ],
   "source": [
    "from functools import reduce\n",
    "reduce(lambda x, y: x+y, range(1,101))"
   ]
  },
  {
   "cell_type": "markdown",
   "metadata": {},
   "source": [
    "Es ist sehr einfach, das vorherige Beispiel zu ändern, um das Produkt (die Fakultät) von 1 in eine Zahl zu berechnen, aber wählen Sie nicht 100. Wir müssen nur den Operator \"+\" in \"*\" umwandeln:"
   ]
  },
  {
   "cell_type": "code",
   "execution_count": 6,
   "metadata": {},
   "outputs": [
    {
     "data": {
      "text/plain": [
       "12413915592536072670862289047373375038521486354677760000000000"
      ]
     },
     "execution_count": 6,
     "metadata": {},
     "output_type": "execute_result"
    }
   ],
   "source": [
    "reduce(lambda x, y: x*y, range(1,49))"
   ]
  },
  {
   "cell_type": "markdown",
   "metadata": {},
   "source": [
    "Wenn Sie in der Lotterie interessiert sind, sind hier die Chancen, eine 6 von 49 Ziehungen zu gewinnen:"
   ]
  },
  {
   "cell_type": "code",
   "execution_count": 7,
   "metadata": {},
   "outputs": [
    {
     "data": {
      "text/plain": [
       "13983816.0"
      ]
     },
     "execution_count": 7,
     "metadata": {},
     "output_type": "execute_result"
    }
   ],
   "source": [
    "reduce(lambda x, y: x*y, range(44,50))/reduce(lambda x, y: x*y, range(1,7))"
   ]
  },
  {
   "cell_type": "markdown",
   "metadata": {},
   "source": [
    "### Übungen\n",
    "\n",
    "1) Stellen Sie sich eine Buchhaltungsroutine vor, die in einem Buchladen verwendet wird. Es funktioniert auf einer Liste mit Unterlisten, die folgendermaßen aussehen:\n",
    "\n",
    "    Order Number \tBook Title and Author \t           Quantity \tPrice per Item\n",
    "    34587 \t        Learning Python, Mark Lutz \t           4 \t      40.95\n",
    "    98762 \t        Programming Python, Mark Lutz \t       5 \t      56.80\n",
    "    77226 \t        Head First Python, Paul Barry \t       3 \t      32.95\n",
    "    88112 \t        Einführung in Python3, Bernd Klein \t   3 \t      24.99\n",
    "    \n",
    "    \n",
    "  Schreiben Sie ein Python-Programm, das eine Liste mit 2 Tupeln zurückgibt. Jedes Tupel besteht aus einer Bestellnummer und dem Produkt aus dem Preis pro Artikel und der Menge. Das Produkt sollte um 10, - € erhöht werden, wenn der Wert der Bestellung kleiner als 100,00 € ist.\n",
    "     Schreiben Sie ein Python-Programm mit Lambda und Map.\n",
    "\n",
    "2) Dieselbe Buchhandlung, aber diesmal arbeiten wir an einer anderen Liste. Die Unterlisten unserer Listen sehen folgendermaßen aus:\n",
    "     [Bestellnummer, (Artikelnummer, Menge, Preis pro Einheit), ... (Artikelnummer, Menge, Preis pro Einheit)]\n",
    "     Schreiben Sie ein Programm, das eine Liste von zwei Tupeln mit (Bestellnummer, Gesamtbestellmenge) zurückgibt.\n",
    "\n",
    "\n",
    "### Solutions to the Exercises   \n"
   ]
  },
  {
   "cell_type": "code",
   "execution_count": 14,
   "metadata": {},
   "outputs": [
    {
     "name": "stdout",
     "output_type": "stream",
     "text": [
      "[('34587', 163.8), ('98762', 284.0), ('77226', 108.85000000000001), ('88112', 84.97)]\n"
     ]
    }
   ],
   "source": [
    "bestellungen = [ [\"34587\", \"Learning Python, Mark Lutz\", 4, 40.95], \n",
    "           [\"98762\", \"Programming Python, Mark Lutz\", 5, 56.80], \n",
    "           [\"77226\", \"Head First Python, Paul Barry\", 3,32.95],\n",
    "           [\"88112\", \"Einführung in Python3, Bernd Klein\", \t3, 24.99]]\n",
    "\n",
    "min_bestellung= 100\n",
    "rechnung_summen = list(map(lambda x: x if x[1] >= min_bestellung else (x[0], x[1] + 10), \n",
    "                  map(lambda x: (x[0],x[2] * x[3]), bestellungen)))\n",
    "\n",
    "print(rechnung_summen)"
   ]
  },
  {
   "cell_type": "code",
   "execution_count": 17,
   "metadata": {},
   "outputs": [
    {
     "name": "stdout",
     "output_type": "stream",
     "text": [
      "[[1, 678.3299999999999], [2, 494.46000000000004], [3, 364.79999999999995], [4, 492.57]]\n"
     ]
    }
   ],
   "source": [
    "from functools import reduce\n",
    "\n",
    "bestellungen = [ [1, (\"5464\", 4, 9.99), (\"8274\",18,12.99), (\"9744\", 9, 44.95)], \n",
    "           [2, (\"5464\", 9, 9.99), (\"9744\", 9, 44.95)],\n",
    "           [3, (\"5464\", 9, 9.99), (\"88112\", 11, 24.99)],\n",
    "           [4, (\"8732\", 7, 11.99), (\"7733\",11,18.99), (\"88112\", 5, 39.95)] ]\n",
    "\n",
    "min_bestellung = 100\n",
    "rechnung_summen = list(map(lambda x: [x[0]] + list(map(lambda y: y[1]*y[2], x[1:])), bestellungen))\n",
    "rechnung_summen = list(map(lambda x: [x[0]] + [reduce(lambda a,b: a + b, x[1:])], rechnung_summen))\n",
    "rechnung_summen = list(map(lambda x: x if x[1] >= min_bestellung else (x[0], x[1] + 10), rechnung_summen))\n",
    "\n",
    "print(rechnung_summen)"
   ]
  }
 ],
 "metadata": {
  "kernelspec": {
   "display_name": "Python 3",
   "language": "python",
   "name": "python3"
  },
  "language_info": {
   "codemirror_mode": {
    "name": "ipython",
    "version": 3
   },
   "file_extension": ".py",
   "mimetype": "text/x-python",
   "name": "python",
   "nbconvert_exporter": "python",
   "pygments_lexer": "ipython3",
   "version": "3.8.8"
  }
 },
 "nbformat": 4,
 "nbformat_minor": 2
}
