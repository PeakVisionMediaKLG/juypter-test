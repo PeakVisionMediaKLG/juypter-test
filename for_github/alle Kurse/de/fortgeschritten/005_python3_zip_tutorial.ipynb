{
 "cells": [
  {
   "cell_type": "markdown",
   "metadata": {},
   "source": [
    "## Zip Einführung\n",
    "### Einführung\n",
    "\n",
    "<img height = 200 width = 300 class = \"imgright\" src = \"../images/text_zip.webp\" alt = \"Infektionsrate\" />\n",
    "\n",
    "In diesem Kapitel unseres Python-Tutorials beschäftigen wir uns mit der wunderbaren und äußerst nützlichen Funktionalität ```zip```. Leider sind Anfänger von Python oft unnötig verwirrt und haben Angst vor der ```zip```-Funktion. Zum einen ist der Name verwirrend, denn viele Leute verwechseln die ```zip```-Funktion von Python mit dem bekannten Archivdateiformat ZIP, das für die verlustfreie Datenkomprimierung verwendet wird. Da diese Datenkomprimierung nicht nur den erforderlichen Speicherplatz sehr klein hält, sondern auch sehr schnell ausgeführt wird, wurde der Name 'zip' gewählt. In diesem Zusammenhang bedeutet ```zip``` \"schnell handeln oder sich schnell bewegen\".\n",
    "\n",
    "Das ```zip``` von Python hat absolut nichts damit zu tun. Die Funktionalität 'zip' in Python basiert auf einer anderen Bedeutung des englischen Wortes 'zip', nämlich \"etwas mit einem Reißverschluss schließen\".\n",
    "\n",
    "Wir werden sehen, dass ```zip``` sehr einfach zu verstehen sein kann.  Beginnen wir mit einfachen Beispielen, bevor wir versuchen, die Theorie hinter zip zu vereinfachen.\n",
    "\n",
    "Wir beginnen mit zwei Listen und wenden zip auf diese beiden Listen an:"
   ]
  },
  {
   "cell_type": "code",
   "execution_count": 1,
   "metadata": {},
   "outputs": [
    {
     "name": "stdout",
     "output_type": "stream",
     "text": [
      "<zip object at 0x7f9fd41cb5a0>\n"
     ]
    }
   ],
   "source": [
    "buchstaben = [\"a\", \"b\", \"c\", \"d\", \"e\", \"f\"]\n",
    "zahlen = [5, 3, 7, 9, 11, 2]\n",
    "\n",
    "print(zip(buchstaben, zahlen))"
   ]
  },
  {
   "cell_type": "markdown",
   "metadata": {},
   "source": [
    "Das Ergebnis ist ein ```zip```-Objekt und man ist nicht klüger als zuvor, wenn man ```zip``` nicht kennt. Die Anwendung von ```zip``` gibt einen Iterator zurück, der in der Lage ist Tupel zu erzeugen. Es werden die ersten Elemente der iterierbaren Parameter (in unseren Beispiel handelt es sich am Listen) zu einem Tupel zusammengefasst, danach werden die zweiten Elemente zusammengefügt, dann die dritten und so weiter. Es stoppt, wenn einer der Parameter am Ende ist, d.h. ss sind keine weiteren Elemente verfügbar.\n",
    "\n",
    "Der beste Weg, um zu sehen, was die ```zip```-Funktion erstellt, besteht darin, sie in einer ```for```-Schleife zu verwenden."
   ]
  },
  {
   "cell_type": "code",
   "execution_count": 2,
   "metadata": {},
   "outputs": [
    {
     "name": "stdout",
     "output_type": "stream",
     "text": [
      "('a', 5)\n",
      "('b', 3)\n",
      "('c', 7)\n",
      "('d', 9)\n",
      "('e', 11)\n",
      "('f', 2)\n"
     ]
    }
   ],
   "source": [
    "for t in zip(buchstaben, zahlen):\n",
    "    print(t)"
   ]
  },
  {
   "cell_type": "markdown",
   "metadata": {},
   "source": [
    "Wenn Sie sich die Ausgabe oben und das folgende Bild genau ansehen, werden Sie hoffentlich verstehen, warum zip etwas mit einem Reißverschluss zu tun hat und warum sie den Namen gewählt haben.\n",
    "\n",
    "<img height = 200 width = 350 class = \"imgright\" src = \"../images/zip_two_lists.webp\" alt = \"Zuordnung von zwei Listen zu einem Reißverschluss\" />\n",
    "\n",
    "zip kann eine beliebige Anzahl von iterierbaren Argumenten haben, wie wir im folgenden Beispiel sehen können:"
   ]
  },
  {
   "cell_type": "code",
   "execution_count": 3,
   "metadata": {},
   "outputs": [
    {
     "name": "stdout",
     "output_type": "stream",
     "text": [
      "('Helgoland', 1021.2, 6.0, 4)\n",
      "('Kiel', 1019.9, 4.3, 27)\n",
      "('Berlin-Tegel', 1023.7, 2.7, 37)\n",
      "('Konstanz', 1023.1, -1.4, 443)\n",
      "('Hohenpeißenberg', 1027.7, -4.4, 977)\n"
     ]
    }
   ],
   "source": [
    "ort = [\"Helgoland\", \"Kiel\", \n",
    "       \"Berlin-Tegel\", \"Konstanz\", \n",
    "       \"Hohenpeißenberg\"]\n",
    "luftdruck = [1021.2, 1019.9, 1023.7, 1023.1, 1027.7]\n",
    "temperaturen = [6.0, 4.3, 2.7, -1.4, -4.4]\n",
    "höhe = [4, 27, 37, 443, 977]\n",
    "                \n",
    "for t in zip(ort, luftdruck, temperaturen, höhe):\n",
    "    print(t)"
   ]
  },
  {
   "cell_type": "markdown",
   "metadata": {},
   "source": [
    "Die Verwendung von zip ist nicht auf Listen und Tupel beschränkt. Es kann natürlich auf alle iterierbaren Objekte wie Listen, Tupel, Zeichenfolgen, Wörterbücher, Mengen, Bereiche und vieles mehr angewendet werden."
   ]
  },
  {
   "cell_type": "code",
   "execution_count": 4,
   "metadata": {},
   "outputs": [
    {
     "name": "stdout",
     "output_type": "stream",
     "text": [
      "(1000, 'Schinken')\n",
      "(1001, 'Spam')\n",
      "(1002, 'Käse')\n"
     ]
    }
   ],
   "source": [
    "lebensmittel = [\"Schinken\", \"Spam\", \"Käse\"]\n",
    "\n",
    "for artikel in zip(range(1000, 1003), lebensmittel):\n",
    "    print(artikel)"
   ]
  },
  {
   "cell_type": "markdown",
   "metadata": {},
   "source": [
    "### Aufruf von zip ohne Argumente\n",
    "\n",
    "Wir wollen nun schauen, was passiert, wenn wir ```zip``` ohne Parameter aufrufen:"
   ]
  },
  {
   "cell_type": "code",
   "execution_count": 5,
   "metadata": {},
   "outputs": [],
   "source": [
    "for i in zip():\n",
    "    print(\"Dies wird nicht gedruckt\")"
   ]
  },
  {
   "cell_type": "markdown",
   "metadata": {},
   "source": [
    "Der Körper der Schleife wurde nicht ausgeführt!"
   ]
  },
  {
   "cell_type": "markdown",
   "metadata": {},
   "source": [
    "### Aufruf von zip mit einem iterierbaren Objekt\n",
    "\n",
    "Was passiert, wenn wir zip mit nur einem Argument aufrufen, z. einem String:"
   ]
  },
  {
   "cell_type": "code",
   "execution_count": 6,
   "metadata": {},
   "outputs": [
    {
     "name": "stdout",
     "output_type": "stream",
     "text": [
      "('P',)\n",
      "('y',)\n",
      "('t',)\n",
      "('h',)\n",
      "('o',)\n",
      "('n',)\n"
     ]
    }
   ],
   "source": [
    "s = \"Python\"\n",
    "for t in zip(s):\n",
    "    print(t)"
   ]
  },
  {
   "cell_type": "markdown",
   "metadata": {},
   "source": [
    "Dieser Aufruf erstellt also einen Iterator, der Tupel mit einem einzigen Element erzeugt, in unserem Fall den Zeichen der Zeichenfolge.\n",
    "\n",
    "### Parameter mit unterschiedlichen Längen\n",
    "\n",
    "Wie wir gesehen haben, kann ```zip``` mit einer beliebigen Anzahl von iterierbaren Objekten als Argumente aufgerufen werden. Bisher war die Anzahl der Elemente oder die Länge dieser iterierbaren Objekte gleich gewesen. Dies ist nicht erforderlich. Wenn die Längen unterschiedlich sind, erzeugt ```zip``` keine Ausgabe mehr, sobald eine der Argumentsequenzen erschöpft ist. \"Erzeugt keine Ausgaben mehr\" bedeutet, dass eine ```StopIteration```-Ausnahme ausgelöst wird. Diese Ausnahme wird von der ```for```-Schleife abgefangen. Weitere Informationen zu dieser Arbeitsweise finden Sie im Kapitel [\"Iteratoren und Iterable\"](\"python3_iterable_iterator.php\") unseres Python-Tutorials.\n",
    "\n",
    "Das folgende Beispiel ist ein Zip-Anruf mit zwei Listen von unterschiedlichen Längen:"
   ]
  },
  {
   "cell_type": "code",
   "execution_count": 8,
   "metadata": {},
   "outputs": [
    {
     "name": "stdout",
     "output_type": "stream",
     "text": [
      "BMW green\n",
      "Alfa Romeo red\n"
     ]
    }
   ],
   "source": [
    "farben = [\"green\", \"red\", \"blue\"]\n",
    "autos = [\"BMW\", \"Alfa Romeo\"]\n",
    "\n",
    "for auto, farbe in zip(autos, farben):\n",
    "    print(auto, farbe)"
   ]
  },
  {
   "cell_type": "markdown",
   "metadata": {},
   "source": [
    "### Erweiterte Verwendung von zip\n",
    "\n",
    "Wir haben eine Liste mit den sechs größten Städten der Schweiz. Sie besteht aus Tupeln mit Paaren, bestehend aus Stadtname und der Bevölkerungszahl:"
   ]
  },
  {
   "cell_type": "code",
   "execution_count": 6,
   "metadata": {},
   "outputs": [],
   "source": [
    "städte_und_bevölkerung = [(\"Zurich\", 415367),\n",
    "                         (\"Geneva\", 201818),\n",
    "                         (\"Basel\", 177654),\n",
    "                         (\"Lausanne\", 139111),\n",
    "                         (\"Bern\", 133883),\n",
    "                         (\"Winterthur\", 111851)]"
   ]
  },
  {
   "cell_type": "markdown",
   "metadata": {},
   "source": [
    "Die Aufgabe besteht darin, zwei Listen zu erstellen: eine mit den Städtenamen und eine mit den Bevölkerungszahlen. ```zip``` ist die Lösung für dieses Problem, aber wir müssen auch den Sternoperator verwenden, um die Liste zu entpacken:"
   ]
  },
  {
   "cell_type": "code",
   "execution_count": 7,
   "metadata": {},
   "outputs": [
    {
     "name": "stdout",
     "output_type": "stream",
     "text": [
      "('Zurich', 'Geneva', 'Basel', 'Lausanne', 'Bern', 'Winterthur')\n",
      "(415367, 201818, 177654, 139111, 133883, 111851)\n"
     ]
    }
   ],
   "source": [
    "städte, bevölkerung = list(zip(*städte_und_bevölkerung))\n",
    "print(städte)\n",
    "print(bevölkerung)"
   ]
  },
  {
   "cell_type": "markdown",
   "metadata": {},
   "source": [
    "Obiges Vorgehen ist beispielsweise erforderlich, wenn wir diese Daten plotten möchten. Dies ist nur ein anschauliches Beispiel und es ist nicht notwendig, es vollständig zu verstehen. Sie müssen mit [Pandas](pandas_DataFrame.php) vertraut sein. Im folgenden Programm wird davon ausgegangen, dass zu Beginn nur die kombinierte Liste verfügbar ist:"
   ]
  },
  {
   "cell_type": "code",
   "execution_count": 8,
   "metadata": {},
   "outputs": [
    {
     "data": {
      "text/plain": [
       "<matplotlib.axes._subplots.AxesSubplot at 0x7f9fb92b0e50>"
      ]
     },
     "execution_count": 8,
     "metadata": {},
     "output_type": "execute_result"
    },
    {
     "data": {
      "image/png": "[encoded data removed]",
      "text/plain": [
       "<Figure size 432x288 with 1 Axes>"
      ]
     },
     "metadata": {
      "needs_background": "light"
     },
     "output_type": "display_data"
    }
   ],
   "source": [
    "import pandas as pd\n",
    "\n",
    "städte_und_bevölkerung = [(\"Zurich\", 415367),\n",
    "                         (\"Geneva\", 201818),\n",
    "                         (\"Basel\", 177654),\n",
    "                         (\"Lausanne\", 139111),\n",
    "                         (\"Bern\", 133883),\n",
    "                         (\"Winterthur\", 111851)]\n",
    "\n",
    "städte, bevölkerung = list(zip(*städte_und_bevölkerung))\n",
    "s = pd.Series(bevölkerung, index=städte)\n",
    "\n",
    "s.plot(kind=\"bar\")"
   ]
  },
  {
   "cell_type": "markdown",
   "metadata": {},
   "source": [
    "### Konvertieren von zwei Iterables in ein dictionary\n",
    "\n",
    "```zip``` bietet uns auch eine hervorragende Möglichkeit, zwei Iterables in ein Dictionary umzuwandeln. Natürlich nur, wenn diese Iterables bestimmte Anforderungen erfüllen. Das Iterable, das als Schlüssel verwendet werden soll, muss eindeutig sein und darf nur aus unveränderlichen Elementen bestehen. Wir demonstrieren dies anhand des folgenden Morsecode-Beispiels. Das vollständige Morsecode-Alphabet finden Sie in unserem Kapitel über [Wörterbücher](python3_dictionaries.php):\n"
   ]
  },
  {
   "cell_type": "code",
   "execution_count": 9,
   "metadata": {},
   "outputs": [
    {
     "name": "stdout",
     "output_type": "stream",
     "text": [
      "{'a': '.-', 'b': '-...', 'c': '-.-.', 'd': '-..', 'e': '.', 'f': '..-.'}\n"
     ]
    }
   ],
   "source": [
    "abc = \"abcdef\"\n",
    "morse_kar = [\".-\", \"-...\", \"-.-.\", \"-..\", \".\", \"..-.\"]\n",
    "               \n",
    "text2morse = dict(zip(abc, morse_kar))\n",
    "print(text2morse)"
   ]
  },
  {
   "cell_type": "markdown",
   "metadata": {},
   "source": [
    "### Fußnoten\n",
    "\n",
    "<sub> 1 </sub> ie Daten stammen vom 1. April 2020, kein Scherz. Die Standorte wurden beliebig gewählt. Es gibt jedoch einen besonderen Grund, warum ich mich für Hohenpeißenberg entschieden hatte. Auf dem Hohenpeißenberg wurde ich eingeladen, zwei unvergessliche Python-Kurse für den deutschen Wetterdienst zu geben: Tolle Leute und eine fantastische Aussicht!"
   ]
  }
 ],
 "metadata": {
  "kernelspec": {
   "display_name": "Python 3",
   "language": "python",
   "name": "python3"
  },
  "language_info": {
   "codemirror_mode": {
    "name": "ipython",
    "version": 3
   },
   "file_extension": ".py",
   "mimetype": "text/x-python",
   "name": "python",
   "nbconvert_exporter": "python",
   "pygments_lexer": "ipython3",
   "version": "3.7.6"
  }
 },
 "nbformat": 4,
 "nbformat_minor": 4
}
