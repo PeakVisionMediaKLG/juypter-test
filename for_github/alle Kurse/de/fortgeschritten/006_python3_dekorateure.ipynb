{
 "cells": [
  {
   "cell_type": "markdown",
   "metadata": {},
   "source": [
    "## Dekorateure\n",
    "\n",
    "### Einführung\n",
    "<img class=\"imgright\" src=\"../images/decorators_with_at.webp\" srcset=\"../images/decorators_with_at_300w.webp 300w\" alt=\"decorators\" />\n",
    "\n",
    "Dekorateure gehören vermutlich zu den leistungsstärksten Design-Möglichkeiten von Python. Gleichzeitig wird es von vielen als schwierig betrachtet, einen Einstieg in die Thematik zu finden. Um es genauer zu sagen: Die Nutzung von Dekorateuren ist einfach. Aber das Schreiben von Dekorateuren kann sich als kompliziert erweisen, insbesondere dann, wenn man noch nicht sehr erfahren ist. In Python gibt es zwei verschiedene Arten von Dekorateuren:\n",
    "\n",
    "- Funktions-Dekorateure\n",
    "- Klassen-Dekorateure \n",
    "\n",
    "Ein Dekorateur in Python ist ein beliebiges aufrufbares Python-Objekt, welches zur Modifikation einer Funktion oder einer Klasse genutzt wird. Eine Referenz zu einer Funktion \"func\" oder einer Klasse \"C\" wird an den Dekorateur übergeben und der Dekorateur liefert eine modifizierte Funktion oder Klasse zurück. Die modifizierten Funktionen oder Klassen rufen üblicherweise intern die Original-Funktion \"func\" oder -Klasse \"C\" auf.\n",
    "\n",
    "Sie können ebenfalls das Kapitel zu [Memoisation](https://www.python-kurs.eu/python3_memoisation.php) durcharbeiten.\n",
    "\n",
    "Sollten Sie die Grafik auf der rechten Seite mögen und Sie auch noch Interesse an Bildbearbeitung mit Python, Numpy, Scipy und Matplotlib haben, sollten Sie definitiv auch das Kapitel [Techniken der Bildverarbeitung](https://www.python-kurs.eu/bildverarbeitungs_techniken.php) anschauen. Dort wird der gesamte Prozess der Erzeugung unserer Grafik erklärt.\n",
    "\n",
    "### Vorübungen zu Dekorateuren\n",
    "\n",
    "Aus Erfahrung können wir sagen, dass es für Anfänger beim Thema Dekorateure einige Schwierigkeiten mit der Benutzung von Funktionen gibt. Aus diesem Grund wiederholen wir an dieser Stelle einige wichtige Aspekte der Funktionen.\n",
    "\n",
    "Funktionsnamen sind Referenzen auf Funktionen, und wir können mehrere Funktionsnamen für ein und dieselbe Funktion vergeben:"
   ]
  },
  {
   "cell_type": "code",
   "execution_count": 1,
   "metadata": {},
   "outputs": [
    {
     "data": {
      "text/plain": [
       "11"
      ]
     },
     "execution_count": 1,
     "metadata": {},
     "output_type": "execute_result"
    }
   ],
   "source": [
    "def nachfg(x):\n",
    "     return x + 1\n",
    "\n",
    "nachfolger = nachfg\n",
    "nachfolger(10)"
   ]
  },
  {
   "cell_type": "code",
   "execution_count": 2,
   "metadata": {},
   "outputs": [
    {
     "data": {
      "text/plain": [
       "11"
      ]
     },
     "execution_count": 2,
     "metadata": {},
     "output_type": "execute_result"
    }
   ],
   "source": [
    "nachfg(10)"
   ]
  },
  {
   "cell_type": "markdown",
   "metadata": {},
   "source": [
    "Wir haben jetzt also zwei Namen (```nachfg``` und ```nachfolger```) für ein und dieselbe Funktion.\n",
    "\n",
    "Der nächste wichtige Punkt ist, dass wir ```nachfg``` oder ```nachfolger``` löschen können, ohne die eigentliche Funktion zu entfernen."
   ]
  },
  {
   "cell_type": "code",
   "execution_count": 3,
   "metadata": {},
   "outputs": [
    {
     "data": {
      "text/plain": [
       "11"
      ]
     },
     "execution_count": 3,
     "metadata": {},
     "output_type": "execute_result"
    }
   ],
   "source": [
    "del nachfg\n",
    "nachfolger(10)"
   ]
  },
  {
   "cell_type": "markdown",
   "metadata": {},
   "source": [
    "#### Funktionen in Funktionen\n",
    "Das Konzept von verschachtelten Funktionen, also Funktionsdefinitionen innerhalb einer Funktion, ist für C/C++-Programmierer völlig neu:"
   ]
  },
  {
   "cell_type": "code",
   "execution_count": 4,
   "metadata": {},
   "outputs": [
    {
     "name": "stdout",
     "output_type": "stream",
     "text": [
      "Dies ist die Funktion 'f'\n",
      "'f' ruft nun 'g' auf!\n",
      "Hallo, ich bin es, 'g'\n",
      "Danke für's Aufrufen\n"
     ]
    }
   ],
   "source": [
    "def f():\n",
    "    \n",
    "    def g():\n",
    "        print(\"Hallo, ich bin es, 'g'\")\n",
    "        print(\"Danke für's Aufrufen\")\n",
    "        \n",
    "    print(\"Dies ist die Funktion 'f'\")\n",
    "    print(\"'f' ruft nun 'g' auf!\")\n",
    "    g()\n",
    "\n",
    "f()"
   ]
  },
  {
   "cell_type": "markdown",
   "metadata": {},
   "source": [
    "Es folgt nun ein Beispiel mit einer \"richtigen\" Funktion im Inneren mit einer return-Anweisungen:"
   ]
  },
  {
   "cell_type": "code",
   "execution_count": 5,
   "metadata": {},
   "outputs": [
    {
     "name": "stdout",
     "output_type": "stream",
     "text": [
      "Es ist 68.0 grad!\n"
     ]
    }
   ],
   "source": [
    "def Temperatur(t):\n",
    "    def celsius2fahrenheit(x):\n",
    "        return 9 * x / 5 + 32\n",
    "\n",
    "    Ergebnis = \"Es ist \" + str(celsius2fahrenheit(t)) + \" grad!\" \n",
    "    return Ergebnis\n",
    "\n",
    "print(Temperatur(20))"
   ]
  },
  {
   "cell_type": "markdown",
   "metadata": {},
   "source": [
    "#### Funktionen als Parameter\n",
    "Wenn wir die Beispiele für sich betrachten, dann nützen sie nicht viel. Brauchbar werden sie erst in Kombination mit zwei weiteren starken Möglichkeiten der Python-Funktionen.\n",
    "\n",
    "Jeder Parameter einer Funktion ist eine Referenz auf ein Objekt. Und Funktionen sind ebenfalls Objekte. Somit können wir Funktionen, oder besser \"Referenzen auf Funktionen\", ebenfalls als Argumente an Funktionen übergeben. Wir demonstrieren am folgenden Beispiel:\n"
   ]
  },
  {
   "cell_type": "code",
   "execution_count": 39,
   "metadata": {},
   "outputs": [
    {
     "name": "stdout",
     "output_type": "stream",
     "text": [
      "Hallo, ich bin es\n",
      "Ich werde jetzt 'func' aufrufen\n",
      "Hallo, ich bin es, 'g'\n",
      "Danke für's Aufrufen\n"
     ]
    }
   ],
   "source": [
    "def g():\n",
    "    print(\"Hallo, ich bin es, 'g'\")\n",
    "    print(\"Danke für's Aufrufen\")\n",
    "    \n",
    "def f(func):\n",
    "    print(\"Hallo, ich bin es\")\n",
    "    print(\"Ich werde jetzt 'func' aufrufen\")\n",
    "    func()\n",
    "          \n",
    "f(g)"
   ]
  },
  {
   "cell_type": "markdown",
   "metadata": {},
   "source": [
    "Möglicherweise sind Sie mit der Ausgabe nicht ganz zufrieden. 'f' sollte ausgeben, dass 'g' aufgerufen wird, und nicht 'func'. Dazu müssen wir den \"wirklichen\" Namen von 'func' wissen. In diesem Fall können wir das Attribut ```__name__``` des Funktions-Objekts benutzen, welches den Namen der Funktion beinhaltet:\n"
   ]
  },
  {
   "cell_type": "code",
   "execution_count": 40,
   "metadata": {},
   "outputs": [
    {
     "name": "stdout",
     "output_type": "stream",
     "text": [
      "Hallo, ich bin es​, 'f'\n",
      "Ich werde jetzt 'func' aufrufen\n",
      "Hallo, ich bin es​, 'g'\n",
      "Danke für's Aufrufen\n",
      "func's echter Name ist g\n"
     ]
    }
   ],
   "source": [
    "def g():\n",
    "    print(\"Hallo, ich bin es​, 'g'\")\n",
    "    print(\"Danke für's Aufrufen\")\n",
    "    \n",
    "def f(func):\n",
    "    print(\"Hallo, ich bin es​, 'f'\")\n",
    "    print(\"Ich werde jetzt 'func' aufrufen\")\n",
    "    func()\n",
    "    print(\"func's echter Name ist \" + func.__name__) \n",
    "          \n",
    "f(g)"
   ]
  },
  {
   "cell_type": "markdown",
   "metadata": {},
   "source": [
    "Einmal mehr zeigt die Ausgabe, was hier passiert."
   ]
  },
  {
   "cell_type": "markdown",
   "metadata": {},
   "source": [
    "Noch ein Beispiel:"
   ]
  },
  {
   "cell_type": "code",
   "execution_count": 43,
   "metadata": {},
   "outputs": [
    {
     "name": "stdout",
     "output_type": "stream",
     "text": [
      "Die Funktion sin wurde an foo übergeben\n",
      "2.3492405557375347\n",
      "Die Funktion cos wurde an foo übergeben\n",
      "-0.6769881462259364\n"
     ]
    }
   ],
   "source": [
    "import math\n",
    "\n",
    "def foo(func):\n",
    "    print(\"Die Funktion \" + func.__name__ + \" wurde an foo übergeben\")\n",
    "    res = 0\n",
    "    for x in [1, 2, 2.5]:\n",
    "        res += func(x)\n",
    "    return res\n",
    "\n",
    "print(foo(math.sin))\n",
    "print(foo(math.cos))"
   ]
  },
  {
   "cell_type": "markdown",
   "metadata": {},
   "source": [
    "#### Funktionen geben Funktionen zurück\n",
    "Die Rückgabe einer Funktion ist auch eine Referenz auf ein Objekt. Somit können auch Referenzen auf Funktionen zurückgegeben werden.\n"
   ]
  },
  {
   "cell_type": "code",
   "execution_count": 44,
   "metadata": {},
   "outputs": [
    {
     "name": "stdout",
     "output_type": "stream",
     "text": [
      "5\n",
      "7\n"
     ]
    }
   ],
   "source": [
    "def f(x):\n",
    "    def g(y):\n",
    "        return y + x + 3 \n",
    "    return g\n",
    "\n",
    "nf1 = f(1)\n",
    "nf2 = f(3)\n",
    "\n",
    "print(nf1(1))\n",
    "print(nf2(1))"
   ]
  },
  {
   "cell_type": "markdown",
   "metadata": {},
   "source": [
    "### Ein einfacher Dekorateur\n",
    "Jetzt haben wir alles um unseren ersten einfachen Dekorateur zu bauen:\n"
   ]
  },
  {
   "cell_type": "code",
   "execution_count": 6,
   "metadata": {},
   "outputs": [
    {
     "name": "stdout",
     "output_type": "stream",
     "text": [
      "Wir rufen foo vor der Dekoration auf:\n",
      "Hallo, foo wurde mit aufgerufen Hi\n",
      "Wir dekorieren jetzt foo mit f:\n",
      "Wir rufen foo nach der Dekoration auf:\n",
      "Vor dem Aufruf foo\n",
      "Hallo, foo wurde mit aufgerufen 42\n",
      "Nach dem Aufruf foo\n"
     ]
    }
   ],
   "source": [
    "def ein_dekorateur(func):\n",
    "    def hilfsfunktion(x):\n",
    "        print(\"Vor dem Aufruf \" + func.__name__)\n",
    "        func(x)\n",
    "        print(\"Nach dem Aufruf \" + func.__name__)\n",
    "    return hilfsfunktion\n",
    "\n",
    "def foo(x):\n",
    "    print(\"Hallo, foo wurde mit aufgerufen \" + str(x))\n",
    "\n",
    "print(\"Wir rufen foo vor der Dekoration auf:\")\n",
    "foo(\"Hi\")\n",
    "    \n",
    "print(\"Wir dekorieren jetzt foo mit f:\")\n",
    "foo = ein_dekorateur(foo)\n",
    "\n",
    "print(\"Wir rufen foo nach der Dekoration auf:\")\n",
    "foo(42)"
   ]
  },
  {
   "cell_type": "markdown",
   "metadata": {},
   "source": [
    "Wenn wir uns die folgende Ausgabe anschauen, dann sehen wir was passiert. Nach der Dekoration ```foo = ein_dekorateur(foo)``` ist foo eine Referenz auf die Funktion ```hilfsfunktion```. foo wird innerhalb von ```hilfsfunktion``` aufgerufen, aber vorher und nachher wird noch etwas code ausgeführt. In diesem Beispiel zwei  ```print```-Funktionen."
   ]
  },
  {
   "cell_type": "markdown",
   "metadata": {},
   "source": [
    "### Die übliche Dekorateur-Syntax in Python\n",
    "Die Dekoration in Python wird in der Regel nicht so gemacht, wie wir es im vorigen Beispiel gezeigt haben. Die Schreibweise ```foo = ein_dekorateur(foo)``` ist zwar einfach zu verstehen und einprägsam, aber in dem Beispiel zeigt sich auch ein Problem. ```foo``` wird in dem vorigen Programm in zwei Versionen benutzt, nämlich vor der Dekoration und nach der Dekoration.\n",
    "\n",
    "Der übliche Weg eine selbst-definierte Funktion zu dekorieren, passiert in der Zeile über dem Funktions-Kopf. Dort schreibt man ein \"@\"-Zeichen gefolgt von dem Funktionsnamen des Dekorateurs.\n",
    "\n",
    "Wir ersetzen diese Anweisung\n",
    "\n",
    "<pre>\n",
    "foo = ein_dekorateur(foo)\n",
    "</pre>\n",
    "durch\n",
    "\n",
    "<pre>\n",
    "@ein_dekorateur\n",
    "</pre>\n",
    "Diese Zeile muss direkt über der zu dekorierenden Funktion platziert werden. Das komplette Beispiel sieht nun folgendermaßen aus:"
   ]
  },
  {
   "cell_type": "code",
   "execution_count": 7,
   "metadata": {},
   "outputs": [
    {
     "name": "stdout",
     "output_type": "stream",
     "text": [
      "Vor dem Aufruf foo\n",
      "Hallo, foo wurde mit aufgerufen Hallo \n",
      "Nach dem Aufruf foo\n"
     ]
    }
   ],
   "source": [
    "def ein_dekorateur(func):\n",
    "    def hilfsfunktion(x):\n",
    "        print(\"Vor dem Aufruf \" + func.__name__)\n",
    "        func(x)\n",
    "        print(\"Nach dem Aufruf \" + func.__name__)\n",
    "    return hilfsfunktion\n",
    "\n",
    "@ein_dekorateur\n",
    "def foo(x):\n",
    "    print(\"Hallo, foo wurde mit aufgerufen \" + str(x))\n",
    "\n",
    "foo(\"Hallo \")"
   ]
  },
  {
   "cell_type": "markdown",
   "metadata": {},
   "source": [
    "Wir können auch andere Funktionen mit einem Parameter mit unserem Dekorateur dekorieren.  Im Folgenden werden wir dies demonstrieren. Wir haben ```hilfsfunktion``` etwas verändert, so das wir die Funktions-Aufrufe sehen können:"
   ]
  },
  {
   "cell_type": "code",
   "execution_count": 8,
   "metadata": {},
   "outputs": [
    {
     "name": "stdout",
     "output_type": "stream",
     "text": [
      "Vor dem Aufruf nachfg\n",
      "11\n",
      "Nach dem Aufruf nachfg\n"
     ]
    }
   ],
   "source": [
    "def ein_dekorateur(func):\n",
    "    def hilfsfunktion(x):\n",
    "        print(\"Vor dem Aufruf \" + func.__name__)\n",
    "        res = func(x)\n",
    "        print(res)\n",
    "        print(\"Nach dem Aufruf \" + func.__name__)\n",
    "    return hilfsfunktion\n",
    "\n",
    "@ein_dekorateur\n",
    "def nachfg(n):\n",
    "    return n + 1\n",
    "\n",
    "nachfg(10)"
   ]
  },
  {
   "cell_type": "markdown",
   "metadata": {},
   "source": [
    "Es ist ebenfalls möglich weitere Funktionen, die von anderen geschrieben worden sind, zu dekorieren. Also Funktionen, die wir beispielsweise aus einem Modul importieren. In solchen Fällen und in unserem nächsten Beispiel können wir die Dekorationsweise mit dem ,,@''-Zeichen nicht verwenden."
   ]
  },
  {
   "cell_type": "code",
   "execution_count": 9,
   "metadata": {},
   "outputs": [
    {
     "name": "stdout",
     "output_type": "stream",
     "text": [
      "Vor dem Aufruf sin\n",
      "9.265358966049026e-05\n",
      "Nach dem Aufruf sin\n",
      "Vor dem Aufruf cos\n",
      "-0.9999999957076562\n",
      "Nach dem Aufruf cos\n"
     ]
    }
   ],
   "source": [
    "from math import sin, cos\n",
    "\n",
    "def ein_dekorateur(func):\n",
    "    def hilfsfunktion(x):\n",
    "        print(\"Vor dem Aufruf \" + func.__name__)\n",
    "        res = func(x)\n",
    "        print(res)\n",
    "        print(\"Nach dem Aufruf \" + func.__name__)\n",
    "    return hilfsfunktion\n",
    "\n",
    "sin = ein_dekorateur(sin)\n",
    "cos = ein_dekorateur(cos)\n",
    "\n",
    "for f in [sin, cos]:\n",
    "    f(3.1415)"
   ]
  },
  {
   "cell_type": "markdown",
   "metadata": {},
   "source": [
    "Zusammenfassend halten wir folgendes fest. Ein Dekorateur ist ein aufrufbares Python-Objekt, welches zur Modifikation von Funktions-, Methoden- oder Klassen-Definitionen genutzt werden kann. Das Original-Objekt, welches also modifiziert werden soll, wird dem Dekorateur als Argument übergeben. Der Dekorateur liefert dann das modifizierte Objekt zurück."
   ]
  },
  {
   "cell_type": "code",
   "execution_count": 15,
   "metadata": {},
   "outputs": [
    {
     "name": "stdout",
     "output_type": "stream",
     "text": [
      "Vor dem Aufruf random\n",
      "0.5054712105583256\n",
      "Nach dem Aufruf random\n",
      "Vor dem Aufruf randint\n",
      "5\n",
      "Nach dem Aufruf randint\n",
      "Vor dem Aufruf choice\n",
      "4\n",
      "Nach dem Aufruf choice\n"
     ]
    }
   ],
   "source": [
    "from random import random, randint, choice\n",
    "\n",
    "def ein_dekorateur(func):\n",
    "    def hilfsfunktion(*args, **kwargs):\n",
    "        print(\"Vor dem Aufruf \" + func.__name__)\n",
    "        res = func(*args, **kwargs)\n",
    "        print(res)\n",
    "        print(\"Nach dem Aufruf \" + func.__name__)\n",
    "    return hilfsfunktion\n",
    "\n",
    "random = ein_dekorateur(random) \n",
    "randint = ein_dekorateur(randint)\n",
    "choice = ein_dekorateur(choice)\n",
    "\n",
    "# Aufrufe unserer dekorierten Funktionen:\n",
    "random()\n",
    "randint(3, 8)\n",
    "choice([4, 5, 6])"
   ]
  },
  {
   "cell_type": "markdown",
   "metadata": {},
   "source": [
    "Die Ausgabe sieht aus wie erwartet."
   ]
  },
  {
   "cell_type": "markdown",
   "metadata": {},
   "source": [
    "### Anwendungsfälle für Dekorateure\n",
    "#### Überprüfung von Argumenten durch Dekorateure\n",
    "In unserem Kapitel über rekursive Funktionen hatten wir die Fakultätsfunktion eingeführt. Dabei wollten wir die Funktion so einfach wie möglich halten. Hätten wir die Argumente der Fakultätsfunktion auf Plausibilität geprüft, hätten wir die zugrunde liegende Idee verschleiert und der Kern des Algorithmus wäre nicht mehr so erkenntlich gewesen. So darf die Funktion keinesfalls mit negativen Werten oder Fließkommazahlen, also float-Werten, aufgerufen werden. In beiden Fällen kommt es zu einer endlosen Rekursion, die allerdings glücklicherweise durch den endlichen Rekursionsstack von Python mit einem RuntimeError abgebrochen wird:\n",
    "\n",
    "<pre>\n",
    "RuntimeError: maximum recursion depth exceeded in comparison\n",
    "</pre>"
   ]
  },
  {
   "cell_type": "markdown",
   "metadata": {},
   "source": [
    "Das folgende Programm benutzt eine Dekorateur-Funktion um sicherzustellen, dass es sich bei dem verwendeten Argument, um eine positive ganze Zahl handelt:"
   ]
  },
  {
   "cell_type": "code",
   "execution_count": 97,
   "metadata": {},
   "outputs": [
    {
     "name": "stdout",
     "output_type": "stream",
     "text": [
      "1 1\n",
      "2 2\n",
      "3 6\n",
      "4 24\n",
      "5 120\n",
      "6 720\n",
      "7 5040\n",
      "8 40320\n",
      "9 362880\n"
     ]
    },
    {
     "ename": "Exception",
     "evalue": "Argument ist keine ganze Zahl",
     "output_type": "error",
     "traceback": [
      "\u001b[1;31m---------------------------------------------------------------------------\u001b[0m",
      "\u001b[1;31mException\u001b[0m                                 Traceback (most recent call last)",
      "\u001b[1;32m<ipython-input-97-23965cb6b3f1>\u001b[0m in \u001b[0;36m<module>\u001b[1;34m\u001b[0m\n\u001b[0;32m     17\u001b[0m         \u001b[0mprint\u001b[0m\u001b[1;33m(\u001b[0m\u001b[0mi\u001b[0m\u001b[1;33m,\u001b[0m \u001b[0mFakultät\u001b[0m\u001b[1;33m(\u001b[0m\u001b[0mi\u001b[0m\u001b[1;33m)\u001b[0m\u001b[1;33m)\u001b[0m\u001b[1;33m\u001b[0m\u001b[1;33m\u001b[0m\u001b[0m\n\u001b[0;32m     18\u001b[0m \u001b[1;33m\u001b[0m\u001b[0m\n\u001b[1;32m---> 19\u001b[1;33m \u001b[0mprint\u001b[0m\u001b[1;33m(\u001b[0m\u001b[0mFakultät\u001b[0m\u001b[1;33m(\u001b[0m\u001b[1;33m-\u001b[0m\u001b[1;36m1\u001b[0m\u001b[1;33m)\u001b[0m\u001b[1;33m)\u001b[0m\u001b[1;33m\u001b[0m\u001b[1;33m\u001b[0m\u001b[0m\n\u001b[0m",
      "\u001b[1;32m<ipython-input-97-23965cb6b3f1>\u001b[0m in \u001b[0;36mHelper\u001b[1;34m(x)\u001b[0m\n\u001b[0;32m      4\u001b[0m             \u001b[1;32mreturn\u001b[0m \u001b[0mf\u001b[0m\u001b[1;33m(\u001b[0m\u001b[0mx\u001b[0m\u001b[1;33m)\u001b[0m\u001b[1;33m\u001b[0m\u001b[1;33m\u001b[0m\u001b[0m\n\u001b[0;32m      5\u001b[0m         \u001b[1;32melse\u001b[0m\u001b[1;33m:\u001b[0m\u001b[1;33m\u001b[0m\u001b[1;33m\u001b[0m\u001b[0m\n\u001b[1;32m----> 6\u001b[1;33m             \u001b[1;32mraise\u001b[0m \u001b[0mException\u001b[0m\u001b[1;33m(\u001b[0m\u001b[1;34m\"Argument ist keine ganze Zahl\"\u001b[0m\u001b[1;33m)\u001b[0m\u001b[1;33m\u001b[0m\u001b[1;33m\u001b[0m\u001b[0m\n\u001b[0m\u001b[0;32m      7\u001b[0m     \u001b[1;32mreturn\u001b[0m \u001b[0mHelper\u001b[0m\u001b[1;33m\u001b[0m\u001b[1;33m\u001b[0m\u001b[0m\n\u001b[0;32m      8\u001b[0m \u001b[1;33m\u001b[0m\u001b[0m\n",
      "\u001b[1;31mException\u001b[0m: Argument ist keine ganze Zahl"
     ]
    }
   ],
   "source": [
    "def Argument_Test_natürliche_Zahl(f):\n",
    "    def Helper(x):\n",
    "        if type(x) == int and x > 0:\n",
    "            return f(x)\n",
    "        else:\n",
    "            raise Exception(\"Argument ist keine ganze Zahl\")\n",
    "    return Helper\n",
    "    \n",
    "@Argument_Test_natürliche_Zahl\n",
    "def Fakultät(n):\n",
    "    if n == 1:\n",
    "        return 1\n",
    "    else:\n",
    "        return n * Fakultät(n-1)\n",
    "\n",
    "for i in range(1,10):\n",
    "    print(i, Fakultät(i))\n",
    "\n",
    "print(Fakultät(-1))"
   ]
  },
  {
   "cell_type": "markdown",
   "metadata": {},
   "source": [
    "#### Funktionsaufrufe mit Dekorateuren zählen\n",
    "Unsere bisherigen Beispiele für Dekorateure waren nur für Funktionen mit einem Parameter geeignet. Wir zeigen nun, wie wir mittels *args und **kwargs beliebige Dekorateure schreiben können, d.h. solche, die mit einer beliebigen Anzahl an Positions- und Keywordparametern umgehen können.\n"
   ]
  },
  {
   "cell_type": "code",
   "execution_count": 15,
   "metadata": {},
   "outputs": [
    {
     "name": "stdout",
     "output_type": "stream",
     "text": [
      "0\n",
      "1\n",
      "2\n",
      "3\n",
      "4\n",
      "5\n",
      "6\n",
      "7\n",
      "8\n",
      "9\n",
      "10\n",
      "10\n"
     ]
    }
   ],
   "source": [
    "def Aufruf_zähler(func):\n",
    "    def Helper(x):\n",
    "        Helper.calls += 1\n",
    "        return func(x)\n",
    "    Helper.calls = 0\n",
    "\n",
    "    return Helper\n",
    "\n",
    "@Aufruf_zähler\n",
    "def Nachfg(x):\n",
    "    return x + 1\n",
    "\n",
    "print(Nachfg.calls)\n",
    "for i in range(10):\n",
    "    print(Nachfg(i))\n",
    "    \n",
    "print(Nachfg.calls)"
   ]
  },
  {
   "cell_type": "markdown",
   "metadata": {},
   "source": [
    "Wir haben gesagt, dass der Dekorateur nur für Funktionen mit einem Parameter geeignet ist. Jetzt benutzen wir die Schreibweise *args und **kwargs um Dekorateure zu schreiben, die mit einer beliebigen Anzahl an Positions- und Keyword-Parametern umgehen können."
   ]
  },
  {
   "cell_type": "code",
   "execution_count": 16,
   "metadata": {},
   "outputs": [
    {
     "name": "stdout",
     "output_type": "stream",
     "text": [
      "0\n",
      "10\n",
      "3\n"
     ]
    }
   ],
   "source": [
    "def Aufruf_Zähler(func):\n",
    "    def Helper(*args, **kwargs):\n",
    "        Helper.calls += 1\n",
    "        return func(*args, **kwargs)\n",
    "    Helper.calls = 0\n",
    "\n",
    "    return Helper\n",
    "\n",
    "@Aufruf_Zähler\n",
    "def Nachfg(x):\n",
    "    return x + 1\n",
    "\n",
    "@Aufruf_Zähler\n",
    "def mul1(x, y=1):\n",
    "    return x*y + 1\n",
    "\n",
    "print(Nachfg.calls)\n",
    "for i in range(10):\n",
    "    Nachfg(i)\n",
    "mul1(3, 4)\n",
    "mul1(4)\n",
    "mul1(y=3, x=2)\n",
    "    \n",
    "print(Nachfg.calls)\n",
    "print(mul1.calls)"
   ]
  },
  {
   "cell_type": "markdown",
   "metadata": {},
   "source": [
    "### Dekorateure mit Parametern\n",
    "Wir definieren im Folgenden zwei Dekorateure:"
   ]
  },
  {
   "cell_type": "code",
   "execution_count": 105,
   "metadata": {},
   "outputs": [
    {
     "name": "stdout",
     "output_type": "stream",
     "text": [
      "Guten Abend, gibt foo zurück:\n",
      "42\n"
     ]
    }
   ],
   "source": [
    "def Abendgruß(func):\n",
    "    def Wrapper_Funktion(x):\n",
    "        print(\"Guten Abend, gibt \" + func.__name__ + \" zurück:\")\n",
    "        func(x)\n",
    "    return Wrapper_Funktion\n",
    "\n",
    "def Morgengruß(func):\n",
    "    def Wrapper_Funktion(x):\n",
    "        print(\"Guten Morgen, gibt \" + Funktions_Wrapper +\" zurück:\")\n",
    "        func(x)\n",
    "    return Wrapper_Funktion\n",
    "\n",
    "@Abendgruß\n",
    "def foo(x):\n",
    "    print(42)\n",
    "\n",
    "foo(\"Hallo\")"
   ]
  },
  {
   "cell_type": "markdown",
   "metadata": {},
   "source": [
    "Diese beiden Dekorateure sind beinahe identisch, außer die Begrüßung. Wir wollen dem Dekorateur nun einen Parameter verpassen, damit der Gruß bei der Dekoration verändert werden kann. Damit das klappt müssen wir unsere Dekoratorfunktion in eine Wrapper-Funktion einpacken.\n",
    "Jetzt können wir beliebig grüßen, also zum Beispiel auch auf griechisch \"Guten Morgen\" sagen:"
   ]
  },
  {
   "cell_type": "code",
   "execution_count": 1,
   "metadata": {},
   "outputs": [
    {
     "name": "stdout",
     "output_type": "stream",
     "text": [
      "καλημερα, foo gibt zurück:\n",
      "42\n"
     ]
    }
   ],
   "source": [
    "def Gruß(expr):\n",
    "    def Grußdekoration(func):\n",
    "        def Wrapper_Funktion(x):\n",
    "            print(expr + \", \" + func.__name__ + \" gibt zurück:\")\n",
    "            func(x)\n",
    "        return Wrapper_Funktion\n",
    "    return Grußdekoration\n",
    "\n",
    "@Gruß(\"καλημερα\")\n",
    "def foo(x):\n",
    "    print(42)\n",
    "\n",
    "foo(\"Hallo\")"
   ]
  },
  {
   "cell_type": "markdown",
   "metadata": {},
   "source": [
    "Wenn wir nicht die \"@\"-Schreibweise verwenden, sondern die Funktions-Aufrufe, dann können wir dies wie folgt tun:"
   ]
  },
  {
   "cell_type": "code",
   "execution_count": 2,
   "metadata": {},
   "outputs": [
    {
     "name": "stdout",
     "output_type": "stream",
     "text": [
      "καλημερα, foo gibt zurück\n",
      "42\n"
     ]
    }
   ],
   "source": [
    "def Gruß(expr):\n",
    "    def Grußdekoration(func):\n",
    "        def Wrapper_Funktion(x):\n",
    "            print(expr + \", \" + func.__name__ + \" gibt zurück\")\n",
    "            func(x)\n",
    "        return Wrapper_Funktion\n",
    "    return Grußdekoration\n",
    "\n",
    "\n",
    "def foo(x):\n",
    "    print(42)\n",
    "\n",
    "besondere_Begrüßung = Gruß(\"καλημερα\")\n",
    "foo = besondere_Begrüßung(foo)\n",
    "foo(\"Hallo\")"
   ]
  },
  {
   "cell_type": "markdown",
   "metadata": {},
   "source": [
    "Das Ergebnis ist identisch."
   ]
  },
  {
   "cell_type": "markdown",
   "metadata": {},
   "source": [
    "Natürlich ist die zusätzliche Definition von \"special_greeting\" nicht nötig. Wir können die Rückgabe aus \"greeting(\"καλημερα\")\" direkt an \"foo\" übergeben."
   ]
  },
  {
   "cell_type": "code",
   "execution_count": 12,
   "metadata": {},
   "outputs": [],
   "source": [
    "foo = greeting(\"καλημερα\")(foo)"
   ]
  },
  {
   "cell_type": "markdown",
   "metadata": {},
   "source": [
    "### Wraps-Dekorateur von functools\n",
    "Die Art und Weise wie wir bisher Dekorateure definiert haben, hat nicht berücksichtigt, dass die Attribute\n",
    "    ```__name__``` (Name der Funktion),\n",
    "    ```__doc__``` (der Docstring) und\n",
    "    ```__module__``` (das Modul, in dem die Funktion definiert ist) der originalen Funktionen nach der Dekoration verloren gehen.\n"
   ]
  },
  {
   "cell_type": "code",
   "execution_count": 17,
   "metadata": {},
   "outputs": [
    {
     "name": "stdout",
     "output_type": "stream",
     "text": [
      "Hi, f gibt zurück:\n",
      "Funktionsname: Wrapper_Funktion\n",
      "docstring:  Wrapper Funktion der Begrüßung \n",
      "Modulname: __main__\n"
     ]
    }
   ],
   "source": [
    "def Gruß(func):\n",
    "    def Wrapper_Funktion(x):\n",
    "        \"\"\" Wrapper Funktion der Begrüßung \"\"\"\n",
    "        print(\"Hi, \" + func.__name__ + \" gibt zurück:\")\n",
    "        return func(x)\n",
    "    return Wrapper_Funktion\n",
    "\n",
    "@Gruß\n",
    "def f(x):\n",
    "    \"\"\" nur eine dumme Funktion \"\"\"\n",
    "    return x + 4\n",
    "\n",
    "f(10)\n",
    "print(\"Funktionsname: \" + f.__name__)\n",
    "print(\"docstring: \" + f.__doc__)\n",
    "print(\"Modulname: \" + f.__module__)"
   ]
  },
  {
   "cell_type": "markdown",
   "metadata": {},
   "source": [
    "Wir erhalten \"ungewollte\" Ergebnisse."
   ]
  },
  {
   "cell_type": "markdown",
   "metadata": {},
   "source": [
    "Wir können die originalen Attribute der Funktion f speichern, indem wir sie innerhalb des Dekorateurs zuweisen. Wir passen den vorigen Dekorateur entsprechend an und speichern ihn unter greeting_decorator_manually.py:"
   ]
  },
  {
   "cell_type": "code",
   "execution_count": 3,
   "metadata": {},
   "outputs": [
    {
     "name": "stdout",
     "output_type": "stream",
     "text": [
      "Hi, f gibt zurück:\n"
     ]
    },
    {
     "data": {
      "text/plain": [
       "43"
      ]
     },
     "execution_count": 3,
     "metadata": {},
     "output_type": "execute_result"
    }
   ],
   "source": [
    "def Gruß(func):\n",
    "    def Wrapper_Funktion(x):\n",
    "        \"\"\" Wrapper Funktion der Begrüßung \"\"\"\n",
    "        print(\"Hi, \" + func.__name__ + \" gibt zurück:\")\n",
    "        return func(x)\n",
    "    Wrapper_Funktion.__name__ = func.__name__\n",
    "    Wrapper_Funktion.__doc__ = func.__doc__\n",
    "    Wrapper_Funktion.__module__ = func.__module__\n",
    "    return Wrapper_Funktion\n",
    "\n",
    "\n",
    "def f(x):\n",
    "    return x + 42\n",
    "\n",
    "f = Gruß(f)\n",
    "\n",
    "f(1)"
   ]
  },
  {
   "cell_type": "markdown",
   "metadata": {},
   "source": [
    "Jetzt erhalten wir die richtigen Ergebnisse."
   ]
  },
  {
   "cell_type": "markdown",
   "metadata": {},
   "source": [
    "Wir müssen zum Glück nicht diesen ganzen Code zu unseren Dekorateuren hinzufügen, um diese Ergebnisse zu erhalten. Wir importieren einfach den Dekorateur \"wraps\" aus dem Modul \"functools\" und dekorieren unsere Funktion in dem Dekorateur damit:"
   ]
  },
  {
   "cell_type": "code",
   "execution_count": 4,
   "metadata": {},
   "outputs": [
    {
     "name": "stdout",
     "output_type": "stream",
     "text": [
      "Hallo , f gibt zurück:\n"
     ]
    },
    {
     "data": {
      "text/plain": [
       "43"
      ]
     },
     "execution_count": 4,
     "metadata": {},
     "output_type": "execute_result"
    }
   ],
   "source": [
    "from functools import wraps\n",
    "\n",
    "def Gruß(func):\n",
    "    @wraps(func)\n",
    "    def Wrapper_Funktion(x):\n",
    "        \"\"\" Wrapper_Funktion von Gruß \"\"\"\n",
    "        print(\"Hallo , \" + func.__name__ + \" gibt zurück:\")\n",
    "        return func(x)\n",
    "    return Wrapper_Funktion\n",
    "\n",
    "def f(x):\n",
    "    return x + 42\n",
    "\n",
    "f = Gruß(f)\n",
    "\n",
    "f(1)"
   ]
  },
  {
   "cell_type": "markdown",
   "metadata": {},
   "source": [
    "### Klassen statt Funktionen\n",
    "#### Die __call__ Methode\n",
    "Bis hierher haben wir Funktionen als Dekorateure verwendet. Bevor wir einen Dekorateur als Klasse definieren können, führen wir die ```__call__``` Methode der Klassen ein. Wir hatten bereits erwähnt, dass ein Dekorateur einfach ein aufrufbares Objekt ist, welches eine Funktion als Parameter entgegennimmt. Was die meisten Programmierer aber nicht wissen ist, dass wir Klassen ebenfalls als solches definieren können. Die ```__call__``` Methode wird aufgerufen, wenn die Instanz \"wie eine Funktion\" aufgerufen wird. Sprich, man benutzt Klammern."
   ]
  },
  {
   "cell_type": "code",
   "execution_count": 1,
   "metadata": {},
   "outputs": [
    {
     "name": "stdout",
     "output_type": "stream",
     "text": [
      "Eine Instanz von A wurde initialisiert\n",
      "Rufen Sie jetzt die Instanz auf:\n",
      "Argumente sind: (3, 4) {'x': 11, 'y': 10}\n",
      "Rufen wir es noch einmal auf:\n",
      "Argumente sind: (3, 4) {'x': 11, 'y': 10}\n"
     ]
    }
   ],
   "source": [
    "class A:\n",
    "    \n",
    "    def __init__(self):\n",
    "        print(\"Eine Instanz von A wurde initialisiert\")\n",
    "    \n",
    "    def __call__(self, *args, **kwargs):\n",
    "        print(\"Argumente sind:\", args, kwargs)\n",
    "              \n",
    "x = A()\n",
    "print(\"Rufen Sie jetzt die Instanz auf:\")\n",
    "x(3, 4, x=11, y=10)\n",
    "print(\"Rufen wir es noch einmal auf:\")\n",
    "x(3, 4, x=11, y=10)"
   ]
  },
  {
   "cell_type": "markdown",
   "metadata": {},
   "source": [
    "Wir können eine Klasse für die Fibonacci-Funktion schreiben, indem wir ```__call__``` benutzen:"
   ]
  },
  {
   "cell_type": "code",
   "execution_count": 2,
   "metadata": {},
   "outputs": [
    {
     "name": "stdout",
     "output_type": "stream",
     "text": [
      "0, 1, 1, 2, 3, 5, 8, 13, 21, 34, 55, 89, 144, 233, 377, "
     ]
    }
   ],
   "source": [
    "class Fibonacci:\n",
    "    def __init__(self):\n",
    "        self.cache = {}\n",
    "    def __call__(self, n):\n",
    "        if n not in self.cache:\n",
    "            if n == 0:\n",
    "                self.cache[0] = 0\n",
    "            elif n == 1:\n",
    "                self.cache[1] = 1\n",
    "            else:\n",
    "                self.cache[n] = self.__call__(n-1) + self.__call__(n-2)\n",
    "        return self.cache[n]\n",
    "\n",
    "fib = Fibonacci()\n",
    "\n",
    "for i in range(15):\n",
    "    print(fib(i), end=\", \")"
   ]
  },
  {
   "cell_type": "markdown",
   "metadata": {},
   "source": [
    "### Eine Klasse als Dekorateur benutzen\n",
    "Wir werden folgenden Dekorateur als Klasse umschreiben:"
   ]
  },
  {
   "cell_type": "code",
   "execution_count": 3,
   "metadata": {},
   "outputs": [
    {
     "name": "stdout",
     "output_type": "stream",
     "text": [
      "Dekorieren foo\n",
      "innen foo()\n"
     ]
    }
   ],
   "source": [
    "def decorator1(f):\n",
    "    def helper():\n",
    "        print(\"Dekorieren\", f.__name__)\n",
    "        f()\n",
    "    return helper\n",
    "\n",
    "@decorator1\n",
    "def foo():\n",
    "    print(\"innen foo()\")\n",
    "\n",
    "foo()"
   ]
  },
  {
   "cell_type": "markdown",
   "metadata": {},
   "source": [
    "Der folgende Dekorateur, der als Klasse implementiert ist, erledigt die gleiche Aufgabe:"
   ]
  },
  {
   "cell_type": "code",
   "execution_count": 4,
   "metadata": {},
   "outputs": [
    {
     "name": "stdout",
     "output_type": "stream",
     "text": [
      "Dekorieren foo\n",
      "innen foo()\n"
     ]
    }
   ],
   "source": [
    "class decorator2(object):\n",
    "    \n",
    "    def __init__(self, f):\n",
    "        self.f = f\n",
    "        \n",
    "    def __call__(self):\n",
    "        print(\"Dekorieren\", self.f.__name__)\n",
    "        self.f()\n",
    "\n",
    "@decorator2\n",
    "def foo():\n",
    "    print(\"innen foo()\")\n",
    "\n",
    "foo()"
   ]
  },
  {
   "cell_type": "markdown",
   "metadata": {},
   "source": [
    "Beide Versionen liefern das gleiche Ergebnis."
   ]
  }
 ],
 "metadata": {
  "kernelspec": {
   "display_name": "Python 3",
   "language": "python",
   "name": "python3"
  },
  "language_info": {
   "codemirror_mode": {
    "name": "ipython",
    "version": 3
   },
   "file_extension": ".py",
   "mimetype": "text/x-python",
   "name": "python",
   "nbconvert_exporter": "python",
   "pygments_lexer": "ipython3",
   "version": "3.8.8"
  }
 },
 "nbformat": 4,
 "nbformat_minor": 4
}
