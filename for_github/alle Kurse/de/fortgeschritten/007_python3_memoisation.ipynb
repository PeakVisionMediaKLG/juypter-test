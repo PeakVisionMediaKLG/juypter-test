{
 "cells": [
  {
   "cell_type": "markdown",
   "metadata": {},
   "source": [
    "## Memoisation und Dekorateure\n",
    "\n",
    "### Definition der Memoisation\n",
    "\n",
    "\n",
    "<img class=\"imgright\" src=\"../images/gehirn.webp\" srcset=\"../images/gehirn_400w.webp 400w,../images/gehirn_350w.webp 350w,../images/gehirn_300w.webp 300w\" alt=\"Brain\" /> \n",
    "\n",
    "Der Ausdruck \"Memoisation\" (englisch memoization) wurde im Jahre 1968 von Donald Michie geprägt. Der Ausdruck basiert auf dem lateinischen Wort \"memorandum\", was \"das zu Erinnernde\" bedeutet. Memoisation bezeichnet in der Informatik eine Technik, die in der Programmierung benutzt wird, um den Programmablauf zu beschleunigen. Dies wird erreicht, indem Berechnungsergebnisse gespeichert werden, wie zum Beispiel die Ergebnisse von Funktionsaufrufen. Wird eine Funktion mit den gleichen Parametern aufgerufen, wie bei einem vorigen Aufruf, wird auf die gespeicherten Ergebnisse zugegriffen statt die Werte neu zu berechnen. In vielen Fällen wird ein einfaches Array für die Ergebnisspeicherung benutzt, aber es sind auch kompliziertere Strukturen möglich. So können beispielsweise assoziative Arrays verwendet werden, die in Perl Hashes und in Python Dictionaries genannt werden.\n",
    "\n",
    "Die Memoization kann explizit vom Programmierer programmiert werden, aber einige Programmiersprachen, wie auch Python, stellen Mechanismen zur Verfügung, die die Implementierung der Memoisation erleichtern.\n",
    "\n",
    "### Memoisation mit Dekorateur-Funktionen\n",
    "In unserem vorigen Kapitel über [rekursive Funktionen](https://www.python-kurs.eu/python3_rekursive_funktionen.php) hatten wir eine iterative und eine rekursive Funktionsversion zur Berechnung der Fibonacci-Zahlen programmiert. Wir hatten gezeigt, dass die direkte Umsetzung der mathematischen Definition der Fibonacci Zahlen ein exponentielles Laufzeitverhalten aufzeigt, also eine Funktion wie die folgende:"
   ]
  },
  {
   "cell_type": "code",
   "execution_count": 1,
   "metadata": {},
   "outputs": [],
   "source": [
    "def fib(n):\n",
    "    if n == 0:\n",
    "        return 0\n",
    "    elif n == 1:\n",
    "        return 1\n",
    "    else:\n",
    "        return fib(n-1) + fib(n-2)"
   ]
  },
  {
   "cell_type": "markdown",
   "metadata": {},
   "source": [
    "In unserem Kapitel über [Rekursion](https://www.python-kurs.eu/python3_rekursive_funktionen.php) hatten wir auch einen Weg dargestellt, wie man das Laufzeitverhalten der rekursiven Version verbessern kann. Wir hatten ein [Dictionary](https://www.python-kurs.eu/python3_woerterbuecher_dictionaries.php) dazu verwendet, um bereits durch die Funktion berechnete Werte für spätere Aufrufe zu speichern. Dadurch wird eine Neuberechnung verhindert. Dabei handelte es sich bereits, ohne dass wir es so genannt hatten, um ein Beispiel, wie man explizit die Technik der Memoization nutzen kann. Die Methode hatte jedoch einen entscheidenden Nachteil: Die Klarheit und die Schönheit der ursprünglichen rekursiven Methode geht dabei verloren.\n",
    "\n",
    "Das \"Problem\" besteht darin, dass wir den Code der rekursiven fib-Funktion ändern bzw. erweitern mussten. Im folgenden Code präsentieren wir eine Lösung, die ohne Änderungen der fib-Funktion auskommt. Dadurch wird ihre Klarheit, Schönheit und Lesbarkeit nicht tangiert. Zu diesem Zweck definieren wir eine Funktion, die wir memoize nennen. memoize() benötigt zwei Argumente. Auch die Funktion memoize benutzt ein Dictionary, um die Funktionswerte zu speichern. Obwohl sowohl die Variable \"memo\", - unser Dictionary zum Speichern der Werte, - als auch die Funktion \"f\" lokal innerhalb der Funktion memoize sind, werden ihre Werte durch die helper-Funktion bewahrt. Im Englischen benutzt man statt \"bewahrt\" das Wort \"captured\", was im Deutschen \"eingefangen\" oder \"gefangen genommen\" bedeutet. Diese Technik, d.h. das Bewahren von ,,lokalen'' Werten oder Funktionen über ihren lokalen Geltungsbereich hinaus wird auch als Closure oder Funktionsabschluss bezeichnet. memoize() liefert als Funktionswert eine Referenz auf die helper-Funktion zurück. Ein Aufruf der Funktion memoize(fib) liefert eine Funktion zurück, die im Ein- und Ausgabeverhalten identisch mit fib() ist, d.h. sie tut, was fib() tut. Zusätzlich speichert sie jedoch die Ergebnisse im memo-Dictionary."
   ]
  },
  {
   "cell_type": "code",
   "execution_count": 2,
   "metadata": {},
   "outputs": [
    {
     "name": "stdout",
     "output_type": "stream",
     "text": [
      "102334155\n"
     ]
    }
   ],
   "source": [
    "def memoize(f):\n",
    "    memo = {}\n",
    "    def helper(x):\n",
    "        if x not in memo:            \n",
    "            memo[x] = f(x)\n",
    "        return memo[x]\n",
    "    return helper\n",
    "    \n",
    "\n",
    "def fib(n):\n",
    "    if n == 0:\n",
    "        return 0\n",
    "    elif n == 1:\n",
    "        return 1\n",
    "    else:\n",
    "        return fib(n-1) + fib(n-2)\n",
    "\n",
    "fib = memoize(fib)\n",
    "\n",
    "print(fib(40))"
   ]
  },
  {
   "cell_type": "markdown",
   "metadata": {},
   "source": [
    "Als nächstem Punkt kommen wir zu einem Konzept, was als \"[Dekorateur](https://www.python-kurs.eu/python3_dekorateure.php)\" (englisch decorator: Raumgestalter, Dekorateur) bezeichnet wird. Schauen wir uns die folgende Codezeile an:\n",
    "\n",
    "fib = memoize(fib)\n",
    "\n",
    "In diesem Fall spricht man davon, dass die fib-Funktion durch die memoize-Funktion dekoriert wird.\n",
    "In den folgenden Diagrammen verdeutlichen wir, was bei der Dekoration passiert. Im ersten Diagramm zeigen wir den Zustand der Funktionen vor der Dekoration. Wir sehen die Namen der Funktionen mit Referenzen auf ihre Funktionsbodies:\n",
    "\n",
    "<img width=250 src=\"../images/memoize1.webp\" srcset=\"../images/memoize1_500w.webp 500w,../images/memoize1_400w.webp 400w,../images/memoize1_350w.webp 350w,../images/memoize1_300w.webp 300w\" alt=\"Funktionsweise der Memoizsation\" />\n",
    "\n",
    "Nach dem Ausführen der Zeile fib = memoize(fib) zeigt fib auf den Body der Helper-Funktion, der nach dem Aufruf memoize(fib) zurückgeliefert wird. Wir können außerdem erkennen, dass der Code der ursprünglichen Fib-Funktion nur noch durch f in der Helper-Funktion aufgerufen wird bzw. aufgerufen werden kann. Es gibt sonst keine Referenz mehr auf die ursprüngliche fib-Funktion. Im return-Statement return fib(n-1) + fib(n-2) wird nun die neue, dekorierte Fibonacci-Funktion aufgerufen, d.h. die von memoize zurückgelieferte helper-Funktion:\n",
    "\n",
    "<img width=425 src=\"../images/memoize2.webp\" srcset=\"../images/memoize2_800w.webp 800w,../images/memoize2_700w.webp 700w,../images/memoize2_600w.webp 600w,../images/memoize2_500w.webp 500w,../images/memoize2_400w.webp 400w,../images/memoize2_350w.webp 350w,../images/memoize2_300w.webp 300w\" alt=\"Funktionsweise der Memoizsation, 2. Diagramm\" />\n",
    "\n",
    "Ein weiterer Punkt im Zusammenhang mit Dekorateuren verdient auch besondere Erwähnung. In der Regel schreiben wir einen Dekorator nicht für einen speziellen Anwendungsfall sondern verwenden den Dekorator für viele Funktionen. So könnten wir beispielsweise weitere Funktionen haben, die alle viel Zeit für die Berechnung konsumieren, sagen wir func1, func2, func3 und so weiter. Es bietet sich dann an, alle mit unserer Dekoratorfunktion \"memoize\" zu dekorieren:\n",
    "\n",
    "<pre>\n",
    "fib = memoize(fib)\n",
    "func1 = memoize(func1)\n",
    "func2 = memoize(func2)\n",
    "func3 = memoize(func3)\n",
    "# und so weiter\n",
    "</pre>"
   ]
  },
  {
   "cell_type": "markdown",
   "metadata": {},
   "source": [
    "### Memoize in einer Klasse\n",
    "Dieses Unterkapitel kann von denen problemlos übersprungen werden, die sich noch nicht mit der Objektorientierung in Python beschäftigt haben.\n",
    "\n",
    "Wir können das Zwischenspeichern der Ergebnisse auch in einer Klasse statt einer Funktion einkapseln. Wir demonstrieren dies im folgenden kleinen Beispiel:"
   ]
  },
  {
   "cell_type": "code",
   "execution_count": 4,
   "metadata": {},
   "outputs": [],
   "source": [
    "class Memoize:\n",
    "    def __init__(self, fn):\n",
    "        self.fn = fn\n",
    "        self.memo = {}\n",
    "    def __call__(self, *args):\n",
    "        if args not in self.memo:\n",
    "            self.memo[args] = self.fn(*args)\n",
    "        return self.memo[args]"
   ]
  },
  {
   "cell_type": "markdown",
   "metadata": {},
   "source": [
    "Da wir ein Dictionary verwenden, können wir keine veränderlichen (mutable) Argumente verwenden. Anders ausgedrückt: Die Argumente dürfen nur unveränderlich (immutable), also z.B. Tupel, sein.\n",
    "\n",
    "### Übliche Syntax für Dekorateure\n",
    "Zusammenfassend können wir nun sagen, dass ein Dekorateur in Python ein aufrufbares Python-Objekt ist, welches benutzt wird, um eine Funktion, eine Methode oder eine Klassendefinition zu modifizieren. Das ursprüngliche Objekt, also das zu modifizierende, wird dem Dekorateur als Argument zugeführt. Der Dekorateur liefert ein modifiziertes Objekt zurück, also beispielsweise eine modifizierte Funktion. Dieses modifizierte Objekt wird an den Namen gebunden, der modifiziert wird.\n",
    "\n",
    "Anders als in unserem obigen Beispiel werden die Dekoratorfunktionen nicht direkt aufgerufen, wie wir es oben getan haben, also in unserem Beispiel mit fib = memoize(fib). Stattdessen stellt man vor den Funktionsheader der zu dekorierenden Funktion eine Zeile mit dem Dekoratornamen. Dem Dekoratornamen wird aber ein \"@\" vorangestellt. Diese Zeile muss unmittelbar vor der zu dekorierenden Funktion stehen.\n",
    "\n",
    "Wir schreiben nun unser anfängliches Beispiel entsprechend um. Wir dekorieren unsere fib-Funktion mit @memoize. Damit sieht unser Fibonacci-Beispiel wie folgt aus:"
   ]
  },
  {
   "cell_type": "code",
   "execution_count": 5,
   "metadata": {},
   "outputs": [
    {
     "name": "stdout",
     "output_type": "stream",
     "text": [
      "102334155\n"
     ]
    }
   ],
   "source": [
    "def memoize(f):\n",
    "    memo = {}\n",
    "    def helper(x):\n",
    "        if x not in memo:            \n",
    "            memo[x] = f(x)\n",
    "        return memo[x]\n",
    "    return helper\n",
    "    \n",
    "@memoize\n",
    "def fib(n):\n",
    "    if n == 0:\n",
    "        return 0\n",
    "    elif n == 1:\n",
    "        return 1\n",
    "    else:\n",
    "        return fib(n-1) + fib(n-2)\n",
    "\n",
    "print(fib(40))"
   ]
  },
  {
   "cell_type": "markdown",
   "metadata": {},
   "source": [
    "### Memoisation mit functools.lru_cache\n",
    "Das Modul functools enthält einen komfortablen Dekorateur zur Memoisation und zwar den lru_cache-Dekorateur. Die Buchstaben \"lru\" stehen für \"least recently used\" (am längsten nicht verwendet), das bedeutet, dass sich der Dekorator nur die zuletzt berechneten Werte in einem limitierten Cache merkt."
   ]
  },
  {
   "cell_type": "code",
   "execution_count": 6,
   "metadata": {},
   "outputs": [],
   "source": [
    "import functools\n",
    "\n",
    "@functools.lru_cache()\n",
    "def fib(n):\n",
    "    if n < 2:\n",
    "        return n\n",
    "    else:\n",
    "        return fib(n-1) + fib(n-2)"
   ]
  },
  {
   "cell_type": "markdown",
   "metadata": {},
   "source": [
    "Die Arbeitsweise dieses Dekorateurs können wir am Besten aus folgendem Beispiel ersehen:"
   ]
  },
  {
   "cell_type": "code",
   "execution_count": 7,
   "metadata": {},
   "outputs": [],
   "source": [
    "import functools\n",
    "@functools.lru_cache() \n",
    "def f(x): \n",
    "    return x "
   ]
  },
  {
   "cell_type": "code",
   "execution_count": 8,
   "metadata": {},
   "outputs": [
    {
     "data": {
      "text/plain": [
       "CacheInfo(hits=0, misses=0, maxsize=128, currsize=0)"
      ]
     },
     "execution_count": 8,
     "metadata": {},
     "output_type": "execute_result"
    }
   ],
   "source": [
    "f.cache_info() "
   ]
  },
  {
   "cell_type": "code",
   "execution_count": 7,
   "metadata": {},
   "outputs": [
    {
     "data": {
      "text/plain": [
       "1"
      ]
     },
     "execution_count": 7,
     "metadata": {},
     "output_type": "execute_result"
    }
   ],
   "source": [
    "f(1) "
   ]
  },
  {
   "cell_type": "code",
   "execution_count": 8,
   "metadata": {},
   "outputs": [
    {
     "data": {
      "text/plain": [
       "3"
      ]
     },
     "execution_count": 8,
     "metadata": {},
     "output_type": "execute_result"
    }
   ],
   "source": [
    "f(3)"
   ]
  },
  {
   "cell_type": "code",
   "execution_count": 9,
   "metadata": {},
   "outputs": [
    {
     "data": {
      "text/plain": [
       "1"
      ]
     },
     "execution_count": 9,
     "metadata": {},
     "output_type": "execute_result"
    }
   ],
   "source": [
    "f(1)"
   ]
  },
  {
   "cell_type": "code",
   "execution_count": 10,
   "metadata": {},
   "outputs": [
    {
     "data": {
      "text/plain": [
       "CacheInfo(hits=1, misses=2, maxsize=128, currsize=2)"
      ]
     },
     "execution_count": 10,
     "metadata": {},
     "output_type": "execute_result"
    }
   ],
   "source": [
    "f.cache_info()"
   ]
  },
  {
   "cell_type": "markdown",
   "metadata": {},
   "source": [
    "f.cache_info() liefert die Cache-Statistik (hits, misses, maxsize, currsize) zurück. f.cache_clear() löscht den Cache und die Statistik. Bei dem lru_cach-Dekorateur handelt es sich um einen Dekorateur, der mit Parametern aufgerufen wird. Er kann mit den beiden Schlüsselwort-Paramet aufgerufen werden. In unserem Beispielaufruf wurden für die Parameter die Defaultwerte maxsize = 128 und typed = False verwendet. Falls maxsize auf None gesetzt wird, werden die LRU-Eigenschaften disabled und der Cache kann ungebunden wachsen. Wir demonstrieren dies im folgenden Beispiel:"
   ]
  },
  {
   "cell_type": "code",
   "execution_count": 10,
   "metadata": {},
   "outputs": [
    {
     "name": "stdout",
     "output_type": "stream",
     "text": [
      "CacheInfo(hits=0, misses=1000, maxsize=None, currsize=1000)\n"
     ]
    }
   ],
   "source": [
    "import functools\n",
    "\n",
    "@functools.lru_cache(maxsize=None)\n",
    "def f(x):\n",
    "    return x\n",
    "\n",
    "for i in range(1000):\n",
    "    f(i)\n",
    "\n",
    "print(f.cache_info())"
   ]
  },
  {
   "cell_type": "markdown",
   "metadata": {},
   "source": [
    "An der Ausgabe können wir erkennen, dass der Cache auf 1000 Elemente angestiegen ist."
   ]
  },
  {
   "cell_type": "markdown",
   "metadata": {},
   "source": [
    "Ruft man den Dekorateur entweder ohne Argumente oder mit der Zuweisung maxsize=128 auf, so können wir an der Ausgabe sehen, dass der Cache auf 128 begrenzt ist:"
   ]
  },
  {
   "cell_type": "code",
   "execution_count": 17,
   "metadata": {},
   "outputs": [
    {
     "name": "stdout",
     "output_type": "stream",
     "text": [
      "CacheInfo(hits=0, misses=0, maxsize=128, currsize=0)\n"
     ]
    }
   ],
   "source": [
    "import functools\n",
    "\n",
    "@functools.lru_cache(maxsize=128)\n",
    "\n",
    "def f(x):\n",
    "    return x\n",
    "\n",
    "print(f.cache_info())"
   ]
  },
  {
   "cell_type": "markdown",
   "metadata": {},
   "source": [
    "Falls typed auf True gesetzt ist, werden Argumente von verschiedenem Type separat gecashed. So werden dann z.B. f(3.0) und f(3) als verschiedene Aufrufe betrachtet. Die Argumente der dekorierten Funktion müssen hash-bar sein. Die zugrundeliegende Funktion kann man mit ```f.__wrapped__``` ansprechen.\n"
   ]
  },
  {
   "cell_type": "code",
   "execution_count": 16,
   "metadata": {},
   "outputs": [],
   "source": [
    "@functools.lru_cache(typed=True)\n",
    "def g(x):\n",
    "    return x"
   ]
  },
  {
   "cell_type": "code",
   "execution_count": 17,
   "metadata": {},
   "outputs": [
    {
     "data": {
      "text/plain": [
       "1"
      ]
     },
     "execution_count": 17,
     "metadata": {},
     "output_type": "execute_result"
    }
   ],
   "source": [
    "g(1)"
   ]
  },
  {
   "cell_type": "code",
   "execution_count": 18,
   "metadata": {},
   "outputs": [
    {
     "data": {
      "text/plain": [
       "1.0"
      ]
     },
     "execution_count": 18,
     "metadata": {},
     "output_type": "execute_result"
    }
   ],
   "source": [
    "g(1.0)"
   ]
  },
  {
   "cell_type": "code",
   "execution_count": 19,
   "metadata": {},
   "outputs": [
    {
     "data": {
      "text/plain": [
       "CacheInfo(hits=0, misses=2, maxsize=128, currsize=2)"
      ]
     },
     "execution_count": 19,
     "metadata": {},
     "output_type": "execute_result"
    }
   ],
   "source": [
    "g.cache_info()"
   ]
  },
  {
   "cell_type": "markdown",
   "metadata": {},
   "source": [
    "Weitere Beispiele mit Dekorateuren\n",
    "Überprüfung von Argumenten durch Dekorateure\n",
    "In unserem Kapitel über rekursive Funktionen hatten wir die Fakultätsfunktion eingeführt. Dabei wollten wir die Funktion so einfach wie möglich halten. Hätten wir die Argumente der Fakultätsfunktion auf Plausibilität geprüft, hätten wir die zugrunde liegende Idee verschleiert und der Kern des Algorithmus wäre nicht mehr so erkenntlich gewesen. So darf die Funktion keinesfalls mit negativen Werten oder Fließkommazahlen, also float-Werten, aufgerufen werden. In beiden Fällen kommt es zu einer endlosen Rekursion, die allerdings glücklicherweise durch den endlichen Rekursionsstack von Python mit einem RuntimeError abgebrochen wird:\n",
    "\n",
    "RuntimeError: maximum recursion depth exceeded in comparison\n",
    "\n",
    "\n",
    "\n",
    "Das folgende Programm benutzt eine Dekorateur-Funktion um sicherzustellen, dass es sich bei dem verwendeten Argument, um eine positive ganze Zahl handelt:"
   ]
  },
  {
   "cell_type": "code",
   "execution_count": 18,
   "metadata": {},
   "outputs": [
    {
     "name": "stdout",
     "output_type": "stream",
     "text": [
      "1 1\n",
      "2 2\n",
      "3 6\n",
      "4 24\n",
      "5 120\n",
      "6 720\n",
      "7 5040\n",
      "8 40320\n",
      "9 362880\n"
     ]
    },
    {
     "ename": "Exception",
     "evalue": "Argument ist keine ganze Zahl",
     "output_type": "error",
     "traceback": [
      "\u001b[1;31m---------------------------------------------------------------------------\u001b[0m",
      "\u001b[1;31mException\u001b[0m                                 Traceback (most recent call last)",
      "\u001b[1;32m<ipython-input-18-8dd1fb9d6b20>\u001b[0m in \u001b[0;36m<module>\u001b[1;34m\u001b[0m\n\u001b[0;32m     17\u001b[0m     \u001b[0mprint\u001b[0m\u001b[1;33m(\u001b[0m\u001b[0mi\u001b[0m\u001b[1;33m,\u001b[0m \u001b[0mFakultät\u001b[0m\u001b[1;33m(\u001b[0m\u001b[0mi\u001b[0m\u001b[1;33m)\u001b[0m\u001b[1;33m)\u001b[0m\u001b[1;33m\u001b[0m\u001b[1;33m\u001b[0m\u001b[0m\n\u001b[0;32m     18\u001b[0m \u001b[1;33m\u001b[0m\u001b[0m\n\u001b[1;32m---> 19\u001b[1;33m \u001b[0mprint\u001b[0m\u001b[1;33m(\u001b[0m\u001b[0mFakultät\u001b[0m\u001b[1;33m(\u001b[0m\u001b[1;33m-\u001b[0m\u001b[1;36m1\u001b[0m\u001b[1;33m)\u001b[0m\u001b[1;33m)\u001b[0m\u001b[1;33m\u001b[0m\u001b[1;33m\u001b[0m\u001b[0m\n\u001b[0m",
      "\u001b[1;32m<ipython-input-18-8dd1fb9d6b20>\u001b[0m in \u001b[0;36mHelper\u001b[1;34m(x)\u001b[0m\n\u001b[0;32m      4\u001b[0m             \u001b[1;32mreturn\u001b[0m \u001b[0mf\u001b[0m\u001b[1;33m(\u001b[0m\u001b[0mx\u001b[0m\u001b[1;33m)\u001b[0m\u001b[1;33m\u001b[0m\u001b[1;33m\u001b[0m\u001b[0m\n\u001b[0;32m      5\u001b[0m         \u001b[1;32melse\u001b[0m\u001b[1;33m:\u001b[0m\u001b[1;33m\u001b[0m\u001b[1;33m\u001b[0m\u001b[0m\n\u001b[1;32m----> 6\u001b[1;33m             \u001b[1;32mraise\u001b[0m \u001b[0mException\u001b[0m\u001b[1;33m(\u001b[0m\u001b[1;34m\"Argument ist keine ganze Zahl\"\u001b[0m\u001b[1;33m)\u001b[0m\u001b[1;33m\u001b[0m\u001b[1;33m\u001b[0m\u001b[0m\n\u001b[0m\u001b[0;32m      7\u001b[0m     \u001b[1;32mreturn\u001b[0m \u001b[0mHelper\u001b[0m\u001b[1;33m\u001b[0m\u001b[1;33m\u001b[0m\u001b[0m\n\u001b[0;32m      8\u001b[0m \u001b[1;33m\u001b[0m\u001b[0m\n",
      "\u001b[1;31mException\u001b[0m: Argument ist keine ganze Zahl"
     ]
    }
   ],
   "source": [
    "def Argument_Test_natürliche_Zahl(f):\n",
    "    def Helper(x):\n",
    "        if type(x) == int and x > 0:\n",
    "            return f(x)\n",
    "        else:\n",
    "            raise Exception(\"Argument ist keine ganze Zahl\")\n",
    "    return Helper\n",
    "    \n",
    "@Argument_Test_natürliche_Zahl\n",
    "def Fakultät(n):\n",
    "    if n == 1:\n",
    "        return 1\n",
    "    else:\n",
    "        return n * Fakultät(n-1)\n",
    "\n",
    "for i in range(1,10):\n",
    "    print(i, Fakultät(i))\n",
    "\n",
    "print(Fakultät(-1))"
   ]
  },
  {
   "cell_type": "markdown",
   "metadata": {},
   "source": [
    "### Funktionsaufrufe mit Dekorateuren zählen\n",
    "Im folgenden Beispiel zeigen wir, wie wir unter Benutzung eines Dekorateures elegant die Aufrufe einer Funktion bzw. einer Methode zählen können."
   ]
  },
  {
   "cell_type": "code",
   "execution_count": 19,
   "metadata": {},
   "outputs": [
    {
     "name": "stdout",
     "output_type": "stream",
     "text": [
      "0\n",
      "1\n",
      "2\n",
      "3\n",
      "4\n",
      "5\n",
      "6\n",
      "7\n",
      "8\n",
      "9\n",
      "10\n",
      "10\n"
     ]
    }
   ],
   "source": [
    "def Aufruf_Zähler(func):\n",
    "    def Helper(*args, **kwargs):\n",
    "        Helper.calls += 1\n",
    "        return func(*args, **kwargs)\n",
    "    Helper.calls = 0\n",
    "    Helper.__name__= func.__name__\n",
    "\n",
    "    return Helper\n",
    "\n",
    "@Aufruf_Zähler\n",
    "def Nachfg(x):\n",
    "    return x + 1\n",
    "\n",
    "print(Nachfg.calls)\n",
    "for i in range(10):\n",
    "    print(Nachfg(i))\n",
    "    \n",
    "print(Nachfg.calls)"
   ]
  },
  {
   "cell_type": "markdown",
   "metadata": {},
   "source": [
    "### Verwenden einer aufrufbaren Klasse zum Speichern\n",
    "\n",
    "Dieses Unterkapitel kann ohne Probleme von Personen übersprungen werden, die bisher keine Kenntnisse über die Objektorientierung haben.\n",
    "\n",
    "Wir können das Caching der Ergebnisse auch in einer Klasse kapseln, wie Sie im folgenden Beispiel sehen können:"
   ]
  },
  {
   "cell_type": "code",
   "execution_count": 23,
   "metadata": {},
   "outputs": [
    {
     "name": "stdout",
     "output_type": "stream",
     "text": [
      "102334155\n"
     ]
    }
   ],
   "source": [
    "class Memoize:\n",
    "\n",
    "    def __init__(self, fn):\n",
    "        self.fn = fn\n",
    "        self.memo = {}\n",
    "\n",
    "    def __call__(self, *args):\n",
    "        if args not in self.memo:\n",
    "            self.memo[args] = self.fn(*args)\n",
    "        return self.memo[args]\n",
    "\n",
    "@Memoize\n",
    "def fib(n):\n",
    "    if n == 0:\n",
    "        return 0\n",
    "    elif n == 1:\n",
    "        return 1\n",
    "    else:\n",
    "        return fib(n-1) + fib(n-2)\n",
    "print(fib(40))"
   ]
  },
  {
   "cell_type": "markdown",
   "metadata": {},
   "source": [
    "Da wir ein Wörterbuch verwenden, können wir keine veränderlichen Argumente verwenden, d. H. Die Argumente müssen unveränderlich sein.\n",
    "\n",
    "### Übung\n",
    "\n",
    "- Unsere Übung ist ein altes Rätsel aus dem Jahr 1612. Der französische Jesuit Claude-Gaspar Bachet hat es formuliert. Wir müssen Mengen (z. B. Zucker oder Mehl) von 1 bis 40 Pfund wiegen. Was ist die geringste Anzahl von Gewichten, die auf einer Waage verwendet werden können, um eine dieser Größen zu bestimmen?\n",
    "\n",
    "- Die erste Idee könnte sein, Gewichte von 1, 2, 4, 8, 16 und 32 Pfund zu verwenden. Dies ist eine minimale Zahl, wenn wir uns darauf beschränken, Gewichte auf eine Seite zu legen und das Zeug, z. der Zucker auf der anderen Seite. Es ist jedoch möglich, Gewichte auf beide Pfannen der Waage zu legen. Jetzt brauchen wir nur vier Gewichte, d. H. 1, 3, 9, 27\n",
    "\n",
    "- Schreiben Sie eine Python-Funktion wiegen (), die die benötigten Gewichte und deren Verteilung auf den Pfannen berechnet, um eine beliebige Menge von 1 bis 40 zu wiegen.\n",
    "\n",
    "### Lösung\n",
    "\n",
    "Wir benötigen die Funktion linear_combination () aus unserem Kapitel [Lineare Kombinationen](https://www.python-course.eu/linear_combinations.php)."
   ]
  },
  {
   "cell_type": "code",
   "execution_count": 1,
   "metadata": {},
   "outputs": [],
   "source": [
    "def Faktoren_Menge():\n",
    "    for i in [-1, 0, 1]:\n",
    "        for j in [-1, 0, 1]:\n",
    "            for k in [-1, 0, 1]:\n",
    "                for l in [-1, 0, 1]:\n",
    "                    yield (i, j, k, l)  \n",
    "\n",
    "def memoize(f):\n",
    "    Ergebnisse = {}\n",
    "    def Helper(n):\n",
    "        if n not in Ergebnisse:\n",
    "            Ergebnisse[n] = f(n)\n",
    "        return Ergebnisse[n]\n",
    "    return Helper\n",
    "\n",
    "@memoize\n",
    "def linearkombination(n):\n",
    "    \"\"\" gibt das Tupel zurück (i,j,k,l) welches die Gleichung\n",
    "            n = i*1 + j*3 + k*9 + l*27 erfüllt    \"\"\"\n",
    "    Gewichte = (1, 3, 9, 27)\n",
    "\n",
    "    for Faktoren in Faktoren_Menge():\n",
    "        sum = 0\n",
    "        for i in range(len(Faktoren)):\n",
    "            sum += Faktoren[i] * Gewichte[i]\n",
    "        if sum == n:\n",
    "            return Faktoren \n",
    "            "
   ]
  },
  {
   "cell_type": "markdown",
   "metadata": {},
   "source": [
    "Damit ist es einfach, unsere Funktion gewogen () zu schreiben."
   ]
  },
  {
   "cell_type": "code",
   "execution_count": 3,
   "metadata": {},
   "outputs": [
    {
     "name": "stdout",
     "output_type": "stream",
     "text": [
      "Linke  Waagschale: 2 plus 1 \n",
      "Rechte Waagschale: 3 \n",
      "\n",
      "Linke  Waagschale: 3 plus \n",
      "Rechte Waagschale: 3 \n",
      "\n",
      "Linke  Waagschale: 4 plus \n",
      "Rechte Waagschale: 1 3 \n",
      "\n",
      "Linke  Waagschale: 7 plus 3 \n",
      "Rechte Waagschale: 1 9 \n",
      "\n",
      "Linke  Waagschale: 8 plus 1 \n",
      "Rechte Waagschale: 9 \n",
      "\n",
      "Linke  Waagschale: 9 plus \n",
      "Rechte Waagschale: 9 \n",
      "\n",
      "Linke  Waagschale: 20 plus 1 9 \n",
      "Rechte Waagschale: 3 27 \n",
      "\n",
      "Linke  Waagschale: 40 plus \n",
      "Rechte Waagschale: 1 3 9 27 \n",
      "\n"
     ]
    }
   ],
   "source": [
    "def wiegen(pfund):\n",
    "        gewichte = (1, 3, 9, 27)\n",
    "        skalare = linearkombination(pfund)\n",
    "        links = \"\"\n",
    "        rechts = \"\"\n",
    "        for i in range(len(skalare)):\n",
    "            if skalare[i] == -1:\n",
    "                links += str(gewichte[i]) + \" \"\n",
    "            elif skalare[i] == 1:\n",
    "                rechts += str(gewichte[i]) + \" \"\n",
    "        return (links,rechts)\n",
    "\n",
    "for i in [2, 3, 4, 7, 8, 9, 20, 40]:\n",
    "            waagschale = wiegen(i)\n",
    "            print(\"Linke  Waagschale: \" + str(i) + \" plus \" + waagschale[0])\n",
    "            print(\"Rechte Waagschale: \" + waagschale[1] + \"\\n\")  "
   ]
  }
 ],
 "metadata": {
  "kernelspec": {
   "display_name": "Python 3",
   "language": "python",
   "name": "python3"
  },
  "language_info": {
   "codemirror_mode": {
    "name": "ipython",
    "version": 3
   },
   "file_extension": ".py",
   "mimetype": "text/x-python",
   "name": "python",
   "nbconvert_exporter": "python",
   "pygments_lexer": "ipython3",
   "version": "3.7.6"
  }
 },
 "nbformat": 4,
 "nbformat_minor": 4
}
