{
 "cells": [
  {
   "cell_type": "markdown",
   "metadata": {},
   "source": [
    "## Listen-Abstraktion (List Comprehension)\n",
    "### Einführung\n",
    "\n",
    "<img class=\"imgright\" src=\"../images/alternative_lambda_map.webp\" alt=\"alternative to map, filter, reduce and lambda\" />\n",
    "\n",
    "Wir haben im vorherigen Kapitel [\"Lambda-Operator, Filter, Reduce und Map\"](https://www.python-kurs.eu/python3_lambda.php) erfahren, dass Guido van Rossum Listenverständnisse Konstrukten mit Map, Filtern, Reduzieren vorzieht und Lambda. In diesem Kapitel werden wir die wesentlichen Aspekte des Listenverständnisses behandeln.\n",
    "\n",
    "Listenverständnisse wurden mit Python 2.0 hinzugefügt. Im Wesentlichen ist es Pythons Art, eine bekannte Notation für Mengen zu implementieren, wie sie von Mathematikern verwendet wird.\n",
    "In der Mathematik werden die quadratischen Zahlen der natürlichen Zahlen beispielsweise durch {x2 | erzeugt x ∈ ∈} oder die Menge komplexer Ganzzahlen {(x, y) | x ∈ ∈ ∧ y ∈ ∈}.\n",
    "\n",
    "Das Listenverständnis ist eine elegante Möglichkeit, Listen in Python zu definieren und zu erstellen. Diese Listen haben oft die Eigenschaften von Mengen, sind aber nicht unbedingt Mengen.\n",
    "\n",
    "Das Listenverständnis ist ein vollständiger Ersatz für die Lambda-Funktion sowie die Funktionen map (), filter () und redu (). Für die meisten Menschen ist die Syntax des Listenverständnisses leichter zu verstehen.\n",
    "\n",
    "### Beispiele\n",
    "Im Kapitel über Lambda und map () haben wir eine map () -Funktion entworfen, um Celsius-Werte in Fahrenheit umzuwandeln und umgekehrt. Es sieht so aus mit Listenverständnis:"
   ]
  },
  {
   "cell_type": "code",
   "execution_count": 17,
   "metadata": {},
   "outputs": [
    {
     "name": "stdout",
     "output_type": "stream",
     "text": [
      "[102.56, 97.7, 99.14, 100.03999999999999]\n"
     ]
    }
   ],
   "source": [
    "Celsius = [39.2, 36.5, 37.3, 37.8]\n",
    "Fahrenheit = [ ((float(9)/5)*x + 32) for x in Celsius ]\n",
    "print(Fahrenheit)"
   ]
  },
  {
   "cell_type": "markdown",
   "metadata": {},
   "source": [
    "Ein pythagoreisches Tripel besteht aus drei positiven ganzen Zahlen a, b und c, so dass\n",
    "$a^2 + b^2 = c^2$.\n",
    "Ein solches Tripel wird üblicherweise geschrieben (a, b, c), und das bekannteste Beispiel ist (3, 4, 5).\n",
    "Das folgende Listenverständnis erzeugt die pythagoreischen Tripel:"
   ]
  },
  {
   "cell_type": "code",
   "execution_count": 18,
   "metadata": {},
   "outputs": [
    {
     "data": {
      "text/plain": [
       "[(3, 4, 5),\n",
       " (5, 12, 13),\n",
       " (6, 8, 10),\n",
       " (7, 24, 25),\n",
       " (8, 15, 17),\n",
       " (9, 12, 15),\n",
       " (10, 24, 26),\n",
       " (12, 16, 20),\n",
       " (15, 20, 25),\n",
       " (20, 21, 29)]"
      ]
     },
     "execution_count": 18,
     "metadata": {},
     "output_type": "execute_result"
    }
   ],
   "source": [
    "[(x,y,z) for x in range(1,30) for y in range(x,30) for z in range(y,30) if x**2 + y**2 == z**2]"
   ]
  },
  {
   "cell_type": "markdown",
   "metadata": {},
   "source": [
    "Ein weiteres Beispiel: A und B seien zwei Mengen, das Kreuzprodukt (oder kartesische Produkt) von A und B, geschrieben A × B, ist die Menge aller Paare, wobei das erste Element ein Mitglied der Menge A und des zweiten Elements ist ist ein Mitglied der Menge B.\n",
    "\n",
    "Mathematische Definition:\n",
    "A × B = {(a, b): a gehört zu A, b gehört zu B}.\n",
    "In Python ist das ganz einfach:"
   ]
  },
  {
   "cell_type": "code",
   "execution_count": 1,
   "metadata": {},
   "outputs": [
    {
     "name": "stdout",
     "output_type": "stream",
     "text": [
      "[('rot', 'Haus'), ('rot', 'Auto'), ('rot', 'Baum'), ('grün', 'Haus'), ('grün', 'Auto'), ('grün', 'Baum'), ('gelb', 'Haus'), ('gelb', 'Auto'), ('gelb', 'Baum'), ('blau', 'Haus'), ('blau', 'Auto'), ('blau', 'Baum')]\n"
     ]
    }
   ],
   "source": [
    "farben = [ \"rot\", \"grün\", \"gelb\", \"blau\" ]\n",
    "sachen = [ \"Haus\", \"Auto\", \"Baum\" ]\n",
    "farbige_sachen = [ (x,y) for x in farben for y in sachen ]\n",
    "print(farbige_sachen)"
   ]
  },
  {
   "cell_type": "markdown",
   "metadata": {},
   "source": [
    "### Generatorverständnis\n",
    "Generator-Verständnis wurde mit Python 2.6 eingeführt. Sie sind einfach wie ein Listenverständnis, aber mit Klammern - runden Klammern - anstelle von (eckigen) Klammern. Ansonsten ist die Syntax und die Arbeitsweise wie das Listenverständnis, aber ein Generatorverständnis gibt einen Generator anstelle einer Liste zurück."
   ]
  },
  {
   "cell_type": "code",
   "execution_count": 16,
   "metadata": {},
   "outputs": [
    {
     "name": "stdout",
     "output_type": "stream",
     "text": [
      "<generator object <genexpr> at 0x000002441374D1C8>\n",
      "[0, 1, 4, 9, 16, 25, 36, 49, 64, 81, 100, 121, 144, 169, 196, 225, 256, 289, 324, 361]\n"
     ]
    }
   ],
   "source": [
    "x = (x **2 for x in range(20))\n",
    "print(x)\n",
    "x = list(x)\n",
    "print(x)"
   ]
  },
  {
   "cell_type": "markdown",
   "metadata": {},
   "source": [
    "### Ein anspruchsvolleres Beispiel\n",
    "Berechnung der Primzahlen zwischen 1 und 100 mit dem Eratosthenes-Sieb:"
   ]
  },
  {
   "cell_type": "code",
   "execution_count": 2,
   "metadata": {},
   "outputs": [
    {
     "name": "stdout",
     "output_type": "stream",
     "text": [
      "[2, 3, 5, 7, 11, 13, 17, 19, 23, 29, 31, 37, 41, 43, 47, 53, 59, 61, 67, 71, 73, 79, 83, 89, 97]\n"
     ]
    }
   ],
   "source": [
    "kein_prim_zahl = [j for i in range(2, 8) for j in range(i*2, 100, i)]\n",
    "prim_zahlen = [x for x in range(2, 100) if x not in kein_prim_zahl]\n",
    "print(prim_zahlen)"
   ]
  },
  {
   "cell_type": "markdown",
   "metadata": {},
   "source": [
    "Wir wollen das vorherige Beispiel in eine allgemeinere Form bringen, damit wir die Liste der Primzahlen bis zu einer beliebigen Zahl n berechnen können:"
   ]
  },
  {
   "cell_type": "code",
   "execution_count": 3,
   "metadata": {},
   "outputs": [
    {
     "data": {
      "text/plain": [
       "[4,\n",
       " 6,\n",
       " 8,\n",
       " 10,\n",
       " 12,\n",
       " 14,\n",
       " 16,\n",
       " 18,\n",
       " 20,\n",
       " 22,\n",
       " 24,\n",
       " 26,\n",
       " 28,\n",
       " 30,\n",
       " 32,\n",
       " 34,\n",
       " 36,\n",
       " 38,\n",
       " 40,\n",
       " 42,\n",
       " 44,\n",
       " 46,\n",
       " 48,\n",
       " 50,\n",
       " 52,\n",
       " 54,\n",
       " 56,\n",
       " 58,\n",
       " 60,\n",
       " 62,\n",
       " 64,\n",
       " 66,\n",
       " 68,\n",
       " 70,\n",
       " 72,\n",
       " 74,\n",
       " 76,\n",
       " 78,\n",
       " 80,\n",
       " 82,\n",
       " 84,\n",
       " 86,\n",
       " 88,\n",
       " 90,\n",
       " 92,\n",
       " 94,\n",
       " 96,\n",
       " 98,\n",
       " 6,\n",
       " 9,\n",
       " 12,\n",
       " 15,\n",
       " 18,\n",
       " 21,\n",
       " 24,\n",
       " 27,\n",
       " 30,\n",
       " 33,\n",
       " 36,\n",
       " 39,\n",
       " 42,\n",
       " 45,\n",
       " 48,\n",
       " 51,\n",
       " 54,\n",
       " 57,\n",
       " 60,\n",
       " 63,\n",
       " 66,\n",
       " 69,\n",
       " 72,\n",
       " 75,\n",
       " 78,\n",
       " 81,\n",
       " 84,\n",
       " 87,\n",
       " 90,\n",
       " 93,\n",
       " 96,\n",
       " 99,\n",
       " 8,\n",
       " 12,\n",
       " 16,\n",
       " 20,\n",
       " 24,\n",
       " 28,\n",
       " 32,\n",
       " 36,\n",
       " 40,\n",
       " 44,\n",
       " 48,\n",
       " 52,\n",
       " 56,\n",
       " 60,\n",
       " 64,\n",
       " 68,\n",
       " 72,\n",
       " 76,\n",
       " 80,\n",
       " 84,\n",
       " 88,\n",
       " 92,\n",
       " 96,\n",
       " 10,\n",
       " 15,\n",
       " 20,\n",
       " 25,\n",
       " 30,\n",
       " 35,\n",
       " 40,\n",
       " 45,\n",
       " 50,\n",
       " 55,\n",
       " 60,\n",
       " 65,\n",
       " 70,\n",
       " 75,\n",
       " 80,\n",
       " 85,\n",
       " 90,\n",
       " 95,\n",
       " 12,\n",
       " 18,\n",
       " 24,\n",
       " 30,\n",
       " 36,\n",
       " 42,\n",
       " 48,\n",
       " 54,\n",
       " 60,\n",
       " 66,\n",
       " 72,\n",
       " 78,\n",
       " 84,\n",
       " 90,\n",
       " 96,\n",
       " 14,\n",
       " 21,\n",
       " 28,\n",
       " 35,\n",
       " 42,\n",
       " 49,\n",
       " 56,\n",
       " 63,\n",
       " 70,\n",
       " 77,\n",
       " 84,\n",
       " 91,\n",
       " 98,\n",
       " 16,\n",
       " 24,\n",
       " 32,\n",
       " 40,\n",
       " 48,\n",
       " 56,\n",
       " 64,\n",
       " 72,\n",
       " 80,\n",
       " 88,\n",
       " 96,\n",
       " 18,\n",
       " 27,\n",
       " 36,\n",
       " 45,\n",
       " 54,\n",
       " 63,\n",
       " 72,\n",
       " 81,\n",
       " 90,\n",
       " 99,\n",
       " 20,\n",
       " 30,\n",
       " 40,\n",
       " 50,\n",
       " 60,\n",
       " 70,\n",
       " 80,\n",
       " 90]"
      ]
     },
     "execution_count": 3,
     "metadata": {},
     "output_type": "execute_result"
    }
   ],
   "source": [
    "from math import sqrt\n",
    "n = 100\n",
    "sqrt_n = int(sqrt(n))\n",
    "kein_prim_zahl = [j for i in range(2, sqrt_n+1) for j in range(i*2, n, i)]\n",
    "kein_prim_zahl"
   ]
  },
  {
   "cell_type": "markdown",
   "metadata": {},
   "source": [
    "Wenn wir uns den Inhalt von kein_prim_zahl ansehen, können wir sehen, dass wir ein Problem haben. Diese Liste enthält viele doppelte Einträge:"
   ]
  },
  {
   "cell_type": "code",
   "execution_count": 13,
   "metadata": {},
   "outputs": [
    {
     "data": {
      "text/plain": [
       "[4,\n",
       " 6,\n",
       " 8,\n",
       " 10,\n",
       " 12,\n",
       " 14,\n",
       " 16,\n",
       " 18,\n",
       " 20,\n",
       " 22,\n",
       " 24,\n",
       " 26,\n",
       " 28,\n",
       " 30,\n",
       " 32,\n",
       " 34,\n",
       " 36,\n",
       " 38,\n",
       " 40,\n",
       " 42,\n",
       " 44,\n",
       " 46,\n",
       " 48,\n",
       " 50,\n",
       " 52,\n",
       " 54,\n",
       " 56,\n",
       " 58,\n",
       " 60,\n",
       " 62,\n",
       " 64,\n",
       " 66,\n",
       " 68,\n",
       " 70,\n",
       " 72,\n",
       " 74,\n",
       " 76,\n",
       " 78,\n",
       " 80,\n",
       " 82,\n",
       " 84,\n",
       " 86,\n",
       " 88,\n",
       " 90,\n",
       " 92,\n",
       " 94,\n",
       " 96,\n",
       " 98,\n",
       " 6,\n",
       " 9,\n",
       " 12,\n",
       " 15,\n",
       " 18,\n",
       " 21,\n",
       " 24,\n",
       " 27,\n",
       " 30,\n",
       " 33,\n",
       " 36,\n",
       " 39,\n",
       " 42,\n",
       " 45,\n",
       " 48,\n",
       " 51,\n",
       " 54,\n",
       " 57,\n",
       " 60,\n",
       " 63,\n",
       " 66,\n",
       " 69,\n",
       " 72,\n",
       " 75,\n",
       " 78,\n",
       " 81,\n",
       " 84,\n",
       " 87,\n",
       " 90,\n",
       " 93,\n",
       " 96,\n",
       " 99,\n",
       " 8,\n",
       " 12,\n",
       " 16,\n",
       " 20,\n",
       " 24,\n",
       " 28,\n",
       " 32,\n",
       " 36,\n",
       " 40,\n",
       " 44,\n",
       " 48,\n",
       " 52,\n",
       " 56,\n",
       " 60,\n",
       " 64,\n",
       " 68,\n",
       " 72,\n",
       " 76,\n",
       " 80,\n",
       " 84,\n",
       " 88,\n",
       " 92,\n",
       " 96,\n",
       " 10,\n",
       " 15,\n",
       " 20,\n",
       " 25,\n",
       " 30,\n",
       " 35,\n",
       " 40,\n",
       " 45,\n",
       " 50,\n",
       " 55,\n",
       " 60,\n",
       " 65,\n",
       " 70,\n",
       " 75,\n",
       " 80,\n",
       " 85,\n",
       " 90,\n",
       " 95,\n",
       " 12,\n",
       " 18,\n",
       " 24,\n",
       " 30,\n",
       " 36,\n",
       " 42,\n",
       " 48,\n",
       " 54,\n",
       " 60,\n",
       " 66,\n",
       " 72,\n",
       " 78,\n",
       " 84,\n",
       " 90,\n",
       " 96,\n",
       " 14,\n",
       " 21,\n",
       " 28,\n",
       " 35,\n",
       " 42,\n",
       " 49,\n",
       " 56,\n",
       " 63,\n",
       " 70,\n",
       " 77,\n",
       " 84,\n",
       " 91,\n",
       " 98,\n",
       " 16,\n",
       " 24,\n",
       " 32,\n",
       " 40,\n",
       " 48,\n",
       " 56,\n",
       " 64,\n",
       " 72,\n",
       " 80,\n",
       " 88,\n",
       " 96,\n",
       " 18,\n",
       " 27,\n",
       " 36,\n",
       " 45,\n",
       " 54,\n",
       " 63,\n",
       " 72,\n",
       " 81,\n",
       " 90,\n",
       " 99,\n",
       " 20,\n",
       " 30,\n",
       " 40,\n",
       " 50,\n",
       " 60,\n",
       " 70,\n",
       " 80,\n",
       " 90]"
      ]
     },
     "execution_count": 13,
     "metadata": {},
     "output_type": "execute_result"
    }
   ],
   "source": []
  },
  {
   "cell_type": "markdown",
   "metadata": {},
   "source": [
    "Die Lösung für dieses unerträgliche Problem ist einfacher als Sie vielleicht denken. Es geht nur darum, eckige Klammern in geschweifte Klammern umzuwandeln, oder mit anderen Worten: Wir werden das Mengenverständnis verwenden.\n",
    "### Verständnis festlegen\n",
    "Ein Mengenverständnis ähnelt einem Listenverständnis, gibt jedoch eine Menge und keine Liste zurück. Syntaktisch verwenden wir geschweifte Klammern anstelle von eckigen Klammern, um eine Menge zu erstellen. Das Verständnis von Sätzen ist die richtige Funktionalität, um unser Problem aus dem vorherigen Unterabschnitt zu lösen. Wir sind in der Lage, die Menge der Nicht-Primzahlen ohne Dubletten zu erstellen:"
   ]
  },
  {
   "cell_type": "code",
   "execution_count": 4,
   "metadata": {},
   "outputs": [
    {
     "data": {
      "text/plain": [
       "{4,\n",
       " 6,\n",
       " 8,\n",
       " 9,\n",
       " 10,\n",
       " 12,\n",
       " 14,\n",
       " 15,\n",
       " 16,\n",
       " 18,\n",
       " 20,\n",
       " 21,\n",
       " 22,\n",
       " 24,\n",
       " 25,\n",
       " 26,\n",
       " 27,\n",
       " 28,\n",
       " 30,\n",
       " 32,\n",
       " 33,\n",
       " 34,\n",
       " 35,\n",
       " 36,\n",
       " 38,\n",
       " 39,\n",
       " 40,\n",
       " 42,\n",
       " 44,\n",
       " 45,\n",
       " 46,\n",
       " 48,\n",
       " 49,\n",
       " 50,\n",
       " 51,\n",
       " 52,\n",
       " 54,\n",
       " 55,\n",
       " 56,\n",
       " 57,\n",
       " 58,\n",
       " 60,\n",
       " 62,\n",
       " 63,\n",
       " 64,\n",
       " 65,\n",
       " 66,\n",
       " 68,\n",
       " 69,\n",
       " 70,\n",
       " 72,\n",
       " 74,\n",
       " 75,\n",
       " 76,\n",
       " 77,\n",
       " 78,\n",
       " 80,\n",
       " 81,\n",
       " 82,\n",
       " 84,\n",
       " 85,\n",
       " 86,\n",
       " 87,\n",
       " 88,\n",
       " 90,\n",
       " 91,\n",
       " 92,\n",
       " 93,\n",
       " 94,\n",
       " 95,\n",
       " 96,\n",
       " 98,\n",
       " 99}"
      ]
     },
     "execution_count": 4,
     "metadata": {},
     "output_type": "execute_result"
    }
   ],
   "source": [
    "from math import sqrt\n",
    "n = 100\n",
    "sqrt_n = int(sqrt(n))\n",
    "kein_prim_zahl = {j for i in range(2, sqrt_n+1) for j in range(i*2, n, i)}\n",
    "kein_prim_zahl"
   ]
  },
  {
   "cell_type": "code",
   "execution_count": 5,
   "metadata": {},
   "outputs": [
    {
     "name": "stdout",
     "output_type": "stream",
     "text": [
      "{2, 3, 5, 7, 11, 13, 17, 19, 23, 29, 31, 37, 41, 43, 47, 53, 59, 61, 67, 71, 73, 79, 83, 89, 97}\n"
     ]
    }
   ],
   "source": [
    "prim_zahlen= {i for i in range(2, n) if i not in kein_prim_zahl}\n",
    "print(prim_zahlen)"
   ]
  },
  {
   "cell_type": "markdown",
   "metadata": {},
   "source": [
    "### Rekursive Funktion zur Berechnung der Primzahlen\n",
    "Das folgende Python-Skript verwendet eine rekursive Funktion, um die Primzahlen zu berechnen. Es beinhaltet die Tatsache, dass es ausreicht, die Vielfachen der Primzahlen bis zur Quadratwurzel von n zu untersuchen:"
   ]
  },
  {
   "cell_type": "code",
   "execution_count": 7,
   "metadata": {},
   "outputs": [
    {
     "name": "stdout",
     "output_type": "stream",
     "text": [
      "1 []\n",
      "2 {2}\n",
      "3 {2, 3}\n",
      "4 {2, 3}\n",
      "5 {2, 3, 5}\n",
      "6 {2, 3, 5}\n",
      "7 {2, 3, 5, 7}\n",
      "8 {2, 3, 5, 7}\n",
      "9 {2, 3, 5, 7}\n",
      "10 {2, 3, 5, 7}\n",
      "11 {2, 3, 5, 7, 11}\n",
      "12 {2, 3, 5, 7, 11}\n",
      "13 {2, 3, 5, 7, 11, 13}\n",
      "14 {2, 3, 5, 7, 11, 13}\n",
      "15 {2, 3, 5, 7, 11, 13}\n",
      "16 {2, 3, 5, 7, 11, 13}\n",
      "17 {2, 3, 5, 7, 11, 13, 17}\n",
      "18 {2, 3, 5, 7, 11, 13, 17}\n",
      "19 {2, 3, 5, 7, 11, 13, 17, 19}\n",
      "20 {2, 3, 5, 7, 11, 13, 17, 19}\n",
      "21 {2, 3, 5, 7, 11, 13, 17, 19}\n",
      "22 {2, 3, 5, 7, 11, 13, 17, 19}\n",
      "23 {2, 3, 5, 7, 11, 13, 17, 19, 23}\n",
      "24 {2, 3, 5, 7, 11, 13, 17, 19, 23}\n",
      "25 {2, 3, 5, 7, 11, 13, 17, 19, 23}\n",
      "26 {2, 3, 5, 7, 11, 13, 17, 19, 23}\n",
      "27 {2, 3, 5, 7, 11, 13, 17, 19, 23}\n",
      "28 {2, 3, 5, 7, 11, 13, 17, 19, 23}\n",
      "29 {2, 3, 5, 7, 11, 13, 17, 19, 23, 29}\n",
      "30 {2, 3, 5, 7, 11, 13, 17, 19, 23, 29}\n",
      "31 {2, 3, 5, 7, 11, 13, 17, 19, 23, 29, 31}\n",
      "32 {2, 3, 5, 7, 11, 13, 17, 19, 23, 29, 31}\n",
      "33 {2, 3, 5, 7, 11, 13, 17, 19, 23, 29, 31}\n",
      "34 {2, 3, 5, 7, 11, 13, 17, 19, 23, 29, 31}\n",
      "35 {2, 3, 5, 7, 11, 13, 17, 19, 23, 29, 31}\n",
      "36 {2, 3, 5, 7, 11, 13, 17, 19, 23, 29, 31}\n",
      "37 {2, 3, 5, 37, 7, 11, 13, 17, 19, 23, 29, 31}\n",
      "38 {2, 3, 5, 37, 7, 11, 13, 17, 19, 23, 29, 31}\n",
      "39 {2, 3, 5, 37, 7, 11, 13, 17, 19, 23, 29, 31}\n",
      "40 {2, 3, 5, 37, 7, 11, 13, 17, 19, 23, 29, 31}\n",
      "41 {2, 3, 5, 37, 7, 41, 11, 13, 17, 19, 23, 29, 31}\n",
      "42 {2, 3, 5, 37, 7, 41, 11, 13, 17, 19, 23, 29, 31}\n",
      "43 {2, 3, 5, 37, 7, 41, 11, 43, 13, 17, 19, 23, 29, 31}\n",
      "44 {2, 3, 5, 37, 7, 41, 11, 43, 13, 17, 19, 23, 29, 31}\n",
      "45 {2, 3, 5, 37, 7, 41, 11, 43, 13, 17, 19, 23, 29, 31}\n",
      "46 {2, 3, 5, 37, 7, 41, 11, 43, 13, 17, 19, 23, 29, 31}\n",
      "47 {2, 3, 5, 37, 7, 41, 11, 43, 13, 47, 17, 19, 23, 29, 31}\n",
      "48 {2, 3, 5, 37, 7, 41, 11, 43, 13, 47, 17, 19, 23, 29, 31}\n",
      "49 {2, 3, 5, 37, 7, 41, 11, 43, 13, 47, 17, 19, 23, 29, 31}\n"
     ]
    }
   ],
   "source": [
    "from math import sqrt\n",
    "def prim_zahlen(n):\n",
    "    if n == 0:\n",
    "        return []\n",
    "    elif n == 1:\n",
    "        return []\n",
    "    else:\n",
    "        p = prim_zahlen(int(sqrt(n)))\n",
    "        no_p = {j for i in p for j in range(i*2, n+1, i)}\n",
    "        p = {x for x in range(2, n + 1) if x not in no_p}\n",
    "    return p\n",
    "\n",
    "for i in range(1,50):\n",
    "    print(i, prim_zahlen(i))"
   ]
  },
  {
   "cell_type": "markdown",
   "metadata": {},
   "source": [
    "### Unterschiede zwischen Version 2.x und 3.x.\n",
    "In Python 2 ist die Schleifensteuervariable nicht lokal, d. H. Sie kann eine andere Variable dieses Namens außerhalb des Listenverständnisses ändern, wie wir im folgenden Beispiel sehen können:"
   ]
  },
  {
   "cell_type": "markdown",
   "metadata": {},
   "source": [
    "<pre>\n",
    "x = \"This value will be changed in the list comprehension\"\n",
    "res = [x for x in range(3)]\n",
    "res\n",
    "[0, 1, 2]\n",
    "x\n",
    "2\n",
    "res = [i for i in range(5)]\n",
    "i\n",
    "4\n",
    "</pre>"
   ]
  },
  {
   "cell_type": "markdown",
   "metadata": {},
   "source": [
    "Guido van Rossum bezeichnete diesen Effekt als \"eines von Pythons 'schmutzigen kleinen Geheimnissen' seit Jahren\" .1 Der Grund dafür war die Effizienz. \"Es begann als absichtlicher Kompromiss, Listenverständnisse unglaublich schnell zu machen, und obwohl es für Anfänger keine häufige Gefahr war, stach es definitiv gelegentlich Menschen.\"\n",
    "\n",
    "Dieses \"schmutzige kleine Geheimnis\" ist in Python3 behoben, wie Sie im folgenden Code sehen können:"
   ]
  },
  {
   "cell_type": "code",
   "execution_count": 8,
   "metadata": {},
   "outputs": [
    {
     "name": "stdout",
     "output_type": "stream",
     "text": [
      "[0, 1, 2]\n"
     ]
    },
    {
     "data": {
      "text/plain": [
       "'Python 3 fixed the dirty little secret'"
      ]
     },
     "execution_count": 8,
     "metadata": {},
     "output_type": "execute_result"
    }
   ],
   "source": [
    "x = \"Python 3 fixed the dirty little secret\"\n",
    "res = [x for x in range(3)]\n",
    "print(res)\n",
    "[0, 1, 2]\n",
    "x "
   ]
  },
  {
   "cell_type": "markdown",
   "metadata": {},
   "source": [
    "Fußnoten:\n",
    "1 Guido van Rossum: From List Comprehensions to Generator Expressions\n",
    "\n",
    "2 dto."
   ]
  }
 ],
 "metadata": {
  "kernelspec": {
   "display_name": "Python 3",
   "language": "python",
   "name": "python3"
  },
  "language_info": {
   "codemirror_mode": {
    "name": "ipython",
    "version": 3
   },
   "file_extension": ".py",
   "mimetype": "text/x-python",
   "name": "python",
   "nbconvert_exporter": "python",
   "pygments_lexer": "ipython3",
   "version": "3.8.8"
  }
 },
 "nbformat": 4,
 "nbformat_minor": 2
}
