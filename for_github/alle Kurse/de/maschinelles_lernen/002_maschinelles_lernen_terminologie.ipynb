{
 "cells": [
  {
   "cell_type": "markdown",
   "metadata": {},
   "source": [
    "## Maschinelles Lernen Terminologie\n",
    "\n",
    "\n",
    "<img width=\"60%\" class=\"imgright\" src=\"../images/terminology_cylinder.webp\" srcset=\"../images/terminology_cylinder_700w.webp 700w,../images/terminology_cylinder_600w.webp 600w,../images/terminology_cylinder_500w.webp 500w,../images/terminology_cylinder_400w.webp 400w,../images/terminology_cylinder_350w.webp 350w,../images/terminology_cylinder_300w.webp 300w\" alt=\"Machine Learning Terminology\" />\n",
    "\n",
    "\n",
    "#### Klassifikator\n",
    "Ein Programm oder eine Funktion die unstrukturierte Daten zu Klassen zuordnet, wird als Klassifikator bezeichnet.\n",
    "\n",
    "#### Konfusionsmatrix\n",
    "\n",
    "Eine Konfusionsmatrix, auch Kontingenztablle oder Fehlermatrix genannt, wird für die Darstellung der Performance eines Klassifikators verwendet.\n",
    "\n",
    "Die Spalten der Matrix stellen die Instanzen der vorhergesagten Klassen dar. Die Zeilen stellen die Instanzen der aktuellen Klasse dar. (Hinweis: Es kann ebenso auch andersherum dargestellt werden.)\n",
    "\n",
    "Im Falle der binären Klassifikation hat die Tabelle 2 Spalten und 2 Zeilen.\n",
    "\n",
    "Beispiel:\n",
    "\n",
    "<style type=\"text/css\">\n",
    ".tg  {border-collapse:collapse;border-spacing:0;}\n",
    ".tg td{font-family:Arial, sans-serif;font-size:14px;padding:10px 5px;border-style:solid;border-width:1px;overflow:hidden;word-break:normal;}\n",
    ".tg th{font-family:Arial, sans-serif;font-size:14px;font-weight:normal;padding:10px 5px;border-style:solid;border-width:1px;overflow:hidden;word-break:normal;}\n",
    ".tg .tg-baqh{text-align:center;vertical-align:top}\n",
    ".tg .tg-hcxd{font-weight:bold;background-color:#003532;color:#ffcc67;vertical-align:top}\n",
    ".tg .tg-2de4{background-color:#c0c0c0;color:#000000;text-align:right;vertical-align:top}\n",
    ".tg .tg-lqy6{text-align:right;vertical-align:top}\n",
    ".tg .tg-5mgg{font-weight:bold;background-color:#c0c0c0;vertical-align:top}\n",
    ".tg .tg-n17z{font-weight:bold;background-color:#013300;color:#ffcc67;vertical-align:top}\n",
    ".tg .tg-ddj9{background-color:#c0c0c0;color:#000000;text-align:center;vertical-align:top}\n",
    ".tg .tg-wsyr{background-color:#c0c0c0;color:#333333;vertical-align:top}\n",
    "</style>\n",
    "<table class=\"tg\">\n",
    "  <tr>\n",
    "    <th class=\"tg-5mgg\" colspan=\"2\" rowspan=\"2\">Konfusions<br>Matrix<br></th>\n",
    "    <th class=\"tg-n17z\" colspan=\"2\">Vorhergesagte Klassen<br></th>\n",
    "  </tr>\n",
    "  <tr>\n",
    "    <td class=\"tg-ddj9\">männlich</td>\n",
    "    <td class=\"tg-2de4\">weiblich<br></td>\n",
    "  </tr>\n",
    "  <tr>\n",
    "  <td class=\"tg-hcxd\" rowspan=\"2\">\n",
    "  <div style=\"display: inline-block; -ms-transform: rotate(-90deg); -webkit-transform: rotate(90deg); transform: rotate(90deg);;\">Aktuelle<br>\n",
    "Klassen</div><br></td>\n",
    "    <td class=\"tg-wsyr\">männlich</td>\n",
    "    <td class=\"tg-baqh\">42</td>\n",
    "    <td class=\"tg-lqy6\">8<br></td>\n",
    "  </tr>\n",
    "  <tr>\n",
    "    <td class=\"tg-wsyr\">weiblich</td>\n",
    "    <td class=\"tg-baqh\">18</td>\n",
    "    <td class=\"tg-lqy6\">32</td>\n",
    "  </tr>\n",
    "</table>\n",
    "\n",
    "Das bedeutet, dass der Klassifikator in 42 Fällen korrekt eine männliche Person vorhergesagt hat und in 8 Fällen fälschlicherweise männliche Personen als weibliche vorhergesagt hat.\n",
    "In 32 Fällen hat er bei weiblichen Personen richtig gelegen, jedoch bei 18 Personen wurde männlich statt weiblich vorhergesagt."
   ]
  },
  {
   "cell_type": "markdown",
   "metadata": {},
   "source": [
    "#### Genauigkeit (Fehlerrate)\n",
    "\n",
    "Die Genauigkeit ist eine statistische Messung die definiert ist als der Quotient aus den korrekten Vorhersagen und der Summe der insgesamt gemachten Vorhersagen des Klassifikators.\n",
    "\n",
    "Der Klassifikator in unserem Beispiel hat 42 männliche und 32 weibliche Personen korrekt vorhergesagt.\n",
    "\n",
    "Die Genauigkeit kann damit wie folgt berechnet werden:\n",
    "\n",
    "genauigkeit = $(42 + 32) / (42 + 8 + 18 + 32)$\n",
    "\n",
    "was 0.72 ergibt.\n",
    "\n",
    "Angenommen wir haben einen Klassifikator, der immer \"weiblich\" vorhersagt.\n",
    "Damit haben wir eine Genauigkeit von 50 %."
   ]
  },
  {
   "cell_type": "markdown",
   "metadata": {},
   "source": [
    "<table class=\"tg\">\n",
    "  <tr>\n",
    "    <th class=\"tg-5mgg\" colspan=\"2\" rowspan=\"2\">Konfusions<br>Matrix<br></th>\n",
    "    <th class=\"tg-n17z\" colspan=\"2\">Vorhergesagte Klassen<br></th>\n",
    "  </tr>\n",
    "  <tr>\n",
    "    <td class=\"tg-ddj9\">männlich</td>\n",
    "    <td class=\"tg-2de4\">weiblich<br></td>\n",
    "  </tr>\n",
    "  <tr>\n",
    "  <td class=\"tg-hcxd\" rowspan=\"2\">\n",
    "  <div style=\"display: inline-block; -ms-transform: rotate(-90deg); -webkit-transform: rotate(90deg); transform: rotate(90deg);;\">Aktuelle<br>\n",
    "Klassen</div><br></td>\n",
    "    <td class=\"tg-wsyr\">männlich</td>\n",
    "    <td class=\"tg-baqh\">0</td>\n",
    "    <td class=\"tg-lqy6\">50<br></td>\n",
    "  </tr>\n",
    "  <tr>\n",
    "    <td class=\"tg-wsyr\">weiblich</td>\n",
    "    <td class=\"tg-baqh\">0</td>\n",
    "    <td class=\"tg-lqy6\">50</td>\n",
    "  </tr>\n",
    "</table>\n"
   ]
  },
  {
   "cell_type": "markdown",
   "metadata": {},
   "source": [
    "Wir demonstrieren das s.g. Genauigkeits-Paradox.\n",
    "\n",
    "Ein Spam-Erkennungs-Klassifikator wird durch die folgende Konfusionsmatrix beschrieben:"
   ]
  },
  {
   "cell_type": "markdown",
   "metadata": {},
   "source": [
    "<table class=\"tg\">\n",
    "  <tr>\n",
    "    <th class=\"tg-5mgg\" colspan=\"2\" rowspan=\"2\">Konfusions<br>Matrix<br></th>\n",
    "    <th class=\"tg-n17z\" colspan=\"2\">Vorhergesagte Klassen<br></th>\n",
    "  </tr>\n",
    "  <tr>\n",
    "    <td class=\"tg-ddj9\">spam</td>\n",
    "    <td class=\"tg-2de4\">ham<br></td>\n",
    "  </tr>\n",
    "  <tr>\n",
    "  <td class=\"tg-hcxd\" rowspan=\"2\">\n",
    "  <div style=\"display: inline-block; -ms-transform: rotate(-90deg); -webkit-transform: rotate(90deg); transform: rotate(90deg);;\">Aktuelle<br>\n",
    "Klassen</div><br></td>\n",
    "    <td class=\"tg-wsyr\">spam</td>\n",
    "    <td class=\"tg-baqh\">4</td>\n",
    "    <td class=\"tg-lqy6\">1<br></td>\n",
    "  </tr>\n",
    "  <tr>\n",
    "    <td class=\"tg-wsyr\">ham</td>\n",
    "    <td class=\"tg-baqh\">4</td>\n",
    "    <td class=\"tg-lqy6\">91</td>\n",
    "  </tr>\n",
    "</table>"
   ]
  },
  {
   "cell_type": "markdown",
   "metadata": {},
   "source": [
    "Die Genauigkeit dieses Klassifikators ist $(4 + 91) / 100$, also 95 %.\n",
    "\n",
    "Der folgende Klassifikator bestimmt \"ham\" mit der gleichen Genauigkeit."
   ]
  },
  {
   "cell_type": "markdown",
   "metadata": {},
   "source": [
    "<table class=\"tg\">\n",
    "  <tr>\n",
    "    <th class=\"tg-5mgg\" colspan=\"2\" rowspan=\"2\">Konfusions<br>Matrix<br></th>\n",
    "    <th class=\"tg-n17z\" colspan=\"2\">Vorhergesagte Klassen<br></th>\n",
    "  </tr>\n",
    "  <tr>\n",
    "    <td class=\"tg-ddj9\">spam</td>\n",
    "    <td class=\"tg-2de4\">ham<br></td>\n",
    "  </tr>\n",
    "  <tr>\n",
    "  <td class=\"tg-hcxd\" rowspan=\"2\">\n",
    "  <div style=\"display: inline-block; -ms-transform: rotate(-90deg); -webkit-transform: rotate(90deg); transform: rotate(90deg);;\">Aktuelle<br>\n",
    "Klassen</div><br></td>\n",
    "    <td class=\"tg-wsyr\">spam</td>\n",
    "    <td class=\"tg-baqh\">0</td>\n",
    "    <td class=\"tg-lqy6\">5<br></td>\n",
    "  </tr>\n",
    "  <tr>\n",
    "    <td class=\"tg-wsyr\">ham</td>\n",
    "    <td class=\"tg-baqh\">0</td>\n",
    "    <td class=\"tg-lqy6\">95</td>\n",
    "  </tr>\n",
    "</table>"
   ]
  },
  {
   "cell_type": "markdown",
   "metadata": {},
   "source": [
    "Die Genauigkeit dieses Klassifikators liegt bei 95 %, selbst dann, wenn er nicht in der Lage ist Spam zu erkennen."
   ]
  },
  {
   "cell_type": "markdown",
   "metadata": {},
   "source": [
    "#### Präzision und Wiederaufruf (Recall)"
   ]
  },
  {
   "cell_type": "markdown",
   "metadata": {},
   "source": [
    "<table class=\"tg\">\n",
    "  <tr>\n",
    "    <th class=\"tg-5mgg\" colspan=\"2\" rowspan=\"2\">Konfusions<br>Matrix<br></th>\n",
    "    <th class=\"tg-n17z\" colspan=\"2\">Vorhergesagte Klassen<br></th>\n",
    "  </tr>\n",
    "  <tr>\n",
    "    <td class=\"tg-ddj9\">negativ</td>\n",
    "    <td class=\"tg-2de4\">positiv<br></td>\n",
    "  </tr>\n",
    "  <tr>\n",
    "  <td class=\"tg-hcxd\" rowspan=\"2\">\n",
    "  <div style=\"display: inline-block; -ms-transform: rotate(-90deg); -webkit-transform: rotate(90deg); transform: rotate(90deg);;\">Aktuelle<br>\n",
    "Klassen</div><br></td>\n",
    "    <td class=\"tg-wsyr\">negativ</td>\n",
    "    <td class=\"tg-baqh\">TN</td>\n",
    "    <td class=\"tg-lqy6\">FP<br></td>\n",
    "  </tr>\n",
    "  <tr>\n",
    "    <td class=\"tg-wsyr\">positiv</td>\n",
    "    <td class=\"tg-baqh\">FN</td>\n",
    "    <td class=\"tg-lqy6\">TP</td>\n",
    "  </tr>\n",
    "</table>"
   ]
  },
  {
   "cell_type": "markdown",
   "metadata": {},
   "source": [
    "Genauigkeit: $(TN + TP)/(TN + TP + FN + FP)$\n",
    "\n",
    "Präzision: $TP / (TP + FP)$\n",
    "\n",
    "Wiederaufruf (Recall): $ TP / (TP + FN)$\n",
    "\n",
    " "
   ]
  },
  {
   "cell_type": "markdown",
   "metadata": {},
   "source": [
    "#### Überwachtes Lernen (Supervised Learning)\n",
    "\n",
    "Das Machine Learning-Programm wird sowohl mit Daten, als auch mit den zugehörigen Bezeichnungen (Labels) versorgt. Die zu lernenden Daten müssen also vorher durch einen Menschen manuell bezeichnet werden.\n",
    "\n",
    "#### Nicht überwachtes Lernen (Unsupervised Learning)\n",
    "\n",
    "Es sind keine Bezeichnungen (Labels) gegeben. Der Machine Learning-Algorithmus muss aus den Daten Gemeinsamkeiten (Cluster) herausfinden.\n",
    "\n",
    "#### Bestärkendes Lernen (Reinforcement learning)\n",
    "\n",
    "Ein Computer-Programm interagiert mit seiner Umgebung. Es bekommt also positive und/oder negative Rückmeldung um sein Verhalten zu verbessern."
   ]
  }
 ],
 "metadata": {
  "anaconda-cloud": {},
  "kernelspec": {
   "display_name": "Python 3",
   "language": "python",
   "name": "python3"
  },
  "language_info": {
   "codemirror_mode": {
    "name": "ipython",
    "version": 3
   },
   "file_extension": ".py",
   "mimetype": "text/x-python",
   "name": "python",
   "nbconvert_exporter": "python",
   "pygments_lexer": "ipython3",
   "version": "3.7.6"
  }
 },
 "nbformat": 4,
 "nbformat_minor": 4
}
