{
 "cells": [
  {
   "cell_type": "markdown",
   "metadata": {},
   "source": [
    "## Metriken zu Evaluation\n",
    "\n",
    "### Einführen\n",
    "<img width=\"60%\" class=\"imgright\"  src=\"../images/sniper.webp\" srcset=\"../images/sniper_700w.webp 700w,../images/sniper_600w.webp 600w,../images/sniper_500w.webp 500w,../images/sniper_400w.webp 400w,../images/sniper_350w.webp 350w,../images/sniper_300w.webp 300w\" alt=\"Scharfschütze\" />\n",
    "\n",
    "\n",
    "Nicht nur beim maschinellen Lernen, sondern auch im allgemeinen Leben, insbesondere im Geschäftsleben, werden Sie Fragen wie \"Wie genau ist Ihr Produkt?\"  oder \"Wie präzise ist Ihre Maschine?\" hören. Wenn Leute Antworten wie \"Dies ist das genaueste Produkt auf seinem Gebiet!\"  oder \"Diese Maschine hat die höchste vorstellbare Präzision!\" erhalten, fühlen sich beide Antworten gut an. Sollten sie nicht? Wenn Sie beide Antworten gleichzeitig erhalten ja, aber jeweils eine alleine könnte problematisch sein. In der Tat werden die Begriffe \"genau\" und \"präzise\" sehr oft synonym verwendet. Wir werden später im Text genaue Definitionen geben, aber kurz gesagt können wir sagen: Genauigkeit ist ein Maß für die Nähe einiger Messungen zu einem bestimmten Wert, während Präzision die Nähe der Messungen zueinander ist.\n",
    "\n",
    "Diese Begriffe sind auch beim maschinellen Lernen von äußerster Wichtigkeit. Wir brauchen sie zur Bewertung von ML-Algorithmen oder besser zu ihren Ergebnissen.\n",
    "\n",
    "In diesem Kapitel unseres Python-Lernprogramms für maschinelles Lernen werden vier wichtige Metriken vorgestellt. Diese Metriken werden verwendet, um die Ergebnisse von Klassifizierungen auszuwerten.\n",
    "\n",
    "Die Metriken sind:\n",
    "\n",
    "- Genauigkeit (engl. Accuracy) \n",
    "- Präzision (engl. precision)\n",
    "- Recall\n",
    "- F-Maß (englisch F1-score)\n",
    "\n",
    "Wir werden jede dieser Metriken vorstellen und ihre Vor- und Nachteile  diskutieren.\n",
    "Jede Metrik misst andere Aspekte der Leistung eines Klassifikators. Die Metriken sind für alle Kapitel unseres Tutorials zum maschinellen Lernen von größter Bedeutung. \n",
    "\n",
    "\n",
    "\n",
    "\n",
    "### Genauigkeit gegenüber Präzision\n",
    "\n",
    "\n",
    "Die **Genauigkeit** ist ein Maß für die Nähe von Messungen zu einem bestimmten Wert (dem gewünschten Wert), während die **Präzision** ein Maß für die Nähe der Messungen zueinander ist, d.h. also nicht notwendig zu einem tatsächlichen oder gewünschten Wert. Mit anderen Worten: Wenn wir einen Satz von Datenpunkten aus wiederholten Messungen derselben Größe haben, wird der Satz als genau bezeichnet, wenn ihr Durchschnitt nahe am tatsächlichen Wert  liegt. Andererseits nennen wir die Menge präzise, wenn die Messwerte nahe beieinander liegen, aber möglicherweise entfernt vom tatsächlichen Wert. Die beiden Konzepte sind unabhängig voneinander, was bedeutet, dass der Datensatz genau, präzise, präzise und genau oder keins von beides sein kann. Wir zeigen dies im folgenden Diagramm: \n",
    "\n",
    "<img width=\"80%\"  src=\"../images/genau_vs_präzise.webp\" srcset=\"../images/genau_vs_präzise_800w.webp 800w,../images/genau_vs_präzise_700w.webp 700w,../images/genau_vs_präzise_600w.webp 600w,../images/genau_vs_präzise_500w.webp 500w,../images/genau_vs_präzise_400w.webp 400w,../images/genau_vs_präzise_350w.webp 350w,../images/genau_vs_präzise_300w.webp 300w\" alt=\"accuracy versus precision\" />"
   ]
  },
  {
   "cell_type": "markdown",
   "metadata": {},
   "source": [
    "### Wahrheitsmatrix\n",
    "\n",
    "Bevor wir mit dem Begriff \"Genauigkeit\" fortfahren, möchten wir sicherstellen, dass Sie verstehen, worum es in einer Wahrheitsmatrix, auch Konfusionsmatrix (englisch confusion matrx) genannt, geht. \n",
    "\n",
    "Eine Konfusionsmatrix  wird verwendet, um die Leistung eines Klassifikators zu visualisieren.\n",
    "\n",
    "Die Spalten der Matrix repräsentieren die Instanzen der vorhergesagten Klassen und die Zeilen repräsentieren die Instanzen der tatsächlichen Klassen. (Hinweis: Es kann auch umgekehrt sein.)\n",
    "\n",
    "Bei der binären Klassifizierung hat die Tabelle 2 Zeilen und 2 Spalten. "
   ]
  },
  {
   "cell_type": "markdown",
   "metadata": {},
   "source": [
    "Wir wollen dieses Konzept mit einem Beispiel erläutern.\n",
    "\n",
    "<p>Beispiel:</p>\n",
    "<p><style type=\"text/css\">\n",
    ".tg  {border-collapse:collapse;border-spacing:0;}\n",
    ".tg td{font-family:Arial, sans-serif;font-size:14px;padding:10px 5px;border-style:solid;border-width:1px;overflow:hidden;word-break:normal;}\n",
    ".tg th{font-family:Arial, sans-serif;font-size:14px;font-weight:normal;padding:10px 5px;border-style:solid;border-width:1px;overflow:hidden;word-break:normal;}\n",
    ".tg .tg-baqh{text-align:center;vertical-align:top}\n",
    ".tg .tg-hcxd{font-weight:bold;background-color:#003532;color:#ffcc67;vertical-align:top}\n",
    ".tg .tg-2de4{background-color:#c0c0c0;color:#000000;text-align:right;vertical-align:top}\n",
    ".tg .tg-lqy6{text-align:right;vertical-align:top}\n",
    ".tg .tg-5mgg{font-weight:bold;background-color:#c0c0c0;vertical-align:top}\n",
    ".tg .tg-n17z{font-weight:bold;background-color:#013300;color:#ffcc67;vertical-align:top}\n",
    ".tg .tg-ddj9{background-color:#c0c0c0;color:#000000;text-align:center;vertical-align:top}\n",
    ".tg .tg-wsyr{background-color:#c0c0c0;color:#333333;vertical-align:top}\n",
    "</style></p>\n",
    "<table class=\"tg\">\n",
    "  <tr>\n",
    "    <th class=\"tg-5mgg\" colspan=\"2\" rowspan=\"2\">Konfusionsmatrix<br></th>\n",
    "    <th class=\"tg-n17z\" colspan=\"2\">Prognostizierte Klassen<br></th>\n",
    "  </tr>\n",
    "  <tr>\n",
    "    <td class=\"tg-ddj9\">Katze</td>\n",
    "    <td class=\"tg-2de4\">Hund<br></td>\n",
    "  </tr>\n",
    "  <tr>\n",
    "  <td class=\"tg-hcxd\" rowspan=\"2\">\n",
    "  <div style=\"display: inline-block; -ms-transform: rotate(-90deg); -webkit-transform: rotate(90deg); transform: rotate(90deg);;\">Tatsächliche<br>\n",
    "Klassen</div><br></td>\n",
    "    <td class=\"tg-wsyr\">Katze</td>\n",
    "    <td class=\"tg-baqh\">42</td>\n",
    "    <td class=\"tg-lqy6\">8<br></td>\n",
    "  </tr>\n",
    "  <tr>\n",
    "    <td class=\"tg-wsyr\">Hund</td>\n",
    "    <td class=\"tg-baqh\">18</td>\n",
    "    <td class=\"tg-lqy6\">32</td>\n",
    "  </tr>\n",
    "</table>\n",
    "\n",
    "\n",
    "<p>Dies bedeutet, dass der Klassifikator eine Katze in 42 Fällen korrekt vorhergesagt hat und 8 Katzeninstanzen fälschlicherweise als Hund vorhergesagt hat.\n",
    "Es wurden 32 Fälle als Hund korrekt vorhergesagt. 18 Fälle wurden fälschlicherweise als Katze statt als Hund vorhergesagt. </p>\n",
    "\n",
    "\n",
    "### Genauigkeit bei der Klassifizierung\n",
    "\n",
    "Wir interessieren uns für maschinelles Lernen und Genauigkeit wird auch als statistische Messgröße verwendet.\n",
    "Die Genauigkeit ist ein statistisches Maß, das als Quotient korrekter Vorhersagen (sowohl True Positives (TP) als auch True Negatives (TN)) eines Klassifikators geteilt durch die Summe aller vom Klassifikator gemachten Vorhersagen, einschließlich falsch Positive (FP) und falsch Negative (FN) definiert wird. Daher lautet die Formel zur Quantifizierung der binären Genauigkeit :\n",
    "<br><br>\n",
    "$$ Genauigkeit = {{TP + TN} \\over {TP + TN + FP + FN}} $$\n",
    "\n",
    "wobei gilt: TP = True positive; FP = False positive; TN = True negative; FN = False negative \n",
    "\n",
    "Die dazugehörige Konfusionsmatrix sieht wie folgt aus:\n",
    "\n",
    "<div class=\"text_cell_render border-box-sizing rendered_html\">\n",
    "<table class=\"tg\">\n",
    "  <tr>\n",
    "    <th class=\"tg-5mgg\" colspan=\"2\" rowspan=\"2\">Confusion<br>Matrix<br></th>\n",
    "    <th class=\"tg-n17z\" colspan=\"2\">Vorhergesagte Klassen<br></th>\n",
    "  </tr>\n",
    "  <tr>\n",
    "    <td class=\"tg-ddj9\">negativ</td>\n",
    "    <td class=\"tg-2de4\">positiv<br></td>\n",
    "  </tr>\n",
    "  <tr>\n",
    "  <td class=\"tg-hcxd\" rowspan=\"2\"><b>\n",
    "  <div style=\"display: inline-block; -ms-transform: rotate(-90deg); -webkit-transform: rotate(90deg); transform: rotate(90deg);;\">Tatsächliche<br>\n",
    "Klassen</div></b><br></td>\n",
    "    <td class=\"tg-wsyr\">negativ</td>\n",
    "    <td class=\"tg-baqh\">TN</td>\n",
    "    <td class=\"tg-lqy6\">FP</td>\n",
    "  </tr>\n",
    "  <tr>\n",
    "    <td class=\"tg-wsyr\">positiv</td>\n",
    "    <td class=\"tg-baqh\">FN</td>\n",
    "    <td class=\"tg-lqy6\">TP</td>\n",
    "  </tr>\n",
    "</table>\n",
    "</div>\n"
   ]
  },
  {
   "cell_type": "markdown",
   "metadata": {},
   "source": [
    "\n",
    "\n"
   ]
  },
  {
   "cell_type": "markdown",
   "metadata": {},
   "source": [
    "Wir werden nun die Genauigkeit für die Ergebnisse der Katzen- und Hundeklassifizierung berechnen. Anstelle von \"richtig\" und \"falsch\" sehen wir hier \"Katze\" und \"Hund\". Wir können die Genauigkeit so berechnen :"
   ]
  },
  {
   "cell_type": "code",
   "execution_count": 1,
   "metadata": {},
   "outputs": [
    {
     "name": "stdout",
     "output_type": "stream",
     "text": [
      "0.74\n"
     ]
    }
   ],
   "source": [
    "TP = 42\n",
    "TN = 32\n",
    "FP = 8\n",
    "FN = 18\n",
    "\n",
    "genauigkeit = (TP + TN)/(TP + TN + FP + FN)\n",
    "print(genauigkeit)"
   ]
  },
  {
   "cell_type": "markdown",
   "metadata": {},
   "source": [
    "<p>Nehmen wir an, dass eir einen Klassifikator hätten, der immer \"Hund\" vorhersagt.</p>\n",
    "\n",
    "<table class=\"tg\">\n",
    "  <tr>\n",
    "    <th class=\"tg-5mgg\" colspan=\"2\" rowspan=\"2\">Konfusionsmtrix<br></th>\n",
    "    <th class=\"tg-n17z\" colspan=\"2\">Vorhergesagte Klassen<br></th>\n",
    "  </tr>\n",
    "  <tr>\n",
    "    <td class=\"tg-ddj9\">Katze</td>\n",
    "    <td class=\"tg-2de4\">Hund<br></td>\n",
    "  </tr>\n",
    "  <tr>\n",
    "  <td class=\"tg-hcxd\" rowspan=\"2\">\n",
    "  <div style=\"display: inline-block; -ms-transform: rotate(-90deg); -webkit-transform: rotate(90deg); transform: rotate(90deg);;\">Actual<br>\n",
    "classes</div><br></td>\n",
    "    <td class=\"tg-wsyr\">Katze</td>\n",
    "    <td class=\"tg-baqh\">0</td>\n",
    "    <td class=\"tg-lqy6\">50<br></td>\n",
    "  </tr>\n",
    "  <tr>\n",
    "    <td class=\"tg-wsyr\">Hund</td>\n",
    "    <td class=\"tg-baqh\">0</td>\n",
    "    <td class=\"tg-lqy6\">50</td>\n",
    "  </tr>\n",
    "</table>\n",
    "\n",
    "\n",
    "In diesem Fall haben wir eine Genauigkeit von 0.5:"
   ]
  },
  {
   "cell_type": "code",
   "execution_count": 2,
   "metadata": {},
   "outputs": [
    {
     "name": "stdout",
     "output_type": "stream",
     "text": [
      "0.5\n"
     ]
    }
   ],
   "source": [
    "TP, TN, FP, FN = 0, 50, 50, 0\n",
    "genauigkeit = (TP + TN)/(TP + TN + FP + FN)\n",
    "print(genauigkeit)"
   ]
  },
  {
   "cell_type": "markdown",
   "metadata": {},
   "source": [
    "### Genauigkeitsparadoxon\n",
    "\n",
    "\n",
    "<p>Wir werden das sogenannte Genauigkeitsparadoxon demonstrieren. </p>\n",
    "<p>Ein Spam-Erkennungsklassifizierer wird durch die folgende Konfusionsmatrix beschrieben. Dabei steht \"spam\" für die Spam-Emails und \"ham\" für die guten Emails/p>\n",
    "\n",
    "<table class=\"tg\">\n",
    "  <tr>\n",
    "    <th class=\"tg-5mgg\" colspan=\"2\" rowspan=\"2\">Konfusionsmatrix<br></th>\n",
    "    <th class=\"tg-n17z\" colspan=\"2\">Vorhergesagte Klassen<br></th>\n",
    "  </tr>\n",
    "  <tr>\n",
    "    <td class=\"tg-ddj9\">spam</td>\n",
    "    <td class=\"tg-2de4\">ham<br></td>\n",
    "  </tr>\n",
    "  <tr>\n",
    "  <td class=\"tg-hcxd\" rowspan=\"2\">\n",
    "  <div style=\"display: inline-block; -ms-transform: rotate(-90deg); -webkit-transform: rotate(90deg); transform: rotate(90deg);;\">Tatsächliche<br>\n",
    "Klassen</div><br></td>\n",
    "    <td class=\"tg-wsyr\">spam</td>\n",
    "    <td class=\"tg-baqh\">4</td>\n",
    "    <td class=\"tg-lqy6\">1<br></td>\n",
    "  </tr>\n",
    "  <tr>\n",
    "    <td class=\"tg-wsyr\">ham</td>\n",
    "    <td class=\"tg-baqh\">4</td>\n",
    "    <td class=\"tg-lqy6\">91</td>\n",
    "  </tr>\n",
    "</table>"
   ]
  },
  {
   "cell_type": "code",
   "execution_count": 7,
   "metadata": {},
   "outputs": [
    {
     "name": "stdout",
     "output_type": "stream",
     "text": [
      "0.95\n"
     ]
    }
   ],
   "source": [
    "TP, TN, FP, FN = 4, 91, 1, 4\n",
    "genauigkeit = (TP + TN)/(TP + TN + FP + FN)\n",
    "print(genauigkeit)"
   ]
  },
  {
   "cell_type": "markdown",
   "metadata": {},
   "source": [
    "<p>Der folgende Klassifikator sagt immer nur \"ham\" voraus und hat die gleich Genauigkeit.</p>\n",
    "\n",
    "<table class=\"tg\">\n",
    "  <tr>\n",
    "    <th class=\"tg-5mgg\" colspan=\"2\" rowspan=\"2\">Konfusionsmatrix<br></th>\n",
    "    <th class=\"tg-n17z\" colspan=\"2\">Vorhergesagte Klassen<br></th>\n",
    "  </tr>\n",
    "  <tr>\n",
    "    <td class=\"tg-ddj9\">spam</td>\n",
    "    <td class=\"tg-2de4\">ham<br></td>\n",
    "  </tr>\n",
    "  <tr>\n",
    "  <td class=\"tg-hcxd\" rowspan=\"2\">\n",
    "  <div style=\"display: inline-block; -ms-transform: rotate(-90deg); -webkit-transform: rotate(90deg); transform: rotate(90deg);;\">Tatsächliche<br>\n",
    "Klassen</div><br></td>\n",
    "    <td class=\"tg-wsyr\">spam</td>\n",
    "    <td class=\"tg-baqh\">0</td>\n",
    "    <td class=\"tg-lqy6\">5<br></td>\n",
    "  </tr>\n",
    "  <tr>\n",
    "    <td class=\"tg-wsyr\">ham</td>\n",
    "    <td class=\"tg-baqh\">0</td>\n",
    "    <td class=\"tg-lqy6\">95</td>\n",
    "  </tr>\n",
    "</table>"
   ]
  },
  {
   "cell_type": "code",
   "execution_count": 33,
   "metadata": {},
   "outputs": [
    {
     "name": "stdout",
     "output_type": "stream",
     "text": [
      "0.95\n"
     ]
    }
   ],
   "source": [
    "TP, TN, FP, FN = 0, 95, 5, 0\n",
    "genauigkeit = (TP + TN)/(TP + TN + FP + FN)\n",
    "print(genauigkeit)"
   ]
  },
  {
   "cell_type": "markdown",
   "metadata": {},
   "source": [
    "Die Genauigkeit dieses Klassifikators beträgt 95%, obwohl er überhaupt keinen Spam erkennen kann. \n"
   ]
  },
  {
   "cell_type": "markdown",
   "metadata": {},
   "source": [
    "### Präzision\n",
    "\n",
    "Präzision ist das Verhältnis der korrekt identifizierten positiven Fälle zu allen vorhergesagten positiven Fällen, d.h. den korrekten und falschen Fällen, die als \"positiv\" vorhergesagt wurden. Präzision ist der Anteil der abgerufenen Dokumente, die für die Abfrage relevant sind. Die Formel: \n",
    "\n",
    "$$ präzision = {TP \\over {TP + FP}}$$\n",
    "\n",
    "Wir demonstrieren auch dies an einem Beispiel.\n",
    "\n"
   ]
  },
  {
   "cell_type": "markdown",
   "metadata": {},
   "source": [
    "<table class=\"tg\">\n",
    "  <tr>\n",
    "    <th class=\"tg-5mgg\" colspan=\"2\" rowspan=\"2\">Konfusionsmatrix<br></th>\n",
    "    <th class=\"tg-n17z\" colspan=\"2\">Vorhergesagte Klassen<br></th>\n",
    "  </tr>\n",
    "  <tr>\n",
    "    <td class=\"tg-ddj9\">spam</td>\n",
    "    <td class=\"tg-2de4\">ham<br></td>\n",
    "  </tr>\n",
    "  <tr>\n",
    "  <td class=\"tg-hcxd\" rowspan=\"2\">\n",
    "  <div style=\"display: inline-block; -ms-transform: rotate(-90deg); -webkit-transform: rotate(90deg); transform: rotate(90deg);;\">Tatsächliche<br>\n",
    "Klassen</div><br></td>\n",
    "    <td class=\"tg-wsyr\">spam</td>\n",
    "    <td class=\"tg-baqh\">12</td>\n",
    "    <td class=\"tg-lqy6\">14<br></td>\n",
    "  </tr>\n",
    "  <tr>\n",
    "    <td class=\"tg-wsyr\">ham</td>\n",
    "    <td class=\"tg-baqh\">0</td>\n",
    "    <td class=\"tg-lqy6\">114</td>\n",
    "  </tr>\n",
    "</table>"
   ]
  },
  {
   "cell_type": "markdown",
   "metadata": {},
   "source": [
    "Wir können die \"Präzision\" für unser Beispiel berechnen: "
   ]
  },
  {
   "cell_type": "code",
   "execution_count": 5,
   "metadata": {},
   "outputs": [
    {
     "name": "stdout",
     "output_type": "stream",
     "text": [
      "präzision: 0.89\n"
     ]
    }
   ],
   "source": [
    "TP = 114\n",
    "FP = 14\n",
    "# FN und TN werden in dieser Formel nicht benötigt!\n",
    "präzision = TP / (TP + FP)\n",
    "print(f\"präzision: {präzision:4.2f}\")"
   ]
  },
  {
   "cell_type": "markdown",
   "metadata": {},
   "source": [
    "Übung: Bevor Sie mit dem Text fortfahren, überlegen Sie, was der Wert \"Präzision\" bedeutet. Wenn Sie sich das Präzisionsmaß unseres Beispiels für Spamfilter ansehen, was sagt es Ihnen über die Qualität des Spamfilters aus?\n",
    "Wie sehen die Ergebnisse der Konfusionsmatrix eines idealen Spamfilters aus? Was ist schlimmer, hohe FP- oder FN-Werte?\n",
    "\n",
    "Die Antworten finden Sie indirekt in den folgenden Erläuterungen.\n",
    "\n",
    "NEbenbei gesagt: der ideale Spamfilter hätte  0 Werte für FP und FN.\n",
    "\n",
    "Das vorherige Ergebnis bedeutet, dass 11 von hundert E-Mails als \"ham\" klassifiziert werden, obwohl es sich um Spam handelt. 89 sind korrekt als \"ham\"  klassifiziert. Dies ist ein Punkt, an dem wir über die Kosten einer Fehlklassifizierung sprechen sollten. Es ist problematisch, wenn eine Spam-Mail nicht als \"Spam\" erkannt wird und uns stattdessen als \"ham\" präsentiert wird. Wenn der Prozentsatz nicht zu hoch ist, ist es ärgerlich, aber keine Katastrophe. Im Gegensatz dazu wird die E-Mail in vielen Fällen nicht angezeigt oder sogar automatisch gelöscht, wenn eine Nicht-Spam-Nachricht fälschlicherweise als Spam gekennzeichnet ist. Dies birgt beispielsweise ein hohes Risiko, Kunden und Freunde zu verlieren.\n",
    "Das Maß ```Präzision``` macht keine Aussage über diese zuletzt genannte Problemklasse. Wie sieht es mit anderen Maßen aus?\n",
    "\n",
    "Wir werden uns ```recal``` und` `` F1-Score``` ansehen.\n",
    "\n",
    "\n",
    "\n",
    "\n",
    "### Recall\n",
    "\n",
    "Recall, auch als Sensitivität bezeichnet, ist das Verhältnis der korrekt identifizierten positiven Fälle zu allen tatsächlichen positiven Fällen, d.h. die Summe der \"Falsch Negativen\" und \"Richtig Positiven\".\n",
    "<br> <br> \n",
    "\n",
    "$$ recall = {TP \\over {TP + FN}}$$\n"
   ]
  },
  {
   "cell_type": "code",
   "execution_count": 6,
   "metadata": {},
   "outputs": [
    {
     "name": "stdout",
     "output_type": "stream",
     "text": [
      "recall: 1.00\n"
     ]
    }
   ],
   "source": [
    "TP = 114\n",
    "FN = 0\n",
    "# FT (14) und TN (12) werden nicht benötigt!\n",
    "recall = TP / (TP + FN)\n",
    "print(f\"recall: {recall:4.2f}\")"
   ]
  },
  {
   "cell_type": "markdown",
   "metadata": {},
   "source": [
    "The value 1 means that no non-spam message is wrongly labeled as spam. It is important for a good spam filter that this value should be 1. We have previously discussed this already.\n",
    "\n",
    "### F1-score\n",
    "\n",
    "Das letzte Maß, dass wir untersuchen werden, ist der F1-score.\n",
    "<br><br>\n",
    "\n",
    "$$ F_1 = {2 \\over {{1 \\over recall} + {1 \\over precision}}} = 2 \\cdot {{{precision}\\cdot{recall}} \\over {{precision} + {recall}}  }$$"
   ]
  },
  {
   "cell_type": "code",
   "execution_count": 36,
   "metadata": {},
   "outputs": [
    {
     "name": "stdout",
     "output_type": "stream",
     "text": [
      "  FN    FP   TP     pre   acc   rec   f1\n",
      "  0.00  0.00 93.00  1.00  1.00  1.00  1.00\n",
      "  1.00  0.00 92.00  1.00  0.99  0.99  0.99\n",
      "  1.00  1.00 91.00  0.99  0.99  0.99  0.99\n",
      "  2.00  0.00 91.00  1.00  0.99  0.98  0.99\n",
      "  2.00  1.00 90.00  0.99  0.98  0.98  0.98\n",
      "  2.00  2.00 89.00  0.98  0.98  0.98  0.98\n",
      "  3.00  0.00 90.00  1.00  0.98  0.97  0.98\n",
      "  3.00  1.00 89.00  0.99  0.98  0.97  0.98\n",
      "  3.00  2.00 88.00  0.98  0.97  0.97  0.97\n",
      "  3.00  3.00 87.00  0.97  0.97  0.97  0.97\n",
      "  4.00  0.00 89.00  1.00  0.98  0.96  0.98\n",
      "  4.00  1.00 88.00  0.99  0.97  0.96  0.97\n",
      "  4.00  2.00 87.00  0.98  0.97  0.96  0.97\n",
      "  4.00  3.00 86.00  0.97  0.96  0.96  0.96\n",
      "  4.00  4.00 85.00  0.96  0.96  0.96  0.96\n",
      "  5.00  0.00 88.00  1.00  0.97  0.95  0.97\n",
      "  5.00  1.00 87.00  0.99  0.97  0.95  0.97\n",
      "  5.00  2.00 86.00  0.98  0.96  0.95  0.96\n",
      "  5.00  3.00 85.00  0.97  0.96  0.94  0.96\n",
      "  5.00  4.00 84.00  0.95  0.95  0.94  0.95\n",
      "  5.00  5.00 83.00  0.94  0.95  0.94  0.94\n",
      "  6.00  0.00 87.00  1.00  0.97  0.94  0.97\n",
      "  6.00  1.00 86.00  0.99  0.96  0.93  0.96\n",
      "  6.00  2.00 85.00  0.98  0.96  0.93  0.96\n",
      "  6.00  3.00 84.00  0.97  0.95  0.93  0.95\n",
      "  6.00  4.00 83.00  0.95  0.95  0.93  0.94\n",
      "  6.00  5.00 82.00  0.94  0.94  0.93  0.94\n",
      "  6.00  6.00 81.00  0.93  0.94  0.93  0.93\n"
     ]
    }
   ],
   "source": [
    "TF = 7 # we set the True false values to 5 %\n",
    "print(\"  FN    FP   TP     pre   acc   rec   f1\")\n",
    "for FN in range(0, 7):\n",
    "    for FP in range(0, FN+1):\n",
    "        # the sum of FN, FP, TF and TP will be 100:\n",
    "        TP = 100 - FN - FP - TF\n",
    "        #print(FN, FP, TP, FN+FP+TP+TF)\n",
    "        precision = TP / (TP + FP)\n",
    "        accuracy = (TP + TN)/(TP + TN + FP + FN)\n",
    "        recall = TP / (TP + FN)\n",
    "        f1_score = 2 * precision * recall / (precision + recall)\n",
    "        print(f\"{FN:6.2f}{FP:6.2f}{TP:6.2f}\", end=\"\")\n",
    "        print(f\"{precision:6.2f}{accuracy:6.2f}{recall:6.2f}{f1_score:6.2f}\")"
   ]
  },
  {
   "cell_type": "markdown",
   "metadata": {},
   "source": [
    "Wir können erkennen, dass der ```f1-score``` am Bestend das Worst-Case-Szenario refklektiert, dass der FN steigt, i.e. ham wird als  spam klassifiziert!"
   ]
  }
 ],
 "metadata": {
  "kernelspec": {
   "display_name": "Python 3",
   "language": "python",
   "name": "python3"
  },
  "language_info": {
   "codemirror_mode": {
    "name": "ipython",
    "version": 3
   },
   "file_extension": ".py",
   "mimetype": "text/x-python",
   "name": "python",
   "nbconvert_exporter": "python",
   "pygments_lexer": "ipython3",
   "version": "3.7.6"
  }
 },
 "nbformat": 4,
 "nbformat_minor": 4
}
