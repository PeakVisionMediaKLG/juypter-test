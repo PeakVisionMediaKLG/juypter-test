{
 "cells": [
  {
   "cell_type": "markdown",
   "metadata": {},
   "source": [
    "##  Nächste-Nachbarn-Klassifikation mit sklearn\n",
    "\n",
    "### Einführung \n",
    "\n",
    "<img width=\"90%\"  src=\"../images/sklearn_text_with_animals_nearest_neighbor.webp\" srcset=\"../images/sklearn_text_with_animals_nearest_neighbor_800w.webp 800w,../images/sklearn_text_with_animals_nearest_neighbor_700w.webp 700w,../images/sklearn_text_with_animals_nearest_neighbor_600w.webp 600w,../images/sklearn_text_with_animals_nearest_neighbor_500w.webp 500w,../images/sklearn_text_with_animals_nearest_neighbor_400w.webp 400w,../images/sklearn_text_with_animals_nearest_neighbor_350w.webp 350w,../images/sklearn_text_with_animals_nearest_neighbor_300w.webp 300w\" alt=\"sklearn text with  animals\" />\n",
    "\n",
    "Die zugrundeliegenden Konzepte des K-Nächsten-Nachbarn-Klassifikators (KNN) finden Sie im Kapitel [Nächste-Nachbarn-Klassifikation] (naechste_nachbarn_klassifikation.php) unseres Tutorials über Maschinelles Lernen. In diesem Kapitel zeigten wir auch einfache Funktionen, die in Python geschrieben wurden, um die grundlegenden Prinzipien zu demonstrieren.\n",
    "\n",
    "Anstatt diese Funktionen zu nutzen, - obwohl sie beeindruckende Ergebnisse zeigten, - empfehlen wir, die Funktionalitäten des `sklearn-Moduls` zu verwenden. \n"
   ]
  },
  {
   "cell_type": "markdown",
   "metadata": {},
   "source": [
    "### kNN-Klassifikatoren von sklearn\n",
    "\n",
    "`neighbors` ist ein Paket des `sklearn` module, \n",
    "welches Funktionalitäten für Nächste-Nachbarn-Klassifikatoren\n",
    "zur Verfügung stellt. \n",
    "\n",
    "Die Klassen in `sklearn.neighbors` können sowohl \n",
    "numpy arrays als auch scipy.sparse-Matrizen als \n",
    "Eingabe verarbeiten. \n",
    "Für dichte  Matrizen werden eine große Anzahl \n",
    "möglicher Entfernungsmetriken unterstützt. \n",
    "Für dünnbesetzte Matrizen werden beliebige \n",
    "Minkowski-Metriken für Suchvorgänge unterstützt.\n",
    "\n",
    "\n",
    "*scikit-learn* implementiert zwei verschiedene \n",
    "nächste-Nachbarn-Klassifikatoren: \n",
    "    \n",
    "<dl>\n",
    "  <dt>K-Nächster-Nachbar</dt>\n",
    "  <dd>basiert auf den k-nächsten Nachbarn der Stichprobe, die zu klassifizieren sind. \n",
    "Der Wert `k` ist ein vom Benutzer spezifizierter Wert. Dies ist der am häufigsten engewendete Klassifikator der beiden.</dd>\n",
    "\n",
    "  <dt>Radius-Nächster-Nachbar</dt>\n",
    "  <dd>basiert auf der Anzahl der Nachbarn einer Stichprobe innerhalb eines festen Umkreises `r`. `r` ist eine von den Anwendenden zu bestimmende `flot`-Zahl. Dieser Klassifikationtyp wird seltener angewendet.</dd>\n",
    "</dl>\n",
    "\n",
    "\n",
    "#### KNeighborsClassifier\n",
    "\n",
    "Wir erstellen einen künstlichen Datensatz mit drei Klassen, um den K-Nächster Nachbarnklassifizierer `KNeighborsClassifier` von `sklearn.neighbors` testen. "
   ]
  },
  {
   "cell_type": "code",
   "execution_count": 4,
   "metadata": {},
   "outputs": [],
   "source": [
    "from sklearn.datasets import make_blobs\n",
    "import matplotlib.pyplot as plt\n",
    "import numpy as np\n",
    "\n",
    "centers = [[2, 3], [5, 5], [7, 9]]\n",
    "n_classes = len(centers)\n",
    "data, labels = make_blobs(n_samples=50, \n",
    "                          centers=np.array(centers),\n",
    "                          random_state=1)"
   ]
  },
  {
   "cell_type": "markdown",
   "metadata": {},
   "source": [
    "Let us visualize what we have created:"
   ]
  },
  {
   "cell_type": "code",
   "execution_count": 5,
   "metadata": {},
   "outputs": [
    {
     "data": {
      "image/png": "[encoded data removed]",
      "text/plain": [
       "<Figure size 432x288 with 1 Axes>"
      ]
     },
     "metadata": {
      "needs_background": "light"
     },
     "output_type": "display_data"
    }
   ],
   "source": [
    "import matplotlib.pyplot as plt\n",
    "\n",
    "colours = ('green', 'red', 'blue')\n",
    "n_classes = 3\n",
    "\n",
    "fig, ax = plt.subplots()\n",
    "for n_class in range(0, n_classes):\n",
    "    ax.scatter(data[labels==n_class, 0], data[labels==n_class, 1], \n",
    "               c=colours[n_class], s=10, label=str(n_class))\n",
    "\n",
    "\n",
    "\n",
    "ax.legend(loc='upper right');"
   ]
  },
  {
   "cell_type": "markdown",
   "metadata": {},
   "source": [
    "Wir sind nun bereit die Klassifikation mit `kNeighborsClassifier` durchzuführen:"
   ]
  },
  {
   "cell_type": "code",
   "execution_count": 6,
   "metadata": {},
   "outputs": [
    {
     "name": "stdout",
     "output_type": "stream",
     "text": [
      "Ergebnisse der Klassifikation:\n",
      "[2 1 2 0 0 1 1 2 2 1 0 2 0 1 1 0 0 0 0 1 2 0 2 1 2 2 1 1 2 0 0 0 0 0 2 2 2\n",
      " 2 0 0 1 2 1 1 1 1 1 1 0 1]\n",
      "Sollwerte:\n",
      "[2 1 2 0 0 2 1 2 2 1 0 2 0 1 1 0 0 0 0 1 2 0 2 1 2 2 1 1 2 0 0 0 0 0 2 2 2\n",
      " 2 0 0 1 2 1 1 1 1 1 1 0 1]\n"
     ]
    }
   ],
   "source": [
    "# Create and fit a nearest-neighbor classifier\n",
    "from sklearn.neighbors import KNeighborsClassifier\n",
    "knn = KNeighborsClassifier()\n",
    "knn.fit(data, labels) \n",
    "KNeighborsClassifier(algorithm='auto', \n",
    "                     leaf_size=30, \n",
    "                     metric='minkowski',\n",
    "                     metric_params=None, \n",
    "                     n_jobs=1, \n",
    "                     n_neighbors=5, \n",
    "                     p=2,\n",
    "                     weights='uniform')\n",
    "\n",
    "predicted = knn.predict(data)\n",
    "print(\"Ergebnisse der Klassifikation:\")\n",
    "print(predicted)\n",
    "print(\"Sollwerte:\")\n",
    "print(labels)"
   ]
  },
  {
   "cell_type": "markdown",
   "metadata": {},
   "source": [
    "Um das Ergebnis zu evaluieren benötigen wir die Funktion `accuracy_score` aus dem Modul `sklearn.metrics`. Um zu sehen, wie sie arbeitet, benutzen wir folgendes kleines Beispiel:"
   ]
  },
  {
   "cell_type": "code",
   "execution_count": 7,
   "metadata": {},
   "outputs": [
    {
     "name": "stdout",
     "output_type": "stream",
     "text": [
      "0.6\n",
      "3\n"
     ]
    }
   ],
   "source": [
    "from sklearn.metrics import accuracy_score\n",
    "y_pred = [0, 2, 1, 3, 2]\n",
    "y_true = [0, 1, 2, 3, 2]\n",
    "print(accuracy_score(y_true, y_pred))\n",
    "print(accuracy_score(y_true, y_pred, normalize=False))"
   ]
  },
  {
   "cell_type": "markdown",
   "metadata": {},
   "source": [
    "Der erste Aufruf von `accuracy_score` liefert `0.6` zurück, was bedeutet, dass 60% der Stichproben korrekt bestimmt wurden. Der Parameter `normalize` wurde per Default auf `True` gesetzt. Beim zweiten Aufruf setzen wir `normalize` auf `False`. Dies bedeutet, dass wir die Anzahl der Elemente erhalten, die korrekt vorhergesagt worden waren.\n",
    "\n",
    "Nun sind wir bereit, unsere Ergebnisse aus der Klassifizierung des vorigen Beispiels zu bewerten: "
   ]
  },
  {
   "cell_type": "code",
   "execution_count": 8,
   "metadata": {},
   "outputs": [
    {
     "name": "stdout",
     "output_type": "stream",
     "text": [
      "0.98\n"
     ]
    }
   ],
   "source": [
    "print(accuracy_score(predicted, labels))"
   ]
  },
  {
   "cell_type": "code",
   "execution_count": 10,
   "metadata": {},
   "outputs": [
    {
     "data": {
      "text/plain": [
       "(array([[7.19829972, 9.11900865],\n",
       "        [5.05080775, 4.36300435],\n",
       "        [6.32933771, 9.37756379],\n",
       "        [1.47182825, 1.92703138],\n",
       "        [1.6775828 , 2.61594565]]), array([2, 1, 2, 0, 0]))"
      ]
     },
     "execution_count": 10,
     "metadata": {},
     "output_type": "execute_result"
    }
   ],
   "source": [
    "data[:5], labels[:5]"
   ]
  },
  {
   "cell_type": "markdown",
   "metadata": {},
   "source": [
    "Im folgenden Beispiel benutzen wir den Iris-Datensatz:"
   ]
  },
  {
   "cell_type": "code",
   "execution_count": 11,
   "metadata": {},
   "outputs": [],
   "source": [
    "from sklearn import datasets\n",
    "from sklearn.model_selection import train_test_split\n",
    "\n",
    "iris = datasets.load_iris()\n",
    "data, labels = iris.data, iris.target\n",
    "\n",
    "res = train_test_split(data, labels, \n",
    "                       train_size=0.8,\n",
    "                       test_size=0.2,\n",
    "                       random_state=42)\n",
    "train_data, test_data, train_labels, test_labels = res "
   ]
  },
  {
   "cell_type": "code",
   "execution_count": 13,
   "metadata": {},
   "outputs": [
    {
     "name": "stdout",
     "output_type": "stream",
     "text": [
      "Ergebnisse der Klassifikation:\n",
      "[1 0 2 1 1 0 1 2 1 1 2 0 0 0 0 1 2 1 1 2 0 2 0 2 2 2 2 2 0 0]\n",
      "Sollwerte:\n",
      "[1 0 2 1 1 0 1 2 1 1 2 0 0 0 0 1 2 1 1 2 0 2 0 2 2 2 2 2 0 0]\n"
     ]
    }
   ],
   "source": [
    "# Create and fit a nearest-neighbor classifier\n",
    "from sklearn.neighbors import KNeighborsClassifier\n",
    "knn = KNeighborsClassifier()\n",
    "knn.fit(train_data, train_labels) \n",
    "KNeighborsClassifier(algorithm='auto', \n",
    "                     leaf_size=30, \n",
    "                     metric='minkowski',\n",
    "                     metric_params=None, \n",
    "                     n_jobs=1, \n",
    "                     n_neighbors=5, \n",
    "                     p=2,         # p=2 is equivalent to euclidian distance\n",
    "                     weights='uniform')\n",
    "\n",
    "print(\"Ergebnisse der Klassifikation:\")\n",
    "test_data_predicted = knn.predict(test_data)\n",
    "print(test_data_predicted)\n",
    "print(\"Sollwerte:\")\n",
    "print(test_labels)"
   ]
  },
  {
   "cell_type": "code",
   "execution_count": 14,
   "metadata": {},
   "outputs": [
    {
     "name": "stdout",
     "output_type": "stream",
     "text": [
      "1.0\n"
     ]
    }
   ],
   "source": [
    "print(accuracy_score(test_data_predicted, test_labels))"
   ]
  },
  {
   "cell_type": "code",
   "execution_count": 15,
   "metadata": {},
   "outputs": [
    {
     "name": "stdout",
     "output_type": "stream",
     "text": [
      "Ergebnisse der Klassifikation:\n",
      "[0 0 1 0 0 2 1 0 0 0 2 1 1 0 0 1 2 2 1 2 1 2 1 0 2 1 0 0 0 1 2 0 0 0 1 0 1\n",
      " 2 0 1 2 0 2 2 1 1 2 1 0 1 2 0 0 1 1 0 2 0 0 2 1 2 2 2 2 1 0 0 2 2 0 0 0 2\n",
      " 2 0 2 2 0 1 1 2 1 2 0 2 1 2 1 1 1 0 1 1 0 1 2 2 0 1 2 2 0 2 0 1 2 2 1 2 1\n",
      " 1 2 2 0 1 1 0 1 2]\n",
      "Sollwerte:\n",
      "[0 0 1 0 0 2 1 0 0 0 2 1 1 0 0 1 2 2 1 2 1 2 1 0 2 1 0 0 0 1 2 0 0 0 1 0 1\n",
      " 2 0 1 2 0 2 2 1 1 2 1 0 1 2 0 0 1 1 0 2 0 0 1 1 2 1 2 2 1 0 0 2 2 0 0 0 1\n",
      " 2 0 2 2 0 1 1 2 1 2 0 2 1 2 1 1 1 0 1 1 0 1 2 2 0 1 2 2 0 2 0 1 2 2 1 2 1\n",
      " 1 2 2 0 1 2 0 1 2]\n",
      "0.9666666666666667\n"
     ]
    }
   ],
   "source": [
    "print(\"Ergebnisse der Klassifikation:\")\n",
    "learn_data_predicted = knn.predict(train_data)\n",
    "print(learn_data_predicted)\n",
    "print(\"Sollwerte:\")\n",
    "print(train_labels)\n",
    "print(accuracy_score(learn_data_predicted, train_labels))"
   ]
  },
  {
   "cell_type": "markdown",
   "metadata": {},
   "source": [
    "#### RadiusNeighborsClassifier\n",
    "\n",
    "Die Arbeitsweise des k-Nächsten-Nachbarnklassifikators besteht darin, einen Kreis um die zu klassifizierende Stichprobe zu bestimmen der genau k Elemente enthält. Der Radius-Nachbarn-Klassifikator hingegen hat eine feste Länge für den Radius des umgebenden Kreis. Es lokalisiert alle Elemente in den Trainingsdaten, die sich innerhalb dieses Kreis mit der angegebenen Radiuslänge befinden. Als Folge des festen Radiusansatzes bieten dichte Regionen der Stichprobenverteilung mehr Informationen und `sparse` Regionen bieten weniger Informationen, was sich oft als vorteilhaft erweist. "
   ]
  },
  {
   "cell_type": "code",
   "execution_count": 16,
   "metadata": {},
   "outputs": [
    {
     "name": "stdout",
     "output_type": "stream",
     "text": [
      "[0]\n",
      "[1]\n"
     ]
    }
   ],
   "source": [
    "from sklearn.neighbors import RadiusNeighborsClassifier\n",
    "\n",
    "X = [[0, 1], [0.5, 1], [3, 1], [3, 2], [1.3, 0.8], [2.5, 2.5]]\n",
    "y = [0, 0, 1, 1, 0, 1]\n",
    "\n",
    "neigh = RadiusNeighborsClassifier(radius=1.0)\n",
    "neigh.fit(X, y)\n",
    "\n",
    "print(neigh.predict([[1.5, 1.2]]))\n",
    "\n",
    "print(neigh.predict([[3.1, 2.1]]))"
   ]
  },
  {
   "cell_type": "code",
   "execution_count": 17,
   "metadata": {},
   "outputs": [],
   "source": [
    "from sklearn.datasets import make_blobs\n",
    "import matplotlib.pyplot as plt\n",
    "import numpy as np\n",
    "\n",
    "centers = [[2, 3], [5, 5], [7, 9]]\n",
    "n_classes = len(centers)\n",
    "data, labels = make_blobs(n_samples=155, \n",
    "                          centers=np.array(centers),\n",
    "                          cluster_std = 1.3,\n",
    "                          random_state=1)\n"
   ]
  },
  {
   "cell_type": "code",
   "execution_count": 18,
   "metadata": {},
   "outputs": [
    {
     "data": {
      "image/png": "[encoded data removed]",
      "text/plain": [
       "<Figure size 432x288 with 1 Axes>"
      ]
     },
     "metadata": {
      "needs_background": "light"
     },
     "output_type": "display_data"
    }
   ],
   "source": [
    "import matplotlib.pyplot as plt\n",
    "\n",
    "colours = ('green', 'red', 'blue')\n",
    "n_classes = 3\n",
    "\n",
    "fig, ax = plt.subplots()\n",
    "for n_class in range(0, n_classes):\n",
    "    ax.scatter(data[labels==n_class, 0], data[labels==n_class, 1], \n",
    "               c=colours[n_class], s=10, label=str(n_class))"
   ]
  },
  {
   "cell_type": "code",
   "execution_count": 19,
   "metadata": {},
   "outputs": [
    {
     "data": {
      "text/plain": [
       "RadiusNeighborsClassifier(algorithm='auto', leaf_size=30, metric='minkowski',\n",
       "             metric_params=None, n_jobs=None, outlier_label=None, p=2,\n",
       "             radius=0.5, weights='uniform')"
      ]
     },
     "execution_count": 19,
     "metadata": {},
     "output_type": "execute_result"
    }
   ],
   "source": [
    "rnn = RadiusNeighborsClassifier(radius=0.5)\n",
    "rnn.fit(data, labels)"
   ]
  },
  {
   "cell_type": "code",
   "execution_count": 20,
   "metadata": {},
   "outputs": [],
   "source": [
    "predicted = rnn.predict(data)"
   ]
  },
  {
   "cell_type": "code",
   "execution_count": 21,
   "metadata": {},
   "outputs": [
    {
     "name": "stdout",
     "output_type": "stream",
     "text": [
      "0.9741935483870968\n"
     ]
    }
   ],
   "source": [
    "print(accuracy_score(predicted, labels))"
   ]
  },
  {
   "cell_type": "markdown",
   "metadata": {},
   "source": [
    "Nun wollen wir dies mit dem k-Nächsten-Nachbarn-Klassifikator vergleichen:"
   ]
  },
  {
   "cell_type": "code",
   "execution_count": 24,
   "metadata": {},
   "outputs": [
    {
     "data": {
      "text/plain": [
       "KNeighborsClassifier(algorithm='auto', leaf_size=30, metric='minkowski',\n",
       "           metric_params=None, n_jobs=1, n_neighbors=6, p=2,\n",
       "           weights='uniform')"
      ]
     },
     "execution_count": 24,
     "metadata": {},
     "output_type": "execute_result"
    }
   ],
   "source": [
    "knn = KNeighborsClassifier()\n",
    "knn.fit(data, labels) \n",
    "KNeighborsClassifier(algorithm='auto', \n",
    "                     leaf_size=30, \n",
    "                     metric='minkowski',\n",
    "                     metric_params=None, \n",
    "                     n_jobs=1, \n",
    "                     n_neighbors=6, \n",
    "                     p=2,         # p=2 is equivalent to euclidian distance\n",
    "                     weights='uniform')"
   ]
  },
  {
   "cell_type": "code",
   "execution_count": 25,
   "metadata": {},
   "outputs": [
    {
     "name": "stdout",
     "output_type": "stream",
     "text": [
      "0.9354838709677419\n"
     ]
    }
   ],
   "source": [
    "predicted = knn.predict(data)\n",
    "print(accuracy_score(predicted, labels))"
   ]
  }
 ],
 "metadata": {
  "anaconda-cloud": {},
  "kernelspec": {
   "display_name": "Python 3",
   "language": "python",
   "name": "python3"
  },
  "language_info": {
   "codemirror_mode": {
    "name": "ipython",
    "version": 3
   },
   "file_extension": ".py",
   "mimetype": "text/x-python",
   "name": "python",
   "nbconvert_exporter": "python",
   "pygments_lexer": "ipython3",
   "version": "3.7.6"
  }
 },
 "nbformat": 4,
 "nbformat_minor": 4
}
