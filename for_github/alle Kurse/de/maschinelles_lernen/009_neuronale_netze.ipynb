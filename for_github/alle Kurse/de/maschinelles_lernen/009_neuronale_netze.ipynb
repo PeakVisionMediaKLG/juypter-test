{
 "cells": [
  {
   "cell_type": "markdown",
   "metadata": {},
   "source": [
    "## Neuronale Netzwerke\n",
    "\n",
    "### Einführung\n",
    "\n",
    "<img width=\"60%\" class=\"imgright\" src=\"../images/circuit_brain.webp\" srcset=\"../images/circuit_brain_500w.webp 500w,../images/circuit_brain_400w.webp 400w,../images/circuit_brain_350w.webp 350w,../images/circuit_brain_300w.webp 300w\" alt=\"Brain with integrated circuit\" />\n",
    "\n",
    "Wenn wir von \"Neuronalen Netzen\" sprechen, meinen wir artifizielle neuronale Netze (ANN). Die Idee eines ANN basiert auf biologischen neuronalen Netzen, wie sie z.B. im Gehirn von Lebewesen vorkommen.\n",
    "\n",
    "Die Basiseinheit eines neuronalen Netzes - sowohl eines artifiziellen als auch eines lebendigen - ist das Neuron. Ein biologisches Neuron besteht aus drei Hauptkomponenten: \n",
    "Dem Soma (Zellkörper), den Dendriten und dem Axon.\n",
    "\n",
    "Die Dendriten zweigen aus dem Soma ab wie die Verzweigung eines Baumes und verjüngen sich mit jeder neuen Aufteilung. Sie erhalten Signale (Impulse) von anderen Neuronen an den Synapsen, wo sie sich mit anderen Zellen verbinden. Das Axon - wovon immer nur eines existiert - kommt ebenfalls aus dem Soma und erstreckt sich normalerweise über weitere Distanzen als die Dendriten. Es wird gebraucht, um das Ausgangssignal des Neurons an andere Neuronen zu übergeben oder genauer gesagt an die Synapsen anderer Neurone.\n",
    "\n",
    "### Biologisches Neuron\n",
    "\n",
    "Die folgende Abbildung  [Quasar Jarosz] (https://en.wikipedia.org/wiki/User:Quasar_Jarosz), aus Wikipedia, zeigt dies:"
   ]
  },
  {
   "cell_type": "markdown",
   "metadata": {},
   "source": [
    "![Image of a Neuron in biology](../images/Neuron.webp \"Image of a Neuron in Biology\")"
   ]
  },
  {
   "cell_type": "markdown",
   "metadata": {},
   "source": [
    "### Abstraktion eines biologischen und eines artifiziellen Neurons\n",
    "\n",
    "Auch wenn die obige Abbildung für eine/n Biologen/in schon eine Abstraktion darstellt, können wir sie noch mehr abstrahieren:"
   ]
  },
  {
   "cell_type": "markdown",
   "metadata": {},
   "source": [
    "![Abstract View of a Neuron](../images/neuron_biology_abstraction.webp \"Abstract view of a Neuron both biological and artificial\")"
   ]
  },
  {
   "cell_type": "markdown",
   "metadata": {},
   "source": [
    "Ein Perceptron als Element eines artifiziellen neuronalen Netzwerks simuliert ein biologisches Neuron."
   ]
  },
  {
   "cell_type": "markdown",
   "metadata": {},
   "source": [
    "![Image of a Perceptron of a Neural Network](../images/neuron_neural_network.webp \"Image of a Perceptron of a Neural Network\")"
   ]
  },
  {
   "cell_type": "markdown",
   "metadata": {},
   "source": [
    "Was im Inneren eines solchen Perceptrons oder Neurons vorgeht, ist erstaunlich einfach. Die Eingangssignale werden mit den Gewichten (engl. \"weights\") multipliziert, jeder Eingang hat sein zugeordnetes Gewicht. So wird jeder Eingang individuell angepasst für jedes\n",
    "$x_i$. Wir können alle Eingänge als den Eingangsvektor verstehen und die zugehörigen Gewichte als den Gewichtsvektor.\n",
    "\n",
    "Wenn also ein Signal ankommt, wird es mit dem Wert des Gewichts des individuellen Eingangs multipliziert, das diesem Eingang zugeordnet ist. So hat ein Neuron mit drei Eingängen auch drei Gewichte, die individuell angepasst werden können. Die Anpassung der Gewichte erfolgt normalerweise in der Lernphase des Netzes.\n",
    "   \n",
    "Danach werden die Eingangssignale summiert. Es ist auch möglich, einen sogenannten Bias \"b\" dazu zu addieren, der ein von anderen Neuronen unabhängiges Eingangssignal darstellt. Auch dieser Bias kann während der Lernphase angepasst werden.\n",
    "\n",
    "Schliesslich wird er Ausgangswert festgelegt. Dafür wird eine Aktivierungs- oder Stufenfunktion &Phi; auf die gewichtete Summe der Eingangswerte angewendet. \n"
   ]
  },
  {
   "cell_type": "markdown",
   "metadata": {},
   "source": [
    "![Detailled view of a Perceptron of a Neural Network](../images/neuron_neural_network_detailled_view.webp \"Detailled view of a Perceptron of a Neural Network\")"
   ]
  },
  {
   "cell_type": "markdown",
   "metadata": {},
   "source": [
    "Die einfachste Form einer Aktivierungsfunktion ist eine Binärfunktion. Wenn das Ergebnis der Summation grösser als ein Schwellenwert s ist, ist das Ergebnis von $\\Phi$ 1, sonst 0.\n",
    "$$\n",
    "\\Phi(x) = \\left\\{ \\begin{array}{rl}\n",
    " 1 &\\mbox{ wx + b > s} \\\\\n",
    " 0 &\\mbox{ otherwise}\n",
    "       \\end{array} \\right.\n",
    "$$\n",
    "\n",
    "\n"
   ]
  },
  {
   "cell_type": "markdown",
   "metadata": {},
   "source": [
    "![Building Principle of a Simple Artificial Neural Network](../images/simple_ANN.webp \"Building Principle of a Simple Artificial Neural Network\")"
   ]
  },
  {
   "cell_type": "markdown",
   "metadata": {},
   "source": [
    "### Anzahl Neuronen in der Biologie\n",
    "\n",
    "Wir werden im den folgenden Kapiteln artifizielle neuronale Netze verschiedener Grössen und Strukturen untersuchen. Interessant ist ein Blick auf die Gesamtzahl der Neuronen von verschiedenen Lebewesen.\n",
    "\n",
    "Beim Fadenwurm Caenorhabditis elegans, einem der meist erforschten Modellorganismnen der modernen Biologie gibt es so genau 385 Neuronen. (Quelle Wikipedia).\n",
    "\n",
    "Beim Menschen geht man bei aktuellen Schätzungen von etwa 86 Milliarden Nervenzellen aus.(Max Planck Institut für Hirnforschung Berlin).\n",
    " \n",
    "\n"
   ]
  },
  {
   "cell_type": "code",
   "execution_count": null,
   "metadata": {},
   "outputs": [],
   "source": []
  }
 ],
 "metadata": {
  "anaconda-cloud": {},
  "kernelspec": {
   "display_name": "Python 3",
   "language": "python",
   "name": "python3"
  },
  "language_info": {
   "codemirror_mode": {
    "name": "ipython",
    "version": 3
   },
   "file_extension": ".py",
   "mimetype": "text/x-python",
   "name": "python",
   "nbconvert_exporter": "python",
   "pygments_lexer": "ipython3",
   "version": "3.8.5"
  },
  "toc": {
   "base_numbering": 1,
   "nav_menu": {},
   "number_sections": true,
   "sideBar": true,
   "skip_h1_title": false,
   "title_cell": "Table of Contents",
   "title_sidebar": "Contents",
   "toc_cell": false,
   "toc_position": {},
   "toc_section_display": true,
   "toc_window_display": false
  }
 },
 "nbformat": 4,
 "nbformat_minor": 4
}
