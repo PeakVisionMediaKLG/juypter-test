{
 "cells": [
  {
   "cell_type": "markdown",
   "metadata": {},
   "source": [
    "## Naive Bayes Klassifikator\n",
    "\n",
    "### Definition\n",
    "\n",
    "<img width=\"40%\" class=\"imgright\" src=\"../images/thomas_bayes_conditional_probability.webp\" srcset=\"../images/thomas_bayes_conditional_probability_300w.webp 300w\" alt=\"Thomas Bayes: Conditional Probability\" />\n",
    "\n",
    "Im Bereich des Machine Learnings ist ein Bayes Klassifikator ein einfacher probabilistischer Klassifikator, der auf dem Bayes' Theorem basiert. Das Feature-Model, dass von einem Naive Bayes Klassifikator verwendet wird, macht starke Unabhängigkeitsannahmen. Das bedeutet, dass die Existenz eines bestimmten Features einer Klasse unabhängig ist zur Existenz jedes anderen Features der Klasse.\n",
    "\n",
    "Definition unabhängiger Ereignisse:\n",
    "\n",
    "Zwei Ereignisse E und F sind unabhängig, wenn beide E und F positive Wahrscheinlichkeiten haben und wenn P(E|F) = P(E) und P(F|E) = P(F) ist.\n",
    "\n",
    "Wie bereits erwähnt, basiert der Naive Bayes Klassifikator auf dem Bayes' Theorem. Das Bayes' Theorem basiert auf bedingten Wahrscheinlichkeiten, die wir jetzt definieren:\n",
    "\n",
    "### Bedingte Wahrscheinlichkeit\n",
    "\n",
    "$P(A|B)$ steht für \"die bedingte Wahrscheinlichkeit von A mit gegebenen B\", oder \"die Wahrscheinlichkeit von A unter der Bedingung von B\". Also die Wahrscheinlichkeit eines Ereignisses A unter der Annahme dass das Ereignis B eintritt. Wenn also in einem zufälligen Experiment das Ereignis B bekannt ist, werden die möglichen Ergebnisse des Experiments auf B reduziert, und daher wird die Wahrscheinlichkeit des Auftretens von A von der unbedingten Wahrscheinlichkeit in die bedingte Wahrscheinlichkeit von B geändert. Die gemeinsame Wahrscheinlichkeit ist die verbundene Wahrscheinlichkeit zweier Ereignisse. Es gibt drei Schreibweisen für die die gemeinsame Wahrscheinlichkeit von A und B.\n",
    "\n",
    "- $P(A ∩ B)$ oder\n",
    "- $P(AB)$ oder \n",
    "- $P(A,B)$\n",
    "\n",
    "Die bedingte Wahrscheinlichkeit wird wie folgt definiert:\n",
    "\n",
    "$$P(A|B) = \\frac{P( A ∩ B)}{P(B)}$$ \n",
    "\n",
    "### Beispiele zur bedingten Wahrscheinlichkeit\n",
    "\n",
    "#### Deutsch sprechende Schweizer\n",
    "\n",
    "Es leben über 8,4 Millionen Menschen in der Schweiz. Über 64% davon sprechen Deutsch.\n",
    "Auf der Erde leben insgesamt über 7,5 Milliarden Menschen.\n",
    "\n",
    "Wenn Aliens einen Menschen auf der zufällig \"wegbeamen\" würden, wie hoch wäre die Wahrscheinlichkeit, dass es sich dabei um einen deutsch sprechenden Schweizer handelt?\n",
    "\n",
    "\n",
    "Wir haben also folgende Ereignisse:\n",
    "- S: ist ein Schweizer\n",
    "- GS: spricht Deutsch\n",
    "\n",
    "Die Wahrscheinlichkeit für einen zufällig ausgewählten Schweizer:\n",
    "\n",
    "$$P(S) = \\frac{8.4}{7500} = 0.00112 $$\n",
    "\n",
    "Wenn wir wissen, dass jemand Schweizer ist, so liegt die Wahrscheinlichkeit für einen deutsch sprechenden Schweizer bei 0.64 (64%). Dass entspricht der bedingten Wahrscheinlichkeit: $$P(GS | S) = 0.64$$\n",
    "\n",
    "Mit folgender Formel berechnen wir also die Wahrscheinlichkeit dafür, dass es sich bei dem Erdling um einen deutsch sprechenden Schweizer handelt:\n",
    "\n",
    "$$P(GS | S) = \\frac{P(GS ∩ S)}{P(S)}$$\n",
    "\n",
    "Setzen wir noch die Werte ein:\n",
    "\n",
    "$$0.64 = \\frac{P(GS ∩ S)}{0.00112}$$\n",
    "\n",
    "Ergebnis:\n",
    "\n",
    "$$P(GS ∩ S) = 0.0007168$$\n",
    "\n",
    "Unsere Aliens bekommen also mit einer Change von 0,07168% einen deutsch sprechenden Schweizer.\n",
    "\n",
    "####  Falsche Positive und Falsche Negative\n",
    "\n",
    "Ein medizinisches Forschungs-Labor schlägt vor eine große Gruppe von Menschen hinsichtlich einer Erkrankung mit einem Screening zu testen. Ein Argument gegen das Screening ist das Problem von falschen Positiv Ergebnissen.\n",
    "\n",
    "Angenommen dass 0,1% der Gruppe von der Erkrankung betroffen sind und der Rest gesund ist:\n",
    "$$P(\"sick\") = 0,1 \\% = 0.01$$\n",
    "und\n",
    "$$P(\"well\") = 99,9 \\% = 0.999$$\n",
    "\n",
    "Folgendes ist wahr für ein Screening:\n",
    "Wenn Sie die Krankheit haben, so wird der Test in 99% der Fälle Positiv sein. Sollten Sie die Krankheit nicht haben, so wird der Test in 99% Negativ sein:\n",
    "\n",
    "$$P(\"test positive\" | \"well\") = 1 \\%$$\n",
    "\n",
    "und \n",
    "\n",
    "$$P(\"test negative\" | \"well\") = 99 \\%$$\n",
    "\n",
    "Angenommen, dass Screening wird an einer Person durchgeführt die erkrankt ist, so gibt es eine Chance von 1% für ein falsches Negativ Ergebnis (und eine Chance von 99% für ein korrektes Positiv Ergebnis):\n",
    "\n",
    "$$P(\"test negative\" | \"sick\") = 1 \\%$$\n",
    "\n",
    "und \n",
    "\n",
    "$$P(\"test positive\" | \"sick\") = 99 \\%$$"
   ]
  },
  {
   "cell_type": "raw",
   "metadata": {},
   "source": [
    "<table class=\"print-friendly\" style=\"text-align: left; width: 50%;\" 102,=\"\" 0)=\"\" border=\"6\"\n",
    "bordercolor=\"#476042\" cellpadding=\"4\" cellspacing=\"2\">\n",
    "<tbody>\n",
    "<tr>\n",
    "<td\n",
    "style=\"vertical-align: top; background-color: rgb(71, 96, 66); color: rgb(255, 102, 0);\"><br>\n",
    "</td>\n",
    "<td\n",
    "style=\"vertical-align: top; background-color: rgb(71, 96, 66); color: rgb(255, 102, 0); font-weight: bold; text-align: right;\">Krank<br>\n",
    "</td>\n",
    "<td\n",
    "style=\"vertical-align: top; background-color: rgb(71, 96, 66); text-align: right;\">\n",
    "<span style=\"color: rgb(255, 102, 0); font-weight: bold;\">Gesund</span><br>\n",
    "</td>\n",
    "<td\n",
    "style=\"vertical-align: top; background-color: rgb(71, 96, 66); text-align: right;\">\n",
    "<span style=\"color: rgb(255, 102, 0); font-weight: bold;\">Gesamt</span><br>\n",
    "</td>\n",
    "</tr>\n",
    "<tr>\n",
    "<td\n",
    "style=\"vertical-align: top; background-color: rgb(107, 150, 98); color: rgb(0, 0, 0);\">Ergebnis Positiv<br>\n",
    "</td>\n",
    "<td\n",
    "style=\"vertical-align: top; background-color: rgb(107, 150, 98); text-align: right;\">99<br>\n",
    "</td>\n",
    "<td\n",
    "style=\"vertical-align: top; background-color: rgb(107, 150, 98); text-align: right;\"><span\n",
    "style=\"color: rgb(255, 0, 0);\">999</span><br>\n",
    "</td>\n",
    "<td\n",
    "style=\"vertical-align: top; background-color: rgb(107, 150, 98); text-align: right;\">1098<br>\n",
    "</td>\n",
    "</tr>\n",
    "<tr>\n",
    "<td\n",
    "style=\"vertical-align: top; background-color: rgb(107, 150, 98); color: rgb(0, 0, 0);\">Ergebnis Negativ<br>\n",
    "</td>\n",
    "<td\n",
    "style=\"vertical-align: top; background-color: rgb(107, 150, 98); text-align: right;\"><span\n",
    "style=\"color: rgb(255, 0, 0);\">1</span><br>\n",
    "</td>\n",
    "<td\n",
    "style=\"vertical-align: top; background-color: rgb(107, 150, 98); text-align: right;\">98901<br>\n",
    "</td>\n",
    "<td\n",
    "style=\"vertical-align: top; background-color: rgb(107, 150, 98); text-align: right;\">98902<br>\n",
    "</td>\n",
    "</tr>\n",
    "<tr>\n",
    "<td\n",
    "style=\"vertical-align: top; background-color: rgb(107, 150, 98); color: rgb(0, 0, 0);\">Gesamt<br>\n",
    "</td>\n",
    "<td\n",
    "style=\"vertical-align: top; background-color: rgb(107, 150, 98); text-align: right;\">100<br>\n",
    "</td>\n",
    "<td\n",
    "style=\"vertical-align: top; background-color: rgb(107, 150, 98); text-align: right;\">99900<br>\n",
    "</td>\n",
    "<td\n",
    "style=\"vertical-align: top; background-color: rgb(107, 150, 98); text-align: right;\">100000<br>\n",
    "</td>\n",
    "</tr>\n",
    "</tbody>\n",
    "</table>\n",
    "\n"
   ]
  },
  {
   "cell_type": "markdown",
   "metadata": {},
   "source": [
    "Es gibt also 999 falsche Positiv Ergebnisse und 1 falsches Negativ Ergebnis.\n",
    "\n",
    "**Problem:**\n",
    "\n",
    "In vielen Fällen nehmen sogar medizinische Fachkräfte an, dass der Test zu 99% positiv ist, wenn die Krankheit vorhanden ist und zu 99% negativ, wenn die Krankheit nicht vorhanden ist. Von den 1098 Fällen die ein positives Ergebnis liefern sind nur 99 (9%) Fälle korrekt und 999 Fälle sind falsche Positiv Ergebnisse (91%). Wenn eine Person also ein positives Test-Ergebnis bekommt, liegt die Wahrscheinlichkeit bei etwa 9% dass Er oder Sie tatsächlich die Krankheit hat. \n",
    "\n",
    "$$P(\"sick\" | \"test positive\") = 99 / 1098 = 9.02 \\%$$\n",
    "\n",
    "### Bayes' Theorem\n",
    "\n",
    "Wir haben die bedingte Wahrscheinlichkeit $P(GS | S)$ berechnet. Dabei ging es um die Wahrscheinlichkeit dass eine Person Deutsch spricht, wenn er bekannterweise ein Schweizer ist. Mit folgender Gleichung können wir dies berechnen:\n",
    "\n",
    "$$P(GS | S) = \\frac{P(GS, S)}{P(S)}$$ \n",
    "\n",
    "Wie sieht es mit der Berechnung der Wahrscheinlichkeit $P(S | GS)$ aus, also der Wahrscheinlichkeit dass jemand Schweizer ist unter der Annahme dass er Deutsch spricht?\n",
    "\n",
    "Die Gleichung sieht so aus:\n",
    "\n",
    "$$P(S| GS) = \\frac{P(GS, S)}{P(GS)}$$ \n",
    "\n",
    "Isolieren wir aus beiden Gleichungen $P(GS, S)$:\n",
    "\n",
    "$$P(GS, S) =  P(GS | S) P(S)$$\n",
    "\n",
    "$$P(GS, S) =  P(S | GS) P(GS)$$\n",
    "\n",
    "So wie die linken Seiten gleich sind, sollten die rechten Seiten ebenfalls gleich sein:\n",
    "\n",
    "$$P(GS | S) * P(S) =  P(S | GS)  P(GS)$$\n",
    "\n",
    "Diese Gleichung kann auch so geschrieben werden:\n",
    "\n",
    "$$P(S | GS) = \\frac{P(GS | S) P(S)}{P(GS)}$$\n",
    "\n",
    "Das Ergebnis entspricht dem **Bayes' Theorem**.\n",
    "\n",
    "Um das Problem zu lösen - also die Wahrscheinlichkeit dass ein Person Schweizer ist, wenn wir wissen dass er Deutsch spricht - müssen wir lediglich die rechte Seite berechnen. Aus dem vorigen Beispiel kennen wir bereits\n",
    "$$P(GS | S) = 0.64$$\n",
    "\n",
    "und \n",
    "\n",
    "$$P(S) = 0.00112 $$\n",
    "\n",
    "Die Anzahl der nativ Deutsch sprechenden Menschen auf der Welt entspricht etwa 101 Millionen, somit kennen wir\n",
    "\n",
    "$$P(GS) = \\frac{101}{7500} = 0.0134667 $$\n",
    "\n",
    "Schließlich setzen wir die Werte in die Gleichung ein und berechnen $P(S | GS)$:\n",
    "\n",
    "$$P(S | GS) = \\frac{P(GS | S)  P(S)}{ P(GS)} = \\frac{0.64 * 0.00112}{0.0134667} = 0.0532276$$\n",
    "\n",
    "\n",
    "Es leben über 8,4 Millionen Menschen in der Schweiz. Über 64% davon sprechen Deutsch.\n",
    "Auf der Erde leben insgesamt über 7,5 Milliarden Menschen.\n",
    "\n",
    "Wenn Aliens einen Menschen auf der zufällig \"wegbeamen\" würden, wie hoch wäre die Wahrscheinlichkeit, dass es sich dabei um einen deutsch sprechenden Schweizer handelt?\n",
    "\n",
    "\n",
    "Wir haben also folgende Ereignisse:\n",
    "- S: ist ein Schweizer\n",
    "- GS: spricht Deutsch\n",
    "\n",
    "Die Wahrscheinlichkeit für einen zufällig ausgewählten Schweizer:\n",
    "\n",
    "$$P(S) = \\frac{8.4}{7500} = 0.00112 $$\n",
    "\n",
    "$$P(A|B) = \\frac{P(B|A) P(A)}{P(B)}$$\n",
    "\n",
    "$P(A|B)$ ist die bedingte Wahrscheinlichkeit von $A$ und $B$ ist gegeben (posteriore Wahrscheinlichkeit). $P(B)$ ist die vorherige Wahrscheinlichkeit von $B$ und $P(A)$ entspricht der vorherigen Wahrscheinlichkeit von $A$. $P(B|A)$ ist die bedingte Wahrscheinlichkeit von $B$ bei gegebenen $A$, auch \"likely-hood\" genannt.\n",
    "\n",
    "Ein Vorteil des Naive Bayes Klassifikators ist, dass nur eine kleine Anzahl an Trainings-Daten notwendig ist um die Parameter abzuschätzen, die für die Klassifizierung notwendig sind. Da unabhängige Variablen angenommen werden, müssen nur die Varianzen der Variablen für jede Klasse bestimmt werden und nicht die gesamte Kovarianzmatrix."
   ]
  },
  {
   "cell_type": "markdown",
   "metadata": {},
   "source": [
    "## Naive Bayes Klassifikator\n",
    "\n",
    "### Einführungsübung"
   ]
  },
  {
   "cell_type": "markdown",
   "metadata": {},
   "source": [
    "<img width=\"50%\" class=\"imgright\" src=\"../images/hamburg_station.webp\" srcset=\"../images/hamburg_station_300w.webp 300w\" alt=\"Main Railway station in Hamburg\" />"
   ]
  },
  {
   "cell_type": "markdown",
   "metadata": {},
   "source": [
    "Begeben wir uns auf eine Zug-Reise um unseren ersten einfachen Naive Bayes Klassifikator zu erstellen. Nehmen wir an, dass wir uns in Hamburg befinden und nach München reisen möchten. In Frankfurt am Main müssen wir umsteigen. Von früheren Zug-Reisen wissen wir, dass unser Zug von Hamburg sich verspäten wird und somit nicht genügend Zeit bleibt um den Anschluss-Zug in Frankfurt zu bekommen. Die Wahrscheinlichkeit, dass wir den Anschluss-Zug verpassen werden hängt davon ab, wie hoch die mögliche Verspätung sein wird. Der Anschluss-Zug wird nicht länger als 5 Minuten warten. Manchmal hat der Anschluss-Zug aber ebenfalls Verstpätung.\n",
    "\n",
    "Folgende Listen <code>in_time</code> (der Zug aus Hamburg ist pünktlich um den Anschluss-Zug nach München zu bekommen) und <code>too_late</code> (Anschluss-Zug verpasst) zeigen die Situation über einige Wochen. Die erste Komponente jedes Tuple stellt die Minuten dar, die der Zug zu spät angekommen ist und die zweite Komponente enthält die Anzahl der Vorkommnisse dazu."
   ]
  },
  {
   "cell_type": "code",
   "execution_count": 15,
   "metadata": {
    "tags": []
   },
   "outputs": [],
   "source": [
    "# Tuple enthalten (Verspätung in Minuten, Anzahl der Verspätungen)\n",
    "in_time = [(0, 22), (1, 19), (2, 17), (3, 18),\n",
    "           (4, 16), (5, 15), (6, 9), (7, 7),\n",
    "           (8, 4), (9, 3), (10, 3), (11, 2)]\n",
    "too_late = [(6, 6), (7, 9), (8, 12), (9, 17), \n",
    "            (10, 18), (11, 15), (12,16), (13, 7),\n",
    "            (14, 8), (15, 5)]"
   ]
  },
  {
   "cell_type": "code",
   "execution_count": 16,
   "metadata": {
    "scrolled": true
   },
   "outputs": [
    {
     "data": {
      "image/png": "[encoded data removed]",
      "text/plain": [
       "<Figure size 432x288 with 1 Axes>"
      ]
     },
     "metadata": {
      "needs_background": "light"
     },
     "output_type": "display_data"
    }
   ],
   "source": [
    "%matplotlib inline\n",
    "\n",
    "import matplotlib.pyplot as plt\n",
    "\n",
    "X, Y = zip(*in_time)\n",
    "\n",
    "X2, Y2 = zip(*too_late)\n",
    "\n",
    "bar_width = 0.9\n",
    "plt.bar(X, Y, bar_width,  color=\"blue\", alpha=0.75, label=\"in time\")\n",
    "bar_width = 0.9\n",
    "plt.bar(X2, Y2, bar_width,  color=\"red\", alpha=0.75, label=\"too late\")\n",
    "plt.legend(loc='upper right')\n",
    "plt.show()"
   ]
  },
  {
   "cell_type": "markdown",
   "metadata": {},
   "source": [
    "Aus diesen Daten können wir die Wahrscheinlichkeit dafür ableiten, wenn wir eine Minute zu spät sind und den Anschluss-Zug bekommen wollen. Denn wir haben 19 erfolgreiche Fälle und keinen verpassten Fall. Es gibt also kein Tuple in der Liste <code>too_late</code>, in dem als erste Komponente eine 1 enthalten ist. \n",
    "\n",
    "Dieses Ereignis \"Zug ist pünktlich angekommen um den Anschluss-Zug zu erreichen\" bezeichnen wir mit $S$ (success) und das unglückliche Ereignis \"Zug ist zu spät um den Anschluss-Zug zu bekommen\" mit $M$ (miss).\n",
    "\n",
    "Wir können jetzt die Wahrscheinlichkeit formal definieren für \"Zug bekommen, wenn wir eine Minute zu spät sind\":\n",
    "\n",
    "$$P(S | 1) = 19 / 19 = 1$$\n",
    "\n",
    "Wir haben den Fakt genutzt, dass das Tuple $(1, 19)$ in <code>in_time</code> ist und es kein Tupel in der Liste <code>too_late</code> gibt mit 1 als erste Komponente.\n",
    "\n",
    "Es wird kritisch wenn wir den Zug nach München wollen, aber 6 Minuten zu spät sind. Jetzt liegt die Chance nur noch bei 60%:\n",
    "\n",
    "$$P(S | 6) = 9 / 9 + 6 = 0.6$$\n",
    "\n",
    "Entsprechend liegt die Wahrscheinlichkeit den Zug zu verpassen, wenn wir 6 Minuten zu spät sind, bei:\n",
    "\n",
    "$$P(S | 6) = 6 / 9 + 6 = 0.4$$\n",
    "\n",
    "Wir können eine Klassifikator-Funktion schreiben, die uns die Wahrscheinlichkeit ausgibt, für die Erreichung des Anschluss-Zuges:"
   ]
  },
  {
   "cell_type": "code",
   "execution_count": 17,
   "metadata": {},
   "outputs": [
    {
     "name": "stdout",
     "output_type": "stream",
     "text": [
      "-1 0\n",
      "0 1.0\n",
      "1 1.0\n",
      "2 1.0\n",
      "3 1.0\n",
      "4 1.0\n",
      "5 1.0\n",
      "6 0.6\n",
      "7 0.4375\n",
      "8 0.25\n",
      "9 0.15\n",
      "10 0.14285714285714285\n",
      "11 0.11764705882352941\n",
      "12 0\n"
     ]
    }
   ],
   "source": [
    "in_time_dict = dict(in_time)\n",
    "too_late_dict = dict(too_late)\n",
    "\n",
    "def catch_the_train(min):\n",
    "    s = in_time_dict.get(min, 0)\n",
    "    if s == 0:\n",
    "        return 0\n",
    "    else:\n",
    "        m = too_late_dict.get(min, 0)\n",
    "        return s / (s + m)\n",
    "\n",
    "for minutes in range(-1, 13):\n",
    "    print(minutes, catch_the_train(minutes))\n",
    "        \n"
   ]
  },
  {
   "cell_type": "markdown",
   "metadata": {},
   "source": [
    "### Ein Naive Bayes Klassifikator Beispiel\n",
    "\n",
    "#### Daten vorbereiten\n",
    "\n",
    "Wir verwenden die Datei <code>person_data.txt</code>. Sie enthält 100 zufällige Personen-Daten, männlich und weiblich, mit Körpergrößen, Gewicht und Geschlechts-Informationen."
   ]
  },
  {
   "cell_type": "code",
   "execution_count": 18,
   "metadata": {
    "scrolled": true
   },
   "outputs": [
    {
     "name": "stdout",
     "output_type": "stream",
     "text": [
      "female:\n",
      "['Stephanie', 'Cynthia', 'Katherine', 'Elizabeth', 'Carol', 'Christina', 'Beverly', 'Sharon', 'Denise', 'Rebecca']\n",
      "[149 174 183 138 145 161 179 162 148 196]\n",
      "male:\n",
      "['Randy', 'Jessie', 'David', 'Stephen', 'Jerry', 'Billy', 'Earl', 'Todd', 'Martin', 'Kenneth']\n",
      "[184 175 187 192 204 180 184 174 177 200]\n"
     ]
    }
   ],
   "source": [
    "import numpy as np\n",
    "\n",
    "genders = [\"male\", \"female\"]\n",
    "persons = []\n",
    "with open(\"data/person_data.txt\") as fh:\n",
    "    for line in fh:\n",
    "        persons.append(line.strip().split())\n",
    "\n",
    "firstnames = {}\n",
    "heights = {}\n",
    "\n",
    "for gender in genders:\n",
    "    firstnames[gender] = [ x[0] for x in persons if x[4]==gender]\n",
    "    heights[gender] = [ x[2] for x in persons if x[4]==gender]\n",
    "    heights[gender] = np.array(heights[gender], np.int)\n",
    "    \n",
    "for gender in (\"female\", \"male\"):\n",
    "    print(gender + \":\")\n",
    "    print(firstnames[gender][:10])\n",
    "    print(heights[gender][:10])"
   ]
  },
  {
   "cell_type": "markdown",
   "metadata": {},
   "source": [
    "Warnung: Es könnte eine Verwechslung geben zwischen einer Python-Klasse und einer Naive Bayes-Klasse geben. Wir versuchen an den entsprechenden Stellen explizit zu erwähnen, was gemeint ist.\n",
    "\n",
    "#### Design einer Feature-Klasse\n",
    "\n",
    "Wir definieren jetzt eine Python-Klasse <code>Feature</code> für die Features, die wir für die spätere Klassifikation brauchen.\n",
    "\n",
    "Die Feature-Klasse braucht eine Bezeichnung (label), z.B. \"Körpergrößen\" oder \"Vornamen\".\n",
    "Wenn die Feature-Werte numerisch sind, könnten wir sie vielleicht auch auf die möglichen Feature-Werte reduzieren. Die Körpergrößen der Personen haben einen großen Wertebereich und wir haben lediglich 50 gemessene Werte für unsere Naive Bayes-Klasse \"male\" und \"female\". Wir setzen <code>bin_width</code> auf 5 und somit die Wertebereiche \"130 bis 134\", \"135 bis 139\", \"140 bis 144\", und so weiter. Vornamen können wir nicht zusammenfassen und somit setzen wir <code>bin_width</code> auf <code>None</code>.\n",
    "\n",
    "Die Methode <code>frequency</code> liefert die Anzahl der Vorkommnisse für ein bestimmtes Feature oder zusammengefassten Wertebreich."
   ]
  },
  {
   "cell_type": "code",
   "execution_count": 19,
   "metadata": {},
   "outputs": [],
   "source": [
    "from collections import Counter\n",
    "import numpy as np\n",
    "\n",
    "class Feature:\n",
    "    \n",
    "    def __init__(self, data, name=None, bin_width=None):\n",
    "        self.name = name\n",
    "        self.bin_width = bin_width\n",
    "        if bin_width:\n",
    "            self.min, self.max = min(data), max(data)\n",
    "            bins = np.arange((self.min // bin_width) * bin_width, \n",
    "                             (self.max // bin_width) * bin_width,\n",
    "                             bin_width)\n",
    "            freq, bins = np.histogram(data, bins)\n",
    "            self.freq_dict = dict(zip(bins, freq))\n",
    "            self.freq_sum = sum(freq)\n",
    "        else:\n",
    "            self.freq_dict = dict(Counter(data))\n",
    "            self.freq_sum = sum(self.freq_dict.values())\n",
    "    \n",
    "    def frequency(self, value):\n",
    "        if self.bin_width:\n",
    "            value = (value // self.bin_width) * self.bin_width\n",
    "        if value in self.freq_dict:\n",
    "            return self.freq_dict[value]\n",
    "        else:\n",
    "            return 0"
   ]
  },
  {
   "cell_type": "markdown",
   "metadata": {},
   "source": [
    "Erstellen wir jetzt zwei Feature-Instanzen für die Körpergrößen des Personen-Data-Sets. Eine Feature-Instanz beinhaltet die Körpergrößen für die Naive Bayes-Klasse \"male\" und die andere Instanz die Körpergrößen für die Naive Bayes-Klasse \"female\":"
   ]
  },
  {
   "cell_type": "code",
   "execution_count": 20,
   "metadata": {},
   "outputs": [
    {
     "name": "stdout",
     "output_type": "stream",
     "text": [
      "male {155: 1, 160: 5, 165: 4, 170: 6, 175: 7, 180: 5, 185: 8, 190: 8, 195: 2, 200: 3}\n",
      "female {130: 1, 135: 1, 140: 0, 145: 3, 150: 5, 155: 7, 160: 8, 165: 11, 170: 7, 175: 2, 180: 4, 185: 0}\n"
     ]
    }
   ],
   "source": [
    "fts = {}\n",
    "for gender in genders:\n",
    "    fts[gender] = Feature(heights[gender], name=gender, bin_width=5)\n",
    "    print(gender, fts[gender].freq_dict)"
   ]
  },
  {
   "cell_type": "markdown",
   "metadata": {},
   "source": [
    "#### Balken-Diagramm zur Frequenzverteilung\n",
    "\n",
    "Wir haben die Frequenzen der Features ausgegeben, jedoch ist die Darstellung in einem Balken-Diagramm deutlich besser. Mit folgendem Code generieren wir eine entsprechende Ausgabe:"
   ]
  },
  {
   "cell_type": "code",
   "execution_count": 21,
   "metadata": {},
   "outputs": [
    {
     "data": {
      "image/png": "[encoded data removed]",
      "text/plain": [
       "<Figure size 432x288 with 1 Axes>"
      ]
     },
     "metadata": {
      "needs_background": "light"
     },
     "output_type": "display_data"
    }
   ],
   "source": [
    "for gender in genders:\n",
    "    frequencies = list(fts[gender].freq_dict.items())\n",
    "    frequencies.sort(key=lambda x: x[1])\n",
    "    X, Y = zip(*frequencies)\n",
    "    color = \"blue\" if gender==\"male\" else \"red\"\n",
    "    bar_width = 4 if gender==\"male\" else 3\n",
    "    plt.bar(X, Y, bar_width, color=color, alpha=0.75, label=gender)\n",
    "\n",
    "\n",
    "plt.legend(loc='upper right')\n",
    "plt.show()"
   ]
  },
  {
   "cell_type": "markdown",
   "metadata": {},
   "source": [
    "Nun muss eine Naive Bayes-Klasse in Python erstellt werden. Wir nennen sie <code>NBclass</code>. Eine <code>NBclass</code>-Instanz beinhaltet eine oder mehrere <code>Feature</code>-Instanzen. Die Bezeichnung der <code>NBclass</code> wird in <code>self.name</code> abgelegt."
   ]
  },
  {
   "cell_type": "code",
   "execution_count": 22,
   "metadata": {},
   "outputs": [],
   "source": [
    "class NBclass:\n",
    "        \n",
    "        def __init__(self, name, *features):\n",
    "            self.features = features\n",
    "            self.name = name\n",
    "            \n",
    "        def probability_value_given_feature(self, \n",
    "                                            feature_value,\n",
    "                                            feature):\n",
    "            \"\"\"\n",
    "            p_value_given_feature liefert die Wahrscheinlichkeit p\n",
    "            für ein feature_value \n",
    "            \n",
    "            Ich versteh den Satz nicht!!!\n",
    "            \n",
    "            p_value_given_feature returns the probability p \n",
    "            for a feature_value 'value' of the feature  to occurr\n",
    "            corresponds to P(d_i | p_j)\n",
    "            where d_i is a feature variable of the feature i\n",
    "            \"\"\"\n",
    "            \n",
    "            if feature.freq_sum == 0:\n",
    "                return 0\n",
    "            else:\n",
    "                return feature.frequency(feature_value) / feature.freq_sum"
   ]
  },
  {
   "cell_type": "markdown",
   "metadata": {},
   "source": [
    "Folgender Code erzeugen wir <code>NBclass</code>-Instanzen mit einem Feature, d.h. den Körpergrößen-Feature.\n",
    "Wir verwenden die <code>Feature</code>-Instanzen von <code>fts</code>, die wir schon vorher erstellt haben:"
   ]
  },
  {
   "cell_type": "code",
   "execution_count": 23,
   "metadata": {},
   "outputs": [],
   "source": [
    "cls = {}\n",
    "for gender in genders:\n",
    "    cls[gender] = NBclass(gender, fts[gender])"
   ]
  },
  {
   "cell_type": "markdown",
   "metadata": {},
   "source": [
    "Der letzte Schritt für einen einfachen Naive Bayes-Klassifikator ist eine Klasse <code>Classifier</code>, die wiederum die Klassen <code>NBclass</code> und <code>Feature</code> verwendet."
   ]
  },
  {
   "cell_type": "code",
   "execution_count": 24,
   "metadata": {},
   "outputs": [],
   "source": [
    "class Classifier:\n",
    "    \n",
    "    def __init__(self, *nbclasses):\n",
    "        self.nbclasses = nbclasses\n",
    "\n",
    "    def prob(self, *d, best_only=True):\n",
    "        \n",
    "        nbclasses = self.nbclasses\n",
    "        probability_list = []\n",
    "        \n",
    "        for nbclass in nbclasses:            \n",
    "            ftrs = nbclass.features\n",
    "            prob = 1\n",
    "            \n",
    "            for i in range(len(ftrs)):\n",
    "                prob *= nbclass.probability_value_given_feature(d[i], ftrs[i])\n",
    "                \n",
    "            probability_list.append( (prob, nbclass.name) )\n",
    "            \n",
    "        prob_values = [f[0] for f in probability_list]\n",
    "        prob_sum = sum(prob_values)\n",
    "        \n",
    "        if prob_sum==0:\n",
    "            number_classes = len(self.nbclasses)\n",
    "            pl = []\n",
    "            \n",
    "            for prob_element in probability_list:\n",
    "                pl.append( ((1 / number_classes), prob_element[1]))\n",
    "                \n",
    "            probability_list = pl\n",
    "            \n",
    "        else:\n",
    "            probability_list = [ (p[0] / prob_sum, p[1])  for p in probability_list]\n",
    "            \n",
    "        if best_only:\n",
    "            return max(probability_list)\n",
    "        \n",
    "        else:\n",
    "            return probability_list"
   ]
  },
  {
   "cell_type": "markdown",
   "metadata": {},
   "source": [
    "Wir erstellen einen Klassifikator mit einer <code>Feature</code>-Instanz 'Körpergrößen'. Wir prüfen die Werte zwischen 130 und 220 cm."
   ]
  },
  {
   "cell_type": "code",
   "execution_count": 25,
   "metadata": {},
   "outputs": [
    {
     "name": "stdout",
     "output_type": "stream",
     "text": [
      "130 [(0.0, 'male'), (1.0, 'female')]\n",
      "135 [(0.0, 'male'), (1.0, 'female')]\n",
      "140 [(0.5, 'male'), (0.5, 'female')]\n",
      "145 [(0.0, 'male'), (1.0, 'female')]\n",
      "150 [(0.0, 'male'), (1.0, 'female')]\n",
      "155 [(0.125, 'male'), (0.875, 'female')]\n",
      "160 [(0.3846153846153847, 'male'), (0.6153846153846154, 'female')]\n",
      "165 [(0.26666666666666666, 'male'), (0.7333333333333333, 'female')]\n",
      "170 [(0.4615384615384616, 'male'), (0.5384615384615385, 'female')]\n",
      "175 [(0.7777777777777778, 'male'), (0.22222222222222224, 'female')]\n",
      "180 [(0.5555555555555556, 'male'), (0.4444444444444445, 'female')]\n",
      "185 [(1.0, 'male'), (0.0, 'female')]\n",
      "190 [(1.0, 'male'), (0.0, 'female')]\n",
      "195 [(1.0, 'male'), (0.0, 'female')]\n",
      "200 [(1.0, 'male'), (0.0, 'female')]\n",
      "205 [(0.5, 'male'), (0.5, 'female')]\n",
      "210 [(0.5, 'male'), (0.5, 'female')]\n",
      "215 [(0.5, 'male'), (0.5, 'female')]\n"
     ]
    }
   ],
   "source": [
    "c = Classifier(cls[\"male\"], cls[\"female\"])\n",
    "\n",
    "for i in range(130, 220, 5):\n",
    "    print(i, c.prob(i, best_only=False))"
   ]
  },
  {
   "cell_type": "markdown",
   "metadata": {},
   "source": [
    "Es gibt keine Personen - weder männlich noch weiblich -  in unserem Lern-Set, mit einer Körpergröße zwischen 140 und 144 cm. Deshalb kann der Klassifikator nicht auf gelernte Daten aus diesem Wertebereich zugreifen und wir bekommen ein 50-50-Ergebnis.\n",
    "\n",
    "Wir können den Klassifikator ebenfalls mit unseren Vornamen trainieren:"
   ]
  },
  {
   "cell_type": "code",
   "execution_count": 26,
   "metadata": {},
   "outputs": [
    {
     "name": "stdout",
     "output_type": "stream",
     "text": [
      "Edgar [(0.5, 'male'), (0.5, 'female')]\n",
      "Benjamin [(1.0, 'male'), (0.0, 'female')]\n",
      "Fred [(1.0, 'male'), (0.0, 'female')]\n",
      "Albert [(1.0, 'male'), (0.0, 'female')]\n",
      "Laura [(0.0, 'male'), (1.0, 'female')]\n",
      "Maria [(0.0, 'male'), (1.0, 'female')]\n",
      "Paula [(0.0, 'male'), (1.0, 'female')]\n",
      "Sharon [(0.0, 'male'), (1.0, 'female')]\n",
      "Jessie [(0.33333333333333337, 'male'), (0.6666666666666667, 'female')]\n"
     ]
    }
   ],
   "source": [
    "fts = {}\n",
    "cls = {}\n",
    "for gender in genders:\n",
    "    fts_names = Feature(firstnames[gender], name=gender)\n",
    "    cls[gender] = NBclass(gender, fts_names)\n",
    "    \n",
    "c = Classifier(cls[\"male\"], cls[\"female\"])\n",
    "\n",
    "testnames = ['Edgar', 'Benjamin', 'Fred', 'Albert', 'Laura', \n",
    "             'Maria', 'Paula', 'Sharon', 'Jessie']\n",
    "for name in testnames:\n",
    "    print(name, c.prob(name, best_only=False))"
   ]
  },
  {
   "cell_type": "markdown",
   "metadata": {},
   "source": [
    "Der Name \"Jessie\" ist mehrdeutig. Es gibt 66 Jungs und 100 Mädchen mit diesem Namen. Aus dem vorherigen Klassifikations-Ergebnis lernen wir, dass die Wahrscheinlichkeit bei über zwei-drittel für \"female\" liegt, was durch unser Daten-Set <code>person</code> errechnet wurde:"
   ]
  },
  {
   "cell_type": "code",
   "execution_count": 27,
   "metadata": {},
   "outputs": [
    {
     "data": {
      "text/plain": [
       "[['Jessie', 'Morgan', '175', '67.0', 'male'],\n",
       " ['Jessie', 'Bell', '165', '65', 'female'],\n",
       " ['Jessie', 'Washington', '159', '56', 'female'],\n",
       " ['Jessie', 'Davis', '174', '45', 'female'],\n",
       " ['Jessie', 'Johnson', '165', '30.0', 'male'],\n",
       " ['Jessie', 'Thomas', '168', '69', 'female']]"
      ]
     },
     "execution_count": 27,
     "metadata": {},
     "output_type": "execute_result"
    }
   ],
   "source": [
    "[person for person in persons if person[0] == \"Jessie\"]"
   ]
  },
  {
   "cell_type": "markdown",
   "metadata": {},
   "source": [
    "Jessie Washington ist nur 159 cm groß. Schauen wir uns die Ergebnisse des Klassifikators an, der mit Körpergrößen trainiert wurde, erkennen wir dass die Wahrscheinlichkeit dafür, dass eine 159 cm große Person weiblich ist, bei 0.875 liegt. Was ist mit einer unbekannten Person die \"Jessie\" heisst und 159 cm groß ist? Ist sie männlich oder weiblich?\n",
    "\n",
    "Dafür trainieren wir einen Naive Bayes-Klassifikator mit zwei <code>Feature</code>-Instanzen, d.h. mit Körpergrößen und Vornamen:"
   ]
  },
  {
   "cell_type": "code",
   "execution_count": 28,
   "metadata": {},
   "outputs": [
    {
     "name": "stdout",
     "output_type": "stream",
     "text": [
      "('Maria', 140) [(0.5, 'male'), (0.5, 'female')]\n",
      "('Anthony', 200) [(1.0, 'male'), (0.0, 'female')]\n",
      "('Anthony', 153) [(0.5, 'male'), (0.5, 'female')]\n",
      "('Jessie', 188) [(1.0, 'male'), (0.0, 'female')]\n",
      "('Jessie', 159) [(0.06666666666666667, 'male'), (0.9333333333333333, 'female')]\n",
      "('Jessie', 160) [(0.23809523809523817, 'male'), (0.761904761904762, 'female')]\n"
     ]
    }
   ],
   "source": [
    "cls = {}\n",
    "for gender in genders:\n",
    "    fts_heights = Feature(heights[gender], name=\"heights\", bin_width=5)\n",
    "    fts_names = Feature(firstnames[gender], name=\"names\")\n",
    "\n",
    "    cls[gender] = NBclass(gender, fts_names, fts_heights)\n",
    "\n",
    "\n",
    "c = Classifier(cls[\"male\"], cls[\"female\"])\n",
    "\n",
    "for d in [(\"Maria\", 140), (\"Anthony\", 200), (\"Anthony\", 153), \n",
    "          (\"Jessie\", 188) , (\"Jessie\", 159), (\"Jessie\", 160) ]:\n",
    "    print(d, c.prob(*d, best_only=False))\n",
    "    "
   ]
  },
  {
   "cell_type": "markdown",
   "metadata": {},
   "source": [
    "### Die grundlegende Theorie\n",
    "\n",
    "Unser Klassifikator basiert auf dem Bayes' Theorem:\n",
    "\n",
    "Our classifier from the previous example is based on the Bayes theorem:\n",
    "\n",
    "$$P(c_j | d) = \\frac{P(d | c_j) P(c_j)}{P(d)}$$\n",
    "\n",
    "dabei gilt\n",
    "\n",
    "- $P(c_j | d)$ ist die Wahrscheinlichkeit einer Instanz d in der Klasse c_j zu sein. Dass wollen wir mit unserem Klassifikator berechnen.\n",
    "\n",
    "- $P(d | c_j)$ ist die Wahrscheinlichkeit zur Generierung der Instanz d, wenn die Klasse $c_j$ gegeben ist.\n",
    "\n",
    "- $P(c_j)$ ist die Wahrscheinlichkeit für das Vorkommen der Klasse $c_j$. Wir verwenden dies aber nicht in unserem Klassifikator, weil beide Klassen in unserem Beispiel gleichermaßen wahrscheinlich sind.\n",
    "\n",
    "- $P(d)$ ist die Wahrscheinlichkeit für das Vorkommen einer Instanz d. Dies wird in der Berechnung nicht benötigt, da dies für alle Klassen gleich ist."
   ]
  },
  {
   "cell_type": "markdown",
   "metadata": {},
   "source": [
    "Wir haben lediglich ein Feature in unserem vorigen Beispiel verwendet, d.h. sowohl die Körpergrößen als auch die Vornamen.\n",
    "\n",
    "Es ist möglich einen Naive Bayes Klassifikator zu definieren mit mehreren <code>Feature</code>-Instanzen. z.B. $d = (d_1, d_2, ..., d_n)$\n",
    "\n",
    "Wir erhalten dadurch folgende Formel:\n",
    "\n",
    "$$P(c_j | d) = \\frac{1}{P(d)} \\displaystyle \\prod_{i=1}^{n}  P( d_i | c_j) P(c_j)$$\n",
    "\n",
    "$\\frac{1}{P(d)}$ hängt nur von den Werten $d_1, d_2, ... d_n$ ab. Es handelt sich dabei um eine Konstante, weil die Werte der Feature-Variablen bekannt sind."
   ]
  }
 ],
 "metadata": {
  "anaconda-cloud": {},
  "kernelspec": {
   "display_name": "Python 3",
   "language": "python",
   "name": "python3"
  },
  "language_info": {
   "codemirror_mode": {
    "name": "ipython",
    "version": 3
   },
   "file_extension": ".py",
   "mimetype": "text/x-python",
   "name": "python",
   "nbconvert_exporter": "python",
   "pygments_lexer": "ipython3",
   "version": "3.7.6"
  }
 },
 "nbformat": 4,
 "nbformat_minor": 4
}
