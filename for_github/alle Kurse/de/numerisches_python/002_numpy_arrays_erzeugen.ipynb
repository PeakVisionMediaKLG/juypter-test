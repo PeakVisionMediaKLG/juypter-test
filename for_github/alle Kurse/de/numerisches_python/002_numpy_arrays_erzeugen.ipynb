{
 "cells": [
  {
   "cell_type": "code",
   "execution_count": 2,
   "metadata": {},
   "outputs": [],
   "source": [
    "# invisible\n",
    "import numpy as np\n",
    "np.core.arrayprint._line_width = 65"
   ]
  },
  {
   "cell_type": "markdown",
   "metadata": {},
   "source": [
    "<br><br>\n",
    "\n",
    "\n",
    "## Arrays in NumPy  erzeugen"
   ]
  },
  {
   "cell_type": "markdown",
   "metadata": {},
   "source": [
    "<br><br>\n",
    "<? website ?>\n",
    "<img width=\"40%\" class=\"imgright\" src=\"../images/array_transportation.webp\" srcset=\"../images/array_transportation_500w.webp 500w,../images/array_transportation_400w.webp 400w,../images/array_transportation_350w.webp 350w,../images/array_transportation_300w.webp 300w\" alt=\"Array mit Transportmitteln\" />\n",
    "\n",
    "Wir haben bereits im vorigen Kapitel unseres NumPy-Tutorials gesehen, dass wir NumPy-Arrays aus Listen und Tupel generieren können. Nun wollen wir weitere Funktionen zum Erzeugen von Arrays einführen.\n",
    "\n",
    "\n",
    "<? book\n",
    "\n",
    "\\begin{wrapfigure}[10]{r}{0.43\\textwidth}\n",
    "  \\vspace{-1.1\\baselineskip}\n",
    "  \\begin{center}\n",
    "         \\includegraphics[width=0.40\\textwidth]{../images/array_transportation.webp}\n",
    "  \\end{center}\n",
    "  \\caption{Symbolisches Array}\n",
    "  \\vspace{-1.1\\baselineskip}\n",
    "\\end{wrapfigure}\n",
    "\n",
    "\n",
    "Nachdem wir im vorigen Kapitel gelernt haben, wie man NumPy-Arrays aus Listen und Tupeln erzeugt, werden wir nun weitere Funktionen zum Erzeugen von Arrays einführen.\n",
    "\n",
    "book ?>\n",
    "\n",
    "\n",
    "NumPy bietet Funktionen, um Intervalle mit Werten zu erzeugen, deren Abstände gleichmäßig verteilt sind. ```arange``` benutzt einen gegebenen Abstandwert, um innerhalb von gegebenen Intervallgrenzen entsprechende Werte zu generieren, während ```linspace``` eine bestimmte Anzahl von Werten innerhalb gegebener Intervallgrenzen berechnet. Den Abstand berechnet ```linspace``` automatisch.\n",
    "\n",
    "<br><br>\n",
    "\n",
    "### Erzeugung äquidistanter Intervalle\n",
    "\n",
    "\n",
    "<br><br>\n",
    "\n",
    "#### arange\n",
    "\n",
    "\n",
    "Die Syntax von arange:\n",
    "\n",
    "```arange([start,] stop[, step], [, dtype=None])```\n",
    "\n",
    "\n",
    "```arange``` liefert gleichmäßig verteilte Werte innerhalb eines gegebenen Intervalles zurück. Die Werte werden innerhalb des halb-offenen Intervalles ```[start, stop)``` generiert. Wird diese Funktion mit Integer-Werten benutzt, ist sie beinahe äquivalent zu der built-in Python-Funktion ```range```.\n",
    "```arange``` liefert jedoch ein ndarray zurück, während ```range``` einen Listen-Iterator zurückliefert.\n",
    "Falls der ```start```-Parameter nicht übergeben wird, wird ```start``` auf 0 gesetzt. \n",
    "Das Ende des Intervalls wird durch den Parameter ```stop``` bestimmt. Üblicherweise wird das Intervall diesen\n",
    "Wert nicht beinhalten, außer in den Fällen, in denen ```step``` keine Ganzzahl ist und floating-point-Effekte\n",
    "die Länge des Ausgabearrays beeinflussen. Der Abstand zwischen zwei benachbarten Werten des Ausgabearrays kann mittels des optionalen Parameters ```step``` gesetzt werden. Der Default-Wert für ```step``` ist 1. \n",
    "\n",
    "Falls ein Wert für ```step``` angegeben wird, kann der ```start```-Parameter nicht mehr optional sein, d.h. er muss dann auch angegeben werden. \n",
    "\n",
    "Der Type des Ausgabearrays kann mit dem Parameter ```dtype``` bestimmt werden. Wird er nicht angegeben, wird der Typ automatisch aus den übergebenen Eingabewerten ermittelt.\n"
   ]
  },
  {
   "cell_type": "code",
   "execution_count": 3,
   "metadata": {},
   "outputs": [
    {
     "name": "stdout",
     "output_type": "stream",
     "text": [
      "[1 2 3 4 5 6]\n",
      "range(1, 7)\n",
      "[1, 2, 3, 4, 5, 6]\n",
      "[0. 1. 2. 3. 4. 5. 6. 7.]\n",
      "[0.5 1.3 2.1 2.9 3.7 4.5 5.3]\n",
      "[0 1 2 3 4 5 6]\n"
     ]
    }
   ],
   "source": [
    "import numpy as np\n",
    "\n",
    "a = np.arange(1, 7)\n",
    "print(a)\n",
    "\n",
    "# im Vergleich dazu nun range:\n",
    "x = range(1, 7)\n",
    "print(x)    # x ist ein Iterator\n",
    "print(list(x))\n",
    "\n",
    "# weitere arange-Beispiele:\n",
    "x = np.arange(7.3)\n",
    "print(x)\n",
    "x = np.arange(0.5, 6.1, 0.8)\n",
    "print(x)\n",
    "x = np.arange(0.5, 6.1, 0.8, int)\n",
    "print(x)"
   ]
  },
  {
   "cell_type": "markdown",
   "metadata": {},
   "source": [
    "<br><br>\n",
    "\n",
    "#### linspace\n",
    "\n",
    "\n",
    "Die Syntax von ```linspace```:\n",
    "\n",
    "```linspace(start, stop, num=50, endpoint=True, retstep=False)```        \n",
    "\n",
    "linspace liefert ein ndarray zurück, welches aus 'num' gleichmäßig verteilten Werten \n",
    "aus dem geschlossenen Interval ```['start', 'stop']``` oder dem halb-offenen Intervall ```['start', 'stop')``` besteht. Ob ein geschlossenes oder ein halb-offenes Intervall zurückgeliefert wird, \n",
    "hängt vom Wert des Parameters ```endpoint``` ab. ```stop``` ist der letzte Wert des Intervalls, falls ```endpoint``` \n",
    "nicht auf False gesetzt ist. Die Schrittweite ist unterschiedlich, je nachdem, ob ```endpoint``` ```True``` oder ```False``` ist:"
   ]
  },
  {
   "cell_type": "code",
   "execution_count": 4,
   "metadata": {},
   "outputs": [
    {
     "name": "stdout",
     "output_type": "stream",
     "text": [
      "[ 1.          1.18367347  1.36734694  1.55102041  1.73469388  1.91836735\n",
      "  2.10204082  2.28571429  2.46938776  2.65306122  2.83673469  3.02040816\n",
      "  3.20408163  3.3877551   3.57142857  3.75510204  3.93877551  4.12244898\n",
      "  4.30612245  4.48979592  4.67346939  4.85714286  5.04081633  5.2244898\n",
      "  5.40816327  5.59183673  5.7755102   5.95918367  6.14285714  6.32653061\n",
      "  6.51020408  6.69387755  6.87755102  7.06122449  7.24489796  7.42857143\n",
      "  7.6122449   7.79591837  7.97959184  8.16326531  8.34693878  8.53061224\n",
      "  8.71428571  8.89795918  9.08163265  9.26530612  9.44897959  9.63265306\n",
      "  9.81632653 10.        ]\n",
      "[ 1.   2.5  4.   5.5  7.   8.5 10. ]\n",
      "[1.         2.28571429 3.57142857 4.85714286 6.14285714 7.42857143\n",
      " 8.71428571]\n"
     ]
    }
   ],
   "source": [
    "import numpy as np\n",
    "\n",
    "# 50 Werte (Defaut) zwischen 1 und 10:\n",
    "print(np.linspace(1, 10))\n",
    "# 7 Werte zwischen 1 und 10:\n",
    "print(np.linspace(1, 10, 7))\n",
    "# jetzt ohne Endpunkt:\n",
    "print(np.linspace(1, 10, 7, endpoint=False))"
   ]
  },
  {
   "cell_type": "markdown",
   "metadata": {},
   "source": [
    "Bis jetzt haben wir einen interessanten Parameter nicht besprochen. Falls der Parameter 'retstep' gesetzt ist, wird die Funktion auch den Wert des Abstandes zwischen zwei benachbarten Werten des Ausgabearrays zurückliefern. Die Funktion liefert also ein Tupel  ('samples', 'step') zurück:"
   ]
  },
  {
   "cell_type": "code",
   "execution_count": 5,
   "metadata": {},
   "outputs": [
    {
     "name": "stdout",
     "output_type": "stream",
     "text": [
      "0.1836734693877551\n",
      "[ 1.    3.25  5.5   7.75 10.  ] 2.25\n",
      "[1.  2.8 4.6 6.4 8.2] 1.8\n"
     ]
    }
   ],
   "source": [
    "import numpy as np\n",
    "\n",
    "samples, spacing = np.linspace(1, 10, \n",
    "                               retstep=True)\n",
    "print(spacing)\n",
    "samples, spacing = np.linspace(1, 10, 5, \n",
    "                               endpoint=True, retstep=True)\n",
    "print(samples, spacing)\n",
    "samples, spacing = np.linspace(1, 10, 5, \n",
    "                               endpoint=False, retstep=True)\n",
    "print(samples, spacing)"
   ]
  },
  {
   "cell_type": "markdown",
   "metadata": {},
   "source": [
    "<br><br>\n",
    "\n",
    "\n",
    "#### Nulldimensionale Arrays in NumPy\n",
    "\n",
    "In NumPy kann man mehrdimensionale Arrays erzeugen. Skalare sind 0-dimensional. Im folgenden Beispiel erzeugen wir den Skalar ```42```. Wenden wir die ```ndim```-Methode auf unseren Skalar an, erhalten wir die Dimension des Arrays. Wir können außerdem sehen, dass das Array vom Typ ```numpy.ndarray``` ist."
   ]
  },
  {
   "cell_type": "code",
   "execution_count": 6,
   "metadata": {},
   "outputs": [
    {
     "name": "stdout",
     "output_type": "stream",
     "text": [
      "x:  42\n",
      "Der Typ von x:  <class 'numpy.ndarray'>\n",
      "Die Dimension von x: 0\n"
     ]
    }
   ],
   "source": [
    "import numpy as np\n",
    "x = np.array(42)\n",
    "print(\"x: \", x)\n",
    "print(\"Der Typ von x: \", type(x))\n",
    "print(\"Die Dimension von x:\", np.ndim(x))"
   ]
  },
  {
   "cell_type": "markdown",
   "metadata": {},
   "source": [
    "#### Eindimensionales Array\n",
    "\n",
    "\n",
    "Wir haben bereits in unserem anfänglichen Beispiel ein eindimensionales Array -- besser als Vektoren bekannt -- gesehen. Was wir bis jetzt noch nicht erwähnt haben, aber was Sie sich sicherlich bereits gedacht haben, ist die Tatsache, dass die NumPy-Arrays Container sind, die nur einen Typ enthalten können, also beispielsweise nur Integers. Den homogenen Datentyp eines Arrays können wir mit dem Attribut ```dtype``` bestimmen, wie wir im folgenden Beispiel lernen können:"
   ]
  },
  {
   "cell_type": "code",
   "execution_count": 7,
   "metadata": {},
   "outputs": [
    {
     "name": "stdout",
     "output_type": "stream",
     "text": [
      "F:  [ 1  1  2  3  5  8 13 21]\n",
      "V:  [ 3.4  6.9 99.8 12.8]\n",
      "Typ von F:  int64\n",
      "Typ von V:  float64\n",
      "Dimension von F:  1\n",
      "Dimension von V:  1\n"
     ]
    }
   ],
   "source": [
    "F = np.array([1, 1, 2, 3, 5, 8, 13, 21])\n",
    "V = np.array([3.4, 6.9, 99.8, 12.8])\n",
    "print(\"F: \", F)\n",
    "print(\"V: \", V)\n",
    "print(\"Typ von F: \", F.dtype)\n",
    "print(\"Typ von V: \", V.dtype)\n",
    "print(\"Dimension von F: \", np.ndim(F))\n",
    "print(\"Dimension von V: \", np.ndim(V))"
   ]
  },
  {
   "cell_type": "markdown",
   "metadata": {},
   "source": [
    "<br><br>\n",
    "\n",
    "#### Zwei- und Mehrdimensionale Arrays\n",
    "\n",
    "\n",
    "\n",
    "\n",
    "\n",
    "Natürlich sind die Arrays in NumPy nicht auf eine Dimension beschränkt. Sie können eine beliebige Dimension haben. Wir erzeugen sie, indem wir verschachtelte Listen (oder Tupel) an die ```array```-Methode von NumPy übergeben:  "
   ]
  },
  {
   "cell_type": "code",
   "execution_count": 8,
   "metadata": {},
   "outputs": [
    {
     "name": "stdout",
     "output_type": "stream",
     "text": [
      "[[ 3.4  8.7  9.9]\n",
      " [ 1.1 -7.8 -0.7]\n",
      " [ 4.1 12.3  4.8]]\n",
      "2\n"
     ]
    }
   ],
   "source": [
    "A = np.array([ [3.4, 8.7, 9.9], \n",
    "               [1.1, -7.8, -0.7],\n",
    "               [4.1, 12.3, 4.8]])\n",
    "print(A)\n",
    "print(A.ndim)"
   ]
  },
  {
   "cell_type": "markdown",
   "metadata": {},
   "source": [
    "Dreidimensionale Arrays werden wir uns in einem späteren Kapitel genauer anschauen."
   ]
  },
  {
   "cell_type": "markdown",
   "metadata": {},
   "source": [
    "<br><br>\n",
    "\n",
    "### Shape/Gestalt eines Arrays\n",
    "\n",
    "\n",
    "\n",
    "\n",
    "\n",
    "\n",
    "Die Funktion ```shape``` liefert die Größe bzw. die Gestalt eines Arrays in Form eines Integer-Tupels zurück. Diese Zahlen bezeichnen die Längen der entsprechenden Array-Dimensionen, d.h. im zweidimensionalen Fall den Zeilen und Spalten. In anderen Worten: Die Gestalt oder Shape eines Arrays ist ein Tupel mit der Anzahl der Elemente pro Achse (Dimension). In unserem Beispiel ist die Shape gleich (6, 3). Das bedeutet, das wir sechs Zeilen und drei Spalten haben. \n",
    "\n"
   ]
  },
  {
   "cell_type": "code",
   "execution_count": 9,
   "metadata": {},
   "outputs": [
    {
     "name": "stdout",
     "output_type": "stream",
     "text": [
      "(6, 3)\n"
     ]
    }
   ],
   "source": [
    "x = np.array([ [67, 63, 87],\n",
    "               [77, 69, 59],\n",
    "               [85, 87, 99],\n",
    "               [79, 72, 71],\n",
    "               [63, 89, 93],\n",
    "               [68, 92, 78]])\n",
    "print(np.shape(x))"
   ]
  },
  {
   "cell_type": "markdown",
   "metadata": {},
   "source": [
    "Es gibt auch eine äquivalente Array-Property:"
   ]
  },
  {
   "cell_type": "code",
   "execution_count": 10,
   "metadata": {},
   "outputs": [
    {
     "name": "stdout",
     "output_type": "stream",
     "text": [
      "(6, 3)\n"
     ]
    }
   ],
   "source": [
    "print(x.shape)"
   ]
  },
  {
   "cell_type": "markdown",
   "metadata": {},
   "source": [
    "\n",
    "<img width=30% class=\"imgright\" src=\"../images/axis.webp\" \n",
    "alt=\"Numerierung der Achsen\" />\n",
    "\n"
   ]
  },
  {
   "cell_type": "markdown",
   "metadata": {},
   "source": [
    "Die Shape eines Arrays sagt uns auch etwas über die Reihenfolge, in der die Indizes ausgeführt werden, d.h. zuerst die Zeilen, dann die Spalten und dann gegebenenfalls eine weitere Dimension oder weitere Dimensionen.\n",
    "\n",
    "```shape``` kann auch dazu genutzt werden, die \"Shape\" eines Arrays zu ändern:"
   ]
  },
  {
   "cell_type": "code",
   "execution_count": 11,
   "metadata": {},
   "outputs": [
    {
     "name": "stdout",
     "output_type": "stream",
     "text": [
      "[[67 63 87 77 69 59]\n",
      " [85 87 99 79 72 71]\n",
      " [63 89 93 68 92 78]]\n"
     ]
    }
   ],
   "source": [
    "x.shape = (3, 6)\n",
    "print(x)"
   ]
  },
  {
   "cell_type": "code",
   "execution_count": 12,
   "metadata": {},
   "outputs": [
    {
     "name": "stdout",
     "output_type": "stream",
     "text": [
      "[[67 63 87 77 69 59 85 87 99]\n",
      " [79 72 71 63 89 93 68 92 78]]\n"
     ]
    }
   ],
   "source": [
    "x.shape = (2, 9)\n",
    "print(x)"
   ]
  },
  {
   "cell_type": "markdown",
   "metadata": {},
   "source": [
    "Viele haben sicherlich bereits vermutet, dass die neue Shape der Anzahl der Elemente des Arrays entsprechen muss, d.h. die totale Größe des neuen Arrays muss die gleiche wie die alte sein. Eine Ausnahme wird erhoben, wenn dies nicht der Fall ist, wenn man in unserem Fall zum Beispiel \n",
    "\n",
    "```x.shape = (4, 4)```\n",
    "\n",
    "eingibt."
   ]
  },
  {
   "cell_type": "markdown",
   "metadata": {},
   "source": [
    "Die Shape eines Skalars ist ein leeres Tupel:"
   ]
  },
  {
   "cell_type": "code",
   "execution_count": 13,
   "metadata": {},
   "outputs": [
    {
     "name": "stdout",
     "output_type": "stream",
     "text": [
      "()\n"
     ]
    }
   ],
   "source": [
    "x = np.array(11)\n",
    "print(np.shape(x))"
   ]
  },
  {
   "cell_type": "markdown",
   "metadata": {},
   "source": [
    "Im Folgenden sehen wir die Shape eines dreidimensionalen Arrays:"
   ]
  },
  {
   "cell_type": "code",
   "execution_count": 14,
   "metadata": {},
   "outputs": [
    {
     "name": "stdout",
     "output_type": "stream",
     "text": [
      "(3, 2, 2)\n"
     ]
    }
   ],
   "source": [
    "B = np.array([ [[111, 112], [121, 122]],\n",
    "               [[211, 212], [221, 222]],\n",
    "               [[311, 312], [321, 322]] ])\n",
    "print(B.shape)"
   ]
  },
  {
   "cell_type": "markdown",
   "metadata": {},
   "source": [
    "<br><br>\n",
    "\n",
    "### Indizierung und Teilbereichsoperator\n",
    "\n",
    "\n",
    "\n",
    "\n",
    "\n",
    "Der Zugriff oder die Zuweisung an die Elemente eines Arrays funktioniert ähnlich wie bei den sequentiellen Datentypen von Python, d.h. den Listen und Tupeln. Außerdem haben wir verschiedene Möglichkeiten zu indizieren. Dies macht das Indizieren in NumPy sehr mächtig und ähnlich zum Indizieren und dem Teilbereichsoperator der Listen.\n",
    "\n",
    "Einzelne Elemente zu indizieren funktioniert so, wie es die meisten wahrscheinlich erwarten:"
   ]
  },
  {
   "cell_type": "code",
   "execution_count": 15,
   "metadata": {},
   "outputs": [
    {
     "name": "stdout",
     "output_type": "stream",
     "text": [
      "1\n",
      "21\n"
     ]
    }
   ],
   "source": [
    "F = np.array([1, 1, 2, 3, 5, 8, 13, 21])\n",
    "# Ausgabe des ersten Elements von F\n",
    "print(F[0])\n",
    "# Ausgabe letztes Element von F\n",
    "print(F[-1])"
   ]
  },
  {
   "cell_type": "markdown",
   "metadata": {},
   "source": [
    "Mehrdimensionale Arrays indizieren:"
   ]
  },
  {
   "cell_type": "code",
   "execution_count": 16,
   "metadata": {},
   "outputs": [
    {
     "name": "stdout",
     "output_type": "stream",
     "text": [
      "1.1\n",
      "121\n"
     ]
    }
   ],
   "source": [
    "A = np.array([ [3.4, 8.7, 9.9], \n",
    "               [1.1, -7.8, -0.7],\n",
    "               [4.1, 12.3, 4.8]])\n",
    "print(A[1][0])\n",
    "\n",
    "B = np.array([ [[111, 112], [121, 122]],\n",
    "               [[211, 212], [221, 222]],\n",
    "               [[311, 312], [321, 322]] ])\n",
    "print(B[0][1][0])"
   ]
  },
  {
   "cell_type": "markdown",
   "metadata": {},
   "source": [
    "Wir haben auf das Element in der zweiten Zeile, d.h. die Zeile mit dem Index 1, und der ersten Spalte (Index 0) zugegriffen. Auf dieses Element haben wir in der gleichen Art zugegriffen, wie wir mit einem Element in einer verschachtelten Python-Liste verfahren wären. \n",
    "\n",
    "Es gibt aber auch eine Alternative: Wir benutzen nur ein Klammernpaar, und alle Indizes werden mit Kommas separiert:"
   ]
  },
  {
   "cell_type": "code",
   "execution_count": 17,
   "metadata": {},
   "outputs": [
    {
     "name": "stdout",
     "output_type": "stream",
     "text": [
      "1.1\n"
     ]
    }
   ],
   "source": [
    "print(A[1, 0])"
   ]
  },
  {
   "cell_type": "markdown",
   "metadata": {},
   "source": [
    "Man muss sich aber der Tatsache bewusst sein, dass die zweite Art prinzipiell effizienter ist. Im ersten Fall erzeugen wir als Zwischenschritt ein Array ```A[1]```, in dem wir dann auf das Element mit dem Index 0 zugreifen. Dies entspricht in etwa dem Folgenden:"
   ]
  },
  {
   "cell_type": "code",
   "execution_count": 18,
   "metadata": {},
   "outputs": [
    {
     "name": "stdout",
     "output_type": "stream",
     "text": [
      "[ 1.1 -7.8 -0.7]\n",
      "1.1\n"
     ]
    }
   ],
   "source": [
    "tmp = A[1]\n",
    "print(tmp)\n",
    "print(tmp[0])"
   ]
  },
  {
   "cell_type": "markdown",
   "metadata": {},
   "source": [
    "\n",
    "\n",
    "\n",
    "\n",
    "\n",
    "Wir nehmen an, dass Sie bereits vertraut sind mit den \n",
    "\n",
    "[Teilbereichsoperatoren](python3_variablen.php)\n",
    " \n",
    " \n",
    "(slicing) von den Listen und Tupeln.\n",
    "\n",
    "Das englische Verb \"to slice\" bedeutet in Deutsch \"schneiden\" oder auch \"in Scheiben schneiden\". Letztere Bedeutung entspricht auch der Arbeitsweise des Teilbereichsoperators in Python und NumPy. Man schneidet sich gewissermaßen eine \"Scheibe\" aus einem sequentiellen Datentyp oder einem Array heraus. \n",
    "\n",
    "Die Syntax in NumPy ist analog zu der von Standardpython im Falle von eindimensionalen Arrays. Allerdings können wir \"Slicing\" auch auf mehrdimensionale Arrays anwenden.\n",
    "\n",
    "Die allgemeine Syntax für den eindimensionalen Fall lautet wie folgt:\n",
    "\n",
    "```[start:stop:step]```\n",
    "\n",
    "Wir demonstrieren die Arbeitsweise des Teilbereichsoperators an einigen Beispielen. Wir beginnen mit dem einfachsten Fall, also dem eindimensionalen Array:"
   ]
  },
  {
   "cell_type": "code",
   "execution_count": 19,
   "metadata": {},
   "outputs": [
    {
     "name": "stdout",
     "output_type": "stream",
     "text": [
      "[2 3 4]\n",
      "[0 1 2 3]\n",
      "[6 7 8 9]\n",
      "[0 1 2 3 4 5 6 7 8 9]\n"
     ]
    }
   ],
   "source": [
    "S = np.array([0, 1, 2, 3, 4, 5, 6, 7, 8, 9])\n",
    "print(S[2:5])\n",
    "print(S[:4])\n",
    "print(S[6:])\n",
    "print(S[:])"
   ]
  },
  {
   "cell_type": "markdown",
   "metadata": {},
   "source": [
    "Die Anwendung des Teilbereichsoperators auf mehrdimensionale Arrays illustrieren wir in den folgenden Beispielen. Die Bereiche für jede Dimension werden durch Kommas getrennt:"
   ]
  },
  {
   "cell_type": "code",
   "execution_count": 20,
   "metadata": {},
   "outputs": [
    {
     "name": "stdout",
     "output_type": "stream",
     "text": [
      "[[13 14 15]\n",
      " [23 24 25]\n",
      " [33 34 35]]\n"
     ]
    }
   ],
   "source": [
    "A = np.array([\n",
    "[11, 12, 13, 14, 15],\n",
    "[21, 22, 23, 24, 25],\n",
    "[31, 32, 33, 34, 35],\n",
    "[41, 42, 43, 44, 45],\n",
    "[51, 52, 53, 54, 55]])\n",
    "\n",
    "print(A[:3, 2:])"
   ]
  },
  {
   "cell_type": "markdown",
   "metadata": {},
   "source": [
    "<-- website\n",
    "<img src=\"../images/slicing1.webp\" \n",
    "alt=\"Abbildung zum ersten Beispiel eines Teilbereichsoperators in NumPy\" />\n",
    "website -->\n",
    "<-- book\n",
    "  \\begin{center}\n",
    "         \\includegraphics[width=0.40\\textwidth]{../images/slicing1.webp}\n",
    "  \\end{center}\n",
    "\n",
    "book -->\n"
   ]
  },
  {
   "cell_type": "code",
   "execution_count": 21,
   "metadata": {},
   "outputs": [
    {
     "name": "stdout",
     "output_type": "stream",
     "text": [
      "[[41 42 43 44 45]\n",
      " [51 52 53 54 55]]\n"
     ]
    }
   ],
   "source": [
    "print(A[3:, :])"
   ]
  },
  {
   "cell_type": "markdown",
   "metadata": {},
   "source": [
    "<-- website\n",
    "<img src=\"../images/slicing2.webp\" \n",
    "alt=\"Abbildung zum zweiten Beispiel eines Teilbereichsoperators in NumPy\" />\n",
    "website -->\n",
    "\n",
    "<-- book\n",
    "  \\begin{center}\n",
    "         \\includegraphics[width=0.40\\textwidth]{../images/slicing2.webp}\n",
    "  \\end{center}\n",
    "\n",
    "book -->"
   ]
  },
  {
   "cell_type": "code",
   "execution_count": 22,
   "metadata": {},
   "outputs": [
    {
     "name": "stdout",
     "output_type": "stream",
     "text": [
      "[[15]\n",
      " [25]\n",
      " [35]\n",
      " [45]\n",
      " [55]]\n"
     ]
    }
   ],
   "source": [
    "print(A[:, 4:])"
   ]
  },
  {
   "cell_type": "markdown",
   "metadata": {},
   "source": [
    "<-- website\n",
    "<img src=\"../images/slicing3.webp\" \n",
    "alt=\"Abbildung zum dritten Beispiel eines Teilbereichsoperators in NumPy\" />\n",
    "website -->\n",
    "\n",
    "<-- book\n",
    "\n",
    "  \\begin{center}\n",
    "         \\includegraphics[width=0.40\\textwidth]{../images/slicing3.webp}\n",
    "  \\end{center}\n",
    "\n",
    "\n",
    "book -->"
   ]
  },
  {
   "cell_type": "markdown",
   "metadata": {},
   "source": [
    "Die folgenden beiden Beispiele benutzten auch noch den dritten Parameter ```step```. Die ```reshape```-Funktion benutzen wir, um ein eindimensionales Array in ein zweidimensionales zu wandeln. Wir werden ```reshape``` im folgenden Unterkapitel erklären:"
   ]
  },
  {
   "cell_type": "code",
   "execution_count": 23,
   "metadata": {},
   "outputs": [
    {
     "name": "stdout",
     "output_type": "stream",
     "text": [
      "[[ 0  1  2  3  4  5  6]\n",
      " [ 7  8  9 10 11 12 13]\n",
      " [14 15 16 17 18 19 20]\n",
      " [21 22 23 24 25 26 27]]\n"
     ]
    }
   ],
   "source": [
    "X = np.arange(28).reshape(4, 7)\n",
    "print(X)"
   ]
  },
  {
   "cell_type": "code",
   "execution_count": 24,
   "metadata": {},
   "outputs": [
    {
     "name": "stdout",
     "output_type": "stream",
     "text": [
      "[[ 0  3  6]\n",
      " [14 17 20]]\n"
     ]
    }
   ],
   "source": [
    "print(X[::2, ::3])"
   ]
  },
  {
   "cell_type": "markdown",
   "metadata": {},
   "source": [
    "<-- website\n",
    "<img src=\"../images/slicing4.webp\" \n",
    "alt=\"Abbildung zum vierten Beispiel eines Teilbereichsoperators in NumPy\" />\n",
    "website -->\n",
    "<-- book\n",
    "  \\begin{center}\n",
    "         \\includegraphics[width=0.40\\textwidth]{../images/slicing4.webp}\n",
    "  \\end{center}\n",
    "\n",
    "book -->"
   ]
  },
  {
   "cell_type": "code",
   "execution_count": 25,
   "metadata": {},
   "outputs": [
    {
     "name": "stdout",
     "output_type": "stream",
     "text": [
      "[[ 0  3  6]\n",
      " [ 7 10 13]\n",
      " [14 17 20]\n",
      " [21 24 27]]\n"
     ]
    }
   ],
   "source": [
    "print(X[::, ::3])"
   ]
  },
  {
   "cell_type": "markdown",
   "metadata": {},
   "source": [
    "<-- website\n",
    "<img src=\"../images/slicing5.webp\" \n",
    "alt=\"Abbildung zum fünften Beispiel eines Teilbereichsoperators in NumPy\" />\n",
    "<br><br>\n",
    "<img class=\"imgleft\" src=\"../images/warnzeichen.webp\" alt=\"Warnzeichen\" />\n",
    "website -->\n",
    "<-- book\n",
    "  \\begin{center}\n",
    "         \\includegraphics[width=0.40\\textwidth]{../images/slicing4.webp}\n",
    "  \\end{center}\n",
    "\n",
    "book -->"
   ]
  },
  {
   "cell_type": "markdown",
   "metadata": {},
   "source": [
    "Falls die Zahl der Objekte in dem Auswahltupel kleiner als die Dimension N ist, dann wird \":\" für die weiteren, nicht angegebenen Dimensionen angenommen:"
   ]
  },
  {
   "cell_type": "code",
   "execution_count": 26,
   "metadata": {},
   "outputs": [
    {
     "data": {
      "text/plain": [
       "array([[[46, 14,  4],\n",
       "        [45, 14,  5]],\n",
       "\n",
       "       [[47, 13,  2],\n",
       "        [48, 15,  5]]])"
      ]
     },
     "execution_count": 26,
     "metadata": {},
     "output_type": "execute_result"
    }
   ],
   "source": [
    "A = np.array(\n",
    "    [ [ [45, 12, 4], [45, 13, 5], [46, 12, 6] ], \n",
    "      [ [46, 14, 4], [45, 14, 5], [46, 11, 5] ], \n",
    "      [ [47, 13, 2], [48, 15, 5], [52, 15, 1] ] ])\n",
    "\n",
    "A[1:3, 0:2]  # equivalent to A[1:3, 0:2, :]"
   ]
  },
  {
   "cell_type": "markdown",
   "metadata": {},
   "source": [
    "**Achtung**: Während der Teilbereichsoperator bei Listen und Tupel neue Objekte erzeugt, generiert er bei NumPy nur eine Sicht (englisch: \"view\") auf das Originalarray. Dadurch erhalten wir eine andere Möglichkeit, das Array anzusprechen, oder besser einen Teil des Arrays. Daraus folgt, dass wenn wir etwas in einer Sicht verändern, wir auch das Originalarray verändern:"
   ]
  },
  {
   "cell_type": "code",
   "execution_count": 27,
   "metadata": {},
   "outputs": [
    {
     "name": "stdout",
     "output_type": "stream",
     "text": [
      "[ 0  1 22 23  4  5  6  7  8  9]\n"
     ]
    }
   ],
   "source": [
    "A = np.array([0, 1, 2, 3, 4, 5, 6, 7, 8, 9])\n",
    "S = A[2:6]\n",
    "S[0] = 22\n",
    "S[1] = 23\n",
    "print(A)"
   ]
  },
  {
   "cell_type": "markdown",
   "metadata": {},
   "source": [
    "\n",
    "\n",
    "\n",
    "Wenn wir das analog bei Listen tun, sehen wir, dass wir eine Kopie erhalten. Genaugenommen müssten wir sagen, eine flache Kopie. \n",
    "<-- website\n",
    "Den Unterschied zwischen flacher und tiefer Kopie haben wir in unserem Kapitel [\"Flaches und tiefes Kopieren\"](python3_deep_copy.php) ausführlich erklärt.\n",
    "website -->\n"
   ]
  },
  {
   "cell_type": "code",
   "execution_count": 28,
   "metadata": {},
   "outputs": [
    {
     "name": "stdout",
     "output_type": "stream",
     "text": [
      "[0, 1, 2, 3, 4, 5, 6, 7, 8, 9]\n"
     ]
    }
   ],
   "source": [
    "lst = [0, 1, 2, 3, 4, 5, 6, 7, 8, 9]\n",
    "lst2 = lst[2:6]\n",
    "lst2[0] = 22\n",
    "lst2[1] = 23\n",
    "print(lst)"
   ]
  },
  {
   "cell_type": "markdown",
   "metadata": {},
   "source": [
    "Will man prüfen, ob zwei Arrays auf den gleichen Speicherbereich zugreifen, so kann man die Funktion n```p.may_share_memory``` benutzen:\n",
    "\n",
    "```np.may_share_memory(A, B)```\n",
    "\n",
    "Um zu entscheiden, ob sich zwei Arrays ```A``` und ```B``` Speicher teilen, werden die Speichergrenzen von ```A``` und ```B``` berechnet. Die Funktion liefert ```True``` zurück, falls sie überlappen, und ansonsten ```False```. "
   ]
  },
  {
   "cell_type": "code",
   "execution_count": 29,
   "metadata": {},
   "outputs": [
    {
     "data": {
      "text/plain": [
       "True"
      ]
     },
     "execution_count": 29,
     "metadata": {},
     "output_type": "execute_result"
    }
   ],
   "source": [
    "A = np.array([0, 1, 2, 3, 4, 5, 6, 7, 8, 9])\n",
    "B = A[2:5]\n",
    "\n",
    "np.may_share_memory(A, B)"
   ]
  },
  {
   "cell_type": "markdown",
   "metadata": {},
   "source": [
    "Die Funktion kann allerdings falsch-positive Ergebnisse liefern, d.h. falls sie ```True``` zurückliefert, könnten die Arrays dennoch verschieden sein.\n",
    "\n",
    "Im folgenden Beispiel haben ```B1``` und ```B2``` keine gemeinsamen Daten, aber die Speicherorte sind verzahnt, da beide ja \"nur\" eine View auf A darstellen:"
   ]
  },
  {
   "cell_type": "code",
   "execution_count": 30,
   "metadata": {},
   "outputs": [
    {
     "name": "stdout",
     "output_type": "stream",
     "text": [
      "True\n"
     ]
    }
   ],
   "source": [
    "A = np.array([0, 1, 2, 3, 4, 5, 6, 7, 8, 9])\n",
    "B1 = A[::2]\n",
    "B2 = A[1::2]\n",
    "print(np.may_share_memory(B1, B2))"
   ]
  },
  {
   "cell_type": "markdown",
   "metadata": {},
   "source": [
    "Das obige Beispiel ist ein falsch-positiv-Beispiel für ```may_share_memory``` in dem Sinn, dass jemand wegen der Ausgabe ```True``` denken könnte, dass die Arrays gemeinsamen Speicher hätten. "
   ]
  },
  {
   "cell_type": "markdown",
   "metadata": {},
   "source": [
    "<br><br>\n",
    "\n",
    "### Dreidimensionale Arrays\n",
    "\n",
    "\n",
    "Dreidimensionale Arrays sind vom Zugriff her etwas schwerer vorstellbar. Betrachten wir dazu das folgende Beispielarray:"
   ]
  },
  {
   "cell_type": "code",
   "execution_count": 31,
   "metadata": {
    "code_folding": []
   },
   "outputs": [
    {
     "name": "stdout",
     "output_type": "stream",
     "text": [
      "(4, 2, 3)\n"
     ]
    }
   ],
   "source": [
    "import numpy as np\n",
    "X = np.array(\n",
    "    [[[3, 1, 2],\n",
    "      [4, 2, 2]],\n",
    "\n",
    "     [[-1, 0, 1],\n",
    "      [1, -1, -2]],\n",
    "     \n",
    "     [[3, 2, 2],\n",
    "      [4, 4, 3]],\n",
    "\n",
    "     [[2, 2, 1],\n",
    "      [3, 1, 3]]])\n",
    "\n",
    "print(X.shape)"
   ]
  },
  {
   "cell_type": "markdown",
   "metadata": {},
   "source": [
    "Wir sehen, dass dieses Array eine Shape ```(4, 2, 3)``` hat. Wir benutzen nun die Slicing-Funktionalität, um uns die Schnitte durch die Dimensionen zu veranschaulichen:"
   ]
  },
  {
   "cell_type": "code",
   "execution_count": 70,
   "metadata": {},
   "outputs": [
    {
     "name": "stdout",
     "output_type": "stream",
     "text": [
      "Dimension 0 with size  4\n",
      "\n",
      "Ausgabe von X[0,:,:]:\n",
      "[[3 1 2]\n",
      " [4 2 2]]\n",
      "\n",
      "Ausgabe von X[1,:,:]:\n",
      "[[-1  0  1]\n",
      " [ 1 -1 -2]]\n",
      "\n",
      "Ausgabe von X[2,:,:]:\n",
      "[[3 2 2]\n",
      " [4 4 3]]\n",
      "\n",
      "Ausgabe von X[3,:,:]:\n",
      "[[2 2 1]\n",
      " [3 1 3]]\n",
      "\n",
      "Dimension 1 with size  2\n",
      "\n",
      "Ausgabe von X[:,0,:]:\n",
      "[[ 3  1  2]\n",
      " [-1  0  1]\n",
      " [ 3  2  2]\n",
      " [ 2  2  1]]\n",
      "\n",
      "Ausgabe von X[:,1,:]:\n",
      "[[ 4  2  2]\n",
      " [ 1 -1 -2]\n",
      " [ 4  4  3]\n",
      " [ 3  1  3]]\n",
      "\n",
      "Dimension 2 with size  3\n",
      "\n",
      "Ausgabe von X[:,:,0]:\n",
      "[[ 3  4]\n",
      " [-1  1]\n",
      " [ 3  4]\n",
      " [ 2  3]]\n",
      "\n",
      "Ausgabe von X[:,:,1]:\n",
      "[[ 1  2]\n",
      " [ 0 -1]\n",
      " [ 2  4]\n",
      " [ 2  1]]\n",
      "\n",
      "Ausgabe von X[:,:,2]:\n",
      "[[ 2  2]\n",
      " [ 1 -2]\n",
      " [ 2  3]\n",
      " [ 1  3]]\n"
     ]
    }
   ],
   "source": [
    "print(\"Dimension 0 with size \", X.shape[0])\n",
    "for i in range(X.shape[0]):\n",
    "    print(f\"\\nAusgabe von X[{i:1},:,:]:\")\n",
    "    print(X[i,:,:])\n",
    "    \n",
    "print(\"\\nDimension 1 with size \", X.shape[1])\n",
    "for i in range(X.shape[1]):\n",
    "    print(f\"\\nAusgabe von X[:,{i:1},:]:\")\n",
    "    print(X[:,i,:])\n",
    "    \n",
    "print(\"\\nDimension 2 with size \", X.shape[2])\n",
    "for i in range(X.shape[2]):\n",
    "    print(f\"\\nAusgabe von X[:,:,{i:1}]:\")\n",
    "    print(X[:,:,i])"
   ]
  },
  {
   "cell_type": "markdown",
   "metadata": {},
   "source": [
    "##### \n",
    "<-- book\n",
    "\n",
    "Die folgenden Bilder erläutern dies noch weiter:\n",
    "\n",
    "\\vspace*{1.5cm}\n",
    "\\begin{center}\n",
    "     \\includegraphics[width=0.40\\textwidth]{../images/matrix_3_dimensional_shapes1.webp}\n",
    "\\end{center}\n",
    "\n",
    "\\vspace*{1.5cm}\n",
    "\n",
    "\\begin{center}\n",
    "     \\includegraphics[width=0.60\\textwidth]{../images/matrix_3_dimensional_shapes2.webp}\n",
    "\\end{center}\n",
    "\n",
    "\\vspace*{1.5cm}\n",
    "\n",
    "\\begin{center}\n",
    "     \\includegraphics[width=0.55\\textwidth]{../images/matrix_3_dimensional_shapes3.webp}\n",
    "\\end{center}\n",
    "\n",
    "\n",
    "book -->\n"
   ]
  },
  {
   "cell_type": "markdown",
   "metadata": {},
   "source": [
    "<br><br>\n",
    "\n",
    "### Arrays mit Nullen und Einsen\n",
    "\n",
    "\n",
    "\n",
    "Arrays können auf zwei Arten mit Nullen und Einsen initialisiert werden. Die Methode ```ones(t)``` hat als Parameter ein Tupel ```t``` mit der Shape des Arrays und erzeugt entsprechend ein Array mit Einsen. Defaultmäßig wird es mit Float-Einsen gefüllt. Wenn man Integer-Einsen benötigt, kann man den optionalen Parameter ```dtype``` auf ```int``` setzen:"
   ]
  },
  {
   "cell_type": "code",
   "execution_count": 33,
   "metadata": {},
   "outputs": [
    {
     "name": "stdout",
     "output_type": "stream",
     "text": [
      "[[1. 1. 1.]\n",
      " [1. 1. 1.]]\n",
      "[[1 1 1 1]\n",
      " [1 1 1 1]\n",
      " [1 1 1 1]]\n"
     ]
    }
   ],
   "source": [
    "import numpy as np\n",
    "\n",
    "E = np.ones((2, 3))\n",
    "print(E)\n",
    "\n",
    "F = np.ones((3, 4), dtype=int)\n",
    "print(F)"
   ]
  },
  {
   "cell_type": "markdown",
   "metadata": {},
   "source": [
    "\n",
    "\n",
    "Was wir über die Methode ```ones``` gesagt haben, gilt analog auch für die Methode ```zeros```, wie wir im folgenden Beispiel erkennen können:"
   ]
  },
  {
   "cell_type": "code",
   "execution_count": 34,
   "metadata": {},
   "outputs": [
    {
     "name": "stdout",
     "output_type": "stream",
     "text": [
      "[[0. 0. 0. 0.]\n",
      " [0. 0. 0. 0.]]\n",
      "[[0 0 0 0]\n",
      " [0 0 0 0]]\n"
     ]
    }
   ],
   "source": [
    "Z = np.zeros((2, 4))\n",
    "print(Z)\n",
    "\n",
    "Z = np.zeros((2, 4), dtype=int)\n",
    "print(Z)"
   ]
  },
  {
   "cell_type": "markdown",
   "metadata": {},
   "source": [
    "\n",
    "\n",
    "Es gibt noch eine andere interessante Möglichkeit, ein Array mit Einsen oder Nullen zu erzeugen, wenn es die gleiche Shape wie ein anderes existierendes Array 'a' haben soll. Für diesen Zweck stellt NumPy die Methoden ```ones_like``` und ```zeros_like``` zur Verfügung:"
   ]
  },
  {
   "cell_type": "code",
   "execution_count": 35,
   "metadata": {},
   "outputs": [
    {
     "name": "stdout",
     "output_type": "stream",
     "text": [
      "[1 1 1 1 1]\n",
      "[0 0 0 0 0]\n"
     ]
    }
   ],
   "source": [
    "x = np.array([2, 5, 18, 14, 4])\n",
    "E = np.ones_like(x)\n",
    "print(E)\n",
    "\n",
    "Z = np.zeros_like(x)\n",
    "print(Z)"
   ]
  },
  {
   "cell_type": "markdown",
   "metadata": {},
   "source": [
    "<br><br>\n",
    "\n",
    "### Arrays kopieren\n",
    "\n",
    "<br> \n",
    "\n",
    "\n",
    "\n",
    "#### numpy.copy(A) und A.copy()\n",
    "\n",
    "Zum Kopieren eines NumPy-Arrays ```A``` gibt es generell zwei Möglichkeiten:\n",
    "\n",
    "- ```numpy.copy(A)```\n",
    "- ```A.copy()```\n",
    "\n",
    "Beide sind nahezu gleich und liefern jeweils eine Kopie des Arrays ```A```  zurück. \n",
    "Sie unterscheiden sich aber beim Defaultwert des optionalen Parameters. Bei ```numpy.copy(obj)``` steht der Defaultwert auf ```order='K'```, und bei ```obj.copy()``` steht er auf ```order='C'```.\n"
   ]
  },
  {
   "cell_type": "markdown",
   "metadata": {},
   "source": [
    "| Parameter | Bedeutung | \n",
    "|:-----|-------|\n",
    "| obj | array-ähnliche Eingabedaten |\n",
    "| order | Die möglichen Werte sind \\{'C', 'F', 'A', 'K'\\}. Dieser Parameter kontrolliert das Speicher-Layout der Kopie. 'C' bedeutet C-Reihenfolge oder C-zusammenhängend, 'F' Fortran-zusammenhängend, 'A' verhält sich wie 'F', falls das Objekt 'obj' in Fortran-Reihenfolge ist, ansonsten verhält sich 'A' wie 'C'. 'K' bedeutet, dass das Layout von 'obj'  so nahe wie möglich realisiert werden soll.|\n",
    "\n",
    "#### Zusammenhängend gespeicherte Arrays\n",
    "\n",
    "\n",
    "\n",
    "\n",
    "\n",
    "\n",
    "\n",
    "Um den Parameter ```order``` zu verstehen, gehen wir noch kurz auf den Begriff \"zusammenhängend\" (englisch \"contiguous\") ein. Die Speicherstruktur eines Arrays wird als zusammenhängend bezeichnet, wenn die Speicherung eines Arrays entweder C-zusammenhängend (```C_CONTIGUOUS```) oder Fortran-zusammenhängend (```F_CONTIGUOUS```) erfolgt. Betrachten wir dazu folgendes Array:\n",
    "\n",
    "\n",
    "<img width=30% class=\"imgright\" src=\"../images/array_coloured.webp\" \n",
    "alt=\"Beispielarray\" />\n",
    "\n",
    "\n",
    "\n",
    "Wenn dieses Array zeilenweise abgespeichert ist, spricht man von C-zusammenhängend. Wir veranschaulichen dies im folgenden Bild:\n",
    "\n",
    "\n",
    "<img width=90% class=\"imgright\" src=\"../images/array_coloured_C_contiguous.webp\" srcset=\"../images/array_coloured_C_contiguous_800w.webp 800w,../images/array_coloured_C_contiguous_700w.webp 700w,../images/array_coloured_C_contiguous_600w.webp 600w,../images/array_coloured_C_contiguous_500w.webp 500w,../images/array_coloured_C_contiguous_400w.webp 400w,../images/array_coloured_C_contiguous_350w.webp 350w,../images/array_coloured_C_contiguous_300w.webp 300w\" \n",
    "alt=\"Beispielarray\" />\n",
    "\n",
    "\n",
    "\n",
    "Wird ein Array entsprechend spaltenweise abgespeichert, so bezeichnet man dies als F-zusammenhängend:\n",
    "\n",
    "\n",
    "<img width=90% class=\"imgright\" src=\"../images/array_coloured_Fortran_contiguous.webp\" srcset=\"../images/array_coloured_Fortran_contiguous_800w.webp 800w,../images/array_coloured_Fortran_contiguous_700w.webp 700w,../images/array_coloured_Fortran_contiguous_600w.webp 600w,../images/array_coloured_Fortran_contiguous_500w.webp 500w,../images/array_coloured_Fortran_contiguous_400w.webp 400w,../images/array_coloured_Fortran_contiguous_350w.webp 350w,../images/array_coloured_Fortran_contiguous_300w.webp 300w\" \n",
    "alt=\"Beispielarray\" />\n",
    "\n",
    "\n",
    "\n",
    "Wir demonstrieren nun, wie man die Speicherart mittels des Parameters ```order``` bestimmen kann:"
   ]
  },
  {
   "cell_type": "code",
   "execution_count": 36,
   "metadata": {},
   "outputs": [
    {
     "name": "stdout",
     "output_type": "stream",
     "text": [
      "F array: \n",
      " [[11 12 13 14]\n",
      " [21 22 23 24]\n",
      " [31 32 33 34]]\n",
      "C array: \n",
      " [[11 12 13 14]\n",
      " [21 22 23 24]\n",
      " [31 32 33 34]]\n",
      "Ist F 'C continuous?':  False\n",
      "Ist C 'C continuous?':  True\n",
      "Ist C 'C continuous?':  False\n"
     ]
    }
   ],
   "source": [
    "import numpy as np\n",
    "\n",
    "F = np.array([[11, 12, 13, 14], \n",
    "              [21, 22, 23, 24],\n",
    "              [31, 32, 33, 34]], order='F')\n",
    "\n",
    "C = F.copy()\n",
    "C2 = np.copy(F)\n",
    "\n",
    "print(\"F array: \\n\", F)\n",
    "print(\"C array: \\n\", C)\n",
    "\n",
    "print(\"Ist F 'C continuous?': \", F.flags['C_CONTIGUOUS'])\n",
    "print(\"Ist C 'C continuous?': \", C.flags['C_CONTIGUOUS'])\n",
    "print(\"Ist C 'C continuous?': \", C2.flags['C_CONTIGUOUS'])"
   ]
  },
  {
   "cell_type": "markdown",
   "metadata": {},
   "source": [
    "\n",
    "Transponiert man ein Array, werden die Daten nicht umgespeichert, sondern lediglich das ```strides```-Attribut entsprechend angepasst, d.h. die Speicherung wird anders interpretiert."
   ]
  },
  {
   "cell_type": "code",
   "execution_count": 37,
   "metadata": {},
   "outputs": [
    {
     "name": "stdout",
     "output_type": "stream",
     "text": [
      "True\n",
      "False\n",
      "(8, 32) (32, 8)\n"
     ]
    }
   ],
   "source": [
    "T = C.transpose()\n",
    "print(C.flags['C_CONTIGUOUS'])\n",
    "print(T.flags['C_CONTIGUOUS'])\n",
    "print(T.strides, C.strides)"
   ]
  },
  {
   "cell_type": "code",
   "execution_count": 38,
   "metadata": {},
   "outputs": [
    {
     "name": "stdout",
     "output_type": "stream",
     "text": [
      "False\n",
      "True\n",
      "(24, 8) (8, 24)\n"
     ]
    }
   ],
   "source": [
    "T = F.transpose()\n",
    "print(F.flags['C_CONTIGUOUS'])\n",
    "print(T.flags['C_CONTIGUOUS'])\n",
    "print(T.strides, F.strides)"
   ]
  },
  {
   "cell_type": "markdown",
   "metadata": {},
   "source": [
    "\n",
    "\n",
    "\n",
    "Wir sehen, dass ```F.strides``` das Tupel ```(8, 24)``` zurückliefert. Dies besagt, dass man 24 Bytes -- was drei Zahlen à 8 Bytes entspricht -- überspringen muss, um von einem Arrayelement zum benachbarten Spaltenelement zu kommen. In anderen Worten: Wegen der Fortran-zusammenhängenden Speicherung liegen im Speicher zwischen den Werten von ```F[1, 1]``` und ```F[1, 2]``` die Werte von  ```F[2, 1]``` und ```F[3, 1]```. Die erste Komponente  ```F.strides``` besagt, dass man entsprechend 8 Bytes überspringen muss, um zum benachbarten Element der nächsten Zeile zu kommen. Also zwischen den Werten von ```F[1, 1]``` und ```F[2, 1]``` liegen keine weiteren Werte. \n",
    "\n",
    "Im Folgenden können wir noch sehen, wie sich die verschiedenen möglichen Werte für ```order``` auswirken. "
   ]
  },
  {
   "cell_type": "code",
   "execution_count": 39,
   "metadata": {},
   "outputs": [
    {
     "name": "stdout",
     "output_type": "stream",
     "text": [
      "R1: order='C':  True False\n",
      "R2: order='C':  True False\n",
      "R1: order='F':  False True\n",
      "R2: order='F':  False True\n",
      "R1: order='A':  False True\n",
      "R2: order='A':  True False\n",
      "R1: order='K':  False True\n",
      "R2: order='K':  True False\n"
     ]
    }
   ],
   "source": [
    "order_values = ['C', 'F', 'A', 'K']\n",
    "for order in order_values:\n",
    "    R1 = F.copy(order=order)\n",
    "    R2 = C.copy(order=order)\n",
    "    print(f\"R1: order='{order}': \", \n",
    "          R1.flags['C_CONTIGUOUS'], \n",
    "          R1.flags['F_CONTIGUOUS'])\n",
    "    print(f\"R2: order='{order}': \", \n",
    "          R2.flags['C_CONTIGUOUS'], \n",
    "          R2.flags['F_CONTIGUOUS'])"
   ]
  },
  {
   "cell_type": "markdown",
   "metadata": {},
   "source": [
    "<br><br>\n",
    "\n",
    "### Identitäts-Array\n",
    "\n",
    "\n",
    "\n",
    "\n",
    "\n",
    "In der linearen Algebra versteht man unter der Identitätsmatrix oder Einheitsmatrix eine quadratische Matrix, deren Hauptdiagonalelemente eins und deren Außerdiagonalelemente null sind.\n",
    "\n",
    "NumPy bietet zwei Möglichkeiten, solche Arrays zu erzeugen:\n",
    "\n",
    "- identy\n",
    "- eye\n",
    "\n",
    "<br>\n",
    "\n",
    "#### Die identity-Funktion\n",
    "\n",
    "Wir können Identitäts-Arrays mit der Funktion ```identity``` generieren:\n",
    "\n",
    "```identity(n, dtype=None)```\n",
    "\n"
   ]
  },
  {
   "cell_type": "markdown",
   "metadata": {},
   "source": [
    "\n",
    "<!-- table_width: 0.8 column_lines: False row_lines: False -->\n",
    "\n",
    "| Parameter  |  Bedeutung |\n",
    "|:------------|----------|\n",
    "| n          | Eine Integer-Zahl, welche die Anzahl der Zeilen und Spalten der Ausgabe definiert, d.h. 'n' x 'n'|\n",
    "| dtype | Ein optionales Argument, welches den Datentyp des Ergebnisses definiert. Der Default ist 'float' |\n",
    "\n"
   ]
  },
  {
   "cell_type": "markdown",
   "metadata": {},
   "source": [
    "\n",
    "Die Ausgabe von ```identity``` ist ein ```n``` x ```n```-Array, in dem die Elemente auf der Hauptdiagonalen auf 1 gesetzt sind und alle anderen Elemente auf 0."
   ]
  },
  {
   "cell_type": "code",
   "execution_count": 40,
   "metadata": {},
   "outputs": [
    {
     "name": "stdout",
     "output_type": "stream",
     "text": [
      "[[1. 0. 0. 0.]\n",
      " [0. 1. 0. 0.]\n",
      " [0. 0. 1. 0.]\n",
      " [0. 0. 0. 1.]]\n"
     ]
    }
   ],
   "source": [
    "import numpy as np\n",
    "\n",
    "print(np.identity(4))"
   ]
  },
  {
   "cell_type": "code",
   "execution_count": 41,
   "metadata": {},
   "outputs": [
    {
     "name": "stdout",
     "output_type": "stream",
     "text": [
      "[[1 0 0 0]\n",
      " [0 1 0 0]\n",
      " [0 0 1 0]\n",
      " [0 0 0 1]]\n"
     ]
    }
   ],
   "source": [
    "print(np.identity(4, dtype=int))"
   ]
  },
  {
   "cell_type": "markdown",
   "metadata": {},
   "source": [
    "<br><br>\n",
    "\n",
    "#### Die eye-Funktion\n",
    "\n",
    "\n",
    "\n",
    "\n",
    "\n",
    "Die Funktion ```eye``` bietet eine andere Möglichkeit, Identitätsarrays, aber auch allgemeine Diagonalarrays, mit Einsen zu erzeugen. Die Ausgabe von ```eye``` ist ein zweidimensionales Array, in dem die Elemente auf der Hauptdiagonalen auf 1 gesetzt sind und alle anderen Elemente auf 0.\n",
    "\n",
    "```eye(N, M=None, k=0, dtype=float)```\n",
    "   \n"
   ]
  },
  {
   "cell_type": "markdown",
   "metadata": {},
   "source": [
    "<!-- table_width: 1 column_lines: False row_lines: False -->\n",
    "\n",
    "| Parameter  |  Bedeutung |\n",
    "|:------------|----------|\n",
    "| N | Eine Integer-Zahl, welche die Anzahl der Zeilen des Ausgebearrays bestimmt.|\n",
    "| M | Eine Integer-Zahl, welche die Spalten des Ausgabearrays bestimmt. Falls dieser Parameter nicht gesetzt ist oder None ist, wird er per Default auf 'N' gesetzt.|\n",
    "| k | Mit 'k' wird die Position der Diagonalen gesetzt. Der Default ist 0. 0 bezeichnet die Hauptdiagonale. Ein positiver Wert bezeichnet eine obere Diagonale und ein negativer Wert eine untere Diagonale.|\n",
    "| dtype | Ein optionales Argument, welches den Datentyp des Ergebnisses definiert. Der Default ist 'float'.|\n",
    "\n",
    "\n",
    "  \n",
    "\n",
    "\n",
    "    \n",
    "```eye``` liefert ein ndarray der Shape ```(N, M)``` zurück. Alle Elemente dieses Arrays sind 0 außer denen auf der ```k```-ten Diagonale, die auf 1 gesetzt sind."
   ]
  },
  {
   "cell_type": "code",
   "execution_count": 42,
   "metadata": {},
   "outputs": [
    {
     "name": "stdout",
     "output_type": "stream",
     "text": [
      "[[0 1 0 0 0 0 0 0]\n",
      " [0 0 1 0 0 0 0 0]\n",
      " [0 0 0 1 0 0 0 0]\n",
      " [0 0 0 0 1 0 0 0]\n",
      " [0 0 0 0 0 1 0 0]]\n"
     ]
    }
   ],
   "source": [
    "import numpy as np\n",
    "\n",
    "print(np.eye(5, 8, k=1, dtype=int))"
   ]
  },
  {
   "cell_type": "markdown",
   "metadata": {},
   "source": [
    "Die Arbeitsweise des Parameters ```d``` von ```eye``` illustrieren wir in folgendem Diagramm:"
   ]
  },
  {
   "cell_type": "markdown",
   "metadata": {},
   "source": [
    "<-- website\n",
    "\n",
    "<img src=\"../images/eye_principle_of_operation.webp\" alt=\"Arbeitsweise der 'eye'-Funktion mit dem Parameter 'k'\" />\n",
    "website -->\n",
    "\n",
    "<-- book\n",
    "\n",
    "  \\begin{center}\n",
    "         \\includegraphics[width=0.50\\textwidth]{../images/eye_principle_of_operation.webp}\n",
    "  \\end{center}\n",
    "\n",
    "book -->"
   ]
  },
  {
   "cell_type": "markdown",
   "metadata": {},
   "source": [
    "\n",
    "\n",
    "\n",
    "\n"
   ]
  }
 ],
 "metadata": {
  "anaconda-cloud": {},
  "kernelspec": {
   "display_name": "Python 3 (ipykernel)",
   "language": "python",
   "name": "python3"
  },
  "language_info": {
   "codemirror_mode": {
    "name": "ipython",
    "version": 3
   },
   "file_extension": ".py",
   "mimetype": "text/x-python",
   "name": "python",
   "nbconvert_exporter": "python",
   "pygments_lexer": "ipython3",
   "version": "3.9.12"
  },
  "toc": {
   "base_numbering": 1,
   "nav_menu": {},
   "number_sections": true,
   "sideBar": true,
   "skip_h1_title": false,
   "title_cell": "Table of Contents",
   "title_sidebar": "Contents",
   "toc_cell": false,
   "toc_position": {},
   "toc_section_display": true,
   "toc_window_display": true
  }
 },
 "nbformat": 4,
 "nbformat_minor": 2
}
