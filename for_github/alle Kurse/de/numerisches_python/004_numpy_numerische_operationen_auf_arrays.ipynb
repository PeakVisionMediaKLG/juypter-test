{
 "cells": [
  {
   "cell_type": "code",
   "execution_count": 61,
   "metadata": {},
   "outputs": [],
   "source": [
    "# invisible\n",
    "#from IPython.display import HTML, display\n",
    "\n",
    "import numpy as np\n",
    "np.core.arrayprint._line_width = 65"
   ]
  },
  {
   "cell_type": "markdown",
   "metadata": {},
   "source": [
    "<br>\n",
    "\n",
    "## Numerische Operationen auf NumPy-Arrays\n"
   ]
  },
  {
   "cell_type": "markdown",
   "metadata": {},
   "source": [
    "\n",
    "\n",
    "\n",
    "<img class=\"imgright\" src=\"../images/operators.webp\" srcset=\"../images/operators_300w.webp 300w\" alt=\"Operatoren in einer fraktalen Darstellung\" />\n",
    "<br><br>\n",
    "In unserem Python-Tutorial haben wir viele Operatoren gesehen. Darüber haben wir dort gelernt, wie man [Operatoren mittels \"magischer Funktionen\" überladen](python3_magische_methoden.php) kann. Wir wissen nun, dass wir beispielsweise das \"+\"-Operatorzeichen nutzen können, um numerische Werte zu addieren oder Strings und Listen zu konkatenieren: \n",
    "\n",
    "<code>\n",
    "42 + 5\n",
    "</code>\n",
    "\n",
    "<code>\n",
    "\"Python ist eine der besten \" + \"oder die beste Programmiersprache!\"\n",
    "</code>\n",
    "\n",
    "In dieser Einführung werden wir nun lernen, dass auch in NumPy die Operatorzeichen entsprechend überladen sind, sodass wir sie in \"natürlicher\" Weise nutzen können.\n",
    "\n",
    "So können wir beispielsweise Skalare zu Arrays addieren, d.h. der Skalar wird zu jeder Komponente addiert. Das Gleiche ist möglich für die Subtraktion, die Division, die Multiplikation und sogar für Funktionen wie Sinus, Kosinus und so weiter.\n",
    "\n",
    "Selbstverständlich können wir auch all diese Operatoren auf zwei Arrays anwenden.\n",
    "\n",
    "<br><br>\n",
    "\n",
    "### Operatoren und Skalare\n",
    "\n",
    "Beginnen wir mit der skalaren Addition:\n",
    "\n"
   ]
  },
  {
   "cell_type": "code",
   "execution_count": 62,
   "metadata": {},
   "outputs": [
    {
     "name": "stdout",
     "output_type": "stream",
     "text": [
      "[ 125.604   217.7136  368.4384  150.7248  360.0648  669.888  1570.05\n",
      "  481.482   180.0324  297.2628]\n"
     ]
    }
   ],
   "source": [
    "# prog4book\n",
    "import numpy as np\n",
    "kalorientabelle = np.array([30, 52, 88, 36, 86, \n",
    "                            160, 375, 115, 43, 71])\n",
    "\n",
    "jouletabelle = kalorientabelle * 4.1868\n",
    "\n",
    "print(jouletabelle)"
   ]
  },
  {
   "cell_type": "markdown",
   "metadata": {},
   "source": []
  },
  {
   "cell_type": "code",
   "execution_count": 63,
   "metadata": {},
   "outputs": [
    {
     "name": "stdout",
     "output_type": "stream",
     "text": [
      "[ 126.  218.  368.  151.  360.  670. 1570.  481.  180.  297.]\n"
     ]
    }
   ],
   "source": [
    "# prog4book\n",
    "jouletabelle = np.round((kalorientabelle * 4.1868), 0)\n",
    "print(jouletabelle)"
   ]
  },
  {
   "cell_type": "markdown",
   "metadata": {},
   "source": []
  },
  {
   "cell_type": "code",
   "execution_count": 64,
   "metadata": {},
   "outputs": [
    {
     "name": "stdout",
     "output_type": "stream",
     "text": [
      "[ 126  218  368  151  360  670 1570  481  180  297]\n"
     ]
    }
   ],
   "source": [
    "# prog4book\n",
    "jouletabelle = jouletabelle.astype(np.int16)\n",
    "print(jouletabelle)"
   ]
  },
  {
   "cell_type": "markdown",
   "metadata": {},
   "source": [
    "<br><br>"
   ]
  },
  {
   "cell_type": "code",
   "execution_count": 65,
   "metadata": {
    "scrolled": true
   },
   "outputs": [
    {
     "name": "stdout",
     "output_type": "stream",
     "text": [
      "[ 4.    5.    9.9   5.3   8.9   2.11 12.3  14.9 ]\n"
     ]
    }
   ],
   "source": [
    "# prog4web\n",
    "import numpy as np\n",
    "lst = [2, 3, 7.9, 3.3, 6.9, 0.11, 10.3, 12.9]\n",
    "v = np.array(lst)\n",
    "print(v + 2)"
   ]
  },
  {
   "cell_type": "markdown",
   "metadata": {},
   "source": [
    "\n",
    "\n",
    "Multiplikation, Subtraktion, Division und Exponentiation sind ebenso leicht zu bewerkstelligen wie die vorige Addition:\n"
   ]
  },
  {
   "cell_type": "code",
   "execution_count": 66,
   "metadata": {},
   "outputs": [
    {
     "name": "stdout",
     "output_type": "stream",
     "text": [
      "[0.24  0.095 0.135 0.12  0.2   0.16  0.29  0.45  0.5   0.   ]\n",
      "[0.216  0.0855 0.1215 0.108  0.18   0.144  0.261  0.405  0.45   0.    ]\n"
     ]
    }
   ],
   "source": [
    "# prog4book\n",
    "\n",
    "verzehr_in_gramm = np.array([240, 95, 135, 120, 200, \n",
    "                             160, 290, 450, 500, 0])\n",
    "\n",
    "verzehr_in_kg = verzehr_in_gramm / 1000\n",
    "print(verzehr_in_kg)\n",
    "\n",
    "# Diät, 10 % weniger essen:\n",
    "reduzierter_verzehr_in_kg = verzehr_in_kg * 0.9\n",
    "print(reduzierter_verzehr_in_kg)"
   ]
  },
  {
   "cell_type": "code",
   "execution_count": 67,
   "metadata": {},
   "outputs": [
    {
     "name": "stdout",
     "output_type": "stream",
     "text": [
      "[ 4.4    6.6   17.38   7.26  15.18   0.242 22.66  28.38 ]\n"
     ]
    }
   ],
   "source": [
    "# prog4web\n",
    "print(v * 2.2)"
   ]
  },
  {
   "cell_type": "code",
   "execution_count": 68,
   "metadata": {},
   "outputs": [
    {
     "name": "stdout",
     "output_type": "stream",
     "text": [
      "[ 0.62  1.62  6.52  1.92  5.52 -1.27  8.92 11.52]\n"
     ]
    }
   ],
   "source": [
    "# prog4web\n",
    "print(v - 1.38)"
   ]
  },
  {
   "cell_type": "code",
   "execution_count": 69,
   "metadata": {},
   "outputs": [
    {
     "name": "stdout",
     "output_type": "stream",
     "text": [
      "[4.0000e+00 9.0000e+00 6.2410e+01 1.0890e+01 4.7610e+01 1.2100e-02\n",
      " 1.0609e+02 1.6641e+02]\n",
      "[2.82842712e+00 5.19615242e+00 2.22044815e+01 5.99474770e+00\n",
      " 1.81248172e+01 3.64828727e-02 3.30564215e+01 4.63323753e+01]\n"
     ]
    }
   ],
   "source": [
    "# prog4web\n",
    "print(v ** 2)\n",
    "print(v ** 1.5)"
   ]
  },
  {
   "cell_type": "markdown",
   "metadata": {},
   "source": [
    "\n",
    "Wir hatten dieses Beispiel mit einer Liste lst begonnen. Wie kann man zu einer numerischen Liste einen Skalar addieren, so wie wir es mit dem Array v getan hatten? \n",
    "\n",
    "<br>\n",
    "Zu diesem Zweck kann man natürlich eine for-Schleife nutzen. Im folgenden addieren wir 2 zu den Werten dieser Liste:\n"
   ]
  },
  {
   "cell_type": "code",
   "execution_count": 70,
   "metadata": {},
   "outputs": [
    {
     "name": "stdout",
     "output_type": "stream",
     "text": [
      "[4, 5, 9.9, 5.3, 8.9, 2.11, 12.3, 14.9]\n"
     ]
    }
   ],
   "source": [
    "# prog4web\n",
    "lst = [2,3, 7.9, 3.3, 6.9, 0.11, 10.3, 12.9]\n",
    "res = []\n",
    "for val in lst:\n",
    "    res.append(val + 2)\n",
    "\n",
    "print(res)"
   ]
  },
  {
   "cell_type": "markdown",
   "metadata": {},
   "source": [
    "\n",
    "Obwohl diese Lösung funktioniert, ist sie nicht elegant und pythonisch. Zu diesem Zweck nutzt man besser eine Listenabstraktion (englisch: list comprehension) statt der umständlichen Lösung mit for-Schleife. Wir empfehlen unser [Kapitel über Listenabstraktion](python3_list_comprehension.php) unseres Python-Tutorials, falls jemand mit der Thematik nicht oder nicht mehr vertraut sein sollte.\n"
   ]
  },
  {
   "cell_type": "code",
   "execution_count": 71,
   "metadata": {},
   "outputs": [
    {
     "name": "stdout",
     "output_type": "stream",
     "text": [
      "[4, 5, 9.9, 5.3, 8.9, 2.11, 12.3, 14.9]\n"
     ]
    }
   ],
   "source": [
    "# prog4web\n",
    "res = [ val + 2 for val in lst]\n",
    "print(res)"
   ]
  },
  {
   "cell_type": "markdown",
   "metadata": {},
   "source": [
    "\n",
    "Obwohl wir bereits einen Zeitvergleich zwischen NumPy und reinem Python durchgeführt hatten, wollen wir dennoch auch diese beiden Ansätze vergleichen: \n"
   ]
  },
  {
   "cell_type": "code",
   "execution_count": 3,
   "metadata": {},
   "outputs": [
    {
     "name": "stdout",
     "output_type": "stream",
     "text": [
      "1.01 µs ± 2.47 ns per loop (mean ± std. dev. of 7 runs, 1,000,000 loops each)\n"
     ]
    }
   ],
   "source": [
    "# prog4web\n",
    "import  numpy as np\n",
    "v = np.random.randint(0, 100, 1000)\n",
    "\n",
    "%timeit v + 1"
   ]
  },
  {
   "cell_type": "code",
   "execution_count": 4,
   "metadata": {},
   "outputs": [
    {
     "name": "stdout",
     "output_type": "stream",
     "text": [
      "105 µs ± 307 ns per loop (mean ± std. dev. of 7 runs, 10,000 loops each)\n"
     ]
    }
   ],
   "source": [
    "# prog4web\n",
    "lst = list(v)\n",
    "\n",
    "%timeit [ val + 2 for val in lst]"
   ]
  },
  {
   "cell_type": "markdown",
   "metadata": {},
   "source": [
    "<br>\n",
    "\n",
    "### Arithmetische Operationen auf zwei Arrays\n",
    "\n",
    "<br>\n",
    "Falls wir ein weiteres Array statt einem Skalar benutzen, werden die Elemente von beiden Arrays komponentenweise miteinander verknüpft.\n",
    "\n",
    "\n",
    "\n",
    "Das Array ```verzehr_in_gramm``` enthält den Verzehr einer fiktiven Person, die genauestens über ihren Esskonsum buchführt. Die Kalorienaufnahme pro Lebensmittel können wir dann mittels einer komponentenweisen Multiplikation mit dem Array  bestimmen:\n"
   ]
  },
  {
   "cell_type": "code",
   "execution_count": 74,
   "metadata": {},
   "outputs": [
    {
     "name": "stdout",
     "output_type": "stream",
     "text": [
      "[  72.    49.4  118.8   43.2  172.   256.  1087.5  517.5  215.     0. ]\n"
     ]
    }
   ],
   "source": [
    "# prog4book\n",
    "import numpy as np\n",
    "kalorientabelle = np.array([30, 52, 88, 36, 86, \n",
    "                            160, 375, 115, 43, 71])\n",
    "\n",
    "verzehr_in_gramm = np.array([240, 95, 135, 120, 200, \n",
    "                             160, 290, 450, 500, 0])\n",
    "\n",
    "kalorien_aufgenommen = kalorientabelle * verzehr_in_gramm / 100\n",
    "print(kalorien_aufgenommen)"
   ]
  },
  {
   "cell_type": "markdown",
   "metadata": {},
   "source": []
  },
  {
   "cell_type": "code",
   "execution_count": 75,
   "metadata": {},
   "outputs": [
    {
     "name": "stdout",
     "output_type": "stream",
     "text": [
      "2531.4\n"
     ]
    }
   ],
   "source": [
    "print(kalorien_aufgenommen.sum())"
   ]
  },
  {
   "cell_type": "code",
   "execution_count": 76,
   "metadata": {},
   "outputs": [
    {
     "name": "stdout",
     "output_type": "stream",
     "text": [
      "Addition zweier Arrays: \n",
      "[[16 16 15]\n",
      " [22 22 25]\n",
      " [34 40 35]]\n",
      "\n",
      "Multiplikation zweier Arrays: \n",
      "[[ 55  48  26]\n",
      " [ 21   0  46]\n",
      " [ 93 256  66]]\n"
     ]
    }
   ],
   "source": [
    "import numpy as np\n",
    "\n",
    "A = np.array([[11, 12, 13], [21, 22, 23], [31, 32, 33]])\n",
    "B = np.array([[5, 4, 2], [1, 0, 2], [3, 8, 2]])\n",
    "\n",
    "print(\"Addition zweier Arrays: \")\n",
    "print(A + B)\n",
    "\n",
    "print(\"\\nMultiplikation zweier Arrays: \")\n",
    "print(A * B)"
   ]
  },
  {
   "cell_type": "markdown",
   "metadata": {},
   "source": [
    "```A * B``` im vorigen Beispiel sollte keinesfalls mit der Matrizenmultiplikation verwechselt werden. Wie bereits gesagt werden in unserem Beispiel die Arrays nur komponentenweise multipliziert!"
   ]
  },
  {
   "cell_type": "markdown",
   "metadata": {},
   "source": [
    "<br><br>\n",
    "\n",
    "### Matrizenmultiplikation und Skalarprodukt"
   ]
  },
  {
   "cell_type": "markdown",
   "metadata": {},
   "source": [
    "<br>\n",
    "\n",
    "#### Definition der dot-Funktion\n",
    "\n",
    "\n",
    "In englischen Texten wird häufig bei dieser NumPy-Funktionalität vom \"dot product\" gesprochen. Mathematisch versteht man unter dem \"dot product\" das Skalarprodukt oder \"innere Produkt\" von zwei Vektoren. Seltener wird auch die Bezeichnung \"Punktprodukt\", also die wörtliche Übersetzung von \"dot product\", für das Skalarprodukt verwendet. Da das Skalar- oder Punktprodukt in der Mathematik üblicherweise nur für den eindimensionalen Fall bei Vektoren definiert ist und die ```dot```-Funktion von NumPy aber auf beliebige Funktionen angewendet werden kann, sprechen wir von ```dot```-Funktion, um Verwechslungen zur Mathematik vorzubeugen.\n",
    "\n",
    "\n",
    "Die Syntax der dot-Funktion sieht wie folgt aus:\n",
    "    \n",
    "```dot(a, b, out=None)```\n",
    "\n",
    "Die Funktion ```dot``` liefert das ```dot```-Produkt von \n",
    "```a``` und ```b``` zurück.\n",
    "\n",
    "Falls sowohl ```a``` als auch ```b``` Skalare sind oder beide eindimensionale Arrays, wird ein Skalar zurückgegeben, ansonsten ein Array.\n",
    "\n",
    "Für eindimensionale Arrays entspricht es dem Skalarprodukt, auch inneres Produkt genannt, von Vektoren, jedoch ohne komplexe Konjugation. \n",
    "\n",
    "Für zweidimensionale Arrays entspricht das ```dot```-Produkt der Matrizenmultiplikation. \n",
    "\n",
    "Für N Dimensionen  wird das Summenprodukt über die letzte Achse von ```a``` und die vorletzte Achse von ```b``` gebildet.\n",
    "    \n",
    "$$dot(a, b)[i,j,k,m] = sum(a[i,j,:] * b[k,:,m])$$\n",
    " \n",
    "Diesen Fall werden wir im Folgenden noch an Beispielen verdeutlichen.\n",
    "\n",
    "Die Funktion erhebt einen ```ValueError```, falls die Shape der letzten Dimension von ```a``` nicht die gleiche Größe wie die Shape der zweitletzten Dimension von ```b``` hat, d.h. es muss gelten ```a.shape[-1] == b.shape[-2]```.\n",
    "\n",
    "<br><br>\n",
    "\n",
    "#### Beispiele zur dot-Funktion\n",
    "\n",
    "Wir beginnen mit den Fällen, in denen beide Argumente Skalare oder eindimensionale Arrays sind:"
   ]
  },
  {
   "cell_type": "code",
   "execution_count": 77,
   "metadata": {},
   "outputs": [
    {
     "name": "stdout",
     "output_type": "stream",
     "text": [
      "12\n",
      "1\n",
      "12\n",
      "-14\n"
     ]
    }
   ],
   "source": [
    "print(np.dot(3, 4))\n",
    "\n",
    "x = np.array([3])\n",
    "y = np.array([4])\n",
    "print(x.ndim)\n",
    "print(np.dot(x, y))\n",
    "\n",
    "x = np.array([3, -2])\n",
    "y = np.array([-4, 1])\n",
    "print(np.dot(x, y))"
   ]
  },
  {
   "cell_type": "markdown",
   "metadata": {},
   "source": [
    "Im zweidimensionalen Fall realisiert die dot-Funktion die Matrizenmultiplikation. Betrachten wir dazu folgendes Beispiel"
   ]
  },
  {
   "cell_type": "code",
   "execution_count": 78,
   "metadata": {},
   "outputs": [
    {
     "name": "stdout",
     "output_type": "stream",
     "text": [
      "[[ 442  316  870]\n",
      " [ 772  556 1500]\n",
      " [1102  796 2130]]\n"
     ]
    }
   ],
   "source": [
    "import numpy as np\n",
    "\n",
    "A = np.array([[11, 12, 13, 14], \n",
    "              [21, 22, 23, 24], \n",
    "              [31, 32, 33, 34]])\n",
    "B = np.array([[5, 4, 2], \n",
    "              [1, 0, 2], \n",
    "              [3, 8, 2], \n",
    "              [24, 12, 57]])\n",
    "print(np.dot(A, B))"
   ]
  },
  {
   "cell_type": "markdown",
   "metadata": {},
   "source": [
    "Seit Python 3.5 gibt es für das ```dot```-Produkt auch einen Infix-Operator, und zwar ```@```:"
   ]
  },
  {
   "cell_type": "code",
   "execution_count": 79,
   "metadata": {},
   "outputs": [
    {
     "name": "stdout",
     "output_type": "stream",
     "text": [
      "[[ 442  316  870]\n",
      " [ 772  556 1500]\n",
      " [1102  796 2130]]\n"
     ]
    }
   ],
   "source": [
    "print(A @ B)"
   ]
  },
  {
   "cell_type": "markdown",
   "metadata": {},
   "source": [
    "Damit die Matrizenmultiplikation (also dot) für zwei Matrizen A und B im zweidimensionalen Fall funktionieren kann, muss gelten:\n",
    "\n",
    "```A.shape[-1] == B.shape[-2]```"
   ]
  },
  {
   "cell_type": "code",
   "execution_count": 80,
   "metadata": {},
   "outputs": [
    {
     "name": "stdout",
     "output_type": "stream",
     "text": [
      "True\n"
     ]
    }
   ],
   "source": [
    "# es muss gelten:\n",
    "print(A.shape[-1] == B.shape[-2]) "
   ]
  },
  {
   "cell_type": "markdown",
   "metadata": {},
   "source": [
    "Aus dem vorigen Beispiel können wir lernen, dass die Anzahl der Spalten des ersten zweidimensionalen Arrays gleich der Anzahl der Zeilen des zweiten zweidimensionalen Arrays sein muss."
   ]
  },
  {
   "cell_type": "markdown",
   "metadata": {},
   "source": [
    "<br>\n",
    "\n",
    "#### Das dot-Produkt im 3-dimensionalen Fall \n",
    "\n",
    "Es wird ziemlich verzwickt, wenn wir 3-dimensionale Arrays als Argumente von dot benutzen.\n",
    "\n",
    "Im ersten Beispiel benutzen wir zwei symmetrische 3-dimensionale Arrays:"
   ]
  },
  {
   "cell_type": "code",
   "execution_count": 81,
   "metadata": {},
   "outputs": [
    {
     "name": "stdout",
     "output_type": "stream",
     "text": [
      "Die Größen:\n",
      "(3, 3, 3)\n",
      "(3, 3, 3)\n",
      "(3, 3, 3, 3)\n",
      "\n",
      "Das Ergebnis der Matrizenmultiplikation:\n",
      "[[[[14 19 15]\n",
      "   [15 15  9]\n",
      "   [13  9 18]]\n",
      "\n",
      "  [[18 24 20]\n",
      "   [20 20 12]\n",
      "   [18 12 22]]\n",
      "\n",
      "  [[15 18 22]\n",
      "   [22 13 12]\n",
      "   [21  9 14]]]\n",
      "\n",
      "\n",
      " [[[16 21 19]\n",
      "   [19 16 11]\n",
      "   [17 10 19]]\n",
      "\n",
      "  [[25 32 32]\n",
      "   [32 23 18]\n",
      "   [29 15 28]]\n",
      "\n",
      "  [[13 18 12]\n",
      "   [12 18  8]\n",
      "   [11 10 17]]]\n",
      "\n",
      "\n",
      " [[[11 14 14]\n",
      "   [14 11  8]\n",
      "   [13  7 12]]\n",
      "\n",
      "  [[17 23 19]\n",
      "   [19 16 11]\n",
      "   [16 10 22]]\n",
      "\n",
      "  [[19 25 23]\n",
      "   [23 17 13]\n",
      "   [20 11 23]]]]\n"
     ]
    }
   ],
   "source": [
    "import numpy as np\n",
    "X = np.array( [[[3, 1, 2],\n",
    "                [4, 2, 2],\n",
    "                [2, 4, 1]],\n",
    "\n",
    "               [[3, 2, 2],\n",
    "                [4, 4, 3],\n",
    "                [4, 1, 1]],\n",
    "\n",
    "               [[2, 2, 1],\n",
    "                [3, 1, 3],\n",
    "                [3, 2, 3]]])\n",
    "\n",
    "Y = np.array( [[[2, 3, 1],\n",
    "                [2, 2, 4],\n",
    "                [3, 4, 4]],\n",
    "            \n",
    "               [[1, 4, 1],\n",
    "                [4, 1, 2],\n",
    "                [4, 1, 2]],\n",
    "            \n",
    "               [[1, 2, 3],\n",
    "                [4, 1, 1],\n",
    "                [3, 1, 4]]])\n",
    "\n",
    "\n",
    "R = np.dot(X, Y)\n",
    "\n",
    "print(\"Die Größen:\")\n",
    "print(X.shape)\n",
    "print(Y.shape)\n",
    "print(R.shape)\n",
    "\n",
    "print(\"\\nDas Ergebnis der Matrizenmultiplikation:\")\n",
    "print(R)"
   ]
  },
  {
   "cell_type": "markdown",
   "metadata": {},
   "source": [
    "Nun betrachten wir das Produkt von zwei nicht-symmetrischen dreidimensionalen Arrays:"
   ]
  },
  {
   "cell_type": "code",
   "execution_count": 82,
   "metadata": {},
   "outputs": [
    {
     "name": "stdout",
     "output_type": "stream",
     "text": [
      "Die Gestalten und die Dimensionen:\n",
      "X.shape:  (3, 3, 3)    X.ndim:  3\n",
      "Y.shape:  (1, 3, 3)    Y.ndim:  3\n",
      "R.shape:  (3, 3, 1, 3) R.ndim:  4\n",
      "\n",
      "Das Ergebnis-Array R:\n",
      " [[[[ 0 12 13]]\n",
      "\n",
      "  [[ 0 15 16]]\n",
      "\n",
      "  [[ 0 18 19]]]\n",
      "\n",
      "\n",
      " [[[ 0 22 23]]\n",
      "\n",
      "  [[ 0 25 26]]\n",
      "\n",
      "  [[ 0 28 29]]]\n",
      "\n",
      "\n",
      " [[[ 0 32 33]]\n",
      "\n",
      "  [[ 0 34 35]]\n",
      "\n",
      "  [[ 0 37 39]]]]\n"
     ]
    }
   ],
   "source": [
    "import numpy as np\n",
    "X = np.array( [ [[11, 12, 13], [14, 15, 16], [17, 18, 19]],\n",
    "                [[21, 22, 23], [24, 25, 26], [27, 28, 29]],\n",
    "                [[31, 32, 33], [34, 34, 35], [36, 37, 39]]])\n",
    "\n",
    "Y = np.array( [[[0, 0, 0],\n",
    "                [0, 1, 0],\n",
    "                [0, 0, 1]]])\n",
    "\n",
    "R = np.dot(X, Y)\n",
    "\n",
    "print(\"Die Gestalten und die Dimensionen:\")\n",
    "print(\"X.shape: \", X.shape, \"   X.ndim: \", X.ndim)\n",
    "print(\"Y.shape: \", Y.shape, \"   Y.ndim: \", Y.ndim)\n",
    "print(\"R.shape: \",     R.shape, \"R.ndim: \", R.ndim)\n",
    "print(\"\\nDas Ergebnis-Array R:\\n\", R)\n"
   ]
  },
  {
   "cell_type": "markdown",
   "metadata": {},
   "source": [
    "\n",
    "\n",
    "Die Funktion ```squeeze``` erlaubt uns, Dimensionen zu schrumpfen, indem eindimensionale Einträge aus der ```shape``` eines Arrays entfernt werden. Wir zeigen dies an einem einfachen Beispiel:"
   ]
  },
  {
   "cell_type": "code",
   "execution_count": 83,
   "metadata": {},
   "outputs": [
    {
     "name": "stdout",
     "output_type": "stream",
     "text": [
      "[[[3]\n",
      "  [5]\n",
      "  [7]]]\n",
      "x.squeeze()\n",
      "[3 5 7]\n",
      "x.squeeze(axis=0)\n",
      "[[3]\n",
      " [5]\n",
      " [7]]\n",
      "x.squeeze(axis=2)\n",
      "[[3 5 7]]\n"
     ]
    }
   ],
   "source": [
    "x = np.array([3, 5, 7]).reshape(1, 3, 1)\n",
    "print(x)\n",
    "print(\"x.squeeze()\")\n",
    "print(x.squeeze())\n",
    "print(\"x.squeeze(axis=0)\")\n",
    "print(x.squeeze(axis=0))\n",
    "print(\"x.squeeze(axis=2)\")\n",
    "print(x.squeeze(axis=2))"
   ]
  },
  {
   "cell_type": "markdown",
   "metadata": {},
   "source": [
    "Nun wenden wir ```squeeze``` auf das Array ```R``` an, um die Shape von  (3, 3, 1, 3) auf  (3, 3, 3) zu schrumpfen:"
   ]
  },
  {
   "cell_type": "code",
   "execution_count": 84,
   "metadata": {},
   "outputs": [
    {
     "name": "stdout",
     "output_type": "stream",
     "text": [
      "(3, 3, 1, 3)\n",
      "(3, 3, 3) [[[ 0 12 13]\n",
      "  [ 0 15 16]\n",
      "  [ 0 18 19]]\n",
      "\n",
      " [[ 0 22 23]\n",
      "  [ 0 25 26]\n",
      "  [ 0 28 29]]\n",
      "\n",
      " [[ 0 32 33]\n",
      "  [ 0 34 35]\n",
      "  [ 0 37 39]]]\n"
     ]
    }
   ],
   "source": [
    "print(R.shape)\n",
    "R = np.squeeze(R, axis=2)\n",
    "print(R.shape, R)"
   ]
  },
  {
   "cell_type": "markdown",
   "metadata": {},
   "source": [
    "Um zu zeigen, wie das dot-Produkt im dreidimensionalen Fall funktioniert, werden wir jedoch nun zwei nicht-symmetrische dreidimensionale Arrays im folgenden Beispiel benutzen:"
   ]
  },
  {
   "cell_type": "code",
   "execution_count": 85,
   "metadata": {},
   "outputs": [
    {
     "name": "stdout",
     "output_type": "stream",
     "text": [
      "X.shape:  (4, 2, 3)    X.ndim:  3\n",
      "Y.shape:  (2, 3, 5)    Y.ndim:  3\n",
      "R.shape:  (4, 2, 2, 5) R.ndim:  4\n",
      "\n",
      "Das Ergebnis-Array R:\n",
      "\n",
      "[[[[ 14  19   5   8   1]\n",
      "   [ 15  15  10  16   3]]\n",
      "\n",
      "  [[ 18  24   8  10   2]\n",
      "   [ 20  20  14  22   2]]]\n",
      "\n",
      "\n",
      " [[[  1   1  -1  -1  -2]\n",
      "   [  3  -3  -3   1  -2]]\n",
      "\n",
      "  [[ -6  -7  -1   0   3]\n",
      "   [-11   1   2  -8   5]]]\n",
      "\n",
      "\n",
      " [[[ 16  21   7   8   1]\n",
      "   [ 19  16  11  20   0]]\n",
      "\n",
      "  [[ 25  32  12  11   1]\n",
      "   [ 32  23  16  33  -4]]]\n",
      "\n",
      "\n",
      " [[[ 11  14   6   5   1]\n",
      "   [ 14  11   8  15  -2]]\n",
      "\n",
      "  [[ 17  23   5   9   0]\n",
      "   [ 19  16  10  19   3]]]]\n"
     ]
    }
   ],
   "source": [
    "import numpy as np\n",
    "X = np.array(\n",
    "    [[[3, 1, 2],\n",
    "      [4, 2, 2]],\n",
    "\n",
    "     [[-1, 0, 1],\n",
    "      [1, -1, -2]],\n",
    "     \n",
    "     [[3, 2, 2],\n",
    "      [4, 4, 3]],\n",
    "\n",
    "     [[2, 2, 1],\n",
    "      [3, 1, 3]]])\n",
    "\n",
    "Y = np.array(\n",
    "    [[[2, 3, 1, 2, 1],\n",
    "      [2, 2, 2, 0, 0],\n",
    "      [3, 4, 0, 1, -1]],\n",
    "\n",
    "     [[1, 4, 3, 2, 2],\n",
    "      [4, 1, 1, 4, -3],\n",
    "      [4, 1, 0, 3, 0]]])\n",
    "\n",
    "\n",
    "R = np.dot(X, Y)\n",
    "\n",
    "print(\"X.shape: \", X.shape, \"   X.ndim: \", X.ndim)\n",
    "print(\"Y.shape: \", Y.shape, \"   Y.ndim: \", Y.ndim)\n",
    "print(\"R.shape: \",     R.shape, \"R.ndim: \", R.ndim)\n",
    "\n",
    "print(\"\\nDas Ergebnis-Array R:\\n\")\n",
    "print(R)"
   ]
  },
  {
   "cell_type": "markdown",
   "metadata": {},
   "source": [
    "Schauen wir uns nun die folgenden Summen-Produkte an:"
   ]
  },
  {
   "cell_type": "code",
   "execution_count": 86,
   "metadata": {},
   "outputs": [
    {
     "name": "stdout",
     "output_type": "stream",
     "text": [
      "    sum(X[0, 0, :] * Y[0, :, 0] :  14\n",
      "    sum(X[0, 0, :] * Y[0, :, 1] :  19\n",
      "    sum(X[0, 0, :] * Y[0, :, 2] :  5\n",
      "    sum(X[0, 0, :] * Y[0, :, 3] :  8\n",
      "    sum(X[0, 0, :] * Y[0, :, 4] :  1\n",
      "    sum(X[0, 0, :] * Y[1, :, 0] :  15\n",
      "    sum(X[0, 0, :] * Y[1, :, 1] :  15\n",
      "    sum(X[0, 0, :] * Y[1, :, 2] :  10\n",
      "    sum(X[0, 0, :] * Y[1, :, 3] :  16\n",
      "    sum(X[0, 0, :] * Y[1, :, 4] :  3\n",
      "    sum(X[0, 1, :] * Y[0, :, 0] :  18\n",
      "    sum(X[0, 1, :] * Y[0, :, 1] :  24\n",
      "    sum(X[0, 1, :] * Y[0, :, 2] :  8\n",
      "    sum(X[0, 1, :] * Y[0, :, 3] :  10\n",
      "    sum(X[0, 1, :] * Y[0, :, 4] :  2\n",
      "    sum(X[0, 1, :] * Y[1, :, 0] :  20\n",
      "    sum(X[0, 1, :] * Y[1, :, 1] :  20\n",
      "    sum(X[0, 1, :] * Y[1, :, 2] :  14\n",
      "    sum(X[0, 1, :] * Y[1, :, 3] :  22\n",
      "    sum(X[0, 1, :] * Y[1, :, 4] :  2\n"
     ]
    }
   ],
   "source": [
    "i = 0\n",
    "for j in range(X.shape[1]):\n",
    "    for k in range(Y.shape[0]):\n",
    "        for m in range(Y.shape[2]):\n",
    "            fmt = \"    sum(X[{}, {}, :] * Y[{}, :, {}] :  {}\"\n",
    "            arguments = (i, j, k, m, sum(X[i, j, :] * Y[k, :, m]))\n",
    "            print(fmt.format(*arguments))"
   ]
  },
  {
   "cell_type": "markdown",
   "metadata": {},
   "source": [
    "Hoffentlich ist Ihnen aufgefallen, dass die Werte, die wir erzeugt haben, den Elementen von ```R[0]``` entsprechen:"
   ]
  },
  {
   "cell_type": "code",
   "execution_count": 87,
   "metadata": {},
   "outputs": [
    {
     "name": "stdout",
     "output_type": "stream",
     "text": [
      "[[[14 19  5  8  1]\n",
      "  [15 15 10 16  3]]\n",
      "\n",
      " [[18 24  8 10  2]\n",
      "  [20 20 14 22  2]]]\n"
     ]
    }
   ],
   "source": [
    "print(R[0])"
   ]
  },
  {
   "cell_type": "markdown",
   "metadata": {},
   "source": [
    "Dies bedeutet, dass wir das Array R auch über die Summen-Produkte hätten erzeugen können. Um dies zu \"beweisen\", werden wir im folgenden Beispiel ein Array R2 unter Benutzung der Summen-Produkte erzeugen. Anschließend prüfen wir, ob R2 gleich R ist."
   ]
  },
  {
   "cell_type": "code",
   "execution_count": 88,
   "metadata": {},
   "outputs": [
    {
     "name": "stdout",
     "output_type": "stream",
     "text": [
      "True\n"
     ]
    }
   ],
   "source": [
    "def sum_prod(X, Y):\n",
    "    \"\"\" sum product for 3-dimensional arrays \"\"\"\n",
    "    res_shape = X.shape[:-1] + Y.shape[:-2] + (Y.shape[-1],)\n",
    "    R = np.zeros(res_shape, dtype=type(X))\n",
    "    for i in range(X.shape[0]):\n",
    "        for j in range(X.shape[1]):\n",
    "            for k in range(Y.shape[0]):\n",
    "                for m in range(Y.shape[2]):\n",
    "                    R[i, j, k, m] = sum(X[i, j, :] * Y[k, :, m])\n",
    "    return R\n",
    "\n",
    "print( np.array_equal(np.dot(X, Y), sum_prod(X, Y)) )"
   ]
  },
  {
   "cell_type": "markdown",
   "metadata": {},
   "source": [
    "Es gilt also, was wir eingangs behauptet haben:\n",
    "\n",
    "```dot(X, Y)[i,j,k,m] = sum(X[i,j,:] * Y[k,:,m])```"
   ]
  },
  {
   "cell_type": "markdown",
   "metadata": {},
   "source": [
    "<br>\n",
    "\n",
    "### Vergleichsoperatoren"
   ]
  },
  {
   "cell_type": "markdown",
   "metadata": {},
   "source": [
    "Wir kennen bereits Vergleichsoperatoren in Python, die wir auf Integer, Floats oder Strings angewendet haben. Sie liefern ```True``` oder ```False``` zurück. Vergleichen wir zwei Arrays miteinander, erhalten wir keinen \"einfachen\" Booleschen Wert zurück. Die Vergleiche werden elementweise durchgeführt. Dies bewirkt, dass wir ein Boolesches Array als Rückgabewert erhalten:\n"
   ]
  },
  {
   "cell_type": "code",
   "execution_count": 89,
   "metadata": {},
   "outputs": [
    {
     "data": {
      "text/plain": [
       "array([[ True, False,  True],\n",
       "       [False,  True, False],\n",
       "       [ True,  True, False]])"
      ]
     },
     "execution_count": 89,
     "metadata": {},
     "output_type": "execute_result"
    }
   ],
   "source": [
    "import numpy as np\n",
    "\n",
    "A = np.array([ [11, 12, 13], [21, 22, 23], [31, 32, 33] ])\n",
    "B = np.array([ [11, 102, 13], [201, 22, 203], [31, 32, 303] ])\n",
    "\n",
    "A == B"
   ]
  },
  {
   "cell_type": "markdown",
   "metadata": {},
   "source": [
    "Man kann aber auch Arrays vollständig auf Gleichheit überprüfen. Dazu benutzen wir die Funktion ```array_equal```, die ```True``` zurückliefert, falls zwei Arrays die gleiche Shape haben und alle Elemente gleich sind. Ansonsten wird ```False``` zurückgeliefert."
   ]
  },
  {
   "cell_type": "code",
   "execution_count": 90,
   "metadata": {},
   "outputs": [
    {
     "name": "stdout",
     "output_type": "stream",
     "text": [
      "False\n",
      "True\n"
     ]
    }
   ],
   "source": [
    "print(np.array_equal(A, B))\n",
    "print(np.array_equal(A, A))"
   ]
  },
  {
   "cell_type": "markdown",
   "metadata": {},
   "source": [
    "<br><br>\n",
    "\n",
    "### Logische Operatoren\n",
    "\n",
    "Wir können Arrays auch komponentenweise auf ein logisches 'oder' und ein logisches 'und' vergleichen. Dazu gibt es die Funktionen ```logical_or``` und ```logical_and```."
   ]
  },
  {
   "cell_type": "code",
   "execution_count": 91,
   "metadata": {},
   "outputs": [
    {
     "name": "stdout",
     "output_type": "stream",
     "text": [
      "[[ True  True]\n",
      " [ True False]]\n",
      "[[ True False]\n",
      " [False False]]\n"
     ]
    }
   ],
   "source": [
    "a = np.array([ [True, True], [False, False]])\n",
    "b = np.array([ [True, False], [True, False]])\n",
    "\n",
    "print(np.logical_or(a, b))\n",
    "print(np.logical_and(a, b))"
   ]
  },
  {
   "cell_type": "markdown",
   "metadata": {},
   "source": [
    "<br><br>\n",
    "\n",
    "### Broadcasting\n",
    "\n",
    "Bisher gingen wir davon aus, dass Arrays die gleiche Shape haben müssen, damit wir numerische Operatoren auf diese anwenden können. Unter dem Namen \"Broadcasting\" stellt NumPy einen mächtigen Mechanismus zur Verfügung, der es erlaubt, arithmetische Operatoren auch auf Arrays mit unterschiedlicher Shape anzuwenden. Um die entsprechende Operation durchzuführen, wird nun das \"kleinere\" Array entweder in eine \"passende Form\" transformiert oder mehrmals auf das \"größere\" angewendet. In anderen Worten: Unter bestimmten Bedingungen erfolgt ein \"Broadcast\" des kleineren Arrays, bis es die gleiche Shape wie das größere hat. \n",
    "\n",
    "Mit Hilfe des Broadcasting können wir Schleifen in unseren Python-Programmen vermeiden. Die Schleifenbildung erfolgt dann implizit in der NumPy-Implementierung, d.h. in C. Dadurch vermeiden wir außerdem unnötige Kopien von unseren Daten. \n",
    "\n",
    "Prinzipiell gibt es drei verschiedene Formen von Broadcasting:\n",
    "\n",
    "- in horizontaler Richtung\n",
    "- in vertikaler Richtung\n",
    "- in horizontaler und vertikaler Richtung\n",
    "\n",
    "Broadcasting bei zwei Arrays in NumPy erfolgt nach folgenden Regeln:\n",
    "\n",
    "Regel 1\n",
    "\n",
    "Falls die beiden Arrays in ihrer Anzahl von Dimensionen sich unterscheiden, wird die \n",
    "  Shape des Arrays, das weniger Dimensionen hat, mit Einsen von der linken Seite aus  \n",
    "  aufgefüllt.\n",
    "\n",
    "Regel 2\n",
    "\n",
    "Falls die Shapes von zwei Arrays an einer Shape-Position nicht übereinstimmen, wird die \n",
    "  Shape desjenigen Arrays angepasst, die eine 1 enthält. Der Wert wird dann auf den Wert \n",
    "  des anderen Arrays erhöht.\n",
    "\n",
    "Regel 3\n",
    "\n",
    "Falls in irgendeiner Dimension die Größen unterschiedlich sind und keine von beiden gleich 1 ist, wird ein Fehler erhoben.\n",
    "\n",
    "Im Folgenden werden wir klarer sehen, was die Anwendung dieser Regeln bewirken.\n",
    "\n",
    "\n",
    "\n",
    "Einen besonders einfachen Fall von Broadcasting haben wir schon kennengelernt. Der einfachste Fall ist die Skalarenmultiplikation:\n",
    "\n",
    "\n",
    "\n"
   ]
  },
  {
   "cell_type": "code",
   "execution_count": 92,
   "metadata": {},
   "outputs": [
    {
     "name": "stdout",
     "output_type": "stream",
     "text": [
      "[12 20  4]\n"
     ]
    }
   ],
   "source": [
    "import numpy as np\n",
    "\n",
    "v = np.array([3, 5, 1])\n",
    "x = 4\n",
    "print(v * x)"
   ]
  },
  {
   "cell_type": "markdown",
   "metadata": {},
   "source": [
    "Statt einem Skalar für x hätte man auch den Vektor ```np.array([4, 4, 4])``` nehmen können und hätte das gleiche Ergebnis erhalten:"
   ]
  },
  {
   "cell_type": "code",
   "execution_count": 93,
   "metadata": {},
   "outputs": [
    {
     "name": "stdout",
     "output_type": "stream",
     "text": [
      "[12 20  4]\n"
     ]
    }
   ],
   "source": [
    "import numpy as np\n",
    "\n",
    "v = np.array([3, 5, 1])\n",
    "x = np.array([4, 4, 4])\n",
    "print(v * x)"
   ]
  },
  {
   "cell_type": "markdown",
   "metadata": {},
   "source": [
    "Normalerweise denkt man aber nicht an diesen Fall, wenn man von Broadcasting spricht.\n",
    "\n",
    "#### Zeilenweises Broadcasting\n",
    "\n",
    "Betrachten wir die beiden Arrays ```A``` und ```B``` und ihre Shapes:"
   ]
  },
  {
   "cell_type": "code",
   "execution_count": 94,
   "metadata": {},
   "outputs": [
    {
     "name": "stdout",
     "output_type": "stream",
     "text": [
      "(3, 3)\n",
      "(3,)\n"
     ]
    }
   ],
   "source": [
    "import numpy as np\n",
    "\n",
    "A = np.array([[11, 12, 13], \n",
    "              [21, 22, 23], \n",
    "              [31, 32, 33] ])\n",
    "B = np.array([1, 2, 3])\n",
    "\n",
    "print(A.shape)\n",
    "print(B.shape)"
   ]
  },
  {
   "cell_type": "code",
   "execution_count": 95,
   "metadata": {},
   "outputs": [
    {
     "name": "stdout",
     "output_type": "stream",
     "text": [
      "Multiplikation mit Broadcasting: \n",
      "[[11 24 39]\n",
      " [21 44 69]\n",
      " [31 64 99]]\n",
      "... und nun die Addition mit Broadcasting: \n",
      "[[12 14 16]\n",
      " [22 24 26]\n",
      " [32 34 36]]\n"
     ]
    }
   ],
   "source": [
    "print(\"Multiplikation mit Broadcasting: \")\n",
    "print(A * B)\n",
    "print(\"... und nun die Addition mit Broadcasting: \")\n",
    "print(A + B)"
   ]
  },
  {
   "cell_type": "markdown",
   "metadata": {},
   "source": [
    "Das folgende Diagramm illustriert die Arbeitsweise von Broadcasting:"
   ]
  },
  {
   "cell_type": "markdown",
   "metadata": {},
   "source": [
    "\n",
    "\n",
    "\n",
    "<img src=\"../images/broadcasting_example_1.webp\" alt=\"1. Beispiel Broadcasting\" />\n"
   ]
  },
  {
   "cell_type": "markdown",
   "metadata": {},
   "source": [
    "B wird benutzt, als wäre es wie folgt aufgebaut:"
   ]
  },
  {
   "cell_type": "code",
   "execution_count": 96,
   "metadata": {},
   "outputs": [
    {
     "name": "stdout",
     "output_type": "stream",
     "text": [
      "Die Shape von B:  (3,)\n",
      "Shape nach Anwendung der ersten Regel:  (1, 3)\n",
      "Shape nach Anwendung der zweiten Regel:  (3, 3)\n",
      "\n",
      "[[1 2 3]\n",
      " [1 2 3]\n",
      " [1 2 3]]\n"
     ]
    }
   ],
   "source": [
    "B = np.array([1, 2, 3])\n",
    "print(\"Die Shape von B: \", B.shape)\n",
    "# Anwendung der Regel 1:\n",
    "B = B[np.newaxis, :]\n",
    "print(\"Shape nach Anwendung der ersten Regel: \", B.shape)\n",
    "B = np.tile(B, (3, 1))\n",
    "print(\"Shape nach Anwendung der zweiten Regel: \", B.shape)\n",
    "print()\n",
    "print(B)"
   ]
  },
  {
   "cell_type": "markdown",
   "metadata": {},
   "source": [
    "\"Zeilenweise\" bedeutet also, dass wir ein eindimensionales Array als die zu broadcastende Zeile betrachten.\n",
    "\n",
    "Broadcasting funktioniert auch bei höheren Dimensionen, solange sich die beiden ersten Regeln erfolgreich anwenden lassen. Wir demonstrieren dies im folgenden Beispiel:"
   ]
  },
  {
   "cell_type": "code",
   "execution_count": 97,
   "metadata": {},
   "outputs": [
    {
     "name": "stdout",
     "output_type": "stream",
     "text": [
      "(2, 3, 5)\n",
      "[[[3 5 4 6 6]\n",
      "  [3 4 5 4 5]\n",
      "  [4 6 3 5 4]]\n",
      "\n",
      " [[2 6 6 6 7]\n",
      "  [5 3 4 8 2]\n",
      "  [5 3 3 7 5]]]\n"
     ]
    }
   ],
   "source": [
    "X = np.array(\n",
    "    [[[2, 3, 1, 2, 1],\n",
    "      [2, 2, 2, 0, 0],\n",
    "      [3, 4, 0, 1, -1]],\n",
    "\n",
    "     [[1, 4, 3, 2, 2],\n",
    "      [4, 1, 1, 4, -3],\n",
    "      [4, 1, 0, 3, 0]]])\n",
    "\n",
    "print(Y.shape)\n",
    "\n",
    "X = np.array([1, 2, 3, 4, 5])\n",
    "\n",
    "print(X + Y)"
   ]
  },
  {
   "cell_type": "markdown",
   "metadata": {},
   "source": [
    "Auch in diesem Falle wollen wir uns anschauen, was man machen müsste, um das Broadcasting nach den Regeln zu simulieren:"
   ]
  },
  {
   "cell_type": "code",
   "execution_count": 98,
   "metadata": {},
   "outputs": [
    {
     "name": "stdout",
     "output_type": "stream",
     "text": [
      "(2, 3, 5)\n",
      "Shape nach Anwendung der ersten Regel:  (1, 1, 5)\n",
      "Shape nach Anwendung der zweiten Regel:  (2, 3, 5)\n",
      "\n",
      "[[[3 5 4 6 6]\n",
      "  [3 4 5 4 5]\n",
      "  [4 6 3 5 4]]\n",
      "\n",
      " [[2 6 6 6 7]\n",
      "  [5 3 4 8 2]\n",
      "  [5 3 3 7 5]]]\n"
     ]
    }
   ],
   "source": [
    "print(Y.shape)\n",
    "X = X[np.newaxis, np.newaxis, :]\n",
    "print(\"Shape nach Anwendung der ersten Regel: \", X.shape)\n",
    "X = np.tile(X, (2, 3, 1))\n",
    "print(\"Shape nach Anwendung der zweiten Regel: \", X.shape)\n",
    "print()\n",
    "\n",
    "print(X + Y)"
   ]
  },
  {
   "cell_type": "markdown",
   "metadata": {},
   "source": [
    "#### Spaltenweises Broadcasting:"
   ]
  },
  {
   "cell_type": "markdown",
   "metadata": {},
   "source": [
    "In diesem Fall haben wir wieder ein eindimensionales Array, betrachten es nun aber als Spaltenvektor des Broadcast-Arrays. \n",
    "\n",
    "Für dieses Beispiel müssen wir wissen, wie man einen Zeilenvektor in einen Spaltenvektor wandelt. Hierzu gibt es zwei Möglichkeiten. Mittels ```reshape```:"
   ]
  },
  {
   "cell_type": "code",
   "execution_count": 99,
   "metadata": {},
   "outputs": [
    {
     "name": "stdout",
     "output_type": "stream",
     "text": [
      "[[1]\n",
      " [2]\n",
      " [3]]\n"
     ]
    }
   ],
   "source": [
    "B = np.array([1, 2, 3])\n",
    "print(B.reshape((B.shape[0], 1)))"
   ]
  },
  {
   "cell_type": "markdown",
   "metadata": {},
   "source": [
    "Alternativ können wir auch ```newaxis``` verwenden:"
   ]
  },
  {
   "cell_type": "code",
   "execution_count": 100,
   "metadata": {},
   "outputs": [
    {
     "name": "stdout",
     "output_type": "stream",
     "text": [
      "[[1]\n",
      " [2]\n",
      " [3]]\n"
     ]
    }
   ],
   "source": [
    "B = np.array([1, 2, 3])\n",
    "print(B[:, np.newaxis])"
   ]
  },
  {
   "cell_type": "markdown",
   "metadata": {},
   "source": [
    "Nun können wir die Multiplikation mittels Broadcasting durchführen:"
   ]
  },
  {
   "cell_type": "code",
   "execution_count": 101,
   "metadata": {},
   "outputs": [
    {
     "data": {
      "text/plain": [
       "array([[11, 12, 13],\n",
       "       [42, 44, 46],\n",
       "       [93, 96, 99]])"
      ]
     },
     "execution_count": 101,
     "metadata": {},
     "output_type": "execute_result"
    }
   ],
   "source": [
    "import numpy as np\n",
    "\n",
    "A = np.array([[11, 12, 13], \n",
    "              [21, 22, 23], \n",
    "              [31, 32, 33] ]) \n",
    "\n",
    "A * B[:, np.newaxis]"
   ]
  },
  {
   "cell_type": "markdown",
   "metadata": {},
   "source": [
    "B wird benutzt als wäre es wie folgt aufgebaut:"
   ]
  },
  {
   "cell_type": "code",
   "execution_count": 102,
   "metadata": {},
   "outputs": [
    {
     "name": "stdout",
     "output_type": "stream",
     "text": [
      "Shape nach Anwendung der ersten Regel:  (3, 1)\n",
      "Shape nach Anwendung der zweiten Regel:  (3, 3)\n",
      "\n",
      "[[1 1 1]\n",
      " [2 2 2]\n",
      " [3 3 3]]\n"
     ]
    }
   ],
   "source": [
    "B = np.array([1, 2, 3])\n",
    "B = B.reshape((B.shape[0], 1))\n",
    "print(\"Shape nach Anwendung der ersten Regel: \", B.shape)\n",
    "B = np.tile(B, (1, 3))\n",
    "print(\"Shape nach Anwendung der zweiten Regel: \", B.shape)\n",
    "print()\n",
    "\n",
    "print(B)"
   ]
  },
  {
   "cell_type": "markdown",
   "metadata": {},
   "source": [
    "\n",
    "\n",
    "\n",
    "<img src=\"../images/broadcasting_example_2.webp\" alt=\"2. Beispiel Broadcasting\" />\n",
    "\n"
   ]
  },
  {
   "cell_type": "markdown",
   "metadata": {},
   "source": [
    "#### Broadcasting von zwei eindimensionalen Arrays\n",
    "\n",
    "Nun betrachten wir den Fall, dass wir zwei eindimensionale Arrays verknüpfen möchten. Den ersten wollen wir als Spaltenvektor betrachten und den zweiten als Zeilenvektor. Im Prinzip kombinieren wir nun die Verfahren der beiden vorigen Fälle, also spaltenweises und zeilenweises Broadcasting:"
   ]
  },
  {
   "cell_type": "code",
   "execution_count": 103,
   "metadata": {},
   "outputs": [
    {
     "name": "stdout",
     "output_type": "stream",
     "text": [
      "[[10]\n",
      " [20]\n",
      " [30]]\n",
      "[[10 20 30]\n",
      " [20 40 60]\n",
      " [30 60 90]]\n"
     ]
    }
   ],
   "source": [
    "A = np.array([10, 20, 30])\n",
    "B = np.array([1, 2, 3])\n",
    "\n",
    "# wir richten A auf:\n",
    "A = A.reshape(A.shape[0], 1)\n",
    "print(A)\n",
    "# nun können wir das Broadcasting durchführen:\n",
    "\n",
    "print(A * B)"
   ]
  },
  {
   "cell_type": "markdown",
   "metadata": {},
   "source": [
    "\n",
    "\n",
    "\n",
    "<img src=\"../images/broadcasting_example_3.webp\" alt=\"3. Beispiel Broadcasting\" />\n"
   ]
  },
  {
   "cell_type": "markdown",
   "metadata": {},
   "source": [
    "<br><br>\n",
    "\n",
    "### Distanzmatrix\n",
    "\n"
   ]
  },
  {
   "cell_type": "markdown",
   "metadata": {},
   "source": [
    "In der Mathematik, der Informatik und insbesondere in der Graph-Theorie, versteht man unter der Distanzmatrix ein zweidimensionales Array, das die \"Entfernungen\" zwischen den Elementen einer Menge paarweise beinhaltet. \n",
    "Die Größe dieses zweidimensionalen Arrays ist n x n, falls die Menge aus n Elementen besteht. \n",
    "\n",
    "Ein praktisches Beispiel einer Distanzmatrix ist eine Matrix mit den Entfernungen zwischen geografischen Lokationen, in unserem Beispiel europäische Städte:\n"
   ]
  },
  {
   "cell_type": "code",
   "execution_count": 104,
   "metadata": {},
   "outputs": [
    {
     "name": "stdout",
     "output_type": "stream",
     "text": [
      "[   0 1498 1063 1968 1498 1758 1469 1472 2230 2391 1138  505]\n",
      "[[   0 1498 1063 1968 1498 1758 1469 1472 2230 2391 1138  505]\n",
      " [1498    0  435  470    0  260   29   26  732  893  360  993]\n",
      " [1063  435    0  905  435  695  406  409 1167 1328   75  558]\n",
      " [1968  470  905    0  470  210  499  496  262  423  830 1463]\n",
      " [1498    0  435  470    0  260   29   26  732  893  360  993]\n",
      " [1758  260  695  210  260    0  289  286  472  633  620 1253]\n",
      " [1469   29  406  499   29  289    0    3  761  922  331  964]\n",
      " [1472   26  409  496   26  286    3    0  758  919  334  967]\n",
      " [2230  732 1167  262  732  472  761  758    0  161 1092 1725]\n",
      " [2391  893 1328  423  893  633  922  919  161    0 1253 1886]\n",
      " [1138  360   75  830  360  620  331  334 1092 1253    0  633]\n",
      " [ 505  993  558 1463  993 1253  964  967 1725 1886  633    0]]\n"
     ]
    }
   ],
   "source": [
    "cities = [\"Barcelona\", \"Berlin\", \"Brüssel\", \"Bukarest\",\n",
    "          \"Budapest\", \"Kopenhagen\", \"Dublin\", \"Hamburg\", \n",
    "          \"Istanbul\", \"Kiew\", \"London\", \"Madrid\", \n",
    "          \"Mailand\", \"Moskau\", \"München\", \"Paris\", \"Prag\", \n",
    "          \"Rome\", \"Sankt Petersburg\", \"Stockholm\", \"Wien\", \n",
    "          \"Warschau\"]\n",
    "\n",
    "dist2barcelona = [0,  1498, 1063, 1968, \n",
    "                  1498, 1758, 1469, 1472, 2230, \n",
    "                  2391, 1138, 505, 725, 3007, 1055, \n",
    "                  833, 1354, 857, 2813, \n",
    "                  2277, 1347, 1862]\n",
    "\n",
    "dists =  np.array(dist2barcelona[:12])\n",
    "print(dists)\n",
    "print(np.abs(dists - dists[:, np.newaxis]))"
   ]
  },
  {
   "cell_type": "markdown",
   "metadata": {},
   "source": [
    "<br><br>\n",
    "\n",
    "### Ufuncs\n",
    "\n",
    "\n",
    "\n",
    "Bisher haben wir diverse Operatoren wie Addition, Subtraktion, Multiplikation und so weiter für Arrays kennengelernt. Allen sind bestimmte Features gemeinsam, wie Broadcasting  und erzwungene Typumwandlung (englisch: type coercion). Allen Operationen ist auch die elementweise Anwendung gemeinsam. \n",
    "\n",
    "Zu den bereits kennengelernten Infix-Operatoren wie $+$, $-$, $*$ und so weiter gibt es auch Funktionen wie ```add```, ```subtract```, ```multiply```, ```divide```, ```remainder```, ```power``` und weitere. Aber es gibt auch Funktionen, für die es keine Infix-Variante gibt, da es sich um Funktionen handelt, die nur ein Argument erwarten, also unäre Operatoren: ```arccos```,  ```arccosh```, ```arcsin```, ```arcsinh```, ```arctan```, ```arctanh```, ```cos```, ```cosh```, ```tan```, ```tanh```,\n",
    "```log10```, ```sin```, ```sinh```, ```sqrt```, ```absolute```, ```fabs```, ```floor```, ```ceil```, ```fmod```, ```exp```, ```log```, ```conjugate```, ```maximum```, ```minimum```.\n",
    "\n",
    "Auch für die Infix-Vergleichsoperatoren <, <=, ==, >, >=, != und so weiter gibt es entsprechende funktionale Varianten: ```greater```, ```greater_equal```, ```equal```, ```less```, ```less_equal```, ```not_equal```, ```logical_or```, ```logical_xor```, ```logical_not```, ```logical_and```, ```bitwise_or```, ```bitwise_xor```, ```bitwise_not```, ```bitwise_and```, ```rshift```, ```lshift```\n",
    "\n",
    "Diese Funktionen bezeichnet man als Ufuncs, auch als universelle Funktionen bekannt.\n",
    "\n",
    "\n",
    "#### Anwendung von Ufuncs\n",
    "\n",
    "Die funktionalen und Infix-Varianten sind äquivalent."
   ]
  },
  {
   "cell_type": "code",
   "execution_count": 105,
   "metadata": {},
   "outputs": [
    {
     "name": "stdout",
     "output_type": "stream",
     "text": [
      "[ 4  3 -1  3]\n",
      "[ 4  3 -1  3]\n",
      "Typ der 'add'-Funktion: <class 'numpy.ufunc'>\n"
     ]
    }
   ],
   "source": [
    "import numpy as np\n",
    "from numpy import add\n",
    "\n",
    "x = np.array([3, 5, -1, 0])\n",
    "y = np.array([1, -2, 0, 3])\n",
    "\n",
    "print(x + y)\n",
    "# äquivalente Möglicheit\n",
    "print(add(x, y))\n",
    "print(\"Typ der 'add'-Funktion:\", type(add))"
   ]
  },
  {
   "cell_type": "markdown",
   "metadata": {},
   "source": [
    "Die Ufuncs lassen sich auf beliebige Python-Sequenzen anwenden, sofern sie aus numerischen Datentypen bestehen und bezüglich ihrer Längen und Shapes übereinstimmen:"
   ]
  },
  {
   "cell_type": "code",
   "execution_count": 106,
   "metadata": {},
   "outputs": [
    {
     "name": "stdout",
     "output_type": "stream",
     "text": [
      "[ 6.  11.  14.5]\n",
      "[ 6.  11.  14.5]\n",
      "[2.  6.  8.7]\n"
     ]
    }
   ],
   "source": [
    "import numpy as np\n",
    "\n",
    "x = [2, 5, 6.7]\n",
    "y = [4, 6, 7.8]\n",
    "\n",
    "print(np.add(x, y))\n",
    "\n",
    "print(np.add(tuple(x), y))\n",
    "print(np.add(x, range(3)))"
   ]
  },
  {
   "cell_type": "markdown",
   "metadata": {},
   "source": [
    "Die unären Ufunc-Funktionen können sowohl auf  NumPy-Arrays als auch auf andere Python-Sequenzen angewendet werden. Der Rückgabewert ist aber in allen Fällen ein  ```numpy.ndarray```-Wert:"
   ]
  },
  {
   "cell_type": "code",
   "execution_count": 107,
   "metadata": {},
   "outputs": [
    {
     "name": "stdout",
     "output_type": "stream",
     "text": [
      "[ 0.90929743 -0.95892427  0.40484992] <class 'numpy.ndarray'>\n",
      "[ 0.90929743 -0.95892427  0.40484992] <class 'numpy.ndarray'>\n",
      "[ 0.84147098  0.98935825  0.65028784 -0.00885131 -0.66363388 -0.99177885\n",
      " -0.83177474 -0.26237485  0.43616476  0.92002604  0.95105465  0.51397846\n",
      " -0.17607562 -0.77946607 -0.99920683] <class 'numpy.ndarray'>\n"
     ]
    }
   ],
   "source": [
    "import numpy as np\n",
    "\n",
    "x = [2, 5, 6.7]\n",
    "v = np.array(x)\n",
    "\n",
    "res = np.sin(x)\n",
    "print(res, type(res))\n",
    "res = np.sin(v)\n",
    "print(res, type(res))\n",
    "res = np.sin(range(1, 100, 7))\n",
    "print(res, type(res))"
   ]
  },
  {
   "cell_type": "markdown",
   "metadata": {},
   "source": [
    "Sie können auch auf Instanzen der ```int```- und ```float```-Klassen aufgerufen werden. Rückgabewerte sind in diesen Fällen ```numpy.int64```- bzw. ```numpy.float64```-Typen:"
   ]
  },
  {
   "cell_type": "code",
   "execution_count": 108,
   "metadata": {},
   "outputs": [
    {
     "name": "stdout",
     "output_type": "stream",
     "text": [
      "0.9092974268256817 <class 'numpy.float64'>\n",
      "3.0 <class 'numpy.float64'>\n"
     ]
    }
   ],
   "source": [
    "res = np.sin(2)\n",
    "print(res, type(res))\n",
    "\n",
    "res = np.ceil(2.3)\n",
    "print(res, type(res))"
   ]
  },
  {
   "cell_type": "markdown",
   "metadata": {},
   "source": [
    "#### Parameter für Rückgabewerte bei Ufuncs\n",
    "\n",
    "\n",
    "Eine weitere Besonderheit der Ufuncs besteht darin, dass ihnen auch ein Parameter für das Rückgabeobjekt übergeben werden kann. Betrachten wir dazu das folgende Beispiel:"
   ]
  },
  {
   "cell_type": "code",
   "execution_count": 109,
   "metadata": {},
   "outputs": [
    {
     "name": "stdout",
     "output_type": "stream",
     "text": [
      "[46.08 52.74 55.62]\n"
     ]
    }
   ],
   "source": [
    "import numpy as np\n",
    "\n",
    "x = np.array([25.6, 29.3, 30.9])\n",
    "x = x * 1.8 \n",
    "\n",
    "# oder äquivalent dazu in Ufunc-Schreibweise\n",
    "x = np.array([25.6, 29.3, 30.9])\n",
    "x = np.multiply(x, 1.8)\n",
    "print(x)"
   ]
  },
  {
   "cell_type": "markdown",
   "metadata": {},
   "source": [
    "In den obigen Fällen wurde zuerst ein neues ```ndarray```-Array mit dem Ergebnis erzeugt und dann wurde dieses Array der Variablen ```x``` zugewiesen. Das alte Array wird danach nicht mehr benötigt und muss gelöscht werden.  \n",
    "\n",
    "Indem wir die Variable ```x``` als Rückgabeparameter spezifizieren, wird die Operation in-place durchgeführt, also effizienter:"
   ]
  },
  {
   "cell_type": "code",
   "execution_count": 110,
   "metadata": {},
   "outputs": [
    {
     "name": "stdout",
     "output_type": "stream",
     "text": [
      "[46.08 52.74 55.62]\n"
     ]
    }
   ],
   "source": [
    "import numpy as np\n",
    "\n",
    "x = np.array([25.6, 29.3, 30.9])\n",
    "np.multiply(x, 1.8, x)\n",
    "print(x)"
   ]
  },
  {
   "cell_type": "markdown",
   "metadata": {},
   "source": [
    "Die in-place-Variante mit Rückgabeparameter ist im Allgemeinen deutlich schneller, aber nicht immer, wie wir im Folgenden sehen können:"
   ]
  },
  {
   "cell_type": "code",
   "execution_count": 111,
   "metadata": {},
   "outputs": [
    {
     "name": "stdout",
     "output_type": "stream",
     "text": [
      "0.00010651699994923547 5.7821998780127615e-05 1.8421535435721301\n",
      "0.0003842940022877883 5.538400000659749e-05 6.938718804023006\n",
      "0.00034500000037951395 9.413500083610415e-05 3.6649492464570526\n",
      "9.594500079401769e-05 0.00010985400149365887 0.8733864901548984\n",
      "0.0004484130004129838 6.163700163597241e-05 7.275061870486613\n"
     ]
    }
   ],
   "source": [
    "\n",
    "import timeit\n",
    "\n",
    "setup = 'import numpy as np; A = np.random.random((100, 100))'\n",
    "for i in range(5):\n",
    "    time1 = timeit.timeit(\"A = np.multiply(A, 1.0234)\", \n",
    "                          setup=setup,\n",
    "                          number=10)\n",
    "    time2 = timeit.timeit(\"np.multiply(A, 1.0234, A)\", \n",
    "                          setup=setup,\n",
    "                          number=10)\n",
    "    print(time1, time2, time1/time2)\n"
   ]
  },
  {
   "cell_type": "markdown",
   "metadata": {},
   "source": [
    "#### accumulate\n",
    "\n",
    "\n",
    "\n",
    "Auf die Ufunc-Funtionen kann die ```accumulate```-Methode angewendet werden.\n",
    "\n",
    "Die ```accumulate```-Funktion bewirkt die Anwendung des Operators auf alle Elemente des Arrays und der darauffolgenden Akkumulation der Ergebnisse.   \n",
    "\n",
    "Wendet man ```accumulate``` auf die ```add```-Funktion an, erhält man eine zu ```np.cumsum``` äquivalente Funktionalität, wie wir im folgenden Beispiel demonstrieren. "
   ]
  },
  {
   "cell_type": "code",
   "execution_count": 112,
   "metadata": {},
   "outputs": [
    {
     "name": "stdout",
     "output_type": "stream",
     "text": [
      "[1 2 3 4 5]\n",
      "[ 1  3  6 10 15]\n",
      "[ 1  3  6 10 15]\n"
     ]
    }
   ],
   "source": [
    "import numpy as np\n",
    "\n",
    "x = np.arange(1, 6)\n",
    "print(x)\n",
    "print(np.add.accumulate(x))\n",
    "print(np.cumsum(x))"
   ]
  },
  {
   "cell_type": "markdown",
   "metadata": {},
   "source": [
    "Den mehrdimensionalen Fall und die Benutzung des optionalen Parameters ```axis``` verdeutlichen wir mit folgendem selbsterklärenden Beispiel:"
   ]
  },
  {
   "cell_type": "code",
   "execution_count": 113,
   "metadata": {},
   "outputs": [
    {
     "name": "stdout",
     "output_type": "stream",
     "text": [
      "[[ 0  1  2  3]\n",
      " [ 4  5  6  7]\n",
      " [ 8  9 10 11]\n",
      " [12 13 14 15]\n",
      " [16 17 18 19]\n",
      " [20 21 22 23]]\n",
      "Akkumulation über Zeilen, d.h. axis = 0:\n",
      "[[ 0  1  2  3]\n",
      " [ 4  6  8 10]\n",
      " [12 15 18 21]\n",
      " [24 28 32 36]\n",
      " [40 45 50 55]\n",
      " [60 66 72 78]]\n",
      "Akkumulation über Zeilen, d.h. axis = 0:\n",
      "[[ 0  1  2  3]\n",
      " [ 4  6  8 10]\n",
      " [12 15 18 21]\n",
      " [24 28 32 36]\n",
      " [40 45 50 55]\n",
      " [60 66 72 78]]\n",
      "Akkumulation über Spalten, d.h. axis = 1:\n",
      "[[ 0  1  3  6]\n",
      " [ 4  9 15 22]\n",
      " [ 8 17 27 38]\n",
      " [12 25 39 54]\n",
      " [16 33 51 70]\n",
      " [20 41 63 86]]\n",
      "Akkumulation über Zeilen und Spalten:\n",
      "[[  0   1   3   6]\n",
      " [  4  10  18  28]\n",
      " [ 12  27  45  66]\n",
      " [ 24  52  84 120]\n",
      " [ 40  85 135 190]\n",
      " [ 60 126 198 276]]\n"
     ]
    }
   ],
   "source": [
    "import numpy as np\n",
    "\n",
    "x = np.arange(24).reshape((6, 4))\n",
    "print(x)\n",
    "print(\"Akkumulation über Zeilen, d.h. axis = 0:\")\n",
    "print(np.add.accumulate(x))\n",
    "print(\"Akkumulation über Zeilen, d.h. axis = 0:\")\n",
    "print(np.add.accumulate(x, axis=0))\n",
    "print(\"Akkumulation über Spalten, d.h. axis = 1:\")\n",
    "print(np.add.accumulate(x, axis=1))\n",
    "print(\"Akkumulation über Zeilen und Spalten:\")\n",
    "print(np.add.accumulate(np.add.accumulate(x, axis=0), axis=1))"
   ]
  },
  {
   "cell_type": "markdown",
   "metadata": {},
   "source": [
    "#### reduce\n",
    "\n",
    "\n",
    "\n",
    "Die Arbeitsweise von ```reduce``` im eindimensionalen Fall, kann wie folgt beschreiben werden:\n",
    "\n",
    "Nehmen wir an, ```op``` ist eine Funktion wie ```numpy.add``` oder ```numpy.multiply```.\n",
    "Wendet man ```op.reduce``` auf ein Objekt ```x``` an, welches eine numerische Python-Sequenz oder ein eindimensionales Array sein kann, so liefert sie einen einzelnen Wert zurück. Die Berechnung geschieht wie folgt: \n",
    "Falls ```x``` leer ist, wird ```0.0``` zurückgeliefert. Besitzt ```x``` nur ein Element, wird dieses als Ergebnis von ```op.reduce(x)``` zurückgeliefert. Bei mehr als einem Element in ```x``` wird ```op``` zuerst auf die ersten beiden Elemente von ```x``` angewendet. Gibt es noch weitere Elemente, wird ```op``` auf dieses Ergebnis und auf das folgende Element von x angewendet. Dies wird solange fortgesetzt, bis es keine weiteren Elemente mehr gibt, und das letzte Ergebnis wird dann als Gesamtergebnis zurückgeliefert: \n"
   ]
  },
  {
   "cell_type": "code",
   "execution_count": 114,
   "metadata": {},
   "outputs": [
    {
     "name": "stdout",
     "output_type": "stream",
     "text": [
      "10\n",
      "24\n"
     ]
    }
   ],
   "source": [
    "import numpy as np\n",
    "\n",
    "x = np.arange(1, 5)\n",
    "\n",
    "print(np.add.reduce(x)) # äquivalent zu ```sum```\n",
    "print(np.multiply.reduce(x)) # äquivalent zu ```factorial```"
   ]
  },
  {
   "cell_type": "markdown",
   "metadata": {},
   "source": [
    "Im mehrdimensionalen Fall bewirkt die Anwendung von ```reduce``` die Reduktion um eine Dimension. Eine Reduktion über alle Dimensionen erhält man, indem man ```axis``` auf ```None``` setzt:"
   ]
  },
  {
   "cell_type": "code",
   "execution_count": 115,
   "metadata": {},
   "outputs": [
    {
     "name": "stdout",
     "output_type": "stream",
     "text": [
      "[[ 0  1  2  3]\n",
      " [ 4  5  6  7]\n",
      " [ 8  9 10 11]]\n",
      "Reduce über Zeilen, d.h. axis = 0:\n",
      "[12 15 18 21]\n",
      "Reduce über Spalten, d.h. axis = 1:\n",
      "[ 6 22 38]\n",
      "Reduce über Zeilen und Spalten:\n",
      "66\n",
      "Letzteres geht einfacher mit axis = None:\n",
      "66\n"
     ]
    }
   ],
   "source": [
    "import numpy as np\n",
    "\n",
    "x = np.arange(12).reshape((3, 4))\n",
    "print(x)\n",
    "print(\"Reduce über Zeilen, d.h. axis = 0:\")\n",
    "print(np.add.reduce(x))\n",
    "print(\"Reduce über Spalten, d.h. axis = 1:\")\n",
    "print(np.add.reduce(x, axis=1))\n",
    "print(\"Reduce über Zeilen und Spalten:\")\n",
    "print(np.add.reduce(np.add.reduce(x)))\n",
    "print(\"Letzteres geht einfacher mit axis = None:\")\n",
    "print(np.add.reduce(x, axis=None))\n"
   ]
  },
  {
   "cell_type": "markdown",
   "metadata": {},
   "source": [
    "#### outer\n",
    "\n",
    "\n",
    "\n",
    "```op.outer(A, B)``` bewirkt, dass ```op``` auf alle Paare ```(a, b)``` mit ```a``` in ```A``` und ```b``` in ```B``` angewendet wird.\n",
    "\n",
    "\n",
    "\n",
    "\n",
    "In der Mathematik ist dieses spezielles Produkt zweier Vektoren auch als das \"dyadische Produkt\"  oder \"tensorielle Produkt\" bekannt. Das Ergebnis ist eine Matrix."
   ]
  },
  {
   "cell_type": "markdown",
   "metadata": {},
   "source": []
  },
  {
   "cell_type": "code",
   "execution_count": 116,
   "metadata": {},
   "outputs": [
    {
     "data": {
      "text/plain": [
       "array([[ 11,  22,  33],\n",
       "       [ 22,  44,  66],\n",
       "       [ 33,  66,  99],\n",
       "       [ 44,  88, 132]])"
      ]
     },
     "execution_count": 116,
     "metadata": {},
     "output_type": "execute_result"
    }
   ],
   "source": [
    "import numpy as np\n",
    "\n",
    "np.multiply.outer([1, 2, 3, 4], [11, 22, 33])\n"
   ]
  },
  {
   "cell_type": "markdown",
   "metadata": {},
   "source": [
    "#### at\n",
    "\n",
    "\n",
    "```at(a, indices, b=None)``` führt eine ungepufferte in-place-Operation auf den durch ```indices``` spezifizierten Indizes von ```a``` durch. Für die Addition ist dies beispielsweise äquivalent mit ```a[indices] += b```, außer dass die Elemente, die mehrfach indiziert sind, akkumuliert werden. \n"
   ]
  },
  {
   "cell_type": "code",
   "execution_count": 117,
   "metadata": {},
   "outputs": [
    {
     "name": "stdout",
     "output_type": "stream",
     "text": [
      "[ 6  5 23  5]\n",
      "[ 6  5 23  5]\n",
      "[17  5 12  5]\n",
      "[28  5 12  5]\n"
     ]
    }
   ],
   "source": [
    "import numpy as np\n",
    "\n",
    "a = np.array([3, 5, 12, 5])\n",
    "b = np.array([3, 11])\n",
    "np.add.at(a, [0, 2], b)\n",
    "print(a)\n",
    "\n",
    "# äquivalent mit \n",
    "a = np.array([3, 5, 12, 5])\n",
    "a[[0, 2]] += b\n",
    "print(a)\n",
    "\n",
    "# nun mit mehrfachen Indizes:\n",
    "a = np.array([3, 5, 12, 5])\n",
    "np.add.at(a, [0, 0], b)\n",
    "print(a)\n",
    "\n",
    "a[[0, 0]] += b\n",
    "print(a)"
   ]
  },
  {
   "cell_type": "markdown",
   "metadata": {},
   "source": []
  },
  {
   "cell_type": "code",
   "execution_count": 118,
   "metadata": {},
   "outputs": [
    {
     "name": "stdout",
     "output_type": "stream",
     "text": [
      "(3,)\n",
      "(1, 3)\n",
      "(3, 3)\n",
      "(3, 1, 3)\n",
      "[[[1 1 1]]\n",
      "\n",
      " [[2 2 2]]\n",
      "\n",
      " [[3 3 3]]]\n"
     ]
    }
   ],
   "source": [
    "# prog4book\n",
    "B = np.array([1, 2, 3])\n",
    "print(B.shape)\n",
    "B = B[np.newaxis, :]\n",
    "print(B.shape)\n",
    "B = np.concatenate((B, B, B)).transpose()\n",
    "print(B.shape)\n",
    "B = B[:, np.newaxis]\n",
    "print(B.shape)\n",
    "print(B)"
   ]
  },
  {
   "cell_type": "markdown",
   "metadata": {},
   "source": []
  },
  {
   "cell_type": "code",
   "execution_count": 119,
   "metadata": {},
   "outputs": [
    {
     "name": "stdout",
     "output_type": "stream",
     "text": [
      "[[ 1  6 -9  9]\n",
      " [ 1  0  1  9]\n",
      " [-6  8 -4 -7]]\n",
      "Zeilenminima: \n",
      "[-9  0 -7]\n",
      "Spaltenminima: \n",
      "[-6  0 -9 -7]\n",
      "Absolutes Minimum: \n",
      "-9\n"
     ]
    }
   ],
   "source": [
    "# prog4book\n",
    "A = np.random.randint(-10, 10, (3, 4))\n",
    "print(A)\n",
    "\n",
    "print(\"Zeilenminima: \")\n",
    "print(np.min(A, axis=1))\n",
    "\n",
    "print(\"Spaltenminima: \")\n",
    "print(np.min(A, axis=0))\n",
    "\n",
    "print(\"Absolutes Minimum: \")\n",
    "print(np.min(A))"
   ]
  },
  {
   "cell_type": "markdown",
   "metadata": {},
   "source": []
  },
  {
   "cell_type": "code",
   "execution_count": 120,
   "metadata": {},
   "outputs": [
    {
     "name": "stdout",
     "output_type": "stream",
     "text": [
      "[[ 6 -1  5 -2]\n",
      " [ 0  2  9  6]\n",
      " [-8 -9  7 -4]]\n",
      "Zeilenminima: \n",
      "[-2  0 -9]\n",
      "Spaltenminima: \n",
      "[-8 -9  5 -4]\n",
      "Absolutes Minimum: \n",
      "-9\n"
     ]
    }
   ],
   "source": [
    "# prog4book\n",
    "\n",
    "# prog4book\n",
    "A = np.random.randint(-10, 10, (3, 4))\n",
    "print(A)\n",
    "\n",
    "print(\"Zeilenminima: \")\n",
    "print(np.min(A, axis=1))\n",
    "\n",
    "print(\"Spaltenminima: \")\n",
    "print(np.min(A, axis=0))\n",
    "\n",
    "print(\"Absolutes Minimum: \")\n",
    "print(np.min(A))"
   ]
  }
 ],
 "metadata": {
  "anaconda-cloud": {},
  "kernelspec": {
   "display_name": "Python 3 (ipykernel)",
   "language": "python",
   "name": "python3"
  },
  "language_info": {
   "codemirror_mode": {
    "name": "ipython",
    "version": 3
   },
   "file_extension": ".py",
   "mimetype": "text/x-python",
   "name": "python",
   "nbconvert_exporter": "python",
   "pygments_lexer": "ipython3",
   "version": "3.9.12"
  },
  "toc": {
   "base_numbering": 1,
   "nav_menu": {},
   "number_sections": true,
   "sideBar": true,
   "skip_h1_title": false,
   "title_cell": "Table of Contents",
   "title_sidebar": "Contents",
   "toc_cell": false,
   "toc_position": {
    "height": "579px",
    "left": "76px",
    "top": "111.133px",
    "width": "198px"
   },
   "toc_section_display": true,
   "toc_window_display": true
  }
 },
 "nbformat": 4,
 "nbformat_minor": 4
}
