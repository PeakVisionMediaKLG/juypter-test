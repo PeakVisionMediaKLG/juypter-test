{
 "cells": [
  {
   "cell_type": "code",
   "execution_count": 59,
   "metadata": {},
   "outputs": [],
   "source": [
    "# invisible\n",
    "import numpy as np\n",
    "np.core.arrayprint._line_width = 65\n",
    "import matplotlib as mpl\n",
    "mpl.rcParams['figure.dpi'] = 300"
   ]
  },
  {
   "cell_type": "markdown",
   "metadata": {},
   "source": [
    "\n",
    "\n",
    "\n",
    "## Python, NumPy and Wahrscheinlichkeiten\n",
    "\n",
    "### Einführung\n",
    "\n",
    "<img width=\"40%\" class=\"imgright\" src=\"../images/dice.webp\" srcset=\"../images/dice_400w.webp 400w,../images/dice_350w.webp 350w,../images/dice_300w.webp 300w\" alt=\"dice\" />\n",
    "\n",
    "*\"Every American should have above average income, and my Administration is going to see they get it.\"* \n",
    "\n",
    "Wir beginnen mit diesem Zitat von Bill Clinton unser Kapitel über Statistik, weil es ein besonders hervorstechendes Beispiel eines weit vorherrschenden Problems ist. Ein Problem, was der Mathematiker John Allen Paulos in einem seiner Bücher als \"Innumeracy\" bezeichnet hatte. (Paulos, John Allen. 1988. \"Innumeracy, Mathematical Illiteracy and its consequences\". New York. Hill and Wang) Ein Ausdruck für den es noch keine deutsche Übersetzung gibt, aber soviel bedeutet wie \"numerischer Analphabetismus\". Darunter versteht er die weit-verbreitete Unfähigkeit einfachste statistische und wahrscheinlichkeitstheoretische Zusammenhänge zu begreifen. Während Analphabetismus in allen Gesellschaften und Gesellschaftskreisen geächtet wird, gilt \"innumeracy\" als tolerierbar. Nehmen wir an, es gäbe ein Land, in dem fast alle Leute eine grüne Hautfarbe hätten, außer einer blaufarbigen Minderheit. Nun können wir davon ausgehen, dass es unter beiden Gruppen Verbrecher geben wird. Stellen wir uns aber vor, dass innerhalb kurzer Zeit Zeitungen mit Artikeln der Form \"Blauer mordet Mutter von zwei Kindern\" oder \"Polizei ermittelt erneut gegen Blauen im Fall XYZZ!\" veröffentlicht werden. Über die gleichzeitig stattfindenden Straftaten von Menschen grüner Hautfarbe wird jedoch nicht berichtet. Numerischer Analphabetismus bedeutet nun, dass Leute auf die Strasse gehen und gegen die durch \"Blaue\" ausgelöste Gewalt demonstrieren, Politiker ein mögliches Problem bei Blauen untersuchen wollen oder gar zu erkenen glauben und so weiter. \n",
    "\n",
    "\n",
    "\n",
    "\n",
    "<br>\n",
    "\n",
    "\n",
    "\n",
    "Statistik und Wahrscheinlichkeitsrechnung begegnet uns nahezu überall in unserem Leben. Wir müssen damit umgehen, häufig wenn wir zwischen verschiedenen Alternativen zu wählen haben. Können wir morgen wandern gehen, oder wird es regnen? Die Wettervorhersage sagt uns, dass die Niederschlagswahrscheinlichkeit bei 30% liegt. Was jetzt? Können wir es riskieren?\n",
    "<br>\n",
    "Anderes Szenario:\n",
    "Sie spielen jede Woche Lotto und träumen von einer weit entfernten Insel. Wie hoch ist die Wahrscheinlichkeit, den Jackpot zu gewinnen, sodass Sie niemals mehr arbeiten müssen und im \"Paradies\" leben können? Nicht sehr wahrscheinlich, aber nun stellen Sie sich vor, dass Sie den Jackpot geknackt haben. Wie groß ist die Wahrscheinlichkeit, dass Sie auf der Insel Ihrer Träume, weit weg von zu Hause, Ihren Nachbarn treffen? Wie hoch sind die Chancen, dass so etwas passiert?\n",
    "<br>\n",
    "\n",
    "Die Ungewissheit umgibt uns, und nur einige Menschen verstehen die Grundlagen der Wahrscheinlichkeitstheorie.\n",
    "\n",
    "Die Programmiersprache Python und die Module NumPy und SciPy helfen uns nicht, die oben genannten alltäglichen Probleme zu verstehen. Jedoch bieten Python und NumPy starke Funktionalitäten, um Probleme der Statistik und Wahrscheinlichkeitstheorie zu berechnen.\n",
    "\n",
    "<br><br>\n",
    "\n",
    "### Zufallszahlen mit Python\n",
    "\n",
    "\n",
    "\n",
    "\n",
    "\n",
    "#### Die Module random und secrets\n",
    "\n",
    "\n",
    "\n",
    "\n",
    "Das Modul ```secrets``` wurde erst mit Python 3.6 neu eingeführt. Mit diesem Modul kann man kryptografisch starke Pseudozufallszahlen erzeugen, die sich als Passwörter, Tokens oder Ähnliches eignen. Dieses Modul wurde mit diesem Ziel entwickelt. Als Generator enthält es eine CSPRNG (Cryptographically Strong Pseudo Random Number Generator). Das ```random```-Modul von Python wurde nicht in Hinblick auf kryptografische Anwendungen entwickelt. Der Fokus dieses Moduls lag auf Modellbildungen und Simulationen. \n",
    "\n",
    "Es gibt sogar eine ausdrückliche Warnung in der Dokumentation des ```random```-Modules:\n",
    " \n",
    "<br><br>\n",
    "\n",
    "\n",
    "\n",
    "\n",
    "<p style=\"color: green; background-color: #ffff42\">\n",
    "Warnung: Beachten Sie bitte, dass der Pseudo-Zufalls-Generator im random-Modul NICHT für sicherheitsrelevante Zwecke benutzt werden sollte. Benutzen Sie secrets ab Python 3.6+ und os.urandom() bei Python 3.6+ und früher.\n",
    "<br>\n",
    "Im Original: \"Note that the pseudo-random generators in the random module should NOT be used for security purposes. Use secrets on Python 3.6+ and os.urandom() on Python 3.5 and earlier.\"</p>\n",
    "\n",
    "\n",
    "\n",
    "Man kann allerdings die ```SystemRandom```-Klasse des ```random```-Moduls verwenden, die die sichere ```os.urandom```-Systemfunktion benutzt. \n",
    "\n",
    "\n",
    "\n",
    "\n",
    "\n",
    "```random.SystemRandom``` und ```secrets.SystemRandom``` sind identisch.\n",
    "\n",
    "\n",
    "Mit der Funktion ```random.random``` können wir eine Zufallszahl im halb-offenen Intervall ```[0, 1)``` erzeugen: \n",
    "\n",
    "\n"
   ]
  },
  {
   "cell_type": "code",
   "execution_count": 60,
   "metadata": {},
   "outputs": [
    {
     "name": "stdout",
     "output_type": "stream",
     "text": [
      "0.38478750165423237\n"
     ]
    }
   ],
   "source": [
    "import random\n",
    "random_number = random.random()\n",
    "print(random_number)"
   ]
  },
  {
   "cell_type": "markdown",
   "metadata": {},
   "source": [
    "\n",
    "Nun wollen wir eine kryptografisch starke Zufallszahl erzeugen:"
   ]
  },
  {
   "cell_type": "code",
   "execution_count": 61,
   "metadata": {},
   "outputs": [
    {
     "name": "stdout",
     "output_type": "stream",
     "text": [
      "0.9204267821655968\n"
     ]
    }
   ],
   "source": [
    "from secrets import SystemRandom\n",
    "# from random import SystemRandom   # äquivalent\n",
    "crypto = SystemRandom()\n",
    "print(crypto.random())"
   ]
  },
  {
   "cell_type": "markdown",
   "metadata": {},
   "source": [
    "#### Erzeugen einer Liste von Zufallszahlen\n",
    "\n",
    "Häufig benötigen wir mehr als eine Zufallszahl. Die folgende Funktion ```random_list``` kann eine Liste von Zufallszahlen mit vorgegebener Anzahl erzeugen. Mit dem Parameter ```secure``` können wir steuern, ob wir sichere, also mit ```SystemRandom``` erzeugte Zahlen wollen:  \n"
   ]
  },
  {
   "cell_type": "code",
   "execution_count": 62,
   "metadata": {},
   "outputs": [
    {
     "name": "stdout",
     "output_type": "stream",
     "text": [
      "[0.7909000388784871, 0.10284379569236879, 0.050261473684067526]\n"
     ]
    }
   ],
   "source": [
    "import random\n",
    "\n",
    "def random_list(n, secure=True):\n",
    "    random_floats = []\n",
    "    if secure:\n",
    "        crypto = random.SystemRandom()\n",
    "        random_float = crypto.random\n",
    "    else:\n",
    "        random_float = random.random\n",
    "    for _ in range(n):\n",
    "        random_floats.append(random_float())\n",
    "    return random_floats\n",
    "\n",
    "print(random_list(3, secure=False))"
   ]
  },
  {
   "cell_type": "markdown",
   "metadata": {},
   "source": [
    "Im Folgenden können wir sehen, dass der Preis für die Sicherheit eine deutliche Erhöhung der Rechenzeit bedeutet:"
   ]
  },
  {
   "cell_type": "code",
   "execution_count": 63,
   "metadata": {},
   "outputs": [
    {
     "name": "stdout",
     "output_type": "stream",
     "text": [
      "357 µs ± 5.46 µs per loop (mean ± std. dev. of 7 runs, 1000 loops each)\n"
     ]
    }
   ],
   "source": [
    "%%timeit\n",
    "random_list(100, secure=True)"
   ]
  },
  {
   "cell_type": "code",
   "execution_count": 64,
   "metadata": {},
   "outputs": [
    {
     "name": "stdout",
     "output_type": "stream",
     "text": [
      "7.18 µs ± 485 ns per loop (mean ± std. dev. of 7 runs, 100000 loops each)\n"
     ]
    }
   ],
   "source": [
    "%%timeit\n",
    "random_list(100, secure=False)"
   ]
  },
  {
   "cell_type": "markdown",
   "metadata": {},
   "source": [
    "Am einfachsten, was den Programmieraufwand betrifft, und am schnellsten, was die Laufzeit betrifft, lassen sich Zufallszahlen mit dem ```random```-Untermodul von ```numpy``` erzeugen:"
   ]
  },
  {
   "cell_type": "code",
   "execution_count": 65,
   "metadata": {},
   "outputs": [
    {
     "data": {
      "text/plain": [
       "array([0.25935606, 0.07716387, 0.84629528, 0.83033122, 0.72322316,\n",
       "       0.06717942, 0.21947731, 0.37639418, 0.49988897, 0.55997848])"
      ]
     },
     "execution_count": 65,
     "metadata": {},
     "output_type": "execute_result"
    }
   ],
   "source": [
    "import numpy as np\n",
    "\n",
    "np.random.random(10)"
   ]
  },
  {
   "cell_type": "code",
   "execution_count": 66,
   "metadata": {},
   "outputs": [
    {
     "name": "stdout",
     "output_type": "stream",
     "text": [
      "1.6 µs ± 8.23 ns per loop (mean ± std. dev. of 7 runs, 1000000 loops each)\n"
     ]
    }
   ],
   "source": [
    "%%timeit\n",
    "np.random.random(100)"
   ]
  },
  {
   "cell_type": "markdown",
   "metadata": {},
   "source": [
    "Allerdings werden auch hier keine sicheren Zufallszahlen erzeugt!"
   ]
  },
  {
   "cell_type": "markdown",
   "metadata": {},
   "source": [
    "<br><br>\n",
    "\n",
    "### Zufällige Integer-Zahlen mit Python\n",
    "\n",
    "Jeder ist mit der Generierung von Zufallszahlen ohne Computer vertraut. Wenn Sie einen Würfel werfen, erhalten Sie eine Zufallszahl zwischen 1 und 6. Im Zusammenhang mit der Wahrscheinlichkeitstheorie nennen wir \"Werfen eines Würfels\" ein Experiment, dessen Menge der möglichen Ergebnisse {1, 2, 3, 4, 5, 6} ist. Diese Menge wird auch als \"Stichprobenraum\" bezeichnet.\n",
    "\n",
    "\n",
    "Integer-Zahlen könnten wir relativ einfach aus dem erzeugen, was wir schon kennengelernt haben. Unsere Funktion erzeugt Zahlen im halboffenen Intervall zwischen ```start``` und ```stop```, also ```[start, stop)```:"
   ]
  },
  {
   "cell_type": "code",
   "execution_count": 67,
   "metadata": {},
   "outputs": [
    {
     "data": {
      "text/plain": [
       "[5, 4, 4, 6, 4, 6, 6, 6, 3, 3, 4, 3, 6, 5, 6, 6, 5, 4, 5, 3]"
      ]
     },
     "execution_count": 67,
     "metadata": {},
     "output_type": "execute_result"
    }
   ],
   "source": [
    "def randint(start, stop, secure=True):\n",
    "    if secure:\n",
    "        crypto = random.SystemRandom()\n",
    "        rnd = crypto.random\n",
    "    else:\n",
    "        rnd = random.random\n",
    "    result = int(rnd() * (stop-start)) + start\n",
    "    return result\n",
    "\n",
    "[ randint(3, 7) for i in range(20)]"
   ]
  },
  {
   "cell_type": "markdown",
   "metadata": {},
   "source": [
    "Es empfiehlt sich jedoch, die Funktion ```randint``` zu nutzen, die die Module ```random```, ```secrets``` und ```numpy.random``` bietet ."
   ]
  },
  {
   "cell_type": "code",
   "execution_count": 68,
   "metadata": {},
   "outputs": [
    {
     "name": "stdout",
     "output_type": "stream",
     "text": [
      "1\n"
     ]
    }
   ],
   "source": [
    "import random\n",
    "\n",
    "# randint\n",
    "outcome = random.randint(1, 6)\n",
    "print(outcome)"
   ]
  },
  {
   "cell_type": "code",
   "execution_count": 69,
   "metadata": {},
   "outputs": [
    {
     "name": "stdout",
     "output_type": "stream",
     "text": [
      "3\n"
     ]
    }
   ],
   "source": [
    "import secrets\n",
    "\n",
    "c = secrets.SystemRandom()\n",
    "print(c.randint(1, 6))"
   ]
  },
  {
   "cell_type": "markdown",
   "metadata": {},
   "source": [
    "Würfeln wir sehr oft, so sollte jede Augenzahl ungefähr in einem Sechstel der Fälle auftreten. Wir testen dies im Folgenden. Das Zählen erledigen wir mit der ```Counter```-Klasse aus dem ```collections```-Modul:"
   ]
  },
  {
   "cell_type": "code",
   "execution_count": 70,
   "metadata": {},
   "outputs": [
    {
     "name": "stdout",
     "output_type": "stream",
     "text": [
      "Counter({2: 16862, 3: 16687, 4: 16675, 1: 16639, 6: 16604, 5: 16533})\n",
      "Augenzahl: 1,           relative Häufigkeit: 0.16639\n",
      "Augenzahl: 5,           relative Häufigkeit: 0.16533\n",
      "Augenzahl: 2,           relative Häufigkeit: 0.16862\n",
      "Augenzahl: 6,           relative Häufigkeit: 0.16604\n",
      "Augenzahl: 3,           relative Häufigkeit: 0.16687\n",
      "Augenzahl: 4,           relative Häufigkeit: 0.16675\n"
     ]
    }
   ],
   "source": [
    "from collections import Counter\n",
    "import random\n",
    "\n",
    "c = Counter()\n",
    "\n",
    "anzahl_wuerfe = 100000\n",
    "for wurf in range(anzahl_wuerfe):\n",
    "    augenzahl = random.randint(1, 6)\n",
    "    c[augenzahl] += 1\n",
    "    \n",
    "print(c)\n",
    "for augenzahl in c:\n",
    "    print(f\"Augenzahl: {augenzahl}, \\\n",
    "          relative Häufigkeit: {c[augenzahl]/anzahl_wuerfe}\")"
   ]
  },
  {
   "cell_type": "markdown",
   "metadata": {},
   "source": [
    "Obiges Beispiel lässt sich mit der random-Funktion aus dem NumPy-Modul einfacher realisieren."
   ]
  },
  {
   "cell_type": "code",
   "execution_count": 71,
   "metadata": {},
   "outputs": [
    {
     "name": "stdout",
     "output_type": "stream",
     "text": [
      "Augenzahl: 2,           relative Häufigkeit: 0.16764\n",
      "Augenzahl: 6,           relative Häufigkeit: 0.16496\n",
      "Augenzahl: 5,           relative Häufigkeit: 0.16557\n",
      "Augenzahl: 3,           relative Häufigkeit: 0.16739\n",
      "Augenzahl: 1,           relative Häufigkeit: 0.16742\n",
      "Augenzahl: 4,           relative Häufigkeit: 0.16702\n"
     ]
    }
   ],
   "source": [
    "import numpy as np\n",
    "from collections import Counter\n",
    "\n",
    "anzahl_wuerfe = 100000\n",
    "outcome = np.random.randint(1, 7, size=anzahl_wuerfe)\n",
    "\n",
    "c = Counter(outcome)\n",
    "for augenzahl in c:\n",
    "    print(f\"Augenzahl: {augenzahl}, \\\n",
    "          relative Häufigkeit: {c[augenzahl]/anzahl_wuerfe}\")"
   ]
  },
  {
   "cell_type": "markdown",
   "metadata": {},
   "source": [
    "Sicherlich haben Sie bemerkt, dass wir in ```random.randint``` beim zweiten Parameter ein 7 statt einer 6 verwendet haben. Diese Funktion nutzt ein \"halb-offenes\" Intervall im Gegensatz zu Pythons ```random```-Modul, das ein geschlossenes Intervall erwartet.\n",
    "\n",
    "Die formale Definition:\n",
    "\n",
    "```numpy.random.randint(low, high=None, size=None)```\n",
    "\n",
    "Diese Funktion liefert zufällige ganze Zahlen zwischen \"low\" (inklusiv) und \"high\" (exklusiv).\n",
    "Mit anderen Worten: ```randint``` liefert zufällige Integers aus der diskret uniformen Distribution im \"halb-offenen\" Intervall [```low```, ```high```).\n",
    "\n",
    "Wenn für ```high``` der Wert ```None``` oder nichts übergeben wird, liegen die Ergebnisse in der Range von [0, ```low```).\n",
    "\n",
    "Der Parameter ```size``` definiert die Shape des Ergebnisses.\n",
    "Wenn für ```size``` None oder nichts übergeben wird, generiert die Funktion einen Integer-Wert.\n",
    "Andernfalls ist das Ergebnis ein Array.\n",
    "```size``` sollte ein Tupel sein. Wenn als ```size``` ein Integer n übergeben wird, entspricht dies dem Tupel (n,).\n",
    "\n",
    "Folgende Beispiele verdeutlichen das Verhalten der Parameter:"
   ]
  },
  {
   "cell_type": "code",
   "execution_count": 72,
   "metadata": {},
   "outputs": [
    {
     "name": "stdout",
     "output_type": "stream",
     "text": [
      "Eine Integer-Zahl:  4\n",
      "\n",
      "Ein eindimensionales Array mit einem Element:\n",
      " [3]\n",
      "\n",
      "Ein eindimensionales Array mit zehn Elementen:\n",
      " [5 3 5 4 3 1 2 5 5 1]\n",
      "\n",
      "Wie eben, aber alternative size-Definition:\n",
      " [2 3 1 6 1 2 5 4 4 4]\n",
      "\n",
      "Zweidimensionales Array:\n",
      " [[3 5 2 5]\n",
      " [1 3 3 5]\n",
      " [1 2 4 3]\n",
      " [3 2 4 1]\n",
      " [6 3 2 3]]\n"
     ]
    }
   ],
   "source": [
    "import numpy as np\n",
    "\n",
    "print(\"Eine Integer-Zahl: \", \n",
    "      np.random.randint(1, 7))\n",
    "print(\"\\nEin eindimensionales Array mit einem Element:\\n\",\n",
    "      np.random.randint(1, 7, size=1))\n",
    "print(\"\\nEin eindimensionales Array mit zehn Elementen:\\n\", \n",
    "      np.random.randint(1, 7, size=10))\n",
    "print(\"\\nWie eben, aber alternative size-Definition:\\n\", \n",
    "      np.random.randint(1, 7, size=(10,))) \n",
    "print(\"\\nZweidimensionales Array:\\n\", \n",
    "      np.random.randint(1, 7, size=(5, 4)))"
   ]
  },
  {
   "cell_type": "markdown",
   "metadata": {},
   "source": [
    "\n",
    "Wir können das Würfeln mit dem Code ```np.random.randint(1, 7, size=1)``` aus dem NumPy-Modul simulieren oder anhand des Codes ```random.randint(1, 6)``` aus dem Standard-random-Modul. Wir nehmen an, dass unser Würfel fair ist, d.h. die Wahrscheinlichkeit für jede Seite bei 1/6 liegt. \n",
    "\n",
    "Wie können wir einen gezinkten Würfen simulieren? Die ```randint```-Methoden beider Module sind dafür nicht geeignet.\n",
    "Wir werden im Folgenden ein paar Funktionen schreiben, um das Problem zu lösen.\n",
    "\n",
    "Zunächst schauen wir uns weitere nützliche Funktionen des ```random```-Moduls an.\n",
    "\n",
    "<br><br>\n",
    "\n",
    "### Stichproben/Auswahlen\n",
    "\n",
    "\n",
    "<br>\n",
    "\n",
    "```choice``` ist eine weitere extrem nützliche Funktion des ```random```-Moduls. Sie kann genutzt werden, um aus einer nicht-leeren Sequenz ein zufälliges Element zu wählen.\n",
    "\n",
    "Sequenzen können beispielsweise Listen, Strings und Tupels sein, aber auch Iteratoren. Das bedeutet, wir sind in der Lage, aus einem String ein zufälliges Zeichen zu holen oder ein zufälliges Element aus einer Liste oder einem Tupel:"
   ]
  },
  {
   "cell_type": "code",
   "execution_count": 73,
   "metadata": {},
   "outputs": [
    {
     "name": "stdout",
     "output_type": "stream",
     "text": [
      "i\n",
      "scientist\n",
      "apples\n",
      "9\n"
     ]
    }
   ],
   "source": [
    "from random import choice\n",
    "\n",
    "professions = [\"scientist\", \"philosopher\", \"engineer\", \"priest\"]\n",
    "print(choice(\"abcdefghij\"))\n",
    "print(choice(professions))\n",
    "print(choice((\"apples\", \"bananas\", \"cherries\")))\n",
    "print(choice(range(10)))"
   ]
  },
  {
   "cell_type": "markdown",
   "metadata": {},
   "source": [
    "```choice``` liefert zufällig ein Objekt aus einer nicht-leeren Sequenz, wobei die Chancen für die Elemente, ausgewählt zu werden, gleichmäßig verteilt sind.\n",
    "So liegt die Chance für die Rückgabe von ```scientist``` beim Aufruf von ```choice(profession)``` bei 1/4.\n",
    "Das hat allerdings wenig mit der Realität zu tun. Um die Realität nachzubilden benötigen wir auch hier -- wie beim gezinkten Würfel -- eine gewichtete Auswahl.\n",
    "\n",
    "Wir definieren nun eine Funktion ```weighted_choice```, die wie ```random.choice``` ein zufälliges Element einer Sequenz zurückliefert, jedoch sind die Elemente der Sequenz gewichtet.\n",
    "\n",
    "<br>\n",
    "\n",
    "### Zufallsintervalle\n",
    "\n",
    "\n",
    "\n",
    "Bevor wir mit dem Design der gewichteten Auswahl beginnen, definieren wir eine Funktion ```find_interval(x, partition)```, die wir für unsere ```weighted_choice```-Funktion brauchen. ```find_interval``` erwartet zwei Argumente:\n",
    "\n",
    "- Einen numerischen Wert x\n",
    "- Eine Liste oder einen Tupel mit numerischen Werten p<sub>0</sub>, p<sub>1</sub>, p<sub>2</sub>, ... p<sub>n</sub>\n",
    "\n",
    "Die Funktion liefert i zurück, wenn p<sub>i</sub> < x < p<sub>i+1</sub>. -1 wird zurückgeliefert, wenn x kleiner als p<sub>0</sub> ist oder x größer oder gleich p<sub>n</sub> ist."
   ]
  },
  {
   "cell_type": "raw",
   "metadata": {},
   "source": [
    "<img width=\"95%\" src=\"../images/partitions_with_endpoints.webp\" srcset=\"../images/partitions_with_endpoints_600w.webp 600w,../images/partitions_with_endpoints_500w.webp 500w,../images/partitions_with_endpoints_400w.webp 400w,../images/partitions_with_endpoints_350w.webp 350w,../images/partitions_with_endpoints_300w.webp 300w\" alt=\"partitions\" />"
   ]
  },
  {
   "cell_type": "code",
   "execution_count": 74,
   "metadata": {},
   "outputs": [
    {
     "name": "stdout",
     "output_type": "stream",
     "text": [
      "-1, 0, 0, 1, 2, 2, 3, 4, 6, 6, -1, -1, "
     ]
    }
   ],
   "source": [
    "def find_interval(x, partition):\n",
    "    \"\"\" find_interval -> i\n",
    "        partition ist eine Sequenz von numerischen Werten\n",
    "        x ist eine Int- oder Float-Zahl\n",
    "        Bei dem Rückgabewert \"i\" handelt es sich um den Index\n",
    "        für den gilt partition[i] < x < partition[i+1], \n",
    "        falls solch ein Index existiert. -1 ansonsten\n",
    "    \"\"\"\n",
    "    \n",
    "    for i in range(0, len(partition)):\n",
    "        if x < partition[i]:\n",
    "            return i-1\n",
    "    return -1\n",
    "\n",
    "\n",
    "I = [0, 3, 5, 7.8, 9, 12, 13.8, 16]\n",
    "for x in [-1.3, 0, 0.1, 3.2, 5, 6.2, 7.9, 10.8, 13.9, 15, 16, 16.5]:\n",
    "    print(find_interval(x, I), end=\", \")"
   ]
  },
  {
   "cell_type": "markdown",
   "metadata": {},
   "source": [
    "<br><br>\n",
    "\n",
    "### Gewichtete Zufallsauswahl"
   ]
  },
  {
   "cell_type": "markdown",
   "metadata": {},
   "source": [
    "Jetzt können wir die ```weighted_choice```-Funktion definieren.\n",
    "Nehmen wir an, dass wir drei Gewichtungen haben, d.h. 1/5, 1/2 und 3/10. Wir bilden die kumulative Summe der Gewichtungen mit ```np.cumsum(weights)```."
   ]
  },
  {
   "cell_type": "code",
   "execution_count": 75,
   "metadata": {},
   "outputs": [
    {
     "name": "stdout",
     "output_type": "stream",
     "text": [
      "[0, 0.2, 0.7, 1.0]\n"
     ]
    }
   ],
   "source": [
    "import numpy as np\n",
    "\n",
    "weights = [0.2, 0.5, 0.3]\n",
    "cum_weights = [0] + list(np.cumsum(weights))\n",
    "print(cum_weights)"
   ]
  },
  {
   "cell_type": "markdown",
   "metadata": {},
   "source": [
    "Wenn wir eine Zufallszahl x zwischen 0 und 1 mit ```random.random()``` generieren, so ist die Wahrscheinlichkeit, dass x im Intervall ```[0, cum_weights[0])``` liegt, 1/5. Die Wahrscheinlichkeit, dass x im Intervall ```[cum_weights[0], cum_weights[1])``` liegt, ist 1/2. Letztlich ist die Wahrscheinlichkeit, dass x im Intervall ```[cum_weights[1], cum_weights[2])``` , bei 3/10.\n",
    "\n",
    "Jetzt sind Sie in der Lage, die grundlegende Idee zu verstehen, auf der ```weighted_choice``` basiert:"
   ]
  },
  {
   "cell_type": "code",
   "execution_count": 76,
   "metadata": {},
   "outputs": [],
   "source": [
    "import numpy as np\n",
    "\n",
    "def weighted_choice(sequence, weights):\n",
    "    \"\"\" \n",
    "    weighted_choice wählt ein Zufallselement aus \n",
    "    'sequence' aus unter Berücksichtigung der\n",
    "    List bzw. Tupel von Gewichten\n",
    "    \"\"\"\n",
    "    x = np.random.random()\n",
    "    cum_weights = [0] + list(np.cumsum(weights))\n",
    "    index = find_interval(x, cum_weights)\n",
    "    return sequence[index]\n"
   ]
  },
  {
   "cell_type": "markdown",
   "metadata": {},
   "source": [
    "**Beispiel:**\n",
    "\n",
    "Wir können die Funktion ```weighted_choice``` nun für die folgende Aufgabe verwenden:\n",
    "Stellen wir uns vor, dass wir einen gezinkten Würfel haben, sodass für die Wahrscheinlichkeiten des Auftretens der Augenzahlen 6 und 1 gilt:  P(6)=3/12 und P(1)=1/12. \n",
    "Die Wahrscheinlichkeit für alle anderen möglichen Ergebnisse sind gleich, d.h. P(2) = P(3) = P(4) = P(5) = p.\n",
    "Wir können p wie folgt ausrechnen mit\n",
    "\n",
    "```1 - P(1) - P(6) = 4 x p```\n",
    "\n",
    "Das entspricht\n",
    "\n",
    "```p = 1/6```\n",
    "\n",
    "Wie können wir diesen Würfel mit unserer ```weighted_choice```-Funktion simulieren?\n",
    "\n",
    "Wir rufen ```weighted_choice``` mit den Augenzahlen des Würfels und der Liste der korrespondierenden Gewichte auf. Jeder Aufruf entspricht einem Wurf des gezinkten Würfels.\n",
    "\n",
    "Wir sehen, dass nach 10.000 Würfen die geschätzte Wahrscheinlichkeit der Gewichtung entspricht"
   ]
  },
  {
   "cell_type": "code",
   "execution_count": 77,
   "metadata": {},
   "outputs": [
    {
     "name": "stdout",
     "output_type": "stream",
     "text": [
      "[0.0832, 0.1654, 0.1682, 0.169, 0.1697, 0.2445]\n"
     ]
    }
   ],
   "source": [
    "from collections import Counter\n",
    "\n",
    "faces_of_dice = [1, 2, 3, 4, 5, 6]\n",
    "weights = [1/12, 1/6, 1/6, 1/6, 1/6, 3/12]\n",
    "\n",
    "outcomes = []\n",
    "n = 10000\n",
    "for _ in range(n):\n",
    "    outcomes.append(weighted_choice(faces_of_dice, weights))\n",
    "\n",
    "c = Counter(outcomes)\n",
    "for key in c:\n",
    "    c[key] = c[key] / n\n",
    "    \n",
    "print(sorted(c.values()))\n"
   ]
  },
  {
   "cell_type": "markdown",
   "metadata": {},
   "source": [
    "Die Werte der Aufteilungs-Liste definieren die Intervalle, in denen wir den Wert x erwarten. Wenn der Wert x kleiner als p<sub>0</sub> oder grösser/gleich p<sub>n</sub>, liefern wir -1 zurück.\n",
    "\n",
    "Wir könnten unsere erste Unterteilung als ein Intervall von \n",
    " \n",
    "\n",
    "- &infin;\n",
    " \n",
    "bis p<sub>0</sub> definieren und 0 zurückliefern. Die letzte Unterteilung wäre dann ein Intervall von p<sub>n</sub> bis  \n",
    "&infin;.\n",
    "\n",
    "Um zwischen beiden Fällen unterscheiden zu können, erweitern wir die Funktion <code>find_interval</code> um den Parameter \"endpoints\". \"True\" entspricht unserem Eingangs erwähnten Vorgehen. \"False\" entspricht unserem soeben beschriebenen Fall.\n",
    "\n",
    "In anderen Worten - Wenn \"endpoints\" False ist, passiert folgendes:\n",
    "- i wird zurückgegeben wenn x kleiner als p<sub>i</sub> ist\n",
    "- len(partition) wird zurückgegeben, wenn x größer oder gleich p<sub>len(partition)-1</sub> ist.\n",
    "\n",
    "Wir demonstrieren dies im folgenden Diagramm:"
   ]
  },
  {
   "cell_type": "raw",
   "metadata": {},
   "source": [
    "<img width=\"95%\" src=\"../images/partitions_without_endpoints.webp\" srcset=\"../images/partitions_without_endpoints_600w.webp 600w,../images/partitions_without_endpoints_500w.webp 500w,../images/partitions_without_endpoints_400w.webp 400w,../images/partitions_without_endpoints_350w.webp 350w,../images/partitions_without_endpoints_300w.webp 300w\" alt=\"partitions without endpoints\" />"
   ]
  },
  {
   "cell_type": "markdown",
   "metadata": {},
   "source": [
    "Die neue Funktion sieht folgendermaßen aus:"
   ]
  },
  {
   "cell_type": "code",
   "execution_count": 78,
   "metadata": {},
   "outputs": [
    {
     "name": "stdout",
     "output_type": "stream",
     "text": [
      "Endpunkte sind inbegriffen:\n",
      "-1, 0, 0, 1, 2, 2, 3, 6, 6, -1, -1, \n",
      "Endpunkte sind nicht inbegriffen:\n",
      "0, 1, 1, 2, 3, 3, 4, 7, 7, 8, 8, "
     ]
    }
   ],
   "source": [
    "def find_interval(x, \n",
    "                  partition, \n",
    "                  endpoints=True):\n",
    "    \"\"\" \n",
    "    find_interval -> i\n",
    "    Falls endpoints gleich True ist, ist \"i\" der Index für den gilt\n",
    "    partition[i] < x < partition[i+1] gilt, falls solch ein Index \n",
    "    existiert. -1 otherwise\n",
    "        \n",
    "    Falls endpoints gleich False ist, ist \"i\" der kleinste\n",
    "    Index für den x < partition[i] gilt. Falls kein solcher\n",
    "    Index existiert, len(partition) auf i gesetzt.\n",
    "    \"\"\"\n",
    "    for i in range(0, len(partition)):\n",
    "        if x < partition[i]:\n",
    "            return i-1 if endpoints else i\n",
    "    return -1 if endpoints else len(partition)\n",
    "\n",
    "I = [0, 3, 5, 7.8, 9, 12, 13.8, 16]\n",
    "print(\"Endpunkte sind inbegriffen:\")\n",
    "for x in [-1.3, 0, 0.1, 3.2, 5, 6.2, 7.9, 13.9, 15, 16, 16.5]:\n",
    "    print(find_interval(x, I), end=\", \")\n",
    "print(\"\\nEndpunkte sind nicht inbegriffen:\")\n",
    "for x in [-1.3, 0, 0.1, 3.2, 5, 6.2, 7.9, 13.9, 15, 16, 16.5]:\n",
    "    print(find_interval(x, I, endpoints=False), end=\", \")\n"
   ]
  },
  {
   "cell_type": "markdown",
   "metadata": {},
   "source": [
    "<br><br>\n",
    "\n",
    "### Stichproben mit Python\n",
    "\n",
    "\n",
    "\n",
    "<br>\n",
    "\n",
    "Eine Sample oder Stichprobe kann als ein repräsentativer Teil einer größeren Gruppe angesehen werden, die wir \"Population\" nennen.\n",
    "\n",
    "Das Modul ```numpy.random``` beinhaltet die Funktion ```random_sample```, die zufällige Float-Werte im halb-offenen Intervall ```[0.0, 1.0)```  liefert. \n",
    "Die Ergebnisse sind gleichmäßig über das angegebene Intervall verteilt. Die Funktion erwartet lediglich einen Parameter ```size```, der die Shape der Ausgabe definiert.\n",
    "Wenn wir die ```size``` zum Beispiel mit (3, 4) angeben, erhalten wir ein Array mit der Shape (3, 4), das mit Zufallswerten gefüllt ist:"
   ]
  },
  {
   "cell_type": "code",
   "execution_count": 79,
   "metadata": {},
   "outputs": [
    {
     "name": "stdout",
     "output_type": "stream",
     "text": [
      "[[0.45711549 0.09158949 0.4548514  0.04671449]\n",
      " [0.96838841 0.1316467  0.09991307 0.71975092]\n",
      " [0.82073319 0.70767492 0.99399057 0.00218589]]\n"
     ]
    }
   ],
   "source": [
    "import numpy as np\n",
    "\n",
    "x = np.random.random_sample((3, 4))\n",
    "print(x)"
   ]
  },
  {
   "cell_type": "markdown",
   "metadata": {},
   "source": [
    "Wenn <code>random_sample</code> mit einem Integer-Wert aufgerufen wird, erhalten wir ein eindimensionales Array. Ein Integer-Wert bewirkt den gleichen Effekt, wie ein einfaches Tupel als Argument:"
   ]
  },
  {
   "cell_type": "code",
   "execution_count": 80,
   "metadata": {},
   "outputs": [
    {
     "name": "stdout",
     "output_type": "stream",
     "text": [
      "[0.85343344 0.89420157 0.86387465 0.62418901 0.01643744 0.53475791\n",
      " 0.75412648]\n",
      "[0.64027827 0.70709433 0.825084   0.18850273 0.0087134  0.58973563\n",
      " 0.07864032]\n"
     ]
    }
   ],
   "source": [
    "x = np.random.random_sample(7)\n",
    "print(x)\n",
    "\n",
    "y = np.random.random_sample((7,))\n",
    "print(y)\n"
   ]
  },
  {
   "cell_type": "markdown",
   "metadata": {},
   "source": [
    "Es können ebenfalls Arrays aus einem beliebigen Intervall ```[a, b)``` generiert werden, wobei ```a``` kleiner als ```b``` sein muss. Das kann wie folgt aussehen:\n",
    "\n",
    "```(b - a) * random_sample() + a```\n",
    "\n",
    "Beispiel:"
   ]
  },
  {
   "cell_type": "code",
   "execution_count": 81,
   "metadata": {},
   "outputs": [
    {
     "name": "stdout",
     "output_type": "stream",
     "text": [
      "[[-0.61985952  0.00678915  0.23543105  0.61122334]\n",
      " [-3.03073703 -1.49931968 -3.00836952 -2.79980084]\n",
      " [-0.41013124 -1.47345358 -1.23384511  1.05400615]]\n"
     ]
    }
   ],
   "source": [
    "a = -3.4\n",
    "b = 2\n",
    "\n",
    "A = (b - a) * np.random.random_sample((3, 4)) + a\n",
    "\n",
    "print(A)"
   ]
  },
  {
   "cell_type": "markdown",
   "metadata": {},
   "source": [
    "Das Standard-Modul ```random``` von Python hat eine allgemeinere Funktion ```sample```, die Stichproben einer Population produziert. Die Population ist eine Sequenz, also beispielsweise eine Liste, Menge oder ein String. \n",
    "\n",
    "Die Syntax von ```sample```:\n",
    "\n",
    "```sample(population, k)```\n",
    "\n",
    "Die Funktion erstellt eine Liste, die k Elemente aus der ```population``` beinhaltet.\n",
    "Die Ergebnisliste beinhaltet keine Duplikate, wenn in der Population keine Duplikate vorkommen.\n",
    "\n",
    "Wenn eine Sample aus einer Range von Integer-Werten ausgewählt werden soll, dann können -- oder besser sollten -- Sie ```range``` als Argument für die Population verwenden.\n",
    "\n",
    "Im folgenden Beispiel ziehen wir sechs Zahlen aus der Range zwischen 1 und 49 (inklusive). Das entspricht einer Lotto-Ziehung in Deutschland:"
   ]
  },
  {
   "cell_type": "code",
   "execution_count": 82,
   "metadata": {},
   "outputs": [
    {
     "name": "stdout",
     "output_type": "stream",
     "text": [
      "[13, 28, 26, 19, 36, 31]\n"
     ]
    }
   ],
   "source": [
    "import random\n",
    "\n",
    "print(random.sample(range(1, 50), 6))"
   ]
  },
  {
   "cell_type": "code",
   "execution_count": 83,
   "metadata": {},
   "outputs": [],
   "source": [
    "def weighted_sample(population, weights, k):\n",
    "    \"\"\" \n",
    "    weighted_sample zieht eine Zufallsstichprobe der\n",
    "    Länge k aus der Sequenz 'population' entsprechend\n",
    "    der Liste der Gewichte.\n",
    "    \"\"\"\n",
    "    sample = set()\n",
    "    population = list(population)\n",
    "    weights = list(weights)\n",
    "    while len(sample) < k:\n",
    "        choice = weighted_choice(population, weights)\n",
    "        sample.add(choice)\n",
    "        index = population.index(choice)\n",
    "        weights.pop(index)\n",
    "        population.remove(choice)\n",
    "        weights = [ x / sum(weights) for x in weights]\n",
    "    return list(sample)\n"
   ]
  },
  {
   "cell_type": "code",
   "execution_count": 84,
   "metadata": {},
   "outputs": [],
   "source": [
    "def weighted_sample_alternative(population, weights, k):\n",
    "    \"\"\" \n",
    "    weighted_sample zieht eine Zufallsstichprobe der\n",
    "    Länge k aus der Sequenz 'population' entsprechend\n",
    "    der Liste der Gewichte.\n",
    "    \"\"\"\n",
    "    sample = set()\n",
    "    population = list(population)\n",
    "    weights = list(weights)\n",
    "    while len(sample) < k:\n",
    "        choice = weighted_choice(population, weights)\n",
    "        if choice not in sample:\n",
    "            sample.add(choice)\n",
    "    return list(sample)"
   ]
  },
  {
   "cell_type": "markdown",
   "metadata": {},
   "source": [
    "Beispiel:\n",
    "\n",
    "Nehmen wir an, wir haben acht Zuckerstücke in den Farben rot, grün, blau, gelb, schwarz, weiß, pink und orange. Unser Freund Peter hat für die Farben die \"gewichteten\" Vorlieben 1/24, 1/6, 1/6, 1/12, 1/12, 1/24, 1/8, 7/24. Peter darf sich 3 Zuckerstücke aussuchen:"
   ]
  },
  {
   "cell_type": "code",
   "execution_count": 85,
   "metadata": {},
   "outputs": [
    {
     "name": "stdout",
     "output_type": "stream",
     "text": [
      "['pink', 'blue', 'orange']\n",
      "['pink', 'blue', 'orange']\n",
      "['black', 'pink', 'orange']\n",
      "['white', 'blue', 'orange']\n",
      "['red', 'yellow', 'white']\n",
      "['red', 'pink', 'yellow']\n",
      "['pink', 'blue', 'green']\n",
      "['white', 'green', 'orange']\n",
      "['black', 'blue', 'white']\n",
      "['black', 'green', 'orange']\n"
     ]
    }
   ],
   "source": [
    "balls = [\"red\", \"green\", \"blue\", \"yellow\", \"black\", \n",
    "         \"white\", \"pink\", \"orange\"]\n",
    "weights = [ 1/24, 1/6, 1/6, 1/12, 1/12, 1/24, 1/8, 7/24]\n",
    "for i in range(10):\n",
    "    print(weighted_sample(balls, weights, 3))"
   ]
  },
  {
   "cell_type": "markdown",
   "metadata": {},
   "source": [
    "Im Folgenden vergleichen wir die beiden Varianten, gewichtete Stichproben zu berechnen:"
   ]
  },
  {
   "cell_type": "code",
   "execution_count": 86,
   "metadata": {},
   "outputs": [
    {
     "name": "stdout",
     "output_type": "stream",
     "text": [
      "0.7135\n",
      "0.7154\n"
     ]
    }
   ],
   "source": [
    "n = 10000\n",
    "orange_counter = 0\n",
    "orange_counter_alternative = 0\n",
    "for i in range(n):\n",
    "    if \"orange\" in weighted_sample(balls, weights, 3):\n",
    "        orange_counter += 1\n",
    "    if \"orange\" in weighted_sample_alternative(balls, weights, 3):\n",
    "        orange_counter_alternative += 1 \n",
    "        \n",
    "print(orange_counter / n)\n",
    "print(orange_counter_alternative / n)"
   ]
  },
  {
   "cell_type": "markdown",
   "metadata": {},
   "source": [
    "<br><br>\n",
    "\n",
    "### Kartesische Auswahl\n",
    "\n",
    "\n",
    "\n",
    "Die Funktion ```cartesian_choice```, die wir im Folgenden definieren werden, ist nach dem Kartesischen Produkt aus der Mengenlehre benannt.\n",
    "\n",
    "\n",
    "#### Kartesisches Produkt\n",
    "\n",
    "\n",
    "\n",
    "Das kartesische Produkt, auch Mengenprodukt genannt, ist ein Konstruktionsprinzip, um aus Mengen eine neue Menge zu konstruieren.   \n",
    "\n",
    "Für zwei Mengen ```A``` und ```B``` ist das kartesische Produkt ```A x B``` die Menge aller geordneten Paare ```(a, b)```, für die ```a ∈ A``` und ```b ∈ B``` gilt:\n",
    "\n",
    "\n",
    "\n",
    "```A x B = { (a, b) | a &isin; A and  b &isin; B }```\n",
    "\n",
    "\n",
    "\n",
    "Ganz allgemein besteht das kartesische Produkt mehrerer Mengen aus der Menge aller Tupel von Elementen der Mengen, wobei die Reihenfolge der Mengen und damit der entsprechenden Elemente fest vorgegeben ist. Die Ergebnismenge des kartesischen Produkts wird auch Produktmenge, Kreuzmenge oder Verbindungsmenge genannt. \n",
    "\n",
    "\n",
    "\n",
    "Wenn wir n Mengen haben A<sub>1</sub>,  A<sub>2</sub>, ... A<sub>n</sub>, können wir das kartesische Produkt entsprechend  wie folgt bilden:\n",
    "\n",
    "A<sub>1</sub> x A<sub>2</sub> x ... x A<sub>n</sub> = { (a<sub>1</sub>,  a<sub>2</sub>, ... a<sub>n</sub>) | a<sub>1</sub> &isin; A<sub>1</sub>, \n",
    "a<sub>2</sub> &isin; A<sub>2</sub>, ... a<sub>n</sub> &isin; A<sub>n</sub>]\n",
    "\n",
    "Das kartesische Produkt aus n Mengen wird manchmal auch n-faches kartesisches Produkt genannt.\n",
    "\n",
    "#### Kartesische Auswahl: cartesian_choice\n",
    "\n",
    "\n",
    "Wir schreiben nun eine Funktion ```cartesian_choice```, die eine beliebige Anzahl von iterierbaren Argumenten erwartet und eine Liste zurückliefert, die eine zufällige Auswahl von jedem Iterator in der entsprechenden Reihenfolge beinhaltet.\n",
    "\n",
    "Aus mathematischer Sicht können wir das Ergebnis der Funktion ```cartesian_choice``` als Element des kartesischen Produkts der übergebenen iterierbaren Argumente ansehen."
   ]
  },
  {
   "cell_type": "code",
   "execution_count": 87,
   "metadata": {},
   "outputs": [
    {
     "data": {
      "text/plain": [
       "['A', 'red', 'house', 'blinks']"
      ]
     },
     "execution_count": 87,
     "metadata": {},
     "output_type": "execute_result"
    }
   ],
   "source": [
    "import random\n",
    "\n",
    "def cartesian_choice(*iterables):\n",
    "    \"\"\"\n",
    "    cartesian_choice erzeugt eine Liste deren i-tes Element \n",
    "    einer zufälligen Auswahl aus dem i-ten Eingabeargument entspricht.\n",
    "    Die Ergebnisliste kann als kartesisches Produkt über die iterierbaren\n",
    "    Eingabeobjekte gesehen werden.\n",
    "    \"\"\"\n",
    "    res = []\n",
    "    for population in iterables:\n",
    "        res.append(random.choice(population))\n",
    "    return res\n",
    "\n",
    "\n",
    "cartesian_choice([\"The\", \"A\"],\n",
    "                 [\"red\", \"green\", \"blue\", \"yellow\", \"grey\"], \n",
    "                 [\"car\", \"house\", \"fish\", \"light\"],\n",
    "                 [\"smells\", \"dreams\", \"blinks\"])\n"
   ]
  },
  {
   "cell_type": "markdown",
   "metadata": {},
   "source": [
    "Wir definieren nun eine gewichtete Version der vorher definierten Funktion:"
   ]
  },
  {
   "cell_type": "code",
   "execution_count": 88,
   "metadata": {},
   "outputs": [
    {
     "name": "stdout",
     "output_type": "stream",
     "text": [
      "It may or may not be true:\n",
      "No green Python thinks of happiness.\n",
      "Each yellow Python smells of happiness.\n",
      "The red elephant thinks of happiness.\n",
      "The blue programming language smells of challenges.\n",
      "No green door smells of chocolate.\n",
      "A green fish dreams of wisdom.\n",
      "The green programming language consists of chocolate.\n",
      "No red programming language is made of happiness.\n",
      "The yellow door thinks of air.\n",
      "The grey programming language is made of challenges.\n"
     ]
    }
   ],
   "source": [
    "import random\n",
    "\n",
    "def weighted_cartesian_choice(*iterables):\n",
    "    \"\"\"\n",
    "    weighted_cartesian_choice liefert eine Liste mit\n",
    "    gewichteten Auswahlen aus den iterierbaren Eingabeobjekten\n",
    "    unter Wahrung der Reihenfolge.\n",
    "    \"\"\"\n",
    "    res = []\n",
    "    for population, weight in iterables:\n",
    "        lst = weighted_choice(population, weight)\n",
    "        res.append(lst)\n",
    "    return res\n",
    "\n",
    "determiners = ([\"The\", \"A\", \"Each\", \"Every\", \"No\"], \n",
    "               [0.3, 0.3, 0.1, 0.1, 0.2])\n",
    "colours = ([\"red\", \"green\", \"blue\", \"yellow\", \"grey\"], \n",
    "           [0.1, 0.3, 0.3, 0.2, 0.2])\n",
    "nouns = ([\"door\", \"elephant\", \"fish\", \"light\", \n",
    "          \"programming language\", \"Python\"], \n",
    "         [0.2, 0.2, 0.1, 0.1, 0.3, 0.1])\n",
    "nouns2 = ([\"of happiness\", \"of chocolate\", \"of wisdom\", \n",
    "           \"of challenges\", \"of air\"], \n",
    "         [0.5, 0.2, 0.1, 0.1, 0.1])\n",
    "verb_phrases = ([\"smells\", \"dreams\", \"thinks\", \n",
    "                 \"is made\", \"consists\"], \n",
    "         [0.1, 0.3, 0.3, 0.2, 0.1])\n",
    "\n",
    "print(\"It may or may not be true:\")\n",
    "for i in range(10):\n",
    "    res = weighted_cartesian_choice(determiners,\n",
    "                                    colours,\n",
    "                                    nouns,\n",
    "                                    verb_phrases,\n",
    "                                    nouns2)\n",
    "    print(\" \".join(res) + \".\")\n"
   ]
  },
  {
   "cell_type": "markdown",
   "metadata": {},
   "source": [
    "In der folgenden Version prüfen wir, ob alle \"Wahrscheinlichkeiten\" korrekt sind:"
   ]
  },
  {
   "cell_type": "code",
   "execution_count": 89,
   "metadata": {},
   "outputs": [
    {
     "name": "stdout",
     "output_type": "stream",
     "text": [
      "It may or may not be true:\n",
      "dreams 0.3057\n",
      "thinks 0.1981\n",
      "smells 0.3928\n",
      "is made of 0.1034\n"
     ]
    }
   ],
   "source": [
    "import random\n",
    "\n",
    "def weighted_cartesian_choice(*iterables):\n",
    "    \"\"\"\n",
    "    weighted_cartesian_choice liefert eine Liste mit\n",
    "    gewichteten Auswahlen aus den iterierbaren Eingabeobjekten\n",
    "    unter Wahrung der Reihenfolge.\n",
    "    \"\"\"\n",
    "    res = []\n",
    "    for population, weight in iterables:\n",
    "        lst = weighted_choice(population, weight)\n",
    "        res.append(lst)\n",
    "    return res\n",
    "\n",
    "determiners = ([\"The\", \"A\", \"Each\", \"Every\", \"No\"], \n",
    "               [0.3, 0.3, 0.1, 0.1, 0.2])\n",
    "colours = ([\"red\", \"green\", \"blue\", \"yellow\", \"grey\"], \n",
    "           [0.1, 0.3, 0.3, 0.2, 0.2])\n",
    "nouns = ([\"water\", \"elephant\", \"fish\", \"light\", \"programming language\"], \n",
    "         [0.3, 0.2, 0.1, 0.1, 0.3])\n",
    "nouns2 = ([\"of happiness\", \"of chocolate\", \"of wisdom\", \n",
    "           \"of challenges\", \"of air\"], \n",
    "         [0.5, 0.2, 0.1, 0.1, 0.1])\n",
    "verb_phrases = ([\"smells\", \"dreams\", \"thinks\", \"is made of\"], \n",
    "         [0.4, 0.3, 0.2, 0.1])\n",
    "\n",
    "print(\"It may or may not be true:\")\n",
    "sentences = []\n",
    "for i in range(10000):\n",
    "    res = weighted_cartesian_choice(determiners,\n",
    "                                    colours,\n",
    "                                    nouns,\n",
    "                                    verb_phrases,\n",
    "                                    nouns2)\n",
    "    sentences.append(\" \".join(res) + \".\")\n",
    "\n",
    "words = [\"smells\", \"dreams\", \"thinks\", \"is made of\"]\n",
    "from collections import Counter\n",
    "c = Counter()\n",
    "for sentence in sentences:\n",
    "    for word in words:\n",
    "        if word in sentence:\n",
    "            c[word] += 1\n",
    "  \n",
    "wsum = sum(c.values())\n",
    "for key in c:\n",
    "    print(key, c[key] / wsum)\n",
    "\n",
    "\n"
   ]
  },
  {
   "cell_type": "markdown",
   "metadata": {},
   "source": [
    "### Echte Zufallszahlen\n",
    "\n",
    "\n",
    "\n",
    "Zur Erzeugung echter Zufallszahlen kann man physikalische Phänomene nutzen. Man kann sie aus radioaktiven Zerfallsprozessen oder dem Rauschen elektronischer Bauelemente gewinnen. Aber es geht auch einfacher. Beispielsweise durch Werfen einer oder mehrerer Münzen oder unter Benutzung von Würfeln. Diese Verfahren sind jedoch einerseits zeitaufwendig oder technisch kompliziert zu bewerkstelligen. \n",
    "\n",
    "Wie wir bereits geschrieben haben, liefert das random-Modul von Python keine \"echten\" oder \"wahren\" Zufallszahlen. Die meisten Programme liefern nur Zufallszahlen, die pseudozufällig sind. Die Zahlen werden in einer vorhersehbaren Art generiert, weil der verwendete Algorithmus deterministisch ist. Pseudozufallszahlen sind für viele Situation gut genug, aber sie sind nicht \"wirklich\" zufällig, wenn man beispielsweise Würfel- oder Lotterie-Ziehungen simulieren will.\n",
    "\n",
    "\n",
    "\n",
    "Die Webseite [RANDOM.ORG](http://www.random.org) erhebt den Anspruch \"wahre\" Zufallszahlen zu generieren. Sie nutzen die Zufälligkeit aus atmosphärischen Geräuschen. Diese Zahlen sind für viele Anwendungen besser als die pseudozufälligen Zahlen aus einem Algorithmus in Computer-Programmen.\n",
    "\n",
    "\n",
    "\n",
    "<br><br>\n",
    "\n",
    "### Seed/Startwert\n",
    "\n",
    "\n",
    "\n",
    "\n",
    "\n",
    "\n",
    "\n",
    "<img width=\"30%\" class=\"imgright\" src=\"../images/random_seed.webp\" srcset=\"../images/random_seed_350w.webp 350w,../images/random_seed_300w.webp 300w\" alt=\"Random Seed\" />\n",
    ""
   ]
  },
  {
   "cell_type": "markdown",
   "metadata": {},
   "source": [
    "Unter einem \"Seed Key\" oder einfach nur Seed (deutsch wörtlich \"Saatschlüssel\") versteht man einen Wert, mit dem ein Zufallszahlengenerator initialisiert wird. Deshalb bezeichnet man ihn häufig auch als Startwert einer Zufallsfolge. Der Zufallszahlengenerator erzeugt mit der Seed als Startwert eine Folge von Zufallszahlen bzw. Pseudozufallszahlen. Startet man einen Algorithmus mit dem gleichen Seed-Wert, erhält man auch exakt die gleichen Pseudozufallszahlen.\n",
    "\n",
    "Verwendet man Zufallszahlen in der Kryptographie, um damit verschlüsselte Daten zu erzeugen, so möchte man normalerweise nicht, dass die Seed erraten werden kann. In diesem Fall sollte die Seed ein Zufallswert sein. Diesen kann man beispielsweise in einem Programm durch das Hin- und Herbewegen einer Maus erzeugen. \n",
    "\n",
    "Wenn wir ```random.random()``` aufrufen, so erwarten wir einen Zufallswert zwischen 0 und 1. ```random.random()``` berechnet einen neuen Zufallswert anhand des vorangegangenen Zufallswertes. Wie sieht es aber aus, wenn wir diese Funktion zum ersten Mal in unserem Programm verwenden? Genau, dann gibt es noch keinen vorangegangenen Zufallswert. Wenn ein Zufallgenerator zum ersten Mal aufgerufen wird, so muss der erste \"Zufalls\"-Wert irgendwie erzeugt werden.\n",
    "\n",
    "Setzt man den Startwert, also die Seed, eines Pseudo-Zufallszahlen-Generators, so stellt man einen ersten Zufallswert zur Verfügung. Aus diesem wird dann deterministisch eine Sequenz von weiteren Zufallswerten generiert. Startet man wieder eine Zufallsfolge mit dem gleichen Startwert, so erhält man wieder exakt dieselbe Folge von Werten. Kennt man also den Startwert, kann man auch die aus diesem erzeugten verschlüsselten Werte berechnen.\n",
    "\n",
    "Geht es also um Sicherheit, braucht man einen Weg, einen echten Zufallswert als Startwert zu verwenden. \n",
    "\n",
    "Zufällige Startwerte werden in vielen Programmiersprachen anhand des Systemstatus generiert, der meistens der Systemzeit entspricht.\n",
    "\n",
    "Für Python trifft dies ebenfalls zu. ```help(random.seed)``` sagt, dass wenn die Funktion mit ```None``` oder keinem Argument aufgerufen wird, der Seedwert aus der aktuellen Systemzeit oder einer anderen systemspezifischen Zufallsquelle generiert wird."
   ]
  },
  {
   "cell_type": "code",
   "execution_count": 90,
   "metadata": {},
   "outputs": [
    {
     "name": "stdout",
     "output_type": "stream",
     "text": [
      "Help on method seed in module random:\n",
      "\n",
      "seed(a=None, version=2) method of random.Random instance\n",
      "    Initialize internal state from hashable object.\n",
      "    \n",
      "    None or no argument seeds from current time or from an operating\n",
      "    system specific randomness source if available.\n",
      "    \n",
      "    If *a* is an int, all bits are used.\n",
      "    \n",
      "    For version 2 (the default), all of the bits are used if *a* is a str,\n",
      "    bytes, or bytearray.  For version 1 (provided for reproducing random\n",
      "    sequences from older versions of Python), the algorithm for str and\n",
      "    bytes generates a narrower range of seeds.\n",
      "\n"
     ]
    }
   ],
   "source": [
    "# prog4web\n",
    "import random\n",
    "\n",
    "help(random.seed)"
   ]
  },
  {
   "cell_type": "markdown",
   "metadata": {},
   "source": [
    "\n",
    "\n",
    "Die ```seed```-Funktion liefert eine deterministische Sequenz von Zufallszahlen. Die Sequenz kann beliebig wiederholt werden, um beispielsweise bestimmte Situationen zu debuggen."
   ]
  },
  {
   "cell_type": "code",
   "execution_count": 91,
   "metadata": {},
   "outputs": [
    {
     "name": "stdout",
     "output_type": "stream",
     "text": [
      "2, 1, 5, 4, 4, 3, 2, 9, 2, 10, \n",
      "Nochmals die selben Zufallszahlen:\n",
      "2, 1, 5, 4, 4, 3, 2, 9, 2, 10, "
     ]
    }
   ],
   "source": [
    "import random\n",
    "\n",
    "random.seed(42)\n",
    "\n",
    "for _ in range(10):\n",
    "    print(random.randint(1, 10), end=\", \")\n",
    "    \n",
    "print(\"\\nNochmals die selben Zufallszahlen:\")\n",
    "random.seed(42)\n",
    "for _ in range(10):\n",
    "    print(random.randint(1, 10), end=\", \")\n"
   ]
  },
  {
   "cell_type": "markdown",
   "metadata": {},
   "source": [
    "<br><br>\n",
    "\n",
    "### Gauss'sche Normalverteilung\n",
    "\n",
    "\n",
    "\n",
    "Bei ```random.gauss``` und ```random.normalvariate``` handelt es sich um zwei verschiedene Implementierungen von Funktionen, die jeweils normalverteilte Zufallszahlen zurückliefern. \n",
    "\n",
    "\n",
    "\n",
    "\n",
    "Wir möchten nun 1000 Zufallszahlen zwischen 130 und 230 generieren die eine Gausssche Verteilung aufweisen mit dem Hauptwert ```mu = 550``` und eine Standardabweichung von ```sigma = 30```.\n",
    "\n",
    "Wenn wir uns die help-Information anschauen, sehen wir, dass der wesentliche Unterschied darin besteht, dass ```gauss``` etwas schneller ist und nicht Thread-sicher, während ```random.normalvariate``` Thread-sicher ist."
   ]
  },
  {
   "cell_type": "code",
   "execution_count": 92,
   "metadata": {},
   "outputs": [
    {
     "name": "stdout",
     "output_type": "stream",
     "text": [
      "Help on method normalvariate in module random:\n",
      "\n",
      "normalvariate(mu, sigma) method of random.Random instance\n",
      "    Normal distribution.\n",
      "    \n",
      "    mu is the mean, and sigma is the standard deviation.\n",
      "\n",
      "Help on method gauss in module random:\n",
      "\n",
      "gauss(mu, sigma) method of random.Random instance\n",
      "    Gaussian distribution.\n",
      "    \n",
      "    mu is the mean, and sigma is the standard deviation.  This is\n",
      "    slightly faster than the normalvariate() function.\n",
      "    \n",
      "    Not thread-safe without a lock around calls.\n",
      "\n"
     ]
    }
   ],
   "source": [
    "import random\n",
    "\n",
    "help(random.normalvariate)\n",
    "help(random.gauss)"
   ]
  },
  {
   "cell_type": "markdown",
   "metadata": {},
   "source": [
    "Wir berechnen uns nun mittels der Funktion ```gauss``` 1000 Zufallzahlen mit einem Mittelwert von 180 und einer Standardabweichung von 30:"
   ]
  },
  {
   "cell_type": "code",
   "execution_count": 93,
   "metadata": {},
   "outputs": [
    {
     "data": {
      "text/plain": [
       "[173, 183, 186, 214, 199, 183, 157]"
      ]
     },
     "execution_count": 93,
     "metadata": {},
     "output_type": "execute_result"
    }
   ],
   "source": [
    "from random import gauss\n",
    "\n",
    "n = 1000\n",
    "\n",
    "values = []\n",
    "frequencies = {}\n",
    "\n",
    "while len(values) < n:\n",
    "    value = int(gauss(180, 30))\n",
    "    if 130 < value < 230:\n",
    "        frequencies[value] = frequencies.get(value, 0) + 1\n",
    "        values.append(value)\n",
    "values[:7]    "
   ]
  },
  {
   "cell_type": "markdown",
   "metadata": {},
   "source": [
    "Das folgende Programm zeichnet die Zufallswerte, die wir soeben generiert haben. Wir haben das Modul ```matplotlib``` bis jetzt noch nicht behandelt. Das ist aber für das Verständnis des folgenden Codes nicht unbedingt notwendig:"
   ]
  },
  {
   "cell_type": "code",
   "execution_count": 94,
   "metadata": {},
   "outputs": [
    {
     "data": {
      "image/png": "[encoded data removed]",
      "text/plain": [
       "<Figure size 1800x1200 with 1 Axes>"
      ]
     },
     "metadata": {
      "needs_background": "light"
     },
     "output_type": "display_data"
    }
   ],
   "source": [
    "import matplotlib.pyplot as plt\n",
    "\n",
    "freq = list(frequencies.items())\n",
    "freq.sort()\n",
    "\n",
    "\n",
    "plt.plot(*list(zip(*freq)))\n",
    "plt.show()"
   ]
  },
  {
   "cell_type": "markdown",
   "metadata": {},
   "source": [
    "Wir können dies natürlich auch mit der Funktion ```normalvariate``` durchführen:"
   ]
  },
  {
   "cell_type": "code",
   "execution_count": 95,
   "metadata": {},
   "outputs": [
    {
     "data": {
      "image/png": "[encoded data removed]",
      "text/plain": [
       "<Figure size 1800x1200 with 1 Axes>"
      ]
     },
     "metadata": {
      "needs_background": "light"
     },
     "output_type": "display_data"
    }
   ],
   "source": [
    "from random import normalvariate\n",
    "\n",
    "n = 1000\n",
    "\n",
    "values = []\n",
    "frequencies = {}\n",
    "\n",
    "while len(values) < n:\n",
    "    value = int(normalvariate(180, 30))\n",
    "    if 130 < value < 230:\n",
    "        frequencies[value] = frequencies.get(value, 0) + 1\n",
    "        values.append(value)\n",
    "\n",
    "freq = list(frequencies.items())\n",
    "freq.sort()\n",
    "\n",
    "\n",
    "plt.plot(*list(zip(*freq)))\n",
    "plt.show()"
   ]
  },
  {
   "cell_type": "markdown",
   "metadata": {},
   "source": [
    "<br><br>\n",
    "\n",
    "### Übung mit Binärsender"
   ]
  },
  {
   "cell_type": "markdown",
   "metadata": {},
   "source": [
    "Es ist vielleicht keine schlechte Idee, folgende Funktion als Übung selbst zu schreiben.\n",
    "Die Funktion soll mit einem Parameter p aufgerufen werden, der einen Wahrscheinlichkeitswert zwischen 0 und 1 beinhaltet. Die Funktion liefert eine 1 mit der Wahrscheinlichkeit von p, d.h. in p Prozent der Fälle werden 1en zurückgegeben und 0en in (1-p) Prozent der Fälle:"
   ]
  },
  {
   "cell_type": "code",
   "execution_count": 96,
   "metadata": {},
   "outputs": [],
   "source": [
    "import random\n",
    "\n",
    "def random_ones_and_zeros(p):\n",
    "    \"\"\" p: probability 0 <= p <= 1\n",
    "        returns a 1 with the probability p\n",
    "    \"\"\"\n",
    "    x = random.random()\n",
    "    if x < p:\n",
    "        return 1\n",
    "    else:\n",
    "        return 0\n",
    "    "
   ]
  },
  {
   "cell_type": "markdown",
   "metadata": {},
   "source": [
    "Wir testen unsere kleine Funktion:"
   ]
  },
  {
   "cell_type": "code",
   "execution_count": 97,
   "metadata": {},
   "outputs": [
    {
     "data": {
      "text/plain": [
       "0.800606"
      ]
     },
     "execution_count": 97,
     "metadata": {},
     "output_type": "execute_result"
    }
   ],
   "source": [
    "n = 1000000\n",
    "sum(random_ones_and_zeros(0.8) for i in range(n)) / n"
   ]
  },
  {
   "cell_type": "markdown",
   "metadata": {},
   "source": [
    "Eine weitere gute Idee ist es, die Aufgabe mit einem Generator zu implementieren.\n",
    "\n",
    "Sollten Sie nicht mit der Arbeitsweise eines Python-Generators vertraut sein, empfehlen wir unser [Kapitel zu Generatoren und Iteratoren](python3_generatoren.php) aus dem Python-Tutorial.\n",
    ""
   ]
  },
  {
   "cell_type": "code",
   "execution_count": 98,
   "metadata": {},
   "outputs": [],
   "source": [
    "import random\n",
    "\n",
    "def random_ones_and_zeros(p):\n",
    "    while True:\n",
    "        x = random.random()\n",
    "        yield 1 if x < p else 0\n",
    "        \n",
    "def firstn(generator, n):\n",
    "    for i in range(n):\n",
    "        yield next(generator)"
   ]
  },
  {
   "cell_type": "code",
   "execution_count": 99,
   "metadata": {},
   "outputs": [
    {
     "data": {
      "text/plain": [
       "0.799768"
      ]
     },
     "execution_count": 99,
     "metadata": {},
     "output_type": "execute_result"
    }
   ],
   "source": [
    "n = 1000000\n",
    "\n",
    "firstn_values = firstn(random_ones_and_zeros(0.8), n)\n",
    "sum(x for x in firstn_values) / n"
   ]
  },
  {
   "cell_type": "markdown",
   "metadata": {},
   "source": [
    "\n",
    "\n",
    "<img width=350 class=\"imgright\" src=\"../images/lighthouses_bitstreams.webp\" srcset=\"../images/lighthouses_bitstreams_700w.webp 700w,../images/lighthouses_bitstreams_600w.webp 600w,../images/lighthouses_bitstreams_500w.webp 500w,../images/lighthouses_bitstreams_400w.webp 400w,../images/lighthouses_bitstreams_350w.webp 350w,../images/lighthouses_bitstreams_300w.webp 300w\" alt=\"Bitstreams Lighthouses\" />\n",
    "\n",
    "\n",
    "Unser 0en-und-1en-Generator kann wie ein Sender betrachtet werden, der 0en und 1en mit einer Wahrscheinlichkeit von p, respektive (1-p), abgibt.\n",
    "\n",
    "Wir schreiben nun einen anderen Generator, der diesen Bitstrom empfängt.\n",
    "Die Aufgabe dieses neuen Generators ist es, den Bitstrom zu lesen und einen anderen Bitstrom aus 0en und 1en zu erzeugen mit einer Wahrscheinlichkeit von 0.5, ohne die Wahrscheinlichkeit p zu kennen.\n",
    "Es sollte für jeden beliebigen Wert p funktionieren.\n",
    "\n",
    "\n",
    "<sup>1</sup>\n",
    ""
   ]
  },
  {
   "cell_type": "code",
   "execution_count": 100,
   "metadata": {},
   "outputs": [],
   "source": [
    "def ebitter(bitstream):\n",
    "    while True:\n",
    "        bit1 = next(bitstream)\n",
    "        bit2 = next(bitstream)\n",
    "        if bit1 + bit2 == 1:\n",
    "            bit3 = next(bitstream)\n",
    "            if bit2 + bit3 == 1:\n",
    "                yield 1\n",
    "            else:\n",
    "                yield 0\n",
    "        "
   ]
  },
  {
   "cell_type": "code",
   "execution_count": 101,
   "metadata": {},
   "outputs": [],
   "source": [
    "def ebitter2(bitstream):\n",
    "    bit1 = next(bitstream)\n",
    "    bit2 = next(bitstream)\n",
    "    bit3 = next(bitstream)\n",
    "    while True:\n",
    "        if bit1 + bit2 == 1:\n",
    "            if bit2 + bit3 == 1:\n",
    "                yield 1\n",
    "            else:\n",
    "                yield 0\n",
    "        bit1, bit2, bit3 = bit2, bit3, next(bitstream)"
   ]
  },
  {
   "cell_type": "code",
   "execution_count": 102,
   "metadata": {},
   "outputs": [
    {
     "data": {
      "text/plain": [
       "0.499749"
      ]
     },
     "execution_count": 102,
     "metadata": {},
     "output_type": "execute_result"
    }
   ],
   "source": [
    "n = 1000000\n",
    "sum(x for x in firstn(ebitter(random_ones_and_zeros(0.8)), n)) / n"
   ]
  },
  {
   "cell_type": "code",
   "execution_count": 103,
   "metadata": {},
   "outputs": [
    {
     "data": {
      "text/plain": [
       "0.500011"
      ]
     },
     "execution_count": 103,
     "metadata": {},
     "output_type": "execute_result"
    }
   ],
   "source": [
    "n = 1000000\n",
    "sum(x for x in firstn(ebitter2(random_ones_and_zeros(0.8)), n)) / n"
   ]
  },
  {
   "cell_type": "markdown",
   "metadata": {},
   "source": [
    "**Grundlagen der Theorie:**\n",
    "\n",
    "Unser erster Generator erzeugt einen Bitstrom B<sub>0</sub>, B<sub>1</sub>, B<sub>2</sub>,...\n",
    "\n",
    "Wir prüfen nun ein beliebiges Paar aufeinanderfolgender Bits B<sub>i</sub>, B<sub>i+1</sub>,...\n",
    "\n",
    "Ein solches Paar kann die Werte 01, 10, 00 oder 11 haben. Die Wahrscheinlichkeit p(01) = (p-1) x p und die Wahrscheinlichkeit p(10) = p x (p-1) ergibt eine kombinierte Wahrscheinlichkeit, dass die aufeinanderfolgenden Bits entweder 01 oder 10 sind, von 2 x (p-1) x p.\n",
    "\n",
    "Betrachten wir ein anderes Bit B<sub>i+2</sub>.\n",
    "Wie ist die Wahrscheinlichkeit dieser beiden\n",
    "\n",
    "B<sub>i</sub> + B<sub>i+1</sub> = 1\n",
    "\n",
    "und \n",
    "\n",
    "B<sub>i+1</sub> + B<sub>i+2</sub> = 1  ?\n",
    "\n",
    "Die möglichen Ausgaben passen auf die Bedingungen, und die zugehörigen Wahrscheinlichkeiten sind in der folgenden Tabelle aufgeführt:\n",
    "\n",
    "<br>\n",
    "<!-- table_width: 0.5 column_lines: False row_lines: False -->\n",
    "    \n",
    "| Wahrscheinlichkeit  |  B<sub>i</sub> | B<sub>i+1</sub> | B<sub>i+2</sub> |\n",
    "|:------------|----------|------|------|\n",
    "|p<sup>2</sup> x (1-p)|0|1|0|\n",
    "|p x (1 - p)<sup>2</sup>|1|0|1|\n",
    "\n",
    "\n"
   ]
  },
  {
   "cell_type": "markdown",
   "metadata": {},
   "source": [
    "Wir bezeichnen das Ergebnis sum(B<sub>i</sub>, B<sub>i+1</sub>)=1 als X<sub>1</sub> und entsprechend dazu sum(B<sub>i+1</sub>, B<sub>i+2</sub>)=1 als X<sub>2</sub>.\n",
    "\n",
    "Die verknüpfte Wahrscheinlichkeit P(X<sub>1</sub>, X<sub>2</sub>) = p<sup>2</sup> x (1-p) + p x (1 - p)<sup>2</sup> kann zu p x (1-p) umgestellt werden.\n",
    "\n",
    "Die bedingte Wahrscheinlichkeit von X<sub>2</sub> gibt X<sub>1</sub>:\n",
    "\n",
    "P(X<sub>2</sub> | X<sub>1</sub>) = P(X<sub>1</sub>, X<sub>2</sub>) / P(X<sub>2</sub>)\n",
    "\n",
    "P(X<sub>2</sub> | X<sub>1</sub>) =  p x (1-p)  /  2 x p x (1-p) = 1 / 2"
   ]
  },
  {
   "cell_type": "markdown",
   "metadata": {},
   "source": [
    "<br><br>\n",
    "\n",
    "### Synthetische Verkaufszahlen\n",
    "\n",
    "\n",
    "In diesem Unterkapitel geht es um die synthetische Erzeugung von Daten. Dazu erzeugen wir eine Datei mit Verkaufszahlen einer fiktiven Kette von Geschäften in diversen europäischen Städten.\n",
    "\n",
    "Wir beginnen mit einem Array ```sales``` mit Verkaufszahlen für das Jahr 1997:"
   ]
  },
  {
   "cell_type": "code",
   "execution_count": 104,
   "metadata": {},
   "outputs": [],
   "source": [
    "import numpy as np\n",
    "\n",
    "sales = np.array([1245.89, 2220.00, 1635.77, 1936.25, 1002.03, \n",
    "                  2099.13,  723.99, 990.37, 541.44, 1765.00, \n",
    "                  1802.84, 1999.00])"
   ]
  },
  {
   "cell_type": "markdown",
   "metadata": {},
   "source": [
    "Das Ziel ist, eine kommaseparierte Liste zu erzeugen, wie wir sie aus Excel kennen. Die Datei soll fiktive Verkaufszahlen für unsere nicht-existierenden Ladenlokale für die Jahre von 1997 bis 2018 enthalten.\n",
    "\n",
    "Wir fügen für jedes Jahr den Verkaufszahlen noch zufällige Werte hinzu. Dafür konstruieren wir ein Array mit Wachstumsraten. Die Wachstumsraten können variieren zwischen einem minimalen Prozent-Wert (```min_percent```) und einem maximalen Prozent-Wert (```max_percent```):"
   ]
  },
  {
   "cell_type": "code",
   "execution_count": 105,
   "metadata": {},
   "outputs": [
    {
     "name": "stdout",
     "output_type": "stream",
     "text": [
      "[0.76709447 0.31841101 0.64330855 0.13591889 0.09436673 0.2097398\n",
      " 0.02373195 0.25975183 0.87423196 0.32085012 0.06566312 0.04253395]\n",
      "[1.04136756 1.00547288 1.03146468 0.99087351 0.98754934 0.99677918\n",
      " 0.98189856 1.00078015 1.04993856 1.00566801 0.98525305 0.98340272]\n"
     ]
    }
   ],
   "source": [
    "min_percent = 0.98  # corresponds to 0.98 %\n",
    "max_percent = 1.06   # 6 %\n",
    "\n",
    "sample = np.random.random_sample(12)\n",
    "print(sample)\n",
    "growthrates = (max_percent - min_percent) * sample + min_percent\n",
    "print(growthrates)"
   ]
  },
  {
   "cell_type": "markdown",
   "metadata": {},
   "source": [
    "Für die neuen Verkaufszahlen nach einem Jahr multiplizieren wir das ```sales```-Array mit dem ```growthrates```-Array:"
   ]
  },
  {
   "cell_type": "code",
   "execution_count": 106,
   "metadata": {},
   "outputs": [
    {
     "data": {
      "text/plain": [
       "array([1297.42942665, 2232.14979487, 1687.2389867 , 1918.57883625,\n",
       "        989.55406327, 2092.3690888 ,  710.88473563,  991.14263363,\n",
       "        568.47873238, 1775.00403702, 1776.25360838, 1965.82202987])"
      ]
     },
     "execution_count": 106,
     "metadata": {},
     "output_type": "execute_result"
    }
   ],
   "source": [
    "sales * growthrates"
   ]
  },
  {
   "cell_type": "markdown",
   "metadata": {},
   "source": [
    "Um eine nachhaltige Verkaufsentwicklung zu erhalten, verändern wir die Wachstums-Raten alle 5 Jahre.\n",
    "\n",
    "Das ist unser komplettes Programm, welches die Daten in der Datei ```sales_figures.csv``` ablegt:"
   ]
  },
  {
   "cell_type": "code",
   "execution_count": 107,
   "metadata": {},
   "outputs": [],
   "source": [
    "import numpy as np\n",
    "fh = open(\"sales_figures.csv\", \"w\")\n",
    "\n",
    "fh.write(\"Year, Frankfurt, Munich, Berlin, Zurich, Hamburg, \\\n",
    "         London, Paris, Luxembourg, Wien, Amsterdam, \\\n",
    "         Rotterdam, The Hague\\n\")\n",
    "sales = np.array([1245.89, 2220.00, 1635.77, 1936.25, 1002.03, \n",
    "                  2099.13,  723.99, 990.37, 541.44, 1765.00, \n",
    "                  1802.84, 1999.00])\n",
    "\n",
    "for year in range(1997, 2018):\n",
    "    line = str(year) + \", \" + \", \".join(map(str, sales))\n",
    "    fh.write(line + \"\\n\")\n",
    "    if year % 4 == 0:\n",
    "         min_percent = 0.98  # corresponds to -1.5 %\n",
    "         max_percent = 1.06   # 6 %\n",
    "         sample = np.random.random_sample(12)\n",
    "         growthrates = (max_percent - min_percent) * sample + min_percent         \n",
    "    sales = np.around(sales * growthrates, 2)\n",
    "fh.close()"
   ]
  },
  {
   "cell_type": "markdown",
   "metadata": {},
   "source": [
    "Das Ergebnis ist in der Datei ```sales_figures.csv``` zu finden.\n",
    "\n",
    "Wir werden diese Daten in einem folgenden Kapitel (Lesen und Schreiben in NumPy) noch benutzen."
   ]
  },
  {
   "cell_type": "markdown",
   "metadata": {},
   "source": [
    ""
   ]
  },
  {
   "cell_type": "code",
   "execution_count": 108,
   "metadata": {},
   "outputs": [
    {
     "name": "stdout",
     "output_type": "stream",
     "text": [
      "0.5057\n",
      "0.6716\n",
      "0.3397\n"
     ]
    }
   ],
   "source": [
    "# prog4book\"\n",
    "from random import randint\n",
    "\n",
    "outcomes = [ randint(1, 6) for _ in range(10000)]\n",
    "\n",
    "even_pips = [ x for x in outcomes if x % 2 == 0]\n",
    "greater_two = [ x for x in outcomes if x > 2]\n",
    "\n",
    "combined = [ x for x in outcomes if x % 2 == 0 and x > 2]\n",
    "\n",
    "print(len(even_pips) / len(outcomes))\n",
    "print(len(greater_two) / len(outcomes))\n",
    "print(len(combined) / len(outcomes))\n"
   ]
  },
  {
   "cell_type": "markdown",
   "metadata": {},
   "source": [
    "#### Lösung 2. Aufgabe\n",
    "\n",
    "Wir schreiben zuerst die Funktion \"process_datafile\", um die Daten aus der Datei zu verarbeiten:\n"
   ]
  },
  {
   "cell_type": "code",
   "execution_count": 109,
   "metadata": {},
   "outputs": [],
   "source": [
    "# prog4book\"\n",
    "def process_datafile(filename):\n",
    "    \"\"\" process_datafile -> (universities, \n",
    "                             enrollments, \n",
    "                             total_number_of_students) \n",
    "        universities: list of University names\n",
    "        enrollments: corresponding list with enrollments\n",
    "        total_number_of_students: over all universities\n",
    "    \"\"\"\n",
    "\n",
    "    universities = []\n",
    "    enrollments = []\n",
    "    with open(filename) as fh:\n",
    "        total_number_of_students = 0\n",
    "        fh.readline() # get rid of descriptive first line\n",
    "        for line in fh:\n",
    "             line = line.strip()\n",
    "             *praefix, under, post, total = line.rsplit()\n",
    "             university = praefix[1:]\n",
    "             total = int(total.replace(\",\", \"\"))\n",
    "             enrollments.append(total)\n",
    "             universities.append(\" \".join(university))\n",
    "             total_number_of_students += total\n",
    "    return (universities, enrollments, total_number_of_students)"
   ]
  },
  {
   "cell_type": "markdown",
   "metadata": {},
   "source": [
    "Lassen wir die Funktion laufen und prüfen das Ergebnis:"
   ]
  },
  {
   "cell_type": "code",
   "execution_count": 110,
   "metadata": {},
   "outputs": [
    {
     "name": "stdout",
     "output_type": "stream",
     "text": [
      "Open University in England: 123490\n",
      "University of Manchester: 37925\n",
      "University of Nottingham: 33270\n",
      "Sheffield Hallam University: 33100\n",
      "University of Birmingham: 32335\n",
      "Manchester Metropolitan University: 32160\n",
      "University of Leeds: 30975\n",
      "Cardiff University: 30180\n",
      "University of South Wales: 29195\n",
      "University College London: 28430\n",
      "King's College London: 27645\n",
      "University of Edinburgh: 27625\n",
      "Northumbria University: 27565\n",
      "University of Glasgow: 27390\n",
      "Number of students enrolled in the UK:  2299380\n"
     ]
    }
   ],
   "source": [
    "# prog4book\"\n",
    "universities, enrollments, total_students = \\\n",
    "                       process_datafile(\"universities_uk.txt\")\n",
    "\n",
    "for i in range(14):\n",
    "    print(universities[i], end=\": \")\n",
    "    print(enrollments[i])\n",
    "print(\"Number of students enrolled in the UK: \", total_students)"
   ]
  },
  {
   "cell_type": "markdown",
   "metadata": {},
   "source": [
    "Wir wollen einen virtuellen Studenten in eine zufällige Universität einschreiben. Um eine gewichtete Liste zu erhalten, die für die ```weighted_choice``` geeignet ist, müssen wir die Werte der Liste ```enrollments``` normalisieren:"
   ]
  },
  {
   "cell_type": "code",
   "execution_count": 111,
   "metadata": {},
   "outputs": [
    {
     "name": "stdout",
     "output_type": "stream",
     "text": [
      "University of Plymouth\n"
     ]
    }
   ],
   "source": [
    "# prog4book\"\n",
    "normalized_enrollments = [ students / total_students \\\n",
    "                          for students in enrollments]\n",
    "\n",
    "# enrolling a virtual student:\n",
    "print(weighted_choice(universities, normalized_enrollments))"
   ]
  },
  {
   "cell_type": "markdown",
   "metadata": {},
   "source": [
    "Die Aufgabe war 100,000 fiktive Studenten zu \"immatrikulieren\".\n",
    "Dies kann mit einer Schleife einfach durchgeführt werden:"
   ]
  },
  {
   "cell_type": "code",
   "execution_count": 112,
   "metadata": {},
   "outputs": [
    {
     "name": "stdout",
     "output_type": "stream",
     "text": [
      "[ ('Open University in England', 5385),\n",
      "  ('University of Manchester', 1635),\n",
      "  ('University of Birmingham', 1491),\n",
      "  ('Sheffield Hallam University', 1445),\n",
      "  ('University of Nottingham', 1428),\n",
      "  ('Manchester Metropolitan University', 1381),\n",
      "  ('University of Leeds', 1349),\n",
      "  ('Cardiff University', 1314),\n",
      "  ('University of South Wales', 1276),\n",
      "  ('University of Central Lancashire', 1262),\n",
      "  ('University of Plymouth', 1257),\n",
      "  ('Nottingham Trent University', 1254),\n",
      "  ('University of Glasgow', 1245),\n",
      "  ('University College London', 1185),\n",
      "  ('Northumbria University', 1164),\n",
      "  ('University of Edinburgh', 1163),\n",
      "  ('University of the West of England', 1141),\n",
      "  ('Ulster University', 1136),\n",
      "  (\"King's College London\", 1134),\n",
      "  ('University of Sheffield', 1129)]\n"
     ]
    }
   ],
   "source": [
    "# prog4book\"\n",
    "from collections import Counter\n",
    "from pprint import pprint # schöne Print-Ausgabe\n",
    "\n",
    "outcomes = []\n",
    "n = 100000\n",
    "for i in range(n):\n",
    "    outcomes.append(weighted_choice(universities, \n",
    "                                    normalized_enrollments))\n",
    "\n",
    "c = Counter(outcomes)\n",
    "    \n",
    "pprint(c.most_common(20), indent=2, width=70)"
   ]
  },
  {
   "cell_type": "markdown",
   "metadata": {},
   "source": [
    "\n",
    "#### Lösung 3. Aufgabe\n"
   ]
  },
  {
   "cell_type": "markdown",
   "metadata": {},
   "source": [
    "Die Sammlung der Amazonen ist als Liste implementiert, während für die Menge aus Pysseusses Favoritinnen auswählen.\n",
    "Die Gewichtung liegt zu Beginn bei 1/11 für alle, d.h. 1/len(amazons).\n",
    "\n",
    "Jeder Schleifen-Durchlauf entspricht einem neuen Tag. Jedes Mal, wenn wir einen neuen Durchlauf starten, ziehen wir ```n``` Samples aus den Pythoniern, um das Verhältnis zu berechnen, wie oft die Sample gleich den Favoritinnen des Königs, geteilt durch die Häufigkeit, wie oft die Sample nicht der Idee einer Schwiegertochter entspricht. Dies entspricht der Wahrscheinlichkeit ```prob```. Wir stoppen das erste Mal, wenn die Wahrscheinlichkeit bei 0.9 oder größer liegt.\n",
    "\n",
    "Die beiden Funktionen ```weighted_same``` und ```weighted_same_alternative``` lassen sich für die Ziehung verwenden."
   ]
  },
  {
   "cell_type": "code",
   "execution_count": 113,
   "metadata": {
    "scrolled": true
   },
   "outputs": [
    {
     "name": "stdout",
     "output_type": "stream",
     "text": [
      "2.0128858579555526\n",
      "Number of days, he has to wait:  32\n"
     ]
    }
   ],
   "source": [
    "import time\n",
    "\n",
    "amazons = [\"Airla\", \"Barbara\", \"Eos\",\n",
    "           \"Glykeria\", \"Hanna\", \"Helen\",\n",
    "           \"Agathangelos\", \"Iokaste\", \n",
    "           \"Medousa\", \"Sofronia\", \n",
    "           \"Andromeda\"]\n",
    "\n",
    "weights = [ 1/len(amazons) for _ in range(len(amazons)) ]\n",
    "\n",
    "Pytheusses_favorites = {\"Iokaste\", \"Medousa\", \n",
    "                        \"Sofronia\", \"Andromeda\"}\n",
    "n = 1000\n",
    "counter = 0\n",
    "\n",
    "prob = 1 / 330\n",
    "days = 0\n",
    "factor1 = 1 / 13\n",
    "factor2 = 1 / 12\n",
    "\n",
    "start = time.perf_counter()\n",
    "while prob < 0.9:\n",
    "    for i in range(n):\n",
    "        the_chosen_ones = weighted_sample_alternative(amazons, \n",
    "                                                      weights, \n",
    "                                                      4)\n",
    "        if set(the_chosen_ones) == Pytheusses_favorites:\n",
    "            counter += 1\n",
    "    prob = counter / n\n",
    "    counter = 0\n",
    "    weights[:7] = [ p - p*factor1 for p in weights[:7] ]\n",
    "    weights[7:] = [ p + p*factor2 for p in weights[7:] ]\n",
    "    weights = [ x / sum(weights) for x in weights]\n",
    "    days += 1\n",
    "print(time.perf_counter() - start)\n",
    "\n",
    "print(\"Number of days, he has to wait: \", days)\n"
   ]
  },
  {
   "cell_type": "markdown",
   "metadata": {},
   "source": [
    "Die Werte für die Anzahl der Tage weichen ab, wenn n nicht groß genug ist.\n",
    "\n",
    "Der folgende Code ist die Lösung ohne Rundungsfehler. Wir verwenden ```Fraction``` aus dem Modul ```fractions```."
   ]
  },
  {
   "cell_type": "code",
   "execution_count": 114,
   "metadata": {},
   "outputs": [
    {
     "name": "stdout",
     "output_type": "stream",
     "text": [
      "20.071284992969595\n",
      "Number of days, he has to wait:  32\n"
     ]
    }
   ],
   "source": [
    "import time\n",
    "from fractions import Fraction\n",
    "\n",
    "\n",
    "amazons = [\"Airla\", \"Barbara\", \"Eos\",\n",
    "           \"Glykeria\", \"Hanna\", \"Helen\",\n",
    "           \"Agathangelos\", \"Iokaste\", \n",
    "           \"Medousa\", \"Sofronia\", \n",
    "           \"Andromeda\"]\n",
    "\n",
    "weights = [ Fraction(1, 11) for _ in range(len(amazons)) ]\n",
    "\n",
    "Pytheusses_favorites = {\"Iokaste\", \"Medousa\", \n",
    "                        \"Sofronia\", \"Andromeda\"}\n",
    "n = 1000\n",
    "counter = 0\n",
    "\n",
    "prob = Fraction(1, 330)\n",
    "days = 0\n",
    "factor1 = Fraction(1, 13)\n",
    "factor2 = Fraction(1, 12)\n",
    "\n",
    "start = time.perf_counter()\n",
    "while prob < 0.9:\n",
    "    #print(prob)\n",
    "    for i in range(n):\n",
    "        the_chosen_ones = weighted_sample_alternative(amazons, weights, 4)\n",
    "        if set(the_chosen_ones) == Pytheusses_favorites:\n",
    "            counter += 1\n",
    "    prob = Fraction(counter, n)\n",
    "    counter = 0\n",
    "    weights[:7] = [ p - p*factor1 for p in weights[:7] ]\n",
    "    weights[7:] = [ p + p*factor2 for p in weights[7:] ]\n",
    "    weights = [ x / sum(weights) for x in weights]\n",
    "    days += 1\n",
    "print(time.perf_counter() - start)\n",
    "\n",
    "print(\"Number of days, he has to wait: \", days)"
   ]
  },
  {
   "cell_type": "markdown",
   "metadata": {},
   "source": [
    "Wir können sehen, dass die Lösung mit ```fractions``` schön aber langsam ist.\n",
    "Dabei spielt die Präzision in unserem Fall keine Rolle.\n",
    "\n",
    "Jedoch haben wir die Leistung von Python nicht genutzt.\n",
    "Das machen wir in der nächsten Implementierung:"
   ]
  },
  {
   "cell_type": "code",
   "execution_count": 115,
   "metadata": {},
   "outputs": [
    {
     "name": "stdout",
     "output_type": "stream",
     "text": [
      "2.0671991429990157\n",
      "Number of days, he has to wait:  32\n"
     ]
    }
   ],
   "source": [
    "import time\n",
    "import numpy as np\n",
    "\n",
    "amazons = [\"Airla\", \"Barbara\", \"Eos\",\n",
    "           \"Glykeria\", \"Hanna\", \"Helen\",\n",
    "           \"Agathangelos\", \"Iokaste\", \n",
    "           \"Medousa\", \"Sofronia\", \n",
    "           \"Andromeda\"]\n",
    "\n",
    "weights = np.full(11, 1/len(amazons))\n",
    "\n",
    "\n",
    "Pytheusses_favorites = {\"Iokaste\", \"Medousa\", \n",
    "                        \"Sofronia\", \"Andromeda\"}\n",
    "\n",
    "\n",
    "n = 1000\n",
    "counter = 0\n",
    "\n",
    "prob = 1 / 330\n",
    "days = 0\n",
    "factor1 = 1 / 13\n",
    "factor2 = 1 / 12\n",
    "\n",
    "start = time.perf_counter()\n",
    "while prob < 0.9:\n",
    "    for i in range(n):\n",
    "        the_chosen_ones = weighted_sample_alternative(amazons, \n",
    "                                                      weights, \n",
    "                                                      4)\n",
    "        if set(the_chosen_ones) == Pytheusses_favorites:\n",
    "            counter += 1\n",
    "    prob = counter / n\n",
    "    counter = 0\n",
    "    weights[:7] = weights[:7] - weights[:7] * factor1\n",
    "    weights[7:] = weights[7:] + weights[7:] * factor2\n",
    "    weights = weights / np.sum(weights)\n",
    "    #print(weights)\n",
    "    days += 1\n",
    "print(time.perf_counter() - start)\n",
    "\n",
    "print(\"Number of days, he has to wait: \", days)"
   ]
  },
  {
   "cell_type": "markdown",
   "metadata": {},
   "source": [
    "\n",
    "<br><br>\n",
    "<hr>\n",
    "<br>\n",
    "\n",
    "\n",
    "\n",
    "### Fußnoten:\n",
    "\n",
    "<br>\n",
    "<sup>1</sup>  Ich bedanke mich bei Dr. Hanno Baehr der mich auf das Problem der \"Zufalls-Extrahierung\" aufmerksam gemacht hat bei der Teilnahme eine Python-Training-Kurses in Nürnberg im Januar 2014. Hanno hat ein paar Bits des theoretischen Rahmens entworfen. Während einer Nacht-Session in der Bar \"Zeit & Raum\" (engl. \"Time & Space\") habe ich ein entsprechendes Python-Programm implementiert um die theoretische Lösung empirisch zu unterstützen.\n",
    ""
   ]
  }
 ],
 "metadata": {
  "anaconda-cloud": {},
  "kernelspec": {
   "display_name": "Python 3",
   "language": "python",
   "name": "python3"
  },
  "language_info": {
   "codemirror_mode": {
    "name": "ipython",
    "version": 3
   },
   "file_extension": ".py",
   "mimetype": "text/x-python",
   "name": "python",
   "nbconvert_exporter": "python",
   "pygments_lexer": "ipython3",
   "version": "3.7.1"
  },
  "toc": {
   "base_numbering": 1,
   "nav_menu": {},
   "number_sections": true,
   "sideBar": true,
   "skip_h1_title": false,
   "title_cell": "Table of Contents",
   "title_sidebar": "Contents",
   "toc_cell": false,
   "toc_position": {},
   "toc_section_display": true,
   "toc_window_display": false
  }
 },
 "nbformat": 4,
 "nbformat_minor": 2
}
