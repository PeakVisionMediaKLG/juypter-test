{
 "cells": [
  {
   "cell_type": "code",
   "execution_count": 2,
   "metadata": {},
   "outputs": [],
   "source": [
    "# invisible\n",
    "import numpy as np\n",
    "np.core.arrayprint._line_width = 65\n"
   ]
  },
  {
   "cell_type": "markdown",
   "metadata": {},
   "source": [
    "## Boolesche Maskierung und Indizierung\n",
    "\n",
    "\n",
    "\n",
    "\n",
    "\n",
    "\n",
    "\n",
    "<img width=\"40%\" class=\"imgright\" src=\"../images/masks_boolean.webp\" srcset=\"../images/masks_boolean_350w.webp 350w,../images/masks_boolean_300w.webp 300w\" alt=\"Boolean Maskes, as Venetian Mask\" />\n",
    "\n",
    "\n",
    "In diesem Kapitel geht es um die Boolesche Maskierung (englisch: Boolean Masking) und Booleschen Masken. Wir zeigen, wie man damit die Werte von NumPy-Arrays verändern kann.  \n",
    "Maskierung ist hilfreich, um Daten mit bestimmten Eigenschaften zu extrahieren, zu verändern, zu zählen und so weiter. Außerdem können damit auch sehr leicht einfache Binarisierungen vorgenommen werden, also alle Werte, die über einer bestimmten Schwelle liegen, auf einen Wert setzen und alle darunter liegenden Werte auf einen anderen. Die Benutzung von Maskierungen gestaltet sich meistens nicht nur sehr einfach, sondern dabei handelt es sich meistens auch um die effizienteste Art, diese Operationen durchzuführen.\n",
    "\n",
    "Im ersten Beispiel werden alle Komponenten des Arrays ```A``` mit der Zahl verglichen. Das Ergebnis der Maskierung besteht in einem neuen Array mit der gleichen Shape, in dem ein ```True``` steht, falls an der entsprechenden Position in ```A``` eine 4 stand, ansonsten wird der Wert auf ```False``` gesetzt. \n"
   ]
  },
  {
   "cell_type": "code",
   "execution_count": 3,
   "metadata": {},
   "outputs": [
    {
     "name": "stdout",
     "output_type": "stream",
     "text": [
      "[ True False False  True False False]\n"
     ]
    }
   ],
   "source": [
    "import numpy as np\n",
    "A = np.array([4, 7, 3, 4, 2, 8])\n",
    "print(A == 4)\n"
   ]
  },
  {
   "cell_type": "markdown",
   "metadata": {},
   "source": [
    "Analog kann man die einzelnen Komponenten auch mittels der Vergleichsoperatoren \"<\", \"<=\", \">\" und \">=\" bearbeiten. Die Arbeitsweise ist analog zu dem vorigen Fall:"
   ]
  },
  {
   "cell_type": "code",
   "execution_count": 4,
   "metadata": {},
   "outputs": [
    {
     "name": "stdout",
     "output_type": "stream",
     "text": [
      "[ True False  True  True  True False]\n"
     ]
    }
   ],
   "source": [
    "print(A < 5)"
   ]
  },
  {
   "cell_type": "markdown",
   "metadata": {},
   "source": [
    "Dies lässt sich auch auf Arrays mit höherer Dimension anwenden:"
   ]
  },
  {
   "cell_type": "code",
   "execution_count": 5,
   "metadata": {},
   "outputs": [
    {
     "name": "stdout",
     "output_type": "stream",
     "text": [
      "[[ True  True  True  True]\n",
      " [ True  True  True False]\n",
      " [ True  True False False]]\n"
     ]
    }
   ],
   "source": [
    "B = np.array([[42, 56, 89, 65],\n",
    "              [99, 88, 42, 12],\n",
    "              [55, 42, 17, 18]])\n",
    "\n",
    "print(B >= 42)"
   ]
  },
  {
   "cell_type": "markdown",
   "metadata": {},
   "source": [
    "Damit lassen sich auch Arrays binarisieren. Betrachten wir das folgende Array ```A``` als ein Grauwertbild, so können wir dieses mit der Schwelle 15 binarisieren:"
   ]
  },
  {
   "cell_type": "code",
   "execution_count": 6,
   "metadata": {},
   "outputs": [
    {
     "data": {
      "text/plain": [
       "array([[1, 1, 1, 1, 0, 1, 1, 1, 1],\n",
       "       [1, 1, 1, 0, 0, 0, 1, 1, 1],\n",
       "       [1, 1, 1, 0, 1, 0, 1, 1, 1],\n",
       "       [1, 1, 0, 0, 1, 0, 0, 1, 1],\n",
       "       [1, 1, 0, 1, 1, 1, 0, 1, 1],\n",
       "       [1, 0, 0, 1, 1, 1, 0, 0, 1],\n",
       "       [1, 0, 1, 1, 1, 1, 1, 0, 1],\n",
       "       [1, 0, 1, 1, 1, 1, 1, 0, 1],\n",
       "       [1, 0, 1, 1, 1, 1, 1, 0, 1],\n",
       "       [1, 0, 0, 0, 0, 0, 0, 0, 1],\n",
       "       [1, 0, 1, 1, 1, 1, 1, 0, 1],\n",
       "       [1, 0, 1, 1, 1, 1, 1, 0, 1],\n",
       "       [1, 0, 1, 1, 1, 1, 1, 0, 1],\n",
       "       [1, 0, 1, 1, 1, 1, 1, 0, 1],\n",
       "       [1, 0, 1, 1, 1, 1, 1, 0, 1]])"
      ]
     },
     "execution_count": 6,
     "metadata": {},
     "output_type": "execute_result"
    }
   ],
   "source": [
    "import numpy as np\n",
    "\n",
    "A = np.array([\n",
    "[12, 13, 14, 12, 16, 14, 11, 10,  9],\n",
    "[11, 14, 12, 15, 15, 16, 10, 12, 11],\n",
    "[10, 12, 12, 15, 14, 16, 10, 12, 12],\n",
    "[ 9, 11, 16, 15, 14, 16, 15, 12, 10],\n",
    "[12, 11, 16, 14, 10, 12, 16, 12, 13],\n",
    "[10, 15, 16, 14, 14, 14, 16, 15, 12],\n",
    "[13, 17, 14, 10, 14, 11, 14, 15, 10],\n",
    "[10, 16, 12, 14, 11, 12, 14, 18, 11],\n",
    "[10, 19, 12, 14, 11, 12, 14, 18, 10],\n",
    "[14, 22, 17, 19, 16, 17, 18, 17, 13],\n",
    "[10, 16, 12, 14, 11, 12, 14, 18, 11],\n",
    "[10, 16, 12, 14, 11, 12, 14, 18, 11],\n",
    "[10, 19, 12, 14, 11, 12, 14, 18, 10],\n",
    "[14, 22, 12, 14, 11, 12, 14, 17, 13],\n",
    "[10, 16, 12, 14, 11, 12, 14, 18, 11]])\n",
    "\n",
    "B = A < 15\n",
    "B.astype(np.int)"
   ]
  },
  {
   "cell_type": "markdown",
   "metadata": {},
   "source": [
    "Alle Werte des Originalarrays ```A``` wurden durch 0 bzw. 1 ersetzt. Im Bild kann man übrigens auch ein großes A erkennen."
   ]
  },
  {
   "cell_type": "markdown",
   "metadata": {},
   "source": [
    "<br>\n",
    "\n",
    "### Fancy-Indizierung"
   ]
  },
  {
   "cell_type": "markdown",
   "metadata": {},
   "source": [
    "\n",
    "\n",
    "Das Prinzip der \"Fancy-Indizierung\" ist recht einfach: Statt eines einzelnen Indexes benutzt man ein Array mit Indizes. Dadurch kann man mehrere Elemente auf einen Schlag ansprechen. "
   ]
  },
  {
   "cell_type": "code",
   "execution_count": 7,
   "metadata": {},
   "outputs": [
    {
     "name": "stdout",
     "output_type": "stream",
     "text": [
      "[  8  12 102]\n",
      "[  8  12 102]\n"
     ]
    }
   ],
   "source": [
    "A = np.array([34, 8, 99, 12, 1, 102, 44])\n",
    "\n",
    "# umständlich:\n",
    "B = np.array([A[1], A[3], A[5]])\n",
    "print(B)\n",
    "\n",
    "# mit fancy Indizierung:\n",
    "B2 = A[[1, 3, 5]]\n",
    "print(B2)"
   ]
  },
  {
   "cell_type": "markdown",
   "metadata": {},
   "source": [
    "\n",
    "\n",
    "In unserem nächsten Beispiel benutzen wir die boolesche Maske eines Arrays, um die entsprechenden Elemente eines anderen Arrays auszuwählen, d.h. wir indizieren das Array ```C``` mit einer Booleschen Maske, die wir mittels Maskierung des Arrays ```A``` erzeugen. Das Ergebnis ist dann eine Kopie und keine Sicht (View).\n",
    "\n",
    "Das neue Array R beinhaltet all die Elemente aus C, bei denen im Array A der Test A <= 5 ```True``` liefert."
   ]
  },
  {
   "cell_type": "code",
   "execution_count": 8,
   "metadata": {},
   "outputs": [
    {
     "name": "stdout",
     "output_type": "stream",
     "text": [
      "[ True False  True False False False  True]\n",
      "[123 190 100]\n"
     ]
    }
   ],
   "source": [
    "C = np.array([123, 188, 190, 99, 77, 88, 100])\n",
    "A = np.array([4, 7, 2,8, 6, 9, 5])\n",
    "print(A <= 5)\n",
    "R = C[A <= 5]\n",
    "print(R)"
   ]
  },
  {
   "cell_type": "markdown",
   "metadata": {},
   "source": [
    "<br>\n",
    "\n",
    "### Indizierung mit einem Integer-Array"
   ]
  },
  {
   "cell_type": "markdown",
   "metadata": {},
   "source": [
    "Indizieren lässt sich auch beispielsweise mit einem Integer-Array oder mit einer Integer-Liste. Letzteres tun wir im nächsten Beispiel: "
   ]
  },
  {
   "cell_type": "code",
   "execution_count": 16,
   "metadata": {},
   "outputs": [
    {
     "data": {
      "text/plain": [
       "array([123, 190,  99, 188,  77, 188])"
      ]
     },
     "execution_count": 16,
     "metadata": {},
     "output_type": "execute_result"
    }
   ],
   "source": [
    "lst = [0, 2, 3, 1, 4, 1] \n",
    "C[lst]"
   ]
  },
  {
   "cell_type": "markdown",
   "metadata": {},
   "source": [
    "Wir wir sehen, können Indizes mehrfach und in beliebiger Reihenfolge auftreten!"
   ]
  },
  {
   "cell_type": "markdown",
   "metadata": {},
   "source": [
    "<br>\n",
    "\n",
    "#### Übung"
   ]
  },
  {
   "cell_type": "markdown",
   "metadata": {},
   "source": [
    "Extrahieren Sie aus dem Array ```np.array([3, 4, 6, 10, 24, 89, 45, 43, 46, 99, 100])```, anhand von boolescher Indizierung, die Werte, die:\n",
    "\n",
    "- nicht durch 3 teilbar sind\n",
    "- durch 5 teilbar sind\n",
    "- die durch 3 und durch 5 teilbar sind\n",
    "- die durch 3 teilbar sind und setzen Sie diese auf 42"
   ]
  },
  {
   "cell_type": "markdown",
   "metadata": {},
   "source": [
    "<br>\n",
    "\n",
    "#### Lösung"
   ]
  },
  {
   "cell_type": "code",
   "execution_count": 10,
   "metadata": {},
   "outputs": [
    {
     "name": "stdout",
     "output_type": "stream",
     "text": [
      "Elemente von A, die nicht durch 3 teilbar sind:\n",
      "[  4  10  89  43  46 100]\n",
      "Elemente von A, die durch 5 teilbar sind:\n",
      "[ 10  45 100]\n",
      "Elemente von A, die durch 3 und 5 teilbar sind:\n",
      "[45]\n",
      "Alle durch 3 teilbaren Werte von A wurden auf 42 gesetzt:\n",
      "[ 42   4  42  10  42  89  42  43  46  42 100]\n"
     ]
    }
   ],
   "source": [
    "import numpy as np\n",
    "A = np.array([3, 4, 6, 10, 24, 89, 45, 43, 46, 99, 100])\n",
    "\n",
    "div3 = A[A % 3 != 0]\n",
    "print(\"Elemente von A, die nicht durch 3 teilbar sind:\")\n",
    "print(div3)\n",
    "\n",
    "div5 = A[A % 5 == 0]\n",
    "print(\"Elemente von A, die durch 5 teilbar sind:\")\n",
    "print(div5)\n",
    "\n",
    "print(\"Elemente von A, die durch 3 und 5 teilbar sind:\")\n",
    "print(A[(A % 3 == 0) & (A % 5 == 0)])\n",
    "\n",
    "A[ A % 3 == 0] = 42\n",
    "print(\"Alle durch 3 teilbaren Werte von A wurden auf 42 gesetzt:\")\n",
    "print(A)"
   ]
  },
  {
   "cell_type": "markdown",
   "metadata": {},
   "source": [
    "<br>\n",
    "\n",
    "### nonzero und where\n",
    "<br>\n",
    "\n",
    "\n",
    "Die Methode ```nonzero``` liefert die Indizes der Elemente aus einem Array zurück, die nicht 0 (non-zero) sind. Die Indizes werden als Tupel von eindimensionalen Arrays zurückgeliefert, eins für jede Dimension.  Die entsprechenden non-zero-Werte eines Arrays A kann man dann durch Boolesches Indizieren erhalten:\n",
    "    \n",
    "```A[numpy.nonzero(A)]```"
   ]
  },
  {
   "cell_type": "code",
   "execution_count": 11,
   "metadata": {},
   "outputs": [
    {
     "name": "stdout",
     "output_type": "stream",
     "text": [
      "(array([0, 0, 0, 1, 1, 2, 2]), array([1, 2, 4, 0, 3, 0, 3]))\n",
      "[2 3 1 1 7 5 1]\n"
     ]
    }
   ],
   "source": [
    "import numpy as np\n",
    "\n",
    "A = np.array([[0, 2, 3, 0, 1],\n",
    "              [1, 0, 0, 7, 0],\n",
    "              [5, 0, 0, 1, 0]])\n",
    "\n",
    "print(A.nonzero())\n",
    "print(A[A.nonzero()])"
   ]
  },
  {
   "cell_type": "markdown",
   "metadata": {},
   "source": [
    "\n",
    "Möchte man die Elemente als Pärchen von Zeilen und Spalten haben, so kann man ```transpose``` benutzen:\n",
    "    \n",
    "```transpose(nonzero(A))```\n",
    "\n",
    "Es wird ein zweidimensionales Array erzeugt. Jede Zeile entspricht den Indizes eines non-zero-Elements in der Form ```[Zeile, Spalte]```"
   ]
  },
  {
   "cell_type": "code",
   "execution_count": 12,
   "metadata": {},
   "outputs": [
    {
     "data": {
      "text/plain": [
       "array([[0, 1],\n",
       "       [0, 2],\n",
       "       [0, 4],\n",
       "       [1, 0],\n",
       "       [1, 3],\n",
       "       [2, 0],\n",
       "       [2, 3]])"
      ]
     },
     "execution_count": 12,
     "metadata": {},
     "output_type": "execute_result"
    }
   ],
   "source": [
    "np.transpose(A.nonzero()) "
   ]
  },
  {
   "cell_type": "markdown",
   "metadata": {},
   "source": [
    "Die Funktion ```nonzero``` kann dazu verwendet werden, um die Indizes aus einem Array zu holen, bei denen die Bedingung True ist.\n",
    "Im folgenden Skript erstellen wir das boolesche Array B >= 42:"
   ]
  },
  {
   "cell_type": "code",
   "execution_count": 13,
   "metadata": {},
   "outputs": [
    {
     "name": "stdout",
     "output_type": "stream",
     "text": [
      "[[ True  True  True  True]\n",
      " [ True  True  True False]\n",
      " [ True  True False False]]\n"
     ]
    }
   ],
   "source": [
    "B = np.array([[42, 56, 89, 65],\n",
    "              [99, 88, 42, 12],\n",
    "              [55, 42, 17, 18]])\n",
    "\n",
    "print(B >= 42)"
   ]
  },
  {
   "cell_type": "markdown",
   "metadata": {},
   "source": [
    "```np.nonzero(B >= 42)``` produziert die Indizes aus B, auf die die Bedingung zutrifft."
   ]
  },
  {
   "cell_type": "code",
   "execution_count": 14,
   "metadata": {},
   "outputs": [
    {
     "data": {
      "text/plain": [
       "(array([0, 0, 0, 0, 1, 1, 1, 2, 2]), array([0, 1, 2, 3, 0, 1, 2, 0, 1]))"
      ]
     },
     "execution_count": 14,
     "metadata": {},
     "output_type": "execute_result"
    }
   ],
   "source": [
    "B = np.array([[42, 56, 89, 65],\n",
    "              [99, 88, 42, 12],\n",
    "              [55, 42, 17, 18]])\n",
    "\n",
    "np.nonzero(B >= 42)"
   ]
  },
  {
   "cell_type": "markdown",
   "metadata": {},
   "source": [
    "<br><br>\n",
    "\n",
    "#### Übung"
   ]
  },
  {
   "cell_type": "markdown",
   "metadata": {},
   "source": [
    "Berechnen Sie die Primzahlen zwischen 0 und 100 mit Hilfe eines booleschen Arrays."
   ]
  },
  {
   "cell_type": "markdown",
   "metadata": {},
   "source": [
    "<br><br>\n",
    "\n",
    "#### Lösung"
   ]
  },
  {
   "cell_type": "code",
   "execution_count": 15,
   "metadata": {},
   "outputs": [
    {
     "name": "stdout",
     "output_type": "stream",
     "text": [
      "(array([ 2,  3,  5,  7, 11, 13, 17, 19, 23, 29, 31, 37, 41, 43, 47, 53, 59,\n",
      "       61, 67, 71, 73, 79, 83, 89, 97]),)\n"
     ]
    }
   ],
   "source": [
    "import numpy as np\n",
    "\n",
    "is_prime = np.ones((100,), dtype=bool)\n",
    "\n",
    "# Cross out 0 and 1 which are not primes:\n",
    "is_prime[:2] = 0\n",
    "\n",
    "# cross out its higher multiples (sieve of Eratosthenes):\n",
    "nmax = int(np.sqrt(len(is_prime)))\n",
    "for i in range(2, nmax):\n",
    "    is_prime[2*i::i] = False\n",
    "\n",
    "print(np.nonzero(is_prime))"
   ]
  },
  {
   "cell_type": "markdown",
   "metadata": {},
   "source": [
    "<br><br>\n",
    "\n",
    "#### Flatnonzero und count_nonzero"
   ]
  },
  {
   "cell_type": "markdown",
   "metadata": {},
   "source": [
    "Ähnliche Funktionen:\n",
    "\n",
    "- ```flatnonzero```:\n",
    "  \n",
    "  \n",
    "  Liefert die Indizes zurück, die non-zero sind, jedoch aus der flachen (eindimensionalen) Version der übergebenen Arrays.\n",
    " \n",
    "- ```count_nonzero```:\n",
    "  \n",
    "  Zählt die non-zero-Elemente in dem übergebenen Array."
   ]
  }
 ],
 "metadata": {
  "anaconda-cloud": {},
  "kernelspec": {
   "display_name": "Python 3",
   "language": "python",
   "name": "python3"
  },
  "language_info": {
   "codemirror_mode": {
    "name": "ipython",
    "version": 3
   },
   "file_extension": ".py",
   "mimetype": "text/x-python",
   "name": "python",
   "nbconvert_exporter": "python",
   "pygments_lexer": "ipython3",
   "version": "3.7.2"
  },
  "toc": {
   "base_numbering": 1,
   "nav_menu": {},
   "number_sections": true,
   "sideBar": true,
   "skip_h1_title": false,
   "title_cell": "Table of Contents",
   "title_sidebar": "Contents",
   "toc_cell": false,
   "toc_position": {},
   "toc_section_display": true,
   "toc_window_display": false
  }
 },
 "nbformat": 4,
 "nbformat_minor": 2
}
