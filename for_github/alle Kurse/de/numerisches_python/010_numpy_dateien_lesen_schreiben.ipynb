{
 "cells": [
  {
   "cell_type": "code",
   "execution_count": 31,
   "metadata": {},
   "outputs": [],
   "source": [
    "# invisible\n",
    "import numpy as np\n",
    "np.core.arrayprint._line_width = 60 "
   ]
  },
  {
   "cell_type": "markdown",
   "metadata": {},
   "source": [
    "\n",
    "\n",
    "<br><br>\n",
    "\n",
    "## Lesen und Schreiben von Daten-Dateien\n",
    "\n",
    "\n",
    "\n",
    "\n",
    "\n",
    "\n",
    "\n",
    "\n",
    "\n",
    "<img width=\"40%\" src=\"../images/scrabble.webp\" srcset=\"../images/scrabble_400w.webp 400w,../images/scrabble_350w.webp 350w,../images/scrabble_300w.webp 300w\" alt=\"Scrabble with the Text NumPy, read, write, array\" />\n",
    "\n",
    "Es gibt in NumPy viele Wege um Daten aus Dateien zu lesen und ebenso zu schreiben. In diesem Kapitel werden die verschiedenen Möglichkeiten diskutieren und die dazugehörigen Funktionen betrachten.\n",
    "\n",
    "\n"
   ]
  },
  {
   "cell_type": "markdown",
   "metadata": {},
   "source": [
    "<br>\n",
    "\n",
    "### Text-Dateien speichern mit savetxt\n",
    "\n",
    "\n",
    "\n",
    "Die ersten zwei Funktionen, die wir uns anschauen möchten, sind ```savetxt``` und ```loadtxt```.\n",
    "\n",
    "Im folgenden einfachen Beispiel definieren wir ein Array ```x``` und speichern es als Text-Datei mit ```savetxt```:"
   ]
  },
  {
   "cell_type": "code",
   "execution_count": 32,
   "metadata": {},
   "outputs": [],
   "source": [
    "import numpy as np\n",
    "\n",
    "x = np.array([[1, 2], \n",
    "              [3, 4],\n",
    "              [5, 6]], np.int32)\n",
    "\n",
    "np.savetxt(\"test.txt\", x)"
   ]
  },
  {
   "cell_type": "markdown",
   "metadata": {},
   "source": [
    "Die Datei \"test.txt\" ist eine Text-Datei und der Inhalt sieht wie folgt aus, wenn wir ihn uns in einem Linux-Terminal anschauen:\\footnote{Unter Windows kann man das Kommanda 'type test.txt' benutzen.}\n",
    "\n",
    "```\n",
    "$ more test.txt\n",
    "1.000000000000000000e+00 2.000000000000000000e+00\n",
    "3.000000000000000000e+00 4.000000000000000000e+00\n",
    "5.000000000000000000e+00 6.000000000000000000e+00\n",
    "```\n",
    "\n",
    "Da das Array aus Integern besteht, hätte man hier eher eine Datei erwartet, in der ganze Zahlen und nicht Float-Zahlen stehen. Man kann aber das Ausgabeformat selbst bestimmen. Im Folgenden speichern wir das Array in der Datei ```test2.txt``` mit drei Nachkommastellen und in der Datei ```test3.txt``` als Integers mit vorangestellten Leerzeichen, wenn die Anzahl der Stellen kleiner als 4 ist.\n",
    "Dafür übergeben wir einen Format-String an den Parameter ```fmt```. Im vorigen Beispiel haben wir gesehen, dass der Default-Delimiter ein Leerzeichen ist. Wir können das Verhalten anpassen, indem wir einen String dem Parameter ```delimiter``` mitgeben. In den meisten Fällen wird dies ein einzelnes Zeichen sein. Jedoch kann ebenso eine ganze Zeichensequenz übergeben werden, z.B. ein Smiley \" :-)\":"
   ]
  },
  {
   "cell_type": "code",
   "execution_count": 33,
   "metadata": {},
   "outputs": [],
   "source": [
    "np.savetxt(\"test2.txt\", x, fmt=\"%2.3f\", delimiter=\",\")\n",
    "np.savetxt(\"test3.txt\", x, fmt=\"%04d\", delimiter=\" :-) \")"
   ]
  },
  {
   "cell_type": "markdown",
   "metadata": {},
   "source": [
    "Die neu erstellten Dateien sehen folgendermaßen aus:\n",
    "```\n",
    "$ more test2.txt\n",
    "1.000,2.000\n",
    "3.000,4.000\n",
    "5.000,6.000\n",
    "$ more test3.txt\n",
    "0001 :-) 0002\n",
    "0003 :-) 0004\n",
    "0005 :-) 0006\n",
    "```"
   ]
  },
  {
   "cell_type": "markdown",
   "metadata": {},
   "source": [
    "              "
   ]
  },
  {
   "cell_type": "markdown",
   "metadata": {},
   "source": [
    "<br>\n",
    "\n",
    "### Text-Dateien laden mit loadtxt\n",
    "\n",
    "\n",
    "\n",
    "#### loadtxt ohne Parameter"
   ]
  },
  {
   "cell_type": "markdown",
   "metadata": {},
   "source": [
    "Jetzt werden wir die Datei \"test.txt\" einlesen, die wir im vorigen Unterkapitel erstellt haben:"
   ]
  },
  {
   "cell_type": "code",
   "execution_count": 34,
   "metadata": {},
   "outputs": [
    {
     "name": "stdout",
     "output_type": "stream",
     "text": [
      "[[1. 2.]\n",
      " [3. 4.]\n",
      " [5. 6.]]\n"
     ]
    }
   ],
   "source": [
    "y = np.loadtxt(\"test.txt\")\n",
    "print(y)"
   ]
  },
  {
   "cell_type": "markdown",
   "metadata": {},
   "source": [
    "#### Spezielle Trenner"
   ]
  },
  {
   "cell_type": "code",
   "execution_count": 35,
   "metadata": {},
   "outputs": [
    {
     "name": "stdout",
     "output_type": "stream",
     "text": [
      "[[1. 2.]\n",
      " [3. 4.]\n",
      " [5. 6.]]\n"
     ]
    }
   ],
   "source": [
    "y = np.loadtxt(\"test2.txt\", delimiter=\",\")\n",
    "print(y)"
   ]
  },
  {
   "cell_type": "markdown",
   "metadata": {},
   "source": [
    "Auch nichts Neues erhalten wir, wenn wir die Datei einlesen, indem wir als Separator ein Smiley verwendet haben:"
   ]
  },
  {
   "cell_type": "code",
   "execution_count": 36,
   "metadata": {},
   "outputs": [
    {
     "name": "stdout",
     "output_type": "stream",
     "text": [
      "[[1. 2.]\n",
      " [3. 4.]\n",
      " [5. 6.]]\n"
     ]
    }
   ],
   "source": [
    "y = np.loadtxt(\"test3.txt\", delimiter=\" :-) \")\n",
    "print(y)"
   ]
  },
  {
   "cell_type": "markdown",
   "metadata": {},
   "source": [
    "#### Selektives Einlesen von Spalten\n",
    "\n",
    "\n",
    "Häufig ist es so, dass man aus einer solchen Datei nur bestimmte Spalten einlesen will. Zu diesem Zweck übergibt man dem Parameter ```usecols``` ein Tupel mit den gewünschten Spaltenindizes. Dabei beginnt die Nummerierung wie üblich mit dem Index 0. Um die Wirkungsweise des Parameters ```usecols``` besser demonstrieren zu könnten, erzeugen und speichern wir zuerst ein Array mit 6 Spalten:"
   ]
  },
  {
   "cell_type": "code",
   "execution_count": 37,
   "metadata": {},
   "outputs": [
    {
     "name": "stdout",
     "output_type": "stream",
     "text": [
      "[[  8   5   1   0   1  -4  -8  -4  -2   9]\n",
      " [  0   8   1 -10  -5  -8   8  -1  -1   1]\n",
      " [ -6 -10   7 -10  -2  -7  -8  -3  -2   8]\n",
      " [  1   2   9   1  -7  -1   2  -3   7   6]]\n"
     ]
    }
   ],
   "source": [
    "Z = np.random.randint(-10, 10, size=(4,10))\n",
    "print(Z)\n",
    "np.savetxt(\"test3.txt\", Z, fmt=\"%1d\", delimiter=\" \")"
   ]
  },
  {
   "cell_type": "code",
   "execution_count": 38,
   "metadata": {},
   "outputs": [
    {
     "name": "stdout",
     "output_type": "stream",
     "text": [
      "[[  8.   5.  -8.]\n",
      " [  0.   8.   8.]\n",
      " [ -6. -10.  -8.]\n",
      " [  1.   2.   2.]]\n"
     ]
    }
   ],
   "source": [
    "y = np.loadtxt(\"test3.txt\", \n",
    "               delimiter=\" \", \n",
    "               usecols=(0, 1, 6))\n",
    "print(y)"
   ]
  },
  {
   "cell_type": "markdown",
   "metadata": {},
   "source": [
    "#### Datenkonvertierung beim Einlesen\n",
    "\n",
    "\n",
    "\n"
   ]
  },
  {
   "cell_type": "code",
   "execution_count": 39,
   "metadata": {},
   "outputs": [
    {
     "name": "stdout",
     "output_type": "stream",
     "text": [
      "[[23.5        20.94444444 24.5        25.27777778]\n",
      " [26.77777778 23.22222222 28.         29.        ]\n",
      " [30.16666667 26.33333333 31.77777778 32.33333333]]\n"
     ]
    }
   ],
   "source": [
    "def fahrenheit2celsius(t):\n",
    "    return (float(t) - 32) * 5 / 9\n",
    "\n",
    "converters_dict = {0:fahrenheit2celsius,\n",
    "                   1:fahrenheit2celsius,\n",
    "                   2:fahrenheit2celsius,\n",
    "                   3:fahrenheit2celsius}\n",
    "# Alternativ könnte converters_dict auch so definiert werden:\n",
    "#converters_dict = dict(zip(range(4), [fahrenheit2celsius]*4)\n",
    "y = np.loadtxt(\"temperatures.txt\", \n",
    "               delimiter=\" \", \n",
    "               skiprows=1,\n",
    "               converters=converters_dict)\n",
    "\n",
    "print(y)"
   ]
  },
  {
   "cell_type": "markdown",
   "metadata": {},
   "source": [
    "\n",
    "\n",
    "In unserem nächsten Beispiel lesen wir die Datei \"times_and_temperatures.txt\" aus dem Kapitel [Generatoren](python3_generatoren.php) des Python-Tutorials. Jede Zeile enthält eine Zeitangabe im Format \"hh::mm::ss\" und eine zufällige Temperatir zwischen 10.0 und 25.0 C°. Wir müssen den Zeit-String in einen Float-Wert konvertieren. Die Zeit wird in Minuten und Sekunden angegeben. Wir definieren zuerst eine Funktion, die \"hh::mm::ss\" in Minuten wandelt:\n",
    "\n"
   ]
  },
  {
   "cell_type": "code",
   "execution_count": 40,
   "metadata": {},
   "outputs": [
    {
     "name": "stdout",
     "output_type": "stream",
     "text": [
      "360.1666666666667\n",
      "387.75\n",
      "779.9833333333333\n"
     ]
    }
   ],
   "source": [
    "def time2float_minutes(time):\n",
    "    if type(time) == bytes:\n",
    "        time = time.decode()\n",
    "    t = time.split(\":\")\n",
    "    minutes = float(t[0])*60 + float(t[1]) + float(t[2]) * 0.05 / 3\n",
    "    return minutes\n",
    "\n",
    "for t in [\"06:00:10\", \"06:27:45\", \"12:59:59\"]:\n",
    "    print(time2float_minutes(t))\n"
   ]
  },
  {
   "cell_type": "markdown",
   "metadata": {},
   "source": [
    "Sie werden festgestellt haben, dass wir den Typ der Zeit gegen Binär geprüft haben. Der Grund liegt in der Benutzung unserer Funktion ```time2float_minutes``` in ```loadtxt``` im nächsten Beispiel. Der Schlüsselwort-Parameter ```converters``` beinhaltet ein Dictionary, welches eine Funktion für jede Spalte hält (der Schlüssel der Spalte entspricht dem Schlüssel des Dictionaries), um die String-Daten der Spalte in Float-Werte zu konvertieren. Die String-Daten sind ein Byte-String. Deshalb müssen wir diesen in unserer Funktion in einen Unicode-String transferieren:"
   ]
  },
  {
   "cell_type": "code",
   "execution_count": 41,
   "metadata": {},
   "outputs": [
    {
     "name": "stdout",
     "output_type": "stream",
     "text": [
      "[[ 360.    20.1]\n",
      " [ 361.5   16.1]\n",
      " [ 363.    16.9]\n",
      " ...\n",
      " [1375.5   22.5]\n",
      " [1377.    11.1]\n",
      " [1378.5   15.2]]\n"
     ]
    }
   ],
   "source": [
    "y = np.loadtxt(\"times_and_temperatures.txt\", \n",
    "               converters={ 0: time2float_minutes})\n",
    "print(y)"
   ]
  },
  {
   "cell_type": "markdown",
   "metadata": {},
   "source": [
    "<br>\n",
    "\n",
    "### tofile"
   ]
  },
  {
   "cell_type": "markdown",
   "metadata": {},
   "source": [
    "\n",
    "\n",
    "```tofile``` ist eine Funktion, die es ermöglicht, den Inhalt eines Arrays sowohl im Binär-Format als auch im Text-Format in eine Datei zu schreiben.\n",
    "\n",
    "```A.tofile(fid, sep=' ', format='%s')```\n",
    "\n",
    "Die Daten aus dem ndarray A sind nun in \"C\"-Reihenfolge geschrieben, ohne Rücksicht der Reihenfolge aus A.\n",
    "\n",
    "Die Datei, die mit dieser Methode geschrieben wurde, kann mit der Funktion ```fromfile()``` wieder geladen werden.\n",
    "\n",
    "| Parameter  |  Bedeutung |\n",
    "|------------|----------|\n",
    "|fid         | Kann entweder ein offenes Datei-Objekt sein, oder ein String mit einem Dateinamen.|\n",
    "|sep | Der String \"sep\" definiert den Separator, der für die Text-Ausgabe zwischen den Elementen verwendet wird. Übergibt man diesem Parameter einen leeren String, wird eine Binär-Datei geschrieben, genau wie file.write(a.tostring()).|\n",
    "|format | Format-String für die Text-Ausgabe. Jeder Eintrag im Array wird so formatiert, indem dieser in den nächsten Python-Typ konvertiert wird und dann \"format\" angewendet wird.|\n",
    "\n",
    "<b>Anmerkung:</b>\n",
    "\n",
    "Informationen zur Byte-Reihenfolge und Präzision gehen verloren. Deshalb ist es keine gute Idee, die Funktion zu benutzen, um Daten zu archivieren oder zwischen Maschinen mit verschiedener Byte-Reihenfolge zu transportieren. Einige dieser Probleme können überwunden werden. Bei der Ausgabe der Daten als Textdatei geht es auf Kosten der Geschwindigkeit und Dateigröße."
   ]
  },
  {
   "cell_type": "code",
   "execution_count": 42,
   "metadata": {},
   "outputs": [
    {
     "name": "stdout",
     "output_type": "stream",
     "text": [
      "[((10, 0), 98.25)]\n"
     ]
    }
   ],
   "source": [
    "dt = np.dtype([('time', [('min', int), ('sec', int)]),\n",
    "               ('temp', float)])\n",
    "x = np.zeros((1,), dtype=dt)\n",
    "x['time']['min'] = 10\n",
    "x['temp'] = 98.25\n",
    "print(x)\n",
    "\n",
    "fh = open(\"test6.txt\", \"bw\")\n",
    "x.tofile(fh)"
   ]
  },
  {
   "cell_type": "markdown",
   "metadata": {},
   "source": [
    "<br>\n",
    "\n",
    "### fromfile"
   ]
  },
  {
   "cell_type": "markdown",
   "metadata": {},
   "source": [
    "```fromfile``` liest Daten, die mit ```tofile``` geschrieben wurden. Es ist möglich, Binär-Daten zu lesen, wenn der Typ der Daten bekannt ist. Es ist ebenfalls möglich, einfach formatierte Textdateien zu parsen. Die Daten aus der Datei werden als Array zurückgegeben.\n",
    "\n",
    "Die allgemeine Syntax sieht wie folgt aus:\n",
    "\n",
    "```numpy.fromfile(file, dtype=float, count=-1, sep='')```\n",
    "\n"
   ]
  },
  {
   "cell_type": "markdown",
   "metadata": {},
   "source": []
  },
  {
   "cell_type": "code",
   "execution_count": 43,
   "metadata": {},
   "outputs": [
    {
     "name": "stdout",
     "output_type": "stream",
     "text": [
      "[((  4294967296,  12884901890), 1.06099790e-313)\n",
      " (( 30064771078,  38654705672), 2.33419537e-313)\n",
      " (( 55834574860,  64424509454), 3.60739285e-313)\n",
      " (( 81604378642,  90194313236), 4.88059032e-313)\n",
      " ((107374182424, 115964117018), 6.15378780e-313)\n",
      " ((133143986206, 141733920800), 7.42698527e-313)\n",
      " ((158913789988, 167503724582), 8.70018274e-313)\n",
      " ((184683593770, 193273528364), 9.97338022e-313)]\n"
     ]
    }
   ],
   "source": [
    "fh = open(\"test4.txt\", \"rb\")\n",
    "\n",
    "print(np.fromfile(fh, dtype=dt))\n"
   ]
  },
  {
   "cell_type": "code",
   "execution_count": 44,
   "metadata": {},
   "outputs": [
    {
     "name": "stdout",
     "output_type": "stream",
     "text": [
      "[32 33 34 35 36 37 38 39 40 41 42 43 44 45 46 47 48 49]\n"
     ]
    }
   ],
   "source": [
    "import numpy as np\n",
    "import os\n",
    "\n",
    "data = np.arange(50, dtype=np.int32)\n",
    "data.tofile(\"test4.txt\")\n",
    "\n",
    "fh = open(\"test4.txt\", \"rb\")\n",
    "# 4 * 32 = 128\n",
    "fh.seek(128, os.SEEK_SET)\n",
    "\n",
    "x = np.fromfile(fh, dtype=np.int32)\n",
    "print(x)"
   ]
  },
  {
   "cell_type": "markdown",
   "metadata": {},
   "source": [
    "<b>Vorsicht:</b>\n",
    "\n",
    "Es können Probleme auftreten, wenn ```tofile``` und ```fromfile``` für Datenspeicherung (Storage) benutzt werden, denn Binär-Dateien sind nicht plattformunabhängig. Über ```tofile``` werden keine Informationen zur Byte-Reihenfolge oder Daten-Typen abgespeichert. Daten können im .npy-Format plattformunabhängig gespeichert werden, wenn stattdessen ```save``` und ```load``` verwendet werden."
   ]
  },
  {
   "cell_type": "markdown",
   "metadata": {},
   "source": [
    "<br><br>\n",
    "\n",
    "### Best Practice, um Daten zu laden und zu speichern"
   ]
  },
  {
   "cell_type": "markdown",
   "metadata": {},
   "source": [
    "Der empfohlene Weg, um Daten mit NumPy in Python zu speichern und zu laden, besteht in der Benutzung von ```load``` und ```save```. Im folgenden Beispiel benutzen wir eine temporäre Datei:"
   ]
  },
  {
   "cell_type": "code",
   "execution_count": 45,
   "metadata": {},
   "outputs": [
    {
     "name": "stdout",
     "output_type": "stream",
     "text": [
      "[32 33 34 35 36 37 38 39 40 41 42 43 44 45 46 47 48 49]\n"
     ]
    },
    {
     "data": {
      "text/plain": [
       "array([0, 1, 2, 3, 4, 5, 6, 7, 8, 9])"
      ]
     },
     "execution_count": 45,
     "metadata": {},
     "output_type": "execute_result"
    }
   ],
   "source": [
    "import numpy as np\n",
    "\n",
    "print(x)\n",
    "\n",
    "from tempfile import TemporaryFile\n",
    "\n",
    "outfile = TemporaryFile()\n",
    "\n",
    "x = np.arange(10)\n",
    "np.save(outfile, x)\n",
    "\n",
    "outfile.seek(0) # Only needed here to simulate closing & reopening file\n",
    "np.load(outfile)\n",
    "\n"
   ]
  },
  {
   "cell_type": "markdown",
   "metadata": {},
   "source": [
    "<br><br>\n",
    "\n",
    "### Und noch ein anderer Weg: genfromtxt"
   ]
  },
  {
   "cell_type": "markdown",
   "metadata": {},
   "source": [
    "\n",
    "Es gibt noch einen weiteren Weg um tabellarische Daten aus einer Datei zu lesen um Arrays zu konstruieren. Wie der Name schon verrät, sollte die Datei eine Text-Datei sein. Die Datei kann ebenfalls eine Archiv-Datei sein. ```genfromtxt``` kann die Archiv-Formate gzip und bzip2 verarbeiten. Der Typ des Archivs wird durch die Datei-Erweiterung angegeben d.h. '.gz' für gzip und '.bz2' für bzip2.\n",
    "\n",
    "```genfromtxt``` ist langsamer als ```loadtxt```, jedoch kann es mit fehlenden Daten umgehen. Es verarbeitet die Datei in zwei Phasen. Zuerst werden die Zeilen in Strings konvertiert. Anschließend werden die Strings in den geforderten Daten-Typ konvertiert. Auf der anderen Seite arbeitet ```loadtxt``` mit nur einem Schritt, wodurch es schneller ist."
   ]
  }
 ],
 "metadata": {
  "anaconda-cloud": {},
  "kernelspec": {
   "display_name": "Python 3",
   "language": "python",
   "name": "python3"
  },
  "language_info": {
   "codemirror_mode": {
    "name": "ipython",
    "version": 3
   },
   "file_extension": ".py",
   "mimetype": "text/x-python",
   "name": "python",
   "nbconvert_exporter": "python",
   "pygments_lexer": "ipython3",
   "version": "3.7.6"
  },
  "toc": {
   "base_numbering": 1,
   "nav_menu": {},
   "number_sections": true,
   "sideBar": true,
   "skip_h1_title": false,
   "title_cell": "Table of Contents",
   "title_sidebar": "Contents",
   "toc_cell": false,
   "toc_position": {},
   "toc_section_display": true,
   "toc_window_display": true
  }
 },
 "nbformat": 4,
 "nbformat_minor": 4
}
