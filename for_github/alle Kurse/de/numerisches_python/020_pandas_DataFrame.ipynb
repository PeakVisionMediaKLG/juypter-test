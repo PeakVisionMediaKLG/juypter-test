{
 "cells": [
  {
   "cell_type": "code",
   "execution_count": 140,
   "metadata": {},
   "outputs": [],
   "source": [
    "# invisible\n",
    "import numpy as np\n",
    "import pandas as pd\n",
    "np.core.arrayprint._line_width = 60\n",
    "\n",
    "\n",
    "pd.set_option('display.max_colwidth', 65)\n",
    "pd.set_option('display.max_columns', 5)"
   ]
  },
  {
   "cell_type": "markdown",
   "metadata": {},
   "source": [
    "\n",
    "\n",
    "Im vorigen Kapitel haben wir gesehen, dass der Datentyp ```Series``` logisch gesehen einer Spalte mit Index einer Excel-Tabelle eintspricht. In diesem Kapitel geht es nun um den Datentyp ```DataFrame```, den man sich nun wie eine komplette Excel-Tabelle vorstellen kann. Man kann also sagen, dass dieser Datentyp auf Tabellen basiert. Ein  ```DataFrame``` besteht aus einer geordneten Sequenz von Spalten. Jede Spalte besteht aus einem eindeutigen Daten-Typ -- wie eine ```Series```, -- aber verschiedene Spalten können verschiedene Typen haben. So könnte beispielsweise eine Spalte Verkaufszahlen als Float-Zahlen enthalten, während eine andere die zugehörigen Jahreszahlen als Integer-Zahlen enthalten könnte. \n",
    "\n",
    "\n",
    "### Zusammenhang zu Series\n",
    "\n",
    "\n",
    "Ein DataFrame hat einen Zeilen- und einen Spalten-Index. Es ist wie ein Dictionary aus Series mit einem normalen Index. Jede Series wird über einen Index, d.h. Namen der Spalte angesprochen. \n",
    "Wir demonstrieren diesen Zusammenhang im folgenden Beispiel, in dem drei Series-Objekte definiert und zu einem ```DataFrame``` zusammengebaut werden:\n",
    "\n",
    "\n",
    "\n",
    "## DataFrame\n",
    "<img width=300 class=\"imgright\" src=\"../images/spreadsheet.webp\" srcset=\"../images/spreadsheet_300w.webp 300w\" alt=\"Spreadsheet und DataFrame\" />\n",
    "\n",
    "Die grundlegende Idee von DataFrame basiert auf Tabellen. Wir können die Daten-Struktur eines DataFrame als tabellarisch und tabellenähnlich sehen. Ein Dataframe beinhaltet eine geordnete Sammlung von Spalten. Jede Spalte besteht aus einem eindeutigen Daten-Typen, aber verschiedene Spalten haben verschiedene Typen, z.B. könnte die erste Spalte vom Typ  Integer sein, während die zweite Spalte vom Typ Boolean ist, usw.\n",
    "\n",
    "Ein DataFrame hat einen Zeilen- und ein Spalten-Index. Es ist wie ein Dictionary aus Series mit einem normalen Index.\n",
    "Wir demonstrieren dies im folgenden Beispiel, in dem drei Series-Objekte definiert werden:\n",
    "\n",
    "\n"
   ]
  },
  {
   "cell_type": "code",
   "execution_count": 141,
   "metadata": {},
   "outputs": [],
   "source": [
    "import pandas as pd\n",
    "\n",
    "years = range(2014, 2018)\n",
    "\n",
    "shop1 = pd.Series([2409.14, 2941.01, 3496.83, 3119.55], index=years)\n",
    "shop2 = pd.Series([1203.45, 3441.62, 3007.83, 3619.53], index=years)\n",
    "shop3 = pd.Series([3412.12, 3491.16, 3457.19, 1963.10], index=years)"
   ]
  },
  {
   "cell_type": "markdown",
   "metadata": {},
   "source": [
    "\n",
    "Was passiert, wenn diese \"shop\"-Series-Objekte konkateniert werden? Pandas stellt eine concat()-Funktion für diesen Zweck zur Verfügung:"
   ]
  },
  {
   "cell_type": "code",
   "execution_count": 142,
   "metadata": {},
   "outputs": [
    {
     "data": {
      "text/plain": [
       "2014    2409.14\n",
       "2015    2941.01\n",
       "2016    3496.83\n",
       "2017    3119.55\n",
       "2014    1203.45\n",
       "2015    3441.62\n",
       "2016    3007.83\n",
       "2017    3619.53\n",
       "2014    3412.12\n",
       "2015    3491.16\n",
       "2016    3457.19\n",
       "2017    1963.10\n",
       "dtype: float64"
      ]
     },
     "execution_count": 142,
     "metadata": {},
     "output_type": "execute_result"
    }
   ],
   "source": [
    "pd.concat([shop1, shop2, shop3])"
   ]
  },
  {
   "cell_type": "markdown",
   "metadata": {},
   "source": [
    "Das Ergebnis ist wohl nicht das, was wir erwartet haben. Der Grund dafür ist, dass concat() für den axis-Parameter 0 verwendet. Probieren wir es mit \"axis=1\":"
   ]
  },
  {
   "cell_type": "code",
   "execution_count": 143,
   "metadata": {},
   "outputs": [
    {
     "name": "stdout",
     "output_type": "stream",
     "text": [
      "            0        1        2\n",
      "2014  2409.14  1203.45  3412.12\n",
      "2015  2941.01  3441.62  3491.16\n",
      "2016  3496.83  3007.83  3457.19\n",
      "2017  3119.55  3619.53  1963.10\n"
     ]
    }
   ],
   "source": [
    "shops_df = pd.concat([shop1, shop2, shop3], axis=1)\n",
    "print(shops_df)"
   ]
  },
  {
   "cell_type": "markdown",
   "metadata": {},
   "source": [
    "Die Frage ist, von welchem Datentyp das Ergebnis ist:"
   ]
  },
  {
   "cell_type": "code",
   "execution_count": 144,
   "metadata": {},
   "outputs": [
    {
     "name": "stdout",
     "output_type": "stream",
     "text": [
      "<class 'pandas.core.frame.DataFrame'>\n"
     ]
    }
   ],
   "source": [
    "print(type(shops_df))"
   ]
  },
  {
   "cell_type": "markdown",
   "metadata": {},
   "source": [
    "Das bedeutet, dass wir Series-Objekte durch Konkatenierung in DataFrame-Objekte wandeln können!"
   ]
  },
  {
   "cell_type": "markdown",
   "metadata": {},
   "source": [
    "\n",
    "\n",
    "\n",
    "Die Spaltennamen lauten:\n"
   ]
  },
  {
   "cell_type": "code",
   "execution_count": 145,
   "metadata": {},
   "outputs": [
    {
     "data": {
      "text/plain": [
       "RangeIndex(start=0, stop=3, step=1)"
      ]
     },
     "execution_count": 145,
     "metadata": {},
     "output_type": "execute_result"
    }
   ],
   "source": [
    "shops_df.columns"
   ]
  },
  {
   "cell_type": "code",
   "execution_count": 146,
   "metadata": {},
   "outputs": [
    {
     "data": {
      "text/plain": [
       "array([0, 1, 2])"
      ]
     },
     "execution_count": 146,
     "metadata": {},
     "output_type": "execute_result"
    }
   ],
   "source": [
    "shops_df.columns.values"
   ]
  },
  {
   "cell_type": "markdown",
   "metadata": {},
   "source": [
    "\n",
    "\n",
    "\n",
    "Wir geben den Spalten noch Namen, um das DataFrame etwas leichter lesbar zu machen:\n"
   ]
  },
  {
   "cell_type": "code",
   "execution_count": 147,
   "metadata": {},
   "outputs": [
    {
     "name": "stdout",
     "output_type": "stream",
     "text": [
      "       Zürich  Winterthur  Freiburg\n",
      "2014  2409.14     1203.45   3412.12\n",
      "2015  2941.01     3441.62   3491.16\n",
      "2016  3496.83     3007.83   3457.19\n",
      "2017  3119.55     3619.53   1963.10\n"
     ]
    }
   ],
   "source": [
    "cities = [\"Zürich\", \"Winterthur\", \"Freiburg\"]\n",
    "shops_df.columns = cities \n",
    "print(shops_df)"
   ]
  },
  {
   "cell_type": "markdown",
   "metadata": {},
   "source": [
    "Andererseits wäre eine Umbenennung in unserem Fall überhaupt nicht notwendig gewesen, wenn die Series bereits entsprechend benamt gewesen wären. Wir zeigen dies in folgendem Fall:"
   ]
  },
  {
   "cell_type": "code",
   "execution_count": 148,
   "metadata": {},
   "outputs": [
    {
     "name": "stdout",
     "output_type": "stream",
     "text": [
      "       Zürich  Winterthur  Freiburg\n",
      "2014  2409.14     1203.45   3412.12\n",
      "2015  2941.01     3441.62   3491.16\n",
      "2016  3496.83     3007.83   3457.19\n",
      "2017  3119.55     3619.53   1963.10\n"
     ]
    }
   ],
   "source": [
    "shop1.name = \"Zürich\"\n",
    "shop2.name = \"Winterthur\"\n",
    "shop3.name = \"Freiburg\"\n",
    "shops_df2 = pd.concat([shop1, shop2, shop3], axis=1)\n",
    "print(shops_df2)"
   ]
  },
  {
   "cell_type": "markdown",
   "metadata": {},
   "source": [
    "\n",
    "\n",
    "Auf die Spalten eines Dataframes können wir einfach durch Indizierung zugreifen:"
   ]
  },
  {
   "cell_type": "code",
   "execution_count": 149,
   "metadata": {},
   "outputs": [
    {
     "name": "stdout",
     "output_type": "stream",
     "text": [
      "2014    2409.14\n",
      "2015    2941.01\n",
      "2016    3496.83\n",
      "2017    3119.55\n",
      "Name: Zürich, dtype: float64\n"
     ]
    }
   ],
   "source": [
    "print(shops_df[\"Zürich\"])"
   ]
  },
  {
   "cell_type": "markdown",
   "metadata": {},
   "source": [
    "Jede einzelne der Spalten entsprach ursprünglich einer Series und entspricht auch immer noch einer Series. Dies können wir sehen, wenn wir uns den Typ anschauen:"
   ]
  },
  {
   "cell_type": "code",
   "execution_count": 150,
   "metadata": {},
   "outputs": [
    {
     "name": "stdout",
     "output_type": "stream",
     "text": [
      "<class 'pandas.core.series.Series'>\n"
     ]
    }
   ],
   "source": [
    "print(type(shops_df[\"Zürich\"]))"
   ]
  },
  {
   "cell_type": "markdown",
   "metadata": {},
   "source": [
    "Pandas bietet noch eine syntaktisch deutlich einfachere Methode, auf die Spalten zuzugreifen. Die Spaltennamen wurden dazu als Properties implementiert, und dies bedeutet, dass man einfach den Spaltennamen mittels Punkt an das Dataframe anhängen kann, um die entsprechende Spalte anzusprechen. "
   ]
  },
  {
   "cell_type": "code",
   "execution_count": 151,
   "metadata": {},
   "outputs": [
    {
     "name": "stdout",
     "output_type": "stream",
     "text": [
      "2014    2409.14\n",
      "2015    2941.01\n",
      "2016    3496.83\n",
      "2017    3119.55\n",
      "Name: Zürich, dtype: float64\n"
     ]
    }
   ],
   "source": [
    "print(shops_df.Zürich)"
   ]
  },
  {
   "cell_type": "markdown",
   "metadata": {},
   "source": [
    "### DataFrames aus Dictionaries\n",
    "\n",
    "\n",
    "\n",
    "\n",
    "Wie schon erwähnt, hat ein DataFrame einen Spalten- und einen Zeilen-Index. Man kann es sich also  wie ein Dictionary aus Series-Objekten mit Keys vorstellen.\n",
    "\n",
    "\n"
   ]
  },
  {
   "cell_type": "code",
   "execution_count": 152,
   "metadata": {
    "scrolled": true
   },
   "outputs": [
    {
     "name": "stdout",
     "output_type": "stream",
     "text": [
      "         name  population  country\n",
      "0      London     8615246  England\n",
      "1      Berlin     3562166  Germany\n",
      "2      Madrid     3165235    Spain\n",
      "3        Rome     2874038    Italy\n",
      "4       Paris     2273305   France\n",
      "5      Vienna     1805681  Austria\n",
      "6   Bucharest     1803425  Romania\n",
      "7     Hamburg     1760433  Germany\n",
      "8    Budapest     1754000  Hungary\n",
      "9      Warsaw     1740119   Poland\n",
      "10  Barcelona     1602386    Spain\n",
      "11     Munich     1493900  Germany\n",
      "12      Milan     1350680    Italy\n"
     ]
    }
   ],
   "source": [
    "cities = {\"name\": [\"London\", \"Berlin\", \"Madrid\", \"Rome\", \n",
    "                   \"Paris\", \"Vienna\", \"Bucharest\", \"Hamburg\", \n",
    "                   \"Budapest\", \"Warsaw\", \"Barcelona\", \n",
    "                   \"Munich\", \"Milan\"],\n",
    "          \"population\": [8615246, 3562166, 3165235, 2874038,\n",
    "                         2273305, 1805681, 1803425, 1760433,\n",
    "                         1754000, 1740119, 1602386, 1493900,\n",
    "                         1350680],\n",
    "          \"country\": [\"England\", \"Germany\", \"Spain\", \"Italy\",\n",
    "                      \"France\", \"Austria\", \"Romania\", \n",
    "                      \"Germany\", \"Hungary\", \"Poland\", \"Spain\",\n",
    "                      \"Germany\", \"Italy\"]}\n",
    "\n",
    "city_frame = pd.DataFrame(cities)\n",
    "print(city_frame)"
   ]
  },
  {
   "cell_type": "markdown",
   "metadata": {},
   "source": [
    "\n",
    "\n",
    "\n",
    "### Index eines DataFrames ändern\n",
    "\n",
    "Der Index 0,1,2,... wird automatisch dem DataFrame zugewiesen. Wir können ebenfalls einen angepassten beliebigen Index verwenden:\n",
    "\n",
    "\n"
   ]
  },
  {
   "cell_type": "code",
   "execution_count": 153,
   "metadata": {},
   "outputs": [
    {
     "name": "stdout",
     "output_type": "stream",
     "text": [
      "                 name  population  country\n",
      "first          London     8615246  England\n",
      "second         Berlin     3562166  Germany\n",
      "third          Madrid     3165235    Spain\n",
      "fourth           Rome     2874038    Italy\n",
      "fifth           Paris     2273305   France\n",
      "sixth          Vienna     1805681  Austria\n",
      "seventh     Bucharest     1803425  Romania\n",
      "eigth         Hamburg     1760433  Germany\n",
      "ninth        Budapest     1754000  Hungary\n",
      "tenth          Warsaw     1740119   Poland\n",
      "eleventh    Barcelona     1602386    Spain\n",
      "twelvth        Munich     1493900  Germany\n",
      "thirteenth      Milan     1350680    Italy\n"
     ]
    }
   ],
   "source": [
    "ordinals = [\"first\", \"second\", \"third\", \"fourth\",\n",
    "            \"fifth\", \"sixth\", \"seventh\", \"eigth\",\n",
    "            \"ninth\", \"tenth\", \"eleventh\", \"twelvth\",\n",
    "            \"thirteenth\"]\n",
    "city_frame = pd.DataFrame(cities, index=ordinals)\n",
    "print(city_frame)"
   ]
  },
  {
   "cell_type": "markdown",
   "metadata": {},
   "source": [
    "#### Umsortierung der Spalten\n",
    "\n",
    "\n",
    "\n",
    "\n",
    "Die Sortierung kann zum Zeitpunkt der Erstellung des DataFrame definiert und angepasst werden. Damit kann sichergestellt werden, dass wir eine definierte Sortierung der Spalten haben, wenn das DataFrame aus einem Dictionary erzeugt wird. Dictionaries waren bis Python 3.6 nicht geordnet, wie wir es im Kapitel zu [Dictionaries](python3_dictionaries.php) gezeigt haben. Dadurch konnte man bis Python 3.6 nicht wissen, in welcher Reichenfolge die Indizes iteriert worden. Mit dem Parameter ```columns``` können wir jedoch eine Reihenfolge festlegen:\n"
   ]
  },
  {
   "cell_type": "code",
   "execution_count": 154,
   "metadata": {
    "scrolled": true
   },
   "outputs": [
    {
     "name": "stdout",
     "output_type": "stream",
     "text": [
      "         name  country  population\n",
      "0      London  England     8615246\n",
      "1      Berlin  Germany     3562166\n",
      "2      Madrid    Spain     3165235\n",
      "3        Rome    Italy     2874038\n",
      "4       Paris   France     2273305\n",
      "5      Vienna  Austria     1805681\n",
      "6   Bucharest  Romania     1803425\n",
      "7     Hamburg  Germany     1760433\n",
      "8    Budapest  Hungary     1754000\n",
      "9      Warsaw   Poland     1740119\n",
      "10  Barcelona    Spain     1602386\n",
      "11     Munich  Germany     1493900\n",
      "12      Milan    Italy     1350680\n"
     ]
    }
   ],
   "source": [
    "city_frame = pd.DataFrame(cities,\n",
    "                          columns = [\"name\", \n",
    "                                     \"country\", \n",
    "                                     \"population\"])\n",
    "print(city_frame)"
   ]
  },
  {
   "cell_type": "markdown",
   "metadata": {},
   "source": [
    "\n",
    "\n",
    "Im Folgenden ändern wir sowohl die Spaltenreihenfolge und die Indexreihenfolge mit der Funktion ```reindex```:"
   ]
  },
  {
   "cell_type": "code",
   "execution_count": 155,
   "metadata": {},
   "outputs": [
    {
     "data": {
      "text/html": [
       "<div>\n",
       "<style scoped>\n",
       "    .dataframe tbody tr th:only-of-type {\n",
       "        vertical-align: middle;\n",
       "    }\n",
       "\n",
       "    .dataframe tbody tr th {\n",
       "        vertical-align: top;\n",
       "    }\n",
       "\n",
       "    .dataframe thead th {\n",
       "        text-align: right;\n",
       "    }\n",
       "</style>\n",
       "<table border=\"1\" class=\"dataframe\">\n",
       "  <thead>\n",
       "    <tr style=\"text-align: right;\">\n",
       "      <th></th>\n",
       "      <th>country</th>\n",
       "      <th>name</th>\n",
       "      <th>population</th>\n",
       "    </tr>\n",
       "  </thead>\n",
       "  <tbody>\n",
       "    <tr>\n",
       "      <th>0</th>\n",
       "      <td>England</td>\n",
       "      <td>London</td>\n",
       "      <td>8615246</td>\n",
       "    </tr>\n",
       "    <tr>\n",
       "      <th>2</th>\n",
       "      <td>Spain</td>\n",
       "      <td>Madrid</td>\n",
       "      <td>3165235</td>\n",
       "    </tr>\n",
       "    <tr>\n",
       "      <th>4</th>\n",
       "      <td>France</td>\n",
       "      <td>Paris</td>\n",
       "      <td>2273305</td>\n",
       "    </tr>\n",
       "    <tr>\n",
       "      <th>6</th>\n",
       "      <td>Romania</td>\n",
       "      <td>Bucharest</td>\n",
       "      <td>1803425</td>\n",
       "    </tr>\n",
       "    <tr>\n",
       "      <th>8</th>\n",
       "      <td>Hungary</td>\n",
       "      <td>Budapest</td>\n",
       "      <td>1754000</td>\n",
       "    </tr>\n",
       "    <tr>\n",
       "      <th>10</th>\n",
       "      <td>Spain</td>\n",
       "      <td>Barcelona</td>\n",
       "      <td>1602386</td>\n",
       "    </tr>\n",
       "    <tr>\n",
       "      <th>12</th>\n",
       "      <td>Italy</td>\n",
       "      <td>Milan</td>\n",
       "      <td>1350680</td>\n",
       "    </tr>\n",
       "    <tr>\n",
       "      <th>1</th>\n",
       "      <td>Germany</td>\n",
       "      <td>Berlin</td>\n",
       "      <td>3562166</td>\n",
       "    </tr>\n",
       "    <tr>\n",
       "      <th>3</th>\n",
       "      <td>Italy</td>\n",
       "      <td>Rome</td>\n",
       "      <td>2874038</td>\n",
       "    </tr>\n",
       "    <tr>\n",
       "      <th>5</th>\n",
       "      <td>Austria</td>\n",
       "      <td>Vienna</td>\n",
       "      <td>1805681</td>\n",
       "    </tr>\n",
       "    <tr>\n",
       "      <th>7</th>\n",
       "      <td>Germany</td>\n",
       "      <td>Hamburg</td>\n",
       "      <td>1760433</td>\n",
       "    </tr>\n",
       "    <tr>\n",
       "      <th>9</th>\n",
       "      <td>Poland</td>\n",
       "      <td>Warsaw</td>\n",
       "      <td>1740119</td>\n",
       "    </tr>\n",
       "    <tr>\n",
       "      <th>11</th>\n",
       "      <td>Germany</td>\n",
       "      <td>Munich</td>\n",
       "      <td>1493900</td>\n",
       "    </tr>\n",
       "  </tbody>\n",
       "</table>\n",
       "</div>"
      ],
      "text/plain": [
       "    country       name  population\n",
       "0   England     London     8615246\n",
       "2     Spain     Madrid     3165235\n",
       "4    France      Paris     2273305\n",
       "6   Romania  Bucharest     1803425\n",
       "8   Hungary   Budapest     1754000\n",
       "10    Spain  Barcelona     1602386\n",
       "12    Italy      Milan     1350680\n",
       "1   Germany     Berlin     3562166\n",
       "3     Italy       Rome     2874038\n",
       "5   Austria     Vienna     1805681\n",
       "7   Germany    Hamburg     1760433\n",
       "9    Poland     Warsaw     1740119\n",
       "11  Germany     Munich     1493900"
      ]
     },
     "execution_count": 155,
     "metadata": {},
     "output_type": "execute_result"
    }
   ],
   "source": [
    "city_frame.reindex(index=[0, 2, 4, 6,  8, 10, 12, 1, 3, 5, 7, 9, 11], \n",
    "                   columns=['country', 'name', 'population'])\n"
   ]
  },
  {
   "cell_type": "markdown",
   "metadata": {},
   "source": [
    "Jetzt wollen wir die Spalten umbenennen. Dafür verwenden wir die DataFrame-Methode ```rename```. Die Methode unterstützt folgende Konventionen:\n",
    "\n",
    "- (index=index_mapper, columns=columns_mapper, ...)\n",
    "- (mapper, axis={'index', 'columns'}, ...)\n",
    "\n",
    "Wir benennen nun im folgenden Beispiel die Spalten unseres DataFrame in rumänische Bezeichnungen um. Den Parameter inplace setzen wir auf True, damit das DataFrame-Objekt direkt geändert und kein neues erzeugt wird. Der Default-Wert für den Parameter  ```inplace``` ist ```False```."
   ]
  },
  {
   "cell_type": "code",
   "execution_count": 156,
   "metadata": {},
   "outputs": [
    {
     "name": "stdout",
     "output_type": "stream",
     "text": [
      "         Nume     țară  populație\n",
      "0      London  England    8615246\n",
      "1      Berlin  Germany    3562166\n",
      "2      Madrid    Spain    3165235\n",
      "3        Rome    Italy    2874038\n",
      "4       Paris   France    2273305\n",
      "5      Vienna  Austria    1805681\n",
      "6   Bucharest  Romania    1803425\n",
      "7     Hamburg  Germany    1760433\n",
      "8    Budapest  Hungary    1754000\n",
      "9      Warsaw   Poland    1740119\n",
      "10  Barcelona    Spain    1602386\n",
      "11     Munich  Germany    1493900\n",
      "12      Milan    Italy    1350680\n"
     ]
    }
   ],
   "source": [
    "city_frame.rename(columns={\"name\":\"Nume\", \n",
    "                           \"country\":\"țară\", \n",
    "                           \"population\":\"populație\"},\n",
    "                  inplace=True)\n",
    "print(city_frame)"
   ]
  },
  {
   "cell_type": "markdown",
   "metadata": {},
   "source": [
    "\n",
    "\n",
    "\n",
    "#### Bestehende Spalte als Index im DataFrame\n",
    "\n",
    "Wir wollen im nächsten Beispiel einen \"nützlicheren\" Index für unser Beispiel erzeugen. Dafür verwenden wir die Landesnamen als Index, d.h. die Werte aus der Liste mit dem Key ```country``` aus unserem ```cities```-Dictionary. Wir zeigen zuerst, wie man dies direkt bei der Erzeugung des DataFrames bewerkstelligen kann:\n",
    "\n",
    "\n",
    "\n"
   ]
  },
  {
   "cell_type": "code",
   "execution_count": 157,
   "metadata": {},
   "outputs": [
    {
     "name": "stdout",
     "output_type": "stream",
     "text": [
      "              name  population\n",
      "England     London     8615246\n",
      "Germany     Berlin     3562166\n",
      "Spain       Madrid     3165235\n",
      "Italy         Rome     2874038\n",
      "France       Paris     2273305\n",
      "Austria     Vienna     1805681\n",
      "Romania  Bucharest     1803425\n",
      "Germany    Hamburg     1760433\n",
      "Hungary   Budapest     1754000\n",
      "Poland      Warsaw     1740119\n",
      "Spain    Barcelona     1602386\n",
      "Germany     Munich     1493900\n",
      "Italy        Milan     1350680\n"
     ]
    }
   ],
   "source": [
    "city_frame = pd.DataFrame(cities,\n",
    "                          columns=['name', 'population'],\n",
    "                          index=cities['country'])\n",
    "\n",
    "print(city_frame)"
   ]
  },
  {
   "cell_type": "markdown",
   "metadata": {},
   "source": [
    "\n",
    "\n",
    "\n",
    "Man kann auch in einem bestehenden DataFrame den Index neu setzen. Dazu nutzen wir die Methode ```set_index```, um eine Spalte in einen Index zu wandeln. Dabei ist zu beachten, dass ```set_index``` ein neues DataFrame zurückliefert, bei dem die gewählte Spalte als Index verwendet wird:\n",
    "\n",
    "\n",
    "\n",
    "\n",
    "\n"
   ]
  },
  {
   "cell_type": "code",
   "execution_count": 158,
   "metadata": {},
   "outputs": [
    {
     "name": "stdout",
     "output_type": "stream",
     "text": [
      "              name  population\n",
      "country                       \n",
      "England     London     8615246\n",
      "Germany     Berlin     3562166\n",
      "Spain       Madrid     3165235\n",
      "Italy         Rome     2874038\n",
      "France       Paris     2273305\n",
      "Austria     Vienna     1805681\n",
      "Romania  Bucharest     1803425\n",
      "Germany    Hamburg     1760433\n",
      "Hungary   Budapest     1754000\n",
      "Poland      Warsaw     1740119\n",
      "Spain    Barcelona     1602386\n",
      "Germany     Munich     1493900\n",
      "Italy        Milan     1350680\n"
     ]
    }
   ],
   "source": [
    "city_frame = pd.DataFrame(cities)\n",
    "city_frame2 = city_frame.set_index(\"country\")\n",
    "print(city_frame2)"
   ]
  },
  {
   "cell_type": "markdown",
   "metadata": {},
   "source": [
    "Im vorherigen Beispiel haben wir gesehen, dass die Methode ```set_index``` ein neues DataFrame-Objekt liefert und nicht das originale Objekt verändert. Möchte man kein neues DataFrame erzeugen, sondern das bestehende direkt mit einem neuen Index versehen, so kann man den Parameter \"inplace\" auf True setzen. Dadurch wird dann das originale Objekt direkt verändert:"
   ]
  },
  {
   "cell_type": "code",
   "execution_count": 159,
   "metadata": {},
   "outputs": [
    {
     "name": "stdout",
     "output_type": "stream",
     "text": [
      "              name  population\n",
      "country                       \n",
      "England     London     8615246\n",
      "Germany     Berlin     3562166\n",
      "Spain       Madrid     3165235\n",
      "Italy         Rome     2874038\n",
      "France       Paris     2273305\n",
      "Austria     Vienna     1805681\n",
      "Romania  Bucharest     1803425\n",
      "Germany    Hamburg     1760433\n",
      "Hungary   Budapest     1754000\n",
      "Poland      Warsaw     1740119\n",
      "Spain    Barcelona     1602386\n",
      "Germany     Munich     1493900\n",
      "Italy        Milan     1350680\n"
     ]
    }
   ],
   "source": [
    "city_frame = pd.DataFrame(cities)\n",
    "city_frame.set_index(\"country\", inplace=True)\n",
    "print(city_frame)"
   ]
  },
  {
   "cell_type": "markdown",
   "metadata": {},
   "source": [
    "### Selektion von Zeilen\n",
    "\n",
    "\n",
    "Bis jetzt haben wir die DataFrame-Objekte über die Spalten indiziert, d.h. wir haben nur auf Spalten zugegriffen. Nun möchten wir demonstrieren, wie wir auch selektiv auf die Zeilen zugreifen können. Dazu verwenden wir die Locators ```loc``` und ```iloc```. \n",
    "\n",
    "Im ersten Beispiel erzeugen wir ein Dataframe, das nur aus den Zeilen besteht, in denen wir den Index \"Germany\" haben:"
   ]
  },
  {
   "cell_type": "code",
   "execution_count": 160,
   "metadata": {},
   "outputs": [
    {
     "name": "stdout",
     "output_type": "stream",
     "text": [
      "            name  population\n",
      "Germany   Berlin     3562166\n",
      "Germany  Hamburg     1760433\n",
      "Germany   Munich     1493900\n"
     ]
    }
   ],
   "source": [
    "city_frame = pd.DataFrame(cities, \n",
    "                          columns=(\"name\", \"population\"), \n",
    "                          index=cities[\"country\"])\n",
    "print(city_frame.loc[\"Germany\"])"
   ]
  },
  {
   "cell_type": "markdown",
   "metadata": {},
   "source": [
    "Will man mehrere Index-Werte angeben, übergibt man diese als Liste an ```loc```:"
   ]
  },
  {
   "cell_type": "code",
   "execution_count": 161,
   "metadata": {},
   "outputs": [
    {
     "name": "stdout",
     "output_type": "stream",
     "text": [
      "            name  population\n",
      "Germany   Berlin     3562166\n",
      "Germany  Hamburg     1760433\n",
      "Germany   Munich     1493900\n",
      "France     Paris     2273305\n"
     ]
    }
   ],
   "source": [
    "print(city_frame.loc[[\"Germany\", \"France\"]])"
   ]
  },
  {
   "cell_type": "markdown",
   "metadata": {},
   "source": [
    "Nun wählen wir alle Zeilen aus, in denen in einer Spalte eine Bedingung erfüllt ist, also in unserem Beispiel die Bevölkerungsanzahl größer als zwei Millionen ist:"
   ]
  },
  {
   "cell_type": "code",
   "execution_count": 162,
   "metadata": {},
   "outputs": [
    {
     "name": "stdout",
     "output_type": "stream",
     "text": [
      "           name  population\n",
      "England  London     8615246\n",
      "Germany  Berlin     3562166\n",
      "Spain    Madrid     3165235\n",
      "Italy      Rome     2874038\n",
      "France    Paris     2273305\n"
     ]
    }
   ],
   "source": [
    "print(city_frame.loc[city_frame.population > 2000000])"
   ]
  },
  {
   "cell_type": "markdown",
   "metadata": {},
   "source": [
    "### Summen und kumulative Summen\n",
    "\n",
    "Mit der Methode ```sum``` kann man die Summe von allen Spalten eines DataTypes berechnen, was aber in unserem Fall wenig Sinn macht:\n",
    "\n",
    "```print(city_frame.sum())```"
   ]
  },
  {
   "cell_type": "markdown",
   "metadata": {},
   "source": [
    "\n",
    "\n",
    "\n",
    "Nun berechnen wir die Summe der Bevölkerungszahlen:\n",
    "\n"
   ]
  },
  {
   "cell_type": "code",
   "execution_count": 163,
   "metadata": {},
   "outputs": [
    {
     "data": {
      "text/plain": [
       "33800614"
      ]
     },
     "execution_count": 163,
     "metadata": {},
     "output_type": "execute_result"
    }
   ],
   "source": [
    "city_frame[\"population\"].sum()"
   ]
  },
  {
   "cell_type": "markdown",
   "metadata": {},
   "source": [
    "Mit ```cumsum``` berechnen wir die kumulative Summe:"
   ]
  },
  {
   "cell_type": "code",
   "execution_count": 164,
   "metadata": {
    "scrolled": true
   },
   "outputs": [
    {
     "name": "stdout",
     "output_type": "stream",
     "text": [
      "England     8615246\n",
      "Germany    12177412\n",
      "Spain      15342647\n",
      "Italy      18216685\n",
      "France     20489990\n",
      "Austria    22295671\n",
      "Romania    24099096\n",
      "Germany    25859529\n",
      "Hungary    27613529\n",
      "Poland     29353648\n",
      "Spain      30956034\n",
      "Germany    32449934\n",
      "Italy      33800614\n",
      "Name: population, dtype: int64\n"
     ]
    }
   ],
   "source": [
    "x = city_frame[\"population\"].cumsum()\n",
    "print(x)"
   ]
  },
  {
   "cell_type": "markdown",
   "metadata": {},
   "source": [
    "### Spaltenwerte ersetzen\n",
    "\n",
    "Das eben berechnete 'x' ist ein Series-Objekt mit der kumulativen Summe. Diese Series können wir der ```population```-Spalte zuweisen und ersetzen damit die alten Werte. Im Folgenden nutzen wir die Methode ```head```, die nur die ersten fünf Zeilen ausgibt, da dies zur Veranschaulichung des Prinzips genügt:"
   ]
  },
  {
   "cell_type": "code",
   "execution_count": 165,
   "metadata": {},
   "outputs": [
    {
     "name": "stdout",
     "output_type": "stream",
     "text": [
      "           name  population\n",
      "England  London     8615246\n",
      "Germany  Berlin    12177412\n",
      "Spain    Madrid    15342647\n",
      "Italy      Rome    18216685\n",
      "France    Paris    20489990\n"
     ]
    }
   ],
   "source": [
    "city_frame[\"population\"] = x\n",
    "print(city_frame.head())"
   ]
  },
  {
   "cell_type": "markdown",
   "metadata": {},
   "source": [
    "Anstelle die Werte in der ```population```-Spalte komplett durch die kumulativen Summen zu ersetzen, wollen wir die neuen Werte als neue zusätzliche Spalte ```cum_population``` dem ursprünglchen DataFrame anfügen."
   ]
  },
  {
   "cell_type": "code",
   "execution_count": 166,
   "metadata": {},
   "outputs": [
    {
     "name": "stdout",
     "output_type": "stream",
     "text": [
      "        country  population cum_population\n",
      "London  England     8615246            NaN\n",
      "Berlin  Germany     3562166            NaN\n",
      "Madrid    Spain     3165235            NaN\n",
      "Rome      Italy     2874038            NaN\n",
      "Paris    France     2273305            NaN\n"
     ]
    }
   ],
   "source": [
    "city_frame = pd.DataFrame(cities,\n",
    "                          columns=[\"country\", \n",
    "                                   \"population\",\n",
    "                                   \"cum_population\"],\n",
    "                          index=cities[\"name\"])\n",
    "\n",
    "print(city_frame.head())"
   ]
  },
  {
   "cell_type": "markdown",
   "metadata": {},
   "source": [
    "Die neue Spalte ```cum_population``` enthält nur NaN-Werte, weil noch keine Daten zur Verfügung gestellt wurden.\n",
    "\n",
    "Nun weisen wir die kumulativen Summen dieser neuen Spalte zu:"
   ]
  },
  {
   "cell_type": "code",
   "execution_count": 167,
   "metadata": {},
   "outputs": [
    {
     "name": "stdout",
     "output_type": "stream",
     "text": [
      "        country  population  cum_population\n",
      "London  England     8615246         8615246\n",
      "Berlin  Germany     3562166        12177412\n",
      "Madrid    Spain     3165235        15342647\n",
      "Rome      Italy     2874038        18216685\n",
      "Paris    France     2273305        20489990\n"
     ]
    }
   ],
   "source": [
    "city_frame[\"cum_population\"] = city_frame[\"population\"].cumsum()\n",
    "print(city_frame.head())"
   ]
  },
  {
   "cell_type": "markdown",
   "metadata": {},
   "source": [
    "Bei der Erstellung eines DataFrame-Objektes aus einem Dictionary können auch Spalten angegeben werden, die nicht im Dictionary enthalten sind. In diesem Fall werden die Werte ebenfalls auf NaN gesetzt:"
   ]
  },
  {
   "cell_type": "code",
   "execution_count": 168,
   "metadata": {},
   "outputs": [
    {
     "name": "stdout",
     "output_type": "stream",
     "text": [
      "        country area  population\n",
      "London  England  NaN     8615246\n",
      "Berlin  Germany  NaN     3562166\n",
      "Madrid    Spain  NaN     3165235\n",
      "Rome      Italy  NaN     2874038\n",
      "Paris    France  NaN     2273305\n"
     ]
    }
   ],
   "source": [
    "city_frame = pd.DataFrame(cities,\n",
    "                          columns=[\"country\", \n",
    "                                   \"area\",\n",
    "                                   \"population\"],\n",
    "                          index=cities[\"name\"])\n",
    "print(city_frame.head())"
   ]
  },
  {
   "cell_type": "markdown",
   "metadata": {},
   "source": [
    "In einem weiteren Schritt kann man dann die Werte für die Fläche in Form einer Liste bzw. eines Arrays an die Spalte ```area``` zuweisen."
   ]
  },
  {
   "cell_type": "code",
   "execution_count": 169,
   "metadata": {},
   "outputs": [
    {
     "name": "stdout",
     "output_type": "stream",
     "text": [
      "        country     area  population\n",
      "London  England  1572.00     8615246\n",
      "Berlin  Germany   891.85     3562166\n",
      "Madrid    Spain   605.77     3165235\n",
      "Rome      Italy  1285.00     2874038\n",
      "Paris    France   105.40     2273305\n"
     ]
    }
   ],
   "source": [
    "# Flächen in qkm:\n",
    "area = [1572, 891.85, 605.77, 1285, \n",
    "        105.4, 414.6, 228, 755, \n",
    "        525.2, 517, 101.9, 310.4, \n",
    "        181.8]\n",
    "\n",
    "city_frame[\"area\"] = area\n",
    "print(city_frame.head())"
   ]
  },
  {
   "cell_type": "markdown",
   "metadata": {},
   "source": [
    "### Sortierung\n",
    "\n",
    "\n",
    "DataFrames lassen sich anhand von bestimmten Kritierien sortieren. Im folgenden Beispiel sortieren wir den Inhalt des DataFrame-Objektes anhand der area-Werte in absteigender Größe:"
   ]
  },
  {
   "cell_type": "code",
   "execution_count": 170,
   "metadata": {},
   "outputs": [
    {
     "name": "stdout",
     "output_type": "stream",
     "text": [
      "           country     area  population\n",
      "London     England  1572.00     8615246\n",
      "Rome         Italy  1285.00     2874038\n",
      "Berlin     Germany   891.85     3562166\n",
      "Hamburg    Germany   755.00     1760433\n",
      "Madrid       Spain   605.77     3165235\n",
      "Budapest   Hungary   525.20     1754000\n",
      "Warsaw      Poland   517.00     1740119\n",
      "Vienna     Austria   414.60     1805681\n",
      "Munich     Germany   310.40     1493900\n",
      "Bucharest  Romania   228.00     1803425\n",
      "Milan        Italy   181.80     1350680\n",
      "Paris       France   105.40     2273305\n",
      "Barcelona    Spain   101.90     1602386\n"
     ]
    }
   ],
   "source": [
    "city_frame = city_frame.sort_values(by=\"area\", ascending=False)\n",
    "print(city_frame)"
   ]
  },
  {
   "cell_type": "markdown",
   "metadata": {},
   "source": [
    "Nehmen wir an, dass wir lediglich die Flächenwerte von London, Hamburg und Milan hätten. Die areas-Werte befinden sich in einem Series-Objekt mit den korrekten Indizes. Die Zuweisung funktioniert ebenfalls:"
   ]
  },
  {
   "cell_type": "code",
   "execution_count": 171,
   "metadata": {},
   "outputs": [
    {
     "name": "stdout",
     "output_type": "stream",
     "text": [
      "           country    area  population\n",
      "London     England  1572.0     8615246\n",
      "Berlin     Germany     NaN     3562166\n",
      "Madrid       Spain     NaN     3165235\n",
      "Rome         Italy     NaN     2874038\n",
      "Paris       France     NaN     2273305\n",
      "Vienna     Austria     NaN     1805681\n",
      "Bucharest  Romania     NaN     1803425\n",
      "Hamburg    Germany   755.0     1760433\n",
      "Budapest   Hungary     NaN     1754000\n",
      "Warsaw      Poland     NaN     1740119\n",
      "Barcelona    Spain     NaN     1602386\n",
      "Munich     Germany     NaN     1493900\n",
      "Milan        Italy   181.8     1350680\n"
     ]
    }
   ],
   "source": [
    "city_frame = pd.DataFrame(cities,\n",
    "                          columns=[\"country\", \n",
    "                                   \"area\",\n",
    "                                   \"population\"],\n",
    "                          index=cities[\"name\"])\n",
    "\n",
    "some_areas = pd.Series([1572, 755, 181.8], \n",
    "                    index=['London', 'Hamburg', 'Milan'])\n",
    "\n",
    "city_frame['area'] = some_areas\n",
    "print(city_frame)"
   ]
  },
  {
   "cell_type": "markdown",
   "metadata": {},
   "source": [
    "### Spalten einfügen\n",
    "\n",
    "\n",
    "In vorherigen Beispielen haben wir Spalten bei der Erstellung des DataFrame hinzugefügt. Es ist jedoch oft notwendig, Spalten direkt in ein bereits bestehendes DataFrame einzufügen."
   ]
  },
  {
   "cell_type": "code",
   "execution_count": 172,
   "metadata": {},
   "outputs": [
    {
     "name": "stdout",
     "output_type": "stream",
     "text": [
      "           country     area  population\n",
      "London     England  1572.00     8615246\n",
      "Berlin     Germany   891.85     3562166\n",
      "Madrid       Spain   605.77     3165235\n",
      "Rome         Italy  1285.00     2874038\n",
      "Paris       France   105.40     2273305\n",
      "Vienna     Austria   414.60     1805681\n",
      "Bucharest  Romania   228.00     1803425\n",
      "Hamburg    Germany   755.00     1760433\n",
      "Budapest   Hungary   525.20     1754000\n",
      "Warsaw      Poland   517.00     1740119\n",
      "Barcelona    Spain   101.90     1602386\n",
      "Munich     Germany   310.40     1493900\n",
      "Milan        Italy   181.80     1350680\n"
     ]
    }
   ],
   "source": [
    "city_frame = pd.DataFrame(cities,\n",
    "                          columns = [\"country\", \n",
    "                                     \"population\"],\n",
    "                          index = cities[\"name\"])\n",
    "\n",
    "\n",
    "city_frame.insert(loc = 1, \n",
    "                  column = 'area', \n",
    "                  value = area)\n",
    "print(city_frame)"
   ]
  },
  {
   "cell_type": "markdown",
   "metadata": {},
   "source": [
    "### DataFrame und verschachtelte Dictionaries\n",
    "\n",
    "Verschachtelte Dictionaries können ebenfalls an ein DataFrame übergeben werden. Die Indizes des äußeren Dictionarys entsprechen den Spalten, und die inneren Schlüssel der Dictionaries entsprechen den Indizes der einzelnen Zeilen:"
   ]
  },
  {
   "cell_type": "code",
   "execution_count": 173,
   "metadata": {},
   "outputs": [],
   "source": [
    "growth = {\"Switzerland\": {\"2010\": 3.0, \n",
    "                          \"2011\": 1.8, \n",
    "                          \"2012\": 1.1, \n",
    "                          \"2013\": 1.9},\n",
    "          \"Germany\": {\"2010\": 4.1, \n",
    "                      \"2011\": 3.6, \n",
    "                      \"2012\": 0.4, \n",
    "                      \"2013\": 0.1},\n",
    "          \"France\": {\"2010\": 2.0,  \n",
    "                     \"2011\": 2.1, \n",
    "                     \"2012\": 0.3, \n",
    "                     \"2013\": 0.3},\n",
    "          \"Greece\": {\"2010\": -5.4, \n",
    "                     \"2011\": -8.9, \n",
    "                     \"2012\": -6.6, \n",
    "                     \"2013\": -3.3},\n",
    "          \"Italy\": {\"2010\": 1.7, \n",
    "                    \"2011\": 0.6,\n",
    "                    \"2012\": -2.3,\n",
    "                    \"2013\": -1.9}\n",
    "          } "
   ]
  },
  {
   "cell_type": "code",
   "execution_count": 174,
   "metadata": {},
   "outputs": [
    {
     "name": "stdout",
     "output_type": "stream",
     "text": [
      "      Switzerland  Germany  France  Greece  Italy\n",
      "2010          3.0      4.1     2.0    -5.4    1.7\n",
      "2011          1.8      3.6     2.1    -8.9    0.6\n",
      "2012          1.1      0.4     0.3    -6.6   -2.3\n",
      "2013          1.9      0.1     0.3    -3.3   -1.9\n"
     ]
    }
   ],
   "source": [
    "growth_frame = pd.DataFrame(growth)\n",
    "print(growth_frame)"
   ]
  },
  {
   "cell_type": "markdown",
   "metadata": {},
   "source": [
    "Sie möchten vielleicht die Jahre als Spalten und die Länder als Zeilen?\n",
    "Eine Vertauschung von Index und Spalten ist mittels ```transpose``` ganz einfach zu realisieren:"
   ]
  },
  {
   "cell_type": "code",
   "execution_count": 175,
   "metadata": {},
   "outputs": [
    {
     "name": "stdout",
     "output_type": "stream",
     "text": [
      "             2010  2011  2012  2013\n",
      "Switzerland   3.0   1.8   1.1   1.9\n",
      "Germany       4.1   3.6   0.4   0.1\n",
      "France        2.0   2.1   0.3   0.3\n",
      "Greece       -5.4  -8.9  -6.6  -3.3\n",
      "Italy         1.7   0.6  -2.3  -1.9\n"
     ]
    }
   ],
   "source": [
    "print(growth_frame.transpose())"
   ]
  },
  {
   "cell_type": "markdown",
   "metadata": {},
   "source": [
    "Statt ```transpose()``` kann man auch einfach die Property-Schreibweise ```T``` verwenden:"
   ]
  },
  {
   "cell_type": "code",
   "execution_count": 176,
   "metadata": {},
   "outputs": [
    {
     "name": "stdout",
     "output_type": "stream",
     "text": [
      "             2010  2011  2012  2013\n",
      "Switzerland   3.0   1.8   1.1   1.9\n",
      "Germany       4.1   3.6   0.4   0.1\n",
      "France        2.0   2.1   0.3   0.3\n",
      "Greece       -5.4  -8.9  -6.6  -3.3\n",
      "Italy         1.7   0.6  -2.3  -1.9\n"
     ]
    }
   ],
   "source": [
    "print(growth_frame.T)"
   ]
  },
  {
   "cell_type": "code",
   "execution_count": 177,
   "metadata": {},
   "outputs": [
    {
     "name": "stdout",
     "output_type": "stream",
     "text": [
      "             2010  2011  2012  2013\n",
      "Switzerland   3.0   1.8   1.1   1.9\n",
      "Italy         1.7   0.6  -2.3  -1.9\n",
      "Germany       4.1   3.6   0.4   0.1\n",
      "Greece       -5.4  -8.9  -6.6  -3.3\n"
     ]
    }
   ],
   "source": [
    "growth_frame = growth_frame.T\n",
    "growth_frame2 = growth_frame.reindex([\"Switzerland\", \n",
    "                                      \"Italy\", \n",
    "                                      \"Germany\", \n",
    "                                      \"Greece\"])\n",
    "print(growth_frame2)\n"
   ]
  },
  {
   "cell_type": "markdown",
   "metadata": {},
   "source": []
  },
  {
   "cell_type": "code",
   "execution_count": 178,
   "metadata": {},
   "outputs": [
    {
     "name": "stdout",
     "output_type": "stream",
     "text": [
      "Vienna   country           Austria\n",
      "         area                414.6\n",
      "         population        1805681\n",
      "Hamburg  country           Germany\n",
      "         area                  755\n",
      "         population        1760433\n",
      "Berlin   country           Germany\n",
      "         area               891.85\n",
      "         population        3562166\n",
      "Zürich   country       Switzerland\n",
      "         area                87.88\n",
      "         population         378884\n",
      "dtype: object\n"
     ]
    }
   ],
   "source": [
    "import pandas as pd\n",
    "\n",
    "cities = [\"Vienna\", \"Vienna\", \"Vienna\",\n",
    "          \"Hamburg\", \"Hamburg\", \"Hamburg\",\n",
    "          \"Berlin\", \"Berlin\", \"Berlin\",\n",
    "          \"Zürich\", \"Zürich\", \"Zürich\"]\n",
    "\n",
    "data = [\"Austria\", 414.60,    1805681,\n",
    "        \"Germany\", 755.00,    1760433,\n",
    "        \"Germany\", 891.85,    3562166,\n",
    "        \"Switzerland\", 87.88, 378884]\n",
    "\n",
    "index = [cities, [\"country\", \"area\", \"population\",\n",
    "                  \"country\", \"area\", \"population\",\n",
    "                  \"country\", \"area\", \"population\",\n",
    "                  \"country\", \"area\", \"population\"]]\n",
    "\n",
    "city_series = pd.Series(data, index=index)\n",
    "print(city_series)"
   ]
  },
  {
   "cell_type": "code",
   "execution_count": 179,
   "metadata": {},
   "outputs": [
    {
     "name": "stdout",
     "output_type": "stream",
     "text": [
      "area        Berlin          891.85\n",
      "            Hamburg            755\n",
      "            Vienna           414.6\n",
      "            Zürich           87.88\n",
      "country     Berlin         Germany\n",
      "            Hamburg        Germany\n",
      "            Vienna         Austria\n",
      "            Zürich     Switzerland\n",
      "population  Berlin         3562166\n",
      "            Hamburg        1760433\n",
      "            Vienna         1805681\n",
      "            Zürich          378884\n",
      "dtype: object\n"
     ]
    }
   ],
   "source": [
    "city_series = city_series.sort_index()\n",
    "\n",
    "city_series = city_series.swaplevel()\n",
    "city_series.sort_index(inplace=True)\n",
    "print(city_series)"
   ]
  },
  {
   "cell_type": "code",
   "execution_count": 180,
   "metadata": {},
   "outputs": [
    {
     "name": "stdout",
     "output_type": "stream",
     "text": [
      "       Gewicht  Größe\n",
      "Henry       65    179\n",
      "Sarah       58    165\n",
      "Maria       68    176\n"
     ]
    }
   ],
   "source": [
    "import pandas as pd\n",
    "persons = { \"Name\" : [\"Henry\", \"Sarah\", \"Elke\", \n",
    "                      \"Lulu\", \"Vera\", \"Toni\", \n",
    "                      \"Maria\", \"Chris\"],\n",
    "            \"Größe\" : [179, 165, 172, 154, 150, \n",
    "                       189, 176, 175],\n",
    "            \"Gewicht\" : [65, 58, 58, 45, 43, 99, 68, 60]\n",
    "          }\n",
    "\n",
    "pdf = pd.DataFrame(persons, \n",
    "                   columns = [\"Gewicht\", \"Größe\"],\n",
    "                   index=persons[\"Name\"])\n",
    "\n",
    "bmi = (pdf.Gewicht / ((pdf.Größe/100) ** 2))\n",
    "bmi_okay = pdf.loc[(20 < bmi) & (bmi < 25)]\n",
    "print(bmi_okay)"
   ]
  },
  {
   "cell_type": "code",
   "execution_count": 181,
   "metadata": {},
   "outputs": [
    {
     "data": {
      "text/html": [
       "<div>\n",
       "<style scoped>\n",
       "    .dataframe tbody tr th:only-of-type {\n",
       "        vertical-align: middle;\n",
       "    }\n",
       "\n",
       "    .dataframe tbody tr th {\n",
       "        vertical-align: top;\n",
       "    }\n",
       "\n",
       "    .dataframe thead th {\n",
       "        text-align: right;\n",
       "    }\n",
       "</style>\n",
       "<table border=\"1\" class=\"dataframe\">\n",
       "  <thead>\n",
       "    <tr style=\"text-align: right;\">\n",
       "      <th></th>\n",
       "      <th>Gewicht</th>\n",
       "      <th>Größe</th>\n",
       "    </tr>\n",
       "  </thead>\n",
       "  <tbody>\n",
       "    <tr>\n",
       "      <th>Toni</th>\n",
       "      <td>99</td>\n",
       "      <td>189</td>\n",
       "    </tr>\n",
       "    <tr>\n",
       "      <th>Maria</th>\n",
       "      <td>68</td>\n",
       "      <td>176</td>\n",
       "    </tr>\n",
       "    <tr>\n",
       "      <th>Chris</th>\n",
       "      <td>60</td>\n",
       "      <td>175</td>\n",
       "    </tr>\n",
       "  </tbody>\n",
       "</table>\n",
       "</div>"
      ],
      "text/plain": [
       "       Gewicht  Größe\n",
       "Toni        99    189\n",
       "Maria       68    176\n",
       "Chris       60    175"
      ]
     },
     "execution_count": 181,
     "metadata": {},
     "output_type": "execute_result"
    }
   ],
   "source": [
    "pdf.loc[pdf.index.str.contains(\"i\")]"
   ]
  },
  {
   "cell_type": "markdown",
   "metadata": {},
   "source": [
    "\n"
   ]
  },
  {
   "cell_type": "code",
   "execution_count": 182,
   "metadata": {},
   "outputs": [
    {
     "data": {
      "text/html": [
       "<div>\n",
       "<style scoped>\n",
       "    .dataframe tbody tr th:only-of-type {\n",
       "        vertical-align: middle;\n",
       "    }\n",
       "\n",
       "    .dataframe tbody tr th {\n",
       "        vertical-align: top;\n",
       "    }\n",
       "\n",
       "    .dataframe thead th {\n",
       "        text-align: right;\n",
       "    }\n",
       "</style>\n",
       "<table border=\"1\" class=\"dataframe\">\n",
       "  <thead>\n",
       "    <tr style=\"text-align: right;\">\n",
       "      <th></th>\n",
       "      <th>Gewicht</th>\n",
       "      <th>Größe</th>\n",
       "      <th>BMI</th>\n",
       "    </tr>\n",
       "  </thead>\n",
       "  <tbody>\n",
       "    <tr>\n",
       "      <th>Henry</th>\n",
       "      <td>65</td>\n",
       "      <td>179</td>\n",
       "      <td>20.286508</td>\n",
       "    </tr>\n",
       "    <tr>\n",
       "      <th>Sarah</th>\n",
       "      <td>58</td>\n",
       "      <td>165</td>\n",
       "      <td>21.303949</td>\n",
       "    </tr>\n",
       "    <tr>\n",
       "      <th>Elke</th>\n",
       "      <td>58</td>\n",
       "      <td>172</td>\n",
       "      <td>19.605192</td>\n",
       "    </tr>\n",
       "    <tr>\n",
       "      <th>Lulu</th>\n",
       "      <td>45</td>\n",
       "      <td>154</td>\n",
       "      <td>18.974532</td>\n",
       "    </tr>\n",
       "    <tr>\n",
       "      <th>Vera</th>\n",
       "      <td>43</td>\n",
       "      <td>150</td>\n",
       "      <td>19.111111</td>\n",
       "    </tr>\n",
       "    <tr>\n",
       "      <th>Toni</th>\n",
       "      <td>99</td>\n",
       "      <td>189</td>\n",
       "      <td>27.714790</td>\n",
       "    </tr>\n",
       "    <tr>\n",
       "      <th>Maria</th>\n",
       "      <td>68</td>\n",
       "      <td>176</td>\n",
       "      <td>21.952479</td>\n",
       "    </tr>\n",
       "    <tr>\n",
       "      <th>Chris</th>\n",
       "      <td>60</td>\n",
       "      <td>175</td>\n",
       "      <td>19.591837</td>\n",
       "    </tr>\n",
       "  </tbody>\n",
       "</table>\n",
       "</div>"
      ],
      "text/plain": [
       "       Gewicht  Größe        BMI\n",
       "Henry       65    179  20.286508\n",
       "Sarah       58    165  21.303949\n",
       "Elke        58    172  19.605192\n",
       "Lulu        45    154  18.974532\n",
       "Vera        43    150  19.111111\n",
       "Toni        99    189  27.714790\n",
       "Maria       68    176  21.952479\n",
       "Chris       60    175  19.591837"
      ]
     },
     "execution_count": 182,
     "metadata": {},
     "output_type": "execute_result"
    }
   ],
   "source": [
    "pdf.insert(loc=len(pdf.columns),\n",
    "           column=\"BMI\",\n",
    "           value=(pdf.Gewicht / ((pdf.Größe/100) ** 2)))\n",
    "pdf"
   ]
  },
  {
   "cell_type": "code",
   "execution_count": 183,
   "metadata": {},
   "outputs": [
    {
     "data": {
      "text/html": [
       "<div>\n",
       "<style scoped>\n",
       "    .dataframe tbody tr th:only-of-type {\n",
       "        vertical-align: middle;\n",
       "    }\n",
       "\n",
       "    .dataframe tbody tr th {\n",
       "        vertical-align: top;\n",
       "    }\n",
       "\n",
       "    .dataframe thead th {\n",
       "        text-align: right;\n",
       "    }\n",
       "</style>\n",
       "<table border=\"1\" class=\"dataframe\">\n",
       "  <thead>\n",
       "    <tr style=\"text-align: right;\">\n",
       "      <th></th>\n",
       "      <th>Gewicht</th>\n",
       "      <th>Größe</th>\n",
       "      <th>BMI</th>\n",
       "    </tr>\n",
       "  </thead>\n",
       "  <tbody>\n",
       "    <tr>\n",
       "      <th>Toni</th>\n",
       "      <td>99</td>\n",
       "      <td>189</td>\n",
       "      <td>27.714790</td>\n",
       "    </tr>\n",
       "    <tr>\n",
       "      <th>Maria</th>\n",
       "      <td>68</td>\n",
       "      <td>176</td>\n",
       "      <td>21.952479</td>\n",
       "    </tr>\n",
       "    <tr>\n",
       "      <th>Sarah</th>\n",
       "      <td>58</td>\n",
       "      <td>165</td>\n",
       "      <td>21.303949</td>\n",
       "    </tr>\n",
       "    <tr>\n",
       "      <th>Henry</th>\n",
       "      <td>65</td>\n",
       "      <td>179</td>\n",
       "      <td>20.286508</td>\n",
       "    </tr>\n",
       "    <tr>\n",
       "      <th>Elke</th>\n",
       "      <td>58</td>\n",
       "      <td>172</td>\n",
       "      <td>19.605192</td>\n",
       "    </tr>\n",
       "    <tr>\n",
       "      <th>Chris</th>\n",
       "      <td>60</td>\n",
       "      <td>175</td>\n",
       "      <td>19.591837</td>\n",
       "    </tr>\n",
       "    <tr>\n",
       "      <th>Vera</th>\n",
       "      <td>43</td>\n",
       "      <td>150</td>\n",
       "      <td>19.111111</td>\n",
       "    </tr>\n",
       "    <tr>\n",
       "      <th>Lulu</th>\n",
       "      <td>45</td>\n",
       "      <td>154</td>\n",
       "      <td>18.974532</td>\n",
       "    </tr>\n",
       "  </tbody>\n",
       "</table>\n",
       "</div>"
      ],
      "text/plain": [
       "       Gewicht  Größe        BMI\n",
       "Toni        99    189  27.714790\n",
       "Maria       68    176  21.952479\n",
       "Sarah       58    165  21.303949\n",
       "Henry       65    179  20.286508\n",
       "Elke        58    172  19.605192\n",
       "Chris       60    175  19.591837\n",
       "Vera        43    150  19.111111\n",
       "Lulu        45    154  18.974532"
      ]
     },
     "execution_count": 183,
     "metadata": {},
     "output_type": "execute_result"
    }
   ],
   "source": [
    "pdf.sort_values(by=\"BMI\", ascending=False)"
   ]
  },
  {
   "cell_type": "code",
   "execution_count": 184,
   "metadata": {},
   "outputs": [
    {
     "name": "stdout",
     "output_type": "stream",
     "text": [
      "       Gewicht  Größe        BMI\n",
      "Sarah       58    165  21.303949\n",
      "Vera        43    150  19.111111\n",
      "Maria       68    176  21.952479\n"
     ]
    }
   ],
   "source": [
    "\n",
    "bmi_okay = (18.5 < pdf['BMI']) & (pdf['BMI'] < 23.5)\n",
    "name_contains_a = pdf.index.str.contains('a')\n",
    "print(pdf.loc[bmi_okay & name_contains_a])"
   ]
  },
  {
   "cell_type": "code",
   "execution_count": 185,
   "metadata": {},
   "outputs": [
    {
     "name": "stdout",
     "output_type": "stream",
     "text": [
      "           Jonas  Leon  ...   Mila  Lina\n",
      "Januar       175   129  ...    173   190\n",
      "Februar      124   124  ...    171   163\n",
      "März         196   168  ...    176   192\n",
      "April        172   183  ...    152   160\n",
      "Mai          143   167  ...    197   154\n",
      "Juni         170   159  ...    177   143\n",
      "Juli         192   134  ...    127   182\n",
      "August       155   138  ...    167   166\n",
      "September    172   170  ...    182   136\n",
      "Oktober      157   196  ...    122   163\n",
      "November     188   183  ...    134   144\n",
      "Dezember     193   138  ...    171   180\n",
      "\n",
      "[12 rows x 8 columns]\n"
     ]
    }
   ],
   "source": [
    "import numpy as np\n",
    "import pandas as pd\n",
    "\n",
    "names = ['Jonas', 'Leon', 'Finn', 'Guido', \n",
    "         'Lara', \"Hannah\", \"Mila\", \"Lina\"]\n",
    "index = [\"Januar\", \"Februar\", \"März\",\n",
    "         \"April\", \"Mai\", \"Juni\",\n",
    "         \"Juli\", \"August\", \"September\",\n",
    "         \"Oktober\", \"November\", \"Dezember\"]\n",
    "df = pd.DataFrame(np.random.randint(120, \n",
    "                                    200, \n",
    "                                    size=(len(index), \n",
    "                                          len(names))),\n",
    "                  columns = names,\n",
    "                  index = index)\n",
    "print(df)"
   ]
  },
  {
   "cell_type": "code",
   "execution_count": 186,
   "metadata": {},
   "outputs": [
    {
     "name": "stdout",
     "output_type": "stream",
     "text": [
      "        Januar  Februar    ...     November  Dezember\n",
      "Jonas      175      124    ...          188       193\n",
      "Leon       129      124    ...          183       138\n",
      "Finn       188      136    ...          181       180\n",
      "Guido      187      180    ...          195       130\n",
      "Lara       132      171    ...          194       166\n",
      "Hannah     156      157    ...          174       133\n",
      "Mila       173      171    ...          134       171\n",
      "Lina       190      163    ...          144       180\n",
      "\n",
      "[8 rows x 12 columns]\n"
     ]
    }
   ],
   "source": [
    "new_df = df.transpose()\n",
    "print(new_df)"
   ]
  }
 ],
 "metadata": {
  "anaconda-cloud": {},
  "kernelspec": {
   "display_name": "Python 3",
   "language": "python",
   "name": "python3"
  },
  "language_info": {
   "codemirror_mode": {
    "name": "ipython",
    "version": 3
   },
   "file_extension": ".py",
   "mimetype": "text/x-python",
   "name": "python",
   "nbconvert_exporter": "python",
   "pygments_lexer": "ipython3",
   "version": "3.8.5"
  },
  "toc": {
   "base_numbering": 1,
   "nav_menu": {},
   "number_sections": true,
   "sideBar": true,
   "skip_h1_title": false,
   "title_cell": "Table of Contents",
   "title_sidebar": "Contents",
   "toc_cell": false,
   "toc_position": {},
   "toc_section_display": true,
   "toc_window_display": false
  }
 },
 "nbformat": 4,
 "nbformat_minor": 4
}
