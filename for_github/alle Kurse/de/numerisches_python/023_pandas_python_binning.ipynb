{
 "cells": [
  {
   "cell_type": "code",
   "execution_count": 17,
   "metadata": {},
   "outputs": [],
   "source": [
    "# invisible\n",
    "import numpy as np\n",
    "import pandas as pd\n",
    "np.core.arrayprint._line_width = 60\n",
    "\n",
    "\n",
    "pd.set_option('display.max_colwidth', 65)\n",
    "pd.set_option('display.max_columns', 5)"
   ]
  },
  {
   "cell_type": "markdown",
   "metadata": {},
   "source": [
    "<br><br>\n",
    "\n",
    "\n",
    "\n",
    "\n",
    "## Binning in Python und Pandas\n",
    "\n",
    "### Einführung\n",
    "<img width=300 class=\"imgright\" src=\"../images/binning.webp\" srcset=\"../images/binning_600w.webp 600w,../images/binning_500w.webp 500w,../images/binning_400w.webp 400w,../images/binning_350w.webp 350w,../images/binning_300w.webp 300w\" alt=\"Binning\" />\n",
    "\n",
    "Binning ist eine Technik, die in der Datenverarbeitung und Statistik verwendet wird. Unter Binning versteht man eine Klassenbildung in der Vorverarbeitung bei der Datenanalyse. Eine gegebene Menge von Werten, die sortiert sind, werden in Intervalle aufgeteilt. Diese Intervalle bezeichnet man im Englischen als \"bins\" (deutsch \"Behälter\"). Jedes dieser Intervalle (Bins) wird dann durch einen Repräsentanten bezeichnet. Man bezeichnet diese auch als Intervallabels. \n",
    "Binning wird häufig angewendet, wenn es mehr mögliche Daten gibt, als man eigentlich braucht. So können bspw. Körpergrössen von Menschen in Intervallen oder Kategorien eingeteilt werden. \n",
    "\n",
    "\n",
    "\n",
    "\n",
    "\n",
    "<br><br>\n",
    "\n",
    "\n",
    "\n",
    "Nehmen wir an, wir messen die Körpergrößen von 30 Menschen. Die Größenwerte können, grob geschätzt, zwischen 1,30 Meter und 2,50 Meter liegen. Theoretisch gibt es nun 120 verschiedene cm-Werte, jedoch werden wir meistens nur 30 verschiedene Werte aus der Test-Gruppe beobachten.\n",
    "\n",
    "Eine Möglichkeit um sie zu gruppieren wäre die Einteilung in die Bereiche von 1,30 - 1,50 Meter, 1,50 - 1,70 Meter, 1,70 - 1,90 Meter, usw. \n",
    "Die Original-Daten werden also zu den passenden \"Eimern\" (Buckets) zugeordnet. Weiterhin werden die Originaldaten durch die korrespondierenden Intervalle ersetzt. Binning ist also eine Form der Quantifizierung.\n",
    "\n",
    "Einteilungen (Bins) müssen nicht unbedingt numerisch sein. Die Kategorisierung kann beispielsweise von der Art \"Hunde\", \"Katzen\", \"Hamster\" usw. sein, also von jeder erdenklichen Art.\n",
    "\n",
    "Binning wird auch in der Bildverarbeitung verwendet, um die Datenmengen zu reduzieren, indem benachbarte Pixel zu einzelnen Pixeln kombiniert werden. Man nennt das Verfahren auch kxk-binning, weil Bereiche von k x k Pixel auf einen Pixel reduziert werden.\n",
    "\n",
    "Pandas bietet einfache Wege, um Bins zu erstellen und so Daten einzuteilen. Bevor wir auf die Pandas-Funktionalität eingehen, möchten wir noch die Basisfunktionen von Python vorstellen, um Bins zu verwenden. Im folgenden Beispiel kommen Listen und Tupel zum Einsatz:"
   ]
  },
  {
   "cell_type": "code",
   "execution_count": 18,
   "metadata": {},
   "outputs": [],
   "source": [
    "def create_bins(lower_bound, width, quantity):\n",
    "    \"\"\" create_bins gibt eine Partitionierung mit gleichen Abständen \n",
    "        zurück. Es handelt sich um eine aufsteigende Liste von Tupeln, \n",
    "        die die Werte der Intervallgrenzen darstellen.\n",
    "        A tuple bins[i], i.e. (bins[i][0], bins[i][1])  with i > 0 \n",
    "        and i < quantity, satisfies the following conditions:\n",
    "            (1) bins[i][0] + width == bins[i][1]\n",
    "            (2) bins[i-1][0] + width == bins[i][0] and\n",
    "                bins[i-1][1] + width == bins[i][1]\n",
    "    \"\"\"\n",
    "    \n",
    "\n",
    "    bins = []\n",
    "    for low in range(lower_bound, \n",
    "                     lower_bound + quantity * width + 1, width):\n",
    "        bins.append((low, low+width))\n",
    "    return bins\n"
   ]
  },
  {
   "cell_type": "markdown",
   "metadata": {},
   "source": [
    "\n",
    "Wir erstellen nun 5 bins (quantity=5) mit einer Breite von 10 (width=10) und beginnen bei 10 (lower_bound=10):"
   ]
  },
  {
   "cell_type": "code",
   "execution_count": 19,
   "metadata": {},
   "outputs": [
    {
     "name": "stdout",
     "output_type": "stream",
     "text": [
      "[(10, 20), (20, 30), (30, 40), (40, 50), (50, 60), (60, 70)]\n"
     ]
    }
   ],
   "source": [
    "bins = create_bins(lower_bound=10,\n",
    "                   width=10,\n",
    "                   quantity=5)\n",
    "\n",
    "print(bins)"
   ]
  },
  {
   "cell_type": "markdown",
   "metadata": {},
   "source": [
    "Die nächste Funktion ```find_bin()``` wird mit einer Liste oder einem Tupel ```bins``` aufgerufen, welches 2er-Tupel oder Listen mit zwei Elementen enthalten muss. Die Funktion ermittelt den Index des Intervalls, der zu dem Wert ```value``` gehört:"
   ]
  },
  {
   "cell_type": "code",
   "execution_count": 20,
   "metadata": {},
   "outputs": [],
   "source": [
    "def find_bin(value, bins):\n",
    "    \"\"\" 'bins' ist ist eine List von Tupeln, wie beispielsweise\n",
    "        [(0,20), (20, 40), (40, 60)]\n",
    "        binning gibt den kleinsten Index i von 'bins' zurück, \n",
    "        sodass gilt:\n",
    "        bin[i][0] <= value < bin[i][1]\n",
    "    \"\"\"\n",
    "    \n",
    "    for i in range(0, len(bins)):\n",
    "        if bins[i][0] <= value < bins[i][1]:\n",
    "            return i\n",
    "    return -1"
   ]
  },
  {
   "cell_type": "code",
   "execution_count": 21,
   "metadata": {},
   "outputs": [
    {
     "name": "stdout",
     "output_type": "stream",
     "text": [
      "[(50, 54), (54, 58), (58, 62), (62, 66), (66, 70), (70, 74), (74, 78), (78, 82), (82, 86), (86, 90), (90, 94)]\n",
      "73.4 5 (70, 74)\n",
      "69.3 4 (66, 70)\n",
      "64.9 3 (62, 66)\n",
      "75.6 6 (74, 78)\n",
      "74.9 6 (74, 78)\n",
      "80.3 7 (78, 82)\n",
      "78.6 7 (78, 82)\n",
      "84.1 8 (82, 86)\n",
      "88.9 9 (86, 90)\n",
      "90.3 10 (90, 94)\n",
      "83.4 8 (82, 86)\n",
      "69.3 4 (66, 70)\n",
      "52.4 0 (50, 54)\n",
      "58.3 2 (58, 62)\n",
      "67.4 4 (66, 70)\n",
      "74.0 6 (74, 78)\n",
      "89.3 9 (86, 90)\n",
      "63.4 3 (62, 66)\n",
      "Counter({4: 3, 6: 3, 3: 2, 7: 2, 8: 2, 9: 2, 5: 1, 10: 1, 0: 1, 2: 1})\n"
     ]
    }
   ],
   "source": [
    "from collections import Counter\n",
    "\n",
    "bins = create_bins(lower_bound=50,\n",
    "                   width=4,\n",
    "                   quantity=10)\n",
    "\n",
    "print(bins)\n",
    "\n",
    "weights_of_persons = [73.4, 69.3, 64.9, 75.6, 74.9, 80.3, \n",
    "                      78.6, 84.1, 88.9, 90.3, 83.4, 69.3, \n",
    "                      52.4, 58.3, 67.4, 74.0, 89.3, 63.4]\n",
    "\n",
    "binned_weights = []\n",
    "\n",
    "for value in weights_of_persons:\n",
    "    bin_index = find_bin(value, bins)\n",
    "    print(value, bin_index, bins[bin_index])\n",
    "    binned_weights.append(bin_index)\n",
    "    \n",
    "frequencies = Counter(binned_weights)\n",
    "print(frequencies)\n"
   ]
  },
  {
   "cell_type": "markdown",
   "metadata": {},
   "source": [
    "### Binning mit Pandas\n",
    "\n",
    "Das Pandas-Modul bietet starke Funktionalitäten für die Einteilung von Daten. Wir demonstrieren dies anhand der vorigen Daten.\n",
    "\n",
    "#### Von Pandas verwendete Bins\n",
    "\n",
    "Als Bins haben wir im vorigen Beispiel eine Liste von Tupeln verwendet. Diese Liste müssen wir nun in eine Datenstruktur wandeln, welche von der Pandas-Funktion ```cut()``` verwendet werden kann. Diese Datenstruktur ist ein ```IntervalIndex```. Wir können das mit dem Befehl ```pd.IntervalIndex.from_tuples()``` tun:"
   ]
  },
  {
   "cell_type": "code",
   "execution_count": 22,
   "metadata": {},
   "outputs": [],
   "source": [
    "import pandas as pd\n",
    "\n",
    "bins2 = pd.IntervalIndex.from_tuples(bins)"
   ]
  },
  {
   "cell_type": "markdown",
   "metadata": {},
   "source": [
    "```cut``` ist der Name der Pandas-Funktion, die wir brauchen, um Daten in Bins einzuteilen. ```cut``` erwartet einige Parameter. Die wichtigsten sind aber ```x``` für die aktuellen Werte und ```bins```, welcher den IntervalIndex definiert. ```x``` kann jede eindimensionale Array-ähnliche Sruktur sein, wie z.B. Listen, Tupel, nd-arrays usw.:"
   ]
  },
  {
   "cell_type": "code",
   "execution_count": 23,
   "metadata": {},
   "outputs": [
    {
     "name": "stdout",
     "output_type": "stream",
     "text": [
      "[(70, 74], (66, 70], (62, 66], (74, 78], (74, 78], ..., (58, 62], (66, 70], (70, 74], (86, 90], (62, 66]]\n",
      "Length: 18\n",
      "Categories (11, interval[int64]): [(50, 54] < (54, 58] < (58, 62] < (62, 66] ... (78, 82] < (82, 86] < (86, 90] < (90, 94]]\n"
     ]
    }
   ],
   "source": [
    "categorical_object = pd.cut(weights_of_persons, bins2)\n",
    "print(categorical_object)"
   ]
  },
  {
   "cell_type": "markdown",
   "metadata": {},
   "source": [
    "Das Ergebnis der Funktion ```cut()``` ist ein sogenanntes \"Kategorisches Objekt\" (Categorical object). Jedes \"bin\" entspricht einer Kategorie. Die Kategorien sind in einer mathematischen Notation beschrieben. ```(70, 74]``` bedeutet, dass dieses \"bin\" Werte beinhaltet zwischen 70 (exklusive) und 74 (inklusive).\n",
    "Mathematisch handelt es sich dabei um ein halb-offenes Intervall. Das heißt, dass ein Endpunkt des Intervalls inklusive ist, der anderes Endpunkt dagegen nicht. Manchmal wird es auch halb-geschlossenes Intervall genannt.\n",
    "<br><br>\n",
    "In unserem vorherigen Kapitel haben wir auch ein halb-offenes Intervall definiert, jedoch anders herum, d.h. dass die linke Seite offen und die rechte geschlossen war.\n",
    "Wenn wir ```pd.IntervalIndex.from_tuples``` verwenden, können wir die Öffnung der \"bins\" definieren, indem wir den Parameter ```closed``` auf einen der folgenden Werte setzen:\n",
    "\n",
    "- 'left': linke Seite geschlossen und rechte Seite geöffnet\n",
    "- 'right': (Default) linke Seite geöffnet und rechte Seite geschlossen\n",
    "- 'both': beide Seiten geschlossen\n",
    "- 'neither': beide Seiten geöffnet\n",
    "\n",
    "Für das gleiche Verhalten wie im vorherigen Kapitel, setzen wir den Parameter ```closed = 'left'```:"
   ]
  },
  {
   "cell_type": "code",
   "execution_count": 24,
   "metadata": {},
   "outputs": [
    {
     "name": "stdout",
     "output_type": "stream",
     "text": [
      "[[70, 74), [66, 70), [62, 66), [74, 78), [74, 78), ..., [58, 62), [66, 70), [74, 78), [86, 90), [62, 66)]\n",
      "Length: 18\n",
      "Categories (11, interval[int64]): [[50, 54) < [54, 58) < [58, 62) < [62, 66) ... [78, 82) < [82, 86) < [86, 90) < [90, 94)]\n"
     ]
    }
   ],
   "source": [
    "bins2 = pd.IntervalIndex.from_tuples(bins, closed=\"left\")\n",
    "categorical_object = pd.cut(weights_of_persons, bins2)\n",
    "print(categorical_object)"
   ]
  },
  {
   "cell_type": "markdown",
   "metadata": {},
   "source": [
    "#### Andere Wege um Bins zu definieren\n",
    "\n",
    "Wir haben ```IntervalIndex``` verwendet, um die Gewichtsdaten in \"bins\" einzuteilen. Die Funktion ```cut()``` kann noch mit zwei weiteren Arten der bin-Repräsentation umgehen:\n",
    "\n",
    "- Integer-Werte:<br>\n",
    "Angabe eines Integer-Wertes für die gleiche Breite aller \"Bins\" im Bereich der Werte ```x```. Die Range von ```x``` wird auf jeder Seite um 0.1% erweitert, um die Minimum- und Maximum-Werte zu inkludieren.\n",
    "- Skalare Sequenzen:<br>\n",
    "Definiert die \"bin\"-Kanten, was eine ungleiche Breite der \"bins\" erlaubt. Die Range von ```x``` wird nicht erweitert."
   ]
  },
  {
   "cell_type": "code",
   "execution_count": 25,
   "metadata": {},
   "outputs": [
    {
     "name": "stdout",
     "output_type": "stream",
     "text": [
      "[(71.35, 73.456], (69.244, 71.35], (62.928, 65.033], (75.561, 77.667], (73.456, 75.561]]\n",
      "Categories (18, interval[float64]): [(52.362, 54.506] < (54.506, 56.611] < (56.611, 58.717] < (58.717, 60.822] ... (81.878, 83.983] < (83.983, 86.089] < (86.089, 88.194] < (88.194, 90.3]]\n"
     ]
    }
   ],
   "source": [
    "categorical_object = pd.cut(weights_of_persons, 18)\n",
    "\n",
    "print(categorical_object[:5])"
   ]
  },
  {
   "cell_type": "code",
   "execution_count": 26,
   "metadata": {},
   "outputs": [
    {
     "name": "stdout",
     "output_type": "stream",
     "text": [
      "[50, 54, 58, 62, 66, 70, 74, 78, 82, 86, 90, 94]\n",
      "[70, 74)\n",
      "[66, 70)\n",
      "[62, 66)\n",
      "[74, 78)\n",
      "[74, 78)\n",
      "[78, 82)\n",
      "[78, 82)\n",
      "[82, 86)\n",
      "[86, 90)\n",
      "[90, 94)\n",
      "[82, 86)\n",
      "[66, 70)\n",
      "[50, 54)\n",
      "[58, 62)\n",
      "[66, 70)\n",
      "[74, 78)\n",
      "[86, 90)\n",
      "[62, 66)\n"
     ]
    }
   ],
   "source": [
    "sequence_of_scalars = [ x[0] for x in bins]\n",
    "sequence_of_scalars.append(bins[-1][1])\n",
    "print(sequence_of_scalars)\n",
    "categorical_object = pd.cut(weights_of_persons, \n",
    "                            sequence_of_scalars,\n",
    "                            right=False)\n",
    "for i in range(len(categorical_object)):\n",
    "    print(categorical_object[i])"
   ]
  },
  {
   "cell_type": "markdown",
   "metadata": {},
   "source": [
    "#### Bins und Werte zählen\n",
    "\n",
    "Die nächste und interessanteste Frage ist, wie wir denn die aktuellen Werte eines Bins sehen können. Das können wir mit der Funktion ```value_counts()``` erreichen:"
   ]
  },
  {
   "cell_type": "code",
   "execution_count": 27,
   "metadata": {},
   "outputs": [
    {
     "name": "stdout",
     "output_type": "stream",
     "text": [
      "[74, 78)    3\n",
      "[66, 70)    3\n",
      "[86, 90)    2\n",
      "[82, 86)    2\n",
      "[78, 82)    2\n",
      "[62, 66)    2\n",
      "[90, 94)    1\n",
      "[70, 74)    1\n",
      "[58, 62)    1\n",
      "[50, 54)    1\n",
      "[54, 58)    0\n",
      "dtype: int64\n"
     ]
    }
   ],
   "source": [
    "print(pd.value_counts(categorical_object))"
   ]
  },
  {
   "cell_type": "markdown",
   "metadata": {},
   "source": [
    "```categorical_object.codes``` bietet eine Beschriftung der Eingangswerte in die \"binning\"-Kategorien:"
   ]
  },
  {
   "cell_type": "code",
   "execution_count": 28,
   "metadata": {},
   "outputs": [
    {
     "name": "stdout",
     "output_type": "stream",
     "text": [
      "[ 5  4  3  6  6  7  7  8  9 10  8  4  0  2  4  6  9  3]\n"
     ]
    }
   ],
   "source": [
    "labels = categorical_object.codes\n",
    "print(labels)"
   ]
  },
  {
   "cell_type": "markdown",
   "metadata": {},
   "source": [
    "```categories``` ist der IntervalIndex der Kategorien der Label-Indizes:"
   ]
  },
  {
   "cell_type": "code",
   "execution_count": 29,
   "metadata": {},
   "outputs": [
    {
     "data": {
      "text/plain": [
       "IntervalIndex([[50, 54), [54, 58), [58, 62), [62, 66), [66, 70) ... [74, 78), [78, 82), [82, 86), [86, 90), [90, 94)]\n",
       "              closed='left',\n",
       "              dtype='interval[int64]')"
      ]
     },
     "execution_count": 29,
     "metadata": {},
     "output_type": "execute_result"
    }
   ],
   "source": [
    "categories = categorical_object.categories\n",
    "categories"
   ]
  },
  {
   "cell_type": "markdown",
   "metadata": {},
   "source": [
    "Zusammenhang zwischen Gewichtsdaten und \"bins\":"
   ]
  },
  {
   "cell_type": "code",
   "execution_count": 30,
   "metadata": {},
   "outputs": [
    {
     "name": "stdout",
     "output_type": "stream",
     "text": [
      "73.4 5 [70, 74)\n",
      "69.3 4 [66, 70)\n",
      "64.9 3 [62, 66)\n",
      "75.6 6 [74, 78)\n",
      "74.9 6 [74, 78)\n",
      "80.3 7 [78, 82)\n",
      "78.6 7 [78, 82)\n",
      "84.1 8 [82, 86)\n",
      "88.9 9 [86, 90)\n",
      "90.3 10 [90, 94)\n",
      "83.4 8 [82, 86)\n",
      "69.3 4 [66, 70)\n",
      "52.4 0 [50, 54)\n",
      "58.3 2 [58, 62)\n",
      "67.4 4 [66, 70)\n",
      "74.0 6 [74, 78)\n",
      "89.3 9 [86, 90)\n",
      "63.4 3 [62, 66)\n"
     ]
    }
   ],
   "source": [
    "for index in range(len(weights_of_persons)):\n",
    "    label_index = labels[index]\n",
    "    print(weights_of_persons[index], \n",
    "          label_index, \n",
    "          categories[label_index] )"
   ]
  },
  {
   "cell_type": "markdown",
   "metadata": {},
   "source": [
    "#### Bins benennen\n",
    "\n",
    "Stellen wir uns vor, wir hätten eine Universität, die in Abhängigkeit der Durchschnittsnote (GPA - Grade point average) drei Stufen der \"Latin honors\" verleiht:\n",
    "\n",
    "- \"summa cum laude\" setzt einen GPA über 3.9 voraus\n",
    "- \"magna cum laude\",  wenn der GPA über 3.8 ist\n",
    "- \"cum laude\", wenn der GPA 3.6 oder höher ist"
   ]
  },
  {
   "cell_type": "code",
   "execution_count": 31,
   "metadata": {},
   "outputs": [
    {
     "name": "stdout",
     "output_type": "stream",
     "text": [
      "none               6\n",
      "summa cum laude    2\n",
      "cum laude          2\n",
      "magna cum laude    1\n",
      "dtype: int64\n"
     ]
    }
   ],
   "source": [
    "degrees = [\"none\", \n",
    "           \"cum laude\", \n",
    "           \"magna cum laude\", \n",
    "           \"summa cum laude\"]\n",
    "student_results = [3.93, 3.24, 2.80, \n",
    "                   2.83, 3.91, 3.698, \n",
    "                   3.731, 3.25, 3.24, \n",
    "                   3.82, 3.22]\n",
    "\n",
    "student_results_degrees = pd.cut(student_results, \n",
    "                                 [0, 3.6, 3.8, 3.9, 4.0], \n",
    "                                 labels=degrees)\n",
    "print(pd.value_counts(student_results_degrees))"
   ]
  },
  {
   "cell_type": "markdown",
   "metadata": {},
   "source": [
    "Schauen wir uns die einzelnen Bewertungen/Benotungen der Studenten an:"
   ]
  },
  {
   "cell_type": "code",
   "execution_count": 32,
   "metadata": {},
   "outputs": [
    {
     "name": "stdout",
     "output_type": "stream",
     "text": [
      "3.93 3 summa cum laude\n",
      "3.24 0 none\n",
      "2.8 0 none\n",
      "2.83 0 none\n",
      "3.91 3 summa cum laude\n",
      "3.698 1 cum laude\n",
      "3.731 1 cum laude\n",
      "3.25 0 none\n",
      "3.24 0 none\n",
      "3.82 2 magna cum laude\n",
      "3.22 0 none\n"
     ]
    }
   ],
   "source": [
    "labels = student_results_degrees.codes\n",
    "categories = student_results_degrees.categories\n",
    "\n",
    "for index in range(len(student_results)):\n",
    "    label_index = labels[index]\n",
    "    print(student_results[index], \n",
    "          label_index, \n",
    "          categories[label_index] )"
   ]
  }
 ],
 "metadata": {
  "kernelspec": {
   "display_name": "Python 3",
   "language": "python",
   "name": "python3"
  },
  "language_info": {
   "codemirror_mode": {
    "name": "ipython",
    "version": 3
   },
   "file_extension": ".py",
   "mimetype": "text/x-python",
   "name": "python",
   "nbconvert_exporter": "python",
   "pygments_lexer": "ipython3",
   "version": "3.8.5"
  },
  "toc": {
   "base_numbering": 1,
   "nav_menu": {},
   "number_sections": true,
   "sideBar": true,
   "skip_h1_title": false,
   "title_cell": "Table of Contents",
   "title_sidebar": "Contents",
   "toc_cell": false,
   "toc_position": {},
   "toc_section_display": true,
   "toc_window_display": false
  }
 },
 "nbformat": 4,
 "nbformat_minor": 4
}
