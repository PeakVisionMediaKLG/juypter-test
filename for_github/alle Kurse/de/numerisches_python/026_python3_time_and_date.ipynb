{
 "cells": [
  {
   "cell_type": "code",
   "execution_count": 35,
   "metadata": {},
   "outputs": [],
   "source": [
    "# invisible\n",
    "import numpy as np\n",
    "np.core.arrayprint._line_width = 65"
   ]
  },
  {
   "cell_type": "markdown",
   "metadata": {},
   "source": [
    "\n",
    "\n",
    "\n",
    "\n",
    "\n",
    "\n",
    "\n",
    "## Python, Datum und Zeit\n",
    "\n",
    "### Python Standard-Module für Zeit-Daten\n",
    "\n",
    "<img width=\"30%\" class=\"imgright\" src=\"../images/date_and_time.webp\" srcset=\"../images/date_and_time_500w.webp 500w,../images/date_and_time_400w.webp 400w,../images/date_and_time_350w.webp 350w,../images/date_and_time_300w.webp 300w\" alt=\"Python, Date and Time\" />\n",
    "\n",
    "\n",
    "\n",
    "Python bietet reichlich Funktionalität, um mit Datums- und Zeit-Daten umzugehen. Die Standard-Bibliotheken enthalten folgende Module:\n",
    "\n",
    "- ```time```\n",
    "- ```calendar```\n",
    "- ```datetime``` \n",
    "\n",
    "Diese Module bieten Klassen zur Manipulation von simplen und komplexen Datums- und Zeit-Daten.\n",
    "\n",
    "Speziell die ```datetime```-Klasse ist sehr wichtig für die Timeseries in Pandas.\n",
    "\n",
    "Die wichtigsten Module in Python, um mit Zeiten zu arbeiten, sind ```time```,\n",
    "```calendar``` und ```datetime```.\n",
    "\n",
    "Das ```datetime```-Modul bietet diverse Klassen, Methoden und Funktionen für die Arbeit mit Daten, Zeiten und Zeit-Intervallen. Dafür stehen folgende Klassen zur Verfügung:\n",
    "\n",
    "- Die Instanzen der ```date```-Klasse können  Daten innerhalb der Jahre zwischen 1 und 9999 abbilden.\n",
    "- Eine Instanz der ```datetime```-Klasse besteht sowohl aus dem Datum, als auch aus der Zeit.\n",
    "- Die ```time```-Klasse implementiert Zeit-Objekte.\n",
    "- Die ```timedelta```-Klasse wird verwendet zur Differenzbildung zwischen zwei Zeit- oder Datums-Objekten.\n",
    "- Die ```tzinfo```-Klasse dient der Implementierung von Zeitzonen für Zeit- und Datums-Objekten.\n",
    "\n",
    "Wir starten mit dem date-Objekt.\n",
    "\n",
    "#### Die date-Klasse"
   ]
  },
  {
   "cell_type": "code",
   "execution_count": 36,
   "metadata": {},
   "outputs": [
    {
     "name": "stdout",
     "output_type": "stream",
     "text": [
      "1993-12-14\n"
     ]
    }
   ],
   "source": [
    "from datetime import date\n",
    "\n",
    "x = date(1993, 12, 14)\n",
    "print(x)"
   ]
  },
  {
   "cell_type": "markdown",
   "metadata": {},
   "source": [
    "Wir können Datums-Objekte zwischen dem 01. Januar 0001 und dem 31. Dezember 9999 instanziieren. Über die Attribute ```min```  und ```max``` kann dies ermittelt werden:"
   ]
  },
  {
   "cell_type": "code",
   "execution_count": 37,
   "metadata": {},
   "outputs": [
    {
     "name": "stdout",
     "output_type": "stream",
     "text": [
      "0001-01-01\n",
      "9999-12-31\n"
     ]
    }
   ],
   "source": [
    "from datetime import date\n",
    "\n",
    "print(date.min)\n",
    "print(date.max)"
   ]
  },
  {
   "cell_type": "markdown",
   "metadata": {},
   "source": [
    "\n",
    "Wir können diverse Methoden auf das obige ```date```-Objekt anwenden. Das proleptische Gregorianische Ordinal liefert die Methode ```toordinal```. Der proleptische gregorianische Kalender besteht aus der Erweiterung des gregorianischen Kalenders rückwärts über seine Einführung im Jahre 1582 hinaus. In der Ordinalen Numerierung entspricht somit dem Tag 1 der 1. Januar des Jahres 1:"
   ]
  },
  {
   "cell_type": "code",
   "execution_count": 38,
   "metadata": {},
   "outputs": [
    {
     "name": "stdout",
     "output_type": "stream",
     "text": [
      "1\n",
      "2\n",
      "2019-02-21\n",
      "737111\n"
     ]
    }
   ],
   "source": [
    "x = date(1, 1, 1) # 1. Januar 1\n",
    "print(x.toordinal())\n",
    "x = date(1, 1, 2) # 2. Januar 1\n",
    "print(x.toordinal())\n",
    "print(x.today())\n",
    "print(x.today().toordinal())"
   ]
  },
  {
   "cell_type": "markdown",
   "metadata": {},
   "source": [
    "Aus einem Ordinal kann das Datum mit der Klassen-Methode ```fromordinal``` wieder herausgerechnet werden:"
   ]
  },
  {
   "cell_type": "code",
   "execution_count": 39,
   "metadata": {},
   "outputs": [
    {
     "name": "stdout",
     "output_type": "stream",
     "text": [
      "1991-04-30\n"
     ]
    }
   ],
   "source": [
    "print(date.fromordinal(726952))"
   ]
  },
  {
   "cell_type": "markdown",
   "metadata": {},
   "source": [
    "Wenn Sie den Wochentag eines bestimmten Tages wissen möchten, kann dies mit der Methode ```weekday```  berechnet werden. ```weekday``` liefert Zahlen zwischen ```0``` (Montag) und ```6``` (Sonntag) zurück."
   ]
  },
  {
   "cell_type": "code",
   "execution_count": 40,
   "metadata": {},
   "outputs": [
    {
     "name": "stdout",
     "output_type": "stream",
     "text": [
      "1\n"
     ]
    }
   ],
   "source": [
    "print(x.weekday())"
   ]
  },
  {
   "cell_type": "code",
   "execution_count": 41,
   "metadata": {},
   "outputs": [
    {
     "name": "stdout",
     "output_type": "stream",
     "text": [
      "2019-02-21\n"
     ]
    }
   ],
   "source": [
    "print(date.today())"
   ]
  },
  {
   "cell_type": "markdown",
   "metadata": {},
   "source": [
    "Über die Attribute können wir auf den Tag, den Monat und das Jahr eines Date-Objektes zugreifen:"
   ]
  },
  {
   "cell_type": "code",
   "execution_count": 42,
   "metadata": {},
   "outputs": [
    {
     "name": "stdout",
     "output_type": "stream",
     "text": [
      "2\n",
      "1\n",
      "1\n"
     ]
    }
   ],
   "source": [
    "print(x.day)\n",
    "print(x.month)\n",
    "print(x.year)"
   ]
  },
  {
   "cell_type": "markdown",
   "metadata": {},
   "source": [
    "#### Die time-Klasse\n",
    "\n",
    "Die ```time```-Klasse ist gleich organisiert wie die ```date```-Klasse."
   ]
  },
  {
   "cell_type": "code",
   "execution_count": 43,
   "metadata": {},
   "outputs": [
    {
     "name": "stdout",
     "output_type": "stream",
     "text": [
      "15:06:23\n"
     ]
    }
   ],
   "source": [
    "from datetime import time\n",
    "\n",
    "t = time(15, 6, 23)\n",
    "print(t)"
   ]
  },
  {
   "cell_type": "markdown",
   "metadata": {},
   "source": [
    "Die möglichen Zeiten liegen zwischen:"
   ]
  },
  {
   "cell_type": "code",
   "execution_count": 44,
   "metadata": {},
   "outputs": [
    {
     "name": "stdout",
     "output_type": "stream",
     "text": [
      "00:00:00\n",
      "23:59:59.999999\n"
     ]
    }
   ],
   "source": [
    "print(time.min)\n",
    "print(time.max)"
   ]
  },
  {
   "cell_type": "markdown",
   "metadata": {},
   "source": [
    "Der Zugriff auf Stunde, Minute und Sekunde:"
   ]
  },
  {
   "cell_type": "code",
   "execution_count": 45,
   "metadata": {},
   "outputs": [
    {
     "name": "stdout",
     "output_type": "stream",
     "text": [
      "15 6 23\n"
     ]
    }
   ],
   "source": [
    "print(t.hour, t.minute, t.second)"
   ]
  },
  {
   "cell_type": "markdown",
   "metadata": {},
   "source": [
    "Jede Komponente eines Zeit-Objektes kann durch ```replace()``` geändert werden:"
   ]
  },
  {
   "cell_type": "code",
   "execution_count": 46,
   "metadata": {},
   "outputs": [
    {
     "name": "stdout",
     "output_type": "stream",
     "text": [
      "11:59:23\n"
     ]
    }
   ],
   "source": [
    "t = t.replace(hour=11, minute=59)\n",
    "print(t)"
   ]
  },
  {
   "cell_type": "markdown",
   "metadata": {},
   "source": [
    "Wir können einen Datums-String in C-Style generieren, entsprechend der ```ctime```-Funktion in C:"
   ]
  },
  {
   "cell_type": "code",
   "execution_count": 47,
   "metadata": {},
   "outputs": [
    {
     "name": "stdout",
     "output_type": "stream",
     "text": [
      "Tue Jan  2 00:00:00 0001\n"
     ]
    }
   ],
   "source": [
    "print(x.ctime())"
   ]
  },
  {
   "cell_type": "markdown",
   "metadata": {},
   "source": [
    "### Die datetime-Klasse\n",
    "\n",
    "Das ```datetime```-Modul bietet uns Funktionen und Methoden zur Manipulation von Datums- und Zeit-Objekten. Weiterhin stellt es Funktionalitäten zur Verfügung für arithmetische Operationen für Datums- und Zeit-Objekte, z.B. Addition und Subtraktion. Ein weiterer Fokus der Implementierung liegt auf der Extrahierung von Attributen.\n",
    "\n",
    "Es gibt zwei Arten von Datums- und Zeit-Objekten:\n",
    "\n",
    "- naive\n",
    "- aware\n",
    "\n",
    "Wenn ein Zeit-Objekt 'naive' ist, enthält es keine Informationen für den Vergleich oder die Lokalisation gegenüber anderen Datums- oder Zeit-Objekten. Die Semantik, falls das 'naive'-Objekt einer bestimmten Zeitzone entspricht (wie beispielsweise UTC, lokale Zeit, etc.), ist in der Logik des Programs verankert.\n",
    "\n",
    "Auf der anderen Seite hat ein 'aware'-Objekt Informationen über die Zeitzone. Somit kann es gegenüber anderen 'aware'-Objekten lokalisiert werden.\n",
    "\n",
    "Wie können Sie herausfinden, ob ein datetime-Objekt ```t``` 'aware' ist?\n",
    "\n",
    "```t``` ist 'aware', wenn ```t.tzinfo``` nicht None ist und ```t.tzinfo.utcoffset(t)``` nicht None ist.\n",
    "Beide Bedingungen müssen erfüllt sein.\n",
    "\n",
    "Demgegenüber ist das Objekt ```t``` 'naive', wenn ```t.tzinfo``` oder ```t.tzinfo.utcoffset(t)``` None ist.\n",
    "\n",
    "Erstellen wir ein datetime-Objekt:"
   ]
  },
  {
   "cell_type": "code",
   "execution_count": 48,
   "metadata": {},
   "outputs": [
    {
     "name": "stdout",
     "output_type": "stream",
     "text": [
      "2017-04-19 16:31:00\n"
     ]
    }
   ],
   "source": [
    "from datetime import datetime\n",
    "t = datetime(2017, 4, 19, 16, 31, 0)\n",
    "print(t)"
   ]
  },
  {
   "cell_type": "markdown",
   "metadata": {},
   "source": [
    "```t``` ist naive, weil folgender Ausdruck ```True``` ist:"
   ]
  },
  {
   "cell_type": "code",
   "execution_count": 49,
   "metadata": {},
   "outputs": [
    {
     "name": "stdout",
     "output_type": "stream",
     "text": [
      "True\n"
     ]
    }
   ],
   "source": [
    "print(t.tzinfo == None)"
   ]
  },
  {
   "cell_type": "markdown",
   "metadata": {},
   "source": [
    "\n",
    "\n",
    "Wir erstellen ein 'aware' datetime-Objekt vom aktuellen Datum. Dafür benötigen wir das Modul ```pytz```. ```pytz``` ist ein Modul, welches die 'Olsen-Zeitzonen-Datenbank' in Python bereitstellt. Die Olsen-Zeitzonen werden nahezu komplett durch dieses Modul unterstützt."
   ]
  },
  {
   "cell_type": "code",
   "execution_count": 50,
   "metadata": {},
   "outputs": [],
   "source": [
    "from datetime import datetime\n",
    "import pytz\n",
    "t = datetime.now(pytz.utc)"
   ]
  },
  {
   "cell_type": "markdown",
   "metadata": {},
   "source": [
    "Wir sehen, dass sowohl ```t.tzinfo``` als auch ```t.tzinfo.utcoffset(t)``` nicht ```None``` sind und ```t``` somit ein 'aware'-Objekt ist: "
   ]
  },
  {
   "cell_type": "code",
   "execution_count": 51,
   "metadata": {},
   "outputs": [
    {
     "name": "stdout",
     "output_type": "stream",
     "text": [
      "UTC 0:00:00\n"
     ]
    }
   ],
   "source": [
    "print(t.tzinfo, t.tzinfo.utcoffset(t))"
   ]
  },
  {
   "cell_type": "code",
   "execution_count": 52,
   "metadata": {},
   "outputs": [
    {
     "data": {
      "text/plain": [
       "[datetime.datetime(1991, 4, 30, 0, 0),\n",
       " datetime.datetime(1991, 4, 29, 0, 0),\n",
       " datetime.datetime(1991, 4, 28, 0, 0),\n",
       " datetime.datetime(1991, 4, 27, 0, 0),\n",
       " datetime.datetime(1991, 4, 26, 0, 0),\n",
       " datetime.datetime(1991, 4, 25, 0, 0),\n",
       " datetime.datetime(1991, 4, 24, 0, 0),\n",
       " datetime.datetime(1991, 4, 23, 0, 0),\n",
       " datetime.datetime(1991, 4, 22, 0, 0),\n",
       " datetime.datetime(1991, 4, 21, 0, 0),\n",
       " datetime.datetime(1991, 4, 20, 0, 0),\n",
       " datetime.datetime(1991, 4, 19, 0, 0),\n",
       " datetime.datetime(1991, 4, 18, 0, 0),\n",
       " datetime.datetime(1991, 4, 17, 0, 0),\n",
       " datetime.datetime(1991, 4, 16, 0, 0)]"
      ]
     },
     "execution_count": 52,
     "metadata": {},
     "output_type": "execute_result"
    }
   ],
   "source": [
    "from datetime import datetime, timedelta as delta\n",
    "ndays = 15\n",
    "start = datetime(1991, 4, 30)\n",
    "dates = [start - delta(days=x) for x in range(0, ndays)]\n",
    "dates"
   ]
  },
  {
   "cell_type": "markdown",
   "metadata": {},
   "source": [
    "### Unterschied zwischen Zeiten\n",
    "\n",
    "Schauen wir was passiert, wenn wir ```datetime```-Objekte voneinander subtrahieren:"
   ]
  },
  {
   "cell_type": "code",
   "execution_count": 53,
   "metadata": {},
   "outputs": [
    {
     "name": "stdout",
     "output_type": "stream",
     "text": [
      "959 days, 0:00:00 <class 'datetime.timedelta'>\n"
     ]
    }
   ],
   "source": [
    "from datetime import datetime\n",
    "\n",
    "delta = datetime(1993, 12, 14) - datetime(1991, 4, 30)\n",
    "print(delta, type(delta))"
   ]
  },
  {
   "cell_type": "markdown",
   "metadata": {},
   "source": [
    "\n",
    "Das Ergebnis der Subtraktion der beiden ```datetime```-Objekte ist ein ```timedelta```-Objekt.\n",
    "Über das Attribut ```days```  können wir die Tage der Differenz auslesen:"
   ]
  },
  {
   "cell_type": "code",
   "execution_count": 54,
   "metadata": {},
   "outputs": [
    {
     "name": "stdout",
     "output_type": "stream",
     "text": [
      "959\n"
     ]
    }
   ],
   "source": [
    "print(delta.days)"
   ]
  },
  {
   "cell_type": "code",
   "execution_count": 55,
   "metadata": {},
   "outputs": [
    {
     "name": "stdout",
     "output_type": "stream",
     "text": [
      "412 76680\n"
     ]
    }
   ],
   "source": [
    "t1 = datetime(2017, 1, 31, 14, 17)\n",
    "t2 = datetime(2015, 12, 15, 16, 59)\n",
    "delta = t1 - t2\n",
    "print(delta.days, delta.seconds)"
   ]
  },
  {
   "cell_type": "markdown",
   "metadata": {},
   "source": [
    "Es ist möglich, ein ```timedelta```-Objekt von einem anderen ```datetime```-Objekt zu subtrahieren oder es zu addieren (in Tagen), um ein neues ```datetime```-Objekt zu berechnen:"
   ]
  },
  {
   "cell_type": "code",
   "execution_count": 56,
   "metadata": {},
   "outputs": [
    {
     "name": "stdout",
     "output_type": "stream",
     "text": [
      "1991-05-10 00:00:00\n",
      "10 days, 0:00:00\n",
      "1991-01-20 00:00:00\n",
      "1991-01-20 00:00:00\n"
     ]
    }
   ],
   "source": [
    "from datetime import datetime, timedelta\n",
    "d1 = datetime(1991, 4, 30)\n",
    "d2 = d1 + timedelta(10)\n",
    "print(d2)\n",
    "print(d2 - d1)\n",
    "\n",
    "d3 = d1 - timedelta(100)\n",
    "print(d3)\n",
    "d4 = d1 - 2 * timedelta(50)\n",
    "print(d4)"
   ]
  },
  {
   "cell_type": "markdown",
   "metadata": {},
   "source": [
    "Ebenso können ```timedelta```-Objekte auch in Tagen und Minuten zu ```datetime```-Objekten addiert oder voneinander subtrahiert werden:"
   ]
  },
  {
   "cell_type": "code",
   "execution_count": 57,
   "metadata": {},
   "outputs": [
    {
     "name": "stdout",
     "output_type": "stream",
     "text": [
      "1991-05-10 00:01:40\n",
      "10 days, 0:01:40\n"
     ]
    }
   ],
   "source": [
    "from datetime import datetime, timedelta\n",
    "d1 = datetime(1991, 4, 30)\n",
    "d2 = d1 + timedelta(10,100)\n",
    "print(d2)\n",
    "print(d2 - d1)"
   ]
  },
  {
   "cell_type": "markdown",
   "metadata": {},
   "source": [
    "#### Wandlung von datetime-Objekten in Strings\n",
    "\n",
    "Der einfachste Weg ein ```datetime```-Objekt als String darzustellen ist die ```str```-Methode."
   ]
  },
  {
   "cell_type": "code",
   "execution_count": 58,
   "metadata": {},
   "outputs": [
    {
     "name": "stdout",
     "output_type": "stream",
     "text": [
      "1991-04-30 00:00:00\n"
     ]
    }
   ],
   "source": [
    "s = str(d1)\n",
    "print(s)"
   ]
  },
  {
   "cell_type": "markdown",
   "metadata": {},
   "source": [
    "#### Wandlung mit strftime\n",
    "\n",
    "\n",
    "\n",
    "\n",
    "Der Methodenaufruf ```datetime.strftime(format)``` liefert einen String zurück, welcher die Zeit und das Datum repräsentiert, jedoch durch ein explizites Format bestimmt wird. \n",
    "Ein komplette Liste von möglichen Formatierungen kann [hier (strftime)](https://docs.python.org/3/library/datetime.html#strftime-strptime-behavior) eingesehen werden:\n",
    "\n"
   ]
  },
  {
   "cell_type": "code",
   "execution_count": 59,
   "metadata": {},
   "outputs": [
    {
     "name": "stdout",
     "output_type": "stream",
     "text": [
      "1991-04-30\n",
      "Wochentag: Tue\n",
      "Wochentag ausgeschrieben: Tuesday\n",
      "Wochentag als Dezimalzahl: 2\n"
     ]
    }
   ],
   "source": [
    "print(d1.strftime('%Y-%m-%d'))\n",
    "print(\"Wochentag: \" + d1.strftime('%a'))\n",
    "print(\"Wochentag ausgeschrieben: \" + d1.strftime('%A'))\n",
    "\n",
    "# Weekday as a decimal number, where 0 is Sunday \n",
    "# and 6 is Saturday\n",
    "print(\"Wochentag als Dezimalzahl: \" + d1.strftime('%w'))"
   ]
  },
  {
   "cell_type": "markdown",
   "metadata": {},
   "source": [
    "Formatierung von Monaten:"
   ]
  },
  {
   "cell_type": "code",
   "execution_count": 60,
   "metadata": {},
   "outputs": [
    {
     "name": "stdout",
     "output_type": "stream",
     "text": [
      "30\n",
      "Apr\n",
      "April\n",
      "04\n"
     ]
    }
   ],
   "source": [
    "# Day of the month as a zero-padded decimal number. \n",
    "# 01, 02, ..., 31\n",
    "print(d1.strftime('%d'))\n",
    "\n",
    "# Month as locale’s abbreviated name. \n",
    "# Jan, Feb, ..., Dec (en_US); \n",
    "# Jan, Feb, ..., Dez (de_DE)\n",
    "print(d1.strftime('%b'))\n",
    "\n",
    "# Month as locale’s full name. \t\n",
    "# January, February, ..., December (en_US);\n",
    "# Januar, Februar, ..., Dezember (de_DE)\n",
    "print(d1.strftime('%B'))\n",
    "\n",
    "# Month as a zero-padded decimal number. \n",
    "# 01, 02, ..., 12\n",
    "print(d1.strftime('%m'))"
   ]
  },
  {
   "cell_type": "markdown",
   "metadata": {},
   "source": [
    "### Ausgabe in Landessprache\n",
    "\n",
    "Wir haben bereits gesehen, dass die Datumsausgaben in Englisch erfolgt sind. Im Folgenden geben wir ein Datum auf die im Vereinigten Königreich gebräuchlichste Art aus:"
   ]
  },
  {
   "cell_type": "code",
   "execution_count": 61,
   "metadata": {},
   "outputs": [
    {
     "name": "stdout",
     "output_type": "stream",
     "text": [
      "14 December 1993\n",
      "Nur in Zahlen:\n",
      "14/12/1993\n",
      "Auf US Art:\n",
      "12/14/1993\n",
      "It was a Tuesday!\n"
     ]
    }
   ],
   "source": [
    "from datetime import datetime, timedelta\n",
    "d1 = datetime(1993, 12, 14)\n",
    "\n",
    "print(d1.strftime('%d %B %Y'))\n",
    "\n",
    "print(\"Nur in Zahlen:\")\n",
    "print(d1.strftime('%d/%m/%Y'))\n",
    "print(\"Auf US Art:\")\n",
    "print(d1.strftime('%m/%d/%Y'))\n",
    "\n",
    "print(f\"It was a {d1.strftime('%A'):s}!\")"
   ]
  },
  {
   "cell_type": "markdown",
   "metadata": {},
   "source": [
    "\n",
    "Eine häufig gestellte Frage lautet, wie man diese Ausgaben in Landessprache ausgeben kann. Zunächst ist es wichtig, das ```locale```-Modul zu importieren:"
   ]
  },
  {
   "cell_type": "code",
   "execution_count": 62,
   "metadata": {},
   "outputs": [
    {
     "name": "stdout",
     "output_type": "stream",
     "text": [
      "14. Dezember 1993\n",
      "Nur in Zahlen:\n",
      "14.12.1993\n",
      "Der 14.12.1993 war ein Dienstag!\n",
      "14 décembre 1993\n",
      "Seulement en nombre:\n",
      "14.12.1993\n",
      "Le 14 12 1993 était un mardi!\n"
     ]
    }
   ],
   "source": [
    "from datetime import datetime, timedelta\n",
    "import locale\n",
    "\n",
    "# Umstellung auf Deutsch:\n",
    "locale.setlocale(locale.LC_ALL, 'de_DE.utf8')\n",
    "d1 = datetime(1993, 12, 14)\n",
    "\n",
    "print(d1.strftime('%d. %B %Y'))\n",
    "\n",
    "print(\"Nur in Zahlen:\")\n",
    "print(d1.strftime('%d.%m.%Y'))\n",
    "\n",
    "print(f\"Der {d1.strftime('%d.%m.%Y'):s} war ein {d1.strftime('%A'):s}!\")\n",
    "\n",
    "# und nun in Französisch:\n",
    "      \n",
    "locale.setlocale(locale.LC_ALL, 'fr_FR.utf8')\n",
    "d1 = datetime(1993, 12, 14)\n",
    "\n",
    "print(d1.strftime('%d %B %Y'))\n",
    "\n",
    "print(\"Seulement en nombre:\")\n",
    "print(d1.strftime('%d.%m.%Y'))\n",
    "\n",
    "print(f\"Le {d1.strftime('%d %m %Y'):s} était un {d1.strftime('%A'):s}!\")\n"
   ]
  },
  {
   "cell_type": "markdown",
   "metadata": {},
   "source": [
    "*Anmerkung:*\n",
    "\n",
    "Die länderspezifischen Ausgaben der obigen Beispiele funktionieren nur, falls 'de_DE.utf8' und 'fr_FR.utf8' im Betriebssystem installiert sind. Unter Ubuntu kann man diese wie folgt installieren:\n",
    "\n",
    "```sudo locale-gen fr_FR.UTF-8```\n",
    "\n",
    "und\n",
    "\n",
    "```sudo locale-gen de_DE.UTF-8```"
   ]
  },
  {
   "cell_type": "markdown",
   "metadata": {},
   "source": [
    "### datetime-Objekte aus Strings erstellen\n",
    "\n",
    "\n",
    "Wir können ```strptime``` nutzen, um neue ```datetime```-Objekte aus Strings zu erstellen, welche Datum und Zeit beinhalten. Die Argumente von ```strptime``` sind der String, welcher geparst werden soll, und die Format-Spezifikation."
   ]
  },
  {
   "cell_type": "code",
   "execution_count": 63,
   "metadata": {},
   "outputs": [
    {
     "name": "stdout",
     "output_type": "stream",
     "text": [
      "1999-12-30 00:00:00\n"
     ]
    }
   ],
   "source": [
    "from datetime import datetime\n",
    "t = datetime.strptime(\"30 12 1999\", \"%d %m %Y\")\n",
    "print(t)"
   ]
  },
  {
   "cell_type": "code",
   "execution_count": 64,
   "metadata": {},
   "outputs": [
    {
     "data": {
      "text/plain": [
       "datetime.datetime(2007, 3, 4, 21, 8, 12)"
      ]
     },
     "execution_count": 64,
     "metadata": {},
     "output_type": "execute_result"
    }
   ],
   "source": [
    "dt = \"2007-03-04T21:08:12\"\n",
    "datetime.strptime( dt, \"%Y-%m-%dT%H:%M:%S\" )"
   ]
  },
  {
   "cell_type": "code",
   "execution_count": 65,
   "metadata": {},
   "outputs": [
    {
     "data": {
      "text/plain": [
       "datetime.datetime(1957, 12, 24, 4, 3, 29)"
      ]
     },
     "execution_count": 65,
     "metadata": {},
     "output_type": "execute_result"
    }
   ],
   "source": [
    "import locale\n",
    "locale.setlocale(locale.LC_ALL, 'en_US.UTF-8')\n",
    "\n",
    "dt = '12/24/1957 4:03:29 AM'\n",
    "dt = datetime.strptime(dt, '%m/%d/%Y %I:%M:%S %p')\n",
    "dt"
   ]
  },
  {
   "cell_type": "markdown",
   "metadata": {},
   "source": [
    "Auf einer Linux-Maschine können wir einen englischen Datumsstring generieren mit dem Kommando \n",
    "```LC_ALL=en_EN.utf8 date```."
   ]
  },
  {
   "cell_type": "code",
   "execution_count": 66,
   "metadata": {},
   "outputs": [
    {
     "name": "stdout",
     "output_type": "stream",
     "text": [
      "2017-04-12 20:29:53\n"
     ]
    }
   ],
   "source": [
    "dt = 'Wed Apr 12 20:29:53 CEST 2017'\n",
    "dt = datetime.strptime(dt, '%a %b %d %H:%M:%S %Z %Y')\n",
    "print(dt)"
   ]
  },
  {
   "cell_type": "markdown",
   "metadata": {},
   "source": [
    "Obwohl ```datetime.strptime()``` eine einfache Möglichkeit ist, ein Datum mit einem bekannten Format zu parsen, kann es doch kompliziert sein, für neue Datumsformate jedes Mal eine neue Spezifikation zu erstellen.\n",
    "\n",
    "Für das Parsen ist die Nutzung der Methode ```dateutil.parser``` besser:"
   ]
  },
  {
   "cell_type": "code",
   "execution_count": 67,
   "metadata": {},
   "outputs": [
    {
     "data": {
      "text/plain": [
       "datetime.datetime(2011, 1, 3, 0, 0)"
      ]
     },
     "execution_count": 67,
     "metadata": {},
     "output_type": "execute_result"
    }
   ],
   "source": [
    "from dateutil.parser import parse\n",
    "\n",
    "parse('2011-01-03')"
   ]
  },
  {
   "cell_type": "code",
   "execution_count": 68,
   "metadata": {},
   "outputs": [
    {
     "data": {
      "text/plain": [
       "datetime.datetime(2017, 4, 12, 20, 29, 53, tzinfo=tzlocal())"
      ]
     },
     "execution_count": 68,
     "metadata": {},
     "output_type": "execute_result"
    }
   ],
   "source": [
    "parse('Wed Apr 12 20:29:53 CEST 2017')"
   ]
  }
 ],
 "metadata": {
  "kernelspec": {
   "display_name": "Python 3",
   "language": "python",
   "name": "python3"
  },
  "language_info": {
   "codemirror_mode": {
    "name": "ipython",
    "version": 3
   },
   "file_extension": ".py",
   "mimetype": "text/x-python",
   "name": "python",
   "nbconvert_exporter": "python",
   "pygments_lexer": "ipython3",
   "version": "3.8.5"
  },
  "toc": {
   "base_numbering": 1,
   "nav_menu": {},
   "number_sections": true,
   "sideBar": true,
   "skip_h1_title": false,
   "title_cell": "Table of Contents",
   "title_sidebar": "Contents",
   "toc_cell": false,
   "toc_position": {},
   "toc_section_display": true,
   "toc_window_display": false
  }
 },
 "nbformat": 4,
 "nbformat_minor": 4
}
