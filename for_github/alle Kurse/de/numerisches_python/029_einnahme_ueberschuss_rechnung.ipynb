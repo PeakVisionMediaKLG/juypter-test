{
 "cells": [
  {
   "cell_type": "markdown",
   "metadata": {},
   "source": [
    "## Einnahmeüberschussrechnung\n",
    "\n",
    "\n",
    "\n",
    "\n",
    "<img width=\"60%\" class=\"imgright\" src=\"../images/geldbewegung.webp\" srcset=\"../images/geldbewegung_800w.webp 800w,../images/geldbewegung_700w.webp 700w,../images/geldbewegung_600w.webp 600w,../images/geldbewegung_500w.webp 500w,../images/geldbewegung_400w.webp 400w,../images/geldbewegung_350w.webp 350w,../images/geldbewegung_300w.webp 300w\" alt=\"Geldfluss\" />\n",
    "\n",
    "\n",
    "Bei der in Deutschland benutzten Einnahmenüberschussrechnung (EÜR), - in Österreich als Einnahmen-Ausgaben-Rechnung (E/A-Rechnung) bekannt - handelt es sich um eine vereinfachte Gewinnermittlungsmethode, die so vom Gesetz vorgegeben und und für bestimmte Berufsgruppen anerkannt ist. Einnahmenüberschussrechnung ist sowohl in Deutschland als auch in Österreich im § 4 Abs. 3 des jeweiligen Einkommensteuergesetzes (EStG) geregelt. Alle Stuerpflichtigen, die nicht zuur doppelten Buchführung verpflichtet sind, dürfen dieses vereinfachte Verfahren zuur Gewinnermittler verwenden. \n",
    "Bei der E*R gilt das Zufluss- und Abflussprinzip, das bedeutet das lediglich die Einnahmen bzw. Ausgaben zu berücksichtigen sind, die in dem entsprechenden Wirtschaftsjahr vereinnahmt bzw. gezahlt wurden. Bestandsveränderungen bleiben unberücksichtigt. Auch wenn hier und an anderen Stellen imer von \"vereinfacht\" oder von \"einfacher\" Gewinnermittlungsmethode die Rede ist, so darf das nicht darüber hinweg täuschen, dasss auch bei dieser Methode viele gesetzlichen Regeln zu beachten sind. Im Rahmen dieses Tutorials kann natürlich nicht auf die komplexe Materie eingegangen werden. Die hier vorgestellten Verfahren können für die eigene EÜr verwendet werden, aber es kann keine Garantie auf die Richtigkeit gegeben werden. \n",
    "\n",
    "Wir sind hauptsächlich daran interessiert, die verschiedenen Möglichkeiten vorzustellen, wie Pandas und Python zur Einnahmeüberschussrechnung benutzt werden können. Wir zeigen, wie es mit Python möglich ist, den Geldfluss zu überwachen und zu visualisieren. Auf diese Weise kann man sich einen besseren Überblick über die finanzielle Situation des Betriebes oder der selbständigen Tätigkeit verschaffen. Die hier vorgestellten Algorithmen können auch steuerlich eingesetzt werden. Aber seien Sie gewarnt, dies ist eine sehr allgemeine Behandlung der Angelegenheit und muss an die tatsächliche Steuersituation angepasst werden, d.h. es kann keine Gewähr für die steuerliche Richtigkeit übernommen werden.\n",
    "\n",
    "Im Ordner ```data1``` befindet sich eine Excel-Datei ```net_income_method_2020.xlsx``` mit den Buchhaltungsdaten eines fiktiven Unternehmens.\n",
    "\n",
    "\n",
    "### Journaldatei\n",
    "\n",
    "Dieses Excel-Dokument enthält zwei Datenblätter: eines mit den tatsächlichen Daten \"journal\" und eines mit dem Namen \"account numbers\" (Kontonummern), das die Zuordnung von den Kontonummern zur Beschreibung enthält.\n",
    "<br>\n",
    "<img width=70% src=\"../images/einnahme_ueberschuss_rechnung_excel.webp\" srcset=\"../images/einnahme_ueberschuss_rechnung_excel_800w.webp 800w,../images/einnahme_ueberschuss_rechnung_excel_700w.webp 700w,../images/einnahme_ueberschuss_rechnung_excel_600w.webp 600w,../images/einnahme_ueberschuss_rechnung_excel_500w.webp 500w,../images/einnahme_ueberschuss_rechnung_excel_400w.webp 400w,../images/einnahme_ueberschuss_rechnung_excel_350w.webp 350w,../images/einnahme_ueberschuss_rechnung_excel_300w.webp 300w\" alt=\"Einnahmeüberschussrechnung unter Excel\" />\n",
    "\n",
    "<br><br>\n",
    "<img width=70% src=\"../images/kontonummer_beschreibung_excel.webp\" srcset=\"../images/kontonummer_beschreibung_excel_800w.webp 800w,../images/kontonummer_beschreibung_excel_700w.webp 700w,../images/kontonummer_beschreibung_excel_600w.webp 600w,../images/kontonummer_beschreibung_excel_500w.webp 500w,../images/kontonummer_beschreibung_excel_400w.webp 400w,../images/kontonummer_beschreibung_excel_350w.webp 350w,../images/kontonummer_beschreibung_excel_300w.webp 300w\" alt=\"Kontonummer Beschreibung\" />\n",
    "\n",
    "\n",
    "\n",
    "Wir werden diese Excel-Datei in zwei DataFrame-Objekte lesen:"
   ]
  },
  {
   "cell_type": "code",
   "execution_count": 1,
   "metadata": {},
   "outputs": [
    {
     "data": {
      "text/plain": [
       "DatetimeIndex(['2020-04-02', '2020-04-02', '2020-04-02', '2020-04-02',\n",
       "               '2020-04-02', '2020-04-02', '2020-04-05', '2020-04-05',\n",
       "               '2020-04-05', '2020-04-05', '2020-04-09', '2020-04-09',\n",
       "               '2020-04-10', '2020-04-10', '2020-04-10', '2020-04-10',\n",
       "               '2020-04-10', '2020-04-10', '2020-04-13', '2020-04-13',\n",
       "               '2020-04-13', '2020-04-26', '2020-04-26', '2020-04-26',\n",
       "               '2020-04-26', '2020-04-27', '2020-05-03', '2020-05-03',\n",
       "               '2020-05-03', '2020-05-03', '2020-05-05', '2020-05-05',\n",
       "               '2020-05-08', '2020-05-09', '2020-05-10', '2020-05-11',\n",
       "               '2020-05-11', '2020-05-11', '2020-05-11', '2020-05-11',\n",
       "               '2020-05-13', '2020-05-18', '2020-05-25', '2020-05-25',\n",
       "               '2020-06-01', '2020-06-02', '2020-06-03', '2020-06-03',\n",
       "               '2020-06-04', '2020-06-04', '2020-06-09', '2020-06-10',\n",
       "               '2020-06-10', '2020-06-11', '2020-06-11', '2020-06-11',\n",
       "               '2020-06-11', '2020-06-11', '2020-06-12', '2020-06-13',\n",
       "               '2020-06-13', '2020-06-26', '2020-06-26', '2020-06-27',\n",
       "               '2020-07-02', '2020-07-03', '2020-07-05', '2020-07-05',\n",
       "               '2020-07-08', '2020-07-09', '2020-07-10', '2020-07-10',\n",
       "               '2020-07-10', '2020-07-10', '2020-07-10', '2020-07-10',\n",
       "               '2020-07-11', '2020-07-11', '2020-07-13', '2020-07-18',\n",
       "               '2020-07-23', '2020-07-23', '2020-07-25', '2020-07-25',\n",
       "               '2020-07-27', '2020-07-26', '2020-07-28'],\n",
       "              dtype='datetime64[ns]', name='date', freq=None)"
      ]
     },
     "execution_count": 1,
     "metadata": {},
     "output_type": "execute_result"
    }
   ],
   "source": [
    "import pandas as pd\n",
    "\n",
    "with pd.ExcelFile(\"data1/net_income_method_2020.xlsx\") as xl:\n",
    "    accounts2descr = xl.parse(\"account numbers\", \n",
    "                              index_col=0)\n",
    "    journal = xl.parse(\"journal\", \n",
    "                       index_col=0,\n",
    "                      )\n",
    "    \n",
    "journal.index = pd.to_datetime(journal.index)\n",
    "journal.index"
   ]
  },
  {
   "cell_type": "markdown",
   "metadata": {},
   "source": [
    "Die erste ist die Registerkarte \"Kontonummern\", die die Zuordnung von den Kontonummern zur Beschreibung der Konten enthält: "
   ]
  },
  {
   "cell_type": "code",
   "execution_count": 2,
   "metadata": {},
   "outputs": [
    {
     "data": {
      "text/html": [
       "<div>\n",
       "<style scoped>\n",
       "    .dataframe tbody tr th:only-of-type {\n",
       "        vertical-align: middle;\n",
       "    }\n",
       "\n",
       "    .dataframe tbody tr th {\n",
       "        vertical-align: top;\n",
       "    }\n",
       "\n",
       "    .dataframe thead th {\n",
       "        text-align: right;\n",
       "    }\n",
       "</style>\n",
       "<table border=\"1\" class=\"dataframe\">\n",
       "  <thead>\n",
       "    <tr style=\"text-align: right;\">\n",
       "      <th></th>\n",
       "      <th>description</th>\n",
       "    </tr>\n",
       "    <tr>\n",
       "      <th>account</th>\n",
       "      <th></th>\n",
       "    </tr>\n",
       "  </thead>\n",
       "  <tbody>\n",
       "    <tr>\n",
       "      <th>4400</th>\n",
       "      <td>revenue plant Munich</td>\n",
       "    </tr>\n",
       "    <tr>\n",
       "      <th>4401</th>\n",
       "      <td>revenue plant Frankfurt</td>\n",
       "    </tr>\n",
       "    <tr>\n",
       "      <th>4402</th>\n",
       "      <td>revenue plant Berlin</td>\n",
       "    </tr>\n",
       "    <tr>\n",
       "      <th>2010</th>\n",
       "      <td>souvenirs</td>\n",
       "    </tr>\n",
       "    <tr>\n",
       "      <th>2020</th>\n",
       "      <td>clothes</td>\n",
       "    </tr>\n",
       "    <tr>\n",
       "      <th>2030</th>\n",
       "      <td>other articles</td>\n",
       "    </tr>\n",
       "    <tr>\n",
       "      <th>2050</th>\n",
       "      <td>books</td>\n",
       "    </tr>\n",
       "    <tr>\n",
       "      <th>2100</th>\n",
       "      <td>insurances</td>\n",
       "    </tr>\n",
       "    <tr>\n",
       "      <th>2200</th>\n",
       "      <td>wages</td>\n",
       "    </tr>\n",
       "    <tr>\n",
       "      <th>2300</th>\n",
       "      <td>loans</td>\n",
       "    </tr>\n",
       "    <tr>\n",
       "      <th>2400</th>\n",
       "      <td>hotels</td>\n",
       "    </tr>\n",
       "    <tr>\n",
       "      <th>2500</th>\n",
       "      <td>petrol</td>\n",
       "    </tr>\n",
       "    <tr>\n",
       "      <th>2600</th>\n",
       "      <td>telecommunication</td>\n",
       "    </tr>\n",
       "    <tr>\n",
       "      <th>2610</th>\n",
       "      <td>internet</td>\n",
       "    </tr>\n",
       "  </tbody>\n",
       "</table>\n",
       "</div>"
      ],
      "text/plain": [
       "                     description\n",
       "account                         \n",
       "4400        revenue plant Munich\n",
       "4401     revenue plant Frankfurt\n",
       "4402        revenue plant Berlin\n",
       "2010                   souvenirs\n",
       "2020                     clothes\n",
       "2030              other articles\n",
       "2050                       books\n",
       "2100                  insurances\n",
       "2200                       wages\n",
       "2300                       loans\n",
       "2400                      hotels\n",
       "2500                      petrol\n",
       "2600           telecommunication\n",
       "2610                    internet"
      ]
     },
     "execution_count": 2,
     "metadata": {},
     "output_type": "execute_result"
    }
   ],
   "source": [
    "accounts2descr"
   ]
  },
  {
   "cell_type": "markdown",
   "metadata": {},
   "source": [
    "Das zweite Datenblatt \"journal\" enthält die eigentlichen Journaleinträge:"
   ]
  },
  {
   "cell_type": "code",
   "execution_count": 3,
   "metadata": {},
   "outputs": [
    {
     "data": {
      "text/html": [
       "<div>\n",
       "<style scoped>\n",
       "    .dataframe tbody tr th:only-of-type {\n",
       "        vertical-align: middle;\n",
       "    }\n",
       "\n",
       "    .dataframe tbody tr th {\n",
       "        vertical-align: top;\n",
       "    }\n",
       "\n",
       "    .dataframe thead th {\n",
       "        text-align: right;\n",
       "    }\n",
       "</style>\n",
       "<table border=\"1\" class=\"dataframe\">\n",
       "  <thead>\n",
       "    <tr style=\"text-align: right;\">\n",
       "      <th></th>\n",
       "      <th>account number</th>\n",
       "      <th>document number</th>\n",
       "      <th>description</th>\n",
       "      <th>tax rate</th>\n",
       "      <th>gross amount</th>\n",
       "    </tr>\n",
       "    <tr>\n",
       "      <th>date</th>\n",
       "      <th></th>\n",
       "      <th></th>\n",
       "      <th></th>\n",
       "      <th></th>\n",
       "      <th></th>\n",
       "    </tr>\n",
       "  </thead>\n",
       "  <tbody>\n",
       "    <tr>\n",
       "      <th>2020-04-02</th>\n",
       "      <td>4402</td>\n",
       "      <td>8983233038</td>\n",
       "      <td>Zurkan, Köln</td>\n",
       "      <td>19</td>\n",
       "      <td>4105.98</td>\n",
       "    </tr>\n",
       "    <tr>\n",
       "      <th>2020-04-02</th>\n",
       "      <td>2010</td>\n",
       "      <td>57550799</td>\n",
       "      <td>Birmann, Souvenirs</td>\n",
       "      <td>19</td>\n",
       "      <td>-1890.00</td>\n",
       "    </tr>\n",
       "    <tr>\n",
       "      <th>2020-04-02</th>\n",
       "      <td>2200</td>\n",
       "      <td>14989004</td>\n",
       "      <td>wages</td>\n",
       "      <td>0</td>\n",
       "      <td>-17478.23</td>\n",
       "    </tr>\n",
       "    <tr>\n",
       "      <th>2020-04-02</th>\n",
       "      <td>2500</td>\n",
       "      <td>12766279</td>\n",
       "      <td>Filling Station, Petrol</td>\n",
       "      <td>19</td>\n",
       "      <td>-89.40</td>\n",
       "    </tr>\n",
       "    <tr>\n",
       "      <th>2020-04-02</th>\n",
       "      <td>4400</td>\n",
       "      <td>3733462359</td>\n",
       "      <td>EnergyCom, Hamburg</td>\n",
       "      <td>19</td>\n",
       "      <td>4663.54</td>\n",
       "    </tr>\n",
       "    <tr>\n",
       "      <th>2020-04-02</th>\n",
       "      <td>4402</td>\n",
       "      <td>7526058231</td>\n",
       "      <td>Enoigo, Strasbourg</td>\n",
       "      <td>19</td>\n",
       "      <td>2412.82</td>\n",
       "    </tr>\n",
       "    <tr>\n",
       "      <th>2020-04-05</th>\n",
       "      <td>4402</td>\n",
       "      <td>1157284466</td>\n",
       "      <td>Qbooks, Frankfurt</td>\n",
       "      <td>7</td>\n",
       "      <td>2631.42</td>\n",
       "    </tr>\n",
       "    <tr>\n",
       "      <th>2020-04-05</th>\n",
       "      <td>4402</td>\n",
       "      <td>7009463592</td>\n",
       "      <td>Qbooks, Köln</td>\n",
       "      <td>7</td>\n",
       "      <td>3628.45</td>\n",
       "    </tr>\n",
       "    <tr>\n",
       "      <th>2020-04-05</th>\n",
       "      <td>2020</td>\n",
       "      <td>68433353</td>\n",
       "      <td>Jamdon, Clothes</td>\n",
       "      <td>19</td>\n",
       "      <td>-1900.00</td>\n",
       "    </tr>\n",
       "    <tr>\n",
       "      <th>2020-04-05</th>\n",
       "      <td>2010</td>\n",
       "      <td>53353169</td>\n",
       "      <td>Outleg, Souvenirs</td>\n",
       "      <td>19</td>\n",
       "      <td>-2200.00</td>\n",
       "    </tr>\n",
       "  </tbody>\n",
       "</table>\n",
       "</div>"
      ],
      "text/plain": [
       "            account number  document number              description  \\\n",
       "date                                                                   \n",
       "2020-04-02            4402       8983233038             Zurkan, Köln   \n",
       "2020-04-02            2010         57550799       Birmann, Souvenirs   \n",
       "2020-04-02            2200         14989004                    wages   \n",
       "2020-04-02            2500         12766279  Filling Station, Petrol   \n",
       "2020-04-02            4400       3733462359       EnergyCom, Hamburg   \n",
       "2020-04-02            4402       7526058231       Enoigo, Strasbourg   \n",
       "2020-04-05            4402       1157284466        Qbooks, Frankfurt   \n",
       "2020-04-05            4402       7009463592             Qbooks, Köln   \n",
       "2020-04-05            2020         68433353          Jamdon, Clothes   \n",
       "2020-04-05            2010         53353169        Outleg, Souvenirs   \n",
       "\n",
       "            tax rate  gross amount  \n",
       "date                                \n",
       "2020-04-02        19       4105.98  \n",
       "2020-04-02        19      -1890.00  \n",
       "2020-04-02         0     -17478.23  \n",
       "2020-04-02        19        -89.40  \n",
       "2020-04-02        19       4663.54  \n",
       "2020-04-02        19       2412.82  \n",
       "2020-04-05         7       2631.42  \n",
       "2020-04-05         7       3628.45  \n",
       "2020-04-05        19      -1900.00  \n",
       "2020-04-05        19      -2200.00  "
      ]
     },
     "execution_count": 3,
     "metadata": {},
     "output_type": "execute_result"
    }
   ],
   "source": [
    "journal[:10]"
   ]
  },
  {
   "cell_type": "markdown",
   "metadata": {},
   "source": [
    "Es gibt viele Möglichkeiten, diese Daten zu analysieren. Wir können zum Beispiel alle Konten zusammenfassen:"
   ]
  },
  {
   "cell_type": "code",
   "execution_count": 4,
   "metadata": {},
   "outputs": [
    {
     "data": {
      "text/html": [
       "<div>\n",
       "<style scoped>\n",
       "    .dataframe tbody tr th:only-of-type {\n",
       "        vertical-align: middle;\n",
       "    }\n",
       "\n",
       "    .dataframe tbody tr th {\n",
       "        vertical-align: top;\n",
       "    }\n",
       "\n",
       "    .dataframe thead th {\n",
       "        text-align: right;\n",
       "    }\n",
       "</style>\n",
       "<table border=\"1\" class=\"dataframe\">\n",
       "  <thead>\n",
       "    <tr style=\"text-align: right;\">\n",
       "      <th></th>\n",
       "      <th>gross amount</th>\n",
       "    </tr>\n",
       "    <tr>\n",
       "      <th>account number</th>\n",
       "      <th></th>\n",
       "    </tr>\n",
       "  </thead>\n",
       "  <tbody>\n",
       "    <tr>\n",
       "      <th>2010</th>\n",
       "      <td>-4090.00</td>\n",
       "    </tr>\n",
       "    <tr>\n",
       "      <th>2020</th>\n",
       "      <td>-10500.80</td>\n",
       "    </tr>\n",
       "    <tr>\n",
       "      <th>2030</th>\n",
       "      <td>-1350.00</td>\n",
       "    </tr>\n",
       "    <tr>\n",
       "      <th>2050</th>\n",
       "      <td>-900.00</td>\n",
       "    </tr>\n",
       "    <tr>\n",
       "      <th>2100</th>\n",
       "      <td>-612.00</td>\n",
       "    </tr>\n",
       "    <tr>\n",
       "      <th>2200</th>\n",
       "      <td>-69912.92</td>\n",
       "    </tr>\n",
       "    <tr>\n",
       "      <th>2300</th>\n",
       "      <td>-18791.92</td>\n",
       "    </tr>\n",
       "    <tr>\n",
       "      <th>2400</th>\n",
       "      <td>-1597.10</td>\n",
       "    </tr>\n",
       "    <tr>\n",
       "      <th>2500</th>\n",
       "      <td>-89.40</td>\n",
       "    </tr>\n",
       "    <tr>\n",
       "      <th>2600</th>\n",
       "      <td>-492.48</td>\n",
       "    </tr>\n",
       "    <tr>\n",
       "      <th>2610</th>\n",
       "      <td>-561.00</td>\n",
       "    </tr>\n",
       "    <tr>\n",
       "      <th>4400</th>\n",
       "      <td>37771.84</td>\n",
       "    </tr>\n",
       "    <tr>\n",
       "      <th>4401</th>\n",
       "      <td>69610.35</td>\n",
       "    </tr>\n",
       "    <tr>\n",
       "      <th>4402</th>\n",
       "      <td>61593.99</td>\n",
       "    </tr>\n",
       "  </tbody>\n",
       "</table>\n",
       "</div>"
      ],
      "text/plain": [
       "                gross amount\n",
       "account number              \n",
       "2010                -4090.00\n",
       "2020               -10500.80\n",
       "2030                -1350.00\n",
       "2050                 -900.00\n",
       "2100                 -612.00\n",
       "2200               -69912.92\n",
       "2300               -18791.92\n",
       "2400                -1597.10\n",
       "2500                  -89.40\n",
       "2600                 -492.48\n",
       "2610                 -561.00\n",
       "4400                37771.84\n",
       "4401                69610.35\n",
       "4402                61593.99"
      ]
     },
     "execution_count": 4,
     "metadata": {},
     "output_type": "execute_result"
    }
   ],
   "source": [
    "account_sums = journal[[\"account number\", \"gross amount\"]].groupby(\"account number\").sum()\n",
    "account_sums"
   ]
  },
  {
   "cell_type": "markdown",
   "metadata": {},
   "source": [
    "### Diagramme der Konten\n",
    "\n",
    "\n",
    "Wie wäre es mit einer Visualisierung dieser Kontendaten? Dazu könnten wir beispielsweise Kreisdiagramme, auch Kuchendiagramme genannt, benutzen. Im Englischen bezeichnet man sie als \"pie charts\". Nun haben wir aber ein kleines Problem: Kreisdiagramme dürfen keine negativen Werte enthalten. Dies ist jedoch kein wirkliches Problem. Wir können die Konten in Einnahmen- und Ausgabenkonten aufteilen. Das entspricht natürlich auch mehr dem, was wir wirklich sehen wollen.\n",
    "\n",
    "#### Diagramme für die Einnahmekonten (Kreditoren)\n",
    "\n",
    "Wir erstellen einen DataFrame mit den Einkommenskonten:"
   ]
  },
  {
   "cell_type": "code",
   "execution_count": 5,
   "metadata": {},
   "outputs": [
    {
     "data": {
      "text/html": [
       "<div>\n",
       "<style scoped>\n",
       "    .dataframe tbody tr th:only-of-type {\n",
       "        vertical-align: middle;\n",
       "    }\n",
       "\n",
       "    .dataframe tbody tr th {\n",
       "        vertical-align: top;\n",
       "    }\n",
       "\n",
       "    .dataframe thead th {\n",
       "        text-align: right;\n",
       "    }\n",
       "</style>\n",
       "<table border=\"1\" class=\"dataframe\">\n",
       "  <thead>\n",
       "    <tr style=\"text-align: right;\">\n",
       "      <th></th>\n",
       "      <th>gross amount</th>\n",
       "    </tr>\n",
       "    <tr>\n",
       "      <th>account number</th>\n",
       "      <th></th>\n",
       "    </tr>\n",
       "  </thead>\n",
       "  <tbody>\n",
       "    <tr>\n",
       "      <th>4400</th>\n",
       "      <td>37771.84</td>\n",
       "    </tr>\n",
       "    <tr>\n",
       "      <th>4401</th>\n",
       "      <td>69610.35</td>\n",
       "    </tr>\n",
       "    <tr>\n",
       "      <th>4402</th>\n",
       "      <td>61593.99</td>\n",
       "    </tr>\n",
       "  </tbody>\n",
       "</table>\n",
       "</div>"
      ],
      "text/plain": [
       "                gross amount\n",
       "account number              \n",
       "4400                37771.84\n",
       "4401                69610.35\n",
       "4402                61593.99"
      ]
     },
     "execution_count": 5,
     "metadata": {},
     "output_type": "execute_result"
    }
   ],
   "source": [
    "income_accounts = account_sums[account_sums[\"gross amount\"] > 0]\n",
    "income_accounts"
   ]
  },
  {
   "cell_type": "markdown",
   "metadata": {},
   "source": [
    "Wir können diese Werte jetzt in einem Kreisdiagramm visualisieren."
   ]
  },
  {
   "cell_type": "code",
   "execution_count": 6,
   "metadata": {},
   "outputs": [
    {
     "data": {
      "image/png": "[encoded data removed]",
      "text/plain": [
       "<Figure size 360x360 with 1 Axes>"
      ]
     },
     "metadata": {},
     "output_type": "display_data"
    }
   ],
   "source": [
    "plot = income_accounts.plot(y='gross amount', figsize=(5, 5), kind=\"pie\")"
   ]
  },
  {
   "cell_type": "markdown",
   "metadata": {},
   "source": [
    "Die Position der Legende gefällt Ihnen wahrscheinlich nicht? Mit dem Parameter ```bbox_to_anchor``` können wir ihn an einer gewünschten Position positionieren. Wenn wir wollen, können wir es sogar außerhalb des Grundstücks verschieben. Mit den relativen Koordinatenwerten `` `(0.5, 0.5)` `` positionieren wir die Legende in der Mitte des Diagramms.\n",
    "Die Legende ist ein Rechteck. Die Frage ist also, was die Position (0,5, 0,5) bedeutet. Wir können dies definieren, indem wir zusätzlich den Parameter `` `loc``` verwenden:\n",
    "\n",
    "\n",
    "|```loc```-Wert | Bedeutung|\n",
    "|---|---|\n",
    "|upper left | ```bbox_to_anchor``` bezeichnet die Position der linken oberen Ecke des Legenden-Rechtecks|\n",
    "|upper right | entsprechend die rechte obere Ecke|\n",
    "|lower left | die linke untere Ecke|\n",
    "|lower left | die rechte untere Ecke|\n",
    "\n",
    "\n",
    "Wir verwenden dies, um die Legende mit der linken oberen Ecke in der Mitte des Plots zu positionieren:"
   ]
  },
  {
   "cell_type": "code",
   "execution_count": 7,
   "metadata": {},
   "outputs": [
    {
     "data": {
      "text/plain": [
       "<matplotlib.legend.Legend at 0x7fe2da444a50>"
      ]
     },
     "execution_count": 7,
     "metadata": {},
     "output_type": "execute_result"
    },
    {
     "data": {
      "image/png": "[encoded data removed]",
      "text/plain": [
       "<Figure size 360x360 with 1 Axes>"
      ]
     },
     "metadata": {},
     "output_type": "display_data"
    }
   ],
   "source": [
    "plot = income_accounts.plot(y='gross amount', \n",
    "                            figsize=(5, 5),\n",
    "                            kind=\"pie\")\n",
    "plot.legend(bbox_to_anchor=(0.5, 0.5),\n",
    "            loc=\"upper left\")"
   ]
  },
  {
   "cell_type": "markdown",
   "metadata": {},
   "source": [
    "Jetzt positionieren wir die untere rechte Ecke der Legende in der Mitte des Diagramms:"
   ]
  },
  {
   "cell_type": "code",
   "execution_count": 8,
   "metadata": {},
   "outputs": [
    {
     "data": {
      "text/plain": [
       "<matplotlib.legend.Legend at 0x7fe2da40b510>"
      ]
     },
     "execution_count": 8,
     "metadata": {},
     "output_type": "execute_result"
    },
    {
     "data": {
      "image/png": "[encoded data removed]",
      "text/plain": [
       "<Figure size 360x360 with 1 Axes>"
      ]
     },
     "metadata": {},
     "output_type": "display_data"
    }
   ],
   "source": [
    "plot = income_accounts.plot(y='gross amount', figsize=(5, 5), kind=\"pie\")\n",
    "plot.legend(bbox_to_anchor=(0.5, 0.5),\n",
    "            loc=\"lower right\")"
   ]
  },
  {
   "cell_type": "markdown",
   "metadata": {},
   "source": [
    "Es gibt noch eine andere Sache, die wir verbessern können. Wir sehen die Bezeichnungen 4400, 4401 und 4402 neben jedem Kuchensegment. Außerdem sehen wir sie in der Legende. Dies sind hässliche und redundante Informationen. Im Folgenden werden wir die Beschriftungen im Plot deaktivieren, d.h. wir werden sie auf eine leere Zeichenfolge setzen, und wir setzen sie explizit in der Legendenmethode. Allerdings setzen wir sie nicht auf die Kontonummern sondern auf die dazugehörige Beschreibung:"
   ]
  },
  {
   "cell_type": "code",
   "execution_count": 9,
   "metadata": {},
   "outputs": [
    {
     "data": {
      "text/plain": [
       "<matplotlib.legend.Legend at 0x7fe2da398e10>"
      ]
     },
     "execution_count": 9,
     "metadata": {},
     "output_type": "execute_result"
    },
    {
     "data": {
      "image/png": "[encoded data removed]",
      "text/plain": [
       "<Figure size 360x360 with 1 Axes>"
      ]
     },
     "metadata": {},
     "output_type": "display_data"
    }
   ],
   "source": [
    "plot = income_accounts.plot(y='gross amount', \n",
    "                            figsize=(5, 5), \n",
    "                            kind=\"pie\",\n",
    "                            labels=['', '', ''])\n",
    "plot.legend(bbox_to_anchor=(0.5, 0.5),\n",
    "            labels=income_accounts.index)\n"
   ]
  },
  {
   "cell_type": "markdown",
   "metadata": {},
   "source": [
    "Now, we are close to perfection. Just one more tiny thing. Some might prefer to see the actual description text rather than an account number. We will cut out this information from the DataFrame ```accounts2descr``` by using ```loc``` and the list of desired numbers ```[4400, 4401, 4402]```. The result of this operation will be the argument of the ```set_index``` method. (Atention: ```reindex``` is not giving the wanted results!)"
   ]
  },
  {
   "cell_type": "code",
   "execution_count": 10,
   "metadata": {},
   "outputs": [],
   "source": [
    "s = accounts2descr[\"description\"].loc[[4400, 4401, 4402]]\n",
    "income_accounts.set_index(s, inplace=True)"
   ]
  },
  {
   "cell_type": "code",
   "execution_count": 11,
   "metadata": {},
   "outputs": [
    {
     "data": {
      "text/plain": [
       "<matplotlib.legend.Legend at 0x7fe2da3d2f10>"
      ]
     },
     "execution_count": 11,
     "metadata": {},
     "output_type": "execute_result"
    },
    {
     "data": {
      "image/png": "[encoded data removed]",
      "text/plain": [
       "<Figure size 360x360 with 1 Axes>"
      ]
     },
     "metadata": {},
     "output_type": "display_data"
    }
   ],
   "source": [
    "descriptions = accounts2descr[\"description\"].loc[[4400, 4401, 4402]]\n",
    "\n",
    "\n",
    "plot = income_accounts.plot(kind=\"pie\",\n",
    "                            y='gross amount', \n",
    "                            figsize=(5, 5),\n",
    "                            labels=['', '', ''])\n",
    "\n",
    "plot.legend(bbox_to_anchor=(0.5, 0.5), \n",
    "            loc=\"lower left\",\n",
    "            labels=descriptions)"
   ]
  },
  {
   "cell_type": "markdown",
   "metadata": {},
   "source": [
    "Soll es doch lieber ein Säulendiagramm sein? Kein Problem, wir müssen nur den Parameter ```kind ``` auf ```bar``` statt auf ```pie``` setzen:"
   ]
  },
  {
   "cell_type": "code",
   "execution_count": 12,
   "metadata": {},
   "outputs": [
    {
     "data": {
      "image/png": "[encoded data removed]",
      "text/plain": [
       "<Figure size 360x360 with 1 Axes>"
      ]
     },
     "metadata": {
      "needs_background": "light"
     },
     "output_type": "display_data"
    }
   ],
   "source": [
    "plot = income_accounts.plot(y='gross amount', \n",
    "                            figsize=(5, 5), \n",
    "                            kind=\"bar\",\n",
    "                            legend=False)"
   ]
  },
  {
   "cell_type": "markdown",
   "metadata": {},
   "source": [
    "Für Balkendiagramme müssen müssen wir ```kind ``` auf ```barh``` setzen. Damit es nicht zu langweilig wird können wir die Balken auch einfärben, indem wir dem Parameter ```color``` eine Liste mit Farben übergeben:"
   ]
  },
  {
   "cell_type": "code",
   "execution_count": 13,
   "metadata": {},
   "outputs": [
    {
     "data": {
      "image/png": "[encoded data removed]",
      "text/plain": [
       "<Figure size 360x360 with 1 Axes>"
      ]
     },
     "metadata": {
      "needs_background": "light"
     },
     "output_type": "display_data"
    }
   ],
   "source": [
    "plot = income_accounts.plot(y='gross amount', \n",
    "                            figsize=(5, 5), \n",
    "                            kind=\"barh\",\n",
    "                            legend=False,\n",
    "                            color=['green', 'orange', 'blue'])"
   ]
  },
  {
   "cell_type": "markdown",
   "metadata": {},
   "source": [
    "#### Diagramme für die Ausgabenkonten (Debitoren)\n",
    "\n",
    "Das Gleiche können wir jetzt mit unseren Debitoren (Spesenabrechnungen) tun:"
   ]
  },
  {
   "cell_type": "code",
   "execution_count": 14,
   "metadata": {},
   "outputs": [
    {
     "data": {
      "text/html": [
       "<div>\n",
       "<style scoped>\n",
       "    .dataframe tbody tr th:only-of-type {\n",
       "        vertical-align: middle;\n",
       "    }\n",
       "\n",
       "    .dataframe tbody tr th {\n",
       "        vertical-align: top;\n",
       "    }\n",
       "\n",
       "    .dataframe thead th {\n",
       "        text-align: right;\n",
       "    }\n",
       "</style>\n",
       "<table border=\"1\" class=\"dataframe\">\n",
       "  <thead>\n",
       "    <tr style=\"text-align: right;\">\n",
       "      <th></th>\n",
       "      <th>gross amount</th>\n",
       "    </tr>\n",
       "    <tr>\n",
       "      <th>account number</th>\n",
       "      <th></th>\n",
       "    </tr>\n",
       "  </thead>\n",
       "  <tbody>\n",
       "    <tr>\n",
       "      <th>2010</th>\n",
       "      <td>-4090.00</td>\n",
       "    </tr>\n",
       "    <tr>\n",
       "      <th>2020</th>\n",
       "      <td>-10500.80</td>\n",
       "    </tr>\n",
       "    <tr>\n",
       "      <th>2030</th>\n",
       "      <td>-1350.00</td>\n",
       "    </tr>\n",
       "    <tr>\n",
       "      <th>2050</th>\n",
       "      <td>-900.00</td>\n",
       "    </tr>\n",
       "    <tr>\n",
       "      <th>2100</th>\n",
       "      <td>-612.00</td>\n",
       "    </tr>\n",
       "    <tr>\n",
       "      <th>2200</th>\n",
       "      <td>-69912.92</td>\n",
       "    </tr>\n",
       "    <tr>\n",
       "      <th>2300</th>\n",
       "      <td>-18791.92</td>\n",
       "    </tr>\n",
       "    <tr>\n",
       "      <th>2400</th>\n",
       "      <td>-1597.10</td>\n",
       "    </tr>\n",
       "    <tr>\n",
       "      <th>2500</th>\n",
       "      <td>-89.40</td>\n",
       "    </tr>\n",
       "    <tr>\n",
       "      <th>2600</th>\n",
       "      <td>-492.48</td>\n",
       "    </tr>\n",
       "    <tr>\n",
       "      <th>2610</th>\n",
       "      <td>-561.00</td>\n",
       "    </tr>\n",
       "  </tbody>\n",
       "</table>\n",
       "</div>"
      ],
      "text/plain": [
       "                gross amount\n",
       "account number              \n",
       "2010                -4090.00\n",
       "2020               -10500.80\n",
       "2030                -1350.00\n",
       "2050                 -900.00\n",
       "2100                 -612.00\n",
       "2200               -69912.92\n",
       "2300               -18791.92\n",
       "2400                -1597.10\n",
       "2500                  -89.40\n",
       "2600                 -492.48\n",
       "2610                 -561.00"
      ]
     },
     "execution_count": 14,
     "metadata": {},
     "output_type": "execute_result"
    }
   ],
   "source": [
    "expenses_accounts = account_sums[account_sums[\"gross amount\"] < 0]\n",
    "expenses_accounts"
   ]
  },
  {
   "cell_type": "code",
   "execution_count": 15,
   "metadata": {},
   "outputs": [
    {
     "data": {
      "text/plain": [
       "account number\n",
       "2010            souvenirs\n",
       "2020              clothes\n",
       "2030       other articles\n",
       "2050                books\n",
       "2100           insurances\n",
       "2200                wages\n",
       "2300                loans\n",
       "2400               hotels\n",
       "2500               petrol\n",
       "2600    telecommunication\n",
       "2610             internet\n",
       "Name: description, dtype: object"
      ]
     },
     "execution_count": 15,
     "metadata": {},
     "output_type": "execute_result"
    }
   ],
   "source": [
    "acc2descr_expenses = accounts2descr[\"description\"].loc[expenses_accounts.index]\n",
    "acc2descr_expenses"
   ]
  },
  {
   "cell_type": "code",
   "execution_count": 16,
   "metadata": {},
   "outputs": [],
   "source": [
    "expenses_accounts.set_index(acc2descr_expenses.values, inplace=True)\n",
    "\n",
    "expenses_accounts *= -1"
   ]
  },
  {
   "cell_type": "code",
   "execution_count": 17,
   "metadata": {},
   "outputs": [
    {
     "data": {
      "text/plain": [
       "<matplotlib.legend.Legend at 0x7fe2da1f71d0>"
      ]
     },
     "execution_count": 17,
     "metadata": {},
     "output_type": "execute_result"
    },
    {
     "data": {
      "image/png": "[encoded data removed]",
      "text/plain": [
       "<Figure size 360x360 with 1 Axes>"
      ]
     },
     "metadata": {},
     "output_type": "display_data"
    }
   ],
   "source": [
    "labels = [''] * len(expenses_accounts)\n",
    "plot = expenses_accounts.plot(kind=\"pie\",\n",
    "                            y='gross amount', \n",
    "                            figsize=(5, 5),\n",
    "                            labels=labels)\n",
    "plot.legend(bbox_to_anchor=(0.5, 0.5), \n",
    "            labels=expenses_accounts.index)"
   ]
  },
  {
   "cell_type": "markdown",
   "metadata": {},
   "source": [
    "### Tax Sums\n",
    "\n",
    "We will sum up the amount according to their tax rate."
   ]
  },
  {
   "cell_type": "code",
   "execution_count": 18,
   "metadata": {},
   "outputs": [
    {
     "data": {
      "text/html": [
       "<div>\n",
       "<style scoped>\n",
       "    .dataframe tbody tr th:only-of-type {\n",
       "        vertical-align: middle;\n",
       "    }\n",
       "\n",
       "    .dataframe tbody tr th {\n",
       "        vertical-align: top;\n",
       "    }\n",
       "\n",
       "    .dataframe thead th {\n",
       "        text-align: right;\n",
       "    }\n",
       "</style>\n",
       "<table border=\"1\" class=\"dataframe\">\n",
       "  <thead>\n",
       "    <tr style=\"text-align: right;\">\n",
       "      <th></th>\n",
       "      <th>document number</th>\n",
       "      <th>description</th>\n",
       "      <th>tax rate</th>\n",
       "      <th>gross amount</th>\n",
       "    </tr>\n",
       "    <tr>\n",
       "      <th>date</th>\n",
       "      <th></th>\n",
       "      <th></th>\n",
       "      <th></th>\n",
       "      <th></th>\n",
       "    </tr>\n",
       "  </thead>\n",
       "  <tbody>\n",
       "    <tr>\n",
       "      <th>2020-04-02</th>\n",
       "      <td>8983233038</td>\n",
       "      <td>Zurkan, Köln</td>\n",
       "      <td>19</td>\n",
       "      <td>4105.98</td>\n",
       "    </tr>\n",
       "    <tr>\n",
       "      <th>2020-04-02</th>\n",
       "      <td>57550799</td>\n",
       "      <td>Birmann, Souvenirs</td>\n",
       "      <td>19</td>\n",
       "      <td>-1890.00</td>\n",
       "    </tr>\n",
       "    <tr>\n",
       "      <th>2020-04-02</th>\n",
       "      <td>14989004</td>\n",
       "      <td>wages</td>\n",
       "      <td>0</td>\n",
       "      <td>-17478.23</td>\n",
       "    </tr>\n",
       "    <tr>\n",
       "      <th>2020-04-02</th>\n",
       "      <td>12766279</td>\n",
       "      <td>Filling Station, Petrol</td>\n",
       "      <td>19</td>\n",
       "      <td>-89.40</td>\n",
       "    </tr>\n",
       "    <tr>\n",
       "      <th>2020-04-02</th>\n",
       "      <td>3733462359</td>\n",
       "      <td>EnergyCom, Hamburg</td>\n",
       "      <td>19</td>\n",
       "      <td>4663.54</td>\n",
       "    </tr>\n",
       "    <tr>\n",
       "      <th>...</th>\n",
       "      <td>...</td>\n",
       "      <td>...</td>\n",
       "      <td>...</td>\n",
       "      <td>...</td>\n",
       "    </tr>\n",
       "    <tr>\n",
       "      <th>2020-07-25</th>\n",
       "      <td>5204418668</td>\n",
       "      <td>BoKoData, Bodensee, Konstanz</td>\n",
       "      <td>19</td>\n",
       "      <td>3678.38</td>\n",
       "    </tr>\n",
       "    <tr>\n",
       "      <th>2020-07-25</th>\n",
       "      <td>85241331</td>\n",
       "      <td>Hotel, Konstanz</td>\n",
       "      <td>7</td>\n",
       "      <td>-583.00</td>\n",
       "    </tr>\n",
       "    <tr>\n",
       "      <th>2020-07-27</th>\n",
       "      <td>26865618</td>\n",
       "      <td>Hotel, Franfurt</td>\n",
       "      <td>7</td>\n",
       "      <td>-450.00</td>\n",
       "    </tr>\n",
       "    <tr>\n",
       "      <th>2020-07-26</th>\n",
       "      <td>5892708524</td>\n",
       "      <td>Oscar Zopvar KG, Luxemburg</td>\n",
       "      <td>19</td>\n",
       "      <td>2589.80</td>\n",
       "    </tr>\n",
       "    <tr>\n",
       "      <th>2020-07-28</th>\n",
       "      <td>1633775505</td>\n",
       "      <td>Oscar Zopvar KG, Luxemburg</td>\n",
       "      <td>19</td>\n",
       "      <td>3578.46</td>\n",
       "    </tr>\n",
       "  </tbody>\n",
       "</table>\n",
       "<p>87 rows × 4 columns</p>\n",
       "</div>"
      ],
      "text/plain": [
       "            document number                   description  tax rate  \\\n",
       "date                                                                  \n",
       "2020-04-02       8983233038                  Zurkan, Köln        19   \n",
       "2020-04-02         57550799            Birmann, Souvenirs        19   \n",
       "2020-04-02         14989004                         wages         0   \n",
       "2020-04-02         12766279       Filling Station, Petrol        19   \n",
       "2020-04-02       3733462359            EnergyCom, Hamburg        19   \n",
       "...                     ...                           ...       ...   \n",
       "2020-07-25       5204418668  BoKoData, Bodensee, Konstanz        19   \n",
       "2020-07-25         85241331               Hotel, Konstanz         7   \n",
       "2020-07-27         26865618               Hotel, Franfurt         7   \n",
       "2020-07-26       5892708524    Oscar Zopvar KG, Luxemburg        19   \n",
       "2020-07-28       1633775505    Oscar Zopvar KG, Luxemburg        19   \n",
       "\n",
       "            gross amount  \n",
       "date                      \n",
       "2020-04-02       4105.98  \n",
       "2020-04-02      -1890.00  \n",
       "2020-04-02     -17478.23  \n",
       "2020-04-02        -89.40  \n",
       "2020-04-02       4663.54  \n",
       "...                  ...  \n",
       "2020-07-25       3678.38  \n",
       "2020-07-25       -583.00  \n",
       "2020-07-27       -450.00  \n",
       "2020-07-26       2589.80  \n",
       "2020-07-28       3578.46  \n",
       "\n",
       "[87 rows x 4 columns]"
      ]
     },
     "execution_count": 18,
     "metadata": {},
     "output_type": "execute_result"
    }
   ],
   "source": [
    "journal.drop(columns=[\"account number\"])"
   ]
  },
  {
   "cell_type": "markdown",
   "metadata": {},
   "source": [
    "Im Folgenden definieren wir nun eine Funktion ```steuersummen```, die die Mehrwertsteuersummen nach Steuersätzen aus einem Journal-DataFrame berechnet:"
   ]
  },
  {
   "cell_type": "code",
   "execution_count": 24,
   "metadata": {},
   "outputs": [
    {
     "data": {
      "text/html": [
       "<div>\n",
       "<style scoped>\n",
       "    .dataframe tbody tr th:only-of-type {\n",
       "        vertical-align: middle;\n",
       "    }\n",
       "\n",
       "    .dataframe tbody tr th {\n",
       "        vertical-align: top;\n",
       "    }\n",
       "\n",
       "    .dataframe thead th {\n",
       "        text-align: right;\n",
       "    }\n",
       "</style>\n",
       "<table border=\"1\" class=\"dataframe\">\n",
       "  <thead>\n",
       "    <tr style=\"text-align: right;\">\n",
       "      <th></th>\n",
       "      <th>Ausgaben brutto</th>\n",
       "      <th>Vorsteuer</th>\n",
       "      <th>Umsaetze brutto</th>\n",
       "      <th>Umsatzsteuer</th>\n",
       "    </tr>\n",
       "    <tr>\n",
       "      <th>Steuerrate</th>\n",
       "      <th></th>\n",
       "      <th></th>\n",
       "      <th></th>\n",
       "      <th></th>\n",
       "    </tr>\n",
       "  </thead>\n",
       "  <tbody>\n",
       "    <tr>\n",
       "      <th>0</th>\n",
       "      <td>-90102.20</td>\n",
       "      <td>-0.00</td>\n",
       "      <td>8334.43</td>\n",
       "      <td>0.00</td>\n",
       "    </tr>\n",
       "    <tr>\n",
       "      <th>7</th>\n",
       "      <td>-3847.10</td>\n",
       "      <td>-269.30</td>\n",
       "      <td>11240.71</td>\n",
       "      <td>786.85</td>\n",
       "    </tr>\n",
       "    <tr>\n",
       "      <th>19</th>\n",
       "      <td>-14948.32</td>\n",
       "      <td>-2840.18</td>\n",
       "      <td>149401.04</td>\n",
       "      <td>28386.20</td>\n",
       "    </tr>\n",
       "  </tbody>\n",
       "</table>\n",
       "</div>"
      ],
      "text/plain": [
       "            Ausgaben brutto  Vorsteuer  Umsaetze brutto  Umsatzsteuer\n",
       "Steuerrate                                                           \n",
       "0                 -90102.20      -0.00          8334.43          0.00\n",
       "7                  -3847.10    -269.30         11240.71        786.85\n",
       "19                -14948.32   -2840.18        149401.04      28386.20"
      ]
     },
     "execution_count": 24,
     "metadata": {},
     "output_type": "execute_result"
    }
   ],
   "source": [
    "\n",
    "def steuersummen(journal_df, months=None):\n",
    "    \"\"\" Liefert ein DataFrame mit den Umsätzen und Steuersätzen zurück-\n",
    "        Wird months eine Zahl oder Liste übergeben, werden nur die Umsätze \n",
    "        der entshrechenden Monate berücksichtigt.\n",
    "        Beispiel: steuersummen(df, months=[3, 6]) bedeutet nur die Monate\n",
    "        3 (März) und 6 (Juni)\"\"\"\n",
    "    if months:\n",
    "        if isinstance(months, int):\n",
    "            month_cond = journal_df.index.month == months\n",
    "        elif isinstance(months, (list, tuple)):\n",
    "            month_cond = journal_df.index.month.isin(months)\n",
    "        positive = journal_df[\"gross amount\"] > 0\n",
    "        umsatzsteuern = journal_df[positive & month_cond]\n",
    "        negative = journal_df[\"gross amount\"] < 0\n",
    "        vorsteuern = journal_df[negative & month_cond]   \n",
    "    else:\n",
    "        umsatzsteuern = journal_df[journal_df[\"gross amount\"] > 0]\n",
    "        vorsteuern = journal_df[journal_df[\"gross amount\"] < 0]\n",
    "    \n",
    "    umsatzsteuern = umsatzsteuern[[\"tax rate\", \"gross amount\"]].groupby(\"tax rate\").sum()\n",
    "    umsatzsteuern.rename(columns={\"gross amount\": \"Umsaetze brutto\"},\n",
    "                         inplace=True)\n",
    "    umsatzsteuern.index.name = 'Steuerrate'\n",
    "    \n",
    "    vorsteuern = vorsteuern[[\"tax rate\", \"gross amount\"]].groupby(\"tax rate\").sum()\n",
    "    vorsteuern.rename(columns={\"gross amount\": \"Ausgaben brutto\"},\n",
    "                      inplace=True)\n",
    "    vorsteuern.index.name = 'Steuerrate'\n",
    "    \n",
    "    steuern = pd.concat([vorsteuern, umsatzsteuern], axis=1)\n",
    "    steuern.insert(1, \n",
    "                   column=\"Vorsteuer\", \n",
    "                   value=(steuern[\"Ausgaben brutto\"] * steuern.index / 100).round(2))\n",
    "    steuern.insert(3, \n",
    "                   column=\"Umsatzsteuer\", \n",
    "                   value=(steuern[\"Umsaetze brutto\"] * steuern.index / 100).round(2))\n",
    "\n",
    "    return steuern.fillna(0)\n",
    "\n",
    "\n",
    "steuersummen(journal)"
   ]
  },
  {
   "cell_type": "code",
   "execution_count": 21,
   "metadata": {},
   "outputs": [
    {
     "data": {
      "text/html": [
       "<div>\n",
       "<style scoped>\n",
       "    .dataframe tbody tr th:only-of-type {\n",
       "        vertical-align: middle;\n",
       "    }\n",
       "\n",
       "    .dataframe tbody tr th {\n",
       "        vertical-align: top;\n",
       "    }\n",
       "\n",
       "    .dataframe thead th {\n",
       "        text-align: right;\n",
       "    }\n",
       "</style>\n",
       "<table border=\"1\" class=\"dataframe\">\n",
       "  <thead>\n",
       "    <tr style=\"text-align: right;\">\n",
       "      <th></th>\n",
       "      <th>Ausgaben brutto</th>\n",
       "      <th>Vorsteuer</th>\n",
       "      <th>Umsaetze brutto</th>\n",
       "      <th>Umsatzsteuer</th>\n",
       "    </tr>\n",
       "    <tr>\n",
       "      <th>Steuerrate</th>\n",
       "      <th></th>\n",
       "      <th></th>\n",
       "      <th></th>\n",
       "      <th></th>\n",
       "    </tr>\n",
       "  </thead>\n",
       "  <tbody>\n",
       "    <tr>\n",
       "      <th>0</th>\n",
       "      <td>-22411.53</td>\n",
       "      <td>-0.00</td>\n",
       "      <td>0.00</td>\n",
       "      <td>0.00</td>\n",
       "    </tr>\n",
       "    <tr>\n",
       "      <th>7</th>\n",
       "      <td>-900.00</td>\n",
       "      <td>-63.00</td>\n",
       "      <td>0.00</td>\n",
       "      <td>0.00</td>\n",
       "    </tr>\n",
       "    <tr>\n",
       "      <th>19</th>\n",
       "      <td>-145.00</td>\n",
       "      <td>-27.55</td>\n",
       "      <td>31328.98</td>\n",
       "      <td>5952.51</td>\n",
       "    </tr>\n",
       "  </tbody>\n",
       "</table>\n",
       "</div>"
      ],
      "text/plain": [
       "            Ausgaben brutto  Vorsteuer  Umsaetze brutto  Umsatzsteuer\n",
       "Steuerrate                                                           \n",
       "0                 -22411.53      -0.00             0.00          0.00\n",
       "7                   -900.00     -63.00             0.00          0.00\n",
       "19                  -145.00     -27.55         31328.98       5952.51"
      ]
     },
     "execution_count": 21,
     "metadata": {},
     "output_type": "execute_result"
    }
   ],
   "source": [
    "stsum_5 = steuersummen(journal, months=5)\n",
    "stsum_6 = steuersummen(journal, months=6)\n",
    "stsum_5"
   ]
  },
  {
   "cell_type": "code",
   "execution_count": 22,
   "metadata": {},
   "outputs": [
    {
     "data": {
      "text/html": [
       "<div>\n",
       "<style scoped>\n",
       "    .dataframe tbody tr th:only-of-type {\n",
       "        vertical-align: middle;\n",
       "    }\n",
       "\n",
       "    .dataframe tbody tr th {\n",
       "        vertical-align: top;\n",
       "    }\n",
       "\n",
       "    .dataframe thead th {\n",
       "        text-align: right;\n",
       "    }\n",
       "</style>\n",
       "<table border=\"1\" class=\"dataframe\">\n",
       "  <thead>\n",
       "    <tr style=\"text-align: right;\">\n",
       "      <th></th>\n",
       "      <th>Ausgaben brutto</th>\n",
       "      <th>Vorsteuer</th>\n",
       "      <th>Umsaetze brutto</th>\n",
       "      <th>Umsatzsteuer</th>\n",
       "    </tr>\n",
       "    <tr>\n",
       "      <th>Steuerrate</th>\n",
       "      <th></th>\n",
       "      <th></th>\n",
       "      <th></th>\n",
       "      <th></th>\n",
       "    </tr>\n",
       "  </thead>\n",
       "  <tbody>\n",
       "    <tr>\n",
       "      <th>0</th>\n",
       "      <td>-22400.61</td>\n",
       "      <td>-0.00</td>\n",
       "      <td>6479.47</td>\n",
       "      <td>0.00</td>\n",
       "    </tr>\n",
       "    <tr>\n",
       "      <th>7</th>\n",
       "      <td>0.00</td>\n",
       "      <td>0.00</td>\n",
       "      <td>4980.84</td>\n",
       "      <td>348.66</td>\n",
       "    </tr>\n",
       "    <tr>\n",
       "      <th>19</th>\n",
       "      <td>-123.12</td>\n",
       "      <td>-23.39</td>\n",
       "      <td>34570.25</td>\n",
       "      <td>6568.35</td>\n",
       "    </tr>\n",
       "  </tbody>\n",
       "</table>\n",
       "</div>"
      ],
      "text/plain": [
       "            Ausgaben brutto  Vorsteuer  Umsaetze brutto  Umsatzsteuer\n",
       "Steuerrate                                                           \n",
       "0                 -22400.61      -0.00          6479.47          0.00\n",
       "7                      0.00       0.00          4980.84        348.66\n",
       "19                  -123.12     -23.39         34570.25       6568.35"
      ]
     },
     "execution_count": 22,
     "metadata": {},
     "output_type": "execute_result"
    }
   ],
   "source": [
    "stsum_6"
   ]
  },
  {
   "cell_type": "code",
   "execution_count": 23,
   "metadata": {},
   "outputs": [
    {
     "data": {
      "text/html": [
       "<div>\n",
       "<style scoped>\n",
       "    .dataframe tbody tr th:only-of-type {\n",
       "        vertical-align: middle;\n",
       "    }\n",
       "\n",
       "    .dataframe tbody tr th {\n",
       "        vertical-align: top;\n",
       "    }\n",
       "\n",
       "    .dataframe thead th {\n",
       "        text-align: right;\n",
       "    }\n",
       "</style>\n",
       "<table border=\"1\" class=\"dataframe\">\n",
       "  <thead>\n",
       "    <tr style=\"text-align: right;\">\n",
       "      <th></th>\n",
       "      <th>Ausgaben brutto</th>\n",
       "      <th>Vorsteuer</th>\n",
       "      <th>Umsaetze brutto</th>\n",
       "      <th>Umsatzsteuer</th>\n",
       "    </tr>\n",
       "    <tr>\n",
       "      <th>Steuerrate</th>\n",
       "      <th></th>\n",
       "      <th></th>\n",
       "      <th></th>\n",
       "      <th></th>\n",
       "    </tr>\n",
       "  </thead>\n",
       "  <tbody>\n",
       "    <tr>\n",
       "      <th>0</th>\n",
       "      <td>-44812.14</td>\n",
       "      <td>-0.00</td>\n",
       "      <td>6479.47</td>\n",
       "      <td>0.00</td>\n",
       "    </tr>\n",
       "    <tr>\n",
       "      <th>7</th>\n",
       "      <td>-900.00</td>\n",
       "      <td>-63.00</td>\n",
       "      <td>4980.84</td>\n",
       "      <td>348.66</td>\n",
       "    </tr>\n",
       "    <tr>\n",
       "      <th>19</th>\n",
       "      <td>-268.12</td>\n",
       "      <td>-50.94</td>\n",
       "      <td>65899.23</td>\n",
       "      <td>12520.86</td>\n",
       "    </tr>\n",
       "  </tbody>\n",
       "</table>\n",
       "</div>"
      ],
      "text/plain": [
       "            Ausgaben brutto  Vorsteuer  Umsaetze brutto  Umsatzsteuer\n",
       "Steuerrate                                                           \n",
       "0                 -44812.14      -0.00          6479.47          0.00\n",
       "7                   -900.00     -63.00          4980.84        348.66\n",
       "19                  -268.12     -50.94         65899.23      12520.86"
      ]
     },
     "execution_count": 23,
     "metadata": {},
     "output_type": "execute_result"
    }
   ],
   "source": [
    "stsum_5 + stsum_6"
   ]
  },
  {
   "cell_type": "code",
   "execution_count": 25,
   "metadata": {},
   "outputs": [
    {
     "data": {
      "text/html": [
       "<div>\n",
       "<style scoped>\n",
       "    .dataframe tbody tr th:only-of-type {\n",
       "        vertical-align: middle;\n",
       "    }\n",
       "\n",
       "    .dataframe tbody tr th {\n",
       "        vertical-align: top;\n",
       "    }\n",
       "\n",
       "    .dataframe thead th {\n",
       "        text-align: right;\n",
       "    }\n",
       "</style>\n",
       "<table border=\"1\" class=\"dataframe\">\n",
       "  <thead>\n",
       "    <tr style=\"text-align: right;\">\n",
       "      <th></th>\n",
       "      <th>Ausgaben brutto</th>\n",
       "      <th>Vorsteuer</th>\n",
       "      <th>Umsaetze brutto</th>\n",
       "      <th>Umsatzsteuer</th>\n",
       "    </tr>\n",
       "    <tr>\n",
       "      <th>Steuerrate</th>\n",
       "      <th></th>\n",
       "      <th></th>\n",
       "      <th></th>\n",
       "      <th></th>\n",
       "    </tr>\n",
       "  </thead>\n",
       "  <tbody>\n",
       "    <tr>\n",
       "      <th>0</th>\n",
       "      <td>-44812.14</td>\n",
       "      <td>-0.00</td>\n",
       "      <td>6479.47</td>\n",
       "      <td>0.00</td>\n",
       "    </tr>\n",
       "    <tr>\n",
       "      <th>7</th>\n",
       "      <td>-900.00</td>\n",
       "      <td>-63.00</td>\n",
       "      <td>4980.84</td>\n",
       "      <td>348.66</td>\n",
       "    </tr>\n",
       "    <tr>\n",
       "      <th>19</th>\n",
       "      <td>-268.12</td>\n",
       "      <td>-50.94</td>\n",
       "      <td>65899.23</td>\n",
       "      <td>12520.85</td>\n",
       "    </tr>\n",
       "  </tbody>\n",
       "</table>\n",
       "</div>"
      ],
      "text/plain": [
       "            Ausgaben brutto  Vorsteuer  Umsaetze brutto  Umsatzsteuer\n",
       "Steuerrate                                                           \n",
       "0                 -44812.14      -0.00          6479.47          0.00\n",
       "7                   -900.00     -63.00          4980.84        348.66\n",
       "19                  -268.12     -50.94         65899.23      12520.85"
      ]
     },
     "execution_count": 25,
     "metadata": {},
     "output_type": "execute_result"
    }
   ],
   "source": [
    "steuersummen(journal, months=[5, 6])"
   ]
  }
 ],
 "metadata": {
  "kernelspec": {
   "display_name": "Python 3",
   "language": "python",
   "name": "python3"
  },
  "language_info": {
   "codemirror_mode": {
    "name": "ipython",
    "version": 3
   },
   "file_extension": ".py",
   "mimetype": "text/x-python",
   "name": "python",
   "nbconvert_exporter": "python",
   "pygments_lexer": "ipython3",
   "version": "3.7.6"
  }
 },
 "nbformat": 4,
 "nbformat_minor": 4
}
