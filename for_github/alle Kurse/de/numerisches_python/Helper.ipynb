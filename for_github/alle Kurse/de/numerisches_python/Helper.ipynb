{
 "cells": [
  {
   "cell_type": "code",
   "execution_count": null,
   "id": "03e77ce3",
   "metadata": {},
   "outputs": [],
   "source": [
    "from IPython.display import clear_output\n",
    "import time\n",
    "import random\n",
    "random.seed(8)\n",
    "for i in range(20):\n",
    "    s=\"\"\n",
    "    for row in range(28):\n",
    "        for col in range(80):\n",
    "            a,b = random.randint(30,37),random.randint(40,47)\n",
    "            val=\"\\x1b[1;03;\"+str(a)+\";\"+str(b)+\"m\"+\"O\"\n",
    "            s += val#'\\x1b[1;03;30;46m'+'O'+ '\\x1b[0;4;31;42m' + 'O' '\\x1b[0m'\n",
    "        s+=\"\\n\"\n",
    "    print(\"\")\n",
    "    clear_output(wait=True)\n",
    "    print(s)\n",
    "    time.sleep(.1)\n",
    "    "
   ]
  }
 ],
 "metadata": {
  "kernelspec": {
   "display_name": "Python 3 (ipykernel)",
   "language": "python",
   "name": "python3"
  },
  "language_info": {
   "codemirror_mode": {
    "name": "ipython",
    "version": 3
   },
   "file_extension": ".py",
   "mimetype": "text/x-python",
   "name": "python",
   "nbconvert_exporter": "python",
   "pygments_lexer": "ipython3",
   "version": "3.9.12"
  }
 },
 "nbformat": 4,
 "nbformat_minor": 5
}
