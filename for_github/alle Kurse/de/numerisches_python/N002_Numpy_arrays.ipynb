{
 "cells": [
  {
   "cell_type": "markdown",
   "id": "e7e87df2",
   "metadata": {},
   "source": [
    "## NumPy Arrays\n",
    "<img width=600 src=\"Images/Arrays.png\"/>"
   ]
  },
  {
   "cell_type": "markdown",
   "id": "18f5d00a",
   "metadata": {},
   "source": [
    "### Erzeugung und Typ der Elemente\n",
    "NumPy - Arrays können aus kombinierten Typen von Kernpython erzeugt werden. Wir zeigen dies jetzt noch einmal für eine Liste und einen Tupel. Natürlich kann man auch einzelne Werte eingeben, es entsteht dann ein Array mit nur einem Element, man spricht dann von einem Skalar. Bei Mischungen von Typen zum Erzeugen von NumPy-Arrays werden, wenn auch Strings vorkommen, alle Elemente in Strings verwandelt."
   ]
  },
  {
   "cell_type": "code",
   "execution_count": 2,
   "id": "3d3f6da1",
   "metadata": {},
   "outputs": [
    {
     "name": "stdout",
     "output_type": "stream",
     "text": [
      "[1 2 3 5] [4 6 7 8 9] 1 foo\n",
      "Bei gemischten Typen der Elemente, wenn auch Strings vorkommen, werden alle Elemente in Strings überführt: ['a' '2' '3']\n"
     ]
    }
   ],
   "source": [
    "import numpy as np\n",
    "a1 = np.array([1,2,3,5])\n",
    "a2 = np.array((4,6,7,8,9))\n",
    "a3 = np.array(1) # Skalar\n",
    "a4 = np.array(\"foo\") # String - Skalar\n",
    "print (a1,a2,a3,a4)\n",
    "gemischt = np.array([\"a\",2,3])\n",
    "print(f\"Bei gemischten Typen der Elemente, wenn auch Strings vorkommen, werden alle Elemente in Strings überführt: {gemischt}\")"
   ]
  },
  {
   "cell_type": "markdown",
   "id": "fd7c008d",
   "metadata": {},
   "source": [
    "Welche Typen sind überhaupt in NumPy- Arrays erlaubt? Wir können Sie uns mit np.ScalarType anzeigen lassen."
   ]
  },
  {
   "cell_type": "code",
   "execution_count": 12,
   "id": "07fa1dfe",
   "metadata": {},
   "outputs": [
    {
     "data": {
      "text/plain": [
       "(int,\n",
       " float,\n",
       " complex,\n",
       " int,\n",
       " bool,\n",
       " bytes,\n",
       " str,\n",
       " memoryview,\n",
       " numpy.bool_,\n",
       " numpy.complex64,\n",
       " numpy.clongdouble,\n",
       " numpy.complex128,\n",
       " numpy.float16,\n",
       " numpy.float32,\n",
       " numpy.longdouble,\n",
       " numpy.float64,\n",
       " numpy.int8,\n",
       " numpy.int16,\n",
       " numpy.int32,\n",
       " numpy.intc,\n",
       " numpy.int64,\n",
       " numpy.timedelta64,\n",
       " numpy.datetime64,\n",
       " numpy.object_,\n",
       " numpy.bytes_,\n",
       " numpy.str_,\n",
       " numpy.uint8,\n",
       " numpy.uint16,\n",
       " numpy.uintc,\n",
       " numpy.uint32,\n",
       " numpy.uint64,\n",
       " numpy.void)"
      ]
     },
     "execution_count": 12,
     "metadata": {},
     "output_type": "execute_result"
    }
   ],
   "source": [
    "np.ScalarType"
   ]
  },
  {
   "cell_type": "markdown",
   "id": "42d58537",
   "metadata": {},
   "source": [
    " Neben den numerischen Typen, Boolschen Werten, Strings und dem Bytetyp aus Kernpython sind natürlich auch numerische Typen aus NumPy selber erlaubt, wobei die angefügten Zahlen die Anzahl von Bits angeben, die die maximale Länge der Zahlen beschreibt. Eine genaue Definition der Typen findet man bei https://numpy.org/doc/stable/reference/arrays.scalars.html.\n",
    "Der \"long\" Namensbestandteil verweist ebenfalls auf erhöhte Prezision beim Speichern der Zahl. Der \"u\" Bestandteil steht für \"unsigned\" also Zahlen ohne Vorzeichen. Der Maximalwert für diese Integer erhöht sich damit auf das Doppelte, z.B. 0 bis 65535 für uint16 statt -32768 bis 32767 für int16. Wie man sieht, sind auch Zeit- und Datumstypen erlaubt (timedelta64,\n",
    "datetime64). \"void\" erlaubt die Eingabe von flexiblen Datentypen, wie zum Beispiel Strukturen (kombinierte Datentypen) aus anderen Sprachen (C), deren einzelne Einträge zu verschiedenen Datentypen gehören können. Mit memoryviews lassen sich Speicher-Puffer direkt bearbeiten, die Array Daten verschiedenster Art enthalten können. Die zahlreichen NumPy-Typen sind  auch daraus ausgerichtet, Daten aus anderen Programmiersprachen (z.B. C) einfach und kompatibel verarbeiten zu können. Sie sind z.T. Plattform-spezifisch, im Einzelfall sollte man immer die Dokumentation bemühen, wenn ein solches Übernahmeproblem besteht. <br>\n",
    "Interessant ist noch der Datentyp \"object\". Hiermit können <b>alle</b> Python-Objekte abgespeichert werden, wie untenstehendes Beispiel mit Klasseninstanzen zeigt. Mit dtype = xxxx als zweitem Argument in der Arraydeklaration können wir den entsprechenden Typ erzwingen, wie unten im zweiten Beispiel gezeigt. <b>Verwendet man keine dtype - Angabe, erschliesst NumPy den benötigten Wert aus den Eingabedaten. </b> "
   ]
  },
  {
   "cell_type": "code",
   "execution_count": 3,
   "id": "1737e52b",
   "metadata": {},
   "outputs": [
    {
     "name": "stdout",
     "output_type": "stream",
     "text": [
      "[1.2 3.4 5.6]\n",
      "[1 3 5]\n"
     ]
    },
    {
     "data": {
      "text/plain": [
       "array([<__main__.test object at 0x000002596AEC2A30>,\n",
       "       <__main__.test object at 0x000002596AEC2160>], dtype=object)"
      ]
     },
     "execution_count": 3,
     "metadata": {},
     "output_type": "execute_result"
    }
   ],
   "source": [
    "zahlen = np.array ([1.2,3.4,5.6])\n",
    "print(zahlen)\n",
    "zahlen_int = np.array ([1.2,3.4,5.6],dtype = np.int8)\n",
    "print(zahlen_int)\n",
    "\n",
    "class test:\n",
    "    pass\n",
    "    \n",
    "a = test()\n",
    "b = test()\n",
    "np.array([a,b],dtype = object)\n",
    "        \n"
   ]
  },
  {
   "cell_type": "markdown",
   "id": "2ee41fa3",
   "metadata": {},
   "source": [
    "Man kann also beim Anlegen eines NumPy- Arrays den Datentyp mit angeben über das dtype Schlüsselwort. Dies hat natürlich Einfluss auf den Speicherbedarf der Arrays. Mit der  ```dtype``` Methode kann man sich den Typ eines NumPy-Objektes ausgeben lassen. "
   ]
  },
  {
   "cell_type": "code",
   "execution_count": 28,
   "id": "9ce778f0",
   "metadata": {},
   "outputs": [
    {
     "name": "stdout",
     "output_type": "stream",
     "text": [
      "204\n",
      "304\n"
     ]
    },
    {
     "data": {
      "text/plain": [
       "dtype('int16')"
      ]
     },
     "execution_count": 28,
     "metadata": {},
     "output_type": "execute_result"
    }
   ],
   "source": [
    "kleine_int = np.array(list(range(100)),dtype = np.int8)\n",
    "print(kleine_int.__sizeof__())\n",
    "mittlere_int = np.array(list(range(100)),dtype = np.int16)\n",
    "print(mittlere_int.__sizeof__())\n",
    "mittlere_int.dtype"
   ]
  },
  {
   "cell_type": "markdown",
   "id": "8533cdd3",
   "metadata": {},
   "source": [
    "Was passiert, wenn man den erlaubten Bereich des Typs überschreitet bei der Eingabe?"
   ]
  },
  {
   "cell_type": "code",
   "execution_count": 5,
   "id": "22e450cd",
   "metadata": {},
   "outputs": [
    {
     "name": "stdout",
     "output_type": "stream",
     "text": [
      "10000000000000000\n",
      "Zu kleiner dtype erzeugt Fehler, Maximalwert wäre 127 für 100**8 Ausgabe: 0\n"
     ]
    }
   ],
   "source": [
    "print(np.power(100, 8, dtype = np.int64)) # 100 hoch 8\n",
    "print(f\"Zu kleiner dtype erzeugt Fehler, Maximalwert wäre 127 für 100**8 Ausgabe: {np.power(100, 8, dtype = np.int8)}\")\n"
   ]
  },
  {
   "cell_type": "code",
   "execution_count": null,
   "id": "e8fcd3f7",
   "metadata": {},
   "outputs": [],
   "source": [
    "Man kann ein np.dtype-Objekt auch selber konstruieren, wie unten gezeigt."
   ]
  },
  {
   "cell_type": "code",
   "execution_count": 6,
   "id": "011b8293",
   "metadata": {},
   "outputs": [
    {
     "name": "stdout",
     "output_type": "stream",
     "text": [
      "uint8\n",
      "[115 230 229 234]\n",
      "Fehler des letzen Elements 566, da Bereichsüberschreitung=! [115 230 229 234  54]\n"
     ]
    }
   ],
   "source": [
    "alle_zu_0_bis_255 = np.dtype(np.uint8)\n",
    "print(alle_zu_0_bis_255)\n",
    "\n",
    "my_list =  [115, 230.9, 229.2, 234]\n",
    "my_list2 = [115, 230.9, 229.2, 234, 566]\n",
    "A = np.array(my_list, dtype=alle_zu_0_bis_255)\n",
    "B = np.array(my_list2, dtype=alle_zu_0_bis_255)\n",
    "print(A)\n",
    "print(f\"Fehler des letzen Elements 566, da Bereichsüberschreitung=! {B}\")"
   ]
  },
  {
   "cell_type": "markdown",
   "id": "4896ad97",
   "metadata": {},
   "source": [
    "Interessant wird dies vor allem bei Arrays mit gemischten Typen, sogenannten strukturierten Arrays. ```dtype``` erlaubt uns dann , spaltenweise Typen zu deklarieren. Auf die einzelnen Spalten können wir mit dem Spaltennamen zugreifen und deren Elemente auch indizieren. <b>Mehr zu strukturierten Arrays später."
   ]
  },
  {
   "cell_type": "code",
   "execution_count": 117,
   "id": "e9e6547f",
   "metadata": {},
   "outputs": [
    {
     "name": "stdout",
     "output_type": "stream",
     "text": [
      "Das ganze Array: [( 12, 3.400e+00, 'Hallo') (-17, 3.456e+04, 'Foo') ( 34, 3.141e+00, 'Bar')]\n",
      "Die Spalte 'Integerzahlen': [ 12 -17  34]\n",
      "Die Spalte 'Integerzahlen'  it ihrem 1.Element: 12\n",
      "\n",
      "\n"
     ]
    }
   ],
   "source": [
    "mixed_type = np.dtype([(\"Integerzahlen\",np.int8),\n",
    "                      (\"Floats\",np.float16),\n",
    "                      (\"Strings\",\"U10\")])\n",
    "\n",
    "mixed= np.array([\n",
    "                (12,3.4,\"Hallo\"),\n",
    "                (-17,34567.8,\"Foo\"),\n",
    "                (34,3.1415926,\"Bar\"),\n",
    "                ],\n",
    "                dtype = mixed_type)\n",
    "\n",
    "print(f\"Das ganze Array: {mixed}\")\n",
    "print(f\"Die Spalte 'Integerzahlen': {mixed['Integerzahlen']}\")\n",
    "print(f\"Die Spalte 'Integerzahlen'  mit ihrem 1.Element: {mixed['Integerzahlen'][0]}\\n\\n\")\n",
    "\n",
    "\n",
    "\n"
   ]
  },
  {
   "cell_type": "markdown",
   "id": "10ab670d",
   "metadata": {},
   "source": [
    "Neben den hier gezeigten Methoden um ein np.array zu erzeugen gibt es noch andere wichtige Möglichkeiten. Zunäachst können wir Arrays mit Nullen oder Einsen komplett auffüllen. Auch hierbei können wir den dtype eingeben, z.B. je nachdem ob die 0 oder 1 eine Integerzahl oder Float sein soll. Ausserdem braucht die entsprechende Methode np.zeros oder np.ones als erstes Argument die Form des Arrays, welches befüllt werden soll. Hier verwenden wir zunächst eindimensionale Arrays, mehrdimensionale Arrays werden später erklärt. Definieren wir ein Array, vom dem eine <b>Kopie mit derselben Form, allerdings mit Nullen oder Einsen aufgefüllt,</b> erstellt werden soll, geht das mit np.ones_like oder np.zeros_like."
   ]
  },
  {
   "cell_type": "code",
   "execution_count": 97,
   "id": "667a46e3",
   "metadata": {},
   "outputs": [
    {
     "name": "stdout",
     "output_type": "stream",
     "text": [
      "[0 0 0 0 0 0 0 0 0 0]\n",
      "[0. 0. 0. 0. 0. 0. 0. 0. 0. 0.]\n",
      "[1 1 1 1 1 1 1 1 1 1]\n",
      "[1. 1. 1. 1. 1. 1. 1. 1. 1. 1.]\n",
      "============================================================\n",
      "[1 1 1 1 1 1 1 1 1 1 1 1 1 1 1 1 1 1 1 1 1 1 1 1 1 1 1 1 1 1]\n",
      "[0 0 0 0 0 0 0 0 0 0 0 0 0 0 0 0 0 0 0 0 0 0 0 0 0 0 0 0 0 0]\n"
     ]
    }
   ],
   "source": [
    "länge = 10\n",
    "a_mit_nullen_als_integer = np.zeros(länge,dtype = np.int8)\n",
    "print(a_mit_nullen_als_integer)\n",
    "a_mit_nullen_als_float = np.zeros(länge,dtype = np.float16)\n",
    "print(a_mit_nullen_als_float)\n",
    "a_mit_einsen_als_integer = np.ones(länge,dtype = np.int8)\n",
    "print(a_mit_einsen_als_integer)\n",
    "a_mit_einsen_als_float = np.ones(länge,dtype = np.float16)\n",
    "print(a_mit_einsen_als_float)\n",
    "\n",
    "print(\"=\"*60)\n",
    "zu_kopierende_form = np.array(list(range(30)))\n",
    "my_ones = np.ones_like(zu_kopierende_form)\n",
    "print(my_ones)\n",
    "\n",
    "my_zeros = np.zeros_like(zu_kopierende_form)\n",
    "print(my_zeros)"
   ]
  },
  {
   "cell_type": "markdown",
   "id": "95df8649",
   "metadata": {},
   "source": [
    "### Arrays mit gleichen Abständen der Elemente\n",
    "Ähnlich wie mit range() im Kernpython gibt es bei NumPy zwei Möglichkeiten Arrays mit Bereichen von Zahlen mit gleichen Intervallen (äquidistante Intervalle) zu erzeugen. Zunächst besprechen wir die np.arange() Methode mit folgender Syntax:<br><br>\n",
    "```arange([start,] stop[, step], [, dtype=None])```"
   ]
  },
  {
   "cell_type": "markdown",
   "id": "fba03bcd",
   "metadata": {},
   "source": [
    "Sie ist analog zu range() von Python, allerdings ist der step als Schrittweite hier eine Float-Zahl. Die Benutzung der Start- und Stop-Parameter und deren Default-Werte entsprechen dem Verhalten in der range() Funktion, der Default-Wert von Step ist 1. Man kann einen dtype eingeben. Im Gegensatz zum Kernpython entsteht sofort das komplette Array. Man muss also nicht die Werte erst in eine Liste verwandeln. Wie bei range() endet die Erzeugung des Arrays ein Element <b>vor</b> dem Stop-Wert. Beachten muss man allerdings, dass Floatzahlen begrenzte Präzision haben, der Endwert könnte durch Ungenauigkeiten dann doch erreicht oder sogar überschritten werden. Beispiele folgen:"
   ]
  },
  {
   "cell_type": "code",
   "execution_count": 5,
   "id": "754346a4",
   "metadata": {},
   "outputs": [
    {
     "name": "stdout",
     "output_type": "stream",
     "text": [
      "[1 2 3 4 5 6]\n",
      "[1. 2. 3. 4. 5. 6.]\n",
      "[1.  1.5 2.  2.5 3.  3.5 4.  4.5 5.  5.5 6.  6.5]\n",
      " Hier wird durch den kleinen Step der Zielwert übersprungen: ... [3.00000001 3.00000001 3.00000001]\n"
     ]
    }
   ],
   "source": [
    "import numpy as np\n",
    "integers_step_1 = np.arange(1, 7)\n",
    "print(integers_step_1)\n",
    "floats_step_1 = np.arange(1, 7, dtype = np.float16)\n",
    "print(floats_step_1)\n",
    "floats_step_einhalb = np.arange(1, 7,.5)\n",
    "print(floats_step_einhalb)\n",
    "test = np.arange(2.9, 3, 0.0000000005)\n",
    "print(f\" Hier wird durch den kleinen Step der Zielwert übersprungen: ... {test[-3:]}\")\n"
   ]
  },
  {
   "cell_type": "markdown",
   "id": "42ed50a8",
   "metadata": {},
   "source": [
    "Die andere Möglichkeit ist die Methode np.linspace() mit der Syntax:<br><br>\n",
    "```linspace(start, stop, num=50, endpoint=True, retstep=False)```<br>\n",
    "Hier erhalten wir eine vorgebene Anzahl ```num``` von Float-Werten  in unser Array zurückgegeben (default 50) im Bereich zwischen ```start``` und ```stop```. Der letzte Wert liegt entweder vor dem Wert ```stop```, wenn der ```endpoint```-Parameter nicht auf False gesetzt wird oder erreicht den ```stop```- Wert wenn ```endpoint``` True ist (default).<br>\n",
    "```retstep``` gibt zusätzlich aus (in einem Tuple), wie die Intervallgrösse ist. (default = False)"
   ]
  },
  {
   "cell_type": "code",
   "execution_count": 12,
   "id": "28881899",
   "metadata": {},
   "outputs": [
    {
     "name": "stdout",
     "output_type": "stream",
     "text": [
      "mit Endpoint: [1.   1.11 1.22 1.33 1.44 1.56 1.67 1.78 1.89 2.  ]\n",
      "ohne Endpoint: [1.  1.1 1.2 1.3 1.4 1.5 1.6 1.7 1.8 1.9]\n",
      "Intervallgrösse: (array([1.        , 1.11111111, 1.22222222, 1.33333333, 1.44444444,\n",
      "       1.55555556, 1.66666667, 1.77777778, 1.88888889, 2.        ]), 0.1111111111111111)\n"
     ]
    }
   ],
   "source": [
    "print(f\"mit Endpoint: {np.round(np.linspace(1,2,10),2)}\")\n",
    "print(f\"ohne Endpoint: {np.linspace(1,2,10,endpoint = False)}\")\n",
    "print(f\"Intervallgrösse: {np.linspace(1,2,10,retstep = True)}\")"
   ]
  },
  {
   "cell_type": "markdown",
   "id": "35e4b049",
   "metadata": {},
   "source": [
    "### Array Dimensionen und Shape, Indizierung\n",
    "Bisher haben wir uns mit NumPy-Arrays beschäftigt, die entweder nulldimensional (Skalare, also Einzelwert) oder eindimensional waren. NumPy-Arrays können aber auch beliebige zusätzliche Dimensionen umfassen. Man kann ein zweidimensionales Array einfach durch die Eingabe einer Liste von Listen (oder Tupel) erzeugen und sich mit ndim die Anzahl der Dimensionen anzeigen lassen. Mit shape kann man sich den Aufbau entlang der Achsen ansehen. Dabei ist bei unserem 2 dimensionalen Array die erste Dimension die Zahl der Reihen, die zweite die Zahl der Spalten. Die Angabe erfolgt als Tupel."
   ]
  },
  {
   "cell_type": "code",
   "execution_count": 27,
   "id": "30c73da2",
   "metadata": {},
   "outputs": [
    {
     "name": "stdout",
     "output_type": "stream",
     "text": [
      "[[1 2 3 9]\n",
      " [4 5 6 7]]\n",
      "zwei_dim hat 2 Dimensionen, der Shape ist (2, 4)\n",
      "ein_dim hat  1 Dimension, der Shape ist (3,)\n",
      "skalar hat   0 Dimensionen, der Shape ist ()\n"
     ]
    }
   ],
   "source": [
    "zwei_dim = np.array([\n",
    "                    [1,2,3,9],\n",
    "                    [4,5,6,7],\n",
    "                    ]) # Liste von Listen\n",
    "print(zwei_dim)    \n",
    "print(f\"zwei_dim hat {zwei_dim.ndim} Dimensionen, der Shape ist {zwei_dim.shape}\")\n",
    "ein_dim = np.array((1,2,3))\n",
    "print(f\"ein_dim hat  {ein_dim.ndim} Dimension, der Shape ist {ein_dim.shape}\")\n",
    "skalar = np.array(1)\n",
    "print(f\"skalar hat   {skalar.ndim} Dimensionen, der Shape ist {skalar.shape}\")"
   ]
  },
  {
   "cell_type": "markdown",
   "id": "8dc0ba51",
   "metadata": {},
   "source": [
    "Die Dimensionen im 3- dimensionalen Array zeigt das Bild:<br><br>\n",
    "    <img width = 800 src=\"Images/ArrayDimensionen.png\" />"
   ]
  },
  {
   "cell_type": "markdown",
   "id": "174dc4c7",
   "metadata": {},
   "source": [
    "Shape kann auch verwendet werden, um die Form eines Arrays zu verändern. Hierbei muss natürlich die Gesamtzahl der Elemente des Arrays gleich bleiben, sonst wird eine Exception ausgelöst."
   ]
  },
  {
   "cell_type": "code",
   "execution_count": 39,
   "id": "acf72ed0",
   "metadata": {},
   "outputs": [
    {
     "name": "stdout",
     "output_type": "stream",
     "text": [
      "[[1 2 3 9]\n",
      " [4 5 6 7]]\n",
      "============================================================\n",
      "[[1 2]\n",
      " [3 9]\n",
      " [4 5]\n",
      " [6 7]]\n"
     ]
    }
   ],
   "source": [
    "print(zwei_dim)\n",
    "print(60*\"=\")\n",
    "zwei_dim.shape = (4,2)\n",
    "print(zwei_dim)\n",
    "# zwei_dim.shape = (3,3) Macht Fehler"
   ]
  },
  {
   "cell_type": "markdown",
   "id": "de656937",
   "metadata": {},
   "source": [
    "Im Gegensatz zu shape, was das Originalarray verändert, macht reshape auf vergleichbare Weise ein neues Array, lässt aber das Original unverändert."
   ]
  },
  {
   "cell_type": "code",
   "execution_count": 13,
   "id": "58534ef3",
   "metadata": {},
   "outputs": [
    {
     "name": "stdout",
     "output_type": "stream",
     "text": [
      "[[ 1  2  3  4]\n",
      " [ 6  7  8  9]\n",
      " [10 11 12 14]] (3, 4)\n",
      "============================================================\n",
      "originales test_array mit neuem shape: \n",
      "[[ 1  2  3  4  6  7]\n",
      " [ 8  9 10 11 12 14]]\n",
      " new_array nach reshape von originalem test_array: \n",
      "[ 1  2  3  4  6  7  8  9 10 11 12 14]\n",
      "originales test_array nach reshape: \n",
      "[[ 1  2  3  4]\n",
      " [ 6  7  8  9]\n",
      " [10 11 12 14]]\n"
     ]
    }
   ],
   "source": [
    "test_array = np.array([\n",
    "                        [1,2,3,4],\n",
    "                        [6,7,8,9],\n",
    "                        [10,11,12,14],\n",
    "                       ])\n",
    "\n",
    "print(test_array,test_array.shape)\n",
    "print(60*\"=\")\n",
    "test_array.shape = (2,6)\n",
    "print(f\"originales test_array mit neuem shape: \\n{test_array}\")\n",
    "test_array = np.array([\n",
    "                        [1,2,3,4],\n",
    "                        [6,7,8,9],\n",
    "                        [10,11,12,14],\n",
    "                       ])\n",
    "new_array = test_array.reshape(12)\n",
    "\n",
    "print(f\" new_array nach reshape von originalem test_array: \\n{new_array}\")\n",
    "print(f\"originales test_array nach reshape: \\n{test_array}\")"
   ]
  },
  {
   "cell_type": "markdown",
   "id": "a73b931f",
   "metadata": {},
   "source": [
    "Verwendet man reshape mit dem Parameter -1 für eine Achse, macht NumPy automatisch eine passende Umwandlung über <b>alle</b> Elemente in dieser Achse. Ein Beispiel, was z.B. beim maschinellen Lernen häufig vorkommt, ist das Verwandeln eines 1-dimensionalen Arrays mit der Länge n in ein zweidimensionales Array mit n Zeilen und jeweils einem Eintrag. Dies kann man ohne Angabe der Länge des Arrays über eine solche Konstruktion durchführen mit Angabe von -1 für die Achse 0 (Zeilen)."
   ]
  },
  {
   "cell_type": "code",
   "execution_count": 2,
   "id": "6e48951e",
   "metadata": {},
   "outputs": [
    {
     "name": "stdout",
     "output_type": "stream",
     "text": [
      "[ 0  1  2  3  4  5  6  7  8  9 10 11 12 13 14 15 16 17 18 19]\n",
      "[[ 0]\n",
      " [ 1]\n",
      " [ 2]\n",
      " [ 3]\n",
      " [ 4]\n",
      " [ 5]\n",
      " [ 6]\n",
      " [ 7]\n",
      " [ 8]\n",
      " [ 9]\n",
      " [10]\n",
      " [11]\n",
      " [12]\n",
      " [13]\n",
      " [14]\n",
      " [15]\n",
      " [16]\n",
      " [17]\n",
      " [18]\n",
      " [19]]\n"
     ]
    }
   ],
   "source": [
    "import numpy as np\n",
    "ein_dim = np.array(list(range(20)))\n",
    "print (ein_dim)\n",
    "neues_array = ein_dim.reshape(-1,1)\n",
    "print (neues_array)\n",
    "                   "
   ]
  },
  {
   "cell_type": "markdown",
   "id": "a2946bcc",
   "metadata": {},
   "source": [
    "\n",
    "Mit einem Index (oder mehreren Indizes bei multidimensionalen Arrays) können wir auf einzelne Arrayelemente zugreifen. Hierzu gibt es zwei Möglichkeiten, die Indizes zu verketten:<br>\n",
    "- Einmal:<b> array[Index1][Index2][Index...]</b> oder\n",
    "- <b>array[Index1,Index2,Index...]</b><br><br>\n"
   ]
  },
  {
   "cell_type": "markdown",
   "id": "29435621",
   "metadata": {},
   "source": [
    "Es gibt zwei somit Möglichkeiten, das gezeigte Element anzusprechen:<br>\n",
    "<b>array [1][2][1]</b>\n",
    "oder\n",
    "<b>array [1,2,1]  Also: Ebene 1, Reihe 2 , Spalte 1.</b>\n",
    "<br> Die 2. Möglichkeit ist aber effektiver, da intern nicht in jeder Dimension zuerst ein Teilarray aufgebaut wird, wie bei der ersten Methode.<br><br><img width=800 src=\"Images/ArrayDimensionenIndizes.png\" /><br><br>\n",
    "   \n"
   ]
  },
  {
   "cell_type": "markdown",
   "id": "c8ea3ec5",
   "metadata": {},
   "source": [
    "### Teilbereiche von Arrays\n",
    "Teilbereiche lassen sich wie im Kernpython beschreiben mit ```[start,stop,step]```, wobei sich dies wie oben gezeigt dann in jeder Diemsion durchführen lässt und mit einfachen Indizes mischen lässt. So schneidet z.B. <b>zwei_dim[0,[0:3],[1:3]] </b> den gezeigten Bereich aus. Wir nehmen Reihe 0, die Spalten 0 bis vor 3, die Ebenen 1 bis vor 3.<br>\n",
    "Den Bereich können wir sprachlich so definieren:<br>\n",
    "Nimm die gesamte Ebene 0. Davon die Reihen 0, 1, 2. Davon die Spalten 1 und 2.\n",
    "    "
   ]
  },
  {
   "cell_type": "markdown",
   "id": "bbf57784",
   "metadata": {},
   "source": [
    "<img width = 800 src = \"Images/ArrayDimensionenAusschnitt.png\" />"
   ]
  },
  {
   "cell_type": "code",
   "execution_count": 23,
   "id": "41fa0070",
   "metadata": {},
   "outputs": [
    {
     "name": "stdout",
     "output_type": "stream",
     "text": [
      "[[[  1   2   3   4   5]\n",
      "  [  6   7   8   9  10]\n",
      "  [ 11  12  13  14  15]\n",
      "  [ 16  17  18  19  20]]\n",
      "\n",
      " [[ -1  -2  -3  -4  -5]\n",
      "  [ -6  -7  -8  -9 -10]\n",
      "  [-11 -12 -13 -14 -15]\n",
      "  [-16 -17 -18 -19 -20]]\n",
      "\n",
      " [[100 101 102 103 104]\n",
      "  [105 106 107 108 109]\n",
      "  [110 111 112 113 114]\n",
      "  [115 116 117 118 119]]]\n",
      "-12\n",
      "[[ 1  2  3  4  5]\n",
      " [ 6  7  8  9 10]\n",
      " [11 12 13 14 15]\n",
      " [16 17 18 19 20]]\n"
     ]
    },
    {
     "data": {
      "text/plain": [
       "array([[ 2,  3],\n",
       "       [ 7,  8],\n",
       "       [12, 13]])"
      ]
     },
     "execution_count": 23,
     "metadata": {},
     "output_type": "execute_result"
    }
   ],
   "source": [
    "zwei_dim = np.array([\n",
    "                    [\n",
    "                    [1,2,3,4,5],\n",
    "                    [6,7,8,9,10],\n",
    "                    [11,12,13,14,15],\n",
    "                    [16,17,18,19,20],\n",
    "                    ],\n",
    "                    [\n",
    "                    [-1,-2,-3,-4,-5],\n",
    "                    [-6,-7,-8,-9,-10],\n",
    "                    [-11,-12,-13,-14,-15],\n",
    "                    [-16,-17,-18,-19,-20],\n",
    "                    ],\n",
    "                    [\n",
    "                    [100,101,102,103,104],\n",
    "                    [105,106,107,108,109],\n",
    "                    [110,111,112,113,114],\n",
    "                    [115,116,117,118,119],\n",
    "                    ]\n",
    "                    ]) \n",
    "    \n",
    "    \n",
    "    \n",
    "    \n",
    "    \n",
    "    \n",
    "    \n",
    "    \n",
    "print(zwei_dim)\n",
    "print(zwei_dim[1,2,1])\n",
    "print(zwei_dim[0])\n",
    "zwei_dim[0,0:3,1:3]"
   ]
  },
  {
   "cell_type": "markdown",
   "id": "e2259845",
   "metadata": {},
   "source": [
    "weitere Beispiele:"
   ]
  },
  {
   "cell_type": "code",
   "execution_count": 56,
   "id": "5f8e4a11",
   "metadata": {},
   "outputs": [
    {
     "name": "stdout",
     "output_type": "stream",
     "text": [
      "[[13 14]\n",
      " [23 24]\n",
      " [33 34]]\n"
     ]
    }
   ],
   "source": [
    "A = np.array([\n",
    "[11, 12, 13, 14, 15, 16, 17, 18],\n",
    "[21, 22, 23, 24, 25, 26, 27, 28],\n",
    "[31, 32, 33, 34, 35, 36, 37, 38],\n",
    "[41, 42, 43, 44, 45, 46, 47, 48],\n",
    "[51, 52, 53, 54, 55, 56, 57, 58]])\n",
    "\n",
    "print(A[:3, 2:5]) #alle Reihen von 0 bis vor 3 (2), davon alle Spalten von 2 bis vor 5 (4)"
   ]
  },
  {
   "cell_type": "code",
   "execution_count": 59,
   "id": "1477dda6",
   "metadata": {},
   "outputs": [
    {
     "name": "stdout",
     "output_type": "stream",
     "text": [
      "[[21 23 25 27]\n",
      " [31 33 35 37]]\n"
     ]
    }
   ],
   "source": [
    "# Hier ein Beispiel mit step\n",
    "print(A[1:3,::2]) #alle Reihen von 1 bis vor 3, davon alle Spalten, aber nur jede 2."
   ]
  },
  {
   "cell_type": "code",
   "execution_count": 60,
   "id": "1ef25ea2",
   "metadata": {},
   "outputs": [
    {
     "name": "stdout",
     "output_type": "stream",
     "text": [
      "[[41 43 45 47]\n",
      " [31 33 35 37]]\n"
     ]
    }
   ],
   "source": [
    "print(A[3:1:-1,::2]) #alle Reihen von 3 bis vor 1 (3 und 2), davon jede 2. Spalte"
   ]
  },
  {
   "cell_type": "markdown",
   "id": "31e76937",
   "metadata": {},
   "source": [
    "Lässt man Dimensionen im Ausschnittstupel weg, werden die restlichen Dimensionen als [:] angenommen."
   ]
  },
  {
   "cell_type": "code",
   "execution_count": 29,
   "id": "4b6f122e",
   "metadata": {},
   "outputs": [
    {
     "name": "stdout",
     "output_type": "stream",
     "text": [
      "Alle Ebenen ,Reihen 1 und 2, alle Spalten drei_dim[:,1:3]:\n",
      " [[[   6    7    8    9   10]\n",
      "  [  11   12   23   45   17]]\n",
      "\n",
      " [[  -6   -7   -8   -9  -10]\n",
      "  [ -11  -12  -23  -45  -17]]\n",
      "\n",
      " [[-600 -700 -800 -900 -110]\n",
      "  [-111 -112 -123 -145 -117]]]\n",
      "============================================================\n",
      "Ebenen 1 und 2 ,Reihen 2, alle Spalten drei_dim[1:3,2]:\n",
      " [[ -11  -12  -23  -45  -17]\n",
      " [-111 -112 -123 -145 -117]]\n"
     ]
    }
   ],
   "source": [
    "drei_dim = np.array([\n",
    "                        [\n",
    "                        [1,2,3,4,5],\n",
    "                        [6,7,8,9,10],\n",
    "                        [11,12,23,45,17],\n",
    "                        ],\n",
    "                        [\n",
    "                        [-1,-2,-3,-4,-5],\n",
    "                        [-6,-7,-8,-9,-10],\n",
    "                        [-11,-12,-23,-45,-17],\n",
    "                        ],\n",
    "                        [\n",
    "                        [-100,-200,-300,-400,-500],\n",
    "                        [-600,-700,-800,-900,-110],\n",
    "                        [-111,-112,-123,-145,-117],\n",
    "                        ]\n",
    "                    ])\n",
    "print(f\"Alle Ebenen ,Reihen 1 und 2, alle Spalten drei_dim[:,1:3]:\\n { drei_dim[:,1:3]}\")\n",
    "print(60*\"=\")\n",
    "print(f\"Ebenen 1 und 2 ,Reihen 2, alle Spalten drei_dim[1:3,2]:\\n { drei_dim[1:3,2]}\")\n",
    "      "
   ]
  },
  {
   "cell_type": "markdown",
   "id": "d4501aec",
   "metadata": {},
   "source": [
    "### Arrays kopieren\n",
    "Mit ```neues_array = array.copy() oder neues_array = np.copy(array)``` kann man eine echte Kopie eines Arrays erzeugen. Dann sind die beiden Arrays komplett unabhängig voneinander. "
   ]
  },
  {
   "cell_type": "code",
   "execution_count": 77,
   "id": "16223c47",
   "metadata": {},
   "outputs": [
    {
     "name": "stdout",
     "output_type": "stream",
     "text": [
      "Kopie ist: \n",
      "[[[   1    2    3    4    5]\n",
      "  [   6    7    8    9   10]\n",
      "  [  11   12   23   45   17]]\n",
      "\n",
      " [[  -1   -2   -3   -4   -5]\n",
      "  [  -6   -7   -8   -9  -10]\n",
      "  [ -11  -12  -23  -45  -17]]\n",
      "\n",
      " [[-100 -200 -300 -400 -500]\n",
      "  [-600 -700 -800 -900 -110]\n",
      "  [-111 -112 -123 -145 -117]]]\n",
      "veränderte Kopie ist jetzt: \n",
      "[[[     1      2      3      4      5]\n",
      "  [     6      7      8      9     10]\n",
      "  [    11     12     23     45     17]]\n",
      "\n",
      " [[    -1     -2     -3     -4     -5]\n",
      "  [    -6     -7     -8     -9    -10]\n",
      "  [-10000 -10000 -10000 -10000 -10000]]\n",
      "\n",
      " [[  -100   -200   -300   -400   -500]\n",
      "  [  -600   -700   -800   -900   -110]\n",
      "  [  -111   -112   -123   -145   -117]]]\n",
      "Originalarray ist unverändert: \n",
      "[[[   1    2    3    4    5]\n",
      "  [   6    7    8    9   10]\n",
      "  [  11   12   23   45   17]]\n",
      "\n",
      " [[  -1   -2   -3   -4   -5]\n",
      "  [  -6   -7   -8   -9  -10]\n",
      "  [ -11  -12  -23  -45  -17]]\n",
      "\n",
      " [[-100 -200 -300 -400 -500]\n",
      "  [-600 -700 -800 -900 -110]\n",
      "  [-111 -112 -123 -145 -117]]]\n",
      "Originalarray ist verändert: \n",
      "[[[   1    2    3    4    5]\n",
      "  [   6    7    8    9   10]\n",
      "  [  11   12   23   45   17]]\n",
      "\n",
      " [[  -1   -2   -3   -4   -5]\n",
      "  [  -6   -7   -8   -9  -10]\n",
      "  [ -11  -12  -23  -45  -17]]\n",
      "\n",
      " [[-100 -200 -300 -400 -500]\n",
      "  [-600 -700 -800 -900 -110]\n",
      "  [  -5   -5   -5   -5   -5]]]\n",
      "Kopie ist unverändert: \n",
      "[[[     1      2      3      4      5]\n",
      "  [     6      7      8      9     10]\n",
      "  [    11     12     23     45     17]]\n",
      "\n",
      " [[    -1     -2     -3     -4     -5]\n",
      "  [    -6     -7     -8     -9    -10]\n",
      "  [-10000 -10000 -10000 -10000 -10000]]\n",
      "\n",
      " [[  -100   -200   -300   -400   -500]\n",
      "  [  -600   -700   -800   -900   -110]\n",
      "  [  -111   -112   -123   -145   -117]]]\n"
     ]
    }
   ],
   "source": [
    "drei_dim = np.array([\n",
    "                        [\n",
    "                        [1,2,3,4,5],\n",
    "                        [6,7,8,9,10],\n",
    "                        [11,12,23,45,17],\n",
    "                        ],\n",
    "                        [\n",
    "                        [-1,-2,-3,-4,-5],\n",
    "                        [-6,-7,-8,-9,-10],\n",
    "                        [-11,-12,-23,-45,-17],\n",
    "                        ],\n",
    "                        [\n",
    "                        [-100,-200,-300,-400,-500],\n",
    "                        [-600,-700,-800,-900,-110],\n",
    "                        [-111,-112,-123,-145,-117],\n",
    "                        ]\n",
    "                    ])\n",
    "neu = drei_dim.copy(\"C\")\n",
    "print(f\"Kopie ist: \\n{neu}\")\n",
    "neu[1][2] = -10000\n",
    "print(f\"veränderte Kopie ist jetzt: \\n{neu}\")\n",
    "print(f\"Originalarray ist unverändert: \\n{drei_dim}\")\n",
    "drei_dim[2][2] = -5\n",
    "print(f\"Originalarray ist verändert: \\n{drei_dim}\")\n",
    "print(f\"Kopie ist unverändert: \\n{neu}\")\n",
    "\n"
   ]
  },
  {
   "cell_type": "markdown",
   "id": "df068aad",
   "metadata": {},
   "source": [
    "NumPy Arrays kann man also mit np.copy(array_name) oder array_name.copy() kopieren. Es gibt einen zweiten optionalen Parameter beim Kopieren. Dieser gibt die Ordnung des Array im Speicher an, was wichtig sein kann, wenn man diesen Speicherinhalt in anderen Sprachen gebrauchen will. Möglich ist neben anderen speziellen Zeichen z.B. \"C\" oder \"F\", damit wird der Speicherbereich angelegt, wie es einem C-Array oder einem Fortran-Array entspricht."
   ]
  },
  {
   "cell_type": "markdown",
   "id": "889bb793",
   "metadata": {},
   "source": [
    "NumPy unterscheidet bei Kopieraktionen zwischen Ansichten eines Arrays (Views), die sehr schnell und Speicher-effizient ablaufen und echten Kopien. Ändert man solche Views, wird entsprechend auch das Originalarray verändert.  Bei echten Kopien werden neue Arrays angelegt, die völlig unabhängig vom Originalarray sind, natürlich mit entsprechendem Zeit- und Speicherbedarf. Ein typisches Beispiel für die Erzeugung eines View ist unten gezeigt, indem wir über den Teilbereichsoperator eine solche erzeugen. Wir erkennen, dass die View und das Originalarray verknüpft sind. "
   ]
  },
  {
   "cell_type": "code",
   "execution_count": 30,
   "id": "15956495",
   "metadata": {},
   "outputs": [
    {
     "name": "stdout",
     "output_type": "stream",
     "text": [
      "Originalarray: [0 1 2 3 4 5 6 7 8 9]\n",
      "View: [1 2 3 4]\n",
      "Originalarray wurde verändert und ist jetzt: [  0 -10 -11   3   4   5   6   7   8   9]\n",
      "View ist auch verändert: [-10 -11   3   4]\n"
     ]
    }
   ],
   "source": [
    "import numpy as np\n",
    "orig = np.arange(10)\n",
    "print(f\"Originalarray: {orig}\")\n",
    "\n",
    "view = orig[1:5]  # Dieses macht eine View\n",
    "print(f\"View: {view}\")\n",
    "orig[1:3] = [-10, -11]\n",
    "print(f\"Originalarray wurde verändert und ist jetzt: {orig}\")\n",
    "\n",
    "print(f\"View ist auch verändert: {view}\")\n"
   ]
  },
  {
   "cell_type": "markdown",
   "id": "39ac95a8",
   "metadata": {},
   "source": [
    "Machen wir jetzt ein 2-dim Array und schneiden hier Teile aus, <b>wird eine unabhängige Kopie angelegt, wenn wir hierzu sogenanntes \"advanced indexing\" also fortgeschrittenen Indexzugriff durchführen mit einem Teilbereichsoperator über alle Dimensionen.</b> Dabei kann man neben unserer bekannten Schreibweise auch die auszuschneidenden Bereich als Tupel angeben wie unten gezeigt."
   ]
  },
  {
   "cell_type": "code",
   "execution_count": 79,
   "id": "d620ea14",
   "metadata": {},
   "outputs": [
    {
     "name": "stdout",
     "output_type": "stream",
     "text": [
      "[10  9  8  7  6  5  4  3  2]\n",
      "[7 7 9 2]\n"
     ]
    }
   ],
   "source": [
    "my_array = np.arange(10, 1, -1)\n",
    "print(my_array)\n",
    "\n",
    "ausschnitt = my_array[np.array([3, 3, 1, 8])]\n",
    "print(ausschnitt)\n"
   ]
  },
  {
   "cell_type": "markdown",
   "id": "05c4a500",
   "metadata": {},
   "source": [
    "Auf identische Weise können die auszuschneidenden Elemente auch als Tupel oder Liste an ihrer jeweiligen Stelle im Teilbereichsoperator angegeben werden.``` array[:,(1,2)]``` bedeutet also alle Zeilen und die Spalten 1 und 2.<br> "
   ]
  },
  {
   "cell_type": "markdown",
   "id": "e44a073c",
   "metadata": {},
   "source": [
    "Im unteren Beispiel könnten wir ebenso unsere bekannte Schreibweise ``` array[:,1:3]``` verwenden. Weder hat eine Veränderung des Originalarrays auf das neu erzeugte Ausschnittsarray einen Einfluss als auch umgekehrt keine Verknüpfung besteht."
   ]
  },
  {
   "cell_type": "code",
   "execution_count": 66,
   "id": "bad9b61f",
   "metadata": {},
   "outputs": [
    {
     "name": "stdout",
     "output_type": "stream",
     "text": [
      "Originalarray:\n",
      " [[ 1  2  3  4  5]\n",
      " [ 6  7  8  9 10]\n",
      " [11 12 13 14 15]]\n",
      "zweite und dritte Spalte wurde ausgeschnitten: \n",
      " [[ 2  3]\n",
      " [ 7  8]\n",
      " [12 13]]\n",
      "Ausschnitt wurde verändert auf:\n",
      " [[     2      3]\n",
      " [-10000 -10000]\n",
      " [    12     13]]\n",
      "Originalarray jetzt unverändert:\n",
      " [[ 1  2  3  4  5]\n",
      " [ 6  7  8  9 10]\n",
      " [11 12 13 14 15]]\n",
      "============================================================\n",
      "zweite und dritte Spalte wurde ausgeschnitten: \n",
      " [[ 2  3]\n",
      " [ 7  8]\n",
      " [12 13]]\n",
      "Originalarray wurde verändert auf:\n",
      " [[    0     1     2     3     4]\n",
      " [    5     6     7     8     9]\n",
      " [   10    11 -1000    13    14]]\n",
      "View ist nicht verändert:\n",
      " [[ 2  3]\n",
      " [ 7  8]\n",
      " [12 13]]\n"
     ]
    }
   ],
   "source": [
    "orig1 = np.array( [\n",
    "        [1,2,3,4,5],\n",
    "        [6,7,8,9,10],\n",
    "        [11,12,13,14,15],\n",
    "        ])\n",
    "\n",
    "print(f\"Originalarray:\\n {orig1}\")\n",
    "ausschnitt = orig1[:,(1,2)]\n",
    "\n",
    "print(f\"zweite und dritte Spalte wurde ausgeschnitten: \\n {ausschnitt}\")\n",
    "ausschnitt[1]=-10000\n",
    "print(f\"Ausschnitt wurde verändert auf:\\n {ausschnitt}\")\n",
    "print(f\"Originalarray jetzt unverändert:\\n {orig1}\")\n",
    "print(60*\"=\")\n",
    "\n",
    "ausschnitt2 = orig1[:,1:3]\n",
    "print(f\"zweite und dritte Spalte wurde ausgeschnitten: \\n {ausschnitt2}\")\n",
    "orig[2][2]=-1000\n",
    "print(f\"Originalarray wurde verändert auf:\\n {orig}\")\n",
    "print(f\"View ist nicht verändert:\\n {ausschnitt2}\")\n"
   ]
  },
  {
   "cell_type": "markdown",
   "id": "145211bb",
   "metadata": {},
   "source": [
    "### einfache Matrizen Operationen\n",
    "Oft werden in der linearen Algebra Identitätsmatrizen benötigt, die wir als quadratische zeidimensionale NumPy-Arrays abbilden können, und deren Werte bis auf die Diagonale, wo sie mit dem Wert 1 besetzt sind, alle 0 sind. NumPY bietet eine komfortable Möglichkeit diese zu erstellen mit der np.identity(k,dtype=...) Methode. Diese hat einen obligaten Parameter k, der die Seitenlänge der quadratischen Matrix angibt, ausserdem kann der dtype angegegben werden."
   ]
  },
  {
   "cell_type": "code",
   "execution_count": 81,
   "id": "1557bc53",
   "metadata": {},
   "outputs": [
    {
     "name": "stdout",
     "output_type": "stream",
     "text": [
      "[[1 0 0 0 0 0]\n",
      " [0 1 0 0 0 0]\n",
      " [0 0 1 0 0 0]\n",
      " [0 0 0 1 0 0]\n",
      " [0 0 0 0 1 0]\n",
      " [0 0 0 0 0 1]]\n"
     ]
    }
   ],
   "source": [
    "print(np.identity(6,dtype = int))"
   ]
  },
  {
   "cell_type": "markdown",
   "id": "1020c4c9",
   "metadata": {},
   "source": [
    "Für nicht quadratische Arrays oder Matrizen gibt es die etwas komplexere np.eye Methode mit folgender Syntax:<br> ```eye(N, M=None, k=0, dtype=float)```. Dabei gibt N die Anzahl der Zeilen an, M die Anzahl der Spalten (falls sie von N abweichen , sonst N), k sagt aus weche Diagonale gemeint ist, bei 0 als Default-Wert ist es die Hauptdiagonale bei negativen Werten wird die Diagonale um k Spalten nach links verschoben, bei positiven Werten nach rechts."
   ]
  },
  {
   "cell_type": "code",
   "execution_count": 89,
   "id": "71bb70f5",
   "metadata": {},
   "outputs": [
    {
     "name": "stdout",
     "output_type": "stream",
     "text": [
      " np.eye(5,8,-2): \n",
      " [[0. 0. 0. 0. 0. 0. 0. 0.]\n",
      " [0. 0. 0. 0. 0. 0. 0. 0.]\n",
      " [1. 0. 0. 0. 0. 0. 0. 0.]\n",
      " [0. 1. 0. 0. 0. 0. 0. 0.]\n",
      " [0. 0. 1. 0. 0. 0. 0. 0.]]\n",
      "\n",
      " np.eye(5,8,2): \n",
      " [[0. 0. 1. 0. 0. 0. 0. 0.]\n",
      " [0. 0. 0. 1. 0. 0. 0. 0.]\n",
      " [0. 0. 0. 0. 1. 0. 0. 0.]\n",
      " [0. 0. 0. 0. 0. 1. 0. 0.]\n",
      " [0. 0. 0. 0. 0. 0. 1. 0.]]\n",
      "\n",
      " np.eye(5): \n",
      " [[1. 0. 0. 0. 0.]\n",
      " [0. 1. 0. 0. 0.]\n",
      " [0. 0. 1. 0. 0.]\n",
      " [0. 0. 0. 1. 0.]\n",
      " [0. 0. 0. 0. 1.]]\n",
      "\n"
     ]
    }
   ],
   "source": [
    "print(f\" np.eye(5,8,-2): \\n {np.eye(5,8,-2)}\\n\")\n",
    "print(f\" np.eye(5,8,2): \\n {np.eye(5,8,2)}\\n\")\n",
    "print(f\" np.eye(5): \\n {np.eye(5)}\\n\")"
   ]
  },
  {
   "cell_type": "markdown",
   "id": "f00b211b",
   "metadata": {},
   "source": [
    "Ausserdem lassen sich Arrays einfach transponieren, also entlang der Diagonalen umdrehen mit ```np.transpose(array,axes = None)```. Gibt man den axes Parameter nicht an, wird entlang der Diagonalen transponiert. Im axes-Parameter kann die Reihenfolge der Achsen angegeben werden, die die Ordnung des transponierten Arrays beschreibt. Im unteren 3D Beispiel haben wir die Reihenfolge der Achsen auf (1,0,2) gesetzt. Die Elemente entsprechen in ihrem Wert ZeileSpalteEbene des Originalarrays. Alle Achsen müssen jeweils einmal in dem axes-Tupel vorkommen, die Reihenfolge entscheidet über die Art der Transposition. Wir haben unten alle Möglichkeiten für 3 Achsen dargestellt. Die Permutationen haben wir mit dem itertools Modul erstellt mit itertools.permutations([0,1,2],3), als da sind: [(0, 1, 2), (0, 2, 1), (1, 0, 2), (1, 2, 0), (2, 0, 1), (2, 1, 0)]."
   ]
  },
  {
   "cell_type": "code",
   "execution_count": 118,
   "id": "8bee3509",
   "metadata": {
    "scrolled": false
   },
   "outputs": [
    {
     "name": "stdout",
     "output_type": "stream",
     "text": [
      "[[ 1  2  3  4  5]\n",
      " [ 6  7  8  9 10]\n",
      " [11 12 13 14 15]]\n",
      "============================================================\n",
      "[[ 1  6 11]\n",
      " [ 2  7 12]\n",
      " [ 3  8 13]\n",
      " [ 4  9 14]\n",
      " [ 5 10 15]]\n",
      "============================================================\n",
      "Permuationen der Achsen: [(0, 1, 2), (0, 2, 1), (1, 0, 2), (1, 2, 0), (2, 0, 1), (2, 1, 0)] \n",
      "\n",
      "Original\n",
      " (0, 1, 2) :\n",
      " [[['000' '010' '020' '030' '040']\n",
      "  ['100' '110' '120' '130' '140']\n",
      "  ['200' '210' '220' '230' '240']]\n",
      "\n",
      " [['001' '011' '021' '031' '041']\n",
      "  ['101' '111' '121' '131' '141']\n",
      "  ['201' '211' '221' '231' '241']]\n",
      "\n",
      " [['002' '012' '022' '032' '042']\n",
      "  ['102' '112' '122' '132' '142']\n",
      "  ['202' '212' '222' '232' '242']]]\n",
      "============================================================\n",
      " (0, 2, 1) :\n",
      " [[['000' '100' '200']\n",
      "  ['010' '110' '210']\n",
      "  ['020' '120' '220']\n",
      "  ['030' '130' '230']\n",
      "  ['040' '140' '240']]\n",
      "\n",
      " [['001' '101' '201']\n",
      "  ['011' '111' '211']\n",
      "  ['021' '121' '221']\n",
      "  ['031' '131' '231']\n",
      "  ['041' '141' '241']]\n",
      "\n",
      " [['002' '102' '202']\n",
      "  ['012' '112' '212']\n",
      "  ['022' '122' '222']\n",
      "  ['032' '132' '232']\n",
      "  ['042' '142' '242']]]\n",
      "============================================================\n",
      " (1, 0, 2) :\n",
      " [[['000' '010' '020' '030' '040']\n",
      "  ['001' '011' '021' '031' '041']\n",
      "  ['002' '012' '022' '032' '042']]\n",
      "\n",
      " [['100' '110' '120' '130' '140']\n",
      "  ['101' '111' '121' '131' '141']\n",
      "  ['102' '112' '122' '132' '142']]\n",
      "\n",
      " [['200' '210' '220' '230' '240']\n",
      "  ['201' '211' '221' '231' '241']\n",
      "  ['202' '212' '222' '232' '242']]]\n",
      "============================================================\n",
      " (1, 2, 0) :\n",
      " [[['000' '001' '002']\n",
      "  ['010' '011' '012']\n",
      "  ['020' '021' '022']\n",
      "  ['030' '031' '032']\n",
      "  ['040' '041' '042']]\n",
      "\n",
      " [['100' '101' '102']\n",
      "  ['110' '111' '112']\n",
      "  ['120' '121' '122']\n",
      "  ['130' '131' '132']\n",
      "  ['140' '141' '142']]\n",
      "\n",
      " [['200' '201' '202']\n",
      "  ['210' '211' '212']\n",
      "  ['220' '221' '222']\n",
      "  ['230' '231' '232']\n",
      "  ['240' '241' '242']]]\n",
      "============================================================\n",
      " (2, 0, 1) :\n",
      " [[['000' '100' '200']\n",
      "  ['001' '101' '201']\n",
      "  ['002' '102' '202']]\n",
      "\n",
      " [['010' '110' '210']\n",
      "  ['011' '111' '211']\n",
      "  ['012' '112' '212']]\n",
      "\n",
      " [['020' '120' '220']\n",
      "  ['021' '121' '221']\n",
      "  ['022' '122' '222']]\n",
      "\n",
      " [['030' '130' '230']\n",
      "  ['031' '131' '231']\n",
      "  ['032' '132' '232']]\n",
      "\n",
      " [['040' '140' '240']\n",
      "  ['041' '141' '241']\n",
      "  ['042' '142' '242']]]\n",
      "============================================================\n",
      " (2, 1, 0) :\n",
      " [[['000' '001' '002']\n",
      "  ['100' '101' '102']\n",
      "  ['200' '201' '202']]\n",
      "\n",
      " [['010' '011' '012']\n",
      "  ['110' '111' '112']\n",
      "  ['210' '211' '212']]\n",
      "\n",
      " [['020' '021' '022']\n",
      "  ['120' '121' '122']\n",
      "  ['220' '221' '222']]\n",
      "\n",
      " [['030' '031' '032']\n",
      "  ['130' '131' '132']\n",
      "  ['230' '231' '232']]\n",
      "\n",
      " [['040' '041' '042']\n",
      "  ['140' '141' '142']\n",
      "  ['240' '241' '242']]]\n",
      "============================================================\n"
     ]
    }
   ],
   "source": [
    "import itertools\n",
    "orig1 = np.array( [\n",
    "        [1,2,3,4,5],\n",
    "        [6,7,8,9,10],\n",
    "        [11,12,13,14,15],\n",
    "        ])\n",
    "print(orig1)\n",
    "orig2 = np.transpose(orig1)#axes=([1,0]))\n",
    "print(\"=\"*60)\n",
    "print(orig2)\n",
    "print(\"=\"*60)\n",
    "perms = list(itertools.permutations([0,1,2],3))\n",
    "print(f\"Permuationen der Achsen: {perms} \\n\")\n",
    "             \n",
    "drei_dim = np.array([\n",
    "                        [\n",
    "                        [\"000\",\"010\",\"020\",\"030\",\"040\"],\n",
    "                        [\"100\",\"110\",\"120\",\"130\",\"140\"],\n",
    "                        [\"200\",\"210\",\"220\",\"230\",\"240\"],\n",
    "                        ],\n",
    "                        [\n",
    "                        [\"001\",\"011\",\"021\",\"031\",\"041\"],\n",
    "                        [\"101\",\"111\",\"121\",\"131\",\"141\"],\n",
    "                        [\"201\",\"211\",\"221\",\"231\",\"241\"],\n",
    "                        ],\n",
    "                        [\n",
    "                        [\"002\",\"012\",\"022\",\"032\",\"042\"],\n",
    "                        [\"102\",\"112\",\"122\",\"132\",\"142\"],\n",
    "                        [\"202\",\"212\",\"222\",\"232\",\"242\"],\n",
    "                        ]\n",
    "                    ])\n",
    "print(\"Original\")\n",
    "for perm in perms:\n",
    "    print(f\" {str(perm)} :\\n {np.transpose(drei_dim,axes = perm)}\")\n",
    "    print(\"=\"*60)\n",
    "\n"
   ]
  },
  {
   "cell_type": "markdown",
   "id": "6a8e0ac4",
   "metadata": {},
   "source": []
  }
 ],
 "metadata": {
  "kernelspec": {
   "display_name": "Python 3 (ipykernel)",
   "language": "python",
   "name": "python3"
  },
  "language_info": {
   "codemirror_mode": {
    "name": "ipython",
    "version": 3
   },
   "file_extension": ".py",
   "mimetype": "text/x-python",
   "name": "python",
   "nbconvert_exporter": "python",
   "pygments_lexer": "ipython3",
   "version": "3.9.12"
  }
 },
 "nbformat": 4,
 "nbformat_minor": 5
}
