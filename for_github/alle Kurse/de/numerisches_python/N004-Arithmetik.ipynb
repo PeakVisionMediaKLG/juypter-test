{
 "cells": [
  {
   "cell_type": "markdown",
   "id": "6f307441",
   "metadata": {},
   "source": [
    "## Arithmetische Rechenoperationen mit NumPy - Arrays\n",
    "<br><img width= 400 src=\"images/Arithmetik.jpg\" />\n",
    "<br>\"Designed by Freepik\""
   ]
  },
  {
   "cell_type": "markdown",
   "id": "5b03563e",
   "metadata": {},
   "source": [
    "Mit NumPy Arrays lassen sich elegant und schnell numerische Operationen durchführen. Unsere gewohnten mathematischen Operatoren sind für NumPy - Arrays überladen und deshalb einfach anwendbar. Zunächst ein Beispiel einer elementweisen (skalaren) Addition. Wir haben ausserdem den Typ des Ergebnisarrays mit der astype(np.int) Methode in Integer verwandelt."
   ]
  },
  {
   "cell_type": "code",
   "execution_count": 4,
   "id": "d2a4affd",
   "metadata": {},
   "outputs": [
    {
     "name": "stdout",
     "output_type": "stream",
     "text": [
      "[12 14 18]\n"
     ]
    }
   ],
   "source": [
    "import numpy as np\n",
    "test_array = np.array([2.3,4.1,8.2])\n",
    "result_array = (test_array + 10).astype(np.int)\n",
    "print(result_array)"
   ]
  },
  {
   "cell_type": "markdown",
   "id": "c01e98f1",
   "metadata": {},
   "source": [
    "Natürlich geht dies auch für unsere anderen arithmetischen Operatoren wie -,*,/ und $**$, sowie // und %. Auch die round() Methode können wir natürlich benutzen, wir müssen sie aber mit np.round ansprechen."
   ]
  },
  {
   "cell_type": "code",
   "execution_count": 20,
   "id": "c7d2a20e",
   "metadata": {},
   "outputs": [
    {
     "name": "stdout",
     "output_type": "stream",
     "text": [
      "Originalarray [2.33 4.71 8.23]\n",
      "('-10', array([-7.67, -5.29, -1.77]))\n",
      "('*10', array([23.3, 47.1, 82.3]))\n",
      "('/10', array([0.233, 0.471, 0.823]))\n",
      "('**10', array([4.71584161e+03, 5.37290388e+06, 1.42560218e+09]))\n",
      "[23 47 82] Ganzzahldivision durch 5 [ 4  9 16]\n",
      "[23 47 82] modulo 5 [3 2 2]\n",
      "('/10 auf 1 Stelle gerundet', array([0.2, 0.5, 0.8]))\n"
     ]
    }
   ],
   "source": [
    "test_array = np.array([2.33,4.71,8.23])\n",
    "print(\"Originalarray\",test_array)\n",
    "result_array = (\"-10\",test_array - 10)\n",
    "print(result_array)\n",
    "result_array = (\"*10\",test_array * 10)\n",
    "print(result_array)\n",
    "result_array = (\"/10\",test_array / 10)\n",
    "print(result_array)\n",
    "result_array = (\"**10\",test_array ** 10)\n",
    "print(result_array)\n",
    "result_array = (test_array*10).astype(int)\n",
    "print(result_array,\"Ganzzahldivision durch 5\",result_array//5)\n",
    "print(result_array,\"modulo 5\",result_array%5)\n",
    "result_array = (\"/10 auf 1 Stelle gerundet\",np.round(test_array / 10,1))\n",
    "print(result_array)"
   ]
  },
  {
   "cell_type": "markdown",
   "id": "07073bed",
   "metadata": {},
   "source": [
    "Um ähnliche Operationen im Kernpython durchzuführen, müssen wir über unseren kombinierten Datentyp iterieren wie z.B. mit einer Listenabstraktion :"
   ]
  },
  {
   "cell_type": "code",
   "execution_count": 23,
   "id": "7a9c8e31",
   "metadata": {},
   "outputs": [
    {
     "name": "stdout",
     "output_type": "stream",
     "text": [
      "original  [2.33, 4.71, 8.23]\n",
      "*10  [23.3, 47.1, 82.30000000000001]\n"
     ]
    }
   ],
   "source": [
    "my_list = [2.33,4.71,8.23]\n",
    "print(\"original \",my_list)\n",
    "print(\"*10 \",[10 * elem for elem in my_list])"
   ]
  },
  {
   "cell_type": "markdown",
   "id": "557017b9",
   "metadata": {},
   "source": [
    "Nicht nur ist NumPy hier viel eleganter, sondern auch deutlich schneller mit dem Faktor von ca. 40 für die Bearbeitung einer Aufzählung von 10000 Werten mit einer elemtweisen Multiplikation."
   ]
  },
  {
   "cell_type": "code",
   "execution_count": 55,
   "id": "f6fed166",
   "metadata": {},
   "outputs": [
    {
     "name": "stdout",
     "output_type": "stream",
     "text": [
      "Listenabstraktion: 0.3933486000000812 s\n",
      "Numpy Skalar-Multiplikation: 0.010214000000360102 s\n"
     ]
    }
   ],
   "source": [
    "from timeit import Timer\n",
    "\n",
    "my_list = list(range(1000))\n",
    "timer_obj1 = Timer(\"[10 * elem for elem in my_list]\",\"from __main__ import  my_list\")\n",
    "print(f\"Listenabstraktion: {timer_obj1.timeit(10000)} s\")\n",
    "test_array = np.arange(0,1000)\n",
    "timer_obj2 = Timer(\"test_array*10\",\"from __main__ import  test_array\")\n",
    "print(f\"Numpy Skalar-Multiplikation: {timer_obj2.timeit(10000)} s\")\n",
    "\n"
   ]
  },
  {
   "cell_type": "markdown",
   "id": "7cce16a5",
   "metadata": {},
   "source": [
    "Natürlich können wir auch zwei gleichförmige Arrays arithmetisch elementweise verknüpfen."
   ]
  },
  {
   "cell_type": "code",
   "execution_count": 57,
   "id": "bcd49c6a",
   "metadata": {},
   "outputs": [
    {
     "name": "stdout",
     "output_type": "stream",
     "text": [
      "[[ 3  4  5]\n",
      " [10 15 18]]\n"
     ]
    }
   ],
   "source": [
    "a = np.array([[1,2,3],\n",
    "              [4,5,6]])\n",
    "b = np.array([[2,2,2],\n",
    "              [6,10,12]])\n",
    "print(a*b)"
   ]
  },
  {
   "cell_type": "markdown",
   "id": "a941bf20",
   "metadata": {},
   "source": [
    "In der Mathematik benötigt man aber auch oft nicht die elementweise Multiplikation von Matrizen, sondern das \"innere Produkt\" oder \"dot-Produkt\". Für Skalare oder eindimensionale Arrays (Vektoren) entspricjt es der elementweisen Multiplikation."
   ]
  },
  {
   "cell_type": "code",
   "execution_count": null,
   "id": "820cfc06",
   "metadata": {},
   "outputs": [],
   "source": [
    "a = np.array(5)\n",
    "b = n"
   ]
  }
 ],
 "metadata": {
  "kernelspec": {
   "display_name": "Python 3 (ipykernel)",
   "language": "python",
   "name": "python3"
  },
  "language_info": {
   "codemirror_mode": {
    "name": "ipython",
    "version": 3
   },
   "file_extension": ".py",
   "mimetype": "text/x-python",
   "name": "python",
   "nbconvert_exporter": "python",
   "pygments_lexer": "ipython3",
   "version": "3.9.12"
  }
 },
 "nbformat": 4,
 "nbformat_minor": 5
}
