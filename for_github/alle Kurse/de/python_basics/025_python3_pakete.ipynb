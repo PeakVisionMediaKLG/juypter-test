{
 "cells": [
  {
   "cell_type": "markdown",
   "metadata": {},
   "source": [
    "## Pakete in Python\n",
    "\n",
    "\n",
    "\n",
    "### Einführung\n",
    "\n",
    "<img height= 300 width=300 class=\"imgright\" src=\"../images/packages_script.webp\" srcset=\"../images/packages_script_350w.webp 350w,../images/packages_script_300w.webp 300w\" alt=\"Packages \" /> \n",
    "\n",
    "Wir haben gelernt, dass Module Dateien sind, die Python-Anweisungen und -Definitionen, wie Funktions- und Klassendefinitionen, enthalten. Wir werden in diesem Kapitel lernen, wie man mehrere Module zu einem Package bündelt.\n",
    "\n",
    "Ein Package ist im Grunde ein Verzeichnis mit Python-Dateien und einer Datei mit dem Namen ```__init__```.py. Das bedeutet, daß jedes Verzeichnis innerhalb des Python-Pfades, das eine Datei mit dem Namen ```__init__```.py enthält, von Python als Paket behandelt wird. Es ist möglich, mehrere Module in ein Package zu packen.\n",
    "\n",
    "Pakete sind eine Möglichkeit, den Modul-Namensraum von Python durch die Verwendung von \"gepunkteten Modulnamen\" zu strukturieren. A.B steht für ein Submodul mit dem Namen B in einem Paket mit dem Namen A. Zwei verschiedene Pakete wie P1 und P2 können beide Module mit dem gleichen Namen haben, sagen wir zum Beispiel A. Das Submodul A des Pakets P1 und das Submodul A des Pakets P2 können völlig unterschiedlich sein.\n",
    "Ein Package wird wie ein \"normales\" Modul importiert.\n",
    "Wir werden dieses Kapitel mit einem einfachen Beispiel beginnen.\n",
    "\n",
    "### Ein einfaches Beispiel\n",
    "\n",
    "<img height= 300 width=300 src=\"../images/packages.webp\" srcset=\"../images/packages_300w.webp 300w\" alt=\"Creating Packages in Python \" /> \n",
    "\n",
    "Wir werden anhand eines sehr einfachen Beispiels demonstrieren, wie man ein Paket mit einigen Python-Modulen erstellt.\n",
    "Zunächst einmal benötigen wir ein Verzeichnis. Der Name dieses Verzeichnisses wird der Name des Pakets sein, das wir erstellen wollen. Wir werden unser Paket \"simple_package\" nennen. Dieses Verzeichnis muss eine Datei mit dem Namen ```__init__```.py enthalten. Diese Datei kann leer sein, oder sie kann gültigen Python-Code enthalten. Dieser Code wird ausgeführt, wenn ein Paket importiert wird, er kann also dazu verwendet werden, ein Paket zu initialisieren, z.B. um sicherzustellen, dass einige andere Module importiert oder einige Werte gesetzt werden. Nun können wir alle Python-Dateien, die die Untermodule unseres Moduls sein werden, in dieses Verzeichnis legen.\n",
    "Wir legen zwei einfache Dateien a.py und b.py an, nur um das Paket mit Modulen zu füllen.\n",
    "\n",
    "Der Inhalt von a.py:"
   ]
  },
  {
   "cell_type": "code",
   "execution_count": 1,
   "metadata": {},
   "outputs": [],
   "source": [
    "def bar():\n",
    "    print(\"Hello, function 'bar' from module 'a' calling\")"
   ]
  },
  {
   "cell_type": "markdown",
   "metadata": {},
   "source": [
    "Der Inhalt von b.py:"
   ]
  },
  {
   "cell_type": "code",
   "execution_count": 2,
   "metadata": {},
   "outputs": [],
   "source": [
    "def foo():\n",
    "    print(\"Hello, function 'foo' from module 'b' calling\")"
   ]
  },
  {
   "cell_type": "markdown",
   "metadata": {},
   "source": [
    "Wir werden auch eine leere Datei mit dem Namen ```__init__```.py innerhalb des Verzeichnisses simple_package hinzufügen.\n",
    "\n",
    "Schauen wir uns an, was passiert, wenn wir simple_package aus der interaktiven Python-Shell importieren, unter der Annahme, dass sich das Verzeichnis simple_package entweder in dem Verzeichnis befindet, aus dem Sie die Shell aufrufen, oder dass es im Suchpfad oder der Umgebungsvariablen \"PYTHONPATH\" (Ihres Betriebssystems) enthalten ist:\n"
   ]
  },
  {
   "cell_type": "code",
   "execution_count": 5,
   "metadata": {},
   "outputs": [],
   "source": [
    "import simple_package"
   ]
  },
  {
   "cell_type": "code",
   "execution_count": 3,
   "metadata": {},
   "outputs": [
    {
     "ename": "NameError",
     "evalue": "name 'a' is not defined",
     "output_type": "error",
     "traceback": [
      "\u001b[1;31m---------------------------------------------------------------------------\u001b[0m",
      "\u001b[1;31mNameError\u001b[0m                                 Traceback (most recent call last)",
      "\u001b[1;32m<ipython-input-3-347df8a711cc>\u001b[0m in \u001b[0;36m<module>\u001b[1;34m\u001b[0m\n\u001b[1;32m----> 1\u001b[1;33m \u001b[0msimple_package\u001b[0m\u001b[1;33m/\u001b[0m\u001b[0ma\u001b[0m\u001b[1;33m\u001b[0m\u001b[1;33m\u001b[0m\u001b[0m\n\u001b[0m",
      "\u001b[1;31mNameError\u001b[0m: name 'a' is not defined"
     ]
    }
   ],
   "source": [
    "simple_package/a"
   ]
  },
  {
   "cell_type": "code",
   "execution_count": 4,
   "metadata": {},
   "outputs": [
    {
     "ename": "NameError",
     "evalue": "name 'b' is not defined",
     "output_type": "error",
     "traceback": [
      "\u001b[1;31m---------------------------------------------------------------------------\u001b[0m",
      "\u001b[1;31mNameError\u001b[0m                                 Traceback (most recent call last)",
      "\u001b[1;32m<ipython-input-4-e71d2904d2bd>\u001b[0m in \u001b[0;36m<module>\u001b[1;34m\u001b[0m\n\u001b[1;32m----> 1\u001b[1;33m \u001b[0msimple_package\u001b[0m\u001b[1;33m/\u001b[0m\u001b[0mb\u001b[0m\u001b[1;33m\u001b[0m\u001b[1;33m\u001b[0m\u001b[0m\n\u001b[0m",
      "\u001b[1;31mNameError\u001b[0m: name 'b' is not defined"
     ]
    }
   ],
   "source": [
    "simple_package/b"
   ]
  },
  {
   "cell_type": "markdown",
   "metadata": {},
   "source": [
    "Wir sehen, dass das Paket simple_package geladen wurde, aber weder das Modul \"a\" noch das Modul \"b\"! Wir können die Module a und b auf folgende Weise importieren:"
   ]
  },
  {
   "cell_type": "code",
   "execution_count": 8,
   "metadata": {},
   "outputs": [
    {
     "name": "stdout",
     "output_type": "stream",
     "text": [
      "Hello, function 'bar' from module 'a' calling\n",
      "Hello, function 'foo' from module 'b' calling\n"
     ]
    }
   ],
   "source": [
    "from simple_package import a, b\n",
    "a.bar()\n",
    "b.foo()"
   ]
  },
  {
   "cell_type": "markdown",
   "metadata": {},
   "source": [
    "Wie wir zu Beginn des Kapitels gesehen haben, können wir weder auf \"a\" noch auf \"b\" zugreifen, indem wir lediglich simple_package importieren.\n",
    "\n",
    "Es gibt jedoch eine Möglichkeit, diese Module automatisch zu laden. Dazu können wir die Datei ```__init__```.py verwenden. Alles, was wir tun müssen, ist, die folgenden Zeilen in die bisher leere Datei ```__init__```.py einzufügen:\n",
    "<pre>\n",
    "import simple_package.a\n",
    "import simple_package.b\n",
    "</pre>\n",
    "Es wird jetzt funktionieren:"
   ]
  },
  {
   "cell_type": "code",
   "execution_count": 9,
   "metadata": {},
   "outputs": [
    {
     "name": "stdout",
     "output_type": "stream",
     "text": [
      "Hello, function 'bar' from module 'a' calling\n",
      "Hello, function 'foo' from module 'b' calling\n"
     ]
    }
   ],
   "source": [
    "import simple_package\n",
    "simple_package.a.bar()\n",
    "simple_package.b.foo()"
   ]
  },
  {
   "cell_type": "markdown",
   "metadata": {},
   "source": [
    "### Ein komplexeres Paket\n",
    "Im folgenden Beispiel wollen wir demonstrieren, wie wir ein komplexeres Paket erstellen können. Wir werden das hypothetische Sound-Modul verwenden, das im offiziellen Tutorial verwendet wird. (siehe https://docs.python.org/3/tutorial/modules.html)"
   ]
  },
  {
   "cell_type": "markdown",
   "metadata": {},
   "source": [
    "<pre>\n",
    "sound\n",
    "|-- effects\n",
    "|   |-- echo.py\n",
    "|   |-- __init__.py\n",
    "|   |-- reverse.py\n",
    "|   `-- surround.py\n",
    "|-- filters\n",
    "|   |-- equalizer.py\n",
    "|   |-- __init__.py\n",
    "|   |-- karaoke.py\n",
    "|   `-- vocoder.py\n",
    "|-- formats\n",
    "|   |-- aiffread.py\n",
    "|   |-- aiffwrite.py\n",
    "|   |-- auread.py\n",
    "|   |-- auwrite.py\n",
    "|   |-- __init__.py\n",
    "|   |-- wavread.py\n",
    "|   `-- wavwrite.py\n",
    "`-- __init__.py </pre>"
   ]
  },
  {
   "cell_type": "markdown",
   "metadata": {},
   "source": [
    "Wir werden eine Dummy-Implementierung - nur leere Dateien mit den richtigen Namen - dieser Struktur implementieren. Wir werden verschiedene Variationen der Implementierungen bereitstellen. Um zwischen den Implementierungen zu unterscheiden, werden wir die Module soound1, sound2, sound3 und sound4 nennen. Im Grunde sollten sie alle ``Sound`` heißen.\n",
    "Sie können die Beispiele als bzip-Dateien herunterladen: \n",
    "\n",
    "- [sounds1.tar.bz2](./sound1.tar.bz2)\n",
    "- [sounds2.tar.bz2](./sound2.tar.bz2)\n",
    "- [sounds3.tar.bz2](./sound3.tar.bz2)\n",
    "- [sounds4.tar.bz2](./sound4.tar.bz2)\n",
    "- [sounds5.tar.bz2](./sound5.tar.bz2)\n",
    "- [sounds6.tar.bz2](./sound6.tar.bz2)\n",
    "- [sounds7.tar.bz2](./sound7.tar.bz2)\n",
    "\n",
    "\n",
    "Wir werden mit dem Paket ``Sound1`` beginnen. (Sie können es mit ```tar xvjf sound1.tar.bz2`` entpacken)\n",
    "\n",
    "Wenn wir das Paket ```sound1`` mit der Anweisung ```import sound1`` importieren, wird das Paket ```sound1`` importiert, nicht aber die Unterpakete ```effects``, ```filters`` und ```formats``, wie wir im folgenden Beispiel sehen werden. Der Grund dafür liegt darin, dass die Datei ```__init__.py``` keinen Code für den Import von Unterpaketen enthält:"
   ]
  },
  {
   "cell_type": "code",
   "execution_count": 2,
   "metadata": {},
   "outputs": [
    {
     "name": "stdout",
     "output_type": "stream",
     "text": [
      "<module 'sound1' from '/data/Dropbox (Bodenseo)/Bodenseo Team Folder/melisa/notebooks_en/sound1/__init__.py'>\n"
     ]
    },
    {
     "ename": "AttributeError",
     "evalue": "module 'sound1' has no attribute 'effects'",
     "output_type": "error",
     "traceback": [
      "\u001b[0;31m---------------------------------------------------------------------------\u001b[0m",
      "\u001b[0;31mAttributeError\u001b[0m                            Traceback (most recent call last)",
      "\u001b[0;32m<ipython-input-2-0b6d7fed3b24>\u001b[0m in \u001b[0;36m<module>\u001b[0;34m\u001b[0m\n\u001b[1;32m      3\u001b[0m \u001b[0mprint\u001b[0m\u001b[0;34m(\u001b[0m\u001b[0msound1\u001b[0m\u001b[0;34m)\u001b[0m\u001b[0;34m\u001b[0m\u001b[0;34m\u001b[0m\u001b[0m\n\u001b[1;32m      4\u001b[0m \u001b[0;34m\u001b[0m\u001b[0m\n\u001b[0;32m----> 5\u001b[0;31m \u001b[0mprint\u001b[0m\u001b[0;34m(\u001b[0m\u001b[0msound1\u001b[0m\u001b[0;34m.\u001b[0m\u001b[0meffects\u001b[0m\u001b[0;34m)\u001b[0m\u001b[0;34m\u001b[0m\u001b[0;34m\u001b[0m\u001b[0m\n\u001b[0m",
      "\u001b[0;31mAttributeError\u001b[0m: module 'sound1' has no attribute 'effects'"
     ]
    }
   ],
   "source": [
    "\n",
    "import sound1\n",
    "\n",
    "print(sound1)\n",
    "\n",
    "print(sound1.effects)\n"
   ]
  },
  {
   "cell_type": "markdown",
   "metadata": {},
   "source": [
    "Wenn Sie auch das Paket effects verwenden wollen, müssen Sie es explizit mit import sound.effects importieren:"
   ]
  },
  {
   "cell_type": "code",
   "execution_count": 4,
   "metadata": {},
   "outputs": [
    {
     "name": "stdout",
     "output_type": "stream",
     "text": [
      "<module 'sound1.effects' from '/data/Dropbox (Bodenseo)/Bodenseo Team Folder/melisa/notebooks_en/sound1/effects/__init__.py'>\n"
     ]
    }
   ],
   "source": [
    "\n",
    "import sound1.effects\n",
    "print(sound1.effects)\n"
   ]
  },
  {
   "cell_type": "markdown",
   "metadata": {},
   "source": [
    "Es ist möglich, den Import der Submodule automatisch beim Import des Moduls ``Sound1`` durchführen zu lassen. \n",
    "Wir werden nun zu ``Sound2`` wechseln, um zu demonstrieren, wie man das macht. Wir verwenden die gleichen Dateien wie in ``Sound1``, aber wir fügen die Codezeile ``import sound2.effects`` in die Datei ```__init__.py`` des Verzeichnisses ``Sound2``` ein.\n",
    "Die Datei sollte jetzt wie folgt aussehen:"
   ]
  },
  {
   "cell_type": "markdown",
   "metadata": {},
   "source": [
    "<pre>\n",
    "\"\"\"An empty sound package\n",
    "\n",
    "This is the sound package, providing hardly anything!\"\"\"\n",
    "\n",
    "\n",
    "import sound2.effects\n",
    "print(\"sound2.effects package is getting imported!\")\n",
    ")</pre>"
   ]
  },
  {
   "cell_type": "markdown",
   "metadata": {},
   "source": [
    "Wenn wir das Paket ``Sound2`` aus der interaktiven Python-Shell importieren, werden wir sehen, dass auch das Unterpaket ``Effects`` automatisch geladen wird:"
   ]
  },
  {
   "cell_type": "code",
   "execution_count": 1,
   "metadata": {},
   "outputs": [
    {
     "name": "stdout",
     "output_type": "stream",
     "text": [
      "sound2 package is getting imported!\n"
     ]
    }
   ],
   "source": [
    "\n",
    "import sound2\n",
    "\n"
   ]
  },
  {
   "cell_type": "markdown",
   "metadata": {},
   "source": [
    "Anstatt einen absoluten Pfad zu verwenden, hätten wir das Effekt-Paket auch relativ zum Sound-Paket importieren können. "
   ]
  },
  {
   "cell_type": "markdown",
   "metadata": {},
   "source": [
    "<pre>\n",
    "\"\"\"An empty sound package\n",
    "\n",
    "This is the sound package, providing hardly anything!\"\"\"\n",
    "\n",
    "from . import effects\n",
    "print(\"sound package is getting imported!\")\n",
    "</pre>"
   ]
  },
  {
   "cell_type": "markdown",
   "metadata": {},
   "source": [
    "Wir werden dies in dem Modul ``Sound3`` demonstrieren:"
   ]
  },
  {
   "cell_type": "code",
   "execution_count": 1,
   "metadata": {},
   "outputs": [
    {
     "name": "stdout",
     "output_type": "stream",
     "text": [
      "effects package is getting imported!\n"
     ]
    }
   ],
   "source": [
    "import sound3"
   ]
  },
  {
   "cell_type": "markdown",
   "metadata": {},
   "source": [
    "Es ist auch möglich, die Paketformate automatisch zu importieren, wenn wir das Effektpaket importieren. Wir können dies auch mit einem relativen Pfad tun, den wir in die ```__init__.py```-Datei des Verzeichnisses ```Effects``` einbinden werden:"
   ]
  },
  {
   "cell_type": "markdown",
   "metadata": {},
   "source": [
    "<pre> from .. import formats </pre>"
   ]
  },
  {
   "cell_type": "markdown",
   "metadata": {},
   "source": [
    "Durch den Import von ``Sound4`` werden automatisch auch die Module ``Formate`` und ``Effekte`` importiert:"
   ]
  },
  {
   "cell_type": "markdown",
   "metadata": {},
   "source": [
    "\n",
    "import sound4\n"
   ]
  },
  {
   "cell_type": "markdown",
   "metadata": {},
   "source": [
    "Zum Abschluss dieses Unterkapitels wollen wir zeigen, wie wir das Modul karaoke aus dem Paket filters importieren, wenn wir das Paket effects importieren. Zu diesem Zweck fügen wir die Zeile\n",
    "from ..filters import karaoke\n",
    "in die Datei ```__init__.py``` des Verzeichnisses effects ein. Die komplette Datei sieht nun wie folgt aus:"
   ]
  },
  {
   "cell_type": "markdown",
   "metadata": {},
   "source": [
    "<pre>\n",
    "\"\"\"An empty effects package\n",
    "\n",
    "This is the effects package, providing hardly anything!\"\"\"\n",
    "\n",
    "from .. import formats\n",
    "from ..filters import karaoke\n",
    "print(\"effects package is getting imported!\")</pre>"
   ]
  },
  {
   "cell_type": "markdown",
   "metadata": {},
   "source": [
    "Das Importieren von Ton führt zu folgender Ausgabe:"
   ]
  },
  {
   "cell_type": "code",
   "execution_count": 2,
   "metadata": {},
   "outputs": [
    {
     "name": "stdout",
     "output_type": "stream",
     "text": [
      "formats package is getting imported!\n",
      "importing from the effects package:\n",
      "formats module is getting imported!\n",
      "filters package is getting imported!\n",
      "Module karaoke.py has been loaded!\n",
      "karaoke module is getting imported!\n",
      "effects package is getting imported!\n"
     ]
    }
   ],
   "source": [
    "\n",
    "import sound5\n"
   ]
  },
  {
   "cell_type": "markdown",
   "metadata": {},
   "source": [
    "Wir können jetzt auf die Funktionen von Karaoke zugreifen und diese nutzen:"
   ]
  },
  {
   "cell_type": "code",
   "execution_count": 3,
   "metadata": {},
   "outputs": [
    {
     "name": "stdout",
     "output_type": "stream",
     "text": [
      "Funktion func1 has been called!\n"
     ]
    }
   ],
   "source": [
    "\n",
    "sound5.filters.karaoke.func1()\n",
    "\n"
   ]
  },
  {
   "cell_type": "markdown",
   "metadata": {},
   "source": [
    "### Importieren eines kompletten Pakets\n",
    "Für das nächste Unterkapitel werden wir wieder das Ausgangsbeispiel aus dem vorherigen Unterkapitel unseres Tutorials verwenden. Wir werden ein Modul (Datei) foobar (Dateiname: ```foobar.py```) in das Soundverzeichnis einfügen. Das komplette Paket kann wieder als bzip-Datei heruntergeladen werden. Wir wollen nun demonstrieren, was passiert, wenn wir das Soundpaket mit dem Stern importieren, d.h. ```von sound import *```. Man könnte erwarten, dass auf diese Weise alle Untermodule und Unterpakete des Pakets importiert werden. Schauen wir mal, was passiert:"
   ]
  },
  {
   "cell_type": "code",
   "execution_count": 4,
   "metadata": {},
   "outputs": [
    {
     "name": "stdout",
     "output_type": "stream",
     "text": [
      "sound package is getting imported!\n"
     ]
    }
   ],
   "source": [
    "\n",
    "from sound6 import *\n"
   ]
  },
  {
   "cell_type": "markdown",
   "metadata": {},
   "source": [
    "Wir erhalten also die beruhigende Meldung, dass das Sound-Paket importiert wurde. Wenn wir jedoch mit der Funktion dir prüfen, sehen wir, dass weder das Modul foobar noch die Unterpakete effects, filters und formats importiert wurden:"
   ]
  },
  {
   "cell_type": "code",
   "execution_count": 9,
   "metadata": {},
   "outputs": [
    {
     "name": "stdout",
     "output_type": "stream",
     "text": [
      "foobar False\n",
      "effects False\n",
      "filters False\n",
      "formats False\n"
     ]
    }
   ],
   "source": [
    "for mod in ['foobar', 'effects', 'filters', 'formats']:\n",
    "    print(mod, mod in dir())"
   ]
  },
  {
   "cell_type": "markdown",
   "metadata": {},
   "source": [
    "Python bietet einen Mechanismus, um einen expliziten Index der Unterpakete und Module eines Pakets anzugeben, die importiert werden sollen. Zu diesem Zweck können wir eine Liste namens ```__all__``` definieren. Diese Liste wird als Liste der Modul- und Paketnamen genommen, die importiert werden sollen, wenn von Paket import * angetroffen wird.\n"
   ]
  },
  {
   "cell_type": "markdown",
   "metadata": {},
   "source": [
    "Wir fügen nun die Zeile\n",
    "\n",
    "<pre> __all__ = [\"formats\", \"filters\", \"effects\", \"foobar\"] </pre>\n",
    "\n",
    "in die Datei ```__init__```.py des Soundverzeichnisses ein. Wir erhalten nun ein völlig anderes Ergebnis:\n"
   ]
  },
  {
   "cell_type": "code",
   "execution_count": 1,
   "metadata": {},
   "outputs": [
    {
     "name": "stdout",
     "output_type": "stream",
     "text": [
      "sound package is getting imported!\n",
      "formats package is getting imported!\n",
      "filters package is getting imported!\n",
      "effects package is getting imported!\n",
      "foobar module is getting imported\n"
     ]
    }
   ],
   "source": [
    "\n",
    "from sound7 import *\n"
   ]
  },
  {
   "cell_type": "markdown",
   "metadata": {},
   "source": [
    "Auch wenn es bereits ersichtlich ist, dass alle Module importiert wurden, können wir mit dir noch einmal nachsehen:"
   ]
  },
  {
   "cell_type": "code",
   "execution_count": 2,
   "metadata": {},
   "outputs": [
    {
     "name": "stdout",
     "output_type": "stream",
     "text": [
      "foobar True\n",
      "effects True\n",
      "filters True\n",
      "formats True\n"
     ]
    }
   ],
   "source": [
    "for mod in ['foobar', 'effects', 'filters', 'formats']:\n",
    "    print(mod, mod in dir())"
   ]
  },
  {
   "cell_type": "markdown",
   "metadata": {},
   "source": [
    "Die nächste Frage ist, was importiert wird, wenn wir * in einem Subpackage verwenden:"
   ]
  },
  {
   "cell_type": "markdown",
   "metadata": {},
   "source": [
    "<pre>\n",
    "from sound.effects import *\n",
    "sound package is getting imported!\n",
    "effects package is getting imported!\n",
    "dir()\n",
    "['__builtins__', '__doc__', '__loader__', '__name__', '__package__', '__spec__']\n",
    "</pre>"
   ]
  },
  {
   "cell_type": "markdown",
   "metadata": {},
   "source": [
    "Wie erwartet sind die Module innerhalb von effects nicht automatisch importiert worden. Also können wir die folgende ```__all__```-Liste in die ```__init__``-Datei des Pakets effects einfügen:"
   ]
  },
  {
   "cell_type": "markdown",
   "metadata": {},
   "source": [
    "Wir müssen in die ``__init__.py``-Dateien der Verzeichnisse ```filters``, ```formats`` und ```effects`` entsprechend die folgenden Codezeilen hinzufügen:\n",
    "\n",
    "```__all__ = [\"equalizer\", \"__init__\", \"karaoke\", \"vocoder\"]```\n",
    "\n",
    "```__all__ = [\"aiffread\", \"aiffwrite\", \"auread\", \"auwrite\", \"wavread\",  \"wavwrite\"]```\n",
    "\n",
    "```__all__ = [\"echo\", \"surround\", \"reverse\"]```\n",
    "\n",
    "\n"
   ]
  },
  {
   "cell_type": "markdown",
   "metadata": {},
   "source": [
    "Jetzt erhalten wir das beabsichtigte Ergebnis:"
   ]
  },
  {
   "cell_type": "code",
   "execution_count": 1,
   "metadata": {},
   "outputs": [
    {
     "name": "stdout",
     "output_type": "stream",
     "text": [
      "sound package is getting imported!\n",
      "formats package is getting imported!\n",
      "filters package is getting imported!\n",
      "effects package is getting imported!\n",
      "foobar module is getting imported\n"
     ]
    }
   ],
   "source": [
    "\n",
    "from sound8 import *\n"
   ]
  },
  {
   "cell_type": "code",
   "execution_count": 2,
   "metadata": {},
   "outputs": [
    {
     "name": "stdout",
     "output_type": "stream",
     "text": [
      "Module echo.py has been loaded!\n",
      "Module surround.py has been loaded!\n",
      "Module reverse.py has been loaded!\n"
     ]
    }
   ],
   "source": [
    "from sound8.effects import *"
   ]
  },
  {
   "cell_type": "code",
   "execution_count": 3,
   "metadata": {},
   "outputs": [
    {
     "name": "stdout",
     "output_type": "stream",
     "text": [
      "Module equalizer.py has been loaded!\n",
      "Module karaoke.py has been loaded!\n",
      "Module vocoder.py has been loaded!\n"
     ]
    }
   ],
   "source": [
    "from sound8.filters import *"
   ]
  },
  {
   "cell_type": "code",
   "execution_count": 4,
   "metadata": {},
   "outputs": [
    {
     "name": "stdout",
     "output_type": "stream",
     "text": [
      "Module aiffread.py has been loaded!\n",
      "Module aiffwrite.py has been loaded!\n",
      "Module auread.py has been loaded!\n",
      "Module auwrite.py has been loaded!\n",
      "Module wavread.py has been loaded!\n",
      "Module wavwrite.py has been loaded!\n"
     ]
    }
   ],
   "source": [
    "from sound8.formats import *"
   ]
  },
  {
   "cell_type": "markdown",
   "metadata": {},
   "source": [
    "Obwohl bestimmte Module so konzipiert sind, dass nur Namen exportiert werden, die bestimmten Mustern folgen, wenn Sie import * verwenden, wird dies immer noch als schlechte Praxis angesehen. Der empfohlene Weg ist, bestimmte Module aus einem Paket zu importieren, anstatt * zu verwenden. "
   ]
  }
 ],
 "metadata": {
  "kernelspec": {
   "display_name": "Python 3",
   "language": "python",
   "name": "python3"
  },
  "language_info": {
   "codemirror_mode": {
    "name": "ipython",
    "version": 3
   },
   "file_extension": ".py",
   "mimetype": "text/x-python",
   "name": "python",
   "nbconvert_exporter": "python",
   "pygments_lexer": "ipython3",
   "version": "3.7.6"
  }
 },
 "nbformat": 4,
 "nbformat_minor": 4
}
