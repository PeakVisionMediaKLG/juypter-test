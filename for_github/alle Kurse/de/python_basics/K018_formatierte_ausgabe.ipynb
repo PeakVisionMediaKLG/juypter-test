{
 "cells": [
  {
   "cell_type": "markdown",
   "metadata": {},
   "source": [
    "## Formatierte Ausgabe\n",
    "\n",
    "\n",
    "### Wege die Ausgabe zu formatieren\n",
    "\n",
    "<img class=\"imgright\" src=\"../images/Printer_in_1568.webp\" srcset=\"../images/Printer_in_1568_300w.webp 300w\" alt=\"Drucken im 16. Jahrhundert\"/>\n",
    "\n",
    "In diesem Kapitel unseres Python-Tutorials werden wir uns intensiv mit den verschiedenen Methoden beschäftigen, mit denen man die Ausgaben formatieren bzw. formatierte Strings erzeugen kann. Wir stellen die verschiedenen Arten vor, aber wir empfehlen \"formatierte\" Stringliterale zu benutzen, die wir am Anfang des Kapitels erklären. Diese Methode ist die bei weitem lesbarste und eleganteste.\n",
    "\n",
    "Bisher hatten wir die print-Funktion auf zwei Arten benutzt, wenn wir beispielsweise zwei Werte ausgeben wollten:\n",
    "\n",
    "Die einfachste Art, aber sicherlich nicht die eleganteste:\n",
    "Wir benutzen print mit einer kommaseparierten Liste von Werten, um die Ergebnisse auszugeben, wie wir im folgenden Beispiel sehen können. Alle Werte werden durch Leerzeichen getrennt, was dem Default-Verhalten entspricht. Wir können die Default-Trennung durch einen beliebigen String ersetzen. Dazu müssen wir diesen String lediglich durch den Schlüsselwort-Parameter \"sep\" der Print-Funktion ersetzen:"
   ]
  },
  {
   "cell_type": "code",
   "execution_count": 1,
   "metadata": {},
   "outputs": [
    {
     "name": "stdout",
     "output_type": "stream",
     "text": [
      "459 0.098 44.982\n"
     ]
    }
   ],
   "source": [
    "q = 459\n",
    "p = 0.098\n",
    "print(q, p, p * q)"
   ]
  },
  {
   "cell_type": "code",
   "execution_count": 55,
   "metadata": {},
   "outputs": [
    {
     "name": "stdout",
     "output_type": "stream",
     "text": [
      "459,0.098,44.982\n"
     ]
    }
   ],
   "source": [
    "print(q, p, p * q, sep=\",\")"
   ]
  },
  {
   "cell_type": "code",
   "execution_count": 56,
   "metadata": {},
   "outputs": [
    {
     "name": "stdout",
     "output_type": "stream",
     "text": [
      "459 :-) 0.098 :-) 44.982\n"
     ]
    }
   ],
   "source": [
    "print(q, p, p * q, sep=\" :-) \")"
   ]
  },
  {
   "cell_type": "markdown",
   "metadata": {},
   "source": [
    "Alternativ können wir auch aus den Werten mittels der String-Konkatenation einen neuen String konstruieren:"
   ]
  },
  {
   "cell_type": "code",
   "execution_count": 57,
   "metadata": {},
   "outputs": [
    {
     "name": "stdout",
     "output_type": "stream",
     "text": [
      "459 0.098 44.982\n"
     ]
    }
   ],
   "source": [
    "print(str(q) + \" \" + str(p) + \" \" + str(p * q))"
   ]
  },
  {
   "cell_type": "markdown",
   "metadata": {},
   "source": [
    "Die zweite Methode ist schlechter, - da komplizierter, - als die erste. "
   ]
  },
  {
   "cell_type": "markdown",
   "metadata": {},
   "source": [
    "### Formatierte Stringliterale"
   ]
  },
  {
   "cell_type": "markdown",
   "metadata": {},
   "source": [
    "Formatierte Stringliterale oder f-strings wurden ab Python 3.6 eingeführt. Ihre Syntax ist sehr einfach und flexibel. Ein Beispiel ist:"
   ]
  },
  {
   "cell_type": "code",
   "execution_count": 58,
   "metadata": {},
   "outputs": [
    {
     "data": {
      "text/plain": [
       "'Mein Freund Jonas ist 19 Jahre alt'"
      ]
     },
     "execution_count": 58,
     "metadata": {},
     "output_type": "execute_result"
    }
   ],
   "source": [
    "name,alter =\"Jonas\",19\n",
    "f\"Mein Freund {name} ist {alter} Jahre alt\"\n"
   ]
  },
  {
   "cell_type": "markdown",
   "metadata": {},
   "source": [
    "Die Anführungsstriche in der Ausgabe verschwinden, wenn wir den f-string mit print drucken.\n"
   ]
  },
  {
   "cell_type": "code",
   "execution_count": 59,
   "metadata": {},
   "outputs": [
    {
     "name": "stdout",
     "output_type": "stream",
     "text": [
      "Mein Freund Jonas ist 19 Jahre alt\n"
     ]
    }
   ],
   "source": [
    "name,alter =\"Jonas\",19\n",
    "f\"Mein Freund {name} ist {alter} Jahre alt\"\n",
    "print(f\"Mein Freund {name} ist {alter} Jahre alt\")"
   ]
  },
  {
   "cell_type": "markdown",
   "metadata": {},
   "source": [
    "In den geschweiften Klammern können nicht nur Variablennamen stehen, sondern auch ganze Ausdrücke, ein Beispiel folgt."
   ]
  },
  {
   "cell_type": "code",
   "execution_count": 60,
   "metadata": {},
   "outputs": [
    {
     "data": {
      "text/plain": [
       "'Jonas ist 4 Jahre jünger als Karl.'"
      ]
     },
     "execution_count": 60,
     "metadata": {},
     "output_type": "execute_result"
    }
   ],
   "source": [
    "name,alter=\"Jonas\",28\n",
    "name2,alter2=\"Karl\",32\n",
    "f\"{name} ist {abs(alter-alter2)} Jahre {'jünger' if alter-alter2<0 else 'älter'} als {name2}.\""
   ]
  },
  {
   "cell_type": "markdown",
   "metadata": {},
   "source": [
    "Wir sehen hier, dass auch das ternäre if in f-strings gute Dienste tun kan. Übrigens kann man auch ein grosses \"F\" verwenden. Achten muss man darauf, dass strings in den geschweiften Klammern mit einfachem Anführungszeichen begrenzt werden, wenn der f-string selber doppelte Anführungszeichen hat oder umgekehrt. Die Verwendung von \\ in f-strings ist aber auch möglich(s.u.). Wollen wir ein dictionary ausgeben, müssen wir die geschweiften Klammern des dictionary verdoppeln, um es von den geschweiften Klammern des f-strings abzugrenzen und den Doppelpunkt als Teil des dictionary zu markieren(dazu gleich mehr). "
   ]
  },
  {
   "cell_type": "code",
   "execution_count": 61,
   "metadata": {},
   "outputs": [
    {
     "data": {
      "text/plain": [
       "'Ein Python dictionary d={\"a\":1,\\'b\\':2}'"
      ]
     },
     "execution_count": 61,
     "metadata": {},
     "output_type": "execute_result"
    }
   ],
   "source": [
    "f\"Ein Python dictionary d={{\\\"a\\\":1,'b':2}}\""
   ]
  },
  {
   "cell_type": "markdown",
   "metadata": {},
   "source": [
    "Auch ein Funktionsaufruf kann natürlich eingebaut werden."
   ]
  },
  {
   "cell_type": "code",
   "execution_count": 62,
   "metadata": {},
   "outputs": [
    {
     "data": {
      "text/plain": [
       "'Jonas ist 4 Jahre jünger als Karl.'"
      ]
     },
     "execution_count": 62,
     "metadata": {},
     "output_type": "execute_result"
    }
   ],
   "source": [
    "def alt_jung(alter1,alter2):\n",
    "    if alter1<alter2:\n",
    "        return \"jünger\"\n",
    "    else:\n",
    "        return \"älter\"\n",
    "name,alter=\"Jonas\",28\n",
    "name2,alter2=\"Karl\",32\n",
    "F\"{name} ist {abs(alter-alter2)} Jahre {alt_jung(alter,alter2)} als {name2}.\""
   ]
  },
  {
   "cell_type": "markdown",
   "metadata": {},
   "source": [
    "Bisher haben wir zwar strings in der Ausgabe zusammengesetzt, aber die Ausgabe der einzelnen Elemente ist nicht ordentlich gestltet und dabei geht es ja bei der formatierten Ausgabe. Wir werden das jetzt für die f-strings einführen, aber vorher noch ein Beispiel, warum formatierte Ausgabe Sinn macht."
   ]
  },
  {
   "cell_type": "code",
   "execution_count": 63,
   "metadata": {},
   "outputs": [
    {
     "name": "stdout",
     "output_type": "stream",
     "text": [
      "7 von Packungen Tomaten in SFR 28.425600000000003\n",
      "12 von Nudeln in SFR 18.791999999999998\n",
      "5 von Bio Rindfleisch spezial in SFR 130.68\n"
     ]
    }
   ],
   "source": [
    "einkäufe=[\n",
    "        (7,\"Packungen Tomaten\", 3.76),\n",
    "        (12, \"Nudeln\", 1.45),\n",
    "        (5,\"Bio Rindfleisch spezial\", 24.20),\n",
    "        ]\n",
    "kurs_euro_sfr=1.08\n",
    "for anzahl, text, preis in einkäufe:\n",
    "    gesamt= anzahl*preis\n",
    "    gesamt_in_sfr=gesamt*kurs_euro_sfr\n",
    "    print(f\"{anzahl} von {text} in SFR {gesamt_in_sfr}\")"
   ]
  },
  {
   "cell_type": "markdown",
   "metadata": {},
   "source": [
    "Das ist um es gelinde auszudrücken nicht sehr user-freundlich. Hier ergänzen wir unser f-strings mit einer Angabe, wie und wo die eingefügten Ausdrücke ausgegeben werden sollen. Ein Beispiel für unseren obigen Fall:"
   ]
  },
  {
   "cell_type": "code",
   "execution_count": 64,
   "metadata": {},
   "outputs": [
    {
     "name": "stdout",
     "output_type": "stream",
     "text": [
      "   7 von Packungen Tomaten         in SFR  28.43\n",
      "  12 von Nudeln                    in SFR  18.79\n",
      "   5 von Bio Rindfleisch spezial   in SFR 130.68\n"
     ]
    }
   ],
   "source": [
    "einkäufe=[\n",
    "        (7,\"Packungen Tomaten\", 3.76),\n",
    "        (12, \"Nudeln\", 1.45),\n",
    "        (5,\"Bio Rindfleisch spezial\", 24.20),\n",
    "        ]\n",
    "kurs_euro_sfr=1.08\n",
    "for anzahl, text, preis in einkäufe:\n",
    "    gesamt= anzahl*preis\n",
    "    gesamt_in_sfr=gesamt*kurs_euro_sfr\n",
    "    print(f\"{anzahl:4d} von {text:25s} in SFR {gesamt_in_sfr:6.2F}\")"
   ]
  },
  {
   "cell_type": "markdown",
   "metadata": {},
   "source": [
    "Sieht doch schon viel besser aus! Vor Schliessen der geschweiften Klammer eines Ausdrucks können wir nach einem Doppelpunkt auf diese Weise noch spezifizieren, wieviel Platz die Ausgabe haben soll, welcher Typ die Ausgabe ist (d oder D-> integer, f oder F-> Fliesskommazahl, s oder S-> String, E oder e-> Exponentialzahl, X oder x-> Hexadezimalzahl. Bei Fliesskommazahlen oder Exponentialzahlen können darüber hinaus die Nachkommastellen angegeben werden. <br>Wenn wir uns unsere Artikelbezeichnung anschauen, wäre es vielleicht schön, wenn diese zentriert ausgegeben würden. Dies lässt sich durch ein entsprechendes Zeichen für die Ausrichtung erreichen."
   ]
  },
  {
   "cell_type": "code",
   "execution_count": 65,
   "metadata": {},
   "outputs": [
    {
     "name": "stdout",
     "output_type": "stream",
     "text": [
      "   7 von     Packungen Tomaten     in SFR  28.43\n",
      "  12 von          Nudeln           in SFR  18.79\n",
      "   5 von  Bio Rindfleisch spezial  in SFR 130.68\n"
     ]
    }
   ],
   "source": [
    "einkäufe=[\n",
    "        (7,\"Packungen Tomaten\", 3.76),\n",
    "        (12, \"Nudeln\", 1.45),\n",
    "        (5,\"Bio Rindfleisch spezial\", 24.20),\n",
    "        ]\n",
    "kurs_euro_sfr=1.08\n",
    "for anzahl, text, preis in einkäufe:\n",
    "    gesamt= anzahl*preis\n",
    "    gesamt_in_sfr=gesamt*kurs_euro_sfr\n",
    "    print(f\"{anzahl:4d} von {text:^25s} in SFR {gesamt_in_sfr:6.2f}\")"
   ]
  },
  {
   "cell_type": "markdown",
   "metadata": {},
   "source": [
    "Folgende Optionen sind hierfür einsetzbar:<br>\n",
    " "
   ]
  },
  {
   "cell_type": "markdown",
   "metadata": {},
   "source": [
    "<table cellpadding=\"12\" cellspacing=\"12\" border=\"1\" bgcolor=\"#F5F5F5\">\n",
    "  <thead>\n",
    "    <tr>\n",
    "      <th><center>Ausrichtungszeichen</th>\n",
    "      <th><center>Bedeutung</th>\n",
    "      </tr>\n",
    "    </thead>\n",
    "  <tbody>\n",
    "    <tr><td valign=\"baseline\"><tt><center><</tt></td>\n",
    "        <td><left><center>linksbündige Ausgabe (für strings default)</td>\n",
    "        </tr>\n",
    "    <tr><td valign=\"baseline\"><tt><center>></tt></td>\n",
    "        <td><center>rechtsbündige Ausgabe (für numerische Werte default).</td>\n",
    "        </tr>\n",
    "    <tr><td valign=\"baseline\"><tt><center>^     </tt></td>\n",
    "        <td><center>zentrierte Ausgabe</td>\n",
    "        </tr>\n",
    "    <tr><td valign=\"baseline\"><tt><center>=</tt></td>\n",
    "        <td><center>der Platz zwischen dem Vorzeichen (falls vorhanden, sonst Beginn des Feldes)<br> und dem Beginn der Zahl mit Auffüllzeichen belegen (s.u.) </td>\n",
    "        </tr>\n",
    "    <tr><td valign=\"baseline\"><tt><center>+</tt></td>\n",
    "        <td><center>Vorzeichen wird immer ausgegeben</td>\n",
    "        </tr>\n",
    "    <tr><td valign=\"baseline\"><tt><center>-</tt></td>\n",
    "        <td><center>Vorzeichen nur bei negativem Ausdruck</td>\n",
    "        </tr>\n",
    "    <tr><td valign=\"baseline\"><tt><center>Leerzeichen</tt></td>\n",
    "        <td><center>Ausdruck positiv -> Leerzeichen, Ausdruck negativ -> - Zeichen</td>\n",
    "        </tr>\n",
    "        </tbody>\n",
    "</table>"
   ]
  },
  {
   "cell_type": "code",
   "execution_count": 66,
   "metadata": {},
   "outputs": [
    {
     "name": "stdout",
     "output_type": "stream",
     "text": [
      "0007 von     Packungen Tomaten     in SFR 028.43\n",
      "0012 von          Nudeln           in SFR 018.79\n",
      "0005 von  Bio Rindfleisch spezial  in SFR 13376.88\n"
     ]
    }
   ],
   "source": [
    "einkäufe=[\n",
    "        (7,\"Packungen Tomaten\", 3.76),\n",
    "        (12, \"Nudeln\", 1.45),\n",
    "        (5,\"Bio Rindfleisch spezial\", 2477.20),\n",
    "        ]\n",
    "kurs_euro_sfr=1.08\n",
    "for anzahl, text, preis in einkäufe:\n",
    "    gesamt= anzahl*preis\n",
    "    gesamt_in_sfr=gesamt*kurs_euro_sfr\n",
    "    print(f\"{anzahl:004d} von {text:^25s} in SFR {gesamt_in_sfr:=006.2f}\")"
   ]
  },
  {
   "cell_type": "markdown",
   "metadata": {},
   "source": [
    "Falls die Gesamtbreite zur Darstellung nicht ausreicht , wird wie oben sichtbar unsere Formatierung logischerweise zerstört."
   ]
  },
  {
   "cell_type": "markdown",
   "metadata": {},
   "source": [
    "### Die alte Methode im Stil von printf und sprintf\n",
    "\n",
    "### Statt \"alte\" Methode sollten wir besser \"veraltete\" Methode sagen, da dieses Vorgehen keinen guten Python-Stil mehr darstellt.\n",
    "\n",
    "Gibt es ein printf in Python? Das ist die brennende Frage für Python-Anfänger, die von C, Perl, Bash oder anderen Programmiersprachen kommen, die dieses Statement bzw. diese Funktion benutzen. Zu sagen, dass Python eine print-Funktion und keine printf-Funktion hat ist nur die eine Seite der Medaille. Also gibt es doch eine \"printf\"-Funktion in Python? Nein, aber die Funktionalität des \"alten\" printf wurde in anderer Form übernommen. Zu diesem Zweck wird der Modulo-Operator \"%\" von der String-Klasse überladen. Deshalb spricht man bei dem überladenen Operator \"%\" der String-Klasse auch häufig vom String-Modulo-Operator, obwohl es eigentlich wenig mit der eigentlich Modulo-Arithmetik zu tun hat. Manchmal wird er auch synonym als String-Modulus-Operator genannt. Ein weiterer Begriff, für diese Operation lautet \"String-Interpolation\", weil bei dieser Operation Werte, wie Integers, Floats usw., in den zu erzeugenden formatierten String eingefügt also interpoliert werden. Den mittels der String-Interpolation erzeugten formatierten String, kann man dann z.B. mittels print (also nicht printf) ausgeben. Aber man kann diesen formatierten String auch auf andere Art im Programm weiter verwenden, wie ihn zum Beispiel in eine Datenbank übertragen.\n",
    "Seit Python 2.6 eingeführt worden ist, wird jedoch von der Python-Gemeinde empfohlen die String-Methode \"format\" stattdessen zu verwenden. Unglücklicherweise konnten man sich auch bei dem Design von Python3 nicht von der veralteten String-Interpolations-Methode trennen. Außerdem wird die veraltete Methode noch allzu häufig benutzt. Aus diesem Grunde gehen wir auch in unserem Tutorial ausgiebig darauf ein. Um fremden Python-Code verstehen zu können, der die String-Interpolations-Methode benutzt, ist es nötig den Mechanismus zu verstehen. Wahrscheinlich - oder hoffentlich - wird man sich jedoch bei der Weiterentwicklung von Python eines Tages von dieser Methode trennen.\n",
    "\n",
    "Das folgende Diagramm verbildlicht die Arbeitsweise des String-Modulo-Operators:\n",
    "\n",
    "<img src=\"../images/formatierte_ausgabe_beispiel.webp\" width=\"500\" alt=\"Formatierte Ausgabe mittels String-Modulo-Operator an einem Beispiel\" />\n",
    "\n",
    "Auf der linken Seite des String-Modulo-Operators befindet sich der sogenannte Format-String und auf der rechten Seite steht ein Tupel mit den Werten, die in den Format-String interpoliert bzw. eingefügt werden sollen. Die Werte können Literale, Variablen oder beliebige arithmetische Ausdrücke sein.\n",
    "\n",
    "<img src=\"../images/formatstring.webp\" width=\"500\" alt=\"Formatstring und Wertetupel\" />\n",
    "\n",
    "Der Formatstring enthält Platzhalter. In unserem Beispiel befinden sich zwei davon: \"%5d\" und \"%8.2f\".\n",
    "\n",
    "Die allgemeine Syntax für diese Platzhalter lautet:\n",
    "\n",
    "<pre>\n",
    "    %[flags][width][.precision]type \n",
    "</pre>\n",
    "\n",
    "\n",
    "<img  class=\"imgright\" src=\"../images/string_modulo_float.webp\" srcset=\"../images/string_modulo_float_350w.webp 350w,../images/string_modulo_float_300w.webp 300w\" width=\"200\" alt=\"Float-Format\" />\n",
    "\n",
    "Schauen wir uns einmal die Platzhalter unseres Beispieles genauer an: Der zweite, also \"%8.2f\", ist eine Formatbeschreibung für eine Floatzahl. Wie auch alle anderen Platzhalter wird er durch ein \"%\"-Zeichen eingeleitet. Dieses wird von einer Zahl gefolgt, die die totale Anzahl der Zeichen angibt, mit der die Zahl ausgegeben werden soll. Diese Anzahl beinhaltet auch den Dezimalpunkt und alle Ziffern vor und nach dem Punkt. Unsere Floatzahl 59.058 muss also mit 8 Zeichen dargestellt werden. Der Dezimalanteil der Zahl ist auf 2 gesetzt, dies ist die Zahl hinter dem \".\" beim Platzhalter. Das bedeutet, dass die Anzahl der Nachkommastellen auf 2 gesetzt ist. Das letzte Zeichen im Platzhalt ist der Buchstabe \"f\". Wie sich leicht vermuten lässt, steht er für \"float\".\n",
    "\n",
    "Schaut man sich die Ausgabe an, erkennt man, dass die Zahl \"59.058\" als \" 59.06\" ausgegeben wird. Man sieht auch, dass die Ausgabe nicht etwa nach zwei Stellen abgebrochen wird, sondern dass eine Rundung erfolgt. Außerdem werden von links drei Leerzeichen an die Zahl bei der Ausgabe angefügt.\n",
    "\n",
    "Der erste Platzhalter \"%5d\" dient als Beschreibung für die erste Komponente unseres Tupels, d.h. die Ganzzahl (integer) 453. Diese Zahl soll mit 5 Zeichen ausgedruckt werden. Da 453 aber nur aus 3 Stellen besteht, werden der Zahl in der Ausgabe zwei Leerzeichen vorangestellt. Viele werden statt \"%5d\" einen Platzhalter der Art \"%5i\" erwartet haben, da es sich ja um eine Integer-Zahl handelt. Worin besteht der Unterschied? Ganz einfach: Es gibt keinen Unterschied zwischen \"d\" und \"i\". Beide werden zur Formatierung von Integers genutzt.\n",
    "\n",
    "Die Vorteile bzw. die Schönheit der formatierten Ausgabe kann man nur ermessen, wenn man mehrere gleichermaßen formatierte Ausgaben ausgibt. Im folgenden Beispiel zeigen wir, wie es aussieht, wenn wir 5 Fließzahlen (floats) gleich formatiert mit dem Platzhalter \"%6.2f\" in verschiedenen Zeilen ausgeben:\n",
    "\n",
    "\n",
    "<img   src=\"../images/formatting_floats.webp\" srcset=\"../images/formatting_floats_800w.webp 800w,../images/formatting_floats_700w.webp 700w,../images/formatting_floats_600w.webp 600w,../images/formatting_floats_500w.webp 500w,../images/formatting_floats_400w.webp 400w,../images/formatting_floats_350w.webp 350w,../images/formatting_floats_300w.webp 300w\"  width=\"450\" alt=\"Formatierte Floatzahlen in verschiedenen Zeilen\" />"
   ]
  },
  {
   "cell_type": "markdown",
   "metadata": {},
   "source": [
    "<table cellpadding=\"6\" cellspacing=\"0\" border=\"1\" bgcolor=\"#F5F5F5\">\n",
    "  <thead>\n",
    "    <tr>\n",
    "      <th>Platzhaltersymbol</th>\n",
    "      <th>Bedeutung</th>\n",
    "      </tr>\n",
    "    </thead>\n",
    "  <tbody>\n",
    "    <tr><td valign=\"baseline\"><tt>d</tt></td>\n",
    "        <td>Vorzeichenbehaftete Ganzzahl (Integer, dezimal).</td>\n",
    "        </tr>\n",
    "    <tr><td valign=\"baseline\"><tt>i</tt></td>\n",
    "        <td>Vorzeichenbehaftete Ganzzahl (Integer, dezimal).</td>\n",
    "        </tr>\n",
    "    <tr><td valign=\"baseline\"><tt>o</tt></td>\n",
    "        <td>vorzeichenlose Ganzzahlen (oktal)</td>\n",
    "        </tr>\n",
    "    <tr><td valign=\"baseline\"><tt>u</tt></td>\n",
    "        <td>vorzeichenlose Ganzzahlen (dezimal)</td>\n",
    "        </tr>\n",
    "    <tr><td valign=\"baseline\"><tt>x</tt></td>\n",
    "        <td>vorzeichenlose Ganzzahlen (hexadezimal)</td>\n",
    "        </tr>\n",
    "    <tr><td valign=\"baseline\"><tt>X</tt></td>\n",
    "        <td>vorzeichenlose Ganzzahlen (hexadezimal), Uppercase</td>\n",
    "        </tr>\n",
    "    <tr><td valign=\"baseline\"><tt>e</tt></td>\n",
    "        <td>Fließkommazahl im Exponentialformat (in Kleinbuchstaben).</td>\n",
    "        </tr>\n",
    "    <tr><td valign=\"baseline\"><tt>E</tt></td>\n",
    "        <td>Fließkommazahl im Exponentialformat (in Großbuchstaben).</td>\n",
    "        </tr>\n",
    "    <tr><td valign=\"baseline\"><tt>f</tt></td>\n",
    "        <td>wie e</td>\n",
    "        </tr>\n",
    "    <tr><td valign=\"baseline\"><tt>F</tt></td>\n",
    "        <td>wie E</td>\n",
    "        </tr>\n",
    "    <tr><td valign=\"baseline\"><tt>g</tt></td>\n",
    "        <td>Wie \"<tt>e</tt>\", wenn der Exponent größer ist als -4 oder\n",
    "              oder kleiner als die Präzision. Ansonsten wie \"<tt>f</tt>\"</td>\n",
    "        </tr>\n",
    "    <tr><td valign=\"baseline\"><tt>G</tt></td>\n",
    "        <td>wie \"<tt>E</tt>\" und analog zu \"<tt>g</tt>\"</td>\n",
    "        </tr>\n",
    "    <tr><td valign=\"baseline\"><tt>c</tt></td>\n",
    "        <td>ein Zeichen</td>\n",
    "        </tr>\n",
    "    <tr><td valign=\"baseline\"><tt>s</tt></td>\n",
    "        <td>Eine Zeichenkette (String); beliebige Python-Objekte werden in String mittels der Methode <tt>str()</tt>) gewandelt.</td>\n",
    "        </tr>\n",
    "    <tr><td valign=\"baseline\"><tt>r</tt></td>\n",
    "        <td>siehe <tt>s</tt></td>\n",
    "        </tr>\n",
    "    <tr><td valign=\"baseline\"><tt>%</tt></td>\n",
    "        <td>Es findet keine Argument-Konvertierung statt, es wird ein \"<tt>%</tt>\"-Zeichen ausgegeben.</td>\n",
    "        </tbody>\n",
    "</table>"
   ]
  },
  {
   "cell_type": "markdown",
   "metadata": {},
   "source": [
    "Die folgenden Beispiele zeigen einige exemplarische Anwendungen der Konvertierungsmöglichkeiten der vorigen Tabelle:"
   ]
  },
  {
   "cell_type": "code",
   "execution_count": 67,
   "metadata": {},
   "outputs": [
    {
     "name": "stdout",
     "output_type": "stream",
     "text": [
      " 3.561e+02\n"
     ]
    }
   ],
   "source": [
    "print(\"%10.3e\"% (356.08977))"
   ]
  },
  {
   "cell_type": "code",
   "execution_count": 68,
   "metadata": {},
   "outputs": [
    {
     "name": "stdout",
     "output_type": "stream",
     "text": [
      " 3.561E+02\n"
     ]
    }
   ],
   "source": [
    "print(\"%10.3E\"% (356.08977))"
   ]
  },
  {
   "cell_type": "code",
   "execution_count": 69,
   "metadata": {},
   "outputs": [
    {
     "name": "stdout",
     "output_type": "stream",
     "text": [
      "        31\n"
     ]
    }
   ],
   "source": [
    "print(\"%10o\"% (25))"
   ]
  },
  {
   "cell_type": "code",
   "execution_count": 70,
   "metadata": {},
   "outputs": [
    {
     "name": "stdout",
     "output_type": "stream",
     "text": [
      "       031\n"
     ]
    }
   ],
   "source": [
    "print(\"%10.3o\"% (25))"
   ]
  },
  {
   "cell_type": "code",
   "execution_count": 71,
   "metadata": {},
   "outputs": [
    {
     "name": "stdout",
     "output_type": "stream",
     "text": [
      "     00031\n"
     ]
    }
   ],
   "source": [
    "print(\"%10.5o\"% (25))"
   ]
  },
  {
   "cell_type": "code",
   "execution_count": 72,
   "metadata": {},
   "outputs": [
    {
     "name": "stdout",
     "output_type": "stream",
     "text": [
      "   2f\n"
     ]
    }
   ],
   "source": [
    "print(\"%5x\"% (47))"
   ]
  },
  {
   "cell_type": "code",
   "execution_count": 73,
   "metadata": {},
   "outputs": [
    {
     "name": "stdout",
     "output_type": "stream",
     "text": [
      " 002f\n"
     ]
    }
   ],
   "source": [
    "print(\"%5.4x\"% (47))"
   ]
  },
  {
   "cell_type": "code",
   "execution_count": 74,
   "metadata": {},
   "outputs": [
    {
     "name": "stdout",
     "output_type": "stream",
     "text": [
      " 002F\n"
     ]
    }
   ],
   "source": [
    "print(\"%5.4X\"% (47))"
   ]
  },
  {
   "cell_type": "code",
   "execution_count": 75,
   "metadata": {},
   "outputs": [
    {
     "name": "stdout",
     "output_type": "stream",
     "text": [
      "Ein Prozentzeichen: % \n"
     ]
    }
   ],
   "source": [
    "print(\"Ein Prozentzeichen: %% \" % ())"
   ]
  },
  {
   "cell_type": "markdown",
   "metadata": {},
   "source": [
    "<table cellpadding=\"6\" cellspacing=\"0\" border=\"1\" bgcolor=\"#F5F5F5\">\n",
    "  <thead>\n",
    "    <tr>\n",
    "      <th>Flag</th>\n",
    "      <th>Bedeutung</th>\n",
    "      </tr>\n",
    "    </thead>\n",
    "  <tbody>\n",
    "    <tr><td valign=\"baseline\"><tt>#</tt></td>\n",
    "        <td>Wird dieses Zeichen mit o, x oder X benutzt, wird der jeweilige Wert mit dem entsprechenden folgenden Präfix: 0, 0o, 0O, 0x oder 0X\n",
    "</td></tr>\n",
    "    <tr><td valign=\"baseline\"><tt>0</tt></td>\n",
    "        <td>Das Ergebnis der Umwandlung wird mit Nullen aufgefüllt.</td></tr>\n",
    "    <tr><td valign=\"baseline\"><tt>-</tt></td>\n",
    "        <td>Das Ergebnis der Umwandlung wird linksbündig ausgegeben.</td></tr>\n",
    "    <tr><td valign=\"baseline\"><tt>&nbsp;</tt></td>\n",
    "        <td>Falls kein Vorzeichen (beispielsweise ein Minuszeichen) ausgegeben wird, wird ein Leerzeichen vor den Wert gesetzt.</td></tr>\n",
    "    <tr><td valign=\"baseline\"><tt>+</tt></td>\n",
    "        <td>Das Ergebnis der Umwandlung wird mit einem Vorzeichen versehen (\"<tt>+</tt>\" oder \"<tt>-</tt>\"). Dieses Flag überschreibt ein \"space\"-Flag).</td></tr></tbody>\n",
    "</table>"
   ]
  },
  {
   "cell_type": "markdown",
   "metadata": {},
   "source": [
    "Beispiele:"
   ]
  },
  {
   "cell_type": "code",
   "execution_count": 76,
   "metadata": {},
   "outputs": [
    {
     "name": "stdout",
     "output_type": "stream",
     "text": [
      " 0X2F\n"
     ]
    }
   ],
   "source": [
    "print(\"%#5X\"% (47))"
   ]
  },
  {
   "cell_type": "code",
   "execution_count": 77,
   "metadata": {},
   "outputs": [
    {
     "name": "stdout",
     "output_type": "stream",
     "text": [
      "   2F\n"
     ]
    }
   ],
   "source": [
    "print(\"%5X\"% (47))"
   ]
  },
  {
   "cell_type": "code",
   "execution_count": 78,
   "metadata": {},
   "outputs": [
    {
     "name": "stdout",
     "output_type": "stream",
     "text": [
      "0X002F\n"
     ]
    }
   ],
   "source": [
    "print(\"%#5.4X\"% (47))"
   ]
  },
  {
   "cell_type": "code",
   "execution_count": 79,
   "metadata": {},
   "outputs": [
    {
     "name": "stdout",
     "output_type": "stream",
     "text": [
      " 0o31\n"
     ]
    }
   ],
   "source": [
    "print(\"%#5o\"% (25))"
   ]
  },
  {
   "cell_type": "code",
   "execution_count": 80,
   "metadata": {},
   "outputs": [
    {
     "name": "stdout",
     "output_type": "stream",
     "text": [
      "+42\n"
     ]
    }
   ],
   "source": [
    "print(\"%+d\"% (42))"
   ]
  },
  {
   "cell_type": "code",
   "execution_count": 81,
   "metadata": {},
   "outputs": [
    {
     "name": "stdout",
     "output_type": "stream",
     "text": [
      " 42\n"
     ]
    }
   ],
   "source": [
    "print(\"% d\"% (42))"
   ]
  },
  {
   "cell_type": "code",
   "execution_count": 82,
   "metadata": {},
   "outputs": [
    {
     "name": "stdout",
     "output_type": "stream",
     "text": [
      "+42\n"
     ]
    }
   ],
   "source": [
    "print(\"%+2d\"% (42))"
   ]
  },
  {
   "cell_type": "code",
   "execution_count": 83,
   "metadata": {},
   "outputs": [
    {
     "name": "stdout",
     "output_type": "stream",
     "text": [
      " 42\n"
     ]
    }
   ],
   "source": [
    "print(\"% 2d\"% (42))"
   ]
  },
  {
   "cell_type": "code",
   "execution_count": 84,
   "metadata": {},
   "outputs": [
    {
     "name": "stdout",
     "output_type": "stream",
     "text": [
      "42\n"
     ]
    }
   ],
   "source": [
    "print(\"%2d\"% (42))"
   ]
  },
  {
   "cell_type": "markdown",
   "metadata": {},
   "source": [
    "Obwohl es so ausschauen mag, ist die Formatierung nicht Teil der Print-Funktion. Schaut man sich die vorigen Beispiele genauer an, sieht man, dass wir einen formatierten String an die Print-Funktion übergeben haben. Oder anders ausgedrückt: Wenn die String-Interpolation auf einen String angewendet wird, liefert sie einen String zurück. Dieser String wird dann an print übergeben. Dies bedeutet wiederum, dass wir die String-Interpolation auch hätten \"zweistufig\" anwenden können, d.h. wir hätten erst einen formatierten String erzeugt, diesen einer Variablen zugewiesen und diese Variable dann an print übergeben:"
   ]
  },
  {
   "cell_type": "code",
   "execution_count": 85,
   "metadata": {},
   "outputs": [
    {
     "name": "stdout",
     "output_type": "stream",
     "text": [
      "Preis: $   356.09\n"
     ]
    }
   ],
   "source": [
    "s = \"Preis: $ %8.2f\"% (356.08977)\n",
    "print(s)"
   ]
  },
  {
   "cell_type": "markdown",
   "metadata": {},
   "source": [
    "### Der alte pythonische Weg: Die String-Methode \"format\"\n",
    "\n",
    "Was die String-Methode format betrifft, ist die help-Funktion von Python nicht sehr hilfreich. Alles was sie uns sagt, ist dieses:\n",
    "\n",
    " |  format(...)\n",
    " <br>\n",
    " |      S.format(*args, **kwargs) -> str\n",
    " <br>\n",
    " |      \n",
    " <br>\n",
    " |      Return a formatted version of S, using substitutions from args and kwargs.\n",
    " <br>\n",
    " |      The substitutions are identified by braces ('{' and '}').\n",
    " <br>\n",
    " |  "
   ]
  },
  {
   "cell_type": "markdown",
   "metadata": {},
   "source": [
    "Die String-Methode \"format\" wurde mit Python 2.6 als Ersatz für die String-Interpolation eingeführt.\n",
    "\n",
    "Ganz allgemein sieht \"format\" wie folgt aus:\n",
    "\n",
    "<pre>\n",
    "template.format(p0, p1, ..., k0=v0, k1=v1, ...)\n",
    "</pre>\n",
    "\n",
    "Der Format-String ist ein String, der ein oder mehrere Format-Codes innerhalb eines konstanten Textes enthält, d.h. Felder, die ersetzt werden sollen. Die zu \"ersetzenden Felder\" sind von geschweiften Klammern umgeben. Eine geschweifte Klammer und der von ihr umschlossene \"Code\" wird mit dem formatierten Wert aus dem korrespondierenden Argument ersetzt. Nach welchen Regeln dies zu erfolgen hat, werden wir im folgenden erläutern. Alles andere, was nicht von geschweiften Klammern umschlossen ist, wird wörtlich, also ohne Änderungen, ausgedruckt. Möchte man eine öffnende oder eine schließende geschweifte Klammer ausgeben, muss man diese verdoppeln, also \"{{\" oder \"}}\".\n",
    "\n",
    "Es gibt zwei Arten von Argumenten für die format-Methode. Die Argumentenliste startet mit 0 oder mehr Positionsargumenten (p0, p1, ...), die von 0 oder mehr Schlüsselwortargumenten der Form name=value gefolgt werden können.\n",
    "\n",
    "Ein Positionsparameter der format-Methode kann benutzt werden, indem man den Index des Parameters nach öffnenden geschweiften Klammer angibt, d.h. {0} für den ersten Parameter, {1} für den zweiten und so weiter. Der Index des Positionsparameter nach der öffnenden geschweiften Klammer kann von einem Doppelpunkt und einem Formatstring gefolgt werden, der dem des String-Interpolationsparameters ähnelt, den wir zu Beginn des Kapitels besprochen hatten, also zum Beispiel {0:5d}\n",
    "Falls die Positionsparameter in der Reihenfolge benutzt werden, in der sie in der Parameterliste stehen, kann die Angabe des Indexes innerhalb der geschweiften Klammern entfallen, d.h. '{} {} {}' entspricht '{0} {1} {2}'. Um es nochmals klar zu stellen: Will man sie in einer anderen Reihenfolge benutzen, sind die Angaben der Indexpositionen dringend notwendig, wie z.B. hier '{2} {1} {0}'\n",
    "\n",
    "Im folgenden Diagramm zeigen wir anhand eines Beispieles wie die Stringmethode \"format\" für zwei Parameter funktioniert:"
   ]
  },
  {
   "cell_type": "markdown",
   "metadata": {},
   "source": [
    "<img src=\"../images/format_method_positional_parameters.webp\" height=\"190\" alt=\"Allgemeine Arbeitsweise der Stringmethode format für zwei Positionsparameter\" />\n",
    "\n",
    "Beispiele mit Positionsparametern:"
   ]
  },
  {
   "cell_type": "code",
   "execution_count": 86,
   "metadata": {},
   "outputs": [
    {
     "data": {
      "text/plain": [
       "'Erstes Argument: 47, zweites: 11'"
      ]
     },
     "execution_count": 86,
     "metadata": {},
     "output_type": "execute_result"
    }
   ],
   "source": [
    "\"Erstes Argument: {0}, zweites: {1}\".format(47,11) "
   ]
  },
  {
   "cell_type": "code",
   "execution_count": 87,
   "metadata": {},
   "outputs": [
    {
     "data": {
      "text/plain": [
       "'Zweites Argument: 11, erstes: 47'"
      ]
     },
     "execution_count": 87,
     "metadata": {},
     "output_type": "execute_result"
    }
   ],
   "source": [
    "\"Zweites Argument: {1}, erstes: {0}\".format(47,11) "
   ]
  },
  {
   "cell_type": "code",
   "execution_count": 88,
   "metadata": {},
   "outputs": [
    {
     "data": {
      "text/plain": [
       "'Zweites Argument:  11, erstes:   47.42'"
      ]
     },
     "execution_count": 88,
     "metadata": {},
     "output_type": "execute_result"
    }
   ],
   "source": [
    "\"Zweites Argument: {1:3d}, erstes: {0:7.2f}\".format(47.42,11) "
   ]
  },
  {
   "cell_type": "code",
   "execution_count": 89,
   "metadata": {},
   "outputs": [
    {
     "data": {
      "text/plain": [
       "'Erstes Argument: 47, zweites: 11'"
      ]
     },
     "execution_count": 89,
     "metadata": {},
     "output_type": "execute_result"
    }
   ],
   "source": [
    "\"Erstes Argument: {}, zweites: {}\".format(47,11) \n",
    "\n",
    "# Argumente können auch mehrmals verwendet werden:"
   ]
  },
  {
   "cell_type": "code",
   "execution_count": 90,
   "metadata": {},
   "outputs": [
    {
     "data": {
      "text/plain": [
       "'precisions:   1.41 or  1.415'"
      ]
     },
     "execution_count": 90,
     "metadata": {},
     "output_type": "execute_result"
    }
   ],
   "source": [
    "\"precisions: {0:6.2f} or {0:6.3f}\".format(1.4148) "
   ]
  },
  {
   "cell_type": "markdown",
   "metadata": {},
   "source": [
    "Im folgenden Beispiel demonstrieren wir, wie Schlüsselwortparameter mit der format-Methode benutzt werden können:"
   ]
  },
  {
   "cell_type": "code",
   "execution_count": 91,
   "metadata": {},
   "outputs": [
    {
     "data": {
      "text/plain": [
       "'Artikel:   453,  Preis:    59.06'"
      ]
     },
     "execution_count": 91,
     "metadata": {},
     "output_type": "execute_result"
    }
   ],
   "source": [
    "\"Artikel: {a:5d},  Preis: {p:8.2f}\".format(a=453, p=59.058)"
   ]
  },
  {
   "cell_type": "markdown",
   "metadata": {},
   "source": [
    "<img src=\"../images/format_method_keyword_parameters.webp\" height=\"190\" alt=\"Allgemeine Arbeitsweise der Stringmethode format für zwei Schlüsselwortparameter\" />\n",
    "\n",
    "\n",
    "Mit der format-Methode ist es auch möglich Daten links- und rechtsbündig auszugeben. Dazu müssen wir der Formatierungsanweisung ein \"<\" (linksbündig) oder ein \">\" (rechtsbündig) voranstellen. Wir demonstrieren dies an den folgenden Beispielausgaben:"
   ]
  },
  {
   "cell_type": "code",
   "execution_count": 92,
   "metadata": {},
   "outputs": [
    {
     "data": {
      "text/plain": [
       "'Spam & Eggs:           6.99'"
      ]
     },
     "execution_count": 92,
     "metadata": {},
     "output_type": "execute_result"
    }
   ],
   "source": [
    "\"{0:<20s} {1:6.2f}\".format('Spam & Eggs:', 6.99)"
   ]
  },
  {
   "cell_type": "code",
   "execution_count": 93,
   "metadata": {},
   "outputs": [
    {
     "data": {
      "text/plain": [
       "'         Spam & Ham:   7.99'"
      ]
     },
     "execution_count": 93,
     "metadata": {},
     "output_type": "execute_result"
    }
   ],
   "source": [
    "\"{0:>20s} {1:6.2f}\".format('Spam & Ham:', 7.99)"
   ]
  },
  {
   "cell_type": "code",
   "execution_count": 94,
   "metadata": {},
   "outputs": [
    {
     "data": {
      "text/plain": [
       "'Spam                   0.00'"
      ]
     },
     "execution_count": 94,
     "metadata": {},
     "output_type": "execute_result"
    }
   ],
   "source": [
    "\"{0:<20} {1:6.2f}\".format('Spam ', 0)"
   ]
  },
  {
   "cell_type": "markdown",
   "metadata": {},
   "source": [
    "If the width field is preceded by a zero ('0') character,  \n",
    "sign-aware zero-padding for numeric types will be enabled."
   ]
  },
  {
   "cell_type": "code",
   "execution_count": 95,
   "metadata": {},
   "outputs": [
    {
     "name": "stdout",
     "output_type": "stream",
     "text": [
      "The value is 000378\n"
     ]
    }
   ],
   "source": [
    "x = 378\n",
    "print(\"The value is {0:06d}\".format(x))"
   ]
  },
  {
   "cell_type": "code",
   "execution_count": 96,
   "metadata": {},
   "outputs": [
    {
     "name": "stdout",
     "output_type": "stream",
     "text": [
      "The value is -00378\n"
     ]
    }
   ],
   "source": [
    "x = -378\n",
    "print(\"The value is {0:06d}\".format(x))"
   ]
  },
  {
   "cell_type": "code",
   "execution_count": 97,
   "metadata": {},
   "outputs": [
    {
     "data": {
      "text/plain": [
       "'         Spam & Ham:   7.99'"
      ]
     },
     "execution_count": 97,
     "metadata": {},
     "output_type": "execute_result"
    }
   ],
   "source": [
    "\"{0:>20} {1:6.2f}\".format('Spam & Ham:', 7.99)"
   ]
  },
  {
   "cell_type": "markdown",
   "metadata": {},
   "source": [
    "<table  cellpadding=\"6\" cellspacing=\"0\" border=\"1\" bgcolor=\"#F5F5F5\">\n",
    "<colgroup>\n",
    "<col width=\"14%\" />\n",
    "<col width=\"88%\" />\n",
    "</colgroup>\n",
    "<thead valign=\"bottom\">\n",
    "<tr><th class=\"head\">Ausrichtungs-Option</th>\n",
    "<th class=\"head\">Bedeutung</th>\n",
    "</tr>\n",
    "</thead>\n",
    "<tbody valign=\"top\">\n",
    "<tr><td><tt><span class=\"pre\">'&lt;'</span></tt></td>\n",
    "<td>Das Feld wird linksbündig innerhalb des vorhandenen Raumes ausgegeben. Strings werden standardmäßig linksbündig ausgegeben.</td>\n",
    "</tr>\n",
    "<tr><td><tt><span class=\"pre\">'&gt;'</span></tt></td>\n",
    "<td>Das Feld wird rechtsbündig innerhalb des vorhandenen Raumes ausgegeben. Numerische Werte werden standardmäßig rechtsbündig ausgegeben.</td>\n",
    "</tr>\n",
    "\n",
    "<tr><td><tt><span class=\"pre\">'0'</span></tt></td>\n",
    "<td>Wenn man das Formatfeld mit einer führenden Null ('0') versieht, erfolgt ein \n",
    "Auffüllen mit Nullen unter Beachtung eines möglichen Vorzeichens.\n",
    "<pre>\n",
    "x = 378\n",
    "print(\"The value is {0:06d}\".format(x))\n",
    "The value is 000378\n",
    "x = -378\n",
    "print(\"The value is {0:06d}\".format(x))\n",
    "The value is -00378\n",
    "</pre>\n",
    "</td>\n",
    "</tr>\n",
    "<tr><td><tt><span class=\"pre\">','</span></tt></td>\n",
    "<td>Mit dieser Option erhält man Tausender Gruppierungen, die mit Komma getrennt sind: \n",
    "<pre>\n",
    "print(\"The value is {:,}\".format(x))\n",
    "The value is 78,962,324,245\n",
    "print(\"The value is {0:6,d}\".format(x))\n",
    "The value is 5,897,653,423\n",
    "x = 5897653423.89676\n",
    "print(\"The value is {0:12,.3f}\".format(x))\n",
    "The value is 5,897,653,423.897\n",
    "</pre>\n",
    "</td>\n",
    "</tr>\n",
    "\n",
    "\n",
    "<tr><td><tt><span class=\"pre\">'='</span></tt></td>\n",
    "<td>Die Auffüllzeichen (padding characters) werden zwischen Vorzeichen, falls ein Vorzeichen ausgegeben wird und dem eigentlichen Beginn der Ziffern einer Zahl eingeführt. Damit können Felder der Art \"+000000120\" ausgegeben werden. Diese Ausrichtungsoption kann nur auf numerische Werte angewendet werden.</td>\n",
    "</tr>\n",
    "<tr><td><tt><span class=\"pre\">'^'</span></tt></td>\n",
    "<td>Ein Feld wird zentriert innerhalb des zur Verfügung stehenden Raumes ausgegeben.</td>\n",
    "</tr>\n",
    "</tbody>\n",
    "</table>"
   ]
  },
  {
   "cell_type": "markdown",
   "metadata": {},
   "source": [
    "Wenn keine minimale Feldlänge angegeben wird, entspricht die Feldlänge immer der Länge der Daten, die ein Feld enthält. In diesen Fällen haben die Ausrichtungsoptionen keine Bedeutung.\n",
    "\n",
    "Zusätzlich können wir noch die Ausgabe mittels der sign-Option beeinflussen. Diese Optionen sind nur für numerische Werte gültig:"
   ]
  },
  {
   "cell_type": "markdown",
   "metadata": {},
   "source": [
    "<table cellpadding=\"6\" cellspacing=\"0\" border=\"1\" bgcolor=\"#F5F5F5\">\n",
    "<colgroup>\n",
    "<col width=\"14%\" />\n",
    "<col width=\"88%\" />\n",
    "</colgroup>\n",
    "<thead valign=\"bottom\">\n",
    "<tr><th class=\"head\">sign-Option</th>\n",
    "<th class=\"head\">Bedeutung</th>\n",
    "</tr>\n",
    "</thead>\n",
    "<tbody valign=\"top\">\n",
    "<tr><td><tt><span class=\"pre\">'+'</span></tt></td>\n",
    "<td>Es soll immer ein Vorzeichen ausgegeben werden, also unabhängig davon, ob es sich um eine positive oder negative Zahl handelt.</td>\n",
    "</tr>\n",
    "<tr><td><tt><span class=\"pre\">'-'</span></tt></td>\n",
    "<td>Ein Vorzeichen soll nur bei negativen Zahlen verwendet werden.</td>\n",
    "</tr>\n",
    "<tr><td>space</td>\n",
    "<td>Statt eines \"+\"-Zeichens wird bei positiven Zahlen ein Leerzeichen \" \" vorangestellt. Bei negativen Zahlen ein Minus-Zeichen \"-\".</td>\n",
    "</tr>\n",
    "</tbody>\n",
    "</table>"
   ]
  },
  {
   "cell_type": "markdown",
   "metadata": {},
   "source": [
    "### Benutzung von Dictionaries beim Aufruf der \"format\"-Methode\n",
    "In den vorigen Kapitel haben wir gesehen, dass wir zwei Möglichkeiten haben Werte mit \"format\" zu formatieren:\n",
    "\n",
    "- Benutzung des Index bzw. der Position des Argumentes:\n"
   ]
  },
  {
   "cell_type": "code",
   "execution_count": 98,
   "metadata": {},
   "outputs": [
    {
     "name": "stdout",
     "output_type": "stream",
     "text": [
      "Die Hauptstadt von Ontario ist Toronto\n"
     ]
    }
   ],
   "source": [
    "print(\"Die Hauptstadt von {0:s} ist {1:s}\".format(\"Ontario\",\"Toronto\"))"
   ]
  },
  {
   "cell_type": "markdown",
   "metadata": {},
   "source": [
    "Um es nochmals zu erwähnen: Im vorigen Beispiel hätten wir auch geschweifte Klammern mit leeren Inhalt benutzen können!\n",
    "- Benutzung von Schlüsselwort-Parametern:"
   ]
  },
  {
   "cell_type": "code",
   "execution_count": 99,
   "metadata": {},
   "outputs": [
    {
     "name": "stdout",
     "output_type": "stream",
     "text": [
      "Die Hauptstadt von Ontario ist Toronto\n"
     ]
    }
   ],
   "source": [
    "print(\"Die Hauptstadt von {province} ist {capital}\".format(province=\"Ontario\",capital=\"Toronto\"))    "
   ]
  },
  {
   "cell_type": "markdown",
   "metadata": {},
   "source": [
    "Im zweiten Fall könnten wir auch ein Dictionary verwenden, wie wir im folgenden Code sehen können:"
   ]
  },
  {
   "cell_type": "code",
   "execution_count": 100,
   "metadata": {},
   "outputs": [
    {
     "data": {
      "text/plain": [
       "{'province': 'Ontario', 'capital': 'Toronto'}"
      ]
     },
     "execution_count": 100,
     "metadata": {},
     "output_type": "execute_result"
    }
   ],
   "source": [
    "data = dict(province=\"Ontario\",capital=\"Toronto\")\n",
    "data"
   ]
  },
  {
   "cell_type": "code",
   "execution_count": 101,
   "metadata": {},
   "outputs": [
    {
     "name": "stdout",
     "output_type": "stream",
     "text": [
      "The capital of Ontario is Toronto\n"
     ]
    }
   ],
   "source": [
    "print(\"The capital of {province} is {capital}\".format(**data))"
   ]
  },
  {
   "cell_type": "markdown",
   "metadata": {},
   "source": [
    "Das doppelte Sternchen (\"*\") vor data wandelt data automatisch in die Form 'province=\"Ontario\",capital=\"Toronto\"'. Schauen wir uns das folgende Python-Programm an:"
   ]
  },
  {
   "cell_type": "code",
   "execution_count": 102,
   "metadata": {},
   "outputs": [
    {
     "name": "stdout",
     "output_type": "stream",
     "text": [
      "Länder und Ihre Hauptstädte:\n",
      "Vereinigte Staaten: Washington\n",
      "US: Washington\n",
      "Kanada: Ottawa\n",
      "Deutschland: Berlin\n",
      "Frankreich: Paris\n",
      "England: London\n",
      "Großbritannien: London\n",
      "Schweiz: Bern\n",
      "Österreich: Wien\n",
      "Niederlande: Amsterdam\n"
     ]
    }
   ],
   "source": [
    "capital_country = {\"Vereinigte Staaten\" : \"Washington\", \n",
    "                   \"US\" : \"Washington\", \n",
    "                   \"Kanada\" : \"Ottawa\",\n",
    "                   \"Deutschland\": \"Berlin\",\n",
    "                   \"Frankreich\" : \"Paris\",\n",
    "                   \"England\" : \"London\",\n",
    "                   \"Großbritannien\" : \"London\",\n",
    "                   \"Schweiz\" : \"Bern\",\n",
    "                   \"Österreich\" : \"Wien\",\n",
    "                   \"Niederlande\" : \"Amsterdam\"}\n",
    "\n",
    "print(\"Länder und Ihre Hauptstädte:\")\n",
    "for c in capital_country:\n",
    "    print(\"{country}: {capital}\".format(country=c, capital=capital_country[c]))    "
   ]
  },
  {
   "cell_type": "markdown",
   "metadata": {},
   "source": [
    "Das vorige Programm können wir so umschreiben, dass im Aufruf der format-Methode das Dictionary direkt verwendet wird."
   ]
  },
  {
   "cell_type": "code",
   "execution_count": 103,
   "metadata": {},
   "outputs": [
    {
     "name": "stdout",
     "output_type": "stream",
     "text": [
      "Countries and their capitals:\n",
      "Vereinigte Staaten: Washington\n",
      "US: Washington\n",
      "Kanada: Ottawa\n",
      "Deutschland: Berlin\n",
      "Frankreich: Paris\n",
      "England: London\n",
      "Großbritannien: London\n",
      "Schweiz: Bern\n",
      "Österreich: Wien\n",
      "Niederlande: Amsterdam\n"
     ]
    }
   ],
   "source": [
    "capital_country = {\"Vereinigte Staaten\" : \"Washington\", \n",
    "                   \"US\" : \"Washington\", \n",
    "                   \"Kanada\" : \"Ottawa\",\n",
    "                   \"Deutschland\": \"Berlin\",\n",
    "                   \"Frankreich\" : \"Paris\",\n",
    "                   \"England\" : \"London\",\n",
    "                   \"Großbritannien\" : \"London\",\n",
    "                   \"Schweiz\" : \"Bern\",\n",
    "                   \"Österreich\" : \"Wien\",\n",
    "                   \"Niederlande\" : \"Amsterdam\"}\n",
    "\n",
    "print(\"Countries and their capitals:\")\n",
    "for c in capital_country:\n",
    "    format_string = c + \": {\" + c + \"}\" \n",
    "    print(format_string.format(**capital_country))"
   ]
  },
  {
   "cell_type": "markdown",
   "metadata": {},
   "source": [
    "Der Ausdruck ist gleich wie beim ersten Programm.\n",
    "\n",
    "### Benutzung von lokalen Variablen in \"format\"\n",
    "\"locals\" ist eine Funktion, die ein Dictionary mit den lokal definierten Namen und ihren aktuellen Werten zurückliefert. Die Variablen sind die Schlüssel dieses Dictionary und die Werte zu den Schlüsseln entsprechen den Werten der Variablen:"
   ]
  },
  {
   "cell_type": "code",
   "execution_count": 104,
   "metadata": {},
   "outputs": [
    {
     "data": {
      "text/plain": [
       "{'__name__': '__main__',\n",
       " '__doc__': 'Automatically created module for IPython interactive environment',\n",
       " '__package__': None,\n",
       " '__loader__': None,\n",
       " '__spec__': None,\n",
       " '__builtin__': <module 'builtins' (built-in)>,\n",
       " '__builtins__': <module 'builtins' (built-in)>,\n",
       " '_ih': ['',\n",
       "  'Formatierte Stringliterale oder f-strings wurden ab Python 3.6 eingeführt. Syntax ist sehr einfach und flexibel. Ein Beispiel ist:',\n",
       "  'name,alter =\"Jonas\",19\\nf\"Mein Freund {Jonas} ist {alter} Jahre alt\"',\n",
       "  'name,alter =\"Jonas\",19\\nf\"Mein Freund {name} ist {alter} Jahre alt\"',\n",
       "  'name,alter =\"Jonas\",19\\nf\"Mein Freund {name} ist {alter} Jahre alt\"\\nprint(f\"Mein Freund {name} ist {alter} Jahre alt\")',\n",
       "  'name,alter =\"Jonas\",19\\nf\"Mein Freund {name} ist {alter} Jahre alt\"',\n",
       "  'name,alter =\"Jonas\",19\\nf\"Mein Freund {name} ist {alter} Jahre alt\"\\nprint(f\"Mein Freund {name} ist {alter} Jahre alt\")',\n",
       "  'name,alter=\"Jonas\",23\\nname2,alter2=\"Kartl\",32\\nf\"{name} ist {abs(alter-alter2)} Jahre {\"jünger\" if alter-alter2<0 else \"älter\"} als {name2}.\"',\n",
       "  'name,alter=\"Jonas\",23\\nname2,alter2=\"Kartl\",32\\nf\"{name} ist {abs(alter-alter2)} Jahre {\\'jünger\\' if alter-alter2<0 else \\'älter\\'\\'} als {name2}.\"',\n",
       "  'name,alter=\"Jonas\",23\\nname2,alter2=\"Kartl\",32\\nf\"{name} ist {abs(alter-alter2)} Jahre {\\'jünger\\' if alter-alter2<0 else \\'älter\\'} als {name2}.\"',\n",
       "  'name,alter=\"Jonas\",23\\nname2,alter2=\"Karl\",32\\nf\"{name} ist {abs(alter-alter2)} Jahre {\\'jünger\\' if alter-alter2<0 else \\'älter\\'} als {name2}.\"',\n",
       "  'name,alter=\"Jonas\",33\\nname2,alter2=\"Karl\",32\\nf\"{name} ist {abs(alter-alter2)} Jahre {\\'jünger\\' if alter-alter2<0 else \\'älter\\'} als {name2}.\"',\n",
       "  'name,alter=\"Jonas\",28\\nname2,alter2=\"Karl\",32\\nf\"{name} ist {abs(alter-alter2)} Jahre {\\'jünger\\' if alter-alter2<0 else \\'älter\\'} als {name2}.\"',\n",
       "  'def alt_jung(alter1,alter2):\\n    if alter1<alter2:\\n        return \"jünger\"\\n    else:\\n        return \"älter\"\\nname,alter=\"Jonas\",28\\nname2,alter2=\"Karl\",32\\nf\"{name} ist {alt_jung(alter,alter2)} Jahre {\\'jünger\\' if alter-alter2<0 else \\'älter\\'} als {name2}.\"',\n",
       "  'def alt_jung(alter1,alter2):\\n    if alter1<alter2:\\n        return \"jünger\"\\n    else:\\n        return \"älter\"\\nname,alter=\"Jonas\",28\\nname2,alter2=\"Karl\",32\\nf\"{name} ist {abs(alter-alter2)} Jahre {alt_jung(alter,alter2)} als {name2}.\"',\n",
       "  'def alt_jung(alter1,alter2):\\n    if alter1<alter2:\\n        return \"jünger\"\\n    else:\\n        return \"älter\"\\nname,alter=\"Jonas\",28\\nname2,alter2=\"Karl\",32\\nF\"{name} ist {abs(alter-alter2)} Jahre {alt_jung(alter,alter2)} als {name2}.\"',\n",
       "  'f\"Ein Python dictionary d={{\"a\":1,\"b\":2}}',\n",
       "  'f\"Ein Python dictionary d={{\\\\\"a\\\\\":1,\\'b\\':2}}',\n",
       "  'f\"Ein Python dictionary d={{\\\\\"a\\\\\":1,\\'b\\':2}}\"',\n",
       "  'def alt_jung(alter1,alter2):\\n    if alter1<alter2:\\n        return \"jünger\"\\n    else:\\n        return \"älter\"\\nname,alter=\"Jonas\",28\\nname2,alter2=\"Karl\",32\\nF\"{name} ist {abs(alter-alter2)} Jahre {alt_jung(alter,alter2)} als {name2}.\"',\n",
       "  'name,alter =\"Jonas\",19\\nf\"Mein Freund {name} ist {alter} Jahre alt\"\\nprint(f\"Mein Freund {name} ist {alter} Jahre alt\")',\n",
       "  'name,alter=\"Jonas\",28\\nname2,alter2=\"Karl\",32\\nf\"{name} ist {abs(alter-alter2)} Jahre {\\'jünger\\' if alter-alter2<0 else \\'älter\\'} als {name2}.\"',\n",
       "  'einkäufe=[\\n        (7,\"Packungen Tomaten\", 3.76),\\n        (12, \"Nudeln\", 1.45)\\n        (5,\"Bio Rindfleisch spezial\", 24.20)]',\n",
       "  'einkäufe=[\\n        (7,\"Packungen Tomaten\", 3.76),\\n        (12, \"Nudeln\", 1.45)\\n        (5,\"Bio Rindfleisch spezial\", 24.20),\\n        ]',\n",
       "  'einkäufe=[\\n        (7,\"Packungen Tomaten\", 3.76),\\n        (12, \"Nudeln\", 1.45)\\n        (5,\"Bio Rindfleisch spezial\", 24.20),\\n        ]\\nkurs_euro_sfr=1.08\\nfor anzahl, text, preis in einkäufe:\\n    gesamt= anzahl*preis\\n    gesamt_in_sfr=gesamt*kurs_euro_sfr\\n    print(f\"{anzahl} von {text} in SFR {gesamt_in_sfr})',\n",
       "  'einkäufe=[\\n        (7,\"Packungen Tomaten\", 3.76),\\n        (12, \"Nudeln\", 1.45)\\n        (5,\"Bio Rindfleisch spezial\", 24.20),\\n        ]\\nkurs_euro_sfr=1.08\\nfor anzahl, text, preis in einkäufe:\\n    gesamt= anzahl*preis\\n    gesamt_in_sfr=gesamt*kurs_euro_sfr\\n    print(f\"{anzahl} von {text} in SFR {gesamt_in_sfr}\")',\n",
       "  'einkäufe=[\\n        (7,\"Packungen Tomaten\", 3.76),\\n        (12, \"Nudeln\", 1.45),\\n        (5,\"Bio Rindfleisch spezial\", 24.20),\\n        ]\\nkurs_euro_sfr=1.08\\nfor anzahl, text, preis in einkäufe:\\n    gesamt= anzahl*preis\\n    gesamt_in_sfr=gesamt*kurs_euro_sfr\\n    print(f\"{anzahl} von {text} in SFR {gesamt_in_sfr}\")',\n",
       "  'einkäufe=[\\n        (7,\"Packungen Tomaten\", 3.76),\\n        (12, \"Nudeln\", 1.45),\\n        (5,\"Bio Rindfleisch spezial\", 24.20),\\n        ]\\nkurs_euro_sfr=1.08\\nfor anzahl, text, preis in einkäufe:\\n    gesamt= anzahl*preis\\n    gesamt_in_sfr=gesamt*kurs_euro_sfr\\n    print(f\"{anzahl:i3} von {text:s20} in SFR {gesamt_in_sfr:f5.2}\")',\n",
       "  'einkäufe=[\\n        (7,\"Packungen Tomaten\", 3.76),\\n        (12, \"Nudeln\", 1.45),\\n        (5,\"Bio Rindfleisch spezial\", 24.20),\\n        ]\\nkurs_euro_sfr=1.08\\nfor anzahl, text, preis in einkäufe:\\n    gesamt= anzahl*preis\\n    gesamt_in_sfr=gesamt*kurs_euro_sfr\\n    print(f\"{anzahl:d3} von {text:s20} in SFR {gesamt_in_sfr:f5.2}\")',\n",
       "  'einkäufe=[\\n        (7,\"Packungen Tomaten\", 3.76),\\n        (12, \"Nudeln\", 1.45),\\n        (5,\"Bio Rindfleisch spezial\", 24.20),\\n        ]\\nkurs_euro_sfr=1.08\\nfor anzahl, text, preis in einkäufe:\\n    gesamt= anzahl*preis\\n    gesamt_in_sfr=gesamt*kurs_euro_sfr\\n    print(f\"{anzahl:3d} von {text:20s} in SFR {gesamt_in_sfr:5.2f}\")',\n",
       "  'einkäufe=[\\n        (7,\"Packungen Tomaten\", 3.76),\\n        (12, \"Nudeln\", 1.45),\\n        (5,\"Bio Rindfleisch spezial\", 24.20),\\n        ]\\nkurs_euro_sfr=1.08\\nfor anzahl, text, preis in einkäufe:\\n    gesamt= anzahl*preis\\n    gesamt_in_sfr=gesamt*kurs_euro_sfr\\n    print(f\"{anzahl:3d} von {text:30s} in SFR {gesamt_in_sfr:5.2f}\")',\n",
       "  'einkäufe=[\\n        (7,\"Packungen Tomaten\", 3.76),\\n        (12, \"Nudeln\", 1.45),\\n        (5,\"Bio Rindfleisch spezial\", 24.20),\\n        ]\\nkurs_euro_sfr=1.08\\nfor anzahl, text, preis in einkäufe:\\n    gesamt= anzahl*preis\\n    gesamt_in_sfr=gesamt*kurs_euro_sfr\\n    print(f\"{anzahl:3d} von {text:30s} in SFR {gesamt_in_sfr:5.2E}\")',\n",
       "  'einkäufe=[\\n        (7,\"Packungen Tomaten\", 3.76),\\n        (12, \"Nudeln\", 1.45),\\n        (5,\"Bio Rindfleisch spezial\", 24.20),\\n        ]\\nkurs_euro_sfr=1.08\\nfor anzahl, text, preis in einkäufe:\\n    gesamt= anzahl*preis\\n    gesamt_in_sfr=gesamt*kurs_euro_sfr\\n    print(f\"{anzahl:3d} von {text:30s} in SFR {gesamt_in_sfr:5.2f}\")',\n",
       "  'einkäufe=[\\n        (7,\"Packungen Tomaten\", 3.76),\\n        (12, \"Nudeln\", 1.45),\\n        (5,\"Bio Rindfleisch spezial\", 24.20),\\n        ]\\nkurs_euro_sfr=1.08\\nfor anzahl, text, preis in einkäufe:\\n    gesamt= anzahl*preis\\n    gesamt_in_sfr=gesamt*kurs_euro_sfr\\n    print(f\"{anzahl} von {text} in SFR {gesamt_in_sfr}\")',\n",
       "  'einkäufe=[\\n        (7,\"Packungen Tomaten\", 3.76),\\n        (12, \"Nudeln\", 1.45),\\n        (5,\"Bio Rindfleisch spezial\", 24.20),\\n        ]\\nkurs_euro_sfr=1.08\\nfor anzahl, text, preis in einkäufe:\\n    gesamt= anzahl*preis\\n    gesamt_in_sfr=gesamt*kurs_euro_sfr\\n    print(f\"{anzahl:4d} von {text:25s} in SFR {gesamt_in_sfr:f7.2}\")',\n",
       "  'einkäufe=[\\n        (7,\"Packungen Tomaten\", 3.76),\\n        (12, \"Nudeln\", 1.45),\\n        (5,\"Bio Rindfleisch spezial\", 24.20),\\n        ]\\nkurs_euro_sfr=1.08\\nfor anzahl, text, preis in einkäufe:\\n    gesamt= anzahl*preis\\n    gesamt_in_sfr=gesamt*kurs_euro_sfr\\n    print(f\"{anzahl:4d} von {text:25s} in SFR {gesamt_in_sfr:7.2f}\")',\n",
       "  'einkäufe=[\\n        (7,\"Packungen Tomaten\", 3.76),\\n        (12, \"Nudeln\", 1.45),\\n        (5,\"Bio Rindfleisch spezial\", 24.20),\\n        ]\\nkurs_euro_sfr=1.08\\nfor anzahl, text, preis in einkäufe:\\n    gesamt= anzahl*preis\\n    gesamt_in_sfr=gesamt*kurs_euro_sfr\\n    print(f\"{anzahl:4d} von {text:25s} in SFR {gesamt_in_sfr:5.2f}\")',\n",
       "  'einkäufe=[\\n        (7,\"Packungen Tomaten\", 3.76),\\n        (12, \"Nudeln\", 1.45),\\n        (5,\"Bio Rindfleisch spezial\", 24.20),\\n        ]\\nkurs_euro_sfr=1.08\\nfor anzahl, text, preis in einkäufe:\\n    gesamt= anzahl*preis\\n    gesamt_in_sfr=gesamt*kurs_euro_sfr\\n    print(f\"{anzahl:4d} von {text:25s} in SFR {gesamt_in_sfr:6.2f}\")',\n",
       "  'einkäufe=[\\n        (7,\"Packungen Tomaten\", 3.76),\\n        (12, \"Nudeln\", 1.45),\\n        (5,\"Bio Rindfleisch spezial\", 24.20),\\n        ]\\nkurs_euro_sfr=1.08\\nfor anzahl, text, preis in einkäufe:\\n    gesamt= anzahl*preis\\n    gesamt_in_sfr=gesamt*kurs_euro_sfr\\n    print(f\"{anzahl:4d} von {text:^25s} in SFR {gesamt_in_sfr:6.2f}\")',\n",
       "  'einkäufe=[\\n        (7,\"Packungen Tomaten\", 3.76),\\n        (12, \"Nudeln\", 1.45),\\n        (5,\"Bio Rindfleisch spezial\", 24.20),\\n        ]\\nkurs_euro_sfr=1.08\\nfor anzahl, text, preis in einkäufe:\\n    gesamt= anzahl*preis\\n    gesamt_in_sfr=gesamt*kurs_euro_sfr\\n    print(f\"{anzahl:4d} von {text:^25s} in SFR {gesamt_in_sfr:6.2f}\")',\n",
       "  '<table cellpadding=\"6\" cellspacing=\"0\" border=\"1\" bgcolor=\"#F5F5F5\">\\n  <thead>\\n    <tr>\\n      <th>Platzhaltersymbol</th>\\n      <th>Bedeutung</th>\\n      </tr>\\n    </thead>\\n  <tbody>\\n    <tr><td valign=\"baseline\"><tt>d</tt></td>\\n        <td>Vorzeichenbehaftete Ganzzahl (Integer, dezimal).</td>\\n        </tr>\\n    <tr><td valign=\"baseline\"><tt>i</tt></td>\\n        <td>Vorzeichenbehaftete Ganzzahl (Integer, dezimal).</td>\\n        </tr>\\n    <tr><td valign=\"baseline\"><tt>o</tt></td>\\n        <td>vorzeichenlose Ganzzahlen (oktal)</td>\\n        </tr>\\n    <tr><td valign=\"baseline\"><tt>u</tt></td>\\n        <td>vorzeichenlose Ganzzahlen (dezimal)</td>\\n        </tr>\\n    <tr><td valign=\"baseline\"><tt>x</tt></td>\\n        <td>vorzeichenlose Ganzzahlen (hexadezimal)</td>\\n        </tr>\\n    <tr><td valign=\"baseline\"><tt>X</tt></td>\\n        <td>vorzeichenlose Ganzzahlen (hexadezimal), Uppercase</td>\\n        </tr>\\n    <tr><td valign=\"baseline\"><tt>e</tt></td>\\n        <td>Fließkommazahl im Exponentialformat (in Kleinbuchstaben).</td>\\n        </tr>\\n    <tr><td valign=\"baseline\"><tt>E</tt></td>\\n        <td>Fließkommazahl im Exponentialformat (in Großbuchstaben).</td>\\n        </tr>\\n    <tr><td valign=\"baseline\"><tt>f</tt></td>\\n        <td>wie e</td>\\n        </tr>\\n    <tr><td valign=\"baseline\"><tt>F</tt></td>\\n        <td>wie E</td>\\n        </tr>\\n    <tr><td valign=\"baseline\"><tt>g</tt></td>\\n        <td>Wie \"<tt>e</tt>\", wenn der Exponent größer ist als -4 oder\\n              oder kleiner als die Präzision. Ansonsten wie \"<tt>f</tt>\"</td>\\n        </tr>\\n    <tr><td valign=\"baseline\"><tt>G</tt></td>\\n        <td>wie \"<tt>E</tt>\" und analog zu \"<tt>g</tt>\"</td>\\n        </tr>\\n    <tr><td valign=\"baseline\"><tt>c</tt></td>\\n        <td>ein Zeichen</td>\\n        </tr>\\n    <tr><td valign=\"baseline\"><tt>s</tt></td>\\n        <td>Eine Zeichenkette (String); beliebige Python-Objekte werden in String mittels der Methode <tt>str()</tt>) gewandelt.</td>\\n        </tr>\\n    <tr><td valign=\"baseline\"><tt>r</tt></td>\\n        <td>siehe <tt>s</tt></td>\\n        </tr>\\n    <tr><td valign=\"baseline\"><tt>%</tt></td>\\n        <td>Es findet keine Argument-Konvertierung statt, es wird ein \"<tt>%</tt>\"-Zeichen ausgegeben.</td>\\n        </tbody>\\n</table>',\n",
       "  'einkäufe=[\\n        (7,\"Packungen Tomaten\", 3.76),\\n        (12, \"Nudeln\", 1.45),\\n        (5,\"Bio Rindfleisch spezial\", 24.20),\\n        ]\\nkurs_euro_sfr=1.08\\nfor anzahl, text, preis in einkäufe:\\n    gesamt= anzahl*preis\\n    gesamt_in_sfr=gesamt*kurs_euro_sfr\\n    print(f\"{anzahl:4X} von {text:25s} in SFR {gesamt_in_sfr:6.2f}\")',\n",
       "  'einkäufe=[\\n        (7,\"Packungen Tomaten\", 3.76),\\n        (12, \"Nudeln\", 1.45),\\n        (5,\"Bio Rindfleisch spezial\", 24.20),\\n        ]\\nkurs_euro_sfr=1.08\\nfor anzahl, text, preis in einkäufe:\\n    gesamt= anzahl*preis\\n    gesamt_in_sfr=gesamt*kurs_euro_sfr\\n    print(f\"{anzahl:4d} von {text:25s} in SFR {gesamt_in_sfr:6.2F}\")',\n",
       "  'einkäufe=[\\n        (7,\"Packungen Tomaten\", 3.76),\\n        (12, \"Nudeln\", 1.45),\\n        (5,\"Bio Rindfleisch spezial\", 24.20),\\n        ]\\nkurs_euro_sfr=1.08\\nfor anzahl, text, preis in einkäufe:\\n    gesamt= anzahl*preis\\n    gesamt_in_sfr=gesamt*kurs_euro_sfr\\n    print(f\"{anzahl:=4d} von {text:^25s} in SFR {gesamt_in_sfr:6.2f}\")',\n",
       "  'einkäufe=[\\n        (7,\"Packungen Tomaten\", 3.76),\\n        (12, \"Nudeln\", 1.45),\\n        (5,\"Bio Rindfleisch spezial\", 24.20),\\n        ]\\nkurs_euro_sfr=1.08\\nfor anzahl, text, preis in einkäufe:\\n    gesamt= anzahl*preis\\n    gesamt_in_sfr=gesamt*kurs_euro_sfr\\n    print(f\"{anzahl:=04d} von {text:^25s} in SFR {gesamt_in_sfr:6.2f}\")',\n",
       "  'einkäufe=[\\n        (7,\"Packungen Tomaten\", 3.76),\\n        (12, \"Nudeln\", 1.45),\\n        (5,\"Bio Rindfleisch spezial\", 24.20),\\n        ]\\nkurs_euro_sfr=1.08\\nfor anzahl, text, preis in einkäufe:\\n    gesamt= anzahl*preis\\n    gesamt_in_sfr=gesamt*kurs_euro_sfr\\n    print(f\"{anzahl:=+4d} von {text:^25s} in SFR {gesamt_in_sfr:6.2f}\")',\n",
       "  'einkäufe=[\\n        (7,\"Packungen Tomaten\", 3.76),\\n        (12, \"Nudeln\", 1.45),\\n        (5,\"Bio Rindfleisch spezial\", 24.20),\\n        ]\\nkurs_euro_sfr=1.08\\nfor anzahl, text, preis in einkäufe:\\n    gesamt= anzahl*preis\\n    gesamt_in_sfr=gesamt*kurs_euro_sfr\\n    print(f\"{anzahl:=#4d} von {text:^25s} in SFR {gesamt_in_sfr:6.2f}\")',\n",
       "  'einkäufe=[\\n        (7,\"Packungen Tomaten\", 3.76),\\n        (12, \"Nudeln\", 1.45),\\n        (5,\"Bio Rindfleisch spezial\", 24.20),\\n        ]\\nkurs_euro_sfr=1.08\\nfor anzahl, text, preis in einkäufe:\\n    gesamt= anzahl*preis\\n    gesamt_in_sfr=gesamt*kurs_euro_sfr\\n    print(f\"{anzahl:=004d} von {text:^25s} in SFR {gesamt_in_sfr:6.2f}\")',\n",
       "  'einkäufe=[\\n        (7,\"Packungen Tomaten\", 3.76),\\n        (12, \"Nudeln\", 1.45),\\n        (5,\"Bio Rindfleisch spezial\", 24.20),\\n        ]\\nkurs_euro_sfr=1.08\\nfor anzahl, text, preis in einkäufe:\\n    gesamt= anzahl*preis\\n    gesamt_in_sfr=gesamt*kurs_euro_sfr\\n    print(f\"{anzahl:=4d} von {text:^25s} in SFR {gesamt_in_sfr:6.2f}\")',\n",
       "  'einkäufe=[\\n        (7,\"Packungen Tomaten\", 3.76),\\n        (12, \"Nudeln\", 1.45),\\n        (5,\"Bio Rindfleisch spezial\", 24.20),\\n        ]\\nkurs_euro_sfr=1.08\\nfor anzahl, text, preis in einkäufe:\\n    gesamt= anzahl*preis\\n    gesamt_in_sfr=gesamt*kurs_euro_sfr\\n    print(f\"{anzahl:=004d} von {text:^25s} in SFR {gesamt_in_sfr:6.2f}\")',\n",
       "  'einkäufe=[\\n        (7,\"Packungen Tomaten\", 3.76),\\n        (12, \"Nudeln\", 1.45),\\n        (5,\"Bio Rindfleisch spezial\", 24.20),\\n        ]\\nkurs_euro_sfr=1.08\\nfor anzahl, text, preis in einkäufe:\\n    gesamt= anzahl*preis\\n    gesamt_in_sfr=gesamt*kurs_euro_sfr\\n    print(f\"{anzahl:=0004d} von {text:^25s} in SFR {gesamt_in_sfr:6.2f}\")',\n",
       "  'einkäufe=[\\n        (7,\"Packungen Tomaten\", 3.76),\\n        (12, \"Nudeln\", 1.45),\\n        (5,\"Bio Rindfleisch spezial\", 24.20),\\n        ]\\nkurs_euro_sfr=1.08\\nfor anzahl, text, preis in einkäufe:\\n    gesamt= anzahl*preis\\n    gesamt_in_sfr=gesamt*kurs_euro_sfr\\n    print(f\"{anzahl:004d} von {text:^25s} in SFR {gesamt_in_sfr:=006.2f}\")',\n",
       "  'einkäufe=[\\n        (7,\"Packungen Tomaten\", 3.76),\\n        (12, \"Nudeln\", 1.45),\\n        (5,\"Bio Rindfleisch spezial\", 2477.20),\\n        ]\\nkurs_euro_sfr=1.08\\nfor anzahl, text, preis in einkäufe:\\n    gesamt= anzahl*preis\\n    gesamt_in_sfr=gesamt*kurs_euro_sfr\\n    print(f\"{anzahl:004d} von {text:^25s} in SFR {gesamt_in_sfr:,6.2f}\")',\n",
       "  'einkäufe=[\\n        (7,\"Packungen Tomaten\", 3.76),\\n        (12, \"Nudeln\", 1.45),\\n        (5,\"Bio Rindfleisch spezial\", 2477.20),\\n        ]\\nkurs_euro_sfr=1.08\\nfor anzahl, text, preis in einkäufe:\\n    gesamt= anzahl*preis\\n    gesamt_in_sfr=gesamt*kurs_euro_sfr\\n    print(f\"{anzahl:004d} von {text:^25s} in SFR {gesamt_in_sfr:=006.2f}\")',\n",
       "  'q = 459\\np = 0.098\\nprint(q, p, p * q)',\n",
       "  'print(q, p, p * q, sep=\",\")',\n",
       "  'print(q, p, p * q, sep=\" :-) \")',\n",
       "  'print(str(q) + \" \" + str(p) + \" \" + str(p * q))',\n",
       "  'name,alter =\"Jonas\",19\\nf\"Mein Freund {name} ist {alter} Jahre alt\"',\n",
       "  'name,alter =\"Jonas\",19\\nf\"Mein Freund {name} ist {alter} Jahre alt\"\\nprint(f\"Mein Freund {name} ist {alter} Jahre alt\")',\n",
       "  'name,alter=\"Jonas\",28\\nname2,alter2=\"Karl\",32\\nf\"{name} ist {abs(alter-alter2)} Jahre {\\'jünger\\' if alter-alter2<0 else \\'älter\\'} als {name2}.\"',\n",
       "  'f\"Ein Python dictionary d={{\\\\\"a\\\\\":1,\\'b\\':2}}\"',\n",
       "  'def alt_jung(alter1,alter2):\\n    if alter1<alter2:\\n        return \"jünger\"\\n    else:\\n        return \"älter\"\\nname,alter=\"Jonas\",28\\nname2,alter2=\"Karl\",32\\nF\"{name} ist {abs(alter-alter2)} Jahre {alt_jung(alter,alter2)} als {name2}.\"',\n",
       "  'einkäufe=[\\n        (7,\"Packungen Tomaten\", 3.76),\\n        (12, \"Nudeln\", 1.45),\\n        (5,\"Bio Rindfleisch spezial\", 24.20),\\n        ]\\nkurs_euro_sfr=1.08\\nfor anzahl, text, preis in einkäufe:\\n    gesamt= anzahl*preis\\n    gesamt_in_sfr=gesamt*kurs_euro_sfr\\n    print(f\"{anzahl} von {text} in SFR {gesamt_in_sfr}\")',\n",
       "  'einkäufe=[\\n        (7,\"Packungen Tomaten\", 3.76),\\n        (12, \"Nudeln\", 1.45),\\n        (5,\"Bio Rindfleisch spezial\", 24.20),\\n        ]\\nkurs_euro_sfr=1.08\\nfor anzahl, text, preis in einkäufe:\\n    gesamt= anzahl*preis\\n    gesamt_in_sfr=gesamt*kurs_euro_sfr\\n    print(f\"{anzahl:4d} von {text:25s} in SFR {gesamt_in_sfr:6.2F}\")',\n",
       "  'einkäufe=[\\n        (7,\"Packungen Tomaten\", 3.76),\\n        (12, \"Nudeln\", 1.45),\\n        (5,\"Bio Rindfleisch spezial\", 24.20),\\n        ]\\nkurs_euro_sfr=1.08\\nfor anzahl, text, preis in einkäufe:\\n    gesamt= anzahl*preis\\n    gesamt_in_sfr=gesamt*kurs_euro_sfr\\n    print(f\"{anzahl:4d} von {text:^25s} in SFR {gesamt_in_sfr:6.2f}\")',\n",
       "  'einkäufe=[\\n        (7,\"Packungen Tomaten\", 3.76),\\n        (12, \"Nudeln\", 1.45),\\n        (5,\"Bio Rindfleisch spezial\", 2477.20),\\n        ]\\nkurs_euro_sfr=1.08\\nfor anzahl, text, preis in einkäufe:\\n    gesamt= anzahl*preis\\n    gesamt_in_sfr=gesamt*kurs_euro_sfr\\n    print(f\"{anzahl:004d} von {text:^25s} in SFR {gesamt_in_sfr:=006.2f}\")',\n",
       "  'print(\"%10.3e\"% (356.08977))',\n",
       "  'print(\"%10.3E\"% (356.08977))',\n",
       "  'print(\"%10o\"% (25))',\n",
       "  'print(\"%10.3o\"% (25))',\n",
       "  'print(\"%10.5o\"% (25))',\n",
       "  'print(\"%5x\"% (47))',\n",
       "  'print(\"%5.4x\"% (47))',\n",
       "  'print(\"%5.4X\"% (47))',\n",
       "  'print(\"Ein Prozentzeichen: %% \" % ())',\n",
       "  'print(\"%#5X\"% (47))',\n",
       "  'print(\"%5X\"% (47))',\n",
       "  'print(\"%#5.4X\"% (47))',\n",
       "  'print(\"%#5o\"% (25))',\n",
       "  'print(\"%+d\"% (42))',\n",
       "  'print(\"% d\"% (42))',\n",
       "  'print(\"%+2d\"% (42))',\n",
       "  'print(\"% 2d\"% (42))',\n",
       "  'print(\"%2d\"% (42))',\n",
       "  's = \"Preis: $ %8.2f\"% (356.08977)\\nprint(s)',\n",
       "  '\"Erstes Argument: {0}, zweites: {1}\".format(47,11) ',\n",
       "  '\"Zweites Argument: {1}, erstes: {0}\".format(47,11) ',\n",
       "  '\"Zweites Argument: {1:3d}, erstes: {0:7.2f}\".format(47.42,11) ',\n",
       "  '\"Erstes Argument: {}, zweites: {}\".format(47,11) \\n\\n# Argumente können auch mehrmals verwendet werden:',\n",
       "  '\"precisions: {0:6.2f} or {0:6.3f}\".format(1.4148) ',\n",
       "  '\"Artikel: {a:5d},  Preis: {p:8.2f}\".format(a=453, p=59.058)',\n",
       "  '\"{0:<20s} {1:6.2f}\".format(\\'Spam & Eggs:\\', 6.99)',\n",
       "  '\"{0:>20s} {1:6.2f}\".format(\\'Spam & Ham:\\', 7.99)',\n",
       "  '\"{0:<20} {1:6.2f}\".format(\\'Spam \\', 0)',\n",
       "  'x = 378\\nprint(\"The value is {0:06d}\".format(x))',\n",
       "  'x = -378\\nprint(\"The value is {0:06d}\".format(x))',\n",
       "  '\"{0:>20} {1:6.2f}\".format(\\'Spam & Ham:\\', 7.99)',\n",
       "  'print(\"Die Hauptstadt von {0:s} ist {1:s}\".format(\"Ontario\",\"Toronto\"))',\n",
       "  'print(\"Die Hauptstadt von {province} ist {capital}\".format(province=\"Ontario\",capital=\"Toronto\"))    ',\n",
       "  'data = dict(province=\"Ontario\",capital=\"Toronto\")\\ndata',\n",
       "  'print(\"The capital of {province} is {capital}\".format(**data))',\n",
       "  'capital_country = {\"Vereinigte Staaten\" : \"Washington\", \\n                   \"US\" : \"Washington\", \\n                   \"Kanada\" : \"Ottawa\",\\n                   \"Deutschland\": \"Berlin\",\\n                   \"Frankreich\" : \"Paris\",\\n                   \"England\" : \"London\",\\n                   \"Großbritannien\" : \"London\",\\n                   \"Schweiz\" : \"Bern\",\\n                   \"Österreich\" : \"Wien\",\\n                   \"Niederlande\" : \"Amsterdam\"}\\n\\nprint(\"Länder und Ihre Hauptstädte:\")\\nfor c in capital_country:\\n    print(\"{country}: {capital}\".format(country=c, capital=capital_country[c]))    ',\n",
       "  'capital_country = {\"Vereinigte Staaten\" : \"Washington\", \\n                   \"US\" : \"Washington\", \\n                   \"Kanada\" : \"Ottawa\",\\n                   \"Deutschland\": \"Berlin\",\\n                   \"Frankreich\" : \"Paris\",\\n                   \"England\" : \"London\",\\n                   \"Großbritannien\" : \"London\",\\n                   \"Schweiz\" : \"Bern\",\\n                   \"Österreich\" : \"Wien\",\\n                   \"Niederlande\" : \"Amsterdam\"}\\n\\nprint(\"Countries and their capitals:\")\\nfor c in capital_country:\\n    format_string = c + \": {\" + c + \"}\" \\n    print(format_string.format(**capital_country))',\n",
       "  'a = 42\\nb = 47\\ndef f(): return 42\\nlocals()'],\n",
       " '_oh': {3: 'Mein Freund Jonas ist 19 Jahre alt',\n",
       "  5: 'Mein Freund Jonas ist 19 Jahre alt',\n",
       "  9: 'Jonas ist 9 Jahre jünger als Kartl.',\n",
       "  10: 'Jonas ist 9 Jahre jünger als Karl.',\n",
       "  11: 'Jonas ist 1 Jahre älter als Karl.',\n",
       "  12: 'Jonas ist 4 Jahre jünger als Karl.',\n",
       "  13: 'Jonas ist jünger Jahre jünger als Karl.',\n",
       "  14: 'Jonas ist 4 Jahre jünger als Karl.',\n",
       "  15: 'Jonas ist 4 Jahre jünger als Karl.',\n",
       "  18: 'Ein Python dictionary d={\"a\":1,\\'b\\':2}',\n",
       "  19: 'Jonas ist 4 Jahre jünger als Karl.',\n",
       "  21: 'Jonas ist 4 Jahre jünger als Karl.',\n",
       "  58: 'Mein Freund Jonas ist 19 Jahre alt',\n",
       "  60: 'Jonas ist 4 Jahre jünger als Karl.',\n",
       "  61: 'Ein Python dictionary d={\"a\":1,\\'b\\':2}',\n",
       "  62: 'Jonas ist 4 Jahre jünger als Karl.',\n",
       "  86: 'Erstes Argument: 47, zweites: 11',\n",
       "  87: 'Zweites Argument: 11, erstes: 47',\n",
       "  88: 'Zweites Argument:  11, erstes:   47.42',\n",
       "  89: 'Erstes Argument: 47, zweites: 11',\n",
       "  90: 'precisions:   1.41 or  1.415',\n",
       "  91: 'Artikel:   453,  Preis:    59.06',\n",
       "  92: 'Spam & Eggs:           6.99',\n",
       "  93: '         Spam & Ham:   7.99',\n",
       "  94: 'Spam                   0.00',\n",
       "  97: '         Spam & Ham:   7.99',\n",
       "  100: {'province': 'Ontario', 'capital': 'Toronto'}},\n",
       " '_dh': ['C:\\\\Users\\\\Konrad\\\\Desktop\\\\Kurs_adv\\\\course\\\\de\\\\python_basics'],\n",
       " 'In': ['',\n",
       "  'Formatierte Stringliterale oder f-strings wurden ab Python 3.6 eingeführt. Syntax ist sehr einfach und flexibel. Ein Beispiel ist:',\n",
       "  'name,alter =\"Jonas\",19\\nf\"Mein Freund {Jonas} ist {alter} Jahre alt\"',\n",
       "  'name,alter =\"Jonas\",19\\nf\"Mein Freund {name} ist {alter} Jahre alt\"',\n",
       "  'name,alter =\"Jonas\",19\\nf\"Mein Freund {name} ist {alter} Jahre alt\"\\nprint(f\"Mein Freund {name} ist {alter} Jahre alt\")',\n",
       "  'name,alter =\"Jonas\",19\\nf\"Mein Freund {name} ist {alter} Jahre alt\"',\n",
       "  'name,alter =\"Jonas\",19\\nf\"Mein Freund {name} ist {alter} Jahre alt\"\\nprint(f\"Mein Freund {name} ist {alter} Jahre alt\")',\n",
       "  'name,alter=\"Jonas\",23\\nname2,alter2=\"Kartl\",32\\nf\"{name} ist {abs(alter-alter2)} Jahre {\"jünger\" if alter-alter2<0 else \"älter\"} als {name2}.\"',\n",
       "  'name,alter=\"Jonas\",23\\nname2,alter2=\"Kartl\",32\\nf\"{name} ist {abs(alter-alter2)} Jahre {\\'jünger\\' if alter-alter2<0 else \\'älter\\'\\'} als {name2}.\"',\n",
       "  'name,alter=\"Jonas\",23\\nname2,alter2=\"Kartl\",32\\nf\"{name} ist {abs(alter-alter2)} Jahre {\\'jünger\\' if alter-alter2<0 else \\'älter\\'} als {name2}.\"',\n",
       "  'name,alter=\"Jonas\",23\\nname2,alter2=\"Karl\",32\\nf\"{name} ist {abs(alter-alter2)} Jahre {\\'jünger\\' if alter-alter2<0 else \\'älter\\'} als {name2}.\"',\n",
       "  'name,alter=\"Jonas\",33\\nname2,alter2=\"Karl\",32\\nf\"{name} ist {abs(alter-alter2)} Jahre {\\'jünger\\' if alter-alter2<0 else \\'älter\\'} als {name2}.\"',\n",
       "  'name,alter=\"Jonas\",28\\nname2,alter2=\"Karl\",32\\nf\"{name} ist {abs(alter-alter2)} Jahre {\\'jünger\\' if alter-alter2<0 else \\'älter\\'} als {name2}.\"',\n",
       "  'def alt_jung(alter1,alter2):\\n    if alter1<alter2:\\n        return \"jünger\"\\n    else:\\n        return \"älter\"\\nname,alter=\"Jonas\",28\\nname2,alter2=\"Karl\",32\\nf\"{name} ist {alt_jung(alter,alter2)} Jahre {\\'jünger\\' if alter-alter2<0 else \\'älter\\'} als {name2}.\"',\n",
       "  'def alt_jung(alter1,alter2):\\n    if alter1<alter2:\\n        return \"jünger\"\\n    else:\\n        return \"älter\"\\nname,alter=\"Jonas\",28\\nname2,alter2=\"Karl\",32\\nf\"{name} ist {abs(alter-alter2)} Jahre {alt_jung(alter,alter2)} als {name2}.\"',\n",
       "  'def alt_jung(alter1,alter2):\\n    if alter1<alter2:\\n        return \"jünger\"\\n    else:\\n        return \"älter\"\\nname,alter=\"Jonas\",28\\nname2,alter2=\"Karl\",32\\nF\"{name} ist {abs(alter-alter2)} Jahre {alt_jung(alter,alter2)} als {name2}.\"',\n",
       "  'f\"Ein Python dictionary d={{\"a\":1,\"b\":2}}',\n",
       "  'f\"Ein Python dictionary d={{\\\\\"a\\\\\":1,\\'b\\':2}}',\n",
       "  'f\"Ein Python dictionary d={{\\\\\"a\\\\\":1,\\'b\\':2}}\"',\n",
       "  'def alt_jung(alter1,alter2):\\n    if alter1<alter2:\\n        return \"jünger\"\\n    else:\\n        return \"älter\"\\nname,alter=\"Jonas\",28\\nname2,alter2=\"Karl\",32\\nF\"{name} ist {abs(alter-alter2)} Jahre {alt_jung(alter,alter2)} als {name2}.\"',\n",
       "  'name,alter =\"Jonas\",19\\nf\"Mein Freund {name} ist {alter} Jahre alt\"\\nprint(f\"Mein Freund {name} ist {alter} Jahre alt\")',\n",
       "  'name,alter=\"Jonas\",28\\nname2,alter2=\"Karl\",32\\nf\"{name} ist {abs(alter-alter2)} Jahre {\\'jünger\\' if alter-alter2<0 else \\'älter\\'} als {name2}.\"',\n",
       "  'einkäufe=[\\n        (7,\"Packungen Tomaten\", 3.76),\\n        (12, \"Nudeln\", 1.45)\\n        (5,\"Bio Rindfleisch spezial\", 24.20)]',\n",
       "  'einkäufe=[\\n        (7,\"Packungen Tomaten\", 3.76),\\n        (12, \"Nudeln\", 1.45)\\n        (5,\"Bio Rindfleisch spezial\", 24.20),\\n        ]',\n",
       "  'einkäufe=[\\n        (7,\"Packungen Tomaten\", 3.76),\\n        (12, \"Nudeln\", 1.45)\\n        (5,\"Bio Rindfleisch spezial\", 24.20),\\n        ]\\nkurs_euro_sfr=1.08\\nfor anzahl, text, preis in einkäufe:\\n    gesamt= anzahl*preis\\n    gesamt_in_sfr=gesamt*kurs_euro_sfr\\n    print(f\"{anzahl} von {text} in SFR {gesamt_in_sfr})',\n",
       "  'einkäufe=[\\n        (7,\"Packungen Tomaten\", 3.76),\\n        (12, \"Nudeln\", 1.45)\\n        (5,\"Bio Rindfleisch spezial\", 24.20),\\n        ]\\nkurs_euro_sfr=1.08\\nfor anzahl, text, preis in einkäufe:\\n    gesamt= anzahl*preis\\n    gesamt_in_sfr=gesamt*kurs_euro_sfr\\n    print(f\"{anzahl} von {text} in SFR {gesamt_in_sfr}\")',\n",
       "  'einkäufe=[\\n        (7,\"Packungen Tomaten\", 3.76),\\n        (12, \"Nudeln\", 1.45),\\n        (5,\"Bio Rindfleisch spezial\", 24.20),\\n        ]\\nkurs_euro_sfr=1.08\\nfor anzahl, text, preis in einkäufe:\\n    gesamt= anzahl*preis\\n    gesamt_in_sfr=gesamt*kurs_euro_sfr\\n    print(f\"{anzahl} von {text} in SFR {gesamt_in_sfr}\")',\n",
       "  'einkäufe=[\\n        (7,\"Packungen Tomaten\", 3.76),\\n        (12, \"Nudeln\", 1.45),\\n        (5,\"Bio Rindfleisch spezial\", 24.20),\\n        ]\\nkurs_euro_sfr=1.08\\nfor anzahl, text, preis in einkäufe:\\n    gesamt= anzahl*preis\\n    gesamt_in_sfr=gesamt*kurs_euro_sfr\\n    print(f\"{anzahl:i3} von {text:s20} in SFR {gesamt_in_sfr:f5.2}\")',\n",
       "  'einkäufe=[\\n        (7,\"Packungen Tomaten\", 3.76),\\n        (12, \"Nudeln\", 1.45),\\n        (5,\"Bio Rindfleisch spezial\", 24.20),\\n        ]\\nkurs_euro_sfr=1.08\\nfor anzahl, text, preis in einkäufe:\\n    gesamt= anzahl*preis\\n    gesamt_in_sfr=gesamt*kurs_euro_sfr\\n    print(f\"{anzahl:d3} von {text:s20} in SFR {gesamt_in_sfr:f5.2}\")',\n",
       "  'einkäufe=[\\n        (7,\"Packungen Tomaten\", 3.76),\\n        (12, \"Nudeln\", 1.45),\\n        (5,\"Bio Rindfleisch spezial\", 24.20),\\n        ]\\nkurs_euro_sfr=1.08\\nfor anzahl, text, preis in einkäufe:\\n    gesamt= anzahl*preis\\n    gesamt_in_sfr=gesamt*kurs_euro_sfr\\n    print(f\"{anzahl:3d} von {text:20s} in SFR {gesamt_in_sfr:5.2f}\")',\n",
       "  'einkäufe=[\\n        (7,\"Packungen Tomaten\", 3.76),\\n        (12, \"Nudeln\", 1.45),\\n        (5,\"Bio Rindfleisch spezial\", 24.20),\\n        ]\\nkurs_euro_sfr=1.08\\nfor anzahl, text, preis in einkäufe:\\n    gesamt= anzahl*preis\\n    gesamt_in_sfr=gesamt*kurs_euro_sfr\\n    print(f\"{anzahl:3d} von {text:30s} in SFR {gesamt_in_sfr:5.2f}\")',\n",
       "  'einkäufe=[\\n        (7,\"Packungen Tomaten\", 3.76),\\n        (12, \"Nudeln\", 1.45),\\n        (5,\"Bio Rindfleisch spezial\", 24.20),\\n        ]\\nkurs_euro_sfr=1.08\\nfor anzahl, text, preis in einkäufe:\\n    gesamt= anzahl*preis\\n    gesamt_in_sfr=gesamt*kurs_euro_sfr\\n    print(f\"{anzahl:3d} von {text:30s} in SFR {gesamt_in_sfr:5.2E}\")',\n",
       "  'einkäufe=[\\n        (7,\"Packungen Tomaten\", 3.76),\\n        (12, \"Nudeln\", 1.45),\\n        (5,\"Bio Rindfleisch spezial\", 24.20),\\n        ]\\nkurs_euro_sfr=1.08\\nfor anzahl, text, preis in einkäufe:\\n    gesamt= anzahl*preis\\n    gesamt_in_sfr=gesamt*kurs_euro_sfr\\n    print(f\"{anzahl:3d} von {text:30s} in SFR {gesamt_in_sfr:5.2f}\")',\n",
       "  'einkäufe=[\\n        (7,\"Packungen Tomaten\", 3.76),\\n        (12, \"Nudeln\", 1.45),\\n        (5,\"Bio Rindfleisch spezial\", 24.20),\\n        ]\\nkurs_euro_sfr=1.08\\nfor anzahl, text, preis in einkäufe:\\n    gesamt= anzahl*preis\\n    gesamt_in_sfr=gesamt*kurs_euro_sfr\\n    print(f\"{anzahl} von {text} in SFR {gesamt_in_sfr}\")',\n",
       "  'einkäufe=[\\n        (7,\"Packungen Tomaten\", 3.76),\\n        (12, \"Nudeln\", 1.45),\\n        (5,\"Bio Rindfleisch spezial\", 24.20),\\n        ]\\nkurs_euro_sfr=1.08\\nfor anzahl, text, preis in einkäufe:\\n    gesamt= anzahl*preis\\n    gesamt_in_sfr=gesamt*kurs_euro_sfr\\n    print(f\"{anzahl:4d} von {text:25s} in SFR {gesamt_in_sfr:f7.2}\")',\n",
       "  'einkäufe=[\\n        (7,\"Packungen Tomaten\", 3.76),\\n        (12, \"Nudeln\", 1.45),\\n        (5,\"Bio Rindfleisch spezial\", 24.20),\\n        ]\\nkurs_euro_sfr=1.08\\nfor anzahl, text, preis in einkäufe:\\n    gesamt= anzahl*preis\\n    gesamt_in_sfr=gesamt*kurs_euro_sfr\\n    print(f\"{anzahl:4d} von {text:25s} in SFR {gesamt_in_sfr:7.2f}\")',\n",
       "  'einkäufe=[\\n        (7,\"Packungen Tomaten\", 3.76),\\n        (12, \"Nudeln\", 1.45),\\n        (5,\"Bio Rindfleisch spezial\", 24.20),\\n        ]\\nkurs_euro_sfr=1.08\\nfor anzahl, text, preis in einkäufe:\\n    gesamt= anzahl*preis\\n    gesamt_in_sfr=gesamt*kurs_euro_sfr\\n    print(f\"{anzahl:4d} von {text:25s} in SFR {gesamt_in_sfr:5.2f}\")',\n",
       "  'einkäufe=[\\n        (7,\"Packungen Tomaten\", 3.76),\\n        (12, \"Nudeln\", 1.45),\\n        (5,\"Bio Rindfleisch spezial\", 24.20),\\n        ]\\nkurs_euro_sfr=1.08\\nfor anzahl, text, preis in einkäufe:\\n    gesamt= anzahl*preis\\n    gesamt_in_sfr=gesamt*kurs_euro_sfr\\n    print(f\"{anzahl:4d} von {text:25s} in SFR {gesamt_in_sfr:6.2f}\")',\n",
       "  'einkäufe=[\\n        (7,\"Packungen Tomaten\", 3.76),\\n        (12, \"Nudeln\", 1.45),\\n        (5,\"Bio Rindfleisch spezial\", 24.20),\\n        ]\\nkurs_euro_sfr=1.08\\nfor anzahl, text, preis in einkäufe:\\n    gesamt= anzahl*preis\\n    gesamt_in_sfr=gesamt*kurs_euro_sfr\\n    print(f\"{anzahl:4d} von {text:^25s} in SFR {gesamt_in_sfr:6.2f}\")',\n",
       "  'einkäufe=[\\n        (7,\"Packungen Tomaten\", 3.76),\\n        (12, \"Nudeln\", 1.45),\\n        (5,\"Bio Rindfleisch spezial\", 24.20),\\n        ]\\nkurs_euro_sfr=1.08\\nfor anzahl, text, preis in einkäufe:\\n    gesamt= anzahl*preis\\n    gesamt_in_sfr=gesamt*kurs_euro_sfr\\n    print(f\"{anzahl:4d} von {text:^25s} in SFR {gesamt_in_sfr:6.2f}\")',\n",
       "  '<table cellpadding=\"6\" cellspacing=\"0\" border=\"1\" bgcolor=\"#F5F5F5\">\\n  <thead>\\n    <tr>\\n      <th>Platzhaltersymbol</th>\\n      <th>Bedeutung</th>\\n      </tr>\\n    </thead>\\n  <tbody>\\n    <tr><td valign=\"baseline\"><tt>d</tt></td>\\n        <td>Vorzeichenbehaftete Ganzzahl (Integer, dezimal).</td>\\n        </tr>\\n    <tr><td valign=\"baseline\"><tt>i</tt></td>\\n        <td>Vorzeichenbehaftete Ganzzahl (Integer, dezimal).</td>\\n        </tr>\\n    <tr><td valign=\"baseline\"><tt>o</tt></td>\\n        <td>vorzeichenlose Ganzzahlen (oktal)</td>\\n        </tr>\\n    <tr><td valign=\"baseline\"><tt>u</tt></td>\\n        <td>vorzeichenlose Ganzzahlen (dezimal)</td>\\n        </tr>\\n    <tr><td valign=\"baseline\"><tt>x</tt></td>\\n        <td>vorzeichenlose Ganzzahlen (hexadezimal)</td>\\n        </tr>\\n    <tr><td valign=\"baseline\"><tt>X</tt></td>\\n        <td>vorzeichenlose Ganzzahlen (hexadezimal), Uppercase</td>\\n        </tr>\\n    <tr><td valign=\"baseline\"><tt>e</tt></td>\\n        <td>Fließkommazahl im Exponentialformat (in Kleinbuchstaben).</td>\\n        </tr>\\n    <tr><td valign=\"baseline\"><tt>E</tt></td>\\n        <td>Fließkommazahl im Exponentialformat (in Großbuchstaben).</td>\\n        </tr>\\n    <tr><td valign=\"baseline\"><tt>f</tt></td>\\n        <td>wie e</td>\\n        </tr>\\n    <tr><td valign=\"baseline\"><tt>F</tt></td>\\n        <td>wie E</td>\\n        </tr>\\n    <tr><td valign=\"baseline\"><tt>g</tt></td>\\n        <td>Wie \"<tt>e</tt>\", wenn der Exponent größer ist als -4 oder\\n              oder kleiner als die Präzision. Ansonsten wie \"<tt>f</tt>\"</td>\\n        </tr>\\n    <tr><td valign=\"baseline\"><tt>G</tt></td>\\n        <td>wie \"<tt>E</tt>\" und analog zu \"<tt>g</tt>\"</td>\\n        </tr>\\n    <tr><td valign=\"baseline\"><tt>c</tt></td>\\n        <td>ein Zeichen</td>\\n        </tr>\\n    <tr><td valign=\"baseline\"><tt>s</tt></td>\\n        <td>Eine Zeichenkette (String); beliebige Python-Objekte werden in String mittels der Methode <tt>str()</tt>) gewandelt.</td>\\n        </tr>\\n    <tr><td valign=\"baseline\"><tt>r</tt></td>\\n        <td>siehe <tt>s</tt></td>\\n        </tr>\\n    <tr><td valign=\"baseline\"><tt>%</tt></td>\\n        <td>Es findet keine Argument-Konvertierung statt, es wird ein \"<tt>%</tt>\"-Zeichen ausgegeben.</td>\\n        </tbody>\\n</table>',\n",
       "  'einkäufe=[\\n        (7,\"Packungen Tomaten\", 3.76),\\n        (12, \"Nudeln\", 1.45),\\n        (5,\"Bio Rindfleisch spezial\", 24.20),\\n        ]\\nkurs_euro_sfr=1.08\\nfor anzahl, text, preis in einkäufe:\\n    gesamt= anzahl*preis\\n    gesamt_in_sfr=gesamt*kurs_euro_sfr\\n    print(f\"{anzahl:4X} von {text:25s} in SFR {gesamt_in_sfr:6.2f}\")',\n",
       "  'einkäufe=[\\n        (7,\"Packungen Tomaten\", 3.76),\\n        (12, \"Nudeln\", 1.45),\\n        (5,\"Bio Rindfleisch spezial\", 24.20),\\n        ]\\nkurs_euro_sfr=1.08\\nfor anzahl, text, preis in einkäufe:\\n    gesamt= anzahl*preis\\n    gesamt_in_sfr=gesamt*kurs_euro_sfr\\n    print(f\"{anzahl:4d} von {text:25s} in SFR {gesamt_in_sfr:6.2F}\")',\n",
       "  'einkäufe=[\\n        (7,\"Packungen Tomaten\", 3.76),\\n        (12, \"Nudeln\", 1.45),\\n        (5,\"Bio Rindfleisch spezial\", 24.20),\\n        ]\\nkurs_euro_sfr=1.08\\nfor anzahl, text, preis in einkäufe:\\n    gesamt= anzahl*preis\\n    gesamt_in_sfr=gesamt*kurs_euro_sfr\\n    print(f\"{anzahl:=4d} von {text:^25s} in SFR {gesamt_in_sfr:6.2f}\")',\n",
       "  'einkäufe=[\\n        (7,\"Packungen Tomaten\", 3.76),\\n        (12, \"Nudeln\", 1.45),\\n        (5,\"Bio Rindfleisch spezial\", 24.20),\\n        ]\\nkurs_euro_sfr=1.08\\nfor anzahl, text, preis in einkäufe:\\n    gesamt= anzahl*preis\\n    gesamt_in_sfr=gesamt*kurs_euro_sfr\\n    print(f\"{anzahl:=04d} von {text:^25s} in SFR {gesamt_in_sfr:6.2f}\")',\n",
       "  'einkäufe=[\\n        (7,\"Packungen Tomaten\", 3.76),\\n        (12, \"Nudeln\", 1.45),\\n        (5,\"Bio Rindfleisch spezial\", 24.20),\\n        ]\\nkurs_euro_sfr=1.08\\nfor anzahl, text, preis in einkäufe:\\n    gesamt= anzahl*preis\\n    gesamt_in_sfr=gesamt*kurs_euro_sfr\\n    print(f\"{anzahl:=+4d} von {text:^25s} in SFR {gesamt_in_sfr:6.2f}\")',\n",
       "  'einkäufe=[\\n        (7,\"Packungen Tomaten\", 3.76),\\n        (12, \"Nudeln\", 1.45),\\n        (5,\"Bio Rindfleisch spezial\", 24.20),\\n        ]\\nkurs_euro_sfr=1.08\\nfor anzahl, text, preis in einkäufe:\\n    gesamt= anzahl*preis\\n    gesamt_in_sfr=gesamt*kurs_euro_sfr\\n    print(f\"{anzahl:=#4d} von {text:^25s} in SFR {gesamt_in_sfr:6.2f}\")',\n",
       "  'einkäufe=[\\n        (7,\"Packungen Tomaten\", 3.76),\\n        (12, \"Nudeln\", 1.45),\\n        (5,\"Bio Rindfleisch spezial\", 24.20),\\n        ]\\nkurs_euro_sfr=1.08\\nfor anzahl, text, preis in einkäufe:\\n    gesamt= anzahl*preis\\n    gesamt_in_sfr=gesamt*kurs_euro_sfr\\n    print(f\"{anzahl:=004d} von {text:^25s} in SFR {gesamt_in_sfr:6.2f}\")',\n",
       "  'einkäufe=[\\n        (7,\"Packungen Tomaten\", 3.76),\\n        (12, \"Nudeln\", 1.45),\\n        (5,\"Bio Rindfleisch spezial\", 24.20),\\n        ]\\nkurs_euro_sfr=1.08\\nfor anzahl, text, preis in einkäufe:\\n    gesamt= anzahl*preis\\n    gesamt_in_sfr=gesamt*kurs_euro_sfr\\n    print(f\"{anzahl:=4d} von {text:^25s} in SFR {gesamt_in_sfr:6.2f}\")',\n",
       "  'einkäufe=[\\n        (7,\"Packungen Tomaten\", 3.76),\\n        (12, \"Nudeln\", 1.45),\\n        (5,\"Bio Rindfleisch spezial\", 24.20),\\n        ]\\nkurs_euro_sfr=1.08\\nfor anzahl, text, preis in einkäufe:\\n    gesamt= anzahl*preis\\n    gesamt_in_sfr=gesamt*kurs_euro_sfr\\n    print(f\"{anzahl:=004d} von {text:^25s} in SFR {gesamt_in_sfr:6.2f}\")',\n",
       "  'einkäufe=[\\n        (7,\"Packungen Tomaten\", 3.76),\\n        (12, \"Nudeln\", 1.45),\\n        (5,\"Bio Rindfleisch spezial\", 24.20),\\n        ]\\nkurs_euro_sfr=1.08\\nfor anzahl, text, preis in einkäufe:\\n    gesamt= anzahl*preis\\n    gesamt_in_sfr=gesamt*kurs_euro_sfr\\n    print(f\"{anzahl:=0004d} von {text:^25s} in SFR {gesamt_in_sfr:6.2f}\")',\n",
       "  'einkäufe=[\\n        (7,\"Packungen Tomaten\", 3.76),\\n        (12, \"Nudeln\", 1.45),\\n        (5,\"Bio Rindfleisch spezial\", 24.20),\\n        ]\\nkurs_euro_sfr=1.08\\nfor anzahl, text, preis in einkäufe:\\n    gesamt= anzahl*preis\\n    gesamt_in_sfr=gesamt*kurs_euro_sfr\\n    print(f\"{anzahl:004d} von {text:^25s} in SFR {gesamt_in_sfr:=006.2f}\")',\n",
       "  'einkäufe=[\\n        (7,\"Packungen Tomaten\", 3.76),\\n        (12, \"Nudeln\", 1.45),\\n        (5,\"Bio Rindfleisch spezial\", 2477.20),\\n        ]\\nkurs_euro_sfr=1.08\\nfor anzahl, text, preis in einkäufe:\\n    gesamt= anzahl*preis\\n    gesamt_in_sfr=gesamt*kurs_euro_sfr\\n    print(f\"{anzahl:004d} von {text:^25s} in SFR {gesamt_in_sfr:,6.2f}\")',\n",
       "  'einkäufe=[\\n        (7,\"Packungen Tomaten\", 3.76),\\n        (12, \"Nudeln\", 1.45),\\n        (5,\"Bio Rindfleisch spezial\", 2477.20),\\n        ]\\nkurs_euro_sfr=1.08\\nfor anzahl, text, preis in einkäufe:\\n    gesamt= anzahl*preis\\n    gesamt_in_sfr=gesamt*kurs_euro_sfr\\n    print(f\"{anzahl:004d} von {text:^25s} in SFR {gesamt_in_sfr:=006.2f}\")',\n",
       "  'q = 459\\np = 0.098\\nprint(q, p, p * q)',\n",
       "  'print(q, p, p * q, sep=\",\")',\n",
       "  'print(q, p, p * q, sep=\" :-) \")',\n",
       "  'print(str(q) + \" \" + str(p) + \" \" + str(p * q))',\n",
       "  'name,alter =\"Jonas\",19\\nf\"Mein Freund {name} ist {alter} Jahre alt\"',\n",
       "  'name,alter =\"Jonas\",19\\nf\"Mein Freund {name} ist {alter} Jahre alt\"\\nprint(f\"Mein Freund {name} ist {alter} Jahre alt\")',\n",
       "  'name,alter=\"Jonas\",28\\nname2,alter2=\"Karl\",32\\nf\"{name} ist {abs(alter-alter2)} Jahre {\\'jünger\\' if alter-alter2<0 else \\'älter\\'} als {name2}.\"',\n",
       "  'f\"Ein Python dictionary d={{\\\\\"a\\\\\":1,\\'b\\':2}}\"',\n",
       "  'def alt_jung(alter1,alter2):\\n    if alter1<alter2:\\n        return \"jünger\"\\n    else:\\n        return \"älter\"\\nname,alter=\"Jonas\",28\\nname2,alter2=\"Karl\",32\\nF\"{name} ist {abs(alter-alter2)} Jahre {alt_jung(alter,alter2)} als {name2}.\"',\n",
       "  'einkäufe=[\\n        (7,\"Packungen Tomaten\", 3.76),\\n        (12, \"Nudeln\", 1.45),\\n        (5,\"Bio Rindfleisch spezial\", 24.20),\\n        ]\\nkurs_euro_sfr=1.08\\nfor anzahl, text, preis in einkäufe:\\n    gesamt= anzahl*preis\\n    gesamt_in_sfr=gesamt*kurs_euro_sfr\\n    print(f\"{anzahl} von {text} in SFR {gesamt_in_sfr}\")',\n",
       "  'einkäufe=[\\n        (7,\"Packungen Tomaten\", 3.76),\\n        (12, \"Nudeln\", 1.45),\\n        (5,\"Bio Rindfleisch spezial\", 24.20),\\n        ]\\nkurs_euro_sfr=1.08\\nfor anzahl, text, preis in einkäufe:\\n    gesamt= anzahl*preis\\n    gesamt_in_sfr=gesamt*kurs_euro_sfr\\n    print(f\"{anzahl:4d} von {text:25s} in SFR {gesamt_in_sfr:6.2F}\")',\n",
       "  'einkäufe=[\\n        (7,\"Packungen Tomaten\", 3.76),\\n        (12, \"Nudeln\", 1.45),\\n        (5,\"Bio Rindfleisch spezial\", 24.20),\\n        ]\\nkurs_euro_sfr=1.08\\nfor anzahl, text, preis in einkäufe:\\n    gesamt= anzahl*preis\\n    gesamt_in_sfr=gesamt*kurs_euro_sfr\\n    print(f\"{anzahl:4d} von {text:^25s} in SFR {gesamt_in_sfr:6.2f}\")',\n",
       "  'einkäufe=[\\n        (7,\"Packungen Tomaten\", 3.76),\\n        (12, \"Nudeln\", 1.45),\\n        (5,\"Bio Rindfleisch spezial\", 2477.20),\\n        ]\\nkurs_euro_sfr=1.08\\nfor anzahl, text, preis in einkäufe:\\n    gesamt= anzahl*preis\\n    gesamt_in_sfr=gesamt*kurs_euro_sfr\\n    print(f\"{anzahl:004d} von {text:^25s} in SFR {gesamt_in_sfr:=006.2f}\")',\n",
       "  'print(\"%10.3e\"% (356.08977))',\n",
       "  'print(\"%10.3E\"% (356.08977))',\n",
       "  'print(\"%10o\"% (25))',\n",
       "  'print(\"%10.3o\"% (25))',\n",
       "  'print(\"%10.5o\"% (25))',\n",
       "  'print(\"%5x\"% (47))',\n",
       "  'print(\"%5.4x\"% (47))',\n",
       "  'print(\"%5.4X\"% (47))',\n",
       "  'print(\"Ein Prozentzeichen: %% \" % ())',\n",
       "  'print(\"%#5X\"% (47))',\n",
       "  'print(\"%5X\"% (47))',\n",
       "  'print(\"%#5.4X\"% (47))',\n",
       "  'print(\"%#5o\"% (25))',\n",
       "  'print(\"%+d\"% (42))',\n",
       "  'print(\"% d\"% (42))',\n",
       "  'print(\"%+2d\"% (42))',\n",
       "  'print(\"% 2d\"% (42))',\n",
       "  'print(\"%2d\"% (42))',\n",
       "  's = \"Preis: $ %8.2f\"% (356.08977)\\nprint(s)',\n",
       "  '\"Erstes Argument: {0}, zweites: {1}\".format(47,11) ',\n",
       "  '\"Zweites Argument: {1}, erstes: {0}\".format(47,11) ',\n",
       "  '\"Zweites Argument: {1:3d}, erstes: {0:7.2f}\".format(47.42,11) ',\n",
       "  '\"Erstes Argument: {}, zweites: {}\".format(47,11) \\n\\n# Argumente können auch mehrmals verwendet werden:',\n",
       "  '\"precisions: {0:6.2f} or {0:6.3f}\".format(1.4148) ',\n",
       "  '\"Artikel: {a:5d},  Preis: {p:8.2f}\".format(a=453, p=59.058)',\n",
       "  '\"{0:<20s} {1:6.2f}\".format(\\'Spam & Eggs:\\', 6.99)',\n",
       "  '\"{0:>20s} {1:6.2f}\".format(\\'Spam & Ham:\\', 7.99)',\n",
       "  '\"{0:<20} {1:6.2f}\".format(\\'Spam \\', 0)',\n",
       "  'x = 378\\nprint(\"The value is {0:06d}\".format(x))',\n",
       "  'x = -378\\nprint(\"The value is {0:06d}\".format(x))',\n",
       "  '\"{0:>20} {1:6.2f}\".format(\\'Spam & Ham:\\', 7.99)',\n",
       "  'print(\"Die Hauptstadt von {0:s} ist {1:s}\".format(\"Ontario\",\"Toronto\"))',\n",
       "  'print(\"Die Hauptstadt von {province} ist {capital}\".format(province=\"Ontario\",capital=\"Toronto\"))    ',\n",
       "  'data = dict(province=\"Ontario\",capital=\"Toronto\")\\ndata',\n",
       "  'print(\"The capital of {province} is {capital}\".format(**data))',\n",
       "  'capital_country = {\"Vereinigte Staaten\" : \"Washington\", \\n                   \"US\" : \"Washington\", \\n                   \"Kanada\" : \"Ottawa\",\\n                   \"Deutschland\": \"Berlin\",\\n                   \"Frankreich\" : \"Paris\",\\n                   \"England\" : \"London\",\\n                   \"Großbritannien\" : \"London\",\\n                   \"Schweiz\" : \"Bern\",\\n                   \"Österreich\" : \"Wien\",\\n                   \"Niederlande\" : \"Amsterdam\"}\\n\\nprint(\"Länder und Ihre Hauptstädte:\")\\nfor c in capital_country:\\n    print(\"{country}: {capital}\".format(country=c, capital=capital_country[c]))    ',\n",
       "  'capital_country = {\"Vereinigte Staaten\" : \"Washington\", \\n                   \"US\" : \"Washington\", \\n                   \"Kanada\" : \"Ottawa\",\\n                   \"Deutschland\": \"Berlin\",\\n                   \"Frankreich\" : \"Paris\",\\n                   \"England\" : \"London\",\\n                   \"Großbritannien\" : \"London\",\\n                   \"Schweiz\" : \"Bern\",\\n                   \"Österreich\" : \"Wien\",\\n                   \"Niederlande\" : \"Amsterdam\"}\\n\\nprint(\"Countries and their capitals:\")\\nfor c in capital_country:\\n    format_string = c + \": {\" + c + \"}\" \\n    print(format_string.format(**capital_country))',\n",
       "  'a = 42\\nb = 47\\ndef f(): return 42\\nlocals()'],\n",
       " 'Out': {3: 'Mein Freund Jonas ist 19 Jahre alt',\n",
       "  5: 'Mein Freund Jonas ist 19 Jahre alt',\n",
       "  9: 'Jonas ist 9 Jahre jünger als Kartl.',\n",
       "  10: 'Jonas ist 9 Jahre jünger als Karl.',\n",
       "  11: 'Jonas ist 1 Jahre älter als Karl.',\n",
       "  12: 'Jonas ist 4 Jahre jünger als Karl.',\n",
       "  13: 'Jonas ist jünger Jahre jünger als Karl.',\n",
       "  14: 'Jonas ist 4 Jahre jünger als Karl.',\n",
       "  15: 'Jonas ist 4 Jahre jünger als Karl.',\n",
       "  18: 'Ein Python dictionary d={\"a\":1,\\'b\\':2}',\n",
       "  19: 'Jonas ist 4 Jahre jünger als Karl.',\n",
       "  21: 'Jonas ist 4 Jahre jünger als Karl.',\n",
       "  58: 'Mein Freund Jonas ist 19 Jahre alt',\n",
       "  60: 'Jonas ist 4 Jahre jünger als Karl.',\n",
       "  61: 'Ein Python dictionary d={\"a\":1,\\'b\\':2}',\n",
       "  62: 'Jonas ist 4 Jahre jünger als Karl.',\n",
       "  86: 'Erstes Argument: 47, zweites: 11',\n",
       "  87: 'Zweites Argument: 11, erstes: 47',\n",
       "  88: 'Zweites Argument:  11, erstes:   47.42',\n",
       "  89: 'Erstes Argument: 47, zweites: 11',\n",
       "  90: 'precisions:   1.41 or  1.415',\n",
       "  91: 'Artikel:   453,  Preis:    59.06',\n",
       "  92: 'Spam & Eggs:           6.99',\n",
       "  93: '         Spam & Ham:   7.99',\n",
       "  94: 'Spam                   0.00',\n",
       "  97: '         Spam & Ham:   7.99',\n",
       "  100: {'province': 'Ontario', 'capital': 'Toronto'}},\n",
       " 'get_ipython': <bound method InteractiveShell.get_ipython of <ipykernel.zmqshell.ZMQInteractiveShell object at 0x000000FD731B2F70>>,\n",
       " 'exit': <IPython.core.autocall.ZMQExitAutocall at 0xfd73fed6a0>,\n",
       " 'quit': <IPython.core.autocall.ZMQExitAutocall at 0xfd73fed6a0>,\n",
       " '_': {'province': 'Ontario', 'capital': 'Toronto'},\n",
       " '__': '         Spam & Ham:   7.99',\n",
       " '___': 'Spam                   0.00',\n",
       " '_i': 'capital_country = {\"Vereinigte Staaten\" : \"Washington\", \\n                   \"US\" : \"Washington\", \\n                   \"Kanada\" : \"Ottawa\",\\n                   \"Deutschland\": \"Berlin\",\\n                   \"Frankreich\" : \"Paris\",\\n                   \"England\" : \"London\",\\n                   \"Großbritannien\" : \"London\",\\n                   \"Schweiz\" : \"Bern\",\\n                   \"Österreich\" : \"Wien\",\\n                   \"Niederlande\" : \"Amsterdam\"}\\n\\nprint(\"Countries and their capitals:\")\\nfor c in capital_country:\\n    format_string = c + \": {\" + c + \"}\" \\n    print(format_string.format(**capital_country))',\n",
       " '_ii': 'capital_country = {\"Vereinigte Staaten\" : \"Washington\", \\n                   \"US\" : \"Washington\", \\n                   \"Kanada\" : \"Ottawa\",\\n                   \"Deutschland\": \"Berlin\",\\n                   \"Frankreich\" : \"Paris\",\\n                   \"England\" : \"London\",\\n                   \"Großbritannien\" : \"London\",\\n                   \"Schweiz\" : \"Bern\",\\n                   \"Österreich\" : \"Wien\",\\n                   \"Niederlande\" : \"Amsterdam\"}\\n\\nprint(\"Länder und Ihre Hauptstädte:\")\\nfor c in capital_country:\\n    print(\"{country}: {capital}\".format(country=c, capital=capital_country[c]))    ',\n",
       " '_iii': 'print(\"The capital of {province} is {capital}\".format(**data))',\n",
       " '_i1': 'Formatierte Stringliterale oder f-strings wurden ab Python 3.6 eingeführt. Syntax ist sehr einfach und flexibel. Ein Beispiel ist:',\n",
       " '_i2': 'name,alter =\"Jonas\",19\\nf\"Mein Freund {Jonas} ist {alter} Jahre alt\"',\n",
       " 'name': 'Jonas',\n",
       " 'alter': 28,\n",
       " '_i3': 'name,alter =\"Jonas\",19\\nf\"Mein Freund {name} ist {alter} Jahre alt\"',\n",
       " '_3': 'Mein Freund Jonas ist 19 Jahre alt',\n",
       " '_i4': 'name,alter =\"Jonas\",19\\nf\"Mein Freund {name} ist {alter} Jahre alt\"\\nprint(f\"Mein Freund {name} ist {alter} Jahre alt\")',\n",
       " '_i5': 'name,alter =\"Jonas\",19\\nf\"Mein Freund {name} ist {alter} Jahre alt\"',\n",
       " '_5': 'Mein Freund Jonas ist 19 Jahre alt',\n",
       " '_i6': 'name,alter =\"Jonas\",19\\nf\"Mein Freund {name} ist {alter} Jahre alt\"\\nprint(f\"Mein Freund {name} ist {alter} Jahre alt\")',\n",
       " '_i7': 'name,alter=\"Jonas\",23\\nname2,alter2=\"Kartl\",32\\nf\"{name} ist {abs(alter-alter2)} Jahre {\"jünger\" if alter-alter2<0 else \"älter\"} als {name2}.\"',\n",
       " '_i8': 'name,alter=\"Jonas\",23\\nname2,alter2=\"Kartl\",32\\nf\"{name} ist {abs(alter-alter2)} Jahre {\\'jünger\\' if alter-alter2<0 else \\'älter\\'\\'} als {name2}.\"',\n",
       " '_i9': 'name,alter=\"Jonas\",23\\nname2,alter2=\"Kartl\",32\\nf\"{name} ist {abs(alter-alter2)} Jahre {\\'jünger\\' if alter-alter2<0 else \\'älter\\'} als {name2}.\"',\n",
       " 'name2': 'Karl',\n",
       " 'alter2': 32,\n",
       " '_9': 'Jonas ist 9 Jahre jünger als Kartl.',\n",
       " '_i10': 'name,alter=\"Jonas\",23\\nname2,alter2=\"Karl\",32\\nf\"{name} ist {abs(alter-alter2)} Jahre {\\'jünger\\' if alter-alter2<0 else \\'älter\\'} als {name2}.\"',\n",
       " '_10': 'Jonas ist 9 Jahre jünger als Karl.',\n",
       " '_i11': 'name,alter=\"Jonas\",33\\nname2,alter2=\"Karl\",32\\nf\"{name} ist {abs(alter-alter2)} Jahre {\\'jünger\\' if alter-alter2<0 else \\'älter\\'} als {name2}.\"',\n",
       " '_11': 'Jonas ist 1 Jahre älter als Karl.',\n",
       " '_i12': 'name,alter=\"Jonas\",28\\nname2,alter2=\"Karl\",32\\nf\"{name} ist {abs(alter-alter2)} Jahre {\\'jünger\\' if alter-alter2<0 else \\'älter\\'} als {name2}.\"',\n",
       " '_12': 'Jonas ist 4 Jahre jünger als Karl.',\n",
       " '_i13': 'def alt_jung(alter1,alter2):\\n    if alter1<alter2:\\n        return \"jünger\"\\n    else:\\n        return \"älter\"\\nname,alter=\"Jonas\",28\\nname2,alter2=\"Karl\",32\\nf\"{name} ist {alt_jung(alter,alter2)} Jahre {\\'jünger\\' if alter-alter2<0 else \\'älter\\'} als {name2}.\"',\n",
       " 'alt_jung': <function __main__.alt_jung(alter1, alter2)>,\n",
       " '_13': 'Jonas ist jünger Jahre jünger als Karl.',\n",
       " '_i14': 'def alt_jung(alter1,alter2):\\n    if alter1<alter2:\\n        return \"jünger\"\\n    else:\\n        return \"älter\"\\nname,alter=\"Jonas\",28\\nname2,alter2=\"Karl\",32\\nf\"{name} ist {abs(alter-alter2)} Jahre {alt_jung(alter,alter2)} als {name2}.\"',\n",
       " '_14': 'Jonas ist 4 Jahre jünger als Karl.',\n",
       " '_i15': 'def alt_jung(alter1,alter2):\\n    if alter1<alter2:\\n        return \"jünger\"\\n    else:\\n        return \"älter\"\\nname,alter=\"Jonas\",28\\nname2,alter2=\"Karl\",32\\nF\"{name} ist {abs(alter-alter2)} Jahre {alt_jung(alter,alter2)} als {name2}.\"',\n",
       " '_15': 'Jonas ist 4 Jahre jünger als Karl.',\n",
       " '_i16': 'f\"Ein Python dictionary d={{\"a\":1,\"b\":2}}',\n",
       " '_i17': 'f\"Ein Python dictionary d={{\\\\\"a\\\\\":1,\\'b\\':2}}',\n",
       " '_i18': 'f\"Ein Python dictionary d={{\\\\\"a\\\\\":1,\\'b\\':2}}\"',\n",
       " '_18': 'Ein Python dictionary d={\"a\":1,\\'b\\':2}',\n",
       " '_i19': 'def alt_jung(alter1,alter2):\\n    if alter1<alter2:\\n        return \"jünger\"\\n    else:\\n        return \"älter\"\\nname,alter=\"Jonas\",28\\nname2,alter2=\"Karl\",32\\nF\"{name} ist {abs(alter-alter2)} Jahre {alt_jung(alter,alter2)} als {name2}.\"',\n",
       " '_19': 'Jonas ist 4 Jahre jünger als Karl.',\n",
       " '_i20': 'name,alter =\"Jonas\",19\\nf\"Mein Freund {name} ist {alter} Jahre alt\"\\nprint(f\"Mein Freund {name} ist {alter} Jahre alt\")',\n",
       " '_i21': 'name,alter=\"Jonas\",28\\nname2,alter2=\"Karl\",32\\nf\"{name} ist {abs(alter-alter2)} Jahre {\\'jünger\\' if alter-alter2<0 else \\'älter\\'} als {name2}.\"',\n",
       " '_21': 'Jonas ist 4 Jahre jünger als Karl.',\n",
       " '_i22': 'einkäufe=[\\n        (7,\"Packungen Tomaten\", 3.76),\\n        (12, \"Nudeln\", 1.45)\\n        (5,\"Bio Rindfleisch spezial\", 24.20)]',\n",
       " '_i23': 'einkäufe=[\\n        (7,\"Packungen Tomaten\", 3.76),\\n        (12, \"Nudeln\", 1.45)\\n        (5,\"Bio Rindfleisch spezial\", 24.20),\\n        ]',\n",
       " '_i24': 'einkäufe=[\\n        (7,\"Packungen Tomaten\", 3.76),\\n        (12, \"Nudeln\", 1.45)\\n        (5,\"Bio Rindfleisch spezial\", 24.20),\\n        ]\\nkurs_euro_sfr=1.08\\nfor anzahl, text, preis in einkäufe:\\n    gesamt= anzahl*preis\\n    gesamt_in_sfr=gesamt*kurs_euro_sfr\\n    print(f\"{anzahl} von {text} in SFR {gesamt_in_sfr})',\n",
       " '_i25': 'einkäufe=[\\n        (7,\"Packungen Tomaten\", 3.76),\\n        (12, \"Nudeln\", 1.45)\\n        (5,\"Bio Rindfleisch spezial\", 24.20),\\n        ]\\nkurs_euro_sfr=1.08\\nfor anzahl, text, preis in einkäufe:\\n    gesamt= anzahl*preis\\n    gesamt_in_sfr=gesamt*kurs_euro_sfr\\n    print(f\"{anzahl} von {text} in SFR {gesamt_in_sfr}\")',\n",
       " '_i26': 'einkäufe=[\\n        (7,\"Packungen Tomaten\", 3.76),\\n        (12, \"Nudeln\", 1.45),\\n        (5,\"Bio Rindfleisch spezial\", 24.20),\\n        ]\\nkurs_euro_sfr=1.08\\nfor anzahl, text, preis in einkäufe:\\n    gesamt= anzahl*preis\\n    gesamt_in_sfr=gesamt*kurs_euro_sfr\\n    print(f\"{anzahl} von {text} in SFR {gesamt_in_sfr}\")',\n",
       " 'einkäufe': [(7, 'Packungen Tomaten', 3.76),\n",
       "  (12, 'Nudeln', 1.45),\n",
       "  (5, 'Bio Rindfleisch spezial', 2477.2)],\n",
       " 'kurs_euro_sfr': 1.08,\n",
       " 'anzahl': 5,\n",
       " 'text': 'Bio Rindfleisch spezial',\n",
       " 'preis': 2477.2,\n",
       " 'gesamt': 12386.0,\n",
       " 'gesamt_in_sfr': 13376.880000000001,\n",
       " '_i27': 'einkäufe=[\\n        (7,\"Packungen Tomaten\", 3.76),\\n        (12, \"Nudeln\", 1.45),\\n        (5,\"Bio Rindfleisch spezial\", 24.20),\\n        ]\\nkurs_euro_sfr=1.08\\nfor anzahl, text, preis in einkäufe:\\n    gesamt= anzahl*preis\\n    gesamt_in_sfr=gesamt*kurs_euro_sfr\\n    print(f\"{anzahl:i3} von {text:s20} in SFR {gesamt_in_sfr:f5.2}\")',\n",
       " '_i28': 'einkäufe=[\\n        (7,\"Packungen Tomaten\", 3.76),\\n        (12, \"Nudeln\", 1.45),\\n        (5,\"Bio Rindfleisch spezial\", 24.20),\\n        ]\\nkurs_euro_sfr=1.08\\nfor anzahl, text, preis in einkäufe:\\n    gesamt= anzahl*preis\\n    gesamt_in_sfr=gesamt*kurs_euro_sfr\\n    print(f\"{anzahl:d3} von {text:s20} in SFR {gesamt_in_sfr:f5.2}\")',\n",
       " '_i29': 'einkäufe=[\\n        (7,\"Packungen Tomaten\", 3.76),\\n        (12, \"Nudeln\", 1.45),\\n        (5,\"Bio Rindfleisch spezial\", 24.20),\\n        ]\\nkurs_euro_sfr=1.08\\nfor anzahl, text, preis in einkäufe:\\n    gesamt= anzahl*preis\\n    gesamt_in_sfr=gesamt*kurs_euro_sfr\\n    print(f\"{anzahl:3d} von {text:20s} in SFR {gesamt_in_sfr:5.2f}\")',\n",
       " '_i30': 'einkäufe=[\\n        (7,\"Packungen Tomaten\", 3.76),\\n        (12, \"Nudeln\", 1.45),\\n        (5,\"Bio Rindfleisch spezial\", 24.20),\\n        ]\\nkurs_euro_sfr=1.08\\nfor anzahl, text, preis in einkäufe:\\n    gesamt= anzahl*preis\\n    gesamt_in_sfr=gesamt*kurs_euro_sfr\\n    print(f\"{anzahl:3d} von {text:30s} in SFR {gesamt_in_sfr:5.2f}\")',\n",
       " '_i31': 'einkäufe=[\\n        (7,\"Packungen Tomaten\", 3.76),\\n        (12, \"Nudeln\", 1.45),\\n        (5,\"Bio Rindfleisch spezial\", 24.20),\\n        ]\\nkurs_euro_sfr=1.08\\nfor anzahl, text, preis in einkäufe:\\n    gesamt= anzahl*preis\\n    gesamt_in_sfr=gesamt*kurs_euro_sfr\\n    print(f\"{anzahl:3d} von {text:30s} in SFR {gesamt_in_sfr:5.2E}\")',\n",
       " '_i32': 'einkäufe=[\\n        (7,\"Packungen Tomaten\", 3.76),\\n        (12, \"Nudeln\", 1.45),\\n        (5,\"Bio Rindfleisch spezial\", 24.20),\\n        ]\\nkurs_euro_sfr=1.08\\nfor anzahl, text, preis in einkäufe:\\n    gesamt= anzahl*preis\\n    gesamt_in_sfr=gesamt*kurs_euro_sfr\\n    print(f\"{anzahl:3d} von {text:30s} in SFR {gesamt_in_sfr:5.2f}\")',\n",
       " '_i33': 'einkäufe=[\\n        (7,\"Packungen Tomaten\", 3.76),\\n        (12, \"Nudeln\", 1.45),\\n        (5,\"Bio Rindfleisch spezial\", 24.20),\\n        ]\\nkurs_euro_sfr=1.08\\nfor anzahl, text, preis in einkäufe:\\n    gesamt= anzahl*preis\\n    gesamt_in_sfr=gesamt*kurs_euro_sfr\\n    print(f\"{anzahl} von {text} in SFR {gesamt_in_sfr}\")',\n",
       " '_i34': 'einkäufe=[\\n        (7,\"Packungen Tomaten\", 3.76),\\n        (12, \"Nudeln\", 1.45),\\n        (5,\"Bio Rindfleisch spezial\", 24.20),\\n        ]\\nkurs_euro_sfr=1.08\\nfor anzahl, text, preis in einkäufe:\\n    gesamt= anzahl*preis\\n    gesamt_in_sfr=gesamt*kurs_euro_sfr\\n    print(f\"{anzahl:4d} von {text:25s} in SFR {gesamt_in_sfr:f7.2}\")',\n",
       " '_i35': 'einkäufe=[\\n        (7,\"Packungen Tomaten\", 3.76),\\n        (12, \"Nudeln\", 1.45),\\n        (5,\"Bio Rindfleisch spezial\", 24.20),\\n        ]\\nkurs_euro_sfr=1.08\\nfor anzahl, text, preis in einkäufe:\\n    gesamt= anzahl*preis\\n    gesamt_in_sfr=gesamt*kurs_euro_sfr\\n    print(f\"{anzahl:4d} von {text:25s} in SFR {gesamt_in_sfr:7.2f}\")',\n",
       " '_i36': 'einkäufe=[\\n        (7,\"Packungen Tomaten\", 3.76),\\n        (12, \"Nudeln\", 1.45),\\n        (5,\"Bio Rindfleisch spezial\", 24.20),\\n        ]\\nkurs_euro_sfr=1.08\\nfor anzahl, text, preis in einkäufe:\\n    gesamt= anzahl*preis\\n    gesamt_in_sfr=gesamt*kurs_euro_sfr\\n    print(f\"{anzahl:4d} von {text:25s} in SFR {gesamt_in_sfr:5.2f}\")',\n",
       " '_i37': 'einkäufe=[\\n        (7,\"Packungen Tomaten\", 3.76),\\n        (12, \"Nudeln\", 1.45),\\n        (5,\"Bio Rindfleisch spezial\", 24.20),\\n        ]\\nkurs_euro_sfr=1.08\\nfor anzahl, text, preis in einkäufe:\\n    gesamt= anzahl*preis\\n    gesamt_in_sfr=gesamt*kurs_euro_sfr\\n    print(f\"{anzahl:4d} von {text:25s} in SFR {gesamt_in_sfr:6.2f}\")',\n",
       " '_i38': 'einkäufe=[\\n        (7,\"Packungen Tomaten\", 3.76),\\n        (12, \"Nudeln\", 1.45),\\n        (5,\"Bio Rindfleisch spezial\", 24.20),\\n        ]\\nkurs_euro_sfr=1.08\\nfor anzahl, text, preis in einkäufe:\\n    gesamt= anzahl*preis\\n    gesamt_in_sfr=gesamt*kurs_euro_sfr\\n    print(f\"{anzahl:4d} von {text:^25s} in SFR {gesamt_in_sfr:6.2f}\")',\n",
       " '_i39': 'einkäufe=[\\n        (7,\"Packungen Tomaten\", 3.76),\\n        (12, \"Nudeln\", 1.45),\\n        (5,\"Bio Rindfleisch spezial\", 24.20),\\n        ]\\nkurs_euro_sfr=1.08\\nfor anzahl, text, preis in einkäufe:\\n    gesamt= anzahl*preis\\n    gesamt_in_sfr=gesamt*kurs_euro_sfr\\n    print(f\"{anzahl:4d} von {text:^25s} in SFR {gesamt_in_sfr:6.2f}\")',\n",
       " '_i40': '<table cellpadding=\"6\" cellspacing=\"0\" border=\"1\" bgcolor=\"#F5F5F5\">\\n  <thead>\\n    <tr>\\n      <th>Platzhaltersymbol</th>\\n      <th>Bedeutung</th>\\n      </tr>\\n    </thead>\\n  <tbody>\\n    <tr><td valign=\"baseline\"><tt>d</tt></td>\\n        <td>Vorzeichenbehaftete Ganzzahl (Integer, dezimal).</td>\\n        </tr>\\n    <tr><td valign=\"baseline\"><tt>i</tt></td>\\n        <td>Vorzeichenbehaftete Ganzzahl (Integer, dezimal).</td>\\n        </tr>\\n    <tr><td valign=\"baseline\"><tt>o</tt></td>\\n        <td>vorzeichenlose Ganzzahlen (oktal)</td>\\n        </tr>\\n    <tr><td valign=\"baseline\"><tt>u</tt></td>\\n        <td>vorzeichenlose Ganzzahlen (dezimal)</td>\\n        </tr>\\n    <tr><td valign=\"baseline\"><tt>x</tt></td>\\n        <td>vorzeichenlose Ganzzahlen (hexadezimal)</td>\\n        </tr>\\n    <tr><td valign=\"baseline\"><tt>X</tt></td>\\n        <td>vorzeichenlose Ganzzahlen (hexadezimal), Uppercase</td>\\n        </tr>\\n    <tr><td valign=\"baseline\"><tt>e</tt></td>\\n        <td>Fließkommazahl im Exponentialformat (in Kleinbuchstaben).</td>\\n        </tr>\\n    <tr><td valign=\"baseline\"><tt>E</tt></td>\\n        <td>Fließkommazahl im Exponentialformat (in Großbuchstaben).</td>\\n        </tr>\\n    <tr><td valign=\"baseline\"><tt>f</tt></td>\\n        <td>wie e</td>\\n        </tr>\\n    <tr><td valign=\"baseline\"><tt>F</tt></td>\\n        <td>wie E</td>\\n        </tr>\\n    <tr><td valign=\"baseline\"><tt>g</tt></td>\\n        <td>Wie \"<tt>e</tt>\", wenn der Exponent größer ist als -4 oder\\n              oder kleiner als die Präzision. Ansonsten wie \"<tt>f</tt>\"</td>\\n        </tr>\\n    <tr><td valign=\"baseline\"><tt>G</tt></td>\\n        <td>wie \"<tt>E</tt>\" und analog zu \"<tt>g</tt>\"</td>\\n        </tr>\\n    <tr><td valign=\"baseline\"><tt>c</tt></td>\\n        <td>ein Zeichen</td>\\n        </tr>\\n    <tr><td valign=\"baseline\"><tt>s</tt></td>\\n        <td>Eine Zeichenkette (String); beliebige Python-Objekte werden in String mittels der Methode <tt>str()</tt>) gewandelt.</td>\\n        </tr>\\n    <tr><td valign=\"baseline\"><tt>r</tt></td>\\n        <td>siehe <tt>s</tt></td>\\n        </tr>\\n    <tr><td valign=\"baseline\"><tt>%</tt></td>\\n        <td>Es findet keine Argument-Konvertierung statt, es wird ein \"<tt>%</tt>\"-Zeichen ausgegeben.</td>\\n        </tbody>\\n</table>',\n",
       " '_i41': 'einkäufe=[\\n        (7,\"Packungen Tomaten\", 3.76),\\n        (12, \"Nudeln\", 1.45),\\n        (5,\"Bio Rindfleisch spezial\", 24.20),\\n        ]\\nkurs_euro_sfr=1.08\\nfor anzahl, text, preis in einkäufe:\\n    gesamt= anzahl*preis\\n    gesamt_in_sfr=gesamt*kurs_euro_sfr\\n    print(f\"{anzahl:4X} von {text:25s} in SFR {gesamt_in_sfr:6.2f}\")',\n",
       " '_i42': 'einkäufe=[\\n        (7,\"Packungen Tomaten\", 3.76),\\n        (12, \"Nudeln\", 1.45),\\n        (5,\"Bio Rindfleisch spezial\", 24.20),\\n        ]\\nkurs_euro_sfr=1.08\\nfor anzahl, text, preis in einkäufe:\\n    gesamt= anzahl*preis\\n    gesamt_in_sfr=gesamt*kurs_euro_sfr\\n    print(f\"{anzahl:4d} von {text:25s} in SFR {gesamt_in_sfr:6.2F}\")',\n",
       " '_i43': 'einkäufe=[\\n        (7,\"Packungen Tomaten\", 3.76),\\n        (12, \"Nudeln\", 1.45),\\n        (5,\"Bio Rindfleisch spezial\", 24.20),\\n        ]\\nkurs_euro_sfr=1.08\\nfor anzahl, text, preis in einkäufe:\\n    gesamt= anzahl*preis\\n    gesamt_in_sfr=gesamt*kurs_euro_sfr\\n    print(f\"{anzahl:=4d} von {text:^25s} in SFR {gesamt_in_sfr:6.2f}\")',\n",
       " '_i44': 'einkäufe=[\\n        (7,\"Packungen Tomaten\", 3.76),\\n        (12, \"Nudeln\", 1.45),\\n        (5,\"Bio Rindfleisch spezial\", 24.20),\\n        ]\\nkurs_euro_sfr=1.08\\nfor anzahl, text, preis in einkäufe:\\n    gesamt= anzahl*preis\\n    gesamt_in_sfr=gesamt*kurs_euro_sfr\\n    print(f\"{anzahl:=04d} von {text:^25s} in SFR {gesamt_in_sfr:6.2f}\")',\n",
       " '_i45': 'einkäufe=[\\n        (7,\"Packungen Tomaten\", 3.76),\\n        (12, \"Nudeln\", 1.45),\\n        (5,\"Bio Rindfleisch spezial\", 24.20),\\n        ]\\nkurs_euro_sfr=1.08\\nfor anzahl, text, preis in einkäufe:\\n    gesamt= anzahl*preis\\n    gesamt_in_sfr=gesamt*kurs_euro_sfr\\n    print(f\"{anzahl:=+4d} von {text:^25s} in SFR {gesamt_in_sfr:6.2f}\")',\n",
       " '_i46': 'einkäufe=[\\n        (7,\"Packungen Tomaten\", 3.76),\\n        (12, \"Nudeln\", 1.45),\\n        (5,\"Bio Rindfleisch spezial\", 24.20),\\n        ]\\nkurs_euro_sfr=1.08\\nfor anzahl, text, preis in einkäufe:\\n    gesamt= anzahl*preis\\n    gesamt_in_sfr=gesamt*kurs_euro_sfr\\n    print(f\"{anzahl:=#4d} von {text:^25s} in SFR {gesamt_in_sfr:6.2f}\")',\n",
       " '_i47': 'einkäufe=[\\n        (7,\"Packungen Tomaten\", 3.76),\\n        (12, \"Nudeln\", 1.45),\\n        (5,\"Bio Rindfleisch spezial\", 24.20),\\n        ]\\nkurs_euro_sfr=1.08\\nfor anzahl, text, preis in einkäufe:\\n    gesamt= anzahl*preis\\n    gesamt_in_sfr=gesamt*kurs_euro_sfr\\n    print(f\"{anzahl:=004d} von {text:^25s} in SFR {gesamt_in_sfr:6.2f}\")',\n",
       " '_i48': 'einkäufe=[\\n        (7,\"Packungen Tomaten\", 3.76),\\n        (12, \"Nudeln\", 1.45),\\n        (5,\"Bio Rindfleisch spezial\", 24.20),\\n        ]\\nkurs_euro_sfr=1.08\\nfor anzahl, text, preis in einkäufe:\\n    gesamt= anzahl*preis\\n    gesamt_in_sfr=gesamt*kurs_euro_sfr\\n    print(f\"{anzahl:=4d} von {text:^25s} in SFR {gesamt_in_sfr:6.2f}\")',\n",
       " '_i49': 'einkäufe=[\\n        (7,\"Packungen Tomaten\", 3.76),\\n        (12, \"Nudeln\", 1.45),\\n        (5,\"Bio Rindfleisch spezial\", 24.20),\\n        ]\\nkurs_euro_sfr=1.08\\nfor anzahl, text, preis in einkäufe:\\n    gesamt= anzahl*preis\\n    gesamt_in_sfr=gesamt*kurs_euro_sfr\\n    print(f\"{anzahl:=004d} von {text:^25s} in SFR {gesamt_in_sfr:6.2f}\")',\n",
       " '_i50': 'einkäufe=[\\n        (7,\"Packungen Tomaten\", 3.76),\\n        (12, \"Nudeln\", 1.45),\\n        (5,\"Bio Rindfleisch spezial\", 24.20),\\n        ]\\nkurs_euro_sfr=1.08\\nfor anzahl, text, preis in einkäufe:\\n    gesamt= anzahl*preis\\n    gesamt_in_sfr=gesamt*kurs_euro_sfr\\n    print(f\"{anzahl:=0004d} von {text:^25s} in SFR {gesamt_in_sfr:6.2f}\")',\n",
       " '_i51': 'einkäufe=[\\n        (7,\"Packungen Tomaten\", 3.76),\\n        (12, \"Nudeln\", 1.45),\\n        (5,\"Bio Rindfleisch spezial\", 24.20),\\n        ]\\nkurs_euro_sfr=1.08\\nfor anzahl, text, preis in einkäufe:\\n    gesamt= anzahl*preis\\n    gesamt_in_sfr=gesamt*kurs_euro_sfr\\n    print(f\"{anzahl:004d} von {text:^25s} in SFR {gesamt_in_sfr:=006.2f}\")',\n",
       " '_i52': 'einkäufe=[\\n        (7,\"Packungen Tomaten\", 3.76),\\n        (12, \"Nudeln\", 1.45),\\n        (5,\"Bio Rindfleisch spezial\", 2477.20),\\n        ]\\nkurs_euro_sfr=1.08\\nfor anzahl, text, preis in einkäufe:\\n    gesamt= anzahl*preis\\n    gesamt_in_sfr=gesamt*kurs_euro_sfr\\n    print(f\"{anzahl:004d} von {text:^25s} in SFR {gesamt_in_sfr:,6.2f}\")',\n",
       " '_i53': 'einkäufe=[\\n        (7,\"Packungen Tomaten\", 3.76),\\n        (12, \"Nudeln\", 1.45),\\n        (5,\"Bio Rindfleisch spezial\", 2477.20),\\n        ]\\nkurs_euro_sfr=1.08\\nfor anzahl, text, preis in einkäufe:\\n    gesamt= anzahl*preis\\n    gesamt_in_sfr=gesamt*kurs_euro_sfr\\n    print(f\"{anzahl:004d} von {text:^25s} in SFR {gesamt_in_sfr:=006.2f}\")',\n",
       " '_i54': 'q = 459\\np = 0.098\\nprint(q, p, p * q)',\n",
       " 'q': 459,\n",
       " 'p': 0.098,\n",
       " '_i55': 'print(q, p, p * q, sep=\",\")',\n",
       " '_i56': 'print(q, p, p * q, sep=\" :-) \")',\n",
       " '_i57': 'print(str(q) + \" \" + str(p) + \" \" + str(p * q))',\n",
       " '_i58': 'name,alter =\"Jonas\",19\\nf\"Mein Freund {name} ist {alter} Jahre alt\"',\n",
       " '_58': 'Mein Freund Jonas ist 19 Jahre alt',\n",
       " '_i59': 'name,alter =\"Jonas\",19\\nf\"Mein Freund {name} ist {alter} Jahre alt\"\\nprint(f\"Mein Freund {name} ist {alter} Jahre alt\")',\n",
       " '_i60': 'name,alter=\"Jonas\",28\\nname2,alter2=\"Karl\",32\\nf\"{name} ist {abs(alter-alter2)} Jahre {\\'jünger\\' if alter-alter2<0 else \\'älter\\'} als {name2}.\"',\n",
       " '_60': 'Jonas ist 4 Jahre jünger als Karl.',\n",
       " '_i61': 'f\"Ein Python dictionary d={{\\\\\"a\\\\\":1,\\'b\\':2}}\"',\n",
       " '_61': 'Ein Python dictionary d={\"a\":1,\\'b\\':2}',\n",
       " '_i62': 'def alt_jung(alter1,alter2):\\n    if alter1<alter2:\\n        return \"jünger\"\\n    else:\\n        return \"älter\"\\nname,alter=\"Jonas\",28\\nname2,alter2=\"Karl\",32\\nF\"{name} ist {abs(alter-alter2)} Jahre {alt_jung(alter,alter2)} als {name2}.\"',\n",
       " '_62': 'Jonas ist 4 Jahre jünger als Karl.',\n",
       " '_i63': 'einkäufe=[\\n        (7,\"Packungen Tomaten\", 3.76),\\n        (12, \"Nudeln\", 1.45),\\n        (5,\"Bio Rindfleisch spezial\", 24.20),\\n        ]\\nkurs_euro_sfr=1.08\\nfor anzahl, text, preis in einkäufe:\\n    gesamt= anzahl*preis\\n    gesamt_in_sfr=gesamt*kurs_euro_sfr\\n    print(f\"{anzahl} von {text} in SFR {gesamt_in_sfr}\")',\n",
       " '_i64': 'einkäufe=[\\n        (7,\"Packungen Tomaten\", 3.76),\\n        (12, \"Nudeln\", 1.45),\\n        (5,\"Bio Rindfleisch spezial\", 24.20),\\n        ]\\nkurs_euro_sfr=1.08\\nfor anzahl, text, preis in einkäufe:\\n    gesamt= anzahl*preis\\n    gesamt_in_sfr=gesamt*kurs_euro_sfr\\n    print(f\"{anzahl:4d} von {text:25s} in SFR {gesamt_in_sfr:6.2F}\")',\n",
       " '_i65': 'einkäufe=[\\n        (7,\"Packungen Tomaten\", 3.76),\\n        (12, \"Nudeln\", 1.45),\\n        (5,\"Bio Rindfleisch spezial\", 24.20),\\n        ]\\nkurs_euro_sfr=1.08\\nfor anzahl, text, preis in einkäufe:\\n    gesamt= anzahl*preis\\n    gesamt_in_sfr=gesamt*kurs_euro_sfr\\n    print(f\"{anzahl:4d} von {text:^25s} in SFR {gesamt_in_sfr:6.2f}\")',\n",
       " '_i66': 'einkäufe=[\\n        (7,\"Packungen Tomaten\", 3.76),\\n        (12, \"Nudeln\", 1.45),\\n        (5,\"Bio Rindfleisch spezial\", 2477.20),\\n        ]\\nkurs_euro_sfr=1.08\\nfor anzahl, text, preis in einkäufe:\\n    gesamt= anzahl*preis\\n    gesamt_in_sfr=gesamt*kurs_euro_sfr\\n    print(f\"{anzahl:004d} von {text:^25s} in SFR {gesamt_in_sfr:=006.2f}\")',\n",
       " '_i67': 'print(\"%10.3e\"% (356.08977))',\n",
       " '_i68': 'print(\"%10.3E\"% (356.08977))',\n",
       " '_i69': 'print(\"%10o\"% (25))',\n",
       " '_i70': 'print(\"%10.3o\"% (25))',\n",
       " '_i71': 'print(\"%10.5o\"% (25))',\n",
       " '_i72': 'print(\"%5x\"% (47))',\n",
       " '_i73': 'print(\"%5.4x\"% (47))',\n",
       " '_i74': 'print(\"%5.4X\"% (47))',\n",
       " '_i75': 'print(\"Ein Prozentzeichen: %% \" % ())',\n",
       " '_i76': 'print(\"%#5X\"% (47))',\n",
       " '_i77': 'print(\"%5X\"% (47))',\n",
       " '_i78': 'print(\"%#5.4X\"% (47))',\n",
       " '_i79': 'print(\"%#5o\"% (25))',\n",
       " '_i80': 'print(\"%+d\"% (42))',\n",
       " '_i81': 'print(\"% d\"% (42))',\n",
       " '_i82': 'print(\"%+2d\"% (42))',\n",
       " '_i83': 'print(\"% 2d\"% (42))',\n",
       " '_i84': 'print(\"%2d\"% (42))',\n",
       " '_i85': 's = \"Preis: $ %8.2f\"% (356.08977)\\nprint(s)',\n",
       " 's': 'Preis: $   356.09',\n",
       " '_i86': '\"Erstes Argument: {0}, zweites: {1}\".format(47,11) ',\n",
       " '_86': 'Erstes Argument: 47, zweites: 11',\n",
       " '_i87': '\"Zweites Argument: {1}, erstes: {0}\".format(47,11) ',\n",
       " '_87': 'Zweites Argument: 11, erstes: 47',\n",
       " '_i88': '\"Zweites Argument: {1:3d}, erstes: {0:7.2f}\".format(47.42,11) ',\n",
       " '_88': 'Zweites Argument:  11, erstes:   47.42',\n",
       " '_i89': '\"Erstes Argument: {}, zweites: {}\".format(47,11) \\n\\n# Argumente können auch mehrmals verwendet werden:',\n",
       " '_89': 'Erstes Argument: 47, zweites: 11',\n",
       " '_i90': '\"precisions: {0:6.2f} or {0:6.3f}\".format(1.4148) ',\n",
       " '_90': 'precisions:   1.41 or  1.415',\n",
       " '_i91': '\"Artikel: {a:5d},  Preis: {p:8.2f}\".format(a=453, p=59.058)',\n",
       " '_91': 'Artikel:   453,  Preis:    59.06',\n",
       " '_i92': '\"{0:<20s} {1:6.2f}\".format(\\'Spam & Eggs:\\', 6.99)',\n",
       " '_92': 'Spam & Eggs:           6.99',\n",
       " '_i93': '\"{0:>20s} {1:6.2f}\".format(\\'Spam & Ham:\\', 7.99)',\n",
       " '_93': '         Spam & Ham:   7.99',\n",
       " '_i94': '\"{0:<20} {1:6.2f}\".format(\\'Spam \\', 0)',\n",
       " '_94': 'Spam                   0.00',\n",
       " '_i95': 'x = 378\\nprint(\"The value is {0:06d}\".format(x))',\n",
       " 'x': -378,\n",
       " '_i96': 'x = -378\\nprint(\"The value is {0:06d}\".format(x))',\n",
       " '_i97': '\"{0:>20} {1:6.2f}\".format(\\'Spam & Ham:\\', 7.99)',\n",
       " '_97': '         Spam & Ham:   7.99',\n",
       " '_i98': 'print(\"Die Hauptstadt von {0:s} ist {1:s}\".format(\"Ontario\",\"Toronto\"))',\n",
       " '_i99': 'print(\"Die Hauptstadt von {province} ist {capital}\".format(province=\"Ontario\",capital=\"Toronto\"))    ',\n",
       " '_i100': 'data = dict(province=\"Ontario\",capital=\"Toronto\")\\ndata',\n",
       " 'data': {'province': 'Ontario', 'capital': 'Toronto'},\n",
       " '_100': {'province': 'Ontario', 'capital': 'Toronto'},\n",
       " '_i101': 'print(\"The capital of {province} is {capital}\".format(**data))',\n",
       " '_i102': 'capital_country = {\"Vereinigte Staaten\" : \"Washington\", \\n                   \"US\" : \"Washington\", \\n                   \"Kanada\" : \"Ottawa\",\\n                   \"Deutschland\": \"Berlin\",\\n                   \"Frankreich\" : \"Paris\",\\n                   \"England\" : \"London\",\\n                   \"Großbritannien\" : \"London\",\\n                   \"Schweiz\" : \"Bern\",\\n                   \"Österreich\" : \"Wien\",\\n                   \"Niederlande\" : \"Amsterdam\"}\\n\\nprint(\"Länder und Ihre Hauptstädte:\")\\nfor c in capital_country:\\n    print(\"{country}: {capital}\".format(country=c, capital=capital_country[c]))    ',\n",
       " 'capital_country': {'Vereinigte Staaten': 'Washington',\n",
       "  'US': 'Washington',\n",
       "  'Kanada': 'Ottawa',\n",
       "  'Deutschland': 'Berlin',\n",
       "  'Frankreich': 'Paris',\n",
       "  'England': 'London',\n",
       "  'Großbritannien': 'London',\n",
       "  'Schweiz': 'Bern',\n",
       "  'Österreich': 'Wien',\n",
       "  'Niederlande': 'Amsterdam'},\n",
       " 'c': 'Niederlande',\n",
       " '_i103': 'capital_country = {\"Vereinigte Staaten\" : \"Washington\", \\n                   \"US\" : \"Washington\", \\n                   \"Kanada\" : \"Ottawa\",\\n                   \"Deutschland\": \"Berlin\",\\n                   \"Frankreich\" : \"Paris\",\\n                   \"England\" : \"London\",\\n                   \"Großbritannien\" : \"London\",\\n                   \"Schweiz\" : \"Bern\",\\n                   \"Österreich\" : \"Wien\",\\n                   \"Niederlande\" : \"Amsterdam\"}\\n\\nprint(\"Countries and their capitals:\")\\nfor c in capital_country:\\n    format_string = c + \": {\" + c + \"}\" \\n    print(format_string.format(**capital_country))',\n",
       " 'format_string': 'Niederlande: {Niederlande}',\n",
       " '_i104': 'a = 42\\nb = 47\\ndef f(): return 42\\nlocals()',\n",
       " 'a': 42,\n",
       " 'b': 47,\n",
       " 'f': <function __main__.f()>}"
      ]
     },
     "execution_count": 104,
     "metadata": {},
     "output_type": "execute_result"
    }
   ],
   "source": [
    "a = 42\n",
    "b = 47\n",
    "def f(): return 42\n",
    "locals()"
   ]
  },
  {
   "cell_type": "code",
   "execution_count": null,
   "metadata": {},
   "outputs": [],
   "source": []
  },
  {
   "cell_type": "markdown",
   "metadata": {},
   "source": [
    "Das Dictionary, was von locals() zurückgeliegert wird, kann als Parameter für die format-Methode genutzt werden. Dadurch ist es möglich im Format-String lokale Variablen zu verwenden.\n",
    "\n",
    "Im folgenden Beispiel benutzen wir die lokalen Variablen a, b und f:"
   ]
  },
  {
   "cell_type": "code",
   "execution_count": 105,
   "metadata": {},
   "outputs": [
    {
     "name": "stdout",
     "output_type": "stream",
     "text": [
      "a=42, b=47 and f=<function f at 0x000000FD759E39D0>\n"
     ]
    }
   ],
   "source": [
    "print(\"a={a}, b={b} and f={f}\".format(**locals()))"
   ]
  },
  {
   "cell_type": "markdown",
   "metadata": {},
   "source": [
    "### Weitere String-Methoden zum Formatieren\n",
    "Die String-Klasse enthält weitere Methoden, die man auch zu Formatierungszwecken nutzen kann: ljust, rjust, center und zfill.\n",
    "\n",
    "Falls S ein String ist, können wir die vier Methoden wie folgt erklären:\n",
    "\n",
    "- center(...):\n",
    "<pre>\n",
    "    S.center(width[, fillchar]) -> str\n",
    "</pre>\n",
    "An den String S werden links und rechts Füllzeichen bis zur Länge \"width\" so angefügt, dass der ursprüngliche String zentriert wird. Wird für das Füllzeichen \"fillchar\" kein Wert angegeben, wird als Standardwert ein Leerzeichen verwendet.\n",
    "\n",
    "*Beispiele: "
   ]
  },
  {
   "cell_type": "code",
   "execution_count": 106,
   "metadata": {},
   "outputs": [
    {
     "data": {
      "text/plain": [
       "'  Python  '"
      ]
     },
     "execution_count": 106,
     "metadata": {},
     "output_type": "execute_result"
    }
   ],
   "source": [
    "s = \"Python\"\n",
    "s.center(10)   "
   ]
  },
  {
   "cell_type": "code",
   "execution_count": 107,
   "metadata": {},
   "outputs": [
    {
     "data": {
      "text/plain": [
       "'**Python**'"
      ]
     },
     "execution_count": 107,
     "metadata": {},
     "output_type": "execute_result"
    }
   ],
   "source": [
    "s.center(10,\"*\") "
   ]
  },
  {
   "cell_type": "markdown",
   "metadata": {},
   "source": [
    "- ljust(...):\n",
    "<pre>\n",
    "     S.ljust(width[, fillchar]) -> str \n",
    "</pre>\n",
    "Der String S wird linksbündig zurückgeliefert. Rechts wird der String mit Füllzeichen \"fillchar\" bis zur Länge \"width\" angefüllt. Auch hier ist ein Leerzeichen der Default-Wert für \"fillchar\".\n",
    "\n",
    "*Beispiele:"
   ]
  },
  {
   "cell_type": "code",
   "execution_count": 108,
   "metadata": {},
   "outputs": [
    {
     "data": {
      "text/plain": [
       "'Training    '"
      ]
     },
     "execution_count": 108,
     "metadata": {},
     "output_type": "execute_result"
    }
   ],
   "source": [
    "s = \"Training\"\n",
    "s.ljust(12)"
   ]
  },
  {
   "cell_type": "code",
   "execution_count": 109,
   "metadata": {},
   "outputs": [
    {
     "data": {
      "text/plain": [
       "'Training::::'"
      ]
     },
     "execution_count": 109,
     "metadata": {},
     "output_type": "execute_result"
    }
   ],
   "source": [
    "s.ljust(12,\":\")"
   ]
  },
  {
   "cell_type": "markdown",
   "metadata": {},
   "source": [
    "- rjust(...):\n",
    "\n",
    "<pre>\n",
    "    S.rjust(width[, fillchar]) -> str\n",
    "</pre>\n",
    "    \n",
    "Der String S wird rechtsbündig zurückgeliefert. Von links wird der String mit Füllzeichen \"fillchar\" bis zur Länge \"width\" angefüllt. Auch hier ist ein Leerzeichen der Default-Wert für \"fillchar\".\n",
    "\n",
    "*Beispiele:"
   ]
  },
  {
   "cell_type": "code",
   "execution_count": 110,
   "metadata": {},
   "outputs": [
    {
     "data": {
      "text/plain": [
       "'    Programming'"
      ]
     },
     "execution_count": 110,
     "metadata": {},
     "output_type": "execute_result"
    }
   ],
   "source": [
    "s = \"Programming\"\n",
    "s.rjust(15)"
   ]
  },
  {
   "cell_type": "code",
   "execution_count": 111,
   "metadata": {},
   "outputs": [
    {
     "data": {
      "text/plain": [
       "'~~~~Programming'"
      ]
     },
     "execution_count": 111,
     "metadata": {},
     "output_type": "execute_result"
    }
   ],
   "source": [
    "s.rjust(15, \"~\")"
   ]
  },
  {
   "cell_type": "markdown",
   "metadata": {},
   "source": [
    "- zfill(...):\n",
    "\n",
    "<pre>    \n",
    "    S.zfill(width) -> str\n",
    "</pre>"
   ]
  },
  {
   "cell_type": "markdown",
   "metadata": {},
   "source": [
    "Ein String S wird von links mit Nullen bis zu der Länge \"width\" aufgefüllt. Der String \" wird nicht abgeschnitten, falls er bereits länger als die vorgesehen Länge \"width\" ist. Diese Methode entspricht einem S.rjust(width, \"0\")\n",
    "\n",
    "*Beispiele:"
   ]
  },
  {
   "cell_type": "code",
   "execution_count": 112,
   "metadata": {},
   "outputs": [
    {
     "data": {
      "text/plain": [
       "'000043447879'"
      ]
     },
     "execution_count": 112,
     "metadata": {},
     "output_type": "execute_result"
    }
   ],
   "source": [
    "account_number = \"43447879\"\n",
    "account_number.zfill(12)"
   ]
  },
  {
   "cell_type": "code",
   "execution_count": 113,
   "metadata": {},
   "outputs": [
    {
     "data": {
      "text/plain": [
       "'000043447879'"
      ]
     },
     "execution_count": 113,
     "metadata": {},
     "output_type": "execute_result"
    }
   ],
   "source": [
    "# can be emulated with rjust:\n",
    "\n",
    "account_number.rjust(12,\"0\")"
   ]
  }
 ],
 "metadata": {
  "kernelspec": {
   "display_name": "Python 3",
   "language": "python",
   "name": "python3"
  },
  "language_info": {
   "codemirror_mode": {
    "name": "ipython",
    "version": 3
   },
   "file_extension": ".py",
   "mimetype": "text/x-python",
   "name": "python",
   "nbconvert_exporter": "python",
   "pygments_lexer": "ipython3",
   "version": "3.8.8"
  }
 },
 "nbformat": 4,
 "nbformat_minor": 2
}
