{
 "cells": [
  {
   "cell_type": "markdown",
   "metadata": {},
   "source": [
    "## Parameterübergabe: Parameter und Argumente\n",
    "\n",
    "Eine Funktion oder eine Prozedur benötigt üblicherweise Information über die Umgebung aus der heraus sie aufgerufen worden ist. Die Schnittstelle zwischen dieser Umgebung und der Funktion bzw. Prozedur, d.h. dem Funktionsrumpf (body) bzw. Prozedurrumpf, besteht aus speziellen Variablen, die man als Parameter bezeichnet. Indem man Parameter benutzt, kann man verschiedenste Objekte von \"außen\" innerhalb der Funktion benutzen. Die Syntax, wie man Parameter deklariert, und die Semantik, wie man die Argumente des Aufrufs an die formalen Parameter der Funktion oder Prozedur weiterleitet sind abhängig von der jeweiligen Programmiersprache.\n",
    "\n",
    "Im vorigen Abschnitt haben wir mehrfach die Begriffe Parameter und Argumente verwendet. Bei einigen Lesern hat sich sicherlich der Eindruck eingestellt, dass die beiden Begriffe synonym sind. Auch in der Literatur werden diese Begriffe häufig synonym verwendet. Dennoch gibt es einen klar definierten Unterschied. Parameter stehen im Kopf der Funktion oder Prozedur, also in der Definition der Funktion oder Prozedur. Während Argumente beim Aufruf verwendet werden. Sie liefern die Werte für die formalen Parameter während der Laufzeit des Programmes.\n",
    "\n",
    "### Wertübergabe oder Referenzübergabe\n",
    "\n",
    "<img class=\"imgright\" src=\"images/relay-race.jpg\" srcset=\"images/relay-rac_300w.webp 300w\" alt=\"Parameterübergabe als Staffellauf\" />\n",
    "\n",
    "Die Auswertungsstrategie für Argumente, das heißt wie die Argumente eines Funktionsaufrufes an die formalen Parameter der Funktion übergeben werden, unterscheidet sich von Programmiersprache zu Programmiersprache. Die häufigsten Strategien sind die Wertübergabe (englisch: call by value) und Referenzübergabe (auch Variablenübergabe, englisch: call by reference)\n",
    "\n",
    "- Wertübergabe (call by value)\n",
    "Bei der Wertübergabe stellt beim Aufruf einer Funktion jedes Argument einen Wert dar, der ausgewertet wird. Dieser Wert wird dann an den entsprechenden formalen Parameter übergeben, d.h. der Wert des i-ten Ausdrucks (Parameter) wird beim Aufruf dem i-ten Parameter zugewiesen. Die Ausdrücke können aus Literalen, Variablen oder beliebigen Ausdrücke (wie z.B. \"a + b + 7\" bestehen. Werte von übergebenen Parametern können nicht verändert werden!\n",
    "- Referenzübergabe(call by reference)\n",
    "Bei der Referenzübergabe werden, wie der Name impliziert, Referenzen (Speicheradressen) übergeben, d.h. die Speicheradresse des jeweiligen tatsächlichen Parameters. Der formale Parameter wird also zu einem Zeiger auf die Speicheradresse des aufrufenden Parameters. Das bewirkt, dass alle Änderungen an diesem Parameter innerhalb der Funktion sich auch im aufrufenden Teil des Programmes auswirken. Das bedeutet aber auch, dass die tatsächlichen Parameter beim Aufruf nur Ausdrücke sein können, deren Adresse berechnet werden können, also Variablen. \n",
    "\n",
    "Anmerkung: Die Namensparameter (call by name), wie sie in ALGOL 60 und COBOL genutzt wurde, ist heute nicht mehr üblich.\n",
    "\n",
    "### und wie sieht es bei Python aus?\n",
    "In vielen Büchern oder Einführungen in Python liest man, dass Python den einen oder den anderen Übergabemechanismus habe, also \"call by reference\" oder \"call by value\". Was ist nun richtig?\n",
    "\n",
    "<img class=\"imgleft\" src=\"../images/HumptyDumpty.webp\" alt=\"Humpty Dumpty\" /> \n",
    "\n",
    "Die Erklärung liefert uns Humpty Dumpty:\n",
    "\n",
    "\"Wenn ich ein Wort verwende\", erwiderte Humpty Dumpty ziemlich geringschätzig, \"dann bedeutet es genau, was ich es bedeuten lasse, und nichts anderes.\"\n",
    "\n",
    "\"Die Frage ist doch\", sagte Alice, \"ob du den Worten einfach so viele verschiedene Bedeutungen geben kannst\".\n",
    "\n",
    "\"Die Frage ist\", sagte Humpty Dumpty, \"wer die Macht hat - und das ist alles. [...]\"\n",
    "\n",
    "Lewis Carroll, Through the Looking-Glass (Alles hinter den Spiegeln)\n",
    "\n",
    "\n",
    "Doch was hat das mit unserer ursprünglichen Frage zu tun: Die Autoren \"dehnen\" die Begriffe \"call-by-value\" und \"call-by-reference\", so dass sie passen, also \"dann bedeutet es genau, was ich es bedeuten lasse, und nichts anderes.\"\n",
    "\n",
    "Python benutzt einen Mechanismus, den man als \"Call-by-Object\" (auch \"Call by Object Reference\" oder \"Call by Sharing\") bezeichnet.\n",
    "\n",
    "<img class=\"imgright\" src=\"../images/parameter_uebergabe1.webp\" alt=\"Parameterübergabe\" />\n",
    "\n",
    "Wenn man unveränderliche Argumente wie Integers, Strings oder Tuples an eine Funktion übergibt, verhält sich die Übergabe nach außen hin wie eine Wertübergabe. Die Referenz auf das unveränderliche Objekt wird an den formalen Parameter der Funktion übertragen. Innerhalb der Funktion kann der Inhalt des Objektes nicht verändert werden, da es sich ja um unveränderliche Objekte handelt.\n",
    "\n",
    "Anders verhält es sich jedoch, wenn man veränderliche Argumente überträgt. Auch sie werden per Referenz an die Funktionsparameter übertragen. Allerdings können einzelne Elemente eines solchen veränderlichen Objektes im Funktionsrumpf verändert werden. Wenn wir beispielsweise eine Liste an eine Funktion übergeben, müssen wir zwei Fälle unterscheiden: Die Elemente einer Liste können verändert werden, d.h. diese Änderung wirkt sich auch auf den Gültigkeitsbereich aus, aus dem die Funktion aufgerufen wurde. Wird allerdings ein komplett neues Element dem formalen Parameter zugewiesen, z.B. eine andere Liste, dann hat dies keine Auswirkungen auf die \"alte\" Liste, also auf die Liste, die beim Aufruf übergeben worden ist.\n",
    "\n",
    "Zuerst wollen wir einen Blick auf die Integer-Variablen werfen. Der Parameter innerhalb der Funktion ref_demo bleibt solange eine Referenz auf das Objekt, das übergeben wurde, wie keine Änderung am Parameter erfolgt. Sobald also ein neuer Wert an den Parameter überwiesen wird, erzeugt Python eine neue Speicherstelle für das Objekt und der formale Parameter zeigt nun auf diese Speicherstelle. Die Variable des Funktionsaufrufes wird dadurch nicht verändert, wie wir im folgenden Beispiel nachvollziehen können:"
   ]
  },
  {
   "cell_type": "code",
   "execution_count": 7,
   "metadata": {},
   "outputs": [
    {
     "name": "stdout",
     "output_type": "stream",
     "text": [
      "x ist: 1 und liegt bei 140720479479600\n",
      "x ist: 1 und liegt bei 140720479479600\n"
     ]
    }
   ],
   "source": [
    "def ref_demo(x):\n",
    "    #x=42 #Die neue Zuordnung verändert alles\n",
    "    print(f\"x ist: {x} und liegt bei {id(x)}\")\n",
    "x=1\n",
    "print(f\"x ist: {x} und liegt bei {id(x)}\")\n",
    "ref_demo(x)"
   ]
  },
  {
   "cell_type": "markdown",
   "metadata": {},
   "source": [
    "In dem obigen Beispiel haben wir die Identitätsfunktion id() benutzt, die ein Objekt als Parameter hat. id(obj) liefert die \"Identität\" des Objektes obj. Diese Identität, der Rückgabewert der Funktion, ist ein Integer, der eindeutig und konstant für dieses Objekt ist, solange es im Programmablauf existiert.\n",
    "\n",
    "<img class=\"imgright\" src=\"../images/parameter_uebergabe2.webp\" alt=\"Parameterübergabe\" />\n",
    "\n",
    "Zwei Objekte, die gleichzeitig existieren müssen verschiedene Identitäten haben. Zwei verschiedene Objekte, die nicht-überlappende Lebensbereiche haben, dürfen allerdings den gleichen Identitätswert haben.\n",
    "\n",
    "Wenn man die Funktion ref_demo() des obigen Beispiels aufruft, so wie wir es im grünen Block weiter unten tun, können wir prüfen, was mit x passiert: Wir können im Hauptprogramm (main Gültigkeitsbereich) sehen, dass x die Identität zBs. 41902552 hat. In der ersten print-Anweisung der ref_demo()-Funktion, wird das x aus dem main-Gültigkeitsbereich benutzt, denn wir sehen, dass wir den gleichen Identitätswert für x erhalten. Wenn wir jedoch den Wert 42 dem x zuweisen, erhält x eine neue Identität, zBs. 41903752, das heißt eine separate Speicherstelle und das x in main bleibt unberührt, d.h. es hat weiterhin den Wert 9.\n",
    "\n",
    "Dies bedeutet, dass sich Python zuerst wie Call-by-Reference verhält, aber sobald es einen Wert zugewiesen bekommen, verhält es sich wie bei Call-by-Value. Es wird also eine lokale Speicherposition für den formalen Parameter x angelegt und das x in main behält seinen ursprünglichen Wert:"
   ]
  },
  {
   "cell_type": "markdown",
   "metadata": {},
   "source": [
    "### Seiteneffekte\n",
    "Von einem Funktionsaufruf erwartet man, dass die Funktion den korrekten Wert für die Argumente zurückliefert und sonst keine Effekte verursacht, z.B. Ändern von Speicherzuständen. Auch wenn manche Programmierer bewusst Seiteneffekte zur Lösung ihrer Probleme einsetzen, wird dies im Allgemeinen als schlechter Stil betrachtet.\n",
    "Schlimmer ist es jedoch, wenn Seiteneffekte auftreten, mit denen man nicht gerechnet hat, und dadurch Fehler verursacht werden. Dies kann auch in Python passieren. Dies kann dann geschehen, wenn Listen oder Dictionaries als Parameter übergeben werden.\n",
    "Im folgenden Beispiel wird die Liste fib, die als aktueller Parameter an die Funktion s() übergeben wird, mit der Liste [47,11] verkettet."
   ]
  },
  {
   "cell_type": "code",
   "execution_count": 8,
   "metadata": {},
   "outputs": [],
   "source": [
    "def s(liste):\n",
    "     print(id(liste))\n",
    "     liste += [47,11]\n",
    "     print(id(liste)) #Referenz bleibt im Gegensatz zu Integer Beispiel, weil Liste nur intern verändert wird"
   ]
  },
  {
   "cell_type": "code",
   "execution_count": 9,
   "metadata": {},
   "outputs": [
    {
     "data": {
      "text/plain": [
       "763556094848"
      ]
     },
     "execution_count": 9,
     "metadata": {},
     "output_type": "execute_result"
    }
   ],
   "source": [
    "fib = [0,1,1,2,3,5,8]\n",
    "id(fib)"
   ]
  },
  {
   "cell_type": "code",
   "execution_count": 10,
   "metadata": {},
   "outputs": [
    {
     "name": "stdout",
     "output_type": "stream",
     "text": [
      "763556094848\n",
      "763556094848\n"
     ]
    }
   ],
   "source": [
    "s(fib)"
   ]
  },
  {
   "cell_type": "code",
   "execution_count": 27,
   "metadata": {},
   "outputs": [
    {
     "data": {
      "text/plain": [
       "2364656585160"
      ]
     },
     "execution_count": 27,
     "metadata": {},
     "output_type": "execute_result"
    }
   ],
   "source": [
    "id(fib)"
   ]
  },
  {
   "cell_type": "code",
   "execution_count": 11,
   "metadata": {},
   "outputs": [
    {
     "data": {
      "text/plain": [
       "[0, 1, 1, 2, 3, 5, 8, 47, 11]"
      ]
     },
     "execution_count": 11,
     "metadata": {},
     "output_type": "execute_result"
    }
   ],
   "source": [
    "fib"
   ]
  },
  {
   "cell_type": "markdown",
   "metadata": {},
   "source": [
    "Man kann dies verhindern, wenn man statt einer Liste eine Kopie der Liste als Parameter übergibt. Mittels der Slicing Funktion kann man ganz leicht eine Kopie erzeugen. So wird in s(fib[:]) nicht die Liste fib sonder eine komplette Kopie übergeben. Der Aufruf verändert also nicht den Wert von fib, wie man im folgenden interaktiven Programmstück sehen kann:"
   ]
  },
  {
   "cell_type": "code",
   "execution_count": 22,
   "metadata": {},
   "outputs": [
    {
     "name": "stdout",
     "output_type": "stream",
     "text": [
      "[0, 1, 1, 2, 3, 5, 8, 47, 11]\n"
     ]
    }
   ],
   "source": [
    "def s(liste):\n",
    "     liste += [47,11]\n",
    "     print(liste)\n",
    " \n",
    "fib = [0,1,1,2,3,5,8]\n",
    "s(fib[:]) #Kopie wird übergeben"
   ]
  },
  {
   "cell_type": "code",
   "execution_count": 23,
   "metadata": {},
   "outputs": [
    {
     "data": {
      "text/plain": [
       "[0, 1, 1, 2, 3, 5, 8]"
      ]
     },
     "execution_count": 23,
     "metadata": {},
     "output_type": "execute_result"
    }
   ],
   "source": [
    "fib"
   ]
  }
 ],
 "metadata": {
  "kernelspec": {
   "display_name": "Python 3",
   "language": "python",
   "name": "python3"
  },
  "language_info": {
   "codemirror_mode": {
    "name": "ipython",
    "version": 3
   },
   "file_extension": ".py",
   "mimetype": "text/x-python",
   "name": "python",
   "nbconvert_exporter": "python",
   "pygments_lexer": "ipython3",
   "version": "3.8.8"
  }
 },
 "nbformat": 4,
 "nbformat_minor": 2
}
