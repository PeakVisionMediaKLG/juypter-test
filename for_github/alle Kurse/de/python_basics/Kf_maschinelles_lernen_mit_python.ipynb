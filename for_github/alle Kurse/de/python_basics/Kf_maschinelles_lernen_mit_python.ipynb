{
 "cells": [
  {
   "cell_type": "markdown",
   "metadata": {},
   "source": [
    "## Einführung in maschinelles Lernen mit Python"
   ]
  },
  {
   "cell_type": "markdown",
   "metadata": {},
   "source": [
    "<img class=\"imgright\" width=\"60%\" src=\"../images/robot_jugglers.webp\" srcset=\"../images/robot_jugglers_300w.webp 300w\" alt=\"Daten und Visualisierungen sets and Visualization\" />\n",
    "\n",
    "### Unterschied zwischen \"maschinellem Lernen\" (Machine Learning) und \"Künstlicher Intelligenz\" (Artificial Intelligence)\n",
    "\n",
    "Andrew Moore, ehemaliger Dekan der School of Computer Science an der Carnegie Mellon University:\n",
    "\"Artificial intelligence is the science and engineering of making computers behave in ways that, until recently, we thought required human intelligence.\"\n",
    "\n",
    "Schon die Frage \"Was ist Intelligenz?\" lässt sich nur schwer beantworten. \n",
    "\"Was ist künstliche Intelligenz?\" hängt von der Beantwortung der vorigen Frage ab.\n",
    "\n",
    "Hilfreich ist die Unterteilung in\n",
    "\n",
    "**schwache KI** und **starke KI**\n",
    "\n",
    "\n",
    "### Starke und schwache KI\n",
    "\n",
    "schwache KI:\n",
    "\n",
    "- beschäftigt sich mit konkreten Anwendungsproblemen\n",
    "- Unterstüzung des menschlichen Denkens in Teilbereichen\n",
    "- lernfähig in dem Teilbereich\n",
    "- kein Bewusstsein\n",
    "\n",
    "\n",
    "starke KI:\n",
    "- \"allgemeine Intelligenz\"\n",
    "- Vergleichbar mit der menschlichen Intelligenz, muss aber nicht gleich sein, könnte andersartig sein\n",
    "- logisches Denken\n",
    "- Kommunikationsfähigkeit, natürliche Sprache\n",
    "- generell lernfähig\n",
    "- Bewusstsein?\n",
    "- Empfindungsvermögen, Emotionen?\n",
    "- Eigenwahrnehmung?\n",
    "\n",
    "Starke KI wären Computersysteme, die auf Augenhöhe mit Menschen arbeiten und diese bei schwierigen Aufgaben unterstützen können. Demgegenüber geht es bei schwacher KI darum, konkrete Anwendungsprobleme zu meistern. Das menschliche Denken und technische Anwendungen sollen hier in Einzelbereichen unterstützt werden.[1] Die Fähigkeit zu lernen ist eine Hauptanforderung an KI-Systeme und muss ein integraler Bestandteil sein, der nicht erst nachträglich hinzugefügt werden darf. Ein zweites Hauptkriterium ist die Fähigkeit eines KI-Systems, mit Unsicherheit und probabilistischen Informationen umzugehen.[2] Insbesondere sind solche Anwendungen von Interesse, zu deren Lösung nach allgemeinem Verständnis eine Form von „Intelligenz“ notwendig zu sein scheint. Letztlich geht es der schwachen KI somit um die Simulation intelligenten Verhaltens mit Mitteln der Mathematik und der Informatik, es geht ihr nicht um Schaffung von Bewusstsein oder um ein tieferes Verständnis von Intelligenz. Während die Schaffung starker KI an ihrer philosophischen Fragestellung bis heute scheiterte, sind auf der Seite der schwachen KI in den letzten Jahren bedeutende Fortschritte erzielt worden.\n",
    "\n",
    "Ein starkes KI-System muss nicht viele Gemeinsamkeiten mit dem Menschen haben. Es wird wahrscheinlich eine andersartige kognitive Architektur aufweisen und in seinen Entwicklungsstadien ebenfalls nicht mit den evolutionären kognitiven Stadien des menschlichen Denkens vergleichbar sein (Evolution des Denkens). Vor allem ist nicht anzunehmen, dass eine künstliche Intelligenz Gefühle wie Liebe, Hass, Angst oder Freude besitzt.[3] Es kann solchen Gefühlen entsprechendes Verhalten jedoch simulieren. \n",
    "\n",
    "\n",
    "\n",
    "\n",
    "### Was versteht man unter Maschinellem Lernen?\n",
    "\n",
    "Beginnen wir mit einem sehr \"alten\" Versuch einer Definition von Arthur Samuek, einem IBM-Pionier:\n",
    "\n",
    "> \"Machine Learning: Field of study that gives computers the ability to learn without being explicitly programmed.\" (\"Maschinelles Lernen: Ein Studienbereich, in dem Computer lernen können, ohne explizit programmiert zu werden.\")\n",
    "\n",
    "Ein guter Versuch, aber es bleiben viele Fragen offen. Fast 40 Jahre später, 1998, prägt Tom Mitchell ein \"wohlgestelltes Lernproblem\" wiefolgt:\n",
    "\n",
    "> \"Well posed Learning Problem: A computer program is said to learn from experience E with respect to some task T and some performance measure P, if its performance on T, as measured by P, improves with experience E.“  (Ein wohlgestelltes  Lernproblem: Ein Computerprogramm soll aus Erfahrung E in Bezug auf eine Aufgabe T und ein Leistungsmaß P lernen, wenn sich seine Leistung auf T, gemessen durch P, mit Erfahrung E verbessert.)\n",
    "\n",
    "(Anmerkung: \n",
    "Ein mathematisches Problem heißt korrekt gestellt (auch wohlgestellt, gut gestellt oder sachgemäß gestellt), wenn folgende Bedingungen erfüllt sind:\n",
    "\n",
    "-    Das Problem hat eine Lösung (Existenz).\n",
    "-    Diese Lösung ist eindeutig bestimmt (Eindeutigkeit).\n",
    "-    Diese Lösung hängt stetig von den Eingangsdaten ab (Stabilität).\n",
    ")\n",
    "\n",
    "\n",
    "\n",
    "Also, was ist maschinelles Lernen?\n",
    "\n",
    "Maschinelles Lernen ist der Prozess des automatischen Extrahierens von Wissen aus Daten, normalerweise mit dem Ziel, Vorhersagen über neue, unsichtbare Daten zu treffen. Wie bereits erwähnt, könnte ein Spamfilter mittels eines Klassifikators basierend auf maschinellem Lernen realisiert werden.\n",
    "\n",
    "Im Zentrum des maschinellen Lernens steht das Konzept, die Entscheidungsfindung aus Daten zu automatisieren, ohne dass der Benutzer explizite Regeln angibt, wie diese Entscheidung getroffen werden soll.\n",
    "Für den Fall von E-Mails gibt der Benutzer keine Liste von Wörtern oder Merkmalen an, die eine E-Mail zu Spam machen. Stattdessen gibt der Benutzer Beispiele für Spam- und Nicht-Spam-E-Mails an, die als solche gekennzeichnet sind. Dabei handelt es sich dann um das sogenannte Lernset.\n",
    "\n",
    "Das Ziel eines maschinellen Lernmodells ist die Vorhersage neuer, zuvor nicht sichtbarer Daten. In einer realen Anwendung sind wir nicht daran interessiert, eine bereits gekennzeichnete E-Mail als Spam zu markieren oder nicht. Stattdessen möchten wir dem Benutzer das Leben erleichtern, indem wir neue eingehende E-Mails automatisch klassifizieren.\n",
    "\n",
    "Diese Beispiele werden dann vom Algorithmus gelernt oder trainiert.\n",
    "\n"
   ]
  },
  {
   "cell_type": "markdown",
   "metadata": {},
   "source": [
    "### Maschinelles Lernen\n",
    "\n",
    "Maschinelles Lernen bedeutet, dass ein Algorithmus (die Maschine) automatisch lernt. Dies bedeutet, dass es in der Lage ist, das notwendige Wissen automatisch aus gegebenen Daten zu extrahieren. Ziel ist es, Vorhersagen für neue, unsichtbare Daten zu treffen. Es gibt eine andere Art, es auszudrücken: In traditionellen heuristischen Entscheidungsalgorithmen legen die Programmierer die Regeln fest, nach denen die Entscheidungen getroffen werden. Beim maschinellen Lernen erfolgt dies unabhängig vom Programm ohne Eingriffe des Menschen! \n",
    "\n",
    "<img src=\"../images/wer_erstellt_die_regeln.webp\" width=\"90%\">\n",
    "<br><br>"
   ]
  },
  {
   "cell_type": "markdown",
   "metadata": {},
   "source": [
    "### Taxonomie des maschinellen Lernens\n",
    "\n",
    "Es gibt zwei verschiedene Ansätze für maschinelles Lernen:\n",
    "\n",
    "- Unbeaufsichtigtes Lernen\n",
    "- Überwachtes Lernen\n",
    "\n",
    "Wir werden uns ausschließlich mit \"überwachtem Lernen in diesem Tutorial\" befassen. \n",
    "\n",
    "<img src=\"../images/taxonomie_des_maschinellen_lernens.webp\" width=\"90%\">"
   ]
  },
  {
   "cell_type": "markdown",
   "metadata": {},
   "source": [
    "### Überwachtes Lernen: Klassifikation und Regression"
   ]
  },
  {
   "cell_type": "markdown",
   "metadata": {},
   "source": [
    "Beim *überwachten Lernen* haben wir einen Datensatz, der sowohl aus Eingabemerkmalen als auch aus einer gewünschten Ergebnis besteht, wie im Beispiel für Spam / No-Spam. Die Aufgabe besteht darin, ein Modell (oder Programm) zu erstellen, das die gewünschte Ausgabe eines unbekannten Objektes vorhersagen kann anhand von Merkmalen.\n",
    "\n",
    "Einige kompliziertere Beispiele sind:\n",
    "\n",
    "- Bestimmung eines Zeichen, wenn ein  Pixelbild des Zeichens vorliegt.\n",
    "- Man hat ein Bild eines der Tiere „Hunde“, „Katzen“, „Kühe“, „Schafe“ und möchte nun bestimmen, um welches Tier es sich handelt.\n",
    "- Personen auf Fotos bestimmen.\n",
    "- Bestimmen Sie anhand einer Liste von Büchern oder Filmen, welche anderen Bücher oder Filme einer Person gefallen könnten.\n",
    "\n",
    "Gemeinsam ist diesen Aufgaben, dass es eine oder mehrere unbekannte dem Objekt zuzuordnende Quantitäten gibt, die aus beobachteten Eigenschaften erschlossen werden müssen.\n",
    "\n",
    "Das überwachte Lernen wird weiter in zwei Kategorien unterteilt: \n",
    "\n",
    "#### Klassifikation \n",
    "\n",
    "<img src=\"../images/classification_animals.webp\">\n",
    "\n",
    "#### Regression:\n",
    "\n",
    "<img src=\"../images/regression_overview.webp\">\n",
    "\n",
    "\n",
    "Auf den Punkt gebracht: Bei der Klassifizierung geht es um die **Vorhersage eines Labels** und bei der Regression um die **Vorhersage einer Quantität**.\n",
    "\n",
    "\n",
    "- **Bei der Klassifizierung ist das Label diskret**, z. B. \"Spam\" oder \"kein Spam\". Mit anderen Worten bietet es eine klare Unterscheidung zwischen Kategorien. Darüber hinaus ist zu beachten, dass Klassenbeschriftungen nominalskalierte Variablen und keine ordinalskalierte Variablen sind. Nominal- und Ordinalvariablen sind beides Unterkategorien von kategorialen Variablen. Ordnungsvariablen entsprechen einer Reihenfolge, zum Beispiel T-Shirt-Größen \"XL > L > M > S\". Andererseits implizieren nominale Variablen keine Reihenfolge, zum Beispiel können wir (normalerweise) nicht von \"orange > blau > grün\" ausgehen.\n",
    "\n",
    "- **Bei der Regression ist die Bezeichnung fortlaufend**, d.h. eine Float-Ausgabe.\n",
    "\n",
    "Beispielsweise ist die Aufgabe, festzustellen, welches Tier („Hund“, „Katze“, „Kuh“, „Schaf“) in einem Bild dargestellt ist, ein Klassifizierungsproblem, d.h. vier verschiedene Kategorien. Auf der anderen Seite könnten wir\n",
    "das Alter eines Objekts anhand einiger Beobachtungen abschätzen wollen: Dies wäre ein Regressionsproblem.\n",
    "weil das Etikett (Alter) eine kontinuierliche Größe ist.\n",
    "\n",
    "Beim überwachten Lernen wird immer zwischen einem **Trainingssatz** (Lernset), für den das gewünschte Ergebnis angegeben bzw. bekannnt ist, und einem **Testsatz** unterschieden, für den das gewünschte Ergebnis abgeleitet oder berechnet werden muss. Das Lernmodell passt das Vorhersagemodell an den Trainingssatz an, und wir verwenden den Testsatz, um seine Generalisierungsleistung zu bewerten."
   ]
  },
  {
   "cell_type": "markdown",
   "metadata": {},
   "source": [
    "### Unüberwachtes Lernen\n",
    "\n",
    "Beim \"Unüberwachten Lernen\" ist den Daten keine gewünschte Ausgabe zugeordnet. Stattdessen sind wir daran interessiert, irgendeine Form von Wissen oder Modell aus den gegebenen Daten zu extrahieren. In gewissem Sinne können Sie sich unbeaufsichtigtes Lernen als Mittel vorstellen, um Labels (Etiketten) aus den Daten selbst zu entdecken. Unüberwachtes Lernen ist oft schwieriger zu verstehen und zu bewerten.\n",
    "\n",
    "Unbeaufsichtigtes Lernen umfasst Aufgaben wie Dimensionsreduktion, Clustering und Dichteschätzung. Zum Beispiel können wir in den oben diskutierten Irisdaten unbeaufsichtigte Methoden verwenden, um Kombinationen der Messungen zu bestimmen, die die Struktur der Daten am besten darstellen. Wie wir unten sehen werden, kann eine solche Projektion der Daten verwendet werden, um den vierdimensionalen Datensatz in zwei Dimensionen zu visualisieren. Einige weitere unbeaufsichtigte Lernprobleme sind:\n",
    "\n",
    "-  Bestimmen Sie anhand detaillierter Beobachtungen entfernter Galaxien, welche Merkmale oder Merkmalskombinationen die Informationen am besten zusammenfassen.\n",
    "-    Trennen Sie eine Mischung aus zwei Schallquellen (z. B. eine Person spricht, während Musik spielt) \n",
    "-    Isolieren Sie in einem gegebenen Video ein sich bewegendes Objekt und kategorisieren Sie es in Bezug auf andere sich bewegende Objekte, die gesehen wurden.\n",
    "-    Bei einer großen Sammlung von Nachrichtenartikeln finden Sie in diesen Artikeln wiederkehrende Themen.\n",
    "-   Bei einer bestimmten Bildersammlung werden ähnliche Bilder zu einem Cluster zusammengefasst (um sie beispielsweise bei der Visualisierung einer Sammlung zu gruppieren).\n",
    "\n",
    "Manchmal können die beiden sogar kombiniert werden: z. Unbeaufsichtigtes Lernen kann verwendet werden, um nützliche Merkmale in heterogenen Daten zu finden, und diese Merkmale können dann in einem überwachten Rahmen verwendet werden.\n"
   ]
  },
  {
   "cell_type": "markdown",
   "metadata": {},
   "source": [
    "### Beispiele für maschinelles Lernen\n",
    "\n",
    "- Spam Filter:\n",
    "Der Algorithmus lernt ein Vorhersagemodell aus Daten, die als \"Spam\" und \"kein Spam\" (ham) gekennzeichnet sind. Nach dem Training kann für neue E-Mails vorhergesagt werden, ob es sich um Spam handelt oder nicht.\n",
    "- Zeichenerkennung\n",
    "- Objekterkennung in Bildern\n",
    "- und viele mehr\n",
    "\n",
    "Wie bereits erwähnt, könnte ein Spamfilter unter Verwendung eines Klassifikators implementiert werden, der auf maschinellem Lernen basiert.\n",
    "\n",
    "Im Zentrum des maschinellen Lernens steht das Konzept der Automatisierung der Entscheidungsfindung aus Daten, ohne dass der Benutzer explizite Regeln für die Entscheidungsfindung festlegt.\n",
    "Bei E-Mails stellt der Benutzer keine Liste von Wörtern oder Funktionen bereit, die eine E-Mail als Spam auszeichnen. Stattdessen stellt der Benutzer Beispiele für Spam- und Nicht-Spam-E-Mails bereit, die als solche gekennzeichnet sind. Dies ist das sogenannte Lernset.\n",
    "\n",
    "Ziel eines maschinellen Lernmodells ist es, neue, bisher unsichtbare Daten vorherzusagen. In einer realen Anwendung sind wir nicht daran interessiert, eine bereits markierte E-Mail als Spam zu markieren oder nicht. Stattdessen möchten wir den Benutzern das Leben erleichtern, indem wir neue eingehende E-Mails automatisch klassifizieren.\n",
    "\n",
    "\n",
    "Diese Beispiele werden dann vom Algorithmus gelernt oder trainiert: "
   ]
  },
  {
   "cell_type": "markdown",
   "metadata": {},
   "source": [
    "<img src=\"../images/supervised_learning_training_phase.webp\" width=\"100%\">\n",
    "<br><br>\n",
    "\n",
    "Nach der Lernphase müssen wir den Klassifikator bewerten. Wir testen sowohl an gekennzeichneten Lerndaten als auch an nicht erlernten gekennzeichneten Testdaten: \n",
    "\n",
    "\n",
    "<img src=\"../images/supervised_learning_evaluation_phase.webp\" width=\"100%\">\n",
    "<br><br>\n",
    "\n",
    "\n",
    "Wenn wir mit den Ergebnissen zufrieden sind, kann der Klassifizierer völlig unbekannte, also bisher nicht gelernte, Dokumente klassifizieren: \n",
    "\n",
    "<br><br>\n",
    "<img src=\"../images/supervised_learning_prediction.webp\" width=\"100%\">\n",
    "\n"
   ]
  },
  {
   "cell_type": "markdown",
   "metadata": {},
   "source": [
    "Die Daten werden dem Algorithmus normalerweise als zweidimensionales Array (oder Matrix) von Zahlen präsentiert. Jeder Datenpunkt (auch als *Training* oder *Trainingsinstanz* bezeichnet), von dem wir entweder lernen oder eine Entscheidung treffen möchten, wird als eine Liste von Zahlen dargestellt, ein sogenannter Merkmalsvektor, und seine enthaltenen Merkmale repräsentieren die Eigenschaften dieses Objektes. "
   ]
  },
  {
   "cell_type": "code",
   "execution_count": null,
   "metadata": {},
   "outputs": [],
   "source": []
  }
 ],
 "metadata": {
  "anaconda-cloud": {},
  "celltoolbar": "Tags",
  "hide_input": false,
  "kernelspec": {
   "display_name": "Python 3",
   "language": "python",
   "name": "python3"
  },
  "language_info": {
   "codemirror_mode": {
    "name": "ipython",
    "version": 3
   },
   "file_extension": ".py",
   "mimetype": "text/x-python",
   "name": "python",
   "nbconvert_exporter": "python",
   "pygments_lexer": "ipython3",
   "version": "3.7.6"
  },
  "name": "_merged_merged",
  "toc": {
   "base_numbering": 1,
   "nav_menu": {},
   "number_sections": true,
   "sideBar": true,
   "skip_h1_title": false,
   "title_cell": "Table of Contents",
   "title_sidebar": "Contents",
   "toc_cell": false,
   "toc_position": {},
   "toc_section_display": true,
   "toc_window_display": true
  },
  "varInspector": {
   "cols": {
    "lenName": 16,
    "lenType": 16,
    "lenVar": 40
   },
   "kernels_config": {
    "python": {
     "delete_cmd_postfix": "",
     "delete_cmd_prefix": "del ",
     "library": "var_list.py",
     "varRefreshCmd": "print(var_dic_list())"
    },
    "r": {
     "delete_cmd_postfix": ") ",
     "delete_cmd_prefix": "rm(",
     "library": "var_list.r",
     "varRefreshCmd": "cat(var_dic_list()) "
    }
   },
   "types_to_exclude": [
    "module",
    "function",
    "builtin_function_or_method",
    "instance",
    "_Feature"
   ],
   "window_display": false
  }
 },
 "nbformat": 4,
 "nbformat_minor": 4
}
