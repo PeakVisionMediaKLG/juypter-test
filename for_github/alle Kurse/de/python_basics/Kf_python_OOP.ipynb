{
 "cells": [
  {
   "cell_type": "markdown",
   "metadata": {},
   "source": [
    "<h2>Klassen</h2>\n",
    "<h3>objektorientierte Programmierung</h3>\n",
    "<p>\n",
    "<img class=\"imgleft\" src=\"../images/fruit.webp\" srcset=\"../images/fruit_300w.webp 300w\" alt=\"Veranschaulichung von Klassen: Obst als Klasse\" />\n",
    " \n",
    "Auch wenn Python ohne Wenn und Aber eine objektorientierte Programmiersprache ist, sind wir in den vorhergehenden Kapiteln nur indirekt auf die objektorientierte Programmierung (OOP) eingegangen. Mit Python lassen sich kleine Skripte oder Programme einfach und effizient schreiben, auch ohne dass man sie objektorientiert modelliert. Gerade totale Programmieranfänger finden es erfahrungsgemäß einfacher, wenn sie nicht sofort mit allen Prinzipien der OOP konfrontiert werden. Sie haben genügend Probleme, Zuweisungen, bedingte Anweisung oder Schleifen zu verstehen und vor allem richtig anzuwenden. Aber in vielen Situationen stellt die OOP eine deutliche qualitative Verbesserung der Implementierung eines Problems dar. \n",
    "\n",
    "Aber auch wenn wir die objektorientierte Programmierung in den bisherigen Kapiteln vermieden haben, so war sie dennoch in unseren Übungen und Beispielen meistens präsent. Wir haben Objekte und Methoden von Klassen benutzt, ohne eigentlich von ihrer Existenz zu wissen. In diesem Kapitel geben \n",
    "wir nun eine grundlegende Einführung in den objektorientierten Ansatz von Python. OOP \n",
    "ist eine der mächtigsten Programmiermöglichkeiten von Python, aber, wie wir gesehen \n",
    "haben, muss man sie dennoch nicht nutzen, d.h. man kann auch umfangreiche und effiziente \n",
    "Programme ohne Verwendung von OOP-Techniken schreiben.\n",
    "<br><br>\n",
    "Auch wenn viele Programmierer und Informatiker die OOP für eine moderne Errungenschaft \n",
    "halten, so gehen ihre Wurzeln bis in die 1960er-Jahre zurück. Die erste Programmiersprache, \n",
    "die Objekte verwendete, war ,,Simula 67'' von Ole-Johan Dahl und Kristen \n",
    "Nygard. Wie der Name sagt wurde diese Sprache bereits im Jahre 1967 eingeführt.\n",
    "\n",
    "\n",
    "<h3>Objekte, Instanzen und Klassen</h3>\n",
    "\n",
    "Ein Grundkonzept der objektorientierten Programmierung besteht darin, Daten und deren \n",
    "Funktionen (Methoden), - d.h. Funktionen, die auf diese Daten angewendet werden können -, \n",
    "in einem Objekt zusammenzufassen und nach außen zu kapseln, sodass die Benutzer der Klassen \n",
    "und auch Methoden fremder Objekte diese Daten nicht manipulieren können. \n",
    "<br><br>\n",
    "Objekte werden über Klassen definiert. Klassen sind Vorlagen - man könnte auch ,,Baupläne'' sagen -, nach denen Objekte, - die man in diesem Zusammenhang auch als Instanzen bezeichnet - zur Laufzeit des Programmes erzeugt werden. Eine Klasse stellt eine formale Beschreibung dar, wie ein Objekt beschaffen ist, d.h. welche Attribute und welche Methoden sie hat.\n",
    "Eine Klasse darf nicht mit einem Objekt verwechselt werden. Statt von einem Objekt \n",
    "spricht man auch von einer Instanz einer Klasse, d.h. die Begriffe ,,Instanz'' \n",
    "und ,,Objekt'' werden meistens synonym benutzt. \n",
    "<br>\n",
    "<img class=\"imgleft\" src=\"../images/kuchenklasse.webp\" srcset=\"../images/kuchenklasse_500w.webp 500w,../images/kuchenklasse_400w.webp 400w,../images/kuchenklasse_350w.webp 350w,../images/kuchenklasse_300w.webp 300w\" width=350 alt=\"Obst als Klasse\" />\n",
    "\n",
    "\n",
    "Man kann eine Klasse auch im übertragenen Sinne wie ein Koch- oder Backrezept sehen.\n",
    "Betrachten wir beispielsweise das Rezept eines Erdbeerkuchens. Ein solches Rezept kann man prinzipiell als eine Klasse ansehen. Das heißt, das Rezept bestimmt, wie eine Instanz der Klasse beschaffen sein muss. Backt jemand einen Kuchen nach diesem Rezept, dann schafft er eine Instanz oder \n",
    "ein Objekt dieser Klasse. Es gibt dann verschiedene Methoden, diesen Kuchen zu verarbeiten \n",
    "oder zu verändern, wie zum Beispiel ,,Teig anrühren''.  Ein Erdbeerkuchen gehört in eine übergeordnete Klasse ,,Kuchen'', die ihre Eigenschaften, z.B. dass ein Kuchen sich als Nachtisch nutzen lässt, an Unterklassen wie Erdbeerkuchen, Rührkuchen, Torten und so weiter vererbt.\n",
    " \n",
    "<br>\n",
    "Ein Objekt bezeichnet in der OOP die Abbildung eines realen Gegenstandes mit seinen \n",
    "Eigenschaften und Verhaltensweisen (Methoden) in ein Programm. \n",
    " \n",
    "Ein Objekt kann immer durch zwei Dinge beschrieben werden:\n",
    "<ul>\n",
    "<li>was es tun kann oder was wir in einem Programm mit ihm tun können,</li>\n",
    "<li>was wir über es wissen.</li>\n",
    "</ul>\n",
    "\n",
    "<img class=\"imgright\" src=\"../images/eigenschaften_und_methoden.webp\" srcset=\"../images/eigenschaften_und_methoden_700w.webp 700w,../images/eigenschaften_und_methoden_600w.webp 600w,../images/eigenschaften_und_methoden_500w.webp 500w,../images/eigenschaften_und_methoden_400w.webp 400w,../images/eigenschaften_und_methoden_350w.webp 350w,../images/eigenschaften_und_methoden_300w.webp 300w\" width=400 alt=\"Eigenschaften und Methoden\" />\n",
    "\n",
    "Im nebenstehenden Diagramm sehen wir die Modellierung einer Klasse Konto mit ihren Eigenschaften und Methoden. Die Eigenschaften der Klasse Konto müssen auf jeden Fall eine \"Kontonummer\" und einen \"Kontostand\" haben. Dazu braucht man auch Eigenschaften wie \"Verfügungsberechtigte\" und \"Kreditrahmen\". Natürlich braucht ein Konto auch einen Inhaber. Das Attribut bzw. die Eigenschaft für den Inhaber ist eine Referenz auf eine andere Klasse, nämlich die Kontoinhaber-Klasse. Verändert werden die Attribute über die Methoden. So kann man beispielsweise den \"Kontostand\" nur mittels der Methoden \"Einzahlen\" und \"Auszahlen\" verändern.\n",
    "\n",
    "Eine Klasse ist ein abstrakter Oberbegriff für die Beschreibung der gemeinsamen \n",
    "Struktur und des gemeinsamen Verhaltens von realen Objekten (Klassifizierung). Reale Objekte \n",
    "werden auf die für die Software wichtigen Merkmale abstrahiert. Die Klasse dient als \n",
    "Bauplan zur Abbildung von realen Objekten in Software-Objekte, die sogenannten Instanzen. \n",
    "Die Klasse fasst hierfür notwendige Eigenschaften (Attribute) und zur Manipulation der \n",
    "Eigenschaften notwendige Methoden zusammen.\n",
    "Klassen stehen häufig in Beziehung zueinander. Man hat beispielsweise eine Oberklasse \n",
    "(Kuchen), und aus dieser leitet sich eine andere Klasse ab (Erdbeerkuchen). Diese \n",
    "abgeleitete Klasse erbt bestimmte Eigenschaften und Methoden der Oberklasse.\n",
    "\n",
    "\n",
    "<h3>Kapselung von Daten</h3>\n",
    "\n",
    "Ein weiterer wesentlicher Vorteil der OOP besteht in der Kapselung von Daten.\n",
    "Der Zugriff auf Eigenschaften darf nur über Zugriffsmethoden erfolgen. Diese Methoden können \n",
    "Plausibilitätstests, Datentypwandlungen oder beliebige Berechnungen enthalten, und sie (oder ,,nur'' sie) besitzen ,,Informationen'' über die eigentliche Implementierung.\n",
    "\n",
    "<img class=\"imgright\" src=\"../images/marvin_konto.webp\" srcset=\"../images/marvin_konto_400w.webp 400w,../images/marvin_konto_350w.webp 350w,../images/marvin_konto_300w.webp 300w\" alt=\"Roboter und Konto\" />\n",
    "\n",
    "Im nächsten Abschnitt werden wir eine Roboterklasse in Python schreiben. Diese wird beispielsweise Informationen über das Baujahr und den Namen eines Roboters enthalten. Diese Informationen bezeichnet man auch als Eigenschaften bzw. Attribute einer Instanz. Es bietet sich beispielsweise an, den Namen eines Roboters als String in einem Attribut zu speichern. Datenkapselung bedeutet nun, dass wir nicht direkt auf diesen String zugreifen können. Wir müssen beispielsweise eine Methode ,,HoleNamen()'' aufrufen, um den Namen eines Roboters zu erhalten. \n",
    "\n",
    "Das Prinzip der Datenkapselung kann man auch schön am Modell der Kontenklasse sehen. Die Methode zum Setzen des Geburtsdatums kann beispielsweise prüfen, ob das Datum korrekt ist: So kann man abfangen, wenn jemand wegen eines Tippfehlers ein Datum in der Zukunft angibt. Man könnte auch generell prüfen ob sich die Angabe innerhalb eines bestimmten Rahmens bewegt. So soll beispielsweise ein Girokonto für Kinder unter 14 nicht möglich sein oder Anlagen von Neukunden über 100 Jahre gelten als extrem unwahrscheinlich.\n",
    "''"
   ]
  },
  {
   "cell_type": "markdown",
   "metadata": {},
   "source": [
    "\n",
    "<h3>Vererbung</h3>\n",
    "\n",
    "Ausgehend von einer allgemeinen Roboterklasse, die lediglich einen Namen und ein Baujahr kennt, könnten wir uns weitere Roboterklassen definieren wie beispielsweise \"Industrieroboter\", die stationär an einem Fließband eingesetzt werden können, bewegliche Roboter mit Rädern, Beinen oder Raupen und so weiter. Jede dieser Klassen erbt dann von der Basisklasse die Möglichkeit einen Namen und ein Baujahr zu haben. Wie dies genau abläuft, werden wir im folgenden Unterkapitel kennen lernen.\n",
    "\n",
    "Bei der Konto-Klasse kann man Klassen wie Sparkonto und Girokonto definieren:\n",
    "<br><br>\n",
    "\n",
    "<img width=350 src=\"../images/vererbung2.webp\" srcset=\"../images/vererbung2_800w.webp 800w,../images/vererbung2_700w.webp 700w,../images/vererbung2_600w.webp 600w,../images/vererbung2_500w.webp 500w,../images/vererbung2_400w.webp 400w,../images/vererbung2_350w.webp 350w,../images/vererbung2_300w.webp 300w\" alt=\"Vererbung in der Kontoklasse\" />\n",
    "\n",
    "<br><br>\n",
    "<h2>Klassen in Python</h2>\n",
    "\n",
    "<h3>Objekte und Instanzen einer Klasse</h3>\n",
    "\n",
    "Eine der vielen in Python integrierten Klassen ist die list-Klasse, die wir bereits häufig in unseren Übungen und Beispielen benutzt hatten. Die list-Klasse stellt eine Fülle von Methoden zur Verfügung, mit deren Hilfe wir zum Beispiel Listen aufbauen, Elemente anschauen, verändern und entfernen können:\n",
    "\n"
   ]
  },
  {
   "cell_type": "code",
   "execution_count": 1,
   "metadata": {},
   "outputs": [
    {
     "name": "stdout",
     "output_type": "stream",
     "text": [
      "6\n",
      "abc\n"
     ]
    }
   ],
   "source": [
    "x = [3, 6, 9]\n",
    "y = [45, \"abc\"]\n",
    "print(x[1])\n",
    "x[1] = 99\n",
    "x.append(42)\n",
    "last = y.pop()\n",
    "print(last)"
   ]
  },
  {
   "cell_type": "markdown",
   "metadata": {},
   "source": [
    "Die Variablen x und y bezeichnen zwei Instanzen der list-Klasse. Vereinfacht haben wir bisher gesagt ,,x und y sind Listen''. Im Folgenden werden wir die Begriffe ,,Objekt'' und ,,Instanz'' synonym benutzen, wie dies auch in anderen Einführungen üblich ist.<sup>1</sup>\n",
    "<br><br>\n",
    "\n",
    "<h3>Kapselung von Daten und Methoden</h3>\n",
    "\n",
    "\n",
    "pop und append aus dem obigen Beispiel sind Methoden der list-Klasse. pop liefert uns das ,,oberste'' bzw. das Element mit dem höchsten Index der Liste zurück und entfernt dieses Element. Wir wissen allerdings nicht, wie die Listen intern im Speicher abgelegt sind. Wir brauchen diese Information auch nicht, da uns die list-Klasse Methoden zur Verfügung stellt, auf die gespeicherten Daten ,,indirekt'' zuzugreifen. Methoden sind von besonderer Wichtigkeit im Zusammenhang mit der Datenkapselung.  Wir werden uns später genauer mit der Datenkapselung beschäftigen. Sie verhindert den direkten Zugriff auf die interne Datenstruktur, d.h.  man kann nur über definierte Schnittstellen zugreifen, d.h. die Methoden. Die ,,internen Daten'' einer Instanz sind die Attribute, auf die wir später zu sprechen kommen.\n",
    "\n",
    "<h3>Ein minimale Klasse in Python</h3>\n",
    "\n",
    "\n",
    "<img class=\"imgright\" src=\"../images/robot_evolution.webp\" srcset=\"../images/robot_evolution_350w.webp 350w,../images/robot_evolution_300w.webp 300w\" alt=\"Evolution der Roboter\" />\n",
    "\n",
    "\n",
    "Die wichtigsten Begriffe der objektorientierten Programmierung und Ihrer Umsetzung in Python werden wir im Folgenden an einem Beispiel ,,Roboterklasse'' demonstrieren. Wir beginnen mit einer einfachen Klasse in Python, die wir \"Roboter\" nennen.\n"
   ]
  },
  {
   "cell_type": "code",
   "execution_count": 2,
   "metadata": {},
   "outputs": [],
   "source": [
    "class Roboter:\n",
    "    pass"
   ]
  },
  {
   "cell_type": "markdown",
   "metadata": {},
   "source": [
    "An diesem Beispiel können wir den grundlegenden syntaktischen Aufbau einer Klasse erkennen: Eine Klasse besteht aus zwei Teilen: dem Kopf und dem Körper.\n",
    "Der Kopf besteht meist nur aus einer Zeile:\n",
    "das Schlüsselwort class, gefolgt von einem Leerzeichen, einem beliebigen Namen, - in unserem Fall Roboter -  einer kommaseparierten Auflistung von Oberklassen in Klammern und als letztes Zeichen ein Doppelpunkt. Gibt es keine Oberklassen, entfällt die Angabe der Oberklassen und der Klammern. Prinzipiell kann auch ein leeres Klammernpaar vor dem Doppelpunkt stehen. Das Klammernpaar mit der Auflistung der Oberklassen brauchen Sie zum jetzigen Zeitpunkt noch nicht zu verstehen, da wir erst später darauf eingehen!\n",
    "<br><br>\n",
    "Der Körper einer Klasse besteht aus einer eingerückten Folge von Anweisungen die wie in unserem Beispiel auch nur aus einer einzigen pass-Anweisung bestehen kann. \n",
    "<br><br>\n",
    "Damit haben wir bereits eine einfache Python-Klasse mit dem Namen Roboter definiert. Wir können diese Klasse auch benutzen:\n",
    "\n",
    "<br><br>"
   ]
  },
  {
   "cell_type": "code",
   "execution_count": 3,
   "metadata": {},
   "outputs": [
    {
     "name": "stdout",
     "output_type": "stream",
     "text": [
      "True\n",
      "False\n"
     ]
    }
   ],
   "source": [
    "class Roboter:\n",
    "    pass\n",
    "\n",
    "x = Roboter()\n",
    "y = Roboter()\n",
    "y2 = y\n",
    "print(y == y2)\n",
    "print(y == x)"
   ]
  },
  {
   "cell_type": "markdown",
   "metadata": {},
   "source": [
    "\n",
    "\n",
    "Wir haben in obigem Beispiel zwei verschiedene Roboter x und y geschaffen. Außerdem haben wir mit y2 = y ein Alias y2 für y erzeugt. Dabei handelt es sich nur um einen weiteren Namen für das gleiche Objekt, also um eine Referenz."
   ]
  },
  {
   "cell_type": "markdown",
   "metadata": {},
   "source": [
    "\n",
    "<h3>Eigenschaften und Attribute</h3>\n",
    "\n",
    "Unsere Roboter haben keinerlei Eigenschaften. Noch nicht einmal einen Namen, wie dies für ,,ordentliche'' Roboter üblich ist. Als weitere Eigenschaften wären beispielsweise eine Typbezeichnung, Baujahr und so weiter denkbar. Eigenschaften werden in der objektorientierten Programmierung als Attribute bezeichnet. <sup>2</sup>\n",
    "\n",
    "<br><br>\n",
    "Einer Instanz kann man beliebige Attributnamen zuordnen. Sie werden mit einem Punkt an den Namen der Instanz angeschlossen. Im Folgenden erzeugen wir dynamisch Attribute für den Roboternamen und das Roboterbaujahr. Bitte beachten Sie, dass dies noch nichts mit den eigentlichen Attributen zu tun hat, wie wir sie in Klassen verwenden werden:\n",
    "<br><br>"
   ]
  },
  {
   "cell_type": "code",
   "execution_count": 4,
   "metadata": {},
   "outputs": [
    {
     "name": "stdout",
     "output_type": "stream",
     "text": [
      "Marvin\n"
     ]
    }
   ],
   "source": [
    "class Roboter:\n",
    "    pass\n",
    "\n",
    "\n",
    "x = Roboter()\n",
    "y = Roboter()\n",
    " \n",
    "x.name = \"Marvin\"\n",
    "x.baujahr = 1979\n",
    "y.name = \"Caliban\"\n",
    "y.baujahr = 1993\n",
    "print(x.name)"
   ]
  },
  {
   "cell_type": "markdown",
   "metadata": {},
   "source": [
    "\n",
    "Attribute können übrigens auch dem Klassenobjekt selbst oder -- unabhängig von der OOP -- Funktionen zugeordnet werden, wie wir im Folgenden sehen:\n",
    "<br><br>"
   ]
  },
  {
   "cell_type": "code",
   "execution_count": 5,
   "metadata": {},
   "outputs": [
    {
     "name": "stdout",
     "output_type": "stream",
     "text": [
      "1000\n",
      "red\n",
      "42\n"
     ]
    }
   ],
   "source": [
    "class Roboter:\n",
    "    pass\n",
    "\n",
    "\n",
    "Roboter.number = 1000\n",
    "print(Roboter.number)\n",
    "\n",
    "\n",
    "def f(x):\n",
    "    return 42\n",
    "\n",
    "f.color = \"red\"  # was immer es bedeuten soll, einer Funktion ein Farbattribut zuzuordnen :-)\n",
    "print(f.color)\n",
    "\n",
    "# unsere Funktion ist davon aber nicht betroffen:\n",
    "\n",
    "print(f(10))"
   ]
  },
  {
   "cell_type": "markdown",
   "metadata": {},
   "source": [
    "\n",
    "Attribute bei Funktionen können zum Beispiel als Ersatz für statische Funktionsvariablen, wie manche Sie von C, C++ oder Java her kennen,  benutzt werden. Python kennt keine statischen Funktionsvariablen! \n",
    "<br><br>\n",
    "In der folgenden Funktion wird das Attribut \"zaehler\" benutzt, um zu zählen, wie oft die Funktion aufgerufen wird:\n",
    "<br><br>"
   ]
  },
  {
   "cell_type": "code",
   "execution_count": 1,
   "metadata": {},
   "outputs": [
    {
     "name": "stdout",
     "output_type": "stream",
     "text": [
      "9\n"
     ]
    }
   ],
   "source": [
    "def f(x):\n",
    "    if hasattr(f, \"counter\"): # Alternativ: if \"counter\" in dir(f):\n",
    "        f.counter += 1\n",
    "    else:\n",
    "        f.counter = 0\n",
    "    return x + 3\n",
    "        \n",
    "\n",
    "for i in range(10):\n",
    "    f(i)\n",
    "    \n",
    "print(f.counter)"
   ]
  },
  {
   "cell_type": "markdown",
   "metadata": {},
   "source": [
    "\n",
    "\n",
    "Noch ein Detail, was zum jetzigen Zeitpunkt noch nicht so wichtig ist. Sie können also gerne mit dem  nächsten Unterabschnitt \"Methoden\" weiter machen. \n",
    "<br><br>\n",
    "Die Objekte der meisten Klassen haben ein Attributdictionary __dict__, in dem die Attribute mit ihren Werten gespeichert werden, wie wir es im nächsten Beispiel sehen.\n",
    "<br><br>"
   ]
  },
  {
   "cell_type": "code",
   "execution_count": 7,
   "metadata": {},
   "outputs": [
    {
     "name": "stdout",
     "output_type": "stream",
     "text": [
      "{'name': 'Marvin', 'age': 5}\n"
     ]
    }
   ],
   "source": [
    "class Robot:\n",
    "    pass\n",
    "\n",
    "x = Robot()\n",
    "x.name = \"Marvin\"\n",
    "x.age = 5\n",
    "\n",
    "print(x.__dict__)"
   ]
  },
  {
   "cell_type": "markdown",
   "metadata": {},
   "source": [
    "<br><br>\n",
    "Die dynamische Erzeugung von Attributen für Instanzen sehen manche als Segen und andere als Fluch an. Aber Attribute, wie man sie in der objektorientierten Programmierung verwendet, werden so nicht erzeugt.\n",
    "<br>\n",
    "Wenn wir Instanzattribute für unsere Roboterklasse erzeugen wollen, so müssen wir dies unmittelbar in der Klassendefinition tun. Instanzattribute sind die Eigenschaften, die die einzelnen Instanzen beschreiben, d.h. so haben unsere Roboter im allgemeinen verschiedene Namen, und sicherlich eine verschiedene Seriennummer. Wir benötigen Methoden, um Instanzattribute in einer Klassendefinition zu erzeugen.\n",
    "\n",
    "<br><br>\n",
    "<h3>Methoden</h3>\n",
    "<br>\n",
    "\n",
    "<img class=\"imgright\" src=\"../images/marvin.webp\" alt=\"Hi, I'm Marvin\" />\n",
    "\n",
    "\n",
    "Im Folgenden wollen wir zeigen, wie man Methoden in einer Klasse definiert. Dazu werden wir unsere leere Roboterklasse um eine Methode SageHallo erweitern. \n",
    "\n",
    "Eine Methode unterscheidet sich äußerlich nur in \n",
    "zwei Aspekten von einer Funktion:\n",
    "\n",
    "<ul>\n",
    "<li>Sie ist eine Funktion, die innerhalb einer class-Definition definiert ist.\n",
    "<li>Der erste Parameter einer Methode ist immer eine Referenz auf die Instanz, von der sie aufgerufen wird. Diese Referenz wird üblicherweise mit ,,self'' genannt.\n",
    "</ul>\n",
    "\n",
    "\n",
    "Anmerkung: Prinzipiell könnte man einen beliebigen Namen statt ,,self'' wählen, also auch ,,this'', was Java oder C++-Programmierern vielleicht besser gefallen würde. ,,self'' ist nur eine Konvention.\n",
    "\n",
    "<br><br>\n",
    "\n",
    "\n",
    "Wir erweitern nun unsere Roboterklasse um eine Methode SageHallo, die beim Aufruf einfach nur ,,Hallo'' schreibt:"
   ]
  },
  {
   "cell_type": "code",
   "execution_count": 8,
   "metadata": {},
   "outputs": [
    {
     "name": "stdout",
     "output_type": "stream",
     "text": [
      "Hallo\n"
     ]
    }
   ],
   "source": [
    "class Roboter:\n",
    "\n",
    "    def SageHallo(self):\n",
    "        print(\"Hallo\")\n",
    "\n",
    "\n",
    "x = Roboter()\n",
    "x.SageHallo()"
   ]
  },
  {
   "cell_type": "markdown",
   "metadata": {},
   "source": [
    "\n",
    "\n",
    "Wir sehen im Code, dass der Parameter ,,self'' nur bei der Definition einer Methode erscheint. \n",
    "Beim Aufruf wird er nicht angegeben. Im Vergleich zu Funktionsaufrufen ist das zunächst einmal befremdlich, d.h. wir definieren eine Methode mit einem Paramter ,,self'' und rufen sie scheinbar ohne Parameter auf. Aber wenn wir genauer auf den Aufruf schauen, sehen wir, dass wir ja nicht nur SageHallo() aufrufen, sondern dass die Instanz x vor dem Punkt erscheint. Darin liegt das Geheimnis: Es ist gewissermaßen so, als hätten wir SageHallo(x) aufgerufen. In anderen Worten, wir übergeben eine Referenz auf die Instanz x an self.\n",
    "\n",
    "Zum weiteren Verständnis: Eigentlich müsste man die Methode einer Klasse über den Klassennamen aufrufen. In diesem Fall wird die Instanz als Argument übergeben, also Roboter.SageHallo(x). Weil dies aber zum einen besonders unhandlich ist und außerdem den nicht üblichen Gepflogenheiten in der OOP entspricht, bindet Python alle Methoden automatisch an die Klasseninstanzen.\n",
    "<br><br>\n",
    "<h3>Instanzvariablen</h3>\n",
    "\n",
    "Wir wollen nun unsere Methode SageHallo so ändern, dass sie sich mit ,,Hallo, mein Name ist Marvin'' meldet, wenn der Roboter ,,Marvin'' heißt. Damit sind wir wieder zurück bei den Instanzattributen. Denn eine Instanz muss sich ihren Namen merken können. In unserem anfänglichen Beispiel definierten wir Attribute außerhalb der Klassendefinition mit Anweisungen der Art x.name = \"Marvin\", x.baujahr = 1979 und y.name = \"Caliban\". Wir können gewissermaßen das Gleiche innerhalb einer Klassendefinition in den Methoden tun. Allerdings haben wir dort natürlich keine Ahnung von dem Instanznamen, also x oder y. Wir müssen diesen Namen jedoch nicht wissen, da es sich ja beim formalen Parameter self um eine Referenz auf die aktuelle Instanz handelt. Mit diesem Wissen schreiben wir nun weitere Funktionen, mit denen wir unseren Roboter mit Namen (SetzeNamen) und Baujahr (SetzeBaujahr) versehen können:\n",
    "<br><br>"
   ]
  },
  {
   "cell_type": "code",
   "execution_count": 9,
   "metadata": {},
   "outputs": [
    {
     "name": "stdout",
     "output_type": "stream",
     "text": [
      "Hallo, mein Name ist Marvin\n",
      "Hallo, mein Name ist Caliban\n"
     ]
    }
   ],
   "source": [
    "class Roboter:\n",
    "\n",
    "    def SageHallo(self):\n",
    "        print(\"Hallo, mein Name ist \" + self.name)\n",
    "\n",
    "    def SetzeNamen(self, name):\n",
    "        self.name = name\n",
    "\n",
    "    def SetzeBaujahr(self, baujahr):\n",
    "        self.baujahr = baujahr\n",
    "\n",
    "        \n",
    "x = Roboter()\n",
    "x.SetzeNamen(\"Marvin\")\n",
    "x.SetzeBaujahr(1979)\n",
    "y = Roboter()\n",
    "y.SetzeNamen(\"Caliban\")\n",
    "y.SetzeBaujahr(1993)\n",
    "x.SageHallo()\n",
    "y.SageHallo()"
   ]
  },
  {
   "cell_type": "markdown",
   "metadata": {},
   "source": [
    "<br>\n",
    "Zu der Methode SetzeNamen gibt es noch Folgendes zu sagen, was auch zwei häufig gestellte Fragen beantwortet: \n",
    "\n",
    "<ul>\n",
    "\n",
    "<li> Ja, statt \"self\" darf man irgendeinen beliebigen Namen verwenden, so auch beispielsweise \"this\".\n",
    "Man sollte dies jedoch nicht tun, weil man damit eine Python-Konvention verletzt. Außerdem werden andere Programmierer möglicherweise Schwierigkeiten haben, den Code zu verstehen. Manche Entwicklungsumgebungen, wie beispielsweise eclipse, geben auch eine Warnung, wenn man sich nicht an die diese Konvention hält. \n",
    "\n",
    "<li> Der Attributnamen muss nicht gleich dem Namen des formalen Parameters sein. Häufig hat er jedoch den gleichen Namen. Wir hätten den Parameter auch beispielsweise ,,n'' nennen können. \n",
    "\n",
    "</ul>\n",
    "\n",
    "Also ist auch der folgende Python-Code lauffähig, aber keinesfalls empfehlenswert:\n"
   ]
  },
  {
   "cell_type": "code",
   "execution_count": 10,
   "metadata": {},
   "outputs": [
    {
     "name": "stdout",
     "output_type": "stream",
     "text": [
      "Hallo, mein Name ist Marvin\n",
      "Hallo, mein Name ist Caliban\n"
     ]
    }
   ],
   "source": [
    "class Roboter:\n",
    "\n",
    "    def SageHallo(self):\n",
    "        print(\"Hallo, mein Name ist \" + self.name)\n",
    "\n",
    "    def SetzeNamen(this, n):\n",
    "        this.name = n\n",
    "\n",
    "    def SetzeBaujahr(self, baujahr):\n",
    "        self.baujahr = baujahr\n",
    "  \n",
    "      \n",
    "x = Roboter()\n",
    "x.SetzeNamen(\"Marvin\")\n",
    "x.SetzeBaujahr(1979)\n",
    "y = Roboter()\n",
    "y.SetzeNamen(\"Caliban\")\n",
    "y.SetzeBaujahr(1993)\n",
    "x.SageHallo()\n",
    "y.SageHallo()"
   ]
  },
  {
   "cell_type": "markdown",
   "metadata": {},
   "source": [
    "\n",
    "\n",
    "\n",
    "Besonders hässlich an obigem Code ist, dass wir einmal this und einmal self verwendet haben, also dass wir nicht konsequent in unser Namensgebung waren.\n",
    "<br><br>\n",
    "Zum Stil gibt es auch noch etwas zu sagen: Laut PEP8, dem offiziellen ,,Style-Guide'', gilt:  ,,Methodendefinitionen innerhalb einer Klasse werden durch eine einzelne Leerzeile getrennt.'' (Im englischen Original: ,,Method definitions inside a class are separated by a single blank line.'')\n",
    "Dies wird aber in vielen Fällen nicht eingehalten. Selbst die offizielle Python-Dokumentation unter python.org ist hier nicht eindeutig! Wir werden uns im Folgenden auch nicht immer an diese Konvention halten, vor allen Dingen um Platz zu sparen.\n",
    "<br><br>\n",
    "Aber neben Stil und der Namensgebung für den ersten Parameter gibt es noch ein viel schwerwiegenderes Problem. Wenn wir einen Roboter neu schaffen, müssen wir jedesmal drei Anweisungen durchführen. In unserem Beispiel sind das, die Instanziierung mittels x = Roboter(), die Namensgebung x.SetzeNamen(\"Marvin\") und das Setzen des Baujahres x.SetzeBaujahr(1979). Dieses Vorgehen ist umständlich, fehlerträchtig und vor allen Dingen entspricht es nicht dem üblichen Vorgehen in der OOP.\n",
    "<br><br>\n",
    "<h3>Die ```__init__```-Methode</h3>\n",
    "\n",
    "Wir wollen die Attribute sofort nach der Erzeugung einer Instanz definieren. ```__init__``` ist eine\n",
    "Methode, die unmittelbar und automatisch nach der Erzeugung einer Instanz aufgerufen wird. \n",
    "Dieser Name ist festgelegt und kann nicht frei gewählt werden! ```__init__``` \n",
    "gehört zu den sogenannten magischen Methoden, von denen wir in den folgenden Kapiteln noch \n",
    "weitere kennenlernen werden. Die ```__init__```-Methode dient der Initialisierung einer Instanz. Python \n",
    "besitzt keinen expliziten Konstruktor bzw. Destruktor, wie man sie in Java oder C++ kennt. Der \n",
    "eigentliche Konstruktor wird implizit von Python gestartet und ```__init__``` dient, wie der Name \n",
    "andeutet der Initialisierung der Attribute. Die ```__init__```-Methode wird jedoch unmittelbar nach \n",
    "dem eigentlichen Konstruktor gestartet, und dadurch entsteht der Eindruck, als handele es sich \n",
    "um einen Konstruktor. Die ```__init__```-Methode kann an beliebiger Stelle in der Klassendefinition \n",
    "stehen, sollte aber nach Konvention immer die erste Methode direkt unter dem Klassenheader sein. \n"
   ]
  },
  {
   "cell_type": "code",
   "execution_count": 11,
   "metadata": {},
   "outputs": [
    {
     "name": "stdout",
     "output_type": "stream",
     "text": [
      "__init__ wurde ausgeführt!\n"
     ]
    }
   ],
   "source": [
    "class A:\n",
    "    def __init__(self):\n",
    "        print(\"__init__ wurde ausgeführt!\")\n",
    "\n",
    "\n",
    "x = A()"
   ]
  },
  {
   "cell_type": "markdown",
   "metadata": {},
   "source": [
    "Wir schreiben nun für unsere Beispielklasse eine Initialisierungsmethode ```__init__```, um bei der \n",
    "Instanzierung den Namen und das Baujahr setzen bzw. \n",
    "übergeben zu können, also x = Roboter(\"Marvin\", 1979). "
   ]
  },
  {
   "cell_type": "code",
   "execution_count": 12,
   "metadata": {},
   "outputs": [
    {
     "name": "stdout",
     "output_type": "stream",
     "text": [
      "Hallo, mein Name ist Marvin\n",
      "Hallo, mein Name ist Caliban\n"
     ]
    }
   ],
   "source": [
    "class Roboter:\n",
    "\n",
    "    def __init__(self, name, baujahr):\n",
    "        self.name = name\n",
    "        self.baujahr = baujahr\n",
    "\n",
    "    def SageHallo(self):\n",
    "        print(\"Hallo, mein Name ist \" + self.name)\n",
    "\n",
    "    def NeuerName(self, name):\n",
    "        self.name = name\n",
    "\n",
    "    def NeuesBaujahr(self, baujahr):\n",
    "        self.baujahr = baujahr\n",
    "     \n",
    "  \n",
    "x = Roboter(\"Marvin\", 1979)\n",
    "y = Roboter(\"Caliban\", 1993)\n",
    "x.SageHallo()\n",
    "y.SageHallo()"
   ]
  },
  {
   "cell_type": "markdown",
   "metadata": {},
   "source": [
    "Schreibt man x = Roboter(\"Marvin\", 1979), dann verhält sich das logisch gesehen so, als würde man erst eine Instanz x instanziieren, also x = Roboter(), - was natürlich nicht mehr wegen unserer ```__init__```-Methode funktioniert, die zwei Argumente beim Aufruf zwingend fordert! -, und dann die ```__init__```-Methode aufrufen mit ```x.__init__(\"Marvin\", 1979)```. (Allerdings lässt sich die ```__init__```-Methode nicht von außen aufrufen, da sie mit einem doppelten Unterstrich beginnt und es sich damit um eine private Methode handelt.)\n",
    "<br><br>\n",
    "Der Benutzung der Klasse sieht nun deutlich ,,aufgeräumter'' und klarer aus, aber wir verletzen noch das Prinzip der Datenkapselung bzw. Datenabstraktion, auf das wir im Folgenden eingehen werden.\n",
    "<br><br>\n",
    "Im Folgenden wollen wir noch eine Fehlermeldung demonstrieren, die oft bei Anfängern Fragen aufwirft. Wir versuchen in der folgenden interaktiven Python-Shell einen Roboter zu erzeugen. Statt der korrekten Instanziierung x = Roboter(\"Marvin\", 1979) rufen wir Roboter ohne Parameter auf, was nun natürlich zu einer aussagekräftigen Fehlermeldung führt:"
   ]
  },
  {
   "cell_type": "code",
   "execution_count": 13,
   "metadata": {},
   "outputs": [
    {
     "ename": "TypeError",
     "evalue": "__init__() missing 2 required positional arguments: 'name' and 'baujahr'",
     "output_type": "error",
     "traceback": [
      "\u001b[0;31m---------------------------------------------------------------------------\u001b[0m",
      "\u001b[0;31mTypeError\u001b[0m                                 Traceback (most recent call last)",
      "\u001b[0;32m<ipython-input-13-0b771a5ff2ee>\u001b[0m in \u001b[0;36m<module>\u001b[0;34m\u001b[0m\n\u001b[0;32m----> 1\u001b[0;31m \u001b[0mx\u001b[0m \u001b[0;34m=\u001b[0m \u001b[0mRoboter\u001b[0m\u001b[0;34m(\u001b[0m\u001b[0;34m)\u001b[0m\u001b[0;34m\u001b[0m\u001b[0;34m\u001b[0m\u001b[0m\n\u001b[0m",
      "\u001b[0;31mTypeError\u001b[0m: __init__() missing 2 required positional arguments: 'name' and 'baujahr'"
     ]
    }
   ],
   "source": [
    "x = Roboter()"
   ]
  },
  {
   "cell_type": "markdown",
   "metadata": {},
   "source": [
    "\n",
    "\n",
    "<h2>Datenkapselung, Datenabstraktion und Geheimnisprinzip</h2>\n",
    "\n",
    "<h3>Begriffsbestimmungen</h3>\n",
    "<br><br>\n",
    "\n",
    "Unter Datenkapselung versteht man den Schutz von Daten bzw. Attributen vor dem unmittelbaren Zugriff. Der Zugriff auf die Daten bzw. Attribute erfolgt nur über entsprechende Methoden, die man auch als Zugriffsmethoden bezeichnet. Im allgemeinen gibt es zu einem bestimmten Attribut eine Methode, die einem den Wert des Attributes liefert - häufig als Getter (Englisch ,,to get'' im Sinne von etwas ,,holen'' oder ,,besorgen'') oder als Abfragemethode bezeichnet - und eine andere, mit deren Hilfe man den Wert eines Attributes verändern kann - häufig als Setter (Englisch ,,to set'' im Sinne von etwas ,,festsetzen'', ,,festlegen'' oder ,,einstellen'') oder als Änderungsmethode benannt.\n",
    "\n",
    "<img class=\"imgright\" width=300 src=\"../images/datenabstraktion.webp\" srcset=\"../images/datenabstraktion_500w.webp 500w,../images/datenabstraktion_400w.webp 400w,../images/datenabstraktion_350w.webp 350w,../images/datenabstraktion_300w.webp 300w\" alt=\"Datenabstraktion = Datenkapselung + Geheimnisprinzip\" />\n",
    "\n",
    "\n",
    "Wenn wir von ,,Schutz von Daten bzw. Attributen vor dem unmittelbaren Zugriff'' reden, dann bedeutet das natürlich nicht automatisch auch, dass die Daten außen nicht sichtbar sind. In der OOP ist jedoch auch dies gefordert. Man spricht in diesem Zusammen auch häufig vom Geheimnisprinzip (Im Englischen unter ,,Information Hiding'' bekannt). Unter dem Geheimnisprinzip versteht man das Verbergen von internen Informationen und Implementierungsdetails nach außen. Eine andere Sichtweise des Geheimnisprinzips besagt, dass die Benutzer einer Klasse nicht mit unnötigen Implementierungsdetails belastet werden. Die außen unbedingt nötigen Daten werden nur über definierte Schnittstellen bzw. Methoden nach außen sichtbar und benutzbar gemacht. So gesehen beleuchten Datenkapselung und Geheimnisprinzip die zwei Seiten einer Medaille. Um beiden Seiten gerecht zu werden, benutzen viele deshalb auch den allgemeineren Begriff ,,Datenabstraktion''. Man könnte folgende ,,Gleichung'' aufstellen: \n",
    "<br><br>\n",
    "<b>Datenabstraktion = Datenkapselung + Geheimnisprinzip</b>\n",
    "<br><br>\n",
    "Allerdings werden die drei Begriffe in der Literatur zumeist synonym verwendet, was zu einem bestimmten Grad auch für dieses Buch gilt. \n",
    "<br>\n",
    "Wie sieht es nun mit der Datenabstraktion in unserer Beispielklasse aus? Betrachten wir dazu die folgende interaktive Pythonsession. "
   ]
  },
  {
   "cell_type": "code",
   "execution_count": 14,
   "metadata": {},
   "outputs": [
    {
     "name": "stdout",
     "output_type": "stream",
     "text": [
      "Marvin\n",
      "Caliban\n"
     ]
    }
   ],
   "source": [
    "x = Roboter(\"Marvin\", 1979)\n",
    "print(x.name)\n",
    "\n",
    "x.name = \"Caliban\"\n",
    "print(x.name)"
   ]
  },
  {
   "cell_type": "markdown",
   "metadata": {},
   "source": [
    "Wir sehen mit der print-Funktion, dass wir lesend auf das Attribut ,,name'' zugreifen können. Wir können auch den Wert des Attributes direkt von außen, also von unserer interaktiven Pythonshell aus, ändern: x.name = \"Caliban\". Korrekt im Sinne der OOP wäre es jedoch gewesen die Methode NeuerName aufzurufen:"
   ]
  },
  {
   "cell_type": "code",
   "execution_count": 15,
   "metadata": {},
   "outputs": [],
   "source": [
    "x = Roboter(\"Marvin\", 1979)\n",
    "x.NeuerName(\"Caliban\")"
   ]
  },
  {
   "cell_type": "markdown",
   "metadata": {},
   "source": [
    "Bei der print-Funktion stellt sich noch ein weiteres Design-Problem. Wie können wir uns den Namen unseres Roboters ausgeben lassen, ohne auf das Attribut direkt zuzugreifen? Wir können dies natürlich mit einer neuen Methode realisieren, die uns den Namensstring zurückliefert. Wir nennen diese HoleNamen. Weil wir dies natürlich auch für das Baujahr benötigen, schreiben wir auch hierfür eine Methode HoleBaujahr.\n",
    "\n",
    "Unsere neue Roboterklasse sieht nun wie folgt aus:"
   ]
  },
  {
   "cell_type": "code",
   "execution_count": 16,
   "metadata": {},
   "outputs": [
    {
     "name": "stdout",
     "output_type": "stream",
     "text": [
      "Hallo, mein Name ist Marvin\n",
      "Ich bin 1979 erschaffen worden! \n",
      "Hallo, mein Name ist Caliban\n",
      "Ich bin 1993 erschaffen worden! \n"
     ]
    }
   ],
   "source": [
    "class Roboter:\n",
    "\n",
    "    def __init__(self, name, baujahr):\n",
    "        self.name = name\n",
    "        self.baujahr = baujahr\n",
    "\n",
    "    def SageHallo(self):\n",
    "        print(\"Hallo, mein Name ist \" + self.name)\n",
    "\n",
    "    def NeuerName(self, name):\n",
    "        self.name = name\n",
    "\n",
    "    def HoleNamen(self):\n",
    "        return self.name\n",
    "\n",
    "    def NeuesBaujahr(self, baujahr):\n",
    "        self.baujahr = baujahr\n",
    "\n",
    "    def HoleBaujahr(self):\n",
    "        return str(self.baujahr)\n",
    "\n",
    "\n",
    "x = Roboter(\"Marvin\", 1979)\n",
    "y = Roboter(\"Caliban\", 1993)\n",
    "for rob in [x, y]:\n",
    "    rob.SageHallo()\n",
    "    print(\"Ich bin \" + rob.HoleBaujahr() + \" erschaffen worden! \")"
   ]
  },
  {
   "cell_type": "markdown",
   "metadata": {},
   "source": [
    "<h3>Die ```__str__```- und die ```__repr__```-Methode</h3>\n",
    "\n",
    "Wir verlassen für dieses Unterkapitel unser Thema Datenkapselung, da wir noch auf zwei wichtige Methoden eingehen müssen, die wir bei den folgenden Klassendefinitionen benutzen werden. \n",
    "Im Laufe des Tutorials hatten wir bereits die Funktion ,,str'' kennengelernt. Wir hatten gesehen, dass wir mit ihr verschiedenste Datentypen als Strings darstellen konnten. Prinzipiell macht ,,repr'' genau dasselbe, d.h. es wandelt einen Datentyp in seine Stringdarstellung. \n"
   ]
  },
  {
   "cell_type": "code",
   "execution_count": 44,
   "metadata": {},
   "outputs": [
    {
     "name": "stdout",
     "output_type": "stream",
     "text": [
      "['Python', 'Java', 'C++', 'Perl']\n",
      "['Python', 'Java', 'C++', 'Perl']\n"
     ]
    }
   ],
   "source": [
    "lst = [\"Python\", \"Java\", \"C++\", \"Perl\"]\n",
    "print(lst)\n",
    "print(str(lst))"
   ]
  },
  {
   "cell_type": "code",
   "execution_count": 45,
   "metadata": {},
   "outputs": [
    {
     "name": "stdout",
     "output_type": "stream",
     "text": [
      "['Python', 'Java', 'C++', 'Perl']\n"
     ]
    }
   ],
   "source": [
    "print(repr(lst))"
   ]
  },
  {
   "cell_type": "code",
   "execution_count": 46,
   "metadata": {},
   "outputs": [
    {
     "name": "stdout",
     "output_type": "stream",
     "text": [
      "{'a': 3497, 'b': 8011, 'c': 8300}\n",
      "{'a': 3497, 'b': 8011, 'c': 8300} {'a': 3497, 'b': 8011, 'c': 8300}\n"
     ]
    }
   ],
   "source": [
    "d = {\"a\":3497, \"b\":8011, \"c\":8300}\n",
    "print(d)\n",
    "print(str(d), repr(d))"
   ]
  },
  {
   "cell_type": "code",
   "execution_count": 47,
   "metadata": {},
   "outputs": [
    {
     "name": "stdout",
     "output_type": "stream",
     "text": [
      "587.78 587.78\n"
     ]
    }
   ],
   "source": [
    "x = 587.78\n",
    "print(str(x), repr(x))"
   ]
  },
  {
   "cell_type": "markdown",
   "metadata": {},
   "source": [
    "Wendet man auf ein Objekt die Funktion str oder repr an, sucht Python in der Klassendefinition nach Methoden mit den Namen ```__str__``` und ```__repr__```. Sind sie vorhanden werden sie entsprechend aufgerufen. Im Folgenden definieren wir eine Klasse A, in der wir weder ```__repr__``` noch ```__str__``` definieren. \n",
    "In diesem Fall wird sowohl bei str und repr, aber auch bei einem einfachen print oder der direkten Ausgabe über die interaktive Shell, eine Default-Ausgabe gewählt:"
   ]
  },
  {
   "cell_type": "code",
   "execution_count": 48,
   "metadata": {},
   "outputs": [
    {
     "name": "stdout",
     "output_type": "stream",
     "text": [
      "<__main__.A object at 0x7f64ec3b2e90>\n"
     ]
    }
   ],
   "source": [
    "class A:\n",
    "    pass\n",
    "\n",
    "a = A()\n",
    "print(repr(a))"
   ]
  },
  {
   "cell_type": "code",
   "execution_count": 49,
   "metadata": {},
   "outputs": [
    {
     "name": "stdout",
     "output_type": "stream",
     "text": [
      "<__main__.A object at 0x7f64ec3b2e90>\n"
     ]
    }
   ],
   "source": [
    "print(str(a))"
   ]
  },
  {
   "cell_type": "code",
   "execution_count": 50,
   "metadata": {},
   "outputs": [
    {
     "name": "stdout",
     "output_type": "stream",
     "text": [
      "<__main__.A object at 0x7f64ec3b2e90>\n"
     ]
    }
   ],
   "source": [
    "print(a)"
   ]
  },
  {
   "cell_type": "markdown",
   "metadata": {},
   "source": [
    "Besitzt eine Klasse eine Funktion ```__str__```, dann wird diese angewendet, wenn auf ein Objekt dieser Klasse str angewendet wird, oder wenn ein Objekt dieser Klasse in einer print-Funktion verwendet wird. ```__str__``` wird jedoch nicht angewendet, wenn man repr auf ein Objekt anwendet, oder wenn man sich direkt den Wert eines Objektes angeben lässt: "
   ]
  },
  {
   "cell_type": "code",
   "execution_count": 2,
   "metadata": {},
   "outputs": [
    {
     "name": "stdout",
     "output_type": "stream",
     "text": [
      "42\n",
      "<__main__.A object at 0x7f9ccc75a940>\n"
     ]
    }
   ],
   "source": [
    "class A:\n",
    "    def __str__(self):\n",
    "        return \"42\"\n",
    "\n",
    "a = A()\n",
    "print(str(a))\n",
    "print(repr(a))"
   ]
  },
  {
   "cell_type": "code",
   "execution_count": 52,
   "metadata": {},
   "outputs": [
    {
     "name": "stdout",
     "output_type": "stream",
     "text": [
      "42\n"
     ]
    }
   ],
   "source": [
    "print(a)"
   ]
  },
  {
   "cell_type": "code",
   "execution_count": 53,
   "metadata": {},
   "outputs": [
    {
     "name": "stdout",
     "output_type": "stream",
     "text": [
      "42\n"
     ]
    }
   ],
   "source": [
    "print(str(a))"
   ]
  },
  {
   "cell_type": "markdown",
   "metadata": {},
   "source": [
    "Besitzt eine Klasse nur eine Funktion __repr__ aber nicht ```__str__```, dann wird  ```__repr__``` immer angewendet, d.h. also wenn auf ein Objekt dieser Klasse str und repr  angewendet werden, oder wenn ein Objekt dieser Klasse in einer print-Anweisung oder direkt in der Python-Shell für eine Ausgabe verwendet wird:\n"
   ]
  },
  {
   "cell_type": "code",
   "execution_count": 54,
   "metadata": {},
   "outputs": [
    {
     "name": "stdout",
     "output_type": "stream",
     "text": [
      "42\n",
      "42\n"
     ]
    }
   ],
   "source": [
    "class A:\n",
    "    def __repr__(self):\n",
    "        return \"42\"\n",
    "\n",
    "a = A()\n",
    "\n",
    "print(repr(a))\n",
    "print(str(a))"
   ]
  },
  {
   "cell_type": "markdown",
   "metadata": {},
   "source": [
    "Eine häufig in Foren gestellte Frage lautet, wann man ```__repr__``` und wann ```__str__``` benutzen sollte. ```__str__``` ist immer dann die richtige Methode, wenn es um die Ausgabe der Daten für Endbenutzer geht.   ```__repr__``` hingegen ist wichtig, wenn es um die intern-Darstellung von Daten geht. Wendet man auf ein Objekt \"o\" die Funktion repr an, dann erhält man eine Stringrepäsentation des Objektes \"o\", aus der man durch Anwendung der Funktion eval wieder das Objekt \"o\" erzeugen kann, genauer gesagt erzeugt man natürlich eine Kopie des ursprünglichen Objektes o.\n",
    "<br>Es gilt also:\n",
    "\n",
    "<b>type(o) == type(eval(repr(o)))</b>\n",
    "<br><br>\n",
    "\n",
    "Eigentlich müsste auch o == eval(repr(o)) gelten, aber da wir noch keine Vergleichsmethoden für unsere Klassenobjekte definiert haben, wird nur die Gleichheit auf die Objekt-ID geprüft, d.h. Kopien von Objekten gelten also als Ungleich.\n",
    "<br><br>\n",
    "Obige Typ-Gleichheit gilt nicht in jedem Fall, wenn man statt repr  str verwendet.\n",
    "Das Hauptaugenmerk bei str liegt auf der Lesbarkeit. Benutzer sollen einen verständlichen String erhalten! Bei ```__repr__``` liegt der Fokus auf der Eindeutigkeit und Unmissverständlichkeit der Datendarstellung!\n",
    "<br><br>\n",
    "\n",
    "Das bisher Gesagte wollen wir nochmals an einem Beispiel verdeutlichen. Dazu benutzen wir das datetime-Modul:\n",
    "<br><br>"
   ]
  },
  {
   "cell_type": "code",
   "execution_count": 4,
   "metadata": {},
   "outputs": [
    {
     "data": {
      "text/plain": [
       "datetime.datetime(2021, 6, 4, 15, 27, 30, 78799)"
      ]
     },
     "execution_count": 4,
     "metadata": {},
     "output_type": "execute_result"
    }
   ],
   "source": [
    "import datetime\n",
    "today = datetime.datetime.now()\n",
    "str_s = str(today)\n",
    "repr_s= repr(today)\n",
    "#eval(str_s)\n",
    "eval(repr_s)"
   ]
  },
  {
   "cell_type": "markdown",
   "metadata": {},
   "source": [
    "Wir sehen, dass wir den String repr_s , den wir mittels repr erhalten wieder mit eval in ein datetime.datetime-Objekt wandeln können. Den durch str erzeugten String str_s kann man jedoch nicht mehr rückwandeln. \n",
    "<br><br>\n",
    "Wir können nun unsere Roboterklasse um eine repr-Methode erweitern. Um die Darstellung übersichtlich zu halten, haben wir im folgenden Code alle anderen vorher definierten Methoden weggelassen:"
   ]
  },
  {
   "cell_type": "code",
   "execution_count": 56,
   "metadata": {},
   "outputs": [
    {
     "name": "stdout",
     "output_type": "stream",
     "text": [
      "Roboter(\"Marvin\",1979)\n",
      "Typ von x_str:  <class 'str'>\n",
      "Roboter(\"Marvin\",1979)\n",
      "Typ von neu: <class '__main__.Roboter'>\n"
     ]
    }
   ],
   "source": [
    "class Roboter:\n",
    "    \n",
    "    def __init__(self, name, baujahr):\n",
    "        self.name = name\n",
    "        self.baujahr = baujahr\n",
    "\n",
    "    def __repr__(self):\n",
    "        return \"Roboter(\\\"\" + self.name + \"\\\",\" +  str(self.baujahr) +  \")\"\n",
    " \n",
    "       \n",
    "x = Roboter(\"Marvin\", 1979)\n",
    "\n",
    "x_str = str(x)\n",
    "print(x_str)\n",
    "print(\"Typ von x_str: \", type(x_str))\n",
    "neu = eval(x_str)\n",
    "print(neu)\n",
    "print(\"Typ von neu:\", type(neu))"
   ]
  },
  {
   "cell_type": "markdown",
   "metadata": {},
   "source": [
    "Die Anweisung print(x_str) gibt den String Roboter(\"Marvin\",1979) aus. Wir können diesen String wieder mittels eval(x_str) in eine Instanz neu der Klasse Roboter wandeln.\n",
    "<br><br>\n",
    "Starten wir das Skript erhalten wir folgende Ausgaben:\n",
    "<br><br>\n",
    "<pre>\n",
    "Roboter(\"Marvin\",1979)\n",
    "Typ von x_str:  &lt;class 'str'&gt;\n",
    "Roboter(\"Marvin\",1979)\n",
    "Typ von neu: &lt;class '__main__.Roboter'&gt;\n",
    "</pre>\n",
    "<br>\n",
    "Nun erweitern wir unsere Klasse noch um eine benutzerfreundliche ```__str__```-Methode. \n",
    "Wir sehen, dass wir die durch ```__repr__``` erzeugten Strings wieder mittels ```eval``` in ein Roboter-Objekt wandeln können:"
   ]
  },
  {
   "cell_type": "code",
   "execution_count": 57,
   "metadata": {},
   "outputs": [
    {
     "name": "stdout",
     "output_type": "stream",
     "text": [
      "Name: Marvin, Baujahr: 1979\n",
      "Typ von x_str:  <class 'str'>\n",
      "Roboter(\"Marvin\",1979) <class 'str'>\n",
      "Name: Marvin, Baujahr: 1979\n",
      "Typ von neu: <class '__main__.Roboter'>\n"
     ]
    }
   ],
   "source": [
    "class Roboter:\n",
    "    \n",
    "    def __init__(self, name, baujahr):\n",
    "        self.name = name\n",
    "        self.baujahr = baujahr\n",
    "\n",
    "    def __repr__(self):\n",
    "        return \"Roboter(\\\"\" + self.name + \"\\\",\" +  str(self.baujahr) +  \")\"\n",
    "  \n",
    "    def __str__(self):\n",
    "        return \"Name: \" + self.name + \", Baujahr: \" +  str(self.baujahr)\n",
    "\n",
    "        \n",
    "x = Roboter(\"Marvin\", 1979)\n",
    "\n",
    "x_str = str(x)\n",
    "print(x_str)\n",
    "print(\"Typ von x_str: \", type(x_str))\n",
    "x_repr = repr(x)\n",
    "print(x_repr, type(x_repr))\n",
    "neu = eval(x_repr)\n",
    "print(neu)\n",
    "print(\"Typ von neu:\", type(neu))"
   ]
  },
  {
   "cell_type": "markdown",
   "metadata": {},
   "source": [
    "\n",
    "\n",
    "\n",
    "\n",
    "<h3>Public- Protected- und Private-Attribute</h3>\n",
    "\n",
    "<img class=\"imgright\" width=150 src=\"../images/private_property_no_trespassing.webp\" srcset=\"../images/private_property_no_trespassing_400w.webp 400w,../images/private_property_no_trespassing_350w.webp 350w,../images/private_property_no_trespassing_300w.webp 300w\" alt=\"No Trespassing\" />\n",
    "\n",
    "\n",
    "Wer kennt nicht die Klischees in Filmen und Erzählungen von schießwütigen Farmern, die sofort \n",
    "losschießen, wenn jemand ihr Grundstück betritt. Natürlich hat diese Person willentlich oder auch \n",
    "versehentlich das ansonsten kaum zu übersehene Schild mit der Aufschrift ,,Private NO Trespassing'' nicht beachtet.\n",
    "Besonders irritierend ist dabei häufig die Tatsache, dass die Grundstücke in keinster Weise eingezäunt sind. Aber es gibt auch die Variante, in denen die Grundstücke mit hohen Zäunen, manchmal gar mit Stacheldraht gesichert sind. Aber egal ob der Zugang durch bauliche Maßnahmen erschwert wurde oder nicht, sobald man ein solches Grundstück betritt begeht man Hausfriedensbruch. (Naja, ist sicherlich nicht ganz juristisch korrekt und wir haben auch bewusst offen gelassen, um welches Land oder welchen Staat es geht.)\n",
    "<br><br>\n",
    "Im Gegensatz zum Privatbesitz, zu dem einem der Zutritt verwehrt werden kann, gibt es dann auch öffentliche Räume, wie Straßen oder Plätze, die von allen genutzt werden dürfen. \n",
    "<br><br>\n",
    "<img class=\"imgright\" width=150 src=\"../images/enter_at_your_own_risk.webp\" srcset=\"../images/enter_at_your_own_risk_400w.webp 400w,../images/enter_at_your_own_risk_350w.webp 350w,../images/enter_at_your_own_risk_300w.webp 300w\" alt=\"Auf eigene Gefahr\" />\n",
    "Dazwischen gibt es noch eine besondere Form: Privatbesitz darf genutzt werden, aber nur auf eigene Gefahr. Sie ahnen es sicherlich schon. Wir brauchen diese Vorstellungen von Zugangsberechtigungen für unsere Attribute. \n",
    "<br><br>\n",
    "Wählt man Namen ohne führenden oder führende Unterstriche als Attribute einer Klasseninstanz, so sind diese öffentlich zugänglich, d.h. von außen, also außerhalb der Klassendefinition. Wichtig ist vor allen Dingen die Tatsache, dass sie nicht nur von außen, also von den Benutzern der Klasse, genutzt werden können, sondern dass es sich bei dieser Nutzung um einen ordnungsgemäßen Gebrauch der Klasse handelt.\n",
    "<br> \n",
    "Möchte man verhindern, dass ein Attribut lesend oder schreibend von den Benutzern der Klasse genutzt werden kann, gibt es zwei Möglichkeiten, die Python einem zur Verfügung stellt. Jedes Attribut, welches mit genau einem Unterstrich beginnt, ist ,,protected''. In diesem Fall kann man zwar immer noch von außen lesend und schreibend auf das Attribut zugreifen, aber durch den Unterstrich hat man klar gemacht, dass dies ,,verboten'' oder ,,nicht erwünscht'' ist. Dies entspricht in etwa unserem ,,No Trespassing''-Schild auf einem Grundstück, dass ansonsten keinerlei bauliche Maßnahmen hat, die ein Eindringen verhindern. Die ,,baulichen Maßnahmen'' erfolgen erst, wenn man den Namen eines Attributes mit zwei Unterstrichen beginnen lässt. Ein solches Attribut ist ein ,,private''-Attribut, auf das von außen nicht zugriffen werden kann.<sup>3</sup>\n",
    "<br><br>\n",
    "\n",
    "\n",
    "In der folgenden Tabelle haben wir die verschiedenen Attributarten nochmals zusammengefasst:\n",
    "<br><br>\n",
    "<table\n",
    "style=\"text-align: left; width: 100%; background-color: rgb(220, 255, 220);\"\n",
    "border=\"0\" cellpadding=\"2\" cellspacing=\"2\">\n",
    "<tbody>\n",
    "<tr>\n",
    "<th style=\"vertical-align: top;\">Namen<br>\n",
    "</th>\n",
    "<th style=\"vertical-align: top;\">Bezeichnung<br>\n",
    "</th>\n",
    "<th style=\"vertical-align: top;\">Bedeutung<br>\n",
    "</th>\n",
    "</tr>\n",
    "<tr>\n",
    "<td style=\"vertical-align: top;\">name</td>\n",
    "<td style=\"vertical-align: top;\">Public<br>\n",
    "</td>\n",
    "<td style=\"vertical-align: top;\">Attribute ohne f&uuml;hrende\n",
    "Unterstriche sind sowohl innerhalb einer Klasse als auch von au&szlig;en \n",
    "les- und schreibbar.<br>\n",
    "</td>\n",
    "</tr>\n",
    "<tr>\n",
    "<td style=\"vertical-align: top;\">_name</td>\n",
    "<td style=\"vertical-align: top;\">Protected<br>\n",
    "</td>\n",
    "<td style=\"vertical-align: top;\">Man kann zwar auch von\n",
    "au&szlig;en lesend und schreibend zugreifen, aber der Entwickler macht damit\n",
    "  klar, dass man diese Member nicht benutzen sollte.\n",
    "Protected-Attribute sind insbesondere bei Vererbungen von Bedeutung.\n",
    "<br>\n",
    "</td>\n",
    "</tr>\n",
    "<tr>\n",
    "<td style=\"vertical-align: top;\">__name</td>\n",
    "<td style=\"vertical-align: top;\">Private<br>\n",
    "</td>\n",
    "<td style=\"vertical-align: top;\">Sind von au&szlig;en nicht\n",
    "sichtbar und nicht benutzbar.<br>\n",
    "</td>\n",
    "</tr>\n",
    "</tbody>\n",
    "</table>\n",
    "\n",
    "<br><br>\n",
    "\n",
    "Wir wollen uns das Verhalten der verschiedenen Attribute in einer Beispielklasse anschauen:\n",
    "\n",
    "\n",
    "\n",
    "\n",
    "\n",
    "\n",
    "\n",
    "\n",
    "\n",
    "\n",
    "\n",
    "\n",
    "\n",
    "\n",
    "\n",
    "\n",
    "\n",
    "\n",
    "\n",
    "\n",
    "<br><br>\n",
    "<pre>\n",
    "\n",
    "</pre>\n",
    "<br>\n",
    "Obige Beispielklasse speichern wir unter attributes.py und testen sie in der interaktiven Python-Shell:\n",
    "<br><br>\n",
    "<pre>\n",
    ">>> from attributes import A\n",
    ">>> \n",
    "Traceback (most recent call last):\n",
    "  File \"&lt;stdin&gt;\", line 1, in &lt;module&gt;\n",
    "AttributeError: 'A' object has no attribute '__priv'\n",
    "</pre>\n",
    "<br><br>\n",
    "Interessant ist vor allen Dingen die Fehlermeldung \n",
    "<br>\n",
    "<pre>\n",
    "AttributeError: 'A' object has no attribute '__priv' \n",
    "</pre>\n",
    "<br><br>\n",
    "Eigentlich würde man als Fehlermeldung erwarten, dass man auf das Attribut __priv nicht zugreifen darf, da es ,,private'' ist. Stattdessen kommt die obige Meldung, die so tut, als gäbe es kein Attribut __priv in der Klasse A. Dies ist wichtig, da ansonsten Benutzer der Klasse Code programmieren könnten, der auf der Existenz bzw. Nicht-Existenz von ,,private''-Attributen beruht. Damit wäre auch das Prinzip der Datenkapselung verletzt. \n",
    "<br><br>\n",
    "Bevor Sie mir der Lektüre fortfahren, können Sie sich überlegen, wie man die bisherige Roboterklasse mit privaten Attributen für den Namen und das Baujahr umschreibt. \n",
    "<br><br>\n",
    "Dazu muss man jedes Vorkommen von self.name und self.baujahr durch self.__name und self.__baujahr ersetzen.\n",
    "<br><br>\n",
    "Das folgende Listing zeigt die Klasse mit privaten Attributen:"
   ]
  },
  {
   "cell_type": "code",
   "execution_count": 67,
   "metadata": {},
   "outputs": [
    {
     "name": "stdout",
     "output_type": "stream",
     "text": [
      "Ich bin öffentlich\n"
     ]
    }
   ],
   "source": [
    "class A():\n",
    "    \n",
    "    def __init__(self):\n",
    "        self.__priv = \"Ich bin privat\"\n",
    "        self._prot = \"Ich bin protected\"\n",
    "        self.pub = \"Ich bin öffentlich\"\n",
    "        \n",
    "x = A()\n",
    "print(x.pub)"
   ]
  },
  {
   "cell_type": "code",
   "execution_count": 68,
   "metadata": {},
   "outputs": [
    {
     "name": "stdout",
     "output_type": "stream",
     "text": [
      "Man kann meinen Wert ändern und das ist gut so\n"
     ]
    }
   ],
   "source": [
    "x.pub = \"Man kann meinen Wert ändern und das ist gut so\"\n",
    "print(x.pub)"
   ]
  },
  {
   "cell_type": "code",
   "execution_count": 69,
   "metadata": {},
   "outputs": [
    {
     "name": "stdout",
     "output_type": "stream",
     "text": [
      "Ich bin protected\n"
     ]
    }
   ],
   "source": [
    "print(x._prot)"
   ]
  },
  {
   "cell_type": "code",
   "execution_count": 70,
   "metadata": {},
   "outputs": [
    {
     "name": "stdout",
     "output_type": "stream",
     "text": [
      "Der Wert kann aber sollte nicht von außen geändert werden!\n"
     ]
    }
   ],
   "source": [
    "x._prot = \"Der Wert kann aber sollte nicht von außen geändert werden!\"\n",
    "print(x._prot)"
   ]
  },
  {
   "cell_type": "code",
   "execution_count": 71,
   "metadata": {},
   "outputs": [
    {
     "ename": "AttributeError",
     "evalue": "'A' object has no attribute '__priv'",
     "output_type": "error",
     "traceback": [
      "\u001b[0;31m---------------------------------------------------------------------------\u001b[0m",
      "\u001b[0;31mAttributeError\u001b[0m                            Traceback (most recent call last)",
      "\u001b[0;32m<ipython-input-71-bb727e6fe179>\u001b[0m in \u001b[0;36m<module>\u001b[0;34m\u001b[0m\n\u001b[0;32m----> 1\u001b[0;31m \u001b[0mprint\u001b[0m\u001b[0;34m(\u001b[0m\u001b[0mx\u001b[0m\u001b[0;34m.\u001b[0m\u001b[0m__priv\u001b[0m\u001b[0;34m)\u001b[0m    \u001b[0;31m# geht nicht\u001b[0m\u001b[0;34m\u001b[0m\u001b[0;34m\u001b[0m\u001b[0m\n\u001b[0m",
      "\u001b[0;31mAttributeError\u001b[0m: 'A' object has no attribute '__priv'"
     ]
    }
   ],
   "source": [
    "print(x.__priv)    # geht nicht"
   ]
  },
  {
   "cell_type": "markdown",
   "metadata": {},
   "source": [
    "Wir schreiben nun eine Klasse mit privaten Attributen:"
   ]
  },
  {
   "cell_type": "code",
   "execution_count": 72,
   "metadata": {},
   "outputs": [
    {
     "name": "stdout",
     "output_type": "stream",
     "text": [
      "Hallo, mein Name ist Marvin\n",
      "Ich bin 1979 erschaffen worden! \n",
      "Name: Marvin, Baujahr: 1979\n",
      "Hallo, mein Name ist Caliban\n",
      "Ich bin 1993 erschaffen worden! \n",
      "Name: Caliban, Baujahr: 1993\n"
     ]
    }
   ],
   "source": [
    "class Roboter:\n",
    "    \n",
    "    def __init__(self, name, baujahr):\n",
    "        self.__name = name\n",
    "        self.__baujahr = baujahr\n",
    "\n",
    "    def __repr__(self):\n",
    "        return \"Roboter(\\\"\" + self.__name + \"\\\",\" +  str(self.__baujahr) +  \")\"\n",
    "  \n",
    "    def __str__(self):\n",
    "        return \"Name: \" + self.__name + \", Baujahr: \" +  str(self.__baujahr)\n",
    "    \n",
    "    def SageHallo(self):\n",
    "        print(\"Hallo, mein Name ist \" + self.__name)\n",
    "        \n",
    "    def NeuerName(self, name):\n",
    "        self.__name = name\n",
    "        \n",
    "    def HoleNamen(self):\n",
    "        return self.__name\n",
    "    \n",
    "    def NeuesBaujahr(self, baujahr):\n",
    "        self.__baujahr = baujahr\n",
    "        \n",
    "    def HoleBaujahr(self):\n",
    "        return str(self.__baujahr)\n",
    "\n",
    "        \n",
    "\n",
    "x = Roboter(\"Marvin\", 1979)\n",
    "y = Roboter(\"Caliban\", 1993)\n",
    "for rob in [x, y]:\n",
    "    rob.SageHallo()\n",
    "    print(\"Ich bin \" + rob.HoleBaujahr() + \" erschaffen worden! \")\n",
    "    print(rob)"
   ]
  },
  {
   "cell_type": "markdown",
   "metadata": {},
   "source": [
    "Wir sehen, dass wir für beide privaten Attribute, also ```__name``` und ```__baujahr```, jeweils einen \n",
    "Getter (HoleNamen(self) und HoleBaujahr(self)) und einen Setter (NeuerNamen(self) und \n",
    "NeuesBaujahr(self)) zur Verfügung gestellt haben. Nicht jedes private Attribut braucht \n",
    "oder sollte einen Getter oder Setter haben. Dies ist eine Designfrage: Eine Klasse wird \n",
    "unübersichtlich, wenn man ihr zuviele unnötige und vielleicht sogar unnütze Methoden zur \n",
    "Verfügung stellt. Es gibt IDEs, die stellen automatisch zu jedem privaten Attribut einen \n",
    "Getter und einen Setter zur Verfügung. Also für ein privates Attribut ```self.__x``` werden dann \n",
    "automatisch eine Getter- und eine Setter-Methode zur Verfügung gestellt. Diese sehen dann \n",
    "prinzipiell so aus:"
   ]
  },
  {
   "cell_type": "code",
   "execution_count": 5,
   "metadata": {},
   "outputs": [],
   "source": [
    "class A():\n",
    "    \n",
    "    def __init__(self, x, y):\n",
    "        self.__x = x\n",
    "        seld.__y = y\n",
    "\n",
    "    def GetX(self):\n",
    "        return self.__x\n",
    "\n",
    "    def GetY(self):\n",
    "        return self.__y\n",
    "\n",
    "    def SetX(self, new):\n",
    "        self.__x = new\n",
    "\n",
    "    def SetY(self, new):\n",
    "        self.__y = new"
   ]
  },
  {
   "cell_type": "markdown",
   "metadata": {},
   "source": [
    "Dies ist aus zweierlei Gründen nicht sinnvoll. Erstens benötigt man für viele privaten \n",
    "Attribute, wie bereits erwähnt, von außen keinen Zugriff und zweitens erzeugt dies einen \n",
    "nicht-pythonischen Code.\n",
    "Wir werden später sehen, wie man dies besser gestaltet."
   ]
  },
  {
   "cell_type": "markdown",
   "metadata": {},
   "source": [
    "### Destruktor\n",
    "\n",
    "Für eine Klasse kann man auch die Methode ```__del__``` definieren. Sie wird aufgerufen, bevor eine Instanz zerstört wird. Er wird häufig auch als Destruktor bezeichnet, obwohl es sich eigentlich nicht um den Destruktor handelt. Wenn man eine Instanz einer Klasse mit del löscht, wird die Methode ```__del__``` vor dem eigentlichen Destruktor aufgerufen. Allerdings nur, falls es keine weitere Referenz auf diese Instanz gibt. Destruktoren werden selten benutzt, da man sich normalerweise nicht um das Aufräumen im Speicher kümmern muss.\n",
    "<br><br>\n",
    "Im Folgenden sehen wir ein Beispiel mit ```__init__``` und ```__del__```: "
   ]
  },
  {
   "cell_type": "code",
   "execution_count": 74,
   "metadata": {},
   "outputs": [
    {
     "name": "stdout",
     "output_type": "stream",
     "text": [
      "Tik-Tok wurde erschaffen!\n",
      "Jenkins wurde erschaffen!\n",
      "Deleting x\n",
      "Deleting z\n",
      "Roboter wurde zerstört\n",
      "Roboter wurde zerstört\n"
     ]
    }
   ],
   "source": [
    "class Roboter():\n",
    "    \n",
    "    def __init__(self, name):\n",
    "        print(name + \" wurde erschaffen!\")\n",
    "        \n",
    "    def __del__(self):\n",
    "        print (\"Roboter wurde zerstört\")\n",
    "        \n",
    "        \n",
    "x = Roboter(\"Tik-Tok\")\n",
    "y = Roboter(\"Jenkins\")\n",
    "z = x\n",
    "print(\"Deleting x\")\n",
    "del x\n",
    "print(\"Deleting z\")\n",
    "del z\n",
    "del y"
   ]
  },
  {
   "cell_type": "markdown",
   "metadata": {},
   "source": [
    "Die Verwendung der ```__del__```-Methode ist sehr problematisch. Kommt man auf die Idee, den Robotern ,,ein persönliches Ende'' zu bereiten, wie im folgenden Programm, erhalten wir eine Fehlermeldung:\n"
   ]
  },
  {
   "cell_type": "code",
   "execution_count": 6,
   "metadata": {},
   "outputs": [
    {
     "name": "stderr",
     "output_type": "stream",
     "text": [
      "Exception ignored in: <function Roboter.__del__ at 0x7f9ccc741280>\n",
      "Traceback (most recent call last):\n",
      "  File \"<ipython-input-6-8a66dd556b63>\", line 7, in __del__\n",
      "AttributeError: 'Roboter' object has no attribute 'name'\n",
      "Exception ignored in: <function Roboter.__del__ at 0x7f9ccc741280>\n",
      "Traceback (most recent call last):\n",
      "  File \"<ipython-input-6-8a66dd556b63>\", line 7, in __del__\n",
      "AttributeError: 'Roboter' object has no attribute 'name'\n"
     ]
    },
    {
     "name": "stdout",
     "output_type": "stream",
     "text": [
      "Tik-Tok wurde erschaffen!\n",
      "Jenkins wurde erschaffen!\n",
      "Deleting x\n",
      "Deleting z\n"
     ]
    }
   ],
   "source": [
    "class Roboter():\n",
    "    \n",
    "    def __init__(self, name):\n",
    "        print(name + \" wurde erschaffen!\")\n",
    "        \n",
    "    def __del__(self):\n",
    "        print(self.name + \" sagt bye-bye. \")\n",
    "        print(\"Es gibt \" + self.name + \" ihn nun nicht mehr!\")\n",
    "        \n",
    "        \n",
    "x = Roboter(\"Tik-Tok\")\n",
    "y = Roboter(\"Jenkins\")\n",
    "z = x\n",
    "print(\"Deleting x\")\n",
    "del x\n",
    "print(\"Deleting z\")\n",
    "del z\n",
    "del y"
   ]
  },
  {
   "cell_type": "markdown",
   "metadata": {},
   "source": [
    "Wir greifen auf das Attribut ,,name'' zu, was aber in ```__del__``` in diesem Fall bereits nicht mehr vorhanden ist. Wir werden später nochmals intensiv auf diese Problematik eingehen.\n",
    "\n",
    "\n",
    "<h3>Fußnoten:</h3>\n",
    "\n",
    "<sup>1</sup>\n",
    "<br>\n",
    "Nach der offiziellen Python-Referenz wird in Python eigentlich alles als Objekt bezeichnet, also beispielsweise Zahlen, Strings, Listen, aber auch Funktionen und Module. Im englischen Original heißt es dazu: ,,Objects are Python's abstraction for data. All data in a Python program is represented by objects or by relations between objects. (In a sense, and in conformance to Von Neumann's model of a \"stored program computer\", code is also represented by objects.) Every object has an identity, a type and a value.\n",
    "<br><br>\n",
    "<sup>2</sup>\n",
    "<br>\n",
    "Der Begriff Attribut stammt vom lateinischen ,,attribuere'', was ,,zuweisen'' oder ,,zuteilen'' bedeutet. Der Begriff Attribut wird übrigens auch in der Philosophie verwendet, wo es die einem Gegenstand oder Objekt zugewiesene Eigenschaft bezeichnet.\n",
    "<br><br>\n",
    "<sup>3</sup>\n",
    "<br>\n",
    "Es gibt jedoch einen Weg, wie man dennoch von außen zugreifen kann: Auf ein Attribut, wie in unserem Beispiel ```__baujahr,  kann man für eine Instanz x mittels ```x._Roboter__baujahr``` zugreifen. Dies sollte man jedoch keinesfalls tun!\n",
    "<br><br>\n",
    "\n"
   ]
  }
 ],
 "metadata": {
  "kernelspec": {
   "display_name": "Python 3",
   "language": "python",
   "name": "python3"
  },
  "language_info": {
   "codemirror_mode": {
    "name": "ipython",
    "version": 3
   },
   "file_extension": ".py",
   "mimetype": "text/x-python",
   "name": "python",
   "nbconvert_exporter": "python",
   "pygments_lexer": "ipython3",
   "version": "3.9.2"
  }
 },
 "nbformat": 4,
 "nbformat_minor": 4
}
