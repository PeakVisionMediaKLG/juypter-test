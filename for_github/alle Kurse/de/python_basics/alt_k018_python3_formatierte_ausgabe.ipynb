{
 "cells": [
  {
   "cell_type": "markdown",
   "metadata": {},
   "source": [
    "## Formatierte Ausgabe\n",
    "\n",
    "\n",
    "### Wege die Ausgabe zu formatieren\n",
    "\n",
    "<img class=\"imgright\" src=\"../images/Printer_in_1568.webp\" srcset=\"../images/Printer_in_1568_300w.webp 300w\" alt=\"Drucken im 16. Jahrhundert\"/>\n",
    "\n",
    "In diesem Kapitel unseres Python-Tutorials werden wir uns intensiv mit den verschiedenen Methoden beschäftigen, mit denen man die Ausgaben formatieren bzw. formatierte Strings erzeugen kann. Wir stellen die verschiedenen Arten vor, aber wir empfehlen die format-Methode der Stringklasse zu benutzen, die sich kurz vor Ende des Kapitels befindet. Die format-Methode ist die bei weitem flexibelste.\n",
    "\n",
    "Bisher hatten wir die print-Funktion auf zwei Arten benutzt, wenn wir beispielsweise zwei Werte ausgeben wollten:\n",
    "\n",
    "Die einfachste Art, aber sicherlich nicht die eleganteste:\n",
    "Wir benutzen print mit einer kommaseparierten Liste von Werten, um die Ergebnisse auszugeben, wie wir im folgenden Beispiel sehen können. Alle Werte werden durch Leerzeichen getrennt, was dem Default-Verhalten entspricht. Wir können die Default-Trennung durch einen beliebigen String ersetzen. Dazu müssen wir diesen String lediglich durch den Schlüsselwort-Parameter \"sep\" der Print-Funktion ersetzen:"
   ]
  },
  {
   "cell_type": "code",
   "execution_count": 54,
   "metadata": {},
   "outputs": [
    {
     "name": "stdout",
     "output_type": "stream",
     "text": [
      "459 0.098 44.982\n"
     ]
    }
   ],
   "source": [
    "q = 459\n",
    "p = 0.098\n",
    "print(q, p, p * q)"
   ]
  },
  {
   "cell_type": "code",
   "execution_count": 55,
   "metadata": {},
   "outputs": [
    {
     "name": "stdout",
     "output_type": "stream",
     "text": [
      "459,0.098,44.982\n"
     ]
    }
   ],
   "source": [
    "print(q, p, p * q, sep=\",\")"
   ]
  },
  {
   "cell_type": "code",
   "execution_count": 56,
   "metadata": {},
   "outputs": [
    {
     "name": "stdout",
     "output_type": "stream",
     "text": [
      "459 :-) 0.098 :-) 44.982\n"
     ]
    }
   ],
   "source": [
    "print(q, p, p * q, sep=\" :-) \")"
   ]
  },
  {
   "cell_type": "markdown",
   "metadata": {},
   "source": [
    "Alternativ können wir auch aus den Werten mittels der String-Konkatenation einen neuen String konstruieren:"
   ]
  },
  {
   "cell_type": "code",
   "execution_count": 57,
   "metadata": {},
   "outputs": [
    {
     "name": "stdout",
     "output_type": "stream",
     "text": [
      "459 0.098 44.982\n"
     ]
    }
   ],
   "source": [
    "print(str(q) + \" \" + str(p) + \" \" + str(p * q))"
   ]
  },
  {
   "cell_type": "markdown",
   "metadata": {},
   "source": [
    "Die zweite Methode ist schlechter, - da komplizierter, - als die erste. "
   ]
  },
  {
   "cell_type": "markdown",
   "metadata": {},
   "source": [
    "## Alte Methode der Stringformatierung"
   ]
  },
  {
   "cell_type": "markdown",
   "metadata": {},
   "source": [
    "<table cellpadding=\"6\" cellspacing=\"0\" border=\"1\" bgcolor=\"#F5F5F5\">\n",
    "  <thead>\n",
    "    <tr>\n",
    "      <th>Platzhaltersymbol</th>\n",
    "      <th>Bedeutung</th>\n",
    "      </tr>\n",
    "    </thead>\n",
    "  <tbody>\n",
    "    <tr><td valign=\"baseline\"><tt>d</tt></td>\n",
    "        <td>Dezimalzahl Ausgabe Basis 10.</td>\n",
    "        </tr>\n",
    "    <tr><td valign=\"baseline\"><tt>o</tt></td>\n",
    "        <td>Oktalzahl</td>\n",
    "        </tr>\n",
    "    <tr><td valign=\"baseline\"><tt>x</tt></td>\n",
    "        <td>Hexadezimalzahl Buchstaben dabei klein</td>\n",
    "        </tr>\n",
    "    <tr><td valign=\"baseline\"><tt>X</tt></td>\n",
    "        <td>Hexadezimalzahl Buchstaben gross</td>\n",
    "        </tr>\n",
    "    <tr><td valign=\"baseline\"><tt>e</tt></td>\n",
    "        <td>Fließkommazahl im Exponentialformat (in Kleinbuchstaben).</td>\n",
    "        </tr>\n",
    "    <tr><td valign=\"baseline\"><tt>E</tt></td>\n",
    "        <td>Fließkommazahl im Exponentialformat (in Großbuchstaben).</td>\n",
    "        </tr>\n",
    "    <tr><td valign=\"baseline\"><tt>n</tt></td>\n",
    "        <td>wie d aber es wird der Landesübliche 1000er Separator benutzt</td>\n",
    "        </tr>\n",
    "    <tr><td valign=\"baseline\"><tt>b</tt></td>\n",
    "        <td>binäre Zahl</td>\n",
    "        </tr>\n",
    "   <tr><td valign=\"baseline\"><tt>f</tt></td>\n",
    "        <td>Feste Anzahl Nachkomma Stellen bei Fliesskomma (normalerweise 6)</td>\n",
    "        </tr>\n",
    "    <tr><td valign=\"baseline\"><tt>s</tt></td>\n",
    "        <td>Eine Zeichenkette (String); beliebige Python-Objekte werden in String mittels der Methode <tt>str()</tt>) gewandelt.</td>\n",
    "        </tr>\n",
    "        </tbody>\n",
    "</table>"
   ]
  },
  {
   "cell_type": "markdown",
   "metadata": {},
   "source": [
    "Die folgenden Beispiele zeigen einige exemplarische Anwendungen der Konvertierungsmöglichkeiten der vorigen Tabelle:"
   ]
  },
  {
   "cell_type": "markdown",
   "metadata": {},
   "source": [
    "<table cellpadding=\"6\" cellspacing=\"0\" border=\"1\" bgcolor=\"#F5F5F5\">\n",
    "  <thead>\n",
    "    <tr>\n",
    "      <th>Flag</th>\n",
    "      <th>Bedeutung</th>\n",
    "      </tr>\n",
    "    </thead>\n",
    "  <tbody>\n",
    "    <tr><td valign=\"baseline\"><tt>#</tt></td>\n",
    "        <td>Wird dieses Zeichen mit o, x oder X benutzt, wird der jeweilige Wert mit dem entsprechenden folgenden Präfix: 0, 0o, 0O, 0x oder 0X\n",
    "</td></tr>\n",
    "    <tr><td valign=\"baseline\"><tt>0</tt></td>\n",
    "        <td>Das Ergebnis der Umwandlung wird mit Nullen aufgefüllt.</td></tr>\n",
    "    <tr><td valign=\"baseline\"><tt>-</tt></td>\n",
    "        <td>Das Ergebnis der Umwandlung wird linksbündig ausgegeben.</td></tr>\n",
    "    <tr><td valign=\"baseline\"><tt>&nbsp;</tt></td>\n",
    "        <td>Falls kein Vorzeichen (beispielsweise ein Minuszeichen) ausgegeben wird, wird ein Leerzeichen vor den Wert gesetzt.</td></tr>\n",
    "    <tr><td valign=\"baseline\"><tt>+</tt></td>\n",
    "        <td>Das Ergebnis der Umwandlung wird mit einem Vorzeichen versehen (\"<tt>+</tt>\" oder \"<tt>-</tt>\"). Dieses Flag überschreibt ein \"space\"-Flag).</td></tr></tbody>\n",
    "</table>"
   ]
  },
  {
   "cell_type": "markdown",
   "metadata": {},
   "source": [
    "Beispiele:"
   ]
  },
  {
   "cell_type": "code",
   "execution_count": 43,
   "metadata": {},
   "outputs": [
    {
     "name": "stdout",
     "output_type": "stream",
     "text": [
      " 0X2F\n"
     ]
    }
   ],
   "source": [
    "print(\"%#5X\"% (47))"
   ]
  },
  {
   "cell_type": "code",
   "execution_count": 44,
   "metadata": {},
   "outputs": [
    {
     "name": "stdout",
     "output_type": "stream",
     "text": [
      "   2F\n"
     ]
    }
   ],
   "source": [
    "print(\"%5X\"% (47))"
   ]
  },
  {
   "cell_type": "code",
   "execution_count": 45,
   "metadata": {},
   "outputs": [
    {
     "name": "stdout",
     "output_type": "stream",
     "text": [
      "0X002F\n"
     ]
    }
   ],
   "source": [
    "print(\"%#5.4X\"% (47))"
   ]
  },
  {
   "cell_type": "code",
   "execution_count": 46,
   "metadata": {},
   "outputs": [
    {
     "name": "stdout",
     "output_type": "stream",
     "text": [
      " 0o31\n"
     ]
    }
   ],
   "source": [
    "print(\"%#5o\"% (25))"
   ]
  },
  {
   "cell_type": "code",
   "execution_count": 47,
   "metadata": {},
   "outputs": [
    {
     "name": "stdout",
     "output_type": "stream",
     "text": [
      "+42\n"
     ]
    }
   ],
   "source": [
    "print(\"%+d\"% (42))"
   ]
  },
  {
   "cell_type": "code",
   "execution_count": 48,
   "metadata": {},
   "outputs": [
    {
     "name": "stdout",
     "output_type": "stream",
     "text": [
      " 42\n"
     ]
    }
   ],
   "source": [
    "print(\"% d\"% (42))"
   ]
  },
  {
   "cell_type": "code",
   "execution_count": 1,
   "metadata": {},
   "outputs": [
    {
     "name": "stdout",
     "output_type": "stream",
     "text": [
      "+42\n"
     ]
    }
   ],
   "source": [
    "print(\"%+3d\"% (42))"
   ]
  },
  {
   "cell_type": "code",
   "execution_count": 13,
   "metadata": {},
   "outputs": [
    {
     "name": "stdout",
     "output_type": "stream",
     "text": [
      " 4.201e+01\n"
     ]
    }
   ],
   "source": [
    "print(\"% 5.3e\"% (42.005))"
   ]
  },
  {
   "cell_type": "code",
   "execution_count": 10,
   "metadata": {},
   "outputs": [
    {
     "name": "stdout",
     "output_type": "stream",
     "text": [
      " 42.01\n"
     ]
    }
   ],
   "source": [
    "print(\"% 4.2f\"% (42.005))"
   ]
  },
  {
   "cell_type": "code",
   "execution_count": 15,
   "metadata": {},
   "outputs": [
    {
     "name": "stdout",
     "output_type": "stream",
     "text": [
      " 42\n"
     ]
    }
   ],
   "source": [
    "print(\"% 2d\"% (42))"
   ]
  },
  {
   "cell_type": "markdown",
   "metadata": {},
   "source": [
    "Obwohl es so ausschauen mag, ist die Formatierung nicht Teil der Print-Funktion. Schaut man sich die vorigen Beispiele genauer an, sieht man, dass wir einen formatierten String an die Print-Funktion übergeben haben. Oder anders ausgedrückt: Wenn die String-Interpolation auf einen String angewendet wird, liefert sie einen String zurück. Dieser String wird dann an print übergeben. Dies bedeutet wiederum, dass wir die String-Interpolation auch hätten \"zweistufig\" anwenden können, d.h. wir hätten erst einen formatierten String erzeugt, diesen einer Variablen zugewiesen und diese Variable dann an print übergeben:"
   ]
  },
  {
   "cell_type": "code",
   "execution_count": 33,
   "metadata": {},
   "outputs": [
    {
     "name": "stdout",
     "output_type": "stream",
     "text": [
      "Preis: $   356.09\n"
     ]
    }
   ],
   "source": [
    "s = \"Preis: $ %8.2f\"% (356.08977)\n",
    "print(s)"
   ]
  },
  {
   "cell_type": "code",
   "execution_count": 4,
   "metadata": {},
   "outputs": [
    {
     "name": "stdout",
     "output_type": "stream",
     "text": [
      "[1, 2]\n"
     ]
    },
    {
     "data": {
      "text/plain": [
       "str"
      ]
     },
     "execution_count": 4,
     "metadata": {},
     "output_type": "execute_result"
    }
   ],
   "source": [
    "l=[1,2]\n",
    "print(\"%s\"% (l))\n",
    "type(\"%s\"% (l))"
   ]
  },
  {
   "cell_type": "markdown",
   "metadata": {},
   "source": [
    "## Die String-Methode \"format\"\n",
    "\n",
    "Was die String-Methode format betrifft, ist die help-Funktion von Python nicht sehr hilfreich. Alles was sie uns sagt, ist dieses:\n",
    "\n",
    " |  format(...)\n",
    " <br>\n",
    " |      S.format(*args, **kwargs) -> str\n",
    " <br>\n",
    " |      \n",
    " <br>\n",
    " |      Return a formatted version of S, using substitutions from args and kwargs.\n",
    " <br>\n",
    " |      The substitutions are identified by braces ('{' and '}').\n",
    " <br>\n",
    " |  "
   ]
  },
  {
   "cell_type": "markdown",
   "metadata": {},
   "source": [
    "<table cellpadding=\"6\" cellspacing=\"0\" border=\"1\" bgcolor=\"#336655\" >\n",
    "  <thead>\n",
    "    <tr>\n",
    "      <th>Platzhaltersymbol</th>\n",
    "      <th>Bedeutung</th>\n",
    "      </tr>\n",
    "    </thead>\n",
    "  <tbody>\n",
    "    <tr><td valign=\"baseline\"><tt>d</tt></td>\n",
    "        <td>Dezimalzahl Ausgabe Basis 10.</td>\n",
    "        </tr>\n",
    "    <tr><td valign=\"baseline\"><tt>o</tt></td>\n",
    "        <td>Oktalzahl</td>\n",
    "        </tr>\n",
    "    <tr><td valign=\"baseline\"><tt>x</tt></td>\n",
    "        <td>Hexadezimalzahl Buchstaben dabei klein</td>\n",
    "        </tr>\n",
    "    <tr><td valign=\"baseline\"><tt>X</tt></td>\n",
    "        <td>Hexadezimalzahl Buchstaben gross</td>\n",
    "        </tr>\n",
    "    <tr><td valign=\"baseline\"><tt>e</tt></td>\n",
    "        <td>Fließkommazahl im Exponentialformat (in Kleinbuchstaben).</td>\n",
    "        </tr>\n",
    "    <tr><td valign=\"baseline\"><tt>E</tt></td>\n",
    "        <td>Fließkommazahl im Exponentialformat (in Großbuchstaben).</td>\n",
    "        </tr>\n",
    "    <tr><td valign=\"baseline\"><tt>n</tt></td>\n",
    "        <td>wie d aber es wird der Landesübliche 1000er Separator benutzt</td>\n",
    "        </tr>\n",
    "    <tr><td valign=\"baseline\"><tt>b</tt></td>\n",
    "        <td>binäre Zahl</td>\n",
    "        </tr>\n",
    "   <tr><td valign=\"baseline\"><tt>f</tt></td>\n",
    "        <td>Feste Anzahl Nachkomma Stellen (normalerweise 6)</td>\n",
    "        </tr>\n",
    "    <tr><td valign=\"baseline\"><tt>c</tt></td>\n",
    "        <td>ohne Angabe entspricht d</td>\n",
    "        </tr>\n",
    "    <tr><td valign=\"baseline\"><tt>s</tt></td>\n",
    "        <td>Eine Zeichenkette (String); beliebige Python-Objekte werden in String mittels der Methode <tt>str()</tt>) gewandelt.</td>\n",
    "        </tr>\n",
    "    <tr><td valign=\"baseline\"><tt>%</tt></td>\n",
    "        <td>Es findet keine Argument-Konvertierung statt, es wird ein \"<tt>%</tt>\"-Zeichen ausgegeben.</td>\n",
    "        </tbody>\n",
    "</table>"
   ]
  },
  {
   "cell_type": "markdown",
   "metadata": {},
   "source": [
    "<table cellpadding=\"6\" cellspacing=\"0\" border=\"1\" bgcolor=\"#336655\">\n",
    "  <thead>\n",
    "    <tr>\n",
    "      <th>Flag</th>\n",
    "      <th>Bedeutung</th>\n",
    "      </tr>\n",
    "    </thead>\n",
    "  <tbody>\n",
    "    <tr><td valign=\"baseline\"><tt>#</tt></td>\n",
    "        <td>Wird dieses Zeichen mit o, x oder X benutzt, wird der jeweilige Wert mit dem entsprechenden folgenden Präfix: 0, 0o, 0O, 0x oder 0X\n",
    "</td></tr>\n",
    "    <tr><td valign=\"baseline\"><tt>0</tt></td>\n",
    "        <td>Das Ergebnis der Umwandlung wird mit Nullen aufgefüllt.</td></tr>\n",
    "    <tr><td valign=\"baseline\"><tt>-</tt></td>\n",
    "        <td>Das Ergebnis der Umwandlung wird linksbündig ausgegeben.</td></tr>\n",
    "    <tr><td valign=\"baseline\"><tt>&nbsp;</tt></td>\n",
    "        <td>Falls kein Vorzeichen (beispielsweise ein Minuszeichen) ausgegeben wird, wird ein Leerzeichen vor den Wert gesetzt.</td></tr>\n",
    "    <tr><td valign=\"baseline\"><tt>+</tt></td>\n",
    "        <td>Das Ergebnis der Umwandlung wird mit einem Vorzeichen versehen (\"<tt>+</tt>\" oder \"<tt>-</tt>\"). Dieses Flag überschreibt ein \"space\"-Flag).</td></tr></tbody>\n",
    "</table>"
   ]
  },
  {
   "cell_type": "markdown",
   "metadata": {},
   "source": [
    "Die String-Methode \"format\" wurde mit Python 2.6 als Ersatz für die String-Interpolation eingeführt.\n",
    "\n",
    "Ganz allgemein sieht \"format\" wie folgt aus:\n",
    "\n",
    "<pre>\n",
    "template.format(p0, p1, ..., k0=v0, k1=v1, ...)\n",
    "</pre>\n",
    "\n",
    "Der Format-String ist ein String, der ein oder mehrere Format-Codes innerhalb eines konstanten Textes enthält, d.h. Felder, die ersetzt werden sollen. Die zu \"ersetzenden Felder\" sind von geschweiften Klammern umgeben. Eine geschweifte Klammer und der von ihr umschlossene \"Code\" wird mit dem formatierten Wert aus dem korrespondierenden Argument ersetzt. Nach welchen Regeln dies zu erfolgen hat, werden wir im folgenden erläutern. Alles andere, was nicht von geschweiften Klammern umschlossen ist, wird wörtlich, also ohne Änderungen, ausgedruckt. Möchte man eine öffnende oder eine schließende geschweifte Klammer ausgeben, muss man diese verdoppeln, also \"{{\" oder \"}}\".\n",
    "\n",
    "Es gibt zwei Arten von Argumenten für die format-Methode. Die Argumentenliste startet mit 0 oder mehr Positionsargumenten (p0, p1, ...), die von 0 oder mehr Schlüsselwortargumenten der Form name=value gefolgt werden können.\n",
    "\n",
    "Ein Positionsparameter der format-Methode kann benutzt werden, indem man den Index des Parameters nach öffnenden geschweiften Klammer angibt, d.h. {0} für den ersten Parameter, {1} für den zweiten und so weiter. Der Index des Positionsparameter nach der öffnenden geschweiften Klammer kann von einem Doppelpunkt und einem Formatstring gefolgt werden, der dem des String-Interpolationsparameters ähnelt, den wir zu Beginn des Kapitels besprochen hatten, also zum Beispiel {0:5d}\n",
    "Falls die Positionsparameter in der Reihenfolge benutzt werden, in der sie in der Parameterliste stehen, kann die Angabe des Indexes innerhalb der geschweiften Klammern entfallen, d.h. '{} {} {}' entspricht '{0} {1} {2}'. Um es nochmals klar zu stellen: Will man sie in einer anderen Reihenfolge benutzen, sind die Angaben der Indexpositionen dringend notwendig, wie z.B. hier '{2} {1} {0}'\n",
    "\n",
    "Im folgenden Diagramm zeigen wir anhand eines Beispieles wie die Stringmethode \"format\" für zwei Parameter funktioniert:"
   ]
  },
  {
   "cell_type": "markdown",
   "metadata": {},
   "source": [
    "<img src=\"../images/format_method_positional_parameters.webp\" height=\"190\" alt=\"Allgemeine Arbeitsweise der Stringmethode format für zwei Positionsparameter\" />\n",
    "\n",
    "Beispiele mit Positionsparametern:"
   ]
  },
  {
   "cell_type": "code",
   "execution_count": null,
   "metadata": {},
   "outputs": [],
   "source": [
    "\"Erstes Argument: {0}, zweites: {0}\".format(47,11) "
   ]
  },
  {
   "cell_type": "code",
   "execution_count": null,
   "metadata": {},
   "outputs": [],
   "source": [
    "\"Zweites Argument: {1}, erstes: {0}\".format(47,11) "
   ]
  },
  {
   "cell_type": "code",
   "execution_count": null,
   "metadata": {},
   "outputs": [],
   "source": [
    "\"Zweites Argument: {1:3d}, erstes: {0:7.2f}\".format(47.42,11) "
   ]
  },
  {
   "cell_type": "code",
   "execution_count": null,
   "metadata": {},
   "outputs": [],
   "source": [
    "\"Erstes Argument: {}, zweites: {}\".format(47,11) \n",
    "\n",
    "# Argumente können auch mehrmals verwendet werden:"
   ]
  },
  {
   "cell_type": "code",
   "execution_count": 1,
   "metadata": {},
   "outputs": [
    {
     "data": {
      "text/plain": [
       "'precisions:   1.41 or  1.415'"
      ]
     },
     "execution_count": 1,
     "metadata": {},
     "output_type": "execute_result"
    }
   ],
   "source": [
    "\"precisions: {0:6.2f} or {0:6.3f}\".format(1.4148) "
   ]
  },
  {
   "cell_type": "markdown",
   "metadata": {},
   "source": [
    "<img src=\"../images/format_method_keyword_parameters.webp\" height=\"190\" alt=\"Allgemeine Arbeitsweise der Stringmethode format für zwei Schlüsselwortparameter\" />"
   ]
  },
  {
   "cell_type": "markdown",
   "metadata": {},
   "source": [
    "Im folgenden Beispiel demonstrieren wir, wie Schlüsselwortparameter mit der format-Methode benutzt werden können:"
   ]
  },
  {
   "cell_type": "code",
   "execution_count": 32,
   "metadata": {},
   "outputs": [
    {
     "data": {
      "text/plain": [
       "'Artikel:   453,  Preis:    59.06'"
      ]
     },
     "execution_count": 32,
     "metadata": {},
     "output_type": "execute_result"
    }
   ],
   "source": [
    "\"Artikel: {a:5d},  Preis: {p:8.2f}\".format(a=453, p=59.058)"
   ]
  },
  {
   "cell_type": "markdown",
   "metadata": {},
   "source": [
    "<table  cellpadding=\"6\" cellspacing=\"0\" border=\"1\" bgcolor=\"#336655\">\n",
    "<colgroup>\n",
    "<col width=\"14%\" />\n",
    "<col width=\"88%\" />\n",
    "</colgroup>\n",
    "<thead valign=\"bottom\">\n",
    "<tr><th class=\"head\">Ausrichtungs-Option</th>\n",
    "<th class=\"head\">Bedeutung</th>\n",
    "</tr>\n",
    "</thead>\n",
    "<tbody valign=\"top\">\n",
    "<tr><td><tt><span class=\"pre\">'&lt;'</span></tt></td>\n",
    "<td>Das Feld wird linksbündig innerhalb des vorhandenen Raumes ausgegeben. Strings werden standardmäßig linksbündig ausgegeben.</td>\n",
    "</tr>\n",
    "<tr><td><tt><span class=\"pre\">'&gt;'</span></tt></td>\n",
    "<td>Das Feld wird rechtsbündig innerhalb des vorhandenen Raumes ausgegeben. Numerische Werte werden standardmäßig rechtsbündig ausgegeben.</td>\n",
    "</tr>\n",
    "\n",
    "<tr><td><tt><span class=\"pre\">'0'</span></tt></td>\n",
    "<td>Wenn man das Formatfeld mit einer führenden Null ('0') versieht, erfolgt ein \n",
    "Auffüllen mit Nullen unter Beachtung eines möglichen Vorzeichens.\n",
    "<pre>\n",
    "x = 378\n",
    "print(\"The value is {0:06d}\".format(x))\n",
    "The value is 000378\n",
    "x = -378\n",
    "print(\"The value is {0:06d}\".format(x))\n",
    "The value is -00378\n",
    "</pre>\n",
    "</td>\n",
    "</tr>\n",
    "<tr><td><tt><span class=\"pre\">','</span></tt></td>\n",
    "<td>Mit dieser Option erhält man Tausender Gruppierungen, die mit Komma getrennt sind: \n",
    "<pre>\n",
    "print(\"The value is {:,}\".format(x))\n",
    "The value is 78,962,324,245\n",
    "print(\"The value is {0:6,d}\".format(x))\n",
    "The value is 5,897,653,423\n",
    "x = 5897653423.89676\n",
    "print(\"The value is {0:12,.3f}\".format(x))\n",
    "The value is 5,897,653,423.897\n",
    "</pre>\n",
    "</td>\n",
    "</tr>\n",
    "\n",
    "\n",
    "<tr><td><tt><span class=\"pre\">'^'</span></tt></td>\n",
    "<td>Ein Feld wird zentriert innerhalb des zur Verfügung stehenden Raumes ausgegeben.</td>\n",
    "</tr>\n",
    "</tbody>\n",
    "</table>"
   ]
  },
  {
   "cell_type": "markdown",
   "metadata": {},
   "source": [
    "\n",
    "Mit der format-Methode ist es auch möglich Daten links- und rechtsbündig auszugeben. Dazu müssen wir der Formatierungsanweisung ein \"<\" (linksbündig) oder ein \">\" (rechtsbündig) voranstellen. Wir demonstrieren dies an den folgenden Beispielausgaben:"
   ]
  },
  {
   "cell_type": "code",
   "execution_count": 26,
   "metadata": {},
   "outputs": [
    {
     "data": {
      "text/plain": [
       "'Spam & Eggs:           6.99'"
      ]
     },
     "execution_count": 26,
     "metadata": {},
     "output_type": "execute_result"
    }
   ],
   "source": [
    "\"{0:<20s} {1:6.2f}\".format('Spam & Eggs:', 6.99)"
   ]
  },
  {
   "cell_type": "code",
   "execution_count": 27,
   "metadata": {},
   "outputs": [
    {
     "data": {
      "text/plain": [
       "'         Spam & Ham:   7.99'"
      ]
     },
     "execution_count": 27,
     "metadata": {},
     "output_type": "execute_result"
    }
   ],
   "source": [
    "\"{0:>20s} {1:6.2f}\".format('Spam & Ham:', 7.99)"
   ]
  },
  {
   "cell_type": "code",
   "execution_count": 1,
   "metadata": {},
   "outputs": [
    {
     "data": {
      "text/plain": [
       "'Spam                   0.00'"
      ]
     },
     "execution_count": 1,
     "metadata": {},
     "output_type": "execute_result"
    }
   ],
   "source": [
    "\"{0:<20} {1:6.2f}\".format('Spam ', 0)"
   ]
  },
  {
   "cell_type": "markdown",
   "metadata": {},
   "source": [
    "Wenn dem Feld für die Ausgabebreite eine Null '0' vorangestellt wird, wird die Breite mit Nullen aufgefüllt bis auf ein  negatives Vorzeichen (falls vorhanden)."
   ]
  },
  {
   "cell_type": "code",
   "execution_count": 2,
   "metadata": {},
   "outputs": [
    {
     "name": "stdout",
     "output_type": "stream",
     "text": [
      "The value is 000378\n"
     ]
    }
   ],
   "source": [
    "x = 378\n",
    "print(\"The value is {0:06d}\".format(x))"
   ]
  },
  {
   "cell_type": "code",
   "execution_count": 3,
   "metadata": {},
   "outputs": [
    {
     "name": "stdout",
     "output_type": "stream",
     "text": [
      "The value is -00378\n"
     ]
    }
   ],
   "source": [
    "x = -378\n",
    "print(\"The value is {0:06d}\".format(x))"
   ]
  },
  {
   "cell_type": "code",
   "execution_count": 2,
   "metadata": {},
   "outputs": [
    {
     "data": {
      "text/plain": [
       "'         Spam & Ham:   7.99'"
      ]
     },
     "execution_count": 2,
     "metadata": {},
     "output_type": "execute_result"
    }
   ],
   "source": [
    "\"{0:>20} {1:6.2f}\".format('Spam & Ham:', 7.99)"
   ]
  },
  {
   "cell_type": "code",
   "execution_count": null,
   "metadata": {},
   "outputs": [],
   "source": []
  },
  {
   "cell_type": "markdown",
   "metadata": {},
   "source": [
    "Wenn keine minimale Feldlänge angegeben wird, entspricht die Feldlänge immer der Länge der Daten, die ein Feld enthält. In diesen Fällen haben die Ausrichtungsoptionen keine Bedeutung.\n",
    "\n",
    "Zusätzlich können wir noch die Ausgabe mittels der sign-Option beeinflussen. Diese Optionen sind nur für numerische Werte gültig:"
   ]
  },
  {
   "cell_type": "markdown",
   "metadata": {},
   "source": [
    "<table cellpadding=\"6\" cellspacing=\"0\" border=\"1\" bgcolor=\"#336655\">\n",
    "<colgroup>\n",
    "<col width=\"14%\" />\n",
    "<col width=\"88%\" />\n",
    "</colgroup>\n",
    "<thead valign=\"bottom\">\n",
    "<tr><th class=\"head\">sign-Option</th>\n",
    "<th class=\"head\">Bedeutung</th>\n",
    "</tr>\n",
    "</thead>\n",
    "<tbody valign=\"top\">\n",
    "<tr><td><tt><span class=\"pre\">'+'</span></tt></td>\n",
    "<td>Es soll immer ein Vorzeichen ausgegeben werden, also unabhängig davon, ob es sich um eine positive oder negative Zahl handelt.</td>\n",
    "</tr>\n",
    "<tr><td><tt><span class=\"pre\">'-'</span></tt></td>\n",
    "<td>Ein Vorzeichen soll nur bei negativen Zahlen verwendet werden.</td>\n",
    "</tr>\n",
    "<tr><td>space</td>\n",
    "<td>Statt eines \"+\"-Zeichens wird bei positiven Zahlen ein Leerzeichen \" \" vorangestellt. Bei negativen Zahlen ein Minus-Zeichen \"-\".</td>\n",
    "</tr>\n",
    "</tbody>\n",
    "</table>"
   ]
  },
  {
   "cell_type": "code",
   "execution_count": 3,
   "metadata": {},
   "outputs": [
    {
     "data": {
      "text/plain": [
       "'         Spam & Ham:  +7.99'"
      ]
     },
     "execution_count": 3,
     "metadata": {},
     "output_type": "execute_result"
    }
   ],
   "source": [
    "\"{0:>20} {1:+6.2f}\".format('Spam & Ham:', 7.99)"
   ]
  },
  {
   "cell_type": "markdown",
   "metadata": {},
   "source": [
    "### Benutzung von Dictionaries beim Aufruf der \"format\"-Methode\n",
    "In den vorigen Kapitel haben wir gesehen, dass wir zwei Möglichkeiten haben Werte mit \"format\" zu formatieren:\n",
    "\n",
    "- Benutzung des Index bzw. der Position des Argumentes:\n"
   ]
  },
  {
   "cell_type": "code",
   "execution_count": 15,
   "metadata": {},
   "outputs": [
    {
     "name": "stdout",
     "output_type": "stream",
     "text": [
      "Die Hauptstadt von Ontario ist Toronto\n"
     ]
    }
   ],
   "source": [
    "print(\"Die Hauptstadt von {0:s} ist {1:s}\".format(\"Ontario\",\"Toronto\"))"
   ]
  },
  {
   "cell_type": "markdown",
   "metadata": {},
   "source": [
    "Um es nochmals zu erwähnen: Im vorigen Beispiel hätten wir auch geschweifte Klammern mit leeren Inhalt benutzen können!\n",
    "- Benutzung von Schlüsselwort-Parametern:"
   ]
  },
  {
   "cell_type": "code",
   "execution_count": 16,
   "metadata": {},
   "outputs": [
    {
     "name": "stdout",
     "output_type": "stream",
     "text": [
      "Die Hauptstadt von Ontario ist Toronto\n"
     ]
    }
   ],
   "source": [
    "print(\"Die Hauptstadt von {province} ist {capital}\".format(province=\"Ontario\",capital=\"Toronto\"))    "
   ]
  },
  {
   "cell_type": "markdown",
   "metadata": {},
   "source": [
    "Im zweiten Fall könnten wir auch ein Dictionary verwenden, wie wir im folgenden Code sehen können:"
   ]
  },
  {
   "cell_type": "code",
   "execution_count": 17,
   "metadata": {},
   "outputs": [
    {
     "data": {
      "text/plain": [
       "{'province': 'Ontario', 'capital': 'Toronto'}"
      ]
     },
     "execution_count": 17,
     "metadata": {},
     "output_type": "execute_result"
    }
   ],
   "source": [
    "data = dict(province=\"Ontario\",capital=\"Toronto\")\n",
    "data"
   ]
  },
  {
   "cell_type": "code",
   "execution_count": 18,
   "metadata": {},
   "outputs": [
    {
     "name": "stdout",
     "output_type": "stream",
     "text": [
      "The capital of Ontario is Toronto\n"
     ]
    }
   ],
   "source": [
    "print(\"The capital of {province} is {capital}\".format(**data))"
   ]
  },
  {
   "cell_type": "markdown",
   "metadata": {},
   "source": [
    "Das doppelte Sternchen (\"*\") vor data wandelt data automatisch in die Form 'province=\"Ontario\",capital=\"Toronto\"'. Schauen wir uns das folgende Python-Programm an:"
   ]
  },
  {
   "cell_type": "code",
   "execution_count": 14,
   "metadata": {},
   "outputs": [
    {
     "name": "stdout",
     "output_type": "stream",
     "text": [
      "Länder und Ihre Hauptstädte:\n",
      "Vereinigte Staaten: Washington\n",
      "US: Washington\n",
      "Kanada: Ottawa\n",
      "Deutschland: Berlin\n",
      "Frankreich: Paris\n",
      "England: London\n",
      "Großbritannien: London\n",
      "Schweiz: Bern\n",
      "Österreich: Wien\n",
      "Niederlande: Amsterdam\n"
     ]
    }
   ],
   "source": [
    "capital_country = {\"Vereinigte Staaten\" : \"Washington\", \n",
    "                   \"US\" : \"Washington\", \n",
    "                   \"Kanada\" : \"Ottawa\",\n",
    "                   \"Deutschland\": \"Berlin\",\n",
    "                   \"Frankreich\" : \"Paris\",\n",
    "                   \"England\" : \"London\",\n",
    "                   \"Großbritannien\" : \"London\",\n",
    "                   \"Schweiz\" : \"Bern\",\n",
    "                   \"Österreich\" : \"Wien\",\n",
    "                   \"Niederlande\" : \"Amsterdam\"}\n",
    "\n",
    "print(\"Länder und Ihre Hauptstädte:\")\n",
    "for c in capital_country:\n",
    "    print(\"{country}: {capital}\".format(country=c, capital=capital_country[c]))    "
   ]
  },
  {
   "cell_type": "markdown",
   "metadata": {},
   "source": [
    "Das vorige Programm können wir so umschreiben, dass im Aufruf der format-Methode das Dictionary direkt verwendet wird."
   ]
  },
  {
   "cell_type": "code",
   "execution_count": 9,
   "metadata": {},
   "outputs": [
    {
     "name": "stdout",
     "output_type": "stream",
     "text": [
      "Countries and their capitals:\n",
      "Vereinigte Staaten: Washington\n",
      "US: Washington\n",
      "Kanada: Ottawa\n",
      "Deutschland: Berlin\n",
      "Frankreich: Paris\n",
      "England: London\n",
      "Großbritannien: London\n",
      "Schweiz: Bern\n",
      "Österreich: Wien\n",
      "Niederlande: Amsterdam\n"
     ]
    }
   ],
   "source": [
    "capital_country = {\"Vereinigte Staaten\" : \"Washington\", \n",
    "                   \"US\" : \"Washington\", \n",
    "                   \"Kanada\" : \"Ottawa\",\n",
    "                   \"Deutschland\": \"Berlin\",\n",
    "                   \"Frankreich\" : \"Paris\",\n",
    "                   \"England\" : \"London\",\n",
    "                   \"Großbritannien\" : \"London\",\n",
    "                   \"Schweiz\" : \"Bern\",\n",
    "                   \"Österreich\" : \"Wien\",\n",
    "                   \"Niederlande\" : \"Amsterdam\"}\n",
    "\n",
    "print(\"Countries and their capitals:\")\n",
    "for c in capital_country:\n",
    "    format_string = c + \": {\" + c + \"}\" \n",
    "    print(format_string.format(**capital_country))"
   ]
  },
  {
   "cell_type": "markdown",
   "metadata": {},
   "source": [
    "### Weitere String-Methoden zum Formatieren\n",
    "Die String-Klasse enthält weitere Methoden, die man auch zu Formatierungszwecken nutzen kann: ljust, rjust, center und zfill.\n",
    "\n",
    "Falls S ein String ist, können wir die vier Methoden wie folgt erklären:\n",
    "\n",
    "- center(...):\n",
    "<pre>\n",
    "    S.center(width[, fillchar]) -> str\n",
    "</pre>\n",
    "An den String S werden links und rechts Füllzeichen bis zur Länge \"width\" so angefügt, dass der ursprüngliche String zentriert wird. Wird für das Füllzeichen \"fillchar\" kein Wert angegeben, wird als Standardwert ein Leerzeichen verwendet.\n",
    "\n",
    "*Beispiele: "
   ]
  },
  {
   "cell_type": "code",
   "execution_count": 7,
   "metadata": {},
   "outputs": [
    {
     "data": {
      "text/plain": [
       "'  Python  '"
      ]
     },
     "execution_count": 7,
     "metadata": {},
     "output_type": "execute_result"
    }
   ],
   "source": [
    "s = \"Python\"\n",
    "s.center(10)   "
   ]
  },
  {
   "cell_type": "code",
   "execution_count": 8,
   "metadata": {},
   "outputs": [
    {
     "data": {
      "text/plain": [
       "'**Python**'"
      ]
     },
     "execution_count": 8,
     "metadata": {},
     "output_type": "execute_result"
    }
   ],
   "source": [
    "s.center(10,\"*\") "
   ]
  },
  {
   "cell_type": "markdown",
   "metadata": {},
   "source": [
    "- ljust(...):\n",
    "<pre>\n",
    "     S.ljust(width[, fillchar]) -> str \n",
    "</pre>\n",
    "Der String S wird linksbündig zurückgeliefert. Rechts wird der String mit Füllzeichen \"fillchar\" bis zur Länge \"width\" angefüllt. Auch hier ist ein Leerzeichen der Default-Wert für \"fillchar\".\n",
    "\n",
    "*Beispiele:"
   ]
  },
  {
   "cell_type": "code",
   "execution_count": 5,
   "metadata": {},
   "outputs": [
    {
     "data": {
      "text/plain": [
       "'Training    '"
      ]
     },
     "execution_count": 5,
     "metadata": {},
     "output_type": "execute_result"
    }
   ],
   "source": [
    "s = \"Training\"\n",
    "s.ljust(12)"
   ]
  },
  {
   "cell_type": "code",
   "execution_count": 6,
   "metadata": {},
   "outputs": [
    {
     "data": {
      "text/plain": [
       "'Training::::'"
      ]
     },
     "execution_count": 6,
     "metadata": {},
     "output_type": "execute_result"
    }
   ],
   "source": [
    "s.ljust(12,\":\")"
   ]
  },
  {
   "cell_type": "markdown",
   "metadata": {},
   "source": [
    "- rjust(...):\n",
    "\n",
    "<pre>\n",
    "    S.rjust(width[, fillchar]) -> str\n",
    "</pre>\n",
    "    \n",
    "Der String S wird rechtsbündig zurückgeliefert. Von links wird der String mit Füllzeichen \"fillchar\" bis zur Länge \"width\" angefüllt. Auch hier ist ein Leerzeichen der Default-Wert für \"fillchar\".\n",
    "\n",
    "*Beispiele:"
   ]
  },
  {
   "cell_type": "code",
   "execution_count": 1,
   "metadata": {},
   "outputs": [
    {
     "data": {
      "text/plain": [
       "'    Programming'"
      ]
     },
     "execution_count": 1,
     "metadata": {},
     "output_type": "execute_result"
    }
   ],
   "source": [
    "s = \"Programming\"\n",
    "s.rjust(15)"
   ]
  },
  {
   "cell_type": "code",
   "execution_count": 2,
   "metadata": {},
   "outputs": [
    {
     "data": {
      "text/plain": [
       "'~~~~Programming'"
      ]
     },
     "execution_count": 2,
     "metadata": {},
     "output_type": "execute_result"
    }
   ],
   "source": [
    "s.rjust(15, \"~\")"
   ]
  },
  {
   "cell_type": "markdown",
   "metadata": {},
   "source": [
    "- zfill(...):\n",
    "\n",
    "<pre>    \n",
    "    S.zfill(width) -> str\n",
    "</pre>"
   ]
  },
  {
   "cell_type": "markdown",
   "metadata": {},
   "source": [
    "Ein String S wird von links mit Nullen bis zu der Länge \"width\" aufgefüllt. Der String \" wird nicht abgeschnitten, falls er bereits länger als die vorgesehen Länge \"width\" ist. Diese Methode entspricht einem S.rjust(width, \"0\")\n",
    "\n",
    "*Beispiele:"
   ]
  },
  {
   "cell_type": "code",
   "execution_count": 3,
   "metadata": {},
   "outputs": [
    {
     "data": {
      "text/plain": [
       "'000043447879'"
      ]
     },
     "execution_count": 3,
     "metadata": {},
     "output_type": "execute_result"
    }
   ],
   "source": [
    "account_number = \"43447879\"\n",
    "account_number.zfill(12)"
   ]
  },
  {
   "cell_type": "code",
   "execution_count": 4,
   "metadata": {},
   "outputs": [
    {
     "data": {
      "text/plain": [
       "'000043447879'"
      ]
     },
     "execution_count": 4,
     "metadata": {},
     "output_type": "execute_result"
    }
   ],
   "source": [
    "# can be emulated with rjust:\n",
    "\n",
    "account_number.rjust(12,\"0\")"
   ]
  }
 ],
 "metadata": {
  "kernelspec": {
   "display_name": "Python 3",
   "language": "python",
   "name": "python3"
  },
  "language_info": {
   "codemirror_mode": {
    "name": "ipython",
    "version": 3
   },
   "file_extension": ".py",
   "mimetype": "text/x-python",
   "name": "python",
   "nbconvert_exporter": "python",
   "pygments_lexer": "ipython3",
   "version": "3.7.3"
  }
 },
 "nbformat": 4,
 "nbformat_minor": 4
}
