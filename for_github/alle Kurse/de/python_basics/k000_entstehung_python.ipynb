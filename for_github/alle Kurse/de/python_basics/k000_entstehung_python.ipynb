{
 "cells": [
  {
   "cell_type": "markdown",
   "metadata": {},
   "source": [
    "## Geschichte\n",
    "\n",
    "Was hat die Geschichte von Python mit dem Alphabet zu tun? Beide beginnen mit ABC. Im Falle von Python die Programmiersprache ABC.\n",
    "\n",
    "<img width=400 height=400 class=\"imgright\" src=\"../images/montypythonoriginal.webp\" alt=\"Herkunft des Namens Monty Python\" />\n",
    "\n",
    "Die Sprache wurde Anfang der 1990er Jahre von Guido van Rossum am Zentrum für Mathematik (Centrum voor Wiskunde en Informatica) in Amsterdam entwickelt. Ursprünglich war sie als Nachfolger für die Lehrsprache ABC entwickelt worden und sollte auf dem verteilten Betriebssystem Amoeba laufen. Guido van Rossum hatte auch an der Entwicklung der Sprache ABC mitgewirkt, so dass seine Erfahrungen mit ABC auch in Python einflossen.\n",
    "\n",
    "Auch wenn wir auf dieser Webseite nicht mit Python-Schlangen geizen, hat der Name der Programmiersprache Python nichts mit den Schlangen zu tun. Für Guido van Rossum stand vielmehr die britische Komikertruppe Monty Python mit ihrem legendären Flying Circus Pate für den Namen.\n",
    "\n",
    "Guido van Rossum schrieb 1996 über die Entstehung des Namens seiner Programmiersprache: \"Vor über sechs Jahren, im Dezember 1989, suchte ich nach einem 'Hobby'-Programmier-Projekt, dass mich über die Woche um Weihnachten beschäftigen konnte. Mein Büro ... war zwar geschlossen, aber ich hatte einen PC und sonst nichts vor. Ich entschloss mich einen Interpreter für die neue Skripting-Sprache zu schreiben, über die ich in der letzten Zeit nachgedacht hatte: ein Abkömmling von ABC, der UNIX/C-Hackern gefallen würde. Python hatte ich als Arbeitstitel für das Projekt gewählt, weil ich in einer leicht respektlosen Stimmung war (und ein großer Fan von Monty Python's Flying Circus).\"\n",
    "\n",
    "Dennoch sind Assoziationen mit Schlangen möglich und sinnvoll: Man denke nur an das Python-Toolkit \"Boa\" oder die Programmiersprache Cobra. Außerdem ist eine Schlange im Python-Logo.\n",
    "\n",
    "\n",
    "Guido van Rossum sagte in einem Interview: \"Anfang der 80er Jahre habe ich an der CWI mit einem Team an der Sprache ABC gearbeitet. Ich hatte keine Ahnung wie ABC Python beeinflussen würde. Ich dachte an meine Erfahrungen und an den Frust mit ABC, und ich entschied mich eine einfache Skriptsprache zu entwerfen. Sie sollte die Vorteile von ABC haben, nicht aber die Probleme/Nachteile. Es entstand eine einfache virtuelle Maschine, ein einfacher Parser, eine einfache Laufzeitumgebung und eine Syntax, die Einrückungen für die Gruppierung von Ausdrücken verwendet, und ein paar Datentypen: Dictionaries, Listen, Strings und Numbers/Integer.\"\n",
    "\n",
    "### Das Zen von Python\n",
    "\n",
    "     Schön ist besser als hässlich.\n",
    "     Explizit ist besser als implizit.\n",
    "     Einfach ist besser als komplex.  <----------------\n",
    "     Komplex ist besser als kompliziert.\n",
    "     Flach ist besser als verschachtelt.\n",
    "     Spärlich ist besser als dicht.\n",
    "     Lesbarkeit zählt. <-----------------------\n",
    "     Sonderfälle sind nicht speziell genug, um gegen die Regeln zu verstoßen.\n",
    "     Obwohl Praktikabilität die Reinheit übertrifft,\n",
    "     Fehler sollten niemals stillschweigend vergehen.  <--------------\n",
    "     Sofern nicht ausdrücklich zum Schweigen gebracht.\n",
    "     Verweigern Sie angesichts von Zweideutigkeiten die Versuchung zu raten.\n",
    "     Es sollte einen - und vorzugsweise nur einen - offensichtlichen Weg geben, etwas zu tun. <-------------\n",
    "     Obwohl dieser Weg zunächst vielleicht nicht offensichtlich ist, es sei denn, Sie sind Niederländer.\n",
    "     Jetzt ist besser als nie.\n",
    "     Obwohl nie oft besser ist als * gerade * jetzt.\n",
    "     Wenn die Implementierung schwer zu erklären ist, ist es eine schlechte Idee.\n",
    "     Wenn die Implementierung leicht zu erklären ist, kann dies eine gute Idee sein.\n",
    "     Namespaces sind eine großartige Idee - lasst uns mehr davon machen!\n",
    "     \n",
    "### Wie sich Python entwickelt hat\n",
    "\n",
    "Guido van Rossum hat die erste Version von Python (v. 0.9.0) im Februar 1991 veröffentlicht. Darin waren bereits Ausnahmenbehandlung, Funktionen und die Kern-Datentypen enthalten. Python v. 0.9.0 war bereits objektorientiert und modular.\n",
    "\n",
    "Python v. 1.0, veröffentlicht im Januar 1994, kam mit Werkzeugen für funktionale Programmierung wie lambda, map, filter und reduce.\n",
    "\n",
    "Python v. 2.0 lieferte die Listen-Abstraktion (list comprehension), einen vollständigen Garbage Collector und unterstütze Unicode. Python v. 2.0 wurde im Oktober 2000 vorgestellt.\n",
    "\n",
    "Python musste weitere 8 Jahre gedeihen, bevor die Version 3.0 veröffentlicht wurde. Python V. 3.0 ist auch bekannt unter den Namen \"Python 3000\" und \"Py3K\". Ein Schwerpunkt in 3.0 lag auf der Beseitigung von redundanten Programmteilen um das 13te Gesetz der Zen of Python zu erfüllen: \"Es sollte einen - und bevorzugt genau einen - offensichtlichen Weg geben, es zu tun.\" Auf die wesentlichen Unterschiede können wir an dieser Stelle aber noch nicht eingehen. \n",
    "\n",
    "### Einige Änderungen in Python 3.0:\n",
    "\n",
    "- Drucken ist jetzt eine Funktion\n",
    "- Ansichten und Iteratoren anstelle von Listen\n",
    "- Die Regeln für die Bestellung von Vergleichen wurden vereinfacht. Z.B. Eine heterogene Liste kann nicht sortiert werden, da alle Elemente einer Liste miteinander vergleichbar sein müssen.\n",
    "- Es gibt nur noch einen ganzzahligen Typ, d. H. Int. lang ist auch int.\n",
    "- Die Division von zwei ganzen Zahlen gibt einen Float anstelle einer ganzen Zahl zurück. \"//\" kann verwendet werden, um das \"alte\" Verhalten zu haben.\n",
    "- Text Vs. Daten anstelle von Unicode Vs. 8 Bit"
   ]
  },
  {
   "cell_type": "markdown",
   "metadata": {},
   "source": [
    "### Einfachheit und Lesbarkeit\n"
   ]
  },
  {
   "cell_type": "code",
   "execution_count": 3,
   "metadata": {},
   "outputs": [
    {
     "name": "stdout",
     "output_type": "stream",
     "text": [
      "Hello World\n"
     ]
    }
   ],
   "source": [
    "print(\"Hello World\")\n"
   ]
  },
  {
   "cell_type": "markdown",
   "metadata": {},
   "source": [
    "\n",
    "### In der C Programmiersprache\n",
    "\n",
    "#include<br>\n",
    "using namespace std;<br>\n",
    "int main()<br>\n",
    "{<br>\n",
    "cout << \"Hello World!\\n\";<br>\n",
    "return 0;<br>\n",
    "}\n"
   ]
  },
  {
   "cell_type": "markdown",
   "metadata": {},
   "source": [
    "## Häufigkeit der Benutzung der Programmiersprachen \n",
    "https://de.statista.com/infografik/16544/anteile-der-populaersten-programmiersprachen-weltweit/\n",
    "\n",
    "<img width=600 height=600 class=\"imgright\" src=\"../images/Häufigkeit_der_Sprachen.jpeg\" alt=\"Häufigkeit der Nachfragen nach Tutorials\" />"
   ]
  },
  {
   "cell_type": "markdown",
   "metadata": {},
   "source": [
    "## Interpretierte vs. Compilierte Sprache<br>\n",
    "Interpretierte Sprache:<br>\n",
    "    Eher langsamer<br>\n",
    "    Eher mehr Speicherbedarf<br>\n",
    "    Interaktiv besonders gut nutzbar<br>\n",
    "    Einfache Einbindung von Bibliotheken z.B. für Visualisierung<br><br>\n",
    "Compilierte Sprache:<br>\n",
    "    Eher schneller<br>\n",
    "    Eher weniger Speicherbedarf<br>\n",
    "    Vor Ausführung Zusatzschritte<br>\n",
    "    Nicht interaktiv , nur komplette Programme laufen\n",
    "    \n",
    "    \n"
   ]
  },
  {
   "cell_type": "markdown",
   "metadata": {},
   "source": [
    "<img width=300 src=\"../images/byte_code.webp\" srcset=\"../images/byte_code_600w.webp 600w,../images/byte_code_500w.webp 500w,../images/byte_code_400w.webp 400w,../images/byte_code_350w.webp 350w,../images/byte_code_300w.webp 300w\" alt=\"Übersetzung des Python-Skripts in Byte-Code\" />"
   ]
  },
  {
   "cell_type": "markdown",
   "metadata": {},
   "source": [
    "lernen.py ---> compilieren ----> lernen.pyc(Bytecode) ------> interpretieren(Python Virtual Machine) -----> ausführen (Maschinencode)<br>\n",
    "Für unsere Zwecke kann Python als interpretierte Sprache gelten und verhält sich auch so."
   ]
  },
  {
   "cell_type": "code",
   "execution_count": null,
   "metadata": {},
   "outputs": [],
   "source": []
  }
 ],
 "metadata": {
  "kernelspec": {
   "display_name": "Python 3",
   "language": "python",
   "name": "python3"
  },
  "language_info": {
   "codemirror_mode": {
    "name": "ipython",
    "version": 3
   },
   "file_extension": ".py",
   "mimetype": "text/x-python",
   "name": "python",
   "nbconvert_exporter": "python",
   "pygments_lexer": "ipython3",
   "version": "3.8.8"
  }
 },
 "nbformat": 4,
 "nbformat_minor": 4
}
