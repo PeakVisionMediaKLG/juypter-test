{
 "cells": [
  {
   "cell_type": "markdown",
   "id": "5e4ce449",
   "metadata": {},
   "source": [
    "## Numerische und Boolsche Datentypen\n",
    "\n"
   ]
  },
  {
   "cell_type": "markdown",
   "id": "9e369824",
   "metadata": {},
   "source": [
    "### EDV Basis<br>\n",
    "-> Daten-Input <br>\n",
    "-> Daten-Manipulation<br>\n",
    "-> Daten-Output<br>\n",
    "\n",
    "Daten haben bestimmte Typen"
   ]
  },
  {
   "cell_type": "markdown",
   "id": "2f6b058e",
   "metadata": {},
   "source": [
    "integer, Ganzzahl, <b> Abkürzung int"
   ]
  },
  {
   "cell_type": "code",
   "execution_count": 20,
   "id": "661c82fb",
   "metadata": {},
   "outputs": [
    {
     "name": "stdout",
     "output_type": "stream",
     "text": [
      "4\n"
     ]
    }
   ],
   "source": [
    "4"
   ]
  },
  {
   "cell_type": "code",
   "execution_count": 21,
   "id": "86f6b806",
   "metadata": {},
   "outputs": [
    {
     "data": {
      "text/plain": [
       "-4"
      ]
     },
     "execution_count": 21,
     "metadata": {},
     "output_type": "execute_result"
    }
   ],
   "source": [
    "-- + - 4 #Vorzeichen Arithmetik"
   ]
  },
  {
   "cell_type": "code",
   "execution_count": 22,
   "id": "90d57a63",
   "metadata": {},
   "outputs": [
    {
     "data": {
      "text/plain": [
       "40000000000.0"
      ]
     },
     "execution_count": 22,
     "metadata": {},
     "output_type": "execute_result"
    }
   ],
   "source": [
    "4e10 #auch E möglich,wissenschaftliche Schreibweise, dann Umwandlung in Fliesskommazahl s.u."
   ]
  },
  {
   "cell_type": "code",
   "execution_count": 25,
   "id": "6a0ddb52",
   "metadata": {},
   "outputs": [
    {
     "data": {
      "text/plain": [
       "6903632076781551368449086866283346343286967160011725029126649888254612205694213464052906435190409493241802760321875078181170316809037073509216570397541362038556360104795359095785482862659930796486623313521315163178856284452754172250975012553294536152105491809677087119809939139785911052792928787316529076414788542251909948035972647213163783661423030110276000917496844668092520500698851161848562528316187842462835564658410746488507188384189338204195236455726393679744564745429193144244200841154969850770840359535250149057963986487127281680442539517350129362390934749496763865889697491241272990359792963165100200324646402329548590244247937120590213511050008743438099873928548061836305067260792931422863759227658320030267574341994979593365820511801573376"
      ]
     },
     "execution_count": 25,
     "metadata": {},
     "output_type": "execute_result"
    }
   ],
   "source": [
    "5678**20 #beliebige Länge\n"
   ]
  },
  {
   "cell_type": "code",
   "execution_count": 26,
   "id": "045294ba",
   "metadata": {},
   "outputs": [
    {
     "ename": "SyntaxError",
     "evalue": "leading zeros in decimal integer literals are not permitted; use an 0o prefix for octal integers (<ipython-input-26-b2d328f4f2d6>, line 1)",
     "output_type": "error",
     "traceback": [
      "\u001b[1;36m  File \u001b[1;32m\"<ipython-input-26-b2d328f4f2d6>\"\u001b[1;36m, line \u001b[1;32m1\u001b[0m\n\u001b[1;33m    0120\u001b[0m\n\u001b[1;37m       ^\u001b[0m\n\u001b[1;31mSyntaxError\u001b[0m\u001b[1;31m:\u001b[0m leading zeros in decimal integer literals are not permitted; use an 0o prefix for octal integers\n"
     ]
    }
   ],
   "source": [
    "0120"
   ]
  },
  {
   "cell_type": "code",
   "execution_count": 27,
   "id": "7ef7c827",
   "metadata": {},
   "outputs": [
    {
     "data": {
      "text/plain": [
       "9"
      ]
     },
     "execution_count": 27,
     "metadata": {},
     "output_type": "execute_result"
    }
   ],
   "source": [
    "0b1001 #deshalb keine führende 0    0b binär   0o octal   0x hexadezimal"
   ]
  },
  {
   "cell_type": "code",
   "execution_count": 28,
   "id": "1eaa4213",
   "metadata": {},
   "outputs": [
    {
     "data": {
      "text/plain": [
       "175"
      ]
     },
     "execution_count": 28,
     "metadata": {},
     "output_type": "execute_result"
    }
   ],
   "source": [
    "0XAF #hexadecimal Ausgabe in dezimal"
   ]
  },
  {
   "cell_type": "code",
   "execution_count": 31,
   "id": "6d5bbaf7",
   "metadata": {},
   "outputs": [
    {
     "data": {
      "text/plain": [
       "'0b10001'"
      ]
     },
     "execution_count": 31,
     "metadata": {},
     "output_type": "execute_result"
    }
   ],
   "source": [
    "bin(17) #eingebaute Funktionen für dezimal Ausgabe in binär bin() oct() hex() \n",
    "        #Achtung Ausgabe string, also Text, keine Zahl! "
   ]
  },
  {
   "cell_type": "code",
   "execution_count": 46,
   "id": "05bd19e6",
   "metadata": {},
   "outputs": [
    {
     "data": {
      "text/plain": [
       "17"
      ]
     },
     "execution_count": 46,
     "metadata": {},
     "output_type": "execute_result"
    }
   ],
   "source": [
    "int(bin(17),2) # man muss das Zahlensystem als 2. Parameter eingeben!"
   ]
  },
  {
   "cell_type": "markdown",
   "id": "c131a2c5",
   "metadata": {},
   "source": [
    "float , Fliesskommazahl ,<b> Abkürzung float"
   ]
  },
  {
   "cell_type": "code",
   "execution_count": 47,
   "id": "2dde8266",
   "metadata": {},
   "outputs": [
    {
     "data": {
      "text/plain": [
       "3.5676842"
      ]
     },
     "execution_count": 47,
     "metadata": {},
     "output_type": "execute_result"
    }
   ],
   "source": [
    "3.5676842"
   ]
  },
  {
   "cell_type": "code",
   "execution_count": 50,
   "id": "a5728358",
   "metadata": {},
   "outputs": [
    {
     "data": {
      "text/plain": [
       "0.3333333333333333"
      ]
     },
     "execution_count": 50,
     "metadata": {},
     "output_type": "execute_result"
    }
   ],
   "source": [
    "1/3\n"
   ]
  },
  {
   "cell_type": "code",
   "execution_count": 51,
   "id": "cde09134",
   "metadata": {},
   "outputs": [
    {
     "data": {
      "text/plain": [
       "0.14285714285714285"
      ]
     },
     "execution_count": 51,
     "metadata": {},
     "output_type": "execute_result"
    }
   ],
   "source": [
    "1/7 #Achtung rundet die letzte Stelle nicht!"
   ]
  },
  {
   "cell_type": "code",
   "execution_count": 52,
   "id": "661a5f9b",
   "metadata": {},
   "outputs": [
    {
     "data": {
      "text/plain": [
       "1.4285714285714286"
      ]
     },
     "execution_count": 52,
     "metadata": {},
     "output_type": "execute_result"
    }
   ],
   "source": [
    "10/7 #hier wohl!"
   ]
  },
  {
   "cell_type": "markdown",
   "id": "14198841",
   "metadata": {},
   "source": [
    "Mehr Präzision durch decimal.\n",
    "\n"
   ]
  },
  {
   "cell_type": "code",
   "execution_count": 55,
   "id": "7a2bb6ea",
   "metadata": {},
   "outputs": [
    {
     "data": {
      "text/plain": [
       "Decimal('0.14285714285714285714285714286')"
      ]
     },
     "execution_count": 55,
     "metadata": {},
     "output_type": "execute_result"
    }
   ],
   "source": [
    "from decimal import * #rundet richtig\n",
    "getcontext().prec=29\n",
    "Decimal(1.0)/Decimal(7)\n"
   ]
  },
  {
   "cell_type": "markdown",
   "id": "d3e5110e",
   "metadata": {},
   "source": [
    "arithmetische Operatoren"
   ]
  },
  {
   "cell_type": "code",
   "execution_count": 56,
   "id": "bd3d5453",
   "metadata": {},
   "outputs": [
    {
     "data": {
      "text/plain": [
       "7"
      ]
     },
     "execution_count": 56,
     "metadata": {},
     "output_type": "execute_result"
    }
   ],
   "source": [
    "3+4\n",
    "\n"
   ]
  },
  {
   "cell_type": "code",
   "execution_count": 57,
   "id": "ada09291",
   "metadata": {},
   "outputs": [
    {
     "data": {
      "text/plain": [
       "-1"
      ]
     },
     "execution_count": 57,
     "metadata": {},
     "output_type": "execute_result"
    }
   ],
   "source": [
    "4-5"
   ]
  },
  {
   "cell_type": "code",
   "execution_count": 58,
   "id": "1031677c",
   "metadata": {},
   "outputs": [
    {
     "data": {
      "text/plain": [
       "8.0"
      ]
     },
     "execution_count": 58,
     "metadata": {},
     "output_type": "execute_result"
    }
   ],
   "source": [
    "3+5.0"
   ]
  },
  {
   "cell_type": "code",
   "execution_count": 59,
   "id": "a2733ed1",
   "metadata": {},
   "outputs": [
    {
     "data": {
      "text/plain": [
       "41.0"
      ]
     },
     "execution_count": 59,
     "metadata": {},
     "output_type": "execute_result"
    }
   ],
   "source": [
    "5*8.2"
   ]
  },
  {
   "cell_type": "code",
   "execution_count": 60,
   "id": "9c80f654",
   "metadata": {},
   "outputs": [
    {
     "data": {
      "text/plain": [
       "40.0"
      ]
     },
     "execution_count": 60,
     "metadata": {},
     "output_type": "execute_result"
    }
   ],
   "source": [
    "5.0*8"
   ]
  },
  {
   "cell_type": "code",
   "execution_count": 61,
   "id": "7068ca7c",
   "metadata": {},
   "outputs": [
    {
     "data": {
      "text/plain": [
       "1.7142857142857142"
      ]
     },
     "execution_count": 61,
     "metadata": {},
     "output_type": "execute_result"
    }
   ],
   "source": [
    "12/7 # Python 3 macht auch bei zwei Integer-Werten normale Division. \n"
   ]
  },
  {
   "cell_type": "markdown",
   "id": "8a8152f4",
   "metadata": {},
   "source": [
    "Python 2 führte dagegen in diesem Fall eine sogenannte Ganzzahl-Division durch , das Ergebnis wäre 1. <br>\n",
    "12 durch 7 ist 1 Rest 5 (wie in der Grundschule)"
   ]
  },
  {
   "cell_type": "markdown",
   "id": "f5e3c909",
   "metadata": {},
   "source": [
    "Auch wenn das Ergebnis von Python 2 den meisten Mathematikern und Informatikern logisch erscheinen wird, ist es nicht das, was die meisten Leute an dieser Stelle erwarten würden. Die zugrundeliegende Idee des Python 2 Ergebnis ist nämlich, dass bei der Division eines Integers durch einen weiteren Integer, ein Integer-Wert als Ergebnis heraus kommt, d.h. dass eine Operation innerhalb ihrer Datentypen abgeschlossen ist. Dies wird mit einer zusätzlichen Rundung (floor division) erreicht. Im Beispiel <b> 12/7  mit dem Ergebnis 1 </b> in Python 2 kann man das gut erkennen.\n",
    "\n",
    "Um dies zu vermeiden nutzt Python 3 keine Rundung bei der Division (true division). Wenn Integer durch Integer dividiert werden, entstehen Float-Werte. Um eine Ganzzahl_Division durchzuführen benutzt man hier <b>//</b>"
   ]
  },
  {
   "cell_type": "code",
   "execution_count": 62,
   "id": "f3e3e77e",
   "metadata": {},
   "outputs": [
    {
     "data": {
      "text/plain": [
       "1"
      ]
     },
     "execution_count": 62,
     "metadata": {},
     "output_type": "execute_result"
    }
   ],
   "source": [
    "8//6 #Ganzzahl Division"
   ]
  },
  {
   "cell_type": "markdown",
   "id": "6c4a481f",
   "metadata": {},
   "source": [
    "Der Modulo Operator % gibt den Rest der Ganzzahl-Division an."
   ]
  },
  {
   "cell_type": "code",
   "execution_count": 63,
   "id": "6f84efc3",
   "metadata": {},
   "outputs": [
    {
     "data": {
      "text/plain": [
       "2"
      ]
     },
     "execution_count": 63,
     "metadata": {},
     "output_type": "execute_result"
    }
   ],
   "source": [
    "8%6 "
   ]
  },
  {
   "cell_type": "code",
   "execution_count": 66,
   "id": "605bfe7b",
   "metadata": {},
   "outputs": [
    {
     "data": {
      "text/plain": [
       "80"
      ]
     },
     "execution_count": 66,
     "metadata": {},
     "output_type": "execute_result"
    }
   ],
   "source": [
    "80//6*6 + 80%6"
   ]
  },
  {
   "cell_type": "code",
   "execution_count": 67,
   "id": "0ae406c4",
   "metadata": {},
   "outputs": [
    {
     "data": {
      "text/plain": [
       "40353607"
      ]
     },
     "execution_count": 67,
     "metadata": {},
     "output_type": "execute_result"
    }
   ],
   "source": [
    "7**9\n"
   ]
  },
  {
   "cell_type": "markdown",
   "id": "dc492357",
   "metadata": {},
   "source": [
    "min() ist eine eingebaute Funktion von Python . In der Klammer steht das Argument/ die Argumente der Funktion, die verarbeitet werden. Neben vielen anderen wie abs(),max(),round(),sum()..."
   ]
  },
  {
   "cell_type": "code",
   "execution_count": 68,
   "id": "7a3045c5",
   "metadata": {},
   "outputs": [
    {
     "data": {
      "text/plain": [
       "-1"
      ]
     },
     "execution_count": 68,
     "metadata": {},
     "output_type": "execute_result"
    }
   ],
   "source": [
    "min(2,-1,9)"
   ]
  },
  {
   "cell_type": "code",
   "execution_count": 87,
   "id": "e77eee96",
   "metadata": {},
   "outputs": [
    {
     "data": {
      "text/plain": [
       "float"
      ]
     },
     "execution_count": 87,
     "metadata": {},
     "output_type": "execute_result"
    }
   ],
   "source": [
    "type(3.5) #gibt Typ zurück"
   ]
  },
  {
   "cell_type": "markdown",
   "id": "4729656c",
   "metadata": {},
   "source": [
    "https://docs.python.org/3/library/functions.html"
   ]
  },
  {
   "cell_type": "code",
   "execution_count": 69,
   "id": "f10bb8d2",
   "metadata": {},
   "outputs": [
    {
     "data": {
      "text/plain": [
       "-1"
      ]
     },
     "execution_count": 69,
     "metadata": {},
     "output_type": "execute_result"
    }
   ],
   "source": [
    "5+6\n",
    "7-8\n"
   ]
  },
  {
   "cell_type": "markdown",
   "id": "679ec768",
   "metadata": {},
   "source": [
    "Der letzte Wert einer Zelle wird automatisch ausgegeben im Jupyter Notebook. Sonst braucht man <br>\n",
    "wie in anderen Python-Implementierungen die <b>print</b> Funktion."
   ]
  },
  {
   "cell_type": "markdown",
   "id": "3e9dd8cd",
   "metadata": {},
   "source": [
    "Die <b>print</b> Funktion macht genau dann einen Ausdruck, wenn sie in der Zelle bearbeitet wird"
   ]
  },
  {
   "cell_type": "code",
   "execution_count": 72,
   "id": "c8f56ac7",
   "metadata": {},
   "outputs": [
    {
     "name": "stdout",
     "output_type": "stream",
     "text": [
      "7\n"
     ]
    },
    {
     "data": {
      "text/plain": [
       "6"
      ]
     },
     "execution_count": 72,
     "metadata": {},
     "output_type": "execute_result"
    }
   ],
   "source": [
    "print(3+4)\n",
    "5+1"
   ]
  },
  {
   "cell_type": "markdown",
   "id": "c59b7439",
   "metadata": {},
   "source": [
    "Länge von integers versus floats"
   ]
  },
  {
   "cell_type": "code",
   "execution_count": null,
   "id": "f501b4c0",
   "metadata": {},
   "outputs": [],
   "source": [
    "678**100"
   ]
  },
  {
   "cell_type": "markdown",
   "id": "9ae2b0ee",
   "metadata": {},
   "source": [
    "Integer beliebig lang. Solange Speicherplatz noch frei :)."
   ]
  },
  {
   "cell_type": "code",
   "execution_count": 73,
   "id": "40402819",
   "metadata": {},
   "outputs": [
    {
     "data": {
      "text/plain": [
       "1.4288452637255277e+283"
      ]
     },
     "execution_count": 73,
     "metadata": {},
     "output_type": "execute_result"
    }
   ],
   "source": [
    "678.5**100"
   ]
  },
  {
   "cell_type": "code",
   "execution_count": null,
   "id": "acba3f73",
   "metadata": {},
   "outputs": [],
   "source": [
    "Floats auf 15 Stellen genau. Sonst Decimal s.o."
   ]
  },
  {
   "cell_type": "code",
   "execution_count": 74,
   "id": "baf3e153",
   "metadata": {},
   "outputs": [
    {
     "data": {
      "text/plain": [
       "0.67"
      ]
     },
     "execution_count": 74,
     "metadata": {},
     "output_type": "execute_result"
    }
   ],
   "source": [
    "round(0.66666,2) #runden auf n stellen n hier 2"
   ]
  },
  {
   "cell_type": "markdown",
   "id": "7663a4b9",
   "metadata": {},
   "source": [
    "Zusammenfassung Länge:<br>Es gibt keine Einschränkung in der Grösse von Zahlen. Ganzzahlen beliebig lang, Fliesskommazahlen mit ca 16 signifikanten Stellen. Keine führende 0 erlaubt."
   ]
  },
  {
   "cell_type": "markdown",
   "id": "9ea664ac",
   "metadata": {},
   "source": [
    "Komplexe Zahlen<br>  reell +,- imaginär=>j"
   ]
  },
  {
   "cell_type": "code",
   "execution_count": null,
   "id": "7e8c45e3",
   "metadata": {},
   "outputs": [],
   "source": [
    "7 + 3j"
   ]
  },
  {
   "cell_type": "markdown",
   "id": "640d8216",
   "metadata": {},
   "source": [
    "Achtung Klammern beim Multiplizieren, sonst Punkt- vor Strichrechnung s.u."
   ]
  },
  {
   "cell_type": "code",
   "execution_count": 76,
   "id": "1fce68d5",
   "metadata": {},
   "outputs": [
    {
     "name": "stdout",
     "output_type": "stream",
     "text": [
      "(62-11j)\n"
     ]
    },
    {
     "data": {
      "text/plain": [
       "(7+19j)"
      ]
     },
     "execution_count": 76,
     "metadata": {},
     "output_type": "execute_result"
    }
   ],
   "source": [
    "print((7 + 4j) * (6 - 5j)) #42+24j-35j-20j**2   j**2=-1\n",
    "7 + 4j * 6 - 5j"
   ]
  },
  {
   "cell_type": "markdown",
   "id": "4da598e8",
   "metadata": {},
   "source": [
    "### Operator Vorrang<br>\n",
    "()          Klammern<br>\n",
    "**          Exponenzieren<br>\n",
    "*,/,//,%    Multiplikation,Division,Modulo<br>\n",
    "+,-         Addition,Substraktion"
   ]
  },
  {
   "cell_type": "code",
   "execution_count": null,
   "id": "4b653bfe",
   "metadata": {},
   "outputs": [],
   "source": [
    "4 * (3 + 4) * 5 - 6"
   ]
  },
  {
   "cell_type": "markdown",
   "id": "c656426c",
   "metadata": {},
   "source": [
    "Hier mit k005... weiter"
   ]
  },
  {
   "cell_type": "markdown",
   "id": "3ba3bd82",
   "metadata": {},
   "source": [
    "Mehrfachzuweisungen"
   ]
  },
  {
   "cell_type": "code",
   "execution_count": 78,
   "id": "b0615aba",
   "metadata": {},
   "outputs": [
    {
     "name": "stdout",
     "output_type": "stream",
     "text": [
      "1 2 3\n"
     ]
    }
   ],
   "source": [
    "a,b,c=1,2,3\n",
    "print(a,b,c)"
   ]
  },
  {
   "cell_type": "code",
   "execution_count": 80,
   "id": "6863744f",
   "metadata": {},
   "outputs": [
    {
     "name": "stdout",
     "output_type": "stream",
     "text": [
      "1 2\n",
      "2 1\n"
     ]
    }
   ],
   "source": [
    "x=1\n",
    "y=2\n",
    "print(x,y)\n",
    "x,y=y,x #zuerst komplette Berechnung der rechten Seite , dann Zuordnungg!!!\n",
    "print(x,y)"
   ]
  },
  {
   "cell_type": "markdown",
   "id": "a807d8d9",
   "metadata": {},
   "source": [
    "(... °C × 9/5) + 32 = ... °F    <br>  (... °F − 32) × 5/9 = ... °C"
   ]
  },
  {
   "cell_type": "code",
   "execution_count": 83,
   "id": "d4cb1676",
   "metadata": {},
   "outputs": [
    {
     "data": {
      "text/plain": [
       "32.0"
      ]
     },
     "execution_count": 83,
     "metadata": {},
     "output_type": "execute_result"
    }
   ],
   "source": [
    "temp_c=0\n",
    "temp_f=temp_c*9/5 + 32\n",
    "temp_f"
   ]
  },
  {
   "cell_type": "code",
   "execution_count": 84,
   "id": "4cdf692c",
   "metadata": {},
   "outputs": [
    {
     "name": "stdout",
     "output_type": "stream",
     "text": [
      "Temperatur in Fahrenheit ist:  77.0 °\n"
     ]
    }
   ],
   "source": [
    "temp_c=25\n",
    "temp_f=temp_c*9/5 + 32\n",
    "print(\"Temperatur in Fahrenheit ist: \",temp_f,\"°\") #print(arg1,arg2...)"
   ]
  },
  {
   "cell_type": "code",
   "execution_count": 89,
   "id": "8e9c0ce2",
   "metadata": {},
   "outputs": [
    {
     "name": "stdout",
     "output_type": "stream",
     "text": [
      "Bitte Temperatur in Celsius: 25\n",
      "25 <class 'str'>\n",
      "25.0 <class 'float'>\n",
      "Temperatur in Fahrenheit ist:  77.0\n"
     ]
    }
   ],
   "source": [
    "eingabe=input(\"Bitte Temperatur in Celsius: \")\n",
    "temp_c=float(eingabe)\n",
    "print(eingabe,type(eingabe))\n",
    "print(temp_c,type(temp_c))\n",
    "\n",
    "temp_f=temp_c*9/5 + 32\n",
    "print(\"Temperatur in Fahrenheit ist: \",temp_f)"
   ]
  },
  {
   "cell_type": "markdown",
   "id": "97eb8aea",
   "metadata": {},
   "source": [
    "\n",
    "\n",
    "\n",
    "\n",
    "\n",
    "\n",
    "\n",
    "\n",
    "\n",
    "\n",
    "\n",
    "\n",
    "\n",
    "\n",
    "\n",
    "\n",
    "\n",
    "\n",
    "\n",
    "\n",
    "\n",
    "\n",
    "\n"
   ]
  },
  {
   "cell_type": "code",
   "execution_count": 1,
   "id": "3af1d535",
   "metadata": {},
   "outputs": [
    {
     "name": "stdout",
     "output_type": "stream",
     "text": [
      "bitte Temperatur in F angeben: 25\n",
      "Das Ergebnis:  -3.888888888888889\n"
     ]
    }
   ],
   "source": [
    "ein=input(\"bitte Temperatur in F angeben: \")\n",
    "temp_f=int(ein)\n",
    "temp_c=(temp_f-32)*5/9\n",
    "print(\"Das Ergebnis: \",temp_c)"
   ]
  },
  {
   "cell_type": "code",
   "execution_count": 3,
   "id": "34b9ad38",
   "metadata": {},
   "outputs": [
    {
     "name": "stdout",
     "output_type": "stream",
     "text": [
      "Bitte Temperatur in F angeben: 4\n",
      "Das Ergebnis:  -15.555555555555555\n"
     ]
    }
   ],
   "source": [
    "print(\"Das Ergebnis: \",((int(input(\"Bitte Temperatur in F angeben: \")))-32)*5/9) #das Letzte!! "
   ]
  },
  {
   "cell_type": "markdown",
   "id": "22c76544",
   "metadata": {},
   "source": [
    "Boolscher Typ  <b> Abkürzung bool"
   ]
  },
  {
   "cell_type": "code",
   "execution_count": 6,
   "id": "beaee6ae",
   "metadata": {},
   "outputs": [
    {
     "data": {
      "text/plain": [
       "bool"
      ]
     },
     "execution_count": 6,
     "metadata": {},
     "output_type": "execute_result"
    }
   ],
   "source": [
    "a=True #False\n",
    "type(a)"
   ]
  },
  {
   "cell_type": "code",
   "execution_count": 8,
   "id": "df659d32",
   "metadata": {},
   "outputs": [
    {
     "ename": "NameError",
     "evalue": "name 'TRUE' is not defined",
     "output_type": "error",
     "traceback": [
      "\u001b[1;31m---------------------------------------------------------------------------\u001b[0m",
      "\u001b[1;31mNameError\u001b[0m                                 Traceback (most recent call last)",
      "\u001b[1;32m<ipython-input-8-6f80e91361ab>\u001b[0m in \u001b[0;36m<module>\u001b[1;34m\u001b[0m\n\u001b[1;32m----> 1\u001b[1;33m \u001b[0ma\u001b[0m \u001b[1;33m=\u001b[0m \u001b[0mTRUE\u001b[0m\u001b[1;33m\u001b[0m\u001b[1;33m\u001b[0m\u001b[0m\n\u001b[0m",
      "\u001b[1;31mNameError\u001b[0m: name 'TRUE' is not defined"
     ]
    }
   ],
   "source": [
    "\n",
    "a = TRUE \n"
   ]
  },
  {
   "cell_type": "code",
   "execution_count": 9,
   "id": "83f5bade",
   "metadata": {},
   "outputs": [
    {
     "data": {
      "text/plain": [
       "True"
      ]
     },
     "execution_count": 9,
     "metadata": {},
     "output_type": "execute_result"
    }
   ],
   "source": [
    "a"
   ]
  },
  {
   "cell_type": "markdown",
   "id": "0ce28f66",
   "metadata": {},
   "source": [
    "True und False sind die erlaubten Werte für eine Variable vom Typ bool.(Wahrheitswerte)<br>\n",
    "Achtung Gross-/Kleinschreibung beachten"
   ]
  },
  {
   "cell_type": "code",
   "execution_count": 10,
   "id": "e139fb97",
   "metadata": {},
   "outputs": [
    {
     "data": {
      "text/plain": [
       "True"
      ]
     },
     "execution_count": 10,
     "metadata": {},
     "output_type": "execute_result"
    }
   ],
   "source": [
    "x,y=2,4\n",
    "x<y #Vergleichsoperator"
   ]
  },
  {
   "cell_type": "markdown",
   "id": "6e67a617",
   "metadata": {},
   "source": [
    "Bedingungen werden ausgewertet und als Wahrheitswerte ausgegeben "
   ]
  },
  {
   "cell_type": "code",
   "execution_count": 11,
   "id": "b1d52740",
   "metadata": {},
   "outputs": [
    {
     "data": {
      "text/plain": [
       "False"
      ]
     },
     "execution_count": 11,
     "metadata": {},
     "output_type": "execute_result"
    }
   ],
   "source": [
    "a = x>y\n",
    "a"
   ]
  },
  {
   "cell_type": "markdown",
   "id": "011ac986",
   "metadata": {},
   "source": [
    "<, <=, >, >=, !=, == \t<br> Die üblichen Vergleichsoperatoren <br>  != heisst nicht gleich"
   ]
  },
  {
   "cell_type": "markdown",
   "id": "b6c6b41a",
   "metadata": {},
   "source": [
    "### Achtung!! Häufiger Fehler \"==\" heisst \"gleich\" als Vergleichsoperator => doppeltes = Zeichen!<br>\n",
    "Fliesskommazahlen machen Probleme bei == Vergleich"
   ]
  },
  {
   "cell_type": "code",
   "execution_count": 12,
   "id": "a16eaf15",
   "metadata": {},
   "outputs": [
    {
     "data": {
      "text/plain": [
       "True"
      ]
     },
     "execution_count": 12,
     "metadata": {},
     "output_type": "execute_result"
    }
   ],
   "source": [
    "3+4==7"
   ]
  },
  {
   "cell_type": "code",
   "execution_count": 13,
   "id": "bd33f617",
   "metadata": {},
   "outputs": [
    {
     "data": {
      "text/plain": [
       "False"
      ]
     },
     "execution_count": 13,
     "metadata": {},
     "output_type": "execute_result"
    }
   ],
   "source": [
    " 0.1 + 0.2 == 0.3 #Achtung Floats mit == vergleichen Problem"
   ]
  },
  {
   "cell_type": "code",
   "execution_count": null,
   "id": "fe9a8d1b",
   "metadata": {},
   "outputs": [],
   "source": [
    "abs ((0.1+0.2)-0.3)< 1e-7 #so kann man es machen"
   ]
  },
  {
   "cell_type": "markdown",
   "id": "3d2eac3b",
   "metadata": {},
   "source": [
    "not, and, or sind logische Operatoren"
   ]
  },
  {
   "cell_type": "code",
   "execution_count": 14,
   "id": "5095f6de",
   "metadata": {},
   "outputs": [
    {
     "data": {
      "text/plain": [
       "True"
      ]
     },
     "execution_count": 14,
     "metadata": {},
     "output_type": "execute_result"
    }
   ],
   "source": [
    "x=7\n",
    "x<10 and x>5"
   ]
  },
  {
   "cell_type": "code",
   "execution_count": 16,
   "id": "fe3acbf2",
   "metadata": {},
   "outputs": [
    {
     "data": {
      "text/plain": [
       "False"
      ]
     },
     "execution_count": 16,
     "metadata": {},
     "output_type": "execute_result"
    }
   ],
   "source": [
    "not x<10 and x>5 #\"not\" Vorrang vor \"and\"   and Vorrang vor \"or\""
   ]
  },
  {
   "cell_type": "code",
   "execution_count": 17,
   "id": "4fa8e3c8",
   "metadata": {},
   "outputs": [
    {
     "data": {
      "text/plain": [
       "True"
      ]
     },
     "execution_count": 17,
     "metadata": {},
     "output_type": "execute_result"
    }
   ],
   "source": [
    "x=20\n",
    "x<10 or x>5"
   ]
  },
  {
   "cell_type": "code",
   "execution_count": 18,
   "id": "391213ae",
   "metadata": {},
   "outputs": [
    {
     "data": {
      "text/plain": [
       "True"
      ]
     },
     "execution_count": 18,
     "metadata": {},
     "output_type": "execute_result"
    }
   ],
   "source": [
    "x=30\n",
    "x==30 or x==p  #zweiter Teil wird nicht bearbeitet, p gibt es nicht!"
   ]
  },
  {
   "cell_type": "markdown",
   "id": "ac1aa213",
   "metadata": {},
   "source": [
    "Ausführung von \"or\" stoppt beim ersten True, von \"and\" beim ersten False"
   ]
  },
  {
   "cell_type": "code",
   "execution_count": 19,
   "id": "7e1413bf",
   "metadata": {},
   "outputs": [
    {
     "ename": "NameError",
     "evalue": "name 'p' is not defined",
     "output_type": "error",
     "traceback": [
      "\u001b[1;31m---------------------------------------------------------------------------\u001b[0m",
      "\u001b[1;31mNameError\u001b[0m                                 Traceback (most recent call last)",
      "\u001b[1;32m<ipython-input-19-00fc9c6ff7da>\u001b[0m in \u001b[0;36m<module>\u001b[1;34m\u001b[0m\n\u001b[1;32m----> 1\u001b[1;33m \u001b[0mx\u001b[0m\u001b[1;33m==\u001b[0m\u001b[0mp\u001b[0m\u001b[1;33m\u001b[0m\u001b[1;33m\u001b[0m\u001b[0m\n\u001b[0m",
      "\u001b[1;31mNameError\u001b[0m: name 'p' is not defined"
     ]
    }
   ],
   "source": [
    "x==p"
   ]
  },
  {
   "cell_type": "code",
   "execution_count": 20,
   "id": "879c11b2",
   "metadata": {},
   "outputs": [
    {
     "name": "stdout",
     "output_type": "stream",
     "text": [
      "Help on built-in module math:\n",
      "\n",
      "NAME\n",
      "    math\n",
      "\n",
      "DESCRIPTION\n",
      "    This module provides access to the mathematical functions\n",
      "    defined by the C standard.\n",
      "\n",
      "FUNCTIONS\n",
      "    acos(x, /)\n",
      "        Return the arc cosine (measured in radians) of x.\n",
      "    \n",
      "    acosh(x, /)\n",
      "        Return the inverse hyperbolic cosine of x.\n",
      "    \n",
      "    asin(x, /)\n",
      "        Return the arc sine (measured in radians) of x.\n",
      "    \n",
      "    asinh(x, /)\n",
      "        Return the inverse hyperbolic sine of x.\n",
      "    \n",
      "    atan(x, /)\n",
      "        Return the arc tangent (measured in radians) of x.\n",
      "    \n",
      "    atan2(y, x, /)\n",
      "        Return the arc tangent (measured in radians) of y/x.\n",
      "        \n",
      "        Unlike atan(y/x), the signs of both x and y are considered.\n",
      "    \n",
      "    atanh(x, /)\n",
      "        Return the inverse hyperbolic tangent of x.\n",
      "    \n",
      "    ceil(x, /)\n",
      "        Return the ceiling of x as an Integral.\n",
      "        \n",
      "        This is the smallest integer >= x.\n",
      "    \n",
      "    comb(n, k, /)\n",
      "        Number of ways to choose k items from n items without repetition and without order.\n",
      "        \n",
      "        Evaluates to n! / (k! * (n - k)!) when k <= n and evaluates\n",
      "        to zero when k > n.\n",
      "        \n",
      "        Also called the binomial coefficient because it is equivalent\n",
      "        to the coefficient of k-th term in polynomial expansion of the\n",
      "        expression (1 + x)**n.\n",
      "        \n",
      "        Raises TypeError if either of the arguments are not integers.\n",
      "        Raises ValueError if either of the arguments are negative.\n",
      "    \n",
      "    copysign(x, y, /)\n",
      "        Return a float with the magnitude (absolute value) of x but the sign of y.\n",
      "        \n",
      "        On platforms that support signed zeros, copysign(1.0, -0.0)\n",
      "        returns -1.0.\n",
      "    \n",
      "    cos(x, /)\n",
      "        Return the cosine of x (measured in radians).\n",
      "    \n",
      "    cosh(x, /)\n",
      "        Return the hyperbolic cosine of x.\n",
      "    \n",
      "    degrees(x, /)\n",
      "        Convert angle x from radians to degrees.\n",
      "    \n",
      "    dist(p, q, /)\n",
      "        Return the Euclidean distance between two points p and q.\n",
      "        \n",
      "        The points should be specified as sequences (or iterables) of\n",
      "        coordinates.  Both inputs must have the same dimension.\n",
      "        \n",
      "        Roughly equivalent to:\n",
      "            sqrt(sum((px - qx) ** 2.0 for px, qx in zip(p, q)))\n",
      "    \n",
      "    erf(x, /)\n",
      "        Error function at x.\n",
      "    \n",
      "    erfc(x, /)\n",
      "        Complementary error function at x.\n",
      "    \n",
      "    exp(x, /)\n",
      "        Return e raised to the power of x.\n",
      "    \n",
      "    expm1(x, /)\n",
      "        Return exp(x)-1.\n",
      "        \n",
      "        This function avoids the loss of precision involved in the direct evaluation of exp(x)-1 for small x.\n",
      "    \n",
      "    fabs(x, /)\n",
      "        Return the absolute value of the float x.\n",
      "    \n",
      "    factorial(x, /)\n",
      "        Find x!.\n",
      "        \n",
      "        Raise a ValueError if x is negative or non-integral.\n",
      "    \n",
      "    floor(x, /)\n",
      "        Return the floor of x as an Integral.\n",
      "        \n",
      "        This is the largest integer <= x.\n",
      "    \n",
      "    fmod(x, y, /)\n",
      "        Return fmod(x, y), according to platform C.\n",
      "        \n",
      "        x % y may differ.\n",
      "    \n",
      "    frexp(x, /)\n",
      "        Return the mantissa and exponent of x, as pair (m, e).\n",
      "        \n",
      "        m is a float and e is an int, such that x = m * 2.**e.\n",
      "        If x is 0, m and e are both 0.  Else 0.5 <= abs(m) < 1.0.\n",
      "    \n",
      "    fsum(seq, /)\n",
      "        Return an accurate floating point sum of values in the iterable seq.\n",
      "        \n",
      "        Assumes IEEE-754 floating point arithmetic.\n",
      "    \n",
      "    gamma(x, /)\n",
      "        Gamma function at x.\n",
      "    \n",
      "    gcd(x, y, /)\n",
      "        greatest common divisor of x and y\n",
      "    \n",
      "    hypot(...)\n",
      "        hypot(*coordinates) -> value\n",
      "        \n",
      "        Multidimensional Euclidean distance from the origin to a point.\n",
      "        \n",
      "        Roughly equivalent to:\n",
      "            sqrt(sum(x**2 for x in coordinates))\n",
      "        \n",
      "        For a two dimensional point (x, y), gives the hypotenuse\n",
      "        using the Pythagorean theorem:  sqrt(x*x + y*y).\n",
      "        \n",
      "        For example, the hypotenuse of a 3/4/5 right triangle is:\n",
      "        \n",
      "            >>> hypot(3.0, 4.0)\n",
      "            5.0\n",
      "    \n",
      "    isclose(a, b, *, rel_tol=1e-09, abs_tol=0.0)\n",
      "        Determine whether two floating point numbers are close in value.\n",
      "        \n",
      "          rel_tol\n",
      "            maximum difference for being considered \"close\", relative to the\n",
      "            magnitude of the input values\n",
      "          abs_tol\n",
      "            maximum difference for being considered \"close\", regardless of the\n",
      "            magnitude of the input values\n",
      "        \n",
      "        Return True if a is close in value to b, and False otherwise.\n",
      "        \n",
      "        For the values to be considered close, the difference between them\n",
      "        must be smaller than at least one of the tolerances.\n",
      "        \n",
      "        -inf, inf and NaN behave similarly to the IEEE 754 Standard.  That\n",
      "        is, NaN is not close to anything, even itself.  inf and -inf are\n",
      "        only close to themselves.\n",
      "    \n",
      "    isfinite(x, /)\n",
      "        Return True if x is neither an infinity nor a NaN, and False otherwise.\n",
      "    \n",
      "    isinf(x, /)\n",
      "        Return True if x is a positive or negative infinity, and False otherwise.\n",
      "    \n",
      "    isnan(x, /)\n",
      "        Return True if x is a NaN (not a number), and False otherwise.\n",
      "    \n",
      "    isqrt(n, /)\n",
      "        Return the integer part of the square root of the input.\n",
      "    \n",
      "    ldexp(x, i, /)\n",
      "        Return x * (2**i).\n",
      "        \n",
      "        This is essentially the inverse of frexp().\n",
      "    \n",
      "    lgamma(x, /)\n",
      "        Natural logarithm of absolute value of Gamma function at x.\n",
      "    \n",
      "    log(...)\n",
      "        log(x, [base=math.e])\n",
      "        Return the logarithm of x to the given base.\n",
      "        \n",
      "        If the base not specified, returns the natural logarithm (base e) of x.\n",
      "    \n",
      "    log10(x, /)\n",
      "        Return the base 10 logarithm of x.\n",
      "    \n",
      "    log1p(x, /)\n",
      "        Return the natural logarithm of 1+x (base e).\n",
      "        \n",
      "        The result is computed in a way which is accurate for x near zero.\n",
      "    \n",
      "    log2(x, /)\n",
      "        Return the base 2 logarithm of x.\n",
      "    \n",
      "    modf(x, /)\n",
      "        Return the fractional and integer parts of x.\n",
      "        \n",
      "        Both results carry the sign of x and are floats.\n",
      "    \n",
      "    perm(n, k=None, /)\n",
      "        Number of ways to choose k items from n items without repetition and with order.\n",
      "        \n",
      "        Evaluates to n! / (n - k)! when k <= n and evaluates\n",
      "        to zero when k > n.\n",
      "        \n",
      "        If k is not specified or is None, then k defaults to n\n",
      "        and the function returns n!.\n",
      "        \n",
      "        Raises TypeError if either of the arguments are not integers.\n",
      "        Raises ValueError if either of the arguments are negative.\n",
      "    \n",
      "    pow(x, y, /)\n",
      "        Return x**y (x to the power of y).\n",
      "    \n",
      "    prod(iterable, /, *, start=1)\n",
      "        Calculate the product of all the elements in the input iterable.\n",
      "        \n",
      "        The default start value for the product is 1.\n",
      "        \n",
      "        When the iterable is empty, return the start value.  This function is\n",
      "        intended specifically for use with numeric values and may reject\n",
      "        non-numeric types.\n",
      "    \n",
      "    radians(x, /)\n",
      "        Convert angle x from degrees to radians.\n",
      "    \n",
      "    remainder(x, y, /)\n",
      "        Difference between x and the closest integer multiple of y.\n",
      "        \n",
      "        Return x - n*y where n*y is the closest integer multiple of y.\n",
      "        In the case where x is exactly halfway between two multiples of\n",
      "        y, the nearest even value of n is used. The result is always exact.\n",
      "    \n",
      "    sin(x, /)\n",
      "        Return the sine of x (measured in radians).\n",
      "    \n",
      "    sinh(x, /)\n",
      "        Return the hyperbolic sine of x.\n",
      "    \n",
      "    sqrt(x, /)\n",
      "        Return the square root of x.\n",
      "    \n",
      "    tan(x, /)\n",
      "        Return the tangent of x (measured in radians).\n",
      "    \n",
      "    tanh(x, /)\n",
      "        Return the hyperbolic tangent of x.\n",
      "    \n",
      "    trunc(x, /)\n",
      "        Truncates the Real x to the nearest Integral toward 0.\n",
      "        \n",
      "        Uses the __trunc__ magic method.\n",
      "\n",
      "DATA\n",
      "    e = 2.718281828459045\n",
      "    inf = inf\n",
      "    nan = nan\n",
      "    pi = 3.141592653589793\n",
      "    tau = 6.283185307179586\n",
      "\n",
      "FILE\n",
      "    (built-in)\n",
      "\n",
      "\n"
     ]
    }
   ],
   "source": [
    "help(\"math\")"
   ]
  },
  {
   "cell_type": "code",
   "execution_count": 21,
   "id": "ade8be68",
   "metadata": {},
   "outputs": [
    {
     "data": {
      "text/plain": [
       "3.141592653589793"
      ]
     },
     "execution_count": 21,
     "metadata": {},
     "output_type": "execute_result"
    }
   ],
   "source": [
    "import math\n",
    "math.pi"
   ]
  },
  {
   "cell_type": "code",
   "execution_count": 22,
   "id": "047b0780",
   "metadata": {},
   "outputs": [
    {
     "data": {
      "text/plain": [
       "1.0"
      ]
     },
     "execution_count": 22,
     "metadata": {},
     "output_type": "execute_result"
    }
   ],
   "source": [
    "math.sin(math.pi/2)"
   ]
  },
  {
   "cell_type": "code",
   "execution_count": null,
   "id": "ddaacbc0",
   "metadata": {},
   "outputs": [],
   "source": []
  }
 ],
 "metadata": {
  "kernelspec": {
   "display_name": "Python 3",
   "language": "python",
   "name": "python3"
  },
  "language_info": {
   "codemirror_mode": {
    "name": "ipython",
    "version": 3
   },
   "file_extension": ".py",
   "mimetype": "text/x-python",
   "name": "python",
   "nbconvert_exporter": "python",
   "pygments_lexer": "ipython3",
   "version": "3.8.8"
  }
 },
 "nbformat": 4,
 "nbformat_minor": 5
}
