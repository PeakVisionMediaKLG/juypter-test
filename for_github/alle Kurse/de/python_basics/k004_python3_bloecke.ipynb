{
 "cells": [
  {
   "cell_type": "markdown",
   "metadata": {},
   "source": [
    "## Strukturierung durch Einrückung\n",
    "\n",
    "\n",
    "### Blöcke\n",
    "\n",
    "<img width=150 height=300 class=\"imgright\" src=\"../images/blocks_300.webp\" alt=\"Blocks\" />\n",
    "\n",
    "Ein Block ist eine Gruppe von Anweisungen in einem Programm oder einem Skript. Üblicherweise besteht er aus wenigstens einer Anweisung und Deklarationen für den Block, abhängig von der Skript- oder Programmiersprache. Eine Sprache, die die Strukturierung mit Blöcken ermöglicht, wird als strukturierte Programmiersprache bezeichnet. Im allgemeinen können Blöcke wieder Blöcke enthalten, d.h. wir erhalten verschachtelte Blockstrukturen. In einem Skript oder einem Programm dienen Blöcke auch dazu mehrere Anweisungen so zu gruppieren, dass sie wie eine Anweisung behandelt werden können. Außerdem werden Blöcke auch dazu genutzt, den Geltungsbereich von Variablen und Funktionen einzuschränken.\n",
    "\n",
    "In einfachen Programmiersprachen wie Basic und Fortran gab es ursprünglich keine explizite Möglichkeit Blockstrukturen zu nutzen. Programmierer mussten sich auf \"goto\"-Konstrukte beschränken. Heutzutage sind \"goto\"s in der Programmierung verpönt, weil \"Go to\"-Programme zu Spaghetti-Code tendieren, d.h. die Kontrollstrukturen sind verwoben und verwickelt und meistens dadurch in ihrer Struktur und ihrem Zusammenspiel nur schwer zu durchschauen.\n",
    "\n",
    "Zum ersten Mal wurden Blockstrukturen in ALGOL verwendet. Sie wurden als \"compound statement\" bezeichnet.\n",
    "\n",
    "Programmier- und Skriptsprachen benutzen verschiedene Methoden, Anweisungen zu Blöcken zusammenzufassen:\n",
    "\n",
    "- begin ... end\n",
    "    ALGOL, Pascal und andere\n",
    "    Ein Codefragment in Pascal, was die Benutzung von Blöcken in dieser Programmiersprache zeigt:\n",
    "<pre>\n",
    "    with ptoNode^ do\n",
    "    begin\n",
    "      x := 42;\n",
    "      y := 'X';\n",
    "    end;\n",
    "</pre>\n",
    "- do ... done and if... fi\n",
    "    z.B. Bourne- und Bash-Shell\n",
    "- Geschweifte Klammern: { ... }\n",
    "    In den meisten Programmier- und Skriptsprachen werden wohl geschweifte Klammern zur Strukturierung verwendet, so wie in C, C++, Perl und Java.\n",
    "    Im folgenden Beispiel sehen wir eine bedingte Anweisung in C:\n",
    "<pre>\n",
    "    if (x==42) {\n",
    "        printf(\"The Answer to the Ultimate Question of Life, the Universe, and Everything\\n\");\n",
    "    } else {\n",
    "        printf(\"Just a number!\\n\");\n",
    "    }\n",
    "</pre>\n",
    "    Man beachte, dass die Einrückungen in dem obigen C-Programm zur Kompilierung nicht notwendig sind. Man könnte den Code - gegen alle Programmierästhetik - auch wie folgt schreiben:\n",
    "<pre>\n",
    "    if (x==42) {printf(\"The  Answer to the Ultimate Question of Life, the Universe, and Everything\\n\");} else {printf(\"Just a number!\\n\");}\n",
    "</pre>\n",
    "    Man sollte sich dieses Beispiel gut merken, um die Vorteile von Python, über die wir im folgenden sprechen werden, besser zu verstehen!\n",
    "\n",
    "\n",
    "### Python-Blöcke durch Einrückungen\n",
    "\n",
    "<img width=300 height= 300 class=\"imgright\" src=\"../images/bloecke300.webp\" srcset=\"../images/bloecke300_300w.webp 300w\" alt=\"Ablaufdiagramm einer Schleife\" />\n",
    "\n",
    "Das Strukturierungsprinzip von Python unterscheidet sich deutlich von anderen Programmiersprachen. Wie eingangs bereits beschrieben, strukturieren andere Programmiersprachen ihre Programmblöcke durch Schlüsselwörter, wie beispielsweise \"begin\", \"end\", \"do\", \"done\" oder geschweifte Klammern. Leerzeichen, Folgen von Leerzeichen oder Einrückungen sind für die Compiler und Interpreter von den meisten Programmiersprachen ohne jede Semantik, d.h. sie werden überlesen. Dennoch wird Programmierern aber immer empfohlen, Blöcke durch gleichmäßge Einrückungen für menschliche Benutzer besser verständlich zu machen. In Python ist dies nun gänzlich anders. Hier haben Leerzeichen eine Bedeutung. Die Einrückung von Zeilen und die Benutzung von Leerzeichen am Anfang von Zeilen dienen hier als Strukturierungselement, so dass Programmierer \"gezwungen\" werden übersichtlichen Code zu schreiben, wenn sie ein lauffähiges Programm unter Python entwickeln wollen.\n",
    "Ein häufiges Strukturierungselement sind Anweisungen, die sich aus einem Anweisungskopf und einem Anweisungskörper zusammensetzen, wie z.B. die while- und die for-Schleife.\n",
    "<pre>\n",
    "Anweisungskopf:\n",
    "    Anweisung\n",
    "     .\n",
    "    Anweisung\n",
    "</pre>\n",
    "\n",
    "Wesentlich sind hierbei der Doppelpunkt am Ende des Anweisungskopfes und die gleichmäßige Einrückung der zugehörigen Anweisungen.\n",
    "\n",
    "Im Folgenden präsentieren wir ein vollständiges Python-Programm, damit wir ein konkretes Beispiel mit Blöcken sehen können. Anfänger werden dieses Programm noch nicht verstehen können. Wir möchten Ihnen lediglich ein Beispiel eines strukturierten Programmes zeigen.\n",
    "Übrigens handelt es sich bei dem Programm um einen Algorithmus der Pythagoreische Tripel berechnet. Sie finden eine Erklärung der Pythagoreische Tripel in unserem Kapitel über [for-Schleifen](https://www.python-kurs.eu/python3_for-schleife.php).\n",
    "\n",
    "<pre>\n",
    "from math import sqrt\n",
    "n = input(\"Maximal Number? \")\n",
    "n = int(n)+1\n",
    "for a in range(1,n):\n",
    "    for b in range(a,n):\n",
    "        c_square = a**2 + b**2\n",
    "        c = int(sqrt(c_square))\n",
    "        if ((c_square - c**2) == 0):\n",
    "            print(a, b, c)\n",
    "<pre>"
   ]
  },
  {
   "cell_type": "markdown",
   "metadata": {},
   "source": [
    "Es gibt einen weiteren Aspekt der Strukturierung in Python, den wir bisher nicht erwähnt haben und den Sie im Beispiel sehen können. Schleifen und bedingte Anweisungen enden mit einem Doppelpunkt \":\" - das Gleiche gilt für Funktionen und andere Strukturen, die Blöcke einführen. Alles in allem <br> \n",
    "### Python strukturiert durch Doppelpunkte und Einrückungen."
   ]
  },
  {
   "cell_type": "code",
   "execution_count": null,
   "metadata": {},
   "outputs": [],
   "source": []
  }
 ],
 "metadata": {
  "kernelspec": {
   "display_name": "Python 3",
   "language": "python",
   "name": "python3"
  },
  "language_info": {
   "codemirror_mode": {
    "name": "ipython",
    "version": 3
   },
   "file_extension": ".py",
   "mimetype": "text/x-python",
   "name": "python",
   "nbconvert_exporter": "python",
   "pygments_lexer": "ipython3",
   "version": "3.8.8"
  }
 },
 "nbformat": 4,
 "nbformat_minor": 4
}
