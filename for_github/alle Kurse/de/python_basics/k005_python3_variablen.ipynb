{
 "cells": [
  {
   "cell_type": "markdown",
   "metadata": {},
   "source": [
    "##  Variablen\n",
    "\n",
    "\n",
    "### Einführung\n",
    "\n",
    "<img width=200 height=200 class=\"imgright\" src=\"../images/containers300.webp\" srcset=\"../images/containers300_300w.webp 300w\" alt=\"Variablen als Container\" />\n",
    "\n",
    "Haben Sie bereits in Sprachen wie C und C++ programmiert? Deswegen glauben Sie, dass Sie bereits genug über Datentypen und Variablen wissen? Sie wissen sicherlich viel, das stimmt, aber nicht genug, wenn es um Python geht. Deshalb lohnt es sich auf jeden Fall hier weiterzulesen.\n",
    "\n",
    "Es gibt gravierende Unterschiede in der Art wie Python und C bzw. C++ Variablen behandeln. Vertraute Datentypen wie Ganzzahlen (Integer), Fließkommazahlen (floating point numbers) und Strings sind zwar in Python vorhanden, aber auch hier gibt es wesentliche Unterschiede zu C und C++. Dieses Kapitel ist also sowohl für Anfänger als auch für fortgeschrittene Programmierer zu empfehlen.\n",
    "\n",
    "\n",
    "\n",
    "### Benutzung von Variablen\n",
    "\n",
    "\n",
    "\n"
   ]
  },
  {
   "cell_type": "markdown",
   "metadata": {},
   "source": [
    "Benötigt man in einem Python-Programm beispielsweise den Wert 42, so kann man sich diesen \n",
    "mittels einer Variablen \"speichern\".<br> Dadurch wird ein neues Objekt, also eine Blackbox im Speicher erzeugt. <br>Dies geschieht mit einer Zuweisung:"
   ]
  },
  {
   "cell_type": "code",
   "execution_count": 1,
   "metadata": {},
   "outputs": [],
   "source": [
    "i = 42   # i ist der Bezeichner fürs Objekt, 42 der Wert des Objekts "
   ]
  },
  {
   "cell_type": "markdown",
   "metadata": {},
   "source": [
    "Der Bezeichner i ist dann im Beispiel eine Referenz, also ein Zeiger in den Speicher für die Variable.\n",
    "Diese Anweisung bezeichnet man als Zuweisung oder auch als Definition einer Variablen. <b>Das Gleichheitszeichen darf man nicht als mathematisches Gleichheitszeichen sehen, sondern als \"der Variablen i wird der Wert 42 zugewiesen\", d.h. die Variable i zeigt nach der Zuweisung auf den Wert 42. </b>\n",
    "\n",
    "Wir können nun diese Variable zum Beispiel benutzen, indem wir ihren Wert mit print ausgeben lassen: "
   ]
  },
  {
   "cell_type": "code",
   "execution_count": 2,
   "metadata": {},
   "outputs": [
    {
     "name": "stdout",
     "output_type": "stream",
     "text": [
      "Wert von i:  42\n"
     ]
    }
   ],
   "source": [
    "i = 42\n",
    "print(\"Wert von i: \", i)"
   ]
  },
  {
   "cell_type": "markdown",
   "metadata": {},
   "source": [
    "Wir können sie aber auch auf der rechten Seite einer Zuweisung in einem Rechenausdruck verwenden, dessen Ergebnis dann einer Variablen zugewiesen wird: "
   ]
  },
  {
   "cell_type": "code",
   "execution_count": 3,
   "metadata": {},
   "outputs": [
    {
     "name": "stdout",
     "output_type": "stream",
     "text": [
      "19.8\n"
     ]
    }
   ],
   "source": [
    "x = i / 3.0 + 5.8\n",
    "print(x)"
   ]
  },
  {
   "cell_type": "markdown",
   "metadata": {},
   "source": [
    "Links muss der Bezeichner (oder der Name) der Variablen stehen <br>(man kann aber auch mehrere Variablen in einer Anweisung zuweisen s.u.) Die Zuweisung hat also unterschiedliche Bedeutung für den Ausdruck,<br> der auf der linken Seite des \"=\" -Zeichens steht<br> und für den, der rechts steht!! Man kann dies nicht umdrehen. Also <b>42 = i</b> geht nicht!"
   ]
  },
  {
   "cell_type": "markdown",
   "metadata": {},
   "source": [
    "Man kann eine Variable auch gleichzeitig auf der rechten und der linken Seite einer Zuweisung benutzen. Im Folgenden erhöhen wir den Wert der Variablen i um 1: "
   ]
  },
  {
   "cell_type": "code",
   "execution_count": 3,
   "metadata": {},
   "outputs": [
    {
     "name": "stdout",
     "output_type": "stream",
     "text": [
      "2\n"
     ]
    }
   ],
   "source": [
    "i = 1\n",
    "i = i + 1 #wie gesagt kein = Zeichen im mathematischen Sinn, das wäre hier etwas schwierig :)\n",
    "print(i)"
   ]
  },
  {
   "cell_type": "markdown",
   "metadata": {},
   "source": [
    "Für obige Schreibweise wird üblicherweise die sogenannte erweiterte Zuweisung verwendet: "
   ]
  },
  {
   "cell_type": "code",
   "execution_count": 5,
   "metadata": {},
   "outputs": [
    {
     "name": "stdout",
     "output_type": "stream",
     "text": [
      "2\n"
     ]
    }
   ],
   "source": [
    "i = 1\n",
    "i += 1\n",
    "print(i)"
   ]
  },
  {
   "cell_type": "markdown",
   "metadata": {},
   "source": [
    "Vom Ergebnis her gesehen sind die beiden Möglichkeiten identisch. Allerdings gibt es einen Implementierungsunterschied. Bei der erweiterten Zuweisung muss die Referenz der Variablen i nur einmal ausgewertet werden. Bei Datentypen wie Listen, die wir noch nicht behandelt haben, kann es zu extremen Laufzeitproblemen kommen, wenn man keine erweiterte Zuweisung verwendet. Darauf gehen wir jedoch erst später ein.\n",
    "Erweiterte Zuweisungen gibt es auch für die meisten anderen Operatoren, wie <br>\n",
    "<b>-= , \\*= , /= , //= , %= , //= , \\*\\*=</b>\n",
    "\n",
    "\n",
    "In Python kann zur Laufzeit sowohl der Wert einer Variablen geändert werden, als auch der Typ einer Variablen. Präziser: Ein neues Objekt eines beliebigen Typs wird der Variablen zugewiesen. Wir verdeutlichen dies in folgendem Beispiel: "
   ]
  },
  {
   "cell_type": "code",
   "execution_count": 6,
   "metadata": {},
   "outputs": [],
   "source": [
    "i = 42          # Typ wird implizit auf Integer gesetzt\n",
    "i = 41 + 0.11   # Typ wird in float geändert\n",
    "i = \"fünfzig\"   # Jetzt ist es ein string"
   ]
  },
  {
   "cell_type": "markdown",
   "metadata": {},
   "source": [
    "Dieses nennt man dynamische Typisierung und ist in anderen Sprachen oft völlig anders gehandhabt."
   ]
  },
  {
   "cell_type": "markdown",
   "metadata": {},
   "source": [
    "### Regeln zu Benennung von Variablen\n",
    "\n",
    "In jeder Programmiersprache gibt es Regeln für die Benennung von Variablen, die man manchmal auch Bezeichner nennt. \n",
    "\n",
    "In Python gelten folgende Regeln:\n",
    "\n",
    "Ein gültiger Bezeichner ist eine nicht leere Folge von Zeichen beliebiger Länge mit:\n",
    "\n",
    "- Das Startzeichen kann der Unterstrich \"_\" oder ein Groß- oder Kleinbuchstabe sein. Dies bezieht sich nicht nur auf das lateinische Alphabet. Es kann sich auch um griechische, kyrillische, Devanagari oder einer anderen auf der Erde vorkommenenden Schrift sein. Naja, klingonisch geht auch. \n",
    "- Achtung keine Leerzeichen oder andere Sonderzeichen erlaubt!!\n",
    "- Die Buchstaben nach dem Startzeichen können alles sein, was als Startzeichen zulässig ist, plus die Ziffern.\n",
    "- Nur eine Warnung für Windows-verwöhnte Benutzer: Bei Bezeichnern wird zwischen Groß- und Kleinschreibung unterschieden!\n",
    "- Python-Schlüsselwörter sind als Bezeichnernamen nicht erlaubt. (z.B. ```if```, ```while```)\n",
    "\n",
    "Beispiele mit gültigen Variablennamen:"
   ]
  },
  {
   "cell_type": "code",
   "execution_count": 3,
   "metadata": {},
   "outputs": [],
   "source": [
    "speed = 123.4\n",
    "ταχύτητα = 89       # Greek\n",
    "गति = 10            # Hindi: pronounced gati\n",
    "hız = 12            # Turkish\n",
    "_=3                 # sehr kurz :)"
   ]
  },
  {
   "cell_type": "code",
   "execution_count": 4,
   "metadata": {},
   "outputs": [
    {
     "data": {
      "text/plain": [
       "(123.4, 89, 10, 12, 3)"
      ]
     },
     "execution_count": 4,
     "metadata": {},
     "output_type": "execute_result"
    }
   ],
   "source": [
    "speed, ταχύτητα, गति, hız , _\n"
   ]
  },
  {
   "cell_type": "markdown",
   "metadata": {},
   "source": [
    "### Namenskonventionen für Variablen\n",
    "\n",
    "Es ist häufig so, dass wir aussagekräftige Namen für Variablen oder Funktionen benötigen, die mehr als ein Wort beinhalten. Wir könnten zum Beispiel \"maximum_height\" verwenden. Der Unterstrich fungiert hier als Wort-Trenner, denn Leerzeichen sind nicht möglich. Einige Entwickler nutzen gerne die s.g. Camel-Case-Schreibweise. Diese würden stattdessen \"MaximumHeight\" schreiben. Es ist wohl Geschmacksache welche Schreibweise man verwendet. Ich persönlich ziehe \"die_natürliche_art\" der \"DieNatürlicheArt\" vor. Der <b>Style Guide</b> (Knigge :)) für Python Code empfiehlt ebenfalls die Unterstrich-Schreibweise sowohl für Variablen, als auch für Funktionen. \n",
    "https://www.python.org/dev/peps/pep-0008/<br><br>\n",
    "Die im Folgenden angegebenen Namen sind \"reservierte Worte\" von Python (wir werden die Funktion der Allermeisten in Bälde kennenlernen) und dürfen nicht als Benutzer-definierte Namen verwendet werden."
   ]
  },
  {
   "cell_type": "code",
   "execution_count": null,
   "metadata": {},
   "outputs": [],
   "source": [
    "False      await      else       import     pass\n",
    "None       break      except     in         raise\n",
    "True       class      finally    is         return\n",
    "and        continue   for        lambda     try\n",
    "as         def        from       nonlocal   while\n",
    "assert     del        global     not        with\n",
    "async      elif       if         or         yield"
   ]
  },
  {
   "cell_type": "markdown",
   "metadata": {},
   "source": [
    "Bei eingebauten Funktionen wie abs... oder importierten Funktionen wie sin... wäre es aber erlaubt.\n",
    "Es sollte aber mit Gefängnis bestraft werden!!"
   ]
  },
  {
   "cell_type": "code",
   "execution_count": 31,
   "metadata": {},
   "outputs": [
    {
     "name": "stdout",
     "output_type": "stream",
     "text": [
      "2\n",
      "<built-in function abs>\n",
      "3\n"
     ]
    }
   ],
   "source": [
    "print(abs(-2))\n",
    "print(abs)\n",
    "abs=3\n",
    "print(sin) #Bitte , bitte nicht tun"
   ]
  },
  {
   "cell_type": "markdown",
   "metadata": {},
   "source": [
    "### Verändern von Datentypen und Speicherplätzen\n",
    "Programmieren bedeutet Verarbeitung von Daten. Daten werden in einem Python-Programm durch Objekte repräsentiert. Diese Objekte können in Python\n",
    "\n",
    "- integriert (built-in) sein, d.h. sie gehören zum Standardsprachumfang, oder\n",
    "- sie kommen aus Erweiterungsmodulen oder\n",
    "- sie werden in der Anwendung des Benutzers erzeugt.\n",
    "\n",
    "Es gibt also verschiedene \"Arten\" von Objekten für verschiedene Datentypen. Schauen wir uns die verschiedenen Datentypen an, die bereits in Python integriert sind.\n"
   ]
  },
  {
   "cell_type": "markdown",
   "metadata": {},
   "source": [
    "\n",
    "\n",
    "\n",
    "\n",
    "\n",
    "### Variablen in anderen Sprachen\n",
    "\n",
    "\n",
    "\n",
    "<img width=200 height=150 src=\"../images/shoebox_variables_1.webp\" srcset=\"../images/shoebox_variables_1_300w.webp 300w\" alt=\"Variablen als leere Schuhkartons \" />\n",
    "\n",
    "\n",
    "Dieses Unterkapitel ist speziell für C, C++ und Java-Programmierer gedacht, weil diese Programmiersprachen Standarddatentypen anders behandeln als Python. Diejenigen, die Python als erste Programmiersprache lernen, können gerne zum nächsten Unterkapitel springen.\n",
    "\n",
    "In den meisten Programmiersprachen, wie z.B. C, ist es so, dass eine Variable einen <b>festen Speicherplatz</b> bezeichnet, in dem Werte eines bestimmten Datentyps abgelegt werden können. Während des Programmlaufes kann sich der Wert der Variable ändern, aber die Wertänderungen müssen vom gleichen Typ sein. Also kann man nicht in einer Variablen zu einem bestimmten Zeitpunkt eine Integerzahl gespeichert haben und dann diesen Wert durch eine Fließkommazahl überschreiben. Ebenso ist der Speicherort der Variablen während des gesamten Laufes konstant, kann also nicht mehr geändert werden. In Sprachen wie C und C++ wird der Speicherort bereits durch den Compiler fixiert.\n",
    "\n",
    "Was wir bisher gesagt haben, trifft auf Sprachen wie C, C++ und Java zu. In diesen Sprachen müssen Variablen auch deklariert werden, bevor sie benutzt werden können, alleine, um schon die Grösse des zu reservierenden Speicherplatzes zu wissen, da z.B. Integer eines bestimmten Typs (es gibt nämlich zumeist auch noch Subtypen für solche Haupttypen, wie z.B. longint,shortint...) unterschiedlich viel Platz im Speicher benötigen. \n",
    "\n",
    "<pre>\n",
    "int x;\n",
    "int y;\n",
    "</pre>\n",
    "\n",
    "Solche Deklarationen stellen sicher, dass das Programm Speicher für zwei Variablen mit den Namen x und y reserviert. Die Variablen Namen stehen für den Speicherort. Es ist so wie die beiden leeren Schuhkartons im Bild auf der rechten Seite. Diese beiden Schuhkartons sind mit x und y etikettiert und haben eine bestimmte Grösse. So wie die Schuhkartons ist auch der Speicher für x und y leer.\n",
    "\n",
    "Will man Werte im Speicher ablegen, so kann man dies mit Zuweisungen verwirklichen. Die Art, wie man Werte zuweist, ist in den meisten Programmiersprachen gleich. Meistens wird das Gleichheitszeichen benutzt. Der Wert auf der rechten Seite wird in der Variablen auf der linken Seite gespeichert.\n",
    "Wir werden im folgenden C-Beispiel an beide vorher deklarierte Variablen den Wert 42 zuweisen. Das Ergebnis sehen wir auch im Bild veranschaulicht.\n",
    "\n",
    "<pre>\n",
    "x = 42;\n",
    "y = 42;\n",
    "</pre>\n",
    "\n",
    "<img width=200 height=150 src=\"../images/shoebox_variables_3.webp\" srcset=\"../images/shoebox_variables_3_300w.webp 300w\" alt=\"Variablenzuweisung in C, C++ und Java, versinnbildlicht in Schuhkartons\" />\n",
    "\n",
    "\n",
    "Es ist nicht schwer zu verstehen, was passiert, wenn wir einen neuen Wert einer der beiden Variablen zuweisen, zum Beispiel den Wert 78 der Variablen y.\n",
    "\n",
    "<pre>\n",
    "y = 78;\n",
    "</pre>\n",
    "\n",
    "Der Wert der Speicherstelle von y wurde ausgetauscht.\n",
    "\n",
    "<img width=200 height=150 src=\"../images/shoebox_variables_4.webp\" srcset=\"../images/shoebox_variables_4_300w.webp 300w\" alt=\"Variablenzuweisungen in C oder Java\" />\n",
    "\n",
    "\n",
    "Wir haben nun gesehen, dass in Programmiersprachen wie C, C++ oder Java jede Variable einen eindeutigen Datentyp hat oder besser haben muss. Das bedeutet, dass falls beispielsweise eine Variable vom Typ Integer ist, sie nur Integer-Werte aufnehmen kann. In diesen Programmiersprachen müssen Variablen auch vor ihrer Benutzung deklariert werden. Deklaration bedeutet Bindung an einen Datentyp, der dann für den gesamten Programmablauf unveränderlich ist.\n",
    "Dies nennt man statische Typisierung.\n",
    "\n",
    "\n",
    "\n",
    "<h2>### Variablen in Python</h2>\n",
    "\n",
    "\n",
    "In Python haben wir eine gänzlich andere Situation. Wir haben eine dynamische Typisierung. Zunächst einmal bezeichnen Variablen in Python keinen bestimmten Typ und deshalb benötigt man auch in Python keine Typdeklaration, das im Speicher für die Variable erzeugte Objekt erkennt am zugewiesenen Wert welcher Typ vorliegt. \n",
    "\n",
    "Eingangs haben wir bereits gesehen, dass Variablen durch Zuweisungen entstehen oder verändert werden:\n"
   ]
  },
  {
   "cell_type": "code",
   "execution_count": 1,
   "metadata": {},
   "outputs": [],
   "source": [
    "x = 42"
   ]
  },
  {
   "cell_type": "markdown",
   "metadata": {},
   "source": [
    "#### Variablen sind Objekt-Referenzen\n",
    "\n",
    "Wir wollen einen genaueren Blick auf die Implementierung von Variablen in Python werfen. Variablen referenzieren Objekte in Python. Die eigentlichen Daten sind jedoch im Objekt enthalten.\n",
    "\n",
    "<img width=300 height=250 src=\"../images/python_variable_1.webp\" srcset=\"../images/python_variable_1_600w.webp 600w,../images/python_variable_1_500w.webp 500w,../images/python_variable_1_400w.webp 400w,../images/python_variable_1_350w.webp 350w,../images/python_variable_1_300w.webp 300w\" alt=\"Python Variable\" />\n",
    "\n",
    "Da Variablen Objekte referenzieren und Objekte einen beliebigen Datentyp haben können, ist es nicht möglich, Variablen mit Datentypen zu verknüpfen. Dies ist ein riesiger Unterschied zu C, C++ oder Java, wo Variablen fest mit einem Datentyp assoziiert sind. Diese Verknüpfung gilt solange das Programm läuft.\n",
    "\n",
    "Aus diesem Grund ist es möglich in Python Code wie den folgenden zu schreiben:"
   ]
  },
  {
   "cell_type": "code",
   "execution_count": 10,
   "metadata": {},
   "outputs": [
    {
     "name": "stdout",
     "output_type": "stream",
     "text": [
      "42\n"
     ]
    }
   ],
   "source": [
    "x = 42\n",
    "print(x)"
   ]
  },
  {
   "cell_type": "code",
   "execution_count": 6,
   "metadata": {},
   "outputs": [
    {
     "name": "stdout",
     "output_type": "stream",
     "text": [
      "Jetzt referenziert x einen String (Zeichenfolge)\n"
     ]
    }
   ],
   "source": [
    "x = \"Jetzt referenziert x einen String (Zeichenfolge)\"\n",
    "print(x)"
   ]
  },
  {
   "cell_type": "code",
   "execution_count": 8,
   "metadata": {},
   "outputs": [
    {
     "data": {
      "text/plain": [
       "42"
      ]
     },
     "execution_count": 8,
     "metadata": {},
     "output_type": "execute_result"
    }
   ],
   "source": [
    "x = 42\n",
    "y = x\n",
    "y"
   ]
  },
  {
   "cell_type": "markdown",
   "metadata": {},
   "source": [
    "Nun wollen wir etwas anderes aufzeigen. Betrachten wir den obigen Code, in dem wir ein Integer-Objekt 42 anlegen und dieses der Variablen x zuweisen. Danach weisen wir x der Variablen y zu. Dies führt dazu, dass nun beide Variablen dasselbe Objekt referenzieren:\n",
    "\n",
    "<img width=500 height=200 src=\"../images/python_variable_2.webp\" srcset=\"../images/python_variable_2_800w.webp 800w,../images/python_variable_2_700w.webp 700w,../images/python_variable_2_600w.webp 600w,../images/python_variable_2_500w.webp 500w,../images/python_variable_2_400w.webp 400w,../images/python_variable_2_350w.webp 350w,../images/python_variable_2_300w.webp 300w\" alt=\"Zwei Python-Variablen referenzieren das gleiche Objekt\" />\n",
    "\n",
    "\n",
    "Was wird passieren, wenn wir nun die Zuweisung y = 78 ausführen? Python wird zuerst ein neues Integer-Objekt mit dem Inhalt 78 erzeugen und dann wird die Referenz von y auf dieses Objekt geändert, wie wir im folgenden Bild sehen können:\n",
    "\n",
    "<img width=500 height=200 src=\"../images/python_variable_3.webp\" srcset=\"../images/python_variable_3_800w.webp 800w,../images/python_variable_3_700w.webp 700w,../images/python_variable_3_600w.webp 600w,../images/python_variable_3_500w.webp 500w,../images/python_variable_3_400w.webp 400w,../images/python_variable_3_350w.webp 350w,../images/python_variable_3_300w.webp 300w\" alt=\"Ein neues Objekt einer bestehenden Python-Variablen zuweisen\" />\n",
    "\n",
    "Höchst wahrscheinlich würden wir noch weitere Änderungen an den Variablen im Lauf unseres Programmes erfahren. Zum Beispiel könnte der Variablen x ein String zugewiesen werden. Das Integer-Objekt \"42\" wird damit verwaist. Es muss von Python entfernt werden, da es von keiner anderen Variablen referenziert wird. Dies nennt man automatische Speicherbereinigung,(garbage collection) und Python macht das im Gegensatz zu vielen anderen Sprachen selbstständig.\n",
    "\n",
    "<img width=500 height=200 src=\"../images/python_variable_4.webp\" srcset=\"../images/python_variable_4_800w.webp 800w,../images/python_variable_4_700w.webp 700w,../images/python_variable_4_600w.webp 600w,../images/python_variable_4_500w.webp 500w,../images/python_variable_4_400w.webp 400w,../images/python_variable_4_350w.webp 350w,../images/python_variable_4_300w.webp 300w\" alt=\"Python-Variable, die ein Stringobjekt referenziert.\" />\n",
    "\n",
    "\n",
    "\n",
    "### id-Funktion\n",
    "\n",
    "\n",
    "Es stellt sich die Frage, wie man das oben gesagte überprüfen kann. Dazu bietet sich die Identitätsfunktion id() an. Die Identität einer Instanz dient dazu, sie von allen anderen Instanzen zu unterscheiden. Die Identität ist eine Ganzzahl, und sie ist innerhalb eines Programmes eindeutig. Die Identitätsfunktion id() liefert die Identität. So kann man prüfen, ob es sich um eine bestimmte Instanz handelt und nicht nur um eine mit dem gleichen Wert und Typ. Wir geben nochmals das obige Beispiel ein, lassen uns aber jeweils die Identität ausgeben:"
   ]
  },
  {
   "cell_type": "code",
   "execution_count": 12,
   "metadata": {},
   "outputs": [
    {
     "data": {
      "text/plain": [
       "94676682082336"
      ]
     },
     "execution_count": 12,
     "metadata": {},
     "output_type": "execute_result"
    }
   ],
   "source": [
    "x = 42\n",
    "id(x)"
   ]
  },
  {
   "cell_type": "code",
   "execution_count": 13,
   "metadata": {},
   "outputs": [
    {
     "data": {
      "text/plain": [
       "(94676682082336, 94676682082336)"
      ]
     },
     "execution_count": 13,
     "metadata": {},
     "output_type": "execute_result"
    }
   ],
   "source": [
    "y = x\n",
    "id(x), id(y)"
   ]
  },
  {
   "cell_type": "code",
   "execution_count": 14,
   "metadata": {},
   "outputs": [
    {
     "data": {
      "text/plain": [
       "(94676682082336, 94676682083488)"
      ]
     },
     "execution_count": 14,
     "metadata": {},
     "output_type": "execute_result"
    }
   ],
   "source": [
    "y = 78\n",
    "id(x), id(y)"
   ]
  },
  {
   "cell_type": "markdown",
   "metadata": {},
   "source": [
    "Wir stellen fest, dass sich die Identität erst ändert, nachdem wir y einen neuen Wert zugewiesen haben. Die Identität von x bleibt gleich, d.h. der Speicherort von x wird nicht geändert.\n",
    "\n"
   ]
  },
  {
   "cell_type": "markdown",
   "metadata": {},
   "source": [
    "False      await      else       import     pass\n",
    "None       break      except     in         raise\n",
    "True       class      finally    is         return\n",
    "and        continue   for        lambda     try\n",
    "as         def        from       nonlocal   while\n",
    "assert     del        global     not        with\n",
    "async      elif       if         or         yield"
   ]
  },
  {
   "cell_type": "markdown",
   "metadata": {},
   "source": [
    "### Verändern von Datentypen und Speicherplätzen\n",
    "Programmieren bedeutet Verarbeitung von Daten. Daten werden in einem Python-Programm durch Objekte repräsentiert. Diese Objekte können in Python\n",
    "\n",
    "- integriert (built-in) sein, d.h. sie gehören zum Standardsprachumfang, oder\n",
    "- sie kommen aus Erweiterungsmodulen oder\n",
    "- sie werden in der Anwendung des Benutzers erzeugt.\n",
    "\n"
   ]
  },
  {
   "cell_type": "markdown",
   "metadata": {},
   "source": [
    "Jederzeit können Variablentypen zur Laufzeit verändert werden,dies geschieht automatisch <b>entsprechend ihrer Werte.</b>\n",
    "Da die Variablen Objekte sind, sind sie wie Black-Boxes anzusehen und können beliebige Werte speichern, ihr Speicherbedarf ist nicht für die Speicherung erheblich."
   ]
  }
 ],
 "metadata": {
  "kernelspec": {
   "display_name": "Python 3",
   "language": "python",
   "name": "python3"
  },
  "language_info": {
   "codemirror_mode": {
    "name": "ipython",
    "version": 3
   },
   "file_extension": ".py",
   "mimetype": "text/x-python",
   "name": "python",
   "nbconvert_exporter": "python",
   "pygments_lexer": "ipython3",
   "version": "3.8.8"
  }
 },
 "nbformat": 4,
 "nbformat_minor": 4
}
