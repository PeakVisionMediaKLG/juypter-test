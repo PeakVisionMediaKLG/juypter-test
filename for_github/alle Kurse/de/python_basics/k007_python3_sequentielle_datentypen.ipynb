{
 "cells": [
  {
   "cell_type": "markdown",
   "metadata": {},
   "source": [
    "## Sequentielle Datentypen\n",
    "\n",
    "\n",
    "### Einführung\n",
    "\n",
    "<img width=200 height=200 class=\"imgright\" src=\"../images/green_tree_python3_250.webp\" alt=\"Endless Python\" />\n",
    "\n",
    "Sequenzen sind neben Zahlen, Zuordnungen, Dateien, Instanzen und Ausnahmen einer der wichtigsten integrierten Datentypen. Python bietet sechs sequenzielle (oder sequentielle) Datentypen:\n",
    "\n",
    "    Zeichenketten (Strings) \n",
    "    Byte-Sequenzen\n",
    "    Byte-Arrays\n",
    "    Listen\n",
    "    Tupel\n",
    "    Iteratorobjekte (z.B.: enumerate...,  dazu später mehr)\n",
    "\n",
    "Zeichenfolgen, Listen, Tupel, Bytes und Bereichsobjekte sehen möglicherweise ganz anders aus, haben jedoch noch einige grundlegende Konzepte gemeinsam:\n",
    "\n",
    "- Die Elemente oder Elemente von Zeichenfolgen, Listen, Tupeln und Bereichsobjekten sind in einer definierten Reihenfolge angeordnet.\n",
    "- Auf die Elemente kann über Indizes zugegriffen werden."
   ]
  },
  {
   "cell_type": "code",
   "execution_count": 3,
   "metadata": {},
   "outputs": [
    {
     "name": "stdout",
     "output_type": "stream",
     "text": [
      "A u n\n"
     ]
    }
   ],
   "source": [
    "text = \"Auf Listen und Strings kann über Indizes zugegriffen werden!\"\n",
    "print(text[0], text[11], text[-2])    "
   ]
  },
  {
   "cell_type": "markdown",
   "metadata": {},
   "source": [
    "Zugriff auf Listen:"
   ]
  },
  {
   "cell_type": "code",
   "execution_count": 4,
   "metadata": {},
   "outputs": [
    {
     "name": "stdout",
     "output_type": "stream",
     "text": [
      "Wien\n",
      "Paris\n",
      "Hamburg\n"
     ]
    }
   ],
   "source": [
    "lst = [\"Wien\", \"London\", \"Paris\", \"Berlin\", \"Zürich\", \"Hamburg\"]\n",
    "print(lst[0])\n",
    "print(lst[2])\n",
    "print(lst[-1])  "
   ]
  },
  {
   "cell_type": "markdown",
   "metadata": {},
   "source": [
    "Im Gegensatz zu anderen Programmiersprachen verwendet Python die gleichen Syntax- und Funktionsnamen, um sequentielle Datentypen zu bearbeiten. Beispielsweise kann die Länge eines Strings, einer Liste und eines Tupels mit einer Funktion namens len () bestimmt werden:"
   ]
  },
  {
   "cell_type": "code",
   "execution_count": 5,
   "metadata": {},
   "outputs": [
    {
     "data": {
      "text/plain": [
       "7"
      ]
     },
     "execution_count": 5,
     "metadata": {},
     "output_type": "execute_result"
    }
   ],
   "source": [
    "Länder = [\"Deutschland\", \"Schweiz\", \"Österreich\", \n",
    "             \"Frankreich\", \"Belgien\", \"Niederlande\", \n",
    "             \"England\"]\n",
    "len(Länder)  # die Länge der Liste; die Anzahl der Objekte"
   ]
  },
  {
   "cell_type": "code",
   "execution_count": 2,
   "metadata": {},
   "outputs": [
    {
     "data": {
      "text/plain": [
       "10"
      ]
     },
     "execution_count": 2,
     "metadata": {},
     "output_type": "execute_result"
    }
   ],
   "source": [
    "fib = [1, 1, 2, 3, 5, 8, 13, 21, 34, 55]\n",
    "len(fib)"
   ]
  },
  {
   "cell_type": "markdown",
   "metadata": {},
   "source": [
    "### Bytes\n",
    "Das Byte-Objekt ist eine Folge kleiner Ganzzahlen. Die Elemente eines Byte-Objekts liegen im Bereich von 0 bis 255, entsprechend ASCII-Zeichen, und werden als solche gedruckt."
   ]
  },
  {
   "cell_type": "code",
   "execution_count": 1,
   "metadata": {},
   "outputs": [
    {
     "name": "stdout",
     "output_type": "stream",
     "text": [
      "119\n",
      "<class 'bytes'>\n",
      "b'Gl\\xc3\\xbcckliche F\\xc3\\xbcgung'\n",
      "108\n",
      "l\n"
     ]
    }
   ],
   "source": [
    "s = \"Glückliche Fügung\" #American Standard Code for Information Interchange\n",
    "print(ord(\"w\"))\n",
    "s1=bytes(s.encode(\"utf-8\"))\n",
    "print(type(s1))\n",
    "print(s1)\n",
    "print(s1[1])\n",
    "print(chr(108))"
   ]
  },
  {
   "cell_type": "markdown",
   "metadata": {},
   "source": [
    "### Python-Listen\n",
    " Listen beziehen sich auf Arrays von Programmiersprachen wie C, C ++ oder Java, aber Python-Listen sind weitaus flexibler und leistungsfähiger als \"klassische\" Arrays. Beispielsweise müssen nicht alle Elemente in einer Liste denselben Typ haben. Darüber hinaus können Listen in einem Programmlauf wachsen, während in z.B. in C die Größe eines Arrays zur Kompilierungszeit festgelegt werden muss.\n",
    "\n",
    "Im Allgemeinen ist eine Liste eine Sammlung von Objekten. Genauer gesagt: Eine Liste in Python ist eine geordnete Gruppe von Elementen oder Elementen. Es ist wichtig zu beachten, dass diese Listenelemente nicht vom gleichen Typ sein müssen. Es kann eine beliebige Mischung von Elementen wie Zahlen, Zeichenfolgen, anderen Listen usw. sein. Der Listentyp ist für Python-Skripte und -Programme unerlässlich. Mit anderen Worten, Sie werden ohne Liste kaum ernsthaften Python-Code finden.\n",
    "\n",
    "### Die Haupteigenschaften von Python-Listen:<br>\n",
    "<b>\n",
    "    • Sie sind geordnet.<br>\n",
    "    • Sie enthalten beliebige Objekte.<br>\n",
    "    • Auf Elemente einer Liste kann über einen Index zugegriffen werden.<br>\n",
    "    • Sie können beliebig verschachtelt werden. Sie können andere Listen als Unterlisten enthalten.<br>\n",
    "    • Variable Größe<br>\n",
    "    • Sie sind veränderlich. Die Elemente einer Liste können geändert werden.<br>\n",
    "</b><br>\n",
    "\n",
    "Listenobjekte werden in eckige Klammern eingeschlossen und durch Kommata getrennt. Die folgende Tabelle enthält einige Beispiele für Listen:\n",
    "\n",
    "<table\n",
    "style=\"text-align: left; width: 60%; background-color: rgb(255, 255, 102);\"\n",
    "border=\"1\" cellpadding=\"2\" cellspacing=\"2\">\n",
    "<tbody>\n",
    "<tr>\n",
    "<th style=\"vertical-align: top;\">Listen\n",
    "</th>\n",
    "<th style=\"vertical-align: top;\">Beschreibung\n",
    "</th>\n",
    "</tr>\n",
    "\n",
    "<tr>\n",
    "<td style=\"vertical-align: top;\"><FONT FACE=\"Courier 10 Pitch\">[]</FONT></td>\n",
    "<td style=\"vertical-align: top;\">Eine leere Liste</td>\n",
    "</tr>\n",
    "\n",
    "<tr>\n",
    "<td style=\"vertical-align: top;\"><FONT FACE=\"Courier 10 Pitch\">[1, 1, 2, 3, 5, 8]</FONT></td>\n",
    "<td style=\"vertical-align: top;\">Eine Liste mit ganzen Zahlen</td>\n",
    "</tr>\n",
    "\n",
    "<tr>\n",
    "<td style=\"vertical-align: top;\"><FONT FACE=\"Courier 10 Pitch\">[42, \"What's the question?\", 3.1415]</FONT></td>\n",
    "<td style=\"vertical-align: top;\">Eine Liste mit gemischten Datentypen</td>\n",
    "</tr>\n",
    "\n",
    "<tr>\n",
    "<td style=\"vertical-align: top;\"><FONT FACE=\"Courier 10 Pitch\">\n",
    "[\"Stuttgart\", \"Freiburg\", \"München\", \"Nürnberg\", \"Würzburg\", \"Ulm\", \"Friedrichshafen\", \"Zürich\", \"Wien\"]</FONT></td>\n",
    "<td style=\"vertical-align: top;\">Eine Liste von Strings</td>\n",
    "</tr>\n",
    "\n",
    "<tr>\n",
    "<td style=\"vertical-align: top;\"><FONT FACE=\"Courier 10 Pitch\">\n",
    "[[\"London\", \"England\", 7556900], [\"Paris\", \"France\",2193031],  [\"Bern\", \"Switzerland\", 123466]]\n",
    "</FONT></td>\n",
    "<td style=\"vertical-align: top;\">Eine verschachtelte Liste</td>\n",
    "</tr>\n",
    "\n",
    "<tr>\n",
    "<td style=\"vertical-align: top;\"><FONT FACE=\"Courier 10 Pitch\">[\"Oberste Ebene\", [\"Ein Level runter\", \n",
    "[\"noch tiefer\", [\"und tiefer\", 42]]]]</FONT></td>\n",
    "<td style=\"vertical-align: top;\">Eine tief verschachtelte Liste</td>\n",
    "</tr>\n",
    "\n",
    "</tbody>\n",
    "</table>"
   ]
  },
  {
   "cell_type": "markdown",
   "metadata": {},
   "source": [
    "#### Zugriff auf Listenelemente\n",
    "Zuweisen einer Liste zu einer Variablen:"
   ]
  },
  {
   "cell_type": "markdown",
   "metadata": {},
   "source": [
    "<pre>\n",
    "Sprachen = [\"Python\", \"C\", \"C++\", \"Java\", \"Perl\"]\n",
    "</pre>"
   ]
  },
  {
   "cell_type": "markdown",
   "metadata": {},
   "source": [
    "Es gibt verschiedene Möglichkeiten, auf die Elemente einer Liste zuzugreifen. Der wahrscheinlich einfachste Weg für C-Programmierer sind Indizes. Die Nummern der Listen werden beginnend mit 0 aufgelistet:"
   ]
  },
  {
   "cell_type": "code",
   "execution_count": 9,
   "metadata": {},
   "outputs": [
    {
     "name": "stdout",
     "output_type": "stream",
     "text": [
      "Python und C sind unterschiedlich!\n",
      "Zugriff auf das letzte Element der Liste: Perl\n"
     ]
    }
   ],
   "source": [
    "Sprachen = [\"Python\", \"C\", \"C++\", \"Java\", \"Perl\"]\n",
    "print(Sprachen[0] + \" und \" + Sprachen[1] + \" sind unterschiedlich!\") \n",
    "print(\"Zugriff auf das letzte Element der Liste: \" + Sprachen[-1]) "
   ]
  },
  {
   "cell_type": "markdown",
   "metadata": {},
   "source": [
    "Das vorherige Beispiel einer Liste war eine Liste mit Elementen gleichen Datentyps. Wie wir bereits gesehen haben, können Listen verschiedene Datentypen haben, wie im folgenden Beispiel gezeigt:"
   ]
  },
  {
   "cell_type": "markdown",
   "metadata": {},
   "source": [
    "<pre>\n",
    "Gruppe = [\"Bob\", 23, \"George\", 72, \"Myriam\", 29]\n",
    "</pre>"
   ]
  },
  {
   "cell_type": "markdown",
   "metadata": {},
   "source": [
    "### Unterlisten\n",
    "Listen können Unterlisten als Elemente enthalten. Diese Unterlisten können auch Unterlisten enthalten, d. H. Listen können durch Unterlistenstrukturen rekursiv erstellt werden."
   ]
  },
  {
   "cell_type": "code",
   "execution_count": 2,
   "metadata": {},
   "outputs": [
    {
     "name": "stdout",
     "output_type": "stream",
     "text": [
      "['Marc', 'Mayer']\n"
     ]
    }
   ],
   "source": [
    "Person = [[\"Marc\", \"Mayer\"], [\"17, Oxford Str\", \"12345\", \"London\"], \"07876-7876\"]\n",
    "Name = Person[0] #slicing Index bezieht sich auf die entsprechende Ebene s.u.\n",
    "print(Name)"
   ]
  },
  {
   "cell_type": "code",
   "execution_count": 3,
   "metadata": {},
   "outputs": [
    {
     "name": "stdout",
     "output_type": "stream",
     "text": [
      "Marc\n",
      "Marc\n"
     ]
    }
   ],
   "source": [
    "print(Name[0]) # von oben übernommen\n",
    "Vor_name = Person[0][0]\n",
    "print(Vor_name)"
   ]
  },
  {
   "cell_type": "code",
   "execution_count": 12,
   "metadata": {},
   "outputs": [
    {
     "name": "stdout",
     "output_type": "stream",
     "text": [
      "Mayer\n"
     ]
    }
   ],
   "source": [
    "Nach_name = Person[0][1]\n",
    "print(Nach_name)"
   ]
  },
  {
   "cell_type": "code",
   "execution_count": 19,
   "metadata": {},
   "outputs": [
    {
     "data": {
      "text/plain": [
       "'London'"
      ]
     },
     "execution_count": 19,
     "metadata": {},
     "output_type": "execute_result"
    }
   ],
   "source": [
    "Person[1][2]"
   ]
  },
  {
   "cell_type": "code",
   "execution_count": 13,
   "metadata": {},
   "outputs": [
    {
     "name": "stdout",
     "output_type": "stream",
     "text": [
      "17, Oxford Str\n"
     ]
    }
   ],
   "source": [
    "Adresse = Person[1]\n",
    "Straße = Person[1][0]\n",
    "print(Straße)"
   ]
  },
  {
   "cell_type": "markdown",
   "metadata": {},
   "source": [
    "Das nächste Beispiel zeigt eine komplexere Liste mit einer tief strukturierten Liste:"
   ]
  },
  {
   "cell_type": "code",
   "execution_count": 25,
   "metadata": {},
   "outputs": [
    {
     "name": "stdout",
     "output_type": "stream",
     "text": [
      "['a', ['b', ['c', 'x']]]\n",
      "['b', ['c', 'x']]\n",
      "b\n"
     ]
    }
   ],
   "source": [
    "komplexe_Liste = [[\"a\", [\"b\", [\"c\", \"x\"]]]]\n",
    "komplexe_Liste = [[\"a\", [\"b\", [\"c\", \"x\"]]], 42]\n",
    "print(komplexe_Liste[0])\n",
    "print(komplexe_Liste[0][1])\n",
    "print(komplexe_Liste[0][1][0])"
   ]
  },
  {
   "cell_type": "code",
   "execution_count": 15,
   "metadata": {},
   "outputs": [
    {
     "data": {
      "text/plain": [
       "'c'"
      ]
     },
     "execution_count": 15,
     "metadata": {},
     "output_type": "execute_result"
    }
   ],
   "source": [
    "komplexe_Liste[0][1][1][0]"
   ]
  },
  {
   "cell_type": "markdown",
   "metadata": {},
   "source": [
    "### Listen ändern"
   ]
  },
  {
   "cell_type": "code",
   "execution_count": 4,
   "metadata": {},
   "outputs": [
    {
     "ename": "IndexError",
     "evalue": "list assignment index out of range",
     "output_type": "error",
     "traceback": [
      "\u001b[1;31m---------------------------------------------------------------------------\u001b[0m",
      "\u001b[1;31mIndexError\u001b[0m                                Traceback (most recent call last)",
      "\u001b[1;32m<ipython-input-4-b271a30b1e6e>\u001b[0m in \u001b[0;36m<module>\u001b[1;34m\u001b[0m\n\u001b[0;32m      1\u001b[0m \u001b[0mSprachen\u001b[0m \u001b[1;33m=\u001b[0m \u001b[1;33m[\u001b[0m\u001b[1;34m\"Python\"\u001b[0m\u001b[1;33m,\u001b[0m \u001b[1;34m\"C\"\u001b[0m\u001b[1;33m,\u001b[0m \u001b[1;34m\"C++\"\u001b[0m\u001b[1;33m,\u001b[0m \u001b[1;34m\"Java\"\u001b[0m\u001b[1;33m,\u001b[0m \u001b[1;34m\"Perl\"\u001b[0m\u001b[1;33m]\u001b[0m\u001b[1;33m\u001b[0m\u001b[1;33m\u001b[0m\u001b[0m\n\u001b[0;32m      2\u001b[0m \u001b[0mSprachen\u001b[0m\u001b[1;33m[\u001b[0m\u001b[1;36m4\u001b[0m\u001b[1;33m]\u001b[0m \u001b[1;33m=\u001b[0m \u001b[1;34m\"Lisp\"\u001b[0m\u001b[1;33m\u001b[0m\u001b[1;33m\u001b[0m\u001b[0m\n\u001b[1;32m----> 3\u001b[1;33m \u001b[0mSprachen\u001b[0m\u001b[1;33m[\u001b[0m\u001b[1;36m5\u001b[0m\u001b[1;33m]\u001b[0m \u001b[1;33m=\u001b[0m\u001b[1;34m\"W\"\u001b[0m\u001b[1;33m\u001b[0m\u001b[1;33m\u001b[0m\u001b[0m\n\u001b[0m\u001b[0;32m      4\u001b[0m \u001b[0mSprachen\u001b[0m\u001b[1;33m\u001b[0m\u001b[1;33m\u001b[0m\u001b[0m\n",
      "\u001b[1;31mIndexError\u001b[0m: list assignment index out of range"
     ]
    }
   ],
   "source": [
    "Sprachen = [\"Python\", \"C\", \"C++\", \"Java\", \"Perl\"]\n",
    "Sprachen[4] = \"Lisp\"\n",
    "#Sprachen[5] =\"W\"\n",
    "Sprachen"
   ]
  },
  {
   "cell_type": "code",
   "execution_count": 28,
   "metadata": {},
   "outputs": [
    {
     "data": {
      "text/plain": [
       "['Python', 'C', 'C++', 'Java', 'Lisp', 'Haskell']"
      ]
     },
     "execution_count": 28,
     "metadata": {},
     "output_type": "execute_result"
    }
   ],
   "source": [
    "Sprachen.append(\"Haskell\") #Methoden\n",
    "Sprachen"
   ]
  },
  {
   "cell_type": "code",
   "execution_count": 41,
   "metadata": {},
   "outputs": [
    {
     "name": "stdout",
     "output_type": "stream",
     "text": [
      "['Python', 'Perl', 'C', 'C++', 'Java', 'Lisp']\n",
      "['Python', 'Perl', 'bla', 'C', 'C++', 'Java', 'Lisp']\n"
     ]
    }
   ],
   "source": [
    "Sprachen.insert(1, \"Perl\")\n",
    "print(Sprachen)\n",
    "def schreib_rein(l,pos,what):\n",
    "    l.insert(pos,what)\n",
    "    return l\n",
    "neue_liste=schreib_rein(Sprachen,2,\"bla\")\n",
    "print(neue_liste)"
   ]
  },
  {
   "cell_type": "code",
   "execution_count": 19,
   "metadata": {},
   "outputs": [],
   "source": [
    "Einkaufsliste = ['Milch', 'Joghurt', 'Ei', 'Butter', 'Brot', 'Bananen']"
   ]
  },
  {
   "cell_type": "markdown",
   "metadata": {},
   "source": [
    "Wir gehen in einen virtuellen Supermarkt. Holen Sie sich einen Einkaufswagen und beginnen Sie mit dem Einkauf:"
   ]
  },
  {
   "cell_type": "code",
   "execution_count": 20,
   "metadata": {},
   "outputs": [
    {
     "name": "stdout",
     "output_type": "stream",
     "text": [
      "Bananen ['Milch', 'Joghurt', 'Ei', 'Butter', 'Brot']\n",
      "['Bananen']\n",
      "shopping_list: ['Milch', 'Joghurt', 'Ei', 'Butter']\n",
      "cart:  ['Bananen', 'Brot']\n"
     ]
    }
   ],
   "source": [
    "Einkaufsliste  = ['Milch', 'Joghurt', 'Ei', 'Butter', 'Brot', 'Bananen']\n",
    "Einkaufswagen = []\n",
    "#  \"pop()\"\" Entfernt das letzte Element der Liste und gibt es zurück\n",
    "Artikel = Einkaufsliste.pop()  \n",
    "print(Artikel, Einkaufsliste)\n",
    "Einkaufswagen.append(Artikel)\n",
    "print(Einkaufswagen)\n",
    "\n",
    "# wir machen so weiter:\n",
    "Artikel  = Einkaufsliste.pop()  \n",
    "print(\"shopping_list:\", Einkaufsliste)\n",
    "Einkaufswagen.append(Artikel)\n",
    "print(\"cart: \", Einkaufswagen)"
   ]
  },
  {
   "cell_type": "markdown",
   "metadata": {},
   "source": [
    "Mit einer while-Schleife:"
   ]
  },
  {
   "cell_type": "code",
   "execution_count": 22,
   "metadata": {},
   "outputs": [
    {
     "name": "stdout",
     "output_type": "stream",
     "text": [
      "bananas ['milk', 'yoghurt', 'egg', 'butter', 'bread'] ['bananas']\n",
      "bread ['milk', 'yoghurt', 'egg', 'butter'] ['bananas', 'bread']\n",
      "butter ['milk', 'yoghurt', 'egg'] ['bananas', 'bread', 'butter']\n",
      "egg ['milk', 'yoghurt'] ['bananas', 'bread', 'butter', 'egg']\n",
      "yoghurt ['milk'] ['bananas', 'bread', 'butter', 'egg', 'yoghurt']\n",
      "milk [] ['bananas', 'bread', 'butter', 'egg', 'yoghurt', 'milk']\n",
      "Einkaufsliste:  []\n",
      "Einkaufswagen:  ['bananas', 'bread', 'butter', 'egg', 'yoghurt', 'milk']\n"
     ]
    }
   ],
   "source": [
    "Einkaufsliste = ['milk', 'yoghurt', 'egg', 'butter', 'bread', 'bananas']\n",
    "Einkaufswagen = []\n",
    "while Einkaufsliste != []:\n",
    "    Artikel = Einkaufsliste.pop()  \n",
    "    Einkaufswagen.append(Artikel)\n",
    "    print(Artikel, Einkaufsliste, Einkaufswagen)\n",
    "\n",
    "print(\"Einkaufsliste: \", Einkaufsliste)\n",
    "print(\"Einkaufswagen: \", Einkaufswagen)"
   ]
  },
  {
   "cell_type": "markdown",
   "metadata": {},
   "source": [
    "### Tupel\n",
    "Ein Tupel ist eine unveränderliche Liste, d. H. Ein Tupel kann nach seiner Erstellung in keiner Weise geändert werden. Ein Tupel wird analog zu Listen definiert, mit der Ausnahme, dass die Elementmenge in Klammern anstelle von eckigen Klammern steht. Die Regeln für Indizes sind dieselben wie für Listen. Sobald ein Tupel erstellt wurde, können Sie einem Tupel keine Elemente hinzufügen oder Elemente aus einem Tupel entfernen.\n",
    "\n",
    "Wo ist der Nutzen von Tupeln?\n",
    "\n",
    "     • Tupel sind schneller als Listen.\n",
    "     • Wenn Sie wissen, dass einige Daten nicht geändert werden müssen, sollten Sie Tupel anstelle \n",
    "     von Listen verwenden, da dies Ihre Daten vor versehentlichen Änderungen schützt.\n",
    "     • Der Hauptvorteil von Tupeln besteht darin, dass Tupel als Schlüssel in Wörterbüchern verwendet werden können, Listen jedoch nicht.Dazu später mehr.\n",
    "\n",
    "Das folgende Beispiel zeigt, wie Sie ein Tupel definieren und auf ein Tupel zugreifen. Außerdem können wir sehen, dass wir einen Fehler auslösen, wenn wir versuchen, einem Element eines Tupels einen neuen Wert zuzuweisen:"
   ]
  },
  {
   "cell_type": "code",
   "execution_count": 23,
   "metadata": {},
   "outputs": [
    {
     "data": {
      "text/plain": [
       "'Tupels'"
      ]
     },
     "execution_count": 23,
     "metadata": {},
     "output_type": "execute_result"
    }
   ],
   "source": [
    "t = (\"Tupels\", \"sind\", \"unveränderlich\")\n",
    "t[0]"
   ]
  },
  {
   "cell_type": "code",
   "execution_count": 24,
   "metadata": {},
   "outputs": [
    {
     "ename": "TypeError",
     "evalue": "'tuple' object does not support item assignment",
     "output_type": "error",
     "traceback": [
      "\u001b[1;31m---------------------------------------------------------------------------\u001b[0m",
      "\u001b[1;31mTypeError\u001b[0m                                 Traceback (most recent call last)",
      "\u001b[1;32m<ipython-input-24-055c11c313f3>\u001b[0m in \u001b[0;36m<module>\u001b[1;34m\u001b[0m\n\u001b[1;32m----> 1\u001b[1;33m \u001b[0mt\u001b[0m\u001b[1;33m[\u001b[0m\u001b[1;36m0\u001b[0m\u001b[1;33m]\u001b[0m \u001b[1;33m=\u001b[0m \u001b[1;34m\"Zuordnungen zu Elementen sind nicht möglich\"\u001b[0m\u001b[1;33m\u001b[0m\u001b[1;33m\u001b[0m\u001b[0m\n\u001b[0m",
      "\u001b[1;31mTypeError\u001b[0m: 'tuple' object does not support item assignment"
     ]
    }
   ],
   "source": [
    "t[0] = \"Zuordnungen zu Elementen sind nicht möglich\""
   ]
  },
  {
   "cell_type": "markdown",
   "metadata": {},
   "source": [
    "### Ausschneiden / Slicing\n",
    "\n",
    "In vielen Programmiersprachen kann es ziemlich schwierig sein, einen Teil eines Strings zu schneiden, und noch schwieriger, wenn Sie ein \"Subarray\" ansprechen möchten. Python macht es mit seinem Slice-Operator sehr einfach. Slicing wird häufig in anderen Sprachen als Funktion mit möglichen Namen wie \"Teilstring\", \"gstr\" oder \"substr\" implementiert.\n",
    "\n",
    "Jedes Mal, wenn Sie einen Teil eines Strings oder einer Liste in Python extrahieren möchten, sollten Sie den Slice-Operator verwenden. Die Syntax ist einfach. Eigentlich sieht es ein bisschen so aus, als würde man auf ein einzelnes Element mit einem Index zugreifen, aber statt nur einer Zahl haben wir mehr, getrennt durch einen Doppelpunkt \":\". Wir haben einen Start- und einen Endindex, einer oder beide fehlen möglicherweise. Es ist am besten, die Funktionsweise von Slice anhand von Beispielen zu untersuchen:"
   ]
  },
  {
   "cell_type": "code",
   "execution_count": 25,
   "metadata": {},
   "outputs": [
    {
     "data": {
      "text/plain": [
       "'Pytho'"
      ]
     },
     "execution_count": 25,
     "metadata": {},
     "output_type": "execute_result"
    }
   ],
   "source": [
    "Slogan = \"Python ist großartig\"\n",
    "erste_fünf = Slogan[0:5]\n",
    "erste_fünf"
   ]
  },
  {
   "cell_type": "code",
   "execution_count": 26,
   "metadata": {},
   "outputs": [
    {
     "data": {
      "text/plain": [
       "'n ist großartig'"
      ]
     },
     "execution_count": 26,
     "metadata": {},
     "output_type": "execute_result"
    }
   ],
   "source": [
    "ab_fünf = Slogan[5:]\n",
    "ab_fünf"
   ]
  },
  {
   "cell_type": "code",
   "execution_count": 27,
   "metadata": {},
   "outputs": [
    {
     "data": {
      "text/plain": [
       "'Python ist groß'"
      ]
     },
     "execution_count": 27,
     "metadata": {},
     "output_type": "execute_result"
    }
   ],
   "source": [
    "eine_Kopie = Slogan[:]\n",
    "ohne_letzte_fünf = Slogan[0:-5]\n",
    "ohne_letzte_fünf"
   ]
  },
  {
   "cell_type": "markdown",
   "metadata": {},
   "source": [
    "Syntaktisch gibt es keinen Unterschied bei Listen. Wir werden mit europäischen Städtenamen zu unserem vorherigen Beispiel zurückkehren:"
   ]
  },
  {
   "cell_type": "code",
   "execution_count": 28,
   "metadata": {},
   "outputs": [
    {
     "name": "stdout",
     "output_type": "stream",
     "text": [
      "['Wien', 'London', 'Paris']\n"
     ]
    }
   ],
   "source": [
    "Städte = [\"Wien\", \"London\", \"Paris\", \"Berlin\", \"Zürich\", \"Hamburg\"]\n",
    "erste_drei = Städte[0:3]\n",
    "# oder einfacher:\n",
    "\n",
    "erste_drei = Städte[:3]\n",
    "print(erste_drei)"
   ]
  },
  {
   "cell_type": "markdown",
   "metadata": {},
   "source": [
    "Jetzt extrahieren wir alle Städte außer den letzten beiden, \"Zürich\" und \"Hamburg\":"
   ]
  },
  {
   "cell_type": "code",
   "execution_count": 29,
   "metadata": {},
   "outputs": [
    {
     "name": "stdout",
     "output_type": "stream",
     "text": [
      "['Wien', 'London', 'Paris', 'Berlin']\n"
     ]
    }
   ],
   "source": [
    "alles_außer_letzte_zwei = Städte[:-2]\n",
    "print(alles_außer_letzte_zwei)"
   ]
  },
  {
   "cell_type": "markdown",
   "metadata": {},
   "source": [
    "Das Schneiden funktioniert auch mit drei Argumenten. Wenn das dritte Argument beispielsweise 3 ist, wird nur jedes dritte Element der Liste, Zeichenfolge oder Tupel aus dem Bereich der ersten beiden Argumente verwendet.\n",
    "\n",
    "Wenn s ein sequentieller Datentyp ist, funktioniert dies folgendermaßen:"
   ]
  },
  {
   "cell_type": "markdown",
   "metadata": {},
   "source": [
    "<pre> s [Anfang: Ende: Schritt] </pre>"
   ]
  },
  {
   "cell_type": "markdown",
   "metadata": {},
   "source": [
    "Die resultierende Sequenz besteht aus folgenden Elementen:"
   ]
  },
  {
   "cell_type": "markdown",
   "metadata": {},
   "source": [
    "<pre> s[Anfang], s[Anfang + 1 * Schritt], ... s[Anfang + i * Schritt] für alle (Anfang + i * Schritt) < end. </pre>"
   ]
  },
  {
   "cell_type": "markdown",
   "metadata": {},
   "source": [
    "Im folgenden Beispiel definieren wir eine Zeichenfolge und drucken jedes dritte Zeichen dieser Zeichenfolge:"
   ]
  },
  {
   "cell_type": "code",
   "execution_count": 30,
   "metadata": {},
   "outputs": [
    {
     "data": {
      "text/plain": [
       "'Ph t n trai'"
      ]
     },
     "execution_count": 30,
     "metadata": {},
     "output_type": "execute_result"
    }
   ],
   "source": [
    "Slogan = \"Python unter Linux ist großartig\"\n",
    "Slogan[::3]"
   ]
  },
  {
   "cell_type": "markdown",
   "metadata": {},
   "source": [
    "Die folgende Zeichenfolge, die wie ein Buchstabensalat aussieht, enthält zwei Sätze. Eine davon enthält verdeckte Werbung für meine Python-Kurse in Kanada:"
   ]
  },
  {
   "cell_type": "markdown",
   "metadata": {},
   "source": [
    "<pre> \"TPoyrtohnotno  ciosu rtshees  lianr gTeosrto nCtiot yb yi nB oCdaennasdeao\"  </pre> "
   ]
  },
  {
   "cell_type": "markdown",
   "metadata": {},
   "source": [
    "Versuchen Sie, den versteckten Satz mit Slicing herauszufinden. Die Lösung besteht aus 2 Schritten!"
   ]
  },
  {
   "cell_type": "markdown",
   "metadata": {},
   "source": [
    "\n",
    "\n",
    "\n",
    "\n",
    "\n",
    "\n",
    "\n",
    "\n",
    "\n",
    "\n",
    "\n",
    "\n",
    "\n",
    "\n",
    "\n",
    "\n",
    "\n",
    "\n",
    "\n",
    "\n",
    "\n",
    "\n",
    "\n",
    "\n",
    "\n",
    "\n",
    "\n",
    "\n",
    "\n",
    "\n",
    "\n",
    "\n",
    "\n",
    "\n",
    "\n",
    "\n",
    "\n",
    "\n",
    "\n",
    "\n",
    "\n",
    "\n",
    "\n",
    "\n",
    "\n",
    "\n",
    "\n",
    "\n",
    "\n",
    "\n",
    "\n",
    "\n",
    "\n",
    "\n",
    "\n",
    "\n",
    "\n",
    "\n",
    "\n",
    "\n",
    "\n",
    "\n",
    "\n"
   ]
  },
  {
   "cell_type": "markdown",
   "metadata": {},
   "source": [
    "\n",
    "\n",
    "\n",
    "\n",
    "\n",
    "\n",
    "\n",
    "\n",
    "\n",
    "\n",
    "\n",
    "\n",
    "\n",
    "\n",
    "\n",
    "\n",
    "\n",
    "\n",
    "\n",
    "\n",
    "\n",
    "\n",
    "\n",
    "\n",
    "\n",
    "\n",
    "\n",
    "\n",
    "\n",
    "\n",
    "\n",
    "\n",
    "\n",
    "\n",
    "\n",
    "\n",
    "\n",
    "\n",
    "\n",
    "\n",
    "\n",
    "\n",
    "\n",
    "\n",
    "\n",
    "\n",
    "\n",
    "\n",
    "\n",
    "\n",
    "\n",
    "\n",
    "\n",
    "\n",
    "\n",
    "\n",
    "\n",
    "\n",
    "\n",
    "\n"
   ]
  },
  {
   "cell_type": "code",
   "execution_count": 15,
   "metadata": {},
   "outputs": [
    {
     "name": "stdout",
     "output_type": "stream",
     "text": [
      "TPoyrtohnotno  ciosu rtshees  lianr gTeosrto nCtiot yb yi nB oCdaennasdeao\n"
     ]
    }
   ],
   "source": [
    "s = \"TPoyrtohnotno  ciosu rtshees  lianr gTeosrto nCtiot yb yi nB oCdaennasdeao\"\n",
    "print(s)"
   ]
  },
  {
   "cell_type": "code",
   "execution_count": 16,
   "metadata": {},
   "outputs": [
    {
     "data": {
      "text/plain": [
       "'Toronto is the largest City in Canada'"
      ]
     },
     "execution_count": 16,
     "metadata": {},
     "output_type": "execute_result"
    }
   ],
   "source": [
    "s[::2]"
   ]
  },
  {
   "cell_type": "code",
   "execution_count": 17,
   "metadata": {},
   "outputs": [
    {
     "data": {
      "text/plain": [
       "'Python courses in Toronto by Bodenseo'"
      ]
     },
     "execution_count": 17,
     "metadata": {},
     "output_type": "execute_result"
    }
   ],
   "source": [
    "s[1::2]"
   ]
  },
  {
   "cell_type": "markdown",
   "metadata": {},
   "source": [
    "Vielleicht interessiert Sie auch, wie wir den String erstellt haben. Sie müssen das Listenverständnis verstehen, um Folgendes zu verstehen:"
   ]
  },
  {
   "cell_type": "code",
   "execution_count": 18,
   "metadata": {},
   "outputs": [
    {
     "data": {
      "text/plain": [
       "'TPoyrtohnotno  ciosu rtshees  lianr gTeosrto nCtiot yb yi nB oCdaennasdeao'"
      ]
     },
     "execution_count": 18,
     "metadata": {},
     "output_type": "execute_result"
    }
   ],
   "source": [
    "s = \"Toronto is the largest City in Canada\"\n",
    "t = \"Python courses in Toronto by Bodenseo\"\n",
    "s = \"\".join([\"\".join(x) for x in zip(s,t)])\n",
    "s"
   ]
  },
  {
   "cell_type": "markdown",
   "metadata": {},
   "source": [
    "### Länge\n",
    "\n",
    "<img width=100 height=100 class=\"imgleft\" src=\"../images/metermass.webp\" alt=\"Meter\" />\n",
    "\n",
    "Die Länge einer Sequenz, d. H. Einer Liste, eines Strings oder eines Tupels, kann mit der Funktion len () bestimmt werden. Bei Zeichenfolgen wird die Anzahl der Zeichen und bei Listen oder Tupeln die Anzahl der Elemente gezählt, während eine Unterliste als ein Element zählt."
   ]
  },
  {
   "cell_type": "code",
   "execution_count": 31,
   "metadata": {},
   "outputs": [
    {
     "data": {
      "text/plain": [
       "10"
      ]
     },
     "execution_count": 31,
     "metadata": {},
     "output_type": "execute_result"
    }
   ],
   "source": [
    "txt = \"Hallo Welt\"\n",
    "len(txt)"
   ]
  },
  {
   "cell_type": "code",
   "execution_count": 20,
   "metadata": {},
   "outputs": [
    {
     "data": {
      "text/plain": [
       "4"
      ]
     },
     "execution_count": 20,
     "metadata": {},
     "output_type": "execute_result"
    }
   ],
   "source": [
    "a = [\"Swen\", 45, 3.54, \"Basel\"]\n",
    "len(a)"
   ]
  },
  {
   "cell_type": "markdown",
   "metadata": {},
   "source": [
    "### Verkettung von Sequenzen\n",
    "Das Kombinieren von zwei Sequenzen wie Zeichenfolgen oder Listen ist so einfach wie das Addieren von zwei Zahlen. Sogar das Bedienerzeichen ist das gleiche.\n",
    "Das folgende Beispiel zeigt, wie zwei Zeichenfolgen zu einer verkettet werden:"
   ]
  },
  {
   "cell_type": "code",
   "execution_count": 32,
   "metadata": {},
   "outputs": [
    {
     "name": "stdout",
     "output_type": "stream",
     "text": [
      "Homer Simpson\n"
     ]
    }
   ],
   "source": [
    "Vorname = \"Homer\"\n",
    "Nachname = \"Simpson\"\n",
    "Name = Vorname + \" \" + Nachname\n",
    "print(Name) "
   ]
  },
  {
   "cell_type": "markdown",
   "metadata": {},
   "source": [
    "So einfach ist das für Listen:"
   ]
  },
  {
   "cell_type": "code",
   "execution_count": 33,
   "metadata": {},
   "outputs": [
    {
     "name": "stdout",
     "output_type": "stream",
     "text": [
      "['rot', 'grün', 'blau', 'schwarz', 'weiß']\n"
     ]
    }
   ],
   "source": [
    "Farben1 = [\"rot\", \"grün\",\"blau\"]\n",
    "Farben2 = [\"schwarz\", \"weiß\"]\n",
    "Farben = Farben1 + Farben2\n",
    "print(Farben)"
   ]
  },
  {
   "cell_type": "markdown",
   "metadata": {},
   "source": [
    "Die erweiterte Zuordnung \"+ =\", die für arithmetische Zuweisungen bekannt ist, funktioniert auch für Sequenzen.\n",
    "\n",
    "s + = t\n",
    "\n",
    "ist syntaktisch dasselbe wie:\n",
    "\n",
    "s = s + t\n",
    "\n",
    "Aber es ist nur syntaktisch dasselbe. Die Implementierung ist anders: Im ersten Fall muss die linke Seite nur einmal ausgewertet werden. Augment-Zuweisungen können als Optimierung für veränderbare Objekte angewendet werden.\n",
    "\n",
    "### Überprüfen, ob ein Element in der Liste enthalten ist\n",
    "\n",
    "Es ist einfach zu überprüfen, ob ein Element in einer Sequenz enthalten ist. Zu diesem Zweck können wir den Operator \"in\" oder \"not in\" verwenden.\n",
    "Das folgende Beispiel zeigt, wie dieser Operator angewendet werden kann:"
   ]
  },
  {
   "cell_type": "code",
   "execution_count": 23,
   "metadata": {},
   "outputs": [
    {
     "data": {
      "text/plain": [
       "True"
      ]
     },
     "execution_count": 23,
     "metadata": {},
     "output_type": "execute_result"
    }
   ],
   "source": [
    "abc = [\"a\",\"b\",\"c\",\"d\",\"e\"]\n",
    "\"a\" in abc"
   ]
  },
  {
   "cell_type": "code",
   "execution_count": 24,
   "metadata": {},
   "outputs": [
    {
     "data": {
      "text/plain": [
       "False"
      ]
     },
     "execution_count": 24,
     "metadata": {},
     "output_type": "execute_result"
    }
   ],
   "source": [
    "\"a\" not in abc"
   ]
  },
  {
   "cell_type": "code",
   "execution_count": 25,
   "metadata": {},
   "outputs": [
    {
     "data": {
      "text/plain": [
       "False"
      ]
     },
     "execution_count": 25,
     "metadata": {},
     "output_type": "execute_result"
    }
   ],
   "source": [
    "\"e\" not in abc"
   ]
  },
  {
   "cell_type": "code",
   "execution_count": 26,
   "metadata": {},
   "outputs": [
    {
     "data": {
      "text/plain": [
       "True"
      ]
     },
     "execution_count": 26,
     "metadata": {},
     "output_type": "execute_result"
    }
   ],
   "source": [
    "\"f\" not in abc"
   ]
  },
  {
   "cell_type": "code",
   "execution_count": 35,
   "metadata": {},
   "outputs": [
    {
     "data": {
      "text/plain": [
       "True"
      ]
     },
     "execution_count": 35,
     "metadata": {},
     "output_type": "execute_result"
    }
   ],
   "source": [
    "Slogan = \"Python ist einfach!\"\n",
    "\"y\" in Slogan"
   ]
  },
  {
   "cell_type": "code",
   "execution_count": 37,
   "metadata": {},
   "outputs": [
    {
     "data": {
      "text/plain": [
       "False"
      ]
     },
     "execution_count": 37,
     "metadata": {},
     "output_type": "execute_result"
    }
   ],
   "source": [
    "\"x\" in Slogan"
   ]
  },
  {
   "cell_type": "markdown",
   "metadata": {},
   "source": [
    "### Wiederholungen\n",
    "\n",
    "Bisher hatten wir einen \"+\" - Operator für Sequenzen. Es ist auch ein \"&#8727;\" - Operator verfügbar. Natürlich ist keine \"Multiplikation\" zwischen zwei Sequenzen möglich. \"*\" ist für eine Sequenz und eine ganze Zahl definiert, d. h. \"s &#8727; n\" oder \"n &#8727; s\".\n",
    "Es ist eine Art Abkürzung für eine n-fache Verkettung, d.h.\n",
    "\n",
    "str &#8727; 4\n",
    "\n",
    "ist das gleiche wie\n",
    "\n",
    "str + str + str + str\n",
    "\n",
    "Weitere Beispiele:"
   ]
  },
  {
   "cell_type": "code",
   "execution_count": 29,
   "metadata": {},
   "outputs": [
    {
     "data": {
      "text/plain": [
       "'xyz-xyz-xyz-'"
      ]
     },
     "execution_count": 29,
     "metadata": {},
     "output_type": "execute_result"
    }
   ],
   "source": [
    "3 * \"xyz-\""
   ]
  },
  {
   "cell_type": "code",
   "execution_count": 30,
   "metadata": {},
   "outputs": [
    {
     "data": {
      "text/plain": [
       "'xyz-xyz-xyz-'"
      ]
     },
     "execution_count": 30,
     "metadata": {},
     "output_type": "execute_result"
    }
   ],
   "source": [
    "\"xyz-\" * 3"
   ]
  },
  {
   "cell_type": "code",
   "execution_count": 31,
   "metadata": {},
   "outputs": [
    {
     "data": {
      "text/plain": [
       "['a', 'b', 'c', 'a', 'b', 'c', 'a', 'b', 'c']"
      ]
     },
     "execution_count": 31,
     "metadata": {},
     "output_type": "execute_result"
    }
   ],
   "source": [
    "3 * [\"a\",\"b\",\"c\"]"
   ]
  },
  {
   "cell_type": "markdown",
   "metadata": {},
   "source": [
    "Die erweiterte Zuordnung für \"&#8727;\" kann ebenfalls verwendet werden:\n",
    "```s *= n``` ist dasselbe wie ```s = s * n```.\n",
    "\n",
    "### Die Fallstricke von Wiederholungen\n",
    "In unseren vorherigen Beispielen haben wir den Wiederholungsoperator auf Zeichenfolgen und flache Listen angewendet. Wir können es auch auf verschachtelte Listen anwenden:"
   ]
  },
  {
   "cell_type": "code",
   "execution_count": 1,
   "metadata": {},
   "outputs": [
    {
     "name": "stdout",
     "output_type": "stream",
     "text": [
      "[['a', 'b', 'c'], ['a', 'b', 'c'], ['a', 'b', 'c'], ['a', 'b', 'c']]\n"
     ]
    },
    {
     "data": {
      "text/plain": [
       "[['a', 'b', 'c'], ['a', 'b', 'c'], ['a', 'b', 'c'], ['a', 'b', 'c']]"
      ]
     },
     "execution_count": 1,
     "metadata": {},
     "output_type": "execute_result"
    }
   ],
   "source": [
    "x = [\"a\",\"b\",\"c\"]\n",
    "y = [x] * 4\n",
    "print([[\"a\",\"b\",\"c\"]]*4)\n",
    "y"
   ]
  },
  {
   "cell_type": "code",
   "execution_count": 33,
   "metadata": {},
   "outputs": [
    {
     "data": {
      "text/plain": [
       "[['p', 'b', 'c'], ['p', 'b', 'c'], ['p', 'b', 'c'], ['p', 'b', 'c']]"
      ]
     },
     "execution_count": 33,
     "metadata": {},
     "output_type": "execute_result"
    }
   ],
   "source": [
    "y[0][0] = \"p\"\n",
    "y"
   ]
  },
  {
   "cell_type": "markdown",
   "metadata": {},
   "source": [
    "<img class=\"imgleft\" src=\"../images/wiederholungen.webp\" alt=\"Repetitions with References\" />\n",
    "\n",
    "Dieses Ergebnis ist für Anfänger der Python-Programmierung ziemlich erstaunlich. Wir haben dem ersten Element der ersten Unterliste von y einen neuen Wert zugewiesen, dh y [0] [0], und wir haben die ersten Elemente aller Unterlisten in y \"automatisch\" geändert, dh y [1] [0]. , y [2] [0], y [3] [0].\n",
    "\n",
    "Der Grund ist, dass der Wiederholungsoperator ```* 4``` 4 Verweise auf die Liste x erstellt: und es ist daher klar, dass jedes Element von y geändert wird, wenn wir einen neuen Wert auf y [0] [0] anwenden."
   ]
  }
 ],
 "metadata": {
  "kernelspec": {
   "display_name": "Python 3",
   "language": "python",
   "name": "python3"
  },
  "language_info": {
   "codemirror_mode": {
    "name": "ipython",
    "version": 3
   },
   "file_extension": ".py",
   "mimetype": "text/x-python",
   "name": "python",
   "nbconvert_exporter": "python",
   "pygments_lexer": "ipython3",
   "version": "3.8.8"
  }
 },
 "nbformat": 4,
 "nbformat_minor": 4
}
