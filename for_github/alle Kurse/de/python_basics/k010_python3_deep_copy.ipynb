{
 "cells": [
  {
   "cell_type": "markdown",
   "metadata": {},
   "source": [
    "## Flache und tiefe Kopie\n",
    "\n",
    "\n",
    "### Einführung\n",
    "\n",
    "<img width = 300 class = \"imgright\" src = \"../images/matrjoschkas.webp\" alt = \"Matrjoschkas\" />\n",
    "\n",
    "In diesem Kapitel werden wir uns mit der Frage befassen, wie Listen und verschachtelte Listen kopiert werden. Die Probleme, auf die wir stoßen werden, sind allgemeine Probleme veränderlicher Datentypen. Der Versuch, Listen zu kopieren, kann für Neulinge eine verblüffende Erfahrung sein. Zuvor möchten wir jedoch einige Erkenntnisse aus dem vorherigen Kapitel [Datentypen und Variablen](https://www.python-kurs.eu/python3_variablen.php) zusammenfassen. Python zeigt sogar ein seltsames Verhalten für die Anfänger der Sprache - im Vergleich zu einigen anderen traditionellen Programmiersprachen - beim Zuweisen und Kopieren einfacher Datentypen wie Ganzzahlen und Zeichenfolgen. Der Unterschied zwischen flachem und tiefem Kopieren ist nur für zusammengesetzte Objekte relevant, d. H. Objekte, die andere Objekte enthalten, wie Listen oder Klasseninstanzen.\n",
    "\n",
    "Im folgenden Codeausschnitt zeigt y auf denselben Speicherort wie X. Wir können dies sehen, indem wir die Funktion id () auf x und y anwenden. Im Gegensatz zu \"echten\" Zeigern wie in C und C ++ ändern sich die Dinge jedoch, wenn wir y einen neuen Wert zuweisen. In diesem Fall erhält y einen separaten Speicherort, wie wir im Kapitel [Datentypen und Variablen](https://www.python-kurs.eu/python3_variablen.php) gesehen haben und im folgenden Beispiel sehen können ::"
   ]
  },
  {
   "cell_type": "code",
   "execution_count": 1,
   "metadata": {},
   "outputs": [
    {
     "name": "stdout",
     "output_type": "stream",
     "text": [
      "140720897565136 140720897565136\n"
     ]
    }
   ],
   "source": [
    "x = 3\n",
    "y = x\n",
    "print(id(x), id(y)) "
   ]
  },
  {
   "cell_type": "code",
   "execution_count": 2,
   "metadata": {},
   "outputs": [
    {
     "name": "stdout",
     "output_type": "stream",
     "text": [
      "140720897565136 140720897565168\n"
     ]
    }
   ],
   "source": [
    "y = 4\n",
    "print(id(x), id(y))"
   ]
  },
  {
   "cell_type": "code",
   "execution_count": 3,
   "metadata": {},
   "outputs": [
    {
     "name": "stdout",
     "output_type": "stream",
     "text": [
      "3 4\n"
     ]
    }
   ],
   "source": [
    "print(x,y)"
   ]
  },
  {
   "cell_type": "markdown",
   "metadata": {},
   "source": [
    "Aber selbst wenn dieses interne Verhalten im Vergleich zu Programmiersprachen wie C, C ++, Perl oder Java seltsam erscheint, sind die beobachtbaren Ergebnisse der vorherigen Zuweisungen das, was wir erwartet haben, d. H. Wenn Sie sich die ID-Werte nicht ansehen. Es kann jedoch problematisch sein, wenn wir veränderbare Objekte wie Listen und Wörterbücher kopieren.\n",
    "\n",
    "Python erstellt nur echte Kopien, wenn dies erforderlich ist, d. H. Wenn der Benutzer, der Programmierer, dies ausdrücklich verlangt.\n",
    "\n",
    "Wir werden Ihnen die wichtigsten Probleme vorstellen, die beim Kopieren veränderlicher Objekte wie Listen und Wörterbücher auftreten können.\n",
    "\n",
    "### Variablen, die ein Objekt gemeinsam nutzen\n",
    "\n",
    "Auf dieser Seite erfahren Sie, wie Sie Objekte, insbesondere Listen, kopieren. Trotzdem müssen Sie Geduld üben. Wir möchten vielen Anfängern etwas zeigen, das wie eine Kopie aussieht, aber nichts mit Kopien zu tun hat."
   ]
  },
  {
   "cell_type": "code",
   "execution_count": 2,
   "metadata": {},
   "outputs": [
    {
     "name": "stdout",
     "output_type": "stream",
     "text": [
      "['red', 'blue'] ['red', 'blue']\n"
     ]
    }
   ],
   "source": [
    "Farben1 = [\"red\", \"blue\"]\n",
    "Farben2 = Farben1\n",
    "print(Farben1, Farben2)"
   ]
  },
  {
   "cell_type": "markdown",
   "metadata": {},
   "source": [
    "Beide Variablen verweisen auf dasselbe Listenobjekt. Wenn wir uns die Identitäten der Variablen ```Farben1``` und ```Farben2``` ansehen, können wir sehen, dass beide Verweise auf dasselbe Objekt sind:"
   ]
  },
  {
   "cell_type": "code",
   "execution_count": 4,
   "metadata": {},
   "outputs": [
    {
     "name": "stdout",
     "output_type": "stream",
     "text": [
      "492090669512 492090669512\n"
     ]
    },
    {
     "data": {
      "text/plain": [
       "True"
      ]
     },
     "execution_count": 4,
     "metadata": {},
     "output_type": "execute_result"
    }
   ],
   "source": [
    "print(id(Farben1), id(Farben2))\n",
    "Farben1 is Farben2"
   ]
  },
  {
   "cell_type": "markdown",
   "metadata": {},
   "source": [
    "Im obigen Beispiel wird Farben1 eine einfache Liste zugewiesen. Diese Liste ist eine sogenannte \"flache Liste\", da sie keine verschachtelte Struktur aufweist, d. H. Keine Unterlisten in der Liste enthalten sind. Im nächsten Schritt weisen wir Farben2 Farben2 zu.\n",
    "\n",
    "Die Funktion id () zeigt uns, dass beide Variablen auf dasselbe Listenobjekt zeigen, d. H. Sie teilen dieses Objekt.\n",
    "\n",
    "<img width = 400 height = 400 class = \"imgright\" src = \"../images/deep_copy_detailed1.webp\" alt = \"Deep Copy Detailed\" />\n",
    "\n",
    "\n",
    "Wir haben zwei Variablennamen ```Farben1``` und ```Farben2```, die wir als gelbe Ovale dargestellt haben. Das blaue Feld symbolisiert das Listenobjekt. Ein Listenobjekt besteht aus Verweisen auf andere Objekte. In unserem Beispiel verweist das Listenobjekt, auf das beide Variablen verweisen, auf zwei Zeichenfolgenobjekte, d. H. \"rot\" und \"blau\".\n",
    "Jetzt müssen wir untersuchen, was passieren wird, wenn wir nur ein Element der Liste von ```Farben``` oder ```Farben1``` ändern.\n",
    "\n",
    "Jetzt wollen wir sehen, was passiert, wenn wir ```Farben2``` ein neues Objekt zuweisen. Wie erwartet bleiben die Werte von ```Farben1``` unverändert. Wie in unserem Beispiel im Kapitel \"[Datentypen und Variablen](https://www.python-course.eu/python3_variables.php)\" wurde ein neuer Speicherort für ```Farben2``` zugewiesen , da wir dieser Variablen eine völlig neue Liste zugewiesen haben, dh ein neues Listenobjekt."
   ]
  },
  {
   "cell_type": "code",
   "execution_count": 13,
   "metadata": {},
   "outputs": [
    {
     "name": "stdout",
     "output_type": "stream",
     "text": [
      "2372363879240 2372363879240\n"
     ]
    }
   ],
   "source": [
    "Farben1 = [\"rot\", \"blau\"]\n",
    "Farben2 = Farben1\n",
    "print(id(Farben1), id(Farben2))"
   ]
  },
  {
   "cell_type": "code",
   "execution_count": 14,
   "metadata": {},
   "outputs": [
    {
     "name": "stdout",
     "output_type": "stream",
     "text": [
      "['rot', 'blau']\n"
     ]
    }
   ],
   "source": [
    "Farben2 = \"grün\"\n",
    "print(Farben1)"
   ]
  },
  {
   "cell_type": "code",
   "execution_count": 15,
   "metadata": {},
   "outputs": [
    {
     "name": "stdout",
     "output_type": "stream",
     "text": [
      "['rot', 'blau']\n"
     ]
    }
   ],
   "source": [
    "print(Farben1)"
   ]
  },
  {
   "cell_type": "code",
   "execution_count": 16,
   "metadata": {},
   "outputs": [
    {
     "name": "stdout",
     "output_type": "stream",
     "text": [
      "grün\n"
     ]
    }
   ],
   "source": [
    "print(Farben2)"
   ]
  },
  {
   "cell_type": "markdown",
   "metadata": {},
   "source": [
    "Wir haben der Variablen 'Farben2' ein neues Objekt zugewiesen. Im folgenden Code ändern wir das Listenobjekt intern, indem wir dem zweiten Element der Liste einen neuen Wert zuweisen."
   ]
  },
  {
   "cell_type": "code",
   "execution_count": 17,
   "metadata": {},
   "outputs": [],
   "source": [
    "Farben1 = [\"rot\", \"blau\"]\n",
    "Farben2 = Farben1\n",
    "\n",
    "Farben2[1] = \"grün\""
   ]
  },
  {
   "cell_type": "markdown",
   "metadata": {},
   "source": [
    "<img width=400 height=400 class=\"imgright\" src=\"../images/deep_copy_detailed2.webp\" srcset=\"../images/deep_copy_detailed2_500w.webp 500w,../images/deep_copy_detailed2_400w.webp 400w,../images/deep_copy_detailed2_350w.webp 350w,../images/deep_copy_detailed2_300w.webp 300w\" alt=\"Copying a simple list\" /> "
   ]
  },
  {
   "cell_type": "markdown",
   "metadata": {},
   "source": [
    "Mal sehen, was im vorherigen Code im Detail passiert ist. Wir haben dem zweiten Element von Farben2 einen neuen Wert zugewiesen, d. H. Dem Element mit dem Index 1. Viele Anfänger werden überrascht sein, da die Liste von Farben1 ebenfalls \"automatisch\" geändert wurde. Natürlich haben wir keine zwei Listen: Wir haben nur zwei Namen für dieselbe Liste!\n",
    "\n",
    "Die Erklärung ist, dass wir der Variablen ```Farben2``` kein neues Objekt zugewiesen haben. Wir haben das Objekt, auf das ```Farben2``` verweist, intern geändert oder wie es normalerweise als\" an Ort und Stelle \"bezeichnet wird. Beide Variablen ```Farben1``` und ``` Farben``` zeigen immer noch auf dasselbe Listenobjekt.\n",
    "\n",
    "\n",
    "\n",
    "### Kopieren von Listen\n",
    "\n",
    "Wir sind endlich beim Thema Kopieren von Listen angekommen. Die Klasse ```list``` bietet zu diesem Zweck die Methode ``` copy``` an. Obwohl der Name klar zu sein scheint, hat dieser Weg auch einen Haken.\n",
    "\n",
    "Der Haken ist zu sehen, wenn wir die Hilfe für ```copy``` verwenden:"
   ]
  },
  {
   "cell_type": "code",
   "execution_count": 4,
   "metadata": {},
   "outputs": [
    {
     "name": "stdout",
     "output_type": "stream",
     "text": [
      "Help on method_descriptor:\n",
      "\n",
      "copy(self, /)\n",
      "    Return a shallow copy of the list.\n",
      "\n"
     ]
    }
   ],
   "source": [
    "help(list.copy)"
   ]
  },
  {
   "cell_type": "markdown",
   "metadata": {},
   "source": [
    "Viele Anfänger übersehen hier das Wort \"flach\". ```help``` sagt uns, dass eine neue Liste mit der Methode ```copy``` erstellt wird. Diese neue Liste ist eine \"flache\" Kopie der ursprünglichen Liste.\n",
    "\n",
    "Im Prinzip ist das Wort \"flach\" in dieser Definition unnötig oder sogar irreführend.\n",
    "\n",
    "Zuerst sollten Sie sich daran erinnern, was eine Liste in Python ist. Eine Liste in Python ist ein Objekt, das aus einer geordneten Folge von Verweisen auf Python-Objekte besteht. Das Folgende ist eine Liste von Zeichenfolgen:\n",
    "\n",
    "<img width = 50% src = \"../images/list_firstnames.webp\" alt = \"Eine Liste von Zeichenfolgen (Vornamen)\" />\n",
    "\n",
    "Die Liste, auf die sich die Variable ```Vornamen``` bezieht, ist eine Liste von Zeichenfolgen. Grundsätzlich ist das Listenobjekt nur das blaue Feld mit den Pfeilen, d. H. Den Verweisen auf die Zeichenfolgen. Die Zeichenfolgen selbst sind nicht Teil der Liste."
   ]
  },
  {
   "cell_type": "code",
   "execution_count": 19,
   "metadata": {},
   "outputs": [],
   "source": [
    "Vornamen = ['Kevin', 'Jamina', 'Lars', 'Maria']"
   ]
  },
  {
   "cell_type": "markdown",
   "metadata": {},
   "source": [
    "Im vorherigen Beispiel ist die Liste der Vornamen ```Vornamen``` homogen, d. H. Sie besteht nur aus Zeichenfolgen, sodass alle Elemente den gleichen Datentyp haben. Sie sollten sich jedoch der Tatsache bewusst sein, dass sich die Referenzen einer Liste auf beliebige Objekte beziehen können. Die folgende Liste ```was-auch-immer``` ist eine so allgemeinere Liste:\n",
    "\n",
    "<img width = 60% src = \"../images/list_whatever.webp\" alt = \"Eine Liste mit beliebigen Python-Objekten\" />"
   ]
  },
  {
   "cell_type": "markdown",
   "metadata": {},
   "source": [
    "Wenn eine Liste kopiert wird, kopieren wir die Referenzen. In unseren Beispielen sind dies die blauen Kästchen, auf die mit ```Vornamen``` und mit ```was auch immer``` verwiesen wird. Die Auswirkungen davon werden im folgenden Unterkapitel gezeigt.\n",
    "\n",
    "### Probleme beim Kopieren von Listen\n",
    "\n",
    "Das Kopieren von Listen kann leicht missverstanden werden, und dieses Missverständnis kann zu unangenehmen Fehlern führen. Wir werden dies in Form einer etwas anderen Liebesgeschichte präsentieren.\n",
    "\n",
    "<img width = 70% src = \"../images/konstanz_seestrasse.webp\" alt = \"Konstanz Seestrasse\" />\n",
    "\n",
    "Stellen Sie sich eine Person vor, die in der Stadt Konstanz lebt. Die Stadt liegt im Süden Deutschlands am Bodensee. Der Rhein, der in den Schweizer Alpen beginnt, fließt durch den Bodensee und verlässt ihn erheblich größer. Diese Person namens Swen lebt in der \"Seestrasse\", einer der teuersten Straßen von Konstanz. Seine Wohnung hat einen direkten Blick auf den See und die Stadt Konstanz. Wir haben einige Informationen über Swen in die folgende Listenstruktur aufgenommen:"
   ]
  },
  {
   "cell_type": "code",
   "execution_count": 6,
   "metadata": {},
   "outputs": [],
   "source": [
    "Person1 = [\"Swen\", [\"Seestrasse\", \"Konstanz\"]]"
   ]
  },
  {
   "cell_type": "markdown",
   "metadata": {},
   "source": [
    "<img width = 60% src = \"../images/copy_nested_list_1.webp\" alt = \"Kopieren einer verschachtelten Liste, Teil1\" />\n",
    "\n",
    "Eines schönen Tages trifft die gutaussehende Sarah Swen, ihren charmanten Prinzen. Um die Geschichte kurz zu machen: Liebe auf den ersten Blick und sie zieht bei Swen ein.\n",
    "\n",
    "Jetzt liegt es an uns, einen Datensatz für Sarah zu erstellen. Wir sind faul und werden Swens Daten recyceln, weil sie jetzt mit ihm in derselben Wohnung leben wird.\n",
    "\n",
    "Wir werden Swens Daten kopieren und den Namen in Sarah ändern:"
   ]
  },
  {
   "cell_type": "code",
   "execution_count": 7,
   "metadata": {},
   "outputs": [
    {
     "name": "stdout",
     "output_type": "stream",
     "text": [
      "['Sarah', ['Seestrasse', 'Konstanz']]\n"
     ]
    }
   ],
   "source": [
    "Person2 = Person1.copy()\n",
    "Person2[0] = \"Sarah\"\n",
    "print(Person2)"
   ]
  },
  {
   "cell_type": "markdown",
   "metadata": {},
   "source": [
    "<img width = 60% src = \"../images/copy_nested_list_2.webp\" alt = \"Kopieren einer verschachtelten Liste, Teil2\" />\n",
    "\n",
    "Sie leben lange Zeit in perfekter Harmonie und tiefer Liebe, sagen wir ein ganzes Wochenende. Sie merkt plötzlich, dass Swen ein Monster ist: Er befleckt die Butter mit Marmelade und Honig und noch schlimmer, er breitet seine abgenutzten Socken im Schlafzimmer aus. Es dauert nicht lange, bis sie eine entscheidende Entscheidung trifft: Sie wird ihn und die Traumwohnung verlassen.\n",
    "\n",
    "Sie zieht in eine Straße namens Bücklestrasse. Ein Wohngebiet, das bei weitem nicht so schön ist, aber zumindest ist sie vom Monster entfernt.\n",
    "\n",
    "Wie können wir diesen Schritt aus Python-Sicht arrangieren?\n",
    "\n",
    "Die Straße kann mit ```person2[1][0]``` erreicht werden. Also setzen wir dies auf den neuen Ort:"
   ]
  },
  {
   "cell_type": "code",
   "execution_count": 22,
   "metadata": {},
   "outputs": [],
   "source": [
    "Person2[1][0] = \"Bücklestraße\""
   ]
  },
  {
   "cell_type": "markdown",
   "metadata": {},
   "source": [
    "Wir können sehen, dass Sarah erfolgreich an den neuen Standort gezogen ist:"
   ]
  },
  {
   "cell_type": "code",
   "execution_count": 23,
   "metadata": {},
   "outputs": [
    {
     "name": "stdout",
     "output_type": "stream",
     "text": [
      "['Sarah', ['Bücklestraße', 'Konstanz']]\n"
     ]
    }
   ],
   "source": [
    "print(Person2)"
   ]
  },
  {
   "cell_type": "markdown",
   "metadata": {},
   "source": [
    "Ist das das Ende unserer Geschichte? Wird sie Swen nie wieder sehen? Lassen Sie uns Swens Daten überprüfen:"
   ]
  },
  {
   "cell_type": "code",
   "execution_count": 24,
   "metadata": {},
   "outputs": [
    {
     "name": "stdout",
     "output_type": "stream",
     "text": [
      "['Swen', ['Bücklestraße', 'Konstanz']]\n"
     ]
    }
   ],
   "source": [
    "print(Person1)"
   ]
  },
  {
   "cell_type": "markdown",
   "metadata": {},
   "source": [
    "Swen ist anhänglich. Sie kann ihn nicht loswerden! Dies könnte für einige ziemlich überraschend sein. Warum ist es so? Die Liste ```Person1``` besteht aus zwei Verweisen: Einer auf ein String-Objekt (\" Swen \") und der andere auf eine verschachtelte Liste (die Adresse```['Seestrasse', 'Konstanz']```. Wenn wir ```copy``` verwendet haben, haben wir nur diese Referenzen kopiert. Dies bedeutet, dass sowohl ```person1[1]``` als auch ```Person2[1]```auf dasselbe Listenobjekt verweisen. Wenn wir diese verschachtelte Liste ändern, sie ist in beiden Listen sichtbar."
   ]
  },
  {
   "cell_type": "markdown",
   "metadata": {},
   "source": [
    "<img width=60%  src=\"../images/copy_nested_list_3.webp\" srcset=\"../images/copy_nested_list_3_800w.webp 800w,../images/copy_nested_list_3_700w.webp 700w,../images/copy_nested_list_3_600w.webp 600w,../images/copy_nested_list_3_500w.webp 500w,../images/copy_nested_list_3_400w.webp 400w,../images/copy_nested_list_3_350w.webp 350w,../images/copy_nested_list_3_300w.webp 300w\" alt=\"Copy Nested lists\" />"
   ]
  },
  {
   "cell_type": "markdown",
   "metadata": {},
   "source": [
    "### deepcopy aus der Modulkopie\n",
    "\n",
    "Eine Lösung für das beschriebene Problem bietet das Modul ```copy```. Dieses Modul stellt die Methode \"deepcopy\" bereit, die eine vollständige oder tiefe Kopie einer beliebigen Liste ermöglicht, d. H. flache und andere Listen.\n",
    "\n",
    "Wiederholen wir das vorherige Beispiel mit der Funktion ```deepcopy```:"
   ]
  },
  {
   "cell_type": "code",
   "execution_count": 9,
   "metadata": {},
   "outputs": [],
   "source": [
    "from copy import deepcopy \n",
    "# import copy\n",
    "\n",
    "Person1 = [\"Swen\", [\"Seestrasse\", \"Konstanz\"]]\n",
    "\n",
    "Person2 = deepcopy(Person1) #dann hier: copy.deepcopy(Person1)\n",
    "Person2[0] = \"Sarah\""
   ]
  },
  {
   "cell_type": "markdown",
   "metadata": {},
   "source": [
    "Danach sieht die Implementierungsstruktur folgendermaßen aus:\n",
    "\n",
    "<img width = 80% src = \"../images/copy_with_deepcopy.webp\" alt = \"Verschachtelte Listen kopieren\" />\n",
    "\n",
    "Wir können sehen, dass die verschachtelte Liste mit der Adresse ebenfalls kopiert wurde. Wir sind jetzt gut vorbereitet auf Sarahs flüchtigen Schritt."
   ]
  },
  {
   "cell_type": "code",
   "execution_count": 10,
   "metadata": {},
   "outputs": [],
   "source": [
    "Person2[1][0] = \"Bücklestrasse\""
   ]
  },
  {
   "cell_type": "markdown",
   "metadata": {},
   "source": [
    "Sie ist erfolgreich ausgezogen und hat Swen endgültig verlassen, wie wir im Folgenden sehen können:"
   ]
  },
  {
   "cell_type": "code",
   "execution_count": 11,
   "metadata": {},
   "outputs": [
    {
     "name": "stdout",
     "output_type": "stream",
     "text": [
      "['Swen', ['Seestrasse', 'Konstanz']] ['Sarah', ['Bücklestrasse', 'Konstanz']]\n"
     ]
    }
   ],
   "source": [
    "print(Person1, Person2)"
   ]
  },
  {
   "cell_type": "markdown",
   "metadata": {},
   "source": [
    "Aus Gründen der Übersichtlichkeit stellen wir hier auch ein Diagramm zur Verfügung.\n",
    "\n",
    "<img width=80%  src=\"../images/copy_with_deepcopy_2.webp\" srcset=\"../images/copy_with_deepcopy_2_800w.webp 800w,../images/copy_with_deepcopy_2_700w.webp 700w,../images/copy_with_deepcopy_2_600w.webp 600w,../images/copy_with_deepcopy_2_500w.webp 500w,../images/copy_with_deepcopy_2_400w.webp 400w,../images/copy_with_deepcopy_2_350w.webp 350w,../images/copy_with_deepcopy_2_300w.webp 300w\" alt=\"Copy nested lists\" />"
   ]
  },
  {
   "cell_type": "code",
   "execution_count": 13,
   "metadata": {},
   "outputs": [
    {
     "name": "stdout",
     "output_type": "stream",
     "text": [
      "492093476360 492073240456\n"
     ]
    }
   ],
   "source": [
    "print(id(Person1[1]), id(Person2[1]))\n"
   ]
  },
  {
   "cell_type": "markdown",
   "metadata": {},
   "source": [
    "Die Moral von der Geschichte: Kopieren von verschachtelten Objekten mit copy.deepcopy"
   ]
  },
  {
   "cell_type": "code",
   "execution_count": 14,
   "metadata": {},
   "outputs": [
    {
     "name": "stdout",
     "output_type": "stream",
     "text": [
      "[1, 2, 3] [1, 2, 3]\n",
      "[1, 100000, 3] [1, 100000, 3]\n"
     ]
    }
   ],
   "source": [
    "l1=[1,2,3]\n",
    "l2=l1   #immer problematisch besser l2=l1[:] , das ist eine Kopie von l1 und damit unabhängig von l1\n",
    "print(l1,l2)\n",
    "l2[1]=100000\n",
    "print(l1,l2)"
   ]
  },
  {
   "cell_type": "markdown",
   "metadata": {},
   "source": [
    "Ein häufiger und überraschender Fehler!"
   ]
  },
  {
   "cell_type": "code",
   "execution_count": null,
   "metadata": {},
   "outputs": [],
   "source": []
  }
 ],
 "metadata": {
  "kernelspec": {
   "display_name": "Python 3",
   "language": "python",
   "name": "python3"
  },
  "language_info": {
   "codemirror_mode": {
    "name": "ipython",
    "version": 3
   },
   "file_extension": ".py",
   "mimetype": "text/x-python",
   "name": "python",
   "nbconvert_exporter": "python",
   "pygments_lexer": "ipython3",
   "version": "3.8.8"
  }
 },
 "nbformat": 4,
 "nbformat_minor": 4
}
