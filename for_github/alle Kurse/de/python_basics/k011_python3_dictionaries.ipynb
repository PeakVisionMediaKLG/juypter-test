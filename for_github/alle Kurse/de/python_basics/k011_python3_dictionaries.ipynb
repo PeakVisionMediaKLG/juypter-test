{
 "cells": [
  {
   "cell_type": "markdown",
   "metadata": {},
   "source": [
    "## Dictionaries\n",
    "\n",
    "\n",
    "### Einführung\n",
    "\n",
    "\n",
    "<img width=200 height=200 class=\"imgright\" src=\"../images/webster.webp\" srcset=\"../images/webster_400w.webp 400w,../images/webster_350w.webp 350w,../images/webster_300w.webp 300w\" alt=\"Webster's Dictionary \" />\n",
    "\n",
    "In den vorigen Kapiteln haben wir die sequentiellen Datentypen wie Listen, Strings und Tupel eingeführt. Nun wollen wir eine weitere Kategorie von Datentypen genauer untersuchen, die \"Mapping\". In dieser Kategorie gibt es allerdings zur Zeit nur einen implementierten Typ, das Dictionary. Beim Dictionary handelt es sich um ein assoziatives Feld. Assoziative Felder werden in verschiedenen Programmiersprachen mit verschiedenen Namen versehen. So spricht man in Java und C++ von einer Map, in Perl und Ruby von einem Hash und wie in Python bezeichnen auch Smalltalk, Objective-C und C# assoziative Arrays als Dictionaries.\n",
    " \n",
    "Ein Dictionary besteht aus Schlüssel-Objekt-Paaren. Zu einem bestimmten Schlüssel gehört immer ein Objekt. Man kann also die Schlüssel auf die Objekte \"abbilden\", daher der Kategorienname Mapping. \n",
    "\n",
    "Dictionaries gehören zu den wichtigsten Datentypen von Python. Kaum ein Programm oder Skript kommt ohne Dictionaries aus. Wie Listen können Dictionaries leicht verändert werden, außerdem können sie beliebig wachsen und schrumpfen während der Laufzeit.\n",
    "\n",
    "In diesem Kapitel geht es aber nicht nur um Dictionaries sondern am Ende beschäftigen wir uns auch noch mit dem Zusammenhang zwischen Listen und Dictionaries, d.h. wir zeigen wie man aus Dictionaries Listen erzeugt und umgekehrt, wie man aus bestimmten Listen Dictionaries erzeugen kann.\n",
    " \n",
    "\n",
    "#### Beispiele für Dictionaries\n",
    "\n",
    "Unser erstes Beispiel ist ein Dictionary mit deutschen Städten und Einwohnerzahlen, die im Jahre 2019 mehr als eine halbe Million Einwohner hatten. Wir sehen, dass Dictionaries mit geschweiften Klammern geschrieben werden. Sie enthalten Schlüssel-Werte-Paare, die mit Kommata getrennt sind. Ein Schlüssel (englisch key) und sein zugehöriger Wert werden jeweils durch einen Doppelpunkt getrennt."
   ]
  },
  {
   "cell_type": "code",
   "execution_count": 5,
   "metadata": {},
   "outputs": [],
   "source": [
    "städte_einwohner = {\"Berlin\": 3_669_491,\n",
    "                    \"Hamburg\": 1_847_253,\n",
    "                    \"München\": 1_484_226,\n",
    "                    \"Köln\": 1_087_863,\n",
    "                    \"Frankfurt am Main\": 763_380,\n",
    "                    \"Stuttgart\": 635_911,\n",
    "                    \"Düsseldorf\": 621_877,\n",
    "                    \"Leipzig\": 593_145,\n",
    "                    \"Dortmund\": 588_250,\n",
    "                    \"Essen\": 582_760,\n",
    "                    \"Bremen\": 567_559,\n",
    "                    \"Dresden\": 556_780,\n",
    "                    \"Hannover\": 536_925,\n",
    "                    \"Nürnberg\": 518_370}"
   ]
  },
  {
   "cell_type": "markdown",
   "metadata": {},
   "source": [
    "Wir können auf den Wert für einen bestimmten Schlüssel zugreifen, indem wir diesen Schlüssel in Klammern nach dem Namen des Wörterbuchs angeben: "
   ]
  },
  {
   "cell_type": "code",
   "execution_count": 6,
   "metadata": {},
   "outputs": [
    {
     "data": {
      "text/plain": [
       "635911"
      ]
     },
     "execution_count": 6,
     "metadata": {},
     "output_type": "execute_result"
    }
   ],
   "source": [
    "städte_einwohner[\"Stuttgart\"]"
   ]
  },
  {
   "cell_type": "markdown",
   "metadata": {},
   "source": [
    "Was passiert, wenn wir versuchen, auf einen Schlüssel zuzugreifen, d. h. eine Stadt in unserem Beispiel, die nicht im Dictionary enthalten ist? Wir erheben einen KeyError: "
   ]
  },
  {
   "cell_type": "code",
   "execution_count": 7,
   "metadata": {},
   "outputs": [
    {
     "ename": "KeyError",
     "evalue": "'Konstanz'",
     "output_type": "error",
     "traceback": [
      "\u001b[0;31m---------------------------------------------------------------------------\u001b[0m",
      "\u001b[0;31mKeyError\u001b[0m                                  Traceback (most recent call last)",
      "\u001b[0;32m<ipython-input-7-9368e7398149>\u001b[0m in \u001b[0;36m<module>\u001b[0;34m\u001b[0m\n\u001b[0;32m----> 1\u001b[0;31m \u001b[0mstädte_einwohner\u001b[0m\u001b[0;34m[\u001b[0m\u001b[0;34m\"Konstanz\"\u001b[0m\u001b[0;34m]\u001b[0m\u001b[0;34m\u001b[0m\u001b[0;34m\u001b[0m\u001b[0m\n\u001b[0m",
      "\u001b[0;31mKeyError\u001b[0m: 'Konstanz'"
     ]
    }
   ],
   "source": [
    "städte_einwohner[\"Konstanz\"]"
   ]
  },
  {
   "cell_type": "markdown",
   "metadata": {},
   "source": [
    "Eine häufig gestellte Frage ist, ob Dictionary-Objekte geordnet sind. Die Unsicherheit ergibt sich aus der Tatsache, dass Dictionaries in Versionen vor Python 3.7 nicht sortiert waren. In Python 3.7 und alle späteren Versionen werden Dictionaries nach der Reihenfolge der Item-Eintragung sortiert. In unserem Beispiel bedeutet dies, das unser `städte_einwohner`-Dictionary die bei der Definition benutzte Reihenfolge beibehält. Dies sieht man, wenn man sich das Dictionary ausgeben lässt:"
   ]
  },
  {
   "cell_type": "code",
   "execution_count": 8,
   "metadata": {},
   "outputs": [
    {
     "data": {
      "text/plain": [
       "{'Berlin': 3669491,\n",
       " 'Hamburg': 1847253,\n",
       " 'München': 1484226,\n",
       " 'Köln': 1087863,\n",
       " 'Frankfurt am Main': 763380,\n",
       " 'Stuttgart': 635911,\n",
       " 'Düsseldorf': 621877,\n",
       " 'Leipzig': 593145,\n",
       " 'Dortmund': 588250,\n",
       " 'Essen': 582760,\n",
       " 'Bremen': 567559,\n",
       " 'Dresden': 556780,\n",
       " 'Hannover': 536925,\n",
       " 'Nürnberg': 518370}"
      ]
     },
     "execution_count": 8,
     "metadata": {},
     "output_type": "execute_result"
    }
   ],
   "source": [
    "städte_einwohner"
   ]
  },
  {
   "cell_type": "markdown",
   "metadata": {},
   "source": [
    "Die Tatsache, dass sie geordnet sind, bedeutet aber nicht, dass es eine Möglichkeit gibt, das n-te Element eines Wörterbuchs direkt aufzurufen. Versucht man, auf ein Wörterbuch mit einer Zahl zuzugreifen - wie wir dies mit Listen tun - führt dies zu einer Ausnahme: "
   ]
  },
  {
   "cell_type": "code",
   "execution_count": 9,
   "metadata": {},
   "outputs": [
    {
     "ename": "KeyError",
     "evalue": "0",
     "output_type": "error",
     "traceback": [
      "\u001b[0;31m---------------------------------------------------------------------------\u001b[0m",
      "\u001b[0;31mKeyError\u001b[0m                                  Traceback (most recent call last)",
      "\u001b[0;32m<ipython-input-9-1c0bd97222ea>\u001b[0m in \u001b[0;36m<module>\u001b[0;34m\u001b[0m\n\u001b[0;32m----> 1\u001b[0;31m \u001b[0mstädte_einwohner\u001b[0m\u001b[0;34m[\u001b[0m\u001b[0;36m0\u001b[0m\u001b[0;34m]\u001b[0m\u001b[0;34m\u001b[0m\u001b[0;34m\u001b[0m\u001b[0m\n\u001b[0m",
      "\u001b[0;31mKeyError\u001b[0m: 0"
     ]
    }
   ],
   "source": [
    "städte_einwohner[0]"
   ]
  },
  {
   "cell_type": "markdown",
   "metadata": {},
   "source": [
    "Wir hatten gesehen, dass wir auch eine Ausnahme erheben, wenn wir einen nicht existierenden Städenamen verwenden. Es ist sehr einfach weitere Einträge einem Dictionary einzufügen. Wir zeigen dies am Beispiel der Stadt Konstanz:"
   ]
  },
  {
   "cell_type": "code",
   "execution_count": 11,
   "metadata": {},
   "outputs": [],
   "source": [
    "städte_einwohner[\"Konstanz\"] = 84911"
   ]
  },
  {
   "cell_type": "markdown",
   "metadata": {},
   "source": [
    "Wir können sehen, dass Konstanz ans Ende der Liste eingefügt worden ist:"
   ]
  },
  {
   "cell_type": "code",
   "execution_count": 12,
   "metadata": {},
   "outputs": [
    {
     "data": {
      "text/plain": [
       "{'Berlin': 3669491,\n",
       " 'Hamburg': 1847253,\n",
       " 'München': 1484226,\n",
       " 'Köln': 1087863,\n",
       " 'Frankfurt am Main': 763380,\n",
       " 'Stuttgart': 635911,\n",
       " 'Düsseldorf': 621877,\n",
       " 'Leipzig': 593145,\n",
       " 'Dortmund': 588250,\n",
       " 'Essen': 582760,\n",
       " 'Bremen': 567559,\n",
       " 'Dresden': 556780,\n",
       " 'Hannover': 536925,\n",
       " 'Nürnberg': 518370,\n",
       " 'Konstanz': 84911}"
      ]
     },
     "execution_count": 12,
     "metadata": {},
     "output_type": "execute_result"
    }
   ],
   "source": [
    "städte_einwohner"
   ]
  },
  {
   "cell_type": "markdown",
   "metadata": {},
   "source": [
    "Dies ist also eine Möglichkeit ein Dictionary während des Programmlaufes zu erweitern. Denkbar ist dann auch mit einem leeren Dicitonary zu beginnen. Ein leeres Dictionary wird mit einem geschweiften Klammernpaar `{}` oder dem Aufruf `dict()` erzeugt:"
   ]
  },
  {
   "cell_type": "code",
   "execution_count": 3,
   "metadata": {},
   "outputs": [
    {
     "data": {
      "text/plain": [
       "{}"
      ]
     },
     "execution_count": 3,
     "metadata": {},
     "output_type": "execute_result"
    }
   ],
   "source": [
    "food = {}"
   ]
  },
  {
   "cell_type": "markdown",
   "metadata": {},
   "source": [
    "Alternativ kann man `food` auch so erzeugen:"
   ]
  },
  {
   "cell_type": "code",
   "execution_count": 2,
   "metadata": {},
   "outputs": [],
   "source": [
    "food = dict()"
   ]
  },
  {
   "cell_type": "markdown",
   "metadata": {},
   "source": [
    "Zu Ehren des Schutzheiligen von Python \"Monty Python\" erweitern wir nun dieses Dictionary um spezielle pythonische kulinarische Besonderheiten. Was wäre Python ohne \"ham\", \"eggs\", \"cheese\" und \"spam\"?\n",
    "Wir erweitern unser Dictionary nun inkrementell um diese Delikatessen:"
   ]
  },
  {
   "cell_type": "code",
   "execution_count": 3,
   "metadata": {},
   "outputs": [
    {
     "data": {
      "text/plain": [
       "{'ham': 'yes', 'eggs': 'yes', 'cheese': 'yes'}"
      ]
     },
     "execution_count": 3,
     "metadata": {},
     "output_type": "execute_result"
    }
   ],
   "source": [
    "food[\"ham\"] = \"yes\"\n",
    "food[\"eggs\"] = \"yes\"\n",
    "food[\"cheese\"] = \"yes\"\n",
    "food"
   ]
  },
  {
   "cell_type": "markdown",
   "metadata": {},
   "source": [
    "Haben wir da nicht noch etwas vergessen? Leider, denn wer mag schon Spam. Bisher haben wir als Wert \"yes\" verwendet. Bei \"spam\" werden wir nun \"no\" verwenden. Bitte beachte auch, dass die Werte in einem Dictionary nicht eindeutig sein müssen, weshalb wir mehrmals \"yes\" verwenden konnten. Die Schlüssel sind jedoch eindeutig."
   ]
  },
  {
   "cell_type": "code",
   "execution_count": 4,
   "metadata": {},
   "outputs": [
    {
     "data": {
      "text/plain": [
       "{'ham': 'yes', 'eggs': 'yes', 'cheese': 'yes', 'spam': 'no'}"
      ]
     },
     "execution_count": 4,
     "metadata": {},
     "output_type": "execute_result"
    }
   ],
   "source": [
    "food[\"spam\"] = \"no\"\n",
    "food"
   ]
  },
  {
   "cell_type": "markdown",
   "metadata": {},
   "source": [
    "Im nächsten Beispiel kreieren wir ein einfaches Deutsch-Englisches Wörterbuch als Dictionary:"
   ]
  },
  {
   "cell_type": "code",
   "execution_count": 6,
   "metadata": {},
   "outputs": [
    {
     "name": "stdout",
     "output_type": "stream",
     "text": [
      "{'red': 'rot', 'green': 'grün', 'blue': 'blau', 'yellow': 'gelb'}\n"
     ]
    }
   ],
   "source": [
    "en_de = {\"red\" : \"rot\", \"green\" : \"grün\", \"blue\" : \"blau\", \"yellow\":\"gelb\"}\n",
    "print(en_de)"
   ]
  },
  {
   "cell_type": "markdown",
   "metadata": {},
   "source": [
    "Wie wäre es mit einem weiteren Dictionary, eines was von Deutsch nach Französisch übersetzt? Damit sind wir dann aber auch in der Lage von Englisch nach Französisch zu übersetzen, indem wir die beiden Dictionaries hintereinander schalten, wie wir im folgenden Beispiel demonstrieren. Mit Hilfe dieses Dictionarys können wir nun von Englisch nach Französisch übersetzen, obwohl wir gar kein Englisch-Französisch-Wörterbuch haben. So gibt uns de_fr[en_de[\"red\"]] das französische Wort für \"red\", also \"rouge\". Dies geschieht in zwei Schritten: Erst wird von Python der Ausdruck en_de[\"red\"] ausgewertet. Das Ergebnis der Auswertung \"rot\" wird dann im de_fr-Dictionary \"nachgeschaut\", d.h. de_fr[\"rot\"] liefert nun \"rouge\" zurück:"
   ]
  },
  {
   "cell_type": "code",
   "execution_count": 7,
   "metadata": {},
   "outputs": [
    {
     "name": "stdout",
     "output_type": "stream",
     "text": [
      "{'red': 'rot', 'green': 'grün', 'blue': 'blau', 'yellow': 'gelb'}\n"
     ]
    }
   ],
   "source": [
    "en_de = {\"red\" : \"rot\", \"green\" : \"grün\", \"blue\" : \"blau\", \"yellow\":\"gelb\"}\n",
    "print(en_de)"
   ]
  },
  {
   "cell_type": "code",
   "execution_count": 8,
   "metadata": {},
   "outputs": [
    {
     "name": "stdout",
     "output_type": "stream",
     "text": [
      "rot\n"
     ]
    }
   ],
   "source": [
    "print(en_de[\"red\"])"
   ]
  },
  {
   "cell_type": "code",
   "execution_count": 9,
   "metadata": {},
   "outputs": [
    {
     "name": "stdout",
     "output_type": "stream",
     "text": [
      "The French word for red is: rouge\n"
     ]
    }
   ],
   "source": [
    "de_fr = {\"rot\": \"rouge\", \"grün\": \"vert\", \"blau\": \"bleu\", \"gelb\":\"jaune\"}\n",
    "print(\"The French word for red is: \" + de_fr[en_de[\"red\"]])"
   ]
  },
  {
   "cell_type": "markdown",
   "metadata": {},
   "source": [
    "In einem Dictionary können beliebige Typen als Werte verwendet werden. Bei den Schlüsseln gilt jedoch die Einschränkung, dass nur Instanzen unveränderlicher (immutable) Datentypen verwendet werden können, also z.B. keine Listen und keine Dictionaries.\n",
    "Ansonsten erhält man eine Fehlermeldung:"
   ]
  },
  {
   "cell_type": "code",
   "execution_count": 10,
   "metadata": {},
   "outputs": [
    {
     "ename": "TypeError",
     "evalue": "unhashable type: 'list'",
     "output_type": "error",
     "traceback": [
      "\u001b[1;31m---------------------------------------------------------------------------\u001b[0m",
      "\u001b[1;31mTypeError\u001b[0m                                 Traceback (most recent call last)",
      "\u001b[1;32m<ipython-input-10-af2a40fe8efa>\u001b[0m in \u001b[0;36m<module>\u001b[1;34m\u001b[0m\n\u001b[1;32m----> 1\u001b[1;33m \u001b[0mdic\u001b[0m \u001b[1;33m=\u001b[0m \u001b[1;33m{\u001b[0m \u001b[1;33m[\u001b[0m\u001b[1;36m1\u001b[0m\u001b[1;33m,\u001b[0m\u001b[1;36m2\u001b[0m\u001b[1;33m,\u001b[0m\u001b[1;36m3\u001b[0m\u001b[1;33m]\u001b[0m\u001b[1;33m:\u001b[0m\u001b[1;34m\"abc\"\u001b[0m\u001b[1;33m}\u001b[0m\u001b[1;33m\u001b[0m\u001b[1;33m\u001b[0m\u001b[0m\n\u001b[0m",
      "\u001b[1;31mTypeError\u001b[0m: unhashable type: 'list'"
     ]
    }
   ],
   "source": [
    "dic = { [1,2,3]:\"abc\"}"
   ]
  },
  {
   "cell_type": "markdown",
   "metadata": {},
   "source": [
    "Tupel als Schlüssel sind in Ordnung, wie wir im folgenden Beispiel sehen:"
   ]
  },
  {
   "cell_type": "code",
   "execution_count": 13,
   "metadata": {},
   "outputs": [
    {
     "data": {
      "text/plain": [
       "{(1, 2, 3): 'abc', 3.1415: 'abc'}"
      ]
     },
     "execution_count": 13,
     "metadata": {},
     "output_type": "execute_result"
    }
   ],
   "source": [
    "dic = { (1,2,3): \"abc\", 3.1415: \"abc\"}\n",
    "dic"
   ]
  },
  {
   "cell_type": "markdown",
   "metadata": {},
   "source": [
    "Nun wollen wir unsere Beispiele mit Wörterbüchern für natürliche Sprachen noch ein wenig aufpeppen. Dazu definieren wir eine Dictionary von Dictionaries:"
   ]
  },
  {
   "cell_type": "code",
   "execution_count": 14,
   "metadata": {},
   "outputs": [
    {
     "name": "stdout",
     "output_type": "stream",
     "text": [
      "bleu\n"
     ]
    }
   ],
   "source": [
    "en_de = {\"red\" : \"rot\", \"green\" : \"grün\", \"blue\" : \"blau\", \"yellow\":\"gelb\"}\n",
    "de_fr = {\"rot\" : \"rouge\", \"grün\" : \"vert\", \"blau\" : \"bleu\", \"gelb\":\"jaune\"}\n",
    " \n",
    "dictionaries = {\"en_de\" : en_de, \"de_fr\" : de_fr }\n",
    " \n",
    "print(dictionaries[\"de_fr\"][\"blau\"])"
   ]
  },
  {
   "cell_type": "markdown",
   "metadata": {},
   "source": [
    "### Operatoren auf Dictionaries\n",
    "\n",
    "<table\n",
    "style=\"text-align: left; width: 100%; background-color: rgb(255, 255, 153);\"\n",
    "border=\"0\" cellpadding=\"2\" cellspacing=\"2\">\n",
    "<tbody>\n",
    "<tr>\n",
    "<th style=\"vertical-align: top;\">Operator<br>\n",
    "</th>\n",
    "<th style=\"vertical-align: top;\">Erkl&auml;rung<br>\n",
    "</th>\n",
    "</tr>\n",
    "<tr>\n",
    "<td style=\"vertical-align: top;\">len(d)<br>\n",
    "</td>\n",
    "<td style=\"vertical-align: top;\">liefert die Anzahl aller im\n",
    "Dictionary enthaltenen Elemente, d.h. Schl&uuml;ssel-Werte-Paare<br>\n",
    "</td>\n",
    "</tr>\n",
    "<tr>\n",
    "<td style=\"vertical-align: top;\">del d[k]<br>\n",
    "</td>\n",
    "<td style=\"vertical-align: top;\">L&ouml;schen des Schl&uuml;ssels\n",
    "k zusammen mit seinem Wert<br>\n",
    "</td>\n",
    "</tr>\n",
    "<tr>\n",
    "<td style=\"vertical-align: top;\">k in d<br>\n",
    "</td>\n",
    "<td style=\"vertical-align: top;\">True, wenn es im\n",
    "Dictionary&nbsp; d einen Schl&uuml;ssel k gibt<br>\n",
    "</td>\n",
    "</tr>\n",
    "<tr>\n",
    "<td style=\"vertical-align: top;\">k not in d<br>\n",
    "</td>\n",
    "<td style=\"vertical-align: top;\">True, wenn es im Dictionary d\n",
    "keinen Schl&uuml;ssel k gibt<br>\n",
    "</td>\n",
    "</tr>\n",
    "</tbody>\n",
    "</table>"
   ]
  },
  {
   "cell_type": "markdown",
   "metadata": {},
   "source": [
    "#### Beispiele:\n",
    "Das folgende Dictionary enthält den Morsecode."
   ]
  },
  {
   "cell_type": "code",
   "execution_count": 3,
   "metadata": {},
   "outputs": [],
   "source": [
    "morse = {\n",
    "\"A\" : \".-\", \n",
    "\"B\" : \"-...\", \n",
    "\"C\" : \"-.-.\", \n",
    "\"D\" : \"-..\", \n",
    "\"E\" : \".\", \n",
    "\"F\" : \"..-.\", \n",
    "\"G\" : \"--.\", \n",
    "\"H\" : \"....\", \n",
    "\"I\" : \"..\", \n",
    "\"J\" : \".---\", \n",
    "\"K\" : \"-.-\", \n",
    "\"L\" : \".-..\", \n",
    "\"M\" : \"--\", \n",
    "\"N\" : \"-.\", \n",
    "\"O\" : \"---\", \n",
    "\"P\" : \".--.\", \n",
    "\"Q\" : \"--.-\", \n",
    "\"R\" : \".-.\", \n",
    "\"S\" : \"...\", \n",
    "\"T\" : \"-\", \n",
    "\"U\" : \"..-\", \n",
    "\"V\" : \"...-\", \n",
    "\"W\" : \".--\", \n",
    "\"X\" : \"-..-\", \n",
    "\"Y\" : \"-.--\", \n",
    "\"Z\" : \"--..\", \n",
    "\"0\" : \"-----\", \n",
    "\"1\" : \".----\", \n",
    "\"2\" : \"..---\", \n",
    "\"3\" : \"...--\", \n",
    "\"4\" : \"....-\", \n",
    "\"5\" : \".....\", \n",
    "\"6\" : \"-....\", \n",
    "\"7\" : \"--...\", \n",
    "\"8\" : \"---..\", \n",
    "\"9\" : \"----.\", \n",
    "\".\" : \".-.-.-\", \n",
    "\",\" : \"--..--\"\n",
    "}"
   ]
  },
  {
   "cell_type": "markdown",
   "metadata": {},
   "source": [
    "Die Anzahl der verschiedenen Zeichen für die unser Dictionary eine Abbildung in ein Morsezeichen besitzt, können wir mittels len() bestimmen:"
   ]
  },
  {
   "cell_type": "code",
   "execution_count": 19,
   "metadata": {},
   "outputs": [
    {
     "data": {
      "text/plain": [
       "38"
      ]
     },
     "execution_count": 19,
     "metadata": {},
     "output_type": "execute_result"
    }
   ],
   "source": [
    "len(morse)"
   ]
  },
  {
   "cell_type": "markdown",
   "metadata": {},
   "source": [
    "Unser Dictionary enthält nur Großbuchstaben. \"a\" in morse liefert deshalb zum Beispiel False zurück:"
   ]
  },
  {
   "cell_type": "code",
   "execution_count": 20,
   "metadata": {},
   "outputs": [
    {
     "data": {
      "text/plain": [
       "False"
      ]
     },
     "execution_count": 20,
     "metadata": {},
     "output_type": "execute_result"
    }
   ],
   "source": [
    "\"a\" in morse #Schlüssel werden getestet"
   ]
  },
  {
   "cell_type": "code",
   "execution_count": 21,
   "metadata": {},
   "outputs": [
    {
     "data": {
      "text/plain": [
       "True"
      ]
     },
     "execution_count": 21,
     "metadata": {},
     "output_type": "execute_result"
    }
   ],
   "source": [
    "\"A\" in morse"
   ]
  },
  {
   "cell_type": "code",
   "execution_count": 22,
   "metadata": {},
   "outputs": [
    {
     "data": {
      "text/plain": [
       "True"
      ]
     },
     "execution_count": 22,
     "metadata": {},
     "output_type": "execute_result"
    }
   ],
   "source": [
    "\"a\" not in morse"
   ]
  },
  {
   "cell_type": "markdown",
   "metadata": {},
   "source": [
    "Wir schreiben nun ein Programm, welches einzugebenden Text (in Grossbuchstaben verwandelt mit string.upper()) in Morsecode umwandelt. Umlaute sind nicht erlaubt. Zeichen, die im Morsecode nicht enthalten sind, werden normal dargestellt. "
   ]
  },
  {
   "cell_type": "code",
   "execution_count": null,
   "metadata": {},
   "outputs": [],
   "source": [
    "\n",
    "\n",
    "\n",
    "\n",
    "\n",
    "\n",
    "\n",
    "\n",
    "\n",
    "\n",
    "\n",
    "\n",
    "\n",
    "\n",
    "\n",
    "\n",
    "\n",
    "\n",
    "\n",
    "\n",
    "\n",
    "\n",
    "\n",
    "\n",
    "\n",
    "\n",
    "\n",
    "\n",
    "\n",
    "\n",
    "\n",
    "\n",
    "\n",
    "\n",
    "\n",
    "\n",
    "\n",
    "\n",
    "\n",
    "\n",
    "\n",
    "\n",
    "\n",
    "\n"
   ]
  },
  {
   "cell_type": "code",
   "execution_count": 5,
   "metadata": {},
   "outputs": [
    {
     "name": "stdout",
     "output_type": "stream",
     "text": [
      "Bitte Text eingebenHallo schoenes Wetter heute!\n",
      " .... .- .-.. .-.. ---  ... -.-. .... --- . -. . ...  .-- . - - . .-.  .... . ..- - .!\n"
     ]
    }
   ],
   "source": [
    "text=input(\"Bitte Text eingeben:  \").upper()\n",
    "res=\"\"\n",
    "for char in text:\n",
    "    if char in morse.keys():\n",
    "        res+=\" \"+morse[char]\n",
    "    else:\n",
    "        res+=char\n",
    "print(res)\n",
    "        \n",
    "    "
   ]
  },
  {
   "cell_type": "markdown",
   "metadata": {},
   "source": [
    "### pop() und popitem()\n",
    "\n",
    "#### pop\n",
    "Listen können als Stack gesehen und benutzt werden. Dabei wird die pop()-Methode benutzt um ein Element vom Stack zu nehmen. So weit so gut, wenn es um Listen geht, aber macht die pop()-Methode Sinn für Dictionaries. Schließlich ist der dict-Typ kein sequentieller Datentyp, hat also keine Anordnung und keine Indizierung. Aber es gibt dennoch eine pop-Methode für Instanzen des Typs dict. Allerdings ist pop() anders definiert.\n",
    "Falls D ein Dictionary bezeichnet, dann entfernt D.pop(k) den Index k zusammen mit seinem Wert aus dem Dictionary, außerdem liefert D.pop(k) den Wert von D[k] als Rückgabewert zurück.\n",
    "Falls der Schlüssel nicht in D gefunden wird, wird der KeyError generiert:"
   ]
  },
  {
   "cell_type": "code",
   "execution_count": 23,
   "metadata": {},
   "outputs": [],
   "source": [
    "capitals = {\"Österreich\":\"Wien\", \"Deutschland\":\"Berlin\", \"Niederlande\":\"Amsterdam\"}\n",
    "capital = capitals.pop(\"Deutschland\")"
   ]
  },
  {
   "cell_type": "code",
   "execution_count": 24,
   "metadata": {},
   "outputs": [
    {
     "name": "stdout",
     "output_type": "stream",
     "text": [
      "Berlin\n"
     ]
    }
   ],
   "source": [
    "print(capital)"
   ]
  },
  {
   "cell_type": "code",
   "execution_count": 25,
   "metadata": {},
   "outputs": [
    {
     "name": "stdout",
     "output_type": "stream",
     "text": [
      "{'Österreich': 'Wien', 'Niederlande': 'Amsterdam'}\n"
     ]
    }
   ],
   "source": [
    "print(capitals)"
   ]
  },
  {
   "cell_type": "code",
   "execution_count": 26,
   "metadata": {},
   "outputs": [
    {
     "ename": "KeyError",
     "evalue": "'Schweiz'",
     "output_type": "error",
     "traceback": [
      "\u001b[1;31m---------------------------------------------------------------------------\u001b[0m",
      "\u001b[1;31mKeyError\u001b[0m                                  Traceback (most recent call last)",
      "\u001b[1;32m<ipython-input-26-1cd938366ca0>\u001b[0m in \u001b[0;36m<module>\u001b[1;34m\u001b[0m\n\u001b[1;32m----> 1\u001b[1;33m \u001b[0mcapital\u001b[0m \u001b[1;33m=\u001b[0m \u001b[0mcapitals\u001b[0m\u001b[1;33m.\u001b[0m\u001b[0mpop\u001b[0m\u001b[1;33m(\u001b[0m\u001b[1;34m\"Schweiz\"\u001b[0m\u001b[1;33m)\u001b[0m\u001b[1;33m\u001b[0m\u001b[1;33m\u001b[0m\u001b[0m\n\u001b[0m",
      "\u001b[1;31mKeyError\u001b[0m: 'Schweiz'"
     ]
    }
   ],
   "source": [
    "capital = capitals.pop(\"Schweiz\")"
   ]
  },
  {
   "cell_type": "markdown",
   "metadata": {},
   "source": [
    "Der Versuch die Hauptstadt der Schweiz zu ermitteln führte im vorigen Beispiel zum Ausnahmefehler KeyError, weil es diesen Eintrag im Dictionary nicht gibt. Um solche Fehler zu vermeiden, gibt es einen eleganten Weg in Python. Die Methode pop() hat dazu einen zweiten optionalen Parameter, mit dem man einen Default-Wert für diesen Fall mitgeben kann:"
   ]
  },
  {
   "cell_type": "code",
   "execution_count": 27,
   "metadata": {},
   "outputs": [
    {
     "name": "stdout",
     "output_type": "stream",
     "text": [
      "unbekannt\n"
     ]
    }
   ],
   "source": [
    "capital = capitals.pop(\"Schweiz\",\"unbekannt\")\n",
    "print(capital) "
   ]
  },
  {
   "cell_type": "code",
   "execution_count": 28,
   "metadata": {},
   "outputs": [
    {
     "data": {
      "text/plain": [
       "'Amsterdam'"
      ]
     },
     "execution_count": 28,
     "metadata": {},
     "output_type": "execute_result"
    }
   ],
   "source": [
    "capitals.pop(\"Niederlande\",\"unbekannt\")"
   ]
  },
  {
   "cell_type": "code",
   "execution_count": 29,
   "metadata": {},
   "outputs": [
    {
     "data": {
      "text/plain": [
       "'unbekannt'"
      ]
     },
     "execution_count": 29,
     "metadata": {},
     "output_type": "execute_result"
    }
   ],
   "source": [
    "capitals.pop(\"Niederlande\",\"unbekannt\")"
   ]
  },
  {
   "cell_type": "markdown",
   "metadata": {},
   "source": [
    "#### popitem\n",
    "popitem() ist eine Methode von dict, die keine Parameter benötigt und die beliebiges (Schlüssel,Wert)-Paar als Zweiertupel zurückliefert. Wendet man popitem() auf ein leeres Dictionary an, wird der Ausnahmefehler KeyError generiert:"
   ]
  },
  {
   "cell_type": "code",
   "execution_count": 30,
   "metadata": {},
   "outputs": [
    {
     "name": "stdout",
     "output_type": "stream",
     "text": [
      "Nordrhein-Westfalen Düsseldorf\n"
     ]
    }
   ],
   "source": [
    "capitals = {\"Hessen\":\"Wiesbaden\", \"Saarland\":\"Saarbrücken\", \"Baden-Württemberg\":\"Stuttgart\", \"Rheinland-Pfalz\":\"Mainz\", \"Nordrhein-Westfalen\":\"Düsseldorf\"}\n",
    "(land, capital) = capitals.popitem()\n",
    "print(land, capital)"
   ]
  },
  {
   "cell_type": "code",
   "execution_count": 31,
   "metadata": {},
   "outputs": [
    {
     "name": "stdout",
     "output_type": "stream",
     "text": [
      "('Rheinland-Pfalz', 'Mainz')\n"
     ]
    }
   ],
   "source": [
    "pair = capitals.popitem()\n",
    "print(pair)"
   ]
  },
  {
   "cell_type": "code",
   "execution_count": 32,
   "metadata": {},
   "outputs": [
    {
     "name": "stdout",
     "output_type": "stream",
     "text": [
      "{'Hessen': 'Wiesbaden', 'Saarland': 'Saarbrücken', 'Baden-Württemberg': 'Stuttgart'}\n"
     ]
    }
   ],
   "source": [
    "print(capitals)"
   ]
  },
  {
   "cell_type": "markdown",
   "metadata": {},
   "source": [
    "### Zugriff auf nicht existierende Schlüssel\n",
    "\n",
    "Versucht man auf nicht existierende Schlüssel zuzugreifen, erhält man eine Fehlermeldung:"
   ]
  },
  {
   "cell_type": "code",
   "execution_count": 33,
   "metadata": {},
   "outputs": [
    {
     "ename": "KeyError",
     "evalue": "'car'",
     "output_type": "error",
     "traceback": [
      "\u001b[1;31m---------------------------------------------------------------------------\u001b[0m",
      "\u001b[1;31mKeyError\u001b[0m                                  Traceback (most recent call last)",
      "\u001b[1;32m<ipython-input-33-98bca352453b>\u001b[0m in \u001b[0;36m<module>\u001b[1;34m\u001b[0m\n\u001b[0;32m      1\u001b[0m \u001b[0mwoerter\u001b[0m \u001b[1;33m=\u001b[0m \u001b[1;33m{\u001b[0m\u001b[1;34m\"house\"\u001b[0m \u001b[1;33m:\u001b[0m \u001b[1;34m\"Haus\"\u001b[0m\u001b[1;33m,\u001b[0m \u001b[1;34m\"cat\"\u001b[0m\u001b[1;33m:\u001b[0m\u001b[1;34m\"Katze\"\u001b[0m\u001b[1;33m}\u001b[0m\u001b[1;33m\u001b[0m\u001b[1;33m\u001b[0m\u001b[0m\n\u001b[1;32m----> 2\u001b[1;33m \u001b[0mwoerter\u001b[0m\u001b[1;33m[\u001b[0m\u001b[1;34m\"car\"\u001b[0m\u001b[1;33m]\u001b[0m\u001b[1;33m\u001b[0m\u001b[1;33m\u001b[0m\u001b[0m\n\u001b[0m",
      "\u001b[1;31mKeyError\u001b[0m: 'car'"
     ]
    }
   ],
   "source": [
    "woerter = {\"house\" : \"Haus\", \"cat\":\"Katze\"}\n",
    "woerter[\"car\"]"
   ]
  },
  {
   "cell_type": "markdown",
   "metadata": {},
   "source": [
    "Man kann dies wie folgt absichern:"
   ]
  },
  {
   "cell_type": "code",
   "execution_count": 34,
   "metadata": {},
   "outputs": [],
   "source": [
    "if \"car\" in woerter: print(woerter[\"car\"])"
   ]
  },
  {
   "cell_type": "code",
   "execution_count": 35,
   "metadata": {},
   "outputs": [
    {
     "name": "stdout",
     "output_type": "stream",
     "text": [
      "Katze\n"
     ]
    }
   ],
   "source": [
    "if \"cat\" in woerter: print(woerter[\"cat\"])"
   ]
  },
  {
   "cell_type": "markdown",
   "metadata": {},
   "source": [
    "Eine weitere Methode auf die Werte über die Schlüssel zuzugreifen ist mit der Methode get() gegeben. Auch ihr kann als zweiter Parameter ein Default-Wert mitgegeben werden:"
   ]
  },
  {
   "cell_type": "code",
   "execution_count": 6,
   "metadata": {},
   "outputs": [
    {
     "name": "stdout",
     "output_type": "stream",
     "text": [
      "Dresden\n"
     ]
    }
   ],
   "source": [
    "capitals = {\"Sachsen\":\"Dresden\", \"Niedersachsen\":\"Hannover\", \"Brandenburg\":\"Potsdam\"}\n",
    "capital = capitals[\"Sachsen\"]\n",
    "print(capital)"
   ]
  },
  {
   "cell_type": "code",
   "execution_count": 37,
   "metadata": {},
   "outputs": [
    {
     "ename": "KeyError",
     "evalue": "'Thüringen'",
     "output_type": "error",
     "traceback": [
      "\u001b[1;31m---------------------------------------------------------------------------\u001b[0m",
      "\u001b[1;31mKeyError\u001b[0m                                  Traceback (most recent call last)",
      "\u001b[1;32m<ipython-input-37-aeb15a8a3909>\u001b[0m in \u001b[0;36m<module>\u001b[1;34m\u001b[0m\n\u001b[1;32m----> 1\u001b[1;33m \u001b[0mcapital\u001b[0m \u001b[1;33m=\u001b[0m \u001b[0mcapitals\u001b[0m\u001b[1;33m[\u001b[0m\u001b[1;34m\"Thüringen\"\u001b[0m\u001b[1;33m]\u001b[0m\u001b[1;33m\u001b[0m\u001b[1;33m\u001b[0m\u001b[0m\n\u001b[0m",
      "\u001b[1;31mKeyError\u001b[0m: 'Thüringen'"
     ]
    }
   ],
   "source": [
    "capital = capitals[\"Thüringen\"]"
   ]
  },
  {
   "cell_type": "code",
   "execution_count": 38,
   "metadata": {},
   "outputs": [
    {
     "name": "stdout",
     "output_type": "stream",
     "text": [
      "Dresden\n"
     ]
    }
   ],
   "source": [
    "capital = capitals.get(\"Sachsen\")\n",
    "print(capital)"
   ]
  },
  {
   "cell_type": "code",
   "execution_count": 39,
   "metadata": {},
   "outputs": [
    {
     "name": "stdout",
     "output_type": "stream",
     "text": [
      "None\n"
     ]
    }
   ],
   "source": [
    "capital = capitals.get(\"Thüringen\")\n",
    "print(capital) "
   ]
  },
  {
   "cell_type": "code",
   "execution_count": 7,
   "metadata": {},
   "outputs": [
    {
     "name": "stdout",
     "output_type": "stream",
     "text": [
      "Erfurt\n",
      "{'Sachsen': 'Dresden', 'Niedersachsen': 'Hannover', 'Brandenburg': 'Potsdam'}\n"
     ]
    }
   ],
   "source": [
    "capital = capitals.get(\"Thüringen\",\"Erfurt\") #zweiter parameter\n",
    "print(capital)\n",
    "print(capitals) # unverändert"
   ]
  },
  {
   "cell_type": "markdown",
   "metadata": {},
   "source": [
    "### Wichtige Methoden\n",
    "Mit der Methode copy() kann man ein Dictionary kopieren:"
   ]
  },
  {
   "cell_type": "code",
   "execution_count": 41,
   "metadata": {},
   "outputs": [
    {
     "name": "stdout",
     "output_type": "stream",
     "text": [
      "{'house': 'Haus', 'cat': 'Katze'}\n"
     ]
    }
   ],
   "source": [
    "w = woerter.copy()\n",
    "woerter[\"cat\"]=\"chat\"\n",
    "print(w)"
   ]
  },
  {
   "cell_type": "code",
   "execution_count": 42,
   "metadata": {},
   "outputs": [
    {
     "name": "stdout",
     "output_type": "stream",
     "text": [
      "{'house': 'Haus', 'cat': 'chat'}\n"
     ]
    }
   ],
   "source": [
    "print(woerter)"
   ]
  },
  {
   "cell_type": "markdown",
   "metadata": {},
   "source": [
    "Bei diesem Kopieren handelt es sich um eine flache (shallow) Kopie. Wenn es sich bei einem Wert um einen komplexen Datentyp, wie z.B. eine Liste oder ein anderes Dictionary handelt, wirken sich Änderungen innerhalb eines solchen Wertes sowohl auf die Kopie als auch auf das Original aus.\n"
   ]
  },
  {
   "cell_type": "code",
   "execution_count": 1,
   "metadata": {},
   "outputs": [
    {
     "name": "stdout",
     "output_type": "stream",
     "text": [
      "{'course1': {'title': 'Python Training Course for Beginners', 'location': 'Frankfurt', 'trainer': 'Steve G. Snake'}, 'course2': {'title': 'Perl Training Course for Beginners', 'location': 'Berlin', 'trainer': 'Ella M. Charming'}, 'course3': {'title': 'Python Text Processing Course', 'location': 'München', 'trainer': 'Monica A. Snowdon'}}\n"
     ]
    }
   ],
   "source": [
    "trainings = { \"course1\":{\"title\":\"Python Training Course for Beginners\", \n",
    "                         \"location\":\"Frankfurt\", \n",
    "                         \"trainer\":\"Steve G. Snake\"},\n",
    "              \"course2\":{\"title\":\"Intermediate Python Training\",\n",
    "                         \"location\":\"Berlin\",\n",
    "                         \"trainer\":\"Ella M. Charming\"},\n",
    "              \"course3\":{\"title\":\"Python Text Processing Course\",\n",
    "                         \"location\":\"München\",\n",
    "                         \"trainer\":\"Monica A. Snowdon\"}\n",
    "              }\n",
    "\n",
    "trainings2 = trainings.copy()\n",
    "\n",
    "trainings[\"course2\"][\"title\"] = \"Perl Training Course for Beginners\"\n",
    "print(trainings2)"
   ]
  },
  {
   "cell_type": "markdown",
   "metadata": {},
   "source": [
    "Wenn wir uns die Ausgaben anschauen, sehen wir, dass der Wert von \"title\" von \"course2\" sich sowohl in trainings als auch in trainings2 geändert hat.\n",
    "\n",
    "Alles funktioniert so, wie man sich eine Kopie vorstellt, wenn man einem Schlüssel einen komplett neuen Wert, also ein neues Objekt zuordnet:"
   ]
  },
  {
   "cell_type": "code",
   "execution_count": 44,
   "metadata": {},
   "outputs": [
    {
     "name": "stdout",
     "output_type": "stream",
     "text": [
      "{'title': 'Intermediate Python Training', 'location': 'Berlin', 'trainer': 'Ella M. Charming'}\n"
     ]
    }
   ],
   "source": [
    "trainings = { \"course1\":{\"title\":\"Python Training Course for Beginners\", \n",
    "                         \"location\":\"Frankfurt\", \n",
    "                         \"trainer\":\"Steve G. Snake\"},\n",
    "              \"course2\":{\"title\":\"Intermediate Python Training\",\n",
    "                         \"location\":\"Berlin\",\n",
    "                         \"trainer\":\"Ella M. Charming\"},\n",
    "              \"course3\":{\"title\":\"Python Text Processing Course\",\n",
    "                         \"location\":\"München\",\n",
    "                         \"trainer\":\"Monica A. Snowdon\"}\n",
    "              }\n",
    "\n",
    "trainings2 = trainings.copy()\n",
    "\n",
    "trainings[\"course2\"] = {\"title\":\"Perl Seminar for Beginners\",\n",
    "                         \"location\":\"Ulm\",\n",
    "                         \"trainer\":\"James D. Morgan\"}\n",
    "print(trainings2[\"course2\"])"
   ]
  },
  {
   "cell_type": "markdown",
   "metadata": {},
   "source": [
    "Für diejenigen, die mehr über die tieferen Gründe für dieses Verhalten erfahren wollen, empfehlen wir unser Kapitel über \"Flaches und tiefes Kopieren\".\n",
    "\n",
    "Der Inhalt eines Dictionary kann mittels der Methode clear() geleert werden. Das Dictionary wird dabei nicht gelöscht sondern wirklich nur geleert:\n"
   ]
  },
  {
   "cell_type": "code",
   "execution_count": 45,
   "metadata": {},
   "outputs": [
    {
     "name": "stdout",
     "output_type": "stream",
     "text": [
      "{}\n"
     ]
    }
   ],
   "source": [
    "trainings.clear()\n",
    "print(trainings)"
   ]
  },
  {
   "cell_type": "markdown",
   "metadata": {},
   "source": [
    "### Update: Einhängen eines weiteren Dictionary\n",
    "\n",
    "Mit der Methode update() kann man ein zweites Dictionary in ein Dictionary einhängen. Enthält das zweite Dictionary Schlüssel, die auch im ersten vorkommen, so werden diese mit den Werten des zweiten überschrieben."
   ]
  },
  {
   "cell_type": "code",
   "execution_count": 46,
   "metadata": {},
   "outputs": [
    {
     "name": "stdout",
     "output_type": "stream",
     "text": [
      "{'house': 'Haus', 'cat': 'Katze', 'red': 'rouge', 'blau': 'bleu'}\n"
     ]
    }
   ],
   "source": [
    "w={\"house\":\"Haus\",\"cat\":\"Katze\",\"red\":\"rot\"}\n",
    "w1 = {\"red\":\"rouge\",\"blau\":\"bleu\"}\n",
    "w.update(w1)\n",
    "print(w)"
   ]
  },
  {
   "cell_type": "markdown",
   "metadata": {},
   "source": [
    "### Iteration über ein Dictionary\n",
    "\n",
    "Es bedarf keiner Methode, um über die Schlüssel eines Dictionarys zu iterieren:"
   ]
  },
  {
   "cell_type": "code",
   "execution_count": 47,
   "metadata": {},
   "outputs": [
    {
     "name": "stdout",
     "output_type": "stream",
     "text": [
      "a\n",
      "b\n",
      "c\n",
      "d\n"
     ]
    }
   ],
   "source": [
    "d = {\"a\":123, \"b\":34, \"c\":304, \"d\":99}\n",
    "for key in d:\n",
    "     print(key)"
   ]
  },
  {
   "cell_type": "markdown",
   "metadata": {},
   "source": [
    "Man kann aber auch die Methode keys() benutzen, die einem speziell die Schlüssel liefert:"
   ]
  },
  {
   "cell_type": "code",
   "execution_count": 49,
   "metadata": {},
   "outputs": [
    {
     "name": "stdout",
     "output_type": "stream",
     "text": [
      "a\n",
      "b\n",
      "c\n",
      "d\n"
     ]
    }
   ],
   "source": [
    "for key in d.keys():\n",
    "     print(key)"
   ]
  },
  {
   "cell_type": "markdown",
   "metadata": {},
   "source": [
    "Mit der Methode values() iteriert man direkt über die Werte:"
   ]
  },
  {
   "cell_type": "code",
   "execution_count": 50,
   "metadata": {},
   "outputs": [
    {
     "name": "stdout",
     "output_type": "stream",
     "text": [
      "123\n",
      "34\n",
      "304\n",
      "99\n"
     ]
    }
   ],
   "source": [
    "for value in d.values():\n",
    "     print(value)"
   ]
  },
  {
   "cell_type": "markdown",
   "metadata": {},
   "source": [
    "Wenn man nur auf die Ergebnisse schaut, ist das äquivalent zu der folgenden Schleife:"
   ]
  },
  {
   "cell_type": "code",
   "execution_count": 51,
   "metadata": {},
   "outputs": [
    {
     "name": "stdout",
     "output_type": "stream",
     "text": [
      "123\n",
      "34\n",
      "304\n",
      "99\n"
     ]
    }
   ],
   "source": [
    "for key in d:\n",
    "    print(d[key])"
   ]
  },
  {
   "cell_type": "markdown",
   "metadata": {},
   "source": [
    "Was die Implementierung und die Effizienz betrifft, ist die letzte Methode jedoch weniger effizient.\n",
    "Im Folgenden zeigen wir, dass der erste Weg deutlich schneller ist. Um das Folgende zu verstehen, sollte man sich mit %%timeit von ipython auskennen:"
   ]
  },
  {
   "cell_type": "code",
   "execution_count": 52,
   "metadata": {},
   "outputs": [
    {
     "name": "stdout",
     "output_type": "stream",
     "text": [
      "564 ns ± 54.7 ns per loop (mean ± std. dev. of 7 runs, 1000000 loops each)\n"
     ]
    }
   ],
   "source": [
    "%%timeit  d = {\"a\":123, \"b\":34, \"c\":304, \"d\":99}\n",
    "for key in d.keys():\n",
    "    x=d[key]\n",
    "    x"
   ]
  },
  {
   "cell_type": "code",
   "execution_count": 53,
   "metadata": {},
   "outputs": [
    {
     "name": "stdout",
     "output_type": "stream",
     "text": [
      "371 ns ± 36.4 ns per loop (mean ± std. dev. of 7 runs, 1000000 loops each)\n"
     ]
    }
   ],
   "source": [
    "%%timeit  d = {\"a\":123, \"b\":34, \"c\":304, \"d\":99}\n",
    "for value in d.values():\n",
    "    x=value\n",
    "    x"
   ]
  },
  {
   "cell_type": "markdown",
   "metadata": {},
   "source": [
    "### Zusammenhang zwischen Listen und Dictionaries\n",
    "\n",
    "<img width=200 height=200 class=\"imgright\" src=\"../images/zipper_sphere.webp\" alt=\"Reißverschluss auf Kugel in Anspielung auf die Python-Funktion zip. \" />\n",
    "\n",
    "\n",
    "Wenn man eine Weile mit Listen und Dictionaries unter Python gearbeitet hat, kommt nahezu zwangsläufig der Punkt, dass man Listen in Dictionaries oder umgekehrt Dictionaries in Listen wandeln will bzw. muss. Es wäre nicht allzu schwer, direkt mit den bisher bekannten Funktionen sich neue Funktionen zu schreiben, die genau dies bewerkstelligen. Aber Python wäre nicht Python, wenn es hierfür nicht auch Hilfen zur Verfügung stellen würde.\n",
    "\n",
    "Es bietet sich an, ein Dictionary der Art\n",
    "<pre>\n",
    "{\"list\":\"Liste\", \"dictionary\":\"Wörterbuch\", \"function\":\"Funktion\"}\n",
    "</pre>\n",
    "als Liste von 2-Tupel darzustellen.\n",
    "<pre>\n",
    "[(\"list\",\"Liste\"), (\"dictionary\",\"Wörterbuch\"), (\"function\",\"Funktion\")]\n",
    "</pre>"
   ]
  },
  {
   "cell_type": "markdown",
   "metadata": {},
   "source": [
    "### Listen oder Mengen aus Dictionaries generieren\n",
    "\n",
    "Immer wieder kommt es vor, dass man ein Dictionary hat und man aus diesem Dictionary Mengen oder Listen erzeugen will.\n",
    "Betrachten wir dazu das folgende Dictionary mit englisch-deutschen Farben:\n"
   ]
  },
  {
   "cell_type": "code",
   "execution_count": 6,
   "metadata": {},
   "outputs": [],
   "source": [
    "colours = {\"red\":\"rot\", \"green\":\"grün\", \"blue\":\"blau\", \"yellow\":\"gelb\"}"
   ]
  },
  {
   "cell_type": "markdown",
   "metadata": {},
   "source": [
    "Nehmen wir nun an, dass wir daraus gerne die Menge aller Schlüssel, also alle englischen Farbadjektive extrahieren wollen. Dazu bietet die Klasse dict die Methode \"keys\" an.\n",
    "Zu dieser Methode sagt uns die help-Funktion help(dict.keys):"
   ]
  },
  {
   "cell_type": "code",
   "execution_count": 55,
   "metadata": {},
   "outputs": [
    {
     "name": "stdout",
     "output_type": "stream",
     "text": [
      "Help on method_descriptor:\n",
      "\n",
      "keys(...)\n",
      "    D.keys() -> a set-like object providing a view on D's keys\n",
      "\n"
     ]
    }
   ],
   "source": [
    "help(dict.keys)"
   ]
  },
  {
   "cell_type": "markdown",
   "metadata": {},
   "source": [
    "Zu Deutsch bedeutet dies, dass D.Keys für ein Dictionary D ein Mengen-ähnliches Objekt zurückliefert, was uns eine \"view\" (Sicht) auf die Schlüssel (keys) von D liefert. Eine \"view\" ist ein spezielles Python-Objekt, was in diesem Fall, wie die Hilfe sagt, ein einer Menge ähnelndes Objekt erzeugt. Dieses Objekt ist aber ein Iterator, der seine Elemente aus dem Dictionary generiert, ohne dass eine Menge generiert wird. Es erfolgt also keine Kopie."
   ]
  },
  {
   "cell_type": "code",
   "execution_count": 7,
   "metadata": {},
   "outputs": [
    {
     "data": {
      "text/plain": [
       "dict_keys(['red', 'green', 'blue', 'yellow'])"
      ]
     },
     "execution_count": 7,
     "metadata": {},
     "output_type": "execute_result"
    }
   ],
   "source": [
    "english_colours = colours.keys()\n",
    "english_colours"
   ]
  },
  {
   "cell_type": "markdown",
   "metadata": {},
   "source": [
    "Im folgenden Beispiel können wir sehen, dass sich diese View auch \"ändert\", wenn das Dictionary geändert wurde:"
   ]
  },
  {
   "cell_type": "code",
   "execution_count": 57,
   "metadata": {},
   "outputs": [
    {
     "data": {
      "text/plain": [
       "dict_keys(['red', 'green', 'blue', 'yellow', 'black'])"
      ]
     },
     "execution_count": 57,
     "metadata": {},
     "output_type": "execute_result"
    }
   ],
   "source": [
    "colours[\"black\"] = \"schwarz\"\n",
    "english_colours"
   ]
  },
  {
   "cell_type": "markdown",
   "metadata": {},
   "source": [
    "Möchte man aus dem dict_keys-Objekt eine \"echte\" Menge oder eine Liste erzeugen, so kann man dies mit den globalen Funktionen set und list bewerkstelligen:"
   ]
  },
  {
   "cell_type": "code",
   "execution_count": 11,
   "metadata": {},
   "outputs": [
    {
     "name": "stdout",
     "output_type": "stream",
     "text": [
      "{'red', 'blue', 'green', 'yellow', 'white'}\n",
      "dict_keys(['red', 'green', 'blue', 'yellow', 'white'])\n"
     ]
    }
   ],
   "source": [
    "english_colours_set = set(english_colours)\n",
    "print(english_colours_set)\n",
    "print(english_colours)\n",
    "colours[\"white\"] = \"weiß\""
   ]
  },
  {
   "cell_type": "code",
   "execution_count": 59,
   "metadata": {},
   "outputs": [
    {
     "data": {
      "text/plain": [
       "dict_keys(['red', 'green', 'blue', 'yellow', 'black', 'white'])"
      ]
     },
     "execution_count": 59,
     "metadata": {},
     "output_type": "execute_result"
    }
   ],
   "source": [
    "english_colours"
   ]
  },
  {
   "cell_type": "code",
   "execution_count": 12,
   "metadata": {},
   "outputs": [
    {
     "data": {
      "text/plain": [
       "{'blue', 'green', 'red', 'white', 'yellow'}"
      ]
     },
     "execution_count": 12,
     "metadata": {},
     "output_type": "execute_result"
    }
   ],
   "source": [
    "english_colours_set"
   ]
  },
  {
   "cell_type": "code",
   "execution_count": 13,
   "metadata": {},
   "outputs": [
    {
     "data": {
      "text/plain": [
       "['red', 'green', 'blue', 'yellow', 'white']"
      ]
     },
     "execution_count": 13,
     "metadata": {},
     "output_type": "execute_result"
    }
   ],
   "source": [
    "english_colours_list = list(english_colours)\n",
    "english_colours_list"
   ]
  },
  {
   "cell_type": "markdown",
   "metadata": {},
   "source": [
    "Analog dazu kann man sich auch eine view für die Werte eines Dictionaries (dict_values) mittels der Methode values erzeugen:"
   ]
  },
  {
   "cell_type": "code",
   "execution_count": 62,
   "metadata": {},
   "outputs": [
    {
     "data": {
      "text/plain": [
       "dict_values(['rot', 'grün', 'blau', 'gelb', 'schwarz', 'weiß'])"
      ]
     },
     "execution_count": 62,
     "metadata": {},
     "output_type": "execute_result"
    }
   ],
   "source": [
    "german_colours = colours.values()\n",
    "german_colours"
   ]
  },
  {
   "cell_type": "markdown",
   "metadata": {},
   "source": [
    "Außerdem gibt es noch die methode items(), mit der man sich eine View der Schlüssel-Werte-Paare erzeugen kann:"
   ]
  },
  {
   "cell_type": "code",
   "execution_count": 63,
   "metadata": {},
   "outputs": [
    {
     "data": {
      "text/plain": [
       "dict_items([('red', 'rot'), ('green', 'grün'), ('blue', 'blau'), ('yellow', 'gelb'), ('black', 'schwarz'), ('white', 'weiß')])"
      ]
     },
     "execution_count": 63,
     "metadata": {},
     "output_type": "execute_result"
    }
   ],
   "source": [
    "pairs = colours.items()\n",
    "pairs"
   ]
  },
  {
   "cell_type": "markdown",
   "metadata": {},
   "source": [
    "Diese Methode kann sehr praktisch zum iterieren über ein Dict sein."
   ]
  },
  {
   "cell_type": "code",
   "execution_count": 16,
   "metadata": {},
   "outputs": [
    {
     "name": "stdout",
     "output_type": "stream",
     "text": [
      "Schlüssel ist: red              Wert ist: rot\n",
      "Schlüssel ist: green            Wert ist: grün\n",
      "Schlüssel ist: blue             Wert ist: blau\n",
      "Schlüssel ist: yellow           Wert ist: gelb\n",
      "Schlüssel ist: white            Wert ist: weiß\n"
     ]
    }
   ],
   "source": [
    "for key,val in colours.items():\n",
    "    print(f\"Schlüssel ist: {key:15s}  Wert ist: {val}\")"
   ]
  },
  {
   "cell_type": "code",
   "execution_count": 64,
   "metadata": {},
   "outputs": [
    {
     "data": {
      "text/plain": [
       "{('black', 'schwarz'),\n",
       " ('blue', 'blau'),\n",
       " ('green', 'grün'),\n",
       " ('red', 'rot'),\n",
       " ('white', 'weiß'),\n",
       " ('yellow', 'gelb')}"
      ]
     },
     "execution_count": 64,
     "metadata": {},
     "output_type": "execute_result"
    }
   ],
   "source": [
    "set(pairs)"
   ]
  },
  {
   "cell_type": "code",
   "execution_count": 65,
   "metadata": {},
   "outputs": [
    {
     "data": {
      "text/plain": [
       "[('red', 'rot'),\n",
       " ('green', 'grün'),\n",
       " ('blue', 'blau'),\n",
       " ('yellow', 'gelb'),\n",
       " ('black', 'schwarz'),\n",
       " ('white', 'weiß')]"
      ]
     },
     "execution_count": 65,
     "metadata": {},
     "output_type": "execute_result"
    }
   ],
   "source": [
    "list(pairs)"
   ]
  },
  {
   "cell_type": "markdown",
   "metadata": {},
   "source": [
    "Semantisch gesehen beinhaltet eine Liste/View, die mittels der Methode items() aus einem Dictionary erzeugt wurde, den kompletten Informationsgehalt des ursprünglichen Dictionary. Allerdings gibt es keine Zugriffsfunktionen über die Schlüssel (Keys), d.h. die erste Komponente der 2-Tupel und der Werte (Values), also der zweiten Komponente der 2-Tupel.\n",
    "### Listen in Dictionaries wandeln\n",
    "Auch wenn wir uns im folgenden ein wenig mit Essen beschäftigen, bleibt dies ein Python-Kurs und wird kein Kochkurs.\n",
    "Nehmen wir an, dass wir zwei Listen haben, von denen eine die Keys und die andere die Werte enthält:"
   ]
  },
  {
   "cell_type": "code",
   "execution_count": 66,
   "metadata": {},
   "outputs": [],
   "source": [
    "gerichte = [\"Pizza\", \"Sauerkraut\", \"Paella\", \"Hamburger\"]\n",
    "laender = [\"Italien\", \"Deutschland\", \"Spanien\", \"USA\"]"
   ]
  },
  {
   "cell_type": "markdown",
   "metadata": {},
   "source": [
    "### Die zip Funktion:"
   ]
  },
  {
   "cell_type": "markdown",
   "metadata": {},
   "source": [
    "Nun wollen wir ein Dictionary erzeugen, dass einem Gericht ein Land zuordnet. (Sorry, dass wir hier die Vorurteile bedienen.) Dazu benötigen wir die Funktion zip(). Der Name zip wurde gewählt, weil zip \"Reißverschluss\" im Englischen bedeutet. Wie ein Reißverschluss nimmt zip zwei oder mehr Listen - genauer gesagt iterierbare Objekte - als Argumente und liefert einen Iterator zurück, der die i-ten Komponenten der Argumente zu Tupeln zusammenfasst.\n",
    "\n",
    "In unserem kulinarischen Beispiel sieht das wie folgt aus:"
   ]
  },
  {
   "cell_type": "code",
   "execution_count": 67,
   "metadata": {},
   "outputs": [
    {
     "data": {
      "text/plain": [
       "<zip at 0x2e61378b108>"
      ]
     },
     "execution_count": 67,
     "metadata": {},
     "output_type": "execute_result"
    }
   ],
   "source": [
    "gericht_land_iterator = zip(laender, gerichte)\n",
    "gericht_land_iterator"
   ]
  },
  {
   "cell_type": "code",
   "execution_count": 68,
   "metadata": {},
   "outputs": [
    {
     "data": {
      "text/plain": [
       "[('Italien', 'Pizza'),\n",
       " ('Deutschland', 'Sauerkraut'),\n",
       " ('Spanien', 'Paella'),\n",
       " ('USA', 'Hamburger')]"
      ]
     },
     "execution_count": 68,
     "metadata": {},
     "output_type": "execute_result"
    }
   ],
   "source": [
    "land_gericht = list(gericht_land_iterator)\n",
    "land_gericht"
   ]
  },
  {
   "cell_type": "markdown",
   "metadata": {},
   "source": [
    "In der Variablen land_gericht haben wir nun eine Liste, in der die Elemente 2-Tupel sind mit den Schlüsseln und den Werten. Logisch gesehen sind wir also einem Dictionary schon sehr nahe. Was wir aber eigentlich wollen, ist ein richtiges Python-Dictionary. Glücklicherweise gibt es auch hierfür eine Funktion. dict() nimmt als Argument eine Liste der obigen Form und wandelt sie in ein Dictionary um:"
   ]
  },
  {
   "cell_type": "code",
   "execution_count": 69,
   "metadata": {},
   "outputs": [
    {
     "name": "stdout",
     "output_type": "stream",
     "text": [
      "{'Italien': 'Pizza', 'Deutschland': 'Sauerkraut', 'Spanien': 'Paella', 'USA': 'Hamburger'}\n"
     ]
    }
   ],
   "source": [
    "land_gericht_dict = dict(land_gericht)\n",
    "print(land_gericht_dict)"
   ]
  },
  {
   "cell_type": "markdown",
   "metadata": {},
   "source": [
    "Allerdings ist das obige Vorgehen äußerst ineffizient, da wir zuerst eine Liste mit Zweiertupel erzeugen und diese dann in ein Dictionary wandeln. Man kann \"dict\" auch direkt auf das Ergebnis von zip aufrufen:"
   ]
  },
  {
   "cell_type": "code",
   "execution_count": 70,
   "metadata": {},
   "outputs": [
    {
     "data": {
      "text/plain": [
       "{'Italien': 'Pizza',\n",
       " 'Deutschland': 'Sauerkraut',\n",
       " 'Spanien': 'Paella',\n",
       " 'USA': 'Hamburger'}"
      ]
     },
     "execution_count": 70,
     "metadata": {},
     "output_type": "execute_result"
    }
   ],
   "source": [
    "gerichte = [\"Pizza\", \"Sauerkraut\", \"Paella\", \"Hamburger\"]\n",
    "laender = [\"Italien\", \"Deutschland\", \"Spanien\", \"USA\"]\n",
    "dict(zip(laender, gerichte))"
   ]
  },
  {
   "cell_type": "markdown",
   "metadata": {},
   "source": [
    "Eine Frage stellt sich noch bezüglich der Funktion zip(). Was passiert, wenn eine der beiden Listen mehr Elemente als die andere hat? Ganz einfach, die überzähligen Elemente werden nicht verarbeitet, d.h. sie kommen nicht in die Ergebnisliste."
   ]
  },
  {
   "cell_type": "code",
   "execution_count": 71,
   "metadata": {},
   "outputs": [
    {
     "name": "stdout",
     "output_type": "stream",
     "text": [
      "<zip object at 0x000002E611828E48>\n"
     ]
    }
   ],
   "source": [
    "laender = [\"Italien\",\"Deutschland\",\"Spanien\",\"USA\",\"Schweiz\"]\n",
    "gerichte = [\"Pizza\", \"Sauerkraut\", \"Paella\", \"Hamburger\"]\n",
    "land_gericht = zip(laender,gerichte)\n",
    "print(land_gericht)"
   ]
  },
  {
   "cell_type": "markdown",
   "metadata": {},
   "source": [
    "Die brennende Frage, was wohl das Nationalgericht der Schweiz ist, bleibt, zumindest was diesen Kurs betrifft unbeantwortet!"
   ]
  },
  {
   "cell_type": "markdown",
   "metadata": {},
   "source": [
    "#### Alles in einem Schritt\n",
    "Normalerweise empfehlen wir nicht zu viele Schritte in eine Anweisung oder einen Ausdruck zu stecken, auch wenn dies eindrucksvoll ausschauen mag und der Code dadurch sehr klein und kompakt wird. Es ist häufig besser Zwischenschritte mit sprechenden Variablen einzubauen. Dadurch wird die Lesbarkeit und Verständlichkeit eines Programmes erhöht.\n",
    "\n",
    "Unser vorheriges kulinarisches Dictionary könnten wir in einem Schritt schreiben:"
   ]
  },
  {
   "cell_type": "code",
   "execution_count": 72,
   "metadata": {},
   "outputs": [
    {
     "name": "stdout",
     "output_type": "stream",
     "text": [
      "{'pizza': 'Italy', 'sauerkraut': 'Germany', 'paella': 'Spain', 'hamburger': 'USA'}\n"
     ]
    }
   ],
   "source": [
    "country_specialities_dict = dict(zip([\"pizza\", \"sauerkraut\", \"paella\", \"hamburger\"], [\"Italy\", \"Germany\", \"Spain\", \"USA\",\" Switzerland\"]))\n",
    "print(country_specialities_dict)"
   ]
  },
  {
   "cell_type": "markdown",
   "metadata": {},
   "source": [
    "Andererseits sind die Zwischenschritte im folgenden Code möglicherweise des Guten zu viel:"
   ]
  },
  {
   "cell_type": "code",
   "execution_count": 73,
   "metadata": {},
   "outputs": [
    {
     "name": "stdout",
     "output_type": "stream",
     "text": [
      "{'pizza': 'Italy', 'sauerkraut': 'Germany', 'paella': 'Spain', 'hamburger': 'USA'}\n"
     ]
    }
   ],
   "source": [
    "dishes = [\"pizza\", \"sauerkraut\", \"paella\", \"hamburger\"]\n",
    "countries = [\"Italy\", \"Germany\", \"Spain\", \"USA\"]\n",
    "country_specialities_zip = zip(dishes,countries)\n",
    "country_specialities_list = list(country_specialities_zip)\n",
    "country_specialities_dict = dict(country_specialities_list)\n",
    "print(country_specialities_dict)"
   ]
  },
  {
   "cell_type": "markdown",
   "metadata": {},
   "source": [
    "Wir erhalten das Gleiche Ergebnis, wie im Einzeiler.\n",
    "\n",
    "#### Lauernde Gefahr\n",
    "Insbesondere für diejenigen, die von Python 2.x auf Python 3.x wechseln lauert im obigen Vorgehen eine große Gefahr: zip() lieferte in Python2 eine Liste zurück. In Python 3.x hingegen liefert zip nun einen Iterator zurück. Man sollte sich immer vergegenwärtigen, dass sich viele Iteratoren bei der Benutzung \"verbrauchen\", das bedeutet, dass man sie nur einmal durchlaufen kann.\n",
    "\n",
    "Wir demonstrieren dies im folgenden kleinen Beispiel:"
   ]
  },
  {
   "cell_type": "code",
   "execution_count": 2,
   "metadata": {},
   "outputs": [
    {
     "name": "stdout",
     "output_type": "stream",
     "text": [
      "('a', 1)\n",
      "('b', 2)\n",
      "('c', 3)\n"
     ]
    }
   ],
   "source": [
    "l1 = [\"a\",\"b\",\"c\"]\n",
    "l2 = [1,2,3]\n",
    "c = zip(l1, l2)\n",
    "for i in c:\n",
    "    print(i)"
   ]
  },
  {
   "cell_type": "code",
   "execution_count": 3,
   "metadata": {},
   "outputs": [],
   "source": [
    "for i in c:\n",
    "    print(i)"
   ]
  },
  {
   "cell_type": "markdown",
   "metadata": {},
   "source": [
    "Diesen Effekt kann man auch beobachten, wenn man list() benutzt:"
   ]
  },
  {
   "cell_type": "code",
   "execution_count": 79,
   "metadata": {},
   "outputs": [
    {
     "name": "stdout",
     "output_type": "stream",
     "text": [
      "[('a', 1), ('b', 2), ('c', 3)]\n"
     ]
    }
   ],
   "source": [
    "l1 = [\"a\",\"b\",\"c\"]\n",
    "l2 = [1,2,3]\n",
    "c = zip(l1,l2)\n",
    "z1 = list(c)\n",
    "z2 = list(c)\n",
    "print(z1)"
   ]
  },
  {
   "cell_type": "code",
   "execution_count": 80,
   "metadata": {},
   "outputs": [
    {
     "name": "stdout",
     "output_type": "stream",
     "text": [
      "[]\n"
     ]
    }
   ],
   "source": [
    "print(z2)"
   ]
  },
  {
   "cell_type": "markdown",
   "metadata": {},
   "source": [
    "Als Übung können Sie überlegen, was im folgenden Skript faul ist:"
   ]
  },
  {
   "cell_type": "code",
   "execution_count": 4,
   "metadata": {},
   "outputs": [
    {
     "name": "stdout",
     "output_type": "stream",
     "text": [
      "[('pizza', 'Italy'), ('sauerkraut', 'Germany'), ('paella', 'Spain'), ('hamburger', 'USA')]\n",
      "[]\n",
      "{}\n"
     ]
    }
   ],
   "source": [
    "dishes = [\"pizza\", \"sauerkraut\", \"paella\", \"hamburger\"]\n",
    "countries = [\"Italy\", \"Germany\", \"Spain\", \"USA\"]\n",
    "country_specialities_zip = zip(dishes,countries)\n",
    "print(list(country_specialities_zip))\n",
    "country_specialities_list = list(country_specialities_zip)\n",
    "print(country_specialities_list) # hier ist zip iterator verbraucht\n",
    "country_specialities_dict = dict(country_specialities_list)\n",
    "print(country_specialities_dict)"
   ]
  },
  {
   "cell_type": "markdown",
   "metadata": {},
   "source": [
    "Wenn man das Skript startet, sieht man, dass das Dictionary, was wir erzeugen wollen, leer ist."
   ]
  }
 ],
 "metadata": {
  "kernelspec": {
   "display_name": "Python 3",
   "language": "python",
   "name": "python3"
  },
  "language_info": {
   "codemirror_mode": {
    "name": "ipython",
    "version": 3
   },
   "file_extension": ".py",
   "mimetype": "text/x-python",
   "name": "python",
   "nbconvert_exporter": "python",
   "pygments_lexer": "ipython3",
   "version": "3.8.8"
  }
 },
 "nbformat": 4,
 "nbformat_minor": 4
}
