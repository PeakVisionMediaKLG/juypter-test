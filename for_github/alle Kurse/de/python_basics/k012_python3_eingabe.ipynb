{
 "cells": [
  {
   "cell_type": "markdown",
   "metadata": {},
   "source": [
    "## Mehr zur Eingabe\n",
    "### Eingabe mit Input\n",
    "\n",
    "<img width=250 height=250 class=\"imgright\" src=\"../images/eingabe_bewegt.webp\" srcset=\"../images/eingabe_bewegt_350w.webp 350w,../images/eingabe_bewegt_300w.webp 300w\" alt=\"Eingabe über Tastatur \" />"
   ]
  },
  {
   "cell_type": "markdown",
   "metadata": {},
   "source": [
    "Es gibt kaum Programme, die ohne jegliche Eingaben auskommen. Eingaben können über viele Wege erfolgen, so zum Beispiel aus einer Datenbank, von einem anderen Rechner im lokalen Netzwerk oder auch über das Internet. Die einfachste und wohl auch häufigste Eingabe erfolgt jedoch über die Tastatur. Für diese Form der Eingabe bietet Python die Funktion input(eingabeprompt).\n",
    "\n",
    "Kommt es zum Aufruf der Funktion input während eines Programmlaufes, wird der Programmablauf solange gestoppt, bis die Benutzerin oder der Benutzer eine Eingabe über die Tastur tätigt und diese mit der Return-Taste abschließt. Damit der User auch weiß, was er einzugeben hat, wird der String des Parameters \"eingabeprompt\" ausgegeben, sofern ein solcher String existiert. Der Parameter \"eingabeprompt\" von input() ist optional.\n",
    "\n",
    "Der Eingabestring des Benutzers wird von input() nicht interpretiert, d.h. input() liefert immer einen String zurück.\n",
    "\n",
    "In der folgenden interaktiven Python-Shell können wir erkennen, dass die Eingabe immer ein String ist."
   ]
  },
  {
   "cell_type": "code",
   "execution_count": 1,
   "metadata": {},
   "outputs": [
    {
     "name": "stdout",
     "output_type": "stream",
     "text": [
      "Ihre Eingabe? 15\n"
     ]
    },
    {
     "data": {
      "text/plain": [
       "'15'"
      ]
     },
     "execution_count": 1,
     "metadata": {},
     "output_type": "execute_result"
    }
   ],
   "source": [
    "eingabe = input(\"Ihre Eingabe? \")\n",
    "eingabe"
   ]
  },
  {
   "cell_type": "code",
   "execution_count": 2,
   "metadata": {},
   "outputs": [
    {
     "name": "stdout",
     "output_type": "stream",
     "text": [
      "Ihre Eingabe? 3,4,5\n"
     ]
    }
   ],
   "source": [
    "eingabe = input(\"Ihre Eingabe? \") #mehrere Komma-separierte Elemente"
   ]
  },
  {
   "cell_type": "code",
   "execution_count": 3,
   "metadata": {},
   "outputs": [
    {
     "data": {
      "text/plain": [
       "'3,4,5'"
      ]
     },
     "execution_count": 3,
     "metadata": {},
     "output_type": "execute_result"
    }
   ],
   "source": [
    "eingabe\n"
   ]
  },
  {
   "cell_type": "code",
   "execution_count": 4,
   "metadata": {},
   "outputs": [
    {
     "data": {
      "text/plain": [
       "str"
      ]
     },
     "execution_count": 4,
     "metadata": {},
     "output_type": "execute_result"
    }
   ],
   "source": [
    "type(eingabe)"
   ]
  },
  {
   "cell_type": "markdown",
   "metadata": {},
   "source": [
    "Meistens wird auf den Ergebnisstring von input sofort der entsprechende cast-Operator angewendet, um den für die Weiterverarbeitung benötigten Datentyp zu erhalten:"
   ]
  },
  {
   "cell_type": "code",
   "execution_count": 5,
   "metadata": {},
   "outputs": [
    {
     "name": "stdout",
     "output_type": "stream",
     "text": [
      "Ihr Alter? 42\n"
     ]
    },
    {
     "data": {
      "text/plain": [
       "(42, int)"
      ]
     },
     "execution_count": 5,
     "metadata": {},
     "output_type": "execute_result"
    }
   ],
   "source": [
    "alter = int(input(\"Ihr Alter? \"))\n",
    "\n",
    "alter, type(alter)"
   ]
  },
  {
   "cell_type": "code",
   "execution_count": 6,
   "metadata": {},
   "outputs": [
    {
     "name": "stdout",
     "output_type": "stream",
     "text": [
      "Artikelpreis? 33.99\n"
     ]
    },
    {
     "data": {
      "text/plain": [
       "(33.99, float)"
      ]
     },
     "execution_count": 6,
     "metadata": {},
     "output_type": "execute_result"
    }
   ],
   "source": [
    "preis = float(input(\"Artikelpreis? \"))\n",
    "\n",
    "preis, type(preis)"
   ]
  },
  {
   "cell_type": "markdown",
   "metadata": {},
   "source": [
    "Eine unangenehme Überraschung erlebt mancher Programmieranfänger, wenn er oder sie eine Liste einlesen will und diese entsprechend mittels ,,list'' umwandelt:"
   ]
  },
  {
   "cell_type": "code",
   "execution_count": 1,
   "metadata": {},
   "outputs": [
    {
     "name": "stdout",
     "output_type": "stream",
     "text": [
      "Liste? [\"Berlin\", \"Ulm\", \"Frankfurt\", \"Stuttgart\", \"Freiburg\"]\n",
      "['[', '\"', 'B', 'e', 'r', 'l', 'i', 'n', '\"', ',', ' ', '\"', 'U', 'l', 'm', '\"', ',', ' ', '\"', 'F', 'r', 'a', 'n', 'k', 'f', 'u', 'r', 't', '\"', ',', ' ', '\"', 'S', 't', 'u', 't', 't', 'g', 'a', 'r', 't', '\"', ',', ' ', '\"', 'F', 'r', 'e', 'i', 'b', 'u', 'r', 'g', '\"', ']']\n"
     ]
    }
   ],
   "source": [
    "staedte = list(input(\"Liste? \"))\n",
    "print(staedte)"
   ]
  },
  {
   "cell_type": "code",
   "execution_count": 7,
   "metadata": {},
   "outputs": [
    {
     "name": "stdout",
     "output_type": "stream",
     "text": [
      "Liste? 1 3 44\n",
      "1 3 44\n"
     ]
    },
    {
     "data": {
      "text/plain": [
       "['1', '3', '44']"
      ]
     },
     "execution_count": 7,
     "metadata": {},
     "output_type": "execute_result"
    }
   ],
   "source": [
    "staedte = input(\"Liste? \") # bitte 1 3 4 eingeben\n",
    "print(staedte)\n",
    "staedte=list(staedte.split())\n",
    "staedte"
   ]
  },
  {
   "cell_type": "markdown",
   "metadata": {},
   "source": [
    "Eigentlich ist es klar und logisch, was passiert ist. Python wandelt den String in eine Liste, indem jedes einzelne Zeichen zu einem Listenelement wird. Wir hätten aber gerne die einzelnen Städte, also \"Berlin\", \"Ulm\", \"Frankfurt\", \"Stuttgart\", und \"Freiburg\", als Elemente der Ergebnisliste. Um dies zu erreichen müssen wir die Funktion eval benutzen. eval interpretiert die Eingabe und liefert den entsprechenden Datentyp zurück. Dies funktioniert nicht nur für Listen sondern auch für andere Datentypen wie beispielsweise Tupel und Dictionaries."
   ]
  },
  {
   "cell_type": "code",
   "execution_count": 2,
   "metadata": {},
   "outputs": [
    {
     "name": "stdout",
     "output_type": "stream",
     "text": [
      "Liste? [\"Zürich\", \"Bern\", \"Basel\", \"Schaffhausen\"]\n",
      "['Zürich', 'Bern', 'Basel', 'Schaffhausen']\n"
     ]
    }
   ],
   "source": [
    "staedte = eval(input(\"Liste? \"))\n",
    "print(staedte)"
   ]
  },
  {
   "cell_type": "code",
   "execution_count": 7,
   "metadata": {},
   "outputs": [
    {
     "name": "stdout",
     "output_type": "stream",
     "text": [
      "Städte und Einwohner: {\"Köln\": 1024373, \"Frankfurt\":687775, \"Stuttgart\":597939}\n"
     ]
    },
    {
     "data": {
      "text/plain": [
       "{'Köln': 1024373, 'Frankfurt': 687775, 'Stuttgart': 597939}"
      ]
     },
     "execution_count": 7,
     "metadata": {},
     "output_type": "execute_result"
    }
   ],
   "source": [
    "einwohnerzahl = eval(input(\"Städte und Einwohner: \"))\n",
    "einwohnerzahl"
   ]
  }
 ],
 "metadata": {
  "kernelspec": {
   "display_name": "Python 3",
   "language": "python",
   "name": "python3"
  },
  "language_info": {
   "codemirror_mode": {
    "name": "ipython",
    "version": 3
   },
   "file_extension": ".py",
   "mimetype": "text/x-python",
   "name": "python",
   "nbconvert_exporter": "python",
   "pygments_lexer": "ipython3",
   "version": "3.8.8"
  }
 },
 "nbformat": 4,
 "nbformat_minor": 2
}
