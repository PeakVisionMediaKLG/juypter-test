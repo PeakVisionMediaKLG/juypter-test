{
 "cells": [
  {
   "cell_type": "markdown",
   "metadata": {},
   "source": [
    "## Bedingte Anweisungen\n",
    "<img class=\"imgleft\" src=\"../images/decision_300.webp\" srcset=\"../images/decision_300_300w.webp 300w\" alt=\"Unvermeidliche Entscheidungen\" />\n",
    "\n",
    "### Manche Entscheidungen sind unvermeidlich\n",
    "\n",
    "Zu bestimmten Zeiten und gewissen Situationen sind Entscheidungen unvermeidlich, da trennen sich die Wege von Mann und Frau, wie man im Foto sehen kann. So kann man auch kaum ein sinnvolles Programm oder Skript schreiben, was ohne jede Verzweigung auskommt.\n",
    "\n",
    "In einer Programmiersprache versteht man unter einer bedingten Anweisung, wie man Verzweigungen auch nennt, Codeteile, die unter einer Bedingung ausgeführt, werden. Liegt die Bedingung nicht vor, wird dieser Code nicht ausgeführt. Anders ausgedrückt: Eine Verzweigung legt fest, welcher von zwei (oder auch mehr) Programmteilen (Alternativen) in Abhängigkeit von einer (oder mehreren) Bedingungen ausgeführt wird. Bedingte Anweisungen und Verzweigungen werden in Programmiersprachen (ebenso wie die Schleifen) den Kontrollstrukturen zugerechnet, weil mit ihrer Hilfe ein Programm auf verschiedene Zustände, die sich aus Eingaben und Berechnungen ergeben, reagieren kann.\n",
    "\n",
    "In dem abschließenden Beispiel dieses Kapitels geht es um Steuern. Wir schreiben ein Pythonskript, mit dem man sich aus dem zu versteuernden Einkommen die Steuern für 2014 berechnen lassen kann.\n",
    "\n",
    "### Die if-Anweisung\n",
    "\n",
    "Die if-Anweisung wird benutzt, um den Programmablauf in einem Python-Programm zu steuern. Damit wird es möglich zur Laufzeit zu entscheiden, ob bestimmte Programmteile ausgeführt werden sollen oder nicht.\n",
    "\n",
    "Die einfachste Form einer if-Anweisung in einem Python-Programm sieht folgendermaßen aus:\n",
    "\n",
    "<pre>\n",
    "if bedingung:\n",
    "\tanweisung\n",
    "\tanweisung\n",
    "\t#...weitere Anweisungen, falls nötig\n",
    "</pre>\n",
    "\n",
    "Der eingerückte Block wird nur dann ausgeführt, wenn die Bedingung \"bedingung\" zutrifft. Sprich, wenn sie logisch \"true\" ist.\n",
    "\n",
    "Im folgenden Beispiel wird der Benutzer nach seiner Nationalität gefragt. Der eingerückte Block wird nur ausgeführt, wenn die Nationalität \"french\" ist. Sollte der Benutzer eine andere Nationalität eingeben, passiert nichts."
   ]
  },
  {
   "cell_type": "code",
   "execution_count": 9,
   "metadata": {},
   "outputs": [
    {
     "name": "stdout",
     "output_type": "stream",
     "text": [
      "Nationalität? englisch\n",
      "Nicht mehr eingerückt\n"
     ]
    }
   ],
   "source": [
    "person = input(\"Nationalität? \")\n",
    "if person == \"french\":\n",
    "    print(\"Préférez-vous parler français?\")\n",
    "    print(\"hallo auch eingerückt\")\n",
    "print(\"Nicht mehr eingerückt\")    "
   ]
  },
  {
   "cell_type": "markdown",
   "metadata": {},
   "source": [
    "Bitte beachten Sie, dass wenn hier \"French\" eingegeben wird, nichts passiert. Die Prüfung in der Bedingung ist nämlich case-sensitiv und reagiert in diesem Fall nur, wenn \"french\" eingegeben wird. Wir erweitern nun die Bedingung mit einem \"or\"."
   ]
  },
  {
   "cell_type": "code",
   "execution_count": 2,
   "metadata": {},
   "outputs": [
    {
     "name": "stdout",
     "output_type": "stream",
     "text": [
      "Nationalität? French\n",
      "Préférez-vous parler français?\n"
     ]
    }
   ],
   "source": [
    "person = input(\"Nationalität? \")\n",
    "if person == \"french\" or person == \"French\":\n",
    "    print(\"Préférez-vous parler français?\")"
   ]
  },
  {
   "cell_type": "markdown",
   "metadata": {},
   "source": [
    "Der italienische Kollege würde sich jetzt möglicherweise benachteiligt fühlen, weil italienisch sprechende nicht berücksichtigt wurden. Wir erweitern das Programm um eine weitere if-Anweisung."
   ]
  },
  {
   "cell_type": "code",
   "execution_count": 10,
   "metadata": {},
   "outputs": [
    {
     "name": "stdout",
     "output_type": "stream",
     "text": [
      "Nationalität? englisch\n",
      "Prüfung französisch\n",
      "Prüfung italiänisch\n"
     ]
    }
   ],
   "source": [
    "person = input(\"Nationalität? \")\n",
    "print(\"Prüfung französisch\")\n",
    "if person == \"french\" or person == \"French\":\n",
    "    print(\"Préférez-vous parler français?\")\n",
    "print(\"Prüfung italienisch\")\n",
    "if person == \"italian\" or person == \"Italian\":\n",
    "    print(\"Preferisci parlare italiano?\")"
   ]
  },
  {
   "cell_type": "markdown",
   "metadata": {},
   "source": [
    "Dieses kleine Skript hat einen Nachteil. Nehmen wir an, dass der Benutzer \"french\" als Nationalität eingibt. In diesem Fall wird der Block des ersten \"if\" ausgeführt. Anschließend prüft das Programm aber noch, ob das zweite \"if\" ebenfalls ausgeführt werden kann. Dass passiert hier natürlich nicht, denn die Eingabe \"french\" passt nicht zu der Bedingung \"italian\" oder \"Italian\". Im Endeffekt ist dies eine unnötige Prüfung, wenn \"french\" oder \"French\" eingegeben wird.\n",
    "\n",
    "Wir lösen das Problem mit einer \"elif\"-Bedingung. Der Ausdruck wird nur geprüft, wenn der Ausdruck des vorherigen \"elif\" oder \"if\" false war."
   ]
  },
  {
   "cell_type": "code",
   "execution_count": 4,
   "metadata": {},
   "outputs": [
    {
     "name": "stdout",
     "output_type": "stream",
     "text": [
      "Nationalität? Türkisch\n",
      "Du bist weder Italiener noch Franzose.\n",
      "Deshalb reden wir jetzt deutsch!\n"
     ]
    }
   ],
   "source": [
    "person = input(\"Nationalität? \")\n",
    "if person == \"french\" or person == \"French\":\n",
    "    print(\"Préférez-vous parler français?\")\n",
    "elif person == \"italian\" or person == \"Italian\":\n",
    "    print(\"Preferisci parlare italiano?\")\n",
    "else:\n",
    "    print(\"Du bist weder Italiener noch Franzose.\")\n",
    "    print(\"Deshalb reden wir jetzt deutsch!\")"
   ]
  },
  {
   "cell_type": "markdown",
   "metadata": {},
   "source": [
    "Wie in unserem Beispiel gibt es in dem meisten if-Anweisungen ebenfalls \"elif\"- und \"else\"-Zweige. Sprich, es kann mehr als einen \"elif\"-Zweig geben, aber nur einen \"else\"-Zweig. Der \"else\"-Zweig muss am Ende der if-Anweisung stehen. Weitere \"elif\"-Zweige können nicht hinten angestellt werden."
   ]
  },
  {
   "cell_type": "markdown",
   "metadata": {},
   "source": [
    "Hier überprüfen wir die Grösse einer Zahl."
   ]
  },
  {
   "cell_type": "code",
   "execution_count": 24,
   "metadata": {},
   "outputs": [
    {
     "name": "stdout",
     "output_type": "stream",
     "text": [
      "Bitte Zahl: 67\n",
      "grösser 50 und kleiner 100\n"
     ]
    }
   ],
   "source": [
    "zahl=int(input(\"Bitte Zahl: \"))\n",
    "\n",
    "if zahl<10:\n",
    "    print(\"kleiner 10\")\n",
    "else:\n",
    "    if zahl<50:\n",
    "        print(\"grösser 10 und kleiner 50\")\n",
    "    else:\n",
    "        if zahl<100:\n",
    "            print(\"grösser 50 und kleiner 100\")\n",
    "        else:\n",
    "            print(\"grösser 100\")"
   ]
  },
  {
   "cell_type": "markdown",
   "metadata": {},
   "source": [
    "Wir programmieren ein Zahlenratespiel:\n",
    "Es können Zahlen zwischen 0 und 100 eingegeben werden, um eine vorher festgelegte \"Geheimzahl\" in diesem Bereich zu finden. Wird eine Ratezahl eingegeben wird als Ausdruck erzeugt: \"Geheimzahl ist grösser\" , sonst \"Geheimzahl ist kleiner\" oder \"richtige Zahl\".\n",
    "    "
   ]
  },
  {
   "cell_type": "markdown",
   "metadata": {},
   "source": [
    "### Beispiel Hundejahre\n",
    "\n",
    "Für Kinder und Hundeliebhaber ist es eine interessante und häufig gestellte Frage, wie alt ihr Liebling wohl wäre, wenn er kein Hund sondern ein Mensch wäre. Zur Berechnung dieser Aufgabe gibt es verschiedene wissenschaftliche und pseudowissenschaftliche Ansätze. Landläufig rechnet man Hundejahre in Menschen-Jahre um, indem man das Alter des Hundes mit 7 multipliziert. Je nach Hundegröße und Rasse sieht die Umrechnung jedoch etwas komplizierter aus, z.B.:\n",
    "\n",
    "    Ein einjähriger Hund entspricht in etwa einem 14-jährigen Menschen\n",
    "    Ein Hund der zwei Jahre alt ist, entspricht entwicklungsmäßig einem 22-jährigen Menschen.\n",
    "    Jedes weitere Hundejahr entspricht fünf Menschenjahre. \n",
    "\n",
    "Bitte versuchen Sie ein Programm zu schreiben, dass bei Eingabe des Hundealters in Jahren das entsprechende Menschenalter ausgibt.\n",
    "Im Fall der Eingabe von negativen Zahlen bitte Fehlermeldung ausgeben.\n",
    "Im Fall der Eingabe von 0 bitte 0 ausgeben.\n",
    "Sonst s.o."
   ]
  },
  {
   "cell_type": "markdown",
   "metadata": {},
   "source": [
    "\n",
    "\n",
    "\n",
    "\n",
    "\n",
    "\n",
    "\n",
    "\n",
    "\n",
    "\n",
    "\n",
    "\n",
    "\n",
    "\n",
    "\n",
    "\n",
    "\n",
    "\n",
    "\n",
    "\n",
    "\n",
    "\n",
    "\n",
    "\n",
    "\n",
    "\n",
    "\n",
    "\n",
    "\n",
    "\n",
    "\n",
    "\n",
    "\n",
    "\n",
    "\n",
    "\n",
    "\n",
    "\n",
    "\n",
    "\n",
    "\n",
    "\n",
    "\n",
    "\n",
    "\n",
    "\n",
    "\n",
    "\n",
    "\n",
    "\n",
    "\n",
    "\n"
   ]
  },
  {
   "cell_type": "code",
   "execution_count": 5,
   "metadata": {},
   "outputs": [
    {
     "name": "stdout",
     "output_type": "stream",
     "text": [
      "Alter des Hundes: 5\n",
      "\n",
      "Das entspricht ca. 37 Menschenjahre!\n"
     ]
    }
   ],
   "source": [
    "age = int(input(\"Alter des Hundes: \"))\n",
    "print()\n",
    "if age < 0:\n",
    "    print(\"Das stimmt wohl kaum!\")\n",
    "elif age == 0:\n",
    "    print(\"Entspricht 0 Menschenjahre!\")\n",
    "elif age == 1:\n",
    "    print(\"Entspricht ca. 14 Jahre!\")\n",
    "elif age == 2:\n",
    "    print(\"Entspricht ca. 22 Jahre!\")\n",
    "elif age > 2:\n",
    "    human = 22 + (age -2) * 5\n",
    "    print(\"Das entspricht ca. \" + str(human) + \" Menschenjahre!\")"
   ]
  },
  {
   "cell_type": "markdown",
   "metadata": {},
   "source": [
    "Wir schreiben jetzt folgendes Programm:<br>\n",
    "Eingabe: 3 Integer Werte vom User <br>\n",
    "Ausgabe: Wieviel dieser Werte sind identisch<br>\n"
   ]
  },
  {
   "cell_type": "code",
   "execution_count": null,
   "metadata": {},
   "outputs": [],
   "source": [
    "\n",
    "\n",
    "\n",
    "\n",
    "\n",
    "\n",
    "\n",
    "\n",
    "\n",
    "\n",
    "\n",
    "\n",
    "\n",
    "\n",
    "\n",
    "\n",
    "\n",
    "\n",
    "\n",
    "\n",
    "\n",
    "\n",
    "\n",
    "\n",
    "\n",
    "\n",
    "\n",
    "\n",
    "\n",
    "\n",
    "\n",
    "\n",
    "\n",
    "\n",
    "\n",
    "\n",
    "\n",
    "\n",
    "\n",
    "\n",
    "\n",
    "\n",
    "\n"
   ]
  },
  {
   "cell_type": "code",
   "execution_count": 2,
   "metadata": {},
   "outputs": [
    {
     "name": "stdout",
     "output_type": "stream",
     "text": [
      "Bitte ersten Wert eingeben3\n",
      "Bitte zweiten Wert eingeben6\n",
      "Bitte dritten Wert eingeben3\n",
      "Gleich sind:  2\n"
     ]
    }
   ],
   "source": [
    "resultat=0\n",
    "#werte=input(\"Bitte die Werte \").split(\",\")\n",
    "#wert1=int(werte[0])\n",
    "#wert2=int(werte[1])\n",
    "#wert3=int(werte[2])\n",
    "wert1=int(input(\"Bitte ersten Wert eingeben\"))\n",
    "wert2=int(input(\"Bitte zweiten Wert eingeben\"))\n",
    "wert3=int(input(\"Bitte dritten Wert eingeben\"))\n",
    "if wert1==wert2 and wert2==wert3:\n",
    "    resultat=3\n",
    "elif wert1==wert2 or wert1==wert3 or wert2==wert3:\n",
    "    resultat=2\n",
    "print(\"Gleich sind: \",resultat)\n",
    "    \n"
   ]
  },
  {
   "cell_type": "markdown",
   "metadata": {},
   "source": [
    "Wir werden obiges Programm in unserem Python-Tutorial noch einmal im Kapitel [\"Funtionen\"](python3_funktionen.php) aufgreifen, um daraus eine Funktion zu machen."
   ]
  },
  {
   "cell_type": "markdown",
   "metadata": {},
   "source": [
    "### Wahr oder falsch\n",
    "\n",
    "\"Was nicht verboten ist, ist erlaubt\" so funktioniert unser Gesetz. Dadurch soll vermieden werden, dass es Lücken im Gesetz gibt. Ähnlich verhält es sich auch mit den Bedingungen in Python. Alles was nicht False ist, hat den Wert True. Wir brauchen also nur zu definieren, was \"falsch\", also False ist.\n",
    "Als \"falsch\" gilt in Python:\n",
    "\n",
    "    numerische Null-Werte(0, 0L, 0.0, 0.0+0.0j),\n",
    "    der boolschen Wert False,\n",
    "    leere Zeichenketten,\n",
    "    leere Listen, leere Tupel,\n",
    "    leere Dictionaries.\n",
    "    sowie der spezielle Wert None. \n",
    "\n",
    "\n",
    "Alle anderen Werte betrachtet Python als \"wahr\".\n",
    "\n",
    "Damit erklären sich auch Bedingungen, die nur aus einem Variablennamen bestehen. So wie beispielsweise im folgenden Beispielprogramm in der Bedingung der while-Schleife:"
   ]
  },
  {
   "cell_type": "code",
   "execution_count": 3,
   "metadata": {},
   "outputs": [
    {
     "name": "stdout",
     "output_type": "stream",
     "text": [
      "False\n"
     ]
    }
   ],
   "source": [
    "a=\"\"\n",
    "if not a:\n",
    "    print(\"False\")"
   ]
  },
  {
   "cell_type": "markdown",
   "metadata": {},
   "source": [
    "\n",
    "### Ternäres if\n",
    "\n",
    "C-Programmierer kennen folgende abgekürzte Schreibweise für das if-Konstrukt:\n",
    "\n",
    "<pre>\n",
    "max = (a > b) ? a : b; \n",
    "</pre>\n",
    "\n",
    "als Abkürzung für:\n",
    "\n",
    "<pre>\n",
    "if (a > b)\n",
    "   max=a;\n",
    "else\n",
    "   max=b;  \n",
    "</pre>  \n",
    "\n",
    "In Python müssen sich C-Programmierer, was diese Schreibweise betrifft, umgewöhnen. In Python formuliert man das vorige Beispiel wie folgt:\n",
    "\n",
    "<pre>\n",
    "max = a if (a > b) else b\n",
    "</pre>"
   ]
  },
  {
   "cell_type": "code",
   "execution_count": 64,
   "metadata": {},
   "outputs": [
    {
     "data": {
      "text/plain": [
       "'kleiner 4'"
      ]
     },
     "execution_count": 64,
     "metadata": {},
     "output_type": "execute_result"
    }
   ],
   "source": [
    "zahl=3\n",
    "resultat = \"kleiner 4\" if (zahl < 4) else \"grösser\"\n",
    "resultat"
   ]
  },
  {
   "cell_type": "code",
   "execution_count": 65,
   "metadata": {},
   "outputs": [
    {
     "data": {
      "text/plain": [
       "'kleiner 4'"
      ]
     },
     "execution_count": 65,
     "metadata": {},
     "output_type": "execute_result"
    }
   ],
   "source": [
    "zahl=3\n",
    "if zahl<4:\n",
    "    resultat=\"kleiner 4\"\n",
    "else:\n",
    "    resultat=\"grösser\"\n",
    "resultat"
   ]
  },
  {
   "cell_type": "markdown",
   "metadata": {},
   "source": [
    "Eigentlich ist es natürlich mehr als nur eine abgekürzte Schreibweise für eine standard if-Anweisung. Man kann das ternäre if auch innerhalb eines Ausdrucks verwenden:"
   ]
  },
  {
   "cell_type": "code",
   "execution_count": 10,
   "metadata": {},
   "outputs": [
    {
     "data": {
      "text/plain": [
       "42"
      ]
     },
     "execution_count": 10,
     "metadata": {},
     "output_type": "execute_result"
    }
   ],
   "source": [
    "a = 17\n",
    "b = 50\n",
    "result = (21 if a < b else 7) * 2 \n",
    "result"
   ]
  },
  {
   "cell_type": "markdown",
   "metadata": {},
   "source": [
    "### Steuerrechner in Python\n",
    "Ein praktisches Beispiel für bedingte Anweisungen stellt die Einkommenssteuerberechnung dar. Das zu versteuernde Einkommen (zvE) muss einer Tarifzone zugeordnet werden, wozu sich eine if-Anweisung anbietet. Der Steuerbetrag (StB) bei Einzelveranlagung wird nach den entsprechenden Formeln berechnet:1\n",
    "\n",
    "    Erste Zone (Grundfreibetrag): bis 8353,- € fällt keine Steuer an\n",
    "    Zweite Zone: zvE von 8.354 € bis 13.469 €\n",
    "    StB = (974,58 * y + 1400)*y\n",
    "    Für y gilt:\n",
    "    y = (zvE - 8004) / 10000\n",
    "    Dritte Zone: zvE von 13470 € bis 52881 €\n",
    "    StB = (228,74 * z + 2397)*z + 971\n",
    "    Für z gilt:\n",
    "    z = (zvE - 13469) / 10000\n",
    "    Vierte Zone: zvE von 52882 € bis 250730 €\n",
    "    StB = 0,42 * zvE - 8239\n",
    "    Fünfte Zone: zvE ab 250731 €\n",
    "    StB = 0,45 * zvE - 15761 \n",
    "\n",
    "Eine Python-Funktion zur Berechnung der Einkommenssteuer für 2014 aus dem Einkommentarif sieht nun wie folgt aus: (natürlich ohne Gewähr!!!)"
   ]
  },
  {
   "cell_type": "code",
   "execution_count": 11,
   "metadata": {},
   "outputs": [],
   "source": [
    "def steuern2014(einkommen):\n",
    "    \"\"\"Berechnung der zu zahlenden Steuern im Jahr 2014\n",
    "    fuer ein zu versteuerndes Einkommen von x\"\"\"\n",
    "    if einkommen < 8354:\n",
    "        steuer = 0\n",
    "    elif einkommen <= 13469:\n",
    "        y = (einkommen - 8004.0)/10000.0\n",
    "        steuer = (974.58 * y + 1400) * y\n",
    "    elif einkommen <= 52881:\n",
    "        z = (einkommen - 13469.0)/10000.0\n",
    "        steuer = (228.74 * z + 2397.0) * z + 971\n",
    "    elif einkommen < 250731:\n",
    "        steuer = einkommen * 0.42 - 8239\n",
    "    else:\n",
    "        steuer = einkommen * 0.45 - 15761\n",
    "    return steuer"
   ]
  },
  {
   "cell_type": "markdown",
   "metadata": {},
   "source": [
    "Bei Ehegattensplitting lassen sich die Steuern mit folgendem Aufruf berechnen:\n",
    "\n",
    "<pre>\n",
    "steuern = 2 * steuern(einkommen / 2)\n",
    "</pre>\n",
    "\n",
    "Wenn Sie auch 2013 und 2014 Ihre Einkommenssteuer mit Python berechnen wollen, finden Sie hier die die geänderten Funktion zur Steuerberechnung: (Ohne Gewähr)"
   ]
  },
  {
   "cell_type": "code",
   "execution_count": 12,
   "metadata": {},
   "outputs": [],
   "source": [
    "def steuern2013(einkommen):\n",
    "    \"\"\"Berechnung der zu zahlenden Steuern im Jahr 2013\n",
    "    fuer ein zu versteuerndes Einkommen von x\"\"\"\n",
    "    if einkommen < 8130:\n",
    "        steuer = 0\n",
    "    elif einkommen <= 13469:\n",
    "        y = (einkommen - 8004.0)/10000.0\n",
    "        steuer = ( 933.70 * y + 1400) * y\n",
    "    elif einkommen <= 52881:\n",
    "        z = (einkommen - 13469.0)/10000.0\n",
    "        steuer = (228.74 * z +2397.0) * z + 1014\n",
    "    elif einkommen < 250731:\n",
    "        steuer = einkommen * 0.42 - 8196\n",
    "    else:\n",
    "        steuer = einkommen * 0.45 - 15718\n",
    "    return steuer"
   ]
  },
  {
   "cell_type": "code",
   "execution_count": 13,
   "metadata": {},
   "outputs": [],
   "source": [
    "def steuern2014(einkommen):\n",
    "    \"\"\"Berechnung der zu zahlenden Steuern im Jahr 2014\n",
    "    fuer ein zu versteuerndes Einkommen von x\"\"\"\n",
    "    if einkommen < 8354:\n",
    "        steuer = 0\n",
    "    elif einkommen <= 13469:\n",
    "        y = (einkommen -8004.0)/10000.0\n",
    "        steuer = (974.58 * y + 1400) * y\n",
    "    elif einkommen <= 52881:\n",
    "        z = (einkommen -13469.0)/10000.0\n",
    "        steuer = (228.74 * z +2397.0)*z +971\n",
    "    elif einkommen < 250731:\n",
    "        steuer = einkommen * 0.42 - 8239\n",
    "    else:\n",
    "        steuer = einkommen * 0.45 - 15761\n",
    "    return steuer"
   ]
  },
  {
   "cell_type": "markdown",
   "metadata": {},
   "source": [
    "### Footnotes\n",
    "<sub> 1 </sub> Corresponding German legislative text:\n",
    "Einkommensteuergesetz, § 52 Anwendungsvorschriften\n",
    "(41) § 32a Absatz 1 ist ab dem Veranlagungszeitraum 2010 in der folgenden Fassung anzuwenden:\n",
    " \"(1) 1Die tarifliche Einkommensteuer bemisst sich nach dem zu versteuernden Einkommen. 2Sie beträgt vorbehaltlich der §§ 32b, 32d, 34, 34a, 34b und 34c jeweils in Euro für zu versteuernde Einkommen\n",
    "1. \t\n",
    "bis 8 004 Euro (Grundfreibetrag):\n",
    "0;\n",
    "2. \t\n",
    "von 8 005 Euro bis 13 469 Euro:\n",
    "(912,17 * y + 1 400) * y;\n",
    "3. \t\n",
    "von 13 470 Euro bis 52 881 Euro:\n",
    "(228,74 * z + 2 397) * z + 1 038;\n",
    "4. \t\n",
    "von 52 882 Euro bis 250 730 Euro:\n",
    "0,42 * x - 8 172;\n",
    "5. \t\n",
    "von 250 731 Euro an:\n",
    "0,45 * x - 15 694.\n",
    "\n",
    "\n",
    "An den Formeln zur Berechnung der Einkommenssteuer hat sich im Jahr 2013 nichts prinzipiell geändert. Im folgenden sind die Änderungen in Rot markiert:\n",
    "\n",
    "1. \t\n",
    "bis 8 354 Euro (Grundfreibetrag):\n",
    "0;\n",
    "2. \t\n",
    "von 8 355 Euro bis 13 469 Euro:\n",
    "(912,17 * y + 1 400) * y;\n",
    "3. \t\n",
    "von 13 470 Euro bis 52 881 Euro:\n",
    "(228,74 * z + 2 397) * z + 1 038;\n",
    "4. \t\n",
    "von 52 882 Euro bis 250 730 Euro:\n",
    "0,42 * x - 8 239;\n",
    "5. \t\n",
    "von 250 731 Euro an:\n",
    "0,45 * x - 15 761.\n",
    "3\"y\" ist ein Zehntausendstel des 8 004 Euro übersteigenden Teils des auf einen vollen Euro-Betrag abgerundeten zu versteuernden Einkommens. 4\"z\" ist ein Zehntausendstel des 13 469 Euro übersteigenden Teils des auf einen vollen Euro-Betrag abgerundeten zu versteuernden Einkommens. 5\"x\" ist das auf einen vollen Euro-Betrag abgerundete zu versteuernde Einkommen. 6Der sich ergebende Steuerbetrag ist auf den nächsten vollen Euro-Betrag abzurunden.\""
   ]
  }
 ],
 "metadata": {
  "kernelspec": {
   "display_name": "Python 3",
   "language": "python",
   "name": "python3"
  },
  "language_info": {
   "codemirror_mode": {
    "name": "ipython",
    "version": 3
   },
   "file_extension": ".py",
   "mimetype": "text/x-python",
   "name": "python",
   "nbconvert_exporter": "python",
   "pygments_lexer": "ipython3",
   "version": "3.8.8"
  }
 },
 "nbformat": 4,
 "nbformat_minor": 4
}
