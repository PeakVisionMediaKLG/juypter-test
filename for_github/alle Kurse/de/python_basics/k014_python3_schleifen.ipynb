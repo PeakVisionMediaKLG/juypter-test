{
 "cells": [
  {
   "cell_type": "markdown",
   "metadata": {},
   "source": [
    "## Schleifen\n",
    "### Allgemeiner Aufbau einer Schleife\n",
    "\n",
    "Schleifen werden benötigt, um einen Codeblock, den man auch als Schleifenkörper bezeichnet, wiederholt auszuführen. In Python gibt es zwei Schleifentypen:\n",
    "\n",
    "    die while-Schleife und\n",
    "    die for-Schleife\n",
    "\n",
    "\n",
    "<img class=\"imgleft\" src=\"../images/ablauf_schleife1s.webp\" alt=\"Ablaufdiagramm einer Schleife\" /> \n",
    "\n",
    "Die meisten Schleifen enthalten einen Zähler oder ganz allgemein Variablen, die im Verlauf der Berechnungen innerhalb des Schleifenkörpers ihre Werte ändern. Außerhalb, d.h. noch vor dem Beginn der Schleife, werden diese Variablen initialisiert. Vor jedem Schleifendurchlauf wird geprüft, ob ein Ausdruck, in dem dieser Zähler und gegebenenfalls auch andere Variablen vorkommen, wahr ist. Dieser Ausdruck bestimmt das Endekriterium der Schleife. Solange die Berechnung dieses Ausdrucks \"True\" liefert, wird der Rumpf der Schleife ausgeführt. Nachdem alle Anweisungen des Schleifenkörpers durchgeführt worden sind, springt die Programmsteuerung automatisch zum Anfang der Schleife, also zur Prüfung des Endekriteriums zurück und prüft wieder, ob dieses nochmals erfüllt ist.\n",
    "Wenn ja, geht es wie oben beschrieben weiter, ansonsten wird der Schleifenkörper nicht mehr ausgeführt und es wird mit dem Rest des Skriptes fortgefahren. Das nebenstehende Diagramm zeigt dies schematisch.\n",
    "\n",
    "Ganz allgemein unterscheidet man drei verschiedene Schleifentypen in Programmiersprachen:\n",
    "\n",
    "- Zähler-kontrollierte Schleifen\n",
    "    Ein Programmkonstrukt, mit dem der Schleifenkörper unter der Kontrolle einer Zählervariablen eine bestimmte Anzahl von Malen durchlaufen wird. Dies entspricht der for-Schleife, wie wir sie in C bzw. C++ vorfinden. Python kennt diesen Schleifentyp nicht:\n",
    "    for (i=0; i <= n; i++)\n",
    "- Bedingungs-kontrollierte Schleifen\n",
    "    Eine Schleife wird solange wiederholt, bis sich eine Bedingung ändert, also solange eine Bedingung z.B. wahr ist. Es gibt while-Schleifen und Do-While-Schleifen, die dieses Verhalten haben.\n",
    "- Sammlung-kontrollierte Schleifen\n",
    "    Mit Sammlung meinen wir Listen, Arrays oder sonstige Anordnungen von Objekten. Über die Elemente einer solchen Sammlung wird mittels einer Schleife iteriert. Diese Schleifen werden meistens eingeleitet mit dem Schlüsselwort \"foreach\", aber auch mit \"for\" wie in Python. Wohl einen der bekanntesten Vertreter dieser \"Gattung\" liefert die Bash-Shell:\n",
    "    <pre> \n",
    "    for i in *; do echo $i; done \n",
    "    </pre>"
   ]
  },
  {
   "cell_type": "markdown",
   "metadata": {},
   "source": [
    "### Einfache Beispiele von Schleifen\n",
    "Das folgende Skript, das wir in der interaktiven Shell direkt eintippen können, gibt die Zahlen von 1 bis 10 aus:"
   ]
  },
  {
   "cell_type": "code",
   "execution_count": null,
   "metadata": {},
   "outputs": [],
   "source": [
    "i = 1\n",
    "while i <= 10:\n",
    "      print(i)\n",
    "      i += 1 #Achtung in der Schleife muss sich etwas verändern, was die Eingangs-Bedingung beeinflusst\n",
    "print(\"fertig\",i)"
   ]
  },
  {
   "cell_type": "markdown",
   "metadata": {},
   "source": [
    "Mit dem nächsten kleinen Python-Skript berechnen wir die Summe der Zahlen von 1 bis 100. In ähnlicher Form würde man es auch in C, C++ oder Java machen. Allerdings geht es in Python deutlich einfacher, wie wir im folgenden Kapitel sehen werden."
   ]
  },
  {
   "cell_type": "code",
   "execution_count": null,
   "metadata": {},
   "outputs": [],
   "source": [
    "n = 100\n",
    "\n",
    "sum_of_numbers = 0\n",
    "i = 1\n",
    "\n",
    "while i <= n:\n",
    "    sum_of_numbers += i\n",
    "    i += 1\n",
    "\n",
    "result = \"Summe von 1 bis \" + str(n) + \": \" + str(sum_of_numbers)\n",
    "print(result)"
   ]
  },
  {
   "cell_type": "markdown",
   "metadata": {},
   "source": [
    "### Der else-Teil\n",
    "\n",
    "<img class=\"imgright\" src=\"../images/ablauf_schleife_else_s.webp\" srcset=\"../images/ablauf_schleife_else_s_300w.webp 300w\" alt=\"Ablaufdiagramm einer Schleife mit else-Teil\" />\n",
    "\n",
    "Wie auch die bedingte if-Anweisung hat die while-Schleife in Python im Gegensatz zu anderen Programmiersprachen einen optionalen else-Zweig, was für viele Programmierer gewöhnungsbedürftig ist.\n",
    "\n",
    "Die Anweisungen im else-Teil werden ausgeführt, sobald die Bedingung nicht mehr erfüllt ist. Sicherlich fragen sich einige nun, worin dann der Unterschied zu einer normalen while-Schleife liegt. Hätte man die Anweisungen nicht in den else-Teil gesteckt sondern einfach hinter die while-Schleife gestellt, wären sie ja auch genauso ausgeführt worden. Es wird erst mit einem break-Kommando, was wir später kennenlernen sinnvoll.\n",
    "Allgemein sieht eine while-Schleife mit else-Teil in Python wie folgt aus:\n",
    "\n",
    "\n",
    "<pre>\n",
    "while Bedingung:\n",
    "    Anweisung1\n",
    "\n",
    "    Anweisung n\n",
    "else:\n",
    "    Anweisung1\n",
    "\n",
    "    Anweisung n\n",
    "</pre>"
   ]
  },
  {
   "cell_type": "markdown",
   "metadata": {},
   "source": [
    "### Vorzeitiger Abbruch einer while-Schleife\n",
    "\n",
    "<img class=\"imgright\" src=\"../images/ablauf_schleife_break_s.webp\" srcset=\"../images/ablauf_schleife_break_s_300w.webp 300w\" alt=\"Ablaufdiagramm einer Schleife mit else und break\" /> \n",
    "\n",
    "Normalerweise wird eine while-Schleife nur beendet, wenn die Bedingung im Schleifenkopf nicht mehr erfüllt ist. Mit break kann man aber eine Schleife vorzeitig komplett verlassen. Mit 'continue' beendet man lediglich einen Durchlauf, d.h. man kehrt zum Schleifenkopf, also zur Überprüfung der Bedingung, zurück.\n"
   ]
  },
  {
   "cell_type": "markdown",
   "metadata": {},
   "source": [
    "Programmieren wir nun ein einfaches Zahlenratespiel. Wir lassen uns von einem Spieler Zahlen zwischen 1 und 100 solange eingeben, bis er die Ratezahl ion diesem Bereich trifft. Dann geben wir aus, wieviele Rateschritte er gebraucht hat. Ausserdem sollte der Spieler durch Eingabe von 0 aufgeben können mit einer entsprechenden Meldung. Die Geheimzahl erzeugen wir mit:"
   ]
  },
  {
   "cell_type": "code",
   "execution_count": 3,
   "metadata": {},
   "outputs": [],
   "source": [
    "import random\n",
    "Ratezahl=random.randint(1,100) #gibt eine Integer-Zahl zwischen 1 und 100 jeweils inklusive aus."
   ]
  },
  {
   "cell_type": "markdown",
   "metadata": {},
   "source": [
    "\n",
    "\n",
    "\n",
    "\n",
    "\n",
    "\n",
    "\n",
    "\n",
    "\n",
    "\n",
    "\n",
    "\n",
    "\n",
    "\n",
    "\n",
    "\n",
    "\n",
    "\n",
    "\n",
    "\n",
    "\n",
    "\n",
    "\n",
    "\n",
    "\n",
    "\n",
    "\n",
    "\n",
    "\n",
    "\n",
    "\n",
    "\n",
    "\n",
    "\n",
    "\n",
    "\n",
    "\n"
   ]
  },
  {
   "cell_type": "code",
   "execution_count": 4,
   "metadata": {},
   "outputs": [
    {
     "name": "stdout",
     "output_type": "stream",
     "text": [
      "Neuer Versuch: 23\n",
      "Zu klein\n",
      "Neuer Versuch: 45\n",
      "Zu klein\n",
      "Neuer Versuch: 78\n",
      "Zu gross\n",
      "Neuer Versuch: 65\n",
      "Zu klein\n",
      "Neuer Versuch: 68\n",
      "Zu klein\n",
      "Neuer Versuch: 70\n",
      "Zu klein\n",
      "Neuer Versuch: 75\n",
      "Zu gross\n",
      "Neuer Versuch: 74\n",
      "Zu gross\n",
      "Neuer Versuch: 73\n",
      "Gratuliere, das war's 9 Versuche\n",
      "nach der SChleife\n"
     ]
    }
   ],
   "source": [
    "import random\n",
    "n = 100\n",
    "to_be_guessed = random.randint(1,n) #macht Zufallszahl zwischen 1 und n als integer jeweils inklusiv\n",
    "\n",
    "guess,n = 0,0\n",
    "while guess != to_be_guessed:\n",
    "    n+=1\n",
    "    guess = int(input(\"Neuer Versuch: \"))\n",
    "    if guess > 0:\n",
    "        if guess > to_be_guessed:\n",
    "            print(\"Zu gross\")\n",
    "        elif guess < to_be_guessed:\n",
    "            print(\"Zu klein\")\n",
    "    else:\n",
    "        print(\"Schade, dass du aufgibst!\")\n",
    "        break\n",
    "else:\n",
    "    print(\"Gratuliere, das war's\",n,\"Versuche\")\n",
    "print(\"nach der Schleife\")"
   ]
  },
  {
   "cell_type": "code",
   "execution_count": 5,
   "metadata": {},
   "outputs": [
    {
     "name": "stdout",
     "output_type": "stream",
     "text": [
      "0\n",
      "1\n",
      "2\n",
      "3\n",
      "4\n",
      "6\n",
      "7\n",
      "8\n",
      "9\n",
      "10\n"
     ]
    }
   ],
   "source": [
    "\n",
    "i=-1 # Achtung nicht 0!!\n",
    "while i<10: #Kopfgesteuerte Schleife Bedingung im Schleifenkopf\n",
    "    i+=1\n",
    "    if i==5:\n",
    "        continue #was wäre wenn break??\n",
    "    print(i)"
   ]
  },
  {
   "cell_type": "code",
   "execution_count": 6,
   "metadata": {},
   "outputs": [
    {
     "name": "stdout",
     "output_type": "stream",
     "text": [
      "0\n",
      "1\n",
      "2\n",
      "3\n",
      "4\n",
      "5\n",
      "6\n",
      "7\n",
      "8\n",
      "9\n",
      "10\n"
     ]
    }
   ],
   "source": [
    "#Fussgesteuerte Schleife Bedingung am Schleifenende\n",
    "i=0\n",
    "while True:\n",
    "    print(i)\n",
    "    i+=1\n",
    "    if i>10:\n",
    "        break"
   ]
  },
  {
   "cell_type": "markdown",
   "metadata": {},
   "source": [
    "Im Folgenden zeigen wir die isdigit Funktion, die feststellt , ob ein Text (String) nur aus Zahlen besteht.<br>\n",
    "Damit kann man auf positive Ganzzahlen testen (ohne Vorzeichen +)."
   ]
  },
  {
   "cell_type": "code",
   "execution_count": 8,
   "metadata": {},
   "outputs": [
    {
     "name": "stdout",
     "output_type": "stream",
     "text": [
      "False\n",
      "True\n",
      "False\n",
      "True\n"
     ]
    }
   ],
   "source": [
    "print(\"z\".isdigit())\n",
    "print(\"34\".isdigit())\n",
    "print(\"34.5\".isdigit())\n",
    "print(\"-44\".replace(\"-\",\"\").isdigit())"
   ]
  },
  {
   "cell_type": "code",
   "execution_count": 9,
   "metadata": {},
   "outputs": [
    {
     "name": "stdout",
     "output_type": "stream",
     "text": [
      "Bitte positive Integer eingeben! f\n",
      "fehlerhafte Eingabe\n",
      "Bitte positive Integer eingeben! -3\n",
      "fehlerhafte Eingabe\n",
      "Bitte positive Integer eingeben! 3.4\n",
      "fehlerhafte Eingabe\n",
      "Bitte positive Integer eingeben! 6\n",
      "Zahl ist:  6 <class 'int'>\n"
     ]
    }
   ],
   "source": [
    "#Input Schleife mit minimalem Test, Weiteres folgt.\n",
    "while True:\n",
    "    s=input(\"Bitte positive Integer eingeben! \")\n",
    "    if not s.isdigit():\n",
    "        print(\"fehlerhafte Eingabe\")\n",
    "    else:\n",
    "        break\n",
    "        \n",
    "s=int(s)\n",
    "print(\"Zahl ist: \",s,type(s))\n",
    "    "
   ]
  },
  {
   "cell_type": "code",
   "execution_count": null,
   "metadata": {},
   "outputs": [],
   "source": []
  }
 ],
 "metadata": {
  "kernelspec": {
   "display_name": "Python 3",
   "language": "python",
   "name": "python3"
  },
  "language_info": {
   "codemirror_mode": {
    "name": "ipython",
    "version": 3
   },
   "file_extension": ".py",
   "mimetype": "text/x-python",
   "name": "python",
   "nbconvert_exporter": "python",
   "pygments_lexer": "ipython3",
   "version": "3.8.8"
  }
 },
 "nbformat": 4,
 "nbformat_minor": 2
}
