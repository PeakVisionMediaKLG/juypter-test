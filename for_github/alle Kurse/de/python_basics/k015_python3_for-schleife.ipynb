{
 "cells": [
  {
   "cell_type": "markdown",
   "metadata": {},
   "source": [
    "## For-Schleifen\n",
    "\n",
    "### Einführung\n",
    "Wie auch die while-Schleife ist die for-Schleife eine Kontrollstruktur, mit der eine Gruppe von Anweisungen (ein Block) wiederholt ausführt werden kann.\n",
    "Die Syntax der For-Schleifen unterscheiden sich in den verschiedenen Programmiersprachen. Ebenso ist die Semantik einer For-Schleife, also wie sie vom Compiler oder Interpreter zu verstehen bzw. auszuführen ist, von Programmiersprache zu Programmiersprache unterschiedlich.\n",
    "Die \"klassische\" numerische Schleife, wie sie C und C++ kennt, besitzt eine Schleifenvariable, die mit einem Startwert initialisiert wird und nach jedem Durchlauf des Schleifenkörpers verändert wird, d.h. meistens um einen bestimmten Wert (z.B. 1) erhöht oder vermindert wird, bis der definierte Zielwert erreicht ist. Man nennt diese Schleifenform auch Zählschleife, weil die Schleifenvariable und damit auch der Startwert, der Endwert und die Schrittweite numerisch sein müssen.\n",
    "Im Beispiel sehen wir eine for-Schleife in C, die die Zahlen von 1 bis 100 ausdruckt:\n",
    "\n",
    "```\n",
    "for( i = 1; i <= 100; i++)\n",
    "   printf(\"i: %d\\n\", i);\n",
    "```\n",
    "\n",
    "Auch wenn Sie diese Schleifenform bereits in C oder einer anderen Sprache liebgewonnen haben, müssen wir Sie leider enttäuschen: Python kennt keine solche for-Schleife. Wohlgemerkt \"keine solche\" aber sehr wohl eine for-Schleife. Die in Python benutzte Art von For-Schleife entspricht der in der Bash-Shell oder in Perl verwendeten foreach-Schleife. Bei dieser Schleifenart handelt es sich um ein Sprachkonstrukt mit dessen Hilfe nacheinander die Elemente einer Menge oder Liste bearbeitet werden können. Dazu werden sie einer Variable zugewiesen.\n",
    "\n",
    "### Syntax der For-Schleife in Python\n",
    "\n",
    "Im folgenden sehen wir die allgemeine Syntax der for-Schleife in Python. Sequenz steht für ein iterierbares Objekt, also beispielsweise eine Liste, ein Tupel oder ein Dictionary.\n",
    "\n",
    "<img class=\"imgright\" src=\"../images/ring2.webp\" alt=\"Ring als Symbol der for-Schleife\" />\n",
    "\n",
    "<pre>\n",
    "for Variable in Sequenz:\n",
    "\tAnweisung_1\n",
    "\tAnweisung_2\n",
    "\t...\n",
    "\tAnweisung_n\n",
    "else:\n",
    "\tElse-Anweisung_1\n",
    "\tElse-Anweisung_2\n",
    "\t...\n",
    "\tElse-Anweisung_m\n",
    "</pre>"
   ]
  },
  {
   "cell_type": "markdown",
   "metadata": {},
   "source": [
    "Wie bereits gesagt, dient in Python die For-Schleife zur Iteration über ein Sequenz von Objekten, während sie in vielen anderen Sprachen meist nur \"eine etwas andere while-Schleife\" ist.\n",
    "\n",
    "Beispiel einer for-Schleife in Python:"
   ]
  },
  {
   "cell_type": "code",
   "execution_count": 1,
   "metadata": {},
   "outputs": [
    {
     "name": "stdout",
     "output_type": "stream",
     "text": [
      "C\n",
      "C++\n",
      "Perl\n",
      "Python\n"
     ]
    }
   ],
   "source": [
    "languages = [\"C\", \"C++\", \"Perl\", \"Python\"] \n",
    "for sprache in languages:\n",
    "    print(sprache)"
   ]
  },
  {
   "cell_type": "markdown",
   "metadata": {},
   "source": [
    "<img class=\"imgright\" src=\"../images/CanOfSpam.webp\" alt=\"Can of Spam\" />\n",
    "\n",
    "Der optionale else-Block ist etwas Besonderes in Python. Während Perl-Programmierern dieses Konstrukt vertraut ist, ist es für C und C++-Programmierer ein ungewöhnliches Konzept. Semantisch funktioniert der optionale else-Block der for-Anweisung wie der else-Block der while-Anweisung. Er wird nur ausgeführt, wenn die Schleife nicht durch eine break-Anweisung abgebrochen wurde. Das bedeutet, dass der else-Block nur dann ausgeführt wird, wenn alle Elemente der Sequenz abgearbeitet worden sind.\n",
    "\n",
    "Trifft der Programmablauf auf eine break-Anweisung, so wird die Schleife sofort verlassen und das Programm wird mit der Anweisung fortgesetzt, die der for-Schleife folgt, falls es überhaupt noch Anweisungen nach der for-Schleife gibt.\n",
    "\n",
    "Üblicherweise befindet sich die break-Anweisung innerhalb einer Konditionalanweisung, wie im folgenden Beispiel:"
   ]
  },
  {
   "cell_type": "code",
   "execution_count": 1,
   "metadata": {},
   "outputs": [
    {
     "name": "stdout",
     "output_type": "stream",
     "text": [
      "Great, delicious ham\n",
      "No more spam please!\n",
      "Finally, I finished stuffing myself\n"
     ]
    }
   ],
   "source": [
    "edibles = [\"ham\", \"spam\",\"eggs\",\"nuts\"]\n",
    "for food in edibles:\n",
    "    if food == \"spam\":\n",
    "        print(\"No more spam please!\")\n",
    "        break\n",
    "    print(\"Great, delicious \" + food)\n",
    "else:\n",
    "    print(\"I am so glad: No spam!\")\n",
    "print(\"Finally, I finished stuffing myself\")"
   ]
  },
  {
   "cell_type": "code",
   "execution_count": 2,
   "metadata": {},
   "outputs": [
    {
     "name": "stdout",
     "output_type": "stream",
     "text": [
      "Great, delicious ham\n",
      "Great, delicious eggs\n",
      "Great, delicious nuts\n",
      "I am so glad: No spam!\n",
      "Finally, I finished stuffing myself\n"
     ]
    }
   ],
   "source": [
    "edibles = [\"ham\",\"eggs\",\"nuts\"]\n",
    "for food in edibles:\n",
    "    if food == \"spam\":\n",
    "        print(\"No more spam please!\")\n",
    "        break\n",
    "    print(\"Great, delicious \" + food)\n",
    "else:\n",
    "    print(\"I am so glad: No spam!\")\n",
    "print(\"Finally, I finished stuffing myself\")"
   ]
  },
  {
   "cell_type": "markdown",
   "metadata": {},
   "source": [
    "Vielleicht ist unsere Abscheu vor dem Dosenfutter \"spam\" nicht so groß, dass wir sofort aufhören zu essen. In diesem Fall kommt die continue-Anweisung ins Spiel. In dem folgenden kleinen Skript benutzen wir continue, um mit dem nächsten Artikel der essbaren Artikel weiterzumachen. \"continue\" schützt uns davor, \"spam\" essen zu müssen:"
   ]
  },
  {
   "cell_type": "code",
   "execution_count": 2,
   "metadata": {},
   "outputs": [
    {
     "name": "stdout",
     "output_type": "stream",
     "text": [
      "Great, delicious ham\n",
      "No more spam please!\n",
      "Great, delicious eggs\n",
      "Great, delicious nuts\n",
      "I didn't like the spam!\n",
      "Finally, I finished stuffing myself\n"
     ]
    }
   ],
   "source": [
    "edibles = [\"ham\", \"spam\", \"eggs\",\"nuts\"]\n",
    "spam = False\n",
    "for food in edibles:\n",
    "    if food == \"spam\":\n",
    "        print(\"No more spam please!\")\n",
    "        spam = True\n",
    "        continue\n",
    "    print(\"Great, delicious \" + food)\n",
    "    # here can be the code for enjoying our food :-)\n",
    "else:\n",
    "    if spam: #if spam==True\n",
    "        print(\"I didn't like the spam!\")\n",
    "    else:\n",
    "        print(\"I am so glad: No spam!\")\n",
    "print(\"Finally, I finished stuffing myself\")"
   ]
  },
  {
   "cell_type": "markdown",
   "metadata": {},
   "source": [
    "### Die range()-Funktion\n",
    "\n",
    "In Python gibt es eine einfache Möglichkeit Zählschleifen zu simulieren. Dazu benötigt man die range()-Funktion.\n",
    "Die range Funktion ist ein Bereichsobjekt.\n",
    "range() liefert einen Iterator (Objekt, dass in Schritten (Iterationen) durchlaufen werden kann), der Zahlen in einem bestimmten Bereich (range) bei Bedarf, - also beispielsweise in einer For-Schleife, - liefern kann.\n",
    "Bevor wie die allgemeine Syntax angeben, zeigen wir die einfachste Benutzung von range() in einem Beispiel:"
   ]
  },
  {
   "cell_type": "code",
   "execution_count": 4,
   "metadata": {},
   "outputs": [
    {
     "data": {
      "text/plain": [
       "range(0, 10)"
      ]
     },
     "execution_count": 4,
     "metadata": {},
     "output_type": "execute_result"
    }
   ],
   "source": [
    "range(10)"
   ]
  },
  {
   "cell_type": "code",
   "execution_count": 5,
   "metadata": {},
   "outputs": [
    {
     "data": {
      "text/plain": [
       "[0, 1, 2, 3, 4, 5, 6, 7, 8, 9]"
      ]
     },
     "execution_count": 5,
     "metadata": {},
     "output_type": "execute_result"
    }
   ],
   "source": [
    "list(range(10))"
   ]
  },
  {
   "cell_type": "markdown",
   "metadata": {},
   "source": [
    "Obiges Beispiel zeigt, dass range(), wenn man es mit einem einzelnen Argument aufruft, einen Iterator liefert, der die Zahlen von 0 (inklusive) bis zu diesem Wert (exklusive) generieren kann. Um eine entsprechende Liste aus dem Iterator zu erzeugen, benutzt man den cast-Operator list().\n",
    "range() kann aber auch mit zwei Argumenten aufgerufen werden:\n",
    "\n",
    "<pre>\n",
    "range(begin, end)\n",
    "</pre>\n",
    "Dann wird ein Iterator für alle ganzen Zahlen von begin (einschließlich) bis end (ausschließlich) geliefert.\n",
    "Beispiel:"
   ]
  },
  {
   "cell_type": "code",
   "execution_count": 6,
   "metadata": {},
   "outputs": [
    {
     "data": {
      "text/plain": [
       "range(4, 10)"
      ]
     },
     "execution_count": 6,
     "metadata": {},
     "output_type": "execute_result"
    }
   ],
   "source": [
    "range(4, 10)"
   ]
  },
  {
   "cell_type": "code",
   "execution_count": 7,
   "metadata": {},
   "outputs": [
    {
     "data": {
      "text/plain": [
       "[4, 5, 6, 7, 8, 9]"
      ]
     },
     "execution_count": 7,
     "metadata": {},
     "output_type": "execute_result"
    }
   ],
   "source": [
    "list(range(4, 10))"
   ]
  },
  {
   "cell_type": "markdown",
   "metadata": {},
   "source": [
    "Mit einem optionalen dritten Argument kann man range() noch die Schrittweite mitgeben, wie wir im folgenden Beispiel sehen:"
   ]
  },
  {
   "cell_type": "code",
   "execution_count": 8,
   "metadata": {},
   "outputs": [
    {
     "data": {
      "text/plain": [
       "[4, 9, 14, 19, 24, 29, 34, 39, 44, 49]"
      ]
     },
     "execution_count": 8,
     "metadata": {},
     "output_type": "execute_result"
    }
   ],
   "source": [
    "list(range(4, 50, 5))"
   ]
  },
  {
   "cell_type": "markdown",
   "metadata": {},
   "source": [
    "Das ganze geht natürlich auch rückwärts:"
   ]
  },
  {
   "cell_type": "code",
   "execution_count": 9,
   "metadata": {},
   "outputs": [
    {
     "data": {
      "text/plain": [
       "[42, 35, 28, 21, 14, 7, 0, -7]"
      ]
     },
     "execution_count": 9,
     "metadata": {},
     "output_type": "execute_result"
    }
   ],
   "source": [
    "list(range(42, -12, -7))"
   ]
  },
  {
   "cell_type": "markdown",
   "metadata": {},
   "source": [
    "Besonders sinnvoll wird die range()-Funktion im Zusammenspiel mit der for-Schleife. Im nachfolgenden Beispiel bilden wir die Summe der Zahlen von 1 bis 100:"
   ]
  },
  {
   "cell_type": "code",
   "execution_count": 1,
   "metadata": {},
   "outputs": [
    {
     "name": "stdout",
     "output_type": "stream",
     "text": [
      "1\n",
      "2\n",
      "3\n",
      "4\n",
      "5\n",
      "6\n",
      "7\n",
      "8\n",
      "9\n",
      "10\n",
      "11\n",
      "12\n",
      "13\n",
      "14\n",
      "15\n",
      "16\n",
      "17\n",
      "18\n",
      "19\n",
      "20\n",
      "21\n",
      "22\n",
      "23\n",
      "24\n",
      "25\n",
      "26\n",
      "27\n",
      "28\n",
      "29\n",
      "30\n",
      "31\n",
      "32\n",
      "33\n",
      "34\n",
      "35\n",
      "36\n",
      "37\n",
      "38\n",
      "39\n",
      "40\n",
      "41\n",
      "42\n",
      "43\n",
      "44\n",
      "45\n",
      "46\n",
      "47\n",
      "48\n",
      "49\n",
      "50\n",
      "51\n",
      "52\n",
      "53\n",
      "54\n",
      "55\n",
      "56\n",
      "57\n",
      "58\n",
      "59\n",
      "60\n",
      "61\n",
      "62\n",
      "63\n",
      "64\n",
      "65\n",
      "66\n",
      "67\n",
      "68\n",
      "69\n",
      "70\n",
      "71\n",
      "72\n",
      "73\n",
      "74\n",
      "75\n",
      "76\n",
      "77\n",
      "78\n",
      "79\n",
      "80\n",
      "81\n",
      "82\n",
      "83\n",
      "84\n",
      "85\n",
      "86\n",
      "87\n",
      "88\n",
      "89\n",
      "90\n",
      "91\n",
      "92\n",
      "93\n",
      "94\n",
      "95\n",
      "96\n",
      "97\n",
      "98\n",
      "99\n",
      "100\n",
      "Sum of 1 until 100: 5050\n"
     ]
    }
   ],
   "source": [
    "n = 100\n",
    "\n",
    "s = 0\n",
    "for counter in range(1, n+1): #falls die Laufvariable nicht gebraucht wird oft: for _ in...\n",
    "    s += counter\n",
    "    print(counter)\n",
    "print(\"Sum of 1 until \" + str(n) + \": \" + str(s) )"
   ]
  },
  {
   "cell_type": "markdown",
   "metadata": {},
   "source": [
    "Dies lässt sich nun ganz einfach im Zusammenspiel mit range und der eingebauten Funktion \"sum\" bewerkstelligen. Mit \"sum\" kann man die Elemente numerischer Listen oder Tupel addieren, d.h. Listen oder Tupel, die nur numerische Werte enthalten. die Summe der Zahlen von 1 bis n lässt sich also ganz einfach wie folgt berechnen:"
   ]
  },
  {
   "cell_type": "code",
   "execution_count": 2,
   "metadata": {},
   "outputs": [
    {
     "data": {
      "text/plain": [
       "5050"
      ]
     },
     "execution_count": 2,
     "metadata": {},
     "output_type": "execute_result"
    }
   ],
   "source": [
    "sum(range(101))"
   ]
  },
  {
   "cell_type": "markdown",
   "metadata": {},
   "source": [
    "### Beispiel: Berechnung der pythagoräischen Zahlen\n",
    "Beweis des Satzes von Pythagoras Die meisten glauben, dass der Satz von Pythagoras von Pythagoras entdeckt worden war. Warum sonst sollte der Satz seinen Namen erhalten haben. Aber es gibt eine Debatte, ob dieser Satz nicht auch unabhängig von Pythagoras und vor allen Dingen bereits früher entdeckt worden sein könnte. Für die Pythagoräer - eine mystische Bewegung, die sich auf die Mathematik, Religion und die Philosophie begründete - waren die ganzen Zahlen, die den Satz des Pythagoras erfüllten, besondere Zahlen, die für sie heilig waren.\n",
    "\n",
    "Heutzutage haben die Pythagoräischen Zahlen nichts mystisches mehr. Obwohl sie für manche Schülerin oder Schüler oder andere Personen, die mit der Mathematik auf Kriegsfuß stehen, immer noch so erscheinen mögen.\n",
    "\n",
    "Ganz unromantisch gilt in der Mathematik:\n",
    "Drei natürliche Zahlen, welche die Gleichung\n",
    "<pre>\n",
    "a2+b2=c2\n",
    "</pre>\n",
    "erfüllen, heißen pythagoräische Zahlen.\n",
    "\n",
    "Wir schreiben ein Programm, das alle pythagoräischen Zahlen bis zu einer einzugebenden maximalen Zahl berechnet.\n",
    "Wir brauchen dazu eine for Schleife für a und darin eingebettet eine Schleife für b und prüfen dann, ob die Wurzel von \n",
    "a hoch 2 und b hoch 2 (kann man mit hoch 0.5 machen oder math importieren und math.sqrt verwenden) eine Ganzzahl ist. "
   ]
  },
  {
   "cell_type": "code",
   "execution_count": null,
   "metadata": {},
   "outputs": [],
   "source": [
    "\n",
    "\n",
    "\n",
    "\n",
    "\n",
    "\n",
    "\n",
    "\n",
    "\n",
    "\n",
    "\n",
    "\n",
    "\n",
    "\n",
    "\n",
    "\n",
    "\n",
    "\n",
    "\n",
    "\n",
    "\n",
    "\n",
    "\n",
    "\n",
    "\n",
    "\n",
    "\n",
    "\n",
    "\n",
    "\n",
    "\n",
    "\n",
    "\n",
    "\n",
    "\n",
    "\n",
    "\n",
    "\n",
    "\n",
    "\n",
    "\n",
    "\n"
   ]
  },
  {
   "cell_type": "code",
   "execution_count": 1,
   "metadata": {},
   "outputs": [
    {
     "name": "stdout",
     "output_type": "stream",
     "text": [
      "Maximale Zahl? 30\n",
      "1 1 1\n",
      "1 2 2\n",
      "1 3 3\n",
      "1 4 4\n",
      "1 5 5\n",
      "1 6 6\n",
      "1 7 7\n",
      "1 8 8\n",
      "1 9 9\n",
      "1 10 10\n",
      "1 11 11\n",
      "1 12 12\n",
      "1 13 13\n",
      "1 14 14\n",
      "1 15 15\n",
      "1 16 16\n",
      "1 17 17\n",
      "1 18 18\n",
      "1 19 19\n",
      "1 20 20\n",
      "1 21 21\n",
      "1 22 22\n",
      "1 23 23\n",
      "1 24 24\n",
      "1 25 25\n",
      "1 26 26\n",
      "1 27 27\n",
      "1 28 28\n",
      "1 29 29\n",
      "2 2 2\n",
      "2 3 3\n",
      "2 4 4\n",
      "2 5 5\n",
      "2 6 6\n",
      "2 7 7\n",
      "2 8 8\n",
      "2 9 9\n",
      "2 10 10\n",
      "2 11 11\n",
      "2 12 12\n",
      "2 13 13\n",
      "2 14 14\n",
      "2 15 15\n",
      "2 16 16\n",
      "2 17 17\n",
      "2 18 18\n",
      "2 19 19\n",
      "2 20 20\n",
      "2 21 21\n",
      "2 22 22\n",
      "2 23 23\n",
      "2 24 24\n",
      "2 25 25\n",
      "2 26 26\n",
      "2 27 27\n",
      "2 28 28\n",
      "2 29 29\n",
      "3 3 4\n",
      "3 4 5\n",
      "3 5 5\n",
      "3 6 6\n",
      "3 7 7\n",
      "3 8 8\n",
      "3 9 9\n",
      "3 10 10\n",
      "3 11 11\n",
      "3 12 12\n",
      "3 13 13\n",
      "3 14 14\n",
      "3 15 15\n",
      "3 16 16\n",
      "3 17 17\n",
      "3 18 18\n",
      "3 19 19\n",
      "3 20 20\n",
      "3 21 21\n",
      "3 22 22\n",
      "3 23 23\n",
      "3 24 24\n",
      "3 25 25\n",
      "3 26 26\n",
      "3 27 27\n",
      "3 28 28\n",
      "3 29 29\n",
      "4 4 5\n",
      "4 5 6\n",
      "4 6 7\n",
      "4 7 8\n",
      "4 8 8\n",
      "4 9 9\n",
      "4 10 10\n",
      "4 11 11\n",
      "4 12 12\n",
      "4 13 13\n",
      "4 14 14\n",
      "4 15 15\n",
      "4 16 16\n",
      "4 17 17\n",
      "4 18 18\n",
      "4 19 19\n",
      "4 20 20\n",
      "4 21 21\n",
      "4 22 22\n",
      "4 23 23\n",
      "4 24 24\n",
      "4 25 25\n",
      "4 26 26\n",
      "4 27 27\n",
      "4 28 28\n",
      "4 29 29\n",
      "5 5 7\n",
      "5 6 7\n",
      "5 7 8\n",
      "5 8 9\n",
      "5 9 10\n",
      "5 10 11\n",
      "5 11 12\n",
      "5 12 13\n",
      "5 13 13\n",
      "5 14 14\n",
      "5 15 15\n",
      "5 16 16\n",
      "5 17 17\n",
      "5 18 18\n",
      "5 19 19\n",
      "5 20 20\n",
      "5 21 21\n",
      "5 22 22\n",
      "5 23 23\n",
      "5 24 24\n",
      "5 25 25\n",
      "5 26 26\n",
      "5 27 27\n",
      "5 28 28\n",
      "5 29 29\n",
      "6 6 8\n",
      "6 7 9\n",
      "6 8 10\n",
      "6 9 10\n",
      "6 10 11\n",
      "6 11 12\n",
      "6 12 13\n",
      "6 13 14\n",
      "6 14 15\n",
      "6 15 16\n",
      "6 16 17\n",
      "6 17 18\n",
      "6 18 18\n",
      "6 19 19\n",
      "6 20 20\n",
      "6 21 21\n",
      "6 22 22\n",
      "6 23 23\n",
      "6 24 24\n",
      "6 25 25\n",
      "6 26 26\n",
      "6 27 27\n",
      "6 28 28\n",
      "6 29 29\n",
      "7 7 9\n",
      "7 8 10\n",
      "7 9 11\n",
      "7 10 12\n",
      "7 11 13\n",
      "7 12 13\n",
      "7 13 14\n",
      "7 14 15\n",
      "7 15 16\n",
      "7 16 17\n",
      "7 17 18\n",
      "7 18 19\n",
      "7 19 20\n",
      "7 20 21\n",
      "7 21 22\n",
      "7 22 23\n",
      "7 23 24\n",
      "7 24 25\n",
      "7 25 25\n",
      "7 26 26\n",
      "7 27 27\n",
      "7 28 28\n",
      "7 29 29\n",
      "8 8 11\n",
      "8 9 12\n",
      "8 10 12\n",
      "8 11 13\n",
      "8 12 14\n",
      "8 13 15\n",
      "8 14 16\n",
      "8 15 17\n",
      "8 16 17\n",
      "8 17 18\n",
      "8 18 19\n",
      "8 19 20\n",
      "8 20 21\n",
      "8 21 22\n",
      "8 22 23\n",
      "8 23 24\n",
      "8 24 25\n",
      "8 25 26\n",
      "8 26 27\n",
      "8 27 28\n",
      "8 28 29\n",
      "8 29 30\n",
      "9 9 12\n",
      "9 10 13\n",
      "9 11 14\n",
      "9 12 15\n",
      "9 13 15\n",
      "9 14 16\n",
      "9 15 17\n",
      "9 16 18\n",
      "9 17 19\n",
      "9 18 20\n",
      "9 19 21\n",
      "9 20 21\n",
      "9 21 22\n",
      "9 22 23\n",
      "9 23 24\n",
      "9 24 25\n",
      "9 25 26\n",
      "9 26 27\n",
      "9 27 28\n",
      "9 28 29\n",
      "9 29 30\n",
      "10 10 14\n",
      "10 11 14\n",
      "10 12 15\n",
      "10 13 16\n",
      "10 14 17\n",
      "10 15 18\n",
      "10 16 18\n",
      "10 17 19\n",
      "10 18 20\n",
      "10 19 21\n",
      "10 20 22\n",
      "10 21 23\n",
      "10 22 24\n",
      "10 23 25\n",
      "10 24 26\n",
      "10 25 26\n",
      "10 26 27\n",
      "10 27 28\n",
      "10 28 29\n",
      "10 29 30\n",
      "11 11 15\n",
      "11 12 16\n",
      "11 13 17\n",
      "11 14 17\n",
      "11 15 18\n",
      "11 16 19\n",
      "11 17 20\n",
      "11 18 21\n",
      "11 19 21\n",
      "11 20 22\n",
      "11 21 23\n",
      "11 22 24\n",
      "11 23 25\n",
      "11 24 26\n",
      "11 25 27\n",
      "11 26 28\n",
      "11 27 29\n",
      "11 28 30\n",
      "11 29 31\n",
      "12 12 16\n",
      "12 13 17\n",
      "12 14 18\n",
      "12 15 19\n",
      "12 16 20\n",
      "12 17 20\n",
      "12 18 21\n",
      "12 19 22\n",
      "12 20 23\n",
      "12 21 24\n",
      "12 22 25\n",
      "12 23 25\n",
      "12 24 26\n",
      "12 25 27\n",
      "12 26 28\n",
      "12 27 29\n",
      "12 28 30\n",
      "12 29 31\n",
      "13 13 18\n",
      "13 14 19\n",
      "13 15 19\n",
      "13 16 20\n",
      "13 17 21\n",
      "13 18 22\n",
      "13 19 23\n",
      "13 20 23\n",
      "13 21 24\n",
      "13 22 25\n",
      "13 23 26\n",
      "13 24 27\n",
      "13 25 28\n",
      "13 26 29\n",
      "13 27 29\n",
      "13 28 30\n",
      "13 29 31\n",
      "14 14 19\n",
      "14 15 20\n",
      "14 16 21\n",
      "14 17 22\n",
      "14 18 22\n",
      "14 19 23\n",
      "14 20 24\n",
      "14 21 25\n",
      "14 22 26\n",
      "14 23 26\n",
      "14 24 27\n",
      "14 25 28\n",
      "14 26 29\n",
      "14 27 30\n",
      "14 28 31\n",
      "14 29 32\n",
      "15 15 21\n",
      "15 16 21\n",
      "15 17 22\n",
      "15 18 23\n",
      "15 19 24\n",
      "15 20 25\n",
      "15 21 25\n",
      "15 22 26\n",
      "15 23 27\n",
      "15 24 28\n",
      "15 25 29\n",
      "15 26 30\n",
      "15 27 30\n",
      "15 28 31\n",
      "15 29 32\n",
      "16 16 22\n",
      "16 17 23\n",
      "16 18 24\n",
      "16 19 24\n",
      "16 20 25\n",
      "16 21 26\n",
      "16 22 27\n",
      "16 23 28\n",
      "16 24 28\n",
      "16 25 29\n",
      "16 26 30\n",
      "16 27 31\n",
      "16 28 32\n",
      "16 29 33\n",
      "17 17 24\n",
      "17 18 24\n",
      "17 19 25\n",
      "17 20 26\n",
      "17 21 27\n",
      "17 22 27\n",
      "17 23 28\n",
      "17 24 29\n",
      "17 25 30\n",
      "17 26 31\n",
      "17 27 31\n",
      "17 28 32\n",
      "17 29 33\n",
      "18 18 25\n",
      "18 19 26\n",
      "18 20 26\n",
      "18 21 27\n",
      "18 22 28\n",
      "18 23 29\n",
      "18 24 30\n",
      "18 25 30\n",
      "18 26 31\n",
      "18 27 32\n",
      "18 28 33\n",
      "18 29 34\n",
      "19 19 26\n",
      "19 20 27\n",
      "19 21 28\n",
      "19 22 29\n",
      "19 23 29\n",
      "19 24 30\n",
      "19 25 31\n",
      "19 26 32\n",
      "19 27 33\n",
      "19 28 33\n",
      "19 29 34\n",
      "20 20 28\n",
      "20 21 29\n",
      "20 22 29\n",
      "20 23 30\n",
      "20 24 31\n",
      "20 25 32\n",
      "20 26 32\n",
      "20 27 33\n",
      "20 28 34\n",
      "20 29 35\n",
      "21 21 29\n",
      "21 22 30\n",
      "21 23 31\n",
      "21 24 31\n",
      "21 25 32\n",
      "21 26 33\n",
      "21 27 34\n",
      "21 28 35\n",
      "21 29 35\n",
      "22 22 31\n",
      "22 23 31\n",
      "22 24 32\n",
      "22 25 33\n",
      "22 26 34\n",
      "22 27 34\n",
      "22 28 35\n",
      "22 29 36\n",
      "23 23 32\n",
      "23 24 33\n",
      "23 25 33\n",
      "23 26 34\n",
      "23 27 35\n",
      "23 28 36\n",
      "23 29 37\n",
      "24 24 33\n",
      "24 25 34\n",
      "24 26 35\n",
      "24 27 36\n",
      "24 28 36\n",
      "24 29 37\n",
      "25 25 35\n",
      "25 26 36\n",
      "25 27 36\n",
      "25 28 37\n",
      "25 29 38\n",
      "26 26 36\n",
      "26 27 37\n",
      "26 28 38\n",
      "26 29 38\n",
      "27 27 38\n",
      "27 28 38\n",
      "27 29 39\n",
      "28 28 39\n",
      "28 29 40\n",
      "29 29 41\n",
      "435\n"
     ]
    }
   ],
   "source": [
    "#import math\n",
    "counter=0\n",
    "n = int(input(\"Maximale Zahl? \"))\n",
    "for a in range(1,n+1):\n",
    "    for b in range(a,n): #man beachte die Grenzen der range Funktion\n",
    "        c_square = a**2 + b**2\n",
    "        #c= int(math.sqrt(c_square))\n",
    "        c = int(c_square**0.5)\n",
    "        #if (c_square - c**2)==0): Vorsciht, float Operation == Ganzzahl, gefährlich!!\n",
    "        if (abs(c_square - c**2) < 10E6):\n",
    "            print(a, b, c)\n",
    "            counter+=1\n",
    "print(counter)"
   ]
  },
  {
   "cell_type": "markdown",
   "metadata": {},
   "source": [
    "### Iteration über eine Liste mit range()\n",
    "Falls man auf die Indexe einer Liste zugreifen möchte, scheint es keine gute Idee zu sein eine For-Schleife zur Iteration über die Liste zu nutzen. Man kann dann zwar alle Elemente erreichen, aber der Index eines Elementes ist nicht verfügbar. Aber es gibt eine Möglichkeit sowohl auf den Index als auch auf das Element zugreifen zu können. Die Lösung besteht darin range() in Kombination mit der len()-Funktion, die einem die Anzahl der Listenelemente liefert, zu benutzen:"
   ]
  },
  {
   "cell_type": "code",
   "execution_count": 13,
   "metadata": {},
   "outputs": [
    {
     "name": "stdout",
     "output_type": "stream",
     "text": [
      "0 0\n",
      "1 1\n",
      "2 1\n",
      "3 2\n",
      "4 3\n",
      "5 5\n",
      "6 8\n",
      "7 13\n",
      "8 21\n",
      "\n"
     ]
    }
   ],
   "source": [
    "fibonacci = [0, 1, 1, 2, 3, 5, 8, 13, 21]\n",
    "for i in range(len(fibonacci)):\n",
    "    print(i,fibonacci[i])\n",
    "print()"
   ]
  },
  {
   "cell_type": "markdown",
   "metadata": {},
   "source": [
    "### Listen-Iteration mit Seiteneffekten\n",
    "Falls man über eine Liste iteriert, sollte man vermeiden die Liste im Schleifenkörper (body) zu verändern. Was passieren kann, zeigen wir im folgenden Beispiel:"
   ]
  },
  {
   "cell_type": "code",
   "execution_count": 14,
   "metadata": {},
   "outputs": [
    {
     "name": "stdout",
     "output_type": "stream",
     "text": [
      "['red', 'black', 'white']\n"
     ]
    }
   ],
   "source": [
    "colours = [\"red\"]\n",
    "for i in colours: \n",
    "    if i == \"red\":\n",
    "        colours += [\"black\"] #jetzt ist die Liste [\"red\",\"black\"]\n",
    "    if i == \"black\":\n",
    "        colours += [\"white\"]\n",
    "print(colours)"
   ]
  },
  {
   "cell_type": "markdown",
   "metadata": {},
   "source": [
    "Am besten benutzt man eine Kopie der Liste, wie im nächsten Beispiel:"
   ]
  },
  {
   "cell_type": "code",
   "execution_count": 16,
   "metadata": {},
   "outputs": [
    {
     "name": "stdout",
     "output_type": "stream",
     "text": [
      "['red', 'black']\n"
     ]
    }
   ],
   "source": [
    "colours = [\"red\"]\n",
    "for i in colours[:]: #Achtung Kopie von colours hier verändert eine Verlängerung nicht die Sequenz \n",
    "                     #über die iteriert wird\n",
    "    if i == \"red\":\n",
    "        colours += [\"black\"]\n",
    "    if i == \"black\":\n",
    "        colours += [\"white\"]\n",
    "print(colours)"
   ]
  },
  {
   "cell_type": "markdown",
   "metadata": {},
   "source": [
    "Auch jetzt haben wir die Liste verändert, aber \"bewusst\" innerhalb des Schleifenkörpers. Aber die Elemente, die über die For-Schleife iteriert werden, bleiben unverändert durch die Iterationen, weil wir im for_Kopf eine Kopie der Liste verwenden, die sich nicht ändert im Schleifendurchlauf. "
   ]
  },
  {
   "cell_type": "code",
   "execution_count": null,
   "metadata": {},
   "outputs": [],
   "source": []
  }
 ],
 "metadata": {
  "kernelspec": {
   "display_name": "Python 3",
   "language": "python",
   "name": "python3"
  },
  "language_info": {
   "codemirror_mode": {
    "name": "ipython",
    "version": 3
   },
   "file_extension": ".py",
   "mimetype": "text/x-python",
   "name": "python",
   "nbconvert_exporter": "python",
   "pygments_lexer": "ipython3",
   "version": "3.8.8"
  }
 },
 "nbformat": 4,
 "nbformat_minor": 4
}
