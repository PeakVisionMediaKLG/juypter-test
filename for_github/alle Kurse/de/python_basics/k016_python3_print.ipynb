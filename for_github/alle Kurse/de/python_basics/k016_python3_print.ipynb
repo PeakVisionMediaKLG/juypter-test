{
 "cells": [
  {
   "cell_type": "markdown",
   "metadata": {},
   "source": [
    "## print\n",
    "\n",
    "### Einführung\n",
    "<img class=\"imgright\" src=\"../images/letterbox2.webp\" alt=\"Briefkasten als Symbol der Kommunikation zwischen Computer und Benutzer\" /> \n",
    "\n",
    "\n",
    "Jedes Computer-Programm muss prinzipiell mit seiner \"Umgebung\" oder \"Außenwelt\" korrespondieren. Dazu bietet fast jede Programmiersprache spezielle Ein-/Ausgabe-Funktionalitäten. Damit wird eine Interaktion/Kommunikation eines Programmes mit anderen Komponenten z.B. mit einer Datenbank oder seinen Benutzern ermöglicht. Eingaben kommen, - wie wir bereits an anderen Stellen in unserem Tutorial gesehen haben, - sehr häufig über die Tastatur und der entsprechende Python Befehl oder besser die entsprechende Python-Funktion zum Lesen von der Standardeingabe lautet input(). Wir haben in unseren Beispielen auch bereits gesehen, dass wir mittels print() in die Standardausgabe schreiben können. In diesem Kapitel unseres Tutorials wollen wir uns nun die print-Funktion im Detail ansehen. Weil es viele überlesen, wollen wir nochmals betonen, dass wir eben von einer print-Funktion und nicht von einer print-Anweisung gesprochen hatten. Wie wichtig dieser Unterschied ist, sieht man, wenn man sich ein beliebiges Python2-Programm nimmt und dieses unter Python3 laufen lässt bzw. versucht es laufen zu lassen. Dies funktioniert in den meisten Fällen nicht, und wir erhalten viele Fehlermeldungen. Eine sehr häufig auftretende Fehlermeldung gibt es in Zusammenhang mit den Ausgaben mit print, da die meisten Programme prints enthalten. Diesen typischen Fehler können wir auch in der interaktiven Python-Shell generieren:\n"
   ]
  },
  {
   "cell_type": "code",
   "execution_count": 1,
   "metadata": {},
   "outputs": [
    {
     "ename": "SyntaxError",
     "evalue": "Missing parentheses in call to 'print'. Did you mean print(42)? (<ipython-input-1-6b6f29d376df>, line 1)",
     "output_type": "error",
     "traceback": [
      "\u001b[1;36m  File \u001b[1;32m\"<ipython-input-1-6b6f29d376df>\"\u001b[1;36m, line \u001b[1;32m1\u001b[0m\n\u001b[1;33m    print 42\u001b[0m\n\u001b[1;37m           ^\u001b[0m\n\u001b[1;31mSyntaxError\u001b[0m\u001b[1;31m:\u001b[0m Missing parentheses in call to 'print'. Did you mean print(42)?\n"
     ]
    }
   ],
   "source": [
    "print 42"
   ]
  },
  {
   "cell_type": "markdown",
   "metadata": {},
   "source": [
    "Eine uns allen wohl bekannte Fehlermeldung: Wir haben die Klammern vergessen. \"print\" ist in Python3 eine Funktion und keine Anweisung mehr, wie dies vorher der Fall war, und deshalb müssen die Argumente, wie bei jeder anderen Funktion auch, innerhalb von einem Klammernpaar stehen. Wir können also obigen Fehler leicht durch Hinzufügen von Klammern beheben:"
   ]
  },
  {
   "cell_type": "code",
   "execution_count": 2,
   "metadata": {},
   "outputs": [
    {
     "name": "stdout",
     "output_type": "stream",
     "text": [
      "42\n"
     ]
    }
   ],
   "source": [
    "print(42)"
   ]
  },
  {
   "cell_type": "markdown",
   "metadata": {},
   "source": [
    "Dies ist aber nicht der einzige Unterschied zum alten print. Auch das Ausgabeverhalten hat sich verändert.\n",
    "### print-Funktion in Python3\n",
    "Das Aufrufverhalten der print-Funktion ist wie folgt in Python3 definiert:\n",
    "<pre>\n",
    "print(value1, ..., sep=' ', end='\\n', file=sys.stdout, flush=False)\n",
    "</pre>\n",
    "Die print-Funktion druckt beliebig viele Werte (\"value1, value2, ...\") aus, die durch Komma getrennt sind. Bei der Ausgabe werden die Werte standardmäßig durch Leerzeichen getrennt. Im folgenden Beispiel sehen wir zwei print-Aufrufe, die jeweils zwei Werte, d.h. einen String und eine Float-Zahl ausgeben:"
   ]
  },
  {
   "cell_type": "code",
   "execution_count": 5,
   "metadata": {},
   "outputs": [
    {
     "name": "stdout",
     "output_type": "stream",
     "text": [
      "a =  3.564\n"
     ]
    }
   ],
   "source": [
    "a= 3.564\n",
    "print(\"a = \", a)"
   ]
  },
  {
   "cell_type": "code",
   "execution_count": 6,
   "metadata": {},
   "outputs": [
    {
     "name": "stdout",
     "output_type": "stream",
     "text": [
      "a = \n",
      " 3.564\n"
     ]
    }
   ],
   "source": [
    "print(\"a = \\n\", a)"
   ]
  },
  {
   "cell_type": "markdown",
   "metadata": {},
   "source": [
    "Wir sehen im zweiten print des vorigen Beispiels, dass das Leerzeichen zwischen zwei Werten, also in unserem Fall die Werte \"a = \\textbackslash n\" und \"3.564\", immer durch ein Leerzeichen getrennt werden, auch wenn die Ausgabe in einer neuen Zeile weitergeht. In Python 2 ist dies nicht so. Dort wird kein Leerzeichen in einer neuen Zeile ausgegeben. Leerzeichen werden dort nur zwischen zwei Werten ausgegeben, wenn kein Zeilenvorschub stattfindet. Mit dem Schlüsselwortparameter \"sep\" kann man den Separator, der zwischen den Werten ausgegeben wird, auf einen beliebigen Stringwert setzen, also auch zum Beispiel auf einen leeren String oder einen Smiley:"
   ]
  },
  {
   "cell_type": "code",
   "execution_count": 7,
   "metadata": {},
   "outputs": [
    {
     "name": "stdout",
     "output_type": "stream",
     "text": [
      "a b\n"
     ]
    }
   ],
   "source": [
    "print(\"a\",\"b\")"
   ]
  },
  {
   "cell_type": "code",
   "execution_count": 8,
   "metadata": {},
   "outputs": [
    {
     "name": "stdout",
     "output_type": "stream",
     "text": [
      "ab\n"
     ]
    }
   ],
   "source": [
    "print(\"a\",\"b\",sep=\"\")"
   ]
  },
  {
   "cell_type": "code",
   "execution_count": 9,
   "metadata": {},
   "outputs": [
    {
     "name": "stdout",
     "output_type": "stream",
     "text": [
      "192.168.178.42\n"
     ]
    }
   ],
   "source": [
    "print(192,168,178,42,sep=\".\")"
   ]
  },
  {
   "cell_type": "code",
   "execution_count": 10,
   "metadata": {},
   "outputs": [
    {
     "name": "stdout",
     "output_type": "stream",
     "text": [
      "a:-)b\n"
     ]
    }
   ],
   "source": [
    "print(\"a\",\"b\",sep=\":-)\")"
   ]
  },
  {
   "cell_type": "markdown",
   "metadata": {},
   "source": [
    "Nach der Ausgabe der Werte beendet die print-Funktion die Ausgabe mit einem Newline, wie wir im folgenden sehen:"
   ]
  },
  {
   "cell_type": "code",
   "execution_count": 11,
   "metadata": {},
   "outputs": [
    {
     "name": "stdout",
     "output_type": "stream",
     "text": [
      "0\n",
      "1\n",
      "2\n",
      "3\n"
     ]
    }
   ],
   "source": [
    "for i in range(4):\n",
    "    print(i)"
   ]
  },
  {
   "cell_type": "markdown",
   "metadata": {},
   "source": [
    "Man kann dem Schlüsselwortparameter \"end\" einen beliebigen String zuweisen, der dann statt dem Default-Wert \"\\textbackslash n\" verwendet wird. Das erlaubt uns z.B. mehrere Werte in einer Zeile auszugeben:"
   ]
  },
  {
   "cell_type": "code",
   "execution_count": 12,
   "metadata": {},
   "outputs": [
    {
     "name": "stdout",
     "output_type": "stream",
     "text": [
      "0 1 2 3 "
     ]
    }
   ],
   "source": [
    "for i in range(4):\n",
    "    print(i, end=\" \") "
   ]
  },
  {
   "cell_type": "code",
   "execution_count": 13,
   "metadata": {},
   "outputs": [
    {
     "name": "stdout",
     "output_type": "stream",
     "text": [
      "0 :-) 1 :-) 2 :-) 3 :-) "
     ]
    }
   ],
   "source": [
    "for i in range(4):\n",
    "    print(i, end=\" :-) \")"
   ]
  },
  {
   "cell_type": "markdown",
   "metadata": {},
   "source": [
    "Die Ausgabe der print-Funktion wird in einen Datenstrom (engl. stream) geleitet. Standardmäßig wird dazu die Standardausgabe benutzt, also \"sys.stdout\". Mit dem Schlüsselwort \"file\" sind wir schließlich in der Lage die Ausgabe in eine Datei umzuleiten."
   ]
  },
  {
   "cell_type": "code",
   "execution_count": 14,
   "metadata": {},
   "outputs": [],
   "source": [
    "fh = open(\"daten.txt\",\"w\")\n",
    "print(\"42 ist die Antwort, aber was ist die Frage?\", file=fh)\n",
    "fh.close()"
   ]
  },
  {
   "cell_type": "markdown",
   "metadata": {},
   "source": [
    "Wir können feststellen, dass print nun keine Ausgabe mehr in der interaktiven Shell erzeugt. Die Ausgabe erfolgt nun in die Datei \"daten.txt\". Auf diese Art ist es nicht nur möglich Ausgaben in eine beliebige Datei umzulenken, sondern auch in den Standardfehlerkanal: "
   ]
  },
  {
   "cell_type": "code",
   "execution_count": 1,
   "metadata": {},
   "outputs": [
    {
     "name": "stderr",
     "output_type": "stream",
     "text": [
      "Error: 42\n"
     ]
    }
   ],
   "source": [
    "import sys\n",
    "# Ausgabe in Standardfehlerkanal:\n",
    "print(\"Error: 42\", file=sys.stderr)"
   ]
  },
  {
   "cell_type": "code",
   "execution_count": null,
   "metadata": {},
   "outputs": [],
   "source": []
  }
 ],
 "metadata": {
  "kernelspec": {
   "display_name": "Python 3",
   "language": "python",
   "name": "python3"
  },
  "language_info": {
   "codemirror_mode": {
    "name": "ipython",
    "version": 3
   },
   "file_extension": ".py",
   "mimetype": "text/x-python",
   "name": "python",
   "nbconvert_exporter": "python",
   "pygments_lexer": "ipython3",
   "version": "3.8.8"
  }
 },
 "nbformat": 4,
 "nbformat_minor": 2
}
