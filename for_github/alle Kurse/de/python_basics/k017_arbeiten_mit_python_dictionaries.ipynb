{
 "cells": [
  {
   "cell_type": "markdown",
   "metadata": {},
   "source": [
    "## Arbeiten mit Dictionaries\n",
    "\n",
    "# Einführung\n",
    "\n",
    "<img width=200 height=200 class=\"imgright\" src=\"../images/coffee_vending_machine.webp\" srcset=\"../images/coffee_vending_machine_600w.webp 600w,../images/coffee_vending_machine_500w.webp 500w,../images/coffee_vending_machine_400w.webp 400w,../images/coffee_vending_machine_350w.webp 350w,../images/coffee_vending_machine_300w.webp 300w\" alt=\"Getränke Verkaufsautomat\" />\n",
    "\n",
    "Für die Bearbeitung dieses Kapitel unseres Python-Tutorials nehmen war an, dass man mit den Grundbegriffen der Python-Dictionaries  und der `while`-Schleife bereits vertraut ist, so wie wir sie in den Kapitelen [Dictionaries](python3_dictionaries.php) and [Schleifen](python3_schleifen.php) behandelt hatten.\n",
    "\n",
    "Wir haben dieses Kapitel aufgenommen, um den Lernenden zusätzliche Übungen mit sowohl Dictionaries als auch `While`-Schleifen bereitzustellen.\n",
    "Der Fokus liegt auf verschachtelten Wörterbüchern, in unseren Beispielen auf Dictionaries mit Unterdictionaries.  Aus den Erfahrungen meiner Kurse weiß ich, dass dies oft besondere Schwierigkeiten für Anfängerinnen und Anfänger verursacht.\n",
    "\n",
    "\n",
    "In diesem Kapitel geht es auch um Kaffee, Tee und andere Heißgetränke, deren Konsum wir mittels Python-Dictionaries verwalten. \n",
    "\n",
    "Im ersten Beispiel starten wir mit einem Dictionary mit drei Personen als Keys. Die Werte entsprechen der Anzahl von getrunkenen Kaffeetassen:"
   ]
  },
  {
   "cell_type": "markdown",
   "metadata": {},
   "source": [
    "## Coffee, Dictionary and a Loop"
   ]
  },
  {
   "cell_type": "code",
   "execution_count": 6,
   "metadata": {},
   "outputs": [
    {
     "name": "stdin",
     "output_type": "stream",
     "text": [
      "Name:  Peter\n"
     ]
    },
    {
     "name": "stdout",
     "output_type": "stream",
     "text": [
      "1\n"
     ]
    },
    {
     "name": "stdin",
     "output_type": "stream",
     "text": [
      "Name:  Petra\n"
     ]
    },
    {
     "name": "stdout",
     "output_type": "stream",
     "text": [
      "Diese Person kenne ich nicht!\n"
     ]
    },
    {
     "name": "stdin",
     "output_type": "stream",
     "text": [
      "Name:  Franka\n"
     ]
    },
    {
     "name": "stdout",
     "output_type": "stream",
     "text": [
      "1\n"
     ]
    },
    {
     "name": "stdin",
     "output_type": "stream",
     "text": [
      "Name:  Peter\n"
     ]
    },
    {
     "name": "stdout",
     "output_type": "stream",
     "text": [
      "2\n"
     ]
    },
    {
     "name": "stdin",
     "output_type": "stream",
     "text": [
      "Name:  \n"
     ]
    },
    {
     "name": "stdout",
     "output_type": "stream",
     "text": [
      "kaffeeliste:  {'Peter': 2, 'Eva': 0, 'Franka': 1}\n"
     ]
    }
   ],
   "source": [
    "kaffeeliste = {\"Peter\": 0, \n",
    "               \"Eva\": 0, \n",
    "               \"Franka\": 0}\n",
    "\n",
    "while True:\n",
    "    name = input(\"Name: \")\n",
    "    if name == \"\":\n",
    "        break\n",
    "    if name not in kaffeeliste:\n",
    "        print(\"Diese Person kenne ich nicht!\")\n",
    "        continue\n",
    "    kaffeeliste[name] += 1\n",
    "    print(kaffeeliste[name])\n",
    "    \n",
    "print(\"kaffeeliste: \", kaffeeliste)"
   ]
  },
  {
   "cell_type": "markdown",
   "metadata": {},
   "source": [
    "Wir dürfen natürlich nicht die Teetrinker vergessen. Deshalb erweitern wir unser Python-Programm um eine Liste für den Teekonsum:"
   ]
  },
  {
   "cell_type": "code",
   "execution_count": 8,
   "metadata": {},
   "outputs": [
    {
     "name": "stdin",
     "output_type": "stream",
     "text": [
      "Name:  Peter\n",
      "Getränk (Kaffee/Tee):  Kaffee\n"
     ]
    },
    {
     "name": "stdout",
     "output_type": "stream",
     "text": [
      "1\n"
     ]
    },
    {
     "name": "stdin",
     "output_type": "stream",
     "text": [
      "Name:  Eva\n",
      "Getränk (Kaffee/Tee):  Kakao\n"
     ]
    },
    {
     "name": "stdout",
     "output_type": "stream",
     "text": [
      "Unbekanntes Getränk!\n"
     ]
    },
    {
     "name": "stdin",
     "output_type": "stream",
     "text": [
      "Name:  Eva\n",
      "Getränk (Kaffee/Tee):  Tee\n"
     ]
    },
    {
     "name": "stdout",
     "output_type": "stream",
     "text": [
      "1\n"
     ]
    },
    {
     "name": "stdin",
     "output_type": "stream",
     "text": [
      "Name:  Eva\n",
      "Getränk (Kaffee/Tee):  Tee\n"
     ]
    },
    {
     "name": "stdout",
     "output_type": "stream",
     "text": [
      "2\n"
     ]
    },
    {
     "name": "stdin",
     "output_type": "stream",
     "text": [
      "Name:  Franka\n",
      "Getränk (Kaffee/Tee):  Kaffee\n"
     ]
    },
    {
     "name": "stdout",
     "output_type": "stream",
     "text": [
      "1\n"
     ]
    },
    {
     "name": "stdin",
     "output_type": "stream",
     "text": [
      "Name:  \n"
     ]
    },
    {
     "name": "stdout",
     "output_type": "stream",
     "text": [
      "Kaffeeliste:  {'Peter': 1, 'Eva': 0, 'Franka': 1}\n",
      "Teeliste:  {'Peter': 0, 'Eva': 2, 'Franka': 0}\n"
     ]
    }
   ],
   "source": [
    "kaffeeliste = {\"Peter\": 0, \n",
    "               \"Eva\": 0, \n",
    "               \"Franka\": 0}\n",
    "teeliste = {\"Peter\": 0, \n",
    "            \"Eva\": 0, \n",
    "            \"Franka\": 0}\n",
    "\n",
    "while True:\n",
    "    name = input(\"Name: \")\n",
    "    if name == \"\":\n",
    "        break\n",
    "    if name not in kaffeeliste: \n",
    "        print(\"Diese Person kenne ich nicht!\")\n",
    "        continue\n",
    "    getränk = input(\"Getränk (Kaffee/Tee): \")\n",
    "    if getränk.lower() == \"kaffee\":\n",
    "        kaffeeliste[name] += 1\n",
    "        print(kaffeeliste[name])\n",
    "    elif getränk.lower() == \"tee\":\n",
    "        teeliste[name] += 1\n",
    "        print(teeliste[name])\n",
    "    else:\n",
    "        print(\"Unbekanntes Getränk!\")\n",
    "        \n",
    "print(\"Kaffeeliste: \", kaffeeliste)\n",
    "print(\"Teeliste: \", teeliste)"
   ]
  },
  {
   "cell_type": "markdown",
   "metadata": {},
   "source": [
    "Obiger Programmierstil eignet sich nicht, wenn wir weitere Getränke aufnehmen wollen. Wir bräuchten jedesmal eine eigene Liste. Es ist bedeutend besser eine Unterliste mit den Getränken zu verwenden:"
   ]
  },
  {
   "cell_type": "code",
   "execution_count": 11,
   "metadata": {},
   "outputs": [
    {
     "name": "stdin",
     "output_type": "stream",
     "text": [
      "Name:  Peter\n",
      "Getränk (Kaffee/Tee):  Kaffee\n",
      "Name:  Eva\n",
      "Getränk (Kaffee/Tee):  Tee\n",
      "Name:  Peter\n",
      "Getränk (Kaffee/Tee):  Kakao\n"
     ]
    },
    {
     "name": "stdout",
     "output_type": "stream",
     "text": [
      "Sorry, dieses Getränk führen wir nicht!\n"
     ]
    },
    {
     "name": "stdin",
     "output_type": "stream",
     "text": [
      "Name:  Peter\n",
      "Getränk (Kaffee/Tee):  Tee\n",
      "Name:  Swen\n",
      "Sollen wir Swen in Liste aufnehmen? (j/n) j\n",
      "Getränk (Kaffee/Tee):  Tee\n",
      "Name:  \n"
     ]
    },
    {
     "name": "stdout",
     "output_type": "stream",
     "text": [
      "{'Peter': {'Tee': 1, 'Kaffee': 1}, 'Eva': {'Tee': 1, 'Kaffee': 0}, 'Franka': {'Tee': 0, 'Kaffee': 0}, 'Swen': {'Tee': 1, 'Kaffee': 0}}\n"
     ]
    }
   ],
   "source": [
    "getränkekonsum = {\"Peter\": {\"Tee\": 0, \n",
    "                           \"Kaffee\": 0}, \n",
    "                  \"Eva\": {\"Tee\": 0, \n",
    "                         \"Kaffee\": 0}, \n",
    "                  \"Franka\": {\"Tee\": 0, \n",
    "                            \"Kaffee\": 0}} #hier müssen alle Namen aufgeführt werden\n",
    "\n",
    "while True:\n",
    "    name = input(\"Name: \").capitalize()\n",
    "    if name == \"\":\n",
    "        break\n",
    "    if name not in getränkekonsum:    # gibt keinen Key \"name\"\n",
    "        antwort = input(\"Sollen wir \" + name + \" in Liste aufnehmen? (j/n)\")\n",
    "        if antwort in [\"j\", \"ja\", \"Ja\", \"y\"]:\n",
    "            getränkekonsum[name] = {\"Tee\": 0, \"Kaffee\": 0}\n",
    "        else:\n",
    "            print(\"Dann gibt's nichts zu trinken für \" + name + \"!\")\n",
    "            continue\n",
    "    getränk = input(\"Getränk (Kaffee/Tee): \").capitalize()\n",
    "    if getränk in getränkekonsum[name]:\n",
    "        getränkekonsum[name][getränk] += 1\n",
    "    else:\n",
    "        print(\"Sorry, dieses Getränk führen wir nicht!\")\n",
    "print(getränkekonsum)\n"
   ]
  },
  {
   "cell_type": "markdown",
   "metadata": {},
   "source": [
    "Das vorige Beispiel verallgemeinern wir noch weiter, um einfacher ein solches Dictionary aufbauen zu können. Das `print` haben wir eingebaut, dass man leichter verfolgen kann, wie dieses Dictionary mittels `for`-Schleifen aufgebaut wird:"
   ]
  },
  {
   "cell_type": "code",
   "execution_count": 12,
   "metadata": {},
   "outputs": [
    {
     "name": "stdout",
     "output_type": "stream",
     "text": [
      "{'Peter': {}}\n",
      "{'Peter': {'Tee': 0, 'Kaffee': 0, 'Kakao': 0, 'Gemüsebrühe': 0}, 'Eva': {}}\n",
      "{'Peter': {'Tee': 0, 'Kaffee': 0, 'Kakao': 0, 'Gemüsebrühe': 0}, 'Eva': {'Tee': 0, 'Kaffee': 0, 'Kakao': 0, 'Gemüsebrühe': 0}, 'Sarah': {}}\n",
      "{'Peter': {'Tee': 0, 'Kaffee': 0, 'Kakao': 0, 'Gemüsebrühe': 0}, 'Eva': {'Tee': 0, 'Kaffee': 0, 'Kakao': 0, 'Gemüsebrühe': 0}, 'Sarah': {'Tee': 0, 'Kaffee': 0, 'Kakao': 0, 'Gemüsebrühe': 0}, 'Eddie': {}}\n",
      "{'Peter': {'Tee': 0, 'Kaffee': 0, 'Kakao': 0, 'Gemüsebrühe': 0}, 'Eva': {'Tee': 0, 'Kaffee': 0, 'Kakao': 0, 'Gemüsebrühe': 0}, 'Sarah': {'Tee': 0, 'Kaffee': 0, 'Kakao': 0, 'Gemüsebrühe': 0}, 'Eddie': {'Tee': 0, 'Kaffee': 0, 'Kakao': 0, 'Gemüsebrühe': 0}, 'Swen': {}}\n"
     ]
    }
   ],
   "source": [
    "getränke = [\"Tee\", \"Kaffee\", \"Kakao\", \"Gemüsebrühe\"]\n",
    "namen = [\"Peter\", \"Eva\", \"Sarah\", \"Eddie\", \"Swen\"]\n",
    "\n",
    "getränkekonsum = {}\n",
    "for name in namen:\n",
    "    getränkekonsum[name] = {}\n",
    "    print(getränkekonsum)\n",
    "    for getränk in getränke:\n",
    "        getränkekonsum[name][getränk] = 0"
   ]
  },
  {
   "cell_type": "markdown",
   "metadata": {},
   "source": [
    "### Aufgaben\n",
    "\n",
    "#### Aufgabe 1\n",
    "\n",
    "Gegen sei ein kleiner Supermarkt mit folgenden Produkten. Der Inhaber des Supermarktes möchte gerne wissen, wie hoch der Verkaufswert aller seiner Produkte zusammengerechnet beträgt.\n",
    "Schreibe dazu ein Python-Programm:"
   ]
  },
  {
   "cell_type": "code",
   "execution_count": 14,
   "metadata": {},
   "outputs": [],
   "source": [
    "supermarket = {\"milk\": {\"quantity\": 20, \"price\": 1.19},\n",
    "               \"biscuits\":  {\"quantity\": 32, \"price\": 1.45},\n",
    "               \"butter\":  {\"quantity\": 20, \"price\": 2.29},\n",
    "               \"cheese\":  {\"quantity\": 15, \"price\": 1.90},\n",
    "               \"bread\":  {\"quantity\": 15, \"price\": 2.59},\n",
    "               \"cookies\":  {\"quantity\": 20, \"price\": 4.99},\n",
    "               \"yogurt\": {\"quantity\": 18, \"price\": 3.65},\n",
    "               \"apples\":  {\"quantity\": 35, \"price\": 3.15},\n",
    "               \"oranges\":  {\"quantity\": 40, \"price\": 0.99},\n",
    "               \"bananas\": {\"quantity\": 23, \"price\": 1.29}}"
   ]
  },
  {
   "cell_type": "markdown",
   "metadata": {},
   "source": [
    "### Lösungen\n",
    "\n",
    "#### Aufgabe 1"
   ]
  },
  {
   "cell_type": "code",
   "execution_count": 15,
   "metadata": {},
   "outputs": [
    {
     "name": "stdout",
     "output_type": "stream",
     "text": [
      "milk:           00023.80\n",
      "biscuits:       00046.40\n",
      "butter:         00045.80\n",
      "cheese:         00028.50\n",
      "bread:          00038.85\n",
      "cookies:        00099.80\n",
      "yogurt:         00065.70\n",
      "apples:         00110.25\n",
      "oranges:        00039.60\n",
      "bananas:        00029.67\n",
      "========================\n",
      "Gesamtsumme:    00528.37\n"
     ]
    }
   ],
   "source": [
    "total_value = 0\n",
    "for article, numbers in supermarket.items():\n",
    "    quantity = numbers[\"quantity\"]\n",
    "    price = numbers[\"price\"]\n",
    "    product_price = quantity * price\n",
    "    article = article + ':'\n",
    "    print(f\"{article:15s} {product_price:08.2f}\")\n",
    "    total_value += product_price\n",
    "print(\"=\"*24)   \n",
    "print(f\"Gesamtsumme:    {total_value:08.2f}\")\n",
    "    "
   ]
  }
 ],
 "metadata": {
  "kernelspec": {
   "display_name": "Python 3",
   "language": "python",
   "name": "python3"
  },
  "language_info": {
   "codemirror_mode": {
    "name": "ipython",
    "version": 3
   },
   "file_extension": ".py",
   "mimetype": "text/x-python",
   "name": "python",
   "nbconvert_exporter": "python",
   "pygments_lexer": "ipython3",
   "version": "3.7.3"
  }
 },
 "nbformat": 4,
 "nbformat_minor": 4
}
