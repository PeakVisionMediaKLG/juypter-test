{
 "cells": [
  {
   "cell_type": "markdown",
   "metadata": {},
   "source": [
    "## Functions\n",
    "### Syntax\n",
    "\n",
    "<img width=25% class=\"imgright\" src=\"../images/functions.webp\" alt=\"Functions\" />\n",
    "\n",
    "\n",
    "Das Konzept einer Funktion ist eines der wichtigsten in der Mathematik. Eine übliche Verwendung von Funktionen in Computersprachen ist die Implementierung mathematischer Funktionen. Eine solche Funktion berechnet ein oder mehrere Ergebnisse, die vollständig durch die an sie übergebenen Parameter bestimmt werden.\n",
    "\n",
    "Das ist Mathematik, aber wir sprechen über Programmierung und Python. Was ist also eine Funktion in der Programmierung? Im allgemeinsten Sinne ist eine Funktion ein Strukturierungselement in Programmiersprachen, um eine Reihe von Anweisungen zu gruppieren, damit sie in einem Programm mehr als einmal verwendet werden können. Die einzige Möglichkeit, dies ohne Funktionen zu erreichen, besteht darin, Code durch Kopieren und Anpassen an verschiedene Kontexte wiederzuverwenden, was eine schlechte Idee wäre. Redundanter Code - in diesem Fall sich wiederholender Code - sollte vermieden werden! Die Verwendung von Funktionen verbessert normalerweise die Verständlichkeit und Qualität eines Programms. Dies senkt auch die Kosten für die Entwicklung und Wartung der Software.\n",
    "\n",
    "Funktionen sind unter verschiedenen Namen in Programmiersprachen bekannt, z. als Unterprogramme, Routinen, Prozeduren, Methoden oder Unterprogramme.\n"
   ]
  },
  {
   "cell_type": "markdown",
   "metadata": {},
   "source": [
    "### Ein motivierendes Beispiel für Funktionen\n",
    "\n",
    "Schauen wir uns das folgende Beispiel an:"
   ]
  },
  {
   "cell_type": "code",
   "execution_count": 17,
   "metadata": {},
   "outputs": [
    {
     "name": "stdout",
     "output_type": "stream",
     "text": [
      "Das Programm startet\n",
      "Hallo Peter\n",
      "Schön dich zu sehen!\n",
      "Viel Spaß mit dem Programm!\n",
      "Hallo Dora\n",
      "Schön dich zu sehen!\n",
      "Viel Spaß mit dem Programm!\n",
      "Hallo Kevin\n",
      "Schön dich zu sehen!\n",
      "Viel Spaß mit dem Programm!\n"
     ]
    }
   ],
   "source": [
    "print(\"Das Programm startet\")\n",
    "\n",
    "print(\"Hallo Peter\")\n",
    "print(\"Schön dich zu sehen!\")\n",
    "print(\"Viel Spaß mit dem Programm!\")\n",
    "\n",
    "# hier stelle man sich irgendwelchen Code vor:\n",
    "egal = \"über dies nicht nachdenken\"\n",
    "ist_nicht_wichtig = \"normalerweise schon\"\n",
    "\n",
    "print(\"Hallo Dora\")\n",
    "print(\"Schön dich zu sehen!\")\n",
    "print(\"Viel Spaß mit dem Programm!\")\n",
    "\n",
    "# irgendein Code:\n",
    "wie_auch_immer = \"mir auch \"\n",
    "x = \"steht stellvertretend\"\n",
    "y = \"stellvertretend für wichtigen Code\"\n",
    "\n",
    "print(\"Hallo Kevin\")\n",
    "print(\"Schön dich zu sehen!\")\n",
    "print(\"Viel Spaß mit dem Programm!\")"
   ]
  },
  {
   "cell_type": "markdown",
   "metadata": {},
   "source": [
    "Schauen wir uns den obigen Code genauer an:\n",
    "\n",
    "<img width = \"80%\" src = \"../images/gleichartige_bloecke.webp\" alt = \"gleiche Blöcke\">\n",
    "\n",
    "Wir können im Code sehen, dass wir drei Personen begrüßen. Jedes Mal verwenden wir drei print-Aufrufe, die nahezu gleich sind. Nur der Name ist anders. Dies nennen wir redundanten Code.\n",
    "Wir wiederholen den Code dreimal.\n",
    "Das sollte natürlich nicht sein.\n",
    "Dies ist der Punkt, an dem Funktionen in Python verwendet werden können und sollten. Wir könnten im Code statt der Namen einen Platzhalter verwenden. Im folgenden ein Puzzleteil. Wir schreiben den Code nur noch einmal und ersetzen jeweils das Puzzleteil mit Namen:\n",
    "\n",
    "<img width = \"70%\" src = \"../images/code_mit_schablone.webp\" alt = \"Code mit Schablone\">\n",
    "\n",
    "Das war natürlich noch kein korrekter Python-Code. Wie dies in Python geht zeigen wir im folgenden Abschnitt.\n",
    "\n",
    "### Funktionen in Python\n",
    "\n",
    "\n",
    "\n",
    "Der folgende Code verwendet eine Funktion. Das vorherige Puzzleteil ist jetzt ein Parameter mit dem Namen ```name```:"
   ]
  },
  {
   "cell_type": "code",
   "execution_count": 18,
   "metadata": {},
   "outputs": [
    {
     "name": "stdout",
     "output_type": "stream",
     "text": [
      "Das Programm startet\n",
      "Hallo Peter\n",
      "Schön dich zu sehen!\n",
      "Viel Spaß mit dem Programm!\n",
      "Hallo Dora\n",
      "Schön dich zu sehen!\n",
      "Viel Spaß mit dem Programm!\n",
      "Hallo Kevin\n",
      "Schön dich zu sehen!\n",
      "Viel Spaß mit dem Programm!\n"
     ]
    }
   ],
   "source": [
    "def begruesse(name):\n",
    "    print(\"Hallo \" + name)\n",
    "    print(\"Schön dich zu sehen!\")\n",
    "    print(\"Viel Spaß mit dem Programm!\")\n",
    "\n",
    "    \n",
    "print(\"Das Programm startet\")\n",
    "\n",
    "begruesse(\"Peter\")\n",
    "\n",
    "# hier stelle man sich irgendwelchen Code vor:\n",
    "egal = \"über dies nicht nachdenken\"\n",
    "ist_nicht_wichtig = \"normalerweise schon\"\n",
    "\n",
    "begruesse(\"Dora\")\n",
    "\n",
    "# irgendein Code:\n",
    "wie_auch_immer = \"mir auch \"\n",
    "x = \"steht stellvertretend\"\n",
    "y = \"stellvertretend für wichtigen Code\"\n",
    "\n",
    "begruesse(\"Kevin\")"
   ]
  },
  {
   "cell_type": "markdown",
   "metadata": {},
   "source": [
    "Im vorigen Code benutzten wir eine Python-Funktion. Wir können sehen, dass eine Funktionsdefinition mit dem ```def```-Schlüsselwort eingeleitet wird. Die allgemeine Syntax sieht folgendermaßen aus:\n",
    "```\n",
    "def Funktionsname (Parameterliste):\n",
    "    Anweisungen, d. h. der Funktionskörper\n",
    "```\n",
    "\n",
    "Die Parameterliste besteht aus keinem oder mehreren Parametern. Parameter werden als Argumente bezeichnet, wenn die Funktion aufgerufen wird. Der Funktionskörper besteht aus eingerückten Anweisungen. Der Funktionskörper wird bei jedem Aufruf der Funktion ausgeführt. Wir zeigen dies im folgenden Bild:\n",
    "\n",
    "<img width=60% src=\"../images/function_call_1.webp\" srcset=\"../images/function_call_1_800w.webp 800w,../images/function_call_1_700w.webp 700w,../images/function_call_1_600w.webp 600w,../images/function_call_1_500w.webp 500w,../images/function_call_1_400w.webp 400w,../images/function_call_1_350w.webp 350w,../images/function_call_1_300w.webp 300w\" alt=\"Function Call: Control Flow\" />\n",
    "\n",
    "\n",
    "Der Code aus dem Bild ist im Folgenden zu sehen:"
   ]
  },
  {
   "cell_type": "code",
   "execution_count": 2,
   "metadata": {},
   "outputs": [
    {
     "name": "stdout",
     "output_type": "stream",
     "text": [
      "Programm fängt an!\n",
      "Ergebnis des Funktionsaufrufs:  16\n",
      "Ergebnis des Funktionsaufrufs:  22\n"
     ]
    }
   ],
   "source": [
    "def f(x, y):\n",
    "    z = 2 * (x + y)\n",
    "    return z\n",
    "\n",
    "\n",
    "print(\"Programm fängt an!\")\n",
    "a = 3\n",
    "res1 = f(a, 2+a) # wie abs()\n",
    "print(\"Ergebnis des Funktionsaufrufs: \", res1)\n",
    "a = 4\n",
    "b = 7\n",
    "res2 = f(a, b)\n",
    "print(\"Ergebnis des Funktionsaufrufs: \", res2)"
   ]
  },
  {
   "cell_type": "markdown",
   "metadata": {},
   "source": [
    "## Argumentübergabe \n",
    "Wir rufen die Funktion zweimal im Programm auf. Die Funktion hat zwei Parameter, die ```x``` und ``` y``` heißen. Dies bedeutet, dass die Funktion ```f``` zwei Werte erwartet, oder ich sollte\" zwei Objekte \"sagen. Zunächst rufen wir diese Funktion mit ```f (a, 2 + a)``` auf. Dies bedeutet, dass ```a``` zu ``` x``` geht und das Ergebnis von ```2 + a``` (5) 'zu' der Variablen ``` y``` geht. Der Mechanismus zum Zuweisen von Argumenten zu Parametern wird als -- Argumentübergabe -- bezeichnet. Wenn wir die Anweisung ```return``` erreichen, wird das von ``` z``` referenzierte Objekt zurückgegeben, was bedeutet, dass es der Variablen ```res1``` zugewiesen wird. Nach Verlassen der Funktion ```f``` werden die Variable ``` z``` und die Parameter ```x``` und ``` y``` automatisch gelöscht.\n"
   ]
  },
  {
   "cell_type": "markdown",
   "metadata": {},
   "source": [
    "\n",
    "<img width=60% src=\"../images/function_call_2.webp\" srcset=\"../images/function_call_2_800w.webp 800w,../images/function_call_2_700w.webp 700w,../images/function_call_2_600w.webp 600w,../images/function_call_2_500w.webp 500w,../images/function_call_2_400w.webp 400w,../images/function_call_2_350w.webp 350w,../images/function_call_2_300w.webp 300w\" alt=\"Function Call: Argument Passing Part1\" />"
   ]
  },
  {
   "cell_type": "markdown",
   "metadata": {},
   "source": [
    "Die Verweise auf die Objekte sind im nächsten Diagramm zu sehen:\n",
    "\n",
    "<img width=20% src=\"../images/function_call_3.webp\" alt=\"Function Call: Argument Passing Part2\" />"
   ]
  },
  {
   "cell_type": "markdown",
   "metadata": {},
   "source": [
    "Der nächste Python-Codeblock enthält ein Beispiel für eine Funktion ohne return-Anweisung. Wir verwenden die ```pass``` Anweisung innerhalb dieser Funktion. ```pass``` ist eine Nulloperation. Dies bedeutet, dass bei der Ausführung nichts passiert. Es ist nützlich als Platzhalter in Situationen, in denen eine Anweisung syntaktisch erforderlich ist, aber kein Code ausgeführt werden muss:\n",
    "\n",
    "<pre>\n",
    "def doNothing():\n",
    "     pass\n"
   ]
  },
  {
   "cell_type": "markdown",
   "metadata": {},
   "source": [
    "Eine nützlichere Funktion:"
   ]
  },
  {
   "cell_type": "code",
   "execution_count": 20,
   "metadata": {},
   "outputs": [
    {
     "name": "stdout",
     "output_type": "stream",
     "text": [
      "22.6 :  72.68\n",
      "25.8 :  78.44\n",
      "27.3 :  81.14\n",
      "29.8 :  85.64\n"
     ]
    }
   ],
   "source": [
    "def fahrenheit(T_in_celsius):\n",
    "    \"\"\" Gibt die Temperatur T_in_celsius in Grad Fahrenheit zurück \"\"\"\n",
    "    return (T_in_celsius * 9 / 5) + 32\n",
    "\n",
    "for t in (22.6, 25.8, 27.3, 29.8):\n",
    "    print(t, \": \", fahrenheit(t))"
   ]
  },
  {
   "cell_type": "markdown",
   "metadata": {},
   "source": [
    "\"\"\" Gibt die Temperatur in Grad Fahrenheit zurück \"\"\" ist der sogenannte Docstring.\n",
    "Er wird bei der help-Funktion verwendet:"
   ]
  },
  {
   "cell_type": "code",
   "execution_count": 21,
   "metadata": {},
   "outputs": [
    {
     "name": "stdout",
     "output_type": "stream",
     "text": [
      "Help on function fahrenheit in module __main__:\n",
      "\n",
      "fahrenheit(T_in_celsius)\n",
      "    Gibt die Temperatur T_in_celsius in Grad Fahrenheit zurück\n",
      "\n"
     ]
    }
   ],
   "source": [
    "help(fahrenheit)"
   ]
  },
  {
   "cell_type": "markdown",
   "metadata": {},
   "source": [
    "Der Docstring hängt an dem Attribut ```__doc__```:"
   ]
  },
  {
   "cell_type": "code",
   "execution_count": 22,
   "metadata": {},
   "outputs": [
    {
     "data": {
      "text/plain": [
       "' Gibt die Temperatur T_in_celsius in Grad Fahrenheit zurück '"
      ]
     },
     "execution_count": 22,
     "metadata": {},
     "output_type": "execute_result"
    }
   ],
   "source": [
    "fahrenheit.__doc__"
   ]
  },
  {
   "cell_type": "markdown",
   "metadata": {},
   "source": [
    "### Standardargumente in Python\n",
    "\n",
    "Wenn wir eine Python-Funktion definieren, können wir einen Standardwert für einen Parameter festlegen.\n",
    "Wenn die Funktion ohne das Argument aufgerufen wird, wird dieser Standardwert dem Parameter zugewiesen. Dies macht einen Parameter optional. Mit anderen Worten: Standardparameter sind Parameter, die beim Aufruf der Funktion nicht angegeben werden müssen. In diesem Fall werden die Standardwerte verwendet.\n",
    "\n",
    "Wir werden das Funktionsprinzip von Standardparametern anhand eines einfachen Beispiels demonstrieren. Die folgende Funktion ```Hallo``` - die nicht sehr nützlich ist - begrüßt eine Person. Wenn kein Name angegeben wird, werden alle begrüßt:"
   ]
  },
  {
   "cell_type": "code",
   "execution_count": 45,
   "metadata": {},
   "outputs": [
    {
     "name": "stdout",
     "output_type": "stream",
     "text": [
      "Hallo Peter!\n",
      "Hallo zusammen!\n"
     ]
    }
   ],
   "source": [
    "def hallo(name=\"zusammen\"):\n",
    "    \"\"\" Grüßt eine Person \"\"\"\n",
    "    print(\"Hallo \" + name + \"!\")\n",
    "\n",
    "hallo(\"Peter\")\n",
    "hallo()"
   ]
  },
  {
   "cell_type": "code",
   "execution_count": 46,
   "metadata": {},
   "outputs": [
    {
     "name": "stdout",
     "output_type": "stream",
     "text": [
      "Hello Peter!\n",
      "Hello Bruce!\n"
     ]
    }
   ],
   "source": [
    "def hello(name=\"Bruce\"):\n",
    "    \"\"\" Grüßt eine Person \"\"\"\n",
    "    print(\"Hello \" + name + \"!\")\n",
    "\n",
    "hello(\"Peter\")\n",
    "hello()"
   ]
  },
  {
   "cell_type": "markdown",
   "metadata": {},
   "source": [
    "### Die Standardeinstellung für Standardeinstellungen\n",
    "\n",
    "Im vorherigen Abschnitt haben wir die Standardparameter kennengelernt. Standardparameter sind recht einfach, aber Programmierer, die Python noch nicht kennen, stoßen häufig auf eine schreckliche und völlig unerwartete Überraschung. Diese Überraschung ergibt sich aus der Art und Weise, wie Python die Standardargumente und die Auswirkungen veränderbarer Objekte behandelt.\n",
    "\n",
    "\n",
    "Veränderbare Objekte können nach der Erstellung geändert werden. In Python sind Listen und Wörterbücher Beispiele für veränderbare Objekte. Das Übergeben von veränderlichen Listen oder Wörterbüchern als Standardargumente an eine Funktion kann unvorhergesehene Auswirkungen haben. Programmierer, die Listen oder Wörterbücher als Standardargumente für eine Funktion verwenden, erwarten, dass das Programm bei jedem Aufruf der Funktion eine neue Liste oder ein neues Wörterbuch erstellt. Dies ist jedoch nicht das, was tatsächlich passiert. Standardwerte werden beim Aufruf einer Funktion nicht erstellt. <b>Standardwerte werden genau einmal erstellt, wenn die Funktion definiert ist, d. H. Zur Kompilierungszeit.\n",
    "\n",
    "</b>\n",
    "Schauen wir uns die folgende Python-Funktion \"Spammer\" an, mit der eine \"Tasche\" voller Spam erstellt werden kann:"
   ]
  },
  {
   "cell_type": "code",
   "execution_count": 6,
   "metadata": {},
   "outputs": [],
   "source": [
    "def spammer(tüte=[]):\n",
    "    tüte.append(\"spam\")\n",
    "    return tüte"
   ]
  },
  {
   "cell_type": "markdown",
   "metadata": {},
   "source": [
    "Wenn Sie diese Funktion einmal ohne Argument aufrufen, wird das erwartete Ergebnis zurückgegeben:"
   ]
  },
  {
   "cell_type": "code",
   "execution_count": 48,
   "metadata": {},
   "outputs": [
    {
     "data": {
      "text/plain": [
       "['spam']"
      ]
     },
     "execution_count": 48,
     "metadata": {},
     "output_type": "execute_result"
    }
   ],
   "source": [
    "spammer()"
   ]
  },
  {
   "cell_type": "markdown",
   "metadata": {},
   "source": [
    "Die Überraschung zeigt, wenn wir die Funktion ohne Argument erneut aufrufen:"
   ]
  },
  {
   "cell_type": "code",
   "execution_count": 49,
   "metadata": {},
   "outputs": [
    {
     "data": {
      "text/plain": [
       "['spam', 'spam']"
      ]
     },
     "execution_count": 49,
     "metadata": {},
     "output_type": "execute_result"
    }
   ],
   "source": [
    "spammer()"
   ]
  },
  {
   "cell_type": "markdown",
   "metadata": {},
   "source": [
    "Die meisten Programmierer haben das gleiche Ergebnis wie beim ersten Aufruf erwartet, d. H. \"[\" spam \"]\" \"\n",
    "\n",
    "Um zu verstehen, was los ist, müssen Sie wissen, was passiert, wenn die Funktion definiert wird. Der Compiler erstellt ein Attribut ```__defaults__```:"
   ]
  },
  {
   "cell_type": "code",
   "execution_count": 18,
   "metadata": {},
   "outputs": [
    {
     "data": {
      "text/plain": [
       "([],)"
      ]
     },
     "execution_count": 18,
     "metadata": {},
     "output_type": "execute_result"
    }
   ],
   "source": [
    "def spammer(tüte=[]): \n",
    "    tüte.append(\"spam\")\n",
    "    return tüte\n",
    "\n",
    "spammer.__defaults__"
   ]
  },
  {
   "cell_type": "markdown",
   "metadata": {},
   "source": [
    "Wann immer wir die Funktion aufrufen, wird der Parameter ```tüte``` dem <b>Listenobjekt</b> zugewiesen, auf das ``` Spammer .__ Defaults __ [0] ``` verweist. Beim ersten Aufruf ist dies der Ausdruck, der beim Compilieren in der Funktionsdefinition erkannt wurde. Dann wird aber der ```Spammer.__Defaults``` Wert auf den momentanen Wert von tüte gesetzt, der ja inzwischen verändert ist."
   ]
  },
  {
   "cell_type": "code",
   "execution_count": 7,
   "metadata": {},
   "outputs": [
    {
     "name": "stdout",
     "output_type": "stream",
     "text": [
      "['spam']\n",
      "jetzt ist spammer.__defaults__ (['spam'],)\n",
      "['spam', 'spam']\n",
      "jetzt ist spammer.__defaults__ (['spam', 'spam'],)\n",
      "['spam', 'spam', 'spam']\n",
      "jetzt ist spammer.__defaults__ (['spam', 'spam', 'spam'],)\n",
      "['spam', 'spam', 'spam', 'spam']\n",
      "jetzt ist spammer.__defaults__ (['spam', 'spam', 'spam', 'spam'],)\n",
      "['spam', 'spam', 'spam', 'spam', 'spam']\n",
      "jetzt ist spammer.__defaults__ (['spam', 'spam', 'spam', 'spam', 'spam'],)\n",
      "spammer.__defaults__ (['spam', 'spam', 'spam', 'spam', 'spam'],)\n"
     ]
    }
   ],
   "source": [
    "for i in range(5):\n",
    "    print(spammer()) \n",
    "    print(\"jetzt ist spammer.__defaults__\", spammer.__defaults__)\n",
    "print(\"spammer.__defaults__\", spammer.__defaults__)"
   ]
  },
  {
   "cell_type": "markdown",
   "metadata": {},
   "source": [
    "Jetzt wissen und verstehen Sie, was los ist, aber Sie fragen sich vielleicht, wie Sie dieses Problem lösen können. Die Lösung besteht darin, den unveränderlichen Wert ```None``` als Standard zu verwenden. Auf diese Weise kann die Funktion bag dynamisch (zur Laufzeit) auf eine leere Liste setzen:"
   ]
  },
  {
   "cell_type": "code",
   "execution_count": 52,
   "metadata": {},
   "outputs": [
    {
     "name": "stdout",
     "output_type": "stream",
     "text": [
      "['spam']\n",
      "['spam']\n",
      "['spam']\n",
      "['spam']\n",
      "['spam']\n",
      "spammer.__defaults__ (None,)\n"
     ]
    }
   ],
   "source": [
    "def spammer(tüte=None):\n",
    "    if tüte is None:\n",
    "        tüte = []\n",
    "    tüte.append(\"spam\")\n",
    "    return tüte\n",
    "\n",
    "for i in range(5):\n",
    "    print(spammer())\n",
    "    \n",
    "print(\"spammer.__defaults__\", spammer.__defaults__)"
   ]
  },
  {
   "cell_type": "markdown",
   "metadata": {},
   "source": [
    "<b> Die Moral von der Geschichte, veränderbare Sequenzen nicht in Funktionen als Standardargumente eingeben sondern positional."
   ]
  },
  {
   "cell_type": "code",
   "execution_count": 17,
   "metadata": {},
   "outputs": [
    {
     "name": "stdout",
     "output_type": "stream",
     "text": [
      "['spam']\n",
      "['spam']\n",
      "['spam']\n",
      "['spam']\n",
      "['spam']\n"
     ]
    }
   ],
   "source": [
    "def spammer(tüte): \n",
    "    tüte.append(\"spam\")\n",
    "    return tüte\n",
    "for i in range(5):\n",
    "    print(spammer([])) #positionale Eingabe der Arguments\n"
   ]
  },
  {
   "cell_type": "markdown",
   "metadata": {},
   "source": [
    "### Docstring\n",
    "\n",
    "Die erste Anweisung im Hauptteil einer Funktion ist normalerweise eine Zeichenfolgenanweisung namens Docstring, auf die mit dem ```Funktionsname .__ doc__``` zugegriffen werden kann. Zum\n",
    "Beispiel:"
   ]
  },
  {
   "cell_type": "code",
   "execution_count": 53,
   "metadata": {},
   "outputs": [
    {
     "name": "stdout",
     "output_type": "stream",
     "text": [
      "Die Docstring der Funktion Hallo: Grüßt einer Person \n"
     ]
    }
   ],
   "source": [
    "def hallo(name=\"zusammen\"):\n",
    "    \"\"\" Grüßt einer Person \"\"\"\n",
    "    print(\"Hallo \" + name + \"!\")\n",
    "\n",
    "print(\"Die Docstring der Funktion Hallo:\" + hallo.__doc__)"
   ]
  },
  {
   "cell_type": "markdown",
   "metadata": {},
   "source": [
    "### Schlüsselwortparameter\n",
    "\n",
    "Die Verwendung von Schlüsselwortparametern ist eine alternative Möglichkeit, Funktionsaufrufe durchzuführen. Die Definition der Funktion ändert sich nicht.\n",
    "Zunächst ein Beispiel mit Schlüsselparametern, dann\n",
    "ein Beispiel für die häufige Kombination aus Schlüssel- und Standardparametern:"
   ]
  },
  {
   "cell_type": "code",
   "execution_count": 9,
   "metadata": {},
   "outputs": [
    {
     "name": "stdout",
     "output_type": "stream",
     "text": [
      "9\n"
     ]
    }
   ],
   "source": [
    "def durcheinander(a,b,c):\n",
    "    return (a-b)**c\n",
    "print(durcheinander(c=2,b=4,a=1)) #(1-4)**2"
   ]
  },
  {
   "cell_type": "code",
   "execution_count": 12,
   "metadata": {},
   "outputs": [
    {
     "name": "stdout",
     "output_type": "stream",
     "text": [
      "8\n",
      "17\n"
     ]
    }
   ],
   "source": [
    "def sumsub(a, b, c=0, d=0): #erst die positionalen, dann die Schlüsselwörter\n",
    "    return a - b + c - d\n",
    "\n",
    "print(sumsub(12, 4))\n",
    "print(sumsub(42, 15, d=10)) "
   ]
  },
  {
   "cell_type": "markdown",
   "metadata": {},
   "source": [
    "Schlüsselwortparameter können nur solche sein, die nicht als Positionsargumente verwendet werden. Wir können den Nutzen im Beispiel sehen. Wenn wir keine Schlüsselwortparameter gehabt hätten, hätte der zweite Aufruf der Funktion alle vier Argumente benötigt, obwohl das Argument c nur den Standardwert benötigt:"
   ]
  },
  {
   "cell_type": "code",
   "execution_count": 16,
   "metadata": {},
   "outputs": [
    {
     "name": "stdout",
     "output_type": "stream",
     "text": [
      "27\n",
      "29\n"
     ]
    }
   ],
   "source": [
    "print(sumsub(42,15)) #c=0,d=0\n",
    "print(sumsub(42,15,2)) #d=0 aber nur durch Schlüsselwortparameter kann man c auf 0 lassen und d setzen"
   ]
  },
  {
   "cell_type": "markdown",
   "metadata": {},
   "source": [
    "### Rückgabewerte\n",
    "In unseren vorherigen Beispielen haben wir eine return-Anweisung in der Funktion sumsub verwendet, jedoch nicht in Hello(s.o.). Wir können also sehen, dass eine return-Anweisung nicht zwingend erforderlich ist. Aber was wird zurückgegeben, wenn wir nicht explizit eine return-Anweisung geben. Mal schauen:"
   ]
  },
  {
   "cell_type": "code",
   "execution_count": 20,
   "metadata": {},
   "outputs": [
    {
     "name": "stdout",
     "output_type": "stream",
     "text": [
      "None\n"
     ]
    }
   ],
   "source": [
    "def no_return(x, y):\n",
    "    c = x + y\n",
    "\n",
    "res = no_return(4, 5)\n",
    "print(res)"
   ]
  },
  {
   "cell_type": "markdown",
   "metadata": {},
   "source": [
    "Wenn wir dieses kleine Skript starten, wird *None* gedruckt, d. H. Der spezielle Wert *None* wird von einer Funktion ohne Rückgabe zurückgegeben. *None* wird auch zurückgegeben, wenn wir nur eine Rückgabe in einer Funktion ohne Ausdruck haben:"
   ]
  },
  {
   "cell_type": "code",
   "execution_count": 21,
   "metadata": {},
   "outputs": [
    {
     "name": "stdout",
     "output_type": "stream",
     "text": [
      "None\n"
     ]
    }
   ],
   "source": [
    "def empty_return(x, y):\n",
    "    c = x + y\n",
    "    return\n",
    "\n",
    "res = empty_return(4, 5)\n",
    "print(res)"
   ]
  },
  {
   "cell_type": "markdown",
   "metadata": {},
   "source": [
    "Andernfalls wird der Wert des Ausdrucks nach der Rückgabe zurückgegeben. Im nächsten Beispiel wird 9 gedruckt:"
   ]
  },
  {
   "cell_type": "code",
   "execution_count": 81,
   "metadata": {},
   "outputs": [
    {
     "name": "stdout",
     "output_type": "stream",
     "text": [
      "9\n"
     ]
    }
   ],
   "source": [
    "def return_sum(x, y):\n",
    "    c = x + y\n",
    "    return c\n",
    "\n",
    "res = return_sum(4, 5)\n",
    "print(res)"
   ]
  },
  {
   "cell_type": "markdown",
   "metadata": {},
   "source": [
    "Fassen wir dieses Verhalten zusammen: Funktionskörper können eine oder mehrere return-Anweisungen enthalten. Sie können sich überall im Funktionskörper befinden. Eine return-Anweisung beendet die Ausführung des Funktionsaufrufs und \"gibt\" das Ergebnis, d. H. den Wert des Ausdrucks nach dem Schlüsselwort return, an den Aufrufer zurück. Wenn die return-Anweisung keinen Ausdruck enthält, wird der spezielle Wert ```None``` zurückgegeben. Wenn der Funktionscode keine return-Anweisung enthält, endet die Funktion, wenn der Kontrollfluss das Ende des Funktionskörpers erreicht und der Wert ```None``` zurückgegeben wird."
   ]
  },
  {
   "cell_type": "markdown",
   "metadata": {},
   "source": [
    "Wir sollten jetzt als Übung mal eine Funktion schreiben, die die Fibonacci-Zahlen die kleiner sind als ein Grenzwert, den wir eingeben, ausdrucken soll.\n",
    "Die Fibonacci - Zahlen als Funktion fib(zahl) beginnen mit 0 und 1 für fíb(0) und fib(1). Dann ist jede folgende Zahl die Summe \n",
    "der beiden vorherigen Zahlen. fib(2) ist also fib(0)+fib(1) und damit 0 + 1 also 1. fib(3) ist 2. u.s.w. TIPP: Wir können dafür die fib-Zahlen in eine Liste ablegen und dann die letzten beiden Elemente der Liste addieren und dann die Liste wieder anpassen.\n"
   ]
  },
  {
   "cell_type": "code",
   "execution_count": null,
   "metadata": {},
   "outputs": [],
   "source": [
    "\n",
    "\n",
    "\n",
    "\n",
    "\n",
    "\n",
    "\n",
    "\n",
    "\n",
    "\n",
    "\n",
    "\n",
    "\n",
    "\n",
    "\n",
    "\n",
    "\n",
    "\n",
    "\n",
    "\n",
    "\n",
    "\n",
    "\n",
    "\n",
    "\n",
    "\n",
    "\n",
    "\n",
    "\n",
    "\n",
    "\n",
    "\n",
    "\n",
    "\n",
    "\n",
    "\n",
    "\n"
   ]
  },
  {
   "cell_type": "code",
   "execution_count": 28,
   "metadata": {},
   "outputs": [
    {
     "name": "stdout",
     "output_type": "stream",
     "text": [
      "Bis zu welcher Zahl soll ich ausdrucken21\n",
      " Fibonacci von:    0 ist    0\n",
      " Fibonacci von:    1 ist    1\n",
      " Fibonacci von:    2 ist    1\n",
      " Fibonacci von:    3 ist    2\n",
      " Fibonacci von:    4 ist    3\n",
      " Fibonacci von:    5 ist    5\n",
      " Fibonacci von:    6 ist    8\n",
      " Fibonacci von:    7 ist   13\n"
     ]
    }
   ],
   "source": [
    "def fibs(fib_list):\n",
    "    \"\"\"bestimmt die nächste Fib-zahl aus der Liste fib_list, die fortlaufend\n",
    "    erhöhte Fib-Zahlen enthält\"\"\"\n",
    "    return fib_list[-1]+fib_list[-2]\n",
    "    \n",
    "num=int(input(\"Bis zu welcher Zahl soll ich ausdrucken? \"))    \n",
    "res_list=[0,1]\n",
    "while True:\n",
    "    neu=fibs(res_list) #sonst rufe ich die fibs Funktion mehrfach auf\n",
    "    if neu<num:\n",
    "        res_list.append(neu)\n",
    "    else:\n",
    "        break\n",
    "counter=0\n",
    "for fib_num in res_list:    \n",
    "    print(f\" Fibonacci von: {counter:4d} ist {fib_num:4d}\")\n",
    "    counter+=1"
   ]
  },
  {
   "cell_type": "code",
   "execution_count": 29,
   "metadata": {},
   "outputs": [
    {
     "name": "stdout",
     "output_type": "stream",
     "text": [
      "Help on function fibs in module __main__:\n",
      "\n",
      "fibs(fib_list)\n",
      "    bestimmt die nächste Fib-zahl aus der Liste fib_list, die fortlaufend\n",
      "    erhöhte Fib-Zahlen enthält\n",
      "\n"
     ]
    }
   ],
   "source": [
    "help(fibs)"
   ]
  },
  {
   "cell_type": "markdown",
   "metadata": {},
   "source": [
    "Um den umständlichen counter zu vermeiden kann man mehr pythonisch die Funktion enumerate verwenden,\n",
    "welche ein enumerate-Objekt aus Tupeln von fortlaufenden Nummern und den Einträgen eines sequentiellen Datentyps erzeugt. (Klingt kompliziert, ist es aber nicht. s.u.)"
   ]
  },
  {
   "cell_type": "code",
   "execution_count": 36,
   "metadata": {},
   "outputs": [
    {
     "name": "stdout",
     "output_type": "stream",
     "text": [
      "Bis zu welcher Zahl soll ich ausdrucken? 21\n",
      "range(0, 10)\n",
      "<enumerate object at 0x000000610AFF33C0>\n",
      "[(0, 0), (1, 1), (2, 1), (3, 2), (4, 3), (5, 5), (6, 8), (7, 13)]\n",
      " Fibonacci von:    0 ist    0\n",
      " Fibonacci von:    1 ist    1\n",
      " Fibonacci von:    2 ist    1\n",
      " Fibonacci von:    3 ist    2\n",
      " Fibonacci von:    4 ist    3\n",
      " Fibonacci von:    5 ist    5\n",
      " Fibonacci von:    6 ist    8\n",
      " Fibonacci von:    7 ist   13\n"
     ]
    }
   ],
   "source": [
    "def fibs(fib_list):\n",
    "    \"\"\"bestimmt die nächste Fib-zahl aus der Liste fib_list, die fortlaufend\n",
    "    erhöhte Fib-Zahlen enthält\"\"\"\n",
    "    return fib_list[-1]+fib_list[-2]\n",
    "    \n",
    "num=int(input(\"Bis zu welcher Zahl soll ich ausdrucken? \"))    \n",
    "res_list=[0,1]\n",
    "while True:\n",
    "    neu=fibs(res_list) #sonst rufe ich die fibs Funktion mehrfach auf\n",
    "    if neu<num:\n",
    "        res_list.append(neu)\n",
    "    else:\n",
    "        break\n",
    "\n",
    "print(enumerate(res_list)) \n",
    "print(list(enumerate(res_list))) #jetzt machen wir die Einträge als Liste sichtbar\n",
    "for index,result in enumerate(res_list):\n",
    "    print(f\" Fibonacci von: {index:4d} ist {result:4d}\")\n",
    "    "
   ]
  },
  {
   "cell_type": "markdown",
   "metadata": {},
   "source": [
    "### Mehrere Werte zurückgeben\n",
    "\n",
    "Eine Funktion kann genau einen Wert zurückgeben, oder wir sollten besser ein Objekt sagen. Ein Objekt kann ein numerischer Wert sein, z. B. eine Ganzzahl oder ein Gleitkommawert. Es kann aber auch z.B. eine Liste oder ein Wörterbuch. Wenn wir also beispielsweise 3 Ganzzahlwerte zurückgeben müssen, können wir eine Liste oder ein Tupel mit diesen drei Ganzzahlwerten zurückgeben. Das heißt, wir können indirekt mehrere Werte zurückgeben. Das folgende Beispiel, das die Fibonacci-Grenze für eine positive Zahl berechnet, gibt ein 2-Tupel zurück. Das erste Element ist die größte Fibonacci-Zahl kleiner als x und die zweite Komponente ist die kleinste Fibonacci-Zahl größer als x. Der Rückgabewert wird sofort durch Auspacken in die Variablen lub und sup gespeichert:"
   ]
  },
  {
   "cell_type": "code",
   "execution_count": 20,
   "metadata": {},
   "outputs": [
    {
     "name": "stdout",
     "output_type": "stream",
     "text": [
      "Ihre Nummer: 21\n",
      "Größte Fibonacci-Zahl kleiner als x: 13\n",
      "Kleinste Fibonacci-Zahl größer als x: 34\n"
     ]
    }
   ],
   "source": [
    "def fib_intervall(x):\n",
    "    \"\"\" gibt die größten Fibonacci zurück\n",
    "     Zahl kleiner als x und die niedrigste\n",
    "     Fibonacci-Zahl höher als x\"\"\"\n",
    "    \n",
    "    (alt,neu) = (0,1)\n",
    "    while True:\n",
    "        if neu < x:\n",
    "            #print(\"vorher\",alt,neu)\n",
    "            (alt,neu) = (neu,alt+neu)\n",
    "            #print(\"danach\",alt,neu)\n",
    "        else:\n",
    "            if neu == x:   #wenn neu eine fibonacci-Zahl ist            \n",
    "                neu = alt+neu\n",
    "            return (alt, neu)\n",
    "            \n",
    "\n",
    "x = int(input(\"Ihre Nummer: \"))\n",
    "lub, sup = fib_intervall(x)\n",
    "print(\"Größte Fibonacci-Zahl kleiner als x: \" + str(lub))\n",
    "print(\"Kleinste Fibonacci-Zahl größer als x: \" + str(sup))"
   ]
  },
  {
   "cell_type": "markdown",
   "metadata": {},
   "source": [
    "### Lokale und globale Variablen in Funktionen\n",
    "\n",
    "Variablennamen sind standardmäßig lokal für die Funktion, in der sie definiert werden."
   ]
  },
  {
   "cell_type": "code",
   "execution_count": 61,
   "metadata": {},
   "outputs": [
    {
     "name": "stdout",
     "output_type": "stream",
     "text": [
      "Python\n"
     ]
    }
   ],
   "source": [
    "def f(): \n",
    "    print(s)\n",
    "    \n",
    "s = \"Python\"\n",
    "f()"
   ]
  },
  {
   "cell_type": "code",
   "execution_count": 40,
   "metadata": {},
   "outputs": [
    {
     "name": "stdout",
     "output_type": "stream",
     "text": [
      "Perl\n",
      "Perl\n",
      "None\n"
     ]
    }
   ],
   "source": [
    "def f(): \n",
    "    s = \"Perl\"\n",
    "    print(s)\n",
    " \n",
    "f()\n",
    "print(f()) #f gibt nichts zurück"
   ]
  },
  {
   "cell_type": "code",
   "execution_count": 63,
   "metadata": {},
   "outputs": [
    {
     "name": "stdout",
     "output_type": "stream",
     "text": [
      "Perl\n",
      "Python\n"
     ]
    }
   ],
   "source": [
    "s = \"Python\"\n",
    "f()\n",
    "print(s)"
   ]
  },
  {
   "cell_type": "code",
   "execution_count": 30,
   "metadata": {},
   "outputs": [
    {
     "ename": "UnboundLocalError",
     "evalue": "local variable 's' referenced before assignment",
     "output_type": "error",
     "traceback": [
      "\u001b[0;31m---------------------------------------------------------------------------\u001b[0m",
      "\u001b[0;31mUnboundLocalError\u001b[0m                         Traceback (most recent call last)",
      "\u001b[0;32m<ipython-input-30-81b2fbbc4d42>\u001b[0m in \u001b[0;36m<module>\u001b[0;34m\u001b[0m\n\u001b[1;32m      6\u001b[0m \u001b[0;34m\u001b[0m\u001b[0m\n\u001b[1;32m      7\u001b[0m \u001b[0ms\u001b[0m \u001b[0;34m=\u001b[0m \u001b[0;34m\"Python\"\u001b[0m\u001b[0;34m\u001b[0m\u001b[0;34m\u001b[0m\u001b[0m\n\u001b[0;32m----> 8\u001b[0;31m \u001b[0mf\u001b[0m\u001b[0;34m(\u001b[0m\u001b[0;34m)\u001b[0m\u001b[0;34m\u001b[0m\u001b[0;34m\u001b[0m\u001b[0m\n\u001b[0m\u001b[1;32m      9\u001b[0m \u001b[0mprint\u001b[0m\u001b[0;34m(\u001b[0m\u001b[0ms\u001b[0m\u001b[0;34m)\u001b[0m\u001b[0;34m\u001b[0m\u001b[0;34m\u001b[0m\u001b[0m\n",
      "\u001b[0;32m<ipython-input-30-81b2fbbc4d42>\u001b[0m in \u001b[0;36mf\u001b[0;34m()\u001b[0m\n\u001b[1;32m      1\u001b[0m \u001b[0;32mdef\u001b[0m \u001b[0mf\u001b[0m\u001b[0;34m(\u001b[0m\u001b[0;34m)\u001b[0m\u001b[0;34m:\u001b[0m\u001b[0;34m\u001b[0m\u001b[0;34m\u001b[0m\u001b[0m\n\u001b[0;32m----> 2\u001b[0;31m     \u001b[0mprint\u001b[0m\u001b[0;34m(\u001b[0m\u001b[0ms\u001b[0m\u001b[0;34m)\u001b[0m\u001b[0;34m\u001b[0m\u001b[0;34m\u001b[0m\u001b[0m\n\u001b[0m\u001b[1;32m      3\u001b[0m     \u001b[0ms\u001b[0m \u001b[0;34m=\u001b[0m \u001b[0;34m\"Perl\"\u001b[0m\u001b[0;34m\u001b[0m\u001b[0;34m\u001b[0m\u001b[0m\n\u001b[1;32m      4\u001b[0m     \u001b[0mprint\u001b[0m\u001b[0;34m(\u001b[0m\u001b[0ms\u001b[0m\u001b[0;34m)\u001b[0m\u001b[0;34m\u001b[0m\u001b[0;34m\u001b[0m\u001b[0m\n\u001b[1;32m      5\u001b[0m \u001b[0;34m\u001b[0m\u001b[0m\n",
      "\u001b[0;31mUnboundLocalError\u001b[0m: local variable 's' referenced before assignment"
     ]
    }
   ],
   "source": [
    "def f(): \n",
    "    print(s) # kennt die Funktion f nicht!!\n",
    "    s = \"Perl\"\n",
    "    print(s)\n",
    "\n",
    "\n",
    "s = \"Python\" \n",
    "f()\n",
    "print(s)"
   ]
  },
  {
   "cell_type": "markdown",
   "metadata": {},
   "source": [
    "Die Fehlermeldung erklärt sich wie folgt:\n",
    "Die Variable s ist in f() mehrdeutig, d.h. beim ersten print in f() könnte das globale s mit dem Wert \"Python\" verwendet werden. Danach definieren wir eine lokale Variable s mit der Zuordnung s = \"Perl\"."
   ]
  },
  {
   "cell_type": "code",
   "execution_count": 31,
   "metadata": {},
   "outputs": [
    {
     "name": "stdout",
     "output_type": "stream",
     "text": [
      "Katze\n",
      "Hund\n",
      "Hund\n"
     ]
    }
   ],
   "source": [
    "def f():\n",
    "    global s\n",
    "    print(s)\n",
    "    s = \"Hund\"\n",
    "    print(s) \n",
    "s = \"Katze\" \n",
    "f()\n",
    "print(s)"
   ]
  },
  {
   "cell_type": "markdown",
   "metadata": {},
   "source": [
    "Wir haben die Variable innerhalb des Skripts global gemacht. Daher wird alles, was wir innerhalb des Funktionskörpers von f mit s tun, mit der globalen Variablen s außerhalb von f gemacht."
   ]
  },
  {
   "cell_type": "markdown",
   "metadata": {},
   "source": [
    "### Beliebige Anzahl von Parametern\n",
    "\n",
    "Es gibt viele Situationen in der Programmierung, in denen die genaue Anzahl der erforderlichen Parameter nicht a priori bestimmt werden kann. In Python kann eine beliebige Parameternummer mit sogenannten Tupelreferenzen erreicht werden. Ein Sternchen \"*\" wird vor dem letzten Parameternamen verwendet, um ihn als Tupelreferenz zu kennzeichnen. Dieses Sternchen sollte nicht mit der C-Syntax verwechselt werden, bei der diese Notation mit Zeigern verbunden ist.\n",
    "Beispiel:"
   ]
  },
  {
   "cell_type": "code",
   "execution_count": 46,
   "metadata": {},
   "outputs": [
    {
     "name": "stdout",
     "output_type": "stream",
     "text": [
      "45\n",
      "32\n",
      "89\n",
      "78\n",
      "Result 61.0 \n",
      "\n",
      "8989.8\n",
      "78787.78\n",
      "3453\n",
      "78778.73\n",
      "Result 42502.3275 \n",
      "\n",
      "45\n",
      "32\n",
      "Result 38.5 \n",
      "\n",
      "45\n",
      "Result 45.0\n",
      "\n",
      "1\n",
      "2\n",
      "3\n",
      "Result 2.0\n"
     ]
    }
   ],
   "source": [
    "def arithmetisches_mittel( *werte): #macht aus den Werten einen Tupel\n",
    "    \"\"\" Diese Funktion berechnet das arithmetische Mittel einer nicht leeren\n",
    "         beliebige Anzahl von Zahlenwerten \"\"\"\n",
    "    for wert in werte:\n",
    "        print(wert)\n",
    "    return ( sum(werte)) / ( len(werte))\n",
    "\n",
    "print(f\"Result {arithmetisches_mittel(45,32,89,78)} \\n\") # das sind 4 einzelne Werte\n",
    "print(f\"Result {arithmetisches_mittel(8989.8,78787.78,3453,78778.73)} \\n\")\n",
    "print(f\"Result {arithmetisches_mittel(45,32)} \\n\")\n",
    "print(f\"Result {arithmetisches_mittel(45)}\\n\")\n",
    "print(f\"Result {arithmetisches_mittel(*my_list)}\")\n",
    "my_list=[1,2,3]\n",
    "print(f\"Result {arithmetisches_mittel(*my_list)}\")\n"
   ]
  },
  {
   "cell_type": "code",
   "execution_count": 56,
   "metadata": {},
   "outputs": [
    {
     "name": "stdout",
     "output_type": "stream",
     "text": [
      "1\n",
      "2\n",
      "3\n",
      "Result 2.0\n",
      "1\n",
      "2\n",
      "3\n",
      "Result 2.0\n"
     ]
    }
   ],
   "source": [
    "def arithmetisches_mittel( *werte):\n",
    "    \"\"\" Diese Funktion berechnet das arithmetische Mittel einer nicht leeren\n",
    "         beliebige Anzahl von Zahlenwerten \"\"\"\n",
    "    for wert in werte:\n",
    "        print(wert)\n",
    "    return ( sum(werte)) / ( len(werte))\n",
    "\n",
    "my_list=[1,2,3]\n",
    "my_tup=(1,2,3)\n",
    "#print(f\"Result {arithmetisches_mittel(my_list)}\")\n",
    "#print(f\"Result {arithmetisches_mittel(my_tup)}\")\n",
    "print(f\"Result {arithmetisches_mittel(*my_list)}\")\n",
    "print(f\"Result {arithmetisches_mittel(*my_tup)}\")"
   ]
  },
  {
   "cell_type": "markdown",
   "metadata": {},
   "source": [
    "### Beliebige Anzahl von Schlüsselwortparametern\n",
    "\n",
    "Im vorherigen Kapitel haben wir gezeigt, wie eine beliebige Anzahl von Positionsparametern an eine Funktion übergeben wird. Es ist auch möglich, eine beliebige Anzahl von Schlüsselwortparametern an eine Funktion als Wörterbuch zu übergeben. Zu diesem Zweck müssen wir das doppelte Sternchen \"**\" verwenden."
   ]
  },
  {
   "cell_type": "code",
   "execution_count": 67,
   "metadata": {},
   "outputs": [],
   "source": [
    "def f(**kwargs):\n",
    "    print(kwargs)"
   ]
  },
  {
   "cell_type": "code",
   "execution_count": 68,
   "metadata": {},
   "outputs": [
    {
     "name": "stdout",
     "output_type": "stream",
     "text": [
      "{}\n"
     ]
    }
   ],
   "source": [
    "f()"
   ]
  },
  {
   "cell_type": "code",
   "execution_count": 69,
   "metadata": {},
   "outputs": [
    {
     "name": "stdout",
     "output_type": "stream",
     "text": [
      "{'de': 'Deutsch', 'en': 'Englisch', 'fr': 'Franzözisch'}\n"
     ]
    }
   ],
   "source": [
    "f(de=\"Deutsch\",en=\"Englisch\",fr=\"Franzözisch\")"
   ]
  },
  {
   "cell_type": "markdown",
   "metadata": {},
   "source": [
    "Ein Anwendungsfall ist der folgende:"
   ]
  },
  {
   "cell_type": "code",
   "execution_count": 70,
   "metadata": {},
   "outputs": [
    {
     "name": "stdout",
     "output_type": "stream",
     "text": [
      "append block extract yes\n"
     ]
    }
   ],
   "source": [
    "def f(a, b, x, y):\n",
    "    print(a, b, x, y)\n",
    "d = {'a':'append', 'b':'block','x':'extract','y':'yes'}\n",
    "f(**d)"
   ]
  },
  {
   "cell_type": "markdown",
   "metadata": {},
   "source": [
    "<b>Im Folgenden nochmals die Zusammenfassung:"
   ]
  },
  {
   "cell_type": "code",
   "execution_count": 9,
   "metadata": {},
   "outputs": [
    {
     "name": "stdout",
     "output_type": "stream",
     "text": [
      "(1, 2, 3, 4) \n",
      "\n",
      "{'a': 3, 'b': 4} \n",
      "\n",
      "(1, 2, 3, 4) \n",
      "****************************************\n",
      "{'b': 3, 'c': 4}\n"
     ]
    }
   ],
   "source": [
    "def foo(*args):\n",
    "    print(args,\"\\n\")\n",
    "def foo_key(**kwargs):\n",
    "    print(kwargs,\"\\n\")\n",
    "def foo_pos_key(*args,**kwargs):\n",
    "    print(args,\"\\n\",end=40*'*'+\"\\n\")\n",
    "    print(kwargs)\n",
    "foo(1,2,3,4)\n",
    "#foo_key(1,2,3,4) #macht Fehler\n",
    "foo_key(a=3,b=4)\n",
    "#foo_pos_key(a=1,3,4) #macht Fehler\n",
    "foo_pos_key(1,2,3,4,b=3,c=4)"
   ]
  },
  {
   "cell_type": "markdown",
   "metadata": {},
   "source": [
    "<b>Entpacken generell:"
   ]
  },
  {
   "cell_type": "code",
   "execution_count": 10,
   "metadata": {},
   "outputs": [
    {
     "name": "stdout",
     "output_type": "stream",
     "text": [
      "['i', 'c', 'h', 'a', 'e']\n"
     ]
    }
   ],
   "source": [
    "name=\"Michael\"\n",
    "first,*second,third=name\n",
    "print(second)"
   ]
  },
  {
   "cell_type": "markdown",
   "metadata": {},
   "source": [
    "### Übungen mit Funktionen\n",
    "\n",
    "#### Übung 1\n",
    "\n",
    "Im Kapitel  [,,Bedingte Anweisungen](python3_bedingte_anweisungen.php) hatten wir ein Beispielprogramm, in dem wir ein Hundealter in Menschenalter mit folgenden Regeln umgerechnet hatten:\n",
    "\n",
    "- Ein einjähriger Hund entspricht in etwa einem 14-jährigen Menschen\n",
    "- Ein Hund der zwei Jahre alt ist, entspricht entwicklungsmäßig einem 22-jährigen Menschen.\n",
    "- Jedes weitere Hundejahr entspricht fünf Menschenjahre. \n",
    "\n",
    "Schreiben Sie nun eine Funktion für diese Umwandlung. \n",
    "\n",
    "#### Übung 2\n",
    "\n",
    "Schreiben Sie eine Funktion, die einen Text aufnimmt und mit einer Caesar-Chiffre verschlüsselt. Dies ist eine der einfachsten und am häufigsten bekannten Verschlüsselungstechniken. Jeder Buchstabe im Text wird durch einen Buchstaben ersetzt, der eine feste Anzahl von Stellen weiter im Alphabet enthält.\n",
    "\n",
    "Was ist mit dem Entschlüsseln des codierten Textes?\n",
    "\n",
    "Die Caesar-Chiffre ist eine Substitutions-Chiffre.\n",
    "\n",
    "<img width=70% src=\"../images/caesar_cipher.webp\" srcset=\"../images/caesar_cipher_800w.webp 800w,../images/caesar_cipher_700w.webp 700w,../images/caesar_cipher_600w.webp 600w,../images/caesar_cipher_500w.webp 500w,../images/caesar_cipher_400w.webp 400w,../images/caesar_cipher_350w.webp 350w,../images/caesar_cipher_300w.webp 300w\" alt=\"caesar cipher\"/>\n",
    "\n",
    "#### Übung 3\n",
    "\n",
    "Wir können eine weitere Substitutions-Chiffre erstellen, indem wir die Neuzuordnung der Buchstaben zufällig aber eindeutig gestalten indem wir das zuzuordnende Alphabet durchmischen.\n",
    "\n",
    "Schreiben Sie eine Funktion, die einen Text und ein Wörterbuch benötigt, um den angegebenen Text mit einem permutierten Alphabet zu entschlüsseln oder zu verschlüsseln.\n",
    "\n",
    "#### Übung 4\n",
    "\n",
    "Schreiben Sie eine Funktion txt2morse, die einen Text in Morsecode übersetzt, d. H. Die Funktion gibt eine Zeichenfolge mit dem Morsecode zurück.\n",
    "\n",
    "Schreiben Sie eine weitere Funktion morse2txt, die eine Zeichenfolge im Morsecode in eine „normale“ Zeichenfolge übersetzt.\n",
    "\n",
    "Die Morsezeichen sind durch Leerzeichen getrennt. Wörter mit drei Leerzeichen.\n",
    "\n",
    "\n"
   ]
  },
  {
   "cell_type": "markdown",
   "metadata": {},
   "source": [
    "#### Übung 5\n",
    "\n",
    "Vielleicht ist der erste Algorithmus, der zur Approximation von $ \\ sqrt {S} $ verwendet wird, als \"babylonische Methode\" bekannt, benannt nach den Babyloniern, oder \"Heron Methode\", benannt nach dem griechischen Mathematiker Heron of Alexandria aus dem ersten Jahrhundert, der den ersten expliziten gab Beschreibung der Methode.\n",
    "\n",
    "Wenn eine Zahl $ x_n $ nahe an der Quadratwurzel von $ a $ liegt, dann  wird  ($ x_n $ + $ a $ / $x_n $) / 2 \n",
    " eine bessere Annäherung sein.\n",
    "\n",
    "Schreiben Sie ein Programm, um die Quadratwurzel einer Zahl nach der babylonischen Methode zu berechnen.\n",
    "\n",
    "#### Übung 6\n",
    "\n",
    "Schreiben Sie eine Funktion, die die Position des n-ten Auftretens von sub berechnet, wenn sub ein substring\n",
    "in einem anderen String s ist.\n",
    "Wenn sub in s nicht vorkommt, wird -1 zurückgegeben."
   ]
  },
  {
   "cell_type": "markdown",
   "metadata": {},
   "source": [
    "### Lösungen\n",
    "\n",
    "#### Lösung zu Übung 1"
   ]
  },
  {
   "cell_type": "code",
   "execution_count": 72,
   "metadata": {},
   "outputs": [
    {
     "name": "stdin",
     "output_type": "stream",
     "text": [
      "Wie alt ist dein Hund?  5\n"
     ]
    },
    {
     "name": "stdout",
     "output_type": "stream",
     "text": [
      "Enspricht 37 Menschenjahren\n"
     ]
    }
   ],
   "source": [
    "def dog_age2human_age(dog_age):\n",
    "    \"\"\"dog_age2human_age(dog_age)\"\"\"\n",
    "    if dog_age == 1:\n",
    "        human_age = 14\n",
    "    elif dog_age == 2:\n",
    "        human_age = 22\n",
    "    else:\n",
    "        human_age =  22 + (dog_age-2)*5\n",
    "    return human_age\n",
    "\n",
    "age = int(input(\"Wie alt ist dein Hund? \"))\n",
    "print(f\"Enspricht {dog_age2human_age(age)} Menschenjahren\")"
   ]
  },
  {
   "cell_type": "markdown",
   "metadata": {},
   "source": [
    "#### Lösung zu Übung 2"
   ]
  },
  {
   "cell_type": "code",
   "execution_count": 47,
   "metadata": {},
   "outputs": [
    {
     "name": "stdout",
     "output_type": "stream",
     "text": [
      "EXIIL, EFBO YFK FZE!\n",
      "HALLO, HIER BIN ICH!\n"
     ]
    }
   ],
   "source": [
    "import string\n",
    "abc = string.ascii_uppercase\n",
    "def caesar(txt, n, coded=False):\n",
    "    \"\"\" Gibt den codierten oder decodierten Text zurück \"\"\"\n",
    "    result = \"\"\n",
    "    for char in txt.upper():\n",
    "        if char not in abc:\n",
    "            result += char\n",
    "        elif coded:\n",
    "            result += abc[(abc.find(char) + n) % len(abc)]\n",
    "        else:\n",
    "            result += abc[(abc.find(char) - n) % len(abc)]\n",
    "    return result\n",
    "\n",
    "n = 3\n",
    "x = caesar(\"Hallo, hier bin ich!\", n)\n",
    "print(x)\n",
    "print(caesar(x, n, True))"
   ]
  },
  {
   "cell_type": "markdown",
   "metadata": {},
   "source": [
    "In der vorherigen Lösung ersetzen wir nur die Buchstaben. Jedes Sonderzeichen bleibt unberührt. Die folgende Lösung fügt einige Sonderzeichen hinzu, die ebenfalls permutiert werden. Spezielle Zeichen, die nicht in abc enthalten sind, gehen bei dieser Lösung verloren!"
   ]
  },
  {
   "cell_type": "code",
   "execution_count": 59,
   "metadata": {},
   "outputs": [
    {
     "name": "stdout",
     "output_type": "stream",
     "text": [
      "AZEEHVTAB-KT BGTB.AY\n",
      "HALLO, HIER BIN ICH!\n"
     ]
    }
   ],
   "source": [
    "import string\n",
    "abc = string.ascii_uppercase + \" .,-?!\"\n",
    "def caesar(txt, n, coded=False):\n",
    "    \"\"\" Gibt den codierten oder decodierten Text zurück \"\"\"\n",
    "    result = \"\"\n",
    "    for char in txt.upper():\n",
    "        if char in abc:\n",
    "            if coded:\n",
    "                result += abc[(abc.find(char) + n) % len(abc)]\n",
    "\n",
    "            else:\n",
    "                result += abc[(abc.find(char) - n) % len(abc)]\n",
    "\n",
    "                \n",
    "    return result\n",
    "\n",
    "n = 7\n",
    "x = caesar(\"Hallo, hier bin ich!;:;;:;\", n)\n",
    "print(x)\n",
    "print(caesar(x, n, True))"
   ]
  },
  {
   "cell_type": "markdown",
   "metadata": {},
   "source": [
    "#### Lösung zu Übung 3\n"
   ]
  },
  {
   "cell_type": "code",
   "execution_count": 75,
   "metadata": {},
   "outputs": [
    {
     "name": "stdout",
     "output_type": "stream",
     "text": [
      "XObLNOvvc eqB diB ZqBedBcd \n",
      "diqBed Ob diB IP dj Ejdi EevL \n",
      "ebL ZjvLBb BeZvBc. zBLOe oveONc \n",
      "VOodOjbev ‘ZvjEev neqNObZ’ Oc njqcB.\n",
      "\n",
      "Windmills are the greatest \n",
      "threat in the US to both bald \n",
      "and golden eagles. Media claims \n",
      "fictional ‘global warming’ is worse.\n"
     ]
    }
   ],
   "source": [
    "import string\n",
    "from random import sample # sample(para1,para2) macht eine Zufallsziehung aus para1 mit Länge para2 ohne Wiederholungen!\n",
    "\n",
    "alphabet = string.ascii_letters\n",
    "permutated_alphabet = sample(alphabet, len(alphabet))\n",
    "\n",
    "encrypt_dict = dict(zip(alphabet, permutated_alphabet))\n",
    "decrypt_dict = dict(zip(permutated_alphabet, alphabet))\n",
    "\n",
    "def encrypt(text, edict):\n",
    "    \"\"\" Every character of the text 'text'\n",
    "    is mapped to the value of edict. Characters\n",
    "    which are not keys of edict will not change\"\"\"\n",
    "    res = \"\"\n",
    "    for char in text:\n",
    "        res = res + edict.get(char, char)\n",
    "    return res\n",
    "\n",
    "# Donald Trump: 5:19 PM, September 9 2014\n",
    "txt = \"\"\"Windmills are the greatest \n",
    "threat in the US to both bald \n",
    "and golden eagles. Media claims \n",
    "fictional ‘global warming’ is worse.\"\"\"\n",
    "\n",
    "ctext = encrypt(txt, encrypt_dict)\n",
    "print(ctext + \"\\n\")\n",
    "print(encrypt(ctext, decrypt_dict))"
   ]
  },
  {
   "cell_type": "markdown",
   "metadata": {},
   "source": [
    "#### Lösung zu Übung 4"
   ]
  },
  {
   "cell_type": "code",
   "execution_count": 60,
   "metadata": {},
   "outputs": [
    {
     "name": "stdout",
     "output_type": "stream",
     "text": [
      "{'.-': 'A', '-...': 'B', '-.-.': 'C', '-..': 'D', '.': 'E', '..-.': 'F', '--.': 'G', '....': 'H', '..': 'I', '.---': 'J', '-.-': 'K', '.-..': 'L', '--': 'M', '-.': 'N', '---': 'O', '.--.': 'P', '--.-': 'Q', '.-.': 'R', '...': 'S', '-': 'T', '..-': 'U', '...-': 'V', '.--': 'W', '-..-': 'X', '-.--': 'Y', '--..': 'Z', '.----': '1', '...--': '3', '....-': '4', '.....': '5', '-....': '6', '--...': '7', '---..': '8', '----.': '9', '-----': '0', '--..--': ',', '.-.-.-': '.', '..--..': '?', '-.-.-': ';', '---...': ':', '-..-.': '/', '-....-': '-', '.----.': \"'\", '-.--.-': '}', '..--.-': '_'}\n"
     ]
    }
   ],
   "source": [
    "latin2morse_dict = {'A':'.-', 'B':'-...', 'C':'-.-.', 'D':'-..', \n",
    "                    'E':'.', 'F':'..-.', 'G':'--.','H':'....', \n",
    "                    'I':'..', 'J':'.---', 'K':'-.-', 'L':'.-..', \n",
    "                    'M':'--', 'N':'-.', 'O':'---', 'P':'.--.', \n",
    "                    'Q':'--.-', 'R':'.-.', 'S':'...', 'T':'-', \n",
    "                    'U':'..-', 'V':'...-', 'W':'.--', 'X':'-..-', \n",
    "                    'Y':'-.--', 'Z':'--..', '1':'.----', '2':'...--', \n",
    "                    '3':'...--', '4':'....-', '5':'.....', '6':'-....', \n",
    "                    '7':'--...', '8':'---..', '9':'----.', '0':'-----', \n",
    "                    ',':'--..--', '.':'.-.-.-', '?':'..--..', ';':'-.-.-', \n",
    "                    ':':'---...', '/':'-..-.', '-':'-....-', '\\'':'.----.', \n",
    "                    '(':'-.--.-', ')':'-.--.-', '[':'-.--.-', ']':'-.--.-', \n",
    "                    '{':'-.--.-', '}':'-.--.-', '_':'..--.-'}\n",
    "\n",
    "# reversing the dictionary:\n",
    "morse2latin_dict = dict(zip(latin2morse_dict.values(),\n",
    "                            latin2morse_dict.keys()))\n",
    "\n",
    "print(morse2latin_dict)"
   ]
  },
  {
   "cell_type": "code",
   "execution_count": 77,
   "metadata": {},
   "outputs": [
    {
     "name": "stdout",
     "output_type": "stream",
     "text": [
      "... ---    .-- .- ... ..--.. \n",
      "SO WAS? \n"
     ]
    }
   ],
   "source": [
    "def txt2morse(txt, alphabet):\n",
    "    morse_code = \"\"\n",
    "    for char in txt.upper():\n",
    "        if char == \" \":\n",
    "            morse_code += \"   \"\n",
    "        else:\n",
    "            morse_code += alphabet[char] + \" \"\n",
    "    return morse_code\n",
    "\n",
    "def morse2txt(txt, alphabet):\n",
    "    res = \"\"\n",
    "    mwords = txt.split(\"   \")\n",
    "    for mword in mwords:\n",
    "        for mchar in mword.split():\n",
    "            res += alphabet[mchar]\n",
    "        res += \" \"\n",
    "    return res\n",
    "\n",
    "mstring = txt2morse(\"So was?\", latin2morse_dict)\n",
    "print(mstring)\n",
    "print(morse2txt(mstring, morse2latin_dict))"
   ]
  },
  {
   "cell_type": "markdown",
   "metadata": {},
   "source": [
    "#### Lösung zu Übung 5"
   ]
  },
  {
   "cell_type": "code",
   "execution_count": 78,
   "metadata": {},
   "outputs": [
    {
     "name": "stdout",
     "output_type": "stream",
     "text": [
      "1.414213562373095\n",
      "1.4142135623746899\n"
     ]
    }
   ],
   "source": [
    "def heron(a, eps=0.000000001):\n",
    "    \"\"\" Approximate the square root of a\"\"\"\n",
    "    previous = 0\n",
    "    new = 1\n",
    "    while abs(new - previous) > eps:\n",
    "        previous = new\n",
    "        new = (previous + a/previous) / 2\n",
    "    return new\n",
    "\n",
    "print(heron(2))\n",
    "print(heron(2, 0.001))"
   ]
  },
  {
   "cell_type": "markdown",
   "metadata": {},
   "source": [
    "#### Lösung zu Übung 6\n",
    "    "
   ]
  },
  {
   "cell_type": "code",
   "execution_count": 62,
   "metadata": {},
   "outputs": [
    {
     "name": "stdout",
     "output_type": "stream",
     "text": [
      "8\n"
     ]
    }
   ],
   "source": [
    "def findnth(s, sub, n):\n",
    "    num = 0\n",
    "    start = -1\n",
    "    while num < n:\n",
    "        start = s.find(sub, start+1)\n",
    "        if start == -1: \n",
    "            break\n",
    "        num += 1\n",
    "    \n",
    "    return start\n",
    "\n",
    "s = \"abc xyz abc jkjkjk abc lkjkjlkj abc jlj\"\n",
    "print(findnth(s,\"abc\", 2))"
   ]
  }
 ],
 "metadata": {
  "kernelspec": {
   "display_name": "Python 3",
   "language": "python",
   "name": "python3"
  },
  "language_info": {
   "codemirror_mode": {
    "name": "ipython",
    "version": 3
   },
   "file_extension": ".py",
   "mimetype": "text/x-python",
   "name": "python",
   "nbconvert_exporter": "python",
   "pygments_lexer": "ipython3",
   "version": "3.8.8"
  }
 },
 "nbformat": 4,
 "nbformat_minor": 4
}
