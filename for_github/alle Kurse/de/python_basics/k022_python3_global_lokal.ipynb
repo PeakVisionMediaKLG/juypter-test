{
 "cells": [
  {
   "cell_type": "markdown",
   "metadata": {},
   "source": [
    "## Globale und Lokale Variablen\n",
    "\n",
    "<img class=\"imgright\" src=\"../images/earth_moon.webp\" alt=\"Earth and moon, signifying global and local\" />\n",
    "\n",
    "Python behandelt globale und lokale Variablen in einer eigenwilligen Art. Während in vielen anderen Programmiersprachen Variablen automatisch global sind, wenn man sie nicht explizit als lokal deklariert, ist dies in Python genau anders herum. Die zugrundeliegende Idee besteht darin, dass die Benutzung von globalen Variabeln generell als schlechter Programmierstil betrachtet wird, weil dadurch viele Fehler und Seiteneffekte auftreten können. In den meisten Fällen, in denen man versucht ist, eine globale Variable zu verwenden, kann man den gewünschten Effekt besser mittels eines Funktionsparameters realisieren oder durch die Rückgabe eines Wertes mittels eines return-Wertes. Wie auch in vielen anderen Fällen, wird hier durch das Design von Python ein guter Programmierstil gewissermaßen erzwungen.\n",
    "\n",
    "Das bedeutet, dass jede Variable, die man innerhalb einer Funktion definiert, automatisch einen lokalen Gültigkeitsbereich hat. Das bedeutet, dass was immer man mit dieser Variable innerhalb der Funktion macht, keinen Einfluss auf andere Variablen außerhalb der Funktion hat, auch wenn diese den gleichen Namen haben. Der Funktionsrumpf ist also der Gültigkeitsbereich einer solchen Variablen.\n",
    "\n",
    "Um keine Missverständnisse aufkommen zu lassen: Variablen müssen nicht deklariert werden, wie dies in anderen Sprachen wie C und Java üblich ist. Variablen werden in Python implizit deklariert, wenn man sie definiert, d.h. ihnen einen Wert zuweist. Eine Variable erhält automatisch den richtigen Datentyp. Bei Problemen mit dieser Thematik empfehlen wir unser Kapitel über \"Datentypen und Variablen\", siehe Links auf der linken Seite.\n",
    "\n",
    "### Globale und lokale Variablen in Funktionen in Beispielen\n",
    "\n",
    "Im folgenden Beispiel zeigen wir, wie globale Variablen innerhalb des Funktionsrumpfes benutzt werden können. Allerdings nur \"lesend\", also ohne den Wert zu ändern:\n",
    "\n"
   ]
  },
  {
   "cell_type": "code",
   "execution_count": 4,
   "metadata": {},
   "outputs": [
    {
     "name": "stdout",
     "output_type": "stream",
     "text": [
      "I love Paris in the summer!\n"
     ]
    }
   ],
   "source": [
    "def f(): \n",
    "    print(s) \n",
    "s = \"I love Paris in the summer!\"\n",
    "f()"
   ]
  },
  {
   "cell_type": "markdown",
   "metadata": {},
   "source": [
    "Die Variable s wird definiert, in dem ihr die Zeichenkette \"I love Paris in the summer!\" zugeordnet wird. Diese Definition erfolgt vor dem Funktionsaufruf f(). Der Funktionsrumpf von f() besteht nur aus der \"print(s)\"-Anweisung. Weil es keine lokale Variable s gibt, d.h. keine Zuweisung an s innerhalb des Funktionsrumpfes von f, wird der Wert der globalen Variablen s benutzt. Dieser Wert kann natürlich nicht verändert werden, wie wir weiter unten in diesem Kapitel sehen werden.\n",
    "Es wird also der String \"I love Paris in the summer!\" ausgegeben.\n",
    "\n",
    "Es stellt sich aber die Frage, was passiert, wenn wir den Wert von s innerhalb der Funktion von f() verändern. Wird dies eine Auswirkung auf die globale Variable s haben? Wir testen dies im folgenden kleinen Skript:"
   ]
  },
  {
   "cell_type": "code",
   "execution_count": 7,
   "metadata": {},
   "outputs": [
    {
     "name": "stdout",
     "output_type": "stream",
     "text": [
      "I love London!\n",
      "I love Paris!\n"
     ]
    }
   ],
   "source": [
    "def f(): \n",
    "    s = \"I love London!\"\n",
    "    print(s) #nach bearbeiten von f ist die lokale Variable s nicht mehr existent\n",
    "\n",
    "s = \"I love Paris!\" \n",
    "f()\n",
    "print(s)"
   ]
  },
  {
   "cell_type": "markdown",
   "metadata": {},
   "source": [
    "Wie sieht es aber aus, wenn wir das erste Beispiel mit dem zweiten Beispiel kombinieren, d.h. wir also zuerst auf s mittels print zugreifen, in der Hoffnung den globalen Wert zu erhalten, und dann s einen neuen Wert zuweisen? Indem wir s einen Wert zuweisen können, machen wir s zu einer lokalen Variable. Dadurch gäbe es s innerhalb des Funktionsrumpfes sowohl als globale als auch als lokale Variable. <b> Python lässt erfreulicherweise diese Mehrdeutigkeit nicht zu und es kommt zu einer Fehlermeldung, wie wir im folgenden Beispiel sehen können:"
   ]
  },
  {
   "cell_type": "code",
   "execution_count": 1,
   "metadata": {},
   "outputs": [
    {
     "ename": "UnboundLocalError",
     "evalue": "local variable 's' referenced before assignment",
     "output_type": "error",
     "traceback": [
      "\u001b[1;31m---------------------------------------------------------------------------\u001b[0m",
      "\u001b[1;31mUnboundLocalError\u001b[0m                         Traceback (most recent call last)",
      "\u001b[1;32m<ipython-input-1-d7a23bc83c27>\u001b[0m in \u001b[0;36m<module>\u001b[1;34m\u001b[0m\n\u001b[0;32m      5\u001b[0m \u001b[1;33m\u001b[0m\u001b[0m\n\u001b[0;32m      6\u001b[0m \u001b[0ms\u001b[0m \u001b[1;33m=\u001b[0m \u001b[1;34m\"I love Paris!\"\u001b[0m\u001b[1;33m\u001b[0m\u001b[1;33m\u001b[0m\u001b[0m\n\u001b[1;32m----> 7\u001b[1;33m \u001b[0mf\u001b[0m\u001b[1;33m(\u001b[0m\u001b[1;33m)\u001b[0m\u001b[1;33m\u001b[0m\u001b[1;33m\u001b[0m\u001b[0m\n\u001b[0m",
      "\u001b[1;32m<ipython-input-1-d7a23bc83c27>\u001b[0m in \u001b[0;36mf\u001b[1;34m()\u001b[0m\n\u001b[0;32m      1\u001b[0m \u001b[1;32mdef\u001b[0m \u001b[0mf\u001b[0m\u001b[1;33m(\u001b[0m\u001b[1;33m)\u001b[0m\u001b[1;33m:\u001b[0m\u001b[1;33m\u001b[0m\u001b[1;33m\u001b[0m\u001b[0m\n\u001b[1;32m----> 2\u001b[1;33m    \u001b[0mprint\u001b[0m\u001b[1;33m(\u001b[0m\u001b[0ms\u001b[0m\u001b[1;33m)\u001b[0m\u001b[1;33m\u001b[0m\u001b[1;33m\u001b[0m\u001b[0m\n\u001b[0m\u001b[0;32m      3\u001b[0m    \u001b[0ms\u001b[0m \u001b[1;33m=\u001b[0m \u001b[1;34m\"I love London!\"\u001b[0m\u001b[1;33m\u001b[0m\u001b[1;33m\u001b[0m\u001b[0m\n\u001b[0;32m      4\u001b[0m    \u001b[0mprint\u001b[0m\u001b[1;33m(\u001b[0m\u001b[0ms\u001b[0m\u001b[1;33m)\u001b[0m\u001b[1;33m\u001b[0m\u001b[1;33m\u001b[0m\u001b[0m\n\u001b[0;32m      5\u001b[0m \u001b[1;33m\u001b[0m\u001b[0m\n",
      "\u001b[1;31mUnboundLocalError\u001b[0m: local variable 's' referenced before assignment"
     ]
    }
   ],
   "source": [
    "def f(): \n",
    "   print(s)\n",
    "   s = \"I love London!\"\n",
    "   print(s)\n",
    " \n",
    "s = \"I love Paris!\"\n",
    "f()"
   ]
  },
  {
   "cell_type": "markdown",
   "metadata": {},
   "source": [
    "Eine Variable kann nicht sowohl lokal als auch global innerhalb des gleichen Blocks, hier der Funktionsrumpf, sein. Deswegen betrachtete Python s als eine lokale Variable innerhalb des Rumpfes. Da nun auf diese lokale Variable zugegriffen wird, bevor sie definiert worden ist, sie also noch keinen Wert erhalten hat, erfolgt die Fehlermeldung.\n",
    "\n",
    "Man kann jedoch auf globale Variablen \"schreibend\" innerhalb einer Funktion zugreifen. Dazu muss man sie jedoch explizit mittels des Schlüsselwortes \"global\" als global deklarieren. Wir können dies im folgenden Beispiel sehen:"
   ]
  },
  {
   "cell_type": "code",
   "execution_count": 1,
   "metadata": {},
   "outputs": [
    {
     "name": "stdout",
     "output_type": "stream",
     "text": [
      "Gibt es einen Kurs in Paris?\n",
      "Zur Zeit nicht, aber Berlin ist auch toll!\n",
      "Zur Zeit nicht, aber Berlin ist auch toll!\n"
     ]
    }
   ],
   "source": [
    "def f():\n",
    "    global s #alle Verwendungen von s in der Funktion beziehen sich jetzt auf das globale s\n",
    "    print(s)\n",
    "    s = \"Zur Zeit nicht, aber Berlin ist auch toll!\"\n",
    "    print(s)\n",
    "\n",
    "\n",
    "s = \"Gibt es einen Kurs in Paris?\" \n",
    "f()\n",
    "print(s)"
   ]
  },
  {
   "cell_type": "markdown",
   "metadata": {},
   "source": [
    "Damit haben wir die Mehrdeutigkeit beseitigt. \n",
    "\n",
    "Auf lokale Variablen einer Funktion kann von außen nicht zugegriffen werden:"
   ]
  },
  {
   "cell_type": "code",
   "execution_count": 2,
   "metadata": {},
   "outputs": [
    {
     "name": "stdout",
     "output_type": "stream",
     "text": [
      "I am globally not known\n",
      "Zur Zeit nicht, aber Berlin ist auch toll!\n"
     ]
    }
   ],
   "source": [
    "def f():\n",
    "    s = \"I am globally not known\"\n",
    "    print(s) \n",
    "\n",
    "f()\n",
    "print(s)"
   ]
  },
  {
   "cell_type": "markdown",
   "metadata": {},
   "source": [
    "Das folgende Beispiel zeigt eine wilde Kombination von lokalen und globalen Variablen und Funktionsparametern, um die obigen Sachverhalte nochmals per Beispiel zu vertiefen.<b>Als Übung versuchen Sie die Ausgabe auf Papier vor dem Ablauf des Programmes selber zu bestimmen. Verfolgen Sie a,b,x,y sowie x und y in der Funktion."
   ]
  },
  {
   "cell_type": "code",
   "execution_count": 5,
   "metadata": {},
   "outputs": [],
   "source": [
    "def foo(x, y):\n",
    "    global a\n",
    "    a = 42\n",
    "    x,y = y,x\n",
    "    b = 33\n",
    "    b = 17\n",
    "    c = 100\n",
    "    print(a,b,x,y) \n",
    "\n",
    "#a,b,x,y = 1,15,3,4\n",
    "#foo(17,4)\n",
    "#print(a,b,x,y)"
   ]
  },
  {
   "cell_type": "markdown",
   "metadata": {},
   "source": [
    "### Globale Variablen in verschachtelten Funktionen\n",
    "Wir werden jetzt untersuchen, was passieren wird, wenn wir das globale Schlüsselwort in verschachtelten Funktionen verwenden. Das folgende Beispiel zeigt eine Situation, in der eine Variable 'Stadt' in verschiedenen Bereichen verwendet wird:"
   ]
  },
  {
   "cell_type": "code",
   "execution_count": 9,
   "metadata": {},
   "outputs": [
    {
     "name": "stdout",
     "output_type": "stream",
     "text": [
      "Vor dem Aufruf von g:Hamburg\n",
      "Jetzt anrufen g:\n",
      "Nach dem Aufruf von g:Hamburg\n",
      "Wert der Stadt in der Hauptsache:Genf\n"
     ]
    }
   ],
   "source": [
    "def f ():\n",
    "     Stadt = \"Hamburg\"\n",
    "     def g ():\n",
    "         global Stadt #global bezieht sich auf die höchste Ebene , dort wird jetzt Stadt mit \"Genf\" angelegt\n",
    "         Stadt = \"Genf\"\n",
    "        \n",
    "     print (\"Vor dem Aufruf von g:\" + Stadt)#die Stadt von f\n",
    "     print (\"Jetzt anrufen g:\")\n",
    "     g()\n",
    "     print (\"Nach dem Aufruf von g:\" + Stadt)#die unveränderte Stadt von f\n",
    "    \n",
    "f ()\n",
    "print (\"Wert der Stadt in der Hauptebene:\" + Stadt)# die Stadt in der Hauptebene"
   ]
  },
  {
   "cell_type": "markdown",
   "metadata": {},
   "source": [
    "Wir können sehen, dass die globale Anweisung innerhalb der verschachtelten Funktion g die Variable 'Stadt' der Funktion f nicht beeinflusst, d. H. Ihren Wert 'Hamburg' behält. \n",
    "\n",
    "### nichtlokale Variablen\n",
    "\n",
    "Python3 führte nichtlokale Variablen als neue Art von Variablen ein. Nichtlokale Variablen haben viel mit globalen Variablen gemeinsam. Ein Unterschied zu globalen Variablen besteht in der Tatsache, dass es nicht möglich ist, Variablen aus dem Modulbereich, d. H. Variablen, die nicht innerhalb einer Funktion definiert sind, mithilfe der nichtlokalen Anweisung zu ändern. Wir zeigen dies in den beiden folgenden Beispielen:"
   ]
  },
  {
   "cell_type": "markdown",
   "metadata": {},
   "source": [
    "Mit nonlocal wird hingegen die Variable in der umschliessenden Funktion und nicht auf der Hauptebene bearbeitet. Es muss natürlich eine umschliessende Funktion geben!! Sonst gibt es einen Fehler. Wenn die Variable nicht im umschließenden Funktionsbereich definiert ist, kann die Variable nicht im verschachtelten Bereich definiert werden. Dies ist ein  Unterschied zur \"globalen\" Semantik."
   ]
  },
  {
   "cell_type": "code",
   "execution_count": 1,
   "metadata": {},
   "outputs": [
    {
     "name": "stdout",
     "output_type": "stream",
     "text": [
      "Vor dem Aufruf von g:München\n",
      "Jetzt anrufen g:\n",
      "Nach dem Aufruf von g:Zürich\n",
      "'Stadt' in der Hauptsache:Stuttgart\n"
     ]
    }
   ],
   "source": [
    "def f ():\n",
    "     Stadt = \"München\"\n",
    "     def g ():\n",
    "         nonlocal Stadt\n",
    "         Stadt = \"Zürich\"\n",
    "        \n",
    "     print (\"Vor dem Aufruf von g:\" + Stadt)\n",
    "     print (\"Jetzt anrufen g:\")\n",
    "     g()\n",
    "     print (\"Nach dem Aufruf von g:\" + Stadt)\n",
    "    \n",
    "Stadt = \"Stuttgart\"\n",
    "f ()\n",
    "print (\"'Stadt' in der Hauptsache:\" + Stadt)"
   ]
  },
  {
   "cell_type": "markdown",
   "metadata": {},
   "source": [
    "Im vorherigen Beispiel wurde die Variable 'Stadt' vor dem Aufruf von g definiert. Wir erhalten einen Fehler, wenn er nicht definiert ist:"
   ]
  },
  {
   "cell_type": "code",
   "execution_count": 2,
   "metadata": {},
   "outputs": [
    {
     "ename": "SyntaxError",
     "evalue": "no binding for nonlocal 'Stadt' found (<ipython-input-2-3bc614899b62>, line 4)",
     "output_type": "error",
     "traceback": [
      "\u001b[1;36m  File \u001b[1;32m\"<ipython-input-2-3bc614899b62>\"\u001b[1;36m, line \u001b[1;32m4\u001b[0m\n\u001b[1;33m    nonlocal Stadt\u001b[0m\n\u001b[1;37m    ^\u001b[0m\n\u001b[1;31mSyntaxError\u001b[0m\u001b[1;31m:\u001b[0m no binding for nonlocal 'Stadt' found\n"
     ]
    }
   ],
   "source": [
    "def f ():\n",
    "     #Stadt = \"München\"\n",
    "     def g ():\n",
    "         nonlocal Stadt\n",
    "         Stadt = \"Zürich\"\n",
    "     print (\"Vor dem Aufruf von g:\" + Stadt)\n",
    "     print (\"Jetzt anrufen g:\")\n",
    "     g()\n",
    "     print (\"Nach dem Aufruf von g:\" + Stadt)\n",
    "    \n",
    "Stadt = \"Stuttgart\"\n",
    "f ()\n",
    "print (\"'Stadt' in der Hauptsache:\" + Stadt)"
   ]
  },
  {
   "cell_type": "markdown",
   "metadata": {},
   "source": [
    "Das Programm funktioniert einwandfrei - mit oder ohne die Zeile 'Stadt = \"München\"' innerhalb von f -, wenn wir \"nonlocal\" in \"global\" ändern:"
   ]
  },
  {
   "cell_type": "code",
   "execution_count": 3,
   "metadata": {},
   "outputs": [
    {
     "name": "stdout",
     "output_type": "stream",
     "text": [
      "Vor dem Aufruf von g:Stuttgart\n",
      "Jetzt anrufen g:\n",
      "Nach dem Aufruf von g:Zürich\n",
      "'Stadt' in der Hauptsache:Zürich\n"
     ]
    }
   ],
   "source": [
    "def f ():\n",
    "     #Stadt = \"München\"\n",
    "     def g ():\n",
    "         global Stadt\n",
    "         Stadt = \"Zürich\"\n",
    "     print (\"Vor dem Aufruf von g:\" + Stadt)\n",
    "     print (\"Jetzt anrufen g:\")\n",
    "     g()\n",
    "     print (\"Nach dem Aufruf von g:\" + Stadt)\n",
    "    \n",
    "Stadt = \"Stuttgart\"\n",
    "f ()\n",
    "print (\"'Stadt' in der Hauptsache:\" + Stadt)"
   ]
  },
  {
   "cell_type": "markdown",
   "metadata": {},
   "source": [
    "Es gibt jedoch einen großen Unterschied: Der Wert des globalen x wird jetzt geändert!"
   ]
  }
 ],
 "metadata": {
  "kernelspec": {
   "display_name": "Python 3",
   "language": "python",
   "name": "python3"
  },
  "language_info": {
   "codemirror_mode": {
    "name": "ipython",
    "version": 3
   },
   "file_extension": ".py",
   "mimetype": "text/x-python",
   "name": "python",
   "nbconvert_exporter": "python",
   "pygments_lexer": "ipython3",
   "version": "3.8.8"
  }
 },
 "nbformat": 4,
 "nbformat_minor": 2
}
