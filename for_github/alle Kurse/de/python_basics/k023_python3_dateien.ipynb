{
 "cells": [
  {
   "cell_type": "markdown",
   "metadata": {},
   "source": [
    "## Dateien lesen und schreiben\n",
    "### Dateien\n",
    "\n",
    "<img class=\"imgright\" src=\"../images/dateien2.webp\" alt=\"Dateien\" /> \n",
    "\n",
    "Man findet wohl kaum jemanden im 21. Jahrhundert, der nicht wüsste, was eine Datei ist. Auch wenn nicht jeder eine exakte Definition geben könnte, also beispielsweise: Eine Datei ist eine Menge von logisch zusammenhängenden und meist sequentiell geordneten Daten, die auf einem Speichermedium dauerhaft gespeichert werden und mittels eines Bezeichners bzw. Namens wieder identifizierbar und damit ansprechbar sind. Die Daten einer Datei existieren also über die Laufzeit eines Programms hinaus. Deswegen werden sie auch als nicht flüchtig oder persistent bezeichnet.\n",
    "\n",
    "Auch wenn es so scheinen mag: Das Wort Datei ist kein altes deutsches Wort. Es ist eine künstliche Schöpfung des Deutschen Institutes für Normung (DIN). Die beiden Wörter Daten und Kartei wurden zu dem neuen Wort Datei verschmolzen. Ein solches Kunstwort wird übrigens als Portmanteau oder Kofferwort bezeichnet.\n",
    "\n",
    "Der Inhalt jeder Datei besteht grundsätzlich aus einer eindimensionalen Aneinanderreihung von Bits, die normalerweise in Byte-Blöcken zusammengefasst interpretiert werden. Die Bytes erhalten erst durch Anwendungsprogramme und das Betriebssystem eine Bedeutung. Sie entscheiden also, ob es sich um eine Textdatei, ein ausführbares Programm oder beispielsweise ein Musikstück oder ein Bild handelt.\n",
    "\n",
    "### Text aus einer Datei lesen\n",
    "\n",
    "Unser erstes Beispiel zeigt, wie man Daten aus einer Datei ausliest. Um dies tun zu können, muss man zuerst die Datei zum Lesen öffnen. Dazu benötigt man die open()-Funktion. Mit der open-Funktion erzeugt man ein Dateiobjekt und liefert eine Referenz auf dieses Objekt als Ergebniswert zurück. Die open-Funktion erwartet zwei Parameter: Einen Dateinamen, gegebenenfalls mit einem Pfad, und optional kann man den Modus angeben:\n",
    "\n",
    "<pre>\n",
    "open(filename,mode)\n",
    "</pre>\n",
    "Im folgenden Beispiel öffnen wir die Datei \"yellow_snow.txt\" zum Lesen, da der Modus auf \"r\" (read) gesetzt ist:\n",
    "\n",
    "<pre>\n",
    "fobj = open(\"yellow_snow.txt\", \"r\")\n",
    "</pre>\n",
    "\n",
    "Alternativ hätte man die obige Anweisung auch ohne die Angabe des \"r\" schreiben können. Fehlt der Modus, wird automatisch lesen zum Defaultwert:\n",
    "\n",
    "<pre>\n",
    "fobj = open(\"yellow_snow.txt\")\n",
    "</pre>\n",
    "Nach der Bearbeitung einer Datei, muss diese wieder schlossen werden. Dies geschieht mit der Methode close:\n",
    "\n",
    "<pre>\n",
    "fobj.close()\n",
    "</pre>"
   ]
  },
  {
   "cell_type": "markdown",
   "metadata": {},
   "source": [
    "Sehr häufig bearbeitet man eine Datei zeilenweise, d.h. man liest eine Datei Zeile für Zeile. Das folgende Programmstück demonstriert, wie man eine Datei zeilenweise einliest. Jede Zeile wird dann mit print ausgegeben. Die String-Methode rstrip() entfernt vor der Ausgabe etwaige Leerzeichen und Newlines vom rechten Rand:"
   ]
  },
  {
   "cell_type": "code",
   "execution_count": 2,
   "metadata": {},
   "outputs": [
    {
     "name": "stdout",
     "output_type": "stream",
     "text": [
      "Dreamed I was an Eskimo\n",
      "Frozen wind began to blow\n",
      "Under my boots and around my toes\n",
      "The frost that bit the ground below\n",
      "It was a hundred degrees below zero...\n",
      "\n",
      "And my mama cried\n",
      "And my mama cried\n",
      "Nanook, a-no-no\n",
      "Nanook, a-no-no\n",
      "Don't be a naughty Eskimo\n",
      "Save your money, don't go to the show\n",
      "\n",
      "Well I turned around and I said \"Oh, oh\" Oh\n",
      "Well I turned around and I said \"Oh, oh\" Oh\n",
      "Well I turned around and I said \"Ho, Ho\"\n",
      "And the northern lights commenced to glow\n",
      "And she said, with a tear in her eye\n",
      "\"Watch out where the huskies go, and don't you eat that yellow snow\"\n",
      "\"Watch out where the huskies go, and don't you eat that yellow snow\"\n"
     ]
    }
   ],
   "source": [
    "fobj = open(\"../../texts/yellow_snow.txt\")\n",
    "for line in fobj:\n",
    "    print(line.rstrip()) #print macht von selber jede line in neue Zeile\n",
    "fobj.close()"
   ]
  },
  {
   "cell_type": "markdown",
   "metadata": {},
   "source": [
    "### Schreiben in eine Datei\n",
    "\n",
    "Schreiben in eine Datei lässt sich analog bewerkstelligen. Beim Öffnen der Datei benutzt man lediglich \"w\" statt \"r\" als Modus. Zum Schreiben der Daten in die Datei benutzt man die Methode write des Dateiobjektes.\n",
    "Beispiel:"
   ]
  },
  {
   "cell_type": "code",
   "execution_count": 14,
   "metadata": {},
   "outputs": [
    {
     "name": "stdout",
     "output_type": "stream",
     "text": [
      "Dreamed I was an Eskimo\n",
      "Frozen wind began to blow\n",
      "Under my boots and around my toes\n",
      "The frost that bit the ground below\n",
      "It was a hundred degrees below zero...\n",
      "\n",
      "And my mama cried\n",
      "And my mama cried\n",
      "Nanook, a-no-no\n",
      "Nanook, a-no-no\n",
      "Don't be a naughty Eskimo\n",
      "Save your money, don't go to the show\n",
      "\n",
      "Well I turned around and I said \"Oh, oh\" Oh\n",
      "Well I turned around and I said \"Oh, oh\" Oh\n",
      "Well I turned around and I said \"Ho, Ho\"\n",
      "And the northern lights commenced to glow\n",
      "And she said, with a tear in her eye\n",
      "\"Watch out where the huskies go, and don't you eat that yellow snow\"\n",
      "\"Watch out where the huskies go, and don't you eat that yellow snow\"\n",
      "****************************************************************************************************\n",
      "1: Dreamed I was an Eskimo\n",
      "2: Frozen wind began to blow\n",
      "3: Under my boots and around my toes\n",
      "4: The frost that bit the ground below\n",
      "5: It was a hundred degrees below zero...\n",
      "6:\n",
      "7: And my mama cried\n",
      "8: And my mama cried\n",
      "9: Nanook, a-no-no\n",
      "10: Nanook, a-no-no\n",
      "11: Don't be a naughty Eskimo\n",
      "12: Save your money, don't go to the show\n",
      "13:\n",
      "14: Well I turned around and I said \"Oh, oh\" Oh\n",
      "15: Well I turned around and I said \"Oh, oh\" Oh\n",
      "16: Well I turned around and I said \"Ho, Ho\"\n",
      "17: And the northern lights commenced to glow\n",
      "18: And she said, with a tear in her eye\n",
      "19: \"Watch out where the huskies go, and don't you eat that yellow snow\"\n",
      "20: \"Watch out where the huskies go, and don't you eat that yellow snow\"\n"
     ]
    }
   ],
   "source": [
    "fobj_in = open(\"../../texts/yellow_snow.txt\")\n",
    "fobj_out = open(\"../../texts/yellow_snow2.txt\",\"w\")\n",
    "i = 1\n",
    "for line in fobj_in:\n",
    "    print(line.rstrip())\n",
    "    fobj_out.write(str(i) + \": \" + line)\n",
    "    i = i + 1\n",
    "fobj_in.close()\n",
    "fobj_out.close()\n",
    "fobj_test = open(\"../../texts/yellow_snow2.txt\")\n",
    "print(\"*\"*100)\n",
    "for line in fobj_test:\n",
    "    print(line.rstrip())\n",
    "fobj_test.close()"
   ]
  },
  {
   "cell_type": "markdown",
   "metadata": {},
   "source": [
    "Es muss darauf geachtet werden, dass die Datei-Objekte immer mit close() ordnungsgemäß geschlossen werden. Man riskiert sonst, dass die Daten in der Datei nicht konsistent sind.\n",
    "Oft begegnet man dem <b>with-Statement.</b> Dies hat den Vorteil, dass das im darauffolgenden Block verwendete Datei-Objekt automatisch geschlossen wird."
   ]
  },
  {
   "cell_type": "code",
   "execution_count": 4,
   "metadata": {},
   "outputs": [],
   "source": [
    "fobj_out=open(\"meine_datei.txt\",\"w\")\n",
    "fobj_out.write(\"Meine erste Zeile \")\n",
    "fobj_out.write(\"\\n\")\n",
    "fobj_out.write(\"Meine zweite Zeile \")\n",
    "fobj_out.close()\n"
   ]
  },
  {
   "cell_type": "markdown",
   "metadata": {},
   "source": [
    "Warum muss man rstrip verwenden?"
   ]
  },
  {
   "cell_type": "code",
   "execution_count": 15,
   "metadata": {},
   "outputs": [
    {
     "name": "stdout",
     "output_type": "stream",
     "text": [
      "Meine erste Zeile \n",
      "\n",
      "Meine zweite Zeile \n"
     ]
    }
   ],
   "source": [
    "fobj_in = open(\"meine_datei.txt\")\n",
    "for line in fobj_in:\n",
    "    print(line)\n",
    "    #print(line.rstrip())\n",
    "fobj_in.close()\n"
   ]
  },
  {
   "cell_type": "markdown",
   "metadata": {},
   "source": [
    "Der Zeilenumbruch kann natürlich auch im übergebenden String erfolgen."
   ]
  },
  {
   "cell_type": "code",
   "execution_count": 16,
   "metadata": {},
   "outputs": [
    {
     "name": "stdout",
     "output_type": "stream",
     "text": [
      "To write or not to write\n",
      "\n",
      "that is the question!\n",
      "\n"
     ]
    }
   ],
   "source": [
    "with open(\"meine_datei.txt\", \"w\") as fh:\n",
    "    fh.write(\"To write or not to write\\nthat is the question!\\n\")\n",
    "with open(\"meine_datei.txt\") as fh:\n",
    "    for line in fh:\n",
    "        print(line)"
   ]
  },
  {
   "cell_type": "markdown",
   "metadata": {},
   "source": [
    "Eine Sache ist noch zu beachten:\n",
    "Was ist, wenn wir ein Datei-Objekt versehentlich zum Schreiben, also mit \"w\", öffnen, und die Datei existiert bereits? Wenn der Inhalt der Datei nicht wichtig ist, oder es eine Sicherungskopie gibt, dann haben Sie Glück. Ansonsten haben Sie ein Problem, denn sobald open(..., \"w\") ausgeführt wird, wird die bestehende Datei **gelöscht**. In einigen Fällen ist das so gewollt. Allerdings gibt es auch andere Anwendungsfälle, wie z.B. Log-Files, deren Inhalt einfach erweitert werden soll.\n",
    "Um den Inhalt zu erweitern muss der Parameter \"a\" genutzt werden, statt \"w\".<br><br>\n",
    "<b>In einem Rutsch lesen:</b>\n",
    "Bis jetzt haben wir Dateien Zeile für Zeile mit Schleifen verarbeitet. Aber es kommt öfters vor, dass man eine Datei gerne in eine komplette Datenstruktur einlesen will, z.B. einen String oder eine Liste. Auf diese Art kann die Datei schnell wieder geschlossen werden und man arbeitet anschließend nur noch auf der Datenstruktur weiter:"
   ]
  },
  {
   "cell_type": "code",
   "execution_count": 6,
   "metadata": {},
   "outputs": [
    {
     "name": "stdout",
     "output_type": "stream",
     "text": [
      "['Dreamed I was an Eskimo\\n', 'Frozen wind began to blow\\n', 'Under my boots and around my toes\\n', 'The frost that bit the ground below\\n', 'It was a hundred degrees below zero...\\n', '\\n', 'And my mama cried\\n', 'And my mama cried\\n', 'Nanook, a-no-no\\n', 'Nanook, a-no-no\\n', \"Don't be a naughty Eskimo\\n\", \"Save your money, don't go to the show\\n\", '\\n', 'Well I turned around and I said \"Oh, oh\" Oh\\n', 'Well I turned around and I said \"Oh, oh\" Oh\\n', 'Well I turned around and I said \"Ho, Ho\"\\n', 'And the northern lights commenced to glow\\n', 'And she said, with a tear in her eye\\n', '\"Watch out where the huskies go, and don\\'t you eat that yellow snow\"\\n', '\"Watch out where the huskies go, and don\\'t you eat that yellow snow\" \\n']\n"
     ]
    }
   ],
   "source": [
    "Gedicht = open(\"../../texts/yellow_snow.txt\").readlines()\n",
    "print(Gedicht)\n"
   ]
  },
  {
   "cell_type": "code",
   "execution_count": 7,
   "metadata": {},
   "outputs": [
    {
     "name": "stdout",
     "output_type": "stream",
     "text": [
      "Under my boots and around my toes\n",
      "\n"
     ]
    }
   ],
   "source": [
    "print(Gedicht[2])"
   ]
  },
  {
   "cell_type": "markdown",
   "metadata": {},
   "source": [
    "Im obigen Beispiel wurde das ganze Gedicht in eine Liste namens Gedicht geladen. Wir können nun beispielsweise die dritte Zeile mit Gedicht[2] ansprechen.\n",
    "\n",
    "Eine andere angenehme Methode eine Datei einzulesen bietet die Methode read() von open. Mit dieser Methode kann man eine ganze Datei in einen String einlesen, wie wir im folgenden Beispiel zeigen: "
   ]
  },
  {
   "cell_type": "code",
   "execution_count": 18,
   "metadata": {},
   "outputs": [
    {
     "name": "stdout",
     "output_type": "stream",
     "text": [
      "Dreamed I was an Eskimo\n",
      "Frozen wind began to blow\n",
      "Under my boots and around my toes\n",
      "The frost that bit the ground below\n",
      "It was a hundred degrees below zero...\n",
      "\n",
      "And my mama cried\n",
      "And my mama cried\n",
      "Nanook, a-no-no\n",
      "Nanook, a-no-no\n",
      "Don't be a naughty Eskimo\n",
      "Save your money, don't go to the show\n",
      "\n",
      "Well I turned around and I said \"Oh, oh\" Oh\n",
      "Well I turned around and I said \"Oh, oh\" Oh\n",
      "Well I turned around and I said \"Ho, Ho\"\n",
      "And the northern lights commenced to glow\n",
      "And she said, with a tear in her eye\n",
      "\"Watch out where the huskies go, and don't you eat that yellow snow\"\n",
      "\"Watch out where the huskies go, and don't you eat that yellow snow\" \n",
      "\n",
      "----------------------------------------------------------------------------------------------------\n",
      " Eskimo\n",
      "Frozen win\n"
     ]
    }
   ],
   "source": [
    "Gedicht = open(\"../../texts/yellow_snow.txt\").read()\n",
    "print(Gedicht)\n",
    "print(\"-\"*100)\n",
    "print(Gedicht[16:34]) # beim Slicing zählen natürlich die Zeilenumbrüche am Ende jeder Zeile mit"
   ]
  },
  {
   "cell_type": "code",
   "execution_count": 53,
   "metadata": {},
   "outputs": [
    {
     "data": {
      "text/plain": [
       "str"
      ]
     },
     "execution_count": 53,
     "metadata": {},
     "output_type": "execute_result"
    }
   ],
   "source": [
    "type(Gedicht)"
   ]
  },
  {
   "cell_type": "markdown",
   "metadata": {},
   "source": [
    "### Persistente Daten\n",
    "Vermeidung von Datenverlust Im Folgenden geht es darum, Wege zu zeigen wie man Programmdaten über das Programmende oder den Programmabbruch hinaus speichern kann. Man bezeichnet dies in der Informatik als persistente Daten. Darunter versteht man, dass die Daten eines Programmes auch nach dem kontrollierten oder auch unvorhergesehenem Ende bei einem erneuten Programmstart wieder zur Verfügung stehen. Daten, die nur im Hauptspeicher des Computers existieren, werden als flüchtige oder transiente Daten bezeichnet, da sie bei einem erneuten Programmstart nicht mehr zur Verfügung stehen.\n",
    "\n",
    "Zur Generierung von persistenten Daten gibt es verschiedene Möglichkeiten:\n",
    "\n",
    "- Manuelle Speicherung in einer Datei.\n",
    "<br>\n",
    "    Nicht zu empfehlen, da man dann die komplette Serialisierung der Daten selbst vornehmen muss.\n",
    "<br>\n",
    "- marshal-Modul\n",
    "<br>\n",
    "    Ähnlich wie das pickle-Modul. Wir werden dieses Modul jedoch nicht behandeln, da allgemein aus verschiedenen Gründen empfohlen wird pickle zu verwenden.\n",
    "<br>\n",
    "- pickle-Modul\n",
    "<br>\n",
    "    Wir werden im folgenden näher auf dieses Modul eingehen.\n",
    "<br>\n",
    "- shelve-Modul\n",
    "<br>\n",
    "    Shelve baut auf pickle auf und bietet eine Dictionary-ähnliche Struktur! \n",
    "<br>"
   ]
  },
  {
   "cell_type": "markdown",
   "metadata": {},
   "source": [
    "### Pickle-Modul\n",
    "\n",
    "Beim Programmieren kommt es natürlich immer wieder mal vor, dass man in die Klemme gerät, aber bei Python ist das wahrscheinlich - hoffen wir - seltener als in anderen Sprachen der Fall. In die Klemme geraten heißt im Englischen \"to get oneself into a pickle\". Aber \"to pickle\" bedeutet eigentlich einlegen oder pökeln, z.B. saure Gurken. Aber was hat nun das Pökeln von sauren Gurken mit Python zu tun? Naja ganz einfach: Python hat ein Modul, was \"pickle\" heißt und mit dem kann man Python-Objekte gewissermaßen einlegen, um sie später, also in anderen Sitzungen oder anderen Programmläufen wieder zu benutzen. Aber jetzt wollen wir wieder seriös werden:\n",
    "Mit dem Modul pickle (dt. einlegen) lassen sich Objekte serialisiert abspeichern und zwar so, dass sie später wieder deserialisiert werden können. Dazu dient die Methode dump, die in ihrer allgemeinen Syntax wie folgt aussieht:\n",
    "\n",
    "<pre>\n",
    "pickle.dump(obj, file[,protocol, *, fix_imports=True])\n",
    "</pre> \n",
    "\n",
    "dump() schreibt eine gepickelte Darstellung des Objectes obj in das Dateiobjekt file.<br>\n",
    "Meist genügt es pickle ohne die optionalen Argumente zu benutzen, ausser man muss alte Programme mit Python2 warten.\n",
    "<br>\n",
    "Das optionale Argument für das Protokollargument steuert die Art der Ausgabe:\n",
    "\n",
    "    Protokollversion 0 ist die originale Ablageart von Python, d.h. vor Python3. Dabei handelt es sich um ein für Menschen lesbares Format. Dieser Modus ist abwärts kompatibel mit früheren Pythonversionen.\n",
    "    Protokollversion 1 benutzt das alte Binärformat. Dieser Modus ist ebenfalls abwärts kompatibel mit früheren Pythonversionen.\n",
    "    Protokollversion 2 wurde mit 2.3. eingeführt. Es stellt ein effizienteres \"Pickling\" zur Verfügung.\n",
    "    Protokollversion 3 wurde mit Python 3.0 eingeführt. Dieser Modus bietet einen hervorragenden Bytes-Modus.\n",
    "    Dateien, die in diesem Modus erzeugt werden, können nicht mehr in Python 2.x mit dem zugehörigen Pickle-Modul \n",
    "    bearbeitet werden. Es handelt sich hierbei um den von Python 3.x empfohlenen Modus. Er stellt auch den \n",
    "    <b>Defaultwert</b> dar. \n",
    "\n",
    "\n",
    "Wird der Parameter fix_imports auf True gesetzt und wird als Protokol ein Wert kleiner als 3 verwendet, versucht pickle die neuen Python3-Namen auf die alten Modulnamen, also die von Python2, abzubilden. Ziel ist es, dass dass die gepickelten Daten von Python2 gelesen werden können.\n",
    "\n",
    "\n",
    "Ein einfaches Beispiel:"
   ]
  },
  {
   "cell_type": "code",
   "execution_count": 8,
   "metadata": {},
   "outputs": [],
   "source": [
    "import pickle\n",
    "staedte = [\"Bern\", \"Basel\",\"St. Gallen\", \"Zürich\"]\n",
    "fh = open(\"data.pkl\",\"bw\") # Achtung zum Schreiben bw\n",
    "pickle.dump(staedte,fh)\n",
    "fh.close()"
   ]
  },
  {
   "cell_type": "markdown",
   "metadata": {},
   "source": [
    "Objekte, die mit pickle.dump() in eine Datei geschrieben worden sind, können mit der Pickle-Methode pickle.load(file) wieder eingelesen werden. pickle.load erkennt automatisch in welchem Format eine Datei erstellt worden ist. Die Datei data.pkl kann wieder in Python eingelesen werden. Dies kann in der gleichen Session oder dem gleichen Programm geschehen, aber meistens werden die Daten natürlich in einem erneuten Programmlauf oder in einem anderen Programm eingelesen. Wir zeigen die Funktionsweise des Einlesens im folgenden Beispiel:"
   ]
  },
  {
   "cell_type": "code",
   "execution_count": 9,
   "metadata": {},
   "outputs": [
    {
     "name": "stdout",
     "output_type": "stream",
     "text": [
      "['Bern', 'Basel', 'St. Gallen', 'Zürich']\n"
     ]
    }
   ],
   "source": [
    "import pickle\n",
    "f = open(\"data.pkl\",\"rb\") #Achtung zum Lesen rb\n",
    "staedte = pickle.load(f)\n",
    "print(staedte)"
   ]
  },
  {
   "cell_type": "markdown",
   "metadata": {},
   "source": [
    "Da nur die Objekte selbst und nicht ihre Namen gespeichert worden sind, müssen wir das Ergebnis von pickle.load() wieder einer Variablen, - wie in obigem Beispiel gezeigt, - zuweisen.\n",
    "\n",
    "Es stellt sich die Frage, welche Art von Daten man eigentlich pickeln kann? Im Prinzip alles, was man sich vorstellen kann:\n",
    "\n",
    "- Alle Python-Basistypen, wie Booleans, Integers, Floats, Komplexe Zahlen, Strings, Byte-Arrays und Byte-Objekte und natürlich None.\n",
    "- Listen und Tupels, Mengen und Dictionaries\n",
    "- Beliebige Kombinationen der beiden vorigen Gruppen\n",
    "- Außerdem können auch Funktionen, Klassen und Instanzen unter gewissen Bedingungen gepickelt werden.\n",
    "- file-Objekte lassen sich nicht pickeln.\n",
    "\n",
    "In unserem Beispiel haben wir nur ein Objekt gepickelt, d.h. eine Liste von Städten. Wie sieht es aber aus, wenn wir mehrere Objekte gleichzeitig pickeln wollen? Ganz einfach: Man verpackt sie in ein Objekt, meistens ein Tupel. Im folgenden Beispiel benutzen wir zwei Listen \"programmiersprachen\" und \"python_dialekte\":"
   ]
  },
  {
   "cell_type": "code",
   "execution_count": 10,
   "metadata": {},
   "outputs": [],
   "source": [
    "import pickle\n",
    "fh = open(\"data.pkl\",\"bw\")\n",
    "programmiersprachen = [\"Python\", \"Perl\", \"C++\", \"Java\", \"Lisp\"]\n",
    "python_dialekte = [\"Jython\", \"IronPython\", \"CPython\"]\n",
    "pickle_object = (programmiersprachen, python_dialekte)\n",
    "pickle.dump(pickle_object,fh)\n",
    "fh.close()"
   ]
  },
  {
   "cell_type": "markdown",
   "metadata": {},
   "source": [
    "Obige gepickelte Datei können wir so einlesen, dass wir die beiden Listen wieder trennen können:"
   ]
  },
  {
   "cell_type": "code",
   "execution_count": 11,
   "metadata": {},
   "outputs": [
    {
     "name": "stdout",
     "output_type": "stream",
     "text": [
      "['Python', 'Perl', 'C++', 'Java', 'Lisp'] ['Jython', 'IronPython', 'CPython']\n"
     ]
    }
   ],
   "source": [
    "import pickle\n",
    "f = open(\"data.pkl\",\"rb\")\n",
    "(sprachen, dialekte) = pickle.load(f)\n",
    "print(sprachen, dialekte)"
   ]
  },
  {
   "cell_type": "markdown",
   "metadata": {},
   "source": [
    "### Übungen\n",
    "\n",
    "\n",
    "Die Datei [cities_and_times.txt](https://www.python-kurs.eu/cities_and_times.txt) enthält Städtenamen und Zeiten. Jede Zeile enthält als ersten Eintrag den Namen einer Stadt, gefolgt von einem Wochentag und einer Zeitangabe in der Form hh:mm. Lesen Sie die Datei ein und erzeugen Sie eine Liste der Form\n",
    "\n",
    "    [('Amsterdam', 'Sun', (8, 52)), ('Anchorage', 'Sat', (23, 52)), ('Ankara', 'Sun', (10, 52)), ('Athens', 'Sun', (9, 52)), ('Atlanta', 'Sun', (2, 52)), ('Auckland', 'Sun', (20, 52)), ('Barcelona', 'Sun', (8, 52)), ('Beirut', 'Sun', (9, 52)), \n",
    "\n",
    "    ...\n",
    "\n",
    "     ('Toronto', 'Sun', (2, 52)), ('Vancouver', 'Sun', (0, 52)), ('Vienna', 'Sun', (8, 52)), ('Warsaw', 'Sun', (8, 52)), ('Washington DC', 'Sun', (2, 52)), ('Winnipeg', 'Sun', (1, 52)), ('Zurich', 'Sun', (8, 52))]\n",
    "Dabei können Sie die Stringmethoden \"string.split()\" benutzen, die die Elemente des Strings an Leerzeichen trent und als Liste zurückgibt und \"stringtrenner.join(Liste)\" Elemente einer Liste mit dem stringtrenner zu einem String verbindet. Man muss beachten, dass z.B. Washington DC innerhalb der Stadtbezeichnung ein Leerzeichen aufweisst."
   ]
  },
  {
   "cell_type": "markdown",
   "metadata": {},
   "source": [
    "Anschließend soll die Liste zur späteren Benutzung mit Hilfe des Pickle-Modules abgespeichert werden. Wir werden diese Datei in unserem Kapitel über numpyNumpy dtype benutzen.\n",
    "\n",
    "\n",
    "\n",
    "### Lösung"
   ]
  },
  {
   "cell_type": "code",
   "execution_count": 29,
   "metadata": {},
   "outputs": [
    {
     "name": "stdout",
     "output_type": "stream",
     "text": [
      "('Chicago', 'Sun', (1, 52))\n",
      "('Columbus', 'Sun', (2, 52))\n",
      "('Riyadh', 'Sun', (10, 52))\n",
      "('Copenhagen', 'Sun', (8, 52))\n",
      "('Kuwait City', 'Sun', (10, 52))\n",
      "('Rome', 'Sun', (8, 52))\n",
      "('Dallas', 'Sun', (1, 52))\n",
      "('Salt Lake City', 'Sun', (1, 52))\n",
      "('San Francisco', 'Sun', (0, 52))\n",
      "('Amsterdam', 'Sun', (8, 52))\n",
      "('Denver', 'Sun', (1, 52))\n",
      "('San Salvador', 'Sun', (1, 52))\n",
      "('Detroit', 'Sun', (2, 52))\n",
      "('Las Vegas', 'Sun', (0, 52))\n",
      "('Santiago', 'Sun', (4, 52))\n",
      "('Anchorage', 'Sat', (23, 52))\n",
      "('Ankara', 'Sun', (10, 52))\n",
      "('Lisbon', 'Sun', (7, 52))\n",
      "('Sao Paulo', 'Sun', (5, 52))\n",
      "('Dubai', 'Sun', (11, 52))\n",
      "('London', 'Sun', (7, 52))\n",
      "('Seattle', 'Sun', (0, 52))\n",
      "('Dublin', 'Sun', (7, 52))\n",
      "('Los Angeles', 'Sun', (0, 52))\n",
      "('Athens', 'Sun', (9, 52))\n",
      "('Edmonton', 'Sun', (1, 52))\n",
      "('Madrid', 'Sun', (8, 52))\n",
      "('Shanghai', 'Sun', (15, 52))\n",
      "('Atlanta', 'Sun', (2, 52))\n",
      "('Frankfurt', 'Sun', (8, 52))\n",
      "('Singapore', 'Sun', (15, 52))\n",
      "('Auckland', 'Sun', (20, 52))\n",
      "('Halifax', 'Sun', (3, 52))\n",
      "('Melbourne', 'Sun', (18, 52))\n",
      "('Stockholm', 'Sun', (8, 52))\n",
      "('Barcelona', 'Sun', (8, 52))\n",
      "('Miami', 'Sun', (2, 52))\n",
      "('Minneapolis', 'Sun', (1, 52))\n",
      "('Sydney', 'Sun', (18, 52))\n",
      "('Beirut', 'Sun', (9, 52))\n",
      "('Helsinki', 'Sun', (9, 52))\n",
      "('Montreal', 'Sun', (2, 52))\n",
      "('Berlin', 'Sun', (8, 52))\n",
      "('Houston', 'Sun', (1, 52))\n",
      "('Moscow', 'Sun', (10, 52))\n",
      "('Indianapolis', 'Sun', (2, 52))\n",
      "('Boston', 'Sun', (2, 52))\n",
      "('Tokyo', 'Sun', (16, 52))\n",
      "('Brasilia', 'Sun', (5, 52))\n",
      "('Istanbul', 'Sun', (10, 52))\n",
      "('Toronto', 'Sun', (2, 52))\n",
      "('Vancouver', 'Sun', (0, 52))\n",
      "('Brussels', 'Sun', (8, 52))\n",
      "('Jerusalem', 'Sun', (9, 52))\n",
      "('New Orleans', 'Sun', (1, 52))\n",
      "('Vienna', 'Sun', (8, 52))\n",
      "('Bucharest', 'Sun', (9, 52))\n",
      "('Johannesburg', 'Sun', (9, 52))\n",
      "('New York', 'Sun', (2, 52))\n",
      "('Warsaw', 'Sun', (8, 52))\n",
      "('Budapest', 'Sun', (8, 52))\n",
      "('Oslo', 'Sun', (8, 52))\n",
      "('Washington DC', 'Sun', (2, 52))\n",
      "('Ottawa', 'Sun', (2, 52))\n",
      "('Winnipeg', 'Sun', (1, 52))\n",
      "('Cairo', 'Sun', (9, 52))\n",
      "('Paris', 'Sun', (8, 52))\n",
      "('Calgary', 'Sun', (1, 52))\n",
      "('Kathmandu', 'Sun', (13, 37))\n",
      "('Philadelphia', 'Sun', (2, 52))\n",
      "('Zurich', 'Sun', (8, 52))\n",
      "('Cape Town', 'Sun', (9, 52))\n",
      "('Phoenix', 'Sun', (0, 52))\n",
      "('Prague', 'Sun', (8, 52))\n",
      "('Casablanca', 'Sun', (7, 52))\n",
      "('Reykjavik', 'Sun', (7, 52))\n",
      "[('Amsterdam', 'Sun', (8, 52)), ('Anchorage', 'Sat', (23, 52)), ('Ankara', 'Sun', (10, 52)), ('Athens', 'Sun', (9, 52)), ('Atlanta', 'Sun', (2, 52)), ('Auckland', 'Sun', (20, 52)), ('Barcelona', 'Sun', (8, 52)), ('Beirut', 'Sun', (9, 52)), ('Berlin', 'Sun', (8, 52)), ('Boston', 'Sun', (2, 52)), ('Brasilia', 'Sun', (5, 52)), ('Brussels', 'Sun', (8, 52)), ('Bucharest', 'Sun', (9, 52)), ('Budapest', 'Sun', (8, 52)), ('Cairo', 'Sun', (9, 52)), ('Calgary', 'Sun', (1, 52)), ('Cape Town', 'Sun', (9, 52)), ('Casablanca', 'Sun', (7, 52)), ('Chicago', 'Sun', (1, 52)), ('Columbus', 'Sun', (2, 52)), ('Copenhagen', 'Sun', (8, 52)), ('Dallas', 'Sun', (1, 52)), ('Denver', 'Sun', (1, 52)), ('Detroit', 'Sun', (2, 52)), ('Dubai', 'Sun', (11, 52)), ('Dublin', 'Sun', (7, 52)), ('Edmonton', 'Sun', (1, 52)), ('Frankfurt', 'Sun', (8, 52)), ('Halifax', 'Sun', (3, 52)), ('Helsinki', 'Sun', (9, 52)), ('Houston', 'Sun', (1, 52)), ('Indianapolis', 'Sun', (2, 52)), ('Istanbul', 'Sun', (10, 52)), ('Jerusalem', 'Sun', (9, 52)), ('Johannesburg', 'Sun', (9, 52)), ('Kathmandu', 'Sun', (13, 37)), ('Kuwait City', 'Sun', (10, 52)), ('Las Vegas', 'Sun', (0, 52)), ('Lisbon', 'Sun', (7, 52)), ('London', 'Sun', (7, 52)), ('Los Angeles', 'Sun', (0, 52)), ('Madrid', 'Sun', (8, 52)), ('Melbourne', 'Sun', (18, 52)), ('Miami', 'Sun', (2, 52)), ('Minneapolis', 'Sun', (1, 52)), ('Montreal', 'Sun', (2, 52)), ('Moscow', 'Sun', (10, 52)), ('New Orleans', 'Sun', (1, 52)), ('New York', 'Sun', (2, 52)), ('Oslo', 'Sun', (8, 52)), ('Ottawa', 'Sun', (2, 52)), ('Paris', 'Sun', (8, 52)), ('Philadelphia', 'Sun', (2, 52)), ('Phoenix', 'Sun', (0, 52)), ('Prague', 'Sun', (8, 52)), ('Reykjavik', 'Sun', (7, 52)), ('Riyadh', 'Sun', (10, 52)), ('Rome', 'Sun', (8, 52)), ('Salt Lake City', 'Sun', (1, 52)), ('San Francisco', 'Sun', (0, 52)), ('San Salvador', 'Sun', (1, 52)), ('Santiago', 'Sun', (4, 52)), ('Sao Paulo', 'Sun', (5, 52)), ('Seattle', 'Sun', (0, 52)), ('Shanghai', 'Sun', (15, 52)), ('Singapore', 'Sun', (15, 52)), ('Stockholm', 'Sun', (8, 52)), ('Sydney', 'Sun', (18, 52)), ('Tokyo', 'Sun', (16, 52)), ('Toronto', 'Sun', (2, 52)), ('Vancouver', 'Sun', (0, 52)), ('Vienna', 'Sun', (8, 52)), ('Warsaw', 'Sun', (8, 52)), ('Washington DC', 'Sun', (2, 52)), ('Winnipeg', 'Sun', (1, 52)), ('Zurich', 'Sun', (8, 52))]\n"
     ]
    }
   ],
   "source": [
    "import pickle\n",
    "\n",
    "lines = open(\"cities_and_times.txt\").readlines()\n",
    "\n",
    "#lines.sort() #sortiert die Listenelemente alphabetisch in place\n",
    "#print(lines)\n",
    "#print(\"\\n\\n\")\n",
    "cities = []\n",
    "for line  in lines:\n",
    "    *city, day, time = line.split() #*city z.B. wegen Washington DC\n",
    "    hours, minutes = time.split(\":\")\n",
    "    print((\" \".join(city), day, (int(hours), int(minutes)) ))\n",
    "    cities.append((\" \".join(city), day, (int(hours), int(minutes)) ))\n",
    "\n",
    "fh = open(\"cities_and_times.pkl\", \"bw\")\n",
    "pickle.dump(cities, fh)\n",
    "#wieder einlesen\n",
    "f = open(\"cities_and_times.pkl\",\"rb\")\n",
    "the_list = pickle.load(f)\n",
    "print(the_list)"
   ]
  },
  {
   "cell_type": "markdown",
   "metadata": {},
   "source": [
    "Städtenamen können mehrere Wörter beinhalten. Aus diesem Grund verwenden wir ein Sternchen an der Stelle, an der eine Zeile aufgeteilt wird. Somit wird city zu einer Liste mit den Wörtern der Stadt. z.B. [\"Salt“,\"Lake\",\"City\"]. \" \",join(city) verwandelt die Liste dann in den eigentlichen String. Hier: \"Salt Lake City\""
   ]
  },
  {
   "cell_type": "code",
   "execution_count": null,
   "metadata": {},
   "outputs": [],
   "source": []
  }
 ],
 "metadata": {
  "kernelspec": {
   "display_name": "Python 3",
   "language": "python",
   "name": "python3"
  },
  "language_info": {
   "codemirror_mode": {
    "name": "ipython",
    "version": 3
   },
   "file_extension": ".py",
   "mimetype": "text/x-python",
   "name": "python",
   "nbconvert_exporter": "python",
   "pygments_lexer": "ipython3",
   "version": "3.8.8"
  }
 },
 "nbformat": 4,
 "nbformat_minor": 4
}
