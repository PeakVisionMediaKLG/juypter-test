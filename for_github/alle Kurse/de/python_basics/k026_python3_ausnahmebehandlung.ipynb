{
 "cells": [
  {
   "cell_type": "markdown",
   "metadata": {},
   "source": [
    "## Fehler und Ausnahmen\n",
    "\n",
    "\n",
    "### Ausnahmebehandlung\n",
    "\n",
    "<img class=\"imgright\" src=\"../images/python_logo_band_aid.webp\" alt=\"Python logo with band aid\" />  \n",
    "\n",
    "Eine Ausnahme ist ein Fehler, der während der Ausführung eines Programms auftritt. Ausnahmen sind Nicht-Programmierern als Instanzen bekannt, die nicht mit einer allgemeinen Regel übereinstimmen. Der Name \"Ausnahme\" in der Informatik hat ebenfalls diese Bedeutung: Er impliziert, dass das Problem (die Ausnahme) nicht häufig auftritt, d. h. die Ausnahme ist die \"Ausnahme von der Regel\". Die Ausnahmebehandlung ist ein Konstrukt in einigen Programmiersprachen, um Fehler automatisch zu behandeln oder mit ihnen umzugehen. Viele Programmiersprachen wie C++, Objective-C, PHP, Java, Ruby, Python und viele andere haben eine eingebaute Unterstützung für die Ausnahmebehandlung.\n",
    "\n",
    "Die Fehlerbehandlung wird im Allgemeinen dadurch gelöst, dass der Zustand der Ausführung zum Zeitpunkt des Auftretens des Fehlers gespeichert wird und der normale Programmfluss unterbrochen wird, um eine spezielle Funktion oder ein Stück Code auszuführen, das als Exception-Handler bezeichnet wird. Je nach Art des aufgetretenen Fehlers (\"Division durch Null\", \"Datei-Öffnungsfehler\" und so weiter) kann der Error-Handler das Problem \"beheben\" und das Programm kann anschließend mit den zuvor gespeicherten Daten fortgesetzt werden.\n",
    "\n",
    "### Ausnahmebehandlung in Python\n",
    "\n",
    "Die Ausnahmebehandlung in Python ist der in Java sehr ähnlich. Der Code, der das Risiko einer Ausnahme birgt, wird in einen Try-Block eingebettet. Während in Java Ausnahmen durch catch-Klauseln abgefangen werden, haben wir in Python Anweisungen, die durch ein \"except\"-Schlüsselwort eingeleitet werden. Es ist möglich, \"maßgeschneiderte\" Ausnahmen zu erstellen: Mit der raise-Anweisung ist es möglich, das Auftreten einer bestimmten Ausnahme zu erzwingen.\n",
    "\n",
    "Schauen wir uns ein einfaches Beispiel an. Angenommen, wir wollen den Benutzer auffordern, eine ganze Zahl einzugeben. Wenn wir ein input() verwenden, wird die Eingabe ein String sein, den wir in einen Integer umwandeln müssen. Wenn die Eingabe keine gültige Ganzzahl ist, wird ein ValueError erzeugt (raise). Wir zeigen dies in der folgenden interaktiven Sitzung:"
   ]
  },
  {
   "cell_type": "code",
   "execution_count": 2,
   "metadata": {},
   "outputs": [
    {
     "name": "stdout",
     "output_type": "stream",
     "text": [
      "Bitte gebe eine Zahl ein: drei\n"
     ]
    },
    {
     "ename": "ValueError",
     "evalue": "invalid literal for int() with base 10: 'drei'",
     "output_type": "error",
     "traceback": [
      "\u001b[1;31m---------------------------------------------------------------------------\u001b[0m",
      "\u001b[1;31mValueError\u001b[0m                                Traceback (most recent call last)",
      "\u001b[1;32m<ipython-input-2-b596fc0d106f>\u001b[0m in \u001b[0;36m<module>\u001b[1;34m\u001b[0m\n\u001b[1;32m----> 1\u001b[1;33m \u001b[0mn\u001b[0m \u001b[1;33m=\u001b[0m \u001b[0mint\u001b[0m\u001b[1;33m(\u001b[0m\u001b[0minput\u001b[0m\u001b[1;33m(\u001b[0m\u001b[1;34m\"Bitte gebe eine Zahl ein: \"\u001b[0m\u001b[1;33m)\u001b[0m\u001b[1;33m)\u001b[0m\u001b[1;33m\u001b[0m\u001b[1;33m\u001b[0m\u001b[0m\n\u001b[0m",
      "\u001b[1;31mValueError\u001b[0m: invalid literal for int() with base 10: 'drei'"
     ]
    }
   ],
   "source": [
    "n = int(input(\"Bitte gebe eine Zahl ein: \"))"
   ]
  },
  {
   "cell_type": "markdown",
   "metadata": {},
   "source": [
    "Mit Hilfe der Ausnahmebehandlung können wir robusten Code für das Lesen eines Integers von der Eingabe schreiben:"
   ]
  },
  {
   "cell_type": "code",
   "execution_count": 12,
   "metadata": {},
   "outputs": [
    {
     "name": "stdout",
     "output_type": "stream",
     "text": [
      "Bitte gebe eine ganze Zahl ein:  4.5\n",
      "Keine gültige Zahl, probiere es nochmals ...\n",
      "Bitte gebe eine ganze Zahl ein:  w\n",
      "Keine gültige Zahl, probiere es nochmals ...\n",
      "Bitte gebe eine ganze Zahl ein:  [6]\n",
      "Keine gültige Zahl, probiere es nochmals ...\n",
      "Bitte gebe eine ganze Zahl ein:  4\n",
      "Die gültige eingegebene Zahl ist:  4\n",
      "Großartig! Das war eine korrekte ganze Zahl\n"
     ]
    }
   ],
   "source": [
    "while True:\n",
    "    try:\n",
    "        n = input(\"Bitte gebe eine ganze Zahl ein:  \")\n",
    "        n = int(n)\n",
    "        print(\"Die gültige eingegebene Zahl ist: \",n)\n",
    "        break\n",
    "    except ValueError:\n",
    "        print(\"Keine gültige Zahl, probiere es nochmals ...\")\n",
    "print(\"Großartig! Das war eine korrekte ganze Zahl\")"
   ]
  },
  {
   "cell_type": "markdown",
   "metadata": {},
   "source": [
    "Es handelt sich um eine Schleife, die nur dann abbricht, wenn eine gültige Ganzzahl angegeben wurde.\n",
    "Die while-Schleife wird eingegeben. Der Code innerhalb der try-Klausel wird Anweisung für Anweisung ausgeführt. Tritt während der Ausführung keine Exception auf, wird die Ausführung bis zur break-Anweisung geführt und die while-Schleife verlassen. Tritt eine Exception auf, z. B. beim Casting von n, wird der Rest des try-Blocks übersprungen und die except-Klausel ausgeführt. Der ausgelöste Fehler, in unserem Fall ein ValueError, muss mit einem der Namen hinter except übereinstimmen. In unserem Beispiel nur einer, nämlich \"ValueError:\". Nachdem der Text der print-Anweisung ausgegeben wurde, führt die Ausführung eine weitere Schleife aus. Sie beginnt mit einer neuen Input()."
   ]
  },
  {
   "cell_type": "markdown",
   "metadata": {},
   "source": [
    "### Mehrere Except-Klauseln\n",
    "\n",
    "Eine try-Anweisung kann mehr als eine Except-Klausel für verschiedene Ausnahmen haben. Es wird aber höchstens eine Ausnahmeklausel ausgeführt.\n",
    "\n",
    "Unser nächstes Beispiel zeigt eine try-Klausel, in der wir eine Datei zum Lesen öffnen, eine Zeile aus dieser Datei lesen und diese Zeile in eine Ganzzahl umwandeln. Es gibt mindestens zwei mögliche Ausnahmen:\n",
    "\n",
    "    Ein IOError\n",
    "    ValueError\n",
    "\n",
    "Für den Fall, dass ein unerwarteter Fehler auftritt, haben wir zusätzlich eine unbenannte except-Klausel:"
   ]
  },
  {
   "cell_type": "code",
   "execution_count": 17,
   "metadata": {},
   "outputs": [
    {
     "name": "stdout",
     "output_type": "stream",
     "text": [
      "[Errno 2] No such file or directory: 'integers.txt'\n",
      "weiter\n"
     ]
    }
   ],
   "source": [
    "import sys\n",
    "\n",
    "try:\n",
    "    f = open('integers.txt')\n",
    "    s = f.readline()\n",
    "    i = int(s.strip())\n",
    "except IOError as e:\n",
    "    print(e)\n",
    "except ValueError:\n",
    "    print(\"Keine gültige ganze Zahl.\")\n",
    "print(\"weiter\")"
   ]
  },
  {
   "cell_type": "markdown",
   "metadata": {},
   "source": [
    "Die Behandlung des IOError im vorherigen Beispiel ist von besonderem Interesse. Die except-Klausel für den IOError spezifiziert eine Variable \"e\" hinter dem Ausnahmenamen (IOError). Die Variable \"e\" ist an eine Exception-Instanz mit den in instance.args gespeicherten Argumenten gebunden.\n",
    "Wenn wir das obige Skript mit einer nicht existierenden Datei aufrufen, erhalten wir die Meldung:\n",
    "\n",
    "IOError(2): No such file or directory\n",
    "\n",
    "Und wenn die Datei integers.txt nicht lesbar ist, z. B. wenn wir nicht die Berechtigung haben, sie zu lesen, erhalten wir die folgende Meldung:\n",
    "\n",
    "I/O error(13): Permission denied\n",
    "Ansonsten wird, wenn die Umwandlung des in der Zeile stehenden Strings in eine Zahl nicht möglich ist, der ValueError Text ausgegeben.\n",
    "\n",
    "Eine except-Klausel kann mehr als eine Ausnahme in einem Tupel von Fehlernamen nennen, wie wir im folgenden Beispiel sehen:"
   ]
  },
  {
   "cell_type": "code",
   "execution_count": 16,
   "metadata": {},
   "outputs": [
    {
     "name": "stdout",
     "output_type": "stream",
     "text": [
      "Keine gültige ganze Zahl einzulesen.\n",
      "weiter\n"
     ]
    }
   ],
   "source": [
    "try:\n",
    "    f = open('integers.txt')\n",
    "    s = f.readline()\n",
    "    i = int(s.strip())\n",
    "except (IOError, ValueError):\n",
    "    print(\"Keine gültige ganze Zahl einzulesen.\")\n",
    "print(\"weiter\")"
   ]
  },
  {
   "cell_type": "markdown",
   "metadata": {},
   "source": [
    "Wir wollen nun demonstrieren, was passiert, wenn wir eine Funktion innerhalb eines Try-Blocks aufrufen und innerhalb des Funktionsaufrufs eine Exception auftritt:"
   ]
  },
  {
   "cell_type": "code",
   "execution_count": 10,
   "metadata": {},
   "outputs": [
    {
     "name": "stdout",
     "output_type": "stream",
     "text": [
      "Hab' den Fehler :-)  invalid literal for int() with base 10: 'four'\n",
      "Weiter geht's\n"
     ]
    }
   ],
   "source": [
    "def f():\n",
    "    x = int(\"four\")\n",
    "\n",
    "try:\n",
    "    f()\n",
    "except ValueError as e:\n",
    "    print(\"Hab' den Fehler :-) \", e)\n",
    "\n",
    "\n",
    "print(\"Weiter geht's\")"
   ]
  },
  {
   "cell_type": "markdown",
   "metadata": {},
   "source": [
    "die Funktion fängt die Ausnahme ab.\n",
    "\n",
    "Wir werden unser Beispiel nun so erweitern, dass die Funktion die Exception direkt abfängt:"
   ]
  },
  {
   "cell_type": "code",
   "execution_count": 11,
   "metadata": {},
   "outputs": [
    {
     "name": "stdout",
     "output_type": "stream",
     "text": [
      "Fehler in Funktion :-)  invalid literal for int() with base 10: 'four'\n",
      "Weiter geht's\n"
     ]
    }
   ],
   "source": [
    "def f():\n",
    "    try:\n",
    "        x = int(\"four\")\n",
    "    except ValueError as e:\n",
    "        print(\"Fehler in Funktion :-) \", e)\n",
    "\n",
    "try:\n",
    "    f()\n",
    "except ValueError as e:\n",
    "    print(\"got it :-) \", e)\n",
    "\n",
    "\n",
    "print(\"Weiter geht's\")"
   ]
  },
  {
   "cell_type": "markdown",
   "metadata": {},
   "source": [
    "Wie wir erwartet haben, wird die Ausnahme innerhalb der Funktion abgefangen und nicht in der Ausnahme des Aufrufers:\n",
    "\n",
    "Wir fügen nun ein \"raise\" hinzu, das den ValueError erneut erzeugt, so dass die Exception an den Aufrufer propagiert wird:"
   ]
  },
  {
   "cell_type": "code",
   "execution_count": 15,
   "metadata": {},
   "outputs": [
    {
     "name": "stdout",
     "output_type": "stream",
     "text": [
      "Fehler in Funktion :-)  invalid literal for int() with base 10: 'four'\n",
      "got it :-)  invalid literal for int() with base 10: 'four'\n",
      "Weiter geht's\n"
     ]
    }
   ],
   "source": [
    "def f():\n",
    "    try:\n",
    "        x = int(\"four\")\n",
    "    except ValueError as e:\n",
    "        print(\"Fehler in Funktion :-) \", e)\n",
    "        raise #löst immer eine Exception aus\n",
    "        \n",
    "try:\n",
    "    f()\n",
    "except ValueError as e:\n",
    "    print(\"got it :-) \", e)\n",
    "\n",
    "\n",
    "print(\"Weiter geht's\")"
   ]
  },
  {
   "cell_type": "markdown",
   "metadata": {},
   "source": [
    "### Benutzerdefinierte Ausnahmen\n",
    "Es ist möglich, Ausnahmen selbst zu erstellen:"
   ]
  },
  {
   "cell_type": "code",
   "execution_count": 4,
   "metadata": {},
   "outputs": [
    {
     "name": "stdout",
     "output_type": "stream",
     "text": [
      "Bitte x als Integer eingeben: 3.2\n"
     ]
    },
    {
     "ename": "ValueError",
     "evalue": "invalid literal for int() with base 10: '3.2'",
     "output_type": "error",
     "traceback": [
      "\u001b[1;31m---------------------------------------------------------------------------\u001b[0m",
      "\u001b[1;31mValueError\u001b[0m                                Traceback (most recent call last)",
      "\u001b[1;32m<ipython-input-4-51a7dc043f9e>\u001b[0m in \u001b[0;36m<module>\u001b[1;34m\u001b[0m\n\u001b[0;32m      1\u001b[0m \u001b[1;31m#x soll kleiner 3 sein, sonst ist etwas schief gelaufen\u001b[0m\u001b[1;33m\u001b[0m\u001b[1;33m\u001b[0m\u001b[1;33m\u001b[0m\u001b[0m\n\u001b[1;32m----> 2\u001b[1;33m \u001b[0mx\u001b[0m\u001b[1;33m=\u001b[0m\u001b[0mint\u001b[0m\u001b[1;33m(\u001b[0m\u001b[0minput\u001b[0m\u001b[1;33m(\u001b[0m\u001b[1;34m\"Bitte x als Integer eingeben: \"\u001b[0m\u001b[1;33m)\u001b[0m\u001b[1;33m)\u001b[0m  \u001b[1;31m#Achtung, was passiert bei float??\u001b[0m\u001b[1;33m\u001b[0m\u001b[1;33m\u001b[0m\u001b[0m\n\u001b[0m\u001b[0;32m      3\u001b[0m \u001b[1;32mif\u001b[0m \u001b[0mx\u001b[0m\u001b[1;33m>\u001b[0m\u001b[1;36m3\u001b[0m\u001b[1;33m:\u001b[0m\u001b[1;33m\u001b[0m\u001b[1;33m\u001b[0m\u001b[0m\n\u001b[0;32m      4\u001b[0m     \u001b[1;32mraise\u001b[0m \u001b[0mSyntaxError\u001b[0m\u001b[1;33m(\u001b[0m\u001b[1;34m\"x ist zu gross\"\u001b[0m\u001b[1;33m)\u001b[0m \u001b[1;31m# hier ist Schluss\u001b[0m\u001b[1;33m\u001b[0m\u001b[1;33m\u001b[0m\u001b[0m\n\u001b[0;32m      5\u001b[0m \u001b[0mprint\u001b[0m\u001b[1;33m(\u001b[0m\u001b[1;34m\"weiter\"\u001b[0m\u001b[1;33m)\u001b[0m\u001b[1;33m\u001b[0m\u001b[1;33m\u001b[0m\u001b[0m\n",
      "\u001b[1;31mValueError\u001b[0m: invalid literal for int() with base 10: '3.2'"
     ]
    }
   ],
   "source": [
    "#x soll kleiner 3 sein, sonst ist etwas schief gelaufen\n",
    "x=int(input(\"Bitte x als Integer eingeben: \"))  #Achtung, was passiert bei float??\n",
    "if x>3:\n",
    "    raise SyntaxError(\"x ist zu gross\") # hier ist Schluss \n",
    "print(\"weiter\")"
   ]
  },
  {
   "cell_type": "markdown",
   "metadata": {},
   "source": [
    "Der beste bzw. der pythonische Weg, dies zu tun, besteht darin, eine Ausnahmeklasse zu definieren, die von der Klasse Exception erbt. Sie müssen das Kapitel über [Objektorientierte Programmierung](https://www.python-kurs.eu/einfuehrung_objektorientierte_programmierung_unter_python.php) durcharbeiten, um das folgende Beispiel vollständig zu verstehen:"
   ]
  },
  {
   "cell_type": "code",
   "execution_count": 14,
   "metadata": {},
   "outputs": [
    {
     "ename": "MyException",
     "evalue": "Eine Ausnahme bestätigt nicht die Regel!",
     "output_type": "error",
     "traceback": [
      "\u001b[0;31m---------------------------------------------------------------------------\u001b[0m",
      "\u001b[0;31mMyException\u001b[0m                               Traceback (most recent call last)",
      "\u001b[0;32m<ipython-input-14-e13d2e07cf7a>\u001b[0m in \u001b[0;36m<module>\u001b[0;34m\u001b[0m\n\u001b[1;32m      2\u001b[0m     \u001b[0;32mpass\u001b[0m\u001b[0;34m\u001b[0m\u001b[0;34m\u001b[0m\u001b[0m\n\u001b[1;32m      3\u001b[0m \u001b[0;34m\u001b[0m\u001b[0m\n\u001b[0;32m----> 4\u001b[0;31m \u001b[0;32mraise\u001b[0m \u001b[0mMyException\u001b[0m\u001b[0;34m(\u001b[0m\u001b[0;34m\"Eine Ausnahme bestätigt nicht die Regel!\"\u001b[0m\u001b[0;34m)\u001b[0m\u001b[0;34m\u001b[0m\u001b[0;34m\u001b[0m\u001b[0m\n\u001b[0m",
      "\u001b[0;31mMyException\u001b[0m: Eine Ausnahme bestätigt nicht die Regel!"
     ]
    }
   ],
   "source": [
    "class MyException(Exception):\n",
    "    pass\n",
    "\n",
    "raise MyException(\"Eine Ausnahme bestätigt nicht die Regel!\")"
   ]
  },
  {
   "cell_type": "markdown",
   "metadata": {},
   "source": [
    "### Aufräum-Aktionen (try ... finally)\n",
    "Bislang wurde die try-Anweisung immer mit except-Klauseln gepaart. Es gibt aber auch eine andere Möglichkeit, sie zu verwenden. Die try-Anweisung kann von einer **finally**-Klausel gefolgt werden. Finally-Klauseln werden als Aufräum- oder Beendigungsklauseln bezeichnet, weil sie unter allen Umständen ausgeführt werden müssen, d. h. eine \"finally\"-Klausel wird immer ausgeführt, unabhängig davon, ob in einem try-Block eine Ausnahme aufgetreten ist oder nicht.\n",
    "Ein einfaches Beispiel zur Demonstration der finally-Klausel:"
   ]
  },
  {
   "cell_type": "code",
   "execution_count": 14,
   "metadata": {},
   "outputs": [
    {
     "name": "stdout",
     "output_type": "stream",
     "text": [
      "Deine Zahl: drei\n",
      "Habe die Eingabe überprüft.\n"
     ]
    },
    {
     "ename": "ValueError",
     "evalue": "could not convert string to float: 'drei'",
     "output_type": "error",
     "traceback": [
      "\u001b[1;31m---------------------------------------------------------------------------\u001b[0m",
      "\u001b[1;31mValueError\u001b[0m                                Traceback (most recent call last)",
      "\u001b[1;32m<ipython-input-14-ae11fc22ae6b>\u001b[0m in \u001b[0;36m<module>\u001b[1;34m\u001b[0m\n\u001b[0;32m      1\u001b[0m \u001b[1;32mtry\u001b[0m\u001b[1;33m:\u001b[0m\u001b[1;33m\u001b[0m\u001b[1;33m\u001b[0m\u001b[0m\n\u001b[1;32m----> 2\u001b[1;33m     \u001b[0mx\u001b[0m \u001b[1;33m=\u001b[0m \u001b[0mfloat\u001b[0m\u001b[1;33m(\u001b[0m\u001b[0minput\u001b[0m\u001b[1;33m(\u001b[0m\u001b[1;34m\"Deine Zahl: \"\u001b[0m\u001b[1;33m)\u001b[0m\u001b[1;33m)\u001b[0m\u001b[1;33m\u001b[0m\u001b[1;33m\u001b[0m\u001b[0m\n\u001b[0m\u001b[0;32m      3\u001b[0m     \u001b[0minverse\u001b[0m \u001b[1;33m=\u001b[0m \u001b[1;36m1.0\u001b[0m \u001b[1;33m/\u001b[0m \u001b[0mx\u001b[0m\u001b[1;33m\u001b[0m\u001b[1;33m\u001b[0m\u001b[0m\n\u001b[0;32m      4\u001b[0m \u001b[1;32mfinally\u001b[0m\u001b[1;33m:\u001b[0m\u001b[1;33m\u001b[0m\u001b[1;33m\u001b[0m\u001b[0m\n\u001b[0;32m      5\u001b[0m     \u001b[0mprint\u001b[0m\u001b[1;33m(\u001b[0m\u001b[1;34m\"Habe die Eingabe überprüft.\"\u001b[0m\u001b[1;33m)\u001b[0m\u001b[1;33m\u001b[0m\u001b[1;33m\u001b[0m\u001b[0m\n",
      "\u001b[1;31mValueError\u001b[0m: could not convert string to float: 'drei'"
     ]
    }
   ],
   "source": [
    "try:\n",
    "    x = float(input(\"Deine Zahl: \"))\n",
    "    inverse = 1.0 / x\n",
    "finally:\n",
    "    print(\"Habe die Eingabe überprüft.\")\n",
    "print(\"Die inverse Zahl: \", inverse)"
   ]
  },
  {
   "cell_type": "markdown",
   "metadata": {},
   "source": [
    "### Kombination von try, except und finally\n",
    "\"finally\" und \"except\" können zusammen für denselben try-Block verwendet werden, wie im folgenden Python-Beispiel zu sehen ist:"
   ]
  },
  {
   "cell_type": "code",
   "execution_count": 2,
   "metadata": {},
   "outputs": [
    {
     "name": "stdout",
     "output_type": "stream",
     "text": [
      "Deine Zahl: 3\n",
      "Ich habe die Sache überprüft!\n",
      "Die inverse Zahl:  0.3333333333333333\n"
     ]
    }
   ],
   "source": [
    "try:\n",
    "    x = float(input(\"Deine Zahl: \"))\n",
    "    inverse = 1.0 / x\n",
    "except ValueError:\n",
    "    print(\"Das war wohl keine Zahl!\")\n",
    "    inverse=\"geht nicht\"\n",
    "except ZeroDivisionError:\n",
    "    print(\"Unendlich\")\n",
    "finally:\n",
    "    print(\"Ich habe die Sache überprüft!\")\n",
    "\n",
    "    print(\"Die inverse Zahl: \", inverse)\n"
   ]
  },
  {
   "cell_type": "markdown",
   "metadata": {},
   "source": [
    "### else-Klausel\n",
    "Die try ... except-Anweisung hat eine optionale else-Klausel. Ein else-Block muss nach allen except-Klauseln platziert werden. Eine else-Klausel wird ausgeführt, wenn die try-Klausel keine Ausnahme auslöst.\n",
    "\n",
    "Das folgende Beispiel öffnet eine Datei und liest alle Zeilen in eine Liste namens \"text\" ein:"
   ]
  },
  {
   "cell_type": "code",
   "execution_count": 19,
   "metadata": {},
   "outputs": [
    {
     "name": "stdout",
     "output_type": "stream",
     "text": [
      "Datei lässt sich nicht öffnen: trullala.txt\n"
     ]
    }
   ],
   "source": [
    "file_name = \"trullala.txt\"\n",
    "text = []\n",
    "try:\n",
    "    fh = open(file_name, 'r')\n",
    "    text = fh.readlines()\n",
    "    fh.close()\n",
    "except IOError:\n",
    "    print('Datei lässt sich nicht öffnen:', file_name)\n",
    "\n",
    "if text:\n",
    "    print(text[100])"
   ]
  },
  {
   "cell_type": "markdown",
   "metadata": {},
   "source": [
    "Im folgenden Beispiel haben wir die beiden Zeilen nach dem open-Aufruf unterhalb des else-Blockes geschrieben. Wenn es mit dem Öffnen klappt, wird die Ausführung mit dem else-Block fortgesetzt. Erfolgt jedoch eine Ausnahme, wird der else-Block übersprungen:"
   ]
  },
  {
   "cell_type": "code",
   "execution_count": 3,
   "metadata": {},
   "outputs": [
    {
     "name": "stdout",
     "output_type": "stream",
     "text": [
      "        a, b = b, a + b\n",
      "\n"
     ]
    }
   ],
   "source": [
    "import sys\n",
    "file_name = \"fibonacci.py\"\n",
    "text = []\n",
    "try:\n",
    "    fh = open(file_name, 'r')\n",
    "except IOError:\n",
    "    print('cannot open', file_name)\n",
    "else:\n",
    "    text = fh.readlines()\n",
    "    fh.close()\n",
    "\n",
    "if text:\n",
    "    print(text[10])"
   ]
  },
  {
   "cell_type": "markdown",
   "metadata": {},
   "source": [
    "<h3>Die assert-Anweisung</h3>\n",
    "Die assert-Anweisung ist für Debug-Aufgaben bestimmt: \n",
    "Sie kann als abgekürzte Schreibweise für eine bedingte raise-Anweisung angesehen werden, d.h. eine \n",
    "Ausnahme wird nur dann generiert, wenn eine bestimmte Bedingung nicht wahr ist.\n",
    "<br>\n",
    "Ohne die assert-Anweisung zu benutzen würden wir dies wie folgt in Python formulieren:\n",
    "<br>\n",
    "<pre>if not &lt;some_test&gt;:\n",
    "        raise AssertionError(&lt;message&gt;)\n",
    "</pre>\n",
    "Der folgende Code - unter Benutzung der assert-Anweisung - ist semantisch äquivalent, d.h. er hat die\n",
    "gleiche Bedeutung:\n",
    "<pre>assert &lt;some_test&gt;, &lt;message&gt;\n",
    "</pre>\n",
    "Die obige Zeile kann wie folgt \"gelesen\" werden: Falls &lt;some_test&gt; als False ausgewertet wird, wird\n",
    "eine Ausnahme generiert und &lt;message&gt; wird ausgegeben.\n",
    "<br><br>\n",
    "Beispiel:\n"
   ]
  },
  {
   "cell_type": "code",
   "execution_count": 28,
   "metadata": {},
   "outputs": [
    {
     "ename": "AssertionError",
     "evalue": "x has to be smaller than y",
     "output_type": "error",
     "traceback": [
      "\u001b[0;31m---------------------------------------------------------------------------\u001b[0m",
      "\u001b[0;31mAssertionError\u001b[0m                            Traceback (most recent call last)",
      "\u001b[0;32m<ipython-input-28-246a6fdef85a>\u001b[0m in \u001b[0;36m<module>\u001b[0;34m\u001b[0m\n\u001b[1;32m      1\u001b[0m \u001b[0mx\u001b[0m \u001b[0;34m=\u001b[0m \u001b[0;36m5\u001b[0m\u001b[0;34m\u001b[0m\u001b[0;34m\u001b[0m\u001b[0m\n\u001b[1;32m      2\u001b[0m \u001b[0my\u001b[0m \u001b[0;34m=\u001b[0m \u001b[0;36m3\u001b[0m\u001b[0;34m\u001b[0m\u001b[0;34m\u001b[0m\u001b[0m\n\u001b[0;32m----> 3\u001b[0;31m \u001b[0;32massert\u001b[0m \u001b[0mx\u001b[0m \u001b[0;34m<\u001b[0m \u001b[0my\u001b[0m\u001b[0;34m,\u001b[0m \u001b[0;34m\"x has to be smaller than y\"\u001b[0m\u001b[0;34m\u001b[0m\u001b[0;34m\u001b[0m\u001b[0m\n\u001b[0m",
      "\u001b[0;31mAssertionError\u001b[0m: x has to be smaller than y"
     ]
    }
   ],
   "source": [
    "x = 5\n",
    "y = 3\n",
    "assert x < y, \"x has to be smaller than y\"\n"
   ]
  },
  {
   "cell_type": "markdown",
   "metadata": {},
   "source": [
    "Hinweis: assert sollte nicht zum \"Fangen\" von Programmfehlern wie x / 0 benutzt werden, weil diese von Python selbst bestens erkannt und behandelt werden!\n",
    "assert sollte verwendet werden um bestimmte, vom Benutzer definierte, Einschränkungen zu \"fangen\". "
   ]
  },
  {
   "cell_type": "markdown",
   "metadata": {},
   "source": [
    "Vorsicht mit assert , in der Test-Bedingnung keine Klammern verwenden. "
   ]
  },
  {
   "cell_type": "code",
   "execution_count": 1,
   "metadata": {},
   "outputs": [
    {
     "name": "stderr",
     "output_type": "stream",
     "text": [
      "<>:1: SyntaxWarning: assertion is always true, perhaps remove parentheses?\n",
      "<>:1: SyntaxWarning: assertion is always true, perhaps remove parentheses?\n",
      "<ipython-input-1-de6b6df25933>:1: SyntaxWarning: assertion is always true, perhaps remove parentheses?\n",
      "  assert (4<3,\"This should fail\")\n"
     ]
    }
   ],
   "source": [
    "assert (4<3,\"This should fail\") #sollte sein: assert 4<3,\"This should fail\""
   ]
  },
  {
   "cell_type": "markdown",
   "metadata": {},
   "source": [
    "(4<3,\"This should fail\") ist immer True, weil ein nicht leerer Tupel immer True ist!!!!!!!"
   ]
  },
  {
   "cell_type": "code",
   "execution_count": null,
   "metadata": {},
   "outputs": [],
   "source": []
  }
 ],
 "metadata": {
  "kernelspec": {
   "display_name": "Python 3",
   "language": "python",
   "name": "python3"
  },
  "language_info": {
   "codemirror_mode": {
    "name": "ipython",
    "version": 3
   },
   "file_extension": ".py",
   "mimetype": "text/x-python",
   "name": "python",
   "nbconvert_exporter": "python",
   "pygments_lexer": "ipython3",
   "version": "3.8.8"
  }
 },
 "nbformat": 4,
 "nbformat_minor": 4
}
