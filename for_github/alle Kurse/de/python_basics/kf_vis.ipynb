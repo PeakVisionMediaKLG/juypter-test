{
 "cells": [
  {
   "cell_type": "code",
   "execution_count": 21,
   "id": "e41fd64f-8942-4792-bc98-c922def90d91",
   "metadata": {},
   "outputs": [
    {
     "name": "stdout",
     "output_type": "stream",
     "text": [
      "['Joe' 'Claire' 'Jack']\n",
      "[3 1 2]\n"
     ]
    },
    {
     "data": {
      "text/plain": [
       "<BarContainer object of 3 artists>"
      ]
     },
     "execution_count": 21,
     "metadata": {},
     "output_type": "execute_result"
    },
    {
     "data": {
      "image/png": "[encoded data removed]",
      "text/plain": [
       "<Figure size 432x288 with 1 Axes>"
      ]
     },
     "metadata": {
      "needs_background": "light"
     },
     "output_type": "display_data"
    }
   ],
   "source": [
    "l=[\"Joe\",\"Claire\",\"Joe\",\"Jack\",\"Jack\",\"Joe\"]\n",
    "l={x:l.count(x) for x in l}\n",
    "l\n",
    "import matplotlib.pyplot as mpl\n",
    "import numpy as np\n",
    "x=np.array(list(l.keys()))\n",
    "print(x)\n",
    "y=np.array(list(l.values()))\n",
    "print(y)\n",
    "mpl.barh(x,y)"
   ]
  }
 ],
 "metadata": {
  "kernelspec": {
   "display_name": "Python 3",
   "language": "python",
   "name": "python3"
  },
  "language_info": {
   "codemirror_mode": {
    "name": "ipython",
    "version": 3
   },
   "file_extension": ".py",
   "mimetype": "text/x-python",
   "name": "python",
   "nbconvert_exporter": "python",
   "pygments_lexer": "ipython3",
   "version": "3.9.2"
  }
 },
 "nbformat": 4,
 "nbformat_minor": 5
}
