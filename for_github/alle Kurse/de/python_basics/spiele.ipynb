{
 "cells": [
  {
   "cell_type": "code",
   "execution_count": null,
   "id": "67c470d6-1316-4441-8d1b-802b2fd813bd",
   "metadata": {},
   "outputs": [],
   "source": [
    "print(\"man kann auswählen aus Schere,Papier,Stein mit 0,1 oder 2\")\n",
    "l=[\"Schere\",\"Papier\",\"Stein\"]\n",
    "import random\n",
    "while True:\n",
    "    try:\n",
    "        zug=int(input(\"was nehmen Sie? Geben Sie die Zahl ein bitte!\"))\n",
    "        if zug>=0 and zug<3:\n",
    "            break\n",
    "        else:\n",
    "            print(\"Diese Zahl steht nicht zur Wahl!\")\n",
    "    except ValueError:\n",
    "        print(\"Bitte eine ganze Zahl zwischen 1 und 3 angeben\")\n",
    "\n",
    "                  \n",
    "gegner=random.randint(0,2)\n",
    "print(\"Sie :\",l[zug],\" der Gegner: \",l[gegner],\" also: \",end=\"\")\n",
    "if gegner==zug:\n",
    "    print(\"Unentschieden \")\n",
    "    \n",
    "elif : (zug,gegner) in [(0,1),(1,2),(2,0)]\n",
    "    print(\"Gewonnen \")\n",
    "else:\n",
    "    print(\"Verloren\")"
   ]
  },
  {
   "cell_type": "code",
   "execution_count": null,
   "id": "cc27423e-b06f-48eb-8926-6817e0a86f06",
   "metadata": {},
   "outputs": [],
   "source": [
    "import random\n",
    "def weight_sum(eingabe_liste): \n",
    "    return sum([kugeln[int(x)] for x in eingabe_liste]) \n",
    "falsche,gewicht_index=random.randint(0,11),random.randint(0,1)\n",
    "kugeln=[1 if kugel!= falsche else [.98,1.02][gewicht_index] for kugel in range(12)]\n",
    "#print(kugeln,gewicht_index) #zum testen einkommentieren\n",
    "for _ in range(3):\n",
    "    in_links=input(\"welche Kugeln links? Bitte mit Kommata trennen\").split(\",\")\n",
    "    in_rechts=input(\"welche Kugeln rechts? Bitte mit Kommata trennen\").split(\",\")    \n",
    "    g_links,g_rechts=weight_sum(in_links),weight_sum(in_rechts)    \n",
    "    if g_rechts==g_links:\n",
    "        print(\"Gleich schwer\")\n",
    "    else:\n",
    "        print(\"rechts runter\" if g_rechts>g_links else \"links runter\")  \n",
    "kugel_user=int(input(\"Welche Kugel ist falsch? 0...11\"))\n",
    "gewicht_user=int(input(\"zu schwer -->1, zu leicht -->0\")) \n",
    "print(\"gewonnen\" if (kugel_user==falsche and kugeln[falsche] == (0.98 if gewicht_user==0 else 1.02)) else \"leider nicht\")    "
   ]
  },
  {
   "cell_type": "code",
   "execution_count": null,
   "id": "881ae6c0-20c6-438c-8716-449c5ec6e8c2",
   "metadata": {},
   "outputs": [],
   "source": []
  }
 ],
 "metadata": {
  "kernelspec": {
   "display_name": "Python 3",
   "language": "python",
   "name": "python3"
  },
  "language_info": {
   "codemirror_mode": {
    "name": "ipython",
    "version": 3
   },
   "file_extension": ".py",
   "mimetype": "text/x-python",
   "name": "python",
   "nbconvert_exporter": "python",
   "pygments_lexer": "ipython3",
   "version": "3.8.8"
  }
 },
 "nbformat": 4,
 "nbformat_minor": 5
}
