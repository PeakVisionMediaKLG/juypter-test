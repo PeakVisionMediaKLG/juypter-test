{
 "cells": [
  {
   "cell_type": "markdown",
   "metadata": {},
   "source": [
    "## Class and Instance Attributes\n",
    "\n",
    "### Class Attributes\n",
    "<img class=\"imgright\" width=300 src=\"../images/robots_asinow.webp\" srcset=\"../images/robots_asinow_400w.webp 400w,../images/robots_asinow_350w.webp 350w,../images/robots_asinow_300w.webp 300w\" alt=\"Obey Asimov's Laws / Gehorche Asimovs Gesetzen\" />\n",
    "\n",
    "Instance attributes are owned by the specific instances of a class. That is, for two different instances, the instance attributes are usually different. You should by now be familiar with this concept which we introduced in our previous chapter.\n",
    "\n",
    "We can also define attributes at the class level. Class attributes are attributes which are owned by the class itself. They will be shared by all the instances of the class. Therefore they have the same value for every instance. We define class attributes outside all the methods, usually they are placed at the top, right below the class header.\n",
    "\n",
    "In the following interactive Python session, we can see that the class attribute \"a\" is the same for all instances, in our examples \"x\" and \"y\". Besides this, we see that we can access a class attribute via an instance or via the class name:"
   ]
  },
  {
   "cell_type": "code",
   "execution_count": 10,
   "metadata": {},
   "outputs": [
    {
     "data": {
      "text/plain": [
       "'I am a class attribute!'"
      ]
     },
     "execution_count": 10,
     "metadata": {},
     "output_type": "execute_result"
    }
   ],
   "source": [
    "class A:\n",
    "    a = \"I am a class attribute!\"\n",
    "\n",
    "x = A()\n",
    "y = A()\n",
    "x.a"
   ]
  },
  {
   "cell_type": "code",
   "execution_count": 11,
   "metadata": {},
   "outputs": [
    {
     "data": {
      "text/plain": [
       "'I am a class attribute!'"
      ]
     },
     "execution_count": 11,
     "metadata": {},
     "output_type": "execute_result"
    }
   ],
   "source": [
    "y.a"
   ]
  },
  {
   "cell_type": "code",
   "execution_count": 12,
   "metadata": {},
   "outputs": [
    {
     "data": {
      "text/plain": [
       "'I am a class attribute!'"
      ]
     },
     "execution_count": 12,
     "metadata": {},
     "output_type": "execute_result"
    }
   ],
   "source": [
    "A.a"
   ]
  },
  {
   "cell_type": "markdown",
   "metadata": {},
   "source": [
    "But be careful, if you want to change a class attribute, you have to do it with the notation ClassName.AttributeName. Otherwise, you will create a new instance variable. We demonstrate this in the following example:"
   ]
  },
  {
   "cell_type": "code",
   "execution_count": 13,
   "metadata": {},
   "outputs": [],
   "source": [
    "class A:\n",
    "    a = \"I am a class attribute!\"\n",
    " \n",
    "x = A()\n",
    "y = A()\n",
    "x.a = \"This creates a new instance attribute for x!\""
   ]
  },
  {
   "cell_type": "code",
   "execution_count": 14,
   "metadata": {},
   "outputs": [
    {
     "data": {
      "text/plain": [
       "'I am a class attribute!'"
      ]
     },
     "execution_count": 14,
     "metadata": {},
     "output_type": "execute_result"
    }
   ],
   "source": [
    "y.a"
   ]
  },
  {
   "cell_type": "code",
   "execution_count": 15,
   "metadata": {},
   "outputs": [
    {
     "data": {
      "text/plain": [
       "'I am a class attribute!'"
      ]
     },
     "execution_count": 15,
     "metadata": {},
     "output_type": "execute_result"
    }
   ],
   "source": [
    "A.a"
   ]
  },
  {
   "cell_type": "code",
   "execution_count": 16,
   "metadata": {},
   "outputs": [],
   "source": [
    "A.a = \"This is changing the class attribute 'a'!\""
   ]
  },
  {
   "cell_type": "code",
   "execution_count": 17,
   "metadata": {},
   "outputs": [
    {
     "data": {
      "text/plain": [
       "\"This is changing the class attribute 'a'!\""
      ]
     },
     "execution_count": 17,
     "metadata": {},
     "output_type": "execute_result"
    }
   ],
   "source": [
    "A.a"
   ]
  },
  {
   "cell_type": "code",
   "execution_count": 18,
   "metadata": {},
   "outputs": [
    {
     "data": {
      "text/plain": [
       "\"This is changing the class attribute 'a'!\""
      ]
     },
     "execution_count": 18,
     "metadata": {},
     "output_type": "execute_result"
    }
   ],
   "source": [
    "y.a"
   ]
  },
  {
   "cell_type": "code",
   "execution_count": 19,
   "metadata": {},
   "outputs": [
    {
     "data": {
      "text/plain": [
       "'This creates a new instance attribute for x!'"
      ]
     },
     "execution_count": 19,
     "metadata": {},
     "output_type": "execute_result"
    }
   ],
   "source": [
    "x.a\n",
    "# but x.a is still the previously created instance variable"
   ]
  },
  {
   "cell_type": "markdown",
   "metadata": {},
   "source": [
    "Python's class attributes and object attributes are stored in separate dictionaries, as we can see here:"
   ]
  },
  {
   "cell_type": "code",
   "execution_count": 20,
   "metadata": {},
   "outputs": [
    {
     "data": {
      "text/plain": [
       "{'a': 'This creates a new instance attribute for x!'}"
      ]
     },
     "execution_count": 20,
     "metadata": {},
     "output_type": "execute_result"
    }
   ],
   "source": [
    "x.__dict__"
   ]
  },
  {
   "cell_type": "code",
   "execution_count": 21,
   "metadata": {},
   "outputs": [
    {
     "data": {
      "text/plain": [
       "{}"
      ]
     },
     "execution_count": 21,
     "metadata": {},
     "output_type": "execute_result"
    }
   ],
   "source": [
    " y.__dict__"
   ]
  },
  {
   "cell_type": "code",
   "execution_count": 22,
   "metadata": {},
   "outputs": [
    {
     "data": {
      "text/plain": [
       "mappingproxy({'__module__': '__main__',\n",
       "              'a': \"This is changing the class attribute 'a'!\",\n",
       "              '__dict__': <attribute '__dict__' of 'A' objects>,\n",
       "              '__weakref__': <attribute '__weakref__' of 'A' objects>,\n",
       "              '__doc__': None})"
      ]
     },
     "execution_count": 22,
     "metadata": {},
     "output_type": "execute_result"
    }
   ],
   "source": [
    "A.__dict__"
   ]
  },
  {
   "cell_type": "code",
   "execution_count": 23,
   "metadata": {},
   "outputs": [
    {
     "data": {
      "text/plain": [
       "mappingproxy({'__module__': '__main__',\n",
       "              'a': \"This is changing the class attribute 'a'!\",\n",
       "              '__dict__': <attribute '__dict__' of 'A' objects>,\n",
       "              '__weakref__': <attribute '__weakref__' of 'A' objects>,\n",
       "              '__doc__': None})"
      ]
     },
     "execution_count": 23,
     "metadata": {},
     "output_type": "execute_result"
    }
   ],
   "source": [
    "x.__class__.__dict__"
   ]
  },
  {
   "cell_type": "markdown",
   "metadata": {},
   "source": [
    "### Example with Class Attributes\n",
    "Isaac Asimov devised and introduced the so-called \"Three Laws of Robotics\" in 1942. The appeared in his story \"Runaround\". His three laws have been picked up by many science fiction writers. As we have started manufacturing robots in Python, it's high time to make sure that they obey Asimovs three laws. As they are the same for every instance, i.e. robot, we will create a class attribute Three_Laws. This attribute is a tuple with the three laws."
   ]
  },
  {
   "cell_type": "code",
   "execution_count": 29,
   "metadata": {},
   "outputs": [],
   "source": [
    "class Robot:\n",
    "\n",
    "    Three_Laws = (\n",
    "\"\"\"A robot may not injure a human being or, through inaction, allow a human being to come to harm.\"\"\",\n",
    "\"\"\"A robot must obey the orders given to it by human beings, except where such orders would conflict with the First Law.,\"\"\",\n",
    "\"\"\"A robot must protect its own existence as long as such protection does not conflict with the First or Second Law.\"\"\"\n",
    ")\n",
    "    def __init__(self, name, build_year):\n",
    "        self.name = name\n",
    "        self.build_year = build_year\n",
    "\n",
    "    # other methods as usual"
   ]
  },
  {
   "cell_type": "markdown",
   "metadata": {},
   "source": [
    "As we mentioned before, we can access a class attribute via instance or via the class name. You can see in the following that we don't need an instance:"
   ]
  },
  {
   "cell_type": "code",
   "execution_count": 32,
   "metadata": {},
   "outputs": [
    {
     "name": "stdout",
     "output_type": "stream",
     "text": [
      "1:\n",
      "A robot may not injure a human being or, through inaction, allow a human being to come to harm.\n",
      "2:\n",
      "A robot must obey the orders given to it by human beings, except where such orders would conflict with the First Law.,\n",
      "3:\n",
      "A robot must protect its own existence as long as such protection does not conflict with the First or Second Law.\n"
     ]
    }
   ],
   "source": [
    "from robot_asimov import Robot\n",
    "for number, text in enumerate(Robot.Three_Laws):\n",
    "    print(str(number+1) + \":\\n\" + text) "
   ]
  },
  {
   "cell_type": "markdown",
   "metadata": {},
   "source": [
    "In the following example, we demonstrate, how you can count instance with class attributes. All we have to do is\n",
    "\n",
    "- to create a class attribute, which we call \"counter\" in our example\n",
    "- to increment this attribute by 1 every time a new instance is created\n",
    "- to decrement the attribute by 1 every time an instance is destroyed"
   ]
  },
  {
   "cell_type": "code",
   "execution_count": 33,
   "metadata": {},
   "outputs": [
    {
     "name": "stdout",
     "output_type": "stream",
     "text": [
      "Number of instances: : 1\n",
      "Number of instances: : 2\n",
      "Number of instances: : 1\n",
      "Number of instances: : 0\n"
     ]
    }
   ],
   "source": [
    "class C: \n",
    "\n",
    "    counter = 0\n",
    "    \n",
    "    def __init__(self): \n",
    "        type(self).counter += 1\n",
    "\n",
    "    def __del__(self):\n",
    "        type(self).counter -= 1\n",
    "\n",
    "if __name__ == \"__main__\":\n",
    "    x = C()\n",
    "    print(\"Number of instances: : \" + str(C.counter))\n",
    "    y = C()\n",
    "    print(\"Number of instances: : \" + str(C.counter))\n",
    "    del x\n",
    "    print(\"Number of instances: : \" + str(C.counter))\n",
    "    del y\n",
    "    print(\"Number of instances: : \" + str(C.counter))"
   ]
  },
  {
   "cell_type": "markdown",
   "metadata": {},
   "source": [
    "Principially, we could have written C.counter instead of type(self).counter, because type(self) will be evaluated to \"C\" anyway. However we will understand later, that type(self) makes sense, if we use such a class as a superclass."
   ]
  },
  {
   "cell_type": "markdown",
   "metadata": {},
   "source": [
    "### Static Methods\n",
    "We used class attributes as public attributes in the previous section. Of course, we can make public attributes private as well. We can do this by adding the double underscore again. If we do so, we need a possibility to access and change these private class attributes. We could use instance methods for this purpose:"
   ]
  },
  {
   "cell_type": "code",
   "execution_count": 34,
   "metadata": {},
   "outputs": [
    {
     "name": "stdout",
     "output_type": "stream",
     "text": [
      "1\n",
      "2\n"
     ]
    }
   ],
   "source": [
    "class Robot:\n",
    "    __counter = 0\n",
    "    \n",
    "    def __init__(self):\n",
    "        type(self).__counter += 1\n",
    "        \n",
    "    def RobotInstances(self):\n",
    "        return Robot.__counter\n",
    "        \n",
    "\n",
    "if __name__ == \"__main__\":\n",
    "    x = Robot()\n",
    "    print(x.RobotInstances())\n",
    "    y = Robot()\n",
    "    print(x.RobotInstances())"
   ]
  },
  {
   "cell_type": "markdown",
   "metadata": {},
   "source": [
    "This is not a good idea for two reasons: First of all, because the number of robots has nothing to do with a single robot instance and secondly because we can't inquire the number of robots before we create an instance.\n",
    "If we try to invoke the method with the class name Robot.RobotInstances(), we get an error message, because it needs an instance as an argument:"
   ]
  },
  {
   "cell_type": "code",
   "execution_count": 35,
   "metadata": {},
   "outputs": [
    {
     "ename": "TypeError",
     "evalue": "RobotInstances() missing 1 required positional argument: 'self'",
     "output_type": "error",
     "traceback": [
      "\u001b[1;31m---------------------------------------------------------------------------\u001b[0m",
      "\u001b[1;31mTypeError\u001b[0m                                 Traceback (most recent call last)",
      "\u001b[1;32m<ipython-input-35-f53600e3296e>\u001b[0m in \u001b[0;36m<module>\u001b[1;34m\u001b[0m\n\u001b[1;32m----> 1\u001b[1;33m \u001b[0mRobot\u001b[0m\u001b[1;33m.\u001b[0m\u001b[0mRobotInstances\u001b[0m\u001b[1;33m(\u001b[0m\u001b[1;33m)\u001b[0m\u001b[1;33m\u001b[0m\u001b[1;33m\u001b[0m\u001b[0m\n\u001b[0m",
      "\u001b[1;31mTypeError\u001b[0m: RobotInstances() missing 1 required positional argument: 'self'"
     ]
    }
   ],
   "source": [
    "Robot.RobotInstances()"
   ]
  },
  {
   "cell_type": "markdown",
   "metadata": {},
   "source": [
    "The next idea, which still doesn't solve our problem, is omitting the parameter \"self\":"
   ]
  },
  {
   "cell_type": "code",
   "execution_count": 38,
   "metadata": {},
   "outputs": [],
   "source": [
    "class Robot:\n",
    "    __counter = 0\n",
    "    \n",
    "    def __init__(self):\n",
    "        type(self).__counter += 1\n",
    "        \n",
    "    def RobotInstances():\n",
    "        return Robot.__counter"
   ]
  },
  {
   "cell_type": "markdown",
   "metadata": {},
   "source": [
    "Now it's possible to access the method via the class name, but we can't call it via an instance:"
   ]
  },
  {
   "cell_type": "code",
   "execution_count": 39,
   "metadata": {},
   "outputs": [
    {
     "data": {
      "text/plain": [
       "0"
      ]
     },
     "execution_count": 39,
     "metadata": {},
     "output_type": "execute_result"
    }
   ],
   "source": [
    "from static_methods2 import Robot\n",
    "Robot.RobotInstances()"
   ]
  },
  {
   "cell_type": "code",
   "execution_count": 40,
   "metadata": {},
   "outputs": [
    {
     "ename": "TypeError",
     "evalue": "RobotInstances() takes 0 positional arguments but 1 was given",
     "output_type": "error",
     "traceback": [
      "\u001b[1;31m---------------------------------------------------------------------------\u001b[0m",
      "\u001b[1;31mTypeError\u001b[0m                                 Traceback (most recent call last)",
      "\u001b[1;32m<ipython-input-40-4d5e11c3474a>\u001b[0m in \u001b[0;36m<module>\u001b[1;34m\u001b[0m\n\u001b[0;32m      1\u001b[0m \u001b[0mx\u001b[0m \u001b[1;33m=\u001b[0m \u001b[0mRobot\u001b[0m\u001b[1;33m(\u001b[0m\u001b[1;33m)\u001b[0m\u001b[1;33m\u001b[0m\u001b[1;33m\u001b[0m\u001b[0m\n\u001b[1;32m----> 2\u001b[1;33m \u001b[0mx\u001b[0m\u001b[1;33m.\u001b[0m\u001b[0mRobotInstances\u001b[0m\u001b[1;33m(\u001b[0m\u001b[1;33m)\u001b[0m\u001b[1;33m\u001b[0m\u001b[1;33m\u001b[0m\u001b[0m\n\u001b[0m",
      "\u001b[1;31mTypeError\u001b[0m: RobotInstances() takes 0 positional arguments but 1 was given"
     ]
    }
   ],
   "source": [
    "x = Robot()\n",
    "x.RobotInstances()"
   ]
  },
  {
   "cell_type": "markdown",
   "metadata": {},
   "source": [
    "The call \"x.RobotInstances()\" is treated as an instance method call and an instance method needs a reference to the instance as the first parameter.\n",
    "\n",
    "So, what do we want? We want a method, which we can call via the class name or via the instance name without the necessity of passing a reference to an instance to it.\n",
    "\n",
    "The solution lies in static methods, which don't need a reference to an instance.\n",
    "It's easy to turn a method into a static method. All we have to do is to add a line with \"@staticmethod\" directly in front of the method header. It's the decorator syntax.\n",
    "\n",
    "You can see in the following example that we can now use our method RobotInstances the way we want:"
   ]
  },
  {
   "cell_type": "code",
   "execution_count": 41,
   "metadata": {},
   "outputs": [
    {
     "name": "stdout",
     "output_type": "stream",
     "text": [
      "0\n",
      "1\n",
      "2\n",
      "2\n"
     ]
    }
   ],
   "source": [
    "class Robot:\n",
    "    __counter = 0\n",
    "    \n",
    "    def __init__(self):\n",
    "        type(self).__counter += 1\n",
    "        \n",
    "    @staticmethod\n",
    "    def RobotInstances():\n",
    "        return Robot.__counter\n",
    "        \n",
    "\n",
    "if __name__ == \"__main__\":\n",
    "    print(Robot.RobotInstances())\n",
    "    x = Robot()\n",
    "    print(x.RobotInstances())\n",
    "    y = Robot()\n",
    "    print(x.RobotInstances())\n",
    "    print(Robot.RobotInstances())"
   ]
  },
  {
   "cell_type": "markdown",
   "metadata": {},
   "source": [
    "### Class Methods\n",
    "Static methods shouldn't be confused with class methods. Like static methods class methods are not bound to instances, but unlike static methods class methods are bound to a class. The first parameter of a class method is a reference to a class, i.e. a class object. They can be called via an instance or the class name."
   ]
  },
  {
   "cell_type": "code",
   "execution_count": 7,
   "metadata": {},
   "outputs": [
    {
     "name": "stdout",
     "output_type": "stream",
     "text": [
      "(<class '__main__.Robot'>, 0)\n",
      "(<class '__main__.Robot'>, 1)\n",
      "(<class '__main__.Robot'>, 2)\n",
      "(<class '__main__.Robot'>, 2)\n"
     ]
    }
   ],
   "source": [
    "class Robot:\n",
    "    __counter = 0\n",
    "    \n",
    "    def __init__(self):\n",
    "        type(self).__counter += 1\n",
    "        \n",
    "    @classmethod\n",
    "    def RobotInstances(cls):\n",
    "        return cls, Robot.__counter\n",
    "        \n",
    "\n",
    "if __name__ == \"__main__\":\n",
    "    print(Robot.RobotInstances())\n",
    "    x = Robot()\n",
    "    print(x.RobotInstances())\n",
    "    y = Robot()\n",
    "    print(x.RobotInstances())\n",
    "    print(Robot.RobotInstances())"
   ]
  },
  {
   "cell_type": "markdown",
   "metadata": {},
   "source": [
    "The use cases of class methods:\n",
    "\n",
    "- They are used in the definition of the so-called factory methods, which we will not cover here.\n",
    "- They are often used, where we have static methods, which have to call other static methods. To do this, we would have to hard code the class name, if we had to use static methods. This is a problem, if we are in a use case, where we have inherited classes.\n",
    "\n",
    "The following program contains a fraction class, which is still not complete. If you work with fractions, you need to be capable of reducing fractions, e.g. the fraction 8/24 can be reduced to 1/3. We can reduce a fraction to lowest terms by dividing both the numerator and denominator by the Greatest Common Divisor (GCD).\n",
    "\n",
    "We have defined a static gcd function to calculate the greatest common divisor of two numbers. the greatest common divisor (gcd) of two or more integers (at least one of which is not zero), is the largest positive integer that divides the numbers without a remainder. For example, the 'GCD of 8 and 24 is 8. The static method \"gcd\" is called by our class method \"reduce\" with \"cls.gcd(n1, n2)\". \"CLS\" is a reference to \"fraction\"."
   ]
  },
  {
   "cell_type": "code",
   "execution_count": 44,
   "metadata": {},
   "outputs": [],
   "source": [
    "class fraction(object):\n",
    "\n",
    "    def __init__(self, n, d):\n",
    "        self.numerator, self.denominator = fraction.reduce(n, d)\n",
    "        \n",
    "\n",
    "    @staticmethod\n",
    "    def gcd(a,b):\n",
    "        while b != 0:\n",
    "            a, b = b, a%b\n",
    "        return a\n",
    "\n",
    "    @classmethod\n",
    "    def reduce(cls, n1, n2):\n",
    "        g = cls.gcd(n1, n2)\n",
    "        return (n1 // g, n2 // g)\n",
    "\n",
    "    def __str__(self):\n",
    "        return str(self.numerator)+'/'+str(self.denominator)"
   ]
  },
  {
   "cell_type": "markdown",
   "metadata": {},
   "source": [
    "Using this class:"
   ]
  },
  {
   "cell_type": "code",
   "execution_count": 45,
   "metadata": {},
   "outputs": [
    {
     "name": "stdout",
     "output_type": "stream",
     "text": [
      "1/3\n"
     ]
    }
   ],
   "source": [
    "from fraction1 import fraction\n",
    "x = fraction(8,24)\n",
    "print(x)"
   ]
  },
  {
   "cell_type": "markdown",
   "metadata": {},
   "source": [
    "### Class Methods vs. Static Methods and Instance Methods\n",
    "Our last example will demonstrate  the usefulness of class methods in inheritance. We define a class `Pet` with a method `about`. This method should give some general class information. The class `Cat` will be inherited both in the subclass `Dog` and `Cat`. The method `about` will be inherited as well. We will demonstrate that we will encounter problems, if we define the method `about` as a normal instance method or as a static method. We will start by defining `about` as an instance method:"
   ]
  },
  {
   "cell_type": "code",
   "execution_count": 46,
   "metadata": {},
   "outputs": [
    {
     "name": "stdout",
     "output_type": "stream",
     "text": [
      "This class is about pet animals!\n",
      "This class is about man's best friends!\n",
      "This class is about all kinds of cats!\n"
     ]
    }
   ],
   "source": [
    "class Pet:\n",
    "    _class_info = \"pet animals\"\n",
    "\n",
    "    def about(self):\n",
    "        print(\"This class is about \" + self._class_info + \"!\")   \n",
    "    \n",
    "\n",
    "class Dog(Pet):\n",
    "    _class_info = \"man's best friends\"\n",
    "\n",
    "class Cat(Pet):\n",
    "    _class_info = \"all kinds of cats\"\n",
    "\n",
    "p = Pet()\n",
    "p.about()\n",
    "d = Dog()\n",
    "d.about()\n",
    "c = Cat()\n",
    "c.about()"
   ]
  },
  {
   "cell_type": "markdown",
   "metadata": {},
   "source": [
    "This may look alright at first at first glance. On second thought we recognize the awful design. We had to create instances of the `Pet`, `Dog` and `Cat` classes to be able to ask what the class is about. It would be a lot better, if we could just write `Pet.about()`, `Dog.about()` and `Cat.about()` to get the previous result. We cannot do this. We will have to write `Pet.about(p)`, `Dog.about(d)` and `Cat.about(c)` instead.\n",
    "\n",
    "Now, we will define the method `about` as a \"staticmethod\" to show the disadvantage of this approach. As we have learned previously in our tutorial, a staticmethod does not have a first parameter with a reference to an object. So about will have no parameters at all. Due to this, we are now capable of calling \"about\" without the necessity of passing an instance as a parameter, i.e. `Pet.about()`, `Dog.about()` and `Cat.about()`. Yet, a problem lurks in the definition of `about`. The only way to access the class info ```_class_info``` is putting a class name in front. We arbitrarily put in `Pet`. We could have put there `Cat` or `Dog` as well. No matter what we do, the solution will not be what we want:"
   ]
  },
  {
   "cell_type": "code",
   "execution_count": 47,
   "metadata": {},
   "outputs": [
    {
     "name": "stdout",
     "output_type": "stream",
     "text": [
      "This class is about pet animals!\n",
      "This class is about pet animals!\n",
      "This class is about pet animals!\n"
     ]
    }
   ],
   "source": [
    "class Pet:\n",
    "    _class_info = \"pet animals\"\n",
    "\n",
    "    @staticmethod\n",
    "    def about():\n",
    "        print(\"This class is about \" + Pet._class_info + \"!\")   \n",
    "    \n",
    "\n",
    "class Dog(Pet):\n",
    "    _class_info = \"man's best friends\"\n",
    "\n",
    "class Cat(Pet):\n",
    "    _class_info = \"all kinds of cats\"\n",
    "\n",
    "Pet.about()\n",
    "Dog.about()\n",
    "Cat.about()"
   ]
  },
  {
   "cell_type": "markdown",
   "metadata": {},
   "source": [
    "In other words, we have no way of differenciating between the class `Pet` and its subclasses `Dog` and `Cat`. The problem is that the method `about` does not know that it has been called via the `Pet` the `Dog` or the `Cat` class.\n",
    "\n",
    "A classmethod is the solution to all our problems. We will decorate `about` with a classmethod decorator instead of a staticmethod decorator:"
   ]
  },
  {
   "cell_type": "code",
   "execution_count": 48,
   "metadata": {},
   "outputs": [
    {
     "name": "stdout",
     "output_type": "stream",
     "text": [
      "This class is about pet animals!\n",
      "This class is about man's best friends!\n",
      "This class is about all kinds of cats!\n"
     ]
    }
   ],
   "source": [
    "class Pet:\n",
    "    _class_info = \"pet animals\"\n",
    "\n",
    "    @classmethod\n",
    "    def about(cls):\n",
    "        print(\"This class is about \" + cls._class_info + \"!\")   \n",
    "    \n",
    "\n",
    "class Dog(Pet):\n",
    "    _class_info = \"man's best friends\"\n",
    "\n",
    "class Cat(Pet):\n",
    "    _class_info = \"all kinds of cats\"\n",
    "\n",
    "Pet.about()\n",
    "Dog.about()\n",
    "Cat.about()"
   ]
  }
 ],
 "metadata": {
  "kernelspec": {
   "display_name": "Python 3",
   "language": "python",
   "name": "python3"
  },
  "language_info": {
   "codemirror_mode": {
    "name": "ipython",
    "version": 3
   },
   "file_extension": ".py",
   "mimetype": "text/x-python",
   "name": "python",
   "nbconvert_exporter": "python",
   "pygments_lexer": "ipython3",
   "version": "3.8.8"
  }
 },
 "nbformat": 4,
 "nbformat_minor": 4
}
