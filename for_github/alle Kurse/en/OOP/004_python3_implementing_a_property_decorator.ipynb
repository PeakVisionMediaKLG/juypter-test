{
 "cells": [
  {
   "cell_type": "markdown",
   "metadata": {},
   "source": [
    "## Deeper into Properties\n",
    "\n",
    "<img width=\"30%\" class=\"imgright\" src=\"../images/property.webp\" srcset=\"../images/property_350w.webp 350w,../images/property_300w.webp 300w\" alt=\"property\" />\n",
    "\n",
    "\n",
    "In the previous chapter of our tutorial, we learned how to create and use properties in a class. The main objective was to understand them as a way to get rid of explicit getters and setters and have a simple class interface. This is usually enough to know for most programmers and for practical use cases and they will not need more. \n",
    "\n",
    "If you want to know more about how 'property' works, you can go one step further with us. By doing this, you can improve your coding skills and get a deeper insight and understanding of Python. We will have a look at the way the \"property\" decorator could be implemented in Python code. (It is implemented in C code in reality!)  By doing this, the way of working will be clearer. Everything is based on the descriptor protocol, which we will explain later. \n",
    "\n",
    "We define a class with the name 'our_property' so that it will not be mistaken for the existing 'property' class. This class can be used like the 'real' property class."
   ]
  },
  {
   "cell_type": "code",
   "execution_count": 1,
   "metadata": {},
   "outputs": [],
   "source": [
    "class our_property:\n",
    "    \"\"\" emulation of the property class \n",
    "        for educational purposes \"\"\"\n",
    "\n",
    "    def __init__(self, \n",
    "                 fget=None, \n",
    "                 fset=None, \n",
    "                 fdel=None, \n",
    "                 doc=None):\n",
    "        \"\"\"Attributes of 'our_decorator'\n",
    "        fget\n",
    "            function to be used for getting \n",
    "            an attribute value\n",
    "        fset\n",
    "            function to be used for setting \n",
    "            an attribute value\n",
    "        fdel\n",
    "            function to be used for deleting \n",
    "            an attribute\n",
    "        doc\n",
    "            the docstring\n",
    "        \"\"\"\n",
    "        self.fget = fget\n",
    "        self.fset = fset\n",
    "        self.fdel = fdel\n",
    "        if doc is None and fget is not None:\n",
    "            doc = fget.__doc__\n",
    "        self.__doc__ = doc\n",
    "\n",
    "    def __get__(self, obj, objtype=None):\n",
    "        if obj is None:\n",
    "            return self\n",
    "        if self.fget is None:\n",
    "            raise AttributeError(\"unreadable attribute\")\n",
    "        return self.fget(obj)\n",
    "\n",
    "    def __set__(self, obj, value):\n",
    "        if self.fset is None:\n",
    "            raise AttributeError(\"can't set attribute\")\n",
    "        self.fset(obj, value)\n",
    "\n",
    "    def __delete__(self, obj):\n",
    "        if self.fdel is None:\n",
    "            raise AttributeError(\"can't delete attribute\")\n",
    "        self.fdel(obj)\n",
    "\n",
    "    def getter(self, fget):\n",
    "        return type(self)(fget, self.fset, self.fdel, self.__doc__)\n",
    "\n",
    "    def setter(self, fset):\n",
    "        return type(self)(self.fget, fset, self.fdel, self.__doc__)\n",
    "\n",
    "    def deleter(self, fdel):\n",
    "        return type(self)(self.fget, self.fset, fdel, self.__doc__)"
   ]
  },
  {
   "cell_type": "markdown",
   "metadata": {},
   "source": [
    "We need another class to use the previously defined class and to demonstrate  how the property class decorator works.  To  continue the tradition of the previous chapters of our Python tutorial we will again write a Robot class. We will define a property in this example class to demonstrate the usage of our previously defined property class or better 'our_decorator' class. When you run the code, you can see ```__init__``` of 'our_property' will be called 'fget' set to a reference to the 'getter' function of 'city'. The attribute 'city' is an instance of the 'our_property' class. The 'our'property' class provides another decorator 'setter' for the setter functionality. We apply this with '@city.setter'"
   ]
  },
  {
   "cell_type": "code",
   "execution_count": 2,
   "metadata": {},
   "outputs": [],
   "source": [
    "class Robot:\n",
    "    \n",
    "    def __init__(self, city):\n",
    "        self.city = city\n",
    "        \n",
    "    @our_property\n",
    "    def city(self):\n",
    "        print(\"The Property 'city' will be returned now:\")\n",
    "        return self.__city\n",
    "    \n",
    "    @city.setter\n",
    "    def city(self, city):\n",
    "        print(\"'city' will be set\")\n",
    "        self.__city = city"
   ]
  },
  {
   "cell_type": "markdown",
   "metadata": {},
   "source": [
    "'Robot.city' is an instance of the 'our_property' class as we can see in the following:"
   ]
  },
  {
   "cell_type": "code",
   "execution_count": 3,
   "metadata": {},
   "outputs": [
    {
     "data": {
      "text/plain": [
       "__main__.our_property"
      ]
     },
     "execution_count": 3,
     "metadata": {},
     "output_type": "execute_result"
    }
   ],
   "source": [
    "type(Robot.city)"
   ]
  },
  {
   "cell_type": "markdown",
   "metadata": {},
   "source": [
    "If you change the line '@our_property' to '@property' the program will behave totally the same, but it will be using the original Python class 'property' and not our 'our_property' class. We will create instances of the Robot class in the following Python code:"
   ]
  },
  {
   "cell_type": "code",
   "execution_count": 4,
   "metadata": {},
   "outputs": [
    {
     "name": "stdout",
     "output_type": "stream",
     "text": [
      "Instantiating a Root and setting 'city' to 'Berlin'\n",
      "'city' will be set\n",
      "The Property 'city' will be returned now:\n",
      "The value is:  Berlin\n",
      "Our robot moves now to Frankfurt:\n",
      "'city' will be set\n",
      "The Property 'city' will be returned now:\n",
      "The value is:  Frankfurt\n"
     ]
    }
   ],
   "source": [
    "print(\"Instantiating a Root and setting 'city' to 'Berlin'\")\n",
    "robo = Robot(\"Berlin\")\n",
    "print(\"The value is: \", robo.city)\n",
    "print(\"Our robot moves now to Frankfurt:\")\n",
    "robo.city = \"Frankfurt\"\n",
    "print(\"The value is: \", robo.city)"
   ]
  },
  {
   "cell_type": "markdown",
   "metadata": {},
   "source": [
    "Let's make our property  implementation a little bit more talkative with some print functions to see what is going on. We also change the name to 'chatty_property' for obvious reasons:"
   ]
  },
  {
   "cell_type": "code",
   "execution_count": 3,
   "metadata": {},
   "outputs": [],
   "source": [
    "class chatty_property:\n",
    "    \"\"\" emulation of the property class \n",
    "        for educational purposes \"\"\"\n",
    "\n",
    "    def __init__(self, \n",
    "                 fget=None, \n",
    "                 fset=None, \n",
    "                 fdel=None, \n",
    "                 doc=None):\n",
    "        \n",
    "        self.fget = fget\n",
    "        self.fset = fset\n",
    "        self.fdel = fdel\n",
    "        print(\"\\n__init__ called with:)\")\n",
    "        print(f\"fget={fget}, fset={fset}, fdel={fdel}, doc={doc}\")\n",
    "        if doc is None and fget is not None:\n",
    "            print(f\"doc set to docstring of {fget.__name__} method\")\n",
    "            doc = fget.__doc__\n",
    "        self.__doc__ = doc\n",
    "\n",
    "    def __get__(self, obj, objtype=None):\n",
    "        if obj is None:\n",
    "            return self\n",
    "        if self.fget is None:\n",
    "            raise AttributeError(\"unreadable attribute\")\n",
    "        return self.fget(obj)\n",
    "\n",
    "    def __set__(self, obj, value):\n",
    "        if self.fset is None:\n",
    "            raise AttributeError(\"can't set attribute\")\n",
    "        self.fset(obj, value)\n",
    "\n",
    "    def __delete__(self, obj):\n",
    "        if self.fdel is None:\n",
    "            raise AttributeError(\"can't delete attribute\")\n",
    "        self.fdel(obj)\n",
    "\n",
    "    def getter(self, fget):\n",
    "        return type(self)(fget, self.fset, self.fdel, self.__doc__)\n",
    "\n",
    "    def setter(self, fset):\n",
    "        print(type(self))\n",
    "        return type(self)(self.fget, fset, self.fdel, self.__doc__)\n",
    "\n",
    "    def deleter(self, fdel):\n",
    "        return type(self)(self.fget, self.fset, fdel, self.__doc__)"
   ]
  },
  {
   "cell_type": "code",
   "execution_count": 4,
   "metadata": {},
   "outputs": [
    {
     "name": "stdout",
     "output_type": "stream",
     "text": [
      "\n",
      "__init__ called with:)\n",
      "fget=<function Robot.city at 0x000002825C9420D8>, fset=None, fdel=None, doc=None\n",
      "doc set to docstring of city method\n",
      "<class '__main__.chatty_property'>\n",
      "\n",
      "__init__ called with:)\n",
      "fget=<function Robot.city at 0x000002825C9420D8>, fset=<function Robot.city at 0x000002825C9425E8>, fdel=None, doc= city attribute of Robot \n"
     ]
    }
   ],
   "source": [
    "class Robot:\n",
    "    \n",
    "    def __init__(self, city):\n",
    "        self.city = city\n",
    "        \n",
    "    @chatty_property\n",
    "    def city(self):\n",
    "        \"\"\" city attribute of Robot \"\"\"\n",
    "        print(\"The Property 'city' will be returned now:\")\n",
    "        return self.__city\n",
    "    \n",
    "    @city.setter\n",
    "    def city(self, city):\n",
    "        print(\"'city' will be set\")\n",
    "        self.__city = city"
   ]
  },
  {
   "cell_type": "code",
   "execution_count": 7,
   "metadata": {},
   "outputs": [
    {
     "name": "stdout",
     "output_type": "stream",
     "text": [
      "'city' will be set\n"
     ]
    }
   ],
   "source": [
    "robo = Robot(\"Berlin\")"
   ]
  }
 ],
 "metadata": {
  "kernelspec": {
   "display_name": "Python 3",
   "language": "python",
   "name": "python3"
  },
  "language_info": {
   "codemirror_mode": {
    "name": "ipython",
    "version": 3
   },
   "file_extension": ".py",
   "mimetype": "text/x-python",
   "name": "python",
   "nbconvert_exporter": "python",
   "pygments_lexer": "ipython3",
   "version": "3.8.8"
  }
 },
 "nbformat": 4,
 "nbformat_minor": 4
}
