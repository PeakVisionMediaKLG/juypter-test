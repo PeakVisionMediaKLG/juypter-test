{
 "cells": [
  {
   "cell_type": "markdown",
   "metadata": {},
   "source": [
    "## Descriptors\n",
    "\n",
    "<img width=\"60%\" class=\"imgright\" src=\"../images/phaistos_disc.webp\" srcset=\"../images/phaistos_disc_500w.webp 500w,../images/phaistos_disc_400w.webp 400w,../images/phaistos_disc_350w.webp 350w,../images/phaistos_disc_300w.webp 300w\" alt=\"property\" />\n",
    "\n",
    "In the previous two chapters of our Python tutorial, we learned how to use [Python properties](python3_properties.php) and even how to implement a custom-made property class. In this chapter you will learn  the details of descriptors. \n",
    "\n",
    "Descriptors were introduced to Python in version 2.2. That time the \"What's New in Python2.2\" mentioned: \"The one big idea underlying the new class model is that an API for describing the attributes of an object using descriptors has been formalized. Descriptors specify the value of an attribute, stating whether it’s a method or a field. With the descriptor API, static methods and class methods become possible, as well as more exotic constructs.\" \n",
    "\n",
    "A descriptor is an object attribute with \"binding behavior\", one whose attribute access has been overridden by methods in the descriptor protocol. Those methods are ```__get__()```,  ```__set__()```, and   ```__delete__()```. \n",
    "\n",
    "If any of those methods are defined for an object, it is said to be a descriptor.\n",
    "\n",
    "\n",
    "Their purpose consists in providing programmers with the ability to add managed attributes to classes. The descriptors are introduced to get, set or delete attributes from the object's ```__dict__``` dictionary via the above mentioned methods.  Accessing a class attribute will start the lookup chain. \n",
    "\n",
    "\n",
    "\n",
    "Let a closer look at what is happening. Assuming we have an object ```obj```: What happens if we try to access an attribute (or property) ```ap```? \"Accesssing\" the attribute means to \"get\" the value, so the attribute is used for example in a print function or inside of an expression. Both the ```obj``` and the class belong to ```type(obj)``` contain a dictionary attribute ```__dict__```. This situation is viuslaized in the following diagram:\n",
    "\n",
    "<img width=\"40%\" src=\"../images/lookup_chain_properties.webp\" srcset=\"../images/lookup_chain_properties_700w.webp 700w,../images/lookup_chain_properties_600w.webp 600w,../images/lookup_chain_properties_500w.webp 500w,../images/lookup_chain_properties_400w.webp 400w,../images/lookup_chain_properties_350w.webp 350w,../images/lookup_chain_properties_300w.webp 300w\" alt=\"lookupchain for attributes and properties\" />\n",
    "\n",
    "```obj.ap``` has a lookup chain starting with ```obj.__dict__['ap']```, i.e. checks if ```obj.ap``` is a key of the dictionary ```obj.__dict__['ap']```.\n",
    "\n",
    "<img width=\"40%\" src=\"../images/lookup_chain_properties2.webp\" srcset=\"../images/lookup_chain_properties2_700w.webp 700w,../images/lookup_chain_properties2_600w.webp 600w,../images/lookup_chain_properties2_500w.webp 500w,../images/lookup_chain_properties2_400w.webp 400w,../images/lookup_chain_properties2_350w.webp 350w,../images/lookup_chain_properties2_300w.webp 300w\" alt=\"lookupchain for attributes and properties, check if ```ap``` in obj.__dict__\" />\n",
    "\n",
    "If ```ap``` is not a key of ```obj.__dict__```, it will try to lookup ```type(obj).__dict__['ap']```. \n",
    "\n",
    "<img width=\"40%\" src=\"../images/lookup_chain_properties3.webp\" srcset=\"../images/lookup_chain_properties3_700w.webp 700w,../images/lookup_chain_properties3_600w.webp 600w,../images/lookup_chain_properties3_500w.webp 500w,../images/lookup_chain_properties3_400w.webp 400w,../images/lookup_chain_properties3_350w.webp 350w,../images/lookup_chain_properties3_300w.webp 300w\" alt=\"lookupchain for attributes and properties, check if ```ap``` in type(obj).__dict__\" />\n",
    "\n",
    "\n",
    "If ```obj``` is not contained in this dictionary either, it will continue checking through the base classes of ```type(ap)``` excluding metaclasses. \n",
    "\n",
    "\n",
    "We demonstrate this in an example:"
   ]
  },
  {
   "cell_type": "code",
   "execution_count": 1,
   "metadata": {},
   "outputs": [
    {
     "name": "stdout",
     "output_type": "stream",
     "text": [
      "instance attribute of A instance\n",
      "class attribute of B\n",
      "instance attribute of A instance\n",
      "class attribute of A\n"
     ]
    }
   ],
   "source": [
    "class A:\n",
    "    \n",
    "    ca_A = \"class attribute of A\"\n",
    "    \n",
    "    def __init__(self):\n",
    "        self.ia_A = \"instance attribute of A instance\"\n",
    "        \n",
    "class B(A):\n",
    " \n",
    "    ca_B = \"class attribute of B\"\n",
    "    \n",
    "    def __init__(self):\n",
    "        super().__init__()\n",
    "        self.ia_B = \"instance attribute of A instance\"\n",
    "\n",
    "x = B()\n",
    "\n",
    "print(x.ia_B)\n",
    "print(x.ca_B)\n",
    "print(x.ia_A)\n",
    "print(x.ca_A)"
   ]
  },
  {
   "cell_type": "markdown",
   "metadata": {},
   "source": [
    "If we call ```print(x.non_existing)``` we get the following exception:\n",
    "    \n",
    "```\n",
    "---------------------------------------------------------------------------\n",
    "AttributeError                            Traceback (most recent call last)\n",
    "<ipython-input-4-119192d61d5e> in <module>\n",
    "----> 1 print(x.non_existing)\n",
    "\n",
    "AttributeError: 'B' object has no attribute 'non_existing'\n",
    "```"
   ]
  },
  {
   "cell_type": "markdown",
   "metadata": {},
   "source": [
    "\n",
    "\n",
    "If the looked-up value is an object defining one of the descriptor methods, then Python may override the default behavior and invoke the descriptor method instead. Where this occurs in the precedence chain depends on which descriptor methods were defined. \n",
    "\n",
    "Descriptors provide a powerful, general purpose protocol, which is the underlying mechanism behind properties, methods, static methods, class methods, and super(). Descriptors were needed to implement the so-called new style classes introduced in version 2.2. The \"new style classes\" are the default nowadays.\n",
    "\n",
    "\n",
    "### Descriptor Protocol\n",
    "\n",
    "The general descriptor protocol consists of three methods:\n",
    "\n",
    "```\n",
    "descr.__get__(self, obj, type=None) -> value\n",
    "\n",
    "descr.__set__(self, obj, value) -> None\n",
    "\n",
    "descr.__delete__(self, obj) -> None\n",
    "```\n",
    "\n",
    "If you define one or more of these methods, you will create a descriptor.\n",
    "We distinguish between data descriptors and non-data descriptors:\n",
    "\n",
    " <dl>\n",
    "  <dt><b>non-data descriptor</b></dt>\n",
    "  <dd>If we define only the __get__() method, we create a non-data descriptor, which are mostly used for methods.</dd>\n",
    "  <dt><b>data descriptor</b></dt>\n",
    "  <dd>If an object defines __set__() or __delete__(), it is considered a data descriptor. To make a read-only data descriptor, define both __get__() and __set__() with the __set__() raising an AttributeError when called. Defining the __set__() method with an exception raising placeholder is enough to make it a data descriptor.</dd>\n",
    "</dl> \n",
    "\n"
   ]
  },
  {
   "cell_type": "markdown",
   "metadata": {},
   "source": [
    "We finally come now to our simple descriptor example in the following code:"
   ]
  },
  {
   "cell_type": "code",
   "execution_count": 2,
   "metadata": {},
   "outputs": [
    {
     "name": "stdout",
     "output_type": "stream",
     "text": [
      "__init__ of SimpleDecorator called with initval:  green\n",
      "Setting self.val to  green\n",
      "<__main__.MyClass object at 0x7efe93ff4a20> <class '__main__.MyClass'>\n",
      "Getting (Retrieving) self.val:  green\n",
      "green\n",
      "Setting self.val to  yellow\n",
      "<__main__.MyClass object at 0x7efe93ff4a20> <class '__main__.MyClass'>\n",
      "Getting (Retrieving) self.val:  yellow\n",
      "yellow\n"
     ]
    }
   ],
   "source": [
    "class SimpleDescriptor(object):\n",
    "    \"\"\"\n",
    "    A simple data descriptor that can set and return values\n",
    "    \"\"\"\n",
    "\n",
    "    def __init__(self, initval=None):\n",
    "        print(\"__init__ of SimpleDecorator called with initval: \", initval)\n",
    "        self.__set__(self, initval)\n",
    "\n",
    "    def __get__(self, instance, owner):\n",
    "        print(instance, owner)\n",
    "        print('Getting (Retrieving) self.val: ', self.val)\n",
    "        return self.val\n",
    "\n",
    "    def __set__(self, instance, value):\n",
    "        print('Setting self.val to ', value)\n",
    "        self.val = value\n",
    "\n",
    "class MyClass(object):\n",
    "    \n",
    "    x = SimpleDescriptor(\"green\")\n",
    "    \n",
    "    \n",
    "\n",
    "m = MyClass()\n",
    "print(m.x)\n",
    "m.x = \"yellow\"\n",
    "print(m.x)\n",
    "\n"
   ]
  },
  {
   "cell_type": "markdown",
   "metadata": {},
   "source": [
    "The third parameter ```owner``` of ```__get__``` is always the owner class and provides users with an option to do something with the class that was used to call the descriptor. Usually, i.e. if the descriptor is called through an object ```obj```, the object type can be deduced by calling ```type(obj)```. The situation is different, if the descriptor is invoked through a class. In this case it is ```None``` and it wouldn't be possible to access the class unless the third argument is given. The second parameter ```instance``` is the instance that the attribute was accessed through, or ```None``` when the attribute is accessed through the owner.\n",
    "\n",
    "\n",
    "Let's have a look at the ```__dict__``` dictionaries of both the instances and the class:"
   ]
  },
  {
   "cell_type": "markdown",
   "metadata": {},
   "source": [
    "'x' is a class attribute in the previous class. You may have asked yourself, if we could also use this mechanism in the ```__init__``` method to define instance attribute. This is not possible. The methods ```__get__()```,  ```__set__()```, and   ```__delete__()``` will only apply if an instance of the class containing the method (a so-called descriptor class) appears in an owner class (the descriptor must be in either the owner’s class dictionary or in the class dictionary for one of its parents). In the examples above, the attribute 'x' is in the owner ```__dict__``` of the owner class MyClass, as we can see below:"
   ]
  },
  {
   "cell_type": "code",
   "execution_count": 3,
   "metadata": {},
   "outputs": [
    {
     "name": "stdout",
     "output_type": "stream",
     "text": [
      "{}\n",
      "{'__module__': '__main__', 'x': <__main__.SimpleDescriptor object at 0x7efe93ff49e8>, '__dict__': <attribute '__dict__' of 'MyClass' objects>, '__weakref__': <attribute '__weakref__' of 'MyClass' objects>, '__doc__': None}\n",
      "{'__module__': '__main__', '__doc__': '\\n    A simple data descriptor that can set and return values\\n    ', '__init__': <function SimpleDescriptor.__init__ at 0x7efe93fc8d08>, '__get__': <function SimpleDescriptor.__get__ at 0x7efe93fc8840>, '__set__': <function SimpleDescriptor.__set__ at 0x7efe93fc88c8>, '__dict__': <attribute '__dict__' of 'SimpleDescriptor' objects>, '__weakref__': <attribute '__weakref__' of 'SimpleDescriptor' objects>}\n"
     ]
    }
   ],
   "source": [
    "print(m.__dict__)\n",
    "print(MyClass.__dict__)\n",
    "print(SimpleDescriptor.__dict__)"
   ]
  },
  {
   "cell_type": "code",
   "execution_count": 4,
   "metadata": {},
   "outputs": [
    {
     "name": "stdout",
     "output_type": "stream",
     "text": [
      "<__main__.SimpleDescriptor object at 0x7efe93ff49e8>\n"
     ]
    }
   ],
   "source": [
    "print(MyClass.__dict__['x'])"
   ]
  },
  {
   "cell_type": "markdown",
   "metadata": {},
   "source": [
    "It is possible to call a descriptor directly by its method name, e.g. ```d.__get__(obj)```.\n",
    "\n",
    "Alternatively, it is more common for a descriptor to be invoked automatically upon attribute access. For example, ```obj.d``` looks up ```d``` in the dictionary ```__dict__``` of ```obj```. If ```d``` defines the method ```__get__()```, then ```d.__get__(obj)``` is invoked according to the precedence rules listed below.\n",
    "\n",
    "It makes a difference if ```obj``` is an object or a class:\n",
    "\n",
    "- For objects, the method to control the invocation is in ```object.__getattribute__()``` which transforms ```b.x``` into the call ```type(b).__dict__['x'].__get__(b, type(b))```. The implementation works through a precedence chain that gives data descriptors priority over instance variables, instance variables priority over non-data descriptors, and assigns lowest priority to ```__getattr__()``` if provided. \n",
    "\n",
    "- For classes, the corresponing method is in the ```type``` class, i.e. ```type.__getattribute__()``` which transforms B.x into ```B.__dict__['x'].__get__(None, B)```. \n",
    "\n",
    "\n",
    "```__getattribute__``` is not implemented in Python but in C. The following Python code is a simulation of the logic in Python. We can see that the descriptors are called by the ```__getattribute__``` implementations."
   ]
  },
  {
   "cell_type": "code",
   "execution_count": 23,
   "metadata": {},
   "outputs": [
    {
     "name": "stdout",
     "output_type": "stream",
     "text": [
      "<__main__.MyClass object at 0x7efe93ff4a20> <class '__main__.MyClass'>\n",
      "Getting (Retrieving) self.val:  yellow\n"
     ]
    },
    {
     "data": {
      "text/plain": [
       "'yellow'"
      ]
     },
     "execution_count": 23,
     "metadata": {},
     "output_type": "execute_result"
    }
   ],
   "source": [
    "def __getattribute__(self, key):\n",
    "    \"Emulate type_getattro() in Objects/typeobject.c\"\n",
    "    v = type.__getattribute__(self, key)\n",
    "    if hasattr(v, '__get__'):\n",
    "        return v.__get__(None, self)\n",
    "    return v\n",
    "\n",
    "m.__getattribute__(\"x\")\n"
   ]
  },
  {
   "cell_type": "markdown",
   "metadata": {},
   "source": [
    "The object returned by ```super()``` also has a custom ```__getattribute__()``` method for invoking descriptors. The attribute lookup ```super(B, obj).m``` searches ```obj.__class__.__mro__``` for the base class ```A``` immediately following ```B``` and then returns ```A.__dict__['m'].__get__(obj, B)```. If not a descriptor, ```m``` is returned unchanged. If not in the dictionary, ```m``` reverts to a search using ```object.__getattribute__()```.\n",
    "\n",
    "The details above show that the mechanism for descriptors is embedded in the ```__getattribute__()``` methods for object, type, and super(). Classes inherit this machinery when they derive from object or if they have a meta-class providing similar functionality. This means also that one can turn-off automatic descriptor calls by overriding ```__getattribute__()```."
   ]
  },
  {
   "cell_type": "code",
   "execution_count": 7,
   "metadata": {},
   "outputs": [
    {
     "name": "stdout",
     "output_type": "stream",
     "text": [
      "Ben can vote in Germany\n",
      "Emilia can vote in Germany\n"
     ]
    },
    {
     "data": {
      "text/plain": [
       "22"
      ]
     },
     "execution_count": 7,
     "metadata": {},
     "output_type": "execute_result"
    }
   ],
   "source": [
    "from weakref import WeakKeyDictionary\n",
    " \n",
    "class Voter:\n",
    "    \n",
    "    required_age = 18 # in Germany\n",
    "    \n",
    "    def __init__(self):\n",
    "        self.age = WeakKeyDictionary()\n",
    " \n",
    "    def __get__(self, instance_obj, objtype):\n",
    "        return self.age.get(instance_obj)\n",
    " \n",
    "    def __set__(self, instance, new_age):\n",
    "        if new_age < Voter.required_age:\n",
    "            msg = '{name} is not old enough to vote in Germany'\n",
    "            raise Exception(msg.format(name=instance.name))\n",
    "        self.age[instance] = new_age\n",
    "        print('{name} can vote in Germany'.format(\n",
    "            name=instance.name))\n",
    " \n",
    "    def __delete__(self, instance):\n",
    "        del self.age[instance]\n",
    " \n",
    " \n",
    "class Person:\n",
    "    voter_age = Voter()\n",
    " \n",
    "    def __init__(self, name, age):\n",
    "        self.name = name\n",
    "        self.voter_age = age\n",
    " \n",
    " \n",
    "p1 = Person('Ben', 23)\n",
    "p2 = Person('Emilia', 22)\n",
    "\n",
    "p2.voter_age"
   ]
  },
  {
   "cell_type": "markdown",
   "metadata": {},
   "source": [
    "A pure sample implementation of a property() class (https://docs.python.org/3/howto/descriptor.html#properties)"
   ]
  },
  {
   "cell_type": "code",
   "execution_count": 8,
   "metadata": {},
   "outputs": [],
   "source": [
    "class Property:\n",
    "    \"Emulate PyProperty_Type() in Objects/descrobject.c\"\n",
    "\n",
    "    def __init__(self, fget=None, fset=None, fdel=None, doc=None):\n",
    "        self.fget = fget\n",
    "        self.fset = fset\n",
    "        self.fdel = fdel\n",
    "        if doc is None and fget is not None:\n",
    "            doc = fget.__doc__\n",
    "        self.__doc__ = doc\n",
    "\n",
    "    def __get__(self, obj, objtype=None):\n",
    "        if obj is None:\n",
    "            return self\n",
    "        if self.fget is None:\n",
    "            raise AttributeError(\"unreadable attribute\")\n",
    "        return self.fget(obj)\n",
    "\n",
    "    def __set__(self, obj, value):\n",
    "        if self.fset is None:\n",
    "            raise AttributeError(\"can't set attribute\")\n",
    "        self.fset(obj, value)\n",
    "\n",
    "    def __delete__(self, obj):\n",
    "        if self.fdel is None:\n",
    "            raise AttributeError(\"can't delete attribute\")\n",
    "        self.fdel(obj)\n",
    "\n",
    "    def getter(self, fget):\n",
    "        return type(self)(fget, self.fset, self.fdel, self.__doc__)\n",
    "\n",
    "    def setter(self, fset):\n",
    "        return type(self)(self.fget, fset, self.fdel, self.__doc__)\n",
    "\n",
    "    def deleter(self, fdel):\n",
    "        return type(self)(self.fget, self.fset, fdel, self.__doc__)"
   ]
  },
  {
   "cell_type": "markdown",
   "metadata": {},
   "source": [
    "A simple class using our Property implementation."
   ]
  },
  {
   "cell_type": "code",
   "execution_count": 9,
   "metadata": {},
   "outputs": [],
   "source": [
    "class A:\n",
    "    \n",
    "    def __init__(self, prop):\n",
    "        self.prop = prop\n",
    "        \n",
    "    @Property\n",
    "    def prop(self):\n",
    "        print(\"The Property 'prop' will be returned now:\")\n",
    "        return self.__prop\n",
    "    \n",
    "    @prop.setter\n",
    "    def prop(self, prop):\n",
    "        print(\"prop will be set\")\n",
    "        self.__prop = prop"
   ]
  },
  {
   "cell_type": "markdown",
   "metadata": {},
   "source": [
    "Using our class A:"
   ]
  },
  {
   "cell_type": "code",
   "execution_count": 10,
   "metadata": {},
   "outputs": [
    {
     "name": "stdout",
     "output_type": "stream",
     "text": [
      "Initializing the Property 'prop' with the value 'Python'\n",
      "prop will be set\n",
      "The Property 'prop' will be returned now:\n",
      "The value is:  Python\n",
      "Reassigning the Property 'prop' to 'Python descriptors'\n",
      "prop will be set\n",
      "The Property 'prop' will be returned now:\n",
      "The value is:  Python descriptors\n"
     ]
    }
   ],
   "source": [
    "print(\"Initializing the Property 'prop' with the value 'Python'\")\n",
    "x = A(\"Python\")\n",
    "print(\"The value is: \", x.prop)\n",
    "print(\"Reassigning the Property 'prop' to 'Python descriptors'\")\n",
    "x.prop = \"Python descriptors\"\n",
    "print(\"The value is: \", x.prop)"
   ]
  },
  {
   "cell_type": "markdown",
   "metadata": {},
   "source": [
    "Let's make our Property implementation a little bit more talkative with some print functions to see what is going on:"
   ]
  },
  {
   "cell_type": "code",
   "execution_count": 16,
   "metadata": {},
   "outputs": [
    {
     "name": "stdout",
     "output_type": "stream",
     "text": [
      "\n",
      "__init__ of Property called with:\n",
      "fget=<function A.prop at 0x7efe93fff840> fset=None fdel=None doc=None\n",
      "\n",
      "Property.setter has been called!\n",
      "\n",
      "__init__ of Property called with:\n",
      "fget=<function A.prop at 0x7efe93fff840> fset=<function A.prop at 0x7efe9370f840> fdel=None doc= This will be the doc string of the property \n",
      "\n",
      "__init__ of Property called with:\n",
      "fget=<function A.prop2_getter at 0x7efe93715048> fset=<function A.prop2_setter at 0x7efe93715158> fdel=None doc=None\n",
      "Initializing the Property 'prop' with the value 'Python'\n",
      "\n",
      "Property.__set__ has been called!\n",
      "prop will be set\n",
      "\n",
      "Property.__get__ has been called!\n",
      "The Property 'prop' will be returned now:\n",
      "The value is:  Python\n",
      "Reassigning the Property 'prop' to 'Python descriptors'\n",
      "\n",
      "Property.__set__ has been called!\n",
      "prop will be set\n",
      "\n",
      "Property.__get__ has been called!\n",
      "The Property 'prop' will be returned now:\n",
      "The value is:  Python descriptors\n",
      "\n",
      "Property.__get__ has been called!\n",
      "\n",
      "Property.getter has been called!\n",
      "\n",
      "__init__ of Property called with:\n",
      "fget=<__main__.A object at 0x7efe9371b080> fset=<function A.prop at 0x7efe9370f840> fdel=None doc= This will be the doc string of the property \n",
      "<__main__.Property object at 0x7efe93ff4358>\n",
      "\n",
      "Property.__get__ has been called!\n"
     ]
    },
    {
     "data": {
      "text/plain": [
       "<bound method Property.setter of <__main__.Property object at 0x7efe93729f98>>"
      ]
     },
     "execution_count": 16,
     "metadata": {},
     "output_type": "execute_result"
    }
   ],
   "source": [
    "class Property:\n",
    "    \"Emulate PyProperty_Type() in Objects/descrobject.c\"\n",
    "\n",
    "    def __init__(self, fget=None, fset=None, fdel=None, doc=None):\n",
    "        print(\"\\n__init__ of Property called with:\")\n",
    "        print(\"fget=\" + str(fget) + \" fset=\" + str(fset) + \\\n",
    "              \" fdel=\" + str(fdel) + \" doc=\" + str(doc))\n",
    "        self.fget = fget\n",
    "        self.fset = fset\n",
    "        self.fdel = fdel\n",
    "        if doc is None and fget is not None:\n",
    "            doc = fget.__doc__\n",
    "        self.__doc__ = doc\n",
    "\n",
    "    def __get__(self, obj, objtype=None):\n",
    "        print(\"\\nProperty.__get__ has been called!\")\n",
    "        if obj is None:\n",
    "            return self\n",
    "        if self.fget is None:\n",
    "            raise AttributeError(\"unreadable attribute\")\n",
    "        return self.fget(obj)\n",
    "\n",
    "    def __set__(self, obj, value):\n",
    "        print(\"\\nProperty.__set__ has been called!\")\n",
    "        if self.fset is None:\n",
    "            raise AttributeError(\"can't set attribute\")\n",
    "        self.fset(obj, value)\n",
    "\n",
    "    def __delete__(self, obj):\n",
    "        print(\"\\nProperty.__delete__ has been called!\")\n",
    "        if self.fdel is None:\n",
    "            raise AttributeError(\"can't delete attribute\")\n",
    "        self.fdel(obj)\n",
    "\n",
    "    def getter(self, fget):\n",
    "        print(\"\\nProperty.getter has been called!\")\n",
    "        return type(self)(fget, self.fset, self.fdel, self.__doc__)\n",
    "\n",
    "    def setter(self, fset):\n",
    "        print(\"\\nProperty.setter has been called!\")\n",
    "        return type(self)(self.fget, fset, self.fdel, self.__doc__)\n",
    "\n",
    "    def deleter(self, fdel):\n",
    "        print(\"\\nProperty.deleter has been called!\")\n",
    "        return type(self)(self.fget, self.fset, fdel, self.__doc__)\n",
    "    \n",
    "class A:\n",
    "    \n",
    "    def __init__(self, prop):\n",
    "        self.prop = prop\n",
    "    \n",
    "    @Property\n",
    "    def prop(self):\n",
    "        \"\"\" This will be the doc string of the property \"\"\"\n",
    "        print(\"The Property 'prop' will be returned now:\")\n",
    "        return self.__prop\n",
    "    \n",
    "    @prop.setter\n",
    "    def prop(self, prop):\n",
    "        print(\"prop will be set\")\n",
    "        self.__prop = prop\n",
    "        \n",
    "    def prop2_getter(self):\n",
    "        return self.__prop2\n",
    "    \n",
    "    def prop2_setter(self, prop2):\n",
    "        self.__prop2 = prop2\n",
    "        \n",
    "    prop2 = Property(prop2_getter, prop2_setter)\n",
    "        \n",
    "print(\"Initializing the Property 'prop' with the value 'Python'\")\n",
    "x = A(\"Python\")\n",
    "print(\"The value is: \", x.prop)\n",
    "print(\"Reassigning the Property 'prop' to 'Python descriptors'\")\n",
    "x.prop = \"Python descriptors\"\n",
    "print(\"The value is: \", x.prop)\n",
    "\n",
    "print(A.prop.getter(x))\n",
    "\n",
    "def new_prop_setter(self, prop):\n",
    "    if prop==\"foo\":\n",
    "        self.__prop = \"foobar\"\n",
    "    else:\n",
    "        self.__prop = prop\n",
    "        \n",
    "A.prop.setter"
   ]
  },
  {
   "cell_type": "code",
   "execution_count": 18,
   "metadata": {},
   "outputs": [
    {
     "name": "stdout",
     "output_type": "stream",
     "text": [
      "\n",
      "__init__ of Property called with:\n",
      "fget=<function Robot.name at 0x7efe93715ea0> fset=None fdel=None doc=None\n",
      "\n",
      "Property.setter has been called!\n",
      "\n",
      "__init__ of Property called with:\n",
      "fget=<function Robot.name at 0x7efe93715ea0> fset=<function Robot.name at 0x7efe93715400> fdel=None doc=None\n",
      "\n",
      "Property.__set__ has been called!\n",
      "\n",
      "Property.__get__ has been called!\n",
      "Marvin\n",
      "\n",
      "Property.__set__ has been called!\n",
      "\n",
      "Property.__get__ has been called!\n",
      "Eddie\n"
     ]
    }
   ],
   "source": [
    "class Robot:\n",
    "    def __init__(self, name=\"Marvin\", city=\"Freiburg\"):\n",
    "        self.name = name\n",
    "        self.city = city\n",
    "          \n",
    "    @Property\n",
    "    def name(self):\n",
    "        return self.__name\n",
    "    \n",
    "    @name.setter\n",
    "    def name(self, name):\n",
    "        if name == \"hello\":\n",
    "            self.__name = \"hi\"\n",
    "        else:\n",
    "            self.__name = name\n",
    " \n",
    "\n",
    "x = Robot(\"Marvin\")\n",
    "print(x.name)\n",
    "x.name = \"Eddie\"\n",
    "print(x.name)\n"
   ]
  },
  {
   "cell_type": "code",
   "execution_count": 19,
   "metadata": {},
   "outputs": [
    {
     "data": {
      "text/plain": [
       "20"
      ]
     },
     "execution_count": 19,
     "metadata": {},
     "output_type": "execute_result"
    }
   ],
   "source": [
    "class A:\n",
    "    \n",
    "    def a(func):\n",
    "        def helper(self, x):\n",
    "            return 4 * func(self, x)\n",
    "        return helper\n",
    "    \n",
    "    @a\n",
    "    def b(self, x):\n",
    "        return x + 1\n",
    "    \n",
    "a = A()\n",
    "a.b(4)"
   ]
  },
  {
   "cell_type": "markdown",
   "metadata": {},
   "source": [
    "A lot of people ask, if it is possible to automatically create descriptors at runtime. This is possible as we show in the following example. On the other hand, this example is not very useful, because the getters and setters have no real functionality:"
   ]
  },
  {
   "cell_type": "code",
   "execution_count": 20,
   "metadata": {},
   "outputs": [
    {
     "name": "stdout",
     "output_type": "stream",
     "text": [
      "Henry Hamburg\n",
      "{'_DynPropertyClass__name': 'Henry', '_DynPropertyClass__city': 'Hamburg'}\n"
     ]
    }
   ],
   "source": [
    "class DynPropertyClass(object):\n",
    "\n",
    "    def add_property(self, attribute):\n",
    "        \"\"\" add a property to the class \"\"\"        \n",
    "\n",
    "        def get_attribute(self):\n",
    "            \"\"\" The value for attribute 'attribute' will be retrieved \"\"\"\n",
    "            return getattr(self, \"_\" + type(x).__name__ + \"__\" + attribute)\n",
    "        \n",
    "        def set_attribute(self, value):\n",
    "            \"\"\" The value for attribute 'attribute' will be retrieved \"\"\"\n",
    "            #setter = lambda self, value: self.setProperty(attribute, value)\n",
    "            setattr(self, \"_\" + type(x).__name__ + \"__\" + attribute, value)\n",
    "\n",
    "        #construct property attribute and add it to the class\n",
    "        setattr(type(self), attribute, property(fget=get_attribute, \n",
    "                                                fset=set_attribute, \n",
    "                                                doc=\"Auto‑generated method\"))\n",
    "\n",
    "\n",
    "    \n",
    "x = DynPropertyClass()\n",
    "x.add_property('name')\n",
    "x.add_property('city')\n",
    "x.name = \"Henry\"\n",
    "x.name\n",
    "x.city = \"Hamburg\"\n",
    "print(x.name, x.city)\n",
    "print(x.__dict__)"
   ]
  }
 ],
 "metadata": {
  "kernelspec": {
   "display_name": "Python 3",
   "language": "python",
   "name": "python3"
  },
  "language_info": {
   "codemirror_mode": {
    "name": "ipython",
    "version": 3
   },
   "file_extension": ".py",
   "mimetype": "text/x-python",
   "name": "python",
   "nbconvert_exporter": "python",
   "pygments_lexer": "ipython3",
   "version": "3.8.8"
  }
 },
 "nbformat": 4,
 "nbformat_minor": 2
}
