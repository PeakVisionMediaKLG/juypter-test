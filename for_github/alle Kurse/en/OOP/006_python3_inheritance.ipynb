{
 "cells": [
  {
   "cell_type": "markdown",
   "metadata": {},
   "source": [
    "## Inheritance\n",
    "\n",
    "### Introduction and Definitions\n",
    "\n",
    "<img width=\"40%\" class=\"imgright\" src=\"../images/dna2.webp\" srcset=\"../images/dna2_800w.webp 800w,../images/dna2_700w.webp 700w,../images/dna2_600w.webp 600w,../images/dna2_500w.webp 500w,../images/dna2_400w.webp 400w,../images/dna2_350w.webp 350w,../images/dna2_300w.webp 300w\" alt=\"Inheritance as DNA\" />\n",
    "\n",
    "No object-oriented programming language would be worthy to look at or use, if it didn't support inheritance. Inheritance was invented in 1969 for Simula. Python not only supports inheritance but multiple inheritance as well. Generally speaking, inheritance is the mechanism  of deriving new classes from existing ones. By doing this, we get a hierarchy of classes. In most class-based object-oriented languages, an object created through inheritance (a \"child object\") acquires all, - though there are exceptions in some programming languages, - of the properties and behaviors of the parent object.\n",
    "\n",
    "Inheritance allows programmers to create classes that are built upon existing classes, and this enables a class created through inheritance to inherit the attributes and methods of the parent class. This means that inheritance supports code reusability. The methods or generally speaking the software inherited by a subclass is considered to be reused in the subclass. The relationships of objects or classes through inheritance give rise to a directed graph. \n",
    "\n",
    "The class from which a class inherits is called the parent or superclass. A class which inherits from a superclass is called a subclass, also called heir class or child class. Superclasses are sometimes called ancestors as well. There exists a hierarchical relationship between classes. It's similar to relationships or categorizations that we know from real life. Think about vehicles, for example. Bikes, cars, buses and trucks are vehicles. Pick-ups, vans, sports cars, convertibles and estate cars are all cars and by being cars they are vehicles as well. We could implement a vehicle class in Python, which might have methods like accelerate and brake. Cars, Buses and Trucks and Bikes can be implemented as subclasses which will inherit these methods from vehicle.\n",
    "\n",
    "<br><br>\n",
    "<img width=90% src=\"../images/vehicles_classification.webp\" srcset=\"../images/vehicles_classification_800w.webp 800w,../images/vehicles_classification_700w.webp 700w,../images/vehicles_classification_600w.webp 600w,../images/vehicles_classification_500w.webp 500w,../images/vehicles_classification_400w.webp 400w,../images/vehicles_classification_350w.webp 350w,../images/vehicles_classification_300w.webp 300w\" alt=\"Classification of v\n",
    "ehicles\" />\n",
    "<br><br>\n",
    "\n",
    "### Syntax of Inheritance in Python\n",
    "\n",
    "The syntax for a subclass definition looks like this:\n",
    "\n",
    "```\n",
    "class DerivedClassName(BaseClassName):\n",
    "    pass\n",
    "```"
   ]
  },
  {
   "cell_type": "markdown",
   "metadata": {},
   "source": [
    "Instead of the ```pass``` statement, there will be methods and attributes like in all other classes. The name BaseClassName must be defined in a scope containing the derived class definition. \n",
    "\n",
    "Now we are ready for a simple inheritance example with Python code.\n",
    "\n",
    "### Simple Inheritance Example\n",
    "\n",
    "We will stick with our beloved  robots or better ```Robot``` class from the previous chapters of our Python tutorial to show how the principle of inheritance works. We will define a class ```PhysicianRobot```, which inherits from ```Robot```.\n"
   ]
  },
  {
   "cell_type": "code",
   "execution_count": 2,
   "metadata": {},
   "outputs": [
    {
     "name": "stdout",
     "output_type": "stream",
     "text": [
      "<__main__.Robot object at 0x7fd0080b3ba8> <class '__main__.Robot'>\n",
      "<__main__.PhysicianRobot object at 0x7fd0080b3b70> <class '__main__.PhysicianRobot'>\n",
      "Hi, I am James\n"
     ]
    }
   ],
   "source": [
    "class Robot:\n",
    "    \n",
    "    def __init__(self, name):\n",
    "        self.name = name\n",
    "        \n",
    "    def say_hi(self):\n",
    "        print(\"Hi, I am \" + self.name)\n",
    "        \n",
    "class PhysicianRobot(Robot):\n",
    "    pass\n",
    "\n",
    "x = Robot(\"Marvin\")\n",
    "y = PhysicianRobot(\"James\")\n",
    "\n",
    "print(x, type(x))\n",
    "print(y, type(y))\n",
    "\n",
    "y.say_hi()"
   ]
  },
  {
   "cell_type": "markdown",
   "metadata": {},
   "source": [
    "<br><img width=\"30%\" src=\"../images/marvin_and_james.webp\" srcset=\"../images/marvin_and_james_300w.webp 300w\" alt=\"Marvin and James\" />\n",
    "<br><br>\n",
    "If you look at the code of our ```PhysicianRobot``` class, you can see that we haven't defined any attributes or methods in this class. As the class ```PhysicianRobot``` is a subclass of ```Robot```, it inherits, in this case, both the method ```__init__``` and ```say_hi```. Inheriting these methods means that we can use them as if they were defined in the ```PhysicianRobot``` class. When we create an instance of ```PhysicianRobot```, the ```__init__``` function will also create a name attribute. We can  apply the ```say_hi``` method to the ```PhysisicianRobot``` object ```y```, as we can see in the output from the code above.\n",
    "\n",
    "### Difference between ```type``` and ```isinstance```\n",
    "\n",
    "You should also pay attention to the following facts, which we pointed out in other sections of our Python tutorial as well. People frequently ask where the difference between checking the type via the ```type``` function or the function ```isinstance``` is lies. \n",
    "The difference can be seen in the following code. We see that ```isinstance``` returns ```True``` if we compare an object either with the class it belongs to or with the superclass. Whereas the equality operator only returns ```True```, if we compare an object with its own class. "
   ]
  },
  {
   "cell_type": "code",
   "execution_count": 3,
   "metadata": {},
   "outputs": [
    {
     "name": "stdout",
     "output_type": "stream",
     "text": [
      "True True\n",
      "False\n",
      "True\n",
      "False True\n"
     ]
    }
   ],
   "source": [
    "x = Robot(\"Marvin\")\n",
    "y = PhysicianRobot(\"James\")\n",
    "\n",
    "print(isinstance(x, Robot), isinstance(y, Robot))\n",
    "print(isinstance(x, PhysicianRobot))\n",
    "print(isinstance(y, PhysicianRobot))\n",
    "\n",
    "print(type(y) == Robot, type(y) == PhysicianRobot)\n"
   ]
  },
  {
   "cell_type": "markdown",
   "metadata": {},
   "source": [
    "This is even true for arbitrary ancestors of the class in the inheritance line:"
   ]
  },
  {
   "cell_type": "code",
   "execution_count": 4,
   "metadata": {},
   "outputs": [
    {
     "name": "stdout",
     "output_type": "stream",
     "text": [
      "True\n"
     ]
    }
   ],
   "source": [
    "class A:\n",
    "    pass\n",
    "\n",
    "class B(A):\n",
    "    pass\n",
    "\n",
    "class C(B):\n",
    "    pass\n",
    "\n",
    "x = C()\n",
    "print(isinstance(x, A))"
   ]
  },
  {
   "cell_type": "markdown",
   "metadata": {},
   "source": [
    "Now it should be clear, why [PEP 8](https://legacy.python.org/dev/peps/pep-0008/#programming-recommendations), the official  Style Guide for Python code, says: \"Object type comparisons should always use isinstance() instead of comparing types directly.\""
   ]
  },
  {
   "cell_type": "markdown",
   "metadata": {},
   "source": [
    "### Overriding\n",
    "\n",
    "Let us get back to our new ```PhysicianRobot``` class. \n",
    "Imagine now that an instance of a ```PhysicianRobot``` should say hi in a different way. In this case, we have to redefine the method ```say_hi``` inside of the subclass ```PhysicianRobot```:"
   ]
  },
  {
   "cell_type": "code",
   "execution_count": 5,
   "metadata": {},
   "outputs": [
    {
     "name": "stdout",
     "output_type": "stream",
     "text": [
      "Everything will be okay! \n",
      "James takes care of you!\n"
     ]
    }
   ],
   "source": [
    "class Robot:\n",
    "    \n",
    "    def __init__(self, name):\n",
    "        self.name = name\n",
    "        \n",
    "    def say_hi(self):\n",
    "        print(\"Hi, I am \" + self.name)\n",
    "        \n",
    "class PhysicianRobot(Robot):\n",
    "\n",
    "    def say_hi(self):\n",
    "        print(\"Everything will be okay! \") \n",
    "        print(self.name + \" takes care of you!\")\n",
    "\n",
    "y = PhysicianRobot(\"James\")\n",
    "y.say_hi()"
   ]
  },
  {
   "cell_type": "markdown",
   "metadata": {},
   "source": [
    "What we have done in the previous example is called overriding. A method of a parent class gets overridden by simply defining a method with the same name in the child class. \n",
    "\n",
    "If a method is overridden in a class, the original method can still be accessed, but we have to do it by calling the method directly with the class name, i.e. ```Robot.say_hi(y)```. We demonstrate this in the following code:"
   ]
  },
  {
   "cell_type": "code",
   "execution_count": 6,
   "metadata": {},
   "outputs": [
    {
     "name": "stdout",
     "output_type": "stream",
     "text": [
      "Everything will be okay! \n",
      "Doc James takes care of you!\n",
      "... and now the 'traditional' robot way of saying hi :-)\n",
      "Hi, I am Doc James\n"
     ]
    }
   ],
   "source": [
    "y = PhysicianRobot(\"Doc James\")\n",
    "y.say_hi()\n",
    "print(\"... and now the 'traditional' robot way of saying hi :-)\")\n",
    "Robot.say_hi(y)"
   ]
  },
  {
   "cell_type": "markdown",
   "metadata": {},
   "source": [
    "We have seen that an inherited class can inherit and override methods from the superclass. Besides this a subclass often needs additional methods with additional functionalities, which do not  exist in the superclass. An instance of the ```PhysicianRobot``` class will need for example the method ```heal``` so that the physician can do a proper job. \n",
    "We will also add an attribute ```health_level``` to the ```Robot``` class, which can take a value between ```0``` and ```1```. The robots will 'come to live' with a random value between ```0``` and ```1```. If the ```health_level``` of a ```Robot``` is below 0.8, it will need a doctor. We write a method ```needs_a_doctor``` which returns ```True``` if the value is below ```0.8``` and ```False``` otherwise. The 'healing' in the ```heal``` method is done by setting the ```health_level``` to a random value between the old ```health_level``` and 1. This value is calculated by the uniform function of the random module.\n",
    "\n",
    "\n"
   ]
  },
  {
   "cell_type": "code",
   "execution_count": 5,
   "metadata": {},
   "outputs": [
    {
     "name": "stdout",
     "output_type": "stream",
     "text": [
      "health_level of Marvin0 before healing:  0.5562005305000016\n",
      "Marvin0 has been healed by Dr. Frankenstein!\n",
      "health_level of Marvin0 after healing:  0.7807651150204282\n",
      "health_level of Marvin1 before healing:  0.40571527448692757\n",
      "Marvin1 has been healed by Dr. Frankenstein!\n",
      "health_level of Marvin1 after healing:  0.4160992532325318\n",
      "health_level of Marvin2 before healing:  0.3786957462635925\n",
      "Marvin2 has been healed by Dr. Frankenstein!\n",
      "health_level of Marvin2 after healing:  0.5474124864506639\n",
      "health_level of Marvin3 before healing:  0.6384666796845331\n",
      "Marvin3 has been healed by Dr. Frankenstein!\n",
      "health_level of Marvin3 after healing:  0.6986491928780778\n",
      "health_level of Marvin4 before healing:  0.5983126049766974\n",
      "Marvin4 has been healed by Dr. Frankenstein!\n",
      "health_level of Marvin4 after healing:  0.6988801787833587\n",
      "[('Marvin0', 0.7807651150204282), ('Marvin1', 0.4160992532325318), ('Marvin2', 0.5474124864506639), ('Marvin3', 0.6986491928780778), ('Marvin4', 0.6988801787833587)]\n"
     ]
    }
   ],
   "source": [
    "import random\n",
    "\n",
    "class Robot:\n",
    "    \n",
    "    def __init__(self, name):\n",
    "        self.name = name\n",
    "        self.health_level = random.random() \n",
    "        \n",
    "    def say_hi(self):\n",
    "        print(\"Hi, I am \" + self.name)\n",
    "        \n",
    "    def needs_a_doctor(self):\n",
    "        if self.health_level < 0.8:\n",
    "            return True\n",
    "        else:\n",
    "            return False\n",
    "        \n",
    "class PhysicianRobot(Robot):\n",
    "\n",
    "    def say_hi(self):\n",
    "        print(\"Everything will be okay! \") \n",
    "        print(self.name + \" takes care of you!\")\n",
    "\n",
    "\n",
    "    def heal(self, robo):\n",
    "        robo.health_level = random.uniform(robo.health_level, 1)\n",
    "        print(robo.name + \" has been healed by \" + self.name + \"!\")\n",
    "\n",
    "doc = PhysicianRobot(\"Dr. Frankenstein\")        \n",
    "\n",
    "rob_list = []\n",
    "for i in range(5):\n",
    "    x = Robot(\"Marvin\" + str(i))\n",
    "    if x.needs_a_doctor():\n",
    "        print(\"health_level of \" + x.name + \" before healing: \", x.health_level)\n",
    "        doc.heal(x)\n",
    "        print(\"health_level of \" + x.name + \" after healing: \", x.health_level)\n",
    "    rob_list.append((x.name, x.health_level))\n",
    "    \n",
    "print(rob_list)"
   ]
  },
  {
   "cell_type": "markdown",
   "metadata": {},
   "source": [
    "When we override a method, we sometimes want to reuse the method of the parent class and at some new stuff. To demonstrate this, we will write a new version of the PhysicianRobot. ```say_hi``` should return the text from the Robot class version plus the text \" and I am a physician!\""
   ]
  },
  {
   "cell_type": "code",
   "execution_count": 2,
   "metadata": {},
   "outputs": [
    {
     "name": "stdout",
     "output_type": "stream",
     "text": [
      "Hi, I am Dr. Frankenstein\n",
      "and I am a physician!\n"
     ]
    }
   ],
   "source": [
    "class PhysicianRobot(Robot):\n",
    "\n",
    "    def say_hi(self):\n",
    "        Robot.say_hi(self)\n",
    "        print(\"and I am a physician!\")\n",
    "\n",
    "        \n",
    "doc = PhysicianRobot(\"Dr. Frankenstein\")      \n",
    "doc.say_hi()"
   ]
  },
  {
   "cell_type": "markdown",
   "metadata": {},
   "source": [
    "We don't want to write redundant code and therefore we called ```Robot.say_hi(self)```. We could also use the ```super``` function:"
   ]
  },
  {
   "cell_type": "code",
   "execution_count": 11,
   "metadata": {},
   "outputs": [
    {
     "name": "stdout",
     "output_type": "stream",
     "text": [
      "Hi, I am Dr. Frankenstein\n",
      "and I am a physician!\n"
     ]
    }
   ],
   "source": [
    "class PhysicianRobot(Robot):\n",
    "\n",
    "    def say_hi(self):\n",
    "        super().say_hi()\n",
    "        print(\"and I am a physician!\")\n",
    "\n",
    "        \n",
    "doc = PhysicianRobot(\"Dr. Frankenstein\")      \n",
    "doc.say_hi()"
   ]
  },
  {
   "cell_type": "markdown",
   "metadata": {},
   "source": [
    "```super``` is not realls necessary in this case. One could argue that it makes the code more maintainable, because we could change the name of the parent class, but this is seldom done anyway in existing classes. The real benefit of ```super``` shows when we use it with multiple inheritance."
   ]
  },
  {
   "cell_type": "markdown",
   "metadata": {},
   "source": [
    "### Distinction between Overwriting, Overloading and Overriding\n",
    "\n",
    "#### Overwriting\n",
    "\n",
    "If we overwrite a function, the original function will be gone. The function will be redefined. This process has nothing to do with object orientation or inheritance."
   ]
  },
  {
   "cell_type": "code",
   "execution_count": 6,
   "metadata": {},
   "outputs": [
    {
     "name": "stdout",
     "output_type": "stream",
     "text": [
      "45\n",
      "46\n"
     ]
    }
   ],
   "source": [
    "def f(x):\n",
    "    return x + 42\n",
    "\n",
    "print(f(3))\n",
    "# f will be overwritten (or redefined) in the following:\n",
    "\n",
    "def f(x):\n",
    "    return x + 43\n",
    "print(f(3))"
   ]
  },
  {
   "cell_type": "markdown",
   "metadata": {},
   "source": [
    "#### Overloading\n",
    "\n",
    "This subchapter will be only interesting for C++ and Java programmers who want to know how overloading can be accomplished in Python. Those who do not know about overloading will not miss it!\n",
    "\n",
    "In the context of object-oriented programming, you might have heard about \"overloading\" as well. Even though \"overloading\" is not directly connected to OOP. Overloading is the ability to define a function with the same name multiple times. The definitions are different concerning the number of parameters and types of the parameters. It's the ability of one function to perform different tasks, depending on the number of parameters or the types of the parameters. We cannot overload functions like this in Python, but it is not necessary either.\n",
    "\n",
    "\n",
    "This course is, however, not about C++ and we have so far avoided using any C++ code. We want to make an exception now, so that you can see, how overloading works in C++. \n",
    "\n",
    "<br>\n",
    "<PRE>\n",
    "#include <iostream>\n",
    "#include <cstdlib>\n",
    " \n",
    "using namespace std;\n",
    " \n",
    "int successor(int number) {\n",
    "    return number + 1;\n",
    "}\n",
    "\n",
    "double successor(double number) {\n",
    "    return number + 1;\n",
    "}\n",
    "\n",
    "int main() {\n",
    "    \n",
    "    cout << successor(10) << endl;\n",
    "    cout << successor(10.3) << endl;\n",
    "\n",
    "    return 0;\n",
    "}\n",
    "</PRE>\n",
    "\n",
    "\n",
    "We defined the successor function twice: One time for int and the other time with float as a Parameter. In Python the function can be defined like this, as you will know for sure:"
   ]
  },
  {
   "cell_type": "code",
   "execution_count": null,
   "metadata": {},
   "outputs": [],
   "source": [
    "def successor(x):\n",
    "    return x + 1"
   ]
  },
  {
   "cell_type": "markdown",
   "metadata": {},
   "source": [
    "As x is only a reference to an object, the Python function successor can be called with every object, even though it will create exceptions with many types. But it will work with int and float values!\n",
    "\n",
    "Having a function with a different number of parameters is another way of function overloading. The following C++ program shows such an example. The function f can be called with either one or two integer arguments:\n",
    "\n",
    "<PRE>\n",
    " #include <iostream>\n",
    "using namespace std;\n",
    "\n",
    "\n",
    "int f(int n);\n",
    "int f(int n, int m);\n",
    "\n",
    "int main() {\n",
    "    \n",
    "    cout << \"f(3): \" << f(3) << endl;\n",
    "    cout << \"f(3, 4): \" << f(3, 4) << endl;\n",
    "    return 0;\n",
    "}\n",
    "\n",
    "int f(int n) {\n",
    "    return n + 42;\n",
    "}\n",
    "int f(int n, int m) {\n",
    "    return n + m + 42; \n",
    "}\n",
    "    \n",
    "</PRE>"
   ]
  },
  {
   "cell_type": "markdown",
   "metadata": {},
   "source": [
    "This doesn't work in Python, as we can see in the following example. The second definition of f with two parameters redefines or overrides the first definition with one argument. Overriding means that the first definition is not available anymore.\n"
   ]
  },
  {
   "cell_type": "code",
   "execution_count": 7,
   "metadata": {},
   "outputs": [
    {
     "name": "stdout",
     "output_type": "stream",
     "text": [
      "49\n"
     ]
    }
   ],
   "source": [
    "def f(n):\n",
    "    return n + 42\n",
    " \n",
    "def f(n,m):\n",
    "    return n + m + 42\n",
    "\n",
    "print(f(3, 4))"
   ]
  },
  {
   "cell_type": "markdown",
   "metadata": {},
   "source": [
    "If you call f with only one parameter, you will raise an exception:\n",
    "\n",
    "<pre>\n",
    "f(3)\n",
    "\n",
    "---------------------------------------------------------------------------\n",
    "TypeError                                 Traceback (most recent call last)\n",
    "<ipython-input-8-1bff2c73920e> in <module>\n",
    "----> 1 f(3)\n",
    "\n",
    "TypeError: f() missing 1 required positional argument: 'm'\n",
    "\n",
    "</pre>"
   ]
  },
  {
   "cell_type": "markdown",
   "metadata": {},
   "source": [
    "Yet, it is possible to simulate the overloading behaviour of C++ in Python in this case with a default parameter:\n"
   ]
  },
  {
   "cell_type": "code",
   "execution_count": 9,
   "metadata": {},
   "outputs": [
    {
     "name": "stdout",
     "output_type": "stream",
     "text": [
      "45 46\n"
     ]
    }
   ],
   "source": [
    "def f(n, m=None):\n",
    "    if m:\n",
    "        return n + m +42\n",
    "    else:\n",
    "        return n + 42\n",
    "\n",
    "print(f(3), f(1, 3))"
   ]
  },
  {
   "cell_type": "markdown",
   "metadata": {},
   "source": [
    "The * operator can be used as a more general approach for a family of functions with 1, 2, 3, or even more parameters:\n"
   ]
  },
  {
   "cell_type": "code",
   "execution_count": 11,
   "metadata": {},
   "outputs": [
    {
     "name": "stdout",
     "output_type": "stream",
     "text": [
      "45 4 50\n"
     ]
    }
   ],
   "source": [
    "def f(*x):\n",
    "    if len(x) == 1:\n",
    "        return x[0] + 42\n",
    "    elif len(x) == 2:\n",
    "        return x[0] - x[1] + 5\n",
    "    else:\n",
    "        return 2 * x[0] + x[1] + 42\n",
    "\n",
    "print(f(3), f(1, 2), f(3, 2, 1))"
   ]
  },
  {
   "cell_type": "markdown",
   "metadata": {},
   "source": [
    "#### Overriding \n",
    "\n",
    "Overriding is already explained above!"
   ]
  }
 ],
 "metadata": {
  "kernelspec": {
   "display_name": "Python 3",
   "language": "python",
   "name": "python3"
  },
  "language_info": {
   "codemirror_mode": {
    "name": "ipython",
    "version": 3
   },
   "file_extension": ".py",
   "mimetype": "text/x-python",
   "name": "python",
   "nbconvert_exporter": "python",
   "pygments_lexer": "ipython3",
   "version": "3.8.8"
  },
  "toc": {
   "base_numbering": 1,
   "nav_menu": {},
   "number_sections": true,
   "sideBar": true,
   "skip_h1_title": false,
   "title_cell": "Table of Contents",
   "title_sidebar": "Contents",
   "toc_cell": false,
   "toc_position": {},
   "toc_section_display": true,
   "toc_window_display": false
  }
 },
 "nbformat": 4,
 "nbformat_minor": 2
}
