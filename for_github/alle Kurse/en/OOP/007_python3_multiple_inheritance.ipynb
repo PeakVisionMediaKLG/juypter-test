{
 "cells": [
  {
   "cell_type": "markdown",
   "metadata": {},
   "source": [
    "## Multiple Inheritance\n",
    "### Introduction \n",
    "\n",
    "<img  class=\"imgright\" width=200 src=\"../images/diamond.webp\" srcset=\"../images/diamond_800w.webp 800w,../images/diamond_700w.webp 700w,../images/diamond_600w.webp 600w,../images/diamond_500w.webp 500w,../images/diamond_400w.webp 400w,../images/diamond_350w.webp 350w,../images/diamond_300w.webp 300w\" alt=\"Diamond Problem\" />\n",
    "\n",
    "In the previous chapter of our tutorial, we have covered inheritance, or more specific \"single inheritance\". As we have seen, a class inherits in this case from one class. Multiple inheritance on the other hand is a feature in which a class can inherit attributes and methods from more than one parent class. The critics point out that multiple inheritance comes along with a high level of complexity and ambiguity in situations such as the diamond problem. We will address this problem later in this chapter.\n",
    "\n",
    "The widespread prejudice that multiple inheritance is something \"dangerous\" or \"bad\" is mostly nourished by programming languages with poorly implemented multiple inheritance mechanisms and above all by improper usage of it. Java doesn't even support multiple inheritance, while C++ supports it. Python has a sophisticated and well-designed approach to multiple inheritance.\n",
    "\n",
    "A class definition, where a child class SubClassName inherits from the parent classes BaseClass1, BaseClass2, BaseClass3, and so on, looks like this:\n"
   ]
  },
  {
   "cell_type": "markdown",
   "metadata": {},
   "source": [
    "<pre>\n",
    "\n",
    "class SubclassName(BaseClass1, BaseClass2, BaseClass3, ...):\n",
    "    pass\n",
    "\n",
    "</pre>"
   ]
  },
  {
   "cell_type": "markdown",
   "metadata": {},
   "source": [
    "It's clear that all the superclasses BaseClass1, BaseClass2, BaseClass3, ... can inherit from other superclasses as well. What we get is an inheritance tree.\n",
    "\n",
    "<img width=90% src=\"../images/multiple_inheritance.webp\" srcset=\"../images/multiple_inheritance_700w.webp 700w,../images/multiple_inheritance_600w.webp 600w,../images/multiple_inheritance_500w.webp 500w,../images/multiple_inheritance_400w.webp 400w,../images/multiple_inheritance_350w.webp 350w,../images/multiple_inheritance_300w.webp 300w\" alt=\"Multiple Inheritance Tree\" />\n",
    "\n",
    "### Example: CalendarClock\n",
    "We want to introduce the principles of multiple inheritance with an example. For this purpose, we will implement to independent classes: a \"Clock\" and a \"Calendar\" class. After this, we will introduce a class \"CalendarClock\", which is, as the name implies, a combination of \"Clock\" and \"Calendar\". CalendarClock inherits both from \"Clock\" and \"Calendar\".\n",
    "\n",
    "<img width=90% src=\"../images/clock_calendar.webp\" srcset=\"../images/clock_calendar_800w.webp 800w,../images/clock_calendar_700w.webp 700w,../images/clock_calendar_600w.webp 600w,../images/clock_calendar_500w.webp 500w,../images/clock_calendar_400w.webp 400w,../images/clock_calendar_350w.webp 350w,../images/clock_calendar_300w.webp 300w\" alt=\"CalendarClock\" />\n",
    "\n",
    "The class Clock simulates the tick-tack of a clock. An instance of this class contains the time, which is stored in the attributes self.hours, self.minutes and self.seconds. Principally, we could have written the ```__init__``` method and the set method like this:"
   ]
  },
  {
   "cell_type": "markdown",
   "metadata": {},
   "source": [
    "<pre>\n",
    "def __init__(self,hours=0, minutes=0, seconds=0):\n",
    "        self._hours = hours\n",
    "        self.__minutes = minutes\n",
    "        self.__seconds = seconds\n",
    "\n",
    "    def set(self,hours, minutes, seconds=0):\n",
    "        self._hours = hours\n",
    "        self.__minutes = minutes\n",
    "        self.__seconds = seconds\n",
    "</pre>"
   ]
  },
  {
   "cell_type": "markdown",
   "metadata": {},
   "source": [
    "We decided against this implementation, because we added additional code for checking the plausibility of the time data into the set method. We call the set method from the ```__init__``` method as well, because we want to circumvent redundant code.\n",
    "The complete Clock class:"
   ]
  },
  {
   "cell_type": "code",
   "execution_count": 1,
   "metadata": {},
   "outputs": [
    {
     "name": "stdout",
     "output_type": "stream",
     "text": [
      "23:59:59\n",
      "00:00:00\n",
      "<class 'str'>\n"
     ]
    }
   ],
   "source": [
    "\"\"\" \n",
    "The class Clock is used to simulate a clock.\n",
    "\"\"\"\n",
    "\n",
    "class Clock(object):\n",
    "\n",
    "    def __init__(self, hours, minutes, seconds):\n",
    "        \"\"\"\n",
    "        The paramaters hours, minutes and seconds have to be \n",
    "        integers and must satisfy the following equations:\n",
    "        0 <= h < 24\n",
    "        0 <= m < 60\n",
    "        0 <= s < 60\n",
    "        \"\"\"\n",
    "\n",
    "        self.set_Clock(hours, minutes, seconds)\n",
    "\n",
    "    def set_Clock(self, hours, minutes, seconds):\n",
    "        \"\"\"\n",
    "        The parameters hours, minutes and seconds have to be \n",
    "        integers and must satisfy the following equations:\n",
    "        0 <= h < 24\n",
    "        0 <= m < 60\n",
    "        0 <= s < 60\n",
    "        \"\"\"\n",
    "\n",
    "        if type(hours) == int and 0 <= hours and hours < 24:\n",
    "            self._hours = hours\n",
    "        else:\n",
    "            raise TypeError(\"Hours have to be integers between 0 and 23!\")\n",
    "        if type(minutes) == int and 0 <= minutes and minutes < 60:\n",
    "            self.__minutes = minutes \n",
    "        else:\n",
    "            raise TypeError(\"Minutes have to be integers between 0 and 59!\")\n",
    "        if type(seconds) == int and 0 <= seconds and seconds < 60:\n",
    "            self.__seconds = seconds\n",
    "        else:\n",
    "            raise TypeError(\"Seconds have to be integers between 0 and 59!\")\n",
    "\n",
    "    def __str__(self):\n",
    "        return \"{0:02d}:{1:02d}:{2:02d}\".format(self._hours,\n",
    "                                                self.__minutes,\n",
    "                                                self.__seconds)\n",
    "\n",
    "    def tick(self):\n",
    "        \"\"\"\n",
    "        This method lets the clock \"tick\", this means that the \n",
    "        internal time will be advanced by one second.\n",
    "\n",
    "        Examples:\n",
    "        >>> x = Clock(12,59,59)\n",
    "        >>> print(x)\n",
    "        12:59:59\n",
    "        >>> x.tick()\n",
    "        >>> print(x)\n",
    "        13:00:00\n",
    "        >>> x.tick()\n",
    "        >>> print(x)\n",
    "        13:00:01\n",
    "        \"\"\"\n",
    "\n",
    "        if self.__seconds == 59:\n",
    "            self.__seconds = 0\n",
    "            if self.__minutes == 59:\n",
    "                self.__minutes = 0\n",
    "                if self._hours == 23:\n",
    "                    self._hours = 0\n",
    "                else:\n",
    "                    self._hours += 1\n",
    "            else:\n",
    "                self.__minutes += 1\n",
    "        else:\n",
    "            self.__seconds += 1\n",
    "\n",
    "\n",
    "if __name__ == \"__main__\":\n",
    "    x = Clock(23,59,59)\n",
    "    print(x)\n",
    "    x.tick()\n",
    "    print(x)\n",
    "    y = str(x)\n",
    "    print(type(y))\n"
   ]
  },
  {
   "cell_type": "markdown",
   "metadata": {},
   "source": [
    "Let's check our exception handling by inputting floats and strings as input. We also check, what happens, if we exceed the limits of the expected values:"
   ]
  },
  {
   "cell_type": "code",
   "execution_count": 2,
   "metadata": {},
   "outputs": [
    {
     "ename": "TypeError",
     "evalue": "Hours have to be integers between 0 and 23!",
     "output_type": "error",
     "traceback": [
      "\u001b[0;31m---------------------------------------------------------------------------\u001b[0m",
      "\u001b[0;31mTypeError\u001b[0m                                 Traceback (most recent call last)",
      "\u001b[0;32m<ipython-input-2-f91279ca09c6>\u001b[0m in \u001b[0;36m<module>\u001b[0;34m\u001b[0m\n\u001b[0;32m----> 1\u001b[0;31m \u001b[0mx\u001b[0m \u001b[0;34m=\u001b[0m \u001b[0mClock\u001b[0m\u001b[0;34m(\u001b[0m\u001b[0;36m7.7\u001b[0m\u001b[0;34m,\u001b[0m\u001b[0;36m45\u001b[0m\u001b[0;34m,\u001b[0m\u001b[0;36m17\u001b[0m\u001b[0;34m)\u001b[0m\u001b[0;34m\u001b[0m\u001b[0;34m\u001b[0m\u001b[0m\n\u001b[0m",
      "\u001b[0;32m<ipython-input-1-ffb3e30af1a8>\u001b[0m in \u001b[0;36m__init__\u001b[0;34m(self, hours, minutes, seconds)\u001b[0m\n\u001b[1;32m     14\u001b[0m         \"\"\"\n\u001b[1;32m     15\u001b[0m \u001b[0;34m\u001b[0m\u001b[0m\n\u001b[0;32m---> 16\u001b[0;31m         \u001b[0mself\u001b[0m\u001b[0;34m.\u001b[0m\u001b[0mset_Clock\u001b[0m\u001b[0;34m(\u001b[0m\u001b[0mhours\u001b[0m\u001b[0;34m,\u001b[0m \u001b[0mminutes\u001b[0m\u001b[0;34m,\u001b[0m \u001b[0mseconds\u001b[0m\u001b[0;34m)\u001b[0m\u001b[0;34m\u001b[0m\u001b[0;34m\u001b[0m\u001b[0m\n\u001b[0m\u001b[1;32m     17\u001b[0m \u001b[0;34m\u001b[0m\u001b[0m\n\u001b[1;32m     18\u001b[0m     \u001b[0;32mdef\u001b[0m \u001b[0mset_Clock\u001b[0m\u001b[0;34m(\u001b[0m\u001b[0mself\u001b[0m\u001b[0;34m,\u001b[0m \u001b[0mhours\u001b[0m\u001b[0;34m,\u001b[0m \u001b[0mminutes\u001b[0m\u001b[0;34m,\u001b[0m \u001b[0mseconds\u001b[0m\u001b[0;34m)\u001b[0m\u001b[0;34m:\u001b[0m\u001b[0;34m\u001b[0m\u001b[0;34m\u001b[0m\u001b[0m\n",
      "\u001b[0;32m<ipython-input-1-ffb3e30af1a8>\u001b[0m in \u001b[0;36mset_Clock\u001b[0;34m(self, hours, minutes, seconds)\u001b[0m\n\u001b[1;32m     28\u001b[0m             \u001b[0mself\u001b[0m\u001b[0;34m.\u001b[0m\u001b[0m_hours\u001b[0m \u001b[0;34m=\u001b[0m \u001b[0mhours\u001b[0m\u001b[0;34m\u001b[0m\u001b[0;34m\u001b[0m\u001b[0m\n\u001b[1;32m     29\u001b[0m         \u001b[0;32melse\u001b[0m\u001b[0;34m:\u001b[0m\u001b[0;34m\u001b[0m\u001b[0;34m\u001b[0m\u001b[0m\n\u001b[0;32m---> 30\u001b[0;31m             \u001b[0;32mraise\u001b[0m \u001b[0mTypeError\u001b[0m\u001b[0;34m(\u001b[0m\u001b[0;34m\"Hours have to be integers between 0 and 23!\"\u001b[0m\u001b[0;34m)\u001b[0m\u001b[0;34m\u001b[0m\u001b[0;34m\u001b[0m\u001b[0m\n\u001b[0m\u001b[1;32m     31\u001b[0m         \u001b[0;32mif\u001b[0m \u001b[0mtype\u001b[0m\u001b[0;34m(\u001b[0m\u001b[0mminutes\u001b[0m\u001b[0;34m)\u001b[0m \u001b[0;34m==\u001b[0m \u001b[0mint\u001b[0m \u001b[0;32mand\u001b[0m \u001b[0;36m0\u001b[0m \u001b[0;34m<=\u001b[0m \u001b[0mminutes\u001b[0m \u001b[0;32mand\u001b[0m \u001b[0mminutes\u001b[0m \u001b[0;34m<\u001b[0m \u001b[0;36m60\u001b[0m\u001b[0;34m:\u001b[0m\u001b[0;34m\u001b[0m\u001b[0;34m\u001b[0m\u001b[0m\n\u001b[1;32m     32\u001b[0m             \u001b[0mself\u001b[0m\u001b[0;34m.\u001b[0m\u001b[0m__minutes\u001b[0m \u001b[0;34m=\u001b[0m \u001b[0mminutes\u001b[0m\u001b[0;34m\u001b[0m\u001b[0;34m\u001b[0m\u001b[0m\n",
      "\u001b[0;31mTypeError\u001b[0m: Hours have to be integers between 0 and 23!"
     ]
    }
   ],
   "source": [
    "x = Clock(7.7, 45, 17)"
   ]
  },
  {
   "cell_type": "code",
   "execution_count": 4,
   "metadata": {},
   "outputs": [
    {
     "ename": "TypeError",
     "evalue": "Hours have to be integers between 0 and 23!",
     "output_type": "error",
     "traceback": [
      "\u001b[0;31m---------------------------------------------------------------------------\u001b[0m",
      "\u001b[0;31mTypeError\u001b[0m                                 Traceback (most recent call last)",
      "\u001b[0;32m<ipython-input-4-36d0f83822b6>\u001b[0m in \u001b[0;36m<module>\u001b[0;34m\u001b[0m\n\u001b[0;32m----> 1\u001b[0;31m \u001b[0mx\u001b[0m \u001b[0;34m=\u001b[0m \u001b[0mClock\u001b[0m\u001b[0;34m(\u001b[0m\u001b[0;36m24\u001b[0m\u001b[0;34m,\u001b[0m \u001b[0;36m45\u001b[0m\u001b[0;34m,\u001b[0m \u001b[0;36m17\u001b[0m\u001b[0;34m)\u001b[0m\u001b[0;34m\u001b[0m\u001b[0;34m\u001b[0m\u001b[0m\n\u001b[0m",
      "\u001b[0;32m<ipython-input-1-ffb3e30af1a8>\u001b[0m in \u001b[0;36m__init__\u001b[0;34m(self, hours, minutes, seconds)\u001b[0m\n\u001b[1;32m     14\u001b[0m         \"\"\"\n\u001b[1;32m     15\u001b[0m \u001b[0;34m\u001b[0m\u001b[0m\n\u001b[0;32m---> 16\u001b[0;31m         \u001b[0mself\u001b[0m\u001b[0;34m.\u001b[0m\u001b[0mset_Clock\u001b[0m\u001b[0;34m(\u001b[0m\u001b[0mhours\u001b[0m\u001b[0;34m,\u001b[0m \u001b[0mminutes\u001b[0m\u001b[0;34m,\u001b[0m \u001b[0mseconds\u001b[0m\u001b[0;34m)\u001b[0m\u001b[0;34m\u001b[0m\u001b[0;34m\u001b[0m\u001b[0m\n\u001b[0m\u001b[1;32m     17\u001b[0m \u001b[0;34m\u001b[0m\u001b[0m\n\u001b[1;32m     18\u001b[0m     \u001b[0;32mdef\u001b[0m \u001b[0mset_Clock\u001b[0m\u001b[0;34m(\u001b[0m\u001b[0mself\u001b[0m\u001b[0;34m,\u001b[0m \u001b[0mhours\u001b[0m\u001b[0;34m,\u001b[0m \u001b[0mminutes\u001b[0m\u001b[0;34m,\u001b[0m \u001b[0mseconds\u001b[0m\u001b[0;34m)\u001b[0m\u001b[0;34m:\u001b[0m\u001b[0;34m\u001b[0m\u001b[0;34m\u001b[0m\u001b[0m\n",
      "\u001b[0;32m<ipython-input-1-ffb3e30af1a8>\u001b[0m in \u001b[0;36mset_Clock\u001b[0;34m(self, hours, minutes, seconds)\u001b[0m\n\u001b[1;32m     28\u001b[0m             \u001b[0mself\u001b[0m\u001b[0;34m.\u001b[0m\u001b[0m_hours\u001b[0m \u001b[0;34m=\u001b[0m \u001b[0mhours\u001b[0m\u001b[0;34m\u001b[0m\u001b[0;34m\u001b[0m\u001b[0m\n\u001b[1;32m     29\u001b[0m         \u001b[0;32melse\u001b[0m\u001b[0;34m:\u001b[0m\u001b[0;34m\u001b[0m\u001b[0;34m\u001b[0m\u001b[0m\n\u001b[0;32m---> 30\u001b[0;31m             \u001b[0;32mraise\u001b[0m \u001b[0mTypeError\u001b[0m\u001b[0;34m(\u001b[0m\u001b[0;34m\"Hours have to be integers between 0 and 23!\"\u001b[0m\u001b[0;34m)\u001b[0m\u001b[0;34m\u001b[0m\u001b[0;34m\u001b[0m\u001b[0m\n\u001b[0m\u001b[1;32m     31\u001b[0m         \u001b[0;32mif\u001b[0m \u001b[0mtype\u001b[0m\u001b[0;34m(\u001b[0m\u001b[0mminutes\u001b[0m\u001b[0;34m)\u001b[0m \u001b[0;34m==\u001b[0m \u001b[0mint\u001b[0m \u001b[0;32mand\u001b[0m \u001b[0;36m0\u001b[0m \u001b[0;34m<=\u001b[0m \u001b[0mminutes\u001b[0m \u001b[0;32mand\u001b[0m \u001b[0mminutes\u001b[0m \u001b[0;34m<\u001b[0m \u001b[0;36m60\u001b[0m\u001b[0;34m:\u001b[0m\u001b[0;34m\u001b[0m\u001b[0;34m\u001b[0m\u001b[0m\n\u001b[1;32m     32\u001b[0m             \u001b[0mself\u001b[0m\u001b[0;34m.\u001b[0m\u001b[0m__minutes\u001b[0m \u001b[0;34m=\u001b[0m \u001b[0mminutes\u001b[0m\u001b[0;34m\u001b[0m\u001b[0;34m\u001b[0m\u001b[0m\n",
      "\u001b[0;31mTypeError\u001b[0m: Hours have to be integers between 0 and 23!"
     ]
    }
   ],
   "source": [
    "x = Clock(24, 45, 17)"
   ]
  },
  {
   "cell_type": "code",
   "execution_count": 5,
   "metadata": {},
   "outputs": [
    {
     "ename": "TypeError",
     "evalue": "Minutes have to be integers between 0 and 59!",
     "output_type": "error",
     "traceback": [
      "\u001b[0;31m---------------------------------------------------------------------------\u001b[0m",
      "\u001b[0;31mTypeError\u001b[0m                                 Traceback (most recent call last)",
      "\u001b[0;32m<ipython-input-5-6c03e29741a6>\u001b[0m in \u001b[0;36m<module>\u001b[0;34m\u001b[0m\n\u001b[0;32m----> 1\u001b[0;31m \u001b[0mx\u001b[0m \u001b[0;34m=\u001b[0m \u001b[0mClock\u001b[0m\u001b[0;34m(\u001b[0m\u001b[0;36m23\u001b[0m\u001b[0;34m,\u001b[0m\u001b[0;36m60\u001b[0m\u001b[0;34m,\u001b[0m\u001b[0;36m17\u001b[0m\u001b[0;34m)\u001b[0m\u001b[0;34m\u001b[0m\u001b[0;34m\u001b[0m\u001b[0m\n\u001b[0m",
      "\u001b[0;32m<ipython-input-1-ffb3e30af1a8>\u001b[0m in \u001b[0;36m__init__\u001b[0;34m(self, hours, minutes, seconds)\u001b[0m\n\u001b[1;32m     14\u001b[0m         \"\"\"\n\u001b[1;32m     15\u001b[0m \u001b[0;34m\u001b[0m\u001b[0m\n\u001b[0;32m---> 16\u001b[0;31m         \u001b[0mself\u001b[0m\u001b[0;34m.\u001b[0m\u001b[0mset_Clock\u001b[0m\u001b[0;34m(\u001b[0m\u001b[0mhours\u001b[0m\u001b[0;34m,\u001b[0m \u001b[0mminutes\u001b[0m\u001b[0;34m,\u001b[0m \u001b[0mseconds\u001b[0m\u001b[0;34m)\u001b[0m\u001b[0;34m\u001b[0m\u001b[0;34m\u001b[0m\u001b[0m\n\u001b[0m\u001b[1;32m     17\u001b[0m \u001b[0;34m\u001b[0m\u001b[0m\n\u001b[1;32m     18\u001b[0m     \u001b[0;32mdef\u001b[0m \u001b[0mset_Clock\u001b[0m\u001b[0;34m(\u001b[0m\u001b[0mself\u001b[0m\u001b[0;34m,\u001b[0m \u001b[0mhours\u001b[0m\u001b[0;34m,\u001b[0m \u001b[0mminutes\u001b[0m\u001b[0;34m,\u001b[0m \u001b[0mseconds\u001b[0m\u001b[0;34m)\u001b[0m\u001b[0;34m:\u001b[0m\u001b[0;34m\u001b[0m\u001b[0;34m\u001b[0m\u001b[0m\n",
      "\u001b[0;32m<ipython-input-1-ffb3e30af1a8>\u001b[0m in \u001b[0;36mset_Clock\u001b[0;34m(self, hours, minutes, seconds)\u001b[0m\n\u001b[1;32m     32\u001b[0m             \u001b[0mself\u001b[0m\u001b[0;34m.\u001b[0m\u001b[0m__minutes\u001b[0m \u001b[0;34m=\u001b[0m \u001b[0mminutes\u001b[0m\u001b[0;34m\u001b[0m\u001b[0;34m\u001b[0m\u001b[0m\n\u001b[1;32m     33\u001b[0m         \u001b[0;32melse\u001b[0m\u001b[0;34m:\u001b[0m\u001b[0;34m\u001b[0m\u001b[0;34m\u001b[0m\u001b[0m\n\u001b[0;32m---> 34\u001b[0;31m             \u001b[0;32mraise\u001b[0m \u001b[0mTypeError\u001b[0m\u001b[0;34m(\u001b[0m\u001b[0;34m\"Minutes have to be integers between 0 and 59!\"\u001b[0m\u001b[0;34m)\u001b[0m\u001b[0;34m\u001b[0m\u001b[0;34m\u001b[0m\u001b[0m\n\u001b[0m\u001b[1;32m     35\u001b[0m         \u001b[0;32mif\u001b[0m \u001b[0mtype\u001b[0m\u001b[0;34m(\u001b[0m\u001b[0mseconds\u001b[0m\u001b[0;34m)\u001b[0m \u001b[0;34m==\u001b[0m \u001b[0mint\u001b[0m \u001b[0;32mand\u001b[0m \u001b[0;36m0\u001b[0m \u001b[0;34m<=\u001b[0m \u001b[0mseconds\u001b[0m \u001b[0;32mand\u001b[0m \u001b[0mseconds\u001b[0m \u001b[0;34m<\u001b[0m \u001b[0;36m60\u001b[0m\u001b[0;34m:\u001b[0m\u001b[0;34m\u001b[0m\u001b[0;34m\u001b[0m\u001b[0m\n\u001b[1;32m     36\u001b[0m             \u001b[0mself\u001b[0m\u001b[0;34m.\u001b[0m\u001b[0m__seconds\u001b[0m \u001b[0;34m=\u001b[0m \u001b[0mseconds\u001b[0m\u001b[0;34m\u001b[0m\u001b[0;34m\u001b[0m\u001b[0m\n",
      "\u001b[0;31mTypeError\u001b[0m: Minutes have to be integers between 0 and 59!"
     ]
    }
   ],
   "source": [
    "x = Clock(23, 60, 17)"
   ]
  },
  {
   "cell_type": "code",
   "execution_count": 6,
   "metadata": {},
   "outputs": [
    {
     "ename": "TypeError",
     "evalue": "Hours have to be integers between 0 and 23!",
     "output_type": "error",
     "traceback": [
      "\u001b[0;31m---------------------------------------------------------------------------\u001b[0m",
      "\u001b[0;31mTypeError\u001b[0m                                 Traceback (most recent call last)",
      "\u001b[0;32m<ipython-input-6-9d4de9fcfcdc>\u001b[0m in \u001b[0;36m<module>\u001b[0;34m\u001b[0m\n\u001b[0;32m----> 1\u001b[0;31m \u001b[0mx\u001b[0m \u001b[0;34m=\u001b[0m \u001b[0mClock\u001b[0m\u001b[0;34m(\u001b[0m\u001b[0;34m\"23\"\u001b[0m\u001b[0;34m,\u001b[0m \u001b[0;34m\"60\"\u001b[0m\u001b[0;34m,\u001b[0m \u001b[0;34m\"17\"\u001b[0m\u001b[0;34m)\u001b[0m\u001b[0;34m\u001b[0m\u001b[0;34m\u001b[0m\u001b[0m\n\u001b[0m",
      "\u001b[0;32m<ipython-input-1-ffb3e30af1a8>\u001b[0m in \u001b[0;36m__init__\u001b[0;34m(self, hours, minutes, seconds)\u001b[0m\n\u001b[1;32m     14\u001b[0m         \"\"\"\n\u001b[1;32m     15\u001b[0m \u001b[0;34m\u001b[0m\u001b[0m\n\u001b[0;32m---> 16\u001b[0;31m         \u001b[0mself\u001b[0m\u001b[0;34m.\u001b[0m\u001b[0mset_Clock\u001b[0m\u001b[0;34m(\u001b[0m\u001b[0mhours\u001b[0m\u001b[0;34m,\u001b[0m \u001b[0mminutes\u001b[0m\u001b[0;34m,\u001b[0m \u001b[0mseconds\u001b[0m\u001b[0;34m)\u001b[0m\u001b[0;34m\u001b[0m\u001b[0;34m\u001b[0m\u001b[0m\n\u001b[0m\u001b[1;32m     17\u001b[0m \u001b[0;34m\u001b[0m\u001b[0m\n\u001b[1;32m     18\u001b[0m     \u001b[0;32mdef\u001b[0m \u001b[0mset_Clock\u001b[0m\u001b[0;34m(\u001b[0m\u001b[0mself\u001b[0m\u001b[0;34m,\u001b[0m \u001b[0mhours\u001b[0m\u001b[0;34m,\u001b[0m \u001b[0mminutes\u001b[0m\u001b[0;34m,\u001b[0m \u001b[0mseconds\u001b[0m\u001b[0;34m)\u001b[0m\u001b[0;34m:\u001b[0m\u001b[0;34m\u001b[0m\u001b[0;34m\u001b[0m\u001b[0m\n",
      "\u001b[0;32m<ipython-input-1-ffb3e30af1a8>\u001b[0m in \u001b[0;36mset_Clock\u001b[0;34m(self, hours, minutes, seconds)\u001b[0m\n\u001b[1;32m     28\u001b[0m             \u001b[0mself\u001b[0m\u001b[0;34m.\u001b[0m\u001b[0m_hours\u001b[0m \u001b[0;34m=\u001b[0m \u001b[0mhours\u001b[0m\u001b[0;34m\u001b[0m\u001b[0;34m\u001b[0m\u001b[0m\n\u001b[1;32m     29\u001b[0m         \u001b[0;32melse\u001b[0m\u001b[0;34m:\u001b[0m\u001b[0;34m\u001b[0m\u001b[0;34m\u001b[0m\u001b[0m\n\u001b[0;32m---> 30\u001b[0;31m             \u001b[0;32mraise\u001b[0m \u001b[0mTypeError\u001b[0m\u001b[0;34m(\u001b[0m\u001b[0;34m\"Hours have to be integers between 0 and 23!\"\u001b[0m\u001b[0;34m)\u001b[0m\u001b[0;34m\u001b[0m\u001b[0;34m\u001b[0m\u001b[0m\n\u001b[0m\u001b[1;32m     31\u001b[0m         \u001b[0;32mif\u001b[0m \u001b[0mtype\u001b[0m\u001b[0;34m(\u001b[0m\u001b[0mminutes\u001b[0m\u001b[0;34m)\u001b[0m \u001b[0;34m==\u001b[0m \u001b[0mint\u001b[0m \u001b[0;32mand\u001b[0m \u001b[0;36m0\u001b[0m \u001b[0;34m<=\u001b[0m \u001b[0mminutes\u001b[0m \u001b[0;32mand\u001b[0m \u001b[0mminutes\u001b[0m \u001b[0;34m<\u001b[0m \u001b[0;36m60\u001b[0m\u001b[0;34m:\u001b[0m\u001b[0;34m\u001b[0m\u001b[0;34m\u001b[0m\u001b[0m\n\u001b[1;32m     32\u001b[0m             \u001b[0mself\u001b[0m\u001b[0;34m.\u001b[0m\u001b[0m__minutes\u001b[0m \u001b[0;34m=\u001b[0m \u001b[0mminutes\u001b[0m\u001b[0;34m\u001b[0m\u001b[0;34m\u001b[0m\u001b[0m\n",
      "\u001b[0;31mTypeError\u001b[0m: Hours have to be integers between 0 and 23!"
     ]
    }
   ],
   "source": [
    "x = Clock(\"23\", \"60\", \"17\")"
   ]
  },
  {
   "cell_type": "code",
   "execution_count": 7,
   "metadata": {},
   "outputs": [
    {
     "ename": "TypeError",
     "evalue": "__init__() missing 1 required positional argument: 'seconds'",
     "output_type": "error",
     "traceback": [
      "\u001b[0;31m---------------------------------------------------------------------------\u001b[0m",
      "\u001b[0;31mTypeError\u001b[0m                                 Traceback (most recent call last)",
      "\u001b[0;32m<ipython-input-7-dcf065c8d655>\u001b[0m in \u001b[0;36m<module>\u001b[0;34m\u001b[0m\n\u001b[0;32m----> 1\u001b[0;31m \u001b[0mx\u001b[0m \u001b[0;34m=\u001b[0m \u001b[0mClock\u001b[0m\u001b[0;34m(\u001b[0m\u001b[0;36m23\u001b[0m\u001b[0;34m,\u001b[0m \u001b[0;36m17\u001b[0m\u001b[0;34m)\u001b[0m\u001b[0;34m\u001b[0m\u001b[0;34m\u001b[0m\u001b[0m\n\u001b[0m",
      "\u001b[0;31mTypeError\u001b[0m: __init__() missing 1 required positional argument: 'seconds'"
     ]
    }
   ],
   "source": [
    "x = Clock(23, 17)"
   ]
  },
  {
   "cell_type": "markdown",
   "metadata": {},
   "source": [
    "We will now create a class \"Calendar\", which has lots of similarities to the previously defined Clock class. Instead of \"tick\" we have an \"advance\" method, which advances the date by one day, whenever it is called. Adding a day to a date is quite tricky. We have to check, if the date is the last day in a month and the number of days in the months vary. As if this isn't bad enough, we have February and the leap year problem.\n",
    "\n",
    "The rules for calculating a leap year are the following:\n",
    "\n",
    "- If a year is divisible by 400, it is a leap year.\n",
    "- If a year is not divisible by 400 but by 100, it is not a leap year.\n",
    "- A year number which is divisible by 4 but not by 100, it is a leap year.\n",
    "- All other year numbers are common years, i.e. no leap years.\n",
    "\n",
    "\n",
    "As a little useful gimmick, we added a possibility to output a date either in British or in American (Canadian) style."
   ]
  },
  {
   "cell_type": "code",
   "execution_count": 8,
   "metadata": {},
   "outputs": [
    {
     "name": "stdout",
     "output_type": "stream",
     "text": [
      "31/12/2012 after applying advance:  01/01/2013\n",
      "2012 was a leapyear:\n",
      "28/02/2012 after applying advance:  29/02/2012\n",
      "28/02/2013 after applying advance:  01/03/2013\n",
      "1900 no leapyear: number divisible by 100 but not by 400: \n",
      "28/02/1900 after applying advance:  01/03/1900\n",
      "2000 was a leapyear, because number divisibe by 400: \n",
      "28/02/2000 after applying advance:  29/02/2000\n",
      "Switching to American date style: \n",
      "after applying advance:  02/29/2000\n"
     ]
    }
   ],
   "source": [
    "\"\"\" \n",
    "The class Calendar implements a calendar.   \n",
    "\"\"\"\n",
    "\n",
    "class Calendar(object):\n",
    "\n",
    "    months = (31,28,31,30,31,30,31,31,30,31,30,31)\n",
    "    date_style = \"British\"\n",
    "\n",
    "    @staticmethod\n",
    "    def leapyear(year):\n",
    "        \"\"\" \n",
    "        The method leapyear returns True if the parameter year\n",
    "        is a leap year, False otherwise\n",
    "        \"\"\"\n",
    "        if not year % 4 == 0:\n",
    "            return False\n",
    "        elif not year % 100 == 0:\n",
    "            return True\n",
    "        elif not year % 400 == 0:\n",
    "            return False\n",
    "        else:\n",
    "            return True\n",
    "\n",
    "\n",
    "    def __init__(self, d, m, y):\n",
    "        \"\"\"\n",
    "        d, m, y have to be integer values and year has to be \n",
    "        a four digit year number\n",
    "        \"\"\"\n",
    "\n",
    "        self.set_Calendar(d,m,y)\n",
    "\n",
    "\n",
    "    def set_Calendar(self, d, m, y):\n",
    "        \"\"\"\n",
    "        d, m, y have to be integer values and year has to be \n",
    "        a four digit year number\n",
    "        \"\"\"\n",
    "\n",
    "        if type(d) == int and type(m) == int and type(y) == int:\n",
    "            self.__days = d\n",
    "            self.__months = m\n",
    "            self.__years = y\n",
    "        else:\n",
    "            raise TypeError(\"d, m, y have to be integers!\")\n",
    "\n",
    "\n",
    "    def __str__(self):\n",
    "        if Calendar.date_style == \"British\":\n",
    "            return \"{0:02d}/{1:02d}/{2:4d}\".format(self.__days,\n",
    "                                                   self.__months,\n",
    "                                                   self.__years)\n",
    "        else: \n",
    "            # assuming American style\n",
    "            return \"{0:02d}/{1:02d}/{2:4d}\".format(self.__months,\n",
    "                                                   self.__days,\n",
    "                                                   self.__years)\n",
    "\n",
    "\n",
    "\n",
    "    def advance(self):\n",
    "        \"\"\"\n",
    "        This method advances to the next date.\n",
    "        \"\"\"\n",
    "\n",
    "        max_days = Calendar.months[self.__months-1]\n",
    "        if self.__months == 2 and Calendar.leapyear(self.__years):\n",
    "            max_days += 1\n",
    "        if self.__days == max_days:\n",
    "            self.__days= 1\n",
    "            if self.__months == 12:\n",
    "                self.__months = 1\n",
    "                self.__years += 1\n",
    "            else:\n",
    "                self.__months += 1\n",
    "        else:\n",
    "            self.__days += 1\n",
    "\n",
    "\n",
    "if __name__ == \"__main__\":\n",
    "    x = Calendar(31,12,2012)\n",
    "    print(x, end=\" \")\n",
    "    x.advance()\n",
    "    print(\"after applying advance: \", x)\n",
    "    print(\"2012 was a leapyear:\")\n",
    "    x = Calendar(28,2,2012)\n",
    "    print(x, end=\" \")\n",
    "    x.advance()\n",
    "    print(\"after applying advance: \", x)\n",
    "    x = Calendar(28,2,2013)\n",
    "    print(x, end=\" \")\n",
    "    x.advance()\n",
    "    print(\"after applying advance: \", x)\n",
    "    print(\"1900 no leapyear: number divisible by 100 but not by 400: \")\n",
    "    x = Calendar(28,2,1900)\n",
    "    print(x, end=\" \")\n",
    "    x.advance()\n",
    "    print(\"after applying advance: \", x)\n",
    "    print(\"2000 was a leapyear, because number divisibe by 400: \")\n",
    "    x = Calendar(28,2,2000)\n",
    "    print(x, end=\" \")\n",
    "    x.advance()\n",
    "    print(\"after applying advance: \", x)\n",
    "    print(\"Switching to American date style: \")\n",
    "    Calendar.date_style = \"American\"\n",
    "    print(\"after applying advance: \", x)  "
   ]
  },
  {
   "cell_type": "markdown",
   "metadata": {},
   "source": [
    "At last, we will introduce our multiple inheritance example. We are now capable of implementing the originally intended class CalendarClock, which will inherit from both Clock and Calendar. The method \"tick\" of Clock will have to be overridden. However, the new tick method of CalendarClock has to call the tick method of Clock: Clock.tick(self)"
   ]
  },
  {
   "cell_type": "code",
   "execution_count": 1,
   "metadata": {},
   "outputs": [
    {
     "ename": "ModuleNotFoundError",
     "evalue": "No module named 'clock'",
     "output_type": "error",
     "traceback": [
      "\u001b[1;31m---------------------------------------------------------------------------\u001b[0m",
      "\u001b[1;31mModuleNotFoundError\u001b[0m                       Traceback (most recent call last)",
      "\u001b[1;32m<ipython-input-1-6b533ccbb057>\u001b[0m in \u001b[0;36m<module>\u001b[1;34m\u001b[0m\n\u001b[0;32m      3\u001b[0m \"\"\"\n\u001b[0;32m      4\u001b[0m \u001b[1;33m\u001b[0m\u001b[0m\n\u001b[1;32m----> 5\u001b[1;33m \u001b[1;32mfrom\u001b[0m \u001b[0mclock\u001b[0m \u001b[1;32mimport\u001b[0m \u001b[0mClock\u001b[0m\u001b[1;33m\u001b[0m\u001b[1;33m\u001b[0m\u001b[0m\n\u001b[0m\u001b[0;32m      6\u001b[0m \u001b[1;32mfrom\u001b[0m \u001b[0mcalendar\u001b[0m \u001b[1;32mimport\u001b[0m \u001b[0mCalendar\u001b[0m\u001b[1;33m\u001b[0m\u001b[1;33m\u001b[0m\u001b[0m\n\u001b[0;32m      7\u001b[0m \u001b[1;33m\u001b[0m\u001b[0m\n",
      "\u001b[1;31mModuleNotFoundError\u001b[0m: No module named 'clock'"
     ]
    }
   ],
   "source": [
    "\"\"\" \n",
    "Module, which implements the class CalendarClock.\n",
    "\"\"\"\n",
    "\n",
    "from clock import Clock\n",
    "from calendar import Calendar\n",
    "\n",
    "\n",
    "class CalendarClock(Clock, Calendar):\n",
    "    \"\"\" \n",
    "        The class CalendarClock implements a clock with integrated \n",
    "        calendar. It's a case of multiple inheritance, as it inherits \n",
    "        both from Clock and Calendar      \n",
    "    \"\"\"\n",
    "\n",
    "    def __init__(self, day, month, year, hour, minute, second):\n",
    "        Clock.__init__(self,hour, minute, second)\n",
    "        Calendar.__init__(self, day, month, year)\n",
    "\n",
    "\n",
    "    def tick(self):\n",
    "        \"\"\"\n",
    "        advance the clock by one second\n",
    "        \"\"\"\n",
    "        previous_hour = self._hours\n",
    "        Clock.tick(self)\n",
    "        if (self._hours < previous_hour): \n",
    "            self.advance()\n",
    "\n",
    "    def __str__(self):\n",
    "        return Calendar.__str__(self) + \", \" + Clock.__str__(self)\n",
    "\n",
    "\n",
    "if __name__ == \"__main__\":\n",
    "    x = CalendarClock(31, 12, 2013, 23, 59, 59)\n",
    "    print(\"One tick from \",x, end=\" \")\n",
    "    x.tick()\n",
    "    print(\"to \", x)\n",
    "\n",
    "    x = CalendarClock(28, 2, 1900, 23, 59, 59)\n",
    "    print(\"One tick from \",x, end=\" \")\n",
    "    x.tick()\n",
    "    print(\"to \", x)\n",
    "\n",
    "    x = CalendarClock(28, 2, 2000, 23, 59, 59)\n",
    "    print(\"One tick from \",x, end=\" \")\n",
    "    x.tick()\n",
    "    print(\"to \", x)\n",
    "\n",
    "    x = CalendarClock(7, 2, 2013, 13, 55, 40)\n",
    "    print(\"One tick from \",x, end=\" \")\n",
    "    x.tick()\n",
    "    print(\"to \", x)"
   ]
  },
  {
   "cell_type": "markdown",
   "metadata": {},
   "source": [
    "### The Diamond Problem or the ,,deadly diamond of death''\n",
    "\n",
    "<img  class=\"imgright\" width=200 src=\"../images/diamond.webp\" srcset=\"../images/diamond_800w.webp 800w,../images/diamond_700w.webp 700w,../images/diamond_600w.webp 600w,../images/diamond_500w.webp 500w,../images/diamond_400w.webp 400w,../images/diamond_350w.webp 350w,../images/diamond_300w.webp 300w\" alt=\"Diamond Problem\" />\n",
    "\n",
    "The \"diamond problem\" (sometimes referred as the \"deadly diamond of death\") is the generally used term for an ambiguity that arises when two classes B and C inherit from a superclass A, and another class D inherits from both B and C. If there is a method \"m\" in A that B or C (or even both of them) has overridden, and furthermore, if it does not override this method, then the question is which version of the method does D inherit? It could be the one from A, B or C.\n",
    "\n",
    "Let's look at Python. The first Diamond Problem configuration is like this: Both B and C override the method m of A:"
   ]
  },
  {
   "cell_type": "code",
   "execution_count": 1,
   "metadata": {},
   "outputs": [],
   "source": [
    "class A:\n",
    "    def m(self):\n",
    "        print(\"m of A called\")\n",
    "\n",
    "class B(A):\n",
    "    def m(self):\n",
    "        print(\"m of B called\")\n",
    "    \n",
    "class C(A):\n",
    "    def m(self):\n",
    "        print(\"m of C called\")\n",
    "\n",
    "class D(B,C):\n",
    "    pass"
   ]
  },
  {
   "cell_type": "markdown",
   "metadata": {},
   "source": [
    "If you call the method m on an instance x of D, i.e. x.m(), we will get the output \"m of B called\". If we transpose the order of the classes in the class header of D in \"class D(C,B):\", we will get the output \"m of C called\".\n",
    "\n",
    "The case in which m will be overridden only in one of the classes B or C, e.g. in C:"
   ]
  },
  {
   "cell_type": "code",
   "execution_count": 2,
   "metadata": {},
   "outputs": [
    {
     "name": "stdout",
     "output_type": "stream",
     "text": [
      "m of C called\n"
     ]
    }
   ],
   "source": [
    "class A:\n",
    "    def m(self):\n",
    "        print(\"m of A called\")\n",
    "\n",
    "class B(A):\n",
    "    pass\n",
    "    \n",
    "class C(A):\n",
    "    def m(self):\n",
    "        print(\"m of C called\")\n",
    "\n",
    "class D(B,C):\n",
    "    pass\n",
    "\n",
    "x = D()\n",
    "x.m()"
   ]
  },
  {
   "cell_type": "markdown",
   "metadata": {},
   "source": [
    "Principially, two possibilities are imaginable: \"m of C\" or \"m of A\" could be used\n",
    "\n",
    "We call this script with Python2.7 (python) and with Python3 (python3) to see what's happening:\n",
    "<pre>\n",
    "$ python diamond1.py \n",
    "m of A called\n",
    "$ python3 diamond1.py \n",
    "m of C called\n",
    "</pre>"
   ]
  },
  {
   "cell_type": "markdown",
   "metadata": {},
   "source": [
    "Only for those who are interested in Python version2:\n",
    "To have the same inheritance behaviour in Python2 as in Python3, every class has to inherit from the class \"object\". Our class A doesn't inherit from object, so we get a so-called old-style class, if we call the script with python2. Multiple inheritance with old-style classes is governed by two rules: depth-first and then left-to-right. If you change the header line of A into \"class A(object):\", we will have the same behaviour in both Python versions.\n",
    "### super and MRO\n",
    "\n",
    "We have seen in our previous implementation of the diamond problem, how Python \"solves\" the problem, i.e. in which order the base classes are browsed through. The order is defined by the so-called \"Method Resolution Order\" or in short MRO*.\n",
    "\n",
    "We will extend our previous example, so that every class defines its own method m:"
   ]
  },
  {
   "cell_type": "code",
   "execution_count": 3,
   "metadata": {},
   "outputs": [],
   "source": [
    "class A:\n",
    "    def m(self):\n",
    "        print(\"m of A called\")\n",
    "\n",
    "class B(A):\n",
    "    def m(self):\n",
    "        print(\"m of B called\")\n",
    "    \n",
    "class C(A):\n",
    "    def m(self):\n",
    "        print(\"m of C called\")\n",
    "\n",
    "class D(B,C):\n",
    "    def m(self):\n",
    "        print(\"m of D called\")"
   ]
  },
  {
   "cell_type": "markdown",
   "metadata": {},
   "source": [
    "Let's apply the method m on an instance of D. We can see that only the code of the method m of D will be executed. We can also explicitly call the methods m of the other classes via the class name, as we demonstrate in the following interactive Python session:"
   ]
  },
  {
   "cell_type": "code",
   "execution_count": 4,
   "metadata": {},
   "outputs": [
    {
     "name": "stdout",
     "output_type": "stream",
     "text": [
      "m of B called\n"
     ]
    }
   ],
   "source": [
    "from super1 import A,B,C,D\n",
    "x = D()\n",
    "B.m(x)"
   ]
  },
  {
   "cell_type": "code",
   "execution_count": 5,
   "metadata": {},
   "outputs": [
    {
     "name": "stdout",
     "output_type": "stream",
     "text": [
      "m of C called\n"
     ]
    }
   ],
   "source": [
    "C.m(x)"
   ]
  },
  {
   "cell_type": "code",
   "execution_count": 6,
   "metadata": {},
   "outputs": [
    {
     "name": "stdout",
     "output_type": "stream",
     "text": [
      "m of A called\n"
     ]
    }
   ],
   "source": [
    "A.m(x)"
   ]
  },
  {
   "cell_type": "markdown",
   "metadata": {},
   "source": [
    "Now let's assume that the method m of D should execute the code of m of B, C and A as well, when it is called. We could implement it like this:"
   ]
  },
  {
   "cell_type": "code",
   "execution_count": 7,
   "metadata": {},
   "outputs": [],
   "source": [
    "class D(B,C):\n",
    "    def m(self):\n",
    "        print(\"m of D called\")\n",
    "        B.m(self)\n",
    "        C.m(self)\n",
    "        A.m(self)"
   ]
  },
  {
   "cell_type": "markdown",
   "metadata": {},
   "source": [
    "The output is what we have been looking for:"
   ]
  },
  {
   "cell_type": "code",
   "execution_count": 8,
   "metadata": {},
   "outputs": [
    {
     "name": "stdout",
     "output_type": "stream",
     "text": [
      "m of D called\n",
      "m of B called\n",
      "m of C called\n",
      "m of A called\n"
     ]
    }
   ],
   "source": [
    "from mro import D\n",
    "x = D()\n",
    "x.m()"
   ]
  },
  {
   "cell_type": "markdown",
   "metadata": {},
   "source": [
    "But it turns out once more that things are more complicated than they seem. How can we cope with the situation, if both m of B and m of C will have to call m of A as well. In this case, we have to take away the call A.m(self) from m in D. The code might look like this, but there is still a bug lurking in it:"
   ]
  },
  {
   "cell_type": "code",
   "execution_count": 9,
   "metadata": {},
   "outputs": [],
   "source": [
    "class A:\n",
    "    def m(self):\n",
    "        print(\"m of A called\")\n",
    "\n",
    "class B(A):\n",
    "    def m(self):\n",
    "        print(\"m of B called\")\n",
    "        A.m(self)\n",
    "    \n",
    "class C(A):\n",
    "    def m(self):\n",
    "        print(\"m of C called\")\n",
    "        A.m(self)\n",
    "\n",
    "class D(B,C):\n",
    "    def m(self):\n",
    "        print(\"m of D called\")\n",
    "        B.m(self)\n",
    "        C.m(self)"
   ]
  },
  {
   "cell_type": "markdown",
   "metadata": {},
   "source": [
    "The bug is that the method m of A will be called twice:"
   ]
  },
  {
   "cell_type": "code",
   "execution_count": 10,
   "metadata": {},
   "outputs": [
    {
     "name": "stdout",
     "output_type": "stream",
     "text": [
      "m of D called\n",
      "m of B called\n",
      "m of A called\n",
      "m of C called\n",
      "m of A called\n"
     ]
    }
   ],
   "source": [
    "from super3 import D\n",
    "x = D()\n",
    "x.m()"
   ]
  },
  {
   "cell_type": "markdown",
   "metadata": {},
   "source": [
    "One way to solve this problem - admittedly not a Pythonic one - consists in splitting the methods m of B and C in two methods. The first method, called ```_m``` consists of the specific code for B and C and the other method is still called m, but consists now of a call ```self._m()``` and a call ```A.m(self)```. The code of the method m of D consists now of the specific code of D 'print(\"m of D called\")', and the calls ```B._m(self)```, ```C._m(self)``` and ```A.m(self)```:"
   ]
  },
  {
   "cell_type": "code",
   "execution_count": 11,
   "metadata": {},
   "outputs": [],
   "source": [
    "class A:\n",
    "    def m(self):\n",
    "        print(\"m of A called\")\n",
    "\n",
    "class B(A):\n",
    "    def _m(self):\n",
    "        print(\"m of B called\")\n",
    "    def m(self):\n",
    "        self._m()\n",
    "        A.m(self)\n",
    "    \n",
    "class C(A):\n",
    "    def _m(self):\n",
    "        print(\"m of C called\")\n",
    "    def m(self):\n",
    "        self._m()\n",
    "        A.m(self)\n",
    "\n",
    "class D(B,C):\n",
    "    def m(self):\n",
    "        print(\"m of D called\")\n",
    "        B._m(self)\n",
    "        C._m(self)\n",
    "        A.m(self)"
   ]
  },
  {
   "cell_type": "markdown",
   "metadata": {},
   "source": [
    "Our problem is solved, but - as we have already mentioned - not in a pythonic way:"
   ]
  },
  {
   "cell_type": "code",
   "execution_count": 12,
   "metadata": {},
   "outputs": [
    {
     "name": "stdout",
     "output_type": "stream",
     "text": [
      "m of D called\n",
      "m of B called\n",
      "m of C called\n",
      "m of A called\n"
     ]
    }
   ],
   "source": [
    "from super4 import D\n",
    "x = D()\n",
    "x.m()"
   ]
  },
  {
   "cell_type": "markdown",
   "metadata": {},
   "source": [
    "The optimal way to solve the problem, which is the \"super\" pythonic way, would be calling the super function:"
   ]
  },
  {
   "cell_type": "code",
   "execution_count": 13,
   "metadata": {},
   "outputs": [],
   "source": [
    "class A:\n",
    "    def m(self):\n",
    "        print(\"m of A called\")\n",
    "\n",
    "class B(A):\n",
    "    def m(self):\n",
    "        print(\"m of B called\")\n",
    "        super().m()\n",
    "    \n",
    "class C(A):\n",
    "    def m(self):\n",
    "        print(\"m of C called\")\n",
    "        super().m()\n",
    "\n",
    "class D(B,C):\n",
    "    def m(self):\n",
    "        print(\"m of D called\")\n",
    "        super().m()"
   ]
  },
  {
   "cell_type": "markdown",
   "metadata": {},
   "source": [
    "It also solves our problem, but in a beautiful design as well:"
   ]
  },
  {
   "cell_type": "code",
   "execution_count": 14,
   "metadata": {},
   "outputs": [
    {
     "name": "stdout",
     "output_type": "stream",
     "text": [
      "m of D called\n",
      "m of B called\n",
      "m of C called\n",
      "m of A called\n"
     ]
    }
   ],
   "source": [
    "x = D()\n",
    "x.m()"
   ]
  },
  {
   "cell_type": "markdown",
   "metadata": {},
   "source": [
    "The super function is often used when instances are initialized with the ```__init__``` method:"
   ]
  },
  {
   "cell_type": "code",
   "execution_count": 15,
   "metadata": {},
   "outputs": [],
   "source": [
    "class A:\n",
    "    def __init__(self):\n",
    "        print(\"A.__init__\")\n",
    "\n",
    "class B(A):\n",
    "    def __init__(self):\n",
    "        print(\"B.__init__\")\n",
    "        super().__init__()\n",
    "    \n",
    "class C(A):\n",
    "    def __init__(self):\n",
    "        print(\"C.__init__\")\n",
    "        super().__init__()\n",
    "\n",
    "\n",
    "class D(B,C):\n",
    "    def __init__(self):\n",
    "        print(\"D.__init__\")\n",
    "        super().__init__()"
   ]
  },
  {
   "cell_type": "markdown",
   "metadata": {},
   "source": [
    "We demonstrate the way of working in the following interactive session:"
   ]
  },
  {
   "cell_type": "code",
   "execution_count": 16,
   "metadata": {},
   "outputs": [
    {
     "name": "stdout",
     "output_type": "stream",
     "text": [
      "D.__init__\n",
      "B.__init__\n",
      "C.__init__\n",
      "A.__init__\n"
     ]
    }
   ],
   "source": [
    "d = D()"
   ]
  },
  {
   "cell_type": "code",
   "execution_count": 17,
   "metadata": {},
   "outputs": [
    {
     "name": "stdout",
     "output_type": "stream",
     "text": [
      "C.__init__\n",
      "A.__init__\n"
     ]
    }
   ],
   "source": [
    "c = C()"
   ]
  },
  {
   "cell_type": "code",
   "execution_count": 18,
   "metadata": {},
   "outputs": [
    {
     "name": "stdout",
     "output_type": "stream",
     "text": [
      "B.__init__\n",
      "A.__init__\n"
     ]
    }
   ],
   "source": [
    "b = B()"
   ]
  },
  {
   "cell_type": "code",
   "execution_count": 19,
   "metadata": {},
   "outputs": [
    {
     "name": "stdout",
     "output_type": "stream",
     "text": [
      "A.__init__\n"
     ]
    }
   ],
   "source": [
    "a = A()"
   ]
  },
  {
   "cell_type": "markdown",
   "metadata": {},
   "source": [
    "The question arises about how the super functions makes decisions. How does it decide which class has to be used? As we have already mentioned, it uses the so-called method resolution order(MRO). It is based on the \"C3 superclass linearisation\" algorithm. This is called a linearisation, because the tree structure is broken down into a linear order. The mro method can be used to create this list:"
   ]
  },
  {
   "cell_type": "code",
   "execution_count": 20,
   "metadata": {},
   "outputs": [
    {
     "data": {
      "text/plain": [
       "[__main__.D, __main__.B, __main__.C, __main__.A, object]"
      ]
     },
     "execution_count": 20,
     "metadata": {},
     "output_type": "execute_result"
    }
   ],
   "source": [
    "D.mro()"
   ]
  },
  {
   "cell_type": "code",
   "execution_count": 21,
   "metadata": {},
   "outputs": [
    {
     "data": {
      "text/plain": [
       "[__main__.B, __main__.A, object]"
      ]
     },
     "execution_count": 21,
     "metadata": {},
     "output_type": "execute_result"
    }
   ],
   "source": [
    "B.mro()"
   ]
  },
  {
   "cell_type": "code",
   "execution_count": 22,
   "metadata": {},
   "outputs": [
    {
     "data": {
      "text/plain": [
       "[__main__.A, object]"
      ]
     },
     "execution_count": 22,
     "metadata": {},
     "output_type": "execute_result"
    }
   ],
   "source": [
    "A.mro()"
   ]
  },
  {
   "cell_type": "markdown",
   "metadata": {},
   "source": [
    "### Polymorphism\n",
    "\n",
    "<img  class=\"imgright\" width=300 src=\"../images/Morpheus_and_Iris.webp\" srcset=\"../images/Morpheus_and_Iris_400w.webp 400w,../images/Morpheus_and_Iris_350w.webp 350w,../images/Morpheus_and_Iris_300w.webp 300w\" alt=\"Morpheus and Iris\" />\n",
    "\n",
    "Polymorphism is construed from two Greek words. \"Poly\" stands for \"much\" or \"many\" and \"morph\" means shape or form. Polymorphism is the state or condition of being polymorphous, or if we use the translations of the components \"the ability to be in many shapes or forms. Polymorphism is a term used in many scientific areas. In crystallography it defines the state, if something crystallizes into two or more chemically identical but crystallographically distinct forms. Biologists know polymorphism as the existence of an organism in several form or colour varieties. The Romans even had a god, called Morpheus, who is able to take any human form: Morheus appears in Ovid's metamorphoses and is the son of Somnus, the god of sleep. You can admire Morpheus and Iris in the picture on the right side.\n",
    "\n",
    "So, before we fall asleep, we get back to Python and to what polymorphism means in the context of programming languages. Polymorphism in Computer Science is the ability to present the same interface for differing underlying forms. We can have in some programming languages polymorphic functions or methods, for example. Polymorphic functions or methods can be applied to arguments of different types, and they can behave differently depending on the type of the arguments to which they are applied. We can also define the same function name with a varying number of parameter.\n",
    "\n",
    "Let's have a look at the following Python function:"
   ]
  },
  {
   "cell_type": "code",
   "execution_count": 23,
   "metadata": {},
   "outputs": [
    {
     "name": "stdout",
     "output_type": "stream",
     "text": [
      "values:  42 43\n",
      "values:  42 43.7\n",
      "values:  42.3 43\n",
      "values:  42.0 43.9\n"
     ]
    }
   ],
   "source": [
    "def f(x, y):\n",
    "    print(\"values: \", x, y)\n",
    "\n",
    "f(42, 43)\n",
    "f(42, 43.7) \n",
    "f(42.3, 43)\n",
    "f(42.0, 43.9)"
   ]
  },
  {
   "cell_type": "markdown",
   "metadata": {},
   "source": [
    "We can call this function with various types, as demonstrated in the example. In typed programming languages like Java or C++, we would have to overload f to implement the various type combinations.\n",
    "\n",
    "Our example could be implemented like this in C++:"
   ]
  },
  {
   "cell_type": "markdown",
   "metadata": {},
   "source": [
    "<pre>\n",
    "#include <iostream>\n",
    "using namespace std;\n",
    "\n",
    "void f(int x, int y ) {\n",
    "    cout << \"values: \" << x << \", \" << x << endl;\n",
    "}\n",
    "\n",
    "void f(int x, double y ) {\n",
    "    cout << \"values: \" << x << \", \" << x << endl;\n",
    "}\n",
    "\n",
    "void f(double x, int y ) {\n",
    "    cout << \"values: \" << x << \", \" << x << endl;\n",
    "}\n",
    "\n",
    "void f(double x, double y ) {\n",
    "    cout << \"values: \" << x << \", \" << x << endl;\n",
    "}\n",
    "\n",
    "\n",
    "int main()\n",
    "{\n",
    "    f(42, 43); \n",
    "    f(42, 43.7); \n",
    "    f(42.3,43);\n",
    "    f(42.0, 43.9); \n",
    "}\n",
    "</pre>"
   ]
  },
  {
   "cell_type": "markdown",
   "metadata": {},
   "source": [
    "Python is implicitly polymorphic. We can apply our previously defined function f even to lists, strings or other types, which can be printed:"
   ]
  },
  {
   "cell_type": "code",
   "execution_count": 24,
   "metadata": {},
   "outputs": [],
   "source": [
    "def f(x,y):\n",
    "    print(\"values: \", x, y)"
   ]
  },
  {
   "cell_type": "code",
   "execution_count": 25,
   "metadata": {},
   "outputs": [
    {
     "name": "stdout",
     "output_type": "stream",
     "text": [
      "values:  [3, 5, 6] (3, 5)\n"
     ]
    }
   ],
   "source": [
    "f([3,5,6],(3,5))"
   ]
  },
  {
   "cell_type": "code",
   "execution_count": 26,
   "metadata": {},
   "outputs": [
    {
     "name": "stdout",
     "output_type": "stream",
     "text": [
      "values:  A String ('A tuple', 'with Strings')\n"
     ]
    }
   ],
   "source": [
    "f(\"A String\", (\"A tuple\", \"with Strings\"))"
   ]
  },
  {
   "cell_type": "code",
   "execution_count": 27,
   "metadata": {},
   "outputs": [
    {
     "name": "stdout",
     "output_type": "stream",
     "text": [
      "values:  {9, 2, 3} {'a': 3.4, 'b': 7.8, 'c': 9.04}\n"
     ]
    }
   ],
   "source": [
    "f({2,3,9}, {\"a\":3.4,\"b\":7.8, \"c\":9.04})"
   ]
  },
  {
   "cell_type": "markdown",
   "metadata": {},
   "source": [
    "### Footnotes\n",
    "*\n",
    "Python has used since 2.3 the ,,C3 superclass linearisation''-algorithm to determine the MRO. -->"
   ]
  }
 ],
 "metadata": {
  "kernelspec": {
   "display_name": "Python 3",
   "language": "python",
   "name": "python3"
  },
  "language_info": {
   "codemirror_mode": {
    "name": "ipython",
    "version": 3
   },
   "file_extension": ".py",
   "mimetype": "text/x-python",
   "name": "python",
   "nbconvert_exporter": "python",
   "pygments_lexer": "ipython3",
   "version": "3.7.4"
  }
 },
 "nbformat": 4,
 "nbformat_minor": 4
}
