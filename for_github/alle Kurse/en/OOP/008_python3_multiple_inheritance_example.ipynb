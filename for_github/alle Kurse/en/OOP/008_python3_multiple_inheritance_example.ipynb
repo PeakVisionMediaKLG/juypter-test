{
 "cells": [
  {
   "cell_type": "markdown",
   "metadata": {},
   "source": [
    "<br>\n",
    "\n",
    "## Multiple Inheritance: Example\n",
    "\n",
    "<br>\n",
    "\n",
    "### Robot Classes\n",
    "\n",
    "<img width=\"40%\" class=\"imgright\" src=\"../images/robot_multiple_inheritance.webp\" srcset=\"../images/robot_multiple_inheritance_600w.webp 600w,../images/robot_multiple_inheritance_500w.webp 500w,../images/robot_multiple_inheritance_400w.webp 400w,../images/robot_multiple_inheritance_350w.webp 350w,../images/robot_multiple_inheritance_300w.webp 300w\" alt=\"multiple inheritance with robots\" />\n",
    "\n",
    "This chapter of our tutorial is meant to deepen the understanding of multiple inheritance that the reader has built up in our previous chapter. We will provide a further extentive example for this important object oriented principle of the programming language Python. We will use a variation of our Robot class as the superclass. We will also summarize some other important aspects of object orientation with Python like properties. We will also work out the differences between overwriting, overloading and overriding. \n",
    "\n",
    "This example has grown during my onsite Python training classes, because I urgently needed simple and easy to understand examples of subclassing and above all one for multiple inheritance.   \n",
    "\n",
    "Starting from the superclass ```Robot``` we will derive two classes: A ```FightingRobot``` class and a ```NursingRobot``` class. \n",
    "\n",
    "Finally we will define a 'combination' of both the ```FightingRobot``` class and the ```NursingRobot``` class, i.e. we will implement a class ```FightingNurseRobot```, which will inherit both from ```FightingRobot``` and ```NursingRobot```. \n",
    "\n",
    "Let us start with our ```Robot``` class: \n",
    "We use a private class attribute ```__illegal_names``` containing a set of names not allowed to be used for naming robots. \n",
    "\n",
    "By providing an ```__add__``` method we make sure that our robots are capable of propagating. The name of the resulting robot will be automatically created. The name of a 'baby' robot will consist of the concatenation of the names of both parents separated by an hyphen. If a parent name has a name containing a hyphen, we will use only the first part before the hyphen.\n",
    "\n",
    "The robots will 'come to live' with a random value between 0 and 1 for the attribute ```health_level```. If the health_level of a Robot is below a threshold, which is defined by the class attribute ```Robot.__crucial_health_level```, it will need the nursing powers of a robot from the ```NursingClass```. To determine if a Robots needs healing, we provide a method ```needs_a_nurse``` which returns True if the value is below ```Robot.__crucial_health_level``` and False otherwise. "
   ]
  },
  {
   "cell_type": "code",
   "execution_count": 1,
   "metadata": {},
   "outputs": [],
   "source": [
    "import random\n",
    "\n",
    "class Robot():\n",
    "\n",
    "    __illegal_names = {\"Henry\", \"Oscar\"}\n",
    "    __crucial_health_level = 0.6\n",
    "    \n",
    "    def __init__(self, name):\n",
    "        self.name = name  #---> property setter\n",
    "        self.health_level = random.random()\n",
    "        \n",
    "    @property\n",
    "    def name(self):\n",
    "        return self.__name\n",
    "\n",
    "    @name.setter\n",
    "    def name(self, name):\n",
    "        if name in Robot.__illegal_names:\n",
    "            self.__name = \"Marvin\"\n",
    "        else:\n",
    "            self.__name = name\n",
    "\n",
    "    def __str__(self):\n",
    "        return self.name + \", Robot\"\n",
    " \n",
    "    def __add__(self, other):\n",
    "        first = self.name.split(\"-\")[0]\n",
    "        second = other.name.split(\"-\")[0]\n",
    "        return Robot(first + \"-\" + second)\n",
    "    \n",
    "    def needs_a_nurse(self):\n",
    "        if self.health_level < Robot.__crucial_health_level:\n",
    "            return True\n",
    "        else:\n",
    "            return False\n",
    " \n",
    "    def say_hi(self):\n",
    "        print(\"Hi, I am \" + self.name)\n",
    "        print(\"My health level is: \" + str(self.health_level)) "
   ]
  },
  {
   "cell_type": "markdown",
   "metadata": {},
   "source": [
    "We can test the newly designed ```Robot``` class now. Watch out how the hyphened names change from generation to generation: "
   ]
  },
  {
   "cell_type": "code",
   "execution_count": 2,
   "metadata": {},
   "outputs": [
    {
     "name": "stdout",
     "output_type": "stream",
     "text": [
      "Hi, I am Marvin-Enigma\n",
      "My health level is: 0.8879034405855623\n",
      "Hi, I am Enigma-Charles\n",
      "My health level is: 0.46930784534193803\n",
      "Hi, I am Marvin-Enigma\n",
      "My health level is: 0.2009467867758803\n"
     ]
    }
   ],
   "source": [
    "first_generation = (Robot(\"Marvin\"),\n",
    "                    Robot(\"Enigma-Alan\"),\n",
    "                    Robot(\"Charles-Henry\"))\n",
    " \n",
    "gen1 = first_generation # used as an abbreviation\n",
    "babies = [gen1[0] + gen1[1], gen1[1] + gen1[2]]\n",
    "babies.append(babies[0] + babies[1])\n",
    "for baby in babies:\n",
    "    baby.say_hi()"
   ]
  },
  {
   "cell_type": "markdown",
   "metadata": {},
   "source": [
    "<br>\n",
    "\n",
    "### Subclass NursingRobot\n",
    "\n",
    "We are ready now for subclassing the ```Robot``` class. We will start by creating the ```NursingRobot``` class. We extend the ```__init__``` method with a new attribute ```healing_power```.  At first we have to understand the concept of 'healing power'. Generally, it makes only sense to heal a ```Robot```, if its health level is below 1. The 'healing' in the heal method is done by setting the health_level to a random value between the old health_level and ```healing_power``` of a ```ǸursingRobot```. This value is calculated by the uniform function of the random module."
   ]
  },
  {
   "cell_type": "code",
   "execution_count": 3,
   "metadata": {},
   "outputs": [],
   "source": [
    "class NursingRobot(Robot):\n",
    " \n",
    "    def __init__(self, name=\"Hubert\", healing_power=None):\n",
    "        super().__init__(name)\n",
    "        if healing_power is None:\n",
    "            self.healing_power = random.uniform(0.8, 1)\n",
    "        else:\n",
    "            self.healing_power = healing_power\n",
    "     \n",
    "    def say_hi(self):\n",
    "        print(\"Well, well, everything will be fine ... \" + self.name + \" takes care of you!\")\n",
    "\n",
    " \n",
    "    def say_hi_to_doc(self):\n",
    "        Robot.say_hi(self)\n",
    " \n",
    "    def heal(self, robo):\n",
    "        if robo.health_level > self.healing_power:\n",
    "            print(self.name + \" not strong enough to heal \" + robo.name)\n",
    "        else:\n",
    "            robo.health_level = random.uniform(robo.health_level, self.healing_power)\n",
    "            print(robo.name + \" has been healed by \" + self.name + \"!\")\n",
    "  "
   ]
  },
  {
   "cell_type": "markdown",
   "metadata": {},
   "source": [
    "Let's heal the robot class instances which we created so far. If you look at the code, you may wonder about the function ```chain```, which is a generator from the ```itertools``` module. Logically, the same thing happens, as if we had used ```first_generation + babies```, but ```chain``` is not creating a new list. ```chain``` is iterating over both lists, one after the other and this is efficient!"
   ]
  },
  {
   "cell_type": "code",
   "execution_count": 4,
   "metadata": {},
   "outputs": [
    {
     "name": "stdout",
     "output_type": "stream",
     "text": [
      "Healing power of Hubert 0.8730202054681965\n",
      "Healing power of Emma 1\n",
      "\n",
      "Let's start the healing\n",
      "Hi, I am Marvin\n",
      "My health level is: 0.3529060178554311\n",
      "Marvin has been healed by Emma!\n",
      "New health level:  0.9005591116354148\n",
      "\n",
      "Hi, I am Enigma-Alan\n",
      "My health level is: 0.0004876210374201717\n",
      "Enigma-Alan has been healed by Emma!\n",
      "New health level:  0.5750360827887102\n",
      "\n",
      "Hi, I am Charles-Henry\n",
      "My health level is: 0.06446896431387994\n",
      "Charles-Henry has been healed by Hubert!\n",
      "New health level:  0.09474181073613296\n",
      "\n",
      "Hi, I am Marvin-Enigma\n",
      "My health level is: 0.8879034405855623\n",
      "Marvin-Enigma is healthy enough!\n",
      "\n",
      "Hi, I am Enigma-Charles\n",
      "My health level is: 0.46930784534193803\n",
      "Enigma-Charles has been healed by Hubert!\n",
      "New health level:  0.6182358513871242\n",
      "\n",
      "Hi, I am Marvin-Enigma\n",
      "My health level is: 0.2009467867758803\n",
      "Marvin-Enigma has been healed by Emma!\n",
      "New health level:  0.8204101216553784\n",
      "\n"
     ]
    }
   ],
   "source": [
    "from itertools import chain\n",
    "nurses = [NursingRobot(\"Hubert\"),\n",
    "          NursingRobot(\"Emma\", healing_power=1)]\n",
    " \n",
    "for nurse in nurses:\n",
    "    print(\"Healing power of \" + nurse.name, \n",
    "          nurse.healing_power)\n",
    " \n",
    "print(\"\\nLet's start the healing\")\n",
    "for robo in chain(first_generation, babies):\n",
    "    robo.say_hi()\n",
    "    if robo.needs_a_nurse():\n",
    "        # choose randomly a nurse:\n",
    "        nurse = random.choice(nurses)\n",
    "        nurse.heal(robo)\n",
    "        print(\"New health level: \", robo.health_level)\n",
    "    else:\n",
    "        print(robo.name + \" is healthy enough!\")\n",
    "    print()"
   ]
  },
  {
   "cell_type": "markdown",
   "metadata": {},
   "source": [
    "An interesting question is, what would happen, if Hubert and Emma get added. The question is, what the resulting type will be:"
   ]
  },
  {
   "cell_type": "code",
   "execution_count": 5,
   "metadata": {},
   "outputs": [
    {
     "name": "stdout",
     "output_type": "stream",
     "text": [
      "Hi, I am Hubert-Emma\n",
      "My health level is: 0.8844357538670625\n",
      "<class '__main__.Robot'>\n"
     ]
    }
   ],
   "source": [
    "x = nurses[0] + nurses[1]\n",
    "x.say_hi()\n",
    "print(type(x))"
   ]
  },
  {
   "cell_type": "markdown",
   "metadata": {},
   "source": [
    "We see that the result of addition of two nursing robots is a plain robot of type ```Robot```. This is not wrong but bad design. We want the resulting robots to be an instance of the ```NursingRobot``` class of course. One way to fix this would be to overload the ```__add__``` method inside of the ```NursingRobot``` class:\n",
    "\n",
    "```\n",
    "    def __add__(self, other):\n",
    "        first = self.name.split(\"-\")[0]\n",
    "        second = other.name.split(\"-\")[0]\n",
    "        return NursingRobot(first + \"-\" + second)\n",
    "```\n",
    "\n",
    "This is also bad design, because it is mainly a copy the original function with the only exception of creating an instance of NursingRobot instead of a Robot instance. \n",
    "An elegant solution would be having ```__add__``` more generally defined. Instead of creating always a ```Robot``` instance, we could have made it dependent on the type of self by using ```type(self)```. For simplicity's sake we repeat the complete example:"
   ]
  },
  {
   "cell_type": "code",
   "execution_count": 1,
   "metadata": {},
   "outputs": [],
   "source": [
    "import random\n",
    " \n",
    "class Robot():\n",
    "     \n",
    "    __illegal_names = {\"Henry\", \"Oscar\"}\n",
    "    __crucial_health_level = 0.6\n",
    " \n",
    "    def __init__(self, name):\n",
    "        self.name = name  #---> property setter\n",
    "        self.health_level = random.random()\n",
    " \n",
    "    @property\n",
    "    def name(self):\n",
    "        return self.__name\n",
    " \n",
    "    @name.setter\n",
    "    def name(self, name):\n",
    "        if name in Robot.__illegal_names:\n",
    "            self.__name = \"Marvin\"\n",
    "        else:\n",
    "            self.__name = name\n",
    " \n",
    "    def __str__(self):\n",
    "        return self.name + \", Robot\"\n",
    " \n",
    "    def __add__(self, other):\n",
    "        first = self.name.split(\"-\")[0]\n",
    "        second = other.name.split(\"-\")[0]\n",
    "        return type(self)(first + \"-\" + second)\n",
    "     \n",
    "    def needs_a_nurse(self):\n",
    "        if self.health_level < Robot.__crucial_health_level:\n",
    "            return True\n",
    "        else:\n",
    "            return False\n",
    " \n",
    "    def say_hi(self):\n",
    "        print(\"Hi, I am \" + self.name)\n",
    "        print(\"My health level is: \" + str(self.health_level))\n",
    " \n",
    " \n",
    "class NursingRobot(Robot):\n",
    " \n",
    "    def __init__(self, name=\"Hubert\", healing_power=None):\n",
    "        super().__init__(name)\n",
    "        if healing_power:\n",
    "            self.healing_power = healing_power\n",
    "        else:\n",
    "            self.healing_power = random.uniform(0.8, 1)\n",
    "    \n",
    "    def say_hi(self):\n",
    "        print(\"Well, well, everything will be fine ... \" + self.name + \" takes care of you!\")\n",
    "\n",
    " \n",
    "    def say_hi_to_doc(self):\n",
    "        Robot.say_hi(self)\n",
    " \n",
    "    def heal(self, robo):\n",
    "        if robo.health_level > self.healing_power:\n",
    "            print(self.name + \" not strong enough to heal \" + robo.name)\n",
    "        else:\n",
    "            robo.health_level = random.uniform(robo.health_level, self.healing_power)\n",
    "            print(robo.name + \" has been healed by \" + self.name + \"!\")\n",
    "   "
   ]
  },
  {
   "cell_type": "markdown",
   "metadata": {},
   "source": [
    "### Subclass FightingRobot\n",
    "\n",
    "Unfortunately, our virtual robot world is not better than their human counterpart. In other words, there will be some fighting going on as well. We subclass ```Robot``` once again to create a class with the name ```FightingRobot```. "
   ]
  },
  {
   "cell_type": "code",
   "execution_count": 7,
   "metadata": {},
   "outputs": [],
   "source": [
    "class FightingRobot(Robot):\n",
    "     \n",
    "    __maximum_damage = 0.2\n",
    "  \n",
    "    def __init__(self, name=\"Hubert\", \n",
    "                 fighting_power=None):\n",
    "        super().__init__(name)\n",
    "        if fighting_power:\n",
    "            self.fighting_power = fighting_power\n",
    "        else:\n",
    "            max_dam = FightingRobot.__maximum_damage\n",
    "            self.fighting_power = random.uniform(max_dam, 1)\n",
    "\n",
    "     \n",
    "    def say_hi(self):\n",
    "        print(\"I am the terrible ... \" + self.name)\n",
    " \n",
    "    def attack(self, other):\n",
    "        other.health_level = \\\n",
    "                    other.health_level * self.fighting_power\n",
    "        if isinstance(other, FightingRobot):\n",
    "            # the other robot fights back\n",
    "            self.health_level = \\\n",
    "                    self.health_level * other.fighting_power"
   ]
  },
  {
   "cell_type": "markdown",
   "metadata": {},
   "source": [
    "Let us see now, how the fighting works:"
   ]
  },
  {
   "cell_type": "code",
   "execution_count": 8,
   "metadata": {},
   "outputs": [
    {
     "name": "stdout",
     "output_type": "stream",
     "text": [
      "Marvin, Robot 0.9005591116354148\n",
      "Marvin, Robot 0.36022364465416595\n",
      "Enigma-Alan, Robot 0.5750360827887102\n",
      "Enigma-Alan, Robot 0.23001443311548408\n",
      "Charles-Henry, Robot 0.09474181073613296\n",
      "Charles-Henry, Robot 0.037896724294453184\n"
     ]
    }
   ],
   "source": [
    "fighters = (FightingRobot(\"Rambo\", 0.4),\n",
    "            FightingRobot(\"Terminator\", 0.2))\n",
    "  \n",
    "for robo in first_generation:\n",
    "    print(robo, robo.health_level)\n",
    "    fighters[0].attack(robo)\n",
    "    print(robo, robo.health_level)"
   ]
  },
  {
   "cell_type": "markdown",
   "metadata": {},
   "source": [
    "What about Rambo fighting Terminator? This spectacular fight can be viewed in the following code:"
   ]
  },
  {
   "cell_type": "code",
   "execution_count": 9,
   "metadata": {},
   "outputs": [
    {
     "name": "stdout",
     "output_type": "stream",
     "text": [
      "Before the battle:\n",
      "Rambo has been healed by Emma!\n",
      "Rambo, Robot 0.8481669878334196 0.4\n",
      "Terminator has been healed by Emma!\n",
      "Terminator, Robot 0.8458447223409832 0.2\n",
      "\n",
      "After the battle:\n",
      "Rambo, Robot 0.16963339756668394 0.4\n",
      "Terminator, Robot 0.33833788893639327 0.2\n"
     ]
    }
   ],
   "source": [
    "# let us make them healthier first:\n",
    " \n",
    "print(\"Before the battle:\")\n",
    "for fighter in fighters:\n",
    "    nurses[1].heal(fighter)\n",
    "    print(fighter, \n",
    "          fighter.health_level, \n",
    "          fighter.fighting_power)\n",
    " \n",
    "fighters[0].attack(fighters[1])\n",
    " \n",
    "print(\"\\nAfter the battle:\")\n",
    "for fighter in fighters:\n",
    "    print(fighter, \n",
    "          fighter.health_level, \n",
    "          fighter.fighting_power)"
   ]
  },
  {
   "cell_type": "markdown",
   "metadata": {},
   "source": [
    "### An Example of Multiple Inheritance\n",
    "\n",
    "The underlying idea of the following class ```FightingNurseRobot``` consists in having robots who can both heal and fight. "
   ]
  },
  {
   "cell_type": "code",
   "execution_count": 10,
   "metadata": {},
   "outputs": [],
   "source": [
    "class FightingNurseRobot(NursingRobot, FightingRobot):\n",
    "    \n",
    "    def __init__(self, name, mode=\"nursing\"):\n",
    "        super().__init__(name)\n",
    "        self.mode = mode    # alternatively \"fighting\"\n",
    "\n",
    "    def say_hi(self):\n",
    "        if self.mode == \"fighting\":\n",
    "            FightingRobot.say_hi(self)\n",
    "        elif self.mode == \"nursing\":\n",
    "            NursingRobot.say_hi(self)\n",
    "        else:\n",
    "            Robot.say_hi(self)       \n"
   ]
  },
  {
   "cell_type": "markdown",
   "metadata": {},
   "source": [
    "We will instantiate two instances of ```FightingNurseRobot```. You can see that after creation they are capable to heal themselves if necessary. They can also attack other robots."
   ]
  },
  {
   "cell_type": "code",
   "execution_count": 11,
   "metadata": {},
   "outputs": [
    {
     "name": "stdout",
     "output_type": "stream",
     "text": [
      "Angela has been healed by Angela!\n",
      "0.8198049162122293 0.21016386954814018\n",
      "I am the terrible ... Donald\n",
      "Well, well, everything will be fine ... Angela takes care of you!\n",
      "0.7176570622156614 0.16365553164488025\n"
     ]
    }
   ],
   "source": [
    "fn1 = FightingNurseRobot(\"Donald\", mode=\"fighting\")\n",
    "fn2 = FightingNurseRobot(\"Angela\")\n",
    " \n",
    "if fn1.needs_a_nurse():\n",
    "    fn1.heal(fn1)\n",
    "if fn2.needs_a_nurse():\n",
    "    fn2.heal(fn2)\n",
    "print(fn1.health_level, fn2.health_level)\n",
    " \n",
    "fn1.say_hi()\n",
    "fn2.say_hi()\n",
    "fn1.attack(fn2)\n",
    "print(fn1.health_level, fn2.health_level)\n",
    "\n"
   ]
  }
 ],
 "metadata": {
  "kernelspec": {
   "display_name": "Python 3",
   "language": "python",
   "name": "python3"
  },
  "language_info": {
   "codemirror_mode": {
    "name": "ipython",
    "version": 3
   },
   "file_extension": ".py",
   "mimetype": "text/x-python",
   "name": "python",
   "nbconvert_exporter": "python",
   "pygments_lexer": "ipython3",
   "version": "3.7.4"
  },
  "toc": {
   "base_numbering": 1,
   "nav_menu": {},
   "number_sections": true,
   "sideBar": true,
   "skip_h1_title": false,
   "title_cell": "Table of Contents",
   "title_sidebar": "Contents",
   "toc_cell": false,
   "toc_position": {},
   "toc_section_display": true,
   "toc_window_display": false
  }
 },
 "nbformat": 4,
 "nbformat_minor": 4
}
