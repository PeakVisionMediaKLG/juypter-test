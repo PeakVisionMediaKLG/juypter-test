{
 "cells": [
  {
   "cell_type": "markdown",
   "metadata": {},
   "source": [
    "## Magic Methods and Operator Overloading\n",
    "\n",
    "\n",
    "### Introduction\n",
    "<img class=\"imgright\" width=300 src=\"../images/marvin_the_magician.webp\" srcset=\"../images/marvin_the_magician_400w.webp 400w,../images/marvin_the_magician_350w.webp 350w,../images/marvin_the_magician_300w.webp 300w\" alt=\"Marvin, the magician\" />\n",
    "\n",
    "The so-called magic methods have nothing to do with wizardry. You have already seen them in the previous chapters of our tutorial. They are special methods with fixed names. They are the methods with this clumsy syntax, i.e. the double underscores at the beginning and the end. They are also hard to talk about. How do you pronounce or say a method name like ```__init__```? \"Underscore underscore init underscore underscore\" sounds horrible and is almost a tongue twister. \"Double underscore init double underscore\" is a lot better, but the ideal way is \"dunder init dunder\"* That's why magic methods methods are sometimes called dunder methods*!\n",
    "\n",
    "So what's magic about the ```__init__``` method? The answer is, you don't have to invoke it directly. The invocation is realized behind the scenes. When you create an instance x of a class A with the statement \"x = A()\", Python will do the necessary calls to ```__new__``` and ```__init__```.\n",
    "\n",
    "Towards the end of this chapter of our tutorial we will introduce the ```__call__``` method. It is overlooked by many beginners and even advanced programmers of Python. It is a functionality which many programming languages do not have, so programmers generally do not look for it. The ```__call__``` method enables Python programmers to write classes where the instances behave like functions. Both functions and the instances of such classes are called callables.\n",
    "\n",
    "We have encountered the concept of operator overloading many times in the course of this tutorial. We had used the plus sign to add numerical values, to concatenate strings or to combine lists:"
   ]
  },
  {
   "cell_type": "code",
   "execution_count": 2,
   "metadata": {},
   "outputs": [
    {
     "data": {
      "text/plain": [
       "9"
      ]
     },
     "execution_count": 2,
     "metadata": {},
     "output_type": "execute_result"
    }
   ],
   "source": [
    "4 + 5"
   ]
  },
  {
   "cell_type": "code",
   "execution_count": 3,
   "metadata": {},
   "outputs": [
    {
     "data": {
      "text/plain": [
       "12.8"
      ]
     },
     "execution_count": 3,
     "metadata": {},
     "output_type": "execute_result"
    }
   ],
   "source": [
    "3.8 + 9"
   ]
  },
  {
   "cell_type": "code",
   "execution_count": 4,
   "metadata": {},
   "outputs": [
    {
     "data": {
      "text/plain": [
       "'Peter Pan'"
      ]
     },
     "execution_count": 4,
     "metadata": {},
     "output_type": "execute_result"
    }
   ],
   "source": [
    "\"Peter\" + \" \" + \"Pan\""
   ]
  },
  {
   "cell_type": "code",
   "execution_count": 5,
   "metadata": {},
   "outputs": [
    {
     "data": {
      "text/plain": [
       "[3, 6, 8, 7, 11, 13]"
      ]
     },
     "execution_count": 5,
     "metadata": {},
     "output_type": "execute_result"
    }
   ],
   "source": [
    "[3,6,8] + [7,11,13]"
   ]
  },
  {
   "cell_type": "markdown",
   "metadata": {},
   "source": [
    "<img class=\"imgright\" width=200 src=\"../images/operator_overloading__add__.webp\" srcset=\"../images/operator_overloading__add___350w.webp 350w,../images/operator_overloading__add___300w.webp 300w\" alt=\"Operator Overloading __add__\" />\n",
    "\n",
    "\n",
    "It's even possible to overload the \"+\" operator as well as all the other operators for the purposes of your own class. To do this, you need to understand the underlying mechanism. There is a special (or a \"magic\") method for every operator sign. The magic method for the \"+\" sign is the ```__add__``` method. For \"-\" it is ```__sub__``` and so on. We have a complete listing of all the magic methods a little further down.\n",
    "\n",
    "The mechanism works like this: If we have an expression \"x + y\" and x is an instance of class K, then Python will check the class definition of K. If K has a method ```__add__``` it will be called with ```x.__add__(y)```, otherwise we will get an error message:\n",
    "\n",
    "<pre>\n",
    "Traceback (most recent call last):\n",
    "  File \"<stdin>\", line 1, in <module>\n",
    "TypeError: unsupported operand type(s) for +: 'K' and 'K'\n",
    "\n",
    "</pre>\n"
   ]
  },
  {
   "cell_type": "markdown",
   "metadata": {},
   "source": [
    "### Overview of Magic Methods\n",
    "\n",
    "#### Binary Operators\n",
    "\n",
    "<table\n",
    "style=\"text-align: left; width: 100%; background-color: rgb(220, 255, 220);\"\n",
    "border=\"0\" cellpadding=\"2\" cellspacing=\"2\">\n",
    "<tbody>\n",
    "<tr>\n",
    "<th style=\"vertical-align: top;\">Operator</th>\n",
    "<th style=\"vertical-align: top;\">Method</th>\n",
    "</tr>\n",
    "\n",
    "<tr>\n",
    "<td style=\"vertical-align: top;\">+</td>\n",
    "<td style=\"vertical-align: top;\">object.__add__(self, other) </td>\n",
    "</tr>\n",
    "\n",
    "<tr>\n",
    "<td style=\"vertical-align: top;\">-</td>\n",
    "<td style=\"vertical-align: top;\">object.__sub__(self, other)</td>\n",
    "</tr>\n",
    "\n",
    "<tr>\n",
    "<td style=\"vertical-align: top;\">*</td>\n",
    "<td style=\"vertical-align: top;\">object.__mul__(self, other) </td>\n",
    "</tr>\n",
    "\n",
    "<tr>\n",
    "<td style=\"vertical-align: top;\">//</td>\n",
    "<td style=\"vertical-align: top;\">object.__floordiv__(self, other)</td>\n",
    "</tr>\n",
    "\n",
    "<tr>\n",
    "<td style=\"vertical-align: top;\">/</td>\n",
    "<td style=\"vertical-align: top;\">object.__truediv__(self, other)</td>\n",
    "</tr>\n",
    "\n",
    "<tr>\n",
    "<td style=\"vertical-align: top;\">%</td>\n",
    "<td style=\"vertical-align: top;\">object.__mod__(self, other) </td>\n",
    "</tr>\n",
    "\n",
    "<tr>\n",
    "<td style=\"vertical-align: top;\">**</td>\n",
    "<td style=\"vertical-align: top;\">object.__pow__(self, other[, modulo]) </td>\n",
    "</tr>\n",
    "\n",
    "<tr>\n",
    "<td style=\"vertical-align: top;\"><<</td>\n",
    "<td style=\"vertical-align: top;\">object.__lshift__(self, other) </td>\n",
    "</tr>\n",
    "\n",
    "<tr>\n",
    "<td style=\"vertical-align: top;\">>></td>\n",
    "<td style=\"vertical-align: top;\">object.__rshift__(self, other) </td>\n",
    "</tr>\n",
    "\n",
    "<tr>\n",
    "<td style=\"vertical-align: top;\">&</td>\n",
    "<td style=\"vertical-align: top;\">object.__and__(self, other)</td>\n",
    "</tr>\n",
    "\n",
    "<tr>\n",
    "<td style=\"vertical-align: top;\">^</td>\n",
    "<td style=\"vertical-align: top;\">object.__xor__(self, other) </td>\n",
    "</tr>\n",
    "\n",
    "<tr>\n",
    "<td style=\"vertical-align: top;\">|</td>\n",
    "<td style=\"vertical-align: top;\">object.__or__(self, other) </td>\n",
    "</tr>\n",
    "</tbody>\n",
    "</table>\n",
    "\n",
    "\n",
    "\n",
    "#### Extended Assignments\n",
    "\n",
    "<table style=\"text-align: left; width: 100%; background-color: rgb(220, 255, 220);\"\n",
    "border=\"0\" cellpadding=\"2\" cellspacing=\"2\">\n",
    "<tbody>\n",
    "\n",
    "<tr>\n",
    "<th style=\"vertical-align: top;\">Operator</th>\n",
    "<th style=\"vertical-align: top;\">Method</th>\n",
    "</tr>\n",
    "\n",
    "<tr>\n",
    "<td style=\"vertical-align: top;\">+=</td>\n",
    "<td style=\"vertical-align: top;\">object.__iadd__(self, other) </td>\n",
    "</tr>\n",
    "\n",
    "<tr>\n",
    "<td style=\"vertical-align: top;\">-=</td>\n",
    "<td style=\"vertical-align: top;\">object.__isub__(self, other) </td>\n",
    "</tr>\n",
    "\n",
    "<tr>\n",
    "<td style=\"vertical-align: top;\">*=</td>\n",
    "<td style=\"vertical-align: top;\">object.__imul__(self, other) </td>\n",
    "</tr>\n",
    "\n",
    "<tr>\n",
    "<td style=\"vertical-align: top;\">/= </td>\n",
    "<td style=\"vertical-align: top;\">object.__idiv__(self, other) </td>\n",
    "</tr>\n",
    "\n",
    "<tr>\n",
    "<td style=\"vertical-align: top;\">//=</td>\n",
    "<td style=\"vertical-align: top;\">object.__ifloordiv__(self, other) </td>\n",
    "</tr>\n",
    "\n",
    "<tr>\n",
    "<td style=\"vertical-align: top;\">%=</td>\n",
    "<td style=\"vertical-align: top;\">object.__imod__(self, other) </td>\n",
    "</tr>\n",
    "\n",
    "<tr>\n",
    "<td style=\"vertical-align: top;\">**=</td>\n",
    "<td style=\"vertical-align: top;\">object.__ipow__(self, other[, modulo]) </td>\n",
    "</tr>\n",
    "\n",
    "<tr>\n",
    "<td style=\"vertical-align: top;\"><<=</td>\n",
    "<td style=\"vertical-align: top;\">object.__ilshift__(self, other) </td>\n",
    "</tr>\n",
    "\n",
    "<tr>\n",
    "<td style=\"vertical-align: top;\">>>= </td>\n",
    "<td style=\"vertical-align: top;\">object.__irshift__(self, other) </td>\n",
    "</tr>\n",
    "\n",
    "<tr>\n",
    "<td style=\"vertical-align: top;\">&=</td>\n",
    "<td style=\"vertical-align: top;\">object.__iand__(self, other) </td>\n",
    "</tr>\n",
    "\n",
    "<tr>\n",
    "<td style=\"vertical-align: top;\">^=</td>\n",
    "<td style=\"vertical-align: top;\">object.__ixor__(self, other) </td>\n",
    "</tr>\n",
    "\n",
    "<tr>\n",
    "<td style=\"vertical-align: top;\">|=</td>\n",
    "<td style=\"vertical-align: top;\">object.__ior__(self, other) </td>\n",
    "</tr>\n",
    "</tbody>\n",
    "</table>\n",
    "\n",
    "#### Unary Operators\n",
    "\n",
    "\n",
    "<table\n",
    "style=\"text-align: left; width: 100%; background-color: rgb(220, 255, 220);\"\n",
    "border=\"0\" cellpadding=\"2\" cellspacing=\"2\">\n",
    "<tbody>\n",
    "\n",
    "<tr>\n",
    "<th style=\"vertical-align: top;\">Operator</th>\n",
    "<th style=\"vertical-align: top;\">Method</th>\n",
    "</tr>\n",
    "\n",
    "<tr>\n",
    "<td style=\"vertical-align: top;\">- </td>\n",
    "<td style=\"vertical-align: top;\">object.__neg__(self) </td>\n",
    "</tr>\n",
    "\n",
    "<tr>\n",
    "<td style=\"vertical-align: top;\">+</td>\n",
    "<td style=\"vertical-align: top;\">object.__pos__(self) </td>\n",
    "</tr>\n",
    "\n",
    "<tr>\n",
    "<td style=\"vertical-align: top;\">abs()   </td>\n",
    "<td style=\"vertical-align: top;\">object.__abs__(self) </td>\n",
    "</tr>\n",
    "\n",
    "<tr>\n",
    "<td style=\"vertical-align: top;\">~</td>\n",
    "<td style=\"vertical-align: top;\">object.__invert__(self) </td>\n",
    "</tr>\n",
    "\n",
    "<tr>\n",
    "<td style=\"vertical-align: top;\">complex()       </td>\n",
    "<td style=\"vertical-align: top;\">object.__complex__(self) </td>\n",
    "</tr>\n",
    "\n",
    "<tr>\n",
    "<td style=\"vertical-align: top;\">int()           </td>\n",
    "<td style=\"vertical-align: top;\">object.__int__(self) </td>\n",
    "</tr>\n",
    "\n",
    "<tr>\n",
    "<td style=\"vertical-align: top;\">long()          </td>\n",
    "<td style=\"vertical-align: top;\">object.__long__(self) </td>\n",
    "</tr>\n",
    "\n",
    "<tr>\n",
    "<td style=\"vertical-align: top;\">float()         </td>\n",
    "<td style=\"vertical-align: top;\">object.__float__(self) </td>\n",
    "</tr>\n",
    "\n",
    "<tr>\n",
    "<td style=\"vertical-align: top;\">oct()           </td>\n",
    "<td style=\"vertical-align: top;\">object.__oct__(self) </td>\n",
    "</tr>\n",
    "\n",
    "<tr>\n",
    "<td style=\"vertical-align: top;\">hex()           </td>\n",
    "<td style=\"vertical-align: top;\">object.__hex__(self </td>\n",
    "</tr>\n",
    "\n",
    "</tbody>\n",
    "</table>\n",
    "\n",
    "#### Comparison Operators\n",
    "\n",
    "\n",
    "<table\n",
    "style=\"text-align: left; width: 100%; background-color: rgb(220, 255, 220);\"\n",
    "border=\"0\" cellpadding=\"2\" cellspacing=\"2\">\n",
    "<tbody>\n",
    "\n",
    "<tr>\n",
    "<th style=\"vertical-align: top;\">Operator</th>\n",
    "<th style=\"vertical-align: top;\">Method</th>\n",
    "</tr>\n",
    "\n",
    "<tr>\n",
    "<td style=\"vertical-align: top;\"><        </td>\n",
    "<td style=\"vertical-align: top;\">object.__lt__(self, other) </td>\n",
    "</tr>\n",
    "\n",
    "<tr>\n",
    "<td style=\"vertical-align: top;\"><=       </td>\n",
    "<td style=\"vertical-align: top;\">object.__le__(self, other) </td>\n",
    "</tr>\n",
    "\n",
    "<tr>\n",
    "<td style=\"vertical-align: top;\">==       </td>\n",
    "<td style=\"vertical-align: top;\">object.__eq__(self, other) </td>\n",
    "</tr>\n",
    "\n",
    "<tr>\n",
    "<td style=\"vertical-align: top;\">!=       </td>\n",
    "<td style=\"vertical-align: top;\">object.__ne__(self, other) </td>\n",
    "</tr>\n",
    "\n",
    "<tr>\n",
    "<td style=\"vertical-align: top;\">>=       </td>\n",
    "<td style=\"vertical-align: top;\">object.__ge__(self, other) </td>\n",
    "</tr>\n",
    "\n",
    "<tr>\n",
    "<td style=\"vertical-align: top;\">>        </th>\n",
    "<td style=\"vertical-align: top;\">object.__gt__(self, other) </td>\n",
    "</tr>\n",
    "\n",
    "<tr>\n",
    "\n",
    "</tbody>\n",
    "</table>\n"
   ]
  },
  {
   "cell_type": "markdown",
   "metadata": {},
   "source": [
    "### Example class: Length\n",
    "We will demonstrate the Length class and how you can overload the \"+\" operator for your own class. To do this, we have to overload the ```__add__``` method. Our class contains the ```__str__``` and ```__repr__``` methods as well. The instances of the class Length contain length or distance information. The attributes of an instance are self.value and self.unit.\n",
    "\n",
    "This class allows us to calculate expressions with mixed units like this one:\n",
    "<pre>\n",
    "2.56 m + 3 yd + 7.8 in + 7.03 cm\n",
    "</pre>\n",
    "The class can be used like this:"
   ]
  },
  {
   "cell_type": "code",
   "execution_count": 6,
   "metadata": {},
   "outputs": [
    {
     "name": "stdout",
     "output_type": "stream",
     "text": [
      "5.57162\n"
     ]
    }
   ],
   "source": [
    "from unit_conversions import Length\n",
    "L = Length\n",
    "print(L(2.56,\"m\") + L(3,\"yd\") + L(7.8,\"in\") + L(7.03,\"cm\"))"
   ]
  },
  {
   "cell_type": "markdown",
   "metadata": {},
   "source": [
    "The listing of the class:"
   ]
  },
  {
   "cell_type": "code",
   "execution_count": 7,
   "metadata": {},
   "outputs": [
    {
     "name": "stdout",
     "output_type": "stream",
     "text": [
      "4\n",
      "Length(5.593613298337708, 'yd')\n",
      "5.1148\n"
     ]
    }
   ],
   "source": [
    "class Length:\n",
    "\n",
    "    __metric = {\"mm\" : 0.001, \"cm\" : 0.01, \"m\" : 1, \"km\" : 1000,\n",
    "                \"in\" : 0.0254, \"ft\" : 0.3048, \"yd\" : 0.9144,\n",
    "                \"mi\" : 1609.344 }\n",
    "    \n",
    "    def __init__(self, value, unit = \"m\" ):\n",
    "        self.value = value\n",
    "        self.unit = unit\n",
    "    \n",
    "    def Converse2Metres(self):\n",
    "        return self.value * Length.__metric[self.unit]\n",
    "    \n",
    "    def __add__(self, other):\n",
    "        l = self.Converse2Metres() + other.Converse2Metres()\n",
    "        return Length(l / Length.__metric[self.unit], self.unit )\n",
    "    \n",
    "    def __str__(self):\n",
    "        return str(self.Converse2Metres())\n",
    "    \n",
    "    def __repr__(self):\n",
    "        return \"Length(\" + str(self.value) + \", '\" + self.unit + \"')\"\n",
    "\n",
    "if __name__ == \"__main__\":\n",
    "    x = Length(4)\n",
    "    print(x)\n",
    "    y = eval(repr(x))\n",
    "\n",
    "    z = Length(4.5, \"yd\") + Length(1)\n",
    "    print(repr(z))\n",
    "    print(z)"
   ]
  },
  {
   "cell_type": "markdown",
   "metadata": {},
   "source": [
    "We use the method ```__iadd__``` to implement the extended assignment:"
   ]
  },
  {
   "cell_type": "code",
   "execution_count": 8,
   "metadata": {},
   "outputs": [],
   "source": [
    "def __iadd__(self, other):\n",
    "    l = self.Converse2Metres() + other.Converse2Metres()\n",
    "    self.value = l / Length.__metric[self.unit]\n",
    "    return self"
   ]
  },
  {
   "cell_type": "markdown",
   "metadata": {},
   "source": [
    "Now we are capable of writing the following assignments:"
   ]
  },
  {
   "cell_type": "code",
   "execution_count": 9,
   "metadata": {},
   "outputs": [],
   "source": [
    "x += Length(1)\n",
    "x += Length(4, \"yd\")"
   ]
  },
  {
   "cell_type": "markdown",
   "metadata": {},
   "source": [
    "We added 1 metre in the example above by writing \"x += Length(1))\". Most certainly, you will agree with us that it would be more convenient to simply write \"x += 1\" instead. We also want to treat expressions like \"Length(5,\"yd\") + 4.8\" similarly. So, if somebody uses a type int or float, our class takes it automatically for \"metre\" and converts it into a Length object. It's easy to adapt our ```__add__``` and ```__iadd__``` method for this task. All we have to do is to check the type of the parameter \"other\":"
   ]
  },
  {
   "cell_type": "code",
   "execution_count": 10,
   "metadata": {},
   "outputs": [],
   "source": [
    "def __add__(self, other):\n",
    "    if type(other) == int or type(other) == float:\n",
    "        l = self.Converse2Metres() + other\n",
    "    else:\n",
    "        l = self.Converse2Metres() + other.Converse2Metres()\n",
    "    return Length(l / Length.__metric[self.unit], self.unit )\n",
    "\n",
    "def __iadd__(self, other):\n",
    "    if type(other) == int or type(other) == float:\n",
    "        l = self.Converse2Metres() + other\n",
    "    else:\n",
    "        l = self.Converse2Metres() + other.Converse2Metres()\n",
    "    self.value = l / Length.__metric[self.unit]\n",
    "    return self"
   ]
  },
  {
   "cell_type": "markdown",
   "metadata": {},
   "source": [
    "It's a safe bet that if somebody works with adding integers and floats from the right side for a while, he or she will want to have the same from the left side! SWhat will happen, if we execute the following code line:\n",
    "\n",
    "```x = 5 + Length(3, \"yd\")```\n",
    "\n",
    "We will get an exception:\n",
    "\n",
    "```AttributeError: 'int' object has no attribute 'Converse2Metres'```\n",
    "\n"
   ]
  },
  {
   "cell_type": "markdown",
   "metadata": {},
   "source": [
    "Of course, the left side has to be of type \"Length\", because otherwise Python tries to apply the ```__add__``` method from int, which can't cope with Length objects as second arguments!\n",
    "\n",
    "Python provides a solution for this problem as well. It's the ```__radd__``` method. It works like this: Python tries to evaluate the expression \"5 + Length(3, 'yd')\". First it calls int.```__add__```(5,Length(3, 'yd')), which will raise an exception. After this it will try to invoke Length.```__radd__```(Length(3, \"yd\"), 5). It's easy to recognize that the implementation of ```__radd__``` is analogue to ```__add__```:"
   ]
  },
  {
   "cell_type": "code",
   "execution_count": 11,
   "metadata": {},
   "outputs": [],
   "source": [
    "def __radd__(self, other):\n",
    "    if type(other) == int or type(other) == float:\n",
    "        l = self.Converse2Metres() + other\n",
    "    else:\n",
    "        l = self.Converse2Metres() + other.Converse2Metres()\n",
    "    return Length(l / Length.__metric[self.unit], self.unit )"
   ]
  },
  {
   "cell_type": "markdown",
   "metadata": {},
   "source": [
    "It's advisable to make use of the ```__add__``` method in the ```__radd__``` method:"
   ]
  },
  {
   "cell_type": "code",
   "execution_count": 12,
   "metadata": {},
   "outputs": [],
   "source": [
    "def __radd__(self, other):\n",
    "    return Length.__add__(self,other)  "
   ]
  },
  {
   "cell_type": "markdown",
   "metadata": {},
   "source": [
    "The following diagram illustrates the relationship between ```__add__``` and ```__radd__```:\n",
    " \n",
    "<img width=90% src=\"../images/operator_overloading__radd__.webp\" srcset=\"../images/operator_overloading__radd___700w.webp 700w,../images/operator_overloading__radd___600w.webp 600w,../images/operator_overloading__radd___500w.webp 500w,../images/operator_overloading__radd___400w.webp 400w,../images/operator_overloading__radd___350w.webp 350w,../images/operator_overloading__radd___300w.webp 300w\" alt=\"relationship between __add__ and __radd__\">"
   ]
  },
  {
   "cell_type": "markdown",
   "metadata": {},
   "source": [
    "### The __call__ method\n",
    "\n",
    "Before we will come to the ```__call__``` method, we have to know what a callable is. In general, a \"callable\" is an object that can be called like a function and behaves like one. All functions are also callables. Python provides a function with the name ```callable```. With the help of this funciton we can determine whether an object is callable or not.\n",
    "The function ```callable``` returns a Boolean truth value which indicates whether the object passed as an argument can be called like a function or not. In addition to functions, we have already seen another form of ```callables```: classes\n",
    "\n"
   ]
  },
  {
   "cell_type": "code",
   "execution_count": 13,
   "metadata": {},
   "outputs": [
    {
     "name": "stdout",
     "output_type": "stream",
     "text": [
      "the_answer:  True\n"
     ]
    }
   ],
   "source": [
    "def the_answer(question):\n",
    "    return 42\n",
    "\n",
    "print(\"the_answer: \", callable(the_answer))"
   ]
  },
  {
   "cell_type": "markdown",
   "metadata": {},
   "source": [
    "The ```__call__``` method can be used to turn the instances of the class into callables. Functions are callable objects. A callable object is an object which can be used and behaves like a function but might not be a function. By using the ```__call__``` method it is possible to define classes in a way that the instances will be callable objects. The ```__call__``` method is called, if the instance is called \"like a function\", i.e. using brackets. The following class definition is the simplest possible way to define a class with a ```__call__``` method."
   ]
  },
  {
   "cell_type": "code",
   "execution_count": 14,
   "metadata": {},
   "outputs": [
    {
     "name": "stdout",
     "output_type": "stream",
     "text": [
      "spam spam\n"
     ]
    }
   ],
   "source": [
    "class FoodSupply:\n",
    "    \n",
    "    def __call__(self):\n",
    "        return \"spam\"\n",
    "    \n",
    "foo = FoodSupply()\n",
    "bar = FoodSupply()\n",
    "\n",
    "print(foo(), bar())"
   ]
  },
  {
   "cell_type": "markdown",
   "metadata": {},
   "source": [
    "The previous class example is extremely simple, but useless in practical terms. Whenever we create an instance of the class, we get a callable. These callables are always defining the same constant function. A function without any input and a constant output \"spam\". We'll now define a class which is slightly more useful. We define a class with the name TriangleArea. This class has only one method, which is the ```__call__```method. The ```__call__``` method calculates the area of an arbitrary triangle, if the length of the three sides are given."
   ]
  },
  {
   "cell_type": "code",
   "execution_count": 15,
   "metadata": {},
   "outputs": [
    {
     "name": "stdout",
     "output_type": "stream",
     "text": [
      "6.0\n"
     ]
    }
   ],
   "source": [
    "class TriangleArea:\n",
    "    \n",
    "    def __call__(self, a, b, c):\n",
    "        p = (a + b + c) / 2\n",
    "        result = (p * (p - a) * (p - b) * (p - c)) ** 0.5\n",
    "        return result\n",
    "    \n",
    "    \n",
    "area = TriangleArea()\n",
    "\n",
    "print(area(3, 4, 5))"
   ]
  },
  {
   "cell_type": "markdown",
   "metadata": {},
   "source": [
    "This program returns 6.0. This class is not very exciting, even though we can create an arbitrary number of instances where each instance just executes an unaltered ```__call__``` function of the TrianlgeClass. We cannot pass parameters to the instanciation and the ```__call__``` of each instance returns the value of the area of the triangle. So each instance behaves like the area function.\n",
    "\n",
    "After the two very didactic and not very practical examples, we want to demonstrate a more practical example with the following. We define a class that can be used to define linear equations:"
   ]
  },
  {
   "cell_type": "code",
   "execution_count": 16,
   "metadata": {},
   "outputs": [
    {
     "name": "stdout",
     "output_type": "stream",
     "text": [
      "-5 1.0\n",
      "-4 1.4\n",
      "-3 1.7999999999999998\n",
      "-2 2.2\n",
      "-1 2.6\n",
      "0 3.0\n",
      "1 3.4\n",
      "2 3.8\n",
      "3 4.2\n",
      "4 4.6\n",
      "5 5.0\n"
     ]
    }
   ],
   "source": [
    "class StraightLines():\n",
    "    \n",
    "    def __init__(self, m, c):\n",
    "        self.slope = m\n",
    "        self.y_intercept = c\n",
    "        \n",
    "    def __call__(self, x):\n",
    "        return self.slope * x + self.y_intercept\n",
    "    \n",
    "line = StraightLines(0.4, 3)\n",
    "\n",
    "for x in range(-5, 6):\n",
    "    print(x, line(x))"
   ]
  },
  {
   "cell_type": "markdown",
   "metadata": {},
   "source": [
    "We will use this class now to create some straight lines and visualize them with matplotlib:"
   ]
  },
  {
   "cell_type": "code",
   "execution_count": 17,
   "metadata": {},
   "outputs": [
    {
     "data": {
      "image/png": "[encoded data removed]",
      "text/plain": [
       "<Figure size 432x288 with 1 Axes>"
      ]
     },
     "metadata": {
      "needs_background": "light"
     },
     "output_type": "display_data"
    }
   ],
   "source": [
    "lines = []\n",
    "lines.append(StraightLines(1, 0))\n",
    "lines.append(StraightLines(0.5, 3))\n",
    "lines.append(StraightLines(-1.4, 1.6))\n",
    "\n",
    "import matplotlib.pyplot as plt\n",
    "import numpy as np\n",
    "X = np.linspace(-5,5,100)\n",
    "for index, line in enumerate(lines):\n",
    "    line = np.vectorize(line)\n",
    "    plt.plot(X, line(X), label='line' + str(index))\n",
    "\n",
    "plt.title('Some straight lines')\n",
    "plt.xlabel('x', color='#1C2833')\n",
    "plt.ylabel('y', color='#1C2833')\n",
    "plt.legend(loc='upper left')\n",
    "plt.grid()\n",
    "plt.show()"
   ]
  },
  {
   "cell_type": "markdown",
   "metadata": {},
   "source": [
    "Our next example is also exciting. The class FuzzyTriangleArea defines a ```__call__``` method which implements a fuzzy behaviour in the calculations of the area. The result should be correct with a likelihood of p, e.g. 0.8. If the result is not correct the result will be in a range of ± v %. e.g. 0.1."
   ]
  },
  {
   "cell_type": "code",
   "execution_count": 18,
   "metadata": {},
   "outputs": [
    {
     "name": "stdout",
     "output_type": "stream",
     "text": [
      "5.993, 5.95\n",
      "6.000, 6.00\n",
      "6.000, 6.00\n",
      "5.984, 5.91\n",
      "6.000, 6.00\n",
      "6.000, 6.00\n",
      "6.000, 6.17\n",
      "6.000, 6.13\n",
      "6.000, 6.01\n",
      "5.951, 6.00\n",
      "6.000, 5.95\n",
      "5.963, 6.00\n"
     ]
    }
   ],
   "source": [
    "import random\n",
    "\n",
    "class FuzzyTriangleArea:\n",
    "    \n",
    "    def __init__(self, p=0.8, v=0.1):\n",
    "        self.p, self.v = p, v\n",
    "        \n",
    "    def __call__(self, a, b, c):\n",
    "        p = (a + b + c) / 2\n",
    "        result = (p * (p - a) * (p - b) * (p - c)) ** 0.5\n",
    "        if random.random() <= self.p:\n",
    "            return result\n",
    "        else:\n",
    "            return random.uniform(result-self.v, \n",
    "                                  result+self.v)\n",
    "        \n",
    "area1 = FuzzyTriangleArea()\n",
    "area2 = FuzzyTriangleArea(0.5, 0.2)\n",
    "for i in range(12):\n",
    "    print(f\"{area1(3, 4, 5):4.3f}, {area2(3, 4, 5):4.2f}\")"
   ]
  },
  {
   "cell_type": "markdown",
   "metadata": {},
   "source": [
    "Beware that this output differs with every call! We can see the in most cases we get the right value for the area but sometimes not."
   ]
  },
  {
   "cell_type": "markdown",
   "metadata": {},
   "source": [
    "We can create many different instances of the previous class. Each of these behaves like an area function, which returns a value for the area, which may or may not be correct, depending on the instantiation parameters p and v. We can see those instances as experts (expert functions) which return in most cases the correct answer, if we use p values close to 1. If the value v is close to zero, the error will be small, if at all. The next task would be merging such experts, let's call them exp1, exp2, ..., expn to get an improved result. We can perform a vote on the results, i.e. we will return the value which is most often occuring, the correct value. Alternatively, we can calculate the arithmetic mean. We will implement both possibilities in our class FuzzyTriangleArea: \n",
    "\n",
    "<img width=90% src=\"../images/merger_callable__call__.webp\" srcset=\"../images/merger_callable__call___800w.webp 800w,../images/merger_callable__call___700w.webp 700w,../images/merger_callable__call___600w.webp 600w,../images/merger_callable__call___500w.webp 500w,../images/merger_callable__call___400w.webp 400w,../images/merger_callable__call___350w.webp 350w,../images/merger_callable__call___300w.webp 300w\" alt=\"MergeExperts class with __call__ method\">"
   ]
  },
  {
   "cell_type": "code",
   "execution_count": 19,
   "metadata": {},
   "outputs": [
    {
     "name": "stdout",
     "output_type": "stream",
     "text": [
      "6.0\n",
      "6.0073039634137375\n"
     ]
    }
   ],
   "source": [
    "from random import uniform, random\n",
    "from collections import Counter\n",
    "\n",
    "class FuzzyTriangleArea:\n",
    "\n",
    "    def __init__(self, p=0.8, v=0.1):\n",
    "        self.p, self.v = p, v\n",
    "        \n",
    "    def __call__(self, a, b, c):\n",
    "        p = (a + b + c) / 2\n",
    "        result = (p * (p - a) * (p - b) * (p - c)) ** 0.5\n",
    "        if random() <= self.p:\n",
    "            return result\n",
    "        else:\n",
    "            return uniform(result-self.v, \n",
    "                                  result+self.v)\n",
    "     \n",
    "   \n",
    "class MergeExperts:\n",
    "    \n",
    "    def __init__(self, mode, *experts):\n",
    "        self.mode, self.experts = mode, experts\n",
    "        \n",
    "    def __call__(self, a, b, c):\n",
    "        results= [exp(a, b, c) for exp in self.experts]\n",
    "        if self.mode == \"vote\":\n",
    "            c = Counter(results)\n",
    "            return c.most_common(1)[0][0]\n",
    "        elif self.mode == \"mean\":\n",
    "            return sum(results) / len(results)\n",
    "\n",
    "rvalues = [(uniform(0.7, 0.9), uniform(0.05, 0.2)) for _ in range(20)]\n",
    "experts = [FuzzyTriangleArea(p, v) for p, v in rvalues]\n",
    "merger1 = MergeExperts(\"vote\", *experts)\n",
    "print(merger1(3, 4, 5))\n",
    "merger2 = MergeExperts(\"mean\", *experts)\n",
    "print(merger2(3, 4, 5))"
   ]
  },
  {
   "cell_type": "markdown",
   "metadata": {},
   "source": [
    "The following example defines a class with which we can create abitrary polynomial functions:"
   ]
  },
  {
   "cell_type": "code",
   "execution_count": 20,
   "metadata": {},
   "outputs": [
    {
     "name": "stdout",
     "output_type": "stream",
     "text": [
      "1 42 2.75 3.25\n",
      "2 42 3.5 9.5\n",
      "3 42 4.25 26.75\n",
      "4 42 5.0 61.0\n",
      "5 42 5.75 118.25\n",
      "6 42 6.5 204.5\n",
      "7 42 7.25 325.75\n",
      "8 42 8.0 488.0\n",
      "9 42 8.75 697.25\n"
     ]
    }
   ],
   "source": [
    "class Polynomial:\n",
    "    \n",
    "    def __init__(self, *coefficients):\n",
    "        self.coefficients = coefficients[::-1]\n",
    "        \n",
    "    def __call__(self, x):\n",
    "        res = 0\n",
    "        for index, coeff in enumerate(self.coefficients):\n",
    "            res += coeff * x** index\n",
    "        return res\n",
    "\n",
    "# a constant function\n",
    "p1 = Polynomial(42)\n",
    "\n",
    "# a straight Line\n",
    "p2 = Polynomial(0.75, 2)\n",
    "\n",
    "# a third degree Polynomial\n",
    "p3 = Polynomial(1, -0.5, 0.75, 2)\n",
    "\n",
    "for i in range(1, 10):\n",
    "    print(i, p1(i), p2(i), p3(i))"
   ]
  },
  {
   "cell_type": "markdown",
   "metadata": {},
   "source": [
    "You will find further interesting examples of the ```__call__``` function in our tutorial in the chapters [Decorators](https://www.python-course.eu/python3_decorators.php) and [Memoization with Decorators](https://www.python-course.eu/python3_memoization.php). You may also consult our chapter on [Polynomials](https://www.python-course.eu/polynomial_class_in_python.php)."
   ]
  },
  {
   "cell_type": "markdown",
   "metadata": {},
   "source": [
    "### Standard Classes as Base Classes\n",
    "It's possible to use standard classes - like int, float, dict or lists - as base classes as well.\n",
    "\n",
    "We extend the list class by adding a push method:"
   ]
  },
  {
   "cell_type": "code",
   "execution_count": 21,
   "metadata": {},
   "outputs": [
    {
     "name": "stdout",
     "output_type": "stream",
     "text": [
      "[3, 4, 47]\n"
     ]
    }
   ],
   "source": [
    "class Plist(list):\n",
    "\n",
    "    def __init__(self, l):\n",
    "        list.__init__(self, l)\n",
    "\n",
    "    def push(self, item):\n",
    "        self.append(item)\n",
    "\n",
    "\n",
    "if __name__ == \"__main__\":\n",
    "    x = Plist([3,4])\n",
    "    x.push(47)\n",
    "    print(x)"
   ]
  },
  {
   "cell_type": "markdown",
   "metadata": {},
   "source": [
    "This means that all the previously introduced binary and extended assignment operators exist in the \"reversed\" version as well:            \n",
    "```__radd__``` , ```__rsub__``` , ```__rmul__``` etc."
   ]
  },
  {
   "cell_type": "markdown",
   "metadata": {},
   "source": [
    "### Exercises\n",
    "\n",
    "<img class=\"imgright\" width=300 src=\"../images/money_canadian_part.webp\" srcset=\"../images/money_canadian_part_800w.webp 800w,../images/money_canadian_part_700w.webp 700w,../images/money_canadian_part_600w.webp 600w,../images/money_canadian_part_500w.webp 500w,../images/money_canadian_part_400w.webp 400w,../images/money_canadian_part_350w.webp 350w,../images/money_canadian_part_300w.webp 300w\" alt=\"Canadian money\" />\n",
    "    \n",
    "#### Exercise 1\n",
    "\n",
    "Write a class with the name Ccy, similar to the previously defined Length class.Ccy should contain values in various currencies, e.g. \"EUR\", \"GBP\" or \"USD\". An instance should contain the amount and the currency unit. The class, you are going to design as an exercise, might be best described with the following example session:\n",
    "\n",
    "```\n",
    "from currencies import Ccy\n",
    "v1 = Ccy(23.43, \"EUR\")\n",
    "v2 = Ccy(19.97, \"USD\")\n",
    "print(v1 + v2)\n",
    "print(v2 + v1)\n",
    "print(v1 + 3) # an int or a float is considered to be a EUR value\n",
    "print(3 + v1)\n",
    "```"
   ]
  },
  {
   "cell_type": "markdown",
   "metadata": {},
   "source": [
    "### Solutions to our Exercises\n",
    "\n",
    "#### Solution to Exercise 1\n"
   ]
  },
  {
   "cell_type": "code",
   "execution_count": 29,
   "metadata": {},
   "outputs": [
    {
     "name": "stdout",
     "output_type": "stream",
     "text": [
      "Overwriting currencies.py\n"
     ]
    }
   ],
   "source": [
    "%%writefile currencies.py\n",
    "\n",
    "\"\"\"\n",
    "\n",
    "    The class \"Ccy\" can be used to define money values in various currencies. A Ccy instance has the string attributes 'unit' (e.g. 'CHF', 'CAD' od 'EUR' and the 'value' as a float. \n",
    "    A currency object consists of a value and the corresponding unit.\n",
    "    \"\"\"\n",
    "\n",
    "        \n",
    "\n",
    "class Ccy:\n",
    "\n",
    "    currencies =  {'CHF': 1.0821202355817312, \n",
    "                       'CAD': 1.488609845538393, \n",
    "                       'GBP': 0.8916546282920325, \n",
    "                       'JPY': 114.38826536281809, \n",
    "                       'EUR': 1.0, \n",
    "                       'USD': 1.11123458162018}\n",
    "    \n",
    "    def __init__(self, value, unit=\"EUR\"):\n",
    "        self.value = value\n",
    "        self.unit = unit\n",
    "\n",
    "    def __str__(self):\n",
    "        return \"{0:5.2f}\".format(self.value) + \" \" + self.unit\n",
    "\n",
    "    def changeTo(self, new_unit):\n",
    "        \"\"\"\n",
    "            An Ccy object is transformed from the unit \"self.unit\" to \"new_unit\"\n",
    "        \"\"\"\n",
    "        self.value = (self.value / Ccy.currencies[self.unit] * Ccy.currencies[new_unit])\n",
    "        self.unit = new_unit\n",
    "            \n",
    "    def __add__(self, other):\n",
    "        \"\"\"\n",
    "            Defines the '+' operator.\n",
    "            If other is a CCy object the currency values \n",
    "            are added and the result will be the unit of \n",
    "            self. If other is an int or a float, other will\n",
    "            be treated as a Euro value. \n",
    "        \"\"\"\n",
    "        if type(other) == int or type(other) == float:\n",
    "            x = (other * Ccy.currencies[self.unit])\n",
    "        else:\n",
    "            x = (other.value / Ccy.currencies[other.unit] * Ccy.currencies[self.unit]) \n",
    "        return Ccy(x + self.value, self.unit)\n",
    "\n",
    "\n",
    "    def __iadd__(self, other):\n",
    "        \"\"\"\n",
    "            Similar to __add__\n",
    "        \"\"\"\n",
    "        if type(other) == int or type(other) == float:\n",
    "            x = (other * Ccy.currencies[self.unit])\n",
    "        else:\n",
    "            x = (other.value / Ccy.currencies[other.unit] * Ccy.currencies[self.unit])\n",
    "        self.value += x\n",
    "        return self\n",
    "\n",
    "    def __radd__(self, other):\n",
    "        res = self + other\n",
    "        if self.unit != \"EUR\":\n",
    "            res.changeTo(\"EUR\")\n",
    "        return res\n",
    "\n",
    "        # __sub__, __isub__ and __rsub__ can be defined analogue\n",
    "\n"
   ]
  },
  {
   "cell_type": "code",
   "execution_count": 30,
   "metadata": {},
   "outputs": [
    {
     "name": "stdout",
     "output_type": "stream",
     "text": [
      "282.91 EUR\n",
      "28.40 EUR\n"
     ]
    }
   ],
   "source": [
    "from currencies import Ccy\n",
    "\n",
    "x = Ccy(10,\"USD\")\n",
    "y = Ccy(11)\n",
    "z = Ccy(12.34, \"JPY\")\n",
    "z = 7.8 + x + y + 255 + z\n",
    "print(z)\n",
    "\n",
    "lst = [Ccy(10,\"USD\"), Ccy(11), Ccy(12.34, \"JPY\"), Ccy(12.34, \"CAD\")]\n",
    "\n",
    "z = sum(lst)\n",
    "\n",
    "print(z)"
   ]
  },
  {
   "cell_type": "markdown",
   "metadata": {},
   "source": [
    "Another interesting aspect of this currency converter class in Python can be shown, if we add multiplication. You will easily understand that it makes no sense to allow expressions like ``` \"12.4 € * 3.4 USD\" ``` (or in prefix notation: \"€ 12.4 * $ 3.4\"), but it makes perfect sense to evaluate \"3 * 4.54 €\". You can find the new currency converter class with the newly added methods for ```__mul__```, ```__imul__``` and ```__rmul__``` in the following listing:"
   ]
  },
  {
   "cell_type": "code",
   "execution_count": 39,
   "metadata": {},
   "outputs": [
    {
     "name": "stdout",
     "output_type": "stream",
     "text": [
      "Overwriting currency_converter.py\n"
     ]
    }
   ],
   "source": [
    "%%writefile currency_converter.py\n",
    "\n",
    "\"\"\"\n",
    "    The class \"Ccy\" can be used to define money values in various currencies. A Ccy instance has the string attributes 'unit' (e.g. 'CHF', 'CAD' od 'EUR' and the 'value' as a float. \n",
    "    A currency object consists of a value and the corresponding unit.\n",
    "\"\"\"   \n",
    "\n",
    "class Ccy:\n",
    "\n",
    "    currencies =  {'CHF': 1.0821202355817312, \n",
    "                       'CAD': 1.488609845538393, \n",
    "                       'GBP': 0.8916546282920325, \n",
    "                       'JPY': 114.38826536281809, \n",
    "                       'EUR': 1.0, \n",
    "                       'USD': 1.11123458162018}\n",
    "        \n",
    "    def __init__(self, value, unit=\"EUR\"):\n",
    "        self.value = value\n",
    "        self.unit = unit\n",
    "\n",
    "    def __str__(self):\n",
    "        return \"{0:5.2f}\".format(self.value) + \" \" + self.unit\n",
    "\n",
    "    def __repr__(self):\n",
    "        return 'Ccy(' + str(self.value) + ', \"' + self.unit + '\")'\n",
    "\n",
    "    def changeTo(self, new_unit):\n",
    "        \"\"\"\n",
    "            An Ccy object is transformed from the unit \"self.unit\" to \"new_unit\"\n",
    "        \"\"\"\n",
    "        self.value = (self.value / Ccy.currencies[self.unit] * Ccy.currencies[new_unit])\n",
    "        self.unit = new_unit\n",
    "            \n",
    "    def __add__(self, other):\n",
    "        \"\"\"\n",
    "            Defines the '+' operator.\n",
    "            If other is a CCy object the currency values \n",
    "            are added and the result will be the unit of \n",
    "            self. If other is an int or a float, other will\n",
    "            be treated as a Euro value. \n",
    "        \"\"\"\n",
    "        if type(other) == int or type(other) == float:\n",
    "                x = (other * Ccy.currencies[self.unit])\n",
    "        else:\n",
    "                x = (other.value / Ccy.currencies[other.unit] * Ccy.currencies[self.unit]) \n",
    "        return Ccy(x + self.value, self.unit)\n",
    "\n",
    "\n",
    "    def __iadd__(self, other):\n",
    "        \"\"\"\n",
    "            Similar to __add__\n",
    "        \"\"\"\n",
    "        if type(other) == int or type(other) == float:\n",
    "            x = (other * Ccy.currencies[self.unit])\n",
    "        else:\n",
    "            x = (other.value / Ccy.currencies[other.unit] * Ccy.currencies[self.unit])\n",
    "            self.value += x\n",
    "        return self\n",
    "\n",
    "    def __radd__(self, other):\n",
    "        res = self + other\n",
    "        if self.unit != \"EUR\":\n",
    "            res.changeTo(\"EUR\")\n",
    "        return res\n",
    "        \n",
    "        # __sub__, __isub__ and __rsub__ can be defined analogue\n",
    "        \n",
    "\n",
    "    def __mul__(self, other):\n",
    "        \"\"\"\n",
    "            Multiplication is only defined as a scalar multiplication, \n",
    "            i.e. a money value can be multiplied by an int or a float.\n",
    "            It is not possible to multiply to money values\n",
    "        \"\"\"\n",
    "        if type(other)==int or type(other)==float:\n",
    "            return Ccy(self.value * other, self.unit)\n",
    "        else:\n",
    "            raise TypeError(\"unsupported operand type(s) for *: 'Ccy' and \" + type(other).__name__)  \n",
    "            \n",
    "    def __rmul__(self, other):\n",
    "        return self.__mul__(other)\n",
    "        \n",
    "    def __imul__(self, other):\n",
    "        if type(other)==int or type(other)==float:\n",
    "            self.value *= other\n",
    "            return self\n",
    "        else:\n",
    "            raise TypeError(\"unsupported operand type(s) for *: 'Ccy' and \" + type(other).__name__)      \n"
   ]
  },
  {
   "cell_type": "markdown",
   "metadata": {},
   "source": [
    "Assuming that you have saved the class under the name currency_converter, you can use it in the following way in the command shell:"
   ]
  },
  {
   "cell_type": "code",
   "execution_count": 40,
   "metadata": {},
   "outputs": [
    {
     "data": {
      "text/plain": [
       "Ccy(21.215104685942173, \"EUR\")"
      ]
     },
     "execution_count": 40,
     "metadata": {},
     "output_type": "execute_result"
    }
   ],
   "source": [
    "from currency_converter import Ccy\n",
    "x = Ccy(10.00, \"EUR\")\n",
    "y = Ccy(10.00, \"GBP\")\n",
    "x + y"
   ]
  },
  {
   "cell_type": "code",
   "execution_count": 41,
   "metadata": {},
   "outputs": [
    {
     "name": "stdout",
     "output_type": "stream",
     "text": [
      "21.22 EUR\n"
     ]
    }
   ],
   "source": [
    "print(x + y)"
   ]
  },
  {
   "cell_type": "code",
   "execution_count": 42,
   "metadata": {},
   "outputs": [
    {
     "name": "stdout",
     "output_type": "stream",
     "text": [
      "30.09 EUR\n"
     ]
    }
   ],
   "source": [
    "print(2*x + y*0.9)"
   ]
  },
  {
   "cell_type": "markdown",
   "metadata": {},
   "source": [
    "### Footnotes\n",
    "\n",
    "* as suggested by Mark Jackson"
   ]
  }
 ],
 "metadata": {
  "kernelspec": {
   "display_name": "Python 3",
   "language": "python",
   "name": "python3"
  },
  "language_info": {
   "codemirror_mode": {
    "name": "ipython",
    "version": 3
   },
   "file_extension": ".py",
   "mimetype": "text/x-python",
   "name": "python",
   "nbconvert_exporter": "python",
   "pygments_lexer": "ipython3",
   "version": "3.7.6"
  }
 },
 "nbformat": 4,
 "nbformat_minor": 4
}
