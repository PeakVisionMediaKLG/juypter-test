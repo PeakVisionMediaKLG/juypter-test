{
 "cells": [
  {
   "cell_type": "markdown",
   "metadata": {},
   "source": [
    "## Inheritance Example\n",
    "\n",
    "\n",
    "### Introduction\n",
    "\n",
    "<img class=\"imgright\" src=\"../images/ClockCalendar.webp\" srcset=\"../images/ClockCalendar_300w.webp 300w\" alt=\"Clock Calendar Class Inheritance\" />\n",
    "\n",
    "There aren't many good examples on inheritance available on the web. They are either extremely simple and artificial or they are way too complicated. We want to close the gap by providing an example which is on the one hand more realistic - but still not realistic - and on the other hand simple enough to see and understand the basic aspects of inheritance. In our previous chapter, we introduced inheritance formally.\n",
    "\n",
    "To this purpose we define two base classes: One is an implementation of a clock and the other one of a calendar. Based on these two classes, we define a class CalendarClock, which inherits both from the class Calendar and from the class Clock.\n",
    "\n",
    "### The Clock Class"
   ]
  },
  {
   "cell_type": "code",
   "execution_count": 2,
   "metadata": {},
   "outputs": [
    {
     "name": "stdout",
     "output_type": "stream",
     "text": [
      " 0: 0: 0\n",
      " 2:46:40\n"
     ]
    }
   ],
   "source": [
    "class Clock(object):\n",
    "\n",
    "    def __init__(self,hours=0, minutes=0, seconds=0):\n",
    "        self.__hours = hours\n",
    "        self.__minutes = minutes\n",
    "        self.__seconds = seconds\n",
    "\n",
    "    def set(self,hours, minutes, seconds=0):\n",
    "        self.__hours = hours\n",
    "        self.__minutes = minutes\n",
    "        self.__seconds = seconds\n",
    "\n",
    "    def tick(self):\n",
    "        \"\"\" Time will be advanced by one second \"\"\"\n",
    "        if self.__seconds == 59:\n",
    "            self.__seconds = 0\n",
    "            if (self.__minutes == 59):\n",
    "                self.__minutes = 0\n",
    "                self.__hours = 0 if self.__hours==23  else self.__hours + 1\n",
    "            else:\n",
    "                self.__minutes += 1;\n",
    "        else:\n",
    "            self.__seconds += 1;\n",
    "\n",
    "    def display(self):\n",
    "        print(\"%d:%d:%d\" % (self.__hours, self.__minutes, self.__seconds))\n",
    "\n",
    "    def __str__(self):\n",
    "        return \"%2d:%2d:%2d\" % (self.__hours, self.__minutes, self.__seconds)\n",
    "\n",
    "x = Clock()\n",
    "print(x)\n",
    "for i in range(10000):\n",
    "    x.tick()\n",
    "print(x)"
   ]
  },
  {
   "cell_type": "markdown",
   "metadata": {},
   "source": [
    "### The Calendar Class"
   ]
  },
  {
   "cell_type": "code",
   "execution_count": 3,
   "metadata": {},
   "outputs": [
    {
     "name": "stdout",
     "output_type": "stream",
     "text": [
      "1/1/1900\n",
      "2/1/1900\n"
     ]
    }
   ],
   "source": [
    "class Calendar(object):\n",
    "    months = (31,28,31,30,31,30,31,31,30,31,30,31)\n",
    "\n",
    "    def __init__(self, day=1, month=1, year=1900):\n",
    "        self.__day = day\n",
    "        self.__month = month\n",
    "        self.__year = year\n",
    "\n",
    "    def leapyear(self,y):\n",
    "        if y % 4:\n",
    "\t   # not a leap year\n",
    "           return 0;\n",
    "        else:\n",
    "           if y % 100:\n",
    "               return 1;\n",
    "           else:\n",
    "               if y % 400:\n",
    "                  return 0\n",
    "               else:\n",
    "                  return 1;\n",
    "\n",
    "    def set(self, day, month, year):\n",
    "        self.__day = day\n",
    "        self.__month = month\n",
    "        self.__year = year\n",
    "\n",
    "\n",
    "    def get():\n",
    "        return (self, self.__day, self.__month, self.__year)\n",
    "    def advance(self):\n",
    "        months = Calendar.months\n",
    "        max_days = months[self.__month-1]\n",
    "        if self.__month == 2:\n",
    "            max_days += self.leapyear(self.__year)\n",
    "        if self.__day == max_days:\n",
    "            self.__day = 1\n",
    "            if (self.__month == 12):\n",
    "                self.__month = 1\n",
    "                self.__year += 1\n",
    "            else:\n",
    "                self.__month += 1\n",
    "        else:\n",
    "            self.__day += 1\n",
    "\n",
    "\n",
    "    def __str__(self):\n",
    "       return str(self.__day)+\"/\"+ str(self.__month)+ \"/\"+ str(self.__year)\n",
    "\n",
    "if __name__ == \"__main__\":\n",
    "   x = Calendar()\n",
    "   print(x)\n",
    "   x.advance()\n",
    "   print(x)"
   ]
  },
  {
   "cell_type": "markdown",
   "metadata": {},
   "source": [
    "### The Calendar-Clock Class"
   ]
  },
  {
   "cell_type": "code",
   "execution_count": 5,
   "metadata": {},
   "outputs": [
    {
     "name": "stdout",
     "output_type": "stream",
     "text": [
      " 0: 0: 0\n",
      " 2:46:40\n"
     ]
    },
    {
     "ename": "TypeError",
     "evalue": "__init__() takes from 1 to 2 positional arguments but 4 were given",
     "output_type": "error",
     "traceback": [
      "\u001b[1;31m---------------------------------------------------------------------------\u001b[0m",
      "\u001b[1;31mTypeError\u001b[0m                                 Traceback (most recent call last)",
      "\u001b[1;32m<ipython-input-5-ced1ddf95fd9>\u001b[0m in \u001b[0;36m<module>\u001b[1;34m\u001b[0m\n\u001b[0;32m     13\u001b[0m \u001b[1;33m\u001b[0m\u001b[0m\n\u001b[0;32m     14\u001b[0m \u001b[1;32mif\u001b[0m \u001b[0m__name__\u001b[0m  \u001b[1;33m==\u001b[0m \u001b[1;34m\"__main__\"\u001b[0m\u001b[1;33m:\u001b[0m\u001b[1;33m\u001b[0m\u001b[1;33m\u001b[0m\u001b[0m\n\u001b[1;32m---> 15\u001b[1;33m    \u001b[0mx\u001b[0m \u001b[1;33m=\u001b[0m \u001b[0mCalendarClock\u001b[0m\u001b[1;33m(\u001b[0m\u001b[1;36m24\u001b[0m\u001b[1;33m,\u001b[0m\u001b[1;36m12\u001b[0m\u001b[1;33m,\u001b[0m\u001b[1;36m57\u001b[0m\u001b[1;33m)\u001b[0m\u001b[1;33m\u001b[0m\u001b[1;33m\u001b[0m\u001b[0m\n\u001b[0m\u001b[0;32m     16\u001b[0m    \u001b[0mprint\u001b[0m\u001b[1;33m(\u001b[0m\u001b[0mx\u001b[0m\u001b[1;33m)\u001b[0m\u001b[1;33m\u001b[0m\u001b[1;33m\u001b[0m\u001b[0m\n\u001b[0;32m     17\u001b[0m    \u001b[1;32mfor\u001b[0m \u001b[0mi\u001b[0m \u001b[1;32min\u001b[0m \u001b[0mrange\u001b[0m\u001b[1;33m(\u001b[0m\u001b[1;36m1000\u001b[0m\u001b[1;33m)\u001b[0m\u001b[1;33m:\u001b[0m\u001b[1;33m\u001b[0m\u001b[1;33m\u001b[0m\u001b[0m\n",
      "\u001b[1;32m<ipython-input-5-ced1ddf95fd9>\u001b[0m in \u001b[0;36m__init__\u001b[1;34m(self, day, month, year, hours, minutes, seconds)\u001b[0m\n\u001b[0;32m      5\u001b[0m \u001b[1;33m\u001b[0m\u001b[0m\n\u001b[0;32m      6\u001b[0m    \u001b[1;32mdef\u001b[0m \u001b[0m__init__\u001b[0m\u001b[1;33m(\u001b[0m\u001b[0mself\u001b[0m\u001b[1;33m,\u001b[0m \u001b[0mday\u001b[0m\u001b[1;33m,\u001b[0m\u001b[0mmonth\u001b[0m\u001b[1;33m,\u001b[0m\u001b[0myear\u001b[0m\u001b[1;33m,\u001b[0m\u001b[0mhours\u001b[0m\u001b[1;33m=\u001b[0m\u001b[1;36m0\u001b[0m\u001b[1;33m,\u001b[0m \u001b[0mminutes\u001b[0m\u001b[1;33m=\u001b[0m\u001b[1;36m0\u001b[0m\u001b[1;33m,\u001b[0m\u001b[0mseconds\u001b[0m\u001b[1;33m=\u001b[0m\u001b[1;36m0\u001b[0m\u001b[1;33m)\u001b[0m\u001b[1;33m:\u001b[0m\u001b[1;33m\u001b[0m\u001b[1;33m\u001b[0m\u001b[0m\n\u001b[1;32m----> 7\u001b[1;33m         \u001b[0mCalendar\u001b[0m\u001b[1;33m.\u001b[0m\u001b[0m__init__\u001b[0m\u001b[1;33m(\u001b[0m\u001b[0mself\u001b[0m\u001b[1;33m,\u001b[0m \u001b[0mday\u001b[0m\u001b[1;33m,\u001b[0m \u001b[0mmonth\u001b[0m\u001b[1;33m,\u001b[0m \u001b[0myear\u001b[0m\u001b[1;33m)\u001b[0m\u001b[1;33m\u001b[0m\u001b[1;33m\u001b[0m\u001b[0m\n\u001b[0m\u001b[0;32m      8\u001b[0m         \u001b[0mClock\u001b[0m\u001b[1;33m.\u001b[0m\u001b[0m__init__\u001b[0m\u001b[1;33m(\u001b[0m\u001b[0mself\u001b[0m\u001b[1;33m,\u001b[0m \u001b[0mhours\u001b[0m\u001b[1;33m,\u001b[0m \u001b[0mminutes\u001b[0m\u001b[1;33m,\u001b[0m \u001b[0mseconds\u001b[0m\u001b[1;33m)\u001b[0m\u001b[1;33m\u001b[0m\u001b[1;33m\u001b[0m\u001b[0m\n\u001b[0;32m      9\u001b[0m \u001b[1;33m\u001b[0m\u001b[0m\n",
      "\u001b[1;31mTypeError\u001b[0m: __init__() takes from 1 to 2 positional arguments but 4 were given"
     ]
    }
   ],
   "source": [
    "from clock1 import Clock\n",
    "from calendar import Calendar\n",
    "\n",
    "class CalendarClock(Clock, Calendar):\n",
    "\n",
    "   def __init__(self, day,month,year,hours=0, minutes=0,seconds=0):\n",
    "        Calendar.__init__(self, day, month, year)\n",
    "        Clock.__init__(self, hours, minutes, seconds)\n",
    "\n",
    "   def __str__(self):\n",
    "       return Calendar.__str__(self) + \", \" + Clock.__str__(self)\n",
    "\n",
    "\n",
    "if __name__  == \"__main__\":\n",
    "   x = CalendarClock(24,12,57)\n",
    "   print(x)\n",
    "   for i in range(1000):\n",
    "      x.tick()\n",
    "   for i in range(1000):\n",
    "      x.advance()\n",
    "   print(x)"
   ]
  }
 ],
 "metadata": {
  "kernelspec": {
   "display_name": "Python 3",
   "language": "python",
   "name": "python3"
  },
  "language_info": {
   "codemirror_mode": {
    "name": "ipython",
    "version": 3
   },
   "file_extension": ".py",
   "mimetype": "text/x-python",
   "name": "python",
   "nbconvert_exporter": "python",
   "pygments_lexer": "ipython3",
   "version": "3.7.4"
  }
 },
 "nbformat": 4,
 "nbformat_minor": 2
}
