{
 "cells": [
  {
   "cell_type": "markdown",
   "metadata": {},
   "source": [
    "## Classes and Class Creation\n",
    "### Behind the scenes: Relationship between Class and type\n",
    "\n",
    "<img class=\"imgright\" src=\"../images/cogwheels.webp\" srcset=\"../images/cogwheels_400w.webp 400w,../images/cogwheels_350w.webp 350w,../images/cogwheels_300w.webp 300w\" alt=\"cogwheels or behind the scenes\">\n",
    "\n",
    "In this chapter of our tutorial, we will provide you with a deeper insight into the magic happening behind the scenes, when we are defining a class or creating an instance of a class. You may ask yourself: \"Do I really have to learn theses additional details on object oriented programming in Python?\" Most probably not, or you belong to the few people who design classes at a very advanced level.\n",
    "\n",
    "First, we will concentrate on the relationship between type and class. While defining classes so far, you may have asked yourself, what is happening \"behind the lines\". We have already seen, that applying \"type\" to an object returns the class of which the object is an instance of:"
   ]
  },
  {
   "cell_type": "code",
   "execution_count": 1,
   "metadata": {},
   "outputs": [
    {
     "name": "stdout",
     "output_type": "stream",
     "text": [
      "<class 'list'> <class 'str'>\n"
     ]
    }
   ],
   "source": [
    "x = [4, 5, 9]\n",
    "y = \"Hello\"\n",
    "print(type(x), type(y))"
   ]
  },
  {
   "cell_type": "markdown",
   "metadata": {},
   "source": [
    "If you apply type on the name of a class itself, you get the class \"type\" returned."
   ]
  },
  {
   "cell_type": "code",
   "execution_count": 2,
   "metadata": {},
   "outputs": [
    {
     "name": "stdout",
     "output_type": "stream",
     "text": [
      "<class 'type'> <class 'type'>\n"
     ]
    }
   ],
   "source": [
    "print(type(list), type(str))"
   ]
  },
  {
   "cell_type": "markdown",
   "metadata": {},
   "source": [
    "This is similar to applying type on type(x) and type(y):"
   ]
  },
  {
   "cell_type": "code",
   "execution_count": 3,
   "metadata": {},
   "outputs": [
    {
     "name": "stdout",
     "output_type": "stream",
     "text": [
      "<class 'list'> <class 'str'>\n",
      "<class 'type'> <class 'type'>\n"
     ]
    }
   ],
   "source": [
    "x = [4, 5, 9]\n",
    "y = \"Hello\"\n",
    "print(type(x), type(y))\n",
    "print(type(type(x)), type(type(y)))"
   ]
  },
  {
   "cell_type": "markdown",
   "metadata": {},
   "source": [
    "A user-defined class (or the class \"object\") is an instance of the class \"type\". So, we can see, that classes are created from type. In Python3 there is no difference between \"classes\" and \"types\". They are in most cases used as synonyms.\n",
    "\n",
    "The fact that classes are instances of a class \"type\" allows us to program metaclasses. We can create classes, which inherit from the class \"type\". So, a metaclass is a subclass of the class \"type\".\n",
    "\n",
    "Instead of only one argument, type can be called with three parameters:\n",
    "\n",
    "type(classname, superclasses, attributes_dict)\n",
    "\n",
    "If type is called with three arguments, it will return a new type object. This provides us with a dynamic form of the class statement.\n",
    "\n",
    "* \"classname\" is a string defining the class name and becomes the name attribute;\n",
    "* \"superclasses\" is a list or tuple with the superclasses of our class. This list or tuple will become the bases attribute;\n",
    "* the attributes_dict is a dictionary, functioning as the namespace of our class. It contains the definitions for the class body and it becomes the dict attribute.\n",
    "\n",
    "Let's have a look at a simple class definition:"
   ]
  },
  {
   "cell_type": "code",
   "execution_count": 4,
   "metadata": {},
   "outputs": [
    {
     "name": "stdout",
     "output_type": "stream",
     "text": [
      "<class '__main__.A'>\n"
     ]
    }
   ],
   "source": [
    "class A:\n",
    "    pass\n",
    "\n",
    "x = A()\n",
    "print(type(x))"
   ]
  },
  {
   "cell_type": "markdown",
   "metadata": {},
   "source": [
    "We can use \"type\" for the previous class defintion as well:"
   ]
  },
  {
   "cell_type": "code",
   "execution_count": 5,
   "metadata": {},
   "outputs": [
    {
     "name": "stdout",
     "output_type": "stream",
     "text": [
      "<class '__main__.A'>\n"
     ]
    }
   ],
   "source": [
    "A = type(\"A\", (), {})\n",
    "x = A()\n",
    "print(type(x))"
   ]
  },
  {
   "cell_type": "markdown",
   "metadata": {},
   "source": [
    "Generally speaking, this means, that we can define a class A with\n",
    "<pre>\n",
    "type(classname, superclasses, attributedict)\n",
    "</pre>\n",
    "When we call \"type\", the call method of type is called. The call method runs two other methods: new and init:\n",
    "\n",
    "<pre>\n",
    "type.__new__(typeclass, classname, superclasses, attributedict)\n",
    "\n",
    "type.__init__(cls, classname, superclasses, attributedict)\n",
    "</pre>"
   ]
  },
  {
   "cell_type": "markdown",
   "metadata": {},
   "source": [
    "The new method creates and returns the new class object, and after this, the init method initializes the newly created object."
   ]
  },
  {
   "cell_type": "code",
   "execution_count": 6,
   "metadata": {},
   "outputs": [
    {
     "name": "stdout",
     "output_type": "stream",
     "text": [
      "Marvin\n",
      "Hi, I am Marvin\n",
      "Marvin\n",
      "Hi, I am Marvin\n",
      "{'name': 'Marvin'}\n",
      "{'name': 'Marvin'}\n"
     ]
    }
   ],
   "source": [
    "class Robot:\n",
    "\n",
    "    counter = 0\n",
    "\n",
    "    def __init__(self, name):\n",
    "        self.name = name\n",
    "\n",
    "    def sayHello(self):\n",
    "        return \"Hi, I am \" + self.name\n",
    "\n",
    "\n",
    "def Rob_init(self, name):\n",
    "    self.name = name\n",
    "\n",
    "Robot2 = type(\"Robot2\", \n",
    "              (), \n",
    "              {\"counter\":0, \n",
    "               \"__init__\": Rob_init,\n",
    "               \"sayHello\": lambda self: \"Hi, I am \" + self.name})\n",
    "\n",
    "x = Robot2(\"Marvin\")\n",
    "print(x.name)\n",
    "print(x.sayHello())\n",
    "\n",
    "y = Robot(\"Marvin\")\n",
    "print(y.name)\n",
    "print(y.sayHello())\n",
    "\n",
    "print(x.__dict__)\n",
    "print(y.__dict__)"
   ]
  },
  {
   "cell_type": "markdown",
   "metadata": {},
   "source": [
    "The class definitions for Robot and Robot2 are syntactically completely different, but they implement logically the same class.\n",
    "\n",
    "What Python actually does in the first example, i.e. the \"usual way\" of defining classes, is the following: Python processes the complete class statement from class Robot to collect the methods and attributes of Robot to add them to the attributes_dict of the type call. So, Python will call type in a similar or the same way as we did in Robot2."
   ]
  }
 ],
 "metadata": {
  "kernelspec": {
   "display_name": "Python 3",
   "language": "python",
   "name": "python3"
  },
  "language_info": {
   "codemirror_mode": {
    "name": "ipython",
    "version": 3
   },
   "file_extension": ".py",
   "mimetype": "text/x-python",
   "name": "python",
   "nbconvert_exporter": "python",
   "pygments_lexer": "ipython3",
   "version": "3.7.6"
  }
 },
 "nbformat": 4,
 "nbformat_minor": 4
}
