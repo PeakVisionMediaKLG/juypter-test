{
 "cells": [
  {
   "cell_type": "markdown",
   "metadata": {},
   "source": [
    "## Metaclasses"
   ]
  },
  {
   "cell_type": "markdown",
   "metadata": {},
   "source": [
    "<img src=\"../images/klein_bottle.webp\" alt=\"metaclasses: klein bottle\">"
   ]
  },
  {
   "cell_type": "markdown",
   "metadata": {},
   "source": [
    "A metaclass is a class whose instances are classes. Like an \"ordinary\" class defines the behavior of the instances of the class, a metaclass defines the behavior of classes and their instances. \n",
    "\n",
    "Metaclasses are not supported by every object oriented programming language. Those programming language, which support metaclasses, considerably vary in way they implement them. Python is supporting them. \n",
    "\n",
    "Some programmers see metaclasses in Python as \"solutions waiting or looking for a problem\". \n",
    "\n",
    "There are numerous use cases for metaclasses. Just to name a few:\n",
    "- logging and profiling\n",
    "- interface checking\n",
    "- registering classes at creation time\n",
    "- automatically adding new methods\n",
    "- automatic property creation\n",
    "- proxies\n",
    "- automatic resource locking/synchronization."
   ]
  },
  {
   "cell_type": "markdown",
   "metadata": {},
   "source": [
    "### Defining Metaclasses"
   ]
  },
  {
   "cell_type": "markdown",
   "metadata": {},
   "source": [
    "Principially, metaclasses are defined like any other Python class, but they are classes that inherit from \"type\". Another difference is, that a metaclass is called automatically, when the class statement using a metaclass ends. In other words: If no \"metaclass\" keyword is passed after the base classes (there may be no base classes either) of the class header, type() (i.e. \\_\\_call\\_\\_ of type) will be called. If a metaclass keyword is used, on the other hand, the class assigned to it will be called instead of type.\n",
    "\n",
    "Now we create a very simple metaclass. It's good for nothing, except that it will print the content of its arguments in the ```__new__``` method and returns the results of the ```type.__new__``` call:"
   ]
  },
  {
   "cell_type": "code",
   "execution_count": 1,
   "metadata": {},
   "outputs": [],
   "source": [
    "class LittleMeta(type):\n",
    "    def __new__(cls, clsname, superclasses, attributedict):\n",
    "        print(\"clsname: \", clsname)\n",
    "        print(\"superclasses: \", superclasses)\n",
    "        print(\"attributedict: \", attributedict)\n",
    "        return type.__new__(cls, clsname, superclasses, attributedict)"
   ]
  },
  {
   "cell_type": "markdown",
   "metadata": {},
   "source": [
    "We will use the metaclass \"LittleMeta\" in the following example:"
   ]
  },
  {
   "cell_type": "code",
   "execution_count": 27,
   "metadata": {},
   "outputs": [
    {
     "name": "stdout",
     "output_type": "stream",
     "text": [
      "clsname:  A\n",
      "superclasses:  (<class '__main__.S'>,)\n",
      "attributedict:  {'__module__': '__main__', '__qualname__': 'A'}\n"
     ]
    }
   ],
   "source": [
    "class S:\n",
    "    pass\n",
    "\n",
    "\n",
    "class A(S, metaclass=LittleMeta):\n",
    "    pass\n",
    "\n",
    "\n",
    "a = A()"
   ]
  },
  {
   "cell_type": "markdown",
   "metadata": {},
   "source": [
    "We can see ```LittleMeta.__new__``` has been called and not ```type.__new__```.\n",
    "\n",
    "Resuming our thread from the last chapter: We define a metaclass `EssentialAnswers` which is capable of automatically including our `augment_answer` method:"
   ]
  },
  {
   "cell_type": "code",
   "execution_count": 1,
   "metadata": {},
   "outputs": [
    {
     "name": "stdout",
     "output_type": "stream",
     "text": [
      "Do you need the answer? (y/n): y\n",
      "42\n",
      "42\n"
     ]
    }
   ],
   "source": [
    "x = input(\"Do you need the answer? (y/n): \")\n",
    "if x.lower() == \"y\":\n",
    "    required = True\n",
    "else:\n",
    "    required = False\n",
    "\n",
    "    \n",
    "def the_answer(self, *args):              \n",
    "        return 42\n",
    "\n",
    "    \n",
    "class EssentialAnswers(type):\n",
    "    \n",
    "    def __init__(cls, clsname, superclasses, attributedict):\n",
    "        if required:\n",
    "            cls.the_answer = the_answer\n",
    "                           \n",
    "    \n",
    "class Philosopher1(metaclass=EssentialAnswers): \n",
    "    pass\n",
    "\n",
    "\n",
    "class Philosopher2(metaclass=EssentialAnswers): \n",
    "    pass\n",
    "\n",
    "\n",
    "class Philosopher3(metaclass=EssentialAnswers): \n",
    "    pass\n",
    "    \n",
    "    \n",
    "plato = Philosopher1()\n",
    "print(plato.the_answer())\n",
    "\n",
    "\n",
    "kant = Philosopher2()\n",
    "# let's see what Kant has to say :-)\n",
    "print(kant.the_answer())"
   ]
  },
  {
   "cell_type": "markdown",
   "metadata": {},
   "source": [
    "We have learned in our chapter \"Type and Class Relationship\" that after the class definition has been processed, Python calls\n",
    "\n",
    "<pre>type(classname, superclasses, attributes_dict)</pre>\n",
    "\n",
    "This is not the case, if a metaclass has been declared in the header. That is what we have done in our previous example. Our classes Philosopher1, Philosopher2 and Philosopher3 have been hooked to the metaclass EssentialAnswers. That's why EssentialAnswer will be called instead of type:\n",
    "\n",
    "<pre>EssentialAnswer(classname, superclasses, attributes_dict)</pre>\n",
    "\n",
    "To be precise, the arguments of the calls will be set the the following values:\n",
    "\n",
    "<pre>\n",
    "EssentialAnswer('Philopsopher1', \n",
    "                (), \n",
    "                {'__module__': '__main__', '__qualname__': 'Philosopher1'})\n",
    "</pre>\n",
    "\n",
    "The other philosopher classes are treated in an analogue way."
   ]
  },
  {
   "cell_type": "markdown",
   "metadata": {},
   "source": [
    "### Creating Singletons using Metaclasses"
   ]
  },
  {
   "cell_type": "markdown",
   "metadata": {},
   "source": [
    "The singleton pattern is a design pattern that restricts the instantiation of a class to one object. It is used in cases where exactly one object is needed. The concept can be generalized to restrict the instantiation to a certain or fixed number of objects. The term stems from mathematics, where a singleton, - also called a unit set -, is used for sets with exactly one element. "
   ]
  },
  {
   "cell_type": "code",
   "execution_count": 3,
   "metadata": {},
   "outputs": [
    {
     "name": "stdout",
     "output_type": "stream",
     "text": [
      "True\n",
      "False\n"
     ]
    }
   ],
   "source": [
    "class Singleton(type):\n",
    "    _instances = {}\n",
    "    def __call__(cls, *args, **kwargs):\n",
    "        if cls not in cls._instances:\n",
    "            cls._instances[cls] = super(Singleton,                                      cls).__call__(*args, **kwargs)\n",
    "        return cls._instances[cls]\n",
    "    \n",
    "    \n",
    "class SingletonClass(metaclass=Singleton):\n",
    "    pass\n",
    "\n",
    "\n",
    "class RegularClass():\n",
    "    pass\n",
    "\n",
    "\n",
    "x = SingletonClass()\n",
    "y = SingletonClass()\n",
    "print(x == y)\n",
    "\n",
    "\n",
    "x = RegularClass()\n",
    "y = RegularClass()\n",
    "print(x == y)"
   ]
  },
  {
   "cell_type": "markdown",
   "metadata": {},
   "source": [
    "### Creating Singletons using Metaclasses\n",
    "\n",
    "Alternatively, we can create Singleton classes by inheriting from a Singleton class, which can be defined like this:"
   ]
  },
  {
   "cell_type": "code",
   "execution_count": 5,
   "metadata": {},
   "outputs": [
    {
     "name": "stdout",
     "output_type": "stream",
     "text": [
      "True\n",
      "False\n"
     ]
    }
   ],
   "source": [
    "class Singleton(object):\n",
    "    _instance = None\n",
    "    def __new__(cls, *args, **kwargs):\n",
    "        if not cls._instance:\n",
    "            cls._instance = object.__new__(cls, *args, **kwargs)\n",
    "        return cls._instance\n",
    "\n",
    "    \n",
    "class SingletonClass(Singleton):\n",
    "    pass\n",
    "\n",
    "class RegularClass():\n",
    "    pass\n",
    "\n",
    "\n",
    "x = SingletonClass()\n",
    "y = SingletonClass()\n",
    "print(x == y)\n",
    "\n",
    "\n",
    "x = RegularClass()\n",
    "y = RegularClass()\n",
    "print(x == y)"
   ]
  }
 ],
 "metadata": {
  "anaconda-cloud": {},
  "kernelspec": {
   "display_name": "Python 3",
   "language": "python",
   "name": "python3"
  },
  "language_info": {
   "codemirror_mode": {
    "name": "ipython",
    "version": 3
   },
   "file_extension": ".py",
   "mimetype": "text/x-python",
   "name": "python",
   "nbconvert_exporter": "python",
   "pygments_lexer": "ipython3",
   "version": "3.8.5"
  }
 },
 "nbformat": 4,
 "nbformat_minor": 4
}
