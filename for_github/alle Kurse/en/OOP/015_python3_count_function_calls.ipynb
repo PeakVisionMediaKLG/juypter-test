{
 "cells": [
  {
   "cell_type": "markdown",
   "metadata": {},
   "source": [
    "## Count Method Calls Using a Metaclass "
   ]
  },
  {
   "cell_type": "raw",
   "metadata": {},
   "source": [
    "<br>"
   ]
  },
  {
   "cell_type": "markdown",
   "metadata": {},
   "source": [
    "### Introduction"
   ]
  },
  {
   "cell_type": "markdown",
   "metadata": {},
   "source": [
    "<img width=335 src=\"../images/count_function_calls.webp\" srcset=\"../images/count_function_calls_400w.webp 400w,../images/count_function_calls_350w.webp 350w,../images/count_function_calls_300w.webp 300w\" alt=\"Counting Function Calls\">"
   ]
  },
  {
   "cell_type": "markdown",
   "metadata": {},
   "source": [
    "After you have hopefully gone through our chapter [Introduction into Metaclasses](./python3_metaclasses.php) you may have asked yourself about the possible use cases for metaclasses. There are some interesting use cases and it's not - like some say - a solution waiting for a problem. We have mentioned already some examples. \n",
    "\n",
    "In this chapter of our tutorial on Python, we want to elaborate an example metaclass, which will decorate the methods of the subclass. The decorated function returned by the decorator makes it possible to count the number of times each method of the subclass has been called. \n",
    "\n",
    "This is usually one of the tasks, we expect from a profiler. So we can use this metaclass for simple profiling purposes. Of course, it will be easy to extend our metaclass for further profiling tasks."
   ]
  },
  {
   "cell_type": "markdown",
   "metadata": {},
   "source": [
    "<br><br>"
   ]
  },
  {
   "cell_type": "markdown",
   "metadata": {},
   "source": [
    "### Preliminary Remarks"
   ]
  },
  {
   "cell_type": "markdown",
   "metadata": {},
   "source": [
    "Before we actually dive into the problem, we want to remind how we can access the attributes of a class. We will demonstrate this with the list class. \n",
    "We can get the list of all the non private attributes of a class - in our example the random class - with the following construct."
   ]
  },
  {
   "cell_type": "code",
   "execution_count": 35,
   "metadata": {},
   "outputs": [
    {
     "name": "stdout",
     "output_type": "stream",
     "text": [
      "['BPF', 'LOG4', 'NV_MAGICCONST', 'RECIP_BPF', 'Random', 'SG_MAGICCONST', 'SystemRandom', 'TWOPI', '_BuiltinMethodType', '_MethodType', '_Sequence', '_Set', '_acos', '_ceil', '_cos', '_e', '_exp', '_inst', '_log', '_pi', '_random', '_sha512', '_sin', '_sqrt', '_test', '_test_generator', '_urandom', '_warn', 'betavariate', 'choice', 'expovariate', 'gammavariate', 'gauss', 'getrandbits', 'getstate', 'lognormvariate', 'normalvariate', 'paretovariate', 'randint', 'random', 'randrange', 'sample', 'seed', 'setstate', 'shuffle', 'triangular', 'uniform', 'vonmisesvariate', 'weibullvariate']\n"
     ]
    }
   ],
   "source": [
    "import random\n",
    "cls = \"random\" # name of the class as a string\n",
    "all_attributes = [x for x in dir(eval(cls)) if not x.startswith(\"__\") ]\n",
    "print(all_attributes)"
   ]
  },
  {
   "cell_type": "markdown",
   "metadata": {},
   "source": [
    "Now, we are filtering the callable attributes, i.e. the public methods of the class."
   ]
  },
  {
   "cell_type": "code",
   "execution_count": 36,
   "metadata": {},
   "outputs": [
    {
     "name": "stdout",
     "output_type": "stream",
     "text": [
      "['Random', 'SystemRandom', '_BuiltinMethodType', '_MethodType', '_Sequence', '_Set', '_acos', '_ceil', '_cos', '_exp', '_log', '_sha512', '_sin', '_sqrt', '_test', '_test_generator', '_urandom', '_warn', 'betavariate', 'choice', 'expovariate', 'gammavariate', 'gauss', 'getrandbits', 'getstate', 'lognormvariate', 'normalvariate', 'paretovariate', 'randint', 'random', 'randrange', 'sample', 'seed', 'setstate', 'shuffle', 'triangular', 'uniform', 'vonmisesvariate', 'weibullvariate']\n"
     ]
    }
   ],
   "source": [
    "methods = [x for x in dir(eval(cls)) if not x.startswith(\"__\") \n",
    "                              and callable(eval(cls + \".\" + x))]\n",
    "print(methods)"
   ]
  },
  {
   "cell_type": "markdown",
   "metadata": {},
   "source": [
    "Getting the non callable attributes of the class can be easily achieved by negating callable, i.e. adding \"not\":"
   ]
  },
  {
   "cell_type": "code",
   "execution_count": 37,
   "metadata": {},
   "outputs": [
    {
     "name": "stdout",
     "output_type": "stream",
     "text": [
      "['BPF', 'LOG4', 'NV_MAGICCONST', 'RECIP_BPF', 'SG_MAGICCONST', 'TWOPI', '_e', '_inst', '_pi', '_random']\n"
     ]
    }
   ],
   "source": [
    "non_callable_attributes = [x for x in dir(eval(cls)) if not x.startswith(\"__\") \n",
    "                              and not callable(eval(cls + \".\" + x))]\n",
    "print(non_callable_attributes)"
   ]
  },
  {
   "cell_type": "markdown",
   "metadata": {},
   "source": [
    "In normal Python programming it is neither recommended nor necessary to apply methods in the following way, but it is possible:"
   ]
  },
  {
   "cell_type": "code",
   "execution_count": 4,
   "metadata": {},
   "outputs": [
    {
     "data": {
      "text/plain": [
       "[3, 4, 42]"
      ]
     },
     "execution_count": 4,
     "metadata": {},
     "output_type": "execute_result"
    }
   ],
   "source": [
    "lst = [3,4]\n",
    "list.__dict__[\"append\"](lst, 42)\n",
    "lst"
   ]
  },
  {
   "cell_type": "markdown",
   "metadata": {},
   "source": [
    "<br><br>\n",
    "\n",
    "Please note the remark from the Python documentation:\n",
    "\n",
    "\"Because dir() is supplied primarily as a convenience for use at an interactive prompt, it tries to supply an interesting set of names more than it tries to supply a rigorously or consistently defined set of names, and its detailed behavior may change across releases. For example, metaclass attributes are not in the result list when the argument is a class.\"\n",
    "\n",
    "<br><br>"
   ]
  },
  {
   "cell_type": "markdown",
   "metadata": {},
   "source": [
    "### A Decorator for Counting Function Calls"
   ]
  },
  {
   "cell_type": "markdown",
   "metadata": {},
   "source": [
    "Finally, we will begin designing the metaclass, which we have mentioned as our target in the beginning of this chapter. It will decorate all the methods of its subclass with a decorator, which counts the number of calls. We have defined such a decorator in our chapter [Memoization and Decorators](./python3_memoization.php):\n"
   ]
  },
  {
   "cell_type": "code",
   "execution_count": 1,
   "metadata": {},
   "outputs": [],
   "source": [
    "def call_counter(func):\n",
    "    def helper(*args, **kwargs):\n",
    "        helper.calls += 1\n",
    "        return func(*args, **kwargs)\n",
    "    helper.calls = 0\n",
    "    helper.__name__= func.__name__\n",
    "\n",
    "    return helper"
   ]
  },
  {
   "cell_type": "markdown",
   "metadata": {},
   "source": [
    "We can use it in the usual way:"
   ]
  },
  {
   "cell_type": "code",
   "execution_count": 2,
   "metadata": {},
   "outputs": [
    {
     "name": "stdout",
     "output_type": "stream",
     "text": [
      "0\n",
      "10\n"
     ]
    }
   ],
   "source": [
    "@call_counter\n",
    "def f():\n",
    "    pass\n",
    "\n",
    "print(f.calls)\n",
    "for _ in range(10):\n",
    "    f()\n",
    "    \n",
    "print(f.calls)"
   ]
  },
  {
   "cell_type": "markdown",
   "metadata": {},
   "source": [
    "It would be better if you add the alternative notation for decorating function. We will need this in our final metaclass:"
   ]
  },
  {
   "cell_type": "code",
   "execution_count": 7,
   "metadata": {},
   "outputs": [
    {
     "name": "stdout",
     "output_type": "stream",
     "text": [
      "0\n",
      "10\n"
     ]
    }
   ],
   "source": [
    "def f():\n",
    "    pass\n",
    "\n",
    "f = call_counter(f)\n",
    "print(f.calls)\n",
    "for _ in range(10):\n",
    "    f()\n",
    "    \n",
    "print(f.calls)"
   ]
  },
  {
   "cell_type": "markdown",
   "metadata": {},
   "source": [
    "<br><br>"
   ]
  },
  {
   "cell_type": "markdown",
   "metadata": {},
   "source": [
    "### The \"Count Calls\" Metaclass"
   ]
  },
  {
   "cell_type": "markdown",
   "metadata": {},
   "source": [
    "Now we have all the necessary \"ingredients\" together to write our metaclass. We will include our call_counter decorator as a staticmethod:"
   ]
  },
  {
   "cell_type": "code",
   "execution_count": 2,
   "metadata": {},
   "outputs": [
    {
     "name": "stdout",
     "output_type": "stream",
     "text": [
      "0 0\n",
      "1 0\n",
      "2 1\n"
     ]
    }
   ],
   "source": [
    "class FuncCallCounter(type):\n",
    "    \"\"\" A Metaclass which decorates all the methods of the \n",
    "        subclass using call_counter as the decorator\n",
    "    \"\"\"\n",
    "    \n",
    "    @staticmethod\n",
    "    def call_counter(func):\n",
    "        \"\"\" Decorator for counting the number of function \n",
    "            or method calls to the function or method func\n",
    "        \"\"\"\n",
    "        def helper(*args, **kwargs):\n",
    "            helper.calls += 1\n",
    "            return func(*args, **kwargs)\n",
    "        helper.calls = 0\n",
    "        helper.__name__= func.__name__\n",
    "    \n",
    "        return helper\n",
    "    \n",
    "    \n",
    "    def __new__(cls, clsname, superclasses, attributedict):\n",
    "        \"\"\" Every method gets decorated with the decorator call_counter,\n",
    "            which will do the actual call counting\n",
    "        \"\"\"\n",
    "        for attr in attributedict:\n",
    "            if callable(attributedict[attr]) and not attr.startswith(\"__\"):\n",
    "                attributedict[attr] = cls.call_counter(attributedict[attr])\n",
    "        \n",
    "        return type.__new__(cls, clsname, superclasses, attributedict)\n",
    "    \n",
    "\n",
    "class A(metaclass=FuncCallCounter):\n",
    "    \n",
    "    def foo(self):\n",
    "        pass\n",
    "    \n",
    "    def bar(self):\n",
    "        pass\n",
    "\n",
    "if __name__ == \"__main__\":\n",
    "    x = A()\n",
    "    print(x.foo.calls, x.bar.calls)\n",
    "    x.foo()\n",
    "    print(x.foo.calls, x.bar.calls)\n",
    "    x.foo()\n",
    "    x.bar()\n",
    "    print(x.foo.calls, x.bar.calls)\n",
    "        "
   ]
  }
 ],
 "metadata": {
  "anaconda-cloud": {},
  "kernelspec": {
   "display_name": "Python 3",
   "language": "python",
   "name": "python3"
  },
  "language_info": {
   "codemirror_mode": {
    "name": "ipython",
    "version": 3
   },
   "file_extension": ".py",
   "mimetype": "text/x-python",
   "name": "python",
   "nbconvert_exporter": "python",
   "pygments_lexer": "ipython3",
   "version": "3.8.5"
  }
 },
 "nbformat": 4,
 "nbformat_minor": 4
}
