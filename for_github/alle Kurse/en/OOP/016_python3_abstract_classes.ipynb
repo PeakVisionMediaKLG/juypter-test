{
 "cells": [
  {
   "cell_type": "markdown",
   "metadata": {},
   "source": [
    "## Abstract Classes\n",
    "\n",
    "\n",
    "<img width=\"60%\" class=\"imgright\" src=\"../images/abstract_base_classes.webp\" srcset=\"../images/abstract_base_classes_700w.webp 700w,../images/abstract_base_classes_600w.webp 600w,../images/abstract_base_classes_500w.webp 500w,../images/abstract_base_classes_400w.webp 400w,../images/abstract_base_classes_350w.webp 350w,../images/abstract_base_classes_300w.webp 300w\" alt=\"Abstract Classes\" />\n",
    "\n",
    "Abstract classes are classes that contain one or more abstract methods. \n",
    "An abstract method is a method that is declared, but contains no implementation.\n",
    "Abstract classes cannot be instantiated, and require subclasses to provide implementations for the abstract methods.\n",
    "\n",
    "\n",
    "You can see this in the following examples:"
   ]
  },
  {
   "cell_type": "code",
   "execution_count": 2,
   "metadata": {
    "collapsed": true
   },
   "outputs": [],
   "source": [
    "class AbstractClass:\n",
    "    \n",
    "    def do_something(self):\n",
    "        pass\n",
    "    \n",
    "    \n",
    "class B(AbstractClass):\n",
    "    pass\n",
    "\n",
    "a = AbstractClass()\n",
    "b = B()"
   ]
  },
  {
   "cell_type": "markdown",
   "metadata": {},
   "source": [
    "If we start this program, we see that this is not an abstract class, because:\n",
    "\n",
    "- we can instantiate an instance from \n",
    "- we are not required to implement do_something in the class defintition of B"
   ]
  },
  {
   "cell_type": "markdown",
   "metadata": {},
   "source": [
    "Our example implemented a case of simple inheritance which has nothing to do with an abstract class. In fact, Python on its own doesn't provide abstract classes. \n",
    "Yet, Python comes with a module which provides the infrastructure for defining Abstract Base Classes (ABCs). This module is called - for obvious reasons - abc.\n",
    "\n",
    "The following Python code uses the abc module and defines an abstract base class:"
   ]
  },
  {
   "cell_type": "code",
   "execution_count": 3,
   "metadata": {
    "collapsed": true
   },
   "outputs": [],
   "source": [
    "from abc import ABC, abstractmethod\n",
    " \n",
    "class AbstractClassExample(ABC):\n",
    " \n",
    "    def __init__(self, value):\n",
    "        self.value = value\n",
    "        super().__init__()\n",
    "    \n",
    "    @abstractmethod\n",
    "    def do_something(self):\n",
    "        pass"
   ]
  },
  {
   "cell_type": "markdown",
   "metadata": {},
   "source": [
    "We will define now a subclass using the previously defined abstract class. You will notice that we haven't implemented the do_something method, even though we are required to implement it, because this method is decorated as an abstract method with the decorator \"abstractmethod\". We get an exception that DoAdd42 can't be instantiated:"
   ]
  },
  {
   "cell_type": "code",
   "execution_count": 4,
   "metadata": {},
   "outputs": [
    {
     "ename": "TypeError",
     "evalue": "Can't instantiate abstract class DoAdd42 with abstract methods do_something",
     "output_type": "error",
     "traceback": [
      "\u001b[0;31m---------------------------------------------------------------------------\u001b[0m",
      "\u001b[0;31mTypeError\u001b[0m                                 Traceback (most recent call last)",
      "\u001b[0;32m<ipython-input-4-2bcc42ab0b46>\u001b[0m in \u001b[0;36m<module>\u001b[0;34m\u001b[0m\n\u001b[1;32m      2\u001b[0m     \u001b[0;32mpass\u001b[0m\u001b[0;34m\u001b[0m\u001b[0;34m\u001b[0m\u001b[0m\n\u001b[1;32m      3\u001b[0m \u001b[0;34m\u001b[0m\u001b[0m\n\u001b[0;32m----> 4\u001b[0;31m \u001b[0mx\u001b[0m \u001b[0;34m=\u001b[0m \u001b[0mDoAdd42\u001b[0m\u001b[0;34m(\u001b[0m\u001b[0;36m4\u001b[0m\u001b[0;34m)\u001b[0m\u001b[0;34m\u001b[0m\u001b[0;34m\u001b[0m\u001b[0m\n\u001b[0m",
      "\u001b[0;31mTypeError\u001b[0m: Can't instantiate abstract class DoAdd42 with abstract methods do_something"
     ]
    }
   ],
   "source": [
    "class DoAdd42(AbstractClassExample):\n",
    "    pass\n",
    "\n",
    "x = DoAdd42(4)"
   ]
  },
  {
   "cell_type": "markdown",
   "metadata": {},
   "source": [
    "We will do it the correct way in the following example, in which we define two classes inheriting from our abstract class:"
   ]
  },
  {
   "cell_type": "code",
   "execution_count": 5,
   "metadata": {},
   "outputs": [
    {
     "name": "stdout",
     "output_type": "stream",
     "text": [
      "52\n",
      "420\n"
     ]
    }
   ],
   "source": [
    "class DoAdd42(AbstractClassExample):\n",
    "\n",
    "    def do_something(self):\n",
    "        return self.value + 42\n",
    "    \n",
    "class DoMul42(AbstractClassExample):\n",
    "   \n",
    "    def do_something(self):\n",
    "        return self.value * 42\n",
    "    \n",
    "x = DoAdd42(10)\n",
    "y = DoMul42(10)\n",
    "\n",
    "print(x.do_something())\n",
    "print(y.do_something())"
   ]
  },
  {
   "cell_type": "markdown",
   "metadata": {},
   "source": [
    "A class that is derived from an abstract class cannot be instantiated unless all of its abstract methods are overridden.\n",
    "\n",
    "You may think that abstract methods can't be implemented in the abstract base class. This impression is wrong: An abstract method can have an implementation in the abstract class! Even if they are implemented, designers of subclasses will be forced to override the implementation. Like in other cases of \"normal\" inheritance, the abstract method can be invoked with super() call mechanism. This enables providing some basic functionality in the abstract method, which can be enriched by the subclass implementation."
   ]
  },
  {
   "cell_type": "code",
   "execution_count": 14,
   "metadata": {},
   "outputs": [
    {
     "name": "stdout",
     "output_type": "stream",
     "text": [
      "Some implementation!\n",
      "The enrichment from AnotherSubclass\n"
     ]
    }
   ],
   "source": [
    "from abc import ABC, abstractmethod\n",
    " \n",
    "class AbstractClassExample(ABC):\n",
    "    \n",
    "    @abstractmethod\n",
    "    def do_something(self):\n",
    "        print(\"Some implementation!\")\n",
    "        \n",
    "class AnotherSubclass(AbstractClassExample):\n",
    "\n",
    "    def do_something(self):\n",
    "        super().do_something()\n",
    "        print(\"The enrichment from AnotherSubclass\")\n",
    "        \n",
    "x = AnotherSubclass()\n",
    "x.do_something()\n",
    "        "
   ]
  }
 ],
 "metadata": {
  "anaconda-cloud": {},
  "kernelspec": {
   "display_name": "Python 3",
   "language": "python",
   "name": "python3"
  },
  "language_info": {
   "codemirror_mode": {
    "name": "ipython",
    "version": 3
   },
   "file_extension": ".py",
   "mimetype": "text/x-python",
   "name": "python",
   "nbconvert_exporter": "python",
   "pygments_lexer": "ipython3",
   "version": "3.7.4"
  }
 },
 "nbformat": 4,
 "nbformat_minor": 2
}
