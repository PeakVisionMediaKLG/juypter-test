{
 "cells": [
  {
   "cell_type": "markdown",
   "metadata": {},
   "source": [
    "## Recursive Functions\n",
    "\n",
    "### Definition\n",
    "\n",
    "<img hwidth=300 class=\"imgright\" src=\"../images/mona_lisa.webp\" alt=\"Mona Lisa Fractal\" /> \n",
    "\n",
    "*Recursion has something to do with infinity. I know recursion has something to do with infinity. I think I know recursion has something to do with infinity. He is sure I think I know recursion has something to do with infinity. We doubt he is sure I think I know ...* We think that, you think , we convinced you now that, we can go on forever with this example of a recursion from natural language. Recursion is not only a fundamental feature of natural language, but of the human cognitive capacity. Our way of thinking is based on a recursive thinking processes. Even with a very simple grammar  rule, like \"An English sentence contains a subject and a predicate, and a predicate contains a verb, an object and a complement\", we can demonstrate the infinite possibilities of the natural language. The cognitive scientist and linguist Stephen Pinker phrases it like this: \"With a few thousand nouns that can fill the subject slot and a few thousand verbs that can fill the predicate slot, one already has several million ways to open a sentence. The possible combinations quickly multiply out to unimaginably large numbers. Indeed, the repertoire of sentences is theoretically infinite, because the rules of language use a trick called recursion. A recursive rule allows a phrase to contain an example of itself, as in She thinks that he thinks that they think that he knows and so on, ad infinitum. And if the number of sentences is infinite, the number of possible thoughts and intentions is infinite too, because virtually every sentence expresses a different thought or intention.\"1\n",
    "\n",
    "We have to stop our short excursion to the use of recursion in natural language to come back to recursion in computer science and programs and finally to recursion in the programming language Python.\n",
    "\n",
    "The adjective \"recursive\" originates from the Latin verb \"recurrere\", which means \"to run back\". And this is what a recursive definition or a recursive function does: It is \"running back\" or returning to itself. Most people who have done some mathematics, computer science or read a book about programming will have encountered the factorial, which is defined in mathematical terms as\n",
    "\n",
    "<pre> n! = n * (n-1)!, if n > 1 and 0! = 1 </pre>\n",
    "\n",
    "It's used so often as an example for recursion because of its simplicity and clarity. \n",
    "\n",
    "### Definition of Recursion\n",
    "Recursion is a method of programming or coding a problem, in which a function calls itself one or more times in its body. Usually, it is returning the return value of this function call. If a function definition satisfies the condition of recursion, we call this function a recursive function.\n",
    "\n",
    "Termination condition:\n",
    "A recursive function has to fulfil an important condition to be used in a program: it has to terminate. A recursive function terminates, if with every recursive call the solution of the problem is downsized and moves towards a base case. A base case is a case, where the problem can be solved without further recursion. A recursion can end up in an infinite loop, if the base case is not met in the calls.\n",
    "\n",
    "Example:\n",
    "\n",
    "<pre>\n",
    "4! = 4 * 3!\n",
    "3! = 3 * 2!\n",
    "2! = 2 * 1\n",
    "</pre>\n",
    "\n",
    "Replacing the calculated values gives us the following expression\n",
    "\n",
    "<pre>\n",
    "4! = 4 * 3 * 2 * 1\n",
    "</pre>\n",
    "In other words, recursion in computer science is a method where the solution to a problem is based on solving smaller instances of the same problem.\n",
    "\n",
    "\n",
    "### Recursive Functions in Python\n",
    "Now we come to implement the factorial in Python. It's as easy and elegant as the mathematical definition."
   ]
  },
  {
   "cell_type": "code",
   "execution_count": 6,
   "metadata": {},
   "outputs": [],
   "source": [
    "def factorial(n):\n",
    "    if n == 0:\n",
    "        return 1\n",
    "    else:\n",
    "        return n * factorial(n-1)"
   ]
  },
  {
   "cell_type": "markdown",
   "metadata": {},
   "source": [
    "We can track how the function works by adding two print() functions to the previous function definition:"
   ]
  },
  {
   "cell_type": "code",
   "execution_count": 7,
   "metadata": {},
   "outputs": [
    {
     "name": "stdout",
     "output_type": "stream",
     "text": [
      "factorial has been called with n = 5\n",
      "factorial has been called with n = 4\n",
      "factorial has been called with n = 3\n",
      "factorial has been called with n = 2\n",
      "factorial has been called with n = 1\n",
      "intermediate result for  2  * factorial( 1 ):  2\n",
      "intermediate result for  3  * factorial( 2 ):  6\n",
      "intermediate result for  4  * factorial( 3 ):  24\n",
      "intermediate result for  5  * factorial( 4 ):  120\n",
      "120\n"
     ]
    }
   ],
   "source": [
    "def factorial(n):\n",
    "    print(\"factorial has been called with n = \" + str(n))\n",
    "    if n == 1:\n",
    "        return 1\n",
    "    else:\n",
    "        res = n * factorial(n-1)\n",
    "        print(\"intermediate result for \", n, \" * factorial(\" ,n-1, \"): \",res)\n",
    "        return res\t\n",
    "\n",
    "print(factorial(5))"
   ]
  },
  {
   "cell_type": "markdown",
   "metadata": {},
   "source": [
    "Let's have a look at an iterative version of the factorial function."
   ]
  },
  {
   "cell_type": "code",
   "execution_count": 8,
   "metadata": {},
   "outputs": [
    {
     "name": "stdout",
     "output_type": "stream",
     "text": [
      "0 1\n",
      "1 1\n",
      "2 2\n",
      "3 6\n",
      "4 24\n"
     ]
    }
   ],
   "source": [
    "def iterative_factorial(n):\n",
    "    result = 1\n",
    "    for i in range(2,n+1):\n",
    "        result *= i\n",
    "    return result\n",
    "\n",
    "\n",
    "for i in range(5):\n",
    "    print(i, iterative_factorial(i))"
   ]
  },
  {
   "cell_type": "markdown",
   "metadata": {},
   "source": [
    "It is common practice to extend the factorial function for 0 as an argument. It makes sense to define ```0!``` to be ```1```, because there is exactly one permutation of zero objects, i.e. if nothing is to permute, \"everything\" is left in place. Another reason is that the number of ways to choose n elements among a set of n is calculated as n! divided by the product of n! and 0!.\n",
    "\n",
    "All we have to do to implement this is to change the condition of the if statement:"
   ]
  },
  {
   "cell_type": "code",
   "execution_count": 9,
   "metadata": {},
   "outputs": [],
   "source": [
    "def factorial(n):\n",
    "    if n == 0:\n",
    "        return 1\n",
    "    else:\n",
    "        return n * factorial(n-1)"
   ]
  },
  {
   "cell_type": "markdown",
   "metadata": {},
   "source": [
    "  \n",
    "### Fibonacci Numbers\n",
    "\n",
    "Our treatise of recursion leads us now to another interesting case of recursion.\n",
    "\n",
    "What do have sunflowers, the Golden ratio, fir tree cones, The Da Vinci Code, the song \"Lateralus\" by Tool, and the graphic on the right side in common? Right, the Fibonacci numbers.\n",
    "We are not introducing the Fibonacci numbers, because they are another useful example for recusive function. Trying to write a recursive function for this sequence of numbers, might lead to an inefficient program. In fact, so inefficient that it will not be useful. We introduce the Fibonacci numbers to show you the pitfalls of recursion.\n",
    "\n",
    "\n",
    "<img height= 200 width=200 class=\"imgright\" src=\"../images/fibonacci_squares.webp\" srcset=\"../images/fibonacci_squares_350w.webp 350w,../images/fibonacci_squares_300w.webp 300w\" alt=\"Fibonacci Squares\" /> \n",
    "\n",
    "\n",
    "\n",
    "The Fibonacci numbers are the numbers of the following sequence of integer values:\n",
    "\n",
    "0, 1, 1, 2, 3, 5, 8, 13, 21, 34, 55, 89, ...\n",
    "\n",
    "The Fibonacci numbers are defined by:\n",
    "\n",
    "$F_n = F_{n-} + F_{n-2}$ \n",
    "\n",
    "with $F_0 = 0$ and $F_1 = 1$\n",
    "\n",
    "\n",
    "The Fibonacci sequence is named after the mathematician Leonardo of Pisa, who is better known as Fibonacci. In his book \"Liber Abaci\" (published in 1202) he introduced the sequence as an exercise dealing with bunnies. His sequence of the Fibonacci numbers begins with F1 = 1, while in modern mathematics the sequence starts with F0 = 0. But this has no effect on the other members of the sequence.\n",
    "\n",
    "The Fibonacci numbers are the result of an artificial rabbit population, satisfying the following conditions:\n",
    "\n",
    "- a newly born pair of rabbits, one male, one female, build the initial population\n",
    "- these rabbits are able to mate at the age of one month so that at the end of its second month a female can bring forth another pair of rabbits\n",
    "- these rabbits are immortal\n",
    "- a mating pair always produces one new pair (one male, one female) every month from the second month onwards\n",
    "\n",
    "The Fibonacci numbers are the numbers of rabbit pairs after ```n``` months, i.e. after 10 months we will have $F_10$ rabits.\n",
    "\n",
    "The Fibonacci numbers are easy to write as a Python function. It's more or less a one to one mapping from the mathematical definition:"
   ]
  },
  {
   "cell_type": "code",
   "execution_count": 10,
   "metadata": {},
   "outputs": [],
   "source": [
    "def fib(n):\n",
    "    if n == 0:\n",
    "        return 0\n",
    "    elif n == 1:\n",
    "        return 1\n",
    "    else:\n",
    "        return fib(n-1) + fib(n-2)"
   ]
  },
  {
   "cell_type": "markdown",
   "metadata": {},
   "source": [
    "An iterative solution is also easy to write, though the recursive solution looks more like the definition:"
   ]
  },
  {
   "cell_type": "code",
   "execution_count": 11,
   "metadata": {},
   "outputs": [],
   "source": [
    "def fibi(n):\n",
    "    old, new = 0, 1\n",
    "    if n == 0:\n",
    "        return 0\n",
    "    for i in range(n-1):\n",
    "        old, new = new, old + new\n",
    "    return new"
   ]
  },
  {
   "cell_type": "markdown",
   "metadata": {},
   "source": [
    "We will write a module with the name ```fibonacci``` containing both the funciton ```fib``` and ```fibi```. To do this you have to copy the following code into a file with the name fibonacci0.py:"
   ]
  },
  {
   "cell_type": "code",
   "execution_count": 12,
   "metadata": {},
   "outputs": [
    {
     "name": "stdout",
     "output_type": "stream",
     "text": [
      "Overwriting fibonacci0.py\n"
     ]
    }
   ],
   "source": [
    "%%writefile fibonacci0.py\n",
    "\"\"\" A module containing both a recursive and an iterative implementation of the Fibonacci function. \n",
    "The purpose of this module consists in showing the inefficiency of a purely recursive implementation of Fibonacci! \"\"\"\n",
    "\n",
    "def fib(n):\n",
    "    \"\"\" recursive version of the Fibonacci function \"\"\"\n",
    "    if n == 0:\n",
    "        return 0\n",
    "    elif n == 1:\n",
    "        return 1\n",
    "    else:\n",
    "        return fib(n-1) + fib(n-2)\n",
    "    \n",
    "def fibi(n):\n",
    "    \"\"\" iterative version of the Fibonacci function \"\"\"\n",
    "    old, new = 0, 1\n",
    "    if n == 0:\n",
    "        return 0\n",
    "    for i in range(n-1):\n",
    "        old, new = new, old + new\n",
    "    return new\n"
   ]
  },
  {
   "cell_type": "markdown",
   "metadata": {},
   "source": [
    "If you check the functions fib() and fibi(), you will find out that the iterative version fibi() is a lot faster than the recursive version fib(). To get an idea of how much this \"a lot faster\" can be, we have written a script, which uses the timeit module, to measure the calls. To do this, we save the function definitions for fib and fibi in a file fibonacci.py, which we can import in the program (fibonacci_runit.py) below:"
   ]
  },
  {
   "cell_type": "code",
   "execution_count": 13,
   "metadata": {},
   "outputs": [
    {
     "name": "stdout",
     "output_type": "stream",
     "text": [
      "n= 1, fib: 0.000001, fibi:  0.000002, time1/time2:       0.50\n",
      "n= 2, fib: 0.000002, fibi:  0.000002, time1/time2:       0.85\n",
      "n= 3, fib: 0.000003, fibi:  0.000002, time1/time2:       1.11\n",
      "n= 4, fib: 0.000004, fibi:  0.000003, time1/time2:       1.45\n",
      "n= 5, fib: 0.000011, fibi:  0.000003, time1/time2:       3.35\n",
      "n= 6, fib: 0.000008, fibi:  0.000003, time1/time2:       2.98\n",
      "n= 7, fib: 0.000012, fibi:  0.000002, time1/time2:       5.05\n",
      "n= 8, fib: 0.000018, fibi:  0.000002, time1/time2:       7.98\n",
      "n= 9, fib: 0.000029, fibi:  0.000002, time1/time2:      12.15\n",
      "n=10, fib: 0.000046, fibi:  0.000003, time1/time2:      18.18\n",
      "n=11, fib: 0.000075, fibi:  0.000003, time1/time2:      28.42\n",
      "n=12, fib: 0.000153, fibi:  0.000003, time1/time2:      51.99\n",
      "n=13, fib: 0.000194, fibi:  0.000003, time1/time2:      72.11\n",
      "n=14, fib: 0.000323, fibi:  0.000003, time1/time2:     109.50\n",
      "n=15, fib: 0.001015, fibi:  0.000008, time1/time2:     134.65\n",
      "n=16, fib: 0.002165, fibi:  0.000008, time1/time2:     261.11\n",
      "n=17, fib: 0.003795, fibi:  0.000019, time1/time2:     198.87\n",
      "n=18, fib: 0.006021, fibi:  0.000010, time1/time2:     574.59\n",
      "n=19, fib: 0.008807, fibi:  0.000011, time1/time2:     785.54\n"
     ]
    }
   ],
   "source": [
    "from timeit import Timer\n",
    "\n",
    "t1 = Timer(\"fib(10)\",\"from fibonacci import fib\")\n",
    "\n",
    "for i in range(1, 20):\n",
    "    cmd = \"fib(\" + str(i) + \")\"\n",
    "    t1 = Timer(cmd, \"from fibonacci import fib\")\n",
    "    time1 = t1.timeit(3)\n",
    "    cmd = \"fibi(\" + str(i) + \")\"\n",
    "    t2 = Timer(cmd, \"from fibonacci import fibi\")\n",
    "    time2 = t2.timeit(3)\n",
    "    print(f\"n={i:2d}, fib: {time1:8.6f}, fibi:  {time2:7.6f}, time1/time2: {time1/time2:10.2f}\")"
   ]
  },
  {
   "cell_type": "markdown",
   "metadata": {},
   "source": [
    "```time1``` is the time in seconds it takes for 3 calls to ```fib(n)``` and ```time2``` respectively the time for ```fibi(n)```. "
   ]
  },
  {
   "cell_type": "markdown",
   "metadata": {},
   "source": [
    "What's wrong with our recursive implementation?\n",
    "\n",
    "Let's have a look at the calculation tree, i.e. the order in which the functions are called. fib() is substituted by f().\n",
    "\n",
    "<img height= 300 width=300 src=\"../images/fib_calculation_tree.webp\" srcset=\"../images/fib_calculation_tree_500w.webp 500w,../images/fib_calculation_tree_400w.webp 400w,../images/fib_calculation_tree_350w.webp 350w,../images/fib_calculation_tree_300w.webp 300w\" alt=\"fib() calculation tree\" /> \n",
    "\n",
    "We can see that the subtree f(2) appears 3 times and the subtree for the calculation of f(3) two times. If you imagine extending this tree for f(6), you will understand that f(4) will be called two times, f(3) three times and so on. This means, our recursion doesn't remember previously calculated values.\n",
    "\n",
    "We can implement a \"memory\" for our recursive version by using a dictionary to save the previously calculated values. We call this version ```fibm```:\n"
   ]
  },
  {
   "cell_type": "code",
   "execution_count": 14,
   "metadata": {},
   "outputs": [],
   "source": [
    "memo = {0:0, 1:1}\n",
    "def fibm(n):\n",
    "    if not n in memo:\n",
    "        memo[n] = fibm(n-1) + fibm(n-2)\n",
    "    return memo[n]\n"
   ]
  },
  {
   "cell_type": "markdown",
   "metadata": {},
   "source": [
    "Before we can do some timing on the new version, we add it to our ```fibonacci``` module:"
   ]
  },
  {
   "cell_type": "code",
   "execution_count": 15,
   "metadata": {},
   "outputs": [
    {
     "name": "stdout",
     "output_type": "stream",
     "text": [
      "Overwriting fibonacci.py\n"
     ]
    }
   ],
   "source": [
    "%%writefile fibonacci.py\n",
    "\"\"\" A module containing both a recursive and an iterative implementation of the Fibonacci function. \n",
    "The purpose of this module consists in showing the inefficiency of a purely recursive implementation of Fibonacci! \"\"\"\n",
    "\n",
    "def fib(n):\n",
    "    \"\"\" recursive version of the Fibonacci function \"\"\"\n",
    "    if n == 0:\n",
    "        return 0\n",
    "    elif n == 1:\n",
    "        return 1\n",
    "    else:\n",
    "        return fib(n-1) + fib(n-2)\n",
    "    \n",
    "def fibi(n):\n",
    "    \"\"\" iterative version of the Fibonacci function \"\"\"\n",
    "    old, new = 0, 1\n",
    "    if n == 0:\n",
    "        return 0\n",
    "    for i in range(n-1):\n",
    "        old, new = new, old + new\n",
    "    return new\n",
    "\n",
    "memo = {0:0, 1:1}\n",
    "def fibm(n):\n",
    "    \"\"\" recursive Fibonacci function which memoizes previously \n",
    "    calculated values with the help of a dictionary memo\"\"\"\n",
    "    if not n in memo:\n",
    "        memo[n] = fibm(n-1) + fibm(n-2)\n",
    "    return memo[n]\n"
   ]
  },
  {
   "cell_type": "markdown",
   "metadata": {},
   "source": [
    "We time it again to compare it with fibi():"
   ]
  },
  {
   "cell_type": "code",
   "execution_count": 16,
   "metadata": {},
   "outputs": [
    {
     "name": "stdout",
     "output_type": "stream",
     "text": [
      "n= 1, fibm: 0.000002, fibi:  0.000002, time1/time2:       0.68\n",
      "n= 2, fibm: 0.000001, fibi:  0.000002, time1/time2:       0.63\n",
      "n= 3, fibm: 0.000001, fibi:  0.000002, time1/time2:       0.51\n",
      "n= 4, fibm: 0.000001, fibi:  0.000002, time1/time2:       0.46\n",
      "n= 5, fibm: 0.000001, fibi:  0.000002, time1/time2:       0.48\n",
      "n= 6, fibm: 0.000001, fibi:  0.000002, time1/time2:       0.41\n",
      "n= 7, fibm: 0.000001, fibi:  0.000002, time1/time2:       0.41\n",
      "n= 8, fibm: 0.000001, fibi:  0.000011, time1/time2:       0.10\n",
      "n= 9, fibm: 0.000001, fibi:  0.000002, time1/time2:       0.40\n",
      "n=10, fibm: 0.000001, fibi:  0.000002, time1/time2:       0.36\n",
      "n=11, fibm: 0.000001, fibi:  0.000003, time1/time2:       0.38\n",
      "n=12, fibm: 0.000001, fibi:  0.000003, time1/time2:       0.35\n",
      "n=13, fibm: 0.000001, fibi:  0.000003, time1/time2:       0.44\n",
      "n=14, fibm: 0.000001, fibi:  0.000003, time1/time2:       0.36\n",
      "n=15, fibm: 0.000001, fibi:  0.000003, time1/time2:       0.35\n",
      "n=16, fibm: 0.000001, fibi:  0.000004, time1/time2:       0.34\n",
      "n=17, fibm: 0.000001, fibi:  0.000003, time1/time2:       0.33\n",
      "n=18, fibm: 0.000001, fibi:  0.000004, time1/time2:       0.29\n",
      "n=19, fibm: 0.000001, fibi:  0.000004, time1/time2:       0.27\n"
     ]
    }
   ],
   "source": [
    "from timeit import Timer\n",
    "from fibonacci import fib\n",
    "\n",
    "t1 = Timer(\"fib(10)\",\"from fibonacci import fib\")\n",
    "\n",
    "for i in range(1, 20):\n",
    "    s = \"fibm(\" + str(i) + \")\"\n",
    "    t1 = Timer(s,\"from fibonacci import fibm\")\n",
    "    time1 = t1.timeit(3)\n",
    "    s = \"fibi(\" + str(i) + \")\"\n",
    "    t2 = Timer(s,\"from fibonacci import fibi\")\n",
    "    time2 = t2.timeit(3)\n",
    "    print(f\"n={i:2d}, fibm: {time1:8.6f}, fibi:  {time2:7.6f}, time1/time2: {time1/time2:10.2f}\")"
   ]
  },
  {
   "cell_type": "markdown",
   "metadata": {},
   "source": [
    "We can see that it is even faster than the iterative version. Of course, the larger the arguments, the greater the benefit of our memorization:"
   ]
  },
  {
   "cell_type": "markdown",
   "metadata": {},
   "source": [
    "We can also define a recursive algorithm for our Fibonacci function by using a class with callabe instances, i.e. by using the special method __call__. This way, we will be able to hide the dictionary in an elegant way. We used a general approach which allows as to define also functions similar to Fibonacci, like the Lucas function. This means that we can create Fibonacci-like number sequences by instantiating instances of this class. Basically, the building principle, i.e. the sum of the previous two numbers, will be the same. They will differ by the two initial values:"
   ]
  },
  {
   "cell_type": "code",
   "execution_count": 2,
   "metadata": {},
   "outputs": [
    {
     "name": "stdout",
     "output_type": "stream",
     "text": [
      "1 1 1\n",
      "2 1 3\n",
      "3 2 4\n",
      "4 3 7\n",
      "5 5 11\n",
      "6 8 18\n",
      "7 13 29\n",
      "8 21 47\n",
      "9 34 76\n",
      "10 55 123\n",
      "11 89 199\n",
      "12 144 322\n",
      "13 233 521\n",
      "14 377 843\n",
      "15 610 1364\n"
     ]
    }
   ],
   "source": [
    "class FibonacciLike:\n",
    "\n",
    "    def __init__(self, i1=0, i2=1):\n",
    "        self.memo = {0:i1, 1:i2}\n",
    "\n",
    "    def __call__(self, n):\n",
    "        if n not in self.memo: \n",
    "            self.memo[n] = self.__call__(n-1) + self.__call__(n-2)  \n",
    "        return self.memo[n]\n",
    "\n",
    "\n",
    "# We create a callable to create the Fibonacci numbers:\n",
    "fib = FibonacciLike()\n",
    "\n",
    "# This will create a callable to create the Lucas number series:\n",
    "lucas = FibonacciLike(2, 1)\n",
    "\n",
    "for i in range(1, 16):\n",
    "    print(i, fib(i), lucas(i))"
   ]
  },
  {
   "cell_type": "markdown",
   "metadata": {},
   "source": [
    "The Lucas numbers or Lucas series are an integer sequence named after the mathematician François Édouard Anatole Lucas (1842–91), who studied both that sequence and the closely related Fibonacci numbers. The Lucas numbers have the same creation rule as the Fibonacci number, i.e. the sum of the two previous numbers, but the values for 0 and 1 are different."
   ]
  },
  {
   "cell_type": "markdown",
   "metadata": {},
   "source": [
    "### Generalized Fibonacci Sequence\n",
    "\n",
    "We will demonstrate now that our approach is also suitable to calculate arbitrary generalized Fibonacci sequences. The Fibonacci sequence depends on the two preceding values. We generalize this concept now by defining a k-Fib sequence in the following way \n",
    "\n",
    "Given a fixed natural number ```k``` and ```k >= 2```.\n",
    "Also given ```k``` initial values $i_0, i_1, \\ldots i_{k-1}$\n",
    "\n",
    "satisfying $F_k(0) = i_0, \\ldots F_k(k-1) = i_{k-1}$\n",
    "\n",
    "The function also needs $k$ cofficients $c_0, c_1, \\ldots c_{k-1}$\n",
    "\n",
    "$F_k(n)$ is defined as\n",
    "\n",
    "$$F_k(n) = a_0 \\cdot F_k(n-1) + a_1 \\cdot F_k(n-2) \\ldots a_{k-1} \\cdot F_k(n-k)$$\n",
    "\n",
    "with $k <= n$"
   ]
  },
  {
   "cell_type": "code",
   "execution_count": 18,
   "metadata": {},
   "outputs": [
    {
     "name": "stdout",
     "output_type": "stream",
     "text": [
      "1 1 1\n",
      "2 1 3\n",
      "3 2 4\n",
      "4 3 7\n",
      "5 5 11\n",
      "6 8 18\n",
      "7 13 29\n",
      "8 21 47\n",
      "9 34 76\n",
      "10 55 123\n",
      "11 89 199\n",
      "12 144 322\n",
      "13 233 521\n",
      "14 377 843\n",
      "15 610 1364\n"
     ]
    }
   ],
   "source": [
    "class kFibonacci:\n",
    "\n",
    "    def __init__(self, k, initials, coefficients):\n",
    "        self.memo = dict(zip(range(k), initials))\n",
    "        self.coeffs = coefficients\n",
    "        self.k = k\n",
    "\n",
    "    def __call__(self, n):\n",
    "        k = self.k\n",
    "        if n not in self.memo: \n",
    "            result = 0\n",
    "            for coeff, i in zip(self.coeffs, range(1, k+1)):\n",
    "                result += coeff * self.__call__(n-i)\n",
    "            self.memo[n] = result  \n",
    "        return self.memo[n]\n",
    "    \n",
    "fib = kFibonacci(2, (0, 1), (1, 1))\n",
    "lucas = kFibonacci(2, (2, 1), (1, 1))\n",
    "\n",
    "for i in range(1, 16):\n",
    "    print(i, fib(i), lucas(i))"
   ]
  },
  {
   "cell_type": "markdown",
   "metadata": {},
   "source": [
    "The sequence of Pell numbers start with 1, 2, 5, 12, 29, ...\n",
    "\n",
    "The function is\n",
    "\n",
    "$P(n) = 2 \\cdot P(n-1) + P(n-2)$\n",
    "with $P(0) = 1$ and $P(1) = 1$ \n",
    "\n",
    "It is easy to formulate this sequence with our ```kFibonacci``` class:"
   ]
  },
  {
   "cell_type": "code",
   "execution_count": 19,
   "metadata": {},
   "outputs": [
    {
     "name": "stdout",
     "output_type": "stream",
     "text": [
      "0 1\n",
      "1 2\n",
      "2 5\n",
      "3 12\n",
      "4 29\n",
      "5 70\n",
      "6 169\n",
      "7 408\n",
      "8 985\n",
      "9 2378\n"
     ]
    }
   ],
   "source": [
    "P = kFibonacci(2, (1, 2), (2, 1))\n",
    "for i in range(10):\n",
    "    print(i, P(i))"
   ]
  },
  {
   "cell_type": "markdown",
   "metadata": {},
   "source": [
    "We can create another interesting series by adding the sum of previous two Pell numbers between two Pell numbers P(i) and P(i+1). We get:\n",
    "\n",
    "$P(0), P(1), P(0)+P(1), P(2), P(1)+P(2), P(3), P(2)+P(3), \\ldots$\n",
    "\n",
    "corresponding to:\n",
    "$1, 2, 3, 5, 7, 12, 17, 29, \\ldots $"
   ]
  },
  {
   "cell_type": "code",
   "execution_count": 20,
   "metadata": {},
   "outputs": [
    {
     "name": "stdout",
     "output_type": "stream",
     "text": [
      "1, 2, 3, 5, 7, 12, 17, 29, 41, 70, 99, 169, 239, 408, 577, 985, 1393, 2378, 3363, 5741, "
     ]
    }
   ],
   "source": [
    "def nP(n):\n",
    "    if n < 2:\n",
    "        return P(n)\n",
    "    else:\n",
    "        i = n // 2 + 1\n",
    "        if n % 2:  # n is odd\n",
    "            return P(i)\n",
    "        else:\n",
    "            return P(i-1) + P(i-2)\n",
    "            \n",
    "for i in range(20):\n",
    "    print(nP(i), end=\", \")"
   ]
  },
  {
   "cell_type": "markdown",
   "metadata": {},
   "source": [
    "If you have a close look at the numbers, you can see that there is another rule in this sequence. We can define nP as\n",
    "\n",
    "$nP(n) = 2 \\cdot nP(n-2) + nP(n-4)$ with $n > 3$ and the start values $1, 2, 3, 5$\n",
    "\n",
    "This is another easy application for our ```kFibonacci``` class:"
   ]
  },
  {
   "cell_type": "code",
   "execution_count": 21,
   "metadata": {},
   "outputs": [
    {
     "name": "stdout",
     "output_type": "stream",
     "text": [
      "1, 2, 3, 5, 7, 12, 17, 29, 41, 70, 99, 169, 239, 408, 577, 985, 1393, 2378, 3363, 5741, "
     ]
    }
   ],
   "source": [
    "nP = kFibonacci(4, (1, 2, 3, 5), (0, 2, 0, 1))\n",
    "for i in range(20):\n",
    "    print(nP(i), end=\", \")"
   ]
  },
  {
   "cell_type": "markdown",
   "metadata": {},
   "source": [
    "An interesting mathematical fact: For every odd n the quotient of $P(n)$ by $P(n-1)$ is an approximation of $\\sqrt{2}$. If ```n``` is even, the quotient is an approximation of $1 + {1 \\over {\\sqrt{2}}}$ "
   ]
  },
  {
   "cell_type": "code",
   "execution_count": 22,
   "metadata": {},
   "outputs": [
    {
     "name": "stdout",
     "output_type": "stream",
     "text": [
      "Square root of 2:  1.4142135623730951\n",
      "Square root of 3:  1.7071067811865475\n",
      "2.0, 1.5, 1.6666666666666667, 1.4, 1.7142857142857142, 1.4166666666666667, 1.7058823529411764, 1.4137931034482758, 1.7073170731707317, 1.4142857142857144, 1.707070707070707, 1.4142011834319526, 1.707112970711297, 1.4142156862745099, 1.707105719237435, 1.4142131979695431, 1.7071069633883704, 1.4142136248948696, 1.7071067499256616, "
     ]
    }
   ],
   "source": [
    "sqrt2 = 2 ** 0.5\n",
    "print(\"Square root of 2: \", sqrt2)\n",
    "print(\"Square root of 3: \", 1 + 1 / sqrt2)\n",
    "for i in range(1, 20):\n",
    "    print(nP(i) / nP(i-1), end=\", \")"
   ]
  },
  {
   "cell_type": "markdown",
   "metadata": {},
   "source": [
    "### More about Recursion in Python\n",
    "\n",
    "<img height= 200 width=200 class=\"imgright\" src=\"../images/towers_of_hanoi_2.webp\" alt=\"Towers of Hanoi\" />\n",
    "\n",
    "If you want to learn more on recursion, we suggest that you try to solve the following exercises. Please do not peer at the solutions, before you have given your best. If you have thought about a task for a while and you are still not capable of solving the exercise, you may consult our sample solutions.\n",
    "\n",
    "In our section \"Advanced Topics\" of our tutorial we have a comprehensive treatment of the game or puzzle \"Towers of Hanoi\". Of course, we solve it with a function using a recursive function. The \"Hanoi problem\" is special, because a recursive solution almost forces itself on the programmer, while the iterative solution of the game is hard to find and to grasp.\n",
    "\n",
    "### Exercises\n",
    "\n",
    "#### Exercise 1\n",
    "\n",
    "Think of a recursive version of the function f(n) = 3 * n, i.e. the multiples of 3\n",
    "\n",
    "#### Exercise 2\n",
    "\n",
    "Write a recursive Python function that returns the sum of the first n integers.\n",
    "(Hint: The function will be similiar to the factorial function!)\n",
    "\n",
    "#### Exercise 3\n",
    "\n",
    "Write a function which implements the Pascal's triangle:\n",
    "\n",
    "\n",
    "\n",
    "                       1\n",
    "\n",
    "                     1    1\n",
    "\n",
    "                   1     2     1\n",
    "\n",
    "                 1     3     3     1\n",
    "\n",
    "               1     4     6     4     1\n",
    "\n",
    "             1     5     10    10     5    1\n",
    "      \n",
    "\n",
    "#### Exercise 4\n",
    "\n",
    "The Fibonacci numbers are hidden inside of Pascal's triangle. If you sum up the coloured numbers of the following triangle, you will get the 7th Fibonacci number:\n",
    "\n",
    "\n",
    "\n",
    "<center>\n",
    "                   1<br>\n",
    "                 1 &nbsp;&nbsp; 1<br>\n",
    "               1 &nbsp;&nbsp;  2 &nbsp;&nbsp; 1<br>\n",
    "             1  &nbsp;&nbsp; 3 &nbsp;&nbsp;  3  &nbsp;&nbsp; <span style=\"font-weight: bold; color: rgb(255, 150, 98);\">1</span><br>\n",
    "           1  &nbsp;&nbsp; 4 &nbsp;&nbsp;  <span style=\"font-weight: bold; color: rgb(255, 150, 98);\">6</span> &nbsp;&nbsp;  4 &nbsp;&nbsp;  1<br>\n",
    "         1 &nbsp;&nbsp;  <span style=\"font-weight: bold; color: rgb(255, 150, 98);\">5</span> &nbsp;&nbsp;  10 &nbsp;&nbsp; 10 &nbsp;&nbsp;  5 &nbsp;&nbsp; 1<br>  \n",
    "       <span style=\"font-weight: bold; color: rgb(255, 150, 98);\">1</span> &nbsp;&nbsp;  6 &nbsp;&nbsp;  15 &nbsp;&nbsp; 20 &nbsp;&nbsp;  15 &nbsp;&nbsp; 6 &nbsp;&nbsp; 1<br>  \n",
    "</center>\n",
    "\n",
    "      \n",
    "\n",
    "\n",
    "Write a recursive program to calculate the Fibonacci numbers, using Pascal's triangle.\n",
    "\n",
    "#### Exercise 5\n",
    "\n",
    "Implement a recursive function in Python for the sieve of Eratosthenes.\n",
    "\n",
    "The sieve of Eratosthenes is a simple algorithm for finding all prime numbers up to a specified integer. It was created by the ancient Greek mathematician Eratosthenes.\n",
    "The algorithm to find all the prime numbers less than or equal to a given integer n:\n",
    "\n",
    "1. Create a list of integers from two to n: 2, 3, 4, ..., n\n",
    "2. Start with a counter i set to 2, i.e. the first prime number\n",
    "3. Starting from i+i, count up by i and remove those numbers from the list, i.e. 2*i, 3*i, 4*i, etc..\n",
    "4. Find the first number of the list following i. This is the next prime number.\n",
    "5. Set i to the number found in the previous step\n",
    "6. Repeat steps 3 and 4 until i is greater than n. (As an improvement: It's enough to go to the square root of n)\n",
    "7. All the numbers, which are still in the list, are prime numbers\n",
    "\n",
    "You can easily see that we would be inefficient, if we strictly used this algorithm, e.g. we will try to remove the multiples of 4, although they have been already removed by the multiples of 2. So it's enough to produce the multiples of all the prime numbers up to the square root of n. We can recursively create these sets.\n",
    "\n",
    "#### Exercise 6\n",
    "\n",
    "Write a recursive function fib_indexfib(), which returns the index of a number in the Fibonacci sequence, if the number is an element of this sequence, and returns -1 if the number is not contained in it, i.e.\n",
    "\n",
    "$fib(fib\\_index(n)) == n$\n",
    "\n",
    "#### Exercise 7\n",
    "\n",
    "The sum of the squares of two consecutive Fibonacci numbers is also a Fibonacci number, e.g. 2 and 3 are elements of the Fibonacci sequence and 2*2 + 3*3 = 13 corresponds to Fib(7).Use the previous function to find the position of the sum of the squares of two consecutive numbers in the Fibonacci sequence.\n",
    "\n",
    "Mathematical explanation:\n",
    "Let a and b be two successive Fibonacci numbers with a prior to b. The Fibonacci sequence starting with the number \"a\" looks like this:\n",
    "\n",
    "<pre>\n",
    "    0              a\n",
    "    1              b\n",
    "    2          a + b\t\n",
    "    3\t  a + 2b\n",
    "    4 \t 2a + 3b\n",
    "    5        3a + 5b\n",
    "    6        5a + 8b\n",
    "</pre>\n",
    "    \n",
    "We can see that the Fibonacci numbers appear as factors for a and b. The n-th element in this sequence can be calculated with the following formula:"
   ]
  },
  {
   "cell_type": "markdown",
   "metadata": {},
   "source": [
    "$F(n) = Fib(n-1) \\cdot a + Fib(n) \\cdot b$"
   ]
  },
  {
   "cell_type": "markdown",
   "metadata": {},
   "source": [
    "From this we can conclude that for a natural number n, n>1, the following holds true:"
   ]
  },
  {
   "cell_type": "markdown",
   "metadata": {},
   "source": [
    "$Fib(2 \\cdot n + 1) = Fib(n)^2 + Fib(n+1)^2$"
   ]
  },
  {
   "cell_type": "markdown",
   "metadata": {},
   "source": [
    "#### Exercise 8\n",
    "\n",
    "The **tribonacci numbers** are like the Fibonacci numbers, but instead of starting with two predetermined terms, the sequence starts with three predetermined terms and each term afterwards is the sum of the preceding three terms. The first few tribonacci numbers are:\n",
    "\n",
    "$0, 0, 1, 1, 2, 4, 7, 13, 24, 44, 81, 149, 274, 504, 927, 1705, 3136, 5768, 10609, 19513, 35890, 66012, \\ldots $\n",
    "\n",
    "The **tetranacci numbers** start with four predetermined terms, each term afterwards being the sum of the preceding four terms. The first few tetranacci numbers are:\n",
    "\n",
    "$0, 0, 0, 1, 1, 2, 4, 8, 15, 29, 56, 108, 208, 401, 773, 1490, 2872, 5536, 10671, 20569, 39648, \\ldots $\n",
    "\n",
    "This continues in the same way for pentanacci, hexanacci, heptanacci, octanacci, and so on.\n",
    "\n",
    "Write a function for the tribonacci and tetranacci numbers.\n",
    "\n",
    "#### Exercise 9:\n",
    "\n",
    "What if somebody wants to check the parameters in a recursive function? For example the factorial function. \n",
    "Okay, please write a recursive version of factorial, which checks the parameters.\n",
    "Maybe you did it in a perfect way, but maybe not. Can you improve your version? Get rid of unnecessary tests?\n"
   ]
  },
  {
   "cell_type": "markdown",
   "metadata": {},
   "source": [
    "### Solutions\n",
    "\n",
    "#### Solution to Exercise 1\n",
    "\n",
    "Mathematically, we can write it like this:\n",
    "                                                         \n",
    "\n",
    "$f(1) = 3, $\n",
    "\n",
    "$f(n+1) = f(n) + 3$\n",
    "\n",
    "A Python function can be written like this:  "
   ]
  },
  {
   "cell_type": "code",
   "execution_count": 23,
   "metadata": {},
   "outputs": [
    {
     "name": "stdout",
     "output_type": "stream",
     "text": [
      "3\n",
      "6\n",
      "9\n",
      "12\n",
      "15\n",
      "18\n",
      "21\n",
      "24\n",
      "27\n"
     ]
    }
   ],
   "source": [
    "def mult3(n):\n",
    "    if n == 1:\n",
    "        return 3\n",
    "    else:\n",
    "        return mult3(n-1) + 3\n",
    "\n",
    "for i in range(1,10):\n",
    "        print(mult3(i))"
   ]
  },
  {
   "cell_type": "markdown",
   "metadata": {},
   "source": [
    "#### Solution to  Exercise 2"
   ]
  },
  {
   "cell_type": "code",
   "execution_count": 24,
   "metadata": {},
   "outputs": [],
   "source": [
    "def sum_n(n):\n",
    "    if n== 0:\n",
    "        return 0\n",
    "    else:\n",
    "        return n + sum_n(n-1)\n"
   ]
  },
  {
   "cell_type": "markdown",
   "metadata": {},
   "source": [
    "#### Solution to Exercise 3: Generating the Pascal triangle:"
   ]
  },
  {
   "cell_type": "code",
   "execution_count": 25,
   "metadata": {},
   "outputs": [
    {
     "name": "stdout",
     "output_type": "stream",
     "text": [
      "[1, 5, 10, 10, 5, 1]\n"
     ]
    }
   ],
   "source": [
    "def pascal(n):\n",
    "    if n == 1:\n",
    "        return [1]\n",
    "    else:\n",
    "        line = [1]\n",
    "        previous_line = pascal(n-1)\n",
    "        for i in range(len(previous_line)-1):\n",
    "            line.append(previous_line[i] + previous_line[i+1])\n",
    "        line += [1]\n",
    "    return line\n",
    "\n",
    "print(pascal(6))"
   ]
  },
  {
   "cell_type": "markdown",
   "metadata": {},
   "source": [
    "Alternatively, we can write a function using list comprehension:"
   ]
  },
  {
   "cell_type": "code",
   "execution_count": 26,
   "metadata": {},
   "outputs": [
    {
     "name": "stdout",
     "output_type": "stream",
     "text": [
      "[1, 5, 10, 10, 5, 1]\n"
     ]
    }
   ],
   "source": [
    "def pascal(n):\n",
    "    if n == 1:\n",
    "        return [1]\n",
    "    else:\n",
    "        p_line = pascal(n-1)\n",
    "        line = [ p_line[i]+p_line[i+1] for i in range(len(p_line)-1)]\n",
    "        line.insert(0,1)\n",
    "        line.append(1)\n",
    "    return line\n",
    "\n",
    "print(pascal(6))"
   ]
  },
  {
   "cell_type": "markdown",
   "metadata": {},
   "source": [
    "#### Solution to Exercise 4\n",
    "Producing the Fibonacci numbers out of Pascal's triangle:"
   ]
  },
  {
   "cell_type": "code",
   "execution_count": 27,
   "metadata": {},
   "outputs": [
    {
     "name": "stdout",
     "output_type": "stream",
     "text": [
      "1\n",
      "1\n",
      "2\n",
      "3\n",
      "5\n",
      "8\n",
      "13\n",
      "21\n",
      "34\n"
     ]
    }
   ],
   "source": [
    "def fib_pascal(n,fib_pos):\n",
    "    if n == 1:\n",
    "        line = [1]\n",
    "        fib_sum = 1 if fib_pos == 0 else 0\n",
    "    else:\n",
    "        line = [1]\n",
    "        (previous_line, fib_sum) = fib_pascal(n-1, fib_pos+1)\n",
    "        for i in range(len(previous_line)-1):\n",
    "            line.append(previous_line[i] + previous_line[i+1])\n",
    "        line += [1]\n",
    "        if fib_pos < len(line):\n",
    "            fib_sum += line[fib_pos]\n",
    "    return (line, fib_sum)\n",
    "\n",
    "def fib(n):\n",
    "    return fib_pascal(n,0)[1]\n",
    "\n",
    "# and now printing out the first ten Fibonacci numbers:\n",
    "for i in range(1,10):\n",
    "    print(fib(i))"
   ]
  },
  {
   "cell_type": "markdown",
   "metadata": {},
   "source": [
    "#### Solution to Exercise 5\n",
    "The following program implements the sieve of Eratosthenes according to the rules of the task in an iterative way. It will print out the first 100 prime numbers."
   ]
  },
  {
   "cell_type": "code",
   "execution_count": 28,
   "metadata": {},
   "outputs": [
    {
     "name": "stdout",
     "output_type": "stream",
     "text": [
      "[2, 3, 5, 7, 11, 13, 17, 19, 23, 29, 31, 37, 41, 43, 47, 53, 59, 61, 67, 71, 73, 79, 83, 89, 97]\n"
     ]
    }
   ],
   "source": [
    "from math import sqrt\n",
    "def sieve(n):\n",
    "    # returns all primes between 2 and n\n",
    "    primes = list(range(2,n+1))\n",
    "    max = sqrt(n)\n",
    "    num = 2\n",
    "    while num < max:\n",
    "        i = num\n",
    "        while i <= n:\n",
    "            i += num\n",
    "            if i in primes:\n",
    "                primes.remove(i)\n",
    "        for j in primes:\n",
    "            if j > num:\n",
    "                num = j\n",
    "                break\n",
    "    return primes\n",
    "\n",
    "print(sieve(100))"
   ]
  },
  {
   "cell_type": "markdown",
   "metadata": {},
   "source": [
    "But this chapter of our tutorial is about recursion and recursive functions, and we have demanded a recursive function to calculate the prime numbers. To understand the following solution, you may confer our chapter about List Comprehension:"
   ]
  },
  {
   "cell_type": "code",
   "execution_count": 29,
   "metadata": {},
   "outputs": [
    {
     "name": "stdout",
     "output_type": "stream",
     "text": [
      "[2, 3, 5, 7, 11, 13, 17, 19, 23, 29, 31, 37, 41, 43, 47, 53, 59, 61, 67, 71, 73, 79, 83, 89, 97]\n"
     ]
    }
   ],
   "source": [
    "from math import sqrt\n",
    "\n",
    "def primes(n):\n",
    "    if n == 0:\n",
    "        return []\n",
    "    elif n == 1:\n",
    "        return []\n",
    "    else:\n",
    "        p = primes(int(sqrt(n)))\n",
    "        no_p = [j for i in p for j in range(i*2, n + 1, i)]\n",
    "        p = [x for x in range(2, n + 1) if x not in no_p]\n",
    "        return p\n",
    "\n",
    "\n",
    "print(primes(100))\n"
   ]
  },
  {
   "cell_type": "markdown",
   "metadata": {},
   "source": [
    "#### Solution to Exercise 6\n",
    "\n"
   ]
  },
  {
   "cell_type": "code",
   "execution_count": 30,
   "metadata": {},
   "outputs": [
    {
     "name": "stdout",
     "output_type": "stream",
     "text": [
      " index of a |    a |     b | sum of squares | index \n",
      "=====================================================\n",
      "           0|     0|        1|             1|    1\n",
      "           1|     1|        1|             2|    3\n",
      "           2|     1|        2|             5|    5\n",
      "           3|     2|        3|            13|    7\n",
      "           4|     3|        5|            34|    9\n",
      "           5|     5|        8|            89|   11\n",
      "           6|     8|       13|           233|   13\n",
      "           7|    13|       21|           610|   15\n",
      "           8|    21|       34|          1597|   17\n",
      "           9|    34|       55|          4181|   19\n",
      "          10|    55|       89|         10946|   21\n",
      "          11|    89|      144|         28657|   23\n",
      "          12|   144|      233|         75025|   25\n",
      "          13|   233|      377|        196418|   27\n",
      "          14|   377|      610|        514229|   29\n"
     ]
    }
   ],
   "source": [
    "memo = {0:0, 1:1}\n",
    "def fib(n):\n",
    "    if not n in memo:\n",
    "        memo[n] = fib(n-1) + fib(n-2)\n",
    "    return memo[n]\n",
    "\n",
    "def fib_index(*x):\n",
    "    \"\"\" finds the natural number i with fib(i) == n \"\"\"\n",
    "    if len(x) == 1:\n",
    "        # started by user\n",
    "        # find index starting from 0\n",
    "        return fib_index(x[0], 0)\n",
    "    else:\n",
    "        n = fib(x[1])\n",
    "        m = x[0]\n",
    "        if  n > m:\n",
    "            return -1\n",
    "        elif n == m:\n",
    "            return x[1]\n",
    "        else:\n",
    "            return fib_index(m, x[1]+1)\n",
    "\n",
    "\n",
    "# code from the previous example with the functions fib() and find_index()\n",
    "\n",
    "print(\" index of a |    a |     b | sum of squares | index \")\t\n",
    "print(\"=====================================================\")\n",
    "for i in range(15):\n",
    "    square = fib(i)**2 + fib(i+1)**2\n",
    "    print(f\"{i:12d}|{fib(i):6d}|{fib(i+1):9d}|{square:14d}|{fib_index(square):5d}\")"
   ]
  },
  {
   "cell_type": "markdown",
   "metadata": {},
   "source": [
    "#### Solution to Exercise 8\n",
    "\n",
    "We will use the class ```kFibonacci``` which we have defined in this chapter."
   ]
  },
  {
   "cell_type": "code",
   "execution_count": 31,
   "metadata": {},
   "outputs": [
    {
     "name": "stdout",
     "output_type": "stream",
     "text": [
      "0, 0, 1, 1, 2, 4, 7, 13, 24, 44, 81, 149, 274, 504, 927, 1705, 3136, 5768, 10609, 19513, "
     ]
    }
   ],
   "source": [
    "tribonacci = kFibonacci(3, (0, 0, 1), (1, 1, 1))\n",
    "\n",
    "for i in range(20):\n",
    "    print(tribonacci(i), end=\", \")"
   ]
  },
  {
   "cell_type": "code",
   "execution_count": 32,
   "metadata": {},
   "outputs": [
    {
     "name": "stdout",
     "output_type": "stream",
     "text": [
      "0, 0, 0, 1, 1, 2, 4, 8, 15, 29, 56, 108, 208, 401, 773, 1490, 2872, 5536, 10671, 20569, "
     ]
    }
   ],
   "source": [
    "tetranacci = kFibonacci(4, (0, 0, 0, 1), (1, 1, 1, 1))\n",
    "\n",
    "for i in range(20):\n",
    "    print(tetranacci(i), end=\", \")"
   ]
  },
  {
   "cell_type": "markdown",
   "metadata": {},
   "source": [
    "We can easily create them like this:"
   ]
  },
  {
   "cell_type": "code",
   "execution_count": 33,
   "metadata": {},
   "outputs": [
    {
     "name": "stdout",
     "output_type": "stream",
     "text": [
      "tribonacci = kFibonacci(3, (0, 0, 1), (1, 1, 1))\n",
      "tetranacci = kFibonacci(4, (0, 0, 0, 1), (1, 1, 1, 1))\n",
      "pentranacci = kFibonacci(5, (0, 0, 0, 0, 1), (1, 1, 1, 1, 1))\n",
      "hexanacci = kFibonacci(6, (0, 0, 0, 0, 0, 1), (1, 1, 1, 1, 1, 1))\n",
      "heptanacci = kFibonacci(7, (0, 0, 0, 0, 0, 0, 1), (1, 1, 1, 1, 1, 1, 1))\n",
      "octanacci = kFibonacci(8, (0, 0, 0, 0, 0, 0, 0, 1), (1, 1, 1, 1, 1, 1, 1, 1))\n",
      "\n",
      "Testing the octanacci function: \n",
      "0, 0, 0, 0, 0, 0, 0, 1, 1, 2, 4, 8, 16, 32, 64, 128, 255, 509, 1016, 2028, "
     ]
    }
   ],
   "source": [
    "prefixes = ['tribo', 'tetra', 'pentra', 'hexa', 'hepta', 'octa']\n",
    "for k, prefix in zip(range(len(prefixes)), prefixes):\n",
    "    cmd = prefix + \"nacci = kFibonacci(\" \n",
    "    cmd += str(k+3) + \", (\" + \"0, \" * (k+2) + \"1), \"\n",
    "    cmd += \"(\" + \"1, \" * (k+2) + \"1))\"\n",
    "    print(cmd)\n",
    "    exec(cmd)\n",
    "   \n",
    "print(\"\\nTesting the octanacci function: \")\n",
    "for i in range(20):\n",
    "    print(octanacci(i), end=\", \")"
   ]
  },
  {
   "cell_type": "markdown",
   "metadata": {},
   "source": [
    "#### Solution to Exercise 9\n",
    "\n"
   ]
  },
  {
   "cell_type": "code",
   "execution_count": 34,
   "metadata": {},
   "outputs": [],
   "source": [
    "def factorial(n):\n",
    "    \"\"\" calculates the factorial of n, \n",
    "        n should be an integer and n <= 0 \"\"\"\n",
    "    if type(n) == int and n >=0:\n",
    "        if n == 0:\n",
    "            return 1\n",
    "        else:\n",
    "            return n * factorial(n-1)\n",
    "\n",
    "    else:\n",
    "        raise TypeError(\"n has to be a positive integer or zero\")"
   ]
  },
  {
   "cell_type": "markdown",
   "metadata": {},
   "source": [
    "What  do you think about this solution? You call ```factorial(10)``` for example. The funciton will check, if ```10``` is a positive integer. The function will recursively call ```factorial(9)```. In this call the function will check again, if ```9``` is an integer. What else can it be? The first call had already checked ```10``` and all we did was subtracting ```1``` from ```10```. \n",
    "\n",
    "We can overcome this problem by defining an inner function:"
   ]
  },
  {
   "cell_type": "code",
   "execution_count": 35,
   "metadata": {},
   "outputs": [
    {
     "name": "stdout",
     "output_type": "stream",
     "text": [
      "3628800\n"
     ]
    }
   ],
   "source": [
    "def factorial(n):\n",
    "    \"\"\" calculates the factorial of n, \n",
    "        n should be an integer and n <= 0 \"\"\"\n",
    "    def inner_factorial(n):\n",
    "        if n == 0:\n",
    "            return 1\n",
    "        else:\n",
    "            return n * inner_factorial(n-1)\n",
    "    if type(n) == int and n >=0:\n",
    "        return inner_factorial(n)\n",
    "    else:\n",
    "        raise TypeError(\"n should be a positve int or 0\")\n",
    "        \n",
    "print(factorial(10))"
   ]
  },
  {
   "cell_type": "markdown",
   "metadata": {},
   "source": [
    "The test will only be performed on the first call with ```10```!"
   ]
  },
  {
   "cell_type": "markdown",
   "metadata": {},
   "source": [
    "*Stephen Pinker, The Blank Slate, 2002 "
   ]
  }
 ],
 "metadata": {
  "kernelspec": {
   "display_name": "Python 3",
   "language": "python",
   "name": "python3"
  },
  "language_info": {
   "codemirror_mode": {
    "name": "ipython",
    "version": 3
   },
   "file_extension": ".py",
   "mimetype": "text/x-python",
   "name": "python",
   "nbconvert_exporter": "python",
   "pygments_lexer": "ipython3",
   "version": "3.8.8"
  }
 },
 "nbformat": 4,
 "nbformat_minor": 4
}
