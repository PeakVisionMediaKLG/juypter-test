{
 "cells": [
  {
   "cell_type": "markdown",
   "metadata": {},
   "source": [
    "## Generators and Iterators\n",
    "\n",
    "\n",
    "### Introduction\n",
    "\n",
    "<img class=\"imgright\" src=\"../images/wind_generators_posterize.webp\" srcset=\"../images/wind_generators_posterize_300w.webp 300w\" alt=\"Wind Power Generators\" />\n",
    "\n",
    "What is an iterator? Iterators are objects that can be iterated over like we do in a for loop. We can also say that an iterator is an object, which returns data, one element at a time. That is, they do not do any work until we explicitly ask for their next item. They work on a principle, which is known in computer science as *lazy evaluation*. Lazy evaluation is an evaluation strategy which delays the evaluation of an expression until its value is really needed.  Due to the laziness of Python iterators, they are a great way to deal with infinity, i.e. iterables which can iterate for ever. You can hardly find Python programs that are not teaming with iterators.\n",
    "\n",
    "Iterators are a fundamental concept of Python. You already learned in your first Python programs that you can iterate over container objects such as lists and strings. To do this, Python creates an iterator version of the list or string. In this case, an iterator can be seen as a pointer to a container, which enables us to iterate over all the elements of this container. An iterator is an abstraction, which enables the programmer to access all the elements of an iterable object (a set, a string, a list etc.) without any deeper knowledge of the data structure of this object. \n",
    "\n",
    "Generators are a special kind of function, which enable us to implement or generate iterators.\n",
    "\n",
    "Mostly, iterators are implicitly used, like in the for-loop of Python. We demonstrate this in the following example. We are iterating over a list, but you shouldn't be mistaken: A list is not an iterator, but it can be used like an iterator:"
   ]
  },
  {
   "cell_type": "code",
   "execution_count": 9,
   "metadata": {},
   "outputs": [
    {
     "name": "stdout",
     "output_type": "stream",
     "text": [
      "location: Paris\n",
      "location: Berlin\n",
      "location: Hamburg\n",
      "location: Frankfurt\n",
      "location: London\n",
      "location: Vienna\n",
      "location: Amsterdam\n",
      "location: Den Haag\n"
     ]
    }
   ],
   "source": [
    "cities = [\"Paris\", \"Berlin\", \"Hamburg\", \n",
    "          \"Frankfurt\", \"London\", \"Vienna\", \n",
    "          \"Amsterdam\", \"Den Haag\"]\n",
    "for location in cities:\n",
    "    print(\"location: \" + location)"
   ]
  },
  {
   "cell_type": "markdown",
   "metadata": {},
   "source": [
    "What is really going on when a for loop is executed? The function 'iter' is applied to the object following the 'in' keyword, e.g. for i in o:. Two cases are possible: o is either iterable or not. If o is not iterable, an exception will be raised, saying that the type of the object is not iterable. On the other hand, if o is iterable the call iter(o) will return an iterator, let us call it iterator_obj The for loop uses this iterator to iterate over the object o by using the next method. The for loop stops when next(iterator_obj) is exhausted, which means it returns a StopIteration exception. We demonstrate this behaviour in the following code example:"
   ]
  },
  {
   "cell_type": "code",
   "execution_count": 10,
   "metadata": {},
   "outputs": [
    {
     "name": "stdout",
     "output_type": "stream",
     "text": [
      "Calling 'next' for the first time:  Python Beginner\n",
      "Calling 'next' for the second time:  Python Intermediate\n"
     ]
    }
   ],
   "source": [
    "expertises = [\"Python Beginner\", \n",
    "              \"Python Intermediate\", \n",
    "              \"Python Proficient\", \n",
    "              \"Python Advanced\"]\n",
    "expertises_iterator = iter(expertises)\n",
    "print(\"Calling 'next' for the first time: \", next(expertises_iterator))\n",
    "print(\"Calling 'next' for the second time: \", next(expertises_iterator))"
   ]
  },
  {
   "cell_type": "markdown",
   "metadata": {},
   "source": [
    "We could have called ```next``` two more times, but after this we will get a StopIteration Exception. \n",
    "\n",
    "We can simulate this iteration behavior of the for loop in a while loop: You might have noticed that there is something missing in our program: We have to catch the \"Stop Iteration\" exception:\n"
   ]
  },
  {
   "cell_type": "code",
   "execution_count": 11,
   "metadata": {},
   "outputs": [
    {
     "name": "stdout",
     "output_type": "stream",
     "text": [
      "Strasbourg\n",
      "Freiburg\n",
      "Stuttgart\n",
      "Vienna / Wien\n",
      "Hannover\n",
      "Berlin\n",
      "Zurich\n"
     ]
    }
   ],
   "source": [
    "other_cities = [\"Strasbourg\", \"Freiburg\", \"Stuttgart\", \n",
    "                \"Vienna / Wien\", \"Hannover\", \"Berlin\", \n",
    "                \"Zurich\"]\n",
    "\n",
    "city_iterator = iter(other_cities)\n",
    "while city_iterator:\n",
    "    try:\n",
    "        city = next(city_iterator)\n",
    "        print(city)\n",
    "    except StopIteration:\n",
    "        break"
   ]
  },
  {
   "cell_type": "markdown",
   "metadata": {},
   "source": [
    "The sequential base types as well as the majority of the classes of the standard library of Python support iteration. The dictionary data type dict supports iterators as well. In this case the iteration runs over the keys of the dictionary:\n"
   ]
  },
  {
   "cell_type": "code",
   "execution_count": 12,
   "metadata": {},
   "outputs": [
    {
     "name": "stdout",
     "output_type": "stream",
     "text": [
      "The capital city of France is Paris\n",
      "The capital city of Netherlands is Amsterdam\n",
      "The capital city of Germany is Berlin\n",
      "The capital city of Switzerland is Bern\n",
      "The capital city of Austria is Vienna\n"
     ]
    }
   ],
   "source": [
    "capitals = { \n",
    "    \"France\":\"Paris\", \n",
    "    \"Netherlands\":\"Amsterdam\", \n",
    "    \"Germany\":\"Berlin\", \n",
    "    \"Switzerland\":\"Bern\", \n",
    "    \"Austria\":\"Vienna\"}\n",
    "\n",
    "for country in capitals:\n",
    "     print(\"The capital city of \" + country + \" is \" + capitals[country])"
   ]
  },
  {
   "cell_type": "markdown",
   "metadata": {},
   "source": [
    "Off-topic: Some readers may be confused to learn from our example that the capital of the Netherlands is not Den Haag (The Hague) but Amsterdam. Amsterdam is the capital of the Netherlands according to the constitution, even though the Dutch parliament and the Dutch government are situated in The Hague, as well as the Supreme Court and the Council of State."
   ]
  },
  {
   "cell_type": "markdown",
   "metadata": {},
   "source": [
    "### Implementing an Iterator as a Class\n",
    "\n",
    "<a name=\"CycleClass\"></a>\n",
    "\n",
    "One way to create iterators in Python is defining a class which implements the methods ```__init__``` and ```__next__```. We show this by implementing a class cycle, which can be used to cycle over an iterable object forever. In other words, an instance of this class returns the element of an iterable until it is exhausted. Then it repeats the sequence indefinitely."
   ]
  },
  {
   "cell_type": "code",
   "execution_count": 13,
   "metadata": {},
   "outputs": [
    {
     "name": "stdout",
     "output_type": "stream",
     "text": [
      "a, b, c, a, b, c, a, b, c, a, "
     ]
    }
   ],
   "source": [
    "class Cycle(object):\n",
    "    \n",
    "    def __init__(self, iterable):\n",
    "        self.iterable = iterable\n",
    "        self.iter_obj = iter(iterable)\n",
    "\n",
    "    def __iter__(self):\n",
    "        return self\n",
    "\n",
    "    def __next__(self):\n",
    "        while True:\n",
    "            try:\n",
    "                next_obj = next(self.iter_obj)\n",
    "                return next_obj\n",
    "            except StopIteration:\n",
    "                self.iter_obj = iter(self.iterable)\n",
    "\n",
    "      \n",
    "x = Cycle(\"abc\")\n",
    "\n",
    "for i in range(10):\n",
    "    print(next(x), end=\", \")"
   ]
  },
  {
   "cell_type": "markdown",
   "metadata": {},
   "source": [
    "Even though the object-oriented approach to creating an iterator may be very interesting, this is not the pythonic method.\n",
    "\n",
    "\n",
    "The usual and easiest way to create an iterator in Python consists in using a generator function. You will learn this in the following chapter."
   ]
  },
  {
   "cell_type": "markdown",
   "metadata": {},
   "source": [
    "\n",
    "\n",
    "\n",
    "### Generators\n",
    "On the surface, generators in Python look like functions, but there is both a syntactic and a semantic difference. One distinguishing characteristic is the *yield* statements. The yield statement turns a functions into a generator. A generator is a function which returns a generator object. This generator object can be seen like a function which produces a sequence of results instead of a single object. This sequence of values is produced by iterating over it, e.g. with a for loop. The values, on which can be iterated, are created by using the yield statement. The value created by the yield statement is the value following the yield keyword. The execution of the code stops when a yield statement is reached. The value behind the yield will be returned. The execution of the generator is interrupted now. As soon as \"next\" is called again on the generator object, the generator function will resume execution right after the yield statement in the code, where the last call is made. The execution will continue in the state in which the generator was left after the last yield. In other words, all the local variables still exist, because they are automatically saved between calls. This is a fundamental difference to functions: functions always start their execution at the beginning of the function body, regardless of where they had left in previous calls. They don't have any static or persistent values. There may be more than one yield statement in the code of a generator or the yield statement might be inside the body of a loop. If there is a return statement in the code of a generator, the execution will stop with a StopIteration exception error when this code is executed by the Python interpreter. The word \"generator\" is sometimes ambiguously used to mean both the generator function itself and the objects which are generated by a generator.\n",
    "\n",
    "\n",
    "Everything which can be done with a generator can also be implemented with a class based iterator as well. However,\n",
    "the crucial advantage of generators consists in automatically creating the methods ```__iter__```() and next().\n",
    "Generators provide a very neat way of producing data which is huge or even infinite.\n",
    "\n",
    "The following is a simple example of a generator, which is capable of producing various city names.\n",
    "\n",
    "It's possible to create a generator object with this generator, which generates all the city names, one after the other. "
   ]
  },
  {
   "cell_type": "code",
   "execution_count": 14,
   "metadata": {},
   "outputs": [],
   "source": [
    "def city_generator():\n",
    "    yield(\"Hamburg\")\n",
    "    yield(\"Konstanz\")\n",
    "    yield(\"Berlin\")\n",
    "    yield(\"Zurich\")\n",
    "    yield(\"Schaffhausen\")\n",
    "    yield(\"Stuttgart\")  "
   ]
  },
  {
   "cell_type": "markdown",
   "metadata": {},
   "source": [
    "We created an iterator by calling city_generator():"
   ]
  },
  {
   "cell_type": "code",
   "execution_count": 15,
   "metadata": {},
   "outputs": [],
   "source": [
    "city = city_generator()"
   ]
  },
  {
   "cell_type": "code",
   "execution_count": 16,
   "metadata": {},
   "outputs": [
    {
     "name": "stdout",
     "output_type": "stream",
     "text": [
      "Hamburg\n"
     ]
    }
   ],
   "source": [
    "print(next(city))"
   ]
  },
  {
   "cell_type": "code",
   "execution_count": 17,
   "metadata": {},
   "outputs": [
    {
     "name": "stdout",
     "output_type": "stream",
     "text": [
      "Konstanz\n"
     ]
    }
   ],
   "source": [
    "print(next(city))"
   ]
  },
  {
   "cell_type": "code",
   "execution_count": 18,
   "metadata": {},
   "outputs": [
    {
     "name": "stdout",
     "output_type": "stream",
     "text": [
      "Berlin\n"
     ]
    }
   ],
   "source": [
    "print(next(city))"
   ]
  },
  {
   "cell_type": "code",
   "execution_count": 19,
   "metadata": {},
   "outputs": [
    {
     "name": "stdout",
     "output_type": "stream",
     "text": [
      "Zurich\n"
     ]
    }
   ],
   "source": [
    "print(next(city))"
   ]
  },
  {
   "cell_type": "code",
   "execution_count": 20,
   "metadata": {},
   "outputs": [
    {
     "name": "stdout",
     "output_type": "stream",
     "text": [
      "Schaffhausen\n"
     ]
    }
   ],
   "source": [
    "print(next(city))"
   ]
  },
  {
   "cell_type": "code",
   "execution_count": 21,
   "metadata": {},
   "outputs": [
    {
     "name": "stdout",
     "output_type": "stream",
     "text": [
      "Stuttgart\n"
     ]
    }
   ],
   "source": [
    "print(next(city))"
   ]
  },
  {
   "cell_type": "code",
   "execution_count": 22,
   "metadata": {},
   "outputs": [
    {
     "ename": "StopIteration",
     "evalue": "",
     "output_type": "error",
     "traceback": [
      "\u001b[0;31m---------------------------------------------------------------------------\u001b[0m",
      "\u001b[0;31mStopIteration\u001b[0m                             Traceback (most recent call last)",
      "\u001b[0;32m<ipython-input-22-02870f953c83>\u001b[0m in \u001b[0;36m<module>\u001b[0;34m\u001b[0m\n\u001b[0;32m----> 1\u001b[0;31m \u001b[0mprint\u001b[0m\u001b[0;34m(\u001b[0m\u001b[0mnext\u001b[0m\u001b[0;34m(\u001b[0m\u001b[0mcity\u001b[0m\u001b[0;34m)\u001b[0m\u001b[0;34m)\u001b[0m\u001b[0;34m\u001b[0m\u001b[0;34m\u001b[0m\u001b[0m\n\u001b[0m",
      "\u001b[0;31mStopIteration\u001b[0m: "
     ]
    }
   ],
   "source": [
    "print(next(city))"
   ]
  },
  {
   "cell_type": "markdown",
   "metadata": {},
   "source": [
    "As we can see, we have generated an iterator `city` in the interactive shell. Every call of the method `next(city)` returns another city. After the last city, i.e. Stuttgart, has been created, another call of `next(city)` raises an exception, saying that the iteration has stopped, i.e. `StopIteration`.\n",
    "\"Can we send a reset to an iterator?\" is a frequently asked question, so that it can start the iteration all over again. There is no reset, but it's possible to create another generator. This can be done e.g. by using the statement \"city = city_generator()\" again.\n",
    "Though at the first sight the yield statement looks like the return statement of a function, we can see in this example that there is a huge difference. If we had a return statement instead of a yield in the previous example, it would be a function. But this function would always **return** the first city \"Hamburg\" and never any of the other cities, i.e. \"Konstanz\", \"Berlin\", \"Zurich\", \"Schaffhausen\", and \"Stuttgart\"\n",
    "\n",
    "### Method of Operation\n",
    "\n",
    "As we have elaborated in the introduction of this chapter, the generators offer a comfortable method to generate iterators, and that's why they are called generators.\n",
    "\n",
    "Method of working:\n",
    "\n",
    "- A generator is called like a function. Its return value is an iterator, i.e. a generator object. The code of the generator will not be executed at this stage.\n",
    "- The iterator can be used by calling the next method. The first time the execution starts like a function, i.e. the first line of code within the body of the iterator. The code is executed until a yield statement is reached.\n",
    "- **yield** returns the value of the expression, which is following the keyword yield. This is like a function, but Python keeps track of the position of this yield and the state of the local variables is stored for the next call. At the next call, the execution continues with the statement following the yield statement and the variables have the same values as they had in the previous call.\n",
    "- The iterator is finished, if the generator body is completely worked through or if the program flow encounters a return statement without a value. \n",
    "\n",
    "We will illustrate this behaviour in the following example. The generator count creates an iterator which creates a sequence of values by counting from the start value 'firstval' and using 'step' as the increment for counting:"
   ]
  },
  {
   "cell_type": "code",
   "execution_count": 23,
   "metadata": {},
   "outputs": [
    {
     "name": "stdout",
     "output_type": "stream",
     "text": [
      "0, 1, 2, 3, 4, 5, 6, 7, 8, 9, \n",
      "New counter:\n",
      "2.10, 2.40, 2.70, 3.00, 3.30, 3.60, 3.90, 4.20, 4.50, 4.80, "
     ]
    }
   ],
   "source": [
    "def count(firstval=0, step=1):\n",
    "    x = firstval\n",
    "    while True:\n",
    "        yield x\n",
    "        x += step\n",
    "        \n",
    "counter = count() # count will start with 0\n",
    "for i in range(10):\n",
    "    print(next(counter), end=\", \")\n",
    "\n",
    "start_value = 2.1\n",
    "stop_value = 0.3\n",
    "print(\"\\nNew counter:\")\n",
    "counter = count(start_value, stop_value)\n",
    "for i in range(10):\n",
    "    new_value = next(counter)\n",
    "    print(f\"{new_value:2.2f}\", end=\", \")\n",
    " "
   ]
  },
  {
   "cell_type": "markdown",
   "metadata": {},
   "source": [
    "**Fibonacci as a Generator**:\n",
    "\n",
    "The Fibonacci sequence is named after Leonardo of Pisa, who was known as Fibonacci (a contraction of filius Bonacci, \"son of Bonaccio\"). In his textbook Liber Abaci, which appeared in the year 1202) he had an exercise about the rabbits and their breeding: It starts with a newly-born pair of rabbits, i.e. a male and a female. It takes one month until they can mate. At the end of the second month the female gives birth to a new pair of rabbits. Now let's suppose that every female rabbit will bring forth another pair of rabbits every month after the end of the first month. We have to mention that Fibonacci's rabbits never die. They question is how large the population will be after a certain period of time.\n",
    "\n",
    "This produces a sequence of numbers: 0, 1, 1, 2, 3, 5, 8, 13\n",
    "\n",
    "This sequence can be defined in mathematical terms like this:\n",
    "\n",
    "$F_n = F_{n - 1} + F_{n - 2}$\n",
    "with the seed values:\n",
    "$F_0 = 0$ and $F_1 = 1$"
   ]
  },
  {
   "cell_type": "code",
   "execution_count": 24,
   "metadata": {},
   "outputs": [
    {
     "name": "stdout",
     "output_type": "stream",
     "text": [
      "0  1  1  2  3  5  \n"
     ]
    }
   ],
   "source": [
    "def fibonacci(n):\n",
    "    \"\"\" A generator for creating the Fibonacci numbers \"\"\"\n",
    "    a, b, counter = 0, 1, 0\n",
    "    while True:\n",
    "        if (counter > n): \n",
    "            return\n",
    "        yield a\n",
    "        a, b = b, a + b\n",
    "        counter += 1\n",
    "f = fibonacci(5)\n",
    "for x in f:\n",
    "    print(x, \" \", end=\"\") # \n",
    "print()"
   ]
  },
  {
   "cell_type": "markdown",
   "metadata": {},
   "source": [
    "The generator above can be used to create the first n Fibonacci numbers separated by blanks, or better (n+1) numbers because the 0th number is also included.\n",
    "In the next example we present a version which is capable of returning an endless iterator. We have to take care when we use this iterator that a termination criterion is used:"
   ]
  },
  {
   "cell_type": "code",
   "execution_count": 25,
   "metadata": {},
   "outputs": [
    {
     "name": "stdout",
     "output_type": "stream",
     "text": [
      "0  1  1  2  3  5  8  13  21  34  55  \n"
     ]
    }
   ],
   "source": [
    "def fibonacci():\n",
    "    \"\"\"Generates an infinite sequence of Fibonacci numbers on demand\"\"\"\n",
    "    a, b = 0, 1\n",
    "    while True:\n",
    "        yield a\n",
    "        a, b = b, a + b\n",
    "\n",
    "f = fibonacci()\n",
    "\n",
    "counter = 0\n",
    "for x in f:\n",
    "    print(x, \" \", end=\"\")\n",
    "    counter += 1\n",
    "    if (counter > 10): \n",
    "        break \n",
    "print()"
   ]
  },
  {
   "cell_type": "markdown",
   "metadata": {},
   "source": [
    "### Using a 'return' in a Generator\n",
    "Since Python 3.3, generators can also use return statements, but a generator still needs at least one yield statement to be a generator! A return statement inside of a generator is equivalent to raise StopIteration()\n",
    "\n",
    "Let's have a look at a generator in which we raise StopIteration:"
   ]
  },
  {
   "cell_type": "code",
   "execution_count": 26,
   "metadata": {},
   "outputs": [],
   "source": [
    "def gen():\n",
    "    yield 1\n",
    "    raise StopIteration(42)\n",
    "    yield 2"
   ]
  },
  {
   "cell_type": "code",
   "execution_count": 27,
   "metadata": {},
   "outputs": [],
   "source": [
    "g = gen()"
   ]
  },
  {
   "cell_type": "code",
   "execution_count": 28,
   "metadata": {},
   "outputs": [
    {
     "data": {
      "text/plain": [
       "1"
      ]
     },
     "execution_count": 28,
     "metadata": {},
     "output_type": "execute_result"
    }
   ],
   "source": [
    "next(g)"
   ]
  },
  {
   "cell_type": "code",
   "execution_count": 29,
   "metadata": {},
   "outputs": [
    {
     "ename": "RuntimeError",
     "evalue": "generator raised StopIteration",
     "output_type": "error",
     "traceback": [
      "\u001b[0;31m---------------------------------------------------------------------------\u001b[0m",
      "\u001b[0;31mStopIteration\u001b[0m                             Traceback (most recent call last)",
      "\u001b[0;32m<ipython-input-26-6735830131e8>\u001b[0m in \u001b[0;36mgen\u001b[0;34m()\u001b[0m\n\u001b[1;32m      2\u001b[0m     \u001b[0;32myield\u001b[0m \u001b[0;36m1\u001b[0m\u001b[0;34m\u001b[0m\u001b[0;34m\u001b[0m\u001b[0m\n\u001b[0;32m----> 3\u001b[0;31m     \u001b[0;32mraise\u001b[0m \u001b[0mStopIteration\u001b[0m\u001b[0;34m(\u001b[0m\u001b[0;36m42\u001b[0m\u001b[0;34m)\u001b[0m\u001b[0;34m\u001b[0m\u001b[0;34m\u001b[0m\u001b[0m\n\u001b[0m\u001b[1;32m      4\u001b[0m     \u001b[0;32myield\u001b[0m \u001b[0;36m2\u001b[0m\u001b[0;34m\u001b[0m\u001b[0;34m\u001b[0m\u001b[0m\n",
      "\u001b[0;31mStopIteration\u001b[0m: 42",
      "\nThe above exception was the direct cause of the following exception:\n",
      "\u001b[0;31mRuntimeError\u001b[0m                              Traceback (most recent call last)",
      "\u001b[0;32m<ipython-input-29-e734f8aca5ac>\u001b[0m in \u001b[0;36m<module>\u001b[0;34m\u001b[0m\n\u001b[0;32m----> 1\u001b[0;31m \u001b[0mnext\u001b[0m\u001b[0;34m(\u001b[0m\u001b[0mg\u001b[0m\u001b[0;34m)\u001b[0m\u001b[0;34m\u001b[0m\u001b[0;34m\u001b[0m\u001b[0m\n\u001b[0m",
      "\u001b[0;31mRuntimeError\u001b[0m: generator raised StopIteration"
     ]
    }
   ],
   "source": [
    "next(g)"
   ]
  },
  {
   "cell_type": "markdown",
   "metadata": {},
   "source": [
    "We demonstrate now that `return` is \"nearly\" equivalent to raising the 'StopIteration' exception."
   ]
  },
  {
   "cell_type": "code",
   "execution_count": 30,
   "metadata": {},
   "outputs": [],
   "source": [
    "def gen():\n",
    "    yield 1\n",
    "    return 42\n",
    "    yield 2"
   ]
  },
  {
   "cell_type": "code",
   "execution_count": 31,
   "metadata": {},
   "outputs": [
    {
     "data": {
      "text/plain": [
       "1"
      ]
     },
     "execution_count": 31,
     "metadata": {},
     "output_type": "execute_result"
    }
   ],
   "source": [
    "g = gen()\n",
    "next(g)"
   ]
  },
  {
   "cell_type": "code",
   "execution_count": 32,
   "metadata": {},
   "outputs": [
    {
     "ename": "StopIteration",
     "evalue": "42",
     "output_type": "error",
     "traceback": [
      "\u001b[0;31m---------------------------------------------------------------------------\u001b[0m",
      "\u001b[0;31mStopIteration\u001b[0m                             Traceback (most recent call last)",
      "\u001b[0;32m<ipython-input-32-e734f8aca5ac>\u001b[0m in \u001b[0;36m<module>\u001b[0;34m\u001b[0m\n\u001b[0;32m----> 1\u001b[0;31m \u001b[0mnext\u001b[0m\u001b[0;34m(\u001b[0m\u001b[0mg\u001b[0m\u001b[0;34m)\u001b[0m\u001b[0;34m\u001b[0m\u001b[0;34m\u001b[0m\u001b[0m\n\u001b[0m",
      "\u001b[0;31mStopIteration\u001b[0m: 42"
     ]
    }
   ],
   "source": [
    "next(g)"
   ]
  },
  {
   "cell_type": "markdown",
   "metadata": {},
   "source": [
    "### send Method /Coroutines\n",
    "\n",
    "Generators can not only send objects but also receive objects. Sending a message, i.e. an object, into the generator can be achieved by applying the send method to the generator object. Be aware of the fact that send both sends a value to the generator and returns the value yielded by the generator. We will demonstrate this behavior in the following simple example of a coroutine:"
   ]
  },
  {
   "cell_type": "code",
   "execution_count": 33,
   "metadata": {},
   "outputs": [
    {
     "data": {
      "text/plain": [
       "<generator object simple_coroutine at 0x7fa2a8049ac0>"
      ]
     },
     "execution_count": 33,
     "metadata": {},
     "output_type": "execute_result"
    }
   ],
   "source": [
    "def simple_coroutine():\n",
    "    print(\"coroutine has been started!\")\n",
    "    while True:\n",
    "        x = yield \"foo\"\n",
    "        print(\"coroutine received: \", x)\n",
    "     \n",
    " \n",
    "cr = simple_coroutine()\n",
    "cr"
   ]
  },
  {
   "cell_type": "code",
   "execution_count": 34,
   "metadata": {},
   "outputs": [
    {
     "name": "stdout",
     "output_type": "stream",
     "text": [
      "coroutine has been started!\n"
     ]
    },
    {
     "data": {
      "text/plain": [
       "'foo'"
      ]
     },
     "execution_count": 34,
     "metadata": {},
     "output_type": "execute_result"
    }
   ],
   "source": [
    "next(cr)"
   ]
  },
  {
   "cell_type": "code",
   "execution_count": 35,
   "metadata": {},
   "outputs": [
    {
     "name": "stdout",
     "output_type": "stream",
     "text": [
      "coroutine received:  Hi\n",
      "'send' returned:  foo\n"
     ]
    }
   ],
   "source": [
    "ret_value = cr.send(\"Hi\")\n",
    "print(\"'send' returned: \", ret_value)"
   ]
  },
  {
   "cell_type": "markdown",
   "metadata": {},
   "source": [
    "We had to call next on the generator first, because the generator needed to be started. Using send to a generator which hasn't been started leads to an exception.\n"
   ]
  },
  {
   "cell_type": "markdown",
   "metadata": {},
   "source": [
    "To use the send method, the generator must wait for a yield statement so that the data sent can be processed or assigned to the variable on the left. What we haven't said so far: A next call also sends and receives. It always sends a None object. The values sent by \"next\" and \"send\" are assigned to a variable within the generator: this variable is called ```new_counter_val``` in the following example.\n",
    "\n",
    "The following example modifies the generator 'count' from the previous subchapter by adding a ```send``` feature.\n"
   ]
  },
  {
   "cell_type": "code",
   "execution_count": null,
   "metadata": {},
   "outputs": [],
   "source": [
    "def count(firstval=0, step=1):\n",
    "    counter = firstval\n",
    "    while True:\n",
    "        new_counter_val = yield counter\n",
    "        if new_counter_val is None:\n",
    "            counter += step\n",
    "        else:\n",
    "            counter = new_counter_val\n",
    "            \n",
    "start_value = 2.1\n",
    "stop_value = 0.3\n",
    "counter = count(start_value, stop_value) \n",
    "for i in range(10):\n",
    "    new_value = next(counter)\n",
    "    print(f\"{new_value:2.2f}\", end=\", \")\n",
    " \n",
    "print(\"set current count value to another value:\")\n",
    "counter.send(100.5)\n",
    "for i in range(10):\n",
    "    new_value = next(counter)\n",
    "    print(f\"{new_value:2.2f}\", end=\", \")"
   ]
  },
  {
   "cell_type": "markdown",
   "metadata": {},
   "source": [
    "#### Another Example for send"
   ]
  },
  {
   "cell_type": "code",
   "execution_count": 11,
   "metadata": {},
   "outputs": [],
   "source": [
    "from random import choice\n",
    "\n",
    "def song_generator(song_list):\n",
    "    new_song = None\n",
    "    while True:\n",
    "        if new_song != None:\n",
    "            if new_song not in song_list:\n",
    "                song_list.append(new_song)\n",
    "            new_song = yield new_song\n",
    "        else:\n",
    "            new_song = yield(choice(song_list))           \n",
    "\n",
    "songs = [\"Her Şeyi Yak - Sezen Aksu\", \n",
    "         \"Bluesette - Toots Thielemans\",\n",
    "         \"Six Marimbas - Steve Reich\",\n",
    "         \"Riverside - Agnes Obel\",\n",
    "         \"Not for Radio - Nas\",\n",
    "         \"What's going on - Taste\",\n",
    "         \"On Stream - Nils Petter Molvær\",\n",
    "         \"La' Inta Habibi - Fayrouz\",\n",
    "         \"Ik Leef Niet Meer Voor Jou - Marco Borsato\",\n",
    "         \"Δέκα λεπτά - Αθηνά Ανδρεάδη\"]"
   ]
  },
  {
   "cell_type": "code",
   "execution_count": 12,
   "metadata": {},
   "outputs": [],
   "source": [
    "radio_program = song_generator(songs)"
   ]
  },
  {
   "cell_type": "code",
   "execution_count": 13,
   "metadata": {},
   "outputs": [
    {
     "data": {
      "text/plain": [
       "'Riverside - Agnes Obel'"
      ]
     },
     "execution_count": 13,
     "metadata": {},
     "output_type": "execute_result"
    }
   ],
   "source": [
    "next(radio_program)"
   ]
  },
  {
   "cell_type": "code",
   "execution_count": 14,
   "metadata": {},
   "outputs": [
    {
     "name": "stdout",
     "output_type": "stream",
     "text": [
      "Bluesette - Toots Thielemans\n",
      "Six Marimbas - Steve Reich\n",
      "Six Marimbas - Steve Reich\n"
     ]
    }
   ],
   "source": [
    "for i in range(3):\n",
    "    print(next(radio_program))"
   ]
  },
  {
   "cell_type": "code",
   "execution_count": 15,
   "metadata": {},
   "outputs": [
    {
     "data": {
      "text/plain": [
       "'Distorted Angels - Archive'"
      ]
     },
     "execution_count": 15,
     "metadata": {},
     "output_type": "execute_result"
    }
   ],
   "source": [
    "radio_program.send(\"Distorted Angels - Archive\")"
   ]
  },
  {
   "cell_type": "code",
   "execution_count": 16,
   "metadata": {},
   "outputs": [
    {
     "data": {
      "text/plain": [
       "['Her Şeyi Yak - Sezen Aksu',\n",
       " 'Bluesette - Toots Thielemans',\n",
       " 'Six Marimbas - Steve Reich',\n",
       " 'Riverside - Agnes Obel',\n",
       " 'Not for Radio - Nas',\n",
       " \"What's going on - Taste\",\n",
       " 'On Stream - Nils Petter Molvær',\n",
       " \"La' Inta Habibi - Fayrouz\",\n",
       " 'Ik Leef Niet Meer Voor Jou - Marco Borsato',\n",
       " 'Δέκα λεπτά - Αθηνά Ανδρεάδη',\n",
       " 'Distorted Angels - Archive']"
      ]
     },
     "execution_count": 16,
     "metadata": {},
     "output_type": "execute_result"
    }
   ],
   "source": [
    "songs"
   ]
  },
  {
   "cell_type": "markdown",
   "metadata": {},
   "source": [
    "So far, we could change the behavior of the song interator by sending a new song, i.e. a title plus the performer. We will extend the generator now. We make it possible to send a new song list. We have to send a tuple to the new iterator, either a tuple:\n",
    "\n",
    "(<song title>, <performer>) or\n",
    "    \n",
    "(\"-songlist-\", <new song list>)\n"
   ]
  },
  {
   "cell_type": "code",
   "execution_count": 11,
   "metadata": {},
   "outputs": [],
   "source": [
    "from random import choice\n",
    "def song_generator(song_list):\n",
    "    new_song = None\n",
    "    while True:\n",
    "        if new_song != None:\n",
    "            if new_song[0] == \"-songlist-\":\n",
    "                song_list = new_song[1]\n",
    "                new_song = yield(choice(song_list)) \n",
    "            else:\n",
    "                title, performer = new_song\n",
    "                new_song = title + \" - \" + performer\n",
    "                if new_song not in song_list:\n",
    "                    song_list.append(new_song)\n",
    "                new_song = yield new_song\n",
    "        else:\n",
    "            new_song = yield(choice(song_list))   "
   ]
  },
  {
   "cell_type": "code",
   "execution_count": 17,
   "metadata": {},
   "outputs": [],
   "source": [
    "songs1 = [\"Après un Rêve - Gabriel Fauré\"\n",
    "         \"On Stream - Nils Petter Molvær\",\n",
    "         \"Der Wanderer Michael - Michael Wollny\",\n",
    "         \"Les barricades mystérieuses - Barbara Thompson\",\n",
    "         \"Monday - Ludovico Einaudi\"]\n",
    "\n",
    "songs2 = [\"Dünyadan Uszak - Pinhani\", \n",
    "          \"Again - Archive\",\n",
    "          \"If I had a Hear - Fever Ray\"\n",
    "          \"Every you, every me - Placebo\",\n",
    "          \"Familiar - Angnes Obel\"]"
   ]
  },
  {
   "cell_type": "code",
   "execution_count": 18,
   "metadata": {},
   "outputs": [],
   "source": [
    "radio_prog = song_generator(songs1)"
   ]
  },
  {
   "cell_type": "code",
   "execution_count": 19,
   "metadata": {},
   "outputs": [
    {
     "name": "stdout",
     "output_type": "stream",
     "text": [
      "Les barricades mystérieuses - Barbara Thompson\n",
      "Après un Rêve - Gabriel FauréOn Stream - Nils Petter Molvær\n",
      "Les barricades mystérieuses - Barbara Thompson\n",
      "Les barricades mystérieuses - Barbara Thompson\n",
      "Après un Rêve - Gabriel FauréOn Stream - Nils Petter Molvær\n"
     ]
    }
   ],
   "source": [
    "for i in range(5):\n",
    "    print(next(radio_prog))"
   ]
  },
  {
   "cell_type": "markdown",
   "metadata": {},
   "source": [
    "We change the radio program now by exchanging the song list:"
   ]
  },
  {
   "cell_type": "code",
   "execution_count": 20,
   "metadata": {},
   "outputs": [
    {
     "data": {
      "text/plain": [
       "'Familiar - Angnes Obel'"
      ]
     },
     "execution_count": 20,
     "metadata": {},
     "output_type": "execute_result"
    }
   ],
   "source": [
    "radio_prog.send((\"-songlist-\", songs2))"
   ]
  },
  {
   "cell_type": "code",
   "execution_count": 21,
   "metadata": {},
   "outputs": [
    {
     "name": "stdout",
     "output_type": "stream",
     "text": [
      "Again - Archive\n",
      "If I had a Hear - Fever RayEvery you, every me - Placebo\n",
      "Dünyadan Uszak - Pinhani\n",
      "Dünyadan Uszak - Pinhani\n",
      "If I had a Hear - Fever RayEvery you, every me - Placebo\n"
     ]
    }
   ],
   "source": [
    "for i in range(5):\n",
    "    print(next(radio_prog))"
   ]
  },
  {
   "cell_type": "markdown",
   "metadata": {},
   "source": [
    "### The throw Method\n",
    "The throw() method raises an exception at the point where the generator was paused, and returns the next value yielded by the generator. It raises StopIteration if the generator exits without yielding another value. The generator has to catch the passed-in exception, otherwise the exception will be propagated to the caller. \n",
    "\n",
    "The infinite loop of our `count` generator from our previous example keeps yielding the elements of the sequential data, but we don't have any information about the index or the state of the variables of \"counter\". We can get this information, i.e. the state of the variables in `count` by throwing an exception with the `throw` method. We catch this exception inside of the generator and print the state of the values of \"count\":"
   ]
  },
  {
   "cell_type": "code",
   "execution_count": 37,
   "metadata": {},
   "outputs": [],
   "source": [
    "def count(firstval=0, step=1):\n",
    "    counter = firstval\n",
    "    while True:\n",
    "        try:\n",
    "            new_counter_val = yield counter\n",
    "            if new_counter_val is None:\n",
    "                counter += step\n",
    "            else:\n",
    "                counter = new_counter_val\n",
    "        except Exception:\n",
    "            yield (firstval, step, counter)"
   ]
  },
  {
   "cell_type": "markdown",
   "metadata": {},
   "source": [
    "In the following code block, we will show how to use this generator:"
   ]
  },
  {
   "cell_type": "code",
   "execution_count": 38,
   "metadata": {},
   "outputs": [
    {
     "name": "stdout",
     "output_type": "stream",
     "text": [
      "0\n",
      "1\n",
      "2\n",
      "3\n",
      "4\n",
      "5\n",
      "Let us see what the state of the iterator is:\n",
      "(0, 1, 5)\n",
      "now, we can continue:\n",
      "5\n",
      "6\n",
      "7\n"
     ]
    }
   ],
   "source": [
    "c = count()\n",
    "for i in range(6):\n",
    "    print(next(c))\n",
    "print(\"Let us see what the state of the iterator is:\")\n",
    "state_of_count = c.throw(Exception)\n",
    "print(state_of_count)\n",
    "print(\"now, we can continue:\")\n",
    "for i in range(3):\n",
    "    print(next(c))"
   ]
  },
  {
   "cell_type": "markdown",
   "metadata": {},
   "source": [
    "We can improve the previous example by defining our own exception class StateOfGenerator:"
   ]
  },
  {
   "cell_type": "code",
   "execution_count": 39,
   "metadata": {},
   "outputs": [],
   "source": [
    "class StateOfGenerator(Exception):\n",
    "     def __init__(self, message=None):\n",
    "         self.message = message\n",
    "\n",
    "def count(firstval=0, step=1):\n",
    "    counter = firstval\n",
    "    while True:\n",
    "        try:\n",
    "            new_counter_val = yield counter\n",
    "            if new_counter_val is None:\n",
    "                counter += step\n",
    "            else:\n",
    "                counter = new_counter_val\n",
    "        except StateOfGenerator:\n",
    "            yield (firstval, step, counter)"
   ]
  },
  {
   "cell_type": "markdown",
   "metadata": {},
   "source": [
    "We can use the previous generator like this:"
   ]
  },
  {
   "cell_type": "code",
   "execution_count": 40,
   "metadata": {},
   "outputs": [
    {
     "name": "stdout",
     "output_type": "stream",
     "text": [
      "0\n",
      "1\n",
      "2\n",
      "Let us see what the state of the iterator is:\n",
      "(0, 1, 2)\n",
      "now, we can continue:\n",
      "2\n",
      "3\n",
      "4\n"
     ]
    }
   ],
   "source": [
    "c = count()\n",
    "for i in range(3):\n",
    "    print(next(c))\n",
    "print(\"Let us see what the state of the iterator is:\")\n",
    "i = c.throw(StateOfGenerator)\n",
    "print(i)\n",
    "print(\"now, we can continue:\")\n",
    "for i in range(3):\n",
    "    print(next(c))"
   ]
  },
  {
   "cell_type": "markdown",
   "metadata": {},
   "source": [
    "\n",
    "\n",
    "### yield from\n",
    "\"yield from\" is available since Python 3.3!\n",
    "The `yield from <expr>` statement can be used inside the body of a generator. `<expr>` has to be an expression evaluating to an iterable, from which an iterator will be extracted.\n",
    "The iterator is run to exhaustion, i.e. until it encounters a `StopIteration` exception. This iterator yields and receives values to or from the caller of the generator, i.e. the one which contains the yield from statement.\n",
    "\n",
    "We can learn from the following example by looking at the two generators 'gen1' and 'gen2' that the `yield from` from `gen2`  are substituting the for loops of 'gen1':"
   ]
  },
  {
   "cell_type": "code",
   "execution_count": 41,
   "metadata": {},
   "outputs": [
    {
     "name": "stdout",
     "output_type": "stream",
     "text": [
      "g1: , P, y, t, h, o, n, 0, 1, 2, 3, 4, \n",
      "g2: , P, y, t, h, o, n, 0, 1, 2, 3, 4, \n"
     ]
    }
   ],
   "source": [
    "def gen1():\n",
    "    for char in \"Python\":\n",
    "        yield char\n",
    "    for i in range(5):\n",
    "        yield i\n",
    "\n",
    "def gen2():\n",
    "    yield from \"Python\"\n",
    "    yield from range(5)\n",
    "\n",
    "g1 = gen1()\n",
    "g2 = gen2()\n",
    "print(\"g1: \", end=\", \")\n",
    "for x in g1:\n",
    "    print(x, end=\", \")\n",
    "print(\"\\ng2: \", end=\", \")\n",
    "for x in g2:\n",
    "    print(x, end=\", \")\n",
    "print()"
   ]
  },
  {
   "cell_type": "markdown",
   "metadata": {},
   "source": [
    "We can see from the output that both generators are the same. \n",
    "\n",
    "The benefit of a yield from statement can be seen as a way to split a generator into multiple generators. That's what we have done in our previous example and we will demonstrate this more explicitely in the following example:"
   ]
  },
  {
   "cell_type": "code",
   "execution_count": 42,
   "metadata": {},
   "outputs": [
    {
     "name": "stdout",
     "output_type": "stream",
     "text": [
      "True\n"
     ]
    }
   ],
   "source": [
    "def cities():\n",
    "    for city in [\"Berlin\", \"Hamburg\", \"Munich\", \"Freiburg\"]:\n",
    "        yield city\n",
    "\n",
    "def squares():\n",
    "    for number in range(10):\n",
    "        yield number ** 2\n",
    "        \n",
    "def generator_all_in_one():\n",
    "    for city in cities():\n",
    "        yield city\n",
    "    for number in squares():\n",
    "        yield number\n",
    "        \n",
    "def generator_splitted():\n",
    "    yield from cities()\n",
    "    yield from squares()\n",
    "    \n",
    "lst1 = [el for el in generator_all_in_one()]\n",
    "lst2 = [el for el in generator_splitted()]\n",
    "print(lst1 == lst2)"
   ]
  },
  {
   "cell_type": "markdown",
   "metadata": {},
   "source": [
    "The previous code returns True because the generators `generator_all_in_one` and `generator_splitted yield` the same elements. This means that if the `<expr>`  from the `yield from` is another generator, the effect is the same as if the body of the sub‐generator were inlined at the point of the `yield from` statement. Furthermore, the subgenerator is allowed to execute a `return` statement with a value, and that value becomes the value of the `yield from` expression. We demonstrate this with the following little script:"
   ]
  },
  {
   "cell_type": "code",
   "execution_count": 43,
   "metadata": {},
   "outputs": [
    {
     "name": "stdout",
     "output_type": "stream",
     "text": [
      "1\n",
      "42\n"
     ]
    }
   ],
   "source": [
    "def subgenerator():\n",
    "    yield 1\n",
    "    return 42\n",
    "\n",
    "def delegating_generator():\n",
    "    x = yield from subgenerator()\n",
    "    print(x)\n",
    "\n",
    "for x in delegating_generator():\n",
    "    print(x)"
   ]
  },
  {
   "cell_type": "markdown",
   "metadata": {},
   "source": [
    "The full semantics of the yield from expression is described in six points in \"PEP 380 -- Syntax for Delegating to a Subgenerator\" in terms of the generator protocol:\n",
    "\n",
    "   - Any values that the iterator yields are passed directly to the caller.\n",
    "   - Any values sent to the delegating generator using send() are passed directly to the iterator. If the sent value is None, the iterator's __next__() method is called. If the sent value is not None, the iterator's send() method is called. If the call raises StopIteration, the delegating generator is resumed. Any other exception is propagated to the delegating generator.\n",
    "   - Exceptions other than GeneratorExit thrown into the delegating generator are passed to the throw() method of the iterator. If the call raises StopIteration, the delegating generator is resumed. Any other exception is propagated to the delegating generator.\n",
    "   - If a GeneratorExit exception is thrown into the delegating generator, or the close() method of the delegating generator is called, then the close() method of the iterator is called if it has one. If this call results in an exception, it is propagated to the delegating generator. Otherwise, GeneratorExit is raised in the delegating generator.\n",
    "   - The value of the yield from expression is the first argument to the StopIteration exception raised by the iterator when it terminates.\n",
    "   - return expr in a generator causes StopIteration(expr) to be raised upon exit from the generator. \n",
    "\n"
   ]
  },
  {
   "cell_type": "markdown",
   "metadata": {},
   "source": [
    "### Recursive Generators\n",
    "\n",
    "The following example is a generator to create all the permutations of a given list of items.\n",
    "\n",
    "For those who don't know what permutations are, we have a short introduction:\n",
    "\n",
    "Formal Definition:\n",
    "The term \"permutation\" stems from the latin verb \"permutare\" which means \n",
    "A permutation is a rearrangement of the elements of an ordered list. In other words: Every arrangement of n elements is called a permutation.\n",
    "\n",
    "In the following lines we show you all the permutations of the letter a, b and c:\n",
    "\n",
    "a b c\n",
    "<br>\n",
    "a c b\n",
    "<br>\n",
    "b a c\n",
    "<br>\n",
    "b c a\n",
    "<br>\n",
    "c a b\n",
    "<br>\n",
    "c b a\n",
    "<br>\n",
    "\n",
    "The number of permutations on a set of n elements is given by n!\n",
    "\n",
    "n! = n*(n-1)*(n-2) ... 2 * 1\n",
    "\n",
    "n! is called the factorial of n.\n",
    "\n",
    "The permutation generator can be called with an arbitrary list of objects. The iterator returned by this generator generates all the possible permutations:"
   ]
  },
  {
   "cell_type": "code",
   "execution_count": 44,
   "metadata": {},
   "outputs": [
    {
     "name": "stdout",
     "output_type": "stream",
     "text": [
      "red\n",
      "rde\n",
      "erd\n",
      "edr\n",
      "dre\n",
      "der\n",
      "game, gaem, gmae, gmea, geam, gema, agme, agem, amge, ameg, aegm, aemg, mgae, mgea, mage, maeg, mega, meag, egam, egma, eagm, eamg, emga, emag, "
     ]
    }
   ],
   "source": [
    "def permutations(items):\n",
    "    n = len(items)\n",
    "    if n==0: yield []\n",
    "    else:\n",
    "        for i in range(len(items)):\n",
    "            for cc in permutations(items[:i]+items[i+1:]):\n",
    "                yield [items[i]]+cc\n",
    "\n",
    "for p in permutations(['r','e','d']): print(''.join(p))\n",
    "for p in permutations(list(\"game\")): print(''.join(p) + \", \", end=\"\")"
   ]
  },
  {
   "cell_type": "markdown",
   "metadata": {},
   "source": [
    "The previous example can be hard to understand for newbies. Like always, Python offers a convenient solution. We need the module **itertools** for this purpose. Itertools is a very handy tool to create and operate on iterators.\n",
    "\n",
    "Creating permutations with itertools:"
   ]
  },
  {
   "cell_type": "code",
   "execution_count": 45,
   "metadata": {},
   "outputs": [
    {
     "data": {
      "text/plain": [
       "[('r', 'e', 'd'),\n",
       " ('r', 'd', 'e'),\n",
       " ('e', 'r', 'd'),\n",
       " ('e', 'd', 'r'),\n",
       " ('d', 'r', 'e'),\n",
       " ('d', 'e', 'r')]"
      ]
     },
     "execution_count": 45,
     "metadata": {},
     "output_type": "execute_result"
    }
   ],
   "source": [
    "import itertools\n",
    "perms = itertools.permutations(['r','e','d'])\n",
    "list(perms)"
   ]
  },
  {
   "cell_type": "markdown",
   "metadata": {},
   "source": [
    "The term \"permutations\" can sometimes be used in a weaker meaning. Permutations can denote in this weaker meaning a sequence of elements, where each element occurs just once, but without the requirement to contain all the elements of a given set. So in this sense (1,3,5,2) is a permutation of the set of digits {1,2,3,4,5,6}. We can build, for example, all the sequences of a fixed length k of elements taken from a given set of size n with k ≤ n.\n",
    "\n",
    "These are are all the 3-permutations of the set {\"a\",\"b\",\"c\",\"d\"}."
   ]
  },
  {
   "cell_type": "markdown",
   "metadata": {},
   "source": [
    "These atypical permutations are also known as sequences without repetition. By using this term we can avoid confusion with the term \"permutation\". The number of such k-permutations of n is denoted by $P_{n,k}$ and its value is calculated by the product:\n",
    "\n",
    "$n · (n - 1) · … (n - k + 1)$\n",
    "\n",
    "By using the factorial notation, the above mentioned expression can be written as:\n",
    "\n",
    "$P_{n,k} = n! / (n - k)!$\n",
    "\n",
    "A generator for the creation of k-permuations of n objects looks very similar to our previous permutations generator:\n"
   ]
  },
  {
   "cell_type": "code",
   "execution_count": 46,
   "metadata": {},
   "outputs": [
    {
     "name": "stdout",
     "output_type": "stream",
     "text": [
      "['a', 'b', 'c']\n",
      "['a', 'b', 'd']\n",
      "['a', 'c', 'b']\n",
      "['a', 'c', 'd']\n",
      "['a', 'd', 'b']\n",
      "['a', 'd', 'c']\n",
      "['b', 'a', 'c']\n",
      "['b', 'a', 'd']\n",
      "['b', 'c', 'a']\n",
      "['b', 'c', 'd']\n",
      "['b', 'd', 'a']\n",
      "['b', 'd', 'c']\n",
      "['c', 'a', 'b']\n",
      "['c', 'a', 'd']\n",
      "['c', 'b', 'a']\n",
      "['c', 'b', 'd']\n",
      "['c', 'd', 'a']\n",
      "['c', 'd', 'b']\n",
      "['d', 'a', 'b']\n",
      "['d', 'a', 'c']\n",
      "['d', 'b', 'a']\n",
      "['d', 'b', 'c']\n",
      "['d', 'c', 'a']\n",
      "['d', 'c', 'b']\n"
     ]
    }
   ],
   "source": [
    "def k_permutations(items, n):\n",
    "    if n==0: \n",
    "        yield []\n",
    "    else:\n",
    "        for item in items:\n",
    "            for kp in k_permutations(items, n-1):\n",
    "                if item not in kp:\n",
    "                    yield [item] + kp\n",
    "                    \n",
    "for kp in k_permutations(\"abcd\", 3):\n",
    "    print(kp) "
   ]
  },
  {
   "cell_type": "markdown",
   "metadata": {},
   "source": [
    "### A Generator of Generators\n",
    "\n",
    "The second generator of our Fibonacci sequence example generates an iterator, which can theoretically produce all the Fibonacci numbers, i.e. an infinite number. But you shouldn't try to produce all these numbers in a list with the following line. "
   ]
  },
  {
   "cell_type": "markdown",
   "metadata": {},
   "source": [
    "<pre> list(fibonacci())</pre>"
   ]
  },
  {
   "cell_type": "markdown",
   "metadata": {},
   "source": [
    "This will show you very fast the limits of your computer.\n",
    "In most practical applications, we only need the first `n` elements of and other \"endless\" iterators. We can use another generator, in our example `firstn`, to create the first `n` elements of a generator ```generator```:"
   ]
  },
  {
   "cell_type": "code",
   "execution_count": 47,
   "metadata": {},
   "outputs": [],
   "source": [
    "def firstn(generator, n):\n",
    "    g = generator()\n",
    "    for i in range(n):\n",
    "        yield next(g)\n"
   ]
  },
  {
   "cell_type": "markdown",
   "metadata": {},
   "source": [
    "The following script returns the first 10 elements of the Fibonacci sequence:"
   ]
  },
  {
   "cell_type": "code",
   "execution_count": 48,
   "metadata": {},
   "outputs": [
    {
     "name": "stdout",
     "output_type": "stream",
     "text": [
      "[0, 1, 1, 2, 3, 5, 8, 13, 21, 34]\n"
     ]
    }
   ],
   "source": [
    "def fibonacci():\n",
    "    \"\"\" A Fibonacci number generator \"\"\"\n",
    "    a, b = 0, 1\n",
    "    while True:\n",
    "        yield a\n",
    "        a, b = b, a + b\n",
    "\n",
    "print(list(firstn(fibonacci, 10)))   "
   ]
  },
  {
   "cell_type": "markdown",
   "metadata": {},
   "source": [
    "### Exercises\n",
    "\n",
    "#### Exercise 1\n",
    "\n",
    "Write a generator which computes the running average.\n",
    "\n",
    "\n",
    "#### Exercise 2\n",
    "\n",
    "Write a generator ```frange```, which behaves like ```range``` but accepts ```float``` values.\n",
    "\n",
    "\n",
    "#### Exercise 3\n",
    "3) Write a generator ```trange```, which generates a sequence of time tuples from start to stop incremented by step. A time tuple is a 3-tuple of integers: (hours, minutes, seconds)\n",
    "So a call to ```trange``` might look like this: \n",
    "\n",
    "```trange((10, 10, 10), (13, 50, 15), (0, 15, 12) )```\n"
   ]
  },
  {
   "cell_type": "markdown",
   "metadata": {},
   "source": [
    "#### Exercise 4\n",
    "\n",
    "Write a version \"rtrange\" of the previous generator, which can receive messages to reset the start value.\n",
    "\n",
    "#### Exercise 5\n",
    "\n",
    "Write a program, using the newly written generator \"trange\", to create a file \"times_and_temperatures.txt\". The lines of this file contain a time in the format `hh::mm::ss` and random temperatures between 10.0 and 25.0 degrees. The times should be ascending in steps of 90 seconds starting with 6:00:00.\n",
    "    For example:\n",
    "\n",
    "    06:00:00 20.1\n",
    "    06:01:30 16.1\n",
    "    06:03:00 16.9\n",
    "    06:04:30 13.4\n",
    "    06:06:00 23.7\n",
    "    06:07:30 23.6\n",
    "    06:09:00 17.5\n",
    "    06:10:30 11.0"
   ]
  },
  {
   "cell_type": "markdown",
   "metadata": {},
   "source": [
    "<img class=\"imgright\" width=200 src=\"../images/bitstream_zeroes_ones.webp\" srcset=\"../images/bitstream_zeroes_ones_800w.webp 800w,../images/bitstream_zeroes_ones_700w.webp 700w,../images/bitstream_zeroes_ones_600w.webp 600w,../images/bitstream_zeroes_ones_500w.webp 500w,../images/bitstream_zeroes_ones_400w.webp 400w,../images/bitstream_zeroes_ones_350w.webp 350w,../images/bitstream_zeroes_ones_300w.webp 300w\" alt=\"Bitstream of zeroes and ones\" />\n",
    "\n",
    "#### Exercise 6\n",
    "\n",
    "Write a generator with the name \"random_ones_and_zeroes\", which returns a bitstream, i.e. a zero or a one in every iteration. The probability p for returning a 1 is defined in a variable p. The generator will initialize this value to 0.5. In other words, zeroes and ones will be returned with the same probability.\n",
    "\n",
    "#### Exercise 7\n",
    "\n",
    "We wrote a class [`Cycle`](#CycleClass) in the beginning of this chapter of our Python tutorial. Write a generator `cycle` performing the same task.\n",
    "\n",
    "### Solutions to our Exercises\n",
    "\n",
    "#### Solution to Exercise 1"
   ]
  },
  {
   "cell_type": "code",
   "execution_count": 49,
   "metadata": {},
   "outputs": [
    {
     "name": "stdout",
     "output_type": "stream",
     "text": [
      "sent:   7, new average:   7.00\n",
      "sent:  13, new average:  10.00\n",
      "sent:  17, new average:  12.33\n",
      "sent: 231, new average:  67.00\n",
      "sent:  12, new average:  56.00\n",
      "sent:   8, new average:  48.00\n",
      "sent:   3, new average:  41.57\n"
     ]
    }
   ],
   "source": [
    "def running_average():\n",
    "    total = 0.0\n",
    "    counter = 0\n",
    "    average = None\n",
    "    while True:\n",
    "        term = yield average\n",
    "        total += term\n",
    "        counter += 1\n",
    "        average = total / counter\n",
    "\n",
    "\n",
    "ra = running_average()  # initialize the coroutine\n",
    "next(ra)                # we have to start the coroutine\n",
    "for value in [7, 13, 17, 231, 12, 8, 3]:\n",
    "    out_str = \"sent: {val:3d}, new average: {avg:6.2f}\"\n",
    "    print(out_str.format(val=value, avg=ra.send(value)))"
   ]
  },
  {
   "cell_type": "markdown",
   "metadata": {},
   "source": [
    "#### Solution to Exercise 2"
   ]
  },
  {
   "cell_type": "code",
   "execution_count": 1,
   "metadata": {},
   "outputs": [],
   "source": [
    "def frange(*args):\n",
    "    \"\"\"  dfgdg \"\"\"\n",
    "    startval = 0\n",
    "    stepsize = 1    \n",
    "    if len(args) == 1:\n",
    "        endval = args[0]\n",
    "    elif len(args) == 2:\n",
    "        startval, endval = args \n",
    "    elif len(args) == 3:\n",
    "        startval, endval, stepsize = args\n",
    "    else:\n",
    "        txt = \"range expected at most 3 arguments, got \" + len(args)\n",
    "        raise TypeError(txt)\n",
    "    \n",
    "    value = startval\n",
    "    factor = -1 if stepsize < 0 else 1\n",
    "    while (value - endval) * (factor) < 0:\n",
    "        yield value\n",
    "        value += stepsize"
   ]
  },
  {
   "cell_type": "markdown",
   "metadata": {},
   "source": [
    "Using ```frange``` may llok like this:"
   ]
  },
  {
   "cell_type": "code",
   "execution_count": 2,
   "metadata": {},
   "outputs": [
    {
     "name": "stdout",
     "output_type": "stream",
     "text": [
      "0, 1, 2, 3, 4, 5, \n",
      "0.3, 1.3, 2.3, 3.3, 4.3, 5.3, \n",
      "0.3, 1.1, 1.9000000000000001, 2.7, 3.5, 4.3, 5.1, \n"
     ]
    }
   ],
   "source": [
    "for i in frange(5.6):\n",
    "    print(i, end=\", \")\n",
    "print()\n",
    "for i in frange(0.3, 5.6):\n",
    "    print(i, end=\", \")\n",
    "print()\n",
    "for i in frange(0.3, 5.6, 0.8):\n",
    "    print(i, end=\", \")\n",
    "print()"
   ]
  },
  {
   "cell_type": "markdown",
   "metadata": {},
   "source": [
    "#### Solution to Exercise 3"
   ]
  },
  {
   "cell_type": "code",
   "execution_count": 48,
   "metadata": {},
   "outputs": [
    {
     "name": "stdout",
     "output_type": "stream",
     "text": [
      "Overwriting timerange.py\n"
     ]
    }
   ],
   "source": [
    "%%writefile timerange.py\n",
    "\n",
    "\n",
    "def trange(start, stop, step):\n",
    "    \"\"\" \n",
    "    trange(stop) -> time as a 3-tuple (hours, minutes, seconds)\n",
    "    trange(start, stop[, step]) -> time tuple\n",
    "\n",
    "    start: time tuple (hours, minutes, seconds)\n",
    "    stop: time tuple\n",
    "    step: time tuple\n",
    "\n",
    "    returns a sequence of time tuples from start to stop incremented by step\n",
    "    \"\"\"        \n",
    "\n",
    "    current = list(start)\n",
    "    while current < list(stop):\n",
    "        yield tuple(current)\n",
    "        seconds = step[2] + current[2]\n",
    "        min_borrow = 0\n",
    "        hours_borrow = 0\n",
    "        if seconds < 60:\n",
    "            current[2] = seconds\n",
    "        else:\n",
    "            current[2] = seconds - 60\n",
    "            min_borrow = 1\n",
    "        minutes = step[1] + current[1] + min_borrow\n",
    "        if minutes < 60:\n",
    "            current[1] = minutes \n",
    "        else:\n",
    "            current[1] = minutes - 60\n",
    "            hours_borrow = 1\n",
    "        hours = step[0] + current[0] + hours_borrow\n",
    "        if hours < 24:\n",
    "            current[0] = hours \n",
    "        else:\n",
    "            current[0] = hours - 24\n",
    "\n"
   ]
  },
  {
   "cell_type": "code",
   "execution_count": 49,
   "metadata": {},
   "outputs": [
    {
     "name": "stdout",
     "output_type": "stream",
     "text": [
      "(10, 10, 10)\n",
      "(11, 34, 22)\n",
      "(12, 58, 34)\n",
      "(14, 22, 46)\n",
      "(15, 46, 58)\n",
      "(17, 11, 10)\n",
      "(18, 35, 22)\n"
     ]
    }
   ],
   "source": [
    "from timerange import trange\n",
    "\n",
    "for time in trange((10, 10, 10), (19, 53, 15), (1, 24, 12) ):\n",
    "    print(time)   "
   ]
  },
  {
   "cell_type": "markdown",
   "metadata": {},
   "source": [
    "#### Solution to Exercise 4"
   ]
  },
  {
   "cell_type": "code",
   "execution_count": 50,
   "metadata": {},
   "outputs": [
    {
     "name": "stdout",
     "output_type": "stream",
     "text": [
      "Overwriting rtimerange.py\n"
     ]
    }
   ],
   "source": [
    "%%writefile rtimerange.py\n",
    "\n",
    "def rtrange(start, stop, step):\n",
    "        \"\"\" \n",
    "        trange(stop) -> time as a 3-tuple (hours, minutes, seconds)\n",
    "        trange(start, stop[, step]) -> time tuple\n",
    "\n",
    "        start: time tuple (hours, minutes, seconds)\n",
    "        stop: time tuple\n",
    "        step: time tuple\n",
    "\n",
    "        returns a sequence of time tuples from start to stop incremented by step\n",
    "        \n",
    "        The generator can be reset by sending a new \"start\" value.\n",
    "        \"\"\"        \n",
    "\n",
    "        current = list(start)\n",
    "        while current < list(stop):\n",
    "            new_start = yield tuple(current)\n",
    "            if new_start != None:\n",
    "                current = list(new_start)\n",
    "                continue\n",
    "            seconds = step[2] + current[2]\n",
    "            min_borrow = 0\n",
    "            hours_borrow = 0\n",
    "            if seconds < 60:\n",
    "                current[2] = seconds\n",
    "            else:\n",
    "                current[2] = seconds - 60\n",
    "                min_borrow = 1\n",
    "            minutes = step[1] + current[1] + min_borrow\n",
    "            if minutes < 60:\n",
    "                current[1] = minutes \n",
    "            else:\n",
    "                current[1] = minutes - 60\n",
    "                hours_borrow = 1\n",
    "            hours = step[0] + current[0] + hours_borrow\n",
    "            if hours < 24:\n",
    "                current[0] = hours \n",
    "            else:\n",
    "                current[0] = hours -24\n",
    "\n"
   ]
  },
  {
   "cell_type": "code",
   "execution_count": 51,
   "metadata": {},
   "outputs": [
    {
     "name": "stdout",
     "output_type": "stream",
     "text": [
      "(10, 10, 10)\n",
      "(11, 25, 22)\n",
      "(12, 40, 34)\n",
      "(8, 5, 50)\n",
      "(9, 21, 2)\n",
      "(10, 36, 14)\n",
      "(11, 51, 26)\n"
     ]
    }
   ],
   "source": [
    "from rtimerange import rtrange\n",
    "\n",
    "        \n",
    "ts = rtrange((10, 10, 10), (17, 50, 15), (1, 15, 12) )  \n",
    "for _ in range(3):\n",
    "    print(next(ts))\n",
    "\n",
    "print(ts.send((8, 5, 50)))\n",
    "for _ in range(3):\n",
    "    print(next(ts))"
   ]
  },
  {
   "cell_type": "markdown",
   "metadata": {},
   "source": [
    "#### Solution to Exercise 5"
   ]
  },
  {
   "cell_type": "code",
   "execution_count": 52,
   "metadata": {},
   "outputs": [],
   "source": [
    "from timerange import trange\n",
    "import random\n",
    "\n",
    "fh = open(\"times_and_temperatures.txt\", \"w\")\n",
    "\n",
    "for time in trange((6, 0, 0), (23, 0, 0), (0, 1, 30) ):\n",
    "    random_number = random.randint(100, 250) / 10\n",
    "    lst = time + (random_number,)\n",
    "    output = \"{:02d}:{:02d}:{:02d} {:4.1f}\\n\".format(*lst)\n",
    "    fh.write(output)"
   ]
  },
  {
   "cell_type": "markdown",
   "metadata": {},
   "source": [
    "You can find further details and the mathematical background about this exercise in our chapter on [Weighted Probabilities](https://www.python-course.eu/weighted_choice_and_sample.php)\n",
    "\n",
    "#### Solution to Exercise 6"
   ]
  },
  {
   "cell_type": "code",
   "execution_count": 53,
   "metadata": {},
   "outputs": [
    {
     "name": "stdout",
     "output_type": "stream",
     "text": [
      "\n",
      "We change the probability to : 0.2\n",
      "1 0 0 0 1 0 0 1 1 0 1 0 1 0 0 0 1 1 0 0 \n",
      "We change the probability to : 0.8\n",
      "0 1 1 0 1 0 1 1 0 0 1 1 1 1 1 0 1 1 1 1 \n"
     ]
    }
   ],
   "source": [
    "import random\n",
    "\n",
    "def random_ones_and_zeros():\n",
    "    p = 0.5\n",
    "    while True:\n",
    "        x = random.random()\n",
    "        message = yield 1 if x < p else 0\n",
    "        if message != None:\n",
    "            p = message\n",
    "            \n",
    "x = random_ones_and_zeros()\n",
    "next(x)  # we are not interested in the return value\n",
    "for p in [0.2, 0.8]:\n",
    "    print(\"\\nWe change the probability to : \" + str(p))\n",
    "    x.send(p)    \n",
    "    for i in range(20):\n",
    "        print(next(x), end=\" \")\n",
    "print()"
   ]
  },
  {
   "cell_type": "markdown",
   "metadata": {},
   "source": [
    "#### Solution to Exercise 7\n",
    "\n",
    "The \"cycle\" generator is part of the module 'itertools'. The following code is the implementation in itertools:"
   ]
  },
  {
   "cell_type": "code",
   "execution_count": 54,
   "metadata": {},
   "outputs": [
    {
     "name": "stdout",
     "output_type": "stream",
     "text": [
      "Germany\n",
      "Switzerland\n",
      "Austria\n",
      "Germany\n",
      "Switzerland\n",
      "Austria\n",
      "Germany\n"
     ]
    }
   ],
   "source": [
    "def cycle(iterable):\n",
    "    # cycle('ABCD') --> A B C D A B C D A B C D ...\n",
    "    saved = []\n",
    "    for element in iterable:\n",
    "        yield element\n",
    "        saved.append(element)\n",
    "    while saved:\n",
    "        for element in saved:\n",
    "              yield element\n",
    "                \n",
    "countries = [\"Germany\", \"Switzerland\", \"Austria\"]\n",
    "country_iterator = cycle(countries)\n",
    "for i in range(7):\n",
    "    print(next(country_iterator))"
   ]
  }
 ],
 "metadata": {
  "kernelspec": {
   "display_name": "Python 3",
   "language": "python",
   "name": "python3"
  },
  "language_info": {
   "codemirror_mode": {
    "name": "ipython",
    "version": 3
   },
   "file_extension": ".py",
   "mimetype": "text/x-python",
   "name": "python",
   "nbconvert_exporter": "python",
   "pygments_lexer": "ipython3",
   "version": "3.8.5"
  }
 },
 "nbformat": 4,
 "nbformat_minor": 4
}
