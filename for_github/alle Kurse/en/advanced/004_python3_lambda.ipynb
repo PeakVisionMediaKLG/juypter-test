{
 "cells": [
  {
   "cell_type": "markdown",
   "metadata": {},
   "source": [
    "## Lambda, filter, reduce and map\n",
    "\n",
    "<img class=\"imgright\" src=\"../images/lambda_cubism.webp\" alt=\"Ring als Symbol der for-Schleife\">\n",
    "\n",
    "If Guido van Rossum, the author of the programming language Python, had got his will, this chapter would have been missing in our tutorial. In his article from May 2005 [\"All Things Pythonic: The fate of reduce() in Python 3000\"](http://www.artima.com/weblogs/viewpost.jsp?thread=98196), he gives his reasons for dropping lambda, map(), filter() and reduce(). He expected resistance from the Lisp and the scheme \"folks\". What he didn't anticipate was the rigidity of this opposition. Enough that Guido van Rossum wrote hardly a year later: \"After so many attempts to come up with an alternative for lambda, perhaps we should admit defeat. I've not had the time to follow the most recent rounds, but I propose that we keep lambda, so as to stop wasting everybody's talent and time on an impossible quest.\"\n",
    "We can see the result: lambda, map() and filter() are still part of core Python. Only reduce() had to go; it moved into the module functools.\n",
    "\n",
    "His reasoning for dropping them is like this:\n",
    "\n",
    "- There is an equally powerful alternative to lambda, filter, map and reduce, i.e. list comprehension\n",
    "- [List comprehension](https://www.python-course.eu/python3_list_comprehension.php)( is more evident and easier to understand\n",
    "- Having both list comprehension and \"Filter, map, reduce and lambda\" is transgressing the Python motto \"There should be one obvious way to solve a problem\"\n",
    "\n",
    "\n",
    "\n",
    "Some like it, others hate it and many are afraid of the lambda operator. The lambda operator or lambda function is a way to create small anonymous functions, i.e. functions without a name. These functions are throw-away functions, i.e. they are just needed where they have been created. Lambda functions are mainly used in combination with the functions filter(), map() and reduce(). The lambda feature was added to Python due to the demand from Lisp programmers.\n",
    "\n",
    "The general syntax of a lambda function is quite simple:\n",
    "\n",
    "lambda argument_list: expression\n",
    "\n",
    "The argument list consists of a comma separated list of arguments and the expression is an arithmetic expression using these arguments. You can assign the function to a variable to give it a name.\n",
    "\n",
    "The following example of a lambda function returns the sum of its two arguments:\n",
    "\n",
    "\n",
    "\n"
   ]
  },
  {
   "cell_type": "code",
   "execution_count": 24,
   "metadata": {},
   "outputs": [
    {
     "data": {
      "text/plain": [
       "7"
      ]
     },
     "execution_count": 24,
     "metadata": {},
     "output_type": "execute_result"
    }
   ],
   "source": [
    "sum = lambda x, y : x + y\n",
    "sum(3,4)"
   ]
  },
  {
   "cell_type": "markdown",
   "metadata": {},
   "source": [
    "The above example might look like a plaything for a mathematician. A formalism which turns an easy to comprehend issue into an abstract harder to grasp formalism. Above all, we could have had the same effect by just using the following conventional function definition:"
   ]
  },
  {
   "cell_type": "code",
   "execution_count": 23,
   "metadata": {},
   "outputs": [
    {
     "data": {
      "text/plain": [
       "7"
      ]
     },
     "execution_count": 23,
     "metadata": {},
     "output_type": "execute_result"
    }
   ],
   "source": [
    "def sum(x,y):\n",
    "    return x + y\n",
    "\n",
    "sum(3,4)"
   ]
  },
  {
   "cell_type": "markdown",
   "metadata": {},
   "source": [
    "We can assure you that the advantages of this approach will be apparent, when you will have learnt to use the map() function.\n",
    "\n",
    "### The map() Function\n",
    "As we have mentioned earlier, the advantage of the lambda operator can be seen when it is used in combination with the map() function.\n",
    "map() is a function which takes two arguments:\n",
    "\n",
    "r = map(func, seq)\n",
    "\n",
    "\n",
    "The first argument func is the name of a function and the second a sequence (e.g. a list) seq. map() applies the function func to all the elements of the sequence seq. Before Python3, map() used to return a list, where each element of the result list was the result of the function func applied on the corresponding element of the list or tuple \"seq\". With Python 3, map() returns an iterator.\n",
    "\n",
    "The following example illustrates the way of working of map():"
   ]
  },
  {
   "cell_type": "code",
   "execution_count": 22,
   "metadata": {},
   "outputs": [
    {
     "name": "stdout",
     "output_type": "stream",
     "text": [
      "[97.7, 98.60000000000001, 99.5, 100.4, 102.2]\n",
      "[36.5, 37.00000000000001, 37.5, 38.00000000000001, 39.0]\n"
     ]
    }
   ],
   "source": [
    "def fahrenheit(T):\n",
    "    return ((float(9)/5)*T + 32)\n",
    " \n",
    "def celsius(T):\n",
    "    return (float(5)/9)*(T-32)\n",
    " \n",
    "temperatures = (36.5, 37, 37.5, 38, 39)\n",
    "F = map(fahrenheit, temperatures)\n",
    "C = map(celsius, F)\n",
    "temperatures_in_Fahrenheit = list(map(fahrenheit, temperatures))\n",
    "temperatures_in_Celsius = list(map(celsius, temperatures_in_Fahrenheit))\n",
    "print(temperatures_in_Fahrenheit)\n",
    "print(temperatures_in_Celsius)"
   ]
  },
  {
   "cell_type": "markdown",
   "metadata": {},
   "source": [
    "In the example above we haven't used lambda. By using lambda, we wouldn't have had to define and name the functions fahrenheit() and celsius(). You can see this in the following interactive session:"
   ]
  },
  {
   "cell_type": "code",
   "execution_count": 18,
   "metadata": {},
   "outputs": [
    {
     "name": "stdout",
     "output_type": "stream",
     "text": [
      "[102.56, 97.7, 99.14, 100.4, 100.03999999999999]\n"
     ]
    }
   ],
   "source": [
    "C = [39.2, 36.5, 37.3, 38, 37.8] \n",
    "F = list(map(lambda x: (float(9)/5)*x + 32, C))\n",
    "print(F)"
   ]
  },
  {
   "cell_type": "code",
   "execution_count": 19,
   "metadata": {},
   "outputs": [
    {
     "name": "stdout",
     "output_type": "stream",
     "text": [
      "[39.2, 36.5, 37.300000000000004, 38.00000000000001, 37.8]\n"
     ]
    }
   ],
   "source": [
    "C = list(map(lambda x: (float(5)/9)*(x-32), F))\n",
    "print(C)"
   ]
  },
  {
   "cell_type": "markdown",
   "metadata": {},
   "source": [
    "map() can be applied to more than one list. The lists don't have to have the same length. map() will apply its lambda function to the elements of the argument lists, i.e. it first applies to the elements with the 0th index, then to the elements with the 1st index until the n-th index is reached:"
   ]
  },
  {
   "cell_type": "code",
   "execution_count": 14,
   "metadata": {},
   "outputs": [],
   "source": [
    "a = [1, 2, 3, 4]\n",
    "b = [17, 12, 11, 10]\n",
    "c = [-1, -4, 5, 9] "
   ]
  },
  {
   "cell_type": "code",
   "execution_count": 15,
   "metadata": {},
   "outputs": [
    {
     "data": {
      "text/plain": [
       "[17, 10, 19, 23]"
      ]
     },
     "execution_count": 15,
     "metadata": {},
     "output_type": "execute_result"
    }
   ],
   "source": [
    "list(map(lambda x, y, z : x+y+z, a, b, c))"
   ]
  },
  {
   "cell_type": "code",
   "execution_count": 16,
   "metadata": {},
   "outputs": [
    {
     "data": {
      "text/plain": [
       "[18, 14, 14, 14]"
      ]
     },
     "execution_count": 16,
     "metadata": {},
     "output_type": "execute_result"
    }
   ],
   "source": [
    "list(map(lambda x, y : x+y, a, b))"
   ]
  },
  {
   "cell_type": "code",
   "execution_count": 17,
   "metadata": {},
   "outputs": [
    {
     "data": {
      "text/plain": [
       "[37.5, 33.0, 24.5, 21.0]"
      ]
     },
     "execution_count": 17,
     "metadata": {},
     "output_type": "execute_result"
    }
   ],
   "source": [
    "list(map(lambda x, y, z : 2.5*x + 2*y - z, a, b, c))"
   ]
  },
  {
   "cell_type": "markdown",
   "metadata": {},
   "source": [
    "If one list has fewer elements than the others, map will stop when the shortest list has been consumed:"
   ]
  },
  {
   "cell_type": "code",
   "execution_count": 13,
   "metadata": {},
   "outputs": [
    {
     "data": {
      "text/plain": [
       "[37.5, 33.0, 24.5]"
      ]
     },
     "execution_count": 13,
     "metadata": {},
     "output_type": "execute_result"
    }
   ],
   "source": [
    "a = [1, 2, 3]\n",
    "b = [17, 12, 11, 10]\n",
    "c = [-1, -4, 5, 9]\n",
    " \n",
    "list(map(lambda x, y, z : 2.5*x + 2*y - z, a, b, c))"
   ]
  },
  {
   "cell_type": "markdown",
   "metadata": {},
   "source": [
    "We can see in the example above that the parameter x gets its values from the list a, while y gets its values from b, and z from list c.\n",
    "\n",
    "### Mapping a List of Functions\n",
    "The map function of the previous chapter was used to apply one function to one or more iterables. We will now write a function which applies a bunch of functions, which may be an iterable such as a list or a tuple, for example, to one Python object."
   ]
  },
  {
   "cell_type": "code",
   "execution_count": 12,
   "metadata": {},
   "outputs": [
    {
     "name": "stdout",
     "output_type": "stream",
     "text": [
      "[1.2246467991473532e-16, -1.0, -1.2246467991473532e-16]\n"
     ]
    }
   ],
   "source": [
    "from math import sin, cos, tan, pi\n",
    "\n",
    "def map_functions(x, functions):\n",
    "     \"\"\" map an iterable of functions on the the object x \"\"\"\n",
    "     res = []\n",
    "     for func in functions:\n",
    "         res.append(func(x))\n",
    "     return res\n",
    "\n",
    "family_of_functions = (sin, cos, tan)\n",
    "print(map_functions(pi, family_of_functions))"
   ]
  },
  {
   "cell_type": "markdown",
   "metadata": {},
   "source": [
    "The previously defined map_functions function can be simplified with the list comprehension technique, which we will cover in the chapter [list comprehension](https://www.python-course.eu/python3_list_comprehension.php):\n",
    "\n",
    "<pre>\n",
    "def map_functions(x, functions):\n",
    "     return [ func(x) for func in functions ] </pre>"
   ]
  },
  {
   "cell_type": "markdown",
   "metadata": {},
   "source": [
    "### Filtering\n",
    "\n",
    "The function\n",
    "\n",
    "filter(function, sequence)\n",
    "\n",
    "offers an elegant way to filter out all the elements of a sequence \"sequence\", for which the function function returns True. i.e. an item will be produced by the iterator result of filter(function, sequence) if item is included in the sequence \"sequence\" and if function(item) returns True.\n",
    "\n",
    "In other words: The function filter(f,l) needs a function f as its first argument. f has to return a Boolean value, i.e. either True or False. This function will be applied to every element of the list l. Only if f returns True will the element be produced by the iterator, which is the return value of filter(function, sequence).\n",
    "\n",
    "In the following example, we filter out first the odd and then the even elements of the sequence of the first 11 Fibonacci numbers:"
   ]
  },
  {
   "cell_type": "code",
   "execution_count": 9,
   "metadata": {},
   "outputs": [
    {
     "name": "stdout",
     "output_type": "stream",
     "text": [
      "[1, 1, 3, 5, 13, 21, 55]\n"
     ]
    }
   ],
   "source": [
    "fibonacci = [0,1,1,2,3,5,8,13,21,34,55]\n",
    "odd_numbers = list(filter(lambda x: x % 2, fibonacci))\n",
    "print(odd_numbers)"
   ]
  },
  {
   "cell_type": "code",
   "execution_count": 10,
   "metadata": {},
   "outputs": [
    {
     "name": "stdout",
     "output_type": "stream",
     "text": [
      "[0, 2, 8, 34]\n"
     ]
    }
   ],
   "source": [
    "even_numbers = list(filter(lambda x: x % 2 == 0, fibonacci))\n",
    "print(even_numbers)"
   ]
  },
  {
   "cell_type": "code",
   "execution_count": 11,
   "metadata": {},
   "outputs": [
    {
     "name": "stdout",
     "output_type": "stream",
     "text": [
      "[0, 2, 8, 34]\n"
     ]
    }
   ],
   "source": [
    "even_numbers = list(filter(lambda x: x % 2 -1, fibonacci))\n",
    "print(even_numbers)"
   ]
  },
  {
   "cell_type": "markdown",
   "metadata": {},
   "source": [
    "### Reducing a List\n",
    "As we mentioned in the introduction of this chapter of our tutorial. reduce() had been dropped from the core of Python when migrating to Python 3. Guido van Rossum hates reduce(), as we can learn from his statement in a posting, March 10, 2005, in artima.com:\n",
    "\n",
    "    \"So now reduce(). This is actually the one I've always hated most, because, apart from a few examples involving + or *, almost every time I see a reduce() call with a non-trivial function argument, I need to grab pen and paper to diagram what's actually being fed into that function before I understand what the reduce() is supposed to do. So in my mind, the applicability of reduce() is pretty much limited to associative operators, and in all other cases it's better to write out the accumulation loop explicitly.\" \n",
    "\n",
    "The function\n",
    "\n",
    "reduce(func, seq)\n",
    "\n",
    "continually applies the function func() to the sequence seq. It returns a single value.\n",
    "\n",
    "If seq = [ s1, s2, s3, ... , sn ], calling reduce(func, seq) works like this:\n",
    "\n",
    "    At first the first two elements of seq will be applied to func, i.e. func(s1,s2) The list on which reduce() works looks now like this: [ func(s1, s2), s3, ... , sn ]\n",
    "    In the next step func will be applied on the previous result and the third element of the list, i.e. func(func(s1, s2),s3)\n",
    "    The list looks like this now: [ func(func(s1, s2),s3), ... , sn ]\n",
    "    Continues like this until just one element is left and returns this element as the result of reduce()\n",
    "\n",
    "\n",
    "If n is equal to 4 the previous explanation can be illustrated like this: \n",
    "\n",
    "<img class=\"img\" src=\"../images/reduce.webp\" srcset=\"../images/reduce_300w.webp 300w\"  alt=\"Reduce\" />\n",
    "\n",
    "We want to illustrate this way of working of reduce() with a simple example. We have to import functools to be capable of using reduce:"
   ]
  },
  {
   "cell_type": "code",
   "execution_count": 25,
   "metadata": {},
   "outputs": [
    {
     "data": {
      "text/plain": [
       "113"
      ]
     },
     "execution_count": 25,
     "metadata": {},
     "output_type": "execute_result"
    }
   ],
   "source": [
    "import functools\n",
    "functools.reduce(lambda x,y: x+y, [47,11,42,13])"
   ]
  },
  {
   "cell_type": "markdown",
   "metadata": {},
   "source": [
    "The following diagram shows the intermediate steps of the calculation:\n",
    "\n",
    "\n",
    "<img class=\"img\" src=\"../images/reduce_diagram.webp\" srcset=\"../images/reduce_diagram_350w.webp 350w,../images/reduce_diagram_300w.webp 300w\" width=90% alt=\"Reduce: Method of operating\"/>"
   ]
  },
  {
   "cell_type": "markdown",
   "metadata": {},
   "source": [
    "### Examples of reduce()\n",
    "Determining the maximum of a list of numerical values by using reduce:"
   ]
  },
  {
   "cell_type": "code",
   "execution_count": 3,
   "metadata": {},
   "outputs": [
    {
     "data": {
      "text/plain": [
       "102"
      ]
     },
     "execution_count": 3,
     "metadata": {},
     "output_type": "execute_result"
    }
   ],
   "source": [
    "from functools import reduce\n",
    "f = lambda a,b: a if (a > b) else b\n",
    "reduce(f, [47,11,42,102,13])"
   ]
  },
  {
   "cell_type": "markdown",
   "metadata": {},
   "source": [
    "Calculating the sum of the numbers from 1 to 100:"
   ]
  },
  {
   "cell_type": "code",
   "execution_count": 5,
   "metadata": {},
   "outputs": [
    {
     "data": {
      "text/plain": [
       "5050"
      ]
     },
     "execution_count": 5,
     "metadata": {},
     "output_type": "execute_result"
    }
   ],
   "source": [
    "from functools import reduce\n",
    "reduce(lambda x, y: x+y, range(1,101))"
   ]
  },
  {
   "cell_type": "markdown",
   "metadata": {},
   "source": [
    "It's very simple to change the previous example to calculate the product (the factorial) from 1 to a number, but do not choose 100. We just have to turn the \"+\" operator into \"*\":"
   ]
  },
  {
   "cell_type": "code",
   "execution_count": 6,
   "metadata": {},
   "outputs": [
    {
     "data": {
      "text/plain": [
       "12413915592536072670862289047373375038521486354677760000000000"
      ]
     },
     "execution_count": 6,
     "metadata": {},
     "output_type": "execute_result"
    }
   ],
   "source": [
    "reduce(lambda x, y: x*y, range(1,49))"
   ]
  },
  {
   "cell_type": "markdown",
   "metadata": {},
   "source": [
    "If you are into lottery, here are the chances to win a 6 out of 49 drawing:"
   ]
  },
  {
   "cell_type": "code",
   "execution_count": 7,
   "metadata": {},
   "outputs": [
    {
     "data": {
      "text/plain": [
       "13983816.0"
      ]
     },
     "execution_count": 7,
     "metadata": {},
     "output_type": "execute_result"
    }
   ],
   "source": [
    "reduce(lambda x, y: x*y, range(44,50))/reduce(lambda x, y: x*y, range(1,7))"
   ]
  },
  {
   "cell_type": "markdown",
   "metadata": {},
   "source": [
    "### Exercises\n",
    "\n",
    "1) Imagine an accounting routine used in a book shop. It works on a list with sublists, which look like this:\n",
    "\n",
    "    Order Number \tBook Title and Author \t           Quantity \tPrice per Item\n",
    "    34587 \t        Learning Python, Mark Lutz \t           4 \t      40.95\n",
    "    98762 \t        Programming Python, Mark Lutz \t       5 \t      56.80\n",
    "    77226 \t        Head First Python, Paul Barry \t       3 \t      32.95\n",
    "    88112 \t        Einführung in Python3, Bernd Klein \t   3 \t      24.99\n",
    "\n",
    "\n",
    "    Write a Python program, which returns a list with 2-tuples. Each tuple consists of a the order number and the product of the price per items and the quantity. The product should be increased by 10,- € if the value of the order is smaller than 100,00 €.\n",
    "    Write a Python program using lambda and map.\n",
    "\n",
    "\n",
    "2) The same bookshop, but this time we work on a different list. The sublists of our lists look like this:\n",
    "    [ordernumber, (article number, quantity, price per unit), ... (article number, quantity, price per unit) ]\n",
    "    Write a program which returns a list of two tuples with (order number, total amount of order).\n",
    "\n",
    "\n",
    "\n",
    "### Solutions to the Exercises   \n"
   ]
  },
  {
   "cell_type": "code",
   "execution_count": 1,
   "metadata": {},
   "outputs": [
    {
     "name": "stdout",
     "output_type": "stream",
     "text": [
      "[('34587', 163.8), ('98762', 284.0), ('77226', 108.85000000000001), ('88112', 84.97)]\n"
     ]
    }
   ],
   "source": [
    "orders = [ [\"34587\", \"Learning Python, Mark Lutz\", 4, 40.95], \n",
    "           [\"98762\", \"Programming Python, Mark Lutz\", 5, 56.80], \n",
    "           [\"77226\", \"Head First Python, Paul Barry\", 3,32.95],\n",
    "           [\"88112\", \"Einführung in Python3, Bernd Klein\", \t3, 24.99]]\n",
    "\n",
    "min_order = 100\n",
    "invoice_totals = list(map(lambda x: x if x[1] >= min_order else (x[0], x[1] + 10), \n",
    "                  map(lambda x: (x[0],x[2] * x[3]), orders)))\n",
    "\n",
    "print(invoice_totals)"
   ]
  },
  {
   "cell_type": "code",
   "execution_count": 2,
   "metadata": {},
   "outputs": [
    {
     "name": "stdout",
     "output_type": "stream",
     "text": [
      "[[1, 678.3299999999999], [2, 494.46000000000004], [3, 364.79999999999995], [4, 492.57]]\n"
     ]
    }
   ],
   "source": [
    "from functools import reduce\n",
    "\n",
    "orders = [ [1, (\"5464\", 4, 9.99), (\"8274\",18,12.99), (\"9744\", 9, 44.95)], \n",
    "           [2, (\"5464\", 9, 9.99), (\"9744\", 9, 44.95)],\n",
    "           [3, (\"5464\", 9, 9.99), (\"88112\", 11, 24.99)],\n",
    "           [4, (\"8732\", 7, 11.99), (\"7733\",11,18.99), (\"88112\", 5, 39.95)] ]\n",
    "\n",
    "min_order = 100\n",
    "invoice_totals = list(map(lambda x: [x[0]] + list(map(lambda y: y[1]*y[2], x[1:])), orders))\n",
    "invoice_totals = list(map(lambda x: [x[0]] + [reduce(lambda a,b: a + b, x[1:])], invoice_totals))\n",
    "invoice_totals = list(map(lambda x: x if x[1] >= min_order else (x[0], x[1] + 10), invoice_totals))\n",
    "\n",
    "print (invoice_totals)"
   ]
  }
 ],
 "metadata": {
  "kernelspec": {
   "display_name": "Python 3",
   "language": "python",
   "name": "python3"
  },
  "language_info": {
   "codemirror_mode": {
    "name": "ipython",
    "version": 3
   },
   "file_extension": ".py",
   "mimetype": "text/x-python",
   "name": "python",
   "nbconvert_exporter": "python",
   "pygments_lexer": "ipython3",
   "version": "3.7.4"
  }
 },
 "nbformat": 4,
 "nbformat_minor": 2
}
