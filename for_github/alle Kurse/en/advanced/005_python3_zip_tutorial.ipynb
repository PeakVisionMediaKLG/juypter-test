{
 "cells": [
  {
   "cell_type": "markdown",
   "metadata": {},
   "source": [
    "## Zip Introduction\n",
    "### Introduction\n",
    "\n",
    "<img height= 200 width=300 class=\"imgright\" src=\"../images/text_zip.webp\" srcset=\"../images/text_zip_300w.webp 300w\" alt=\"Infection rate\" />\n",
    "\n",
    "In this chapter of our Python tutorial we deal with the wonderful and extremely useful functionality 'zip'. Unfortunately, beginners of Python are quite often unnecessarily confused and frightened by zip. First of all the name is confusing. Lots of people confuse the zip of Python with the well-known archive file format ZIP, which is used for lossless data compression. Since this data compression not only keeps the required storage space very small, but is also carried out very quickly, the name 'zip' was chosen. In this context, \"zip\" means \"to act quickly or move quickly\".\n",
    "\n",
    "The 'zip' of Python has absolutely nothing to do with it. The functionality 'zip' in Python is based on another meaning of the English word 'zip', \"closing something with a zipper\".\n",
    "\n",
    "We will see that zip can be very easy to understand. However, this does not apply if you come up with the idea of using the Python help function. The help text is certainly partly responsible for this and frightens the novices away:\n",
    "\n",
    "    Return a zip object whose .next() method returns a tuple where the i-th element comes from the i-th iterable argument. The .next() method continues until the shortest iterable in the argument sequence is exhausted and then it raises StopIteration.\n",
    "\n",
    "This text is correct but it is hard to understand. Let us start with simple examples before we try to simplify the theory behind zip.\n",
    "\n",
    "We will start with two lists and apply zip to those two lists:"
   ]
  },
  {
   "cell_type": "code",
   "execution_count": 1,
   "metadata": {},
   "outputs": [
    {
     "name": "stdout",
     "output_type": "stream",
     "text": [
      "<zip object at 0x7efc8724f9b0>\n"
     ]
    }
   ],
   "source": [
    "a_couple_of_letters = [\"a\", \"b\", \"c\", \"d\", \"e\", \"f\"]\n",
    "some_numbers = [5, 3, 7, 9, 11, 2]\n",
    "\n",
    "print(zip(a_couple_of_letters, some_numbers))"
   ]
  },
  {
   "cell_type": "markdown",
   "metadata": {},
   "source": [
    "The result is a zip object and you are not wiser than before, if you don't know zip. The application of zip returns an iterator, which is capable of producing tuples. It is combining the first items of each iterable (in our example lists) into a tuple, after this it combines the second items and so on. It stops when one of them is exhausted, i.e. there are no more items available.\n",
    "\n",
    "The best way to see what it creates is to use it in a for loop."
   ]
  },
  {
   "cell_type": "code",
   "execution_count": 2,
   "metadata": {},
   "outputs": [
    {
     "name": "stdout",
     "output_type": "stream",
     "text": [
      "('a', 5)\n",
      "('b', 3)\n",
      "('c', 7)\n",
      "('d', 9)\n",
      "('e', 11)\n",
      "('f', 2)\n"
     ]
    }
   ],
   "source": [
    "for t in zip(a_couple_of_letters, some_numbers):\n",
    "    print(t)"
   ]
  },
  {
   "cell_type": "markdown",
   "metadata": {},
   "source": [
    "If you look closely at the output above and the following picture, you will hopefully understand why zip has something to do with a zipper and why they had chosen the name.\n",
    "\n",
    "<img height= 200 width=350 class=\"imgright\" src=\"../images/zip_two_lists.webp\" srcset=\"../images/zip_two_lists_500w.webp 500w,../images/zip_two_lists_400w.webp 400w,../images/zip_two_lists_350w.webp 350w,../images/zip_two_lists_300w.webp 300w\" alt=\"Mapping two lists on a zipper\" />\n",
    "\n",
    "zip can have an arbitrary number of iterable arguments as we can see in the following example:"
   ]
  },
  {
   "cell_type": "code",
   "execution_count": 3,
   "metadata": {},
   "outputs": [
    {
     "name": "stdout",
     "output_type": "stream",
     "text": [
      "('Helgoland', 1021.2, 6.0, 4)\n",
      "('Kiel', 1019.9, 4.3, 27)\n",
      "('Berlin-Tegel', 1023.7, 2.7, 37)\n",
      "('Konstanz', 1023.1, -1.4, 443)\n",
      "('Hohenpeißenberg', 1027.7, -4.4, 977)\n"
     ]
    }
   ],
   "source": [
    "location = [\"Helgoland\", \"Kiel\", \n",
    "            \"Berlin-Tegel\", \"Konstanz\", \n",
    "            \"Hohenpeißenberg\"]\n",
    "air_pressure = [1021.2, 1019.9, 1023.7, 1023.1, 1027.7]\n",
    "temperatures = [6.0, 4.3, 2.7, -1.4, -4.4]\n",
    "altitude = [4, 27, 37, 443, 977]\n",
    "                \n",
    "for t in zip(location, air_pressure, temperatures, altitude):\n",
    "    print(t)"
   ]
  },
  {
   "cell_type": "markdown",
   "metadata": {},
   "source": [
    "The use of zip is not restricted to lists and tuples. It can be applied to all iterable objects like lists, tuples, strings, dictionaries, sets, range and many more of course."
   ]
  },
  {
   "cell_type": "code",
   "execution_count": 4,
   "metadata": {},
   "outputs": [
    {
     "name": "stdout",
     "output_type": "stream",
     "text": [
      "(1000, 'ham')\n",
      "(1001, 'spam')\n",
      "(1002, 'cheese')\n"
     ]
    }
   ],
   "source": [
    "food = [\"ham\", \"spam\", \"cheese\"]\n",
    "\n",
    "for item in zip(range(1000, 1003), food):\n",
    "    print(item)"
   ]
  },
  {
   "cell_type": "markdown",
   "metadata": {},
   "source": [
    "### Calling zip with no Argument\n",
    "\n",
    "Let us have a look at what happens, if we call zip without any parameter:"
   ]
  },
  {
   "cell_type": "code",
   "execution_count": 5,
   "metadata": {},
   "outputs": [],
   "source": [
    "for i in zip():\n",
    "    print(\"This will not be printed\")"
   ]
  },
  {
   "cell_type": "markdown",
   "metadata": {},
   "source": [
    "The body of the loop was not being executed!"
   ]
  },
  {
   "cell_type": "markdown",
   "metadata": {},
   "source": [
    "### Calling zip with One Iterable\n",
    "\n",
    "What happens if we call zip with just one argument, e.g. a string:"
   ]
  },
  {
   "cell_type": "code",
   "execution_count": 6,
   "metadata": {},
   "outputs": [
    {
     "name": "stdout",
     "output_type": "stream",
     "text": [
      "('P',)\n",
      "('y',)\n",
      "('t',)\n",
      "('h',)\n",
      "('o',)\n",
      "('n',)\n"
     ]
    }
   ],
   "source": [
    "s = \"Python\"\n",
    "for t in zip(s):\n",
    "    print(t)"
   ]
  },
  {
   "cell_type": "markdown",
   "metadata": {},
   "source": [
    "So this call creates an iterator which produces tuples with one single element, in our case the characters of the string.\n",
    "\n",
    "### Parameters with Different Lengths\n",
    "\n",
    "As we have seen, zip can be called with an arbitrary number of iterable objects as arguments. So far the number of elements or the length of these iterables had been the same. This is not necessary. If the Lengths are different, zip will stop producing an output as soon as one of the argument sequences is exhausted. \"stop producing an output\" actually means it will raise a StopIteration exception like all other iterators do. This exception is caught by the for loop. You will find more about this way of working in the chapter [\"Iterators and Iterables\"](\"python3_iterable_iterator.php\") of our Python tutorial.\n",
    "\n",
    "The following example is a zip call with two list with different lenghts:"
   ]
  },
  {
   "cell_type": "code",
   "execution_count": 7,
   "metadata": {},
   "outputs": [
    {
     "name": "stdout",
     "output_type": "stream",
     "text": [
      "BMW green\n",
      "Alfa Romeo red\n"
     ]
    }
   ],
   "source": [
    "colors = [\"green\", \"red\", \"blue\"]\n",
    "cars = [\"BMW\", \"Alfa Romeo\"]\n",
    "\n",
    "for car, color in zip(cars, colors):\n",
    "    print(car, color)"
   ]
  },
  {
   "cell_type": "markdown",
   "metadata": {},
   "source": [
    "### Advanced Usages of zip\n",
    "\n",
    "We have a list with the six largest cities in Switzerland. It consists of tuples with the pairs, city and population number:"
   ]
  },
  {
   "cell_type": "code",
   "execution_count": 8,
   "metadata": {},
   "outputs": [],
   "source": [
    "cities_and_population = [(\"Zurich\", 415367),\n",
    "                         (\"Geneva\", 201818),\n",
    "                         (\"Basel\", 177654),\n",
    "                         (\"Lausanne\", 139111),\n",
    "                         (\"Bern\", 133883),\n",
    "                         (\"Winterthur\", 111851)]"
   ]
  },
  {
   "cell_type": "markdown",
   "metadata": {},
   "source": [
    "The task consists of creating two lists: One with the city names and one with the population numbers. zip is the solution to this problem, but we also have to use the star operator to unpack the list:"
   ]
  },
  {
   "cell_type": "code",
   "execution_count": 9,
   "metadata": {},
   "outputs": [
    {
     "name": "stdout",
     "output_type": "stream",
     "text": [
      "('Zurich', 'Geneva', 'Basel', 'Lausanne', 'Bern', 'Winterthur')\n",
      "(415367, 201818, 177654, 139111, 133883, 111851)\n"
     ]
    }
   ],
   "source": [
    "cities, populations = list(zip(*cities_and_population))\n",
    "print(cities)\n",
    "print(populations)"
   ]
  },
  {
   "cell_type": "markdown",
   "metadata": {},
   "source": [
    "This is needed e.g., if we want to plot these data. The following example is just used for illustrating purposes. It is not necessary to understand it completely. You have to be familiar with [Pandas](pandas_DataFrame.php). In the following program, we assume that only the combined list is available at the beginning:"
   ]
  },
  {
   "cell_type": "code",
   "execution_count": 1,
   "metadata": {},
   "outputs": [
    {
     "data": {
      "text/plain": [
       "<matplotlib.axes._subplots.AxesSubplot at 0x7fdd6494e490>"
      ]
     },
     "execution_count": 1,
     "metadata": {},
     "output_type": "execute_result"
    },
    {
     "data": {
      "image/png": "[encoded data removed]",
      "text/plain": [
       "<Figure size 432x288 with 1 Axes>"
      ]
     },
     "metadata": {
      "needs_background": "light"
     },
     "output_type": "display_data"
    }
   ],
   "source": [
    "import pandas as pd\n",
    "\n",
    "cities_and_population = [(\"Zurich\", 415367),\n",
    "                         (\"Geneva\", 201818),\n",
    "                         (\"Basel\", 177654),\n",
    "                         (\"Lausanne\", 139111),\n",
    "                         (\"Bern\", 133883),\n",
    "                         (\"Winterthur\", 111851)]\n",
    "\n",
    "cities, populations = list(zip(*cities_and_population))\n",
    "s = pd.Series(populations, index=cities)\n",
    "\n",
    "s.plot(kind=\"bar\")"
   ]
  },
  {
   "cell_type": "markdown",
   "metadata": {},
   "source": [
    "### Converting two Iterables into a Dictionary\n",
    "\n",
    "zip also offers us an excellent opportunity to convert two iterables into a dictionary. Of course, only if these iterables meet certain requirements. The iterable, which should be used as keys, must be unique and can only consist of immutables. We demonstrate this with the following morse code example. The full morse code alphabet can be found in our chapter on [dictionaries](python3_dictionaries.php):\n"
   ]
  },
  {
   "cell_type": "code",
   "execution_count": 11,
   "metadata": {},
   "outputs": [
    {
     "name": "stdout",
     "output_type": "stream",
     "text": [
      "{'a': '.-', 'b': '-...', 'c': '-.-.', 'd': '-..', 'e': '.', 'f': '..-.'}\n"
     ]
    }
   ],
   "source": [
    "abc = \"abcdef\"\n",
    "morse_chars = [\".-\", \"-...\", \"-.-.\", \"-..\", \".\", \"..-.\"]\n",
    "               \n",
    "text2morse = dict(zip(abc, morse_chars))\n",
    "print(text2morse)"
   ]
  },
  {
   "cell_type": "markdown",
   "metadata": {},
   "source": [
    "### Footnotes\n",
    "\n",
    "<sub> 1 </sub> The data are from the 1st of April 2020, no joke. The locations are chosen arbitrarily. Yet, there is a special reason, why I had chosen Hohenpeißenberg. On the Hohenpeißenberg I was invited to give two unforgettable Python courses for the German weather service: Great people and a fantastic view!"
   ]
  }
 ],
 "metadata": {
  "kernelspec": {
   "display_name": "Python 3",
   "language": "python",
   "name": "python3"
  },
  "language_info": {
   "codemirror_mode": {
    "name": "ipython",
    "version": 3
   },
   "file_extension": ".py",
   "mimetype": "text/x-python",
   "name": "python",
   "nbconvert_exporter": "python",
   "pygments_lexer": "ipython3",
   "version": "3.7.6"
  }
 },
 "nbformat": 4,
 "nbformat_minor": 4
}
