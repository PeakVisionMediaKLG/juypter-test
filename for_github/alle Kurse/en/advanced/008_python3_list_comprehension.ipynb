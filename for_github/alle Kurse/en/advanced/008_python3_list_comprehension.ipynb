{
 "cells": [
  {
   "cell_type": "markdown",
   "metadata": {},
   "source": [
    "## List Comprehension\n",
    "### Introduction\n",
    "\n",
    "<img class=\"imgright\" src=\"../images/alternative_lambda_map.webp\" alt=\"alternative to map, filter, reduce and lambda\" />\n",
    "\n",
    "We learned in the previous chapter [\"Lambda Operator, Filter, Reduce and Map\"](https://www.python-course.eu/python3_lambda.php) that Guido van Rossum prefers list comprehensions to constructs using map, filter, reduce and lambda. In this chapter we will cover the essentials about list comprehensions.\n",
    "\n",
    "List comprehensions were added with Python 2.0. Essentially, it is Python's way of implementing a well-known notation for sets as used by mathematicians.\n",
    "In mathematics the square numbers of the natural numbers are, for example, created by { x2 | x ∈ ℕ } or the set of complex integers { (x,y) | x ∈ ℤ ∧ y ∈ ℤ }.\n",
    "\n",
    "List comprehension is an elegant way to define and create lists in Python. These lists have often the qualities of sets, but are not necessarily sets.\n",
    "\n",
    "List comprehension is a complete substitute for the lambda function as well as the functions map(), filter() and reduce(). For most people the syntax of list comprehension is easier to be grasped.\n",
    "\n",
    "### Examples\n",
    "In the chapter on lambda and map() we designed a map() function to convert Celsius values into Fahrenheit and vice versa. It looks like this with list comprehension:"
   ]
  },
  {
   "cell_type": "code",
   "execution_count": 17,
   "metadata": {},
   "outputs": [
    {
     "name": "stdout",
     "output_type": "stream",
     "text": [
      "[102.56, 97.7, 99.14, 100.03999999999999]\n"
     ]
    }
   ],
   "source": [
    "Celsius = [39.2, 36.5, 37.3, 37.8]\n",
    "Fahrenheit = [ ((float(9)/5)*x + 32) for x in Celsius ]\n",
    "print(Fahrenheit)"
   ]
  },
  {
   "cell_type": "markdown",
   "metadata": {},
   "source": [
    "A Pythagorean triple consists of three positive integers a, b, and c, such that\n",
    "a2 + b2 = c2.\n",
    "Such a triple is commonly written (a, b, c), and the best known example is (3, 4, 5).\n",
    "The following list comprehension creates the Pythagorean triples:"
   ]
  },
  {
   "cell_type": "code",
   "execution_count": 18,
   "metadata": {},
   "outputs": [
    {
     "data": {
      "text/plain": [
       "[(3, 4, 5),\n",
       " (5, 12, 13),\n",
       " (6, 8, 10),\n",
       " (7, 24, 25),\n",
       " (8, 15, 17),\n",
       " (9, 12, 15),\n",
       " (10, 24, 26),\n",
       " (12, 16, 20),\n",
       " (15, 20, 25),\n",
       " (20, 21, 29)]"
      ]
     },
     "execution_count": 18,
     "metadata": {},
     "output_type": "execute_result"
    }
   ],
   "source": [
    "[(x,y,z) for x in range(1,30) for y in range(x,30) for z in range(y,30) if x**2 + y**2 == z**2]"
   ]
  },
  {
   "cell_type": "markdown",
   "metadata": {},
   "source": [
    "Another example: Let A and B be two sets, the cross product (or Cartesian product) of A and B, written A×B, is the set of all pairs wherein the first element is a member of the set A and the second element is a member of the set B.\n",
    "\n",
    "Mathematical definition:\n",
    "A×B = {(a, b) : a belongs to A, b belongs to B}.\n",
    "It's easy to be accomplished in Python:"
   ]
  },
  {
   "cell_type": "code",
   "execution_count": 19,
   "metadata": {},
   "outputs": [
    {
     "name": "stdout",
     "output_type": "stream",
     "text": [
      "[('red', 'house'), ('red', 'car'), ('red', 'tree'), ('green', 'house'), ('green', 'car'), ('green', 'tree'), ('yellow', 'house'), ('yellow', 'car'), ('yellow', 'tree'), ('blue', 'house'), ('blue', 'car'), ('blue', 'tree')]\n"
     ]
    }
   ],
   "source": [
    "colours = [ \"red\", \"green\", \"yellow\", \"blue\" ]\n",
    "things = [ \"house\", \"car\", \"tree\" ]\n",
    "coloured_things = [ (x,y) for x in colours for y in things ]\n",
    "print(coloured_things)"
   ]
  },
  {
   "cell_type": "markdown",
   "metadata": {},
   "source": [
    "### Generator Comprehension\n",
    "Generator comprehensions were introduced with Python 2.6. They are simply like a list comprehension but with parentheses - round brackets - instead of (square) brackets around it. Otherwise, the syntax and the way of working is like list comprehension, but a generator comprehension returns a generator instead of a list."
   ]
  },
  {
   "cell_type": "code",
   "execution_count": 16,
   "metadata": {},
   "outputs": [
    {
     "name": "stdout",
     "output_type": "stream",
     "text": [
      "<generator object <genexpr> at 0x000002441374D1C8>\n",
      "[0, 1, 4, 9, 16, 25, 36, 49, 64, 81, 100, 121, 144, 169, 196, 225, 256, 289, 324, 361]\n"
     ]
    }
   ],
   "source": [
    "x = (x **2 for x in range(20))\n",
    "print(x)\n",
    "x = list(x)\n",
    "print(x)"
   ]
  },
  {
   "cell_type": "markdown",
   "metadata": {},
   "source": [
    "### A more Demanding Example\n",
    "Calculation of the prime numbers between 1 and 100 using the sieve of Eratosthenes:"
   ]
  },
  {
   "cell_type": "code",
   "execution_count": 15,
   "metadata": {},
   "outputs": [
    {
     "name": "stdout",
     "output_type": "stream",
     "text": [
      "[2, 3, 5, 7, 11, 13, 17, 19, 23, 29, 31, 37, 41, 43, 47, 53, 59, 61, 67, 71, 73, 79, 83, 89, 97]\n"
     ]
    }
   ],
   "source": [
    "noprimes = [j for i in range(2, 8) for j in range(i*2, 100, i)]\n",
    "primes = [x for x in range(2, 100) if x not in noprimes]\n",
    "print(primes)"
   ]
  },
  {
   "cell_type": "markdown",
   "metadata": {},
   "source": [
    "We want to bring the previous example into more general form, so that we can calculate the list of prime numbers up to an arbitrary number n:"
   ]
  },
  {
   "cell_type": "code",
   "execution_count": 14,
   "metadata": {},
   "outputs": [
    {
     "data": {
      "text/plain": [
       "[4,\n",
       " 6,\n",
       " 8,\n",
       " 10,\n",
       " 12,\n",
       " 14,\n",
       " 16,\n",
       " 18,\n",
       " 20,\n",
       " 22,\n",
       " 24,\n",
       " 26,\n",
       " 28,\n",
       " 30,\n",
       " 32,\n",
       " 34,\n",
       " 36,\n",
       " 38,\n",
       " 40,\n",
       " 42,\n",
       " 44,\n",
       " 46,\n",
       " 48,\n",
       " 50,\n",
       " 52,\n",
       " 54,\n",
       " 56,\n",
       " 58,\n",
       " 60,\n",
       " 62,\n",
       " 64,\n",
       " 66,\n",
       " 68,\n",
       " 70,\n",
       " 72,\n",
       " 74,\n",
       " 76,\n",
       " 78,\n",
       " 80,\n",
       " 82,\n",
       " 84,\n",
       " 86,\n",
       " 88,\n",
       " 90,\n",
       " 92,\n",
       " 94,\n",
       " 96,\n",
       " 98,\n",
       " 6,\n",
       " 9,\n",
       " 12,\n",
       " 15,\n",
       " 18,\n",
       " 21,\n",
       " 24,\n",
       " 27,\n",
       " 30,\n",
       " 33,\n",
       " 36,\n",
       " 39,\n",
       " 42,\n",
       " 45,\n",
       " 48,\n",
       " 51,\n",
       " 54,\n",
       " 57,\n",
       " 60,\n",
       " 63,\n",
       " 66,\n",
       " 69,\n",
       " 72,\n",
       " 75,\n",
       " 78,\n",
       " 81,\n",
       " 84,\n",
       " 87,\n",
       " 90,\n",
       " 93,\n",
       " 96,\n",
       " 99,\n",
       " 8,\n",
       " 12,\n",
       " 16,\n",
       " 20,\n",
       " 24,\n",
       " 28,\n",
       " 32,\n",
       " 36,\n",
       " 40,\n",
       " 44,\n",
       " 48,\n",
       " 52,\n",
       " 56,\n",
       " 60,\n",
       " 64,\n",
       " 68,\n",
       " 72,\n",
       " 76,\n",
       " 80,\n",
       " 84,\n",
       " 88,\n",
       " 92,\n",
       " 96,\n",
       " 10,\n",
       " 15,\n",
       " 20,\n",
       " 25,\n",
       " 30,\n",
       " 35,\n",
       " 40,\n",
       " 45,\n",
       " 50,\n",
       " 55,\n",
       " 60,\n",
       " 65,\n",
       " 70,\n",
       " 75,\n",
       " 80,\n",
       " 85,\n",
       " 90,\n",
       " 95,\n",
       " 12,\n",
       " 18,\n",
       " 24,\n",
       " 30,\n",
       " 36,\n",
       " 42,\n",
       " 48,\n",
       " 54,\n",
       " 60,\n",
       " 66,\n",
       " 72,\n",
       " 78,\n",
       " 84,\n",
       " 90,\n",
       " 96,\n",
       " 14,\n",
       " 21,\n",
       " 28,\n",
       " 35,\n",
       " 42,\n",
       " 49,\n",
       " 56,\n",
       " 63,\n",
       " 70,\n",
       " 77,\n",
       " 84,\n",
       " 91,\n",
       " 98,\n",
       " 16,\n",
       " 24,\n",
       " 32,\n",
       " 40,\n",
       " 48,\n",
       " 56,\n",
       " 64,\n",
       " 72,\n",
       " 80,\n",
       " 88,\n",
       " 96,\n",
       " 18,\n",
       " 27,\n",
       " 36,\n",
       " 45,\n",
       " 54,\n",
       " 63,\n",
       " 72,\n",
       " 81,\n",
       " 90,\n",
       " 99,\n",
       " 20,\n",
       " 30,\n",
       " 40,\n",
       " 50,\n",
       " 60,\n",
       " 70,\n",
       " 80,\n",
       " 90]"
      ]
     },
     "execution_count": 14,
     "metadata": {},
     "output_type": "execute_result"
    }
   ],
   "source": [
    "from math import sqrt\n",
    "n = 100\n",
    "sqrt_n = int(sqrt(n))\n",
    "no_primes = [j for i in range(2, sqrt_n+1) for j in range(i*2, n, i)]\n",
    "no_primes"
   ]
  },
  {
   "cell_type": "markdown",
   "metadata": {},
   "source": [
    "If we have a look at the content of no_primes, we can see that we have a problem. There are lots of double entries contained in this list:"
   ]
  },
  {
   "cell_type": "code",
   "execution_count": 13,
   "metadata": {},
   "outputs": [
    {
     "data": {
      "text/plain": [
       "[4,\n",
       " 6,\n",
       " 8,\n",
       " 10,\n",
       " 12,\n",
       " 14,\n",
       " 16,\n",
       " 18,\n",
       " 20,\n",
       " 22,\n",
       " 24,\n",
       " 26,\n",
       " 28,\n",
       " 30,\n",
       " 32,\n",
       " 34,\n",
       " 36,\n",
       " 38,\n",
       " 40,\n",
       " 42,\n",
       " 44,\n",
       " 46,\n",
       " 48,\n",
       " 50,\n",
       " 52,\n",
       " 54,\n",
       " 56,\n",
       " 58,\n",
       " 60,\n",
       " 62,\n",
       " 64,\n",
       " 66,\n",
       " 68,\n",
       " 70,\n",
       " 72,\n",
       " 74,\n",
       " 76,\n",
       " 78,\n",
       " 80,\n",
       " 82,\n",
       " 84,\n",
       " 86,\n",
       " 88,\n",
       " 90,\n",
       " 92,\n",
       " 94,\n",
       " 96,\n",
       " 98,\n",
       " 6,\n",
       " 9,\n",
       " 12,\n",
       " 15,\n",
       " 18,\n",
       " 21,\n",
       " 24,\n",
       " 27,\n",
       " 30,\n",
       " 33,\n",
       " 36,\n",
       " 39,\n",
       " 42,\n",
       " 45,\n",
       " 48,\n",
       " 51,\n",
       " 54,\n",
       " 57,\n",
       " 60,\n",
       " 63,\n",
       " 66,\n",
       " 69,\n",
       " 72,\n",
       " 75,\n",
       " 78,\n",
       " 81,\n",
       " 84,\n",
       " 87,\n",
       " 90,\n",
       " 93,\n",
       " 96,\n",
       " 99,\n",
       " 8,\n",
       " 12,\n",
       " 16,\n",
       " 20,\n",
       " 24,\n",
       " 28,\n",
       " 32,\n",
       " 36,\n",
       " 40,\n",
       " 44,\n",
       " 48,\n",
       " 52,\n",
       " 56,\n",
       " 60,\n",
       " 64,\n",
       " 68,\n",
       " 72,\n",
       " 76,\n",
       " 80,\n",
       " 84,\n",
       " 88,\n",
       " 92,\n",
       " 96,\n",
       " 10,\n",
       " 15,\n",
       " 20,\n",
       " 25,\n",
       " 30,\n",
       " 35,\n",
       " 40,\n",
       " 45,\n",
       " 50,\n",
       " 55,\n",
       " 60,\n",
       " 65,\n",
       " 70,\n",
       " 75,\n",
       " 80,\n",
       " 85,\n",
       " 90,\n",
       " 95,\n",
       " 12,\n",
       " 18,\n",
       " 24,\n",
       " 30,\n",
       " 36,\n",
       " 42,\n",
       " 48,\n",
       " 54,\n",
       " 60,\n",
       " 66,\n",
       " 72,\n",
       " 78,\n",
       " 84,\n",
       " 90,\n",
       " 96,\n",
       " 14,\n",
       " 21,\n",
       " 28,\n",
       " 35,\n",
       " 42,\n",
       " 49,\n",
       " 56,\n",
       " 63,\n",
       " 70,\n",
       " 77,\n",
       " 84,\n",
       " 91,\n",
       " 98,\n",
       " 16,\n",
       " 24,\n",
       " 32,\n",
       " 40,\n",
       " 48,\n",
       " 56,\n",
       " 64,\n",
       " 72,\n",
       " 80,\n",
       " 88,\n",
       " 96,\n",
       " 18,\n",
       " 27,\n",
       " 36,\n",
       " 45,\n",
       " 54,\n",
       " 63,\n",
       " 72,\n",
       " 81,\n",
       " 90,\n",
       " 99,\n",
       " 20,\n",
       " 30,\n",
       " 40,\n",
       " 50,\n",
       " 60,\n",
       " 70,\n",
       " 80,\n",
       " 90]"
      ]
     },
     "execution_count": 13,
     "metadata": {},
     "output_type": "execute_result"
    }
   ],
   "source": []
  },
  {
   "cell_type": "markdown",
   "metadata": {},
   "source": [
    "The solution to this unbearable problem is easier than you may think. It's just a matter of changing square brackets into braces, or in other words: We will use set comprehension.\n",
    "### Set Comprehension\n",
    "A set comprehension is similar to a list comprehension, but returns a set and not a list. Syntactically, we use curly brackets instead of square brackets to create a set. Set comprehension is the right functionality to solve our problem from the previous subsection. We are able to create the set of non primes without doublets:"
   ]
  },
  {
   "cell_type": "code",
   "execution_count": 10,
   "metadata": {},
   "outputs": [
    {
     "data": {
      "text/plain": [
       "{4,\n",
       " 6,\n",
       " 8,\n",
       " 9,\n",
       " 10,\n",
       " 12,\n",
       " 14,\n",
       " 15,\n",
       " 16,\n",
       " 18,\n",
       " 20,\n",
       " 21,\n",
       " 22,\n",
       " 24,\n",
       " 25,\n",
       " 26,\n",
       " 27,\n",
       " 28,\n",
       " 30,\n",
       " 32,\n",
       " 33,\n",
       " 34,\n",
       " 35,\n",
       " 36,\n",
       " 38,\n",
       " 39,\n",
       " 40,\n",
       " 42,\n",
       " 44,\n",
       " 45,\n",
       " 46,\n",
       " 48,\n",
       " 49,\n",
       " 50,\n",
       " 51,\n",
       " 52,\n",
       " 54,\n",
       " 55,\n",
       " 56,\n",
       " 57,\n",
       " 58,\n",
       " 60,\n",
       " 62,\n",
       " 63,\n",
       " 64,\n",
       " 65,\n",
       " 66,\n",
       " 68,\n",
       " 69,\n",
       " 70,\n",
       " 72,\n",
       " 74,\n",
       " 75,\n",
       " 76,\n",
       " 77,\n",
       " 78,\n",
       " 80,\n",
       " 81,\n",
       " 82,\n",
       " 84,\n",
       " 85,\n",
       " 86,\n",
       " 87,\n",
       " 88,\n",
       " 90,\n",
       " 91,\n",
       " 92,\n",
       " 93,\n",
       " 94,\n",
       " 95,\n",
       " 96,\n",
       " 98,\n",
       " 99}"
      ]
     },
     "execution_count": 10,
     "metadata": {},
     "output_type": "execute_result"
    }
   ],
   "source": [
    "from math import sqrt\n",
    "n = 100\n",
    "sqrt_n = int(sqrt(n))\n",
    "no_primes = {j for i in range(2, sqrt_n+1) for j in range(i*2, n, i)}\n",
    "no_primes"
   ]
  },
  {
   "cell_type": "code",
   "execution_count": 11,
   "metadata": {},
   "outputs": [
    {
     "name": "stdout",
     "output_type": "stream",
     "text": [
      "{2, 3, 5, 7, 11, 13, 17, 19, 23, 29, 31, 37, 41, 43, 47, 53, 59, 61, 67, 71, 73, 79, 83, 89, 97}\n"
     ]
    }
   ],
   "source": [
    "primes = {i for i in range(2, n) if i not in no_primes}\n",
    "print(primes)"
   ]
  },
  {
   "cell_type": "markdown",
   "metadata": {},
   "source": [
    "### Recursive Function to Calculate the Primes\n",
    "The following Python script uses a recursive function to calculate the prime numbers. It incorporates the fact that it is enough to examine the multiples of the prime numbers up to the square root of n:"
   ]
  },
  {
   "cell_type": "code",
   "execution_count": 9,
   "metadata": {},
   "outputs": [
    {
     "name": "stdout",
     "output_type": "stream",
     "text": [
      "1 []\n",
      "2 {2}\n",
      "3 {2, 3}\n",
      "4 {2, 3}\n",
      "5 {2, 3, 5}\n",
      "6 {2, 3, 5}\n",
      "7 {2, 3, 5, 7}\n",
      "8 {2, 3, 5, 7}\n",
      "9 {2, 3, 5, 7}\n",
      "10 {2, 3, 5, 7}\n",
      "11 {2, 3, 5, 7, 11}\n",
      "12 {2, 3, 5, 7, 11}\n",
      "13 {2, 3, 5, 7, 11, 13}\n",
      "14 {2, 3, 5, 7, 11, 13}\n",
      "15 {2, 3, 5, 7, 11, 13}\n",
      "16 {2, 3, 5, 7, 11, 13}\n",
      "17 {2, 3, 5, 7, 11, 13, 17}\n",
      "18 {2, 3, 5, 7, 11, 13, 17}\n",
      "19 {2, 3, 5, 7, 11, 13, 17, 19}\n",
      "20 {2, 3, 5, 7, 11, 13, 17, 19}\n",
      "21 {2, 3, 5, 7, 11, 13, 17, 19}\n",
      "22 {2, 3, 5, 7, 11, 13, 17, 19}\n",
      "23 {2, 3, 5, 7, 11, 13, 17, 19, 23}\n",
      "24 {2, 3, 5, 7, 11, 13, 17, 19, 23}\n",
      "25 {2, 3, 5, 7, 11, 13, 17, 19, 23}\n",
      "26 {2, 3, 5, 7, 11, 13, 17, 19, 23}\n",
      "27 {2, 3, 5, 7, 11, 13, 17, 19, 23}\n",
      "28 {2, 3, 5, 7, 11, 13, 17, 19, 23}\n",
      "29 {2, 3, 5, 7, 11, 13, 17, 19, 23, 29}\n",
      "30 {2, 3, 5, 7, 11, 13, 17, 19, 23, 29}\n",
      "31 {2, 3, 5, 7, 11, 13, 17, 19, 23, 29, 31}\n",
      "32 {2, 3, 5, 7, 11, 13, 17, 19, 23, 29, 31}\n",
      "33 {2, 3, 5, 7, 11, 13, 17, 19, 23, 29, 31}\n",
      "34 {2, 3, 5, 7, 11, 13, 17, 19, 23, 29, 31}\n",
      "35 {2, 3, 5, 7, 11, 13, 17, 19, 23, 29, 31}\n",
      "36 {2, 3, 5, 7, 11, 13, 17, 19, 23, 29, 31}\n",
      "37 {2, 3, 5, 37, 7, 11, 13, 17, 19, 23, 29, 31}\n",
      "38 {2, 3, 5, 37, 7, 11, 13, 17, 19, 23, 29, 31}\n",
      "39 {2, 3, 5, 37, 7, 11, 13, 17, 19, 23, 29, 31}\n",
      "40 {2, 3, 5, 37, 7, 11, 13, 17, 19, 23, 29, 31}\n",
      "41 {2, 3, 5, 37, 7, 41, 11, 13, 17, 19, 23, 29, 31}\n",
      "42 {2, 3, 5, 37, 7, 41, 11, 13, 17, 19, 23, 29, 31}\n",
      "43 {2, 3, 5, 37, 7, 41, 11, 43, 13, 17, 19, 23, 29, 31}\n",
      "44 {2, 3, 5, 37, 7, 41, 11, 43, 13, 17, 19, 23, 29, 31}\n",
      "45 {2, 3, 5, 37, 7, 41, 11, 43, 13, 17, 19, 23, 29, 31}\n",
      "46 {2, 3, 5, 37, 7, 41, 11, 43, 13, 17, 19, 23, 29, 31}\n",
      "47 {2, 3, 5, 37, 7, 41, 11, 43, 13, 47, 17, 19, 23, 29, 31}\n",
      "48 {2, 3, 5, 37, 7, 41, 11, 43, 13, 47, 17, 19, 23, 29, 31}\n",
      "49 {2, 3, 5, 37, 7, 41, 11, 43, 13, 47, 17, 19, 23, 29, 31}\n"
     ]
    }
   ],
   "source": [
    "from math import sqrt\n",
    "def primes(n):\n",
    "    if n == 0:\n",
    "        return []\n",
    "    elif n == 1:\n",
    "        return []\n",
    "    else:\n",
    "        p = primes(int(sqrt(n)))\n",
    "        no_p = {j for i in p for j in range(i*2, n+1, i)}\n",
    "        p = {x for x in range(2, n + 1) if x not in no_p}\n",
    "    return p\n",
    "\n",
    "for i in range(1,50):\n",
    "    print(i, primes(i))"
   ]
  },
  {
   "cell_type": "markdown",
   "metadata": {},
   "source": [
    "### Differences between version 2.x and 3.x\n",
    "In Python 2, the loop control variable is not local, i.e. it can change another variable of that name outside of the list comprehension, as we can see in the following example:"
   ]
  },
  {
   "cell_type": "markdown",
   "metadata": {},
   "source": [
    "<pre>\n",
    "x = \"This value will be changed in the list comprehension\"\n",
    "res = [x for x in range(3)]\n",
    "res\n",
    "[0, 1, 2]\n",
    "x\n",
    "2\n",
    "res = [i for i in range(5)]\n",
    "i\n",
    "4\n",
    "</pre>"
   ]
  },
  {
   "cell_type": "markdown",
   "metadata": {},
   "source": [
    "Guido van Rossum referred to this effect as \"one of Python's 'dirty little secrets' for years\".1 The reason for doing this was efficiency. \"It started out as an intentional compromise to make list comprehensions blindingly fast, and while it was not a common pitfall for beginners, it definitely stung people occasionally.\"2\n",
    "\n",
    "This \"dirty little secret\" is fixed in Python3, as you can see in the following code:"
   ]
  },
  {
   "cell_type": "code",
   "execution_count": 8,
   "metadata": {},
   "outputs": [
    {
     "name": "stdout",
     "output_type": "stream",
     "text": [
      "[0, 1, 2]\n"
     ]
    },
    {
     "data": {
      "text/plain": [
       "'Python 3 fixed the dirty little secret'"
      ]
     },
     "execution_count": 8,
     "metadata": {},
     "output_type": "execute_result"
    }
   ],
   "source": [
    "x = \"Python 3 fixed the dirty little secret\"\n",
    "res = [x for x in range(3)]\n",
    "print(res)\n",
    "[0, 1, 2]\n",
    "x "
   ]
  },
  {
   "cell_type": "markdown",
   "metadata": {},
   "source": [
    "Footnotes:\n",
    "1 Guido van Rossum: From List Comprehensions to Generator Expressions\n",
    "\n",
    "2 dto."
   ]
  }
 ],
 "metadata": {
  "kernelspec": {
   "display_name": "Python 3",
   "language": "python",
   "name": "python3"
  },
  "language_info": {
   "codemirror_mode": {
    "name": "ipython",
    "version": 3
   },
   "file_extension": ".py",
   "mimetype": "text/x-python",
   "name": "python",
   "nbconvert_exporter": "python",
   "pygments_lexer": "ipython3",
   "version": "3.7.4"
  }
 },
 "nbformat": 4,
 "nbformat_minor": 2
}
