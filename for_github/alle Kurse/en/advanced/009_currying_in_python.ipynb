{
 "cells": [
  {
   "cell_type": "markdown",
   "metadata": {},
   "source": [
    "## Currying\n",
    "\n",
    "### General Idea\n",
    "\n",
    "<img width=\"40%\" class=\"imgright\" src=\"../images/curry_with_currying.webp\" srcset=\"../images/curry_with_currying_600w.webp 600w,../images/curry_with_currying_500w.webp 500w,../images/curry_with_currying_400w.webp 400w,../images/curry_with_currying_350w.webp 350w,../images/curry_with_currying_300w.webp 300w\" alt=\"Curry with Currying\"/> \n",
    "\n",
    "In mathematics and computer science, currying is the technique of breaking down the evaluation of a function that takes multiple arguments into evaluating a sequence of single-argument functions. Currying is also used in theoretical computer science, because it is often easier to transform multiple argument models into single argument models.\n",
    "\n",
    "### Composition of Functions\n",
    "\n",
    "We define the composition h of two functions f and g\n",
    "\n",
    "$h(x) = g(f(x))$\n",
    "\n",
    "in the following Python example.\n",
    "\n",
    "The composition of two functions is a chaining process in which the output of the inner function becomes the input of the outer function."
   ]
  },
  {
   "cell_type": "code",
   "execution_count": 1,
   "metadata": {},
   "outputs": [],
   "source": [
    "def compose(g, f):\n",
    "    def h(x):\n",
    "        return g(f(x))\n",
    "    return h"
   ]
  },
  {
   "cell_type": "markdown",
   "metadata": {},
   "source": [
    "We will use our compose function in the next example. Let's assume, we have a thermometer, which is not working accurately. The correct temperature can be calculated by applying the function *readjust* to the temperature values. Let us further assume that we have to convert our temperature values from Celsius to Fahrenheit. We can do this by applying *compose* to both functions:"
   ]
  },
  {
   "cell_type": "code",
   "execution_count": 2,
   "metadata": {},
   "outputs": [
    {
     "name": "stdout",
     "output_type": "stream",
     "text": [
      "44.5 50.0\n"
     ]
    }
   ],
   "source": [
    "def celsius2fahrenheit(t):\n",
    "    return 1.8 * t + 32\n",
    "\n",
    "def readjust(t):\n",
    "    return 0.9 * t - 0.5\n",
    "\n",
    "convert = compose(readjust, celsius2fahrenheit)\n",
    "\n",
    "print(convert(10), celsius2fahrenheit(10))"
   ]
  },
  {
   "cell_type": "markdown",
   "metadata": {},
   "source": [
    "The composition of two functions is generally not commutative, i.e. compose(celsius2fahrenheit, readjust) is different from compose(readjust, celsius2fahrenheit)"
   ]
  },
  {
   "cell_type": "code",
   "execution_count": 3,
   "metadata": {},
   "outputs": [
    {
     "name": "stdout",
     "output_type": "stream",
     "text": [
      "47.3 50.0\n"
     ]
    }
   ],
   "source": [
    "convert2 = compose(celsius2fahrenheit, readjust)\n",
    "\n",
    "print(convert2(10), celsius2fahrenheit(10))"
   ]
  },
  {
   "cell_type": "markdown",
   "metadata": {},
   "source": [
    "```convert2``` is not a solution to our problem, because it is not readjusting the original temperatures of our thermometer but the transformed Fahrenheit values!\n",
    "\n",
    "### Example Currency Conversion\n",
    "\n",
    "In our chapter on <a href=\"python3_magic_methods.php\">Magic Functions</a> we had an exercise on <a href=\"python3_magic_methods.php#currency conversion\">currency conversion</a>.\n",
    "\n",
    "\n",
    "### \"compose\" with Arbitrary Arguments\n",
    "\n",
    "The function ```compose``` which we have just defined can only copy with single-argument functions. We can generalize our function *compose* so that it can cope with all possible functions, along with an example using a function with two parameters. "
   ]
  },
  {
   "cell_type": "code",
   "execution_count": 4,
   "metadata": {},
   "outputs": [],
   "source": [
    "def compose(g, f):\n",
    "    def h(*args, **kwargs):\n",
    "        return g(f(*args, **kwargs))\n",
    "    return h"
   ]
  },
  {
   "cell_type": "code",
   "execution_count": 5,
   "metadata": {},
   "outputs": [
    {
     "name": "stdin",
     "output_type": "stream",
     "text": [
      "weight (kg)  72\n",
      "height (m)  1.77\n"
     ]
    },
    {
     "name": "stdout",
     "output_type": "stream",
     "text": [
      "Normal (healthy weight)\n"
     ]
    },
    {
     "name": "stdin",
     "output_type": "stream",
     "text": [
      "Another run? (y/n) n\n"
     ]
    }
   ],
   "source": [
    "def BMI(weight, height):\n",
    "    return weight / height**2\n",
    "\n",
    "def evaluate_BMI(bmi):\n",
    "    if bmi < 15:\n",
    "        return \"Very severely underweight\"\n",
    "    elif bmi < 16:\n",
    "        return \"Severely underweight\"\n",
    "    elif bmi < 18.5:\n",
    "        return \"Underweight\"\n",
    "    elif bmi < 25:\n",
    "        return \"Normal (healthy weight)\"\n",
    "    elif bmi < 30:\n",
    "        return \"Overweight\"\n",
    "    elif bmi < 35:\n",
    "        return \"Obese Class I (Moderately obese)\"\n",
    "    elif bmi < 40:\n",
    "        return \"Obese Class II (Severely obese)\"\n",
    "    else:\n",
    "        return \"Obese Class III (Very severely obese)\"\n",
    "\n",
    "\n",
    "f = compose(evaluate_BMI, BMI)\n",
    "\n",
    "again = \"y\"\n",
    "while again == \"y\":\n",
    "    weight = float(input(\"weight (kg) \"))\n",
    "    height = float(input(\"height (m) \"))\n",
    "    print(f(weight, height))\n",
    "    again = input(\"Another run? (y/n)\")"
   ]
  },
  {
   "cell_type": "markdown",
   "metadata": {},
   "source": [
    "### Currying Function with an Arbitrary Number of Arguments\n",
    "\n",
    "One interesting question remains: How to curry a function across an arbitrary and unknown number of parameters?\n",
    "\n",
    "We can use a nested function to make it possible to \"curry\" (accumulate) the arguments. We will need a way to tell the function calculate and return the value. If the funtions is called with arguments, these will be curried, as we have said. What if we call the function without any arguments? Right, this is a fantastic way to tell the function that we finally want to the the result. We can also clean the lists with the accumulated values:"
   ]
  },
  {
   "cell_type": "code",
   "execution_count": 23,
   "metadata": {},
   "outputs": [
    {
     "name": "stdout",
     "output_type": "stream",
     "text": [
      "5.571428571428571\n",
      "4.666666666666667\n",
      "4.666666666666667\n"
     ]
    }
   ],
   "source": [
    "def arimean(*args):\n",
    "    return sum(args) / len(args)\n",
    "\n",
    "def curry(func):\n",
    "    # to keep the name of the curried function:\n",
    "    curry.__curried_func_name__ = func.__name__\n",
    "    f_args, f_kwargs = [], {}\n",
    "    def f(*args, **kwargs):\n",
    "        nonlocal f_args, f_kwargs\n",
    "        if args or kwargs:\n",
    "            f_args += args\n",
    "            f_kwargs.update(kwargs)\n",
    "            return f\n",
    "        else:\n",
    "            result = func(*f_args, *f_kwargs)\n",
    "            f_args, f_kwargs = [], {}\n",
    "            return result\n",
    "    return f\n",
    "            \n",
    "curried_arimean = curry(arimean)\n",
    "curried_arimean(2)(5)(9)(4, 5)\n",
    "# it will keep on currying:\n",
    "curried_arimean(5, 9)\n",
    "print(curried_arimean())\n",
    "\n",
    "# calculating the arithmetic mean of 3, 4, and 7\n",
    "print(curried_arimean(3)(4)(7)())\n",
    "\n",
    "# calculating the arithmetic mean of 4, 3, and 7\n",
    "print(curried_arimean(4)(3, 7)())"
   ]
  },
  {
   "cell_type": "markdown",
   "metadata": {},
   "source": [
    "Let's compare it with the result of the original arimean function:"
   ]
  },
  {
   "cell_type": "code",
   "execution_count": 25,
   "metadata": {},
   "outputs": [
    {
     "name": "stdout",
     "output_type": "stream",
     "text": [
      "5.571428571428571\n",
      "4.666666666666667\n",
      "4.666666666666667\n"
     ]
    }
   ],
   "source": [
    "print(arimean(2, 5, 9, 4, 5, 5, 9))\n",
    "print(arimean(3, 4, 7))\n",
    "print(arimean(4, 3, 7))"
   ]
  },
  {
   "cell_type": "markdown",
   "metadata": {},
   "source": [
    "Including some prints might help to understand what's going on:"
   ]
  },
  {
   "cell_type": "code",
   "execution_count": 26,
   "metadata": {},
   "outputs": [
    {
     "name": "stdout",
     "output_type": "stream",
     "text": [
      "Calling curried function with:\n",
      "args:  (2,) kwargs:  {}\n",
      "Currying the values:\n",
      "f_args:  [2]\n",
      "f_kwargs: {}\n",
      "Calling curried function with:\n",
      "args:  (5,) kwargs:  {}\n",
      "Currying the values:\n",
      "f_args:  [2, 5]\n",
      "f_kwargs: {}\n",
      "Calling curried function with:\n",
      "args:  (9,) kwargs:  {}\n",
      "Currying the values:\n",
      "f_args:  [2, 5, 9]\n",
      "f_kwargs: {}\n",
      "Calling curried function with:\n",
      "args:  (4, 5) kwargs:  {}\n",
      "Currying the values:\n",
      "f_args:  [2, 5, 9, 4, 5]\n",
      "f_kwargs: {}\n",
      "Calling curried function with:\n",
      "args:  (5, 9) kwargs:  {}\n",
      "Currying the values:\n",
      "f_args:  [2, 5, 9, 4, 5, 5, 9]\n",
      "f_kwargs: {}\n",
      "Calling arimean with:\n",
      "[2, 5, 9, 4, 5, 5, 9] {}\n",
      "5.571428571428571\n"
     ]
    }
   ],
   "source": [
    "def arimean(*args):\n",
    "    return sum(args) / len(args)\n",
    "\n",
    "def curry(func):\n",
    "    # to keep the name of the curried function:\n",
    "    curry.__curried_func_name__ = func.__name__\n",
    "    f_args, f_kwargs = [], {}\n",
    "    def f(*args, **kwargs):\n",
    "        nonlocal f_args, f_kwargs\n",
    "        if args or kwargs:\n",
    "            print(\"Calling curried function with:\")\n",
    "            print(\"args: \", args, \"kwargs: \", kwargs)\n",
    "            f_args += args\n",
    "            f_kwargs.update(kwargs)\n",
    "            print(\"Currying the values:\")\n",
    "            print(\"f_args: \", f_args)\n",
    "            print(\"f_kwargs:\", f_kwargs)\n",
    "            return f\n",
    "        else:\n",
    "            print(\"Calling \" + curry.__curried_func_name__ + \" with:\")\n",
    "            print(f_args, f_kwargs)\n",
    "\n",
    "            result = func(*f_args, *f_kwargs)\n",
    "            f_args, f_kwargs = [], {}\n",
    "            return result\n",
    "    return f\n",
    "            \n",
    "curried_arimean = curry(arimean)\n",
    "curried_arimean(2)(5)(9)(4, 5)\n",
    "# it will keep on currying:\n",
    "curried_arimean(5, 9)\n",
    "print(curried_arimean())"
   ]
  }
 ],
 "metadata": {
  "kernelspec": {
   "display_name": "Python 3",
   "language": "python",
   "name": "python3"
  },
  "language_info": {
   "codemirror_mode": {
    "name": "ipython",
    "version": 3
   },
   "file_extension": ".py",
   "mimetype": "text/x-python",
   "name": "python",
   "nbconvert_exporter": "python",
   "pygments_lexer": "ipython3",
   "version": "3.7.6"
  }
 },
 "nbformat": 4,
 "nbformat_minor": 4
}
