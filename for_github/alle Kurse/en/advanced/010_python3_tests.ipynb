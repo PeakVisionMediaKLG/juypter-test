{
 "cells": [
  {
   "cell_type": "markdown",
   "metadata": {},
   "source": [
    "## Python Tests\n",
    "\n",
    "\n",
    "### Errors and Tests\n",
    "\n",
    "<img width=150 height=300 class=\"imgright\" src=\"../images/to_err_is_human.webp\" srcset=\"../images/to_err_is_human_600w.webp 600w,../images/to_err_is_human_500w.webp 500w,../images/to_err_is_human_400w.webp 400w,../images/to_err_is_human_350w.webp 350w,../images/to_err_is_human_300w.webp 300w\" alt=\"To Err is Human\" />\n",
    " \n",
    "Usually, programmers and program developers spend a great deal of their time with debugging and testing. It's hard to give exact percentages, because it highly depends on other factors like the individual programming style, the problems to be solved and of course on the qualification of a programmer. Without doubt, the programming language is another important factor.\n",
    "\n",
    "You don't have to program to get pestered by errors, as even the ancient Romans knew. The philosopher Cicero coined more than 2000 years ago an unforgettable aphorism, which is often quoted: \"errare humanum est\"*\n",
    "This aphorism is often used as an excuse for failure. Even though it's hardly possible to completely eliminate all errors in a software product, we should always work ambitiously to this end, i.e. to keep the number of errors minimal.\n",
    "\n",
    "### Kinds of Errors\n",
    "There are various kinds of errors. During program development there are lots of \"small errors\", mostly typos. Whether a colon is missing - for example, behind an \"if\" or an \"else\" - or the keyword \"True\" is wrongly written with a lower case \"t\" can make a big difference. These errors are called syntactical errors.**\n",
    "In most cases, syntactical errors can easily be found, but other type of errors are harder to solve. A semantic error is a syntactically correct code, but the program doesn't behave in the intended way. Imagine somebody wants to increment the value of a variable x by one, but instead of \"x += 1\" he or she writes \"x = 1\".\n",
    "The following longer code example may harbour another semantic error:"
   ]
  },
  {
   "cell_type": "code",
   "execution_count": 3,
   "metadata": {},
   "outputs": [
    {
     "name": "stdin",
     "output_type": "stream",
     "text": [
      "x?  3\n",
      "y?  4\n"
     ]
    },
    {
     "name": "stdout",
     "output_type": "stream",
     "text": [
      "So what?\n"
     ]
    }
   ],
   "source": [
    "x = int(input(\"x? \"))\n",
    "y = int(input(\"y? \"))\n",
    "\n",
    "if x > 10:\n",
    "    if y == x:\n",
    "        print(\"Fine\")\n",
    "else:\n",
    "    print(\"So what?\")"
   ]
  },
  {
   "cell_type": "markdown",
   "metadata": {},
   "source": [
    "We can see two if statements. One nested inside of the other. The code is definitely syntactically correct. But it can be the case that the writer of the program only wanted to output \"So what?\", if the value of the variable x is both greater than 10 and x is not equal to y. In this case, the code should look like this:"
   ]
  },
  {
   "cell_type": "code",
   "execution_count": 4,
   "metadata": {},
   "outputs": [
    {
     "name": "stdin",
     "output_type": "stream",
     "text": [
      "x?  3\n",
      "y?  4\n"
     ]
    }
   ],
   "source": [
    "x = int(input(\"x? \"))\n",
    "y = int(input(\"y? \"))\n",
    "\n",
    "if x > 10:\n",
    "    if y == x:\n",
    "        print(\"Fine\")\n",
    "    else:\n",
    "        print(\"So what?\")"
   ]
  },
  {
   "cell_type": "markdown",
   "metadata": {},
   "source": [
    "Both code versions are syntactically correct, but one of them violates the intended semantics. Let's look at another example:"
   ]
  },
  {
   "cell_type": "code",
   "execution_count": 5,
   "metadata": {},
   "outputs": [
    {
     "name": "stdout",
     "output_type": "stream",
     "text": [
      "0\n",
      "1\n",
      "2\n",
      "3\n",
      "4\n",
      "5\n",
      "6\n"
     ]
    }
   ],
   "source": [
    "for i in range(7):\n",
    "     print(i)"
   ]
  },
  {
   "cell_type": "markdown",
   "metadata": {},
   "source": [
    "The statement ran without raising an exception, so we know that it is syntactically correct. Though it is not possible to decide if the statement is semantically correct, as we don't know the problem. It may be that the programmer wanted to output the numbers from 1 to 7, i.e. 1,2,...7\n",
    "In this case, he or she does not properly understand the range function.\n",
    "\n",
    "So we can divide semantic errors into two categories.\n",
    "\n",
    "- Errors caused by lack of understanding of a language construct.\n",
    "- Errors due to logically incorrect code conversion.\n",
    "\n",
    "\n",
    "\n",
    "### Unit Tests\n",
    "\n",
    "<img width=150 height=300 class=\"imgright\" src=\"../images/thermometer.webp\" srcset=\"../images/thermometer_400w.webp 400w,../images/thermometer_350w.webp 350w,../images/thermometer_300w.webp 300w\" alt=\"Taking the Temperature \" />\n",
    " \n",
    "\n",
    "This paragraph is about unit tests. As the name implies they are used for testing units or components of the code, typically, classes or functions. The underlying concept is to simplify the testing of large programming systems by testing \"small\" units. To accomplish this the parts of a program have to be isolated into independent testable \"units\". One can define \"unit testing\" as a method whereby individual units of source code are tested to determine if they meet the requirements, i.e. return the expected output for all possible - or defined - input data. A unit can be seen as the smallest testable part of a program, which are often functions or methods from classes. Testing one unit should be independent from the other units as a unit is \"quite\" small, i.e. manageable to ensure complete correctness. Usually, this is not possible for large scale systems like large software programs or operating systems.\n",
    "\n",
    "### Module Tests with __name__\n",
    "Every module has a name, which is defined in the built-in attribute ```__name__```. Let's assume that we have written a module \"xyz\" which we have saved as \"xyz.py\". If we import this module with \"import xyz\", the string \"xyz\" will be assigned to ```__name__```. If we call the file xyz.py as a standalone program, i.e. in the following way,\n",
    "\n",
    "<pre>\n",
    "$python3 xyz.py\n",
    "</pre>\n",
    "\n",
    "the value of ```__name__``` will be the string ```'__main__'```.\n",
    "\n",
    "The following module can be used for calculating fibonacci numbers. But it is not important what the module is doing. We want to demonstrate, how it is possible to create a simple module test inside of a module file, - in our case the file \"xyz.py\", - by using an if statement and checking the value of ```__name__```. We check if the module has been started standalone, in which case the value of ```__name__``` will be ```__main__```. Please save the following code as \"fibonacci1.py\":\n",
    "\n",
    "-Fibonacci Module- "
   ]
  },
  {
   "cell_type": "code",
   "execution_count": 6,
   "metadata": {},
   "outputs": [],
   "source": [
    "def fib(n):\n",
    "    \"\"\" Calculates the n-th Fibonacci number iteratively \"\"\"\n",
    "    a, b = 0, 1\n",
    "    for i in range(n):\n",
    "        a, b = b, a + b\n",
    "    return a\n",
    "\n",
    "def fiblist(n):\n",
    "    \"\"\" creates a list of Fibonacci numbers up to the n-th generation \"\"\"\n",
    "    fib = [0,1]\n",
    "    for i in range(1,n):\n",
    "        fib += [fib[-1]+fib[-2]]\n",
    "    return fib"
   ]
  },
  {
   "cell_type": "markdown",
   "metadata": {},
   "source": [
    "It's possible to test this module manually in the interactive Python shell:"
   ]
  },
  {
   "cell_type": "code",
   "execution_count": 7,
   "metadata": {},
   "outputs": [
    {
     "name": "stdout",
     "output_type": "stream",
     "text": [
      "Test for the fib function was successful!\n"
     ]
    },
    {
     "data": {
      "text/plain": [
       "0"
      ]
     },
     "execution_count": 7,
     "metadata": {},
     "output_type": "execute_result"
    }
   ],
   "source": [
    "from fibonacci1 import fib, fiblist\n",
    "fib(0)"
   ]
  },
  {
   "cell_type": "code",
   "execution_count": 8,
   "metadata": {},
   "outputs": [
    {
     "data": {
      "text/plain": [
       "1"
      ]
     },
     "execution_count": 8,
     "metadata": {},
     "output_type": "execute_result"
    }
   ],
   "source": [
    "fib(1)"
   ]
  },
  {
   "cell_type": "code",
   "execution_count": 9,
   "metadata": {},
   "outputs": [
    {
     "data": {
      "text/plain": [
       "55"
      ]
     },
     "execution_count": 9,
     "metadata": {},
     "output_type": "execute_result"
    }
   ],
   "source": [
    "fib(10)"
   ]
  },
  {
   "cell_type": "code",
   "execution_count": 10,
   "metadata": {},
   "outputs": [
    {
     "data": {
      "text/plain": [
       "[0, 1, 1, 2, 3, 5, 8, 13, 21, 34, 55]"
      ]
     },
     "execution_count": 10,
     "metadata": {},
     "output_type": "execute_result"
    }
   ],
   "source": [
    "fiblist(10)"
   ]
  },
  {
   "cell_type": "code",
   "execution_count": 11,
   "metadata": {},
   "outputs": [
    {
     "data": {
      "text/plain": [
       "[0, 1]"
      ]
     },
     "execution_count": 11,
     "metadata": {},
     "output_type": "execute_result"
    }
   ],
   "source": [
    "fiblist(-8)"
   ]
  },
  {
   "cell_type": "code",
   "execution_count": 12,
   "metadata": {},
   "outputs": [
    {
     "data": {
      "text/plain": [
       "0"
      ]
     },
     "execution_count": 12,
     "metadata": {},
     "output_type": "execute_result"
    }
   ],
   "source": [
    "fib(-1)"
   ]
  },
  {
   "cell_type": "code",
   "execution_count": 13,
   "metadata": {},
   "outputs": [
    {
     "ename": "TypeError",
     "evalue": "'float' object cannot be interpreted as an integer",
     "output_type": "error",
     "traceback": [
      "\u001b[0;31m---------------------------------------------------------------------------\u001b[0m",
      "\u001b[0;31mTypeError\u001b[0m                                 Traceback (most recent call last)",
      "\u001b[0;32m<ipython-input-13-d518fced90e3>\u001b[0m in \u001b[0;36m<module>\u001b[0;34m\u001b[0m\n\u001b[0;32m----> 1\u001b[0;31m \u001b[0mfib\u001b[0m\u001b[0;34m(\u001b[0m\u001b[0;36m0.5\u001b[0m\u001b[0;34m)\u001b[0m\u001b[0;34m\u001b[0m\u001b[0;34m\u001b[0m\u001b[0m\n\u001b[0m",
      "\u001b[0;32m~/Dropbox (Bodenseo)/Bodenseo Team Folder/melisa/notebooks_en/fibonacci1.py\u001b[0m in \u001b[0;36mfib\u001b[0;34m(n)\u001b[0m\n\u001b[1;32m      2\u001b[0m     \u001b[0;34m\"\"\" Calculates the n-th Fibonacci number iteratively \"\"\"\u001b[0m\u001b[0;34m\u001b[0m\u001b[0;34m\u001b[0m\u001b[0m\n\u001b[1;32m      3\u001b[0m     \u001b[0ma\u001b[0m\u001b[0;34m,\u001b[0m \u001b[0mb\u001b[0m \u001b[0;34m=\u001b[0m \u001b[0;36m0\u001b[0m\u001b[0;34m,\u001b[0m \u001b[0;36m1\u001b[0m\u001b[0;34m\u001b[0m\u001b[0;34m\u001b[0m\u001b[0m\n\u001b[0;32m----> 4\u001b[0;31m     \u001b[0;32mfor\u001b[0m \u001b[0mi\u001b[0m \u001b[0;32min\u001b[0m \u001b[0mrange\u001b[0m\u001b[0;34m(\u001b[0m\u001b[0mn\u001b[0m\u001b[0;34m)\u001b[0m\u001b[0;34m:\u001b[0m\u001b[0;34m\u001b[0m\u001b[0;34m\u001b[0m\u001b[0m\n\u001b[0m\u001b[1;32m      5\u001b[0m         \u001b[0ma\u001b[0m\u001b[0;34m,\u001b[0m \u001b[0mb\u001b[0m \u001b[0;34m=\u001b[0m \u001b[0mb\u001b[0m\u001b[0;34m,\u001b[0m \u001b[0ma\u001b[0m \u001b[0;34m+\u001b[0m \u001b[0mb\u001b[0m\u001b[0;34m\u001b[0m\u001b[0;34m\u001b[0m\u001b[0m\n\u001b[1;32m      6\u001b[0m     \u001b[0;32mreturn\u001b[0m \u001b[0ma\u001b[0m\u001b[0;34m\u001b[0m\u001b[0;34m\u001b[0m\u001b[0m\n",
      "\u001b[0;31mTypeError\u001b[0m: 'float' object cannot be interpreted as an integer"
     ]
    }
   ],
   "source": [
    "fib(0.5)"
   ]
  },
  {
   "cell_type": "markdown",
   "metadata": {},
   "source": [
    "We can see that the functions make only sense, if the input consists of positive integers. The function fib returns 0 for a negative input and fiblist returns always the list [0,1], if the input is a negative integer. Both functions raise a TypeError exception, because the range function is not defined for floats.\n",
    "We can test our module by checking the return values for some characteristic calls to fib() and fiblist().\n",
    "So we can add the following if statement \n",
    "```\n",
    "if fib(0) == 0 and fib(10) == 55 and fib(50) == 12586269025:\n",
    "    print(\"Test for the fib function was successful!\")\n",
    "else:\n",
    "    print(\"The fib function is returning wrong values!\")\n",
    "```\n",
    "\n",
    "to our module, but give it a new name ```fibonacci2.py```. We can import this module now in a Python shell or inside of a Python program. If the program with the import gets executed, we receive the following output:"
   ]
  },
  {
   "cell_type": "code",
   "execution_count": 14,
   "metadata": {},
   "outputs": [
    {
     "name": "stdout",
     "output_type": "stream",
     "text": [
      "Test for the fib function was successful!\n"
     ]
    }
   ],
   "source": [
    "import fibonacci2"
   ]
  },
  {
   "cell_type": "markdown",
   "metadata": {},
   "source": [
    "This approach has a crucial disadvantage. If we import the module, we will get output, saying the test was okay. This is omething we don't want to see, when we import the module. Apart from being disturbing it is not common practice. Modules should be silent when being imported, i.e. modules should not produce any output. We can prevent this from happening by using the special built-in variable ```__name__```. We can guard the test code by putting it inside the following if statement:\n",
    "\n",
    "```\n",
    "if __name__ == \"__main__\":\n",
    "    if fib(0) == 0 and fib(10) == 55 and fib(50) == 12586269025:\n",
    "        print(\"Test for the fib function was successful!\")\n",
    "    else:\n",
    "        print(\"The fib function is returning wrong values!\")\n",
    "```\n",
    "\n",
    "The value of the variable ```__name__```  is set automatically by Python.\n",
    "Let us imagine that we import some crazy module with the names foobar.py blubla.py and blimblam.py, the values of the variable ```__name__``` will be ```foobar```, ```blubla``` and ```blimblam``` correspondingly.\n",
    "\n",
    "If we change our fibonacci module correspondingly and save it as fibonacci3.py, we get a silent import:"
   ]
  },
  {
   "cell_type": "code",
   "execution_count": 16,
   "metadata": {},
   "outputs": [],
   "source": [
    "import fibonacci3"
   ]
  },
  {
   "cell_type": "markdown",
   "metadata": {},
   "source": [
    "We were successful at silencing the output. Yet, our module should perform the test, if it is started standalone. \n",
    "\n",
    "```\n",
    "(base) bernd@moon:~/$ python fibonacci3.py \n",
    "Test for the fib function was successful!\n",
    "(base) bernd@moon:~/$\n",
    "```\n",
    "If you want to start a Python program from inside of another Python program, you can do this by using the ```exec``` command, as we do in the following code:"
   ]
  },
  {
   "cell_type": "code",
   "execution_count": 18,
   "metadata": {},
   "outputs": [
    {
     "name": "stdout",
     "output_type": "stream",
     "text": [
      "Test for the fib function was successful!\n"
     ]
    }
   ],
   "source": [
    "exec(open(\"fibonacci3.py\").read())"
   ]
  },
  {
   "cell_type": "markdown",
   "metadata": {},
   "source": [
    "We will deliberately add an error into our code now.\n",
    "\n",
    "We change the following line\n",
    "\n",
    "<pre> a, b = 0, 1 </pre>  \n",
    "\n",
    "into\n",
    "\n",
    "<pre> a, b = 1, 1 </pre>\n",
    "\n",
    "and save as fibonacci4.py.\n",
    "\n",
    "Principally, the function fib is still calculating the Fibonacci values, but fib(n) is returning the Fibonacci value for the argument \"n+1\". If we call our changed module, we receive this error message:"
   ]
  },
  {
   "cell_type": "code",
   "execution_count": 2,
   "metadata": {},
   "outputs": [
    {
     "name": "stdout",
     "output_type": "stream",
     "text": [
      "The fib function is returning wrong values!\n"
     ]
    }
   ],
   "source": [
    "exec(open(\"fibonacci4.py\").read())"
   ]
  },
  {
   "cell_type": "markdown",
   "metadata": {},
   "source": [
    "Let's rewrite our module:"
   ]
  },
  {
   "cell_type": "code",
   "execution_count": 25,
   "metadata": {},
   "outputs": [
    {
     "name": "stdout",
     "output_type": "stream",
     "text": [
      "Test for the fib function was successful!\n"
     ]
    }
   ],
   "source": [
    "\"\"\" Fibonacci Module \"\"\"\n",
    "def fib(n):\n",
    "    \"\"\" Calculates the n-th Fibonacci number iteratively \"\"\"\n",
    "    a, b = 0, 1\n",
    "    for i in range(n):\n",
    "        a, b = b, a + b\n",
    "    return a\n",
    "\n",
    "def fiblist(n):\n",
    "    \"\"\" creates a list of Fibonacci numbers up to the n-th generation \"\"\"\n",
    "    fib = [0,1]\n",
    "    for i in range(1,n):\n",
    "        fib += [fib[-1]+fib[-2]]\n",
    "    return fib\n",
    "\n",
    "if __name__ == \"__main__\":\n",
    "    if fib(0) == 0 and fib(10) == 55 and fib(50) == 12586269025:\n",
    "        print(\"Test for the fib function was successful!\")\n",
    "    else:\n",
    "        print(\"The fib function is returning wrong values!\")"
   ]
  },
  {
   "cell_type": "code",
   "execution_count": 1,
   "metadata": {},
   "outputs": [],
   "source": [
    "import fibonacci5"
   ]
  },
  {
   "cell_type": "markdown",
   "metadata": {},
   "source": [
    "We have squelched our module now. There will be no messages, if the module is imported.\n",
    "This is the simplest and widest used method for unit tests. But it is definitely not the best one.\n",
    "\n",
    "### doctest Module\n",
    "The doctest module is often considered easier to use than the unittest, though the latter is more suitable for more complex tests. doctest is a test framework that comes prepackaged with Python. The doctest module searches for pieces of text that look like interactive Python sessions inside the documentation parts of a module, and then executes (or reexecutes) the commands of those sessions to verify that they work exactly as shown, i.e. that the same results can be achieved. In other words: The help text of the module is parsed, for example, python sessions. These examples are run and the results are compared to the expected value.\n",
    "\n",
    "Usage of doctest:\n",
    "\"doctest\" has to be imported. The part of an interactive Python sessions with the examples and the output has to be copied inside the docstring the corresponding function.\n",
    "\n",
    "We demonstrate this way of proceeding with the following simple example. We have slimmed down the previous module, so that only the function fib is left:"
   ]
  },
  {
   "cell_type": "code",
   "execution_count": 2,
   "metadata": {},
   "outputs": [],
   "source": [
    "import doctest\n",
    "\n",
    "def fib(n):\n",
    "    \"\"\" Calculates the n-th Fibonacci number iteratively \"\"\"\n",
    "    a, b = 0, 1\n",
    "    for i in range(n):\n",
    "        a, b = b, a + b\n",
    "    return a"
   ]
  },
  {
   "cell_type": "markdown",
   "metadata": {},
   "source": [
    "We now call this module in an interactive Python shell and do some calculations:"
   ]
  },
  {
   "cell_type": "code",
   "execution_count": 3,
   "metadata": {},
   "outputs": [
    {
     "data": {
      "text/plain": [
       "0"
      ]
     },
     "execution_count": 3,
     "metadata": {},
     "output_type": "execute_result"
    }
   ],
   "source": [
    "from fibonacci import fib\n",
    "fib(0)"
   ]
  },
  {
   "cell_type": "code",
   "execution_count": 4,
   "metadata": {},
   "outputs": [
    {
     "data": {
      "text/plain": [
       "1"
      ]
     },
     "execution_count": 4,
     "metadata": {},
     "output_type": "execute_result"
    }
   ],
   "source": [
    "fib(1)"
   ]
  },
  {
   "cell_type": "code",
   "execution_count": 5,
   "metadata": {},
   "outputs": [
    {
     "data": {
      "text/plain": [
       "55"
      ]
     },
     "execution_count": 5,
     "metadata": {},
     "output_type": "execute_result"
    }
   ],
   "source": [
    "fib(10)"
   ]
  },
  {
   "cell_type": "code",
   "execution_count": 6,
   "metadata": {},
   "outputs": [
    {
     "data": {
      "text/plain": [
       "610"
      ]
     },
     "execution_count": 6,
     "metadata": {},
     "output_type": "execute_result"
    }
   ],
   "source": [
    "fib(15)"
   ]
  },
  {
   "cell_type": "markdown",
   "metadata": {},
   "source": [
    "We copy the complete session of the interactive shell into the docstring of our function. To start the module doctest we have to call the method testmod(), but only if the module is called standalone. The complete module looks like this now:"
   ]
  },
  {
   "cell_type": "code",
   "execution_count": 7,
   "metadata": {},
   "outputs": [],
   "source": [
    "import doctest\n",
    "\n",
    "def fib(n):\n",
    "    \"\"\" \n",
    "    Calculates the n-th Fibonacci number iteratively  \n",
    "\n",
    "    >>> fib(0)\n",
    "    0\n",
    "    >>> fib(1)\n",
    "    1\n",
    "    >>> fib(10) \n",
    "    55\n",
    "    >>> fib(15)\n",
    "    610\n",
    "    >>> \n",
    "\n",
    "    \"\"\"\n",
    "    a, b = 0, 1\n",
    "    for i in range(n):\n",
    "        a, b = b, a + b\n",
    "    return a\n",
    "\n",
    "if __name__ == \"__main__\": \n",
    "    doctest.testmod()"
   ]
  },
  {
   "cell_type": "markdown",
   "metadata": {},
   "source": [
    "If we start our module directly like this"
   ]
  },
  {
   "cell_type": "code",
   "execution_count": 8,
   "metadata": {},
   "outputs": [],
   "source": [
    "import fibonacci_doctest"
   ]
  },
  {
   "cell_type": "markdown",
   "metadata": {},
   "source": [
    "we get no output, because everything is okay.\n",
    "\n",
    "To see how doctest works, if something is wrong, we place an error in our code:\n",
    "We change again\n",
    "\n",
    "a, b = 0, 1\n",
    "\n",
    "into\n",
    "\n",
    "a, b = 1, 1\n",
    "\n",
    "and save the file as fibonacci_doctest1.py"
   ]
  },
  {
   "cell_type": "code",
   "execution_count": 11,
   "metadata": {},
   "outputs": [
    {
     "name": "stdout",
     "output_type": "stream",
     "text": [
      "**********************************************************************\n",
      "File \"__main__\", line 7, in __main__.fib\n",
      "Failed example:\n",
      "    fib(0)\n",
      "Expected:\n",
      "    0\n",
      "Got:\n",
      "    1\n",
      "**********************************************************************\n",
      "File \"__main__\", line 11, in __main__.fib\n",
      "Failed example:\n",
      "    fib(10) \n",
      "Expected:\n",
      "    55\n",
      "Got:\n",
      "    89\n",
      "**********************************************************************\n",
      "File \"__main__\", line 13, in __main__.fib\n",
      "Failed example:\n",
      "    fib(15)\n",
      "Expected:\n",
      "    610\n",
      "Got:\n",
      "    987\n",
      "**********************************************************************\n",
      "1 items had failures:\n",
      "   3 of   4 in __main__.fib\n",
      "***Test Failed*** 3 failures.\n"
     ]
    }
   ],
   "source": [
    "exec(open(\"fibonacci_doctest1.py\").read())"
   ]
  },
  {
   "cell_type": "markdown",
   "metadata": {},
   "source": [
    "The output depicts all the calls, which return faulty results. We can see the call with the arguments in the line following \"Failed example:\". We can see the expected value for the argument in the line following \"Expected:\". The output shows us the newly calculated value as well. We can find this value behind \"Got:\"\n",
    "\n",
    "### Test-driven Development (TDD)\n",
    "In the previous chapters, we tested functions, which we had already been finished. What about testing code you haven't yet written? You think that this is not possible? It is not only possible, it is the underlying idea of test-driven development. In the extreme case, you define tests before you start coding the actual source code. The program developer writes an automated test case which defines the desired \"behaviour\" of a function. This test case will - that's the idea behind the approach - initially fail, because the code has still to be written.\n",
    "\n",
    "The major problem or difficulty of this approach is the task of writing suitable tests. Naturally, the perfect test would check all possible inputs and validate the output. Of course, this is generally not always feasible.\n",
    "\n",
    "We have set the return value of the fib function to 0 in the following example:"
   ]
  },
  {
   "cell_type": "code",
   "execution_count": 12,
   "metadata": {},
   "outputs": [
    {
     "name": "stdout",
     "output_type": "stream",
     "text": [
      "**********************************************************************\n",
      "File \"__main__\", line 9, in __main__.fib\n",
      "Failed example:\n",
      "    fib(1)\n",
      "Expected:\n",
      "    1\n",
      "Got:\n",
      "    0\n",
      "**********************************************************************\n",
      "File \"__main__\", line 11, in __main__.fib\n",
      "Failed example:\n",
      "    fib(10) \n",
      "Expected:\n",
      "    55\n",
      "Got:\n",
      "    0\n",
      "**********************************************************************\n",
      "File \"__main__\", line 13, in __main__.fib\n",
      "Failed example:\n",
      "    fib(15)\n",
      "Expected:\n",
      "    610\n",
      "Got:\n",
      "    0\n",
      "**********************************************************************\n",
      "1 items had failures:\n",
      "   3 of   4 in __main__.fib\n",
      "***Test Failed*** 3 failures.\n"
     ]
    }
   ],
   "source": [
    "import doctest\n",
    "\n",
    "def fib(n):\n",
    "    \"\"\" \n",
    "    Calculates the n-th Fibonacci number iteratively \n",
    "\n",
    "    >>> fib(0)\n",
    "    0\n",
    "    >>> fib(1)\n",
    "    1\n",
    "    >>> fib(10) \n",
    "    55\n",
    "    >>> fib(15)\n",
    "    610\n",
    "    >>> \n",
    "\n",
    "    \"\"\"\n",
    "\n",
    "    return 0\n",
    "\n",
    "if __name__ == \"__main__\": \n",
    "    doctest.testmod()"
   ]
  },
  {
   "cell_type": "markdown",
   "metadata": {},
   "source": [
    "It hardly needs mentioning that the function returns only wrong return values  except for fib(0)."
   ]
  },
  {
   "cell_type": "markdown",
   "metadata": {},
   "source": [
    "Now we have to keep on writing and changing the code for the function fib until it passes the test.\n",
    "\n",
    "This test approach is a method of software development, which is called test-driven development.\n",
    "\n",
    "### unittest\n",
    "The Python module unittest is a unit testing framework, which is based on Erich Gamma's JUnit and Kent Beck's Smalltalk testing framework. The module contains the core framework classes that form the basis of the test cases and suites (TestCase, TestSuite and so on), and also a text-based utility class for running the tests and reporting the results (TextTestRunner).\n",
    "The most obvious difference to the module \"doctest\" lies in the fact that the test cases of the module \"unittest\" are not defined inside the module, which has to be tested. The major advantage is clear: program documentation and test descriptions are separate from each other. The price you have to pay on the other hand, is an increase of work to create the test cases.\n",
    "\n",
    "We will use our module fibonacci once more to create a test case with unittest. To this purpose we create a file fibonacci_unittest.py. In this file we have to import unittest and the module which has to be tested, i.e. fibonacci.\n",
    "\n",
    "Furthermore, we have to create a class with an arbitrary name - we will call it \"FibonacciTest\" - which inherits from unittest.TestCase. The test cases are defined in this class by using methods. The name of these methods is arbitrary, but has to start with test. In our method \"testCalculation\" we use the method assertEqual from the class TestCase. assertEqual(first, second, msg = None) checks, if expression \"first\" is equal to the expression \"second\". If the two expressions are not equal, msg will be output, if msg is not None."
   ]
  },
  {
   "cell_type": "markdown",
   "metadata": {},
   "source": [
    "<pre>\n",
    "\n",
    "import unittest\n",
    "from fibonacci1 import fib\n",
    "\n",
    "class FibonacciTest(unittest.TestCase):\n",
    "\n",
    "    def testCalculation(self):\n",
    "        self.assertEqual(fib(0), 0)\n",
    "        self.assertEqual(fib(1), 1)\n",
    "        self.assertEqual(fib(5), 5)\n",
    "        self.assertEqual(fib(10), 55)\n",
    "        self.assertEqual(fib(20), 6765)\n",
    "        \n",
    "if __name__ == \"__main__\": \n",
    "    unittest.main() \n",
    "<pre>\n",
    "    "
   ]
  },
  {
   "cell_type": "markdown",
   "metadata": {},
   "source": [
    "If we call this test case, we get the following output:     "
   ]
  },
  {
   "cell_type": "markdown",
   "metadata": {},
   "source": [
    "<pre>\n",
    "$ python3 fibonacci_unittest.py \n",
    ".\n",
    "----------------------------------------------------------------------\n",
    "Ran 1 test in 0.000s\n",
    "\n",
    "OK\n",
    "</pre>"
   ]
  },
  {
   "cell_type": "markdown",
   "metadata": {},
   "source": [
    "This is usually the desired result, but we are now interested what happens in the error case. Therefore we will create our previous error again. We change again the well-known line:\n",
    "\n",
    "<pre>\n",
    "a, b = 0, 1\n",
    "</pre>\n",
    "\n",
    "will be changed to\n",
    "<pre>\n",
    "a, b = 1, 1\n",
    "</pre>"
   ]
  },
  {
   "cell_type": "markdown",
   "metadata": {},
   "source": [
    "<pre>\n",
    "import unittest\n",
    "from fibonacci3 import fib\n",
    "\n",
    "class FibonacciTest(unittest.TestCase):\n",
    "\n",
    "    def testCalculation(self):\n",
    "        self.assertEqual(fib(0), 0)\n",
    "        self.assertEqual(fib(1), 1)\n",
    "        self.assertEqual(fib(5), 5)\n",
    "        self.assertEqual(fib(10), 55)\n",
    "        self.assertEqual(fib(20), 6765)\n",
    "        \n",
    "if __name__ == \"__main__\": \n",
    "    unittest.main()\n",
    "</pre>"
   ]
  },
  {
   "cell_type": "markdown",
   "metadata": {},
   "source": [
    "Now the test result looks like this:"
   ]
  },
  {
   "cell_type": "markdown",
   "metadata": {},
   "source": [
    "<pre>\n",
    "$ python3 fibonacci_unittest.py \n",
    "F\n",
    "======================================================================\n",
    "FAIL: testCalculation (__main__.FibonacciTest)\n",
    "----------------------------------------------------------------------\n",
    "Traceback (most recent call last):\n",
    "  File \"fibonacci_unittest.py\", line 7, in testCalculation\n",
    "    self.assertEqual(fib(0), 0)\n",
    "AssertionError: 1 != 0\n",
    "\n",
    "----------------------------------------------------------------------\n",
    "Ran 1 test in 0.000s\n",
    "\n",
    "FAILED (failures=1)\n",
    "</pre>"
   ]
  },
  {
   "cell_type": "markdown",
   "metadata": {},
   "source": [
    "The first statement in testCalculation has created an exception. The other assertEqual calls had not been executed. We correct our error and create a new one. Now all the values will be correct, except if the input argument is 20:"
   ]
  },
  {
   "cell_type": "markdown",
   "metadata": {},
   "source": [
    "<pre>\n",
    "def fib(n):\n",
    "    \"\"\" Iterative Fibonacci Function \"\"\"\n",
    "    a, b = 0, 1\n",
    "    for i in range(n):\n",
    "        a, b = b, a + b\n",
    "    if n == 20:\n",
    "        a = 42    \n",
    "    return a\n",
    "</pre>"
   ]
  },
  {
   "cell_type": "markdown",
   "metadata": {},
   "source": [
    "The output of a test run looks now like this: "
   ]
  },
  {
   "cell_type": "markdown",
   "metadata": {},
   "source": [
    "<pre>\n",
    "$ python3 fibonacci_unittest.py \n",
    "blabal\n",
    "F\n",
    "======================================================================\n",
    "FAIL: testCalculation (__main__.FibonacciTest)\n",
    "----------------------------------------------------------------------\n",
    "Traceback (most recent call last):\n",
    "  File \"fibonacci_unittest.py\", line 12, in testCalculation\n",
    "    self.assertEqual(fib(20), 6765)\n",
    "AssertionError: 42 != 6765\n",
    "\n",
    "----------------------------------------------------------------------\n",
    "Ran 1 test in 0.000s\n",
    "\n",
    "FAILED (failures=1)\n",
    "<pre>"
   ]
  },
  {
   "cell_type": "markdown",
   "metadata": {},
   "source": [
    "All the statements of testCalculation have been executed, but we haven't seen any output, because everything was okay:\n",
    "\n",
    "        self.assertEqual(fib(0), 0)\n",
    "        self.assertEqual(fib(1), 1)\n",
    "        self.assertEqual(fib(5), 5)\n",
    "\n"
   ]
  },
  {
   "cell_type": "markdown",
   "metadata": {},
   "source": [
    "\n",
    "Methods of the Class TestCase\n",
    "We now have a closer look at the class TestCase.\n",
    "\n",
    "<table  cellpadding=\"6\" cellspacing=\"0\" border=\"1\" bgcolor=\"#F5F5F5\">\n",
    "<colgroup>\n",
    "<col width=\"28%\" />\n",
    "<col width=\"72%\" />\n",
    "</colgroup>\n",
    "<thead valign=\"bottom\">\n",
    "<tr><th class=\"head\">Method</th>\n",
    "<th class=\"head\">Meaning</th>\n",
    "</tr>\n",
    "</thead>\n",
    "\n",
    "<tbody valign=\"top\">\n",
    "\n",
    "<tr>\n",
    "<td><tt><span class=\"pre\">setUp()</span></tt></td>\n",
    "<td>Hook method for setting up the test fixture before exercising it. This method is called before calling the implemented test methods.\n",
    "</td>\n",
    "</tr>\n",
    "\n",
    "<tr>\n",
    "<td><tt><span class=\"pre\">tearDown()</span></tt></td>\n",
    "<td>Hook method for deconstructing the class fixture after running all tests in the class.</td>\n",
    "</tr>\n",
    "\n",
    "<tr>\n",
    "<td><tt><span class=\"pre\">assertEqual(self, first, second, msg=None)</span></tt></td>\n",
    "<td>The test fails if the two objects are not equal as determined by the '==' operator.</td>\n",
    "</tr>\n",
    "\n",
    "<tr>\n",
    "<td><tt><span class=\"pre\">assertAlmostEqual(self, first, second, places=None, msg=None, delta=None)</span></tt></td>\n",
    "<td>The test fails if the two objects are unequal as determined by their difference rounded to the given number of \n",
    "decimal places (default 7) and comparing to zero, or by comparing that the between the two objects is more than \n",
    "the given delta.\n",
    "<br>\n",
    "Note that decimal places (from zero) are usually not the same as significant digits (measured from the most significant digit).\n",
    "<br>\n",
    "If the two objects compare equal then they will automatically compare almost equal.\n",
    "</td>\n",
    "</tr>\n",
    "\n",
    "<tr>\n",
    "<td><tt><span class=\"pre\">assertCountEqual(self, first, second, msg=None)</span></tt></td>\n",
    "<td>An unordered sequence comparison asserting that the same elements, regardless of order.  If the same element \n",
    "occurs more than once, it verifies that the elements occur the same number of times.\n",
    "<br><tt> self.assertEqual(Counter(list(first)),\n",
    "                      Counter(list(second)))</tt>\n",
    "<br>\n",
    "Example:\n",
    "<br>\n",
    "<tt>[0, 1, 1]</tt> and <tt>[1, 0, 1]</tt> compare equal, because the number of ones and zeroes are the same.\n",
    "<br>\n",
    "<tt>[0, 0, 1]</tt> and <tt>[0, 1]</tt> compare unequal, because zero appears twice in the first list and only \n",
    "once in the second list.\n",
    "<br>\n",
    "</td>\n",
    "</tr>\n",
    "\n",
    "\n",
    "\n",
    "<tr>\n",
    "<td><tt><span class=\"pre\">assertDictEqual(self, d1, d2, msg=None)</span></tt></td>\n",
    "<td>Both arguments are taken as dictionaries and they are checked if they are equal.</td>\n",
    "</tr>\n",
    "\n",
    "<tr>\n",
    "<td><tt><span class=\"pre\">assertTrue(self, expr, msg=None)</span></tt></td>\n",
    "<td>Checks if the expression \"expr\" is True.</td>\n",
    "</tr>\n",
    "\n",
    "<tr>\n",
    "<td><tt><span class=\"pre\">assertGreater(self, a, b, msg=None)</span></tt></td>\n",
    "<td>Checks, if a &gt; b is True.</td>\n",
    "</tr>\n",
    "\n",
    "<tr>\n",
    "<td><tt><span class=\"pre\">assertGreaterEqual(self, a, b, msg=None)</span></tt></td>\n",
    "<td>Checks if a &ge; b</td>\n",
    "</tr>\n",
    "\n",
    "<tr>\n",
    "<td><tt><span class=\"pre\">assertFalse(self, expr, msg=None)</span></tt></td>\n",
    "<td>Checks if expression \"expr\" is False.</td>\n",
    "</tr>\n",
    "\n",
    "<tr>\n",
    "<td><tt><span class=\"pre\">assertLess(self, a, b, msg=None)</span></tt></td>\n",
    "<td>Checks if a &lt; b</td>\n",
    "</tr>\n",
    "\n",
    "<tr>\n",
    "<td><tt><span class=\"pre\">assertLessEqual(self, a, b, msg=None)</span></tt></td>\n",
    "<td>Checks if a &le; b</td>\n",
    "</tr>\n",
    "\n",
    "<tr>\n",
    "<td><tt><span class=\"pre\">assertIn(self, member, container, msg=None)</span></tt></td>\n",
    "<td>Checks if a in b</td>\n",
    "</tr>\n",
    "\n",
    "<tr>\n",
    "<td><tt><span class=\"pre\">assertIs(self, expr1, expr2, msg=None)</span></tt></td>\n",
    "<td>Checks if \"a\" is \"b\"</td>\n",
    "</tr>\n",
    "\n",
    "<tr>\n",
    "<td><tt><span class=\"pre\">assertIsInstance(self, obj, cls, msg=None)</span></tt></td>\n",
    "<td>Checks if isinstance(obj, cls).</td>\n",
    "</tr>\n",
    "\n",
    "<tr>\n",
    "<td><tt><span class=\"pre\">assertIsNone(self, obj, msg=None)</span></tt></td>\n",
    "<td>Checks if \"obj is None\"</td>\n",
    "</tr>\n",
    "\n",
    "<tr>\n",
    "<td><tt><span class=\"pre\">assertIsNot(self, expr1, expr2, msg=None)</span></tt></td>\n",
    "<td>Checks if \"a\" is not \"b\"</td>\n",
    "</tr>\n",
    "\n",
    "<tr>\n",
    "<td><tt><span class=\"pre\">assertIsNotNone(self, obj, msg=None)</span></tt></td>\n",
    "<td>Checks if  obj is not equal to None</td>\n",
    "</tr>\n",
    "\n",
    "\n",
    "<tr>\n",
    "<td><tt><span class=\"pre\">assertListEqual(self, list1, list2, msg=None)</span></tt></td>\n",
    "<td>Lists are checked for equality.</td>\n",
    "</tr>\n",
    "\n",
    "<tr>\n",
    "<td><tt><span class=\"pre\">assertMultiLineEqual(self, first, second, msg=None)</span></tt></td>\n",
    "<td>Assert that two multi-line strings are equal.</td>\n",
    "</tr>\n",
    "\n",
    "<tr>\n",
    "<td><tt><span class=\"pre\">assertNotRegexpMatches(self, text, unexpected_regexp, msg=None)</span></tt></td>\n",
    "<td>Fails, if the text Text \"text\" of the regular expression unexpected_regexp matches.</td>\n",
    "</tr>\n",
    "\n",
    "<tr>\n",
    "<td><tt><span class=\"pre\">assertTupleEqual(self, tuple1, tuple2, msg=None)</span></tt></td>\n",
    "<td>Analogous to assertListEqual</td>\n",
    "</tr>\n",
    "\n",
    "\n",
    "</tbody>\n",
    "</table>\n",
    "\n",
    "We expand our previous example by a setUp and a tearDown method:\n",
    "\n"
   ]
  },
  {
   "cell_type": "markdown",
   "metadata": {},
   "source": [
    "<pre>\n",
    "import unittest\n",
    "from fibonacci1 import fib\n",
    "\n",
    "class FibonacciTest(unittest.TestCase):\n",
    "\n",
    "    def setUp(self):\n",
    "        self.fib_elems = ( (0,0), (1,1), (2,1), (3,2), (4,3), (5,5) )\n",
    "        print (\"setUp executed!\")\n",
    "\n",
    "    def testCalculation(self):\n",
    "        for (i,val) in self.fib_elems:\n",
    "            self.assertEqual(fib(i), val)\n",
    "\n",
    "    def tearDown(self):\n",
    "        self.fib_elems = None\n",
    "        print (\"tearDown executed!\")\n",
    "\n",
    "if __name__ == \"__main__\": \n",
    "    unittest.main()\n",
    "    \n",
    "    </pre>"
   ]
  },
  {
   "cell_type": "markdown",
   "metadata": {},
   "source": [
    "A call returns the following results:"
   ]
  },
  {
   "cell_type": "markdown",
   "metadata": {},
   "source": [
    "<pre>\n",
    "$ python3 fibonacci_unittest2.py \n",
    "setUp executed!\n",
    "tearDown executed!\n",
    ".\n",
    "----------------------------------------------------------------------\n",
    "Ran 1 test in 0.000s\n",
    "</pre>"
   ]
  },
  {
   "cell_type": "markdown",
   "metadata": {},
   "source": [
    "Most of the TestCase methods have an optional parameter \"msg\". It's possible to return an additional description of an error with \"msg\".\n",
    "\n",
    "Exercises\n",
    "\n",
    "1. Exercise:\n",
    "\n",
    "Can you find a problem in the following code?"
   ]
  },
  {
   "cell_type": "code",
   "execution_count": 9,
   "metadata": {},
   "outputs": [],
   "source": [
    "import doctest\n",
    "     \n",
    "def fib(n):\n",
    "    \"\"\" Calculates the n-th Fibonacci number iteratively \n",
    "     \n",
    "    fib(0)\n",
    "    0\n",
    "    fib(1)\n",
    "    1\n",
    "    fib(10) \n",
    "    55\n",
    "    fib(40)\n",
    "    102334155\n",
    "         \n",
    "     \n",
    "    \"\"\"\n",
    "    if n == 0:\n",
    "        return 0\n",
    "    elif n == 1:\n",
    "        return 1\n",
    "    else:\n",
    "        return fib(n-1) + fib(n-2)\n",
    "     \n",
    "if __name__ == \"__main__\": \n",
    "    doctest.testmod()"
   ]
  },
  {
   "cell_type": "markdown",
   "metadata": {},
   "source": [
    "Answer:\n",
    "\n",
    "The doctest is okay. The problem is the implementation of the fibonacci function. This recursive approach is \"highly\" inefficient. You need a lot of patience to wait for the termination of the test. The number of hours, days or weeks depending on your computer.☺\n",
    "\n",
    "\n",
    "\n",
    "Footnotes:\n",
    "\n",
    "\n",
    "\n",
    "*The aphorism in full length: \"Errare (Errasse) humanum est, sed in errare (errore) perseverare diabolicum.\" (To err is human, but to persist in it is diabolic\")\n",
    "\n",
    "** In computer science, the syntax of a computer language is the set of rules that defines the combinations of symbols that are considered to be a correctly structured document or fragment in that language. Writing \"if\" as \"iff\" is an example for syntax error, both in programming and in the English language. "
   ]
  }
 ],
 "metadata": {
  "kernelspec": {
   "display_name": "Python 3",
   "language": "python",
   "name": "python3"
  },
  "language_info": {
   "codemirror_mode": {
    "name": "ipython",
    "version": 3
   },
   "file_extension": ".py",
   "mimetype": "text/x-python",
   "name": "python",
   "nbconvert_exporter": "python",
   "pygments_lexer": "ipython3",
   "version": "3.7.6"
  }
 },
 "nbformat": 4,
 "nbformat_minor": 4
}
