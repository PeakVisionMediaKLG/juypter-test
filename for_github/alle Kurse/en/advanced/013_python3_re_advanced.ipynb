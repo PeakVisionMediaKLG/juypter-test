{
 "cells": [
  {
   "cell_type": "markdown",
   "metadata": {},
   "source": [
    "## Advanced Regular Expressions\n",
    "\n",
    "\n",
    "### Introduction\n",
    "\n",
    "<img class=\"imgright\" src=\"../images/stairs_green_fog.webp\" alt=\"stairway to success with Python\" />\n",
    "\n",
    "In our introduction to [regular expressions](https://www.python-course.eu/python3_re.php) of our tutorial we have covered the basic principles of regular expressions. We have shown, how the simplest regular expression looks like. We have also learnt, how to use regular expressions in Python by using the search() and the match() methods of the re module. The concept of formulating and using character classes should be well known by now, as well as the predefined character classes like \\d, \\D, \\s, \\S, and so on. You must have learnt how to match the beginning and the end of a string with a regular expression. You must know the special meaning of the question mark to make items optional. We have also introduced the quantifiers to repeat characters and groups arbitrarily or in certain ranges.\n",
    "\n",
    "You must also be familiar with the use of grouping and the syntax and usage of back references.\n",
    "\n",
    "Furthermore, we had explained the match objects of the re module and the information they contain and how to retrieve this information by using the methods span(), start(), end(), and group().\n",
    "\n",
    "The introduction ended with a comprehensive example in Python.\n",
    "\n",
    "In this chapter we will continue with our explanations about the syntax of the regular expressions. We will also explain further methods of the Python module re. E.g. how to find all the matched substrings of a regular expression. A task which needs programming in other programming languages like Perl or Java, but can be dealt with the call of one method of the re module of Python. So far, we only know how to define a choice of characters with a character class. We will demonstrate how to formulate alternations of substrings in this chapter of our tutorial, \n",
    "\n",
    "### Finding all Matched Substrings\n",
    "The Python module re provides another great method, which other languages like Perl and Java don't provide. If you want to find all the substrings in a string, which match a regular expression, you have to use a loop in Perl and other languages, as can be seen in the following Perl snippet:\n",
    "\n",
    "<pre>\n",
    "while ($string =~ m/regex/g) {\n",
    "  print \"Found '$&'.  Next attempt at character \" . pos($string)+1 . \"\\n\";\n",
    "}\n",
    "</pre>\n",
    "\n",
    "It's a lot easier in Python. No need to loop. We can just use the findall method of the re module:\n",
    "\n",
    "<pre> re.findall(pattern, string[, flags]) </pre>\n",
    "\n",
    "findall returns all non-overlapping matches of pattern in string, as a list of strings. The string is scanned left-to-right, and matches are returned in the order in which they are found.\n",
    "\n"
   ]
  },
  {
   "cell_type": "code",
   "execution_count": 29,
   "metadata": {},
   "outputs": [
    {
     "name": "stdout",
     "output_type": "stream",
     "text": [
      "['fat', 'cat', 'eat', 'oat', 'rat', 'eat']\n"
     ]
    }
   ],
   "source": [
    "t=\"A fat cat doesn't eat oat but a rat eats bats.\"\n",
    "mo = re.findall(\"[force]at\", t)\n",
    "print(mo)"
   ]
  },
  {
   "cell_type": "markdown",
   "metadata": {},
   "source": [
    "If one or more groups are present in the pattern, findall returns a list of groups. This will be a list of tuples if the pattern has more than one group. We demonstrate this in our next example. We have a long string with various Python training courses and their dates. With the first call to findall, we don't use any grouping and receive the complete string as a result. In the next call, we use grouping and findall returns a list of 2-tuples, each having the course name as the first component and the dates as the second component:"
   ]
  },
  {
   "cell_type": "code",
   "execution_count": 30,
   "metadata": {},
   "outputs": [
    {
     "data": {
      "text/plain": [
       "['Python Training Course for Beginners: 15/Aug/2011 - 19/Aug/2011;',\n",
       " 'Python Training Course Intermediate: 12/Dec/2011 - 16/Dec/2011;',\n",
       " 'Python Text Processing Course:31/Oct/2011 - 4/Nov/2011']"
      ]
     },
     "execution_count": 30,
     "metadata": {},
     "output_type": "execute_result"
    }
   ],
   "source": [
    "import re\n",
    "courses = \"Python Training Course for Beginners: 15/Aug/2011 - 19/Aug/2011;Python Training Course Intermediate: 12/Dec/2011 - 16/Dec/2011;Python Text Processing Course:31/Oct/2011 - 4/Nov/2011\"\n",
    "items = re.findall(\"[^:]*:[^;]*;?\", courses)\n",
    "items"
   ]
  },
  {
   "cell_type": "code",
   "execution_count": 31,
   "metadata": {},
   "outputs": [
    {
     "data": {
      "text/plain": [
       "[('Python Training Course for Beginners', ' 15/Aug/2011 - 19/Aug/2011;'),\n",
       " ('Python Training Course Intermediate', ' 12/Dec/2011 - 16/Dec/2011;'),\n",
       " ('Python Text Processing Course', '31/Oct/2011 - 4/Nov/2011')]"
      ]
     },
     "execution_count": 31,
     "metadata": {},
     "output_type": "execute_result"
    }
   ],
   "source": [
    "items = re.findall(\"([^:]*):([^;]*;?)\", courses)\n",
    "items"
   ]
  },
  {
   "cell_type": "markdown",
   "metadata": {},
   "source": [
    "### Alternations\n",
    "In our introduction to regular expressions we had introduced character classes. Character classes offer a choice out of a set of characters. Sometimes we need a choice between several regular expressions. It's a logical \"or\" and that's why the symbol for this construct is the \"|\" symbol.\n",
    "In the following example, we check, if one of the cities London, Paris, Zurich, Konstanz Bern or Strasbourg appear in a string preceded by the word \"location\":"
   ]
  },
  {
   "cell_type": "code",
   "execution_count": 32,
   "metadata": {},
   "outputs": [
    {
     "name": "stdout",
     "output_type": "stream",
     "text": [
      "location is London or Paris\n"
     ]
    }
   ],
   "source": [
    "import re\n",
    "str = \"Course location is London or Paris!\"\n",
    "mo = re.search(r\"location.*(London|Paris|Zurich|Strasbourg)\",str)\n",
    "if mo: print(mo.group())"
   ]
  },
  {
   "cell_type": "markdown",
   "metadata": {},
   "source": [
    "If you consider the previous example as too artificial, here is another one. Let's assume, you want to filter your email. You want to find all the correspondence (conversations) between you and Guido van Rossum, the creator and designer of Python. The following regular expression is helpful for this purpose:\n",
    "\n",
    "<pre> r\"(^To:|^From:) (Guido|van Rossum)\" </pre>\n",
    "\n",
    "This expression matches all lines starting with either 'To:' or 'From:', followed by a space and then either by the first name 'Guido' or the surname 'van Rossum'.\n",
    "\n",
    "### Compiling Regular Expressions\n",
    "If you want to use the same regexp more than once in a script, it might be a good idea to use a regular expression object, i.e. the regex is compiled.\n",
    "\n",
    "The general syntax:\n",
    "\n",
    "<pre> re.compile(pattern[, flags]) </pre>\n",
    "\n",
    "compile returns a regex object, which can be used later for searching and replacing. The expressions behaviour can be modified by specifying a flag value.\n",
    "\n",
    "<table cellpadding=\"2\" cellspacing=\"2\" border=\"1\">\n",
    "<tr><td><b>Abbreviation</b></td><td><b>Full name</b></td><td><b>Description</b></td></tr>\n",
    "<tr><td>re.I</td><td>re.IGNORECASE</td><td>Makes the regular expression case-insensitive</td></tr>\n",
    "<tr><td>re.L</td><td>re.LOCALE</td><td>The behaviour of some special sequences like \n",
    "\\w, \\W, \\b,\\s, \\S will be made dependent on the current locale, i.e. the user's language, country etc.</td></tr>\n",
    "<tr><td>re.M</td><td>re.MULTILINE</td><td>^ and $ will match at the beginning and at the end of each line and\n",
    "not just at the beginning and the end of the string</td></tr>\n",
    "<tr><td>re.S</td><td>re.DOTALL</td><td>The dot \".\" will match every character <b>plus the newline</b></td></tr>\n",
    "<tr><td>re.U</td><td>re.UNICODE</td><td>Makes \\w, \\W, \\b, \\B, \\d, \\D, \\s, \\S dependent on Unicode \n",
    "character properties</td></tr>\n",
    "<tr><td>re.X</td><td>re.VERBOSE</td><td>Allowing \"verbose regular expressions\", i.e. \n",
    "whitespace are ignored. This means that spaces, tabs, and carriage returns are not matched as such. \n",
    "If you want to match a space in a verbose regular expression, you'll need to escape it by escaping it \n",
    "with a backslash in front of it or include it in a character class.<br>\n",
    "# are also ignored, except when in a character class or preceded by an non-escaped backslash.\n",
    "Everything following a \"#\" will be ignored until the end of the line, so this character can be\n",
    "used to start a comment. \n",
    "</td></tr>\n",
    "</table>\n",
    "\n",
    "Compiled regular objects usually are not saving much time, because Python internally compiles AND CACHES regexes whenever you use them with re.search() or re.match(). The only extra time a non-compiled regex takes is the time it needs to check the cache, which is a key lookup of a dictionary.\n",
    "\n",
    "A good reason to use them is to separate the definition of a regex from its use.\n",
    "\n",
    "#### Example\n",
    "We have already introduced a regular expression for matching a superset of UK postcodes in our introductory chapter:\n",
    "\n",
    "<pre> r\"[A-z]{1,2}[0-9R][0-9A-Z]? [0-9][ABD-HJLNP-UW-Z]{2}\" </pre>"
   ]
  },
  {
   "cell_type": "markdown",
   "metadata": {},
   "source": [
    "We demonstrate with this regular expression, how we can use the compile functionality of the module re in the following interactive session. The regular expression \"regex\" is compiled with re.compile(regex) and the compiled object is saved in the object compiled_re. Now we call the method search() of the object compiled_re:"
   ]
  },
  {
   "cell_type": "code",
   "execution_count": 33,
   "metadata": {},
   "outputs": [
    {
     "name": "stdout",
     "output_type": "stream",
     "text": [
      "<re.Match object; span=(25, 32), match='W12 7RJ'>\n"
     ]
    }
   ],
   "source": [
    "import re\n",
    "regex = r\"[A-z]{1,2}[0-9R][0-9A-Z]? [0-9][ABD-HJLNP-UW-Z]{2}\"\n",
    "address = \"BBC News Centre, London, W12 7RJ\"\n",
    "compiled_re = re.compile(regex)\n",
    "res = compiled_re.search(address)\n",
    "print(res)"
   ]
  },
  {
   "cell_type": "markdown",
   "metadata": {},
   "source": [
    "### Splitting a String With or Without Regular Expressions\n",
    "There is a string method split, which can be used to split a string into a list of substrings.\n",
    "\n",
    "\n",
    "<pre> str.split([sep[, maxsplit]]) </pre>\n",
    "\n",
    "\n",
    "As you can see, the method split has two optional parameters. If none is given (or is None) , a string will be separated into substring using whitespaces as delimiters, i.e. every substring consisting purely of whitespaces is used as a delimiter.\n",
    "\n",
    "<img src=\"../images/re_split.webp\" width=95% alt=\"Splitting an image\" />  \n",
    "\n",
    "We demonstrate this behaviour with a famous quotation by Abraham Lincoln:"
   ]
  },
  {
   "cell_type": "code",
   "execution_count": 34,
   "metadata": {},
   "outputs": [
    {
     "data": {
      "text/plain": [
       "['Let',\n",
       " 'reverence',\n",
       " 'for',\n",
       " 'the',\n",
       " 'laws',\n",
       " 'be',\n",
       " 'breathed',\n",
       " 'by',\n",
       " 'every',\n",
       " 'American',\n",
       " 'mother',\n",
       " 'to',\n",
       " 'the',\n",
       " 'lisping',\n",
       " 'babe',\n",
       " 'that',\n",
       " 'prattles',\n",
       " 'on',\n",
       " 'her',\n",
       " 'lap.',\n",
       " 'Let',\n",
       " 'it',\n",
       " 'be',\n",
       " 'taught',\n",
       " 'in',\n",
       " 'schools,',\n",
       " 'in',\n",
       " 'seminaries,',\n",
       " 'and',\n",
       " 'in',\n",
       " 'colleges.',\n",
       " 'Let',\n",
       " 'it',\n",
       " 'be',\n",
       " 'written',\n",
       " 'in',\n",
       " 'primers,',\n",
       " 'spelling',\n",
       " 'books,',\n",
       " 'and',\n",
       " 'in',\n",
       " 'almanacs.',\n",
       " 'Let',\n",
       " 'it',\n",
       " 'be',\n",
       " 'preached',\n",
       " 'from',\n",
       " 'the',\n",
       " 'pulpit,',\n",
       " 'proclaimed',\n",
       " 'in',\n",
       " 'legislative',\n",
       " 'halls,',\n",
       " 'and',\n",
       " 'enforced',\n",
       " 'in',\n",
       " 'the',\n",
       " 'courts',\n",
       " 'of',\n",
       " 'justice.',\n",
       " 'And,',\n",
       " 'in',\n",
       " 'short,',\n",
       " 'let',\n",
       " 'it',\n",
       " 'become',\n",
       " 'the',\n",
       " 'political',\n",
       " 'religion',\n",
       " 'of',\n",
       " 'the',\n",
       " 'nation.']"
      ]
     },
     "execution_count": 34,
     "metadata": {},
     "output_type": "execute_result"
    }
   ],
   "source": [
    "law_courses = \"Let reverence for the laws be breathed by every American mother to the lisping babe that prattles on her lap. Let it be taught in schools, in seminaries, and in colleges. Let it be written in primers, spelling books, and in almanacs. Let it be preached from the pulpit, proclaimed in legislative halls, and enforced in the courts of justice. And, in short, let it become the political religion of the nation.\"\n",
    "law_courses.split()"
   ]
  },
  {
   "cell_type": "markdown",
   "metadata": {},
   "source": [
    "Now we look at a string, which could stem from an Excel or an OpenOffice calc file. We have seen in our previous example that split takes whitespaces as default separators. We want to split the string in the following little example using semicolons as separators. The only thing we have to do is to use \";\" as an argument of split():"
   ]
  },
  {
   "cell_type": "code",
   "execution_count": 35,
   "metadata": {},
   "outputs": [
    {
     "data": {
      "text/plain": [
       "['James', 'Miller', 'teacher', 'Perl']"
      ]
     },
     "execution_count": 35,
     "metadata": {},
     "output_type": "execute_result"
    }
   ],
   "source": [
    "line = \"James;Miller;teacher;Perl\"\n",
    "line.split(\";\")"
   ]
  },
  {
   "cell_type": "markdown",
   "metadata": {},
   "source": [
    "The method split() has another optional parameter: maxsplit.\n",
    "If maxsplit is given, at most maxsplit splits are done. This means that the resulting list will have at most \"maxsplit + 1\" elements.\n",
    "We will illustrate the mode of operation of maxsplit in the next example:"
   ]
  },
  {
   "cell_type": "code",
   "execution_count": 36,
   "metadata": {},
   "outputs": [
    {
     "data": {
      "text/plain": [
       "['The',\n",
       " 'god',\n",
       " 'of',\n",
       " \"the world's leading religion. The chief temple is in the holy city of New York.\"]"
      ]
     },
     "execution_count": 36,
     "metadata": {},
     "output_type": "execute_result"
    }
   ],
   "source": [
    "mammon = \"The god of the world's leading religion. The chief temple is in the holy city of New York.\"\n",
    "mammon.split(\" \",3)"
   ]
  },
  {
   "cell_type": "markdown",
   "metadata": {},
   "source": [
    "We used a Blank as a delimiter string in the previous example, which can be a problem: If multiple blanks or whitespaces are connected, split() will split the string after every single blank, so that we will get empty strings and strings with only a tab inside ('\\t') in our result list:"
   ]
  },
  {
   "cell_type": "code",
   "execution_count": 37,
   "metadata": {},
   "outputs": [
    {
     "data": {
      "text/plain": [
       "['The',\n",
       " 'god',\n",
       " '',\n",
       " '\\t',\n",
       " 'of',\n",
       " \"the world's leading religion. The chief temple is in the holy city of New York.\"]"
      ]
     },
     "execution_count": 37,
     "metadata": {},
     "output_type": "execute_result"
    }
   ],
   "source": [
    "mammon = \"The god  \\t of the world's leading religion. The chief temple is in the holy city of New York.\"\n",
    "mammon.split(\" \",5)"
   ]
  },
  {
   "cell_type": "markdown",
   "metadata": {},
   "source": [
    "We can prevent the separation of empty strings by using None as the first argument. Now split will use the default behaviour, i.e. every substring consisting of connected whitespace characters will be taken as one separator:"
   ]
  },
  {
   "cell_type": "code",
   "execution_count": 38,
   "metadata": {},
   "outputs": [
    {
     "data": {
      "text/plain": [
       "['The',\n",
       " 'god',\n",
       " 'of',\n",
       " 'the',\n",
       " \"world's\",\n",
       " 'leading religion. The chief temple is in the holy city of New York.']"
      ]
     },
     "execution_count": 38,
     "metadata": {},
     "output_type": "execute_result"
    }
   ],
   "source": [
    "mammon.split(None,5)"
   ]
  },
  {
   "cell_type": "markdown",
   "metadata": {},
   "source": [
    "#### Regular Expression Split\n",
    "The string method split() is the right tool in many cases, but what, if you want e.g. to get the bare words of a text, i.e. without any special characters and whitespaces. If we want this, we have to use the split function from the re module. We illustrate this method with a short text from the beginning of Metamorphoses by Ovid:"
   ]
  },
  {
   "cell_type": "code",
   "execution_count": 39,
   "metadata": {},
   "outputs": [
    {
     "data": {
      "text/plain": [
       "['OF',\n",
       " 'bodies',\n",
       " 'chang',\n",
       " 'd',\n",
       " 'to',\n",
       " 'various',\n",
       " 'forms',\n",
       " 'I',\n",
       " 'sing',\n",
       " 'Ye',\n",
       " 'Gods',\n",
       " 'from',\n",
       " 'whom',\n",
       " 'these',\n",
       " 'miracles',\n",
       " 'did',\n",
       " 'spring',\n",
       " 'Inspire',\n",
       " 'my',\n",
       " 'numbers',\n",
       " 'with',\n",
       " 'coelestial',\n",
       " 'heat',\n",
       " '']"
      ]
     },
     "execution_count": 39,
     "metadata": {},
     "output_type": "execute_result"
    }
   ],
   "source": [
    "import re\n",
    "metamorphoses = \"OF bodies chang'd to various forms, I sing: Ye Gods, from whom these miracles did spring, Inspire my numbers with coelestial heat;\"\n",
    "re.split(\"\\W+\",metamorphoses)"
   ]
  },
  {
   "cell_type": "markdown",
   "metadata": {},
   "source": [
    "The following example is a good case, where the regular expression is really superior to the string split. Let's assume that we have data lines with surnames, first names and professions of names. We want to clear the data line of the superfluous and redundant text descriptions, i.e. \"surname: \", \"prename: \" and so on, so that we have solely the surname in the first column, the first name in the second column and the profession in the third column:"
   ]
  },
  {
   "cell_type": "code",
   "execution_count": 40,
   "metadata": {},
   "outputs": [
    {
     "name": "stdout",
     "output_type": "stream",
     "text": [
      "['', 'Obama', 'Barack', 'president']\n",
      "['', 'Merkel', 'Angela', 'chancellor']\n"
     ]
    }
   ],
   "source": [
    "import re\n",
    "lines = [\"surname: Obama, prename: Barack, profession: president\", \"surname: Merkel, prename: Angela, profession: chancellor\"]\n",
    "for line in lines:\n",
    "    print(re.split(\",* *\\w*: \", line))    "
   ]
  },
  {
   "cell_type": "markdown",
   "metadata": {},
   "source": [
    "We can easily improve the script by using a slice operator, so that we don't have the empty string as the first element of our result lists:"
   ]
  },
  {
   "cell_type": "code",
   "execution_count": 41,
   "metadata": {},
   "outputs": [
    {
     "name": "stdout",
     "output_type": "stream",
     "text": [
      "['Obama', 'Barack', 'president']\n",
      "['Merkel', 'Angela', 'chancellor']\n"
     ]
    }
   ],
   "source": [
    "import re\n",
    "lines = [\"surname: Obama, prename: Barack, profession: president\", \"surname: Merkel, prename: Angela, profession: chancellor\"]\n",
    "for line in lines:\n",
    "    print(re.split(\",* *\\w*: \", line)[1:])    "
   ]
  },
  {
   "cell_type": "markdown",
   "metadata": {},
   "source": [
    "And now for something completely different: There is a connection between Barack Obama and Python, or better Monty Python. John Cleese, one of the members of Monty Python told the Western Daily Press in April 2008: \"I'm going to offer my services to him as a speech writer because I think he is a brilliant man.\"\n",
    "\n",
    "### Search and Replace with sub\n",
    "\n",
    "re.sub(regex, replacement, subject)\n",
    "\n",
    "Every match of the regular expression regex in the string subject will be replaced by the string replacement.\n",
    "Example:\n"
   ]
  },
  {
   "cell_type": "code",
   "execution_count": 42,
   "metadata": {},
   "outputs": [
    {
     "name": "stdout",
     "output_type": "stream",
     "text": [
      "no I said no I will no.\n"
     ]
    }
   ],
   "source": [
    "import re\n",
    "str = \"yes I said yes I will Yes.\"\n",
    "res = re.sub(\"[yY]es\",\"no\", str)\n",
    "print(res)"
   ]
  },
  {
   "cell_type": "markdown",
   "metadata": {},
   "source": [
    "### Exercises\n",
    "\n",
    "#### Exercise 1\n",
    "\n",
    "Given is a file with the name 'order_journal.txt' in the following format:"
   ]
  },
  {
   "cell_type": "code",
   "execution_count": 43,
   "metadata": {},
   "outputs": [
    {
     "name": "stdout",
     "output_type": "stream",
     "text": [
      "Overwriting order_journal.txt\n"
     ]
    }
   ],
   "source": [
    "%%writefile order_journal.txt\n",
    "customer-id 1289\n",
    "T83456\n",
    "customer-id 1289\n",
    "customer-id 1205\n",
    "T10032\n",
    "B77301\n",
    "customer-id 1205\n",
    "customer-id 1410\n",
    "K34001\n",
    "T98987\n",
    "customer-id 1410\n",
    "customer-id 1205\n",
    "T10786\n",
    "C77502\n",
    "customer-id 1205\n",
    "customer-id 1289\n",
    "Z22334\n",
    "customer-id 1289"
   ]
  },
  {
   "cell_type": "markdown",
   "metadata": {},
   "source": [
    "Write a new file 'order_journal_regrouped.txt', in which the data is regrouped in the following way:\n",
    "\n",
    "```\n",
    "1289,T83456\n",
    "1289,Z22334\n",
    "1205,T10032\n",
    "1205,B77301\n",
    "1205,T10786\n",
    "1205,C77502\n",
    "1410,K34001\n",
    "1410,T98987\n",
    "```"
   ]
  },
  {
   "cell_type": "markdown",
   "metadata": {},
   "source": [
    "### Solutions\n",
    "\n",
    "#### Solution to Exercise 1"
   ]
  },
  {
   "cell_type": "code",
   "execution_count": 44,
   "metadata": {},
   "outputs": [],
   "source": [
    "import re\n",
    "\n",
    "txt = open(\"order_journal.txt\").read()\n",
    "\n",
    "data = {}    # will contain the chustomer-id as keys and the oders as a value string\n",
    "for x in re.finditer(r\"customer-id ([\\d\\n]{4})(.*?)customer-id \\1\", txt, re.DOTALL):\n",
    "    key, values = x.groups()\n",
    "\n",
    "    if key in data:\n",
    "        data[key] += values\n",
    "    else:\n",
    "        data[key] = values\n",
    "with open(\"order_journal_regrouped.txt\", \"w\") as fh:\n",
    "    for key in data:\n",
    "        for art_no in data[key].split():\n",
    "            fh.write(f\"{key},{art_no}\\n\")"
   ]
  },
  {
   "cell_type": "markdown",
   "metadata": {},
   "source": [
    "We can check the content of the newly created file:"
   ]
  },
  {
   "cell_type": "code",
   "execution_count": 45,
   "metadata": {},
   "outputs": [
    {
     "name": "stdout",
     "output_type": "stream",
     "text": [
      "1289,T83456\n",
      "1289,Z22334\n",
      "1205,T10032\n",
      "1205,B77301\n",
      "1205,T10786\n",
      "1205,C77502\n",
      "1410,K34001\n",
      "1410,T98987\n",
      "\n"
     ]
    }
   ],
   "source": [
    "content = open(\"order_journal_regrouped.txt\").read()\n",
    "print(content)"
   ]
  }
 ],
 "metadata": {
  "kernelspec": {
   "display_name": "Python 3",
   "language": "python",
   "name": "python3"
  },
  "language_info": {
   "codemirror_mode": {
    "name": "ipython",
    "version": 3
   },
   "file_extension": ".py",
   "mimetype": "text/x-python",
   "name": "python",
   "nbconvert_exporter": "python",
   "pygments_lexer": "ipython3",
   "version": "3.7.6"
  }
 },
 "nbformat": 4,
 "nbformat_minor": 4
}
