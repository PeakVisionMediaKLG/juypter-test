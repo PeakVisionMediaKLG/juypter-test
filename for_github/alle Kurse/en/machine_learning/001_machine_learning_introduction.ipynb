{
 "cells": [
  {
   "cell_type": "markdown",
   "metadata": {},
   "source": [
    "# Introduction to Machine Learning in Python"
   ]
  },
  {
   "cell_type": "markdown",
   "metadata": {},
   "source": [
    "<img class=\"imgright\" width=\"60%\" src=\"../images/robot_jugglers.webp\" srcset=\"../images/robot_jugglers_300w.webp 300w\" alt=\"Data sets and Visualization\" />\n",
    "\n",
    "## What is Machine Learning?\n",
    "\n",
    "Machine learning is a subfield of Artificial Intelligence (AI). So what is Artificial Intelligence?\n",
    "\n",
    "Andrew Moore, former Dean of the School of Computer Science at Carnegie Mellon University, defined it as follows: \"Artificial intelligence is the science and engineering of making computers behave in ways that, until recently, we thought required human intelligence.\"\n",
    "\n",
    "The question \"What is artificial intelligence?\" depends on the answer to a more general question: \"What is intelligence?\" \n",
    "\n",
    "It shows extremels hard to answer the previous question.\n",
    "\n",
    "To get closer to the answers we can divide AI into to partitions:\n",
    "\n",
    "**weak AI** and **strong AI**\n",
    "\n",
    "weak AI:\n",
    "\n",
    "- deals with specific application problems\n",
    "- Supporting human thinking in certain areas\n",
    "- capable of learning in sub-areas\n",
    "- no awareness\n",
    "\n",
    "\n",
    "strong AI:\n",
    "- \"general intelligence\"\n",
    "(reason, logical thinking, use strategy, solve puzzles, and make judgments under uncertainty)\n",
    "- Comparable to human intelligence, but need not be the same, could be different\n",
    "- making plans\n",
    "- generally capable of learning\n",
    "- Communication skills, natural language\n",
    "- Awareness?\n",
    "- sentience, emotions?\n",
    "- self-perception?\n",
    "\n",
    "We know now about Artificial Intelligence and Weak and Strong AI, but what about Machine Learning?\n",
    "\n",
    "\n",
    "Let's start with a very \"old\" attempt at a definition by Arthur Samuek, an IBM pioneer:\n",
    "\n",
    "> \"Machine Learning: Field of study that gives computers the ability to learn without being explicitly programmed.\" \n",
    "\n",
    "A good attempt, but many questions remain unanswered. Almost 40 years later, in 1998, Tom Mitchell shaped a \"well-off learning problem\" as follows:\n",
    "\n",
    "> \"Well posed Learning Problem: A computer program is said to learn from experience E with respect to some task T and some performance measure P, if its performance on T, as measured by P, improves with experience E.\"\n",
    "\n",
    "Annotation:\n",
    "A mathematical problem is called correctly (also well-posed, well-posed or properly posed) if the following conditions are met:\n",
    "\n",
    "- The problem has a solution (existence).\n",
    "- This solution is clearly defined (uniqueness).\n",
    "- the solution's behaviour changes continuously with the initial input data (stability).\n"
   ]
  },
  {
   "cell_type": "markdown",
   "metadata": {},
   "source": [
    "Machine Learning:\n",
    "\n",
    "Machine learning means that an algorithm (the machine) learns automatically. This means that it is capable of  extracting the necessary knowledge from given data automatically. The goal is to make predictions on new, unseen data. \n",
    "There is another way of putting it: In traditional heuristic decision-making algorithms, the programmers set the rules according to which the decisions are made. With machine learning, this is done independently by the program without interence from human beings!\n",
    "\n",
    "<img src=\"../images/who_makes_the_rules.webp\" width=\"100%\">\n",
    "<br><br>"
   ]
  },
  {
   "cell_type": "markdown",
   "metadata": {},
   "source": [
    "## Machine learning taxonomy\n",
    "\n",
    "There are two different approaches to Machine Learning: \n",
    "\n",
    "- Unsupervised Learning\n",
    "- Supervised Learning\n",
    "\n",
    "We will solely cover \"supervised learning in this tutorial\". \n",
    "\n",
    "<img src=\"../images/machine_learning_taxonomy.webp\" width=\"90%\">"
   ]
  },
  {
   "cell_type": "markdown",
   "metadata": {},
   "source": [
    "Examples for machine learning:\n",
    "\n",
    "- spam filter: \n",
    "the algorithm  learns a predictive model from data labelled as spam and \"no spam\" (ham). After training it can predict for new emails whether they are spam or not.   \n",
    "- character recognition\n",
    "- object recognition in images\n",
    "- and many more\n",
    "\n",
    "As already mentioned, a spam filter could be implemented using a classifier based on machine learning.\n",
    "\n",
    "At the heart of machine learning is the concept of automating decision making from data without the user specifying explicit rules on how to make that decision.\n",
    "In the case of emails, the user does not provide a list of words or features that spam an email. Instead, the user provides examples of spam and non-spam emails that are marked as such. This is the so-called learning set.\n",
    "\n",
    "The goal of a machine learning model is to predict new, previously invisible data. In a real application, we are not interested in marking an already marked email as spam or not. Instead, we want to make life easier for users by automatically classifying new incoming emails.\n",
    "\n",
    "\n",
    "These examples are then learned or trained by the algorithm:"
   ]
  },
  {
   "cell_type": "markdown",
   "metadata": {},
   "source": [
    "<img src=\"../images/supervised_learning_training_phase.webp\" width=\"100%\">\n",
    "<br><br>\n",
    "\n",
    "After the learning phase, we have to evaluate the classifier. We test both on labeled learning data and on non-learned labeled test data:\n",
    "\n",
    "\n",
    "<img src=\"../images/supervised_learning_evaluation_phase.webp\" width=\"100%\">\n",
    "<br><br>\n",
    "\n",
    "\n",
    "If we are satisfied with the results, the classifier is ready to classify completely new documents:\n",
    "\n",
    "<br><br>\n",
    "<img src=\"../images/supervised_learning_prediction.webp\" width=\"100%\">\n",
    "\n"
   ]
  },
  {
   "cell_type": "markdown",
   "metadata": {},
   "source": [
    "The data is presented to the algorithm usually as a two-dimensional array (or matrix) of numbers. Each data point (also known as a *sample* or *training instance*) that we want to either learn from or make a decision on is represented as a list of numbers, a so-called feature vector, and its containing features represent the properties of this point. \n"
   ]
  }
 ],
 "metadata": {
  "anaconda-cloud": {},
  "celltoolbar": "Tags",
  "hide_input": false,
  "kernelspec": {
   "display_name": "Python 3",
   "language": "python",
   "name": "python3"
  },
  "language_info": {
   "codemirror_mode": {
    "name": "ipython",
    "version": 3
   },
   "file_extension": ".py",
   "mimetype": "text/x-python",
   "name": "python",
   "nbconvert_exporter": "python",
   "pygments_lexer": "ipython3",
   "version": "3.7.6"
  },
  "name": "_merged_merged",
  "toc": {
   "base_numbering": 1,
   "nav_menu": {},
   "number_sections": true,
   "sideBar": true,
   "skip_h1_title": false,
   "title_cell": "Table of Contents",
   "title_sidebar": "Contents",
   "toc_cell": false,
   "toc_position": {},
   "toc_section_display": true,
   "toc_window_display": true
  },
  "varInspector": {
   "cols": {
    "lenName": 16,
    "lenType": 16,
    "lenVar": 40
   },
   "kernels_config": {
    "python": {
     "delete_cmd_postfix": "",
     "delete_cmd_prefix": "del ",
     "library": "var_list.py",
     "varRefreshCmd": "print(var_dic_list())"
    },
    "r": {
     "delete_cmd_postfix": ") ",
     "delete_cmd_prefix": "rm(",
     "library": "var_list.r",
     "varRefreshCmd": "cat(var_dic_list()) "
    }
   },
   "types_to_exclude": [
    "module",
    "function",
    "builtin_function_or_method",
    "instance",
    "_Feature"
   ],
   "window_display": false
  }
 },
 "nbformat": 4,
 "nbformat_minor": 4
}
