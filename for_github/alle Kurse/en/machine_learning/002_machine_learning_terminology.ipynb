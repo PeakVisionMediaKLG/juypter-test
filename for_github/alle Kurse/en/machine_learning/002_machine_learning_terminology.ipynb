{
 "cells": [
  {
   "cell_type": "markdown",
   "metadata": {},
   "source": [
    "## Machine Learning Terminology\n",
    "\n",
    "\n",
    "<img width=\"60%\" src=\"../images/terminology_cylinder.webp\" srcset=\"../images/terminology_cylinder_700w.webp 700w,../images/terminology_cylinder_600w.webp 600w,../images/terminology_cylinder_500w.webp 500w,../images/terminology_cylinder_400w.webp 400w,../images/terminology_cylinder_350w.webp 350w,../images/terminology_cylinder_300w.webp 300w\" alt=\"Machine Learning Terminology\" />\n",
    "\n",
    "\n",
    "#### Classifier\n",
    "\n",
    "A program or a function which maps from unlabeled instances to  classes is called a classifier.\n",
    "\n",
    "#### Confusion Matrix\n",
    "\n",
    "A confusion matrix, also called a contingeny table or error matrix,\n",
    "is used to visualize the performance of a classifier. \n",
    "\n",
    "The columns of the matrix represent the instances of the predicted  classes and the rows represent the instances of the actual class. (Note: It can be the other way around as well.) \n",
    "\n",
    "In the case of binary classification the table has 2 rows and 2 columns. \n",
    "\n",
    "Example:\n",
    "\n",
    "<style type=\"text/css\">\n",
    ".tg  {border-collapse:collapse;border-spacing:0;}\n",
    ".tg td{font-family:Arial, sans-serif;font-size:14px;padding:10px 5px;border-style:solid;border-width:1px;overflow:hidden;word-break:normal;}\n",
    ".tg th{font-family:Arial, sans-serif;font-size:14px;font-weight:normal;padding:10px 5px;border-style:solid;border-width:1px;overflow:hidden;word-break:normal;}\n",
    ".tg .tg-baqh{text-align:center;vertical-align:top}\n",
    ".tg .tg-hcxd{font-weight:bold;background-color:#003532;color:#ffcc67;vertical-align:top}\n",
    ".tg .tg-2de4{background-color:#c0c0c0;color:#000000;text-align:right;vertical-align:top}\n",
    ".tg .tg-lqy6{text-align:right;vertical-align:top}\n",
    ".tg .tg-5mgg{font-weight:bold;background-color:#c0c0c0;vertical-align:top}\n",
    ".tg .tg-n17z{font-weight:bold;background-color:#013300;color:#ffcc67;vertical-align:top}\n",
    ".tg .tg-ddj9{background-color:#c0c0c0;color:#000000;text-align:center;vertical-align:top}\n",
    ".tg .tg-wsyr{background-color:#c0c0c0;color:#333333;vertical-align:top}\n",
    "</style>\n",
    "<table class=\"tg\">\n",
    "  <tr>\n",
    "    <th class=\"tg-5mgg\" colspan=\"2\" rowspan=\"2\">Confusion<br>Matrix<br></th>\n",
    "    <th class=\"tg-n17z\" colspan=\"2\">Predicted classes<br></th>\n",
    "  </tr>\n",
    "  <tr>\n",
    "    <td class=\"tg-ddj9\">male</td>\n",
    "    <td class=\"tg-2de4\">female<br></td>\n",
    "  </tr>\n",
    "  <tr>\n",
    "  <td class=\"tg-hcxd\" rowspan=\"2\">\n",
    "  <div style=\"display: inline-block; -ms-transform: rotate(-90deg); -webkit-transform: rotate(90deg); transform: rotate(90deg);;\">Actual<br>\n",
    "classes</div><br></td>\n",
    "    <td class=\"tg-wsyr\">male</td>\n",
    "    <td class=\"tg-baqh\">42</td>\n",
    "    <td class=\"tg-lqy6\">8<br></td>\n",
    "  </tr>\n",
    "  <tr>\n",
    "    <td class=\"tg-wsyr\">female</td>\n",
    "    <td class=\"tg-baqh\">18</td>\n",
    "    <td class=\"tg-lqy6\">32</td>\n",
    "  </tr>\n",
    "</table>\n",
    "\n",
    " \n",
    "\n",
    "\n",
    "This means that the classifier correctly predicted a male person in 42 cases and it wrongly predicted 8 male instances as female.\n",
    "It correctly predicted 32 instances as female. 18 cases had been wrongly predicted as male instead of female.\n",
    "\n",
    "\n"
   ]
  },
  {
   "cell_type": "markdown",
   "metadata": {},
   "source": [
    "#### Accuracy (error rate)\n",
    "\n",
    "Accuracy is a statistical measure which is defined as the quotient of correct predictions made by a classifier divided by the sum of predictions made by the classifier.\n",
    "\n",
    "The classifier in our previous example predicted correctly predicted 42 male instances and 32 female instance. \n",
    "\n",
    "Therefore, the accuracy can be calculated by:\n",
    "\n",
    "accuracy = $(42 + 32) / (42 + 8 + 18 + 32)$\n",
    "\n",
    "which is 0.72\n",
    "\n",
    "Let's assume we have a classifier, which always predicts \"female\". We have an accuracy of 50 % in this case."
   ]
  },
  {
   "cell_type": "markdown",
   "metadata": {},
   "source": [
    "<table class=\"tg\">\n",
    "  <tr>\n",
    "    <th class=\"tg-5mgg\" colspan=\"2\" rowspan=\"2\">Confusion<br>Matrix<br></th>\n",
    "    <th class=\"tg-n17z\" colspan=\"2\">Predicted classes<br></th>\n",
    "  </tr>\n",
    "  <tr>\n",
    "    <td class=\"tg-ddj9\">male</td>\n",
    "    <td class=\"tg-2de4\">female<br></td>\n",
    "  </tr>\n",
    "  <tr>\n",
    "  <td class=\"tg-hcxd\" rowspan=\"2\">\n",
    "  <div style=\"display: inline-block; -ms-transform: rotate(-90deg); -webkit-transform: rotate(90deg); transform: rotate(90deg);;\">Actual<br>\n",
    "classes</div><br></td>\n",
    "    <td class=\"tg-wsyr\">male</td>\n",
    "    <td class=\"tg-baqh\">0</td>\n",
    "    <td class=\"tg-lqy6\">50<br></td>\n",
    "  </tr>\n",
    "  <tr>\n",
    "    <td class=\"tg-wsyr\">female</td>\n",
    "    <td class=\"tg-baqh\">0</td>\n",
    "    <td class=\"tg-lqy6\">50</td>\n",
    "  </tr>\n",
    "</table>\n",
    "\n",
    "\n"
   ]
  },
  {
   "cell_type": "markdown",
   "metadata": {},
   "source": [
    "We will demonstrate the so-called accuracy paradox.\n",
    "\n",
    "A spam recogition classifier is described by the following confusion matrix: "
   ]
  },
  {
   "cell_type": "markdown",
   "metadata": {},
   "source": [
    "\n",
    "<table class=\"tg\">\n",
    "  <tr>\n",
    "    <th class=\"tg-5mgg\" colspan=\"2\" rowspan=\"2\">Confusion<br>Matrix<br></th>\n",
    "    <th class=\"tg-n17z\" colspan=\"2\">Predicted classes<br></th>\n",
    "  </tr>\n",
    "  <tr>\n",
    "    <td class=\"tg-ddj9\">spam</td>\n",
    "    <td class=\"tg-2de4\">ham<br></td>\n",
    "  </tr>\n",
    "  <tr>\n",
    "  <td class=\"tg-hcxd\" rowspan=\"2\">\n",
    "  <div style=\"display: inline-block; -ms-transform: rotate(-90deg); -webkit-transform: rotate(90deg); transform: rotate(90deg);;\">Actual<br>\n",
    "classes</div><br></td>\n",
    "    <td class=\"tg-wsyr\">spam</td>\n",
    "    <td class=\"tg-baqh\">4</td>\n",
    "    <td class=\"tg-lqy6\">1<br></td>\n",
    "  </tr>\n",
    "  <tr>\n",
    "    <td class=\"tg-wsyr\">ham</td>\n",
    "    <td class=\"tg-baqh\">4</td>\n",
    "    <td class=\"tg-lqy6\">91</td>\n",
    "  </tr>\n",
    "</table>\n"
   ]
  },
  {
   "cell_type": "markdown",
   "metadata": {},
   "source": [
    "The accuracy of this classifier is (4 + 91) / 100, i.e. 95 %.\n",
    "\n",
    "The following classifier predicts solely \"ham\" and has the same accuracy."
   ]
  },
  {
   "cell_type": "markdown",
   "metadata": {},
   "source": [
    "\n",
    "<table class=\"tg\">\n",
    "  <tr>\n",
    "    <th class=\"tg-5mgg\" colspan=\"2\" rowspan=\"2\">Confusion<br>Matrix<br></th>\n",
    "    <th class=\"tg-n17z\" colspan=\"2\">Predicted classes<br></th>\n",
    "  </tr>\n",
    "  <tr>\n",
    "    <td class=\"tg-ddj9\">spam</td>\n",
    "    <td class=\"tg-2de4\">ham<br></td>\n",
    "  </tr>\n",
    "  <tr>\n",
    "  <td class=\"tg-hcxd\" rowspan=\"2\">\n",
    "  <div style=\"display: inline-block; -ms-transform: rotate(-90deg); -webkit-transform: rotate(90deg); transform: rotate(90deg);;\">Actual<br>\n",
    "classes</div><br></td>\n",
    "    <td class=\"tg-wsyr\">spam</td>\n",
    "    <td class=\"tg-baqh\">0</td>\n",
    "    <td class=\"tg-lqy6\">5<br></td>\n",
    "  </tr>\n",
    "  <tr>\n",
    "    <td class=\"tg-wsyr\">ham</td>\n",
    "    <td class=\"tg-baqh\">0</td>\n",
    "    <td class=\"tg-lqy6\">95</td>\n",
    "  </tr>\n",
    "</table>\n",
    "\n",
    "\n"
   ]
  },
  {
   "cell_type": "markdown",
   "metadata": {},
   "source": [
    "The accuracy of this classifier is 95%, even though it is not capable of recognizing any spam at all."
   ]
  },
  {
   "cell_type": "markdown",
   "metadata": {},
   "source": [
    "#### Precision and Recall"
   ]
  },
  {
   "cell_type": "markdown",
   "metadata": {},
   "source": [
    "<table class=\"tg\">\n",
    "  <tr>\n",
    "    <th class=\"tg-5mgg\" colspan=\"2\" rowspan=\"2\">Confusion<br>Matrix<br></th>\n",
    "    <th class=\"tg-n17z\" colspan=\"2\">Predicted classes<br></th>\n",
    "  </tr>\n",
    "  <tr>\n",
    "    <td class=\"tg-ddj9\">negative</td>\n",
    "    <td class=\"tg-2de4\">positive<br></td>\n",
    "  </tr>\n",
    "  <tr>\n",
    "  <td class=\"tg-hcxd\" rowspan=\"2\"><b>\n",
    "  <div style=\"display: inline-block; -ms-transform: rotate(-90deg); -webkit-transform: rotate(90deg); transform: rotate(90deg);;\">Actual<br>\n",
    "classes</div></b><br></td>\n",
    "    <td class=\"tg-wsyr\">negative</td>\n",
    "    <td class=\"tg-baqh\">TN</td>\n",
    "    <td class=\"tg-lqy6\">FP</td>\n",
    "  </tr>\n",
    "  <tr>\n",
    "    <td class=\"tg-wsyr\">positive</td>\n",
    "    <td class=\"tg-baqh\">FN</td>\n",
    "    <td class=\"tg-lqy6\">TP</td>\n",
    "  </tr>\n",
    "</table>"
   ]
  },
  {
   "cell_type": "markdown",
   "metadata": {},
   "source": [
    "Accuracy: $(TN + TP)/(TN + TP + FN + FP)$\n",
    "\n",
    "Precision: $TP / (TP + FP)$\n",
    "\n",
    "Recall: $ TP / (TP + FN)$\n",
    "\n",
    " "
   ]
  },
  {
   "cell_type": "markdown",
   "metadata": {},
   "source": [
    "#### Supervised learning\n",
    "\n",
    "The machine learning program is both given the input data and the corresponding labelling. This means that the learn data has to be labelled by a human being beforehand. \n",
    "\n",
    "#### Unsupervised learning\n",
    "\n",
    "No labels are provided to the learning algorithm. The algorithm has to figure out the a clustering of the input data.\n",
    "\n",
    "#### Reinforcement learning\n",
    "\n",
    "A computer program dynamically interacts with its environment. This means that the program receives positive and/or negative feedback to improve it performance. "
   ]
  }
 ],
 "metadata": {
  "anaconda-cloud": {},
  "kernelspec": {
   "display_name": "Python 3",
   "language": "python",
   "name": "python3"
  },
  "language_info": {
   "codemirror_mode": {
    "name": "ipython",
    "version": 3
   },
   "file_extension": ".py",
   "mimetype": "text/x-python",
   "name": "python",
   "nbconvert_exporter": "python",
   "pygments_lexer": "ipython3",
   "version": "3.7.6"
  }
 },
 "nbformat": 4,
 "nbformat_minor": 4
}
