{
 "cells": [
  {
   "cell_type": "markdown",
   "metadata": {},
   "source": [
    "## Neural Networks\n",
    "\n",
    "### Introduction\n",
    "\n",
    "<img width=\"60%\" class=\"imgright\" src=\"../images/circuit_brain.webp\" srcset=\"../images/circuit_brain_500w.webp 500w,../images/circuit_brain_400w.webp 400w,../images/circuit_brain_350w.webp 350w,../images/circuit_brain_300w.webp 300w\" alt=\"Brain with integrated circuit\" />\n",
    "\n",
    "When we say \"Neural Networks\", we mean artificial Neural Networks (ANN). The idea of ANN is based on biological neural networks like the brain of living being. \n",
    "\n",
    "The basic structure of a neural network - both an artificial and a living one - is the neuron. \n",
    "A neuron in biology consists of three major parts: the soma (cell body), the dendrites and the axon. \n",
    "\n",
    "The dendrites branch of from the soma in a tree-like way and become thinner with every branch.  They receive signals (impulses) from other neurons at synapses. The axon - there is always only one -  also leaves the soma and usually tend to extend for longer distances than the dentrites. The axon is used for sending the output of the neuron to other neurons or better to the synapsis of other neurons.\n",
    "\n",
    "### Biological Neuron\n",
    "\n",
    "The following image by [Quasar Jarosz](https://en.wikipedia.org/wiki/User:Quasar_Jarosz), courtesy of Wikipedia, illustrates this:"
   ]
  },
  {
   "cell_type": "markdown",
   "metadata": {},
   "source": [
    "![Image of a Neuron in biology](../images/Neuron.webp \"Image of a Neuron in Biology\")"
   ]
  },
  {
   "cell_type": "markdown",
   "metadata": {},
   "source": [
    "### Abstraction of a Biological Neuron and Artificial Neuron\n",
    "\n",
    "Even though the above image is already an abstraction for a biologist, we can further abstract it:"
   ]
  },
  {
   "cell_type": "markdown",
   "metadata": {},
   "source": [
    "![Abstract View of a Neuron](../images/neuron_biology_abstraction.webp \"Abstract view of a Neuron both biological and artificial\")"
   ]
  },
  {
   "cell_type": "markdown",
   "metadata": {},
   "source": [
    "A perceptron of artificial neural networks is simulating a biological neuron."
   ]
  },
  {
   "cell_type": "markdown",
   "metadata": {},
   "source": [
    "![Image of a Perceptron of a Neural Network](../images/neuron_neural_network.webp \"Image of a Perceptron of a Neural Network\")"
   ]
  },
  {
   "cell_type": "markdown",
   "metadata": {},
   "source": [
    "It is amazingly simple, what is going on inside the body of a perceptron or neuron. The input signals get multiplied by weight values, i.e. each input has its corresponding weight. This way the input can be adjusted individually for every $x_i$. We can see  all the inputs as an input vector and the corresponding weights as the weights vector.\n",
    "\n",
    "When a signal comes in, it gets multiplied by a weight value that is assigned to this particular input. That is, if a neuron has three inputs, then it has three weights that can be adjusted individually. The weights usually get adjusted during the learn phase.   \n",
    "After this the modified input signals are summed up. It is also possible to add additionally a so-called bias 'b' to this sum. The bias is a value which can also be adjusted during the learn phase.\n",
    "\n",
    "Finally, the actual output has to be determined. For this purpose an activation or step function &Phi; is applied to the weighted sum of the input values."
   ]
  },
  {
   "cell_type": "markdown",
   "metadata": {},
   "source": [
    "![Detailled view of a Perceptron of a Neural Network](../images/neuron_neural_network_detailled_view.webp \"Detailled view of a Perceptron of a Neural Network\")"
   ]
  },
  {
   "cell_type": "markdown",
   "metadata": {},
   "source": [
    "The simplest form of an activation function is a binary function. If the result of the summation is greater than some threshold s, the result of $\\Phi$ will be 1, otherwise 0.\n",
    "\t\n",
    "\n",
    "$$\n",
    "\\Phi(x) = \\left\\{ \\begin{array}{rl}\n",
    " 1 &\\mbox{ wx + b > s} \\\\\n",
    " 0 &\\mbox{ otherwise}\n",
    "       \\end{array} \\right.\n",
    "$$\n",
    "\n",
    "\n"
   ]
  },
  {
   "cell_type": "markdown",
   "metadata": {},
   "source": [
    "![Building Principle of a Simple Artificial Neural Network](../images/simple_ANN.webp \"Building Principle of a Simple Artificial Neural Network\")"
   ]
  },
  {
   "cell_type": "markdown",
   "metadata": {},
   "source": [
    "### Number of Neuron in Animals\n",
    "\n",
    "We will examine in the following chapters artificial neuronal networks of various sizes and structures. It is interesting to have a look at the total numbers of neurons some animals have:\n",
    "\n",
    "\n",
    "\n",
    "\n",
    "<ul>\n",
    "    <li>Roundworm: 302<br>\n",
    "    </li>\n",
    "    \n",
    "    <li>Jellyfish</li>\n",
    "</ul>"
   ]
  },
  {
   "cell_type": "code",
   "execution_count": null,
   "metadata": {},
   "outputs": [],
   "source": []
  }
 ],
 "metadata": {
  "anaconda-cloud": {},
  "kernelspec": {
   "display_name": "Python 3",
   "language": "python",
   "name": "python3"
  },
  "language_info": {
   "codemirror_mode": {
    "name": "ipython",
    "version": 3
   },
   "file_extension": ".py",
   "mimetype": "text/x-python",
   "name": "python",
   "nbconvert_exporter": "python",
   "pygments_lexer": "ipython3",
   "version": "3.7.6"
  },
  "toc": {
   "base_numbering": 1,
   "nav_menu": {},
   "number_sections": true,
   "sideBar": true,
   "skip_h1_title": false,
   "title_cell": "Table of Contents",
   "title_sidebar": "Contents",
   "toc_cell": false,
   "toc_position": {},
   "toc_section_display": true,
   "toc_window_display": false
  }
 },
 "nbformat": 4,
 "nbformat_minor": 4
}
