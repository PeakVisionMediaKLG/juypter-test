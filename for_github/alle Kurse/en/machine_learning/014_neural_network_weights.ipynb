{
 "cells": [
  {
   "cell_type": "markdown",
   "metadata": {},
   "source": [
    "## Neural Networks, Structure, Weights and Matrices"
   ]
  },
  {
   "cell_type": "markdown",
   "metadata": {},
   "source": [
    "<br><br>\n",
    "\n",
    "### Introduction\n",
    "\n",
    "<br>\n",
    "<img width=\"60%\" class=\"imgright\" src=\"../images/network_weights_marvin.webp\" srcset=\"../images/network_weights_marvin_800w.webp 800w,../images/network_weights_marvin_700w.webp 700w,../images/network_weights_marvin_600w.webp 600w,../images/network_weights_marvin_500w.webp 500w,../images/network_weights_marvin_400w.webp 400w,../images/network_weights_marvin_350w.webp 350w,../images/network_weights_marvin_300w.webp 300w\" alt=\"The Weights in a Neural Network and Marvin\" />\n",
    "\n",
    "We introduced the basic ideas about neural networks in the previous chapter of our machine learning tutorial.\n",
    "\n",
    "We have pointed out the similarity between neurons and neural networks in biology. We also introduced very small articial neural networks and introduced decision boundaries and the XOR problem.\n",
    "\n",
    "In the simple examples we introduced so far, we saw that the weights are the essential parts of a neural network. Before we start to write a neural network with multiple layers, we need to have a closer look at the weights. \n",
    "\n",
    "We have to see how to initialize the weights and how to efficiently multiply the weights with the input values. \n",
    "\n",
    "In the following chapters we will design a neural network in Python, which consists of three layers, i.e. the input layer, a hidden layer and an output layer. You can see this neural network structure in the following diagram. We have an input layer with three nodes $i_1, i_2, i_3$ These nodes get the corresponding input values $x_1, x_2, x_3$. The middle or hidden layer has four nodes $h_1, h_2, h_3, h_4$. The input of this layer stems from the input layer. We will discuss the mechanism soon. Finally, our output layer consists of the two nodes $o_1, o_2$\n",
    "\n",
    "The input layer is different from the other layers. The nodes of the input layer are passive. This means that the input neurons do not change the data, i.e. there are no weights used in this case. They receive a single value and duplicate this value to their many outputs.\n"
   ]
  },
  {
   "cell_type": "markdown",
   "metadata": {},
   "source": [
    "![Neuronal Network with 3 input, 4 hidden und 2 output nodes](../images/example_network_3_4_2_without_bias.webp \"Neuronal Network with 3 input, 4 hidden und 2 output nodes\")"
   ]
  },
  {
   "cell_type": "markdown",
   "metadata": {},
   "source": [
    "The input layer consists of the nodes $i_1$, $i_2$ and $i_3$. In principle the input is a one-dimensional vector, like \n",
    "(2, 4, 11). A one-dimensional vector is represented in numpy like this:"
   ]
  },
  {
   "cell_type": "code",
   "execution_count": 1,
   "metadata": {},
   "outputs": [
    {
     "name": "stdout",
     "output_type": "stream",
     "text": [
      "[ 2  4 11]\n"
     ]
    }
   ],
   "source": [
    "import numpy as np\n",
    "\n",
    "input_vector = np.array([2, 4, 11])\n",
    "print(input_vector)"
   ]
  },
  {
   "cell_type": "markdown",
   "metadata": {},
   "source": [
    "In the algorithm, which we will write later, we will have to transpose it into a column vector, i.e. a two-dimensional array with just one column:"
   ]
  },
  {
   "cell_type": "code",
   "execution_count": 2,
   "metadata": {},
   "outputs": [
    {
     "name": "stdout",
     "output_type": "stream",
     "text": [
      "The input vector:\n",
      " [[ 2]\n",
      " [ 4]\n",
      " [11]]\n",
      "The shape of this vector:  (3, 1)\n"
     ]
    }
   ],
   "source": [
    "import numpy as np\n",
    "\n",
    "input_vector = np.array([2, 4, 11])\n",
    "input_vector = np.array(input_vector, ndmin=2).T\n",
    "print(\"The input vector:\\n\", input_vector)\n",
    "\n",
    "print(\"The shape of this vector: \", input_vector.shape)"
   ]
  },
  {
   "cell_type": "markdown",
   "metadata": {},
   "source": [
    "### Weights and Matrices\n",
    "\n",
    "Each of the arrows in our network diagram has an associated weight value. We will only look at the arrows between the input and the output layer now. "
   ]
  },
  {
   "cell_type": "markdown",
   "metadata": {},
   "source": [
    "![Links/Arrows between input and hidden layer with example values](../images/weights_input2hidden_example_values.webp \"Links/Arrows between input and hidden layer with example values\")"
   ]
  },
  {
   "cell_type": "markdown",
   "metadata": {},
   "source": [
    "The value $x_1$ going into the node $i_1$ will be distributed according to the values of the weights. In the following diagram we have added some example values. Using these values, the input values ($Ih_1, Ih_2, Ih_3, Ih_4$ into the nodes ($h_1, h_2, h_3, h_4$) of the hidden layer  can be calculated like this:\n",
    "\n",
    "$Ih_1 = 0.81 * 0.5 + 0.12 * 1 + 0.92 * 0.8 $\n",
    "\n",
    "$Ih_2 = 0.33 * 0.5 + 0.44 * 1 + 0.72 * 0.8 $\n",
    "\n",
    "$Ih_3 = 0.29 * 0.5 + 0.22 * 1 + 0.53 * 0.8 $\n",
    "\n",
    "$Ih_4 = 0.37 * 0.5 + 0.12 * 1 + 0.27 * 0.8 $\n",
    "\n",
    "\n",
    "Those familiar with matrices and matrix multiplication will see where it is boiling down to. We will redraw our network and denote the weights with $w_{ij}$:"
   ]
  },
  {
   "cell_type": "markdown",
   "metadata": {},
   "source": [
    "![Links/Arrows between input and hidden layer](../images/weights_input2hidden_1.webp \"Links/Arrows between input and hidden layer\")"
   ]
  },
  {
   "cell_type": "markdown",
   "metadata": {},
   "source": [
    "In order to efficiently execute all the necessary calaculations, we will arrange the weights into a weight matrix. The weights in our diagram above build an array, which we will call 'weights_in_hidden' in our Neural Network class. The name should indicate that the weights are connecting the input and the hidden nodes, i.e. they are between the input and the hidden layer. We will also abbreviate the name as 'wih'. The weight matrix between the hidden and the output layer will be denoted as \"who\".:"
   ]
  },
  {
   "cell_type": "markdown",
   "metadata": {},
   "source": [
    "![weight matrix between the input and the hidden layer](../images/weight_matrix_input.webp \"weight matrix between the input and the hidden layer\")\n",
    "\n",
    "![weight matrix between the hidden and the output layer](../images/weight_matrix_hidden.webp \"weight matrix between the hidden and the output layer\")"
   ]
  },
  {
   "cell_type": "markdown",
   "metadata": {},
   "source": [
    "Now that we have defined our weight matrices, we have to take the next step. We have to multiply the matrix wih the input vector. Btw. this is exactly what we have manually done in our previous example.\n"
   ]
  },
  {
   "cell_type": "markdown",
   "metadata": {},
   "source": [
    "$$\\left(\\begin{array}{cc} y_1\\\\y_2\\\\y_3\\\\y_4\\end{array}\\right)=\\left(\\begin{array}{cc} w_{11} & w_{12} & w_{13}\\\\w_{21} & w_{22} & w_{23}\\\\w_{31} & w_{32} & w_{33}\\\\w_{41} &w_{42}& w_{43}\\end{array}\\right)\\left(\\begin{array}{cc} x_1\\\\x_2\\\\x_3\\end{array}\\right)=\\left(\\begin{array}{cc} w_{11} \\cdot x_1 + w_{12} \\cdot x_2 + w_{13} \\cdot x_3\\\\w_{21} \\cdot x_1 + w_{22} \\cdot x_2 + w_{23} \\cdot x_3\\\\w_{31} \\cdot x_1 + w_{32} \\cdot x_2 + w_{33}\\cdot x_3\\\\w_{41} \\cdot x_1 + w_{42} \\cdot x_2 + w_{43} \\cdot x_3\\end{array}\\right)$$"
   ]
  },
  {
   "cell_type": "markdown",
   "metadata": {},
   "source": [
    "We have a similar situation for the 'who' matrix between hidden and output layer. So the output $z_1$ and $z_2$ from the nodes $o_1$ and $o_2$ can also be calculated with matrix multiplications:"
   ]
  },
  {
   "cell_type": "markdown",
   "metadata": {},
   "source": [
    "$$ \\left(\\begin{array}{cc} z_1\\\\z_2\\end{array}\\right)=\\left(\\begin{array}{cc} wh_{11} & wh_{12} & wh_{13} & wh_{14}\\\\wh_{21} & wh_{22} & wh_{23} & wh_{24}\\end{array}\\right)\\left(\\begin{array}{cc} y_1\\\\y_2\\\\y_3\\\\y_4\\end{array}\\right)=\\left(\\begin{array}{cc} wh_{11} \\cdot y_1 + wh_{12} \\cdot y_2 + wh_{13} \\cdot y_3 + wh_{14} \\cdot y_4\\\\wh_{21} \\cdot y_1 + wh_{22} \\cdot y_2 + wh_{23} \\cdot y_3 + wh_{24} \\cdot y_4\\end{array}\\right)$$ "
   ]
  },
  {
   "cell_type": "markdown",
   "metadata": {},
   "source": [
    "You might have noticed that something is missing in our previous calculations. We showed in our introductory chapter [Neural Networks from Scratch in Python](neural_networks.php) that we have to apply an activation or step function $\\Phi$ on each of these sums. \n",
    "\n",
    "The following picture depicts the whole flow of calculation, i.e. the matrix multiplication and the succeeding application of the activation function.  \n",
    "The matrix multiplication between the matrix wih and the matrix of the values of the input nodes $x_1, x_2, x_3$ calculates the output which will be passed to the activation function. "
   ]
  },
  {
   "cell_type": "markdown",
   "metadata": {},
   "source": [
    "![Weights Array from input to hidden layer with calculation](../images/weights_input2hidden.webp \"Weights Array from input to hidden layer with calculation\")"
   ]
  },
  {
   "cell_type": "markdown",
   "metadata": {},
   "source": [
    "The final output $y_1, y_2, y_3, y_4$ is the input of the weight matrix who: "
   ]
  },
  {
   "cell_type": "markdown",
   "metadata": {},
   "source": [
    "Even though treatment is completely analogue, we will also have a detailled look at what is going on between our hidden layer and the output layer:"
   ]
  },
  {
   "cell_type": "markdown",
   "metadata": {},
   "source": [
    "![Weights Array from hidden to output layer with calculation](../images/weights_hidden2output.webp \"Weights Array from hidden  to output layer with calculation\")"
   ]
  },
  {
   "cell_type": "markdown",
   "metadata": {},
   "source": [
    "### Initializing the weight matrices\n",
    "\n",
    "One of the important choices which have to be made before training a neural network consists in initializing the weight matrices. We don't know anything about the possible weights, when we start. So, we could start with arbitrary values?\n",
    "\n",
    "As we have seen the input to all the nodes except the input nodes is calculated by applying the activation function to the following sum:\n",
    "\n",
    "$$y_j = \\sum_{i=1}^{n} w_{ji} \\cdot x_i$$\n",
    "\n",
    "(with n being the number of nodes in the previous layer and $y_j$ is the input to a node of the next layer)\n",
    "\n",
    "We can easily see that it would not be a good idea to set all the weight values to 0, because in this case the result of this  summation will always be zero. This means that our network will be incapable of learning. This is the worst choice, but initializing a weight matrix to ones is also a bad choice. \n",
    "\n",
    "The values for the weight matrices should be chosen randomly and not arbitrarily. By choosing a random normal distribution we have broken possible symmetric situations, which can and often are bad for the learning process.\n",
    "\n",
    "\n",
    "There are various ways to initialize the weight matrices randomly. \n",
    "The first one we will introduce is the unity function from numpy.random. It creates samples which are uniformly distributed over the half-open interval [low, high), which means that low is included and  high is excluded.  Each value within the given interval is equally likely to be drawn by 'uniform'."
   ]
  },
  {
   "cell_type": "code",
   "execution_count": 3,
   "metadata": {},
   "outputs": [
    {
     "name": "stdout",
     "output_type": "stream",
     "text": [
      "True\n"
     ]
    }
   ],
   "source": [
    "import numpy as np\n",
    "\n",
    "number_of_samples = 1200\n",
    "low = -1\n",
    "high = 0\n",
    "s = np.random.uniform(low, high, number_of_samples)\n",
    "\n",
    "# all values of s are within the half open interval [-1, 0) :\n",
    "print(np.all(s >= -1) and np.all(s < 0))"
   ]
  },
  {
   "cell_type": "markdown",
   "metadata": {},
   "source": [
    "The histogram of the samples, created with the uniform function in our previous example, looks like this:"
   ]
  },
  {
   "cell_type": "code",
   "execution_count": 4,
   "metadata": {},
   "outputs": [
    {
     "data": {
      "image/png": "[encoded data removed]",
      "text/plain": [
       "<Figure size 432x288 with 1 Axes>"
      ]
     },
     "metadata": {
      "needs_background": "light"
     },
     "output_type": "display_data"
    }
   ],
   "source": [
    "import matplotlib.pyplot as plt\n",
    "plt.hist(s)\n",
    "plt.show()"
   ]
  },
  {
   "cell_type": "markdown",
   "metadata": {},
   "source": [
    "The next function we will look at is 'binomial' from numpy.binomial:\n",
    "\n",
    "```\n",
    "binomial(n, p, size=None)\n",
    "```\n",
    "  \n",
    "It draws samples from a binomial distribution with specified parameters,\n",
    "```n``` trials and probability ```p``` of success where ```n``` is an integer ```>= 0``` and ```p``` is \n",
    "a float in the interval [0,1]. (```n``` may be input as a float, but it is truncated to an integer in use)\n"
   ]
  },
  {
   "cell_type": "code",
   "execution_count": 5,
   "metadata": {},
   "outputs": [
    {
     "data": {
      "image/png": "[encoded data removed]",
      "text/plain": [
       "<Figure size 432x288 with 1 Axes>"
      ]
     },
     "metadata": {
      "needs_background": "light"
     },
     "output_type": "display_data"
    }
   ],
   "source": [
    "s = np.random.binomial(100, 0.5, 1200)\n",
    "plt.hist(s)\n",
    "plt.show()"
   ]
  },
  {
   "cell_type": "markdown",
   "metadata": {},
   "source": [
    "We like to create random numbers with a normal distribution, but the numbers have to be bounded. This is not the case with np.random.normal(), because it doesn't offer any bound parameter.\n",
    "\n",
    "We can use truncnorm from scipy.stats for this purpose.\n",
    "\n",
    "The standard form of this distribution is a standard normal truncated to the range [a, b] — notice that a and b are defined over the domain of the standard normal. To convert clip values for a specific mean and standard deviation, use:\n",
    "\n",
    "```\n",
    "a, b = (myclip_a - my_mean) / my_std, (myclip_b - my_mean) / my_std\n",
    "```"
   ]
  },
  {
   "cell_type": "code",
   "execution_count": 6,
   "metadata": {},
   "outputs": [
    {
     "data": {
      "image/png": "[encoded data removed]",
      "text/plain": [
       "<Figure size 432x288 with 1 Axes>"
      ]
     },
     "metadata": {
      "needs_background": "light"
     },
     "output_type": "display_data"
    }
   ],
   "source": [
    "from scipy.stats import truncnorm\n",
    "\n",
    "s = truncnorm(a=-2/3., b=2/3., scale=1, loc=0).rvs(size=1000)\n",
    "\n",
    "plt.hist(s)\n",
    "plt.show()"
   ]
  },
  {
   "cell_type": "markdown",
   "metadata": {},
   "source": [
    "The function 'truncnorm' is difficult to use.  To make life easier, we define a function ```truncated_normal``` in the following to fascilitate this task:"
   ]
  },
  {
   "cell_type": "code",
   "execution_count": 7,
   "metadata": {},
   "outputs": [
    {
     "data": {
      "image/png": "[encoded data removed]",
      "text/plain": [
       "<Figure size 432x288 with 1 Axes>"
      ]
     },
     "metadata": {
      "needs_background": "light"
     },
     "output_type": "display_data"
    }
   ],
   "source": [
    "def truncated_normal(mean=0, sd=1, low=0, upp=10):\n",
    "    return truncnorm(\n",
    "        (low - mean) / sd, (upp - mean) / sd, loc=mean, scale=sd)\n",
    "\n",
    "X = truncated_normal(mean=0, sd=0.4, low=-0.5, upp=0.5)\n",
    "s = X.rvs(10000)\n",
    "\n",
    "plt.hist(s)\n",
    "plt.show()"
   ]
  },
  {
   "cell_type": "markdown",
   "metadata": {},
   "source": [
    "Further examples:"
   ]
  },
  {
   "cell_type": "code",
   "execution_count": 8,
   "metadata": {},
   "outputs": [
    {
     "data": {
      "image/png": "[encoded data removed]",
      "text/plain": [
       "<Figure size 432x288 with 3 Axes>"
      ]
     },
     "metadata": {
      "needs_background": "light"
     },
     "output_type": "display_data"
    }
   ],
   "source": [
    "X1 = truncated_normal(mean=2, sd=1, low=1, upp=10)\n",
    "X2 = truncated_normal(mean=5.5, sd=1, low=1, upp=10)\n",
    "X3 = truncated_normal(mean=8, sd=1, low=1, upp=10)\n",
    "\n",
    "import matplotlib.pyplot as plt\n",
    "fig, ax = plt.subplots(3, sharex=True)\n",
    "ax[0].hist(X1.rvs(10000), density=True)\n",
    "ax[1].hist(X2.rvs(10000), density=True)\n",
    "ax[2].hist(X3.rvs(10000), density=True)\n",
    "plt.show()"
   ]
  },
  {
   "cell_type": "markdown",
   "metadata": {},
   "source": [
    "We will create the link weights matrix now. ```truncated_normal``` is ideal for this purpose. \n",
    "It is a good idea to choose random values from within the interval \n",
    "\n",
    "$$(-\\frac{1}{\\sqrt{n}}, \\frac{1}{\\sqrt{n}})$$ where n denotes the number of input nodes. \n",
    "\n",
    "So we can create our \"wih\" matrix with:"
   ]
  },
  {
   "cell_type": "code",
   "execution_count": 9,
   "metadata": {},
   "outputs": [
    {
     "data": {
      "text/plain": [
       "array([[-0.41379992, -0.24122842, -0.0303682 ],\n",
       "       [ 0.07304837, -0.00160437,  0.0911987 ],\n",
       "       [ 0.32405689,  0.5103896 ,  0.23972997],\n",
       "       [ 0.097932  , -0.06646741,  0.01359876]])"
      ]
     },
     "execution_count": 9,
     "metadata": {},
     "output_type": "execute_result"
    }
   ],
   "source": [
    "no_of_input_nodes = 3\n",
    "no_of_hidden_nodes = 4\n",
    "rad = 1 / np.sqrt(no_of_input_nodes)\n",
    "\n",
    "X = truncated_normal(mean=2, sd=1, low=-rad, upp=rad)\n",
    "wih = X.rvs((no_of_hidden_nodes, no_of_input_nodes))\n",
    "wih"
   ]
  },
  {
   "cell_type": "markdown",
   "metadata": {},
   "source": [
    "Similarly, we can now define the \"who\" weight matrix:"
   ]
  },
  {
   "cell_type": "code",
   "execution_count": 10,
   "metadata": {},
   "outputs": [
    {
     "data": {
      "text/plain": [
       "array([[ 0.15892038,  0.06060043,  0.35900184,  0.14202827],\n",
       "       [-0.4758216 ,  0.29563269,  0.46035026, -0.29673539]])"
      ]
     },
     "execution_count": 10,
     "metadata": {},
     "output_type": "execute_result"
    }
   ],
   "source": [
    "no_of_hidden_nodes = 4\n",
    "no_of_output_nodes = 2\n",
    "rad = 1 / np.sqrt(no_of_hidden_nodes)  # this is the input in this layer!\n",
    "\n",
    "X = truncated_normal(mean=2, sd=1, low=-rad, upp=rad)\n",
    "who = X.rvs((no_of_output_nodes, no_of_hidden_nodes))\n",
    "who"
   ]
  }
 ],
 "metadata": {
  "kernelspec": {
   "display_name": "Python 3",
   "language": "python",
   "name": "python3"
  },
  "language_info": {
   "codemirror_mode": {
    "name": "ipython",
    "version": 3
   },
   "file_extension": ".py",
   "mimetype": "text/x-python",
   "name": "python",
   "nbconvert_exporter": "python",
   "pygments_lexer": "ipython3",
   "version": "3.7.6"
  },
  "toc": {
   "base_numbering": 1,
   "nav_menu": {},
   "number_sections": true,
   "sideBar": true,
   "skip_h1_title": false,
   "title_cell": "Table of Contents",
   "title_sidebar": "Contents",
   "toc_cell": false,
   "toc_position": {},
   "toc_section_display": true,
   "toc_window_display": false
  }
 },
 "nbformat": 4,
 "nbformat_minor": 4
}
