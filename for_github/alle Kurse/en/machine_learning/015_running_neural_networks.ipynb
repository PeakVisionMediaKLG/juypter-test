{
 "cells": [
  {
   "cell_type": "markdown",
   "metadata": {},
   "source": [
    "## Running a Neural Network with Python\n",
    "<br><br>\n",
    "\n",
    "### A Neural Network Class\n",
    "\n",
    "<br>\n",
    "<img width=\"40%\" class=\"imgright\" src=\"../images/turn_on_neural_network.webp\" srcset=\"../images/turn_on_neural_network_700w.webp 700w,../images/turn_on_neural_network_600w.webp 600w,../images/turn_on_neural_network_500w.webp 500w,../images/turn_on_neural_network_400w.webp 400w,../images/turn_on_neural_network_350w.webp 350w,../images/turn_on_neural_network_300w.webp 300w\" alt=\"Turn on neural network\" />\n",
    "\n",
    "We learned in the previous chapter of our tutorial on neural networks the most important facts about weights. We saw how they are used and how we can implement them in Python. We saw that the multiplication of the weights with the input values can be accomplished with arrays from Numpy by applying matrix multiplication.\n",
    "\n",
    "However, what we hadn't done was to test them in a real neural network environment. We have to create this environment first. We will now create a class in Python, implementing a neural network. We will proceed in small steps so that everything is easy to understand.\n",
    "\n",
    "The most essential methods our class needs are:\n",
    "\n",
    "- ```__init__``` to initialize a class, i.e. we will set the number of neurons for every layer and initialize the weight matrices.\n",
    "- ```run```: A method which is applied to a sample, which which we want to classify. It applies this sample to the neural network. We could say, we 'run' the network to 'predict' the result. This method is in other implementations often known as ```predict```.\n",
    "- ```train```: This method gets a sample and the corresponding target value as an input. With this input it can adjust the weight values if necessary. This means the network learns from an input. Seen from the user point of view, we 'train' the network. In ```sklearn``` for example, this method is called ```fit```\n",
    "\n",
    "We will postpone the definition of the ```train``` and ```run``` method until later. The weight matrices should be initialized inside of the ```__init__``` method. We do this indirectly. We define a method ```create_weight_matrices``` and call it in ```__init__```. In this way, the init method remains clear.\n",
    "\n",
    "We will also postpone adding bias nodes to the layers.\n",
    "\n",
    "The following Python code contains an implementation of a neural network class applying the knowledge we worked out in the previous chapter:"
   ]
  },
  {
   "cell_type": "code",
   "execution_count": 13,
   "metadata": {},
   "outputs": [],
   "source": [
    "import numpy as np\n",
    "from scipy.stats import truncnorm\n",
    "\n",
    "def truncated_normal(mean=0, sd=1, low=0, upp=10):\n",
    "    return truncnorm(\n",
    "        (low - mean) / sd, (upp - mean) / sd, loc=mean, scale=sd)\n",
    "\n",
    "class NeuralNetwork:\n",
    "   \n",
    "    def __init__(self, \n",
    "                 no_of_in_nodes, \n",
    "                 no_of_out_nodes, \n",
    "                 no_of_hidden_nodes,\n",
    "                 learning_rate):\n",
    "        self.no_of_in_nodes = no_of_in_nodes\n",
    "        self.no_of_out_nodes = no_of_out_nodes \n",
    "        self.no_of_hidden_nodes = no_of_hidden_nodes\n",
    "        self.learning_rate = learning_rate  \n",
    "        self.create_weight_matrices()\n",
    "        \n",
    "    def create_weight_matrices(self):\n",
    "        rad = 1 / np.sqrt(self.no_of_in_nodes)\n",
    "        X = truncated_normal(mean=0, sd=1, low=-rad, upp=rad)\n",
    "        self.weights_in_hidden = X.rvs((self.no_of_hidden_nodes, \n",
    "                                       self.no_of_in_nodes))\n",
    "        rad = 1 / np.sqrt(self.no_of_hidden_nodes)\n",
    "        X = truncated_normal(mean=0, sd=1, low=-rad, upp=rad)\n",
    "        self.weights_hidden_out = X.rvs((self.no_of_out_nodes, \n",
    "                                        self.no_of_hidden_nodes))\n",
    "           \n",
    "    \n",
    "    def train(self):\n",
    "        pass\n",
    "    \n",
    "    def run(self):\n",
    "        pass\n"
   ]
  },
  {
   "cell_type": "markdown",
   "metadata": {},
   "source": [
    "We cannot do a lot with this code, but we can at least initialize it. We can also have a look at the weight matrices:"
   ]
  },
  {
   "cell_type": "code",
   "execution_count": 14,
   "metadata": {},
   "outputs": [
    {
     "name": "stdout",
     "output_type": "stream",
     "text": [
      "[[-0.3460287  -0.19427278 -0.19102916]\n",
      " [ 0.56743476 -0.47164202 -0.06910573]\n",
      " [ 0.53013469 -0.05117752 -0.430623  ]\n",
      " [ 0.48414483  0.31263278 -0.08123676]]\n",
      "[[-0.12645547  0.05260599 -0.36278102 -0.32649173]\n",
      " [-0.20841352 -0.01456191 -0.13778649 -0.08920465]]\n"
     ]
    }
   ],
   "source": [
    "\n",
    "simple_network = NeuralNetwork(no_of_in_nodes = 3, \n",
    "                               no_of_out_nodes = 2, \n",
    "                               no_of_hidden_nodes = 4,\n",
    "                               learning_rate = 0.1)\n",
    "print(simple_network.weights_in_hidden)\n",
    "print(simple_network.weights_hidden_out)"
   ]
  },
  {
   "cell_type": "markdown",
   "metadata": {},
   "source": [
    "### Activation Functions, Sigmoid and ReLU\n",
    "\n",
    "Before we can program the ```run``` method, we have to deal with the activation function. We had the following diagram in the introductory chapter on neural networks:\n",
    "\n",
    "<img width=\"80%\" src=\"../images/neuron_neural_network_detailled_view.webp\" srcset=\"../images/neuron_neural_network_detailled_view_800w.webp 800w,../images/neuron_neural_network_detailled_view_700w.webp 700w,../images/neuron_neural_network_detailled_view_600w.webp 600w,../images/neuron_neural_network_detailled_view_500w.webp 500w,../images/neuron_neural_network_detailled_view_400w.webp 400w,../images/neuron_neural_network_detailled_view_350w.webp 350w,../images/neuron_neural_network_detailled_view_300w.webp 300w\" alt=\"Detailled view of a Perceptron of a Neural Network\" />\n",
    "\n",
    "The input values of a perceptron are processed by the summation function and followed by an activation function, transforming the output of the summation function into a desired and more suitable output.\n",
    "The summation function means that we will have a matrix multiplication of the weight vectors and the input values. \n",
    "\n",
    "There are lots of different activation functions used in neural networks. One of the most comprehensive overviews of possible [activation functions](https://en.wikipedia.org/wiki/Activation_function) can be found at Wikipedia. \n",
    "\n",
    "The sigmoid function is one of the often used activation functions. The sigmoid function, which we are using, is also known as the Logistic function.\n",
    "\n",
    "It is defined as \n",
    "$$\\sigma(x) = \\frac{1}{1+e^{-x}}$$\n",
    "\n",
    "Let us have a look at the graph of the sigmoid function. We use matplotlib to plot the sigmoid function:"
   ]
  },
  {
   "cell_type": "code",
   "execution_count": 15,
   "metadata": {},
   "outputs": [
    {
     "data": {
      "image/png": "[encoded data removed]",
      "text/plain": [
       "<Figure size 432x288 with 1 Axes>"
      ]
     },
     "metadata": {
      "needs_background": "light"
     },
     "output_type": "display_data"
    }
   ],
   "source": [
    "import numpy as np\n",
    "import matplotlib.pyplot as plt\n",
    "def sigma(x):\n",
    "    return 1 / (1 + np.exp(-x))\n",
    "\n",
    "X = np.linspace(-5, 5, 100)\n",
    "\n",
    "\n",
    "plt.plot(X, sigma(X),'b')\n",
    "plt.xlabel('X Axis')\n",
    "plt.ylabel('Y Axis')\n",
    "plt.title('Sigmoid Function')\n",
    "\n",
    "plt.grid()\n",
    "\n",
    "plt.text(2.3, 0.84, r'$\\sigma(x)=\\frac{1}{1+e^{-x}}$', fontsize=16)\n",
    "\n",
    "\n",
    "plt.show()"
   ]
  },
  {
   "cell_type": "markdown",
   "metadata": {},
   "source": [
    "Looking at the graph, we can see that the sigmoid function maps a given number ```x``` into the range of numbers between 0 and 1. 0 and 1 not included! \n",
    "As the value of ```x``` gets larger, the value of the sigmoid function gets closer and closer to 1 and as ```x``` gets smaller, the value of the sigmoid function is approaching 0.\n",
    "\n",
    "Instead of defining the sigmoid function ourselves, we can also use the expit function from ```scipy.special```, which is an implementation of the sigmoid function. It can be applied on various data classes like int, float, list, numpy,ndarray and so on. The result is an ndarray of the same shape as the input data x. "
   ]
  },
  {
   "cell_type": "code",
   "execution_count": 16,
   "metadata": {},
   "outputs": [
    {
     "name": "stdout",
     "output_type": "stream",
     "text": [
      "0.9677045353015494\n",
      "[0.95257413 0.98201379 0.73105858]\n",
      "[0.68997448 0.90887704 0.99966465]\n"
     ]
    }
   ],
   "source": [
    "from scipy.special import expit\n",
    "print(expit(3.4))\n",
    "print(expit([3, 4, 1]))\n",
    "print(expit(np.array([0.8, 2.3, 8])))"
   ]
  },
  {
   "cell_type": "markdown",
   "metadata": {},
   "source": [
    "The logistic function is often often used in neural networks to introduce nonlinearity in the model and to map signals into a specified range, i.e. 0 and 1. It is also well liked because the derivative - needed in backpropagation - is simple. \n",
    "\n",
    "$$\\sigma(x)=\\frac{1}{1+e^{-x}}$$\n",
    "\n",
    "and its derivative:\n",
    "\n",
    "$$\\sigma'(x) = \\sigma(x)(1 - \\sigma(x))$$"
   ]
  },
  {
   "cell_type": "code",
   "execution_count": 17,
   "metadata": {},
   "outputs": [
    {
     "data": {
      "image/png": "[encoded data removed]",
      "text/plain": [
       "<Figure size 432x288 with 1 Axes>"
      ]
     },
     "metadata": {
      "needs_background": "light"
     },
     "output_type": "display_data"
    }
   ],
   "source": [
    "import numpy as np\n",
    "import matplotlib.pyplot as plt\n",
    "def sigma(x):\n",
    "    return 1 / (1 + np.exp(-x))\n",
    "\n",
    "X = np.linspace(-5, 5, 100)\n",
    "\n",
    "plt.plot(X, sigma(X))\n",
    "plt.plot(X, sigma(X) * (1 - sigma(X)))\n",
    "\n",
    "plt.xlabel('X Axis')\n",
    "plt.ylabel('Y Axis')\n",
    "plt.title('Sigmoid Function')\n",
    "\n",
    "plt.grid()\n",
    "\n",
    "plt.text(2.3, 0.84, r'$\\sigma(x)=\\frac{1}{1+e^{-x}}$', fontsize=16)\n",
    "plt.text(0.3, 0.1, r'$\\sigma\\'(x) = \\sigma(x)(1 - \\sigma(x))$', fontsize=16)\n",
    "\n",
    "\n",
    "plt.show()"
   ]
  },
  {
   "cell_type": "markdown",
   "metadata": {},
   "source": [
    "We can also define our own sigmoid function with the decorator vectorize from numpy:"
   ]
  },
  {
   "cell_type": "code",
   "execution_count": 18,
   "metadata": {},
   "outputs": [
    {
     "data": {
      "text/plain": [
       "array([0.95257413, 0.98201379, 0.99330715])"
      ]
     },
     "execution_count": 18,
     "metadata": {},
     "output_type": "execute_result"
    }
   ],
   "source": [
    "@np.vectorize\n",
    "def sigmoid(x):\n",
    "    return 1 / (1 + np.e ** -x)\n",
    "\n",
    "#sigmoid = np.vectorize(sigmoid)\n",
    "sigmoid([3, 4, 5])\n"
   ]
  },
  {
   "cell_type": "markdown",
   "metadata": {},
   "source": [
    "Another easy to use activation function is the ReLU function. ReLU stands for rectified linear unit. It is also known as the ramp function.  It is defined as the positve part of its argument, i.e. $y = \\max{(0, x)}$. This is \n",
    "\"currently, the most successful and widely-used activation function is the Rectified Linear Unit (ReLU)\"<sup>1</sup>\n",
    "The ReLu function is computationally more efficient than Sigmoid like functions, because Relu means only choosing the maximum between 0 and the argument ```x```. Whereas Sigmoids need to perform expensive exponential operations."
   ]
  },
  {
   "cell_type": "code",
   "execution_count": 19,
   "metadata": {},
   "outputs": [],
   "source": [
    "# alternative activation function\n",
    "def ReLU(x):\n",
    "    return np.maximum(0.0, x)\n",
    "\n",
    "# derivation of relu\n",
    "def ReLU_derivation(x):\n",
    "    if x <= 0:\n",
    "        return 0\n",
    "    else:\n",
    "        return 1"
   ]
  },
  {
   "cell_type": "code",
   "execution_count": 20,
   "metadata": {},
   "outputs": [
    {
     "data": {
      "image/png": "[encoded data removed]",
      "text/plain": [
       "<Figure size 432x288 with 1 Axes>"
      ]
     },
     "metadata": {
      "needs_background": "light"
     },
     "output_type": "display_data"
    }
   ],
   "source": [
    "import numpy as np\n",
    "import matplotlib.pyplot as plt\n",
    "\n",
    "X = np.linspace(-5, 6, 100)\n",
    "plt.plot(X, ReLU(X),'b')\n",
    "plt.xlabel('X Axis')\n",
    "plt.ylabel('Y Axis')\n",
    "plt.title('ReLU Function')\n",
    "plt.grid()\n",
    "plt.text(0.8, 0.4, r'$ReLU(x)=max(0, x)$', fontsize=14)\n",
    "plt.show()"
   ]
  },
  {
   "cell_type": "markdown",
   "metadata": {},
   "source": [
    "### Adding a run Method\n",
    "\n",
    "We have everything together now to implement the ```run``` (or ```predict```) method of our neural network class. We will use ```scipy.special``` as the activation function and rename it to ```activation_function```:"
   ]
  },
  {
   "cell_type": "code",
   "execution_count": 21,
   "metadata": {},
   "outputs": [],
   "source": [
    "from scipy.special import expit as activation_function"
   ]
  },
  {
   "cell_type": "markdown",
   "metadata": {},
   "source": [
    "All we have to do in the ```run``` method consists of the following. \n",
    "1. Matrix multiplication of the input vector and the weights_in_hidden matrix.\n",
    "2. Applying the activation function to the result of step 1\n",
    "3. Matrix multiplication of the result vector of step 2 and the weights_in_hidden matrix.\n",
    "4. To get the final result: Applying the activation function to the result of 3"
   ]
  },
  {
   "cell_type": "code",
   "execution_count": 22,
   "metadata": {},
   "outputs": [],
   "source": [
    "import numpy as np\n",
    "from scipy.special import expit as activation_function\n",
    "from scipy.stats import truncnorm\n",
    "\n",
    "def truncated_normal(mean=0, sd=1, low=0, upp=10):\n",
    "    return truncnorm(\n",
    "        (low - mean) / sd, (upp - mean) / sd, loc=mean, scale=sd)\n",
    "\n",
    "\n",
    "class NeuralNetwork:\n",
    "           \n",
    "    def __init__(self, \n",
    "                 no_of_in_nodes, \n",
    "                 no_of_out_nodes, \n",
    "                 no_of_hidden_nodes,\n",
    "                 learning_rate):\n",
    "        self.no_of_in_nodes = no_of_in_nodes\n",
    "        self.no_of_out_nodes = no_of_out_nodes\n",
    "        self.no_of_hidden_nodes = no_of_hidden_nodes\n",
    "        self.learning_rate = learning_rate \n",
    "        self.create_weight_matrices()\n",
    "        \n",
    "    def create_weight_matrices(self):\n",
    "        \"\"\" A method to initialize the weight matrices of the neural network\"\"\"\n",
    "        rad = 1 / np.sqrt(self.no_of_in_nodes)\n",
    "        X = truncated_normal(mean=0, sd=1, low=-rad, upp=rad)\n",
    "        self.weights_in_hidden = X.rvs((self.no_of_hidden_nodes, \n",
    "                                       self.no_of_in_nodes))\n",
    "        rad = 1 / np.sqrt(self.no_of_hidden_nodes)\n",
    "        X = truncated_normal(mean=0, sd=1, low=-rad, upp=rad)\n",
    "        self.weights_hidden_out = X.rvs((self.no_of_out_nodes, \n",
    "                                        self.no_of_hidden_nodes))\n",
    "    \n",
    "    \n",
    "    def train(self, input_vector, target_vector):\n",
    "        pass\n",
    "            \n",
    "    \n",
    "    def run(self, input_vector):\n",
    "        \"\"\"\n",
    "        running the network with an input vector 'input_vector'. \n",
    "        'input_vector' can be tuple, list or ndarray\n",
    "        \"\"\"\n",
    "        # turning the input vector into a column vector\n",
    "        input_vector = np.array(input_vector, ndmin=2).T\n",
    "        input_hidden = activation_function(self.weights_in_hidden @ input_vector)\n",
    "        output_vector = activation_function(self.weights_hidden_out @ input_hidden)\n",
    "        return output_vector\n",
    "            "
   ]
  },
  {
   "cell_type": "markdown",
   "metadata": {},
   "source": [
    "We can instantiate an instance of this class, which will be a neural network. In the following example we create a network with two input nodes, four hidden nodes, and two output nodes."
   ]
  },
  {
   "cell_type": "code",
   "execution_count": 23,
   "metadata": {},
   "outputs": [],
   "source": [
    "simple_network = NeuralNetwork(no_of_in_nodes=2, \n",
    "                               no_of_out_nodes=2, \n",
    "                               no_of_hidden_nodes=4,\n",
    "                               learning_rate=0.6)"
   ]
  },
  {
   "cell_type": "markdown",
   "metadata": {},
   "source": [
    "We can apply the run method to all arrays with a shape of (2,), also lists and tuples with two numerical elements. The result of the call is defined by the random values of the weights:"
   ]
  },
  {
   "cell_type": "code",
   "execution_count": 24,
   "metadata": {},
   "outputs": [
    {
     "data": {
      "text/plain": [
       "array([[0.54558831],\n",
       "       [0.6834667 ]])"
      ]
     },
     "execution_count": 24,
     "metadata": {},
     "output_type": "execute_result"
    }
   ],
   "source": [
    "simple_network.run([(3, 4)])"
   ]
  },
  {
   "cell_type": "markdown",
   "metadata": {},
   "source": [
    "\n",
    "<h3>Footnotes</h3>\n",
    "<br>\n",
    "<sup>1</sup> Ramachandran, Prajit; Barret, Zoph; Quoc, V. Le (October 16, 2017). [\"Searching for Activation Functions\"](https://arxiv.org/abs/1710.05941). "
   ]
  }
 ],
 "metadata": {
  "kernelspec": {
   "display_name": "Python 3",
   "language": "python",
   "name": "python3"
  },
  "language_info": {
   "codemirror_mode": {
    "name": "ipython",
    "version": 3
   },
   "file_extension": ".py",
   "mimetype": "text/x-python",
   "name": "python",
   "nbconvert_exporter": "python",
   "pygments_lexer": "ipython3",
   "version": "3.7.3"
  },
  "toc": {
   "base_numbering": 1,
   "nav_menu": {},
   "number_sections": true,
   "sideBar": true,
   "skip_h1_title": false,
   "title_cell": "Table of Contents",
   "title_sidebar": "Contents",
   "toc_cell": false,
   "toc_position": {},
   "toc_section_display": true,
   "toc_window_display": false
  }
 },
 "nbformat": 4,
 "nbformat_minor": 4
}
