{
 "cells": [
  {
   "cell_type": "markdown",
   "metadata": {},
   "source": [
    "## Training a Neural Network with Python\n",
    "<br><br>\n",
    "\n",
    "### Introduction\n",
    "\n",
    "<img width=\"60%\" class=\"imgright\" src=\"../images/neural_networks_learning.webp\" srcset=\"../images/neural_networks_learning_800w.webp 800w,../images/neural_networks_learning_700w.webp 700w,../images/neural_networks_learning_600w.webp 600w,../images/neural_networks_learning_500w.webp 500w,../images/neural_networks_learning_400w.webp 400w,../images/neural_networks_learning_350w.webp 350w,../images/neural_networks_learning_300w.webp 300w\" alt=\"Teacher explaining neural network\" />\n",
    "\n",
    "In the chapter \"[Running Neural Networks](running_neural_networks.php)\", we programmed a class in Python code called 'NeuralNetwork'. The instances of this class are networks with three layers. When we instantiate an ANN of this class, the weight matrices between the layers are automatically and randomly chosen. It is even possible to run such a ANN on some input, but naturally it doesn't make a lot of sense exept for testing purposes. Such an ANN cannot provide correct classification results. In fact, the classification results are in no way adapted to the expected results. The values of the weight matrices have to be set according the the classification task. We need to improve the weight values, which means that we have to train our network. To train it we have to implement backpropagation in the ```train``` method. If you don't understand backpropagation and want to understand it, we recommend to go back to the chapter [Backpropagation in Neural Networks](neural_networks_backpropagation.php).\n",
    "\n",
    "After knowing und hopefully understanding backpropagation, you are ready to fully understand the ```train``` method. \n",
    "\n",
    "<br>\n",
    "\n"
   ]
  },
  {
   "cell_type": "markdown",
   "metadata": {},
   "source": [
    "The ```train``` method is called with an input vector and a target vector. The shape of the vectors can be one-dimensional, but they will be automatically turned into the correct  two-dimensional shape, i.e. ```reshape(input_vector.size, 1)``` and ```reshape(target_vector.size, 1)```. After this we call the ```run``` method to get the result of the network ```output_vector_network = self.run(input_vector)```.  This output may differ from the ```target_vector```. We calculate the ```output_error``` by subtracting the output of the network ```output_vector_network``` from the ```target_vector```. "
   ]
  },
  {
   "cell_type": "code",
   "execution_count": 1,
   "metadata": {},
   "outputs": [],
   "source": [
    "%%capture\n",
    "%%writefile neural_networks1.py\n",
    "import numpy as np\n",
    "from scipy.special import expit as activation_function\n",
    "from scipy.stats import truncnorm\n",
    "\n",
    "def truncated_normal(mean=0, sd=1, low=0, upp=10):\n",
    "    return truncnorm(\n",
    "        (low - mean) / sd, (upp - mean) / sd, loc=mean, scale=sd)\n",
    "\n",
    "class NeuralNetwork:\n",
    "    \n",
    "    def __init__(self, \n",
    "                 no_of_in_nodes, \n",
    "                 no_of_out_nodes, \n",
    "                 no_of_hidden_nodes,\n",
    "                 learning_rate):\n",
    "        self.no_of_in_nodes = no_of_in_nodes\n",
    "        self.no_of_out_nodes = no_of_out_nodes\n",
    "        self.no_of_hidden_nodes = no_of_hidden_nodes\n",
    "        self.learning_rate = learning_rate \n",
    "        self.create_weight_matrices()\n",
    "        \n",
    "    def create_weight_matrices(self):\n",
    "        \"\"\" A method to initialize the weight matrices of the neural network\"\"\"\n",
    "        rad = 1 / np.sqrt(self.no_of_in_nodes)\n",
    "        X = truncated_normal(mean=0, sd=1, low=-rad, upp=rad)\n",
    "        self.weights_in_hidden = X.rvs((self.no_of_hidden_nodes, \n",
    "                                       self.no_of_in_nodes))\n",
    "        rad = 1 / np.sqrt(self.no_of_hidden_nodes)\n",
    "        X = truncated_normal(mean=0, sd=1, low=-rad, upp=rad)\n",
    "        self.weights_hidden_out = X.rvs((self.no_of_out_nodes, \n",
    "                                        self.no_of_hidden_nodes))\n",
    "        \n",
    "    \n",
    "    def train(self, input_vector, target_vector):\n",
    "        \"\"\"\n",
    "        input_vector and target_vector can be tuples, lists or ndarrays\n",
    "        \"\"\"\n",
    "        # make sure that the vectors have the right shape\n",
    "        input_vector = np.array(input_vector)\n",
    "        input_vector = input_vector.reshape(input_vector.size, 1)\n",
    "        target_vector = np.array(target_vector).reshape(target_vector.size, 1)\n",
    "\n",
    "        output_vector_hidden = activation_function(self.weights_in_hidden @ input_vector)\n",
    "        output_vector_network = activation_function(self.weights_hidden_out @ output_vector_hidden)\n",
    "        \n",
    "        output_error = target_vector - output_vector_network\n",
    "        tmp = output_error * output_vector_network * (1.0 - output_vector_network)    \n",
    "        self.weights_hidden_out += self.learning_rate  * (tmp @ output_vector_hidden.T)\n",
    "\n",
    "        # calculate hidden errors:\n",
    "        hidden_errors = self.weights_hidden_out.T @ output_error\n",
    "        # update the weights:\n",
    "        tmp = hidden_errors * output_vector_hidden * (1.0 - output_vector_hidden)\n",
    "        self.weights_in_hidden += self.learning_rate * (tmp @ input_vector.T)  \n",
    "    \n",
    "    def run(self, input_vector):\n",
    "        \"\"\"\n",
    "        running the network with an input vector 'input_vector'. \n",
    "        'input_vector' can be tuple, list or ndarray\n",
    "        \"\"\"\n",
    "        # make sure that input_vector is a column vector:\n",
    "        input_vector = np.array(input_vector)\n",
    "        input_vector = input_vector.reshape(input_vector.size, 1)\n",
    "        input4hidden = activation_function(self.weights_in_hidden @ input_vector)\n",
    "        output_vector_network = activation_function(self.weights_hidden_out @ input4hidden)\n",
    "        return output_vector_network\n",
    "            \n",
    "    def evaluate(self, data, labels):\n",
    "        \"\"\"\n",
    "        Counts how often the actual result corresponds to the\n",
    "        target result. \n",
    "        A result is considered to be correct, if the index of\n",
    "        the maximal value corresponds to the index with the \"1\"\n",
    "        in the one-hot representation,\n",
    "        e.g.\n",
    "        res = [0.1, 0.132, 0.875]\n",
    "        labels[i] = [0, 0, 1]\n",
    "        \"\"\"\n",
    "        corrects, wrongs = 0, 0\n",
    "        for i in range(len(data)):\n",
    "            res = self.run(data[i])\n",
    "            res_max = res.argmax()\n",
    "            if res_max == labels[i].argmax():\n",
    "                corrects += 1\n",
    "            else:\n",
    "                wrongs += 1\n",
    "        return corrects, wrongs"
   ]
  },
  {
   "cell_type": "markdown",
   "metadata": {},
   "source": [
    "We assume that you save the previous code in a file called ```neural_networks1.py```. We will use it under this name in the coming examples.\n",
    "\n",
    "To test this neural network class we need train and test data. We create the data with ```make_blobs``` from ```sklearn.datasets```."
   ]
  },
  {
   "cell_type": "code",
   "execution_count": 2,
   "metadata": {},
   "outputs": [],
   "source": [
    "from sklearn.datasets import make_blobs\n",
    "\n",
    "n_samples = 500\n",
    "blob_centers = ([2, 6], [6, 2], [7, 7])\n",
    "n_classes = len(blob_centers)\n",
    "data, labels = make_blobs(n_samples=n_samples, \n",
    "                          centers=blob_centers, \n",
    "                          random_state=7)"
   ]
  },
  {
   "cell_type": "markdown",
   "metadata": {},
   "source": [
    "Let us visualize the previously created data:"
   ]
  },
  {
   "cell_type": "code",
   "execution_count": 3,
   "metadata": {},
   "outputs": [
    {
     "data": {
      "image/png": "[encoded data removed]",
      "text/plain": [
       "<Figure size 432x288 with 1 Axes>"
      ]
     },
     "metadata": {
      "needs_background": "light"
     },
     "output_type": "display_data"
    }
   ],
   "source": [
    "import matplotlib.pyplot as plt\n",
    "\n",
    "colours = ('green', 'red', \"yellow\")\n",
    "fig, ax = plt.subplots()\n",
    "\n",
    "for n_class in range(n_classes):\n",
    "    ax.scatter(data[labels==n_class][:, 0], \n",
    "               data[labels==n_class][:, 1], \n",
    "               c=colours[n_class], \n",
    "               s=40, \n",
    "               label=str(n_class))"
   ]
  },
  {
   "cell_type": "markdown",
   "metadata": {},
   "source": [
    "The labels are wrongly represented. They are in a one-dimensional vector: "
   ]
  },
  {
   "cell_type": "code",
   "execution_count": 4,
   "metadata": {},
   "outputs": [
    {
     "data": {
      "text/plain": [
       "array([2, 2, 1, 0, 2, 0, 1])"
      ]
     },
     "execution_count": 4,
     "metadata": {},
     "output_type": "execute_result"
    }
   ],
   "source": [
    "labels[:7]"
   ]
  },
  {
   "cell_type": "markdown",
   "metadata": {},
   "source": [
    "We need a one-hot representation for each label. So the labels are represented as\n",
    "\n",
    "| Label | One-Hot Representation |\n",
    "|-------|------------------------|\n",
    "| 0     | (1, 0, 0)              |\n",
    "| 1     | (0, 1, 0)              |\n",
    "| 2     | (0, 0, 1)              |\n",
    "\n",
    "We can easily change the labels with the following commands:"
   ]
  },
  {
   "cell_type": "code",
   "execution_count": 5,
   "metadata": {},
   "outputs": [
    {
     "data": {
      "text/plain": [
       "array([[0., 0., 1.],\n",
       "       [0., 0., 1.],\n",
       "       [0., 1., 0.],\n",
       "       [1., 0., 0.],\n",
       "       [0., 0., 1.],\n",
       "       [1., 0., 0.],\n",
       "       [0., 1., 0.]])"
      ]
     },
     "execution_count": 5,
     "metadata": {},
     "output_type": "execute_result"
    }
   ],
   "source": [
    "import numpy as np\n",
    "\n",
    "labels = np.arange(n_classes) == labels.reshape(labels.size, 1)\n",
    "labels = labels.astype(np.float)\n",
    "labels[:7]"
   ]
  },
  {
   "cell_type": "markdown",
   "metadata": {},
   "source": [
    "We are ready now to create a train and a test data set:"
   ]
  },
  {
   "cell_type": "code",
   "execution_count": 6,
   "metadata": {},
   "outputs": [
    {
     "data": {
      "text/plain": [
       "array([[0., 0., 1.],\n",
       "       [0., 1., 0.],\n",
       "       [1., 0., 0.],\n",
       "       [0., 0., 1.],\n",
       "       [0., 0., 1.],\n",
       "       [1., 0., 0.],\n",
       "       [0., 1., 0.],\n",
       "       [1., 0., 0.],\n",
       "       [1., 0., 0.],\n",
       "       [0., 0., 1.]])"
      ]
     },
     "execution_count": 6,
     "metadata": {},
     "output_type": "execute_result"
    }
   ],
   "source": [
    "from sklearn.model_selection import train_test_split\n",
    "\n",
    "res = train_test_split(data, labels, \n",
    "                       train_size=0.8,\n",
    "                       test_size=0.2,\n",
    "                       random_state=42)\n",
    "train_data, test_data, train_labels, test_labels = res    \n",
    "train_labels[:10]"
   ]
  },
  {
   "cell_type": "markdown",
   "metadata": {},
   "source": [
    "We create a neural network with two input nodes, and three output nodes. One output node for each class:"
   ]
  },
  {
   "cell_type": "code",
   "execution_count": 7,
   "metadata": {},
   "outputs": [],
   "source": [
    "from neural_networks1 import NeuralNetwork\n",
    "\n",
    "simple_network = NeuralNetwork(no_of_in_nodes=2, \n",
    "                               no_of_out_nodes=3, \n",
    "                               no_of_hidden_nodes=5,\n",
    "                               learning_rate=0.3)"
   ]
  },
  {
   "cell_type": "markdown",
   "metadata": {},
   "source": [
    "The next step consists in training our network with the ```data``` and ```labels``` from our training samples:"
   ]
  },
  {
   "cell_type": "code",
   "execution_count": 8,
   "metadata": {},
   "outputs": [],
   "source": [
    "for i in range(len(train_data)):\n",
    "    simple_network.train(train_data[i], train_labels[i])"
   ]
  },
  {
   "cell_type": "markdown",
   "metadata": {},
   "source": [
    "We now have to check how well our network has learned. For this purpose, we will use the evaluate function:"
   ]
  },
  {
   "cell_type": "code",
   "execution_count": 9,
   "metadata": {},
   "outputs": [
    {
     "data": {
      "text/plain": [
       "(390, 10)"
      ]
     },
     "execution_count": 9,
     "metadata": {},
     "output_type": "execute_result"
    }
   ],
   "source": [
    "simple_network.evaluate(train_data, train_labels)"
   ]
  },
  {
   "cell_type": "markdown",
   "metadata": {},
   "source": [
    "### Neural Network with Bias Nodes\n",
    "\n",
    "We already introduced the basic idea and necessity of bias nodes in the chapter [\"Simple Neural Network\"](simple_neural_network.php), in which we focussed on very simple linearly separable data sets. We learned that a bias node is a node that is always returning the same output. In other words: It is a node which is not depending on some input and it does not have any input. The value of a bias node is often set to one, but it can be set to other values as well. Except for zero, which makes no sense for obvious reasons. If a neural network does not have a bias node in a given layer, it will not be able to produce output in the next layer that differs from 0 when the feature values are 0. Generally speaking, we can say that bias nodes are used to increase the flexibility of the network to fit the data. Usually, there will be not more than one bias node per layer. The only exception is the output layer, because it makes no sense to add a bias node to this layer.\n",
    "\n",
    "The following diagram shows the first two layers of our previously used three-layered neural network:"
   ]
  },
  {
   "cell_type": "markdown",
   "metadata": {},
   "source": [
    "\n",
    "<img width=\"80%\" src=\"../images/weights_input2hidden_bias.webp\" srcset=\"../images/weights_input2hidden_bias_800w.webp 800w,../images/weights_input2hidden_bias_700w.webp 700w,../images/weights_input2hidden_bias_600w.webp 600w,../images/weights_input2hidden_bias_500w.webp 500w,../images/weights_input2hidden_bias_400w.webp 400w,../images/weights_input2hidden_bias_350w.webp 350w,../images/weights_input2hidden_bias_300w.webp 300w\" alt=\"Weights Array from input to hidden layer with bias\" />"
   ]
  },
  {
   "cell_type": "markdown",
   "metadata": {},
   "source": [
    "We can see from this diagram that our weight matrix needs one additional column and the bias value has to be added to the input vector:"
   ]
  },
  {
   "cell_type": "markdown",
   "metadata": {},
   "source": [
    "![Weights Array from hidden to output layer with bias, matrix multiplication](../images/weight_input_matrix_multiplication_bias.webp \"Weights Array from hidden to output layer with Bias Matrix Multiplication\")"
   ]
  },
  {
   "cell_type": "markdown",
   "metadata": {},
   "source": [
    "Again, the situation for the weight matrix between the hidden and the output layer is similar:"
   ]
  },
  {
   "cell_type": "markdown",
   "metadata": {},
   "source": [
    "<img width=\"95%\" src=\"../images/weights_hidden2output_bias.webp\" srcset=\"../images/weights_hidden2output_bias_800w.webp 800w,../images/weights_hidden2output_bias_700w.webp 700w,../images/weights_hidden2output_bias_600w.webp 600w,../images/weights_hidden2output_bias_500w.webp 500w,../images/weights_hidden2output_bias_400w.webp 400w,../images/weights_hidden2output_bias_350w.webp 350w,../images/weights_hidden2output_bias_300w.webp 300w\" alt=\"Weights Array from hidden  to output layer with bias\" />"
   ]
  },
  {
   "cell_type": "markdown",
   "metadata": {},
   "source": [
    "The same is true for the corresponding matrix:"
   ]
  },
  {
   "cell_type": "markdown",
   "metadata": {},
   "source": [
    "![Weights Array from hidden to output layer with bias, matrix multiplication](../images/weight_hidden_matrix_multiplication_bias.webp \"Weights Array from hidden to output layer with Bias Matrix Multiplication\")"
   ]
  },
  {
   "cell_type": "markdown",
   "metadata": {},
   "source": [
    "The following is a complete Python class implementing our network with bias nodes:"
   ]
  },
  {
   "cell_type": "code",
   "execution_count": 10,
   "metadata": {},
   "outputs": [],
   "source": [
    "%%capture\n",
    "%%writefile neural_networks2.py\n",
    "\n",
    "import numpy as np\n",
    "from scipy.stats import truncnorm\n",
    "from scipy.special import expit as activation_function\n",
    "\n",
    "def truncated_normal(mean=0, sd=1, low=0, upp=10):\n",
    "    return truncnorm(\n",
    "        (low - mean) / sd, (upp - mean) / sd, loc=mean, scale=sd)\n",
    "\n",
    "class NeuralNetwork:\n",
    "            \n",
    "    def __init__(self, \n",
    "                 no_of_in_nodes, \n",
    "                 no_of_out_nodes, \n",
    "                 no_of_hidden_nodes,\n",
    "                 learning_rate,\n",
    "                 bias=None):  \n",
    "        self.no_of_in_nodes = no_of_in_nodes\n",
    "        self.no_of_hidden_nodes = no_of_hidden_nodes\n",
    "        self.no_of_out_nodes = no_of_out_nodes\n",
    "        self.learning_rate = learning_rate \n",
    "        self.bias = bias\n",
    "        self.create_weight_matrices()\n",
    "    \n",
    "        \n",
    "    def create_weight_matrices(self):\n",
    "        \"\"\" A method to initialize the weight matrices of the neural \n",
    "        network with optional bias nodes\"\"\"   \n",
    "        bias_node = 1 if self.bias else 0 \n",
    "        rad = 1 / np.sqrt(self.no_of_in_nodes + bias_node)\n",
    "        X = truncated_normal(mean=0, sd=1, low=-rad, upp=rad)\n",
    "        self.weights_in_hidden = X.rvs((self.no_of_hidden_nodes, \n",
    "                                        self.no_of_in_nodes + bias_node))\n",
    "        rad = 1 / np.sqrt(self.no_of_hidden_nodes + bias_node)\n",
    "        X = truncated_normal(mean=0, sd=1, low=-rad, upp=rad)\n",
    "        self.weights_hidden_out = X.rvs((self.no_of_out_nodes, \n",
    "                                         self.no_of_hidden_nodes + bias_node))\n",
    "\n",
    "        \n",
    "    def train(self, input_vector, target_vector):\n",
    "        \"\"\" input_vector and target_vector can be tuple, list or ndarray \"\"\"\n",
    "\n",
    "        # make sure that the vectors have the right shap\n",
    "        input_vector = np.array(input_vector)\n",
    "        input_vector = input_vector.reshape(input_vector.size, 1)        \n",
    "        if self.bias:\n",
    "            # adding bias node to the end of the input_vector\n",
    "            input_vector = np.concatenate( (input_vector, [[self.bias]]) )\n",
    "        target_vector = np.array(target_vector).reshape(target_vector.size, 1)\n",
    "\n",
    "        output_vector_hidden = activation_function(self.weights_in_hidden @ input_vector)\n",
    "        if self.bias:\n",
    "            output_vector_hidden = np.concatenate( (output_vector_hidden, [[self.bias]]) ) \n",
    "        output_vector_network = activation_function(self.weights_hidden_out @ output_vector_hidden)\n",
    "        \n",
    "        output_error = target_vector - output_vector_network  \n",
    "        # update the weights:\n",
    "        tmp = output_error * output_vector_network * (1.0 - output_vector_network)     \n",
    "        self.weights_hidden_out += self.learning_rate  * (tmp @ output_vector_hidden.T)\n",
    "\n",
    "        # calculate hidden errors:\n",
    "        hidden_errors = self.weights_hidden_out.T @ output_error\n",
    "        # update the weights:\n",
    "        tmp = hidden_errors * output_vector_hidden * (1.0 - output_vector_hidden)\n",
    "        if self.bias:\n",
    "            x = (tmp @input_vector.T)[:-1,:]     # last row cut off,\n",
    "        else:\n",
    "            x = tmp @ input_vector.T\n",
    "        self.weights_in_hidden += self.learning_rate *  x\n",
    "\n",
    "\n",
    "           \n",
    "    def run(self, input_vector):\n",
    "        \"\"\"\n",
    "        running the network with an input vector 'input_vector'. \n",
    "        'input_vector' can be tuple, list or ndarray\n",
    "        \"\"\"\n",
    "        # make sure that input_vector is a column vector:\n",
    "        input_vector = np.array(input_vector)\n",
    "        input_vector = input_vector.reshape(input_vector.size, 1)\n",
    "        if self.bias:\n",
    "            # adding bias node to the end of the inpuy_vector\n",
    "            input_vector = np.concatenate( (input_vector, [[1]]) )\n",
    "        input4hidden = activation_function(self.weights_in_hidden @ input_vector)\n",
    "        if self.bias:\n",
    "            input4hidden = np.concatenate( (input4hidden, [[1]]) )\n",
    "        output_vector_network = activation_function(self.weights_hidden_out @ input4hidden)\n",
    "        return output_vector_network\n",
    "            \n",
    "    def evaluate(self, data, labels):\n",
    "        corrects, wrongs = 0, 0\n",
    "        for i in range(len(data)):\n",
    "            res = self.run(data[i])\n",
    "            res_max = res.argmax()\n",
    "            if res_max == labels[i].argmax():\n",
    "                corrects += 1\n",
    "            else:\n",
    "                wrongs += 1\n",
    "        return corrects, wrongs"
   ]
  },
  {
   "cell_type": "markdown",
   "metadata": {},
   "source": [
    "We can use again our previously created classes to test our classifier:"
   ]
  },
  {
   "cell_type": "code",
   "execution_count": 11,
   "metadata": {},
   "outputs": [
    {
     "data": {
      "text/plain": [
       "(382, 18)"
      ]
     },
     "execution_count": 11,
     "metadata": {},
     "output_type": "execute_result"
    }
   ],
   "source": [
    "from neural_networks2 import NeuralNetwork\n",
    "\n",
    "simple_network = NeuralNetwork(no_of_in_nodes=2, \n",
    "                               no_of_out_nodes=3, \n",
    "                               no_of_hidden_nodes=5,\n",
    "                               learning_rate=0.1,\n",
    "                               bias=1)\n",
    "    \n",
    "\n",
    "for i in range(len(train_data)):\n",
    "    simple_network.train(train_data[i], train_labels[i])\n",
    "\n",
    "    \n",
    "simple_network.evaluate(train_data, train_labels)"
   ]
  },
  {
   "cell_type": "markdown",
   "metadata": {},
   "source": [
    "### Exercise\n",
    "\n",
    "We created in the chapter \"Data Creation\" a file ```strange_flowers.txt``` in the folder ```data```. Create a Neural Network to classify the 'flowers': \n",
    "\n",
    "The data looks like this:\n",
    "\n",
    "\n",
    "\n",
    "```\n",
    "0.000,240.000,100.000,3.020\n",
    "253.000,99.000,13.000,3.875\n",
    "202.000,107.000,6.000,4.1\n",
    "186.000,84.000,6.000,4.068\n",
    "0.000,244.000,103.000,3.386\n",
    "0.000,246.000,98.000,2.955\n",
    "241.000,103.000,3.000,4.049\n",
    "236.000,104.000,12.000,3.087\n",
    "244.000,109.000,1.000,3.111\n",
    "253.000,97.000,8.000,3.752\n",
    "231.000,92.000,1.000,3.488\n",
    "0.000,250.000,103.000,3.379\n",
    "```"
   ]
  },
  {
   "cell_type": "markdown",
   "metadata": {},
   "source": [
    "### Solution:\n",
    "\n"
   ]
  },
  {
   "cell_type": "code",
   "execution_count": 13,
   "metadata": {},
   "outputs": [
    {
     "data": {
      "text/plain": [
       "array([[242.  , 117.  ,   1.  ,   3.87],\n",
       "       [236.  , 104.  ,   6.  ,   4.11],\n",
       "       [238.  , 116.  ,   5.  ,   3.9 ],\n",
       "       [248.  ,  96.  ,   6.  ,   3.91],\n",
       "       [252.  , 104.  ,   4.  ,   3.75]])"
      ]
     },
     "execution_count": 13,
     "metadata": {},
     "output_type": "execute_result"
    }
   ],
   "source": [
    "c = np.loadtxt(\"data/strange_flowers.txt\", delimiter=\" \")\n",
    "\n",
    "data = c[:, :-1]\n",
    "n_classes = data.shape[1]\n",
    "labels = c[:, -1]\n",
    "data[:5]"
   ]
  },
  {
   "cell_type": "code",
   "execution_count": 14,
   "metadata": {},
   "outputs": [
    {
     "data": {
      "text/plain": [
       "array([[0., 1., 0., 0.],\n",
       "       [0., 1., 0., 0.],\n",
       "       [0., 1., 0., 0.]])"
      ]
     },
     "execution_count": 14,
     "metadata": {},
     "output_type": "execute_result"
    }
   ],
   "source": [
    "\n",
    "labels = np.arange(n_classes) == labels.reshape(labels.size, 1)\n",
    "labels = labels.astype(np.float)\n",
    "labels[:3]"
   ]
  },
  {
   "cell_type": "markdown",
   "metadata": {},
   "source": [
    "We need to scale our data, because unscaled input data can result in a slow or unstable learning process. We will use the function ```scale``` from ```sklearn/preprocessing``` . It standardizes a dataset along any axis. It centers to the mean and component wise scale to unit variance."
   ]
  },
  {
   "cell_type": "code",
   "execution_count": 15,
   "metadata": {},
   "outputs": [
    {
     "data": {
      "text/plain": [
       "(795, 4)"
      ]
     },
     "execution_count": 15,
     "metadata": {},
     "output_type": "execute_result"
    }
   ],
   "source": [
    "from sklearn import preprocessing\n",
    "\n",
    "data = preprocessing.scale(data)\n",
    "data[:5]\n",
    "data.shape\n",
    "labels.shape"
   ]
  },
  {
   "cell_type": "code",
   "execution_count": 16,
   "metadata": {},
   "outputs": [
    {
     "data": {
      "text/plain": [
       "array([[0., 0., 1., 0.],\n",
       "       [0., 0., 1., 0.],\n",
       "       [0., 0., 0., 1.],\n",
       "       [0., 0., 1., 0.],\n",
       "       [0., 0., 0., 1.],\n",
       "       [0., 0., 1., 0.],\n",
       "       [0., 1., 0., 0.],\n",
       "       [0., 1., 0., 0.],\n",
       "       [0., 0., 0., 1.],\n",
       "       [0., 0., 1., 0.]])"
      ]
     },
     "execution_count": 16,
     "metadata": {},
     "output_type": "execute_result"
    }
   ],
   "source": [
    "from sklearn.model_selection import train_test_split\n",
    "\n",
    "\n",
    "res = train_test_split(data, labels, \n",
    "                       train_size=0.8,\n",
    "                       test_size=0.2,\n",
    "                       random_state=42)\n",
    "train_data, test_data, train_labels, test_labels = res    \n",
    "train_labels[:10]"
   ]
  },
  {
   "cell_type": "code",
   "execution_count": 21,
   "metadata": {},
   "outputs": [
    {
     "data": {
      "text/plain": [
       "(492, 144)"
      ]
     },
     "execution_count": 21,
     "metadata": {},
     "output_type": "execute_result"
    }
   ],
   "source": [
    "from neural_networks2 import NeuralNetwork\n",
    "\n",
    "simple_network = NeuralNetwork(no_of_in_nodes=4, \n",
    "                               no_of_out_nodes=4, \n",
    "                               no_of_hidden_nodes=20,\n",
    "                               learning_rate=0.3)\n",
    "\n",
    "for i in range(len(train_data)):\n",
    "    simple_network.train(train_data[i], train_labels[i])\n",
    "    \n",
    "simple_network.evaluate(train_data, train_labels)"
   ]
  },
  {
   "cell_type": "code",
   "execution_count": null,
   "metadata": {},
   "outputs": [],
   "source": []
  }
 ],
 "metadata": {
  "kernelspec": {
   "display_name": "Python 3",
   "language": "python",
   "name": "python3"
  },
  "language_info": {
   "codemirror_mode": {
    "name": "ipython",
    "version": 3
   },
   "file_extension": ".py",
   "mimetype": "text/x-python",
   "name": "python",
   "nbconvert_exporter": "python",
   "pygments_lexer": "ipython3",
   "version": "3.8.5"
  },
  "toc": {
   "base_numbering": 1,
   "nav_menu": {},
   "number_sections": true,
   "sideBar": true,
   "skip_h1_title": false,
   "title_cell": "Table of Contents",
   "title_sidebar": "Contents",
   "toc_cell": false,
   "toc_position": {},
   "toc_section_display": true,
   "toc_window_display": false
  }
 },
 "nbformat": 4,
 "nbformat_minor": 4
}
