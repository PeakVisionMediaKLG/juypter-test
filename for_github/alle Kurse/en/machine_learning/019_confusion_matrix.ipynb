{
 "cells": [
  {
   "cell_type": "markdown",
   "metadata": {},
   "source": [
    "\n",
    "\n",
    "## Confusion Matrix\n",
    "\n",
    "\n",
    "<img width=\"60%\" class=\"imgright\" src=\"../images/confusion_matrix_image.webp\" srcset=\"../images/confusion_matrix_image_500w.webp 500w,../images/confusion_matrix_image_400w.webp 400w,../images/confusion_matrix_image_350w.webp 350w,../images/confusion_matrix_image_300w.webp 300w\" alt=\"confusion matrix as image with animals\" />\n",
    "\n",
    "In the previous chapters of our Machine Learning tutorial ([Neural Networks with Python and Numpy](./neural_networks_with_python_numpy.php) and [Neural Networks from Scratch](./neural_networks.php)  ) we implemented various algorithms, but we didn't properly measure the quality of the output. The main reason was that we used very simple and small datasets to learn and test. In the chapter [Neural Network: Testing with MNIST](./neural_network_mnist.php), we will work with large datasets and ten classes, so we need proper evaluations tools. We will introduce in this chapter the concepts of the confusion matrix:\n",
    "\n",
    "\n",
    "A **confusion matrix**  is a matrix (table) that can be used to measure the performance of an machine learning algorithm, usually a supervised learning one. Each row of the confusion matrix represents the instances of an actual class and each column represents the instances of a predicted class. This is the way we keep it in this chapter of our tutorial, but it can be the other way around as well, i.e. rows for predicted classes and columns for actual classes.\n",
    "The name confusion matrix reflects the fact that it makes it easy for us to see what kind of confusions occur in our classification algorithms. For example the algorithms should have predicted a sample as $c_i$ because the actual class is $c_i$, but the algorithm came out with $c_j$. In this case of mislabelling the element $cm[i, j]$ will be incremented by one, when the confusion matrix is constructed. \n",
    "\n",
    "We will define methods to calculate the confusion matrix, precision and recall in the following class. \n",
    "\n",
    "<br><br>\n",
    "#### 2-class Case\n",
    "\n",
    "In a 2-class case, i.e. \"negative\" and \"positive\", the confusion matrix may look like this:\n",
    "\n",
    "<style type=\"text/css\">\n",
    ".tg  {border-collapse:collapse;border-spacing:0;}\n",
    ".tg td{font-family:Arial, sans-serif;font-size:14px;padding:10px 5px;border-style:solid;border-width:1px;overflow:hidden;word-break:normal;}\n",
    ".tg th{font-family:Arial, sans-serif;font-size:14px;font-weight:normal;padding:10px 5px;border-style:solid;border-width:1px;overflow:hidden;word-break:normal;}\n",
    ".tg .tg-yzt1{background-color:#efefef;vertical-align:top}\n",
    ".tg .tg-45bf{background-color:#ffcb2f;vertical-align:top}\n",
    ".tg .tg-u722{background-color:#34ff34;vertical-align:top}\n",
    "</style>\n",
    "<table class=\"tg\">\n",
    "  <tr>\n",
    "    <th class=\"tg-45bf\"></th>\n",
    "    <th class=\"tg-45bf\" colspan=\"4\">predicted</th>\n",
    "  </tr>\n",
    "  <tr>\n",
    "    <td class=\"tg-45bf\" rowspan=\"4\">actual</td>\n",
    "    <td class=\"tg-u722\"></td>\n",
    "    <td class=\"tg-u722\">negative</td>\n",
    "    <td class=\"tg-u722\" colspan=\"2\">positive<br></td>\n",
    "  </tr>\n",
    "  <tr>\n",
    "    <td class=\"tg-u722\">negative</td>\n",
    "    <td class=\"tg-yzt1\">11<br></td>\n",
    "    <td class=\"tg-yzt1\" colspan=\"2\">0</td>\n",
    "  </tr>\n",
    "  <tr>\n",
    "    <td class=\"tg-u722\" rowspan=\"2\">positive<br></td>\n",
    "    <td class=\"tg-yzt1\" rowspan=\"2\">1</td>\n",
    "    <td class=\"tg-yzt1\" colspan=\"2\" rowspan=\"2\">12<br></td>\n",
    "  </tr>\n",
    "  <tr>\n",
    "  </tr>\n",
    "</table>\n",
    "\n",
    "The fields of the matrix mean the following:\n",
    "\n",
    "<table class=\"tg\">\n",
    "  <tr>\n",
    "    <th class=\"tg-45bf\"></th>\n",
    "    <th class=\"tg-45bf\" colspan=\"4\">predicted</th>\n",
    "  </tr>\n",
    "  <tr>\n",
    "    <td class=\"tg-45bf\" rowspan=\"4\">actual</td>\n",
    "    <td class=\"tg-u722\"></td>\n",
    "    <td class=\"tg-u722\">negative</td>\n",
    "    <td class=\"tg-u722\" colspan=\"2\">positive<br></td>\n",
    "  </tr>\n",
    "  <tr>\n",
    "    <td class=\"tg-u722\">negative</td>\n",
    "    <td class=\"tg-yzt1\">TN<br>True positive<br></td>\n",
    "    <td class=\"tg-yzt1\" colspan=\"2\">FP<br>False Positive</td>\n",
    "  </tr>\n",
    "  <tr>\n",
    "    <td class=\"tg-u722\" rowspan=\"2\">positive<br></td>\n",
    "    <td class=\"tg-yzt1\" rowspan=\"2\">FN<br>False negative</td>\n",
    "    <td class=\"tg-yzt1\" colspan=\"2\" rowspan=\"2\">TP<br>True positive<br></td>\n",
    "  </tr>\n",
    "  <tr>\n",
    "  </tr>\n",
    "</table>\n",
    "\n",
    "\n",
    "We can define now some important performance measures used in machine learning:\n",
    "\n",
    "**Accuracy**:\n",
    "\n",
    "$$AC = \\frac {TN + TP}{TN + FP + FN + TP}$$\n",
    "\n",
    "The accuracy is not always an adequate performance measure. Let us assume we have 1000 samples. 995 of these are negative and 5 are positive cases. Let us further assume we have a classifier, which classifies whatever it will be presented as negative. The accuracy will be a surprising 99.5%, even though the classifier could not recognize any positive samples.\n",
    "\n",
    "**Recall** aka. True Positive Rate:\n",
    "\n",
    "$$recall = \\frac {TP}{FN + TP}$$\n",
    "\n",
    "**True Negative Rate**:\n",
    "\n",
    "$$TNR = \\frac {FP}{TN + FP}$$\n",
    "\n",
    "**Precision**:\n",
    "\n",
    "$$precision: \\frac {TP}{FP + TP} $$\n",
    "\n",
    "<br><br>\n",
    "\n",
    "#### Multi-class Case\n",
    "\n",
    "To measure the results of machine learning algorithms, the previous confusion matrix will not be sufficient. We will need a generalization for the multi-class case.\n",
    "\n",
    "Let us assume that we have a sample of 25 animals, e.g. 7 cats, 8 dogs, and 10 snakes, most probably Python snakes. \n",
    "The confusion matrix of our recognition algorithm may look like the following table:\n",
    "\n",
    "\n",
    "<style type=\"text/css\">\n",
    ".tg  {border-collapse:collapse;border-spacing:0;}\n",
    ".tg td{font-family:Arial, sans-serif;font-size:14px;padding:10px 5px;border-style:solid;border-width:1px;overflow:hidden;word-break:normal;}\n",
    ".tg th{font-family:Arial, sans-serif;font-size:14px;font-weight:normal;padding:10px 5px;border-style:solid;border-width:1px;overflow:hidden;word-break:normal;}\n",
    ".tg .tg-yzt1{background-color:#efefef;vertical-align:top}\n",
    ".tg .tg-45bf{background-color:#ffcb2f;vertical-align:top}\n",
    ".tg .tg-u722{background-color:#34ff34;vertical-align:top}\n",
    "</style>\n",
    "<table class=\"tg\">\n",
    "  <tr>\n",
    "    <th class=\"tg-45bf\"></th>\n",
    "    <th class=\"tg-45bf\" colspan=\"4\">predicted</th>\n",
    "  </tr>\n",
    "  <tr>\n",
    "    <td class=\"tg-45bf\" rowspan=\"4\">actual</td>\n",
    "    <td class=\"tg-u722\"></td>\n",
    "    <td class=\"tg-u722\">dog</td>\n",
    "    <td class=\"tg-u722\">cat</td>\n",
    "    <td class=\"tg-u722\">snake</td>\n",
    "  </tr>\n",
    "  <tr>\n",
    "    <td class=\"tg-u722\">dog</td>\n",
    "    <td class=\"tg-yzt1\">6<br></td>\n",
    "    <td class=\"tg-yzt1\">2</td>\n",
    "    <td class=\"tg-yzt1\">0</td>\n",
    "  </tr>\n",
    "  <tr>\n",
    "    <td class=\"tg-u722\">cat</td>\n",
    "    <td class=\"tg-yzt1\">1</td>\n",
    "    <td class=\"tg-yzt1\">6<br></td>\n",
    "    <td class=\"tg-yzt1\">0<br></td>\n",
    "  </tr>\n",
    "  <tr>\n",
    "    <td class=\"tg-u722\">snake</td>\n",
    "    <td class=\"tg-yzt1\">1<br></td>\n",
    "    <td class=\"tg-yzt1\">1</td>\n",
    "    <td class=\"tg-yzt1\">8<br></td>\n",
    "  </tr>\n",
    "</table>\n",
    "\n",
    "In this confusion matrix, the system correctly predicted six of the eight actual dogs, but in two cases it took a dog for a cat. The seven acutal cats were correctly recognized in six cases but in one case a cat was taken to be a dog.  Usually, it is hard to take a snake for a dog or a cat, but this is what happened to our classifier in two cases. Yet, eight out of ten snakes had been correctly recognized. (Most probably this machine learning algorithm was not written in a Python program, because Python should properly recognize its own species :-) )\n",
    "\n",
    "You can see that all correct predictions are located in the diagonal of the table, so prediction errors can be easily found in the table, as they will be represented by values outside the diagonal.\n",
    "\n",
    " \n",
    "We can generalize this to the multi-class case. To do this we summarize over the rows and columns of the confusion matrix. Given that the matrix is oriented as above, i.e., that a given row of the matrix corresponds to specific value for the \"truth\", we have:\n",
    "\n",
    "$$Precision_i = \\frac{M_{ii}}{\\sum_j M_{ji}}$$\n",
    "\n",
    "$$Recall_i = \\frac{M_{ii}}{\\sum_j M_{ij}}$$\n",
    "\n",
    "\n",
    "\n",
    "This means, precision is the fraction of cases where the algorithm correctly predicted class i out of all instances where the algorithm predicted i (correctly and incorrectly). \n",
    "recall on the other hand is the fraction of cases where the algorithm correctly predicted i out of all of the cases which are labelled as i.\n",
    "\n",
    "Let us apply this to our example:\n",
    "\n",
    "The precision for our animals can be calculated as \n",
    "\n",
    "$$precision_{dogs} = 6 / (6 + 1 + 1) = 3/4 = 0.75$$\n",
    "\n",
    "$$precision_{cats} = 6 / (2 + 6 + 1) = 6/9 = 0.67$$\n",
    "\n",
    "$$precision_{snakes} = 8 / (0 + 0 + 8) = 1$$\n",
    "\n",
    "\n",
    "The recall is calculated like this:\n",
    "\n",
    "$$recall_{dogs} = 6 / (6 + 2 + 0) = 3/4 = 0.75$$\n",
    "\n",
    "$$recall_{cats} = 6 / (1 + 6 + 0) = 6/7 = 0.86$$\n",
    "\n",
    "$$recall_{snakes} = 8 / (1 + 1 + 8) = 4/5 = 0.8$$\n"
   ]
  },
  {
   "cell_type": "markdown",
   "metadata": {},
   "source": [
    "### Example\n",
    "\n",
    "We are ready now to code this into Python. The following code shows a confusion matrix for a multi-class machine learning problem with ten labels, so for example an algorithms for recognizing the ten digits from handwritten characters.\n",
    "\n",
    "If you are not familiar with Numpy and Numpy arrays, we recommend our tutorial on [Numpy](./numpy.php). "
   ]
  },
  {
   "cell_type": "code",
   "execution_count": 27,
   "metadata": {
    "collapsed": true,
    "jupyter": {
     "outputs_hidden": true
    }
   },
   "outputs": [],
   "source": [
    "import numpy as np\n",
    "\n",
    "cm = np.array(\n",
    "[[5825,    1,   49,   23,    7,   46,   30,   12,   21,   26],\n",
    " [   1, 6654,   48,   25,   10,   32,   19,   62,  111,   10],\n",
    " [   2,   20, 5561,   69,   13,   10,    2,   45,   18,    2],\n",
    " [   6,   26,   99, 5786,    5,  111,    1,   41,  110,   79],\n",
    " [   4,   10,   43,    6, 5533,   32,   11,   53,   34,   79],\n",
    " [   3,    1,    2,   56,    0, 4954,   23,    0,   12,    5],\n",
    " [  31,    4,   42,   22,   45,  103, 5806,    3,   34,    3],\n",
    " [   0,    4,   30,   29,    5,    6,    0, 5817,    2,   28],\n",
    " [  35,    6,   63,   58,    8,   59,   26,   13, 5394,   24],\n",
    " [  16,   16,   21,   57,  216,   68,    0,  219,  115, 5693]])"
   ]
  },
  {
   "cell_type": "markdown",
   "metadata": {},
   "source": [
    "The functions 'precision' and 'recall' calculate values for a label, whereas the function 'precision_macro_average' the precision for the whole classification problem calculates."
   ]
  },
  {
   "cell_type": "code",
   "execution_count": 33,
   "metadata": {
    "collapsed": true,
    "jupyter": {
     "outputs_hidden": true
    }
   },
   "outputs": [],
   "source": [
    "def precision(label, confusion_matrix):\n",
    "    col = confusion_matrix[:, label]\n",
    "    return confusion_matrix[label, label] / col.sum()\n",
    "    \n",
    "def recall(label, confusion_matrix):\n",
    "    row = confusion_matrix[label, :]\n",
    "    return confusion_matrix[label, label] / row.sum()\n",
    "\n",
    "def precision_macro_average(confusion_matrix):\n",
    "    rows, columns = confusion_matrix.shape\n",
    "    sum_of_precisions = 0\n",
    "    for label in range(rows):\n",
    "        sum_of_precisions += precision(label, confusion_matrix)\n",
    "    return sum_of_precisions / rows\n",
    "\n",
    "def recall_macro_average(confusion_matrix):\n",
    "    rows, columns = confusion_matrix.shape\n",
    "    sum_of_recalls = 0\n",
    "    for label in range(columns):\n",
    "        sum_of_recalls += recall(label, confusion_matrix)\n",
    "    return sum_of_recalls / columns"
   ]
  },
  {
   "cell_type": "code",
   "execution_count": 29,
   "metadata": {},
   "outputs": [
    {
     "name": "stdout",
     "output_type": "stream",
     "text": [
      "label precision recall\n",
      "    0     0.983  0.964\n",
      "    1     0.987  0.954\n",
      "    2     0.933  0.968\n",
      "    3     0.944  0.924\n",
      "    4     0.947  0.953\n",
      "    5     0.914  0.980\n",
      "    6     0.981  0.953\n",
      "    7     0.928  0.982\n",
      "    8     0.922  0.949\n",
      "    9     0.957  0.887\n"
     ]
    }
   ],
   "source": [
    "print(\"label precision recall\")\n",
    "for label in range(10):\n",
    "    print(f\"{label:5d} {precision(label, cm):9.3f} {recall(label, cm):6.3f}\")"
   ]
  },
  {
   "cell_type": "code",
   "execution_count": 34,
   "metadata": {},
   "outputs": [
    {
     "name": "stdout",
     "output_type": "stream",
     "text": [
      "precision total: 0.949688556405\n",
      "recall total: 0.951453154788\n"
     ]
    }
   ],
   "source": [
    "print(\"precision total:\", precision_macro_average(cm))\n",
    "\n",
    "print(\"recall total:\", recall_macro_average(cm))"
   ]
  },
  {
   "cell_type": "code",
   "execution_count": 31,
   "metadata": {
    "collapsed": true,
    "jupyter": {
     "outputs_hidden": true
    }
   },
   "outputs": [],
   "source": [
    "def accuracy(confusion_matrix):\n",
    "    diagonal_sum = confusion_matrix.trace()\n",
    "    sum_of_all_elements = confusion_matrix.sum()\n",
    "    return diagonal_sum / sum_of_all_elements "
   ]
  },
  {
   "cell_type": "code",
   "execution_count": 32,
   "metadata": {},
   "outputs": [
    {
     "data": {
      "text/plain": [
       "0.95038333333333336"
      ]
     },
     "execution_count": 32,
     "metadata": {},
     "output_type": "execute_result"
    }
   ],
   "source": [
    "accuracy(cm)"
   ]
  }
 ],
 "metadata": {
  "kernelspec": {
   "display_name": "Python 3",
   "language": "python",
   "name": "python3"
  },
  "language_info": {
   "codemirror_mode": {
    "name": "ipython",
    "version": 3
   },
   "file_extension": ".py",
   "mimetype": "text/x-python",
   "name": "python",
   "nbconvert_exporter": "python",
   "pygments_lexer": "ipython3",
   "version": "3.8.5"
  }
 },
 "nbformat": 4,
 "nbformat_minor": 4
}
