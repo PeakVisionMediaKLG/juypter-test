{
 "cells": [
  {
   "cell_type": "markdown",
   "metadata": {},
   "source": [
    "## Naive Bayes Classifier\n",
    "\n",
    "### Definition\n",
    "\n",
    "<img width=\"40%\" class=\"imgright\" src=\"../images/thomas_bayes_conditional_probability.webp\" srcset=\"../images/thomas_bayes_conditional_probability_300w.webp 300w\" alt=\"Thomas Bayes: Conditional Probability\" />\n",
    "\n",
    "\n",
    "In machine learning, a Bayes classifier is a simple probabilistic classifier, which is based on applying Bayes' theorem. The feature model used by a naive Bayes classifier makes strong independence assumptions. This means that the existence of a particular feature of a class is independent or unrelated to the existence of every other feature. \n",
    "\n",
    "Definition of independent events:\n",
    "\n",
    "Two events E and F are independent, if both E and F have positive probability and if P(E|F) = P(E) and P(F|E) = P(F) \n",
    "\n",
    "\n",
    "As we have stated in our definition, the Naive Bayes Classifier is based on the Bayes' theorem. The Bayes theorem is based on the conditional probability, which we will define now:\n",
    "\n",
    "### Conditional Probability\n",
    "\n",
    "\n",
    "$P(A|B)$ stands for \"the conditional probability of A given B\", or \"the probability of A under the condition B\", i.e. the probability of some event A under the assumption that the event B took place. When in a random experiment the event B is known to have occurred, the possible outcomes of the experiment are reduced to B, and hence the probability of the occurrence of A is changed from the unconditional probability into the conditional probability given B. The Joint probability is the probability of two events in conjunction. That is, it is the probability of both events together. There are three notations for the joint probability of A and B. It can be written as\n",
    "\n",
    "- $P(A ∩ B)$\n",
    "- $P(AB)$ or \n",
    "- $P(A,B)$\n",
    "\n",
    "The conditional probability is defined by\n",
    "\n",
    "$$P(A|B) = \\frac{P( A ∩ B)}{P(B)}$$ \n",
    "\n",
    "\n",
    "### Examples for Conditional Probability\n",
    "\n",
    "#### German Swiss Speaker\n",
    "\n",
    "There are about 8.4 million people living in Switzerland. About 64 % of them speak German. \n",
    "There are about 7500 million people on earth. \n",
    "\n",
    "If some aliens randomly beam up an earthling, what are the chances that he is a German speaking Swiss?\n",
    "\n",
    "We have the events \n",
    "\n",
    "S: being Swiss\n",
    "\n",
    "GS: German Speaking\n",
    "\n",
    "The probability for a randomly chosen person to be Swiss: \n",
    "\n",
    "$$P(S) = \\frac{8.4}{7500} = 0.00112 $$\n",
    "\n",
    "If we know that somebody is Swiss, the probability of speaking German is 0.64. This corresponds to the conditional probability\n",
    " \n",
    "$$P(GS | S) = 0.64$$\n",
    "\n",
    "So the probability of the earthling being Swiss and speaking German, can be calculated by the formula:\n",
    "\n",
    "$$P(GS | S) = \\frac{P(GS ∩ S)}{P(S)}$$\n",
    "\n",
    "inserting the values from above gives us:\n",
    "\n",
    "$$0.64 = \\frac{P(GS ∩ S)}{0.00112}$$\n",
    "\n",
    "and\n",
    "\n",
    "$$P(GS ∩ S) = 0.0007168$$\n",
    "\n",
    "So our aliens end up with a chance of 0.07168 % of getting a German speaking Swiss person.\n",
    "\n",
    "\n",
    "\n",
    "#### False Positives and False Negatives\n",
    "\n",
    "A medical research lab proposes a screening to test a large group of people for a disease. An argument against such screenings is the problem of false positive screening results.\n",
    "\n",
    "Suppose 0,1% of the group suffer from the disease, and the rest is well:\n",
    "\n",
    "$$P(\"sick\") = 0,1 % = 0.01$$\n",
    "and \n",
    "$$P(\"well\") = 99,9 % = 0.999$$\n",
    "\n",
    "The following is true for a screening test:\n",
    "\n",
    "If you have the disease, the test will be positive 99% of the time, and if you don't have it, the test will be negative 99% of the time: \n",
    "\n",
    "P(\"test positive\" | \"well\") = 1 % \n",
    "\n",
    "and \n",
    "\n",
    "P(\"test negative\" | \"well\") = 99 %.\n",
    "\n",
    "Finally, suppose that when the test is applied to a person having the disease, there is a 1% chance of a false negative result (and 99% chance of getting a true positive result), i.e. \n",
    "\n",
    "P(\"test negative\" | \"sick\") = 1 % \n",
    "\n",
    "and \n",
    "\n",
    "P(\"test positive\" | \"sick\") = 99 %"
   ]
  },
  {
   "cell_type": "raw",
   "metadata": {},
   "source": [
    "\n",
    "\n",
    "\n",
    "<table class=\"print-friendly\" style=\"text-align: left; width: 50%;\" 102,=\"\" 0)=\"\" border=\"6\"\n",
    "bordercolor=\"#476042\" cellpadding=\"4\" cellspacing=\"2\">\n",
    "<tbody>\n",
    "<tr>\n",
    "<td\n",
    "style=\"vertical-align: top; background-color: rgb(71, 96, 66); color: rgb(255, 102, 0);\"><br>\n",
    "</td>\n",
    "<td\n",
    "style=\"vertical-align: top; background-color: rgb(71, 96, 66); color: rgb(255, 102, 0); font-weight: bold; text-align: right;\">Sick<br>\n",
    "</td>\n",
    "<td\n",
    "style=\"vertical-align: top; background-color: rgb(71, 96, 66); text-align: right;\">\n",
    "<span style=\"color: rgb(255, 102, 0); font-weight: bold;\">Healthy</span><br>\n",
    "</td>\n",
    "<td\n",
    "style=\"vertical-align: top; background-color: rgb(71, 96, 66); text-align: right;\">\n",
    "<span style=\"color: rgb(255, 102, 0); font-weight: bold;\">Totals</span><br>\n",
    "</td>\n",
    "</tr>\n",
    "<tr>\n",
    "<td\n",
    "style=\"vertical-align: top; background-color: rgb(107, 150, 98); color: rgb(0, 0, 0);\">Test\n",
    "result positive<br>\n",
    "</td>\n",
    "<td\n",
    "style=\"vertical-align: top; background-color: rgb(107, 150, 98); text-align: right;\">99<br>\n",
    "</td>\n",
    "<td\n",
    "style=\"vertical-align: top; background-color: rgb(107, 150, 98); text-align: right;\"><span\n",
    "style=\"color: rgb(255, 0, 0);\">999</span><br>\n",
    "</td>\n",
    "<td\n",
    "style=\"vertical-align: top; background-color: rgb(107, 150, 98); text-align: right;\">1098<br>\n",
    "</td>\n",
    "</tr>\n",
    "<tr>\n",
    "<td\n",
    "style=\"vertical-align: top; background-color: rgb(107, 150, 98); color: rgb(0, 0, 0);\">Test\n",
    "result negative<br>\n",
    "</td>\n",
    "<td\n",
    "style=\"vertical-align: top; background-color: rgb(107, 150, 98); text-align: right;\"><span\n",
    "style=\"color: rgb(255, 0, 0);\">1</span><br>\n",
    "</td>\n",
    "<td\n",
    "style=\"vertical-align: top; background-color: rgb(107, 150, 98); text-align: right;\">98901<br>\n",
    "</td>\n",
    "<td\n",
    "style=\"vertical-align: top; background-color: rgb(107, 150, 98); text-align: right;\">98902<br>\n",
    "</td>\n",
    "</tr>\n",
    "<tr>\n",
    "<td\n",
    "style=\"vertical-align: top; background-color: rgb(107, 150, 98); color: rgb(0, 0, 0);\">Totals<br>\n",
    "</td>\n",
    "<td\n",
    "style=\"vertical-align: top; background-color: rgb(107, 150, 98); text-align: right;\">100<br>\n",
    "</td>\n",
    "<td\n",
    "style=\"vertical-align: top; background-color: rgb(107, 150, 98); text-align: right;\">99900<br>\n",
    "</td>\n",
    "<td\n",
    "style=\"vertical-align: top; background-color: rgb(107, 150, 98); text-align: right;\">100000<br>\n",
    "</td>\n",
    "</tr>\n",
    "</tbody>\n",
    "</table>\n",
    "\n"
   ]
  },
  {
   "cell_type": "markdown",
   "metadata": {},
   "source": [
    "There are 999 False Positives and 1 False Negative.\n",
    "\n",
    "**Problem:**\n",
    "\n",
    "In many cases even medical professionals assume that \"if you have this sickness, the test will be positive in 99 % of the time and if you don't have it, the test will be negative 99 % of the time. Out of the 1098 cases that report positive results only 99 (9 %) cases are correct and 999 cases are false positives (91 %), i.e. if a person gets a positive test result, the probability that he or she actually has the disease is just about 9 %. P(\"sick\" | \"test positive\") = 99 / 1098 = 9.02 % "
   ]
  },
  {
   "cell_type": "markdown",
   "metadata": {},
   "source": [
    "\n",
    "\n",
    "\n",
    "### Bayes' Theorem\n",
    "\n",
    "We calculated the conditional probability $P(GS | S)$, which was the probability that a person speaks German, if he or she is known to be Swiss. \n",
    "To calculate this we used the following equation:\n",
    "\n",
    "$$P(GS | S) = \\frac{P(GS, S)}{P(S)}$$ \n",
    "\n",
    "What about calculating the probability $P(S | GS)$, i.e. the probability that somebody is Swiss under the assumption that the person speeks German?\n",
    "\n",
    "The equation looks like this:\n",
    "\n",
    "$$P(S| GS) = \\frac{P(GS, S)}{P(GS)}$$ \n",
    "\n",
    "Let's isolate on both equations $P(GS, S)$:\n",
    "\n",
    "$$P(GS, S) =  P(GS | S) P(S)$$\n",
    "\n",
    "$$P(GS, S) =  P(S | GS) P(GS)$$\n",
    "\n",
    "As the left sides are equal, the right sides have to be equal as well:\n",
    "\n",
    "$$P(GS | S) * P(S) =  P(S | GS)  P(GS)$$\n",
    "\n",
    "This equation can be transformed into:\n",
    "\n",
    "$$P(S | GS) = \\frac{P(GS | S) P(S)}{P(GS)}$$\n",
    "\n",
    "The result corresponts to **Bayes' theorem**\n",
    "\n",
    "To solve our problem, - i.e. the probability that a person is Swiss, if we know that he or she speaks German - all we have to do is calculate the right side. \n",
    "We know already from our previous exercise that \n",
    "\n",
    "$$P(GS | S) = 0.64$$\n",
    "\n",
    "and \n",
    "\n",
    "$$P(S) = 0.00112 $$\n",
    "\n",
    "The number of German native speakers in the world corresponds to 101 millions, so we know that\n",
    "\n",
    "$$P(GS) = \\frac{101}{7500} = 0.0134667 $$\n",
    "\n",
    "Finally, we can calculate $P(S | GS)$ by substituting the values in our equation:\n",
    "\n",
    "$$P(S | GS) = \\frac{P(GS | S)  P(S)}{ P(GS)} = \\frac{0.64 * 0.00112}{0.0134667} = 0.0532276$$\n",
    "\n",
    "\n",
    "\n",
    "\n",
    "\n",
    "\n",
    "\n",
    "\n",
    "\n",
    "\n",
    "There are about 8.4 million people living in Switzerland. About 64 % of them speak German. \n",
    "There are about 7500 million people on earth. \n",
    "\n",
    "If the some aliens randomly beam up an earthling, what are the chances that he is a German speaking Swiss?\n",
    "\n",
    "We have the events \n",
    "\n",
    "$S$: being Swiss\n",
    "$GS$: German Speaking\n",
    "\n",
    "\n",
    "$$P(S) = \\frac{8.4}{7500} = 0.00112 $$\n",
    "\n",
    "\n",
    "$$P(A|B) = \\frac{P(B|A) P(A)}{P(B)}$$\n",
    "\n",
    "$P(A|B)$ is the conditional probability of $A$, given $B$ (posterior probability), $P(B)$ is the prior probability of $B$ and $P(A)$ the prior probability of $A$. $P(B|A)$ is the conditional probability of $B$ given $A$, called the likely-hood.\n",
    "\n",
    "An advantage of the naive Bayes classifier is that it requires only a small amount of training data to estimate the parameters necessary for classification.\n",
    "Because independent variables are assumed, only the variances of the variables for each class need to be determined and not the entire covariance matrix.\n",
    "\n"
   ]
  },
  {
   "cell_type": "markdown",
   "metadata": {},
   "source": [
    "## Naive Bayes Classifier\n",
    "\n",
    "### Introductory Exercise"
   ]
  },
  {
   "cell_type": "markdown",
   "metadata": {},
   "source": [
    "\n",
    "<img width=\"50%\" class=\"imgright\" src=\"../images/hamburg_station.webp\" srcset=\"../images/hamburg_station_300w.webp 300w\" alt=\"Main Railway station in Hamburg\" />"
   ]
  },
  {
   "cell_type": "markdown",
   "metadata": {},
   "source": [
    "\n",
    "\n",
    "Let's set out on a journey by train to create our first very simple Naive Bayes Classifier. Let us assume we are in the city of Hamburg and we want to travel to Munich. We will have to change trains in Frankfurt am Main. We know from previous train journeys that our train from Hamburg might be delayed and the we will not catch our connecting train in Frankfurt. The probability that we will not be in time for our connecting train depends on how high our possible delay will be. The connecting train will not wait for more than five minutes. Sometimes the other train is delayed as well.\n",
    "\n",
    "The following lists 'in_time' (the train from Hamburg arrived in time to catch the connecting train to Munich) and 'too_late' (connecting train is missed) are data showing the situation over some weeks. \n",
    "The first component of each tuple shows the minutes the train was late and the second component shows the number of time this occurred.\n",
    "\n"
   ]
  },
  {
   "cell_type": "code",
   "execution_count": 1,
   "metadata": {},
   "outputs": [],
   "source": [
    "# the tuples consist of (delay time of train1, number of times)\n",
    "\n",
    "\n",
    "# tuples are (minutes, number of times)\n",
    "in_time = [(0, 22), (1, 19), (2, 17), (3, 18),\n",
    "           (4, 16), (5, 15), (6, 9), (7, 7),\n",
    "           (8, 4), (9, 3), (10, 3), (11, 2)]\n",
    "too_late = [(6, 6), (7, 9), (8, 12), (9, 17), \n",
    "            (10, 18), (11, 15), (12,16), (13, 7),\n",
    "            (14, 8), (15, 5)]"
   ]
  },
  {
   "cell_type": "code",
   "execution_count": 2,
   "metadata": {
    "scrolled": true
   },
   "outputs": [
    {
     "data": {
      "image/png": "[encoded data removed]",
      "text/plain": [
       "<Figure size 432x288 with 1 Axes>"
      ]
     },
     "metadata": {
      "needs_background": "light"
     },
     "output_type": "display_data"
    }
   ],
   "source": [
    "%matplotlib inline\n",
    "\n",
    "import matplotlib.pyplot as plt\n",
    "\n",
    "X, Y = zip(*in_time)\n",
    "\n",
    "X2, Y2 = zip(*too_late)\n",
    "\n",
    "bar_width = 0.9\n",
    "plt.bar(X, Y, bar_width,  color=\"blue\", alpha=0.75, label=\"in time\")\n",
    "bar_width = 0.8\n",
    "plt.bar(X2, Y2, bar_width,  color=\"red\", alpha=0.75, label=\"too late\")\n",
    "plt.legend(loc='upper right')\n",
    "plt.show()"
   ]
  },
  {
   "cell_type": "markdown",
   "metadata": {},
   "source": [
    "From this data we can deduce that the probability of catching the connecting train if we are one minute late is 1, because we had 19 successful cases experienced and no misses, i.e. there is no tuple with 1 as the first component in 'too_late'.\n",
    "\n",
    "We will denote the event \"train arrived in time to catch the connecting train\" with $S$ (success) and the 'unlucky' event \"train arrived too late to catch the connecting train\" with $M$ (miss)\n",
    "\n",
    "We can now define the probability \"catching the train given that we are 1 minute late\" formally:\n",
    "\n",
    "$$P(S | 1) = 19 / 19 = 1$$\n",
    "\n",
    "We used the fact that the tuple $(1, 19)$ is in 'in_time' and there is no tuple with the first component 1 in 'too_late'\n",
    "\n",
    "It's getting critical for catching the connecting train to Munich, if we are 6 minutes late. Yet, the chances are still 60 %:\n",
    "\n",
    "$$P(S | 6) = 9 / 9 + 6 = 0.6$$\n",
    "\n",
    "Accordingly, the probability for missing the train knowing that we are 6 minutes late is:\n",
    "\n",
    "$$P(M | 6) = 6 / 9 + 6 = 0.4$$\n",
    "\n",
    "\n",
    "We can write a 'classifier' function, which will give the probability for catching the connecting train:"
   ]
  },
  {
   "cell_type": "code",
   "execution_count": 6,
   "metadata": {},
   "outputs": [
    {
     "name": "stdout",
     "output_type": "stream",
     "text": [
      "-1 0\n",
      "0 1.0\n",
      "1 1.0\n",
      "2 1.0\n",
      "3 1.0\n",
      "4 1.0\n",
      "5 1.0\n",
      "6 0.6\n",
      "7 0.4375\n",
      "8 0.25\n",
      "9 0.15\n",
      "10 0.14285714285714285\n",
      "11 0.11764705882352941\n",
      "12 0\n"
     ]
    }
   ],
   "source": [
    "in_time_dict = dict(in_time)\n",
    "too_late_dict = dict(too_late)\n",
    "\n",
    "def catch_the_train(min):\n",
    "    s = in_time_dict.get(min, 0)\n",
    "    if s == 0:\n",
    "        return 0\n",
    "    else:\n",
    "        m = too_late_dict.get(min, 0)\n",
    "        return s / (s + m)\n",
    "\n",
    "for minutes in range(-1, 13):\n",
    "    print(minutes, catch_the_train(minutes))\n",
    "        \n"
   ]
  },
  {
   "cell_type": "markdown",
   "metadata": {},
   "source": [
    "### A Naive Bayes Classifier Example\n",
    "\n",
    "#### Getting the Data Ready\n",
    "\n",
    "We will use a file called ['person_data.txt'](data/person_data.txt). It contains 100 random person data, male and female, with body sizes, weights and gender tags. \n",
    "\n"
   ]
  },
  {
   "cell_type": "code",
   "execution_count": 7,
   "metadata": {
    "scrolled": true
   },
   "outputs": [
    {
     "name": "stdout",
     "output_type": "stream",
     "text": [
      "female:\n",
      "['Stephanie', 'Cynthia', 'Katherine', 'Elizabeth', 'Carol', 'Christina', 'Beverly', 'Sharon', 'Denise', 'Rebecca']\n",
      "[149 174 183 138 145 161 179 162 148 196]\n",
      "male:\n",
      "['Randy', 'Jessie', 'David', 'Stephen', 'Jerry', 'Billy', 'Earl', 'Todd', 'Martin', 'Kenneth']\n",
      "[184 175 187 192 204 180 184 174 177 200]\n"
     ]
    }
   ],
   "source": [
    "import numpy as np\n",
    "\n",
    "genders = [\"male\", \"female\"]\n",
    "persons = []\n",
    "with open(\"data/person_data.txt\") as fh:\n",
    "    for line in fh:\n",
    "        persons.append(line.strip().split())\n",
    "\n",
    "firstnames = {}\n",
    "heights = {}\n",
    "for gender in genders:\n",
    "    firstnames[gender] = [ x[0] for x in persons if x[4]==gender]\n",
    "    heights[gender] = [ x[2] for x in persons if x[4]==gender]\n",
    "    heights[gender] = np.array(heights[gender], np.int)\n",
    "    \n",
    "for gender in (\"female\", \"male\"):\n",
    "    print(gender + \":\")\n",
    "    print(firstnames[gender][:10])\n",
    "    print(heights[gender][:10])"
   ]
  },
  {
   "cell_type": "markdown",
   "metadata": {},
   "source": [
    "Warning: There might be some confusion between a Python class and a Naive Bayes class. We try to avoid it by saying explicitly what is meant, whenever possible!\n",
    "\n",
    "#### Designing a Feature class\n",
    "\n",
    "We will now define a Python class \"Feature\" for the features, which we will use for classification later. \n",
    "\n",
    "The Feature class needs a label, e.g. \"heights\" or \"firstnames\". \n",
    "If the feature values are numerical we may want to \"bin\" them to reduce the number of possible feature values. The heights from our persons have a huge range and we have only 50 measured values for our Naive Bayes classes \"male\" and \"female\". We will bin them into ranges \"130 to 134\", \"135 to 139\", \"140 to 144\" and so on by setting bin_width to 5.\n",
    "There is no way of binning the first names, so bin_width will be set to None.\n",
    "\n",
    "The method frequency returns the number of occurrencies for a certain feature value or a binned range."
   ]
  },
  {
   "cell_type": "code",
   "execution_count": 8,
   "metadata": {
    "collapsed": true,
    "jupyter": {
     "outputs_hidden": true
    }
   },
   "outputs": [],
   "source": [
    "from collections import Counter\n",
    "import numpy as np\n",
    "\n",
    "class Feature:\n",
    "    \n",
    "    def __init__(self, data, name=None, bin_width=None):\n",
    "        self.name = name\n",
    "        self.bin_width = bin_width\n",
    "        if bin_width:\n",
    "            self.min, self.max = min(data), max(data)\n",
    "            bins = np.arange((self.min // bin_width) * bin_width, \n",
    "                                (self.max // bin_width) * bin_width,\n",
    "                                bin_width)\n",
    "            freq, bins = np.histogram(data, bins)\n",
    "            self.freq_dict = dict(zip(bins, freq))\n",
    "            self.freq_sum = sum(freq)\n",
    "        else:\n",
    "            self.freq_dict = dict(Counter(data))\n",
    "            self.freq_sum = sum(self.freq_dict.values())\n",
    "            \n",
    "        \n",
    "        \n",
    "    def frequency(self, value):\n",
    "        if self.bin_width:\n",
    "            value = (value // self.bin_width) * self.bin_width\n",
    "        if value in self.freq_dict:\n",
    "            return self.freq_dict[value]\n",
    "        else:\n",
    "            return 0"
   ]
  },
  {
   "cell_type": "markdown",
   "metadata": {},
   "source": [
    "We will create now two feature classes Feature for the height values of the person data set. One Feature class contains the height for the Naive Bayes class \"male\" and one the heights for the class \"female\":"
   ]
  },
  {
   "cell_type": "code",
   "execution_count": 9,
   "metadata": {},
   "outputs": [
    {
     "name": "stdout",
     "output_type": "stream",
     "text": [
      "male {160: 5, 195: 2, 180: 5, 165: 4, 200: 3, 185: 8, 170: 6, 155: 1, 190: 8, 175: 7}\n",
      "female {160: 8, 130: 1, 165: 11, 135: 1, 170: 7, 140: 0, 175: 2, 145: 3, 180: 4, 150: 5, 185: 0, 155: 7}\n"
     ]
    }
   ],
   "source": [
    "fts = {}\n",
    "for gender in genders:\n",
    "    fts[gender] = Feature(heights[gender], name=gender, bin_width=5)\n",
    "    print(gender, fts[gender].freq_dict)"
   ]
  },
  {
   "cell_type": "markdown",
   "metadata": {},
   "source": [
    "#### Bar Chart of Frequency Distribution\n",
    "\n",
    "We printed out the frequencies of our bins, but it is a lot better to see these values dipicted in a bar chart. We will do this with the following code: "
   ]
  },
  {
   "cell_type": "code",
   "execution_count": 10,
   "metadata": {},
   "outputs": [
    {
     "data": {
      "image/png": "[encoded data removed]",
      "text/plain": [
       "<matplotlib.figure.Figure at 0x7f3a6009b128>"
      ]
     },
     "metadata": {},
     "output_type": "display_data"
    }
   ],
   "source": [
    "for gender in genders:\n",
    "    frequencies = list(fts[gender].freq_dict.items())\n",
    "    frequencies.sort(key=lambda x: x[1])\n",
    "    X, Y = zip(*frequencies)\n",
    "    color = \"blue\" if gender==\"male\" else \"red\"\n",
    "    bar_width = 4 if gender==\"male\" else 3\n",
    "    plt.bar(X, Y, bar_width, color=color, alpha=0.75, label=gender)\n",
    "\n",
    "\n",
    "plt.legend(loc='upper right')\n",
    "plt.show()"
   ]
  },
  {
   "cell_type": "markdown",
   "metadata": {},
   "source": [
    "We have to design now a Naive Bayes class in Python. We will call it NBclass. An NBclass contains one or more Feature classes. The name of the NBclass will be stored in self.name."
   ]
  },
  {
   "cell_type": "code",
   "execution_count": 11,
   "metadata": {
    "collapsed": true,
    "jupyter": {
     "outputs_hidden": true
    }
   },
   "outputs": [],
   "source": [
    "class NBclass:\n",
    "        \n",
    "        def __init__(self, name, *features):\n",
    "            self.features = features\n",
    "            self.name = name\n",
    "            \n",
    "        def probability_value_given_feature(self, \n",
    "                                            feature_value,\n",
    "                                            feature):\n",
    "            \"\"\"\n",
    "            p_value_given_feature returns the probability p \n",
    "            for a feature_value 'value' of the feature  to occurr\n",
    "            corresponds to P(d_i | p_j)\n",
    "            where d_i is a feature variable of the feature i\n",
    "            \"\"\"\n",
    "            \n",
    "            if feature.freq_sum == 0:\n",
    "                return 0\n",
    "            else:\n",
    "                return feature.frequency(feature_value) / feature.freq_sum"
   ]
  },
  {
   "cell_type": "markdown",
   "metadata": {},
   "source": [
    "In the following code, we will create NBclasses with one feature, i.e. the height feature.\n",
    "We will use the Feature classes of fts, which we have previously created:"
   ]
  },
  {
   "cell_type": "code",
   "execution_count": 12,
   "metadata": {
    "collapsed": true,
    "jupyter": {
     "outputs_hidden": true
    }
   },
   "outputs": [],
   "source": [
    "cls = {}\n",
    "for gender in genders:\n",
    "    cls[gender] = NBclass(gender, fts[gender])"
   ]
  },
  {
   "cell_type": "markdown",
   "metadata": {},
   "source": [
    "The final step for creating a simple Naive Bayes classifier consists in writing a class 'Classifier', which will use our classes 'NBclass' and 'Feature'."
   ]
  },
  {
   "cell_type": "code",
   "execution_count": 13,
   "metadata": {
    "collapsed": true,
    "jupyter": {
     "outputs_hidden": true
    }
   },
   "outputs": [],
   "source": [
    "class Classifier:\n",
    "    \n",
    "    def __init__(self, *nbclasses):\n",
    "        self.nbclasses = nbclasses\n",
    "        \n",
    "        \n",
    "    def prob(self, *d, best_only=True):\n",
    "        \n",
    "        nbclasses = self.nbclasses\n",
    "        probability_list = []\n",
    "        for nbclass in nbclasses:            \n",
    "            ftrs = nbclass.features\n",
    "            prob = 1\n",
    "            for i in range(len(ftrs)):\n",
    "                prob *= nbclass.probability_value_given_feature(d[i], ftrs[i])\n",
    "              \n",
    "            probability_list.append( (prob, nbclass.name) )\n",
    "\n",
    "        prob_values = [f[0] for f in probability_list]\n",
    "        prob_sum = sum(prob_values)\n",
    "        if prob_sum==0:\n",
    "            number_classes = len(self.nbclasses)\n",
    "            pl = []\n",
    "            for prob_element in probability_list:\n",
    "                pl.append( ((1 / number_classes), prob_element[1]))\n",
    "            probability_list = pl\n",
    "        else:\n",
    "            probability_list = [ (p[0] / prob_sum, p[1])  for p in probability_list]\n",
    "        if best_only:\n",
    "            return max(probability_list)\n",
    "        else:\n",
    "            return probability_list"
   ]
  },
  {
   "cell_type": "markdown",
   "metadata": {},
   "source": [
    "We will create a classifier with one feature class 'height'. We check it with values between 130 and 220 cm."
   ]
  },
  {
   "cell_type": "code",
   "execution_count": 14,
   "metadata": {},
   "outputs": [
    {
     "name": "stdout",
     "output_type": "stream",
     "text": [
      "130 [(0.0, 'male'), (1.0, 'female')]\n",
      "135 [(0.0, 'male'), (1.0, 'female')]\n",
      "140 [(0.5, 'male'), (0.5, 'female')]\n",
      "145 [(0.0, 'male'), (1.0, 'female')]\n",
      "150 [(0.0, 'male'), (1.0, 'female')]\n",
      "155 [(0.125, 'male'), (0.875, 'female')]\n",
      "160 [(0.38461538461538469, 'male'), (0.61538461538461542, 'female')]\n",
      "165 [(0.26666666666666666, 'male'), (0.73333333333333328, 'female')]\n",
      "170 [(0.46153846153846162, 'male'), (0.53846153846153855, 'female')]\n",
      "175 [(0.77777777777777779, 'male'), (0.22222222222222224, 'female')]\n",
      "180 [(0.55555555555555558, 'male'), (0.44444444444444448, 'female')]\n",
      "185 [(1.0, 'male'), (0.0, 'female')]\n",
      "190 [(1.0, 'male'), (0.0, 'female')]\n",
      "195 [(1.0, 'male'), (0.0, 'female')]\n",
      "200 [(1.0, 'male'), (0.0, 'female')]\n",
      "205 [(0.5, 'male'), (0.5, 'female')]\n",
      "210 [(0.5, 'male'), (0.5, 'female')]\n",
      "215 [(0.5, 'male'), (0.5, 'female')]\n"
     ]
    }
   ],
   "source": [
    "c = Classifier(cls[\"male\"], cls[\"female\"])\n",
    "\n",
    "for i in range(130, 220, 5):\n",
    "    print(i, c.prob(i, best_only=False))"
   ]
  },
  {
   "cell_type": "markdown",
   "metadata": {},
   "source": [
    "There are no persons - neither male nor female - in our learn set, with a body height between 140 and 144. This is the reason, why our classifier can't base its result on learned data and therefore comes back with a fify-fifty result. \n",
    "\n",
    "We can also train a classifier with our firstnames:"
   ]
  },
  {
   "cell_type": "code",
   "execution_count": 15,
   "metadata": {},
   "outputs": [
    {
     "name": "stdout",
     "output_type": "stream",
     "text": [
      "Edgar (0.5, 'male')\n",
      "Benjamin (1.0, 'male')\n",
      "Fred (1.0, 'male')\n",
      "Albert (1.0, 'male')\n",
      "Laura (1.0, 'female')\n",
      "Maria (1.0, 'female')\n",
      "Paula (1.0, 'female')\n",
      "Sharon (1.0, 'female')\n",
      "Jessie (0.6666666666666667, 'female')\n"
     ]
    }
   ],
   "source": [
    "fts = {}\n",
    "cls = {}\n",
    "for gender in genders:\n",
    "    fts_names = Feature(firstnames[gender], name=gender)\n",
    "    cls[gender] = NBclass(gender, fts_names)\n",
    "    \n",
    "c = Classifier(cls[\"male\"], cls[\"female\"])\n",
    "\n",
    "testnames = ['Edgar', 'Benjamin', 'Fred', 'Albert', 'Laura', \n",
    "             'Maria', 'Paula', 'Sharon', 'Jessie']\n",
    "for name in testnames:\n",
    "    print(name, c.prob(name))"
   ]
  },
  {
   "cell_type": "markdown",
   "metadata": {},
   "source": [
    "The name \"Jessie\" is an ambiguous name. There are about 66 boys per 100 girls with this name. We can learn from the previous classification results that the probability for the name \"Jessie\" being \"female\" is about two-thirds, which is calculated from our data set \"person\":"
   ]
  },
  {
   "cell_type": "code",
   "execution_count": 16,
   "metadata": {},
   "outputs": [
    {
     "data": {
      "text/plain": [
       "[['Jessie', 'Morgan', '175', '67.0', 'male'],\n",
       " ['Jessie', 'Bell', '165', '65', 'female'],\n",
       " ['Jessie', 'Washington', '159', '56', 'female'],\n",
       " ['Jessie', 'Davis', '174', '45', 'female'],\n",
       " ['Jessie', 'Johnson', '165', '30.0', 'male'],\n",
       " ['Jessie', 'Thomas', '168', '69', 'female']]"
      ]
     },
     "execution_count": 16,
     "metadata": {},
     "output_type": "execute_result"
    }
   ],
   "source": [
    "[person for person in persons if person[0] == \"Jessie\"]"
   ]
  },
  {
   "cell_type": "markdown",
   "metadata": {},
   "source": [
    "Jessie Washington is only 159 cm tall. If we have a look at the results of our Classifier, trained with heights, we see that the likelihood for a person 159 cm tall of being \"female\" is 0.875. So what about an unknown person called \"Jessie\" and being 159 cm tall? Is this person female or male?\n",
    "\n",
    "To answer this question, we will train an Naive Bayes classifier with two feature classes, i.e. heights and firstnames:"
   ]
  },
  {
   "cell_type": "code",
   "execution_count": 17,
   "metadata": {},
   "outputs": [
    {
     "name": "stdout",
     "output_type": "stream",
     "text": [
      "('Maria', 140) [(0.5, 'male'), (0.5, 'female')]\n",
      "('Anthony', 200) [(1.0, 'male'), (0.0, 'female')]\n",
      "('Anthony', 153) [(0.5, 'male'), (0.5, 'female')]\n",
      "('Jessie', 188) [(1.0, 'male'), (0.0, 'female')]\n",
      "('Jessie', 159) [(0.066666666666666666, 'male'), (0.93333333333333335, 'female')]\n",
      "('Jessie', 160) [(0.23809523809523817, 'male'), (0.76190476190476197, 'female')]\n"
     ]
    }
   ],
   "source": [
    "cls = {}\n",
    "for gender in genders:\n",
    "    fts_heights = Feature(heights[gender], name=\"heights\", bin_width=5)\n",
    "    fts_names = Feature(firstnames[gender], name=\"names\")\n",
    "\n",
    "    cls[gender] = NBclass(gender, fts_names, fts_heights)\n",
    "\n",
    "\n",
    "c = Classifier(cls[\"male\"], cls[\"female\"])\n",
    "\n",
    "for d in [(\"Maria\", 140), (\"Anthony\", 200), (\"Anthony\", 153), \n",
    "          (\"Jessie\", 188) , (\"Jessie\", 159), (\"Jessie\", 160) ]:\n",
    "    print(d, c.prob(*d, best_only=False))\n",
    "    "
   ]
  },
  {
   "cell_type": "markdown",
   "metadata": {},
   "source": [
    "### The Underlying Theory\n",
    "\n",
    "Our classifier from the previous example is based on the Bayes theorem:\n",
    "\n",
    "$$P(c_j | d) = \\frac{P(d | c_j) P(c_j)}{P(d)}$$\n",
    "\n",
    "where\n",
    "\n",
    "- $P(c_j | d)$ is the probability of instance d being in class c_j, it is the result we\n",
    "want to calculate with our classifier \n",
    "\n",
    "- $P(d | c_j)$ is the probability of generating the instance d, if the class $c_j$ is given\n",
    "\n",
    "- $P(c_j)$ is the probability for the occurrence of class $c_j$ \n",
    "We didn't use it in our classifiers, because both classes in our example have been equally likely.\n",
    "- P(d) is the probability for the occurrence of an instance d\n",
    "It's not needed in the calculation, because it is the same for all classes."
   ]
  },
  {
   "cell_type": "markdown",
   "metadata": {},
   "source": [
    "We had used only one feature in our previous examples, i.e. the 'height' or the name. \n",
    "\n",
    "It's possible to define a Bayes Classifier with multiple features, e.g.\n",
    "$d = (d_1, d_2, ..., d_n)$\n",
    "\n",
    "We get the following formula:\n",
    "\n",
    "\n",
    "$$P(c_j | d) = \\frac{1}{P(d)} \\displaystyle \\prod_{i=1}^{n}  P( d_i | c_j) P(c_j)$$\n",
    "\n",
    "$\\frac{1}{P(d)}$ is only depending on the values of $d_1, d_2, ... d_n$. This means that it is a constant as the values of the feature variables are known."
   ]
  },
  {
   "cell_type": "code",
   "execution_count": null,
   "metadata": {
    "collapsed": true,
    "jupyter": {
     "outputs_hidden": true
    }
   },
   "outputs": [],
   "source": []
  }
 ],
 "metadata": {
  "anaconda-cloud": {},
  "kernelspec": {
   "display_name": "Python 3",
   "language": "python",
   "name": "python3"
  },
  "language_info": {
   "codemirror_mode": {
    "name": "ipython",
    "version": 3
   },
   "file_extension": ".py",
   "mimetype": "text/x-python",
   "name": "python",
   "nbconvert_exporter": "python",
   "pygments_lexer": "ipython3",
   "version": "3.8.5"
  },
  "toc": {
   "base_numbering": 1,
   "nav_menu": {},
   "number_sections": true,
   "sideBar": true,
   "skip_h1_title": false,
   "title_cell": "Table of Contents",
   "title_sidebar": "Contents",
   "toc_cell": false,
   "toc_position": {},
   "toc_section_display": true,
   "toc_window_display": false
  }
 },
 "nbformat": 4,
 "nbformat_minor": 4
}
