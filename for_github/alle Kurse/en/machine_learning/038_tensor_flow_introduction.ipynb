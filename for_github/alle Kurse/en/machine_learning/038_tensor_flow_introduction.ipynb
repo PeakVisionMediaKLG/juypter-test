{
 "cells": [
  {
   "cell_type": "markdown",
   "metadata": {},
   "source": [
    "## TensorFlow\n",
    "\n",
    "TensorFlow is an open-source software library for machine learning  across a range of tasks. \n",
    "It is a symbolic math library, and also used as a system for building and training neural networks to detect and decipher patterns and correlations, analogous to human learning and reasoning. \n",
    "It is used for both research and production at Google often replacing its closed-source predecessor, DistBelief.\n",
    "TensorFlow was developed by the Google Brain team for internal Google use. It was released under the Apache 2.0 open source license on 9 November 2015.\n",
    "\n",
    "TensorFlow provides a Python API\n",
    "as well as C++, Haskell, Java, Go and Rust APIs."
   ]
  },
  {
   "cell_type": "markdown",
   "metadata": {},
   "source": [
    "<img width=\"60%\" class=\"imgright\" src=\"images/tensors_5_dimensions.png\" alt=\"Dimensions in Tensors\" />"
   ]
  },
  {
   "cell_type": "markdown",
   "metadata": {},
   "source": [
    "A tensor can be represented as a multidimensional array of numbers. \n",
    "A tensor has its rank and shape, rank is its number of dimensions and shape is the size of each dimension."
   ]
  },
  {
   "cell_type": "code",
   "execution_count": 1,
   "metadata": {},
   "outputs": [
    {
     "data": {
      "text/plain": [
       "[[[3, 4], [1, 2]], [[3, 5], [8, 9]]]"
      ]
     },
     "execution_count": 1,
     "metadata": {},
     "output_type": "execute_result"
    }
   ],
   "source": [
    "# a rank 0 tensor, i.e. a scalar with shape ():\n",
    "42                     \n",
    "# a rank 1 tensor, i.e. a vector with shape (3,):\n",
    "[1, 2, 3] \n",
    "\n",
    "# a rank 2 tensor, i.e. a matrix with shape (2, 3):           \n",
    "[[1, 2, 3], [3, 2, 1]] \n",
    "# a rank 3 tensor with shape (2, 2, 2) :\n",
    "[ [[3, 4], [1, 2]], [[3, 5], [8, 9]]] \n",
    "#"
   ]
  },
  {
   "cell_type": "markdown",
   "metadata": {},
   "source": [
    "All data of TensorFlow is represented as tensors. It is the sole data structure:\n",
    "\n",
    "tf.float32, tf.float64, tf.int8, tf.int16, …, tf.int64, tf.uint8, ..."
   ]
  },
  {
   "cell_type": "markdown",
   "metadata": {},
   "source": [
    "### Structure of TensorFlow Programs\n",
    "\n",
    "\n",
    "<img width=\"60%\" class=\"imgright\" src=\"images/session_computational_graph.png\" alt=\"Structure of TensorFlow Programs\" />\n",
    "\n",
    "<br><br>\n",
    "TensorFlow programs consist of two discrete sections:\n",
    "\n",
    "1. A graph is created in the construction phase. \n",
    "2. The computational graph is run in the execution phase, which is a session.\n",
    "\n",
    "### Example"
   ]
  },
  {
   "cell_type": "code",
   "execution_count": 2,
   "metadata": {},
   "outputs": [
    {
     "name": "stdout",
     "output_type": "stream",
     "text": [
      "34.0012 <class 'numpy.float32'>\n"
     ]
    }
   ],
   "source": [
    "import tensorflow as tf\n",
    "\n",
    "# Computational Graph:\n",
    "\n",
    "c1 = tf.constant(0.034)\n",
    "c2 = tf.constant(1000.0)\n",
    "x = tf.multiply(c1, c1)\n",
    "y = tf.multiply(c1, c2)\n",
    "final_node = tf.add(x, y)\n",
    "\n",
    "# Running the session:\n",
    "\n",
    "\n",
    "with tf.Session() as sess:\n",
    "    result = sess.run(final_node)\n",
    "    print(result, type(result))"
   ]
  },
  {
   "cell_type": "code",
   "execution_count": 3,
   "metadata": {},
   "outputs": [
    {
     "name": "stdout",
     "output_type": "stream",
     "text": [
      "34.001156 <class 'numpy.float64'>\n"
     ]
    }
   ],
   "source": [
    "import tensorflow as tf\n",
    "\n",
    "# Computational Graph:\n",
    "\n",
    "c1 = tf.constant(0.034, dtype=tf.float64)\n",
    "c2 = tf.constant(1000.0, dtype=tf.float64)\n",
    "x = tf.multiply(c1, c1)\n",
    "y = tf.multiply(c1, c2)\n",
    "final_node = tf.add(x, y)\n",
    "\n",
    "# Running the session:\n",
    "\n",
    "\n",
    "with tf.Session() as sess:\n",
    "    result = sess.run(final_node)\n",
    "    print(result, type(result))\n"
   ]
  },
  {
   "cell_type": "code",
   "execution_count": 4,
   "metadata": {},
   "outputs": [
    {
     "name": "stdout",
     "output_type": "stream",
     "text": [
      "[  23.12  165.62    2.88  162.  ] <class 'numpy.ndarray'>\n"
     ]
    }
   ],
   "source": [
    "import tensorflow as tf\n",
    "\n",
    "# Computational Graph:\n",
    "\n",
    "c1 = tf.constant([3.4, 9.1, -1.2, 9], dtype=tf.float64)\n",
    "c2 = tf.constant([3.4, 9.1, -1.2, 9], dtype=tf.float64)\n",
    "x = tf.multiply(c1, c1)\n",
    "y = tf.multiply(c1, c2)\n",
    "final_node = tf.add(x, y)\n",
    "\n",
    "# Running the session:\n",
    "\n",
    "\n",
    "with tf.Session() as sess:\n",
    "    result = sess.run(final_node)\n",
    "    print(result, type(result))\n"
   ]
  },
  {
   "cell_type": "markdown",
   "metadata": {},
   "source": [
    "A computational graph is a series of TensorFlow operations arranged into a graph of nodes. Let's build a simple computational graph. Each node takes zero or more tensors as inputs and produces a tensor as an output. Constant nodes take no input.\n",
    "\n",
    "Printing the nodes does not output a numerical value.\n",
    "We have defined a computational graph but no numerical evaluation has taken place!"
   ]
  },
  {
   "cell_type": "code",
   "execution_count": 5,
   "metadata": {},
   "outputs": [
    {
     "name": "stdout",
     "output_type": "stream",
     "text": [
      "Tensor(\"Const_6:0\", shape=(4,), dtype=float64)\n",
      "Tensor(\"Mul_6:0\", shape=(4,), dtype=float64)\n",
      "Tensor(\"Add_3:0\", shape=(4,), dtype=float64)\n"
     ]
    }
   ],
   "source": [
    "c1 = tf.constant([3.4, 9.1, -1.2, 9], dtype=tf.float64)\n",
    "c2 = tf.constant([3.4, 9.1, -1.2, 9], dtype=tf.float64)\n",
    "x = tf.multiply(c1, c1)\n",
    "y = tf.multiply(c1, c2)\n",
    "final_node = tf.add(x, y)\n",
    "\n",
    "print(c1)\n",
    "print(x)\n",
    "print(final_node)"
   ]
  },
  {
   "cell_type": "markdown",
   "metadata": {},
   "source": [
    "To evaluate the nodes, we have to run the computational graph within a session. \n",
    "A session encapsulates the control and state of the TensorFlow runtime.\n",
    "The following code creates a Session object and then invokes its run method to run enough of the computational graph to evaluate node1 and node2. By running the computational graph in a session as follows.\n",
    "We have to create a session object:"
   ]
  },
  {
   "cell_type": "code",
   "execution_count": 6,
   "metadata": {
    "collapsed": true
   },
   "outputs": [],
   "source": [
    "session = tf.Session()"
   ]
  },
  {
   "cell_type": "markdown",
   "metadata": {},
   "source": [
    "Now, we can evaluate the computational graph by starting the run method of the session object:"
   ]
  },
  {
   "cell_type": "code",
   "execution_count": 7,
   "metadata": {},
   "outputs": [
    {
     "name": "stdout",
     "output_type": "stream",
     "text": [
      "[  23.12  165.62    2.88  162.  ]\n",
      "<class 'numpy.ndarray'>\n"
     ]
    }
   ],
   "source": [
    "result = session.run(final_node)\n",
    "print(result)\n",
    "print(type(result))"
   ]
  },
  {
   "cell_type": "markdown",
   "metadata": {},
   "source": [
    "Of course, we will have to close the session, when we are finished:"
   ]
  },
  {
   "cell_type": "code",
   "execution_count": 8,
   "metadata": {
    "collapsed": true
   },
   "outputs": [],
   "source": [
    "session.close()"
   ]
  },
  {
   "cell_type": "markdown",
   "metadata": {},
   "source": [
    "It is usually a better idea to work with the with statement, as we did in the introductory examples!"
   ]
  },
  {
   "cell_type": "markdown",
   "metadata": {},
   "source": [
    "### Similarity to NumPy\n",
    "\n",
    "We will rewrite the following program with Numpy."
   ]
  },
  {
   "cell_type": "code",
   "execution_count": 9,
   "metadata": {},
   "outputs": [
    {
     "name": "stdout",
     "output_type": "stream",
     "text": [
      "[ 0  1  2  3  4  5  6  7  8  9 10 11]\n",
      "[12 15 18 21]\n",
      "[[ 1.  0.  0.  0.  0.]\n",
      " [ 0.  1.  0.  0.  0.]\n",
      " [ 0.  0.  1.  0.  0.]\n",
      " [ 0.  0.  0.  1.  0.]\n",
      " [ 0.  0.  0.  0.  1.]]\n"
     ]
    }
   ],
   "source": [
    "import tensorflow as tf\n",
    "\n",
    "session = tf.Session()\n",
    "x = tf.range(12)\n",
    "print(session.run(x))\n",
    "x2 = tf.reshape(tensor=x, \n",
    "                shape=(3, 4))\n",
    "x2 = tf.reduce_sum(x2, reduction_indices=[0])\n",
    "res = session.run(x2)\n",
    "print(res)\n",
    "\n",
    "x3 = tf.eye(5, 5)\n",
    "res = session.run(x3)\n",
    "print(res)"
   ]
  },
  {
   "cell_type": "markdown",
   "metadata": {},
   "source": [
    "Now a similar Numpy version:"
   ]
  },
  {
   "cell_type": "code",
   "execution_count": 10,
   "metadata": {},
   "outputs": [
    {
     "name": "stdout",
     "output_type": "stream",
     "text": [
      "[ 0  1  2  3  4  5  6  7  8  9 10 11]\n",
      "[12 15 18 21]\n",
      "[[ 1.  0.  0.  0.  0.]\n",
      " [ 0.  1.  0.  0.  0.]\n",
      " [ 0.  0.  1.  0.  0.]\n",
      " [ 0.  0.  0.  1.  0.]\n",
      " [ 0.  0.  0.  0.  1.]]\n"
     ]
    }
   ],
   "source": [
    "import numpy as np\n",
    "\n",
    "x = np.arange(12)\n",
    "print(x)\n",
    "x2 = x.reshape((3, 4))\n",
    "res = x2.sum(axis=0)\n",
    "print(res)\n",
    "\n",
    "x3 = np.eye(5, 5)\n",
    "print(x3)"
   ]
  },
  {
   "cell_type": "markdown",
   "metadata": {},
   "source": [
    "### TensorBoard\n",
    "\n",
    "- TensorFlow provides functions to debug and optimize programs with the help of a visualization tool called TensorBoard.\n",
    "- TensorFlow creates the necessary data during its execution.\n",
    "- The data are stored in trace files.\n",
    "- Tensorboard can be viewed from a browser using http://localhost:6006/\n",
    "\n",
    "We can run the following example program, and it will create the directory \"output\"\n",
    "We can run now tensorboard:\n",
    "tensorboard --logdir output\n",
    "\n",
    "which will create a webserver:\n",
    "TensorBoard 0.1.8 at http://marvin:6006 (Press CTRL+C to quit)\n"
   ]
  },
  {
   "cell_type": "code",
   "execution_count": 11,
   "metadata": {},
   "outputs": [
    {
     "name": "stdout",
     "output_type": "stream",
     "text": [
      "1069.16\n"
     ]
    }
   ],
   "source": [
    "import tensorflow as tf\n",
    "\n",
    "p = tf.constant(0.034)\n",
    "c = tf.constant(1000.0)\n",
    "x = tf.add(c, tf.multiply(p, c))\n",
    "x = tf.add(x, tf.multiply(p, x))\n",
    "\n",
    "with tf.Session() as sess:\n",
    "    writer = tf.summary.FileWriter(\"output\", sess.graph)\n",
    "    print(sess.run(x))\n",
    "    writer.close()"
   ]
  },
  {
   "cell_type": "markdown",
   "metadata": {},
   "source": [
    "<img width=\"85%\"  src=\"images/tensor_board_screenshot.png\" alt=\"TensorBoard Screenshot\" />\n"
   ]
  },
  {
   "cell_type": "markdown",
   "metadata": {},
   "source": [
    "The computational graph is included in the TensorBoard:"
   ]
  },
  {
   "cell_type": "markdown",
   "metadata": {},
   "source": [
    "![Computational Graph](images/computational_graph.png)"
   ]
  },
  {
   "cell_type": "markdown",
   "metadata": {},
   "source": [
    "### Placeholders\n",
    "\n",
    "A computational graph can be parameterized to accept external inputs, known as placeholders. The values for placeholders are provided when the graph is run in a session."
   ]
  },
  {
   "cell_type": "code",
   "execution_count": 17,
   "metadata": {},
   "outputs": [
    {
     "name": "stdout",
     "output_type": "stream",
     "text": [
      "193.458\n",
      "[ 12.  40.]\n"
     ]
    }
   ],
   "source": [
    "import tensorflow as tf\n",
    "\n",
    "c1 = tf.placeholder(tf.float32)\n",
    "c2 = tf.placeholder(tf.float32)\n",
    "\n",
    "x = tf.multiply(c1, c1)\n",
    "y = tf.multiply(c1, c2)\n",
    "final_node = tf.add(x, y)\n",
    "\n",
    "with tf.Session() as sess:\n",
    "    result = final_node.eval( {c1: 3.8, c2: 47.11})\n",
    "    print(result)\n",
    "    result = final_node.eval( {c1: [3, 5], c2: [1, 3]})\n",
    "    print(result)"
   ]
  },
  {
   "cell_type": "markdown",
   "metadata": {},
   "source": [
    "Another example:"
   ]
  },
  {
   "cell_type": "code",
   "execution_count": 18,
   "metadata": {},
   "outputs": [
    {
     "name": "stdout",
     "output_type": "stream",
     "text": [
      "[ 21.  20.  30.]\n"
     ]
    }
   ],
   "source": [
    "import tensorflow  as tf\n",
    "import numpy as np\n",
    "v1 = np.array([3, 4, 5])\n",
    "v2 = np.array([4, 1, 1])\n",
    "c1 = tf.placeholder(tf.float32, shape=(3,))\n",
    "c2 = tf.placeholder(tf.float32, shape=(3,))\n",
    "x = tf.multiply(c1, c1)\n",
    "y = tf.multiply(c1, c2)\n",
    "final_node = tf.add(x, y)\n",
    "\n",
    "with tf.Session() as sess:\n",
    "    result = final_node.eval( {c1: v1, c2: v2})\n",
    "    print(result)"
   ]
  },
  {
   "cell_type": "markdown",
   "metadata": {},
   "source": [
    "placeholder(\n",
    "    dtype,\n",
    "    shape=None,\n",
    "    name=None\n",
    ")\n",
    "\n",
    "\n",
    "Inserts a placeholder for a tensor that will be always fed. It returns a Tensor that may be used as a handle for feeding a value, but not evaluated directly.\n",
    "\n",
    "Important: This tensor will produce an error if evaluated. Its value must be fed using the feed_dict optional argument to \n",
    "\n",
    "Session.run()\n",
    "\n",
    "Tensor.eval()\n",
    "\n",
    "Operation.run()\n",
    "\n",
    "Args:\n",
    "\n",
    "| Parameter | Description |\n",
    "|-----------|:-------------|\n",
    "|dtype: \t|The type of elements in the tensor to be fed.|\n",
    "|shape: \t|The shape of the tensor to be fed (optional). If the shape is not specified, you can feed a tensor of any shape.\n",
    "|name: \t|A name for the operation (optional).|"
   ]
  },
  {
   "cell_type": "markdown",
   "metadata": {},
   "source": [
    "### Variables\n",
    "\n",
    "Variables are used to add trainable parameters to a graph. They are constructed with a type and initial value.\n",
    "Variables are not initialized when you call tf.Variable. To initialize the variables of a  TensorFlow graph, we have to call global_variables_initializer:"
   ]
  },
  {
   "cell_type": "code",
   "execution_count": 19,
   "metadata": {},
   "outputs": [
    {
     "name": "stdout",
     "output_type": "stream",
     "text": [
      "[-0.5  0.   0.5  1. ]\n"
     ]
    }
   ],
   "source": [
    "import tensorflow as tf\n",
    "\n",
    "W = tf.Variable([.5], dtype=tf.float32)\n",
    "b = tf.Variable([-1], dtype=tf.float32)\n",
    "x = tf.placeholder(tf.float32)\n",
    "model = W * x + b\n",
    "\n",
    "with tf.Session() as sess:\n",
    "    init = tf.global_variables_initializer()\n",
    "    sess.run(init)\n",
    "    print(sess.run(model, {x: [1, 2, 3, 4]}))"
   ]
  },
  {
   "cell_type": "markdown",
   "metadata": {},
   "source": [
    "### Difference Between Variables and Placeholders\n",
    "\n",
    "The difference between tf.Variable and tf.placeholder consists in the time when the values are passed.\n",
    "If you use tf.Variable, you have to provide an initial value when you declare it. With tf.placeholder you don't have to provide an initial value.\n",
    "\n",
    "The value can be specified at run time with the feed_dict argument inside Session.run\n",
    "\n",
    "A placeholder is used for feeding external data into a Tensorflow computation, i.e. from outside of the graph!\n",
    "\n",
    "If you are training a learning algorithm, a placeholder is used for feeding in your training data. This means that the training data is not part of the computational graph. The placeholder behaves similar to the Python \"input\" statement.\n",
    "On the other hand a TensorFlow variable behaves more or less like a Python variable!"
   ]
  },
  {
   "cell_type": "markdown",
   "metadata": {},
   "source": [
    "Example:\n",
    "    \n",
    "Calculating the loss:"
   ]
  },
  {
   "cell_type": "code",
   "execution_count": 20,
   "metadata": {},
   "outputs": [
    {
     "name": "stdout",
     "output_type": "stream",
     "text": [
      "3.5\n"
     ]
    }
   ],
   "source": [
    "import tensorflow as tf\n",
    "\n",
    "W = tf.Variable([.5], dtype=tf.float32)\n",
    "b = tf.Variable([-1], dtype=tf.float32)\n",
    "x = tf.placeholder(tf.float32)\n",
    "y = tf.placeholder(tf.float32)\n",
    "\n",
    "model = W * x + b\n",
    "\n",
    "deltas = tf.square(model - y)\n",
    "loss = tf.reduce_sum(deltas)\n",
    "\n",
    "with tf.Session() as sess:\n",
    "    init = tf.global_variables_initializer()\n",
    "    sess.run(init)\n",
    " \n",
    "    print(sess.run(loss, {x: [1, 2, 3, 4], y: [1, 1, 1, 1]}))"
   ]
  },
  {
   "cell_type": "markdown",
   "metadata": {},
   "source": [
    "#### Reassigning Values to Variables"
   ]
  },
  {
   "cell_type": "code",
   "execution_count": 22,
   "metadata": {},
   "outputs": [
    {
     "name": "stdout",
     "output_type": "stream",
     "text": [
      "3.5\n",
      "0.0\n"
     ]
    }
   ],
   "source": [
    "import tensorflow as tf\n",
    "W = tf.Variable([.5], dtype=tf.float32)\n",
    "b = tf.Variable([-1], dtype=tf.float32)\n",
    "x = tf.placeholder(tf.float32)\n",
    "y = tf.placeholder(tf.float32)\n",
    "model = W * x + b\n",
    "deltas = tf.square(model - y)\n",
    "loss = tf.reduce_sum(deltas)\n",
    "\n",
    "with tf.Session() as sess:\n",
    "    init = tf.global_variables_initializer()\n",
    "    sess.run(init)\n",
    " \n",
    "    print(sess.run(loss, {x: [1, 2, 3, 4], y: [1, 1, 1, 1]}))\n",
    "\n",
    "    W_a = tf.assign(W, [0.])\n",
    "    b_a =  tf.assign(b, [1.])\n",
    "    sess.run( W_a )\n",
    "    sess.run( b_a)  \n",
    "    # sess.run( [W_a, b_a] ) # alternatively in one 'run'\n",
    "   \n",
    "    print(sess.run(loss, {x: [1, 2, 3, 4], y: [1, 1, 1, 1]}))"
   ]
  },
  {
   "cell_type": "code",
   "execution_count": 23,
   "metadata": {},
   "outputs": [
    {
     "name": "stdout",
     "output_type": "stream",
     "text": [
      "[array([  3.91378126e-06], dtype=float32), array([ 0.99998844], dtype=float32)]\n"
     ]
    }
   ],
   "source": [
    "import tensorflow as tf\n",
    "\n",
    "W = tf.Variable([.5], dtype=tf.float32)\n",
    "b = tf.Variable([-1], dtype=tf.float32)\n",
    "x = tf.placeholder(tf.float32)\n",
    "y = tf.placeholder(tf.float32)\n",
    "\n",
    "model = W * x + b\n",
    "deltas = tf.square(model - y)\n",
    "loss = tf.reduce_sum(deltas)\n",
    "\n",
    "optimizer = tf.train.GradientDescentOptimizer(0.01)\n",
    "train = optimizer.minimize(loss)\n",
    "\n",
    "with tf.Session() as sess:\n",
    "    init = tf.global_variables_initializer()\n",
    "    sess.run(init)\n",
    "    for _ in range(1000):\n",
    "        sess.run(train, \n",
    "                  {x: [1, 2, 3, 4], y: [1, 1, 1, 1]})\n",
    "    writer = tf.summary.FileWriter(\"optimizer\", sess.graph)\n",
    "    print(sess.run([W, b]))\n",
    "    writer.close()"
   ]
  },
  {
   "cell_type": "markdown",
   "metadata": {},
   "source": [
    "### Creating Data Sets\n",
    "\n",
    "We will create data sets for a larger example for the GradientDescentOptimizer."
   ]
  },
  {
   "cell_type": "code",
   "execution_count": 16,
   "metadata": {},
   "outputs": [
    {
     "data": {
      "image/png": "[encoded data removed]",
      "text/plain": [
       "<matplotlib.figure.Figure at 0x7fab35f655c0>"
      ]
     },
     "metadata": {},
     "output_type": "display_data"
    }
   ],
   "source": [
    "import numpy as np\n",
    "import matplotlib.pyplot as plt\n",
    "\n",
    "for quantity, suffix in [(1000, \"train\"), (200, \"test\")]:\n",
    "    samples = np.random.multivariate_normal([-2, -2], [[1, 0], [0, 1]], quantity)\n",
    "    plt.plot(samples[:, 0], samples[:, 1], '.', label=\"bad ones \" + suffix)\n",
    "    bad_ones = np.column_stack((np.zeros(quantity), samples))\n",
    "    \n",
    "    samples = np.random.multivariate_normal([1, 1], [[1, 0.5], [0.5, 1]], quantity)\n",
    "    plt.plot(samples[:, 0], samples[:, 1], '.', label=\"good ones \" + suffix)\n",
    "    good_ones = np.column_stack((np.ones(quantity), samples))\n",
    "    \n",
    "    sample = np.row_stack((bad_ones, good_ones))\n",
    "    np.savetxt(\"data/the_good_and_the_bad_ones_\" + suffix + \".txt\", sample, fmt=\"%1d %4.2f %4.2f\")\n",
    "    \n",
    "plt.legend()\n",
    "plt.show()"
   ]
  },
  {
   "cell_type": "code",
   "execution_count": 15,
   "metadata": {},
   "outputs": [
    {
     "name": "stdout",
     "output_type": "stream",
     "text": [
      "\n",
      "Bias vector:  [-0.78089082  0.78089082]\n",
      "Weight matrix:\n",
      " [[-0.80193734  0.8019374 ]\n",
      " [-0.831303    0.831303  ]]\n",
      "\n",
      "Applying model to first data set:\n",
      "[[-1.05999994 -1.55999994]]\n",
      "\n",
      "Wx + b:  [[ 1.36599553 -1.36599553]]\n",
      "softmax(Wx + b):  [[ 0.93888813  0.06111182]]\n",
      "Accuracy on test data:  0.97\n",
      "Accuracy on training data:  0.9725\n",
      "[1 1 1 1 0]\n"
     ]
    },
    {
     "data": {
      "image/png": "[encoded data removed]",
      "text/plain": [
       "<matplotlib.figure.Figure at 0x7fab97f527b8>"
      ]
     },
     "metadata": {},
     "output_type": "display_data"
    }
   ],
   "source": [
    "import os\n",
    "os.environ['TF_CPP_MIN_LOG_LEVEL']='2'\n",
    "\n",
    "import numpy as np\n",
    "import tensorflow as tf\n",
    "from matplotlib import pyplot as plt\n",
    "\n",
    "number_of_samples_per_training_step = 100\n",
    "num_of_epochs = 1  \n",
    "\n",
    "num_labels = 2 # should be automatically determined\n",
    "\n",
    "def evaluation_func(X):\n",
    "    return predicted_class.eval(feed_dict={x:X}) \n",
    "\n",
    "def plot_boundary(X, Y, pred_func):\n",
    "    # determine canvas borders\n",
    "    mins = np.amin(X, 0)    # array with column minimums\n",
    "    mins = mins - 0.1*np.abs(mins)\n",
    "    maxs = np.amax(X, 0)    # array with column maximums\n",
    "    maxs = maxs + 0.1*maxs\n",
    "\n",
    "    xs, ys = np.meshgrid(np.linspace(mins[0], maxs[0], 300), \n",
    "                         np.linspace(mins[1], maxs[1], 300))\n",
    "\n",
    "    # evaluate model using the dense grid\n",
    "    # c_ creates one array with \"points\" from meshgrid:\n",
    "\n",
    "    \n",
    "    Z = pred_func(np.c_[xs.flatten(), ys.flatten()])\n",
    "    # Z is one-dimensional and will be reshaped into 300 x 300:  \n",
    "    Z = Z.reshape(xs.shape) \n",
    "    \n",
    "    # Plot the contour and training examples\n",
    "    plt.contourf(xs, ys, Z, colors=('c', 'g', 'y', 'b'))\n",
    "    Xn = X[Y[:,1]==1]\n",
    "    plt.plot(Xn[:, 0], Xn[:, 1], \"bo\")\n",
    "    Xn = X[Y[:,1]==0]\n",
    "    plt.plot(Xn[:, 0], Xn[:, 1], \"go\")\n",
    "    plt.show()\n",
    "\n",
    "\n",
    "def get_data(fname):\n",
    "    data = np.loadtxt(fname)\n",
    "    labels = data[:, :1] #  array([[ 0.], [ 0.], [ 1.], ...]])\n",
    "    labels_one_hot = (np.arange(num_labels) == labels).astype(np.float32)\n",
    "    data = data[:, 1:].astype(np.float32)\n",
    "    return data, labels_one_hot\n",
    "\n",
    "data_train = \"data/the_good_and_the_bad_ones_train.txt\"\n",
    "data_test = \"data/the_good_and_the_bad_ones_test.txt\"\n",
    "train_data, train_labels = get_data(data_train)\n",
    "test_data, test_labels = get_data(data_test)\n",
    "\n",
    "\n",
    "train_size, num_features = train_data.shape\n",
    "\n",
    "x = tf.placeholder(\"float\", shape=[None, num_features])\n",
    "y_ = tf.placeholder(\"float\", shape=[None, num_labels])\n",
    "   \n",
    "Weights = tf.Variable(tf.zeros([num_features, num_labels]))\n",
    "b = tf.Variable(tf.zeros([num_labels]))\n",
    "y = tf.nn.softmax(tf.matmul(x, Weights) + b)\n",
    "\n",
    "# Optimization.\n",
    "cross_entropy = -tf.reduce_sum(y_*tf.log(y))\n",
    "train_step = tf.train.GradientDescentOptimizer(0.01).minimize(cross_entropy)\n",
    "\n",
    "# For the test data, hold the entire dataset in one constant node.\n",
    "test_data_node = tf.constant(test_data)\n",
    "\n",
    "# Evaluation.\n",
    "predicted_class = tf.argmax(y, 1)\n",
    "correct_prediction = tf.equal(tf.argmax(y,1), tf.argmax(y_,1))\n",
    "accuracy = tf.reduce_mean(tf.cast(correct_prediction, \"float\"))\n",
    "\n",
    "with tf.Session() as sess:\n",
    "\n",
    "    # Run all the initializers to prepare the trainable parameters.\n",
    "    init = tf.global_variables_initializer()\n",
    "    \n",
    "    sess.run(init)\n",
    "        \n",
    "    # Iterate and train.\n",
    "    for step in range(num_of_epochs * train_size // number_of_samples_per_training_step):\n",
    "    \n",
    "        offset = (step * number_of_samples_per_training_step) % train_size\n",
    "\n",
    "        # get a batch of data\n",
    "        batch_data = train_data[offset:(offset + \n",
    "                                        number_of_samples_per_training_step), :]\n",
    "        batch_labels = train_labels[offset:(offset + number_of_samples_per_training_step)]\n",
    "        \n",
    "        # feed data into the model\n",
    "        train_step.run(feed_dict={x: batch_data, y_: batch_labels})\n",
    "\n",
    "    print('\\nBias vector: ', sess.run(b))\n",
    "    print('Weight matrix:\\n', sess.run(Weights))\n",
    "\n",
    "    print(\"\\nApplying model to first data set:\")\n",
    "    first = test_data[:1]\n",
    "    print(first)\n",
    "    print(\"\\nWx + b: \", sess.run(tf.matmul(first, Weights) + b))\n",
    "    # the softmax function, or normalized exponential function, is a generalization of the \n",
    "    # logistic function that \"squashes\" a K-dimensional vector z of arbitrary real values \n",
    "    # to a K-dimensional vector σ(z) of real values in the range [0, 1] that add up to 1. \n",
    "    print(\"softmax(Wx + b): \", sess.run(tf.nn.softmax(tf.matmul(first, Weights) + b)))\n",
    "\n",
    "    print(\"Accuracy on test data: \", accuracy.eval(feed_dict={x: test_data, y_: test_labels}))\n",
    "    print(\"Accuracy on training data: \", accuracy.eval(feed_dict={x: train_data, y_: train_labels}))\n",
    "    \n",
    "    # classify some values:\n",
    "    print(evaluation_func([[-3, 7.3], [-1,8], [0, 0], [1, 0.0], [-1, 0]]))    \n",
    "        \n",
    "    plot_boundary(test_data, test_labels, evaluation_func)\n",
    "    \n",
    "\n"
   ]
  },
  {
   "cell_type": "code",
   "execution_count": null,
   "metadata": {
    "collapsed": true
   },
   "outputs": [],
   "source": []
  },
  {
   "cell_type": "code",
   "execution_count": null,
   "metadata": {
    "collapsed": true
   },
   "outputs": [],
   "source": []
  }
 ],
 "metadata": {
  "kernelspec": {
   "display_name": "Python 3",
   "language": "python",
   "name": "python3"
  },
  "language_info": {
   "codemirror_mode": {
    "name": "ipython",
    "version": 3
   },
   "file_extension": ".py",
   "mimetype": "text/x-python",
   "name": "python",
   "nbconvert_exporter": "python",
   "pygments_lexer": "ipython3",
   "version": "3.7.3"
  }
 },
 "nbformat": 4,
 "nbformat_minor": 2
}
