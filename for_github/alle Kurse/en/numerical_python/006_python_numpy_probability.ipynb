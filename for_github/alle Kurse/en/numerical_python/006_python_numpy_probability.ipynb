{
 "cells": [
  {
   "cell_type": "markdown",
   "metadata": {},
   "source": [
    "## Python, Random Numbers and Probability\n",
    "\n",
    "<br>\n",
    "\n",
    "### Introduction"
   ]
  },
  {
   "cell_type": "markdown",
   "metadata": {},
   "source": [
    "<img class=\"imgright\" width=\"40%\" src=\"../images/dice.webp\" srcset=\"../images/dice_400w.webp 400w,../images/dice_350w.webp 350w,../images/dice_300w.webp 300w\" alt=\"dice\" />\n",
    "\n",
    "*\"Every American should have above average income, and my Administration is going to see they get it.\"* \n",
    "\n",
    "This saying is attributed to Bill Clinton on umpteen websites. Usually, there is no context given, so it is not clear, if he might have meant it as a \"joke\". Whatever his intentions might have been, we quoted him to show a \"real\" life example of statistics. Statistics and probability calculation is all around us in real-life situations. We have to cope with it whenever we have to make a decision from various options. Can we go for a hike in the afternoon or will it rain? The weather forecast tells us, that the probability of precipitation will be 30 %. So what now? Will we go for a hike? \n",
    "<br>\n",
    "Another situation: Every week you play the lottery and dream of a far away island. What is the likelihood of winning the Jackpot so that you will never have to work again and live in \"paradise\"? Now imagine that you right on this island of your dreams. Most probably not because you won the jackpot, but rather because you booked your time as an all-inclusive holiday package. You are on holiday on a paradisal island far from home. Suddenly, you meet your neighbor, spoiling in a jiffy all dreams. Against all odds? \n",
    "<br>\n",
    "Uncertainty is all araound us, yet only few people understand the basics of probability theory. \n",
    "<br><br>\n",
    "The programming language Python and even the numerical modules Numpy and Scipy will not help us in understanding the everyday problems mentioned above, but Python and Numpy provide us with powerful functionalities to calculate problems from statistics and probability theory.  \n",
    "\n",
    "<br><br>\n",
    "\n",
    "### Random Numbers with Python\n",
    "\n",
    "\n",
    "\n",
    "#### The random and the \"secrets\" Modules\n",
    "\n",
    "There is an explicit warning in the documentation of the random module: \n",
    "<br><br>\n",
    "\n",
    "<p style=\"color: green; background-color: #ffff42\">\n",
    "Warning:\n",
    "<br>\n",
    "Note that the pseudo-random generators in the random module should NOT be used for security purposes. Use secrets on Python 3.6+ and os.urandom() on Python 3.5 and earlier.\n",
    "</p>\n",
    "The default pseudo-random number generator of the random module was designed with the focus on modelling and simulation, not on security. \n",
    "So, you shouldn't generate sensitive information such as passwords, secure tokens, session keys and similar things by using random. When we say that you shouldn't use the random module, we mean the basic functionalities \"randint\", \"random\", \"choise\" , and the likes. There is one exception as you will learn in the next paragraph: SystemRandom\n",
    "\n",
    "The SystemRandom class offers a suitable way to overcome this security problem. The methods of this class use an alternate random number generator, which uses tools provided by the operating system (such as /dev/urandom on Unix or CryptGenRandom on Windows.\n",
    "\n",
    "As there has been great concern that Python developers might inadvertently make serious security errors, - even though the warning is included in the documentaiton, - Python 3.6 comes with a new module \"secrets\" with a CSPRNG (Cryptographically Strong Pseudo Random Number Generator). \n",
    " \n",
    "\n",
    "Let's start with creating random float numbers with the random function of the random module. Please remember that it shouldn't be used to generate sensitive information:"
   ]
  },
  {
   "cell_type": "code",
   "execution_count": 1,
   "metadata": {},
   "outputs": [
    {
     "name": "stdout",
     "output_type": "stream",
     "text": [
      "0.34330263184538523\n"
     ]
    }
   ],
   "source": [
    "import random\n",
    "random_number = random.random()\n",
    "print(random_number)"
   ]
  },
  {
   "cell_type": "markdown",
   "metadata": {},
   "source": [
    "We will show an alternative and secure approach in the following example, in which we will use the class SystemRandom of the random module. It will use a different random number generator. It uses sources which are provided by the operating system. This will be /dev/urandom on Unix and CryptGenRandom on windows. The random method of the SystemRandom class generates a float number in the range from 0.0 (included) to 1.0 (not included):"
   ]
  },
  {
   "cell_type": "code",
   "execution_count": 2,
   "metadata": {},
   "outputs": [
    {
     "name": "stdout",
     "output_type": "stream",
     "text": [
      "0.8875057137654113\n"
     ]
    }
   ],
   "source": [
    "from random import SystemRandom\n",
    "crypto = SystemRandom()\n",
    "print(crypto.random())"
   ]
  },
  {
   "cell_type": "markdown",
   "metadata": {},
   "source": [
    "#### Generate a list of Random Numbers\n",
    "\n",
    "Quite often you will need more than one random number. We can create a list of random numbers by repeatedly calling random().\n"
   ]
  },
  {
   "cell_type": "code",
   "execution_count": 3,
   "metadata": {},
   "outputs": [
    {
     "name": "stdout",
     "output_type": "stream",
     "text": [
      "[0.9702685982962019, 0.5095131905323179, 0.9324278634720967, 0.9750405405778308, 0.9750927470224396, 0.2383439553695087, 0.03591694433088444, 0.9203791901577599, 0.07793301506800698, 0.46915245764066404]\n"
     ]
    }
   ],
   "source": [
    "import random\n",
    "\n",
    "def random_list(n, secure=True):\n",
    "    random_floats = []\n",
    "    if secure:\n",
    "        crypto = random.SystemRandom()\n",
    "        random_float = crypto.random\n",
    "    else:\n",
    "        random_float = random.random\n",
    "    for _ in range(n):\n",
    "        random_floats.append(random_float())\n",
    "    return random_floats\n",
    "\n",
    "print(random_list(10, secure=False))"
   ]
  },
  {
   "cell_type": "markdown",
   "metadata": {},
   "source": [
    "The \"simple\" random function of the random module is a lot faster as we can see in the following:"
   ]
  },
  {
   "cell_type": "code",
   "execution_count": 4,
   "metadata": {},
   "outputs": [
    {
     "name": "stdout",
     "output_type": "stream",
     "text": [
      "10000 loops, best of 3: 158 µs per loop\n"
     ]
    }
   ],
   "source": [
    "%%timeit\n",
    "random_list(100)"
   ]
  },
  {
   "cell_type": "code",
   "execution_count": 5,
   "metadata": {},
   "outputs": [
    {
     "name": "stdout",
     "output_type": "stream",
     "text": [
      "100000 loops, best of 3: 8.64 µs per loop\n"
     ]
    }
   ],
   "source": [
    "%%timeit\n",
    "random_list(100, secure=False)"
   ]
  },
  {
   "cell_type": "code",
   "execution_count": 6,
   "metadata": {},
   "outputs": [
    {
     "data": {
      "text/plain": [
       "[0.5832874631978111,\n",
       " 0.7494815897496974,\n",
       " 0.6982338101218046,\n",
       " 0.5164288598133177,\n",
       " 0.15423895558995826,\n",
       " 0.9447842390510461,\n",
       " 0.08095707071826808,\n",
       " 0.5407159221282145,\n",
       " 0.6124979567571185,\n",
       " 0.15764744205801628]"
      ]
     },
     "execution_count": 6,
     "metadata": {},
     "output_type": "execute_result"
    }
   ],
   "source": [
    "crypto = random.SystemRandom()\n",
    "[crypto.random() for _ in range(10)]"
   ]
  },
  {
   "cell_type": "markdown",
   "metadata": {},
   "source": [
    "Alternatively, you can use a list comprehension to create a list of random float numbers:"
   ]
  },
  {
   "cell_type": "code",
   "execution_count": 7,
   "metadata": {},
   "outputs": [
    {
     "name": "stdout",
     "output_type": "stream",
     "text": [
      "10000 loops, best of 3: 157 µs per loop\n"
     ]
    }
   ],
   "source": [
    "%%timeit\n",
    "[crypto.random() for _ in range(100)]"
   ]
  },
  {
   "cell_type": "markdown",
   "metadata": {},
   "source": [
    "The fastest and most efficient way will be using the random package of the numpy module:"
   ]
  },
  {
   "cell_type": "code",
   "execution_count": 8,
   "metadata": {},
   "outputs": [
    {
     "data": {
      "text/plain": [
       "array([ 0.0422172 ,  0.98285327,  0.40386413,  0.34629582,  0.25666744,\n",
       "        0.69242112,  0.9231164 ,  0.47445382,  0.63654389,  0.06781786])"
      ]
     },
     "execution_count": 8,
     "metadata": {},
     "output_type": "execute_result"
    }
   ],
   "source": [
    "import numpy as np\n",
    "\n",
    "np.random.random(10)"
   ]
  },
  {
   "cell_type": "code",
   "execution_count": 9,
   "metadata": {},
   "outputs": [
    {
     "name": "stdout",
     "output_type": "stream",
     "text": [
      "The slowest run took 16.56 times longer than the fastest. This could mean that an intermediate result is being cached.\n",
      "100000 loops, best of 3: 2.1 µs per loop\n"
     ]
    }
   ],
   "source": [
    "%%timeit\n",
    "np.random.random(100)"
   ]
  },
  {
   "cell_type": "markdown",
   "metadata": {},
   "source": [
    "<br>\n",
    "<p style=\"color: green; background-color: #ffff42\">\n",
    "\n",
    "Warning:\n",
    "<br>\n",
    "The random package of the Numpy module apparantly - even though it doesn't say so in the documentation - is completely deterministic, using also the Mersenne twister sequence!\n",
    "</p>"
   ]
  },
  {
   "cell_type": "markdown",
   "metadata": {},
   "source": [
    "<br><br>\n",
    "\n",
    "#### Random Numbers Satisfying sum-to-one Condition\n",
    "\n",
    "It's very easy to create a list of random numbers satisfying the condition that they sum up to one. This way, we turn them into values, which could be used as probalities. We can use any of the methods explained above to normalize a list of random values. All we have to do is divide every value by the sum of the values. The easiest way will be using numpy again of course: "
   ]
  },
  {
   "cell_type": "code",
   "execution_count": 10,
   "metadata": {},
   "outputs": [
    {
     "name": "stdout",
     "output_type": "stream",
     "text": [
      "52.3509839137\n",
      "1.0\n"
     ]
    }
   ],
   "source": [
    "import numpy as np\n",
    "\n",
    "list_of_random_floats = np.random.random(100)\n",
    "sum_of_values = list_of_random_floats.sum()\n",
    "print(sum_of_values)\n",
    "normalized_values = list_of_random_floats / sum_of_values\n",
    "print(normalized_values.sum())"
   ]
  },
  {
   "cell_type": "markdown",
   "metadata": {},
   "source": [
    "<br><br>\n",
    "\n",
    "#### Generating Random Strings or Passwords with Python\n",
    "\n",
    "We assume that you don't use and don't like weak passwords like \"123456\", \"password\", \"qwerty\" and the likes. Believe it or not, these passwords are always ranking to 10. So you looking for a safe password? You want to create passwords with Python? But don't use some of the functions ranking top 10 in the search results, because you may use a functions using the random function of the random module.\n",
    "\n",
    "We will define a strong random password generator, which uses the SystemRandom class. This class uses, as we have alreay mentioned, a cryptographically strong pseudo random number generator:"
   ]
  },
  {
   "cell_type": "code",
   "execution_count": 11,
   "metadata": {},
   "outputs": [
    {
     "name": "stdout",
     "output_type": "stream",
     "text": [
      "Automatically generated password by Python: ll6Zki280gfUqMD\n"
     ]
    }
   ],
   "source": [
    "from random import SystemRandom\n",
    "sr = SystemRandom() # create an instance of the SystemRandom class\n",
    "    \n",
    "\n",
    "def generate_password(length, \n",
    "                      valid_chars=None):\n",
    "    \"\"\" generate_password(length, check_char) -> password\n",
    "        length: the length of the created password\n",
    "        check_char: a Boolean function used to check the validity of a char\n",
    "    \"\"\"\n",
    "    if valid_chars==None:\n",
    "        valid_chars = \"ABCDEFGHIJKLMNOPQRSTUVWXYZ\"\n",
    "        valid_chars += valid_chars.lower() + \"0123456789\"\n",
    "    \n",
    "    password = \"\"\n",
    "    counter = 0\n",
    "    while counter < length:\n",
    "        rnum = sr.randint(0, 128)\n",
    "        char = chr(rnum)\n",
    "        if char in valid_chars:\n",
    "            password += chr(rnum)\n",
    "            counter += 1\n",
    "    return password\n",
    "\n",
    "print(\"Automatically generated password by Python: \" + generate_password(15))"
   ]
  },
  {
   "cell_type": "markdown",
   "metadata": {},
   "source": [
    "<br><br>\n",
    "\n",
    "#### Random Integer Numbers\n",
    "\n",
    "Everybody is familar with creating random integer numbers without computers. If you roll a die, you create a random number between 1 and 6. In terms of probability theory, we would call \"the rolling of the die\" an experiment with a result from the set of possible outcomes {1, 2, 3, 4, 5, 6}. It is also called the sample space of the experiment. \n",
    "\n",
    "How can we simulate the rolling of a die in Python? We don't need Numpy for this aim. \"Pure\" Python and its random module is enough."
   ]
  },
  {
   "cell_type": "code",
   "execution_count": 12,
   "metadata": {},
   "outputs": [
    {
     "name": "stdout",
     "output_type": "stream",
     "text": [
      "4\n"
     ]
    }
   ],
   "source": [
    "import random\n",
    "\n",
    "outcome = random.randint(1,6)\n",
    "print(outcome)"
   ]
  },
  {
   "cell_type": "markdown",
   "metadata": {},
   "source": [
    "Let's roll our virtual die 10 times:"
   ]
  },
  {
   "cell_type": "code",
   "execution_count": 13,
   "metadata": {},
   "outputs": [
    {
     "data": {
      "text/plain": [
       "[2, 1, 5, 5, 6, 5, 4, 4, 1, 1]"
      ]
     },
     "execution_count": 13,
     "metadata": {},
     "output_type": "execute_result"
    }
   ],
   "source": [
    "import random\n",
    "\n",
    "[ random.randint(1, 6) for _ in range(10) ]"
   ]
  },
  {
   "cell_type": "markdown",
   "metadata": {},
   "source": [
    "We can accomplish this easier with the NumPy package random:"
   ]
  },
  {
   "cell_type": "code",
   "execution_count": 14,
   "metadata": {},
   "outputs": [
    {
     "name": "stdout",
     "output_type": "stream",
     "text": [
      "[6 6 6 1 3 6 2 5 3 3]\n"
     ]
    }
   ],
   "source": [
    "import numpy as np\n",
    "\n",
    "outcome = np.random.randint(1, 7, size=10)\n",
    "print(outcome)"
   ]
  },
  {
   "cell_type": "markdown",
   "metadata": {},
   "source": [
    "You may have noticed, that we used 7 instead of 6 as the second parameter. randint from numpy.random uses a \"half-open\" interval unlike randint from the Python random module, which uses a closed interval!\n",
    "\n",
    "The formal definition:\n",
    "\n",
    "numpy.random.randint(low, high=None, size=None)\n",
    "\n",
    "This function returns random integers from 'low' (inclusive) to 'high' (exclusive). In other words: randint returns random integers from the \"discrete uniform\" distribution in the \"half-open\" interval ['low', 'high'). If 'high' is None or not given in the call, the  results will range from [0, 'low'). The parameter 'size' defines the shape of the output. If 'size' is None, a single int will be the output. Otherwise the result will be an array. The parameter 'size' defines the shape of this array. So size should be a tuple. If size is defined as an integer n, this is considered to be the tuple (n,).\n",
    "\n",
    "\n",
    "The following examples will clarify the behavior of the parameters:\n",
    "\n"
   ]
  },
  {
   "cell_type": "code",
   "execution_count": 15,
   "metadata": {},
   "outputs": [
    {
     "name": "stdout",
     "output_type": "stream",
     "text": [
      "5\n",
      "[3]\n",
      "[1 4 3 5 5 1 5 4 5 6]\n",
      "[2 1 4 3 2 1 6 5 3 3]\n",
      "[[4 1 3 1]\n",
      " [6 4 5 6]\n",
      " [2 5 5 1]\n",
      " [4 3 2 3]\n",
      " [6 2 6 5]]\n"
     ]
    }
   ],
   "source": [
    "import numpy as np\n",
    "\n",
    "print(np.random.randint(1, 7))\n",
    "print(np.random.randint(1, 7, size=1))\n",
    "print(np.random.randint(1, 7, size=10))\n",
    "print(np.random.randint(1, 7, size=(10,))) # the same as the previous one\n",
    "print(np.random.randint(1, 7, size=(5, 4)))"
   ]
  },
  {
   "cell_type": "markdown",
   "metadata": {},
   "source": [
    "Simulating the rolling of a die is usually not a security-relevant issue, but if you want to create cryptographically strong pseudo random numbers you should use the SystemRandom class again:"
   ]
  },
  {
   "cell_type": "code",
   "execution_count": 16,
   "metadata": {},
   "outputs": [
    {
     "data": {
      "text/plain": [
       "[2, 1, 6, 4, 5, 6, 2, 5, 2, 1]"
      ]
     },
     "execution_count": 16,
     "metadata": {},
     "output_type": "execute_result"
    }
   ],
   "source": [
    "import random\n",
    "\n",
    "crypto = random.SystemRandom()\n",
    "\n",
    "[ crypto.randint(1, 6) for _ in range(10) ]"
   ]
  },
  {
   "cell_type": "markdown",
   "metadata": {},
   "source": [
    "We have learned how to simulate the rolling of a die with Python.  We assumed that our die is fair, i.e. the probability for each face is equal to 1/6. How can we simulate throwing a crooked or loaded die? The randint methods of both modules are not suitable for this purpose. We will write some functions in the following text to solve this problem.\n",
    "\n",
    "\n",
    "First we want to have a look at other useful functions of the random module.\n",
    "\n",
    "<br><br>\n",
    "\n",
    "### Random Choices with Python\n",
    "\n",
    "<br>\n",
    "\n",
    "\"Having a choice\" or \"having choices\" in real life is better than not having a choice. Even though some people might complain, if they have too much of a choice. Life means making decisions. There are simple choices like \"Do I want a boiled egg?\", \"Soft or Hard boiled?\"\n",
    "\"Do I go to the cinema, theater or museum? Other choices may have further reaching consequences like choosing the right job, study or what is the best programming language to learn. \n",
    "\n",
    "Let's do it with Python. The random module contains the right function for this purpose.This function can be used to choose a random element from a non-empty sequence.\n",
    "\n",
    "This means that we are capable of picking a random character from a string or \n",
    "a random element from a list or a tuple, as we can see in the following examples. \n",
    "You want to have a city trip within Europe and you can't decide where to go? Let Python help you:"
   ]
  },
  {
   "cell_type": "code",
   "execution_count": 3,
   "metadata": {},
   "outputs": [
    {
     "name": "stdout",
     "output_type": "stream",
     "text": [
      "Strasbourg\n"
     ]
    }
   ],
   "source": [
    "from random import choice\n",
    "\n",
    "possible_destinations = [\"Berlin\", \"Hamburg\", \"Munich\", \n",
    "                         \"Amsterdam\", \"London\", \"Paris\", \n",
    "                         \"Zurich\", \"Heidelberg\", \"Strasbourg\", \n",
    "                         \"Augsburg\", \"Milan\", \"Rome\"]\n",
    "\n",
    "print(choice(possible_destinations))"
   ]
  },
  {
   "cell_type": "markdown",
   "metadata": {},
   "source": [
    "The choice function of the random package of the numpy module is more convenient, because it provides further possibilities. The default call, i.e. no further parameters are used, behaves like choice of the random module: "
   ]
  },
  {
   "cell_type": "code",
   "execution_count": 6,
   "metadata": {},
   "outputs": [
    {
     "name": "stdout",
     "output_type": "stream",
     "text": [
      "Augsburg\n"
     ]
    }
   ],
   "source": [
    "from numpy.random import choice\n",
    "\n",
    "print(choice(possible_destinations))"
   ]
  },
  {
   "cell_type": "markdown",
   "metadata": {},
   "source": [
    "With the help of the parameter \"size\" we can create a numpy.ndarray with choice values:"
   ]
  },
  {
   "cell_type": "code",
   "execution_count": 16,
   "metadata": {},
   "outputs": [
    {
     "name": "stdout",
     "output_type": "stream",
     "text": [
      "['London' 'Augsburg' 'London']\n",
      "[['Strasbourg' 'London' 'Rome' 'Berlin']\n",
      " ['Berlin' 'Paris' 'Munich' 'Augsburg']\n",
      " ['Heidelberg' 'Paris' 'Berlin' 'Rome']]\n"
     ]
    }
   ],
   "source": [
    "x1 = choice(possible_destinations, size=3)\n",
    "print(x1)\n",
    "x2 = choice(possible_destinations, size=(3, 4))\n",
    "print(x2)"
   ]
  },
  {
   "cell_type": "markdown",
   "metadata": {},
   "source": [
    "You might have noticed that the city names can have multiple occurrences. We can prevent this by setting the optional parameter \"replace\" to \"False\":"
   ]
  },
  {
   "cell_type": "code",
   "execution_count": 17,
   "metadata": {},
   "outputs": [
    {
     "name": "stdout",
     "output_type": "stream",
     "text": [
      "[['Heidelberg' 'London' 'Milan' 'Munich']\n",
      " ['Hamburg' 'Augsburg' 'Paris' 'Rome']\n",
      " ['Berlin' 'Strasbourg' 'Zurich' 'Amsterdam']]\n"
     ]
    }
   ],
   "source": [
    "print(choice(possible_destinations, size=(3, 4), replace=False))"
   ]
  },
  {
   "cell_type": "markdown",
   "metadata": {},
   "source": [
    "Setting the \"size\" parameter to a non None value, leads us to the sample function."
   ]
  },
  {
   "cell_type": "markdown",
   "metadata": {},
   "source": [
    "<br><br>\n",
    "\n",
    "### Random Samples with Python\n",
    "\n",
    "<br>\n",
    "\n",
    "A sample can be understood as a representative part from a larger group, usually called a \"population\". \n",
    "\n",
    "The module numpy.random contains a function random_sample, which returns random floats in the half open interval [0.0, 1.0). The results are from the \"continuous uniform\" distribution over the stated interval. This function takes just one parameter \"size\", which defines the output shape. If we set size to (3, 4) e.g., we will get an array with the shape (3, 4) filled with random elements:"
   ]
  },
  {
   "cell_type": "code",
   "execution_count": 18,
   "metadata": {},
   "outputs": [
    {
     "name": "stdout",
     "output_type": "stream",
     "text": [
      "[[ 0.99824096  0.30837203  0.85396161  0.84814744]\n",
      " [ 0.45516418  0.64925709  0.19576679  0.8124502 ]\n",
      " [ 0.45498107  0.20100427  0.42826199  0.57355053]]\n"
     ]
    }
   ],
   "source": [
    "import numpy as np\n",
    "\n",
    "x = np.random.random_sample((3, 4))\n",
    "print(x)"
   ]
  },
  {
   "cell_type": "markdown",
   "metadata": {},
   "source": [
    "If we call random_sample with an integer, we get a one-dimensional array. An integer has the same effect as if we use a one-tuple as an argument: "
   ]
  },
  {
   "cell_type": "code",
   "execution_count": 19,
   "metadata": {},
   "outputs": [
    {
     "name": "stdout",
     "output_type": "stream",
     "text": [
      "[ 0.07729483  0.07947532  0.27405822  0.34425005  0.2968612   0.27234156\n",
      "  0.41580785]\n",
      "[ 0.19791769  0.64537929  0.02809775  0.2947372   0.5873195   0.55059448\n",
      "  0.98943354]\n"
     ]
    }
   ],
   "source": [
    "x = np.random.random_sample(7)\n",
    "print(x)\n",
    "\n",
    "y = np.random.random_sample((7,))\n",
    "print(y)"
   ]
  },
  {
   "cell_type": "markdown",
   "metadata": {},
   "source": [
    "You can also generate arrays with values from an arbitrary interval [a, b), where a has to be less than b. It can be done like this:\n",
    "\n",
    "<code>(b - a) * random_sample() + a</code>\n",
    "\n",
    "Example:"
   ]
  },
  {
   "cell_type": "code",
   "execution_count": 20,
   "metadata": {},
   "outputs": [
    {
     "name": "stdout",
     "output_type": "stream",
     "text": [
      "[[ 5.87026891 -0.13166798  5.56074144  3.48789786]\n",
      " [-2.2764547   4.84050253  0.71734827 -0.7357672 ]\n",
      " [ 5.8468095   4.56323308  0.05313938 -1.99266987]]\n"
     ]
    }
   ],
   "source": [
    "a = -3.4\n",
    "b = 5.9\n",
    "\n",
    "A = (b - a) * np.random.random_sample((3, 4)) + a\n",
    "\n",
    "print(A)"
   ]
  },
  {
   "cell_type": "markdown",
   "metadata": {},
   "source": [
    "The standard module random of Python has a more general function \"sample\", which produces samples from a population.  The population can be a sequence or a set. \n",
    "\n",
    "The syntax of sample:\n",
    "\n",
    "<code>sample(population, k)</code>\n",
    "\n",
    "The function creates a list, which contains \"k\" elements from the \"population\".\n",
    "The result list contains no multiple occurrences, if the the population contains no multiple occurrences. \n",
    "\n",
    "If you want to choose a sample within a range of integers, you can - or better you should - use range as the argument for the population. \n",
    "\n",
    "In the following example we produce six numbers out of the range from 1 to 49 (inclusive). This corresponds to a drawing of the German lottery:"
   ]
  },
  {
   "cell_type": "code",
   "execution_count": 21,
   "metadata": {},
   "outputs": [
    {
     "name": "stdout",
     "output_type": "stream",
     "text": [
      "[27, 36, 29, 7, 18, 45]\n"
     ]
    }
   ],
   "source": [
    "import random\n",
    "\n",
    "print(random.sample(range(1, 50), 6))"
   ]
  },
  {
   "cell_type": "markdown",
   "metadata": {},
   "source": [
    "<br><br>\n",
    "\n",
    "### True Random Numbers\n",
    "\n",
    "Have you ever played a game of dice and asked yourself, if something is wrong with the die? You rolled the die for so many times and you still haven't got a certain value like 6 for example. \n",
    "\n",
    "You may also have asked yourself, if the random modules of Python can create \"real\" or \"true\" random numbers, which are e.g. equivalent to an ideal die. The truth is that most random numbers used in computer programs are pseudo-random. The numbers are generated in a predictable way, because the algorithm is deterministic. Pseudo-random numbers are good enough for many purposes, but it may not be \"true\" random rolling dice or lottery drawings.\n",
    "\n",
    "The website [RANDOM.ORG](http://www.random.org) claims to offer true random numbers. They use the randomness which comes from atmospheric noise. The numbers created this way are for many purposes better than the pseudo-random number algorithms typically used in computer programs.\n",
    "\n",
    "<br><br>"
   ]
  }
 ],
 "metadata": {
  "anaconda-cloud": {},
  "kernelspec": {
   "display_name": "Python 3",
   "language": "python",
   "name": "python3"
  },
  "language_info": {
   "codemirror_mode": {
    "name": "ipython",
    "version": 3
   },
   "file_extension": ".py",
   "mimetype": "text/x-python",
   "name": "python",
   "nbconvert_exporter": "python",
   "pygments_lexer": "ipython3",
   "version": "3.7.1"
  },
  "toc": {
   "base_numbering": 1,
   "nav_menu": {},
   "number_sections": true,
   "sideBar": true,
   "skip_h1_title": false,
   "title_cell": "Table of Contents",
   "title_sidebar": "Contents",
   "toc_cell": false,
   "toc_position": {},
   "toc_section_display": true,
   "toc_window_display": false
  }
 },
 "nbformat": 4,
 "nbformat_minor": 2
}
