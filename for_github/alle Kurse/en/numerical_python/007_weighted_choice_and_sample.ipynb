{
 "cells": [
  {
   "cell_type": "markdown",
   "metadata": {},
   "source": [
    "## Weighted Probabilities\n",
    "\n",
    "<br>\n",
    "\n",
    "### Introduction"
   ]
  },
  {
   "cell_type": "raw",
   "metadata": {},
   "source": [
    "<img width=\"40%\" class=\"imgright\" src=\"../images/scales_2.webp\" srcset=\"../images/scales_2_350w.webp 350w,../images/scales_2_300w.webp 300w\" alt=\"scales\" />\n",
    "\n",
    "In the previous chapter of our tutorial, we introduced the random module. We got to know the functions 'choice' and 'sample'. We used \n",
    "'choice' to choose a random element from a non-empty sequence and 'sample' to chooses k unique random elements from a population sequence or set. The probality for all elements is evenly distributed, i.e. each element has of the sequences or sets have the same probability to be chosen.\n",
    "\n",
    "This is exactly what we want, if we simulate the rolling of dice. But what about loaded dice? Loaded dice are designed to favor some results over others for whatever reasons. \n",
    "\n",
    "In our previous chapter we had a look at the following examples:"
   ]
  },
  {
   "cell_type": "code",
   "execution_count": 3,
   "metadata": {},
   "outputs": [
    {
     "name": "stdout",
     "output_type": "stream",
     "text": [
      "c\n",
      "philosopher\n",
      "advanced\n",
      "The dice shows: 4\n",
      "The two dice show: [6, 1]\n"
     ]
    }
   ],
   "source": [
    "from random import choice, sample\n",
    "\n",
    "print(choice(\"abcdefghij\"))\n",
    "\n",
    "professions = [\"scientist\", \"philosopher\", \"engineer\", \"priest\"]\n",
    "print(choice(professions))\n",
    "\n",
    "print(choice((\"beginner\", \"intermediate\", \"advanced\")))\n",
    "\n",
    "# rolling one die\n",
    "x = choice(range(1, 7))\n",
    "print(\"The dice shows: \" + str(x))\n",
    "\n",
    "# rolling two dice:\n",
    "dice = sample(range(1, 7), 2)\n",
    "print(\"The two dice show: \" + str(dice))"
   ]
  },
  {
   "cell_type": "markdown",
   "metadata": {},
   "source": [
    "Like we said before, the chances for the elements of the sequence to be chosen are evenly distributed. So the chances for getting a 'scientist' as a return value of the call choice(professions) is 1/4. This is out of touch with reality. There are surely more scientists and engineers in the world than there are priests and philosophers. Just like with the loaded die, we have again the need of a weighted choice.\n",
    "\n",
    "We will devise a function \"weighted_choice\", which returns a random element from a sequence like random.choice, but the elements of the sequence will be weighted. \n",
    "\n",
    "<br><br>\n",
    "\n"
   ]
  },
  {
   "cell_type": "markdown",
   "metadata": {},
   "source": [
    "<br><br>\n",
    "\n",
    "### Weighted Random Choices"
   ]
  },
  {
   "cell_type": "markdown",
   "metadata": {},
   "source": [
    "We will define now the weighted choice function. Let's assume that we have three weights, e.g. 1/5, 1/2, 3/10. We can build the cumulative sum of the weights with np.cumsum(weights)."
   ]
  },
  {
   "cell_type": "code",
   "execution_count": 8,
   "metadata": {},
   "outputs": [
    {
     "name": "stdout",
     "output_type": "stream",
     "text": [
      "[0, 0.20000000000000001, 0.69999999999999996, 1.0]\n"
     ]
    }
   ],
   "source": [
    "import numpy as np\n",
    "\n",
    "weights = [0.2, 0.5, 0.3]\n",
    "cum_weights = [0] + list(np.cumsum(weights))\n",
    "print(cum_weights)"
   ]
  },
  {
   "cell_type": "markdown",
   "metadata": {},
   "source": [
    "If we create a random number x between 0 and 1 by using random.random(), the probability for x to lie within the interval [0, cum_weights[0]) is equal to 1/5. The  probability for x to lie within the interval [cum_weights[0], cum_weights[1]) is equal to 1/2 and finally, the probability for x to lie within the interval [cum_weights[1], cum_weights[2]) is 3/10.\n",
    "\n",
    "Now you are able to understand the basic idea of how weighted_choice operates:"
   ]
  },
  {
   "cell_type": "code",
   "execution_count": 4,
   "metadata": {},
   "outputs": [],
   "source": [
    "import numpy as np\n",
    "\n",
    "import random\n",
    "from random import random \n",
    "\n",
    "def weighted_choice(objects, weights):\n",
    "    \"\"\" returns randomly an element from the sequence of 'objects', \n",
    "        the likelihood of the objects is weighted according \n",
    "        to the sequence of 'weights', i.e. percentages.\"\"\"\n",
    "\n",
    "    weights = np.array(weights, dtype=np.float64)\n",
    "    sum_of_weights = weights.sum()\n",
    "    # standardization:\n",
    "    np.multiply(weights, 1 / sum_of_weights, weights)\n",
    "    weights = weights.cumsum()\n",
    "    x = random()\n",
    "    for i in range(len(weights)):\n",
    "        if x < weights[i]:\n",
    "            return objects[i]\n",
    "\n"
   ]
  },
  {
   "cell_type": "markdown",
   "metadata": {},
   "source": [
    "Example:\n",
    "\n",
    "We can use the function weighted_choice for the following task:\n",
    "<br><br>\n",
    "Suppose, we have a \"loaded\" die with P(6)=3/12 and P(1)=1/12. The probability for the outcomes of all the other possibilities is equally likely, \n",
    "i.e. P(2) = P(3) = P(4) = P(5) = p.\n",
    "<br><br>\n",
    "We can calculate p with\n",
    "\n",
    "1 - P(1) - P(6) = 4 x p\n",
    "\n",
    "that means\n",
    "\n",
    "p = 1 / 6\n",
    "\n",
    "How can we simulate this die with our weighted_choice function?\n",
    "\n",
    "We call weighted_choice with 'faces_of_die' and the 'weights' list. Each call correspondents to a throw of the loaded die.\n",
    "\n",
    "We can show that if we throw the die a large number of times, for example 10,000 times, we get roughly the probability values of the weights:\n"
   ]
  },
  {
   "cell_type": "code",
   "execution_count": 6,
   "metadata": {},
   "outputs": [
    {
     "name": "stdout",
     "output_type": "stream",
     "text": [
      "[0.0832, 0.1601, 0.1614, 0.1665, 0.1694, 0.2594] 1.0\n"
     ]
    }
   ],
   "source": [
    "from collections import Counter\n",
    "\n",
    "faces_of_die = [1, 2, 3, 4, 5, 6]\n",
    "weights = [1/12, 1/6, 1/6, 1/6, 1/6, 3/12]\n",
    "\n",
    "outcomes = []\n",
    "n = 10000\n",
    "for _ in range(n):\n",
    "    outcomes.append(weighted_choice(faces_of_die, weights))\n",
    "\n",
    "c = Counter(outcomes)\n",
    "for key in c:\n",
    "    c[key] = c[key] / n\n",
    "    \n",
    "print(sorted(c.values()), sum(c.values()))\n"
   ]
  },
  {
   "cell_type": "markdown",
   "metadata": {},
   "source": [
    "We can also use list of strings with our 'weighted_choice' function.\n",
    "\n",
    "We define a list of cities and a list with their corresponding populations. The probability of a city to be chosen should be according to their size:"
   ]
  },
  {
   "cell_type": "code",
   "execution_count": 19,
   "metadata": {},
   "outputs": [
    {
     "name": "stdout",
     "output_type": "stream",
     "text": [
      "[0.14, 0.12, 0.04, 0.27, 0.08, 0.35]\n",
      "Frankfurt\n",
      "Hamburg\n",
      "Stuttgart\n",
      "Hamburg\n",
      "Hamburg\n",
      "Zürich\n",
      "München\n",
      "Stuttgart\n",
      "München\n",
      "Frankfurt\n"
     ]
    }
   ],
   "source": [
    "cities = [\"Frankfurt\", \n",
    "          \"Stuttgart\", \n",
    "          \"Freiburg\", \n",
    "          \"München\", \n",
    "          \"Zürich\",\n",
    "          \"Hamburg\"]\n",
    "populations = [736000, 628000, 228000, 1450000, 409241, 1841179]\n",
    "total = sum(populations)\n",
    "weights = [ round(pop / total, 2) for pop in populations]\n",
    "print(weights)\n",
    "for i in range(10):\n",
    "    print(weighted_choice(cities, populations))"
   ]
  },
  {
   "cell_type": "markdown",
   "metadata": {},
   "source": [
    "<br><br>\n",
    "\n",
    "### Weighted Random Choice with Numpy\n",
    "\n",
    "To produce a weighted choice of an array like object, we can also use the choice function of the numpy.random package. Actually, you should use functions from well-established module like 'NumPy' instead of reinventing the wheel by writing your own code. In addition the 'choice' function from NumPy can do even more. It generates a random sample from a given 1-D array or array like object like a list, tuple and so on. The function can be called with four parameters:\n",
    "\n",
    "```\n",
    "choice(a, size=None, replace=True, p=None)\n",
    "```\n",
    "\n",
    "| Parameter  |  Meaning |\n",
    "|------------|----------|\n",
    "|a|a 1-dimensional array-like object or an int. If it is an array-like object, the function will return a random sample from the elements. If it is an int,  it behaves as if we called it with np.arange(a)|\n",
    "|size|This is an optional parameter defining the output shape. If the given shape is, e.g., ```(m, n, k)```, then ```m * n * k``` samples are drawn. The Default is None, in which case a single value will be returned.|\n",
    "|replace|An optional boolean parameter. It is used to define whether the output sample will be with or without replacements.|\n",
    "|p|An optional 1-dimensional array-like object, which contains the probabilities associated with each entry in a. If it is not given the sample assumes a uniform distribution over all entries in a.|\n",
    "\n"
   ]
  },
  {
   "cell_type": "markdown",
   "metadata": {},
   "source": [
    "We will base our first exercise on the popularity of programming language as stated by the \"Tiobe index\"<sup>1</sup>: "
   ]
  },
  {
   "cell_type": "code",
   "execution_count": 20,
   "metadata": {},
   "outputs": [
    {
     "data": {
      "text/plain": [
       "'programmer'"
      ]
     },
     "execution_count": 20,
     "metadata": {},
     "output_type": "execute_result"
    }
   ],
   "source": [
    "from numpy.random import choice\n",
    "\n",
    "professions = [\"scientist\", \n",
    "               \"philosopher\", \n",
    "               \"engineer\", \n",
    "               \"priest\", \n",
    "               \"programmer\"]\n",
    "\n",
    "probabilities = [0.2, 0.05, 0.3, 0.15, 0.3]\n",
    "\n",
    "choice(professions, p=probabilities)\n"
   ]
  },
  {
   "cell_type": "markdown",
   "metadata": {},
   "source": [
    "Let us use the function choice to create a sample from our professions. To get two professions chosen, we set the ```size```parameter to the shape ```(2, )```. In this case multiple occurances are possible. The top ten programming languages in August 2019 were:\n",
    "\n",
    "| Programming Language | Percentage in August 2019 | Change to August 2018|\n",
    "|------------|----------|---|\n",
    "|Java|16.028%|-0.85%|\n",
    "|C|15.154%|+0.19%|\n",
    "|Python|10.020%|+3.03%|\n",
    "|C++|6.057%|-1.41%|\n",
    "|C#|3.842%|+0.30%|\n",
    "|Visual|Basic|.NET|3.695%|-1.07%|\n",
    "|JavaScript|2.258%|-0.15%|\n",
    "|PHP|2.075%|-0.85%|\n",
    "|Objective-C|1.690%|+0.33%|\n",
    "|SQL|1.625%|-0.69%|\n",
    "|Ruby|1.316%|+0.13%|\n"
   ]
  },
  {
   "cell_type": "code",
   "execution_count": 33,
   "metadata": {},
   "outputs": [
    {
     "name": "stdout",
     "output_type": "stream",
     "text": [
      "[0.33826638 0.32135307 0.21141649 0.12896406]\n",
      "Java\n",
      "C++\n",
      "Python\n",
      "Python\n",
      "C\n",
      "C++\n",
      "C\n",
      "C\n",
      "Python\n",
      "C\n"
     ]
    }
   ],
   "source": [
    "programming_languages = [\"Java\", \"C\", \"Python\", \"C++\"]\n",
    "weights = np.array([16, 15.2, 10, 6.1])\n",
    "\n",
    "# normalization\n",
    "weights /= sum(weights) \n",
    "print(weights)\n",
    "\n",
    "for i in range(10):\n",
    "    print(choice(programming_languages, p=weights))"
   ]
  },
  {
   "cell_type": "markdown",
   "metadata": {},
   "source": [
    "<br><br>\n",
    "\n",
    "### Weighted Sample\n",
    "\n",
    "In the previous chapter on random numbers and probability, we introduced the function 'sample' of the module 'random' to randomly extract a population or sample from a group of objects liks lists or tuples. Every object had the same likelikhood to be drawn, i.e. to be part of the sample. \n",
    "\n",
    "In real life situation there will be of course situation in which every or some objects will have different probabilities. We will start again by defining a function on our own. This function will use the previously defined 'weighted_choice' function. "
   ]
  },
  {
   "cell_type": "code",
   "execution_count": 41,
   "metadata": {},
   "outputs": [],
   "source": [
    "def weighted_sample(population, weights, k):\n",
    "    \"\"\" \n",
    "    This function draws a random sample (without repeats) \n",
    "    of length k     from the sequence 'population' according \n",
    "    to the list of weights\n",
    "    \"\"\"\n",
    "    sample = set()\n",
    "    population = list(population)\n",
    "    weights = list(weights)\n",
    "    while len(sample) < k:\n",
    "        choice = weighted_choice(population, weights)\n",
    "        sample.add(choice)\n",
    "        index = population.index(choice)\n",
    "        weights.pop(index)\n",
    "        population.remove(choice)\n",
    "        weights = [ x / sum(weights) for x in weights]\n",
    "    return list(sample)\n"
   ]
  },
  {
   "cell_type": "markdown",
   "metadata": {},
   "source": [
    "Example using the sample function:\n",
    "\n",
    "Let's assume we have eight candies, coloured \"red\", \"green\", \"blue\", \"yellow\", \"black\", \"white\", \"pink\", and \"orange\". Our friend Peter will have the \"weighted\" preference 1/24, 1/6, 1/6, 1/12, 1/12, 1/24, 1/8, 7/24 for thes colours. He is allowed to take 3 candies:"
   ]
  },
  {
   "cell_type": "code",
   "execution_count": 42,
   "metadata": {},
   "outputs": [
    {
     "name": "stdout",
     "output_type": "stream",
     "text": [
      "['green', 'orange', 'pink']\n",
      "['green', 'orange', 'black']\n",
      "['yellow', 'black', 'pink']\n",
      "['red', 'green', 'yellow']\n",
      "['yellow', 'black', 'pink']\n",
      "['green', 'orange', 'yellow']\n",
      "['red', 'blue', 'pink']\n",
      "['white', 'yellow', 'pink']\n",
      "['green', 'blue', 'pink']\n",
      "['orange', 'blue', 'black']\n"
     ]
    }
   ],
   "source": [
    "candies = [\"red\", \"green\", \"blue\", \"yellow\", \"black\", \"white\", \"pink\", \"orange\"]\n",
    "weights = [ 1/24, 1/6, 1/6, 1/12, 1/12, 1/24, 1/8, 7/24]\n",
    "for i in range(10):\n",
    "    print(weighted_sample(candies, weights, 3))"
   ]
  },
  {
   "cell_type": "markdown",
   "metadata": {},
   "source": [
    "Let's approximate the likelihood for an orange candy to be included in the sample:"
   ]
  },
  {
   "cell_type": "code",
   "execution_count": 46,
   "metadata": {},
   "outputs": [
    {
     "name": "stdout",
     "output_type": "stream",
     "text": [
      "0.71015\n"
     ]
    }
   ],
   "source": [
    "n = 100000\n",
    "orange_counter = 0\n",
    "for i in range(n):\n",
    "    if \"orange\" in weighted_sample(candies, weights, 3):\n",
    "        orange_counter += 1\n",
    "        \n",
    "print(orange_counter / n)"
   ]
  },
  {
   "cell_type": "markdown",
   "metadata": {},
   "source": [
    "It was completely unnecessary to write this function, because we can use the choice function of NumPy for this purpose as well. All we have to do is assign the shape '(2, )' to the optional parameter 'size'. Let us redo the previous example by substituting weighted_sampe with a call of np.random.choice:"
   ]
  },
  {
   "cell_type": "code",
   "execution_count": 59,
   "metadata": {},
   "outputs": [
    {
     "name": "stdout",
     "output_type": "stream",
     "text": [
      "0.71276\n"
     ]
    }
   ],
   "source": [
    "n = 100000\n",
    "orange_counter = 0\n",
    "for i in range(n):\n",
    "    if \"orange\" in np.random.choice(candies, \n",
    "                                    p=weights, \n",
    "                                    size=(3,),\n",
    "                                    replace=False):\n",
    "        orange_counter += 1\n",
    "        \n",
    "print(orange_counter / n)"
   ]
  },
  {
   "cell_type": "markdown",
   "metadata": {},
   "source": [
    "In addition, the function 'np.random.choice' gives us the possibility to allow repetitions, as we can see in the following example:"
   ]
  },
  {
   "cell_type": "code",
   "execution_count": 64,
   "metadata": {},
   "outputs": [
    {
     "name": "stdout",
     "output_type": "stream",
     "text": [
      "['Germany' 'Belgium' 'France']\n",
      "['Poland' 'Poland' 'Poland']\n",
      "['Germany' 'Austria' 'Poland']\n",
      "['France' 'France' 'France']\n"
     ]
    }
   ],
   "source": [
    "countries = [\"Germany\", \"Switzerland\", \n",
    "             \"Austria\", \"Netherlands\",\n",
    "             \"Belgium\", \"Poland\", \n",
    "             \"France\", \"Ireland\"]\n",
    "weights = np.array([83019200, 8555541, 8869537,\n",
    "                    17338900, 11480534, 38413000, \n",
    "                    67022000, 4857000])\n",
    "weights = weights / sum(weights)\n",
    "\n",
    "for i in range(4):\n",
    "    print(np.random.choice(countries,\n",
    "                           p=weights, \n",
    "                           size=(3,),\n",
    "                           replace=True))"
   ]
  },
  {
   "cell_type": "markdown",
   "metadata": {},
   "source": [
    "<br><br>\n",
    "\n",
    "### Cartesian Choice\n",
    "\n",
    "The function cartesian_choice is named after the Cartesian product from set theory\n",
    "\n",
    "#### Cartesian product\n",
    "\n",
    "The Cartesian product is an operation which returns a set from multiple sets. The result set from the Cartesian product is called a \"product set\" or simply the \"product\". \n",
    "\n",
    "For two sets A and B, the Cartesian product A × B is the set of all ordered pairs (a, b) where a ∈ A and b ∈ B:\n",
    "\n",
    "A x B = { (a, b) | a &isin; A and  b &isin; B }\n",
    "\n",
    "If we have n sets A<sub>1</sub>,  A<sub>2</sub>, ... A<sub>n</sub>, we can build the Cartesian product correspondingly:\n",
    "\n",
    "A<sub>1</sub> x A<sub>2</sub> x ... x A<sub>n</sub> = { (a<sub>1</sub>,  a<sub>2</sub>, ... a<sub>n</sub>) | a<sub>1</sub> &isin; A<sub>1</sub>, \n",
    "a<sub>2</sub> &isin; A<sub>2</sub>, ... a<sub>n</sub> &isin; A<sub>n</sub>]\n",
    "\n",
    "The Cartesian product of n sets is sometimes called\n",
    "an n-fold Cartesian product.\n",
    "\n",
    "\n",
    "#### Cartesian Choice: cartesian_choice\n",
    "\n",
    "We will write now a function cartesian_choice, which takes an arbitrary number of iterables as arguments and returns a list, which consists of random choices from each iterator in the respective order.\n",
    "\n",
    "Mathematically, we can see the result of the function cartesian_choice as an element\n",
    "of the Cartesian product of the iterables which have been passed as arguments.\n"
   ]
  },
  {
   "cell_type": "code",
   "execution_count": 68,
   "metadata": {},
   "outputs": [
    {
     "data": {
      "text/plain": [
       "['The', 'green', 'house', 'shines']"
      ]
     },
     "execution_count": 68,
     "metadata": {},
     "output_type": "execute_result"
    }
   ],
   "source": [
    "import numpy as np\n",
    "\n",
    "def cartesian_choice(*iterables):\n",
    "    \"\"\"\n",
    "    A list with random choices from each iterable of iterables \n",
    "    is being created in respective order.\n",
    "    \n",
    "    The result list can be seen as an element of the \n",
    "    Cartesian product of the iterables \n",
    "    \"\"\"\n",
    "    res = []\n",
    "    for population in iterables:\n",
    "        res.append(np.random.choice(population))\n",
    "    return res\n",
    "\n",
    "\n",
    "cartesian_choice([\"The\", \"A\"],\n",
    "                 [\"red\", \"green\", \"blue\", \"yellow\", \"grey\"], \n",
    "                 [\"car\", \"house\", \"fish\", \"light\"],\n",
    "                 [\"smells\", \"dreams\", \"blinks\", \"shines\"])\n"
   ]
  },
  {
   "cell_type": "markdown",
   "metadata": {},
   "source": [
    "We define now a weighted version of the previously defined function:"
   ]
  },
  {
   "cell_type": "code",
   "execution_count": 73,
   "metadata": {},
   "outputs": [
    {
     "name": "stdout",
     "output_type": "stream",
     "text": [
      "It may or may not be true:\n",
      "A grey light smells of happiness.\n",
      "The green water smells of happiness.\n",
      "A blue water smells of air.\n",
      "The green elephant dreams of happiness.\n",
      "A yellow fish smells of happiness.\n",
      "The grey elephant dreams of air.\n",
      "No grey programming language dreams of air.\n",
      "Every blue elephant smells of happiness.\n",
      "A blue light smells of air.\n",
      "The grey programming language dreams of happiness.\n"
     ]
    }
   ],
   "source": [
    "import numpy as np\n",
    "\n",
    "def weighted_cartesian_choice(*iterables):\n",
    "    \"\"\"\n",
    "    An arbitrary number of tuple or lists,\n",
    "    each consisting of population and weights.\n",
    "    weighted_cartesian_choice returns a list \n",
    "    with a chocie from each population\n",
    "    \"\"\"\n",
    "    res = []\n",
    "    for population, weights in iterables:\n",
    "        # normalize weight:\n",
    "        weights = np.array(weights) / sum(weights)\n",
    "        lst = np.random.choice(population, p=weights)\n",
    "        res.append(lst)\n",
    "    return res\n",
    "\n",
    "determiners = ([\"The\", \"A\", \"Each\", \"Every\", \"No\"], \n",
    "               [0.3, 0.3, 0.1, 0.1, 0.2])\n",
    "colours = ([\"red\", \"green\", \"blue\", \"yellow\", \"grey\"], \n",
    "           [0.1, 0.3, 0.3, 0.2, 0.2])\n",
    "nouns = ([\"water\", \"elephant\", \"fish\", \"light\", \"programming language\"], \n",
    "         [0.3, 0.2, 0.1, 0.1, 0.3])\n",
    "nouns2 = ([\"of happiness\", \"of chocolate\", \"of wisdom\", \"of challenges\", \"of air\"], \n",
    "         [0.5, 0.2, 0.1, 0.1, 0.1])\n",
    "verb_phrases = ([\"smells\", \"dreams\", \"thinks\", \"is made of\"], \n",
    "         [0.4, 0.3, 0.2, 0.1])\n",
    "\n",
    "print(\"It may or may not be true:\")\n",
    "for i in range(10):\n",
    "    res = weighted_cartesian_choice(determiners,\n",
    "                                    colours,\n",
    "                                    nouns,\n",
    "                                    verb_phrases,\n",
    "                                    nouns2)\n",
    "    print(\" \".join(res) + \".\")\n"
   ]
  },
  {
   "cell_type": "markdown",
   "metadata": {},
   "source": [
    "We check in the following version, if the \"probabilities\" are all right:"
   ]
  },
  {
   "cell_type": "code",
   "execution_count": 22,
   "metadata": {},
   "outputs": [
    {
     "name": "stdout",
     "output_type": "stream",
     "text": [
      "It may or may not be true:\n",
      "thinks 0.2015\n",
      "is made of 0.1039\n",
      "smells 0.4016\n",
      "dreams 0.293\n"
     ]
    }
   ],
   "source": [
    "import random\n",
    "\n",
    "def weighted_cartesian_choice(*iterables):\n",
    "    \"\"\"\n",
    "    A list with weighted random choices from each iterable of iterables \n",
    "    is being created in respective order\n",
    "    \"\"\"\n",
    "    res = []\n",
    "    for population, weight in iterables:\n",
    "        lst = weighted_choice(population, weight)\n",
    "        res.append(lst)\n",
    "    return res\n",
    "\n",
    "determiners = ([\"The\", \"A\", \"Each\", \"Every\", \"No\"], \n",
    "               [0.3, 0.3, 0.1, 0.1, 0.2])\n",
    "colours = ([\"red\", \"green\", \"blue\", \"yellow\", \"grey\"], \n",
    "           [0.1, 0.3, 0.3, 0.2, 0.2])\n",
    "nouns = ([\"water\", \"elephant\", \"fish\", \"light\", \"programming language\"], \n",
    "         [0.3, 0.2, 0.1, 0.1, 0.3])\n",
    "nouns2 = ([\"of happiness\", \"of chocolate\", \"of wisdom\", \"of challenges\", \"of air\"], \n",
    "         [0.5, 0.2, 0.1, 0.1, 0.1])\n",
    "verb_phrases = ([\"smells\", \"dreams\", \"thinks\", \"is made of\"], \n",
    "         [0.4, 0.3, 0.2, 0.1])\n",
    "\n",
    "print(\"It may or may not be true:\")\n",
    "sentences = []\n",
    "for i in range(10000):\n",
    "    res = weighted_cartesian_choice(determiners,\n",
    "                                    colours,\n",
    "                                    nouns,\n",
    "                                    verb_phrases,\n",
    "                                    nouns2)\n",
    "    sentences.append(\" \".join(res) + \".\")\n",
    "\n",
    "words = [\"smells\", \"dreams\", \"thinks\", \"is made of\"]\n",
    "from collections import Counter\n",
    "c = Counter()\n",
    "for sentence in sentences:\n",
    "    for word in words:\n",
    "        if word in sentence:\n",
    "            c[word] += 1\n",
    "  \n",
    "wsum = sum(c.values())\n",
    "for key in c:\n",
    "    print(key, c[key] / wsum)\n",
    "\n",
    "\n"
   ]
  },
  {
   "cell_type": "markdown",
   "metadata": {},
   "source": [
    "<br><br>\n",
    "\n",
    "### Random Seed\n",
    "\n"
   ]
  },
  {
   "cell_type": "raw",
   "metadata": {},
   "source": [
    "<img width=\"30%\" class=\"imgright\" src=\"../images/random_seed.webp\" srcset=\"../images/random_seed_350w.webp 350w,../images/random_seed_300w.webp 300w\" alt=\"Random Seed\" />"
   ]
  },
  {
   "cell_type": "markdown",
   "metadata": {},
   "source": [
    "A random seed, - also called \"seed state\", or just \"seed\" - is a number used to initialize a pseudorandom number generator. When we called random.random() we expected and got a random number between 0 and 1. random.random() calculates a new random number by using the previously produced random number. What about the first time we use random in our program? Yes, there is no previously created random number. If a random number generator is called for the first time, it will have to create a first \"random\" number.  \n",
    "\n",
    "If we seed a pseudo-random number generator, we provide a first \"previous\" value. A seed value  corresponds to a sequence of generated values for a given random number generator. If you use the same seed value again, you get and you can rely on getting the same sequence of numbers again.\n",
    "\n",
    "\n",
    "The seed number itself doesn't need to be randomly chosen so that the algorithm creates values which follow a probability distribution in a pseudorandom manner. Yet, the seed matters in terms of security. If you know the seed, you could for example generate the secret encryption key which is based on this seed.\n",
    "\n",
    "Random seeds are in many programming languages generated from the state of the computer system, which is in lots of cases the system time.\n",
    "\n",
    "This is true for Python as well. Help on random.seed says that if you call the function with None or no argument it will seed \"from current time or from an operating system specific randomness source if available.\""
   ]
  },
  {
   "cell_type": "code",
   "execution_count": 23,
   "metadata": {},
   "outputs": [
    {
     "name": "stdout",
     "output_type": "stream",
     "text": [
      "Help on method seed in module random:\n",
      "\n",
      "seed(a=None, version=2) method of random.Random instance\n",
      "    Initialize internal state from hashable object.\n",
      "    \n",
      "    None or no argument seeds from current time or from an operating\n",
      "    system specific randomness source if available.\n",
      "    \n",
      "    For version 2 (the default), all of the bits are used if *a* is a str,\n",
      "    bytes, or bytearray.  For version 1, the hash() of *a* is used instead.\n",
      "    \n",
      "    If *a* is an int, all bits are used.\n",
      "\n"
     ]
    }
   ],
   "source": [
    "import random\n",
    "\n",
    "help(random.seed)"
   ]
  },
  {
   "cell_type": "markdown",
   "metadata": {},
   "source": [
    "The seed functions allows you to get a determined sequence of random numbers. You can repeat this sequence, whenever you need it again, e.g. for debugging purposes."
   ]
  },
  {
   "cell_type": "code",
   "execution_count": 24,
   "metadata": {},
   "outputs": [
    {
     "name": "stdout",
     "output_type": "stream",
     "text": [
      "2, 1, 5, 4, 4, 3, 2, 9, 2, 10, \n",
      "Let's create the same random numbers again:\n",
      "2, 1, 5, 4, 4, 3, 2, 9, 2, 10, "
     ]
    }
   ],
   "source": [
    "import random\n",
    "\n",
    "random.seed(42)\n",
    "\n",
    "for _ in range(10):\n",
    "    print(random.randint(1, 10), end=\", \")\n",
    "    \n",
    "print(\"\\nLet's create the same random numbers again:\")\n",
    "random.seed(42)\n",
    "for _ in range(10):\n",
    "    print(random.randint(1, 10), end=\", \")\n"
   ]
  },
  {
   "cell_type": "markdown",
   "metadata": {},
   "source": [
    "<br><br>\n",
    "\n",
    "### Random Numbers in Python with Gaussian and Normalvariate Distribution\n",
    "\n",
    "We want to create now 1000 random numbers between 130 and 230 that have a gaussian distribution with the mean value mu set to 550 and the standard deviation sigma is set to 30. "
   ]
  },
  {
   "cell_type": "code",
   "execution_count": 25,
   "metadata": {},
   "outputs": [
    {
     "name": "stdout",
     "output_type": "stream",
     "text": [
      "[173.49123947564414, 183.47654360102564, 186.96893210720162, 214.90676059797428, 199.69909520396007, 183.31521532331496, 157.85035192965537, 149.56012897536849, 187.39026585633607, 219.33242481612143]\n"
     ]
    }
   ],
   "source": [
    "from random import gauss\n",
    "\n",
    "n = 1000\n",
    "\n",
    "values = []\n",
    "frequencies = {}\n",
    "\n",
    "while len(values) < n:\n",
    "    value = gauss(180, 30)\n",
    "    if 130 < value < 230:\n",
    "        frequencies[int(value)] = frequencies.get(int(value), 0) + 1\n",
    "        values.append(value)\n",
    "        \n",
    "print(values[:10])"
   ]
  },
  {
   "cell_type": "markdown",
   "metadata": {},
   "source": [
    "The following program plots the random values, which we have created before. We haven't covered matplotlib so far, so it's not necessary to understand the code:"
   ]
  },
  {
   "cell_type": "code",
   "execution_count": 26,
   "metadata": {},
   "outputs": [
    {
     "data": {
      "text/plain": [
       "[<matplotlib.lines.Line2D at 0x7f282554a828>]"
      ]
     },
     "execution_count": 26,
     "metadata": {},
     "output_type": "execute_result"
    },
    {
     "data": {
      "image/png": "[encoded data removed]",
      "text/plain": [
       "<matplotlib.figure.Figure at 0x7f283078fa58>"
      ]
     },
     "metadata": {},
     "output_type": "display_data"
    }
   ],
   "source": [
    "%matplotlib inline\n",
    "\n",
    "import matplotlib.pyplot as plt\n",
    "\n",
    "freq = list(frequencies.items())\n",
    "freq.sort()\n",
    "\n",
    "\n",
    "plt.plot(*list(zip(*freq)))"
   ]
  },
  {
   "cell_type": "markdown",
   "metadata": {},
   "source": [
    "We do the same now with normvariate instead of gauss:"
   ]
  },
  {
   "cell_type": "code",
   "execution_count": 27,
   "metadata": {},
   "outputs": [
    {
     "data": {
      "text/plain": [
       "[<matplotlib.lines.Line2D at 0x7f2824fef1d0>]"
      ]
     },
     "execution_count": 27,
     "metadata": {},
     "output_type": "execute_result"
    },
    {
     "data": {
      "image/png": "[encoded data removed]",
      "text/plain": [
       "<matplotlib.figure.Figure at 0x7f2827a46128>"
      ]
     },
     "metadata": {},
     "output_type": "display_data"
    }
   ],
   "source": [
    "from random import normalvariate\n",
    "\n",
    "n = 1000\n",
    "\n",
    "values = []\n",
    "frequencies = {}\n",
    "\n",
    "while len(values) < n:\n",
    "    value = normalvariate(180, 30)\n",
    "    if 130 < value < 230:\n",
    "        frequencies[int(value)] = frequencies.get(int(value), 0) + 1\n",
    "        values.append(value)\n",
    "\n",
    "freq = list(frequencies.items())\n",
    "freq.sort()\n",
    "\n",
    "\n",
    "plt.plot(*list(zip(*freq)))"
   ]
  },
  {
   "cell_type": "markdown",
   "metadata": {},
   "source": [
    "<br><br>\n",
    "\n",
    "### Exercise With Zeros and Ones"
   ]
  },
  {
   "cell_type": "markdown",
   "metadata": {},
   "source": [
    "It might be a good idea to write the following function as an exercise yourself.  The function should be called with a parameter p, which is a probabilty value between 0 and 1. The function returns a 1 with a probability of p, i.e. ones in p percent and zeros in (1 - p) percent of the calls:"
   ]
  },
  {
   "cell_type": "code",
   "execution_count": 28,
   "metadata": {},
   "outputs": [],
   "source": [
    "import random\n",
    "\n",
    "def random_ones_and_zeros(p):\n",
    "    \"\"\" p: probability 0 <= p <= 1\n",
    "        returns a 1 with the probability p\n",
    "    \"\"\"\n",
    "    x = random.random()\n",
    "    if x < p:\n",
    "        return 1\n",
    "    else:\n",
    "        return 0\n",
    "    "
   ]
  },
  {
   "cell_type": "markdown",
   "metadata": {},
   "source": [
    "Let's test our little function:"
   ]
  },
  {
   "cell_type": "code",
   "execution_count": 29,
   "metadata": {},
   "outputs": [
    {
     "data": {
      "text/plain": [
       "0.800609"
      ]
     },
     "execution_count": 29,
     "metadata": {},
     "output_type": "execute_result"
    }
   ],
   "source": [
    "n = 1000000\n",
    "sum(random_ones_and_zeros(0.8) for i in range(n)) / n"
   ]
  },
  {
   "cell_type": "markdown",
   "metadata": {},
   "source": [
    "It might be a great idea to implement a task like this with a generator. If you are not familar with the way of working of a Python generator, we recommend to consult our [chapter on generators and iterators](python3_generators.php) of our Python tutorial."
   ]
  },
  {
   "cell_type": "code",
   "execution_count": 30,
   "metadata": {},
   "outputs": [],
   "source": [
    "import random\n",
    "\n",
    "def random_ones_and_zeros(p):\n",
    "    while True:\n",
    "        x = random.random()\n",
    "        yield 1 if x < p else 0\n",
    "        \n",
    "def firstn(generator, n):\n",
    "\tfor i in range(n):\n",
    "\t\tyield next(generator)"
   ]
  },
  {
   "cell_type": "code",
   "execution_count": 31,
   "metadata": {},
   "outputs": [
    {
     "data": {
      "text/plain": [
       "0.799762"
      ]
     },
     "execution_count": 31,
     "metadata": {},
     "output_type": "execute_result"
    }
   ],
   "source": [
    "n = 1000000\n",
    "sum(x for x in firstn(random_ones_and_zeros(0.8), n)) / n"
   ]
  },
  {
   "cell_type": "markdown",
   "metadata": {},
   "source": [
    "Our generator random_ones_and_zeros can be seen as a sender, which emits ones and zeros with a probability of p and (1-p) respectively. \n",
    "\n",
    "We will write now another generator, which is receiving this bitstream. The task of this new generator is to read the incoming bitstream and yield another bitstream with ones and zeros with a probability of 0.5 without knowing or using the probability p. It should work for an arbitrary probability value p.<sup>2</sup>"
   ]
  },
  {
   "cell_type": "raw",
   "metadata": {},
   "source": [
    "<img width=350 class=\"imgright\" src=\"../images/lighthouses_bitstreams.webp\" srcset=\"../images/lighthouses_bitstreams_700w.webp 700w,../images/lighthouses_bitstreams_600w.webp 600w,../images/lighthouses_bitstreams_500w.webp 500w,../images/lighthouses_bitstreams_400w.webp 400w,../images/lighthouses_bitstreams_350w.webp 350w,../images/lighthouses_bitstreams_300w.webp 300w\" alt=\"Bitstreams Lighthouses\" />"
   ]
  },
  {
   "cell_type": "code",
   "execution_count": 32,
   "metadata": {},
   "outputs": [],
   "source": [
    "def ebitter(bitstream):\n",
    "    while True:\n",
    "        bit1 = next(bitstream)\n",
    "        bit2 = next(bitstream)\n",
    "        if bit1 + bit2 == 1:\n",
    "            bit3 = next(bitstream)\n",
    "            if bit2 + bit3 == 1:\n",
    "                yield 1\n",
    "            else:\n",
    "                yield 0\n",
    "        "
   ]
  },
  {
   "cell_type": "code",
   "execution_count": 33,
   "metadata": {},
   "outputs": [],
   "source": [
    "def ebitter2(bitstream):\n",
    "    bit1 = next(bitstream)\n",
    "    bit2 = next(bitstream)\n",
    "    bit3 = next(bitstream)\n",
    "    while True:\n",
    "        if bit1 + bit2 == 1:\n",
    "            if bit2 + bit3 == 1:\n",
    "                yield 1\n",
    "            else:\n",
    "                yield 0\n",
    "        bit1, bit2, bit3 = bit2, bit3, next(bitstream)"
   ]
  },
  {
   "cell_type": "code",
   "execution_count": 34,
   "metadata": {},
   "outputs": [
    {
     "data": {
      "text/plain": [
       "0.49975"
      ]
     },
     "execution_count": 34,
     "metadata": {},
     "output_type": "execute_result"
    }
   ],
   "source": [
    "n = 1000000\n",
    "sum(x for x in firstn(ebitter(random_ones_and_zeros(0.8)), n)) / n"
   ]
  },
  {
   "cell_type": "code",
   "execution_count": 35,
   "metadata": {},
   "outputs": [
    {
     "data": {
      "text/plain": [
       "0.500011"
      ]
     },
     "execution_count": 35,
     "metadata": {},
     "output_type": "execute_result"
    }
   ],
   "source": [
    "n = 1000000\n",
    "sum(x for x in firstn(ebitter2(random_ones_and_zeros(0.8)), n)) / n"
   ]
  },
  {
   "cell_type": "markdown",
   "metadata": {},
   "source": [
    "**Underlying theory:**\n",
    "\n",
    "Our first generator emits a bitstream B<sub>0</sub>, B<sub>1</sub>, B<sub>2</sub>,...  \n",
    "\n",
    "We check now an arbitrary pair of consecutive Bits B<sub>i</sub>, B<sub>i+1</sub>, ...\n",
    "\n",
    "Such a pair can have the values 01, 10, 00 or 11. The probability P(01) = (p-1) x p and probability P(10) = p x (p-1), so that the combined probabilty that the two consecutive bits are either 01 or 10 (or the sum of the two bits is 1)  is 2 x (p-1) x p \n",
    "\n",
    "Now we look at another bit B<sub>i+2</sub>. What is the probability that both \n",
    "\n",
    "B<sub>i</sub> + B<sub>i+1</sub> = 1\n",
    "\n",
    "and \n",
    "\n",
    "B<sub>i+1</sub> + B<sub>i+2</sub> = 1?\n",
    "\n",
    "The possible outcomes satisfying these conditions and their corresponding probabilities can be found in the following table:\n",
    "\n",
    "<br>"
   ]
  },
  {
   "cell_type": "markdown",
   "metadata": {},
   "source": [
    "<table border=\"1\">\n",
    "  <tr>\n",
    "    <th>Probability</th>\n",
    "    <th>B<sub>i</sub></th>\n",
    "    <th>B<sub>i+1</sub></th>\n",
    "    <th>B<sub>i+2</sub></th>\n",
    "  </tr>\n",
    "  <tr>\n",
    "    <td>p<sup>2</sup> x (1-p)</td>\n",
    "    <td>0</td>\n",
    "    <td>1</td>\n",
    "    <td>0</td>\n",
    "  </tr>\n",
    "  <tr>\n",
    "    <td>p x (1 - p)<sup>2</sup></td>\n",
    "    <td>1</td>\n",
    "    <td>0</td>\n",
    "    <td>1</td>\n",
    "  </tr>\n",
    "</table>\n",
    "\n",
    "<br>"
   ]
  },
  {
   "cell_type": "markdown",
   "metadata": {},
   "source": [
    "We will denote the outcome sum(B<sub>i</sub>, B<sub>i+1</sub>)=1 asX<sub>1</sub> and correspondingly the outcome sum(B<sub>i+1</sub>, B<sub>i+2</sub>)=1 as X<sub>2</sub> \n",
    "\n",
    "So, the joint probability P(X<sub>1</sub>, X<sub>2</sub>) = p<sup>2</sup> x (1-p) + p x (1 - p)<sup>2</sup> which can be rearranged to p x (1-p)\n",
    "\n",
    "The conditional probability of X<sub>2</sub> given X<sub>1</sub>:\n",
    "\n",
    "P(X<sub>2</sub> | X<sub>1</sub>) = P(X<sub>1</sub>, X<sub>2</sub>) / P(X<sub>2</sub>)\n",
    "\n",
    "P(X<sub>2</sub> | X<sub>1</sub>) =  p x (1-p)  /  2 x p x (1-p) = 1 / 2"
   ]
  },
  {
   "cell_type": "markdown",
   "metadata": {},
   "source": [
    "<br><br>\n",
    "\n",
    "### Synthetical Sales Figures\n",
    "\n",
    "In this subchapter we want to create a data file with sales figures. Imagine that we have a chain of shops in various European and Canadian cities: Frankfurt, Munich, Berlin, Zurich, Hamburg, London, Toronto, Strasbourg, Luxembourg, Amsterdam, Rotterdam, The Hague\n",
    "\n",
    "We start with an array 'sales' of sales figures for the year 1997:\n"
   ]
  },
  {
   "cell_type": "code",
   "execution_count": 36,
   "metadata": {},
   "outputs": [],
   "source": [
    "import numpy as np\n",
    "\n",
    "sales = np.array([1245.89, 2220.00, 1635.77, 1936.25, 1002.03, 2099.13,  723.99, 990.37, 541.44, 1765.00, 1802.84, 1999.00])"
   ]
  },
  {
   "cell_type": "markdown",
   "metadata": {},
   "source": [
    " The aim is to create a comma separated list like the ones you get from Excel. The file should contain the sales figures, we don't know, for all the shops, we don't have, spanning the year from 1997 to 2016.\n",
    "\n",
    "We will add random values to our sales figures year after year. For this purpose we construct an array with growthrates. The growthrates can vary between a minimal percent value (min_percent) and maximum percent value (max_percent):"
   ]
  },
  {
   "cell_type": "code",
   "execution_count": 37,
   "metadata": {},
   "outputs": [
    {
     "name": "stdout",
     "output_type": "stream",
     "text": [
      "[ 1.03476561  1.00885095  1.00614899  1.05164581  1.0307091   0.98822763\n",
      "  0.99366872  1.05810125  1.04798573  1.02784796  1.05035899  1.02262023]\n"
     ]
    }
   ],
   "source": [
    "min_percent = 0.98  # corresponds to -1.5 %\n",
    "max_percent = 1.06   # 6 %\n",
    "growthrates = (max_percent - min_percent) * np.random.random_sample(12) + min_percent\n",
    "print(growthrates)"
   ]
  },
  {
   "cell_type": "markdown",
   "metadata": {},
   "source": [
    "To get the new sales figures after a year, we multiply the sales array \"sales\" with the array \"growthrates\":"
   ]
  },
  {
   "cell_type": "code",
   "execution_count": 38,
   "metadata": {},
   "outputs": [
    {
     "data": {
      "text/plain": [
       "array([ 1289.20412146,  2239.649113  ,  1645.82833205,  2036.24919608,\n",
       "        1032.80143634,  2074.41825668,   719.40621318,  1047.91173209,\n",
       "         567.42139317,  1814.15165757,  1893.62920988,  2044.21783979])"
      ]
     },
     "execution_count": 38,
     "metadata": {},
     "output_type": "execute_result"
    }
   ],
   "source": [
    "sales * growthrates"
   ]
  },
  {
   "cell_type": "markdown",
   "metadata": {},
   "source": [
    "To get a more sustainable sales development, we change the growthrates only every four years.\n",
    "\n",
    "This is our complete program, which saves the data in a file called sales_figures.csv:"
   ]
  },
  {
   "cell_type": "code",
   "execution_count": 39,
   "metadata": {},
   "outputs": [],
   "source": [
    "import numpy as np\n",
    "fh = open(\"sales_figures.csv\", \"w\")\n",
    "\n",
    "fh.write(\"Year, Frankfurt, Munich, Berlin, Zurich, Hamburg, London, Toronto, Strasbourg, Luxembourg, Amsterdam, Rotterdam, The Hague\\n\")\n",
    "sales = np.array([1245.89, 2220.00, 1635.77, 1936.25, 1002.03, 2099.13,  723.99, 990.37, 541.44, 1765.00, 1802.84, 1999.00])\n",
    "\n",
    "for year in range(1997, 2016):\n",
    "    line = str(year) + \", \" + \", \".join(map(str, sales))\n",
    "    fh.write(line + \"\\n\")\n",
    "    if year % 4 == 0:\n",
    "         min_percent = 0.98  # corresponds to -1.5 %\n",
    "         max_percent = 1.06   # 6 %\n",
    "         growthrates = (max_percent - min_percent) * np.random.random_sample(12) + min_percent\n",
    "         #growthrates = 1 + (np.random.rand(12) * max_percent - negative_max) / 100\n",
    "    sales = np.around(sales * growthrates, 2)\n",
    "fh.close()"
   ]
  },
  {
   "cell_type": "markdown",
   "metadata": {},
   "source": [
    "The result is in the file [sales_figures.csv](sales_figures.csv).\n",
    "\n",
    "We will use this file in our chapter on reading and writing in Numpy."
   ]
  },
  {
   "cell_type": "markdown",
   "metadata": {},
   "source": [
    "<br><br>\n",
    "\n",
    "### Exercises\n",
    "\n",
    "<ol>\n",
    "<li>Let's do some more die rolling. Prove empirically - by writing a simulation program - that the probability for the combined events \"an even number is rolled\" (E) and \"A number greater than 2 is rolled\" is 1/3.\n",
    "<li>The file [\"universities_uk.txt\"](universities_uk.txt) contains a list of universities in the United Kingdom by enrollment from 2013-2014 (data from  ([Wikepedia](https://en.wikipedia.org/wiki/List_of_universities_in_the_United_Kingdom_by_enrollment#cite_note-1)). \n",
    "Write a function which returns a tuple \n",
    "(universities, enrollments, total_number_of_students)\n",
    "\n",
    "with\n",
    "\n",
    "- universities: list of University names\n",
    "- enrollments: corresponding list with enrollments\n",
    "- total_number_of_students: over all universities\n",
    "\n",
    "Now you can enroll a 100,000 fictional students with a likelihood corresponding to the real enrollments.\n",
    "</li>\n",
    "\n",
    "<li>\n",
    "\n",
    "\n",
    "\n",
    "\n"
   ]
  },
  {
   "cell_type": "raw",
   "metadata": {},
   "source": [
    "<img width=\"40%\" class=\"imgright\" src=\"../images/greek_pythonia.webp\" srcset=\"../images/greek_pythonia_400w.webp 400w,../images/greek_pythonia_350w.webp 350w,../images/greek_pythonia_300w.webp 300w\" alt=\"Ancient Greek scene as Pythonia\" />"
   ]
  },
  {
   "cell_type": "markdown",
   "metadata": {},
   "source": [
    "Let me take you back in time and space in our next exercise. We will travel back into ancient Pythonia (Πηθωνια). It was the time when king Pysseus ruled as the benevolent dictator for live.\n",
    "It was the time when Pysseus sent out his messengers throughout the world to announce that the time has come for his princes Anacondos (Ανακονδος), Cobrion (Κομπριον), Boatos (Μποατος) and Addokles (Ανδοκλης) to merry. So, they organized the toughest programming contests amongst the fair and brave amazons, better known as Pythonistas of Pythonia. Finally, only eleven amazons were left to choose from:\n",
    "\n",
    "\n",
    "1) The ethereal Airla (Αιρλα)\n",
    "2) Barbara (Βαρβάρα), the one from a foreign country.\n",
    "3) Eos (Ηως), looking divine in dawn\n",
    "4) The sweet Glykeria (Γλυκερία)\n",
    "5) The gracefull Hanna (Αννα)\n",
    "6) Helen (Ελενη), the light in the dark\n",
    "7) The good angel Agathangelos (Αγαθάγγελος)\n",
    "8) the violet tinted cloud Iokaste (Ιοκάστη)\n",
    "9) Medousa (Μέδουσα), the guardian\n",
    "10) the self-controlled Sofronia (Σωφρονία)\n",
    "11) Andromeda (Ανδρομεδα), the one who thinks man or a warrior.\n",
    "\n",
    "On the day they arrived the chances to be drawn in the lottery are the same for every amazon, but Pysseus wants the lottery to be postponed to some day in the future. The probability changes every day: It will be lowered by 1/13 for the first seven amazones and it will be increased by 1/12 for the last four amazones. \n",
    "\n",
    "How long will the king have to wait until he can be more than 90 percent sure that his princes Anacondos, Cobrion, Boatos and Addokles will be married to Iokaste, Medousa, Sofronia and Andromeda?\n",
    "\n",
    "\n",
    "\n",
    "\n",
    "\n",
    "\n",
    "</li>\n",
    "\n",
    "</ol>\n",
    "\n",
    "<br><br>\n",
    "\n",
    "### Solutions to our exercises\n",
    "\n",
    "<ol>\n",
    "<li>"
   ]
  },
  {
   "cell_type": "code",
   "execution_count": 40,
   "metadata": {},
   "outputs": [
    {
     "name": "stdout",
     "output_type": "stream",
     "text": [
      "0.5061\n",
      "0.6719\n",
      "0.3402\n"
     ]
    }
   ],
   "source": [
    "from random import randint\n",
    "\n",
    "outcomes = [ randint(1, 6) for _ in range(10000)]\n",
    "\n",
    "even_pips = [ x for x in outcomes if x % 2 == 0]\n",
    "greater_two = [ x for x in outcomes if x > 2]\n",
    "\n",
    "combined = [ x for x in outcomes if x % 2 == 0 and x > 2]\n",
    "\n",
    "print(len(even_pips) / len(outcomes))\n",
    "print(len(greater_two) / len(outcomes))\n",
    "print(len(combined) / len(outcomes))\n"
   ]
  },
  {
   "cell_type": "markdown",
   "metadata": {},
   "source": [
    "<li>\n",
    "\n",
    "At first we will write the function \"process_datafile\" to process our data file:\n"
   ]
  },
  {
   "cell_type": "code",
   "execution_count": 41,
   "metadata": {},
   "outputs": [],
   "source": [
    "def process_datafile(filename):\n",
    "    \"\"\" process_datafile -> (universities, \n",
    "                             enrollments, \n",
    "                             total_number_of_students) \n",
    "        universities: list of University names\n",
    "        enrollments: corresponding list with enrollments\n",
    "        total_number_of_students: over all universities\n",
    "    \"\"\"\n",
    "\n",
    "    universities = []\n",
    "    enrollments = []\n",
    "    with open(filename) as fh:\n",
    "        total_number_of_students = 0\n",
    "        fh.readline() # get rid of descriptive first line\n",
    "        for line in fh:\n",
    "             line = line.strip()\n",
    "             *praefix, undergraduates, postgraduates, total = line.rsplit()\n",
    "             university = praefix[1:]\n",
    "             total = int(total.replace(\",\", \"\"))\n",
    "             enrollments.append(total)\n",
    "             universities.append(\" \".join(university))\n",
    "             total_number_of_students += total\n",
    "    return (universities, enrollments, total_number_of_students)"
   ]
  },
  {
   "cell_type": "markdown",
   "metadata": {},
   "source": [
    "Let's start our function and check the results:"
   ]
  },
  {
   "cell_type": "code",
   "execution_count": 42,
   "metadata": {},
   "outputs": [
    {
     "name": "stdout",
     "output_type": "stream",
     "text": [
      "Open University in England: 123490\n",
      "University of Manchester: 37925\n",
      "University of Nottingham: 33270\n",
      "Sheffield Hallam University: 33100\n",
      "University of Birmingham: 32335\n",
      "Manchester Metropolitan University: 32160\n",
      "University of Leeds: 30975\n",
      "Cardiff University: 30180\n",
      "University of South Wales: 29195\n",
      "University College London: 28430\n",
      "King's College London: 27645\n",
      "University of Edinburgh: 27625\n",
      "Northumbria University: 27565\n",
      "University of Glasgow: 27390\n",
      "Total number of students onrolled in the UK:  2299380\n"
     ]
    }
   ],
   "source": [
    "universities, enrollments, total_students = process_datafile(\"universities_uk.txt\")\n",
    "\n",
    "for i in range(14):\n",
    "    print(universities[i], end=\": \")\n",
    "    print(enrollments[i])\n",
    "print(\"Total number of students onrolled in the UK: \", total_students)"
   ]
  },
  {
   "cell_type": "markdown",
   "metadata": {},
   "source": [
    "We want to enroll now a virtual student randomly to one of the universities. To get a weighted list suitable for our weighted_choice function, we have to normalize the values in the list enrollments:"
   ]
  },
  {
   "cell_type": "code",
   "execution_count": 43,
   "metadata": {},
   "outputs": [
    {
     "name": "stdout",
     "output_type": "stream",
     "text": [
      "University of Dundee\n"
     ]
    }
   ],
   "source": [
    "normalized_enrollments = [ students / total_students for students in enrollments]\n",
    "\n",
    "# enrolling a virtual student:\n",
    "print(weighted_choice(universities, normalized_enrollments))"
   ]
  },
  {
   "cell_type": "markdown",
   "metadata": {},
   "source": [
    "We have been asked by the exercise to \"enroll\" 100,000 fictional students. This can be easily accomplished with a loop:"
   ]
  },
  {
   "cell_type": "code",
   "execution_count": 44,
   "metadata": {},
   "outputs": [
    {
     "name": "stdout",
     "output_type": "stream",
     "text": [
      "[('Open University in England', 5529), ('University of Manchester', 1574), ('University of Nottingham', 1427), ('University of Birmingham', 1424), ('Sheffield Hallam University', 1410), ('Manchester Metropolitan University', 1408), ('Cardiff University', 1334), ('University of Leeds', 1312), ('University of South Wales', 1264), ('University of Plymouth', 1218), ('University College London', 1209), ('Coventry University', 1209), ('University of the West of England', 1197), ('University of Edinburgh', 1196), (\"King's College London\", 1183), ('University of Glasgow', 1181), ('University of Central Lancashire', 1176), ('Nottingham Trent University', 1174), ('University of Sheffield', 1160), ('Northumbria University', 1154)]\n"
     ]
    }
   ],
   "source": [
    "from collections import Counter\n",
    "\n",
    "outcomes = []\n",
    "n = 100000\n",
    "for i in range(n):\n",
    "    outcomes.append(weighted_choice(universities, normalized_enrollments))\n",
    "\n",
    "c = Counter(outcomes)\n",
    "    \n",
    "print(c.most_common(20))"
   ]
  },
  {
   "cell_type": "markdown",
   "metadata": {},
   "source": [
    "\n",
    "</li>\n",
    "\n",
    "<li>\n"
   ]
  },
  {
   "cell_type": "markdown",
   "metadata": {},
   "source": [
    "The bunch of amazons is implemented as a list, while we choose a set for Pysseusses favorites. The weights at the beginning are 1/11 for all, i.e. 1/len(amazons).\n",
    "\n",
    "Every loop cycle corresponds to a new day. Every time we start a new loop cycle, we will draw \"n\" samples of Pythonistas to calculate the   ratio of the number of times the sample is equal to the king's favorites divided by the number of times the sample doesn't match the king's idea of daughter-in-laws. This corresponds to the probability \"prob\". We stop the first time, the probability is equal or larger than 0.9.\n",
    "\n",
    "We can use both the function \"weighted_same\" and \"weighted_sample_alternative\" to do the drawing. "
   ]
  },
  {
   "cell_type": "code",
   "execution_count": 45,
   "metadata": {},
   "outputs": [
    {
     "name": "stdout",
     "output_type": "stream",
     "text": [
      "2.870792999999999\n",
      "Number of days, he has to wait:  33\n"
     ]
    }
   ],
   "source": [
    "import time\n",
    "\n",
    "amazons = [\"Airla\", \"Barbara\", \"Eos\",\n",
    "           \"Glykeria\", \"Hanna\", \"Helen\",\n",
    "           \"Agathangelos\", \"Iokaste\", \n",
    "           \"Medousa\", \"Sofronia\", \n",
    "           \"Andromeda\"]\n",
    "\n",
    "weights = [ 1/len(amazons) for _ in range(len(amazons)) ]\n",
    "\n",
    "Pytheusses_favorites = {\"Iokaste\", \"Medousa\", \n",
    "                        \"Sofronia\", \"Andromeda\"}\n",
    "n = 1000\n",
    "counter = 0\n",
    "\n",
    "prob = 1 / 330\n",
    "days = 0\n",
    "factor1 = 1 / 13\n",
    "factor2 = 1 / 12\n",
    "\n",
    "start = time.clock()\n",
    "while prob < 0.9:\n",
    "    for i in range(n):\n",
    "        the_chosen_ones = weighted_sample_alternative(amazons, weights, 4)\n",
    "        if set(the_chosen_ones) == Pytheusses_favorites:\n",
    "            counter += 1\n",
    "    prob = counter / n\n",
    "    counter = 0\n",
    "    weights[:7] = [ p - p*factor1 for p in weights[:7] ]\n",
    "    weights[7:] = [ p + p*factor2 for p in weights[7:] ]\n",
    "    weights = [ x / sum(weights) for x in weights]\n",
    "    days += 1\n",
    "print(time.clock() - start)\n",
    "\n",
    "print(\"Number of days, he has to wait: \", days)\n"
   ]
  },
  {
   "cell_type": "markdown",
   "metadata": {},
   "source": [
    "Teh value for the number of days differs, if n is not large enough.\n",
    "\n",
    "The following is a solutions without round-off errors. We will use Fraction from the module fractions."
   ]
  },
  {
   "cell_type": "code",
   "execution_count": 46,
   "metadata": {},
   "outputs": [
    {
     "name": "stdout",
     "output_type": "stream",
     "text": [
      "35.920345\n",
      "Number of days, he has to wait:  33\n"
     ]
    }
   ],
   "source": [
    "import time\n",
    "from fractions import Fraction\n",
    "\n",
    "\n",
    "amazons = [\"Airla\", \"Barbara\", \"Eos\",\n",
    "           \"Glykeria\", \"Hanna\", \"Helen\",\n",
    "           \"Agathangelos\", \"Iokaste\", \n",
    "           \"Medousa\", \"Sofronia\", \n",
    "           \"Andromeda\"]\n",
    "\n",
    "weights = [ Fraction(1, 11) for _ in range(len(amazons)) ]\n",
    "\n",
    "Pytheusses_favorites = {\"Iokaste\", \"Medousa\", \n",
    "                        \"Sofronia\", \"Andromeda\"}\n",
    "n = 1000\n",
    "counter = 0\n",
    "\n",
    "prob = Fraction(1, 330)\n",
    "days = 0\n",
    "factor1 = Fraction(1, 13)\n",
    "factor2 = Fraction(1, 12)\n",
    "\n",
    "start = time.clock()\n",
    "while prob < 0.9:\n",
    "    #print(prob)\n",
    "    for i in range(n):\n",
    "        the_chosen_ones = weighted_sample_alternative(amazons, weights, 4)\n",
    "        if set(the_chosen_ones) == Pytheusses_favorites:\n",
    "            counter += 1\n",
    "    prob = Fraction(counter, n)\n",
    "    counter = 0\n",
    "    weights[:7] = [ p - p*factor1 for p in weights[:7] ]\n",
    "    weights[7:] = [ p + p*factor2 for p in weights[7:] ]\n",
    "    weights = [ x / sum(weights) for x in weights]\n",
    "    days += 1\n",
    "print(time.clock() - start)\n",
    "\n",
    "print(\"Number of days, he has to wait: \", days)"
   ]
  },
  {
   "cell_type": "markdown",
   "metadata": {},
   "source": [
    "We can see that the solution with fractions is beautiful but very slow. Whereas the greater precision doesn't play a role in our case.\n",
    "\n",
    "So far, we haven't used the power of Numpy. We will do this in the next implementation of our problem:"
   ]
  },
  {
   "cell_type": "code",
   "execution_count": 47,
   "metadata": {},
   "outputs": [
    {
     "name": "stdout",
     "output_type": "stream",
     "text": [
      "4.930090000000007\n",
      "Number of days, he has to wait:  33\n"
     ]
    }
   ],
   "source": [
    "import time\n",
    "import numpy as np\n",
    "\n",
    "amazons = [\"Airla\", \"Barbara\", \"Eos\",\n",
    "           \"Glykeria\", \"Hanna\", \"Helen\",\n",
    "           \"Agathangelos\", \"Iokaste\", \n",
    "           \"Medousa\", \"Sofronia\", \n",
    "           \"Andromeda\"]\n",
    "\n",
    "weights = np.full(11, 1/len(amazons))\n",
    "\n",
    "\n",
    "Pytheusses_favorites = {\"Iokaste\", \"Medousa\", \n",
    "                        \"Sofronia\", \"Andromeda\"}\n",
    "\n",
    "\n",
    "n = 1000\n",
    "counter = 0\n",
    "\n",
    "prob = 1 / 330\n",
    "days = 0\n",
    "factor1 = 1 / 13\n",
    "factor2 = 1 / 12\n",
    "\n",
    "start = time.clock()\n",
    "while prob < 0.9:\n",
    "    for i in range(n):\n",
    "        the_chosen_ones = weighted_sample_alternative(amazons, weights, 4)\n",
    "        if set(the_chosen_ones) == Pytheusses_favorites:\n",
    "            counter += 1\n",
    "    prob = counter / n\n",
    "    counter = 0\n",
    "    weights[:7] = weights[:7] - weights[:7] * factor1\n",
    "    weights[7:] = weights[7:] + weights[7:] * factor2\n",
    "    weights = weights / np.sum(weights)\n",
    "    #print(weights)\n",
    "    days += 1\n",
    "print(time.clock() - start)\n",
    "\n",
    "print(\"Number of days, he has to wait: \", days)"
   ]
  },
  {
   "cell_type": "markdown",
   "metadata": {},
   "source": [
    "<br><br>\n",
    "<hr>\n",
    "<br>\n",
    "\n",
    "\n",
    "### Footnotes:\n",
    "\n",
    "<br>\n",
    "<sup>1</sup> The [TIOBE index](https://www.tiobe.com/tiobe-index/) or The TIOBE Programming Community index is - according to the website \"an indicator of the popularity of programming languages. The index is updated once a month. The ratings are based on the number of skilled engineers world-wide, courses and third party vendors. Popular search engines such as Google, Bing, Yahoo!, Wikipedia, Amazon, YouTube and Baidu are used to calculate the ratings. It is important to note that the TIOBE index is not about the best programming language or the language in which most lines of code have been written.\"\n",
    "<br><br>\n",
    "<sup>2</sup>  I am thankful to Dr. Hanno Baehr who introduced me to the problem of \"Random extraction\" when participating in a Python training course in Nuremberg in January 2014. Hanno outlined some bits of the theoretical framework. During a night session in a pub called \"Zeit & Raum\" (english: \"Time & Space\") I implemented a corresponding Python program to back the theoretical solution empirically.\n"
   ]
  },
  {
   "cell_type": "markdown",
   "metadata": {},
   "source": []
  }
 ],
 "metadata": {
  "anaconda-cloud": {},
  "kernelspec": {
   "display_name": "Python 3",
   "language": "python",
   "name": "python3"
  },
  "language_info": {
   "codemirror_mode": {
    "name": "ipython",
    "version": 3
   },
   "file_extension": ".py",
   "mimetype": "text/x-python",
   "name": "python",
   "nbconvert_exporter": "python",
   "pygments_lexer": "ipython3",
   "version": "3.7.1"
  },
  "toc": {
   "base_numbering": 1,
   "nav_menu": {},
   "number_sections": true,
   "sideBar": true,
   "skip_h1_title": false,
   "title_cell": "Table of Contents",
   "title_sidebar": "Contents",
   "toc_cell": false,
   "toc_position": {},
   "toc_section_display": true,
   "toc_window_display": false
  }
 },
 "nbformat": 4,
 "nbformat_minor": 1
}
