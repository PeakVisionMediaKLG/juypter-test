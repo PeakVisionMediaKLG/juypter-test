{
 "metadata": {
  "name": ""
 },
 "nbformat": 3,
 "nbformat_minor": 0,
 "worksheets": [
  {
   "cells": [
    {
     "cell_type": "markdown",
     "metadata": {},
     "source": [
      "<br>\n",
      "\n",
      "##Numpy: Boolean Indexing"
     ]
    },
    {
     "cell_type": "raw",
     "metadata": {},
     "source": [
      "<img width=\"40%\" class=\"imgright\" src=\"../images/masks_boolean.webp\" srcset=\"../images/masks_boolean_350w.webp 350w,../images/masks_boolean_300w.webp 300w\" alt=\"Boolean Maskes, as Venetian Mask\" />"
     ]
    },
    {
     "cell_type": "code",
     "collapsed": false,
     "input": [
      "import numpy as np\n",
      "\n",
      "A = np.array([4, 7, 3, 4, 2, 8])\n",
      "\n",
      "print(A == 4)\n"
     ],
     "language": "python",
     "metadata": {},
     "outputs": [
      {
       "output_type": "stream",
       "stream": "stdout",
       "text": [
        "[ True False False  True False False]\n"
       ]
      }
     ],
     "prompt_number": 47
    },
    {
     "cell_type": "markdown",
     "metadata": {},
     "source": [
      "Every element of the Array A is tested, if it is equal to 4. The results of these tests are the Boolean elements of the result array.\n",
      "\n",
      "Of course, it is also possible to check on \"<\", \"<=\", \">\" and \">=\"."
     ]
    },
    {
     "cell_type": "code",
     "collapsed": false,
     "input": [
      "print(A < 5)"
     ],
     "language": "python",
     "metadata": {},
     "outputs": [
      {
       "output_type": "stream",
       "stream": "stdout",
       "text": [
        "[ True False  True  True  True False]\n"
       ]
      }
     ],
     "prompt_number": 48
    },
    {
     "cell_type": "markdown",
     "metadata": {},
     "source": [
      "It works also for higher dimensions:"
     ]
    },
    {
     "cell_type": "code",
     "collapsed": false,
     "input": [
      "B = np.array([[42,56,89,65],\n",
      "              [99,88,42,12],\n",
      "              [55,42,17,18]])\n",
      "\n",
      "print(B>=42)"
     ],
     "language": "python",
     "metadata": {},
     "outputs": [
      {
       "output_type": "stream",
       "stream": "stdout",
       "text": [
        "[[ True  True  True  True]\n",
        " [ True  True  True False]\n",
        " [ True  True False False]]\n"
       ]
      }
     ],
     "prompt_number": 49
    },
    {
     "cell_type": "markdown",
     "metadata": {},
     "source": [
      "It is a convenient way to threshold images. "
     ]
    },
    {
     "cell_type": "code",
     "collapsed": false,
     "input": [
      "import numpy as np\n",
      "\n",
      "A = np.array([\n",
      "[12, 13, 14, 12, 16, 14, 11, 10,  9],\n",
      "[11, 14, 12, 15, 15, 16, 10, 12, 11],\n",
      "[10, 12, 12, 15, 14, 16, 10, 12, 12],\n",
      "[ 9, 11, 16, 15, 14, 16, 15, 12, 10],\n",
      "[12, 11, 16, 14, 10, 12, 16, 12, 13],\n",
      "[10, 15, 16, 14, 14, 14, 16, 15, 12],\n",
      "[13, 17, 14, 10, 14, 11, 14, 15, 10],\n",
      "[10, 16, 12, 14, 11, 12, 14, 18, 11],\n",
      "[10, 19, 12, 14, 11, 12, 14, 18, 10],\n",
      "[14, 22, 17, 19, 16, 17, 18, 17, 13],\n",
      "[10, 16, 12, 14, 11, 12, 14, 18, 11],\n",
      "[10, 16, 12, 14, 11, 12, 14, 18, 11],\n",
      "[10, 19, 12, 14, 11, 12, 14, 18, 10],\n",
      "[14, 22, 12, 14, 11, 12, 14, 17, 13],\n",
      "[10, 16, 12, 14, 11, 12, 14, 18, 11]])\n",
      "\n",
      "B = A < 15\n",
      "B.astype(np.int)"
     ],
     "language": "python",
     "metadata": {},
     "outputs": [
      {
       "metadata": {},
       "output_type": "pyout",
       "prompt_number": 50,
       "text": [
        "array([[1, 1, 1, 1, 0, 1, 1, 1, 1],\n",
        "       [1, 1, 1, 0, 0, 0, 1, 1, 1],\n",
        "       [1, 1, 1, 0, 1, 0, 1, 1, 1],\n",
        "       [1, 1, 0, 0, 1, 0, 0, 1, 1],\n",
        "       [1, 1, 0, 1, 1, 1, 0, 1, 1],\n",
        "       [1, 0, 0, 1, 1, 1, 0, 0, 1],\n",
        "       [1, 0, 1, 1, 1, 1, 1, 0, 1],\n",
        "       [1, 0, 1, 1, 1, 1, 1, 0, 1],\n",
        "       [1, 0, 1, 1, 1, 1, 1, 0, 1],\n",
        "       [1, 0, 0, 0, 0, 0, 0, 0, 1],\n",
        "       [1, 0, 1, 1, 1, 1, 1, 0, 1],\n",
        "       [1, 0, 1, 1, 1, 1, 1, 0, 1],\n",
        "       [1, 0, 1, 1, 1, 1, 1, 0, 1],\n",
        "       [1, 0, 1, 1, 1, 1, 1, 0, 1],\n",
        "       [1, 0, 1, 1, 1, 1, 1, 0, 1]])"
       ]
      }
     ],
     "prompt_number": 50
    },
    {
     "cell_type": "markdown",
     "metadata": {},
     "source": [
      "If you have a close look at the previous output, you will see, that it the upper case 'A' is hidden in the array B."
     ]
    },
    {
     "cell_type": "markdown",
     "metadata": {},
     "source": [
      "<br>\n",
      "\n",
      "###Fancy Indexing"
     ]
    },
    {
     "cell_type": "markdown",
     "metadata": {},
     "source": [
      "We will index an array C in the following example by using a Boolean mask. It is called fancy indexing, if arrays are indexed by using boolean or integer arrays (masks). The result will be a copy and not a view.\n",
      "\n",
      "In our next example, we will use the Boolean mask of one array to select the corresponding elements of another array. The new array R contains all the elements of C where the corresponding value of (A<=5) is True."
     ]
    },
    {
     "cell_type": "code",
     "collapsed": false,
     "input": [
      "C = np.array([123,188,190,99,77,88,100])\n",
      "A = np.array([4,7,2,8,6,9,5])\n",
      "\n",
      "R = C[A<=5]\n",
      "print(R)"
     ],
     "language": "python",
     "metadata": {},
     "outputs": [
      {
       "output_type": "stream",
       "stream": "stdout",
       "text": [
        "[123 190 100]\n"
       ]
      }
     ],
     "prompt_number": 51
    },
    {
     "cell_type": "markdown",
     "metadata": {},
     "source": [
      "<br>\n",
      "\n",
      "###Indexing with an Integer Array"
     ]
    },
    {
     "cell_type": "markdown",
     "metadata": {},
     "source": [
      "In the following example, we will index with an integer array:"
     ]
    },
    {
     "cell_type": "code",
     "collapsed": false,
     "input": [
      "C[[0, 2, 3, 1, 4, 1]]"
     ],
     "language": "python",
     "metadata": {},
     "outputs": [
      {
       "metadata": {},
       "output_type": "pyout",
       "prompt_number": 52,
       "text": [
        "array([123, 190,  99, 188,  77, 188])"
       ]
      }
     ],
     "prompt_number": 52
    },
    {
     "cell_type": "markdown",
     "metadata": {},
     "source": [
      "Indices can appear in every order and multiple times!"
     ]
    },
    {
     "cell_type": "markdown",
     "metadata": {},
     "source": [
      "<br>\n",
      "\n",
      "####Exercises"
     ]
    },
    {
     "cell_type": "markdown",
     "metadata": {},
     "source": [
      "Extract from the  array np.array([3,4,6,10,24,89,45,43,46,99,100]) with Boolean masking all the number \n",
      "\n",
      "- which are not divisible by 3\n",
      "\n",
      "- which are divisible by 5\n",
      "\n",
      "- which are divisible by 3 and 5\n",
      "\n",
      "- which are divisible by 3 and set them to 42"
     ]
    },
    {
     "cell_type": "markdown",
     "metadata": {},
     "source": [
      "<br>\n",
      "\n",
      "####Solutions"
     ]
    },
    {
     "cell_type": "code",
     "collapsed": false,
     "input": [
      "import numpy as np\n",
      "A = np.array([3,4,6,10,24,89,45,43,46,99,100])\n",
      "\n",
      "div3 = A[A%3!=0]\n",
      "print(\"Elements of A not divisible by 3:\")\n",
      "print(div3)\n",
      "\n",
      "\n",
      "div5 = A[A%5==0]\n",
      "print(\"Elements of A divisible by 5:\")\n",
      "print(div5)\n",
      "\n",
      "print(\"Elements of A, which are divisible by 3 and 5:\")\n",
      "print(A[(A%3==0) & (A%5==0)])\n",
      "print(\"------------------\")\n",
      "\n",
      "# \n",
      "\n",
      "A[A%3==0] = 42\n",
      "print(\"\"\"New values of A after setting the elements of A, \n",
      "which are divisible by 3, to 42:\"\"\")\n",
      "print(A)"
     ],
     "language": "python",
     "metadata": {},
     "outputs": [
      {
       "output_type": "stream",
       "stream": "stdout",
       "text": [
        "Elements of A not divisible by 3:\n",
        "[  4  10  89  43  46 100]\n",
        "Elements of A divisible by 5:\n",
        "[ 10  45 100]\n",
        "Elements of A, which are divisible by 3 and 5:\n",
        "[45]\n",
        "------------------\n",
        "New values of A after setting the elements of A, \n",
        "which are divisible by 3, to 42:\n",
        "[ 42   4  42  10  42  89  42  43  46  42 100]\n"
       ]
      }
     ],
     "prompt_number": 53
    },
    {
     "cell_type": "markdown",
     "metadata": {},
     "source": [
      "<br>\n",
      "\n",
      "###nonzero and where<br>"
     ]
    },
    {
     "cell_type": "markdown",
     "metadata": {},
     "source": [
      "There is an ndarray method called nonzero and a numpy method with this name. The two functions are equivalent.\n",
      "\n",
      "For an ndarray a both numpy.nonzero(a) and a.nonzero() return the indices of the elements of a that are non-zero. The indices are returned as a tuple of arrays, one for each dimension of 'a'. The corresponding non-zero values can be obtained with:\n",
      "    \n",
      "<code>a[numpy.nonzero(a)]</code>"
     ]
    },
    {
     "cell_type": "code",
     "collapsed": false,
     "input": [
      "import numpy as np\n",
      "\n",
      "a = np.array([[0, 2, 3, 0, 1],\n",
      "              [1, 0, 0, 7, 0],\n",
      "              [5, 0, 0, 1, 0]])\n",
      "\n",
      "print(a.nonzero())"
     ],
     "language": "python",
     "metadata": {},
     "outputs": [
      {
       "output_type": "stream",
       "stream": "stdout",
       "text": [
        "(array([0, 0, 0, 1, 1, 2, 2]), array([1, 2, 4, 0, 3, 0, 3]))\n"
       ]
      }
     ],
     "prompt_number": 2
    },
    {
     "cell_type": "markdown",
     "metadata": {},
     "source": [
      "If you want to group the indices by element, you can use transpose:\n",
      "    \n",
      "<code>transpose(nonzero(a))</code>\n",
      "    \n",
      "A two-dimensional array is returned. Every row corresponds to a non-zero element."
     ]
    },
    {
     "cell_type": "code",
     "collapsed": false,
     "input": [
      "np.transpose(a.nonzero()) "
     ],
     "language": "python",
     "metadata": {},
     "outputs": [
      {
       "metadata": {},
       "output_type": "pyout",
       "prompt_number": 3,
       "text": [
        "array([[0, 1],\n",
        "       [0, 2],\n",
        "       [0, 4],\n",
        "       [1, 0],\n",
        "       [1, 3],\n",
        "       [2, 0],\n",
        "       [2, 3]])"
       ]
      }
     ],
     "prompt_number": 3
    },
    {
     "cell_type": "markdown",
     "metadata": {},
     "source": [
      "The corresponding non-zero values can be retrieved with:"
     ]
    },
    {
     "cell_type": "code",
     "collapsed": false,
     "input": [
      " a[a.nonzero()]"
     ],
     "language": "python",
     "metadata": {},
     "outputs": [
      {
       "metadata": {},
       "output_type": "pyout",
       "prompt_number": 4,
       "text": [
        "array([2, 3, 1, 1, 7, 5, 1])"
       ]
      }
     ],
     "prompt_number": 4
    },
    {
     "cell_type": "markdown",
     "metadata": {},
     "source": [
      "The function 'nonzero' can be used to obtain the indices of an array, where a condition is True.\n",
      "In the following script, we create the Boolean array B >= 42:"
     ]
    },
    {
     "cell_type": "code",
     "collapsed": false,
     "input": [
      "B = np.array([[42,56,89,65],\n",
      "              [99,88,42,12],\n",
      "              [55,42,17,18]])\n",
      "\n",
      "print(B >= 42)"
     ],
     "language": "python",
     "metadata": {},
     "outputs": [
      {
       "output_type": "stream",
       "stream": "stdout",
       "text": [
        "[[ True  True  True  True]\n",
        " [ True  True  True False]\n",
        " [ True  True False False]]\n"
       ]
      }
     ],
     "prompt_number": 63
    },
    {
     "cell_type": "markdown",
     "metadata": {},
     "source": [
      "np.nonzero(B >= 42)  yields the indices of the B where the condition is true:\n"
     ]
    },
    {
     "cell_type": "markdown",
     "metadata": {},
     "source": [
      "<br><br>\n",
      "\n",
      "####Exercise"
     ]
    },
    {
     "cell_type": "markdown",
     "metadata": {},
     "source": [
      "Calculate the prime numbers between 0 and 100 by using a Boolean array. "
     ]
    },
    {
     "cell_type": "markdown",
     "metadata": {},
     "source": [
      "<br><br>\n",
      "\n",
      "Solution:"
     ]
    },
    {
     "cell_type": "code",
     "collapsed": false,
     "input": [
      "import numpy as np\n",
      "\n",
      "is_prime = np.ones((100,), dtype=bool)\n",
      "\n",
      "# Cross out 0 and 1 which are not primes:\n",
      "is_prime[:2] = 0\n",
      "\n",
      "# cross out its higher multiples (sieve of Eratosthenes):\n",
      "nmax = int(np.sqrt(len(is_prime)))\n",
      "for i in range(2, nmax):\n",
      "    is_prime[2*i::i] = False\n",
      "\n",
      "print(np.nonzero(is_prime))"
     ],
     "language": "python",
     "metadata": {},
     "outputs": [
      {
       "output_type": "stream",
       "stream": "stdout",
       "text": [
        "(array([ 2,  3,  5,  7, 11, 13, 17, 19, 23, 29, 31, 37, 41, 43, 47, 53, 59,\n",
        "       61, 67, 71, 73, 79, 83, 89, 97]),)\n"
       ]
      }
     ],
     "prompt_number": 1
    },
    {
     "cell_type": "markdown",
     "metadata": {},
     "source": [
      "<br><br>\n",
      "\n",
      "####Flatnonzero and count_nonzero"
     ]
    },
    {
     "cell_type": "markdown",
     "metadata": {},
     "source": [
      "similar functions:\n",
      "\n",
      "- flatnonzero :\n",
      "        Return indices that are non-zero in the flattened version of the input\n",
      "        array.\n",
      " \n",
      "- count_nonzero :\n",
      "        Counts the number of non-zero elements in the input array."
     ]
    }
   ],
   "metadata": {}
  }
 ]
}