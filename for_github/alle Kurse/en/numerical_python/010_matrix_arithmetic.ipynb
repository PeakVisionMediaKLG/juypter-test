{
 "cells": [
  {
   "cell_type": "markdown",
   "metadata": {},
   "source": [
    "## Matrix Multiplicaion, Dot and Cross Product\n",
    "\n",
    "\n",
    "<img width=\"30%\" class=\"imgright\" src=\"../images/abacus.webp\" alt=\"Abacus\">\n",
    "\n",
    "Distorted Abacus In the previous chapter of our introduction in NumPy we have demonstrated how to create and change Arrays. In this chapter we want to show, how we can perform in Python with the module NumPy all the basic Matrix Arithmetics like\n",
    "\n",
    "- Matrix addition\n",
    "- Matrix subtraction\n",
    "- Matrix multiplication\n",
    "- Scalar product\n",
    "- Cross product\n",
    "- and lots of other operations on matrices\n",
    "\n",
    "\n",
    "\n",
    "The arithemtic standard Operators\n",
    "\n",
    "- +\n",
    "- -\n",
    "- *\n",
    "- /\n",
    "- **\n",
    "- %\n",
    "\n",
    "are applied on the elements, this means that the arrays have to have the same size.\n",
    "\n"
   ]
  },
  {
   "cell_type": "code",
   "execution_count": 2,
   "metadata": {},
   "outputs": [
    {
     "data": {
      "text/plain": [
       "array([8, 9, 3])"
      ]
     },
     "execution_count": 2,
     "metadata": {},
     "output_type": "execute_result"
    }
   ],
   "source": [
    "import numpy as np\n",
    "\n",
    "x = np.array([1, 5, 2])\n",
    "y = np.array([7, 4, 1])\n",
    "x + y"
   ]
  },
  {
   "cell_type": "code",
   "execution_count": 3,
   "metadata": {},
   "outputs": [
    {
     "data": {
      "text/plain": [
       "array([ 7, 20,  2])"
      ]
     },
     "execution_count": 3,
     "metadata": {},
     "output_type": "execute_result"
    }
   ],
   "source": [
    "x * y"
   ]
  },
  {
   "cell_type": "code",
   "execution_count": null,
   "metadata": {},
   "outputs": [],
   "source": [
    "x - y"
   ]
  },
  {
   "cell_type": "code",
   "execution_count": 4,
   "metadata": {},
   "outputs": [
    {
     "data": {
      "text/plain": [
       "array([0.14285714, 1.25      , 2.        ])"
      ]
     },
     "execution_count": 4,
     "metadata": {},
     "output_type": "execute_result"
    }
   ],
   "source": [
    "x / y"
   ]
  },
  {
   "cell_type": "code",
   "execution_count": 5,
   "metadata": {},
   "outputs": [
    {
     "data": {
      "text/plain": [
       "array([1, 1, 0])"
      ]
     },
     "execution_count": 5,
     "metadata": {},
     "output_type": "execute_result"
    }
   ],
   "source": [
    "x % y"
   ]
  },
  {
   "cell_type": "markdown",
   "metadata": {},
   "source": [
    "### Vector Addition and Subtraction\n",
    "\n",
    "<img class=\"imgright\" src=\"../images/vector_addition.webp\" srcset=\"../images/vector_addition_400w.webp 400w,../images/vector_addition_350w.webp 350w,../images/vector_addition_300w.webp 300w\" alt=\"Graphical Example of Vector Addition\">  \n",
    "Many people know vector addition and subtraction from physics, to be exact from the \n",
    "parallelogram of forces. It is a method for solving (or visualizing) the results of \n",
    "applying two forces to an object. \n",
    "<br><br>\n",
    "The addition of two vectors, in our example (see picture) x and y, may be represented \n",
    "graphically by placing the start of the arrow y at the tip of the arrow x, and then \n",
    "drawing an arrow from the start (tail) of x to the tip (head) of y. \n",
    "The new arrow drawn represents the vector x + y\n",
    "\n"
   ]
  },
  {
   "cell_type": "code",
   "execution_count": 6,
   "metadata": {},
   "outputs": [
    {
     "data": {
      "text/plain": [
       "array([8, 3])"
      ]
     },
     "execution_count": 6,
     "metadata": {},
     "output_type": "execute_result"
    }
   ],
   "source": [
    "x = np.array([3, 2])\n",
    "y = np.array([5, 1])\n",
    "z = x + y\n",
    "z"
   ]
  },
  {
   "cell_type": "markdown",
   "metadata": {},
   "source": [
    "<img class=\"imgright\" src=\"../images/vector_subtraction.webp\" srcset=\"../images/vector_subtraction_350w.webp 350w,../images/vector_subtraction_300w.webp 300w\" alt=\"Graphical Example of Vector Subtraction\">\n",
    "Subtracting a vector is the same as adding its negative. So, the difference of the vectors x and y is equal to the sum of x and -y:\n",
    "x - y = x + (-y)\n",
    "Subtraction of two vectors can be geometrically defined as follows: to subtract y from x, we place the end points of x and y at the same point, and then draw an arrow from the tip of y to the tip of x. That arrow represents the vector x - y, see picture on the right side.\n",
    "\n",
    "Mathematically, we subtract the corresponding components of vector y from the vector x. "
   ]
  },
  {
   "cell_type": "markdown",
   "metadata": {},
   "source": [
    "### Scalar Product / Dot Product\n",
    "\n",
    "In mathematics, the dot product is an algebraic operation that takes two coordinate vectors of \n",
    "equal size and returns a single number. The result is calculated by multiplying corresponding \n",
    "entries and adding up those products. \n",
    "The name \"dot product\" stems from the fact that the centered dot \"·\" is often used to designate \n",
    "this operation. The name \"scalar product\" focusses on the scalar nature of the result.\n",
    " of the result.\n",
    "<br><br>\n",
    "Definition of the scalar product:\n",
    "<br><br>\n",
    "<img src=\"../images/scalar_product.webp\" alt=\"Definition of the Scalar Product\">\n",
    "<br><br>\n",
    "We can see from the definition of the scalar product that it can be used to calculate the cosine \n",
    "of the angle between two vectors. \n",
    "<br><br>\n",
    "Calculation of the scalar product:\n",
    "<br><br>\n",
    "<img src=\"../images/scalar_product1.webp\" alt=\"Calculation of the Scalar Product\">\n",
    "<br><br>\n",
    "Finally, we want to demonstrate how to calculate the scalar product in Python:\n"
   ]
  },
  {
   "cell_type": "code",
   "execution_count": 9,
   "metadata": {},
   "outputs": [
    {
     "data": {
      "text/plain": [
       "36"
      ]
     },
     "execution_count": 9,
     "metadata": {},
     "output_type": "execute_result"
    }
   ],
   "source": [
    "x = np.array([1, 2, 3])\n",
    "y = np.array([-7, 8, 9])\n",
    "np.dot(x, y)"
   ]
  },
  {
   "cell_type": "code",
   "execution_count": 10,
   "metadata": {},
   "outputs": [
    {
     "data": {
      "text/plain": [
       "0.808233789010825"
      ]
     },
     "execution_count": 10,
     "metadata": {},
     "output_type": "execute_result"
    }
   ],
   "source": [
    "dot = np.dot(x ,y)\n",
    "x_modulus = np.sqrt((x*x).sum())\n",
    "y_modulus = np.sqrt((y*y).sum())\n",
    "cos_angle = dot / x_modulus / y_modulus # cosine of angle between x and y\n",
    "angle = np.arccos(cos_angle)\n",
    "angle"
   ]
  },
  {
   "cell_type": "code",
   "execution_count": 11,
   "metadata": {},
   "outputs": [
    {
     "data": {
      "text/plain": [
       "46.308384970187326"
      ]
     },
     "execution_count": 11,
     "metadata": {},
     "output_type": "execute_result"
    }
   ],
   "source": [
    "angle * 360 / 2 / np.pi # angle in degrees"
   ]
  },
  {
   "cell_type": "code",
   "execution_count": null,
   "metadata": {},
   "outputs": [],
   "source": [
    "36\n",
    ">>> dot = np.dot(x,y)\n",
    ">>> x_modulus = np.sqrt((x*x).sum())\n",
    ">>> y_modulus = np.sqrt((y*y).sum())\n",
    ">>> cos_angle = dot / x_modulus / y_modulus # cosine of angle between x and y\n",
    ">>> angle = np.arccos(cos_angle)\n",
    ">>> angle\n",
    "0.80823378901082499\n",
    ">>> angle * 360 / 2 / np.pi # angle in degrees"
   ]
  },
  {
   "cell_type": "markdown",
   "metadata": {},
   "source": [
    "### Matrix Product\n",
    "\n",
    "The matrix product of two matrices can be calculated if the number of columns of the left\n",
    "matrix is equal to the number of rows of the second or right matrix. \n",
    "<br>\n",
    "The product of a (l x m)-matrix A = (a<sub>ij</sub>)<sub>i=1...l, j= 1..m</sub>  and an \n",
    "(m x n)-matrix B = (b<sub>ij</sub>)<sub>i=1...m, j= 1..n</sub>  is a matrix \n",
    "C = (c<sub>ij</sub>)<sub>i=1...l, j= 1..n</sub>, which is calculated like this:\n",
    "<br><br>\n",
    "<img src=\"../images/matrix_product.webp\" alt=\"Matrix Product\">\n",
    "<br><br>\n",
    "The following picture illustrates it further:\n",
    "<br>\n",
    "<img src=\"../images/matrix_product2.webp\" alt=\"Matrix Product Illustration\" width=\"95%\">\n",
    "<br><br>\n",
    "If we want to perform matrix multiplication with two numpy arrays (ndarray), we have to use the \n",
    "dot product:"
   ]
  },
  {
   "cell_type": "code",
   "execution_count": 12,
   "metadata": {},
   "outputs": [
    {
     "name": "stdout",
     "output_type": "stream",
     "text": [
      "[[17  1]\n",
      " [28  1]]\n"
     ]
    }
   ],
   "source": [
    "x = np.array( ((2,3), (3, 5)) )\n",
    "y = np.matrix( ((1,2), (5, -1)) )\n",
    "print(np.dot(x,y))"
   ]
  },
  {
   "cell_type": "markdown",
   "metadata": {},
   "source": [
    "### Simple Practical Application for Matrix Multiplication\n",
    "\n",
    "<img class=\"imgright\" src=\"../images/pralinen.webp\" alt=\"Chocolates\">\n",
    "In the following practical example, we come to talk about the sweet things of life. <br>\n",
    "Let's assume there are four people, and we call them Lucas, Mia, Leon and Hannah. Each of\n",
    "them has bought chocolates out of a choice of three. The brand are A, B and C, not very\n",
    "marketable, we have to admit. Lucas bought 100 g of brand A, 175 g of brand B and 210 of C.\n",
    "Mia choose 90 g of A, 160 g of B and 150 g of C. Leon bought 200 g of A, 50 of B and\n",
    "100 g of C. Hannah apparently didn't like brand B, because she hadn't bought any of those. But she\n",
    "she seems to be a real fan of brand C, because she bought 310 g of them. Furthermore she \n",
    "bought 120 g of A.<br><br>\n",
    "So, what's the price in Euro of these chocolates: A costs 2.98 per 100 g, B costs 3.90 and C only \n",
    "1.99 Euro.\n",
    "<br><br> \n",
    "If we have to calculate how much each of them had to pay, we can use Python, NumPy and Matrix \n",
    "multiplication:\n",
    "<br>"
   ]
  },
  {
   "cell_type": "code",
   "execution_count": 2,
   "metadata": {},
   "outputs": [
    {
     "data": {
      "text/plain": [
       "array([13.984, 11.907,  9.9  ,  9.745])"
      ]
     },
     "execution_count": 2,
     "metadata": {},
     "output_type": "execute_result"
    }
   ],
   "source": [
    "import numpy as np\n",
    "NumPersons = np.array([[100, 175, 210],\n",
    "                       [90, 160, 150],\n",
    "                       [200, 50, 100],\n",
    "                       [120, 0, 310]])\n",
    "Price_per_100_g = np.array([2.98, 3.90, 1.99])\n",
    "Price_in_Cent = np.dot(NumPersons,Price_per_100_g)\n",
    "Price_in_Euro = Price_in_Cent / 100\n",
    "Price_in_Euro\n"
   ]
  },
  {
   "cell_type": "markdown",
   "metadata": {},
   "source": [
    "### Cross Product\n",
    "\n",
    "<img class=\"imgright\" src=\"../images/Cross_product_vector.webp\" srcset=\"../images/Cross_product_vector_300w.webp 300w\" alt=\"Vector cross product diagram\">\n",
    "Let's stop consuming delicious chocolates and come back to a more mathematical and less \n",
    "high-calorie topic, i.e. the cross product.\n",
    "<br><br>\n",
    "The cross product or vector product is a binary operation on two vectors in three-dimensional\n",
    "space. The result is a vector which is perpendicular to the vectors being multiplied and \n",
    "normal to the plane containing them. \n",
    "<br><br>\n",
    "The cross product of two vectors a and b is denoted by a × b.\n",
    "<br><br>\n",
    "It's defined as:\n",
    "<br><br>\n",
    "<img src=\"../images/cross_product_definition.webp\" alt=\"Cross Product Definition\">\n",
    "<br>\n",
    "where n is a unit vector perpendicular to the plane containing a and b in the direction \n",
    "given by the right-hand rule.\n",
    "<br><br>\n",
    "If either of the vectors being multiplied is zero or the vectors are parallel then their \n",
    "cross product is zero. More generally, the magnitude of the product equals the area of a \n",
    "parallelogram with the vectors as sides. If the vectors are perpendicular the parallelogram \n",
    "is a rectangle and the magnitude of the product is the product of their lengths. \n"
   ]
  },
  {
   "cell_type": "code",
   "execution_count": 17,
   "metadata": {},
   "outputs": [
    {
     "data": {
      "text/plain": [
       "array([-1,  0,  0])"
      ]
     },
     "execution_count": 17,
     "metadata": {},
     "output_type": "execute_result"
    }
   ],
   "source": [
    "x = np.array([0, 0, 1])\n",
    "y = np.array([0, 1, 0])\n",
    "\n",
    "np.cross(x, y)"
   ]
  },
  {
   "cell_type": "code",
   "execution_count": 18,
   "metadata": {},
   "outputs": [
    {
     "data": {
      "text/plain": [
       "array([1, 0, 0])"
      ]
     },
     "execution_count": 18,
     "metadata": {},
     "output_type": "execute_result"
    }
   ],
   "source": [
    "np.cross(y, x)"
   ]
  }
 ],
 "metadata": {
  "kernelspec": {
   "display_name": "Python 3",
   "language": "python",
   "name": "python3"
  },
  "language_info": {
   "codemirror_mode": {
    "name": "ipython",
    "version": 3
   },
   "file_extension": ".py",
   "mimetype": "text/x-python",
   "name": "python",
   "nbconvert_exporter": "python",
   "pygments_lexer": "ipython3",
   "version": "3.7.6"
  }
 },
 "nbformat": 4,
 "nbformat_minor": 4
}
