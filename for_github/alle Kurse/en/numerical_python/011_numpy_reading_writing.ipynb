{
 "cells": [
  {
   "cell_type": "markdown",
   "metadata": {},
   "source": [
    "<br><br>\n",
    "\n",
    "## Reading and Writing Data Files "
   ]
  },
  {
   "cell_type": "markdown",
   "metadata": {},
   "source": [
    "<img class=\"imgright\" width=\"40%\" src=\"../images/scrabble.webp\" srcset=\"../images/scrabble_400w.webp 400w,../images/scrabble_350w.webp 350w,../images/scrabble_300w.webp 300w\" alt=\"Scrabble with the Text Numpy, read, write, array\" />\n",
    "\n",
    "There are lots of ways for reading from file and writing to data files in numpy. We will discuss the different ways and corresponding functions in this chapter:\n",
    "\n",
    "- savetxt\n",
    "- loadtxt\n",
    "- tofile\n",
    "- fromfile\n",
    "- save\n",
    "- load\n",
    "- genfromtxt\n",
    "\n",
    "\n",
    "\n",
    "\n",
    "<br>\n",
    "\n",
    "### Saving textfiles with savetxt\n",
    "\n",
    "The first two functions we will cover are savetxt and loadtxt.\n",
    "\n",
    "In the following simple example, we define an array x and save it as a textfile with savetxt:"
   ]
  },
  {
   "cell_type": "code",
   "execution_count": 7,
   "metadata": {},
   "outputs": [],
   "source": [
    "import numpy as np\n",
    "\n",
    "x = np.array([[1, 2, 3], \n",
    "              [4, 5, 6],\n",
    "              [7, 8, 9]], np.int32)\n",
    "\n",
    "np.savetxt(\"test.txt\", x)"
   ]
  },
  {
   "cell_type": "markdown",
   "metadata": {},
   "source": [
    "The file \"test.txt\" is a textfile and its content looks like this:\n",
    "\n",
    "<pre>\n",
    "bernd@andromeda:~/Dropbox/notebooks/numpy$ more test.txt\n",
    "1.000000000000000000e+00 2.000000000000000000e+00 3.000000000000000000e+00\n",
    "4.000000000000000000e+00 5.000000000000000000e+00 6.000000000000000000e+00\n",
    "7.000000000000000000e+00 8.000000000000000000e+00 9.000000000000000000e+00\n",
    "</pre>\n",
    "\n",
    "Attention: The above output has been created on the Linux command prompt!\n",
    "\n",
    "It's also possible to print the array in a special format, like for example with three decimal places or as integers, which are preceded with leading blanks, if the number of digits is less than 4 digits. For this purpose we assign a format string to the third parameter 'fmt'. We saw in our first example that the default delimeter is a blank. We can change this behaviour by assigning a string to the parameter \"delimiter\". In most cases this string will consist solely of a single character but it can be a sequence of character, like a smiley \" :-) \" as well: \n"
   ]
  },
  {
   "cell_type": "code",
   "execution_count": 8,
   "metadata": {},
   "outputs": [],
   "source": [
    "np.savetxt(\"test2.txt\", x, fmt=\"%2.3f\", delimiter=\",\")\n",
    "np.savetxt(\"test3.txt\", x, fmt=\"%04d\", delimiter=\" :-) \")"
   ]
  },
  {
   "cell_type": "markdown",
   "metadata": {},
   "source": [
    "The newly created files look like this:\n",
    "\n",
    "<pre>\n",
    "bernd@andromeda:~/Dropbox/notebooks/numpy$ more test2.txt \n",
    "1.000,2.000,3.000\n",
    "4.000,5.000,6.000\n",
    "7.000,8.000,9.000\n",
    "bernd@andromeda:~/Dropbox/notebooks/numpy$ more test3.txt \n",
    "0001 :-) 0002 :-) 0003\n",
    "0004 :-) 0005 :-) 0006\n",
    "0007 :-) 0008 :-) 0009\n",
    "</pre>"
   ]
  },
  {
   "cell_type": "markdown",
   "metadata": {},
   "source": [
    "The complete syntax of savetxt looks like this:\n",
    "\n",
    "\n",
    "<pre>\n",
    "savetxt(fname, X, fmt='%.18e', delimiter=' ', newline='\\n', header='', footer='', comments='# ')\n",
    "</pre>\n",
    "\n",
    "    \n",
    "\n",
    "                "
   ]
  },
  {
   "cell_type": "markdown",
   "metadata": {},
   "source": [
    "| Parameter  |  Meaning |\n",
    "|------------|----------|\n",
    "| X | array_like Data to be saved to a text file.|\n",
    "| fmt | str or sequence of strs, optional<br> A single format (%10.5f), a sequence of formats, or a multi-format string, e.g. 'Iteration %d -- %10.5f', in which case 'delimiter' is ignored. For complex 'X', the legal options for 'fmt' are:<br> a) a single specifier, \"fmt='%.4e'\", resulting in numbers formatted      like \"' (%s+%sj)' % (fmt, fmt)\"<br>b) a full string specifying every real and imaginary part, e.g. \"' %.4e %+.4j %.4e %+.4j %.4e %+.4j'\" for 3 columns<br>c) a list of specifiers, one per column - in this case, the real and imaginary part must have separate specifiers,  e.g. \"['%.3e + %.3ej', '(%.15e%+.15ej)']\" for 2 columns|\n",
    "| delimiter | A string used for separating the columns.|\n",
    "| newline | A string (e.g. \"\\n\", \"\\r\\n\" or \",\\n\") which will end a line instead of the default line ending|\n",
    "| header | A String that will be written at the beginning of the file.|\n",
    "| footer | A String that will be written at the end of the file.|\n",
    "| comments | A String that will be prepended to the 'header' and 'footer' strings, to mark them as comments. The hash tag '#' is used as the default. |\n"
   ]
  },
  {
   "cell_type": "markdown",
   "metadata": {},
   "source": [
    "<br>\n",
    "\n",
    "### Loading Textfiles with loadtxt\n",
    "\n",
    "We will read in now the file \"test.txt\", which we have written in our previous subchapter:"
   ]
  },
  {
   "cell_type": "code",
   "execution_count": 9,
   "metadata": {},
   "outputs": [
    {
     "name": "stdout",
     "output_type": "stream",
     "text": [
      "[[ 1.  2.  3.]\n",
      " [ 4.  5.  6.]\n",
      " [ 7.  8.  9.]]\n"
     ]
    }
   ],
   "source": [
    "y = np.loadtxt(\"test.txt\")\n",
    "print(y)"
   ]
  },
  {
   "cell_type": "code",
   "execution_count": 10,
   "metadata": {},
   "outputs": [
    {
     "name": "stdout",
     "output_type": "stream",
     "text": [
      "[[ 1.  2.  3.]\n",
      " [ 4.  5.  6.]\n",
      " [ 7.  8.  9.]]\n"
     ]
    }
   ],
   "source": [
    "y = np.loadtxt(\"test2.txt\", delimiter=\",\")\n",
    "print(y)"
   ]
  },
  {
   "cell_type": "markdown",
   "metadata": {},
   "source": [
    "Nothing new, if we read in our text, in which we used a smiley to separator:"
   ]
  },
  {
   "cell_type": "code",
   "execution_count": 11,
   "metadata": {},
   "outputs": [
    {
     "name": "stdout",
     "output_type": "stream",
     "text": [
      "[[ 1.  2.  3.]\n",
      " [ 4.  5.  6.]\n",
      " [ 7.  8.  9.]]\n"
     ]
    }
   ],
   "source": [
    "y = np.loadtxt(\"test3.txt\", delimiter=\" :-) \")\n",
    "print(y)"
   ]
  },
  {
   "cell_type": "markdown",
   "metadata": {},
   "source": [
    "It's also possible to choose the columns by index: "
   ]
  },
  {
   "cell_type": "code",
   "execution_count": 12,
   "metadata": {},
   "outputs": [
    {
     "name": "stdout",
     "output_type": "stream",
     "text": [
      "[[ 1.  3.]\n",
      " [ 4.  6.]\n",
      " [ 7.  9.]]\n"
     ]
    }
   ],
   "source": [
    "y = np.loadtxt(\"test3.txt\", delimiter=\" :-) \", usecols=(0,2))\n",
    "print(y)"
   ]
  },
  {
   "cell_type": "markdown",
   "metadata": {},
   "source": [
    "We will read in our next example the file \"times_and_temperatures.txt\", which we have created in our chapter on [Generators](python3_generators.php) of our Python tutorial. Every line contains a time in the format  \"hh::mm::ss\" and random temperatures between 10.0 and 25.0 degrees. We have to convert the time string into float numbers. The time will be in minutes with seconds in the hundred. We define first a function which converts   \"hh::mm::ss\" into minutes:"
   ]
  },
  {
   "cell_type": "code",
   "execution_count": 28,
   "metadata": {},
   "outputs": [
    {
     "name": "stdout",
     "output_type": "stream",
     "text": [
      "360.1666666666667\n",
      "387.75\n",
      "779.9833333333333\n"
     ]
    }
   ],
   "source": [
    "def time2float_minutes(time):\n",
    "    if type(time) == bytes:\n",
    "        time = time.decode()\n",
    "    t = time.split(\":\")\n",
    "    minutes = float(t[0])*60 + float(t[1]) + float(t[2]) * 0.05 / 3\n",
    "    return minutes\n",
    "\n",
    "for t in [\"06:00:10\", \"06:27:45\", \"12:59:59\"]:\n",
    "    print(time2float_minutes(t))\n"
   ]
  },
  {
   "cell_type": "markdown",
   "metadata": {},
   "source": [
    "You might have noticed that we check the type of time for binary. The reason for this is the use of our function \"time2float_minutes in loadtxt in the following example. The keyword parameter converters contains a dictionary which can hold a function for a column (the key of the column corresponds to the key of the dictionary) to convert the string data of this column into a float. The string data is a byte string. That is why we had to transfer it into a a unicode string in our function:"
   ]
  },
  {
   "cell_type": "code",
   "execution_count": 29,
   "metadata": {},
   "outputs": [
    {
     "name": "stdout",
     "output_type": "stream",
     "text": [
      "[[  360.     20.1]\n",
      " [  361.5    16.1]\n",
      " [  363.     16.9]\n",
      " ..., \n",
      " [ 1375.5    22.5]\n",
      " [ 1377.     11.1]\n",
      " [ 1378.5    15.2]]\n"
     ]
    }
   ],
   "source": [
    "y = np.loadtxt(\"times_and_temperatures.txt\", \n",
    "               converters={ 0: time2float_minutes})\n",
    "print(y)"
   ]
  },
  {
   "cell_type": "code",
   "execution_count": 15,
   "metadata": {},
   "outputs": [],
   "source": [
    "# delimiter = \";\" , # i.e. use \";\" as delimiter instead of whitespace "
   ]
  },
  {
   "cell_type": "markdown",
   "metadata": {},
   "source": [
    "<br>\n",
    "\n",
    "### tofile"
   ]
  },
  {
   "cell_type": "markdown",
   "metadata": {},
   "source": [
    "tofile is a function to write the content of an array to a file both in binary, which is the default, and text format.\n",
    "\n",
    "<code>A.tofile(fid, sep=\"\", format=\"%s\")</code>\n",
    "\n",
    "The data of the A ndarry is always written in 'C' order, regardless of the order of A. \n",
    "\n",
    "The data file written by this method can be reloaded with the function <code>fromfile()</code>.\n",
    "\n",
    "| Parameter  |  Meaning |\n",
    "|------------|----------|\n",
    "|fid         | can be either an open file object, or a string containing a filename.|\n",
    "|sep | The string 'sep' defines the separator between array items for text output. If it is empty (''), a binary file is written, equivalent to file.write(a.tostring()).|\n",
    "|format | Format string for text file output. Each entry in the array is formatted to text by first converting it to the closest Python type, and then using 'format' % item.|\n",
    "\n",
    "<b>Remark:</b>\n",
    "\n",
    "Information on endianness and precision is lost. Therefore it may not be a good idea to use the function to archive data or transport data between machines with different endianness. Some of these problems can be overcome by outputting the data as text files, at the expense of speed and file size."
   ]
  },
  {
   "cell_type": "code",
   "execution_count": 16,
   "metadata": {},
   "outputs": [
    {
     "name": "stdout",
     "output_type": "stream",
     "text": [
      "[((10, 0), 98.25)]\n"
     ]
    }
   ],
   "source": [
    "dt = np.dtype([('time', [('min', int), ('sec', int)]),\n",
    "               ('temp', float)])\n",
    "x = np.zeros((1,), dtype=dt)\n",
    "x['time']['min'] = 10\n",
    "x['temp'] = 98.25\n",
    "print(x)\n",
    "\n",
    "fh = open(\"test6.txt\", \"bw\")\n",
    "x.tofile(fh)"
   ]
  },
  {
   "cell_type": "markdown",
   "metadata": {},
   "source": [
    "<br>\n",
    "\n",
    "### fromfile"
   ]
  },
  {
   "cell_type": "markdown",
   "metadata": {},
   "source": [
    "<code>fromfile</code> to read in data, which has been written with the <code>tofile</code> function. It's possible to read binary data, if the data type is known. It's also possible to parse simply formatted text files. The data from the file is turned into an array.\n",
    "\n",
    "The general syntax looks like this:\n",
    "\n",
    "<code>numpy.fromfile(file, dtype=float, count=-1, sep='')</code>\n",
    "\n",
    "\n",
    "| Parameter  |  Meaning |\n",
    "|------------|----------|\n",
    "| file | 'file' can be either a file object or the name of the file to read. |\n",
    "| dtype | defines the data type of the array, which will be constructed from the file data. For binary files, it is used to determine the size and byte-order of the items in the file.|\n",
    "| count | defines the number of items, which will be read. -1 means all items will be read.|\n",
    "| sep | The string 'sep' defines the separator between the items, if the file is a text file. If it is empty (''), the file will be treated as a binary file. A space (\" \") in a separator matches zero or more whitespace characters. A separator consisting solely of spaces has to match at least one whitespace."
   ]
  },
  {
   "cell_type": "code",
   "execution_count": 17,
   "metadata": {},
   "outputs": [
    {
     "data": {
      "text/plain": [
       "array([((4294967296, 12884901890), 1.0609978957e-313),\n",
       "       ((30064771078, 38654705672), 2.33419537056e-313),\n",
       "       ((55834574860, 64424509454), 3.60739284543e-313),\n",
       "       ((81604378642, 90194313236), 4.8805903203e-313),\n",
       "       ((107374182424, 115964117018), 6.1537877952e-313),\n",
       "       ((133143986206, 141733920800), 7.42698527006e-313),\n",
       "       ((158913789988, 167503724582), 8.70018274493e-313),\n",
       "       ((184683593770, 193273528364), 9.9733802198e-313)], \n",
       "      dtype=[('time', [('min', '<i8'), ('sec', '<i8')]), ('temp', '<f8')])"
      ]
     },
     "execution_count": 17,
     "metadata": {},
     "output_type": "execute_result"
    }
   ],
   "source": [
    "fh = open(\"test4.txt\", \"rb\")\n",
    "\n",
    "np.fromfile(fh, dtype=dt)\n"
   ]
  },
  {
   "cell_type": "code",
   "execution_count": 18,
   "metadata": {},
   "outputs": [
    {
     "name": "stdout",
     "output_type": "stream",
     "text": [
      "[32 33 34 35 36 37 38 39 40 41 42 43 44 45 46 47 48 49]\n"
     ]
    }
   ],
   "source": [
    "import numpy as np\n",
    "import os\n",
    "\n",
    "# platform dependent: difference between Linux and Windows\n",
    "#data = np.arange(50, dtype=np.int)\n",
    "\n",
    "data = np.arange(50, dtype=np.int32)\n",
    "data.tofile(\"test4.txt\")\n",
    "\n",
    "fh = open(\"test4.txt\", \"rb\")\n",
    "# 4 * 32 = 128\n",
    "fh.seek(128, os.SEEK_SET)\n",
    "\n",
    "x = np.fromfile(fh, dtype=np.int32)\n",
    "print(x)"
   ]
  },
  {
   "cell_type": "markdown",
   "metadata": {},
   "source": [
    "<b>Attention:</b>\n",
    "\n",
    "It can cause problems to use <code>tofile</code> and <code>fromfile</code> for data storage, because the binary files generated are not platform independent. There is no byte-order or data-type information saved by <code>tofile</code>. Data can be stored in the platform independent .npy format using save and load instead."
   ]
  },
  {
   "cell_type": "markdown",
   "metadata": {},
   "source": [
    "<br><br>\n",
    "\n",
    "### Best Practice to Load and Save Data"
   ]
  },
  {
   "cell_type": "markdown",
   "metadata": {},
   "source": [
    "The recommended way to store and load data with Numpy in Python consists in using load and save. We also use a temporary file in the following :"
   ]
  },
  {
   "cell_type": "code",
   "execution_count": 19,
   "metadata": {},
   "outputs": [
    {
     "name": "stdout",
     "output_type": "stream",
     "text": [
      "[32 33 34 35 36 37 38 39 40 41 42 43 44 45 46 47 48 49]\n"
     ]
    },
    {
     "data": {
      "text/plain": [
       "array([0, 1, 2, 3, 4, 5, 6, 7, 8, 9])"
      ]
     },
     "execution_count": 19,
     "metadata": {},
     "output_type": "execute_result"
    }
   ],
   "source": [
    "import numpy as np\n",
    "\n",
    "print(x)\n",
    "\n",
    "from tempfile import TemporaryFile\n",
    "\n",
    "outfile = TemporaryFile()\n",
    "\n",
    "x = np.arange(10)\n",
    "np.save(outfile, x)\n",
    "\n",
    "outfile.seek(0) # Only needed here to simulate closing & reopening file\n",
    "np.load(outfile)\n",
    "\n"
   ]
  },
  {
   "cell_type": "markdown",
   "metadata": {},
   "source": [
    "<br><br>\n",
    "\n",
    "### and yet another way: genfromtxt"
   ]
  },
  {
   "cell_type": "markdown",
   "metadata": {},
   "source": [
    "There is yet another way to read tabular input from file to create arrays. As the name implies, the input file is supposed to be a text file. The text file can be in the form of an archive file as well. genfromtxt can process the archive formats gzip and bzip2. The type of the archive is determined by the extension of the file, i.e. '.gz' for gzip and bz2' for an bzip2.\n",
    "\n",
    "genfromtxt is slower than loadtxt, but it is capable of coping with missing data. It processes the file data in two passes. At first it converts the lines of the file into strings. Thereupon it converts the strings into the requested data type. loadtxt on the other hand works in one go, which is the reason, why it is faster.\n",
    "\n"
   ]
  },
  {
   "cell_type": "markdown",
   "metadata": {},
   "source": [
    "<br><br>\n",
    "\n",
    "### recfromcsv(fname, **kwargs)\n",
    "\n",
    "This is not really another way to read in csv data. 'recfromcsv' basically a shortcut for \n",
    "\n",
    "np.genfromtxt(filename, delimiter=\",\", dtype=None)"
   ]
  }
 ],
 "metadata": {
  "kernelspec": {
   "display_name": "Python 3",
   "language": "python",
   "name": "python3"
  },
  "language_info": {
   "codemirror_mode": {
    "name": "ipython",
    "version": 3
   },
   "file_extension": ".py",
   "mimetype": "text/x-python",
   "name": "python",
   "nbconvert_exporter": "python",
   "pygments_lexer": "ipython3",
   "version": "3.7.1"
  },
  "toc": {
   "base_numbering": 1,
   "nav_menu": {},
   "number_sections": true,
   "sideBar": true,
   "skip_h1_title": false,
   "title_cell": "Table of Contents",
   "title_sidebar": "Contents",
   "toc_cell": false,
   "toc_position": {},
   "toc_section_display": true,
   "toc_window_display": false
  }
 },
 "nbformat": 4,
 "nbformat_minor": 2
}
