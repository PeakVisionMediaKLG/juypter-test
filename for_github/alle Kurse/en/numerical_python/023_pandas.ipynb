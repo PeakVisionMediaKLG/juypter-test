{
 "cells": [
  {
   "cell_type": "markdown",
   "metadata": {},
   "source": [
    "# Introduction into Pandas"
   ]
  },
  {
   "cell_type": "markdown",
   "metadata": {},
   "source": [
    "<img width=300 class=\"imgright\" src=\"../images/pandas.webp\" srcset=\"../images/pandas_400w.webp 400w,../images/pandas_350w.webp 350w,../images/pandas_300w.webp 300w\" alt=\"Playing Pandas\" />\n",
    "\n",
    "The pandas we are writing about in this chapter have nothing to do with the cute panda bears. Endearing bears are not what our visitors expect in a Python tutorial.\n",
    "Pandas is the name for a Python module, which is rounding up the capabilities of Numpy, Scipy and Matplotlab. The word pandas is an acronym which is derived from \"Python and data analysis\" and \"panel data\". \n",
    "\n",
    "\n",
    "There is often some confusion about whether Pandas is an alternative to Numpy, SciPy and Matplotlib. The truth is that it is built on top of Numpy. This means that Numpy is required by pandas. Scipy and Matplotlib on the other hand are not required by pandas but they are extremely useful. That's why the Pandas project lists them as \"optional dependency\". \n",
    "\n",
    "\n",
    "Pandas is a software library written for the Python programming language. It is used for data manipulation and analysis. It provides special data structures and operations for the manipulation of numerical tables and time series. Pandas is free software released under the three-clause BSD license."
   ]
  },
  {
   "cell_type": "markdown",
   "metadata": {},
   "source": [
    "## Data Structures"
   ]
  },
  {
   "cell_type": "markdown",
   "metadata": {},
   "source": [
    "We will start with the following two important data structures of Pandas:\n",
    "\n",
    "- Series and\n",
    "- DataFrame"
   ]
  },
  {
   "cell_type": "markdown",
   "metadata": {},
   "source": [
    "### Series"
   ]
  },
  {
   "cell_type": "markdown",
   "metadata": {},
   "source": [
    "A Series is a one-dimensional labelled array-like object. It is capable  of holding any data type, e.g. integers, floats,  strings, Python objects, and so on. It can be seen as a data structure with two arrays: one functioning as the index, i.e. the labels, and the other one contains the actual data.  \n",
    "\n",
    "We define a simple Series object in the following example by instantiating a Pandas Series object with a list. We will later see that we can use other data objects for example Numpy arrays and  dictionaries as well to instantiate a Series object."
   ]
  },
  {
   "cell_type": "code",
   "execution_count": 2,
   "metadata": {},
   "outputs": [
    {
     "data": {
      "text/plain": [
       "0    11\n",
       "1    28\n",
       "2    72\n",
       "3     3\n",
       "4     5\n",
       "5     8\n",
       "dtype: int64"
      ]
     },
     "execution_count": 2,
     "metadata": {},
     "output_type": "execute_result"
    }
   ],
   "source": [
    "import pandas as pd\n",
    "S = pd.Series([11, 28, 72, 3, 5, 8])\n",
    "S"
   ]
  },
  {
   "cell_type": "markdown",
   "metadata": {},
   "source": [
    "We haven't defined an index in our example, but we see two columns in our output: The right column contains our data, whereas the left column contains the index. Pandas created a default index starting with 0 going to 5, which is the length of the data minus 1.\n",
    "\n",
    "We can directly access the index and the values of our Series S:\n"
   ]
  },
  {
   "cell_type": "code",
   "execution_count": 3,
   "metadata": {},
   "outputs": [
    {
     "name": "stdout",
     "output_type": "stream",
     "text": [
      "RangeIndex(start=0, stop=6, step=1)\n",
      "[11 28 72  3  5  8]\n"
     ]
    }
   ],
   "source": [
    "print(S.index)\n",
    "print(S.values)"
   ]
  },
  {
   "cell_type": "markdown",
   "metadata": {},
   "source": [
    "If we compare this to creating an array in numpy, we will find  lots of similarities:\n",
    "    "
   ]
  },
  {
   "cell_type": "code",
   "execution_count": 4,
   "metadata": {},
   "outputs": [
    {
     "name": "stdout",
     "output_type": "stream",
     "text": [
      "[11 28 72  3  5  8]\n",
      "[11 28 72  3  5  8]\n",
      "<class 'numpy.ndarray'> <class 'numpy.ndarray'>\n"
     ]
    }
   ],
   "source": [
    "import numpy as np\n",
    "X = np.array([11, 28, 72, 3, 5, 8])\n",
    "print(X)\n",
    "print(S.values)\n",
    "# both are the same type:\n",
    "print(type(S.values), type(X))"
   ]
  },
  {
   "cell_type": "markdown",
   "metadata": {},
   "source": [
    "So far our Series have not been very different to ndarrays of Numpy. This changes, as soon as we start defining Series objects with individual indices:"
   ]
  },
  {
   "cell_type": "code",
   "execution_count": 5,
   "metadata": {},
   "outputs": [
    {
     "data": {
      "text/plain": [
       "apples      20\n",
       "oranges     33\n",
       "cherries    52\n",
       "pears       10\n",
       "dtype: int64"
      ]
     },
     "execution_count": 5,
     "metadata": {},
     "output_type": "execute_result"
    }
   ],
   "source": [
    "fruits = ['apples', 'oranges', 'cherries', 'pears']\n",
    "quantities = [20, 33, 52, 10]\n",
    "S = pd.Series(quantities, index=fruits)\n",
    "S"
   ]
  },
  {
   "cell_type": "markdown",
   "metadata": {},
   "source": [
    "A big advantage to NumPy arrays is obvious from the previous example: We can use arbitrary indices.\n",
    "\n",
    "If we add two series with the same indices, we get a new series with the same index and the correponding values will be added:"
   ]
  },
  {
   "cell_type": "code",
   "execution_count": 6,
   "metadata": {},
   "outputs": [
    {
     "name": "stdout",
     "output_type": "stream",
     "text": [
      "apples      37\n",
      "oranges     46\n",
      "cherries    83\n",
      "pears       42\n",
      "dtype: int64\n",
      "sum of S:  115\n"
     ]
    }
   ],
   "source": [
    "fruits = ['apples', 'oranges', 'cherries', 'pears']\n",
    "\n",
    "S = pd.Series([20, 33, 52, 10], index=fruits)\n",
    "S2 = pd.Series([17, 13, 31, 32], index=fruits)\n",
    "print(S + S2)\n",
    "print(\"sum of S: \", sum(S))"
   ]
  },
  {
   "cell_type": "markdown",
   "metadata": {},
   "source": [
    "The indices do not have to be the same for the Series addition. The index will be the \"union\" of both indices. If an index doesn't occur in both Series, the value for this Series will be NaN:"
   ]
  },
  {
   "cell_type": "code",
   "execution_count": 7,
   "metadata": {},
   "outputs": [
    {
     "name": "stdout",
     "output_type": "stream",
     "text": [
      "cherries       83.0\n",
      "oranges        46.0\n",
      "peaches         NaN\n",
      "pears          42.0\n",
      "raspberries     NaN\n",
      "dtype: float64\n"
     ]
    }
   ],
   "source": [
    "fruits = ['peaches', 'oranges', 'cherries', 'pears']\n",
    "fruits2 = ['raspberries', 'oranges', 'cherries', 'pears']\n",
    "\n",
    "S = pd.Series([20, 33, 52, 10], index=fruits)\n",
    "S2 = pd.Series([17, 13, 31, 32], index=fruits2)\n",
    "print(S + S2)\n"
   ]
  },
  {
   "cell_type": "markdown",
   "metadata": {},
   "source": [
    "In principle, the indices can  be completely different, as in the following example. We have two indices. One is the Turkish translation of the English fruit names:"
   ]
  },
  {
   "cell_type": "code",
   "execution_count": 41,
   "metadata": {},
   "outputs": [
    {
     "name": "stdout",
     "output_type": "stream",
     "text": [
      "apples     NaN\n",
      "armut      NaN\n",
      "cherries   NaN\n",
      "elma       NaN\n",
      "kiraz      NaN\n",
      "oranges    NaN\n",
      "pears      NaN\n",
      "portakal   NaN\n",
      "dtype: float64\n"
     ]
    }
   ],
   "source": [
    "fruits = ['apples', 'oranges', 'cherries', 'pears']\n",
    "\n",
    "fruits_tr = ['elma', 'portakal', 'kiraz', 'armut']\n",
    "\n",
    "S = pd.Series([20, 33, 52, 10], index=fruits)\n",
    "S2 = pd.Series([17, 13, 31, 32], index=fruits_tr)\n",
    "print(S + S2)"
   ]
  },
  {
   "cell_type": "markdown",
   "metadata": {},
   "source": [
    "#### Indexing\n",
    "\n",
    "It's possible to access single values of a Series."
   ]
  },
  {
   "cell_type": "code",
   "execution_count": 37,
   "metadata": {},
   "outputs": [
    {
     "name": "stdout",
     "output_type": "stream",
     "text": [
      "20\n"
     ]
    }
   ],
   "source": [
    "print(S['apples'])"
   ]
  },
  {
   "cell_type": "markdown",
   "metadata": {},
   "source": [
    "This lookes like accessing the values of dictionaries through keys. \n",
    "\n",
    "However, Series objects can also be accessed by multiple indexes at the same time. This can be done by packing the indexes into a list. This type of access returns a Pandas Series again:"
   ]
  },
  {
   "cell_type": "code",
   "execution_count": 43,
   "metadata": {},
   "outputs": [
    {
     "name": "stdout",
     "output_type": "stream",
     "text": [
      "apples      20\n",
      "oranges     33\n",
      "cherries    52\n",
      "dtype: int64\n"
     ]
    }
   ],
   "source": [
    "print(S[['apples', 'oranges', 'cherries']])"
   ]
  },
  {
   "cell_type": "markdown",
   "metadata": {},
   "source": [
    "Similar to Numpy we can use scalar operations or mathematical functions on a series:"
   ]
  },
  {
   "cell_type": "code",
   "execution_count": 11,
   "metadata": {},
   "outputs": [
    {
     "name": "stdout",
     "output_type": "stream",
     "text": [
      "apples       92\n",
      "oranges     144\n",
      "cherries    220\n",
      "pears        52\n",
      "dtype: int64\n",
      "======================\n",
      "apples      0.912945\n",
      "oranges     0.999912\n",
      "cherries    0.986628\n",
      "pears      -0.544021\n",
      "dtype: float64\n"
     ]
    }
   ],
   "source": [
    "import numpy as np\n",
    "print((S + 3) * 4)\n",
    "print(\"======================\")\n",
    "print(np.sin(S))"
   ]
  },
  {
   "cell_type": "markdown",
   "metadata": {},
   "source": [
    "#### pandas.Series.apply"
   ]
  },
  {
   "cell_type": "markdown",
   "metadata": {},
   "source": [
    "Series.apply(func, convert_dtype=True, args=(), **kwds)\n",
    "\n",
    "The function \"func\" will be applied to the Series and it returns either a Series or a DataFrame, depending on \"func\".\n",
    "\n",
    "| Parameter  |  Meaning |\n",
    "|------------|----------|\n",
    "| func       | a function, which can be a NumPy function that will be applied to the entire Series or a Python function that will be applied to every single value of the series|\n",
    "| convert_dtype | A boolean value. If it is set to True (default), apply will try to find better dtype for elementwise function results. If False, leave as dtype=object\n",
    "|args | Positional arguments which will be passed to the function \"func\" additionally to the values from the series.|\n",
    "| **kwds |Additional keyword arguments will be passed as keywords to the function|\n",
    "\n",
    "\n",
    "Example:"
   ]
  },
  {
   "cell_type": "code",
   "execution_count": 44,
   "metadata": {},
   "outputs": [
    {
     "data": {
      "text/plain": [
       "apples      2.995732\n",
       "oranges     3.496508\n",
       "cherries    3.951244\n",
       "pears       2.302585\n",
       "dtype: float64"
      ]
     },
     "execution_count": 44,
     "metadata": {},
     "output_type": "execute_result"
    }
   ],
   "source": [
    "S.apply(np.log)"
   ]
  },
  {
   "cell_type": "markdown",
   "metadata": {},
   "source": [
    "We can also use Python lambda functions. Let's assume, we have the following task. The test the amount of fruit for every kind. If there are less than 50 available, we will augment the stock by 10:"
   ]
  },
  {
   "cell_type": "code",
   "execution_count": 13,
   "metadata": {},
   "outputs": [
    {
     "data": {
      "text/plain": [
       "apples      30\n",
       "oranges     43\n",
       "cherries    52\n",
       "pears       20\n",
       "dtype: int64"
      ]
     },
     "execution_count": 13,
     "metadata": {},
     "output_type": "execute_result"
    }
   ],
   "source": [
    "S.apply(lambda x: x if x > 50 else x+10 )"
   ]
  },
  {
   "cell_type": "markdown",
   "metadata": {},
   "source": [
    "#### Filtering with a Boolean array\n",
    "\n",
    "Similar to numpy arrays, we can filter Pandas Series with a Boolean array:"
   ]
  },
  {
   "cell_type": "code",
   "execution_count": 14,
   "metadata": {},
   "outputs": [
    {
     "data": {
      "text/plain": [
       "oranges     33\n",
       "cherries    52\n",
       "dtype: int64"
      ]
     },
     "execution_count": 14,
     "metadata": {},
     "output_type": "execute_result"
    }
   ],
   "source": [
    "S[S>30]"
   ]
  },
  {
   "cell_type": "markdown",
   "metadata": {},
   "source": [
    "A series can be seen as an ordered Python dictionary with a fixed length."
   ]
  },
  {
   "cell_type": "code",
   "execution_count": 15,
   "metadata": {},
   "outputs": [
    {
     "data": {
      "text/plain": [
       "True"
      ]
     },
     "execution_count": 15,
     "metadata": {},
     "output_type": "execute_result"
    }
   ],
   "source": [
    "\"apples\" in S"
   ]
  },
  {
   "cell_type": "markdown",
   "metadata": {},
   "source": [
    "#### Creating Series Objects from Dictionaries\n",
    "\n",
    "We can even use a dictionary to create a Series object. The resulting Series contains the  dict's keys as the indices and the values as the values."
   ]
  },
  {
   "cell_type": "code",
   "execution_count": 46,
   "metadata": {},
   "outputs": [
    {
     "name": "stdout",
     "output_type": "stream",
     "text": [
      "London       8615246\n",
      "Berlin       3562166\n",
      "Madrid       3165235\n",
      "Rome         2874038\n",
      "Paris        2273305\n",
      "Vienna       1805681\n",
      "Bucharest    1803425\n",
      "Hamburg      1760433\n",
      "Budapest     1754000\n",
      "Warsaw       1740119\n",
      "Barcelona    1602386\n",
      "Munich       1493900\n",
      "Milan        1350680\n",
      "dtype: int64\n"
     ]
    }
   ],
   "source": [
    "cities = {\"London\":    8615246, \n",
    "          \"Berlin\":    3562166, \n",
    "          \"Madrid\":    3165235, \n",
    "          \"Rome\":      2874038, \n",
    "          \"Paris\":     2273305, \n",
    "          \"Vienna\":    1805681, \n",
    "          \"Bucharest\": 1803425, \n",
    "          \"Hamburg\":   1760433,\n",
    "          \"Budapest\":  1754000,\n",
    "          \"Warsaw\":    1740119,\n",
    "          \"Barcelona\": 1602386,\n",
    "          \"Munich\":    1493900,\n",
    "          \"Milan\":     1350680}\n",
    "\n",
    "city_series = pd.Series(cities)\n",
    "print(city_series)"
   ]
  },
  {
   "cell_type": "markdown",
   "metadata": {},
   "source": [
    "### NaN - Missing Data\n",
    "\n",
    "<img width=400 class=\"imgright\" src=\"../images/missing_data.webp\" srcset=\"../images/missing_data_800w.webp 800w,../images/missing_data_700w.webp 700w,../images/missing_data_600w.webp 600w,../images/missing_data_500w.webp 500w,../images/missing_data_400w.webp 400w,../images/missing_data_350w.webp 350w,../images/missing_data_300w.webp 300w\" alt=\"Playing Pandas\" />\n",
    "\n",
    "One problem in dealing with data analysis tasks consists in missing data. Pandas makes it as easy as possible to work with missing data. \n",
    "\n",
    "If we look once more at our previous example, we can see that the index of our series is the same as the keys of the dictionary we used to create the cities_series. Now, we want to use an index which is not overlapping with the dictionary keys. We have already seen that we can pass a list or a tuple to the keyword argument 'index' to define the index. In our next example, the list (or tuple) passed to the keyword parameter 'index' will not be equal to the keys. This means that some cities from the dictionary will be missing and two cities (\"Zurich\" and \"Stuttgart\") don't occur in the dictionary."
   ]
  },
  {
   "cell_type": "code",
   "execution_count": 17,
   "metadata": {},
   "outputs": [
    {
     "data": {
      "text/plain": [
       "London       8615246.0\n",
       "Paris        2273305.0\n",
       "Zurich             NaN\n",
       "Berlin       3562166.0\n",
       "Stuttgart          NaN\n",
       "Hamburg      1760433.0\n",
       "dtype: float64"
      ]
     },
     "execution_count": 17,
     "metadata": {},
     "output_type": "execute_result"
    }
   ],
   "source": [
    "my_cities = [\"London\", \"Paris\", \"Zurich\", \"Berlin\", \n",
    "             \"Stuttgart\", \"Hamburg\"]\n",
    "\n",
    "my_city_series = pd.Series(cities, \n",
    "                           index=my_cities)\n",
    "my_city_series\n"
   ]
  },
  {
   "cell_type": "markdown",
   "metadata": {},
   "source": [
    "Due to the Nan values the population values for the other cities are turned into floats.\n",
    "There is no missing data in the following examples, so the values are int:"
   ]
  },
  {
   "cell_type": "code",
   "execution_count": 18,
   "metadata": {},
   "outputs": [
    {
     "data": {
      "text/plain": [
       "London     8615246\n",
       "Paris      2273305\n",
       "Berlin     3562166\n",
       "Hamburg    1760433\n",
       "dtype: int64"
      ]
     },
     "execution_count": 18,
     "metadata": {},
     "output_type": "execute_result"
    }
   ],
   "source": [
    "my_cities = [\"London\", \"Paris\", \"Berlin\", \"Hamburg\"]\n",
    "\n",
    "my_city_series = pd.Series(cities, \n",
    "                           index=my_cities)\n",
    "my_city_series"
   ]
  },
  {
   "cell_type": "markdown",
   "metadata": {},
   "source": [
    "#### The Methods isnull() and notnull()\n",
    "\n",
    "We can see, that the cities, which are not included in the dictionary, get the value NaN assigned. NaN stands for \"not a number\". It can also be seen as meaning \"missing\" in our example.\n",
    "\n",
    "We can check for missing values with the methods isnull and notnull:"
   ]
  },
  {
   "cell_type": "code",
   "execution_count": 19,
   "metadata": {},
   "outputs": [
    {
     "name": "stdout",
     "output_type": "stream",
     "text": [
      "London       False\n",
      "Paris        False\n",
      "Zurich        True\n",
      "Berlin       False\n",
      "Stuttgart     True\n",
      "Hamburg      False\n",
      "dtype: bool\n"
     ]
    }
   ],
   "source": [
    "my_cities = [\"London\", \"Paris\", \"Zurich\", \"Berlin\", \n",
    "             \"Stuttgart\", \"Hamburg\"]\n",
    "\n",
    "my_city_series = pd.Series(cities, \n",
    "                           index=my_cities)\n",
    "print(my_city_series.isnull())"
   ]
  },
  {
   "cell_type": "code",
   "execution_count": 20,
   "metadata": {},
   "outputs": [
    {
     "name": "stdout",
     "output_type": "stream",
     "text": [
      "London        True\n",
      "Paris         True\n",
      "Zurich       False\n",
      "Berlin        True\n",
      "Stuttgart    False\n",
      "Hamburg       True\n",
      "dtype: bool\n"
     ]
    }
   ],
   "source": [
    "print(my_city_series.notnull())"
   ]
  },
  {
   "cell_type": "markdown",
   "metadata": {},
   "source": [
    "#### Connection between NaN and None\n",
    "\n",
    "We get also a NaN, if a value in the dictionary has a None:"
   ]
  },
  {
   "cell_type": "code",
   "execution_count": 21,
   "metadata": {},
   "outputs": [
    {
     "name": "stdout",
     "output_type": "stream",
     "text": [
      "a    23.0\n",
      "b    45.0\n",
      "c     NaN\n",
      "d     0.0\n",
      "dtype: float64\n"
     ]
    }
   ],
   "source": [
    "d = {\"a\":23, \"b\":45, \"c\":None, \"d\":0}\n",
    "S = pd.Series(d)\n",
    "print(S)"
   ]
  },
  {
   "cell_type": "code",
   "execution_count": 22,
   "metadata": {},
   "outputs": [
    {
     "data": {
      "text/plain": [
       "a    False\n",
       "b    False\n",
       "c     True\n",
       "d    False\n",
       "dtype: bool"
      ]
     },
     "execution_count": 22,
     "metadata": {},
     "output_type": "execute_result"
    }
   ],
   "source": [
    "pd.isnull(S)"
   ]
  },
  {
   "cell_type": "code",
   "execution_count": 23,
   "metadata": {},
   "outputs": [
    {
     "data": {
      "text/plain": [
       "a     True\n",
       "b     True\n",
       "c    False\n",
       "d     True\n",
       "dtype: bool"
      ]
     },
     "execution_count": 23,
     "metadata": {},
     "output_type": "execute_result"
    }
   ],
   "source": [
    "pd.notnull(S)"
   ]
  },
  {
   "cell_type": "markdown",
   "metadata": {},
   "source": [
    "#### Filtering out Missing Data\n",
    "\n",
    "It's possible to filter out  missing data with the Series method dropna.\n",
    "It returns a Series which consists only of non-null data:"
   ]
  },
  {
   "cell_type": "code",
   "execution_count": 24,
   "metadata": {},
   "outputs": [
    {
     "name": "stdout",
     "output_type": "stream",
     "text": [
      "London     8615246.0\n",
      "Paris      2273305.0\n",
      "Berlin     3562166.0\n",
      "Hamburg    1760433.0\n",
      "dtype: float64\n"
     ]
    }
   ],
   "source": [
    "print(my_city_series.dropna())"
   ]
  },
  {
   "cell_type": "markdown",
   "metadata": {},
   "source": [
    "#### Filling in Missing Data\n",
    "\n",
    "In many cases you don't want to filter out missing data, but you want to fill in appropriate data for the empty gaps. A suitable method in many situations will be fillna:"
   ]
  },
  {
   "cell_type": "code",
   "execution_count": 25,
   "metadata": {},
   "outputs": [
    {
     "name": "stdout",
     "output_type": "stream",
     "text": [
      "London       8615246.0\n",
      "Paris        2273305.0\n",
      "Zurich             0.0\n",
      "Berlin       3562166.0\n",
      "Stuttgart          0.0\n",
      "Hamburg      1760433.0\n",
      "dtype: float64\n"
     ]
    }
   ],
   "source": [
    "print(my_city_series.fillna(0))"
   ]
  },
  {
   "cell_type": "markdown",
   "metadata": {},
   "source": [
    "Okay, that's not what we call \"fill in appropriate data for the empty gaps\". If we call fillna with a dict, we can provide the appropriate data, i.e. the population of Zurich and Stuttgart:"
   ]
  },
  {
   "cell_type": "code",
   "execution_count": 26,
   "metadata": {},
   "outputs": [
    {
     "data": {
      "text/plain": [
       "London       8615246.0\n",
       "Paris        2273305.0\n",
       "Zurich        378884.0\n",
       "Berlin       3562166.0\n",
       "Stuttgart     597939.0\n",
       "Hamburg      1760433.0\n",
       "dtype: float64"
      ]
     },
     "execution_count": 26,
     "metadata": {},
     "output_type": "execute_result"
    }
   ],
   "source": [
    "missing_cities = {\"Stuttgart\":597939, \"Zurich\":378884}\n",
    "my_city_series.fillna(missing_cities)"
   ]
  },
  {
   "cell_type": "markdown",
   "metadata": {},
   "source": [
    "We still have the problem that integer values - which means values which should be integers like number of people - are converted to float as soon as we have NaN values. We can solve this problem now with the method 'fillna':"
   ]
  },
  {
   "cell_type": "code",
   "execution_count": 27,
   "metadata": {},
   "outputs": [
    {
     "name": "stdout",
     "output_type": "stream",
     "text": [
      "London       8615246\n",
      "Paris        2273305\n",
      "Zurich             0\n",
      "Berlin       3562166\n",
      "Stuttgart          0\n",
      "Hamburg      1760433\n",
      "dtype: int64\n"
     ]
    }
   ],
   "source": [
    "cities = {\"London\":   8615246, \n",
    "          \"Berlin\":   3562166, \n",
    "          \"Madrid\":   3165235, \n",
    "          \"Rome\":     2874038, \n",
    "          \"Paris\":    2273305, \n",
    "          \"Vienna\":   1805681, \n",
    "          \"Bucharest\":1803425, \n",
    "          \"Hamburg\":  1760433,\n",
    "          \"Budapest\": 1754000,\n",
    "          \"Warsaw\":   1740119,\n",
    "          \"Barcelona\":1602386,\n",
    "          \"Munich\":   1493900,\n",
    "          \"Milan\":    1350680}\n",
    "\n",
    "my_cities = [\"London\", \"Paris\", \"Zurich\", \"Berlin\", \n",
    "             \"Stuttgart\", \"Hamburg\"]\n",
    "\n",
    "my_city_series = pd.Series(cities, \n",
    "                           index=my_cities)\n",
    "my_city_series = my_city_series.fillna(0).astype(int)\n",
    "print(my_city_series)"
   ]
  }
 ],
 "metadata": {
  "anaconda-cloud": {},
  "kernelspec": {
   "display_name": "Python 3",
   "language": "python",
   "name": "python3"
  },
  "language_info": {
   "codemirror_mode": {
    "name": "ipython",
    "version": 3
   },
   "file_extension": ".py",
   "mimetype": "text/x-python",
   "name": "python",
   "nbconvert_exporter": "python",
   "pygments_lexer": "ipython3",
   "version": "3.7.3"
  }
 },
 "nbformat": 4,
 "nbformat_minor": 2
}
