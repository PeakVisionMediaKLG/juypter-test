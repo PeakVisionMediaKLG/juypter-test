{
 "cells": [
  {
   "cell_type": "markdown",
   "metadata": {},
   "source": [
    "### DataFrame"
   ]
  },
  {
   "cell_type": "markdown",
   "metadata": {},
   "source": [
    "<img width=300 class=\"imgright\" src=\"../images/spreadsheet.webp\" srcset=\"../images/spreadsheet_300w.webp 300w\" alt=\"Playing Pandas\" />\n",
    "\n",
    "The underlying idea of a DataFrame is based on spreadsheets. We can see the data structure of a DataFrame as tabular and spreadsheet-like. A DataFrame logically corresponds to a \"sheet\" of an Excel document. A DataFrame has both a row and a column index.\n",
    "\n",
    "Like a spreadsheet or Excel sheet, a DataFrame object contains an ordered collection of columns. Each column consists of a unique data typye, but different columns can have different types, e.g. the first column may consist of integers, while the second one consists of boolean values and so on. \n",
    "\n",
    "There is a close connection between the DataFrames and the Series of Pandas. A DataFrame can be seen as a concatenation of Series, each Series having the same index, i.e. the index of the DataFrame. \n",
    "\n",
    "We will demonstrate this in the following example.\n",
    "\n",
    "We define the following three Series:\n"
   ]
  },
  {
   "cell_type": "code",
   "execution_count": 1,
   "metadata": {},
   "outputs": [],
   "source": [
    "import pandas as pd\n",
    "\n",
    "years = range(2014, 2018)\n",
    "\n",
    "shop1 = pd.Series([2409.14, 2941.01, 3496.83, 3119.55], index=years)\n",
    "shop2 = pd.Series([1203.45, 3441.62, 3007.83, 3619.53], index=years)\n",
    "shop3 = pd.Series([3412.12, 3491.16, 3457.19, 1963.10], index=years)"
   ]
  },
  {
   "cell_type": "markdown",
   "metadata": {},
   "source": [
    "What happens, if we concatenate these \"shop\" Series? Pandas provides a concat function for this purpose:"
   ]
  },
  {
   "cell_type": "code",
   "execution_count": 2,
   "metadata": {},
   "outputs": [
    {
     "data": {
      "text/plain": [
       "2014    2409.14\n",
       "2015    2941.01\n",
       "2016    3496.83\n",
       "2017    3119.55\n",
       "2014    1203.45\n",
       "2015    3441.62\n",
       "2016    3007.83\n",
       "2017    3619.53\n",
       "2014    3412.12\n",
       "2015    3491.16\n",
       "2016    3457.19\n",
       "2017    1963.10\n",
       "dtype: float64"
      ]
     },
     "execution_count": 2,
     "metadata": {},
     "output_type": "execute_result"
    }
   ],
   "source": [
    "pd.concat([shop1, shop2, shop3])"
   ]
  },
  {
   "cell_type": "markdown",
   "metadata": {},
   "source": [
    "This result is not what we have intended or expected. The reason is that concat used 0 as the default for the axis parameter. Let's do it with \"axis=1\":"
   ]
  },
  {
   "cell_type": "code",
   "execution_count": 3,
   "metadata": {},
   "outputs": [
    {
     "data": {
      "text/html": [
       "<div>\n",
       "<style scoped>\n",
       "    .dataframe tbody tr th:only-of-type {\n",
       "        vertical-align: middle;\n",
       "    }\n",
       "\n",
       "    .dataframe tbody tr th {\n",
       "        vertical-align: top;\n",
       "    }\n",
       "\n",
       "    .dataframe thead th {\n",
       "        text-align: right;\n",
       "    }\n",
       "</style>\n",
       "<table border=\"1\" class=\"dataframe\">\n",
       "  <thead>\n",
       "    <tr style=\"text-align: right;\">\n",
       "      <th></th>\n",
       "      <th>0</th>\n",
       "      <th>1</th>\n",
       "      <th>2</th>\n",
       "    </tr>\n",
       "  </thead>\n",
       "  <tbody>\n",
       "    <tr>\n",
       "      <th>2014</th>\n",
       "      <td>2409.14</td>\n",
       "      <td>1203.45</td>\n",
       "      <td>3412.12</td>\n",
       "    </tr>\n",
       "    <tr>\n",
       "      <th>2015</th>\n",
       "      <td>2941.01</td>\n",
       "      <td>3441.62</td>\n",
       "      <td>3491.16</td>\n",
       "    </tr>\n",
       "    <tr>\n",
       "      <th>2016</th>\n",
       "      <td>3496.83</td>\n",
       "      <td>3007.83</td>\n",
       "      <td>3457.19</td>\n",
       "    </tr>\n",
       "    <tr>\n",
       "      <th>2017</th>\n",
       "      <td>3119.55</td>\n",
       "      <td>3619.53</td>\n",
       "      <td>1963.10</td>\n",
       "    </tr>\n",
       "  </tbody>\n",
       "</table>\n",
       "</div>"
      ],
      "text/plain": [
       "            0        1        2\n",
       "2014  2409.14  1203.45  3412.12\n",
       "2015  2941.01  3441.62  3491.16\n",
       "2016  3496.83  3007.83  3457.19\n",
       "2017  3119.55  3619.53  1963.10"
      ]
     },
     "execution_count": 3,
     "metadata": {},
     "output_type": "execute_result"
    }
   ],
   "source": [
    "shops_df = pd.concat([shop1, shop2, shop3], axis=1)\n",
    "shops_df"
   ]
  },
  {
   "cell_type": "markdown",
   "metadata": {},
   "source": [
    "Let's do some fine sanding by giving names to the columns:"
   ]
  },
  {
   "cell_type": "code",
   "execution_count": 4,
   "metadata": {},
   "outputs": [
    {
     "name": "stdout",
     "output_type": "stream",
     "text": [
      "       Zürich  Winterthur  Freiburg\n",
      "2014  2409.14     1203.45   3412.12\n",
      "2015  2941.01     3441.62   3491.16\n",
      "2016  3496.83     3007.83   3457.19\n",
      "2017  3119.55     3619.53   1963.10\n",
      "------\n",
      "       Zürich  Winterthur  Freiburg\n",
      "2014  2409.14     1203.45   3412.12\n",
      "2015  2941.01     3441.62   3491.16\n",
      "2016  3496.83     3007.83   3457.19\n",
      "2017  3119.55     3619.53   1963.10\n"
     ]
    }
   ],
   "source": [
    "cities = [\"Zürich\", \"Winterthur\", \"Freiburg\"]\n",
    "shops_df.columns = cities \n",
    "print(shops_df)\n",
    "\n",
    "# alternative way: give names to series:\n",
    "shop1.name = \"Zürich\"\n",
    "shop2.name = \"Winterthur\"\n",
    "shop3.name = \"Freiburg\"\n",
    "\n",
    "print(\"------\")\n",
    "shops_df2 = pd.concat([shop1, shop2, shop3], axis=1)\n",
    "print(shops_df2)"
   ]
  },
  {
   "cell_type": "markdown",
   "metadata": {},
   "source": [
    "This was nice, but what kind of data type is our result? "
   ]
  },
  {
   "cell_type": "code",
   "execution_count": 5,
   "metadata": {},
   "outputs": [
    {
     "name": "stdout",
     "output_type": "stream",
     "text": [
      "<class 'pandas.core.frame.DataFrame'>\n"
     ]
    }
   ],
   "source": [
    "print(type(shops_df))"
   ]
  },
  {
   "cell_type": "markdown",
   "metadata": {},
   "source": [
    "This means, we can arrange or concat Series into DataFrames!"
   ]
  },
  {
   "cell_type": "markdown",
   "metadata": {},
   "source": [
    "#### DataFrames from Dictionaries\n",
    "\n",
    "A DataFrame has a row and column index; it's like a dict of Series with a common index."
   ]
  },
  {
   "cell_type": "code",
   "execution_count": 6,
   "metadata": {
    "scrolled": true
   },
   "outputs": [
    {
     "data": {
      "text/html": [
       "<div>\n",
       "<style scoped>\n",
       "    .dataframe tbody tr th:only-of-type {\n",
       "        vertical-align: middle;\n",
       "    }\n",
       "\n",
       "    .dataframe tbody tr th {\n",
       "        vertical-align: top;\n",
       "    }\n",
       "\n",
       "    .dataframe thead th {\n",
       "        text-align: right;\n",
       "    }\n",
       "</style>\n",
       "<table border=\"1\" class=\"dataframe\">\n",
       "  <thead>\n",
       "    <tr style=\"text-align: right;\">\n",
       "      <th></th>\n",
       "      <th>name</th>\n",
       "      <th>population</th>\n",
       "      <th>country</th>\n",
       "    </tr>\n",
       "  </thead>\n",
       "  <tbody>\n",
       "    <tr>\n",
       "      <th>0</th>\n",
       "      <td>London</td>\n",
       "      <td>8615246</td>\n",
       "      <td>England</td>\n",
       "    </tr>\n",
       "    <tr>\n",
       "      <th>1</th>\n",
       "      <td>Berlin</td>\n",
       "      <td>3562166</td>\n",
       "      <td>Germany</td>\n",
       "    </tr>\n",
       "    <tr>\n",
       "      <th>2</th>\n",
       "      <td>Madrid</td>\n",
       "      <td>3165235</td>\n",
       "      <td>Spain</td>\n",
       "    </tr>\n",
       "    <tr>\n",
       "      <th>3</th>\n",
       "      <td>Rome</td>\n",
       "      <td>2874038</td>\n",
       "      <td>Italy</td>\n",
       "    </tr>\n",
       "    <tr>\n",
       "      <th>4</th>\n",
       "      <td>Paris</td>\n",
       "      <td>2273305</td>\n",
       "      <td>France</td>\n",
       "    </tr>\n",
       "    <tr>\n",
       "      <th>5</th>\n",
       "      <td>Vienna</td>\n",
       "      <td>1805681</td>\n",
       "      <td>Austria</td>\n",
       "    </tr>\n",
       "    <tr>\n",
       "      <th>6</th>\n",
       "      <td>Bucharest</td>\n",
       "      <td>1803425</td>\n",
       "      <td>Romania</td>\n",
       "    </tr>\n",
       "    <tr>\n",
       "      <th>7</th>\n",
       "      <td>Hamburg</td>\n",
       "      <td>1760433</td>\n",
       "      <td>Germany</td>\n",
       "    </tr>\n",
       "    <tr>\n",
       "      <th>8</th>\n",
       "      <td>Budapest</td>\n",
       "      <td>1754000</td>\n",
       "      <td>Hungary</td>\n",
       "    </tr>\n",
       "    <tr>\n",
       "      <th>9</th>\n",
       "      <td>Warsaw</td>\n",
       "      <td>1740119</td>\n",
       "      <td>Poland</td>\n",
       "    </tr>\n",
       "    <tr>\n",
       "      <th>10</th>\n",
       "      <td>Barcelona</td>\n",
       "      <td>1602386</td>\n",
       "      <td>Spain</td>\n",
       "    </tr>\n",
       "    <tr>\n",
       "      <th>11</th>\n",
       "      <td>Munich</td>\n",
       "      <td>1493900</td>\n",
       "      <td>Germany</td>\n",
       "    </tr>\n",
       "    <tr>\n",
       "      <th>12</th>\n",
       "      <td>Milan</td>\n",
       "      <td>1350680</td>\n",
       "      <td>Italy</td>\n",
       "    </tr>\n",
       "  </tbody>\n",
       "</table>\n",
       "</div>"
      ],
      "text/plain": [
       "         name  population  country\n",
       "0      London     8615246  England\n",
       "1      Berlin     3562166  Germany\n",
       "2      Madrid     3165235    Spain\n",
       "3        Rome     2874038    Italy\n",
       "4       Paris     2273305   France\n",
       "5      Vienna     1805681  Austria\n",
       "6   Bucharest     1803425  Romania\n",
       "7     Hamburg     1760433  Germany\n",
       "8    Budapest     1754000  Hungary\n",
       "9      Warsaw     1740119   Poland\n",
       "10  Barcelona     1602386    Spain\n",
       "11     Munich     1493900  Germany\n",
       "12      Milan     1350680    Italy"
      ]
     },
     "execution_count": 6,
     "metadata": {},
     "output_type": "execute_result"
    }
   ],
   "source": [
    "cities = {\"name\": [\"London\", \"Berlin\", \"Madrid\", \"Rome\", \n",
    "                   \"Paris\", \"Vienna\", \"Bucharest\", \"Hamburg\", \n",
    "                   \"Budapest\", \"Warsaw\", \"Barcelona\", \n",
    "                   \"Munich\", \"Milan\"],\n",
    "          \"population\": [8615246, 3562166, 3165235, 2874038,\n",
    "                         2273305, 1805681, 1803425, 1760433,\n",
    "                         1754000, 1740119, 1602386, 1493900,\n",
    "                         1350680],\n",
    "          \"country\": [\"England\", \"Germany\", \"Spain\", \"Italy\",\n",
    "                      \"France\", \"Austria\", \"Romania\", \n",
    "                      \"Germany\", \"Hungary\", \"Poland\", \"Spain\",\n",
    "                      \"Germany\", \"Italy\"]}\n",
    "\n",
    "city_frame = pd.DataFrame(cities)\n",
    "city_frame"
   ]
  },
  {
   "cell_type": "markdown",
   "metadata": {},
   "source": [
    "### Retrieving the Column Names\n",
    "\n",
    "It's possible to get the names of the columns as a list:"
   ]
  },
  {
   "cell_type": "code",
   "execution_count": 7,
   "metadata": {},
   "outputs": [
    {
     "data": {
      "text/plain": [
       "array(['name', 'population', 'country'], dtype=object)"
      ]
     },
     "execution_count": 7,
     "metadata": {},
     "output_type": "execute_result"
    }
   ],
   "source": [
    "city_frame.columns.values"
   ]
  },
  {
   "cell_type": "markdown",
   "metadata": {},
   "source": [
    "#### Custom Index\n",
    "\n",
    "We can see that an index (0,1,2, ...) has been automatically assigned to the DataFrame. \n",
    "We can also assign a custom index to the DataFrame object:"
   ]
  },
  {
   "cell_type": "code",
   "execution_count": 8,
   "metadata": {},
   "outputs": [
    {
     "data": {
      "text/html": [
       "<div>\n",
       "<style scoped>\n",
       "    .dataframe tbody tr th:only-of-type {\n",
       "        vertical-align: middle;\n",
       "    }\n",
       "\n",
       "    .dataframe tbody tr th {\n",
       "        vertical-align: top;\n",
       "    }\n",
       "\n",
       "    .dataframe thead th {\n",
       "        text-align: right;\n",
       "    }\n",
       "</style>\n",
       "<table border=\"1\" class=\"dataframe\">\n",
       "  <thead>\n",
       "    <tr style=\"text-align: right;\">\n",
       "      <th></th>\n",
       "      <th>name</th>\n",
       "      <th>population</th>\n",
       "      <th>country</th>\n",
       "    </tr>\n",
       "  </thead>\n",
       "  <tbody>\n",
       "    <tr>\n",
       "      <th>first</th>\n",
       "      <td>London</td>\n",
       "      <td>8615246</td>\n",
       "      <td>England</td>\n",
       "    </tr>\n",
       "    <tr>\n",
       "      <th>second</th>\n",
       "      <td>Berlin</td>\n",
       "      <td>3562166</td>\n",
       "      <td>Germany</td>\n",
       "    </tr>\n",
       "    <tr>\n",
       "      <th>third</th>\n",
       "      <td>Madrid</td>\n",
       "      <td>3165235</td>\n",
       "      <td>Spain</td>\n",
       "    </tr>\n",
       "    <tr>\n",
       "      <th>fourth</th>\n",
       "      <td>Rome</td>\n",
       "      <td>2874038</td>\n",
       "      <td>Italy</td>\n",
       "    </tr>\n",
       "    <tr>\n",
       "      <th>fifth</th>\n",
       "      <td>Paris</td>\n",
       "      <td>2273305</td>\n",
       "      <td>France</td>\n",
       "    </tr>\n",
       "    <tr>\n",
       "      <th>sixth</th>\n",
       "      <td>Vienna</td>\n",
       "      <td>1805681</td>\n",
       "      <td>Austria</td>\n",
       "    </tr>\n",
       "    <tr>\n",
       "      <th>seventh</th>\n",
       "      <td>Bucharest</td>\n",
       "      <td>1803425</td>\n",
       "      <td>Romania</td>\n",
       "    </tr>\n",
       "    <tr>\n",
       "      <th>eigth</th>\n",
       "      <td>Hamburg</td>\n",
       "      <td>1760433</td>\n",
       "      <td>Germany</td>\n",
       "    </tr>\n",
       "    <tr>\n",
       "      <th>ninth</th>\n",
       "      <td>Budapest</td>\n",
       "      <td>1754000</td>\n",
       "      <td>Hungary</td>\n",
       "    </tr>\n",
       "    <tr>\n",
       "      <th>tenth</th>\n",
       "      <td>Warsaw</td>\n",
       "      <td>1740119</td>\n",
       "      <td>Poland</td>\n",
       "    </tr>\n",
       "    <tr>\n",
       "      <th>eleventh</th>\n",
       "      <td>Barcelona</td>\n",
       "      <td>1602386</td>\n",
       "      <td>Spain</td>\n",
       "    </tr>\n",
       "    <tr>\n",
       "      <th>twelvth</th>\n",
       "      <td>Munich</td>\n",
       "      <td>1493900</td>\n",
       "      <td>Germany</td>\n",
       "    </tr>\n",
       "    <tr>\n",
       "      <th>thirteenth</th>\n",
       "      <td>Milan</td>\n",
       "      <td>1350680</td>\n",
       "      <td>Italy</td>\n",
       "    </tr>\n",
       "  </tbody>\n",
       "</table>\n",
       "</div>"
      ],
      "text/plain": [
       "                 name  population  country\n",
       "first          London     8615246  England\n",
       "second         Berlin     3562166  Germany\n",
       "third          Madrid     3165235    Spain\n",
       "fourth           Rome     2874038    Italy\n",
       "fifth           Paris     2273305   France\n",
       "sixth          Vienna     1805681  Austria\n",
       "seventh     Bucharest     1803425  Romania\n",
       "eigth         Hamburg     1760433  Germany\n",
       "ninth        Budapest     1754000  Hungary\n",
       "tenth          Warsaw     1740119   Poland\n",
       "eleventh    Barcelona     1602386    Spain\n",
       "twelvth        Munich     1493900  Germany\n",
       "thirteenth      Milan     1350680    Italy"
      ]
     },
     "execution_count": 8,
     "metadata": {},
     "output_type": "execute_result"
    }
   ],
   "source": [
    "ordinals = [\"first\", \"second\", \"third\", \"fourth\",\n",
    "            \"fifth\", \"sixth\", \"seventh\", \"eigth\",\n",
    "            \"ninth\", \"tenth\", \"eleventh\", \"twelvth\",\n",
    "            \"thirteenth\"]\n",
    "city_frame = pd.DataFrame(cities, index=ordinals)\n",
    "city_frame"
   ]
  },
  {
   "cell_type": "markdown",
   "metadata": {},
   "source": [
    "#### Rearranging the Order of Columns\n",
    "\n",
    "We can also define and rearrange the order of the columns at the time of creation of the DataFrame. This makes also sure that we will have a defined ordering of our columns, if we create the DataFrame from a dictionary. Dictionaries are not ordered, as you have seen in our chapter on [Dictionaries](python3_dictionaries.php) in our Python tutorial, so we cannot know in advance what the ordering of our columns will be:"
   ]
  },
  {
   "cell_type": "code",
   "execution_count": 9,
   "metadata": {
    "scrolled": true
   },
   "outputs": [
    {
     "data": {
      "text/html": [
       "<div>\n",
       "<style scoped>\n",
       "    .dataframe tbody tr th:only-of-type {\n",
       "        vertical-align: middle;\n",
       "    }\n",
       "\n",
       "    .dataframe tbody tr th {\n",
       "        vertical-align: top;\n",
       "    }\n",
       "\n",
       "    .dataframe thead th {\n",
       "        text-align: right;\n",
       "    }\n",
       "</style>\n",
       "<table border=\"1\" class=\"dataframe\">\n",
       "  <thead>\n",
       "    <tr style=\"text-align: right;\">\n",
       "      <th></th>\n",
       "      <th>name</th>\n",
       "      <th>country</th>\n",
       "      <th>population</th>\n",
       "    </tr>\n",
       "  </thead>\n",
       "  <tbody>\n",
       "    <tr>\n",
       "      <th>0</th>\n",
       "      <td>London</td>\n",
       "      <td>England</td>\n",
       "      <td>8615246</td>\n",
       "    </tr>\n",
       "    <tr>\n",
       "      <th>1</th>\n",
       "      <td>Berlin</td>\n",
       "      <td>Germany</td>\n",
       "      <td>3562166</td>\n",
       "    </tr>\n",
       "    <tr>\n",
       "      <th>2</th>\n",
       "      <td>Madrid</td>\n",
       "      <td>Spain</td>\n",
       "      <td>3165235</td>\n",
       "    </tr>\n",
       "    <tr>\n",
       "      <th>3</th>\n",
       "      <td>Rome</td>\n",
       "      <td>Italy</td>\n",
       "      <td>2874038</td>\n",
       "    </tr>\n",
       "    <tr>\n",
       "      <th>4</th>\n",
       "      <td>Paris</td>\n",
       "      <td>France</td>\n",
       "      <td>2273305</td>\n",
       "    </tr>\n",
       "    <tr>\n",
       "      <th>5</th>\n",
       "      <td>Vienna</td>\n",
       "      <td>Austria</td>\n",
       "      <td>1805681</td>\n",
       "    </tr>\n",
       "    <tr>\n",
       "      <th>6</th>\n",
       "      <td>Bucharest</td>\n",
       "      <td>Romania</td>\n",
       "      <td>1803425</td>\n",
       "    </tr>\n",
       "    <tr>\n",
       "      <th>7</th>\n",
       "      <td>Hamburg</td>\n",
       "      <td>Germany</td>\n",
       "      <td>1760433</td>\n",
       "    </tr>\n",
       "    <tr>\n",
       "      <th>8</th>\n",
       "      <td>Budapest</td>\n",
       "      <td>Hungary</td>\n",
       "      <td>1754000</td>\n",
       "    </tr>\n",
       "    <tr>\n",
       "      <th>9</th>\n",
       "      <td>Warsaw</td>\n",
       "      <td>Poland</td>\n",
       "      <td>1740119</td>\n",
       "    </tr>\n",
       "    <tr>\n",
       "      <th>10</th>\n",
       "      <td>Barcelona</td>\n",
       "      <td>Spain</td>\n",
       "      <td>1602386</td>\n",
       "    </tr>\n",
       "    <tr>\n",
       "      <th>11</th>\n",
       "      <td>Munich</td>\n",
       "      <td>Germany</td>\n",
       "      <td>1493900</td>\n",
       "    </tr>\n",
       "    <tr>\n",
       "      <th>12</th>\n",
       "      <td>Milan</td>\n",
       "      <td>Italy</td>\n",
       "      <td>1350680</td>\n",
       "    </tr>\n",
       "  </tbody>\n",
       "</table>\n",
       "</div>"
      ],
      "text/plain": [
       "         name  country  population\n",
       "0      London  England     8615246\n",
       "1      Berlin  Germany     3562166\n",
       "2      Madrid    Spain     3165235\n",
       "3        Rome    Italy     2874038\n",
       "4       Paris   France     2273305\n",
       "5      Vienna  Austria     1805681\n",
       "6   Bucharest  Romania     1803425\n",
       "7     Hamburg  Germany     1760433\n",
       "8    Budapest  Hungary     1754000\n",
       "9      Warsaw   Poland     1740119\n",
       "10  Barcelona    Spain     1602386\n",
       "11     Munich  Germany     1493900\n",
       "12      Milan    Italy     1350680"
      ]
     },
     "execution_count": 9,
     "metadata": {},
     "output_type": "execute_result"
    }
   ],
   "source": [
    "city_frame = pd.DataFrame(cities,\n",
    "                          columns=[\"name\", \n",
    "                                   \"country\", \n",
    "                                   \"population\"])\n",
    "city_frame"
   ]
  },
  {
   "cell_type": "markdown",
   "metadata": {},
   "source": [
    "We change both the column order and the ordering of the index with the function ```reindex``` with the following code:\n"
   ]
  },
  {
   "cell_type": "code",
   "execution_count": 10,
   "metadata": {},
   "outputs": [
    {
     "data": {
      "text/html": [
       "<div>\n",
       "<style scoped>\n",
       "    .dataframe tbody tr th:only-of-type {\n",
       "        vertical-align: middle;\n",
       "    }\n",
       "\n",
       "    .dataframe tbody tr th {\n",
       "        vertical-align: top;\n",
       "    }\n",
       "\n",
       "    .dataframe thead th {\n",
       "        text-align: right;\n",
       "    }\n",
       "</style>\n",
       "<table border=\"1\" class=\"dataframe\">\n",
       "  <thead>\n",
       "    <tr style=\"text-align: right;\">\n",
       "      <th></th>\n",
       "      <th>country</th>\n",
       "      <th>name</th>\n",
       "      <th>population</th>\n",
       "    </tr>\n",
       "  </thead>\n",
       "  <tbody>\n",
       "    <tr>\n",
       "      <th>0</th>\n",
       "      <td>England</td>\n",
       "      <td>London</td>\n",
       "      <td>8615246</td>\n",
       "    </tr>\n",
       "    <tr>\n",
       "      <th>2</th>\n",
       "      <td>Spain</td>\n",
       "      <td>Madrid</td>\n",
       "      <td>3165235</td>\n",
       "    </tr>\n",
       "    <tr>\n",
       "      <th>4</th>\n",
       "      <td>France</td>\n",
       "      <td>Paris</td>\n",
       "      <td>2273305</td>\n",
       "    </tr>\n",
       "    <tr>\n",
       "      <th>6</th>\n",
       "      <td>Romania</td>\n",
       "      <td>Bucharest</td>\n",
       "      <td>1803425</td>\n",
       "    </tr>\n",
       "    <tr>\n",
       "      <th>8</th>\n",
       "      <td>Hungary</td>\n",
       "      <td>Budapest</td>\n",
       "      <td>1754000</td>\n",
       "    </tr>\n",
       "    <tr>\n",
       "      <th>10</th>\n",
       "      <td>Spain</td>\n",
       "      <td>Barcelona</td>\n",
       "      <td>1602386</td>\n",
       "    </tr>\n",
       "    <tr>\n",
       "      <th>12</th>\n",
       "      <td>Italy</td>\n",
       "      <td>Milan</td>\n",
       "      <td>1350680</td>\n",
       "    </tr>\n",
       "    <tr>\n",
       "      <th>1</th>\n",
       "      <td>Germany</td>\n",
       "      <td>Berlin</td>\n",
       "      <td>3562166</td>\n",
       "    </tr>\n",
       "    <tr>\n",
       "      <th>3</th>\n",
       "      <td>Italy</td>\n",
       "      <td>Rome</td>\n",
       "      <td>2874038</td>\n",
       "    </tr>\n",
       "    <tr>\n",
       "      <th>5</th>\n",
       "      <td>Austria</td>\n",
       "      <td>Vienna</td>\n",
       "      <td>1805681</td>\n",
       "    </tr>\n",
       "    <tr>\n",
       "      <th>7</th>\n",
       "      <td>Germany</td>\n",
       "      <td>Hamburg</td>\n",
       "      <td>1760433</td>\n",
       "    </tr>\n",
       "    <tr>\n",
       "      <th>9</th>\n",
       "      <td>Poland</td>\n",
       "      <td>Warsaw</td>\n",
       "      <td>1740119</td>\n",
       "    </tr>\n",
       "    <tr>\n",
       "      <th>11</th>\n",
       "      <td>Germany</td>\n",
       "      <td>Munich</td>\n",
       "      <td>1493900</td>\n",
       "    </tr>\n",
       "  </tbody>\n",
       "</table>\n",
       "</div>"
      ],
      "text/plain": [
       "    country       name  population\n",
       "0   England     London     8615246\n",
       "2     Spain     Madrid     3165235\n",
       "4    France      Paris     2273305\n",
       "6   Romania  Bucharest     1803425\n",
       "8   Hungary   Budapest     1754000\n",
       "10    Spain  Barcelona     1602386\n",
       "12    Italy      Milan     1350680\n",
       "1   Germany     Berlin     3562166\n",
       "3     Italy       Rome     2874038\n",
       "5   Austria     Vienna     1805681\n",
       "7   Germany    Hamburg     1760433\n",
       "9    Poland     Warsaw     1740119\n",
       "11  Germany     Munich     1493900"
      ]
     },
     "execution_count": 10,
     "metadata": {},
     "output_type": "execute_result"
    }
   ],
   "source": [
    "city_frame.reindex(index=[0, 2, 4, 6,  8, 10, 12, 1, 3, 5, 7, 9, 11], \n",
    "                   columns=['country', 'name', 'population'])"
   ]
  },
  {
   "cell_type": "markdown",
   "metadata": {},
   "source": [
    "Now, we want to rename our columns. For this purpose, we will use the DataFrame method 'rename'. This method supports two calling conventions\n",
    "\n",
    "- (index=index_mapper, columns=columns_mapper, ...)\n",
    "- (mapper, axis={'index', 'columns'}, ...)\n",
    "\n",
    "We will rename the columns of our DataFrame into Romanian names in the following example. We set the parameter inplace to True so that our DataFrame will be changed instead of returning a new DataFrame, if inplace is set to False, which is the default!"
   ]
  },
  {
   "cell_type": "code",
   "execution_count": 11,
   "metadata": {},
   "outputs": [
    {
     "data": {
      "text/html": [
       "<div>\n",
       "<style scoped>\n",
       "    .dataframe tbody tr th:only-of-type {\n",
       "        vertical-align: middle;\n",
       "    }\n",
       "\n",
       "    .dataframe tbody tr th {\n",
       "        vertical-align: top;\n",
       "    }\n",
       "\n",
       "    .dataframe thead th {\n",
       "        text-align: right;\n",
       "    }\n",
       "</style>\n",
       "<table border=\"1\" class=\"dataframe\">\n",
       "  <thead>\n",
       "    <tr style=\"text-align: right;\">\n",
       "      <th></th>\n",
       "      <th>Soyadı</th>\n",
       "      <th>Ülke</th>\n",
       "      <th>Nüfus</th>\n",
       "    </tr>\n",
       "  </thead>\n",
       "  <tbody>\n",
       "    <tr>\n",
       "      <th>0</th>\n",
       "      <td>London</td>\n",
       "      <td>England</td>\n",
       "      <td>8615246</td>\n",
       "    </tr>\n",
       "    <tr>\n",
       "      <th>1</th>\n",
       "      <td>Berlin</td>\n",
       "      <td>Germany</td>\n",
       "      <td>3562166</td>\n",
       "    </tr>\n",
       "    <tr>\n",
       "      <th>2</th>\n",
       "      <td>Madrid</td>\n",
       "      <td>Spain</td>\n",
       "      <td>3165235</td>\n",
       "    </tr>\n",
       "    <tr>\n",
       "      <th>3</th>\n",
       "      <td>Rome</td>\n",
       "      <td>Italy</td>\n",
       "      <td>2874038</td>\n",
       "    </tr>\n",
       "    <tr>\n",
       "      <th>4</th>\n",
       "      <td>Paris</td>\n",
       "      <td>France</td>\n",
       "      <td>2273305</td>\n",
       "    </tr>\n",
       "    <tr>\n",
       "      <th>5</th>\n",
       "      <td>Vienna</td>\n",
       "      <td>Austria</td>\n",
       "      <td>1805681</td>\n",
       "    </tr>\n",
       "    <tr>\n",
       "      <th>6</th>\n",
       "      <td>Bucharest</td>\n",
       "      <td>Romania</td>\n",
       "      <td>1803425</td>\n",
       "    </tr>\n",
       "    <tr>\n",
       "      <th>7</th>\n",
       "      <td>Hamburg</td>\n",
       "      <td>Germany</td>\n",
       "      <td>1760433</td>\n",
       "    </tr>\n",
       "    <tr>\n",
       "      <th>8</th>\n",
       "      <td>Budapest</td>\n",
       "      <td>Hungary</td>\n",
       "      <td>1754000</td>\n",
       "    </tr>\n",
       "    <tr>\n",
       "      <th>9</th>\n",
       "      <td>Warsaw</td>\n",
       "      <td>Poland</td>\n",
       "      <td>1740119</td>\n",
       "    </tr>\n",
       "    <tr>\n",
       "      <th>10</th>\n",
       "      <td>Barcelona</td>\n",
       "      <td>Spain</td>\n",
       "      <td>1602386</td>\n",
       "    </tr>\n",
       "    <tr>\n",
       "      <th>11</th>\n",
       "      <td>Munich</td>\n",
       "      <td>Germany</td>\n",
       "      <td>1493900</td>\n",
       "    </tr>\n",
       "    <tr>\n",
       "      <th>12</th>\n",
       "      <td>Milan</td>\n",
       "      <td>Italy</td>\n",
       "      <td>1350680</td>\n",
       "    </tr>\n",
       "  </tbody>\n",
       "</table>\n",
       "</div>"
      ],
      "text/plain": [
       "       Soyadı     Ülke    Nüfus\n",
       "0      London  England  8615246\n",
       "1      Berlin  Germany  3562166\n",
       "2      Madrid    Spain  3165235\n",
       "3        Rome    Italy  2874038\n",
       "4       Paris   France  2273305\n",
       "5      Vienna  Austria  1805681\n",
       "6   Bucharest  Romania  1803425\n",
       "7     Hamburg  Germany  1760433\n",
       "8    Budapest  Hungary  1754000\n",
       "9      Warsaw   Poland  1740119\n",
       "10  Barcelona    Spain  1602386\n",
       "11     Munich  Germany  1493900\n",
       "12      Milan    Italy  1350680"
      ]
     },
     "execution_count": 11,
     "metadata": {},
     "output_type": "execute_result"
    }
   ],
   "source": [
    "city_frame.rename(columns={\"name\":\"Soyadı\", \n",
    "                           \"country\":\"Ülke\", \n",
    "                           \"population\":\"Nüfus\"},\n",
    "                 inplace=True)\n",
    "city_frame"
   ]
  },
  {
   "cell_type": "markdown",
   "metadata": {},
   "source": [
    "#### Existing Column as the Index of a DataFrame\n",
    "\n",
    "We want to create a more useful index in the following example. We will use the country name as the index, i.e. the list value associated to the key \"country\" of our cities dictionary:"
   ]
  },
  {
   "cell_type": "code",
   "execution_count": 12,
   "metadata": {},
   "outputs": [
    {
     "data": {
      "text/html": [
       "<div>\n",
       "<style scoped>\n",
       "    .dataframe tbody tr th:only-of-type {\n",
       "        vertical-align: middle;\n",
       "    }\n",
       "\n",
       "    .dataframe tbody tr th {\n",
       "        vertical-align: top;\n",
       "    }\n",
       "\n",
       "    .dataframe thead th {\n",
       "        text-align: right;\n",
       "    }\n",
       "</style>\n",
       "<table border=\"1\" class=\"dataframe\">\n",
       "  <thead>\n",
       "    <tr style=\"text-align: right;\">\n",
       "      <th></th>\n",
       "      <th>name</th>\n",
       "      <th>population</th>\n",
       "    </tr>\n",
       "  </thead>\n",
       "  <tbody>\n",
       "    <tr>\n",
       "      <th>England</th>\n",
       "      <td>London</td>\n",
       "      <td>8615246</td>\n",
       "    </tr>\n",
       "    <tr>\n",
       "      <th>Germany</th>\n",
       "      <td>Berlin</td>\n",
       "      <td>3562166</td>\n",
       "    </tr>\n",
       "    <tr>\n",
       "      <th>Spain</th>\n",
       "      <td>Madrid</td>\n",
       "      <td>3165235</td>\n",
       "    </tr>\n",
       "    <tr>\n",
       "      <th>Italy</th>\n",
       "      <td>Rome</td>\n",
       "      <td>2874038</td>\n",
       "    </tr>\n",
       "    <tr>\n",
       "      <th>France</th>\n",
       "      <td>Paris</td>\n",
       "      <td>2273305</td>\n",
       "    </tr>\n",
       "    <tr>\n",
       "      <th>Austria</th>\n",
       "      <td>Vienna</td>\n",
       "      <td>1805681</td>\n",
       "    </tr>\n",
       "    <tr>\n",
       "      <th>Romania</th>\n",
       "      <td>Bucharest</td>\n",
       "      <td>1803425</td>\n",
       "    </tr>\n",
       "    <tr>\n",
       "      <th>Germany</th>\n",
       "      <td>Hamburg</td>\n",
       "      <td>1760433</td>\n",
       "    </tr>\n",
       "    <tr>\n",
       "      <th>Hungary</th>\n",
       "      <td>Budapest</td>\n",
       "      <td>1754000</td>\n",
       "    </tr>\n",
       "    <tr>\n",
       "      <th>Poland</th>\n",
       "      <td>Warsaw</td>\n",
       "      <td>1740119</td>\n",
       "    </tr>\n",
       "    <tr>\n",
       "      <th>Spain</th>\n",
       "      <td>Barcelona</td>\n",
       "      <td>1602386</td>\n",
       "    </tr>\n",
       "    <tr>\n",
       "      <th>Germany</th>\n",
       "      <td>Munich</td>\n",
       "      <td>1493900</td>\n",
       "    </tr>\n",
       "    <tr>\n",
       "      <th>Italy</th>\n",
       "      <td>Milan</td>\n",
       "      <td>1350680</td>\n",
       "    </tr>\n",
       "  </tbody>\n",
       "</table>\n",
       "</div>"
      ],
      "text/plain": [
       "              name  population\n",
       "England     London     8615246\n",
       "Germany     Berlin     3562166\n",
       "Spain       Madrid     3165235\n",
       "Italy         Rome     2874038\n",
       "France       Paris     2273305\n",
       "Austria     Vienna     1805681\n",
       "Romania  Bucharest     1803425\n",
       "Germany    Hamburg     1760433\n",
       "Hungary   Budapest     1754000\n",
       "Poland      Warsaw     1740119\n",
       "Spain    Barcelona     1602386\n",
       "Germany     Munich     1493900\n",
       "Italy        Milan     1350680"
      ]
     },
     "execution_count": 12,
     "metadata": {},
     "output_type": "execute_result"
    }
   ],
   "source": [
    "city_frame = pd.DataFrame(cities,\n",
    "                          columns=[\"name\", \"population\"],\n",
    "                          index=cities[\"country\"])\n",
    "\n",
    "city_frame"
   ]
  },
  {
   "cell_type": "markdown",
   "metadata": {},
   "source": [
    "Alternatively, we can change an existing DataFrame. We can us the method set_index to turn a column into an index. \"set_index\" does not work in-place, it returns a new data frame with the chosen column as the index:"
   ]
  },
  {
   "cell_type": "code",
   "execution_count": 13,
   "metadata": {},
   "outputs": [
    {
     "name": "stdout",
     "output_type": "stream",
     "text": [
      "              name  population\n",
      "country                       \n",
      "England     London     8615246\n",
      "Germany     Berlin     3562166\n",
      "Spain       Madrid     3165235\n",
      "Italy         Rome     2874038\n",
      "France       Paris     2273305\n",
      "Austria     Vienna     1805681\n",
      "Romania  Bucharest     1803425\n",
      "Germany    Hamburg     1760433\n",
      "Hungary   Budapest     1754000\n",
      "Poland      Warsaw     1740119\n",
      "Spain    Barcelona     1602386\n",
      "Germany     Munich     1493900\n",
      "Italy        Milan     1350680\n"
     ]
    }
   ],
   "source": [
    "city_frame = pd.DataFrame(cities)\n",
    "city_frame2 = city_frame.set_index(\"country\")\n",
    "print(city_frame2)"
   ]
  },
  {
   "cell_type": "markdown",
   "metadata": {},
   "source": [
    "We saw in the previous example that the set_index method returns a new DataFrame object and doesn't change the original DataFrame. If we set the optional parameter \"inplace\" to True, the DataFrame will be changed in place, i.e. no new object will be created:"
   ]
  },
  {
   "cell_type": "code",
   "execution_count": 14,
   "metadata": {},
   "outputs": [
    {
     "name": "stdout",
     "output_type": "stream",
     "text": [
      "              name  population\n",
      "country                       \n",
      "England     London     8615246\n",
      "Germany     Berlin     3562166\n",
      "Spain       Madrid     3165235\n",
      "Italy         Rome     2874038\n",
      "France       Paris     2273305\n",
      "Austria     Vienna     1805681\n",
      "Romania  Bucharest     1803425\n",
      "Germany    Hamburg     1760433\n",
      "Hungary   Budapest     1754000\n",
      "Poland      Warsaw     1740119\n",
      "Spain    Barcelona     1602386\n",
      "Germany     Munich     1493900\n",
      "Italy        Milan     1350680\n"
     ]
    }
   ],
   "source": [
    "city_frame = pd.DataFrame(cities)\n",
    "city_frame.set_index(\"country\", inplace=True)\n",
    "print(city_frame)"
   ]
  },
  {
   "cell_type": "markdown",
   "metadata": {},
   "source": [
    "#### Accessing Rows via Index Values\n",
    "\n",
    "So far we have accessed DataFrames via the columns. It is often necessary to select certain rows via the index names. We will demonstrate now, how we can access rows from DataFrames via the locators 'loc' and 'iloc'. We will not cover 'ix' because it is deprecated and will be removed in the future.\n",
    "\n",
    "We select all the German cities in the following example by using 'loc'. The result is a DataFrame:"
   ]
  },
  {
   "cell_type": "code",
   "execution_count": 43,
   "metadata": {},
   "outputs": [
    {
     "name": "stdout",
     "output_type": "stream",
     "text": [
      "            name  population\n",
      "Germany   Berlin     3562166\n",
      "Germany  Hamburg     1760433\n",
      "Germany   Munich     1493900\n"
     ]
    }
   ],
   "source": [
    "city_frame = pd.DataFrame(cities, \n",
    "                          columns=(\"name\", \"population\"), \n",
    "                          index=cities[\"country\"])\n",
    "print(city_frame.loc[\"Germany\"])"
   ]
  },
  {
   "cell_type": "markdown",
   "metadata": {},
   "source": [
    "It is also possible to simultaneously extracting rows by chosen more than on index labels. To do this we use a list of indices:"
   ]
  },
  {
   "cell_type": "code",
   "execution_count": 44,
   "metadata": {},
   "outputs": [
    {
     "name": "stdout",
     "output_type": "stream",
     "text": [
      "            name  population\n",
      "Germany   Berlin     3562166\n",
      "Germany  Hamburg     1760433\n",
      "Germany   Munich     1493900\n",
      "France     Paris     2273305\n"
     ]
    }
   ],
   "source": [
    "print(city_frame.loc[[\"Germany\", \"France\"]])"
   ]
  },
  {
   "cell_type": "markdown",
   "metadata": {},
   "source": [
    "We will also need to select pandas DataFrame rows based on conditions, which are applied to column values. We can use the operators '>', '=', '=', '<=', '!=' for this purpose. We select all cities with a population of more than two million in the following example:\n"
   ]
  },
  {
   "cell_type": "code",
   "execution_count": 45,
   "metadata": {},
   "outputs": [
    {
     "data": {
      "text/plain": [
       "England     True\n",
       "Germany     True\n",
       "Spain       True\n",
       "Italy       True\n",
       "France      True\n",
       "Austria    False\n",
       "Romania    False\n",
       "Germany    False\n",
       "Hungary    False\n",
       "Poland     False\n",
       "Spain      False\n",
       "Germany    False\n",
       "Italy      False\n",
       "Name: population, dtype: bool"
      ]
     },
     "execution_count": 45,
     "metadata": {},
     "output_type": "execute_result"
    }
   ],
   "source": [
    "condition = city_frame.population>2000000\n",
    "condition"
   ]
  },
  {
   "cell_type": "markdown",
   "metadata": {},
   "source": [
    "We can use this Boolean DataFrame ```condition``` with ```loc```to finally create the selection:"
   ]
  },
  {
   "cell_type": "code",
   "execution_count": 46,
   "metadata": {},
   "outputs": [
    {
     "name": "stdout",
     "output_type": "stream",
     "text": [
      "           name  population\n",
      "England  London     8615246\n",
      "Germany  Berlin     3562166\n",
      "Spain    Madrid     3165235\n",
      "Italy      Rome     2874038\n",
      "France    Paris     2273305\n"
     ]
    }
   ],
   "source": [
    "print(city_frame.loc[condition])"
   ]
  },
  {
   "cell_type": "markdown",
   "metadata": {},
   "source": [
    "It is also possible to logically combine more than one condition with ```&``` and ```|```:"
   ]
  },
  {
   "cell_type": "code",
   "execution_count": 49,
   "metadata": {},
   "outputs": [
    {
     "name": "stdout",
     "output_type": "stream",
     "text": [
      "            name  population\n",
      "Italy       Rome     2874038\n",
      "Germany  Hamburg     1760433\n"
     ]
    }
   ],
   "source": [
    "condition1 = (city_frame.population>1500000)\n",
    "condition2 = (city_frame['name'].str.contains(\"m\"))\n",
    "print(city_frame.loc[condition1 & condition2])"
   ]
  },
  {
   "cell_type": "markdown",
   "metadata": {},
   "source": [
    "We use a logical or ```|``` in the following example tot see all cities of the Pandas DataFrame, where either the city name contains the letter 'm' or the population number is greater than three million:"
   ]
  },
  {
   "cell_type": "code",
   "execution_count": 53,
   "metadata": {},
   "outputs": [
    {
     "name": "stdout",
     "output_type": "stream",
     "text": [
      "            name  population\n",
      "England   London     8615246\n",
      "Germany   Berlin     3562166\n",
      "Spain     Madrid     3165235\n",
      "Italy       Rome     2874038\n",
      "Germany  Hamburg     1760433\n"
     ]
    }
   ],
   "source": [
    "condition1 = (city_frame.population>3000000)\n",
    "condition2 = (city_frame['name'].str.contains(\"m\"))\n",
    "print(city_frame.loc[condition1 | condition2])"
   ]
  },
  {
   "cell_type": "markdown",
   "metadata": {},
   "source": [
    "#### Accessing Rows by Position\n",
    "\n",
    "The ```iloc``` method of a Pandas DataFrame object can be used to select rows and columns by number, i.e. in the order that they appear in the data frame. ```iloc``` allows selections of the rows, as if they were numbered by integers ```0```, ```1```, ```2```,  ....\n",
    "\n",
    "We demonstrate this in the following example:"
   ]
  },
  {
   "cell_type": "code",
   "execution_count": 54,
   "metadata": {},
   "outputs": [
    {
     "name": "stdout",
     "output_type": "stream",
     "text": [
      "name             Rome\n",
      "population    2874038\n",
      "Name: Italy, dtype: object\n"
     ]
    }
   ],
   "source": [
    "df = city_frame.iloc[3]\n",
    "print(df)"
   ]
  },
  {
   "cell_type": "markdown",
   "metadata": {},
   "source": [
    "To get a DataFrame with selected rows by numbers, we use a list of integers. We can see that we can change the order of the rows and we are also able to select rows multiple times:"
   ]
  },
  {
   "cell_type": "code",
   "execution_count": 57,
   "metadata": {},
   "outputs": [
    {
     "name": "stdout",
     "output_type": "stream",
     "text": [
      "           name  population\n",
      "Italy      Rome     2874038\n",
      "Spain    Madrid     3165235\n",
      "England  London     8615246\n",
      "Austria  Vienna     1805681\n",
      "England  London     8615246\n"
     ]
    }
   ],
   "source": [
    "df = city_frame.iloc[[3, 2, 0, 5, 0]]\n",
    "print(df)"
   ]
  },
  {
   "cell_type": "markdown",
   "metadata": {},
   "source": [
    "#### Sum and Cumulative Sum\n",
    "\n",
    "The DataFrame object of Pandas provides a method to sum both columns and rows. Before we will explain the usage of the sum method, we will create a new DataFrame object on which we will apply our examples. We will start by creating an empty DataFrame without columns but an index. We populate this DataFrame by adding columns with random values:\n"
   ]
  },
  {
   "cell_type": "code",
   "execution_count": 89,
   "metadata": {},
   "outputs": [
    {
     "name": "stdout",
     "output_type": "stream",
     "text": [
      "      Zürich  Freiburg  München  Konstanz  Saarbrücken\n",
      "2014  872.51    838.22   961.17    934.99       796.42\n",
      "2015  944.47    943.27   862.66    784.23       770.94\n",
      "2016  963.22    859.97   818.13    965.38       995.74\n",
      "2017  866.11    731.42   811.37    955.21       836.36\n",
      "2018  790.95    837.39   941.92    735.93       837.23\n"
     ]
    }
   ],
   "source": [
    "years = range(2014, 2019)\n",
    "cities = [\"Zürich\", \"Freiburg\", \"München\", \"Konstanz\", \"Saarbrücken\"]\n",
    "shops = pd.DataFrame(index=years)\n",
    "for city in cities:\n",
    "    shops.insert(loc=len(shops.columns),\n",
    "                 column=city,\n",
    "                 value=(np.random.uniform(0.7, 1, (5,)) * 1000).round(2))\n",
    "    \n",
    "print(shops)"
   ]
  },
  {
   "cell_type": "markdown",
   "metadata": {},
   "source": [
    "Let's apply ```sum``` to the DataFrame ```shops```:"
   ]
  },
  {
   "cell_type": "code",
   "execution_count": 75,
   "metadata": {},
   "outputs": [
    {
     "data": {
      "text/plain": [
       "Zürich         4504.85\n",
       "Freiburg       4182.09\n",
       "München        3999.67\n",
       "Konstanz       4557.86\n",
       "Saarbrücken    4608.05\n",
       "dtype: float64"
      ]
     },
     "execution_count": 75,
     "metadata": {},
     "output_type": "execute_result"
    }
   ],
   "source": [
    "shops.sum()"
   ]
  },
  {
   "cell_type": "markdown",
   "metadata": {},
   "source": [
    "We can see that it summed up all the columns of our DataFrame. What about calculating the sum of the rows? We can do this by using the ```axis``` parameter of ```sum```.  "
   ]
  },
  {
   "cell_type": "code",
   "execution_count": 76,
   "metadata": {},
   "outputs": [
    {
     "data": {
      "text/plain": [
       "2014    4226.30\n",
       "2015    4458.91\n",
       "2016    4696.46\n",
       "2017    4186.20\n",
       "2018    4284.65\n",
       "dtype: float64"
      ]
     },
     "execution_count": 76,
     "metadata": {},
     "output_type": "execute_result"
    }
   ],
   "source": [
    "shops.sum(axis=1)"
   ]
  },
  {
   "cell_type": "markdown",
   "metadata": {},
   "source": [
    "You only want to the the sums for the first, third and the last column and for all the years:"
   ]
  },
  {
   "cell_type": "code",
   "execution_count": 84,
   "metadata": {},
   "outputs": [
    {
     "name": "stdout",
     "output_type": "stream",
     "text": [
      "      Zürich  München  Saarbrücken\n",
      "2014  780.38   952.88       854.93\n",
      "2015  968.05   807.03       894.87\n",
      "2016  990.00   803.41       991.15\n",
      "2017  815.45   734.82       950.40\n",
      "2018  950.97   701.53       916.70\n",
      "and now the sum:\n",
      "Zürich         4504.85\n",
      "München        3999.67\n",
      "Saarbrücken    4608.05\n",
      "dtype: float64\n"
     ]
    }
   ],
   "source": [
    "s = shops.iloc[:, [0, 2, -1]]\n",
    "print(s)\n",
    "print(\"and now the sum:\")\n",
    "print(s.sum())"
   ]
  },
  {
   "cell_type": "markdown",
   "metadata": {},
   "source": [
    "Of course, you could have also have achieved it in the following way, if the column names are known:"
   ]
  },
  {
   "cell_type": "code",
   "execution_count": 88,
   "metadata": {},
   "outputs": [
    {
     "data": {
      "text/plain": [
       "Zürich         4504.85\n",
       "München        3999.67\n",
       "Saarbrücken    4608.05\n",
       "dtype: float64"
      ]
     },
     "execution_count": 88,
     "metadata": {},
     "output_type": "execute_result"
    }
   ],
   "source": [
    "shops[[\"Zürich\", \"München\", \"Saarbrücken\"]].sum()"
   ]
  },
  {
   "cell_type": "markdown",
   "metadata": {},
   "source": [
    "We can use \"cumsum\" to calculate the cumulative sum over the years:"
   ]
  },
  {
   "cell_type": "code",
   "execution_count": 78,
   "metadata": {
    "scrolled": true
   },
   "outputs": [
    {
     "name": "stdout",
     "output_type": "stream",
     "text": [
      "       Zürich  Freiburg  München  Konstanz  Saarbrücken\n",
      "2014   780.38    908.77   952.88    729.34       854.93\n",
      "2015  1748.43   1719.42  1759.91   1707.65      1749.80\n",
      "2016  2738.43   2698.64  2563.32   2640.33      2740.95\n",
      "2017  3553.88   3424.87  3298.14   3599.63      3691.35\n",
      "2018  4504.85   4182.09  3999.67   4557.86      4608.05\n"
     ]
    }
   ],
   "source": [
    "x = shops.cumsum()\n",
    "print(x)"
   ]
  },
  {
   "cell_type": "markdown",
   "metadata": {},
   "source": [
    "Using the keyword parameter ```axis``` with the value 1, we can build the cumulative sum over the rows:"
   ]
  },
  {
   "cell_type": "code",
   "execution_count": 79,
   "metadata": {},
   "outputs": [
    {
     "name": "stdout",
     "output_type": "stream",
     "text": [
      "      Zürich  Freiburg  München  Konstanz  Saarbrücken\n",
      "2014  780.38   1689.15  2642.03   3371.37      4226.30\n",
      "2015  968.05   1778.70  2585.73   3564.04      4458.91\n",
      "2016  990.00   1969.22  2772.63   3705.31      4696.46\n",
      "2017  815.45   1541.68  2276.50   3235.80      4186.20\n",
      "2018  950.97   1708.19  2409.72   3367.95      4284.65\n"
     ]
    }
   ],
   "source": [
    "x = shops.cumsum(axis=1)\n",
    "print(x)"
   ]
  },
  {
   "cell_type": "markdown",
   "metadata": {},
   "source": [
    "#### Assigning New Values to Columns\n",
    "\n",
    "x is a Pandas Series. We can reassign the previously calculated cumulative sums to the population column:"
   ]
  },
  {
   "cell_type": "code",
   "execution_count": 23,
   "metadata": {},
   "outputs": [
    {
     "name": "stdout",
     "output_type": "stream",
     "text": [
      "              name  population\n",
      "England     London     8615246\n",
      "Germany     Berlin    12177412\n",
      "Spain       Madrid    15342647\n",
      "Italy         Rome    18216685\n",
      "France       Paris    20489990\n",
      "Austria     Vienna    22295671\n",
      "Romania  Bucharest    24099096\n",
      "Germany    Hamburg    25859529\n",
      "Hungary   Budapest    27613529\n",
      "Poland      Warsaw    29353648\n",
      "Spain    Barcelona    30956034\n",
      "Germany     Munich    32449934\n",
      "Italy        Milan    33800614\n"
     ]
    }
   ],
   "source": [
    "city_frame[\"population\"] = x\n",
    "print(city_frame)"
   ]
  },
  {
   "cell_type": "markdown",
   "metadata": {},
   "source": [
    "Instead of replacing the values of the population column with the cumulative sum, we want to add the cumulative population sum as a new culumn with the name \"cum_population\"."
   ]
  },
  {
   "cell_type": "code",
   "execution_count": 24,
   "metadata": {},
   "outputs": [
    {
     "data": {
      "text/html": [
       "<div>\n",
       "<style scoped>\n",
       "    .dataframe tbody tr th:only-of-type {\n",
       "        vertical-align: middle;\n",
       "    }\n",
       "\n",
       "    .dataframe tbody tr th {\n",
       "        vertical-align: top;\n",
       "    }\n",
       "\n",
       "    .dataframe thead th {\n",
       "        text-align: right;\n",
       "    }\n",
       "</style>\n",
       "<table border=\"1\" class=\"dataframe\">\n",
       "  <thead>\n",
       "    <tr style=\"text-align: right;\">\n",
       "      <th></th>\n",
       "      <th>country</th>\n",
       "      <th>population</th>\n",
       "      <th>cum_population</th>\n",
       "    </tr>\n",
       "  </thead>\n",
       "  <tbody>\n",
       "    <tr>\n",
       "      <th>London</th>\n",
       "      <td>England</td>\n",
       "      <td>8615246</td>\n",
       "      <td>NaN</td>\n",
       "    </tr>\n",
       "    <tr>\n",
       "      <th>Berlin</th>\n",
       "      <td>Germany</td>\n",
       "      <td>3562166</td>\n",
       "      <td>NaN</td>\n",
       "    </tr>\n",
       "    <tr>\n",
       "      <th>Madrid</th>\n",
       "      <td>Spain</td>\n",
       "      <td>3165235</td>\n",
       "      <td>NaN</td>\n",
       "    </tr>\n",
       "    <tr>\n",
       "      <th>Rome</th>\n",
       "      <td>Italy</td>\n",
       "      <td>2874038</td>\n",
       "      <td>NaN</td>\n",
       "    </tr>\n",
       "    <tr>\n",
       "      <th>Paris</th>\n",
       "      <td>France</td>\n",
       "      <td>2273305</td>\n",
       "      <td>NaN</td>\n",
       "    </tr>\n",
       "    <tr>\n",
       "      <th>Vienna</th>\n",
       "      <td>Austria</td>\n",
       "      <td>1805681</td>\n",
       "      <td>NaN</td>\n",
       "    </tr>\n",
       "    <tr>\n",
       "      <th>Bucharest</th>\n",
       "      <td>Romania</td>\n",
       "      <td>1803425</td>\n",
       "      <td>NaN</td>\n",
       "    </tr>\n",
       "    <tr>\n",
       "      <th>Hamburg</th>\n",
       "      <td>Germany</td>\n",
       "      <td>1760433</td>\n",
       "      <td>NaN</td>\n",
       "    </tr>\n",
       "    <tr>\n",
       "      <th>Budapest</th>\n",
       "      <td>Hungary</td>\n",
       "      <td>1754000</td>\n",
       "      <td>NaN</td>\n",
       "    </tr>\n",
       "    <tr>\n",
       "      <th>Warsaw</th>\n",
       "      <td>Poland</td>\n",
       "      <td>1740119</td>\n",
       "      <td>NaN</td>\n",
       "    </tr>\n",
       "    <tr>\n",
       "      <th>Barcelona</th>\n",
       "      <td>Spain</td>\n",
       "      <td>1602386</td>\n",
       "      <td>NaN</td>\n",
       "    </tr>\n",
       "    <tr>\n",
       "      <th>Munich</th>\n",
       "      <td>Germany</td>\n",
       "      <td>1493900</td>\n",
       "      <td>NaN</td>\n",
       "    </tr>\n",
       "    <tr>\n",
       "      <th>Milan</th>\n",
       "      <td>Italy</td>\n",
       "      <td>1350680</td>\n",
       "      <td>NaN</td>\n",
       "    </tr>\n",
       "  </tbody>\n",
       "</table>\n",
       "</div>"
      ],
      "text/plain": [
       "           country  population cum_population\n",
       "London     England     8615246            NaN\n",
       "Berlin     Germany     3562166            NaN\n",
       "Madrid       Spain     3165235            NaN\n",
       "Rome         Italy     2874038            NaN\n",
       "Paris       France     2273305            NaN\n",
       "Vienna     Austria     1805681            NaN\n",
       "Bucharest  Romania     1803425            NaN\n",
       "Hamburg    Germany     1760433            NaN\n",
       "Budapest   Hungary     1754000            NaN\n",
       "Warsaw      Poland     1740119            NaN\n",
       "Barcelona    Spain     1602386            NaN\n",
       "Munich     Germany     1493900            NaN\n",
       "Milan        Italy     1350680            NaN"
      ]
     },
     "execution_count": 24,
     "metadata": {},
     "output_type": "execute_result"
    }
   ],
   "source": [
    "city_frame = pd.DataFrame(cities,\n",
    "                          columns=[\"country\", \n",
    "                                   \"population\",\n",
    "                                   \"cum_population\"],\n",
    "                          index=cities[\"name\"])\n",
    "\n",
    "city_frame"
   ]
  },
  {
   "cell_type": "markdown",
   "metadata": {},
   "source": [
    "We can see that the column \"cum_population\" is set to Nan, as we haven't provided any data for it. \n",
    "\n",
    "We will assign now the cumulative sums to this column:"
   ]
  },
  {
   "cell_type": "code",
   "execution_count": 25,
   "metadata": {},
   "outputs": [
    {
     "data": {
      "text/html": [
       "<div>\n",
       "<style scoped>\n",
       "    .dataframe tbody tr th:only-of-type {\n",
       "        vertical-align: middle;\n",
       "    }\n",
       "\n",
       "    .dataframe tbody tr th {\n",
       "        vertical-align: top;\n",
       "    }\n",
       "\n",
       "    .dataframe thead th {\n",
       "        text-align: right;\n",
       "    }\n",
       "</style>\n",
       "<table border=\"1\" class=\"dataframe\">\n",
       "  <thead>\n",
       "    <tr style=\"text-align: right;\">\n",
       "      <th></th>\n",
       "      <th>country</th>\n",
       "      <th>population</th>\n",
       "      <th>cum_population</th>\n",
       "    </tr>\n",
       "  </thead>\n",
       "  <tbody>\n",
       "    <tr>\n",
       "      <th>London</th>\n",
       "      <td>England</td>\n",
       "      <td>8615246</td>\n",
       "      <td>8615246</td>\n",
       "    </tr>\n",
       "    <tr>\n",
       "      <th>Berlin</th>\n",
       "      <td>Germany</td>\n",
       "      <td>3562166</td>\n",
       "      <td>12177412</td>\n",
       "    </tr>\n",
       "    <tr>\n",
       "      <th>Madrid</th>\n",
       "      <td>Spain</td>\n",
       "      <td>3165235</td>\n",
       "      <td>15342647</td>\n",
       "    </tr>\n",
       "    <tr>\n",
       "      <th>Rome</th>\n",
       "      <td>Italy</td>\n",
       "      <td>2874038</td>\n",
       "      <td>18216685</td>\n",
       "    </tr>\n",
       "    <tr>\n",
       "      <th>Paris</th>\n",
       "      <td>France</td>\n",
       "      <td>2273305</td>\n",
       "      <td>20489990</td>\n",
       "    </tr>\n",
       "    <tr>\n",
       "      <th>Vienna</th>\n",
       "      <td>Austria</td>\n",
       "      <td>1805681</td>\n",
       "      <td>22295671</td>\n",
       "    </tr>\n",
       "    <tr>\n",
       "      <th>Bucharest</th>\n",
       "      <td>Romania</td>\n",
       "      <td>1803425</td>\n",
       "      <td>24099096</td>\n",
       "    </tr>\n",
       "    <tr>\n",
       "      <th>Hamburg</th>\n",
       "      <td>Germany</td>\n",
       "      <td>1760433</td>\n",
       "      <td>25859529</td>\n",
       "    </tr>\n",
       "    <tr>\n",
       "      <th>Budapest</th>\n",
       "      <td>Hungary</td>\n",
       "      <td>1754000</td>\n",
       "      <td>27613529</td>\n",
       "    </tr>\n",
       "    <tr>\n",
       "      <th>Warsaw</th>\n",
       "      <td>Poland</td>\n",
       "      <td>1740119</td>\n",
       "      <td>29353648</td>\n",
       "    </tr>\n",
       "    <tr>\n",
       "      <th>Barcelona</th>\n",
       "      <td>Spain</td>\n",
       "      <td>1602386</td>\n",
       "      <td>30956034</td>\n",
       "    </tr>\n",
       "    <tr>\n",
       "      <th>Munich</th>\n",
       "      <td>Germany</td>\n",
       "      <td>1493900</td>\n",
       "      <td>32449934</td>\n",
       "    </tr>\n",
       "    <tr>\n",
       "      <th>Milan</th>\n",
       "      <td>Italy</td>\n",
       "      <td>1350680</td>\n",
       "      <td>33800614</td>\n",
       "    </tr>\n",
       "  </tbody>\n",
       "</table>\n",
       "</div>"
      ],
      "text/plain": [
       "           country  population  cum_population\n",
       "London     England     8615246         8615246\n",
       "Berlin     Germany     3562166        12177412\n",
       "Madrid       Spain     3165235        15342647\n",
       "Rome         Italy     2874038        18216685\n",
       "Paris       France     2273305        20489990\n",
       "Vienna     Austria     1805681        22295671\n",
       "Bucharest  Romania     1803425        24099096\n",
       "Hamburg    Germany     1760433        25859529\n",
       "Budapest   Hungary     1754000        27613529\n",
       "Warsaw      Poland     1740119        29353648\n",
       "Barcelona    Spain     1602386        30956034\n",
       "Munich     Germany     1493900        32449934\n",
       "Milan        Italy     1350680        33800614"
      ]
     },
     "execution_count": 25,
     "metadata": {},
     "output_type": "execute_result"
    }
   ],
   "source": [
    "city_frame[\"cum_population\"] = city_frame[\"population\"].cumsum()\n",
    "city_frame"
   ]
  },
  {
   "cell_type": "markdown",
   "metadata": {},
   "source": [
    "We can also include a column name which is not contained in the dictionary, when we create the DataFrame from the dictionary. In this case, all the values of this column will be set to NaN:"
   ]
  },
  {
   "cell_type": "code",
   "execution_count": 26,
   "metadata": {},
   "outputs": [
    {
     "name": "stdout",
     "output_type": "stream",
     "text": [
      "           country area  population\n",
      "London     England  NaN     8615246\n",
      "Berlin     Germany  NaN     3562166\n",
      "Madrid       Spain  NaN     3165235\n",
      "Rome         Italy  NaN     2874038\n",
      "Paris       France  NaN     2273305\n",
      "Vienna     Austria  NaN     1805681\n",
      "Bucharest  Romania  NaN     1803425\n",
      "Hamburg    Germany  NaN     1760433\n",
      "Budapest   Hungary  NaN     1754000\n",
      "Warsaw      Poland  NaN     1740119\n",
      "Barcelona    Spain  NaN     1602386\n",
      "Munich     Germany  NaN     1493900\n",
      "Milan        Italy  NaN     1350680\n"
     ]
    }
   ],
   "source": [
    "city_frame = pd.DataFrame(cities,\n",
    "                          columns=[\"country\", \n",
    "                                   \"area\",\n",
    "                                   \"population\"],\n",
    "                          index=cities[\"name\"])\n",
    "print(city_frame)"
   ]
  },
  {
   "cell_type": "markdown",
   "metadata": {},
   "source": [
    "#### Accessing the Columns of a DataFrame\n",
    "\n",
    "There are two ways to access a column of a DataFrame. The result is in both cases a Series:\n",
    "    "
   ]
  },
  {
   "cell_type": "code",
   "execution_count": 27,
   "metadata": {},
   "outputs": [
    {
     "name": "stdout",
     "output_type": "stream",
     "text": [
      "London       8615246\n",
      "Berlin       3562166\n",
      "Madrid       3165235\n",
      "Rome         2874038\n",
      "Paris        2273305\n",
      "Vienna       1805681\n",
      "Bucharest    1803425\n",
      "Hamburg      1760433\n",
      "Budapest     1754000\n",
      "Warsaw       1740119\n",
      "Barcelona    1602386\n",
      "Munich       1493900\n",
      "Milan        1350680\n",
      "Name: population, dtype: int64\n"
     ]
    }
   ],
   "source": [
    "# in a dictionary-like way:\n",
    "print(city_frame[\"population\"])"
   ]
  },
  {
   "cell_type": "code",
   "execution_count": 28,
   "metadata": {},
   "outputs": [
    {
     "name": "stdout",
     "output_type": "stream",
     "text": [
      "London       8615246\n",
      "Berlin       3562166\n",
      "Madrid       3165235\n",
      "Rome         2874038\n",
      "Paris        2273305\n",
      "Vienna       1805681\n",
      "Bucharest    1803425\n",
      "Hamburg      1760433\n",
      "Budapest     1754000\n",
      "Warsaw       1740119\n",
      "Barcelona    1602386\n",
      "Munich       1493900\n",
      "Milan        1350680\n",
      "Name: population, dtype: int64\n"
     ]
    }
   ],
   "source": [
    "# as an attribute\n",
    "print(city_frame.population)"
   ]
  },
  {
   "cell_type": "code",
   "execution_count": 29,
   "metadata": {},
   "outputs": [
    {
     "name": "stdout",
     "output_type": "stream",
     "text": [
      "<class 'pandas.core.series.Series'>\n"
     ]
    }
   ],
   "source": [
    "print(type(city_frame.population))"
   ]
  },
  {
   "cell_type": "code",
   "execution_count": 30,
   "metadata": {},
   "outputs": [
    {
     "data": {
      "text/plain": [
       "London       8615246\n",
       "Berlin       3562166\n",
       "Madrid       3165235\n",
       "Rome         2874038\n",
       "Paris        2273305\n",
       "Vienna       1805681\n",
       "Bucharest    1803425\n",
       "Hamburg      1760433\n",
       "Budapest     1754000\n",
       "Warsaw       1740119\n",
       "Barcelona    1602386\n",
       "Munich       1493900\n",
       "Milan        1350680\n",
       "Name: population, dtype: int64"
      ]
     },
     "execution_count": 30,
     "metadata": {},
     "output_type": "execute_result"
    }
   ],
   "source": [
    "city_frame.population"
   ]
  },
  {
   "cell_type": "markdown",
   "metadata": {},
   "source": [
    "From the previous example, we can see that we have not copied the population column. \"p\" is a view on the data of city_frame."
   ]
  },
  {
   "cell_type": "markdown",
   "metadata": {},
   "source": [
    "#### Assigning New Values to a Column\n",
    "\n",
    "The column area is still not defined. We can set all elements of the column to the same value:"
   ]
  },
  {
   "cell_type": "code",
   "execution_count": 31,
   "metadata": {},
   "outputs": [
    {
     "name": "stdout",
     "output_type": "stream",
     "text": [
      "           country  area  population\n",
      "London     England  1572     8615246\n",
      "Berlin     Germany  1572     3562166\n",
      "Madrid       Spain  1572     3165235\n",
      "Rome         Italy  1572     2874038\n",
      "Paris       France  1572     2273305\n",
      "Vienna     Austria  1572     1805681\n",
      "Bucharest  Romania  1572     1803425\n",
      "Hamburg    Germany  1572     1760433\n",
      "Budapest   Hungary  1572     1754000\n",
      "Warsaw      Poland  1572     1740119\n",
      "Barcelona    Spain  1572     1602386\n",
      "Munich     Germany  1572     1493900\n",
      "Milan        Italy  1572     1350680\n"
     ]
    }
   ],
   "source": [
    "city_frame[\"area\"] = 1572\n",
    "print(city_frame)"
   ]
  },
  {
   "cell_type": "markdown",
   "metadata": {},
   "source": [
    "In this case, it will be definitely better to assign the exact area to the cities. The list with the area values needs to have the same length as the number of rows in our DataFrame."
   ]
  },
  {
   "cell_type": "code",
   "execution_count": 32,
   "metadata": {},
   "outputs": [
    {
     "name": "stdout",
     "output_type": "stream",
     "text": [
      "           country     area  population\n",
      "London     England  1572.00     8615246\n",
      "Berlin     Germany   891.85     3562166\n",
      "Madrid       Spain   605.77     3165235\n",
      "Rome         Italy  1285.00     2874038\n",
      "Paris       France   105.40     2273305\n",
      "Vienna     Austria   414.60     1805681\n",
      "Bucharest  Romania   228.00     1803425\n",
      "Hamburg    Germany   755.00     1760433\n",
      "Budapest   Hungary   525.20     1754000\n",
      "Warsaw      Poland   517.00     1740119\n",
      "Barcelona    Spain   101.90     1602386\n",
      "Munich     Germany   310.40     1493900\n",
      "Milan        Italy   181.80     1350680\n"
     ]
    }
   ],
   "source": [
    "# area in square km:\n",
    "area = [1572, 891.85, 605.77, 1285, \n",
    "        105.4, 414.6, 228, 755, \n",
    "        525.2, 517, 101.9, 310.4, \n",
    "        181.8]\n",
    "# area could have been designed as a list, a Series, an array or a scalar   \n",
    "\n",
    "city_frame[\"area\"] = area\n",
    "print(city_frame)"
   ]
  },
  {
   "cell_type": "markdown",
   "metadata": {},
   "source": [
    "#### Sorting DataFrames\n",
    "\n",
    "Let's sort our DataFrame according to the city area:"
   ]
  },
  {
   "cell_type": "code",
   "execution_count": 33,
   "metadata": {},
   "outputs": [
    {
     "name": "stdout",
     "output_type": "stream",
     "text": [
      "           country     area  population\n",
      "London     England  1572.00     8615246\n",
      "Rome         Italy  1285.00     2874038\n",
      "Berlin     Germany   891.85     3562166\n",
      "Hamburg    Germany   755.00     1760433\n",
      "Madrid       Spain   605.77     3165235\n",
      "Budapest   Hungary   525.20     1754000\n",
      "Warsaw      Poland   517.00     1740119\n",
      "Vienna     Austria   414.60     1805681\n",
      "Munich     Germany   310.40     1493900\n",
      "Bucharest  Romania   228.00     1803425\n",
      "Milan        Italy   181.80     1350680\n",
      "Paris       France   105.40     2273305\n",
      "Barcelona    Spain   101.90     1602386\n"
     ]
    }
   ],
   "source": [
    "city_frame = city_frame.sort_values(by=\"area\", ascending=False)\n",
    "print(city_frame)"
   ]
  },
  {
   "cell_type": "markdown",
   "metadata": {},
   "source": [
    "Let's assume, we have only the areas of London, Hamburg and Milan.\n",
    "The areas are in a series with the correct indices. We can assign this series as well:\n",
    "    "
   ]
  },
  {
   "cell_type": "code",
   "execution_count": 34,
   "metadata": {},
   "outputs": [
    {
     "name": "stdout",
     "output_type": "stream",
     "text": [
      "           country    area  population\n",
      "London     England  1572.0     8615246\n",
      "Berlin     Germany     NaN     3562166\n",
      "Madrid       Spain     NaN     3165235\n",
      "Rome         Italy     NaN     2874038\n",
      "Paris       France     NaN     2273305\n",
      "Vienna     Austria     NaN     1805681\n",
      "Bucharest  Romania     NaN     1803425\n",
      "Hamburg    Germany   755.0     1760433\n",
      "Budapest   Hungary     NaN     1754000\n",
      "Warsaw      Poland     NaN     1740119\n",
      "Barcelona    Spain     NaN     1602386\n",
      "Munich     Germany     NaN     1493900\n",
      "Milan        Italy   181.8     1350680\n"
     ]
    }
   ],
   "source": [
    "city_frame = pd.DataFrame(cities,\n",
    "                          columns=[\"country\", \n",
    "                                   \"area\",\n",
    "                                   \"population\"],\n",
    "                          index=cities[\"name\"])\n",
    "\n",
    "some_areas = pd.Series([1572, 755, 181.8], \n",
    "                    index=['London', 'Hamburg', 'Milan'])\n",
    "\n",
    "city_frame['area'] = some_areas\n",
    "print(city_frame)"
   ]
  },
  {
   "cell_type": "markdown",
   "metadata": {},
   "source": [
    "#### Inserting new columns into existing DataFrames\n",
    "\n",
    "In the previous example we have added the column area at creation time. Quite often it will be necessary to add or insert columns into existing DataFrames. For this purpose the DataFrame class provides a method \"insert\", which allows us to insert a column into a DataFrame at a specified location:\n",
    "\n",
    "```python\n",
    "insert(self, loc, column, value, allow_duplicates=False)`\n",
    "```\n",
    "\n",
    "The parameters are specified as:\n",
    "\n",
    "| Parameter  | Meaning           | \n",
    "| ------------- | ------------- |\n",
    "| loc    | int| \n",
    "||This value should be within<br/> the range 0 <= loc <= len(columns)|\n",
    "|column | the column name | \n",
    "| value | can be a list, a Series an array or a scalar |\n",
    "| allow_duplicates | If `allow_duplicates` is False,<br/>an Exception will be raised,<br/>if column is already contained<br/>in the DataFrame.|\n"
   ]
  },
  {
   "cell_type": "code",
   "execution_count": 35,
   "metadata": {},
   "outputs": [
    {
     "data": {
      "text/html": [
       "<div>\n",
       "<style scoped>\n",
       "    .dataframe tbody tr th:only-of-type {\n",
       "        vertical-align: middle;\n",
       "    }\n",
       "\n",
       "    .dataframe tbody tr th {\n",
       "        vertical-align: top;\n",
       "    }\n",
       "\n",
       "    .dataframe thead th {\n",
       "        text-align: right;\n",
       "    }\n",
       "</style>\n",
       "<table border=\"1\" class=\"dataframe\">\n",
       "  <thead>\n",
       "    <tr style=\"text-align: right;\">\n",
       "      <th></th>\n",
       "      <th>country</th>\n",
       "      <th>area</th>\n",
       "      <th>population</th>\n",
       "    </tr>\n",
       "  </thead>\n",
       "  <tbody>\n",
       "    <tr>\n",
       "      <th>London</th>\n",
       "      <td>England</td>\n",
       "      <td>1572.00</td>\n",
       "      <td>8615246</td>\n",
       "    </tr>\n",
       "    <tr>\n",
       "      <th>Berlin</th>\n",
       "      <td>Germany</td>\n",
       "      <td>891.85</td>\n",
       "      <td>3562166</td>\n",
       "    </tr>\n",
       "    <tr>\n",
       "      <th>Madrid</th>\n",
       "      <td>Spain</td>\n",
       "      <td>605.77</td>\n",
       "      <td>3165235</td>\n",
       "    </tr>\n",
       "    <tr>\n",
       "      <th>Rome</th>\n",
       "      <td>Italy</td>\n",
       "      <td>1285.00</td>\n",
       "      <td>2874038</td>\n",
       "    </tr>\n",
       "    <tr>\n",
       "      <th>Paris</th>\n",
       "      <td>France</td>\n",
       "      <td>105.40</td>\n",
       "      <td>2273305</td>\n",
       "    </tr>\n",
       "    <tr>\n",
       "      <th>Vienna</th>\n",
       "      <td>Austria</td>\n",
       "      <td>414.60</td>\n",
       "      <td>1805681</td>\n",
       "    </tr>\n",
       "    <tr>\n",
       "      <th>Bucharest</th>\n",
       "      <td>Romania</td>\n",
       "      <td>228.00</td>\n",
       "      <td>1803425</td>\n",
       "    </tr>\n",
       "    <tr>\n",
       "      <th>Hamburg</th>\n",
       "      <td>Germany</td>\n",
       "      <td>755.00</td>\n",
       "      <td>1760433</td>\n",
       "    </tr>\n",
       "    <tr>\n",
       "      <th>Budapest</th>\n",
       "      <td>Hungary</td>\n",
       "      <td>525.20</td>\n",
       "      <td>1754000</td>\n",
       "    </tr>\n",
       "    <tr>\n",
       "      <th>Warsaw</th>\n",
       "      <td>Poland</td>\n",
       "      <td>517.00</td>\n",
       "      <td>1740119</td>\n",
       "    </tr>\n",
       "    <tr>\n",
       "      <th>Barcelona</th>\n",
       "      <td>Spain</td>\n",
       "      <td>101.90</td>\n",
       "      <td>1602386</td>\n",
       "    </tr>\n",
       "    <tr>\n",
       "      <th>Munich</th>\n",
       "      <td>Germany</td>\n",
       "      <td>310.40</td>\n",
       "      <td>1493900</td>\n",
       "    </tr>\n",
       "    <tr>\n",
       "      <th>Milan</th>\n",
       "      <td>Italy</td>\n",
       "      <td>181.80</td>\n",
       "      <td>1350680</td>\n",
       "    </tr>\n",
       "  </tbody>\n",
       "</table>\n",
       "</div>"
      ],
      "text/plain": [
       "           country     area  population\n",
       "London     England  1572.00     8615246\n",
       "Berlin     Germany   891.85     3562166\n",
       "Madrid       Spain   605.77     3165235\n",
       "Rome         Italy  1285.00     2874038\n",
       "Paris       France   105.40     2273305\n",
       "Vienna     Austria   414.60     1805681\n",
       "Bucharest  Romania   228.00     1803425\n",
       "Hamburg    Germany   755.00     1760433\n",
       "Budapest   Hungary   525.20     1754000\n",
       "Warsaw      Poland   517.00     1740119\n",
       "Barcelona    Spain   101.90     1602386\n",
       "Munich     Germany   310.40     1493900\n",
       "Milan        Italy   181.80     1350680"
      ]
     },
     "execution_count": 35,
     "metadata": {},
     "output_type": "execute_result"
    }
   ],
   "source": [
    "city_frame = pd.DataFrame(cities,\n",
    "                          columns=[\"country\", \n",
    "                                   \"population\"],\n",
    "                          index=cities[\"name\"])\n",
    "\n",
    "\n",
    "idx = 1\n",
    "city_frame.insert(loc=idx, column='area', value=area)\n",
    "city_frame"
   ]
  },
  {
   "cell_type": "markdown",
   "metadata": {},
   "source": [
    "### DataFrame from Nested Dictionaries\n",
    "\n",
    "A nested dictionary of dicts can be passed to a DataFrame as well. The indices of the outer dictionary are taken as the the columns and the inner keys. i.e. the keys of the nested dictionaries, are used as the row indices:"
   ]
  },
  {
   "cell_type": "code",
   "execution_count": 36,
   "metadata": {},
   "outputs": [],
   "source": [
    "growth = {\"Switzerland\": {\"2010\": 3.0, \"2011\": 1.8, \"2012\": 1.1, \"2013\": 1.9},\n",
    "          \"Germany\": {\"2010\": 4.1, \"2011\": 3.6, \"2012\":\t0.4, \"2013\": 0.1},\n",
    "          \"France\": {\"2010\":2.0,  \"2011\":2.1, \"2012\": 0.3, \"2013\": 0.3},\n",
    "          \"Greece\": {\"2010\":-5.4, \"2011\":-8.9, \"2012\":-6.6, \"2013\":\t-3.3},\n",
    "          \"Italy\": {\"2010\":1.7, \"2011\":\t0.6, \"2012\":-2.3, \"2013\":-1.9}\n",
    "          } "
   ]
  },
  {
   "cell_type": "code",
   "execution_count": 37,
   "metadata": {},
   "outputs": [
    {
     "data": {
      "text/html": [
       "<div>\n",
       "<style scoped>\n",
       "    .dataframe tbody tr th:only-of-type {\n",
       "        vertical-align: middle;\n",
       "    }\n",
       "\n",
       "    .dataframe tbody tr th {\n",
       "        vertical-align: top;\n",
       "    }\n",
       "\n",
       "    .dataframe thead th {\n",
       "        text-align: right;\n",
       "    }\n",
       "</style>\n",
       "<table border=\"1\" class=\"dataframe\">\n",
       "  <thead>\n",
       "    <tr style=\"text-align: right;\">\n",
       "      <th></th>\n",
       "      <th>Switzerland</th>\n",
       "      <th>Germany</th>\n",
       "      <th>France</th>\n",
       "      <th>Greece</th>\n",
       "      <th>Italy</th>\n",
       "    </tr>\n",
       "  </thead>\n",
       "  <tbody>\n",
       "    <tr>\n",
       "      <th>2010</th>\n",
       "      <td>3.0</td>\n",
       "      <td>4.1</td>\n",
       "      <td>2.0</td>\n",
       "      <td>-5.4</td>\n",
       "      <td>1.7</td>\n",
       "    </tr>\n",
       "    <tr>\n",
       "      <th>2011</th>\n",
       "      <td>1.8</td>\n",
       "      <td>3.6</td>\n",
       "      <td>2.1</td>\n",
       "      <td>-8.9</td>\n",
       "      <td>0.6</td>\n",
       "    </tr>\n",
       "    <tr>\n",
       "      <th>2012</th>\n",
       "      <td>1.1</td>\n",
       "      <td>0.4</td>\n",
       "      <td>0.3</td>\n",
       "      <td>-6.6</td>\n",
       "      <td>-2.3</td>\n",
       "    </tr>\n",
       "    <tr>\n",
       "      <th>2013</th>\n",
       "      <td>1.9</td>\n",
       "      <td>0.1</td>\n",
       "      <td>0.3</td>\n",
       "      <td>-3.3</td>\n",
       "      <td>-1.9</td>\n",
       "    </tr>\n",
       "  </tbody>\n",
       "</table>\n",
       "</div>"
      ],
      "text/plain": [
       "      Switzerland  Germany  France  Greece  Italy\n",
       "2010          3.0      4.1     2.0    -5.4    1.7\n",
       "2011          1.8      3.6     2.1    -8.9    0.6\n",
       "2012          1.1      0.4     0.3    -6.6   -2.3\n",
       "2013          1.9      0.1     0.3    -3.3   -1.9"
      ]
     },
     "execution_count": 37,
     "metadata": {},
     "output_type": "execute_result"
    }
   ],
   "source": [
    "growth_frame = pd.DataFrame(growth)\n",
    "growth_frame"
   ]
  },
  {
   "cell_type": "markdown",
   "metadata": {},
   "source": [
    "You like to have the years in the columns and the countries in the rows? No problem, you can transpose the data:"
   ]
  },
  {
   "cell_type": "code",
   "execution_count": 38,
   "metadata": {},
   "outputs": [
    {
     "data": {
      "text/html": [
       "<div>\n",
       "<style scoped>\n",
       "    .dataframe tbody tr th:only-of-type {\n",
       "        vertical-align: middle;\n",
       "    }\n",
       "\n",
       "    .dataframe tbody tr th {\n",
       "        vertical-align: top;\n",
       "    }\n",
       "\n",
       "    .dataframe thead th {\n",
       "        text-align: right;\n",
       "    }\n",
       "</style>\n",
       "<table border=\"1\" class=\"dataframe\">\n",
       "  <thead>\n",
       "    <tr style=\"text-align: right;\">\n",
       "      <th></th>\n",
       "      <th>2010</th>\n",
       "      <th>2011</th>\n",
       "      <th>2012</th>\n",
       "      <th>2013</th>\n",
       "    </tr>\n",
       "  </thead>\n",
       "  <tbody>\n",
       "    <tr>\n",
       "      <th>Switzerland</th>\n",
       "      <td>3.0</td>\n",
       "      <td>1.8</td>\n",
       "      <td>1.1</td>\n",
       "      <td>1.9</td>\n",
       "    </tr>\n",
       "    <tr>\n",
       "      <th>Germany</th>\n",
       "      <td>4.1</td>\n",
       "      <td>3.6</td>\n",
       "      <td>0.4</td>\n",
       "      <td>0.1</td>\n",
       "    </tr>\n",
       "    <tr>\n",
       "      <th>France</th>\n",
       "      <td>2.0</td>\n",
       "      <td>2.1</td>\n",
       "      <td>0.3</td>\n",
       "      <td>0.3</td>\n",
       "    </tr>\n",
       "    <tr>\n",
       "      <th>Greece</th>\n",
       "      <td>-5.4</td>\n",
       "      <td>-8.9</td>\n",
       "      <td>-6.6</td>\n",
       "      <td>-3.3</td>\n",
       "    </tr>\n",
       "    <tr>\n",
       "      <th>Italy</th>\n",
       "      <td>1.7</td>\n",
       "      <td>0.6</td>\n",
       "      <td>-2.3</td>\n",
       "      <td>-1.9</td>\n",
       "    </tr>\n",
       "  </tbody>\n",
       "</table>\n",
       "</div>"
      ],
      "text/plain": [
       "             2010  2011  2012  2013\n",
       "Switzerland   3.0   1.8   1.1   1.9\n",
       "Germany       4.1   3.6   0.4   0.1\n",
       "France        2.0   2.1   0.3   0.3\n",
       "Greece       -5.4  -8.9  -6.6  -3.3\n",
       "Italy         1.7   0.6  -2.3  -1.9"
      ]
     },
     "execution_count": 38,
     "metadata": {},
     "output_type": "execute_result"
    }
   ],
   "source": [
    "growth_frame.T"
   ]
  },
  {
   "cell_type": "code",
   "execution_count": 39,
   "metadata": {},
   "outputs": [
    {
     "name": "stdout",
     "output_type": "stream",
     "text": [
      "             2010  2011  2012  2013\n",
      "Switzerland   3.0   1.8   1.1   1.9\n",
      "Italy         1.7   0.6  -2.3  -1.9\n",
      "Germany       4.1   3.6   0.4   0.1\n",
      "Greece       -5.4  -8.9  -6.6  -3.3\n"
     ]
    }
   ],
   "source": [
    "growth_frame = growth_frame.T\n",
    "\n",
    "growth_frame2 = growth_frame.reindex([\"Switzerland\", \n",
    "                                      \"Italy\", \n",
    "                                      \"Germany\", \n",
    "                                      \"Greece\"])\n",
    "print(growth_frame2)\n"
   ]
  },
  {
   "cell_type": "markdown",
   "metadata": {},
   "source": [
    "#### Filling a DataFrame with random values:"
   ]
  },
  {
   "cell_type": "code",
   "execution_count": 40,
   "metadata": {},
   "outputs": [
    {
     "data": {
      "text/html": [
       "<div>\n",
       "<style scoped>\n",
       "    .dataframe tbody tr th:only-of-type {\n",
       "        vertical-align: middle;\n",
       "    }\n",
       "\n",
       "    .dataframe tbody tr th {\n",
       "        vertical-align: top;\n",
       "    }\n",
       "\n",
       "    .dataframe thead th {\n",
       "        text-align: right;\n",
       "    }\n",
       "</style>\n",
       "<table border=\"1\" class=\"dataframe\">\n",
       "  <thead>\n",
       "    <tr style=\"text-align: right;\">\n",
       "      <th></th>\n",
       "      <th>Frank</th>\n",
       "      <th>Eve</th>\n",
       "      <th>Stella</th>\n",
       "      <th>Guido</th>\n",
       "      <th>Lara</th>\n",
       "    </tr>\n",
       "  </thead>\n",
       "  <tbody>\n",
       "    <tr>\n",
       "      <th>January</th>\n",
       "      <td>-2452.01</td>\n",
       "      <td>-91.03</td>\n",
       "      <td>-122.31</td>\n",
       "      <td>-750.05</td>\n",
       "      <td>931.99</td>\n",
       "    </tr>\n",
       "    <tr>\n",
       "      <th>February</th>\n",
       "      <td>-874.08</td>\n",
       "      <td>-189.72</td>\n",
       "      <td>628.49</td>\n",
       "      <td>-392.53</td>\n",
       "      <td>342.06</td>\n",
       "    </tr>\n",
       "    <tr>\n",
       "      <th>March</th>\n",
       "      <td>-1222.37</td>\n",
       "      <td>-1125.60</td>\n",
       "      <td>-826.90</td>\n",
       "      <td>-107.74</td>\n",
       "      <td>-831.32</td>\n",
       "    </tr>\n",
       "    <tr>\n",
       "      <th>April</th>\n",
       "      <td>1333.69</td>\n",
       "      <td>1468.56</td>\n",
       "      <td>-1537.82</td>\n",
       "      <td>-743.23</td>\n",
       "      <td>624.10</td>\n",
       "    </tr>\n",
       "    <tr>\n",
       "      <th>May</th>\n",
       "      <td>802.27</td>\n",
       "      <td>-1444.17</td>\n",
       "      <td>84.38</td>\n",
       "      <td>-376.80</td>\n",
       "      <td>256.64</td>\n",
       "    </tr>\n",
       "    <tr>\n",
       "      <th>June</th>\n",
       "      <td>-762.07</td>\n",
       "      <td>207.63</td>\n",
       "      <td>-476.06</td>\n",
       "      <td>-2068.54</td>\n",
       "      <td>-1614.25</td>\n",
       "    </tr>\n",
       "    <tr>\n",
       "      <th>July</th>\n",
       "      <td>-1172.28</td>\n",
       "      <td>-2582.39</td>\n",
       "      <td>-351.16</td>\n",
       "      <td>-555.88</td>\n",
       "      <td>-21.40</td>\n",
       "    </tr>\n",
       "    <tr>\n",
       "      <th>August</th>\n",
       "      <td>-468.52</td>\n",
       "      <td>-665.97</td>\n",
       "      <td>833.53</td>\n",
       "      <td>-1650.37</td>\n",
       "      <td>-426.07</td>\n",
       "    </tr>\n",
       "    <tr>\n",
       "      <th>September</th>\n",
       "      <td>-788.57</td>\n",
       "      <td>408.96</td>\n",
       "      <td>-652.73</td>\n",
       "      <td>346.99</td>\n",
       "      <td>875.78</td>\n",
       "    </tr>\n",
       "    <tr>\n",
       "      <th>October</th>\n",
       "      <td>92.81</td>\n",
       "      <td>699.84</td>\n",
       "      <td>251.47</td>\n",
       "      <td>872.04</td>\n",
       "      <td>415.53</td>\n",
       "    </tr>\n",
       "    <tr>\n",
       "      <th>November</th>\n",
       "      <td>558.65</td>\n",
       "      <td>-1699.90</td>\n",
       "      <td>-949.95</td>\n",
       "      <td>212.92</td>\n",
       "      <td>-1874.80</td>\n",
       "    </tr>\n",
       "    <tr>\n",
       "      <th>December</th>\n",
       "      <td>-646.58</td>\n",
       "      <td>-35.22</td>\n",
       "      <td>-1018.20</td>\n",
       "      <td>-644.35</td>\n",
       "      <td>776.56</td>\n",
       "    </tr>\n",
       "  </tbody>\n",
       "</table>\n",
       "</div>"
      ],
      "text/plain": [
       "             Frank      Eve   Stella    Guido     Lara\n",
       "January   -2452.01   -91.03  -122.31  -750.05   931.99\n",
       "February   -874.08  -189.72   628.49  -392.53   342.06\n",
       "March     -1222.37 -1125.60  -826.90  -107.74  -831.32\n",
       "April      1333.69  1468.56 -1537.82  -743.23   624.10\n",
       "May         802.27 -1444.17    84.38  -376.80   256.64\n",
       "June       -762.07   207.63  -476.06 -2068.54 -1614.25\n",
       "July      -1172.28 -2582.39  -351.16  -555.88   -21.40\n",
       "August     -468.52  -665.97   833.53 -1650.37  -426.07\n",
       "September  -788.57   408.96  -652.73   346.99   875.78\n",
       "October      92.81   699.84   251.47   872.04   415.53\n",
       "November    558.65 -1699.90  -949.95   212.92 -1874.80\n",
       "December   -646.58   -35.22 -1018.20  -644.35   776.56"
      ]
     },
     "execution_count": 40,
     "metadata": {},
     "output_type": "execute_result"
    }
   ],
   "source": [
    "import numpy as np\n",
    "\n",
    "names = ['Frank', 'Eve', 'Stella', 'Guido', 'Lara']\n",
    "index = [\"January\", \"February\", \"March\",\n",
    "         \"April\", \"May\", \"June\",\n",
    "         \"July\", \"August\", \"September\",\n",
    "         \"October\", \"November\", \"December\"]\n",
    "df = pd.DataFrame((np.random.randn(12, 5)*1000).round(2),\n",
    "                  columns=names,\n",
    "                  index=index)\n",
    "df"
   ]
  }
 ],
 "metadata": {
  "anaconda-cloud": {},
  "kernelspec": {
   "display_name": "Python 3",
   "language": "python",
   "name": "python3"
  },
  "language_info": {
   "codemirror_mode": {
    "name": "ipython",
    "version": 3
   },
   "file_extension": ".py",
   "mimetype": "text/x-python",
   "name": "python",
   "nbconvert_exporter": "python",
   "pygments_lexer": "ipython3",
   "version": "3.8.5"
  },
  "toc": {
   "base_numbering": 1,
   "nav_menu": {},
   "number_sections": true,
   "sideBar": true,
   "skip_h1_title": false,
   "title_cell": "Table of Contents",
   "title_sidebar": "Contents",
   "toc_cell": false,
   "toc_position": {},
   "toc_section_display": true,
   "toc_window_display": false
  }
 },
 "nbformat": 4,
 "nbformat_minor": 4
}
