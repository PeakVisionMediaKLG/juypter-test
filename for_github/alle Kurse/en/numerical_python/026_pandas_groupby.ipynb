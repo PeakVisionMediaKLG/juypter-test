{
 "cells": [
  {
   "cell_type": "markdown",
   "metadata": {
    "jupyter": {
     "outputs_hidden": false
    }
   },
   "source": [
    "## Pandas: groupby\n",
    "\n",
    "<img width=300 class=\"imgright\" src=\"../images/splitted_banana.webp\" srcset=\"../images/splitted_banana_800w.webp 800w,../images/splitted_banana_700w.webp 700w,../images/splitted_banana_600w.webp 600w,../images/splitted_banana_500w.webp 500w,../images/splitted_banana_400w.webp 400w,../images/splitted_banana_350w.webp 350w,../images/splitted_banana_300w.webp 300w\" alt=\"splitted banana\" />\n",
    "\n",
    "This chapter of our Pandas tutorial deals with an extremely important functionality, i.e. ```groupby```. It is not really complicated, but it is not obvious at first glance and is sometimes found to be difficult. Completely wrong, as we shall see. It is also very important to become familiar with 'groupby' because it can be used to solve important problems that would not be possible without it. The Pandas ```groupby``` operation involves some combination of splitting the object, applying a function, and combining the results. We can split a DataFrame object into groups based on various criteria and row and column-wise, i.e. using ```axis```. \n",
    "\n",
    "'Applying' means \n",
    "\n",
    "- to filter the data, \n",
    "- transform the data or \n",
    "- aggregate the data.\n",
    "\n",
    "\n",
    "```groupby``` can be applied to Pandas Series objects and DataFrame objects! We will learn to understand how it works  with many small practical examples in this tutorial.\n",
    "\n",
    "### goupby with Series"
   ]
  },
  {
   "cell_type": "markdown",
   "metadata": {},
   "source": [
    "We create with the following Python program a Series object with an index of size ```nvalues```. The index will not be unique, because the strings for the index are taken from the list ```fruits```, which has less elements than ```nvalues```:"
   ]
  },
  {
   "cell_type": "code",
   "execution_count": 1,
   "metadata": {},
   "outputs": [
    {
     "name": "stdout",
     "output_type": "stream",
     "text": [
      "bananas        19\n",
      "oranges        12\n",
      "clementines     6\n",
      "oranges         6\n",
      "clementines    11\n",
      "bananas        17\n",
      "clementines     5\n",
      "apples          5\n",
      "clementines    12\n",
      "bananas         9\n",
      "dtype: int64\n"
     ]
    }
   ],
   "source": [
    "import pandas as pd\n",
    "import numpy as np\n",
    "import random\n",
    "\n",
    "nvalues = 30\n",
    "# we create random values, which will be used as the Series values:\n",
    "values = np.random.randint(1, 20, (nvalues,))\n",
    "fruits = [\"bananas\", \"oranges\", \"apples\", \"clementines\", \"cherries\", \"pears\"]\n",
    "fruits_index = np.random.choice(fruits, (nvalues,))\n",
    "\n",
    "s = pd.Series(values, index=fruits_index)\n",
    "print(s[:10])"
   ]
  },
  {
   "cell_type": "code",
   "execution_count": 2,
   "metadata": {},
   "outputs": [
    {
     "data": {
      "text/plain": [
       "<pandas.core.groupby.generic.SeriesGroupBy object at 0x7fda331c1050>"
      ]
     },
     "execution_count": 2,
     "metadata": {},
     "output_type": "execute_result"
    }
   ],
   "source": [
    "grouped = s.groupby(s.index)\n",
    "grouped"
   ]
  },
  {
   "cell_type": "markdown",
   "metadata": {},
   "source": [
    "We can see that we get a ```SeriesGroupBy``` object, if we apply ```groupby``` on the index of our series object ```s```. The result of this operation ```grouped``` is iterable. In every step we get a tuple object returned, which consists of an index label and a series object. The series object is ```s``` reduced to this label."
   ]
  },
  {
   "cell_type": "code",
   "execution_count": 3,
   "metadata": {},
   "outputs": [
    {
     "name": "stdout",
     "output_type": "stream",
     "text": [
      "===== apples =====\n",
      "apples     5\n",
      "apples    17\n",
      "apples     9\n",
      "apples    16\n",
      "apples     9\n",
      "dtype: int64\n",
      "===== bananas =====\n",
      "bananas    19\n",
      "bananas    17\n",
      "bananas     9\n",
      "bananas    13\n",
      "bananas     7\n",
      "bananas    16\n",
      "bananas    11\n",
      "bananas    18\n",
      "bananas    13\n",
      "dtype: int64\n",
      "===== cherries =====\n",
      "cherries    12\n",
      "dtype: int64\n",
      "===== clementines =====\n",
      "clementines     6\n",
      "clementines    11\n",
      "clementines     5\n",
      "clementines    12\n",
      "clementines    12\n",
      "clementines     6\n",
      "dtype: int64\n",
      "===== oranges =====\n",
      "oranges    12\n",
      "oranges     6\n",
      "oranges     9\n",
      "dtype: int64\n",
      "===== pears =====\n",
      "pears    18\n",
      "pears     9\n",
      "pears    10\n",
      "pears    10\n",
      "pears     1\n",
      "pears    16\n",
      "dtype: int64\n"
     ]
    }
   ],
   "source": [
    "grouped = s.groupby(s.index)\n",
    "\n",
    "for fruit, s_obj in grouped:\n",
    "    print(f\"===== {fruit} =====\")\n",
    "    print(s_obj)"
   ]
  },
  {
   "cell_type": "markdown",
   "metadata": {},
   "source": [
    "We could have got the same result - except for the order - without using `` groupby '' with the following Python code."
   ]
  },
  {
   "cell_type": "code",
   "execution_count": 4,
   "metadata": {},
   "outputs": [
    {
     "name": "stdout",
     "output_type": "stream",
     "text": [
      "===== cherries =====\n",
      "12\n",
      "===== oranges =====\n",
      "oranges    12\n",
      "oranges     6\n",
      "oranges     9\n",
      "dtype: int64\n",
      "===== pears =====\n",
      "pears    18\n",
      "pears     9\n",
      "pears    10\n",
      "pears    10\n",
      "pears     1\n",
      "pears    16\n",
      "dtype: int64\n",
      "===== clementines =====\n",
      "clementines     6\n",
      "clementines    11\n",
      "clementines     5\n",
      "clementines    12\n",
      "clementines    12\n",
      "clementines     6\n",
      "dtype: int64\n",
      "===== bananas =====\n",
      "bananas    19\n",
      "bananas    17\n",
      "bananas     9\n",
      "bananas    13\n",
      "bananas     7\n",
      "bananas    16\n",
      "bananas    11\n",
      "bananas    18\n",
      "bananas    13\n",
      "dtype: int64\n",
      "===== apples =====\n",
      "apples     5\n",
      "apples    17\n",
      "apples     9\n",
      "apples    16\n",
      "apples     9\n",
      "dtype: int64\n"
     ]
    }
   ],
   "source": [
    "for fruit in set(s.index):\n",
    "    print(f\"===== {fruit} =====\")\n",
    "    print(s[fruit])"
   ]
  },
  {
   "cell_type": "markdown",
   "metadata": {},
   "source": [
    "### groupby with DataFrames"
   ]
  },
  {
   "cell_type": "markdown",
   "metadata": {},
   "source": [
    "We will start with a very simple DataFrame. The DataFRame has two columns one containing names ```Name``` and the other one ```Coffee```  contains integers which are the number of cups of coffee the person drank."
   ]
  },
  {
   "cell_type": "code",
   "execution_count": 2,
   "metadata": {},
   "outputs": [
    {
     "data": {
      "text/html": [
       "<div>\n",
       "<style scoped>\n",
       "    .dataframe tbody tr th:only-of-type {\n",
       "        vertical-align: middle;\n",
       "    }\n",
       "\n",
       "    .dataframe tbody tr th {\n",
       "        vertical-align: top;\n",
       "    }\n",
       "\n",
       "    .dataframe thead th {\n",
       "        text-align: right;\n",
       "    }\n",
       "</style>\n",
       "<table border=\"1\" class=\"dataframe\">\n",
       "  <thead>\n",
       "    <tr style=\"text-align: right;\">\n",
       "      <th></th>\n",
       "      <th>Name</th>\n",
       "      <th>Coffee</th>\n",
       "      <th>Tea</th>\n",
       "    </tr>\n",
       "  </thead>\n",
       "  <tbody>\n",
       "    <tr>\n",
       "      <th>0</th>\n",
       "      <td>Robert</td>\n",
       "      <td>3</td>\n",
       "      <td>0</td>\n",
       "    </tr>\n",
       "    <tr>\n",
       "      <th>1</th>\n",
       "      <td>Melinda</td>\n",
       "      <td>0</td>\n",
       "      <td>4</td>\n",
       "    </tr>\n",
       "    <tr>\n",
       "      <th>2</th>\n",
       "      <td>Brenda</td>\n",
       "      <td>2</td>\n",
       "      <td>2</td>\n",
       "    </tr>\n",
       "    <tr>\n",
       "      <th>3</th>\n",
       "      <td>Samantha</td>\n",
       "      <td>2</td>\n",
       "      <td>0</td>\n",
       "    </tr>\n",
       "    <tr>\n",
       "      <th>4</th>\n",
       "      <td>Melinda</td>\n",
       "      <td>0</td>\n",
       "      <td>3</td>\n",
       "    </tr>\n",
       "    <tr>\n",
       "      <th>5</th>\n",
       "      <td>Robert</td>\n",
       "      <td>2</td>\n",
       "      <td>0</td>\n",
       "    </tr>\n",
       "    <tr>\n",
       "      <th>6</th>\n",
       "      <td>Melinda</td>\n",
       "      <td>0</td>\n",
       "      <td>3</td>\n",
       "    </tr>\n",
       "    <tr>\n",
       "      <th>7</th>\n",
       "      <td>Brenda</td>\n",
       "      <td>1</td>\n",
       "      <td>2</td>\n",
       "    </tr>\n",
       "    <tr>\n",
       "      <th>8</th>\n",
       "      <td>Samantha</td>\n",
       "      <td>3</td>\n",
       "      <td>0</td>\n",
       "    </tr>\n",
       "  </tbody>\n",
       "</table>\n",
       "</div>"
      ],
      "text/plain": [
       "       Name  Coffee  Tea\n",
       "0    Robert       3    0\n",
       "1   Melinda       0    4\n",
       "2    Brenda       2    2\n",
       "3  Samantha       2    0\n",
       "4   Melinda       0    3\n",
       "5    Robert       2    0\n",
       "6   Melinda       0    3\n",
       "7    Brenda       1    2\n",
       "8  Samantha       3    0"
      ]
     },
     "execution_count": 2,
     "metadata": {},
     "output_type": "execute_result"
    }
   ],
   "source": [
    "import pandas as pd\n",
    "beverages = pd.DataFrame({'Name': ['Robert', 'Melinda', 'Brenda',\n",
    "                                   'Samantha', 'Melinda', 'Robert',\n",
    "                                   'Melinda', 'Brenda', 'Samantha'],\n",
    "                          'Coffee': [3, 0, 2, 2, 0, 2, 0, 1, 3],\n",
    "                          'Tea':    [0, 4, 2, 0, 3, 0, 3, 2, 0]})\n",
    "    \n",
    "beverages"
   ]
  },
  {
   "cell_type": "markdown",
   "metadata": {},
   "source": [
    "It's simple, and we've already seen in the previous chapters of our tutorial how to calculate the total number of coffee cups. The task is to sum a column of a DatFrame, i.e. the 'Coffee' column:"
   ]
  },
  {
   "cell_type": "code",
   "execution_count": 3,
   "metadata": {},
   "outputs": [
    {
     "data": {
      "text/plain": [
       "13"
      ]
     },
     "execution_count": 3,
     "metadata": {},
     "output_type": "execute_result"
    }
   ],
   "source": [
    "beverages['Coffee'].sum()"
   ]
  },
  {
   "cell_type": "markdown",
   "metadata": {},
   "source": [
    "Let's compute now the total number of coffees and teas:"
   ]
  },
  {
   "cell_type": "code",
   "execution_count": 5,
   "metadata": {},
   "outputs": [
    {
     "data": {
      "text/plain": [
       "Coffee    13\n",
       "Tea       14\n",
       "dtype: int64"
      ]
     },
     "execution_count": 5,
     "metadata": {},
     "output_type": "execute_result"
    }
   ],
   "source": [
    "beverages[['Coffee', 'Tea']].sum()"
   ]
  },
  {
   "cell_type": "markdown",
   "metadata": {},
   "source": [
    "'groupby' has not been necessary for the previous tasks. \n",
    "Let's have a look at our DataFrame again. We can see that some of the names appear multiple times. So it will be very interesting to see how many cups of coffee and tea each person drank in total. That means we are applying 'groupby' to the 'Name' column. Thereby we split the DatFrame. Then we apply 'sum' to the results of 'groupby':"
   ]
  },
  {
   "cell_type": "code",
   "execution_count": 6,
   "metadata": {},
   "outputs": [
    {
     "name": "stdout",
     "output_type": "stream",
     "text": [
      "          Coffee  Tea\n",
      "Name                 \n",
      "Brenda         3    4\n",
      "Melinda        0   10\n",
      "Robert         5    0\n",
      "Samantha       5    0\n"
     ]
    }
   ],
   "source": [
    "res = beverages.groupby(['Name']).sum()\n",
    "print(res)"
   ]
  },
  {
   "cell_type": "markdown",
   "metadata": {},
   "source": [
    "We can see that the names are now the index of the resulting DataFrame:"
   ]
  },
  {
   "cell_type": "code",
   "execution_count": 8,
   "metadata": {},
   "outputs": [
    {
     "name": "stdout",
     "output_type": "stream",
     "text": [
      "Index(['Brenda', 'Melinda', 'Robert', 'Samantha'], dtype='object', name='Name')\n"
     ]
    }
   ],
   "source": [
    "print(res.index)"
   ]
  },
  {
   "cell_type": "markdown",
   "metadata": {},
   "source": [
    "There is only one column left, i.e. the ```Coffee``` column:"
   ]
  },
  {
   "cell_type": "code",
   "execution_count": 9,
   "metadata": {},
   "outputs": [
    {
     "name": "stdout",
     "output_type": "stream",
     "text": [
      "Index(['Coffee', 'Tea'], dtype='object')\n"
     ]
    }
   ],
   "source": [
    "print(res.columns)"
   ]
  },
  {
   "cell_type": "markdown",
   "metadata": {},
   "source": [
    "We can also calculate the average number of coffee and tea cups the persons had:"
   ]
  },
  {
   "cell_type": "code",
   "execution_count": 10,
   "metadata": {},
   "outputs": [
    {
     "data": {
      "text/html": [
       "<div>\n",
       "<style scoped>\n",
       "    .dataframe tbody tr th:only-of-type {\n",
       "        vertical-align: middle;\n",
       "    }\n",
       "\n",
       "    .dataframe tbody tr th {\n",
       "        vertical-align: top;\n",
       "    }\n",
       "\n",
       "    .dataframe thead th {\n",
       "        text-align: right;\n",
       "    }\n",
       "</style>\n",
       "<table border=\"1\" class=\"dataframe\">\n",
       "  <thead>\n",
       "    <tr style=\"text-align: right;\">\n",
       "      <th></th>\n",
       "      <th>Coffee</th>\n",
       "      <th>Tea</th>\n",
       "    </tr>\n",
       "    <tr>\n",
       "      <th>Name</th>\n",
       "      <th></th>\n",
       "      <th></th>\n",
       "    </tr>\n",
       "  </thead>\n",
       "  <tbody>\n",
       "    <tr>\n",
       "      <th>Brenda</th>\n",
       "      <td>1.5</td>\n",
       "      <td>2.000000</td>\n",
       "    </tr>\n",
       "    <tr>\n",
       "      <th>Melinda</th>\n",
       "      <td>0.0</td>\n",
       "      <td>3.333333</td>\n",
       "    </tr>\n",
       "    <tr>\n",
       "      <th>Robert</th>\n",
       "      <td>2.5</td>\n",
       "      <td>0.000000</td>\n",
       "    </tr>\n",
       "    <tr>\n",
       "      <th>Samantha</th>\n",
       "      <td>2.5</td>\n",
       "      <td>0.000000</td>\n",
       "    </tr>\n",
       "  </tbody>\n",
       "</table>\n",
       "</div>"
      ],
      "text/plain": [
       "          Coffee       Tea\n",
       "Name                      \n",
       "Brenda       1.5  2.000000\n",
       "Melinda      0.0  3.333333\n",
       "Robert       2.5  0.000000\n",
       "Samantha     2.5  0.000000"
      ]
     },
     "execution_count": 10,
     "metadata": {},
     "output_type": "execute_result"
    }
   ],
   "source": [
    "beverages.groupby(['Name']).mean()"
   ]
  },
  {
   "cell_type": "markdown",
   "metadata": {},
   "source": [
    "#### Another Example\n",
    "\n",
    "The following Python code is used to create the data, we will use in our next ```groupby``` example. It is not necessary to understand the following Python code for the content following afterwards.\n",
    "The module ```faker``` has to be installed. In cae of an Anaconda installation this can be done by executing one of the following commands in a shell:\n",
    "\n",
    "```\n",
    "conda install -c conda-forge faker\n",
    "conda install -c conda-forge/label/gcc7 faker\n",
    "conda install -c conda-forge/label/cf201901 faker\n",
    "conda install -c conda-forge/label/cf202003 faker \n",
    "```\n"
   ]
  },
  {
   "cell_type": "code",
   "execution_count": 11,
   "metadata": {},
   "outputs": [
    {
     "data": {
      "text/html": [
       "<div>\n",
       "<style scoped>\n",
       "    .dataframe tbody tr th:only-of-type {\n",
       "        vertical-align: middle;\n",
       "    }\n",
       "\n",
       "    .dataframe tbody tr th {\n",
       "        vertical-align: top;\n",
       "    }\n",
       "\n",
       "    .dataframe thead th {\n",
       "        text-align: right;\n",
       "    }\n",
       "</style>\n",
       "<table border=\"1\" class=\"dataframe\">\n",
       "  <thead>\n",
       "    <tr style=\"text-align: right;\">\n",
       "      <th></th>\n",
       "      <th>Monday</th>\n",
       "      <th>Tuesday</th>\n",
       "      <th>Wednesday</th>\n",
       "      <th>Thursday</th>\n",
       "      <th>Friday</th>\n",
       "      <th>Saturday</th>\n",
       "      <th>Sunday</th>\n",
       "    </tr>\n",
       "  </thead>\n",
       "  <tbody>\n",
       "    <tr>\n",
       "      <th>Kenan</th>\n",
       "      <td>0</td>\n",
       "      <td>0</td>\n",
       "      <td>5</td>\n",
       "      <td>9</td>\n",
       "      <td>2</td>\n",
       "      <td>2</td>\n",
       "      <td>9</td>\n",
       "    </tr>\n",
       "    <tr>\n",
       "      <th>Jovan</th>\n",
       "      <td>9</td>\n",
       "      <td>1</td>\n",
       "      <td>5</td>\n",
       "      <td>1</td>\n",
       "      <td>0</td>\n",
       "      <td>0</td>\n",
       "      <td>0</td>\n",
       "    </tr>\n",
       "    <tr>\n",
       "      <th>Stanislaus</th>\n",
       "      <td>6</td>\n",
       "      <td>7</td>\n",
       "      <td>5</td>\n",
       "      <td>1</td>\n",
       "      <td>1</td>\n",
       "      <td>5</td>\n",
       "      <td>3</td>\n",
       "    </tr>\n",
       "    <tr>\n",
       "      <th>Adelinde</th>\n",
       "      <td>2</td>\n",
       "      <td>2</td>\n",
       "      <td>5</td>\n",
       "      <td>8</td>\n",
       "      <td>7</td>\n",
       "      <td>4</td>\n",
       "      <td>9</td>\n",
       "    </tr>\n",
       "    <tr>\n",
       "      <th>Cengiz</th>\n",
       "      <td>2</td>\n",
       "      <td>7</td>\n",
       "      <td>3</td>\n",
       "      <td>8</td>\n",
       "      <td>4</td>\n",
       "      <td>6</td>\n",
       "      <td>9</td>\n",
       "    </tr>\n",
       "    <tr>\n",
       "      <th>Edeltraud</th>\n",
       "      <td>4</td>\n",
       "      <td>7</td>\n",
       "      <td>9</td>\n",
       "      <td>9</td>\n",
       "      <td>7</td>\n",
       "      <td>9</td>\n",
       "      <td>7</td>\n",
       "    </tr>\n",
       "    <tr>\n",
       "      <th>Sara</th>\n",
       "      <td>7</td>\n",
       "      <td>1</td>\n",
       "      <td>7</td>\n",
       "      <td>0</td>\n",
       "      <td>7</td>\n",
       "      <td>8</td>\n",
       "      <td>3</td>\n",
       "    </tr>\n",
       "    <tr>\n",
       "      <th>Gerda</th>\n",
       "      <td>9</td>\n",
       "      <td>8</td>\n",
       "      <td>7</td>\n",
       "      <td>0</td>\n",
       "      <td>8</td>\n",
       "      <td>5</td>\n",
       "      <td>8</td>\n",
       "    </tr>\n",
       "    <tr>\n",
       "      <th>Tilman</th>\n",
       "      <td>5</td>\n",
       "      <td>1</td>\n",
       "      <td>9</td>\n",
       "      <td>4</td>\n",
       "      <td>7</td>\n",
       "      <td>5</td>\n",
       "      <td>5</td>\n",
       "    </tr>\n",
       "    <tr>\n",
       "      <th>Roswita</th>\n",
       "      <td>1</td>\n",
       "      <td>8</td>\n",
       "      <td>5</td>\n",
       "      <td>3</td>\n",
       "      <td>5</td>\n",
       "      <td>3</td>\n",
       "      <td>9</td>\n",
       "    </tr>\n",
       "  </tbody>\n",
       "</table>\n",
       "</div>"
      ],
      "text/plain": [
       "            Monday  Tuesday  Wednesday  Thursday  Friday  Saturday  Sunday\n",
       "Kenan            0        0          5         9       2         2       9\n",
       "Jovan            9        1          5         1       0         0       0\n",
       "Stanislaus       6        7          5         1       1         5       3\n",
       "Adelinde         2        2          5         8       7         4       9\n",
       "Cengiz           2        7          3         8       4         6       9\n",
       "Edeltraud        4        7          9         9       7         9       7\n",
       "Sara             7        1          7         0       7         8       3\n",
       "Gerda            9        8          7         0       8         5       8\n",
       "Tilman           5        1          9         4       7         5       5\n",
       "Roswita          1        8          5         3       5         3       9"
      ]
     },
     "execution_count": 11,
     "metadata": {},
     "output_type": "execute_result"
    }
   ],
   "source": [
    "from faker import Faker\n",
    "import numpy as np\n",
    "from itertools import chain\n",
    "\n",
    "fake = Faker('de_DE')\n",
    "\n",
    "number_of_names = 10\n",
    "names = []\n",
    "for _ in range(number_of_names):\n",
    "    names.append(fake.first_name())\n",
    "\n",
    "\n",
    "data = {}\n",
    "workweek = (\"Monday\", \"Tuesday\", \"Wednesday\", \"Thursday\", \"Friday\")\n",
    "weekend = (\"Saturday\", \"Sunday\")\n",
    "\n",
    "for day in chain(workweek, weekend):\n",
    "    data[day] = np.random.randint(0, 10, (number_of_names,))\n",
    "    \n",
    "data_df = pd.DataFrame(data, index=names)\n",
    "data_df"
   ]
  },
  {
   "cell_type": "code",
   "execution_count": 12,
   "metadata": {},
   "outputs": [
    {
     "name": "stdout",
     "output_type": "stream",
     "text": [
      "['Kenan', 'Jovan', 'Stanislaus', 'Adelinde', 'Cengiz', 'Edeltraud', 'Sara', 'Gerda', 'Tilman', 'Roswita']\n"
     ]
    }
   ],
   "source": [
    "print(names)"
   ]
  },
  {
   "cell_type": "code",
   "execution_count": 13,
   "metadata": {},
   "outputs": [
    {
     "data": {
      "text/html": [
       "<div>\n",
       "<style scoped>\n",
       "    .dataframe tbody tr th:only-of-type {\n",
       "        vertical-align: middle;\n",
       "    }\n",
       "\n",
       "    .dataframe tbody tr th {\n",
       "        vertical-align: top;\n",
       "    }\n",
       "\n",
       "    .dataframe thead th {\n",
       "        text-align: right;\n",
       "    }\n",
       "</style>\n",
       "<table border=\"1\" class=\"dataframe\">\n",
       "  <thead>\n",
       "    <tr style=\"text-align: right;\">\n",
       "      <th></th>\n",
       "      <th>Monday</th>\n",
       "      <th>Tuesday</th>\n",
       "      <th>Wednesday</th>\n",
       "      <th>Thursday</th>\n",
       "      <th>Friday</th>\n",
       "      <th>Saturday</th>\n",
       "      <th>Sunday</th>\n",
       "    </tr>\n",
       "  </thead>\n",
       "  <tbody>\n",
       "    <tr>\n",
       "      <th>Ortwin</th>\n",
       "      <td>0</td>\n",
       "      <td>2</td>\n",
       "      <td>6</td>\n",
       "      <td>1</td>\n",
       "      <td>3</td>\n",
       "      <td>8</td>\n",
       "      <td>0</td>\n",
       "    </tr>\n",
       "    <tr>\n",
       "      <th>Mara</th>\n",
       "      <td>9</td>\n",
       "      <td>6</td>\n",
       "      <td>1</td>\n",
       "      <td>8</td>\n",
       "      <td>5</td>\n",
       "      <td>4</td>\n",
       "      <td>8</td>\n",
       "    </tr>\n",
       "    <tr>\n",
       "      <th>Siegrun</th>\n",
       "      <td>2</td>\n",
       "      <td>3</td>\n",
       "      <td>1</td>\n",
       "      <td>6</td>\n",
       "      <td>6</td>\n",
       "      <td>8</td>\n",
       "      <td>7</td>\n",
       "    </tr>\n",
       "    <tr>\n",
       "      <th>Sylvester</th>\n",
       "      <td>3</td>\n",
       "      <td>3</td>\n",
       "      <td>9</td>\n",
       "      <td>9</td>\n",
       "      <td>6</td>\n",
       "      <td>2</td>\n",
       "      <td>8</td>\n",
       "    </tr>\n",
       "    <tr>\n",
       "      <th>Metin</th>\n",
       "      <td>7</td>\n",
       "      <td>5</td>\n",
       "      <td>4</td>\n",
       "      <td>9</td>\n",
       "      <td>5</td>\n",
       "      <td>3</td>\n",
       "      <td>9</td>\n",
       "    </tr>\n",
       "    <tr>\n",
       "      <th>Adeline</th>\n",
       "      <td>3</td>\n",
       "      <td>5</td>\n",
       "      <td>0</td>\n",
       "      <td>4</td>\n",
       "      <td>2</td>\n",
       "      <td>9</td>\n",
       "      <td>7</td>\n",
       "    </tr>\n",
       "    <tr>\n",
       "      <th>Utz</th>\n",
       "      <td>9</td>\n",
       "      <td>7</td>\n",
       "      <td>8</td>\n",
       "      <td>1</td>\n",
       "      <td>2</td>\n",
       "      <td>3</td>\n",
       "      <td>2</td>\n",
       "    </tr>\n",
       "    <tr>\n",
       "      <th>Susan</th>\n",
       "      <td>2</td>\n",
       "      <td>7</td>\n",
       "      <td>6</td>\n",
       "      <td>7</td>\n",
       "      <td>4</td>\n",
       "      <td>4</td>\n",
       "      <td>0</td>\n",
       "    </tr>\n",
       "    <tr>\n",
       "      <th>Gisbert</th>\n",
       "      <td>4</td>\n",
       "      <td>1</td>\n",
       "      <td>8</td>\n",
       "      <td>3</td>\n",
       "      <td>6</td>\n",
       "      <td>9</td>\n",
       "      <td>5</td>\n",
       "    </tr>\n",
       "    <tr>\n",
       "      <th>Senol</th>\n",
       "      <td>9</td>\n",
       "      <td>0</td>\n",
       "      <td>8</td>\n",
       "      <td>2</td>\n",
       "      <td>5</td>\n",
       "      <td>7</td>\n",
       "      <td>2</td>\n",
       "    </tr>\n",
       "  </tbody>\n",
       "</table>\n",
       "</div>"
      ],
      "text/plain": [
       "           Monday  Tuesday  Wednesday  Thursday  Friday  Saturday  Sunday\n",
       "Ortwin          0        2          6         1       3         8       0\n",
       "Mara            9        6          1         8       5         4       8\n",
       "Siegrun         2        3          1         6       6         8       7\n",
       "Sylvester       3        3          9         9       6         2       8\n",
       "Metin           7        5          4         9       5         3       9\n",
       "Adeline         3        5          0         4       2         9       7\n",
       "Utz             9        7          8         1       2         3       2\n",
       "Susan           2        7          6         7       4         4       0\n",
       "Gisbert         4        1          8         3       6         9       5\n",
       "Senol           9        0          8         2       5         7       2"
      ]
     },
     "execution_count": 13,
     "metadata": {},
     "output_type": "execute_result"
    }
   ],
   "source": [
    "names = ('Ortwin', 'Mara', 'Siegrun', 'Sylvester', 'Metin', 'Adeline', 'Utz', 'Susan', 'Gisbert', 'Senol')\n",
    "data = {'Monday': np.array([0, 9, 2, 3, 7, 3, 9, 2, 4, 9]),\n",
    "        'Tuesday': np.array([2, 6, 3, 3, 5, 5, 7, 7, 1, 0]),\n",
    "        'Wednesday': np.array([6, 1, 1, 9, 4, 0, 8, 6, 8, 8]),\n",
    "        'Thursday': np.array([1, 8, 6, 9, 9, 4, 1, 7, 3, 2]),\n",
    "        'Friday': np.array([3, 5, 6, 6, 5, 2, 2, 4, 6, 5]),\n",
    "        'Saturday': np.array([8, 4, 8, 2, 3, 9, 3, 4, 9, 7]),\n",
    "        'Sunday': np.array([0, 8, 7, 8, 9, 7, 2, 0, 5, 2])}\n",
    "\n",
    "data_df = pd.DataFrame(data, index=names)\n",
    "data_df"
   ]
  },
  {
   "cell_type": "markdown",
   "metadata": {},
   "source": [
    "We will demonstrate with this DataFrame how to combine columns by a function."
   ]
  },
  {
   "cell_type": "code",
   "execution_count": 14,
   "metadata": {},
   "outputs": [],
   "source": [
    "def is_weekend(day):\n",
    "    if day in {'Saturday', 'Sunday'}:\n",
    "        return \"Weekend\"\n",
    "    else:\n",
    "        return \"Workday\"\n",
    "        "
   ]
  },
  {
   "cell_type": "code",
   "execution_count": 15,
   "metadata": {},
   "outputs": [
    {
     "name": "stdout",
     "output_type": "stream",
     "text": [
      "           Saturday  Sunday\n",
      "Ortwin            8       0\n",
      "Mara              4       8\n",
      "Siegrun           8       7\n",
      "Sylvester         2       8\n",
      "Metin             3       9\n",
      "Adeline           9       7\n",
      "Utz               3       2\n",
      "Susan             4       0\n",
      "Gisbert           9       5\n",
      "Senol             7       2\n",
      "           Monday  Tuesday  Wednesday  Thursday  Friday\n",
      "Ortwin          0        2          6         1       3\n",
      "Mara            9        6          1         8       5\n",
      "Siegrun         2        3          1         6       6\n",
      "Sylvester       3        3          9         9       6\n",
      "Metin           7        5          4         9       5\n",
      "Adeline         3        5          0         4       2\n",
      "Utz             9        7          8         1       2\n",
      "Susan           2        7          6         7       4\n",
      "Gisbert         4        1          8         3       6\n",
      "Senol           9        0          8         2       5\n"
     ]
    }
   ],
   "source": [
    "for res_func, df in data_df.groupby(by=is_weekend, axis=1):\n",
    "    print(df)"
   ]
  },
  {
   "cell_type": "code",
   "execution_count": 16,
   "metadata": {},
   "outputs": [
    {
     "data": {
      "text/html": [
       "<div>\n",
       "<style scoped>\n",
       "    .dataframe tbody tr th:only-of-type {\n",
       "        vertical-align: middle;\n",
       "    }\n",
       "\n",
       "    .dataframe tbody tr th {\n",
       "        vertical-align: top;\n",
       "    }\n",
       "\n",
       "    .dataframe thead th {\n",
       "        text-align: right;\n",
       "    }\n",
       "</style>\n",
       "<table border=\"1\" class=\"dataframe\">\n",
       "  <thead>\n",
       "    <tr style=\"text-align: right;\">\n",
       "      <th></th>\n",
       "      <th>Weekend</th>\n",
       "      <th>Workday</th>\n",
       "    </tr>\n",
       "  </thead>\n",
       "  <tbody>\n",
       "    <tr>\n",
       "      <th>Ortwin</th>\n",
       "      <td>8</td>\n",
       "      <td>12</td>\n",
       "    </tr>\n",
       "    <tr>\n",
       "      <th>Mara</th>\n",
       "      <td>12</td>\n",
       "      <td>29</td>\n",
       "    </tr>\n",
       "    <tr>\n",
       "      <th>Siegrun</th>\n",
       "      <td>15</td>\n",
       "      <td>18</td>\n",
       "    </tr>\n",
       "    <tr>\n",
       "      <th>Sylvester</th>\n",
       "      <td>10</td>\n",
       "      <td>30</td>\n",
       "    </tr>\n",
       "    <tr>\n",
       "      <th>Metin</th>\n",
       "      <td>12</td>\n",
       "      <td>30</td>\n",
       "    </tr>\n",
       "    <tr>\n",
       "      <th>Adeline</th>\n",
       "      <td>16</td>\n",
       "      <td>14</td>\n",
       "    </tr>\n",
       "    <tr>\n",
       "      <th>Utz</th>\n",
       "      <td>5</td>\n",
       "      <td>27</td>\n",
       "    </tr>\n",
       "    <tr>\n",
       "      <th>Susan</th>\n",
       "      <td>4</td>\n",
       "      <td>26</td>\n",
       "    </tr>\n",
       "    <tr>\n",
       "      <th>Gisbert</th>\n",
       "      <td>14</td>\n",
       "      <td>22</td>\n",
       "    </tr>\n",
       "    <tr>\n",
       "      <th>Senol</th>\n",
       "      <td>9</td>\n",
       "      <td>24</td>\n",
       "    </tr>\n",
       "  </tbody>\n",
       "</table>\n",
       "</div>"
      ],
      "text/plain": [
       "           Weekend  Workday\n",
       "Ortwin           8       12\n",
       "Mara            12       29\n",
       "Siegrun         15       18\n",
       "Sylvester       10       30\n",
       "Metin           12       30\n",
       "Adeline         16       14\n",
       "Utz              5       27\n",
       "Susan            4       26\n",
       "Gisbert         14       22\n",
       "Senol            9       24"
      ]
     },
     "execution_count": 16,
     "metadata": {},
     "output_type": "execute_result"
    }
   ],
   "source": [
    "data_df.groupby(by=is_weekend, axis=1).sum()"
   ]
  },
  {
   "cell_type": "markdown",
   "metadata": {},
   "source": [
    "### Exercises\n",
    "\n",
    "#### Exercise 1\n",
    "\n",
    "Calculate the average prices of the products of the following DataFrame:"
   ]
  },
  {
   "cell_type": "code",
   "execution_count": 17,
   "metadata": {},
   "outputs": [
    {
     "data": {
      "text/html": [
       "<div>\n",
       "<style scoped>\n",
       "    .dataframe tbody tr th:only-of-type {\n",
       "        vertical-align: middle;\n",
       "    }\n",
       "\n",
       "    .dataframe tbody tr th {\n",
       "        vertical-align: top;\n",
       "    }\n",
       "\n",
       "    .dataframe thead th {\n",
       "        text-align: right;\n",
       "    }\n",
       "</style>\n",
       "<table border=\"1\" class=\"dataframe\">\n",
       "  <thead>\n",
       "    <tr style=\"text-align: right;\">\n",
       "      <th></th>\n",
       "      <th>products</th>\n",
       "      <th>colours</th>\n",
       "      <th>customer_price</th>\n",
       "      <th>non_customer_price</th>\n",
       "    </tr>\n",
       "  </thead>\n",
       "  <tbody>\n",
       "    <tr>\n",
       "      <th>0</th>\n",
       "      <td>Oppilume</td>\n",
       "      <td>blue</td>\n",
       "      <td>2345.89</td>\n",
       "      <td>2445.89</td>\n",
       "    </tr>\n",
       "    <tr>\n",
       "      <th>1</th>\n",
       "      <td>Dreaker</td>\n",
       "      <td>blue</td>\n",
       "      <td>2390.50</td>\n",
       "      <td>2495.50</td>\n",
       "    </tr>\n",
       "    <tr>\n",
       "      <th>2</th>\n",
       "      <td>Lotadilo</td>\n",
       "      <td>blue</td>\n",
       "      <td>1820.00</td>\n",
       "      <td>1980.00</td>\n",
       "    </tr>\n",
       "    <tr>\n",
       "      <th>3</th>\n",
       "      <td>Crosteron</td>\n",
       "      <td>green</td>\n",
       "      <td>3100.00</td>\n",
       "      <td>3400.00</td>\n",
       "    </tr>\n",
       "    <tr>\n",
       "      <th>4</th>\n",
       "      <td>Wazzasoft</td>\n",
       "      <td>blue</td>\n",
       "      <td>1784.50</td>\n",
       "      <td>1921.00</td>\n",
       "    </tr>\n",
       "    <tr>\n",
       "      <th>5</th>\n",
       "      <td>Oppilume</td>\n",
       "      <td>green</td>\n",
       "      <td>2545.89</td>\n",
       "      <td>2645.89</td>\n",
       "    </tr>\n",
       "    <tr>\n",
       "      <th>6</th>\n",
       "      <td>Dreaker</td>\n",
       "      <td>green</td>\n",
       "      <td>2590.50</td>\n",
       "      <td>2655.50</td>\n",
       "    </tr>\n",
       "    <tr>\n",
       "      <th>7</th>\n",
       "      <td>Lotadilo</td>\n",
       "      <td>green</td>\n",
       "      <td>2220.00</td>\n",
       "      <td>2140.00</td>\n",
       "    </tr>\n",
       "    <tr>\n",
       "      <th>8</th>\n",
       "      <td>Wazzasoft</td>\n",
       "      <td>red</td>\n",
       "      <td>2084.50</td>\n",
       "      <td>2190.00</td>\n",
       "    </tr>\n",
       "  </tbody>\n",
       "</table>\n",
       "</div>"
      ],
      "text/plain": [
       "    products colours  customer_price  non_customer_price\n",
       "0   Oppilume    blue         2345.89             2445.89\n",
       "1    Dreaker    blue         2390.50             2495.50\n",
       "2   Lotadilo    blue         1820.00             1980.00\n",
       "3  Crosteron   green         3100.00             3400.00\n",
       "4  Wazzasoft    blue         1784.50             1921.00\n",
       "5   Oppilume   green         2545.89             2645.89\n",
       "6    Dreaker   green         2590.50             2655.50\n",
       "7   Lotadilo   green         2220.00             2140.00\n",
       "8  Wazzasoft     red         2084.50             2190.00"
      ]
     },
     "execution_count": 17,
     "metadata": {},
     "output_type": "execute_result"
    }
   ],
   "source": [
    "import pandas as pd\n",
    "\n",
    "d = {\"products\": [\"Oppilume\", \"Dreaker\", \"Lotadilo\", \n",
    "                  \"Crosteron\", \"Wazzasoft\", \"Oppilume\", \n",
    "                  \"Dreaker\", \"Lotadilo\", \"Wazzasoft\"],\n",
    "     \"colours\": [\"blue\", \"blue\", \"blue\", \n",
    "                 \"green\", \"blue\", \"green\", \n",
    "                 \"green\", \"green\", \"red\"],\n",
    "     \"customer_price\": [2345.89, 2390.50, 1820.00, \n",
    "                        3100.00, 1784.50, 2545.89,\n",
    "                        2590.50, 2220.00, 2084.50],\n",
    "     \"non_customer_price\": [2445.89, 2495.50, 1980.00, \n",
    "                            3400.00, 1921.00, 2645.89, \n",
    "                            2655.50, 2140.00, 2190.00]}\n",
    "\n",
    "product_prices = pd.DataFrame(d)\n",
    "product_prices"
   ]
  },
  {
   "cell_type": "markdown",
   "metadata": {},
   "source": [
    "#### Exercise 2\n",
    "\n",
    "Calculate the sum of the price according to the colours.\n",
    "\n",
    "\n",
    "#### Exercise 3\n",
    "\n",
    "Read in the ```project_times.txt``` file from the ```data1``` directory. This rows of this file contain comma separated the date, the name of the programmer, the name of the project, the time the programmer spent on the project.\n",
    "\n",
    "Calculate the time spend on all the projects per day\n",
    "\n",
    "#### Exercise 4\n",
    "\n",
    "Create a DateFrame containing the total times spent on a project per day by all the programmers\n",
    "\n",
    "#### Exercise 5\n",
    "\n",
    "Calculate the total times spent on the projects over the whole month.\n",
    "\n",
    "#### Exercise 6\n",
    "\n",
    "Calculate the monthly times of each programmer regardless of the projects\n",
    "\n",
    "#### Exercise 7\n",
    "\n",
    "Rearrange the DataFrame with a MultiIndex consisting of the date and the project names, the columns should be the programmer names and the data of the columns the time of the programmers spent on the projects.\n",
    "\n",
    "\n",
    "```\n",
    "                   time\n",
    "programmer         Antonie  Elise  Fatima  Hella  Mariola\n",
    "date     project\n",
    "2020-01-01 BIRDY   NaN      NaN    NaN     1.50   1.75\n",
    "           NSTAT   NaN      NaN    0.25    NaN    1.25\n",
    "           XTOR    NaN      NaN    NaN     1.00   3.50\n",
    "2020-01-02 BIRDY   NaN      NaN    NaN     1.75   2.00\n",
    "           NSTAT   0.5      NaN    NaN     NaN    1.75\n",
    "```\n",
    "\n",
    "Replace the NaN values by 0."
   ]
  },
  {
   "cell_type": "markdown",
   "metadata": {},
   "source": [
    "### Solutions\n",
    "\n",
    "#### Solution to Exercise 1"
   ]
  },
  {
   "cell_type": "code",
   "execution_count": 18,
   "metadata": {},
   "outputs": [
    {
     "data": {
      "text/html": [
       "<div>\n",
       "<style scoped>\n",
       "    .dataframe tbody tr th:only-of-type {\n",
       "        vertical-align: middle;\n",
       "    }\n",
       "\n",
       "    .dataframe tbody tr th {\n",
       "        vertical-align: top;\n",
       "    }\n",
       "\n",
       "    .dataframe thead th {\n",
       "        text-align: right;\n",
       "    }\n",
       "</style>\n",
       "<table border=\"1\" class=\"dataframe\">\n",
       "  <thead>\n",
       "    <tr style=\"text-align: right;\">\n",
       "      <th></th>\n",
       "      <th>customer_price</th>\n",
       "      <th>non_customer_price</th>\n",
       "    </tr>\n",
       "    <tr>\n",
       "      <th>products</th>\n",
       "      <th></th>\n",
       "      <th></th>\n",
       "    </tr>\n",
       "  </thead>\n",
       "  <tbody>\n",
       "    <tr>\n",
       "      <th>Crosteron</th>\n",
       "      <td>3100.00</td>\n",
       "      <td>3400.00</td>\n",
       "    </tr>\n",
       "    <tr>\n",
       "      <th>Dreaker</th>\n",
       "      <td>2490.50</td>\n",
       "      <td>2575.50</td>\n",
       "    </tr>\n",
       "    <tr>\n",
       "      <th>Lotadilo</th>\n",
       "      <td>2020.00</td>\n",
       "      <td>2060.00</td>\n",
       "    </tr>\n",
       "    <tr>\n",
       "      <th>Oppilume</th>\n",
       "      <td>2445.89</td>\n",
       "      <td>2545.89</td>\n",
       "    </tr>\n",
       "    <tr>\n",
       "      <th>Wazzasoft</th>\n",
       "      <td>1934.50</td>\n",
       "      <td>2055.50</td>\n",
       "    </tr>\n",
       "  </tbody>\n",
       "</table>\n",
       "</div>"
      ],
      "text/plain": [
       "           customer_price  non_customer_price\n",
       "products                                     \n",
       "Crosteron         3100.00             3400.00\n",
       "Dreaker           2490.50             2575.50\n",
       "Lotadilo          2020.00             2060.00\n",
       "Oppilume          2445.89             2545.89\n",
       "Wazzasoft         1934.50             2055.50"
      ]
     },
     "execution_count": 18,
     "metadata": {},
     "output_type": "execute_result"
    }
   ],
   "source": [
    "x = product_prices.groupby(\"products\").mean()\n",
    "x"
   ]
  },
  {
   "cell_type": "markdown",
   "metadata": {},
   "source": [
    "#### Solution to Exercise 2"
   ]
  },
  {
   "cell_type": "code",
   "execution_count": 19,
   "metadata": {},
   "outputs": [
    {
     "data": {
      "text/html": [
       "<div>\n",
       "<style scoped>\n",
       "    .dataframe tbody tr th:only-of-type {\n",
       "        vertical-align: middle;\n",
       "    }\n",
       "\n",
       "    .dataframe tbody tr th {\n",
       "        vertical-align: top;\n",
       "    }\n",
       "\n",
       "    .dataframe thead th {\n",
       "        text-align: right;\n",
       "    }\n",
       "</style>\n",
       "<table border=\"1\" class=\"dataframe\">\n",
       "  <thead>\n",
       "    <tr style=\"text-align: right;\">\n",
       "      <th></th>\n",
       "      <th>customer_price</th>\n",
       "      <th>non_customer_price</th>\n",
       "    </tr>\n",
       "    <tr>\n",
       "      <th>colours</th>\n",
       "      <th></th>\n",
       "      <th></th>\n",
       "    </tr>\n",
       "  </thead>\n",
       "  <tbody>\n",
       "    <tr>\n",
       "      <th>blue</th>\n",
       "      <td>8340.89</td>\n",
       "      <td>8842.39</td>\n",
       "    </tr>\n",
       "    <tr>\n",
       "      <th>green</th>\n",
       "      <td>10456.39</td>\n",
       "      <td>10841.39</td>\n",
       "    </tr>\n",
       "    <tr>\n",
       "      <th>red</th>\n",
       "      <td>2084.50</td>\n",
       "      <td>2190.00</td>\n",
       "    </tr>\n",
       "  </tbody>\n",
       "</table>\n",
       "</div>"
      ],
      "text/plain": [
       "         customer_price  non_customer_price\n",
       "colours                                    \n",
       "blue            8340.89             8842.39\n",
       "green          10456.39            10841.39\n",
       "red             2084.50             2190.00"
      ]
     },
     "execution_count": 19,
     "metadata": {},
     "output_type": "execute_result"
    }
   ],
   "source": [
    "x = product_prices.groupby(\"colours\").sum()\n",
    "x"
   ]
  },
  {
   "cell_type": "markdown",
   "metadata": {},
   "source": [
    "#### Solution to Exercise 3"
   ]
  },
  {
   "cell_type": "code",
   "execution_count": 20,
   "metadata": {},
   "outputs": [
    {
     "data": {
      "text/html": [
       "<div>\n",
       "<style scoped>\n",
       "    .dataframe tbody tr th:only-of-type {\n",
       "        vertical-align: middle;\n",
       "    }\n",
       "\n",
       "    .dataframe tbody tr th {\n",
       "        vertical-align: top;\n",
       "    }\n",
       "\n",
       "    .dataframe thead th {\n",
       "        text-align: right;\n",
       "    }\n",
       "</style>\n",
       "<table border=\"1\" class=\"dataframe\">\n",
       "  <thead>\n",
       "    <tr style=\"text-align: right;\">\n",
       "      <th></th>\n",
       "      <th>programmer</th>\n",
       "      <th>project</th>\n",
       "      <th>time</th>\n",
       "    </tr>\n",
       "    <tr>\n",
       "      <th>date</th>\n",
       "      <th></th>\n",
       "      <th></th>\n",
       "      <th></th>\n",
       "    </tr>\n",
       "  </thead>\n",
       "  <tbody>\n",
       "    <tr>\n",
       "      <th>2020-01-01</th>\n",
       "      <td>Hella</td>\n",
       "      <td>XTOR</td>\n",
       "      <td>1.00</td>\n",
       "    </tr>\n",
       "    <tr>\n",
       "      <th>2020-01-01</th>\n",
       "      <td>Hella</td>\n",
       "      <td>BIRDY</td>\n",
       "      <td>1.50</td>\n",
       "    </tr>\n",
       "    <tr>\n",
       "      <th>2020-01-01</th>\n",
       "      <td>Fatima</td>\n",
       "      <td>NSTAT</td>\n",
       "      <td>0.25</td>\n",
       "    </tr>\n",
       "    <tr>\n",
       "      <th>2020-01-01</th>\n",
       "      <td>Mariola</td>\n",
       "      <td>NSTAT</td>\n",
       "      <td>0.50</td>\n",
       "    </tr>\n",
       "    <tr>\n",
       "      <th>2020-01-01</th>\n",
       "      <td>Mariola</td>\n",
       "      <td>BIRDY</td>\n",
       "      <td>1.75</td>\n",
       "    </tr>\n",
       "    <tr>\n",
       "      <th>...</th>\n",
       "      <td>...</td>\n",
       "      <td>...</td>\n",
       "      <td>...</td>\n",
       "    </tr>\n",
       "    <tr>\n",
       "      <th>2030-01-30</th>\n",
       "      <td>Antonie</td>\n",
       "      <td>XTOR</td>\n",
       "      <td>0.50</td>\n",
       "    </tr>\n",
       "    <tr>\n",
       "      <th>2030-01-31</th>\n",
       "      <td>Hella</td>\n",
       "      <td>BIRDY</td>\n",
       "      <td>1.25</td>\n",
       "    </tr>\n",
       "    <tr>\n",
       "      <th>2030-01-31</th>\n",
       "      <td>Hella</td>\n",
       "      <td>BIRDY</td>\n",
       "      <td>1.75</td>\n",
       "    </tr>\n",
       "    <tr>\n",
       "      <th>2030-01-31</th>\n",
       "      <td>Mariola</td>\n",
       "      <td>BIRDY</td>\n",
       "      <td>1.00</td>\n",
       "    </tr>\n",
       "    <tr>\n",
       "      <th>2030-01-31</th>\n",
       "      <td>Hella</td>\n",
       "      <td>BIRDY</td>\n",
       "      <td>1.00</td>\n",
       "    </tr>\n",
       "  </tbody>\n",
       "</table>\n",
       "<p>17492 rows × 3 columns</p>\n",
       "</div>"
      ],
      "text/plain": [
       "           programmer project  time\n",
       "date                               \n",
       "2020-01-01      Hella    XTOR  1.00\n",
       "2020-01-01      Hella   BIRDY  1.50\n",
       "2020-01-01     Fatima   NSTAT  0.25\n",
       "2020-01-01    Mariola   NSTAT  0.50\n",
       "2020-01-01    Mariola   BIRDY  1.75\n",
       "...               ...     ...   ...\n",
       "2030-01-30    Antonie    XTOR  0.50\n",
       "2030-01-31      Hella   BIRDY  1.25\n",
       "2030-01-31      Hella   BIRDY  1.75\n",
       "2030-01-31    Mariola   BIRDY  1.00\n",
       "2030-01-31      Hella   BIRDY  1.00\n",
       "\n",
       "[17492 rows x 3 columns]"
      ]
     },
     "execution_count": 20,
     "metadata": {},
     "output_type": "execute_result"
    }
   ],
   "source": [
    "import pandas as pd\n",
    "\n",
    "df = pd.read_csv(\"data1/project_times.txt\", index_col=0)\n",
    "df"
   ]
  },
  {
   "cell_type": "code",
   "execution_count": 21,
   "metadata": {},
   "outputs": [
    {
     "name": "stdout",
     "output_type": "stream",
     "text": [
      "             time\n",
      "date             \n",
      "2020-01-01   9.25\n",
      "2020-01-02   6.00\n",
      "2020-01-03   2.50\n",
      "2020-01-06   5.75\n",
      "2020-01-07  15.00\n",
      "2020-01-08  13.25\n",
      "2020-01-09  10.25\n",
      "2020-01-10  17.00\n",
      "2020-01-13   4.75\n",
      "2020-01-14  10.00\n"
     ]
    }
   ],
   "source": [
    "times_per_day = df.groupby(df.index).sum()\n",
    "print(times_per_day[:10])"
   ]
  },
  {
   "cell_type": "markdown",
   "metadata": {},
   "source": [
    "#### Solution to Exercise 4\n",
    "\n"
   ]
  },
  {
   "cell_type": "code",
   "execution_count": 22,
   "metadata": {},
   "outputs": [
    {
     "name": "stdout",
     "output_type": "stream",
     "text": [
      "                    time\n",
      "date       project      \n",
      "2020-01-01 BIRDY    3.25\n",
      "           NSTAT    1.50\n",
      "           XTOR     4.50\n",
      "2020-01-02 BIRDY    3.75\n",
      "           NSTAT    2.25\n",
      "2020-01-03 BIRDY    1.00\n",
      "           NSTAT    0.25\n",
      "           XTOR     1.25\n",
      "2020-01-06 BIRDY    2.75\n",
      "           NSTAT    0.75\n"
     ]
    }
   ],
   "source": [
    "times_per_day_project = df.groupby([df.index, 'project']).sum()\n",
    "print(times_per_day_project[:10])"
   ]
  },
  {
   "cell_type": "markdown",
   "metadata": {},
   "source": [
    "#### Solution to Exercise 5"
   ]
  },
  {
   "cell_type": "code",
   "execution_count": 23,
   "metadata": {},
   "outputs": [
    {
     "data": {
      "text/html": [
       "<div>\n",
       "<style scoped>\n",
       "    .dataframe tbody tr th:only-of-type {\n",
       "        vertical-align: middle;\n",
       "    }\n",
       "\n",
       "    .dataframe tbody tr th {\n",
       "        vertical-align: top;\n",
       "    }\n",
       "\n",
       "    .dataframe thead th {\n",
       "        text-align: right;\n",
       "    }\n",
       "</style>\n",
       "<table border=\"1\" class=\"dataframe\">\n",
       "  <thead>\n",
       "    <tr style=\"text-align: right;\">\n",
       "      <th></th>\n",
       "      <th>time</th>\n",
       "    </tr>\n",
       "    <tr>\n",
       "      <th>project</th>\n",
       "      <th></th>\n",
       "    </tr>\n",
       "  </thead>\n",
       "  <tbody>\n",
       "    <tr>\n",
       "      <th>BIRDY</th>\n",
       "      <td>9605.75</td>\n",
       "    </tr>\n",
       "    <tr>\n",
       "      <th>NSTAT</th>\n",
       "      <td>8707.75</td>\n",
       "    </tr>\n",
       "    <tr>\n",
       "      <th>XTOR</th>\n",
       "      <td>6427.50</td>\n",
       "    </tr>\n",
       "  </tbody>\n",
       "</table>\n",
       "</div>"
      ],
      "text/plain": [
       "            time\n",
       "project         \n",
       "BIRDY    9605.75\n",
       "NSTAT    8707.75\n",
       "XTOR     6427.50"
      ]
     },
     "execution_count": 23,
     "metadata": {},
     "output_type": "execute_result"
    }
   ],
   "source": [
    "df.groupby(['project']).sum()"
   ]
  },
  {
   "cell_type": "markdown",
   "metadata": {},
   "source": [
    "#### Solution to Exercise 6"
   ]
  },
  {
   "cell_type": "code",
   "execution_count": 24,
   "metadata": {},
   "outputs": [
    {
     "data": {
      "text/html": [
       "<div>\n",
       "<style scoped>\n",
       "    .dataframe tbody tr th:only-of-type {\n",
       "        vertical-align: middle;\n",
       "    }\n",
       "\n",
       "    .dataframe tbody tr th {\n",
       "        vertical-align: top;\n",
       "    }\n",
       "\n",
       "    .dataframe thead th {\n",
       "        text-align: right;\n",
       "    }\n",
       "</style>\n",
       "<table border=\"1\" class=\"dataframe\">\n",
       "  <thead>\n",
       "    <tr style=\"text-align: right;\">\n",
       "      <th></th>\n",
       "      <th>time</th>\n",
       "    </tr>\n",
       "    <tr>\n",
       "      <th>programmer</th>\n",
       "      <th></th>\n",
       "    </tr>\n",
       "  </thead>\n",
       "  <tbody>\n",
       "    <tr>\n",
       "      <th>Antonie</th>\n",
       "      <td>1511.25</td>\n",
       "    </tr>\n",
       "    <tr>\n",
       "      <th>Elise</th>\n",
       "      <td>80.00</td>\n",
       "    </tr>\n",
       "    <tr>\n",
       "      <th>Fatima</th>\n",
       "      <td>593.00</td>\n",
       "    </tr>\n",
       "    <tr>\n",
       "      <th>Hella</th>\n",
       "      <td>10642.00</td>\n",
       "    </tr>\n",
       "    <tr>\n",
       "      <th>Mariola</th>\n",
       "      <td>11914.75</td>\n",
       "    </tr>\n",
       "  </tbody>\n",
       "</table>\n",
       "</div>"
      ],
      "text/plain": [
       "                time\n",
       "programmer          \n",
       "Antonie      1511.25\n",
       "Elise          80.00\n",
       "Fatima        593.00\n",
       "Hella       10642.00\n",
       "Mariola     11914.75"
      ]
     },
     "execution_count": 24,
     "metadata": {},
     "output_type": "execute_result"
    }
   ],
   "source": [
    "df.groupby(['programmer']).sum()"
   ]
  },
  {
   "cell_type": "markdown",
   "metadata": {},
   "source": [
    "#### Solution to Exercise 7"
   ]
  },
  {
   "cell_type": "code",
   "execution_count": 25,
   "metadata": {},
   "outputs": [
    {
     "data": {
      "text/html": [
       "<div>\n",
       "<style scoped>\n",
       "    .dataframe tbody tr th:only-of-type {\n",
       "        vertical-align: middle;\n",
       "    }\n",
       "\n",
       "    .dataframe tbody tr th {\n",
       "        vertical-align: top;\n",
       "    }\n",
       "\n",
       "    .dataframe thead tr th {\n",
       "        text-align: left;\n",
       "    }\n",
       "\n",
       "    .dataframe thead tr:last-of-type th {\n",
       "        text-align: right;\n",
       "    }\n",
       "</style>\n",
       "<table border=\"1\" class=\"dataframe\">\n",
       "  <thead>\n",
       "    <tr>\n",
       "      <th></th>\n",
       "      <th></th>\n",
       "      <th colspan=\"5\" halign=\"left\">time</th>\n",
       "    </tr>\n",
       "    <tr>\n",
       "      <th></th>\n",
       "      <th>programmer</th>\n",
       "      <th>Antonie</th>\n",
       "      <th>Elise</th>\n",
       "      <th>Fatima</th>\n",
       "      <th>Hella</th>\n",
       "      <th>Mariola</th>\n",
       "    </tr>\n",
       "    <tr>\n",
       "      <th>date</th>\n",
       "      <th>project</th>\n",
       "      <th></th>\n",
       "      <th></th>\n",
       "      <th></th>\n",
       "      <th></th>\n",
       "      <th></th>\n",
       "    </tr>\n",
       "  </thead>\n",
       "  <tbody>\n",
       "    <tr>\n",
       "      <th rowspan=\"3\" valign=\"top\">2020-01-01</th>\n",
       "      <th>BIRDY</th>\n",
       "      <td>NaN</td>\n",
       "      <td>NaN</td>\n",
       "      <td>NaN</td>\n",
       "      <td>1.50</td>\n",
       "      <td>1.75</td>\n",
       "    </tr>\n",
       "    <tr>\n",
       "      <th>NSTAT</th>\n",
       "      <td>NaN</td>\n",
       "      <td>NaN</td>\n",
       "      <td>0.25</td>\n",
       "      <td>NaN</td>\n",
       "      <td>1.25</td>\n",
       "    </tr>\n",
       "    <tr>\n",
       "      <th>XTOR</th>\n",
       "      <td>NaN</td>\n",
       "      <td>NaN</td>\n",
       "      <td>NaN</td>\n",
       "      <td>1.00</td>\n",
       "      <td>3.50</td>\n",
       "    </tr>\n",
       "    <tr>\n",
       "      <th rowspan=\"2\" valign=\"top\">2020-01-02</th>\n",
       "      <th>BIRDY</th>\n",
       "      <td>NaN</td>\n",
       "      <td>NaN</td>\n",
       "      <td>NaN</td>\n",
       "      <td>1.75</td>\n",
       "      <td>2.00</td>\n",
       "    </tr>\n",
       "    <tr>\n",
       "      <th>NSTAT</th>\n",
       "      <td>0.5</td>\n",
       "      <td>NaN</td>\n",
       "      <td>NaN</td>\n",
       "      <td>NaN</td>\n",
       "      <td>1.75</td>\n",
       "    </tr>\n",
       "    <tr>\n",
       "      <th>...</th>\n",
       "      <th>...</th>\n",
       "      <td>...</td>\n",
       "      <td>...</td>\n",
       "      <td>...</td>\n",
       "      <td>...</td>\n",
       "      <td>...</td>\n",
       "    </tr>\n",
       "    <tr>\n",
       "      <th>2030-01-29</th>\n",
       "      <th>XTOR</th>\n",
       "      <td>NaN</td>\n",
       "      <td>NaN</td>\n",
       "      <td>NaN</td>\n",
       "      <td>1.00</td>\n",
       "      <td>5.50</td>\n",
       "    </tr>\n",
       "    <tr>\n",
       "      <th rowspan=\"3\" valign=\"top\">2030-01-30</th>\n",
       "      <th>BIRDY</th>\n",
       "      <td>NaN</td>\n",
       "      <td>NaN</td>\n",
       "      <td>NaN</td>\n",
       "      <td>0.75</td>\n",
       "      <td>4.75</td>\n",
       "    </tr>\n",
       "    <tr>\n",
       "      <th>NSTAT</th>\n",
       "      <td>NaN</td>\n",
       "      <td>NaN</td>\n",
       "      <td>NaN</td>\n",
       "      <td>3.75</td>\n",
       "      <td>NaN</td>\n",
       "    </tr>\n",
       "    <tr>\n",
       "      <th>XTOR</th>\n",
       "      <td>0.5</td>\n",
       "      <td>NaN</td>\n",
       "      <td>NaN</td>\n",
       "      <td>0.75</td>\n",
       "      <td>NaN</td>\n",
       "    </tr>\n",
       "    <tr>\n",
       "      <th>2030-01-31</th>\n",
       "      <th>BIRDY</th>\n",
       "      <td>NaN</td>\n",
       "      <td>NaN</td>\n",
       "      <td>NaN</td>\n",
       "      <td>4.00</td>\n",
       "      <td>1.00</td>\n",
       "    </tr>\n",
       "  </tbody>\n",
       "</table>\n",
       "<p>7037 rows × 5 columns</p>\n",
       "</div>"
      ],
      "text/plain": [
       "                      time                           \n",
       "programmer         Antonie Elise Fatima Hella Mariola\n",
       "date       project                                   \n",
       "2020-01-01 BIRDY       NaN   NaN    NaN  1.50    1.75\n",
       "           NSTAT       NaN   NaN   0.25   NaN    1.25\n",
       "           XTOR        NaN   NaN    NaN  1.00    3.50\n",
       "2020-01-02 BIRDY       NaN   NaN    NaN  1.75    2.00\n",
       "           NSTAT       0.5   NaN    NaN   NaN    1.75\n",
       "...                    ...   ...    ...   ...     ...\n",
       "2030-01-29 XTOR        NaN   NaN    NaN  1.00    5.50\n",
       "2030-01-30 BIRDY       NaN   NaN    NaN  0.75    4.75\n",
       "           NSTAT       NaN   NaN    NaN  3.75     NaN\n",
       "           XTOR        0.5   NaN    NaN  0.75     NaN\n",
       "2030-01-31 BIRDY       NaN   NaN    NaN  4.00    1.00\n",
       "\n",
       "[7037 rows x 5 columns]"
      ]
     },
     "execution_count": 25,
     "metadata": {},
     "output_type": "execute_result"
    }
   ],
   "source": [
    "x = df.groupby([df.index, 'project', 'programmer']).sum()\n",
    "\n",
    "x = x.unstack()\n",
    "x"
   ]
  },
  {
   "cell_type": "code",
   "execution_count": 26,
   "metadata": {},
   "outputs": [
    {
     "name": "stdout",
     "output_type": "stream",
     "text": [
      "                      time                           \n",
      "programmer         Antonie Elise Fatima Hella Mariola\n",
      "date       project                                   \n",
      "2020-01-01 BIRDY      0.00   0.0   0.00  1.50    1.75\n",
      "           NSTAT      0.00   0.0   0.25  0.00    1.25\n",
      "           XTOR       0.00   0.0   0.00  1.00    3.50\n",
      "2020-01-02 BIRDY      0.00   0.0   0.00  1.75    2.00\n",
      "           NSTAT      0.50   0.0   0.00  0.00    1.75\n",
      "2020-01-03 BIRDY      0.00   0.0   1.00  0.00    0.00\n",
      "           NSTAT      0.25   0.0   0.00  0.00    0.00\n",
      "           XTOR       0.00   0.0   0.00  0.50    0.75\n",
      "2020-01-06 BIRDY      0.00   0.0   0.00  2.50    0.25\n",
      "           NSTAT      0.00   0.0   0.00  0.00    0.75\n"
     ]
    }
   ],
   "source": [
    "x = x.fillna(0)\n",
    "print(x[:10])"
   ]
  }
 ],
 "metadata": {
  "anaconda-cloud": {},
  "kernelspec": {
   "display_name": "Python 3",
   "language": "python",
   "name": "python3"
  },
  "language_info": {
   "codemirror_mode": {
    "name": "ipython",
    "version": 3
   },
   "file_extension": ".py",
   "mimetype": "text/x-python",
   "name": "python",
   "nbconvert_exporter": "python",
   "pygments_lexer": "ipython3",
   "version": "3.7.6"
  }
 },
 "nbformat": 4,
 "nbformat_minor": 4
}
