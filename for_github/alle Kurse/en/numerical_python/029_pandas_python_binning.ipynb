{
 "cells": [
  {
   "cell_type": "markdown",
   "metadata": {},
   "source": [
    "<br><br>\n",
    "## Binning in Python and Pandas\n",
    "\n",
    "<br><br>\n",
    "### Introduction\n",
    "\n",
    "<img width=300 class=\"imgright\" src=\"../images/binning.webp\" srcset=\"../images/binning_600w.webp 600w,../images/binning_500w.webp 500w,../images/binning_400w.webp 400w,../images/binning_350w.webp 350w,../images/binning_300w.webp 300w\" alt=\"Binning\" />\n",
    "<br><br>\n",
    "Data binning, which is also known as bucketing or discretization, is a technique used in data processing and statistics. Binning can be used for example, if there are more possible data points than observed data points. An example is to bin the  body heights of people into intervals or categories. Let us assume, we take the heights of 30 people. The length values can be between - roughly guessing - 1.30 metres to 2.50 metres. Theoretically, there are 120 different cm values possible, but we can have at most 30 different values from our sample group. One way to group them could be to put the measured values into bins ranging from 1.30 - 1.50 metres, 1.50 - 1.70 metres, 1.70 - 1.90 metres and so on. This means that the original data values, will be assigned to a bin into wich they fit according to their size. The original values  will be replaced by values representing the corresponding intervals.  Binning is a form of quantization.\n",
    "<br><br>\n",
    "Bins do not necessarily have to be numerical, they can be categorical values of any kind, like \"dogs\", \"cats\", \"hamsters\", and so on.\n",
    "<br><br>\n",
    "\n",
    "Binning is also used in image processing, binning. It can be used to reduce the amount of data, by combining neighboring pixel into single pixels. kxk binning reduces areas of k x k pixels into single pixel.\n",
    "\n",
    "<br><br>\n",
    "Pandas provides easy ways to create bins and to bin data. Before we describe these Pandas functionalities, we will introduce basic Python functions, working on Python lists and tuples.\n",
    "\n",
    "### Binning in Python\n",
    "\n",
    "The following Python function can be used to create bins. "
   ]
  },
  {
   "cell_type": "code",
   "execution_count": 17,
   "metadata": {},
   "outputs": [],
   "source": [
    "def create_bins(lower_bound, width, quantity):\n",
    "    \"\"\" create_bins returns an equal-width (distance) partitioning. \n",
    "        It returns an ascending list of tuples, representing the intervals.\n",
    "        A tuple bins[i], i.e. (bins[i][0], bins[i][1])  with i > 0 \n",
    "        and i < quantity, satisfies the following conditions:\n",
    "            (1) bins[i][0] + width == bins[i][1]\n",
    "            (2) bins[i-1][0] + width == bins[i][0] and\n",
    "                bins[i-1][1] + width == bins[i][1]\n",
    "    \"\"\"\n",
    "    \n",
    "\n",
    "    bins = []\n",
    "    for low in range(lower_bound, \n",
    "                     lower_bound + quantity*width + 1, width):\n",
    "        bins.append((low, low+width))\n",
    "    return bins\n"
   ]
  },
  {
   "cell_type": "markdown",
   "metadata": {},
   "source": [
    "We will create now five bins (quantity=5) with a width of 10 (width=10) starting from 10 (lower_bound=10):"
   ]
  },
  {
   "cell_type": "code",
   "execution_count": 18,
   "metadata": {},
   "outputs": [
    {
     "data": {
      "text/plain": [
       "[(10, 20), (20, 30), (30, 40), (40, 50), (50, 60), (60, 70)]"
      ]
     },
     "execution_count": 18,
     "metadata": {},
     "output_type": "execute_result"
    }
   ],
   "source": [
    "bins = create_bins(lower_bound=10,\n",
    "                   width=10,\n",
    "                   quantity=5)\n",
    "\n",
    "bins"
   ]
  },
  {
   "cell_type": "markdown",
   "metadata": {},
   "source": [
    "The next function 'find_bin' is called with a list or tuple of bin 'bins', which have to be two-tuples or lists of two elements. The function finds the index of the interval, where the value 'value' is contained:"
   ]
  },
  {
   "cell_type": "code",
   "execution_count": 19,
   "metadata": {},
   "outputs": [],
   "source": [
    "def find_bin(value, bins):\n",
    "    \"\"\" bins is a list of tuples, like [(0,20), (20, 40), (40, 60)],\n",
    "        binning returns the smallest index i of bins so that\n",
    "        bin[i][0] <= value < bin[i][1]\n",
    "    \"\"\"\n",
    "    \n",
    "    for i in range(0, len(bins)):\n",
    "        if bins[i][0] <= value < bins[i][1]:\n",
    "            return i\n",
    "    return -1"
   ]
  },
  {
   "cell_type": "code",
   "execution_count": 20,
   "metadata": {},
   "outputs": [
    {
     "name": "stdout",
     "output_type": "stream",
     "text": [
      "[(50, 54), (54, 58), (58, 62), (62, 66), (66, 70), (70, 74), (74, 78), (78, 82), (82, 86), (86, 90), (90, 94)]\n",
      "73.4 5 (70, 74)\n",
      "69.3 4 (66, 70)\n",
      "64.9 3 (62, 66)\n",
      "75.6 6 (74, 78)\n",
      "74.9 6 (74, 78)\n",
      "80.3 7 (78, 82)\n",
      "78.6 7 (78, 82)\n",
      "84.1 8 (82, 86)\n",
      "88.9 9 (86, 90)\n",
      "90.3 10 (90, 94)\n",
      "83.4 8 (82, 86)\n",
      "69.3 4 (66, 70)\n",
      "52.4 0 (50, 54)\n",
      "58.3 2 (58, 62)\n",
      "67.4 4 (66, 70)\n",
      "74.0 6 (74, 78)\n",
      "89.3 9 (86, 90)\n",
      "63.4 3 (62, 66)\n",
      "Counter({4: 3, 6: 3, 3: 2, 7: 2, 8: 2, 9: 2, 5: 1, 10: 1, 0: 1, 2: 1})\n"
     ]
    }
   ],
   "source": [
    "from collections import Counter\n",
    "\n",
    "bins = create_bins(lower_bound=50,\n",
    "                   width=4,\n",
    "                   quantity=10)\n",
    "\n",
    "print(bins)\n",
    "\n",
    "weights_of_persons = [73.4, 69.3, 64.9, 75.6, 74.9, 80.3, \n",
    "                      78.6, 84.1, 88.9, 90.3, 83.4, 69.3, \n",
    "                      52.4, 58.3, 67.4, 74.0, 89.3, 63.4]\n",
    "\n",
    "binned_weights = []\n",
    "\n",
    "for value in weights_of_persons:\n",
    "    bin_index = find_bin(value, bins)\n",
    "    print(value, bin_index, bins[bin_index])\n",
    "    binned_weights.append(bin_index)\n",
    "    \n",
    "frequencies = Counter(binned_weights)\n",
    "print(frequencies)\n"
   ]
  },
  {
   "cell_type": "markdown",
   "metadata": {},
   "source": [
    "### Binning with Pandas\n",
    "\n",
    "The module Pandas of Python provides powerful functionalities for the binning of data.\n",
    "We will demonstrate this by using our previous data.\n",
    "\n",
    "\n",
    "#### Bins used by Pandas\n",
    "\n",
    "We used a list of tuples as bins in our previous example. We have to turn this list into a usable data structure for the pandas function \"cut\".  This data structure is an IntervalIndex. We can do this with pd.IntervalIndex.from_tuples:"
   ]
  },
  {
   "cell_type": "code",
   "execution_count": 21,
   "metadata": {},
   "outputs": [],
   "source": [
    "import pandas as pd\n",
    "\n",
    "bins2 = pd.IntervalIndex.from_tuples(bins)"
   ]
  },
  {
   "cell_type": "markdown",
   "metadata": {},
   "source": [
    "\"cut\" is the name of the Pandas function, which is needed to bin values into bins. \n",
    "\"cut\" takes many parameters but the most important ones are \"x\" for the actual values und \"bins\", defining the IntervalIndex. \"x\" can be any 1-dimensional array-like structure, e.g. tuples, lists, nd-arrays and so on:"
   ]
  },
  {
   "cell_type": "code",
   "execution_count": 22,
   "metadata": {},
   "outputs": [
    {
     "name": "stdout",
     "output_type": "stream",
     "text": [
      "[(70, 74], (66, 70], (62, 66], (74, 78], (74, 78], ..., (58, 62], (66, 70], (70, 74], (86, 90], (62, 66]]\n",
      "Length: 18\n",
      "Categories (11, interval[int64]): [(50, 54] < (54, 58] < (58, 62] < (62, 66] ... (78, 82] < (82, 86] < (86, 90] < (90, 94]]\n"
     ]
    }
   ],
   "source": [
    "categorical_object = pd.cut(weights_of_persons, bins2)\n",
    "print(categorical_object)"
   ]
  },
  {
   "cell_type": "markdown",
   "metadata": {},
   "source": [
    "The result of the Pandas function \"cut\" is a so-called \"Categorical object\". Each bin is a category. The categories are described in a mathematical notation. \"(70, 74]\" means that this bins contains values from 70 to 74 whereas 70 is not included but 74 is included. Mathematically, this is a half-open interval, i.e. nn interval in which one endpoint is included but not the other. Sometimes it is also called an half-closed interval.\n",
    "<br><br>\n",
    "We had also defined the bins in our previous chapter as half-open intervals, but the other way round, i.e. left side closed and the right side open. When we used pd.IntervalIndex.from_tuples, we could have defined the \"openness\" of this bins by setting the parameter \"closed\" to one of the values:\n",
    "\n",
    "- 'left': closed on the left side and open on the right\n",
    "- 'right': (The default) open on the left side and closed on the right\n",
    "- 'both': closed on both sides \n",
    "- 'neither': open on both sides\n",
    "\n",
    "To have the same behaviour as in our previous chapter, we will set the parameter closed to \"left\":"
   ]
  },
  {
   "cell_type": "code",
   "execution_count": 23,
   "metadata": {},
   "outputs": [
    {
     "name": "stdout",
     "output_type": "stream",
     "text": [
      "[[70, 74), [66, 70), [62, 66), [74, 78), [74, 78), ..., [58, 62), [66, 70), [74, 78), [86, 90), [62, 66)]\n",
      "Length: 18\n",
      "Categories (11, interval[int64]): [[50, 54) < [54, 58) < [58, 62) < [62, 66) ... [78, 82) < [82, 86) < [86, 90) < [90, 94)]\n"
     ]
    }
   ],
   "source": [
    "bins2 = pd.IntervalIndex.from_tuples(bins, closed=\"left\")\n",
    "categorical_object = pd.cut(weights_of_persons, bins2)\n",
    "print(categorical_object)"
   ]
  },
  {
   "cell_type": "markdown",
   "metadata": {},
   "source": [
    "#### Other Ways to Define Bins\n",
    "\n",
    "We used an IntervalIndex as a bin for binning the weight data. The function \"cut\" can also cope with two other kinds of bin representations:\n",
    "\n",
    "- an integer:<br>\n",
    "defining the number of equal-width bins in the range of the values \"x\". The\n",
    "          range of \"x\" is extended by .1% on each side to include the minimum\n",
    "          and maximum values of \"x\".\n",
    "- sequence of scalars:<br>\n",
    "Defines the bin edges allowing for non-uniform\n",
    "          width. No extension of the range of \"x\" is done.\n"
   ]
  },
  {
   "cell_type": "code",
   "execution_count": 24,
   "metadata": {
    "scrolled": true
   },
   "outputs": [
    {
     "name": "stdout",
     "output_type": "stream",
     "text": [
      "[(71.35, 73.456], (69.244, 71.35], (62.928, 65.033], (75.561, 77.667], (73.456, 75.561], ..., (56.611, 58.717], (67.139, 69.244], (73.456, 75.561], (88.194, 90.3], (62.928, 65.033]]\n",
      "Length: 18\n",
      "Categories (18, interval[float64]): [(52.362, 54.506] < (54.506, 56.611] < (56.611, 58.717] < (58.717, 60.822] ... (81.878, 83.983] < (83.983, 86.089] < (86.089, 88.194] < (88.194, 90.3]]\n"
     ]
    }
   ],
   "source": [
    "categorical_object = pd.cut(weights_of_persons, 18)\n",
    "\n",
    "print(categorical_object)"
   ]
  },
  {
   "cell_type": "code",
   "execution_count": 25,
   "metadata": {},
   "outputs": [
    {
     "name": "stdout",
     "output_type": "stream",
     "text": [
      "[50, 54, 58, 62, 66, 70, 74, 78, 82, 86, 90, 94]\n",
      "[[70, 74), [66, 70), [62, 66), [74, 78), [74, 78), ..., [58, 62), [66, 70), [74, 78), [86, 90), [62, 66)]\n",
      "Length: 18\n",
      "Categories (11, interval[int64]): [[50, 54) < [54, 58) < [58, 62) < [62, 66) ... [78, 82) < [82, 86) < [86, 90) < [90, 94)]\n"
     ]
    }
   ],
   "source": [
    "\n",
    "sequence_of_scalars = [ x[0] for x in bins]\n",
    "sequence_of_scalars.append(bins[-1][1])\n",
    "print(sequence_of_scalars)\n",
    "categorical_object = pd.cut(weights_of_persons, \n",
    "                            sequence_of_scalars,\n",
    "                            right=False)\n",
    "print(categorical_object)"
   ]
  },
  {
   "cell_type": "markdown",
   "metadata": {},
   "source": [
    "#### Bin counts and value counts\n",
    "\n",
    "The next and most interesting question is now how we can see the actual bin counts. This can be accomplished with the function \"value_counts\":"
   ]
  },
  {
   "cell_type": "code",
   "execution_count": 26,
   "metadata": {},
   "outputs": [
    {
     "data": {
      "text/plain": [
       "[74, 78)    3\n",
       "[66, 70)    3\n",
       "[86, 90)    2\n",
       "[82, 86)    2\n",
       "[78, 82)    2\n",
       "[62, 66)    2\n",
       "[90, 94)    1\n",
       "[70, 74)    1\n",
       "[58, 62)    1\n",
       "[50, 54)    1\n",
       "[54, 58)    0\n",
       "dtype: int64"
      ]
     },
     "execution_count": 26,
     "metadata": {},
     "output_type": "execute_result"
    }
   ],
   "source": [
    "pd.value_counts(categorical_object)"
   ]
  },
  {
   "cell_type": "markdown",
   "metadata": {},
   "source": [
    "\"categorical_object.codes\" provides you with a labelling of the input values into the binning categories:"
   ]
  },
  {
   "cell_type": "code",
   "execution_count": 27,
   "metadata": {},
   "outputs": [
    {
     "data": {
      "text/plain": [
       "array([ 5,  4,  3,  6,  6,  7,  7,  8,  9, 10,  8,  4,  0,  2,  4,  6,  9,\n",
       "        3], dtype=int8)"
      ]
     },
     "execution_count": 27,
     "metadata": {},
     "output_type": "execute_result"
    }
   ],
   "source": [
    "labels = categorical_object.codes\n",
    "labels"
   ]
  },
  {
   "cell_type": "markdown",
   "metadata": {},
   "source": [
    "categories is the IntervalIndex of the categories of the label indices:"
   ]
  },
  {
   "cell_type": "code",
   "execution_count": 28,
   "metadata": {},
   "outputs": [
    {
     "data": {
      "text/plain": [
       "IntervalIndex([[50, 54), [54, 58), [58, 62), [62, 66), [66, 70) ... [74, 78), [78, 82), [82, 86), [86, 90), [90, 94)],\n",
       "              closed='left',\n",
       "              dtype='interval[int64]')"
      ]
     },
     "execution_count": 28,
     "metadata": {},
     "output_type": "execute_result"
    }
   ],
   "source": [
    "categories = categorical_object.categories\n",
    "categories"
   ]
  },
  {
   "cell_type": "markdown",
   "metadata": {},
   "source": [
    "Correspondence from weights data to bins:"
   ]
  },
  {
   "cell_type": "code",
   "execution_count": 29,
   "metadata": {},
   "outputs": [
    {
     "name": "stdout",
     "output_type": "stream",
     "text": [
      "73.4 5 [70, 74)\n",
      "69.3 4 [66, 70)\n",
      "64.9 3 [62, 66)\n",
      "75.6 6 [74, 78)\n",
      "74.9 6 [74, 78)\n",
      "80.3 7 [78, 82)\n",
      "78.6 7 [78, 82)\n",
      "84.1 8 [82, 86)\n",
      "88.9 9 [86, 90)\n",
      "90.3 10 [90, 94)\n",
      "83.4 8 [82, 86)\n",
      "69.3 4 [66, 70)\n",
      "52.4 0 [50, 54)\n",
      "58.3 2 [58, 62)\n",
      "67.4 4 [66, 70)\n",
      "74.0 6 [74, 78)\n",
      "89.3 9 [86, 90)\n",
      "63.4 3 [62, 66)\n"
     ]
    }
   ],
   "source": [
    "for index in range(len(weights_of_persons)):\n",
    "    label_index = labels[index]\n",
    "    print(weights_of_persons[index], label_index, categories[label_index] )"
   ]
  },
  {
   "cell_type": "code",
   "execution_count": 30,
   "metadata": {},
   "outputs": [
    {
     "data": {
      "text/plain": [
       "IntervalIndex([[50, 54), [54, 58), [58, 62), [62, 66), [66, 70) ... [74, 78), [78, 82), [82, 86), [86, 90), [90, 94)],\n",
       "              closed='left',\n",
       "              dtype='interval[int64]')"
      ]
     },
     "execution_count": 30,
     "metadata": {},
     "output_type": "execute_result"
    }
   ],
   "source": [
    "categorical_object.categories"
   ]
  },
  {
   "cell_type": "markdown",
   "metadata": {},
   "source": [
    "#### Naming bins\n",
    "\n",
    "Let's imagine, we have an University, which confers three levels of Latin honors depending on the grade point average (GPA):\n",
    "\n",
    "- \"summa cum laude\" requires a GPA above 3.9\n",
    "- \"magna cum laude\" if the GPA is above 3.8\n",
    "- \"cum laude\" if the GPA of 3.6 or above\n"
   ]
  },
  {
   "cell_type": "code",
   "execution_count": 31,
   "metadata": {},
   "outputs": [
    {
     "data": {
      "text/plain": [
       "none               6\n",
       "summa cum laude    2\n",
       "cum laude          2\n",
       "magna cum laude    1\n",
       "dtype: int64"
      ]
     },
     "execution_count": 31,
     "metadata": {},
     "output_type": "execute_result"
    }
   ],
   "source": [
    "degrees = [\"none\", \"cum laude\", \"magna cum laude\", \"summa cum laude\"]\n",
    "student_results = [3.93, 3.24, 2.80, 2.83, 3.91, 3.698, 3.731, 3.25, 3.24, 3.82, 3.22]\n",
    "\n",
    "student_results_degrees = pd.cut(student_results, [0, 3.6, 3.8, 3.9, 4.0], labels=degrees)\n",
    "pd.value_counts(student_results_degrees)"
   ]
  },
  {
   "cell_type": "markdown",
   "metadata": {},
   "source": [
    "Let's have a look at the individual degrees of each student:"
   ]
  },
  {
   "cell_type": "code",
   "execution_count": 32,
   "metadata": {},
   "outputs": [
    {
     "name": "stdout",
     "output_type": "stream",
     "text": [
      "3.93 3 summa cum laude\n",
      "3.24 0 none\n",
      "2.8 0 none\n",
      "2.83 0 none\n",
      "3.91 3 summa cum laude\n",
      "3.698 1 cum laude\n",
      "3.731 1 cum laude\n",
      "3.25 0 none\n",
      "3.24 0 none\n",
      "3.82 2 magna cum laude\n",
      "3.22 0 none\n"
     ]
    }
   ],
   "source": [
    "labels = student_results_degrees.codes\n",
    "categories = student_results_degrees.categories\n",
    "\n",
    "for index in range(len(student_results)):\n",
    "    label_index = labels[index]\n",
    "    print(student_results[index], label_index, categories[label_index] )"
   ]
  }
 ],
 "metadata": {
  "kernelspec": {
   "display_name": "Python 3",
   "language": "python",
   "name": "python3"
  },
  "language_info": {
   "codemirror_mode": {
    "name": "ipython",
    "version": 3
   },
   "file_extension": ".py",
   "mimetype": "text/x-python",
   "name": "python",
   "nbconvert_exporter": "python",
   "pygments_lexer": "ipython3",
   "version": "3.7.3"
  }
 },
 "nbformat": 4,
 "nbformat_minor": 2
}
