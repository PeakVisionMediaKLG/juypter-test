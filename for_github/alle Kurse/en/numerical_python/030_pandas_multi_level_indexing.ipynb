{
 "cells": [
  {
   "cell_type": "markdown",
   "metadata": {},
   "source": [
    "## Pandas Tutorial: Multi-level Indexing\n",
    "\n",
    "### Introduction\n",
    "\n",
    "<img width=\"60%\" class=\"imgright\" src=\"../images/multi_level_indexing.webp\" srcset=\"../images/multi_level_indexing_800w.webp 800w,../images/multi_level_indexing_700w.webp 700w,../images/multi_level_indexing_600w.webp 600w,../images/multi_level_indexing_500w.webp 500w,../images/multi_level_indexing_400w.webp 400w,../images/multi_level_indexing_350w.webp 350w,../images/multi_level_indexing_300w.webp 300w\" alt=\"Multi Level Indexing\" />\n",
    "\n",
    "We learned the basic concepts of Pandas in our previous chapter of our tutorial on Pandas. We introduced the data structures \n",
    "\n",
    "- Series and\n",
    "- DataFrame\n",
    "\n",
    "We also learned how to create and manipulate the Series and DataFrame objects in numerous Python programs. \n",
    "\n",
    "Now it is time to learn some further aspects of theses data structures in this chapter of our tutorial.\n",
    "\n",
    "We will start with advanced indexing possibilities in Pandas.\n",
    "\n",
    "### Advanced or Multi-Level Indexing\n",
    "\n",
    "Advanced or multi-level indexing is available both for Series and for DataFrames. It is a fascinating way of working with higher dimensional data, using Pandas data structures. It's an efficient way to store and manipulate arbitrarily high dimension data in 1-dimensional (Series) and 2-dimensional tabular (DataFrame) structures. In other words, we can work with higher dimensional data in lower dimensions. It's time to present an example in Python:"
   ]
  },
  {
   "cell_type": "code",
   "execution_count": 3,
   "metadata": {},
   "outputs": [
    {
     "name": "stdout",
     "output_type": "stream",
     "text": [
      "[['Vienna', 'Vienna', 'Vienna', 'Hamburg', 'Hamburg', 'Hamburg', 'Berlin', 'Berlin', 'Berlin', 'Zürich', 'Zürich', 'Zürich'], ['country', 'area', 'population', 'country', 'area', 'population', 'country', 'area', 'population', 'country', 'area', 'population']]\n"
     ]
    }
   ],
   "source": [
    "import pandas as pd\n",
    "\n",
    "cities = [\"Vienna\", \"Vienna\", \"Vienna\",\n",
    "          \"Hamburg\", \"Hamburg\", \"Hamburg\",\n",
    "          \"Berlin\", \"Berlin\", \"Berlin\",\n",
    "          \"Zürich\", \"Zürich\", \"Zürich\"]\n",
    "index = [cities, [\"country\", \"area\", \"population\",\n",
    "                  \"country\", \"area\", \"population\",\n",
    "                  \"country\", \"area\", \"population\",\n",
    "                  \"country\", \"area\", \"population\"]]\n",
    "print(index)"
   ]
  },
  {
   "cell_type": "code",
   "execution_count": 4,
   "metadata": {},
   "outputs": [
    {
     "name": "stdout",
     "output_type": "stream",
     "text": [
      "Vienna   country           Austria\n",
      "         area                414.6\n",
      "         population        1805681\n",
      "Hamburg  country           Germany\n",
      "         area                  755\n",
      "         population        1760433\n",
      "Berlin   country           Germany\n",
      "         area               891.85\n",
      "         population        3562166\n",
      "Zürich   country       Switzerland\n",
      "         area                87.88\n",
      "         population         378884\n",
      "dtype: object\n"
     ]
    }
   ],
   "source": [
    "data = [\"Austria\", 414.60,    1805681,\n",
    "        \"Germany\", 755.00,    1760433,\n",
    "        \"Germany\", 891.85,    3562166,\n",
    "        \"Switzerland\", 87.88, 378884]\n",
    "\n",
    "city_series = pd.Series(data, index=index)\n",
    "print(city_series)"
   ]
  },
  {
   "cell_type": "markdown",
   "metadata": {},
   "source": [
    "We can access the data of a city in the following way:"
   ]
  },
  {
   "cell_type": "code",
   "execution_count": 5,
   "metadata": {},
   "outputs": [
    {
     "name": "stdout",
     "output_type": "stream",
     "text": [
      "country       Austria\n",
      "area            414.6\n",
      "population    1805681\n",
      "dtype: object\n"
     ]
    }
   ],
   "source": [
    "print(city_series[\"Vienna\"])"
   ]
  },
  {
   "cell_type": "markdown",
   "metadata": {},
   "source": [
    "We can also access the information about the country, area or population of a city. We can do this in two ways:"
   ]
  },
  {
   "cell_type": "code",
   "execution_count": 6,
   "metadata": {},
   "outputs": [
    {
     "name": "stdout",
     "output_type": "stream",
     "text": [
      "414.6\n"
     ]
    }
   ],
   "source": [
    "print(city_series[\"Vienna\"][\"area\"])"
   ]
  },
  {
   "cell_type": "markdown",
   "metadata": {},
   "source": [
    "The other way to accomplish it:"
   ]
  },
  {
   "cell_type": "code",
   "execution_count": 7,
   "metadata": {},
   "outputs": [
    {
     "name": "stdout",
     "output_type": "stream",
     "text": [
      "414.6\n"
     ]
    }
   ],
   "source": [
    "print(city_series[\"Vienna\", \"area\"])"
   ]
  },
  {
   "cell_type": "markdown",
   "metadata": {},
   "source": [
    "We can also get the content of multiple cities at the same time by using a list of city names as the key:"
   ]
  },
  {
   "cell_type": "code",
   "execution_count": 19,
   "metadata": {},
   "outputs": [
    {
     "data": {
      "text/plain": [
       "country       Germany\n",
       "area              755\n",
       "population    1760433\n",
       "dtype: object"
      ]
     },
     "execution_count": 19,
     "metadata": {},
     "output_type": "execute_result"
    }
   ],
   "source": [
    "city_series[\"Hamburg\",:]"
   ]
  },
  {
   "cell_type": "markdown",
   "metadata": {},
   "source": [
    "If the index is sorted, we can also apply a slicing operation:"
   ]
  },
  {
   "cell_type": "code",
   "execution_count": 40,
   "metadata": {},
   "outputs": [
    {
     "name": "stdout",
     "output_type": "stream",
     "text": [
      "city_series with sorted index:\n",
      "Berlin   area               891.85\n",
      "         country           Germany\n",
      "         population        3562166\n",
      "Hamburg  area                  755\n",
      "         country           Germany\n",
      "         population        1760433\n",
      "Vienna   area                414.6\n",
      "         country           Austria\n",
      "         population        1805681\n",
      "Zürich   area                87.88\n",
      "         country       Switzerland\n",
      "         population         378884\n",
      "dtype: object\n",
      "\n",
      "\n",
      "Slicing the city_series:\n"
     ]
    },
    {
     "data": {
      "text/plain": [
       "Berlin   area           891.85\n",
       "         country       Germany\n",
       "         population    3562166\n",
       "Hamburg  area              755\n",
       "         country       Germany\n",
       "         population    1760433\n",
       "Vienna   area            414.6\n",
       "         country       Austria\n",
       "         population    1805681\n",
       "dtype: object"
      ]
     },
     "execution_count": 40,
     "metadata": {},
     "output_type": "execute_result"
    }
   ],
   "source": [
    "city_series = city_series.sort_index()\n",
    "print(\"city_series with sorted index:\")\n",
    "print(city_series)\n",
    "\n",
    "print(\"\\n\\nSlicing the city_series:\")\n",
    "city_series[\"Berlin\":\"Vienna\"]"
   ]
  },
  {
   "cell_type": "markdown",
   "metadata": {},
   "source": [
    "In the next example, we show that it is possible to access the inner keys as well:"
   ]
  },
  {
   "cell_type": "code",
   "execution_count": 41,
   "metadata": {},
   "outputs": [
    {
     "name": "stdout",
     "output_type": "stream",
     "text": [
      "Berlin     891.85\n",
      "Hamburg       755\n",
      "Vienna      414.6\n",
      "Zürich      87.88\n",
      "dtype: object\n"
     ]
    }
   ],
   "source": [
    "print(city_series[:, \"area\"])"
   ]
  },
  {
   "cell_type": "markdown",
   "metadata": {
    "collapsed": true
   },
   "source": [
    "#### Swapping MultiIndex Levels\n",
    "\n",
    "It is possible to swap the levels of a MultiIndex with the method swaplevel:\n",
    "\n",
    "<code>\n",
    "swaplevel(self, i=-2, j=-1, copy=True)\n",
    "    Swap levels i and j in a MultiIndex\n",
    "    \n",
    "    Parameters\n",
    "    ----------\n",
    "    i, j : int, string (can be mixed)\n",
    "           Level of index to be swapped. Can pass level name as string.\n",
    "           The indexes 'i' and 'j' are optional, and default to\n",
    "           the two innermost levels of the index\n",
    "    \n",
    "    Returns\n",
    "    -------\n",
    "    swapped : Series\n"
   ]
  },
  {
   "cell_type": "code",
   "execution_count": 42,
   "metadata": {},
   "outputs": [
    {
     "data": {
      "text/plain": [
       "area        Berlin          891.85\n",
       "            Hamburg            755\n",
       "            Vienna           414.6\n",
       "            Zürich           87.88\n",
       "country     Berlin         Germany\n",
       "            Hamburg        Germany\n",
       "            Vienna         Austria\n",
       "            Zürich     Switzerland\n",
       "population  Berlin         3562166\n",
       "            Hamburg        1760433\n",
       "            Vienna         1805681\n",
       "            Zürich          378884\n",
       "dtype: object"
      ]
     },
     "execution_count": 42,
     "metadata": {},
     "output_type": "execute_result"
    }
   ],
   "source": [
    "city_series = city_series.swaplevel()\n",
    "city_series.sort_index(inplace=True)\n",
    "city_series"
   ]
  }
 ],
 "metadata": {
  "anaconda-cloud": {},
  "kernelspec": {
   "display_name": "Python 3",
   "language": "python",
   "name": "python3"
  },
  "language_info": {
   "codemirror_mode": {
    "name": "ipython",
    "version": 3
   },
   "file_extension": ".py",
   "mimetype": "text/x-python",
   "name": "python",
   "nbconvert_exporter": "python",
   "pygments_lexer": "ipython3",
   "version": "3.6.5"
  }
 },
 "nbformat": 4,
 "nbformat_minor": 1
}
