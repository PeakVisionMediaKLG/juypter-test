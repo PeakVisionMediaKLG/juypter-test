{
 "cells": [
  {
   "cell_type": "markdown",
   "metadata": {},
   "source": [
    "## Python, Date and Time\n",
    "\n",
    "### Introduction\n",
    "\n",
    "<img width=\"60%\" class=\"imgright\" src=\"../images/date_and_time.webp\" srcset=\"../images/date_and_time_500w.webp 500w,../images/date_and_time_400w.webp 400w,../images/date_and_time_350w.webp 350w,../images/date_and_time_300w.webp 300w\" alt=\"Python, Date and Time\" />\n",
    "\n",
    "Python provides rich functionalities for dealing with date and time data. The standard libraries contains the modules \n",
    "\n",
    "- time\n",
    "- calendar\n",
    "- datetime \n",
    "\n",
    "These modules supply classes for manipulating dates and times in both simple and complex ways. \n",
    "\n",
    "Especially, the datetime class will be very important for the timeseries of Pandas.\n",
    "\n",
    "### Python Standard Modules for Time Data\n",
    "\n",
    "The most important modules of Python dealing with time are the modules <code>time</code>,\n",
    "<code>calendar</code> and <code>datetime</code>.\n",
    "\n",
    "The datetime module provides various classes, methods and functions to deal with dates, times, and time intervals. \n",
    "\n",
    "The datetime module provides the following classes:\n",
    "- The instances of the date class represent dates, whereas the year can range between 1 and 9999.\n",
    "- The instances of the datetime class are made up both by a date and a time.\n",
    "- The time class implements time objects.\n",
    "- The timedelta class is used to hold the differences between two times or two date objects.\n",
    "- The tzinfo class is used to implement timezone support for time and datetime objects.\n",
    "\n",
    "Let's start with a date object.\n",
    "\n",
    "#### The Date Class"
   ]
  },
  {
   "cell_type": "code",
   "execution_count": 2,
   "metadata": {},
   "outputs": [
    {
     "name": "stdout",
     "output_type": "stream",
     "text": [
      "1993-12-14\n"
     ]
    }
   ],
   "source": [
    "from datetime import date\n",
    "\n",
    "x = date(1993, 12, 14)\n",
    "print(x)"
   ]
  },
  {
   "cell_type": "markdown",
   "metadata": {},
   "source": [
    "We can instantiate dates in the range from January 1, 1 to December 31, 9999. This can be inquired from the attributes <code>min</code> and <code>max</code>:"
   ]
  },
  {
   "cell_type": "code",
   "execution_count": 3,
   "metadata": {},
   "outputs": [
    {
     "name": "stdout",
     "output_type": "stream",
     "text": [
      "0001-01-01\n",
      "9999-12-31\n"
     ]
    }
   ],
   "source": [
    "from datetime import date\n",
    "\n",
    "print(date.min)\n",
    "print(date.max)"
   ]
  },
  {
   "cell_type": "markdown",
   "metadata": {},
   "source": [
    "We can apply various methods to the date instance above. \n",
    "The method toordinal returns the proleptic Gregorian ordinal. The proleptic Gregorian calendar is produced by extending the Gregorian calendar backward to dates preceding its official introduction in 1582. January 1 of year 1 is day 1."
   ]
  },
  {
   "cell_type": "code",
   "execution_count": 4,
   "metadata": {},
   "outputs": [
    {
     "data": {
      "text/plain": [
       "727911"
      ]
     },
     "execution_count": 4,
     "metadata": {},
     "output_type": "execute_result"
    }
   ],
   "source": [
    "x.toordinal()"
   ]
  },
  {
   "cell_type": "markdown",
   "metadata": {},
   "source": [
    "It is possible to calculate a date from a ordinal by using the class method \"fromordinal\":"
   ]
  },
  {
   "cell_type": "code",
   "execution_count": 5,
   "metadata": {},
   "outputs": [
    {
     "data": {
      "text/plain": [
       "datetime.date(1993, 12, 14)"
      ]
     },
     "execution_count": 5,
     "metadata": {},
     "output_type": "execute_result"
    }
   ],
   "source": [
    "date.fromordinal(727911)"
   ]
  },
  {
   "cell_type": "markdown",
   "metadata": {},
   "source": [
    "If you want to know the weekday of a certain date, you can calculate it by using the method weekday:"
   ]
  },
  {
   "cell_type": "code",
   "execution_count": 6,
   "metadata": {},
   "outputs": [
    {
     "data": {
      "text/plain": [
       "1"
      ]
     },
     "execution_count": 6,
     "metadata": {},
     "output_type": "execute_result"
    }
   ],
   "source": [
    "x.weekday()"
   ]
  },
  {
   "cell_type": "code",
   "execution_count": 7,
   "metadata": {},
   "outputs": [
    {
     "data": {
      "text/plain": [
       "datetime.date(2017, 4, 12)"
      ]
     },
     "execution_count": 7,
     "metadata": {},
     "output_type": "execute_result"
    }
   ],
   "source": [
    "date.today()"
   ]
  },
  {
   "cell_type": "markdown",
   "metadata": {},
   "source": [
    "We can access the day, month and year with attributes:"
   ]
  },
  {
   "cell_type": "code",
   "execution_count": 8,
   "metadata": {},
   "outputs": [
    {
     "name": "stdout",
     "output_type": "stream",
     "text": [
      "14\n",
      "12\n",
      "1993\n"
     ]
    }
   ],
   "source": [
    "print(x.day)\n",
    "print(x.month)\n",
    "print(x.year)"
   ]
  },
  {
   "cell_type": "markdown",
   "metadata": {},
   "source": [
    "#### The time Class\n",
    "\n",
    "The time class is similarly organized than the date class."
   ]
  },
  {
   "cell_type": "code",
   "execution_count": 9,
   "metadata": {},
   "outputs": [
    {
     "name": "stdout",
     "output_type": "stream",
     "text": [
      "15:06:23\n"
     ]
    }
   ],
   "source": [
    "from datetime import time\n",
    "\n",
    "t = time(15, 6, 23)\n",
    "print(t)"
   ]
  },
  {
   "cell_type": "markdown",
   "metadata": {},
   "source": [
    " The possible times range between:"
   ]
  },
  {
   "cell_type": "code",
   "execution_count": 10,
   "metadata": {},
   "outputs": [
    {
     "name": "stdout",
     "output_type": "stream",
     "text": [
      "00:00:00\n",
      "23:59:59.999999\n"
     ]
    }
   ],
   "source": [
    "print(time.min)\n",
    "print(time.max)"
   ]
  },
  {
   "cell_type": "markdown",
   "metadata": {},
   "source": [
    "Accessing 'hour', 'minute' and 'second':"
   ]
  },
  {
   "cell_type": "code",
   "execution_count": 11,
   "metadata": {},
   "outputs": [
    {
     "data": {
      "text/plain": [
       "(15, 6, 23)"
      ]
     },
     "execution_count": 11,
     "metadata": {},
     "output_type": "execute_result"
    }
   ],
   "source": [
    "t.hour, t.minute, t.second"
   ]
  },
  {
   "cell_type": "markdown",
   "metadata": {},
   "source": [
    "Each component of a time instance can be changed by using 'replace':"
   ]
  },
  {
   "cell_type": "code",
   "execution_count": 12,
   "metadata": {},
   "outputs": [
    {
     "data": {
      "text/plain": [
       "datetime.time(11, 59, 23)"
      ]
     },
     "execution_count": 12,
     "metadata": {},
     "output_type": "execute_result"
    }
   ],
   "source": [
    "t = t.replace(hour=11, minute=59)\n",
    "t"
   ]
  },
  {
   "cell_type": "markdown",
   "metadata": {},
   "source": [
    "We can render a date as a C-style like string, corresponding to the C ctime function:"
   ]
  },
  {
   "cell_type": "code",
   "execution_count": 13,
   "metadata": {},
   "outputs": [
    {
     "data": {
      "text/plain": [
       "'Tue Dec 14 00:00:00 1993'"
      ]
     },
     "execution_count": 13,
     "metadata": {},
     "output_type": "execute_result"
    }
   ],
   "source": [
    "x.ctime()"
   ]
  },
  {
   "cell_type": "markdown",
   "metadata": {},
   "source": [
    "### The datetime Class\n",
    "\n",
    "The datetime module provides us with functions and methods  for manipulating dates and times. It supplies functionalities for date and time arithmetic, i.e. addition and subtraction. Another focus of the implementation is on attribute extraction for output manipulation and formatting. \n",
    "\n",
    "There are two kinds of date and time objects: \n",
    "- naive\n",
    "- aware\n",
    "\n",
    "If a time or date object is naive it doesn't contain information to compare or locate itself relative to other date or time objects. The semantics, if such a naive object belongs to a certain time zone, e.g. Coordinated Universal Time (UTC), local time, or some other timezone is contained in the logic of the program. \n",
    "\n",
    "An aware object on the other hand possesses knowledge of the time zone it belongs to or the daylight saving time information. This way it can locate itself relative to other aware objects. \n",
    "\n",
    "\n",
    "How can you tell if a datetime object t is aware?\n",
    "\n",
    "t is aware if t.tzinfo is not None and t.tzinfo.utcoffset(t) is not None.\n",
    "Both conditions have to be fulfilled\n",
    "\n",
    "On the other hand an object t is naive if t.tzinfo is None or t.tzinfo.utcoffset(t) is None\n",
    "\n",
    "Let's create a datetime object:"
   ]
  },
  {
   "cell_type": "code",
   "execution_count": 14,
   "metadata": {},
   "outputs": [
    {
     "data": {
      "text/plain": [
       "datetime.datetime(2017, 4, 19, 16, 31)"
      ]
     },
     "execution_count": 14,
     "metadata": {},
     "output_type": "execute_result"
    }
   ],
   "source": [
    "from datetime import datetime\n",
    "t = datetime(2017, 4, 19, 16, 31, 0)\n",
    "t"
   ]
  },
  {
   "cell_type": "markdown",
   "metadata": {},
   "source": [
    "t is naive, because the following is True:"
   ]
  },
  {
   "cell_type": "code",
   "execution_count": 15,
   "metadata": {},
   "outputs": [
    {
     "data": {
      "text/plain": [
       "True"
      ]
     },
     "execution_count": 15,
     "metadata": {},
     "output_type": "execute_result"
    }
   ],
   "source": [
    "t.tzinfo == None"
   ]
  },
  {
   "cell_type": "markdown",
   "metadata": {},
   "source": [
    "We will create an aware datetime object from the current date. For this purpose we need the module pytz. pytz is a module, which brings the Olson tz database into Python.  The Olson timezones are nearly completely supported by this module."
   ]
  },
  {
   "cell_type": "code",
   "execution_count": 16,
   "metadata": {
    "collapsed": true
   },
   "outputs": [],
   "source": [
    "from datetime import datetime\n",
    "import pytz\n",
    "t = datetime.now(pytz.utc)"
   ]
  },
  {
   "cell_type": "markdown",
   "metadata": {},
   "source": [
    "We can see that both t.tzinfo and t.tzinfo.utcoffset(t) are different from None, so t is an aware object:"
   ]
  },
  {
   "cell_type": "code",
   "execution_count": 17,
   "metadata": {},
   "outputs": [
    {
     "data": {
      "text/plain": [
       "(<UTC>, datetime.timedelta(0))"
      ]
     },
     "execution_count": 17,
     "metadata": {},
     "output_type": "execute_result"
    }
   ],
   "source": [
    "t.tzinfo, t.tzinfo.utcoffset(t)"
   ]
  },
  {
   "cell_type": "code",
   "execution_count": 18,
   "metadata": {},
   "outputs": [
    {
     "data": {
      "text/plain": [
       "[datetime.datetime(1991, 4, 30, 0, 0),\n",
       " datetime.datetime(1991, 4, 29, 0, 0),\n",
       " datetime.datetime(1991, 4, 28, 0, 0),\n",
       " datetime.datetime(1991, 4, 27, 0, 0),\n",
       " datetime.datetime(1991, 4, 26, 0, 0),\n",
       " datetime.datetime(1991, 4, 25, 0, 0),\n",
       " datetime.datetime(1991, 4, 24, 0, 0),\n",
       " datetime.datetime(1991, 4, 23, 0, 0),\n",
       " datetime.datetime(1991, 4, 22, 0, 0),\n",
       " datetime.datetime(1991, 4, 21, 0, 0),\n",
       " datetime.datetime(1991, 4, 20, 0, 0),\n",
       " datetime.datetime(1991, 4, 19, 0, 0),\n",
       " datetime.datetime(1991, 4, 18, 0, 0),\n",
       " datetime.datetime(1991, 4, 17, 0, 0),\n",
       " datetime.datetime(1991, 4, 16, 0, 0)]"
      ]
     },
     "execution_count": 18,
     "metadata": {},
     "output_type": "execute_result"
    }
   ],
   "source": [
    "from datetime import datetime, timedelta as delta\n",
    "ndays = 15\n",
    "start = datetime(1991, 4, 30)\n",
    "dates = [start - delta(days=x) for x in range(0, ndays)]\n",
    "dates"
   ]
  },
  {
   "cell_type": "markdown",
   "metadata": {},
   "source": [
    "### Differences between Times\n",
    "\n",
    "Let's see what happens, if we subtract to datetime objects:"
   ]
  },
  {
   "cell_type": "code",
   "execution_count": 19,
   "metadata": {},
   "outputs": [
    {
     "data": {
      "text/plain": [
       "(datetime.timedelta(959), datetime.timedelta)"
      ]
     },
     "execution_count": 19,
     "metadata": {},
     "output_type": "execute_result"
    }
   ],
   "source": [
    "from datetime import datetime\n",
    "\n",
    "delta = datetime(1993, 12, 14) - datetime(1991, 4, 30)\n",
    "delta, type(delta)"
   ]
  },
  {
   "cell_type": "markdown",
   "metadata": {},
   "source": [
    "The result of the subtraction of the two datetime objects is a timedelta object, as we can see from the example above.\n",
    "\n",
    "We can get information about the number of days elapsed by using the attribute 'days':"
   ]
  },
  {
   "cell_type": "code",
   "execution_count": 20,
   "metadata": {},
   "outputs": [
    {
     "data": {
      "text/plain": [
       "959"
      ]
     },
     "execution_count": 20,
     "metadata": {},
     "output_type": "execute_result"
    }
   ],
   "source": [
    "delta.days"
   ]
  },
  {
   "cell_type": "code",
   "execution_count": 21,
   "metadata": {},
   "outputs": [
    {
     "data": {
      "text/plain": [
       "(412, 76680)"
      ]
     },
     "execution_count": 21,
     "metadata": {},
     "output_type": "execute_result"
    }
   ],
   "source": [
    "t1 = datetime(2017, 1, 31, 14, 17)\n",
    "t2 = datetime(2015, 12, 15, 16, 59)\n",
    "delta = t1 - t2\n",
    "delta.days, delta.seconds"
   ]
  },
  {
   "cell_type": "markdown",
   "metadata": {},
   "source": [
    "It is possible to add or subtract a timedelta to a \n",
    "datetime object to calculate a new datetime object by adding or subtracting the delta in days:"
   ]
  },
  {
   "cell_type": "code",
   "execution_count": 22,
   "metadata": {},
   "outputs": [
    {
     "name": "stdout",
     "output_type": "stream",
     "text": [
      "1991-05-10 00:00:00\n",
      "10 days, 0:00:00\n",
      "1991-01-20 00:00:00\n",
      "1991-01-20 00:00:00\n"
     ]
    }
   ],
   "source": [
    "from datetime import datetime, timedelta\n",
    "d1 = datetime(1991, 4, 30)\n",
    "d2 = d1 + timedelta(10)\n",
    "print(d2)\n",
    "print(d2 - d1)\n",
    "\n",
    "d3 = d1 - timedelta(100)\n",
    "print(d3)\n",
    "d4 = d1 - 2 * timedelta(50)\n",
    "print(d4)"
   ]
  },
  {
   "cell_type": "markdown",
   "metadata": {},
   "source": [
    "It is also possible to add days and minutes to t datetime object:"
   ]
  },
  {
   "cell_type": "code",
   "execution_count": 23,
   "metadata": {},
   "outputs": [
    {
     "name": "stdout",
     "output_type": "stream",
     "text": [
      "1991-05-10 00:01:40\n",
      "10 days, 0:01:40\n"
     ]
    }
   ],
   "source": [
    "from datetime import datetime, timedelta\n",
    "d1 = datetime(1991, 4, 30)\n",
    "d2 = d1 + timedelta(10,100)\n",
    "print(d2)\n",
    "print(d2 - d1)"
   ]
  },
  {
   "cell_type": "markdown",
   "metadata": {},
   "source": [
    "#### Convert datetime Objects to Strings\n",
    "\n",
    "The easiest way to convert a datetime object into a string consists in using str."
   ]
  },
  {
   "cell_type": "code",
   "execution_count": 24,
   "metadata": {},
   "outputs": [
    {
     "data": {
      "text/plain": [
       "'1991-04-30 00:00:00'"
      ]
     },
     "execution_count": 24,
     "metadata": {},
     "output_type": "execute_result"
    }
   ],
   "source": [
    "s = str(d1)\n",
    "s"
   ]
  },
  {
   "cell_type": "markdown",
   "metadata": {},
   "source": [
    "#### Conversion with strftime\n",
    "\n",
    "The method call datetime.strftime(format) return a string representing the date and time, controlled by an explicit format string. A complete list of formatting directives can be found at [strftime](https://docs.python.org/3/library/datetime.html#strftime-strptime-behavior):"
   ]
  },
  {
   "cell_type": "code",
   "execution_count": 25,
   "metadata": {},
   "outputs": [
    {
     "name": "stdout",
     "output_type": "stream",
     "text": [
      "1991-04-30\n",
      "weekday: Tue\n",
      "weekday as a full name: Tuesday\n",
      "weekday as a decimal number: 2\n"
     ]
    }
   ],
   "source": [
    "print(d1.strftime('%Y-%m-%d'))\n",
    "print(\"weekday: \" + d1.strftime('%a'))\n",
    "print(\"weekday as a full name: \" + d1.strftime('%A'))\n",
    "\n",
    "# Weekday as a decimal number, where 0 is Sunday \n",
    "# and 6 is Saturday\n",
    "print(\"weekday as a decimal number: \" + d1.strftime('%w'))"
   ]
  },
  {
   "cell_type": "markdown",
   "metadata": {},
   "source": [
    "Formatting months:"
   ]
  },
  {
   "cell_type": "code",
   "execution_count": 26,
   "metadata": {},
   "outputs": [
    {
     "name": "stdout",
     "output_type": "stream",
     "text": [
      "30\n",
      "Apr\n",
      "April\n",
      "04\n"
     ]
    }
   ],
   "source": [
    "# Day of the month as a zero-padded decimal number. \n",
    "# 01, 02, ..., 31\n",
    "print(d1.strftime('%d'))\n",
    "\n",
    "# Month as locale’s abbreviated name. \n",
    "# Jan, Feb, ..., Dec (en_US); \n",
    "# Jan, Feb, ..., Dez (de_DE)\n",
    "print(d1.strftime('%b'))\n",
    "\n",
    "# Month as locale’s full name. \t\n",
    "# January, February, ..., December (en_US);\n",
    "# Januar, Februar, ..., Dezember (de_DE)\n",
    "print(d1.strftime('%B'))\n",
    "\n",
    "# Month as a zero-padded decimal number. \n",
    "# 01, 02, ..., 12\n",
    "print(d1.strftime('%m'))"
   ]
  },
  {
   "cell_type": "markdown",
   "metadata": {
    "collapsed": true
   },
   "source": [
    "### Creating datetime Objects from Strings\n",
    "\n",
    "We can use strptime to create new datetime object by parsing a string containing a data and time. The arguments of strptime are the string to be parsed and a format specification. "
   ]
  },
  {
   "cell_type": "code",
   "execution_count": 27,
   "metadata": {},
   "outputs": [
    {
     "name": "stdout",
     "output_type": "stream",
     "text": [
      "2000-11-30 00:00:00\n"
     ]
    }
   ],
   "source": [
    "from datetime import datetime\n",
    "t = datetime.strptime(\"30 Nov 00\", \"%d %b %y\")\n",
    "print(t)"
   ]
  },
  {
   "cell_type": "code",
   "execution_count": 28,
   "metadata": {},
   "outputs": [
    {
     "data": {
      "text/plain": [
       "datetime.datetime(2007, 3, 4, 21, 8, 12)"
      ]
     },
     "execution_count": 28,
     "metadata": {},
     "output_type": "execute_result"
    }
   ],
   "source": [
    "dt = \"2007-03-04T21:08:12\"\n",
    "datetime.strptime( dt, \"%Y-%m-%dT%H:%M:%S\" )"
   ]
  },
  {
   "cell_type": "code",
   "execution_count": 30,
   "metadata": {},
   "outputs": [
    {
     "data": {
      "text/plain": [
       "datetime.datetime(1957, 12, 24, 4, 3, 29)"
      ]
     },
     "execution_count": 30,
     "metadata": {},
     "output_type": "execute_result"
    }
   ],
   "source": [
    "dt = '12/24/1957 4:03:29 AM'\n",
    "dt = datetime.strptime(dt, '%m/%d/%Y %I:%M:%S %p')\n",
    "dt"
   ]
  },
  {
   "cell_type": "markdown",
   "metadata": {},
   "source": [
    "We can create an English date string on a Linux machine with the Shell command  \n",
    "<code>LC_ALL=en_EN.utf8 date</code>"
   ]
  },
  {
   "cell_type": "code",
   "execution_count": 49,
   "metadata": {},
   "outputs": [
    {
     "name": "stdout",
     "output_type": "stream",
     "text": [
      "2017-04-12 20:29:53\n"
     ]
    }
   ],
   "source": [
    "dt = 'Wed Apr 12 20:29:53 CEST 2017'\n",
    "dt = datetime.strptime(dt, '%a %b %d %H:%M:%S %Z %Y')\n",
    "print(dt)"
   ]
  },
  {
   "cell_type": "markdown",
   "metadata": {},
   "source": [
    "Though datetime.strptime is an easy way to parse a date with a known format, it can be quote complicated and cumbersome to write every time a new specification string for new date formats.\n",
    "\n",
    "Using the parse method from dateutil.parser:"
   ]
  },
  {
   "cell_type": "code",
   "execution_count": 51,
   "metadata": {},
   "outputs": [
    {
     "data": {
      "text/plain": [
       "datetime.datetime(2011, 1, 3, 0, 0)"
      ]
     },
     "execution_count": 51,
     "metadata": {},
     "output_type": "execute_result"
    }
   ],
   "source": [
    "from dateutil.parser import parse\n",
    "\n",
    "parse('2011-01-03')"
   ]
  },
  {
   "cell_type": "code",
   "execution_count": 55,
   "metadata": {},
   "outputs": [
    {
     "data": {
      "text/plain": [
       "datetime.datetime(2017, 4, 12, 20, 29, 53, tzinfo=tzlocal())"
      ]
     },
     "execution_count": 55,
     "metadata": {},
     "output_type": "execute_result"
    }
   ],
   "source": [
    "parse('Wed Apr 12 20:29:53 CEST 2017')"
   ]
  }
 ],
 "metadata": {
  "kernelspec": {
   "display_name": "Python 3",
   "language": "python",
   "name": "python3"
  },
  "language_info": {
   "codemirror_mode": {
    "name": "ipython",
    "version": 3
   },
   "file_extension": ".py",
   "mimetype": "text/x-python",
   "name": "python",
   "nbconvert_exporter": "python",
   "pygments_lexer": "ipython3",
   "version": "3.6.5"
  }
 },
 "nbformat": 4,
 "nbformat_minor": 2
}
