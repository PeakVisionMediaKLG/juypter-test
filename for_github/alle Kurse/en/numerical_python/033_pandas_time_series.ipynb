{
 "cells": [
  {
   "cell_type": "markdown",
   "metadata": {},
   "source": [
    "## Python, Pandas and Time Series\n",
    "\n",
    "### Introduction\n",
    "\n",
    "<img width=\"60%\" class=\"imgright\" src=\"../images/timeseries.webp\" srcset=\"../images/timeseries_700w.webp 700w,../images/timeseries_600w.webp 600w,../images/timeseries_500w.webp 500w,../images/timeseries_400w.webp 400w,../images/timeseries_350w.webp 350w,../images/timeseries_300w.webp 300w\" alt=\"Time Series Pandas\" />\n",
    "\n",
    "Our next chapter of our Pandas Tutorial deals with time series. A time series is a series of data points, which are listed (or indexed) in time order. Usually, a time series is a sequence of values, which are equally spaced points in time. Everything which consists of measured data connected with the corresponding time can be seen as a time series. Measurements can be taken irregularly, but in most cases time series consist of fixed frequencies. This means that data is measured or taken in a regular pattern, i.e. for example every 5 milliseconds, every 10 seconds, or very hour.\n",
    "Often time series are plotted as line charts. \n",
    "\n",
    "In this chapter of our tutorial on Python with Pandas, we will introduce the tools from Pandas dealing with time series. You will learn how to cope with large time series and how modify time series.\n",
    "\n",
    "Before you continue reading it might be useful to go through our tutorial on the standard Python modules dealing with time processing, i.e. datetime, time and calendar:"
   ]
  },
  {
   "cell_type": "markdown",
   "metadata": {
    "collapsed": true
   },
   "source": [
    "### Time Series in Pandas and Python\n",
    "\n",
    "We could define a Pandas Series, which is built with an index consisting of time stamps."
   ]
  },
  {
   "cell_type": "code",
   "execution_count": 19,
   "metadata": {},
   "outputs": [
    {
     "data": {
      "text/plain": [
       "2017-03-31    25\n",
       "2017-03-30    50\n",
       "2017-03-29    15\n",
       "2017-03-28    67\n",
       "2017-03-27    70\n",
       "2017-03-26     9\n",
       "2017-03-25    28\n",
       "2017-03-24    30\n",
       "2017-03-23    32\n",
       "2017-03-22    12\n",
       "dtype: int64"
      ]
     },
     "execution_count": 19,
     "metadata": {},
     "output_type": "execute_result"
    }
   ],
   "source": [
    "import numpy as np\n",
    "import pandas as pd\n",
    "\n",
    "from datetime import datetime, timedelta as delta\n",
    "ndays = 10\n",
    "start = datetime(2017, 3, 31)\n",
    "dates = [start - delta(days=x) for x in range(0, ndays)]\n",
    "\n",
    "values = [25, 50, 15, 67, 70, 9, 28, 30, 32, 12]\n",
    "\n",
    "ts = pd.Series(values, index=dates)\n",
    "ts"
   ]
  },
  {
   "cell_type": "markdown",
   "metadata": {},
   "source": [
    "Let's check the type of the newly created time series:"
   ]
  },
  {
   "cell_type": "code",
   "execution_count": 20,
   "metadata": {},
   "outputs": [
    {
     "data": {
      "text/plain": [
       "pandas.core.series.Series"
      ]
     },
     "execution_count": 20,
     "metadata": {},
     "output_type": "execute_result"
    }
   ],
   "source": [
    "type(ts)"
   ]
  },
  {
   "cell_type": "markdown",
   "metadata": {},
   "source": [
    "What does the index of a time series look like? Let's see:"
   ]
  },
  {
   "cell_type": "code",
   "execution_count": 21,
   "metadata": {},
   "outputs": [
    {
     "data": {
      "text/plain": [
       "DatetimeIndex(['2017-03-31', '2017-03-30', '2017-03-29', '2017-03-28',\n",
       "               '2017-03-27', '2017-03-26', '2017-03-25', '2017-03-24',\n",
       "               '2017-03-23', '2017-03-22'],\n",
       "              dtype='datetime64[ns]', freq=None)"
      ]
     },
     "execution_count": 21,
     "metadata": {},
     "output_type": "execute_result"
    }
   ],
   "source": [
    "ts.index"
   ]
  },
  {
   "cell_type": "markdown",
   "metadata": {},
   "source": [
    "We will create now another time series:"
   ]
  },
  {
   "cell_type": "code",
   "execution_count": 22,
   "metadata": {},
   "outputs": [],
   "source": [
    "values2 = [32, 54, 18, 61, 72, 19, 21, 33, 29, 17]\n",
    "\n",
    "ts2 = pd.Series(values2, index=dates)"
   ]
  },
  {
   "cell_type": "markdown",
   "metadata": {},
   "source": [
    "It is possible to use arithmetic operations on time series like we did with other series. We can for example add the two previously created time series:"
   ]
  },
  {
   "cell_type": "code",
   "execution_count": 23,
   "metadata": {},
   "outputs": [
    {
     "data": {
      "text/plain": [
       "2017-03-31     57\n",
       "2017-03-30    104\n",
       "2017-03-29     33\n",
       "2017-03-28    128\n",
       "2017-03-27    142\n",
       "2017-03-26     28\n",
       "2017-03-25     49\n",
       "2017-03-24     63\n",
       "2017-03-23     61\n",
       "2017-03-22     29\n",
       "dtype: int64"
      ]
     },
     "execution_count": 23,
     "metadata": {},
     "output_type": "execute_result"
    }
   ],
   "source": [
    "ts + ts2"
   ]
  },
  {
   "cell_type": "markdown",
   "metadata": {},
   "source": [
    "Arithmetic mean between both Series, i.e. the values of the series:"
   ]
  },
  {
   "cell_type": "code",
   "execution_count": 24,
   "metadata": {},
   "outputs": [
    {
     "data": {
      "text/plain": [
       "2017-03-31    28.5\n",
       "2017-03-30    52.0\n",
       "2017-03-29    16.5\n",
       "2017-03-28    64.0\n",
       "2017-03-27    71.0\n",
       "2017-03-26    14.0\n",
       "2017-03-25    24.5\n",
       "2017-03-24    31.5\n",
       "2017-03-23    30.5\n",
       "2017-03-22    14.5\n",
       "dtype: float64"
      ]
     },
     "execution_count": 24,
     "metadata": {},
     "output_type": "execute_result"
    }
   ],
   "source": [
    "(ts + ts2) / 2"
   ]
  },
  {
   "cell_type": "markdown",
   "metadata": {},
   "source": [
    "As with other series the indices don't have to be the same."
   ]
  },
  {
   "cell_type": "code",
   "execution_count": 25,
   "metadata": {},
   "outputs": [
    {
     "data": {
      "text/plain": [
       "2017-03-17     NaN\n",
       "2017-03-18     NaN\n",
       "2017-03-19     NaN\n",
       "2017-03-20     NaN\n",
       "2017-03-21     NaN\n",
       "2017-03-22    84.0\n",
       "2017-03-23    93.0\n",
       "2017-03-24    48.0\n",
       "2017-03-25    82.0\n",
       "2017-03-26    41.0\n",
       "2017-03-27     NaN\n",
       "2017-03-28     NaN\n",
       "2017-03-29     NaN\n",
       "2017-03-30     NaN\n",
       "2017-03-31     NaN\n",
       "dtype: float64"
      ]
     },
     "execution_count": 25,
     "metadata": {},
     "output_type": "execute_result"
    }
   ],
   "source": [
    "import pandas as pd\n",
    "\n",
    "from datetime import datetime, timedelta as delta\n",
    "\n",
    "ndays = 10\n",
    "\n",
    "start = datetime(2017, 3, 31)\n",
    "dates = [start - delta(days=x) for x in range(0, ndays)]\n",
    "\n",
    "start2 = datetime(2017, 3, 26)\n",
    "dates2 = [start2 - delta(days=x) for x in range(0, ndays)]\n",
    "\n",
    "values = [25, 50, 15, 67, 70, 9, 28, 30, 32, 12]\n",
    "values2 = [32, 54, 18, 61, 72, 19, 21, 33, 29, 17]\n",
    "\n",
    "ts = pd.Series(values, index=dates)\n",
    "ts2 = pd.Series(values2, index=dates2)\n",
    "\n",
    "ts + ts2"
   ]
  },
  {
   "cell_type": "markdown",
   "metadata": {},
   "source": [
    "### Create Date Ranges\n",
    "\n",
    "The date_range method of the pandas module can be used to generate a DatetimeIndex:"
   ]
  },
  {
   "cell_type": "code",
   "execution_count": 26,
   "metadata": {},
   "outputs": [
    {
     "data": {
      "text/plain": [
       "DatetimeIndex(['1970-12-24', '1970-12-25', '1970-12-26', '1970-12-27',\n",
       "               '1970-12-28', '1970-12-29', '1970-12-30', '1970-12-31',\n",
       "               '1971-01-01', '1971-01-02', '1971-01-03'],\n",
       "              dtype='datetime64[ns]', freq='D')"
      ]
     },
     "execution_count": 26,
     "metadata": {},
     "output_type": "execute_result"
    }
   ],
   "source": [
    "import pandas as pd\n",
    "\n",
    "index = pd.date_range('12/24/1970', '01/03/1971')\n",
    "index"
   ]
  },
  {
   "cell_type": "markdown",
   "metadata": {},
   "source": [
    "We have passed a start and an end date to date_range in our previous example. It is also possible to pass only a start or an end date to the function. In this case, we have to determine the number of periods to generate by setting the keyword parameter 'periods':"
   ]
  },
  {
   "cell_type": "code",
   "execution_count": 27,
   "metadata": {},
   "outputs": [
    {
     "name": "stdout",
     "output_type": "stream",
     "text": [
      "DatetimeIndex(['1970-12-24', '1970-12-25', '1970-12-26', '1970-12-27'], dtype='datetime64[ns]', freq='D')\n"
     ]
    }
   ],
   "source": [
    "index = pd.date_range(start='12/24/1970', periods=4)\n",
    "print(index)"
   ]
  },
  {
   "cell_type": "code",
   "execution_count": 28,
   "metadata": {},
   "outputs": [
    {
     "name": "stdout",
     "output_type": "stream",
     "text": [
      "DatetimeIndex(['1970-12-22', '1970-12-23', '1970-12-24'], dtype='datetime64[ns]', freq='D')\n"
     ]
    }
   ],
   "source": [
    "index = pd.date_range(end='12/24/1970', periods=3)\n",
    "print(index)"
   ]
  },
  {
   "cell_type": "markdown",
   "metadata": {},
   "source": [
    "We can also create time frequencies, which consists only of business days for example by setting the keyword parameter 'freq' to the string 'B':"
   ]
  },
  {
   "cell_type": "code",
   "execution_count": 33,
   "metadata": {},
   "outputs": [
    {
     "name": "stdout",
     "output_type": "stream",
     "text": [
      "DatetimeIndex(['2017-04-07', '2017-04-10', '2017-04-11', '2017-04-12',\n",
      "               '2017-04-13'],\n",
      "              dtype='datetime64[ns]', freq='B')\n"
     ]
    }
   ],
   "source": [
    "index = pd.date_range('2017-04-07', '2017-04-13', freq=\"B\")\n",
    "print(index)"
   ]
  },
  {
   "cell_type": "markdown",
   "metadata": {},
   "source": [
    "In the following example, we create a time frequency which contains the month ends between two dates. We can see that the year 2016 contained the 29th of February, because it was a leap year:"
   ]
  },
  {
   "cell_type": "code",
   "execution_count": 41,
   "metadata": {},
   "outputs": [
    {
     "data": {
      "text/plain": [
       "DatetimeIndex(['2016-02-29', '2016-03-31', '2016-04-30', '2016-05-31',\n",
       "               '2016-06-30'],\n",
       "              dtype='datetime64[ns]', freq='M')"
      ]
     },
     "execution_count": 41,
     "metadata": {},
     "output_type": "execute_result"
    }
   ],
   "source": [
    "index = pd.date_range('2016-02-25', '2016-07-02', freq=\"M\")\n",
    "index"
   ]
  },
  {
   "cell_type": "markdown",
   "metadata": {},
   "source": [
    "Other aliases:\n",
    "\n",
    "| Alias          | Description |\n",
    "|----------------|-------------|\n",
    "| B     |   business day frequency   |\n",
    "| C \t|    custom business day frequency (experimental) |\n",
    "| D \t|    calendar day frequency |\n",
    "| W \t|    weekly frequency |\n",
    "| M \t|    month end frequency |\n",
    "| BM \t|   business month end frequency |\n",
    "| MS \t|   month start frequency |\n",
    "| BMS   |    business month start frequency |\n",
    "| Q \t|    quarter end frequency |\n",
    "| BQ \t|   business quarter endfrequency |\n",
    "| QS \t|   quarter start frequency |\n",
    "| BQS \t|  business quarter start frequency |\n",
    "| A \t|    year end frequency |\n",
    "| BA \t|   business year end frequency |\n",
    "| AS \t|   year start frequency |\n",
    "| BAS \t|  business year start frequency |\n",
    "| H \t|    hourly frequency |\n",
    "| T \t|    minutely frequency |\n",
    "| S \t|    secondly frequency |\n",
    "| L \t|    milliseonds |\n",
    "| U \t|    microseconds |"
   ]
  },
  {
   "cell_type": "code",
   "execution_count": 44,
   "metadata": {},
   "outputs": [
    {
     "data": {
      "text/plain": [
       "DatetimeIndex(['2017-02-06', '2017-02-13', '2017-02-20', '2017-02-27',\n",
       "               '2017-03-06', '2017-03-13', '2017-03-20', '2017-03-27',\n",
       "               '2017-04-03', '2017-04-10'],\n",
       "              dtype='datetime64[ns]', freq='W-MON')"
      ]
     },
     "execution_count": 44,
     "metadata": {},
     "output_type": "execute_result"
    }
   ],
   "source": [
    "index = pd.date_range('2017-02-05', '2017-04-13', freq=\"W-Mon\")\n",
    "index"
   ]
  },
  {
   "cell_type": "code",
   "execution_count": null,
   "metadata": {
    "collapsed": true
   },
   "outputs": [],
   "source": []
  }
 ],
 "metadata": {
  "anaconda-cloud": {},
  "kernelspec": {
   "display_name": "Python 3",
   "language": "python",
   "name": "python3"
  },
  "language_info": {
   "codemirror_mode": {
    "name": "ipython",
    "version": 3
   },
   "file_extension": ".py",
   "mimetype": "text/x-python",
   "name": "python",
   "nbconvert_exporter": "python",
   "pygments_lexer": "ipython3",
   "version": "3.6.2"
  },
  "toc": {
   "base_numbering": 1,
   "nav_menu": {},
   "number_sections": true,
   "sideBar": true,
   "skip_h1_title": false,
   "title_cell": "Table of Contents",
   "title_sidebar": "Contents",
   "toc_cell": false,
   "toc_position": {},
   "toc_section_display": true,
   "toc_window_display": false
  }
 },
 "nbformat": 4,
 "nbformat_minor": 1
}
