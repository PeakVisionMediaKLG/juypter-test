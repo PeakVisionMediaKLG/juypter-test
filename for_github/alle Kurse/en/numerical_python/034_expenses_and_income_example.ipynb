{
 "cells": [
  {
   "cell_type": "markdown",
   "metadata": {},
   "source": [
    "## Expenses and Income Example\n",
    "\n",
    "\n",
    "\n",
    "\n",
    "<img width=\"60%\" class=\"imgright\" src=\"../images/money_bags.webp\" srcset=\"../images/money_bags_800w.webp 800w,../images/money_bags_700w.webp 700w,../images/money_bags_600w.webp 600w,../images/money_bags_500w.webp 500w,../images/money_bags_400w.webp 400w,../images/money_bags_350w.webp 350w,../images/money_bags_300w.webp 300w\" alt=\"money bags\" />\n",
    "\n",
    "\n",
    "\n",
    "\n",
    "In this chapter of our Pandas tutorial we will deal with simple Expense and Income tables for private usage. Some say that if you want to manage your money successfully you will have to track your income and expenses. Monitoring the flow of money is important to understand your financial situation. You need to know exactly how much is coming in and going out. This article is not meant to convince you of the necessity of doing this. The main focus is rather on the possibilities offered by Python and Pandas to program the necessary tools. \n",
    "\n",
    "We will start with a small example, suitable for private purposes and the following chapter of our tutorial continues with a more extensive example suitable for small businesses.\n",
    "\n",
    "### Private Budgeting with Python and Pandas\n",
    "\n",
    "Let us assume that you have already a csv file containing your expenses and income over a certain period of time. This journal may look like this:\n",
    "\n",
    "\n",
    "```\n",
    "Date;Description;Category;Out;In\n",
    "2020-06-02;Salary Frank;Income;0;4896.44\n",
    "2020-06-03;supermarket;food and beverages;132.40;0\n",
    "2020-06-04;Salary Laura;Income;0;4910.14\n",
    "2929-06-04;GreenEnergy Corp., (electricity);utility;87.34;0\n",
    "2020-06-09;water and sewage;utility;60.56;0\n",
    "2020-06-10;Fitness studio, Jane;health and sports;19.00;0\n",
    "2020-06-11;payment to bank;monthly redemption payment;1287.43;0\n",
    "2020-06-12;LeGourmet Restaurant;restaurants and hotels;145.00;0\n",
    "2020-06-13;supermarket;food and beverages;197.42;0\n",
    "2020-06-13;Pizzeria da Pulcinella;restaurants and hotels;60.00;0\n",
    "2020-06-26;supermarket;food and beverages;155.42;0\n",
    "2020-06-27;theatre tickets;education and culture;125;0\n",
    "2020-07-02;Salary Frank;Income;0;4896.44\n",
    "2020-07-03;supermarket;food and beverages;147.90;0\n",
    "2020-07-05;Salary Laura;Income;0;4910.14\n",
    "2020-07-08;Golf Club, yearly payment;health and sports;612.18;0\n",
    "2020-07-09;house insurance;insurances and taxes;167.89;0\n",
    "2020-07-10;Fitness studio, Jane;health and sports;19.00;0\n",
    "2020-07-10;supermarket;food and beverages;144.12;0\n",
    "2020-07-11;payment to bank;monthly redemption payment;1287.43;0\n",
    "2020-07-18;supermarket;food and beverages;211.24;0\n",
    "2020-07-13;Pizzeria da Pulcinella;restaurants and hotels;33.00;0\n",
    "2020-07-23;Cinema;education and culture;19;0\n",
    "2020-07-25;supermarket;food and beverages;186.11;0\n",
    "```\n",
    "\n",
    "\n",
    "The above mentioned csv file is saved under the name ```expenses_and_income.csv``` in the folder ```data```. It is easy to read it in with Pandas as we can see in our chapter [Pandas Data Files](pandas_data_files.php):"
   ]
  },
  {
   "cell_type": "code",
   "execution_count": 2,
   "metadata": {},
   "outputs": [
    {
     "data": {
      "text/html": [
       "<div>\n",
       "<style scoped>\n",
       "    .dataframe tbody tr th:only-of-type {\n",
       "        vertical-align: middle;\n",
       "    }\n",
       "\n",
       "    .dataframe tbody tr th {\n",
       "        vertical-align: top;\n",
       "    }\n",
       "\n",
       "    .dataframe thead th {\n",
       "        text-align: right;\n",
       "    }\n",
       "</style>\n",
       "<table border=\"1\" class=\"dataframe\">\n",
       "  <thead>\n",
       "    <tr style=\"text-align: right;\">\n",
       "      <th></th>\n",
       "      <th>Date</th>\n",
       "      <th>Description</th>\n",
       "      <th>Category</th>\n",
       "      <th>Out</th>\n",
       "      <th>In</th>\n",
       "    </tr>\n",
       "  </thead>\n",
       "  <tbody>\n",
       "    <tr>\n",
       "      <th>0</th>\n",
       "      <td>2020-06-02</td>\n",
       "      <td>Salary Frank</td>\n",
       "      <td>Income</td>\n",
       "      <td>0.00</td>\n",
       "      <td>4896.44</td>\n",
       "    </tr>\n",
       "    <tr>\n",
       "      <th>1</th>\n",
       "      <td>2020-06-03</td>\n",
       "      <td>supermarket</td>\n",
       "      <td>food and beverages</td>\n",
       "      <td>132.40</td>\n",
       "      <td>0.00</td>\n",
       "    </tr>\n",
       "    <tr>\n",
       "      <th>2</th>\n",
       "      <td>2020-06-04</td>\n",
       "      <td>Salary Laura</td>\n",
       "      <td>Income</td>\n",
       "      <td>0.00</td>\n",
       "      <td>4910.14</td>\n",
       "    </tr>\n",
       "    <tr>\n",
       "      <th>3</th>\n",
       "      <td>2929-06-04</td>\n",
       "      <td>GreenEnergy Corp., (electricity)</td>\n",
       "      <td>utility</td>\n",
       "      <td>87.34</td>\n",
       "      <td>0.00</td>\n",
       "    </tr>\n",
       "    <tr>\n",
       "      <th>4</th>\n",
       "      <td>2020-06-09</td>\n",
       "      <td>water and sewage</td>\n",
       "      <td>utility</td>\n",
       "      <td>60.56</td>\n",
       "      <td>0.00</td>\n",
       "    </tr>\n",
       "    <tr>\n",
       "      <th>5</th>\n",
       "      <td>2020-06-10</td>\n",
       "      <td>Fitness studio, Jane</td>\n",
       "      <td>health and sports</td>\n",
       "      <td>19.00</td>\n",
       "      <td>0.00</td>\n",
       "    </tr>\n",
       "    <tr>\n",
       "      <th>6</th>\n",
       "      <td>2020-06-11</td>\n",
       "      <td>payment to bank</td>\n",
       "      <td>monthly redemption payment</td>\n",
       "      <td>1287.43</td>\n",
       "      <td>0.00</td>\n",
       "    </tr>\n",
       "    <tr>\n",
       "      <th>7</th>\n",
       "      <td>2020-06-12</td>\n",
       "      <td>LeGourmet Restaurant</td>\n",
       "      <td>restaurants and hotels</td>\n",
       "      <td>145.00</td>\n",
       "      <td>0.00</td>\n",
       "    </tr>\n",
       "    <tr>\n",
       "      <th>8</th>\n",
       "      <td>2020-06-13</td>\n",
       "      <td>supermarket</td>\n",
       "      <td>food and beverages</td>\n",
       "      <td>197.42</td>\n",
       "      <td>0.00</td>\n",
       "    </tr>\n",
       "    <tr>\n",
       "      <th>9</th>\n",
       "      <td>2020-06-13</td>\n",
       "      <td>Pizzeria da Pulcinella</td>\n",
       "      <td>restaurants and hotels</td>\n",
       "      <td>60.00</td>\n",
       "      <td>0.00</td>\n",
       "    </tr>\n",
       "    <tr>\n",
       "      <th>10</th>\n",
       "      <td>2020-06-26</td>\n",
       "      <td>supermarket</td>\n",
       "      <td>food and beverages</td>\n",
       "      <td>155.42</td>\n",
       "      <td>0.00</td>\n",
       "    </tr>\n",
       "    <tr>\n",
       "      <th>11</th>\n",
       "      <td>2020-06-27</td>\n",
       "      <td>theatre tickets</td>\n",
       "      <td>education and culture</td>\n",
       "      <td>125.00</td>\n",
       "      <td>0.00</td>\n",
       "    </tr>\n",
       "    <tr>\n",
       "      <th>12</th>\n",
       "      <td>2020-07-02</td>\n",
       "      <td>Salary Frank</td>\n",
       "      <td>Income</td>\n",
       "      <td>0.00</td>\n",
       "      <td>4896.44</td>\n",
       "    </tr>\n",
       "    <tr>\n",
       "      <th>13</th>\n",
       "      <td>2020-07-03</td>\n",
       "      <td>supermarket</td>\n",
       "      <td>food and beverages</td>\n",
       "      <td>147.90</td>\n",
       "      <td>0.00</td>\n",
       "    </tr>\n",
       "    <tr>\n",
       "      <th>14</th>\n",
       "      <td>2020-07-05</td>\n",
       "      <td>Salary Laura</td>\n",
       "      <td>Income</td>\n",
       "      <td>0.00</td>\n",
       "      <td>4910.14</td>\n",
       "    </tr>\n",
       "    <tr>\n",
       "      <th>15</th>\n",
       "      <td>2020-07-08</td>\n",
       "      <td>Golf Club, yearly payment</td>\n",
       "      <td>health and sports</td>\n",
       "      <td>612.18</td>\n",
       "      <td>0.00</td>\n",
       "    </tr>\n",
       "    <tr>\n",
       "      <th>16</th>\n",
       "      <td>2020-07-09</td>\n",
       "      <td>house insurance</td>\n",
       "      <td>insurances and taxes</td>\n",
       "      <td>167.89</td>\n",
       "      <td>0.00</td>\n",
       "    </tr>\n",
       "    <tr>\n",
       "      <th>17</th>\n",
       "      <td>2020-07-10</td>\n",
       "      <td>Fitness studio, Jane</td>\n",
       "      <td>health and sports</td>\n",
       "      <td>19.00</td>\n",
       "      <td>0.00</td>\n",
       "    </tr>\n",
       "    <tr>\n",
       "      <th>18</th>\n",
       "      <td>2020-07-10</td>\n",
       "      <td>supermarket</td>\n",
       "      <td>food and beverages</td>\n",
       "      <td>144.12</td>\n",
       "      <td>0.00</td>\n",
       "    </tr>\n",
       "    <tr>\n",
       "      <th>19</th>\n",
       "      <td>2020-07-11</td>\n",
       "      <td>payment to bank</td>\n",
       "      <td>monthly redemption payment</td>\n",
       "      <td>1287.43</td>\n",
       "      <td>0.00</td>\n",
       "    </tr>\n",
       "    <tr>\n",
       "      <th>20</th>\n",
       "      <td>2020-07-18</td>\n",
       "      <td>supermarket</td>\n",
       "      <td>food and beverages</td>\n",
       "      <td>211.24</td>\n",
       "      <td>0.00</td>\n",
       "    </tr>\n",
       "    <tr>\n",
       "      <th>21</th>\n",
       "      <td>2020-07-13</td>\n",
       "      <td>Pizzeria da Pulcinella</td>\n",
       "      <td>restaurants and hotels</td>\n",
       "      <td>33.00</td>\n",
       "      <td>0.00</td>\n",
       "    </tr>\n",
       "    <tr>\n",
       "      <th>22</th>\n",
       "      <td>2020-07-23</td>\n",
       "      <td>Cinema</td>\n",
       "      <td>education and culture</td>\n",
       "      <td>19.00</td>\n",
       "      <td>0.00</td>\n",
       "    </tr>\n",
       "    <tr>\n",
       "      <th>23</th>\n",
       "      <td>2020-07-25</td>\n",
       "      <td>supermarket</td>\n",
       "      <td>food and beverages</td>\n",
       "      <td>186.11</td>\n",
       "      <td>0.00</td>\n",
       "    </tr>\n",
       "  </tbody>\n",
       "</table>\n",
       "</div>"
      ],
      "text/plain": [
       "          Date                       Description                    Category  \\\n",
       "0   2020-06-02                      Salary Frank                      Income   \n",
       "1   2020-06-03                       supermarket          food and beverages   \n",
       "2   2020-06-04                      Salary Laura                      Income   \n",
       "3   2929-06-04  GreenEnergy Corp., (electricity)                     utility   \n",
       "4   2020-06-09                  water and sewage                     utility   \n",
       "5   2020-06-10              Fitness studio, Jane           health and sports   \n",
       "6   2020-06-11                   payment to bank  monthly redemption payment   \n",
       "7   2020-06-12              LeGourmet Restaurant      restaurants and hotels   \n",
       "8   2020-06-13                       supermarket          food and beverages   \n",
       "9   2020-06-13            Pizzeria da Pulcinella      restaurants and hotels   \n",
       "10  2020-06-26                       supermarket          food and beverages   \n",
       "11  2020-06-27                   theatre tickets       education and culture   \n",
       "12  2020-07-02                      Salary Frank                      Income   \n",
       "13  2020-07-03                       supermarket          food and beverages   \n",
       "14  2020-07-05                      Salary Laura                      Income   \n",
       "15  2020-07-08         Golf Club, yearly payment           health and sports   \n",
       "16  2020-07-09                   house insurance        insurances and taxes   \n",
       "17  2020-07-10              Fitness studio, Jane           health and sports   \n",
       "18  2020-07-10                       supermarket          food and beverages   \n",
       "19  2020-07-11                   payment to bank  monthly redemption payment   \n",
       "20  2020-07-18                       supermarket          food and beverages   \n",
       "21  2020-07-13            Pizzeria da Pulcinella      restaurants and hotels   \n",
       "22  2020-07-23                            Cinema       education and culture   \n",
       "23  2020-07-25                       supermarket          food and beverages   \n",
       "\n",
       "        Out       In  \n",
       "0      0.00  4896.44  \n",
       "1    132.40     0.00  \n",
       "2      0.00  4910.14  \n",
       "3     87.34     0.00  \n",
       "4     60.56     0.00  \n",
       "5     19.00     0.00  \n",
       "6   1287.43     0.00  \n",
       "7    145.00     0.00  \n",
       "8    197.42     0.00  \n",
       "9     60.00     0.00  \n",
       "10   155.42     0.00  \n",
       "11   125.00     0.00  \n",
       "12     0.00  4896.44  \n",
       "13   147.90     0.00  \n",
       "14     0.00  4910.14  \n",
       "15   612.18     0.00  \n",
       "16   167.89     0.00  \n",
       "17    19.00     0.00  \n",
       "18   144.12     0.00  \n",
       "19  1287.43     0.00  \n",
       "20   211.24     0.00  \n",
       "21    33.00     0.00  \n",
       "22    19.00     0.00  \n",
       "23   186.11     0.00  "
      ]
     },
     "execution_count": 2,
     "metadata": {},
     "output_type": "execute_result"
    }
   ],
   "source": [
    "import pandas as pd\n",
    "\n",
    "exp_inc = pd.read_csv(\"data1/expenses_and_income.csv\", sep=\";\")\n",
    "exp_inc"
   ]
  },
  {
   "cell_type": "markdown",
   "metadata": {},
   "source": [
    "By reading the CSV file, we created a DataFrame object. What can we do with it, or in other words: what information interests Frank and Laura? Of course they are interested in the account balance. They want to know what the total income was and they want to see the total of all expenses.\n",
    "\n",
    "The balances of their expenses and incomes can be easily calculated by applying the sum on the DataFrame ```exp_inc[['Out', 'In']]```:"
   ]
  },
  {
   "cell_type": "code",
   "execution_count": 3,
   "metadata": {},
   "outputs": [
    {
     "data": {
      "text/plain": [
       "Out     5097.44\n",
       "In     19613.16\n",
       "dtype: float64"
      ]
     },
     "execution_count": 3,
     "metadata": {},
     "output_type": "execute_result"
    }
   ],
   "source": [
    "exp_inc[['Out', 'In']].sum()"
   ]
  },
  {
   "cell_type": "markdown",
   "metadata": {},
   "source": [
    "What other information do they want to gain from the data? They might be interested in seeing the expenses summed up according to the different categories. This can be done using groupby and sum:"
   ]
  },
  {
   "cell_type": "code",
   "execution_count": 4,
   "metadata": {},
   "outputs": [
    {
     "data": {
      "text/html": [
       "<div>\n",
       "<style scoped>\n",
       "    .dataframe tbody tr th:only-of-type {\n",
       "        vertical-align: middle;\n",
       "    }\n",
       "\n",
       "    .dataframe tbody tr th {\n",
       "        vertical-align: top;\n",
       "    }\n",
       "\n",
       "    .dataframe thead th {\n",
       "        text-align: right;\n",
       "    }\n",
       "</style>\n",
       "<table border=\"1\" class=\"dataframe\">\n",
       "  <thead>\n",
       "    <tr style=\"text-align: right;\">\n",
       "      <th></th>\n",
       "      <th>Out</th>\n",
       "      <th>In</th>\n",
       "    </tr>\n",
       "    <tr>\n",
       "      <th>Category</th>\n",
       "      <th></th>\n",
       "      <th></th>\n",
       "    </tr>\n",
       "  </thead>\n",
       "  <tbody>\n",
       "    <tr>\n",
       "      <th>Income</th>\n",
       "      <td>0.00</td>\n",
       "      <td>19613.16</td>\n",
       "    </tr>\n",
       "    <tr>\n",
       "      <th>education and culture</th>\n",
       "      <td>144.00</td>\n",
       "      <td>0.00</td>\n",
       "    </tr>\n",
       "    <tr>\n",
       "      <th>food and beverages</th>\n",
       "      <td>1174.61</td>\n",
       "      <td>0.00</td>\n",
       "    </tr>\n",
       "    <tr>\n",
       "      <th>health and sports</th>\n",
       "      <td>650.18</td>\n",
       "      <td>0.00</td>\n",
       "    </tr>\n",
       "    <tr>\n",
       "      <th>insurances and taxes</th>\n",
       "      <td>167.89</td>\n",
       "      <td>0.00</td>\n",
       "    </tr>\n",
       "    <tr>\n",
       "      <th>monthly redemption payment</th>\n",
       "      <td>2574.86</td>\n",
       "      <td>0.00</td>\n",
       "    </tr>\n",
       "    <tr>\n",
       "      <th>restaurants and hotels</th>\n",
       "      <td>238.00</td>\n",
       "      <td>0.00</td>\n",
       "    </tr>\n",
       "    <tr>\n",
       "      <th>utility</th>\n",
       "      <td>147.90</td>\n",
       "      <td>0.00</td>\n",
       "    </tr>\n",
       "  </tbody>\n",
       "</table>\n",
       "</div>"
      ],
      "text/plain": [
       "                                Out        In\n",
       "Category                                     \n",
       "Income                         0.00  19613.16\n",
       "education and culture        144.00      0.00\n",
       "food and beverages          1174.61      0.00\n",
       "health and sports            650.18      0.00\n",
       "insurances and taxes         167.89      0.00\n",
       "monthly redemption payment  2574.86      0.00\n",
       "restaurants and hotels       238.00      0.00\n",
       "utility                      147.90      0.00"
      ]
     },
     "execution_count": 4,
     "metadata": {},
     "output_type": "execute_result"
    }
   ],
   "source": [
    "category_sums = exp_inc.groupby(\"Category\").sum()\n",
    "category_sums"
   ]
  },
  {
   "cell_type": "code",
   "execution_count": 5,
   "metadata": {},
   "outputs": [
    {
     "data": {
      "text/plain": [
       "Index(['Income', 'education and culture', 'food and beverages',\n",
       "       'health and sports', 'insurances and taxes',\n",
       "       'monthly redemption payment', 'restaurants and hotels', 'utility'],\n",
       "      dtype='object', name='Category')"
      ]
     },
     "execution_count": 5,
     "metadata": {},
     "output_type": "execute_result"
    }
   ],
   "source": [
    "category_sums.index"
   ]
  },
  {
   "cell_type": "code",
   "execution_count": 6,
   "metadata": {},
   "outputs": [
    {
     "data": {
      "text/plain": [
       "(array([0, 1, 2, 3, 4, 5, 6, 7]), <a list of 8 Text xticklabel objects>)"
      ]
     },
     "execution_count": 6,
     "metadata": {},
     "output_type": "execute_result"
    },
    {
     "data": {
      "image/png": "[encoded data removed]",
      "text/plain": [
       "<Figure size 432x288 with 1 Axes>"
      ]
     },
     "metadata": {
      "needs_background": "light"
     },
     "output_type": "display_data"
    }
   ],
   "source": [
    "import matplotlib.pyplot as plt\n",
    "\n",
    "ax = category_sums.plot.bar(y=\"Out\")\n",
    "plt.xticks(rotation=45)\n"
   ]
  },
  {
   "cell_type": "markdown",
   "metadata": {},
   "source": [
    "We can also display this as a pie chart:"
   ]
  },
  {
   "cell_type": "code",
   "execution_count": 7,
   "metadata": {},
   "outputs": [
    {
     "data": {
      "text/plain": [
       "<matplotlib.legend.Legend at 0x7fe20d953fd0>"
      ]
     },
     "execution_count": 7,
     "metadata": {},
     "output_type": "execute_result"
    },
    {
     "data": {
      "image/png": "[encoded data removed]",
      "text/plain": [
       "<Figure size 432x288 with 1 Axes>"
      ]
     },
     "metadata": {},
     "output_type": "display_data"
    }
   ],
   "source": [
    "ax = category_sums.plot.pie(y=\"Out\")\n",
    "ax.legend(loc=\"upper left\", bbox_to_anchor=(1.5, 1))\n"
   ]
  },
  {
   "cell_type": "markdown",
   "metadata": {},
   "source": [
    "Alternatively, we can create the same pie plot with the following code:"
   ]
  },
  {
   "cell_type": "code",
   "execution_count": 8,
   "metadata": {},
   "outputs": [
    {
     "data": {
      "text/plain": [
       "<matplotlib.legend.Legend at 0x7fe20d90c810>"
      ]
     },
     "execution_count": 8,
     "metadata": {},
     "output_type": "execute_result"
    },
    {
     "data": {
      "image/png": "[encoded data removed]",
      "text/plain": [
       "<Figure size 432x288 with 1 Axes>"
      ]
     },
     "metadata": {},
     "output_type": "display_data"
    }
   ],
   "source": [
    "ax = category_sums[\"Out\"].plot.pie()\n",
    "ax.legend(loc=\"upper left\", bbox_to_anchor=(1.5, 1))"
   ]
  },
  {
   "cell_type": "markdown",
   "metadata": {},
   "source": [
    "If you imagine that you will have to type in all the time category names like \"household goods and service\" or \"rent and mortgage interest\", you will agree that it is very likely to have typos in your journal of expenses and income. \n",
    "\n",
    "So it will be a good idea to use numbers (account numbers) for your categories. The following categories are available in our example.\n",
    "\n",
    "\n",
    "The following categories are provided:\n",
    "\n",
    "Category | Account Number\n",
    "------------ | -------------\n",
    "rent and mortgage interest | 200\n",
    "insurances and taxes | 201\n",
    "food and beverages | 202\n",
    "education and culture | 203\n",
    "transport | 204\n",
    "health and sports | 205\n",
    "household goods and services | 206\n",
    "clothing | 207\n",
    "communications | 208\n",
    "restaurants and hotels | 209\n",
    "utility ( heating, electricity, water, and garbage) | 210\n",
    "other expenses | 211\n",
    "income | 400\n",
    "\n",
    "We can implement this as a dictionary mapping categories into account numbers:"
   ]
  },
  {
   "cell_type": "code",
   "execution_count": 9,
   "metadata": {},
   "outputs": [],
   "source": [
    "category2account = {'monthly redemption payment': '200',\n",
    "                    'insurances and taxes': '201',\n",
    "                    'food and beverages': '202',\n",
    "                    'education and culture': '203',\n",
    "                    'transport': '204',\n",
    "                    'health and sports': '205',\n",
    "                    'household goods and services': '206',\n",
    "                    'clothing': '207',\n",
    "                    'communications': '208',\n",
    "                    'restaurants and hotels': '209',\n",
    "                    'utility': '210',\n",
    "                    'other expenses': '211',\n",
    "                    'Income': '400'}\n"
   ]
  },
  {
   "cell_type": "markdown",
   "metadata": {},
   "source": [
    "The next step is to replace our \"clumsy\" category names with the account numbers. \n",
    "The ```replace``` method of ```DataFrame``` is ideal for this purpose. We can replace all the occurrences of the category names in our DataFrame by the corresponding account names:"
   ]
  },
  {
   "cell_type": "code",
   "execution_count": 10,
   "metadata": {},
   "outputs": [
    {
     "data": {
      "text/html": [
       "<div>\n",
       "<style scoped>\n",
       "    .dataframe tbody tr th:only-of-type {\n",
       "        vertical-align: middle;\n",
       "    }\n",
       "\n",
       "    .dataframe tbody tr th {\n",
       "        vertical-align: top;\n",
       "    }\n",
       "\n",
       "    .dataframe thead th {\n",
       "        text-align: right;\n",
       "    }\n",
       "</style>\n",
       "<table border=\"1\" class=\"dataframe\">\n",
       "  <thead>\n",
       "    <tr style=\"text-align: right;\">\n",
       "      <th></th>\n",
       "      <th>Date</th>\n",
       "      <th>Description</th>\n",
       "      <th>Accounts</th>\n",
       "      <th>Out</th>\n",
       "      <th>In</th>\n",
       "    </tr>\n",
       "  </thead>\n",
       "  <tbody>\n",
       "    <tr>\n",
       "      <th>0</th>\n",
       "      <td>2020-06-02</td>\n",
       "      <td>Salary Frank</td>\n",
       "      <td>400</td>\n",
       "      <td>0.00</td>\n",
       "      <td>4896.44</td>\n",
       "    </tr>\n",
       "    <tr>\n",
       "      <th>1</th>\n",
       "      <td>2020-06-03</td>\n",
       "      <td>supermarket</td>\n",
       "      <td>202</td>\n",
       "      <td>132.40</td>\n",
       "      <td>0.00</td>\n",
       "    </tr>\n",
       "    <tr>\n",
       "      <th>2</th>\n",
       "      <td>2020-06-04</td>\n",
       "      <td>Salary Laura</td>\n",
       "      <td>400</td>\n",
       "      <td>0.00</td>\n",
       "      <td>4910.14</td>\n",
       "    </tr>\n",
       "    <tr>\n",
       "      <th>3</th>\n",
       "      <td>2929-06-04</td>\n",
       "      <td>GreenEnergy Corp., (electricity)</td>\n",
       "      <td>210</td>\n",
       "      <td>87.34</td>\n",
       "      <td>0.00</td>\n",
       "    </tr>\n",
       "    <tr>\n",
       "      <th>4</th>\n",
       "      <td>2020-06-09</td>\n",
       "      <td>water and sewage</td>\n",
       "      <td>210</td>\n",
       "      <td>60.56</td>\n",
       "      <td>0.00</td>\n",
       "    </tr>\n",
       "  </tbody>\n",
       "</table>\n",
       "</div>"
      ],
      "text/plain": [
       "         Date                       Description Accounts     Out       In\n",
       "0  2020-06-02                      Salary Frank      400    0.00  4896.44\n",
       "1  2020-06-03                       supermarket      202  132.40     0.00\n",
       "2  2020-06-04                      Salary Laura      400    0.00  4910.14\n",
       "3  2929-06-04  GreenEnergy Corp., (electricity)      210   87.34     0.00\n",
       "4  2020-06-09                  water and sewage      210   60.56     0.00"
      ]
     },
     "execution_count": 10,
     "metadata": {},
     "output_type": "execute_result"
    }
   ],
   "source": [
    "exp_inc.replace(category2account, inplace=True)\n",
    "exp_inc.rename(columns={\"Category\": \"Accounts\"}, inplace=True)\n",
    "exp_inc[:5]"
   ]
  },
  {
   "cell_type": "markdown",
   "metadata": {},
   "source": [
    "We will save this ```DataFrame``` object now in an excel file. This excel file will have two sheets: One with the \"expenses and income\" journal and the other one with the mapping of account numbers to category names.\n",
    "We will turn the category2account dictionary into a Series object for this purpose. The account numbers serve as the index:"
   ]
  },
  {
   "cell_type": "code",
   "execution_count": 11,
   "metadata": {},
   "outputs": [
    {
     "data": {
      "text/plain": [
       "200      monthly redemption payment\n",
       "201            insurances and taxes\n",
       "202              food and beverages\n",
       "203           education and culture\n",
       "204                       transport\n",
       "205               health and sports\n",
       "206    household goods and services\n",
       "207                        clothing\n",
       "208                  communications\n",
       "209          restaurants and hotels\n",
       "210                         utility\n",
       "211                  other expenses\n",
       "400                          Income\n",
       "Name: Accounts, dtype: object"
      ]
     },
     "execution_count": 11,
     "metadata": {},
     "output_type": "execute_result"
    }
   ],
   "source": [
    "account_numbers = pd.Series(list(category2account.keys()), index=category2account.values())\n",
    "account_numbers.name = \"Description\"\n",
    "account_numbers.rename(\"Accounts\")"
   ]
  },
  {
   "cell_type": "code",
   "execution_count": 12,
   "metadata": {},
   "outputs": [],
   "source": [
    "exp_inc.insert(1, \"accounts\", account_numbers)"
   ]
  },
  {
   "cell_type": "code",
   "execution_count": 13,
   "metadata": {},
   "outputs": [],
   "source": [
    "with pd.ExcelWriter('data1/expenses_and_income_2020.xlsx') as writer:\n",
    "    account_numbers.to_excel(writer, \"account numbers\")\n",
    "    exp_inc.to_excel(writer, \"journal\")\n",
    "    writer.save()"
   ]
  }
 ],
 "metadata": {
  "kernelspec": {
   "display_name": "Python 3",
   "language": "python",
   "name": "python3"
  },
  "language_info": {
   "codemirror_mode": {
    "name": "ipython",
    "version": 3
   },
   "file_extension": ".py",
   "mimetype": "text/x-python",
   "name": "python",
   "nbconvert_exporter": "python",
   "pygments_lexer": "ipython3",
   "version": "3.7.6"
  }
 },
 "nbformat": 4,
 "nbformat_minor": 4
}
