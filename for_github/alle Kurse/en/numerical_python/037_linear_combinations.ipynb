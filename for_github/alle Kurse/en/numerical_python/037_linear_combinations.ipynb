{
 "cells": [
  {
   "cell_type": "markdown",
   "metadata": {},
   "source": [
    "## Linear Combination\n",
    "### Definitions\n",
    "<p>\n",
    "<img class=\"imgright\" src=\"../images/weights.webp\" srcset=\"../images/weights_800w.webp 800w,../images/weights_700w.webp 700w,../images/weights_600w.webp 600w,../images/weights_500w.webp 500w,../images/weights_400w.webp 400w,../images/weights_350w.webp 350w,../images/weights_300w.webp 300w\" alt=\"Weights, based on Public Domain image\">  \n",
    "\n",
    "A linear combination in mathematics is an expression constructed from a set of terms by multiplying \n",
    "each term by a constant and adding the results.\n",
    "<br><br>\n",
    "Example of a linear combination:\n",
    "<br>\n",
    "a · x + b · y is a linear combination of x and y with a and b constants.\n",
    "<br><br>\n",
    "Generally;\n",
    "<br>\n",
    "p = λ<sub>1</sub> · x<sub>1</sub> + λ<sub>2</sub> · \n",
    "x<sub>2</sub> … λ<sub>n</sub> · x<sub>n</sub>\n",
    "<br>\n",
    "p is the scalar product of the values x<sub>1</sub>, x<sub>2</sub> … x<sub>n</sub> and  \n",
    "λ<sub>1</sub>, λ<sub>2</sub> … λ<sub>n</sub> are called scalars.\n",
    "<br>In most applications x<sub>1</sub>, x<sub>2</sub> … x<sub>n</sub> are vectors and \n",
    "the lambdas are\n",
    "integers or real numbers. (For those, who prefer it mor formally:  x<sub>1</sub>, x<sub>2</sub> …\n",
    "x<sub>n</sub> ∈ V and V is a vector space, and  \n",
    "λ<sub>1</sub>, λ<sub>2</sub> … λ<sub>n</sub> ∈ K with K being a field)\n",
    "<br><br>\n",
    "</p><h3>Linear Combinations in Python</h3> \n",
    "\n",
    "The vector y = (3.21, 1.77, 3.65) can be easily written as a linear combination of the unit vectors\n",
    "(0,0,1), (0,1,0) and (1,0,0):\n",
    "<br><br>\n",
    " (3.21, 1.77, 3.65) = 3.21 · (1,0,0) + 1.77   (0,1,0) + 3.65 · (0,0,1)\n",
    "<br><br>\n",
    "We can do the calculation with Python, using the module numpy:"
   ]
  },
  {
   "cell_type": "code",
   "execution_count": 1,
   "metadata": {},
   "outputs": [
    {
     "data": {
      "text/plain": [
       "array([3.42, 1.55, 3.65])"
      ]
     },
     "execution_count": 1,
     "metadata": {},
     "output_type": "execute_result"
    }
   ],
   "source": [
    "import numpy as np\n",
    "x = np.array([[0, 0, 1],\n",
    "              [0, 1, 0],\n",
    "              [1, 0, 0]])\n",
    "y = ([3.65, 1.55, 3.42])\n",
    "scalars = np.linalg.solve(x, y)\n",
    "scalars"
   ]
  },
  {
   "cell_type": "markdown",
   "metadata": {},
   "source": [
    "The previous example was very easy, because we could work out the result in our head. What about writing our vector y = (3.21, 1.77, 3.65) as a linear combination of the vectors (0,1,1), (1,1,0) and (1,0,1)? It looks like this in Python: "
   ]
  },
  {
   "cell_type": "code",
   "execution_count": 2,
   "metadata": {},
   "outputs": [
    {
     "data": {
      "text/plain": [
       "array([0.66, 0.89, 2.76])"
      ]
     },
     "execution_count": 2,
     "metadata": {},
     "output_type": "execute_result"
    }
   ],
   "source": [
    "import numpy as np\n",
    "x = np.array([[0, 1, 1],\n",
    "              [1, 1, 0],\n",
    "              [1, 0, 1]])\n",
    "y = ([3.65, 1.55, 3.42])\n",
    "scalars = np.linalg.solve(x, y)\n",
    "scalars"
   ]
  },
  {
   "cell_type": "markdown",
   "metadata": {},
   "source": [
    "### Another Example\n",
    "\n",
    "Any integer between -40 and 40 can be written as a linear combination of 1, 3, 9, 27 with scalars being elements\n",
    "of the set {-1, 0, 1}. \n",
    "<br>\n",
    "For example:\n",
    "<br>\n",
    "7 = 1 · 1 +  (-1) · 3 + 1 · 9 + 0 · 27\n",
    "<br><br>\n",
    "We can calculate these scalars with Python. First we need a generator generating all the possible scalar\n",
    "combinations. If you have problems in understanding the concept of a generator, we recommend the chapter \n",
    "\"<a href=\"python3_generators.php\">Iterators and Generators</a>\" of our tutorial."
   ]
  },
  {
   "cell_type": "code",
   "execution_count": 3,
   "metadata": {},
   "outputs": [],
   "source": [
    "def factors_set():\n",
    "    for i in [-1, 0, 1]:\n",
    "        for j in [-1,0,1]:\n",
    "            for k in [-1,0,1]:\n",
    "                for l in [-1,0,1]:\n",
    "                    yield (i, j, k, l)  "
   ]
  },
  {
   "cell_type": "markdown",
   "metadata": {},
   "source": [
    "We will use the memoize() technique (see chapter \"<a href=\"python3_memoization.php\">Memoization and Decorators</a>\" of our tutorial) to memorize previous results:"
   ]
  },
  {
   "cell_type": "code",
   "execution_count": 4,
   "metadata": {},
   "outputs": [],
   "source": [
    "def memoize(f):\n",
    "    results = {}\n",
    "    def helper(n):\n",
    "        if n not in results:\n",
    "            results[n] = f(n)\n",
    "        return results[n]\n",
    "    return helper"
   ]
  },
  {
   "cell_type": "markdown",
   "metadata": {},
   "source": [
    "Finally, in our function linear_combination() we check every scalar tuple, if it can create the value n: "
   ]
  },
  {
   "cell_type": "code",
   "execution_count": 5,
   "metadata": {},
   "outputs": [],
   "source": [
    "@memoize\n",
    "def linear_combination(n):\n",
    "    \"\"\" returns the tuple (i,j,k,l) satisfying\n",
    "        n = i*1 + j*3 + k*9 + l*27      \"\"\"\n",
    "    weighs = (1,3,9,27)\n",
    "      \n",
    "    for factors in factors_set():\n",
    "       sum = 0\n",
    "       for i in range(len(factors)):\n",
    "          sum += factors[i] * weighs[i]\n",
    "       if sum == n:\n",
    "          return factors"
   ]
  },
  {
   "cell_type": "markdown",
   "metadata": {},
   "source": [
    "Putting it all together results in the following script: "
   ]
  },
  {
   "cell_type": "code",
   "execution_count": 7,
   "metadata": {},
   "outputs": [
    {
     "name": "stdout",
     "output_type": "stream",
     "text": [
      "(1, 0, 0, 0)\n",
      "(-1, 1, 0, 0)\n",
      "(0, 1, 0, 0)\n",
      "(1, 1, 0, 0)\n",
      "(-1, -1, 1, 0)\n",
      "(0, -1, 1, 0)\n",
      "(1, -1, 1, 0)\n",
      "(-1, 0, 1, 0)\n",
      "(0, 0, 1, 0)\n",
      "(1, 0, 1, 0)\n"
     ]
    }
   ],
   "source": [
    "def factors_set():\n",
    "    for i in [-1, 0, 1]:\n",
    "        for j in [-1, 0, 1]:\n",
    "            for k in [-1, 0, 1]:\n",
    "                for l in [-1, 0, 1]:\n",
    "                    yield (i, j, k, l)  \n",
    "\n",
    "\n",
    "def memoize(f):\n",
    "    results = {}\n",
    "    def helper(n):\n",
    "        if n not in results:\n",
    "            results[n] = f(n)\n",
    "        return results[n]\n",
    "    return helper\n",
    "\n",
    "@memoize\n",
    "def linear_combination(n):\n",
    "    \"\"\" returns the tuple (i,j,k,l) satisfying\n",
    "        n = i*1 + j*3 + k*9 + l*27      \"\"\"\n",
    "    weighs = (1, 3, 9, 27)\n",
    "      \n",
    "    for factors in factors_set():\n",
    "       sum = 0\n",
    "       for i in range(len(factors)):\n",
    "          sum += factors[i] * weighs[i]\n",
    "       if sum == n:\n",
    "          return factors\n",
    "\n",
    "# calculate the linear combinations of the first 10 positive integers:\n",
    "for i in range(1,11):\n",
    "    print(linear_combination(i))"
   ]
  }
 ],
 "metadata": {
  "kernelspec": {
   "display_name": "Python 3",
   "language": "python",
   "name": "python3"
  },
  "language_info": {
   "codemirror_mode": {
    "name": "ipython",
    "version": 3
   },
   "file_extension": ".py",
   "mimetype": "text/x-python",
   "name": "python",
   "nbconvert_exporter": "python",
   "pygments_lexer": "ipython3",
   "version": "3.7.6"
  }
 },
 "nbformat": 4,
 "nbformat_minor": 4
}
