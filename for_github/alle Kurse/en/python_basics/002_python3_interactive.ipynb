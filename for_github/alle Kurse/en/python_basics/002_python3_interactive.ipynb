{
 "cells": [
  {
   "cell_type": "markdown",
   "metadata": {},
   "source": [
    "## The Interpreter, an Interactive Shell\n",
    "\n",
    "\n",
    "### The Terms 'Interactive' and 'Shell'\n",
    "\n",
    "<img width=200 class=\"imgright\" src=\"../images/shells.webp\" srcset=\"../images/shells_350w.webp 350w,../images/shells_300w.webp 300w\" alt=\"Python and the shell\" />\n",
    "\n",
    "The term \"interactive\" traces back to the Latin expression \"inter agere\". The verb \"agere\" means amongst other things \"to do something\" and \"to act\", while \"inter\" denotes the spatial and temporal position to things and events, i.e. \"between\" or \"among\" objects, persons, and events. So \"inter agere\" means \"to act between\" or \"to act among\" these.\n",
    "\n",
    "With this in mind, we can say that the interactive shell is between the user and the operating system (e.g. Linux, Unix, Windows or others). Instead of an operating system an interpreter can be used for a programming language like Python as well. The Python interpreter can be used from an interactive shell.\n",
    "\n",
    "The interactive shell is also interactive in the way that it stands between the commands or actions and their execution. In other words, the shell waits for commands from the user, which it executes and returns the result of the execution. Afterwards, the shell waits for the next input.\n",
    "\n",
    "A shell in biology is a calcium carbonate \"wall\" which protects snails or mussels from its environment or its enemies. Similarly, a shell in operating systems lies between the kernel of the operating system and the user. It's a \"protection\" in both directions. The user doesn't have to use the complicated basic functions of the OS but is capable of using the interactive shell which is relatively simple and easy to understand. The kernel is protected from unintentional and incorrect usages of system functions.\n",
    "\n",
    "Python offers a comfortable command line interface with the Python Shell, which is also known as the \"Python Interactive Shell\".\n",
    "It looks like the term \"Interactive Shell\" is a tautology, because \"shell\" is interactive on its own, at least the kind of shells we have described in the previous paragraphs.\n",
    "\n",
    "### Using the Python Interactive Shell \n",
    "With the Python interactive interpreter it is easy to check Python commands. The Python interpreter can be invoked by typing the command \"python\" without any parameter followed by the \"return\" key at the shell prompt:\n",
    "\n",
    "```python```\n",
    "\n"
   ]
  },
  {
   "cell_type": "markdown",
   "metadata": {},
   "source": [
    "Python comes back with the following information:\n",
    "\n",
    "```\n",
    "$ python\n",
    "Python 2.7.11 (default, Mar 27 2019, 22:11:17) \n",
    "[GCC 7.3.0] :: Anaconda, Inc. on linux\n",
    "Type \"help\", \"copyright\", \"credits\" or \"license\" for more information.\n",
    "\n",
    "```"
   ]
  },
  {
   "cell_type": "markdown",
   "metadata": {},
   "source": [
    "A closer look at the output above reveals that we have the wrong Python version. We wanted to use Python 3.x, but what we got is the installed standard of the operating system, i.e. version 2.7.11+.\n",
    "\n",
    "The easiest way to check if a Python 3.x version is installed: Open a Terminal. Type in python but no return. Instead, type the \"Tab\" key. You will see possible extensions and other installed versions, if there are some:\n",
    "\n",
    "\n"
   ]
  },
  {
   "cell_type": "markdown",
   "metadata": {},
   "source": [
    "<pre>\n",
    "bernd@venus:~$ $ python\n",
    "python             python3            python3.7-config   python-config\n",
    "python2            python3.6          python3.7m         pythontex\n",
    "python2.7          python3.6-config   python3.7m-config  pythontex3\n",
    "python2.7-config   python3.6m         python3-config     python-whiteboard\n",
    "python2-config     python3.6m-config  python3m           \n",
    "python2-pbr        python3.7          python3m-config   \n",
    "bernd@venus:~$ python\n",
    "</pre>"
   ]
  },
  {
   "cell_type": "markdown",
   "metadata": {},
   "source": [
    "If no other Python version shows up, python3.x has to be installed. Afterwards, we can start the newly installed version by typing python3:"
   ]
  },
  {
   "cell_type": "markdown",
   "metadata": {},
   "source": [
    "<pre>\n",
    "$ python3\n",
    "Python 3.6.7 (default, Oct 22 2018, 11:32:17) \n",
    "[GCC 8.2.0] on linux\n",
    "Type \"help\", \"copyright\", \"credits\" or \"license\" for more information.\n",
    "\n",
    "</pre> "
   ]
  },
  {
   "cell_type": "markdown",
   "metadata": {},
   "source": [
    "Once the Python interpreter is started, you can issue any command at the command prompt \">>>\".\n",
    "Let's see, what happens, if we type in the word \"hello\":\n",
    "\n"
   ]
  },
  {
   "cell_type": "code",
   "execution_count": 1,
   "metadata": {},
   "outputs": [
    {
     "ename": "NameError",
     "evalue": "name 'hello' is not defined",
     "output_type": "error",
     "traceback": [
      "\u001b[1;31m---------------------------------------------------------------------------\u001b[0m",
      "\u001b[1;31mNameError\u001b[0m                                 Traceback (most recent call last)",
      "\u001b[1;32m<ipython-input-1-f572d396fae9>\u001b[0m in \u001b[0;36m<module>\u001b[1;34m\u001b[0m\n\u001b[1;32m----> 1\u001b[1;33m \u001b[0mhello\u001b[0m\u001b[1;33m\u001b[0m\u001b[1;33m\u001b[0m\u001b[0m\n\u001b[0m",
      "\u001b[1;31mNameError\u001b[0m: name 'hello' is not defined"
     ]
    }
   ],
   "source": [
    "hello"
   ]
  },
  {
   "cell_type": "markdown",
   "metadata": {},
   "source": [
    "Of course, \"hello\" is not a proper Python command, so the interactive shell returns (\"raises\") an error.\n",
    "\n",
    "The first real command we will use is the print command. We will create the mandatory \"Hello World\" statement:\n",
    "\n"
   ]
  },
  {
   "cell_type": "code",
   "execution_count": 4,
   "metadata": {},
   "outputs": [
    {
     "name": "stdout",
     "output_type": "stream",
     "text": [
      "Hello World\n"
     ]
    }
   ],
   "source": [
    "print(\"Hello World\")\n"
   ]
  },
  {
   "cell_type": "markdown",
   "metadata": {},
   "source": [
    "It couldn't have been easier, could it? Oh yes, it can be written in a even simpler way. In the Interactive Python Interpreter - but not in a program - the print is not necessary. We can just type in a string or a number and it will be \"echoed\"\n",
    "\n"
   ]
  },
  {
   "cell_type": "code",
   "execution_count": 18,
   "metadata": {},
   "outputs": [
    {
     "data": {
      "text/plain": [
       "'Hello World'"
      ]
     },
     "execution_count": 18,
     "metadata": {},
     "output_type": "execute_result"
    }
   ],
   "source": [
    "\"Hello World\""
   ]
  },
  {
   "cell_type": "code",
   "execution_count": 19,
   "metadata": {},
   "outputs": [
    {
     "data": {
      "text/plain": [
       "3"
      ]
     },
     "execution_count": 19,
     "metadata": {},
     "output_type": "execute_result"
    }
   ],
   "source": [
    "3"
   ]
  },
  {
   "cell_type": "markdown",
   "metadata": {},
   "source": [
    "### How to Quit the Python Shell\n",
    "\n",
    "So, we have just started, and we are already talking about quitting the shell. We do this, because we know, how annoying it can be, if you don't know how to properly quit a program.\n",
    "\n",
    "It's easy to end the interactive session: You can either use exit() or Ctrl-D (i.e. EOF) to exit. The brackets behind the exit function are crucial. (Warning: Exit without brackets works in Python2.x but doesn't work anymore in Python3.x)\n",
    "\n",
    "### The Shell as a Simple Calculator\n",
    "In the following example we use the interpreter as a simple calculator by typing an arithmetic expression:\n",
    "\n"
   ]
  },
  {
   "cell_type": "code",
   "execution_count": 9,
   "metadata": {},
   "outputs": [
    {
     "data": {
      "text/plain": [
       "646.189397"
      ]
     },
     "execution_count": 9,
     "metadata": {},
     "output_type": "execute_result"
    }
   ],
   "source": [
    "4.567 * 8.323 * 17"
   ]
  },
  {
   "cell_type": "markdown",
   "metadata": {},
   "source": [
    "Python follows the usual order of operations in expressions. The standard order of operations is expressed in the following enumeration:\n",
    "\n",
    "- exponents and roots\n",
    "- multiplication and division\n",
    "- addition and subtraction\n",
    "\n",
    "In other words, we don't need parentheses in the expression \"3 + (2 * 4)\":\n",
    "\n"
   ]
  },
  {
   "cell_type": "code",
   "execution_count": 10,
   "metadata": {},
   "outputs": [
    {
     "data": {
      "text/plain": [
       "11"
      ]
     },
     "execution_count": 10,
     "metadata": {},
     "output_type": "execute_result"
    }
   ],
   "source": [
    "3 + 2 * 4"
   ]
  },
  {
   "cell_type": "markdown",
   "metadata": {},
   "source": [
    "The most recent output value is automatically stored by the interpreter in a special variable with the name \"_\". So we can print the output from the recent example again by typing an underscore after the prompt:\n",
    "\n"
   ]
  },
  {
   "cell_type": "code",
   "execution_count": 12,
   "metadata": {},
   "outputs": [
    {
     "data": {
      "text/plain": [
       "11"
      ]
     },
     "execution_count": 12,
     "metadata": {},
     "output_type": "execute_result"
    }
   ],
   "source": [
    "_"
   ]
  },
  {
   "cell_type": "markdown",
   "metadata": {},
   "source": [
    "\n",
    "The underscore can be used in other expressions like any other variable:\n",
    "\n"
   ]
  },
  {
   "cell_type": "code",
   "execution_count": 13,
   "metadata": {},
   "outputs": [
    {
     "data": {
      "text/plain": [
       "33"
      ]
     },
     "execution_count": 13,
     "metadata": {},
     "output_type": "execute_result"
    }
   ],
   "source": [
    " _ * 3"
   ]
  },
  {
   "cell_type": "markdown",
   "metadata": {},
   "source": [
    "The underscore variable is only available in the Python shell. It's NOT available in Python scripts or programs.\n",
    "\n",
    "### Using Variables\n",
    "It's simple to use variables in the Python shell. If you are an absolute beginner and if you don't know anything about variables, please refer to our chapter about [variables and data types](python3_variables.php).\n",
    "Values can be saved in variables. Variable names don't require any special tagging, like they do in Perl, where you have to use dollar signs, percentage signs and at signs to tag variables:"
   ]
  },
  {
   "cell_type": "code",
   "execution_count": 14,
   "metadata": {},
   "outputs": [
    {
     "name": "stdout",
     "output_type": "stream",
     "text": [
      "30\n"
     ]
    }
   ],
   "source": [
    "maximal = 124\n",
    "width = 94\n",
    "print(maximal - width)"
   ]
  },
  {
   "cell_type": "markdown",
   "metadata": {},
   "source": [
    "### Multiline Statements\n",
    "We haven't introduced multiline statements so far. So beginners can skip the rest of this chapter and can continue with the following chapters.\n",
    "\n",
    "We will show how the interactive prompt deals with multiline statements like for loops.\n",
    "\n"
   ]
  },
  {
   "cell_type": "code",
   "execution_count": 15,
   "metadata": {},
   "outputs": [
    {
     "name": "stdout",
     "output_type": "stream",
     "text": [
      "A\n",
      "42\n",
      "78\n",
      "Just a String\n"
     ]
    }
   ],
   "source": [
    "l = [\"A\", 42, 78, \"Just a String\"]\n",
    "for character in l:\n",
    "     print(character)\n"
   ]
  },
  {
   "cell_type": "markdown",
   "metadata": {},
   "source": [
    "After having input \"for character in l: \" the interpretor expects the input of the next line to be indented. In other words: the interpretor expects an indented block, which is the body of the loop. This indented block will be iterated. The interpretor shows this \"expectation\" by displaying three dots \"...\" instead of the standard Python interactive prompt \">>>\". Another special feature of the interactive shell: when we are done with the indented lines, i.e. the block, we have to enter an empty line to indicate that the block is finished.\n",
    "Attention: the additional empty line is only necessary in the interactive shell! In a Python program, it is enough to return to the indentation level of the \"for\" line, the one with the colon \":\" at the end.\n",
    "\n",
    "## Strings\n",
    "\n",
    "Strings are created by putting a sequence of characters in quotes. Strings can be surrounded by single quotes, double quotes or triple quotes, which are made up of three single or three double quotes. Strings are immutable. In other words, once defined, they cannot be changed. We will cover this topic in detail in another chapter.\n"
   ]
  },
  {
   "cell_type": "code",
   "execution_count": 16,
   "metadata": {},
   "outputs": [
    {
     "data": {
      "text/plain": [
       "'Hello World'"
      ]
     },
     "execution_count": 16,
     "metadata": {},
     "output_type": "execute_result"
    }
   ],
   "source": [
    "\"Hello\" + \" \" + \"World\""
   ]
  },
  {
   "cell_type": "markdown",
   "metadata": {},
   "source": [
    "A string in triple quotes can span several lines without using the escape character:\n"
   ]
  },
  {
   "cell_type": "code",
   "execution_count": 17,
   "metadata": {
    "scrolled": true
   },
   "outputs": [
    {
     "name": "stdout",
     "output_type": "stream",
     "text": [
      "\n",
      "Toronto is the largest city in Canada \n",
      "and the provincial capital of Ontario. \n",
      "It is located in Southern Ontario on the \n",
      "northwestern shore of Lake Ontario.\n",
      "\n"
     ]
    }
   ],
   "source": [
    "city = \"\"\"\n",
    "... Toronto is the largest city in Canada \n",
    "... and the provincial capital of Ontario. \n",
    "... It is located in Southern Ontario on the \n",
    "... northwestern shore of Lake Ontario.\n",
    "... \"\"\"\n",
    "print(city)\n",
    "\n"
   ]
  },
  {
   "cell_type": "markdown",
   "metadata": {},
   "source": [
    "Multiplication on strings is defined, which is essentially a multiple concatenation:\n"
   ]
  },
  {
   "cell_type": "code",
   "execution_count": 20,
   "metadata": {
    "scrolled": true
   },
   "outputs": [
    {
     "data": {
      "text/plain": [
       "'.-..-..-..-.'"
      ]
     },
     "execution_count": 20,
     "metadata": {},
     "output_type": "execute_result"
    }
   ],
   "source": [
    "\".-.\" * 4"
   ]
  }
 ],
 "metadata": {
  "kernelspec": {
   "display_name": "Python 3",
   "language": "python",
   "name": "python3"
  },
  "language_info": {
   "codemirror_mode": {
    "name": "ipython",
    "version": 3
   },
   "file_extension": ".py",
   "mimetype": "text/x-python",
   "name": "python",
   "nbconvert_exporter": "python",
   "pygments_lexer": "ipython3",
   "version": "3.7.4"
  }
 },
 "nbformat": 4,
 "nbformat_minor": 2
}
