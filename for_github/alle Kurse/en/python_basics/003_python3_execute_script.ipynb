{
 "cells": [
  {
   "cell_type": "markdown",
   "metadata": {},
   "source": [
    "## Execute a Python script\n",
    "\n",
    "So far we have played around with Python commands in the Python shell. We want to write now our first serious Python program. You will hardly find any beginner's textbook on programming, which doesn't start with the \"almost mandatory\" \"Hello World\" program, i.e. a program which prints the string \"Hello World\". We start a Python interactive shell in a terminal with the command \"python\". It might be necessary to use \"python3\" to get a Python3 shell:\n",
    "\n",
    "```\n",
    "$ python3\n",
    "(base) bernd@moon:~$ python\n",
    "Python 3.7.1 (default, Dec 14 2018, 19:28:38) \n",
    "[GCC 7.3.0] :: Anaconda, Inc. on linux\n",
    "Type \"help\", \"copyright\", \"credits\" or \"license\" for more information.\n",
    ">>> print(\"Hello World!\")\n",
    "Hello World!\n",
    ">>> \n",
    "```"
   ]
  },
  {
   "cell_type": "markdown",
   "metadata": {},
   "source": [
    "But, as we said at the beginning, we want to write a \"serious\" program now, i.e. a program which resides in a file. This way, we can use a program over and over again without having to type it in again. Some may like to call such a little program \"script\". We will use a slight variation of the \"Hello World\" theme. We have to include our print function into a file. To save and edit our program in a file we need an editor. There are lots of editors, but you should choose one, which supports syntax highlighting and indentation. For Linux you can use vi, vim, emacs, geany, gedit and umpteen others. The Emacs works for Windows as well, but Notepad++ may be the better choice in many cases. Of course, you can also use an IDE (Integrated Development Environment) like PyCharm or Spyder for this purpose.\n",
    "\n",
    "So, after you have found the editor or the IDE of your choice, you are ready to develop your mini program, i.e.\n",
    "\n"
   ]
  },
  {
   "cell_type": "code",
   "execution_count": 2,
   "metadata": {},
   "outputs": [
    {
     "name": "stdout",
     "output_type": "stream",
     "text": [
      "My first simple Python script!\n"
     ]
    }
   ],
   "source": [
    "print(\"My first simple Python script!\")"
   ]
  },
  {
   "cell_type": "markdown",
   "metadata": {},
   "source": [
    "and save it as my_first_simple_program.py.\n",
    "The suffix .py is not really necessary for Linux but it's good to use it since the extension is essential, if you want to write modules.\n",
    "\n",
    "\n",
    "## Start a Python program\n",
    "\n",
    "Let's assume our script is in a subdirectory under the home directory of the user monty:\n",
    "\n",
    "```\n",
    "monty@python:~$ cd python\n",
    "monty@python:~/python$ python my_first_simple_program.py \n",
    "My first simple Python script!\n",
    "monty@python:~/python$\n",
    "```\n",
    "\n",
    "It can be started in a Command Prompt in Windows as well (start -> All Programs -> Accessories -> Command Prompt). You may notice that we called our little program \"hello.py\" and not my_first_simple_program.py:\n",
    "\n"
   ]
  },
  {
   "cell_type": "markdown",
   "metadata": {},
   "source": [
    "<img width=300 src=\"../images/python_script_start_windows.webp\" srcset=\"../images/python_script_start_windows_400w.webp 400w,../images/python_script_start_windows_350w.webp 350w,../images/python_script_start_windows_300w.webp 300w\" alt=\"Command Prompt\" />"
   ]
  },
  {
   "cell_type": "markdown",
   "metadata": {},
   "source": [
    "\n",
    "\n",
    "## Starting a Python Script under Windows\n",
    "\n",
    "\n",
    "\n",
    "### Python Internals\n",
    "Most probably you have read somewhere that the Python language is an interpreted programming or a script language. The truth is: Python is both an interpreted and a compiled language. But calling Python a compiled language would be misleading. (At the end of this chapter, you will find the definitions for Compilers and Interpreters, in case you are not already familiar with the concepts!) People would assume that the compiler translates the Python code into machine language. Python code is translated into intermediate code, which has to be executed by a virtual machine, known as the PVM, the Python Virtual Machine. This is a similar approach to the one taken by Java. There is even a way of translating Python programs into Java byte code for the Java Virtual Machine (JVM). This can be achieved with Jython.\n",
    "\n",
    "The question is, do I have to compile my Python scripts to make them faster or how can I compile them? The answer is easy: normally, you don't need to do anything and you shouldn't bother, because \"Python\" is already doing the thinking for you, i.e. it takes the necessary steps automatically.\n",
    "\n",
    "For whatever reason you want to compile a python program manually? No problem. It can be done with the module py_compile, either using the interpreter shell\n"
   ]
  },
  {
   "cell_type": "code",
   "execution_count": 7,
   "metadata": {},
   "outputs": [
    {
     "data": {
      "text/plain": [
       "'__pycache__/my_first_simple_program.cpython-37.pyc'"
      ]
     },
     "execution_count": 7,
     "metadata": {},
     "output_type": "execute_result"
    }
   ],
   "source": [
    "\n",
    "import py_compile\n",
    "py_compile.compile('my_first_simple_program.py')\n",
    "\n"
   ]
  },
  {
   "cell_type": "markdown",
   "metadata": {},
   "source": [
    "\n",
    "or using the following command at the shell prompt\n",
    "\n",
    "```\n",
    "python -m py_compile my_first_simple_program.py\n",
    "```\n",
    "\n",
    "Either way, you may notice two things: first, there will be a new subdirectory \"```__pycache__```\", if it doesn't already exist. You will find a file \"my_first_simple_script.cpython-34.pyc\" in this subdirectory. This is the compiled version of our file in byte code.\n",
    "\n",
    "You can also automatically compile all Python files using the compileall module. You can do it from the shell prompt by running compileall.py and providing the path of the directory containing the Python files to compile:\n",
    "\n",
    "```\n",
    "monty@python:~/python$ python -m compileall .\n",
    "Listing . ...\n",
    "```\n",
    "\n",
    "\n",
    "But as we have said, you don't have to and shouldn't bother about compiling Python code. The compilation is hidden from the user for a good reason. Some newbies wonder sometimes where these ominous files with the .pyc suffix might come from. If Python has write-access for the directory where the Python program resides, it will store the compiled byte code in a file that ends with a .pyc suffix. If Python has no write access, the program will work anyway. The byte code will be produced but discarded when the program exits.\n",
    "Whenever a Python program is called, Python will check, if a compiled version with the .pyc suffix exists. This file has to be newer than the file with the .py suffix. If such a file exists, Python will load the byte code, which will speed up the start up time of the script. If there is no byte code version, Python will create the byte code before it starts the execution of the program. Execution of a Python program means execution of the byte code on the Python.\n",
    "\n",
    "\n",
    "\n",
    "\n",
    "\n",
    "\n"
   ]
  },
  {
   "cell_type": "markdown",
   "metadata": {},
   "source": [
    "<img width=300 src=\"../images/py_pyc_overview.webp\" srcset=\"../images/py_pyc_overview_800w.webp 800w,../images/py_pyc_overview_700w.webp 700w,../images/py_pyc_overview_600w.webp 600w,../images/py_pyc_overview_500w.webp 500w,../images/py_pyc_overview_400w.webp 400w,../images/py_pyc_overview_350w.webp 350w,../images/py_pyc_overview_300w.webp 300w\" alt=\"Source Code to Byte Code\" />"
   ]
  },
  {
   "cell_type": "markdown",
   "metadata": {},
   "source": [
    "## Virtual Machine (PVM).\n",
    "\n",
    "### Compilation of a Python script\n",
    "\n",
    "Every time a Python script is executed, a byte code is created. If a Python script is imported as a module, the byte code will be stored in the corresponding .pyc file.\n",
    "So, the following will not create a byte code file:\n",
    "\n",
    "```\n",
    "monty@python:~/python$ python my_first_simple_program.py\n",
    "My first simple Python script!\n",
    "monty@python:~/python$\n",
    "```"
   ]
  },
  {
   "cell_type": "markdown",
   "metadata": {},
   "source": [
    "The import in the following Python2 session will create a byte code file with the name \"my_first_simple_program.pyc\":\n",
    "\n"
   ]
  },
  {
   "cell_type": "markdown",
   "metadata": {},
   "source": [
    "```\n",
    "monty@python:~/tmp$ ls \n",
    "my_first_simple_program.py\n",
    "monty@python:~/tmp$ python\n",
    "Python 2.6.5 (r265:79063, Apr 16 2010, 13:57:41) \n",
    "[GCC 4.4.3] on linux2\n",
    "Type \"help\", \"copyright\", \"credits\" or \"license\" for more information.\n",
    ">>> import my_first_simple_script\n",
    "My first simple Python script!\n",
    ">>> exit()\n",
    "monty@python:~/tmp$ ls\n",
    "my_first_simple_program.py  my_first_simple_program.pyc\n",
    "monty@python:~/tmp$ \n",
    "```\n",
    "\n"
   ]
  },
  {
   "cell_type": "markdown",
   "metadata": {},
   "source": [
    "### Runnable scripts under Linux\n",
    "This chapter can be skipped by Windows users. Don't worry! It is not essential!\n",
    "\n",
    "So far, we have started our Python scripts with\n",
    "```\n",
    "python3 my_file.py\n",
    "```\n",
    "\n",
    "on the bash command line.\n",
    "A Python script can also be started like any other script under Linux, e.g. Bash scripts. Two steps are necessary for this purpose:\n",
    "    the shebang line #!/usr/bin/env python3 has to be added as the first line of your Python code file. Alternatively, this line can be #!/usr/bin/python3, if this is the location of your Python interpreter. Instead using env as in the first shebang line, the interpreter is searched for and located at the time the script is run. This makes the script more portable. Yet, it also suffers from the same problem: The path to env may also be different on a per-machine basis.\n",
    "    The file has to be made executable: The command \"chmod +x scriptname\" has to be executed on a Linux shell, e.g. bash. \"chmod 755 scriptname\" can also be used to make your file executable. In our example:\n",
    "    \n",
    "```\n",
    "    $ chmod +x my_first_simple_program.py\n",
    "```\n",
    "\n",
    "We illustrate this in a bash session:"
   ]
  },
  {
   "cell_type": "markdown",
   "metadata": {},
   "source": [
    "```\n",
    "bernd@marvin:~$ more my_first_simple_script.py \n",
    "#!/usr/bin/env python3\n",
    "print(\"My first simple Python script!\")\n",
    "bernd@marvin:~$ ls -ltr my_first_simple_script.py \n",
    "-rw-r--r-- 1 bernd bernd 63 Nov  4 21:17 my_first_simple_script.py\n",
    "bernd@marvin:~$ chmod +x my_first_simple_script.py \n",
    "bernd@marvin:~$ ls -ltr my_first_simple_script.py \n",
    "-rwxr-xr-x 1 bernd bernd 63 Nov  4 21:17 my_first_simple_script.py\n",
    "bernd@marvin:~$ ./my_first_simple_script.py \n",
    "My first simple Python script!\n",
    "```\n",
    "\n"
   ]
  },
  {
   "cell_type": "markdown",
   "metadata": {},
   "source": [
    "## Differences between Compilers and Interpreters\n",
    "\n",
    "### Compiler\n",
    "\n",
    "Definition: a compiler is a computer program that transforms (translates) source code of a programming language (the source language) into another computer language (the target language). In most cases compilers are used to transform source code into executable program, i.e. they translate code from high-level programming languages into low (or lower) level languages, mostly assembly or machine code.\n",
    "\n",
    "### Interpreter\n",
    "\n",
    "Definition: an interpreter is a computer program that executes instructions written in a programming language. It can either execute the source code directly or     translate the source code in a first step into a more efficient representation and execute this code."
   ]
  }
 ],
 "metadata": {
  "kernelspec": {
   "display_name": "Python 3",
   "language": "python",
   "name": "python3"
  },
  "language_info": {
   "codemirror_mode": {
    "name": "ipython",
    "version": 3
   },
   "file_extension": ".py",
   "mimetype": "text/x-python",
   "name": "python",
   "nbconvert_exporter": "python",
   "pygments_lexer": "ipython3",
   "version": "3.7.4"
  }
 },
 "nbformat": 4,
 "nbformat_minor": 2
}
