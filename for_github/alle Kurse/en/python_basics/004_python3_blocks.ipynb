{
 "cells": [
  {
   "cell_type": "markdown",
   "metadata": {},
   "source": [
    "## Structuring with Indentation\n",
    "\n",
    "\n",
    "\n",
    "### Blocks\n",
    "\n",
    "<img width=150 height=300 class=\"imgright\" src=\"../images/blocks_300.webp\" alt=\"Stones\" />\n",
    "\n",
    "A block is a group of statements in a program or script. Usually, it consists of at least one statement and declarations for the block, depending on the programming or scripting language. A language which allows grouping with blocks, is called a block structured language. Generally, blocks can contain blocks as well, so we get a nested block structure. A block in a script or program functions as a means to group statements to be treated as if they were one statement. In many cases, it also serves as a way to limit the lexical scope of variables and functions.\n",
    "\n",
    "Initially, in simple languages like Basic and Fortran, there was no way of explicitly using block structures. Programmers had to rely on \"go to\" structures, nowadays frowned upon, because \"Go to programs\" turn easily into spaghetti code, i.e. tangled and inscrutable control structures.\n",
    "\n",
    "Block structures were first formalized in ALGOL as a compound statement.\n",
    "\n",
    "Programming languages, such as ALGOL, Pascal, and others, usually use certain methods to group statements into blocks:\n",
    "\n",
    "- begin ... end\n",
    "\n",
    "A code snippet in Pascal to show this usage of blocks:"
   ]
  },
  {
   "cell_type": "markdown",
   "metadata": {},
   "source": [
    "<pre>\n",
    "with ptoNode^ do\n",
    "    begin\n",
    "      x := 42;\n",
    "      y := 'X';\n",
    "    end;   \n",
    "</pre>"
   ]
  },
  {
   "cell_type": "markdown",
   "metadata": {},
   "source": [
    "- do ... done\n",
    "- if ... fi\n",
    "e.g. Bourne and Bash shell\n",
    "\n",
    "- Braces (also called curly brackets): { ... }\n",
    "By far the most common approach, used by C, C++, Perl, Java, and many other programming languages, is the use of braces.\n",
    "The following example shows a conditional statement in C:"
   ]
  },
  {
   "cell_type": "markdown",
   "metadata": {},
   "source": [
    "    if (x==42) {\n",
    "        printf(\"The Answer to the Ultimate Question of Life, the Universe, and Everything\\n\");\n",
    "    } else {\n",
    "        printf(\"Just a number!\\n\");\n",
    "    }\n",
    "\n"
   ]
  },
  {
   "cell_type": "markdown",
   "metadata": {},
   "source": [
    "The indentations in this code fragment are not necessary. So the code could be written - offending common decency - as\n",
    "\n"
   ]
  },
  {
   "cell_type": "markdown",
   "metadata": {},
   "source": [
    "<pre> if (x==42) {printf(\"The  Answer to the Ultimate Question of Life, the Universe, and Everything\\n\");} else {printf(\"Just a number!\\n\");}\n",
    "</pre>\n",
    "\n"
   ]
  },
  {
   "cell_type": "markdown",
   "metadata": {},
   "source": [
    "Please, keep this in mind to understand the advantages of Python!\n",
    "\n",
    "\n",
    "### Indenting Code\n",
    "\n",
    "<img width=300 height= 300 class=\"imgright\" src=\"../images/blocks.webp\" srcset=\"../images/blocks_300w.webp 300w\" alt=\"Blocks\" />\n",
    "Python uses a different principle. Python programs get structured through indentation, i.e. code blocks are defined by their indentation. Okay that's what we expect from any program code, isn't it? Yes, but in the case of Python it's a language requirement, not a matter of style. This principle makes it easier to read and understand other people's Python code.\n",
    "\n",
    "So, how does it work? All statements with the same distance to the right belong to the same block of code, i.e. the statements within a block line up vertically. The block ends at a line less indented or the end of the file. If a block has to be more deeply nested, it is simply indented further to the right.\n",
    "\n",
    "Beginners are not supposed to understand the following example, because we haven't introduced most of the used structures, like conditional statements and loops. Please see the following chapters about loops and conditional statements for explanations.\n",
    "The program implements an algorithm to calculate Pythagorean triples. You will find an explanation of the Pythagorean numbers in our chapter on [for loops](https://www.python-course.eu/python3_for_loop.php).\n",
    "\n"
   ]
  },
  {
   "cell_type": "code",
   "execution_count": 1,
   "metadata": {},
   "outputs": [
    {
     "name": "stdin",
     "output_type": "stream",
     "text": [
      "Maximum Number?  20\n"
     ]
    },
    {
     "name": "stdout",
     "output_type": "stream",
     "text": [
      "3 4 5\n",
      "5 12 13\n",
      "6 8 10\n",
      "8 15 17\n",
      "9 12 15\n",
      "12 16 20\n",
      "15 20 25\n"
     ]
    }
   ],
   "source": [
    "from math import sqrt\n",
    "n = input(\"Maximum Number? \")\n",
    "n = int(n)+1\n",
    "for a in range(1,n):\n",
    "    for b in range(a,n):\n",
    "        c_square = a**2 + b**2\n",
    "        c = int(sqrt(c_square))\n",
    "        if ((c_square - c**2) == 0):\n",
    "            print(a, b, c)\n"
   ]
  },
  {
   "cell_type": "markdown",
   "metadata": {},
   "source": [
    "There is another aspect of structuring in Python, which we haven't mentioned so far, which you can see in the example. Loops and Conditional statements end with a colon \":\" - the same is true for functions and other structures introducing blocks. All in all, Python structures by colons and indentation. "
   ]
  }
 ],
 "metadata": {
  "kernelspec": {
   "display_name": "Python 3",
   "language": "python",
   "name": "python3"
  },
  "language_info": {
   "codemirror_mode": {
    "name": "ipython",
    "version": 3
   },
   "file_extension": ".py",
   "mimetype": "text/x-python",
   "name": "python",
   "nbconvert_exporter": "python",
   "pygments_lexer": "ipython3",
   "version": "3.7.6"
  }
 },
 "nbformat": 4,
 "nbformat_minor": 4
}
