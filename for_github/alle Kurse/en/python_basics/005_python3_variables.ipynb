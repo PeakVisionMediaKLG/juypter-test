{
 "cells": [
  {
   "cell_type": "markdown",
   "metadata": {},
   "source": [
    "## Data Types and Variables\n",
    "\n",
    "\n",
    "### Introduction\n",
    "\n",
    "<img width=200 height=200 class=\"imgright\" src=\"../images/containers300.webp\" srcset=\"../images/containers300_300w.webp 300w\" alt=\"Containers\" />\n",
    "\n",
    "Have you programmed low-level languages like C, C++ or other similar programming languages? If so, you might think you know already enough about data types and variables. You know a lot, that's right, but not enough for Python. So it's worth to go on reading this chapter on data types and variables in Python. There are dodgy differences in the way Python and C deal with variables. There are integers, floating point numbers, strings, and many more, but things are not the same as in C or C++.\n",
    "\n",
    "If you want to use lists or associative arrays in C e.g., you will have to construe the data type list or associative arrays from scratch, i.e., design memory structure and the allocation management. You will have to implement the necessary search and access methods as well. Python provides power data types like lists and associative arrays called \"dict\", as a genuine part of the language.\n",
    "\n",
    "So, this chapter is worth reading both for beginners and for advanced programmers in other programming languages.\n",
    "\n",
    "### Variables\n",
    "\n",
    "\n",
    "#### General Concept of Variables\n",
    "\n",
    "\n",
    "This subchapter is especially intended for C, C++ and Java programmers, because the way these programming languages treat basic data types is different from the way Python does. Those who start learning Python as their first programming language may skip this and read the next subchapter.\n",
    "\n",
    "So, what's a variable? As the name implies, a variable is something which can change. A variable is a way of referring to a memory location used by a computer program. In many programming languages a variable is a symbolic name for this physical location. This memory location contains values, like numbers, text or more complicated types. We can use this variable to tell the computer to save some data in this location or to retrieve some data from this location.\n",
    "\n",
    "<img width=200 height=150 src=\"../images/shoebox_variables_1.webp\" srcset=\"../images/shoebox_variables_1_300w.webp 300w\" alt=\"Box X and Y\" />\n",
    "\n",
    "A variable can be seen as a container (or some say a pigeonhole) to store certain values. While the program is running, variables are accessed and sometimes changed, i.e., a new value will be assigned to a variable.\n",
    "\n",
    "What we have said so far about variables best fits the way variables are implemented in C, C++ or Java. Variable names have to be declared in these languages before they can be used."
   ]
  },
  {
   "cell_type": "markdown",
   "metadata": {},
   "source": [
    "<pre> \n",
    "int x;\n",
    "\n",
    "int y;\n",
    "</pre>"
   ]
  },
  {
   "cell_type": "markdown",
   "metadata": {},
   "source": [
    "Such declarations make sure that the program reserves memory for two variables with the names x and y. The variable names stand for the memory location. It's like the two empty shoeboxes, which you can see in the picture above. These shoeboxes are labeled with x and y. Like the two shoeboxes, the memory is empty as well.\n",
    "\n",
    "Putting values into the variables can be realized with assignments. The way you assign values to variables is nearly the same in all programming languages. In most cases, the equal \"=\" sign is used. The value on the right side will be saved in the variable name on the left side.\n",
    "\n",
    "We will assign the value 42 to both variables and we can see that two numbers are physically saved in the memory, which correspond to the two shoeboxes in the following picture.\n",
    "\n",
    "<img width=200 height=150 src=\"../images/shoebox_variables_3.webp\" srcset=\"../images/shoebox_variables_3_300w.webp 300w\" alt=\"Box X and Y\" />"
   ]
  },
  {
   "cell_type": "markdown",
   "metadata": {},
   "source": [
    "<pre>\n",
    "x = 42;\n",
    "\n",
    "y = 42;\n",
    "</pre>"
   ]
  },
  {
   "cell_type": "markdown",
   "metadata": {},
   "source": [
    "We think that it is easy to understand what happens. If we assign a new value to one of the variables, let's say the value 78 to y:\n"
   ]
  },
  {
   "cell_type": "markdown",
   "metadata": {},
   "source": [
    "<pre>\n",
    "y = 78;\n",
    "</pre>"
   ]
  },
  {
   "cell_type": "markdown",
   "metadata": {},
   "source": [
    "<img width=200 height=150 src=\"../images/shoebox_variables_4.webp\" srcset=\"../images/shoebox_variables_4_300w.webp 300w\" alt=\"Assigning a value to a variable in C or Java\" />\n",
    "\n",
    "We have exchanged the content of the memory location of y.\n",
    "\n",
    "We have seen now that in languages like C, C++ or Java every variable has and must have a unique data type. E.g., if a variable is of type integer, solely integers can be saved in the variable for the duration of the program. In those programming languages every variable has to be declared before it can be used. Declaring a variable means binding it to a data type.\n",
    "\n",
    "#### Variables in Python\n",
    "\n",
    "\n",
    "There is no declaration of variables required in Python, which makes it quite easy. It's not even possible to declare the variables. If there is need for a variable, you should think of a name and start using it as a variable.\n",
    "\n",
    "Another remarkable aspect of Python: Not only the value of a variable may change during program execution, but the type as well. You can assign an integer value to a variable, use it as an integer for a while and then assign a string to the same variable.\n",
    "In the following line of code, we assign the value 42 to a variable:"
   ]
  },
  {
   "cell_type": "code",
   "execution_count": 1,
   "metadata": {},
   "outputs": [],
   "source": [
    "i = 42"
   ]
  },
  {
   "cell_type": "markdown",
   "metadata": {},
   "source": [
    "The equal \"=\" sign in the assignment shouldn't be seen as \"is equal to\". It should be \"read\" or interpreted as \"is set to\", meaning in our example \"the variable i is set to 42\". Now we will increase the value of this variable by 1:"
   ]
  },
  {
   "cell_type": "code",
   "execution_count": 2,
   "metadata": {},
   "outputs": [
    {
     "name": "stdout",
     "output_type": "stream",
     "text": [
      "43\n"
     ]
    }
   ],
   "source": [
    "i = i + 1\n",
    "print(i)"
   ]
  },
  {
   "cell_type": "markdown",
   "metadata": {},
   "source": [
    "As we have said above, the type of a variable can change during the execution of a script. Or, to be precise, a new object, which can be of any type, will be assigned to it. We illustrate this in our following example:"
   ]
  },
  {
   "cell_type": "markdown",
   "metadata": {},
   "source": [
    "<pre>\n",
    "i = 42\t\t\t# data type is implicitly set to integer\n",
    "i = 42 + 0.11\t\t# data type is changed to float\n",
    "i = \"forty\"\t\t# and now it will be a string \n",
    "</pre>"
   ]
  },
  {
   "cell_type": "markdown",
   "metadata": {},
   "source": [
    "When Python executes an assignment like \"i = 42\", it evaluates the right side of the assignment and recognizes that it corresponds to the integer number 42. It creates an object of the integer class to save this data. If you want to have a better understanding of objects and classes, you can but you don't have to start with our chapter on [Object-Oriented Programming](https://www.python-course.eu/python3_object_oriented_programming.php).\n",
    "\n",
    "In other words, Python automatically takes care of the physical representation for the different data types.\n",
    "\n",
    "\n",
    "#### Object References\n",
    "We want to take a closer look at variables now. Python variables are references to objects, but the actual data is contained in the objects:\n",
    "\n",
    "<img width=300 height=250 src=\"../images/python_variable_1.webp\" srcset=\"../images/python_variable_1_600w.webp 600w,../images/python_variable_1_500w.webp 500w,../images/python_variable_1_400w.webp 400w,../images/python_variable_1_350w.webp 350w,../images/python_variable_1_300w.webp 300w\" alt=\"Python Variable\" />\n",
    "\n",
    "As variables are pointing to objects and objects can be of arbitrary data types, variables cannot have types associated with them. This is a huge difference from C, C++ or Java, where a variable is associated with a fixed data type. This association can't be changed as long as the program is running.\n",
    "\n",
    "Therefore it is possible to write code like the following in Python:"
   ]
  },
  {
   "cell_type": "code",
   "execution_count": 62,
   "metadata": {},
   "outputs": [
    {
     "name": "stdout",
     "output_type": "stream",
     "text": [
      "42\n"
     ]
    }
   ],
   "source": [
    "x = 42\n",
    "print(x)"
   ]
  },
  {
   "cell_type": "code",
   "execution_count": 8,
   "metadata": {},
   "outputs": [
    {
     "name": "stdout",
     "output_type": "stream",
     "text": [
      "Now x references a string\n"
     ]
    }
   ],
   "source": [
    "x = \"Now x references a string\"\n",
    "print(x)"
   ]
  },
  {
   "cell_type": "markdown",
   "metadata": {},
   "source": [
    "We want to demonstrate something else now. Let's look at the following code:"
   ]
  },
  {
   "cell_type": "code",
   "execution_count": 1,
   "metadata": {},
   "outputs": [],
   "source": [
    "x = 42\n",
    "y = x"
   ]
  },
  {
   "cell_type": "markdown",
   "metadata": {},
   "source": [
    "We created an integer object 42 and assigned it to the variable x. After this we assigned x to the variable y. This means that both variables reference the same object. The following picture illustrates this:\n",
    "\n",
    "<img width=400 height=175 src=\"../images/python_variable_2.webp\" srcset=\"../images/python_variable_2_800w.webp 800w,../images/python_variable_2_700w.webp 700w,../images/python_variable_2_600w.webp 600w,../images/python_variable_2_500w.webp 500w,../images/python_variable_2_400w.webp 400w,../images/python_variable_2_350w.webp 350w,../images/python_variable_2_300w.webp 300w\" alt=\"Two Python Variables referencing the same object\" />\n",
    "\n",
    "What will happen when we execute"
   ]
  },
  {
   "cell_type": "markdown",
   "metadata": {},
   "source": [
    "<pre>\n",
    "y = 78\n",
    "</pre>"
   ]
  },
  {
   "cell_type": "markdown",
   "metadata": {},
   "source": [
    "after the previous code?\n",
    "\n",
    "Python will create a new integer object with the content 78 and then the variable y will reference this newly created object, as we can see in the following picture:\n",
    "\n",
    "<img width=500 height=200  src=\"../images/python_variable_3.webp\" srcset=\"../images/python_variable_3_800w.webp 800w,../images/python_variable_3_700w.webp 700w,../images/python_variable_3_600w.webp 600w,../images/python_variable_3_500w.webp 500w,../images/python_variable_3_400w.webp 400w,../images/python_variable_3_350w.webp 350w,../images/python_variable_3_300w.webp 300w\" alt=\"Assigning a new object to an existing Python Variable\" />\n",
    "\n",
    "<br>\n",
    "<br>\n",
    "\n",
    "Most probably, we will see further changes to the variables in the flow of our program. There might be, for example, a string assignment to the variable x. The previously integer object \"42\" will be orphaned after this assignment. It will be removed by Python, because no other variable is referencing it.\n",
    "\n",
    "<img width=500 height=200 src=\"../images/python_variable_4.webp\" srcset=\"../images/python_variable_4_800w.webp 800w,../images/python_variable_4_700w.webp 700w,../images/python_variable_4_600w.webp 600w,../images/python_variable_4_500w.webp 500w,../images/python_variable_4_400w.webp 400w,../images/python_variable_4_350w.webp 350w,../images/python_variable_4_300w.webp 300w\" alt=\"Python Variable referencing string object\" />\n",
    "\n",
    "<br>\n",
    "<br>"
   ]
  },
  {
   "cell_type": "markdown",
   "metadata": {},
   "source": [
    "You may ask yourself, how can we see or prove that x and y really reference the same object after the assignment y = x of our previous example?\n",
    "\n",
    "\n",
    "\n",
    "The identity function id() can be used for this purpose. Every instance (object or variable) has an identity, i.e., an integer which is unique within the script or program, i.e., other objects have different identities.\n",
    "So, let's have a look at our previous example and how the identities will change:\n",
    "\n"
   ]
  },
  {
   "cell_type": "code",
   "execution_count": 14,
   "metadata": {},
   "outputs": [
    {
     "data": {
      "text/plain": [
       "140709828470448"
      ]
     },
     "execution_count": 14,
     "metadata": {},
     "output_type": "execute_result"
    }
   ],
   "source": [
    "x = 42\n",
    "id(x)"
   ]
  },
  {
   "cell_type": "code",
   "execution_count": 11,
   "metadata": {},
   "outputs": [
    {
     "data": {
      "text/plain": [
       "(140709828470448, 140709828470448)"
      ]
     },
     "execution_count": 11,
     "metadata": {},
     "output_type": "execute_result"
    }
   ],
   "source": [
    "y = x\n",
    "id(x), id(y)"
   ]
  },
  {
   "cell_type": "code",
   "execution_count": 12,
   "metadata": {},
   "outputs": [
    {
     "data": {
      "text/plain": [
       "(140709828470448, 140709828471600)"
      ]
     },
     "execution_count": 12,
     "metadata": {},
     "output_type": "execute_result"
    }
   ],
   "source": [
    "y = 78\n",
    "id(x), id(y)"
   ]
  },
  {
   "cell_type": "markdown",
   "metadata": {},
   "source": [
    "### Valid Variable Names\n",
    "\n",
    "The naming of variables follows the more general concept of an identifier. A Python identifier is a name used to identify a variable, function, class, module or other object.\n",
    "\n",
    "A variable name and an identifier can consist of the uppercase letters \"A\" through \"Z\", the lowercase letters \"a\" through \"z\", the underscore _ and, except for the first character, the digits 0 through 9. Python 3.x is based on Unicode. That is, variable names and identifier names can additionally contain Unicode characters as well.\n",
    "\n",
    "Identifiers are unlimited in length. Case is significant. The fact that identifier names are case-sensitive can cause problems to some Windows users, where file names are case-insensitive, for example.\n",
    "\n",
    "Exceptions from the rules above are the special Python keywords, as they are described in the following paragraph.\n",
    "\n",
    "The following variable definitions are all valid:\n"
   ]
  },
  {
   "cell_type": "markdown",
   "metadata": {},
   "source": [
    "<pre>\n",
    "height = 10\n",
    "maximum_height = 100\n",
    " \n",
    "υψος = 10\n",
    "μεγιστη_υψος = 100\n",
    " \n",
    "MinimumHeight = 1\n",
    "</pre>"
   ]
  },
  {
   "cell_type": "markdown",
   "metadata": {},
   "source": [
    "### Python Keywords\n",
    "No identifier can have the same name as one of the Python keywords, although they are obeying the above naming conventions:"
   ]
  },
  {
   "cell_type": "markdown",
   "metadata": {},
   "source": [
    "<pre>\n",
    "and, as, assert, break, class, continue, def, del, elif, else,\n",
    "except, False, finally, for, from, global, if, import, in, is, \n",
    "lambda, None, nonlocal, not, or, pass, raise, return, True, try, \n",
    "while, with, yield </pre>"
   ]
  },
  {
   "cell_type": "markdown",
   "metadata": {},
   "source": [
    "There is no need to learn them by heart. You can get the list of Python keywords in the interactive shell by using help. You type help() in the interactive, but please don't forget the parenthesis:"
   ]
  },
  {
   "cell_type": "markdown",
   "metadata": {},
   "source": [
    "<pre>\n",
    "help()\n",
    "\n",
    "Welcome to Python 3.4's help utility!\n",
    "\n",
    "If this is your first time using Python, you should definitely check out\n",
    "the tutorial on the Internet at http://docs.python.org/3.4/tutorial/.\n",
    "\n",
    "Enter the name of any module, keyword, or topic to get help on writing\n",
    "Python programs and using Python modules.  To quit this help utility and\n",
    "return to the interpreter, just type \"quit\".\n",
    "\n",
    "To get a list of available modules, keywords, symbols, or topics, type\n",
    "\"modules\", \"keywords\", \"symbols\", or \"topics\".  Each module also comes\n",
    "with a one-line summary of what it does; to list the modules whose name\n",
    "or summary contain a given string such as \"spam\", type \"modules spam\".\n",
    "\n",
    "help> \n",
    "</pre>"
   ]
  },
  {
   "cell_type": "markdown",
   "metadata": {},
   "source": [
    "What you see now is the help prompt, which allows you to query help on lots of things, especially on \"keywords\" as well:"
   ]
  },
  {
   "cell_type": "markdown",
   "metadata": {},
   "source": [
    "<pre>\n",
    "help> keywords\n",
    "\n",
    "Here is a list of the Python keywords.  Enter any keyword to get more help.\n",
    "\n",
    "False               def                 if                  raise\n",
    "None                del                 import              return\n",
    "True                elif                in                  try\n",
    "and                 else                is                  while\n",
    "as                  except              lambda              with\n",
    "assert              finally             nonlocal            yield\n",
    "break               for                 not                 \n",
    "class               from                or                  \n",
    "continue            global              pass                \n",
    "\n",
    "help> \n",
    "</pre>"
   ]
  },
  {
   "cell_type": "markdown",
   "metadata": {},
   "source": [
    "### Naming Conventions\n",
    "We saw in our chapter on \"Valid Variable Names\" that we sometimes need names which consist of more than one word. We used, for example, the name \"maximum_height\". The underscore functioned as a word separator, because blanks are not allowed in variable names. Some people prefer to write variable names in the so-called CamelCase notation. We defined the variable MinimumHeight in this naming style.\n",
    "\n",
    "There is a permanent \"war\" going on between the camel case followers and the underscore lovers. Personally, I definitely prefer \"the_natural_way_of_naming_things\" to \"TheNaturalWayOfNamingThings\". I think that the first one is more readable and looks more natural language like. In other words: CamelCase words are harder to read than their underscore counterparts, EspeciallyIfTheyAreVeryLong. This is my personal opinion shared by many other programmers but definitely not everybody. The Style Guide for Python Code recommends underscore notation for variable names as well as function names.\n",
    "\n",
    "Certain names should be avoided for variable names: Never use the characters 'l' (lowercase letter \"L\"), 'O' (\"O\" like in \"Ontario\"), or 'I' (like in \"Indiana\") as single character variable names. They should be avoided, because these characters are indistinguishable from the numerals one and zero in some fonts. When tempted to use 'l', use 'L' instead, if you cannot think of a better name anyway. The Style Guide has to say the following about the naming of identifiers in standard modules:\n",
    "\"All identifiers in the Python standard library MUST use ASCII-only identifiers, and SHOULD use English words wherever feasible (in many cases, abbreviations and technical terms are used which aren't English). In addition, string literals and comments must also be in ASCII. The only exceptions are (a) test cases testing the non-ASCII features, and (b) names of authors. Authors whose names are not based on the latin alphabet MUST provide a latin transliteration of their names.\"\n",
    "\n",
    "Companies, institutes, organizations or open source projects aiming at an international audience should adopt a similar notation convention!\n",
    "\n",
    "### Changing Data Types and Storage Locations\n",
    "Programming means data processing. Data in a Python program is represented by objects. These objects can be\n",
    "\n",
    "    •built-in, i.e., objects provided by Python, \n",
    "    •objects from extension libraries,\n",
    "    •created in the application by the programmer.\n",
    "\n",
    "So we have different \"kinds\" of objects for different data types. We will have a look at the different built-in data types in Python.\n",
    "\n",
    "### Numbers\n",
    "\n",
    "Python's built-in core data types are in some cases also called object types. There are four built-in data types for numbers:\n",
    "\n",
    "    •Integer\n",
    "        ∙Normal integers\n",
    "        e.g., 4321\n",
    "        ∙Octal literals (base 8)\n",
    "        A number prefixed by 0o (zero and a lowercase \"o\" or uppercase \"O\") will be interpreted as an octal number\n",
    "        example:"
   ]
  },
  {
   "cell_type": "code",
   "execution_count": 15,
   "metadata": {},
   "outputs": [
    {
     "name": "stdout",
     "output_type": "stream",
     "text": [
      "8\n"
     ]
    }
   ],
   "source": [
    "a = 0o10\n",
    "\n",
    "print(a)        "
   ]
  },
  {
   "cell_type": "markdown",
   "metadata": {},
   "source": [
    "        ∙Hexadecimal literals (base 16)\n",
    "        Hexadecimal literals have to be prefixed either by \"0x\" or \"0X\".\n",
    "        example:      "
   ]
  },
  {
   "cell_type": "code",
   "execution_count": 16,
   "metadata": {},
   "outputs": [
    {
     "name": "stdout",
     "output_type": "stream",
     "text": [
      "2575\n"
     ]
    }
   ],
   "source": [
    "hex_number = 0xA0F\n",
    "\n",
    "print(hex_number)        "
   ]
  },
  {
   "cell_type": "markdown",
   "metadata": {},
   "source": [
    "        ∙Binary literals (base 2)\n",
    "        Binary literals can easily be written as well. They have to be prefixed by a leading \"0\", followed by a \"b\" or \"B\":\n",
    "      "
   ]
  },
  {
   "cell_type": "code",
   "execution_count": 17,
   "metadata": {},
   "outputs": [
    {
     "data": {
      "text/plain": [
       "42"
      ]
     },
     "execution_count": 17,
     "metadata": {},
     "output_type": "execute_result"
    }
   ],
   "source": [
    "x = 0b101010\n",
    "x      "
   ]
  },
  {
   "cell_type": "markdown",
   "metadata": {},
   "source": [
    "The functions hex, bin, oct can be used to convert an integer number into the corresponding string representation of the integer number:"
   ]
  },
  {
   "cell_type": "code",
   "execution_count": 5,
   "metadata": {},
   "outputs": [
    {
     "data": {
      "text/plain": [
       "'0x13'"
      ]
     },
     "execution_count": 5,
     "metadata": {},
     "output_type": "execute_result"
    }
   ],
   "source": [
    "x = hex(19)\n",
    "x    "
   ]
  },
  {
   "cell_type": "code",
   "execution_count": 6,
   "metadata": {},
   "outputs": [
    {
     "data": {
      "text/plain": [
       "str"
      ]
     },
     "execution_count": 6,
     "metadata": {},
     "output_type": "execute_result"
    }
   ],
   "source": [
    "type(x)"
   ]
  },
  {
   "cell_type": "code",
   "execution_count": 9,
   "metadata": {},
   "outputs": [
    {
     "data": {
      "text/plain": [
       "'0b1000001'"
      ]
     },
     "execution_count": 9,
     "metadata": {},
     "output_type": "execute_result"
    }
   ],
   "source": [
    "x = bin(65) \n",
    "x"
   ]
  },
  {
   "cell_type": "code",
   "execution_count": 23,
   "metadata": {},
   "outputs": [
    {
     "data": {
      "text/plain": [
       "'0o101'"
      ]
     },
     "execution_count": 23,
     "metadata": {},
     "output_type": "execute_result"
    }
   ],
   "source": [
    "x = oct(65)\n",
    "x    "
   ]
  },
  {
   "cell_type": "code",
   "execution_count": 24,
   "metadata": {},
   "outputs": [
    {
     "data": {
      "text/plain": [
       "'0o55'"
      ]
     },
     "execution_count": 24,
     "metadata": {},
     "output_type": "execute_result"
    }
   ],
   "source": [
    "oct(0b101101)\n",
    " "
   ]
  },
  {
   "cell_type": "markdown",
   "metadata": {},
   "source": [
    "Integers in Python3 can be of unlimited size"
   ]
  },
  {
   "cell_type": "code",
   "execution_count": 25,
   "metadata": {},
   "outputs": [
    {
     "name": "stdout",
     "output_type": "stream",
     "text": [
      "787366098712738903245678234782358292837498729182728\n"
     ]
    }
   ],
   "source": [
    "x = 787366098712738903245678234782358292837498729182728\n",
    "print(x)"
   ]
  },
  {
   "cell_type": "code",
   "execution_count": 26,
   "metadata": {},
   "outputs": [
    {
     "data": {
      "text/plain": [
       "488123970070638215986770162105731315538827586091948617997871122950228891123960901918308618286311523282239313708275589787123005317148968569797875581092352"
      ]
     },
     "execution_count": 26,
     "metadata": {},
     "output_type": "execute_result"
    }
   ],
   "source": [
    "x * x * x   "
   ]
  },
  {
   "cell_type": "markdown",
   "metadata": {},
   "source": [
    "    •Long integers\n",
    "Python 2 has two integer types: int and long. There is no \"long int\" in Python3 anymore. There is only one \"int\" type, which contains both \"int\" and \"long\" from Python2. That's why the following code fails in Python 3:\n",
    "\n"
   ]
  },
  {
   "cell_type": "code",
   "execution_count": 27,
   "metadata": {},
   "outputs": [
    {
     "ename": "SyntaxError",
     "evalue": "invalid syntax (<ipython-input-27-315518d611d8>, line 1)",
     "output_type": "error",
     "traceback": [
      "\u001b[1;36m  File \u001b[1;32m\"<ipython-input-27-315518d611d8>\"\u001b[1;36m, line \u001b[1;32m1\u001b[0m\n\u001b[1;33m    1L\u001b[0m\n\u001b[1;37m     ^\u001b[0m\n\u001b[1;31mSyntaxError\u001b[0m\u001b[1;31m:\u001b[0m invalid syntax\n"
     ]
    }
   ],
   "source": [
    "    1L\n",
    "  File \"<stdin>\", line 1\n",
    "    1L\n",
    "     ^"
   ]
  },
  {
   "cell_type": "code",
   "execution_count": 49,
   "metadata": {},
   "outputs": [
    {
     "ename": "NameError",
     "evalue": "name 'long' is not defined",
     "output_type": "error",
     "traceback": [
      "\u001b[1;31m---------------------------------------------------------------------------\u001b[0m",
      "\u001b[1;31mNameError\u001b[0m                                 Traceback (most recent call last)",
      "\u001b[1;32m<ipython-input-49-bad7871d6042>\u001b[0m in \u001b[0;36m<module>\u001b[1;34m\u001b[0m\n\u001b[0;32m      1\u001b[0m \u001b[0mx\u001b[0m \u001b[1;33m=\u001b[0m \u001b[1;36m43\u001b[0m\u001b[1;33m\u001b[0m\u001b[1;33m\u001b[0m\u001b[0m\n\u001b[1;32m----> 2\u001b[1;33m \u001b[0mlong\u001b[0m\u001b[1;33m(\u001b[0m\u001b[0mx\u001b[0m\u001b[1;33m)\u001b[0m\u001b[1;33m\u001b[0m\u001b[1;33m\u001b[0m\u001b[0m\n\u001b[0m",
      "\u001b[1;31mNameError\u001b[0m: name 'long' is not defined"
     ]
    }
   ],
   "source": [
    "x = 43\n",
    "long(x)"
   ]
  },
  {
   "cell_type": "markdown",
   "metadata": {},
   "source": [
    "    •Floating-point numbers\n",
    "For example: 42.11, 3.1415e-10\n",
    "    \n",
    "    •Complex numbers\n",
    "Complex numbers are written as    \n"
   ]
  },
  {
   "cell_type": "markdown",
   "metadata": {},
   "source": [
    "    <real part> + <imaginary part>\n",
    "    \n",
    "Examples:\n"
   ]
  },
  {
   "cell_type": "code",
   "execution_count": 29,
   "metadata": {},
   "outputs": [
    {
     "name": "stdout",
     "output_type": "stream",
     "text": [
      "(5+1j)\n"
     ]
    }
   ],
   "source": [
    "x = 3 + 4j\n",
    "\n",
    "y = 2 - 3j\n",
    "\n",
    "z = x + y\n",
    "\n",
    "print(z)    "
   ]
  },
  {
   "cell_type": "markdown",
   "metadata": {},
   "source": [
    "### Integer Division\n",
    "There are two kinds of division operators:\n",
    "\n",
    "    •\"true division\" performed by \"/\"\n",
    "    •\"floor division\" performed by \"//\" "
   ]
  },
  {
   "cell_type": "markdown",
   "metadata": {},
   "source": [
    "#### True Division\n",
    "\n",
    "True division uses the slash (/) character as the operator sign. Most probably it is what you expect \"division\" to be. The following examples are hopefully self-explanatory:\n"
   ]
  },
  {
   "cell_type": "code",
   "execution_count": 30,
   "metadata": {},
   "outputs": [
    {
     "data": {
      "text/plain": [
       "3.3333333333333335"
      ]
     },
     "execution_count": 30,
     "metadata": {},
     "output_type": "execute_result"
    }
   ],
   "source": [
    "10 / 3"
   ]
  },
  {
   "cell_type": "code",
   "execution_count": 31,
   "metadata": {},
   "outputs": [
    {
     "data": {
      "text/plain": [
       "3.3333333333333335"
      ]
     },
     "execution_count": 31,
     "metadata": {},
     "output_type": "execute_result"
    }
   ],
   "source": [
    "10.0 / 3.0"
   ]
  },
  {
   "cell_type": "code",
   "execution_count": 32,
   "metadata": {},
   "outputs": [
    {
     "data": {
      "text/plain": [
       "3.0"
      ]
     },
     "execution_count": 32,
     "metadata": {},
     "output_type": "execute_result"
    }
   ],
   "source": [
    "10.5 / 3.5"
   ]
  },
  {
   "cell_type": "markdown",
   "metadata": {},
   "source": [
    "#### Floor Division\n",
    "\n",
    "The operator \"//\" performs floor division, i.e., the dividend is divided by the divisor - like in true division - but the floor of the result will be returned. The floor is the largest integer number smaller than the result of the true division. This number will be turned into a float, if either the dividend or the divisor or both are float values. If both are integers, the result will be an integer as well. In other words, \"//\" always truncates towards negative infinity.\n",
    "\n",
    "Connection to the floor function: In mathematics and computer science, the floor function is the function that takes as input a real number x and returns the greatest integer floor ( x ) = ⌊ x ⌋ that is less than or equal to x.\n",
    "\n",
    "If you are confused now by this rather mathematical and theoretical definition, the following examples will hopefully clarifiy the matter:\n"
   ]
  },
  {
   "cell_type": "code",
   "execution_count": 33,
   "metadata": {},
   "outputs": [
    {
     "data": {
      "text/plain": [
       "3"
      ]
     },
     "execution_count": 33,
     "metadata": {},
     "output_type": "execute_result"
    }
   ],
   "source": [
    "9 // 3"
   ]
  },
  {
   "cell_type": "code",
   "execution_count": 34,
   "metadata": {},
   "outputs": [
    {
     "data": {
      "text/plain": [
       "3"
      ]
     },
     "execution_count": 34,
     "metadata": {},
     "output_type": "execute_result"
    }
   ],
   "source": [
    "10 // 3"
   ]
  },
  {
   "cell_type": "code",
   "execution_count": 35,
   "metadata": {},
   "outputs": [
    {
     "data": {
      "text/plain": [
       "3"
      ]
     },
     "execution_count": 35,
     "metadata": {},
     "output_type": "execute_result"
    }
   ],
   "source": [
    "11 // 3"
   ]
  },
  {
   "cell_type": "code",
   "execution_count": 37,
   "metadata": {},
   "outputs": [
    {
     "data": {
      "text/plain": [
       "4"
      ]
     },
     "execution_count": 37,
     "metadata": {},
     "output_type": "execute_result"
    }
   ],
   "source": [
    "12 // 3"
   ]
  },
  {
   "cell_type": "code",
   "execution_count": 36,
   "metadata": {},
   "outputs": [
    {
     "data": {
      "text/plain": [
       "3.0"
      ]
     },
     "execution_count": 36,
     "metadata": {},
     "output_type": "execute_result"
    }
   ],
   "source": [
    "10.0 // 3"
   ]
  },
  {
   "cell_type": "code",
   "execution_count": 38,
   "metadata": {},
   "outputs": [
    {
     "data": {
      "text/plain": [
       "-3"
      ]
     },
     "execution_count": 38,
     "metadata": {},
     "output_type": "execute_result"
    }
   ],
   "source": [
    "-7 // 3"
   ]
  },
  {
   "cell_type": "code",
   "execution_count": 39,
   "metadata": {},
   "outputs": [
    {
     "data": {
      "text/plain": [
       "-3.0"
      ]
     },
     "execution_count": 39,
     "metadata": {},
     "output_type": "execute_result"
    }
   ],
   "source": [
    "-7.0 // 3"
   ]
  },
  {
   "cell_type": "markdown",
   "metadata": {},
   "source": [
    "### Strings\n",
    "\n",
    "<img width=400 height=175 class=\"imgright\" src=\"../images/strings_in_action.webp\" srcset=\"../images/strings_in_action_500w.webp 500w,../images/strings_in_action_400w.webp 400w,../images/strings_in_action_350w.webp 350w,../images/strings_in_action_300w.webp 300w\" alt=\"Strings in Action\" /> \n",
    "\n",
    "The task of the first-generation computers in the forties and fifties had been - due to technical restraints - focused on number processing. Text processing had been just a dream at that time. Nowadays, one of the main tasks of computers is text processing in all its varieties; the most prominent applications are search engines like Google. To enable text processing programming languages need suitable data types. Strings are used in all modern programming languages to store and process textual information. Logically, a string - like any text - is a sequence of characters. The question remains what a character consists of. In a book, or in a text like the one your are reading now, characters consist of graphical shapes, so-called graphemes, consisting of lines, curves and crossings in certain angles or positions and so on. The ancient Greeks associated the word with the engravings on coins or the stamps on seals.\n",
    "\n",
    "\n",
    "<img width=200 height=105 class=\"imgright\" src=\"../images/character_A.webp\" alt=\"The Letter A \" />\n",
    "\n",
    "In computer science or computer technology, a character is a unit of information. These characters correspond to graphemes, the fundamental units of written or printed language. Before Unicode came into usage, there was a one to one relationship between bytes and characters, i.e., every character - of a national variant, i.e. not all the characters of the world - was represented by a single byte. Such a character byte represents the logical concept of this character and the class of graphemes of this character. The image above depicts various representations of the letter \"A\", i.e., \"A\" in different fonts. So in printing there are various graphical representations or different \"encodings\" of the abstract concept of the letter A. (By the way, the letter \"A\" can be ascribed to an Egyptian hieroglyph with a pictogram of an ox.) All of these graphical representations have certain features in common. In other words, the meaning of a character or a written or printed text doesn't depend on the font or writing style used. On a computer the capital A is encoded in binary form. If we use ASCII it is encoded - like all the other characters - as the byte 65.\n",
    "\n",
    "ASCII is restricted to 128 characters and \"Extended ASCII\" is is still limited to 256 bytes or characters. This is good enough for languages like English, German and French, but by far not sufficient for Chinese, Japanese and Korean. That's where Unicode gets into the game. Unicode is a standard designed to represent every character from every language, i.e., it can handle any text of the world's writing systems. These writing systems can also be used simultaneously, i.e., Roman alphabet mixed with Cyrillic or even Chinese characters.\n",
    "\n",
    "There is a different story about Unicode. A character maps to a code point. A code point is a theoretical concept. That is, for example, that the character \"A\" is assigned a code point U+0041. The \"U+\" means \"Unicode\" and the \"0041\" is a hexadecimal number, 65 in decimal notation.\n",
    "\n",
    "You can transform it like this in Python:"
   ]
  },
  {
   "cell_type": "code",
   "execution_count": 40,
   "metadata": {},
   "outputs": [
    {
     "data": {
      "text/plain": [
       "'0x41'"
      ]
     },
     "execution_count": 40,
     "metadata": {},
     "output_type": "execute_result"
    }
   ],
   "source": [
    "hex(65)"
   ]
  },
  {
   "cell_type": "code",
   "execution_count": 41,
   "metadata": {},
   "outputs": [
    {
     "data": {
      "text/plain": [
       "65"
      ]
     },
     "execution_count": 41,
     "metadata": {},
     "output_type": "execute_result"
    }
   ],
   "source": [
    "int(0x41)"
   ]
  },
  {
   "cell_type": "markdown",
   "metadata": {},
   "source": [
    "Up to four bytes are possible per character in Unicode. Theoretically, this means a huge number of 4294967296 possible characters. Due to restrictions from UTF-16 encoding, there are \"only\" 1,112,064 characters possible. Unicode version 8.0 has assigned 120,737 characters. This means that there are slightly more than 10 % of all possible characters assigned, in other words, we can still add nearly a million characters to Unicode."
   ]
  },
  {
   "cell_type": "markdown",
   "metadata": {},
   "source": [
    "### Unicode Encodings\n",
    "\n",
    "<table style=\"height: 233px; width: 720px;\">\n",
    "<tbody>\n",
    "<tr style=\"height: 27px;\">\n",
    "<td style=\"width: 80px; height: 27px; \">Name</td>\n",
    "<td style=\"width: 720px; height: 27px;\">Description</td>\n",
    "</tr>\n",
    "<tr style=\"height: 100px;\">\n",
    "<td style=\"width: 80px; height: 100px;\">UTF-32</td>\n",
    "<td style=\"width: 720px; height: 100px;\">It's a one to one encoding, i.e., it takes each Unicode character (a 4-byte number) and stores it in 4 bytes. One advantage of this encoding is that you can find the Nth character of a string in linear time, because the Nth character starts at the 4&times;Nth byte. A serious disadvantage of this approach is due to the fact that it needs four bytes for every character.</td>\n",
    "</tr>\n",
    "<tr style=\"height: 27px;\">\n",
    "<td style=\"width: 80px; height: 76.3px;\">UTF-16</td>\n",
    "<td style=\"width: 720px; height: 76.3px;\">UTF-16 (16-bit Unicode Transformation Format) is a character encoding capable of encoding all 1,112,064 valid code points of Unicode. The encoding is variable-length, as code points are encoded with one or two 16-bit code units.</td>\n",
    "</tr>\n",
    "<tr style=\"height: 27px;\">\n",
    "<td style=\"width: 80px; height: 27px;\">UTF-8</td>\n",
    "<td style=\"width: 720px; height: 27px;\">UTF8 is a variable-length encoding system for Unicode, i.e., different characters take up a different number of bytes. ASCII characters use solely one byte per character. This means that the first 128 characters UTF-8 are indistinguishable from ASCII. But the so-called \"Extended Latin\" characters like the Umlaute &auml;, &ouml; and so on take up two bytes. Chinese characters need three bytes. Finally, the very seldom used characters of the \"astral plane\" need four bytes to be encoded in UTF-8. <a href=\"https://w3techs.com/technologies/overview/character_encoding\">W3Techs</a> (Web Technology Surveys) writes that \"UTF-8 is used by 94.3% of all the websites whose character encoding we know.\"</td>\n",
    "</tr>\n",
    "</tbody>\n",
    "</table>\n",
    "\n",
    "### String, Unicode and Python\n",
    "After this lengthy but necessary introduction, we finally come to Python and the way it deals with strings. All strings in Python 3 are sequences of \"pure\" Unicode characters, no specific encoding like UTF-8.\n",
    "\n",
    "There are different ways to define strings in Python:\n",
    "\n"
   ]
  },
  {
   "cell_type": "markdown",
   "metadata": {},
   "source": [
    "<pre>\n",
    "s = 'I am a string enclosed in single quotes.'\n",
    "s2 = \"I am another string, but I am enclosed in double quotes.\"\n",
    "</pre>"
   ]
  },
  {
   "cell_type": "markdown",
   "metadata": {},
   "source": [
    "Both s and s2 of the previous example are variables referencing string objects. We can see that string literals can either be enclosed in matching single (') or in double quotes (\"). Single quotes will have to be escaped with a backslash ```\\```, if the string is defined with single quotes:"
   ]
  },
  {
   "cell_type": "markdown",
   "metadata": {},
   "source": [
    "<pre>\n",
    "s3 = 'It doesn\\'t matter!'\n",
    "</pre>"
   ]
  },
  {
   "cell_type": "markdown",
   "metadata": {},
   "source": [
    "This is not necessary, if the string is represented by double quotes:"
   ]
  },
  {
   "cell_type": "markdown",
   "metadata": {},
   "source": [
    "<pre>\n",
    "s3 = \"It doesn't matter!\"\n",
    "</pre>"
   ]
  },
  {
   "cell_type": "markdown",
   "metadata": {},
   "source": [
    "Analogously, we will have to escape a double quote inside a double quoted string:"
   ]
  },
  {
   "cell_type": "code",
   "execution_count": 44,
   "metadata": {},
   "outputs": [
    {
     "name": "stdout",
     "output_type": "stream",
     "text": [
      "He said: \"It doesn't matter, if you enclose a string in single or double quotes!\"\n"
     ]
    }
   ],
   "source": [
    "txt = \"He said: \\\"It doesn't matter, if you enclose a string in single or double quotes!\\\"\"\n",
    "print(txt) "
   ]
  },
  {
   "cell_type": "markdown",
   "metadata": {},
   "source": [
    "They can also be enclosed in matching groups of three single or double quotes. In this case they are called triple-quoted strings. The backslash (\\) character is used to escape characters that otherwise have a special meaning, such as newline, backslash itself, or the quote character."
   ]
  },
  {
   "cell_type": "markdown",
   "metadata": {},
   "source": [
    "<pre>\n",
    "txt = '''A string in triple quotes can extend\n",
    "over multiple lines like this one, and can contain\n",
    "'single' and \"double\" quotes.'''\n",
    "</pre>"
   ]
  },
  {
   "cell_type": "markdown",
   "metadata": {},
   "source": [
    "In triple-quoted strings, unescaped newlines and quotes are allowed (and are retained), except that three unescaped quotes in a row terminate the string. (A \"quote\" is the character used to open the string, i.e., either ' or \".)\n",
    "\n",
    "<img width=500 height=205 src=\"../images/positive_and_negative_indices_of_strings.webp\" srcset=\"../images/positive_and_negative_indices_of_strings_800w.webp 800w,../images/positive_and_negative_indices_of_strings_700w.webp 700w,../images/positive_and_negative_indices_of_strings_600w.webp 600w,../images/positive_and_negative_indices_of_strings_500w.webp 500w,../images/positive_and_negative_indices_of_strings_400w.webp 400w,../images/positive_and_negative_indices_of_strings_350w.webp 350w,../images/positive_and_negative_indices_of_strings_300w.webp 300w\" alt=\"Positive and negative indices of strings\" />\n",
    "\n",
    "A string in Python consists of a series or sequence of characters - letters, numbers, and special characters. Strings can be subscripted or indexed. Similar to C, the first character of a string has the index 0.\n",
    "\n"
   ]
  },
  {
   "cell_type": "code",
   "execution_count": 47,
   "metadata": {},
   "outputs": [
    {
     "data": {
      "text/plain": [
       "'H'"
      ]
     },
     "execution_count": 47,
     "metadata": {},
     "output_type": "execute_result"
    }
   ],
   "source": [
    "s = \"Hello World\"\n",
    "s[0]"
   ]
  },
  {
   "cell_type": "code",
   "execution_count": 48,
   "metadata": {},
   "outputs": [
    {
     "data": {
      "text/plain": [
       "' '"
      ]
     },
     "execution_count": 48,
     "metadata": {},
     "output_type": "execute_result"
    }
   ],
   "source": [
    "s[5]"
   ]
  },
  {
   "cell_type": "markdown",
   "metadata": {},
   "source": [
    "The last character of a string can be accessed this way:"
   ]
  },
  {
   "cell_type": "code",
   "execution_count": 50,
   "metadata": {},
   "outputs": [
    {
     "data": {
      "text/plain": [
       "'d'"
      ]
     },
     "execution_count": 50,
     "metadata": {},
     "output_type": "execute_result"
    }
   ],
   "source": [
    "s[len(s)-1]"
   ]
  },
  {
   "cell_type": "markdown",
   "metadata": {},
   "source": [
    "Yet, there is an easier way in Python. The last character can be accessed with -1, the second to last with -2 and so on:"
   ]
  },
  {
   "cell_type": "code",
   "execution_count": 51,
   "metadata": {},
   "outputs": [
    {
     "data": {
      "text/plain": [
       "'d'"
      ]
     },
     "execution_count": 51,
     "metadata": {},
     "output_type": "execute_result"
    }
   ],
   "source": [
    "s[-1]"
   ]
  },
  {
   "cell_type": "code",
   "execution_count": 52,
   "metadata": {},
   "outputs": [
    {
     "data": {
      "text/plain": [
       "'l'"
      ]
     },
     "execution_count": 52,
     "metadata": {},
     "output_type": "execute_result"
    }
   ],
   "source": [
    "s[-2]"
   ]
  },
  {
   "cell_type": "markdown",
   "metadata": {},
   "source": [
    "Some readers might find it confusing when we use \"to subscript\" as a synonym for \"to index\". Usually, a subscript is a number, figure, symbol, or indicator that is smaller than the normal line of type and is set slightly below or above it. When we wrote s[0] or s[3] in the previous examples, this can be seen as an alternative way for the notation s0 or s3. So, both s3 and s[3] describe or denote the 4th character. By the way, there is no character type in Python. A character is simply a string of size one.\n",
    "\n",
    "<img width=200 height=105 src=\"../images/string_indices.webp\" srcset=\"../images/string_indices_400w.webp 400w,../images/string_indices_350w.webp 350w,../images/string_indices_300w.webp 300w\" alt=\"String Indexing or subscripting\" />\n",
    "\n",
    "It's possible to start counting the indices from the right, as we have mentioned previously. In this case negative numbers are used, starting with -1 for the most right character.\n",
    "\n",
    "<img width=200 height=105 src=\"../images/string_indices_negative.webp\" srcset=\"../images/string_indices_negative_400w.webp 400w,../images/string_indices_negative_350w.webp 350w,../images/string_indices_negative_300w.webp 300w\" alt=\"Negative String indices from the right\" />\n",
    "\n",
    "#### Some operators and functions for strings\n",
    "\n",
    "    •Concatenation\n",
    "Strings can be glued together (concatenated) with the + operator:\n",
    "\"Hello\" + \"World\" will result in \"HelloWorld\"\n",
    "    \n",
    "    •Repetition\n",
    "String can be repeated or repeatedly concatenated with the asterisk operator \"*\":\n",
    "\"*-*\" * 3 will result in \"*-**-**-*\"\n",
    "    \n",
    "    •Indexing\n",
    "\"Python\"[0] will result in \"P\"\n",
    "    \n",
    "    •Slicing\n",
    "Substrings can be created with the slice or slicing notation, i.e., two indices in square brackets separated by a colon:\n",
    "    \"Python\"[2:4] will result in \"th\"\n",
    "\n",
    "<img width=200 height=105 src=\"../images/string_slicing.webp\" srcset=\"../images/string_slicing_400w.webp 400w,../images/string_slicing_350w.webp 350w,../images/string_slicing_300w.webp 300w\" alt=\"String Slicing\" />\n",
    "\n",
    "   \n",
    "\n",
    "    •Size\n",
    "len(\"Python\") will result in 6 "
   ]
  },
  {
   "cell_type": "markdown",
   "metadata": {},
   "source": [
    "### Immutable Strings\n",
    "Like strings in Java and unlike C or C++, Python strings cannot be changed. Trying to change an indexed position will raise an error:"
   ]
  },
  {
   "cell_type": "code",
   "execution_count": 53,
   "metadata": {},
   "outputs": [
    {
     "ename": "TypeError",
     "evalue": "'str' object does not support item assignment",
     "output_type": "error",
     "traceback": [
      "\u001b[1;31m---------------------------------------------------------------------------\u001b[0m",
      "\u001b[1;31mTypeError\u001b[0m                                 Traceback (most recent call last)",
      "\u001b[1;32m<ipython-input-53-2fa9c6f1b317>\u001b[0m in \u001b[0;36m<module>\u001b[1;34m\u001b[0m\n\u001b[0;32m      1\u001b[0m \u001b[0ms\u001b[0m \u001b[1;33m=\u001b[0m \u001b[1;34m\"Some things are immutable!\"\u001b[0m\u001b[1;33m\u001b[0m\u001b[1;33m\u001b[0m\u001b[0m\n\u001b[1;32m----> 2\u001b[1;33m \u001b[0ms\u001b[0m\u001b[1;33m[\u001b[0m\u001b[1;33m-\u001b[0m\u001b[1;36m1\u001b[0m\u001b[1;33m]\u001b[0m \u001b[1;33m=\u001b[0m \u001b[1;34m\".\"\u001b[0m\u001b[1;33m\u001b[0m\u001b[1;33m\u001b[0m\u001b[0m\n\u001b[0m",
      "\u001b[1;31mTypeError\u001b[0m: 'str' object does not support item assignment"
     ]
    }
   ],
   "source": [
    "s = \"Some things are immutable!\"\n",
    "s[-1] = \".\" "
   ]
  },
  {
   "cell_type": "markdown",
   "metadata": {},
   "source": [
    "Beginners in Python are often confused, when they see the following codelines:"
   ]
  },
  {
   "cell_type": "markdown",
   "metadata": {},
   "source": [
    "<pre>\n",
    "txt = \"He lives in Berlin!\"\n",
    "txt = \"He lives in Hamburg!\"\n",
    "</pre>"
   ]
  },
  {
   "cell_type": "markdown",
   "metadata": {},
   "source": [
    "The variable \"txt\" is a reference to a string object. We define a completely new string object in the second assignment. So, you shouldn't confuse the variable name with the referenced object!\n",
    "\n",
    "### A String Peculiarity\n",
    "Strings show a special effect, which we will illustrate in the following example. We will need the \"is\"-Operator. If both a and b are strings, \"a is b\" checks if they have the same identity, i.e., share the same memory location. If \"a is b\" is True, then it trivially follows that \"a == b\" has to be True as well.\n",
    "Yet, \"a == b\" True doesn't imply that \"a is b\" is True as well!\n",
    "\n",
    "Let's have a look at how strings are stored in Python:"
   ]
  },
  {
   "cell_type": "code",
   "execution_count": 54,
   "metadata": {},
   "outputs": [
    {
     "data": {
      "text/plain": [
       "True"
      ]
     },
     "execution_count": 54,
     "metadata": {},
     "output_type": "execute_result"
    }
   ],
   "source": [
    "a = \"Linux\"\n",
    "b = \"Linux\"\n",
    "a is b"
   ]
  },
  {
   "cell_type": "markdown",
   "metadata": {},
   "source": [
    "Okay, but what happens, if the strings are longer? We use the longest village name in the world in the following example. It's a small village with about 3000 inhabitants in the South of the island of Anglesey in the North-West of Wales:"
   ]
  },
  {
   "cell_type": "code",
   "execution_count": 55,
   "metadata": {},
   "outputs": [
    {
     "data": {
      "text/plain": [
       "True"
      ]
     },
     "execution_count": 55,
     "metadata": {},
     "output_type": "execute_result"
    }
   ],
   "source": [
    "a = \"Llanfairpwllgwyngyllgogerychwyrndrobwllllantysiliogogogoch\"\n",
    "b = \"Llanfairpwllgwyngyllgogerychwyrndrobwllllantysiliogogogoch\"\n",
    "a is b"
   ]
  },
  {
   "cell_type": "markdown",
   "metadata": {},
   "source": [
    "Nothing has changed in our first \"Linux\" example. But what works for Wales doesn't work e.g., for Baden-Württemberg in Germany:"
   ]
  },
  {
   "cell_type": "code",
   "execution_count": 56,
   "metadata": {},
   "outputs": [
    {
     "data": {
      "text/plain": [
       "False"
      ]
     },
     "execution_count": 56,
     "metadata": {},
     "output_type": "execute_result"
    }
   ],
   "source": [
    "a = \"Baden-Württemberg\"\n",
    "b = \"Baden-Württemberg\"\n",
    "a is b"
   ]
  },
  {
   "cell_type": "code",
   "execution_count": 57,
   "metadata": {},
   "outputs": [
    {
     "data": {
      "text/plain": [
       "True"
      ]
     },
     "execution_count": 57,
     "metadata": {},
     "output_type": "execute_result"
    }
   ],
   "source": [
    "a == b"
   ]
  },
  {
   "cell_type": "markdown",
   "metadata": {},
   "source": [
    "You are right, it has nothing to do with geographical places. The special character, i.e., the hyphen, is to \"blame\".\n"
   ]
  },
  {
   "cell_type": "code",
   "execution_count": 58,
   "metadata": {},
   "outputs": [
    {
     "data": {
      "text/plain": [
       "False"
      ]
     },
     "execution_count": 58,
     "metadata": {},
     "output_type": "execute_result"
    }
   ],
   "source": [
    "a = \"Baden!\"\n",
    "b = \"Baden!\"\n",
    "a is b"
   ]
  },
  {
   "cell_type": "code",
   "execution_count": 59,
   "metadata": {},
   "outputs": [
    {
     "data": {
      "text/plain": [
       "True"
      ]
     },
     "execution_count": 59,
     "metadata": {},
     "output_type": "execute_result"
    }
   ],
   "source": [
    "a = \"Baden1\"\n",
    "b = \"Baden1\"\n",
    "a is b"
   ]
  },
  {
   "cell_type": "markdown",
   "metadata": {},
   "source": [
    "### Escape Sequences in Strings\n",
    "To end our coverage of strings in this chapter, we will introduce some escape characters and sequences. The backslash (\\) character is used to escape characters, i.e., to \"escape\" the special meaning, which this character would otherwise have. Examples for such characters are newline, backslash itself, or the quote character. String literals may optionally be prefixed with a letter 'r' or 'R'; these strings are called raw strings. Raw strings use different rules for interpreting backslash escape sequences."
   ]
  },
  {
   "cell_type": "markdown",
   "metadata": {},
   "source": [
    "| Escape Sequence | Meaning                                            |  \n",
    "|-----------------|------------------------------------------------------------|\n",
    "| \\newline        | Ignored                                                    |\n",
    "| \\\\\\\\            | Backslash (\\\\)                                             | \n",
    "| \\'              | Single quote (')                                           |  \n",
    "| \\\"              | Double quote (\")                                           |                 \n",
    "| \\a              | ASCII Bell (BEL)                                           |\n",
    "| \\b              | ASCII Backspace(BS)                                        |\n",
    "| \\f              | ASCII Formfeed (FF)                                        |\n",
    "| \\n              | ASCII Linefeed (LF)                                        |\n",
    "| \\N{name}        | Character named name in the Unicode database (Unicode only)|\n",
    "| \\r              | ASCII Carriage Return (CR)                                 |\n",
    "| \\t              | ASCII Horizontal Tab (TAB)                                 |\n",
    "| \\uxxxx          | Character with 16-bit hex value xxxx (Unicode only)        |\n",
    "| \\Uxxxxxxxx      | Character with 32-bit hex value xxxxxxxx (Unicode only)    |\n",
    "| \\v              | ASCII Vertical Tab (VT)                                    |\n",
    "| \\ooo            | Character with octal value ooo                             |\n",
    "| \\xhh            | Character with hex value hh                                |"
   ]
  },
  {
   "cell_type": "markdown",
   "metadata": {},
   "source": [
    "### Byte Strings\n",
    "Python 3.0 uses the concepts of text and (binary) data instead of Unicode strings and 8-bit strings. Every string or text in Python 3 is Unicode, but encoded Unicode is represented as binary data. The type used to hold text is str, the type used to hold data is bytes. It's not possible to mix text and data in Python 3; it will raise TypeError.\n",
    "While a string object holds a sequence of characters (in Unicode), a bytes object holds a sequence of bytes, out of the range 0 to 255, representing the ASCII values.\n",
    "Defining bytes objects and casting them into strings:"
   ]
  },
  {
   "cell_type": "code",
   "execution_count": 3,
   "metadata": {},
   "outputs": [
    {
     "name": "stdout",
     "output_type": "stream",
     "text": [
      "b'Hallo'\n"
     ]
    }
   ],
   "source": [
    "x = \"Hallo\"\n",
    "t = str(x)\n",
    "u = t.encode(\"UTF-8\")\n",
    "print(u)"
   ]
  }
 ],
 "metadata": {
  "kernelspec": {
   "display_name": "Python 3",
   "language": "python",
   "name": "python3"
  },
  "language_info": {
   "codemirror_mode": {
    "name": "ipython",
    "version": 3
   },
   "file_extension": ".py",
   "mimetype": "text/x-python",
   "name": "python",
   "nbconvert_exporter": "python",
   "pygments_lexer": "ipython3",
   "version": "3.7.6"
  }
 },
 "nbformat": 4,
 "nbformat_minor": 4
}
