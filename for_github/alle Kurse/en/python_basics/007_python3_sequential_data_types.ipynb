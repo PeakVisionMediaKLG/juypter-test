{
 "cells": [
  {
   "cell_type": "markdown",
   "metadata": {},
   "source": [
    "## Sequential Data Types\n",
    "\n",
    "\n",
    "### Introduction\n",
    "\n",
    "<img width=200 height=200 class=\"imgright\" src=\"../images/green_tree_python3_250.webp\" alt=\"Endless Python\" />\n",
    "\n",
    "Sequences are one of the principal built-in data types besides numerics, mappings, files, instances and exceptions. Python provides for six sequence (or sequential) data types:\n",
    "\n",
    "    strings\n",
    "    byte sequences\n",
    "    byte arrays\n",
    "    lists\n",
    "    tuples\n",
    "    range objects\n",
    "\n",
    "Strings, lists, tuples, bytes and range objects may look like utterly different things, but they still have some underlying concepts in common:\n",
    "\n",
    "    The items or elements of strings, lists and tuples are ordered in a defined sequence\n",
    "    The elements can be accessed via indices\n",
    "\n",
    "\n"
   ]
  },
  {
   "cell_type": "code",
   "execution_count": 1,
   "metadata": {},
   "outputs": [
    {
     "name": "stdout",
     "output_type": "stream",
     "text": [
      "L S !\n"
     ]
    }
   ],
   "source": [
    "text = \"Lists and Strings can be accessed via indices!\"\n",
    "print(text[0], text[10], text[-1])    "
   ]
  },
  {
   "cell_type": "markdown",
   "metadata": {},
   "source": [
    "Accessing lists:"
   ]
  },
  {
   "cell_type": "code",
   "execution_count": 1,
   "metadata": {},
   "outputs": [
    {
     "name": "stdout",
     "output_type": "stream",
     "text": [
      "Vienna\n",
      "Paris\n",
      "Hamburg\n"
     ]
    }
   ],
   "source": [
    "cities = [\"Vienna\", \"London\", \"Paris\", \n",
    "          \"Berlin\", \"Zurich\", \"Hamburg\"]\n",
    "print(cities[0])\n",
    "print(cities[2])\n",
    "print(cities[-1])  "
   ]
  },
  {
   "cell_type": "markdown",
   "metadata": {},
   "source": [
    "Unlike other programming languages Python uses the same syntax and function names to work on sequential data types. For example, the length of a string, a list, and a tuple can be determined with a function called len():\n",
    "\n"
   ]
  },
  {
   "cell_type": "code",
   "execution_count": 1,
   "metadata": {},
   "outputs": [
    {
     "data": {
      "text/plain": [
       "7"
      ]
     },
     "execution_count": 1,
     "metadata": {},
     "output_type": "execute_result"
    }
   ],
   "source": [
    "countries = [\"Germany\", \"Switzerland\", \"Austria\", \n",
    "             \"France\", \"Belgium\", \"Netherlands\", \n",
    "             \"England\"]\n",
    "len(countries)  # the length of the list, i.e. the number of objects"
   ]
  },
  {
   "cell_type": "code",
   "execution_count": 2,
   "metadata": {},
   "outputs": [
    {
     "data": {
      "text/plain": [
       "10"
      ]
     },
     "execution_count": 2,
     "metadata": {},
     "output_type": "execute_result"
    }
   ],
   "source": [
    "fib = [1, 1, 2, 3, 5, 8, 13, 21, 34, 55]\n",
    "len(fib)"
   ]
  },
  {
   "cell_type": "markdown",
   "metadata": {},
   "source": [
    "### Bytes\n",
    "The byte object is a sequence of small integers. The elements of a byte object are in the range 0 to 255, corresponding to ASCII characters and they are printed as such."
   ]
  },
  {
   "cell_type": "code",
   "execution_count": 4,
   "metadata": {},
   "outputs": [
    {
     "data": {
      "text/plain": [
       "b'Gl\\xc3\\xbcckliche F\\xc3\\xbcgung'"
      ]
     },
     "execution_count": 4,
     "metadata": {},
     "output_type": "execute_result"
    }
   ],
   "source": [
    "s = \"Glückliche Fügung\"\n",
    "s_bytes = s.encode('utf-8') \n",
    "s_bytes"
   ]
  },
  {
   "cell_type": "markdown",
   "metadata": {},
   "source": [
    "### Python Lists\n",
    "So far we had already used some lists, and here comes a proper introduction. Lists are related to arrays of programming languages like C, C++ or Java, but Python lists are by far more flexible and powerful than \"classical\" arrays. For example, not all the items in a list need to have the same type. Furthermore, lists can grow in a program run, while in C the size of an array has to be fixed at compile time.\n",
    "\n",
    "Generally speaking a list is a collection of objects. To be more precise: A list in Python is an ordered group of items or elements. It's important to notice that these list elements don't have to be of the same type. It can be an arbitrary mixture of elements like numbers, strings, other lists and so on. The list type is essential for Python scripts and programs, in other words, you will hardly find any serious Python code without a list.\n",
    "\n",
    "The main properties of Python lists:\n",
    "\n",
    "- They are ordered\n",
    "- The contain arbitrary objects\n",
    "- Elements of a list can be accessed by an index\n",
    "- They are arbitrarily nestable, i.e. they can contain other lists as sublists\n",
    "- Variable size\n",
    "- They are mutable, i.e. the elements of a list can be changed\n",
    "\n",
    "### List Notation and Examples\n",
    "List objects are enclosed by square brackets and separated by commas. The following table contains some examples of lists:\n",
    "\n",
    "<table\n",
    "style=\"text-align: left; width: 60%; background-color: rgb(255, 255, 102);\"\n",
    "border=\"1\" cellpadding=\"2\" cellspacing=\"2\">\n",
    "<tbody>\n",
    "<tr>\n",
    "<th style=\"vertical-align: top;\">List\n",
    "</th>\n",
    "<th style=\"vertical-align: top;\">Description\n",
    "</th>\n",
    "</tr>\n",
    "\n",
    "<tr>\n",
    "<td style=\"vertical-align: top;\"><FONT FACE=\"Courier 10 Pitch\">[]</FONT></td>\n",
    "<td style=\"vertical-align: top;\">An empty list</td>\n",
    "</tr>\n",
    "\n",
    "<tr>\n",
    "<td style=\"vertical-align: top;\"><FONT FACE=\"Courier 10 Pitch\">[1,1,2,3,5,8]</FONT></td>\n",
    "<td style=\"vertical-align: top;\">A list of integers</td>\n",
    "</tr>\n",
    "\n",
    "<tr>\n",
    "<td style=\"vertical-align: top;\"><FONT FACE=\"Courier 10 Pitch\">[42, \"What's the question?\", 3.1415]</FONT></td>\n",
    "<td style=\"vertical-align: top;\">A list of mixed data types</td>\n",
    "</tr>\n",
    "\n",
    "<tr>\n",
    "<td style=\"vertical-align: top;\"><FONT FACE=\"Courier 10 Pitch\">\n",
    "[\"Stuttgart\", \"Freiburg\", \"München\", \"Nürnberg\", \"Würzburg\", \"Ulm\",\"Friedrichshafen\", Zürich\", \"Wien\"]</FONT></td>\n",
    "<td style=\"vertical-align: top;\">A list of Strings</td>\n",
    "</tr>\n",
    "\n",
    "<tr>\n",
    "<td style=\"vertical-align: top;\"><FONT FACE=\"Courier 10 Pitch\">\n",
    "[[\"London\",\"England\", 7556900], [\"Paris\",\"France\",2193031], [\"Bern\", \"Switzerland\", 123466]]\n",
    "</FONT></td>\n",
    "<td style=\"vertical-align: top;\">A nested list</td>\n",
    "</tr>\n",
    "\n",
    "<tr>\n",
    "<td style=\"vertical-align: top;\"><FONT FACE=\"Courier 10 Pitch\">[\"High up\", [\"further down\", \n",
    "[\"and down\", [\"deep down\", \"the answer\", 42]]]]</FONT></td>\n",
    "<td style=\"vertical-align: top;\">A deeply nested list</td>\n",
    "</tr>\n",
    "\n",
    "</tbody>\n",
    "</table>"
   ]
  },
  {
   "cell_type": "markdown",
   "metadata": {},
   "source": [
    "#### Accessing List elements\n",
    "Assigning a list to a variable:\n"
   ]
  },
  {
   "cell_type": "code",
   "execution_count": null,
   "metadata": {},
   "outputs": [],
   "source": [
    "languages = [\"Python\", \"C\", \"C++\", \"Java\", \"Perl\"]"
   ]
  },
  {
   "cell_type": "markdown",
   "metadata": {},
   "source": [
    "There are different ways of accessing the elements of a list. Most probably the easiest way for C programmers will be through indices, i.e. the numbers of the lists are enumerated starting with 0: "
   ]
  },
  {
   "cell_type": "code",
   "execution_count": 5,
   "metadata": {},
   "outputs": [
    {
     "name": "stdout",
     "output_type": "stream",
     "text": [
      "Python and C are quite different!\n",
      "Accessing the last element of the list: Perl\n"
     ]
    }
   ],
   "source": [
    "languages = [\"Python\", \"C\", \"C++\", \"Java\", \"Perl\"]\n",
    "print(languages[0] + \" and \" + languages[1] + \" are quite different!\") \n",
    "print(\"Accessing the last element of the list: \" + languages[-1]) "
   ]
  },
  {
   "cell_type": "markdown",
   "metadata": {},
   "source": [
    "The previous example of a list has been a list with elements of equal data types. But as we saw before, lists can have various data types, as shown in the following example:"
   ]
  },
  {
   "cell_type": "code",
   "execution_count": 2,
   "metadata": {},
   "outputs": [],
   "source": [
    "group = [\"Bob\", 23, \"George\", 72, \"Myriam\", 29]"
   ]
  },
  {
   "cell_type": "markdown",
   "metadata": {},
   "source": [
    "### Sublists\n",
    "Lists can have sublists as elements. These sublists may contain sublists as well, i.e. lists can be recursively constructed by sublist structures."
   ]
  },
  {
   "cell_type": "code",
   "execution_count": 3,
   "metadata": {},
   "outputs": [
    {
     "name": "stdout",
     "output_type": "stream",
     "text": [
      "['Marc', 'Mayer']\n"
     ]
    }
   ],
   "source": [
    "person = [[\"Marc\", \"Mayer\"], \n",
    "          [\"17, Oxford Str\", \"12345\", \"London\"], \n",
    "          \"07876-7876\"]\n",
    "name = person[0]\n",
    "print(name)"
   ]
  },
  {
   "cell_type": "code",
   "execution_count": 4,
   "metadata": {},
   "outputs": [
    {
     "name": "stdout",
     "output_type": "stream",
     "text": [
      "Marc\n"
     ]
    }
   ],
   "source": [
    "first_name = person[0][0]\n",
    "print(first_name)"
   ]
  },
  {
   "cell_type": "code",
   "execution_count": 5,
   "metadata": {},
   "outputs": [
    {
     "name": "stdout",
     "output_type": "stream",
     "text": [
      "Mayer\n"
     ]
    }
   ],
   "source": [
    "last_name = person[0][1]\n",
    "print(last_name)"
   ]
  },
  {
   "cell_type": "code",
   "execution_count": 7,
   "metadata": {},
   "outputs": [
    {
     "name": "stdout",
     "output_type": "stream",
     "text": [
      "['17, Oxford Str', '12345', 'London']\n"
     ]
    }
   ],
   "source": [
    "address = person[1]\n",
    "print(address)"
   ]
  },
  {
   "cell_type": "code",
   "execution_count": 9,
   "metadata": {},
   "outputs": [
    {
     "name": "stdout",
     "output_type": "stream",
     "text": [
      "17, Oxford Str\n"
     ]
    }
   ],
   "source": [
    "street = person[1][0]\n",
    "print(street)"
   ]
  },
  {
   "cell_type": "markdown",
   "metadata": {},
   "source": [
    "We could have used our variable `address` as well:"
   ]
  },
  {
   "cell_type": "code",
   "execution_count": 10,
   "metadata": {},
   "outputs": [
    {
     "name": "stdout",
     "output_type": "stream",
     "text": [
      "17, Oxford Str\n"
     ]
    }
   ],
   "source": [
    "street = address[0]\n",
    "print(street)"
   ]
  },
  {
   "cell_type": "markdown",
   "metadata": {},
   "source": [
    "The next example shows a more complex list with a deeply structured list:"
   ]
  },
  {
   "cell_type": "code",
   "execution_count": 4,
   "metadata": {},
   "outputs": [
    {
     "data": {
      "text/plain": [
       "['b', ['c', 'x']]"
      ]
     },
     "execution_count": 4,
     "metadata": {},
     "output_type": "execute_result"
    }
   ],
   "source": [
    "complex_list = [[\"a\", [\"b\", [\"c\", \"x\"]]]]\n",
    "complex_list = [[\"a\", [\"b\", [\"c\", \"x\"]]], 42]\n",
    "complex_list[0][1]"
   ]
  },
  {
   "cell_type": "code",
   "execution_count": 11,
   "metadata": {},
   "outputs": [
    {
     "data": {
      "text/plain": [
       "'c'"
      ]
     },
     "execution_count": 11,
     "metadata": {},
     "output_type": "execute_result"
    }
   ],
   "source": [
    "complex_list[0][1][1][0]"
   ]
  },
  {
   "cell_type": "markdown",
   "metadata": {},
   "source": [
    "### Changing list"
   ]
  },
  {
   "cell_type": "code",
   "execution_count": 6,
   "metadata": {},
   "outputs": [
    {
     "data": {
      "text/plain": [
       "['Python', 'C', 'C++', 'Java', 'Lisp']"
      ]
     },
     "execution_count": 6,
     "metadata": {},
     "output_type": "execute_result"
    }
   ],
   "source": [
    "languages = [\"Python\", \"C\", \"C++\", \"Java\", \"Perl\"]\n",
    "languages[4] = \"Lisp\"\n",
    "languages"
   ]
  },
  {
   "cell_type": "code",
   "execution_count": 7,
   "metadata": {},
   "outputs": [
    {
     "data": {
      "text/plain": [
       "['Python', 'C', 'C++', 'Java', 'Lisp', 'Haskell']"
      ]
     },
     "execution_count": 7,
     "metadata": {},
     "output_type": "execute_result"
    }
   ],
   "source": [
    "languages.append(\"Haskell\")\n",
    "languages"
   ]
  },
  {
   "cell_type": "code",
   "execution_count": 8,
   "metadata": {},
   "outputs": [
    {
     "data": {
      "text/plain": [
       "['Python', 'Perl', 'C', 'C++', 'Java', 'Lisp', 'Haskell']"
      ]
     },
     "execution_count": 8,
     "metadata": {},
     "output_type": "execute_result"
    }
   ],
   "source": [
    "languages.insert(1, \"Perl\")\n",
    "languages"
   ]
  },
  {
   "cell_type": "code",
   "execution_count": 9,
   "metadata": {},
   "outputs": [],
   "source": [
    "shopping_list = ['milk', 'yoghurt', 'egg', 'butter', 'bread', 'bananas']"
   ]
  },
  {
   "cell_type": "markdown",
   "metadata": {},
   "source": [
    "We go to a virtual supermarket. Fetch a cart and start shopping:"
   ]
  },
  {
   "cell_type": "code",
   "execution_count": 18,
   "metadata": {},
   "outputs": [
    {
     "name": "stdout",
     "output_type": "stream",
     "text": [
      "bananas ['milk', 'yoghurt', 'egg', 'butter', 'bread']\n",
      "['bananas']\n",
      "shopping_list: ['milk', 'yoghurt', 'egg', 'butter']\n",
      "cart:  ['bananas', 'bread']\n"
     ]
    }
   ],
   "source": [
    "shopping_list = ['milk', 'yoghurt', 'egg', 'butter', 'bread', 'bananas']\n",
    "cart = []\n",
    "#  \"pop()\"\" removes the last element of the list and returns it\n",
    "article = shopping_list.pop()  \n",
    "print(article, shopping_list)\n",
    "cart.append(article)\n",
    "print(cart)\n",
    "\n",
    "# we go on like this:\n",
    "article = shopping_list.pop()  \n",
    "print(\"shopping_list:\", shopping_list)\n",
    "cart.append(article)\n",
    "print(\"cart: \", cart)"
   ]
  },
  {
   "cell_type": "markdown",
   "metadata": {},
   "source": [
    "With a while loop:"
   ]
  },
  {
   "cell_type": "code",
   "execution_count": 19,
   "metadata": {},
   "outputs": [
    {
     "name": "stdout",
     "output_type": "stream",
     "text": [
      "bananas ['milk', 'yoghurt', 'egg', 'butter', 'bread'] ['bananas']\n",
      "bread ['milk', 'yoghurt', 'egg', 'butter'] ['bananas', 'bread']\n",
      "butter ['milk', 'yoghurt', 'egg'] ['bananas', 'bread', 'butter']\n",
      "egg ['milk', 'yoghurt'] ['bananas', 'bread', 'butter', 'egg']\n",
      "yoghurt ['milk'] ['bananas', 'bread', 'butter', 'egg', 'yoghurt']\n",
      "milk [] ['bananas', 'bread', 'butter', 'egg', 'yoghurt', 'milk']\n",
      "shopping_list:  []\n",
      "cart:  ['bananas', 'bread', 'butter', 'egg', 'yoghurt', 'milk']\n"
     ]
    }
   ],
   "source": [
    "shopping_list = ['milk', 'yoghurt', 'egg', 'butter', 'bread', 'bananas']\n",
    "cart = []\n",
    "while shopping_list != []:\n",
    "    article = shopping_list.pop()  \n",
    "    cart.append(article)\n",
    "    print(article, shopping_list, cart)\n",
    "\n",
    "print(\"shopping_list: \", shopping_list)\n",
    "print(\"cart: \", cart)"
   ]
  },
  {
   "cell_type": "markdown",
   "metadata": {},
   "source": [
    "### Tuples\n",
    "A tuple is an immutable list, i.e. a tuple cannot be changed in any way, once it has been created. A tuple is defined analogously to lists, except the set of elements is enclosed in parentheses instead of square brackets. The rules for indices are the same as for lists. Once a tuple has been created, you can't add elements to a tuple or remove elements from a tuple.\n",
    "\n",
    "Where is the benefit of tuples?\n",
    "\n",
    "    •Tuples are faster than lists.\n",
    "    •If you know that some data doesn't have to be changed, you should use tuples instead of lists, because this protects your data against accidental changes.\n",
    "    •The main advantage of tuples is that tuples can be used as keys in dictionaries, while lists can't.\n",
    "\n",
    "The following example shows how to define a tuple and how to access a tuple. Furthermore, we can see that we raise an error, if we try to assign a new value to an element of a tuple:"
   ]
  },
  {
   "cell_type": "code",
   "execution_count": 5,
   "metadata": {},
   "outputs": [
    {
     "data": {
      "text/plain": [
       "'tuples'"
      ]
     },
     "execution_count": 5,
     "metadata": {},
     "output_type": "execute_result"
    }
   ],
   "source": [
    "t = (\"tuples\", \"are\", \"immutable\")\n",
    "t[0]"
   ]
  },
  {
   "cell_type": "code",
   "execution_count": 13,
   "metadata": {},
   "outputs": [
    {
     "ename": "TypeError",
     "evalue": "'tuple' object does not support item assignment",
     "output_type": "error",
     "traceback": [
      "\u001b[1;31m---------------------------------------------------------------------------\u001b[0m",
      "\u001b[1;31mTypeError\u001b[0m                                 Traceback (most recent call last)",
      "\u001b[1;32m<ipython-input-13-fa4ace6c4d57>\u001b[0m in \u001b[0;36m<module>\u001b[1;34m\u001b[0m\n\u001b[1;32m----> 1\u001b[1;33m \u001b[0mt\u001b[0m\u001b[1;33m[\u001b[0m\u001b[1;36m0\u001b[0m\u001b[1;33m]\u001b[0m\u001b[1;33m=\u001b[0m\u001b[1;34m\"assignments to elements are not possible\"\u001b[0m\u001b[1;33m\u001b[0m\u001b[1;33m\u001b[0m\u001b[0m\n\u001b[0m",
      "\u001b[1;31mTypeError\u001b[0m: 'tuple' object does not support item assignment"
     ]
    }
   ],
   "source": [
    "t[0] = \"assignments to elements are not possible\""
   ]
  },
  {
   "cell_type": "markdown",
   "metadata": {},
   "source": [
    "### Slicing\n",
    "\n",
    "In many programming languages it can be quite tough to slice a part of a string and even harder, if you like to address a \"subarray\". Python makes it very easy with its slice operator. Slicing is often implemented in other languages as functions with possible names like \"substring\", \"gstr\" or \"substr\".\n",
    "\n",
    "So every time you want to extract part of a string or a list in Python, you should use the slice operator. The syntax is simple. Actually it looks a little bit like accessing a single element with an index, but instead of just one number, we have more, separated with a colon \":\". We have a start and an end index, one or both of them may be missing. It's best to study the mode of operation of slice by having a look at examples: "
   ]
  },
  {
   "cell_type": "code",
   "execution_count": 1,
   "metadata": {},
   "outputs": [
    {
     "data": {
      "text/plain": [
       "'Python'"
      ]
     },
     "execution_count": 1,
     "metadata": {},
     "output_type": "execute_result"
    }
   ],
   "source": [
    "slogan = \"Python is great\"\n",
    "first_six = slogan[0:6]\n",
    "first_six"
   ]
  },
  {
   "cell_type": "code",
   "execution_count": 2,
   "metadata": {},
   "outputs": [
    {
     "data": {
      "text/plain": [
       "'n is great'"
      ]
     },
     "execution_count": 2,
     "metadata": {},
     "output_type": "execute_result"
    }
   ],
   "source": [
    "starting_at_five = slogan[5:]\n",
    "starting_at_five"
   ]
  },
  {
   "cell_type": "code",
   "execution_count": 3,
   "metadata": {},
   "outputs": [
    {
     "data": {
      "text/plain": [
       "'Python is '"
      ]
     },
     "execution_count": 3,
     "metadata": {},
     "output_type": "execute_result"
    }
   ],
   "source": [
    "a_copy = slogan[:]\n",
    "without_last_five = slogan[0:-5]\n",
    "without_last_five"
   ]
  },
  {
   "cell_type": "markdown",
   "metadata": {},
   "source": [
    "Syntactically, there is no difference on lists. We will return to our previous example with European city names:"
   ]
  },
  {
   "cell_type": "code",
   "execution_count": 4,
   "metadata": {},
   "outputs": [
    {
     "name": "stdout",
     "output_type": "stream",
     "text": [
      "['Vienna', 'London', 'Paris']\n"
     ]
    }
   ],
   "source": [
    "cities = [\"Vienna\", \"London\", \"Paris\", \"Berlin\", \"Zurich\", \"Hamburg\"]\n",
    "first_three = cities[0:3]\n",
    "# or easier:\n",
    "... \n",
    "first_three = cities[:3]\n",
    "print(first_three)"
   ]
  },
  {
   "cell_type": "markdown",
   "metadata": {},
   "source": [
    "Now we extract all cities except the last two, i.e. \"Zurich\" and \"Hamburg\": "
   ]
  },
  {
   "cell_type": "code",
   "execution_count": 5,
   "metadata": {},
   "outputs": [
    {
     "name": "stdout",
     "output_type": "stream",
     "text": [
      "['Vienna', 'London', 'Paris', 'Berlin']\n"
     ]
    }
   ],
   "source": [
    "all_but_last_two = cities[:-2]\n",
    "print(all_but_last_two)"
   ]
  },
  {
   "cell_type": "markdown",
   "metadata": {},
   "source": [
    "Slicing works with three arguments as well. If the third argument is for example 3, only every third element of the list, string or tuple from the range of the first two arguments will be taken.\n",
    "\n",
    "If s is a sequential data type, it works like this:"
   ]
  },
  {
   "cell_type": "markdown",
   "metadata": {},
   "source": [
    "<pre> s[begin: end: step] </pre>"
   ]
  },
  {
   "cell_type": "markdown",
   "metadata": {},
   "source": [
    "The resulting sequence consists of the following elements:"
   ]
  },
  {
   "cell_type": "markdown",
   "metadata": {},
   "source": [
    "<pre> s[begin], s[begin + 1 * step], ... s[begin + i * step] for all (begin + i * step) < end. </pre>"
   ]
  },
  {
   "cell_type": "markdown",
   "metadata": {},
   "source": [
    "In the following example we define a string and we print every third character of this string:\n"
   ]
  },
  {
   "cell_type": "code",
   "execution_count": 14,
   "metadata": {},
   "outputs": [
    {
     "data": {
      "text/plain": [
       "'Ph d n  e'"
      ]
     },
     "execution_count": 14,
     "metadata": {},
     "output_type": "execute_result"
    }
   ],
   "source": [
    "slogan = \"Python under Linux is great\"\n",
    "slogan[::3]"
   ]
  },
  {
   "cell_type": "markdown",
   "metadata": {},
   "source": [
    "The following string, which looks like a letter salad, contains two sentences. One of them contains covert advertising of my Python courses in Canada:"
   ]
  },
  {
   "cell_type": "markdown",
   "metadata": {},
   "source": [
    "<pre> \"TPoyrtohnotno  ciosu rtshees  lianr gTeosrto nCtiot yb yi nB oCdaennasdeao\"  </pre> "
   ]
  },
  {
   "cell_type": "markdown",
   "metadata": {},
   "source": [
    "Try to find out the hidden sentence using Slicing. The solution consists of 2 steps! "
   ]
  },
  {
   "cell_type": "code",
   "execution_count": 15,
   "metadata": {},
   "outputs": [
    {
     "name": "stdout",
     "output_type": "stream",
     "text": [
      "TPoyrtohnotno  ciosu rtshees  lianr gTeosrto nCtiot yb yi nB oCdaennasdeao\n"
     ]
    }
   ],
   "source": [
    "s = \"TPoyrtohnotno  ciosu rtshees  lianr gTeosrto nCtiot yb yi nB oCdaennasdeao\"\n",
    "print(s)"
   ]
  },
  {
   "cell_type": "code",
   "execution_count": 16,
   "metadata": {},
   "outputs": [
    {
     "data": {
      "text/plain": [
       "'Toronto is the largest City in Canada'"
      ]
     },
     "execution_count": 16,
     "metadata": {},
     "output_type": "execute_result"
    }
   ],
   "source": [
    "s[::2]"
   ]
  },
  {
   "cell_type": "code",
   "execution_count": 17,
   "metadata": {},
   "outputs": [
    {
     "data": {
      "text/plain": [
       "'Python courses in Toronto by Bodenseo'"
      ]
     },
     "execution_count": 17,
     "metadata": {},
     "output_type": "execute_result"
    }
   ],
   "source": [
    "s[1::2]"
   ]
  },
  {
   "cell_type": "markdown",
   "metadata": {},
   "source": [
    "You may be interested in how we created the string. You have to understand list comprehension to understand the following:\n"
   ]
  },
  {
   "cell_type": "code",
   "execution_count": 18,
   "metadata": {},
   "outputs": [
    {
     "data": {
      "text/plain": [
       "'TPoyrtohnotno  ciosu rtshees  lianr gTeosrto nCtiot yb yi nB oCdaennasdeao'"
      ]
     },
     "execution_count": 18,
     "metadata": {},
     "output_type": "execute_result"
    }
   ],
   "source": [
    "s = \"Toronto is the largest City in Canada\"\n",
    "t = \"Python courses in Toronto by Bodenseo\"\n",
    "s = \"\".join([\"\".join(x) for x in zip(s,t)])\n",
    "s"
   ]
  },
  {
   "cell_type": "markdown",
   "metadata": {},
   "source": [
    "### Length\n",
    "\n",
    "<img width=100 height=100 class=\"imgleft\" src=\"../images/metermass.webp\" alt=\"Meter\" />\n",
    "Length of a sequence, i.e. a list, a string or a tuple, can be determined with the function len(). For strings it counts the number of characters, and for lists or tuples the number of elements are counted, whereas a sublist counts as one element."
   ]
  },
  {
   "cell_type": "code",
   "execution_count": 19,
   "metadata": {},
   "outputs": [
    {
     "data": {
      "text/plain": [
       "11"
      ]
     },
     "execution_count": 19,
     "metadata": {},
     "output_type": "execute_result"
    }
   ],
   "source": [
    "txt = \"Hello World\"\n",
    "len(txt)"
   ]
  },
  {
   "cell_type": "code",
   "execution_count": 20,
   "metadata": {},
   "outputs": [
    {
     "data": {
      "text/plain": [
       "4"
      ]
     },
     "execution_count": 20,
     "metadata": {},
     "output_type": "execute_result"
    }
   ],
   "source": [
    "a = [\"Swen\", 45, 3.54, \"Basel\"]\n",
    "len(a)"
   ]
  },
  {
   "cell_type": "markdown",
   "metadata": {},
   "source": [
    "### Concatenation of Sequences\n",
    "Combining two sequences like strings or lists is as easy as adding two numbers together. Even the operator sign is the same.\n",
    "The following example shows how to concatenate two strings into one:"
   ]
  },
  {
   "cell_type": "code",
   "execution_count": 21,
   "metadata": {},
   "outputs": [
    {
     "name": "stdout",
     "output_type": "stream",
     "text": [
      "Homer Simpson\n"
     ]
    }
   ],
   "source": [
    "firstname = \"Homer\"\n",
    "surname = \"Simpson\"\n",
    "name = firstname + \" \" + surname\n",
    "print(name) "
   ]
  },
  {
   "cell_type": "markdown",
   "metadata": {},
   "source": [
    "It's as simple for lists:\n"
   ]
  },
  {
   "cell_type": "code",
   "execution_count": 22,
   "metadata": {},
   "outputs": [
    {
     "name": "stdout",
     "output_type": "stream",
     "text": [
      "['red', 'green', 'blue', 'black', 'white']\n"
     ]
    }
   ],
   "source": [
    "colours1 = [\"red\", \"green\",\"blue\"]\n",
    "colours2 = [\"black\", \"white\"]\n",
    "colours = colours1 + colours2\n",
    "print(colours)"
   ]
  },
  {
   "cell_type": "markdown",
   "metadata": {},
   "source": [
    "The augmented assignment \"+=\" which is well known for arithmetic assignments work for sequences as well.\n",
    "\n",
    "s += t\n",
    "\n",
    "is syntactically the same as:\n",
    "\n",
    "s = s + t\n",
    "\n",
    "But it is only syntactically the same. The implementation is different: In the first case the left side has to be evaluated only once. Augment assignments may be applied for mutable objects as an optimization.\n",
    "\n",
    "### Checking if an Element is Contained in List\n",
    "\n",
    "It's easy to check, if an item is contained in a sequence. We can use the \"in\" or the \"not in\" operator for this purpose.\n",
    "The following example shows how this operator can be applied:"
   ]
  },
  {
   "cell_type": "code",
   "execution_count": 23,
   "metadata": {},
   "outputs": [
    {
     "data": {
      "text/plain": [
       "True"
      ]
     },
     "execution_count": 23,
     "metadata": {},
     "output_type": "execute_result"
    }
   ],
   "source": [
    "abc = [\"a\",\"b\",\"c\",\"d\",\"e\"]\n",
    "\"a\" in abc"
   ]
  },
  {
   "cell_type": "code",
   "execution_count": 24,
   "metadata": {},
   "outputs": [
    {
     "data": {
      "text/plain": [
       "False"
      ]
     },
     "execution_count": 24,
     "metadata": {},
     "output_type": "execute_result"
    }
   ],
   "source": [
    "\"a\" not in abc"
   ]
  },
  {
   "cell_type": "code",
   "execution_count": 25,
   "metadata": {},
   "outputs": [
    {
     "data": {
      "text/plain": [
       "False"
      ]
     },
     "execution_count": 25,
     "metadata": {},
     "output_type": "execute_result"
    }
   ],
   "source": [
    "\"e\" not in abc"
   ]
  },
  {
   "cell_type": "code",
   "execution_count": 26,
   "metadata": {},
   "outputs": [
    {
     "data": {
      "text/plain": [
       "True"
      ]
     },
     "execution_count": 26,
     "metadata": {},
     "output_type": "execute_result"
    }
   ],
   "source": [
    "\"f\" not in abc"
   ]
  },
  {
   "cell_type": "code",
   "execution_count": 27,
   "metadata": {},
   "outputs": [
    {
     "data": {
      "text/plain": [
       "True"
      ]
     },
     "execution_count": 27,
     "metadata": {},
     "output_type": "execute_result"
    }
   ],
   "source": [
    "slogan = \"Python is easy!\"\n",
    "\"y\" in slogan"
   ]
  },
  {
   "cell_type": "code",
   "execution_count": 28,
   "metadata": {},
   "outputs": [
    {
     "data": {
      "text/plain": [
       "False"
      ]
     },
     "execution_count": 28,
     "metadata": {},
     "output_type": "execute_result"
    }
   ],
   "source": [
    "\"x\" in slogan"
   ]
  },
  {
   "cell_type": "markdown",
   "metadata": {},
   "source": [
    "### Repetitions\n",
    "\n",
    "So far we had a \"```+```\" operator for sequences. There is a \"```*```\" operator available as well. Of course, there is no \"multiplication\" between two sequences possible. \"```*```\" is defined for a sequence and an integer, i.e. \"s ```*``` n\" or \"n ```*``` s\".\n",
    "It's a kind of abbreviation for an n-times concatenation, i.e.\n",
    "\n",
    "str ```*``` 4\n",
    "\n",
    "is the same as\n",
    "\n",
    "str + str + str + str\n",
    "\n",
    "Further examples:"
   ]
  },
  {
   "cell_type": "code",
   "execution_count": 29,
   "metadata": {},
   "outputs": [
    {
     "data": {
      "text/plain": [
       "'xyz-xyz-xyz-'"
      ]
     },
     "execution_count": 29,
     "metadata": {},
     "output_type": "execute_result"
    }
   ],
   "source": [
    "3 * \"xyz-\""
   ]
  },
  {
   "cell_type": "code",
   "execution_count": 30,
   "metadata": {},
   "outputs": [
    {
     "data": {
      "text/plain": [
       "'xyz-xyz-xyz-'"
      ]
     },
     "execution_count": 30,
     "metadata": {},
     "output_type": "execute_result"
    }
   ],
   "source": [
    "\"xyz-\" * 3"
   ]
  },
  {
   "cell_type": "code",
   "execution_count": 31,
   "metadata": {},
   "outputs": [
    {
     "data": {
      "text/plain": [
       "['a', 'b', 'c', 'a', 'b', 'c', 'a', 'b', 'c']"
      ]
     },
     "execution_count": 31,
     "metadata": {},
     "output_type": "execute_result"
    }
   ],
   "source": [
    "3 * [\"a\",\"b\",\"c\"]"
   ]
  },
  {
   "cell_type": "markdown",
   "metadata": {},
   "source": [
    "The augmented assignment for \"*\" can be used as well:\n",
    "s *= n is the same as s = s * n.\n",
    "\n",
    "\n",
    "\n",
    "\n",
    "### The Pitfalls of Repetitions\n",
    "In our previous examples we applied the repetition operator on strings and flat lists. We can apply it to nested lists as well:\n",
    "\n"
   ]
  },
  {
   "cell_type": "code",
   "execution_count": 32,
   "metadata": {},
   "outputs": [
    {
     "data": {
      "text/plain": [
       "[['a', 'b', 'c'], ['a', 'b', 'c'], ['a', 'b', 'c'], ['a', 'b', 'c']]"
      ]
     },
     "execution_count": 32,
     "metadata": {},
     "output_type": "execute_result"
    }
   ],
   "source": [
    "x = [\"a\",\"b\",\"c\"]\n",
    "y = [x] * 4\n",
    "y"
   ]
  },
  {
   "cell_type": "code",
   "execution_count": 33,
   "metadata": {},
   "outputs": [
    {
     "data": {
      "text/plain": [
       "[['p', 'b', 'c'], ['p', 'b', 'c'], ['p', 'b', 'c'], ['p', 'b', 'c']]"
      ]
     },
     "execution_count": 33,
     "metadata": {},
     "output_type": "execute_result"
    }
   ],
   "source": [
    "y[0][0] = \"p\"\n",
    "y"
   ]
  },
  {
   "cell_type": "markdown",
   "metadata": {},
   "source": [
    "<img class=\"imgleft\" src=\"../images/repetitions.webp\" alt=\"Repetitions with References\" />\n",
    "\n",
    "This result is quite astonishing for beginners of Python programming. We have assigned a new value to the first element of the first sublist of y, i.e. y[0][0] and we have \"automatically\" changed the first elements of all the sublists in y, i.e. y[1][0], y[2][0], y[3][0].\n",
    "\n",
    "The reason is that the repetition operator \"* 4\" creates 4 references to the list x: and so it's clear that every element of y is changed, if we apply a new value to y[0][0].\n"
   ]
  }
 ],
 "metadata": {
  "kernelspec": {
   "display_name": "Python 3",
   "language": "python",
   "name": "python3"
  },
  "language_info": {
   "codemirror_mode": {
    "name": "ipython",
    "version": 3
   },
   "file_extension": ".py",
   "mimetype": "text/x-python",
   "name": "python",
   "nbconvert_exporter": "python",
   "pygments_lexer": "ipython3",
   "version": "3.7.4"
  }
 },
 "nbformat": 4,
 "nbformat_minor": 4
}
