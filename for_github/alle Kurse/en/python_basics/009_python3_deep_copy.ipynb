{
 "cells": [
  {
   "cell_type": "markdown",
   "metadata": {},
   "source": [
    "## Shallow and Deep Copy\n",
    "\n",
    "\n",
    "### Introduction\n",
    "\n",
    "<img width=300 class=\"imgright\" src=\"../images/matrjoschkas.webp\" srcset=\"../images/matrjoschkas_700w.webp 700w,../images/matrjoschkas_600w.webp 600w,../images/matrjoschkas_500w.webp 500w,../images/matrjoschkas_400w.webp 400w,../images/matrjoschkas_350w.webp 350w,../images/matrjoschkas_300w.webp 300w\" alt=\"Matrjoschkas\" />\n",
    "\n",
    "\n",
    "In this chapter, we will cover the question of how to copy lists and nested lists. The problems which we will encounter are general problems of mutable data types. Trying to copy lists can be a stumping experience for newbies. But before, we would like to summarize some insights from the previous chapter \"[Data Types and Variables](https://www.python-course.eu/python3_variables.php)\". Python even shows a strange behaviour for the beginners of the language - in comparison with some other traditional programming languages - when assigning and copying simple data types like integers and strings. The difference between shallow and deep copying is only relevant for compound objects, i.e. objects containing other objects, like lists or class instances.\n",
    "\n",
    "In the following code snippet, y points to the same memory location as X. We can see this by applying the id() function on x and y. However, unlike \"real\" pointers like those in C and C++, things change, when we assign a new value to y. In this case y will receive a separate memory location, as we have seen in the chapter \"[Data Types and Variables](https://www.python-course.eu/python3_variables.php)\" and can see in the following example:"
   ]
  },
  {
   "cell_type": "code",
   "execution_count": 2,
   "metadata": {},
   "outputs": [
    {
     "name": "stdout",
     "output_type": "stream",
     "text": [
      "94308023129184 94308023129184\n"
     ]
    }
   ],
   "source": [
    "x = 3\n",
    "y = x\n",
    "print(id(x), id(y)) "
   ]
  },
  {
   "cell_type": "code",
   "execution_count": 3,
   "metadata": {},
   "outputs": [
    {
     "name": "stdout",
     "output_type": "stream",
     "text": [
      "94308023129184 94308023129216\n"
     ]
    }
   ],
   "source": [
    "y = 4\n",
    "print(id(x), id(y))"
   ]
  },
  {
   "cell_type": "code",
   "execution_count": 4,
   "metadata": {},
   "outputs": [
    {
     "name": "stdout",
     "output_type": "stream",
     "text": [
      "3 4\n"
     ]
    }
   ],
   "source": [
    "print(x,y)"
   ]
  },
  {
   "cell_type": "markdown",
   "metadata": {},
   "source": [
    "But even if this internal behaviour appears strange compared to programming languages like C, C++, Perl or Java, the observable results of the previous assignments are what we exprected, i.e. if you do not look at the id values. However, it can be problematic, if we copy mutable objects like lists and dictionaries.\n",
    "\n",
    "Python creates only real copies, if it has to, i.e. if the user, the programmer, explicitly demands it.\n",
    "\n",
    "We will introduce you to the most crucial problems, which can occur when copying mutable objects such as lists and dictionaries.\n",
    "\n",
    "### Variables Sharing an Object\n",
    "\n",
    "You are on this page to learn about copying objects, especially lists. Nevertheless, you need to exercise patience. We want to show something that looks like a copy to many beginners but has nothing to do with copies."
   ]
  },
  {
   "cell_type": "code",
   "execution_count": 5,
   "metadata": {},
   "outputs": [
    {
     "name": "stdout",
     "output_type": "stream",
     "text": [
      "['red', 'blue'] ['red', 'blue']\n"
     ]
    }
   ],
   "source": [
    "colours1 = [\"red\", \"blue\"]\n",
    "colours2 = colours1\n",
    "print(colours1, colours2)"
   ]
  },
  {
   "cell_type": "markdown",
   "metadata": {},
   "source": [
    "Both variables reference the same list object. If we look at the identities of the variables ```colours1``` and ```colours2```, we can see that both are references to the same object:"
   ]
  },
  {
   "cell_type": "code",
   "execution_count": 6,
   "metadata": {},
   "outputs": [
    {
     "name": "stdout",
     "output_type": "stream",
     "text": [
      "139720054914312 139720054914312\n"
     ]
    }
   ],
   "source": [
    "print(id(colours1), id(colours2))"
   ]
  },
  {
   "cell_type": "markdown",
   "metadata": {},
   "source": [
    "In the example above a simple list is assigned to colours1. This list is a so-called \"shallow list\", because it doesn't have a nested structure, i.e. no sublists are contained in the list. In the next step we assign colours1 to colours2.\n",
    "\n",
    "The id() function shows us that both variables point at the same list object, i.e. they share this object.\n",
    "\n",
    "<img width=400 height=400 class=\"imgright\" src=\"../images/deep_copy_detailed1.webp\" srcset=\"../images/deep_copy_detailed1_800w.webp 800w,../images/deep_copy_detailed1_700w.webp 700w,../images/deep_copy_detailed1_600w.webp 600w,../images/deep_copy_detailed1_500w.webp 500w,../images/deep_copy_detailed1_400w.webp 400w,../images/deep_copy_detailed1_350w.webp 350w,../images/deep_copy_detailed1_300w.webp 300w\" alt=\"Deep Copy Detailed\" /> \n",
    "\n",
    "\n",
    "We have two variable names ```colours1``` and ```colours2```, which we have depicted as yellow ovals. The blue box symbolizes the list object. A list object consists of references to other objects. In our example the list object, which is referenced by both variables, references two string objects, i.e. \"red\" and \"blue\".\n",
    "Now we have to examine, what will happen, if we change just one element of the list of ```colours2``` or ```colours1```.\n",
    "\n",
    "Now we want to see, what happens, if we assign a new object to ```colours2```. As expected, the values of ```colours1``` remain unchanged. Like it was in our example in the chapter \"[Data Types and Variables](https://www.python-course.eu/python3_variables.php)\", a new memory location had been allocated for ```colours2```, as we have assigned a completely new list, i.e. a new list object to this variable. "
   ]
  },
  {
   "cell_type": "code",
   "execution_count": 7,
   "metadata": {},
   "outputs": [
    {
     "name": "stdout",
     "output_type": "stream",
     "text": [
      "139720055355208 139720055355208\n"
     ]
    }
   ],
   "source": [
    "colours1 = [\"red\", \"blue\"]\n",
    "colours2 = colours1\n",
    "print(id(colours1), id(colours2))"
   ]
  },
  {
   "cell_type": "code",
   "execution_count": 8,
   "metadata": {},
   "outputs": [
    {
     "name": "stdout",
     "output_type": "stream",
     "text": [
      "['red', 'blue']\n"
     ]
    }
   ],
   "source": [
    "colours2 = \"green\"\n",
    "print(colours1)"
   ]
  },
  {
   "cell_type": "code",
   "execution_count": 9,
   "metadata": {},
   "outputs": [
    {
     "name": "stdout",
     "output_type": "stream",
     "text": [
      "['red', 'blue']\n"
     ]
    }
   ],
   "source": [
    "print(colours1)"
   ]
  },
  {
   "cell_type": "code",
   "execution_count": 10,
   "metadata": {},
   "outputs": [
    {
     "name": "stdout",
     "output_type": "stream",
     "text": [
      "green\n"
     ]
    }
   ],
   "source": [
    "print(colours2)"
   ]
  },
  {
   "cell_type": "markdown",
   "metadata": {},
   "source": [
    "We assigned a new object to the variable 'colours2'. In the following code, we will change the list object internally by assigning a new value to the second element of the list. "
   ]
  },
  {
   "cell_type": "code",
   "execution_count": 1,
   "metadata": {},
   "outputs": [],
   "source": [
    "colours1 = [\"red\", \"blue\"]\n",
    "colours2 = colours1\n",
    "\n",
    "colours2[1] = \"green\""
   ]
  },
  {
   "cell_type": "markdown",
   "metadata": {},
   "source": [
    "<img width=400 height=400 class=\"imgright\" src=\"../images/deep_copy_detailed2.webp\" srcset=\"../images/deep_copy_detailed2_800w.webp 800w,../images/deep_copy_detailed2_700w.webp 700w,../images/deep_copy_detailed2_600w.webp 600w,../images/deep_copy_detailed2_500w.webp 500w,../images/deep_copy_detailed2_400w.webp 400w,../images/deep_copy_detailed2_350w.webp 350w,../images/deep_copy_detailed2_300w.webp 300w\" alt=\"Copying a simple list\" /> \n",
    "\n",
    "Let's see, what has happened in detail in the previous code. We assigned a new value to the second element of colours2, i.e. the element with the index 1. Lots of beginners will be surprised as the list of colours1 has been \"automatically\" changed as well. Of course, we don't have two lists: We have only two names for the same list!\n",
    "\n",
    "The explanation is that we didn't assign a new object to the variable ```colours2```. We changed the object referenced by ```colours2``` internally or as it is usually called \"in-place\". Both variables ```colours1``` and ```colours2``` still point to the same list object.\n",
    "\n",
    "\n",
    "\n",
    "### Copying Lists\n",
    "\n",
    "We have finally arrived at the topic of copying lists. The ```list``` class offers the method ```copy``` for this purpose. Even though the name seems to be clear, this path also has a catch. \n",
    "\n",
    "The catch can be seen, if we use help on ```copy```:"
   ]
  },
  {
   "cell_type": "code",
   "execution_count": 11,
   "metadata": {},
   "outputs": [
    {
     "name": "stdout",
     "output_type": "stream",
     "text": [
      "Help on method_descriptor:\n",
      "\n",
      "copy(self, /)\n",
      "    Return a shallow copy of the list.\n",
      "\n"
     ]
    }
   ],
   "source": [
    "help(list.copy)"
   ]
  },
  {
   "cell_type": "markdown",
   "metadata": {},
   "source": [
    "Many beginners overlook the word \"shallow\" here. ```help``` tells us that a new list will be created by the ```copy``` method. This new list will be a 'shallow' copy of the original list. \n",
    "\n",
    "In principle, the word \"shallow\" is unnecessary or even misleading in this definition. \n",
    "\n",
    "First you should remember what a list is in Python. A list in Python is an object consisting of an ordered sequence of references to Python objects. The following is a list of strings:\n",
    "\n",
    "<img width=50%  src=\"../images/list_firstnames.webp\" srcset=\"../images/list_firstnames_800w.webp 800w,../images/list_firstnames_700w.webp 700w,../images/list_firstnames_600w.webp 600w,../images/list_firstnames_500w.webp 500w,../images/list_firstnames_400w.webp 400w,../images/list_firstnames_350w.webp 350w,../images/list_firstnames_300w.webp 300w\" alt=\"A list of string (firstnames)\" />\n",
    "\n",
    "The list which the variable ```firstnames``` is referencing is a list of strings. Basically, the list object is solely the blue box with the arrows, i.e. the references to the strings. The strings itself are not part of the list.\n",
    "\n"
   ]
  },
  {
   "cell_type": "code",
   "execution_count": 12,
   "metadata": {},
   "outputs": [],
   "source": [
    "firstnames = ['Kevin', 'Jamina', 'Lars', 'Maria']"
   ]
  },
  {
   "cell_type": "markdown",
   "metadata": {},
   "source": [
    "The previous example the list of first names ```firstnames``` is homogeneous, i.e. it consists only of strings, so all elements have the same data type. But you should be aware of the fact that the references of a list can refer to any objects. The following list ```whatever``` is such a more general list:\n",
    "\n",
    "<img width=60%  src=\"../images/list_whatever.webp\" srcset=\"../images/list_whatever_800w.webp 800w,../images/list_whatever_700w.webp 700w,../images/list_whatever_600w.webp 600w,../images/list_whatever_500w.webp 500w,../images/list_whatever_400w.webp 400w,../images/list_whatever_350w.webp 350w,../images/list_whatever_300w.webp 300w\" alt=\"A list with arbitrary Python objects\" />\n"
   ]
  },
  {
   "cell_type": "code",
   "execution_count": 13,
   "metadata": {},
   "outputs": [],
   "source": [
    "whatever = [\"Kevin\", \"Pythonista\", 7.8, [3.54, \"rkm\"]]"
   ]
  },
  {
   "cell_type": "markdown",
   "metadata": {},
   "source": [
    "When a list is copied, we copy the references. In our examples, these are the blue boxes referenced by ```firstnames``` and by ```whatever```. The implications of this are shown in the following subchapter.\n",
    "\n",
    "### Problems of Copying Lists\n",
    "\n",
    "Copying lists can easily be misunderstood, and this misconception can lead to unpleasant errors. We will present this in the form of a slightly different love story. \n",
    "\n",
    "<img width=70%  src=\"../images/konstanz_seestrasse.webp\" srcset=\"../images/konstanz_seestrasse_800w.webp 800w,../images/konstanz_seestrasse_700w.webp 700w,../images/konstanz_seestrasse_600w.webp 600w,../images/konstanz_seestrasse_500w.webp 500w,../images/konstanz_seestrasse_400w.webp 400w,../images/konstanz_seestrasse_350w.webp 350w,../images/konstanz_seestrasse_300w.webp 300w\" alt=\"Konstanz Seestrasse\" />\n",
    "\n",
    "Imagine a person living in the city of Constance. The city is located in the South of Germany at the banks of Lake Constance (Bodensee in German). The river Rhine, which starts in the Swiss Alps, passes through Lake Constance and leaves it, considerably larger. This person called Swen lives in \"Seestrasse\",  one of the most expensive streets of Constance. His apartment has a direct view of the lake and the city of Constance. We put some information about Swen in the following list structure:"
   ]
  },
  {
   "cell_type": "code",
   "execution_count": 14,
   "metadata": {},
   "outputs": [],
   "source": [
    "person1 = [\"Swen\", [\"Seestrasse\", \"Konstanz\"]]"
   ]
  },
  {
   "cell_type": "markdown",
   "metadata": {},
   "source": [
    "<img width=60%  src=\"../images/copy_nested_list_1.webp\" srcset=\"../images/copy_nested_list_1_800w.webp 800w,../images/copy_nested_list_1_700w.webp 700w,../images/copy_nested_list_1_600w.webp 600w,../images/copy_nested_list_1_500w.webp 500w,../images/copy_nested_list_1_400w.webp 400w,../images/copy_nested_list_1_350w.webp 350w,../images/copy_nested_list_1_300w.webp 300w\" alt=\"Copying a nested list, part1\" />\n",
    "\n",
    "One beautiful day, the good-looking Sarah meets Swen, her Prince Charming. To cut the story short: Love at first sight and she moves in with Swen.\n",
    "\n",
    "Now it is up to us to create a data set for Sarah. We are lazy and we will recycle Swen's data, because she will live now with him in the same apartment.\n",
    "\n",
    "We will copy Swen's data and change the name to Sarah:"
   ]
  },
  {
   "cell_type": "code",
   "execution_count": 15,
   "metadata": {},
   "outputs": [
    {
     "name": "stdout",
     "output_type": "stream",
     "text": [
      "['Sarah', ['Seestrasse', 'Konstanz']]\n"
     ]
    }
   ],
   "source": [
    "person2 = person1.copy()\n",
    "person2[0] = \"Sarah\"\n",
    "print(person2)"
   ]
  },
  {
   "cell_type": "markdown",
   "metadata": {},
   "source": [
    "<img width=60%  src=\"../images/copy_nested_list_2.webp\" srcset=\"../images/copy_nested_list_2_800w.webp 800w,../images/copy_nested_list_2_700w.webp 700w,../images/copy_nested_list_2_600w.webp 600w,../images/copy_nested_list_2_500w.webp 500w,../images/copy_nested_list_2_400w.webp 400w,../images/copy_nested_list_2_350w.webp 350w,../images/copy_nested_list_2_300w.webp 300w\" alt=\"Copying a nested list, part2\" />\n",
    "\n",
    "They live in perfect harmony and deep love for a long time, let's say a whole weekend. She suddenly realizes that Swen is a monster: He stains the butter with marmelade and honey and even worse, he spreads out his worn socks in the bedroom. It doesn't take long for her to make a crucial decision: She will leave him and the dream apartment.\n",
    "\n",
    "She moves into a street called Bücklestrasse. A residential area that is nowhere near as nice, but at least she is away from the monster. \n",
    "\n",
    "How can we arrange this move from the Python point of view?\n",
    "\n",
    "The street can be accessed with ```person2[1][0]```. So we set this to the new location:"
   ]
  },
  {
   "cell_type": "code",
   "execution_count": 17,
   "metadata": {},
   "outputs": [],
   "source": [
    "person2[1][0] = \"Bücklestraße\""
   ]
  },
  {
   "cell_type": "markdown",
   "metadata": {},
   "source": [
    "We can see that Sarah successfully moved to the new location:"
   ]
  },
  {
   "cell_type": "code",
   "execution_count": 18,
   "metadata": {},
   "outputs": [
    {
     "name": "stdout",
     "output_type": "stream",
     "text": [
      "['Sarah', ['Bücklestraße', 'Konstanz']]\n"
     ]
    }
   ],
   "source": [
    "print(person2)"
   ]
  },
  {
   "cell_type": "markdown",
   "metadata": {},
   "source": [
    "Is this the end of our story? Will she never see Swen again? Let's check Swen's data:"
   ]
  },
  {
   "cell_type": "code",
   "execution_count": 19,
   "metadata": {},
   "outputs": [
    {
     "name": "stdout",
     "output_type": "stream",
     "text": [
      "['Swen', ['Bücklestraße', 'Konstanz']]\n"
     ]
    }
   ],
   "source": [
    "print(person1)"
   ]
  },
  {
   "cell_type": "markdown",
   "metadata": {},
   "source": [
    "Swen is clingy. She cannot get rid of him! This might be quite surprising for some. Why is it like this? The list ```person1``` consists of two references: One to a string object (\"Swen\") and the other one to nested list (the address ```['Seestrasse', 'Konstanz']```. When we used ```copy```, we copied only these references. This means that both ```person1[1]``` and ```person2[1]``` reference the same list object. When we change this nested list, it is visible in both lists. "
   ]
  },
  {
   "cell_type": "markdown",
   "metadata": {},
   "source": [
    "<img width=60%  src=\"../images/copy_nested_list_3.webp\" srcset=\"../images/copy_nested_list_3_800w.webp 800w,../images/copy_nested_list_3_700w.webp 700w,../images/copy_nested_list_3_600w.webp 600w,../images/copy_nested_list_3_500w.webp 500w,../images/copy_nested_list_3_400w.webp 400w,../images/copy_nested_list_3_350w.webp 350w,../images/copy_nested_list_3_300w.webp 300w\" alt=\"Copy Nested lists\" />"
   ]
  },
  {
   "cell_type": "markdown",
   "metadata": {},
   "source": [
    "### deepcopy from the Module copy\n",
    "\n",
    "A solution to the described problem is provided by the module ```copy```. This module provides the method \"deepcopy\", which allows a complete or deep copy of an arbitrary list, i.e. shallow and other lists.\n",
    "\n",
    "Let us redo the previous example with the function ```deepcopy```:\n"
   ]
  },
  {
   "cell_type": "code",
   "execution_count": 24,
   "metadata": {},
   "outputs": [],
   "source": [
    "from copy import deepcopy\n",
    "person1 = [\"Swen\", [\"Seestrasse\", \"Konstanz\"]]\n",
    "\n",
    "person2 = deepcopy(person1)\n",
    "person2[0] = \"Sarah\""
   ]
  },
  {
   "cell_type": "markdown",
   "metadata": {},
   "source": [
    "After this the implementation structure looks like this:\n",
    "\n",
    "<img width=80%  src=\"../images/copy_with_deepcopy.webp\" srcset=\"../images/copy_with_deepcopy_800w.webp 800w,../images/copy_with_deepcopy_700w.webp 700w,../images/copy_with_deepcopy_600w.webp 600w,../images/copy_with_deepcopy_500w.webp 500w,../images/copy_with_deepcopy_400w.webp 400w,../images/copy_with_deepcopy_350w.webp 350w,../images/copy_with_deepcopy_300w.webp 300w\" alt=\"Copy nested lists\" />\n",
    "\n",
    "We can see that the nested list with the address was copied as well. We are now well prepared for Sarah's escape-like move.\n",
    "\n"
   ]
  },
  {
   "cell_type": "code",
   "execution_count": 25,
   "metadata": {},
   "outputs": [],
   "source": [
    "person2[1][0] = \"Bücklestrasse\""
   ]
  },
  {
   "cell_type": "markdown",
   "metadata": {},
   "source": [
    "She successfully moved out and left Swen for good, as we can see in the following:"
   ]
  },
  {
   "cell_type": "code",
   "execution_count": 27,
   "metadata": {},
   "outputs": [
    {
     "name": "stdout",
     "output_type": "stream",
     "text": [
      "['Swen', ['Seestrasse', 'Konstanz']] ['Sarah', ['Bücklestrasse', 'Konstanz']]\n"
     ]
    }
   ],
   "source": [
    "print(person1, person2)"
   ]
  },
  {
   "cell_type": "markdown",
   "metadata": {},
   "source": [
    "For the sake of clarity, we also provide a diagram here.\n",
    "\n",
    "<img width=80%  src=\"../images/copy_with_deepcopy_2.webp\" srcset=\"../images/copy_with_deepcopy_2_800w.webp 800w,../images/copy_with_deepcopy_2_700w.webp 700w,../images/copy_with_deepcopy_2_600w.webp 600w,../images/copy_with_deepcopy_2_500w.webp 500w,../images/copy_with_deepcopy_2_400w.webp 400w,../images/copy_with_deepcopy_2_350w.webp 350w,../images/copy_with_deepcopy_2_300w.webp 300w\" alt=\"Copy nested lists\" />"
   ]
  },
  {
   "cell_type": "markdown",
   "metadata": {},
   "source": [
    "We can see by using the id function that the sublist has been copied, because ```id(person1[1])``` is different from ```id(person2[1])```. An interesting fact is that the strings are not copied: ```person1[1]``` and ```person2[1]``` reference the same string."
   ]
  },
  {
   "cell_type": "code",
   "execution_count": 31,
   "metadata": {},
   "outputs": [
    {
     "name": "stdout",
     "output_type": "stream",
     "text": [
      "139720051192456 139720054073864\n"
     ]
    }
   ],
   "source": [
    "print(id(person1[1]), id(person2[1]))"
   ]
  }
 ],
 "metadata": {
  "kernelspec": {
   "display_name": "Python 3",
   "language": "python",
   "name": "python3"
  },
  "language_info": {
   "codemirror_mode": {
    "name": "ipython",
    "version": 3
   },
   "file_extension": ".py",
   "mimetype": "text/x-python",
   "name": "python",
   "nbconvert_exporter": "python",
   "pygments_lexer": "ipython3",
   "version": "3.8.3"
  }
 },
 "nbformat": 4,
 "nbformat_minor": 4
}
