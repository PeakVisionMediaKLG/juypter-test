{
 "cells": [
  {
   "cell_type": "markdown",
   "metadata": {},
   "source": [
    "## Dictionaries\n",
    "\n",
    "\n",
    "\n",
    "### Introduction\n",
    "\n",
    "<img width=200 height=200 class=\"imgright\" src=\"../images/webster.webp\" srcset=\"../images/webster_400w.webp 400w,../images/webster_350w.webp 350w,../images/webster_300w.webp 300w\" alt=\"Webster's Dictionary \" />\n",
    "\n",
    "\n",
    "We have already become acquainted with lists in the previous chapter. In this chapter of our online Python course we will present the dictionaries, the operators and the methods on dictionaries. Python programs or scripts without lists and dictionaries are nearly inconceivable. Dictionaries and their powerful implementations are part of what makes Python so effective and superior. Like lists, they can be easily changed, can be shrunk and grown ad libitum at run time. They shrink and grow without the necessity of making copies. Dictionaries can be contained in lists and vice versa.\n",
    "\n",
    "But what's the difference between lists and dictionaries? A list is an ordered sequence of objects, whereas dictionaries are unordered sets. However, the main difference is that items in dictionaries are accessed via keys and not via their position. \n",
    "\n",
    "More theoretically, we can say that dictionaries are the Python implementation of an abstract data type, known in computer science as an associative array. Associative arrays consist - like dictionaries of (key, value) pairs, such that each possible key appears at most once in the collection. Any key of the dictionary is associated (or mapped) to a value. The values of a dictionary can be any type of Python data. So, dictionaries are unordered key-value-pairs. Dictionaries are implemented as hash tables, and that is the reason why they are known as \"Hashes\" in the programming language Perl.\n",
    "\n",
    "Dictionaries don't support the sequence operation of the sequence data types like strings, tuples and lists. Dictionaries belong to the built-in mapping type, but so far, they are the sole representative of this kind!\n",
    "\n",
    "At the end of this chapter, we will demonstrate how a dictionary can be turned into one list, containing (key,value)-tuples or two lists, i.e. one with the keys and one with the values. This transformation can be done reversely as well.\n",
    "\n",
    "### Examples of Dictionaries\n",
    "\n",
    "Our first example is a dictionary with cities located in the US and Canada and their corresponding population. We have taken those numbers out the \"List of North American cities by population\" from Wikipedia (https://en.wikipedia.org/wiki/List_of_North_American_cities_by_population)\n"
   ]
  },
  {
   "cell_type": "markdown",
   "metadata": {},
   "source": [
    "If we want to get the population of one of those cities, all we have to do is to use the name of the city as an index. We can see that dictonaries are enclosed in curly brackets. They contain key value pairs. A key and its corresponding value are separated by a colon: "
   ]
  },
  {
   "cell_type": "code",
   "execution_count": 1,
   "metadata": {},
   "outputs": [
    {
     "data": {
      "text/plain": [
       "8550405"
      ]
     },
     "execution_count": 1,
     "metadata": {},
     "output_type": "execute_result"
    }
   ],
   "source": [
    "city_population = {\"New York City\": 8_550_405, \n",
    "                   \"Los Angeles\": 3_971_883, \n",
    "                   \"Toronto\": 2_731_571, \n",
    "                   \"Chicago\": 2_720_546, \n",
    "                   \"Houston\": 2_296_224, \n",
    "                   \"Montreal\": 1_704_694, \n",
    "                   \"Calgary\": 1_239_220, \n",
    "                   \"Vancouver\": 631_486, \n",
    "                   \"Boston\": 667_137}\n"
   ]
  },
  {
   "cell_type": "markdown",
   "metadata": {},
   "source": [
    "We can access the value for a specific key by putting this key in brackets following the name of the dictionary:"
   ]
  },
  {
   "cell_type": "code",
   "execution_count": 2,
   "metadata": {},
   "outputs": [
    {
     "data": {
      "text/plain": [
       "8550405"
      ]
     },
     "execution_count": 2,
     "metadata": {},
     "output_type": "execute_result"
    }
   ],
   "source": [
    "city_population[\"New York City\"]"
   ]
  },
  {
   "cell_type": "code",
   "execution_count": 3,
   "metadata": {},
   "outputs": [
    {
     "data": {
      "text/plain": [
       "2731571"
      ]
     },
     "execution_count": 3,
     "metadata": {},
     "output_type": "execute_result"
    }
   ],
   "source": [
    "city_population[\"Toronto\"]"
   ]
  },
  {
   "cell_type": "code",
   "execution_count": 4,
   "metadata": {},
   "outputs": [
    {
     "data": {
      "text/plain": [
       "667137"
      ]
     },
     "execution_count": 4,
     "metadata": {},
     "output_type": "execute_result"
    }
   ],
   "source": [
    "city_population[\"Boston\"]"
   ]
  },
  {
   "cell_type": "markdown",
   "metadata": {},
   "source": [
    "What happens, if we try to access a key, i.e. a city in our example, which is not contained in the dictionary? We raise a KeyError:"
   ]
  },
  {
   "cell_type": "code",
   "execution_count": 5,
   "metadata": {},
   "outputs": [
    {
     "ename": "KeyError",
     "evalue": "'Detroit'",
     "output_type": "error",
     "traceback": [
      "\u001b[0;31m---------------------------------------------------------------------------\u001b[0m",
      "\u001b[0;31mKeyError\u001b[0m                                  Traceback (most recent call last)",
      "\u001b[0;32m<ipython-input-5-80e422418d76>\u001b[0m in \u001b[0;36m<module>\u001b[0;34m\u001b[0m\n\u001b[0;32m----> 1\u001b[0;31m \u001b[0mcity_population\u001b[0m\u001b[0;34m[\u001b[0m\u001b[0;34m\"Detroit\"\u001b[0m\u001b[0;34m]\u001b[0m\u001b[0;34m\u001b[0m\u001b[0;34m\u001b[0m\u001b[0m\n\u001b[0m",
      "\u001b[0;31mKeyError\u001b[0m: 'Detroit'"
     ]
    }
   ],
   "source": [
    "city_population[\"Detroit\"]"
   ]
  },
  {
   "cell_type": "markdown",
   "metadata": {},
   "source": [
    "A frequently asked question is if dictionary objects are ordered. The uncertainty arises from the fact that dictionaries were not sorted in versions before Python 3.7. In Python 3.7 and all later versions, dictionaries are sorted by the order of item insertion. In our example this means the dictionary keeps the order in which we defined the dictionary. You can see this by printing the dictionary:"
   ]
  },
  {
   "cell_type": "code",
   "execution_count": 6,
   "metadata": {},
   "outputs": [
    {
     "data": {
      "text/plain": [
       "{'New York City': 8550405,\n",
       " 'Los Angeles': 3971883,\n",
       " 'Toronto': 2731571,\n",
       " 'Chicago': 2720546,\n",
       " 'Houston': 2296224,\n",
       " 'Montreal': 1704694,\n",
       " 'Calgary': 1239220,\n",
       " 'Vancouver': 631486,\n",
       " 'Boston': 667137}"
      ]
     },
     "execution_count": 6,
     "metadata": {},
     "output_type": "execute_result"
    }
   ],
   "source": [
    "city_population"
   ]
  },
  {
   "cell_type": "markdown",
   "metadata": {},
   "source": [
    "Yet, ordering doesn't mean that you have a way of directly calling the nth element of a dictionary. So trying to access a dictionary with a number - like we do with lists - will result in an exception:"
   ]
  },
  {
   "cell_type": "code",
   "execution_count": 7,
   "metadata": {},
   "outputs": [
    {
     "ename": "KeyError",
     "evalue": "0",
     "output_type": "error",
     "traceback": [
      "\u001b[0;31m---------------------------------------------------------------------------\u001b[0m",
      "\u001b[0;31mKeyError\u001b[0m                                  Traceback (most recent call last)",
      "\u001b[0;32m<ipython-input-7-a4816f909f86>\u001b[0m in \u001b[0;36m<module>\u001b[0;34m\u001b[0m\n\u001b[0;32m----> 1\u001b[0;31m \u001b[0mcity_population\u001b[0m\u001b[0;34m[\u001b[0m\u001b[0;36m0\u001b[0m\u001b[0;34m]\u001b[0m\u001b[0;34m\u001b[0m\u001b[0;34m\u001b[0m\u001b[0m\n\u001b[0m",
      "\u001b[0;31mKeyError\u001b[0m: 0"
     ]
    }
   ],
   "source": [
    "city_population[0]"
   ]
  },
  {
   "cell_type": "markdown",
   "metadata": {},
   "source": [
    "It is very easy to add another entry to an existing dictionary:"
   ]
  },
  {
   "cell_type": "code",
   "execution_count": 8,
   "metadata": {},
   "outputs": [
    {
     "data": {
      "text/plain": [
       "{'New York City': 8550405,\n",
       " 'Los Angeles': 3971883,\n",
       " 'Toronto': 2731571,\n",
       " 'Chicago': 2720546,\n",
       " 'Houston': 2296224,\n",
       " 'Montreal': 1704694,\n",
       " 'Calgary': 1239220,\n",
       " 'Vancouver': 631486,\n",
       " 'Boston': 667137,\n",
       " 'Halifax': 390096}"
      ]
     },
     "execution_count": 8,
     "metadata": {},
     "output_type": "execute_result"
    }
   ],
   "source": [
    "city_population[\"Halifax\"] = 390096\n",
    "city_population"
   ]
  },
  {
   "cell_type": "markdown",
   "metadata": {},
   "source": [
    "So, it's possible to create a dictionary incrementally by starting with an empty dictionary. We haven't mentioned so far, how to define an empty one. It can be done by using an empty pair of brackets. The following defines an empty dictionary called city:"
   ]
  },
  {
   "cell_type": "code",
   "execution_count": null,
   "metadata": {},
   "outputs": [],
   "source": [
    "city_population = {}\n",
    "city_population"
   ]
  },
  {
   "cell_type": "code",
   "execution_count": null,
   "metadata": {},
   "outputs": [],
   "source": [
    "city_population['New York City'] = 8550405\n",
    "city_population['Los Angeles'] = 3971883\n",
    "city_population"
   ]
  },
  {
   "cell_type": "markdown",
   "metadata": {},
   "source": [
    "Looking at our first examples with the cities and their population, you might have gotten the wrong impression that the values in the dictionaries have to be different. The values can be the same, as you can see in the following example. In honour to the patron saint of Python \"Monty Python\", we'll have now some special food dictionaries. What's Python without \"bacon\", \"egg\" and \"spam\"?"
   ]
  },
  {
   "cell_type": "code",
   "execution_count": null,
   "metadata": {},
   "outputs": [],
   "source": [
    "food = {\"bacon\": \"yes\", \"egg\": \"yes\", \"spam\": \"no\" }\n",
    "food"
   ]
  },
  {
   "cell_type": "markdown",
   "metadata": {},
   "source": [
    "Keys of a dictionary are unique. In casse a keys is defined multiple times, the value of the last \"wins\":"
   ]
  },
  {
   "cell_type": "code",
   "execution_count": null,
   "metadata": {},
   "outputs": [],
   "source": [
    "food = {\"bacon\" : \"yes\", \"spam\" : \"yes\", \"egg\" : \"yes\", \"spam\" : \"no\" }\n",
    "food"
   ]
  },
  {
   "cell_type": "markdown",
   "metadata": {},
   "source": [
    "Our next example is a simple English-German dictionary:"
   ]
  },
  {
   "cell_type": "code",
   "execution_count": null,
   "metadata": {},
   "outputs": [],
   "source": [
    "en_de = {\"red\" : \"rot\", \"green\" : \"grün\", \"blue\" : \"blau\", \"yellow\":\"gelb\"}\n",
    "print(en_de)\n",
    "print(en_de[\"red\"])"
   ]
  },
  {
   "cell_type": "markdown",
   "metadata": {},
   "source": [
    "What about having another language dictionary, let's say German-French?"
   ]
  },
  {
   "cell_type": "markdown",
   "metadata": {},
   "source": [
    "Now it's even possible to translate from English to French, even though we don't have an English-French-dictionary. de_fr[en_de[\"red\"]] gives us the French word for \"red\", i.e. \"rouge\":"
   ]
  },
  {
   "cell_type": "code",
   "execution_count": null,
   "metadata": {},
   "outputs": [],
   "source": [
    "de_fr = {\"rot\": \"rouge\", \"grün\": \"vert\", \"blau\": \"bleu\", \"gelb\": \"jaune\"}\n",
    "en_de = {\"red\": \"rot\", \"green\": \"grün\", \"blue\": \"blau\", \"yellow\": \"gelb\"}\n",
    "print(en_de)"
   ]
  },
  {
   "cell_type": "code",
   "execution_count": null,
   "metadata": {},
   "outputs": [],
   "source": [
    "print(en_de[\"red\"])"
   ]
  },
  {
   "cell_type": "code",
   "execution_count": null,
   "metadata": {},
   "outputs": [],
   "source": [
    "de_fr = {\"rot\" : \"rouge\", \"grün\" : \"vert\", \"blau\" : \"bleu\", \"gelb\":\"jaune\"}\n",
    "print(\"The French word for red is: \" + de_fr[en_de[\"red\"]])"
   ]
  },
  {
   "cell_type": "markdown",
   "metadata": {},
   "source": [
    "We can use arbitrary types as values in a dictionary, but there is a restriction for the keys. Only immutable data types can be used as keys, i.e. no lists or dictionaries can be used:\n",
    "If you use a mutable data type as a key, you get an error message:"
   ]
  },
  {
   "cell_type": "code",
   "execution_count": null,
   "metadata": {},
   "outputs": [],
   "source": [
    "dic = {[1,2,3]: \"abc\"}"
   ]
  },
  {
   "cell_type": "markdown",
   "metadata": {},
   "source": [
    "Tuple as keys are okay, as you can see in the following example:"
   ]
  },
  {
   "cell_type": "code",
   "execution_count": null,
   "metadata": {},
   "outputs": [],
   "source": [
    "dic = {(1, 2, 3): \"abc\", 3.1415: \"abc\"}\n",
    "dic"
   ]
  },
  {
   "cell_type": "markdown",
   "metadata": {},
   "source": [
    "Let's improve our examples with the natural language dictionaries a bit. We create a dictionary of dictionaries:"
   ]
  },
  {
   "cell_type": "code",
   "execution_count": null,
   "metadata": {},
   "outputs": [],
   "source": [
    "en_de = {\"red\" : \"rot\", \"green\" : \"grün\", \"blue\" : \"blau\", \"yellow\":\"gelb\"}\n",
    "de_fr = {\"rot\" : \"rouge\", \"grün\" : \"vert\", \"blau\" : \"bleu\", \"gelb\":\"jaune\"}\n",
    "de_tr = {\"rot\": \"kırmızı\", \"grün\": \"yeşil\", \"blau\": \"mavi\", \"gelb\": \"jel\"}\n",
    "en_es = {\"red\" : \"rojo\", \"green\" : \"verde\", \"blue\" : \"azul\", \"yellow\":\"amarillo\"}\n",
    "\n",
    "dictionaries = {\"en_de\" : en_de, \"de_fr\" : de_fr, \"de_tr\": de_tr, \"en_es\": en_es}\n",
    "dictionaries"
   ]
  },
  {
   "cell_type": "code",
   "execution_count": null,
   "metadata": {},
   "outputs": [],
   "source": [
    "cn_de = {\"红\": \"rot\", \"绿\" : \"grün\", \"蓝\" : \"blau\", \"黄\" : \"gelb\"}\n",
    "de_ro = {'rot': 'roșu', 'gelb': 'galben', 'blau': 'albastru', 'grün': 'verde'}\n",
    "de_hex = {\"rot\" : \"#FF0000\", \"grün\" : \"#00FF00\", \"blau\" : \"0000FF\", \"gelb\":\"FFFF00\"}\n",
    "en_pl = {\"red\" : \"czerwony\", \"green\" : \"zielony\", \n",
    "         \"blue\" : \"niebieski\", \"yellow\" : \"żółty\"}\n",
    "de_it = {\"rot\": \"rosso\", \"gelb\": \"giallo\", \"blau\": \"blu\", \"grün\": \"verde\"}\n",
    "\n",
    "dictionaries[\"cn_de\"] = cn_de\n",
    "dictionaries[\"de_ro\"] = de_ro\n",
    "dictionaries[\"de_hex\"] = de_hex\n",
    "dictionaries[\"en_pl\"] = en_pl\n",
    "dictionaries[\"de_it\"] = de_it\n",
    "dictionaries"
   ]
  },
  {
   "cell_type": "markdown",
   "metadata": {},
   "source": [
    "A dictionary of dictionaries."
   ]
  },
  {
   "cell_type": "code",
   "execution_count": null,
   "metadata": {},
   "outputs": [],
   "source": [
    "dictionaries[\"en_de\"]     # English to German dictionary"
   ]
  },
  {
   "cell_type": "code",
   "execution_count": null,
   "metadata": {},
   "outputs": [],
   "source": [
    "dictionaries[\"de_fr\"]     # German to French"
   ]
  },
  {
   "cell_type": "code",
   "execution_count": null,
   "metadata": {},
   "outputs": [],
   "source": [
    "print(dictionaries[\"de_fr\"][\"blau\"])    # equivalent to de_fr['blau']"
   ]
  },
  {
   "cell_type": "code",
   "execution_count": null,
   "metadata": {},
   "outputs": [],
   "source": [
    "de_fr['blau']"
   ]
  },
  {
   "cell_type": "code",
   "execution_count": null,
   "metadata": {},
   "outputs": [],
   "source": [
    "lang_pair = input(\"Which dictionary, e.g. 'de_fr', 'en_de': \")\n",
    "word_to_be_translated = input(\"Which colour: \")\n",
    "\n",
    "d = dictionaries[lang_pair]\n",
    "if word_to_be_translated in d:\n",
    "    print(word_to_be_translated + \" --> \" + d[word_to_be_translated])"
   ]
  },
  {
   "cell_type": "code",
   "execution_count": null,
   "metadata": {},
   "outputs": [],
   "source": [
    "dictionaries['de_fr'][dictionaries['en_de']['red']]"
   ]
  },
  {
   "cell_type": "code",
   "execution_count": null,
   "metadata": {},
   "outputs": [],
   "source": [
    "de_fr"
   ]
  },
  {
   "cell_type": "code",
   "execution_count": null,
   "metadata": {},
   "outputs": [],
   "source": [
    "for value in de_fr.values():\n",
    "    print(value)"
   ]
  },
  {
   "cell_type": "code",
   "execution_count": null,
   "metadata": {},
   "outputs": [],
   "source": [
    "for key, value in de_fr.items():\n",
    "    print(key, value)"
   ]
  },
  {
   "cell_type": "code",
   "execution_count": null,
   "metadata": {},
   "outputs": [],
   "source": [
    "fr_de = {}\n",
    "fr_de['rouge'] = 'rot'\n",
    "fr_de['vert'] = \"grün\""
   ]
  },
  {
   "cell_type": "code",
   "execution_count": null,
   "metadata": {},
   "outputs": [],
   "source": [
    "fr_de = {}\n",
    "for key, value in de_fr.items():\n",
    "    fr_de[value] = key             # key and value are swapped\n",
    "\n",
    "fr_de"
   ]
  },
  {
   "cell_type": "code",
   "execution_count": null,
   "metadata": {},
   "outputs": [],
   "source": [
    "de_cn = {}\n",
    "for key, value in cn_de.items():\n",
    "    de_cn[value] = key\n",
    "de_cn"
   ]
  },
  {
   "cell_type": "markdown",
   "metadata": {},
   "source": [
    "### Operators in Dictionaries"
   ]
  },
  {
   "cell_type": "markdown",
   "metadata": {},
   "source": [
    "|Operator   |                                       Explanation                           |\n",
    "|-----------|-----------------------------------------------------------------------------| \n",
    "|len(d)     | returns the number of stored entries, i.e. the number of (key,value) pairs. |\n",
    "|del d[k]   |\tdeletes the key k together with his value                                 |\n",
    "|k in d     |\tTrue, if a key k exists in the dictionary d                               |\n",
    "|k not in d |\tTrue, if a key k doesn't exist in the dictionary d                        |"
   ]
  },
  {
   "cell_type": "markdown",
   "metadata": {},
   "source": [
    "Examples:\n",
    "The following dictionary contains a mapping from latin characters to morsecode."
   ]
  },
  {
   "cell_type": "code",
   "execution_count": null,
   "metadata": {},
   "outputs": [],
   "source": [
    "%%writefile morsecode.py\n",
    "morse = {\n",
    "\"A\" : \".-\", \n",
    "\"B\" : \"-...\", \n",
    "\"C\" : \"-.-.\", \n",
    "\"D\" : \"-..\", \n",
    "\"E\" : \".\", \n",
    "\"F\" : \"..-.\", \n",
    "\"G\" : \"--.\", \n",
    "\"H\" : \"....\", \n",
    "\"I\" : \"..\", \n",
    "\"J\" : \".---\", \n",
    "\"K\" : \"-.-\", \n",
    "\"L\" : \".-..\", \n",
    "\"M\" : \"--\", \n",
    "\"N\" : \"-.\", \n",
    "\"O\" : \"---\", \n",
    "\"P\" : \".--.\", \n",
    "\"Q\" : \"--.-\", \n",
    "\"R\" : \".-.\", \n",
    "\"S\" : \"...\", \n",
    "\"T\" : \"-\", \n",
    "\"U\" : \"..-\", \n",
    "\"V\" : \"...-\", \n",
    "\"W\" : \".--\", \n",
    "\"X\" : \"-..-\", \n",
    "\"Y\" : \"-.--\", \n",
    "\"Z\" : \"--..\", \n",
    "\"0\" : \"-----\", \n",
    "\"1\" : \".----\", \n",
    "\"2\" : \"..---\", \n",
    "\"3\" : \"...--\", \n",
    "\"4\" : \"....-\", \n",
    "\"5\" : \".....\", \n",
    "\"6\" : \"-....\", \n",
    "\"7\" : \"--...\", \n",
    "\"8\" : \"---..\", \n",
    "\"9\" : \"----.\", \n",
    "\".\" : \".-.-.-\", \n",
    "\",\" : \"--..--\"\n",
    "}"
   ]
  },
  {
   "cell_type": "markdown",
   "metadata": {},
   "source": [
    "If you save this dictionary as morsecode.py, you can easily follow the following examples. At first you have to import this dictionary:"
   ]
  },
  {
   "cell_type": "code",
   "execution_count": null,
   "metadata": {},
   "outputs": [],
   "source": [
    "from morsecode import morse "
   ]
  },
  {
   "cell_type": "markdown",
   "metadata": {},
   "source": [
    "The numbers of characters contained in this dictionary can be determined by calling the len function:"
   ]
  },
  {
   "cell_type": "code",
   "execution_count": null,
   "metadata": {},
   "outputs": [],
   "source": [
    "len(morse)\n",
    "38"
   ]
  },
  {
   "cell_type": "markdown",
   "metadata": {},
   "source": [
    "The dictionary contains only upper case characters, so that \"a\" returns False, for example:"
   ]
  },
  {
   "cell_type": "code",
   "execution_count": null,
   "metadata": {},
   "outputs": [],
   "source": [
    "\"a\" in morse"
   ]
  },
  {
   "cell_type": "code",
   "execution_count": null,
   "metadata": {},
   "outputs": [],
   "source": [
    "\"A\" in morse"
   ]
  },
  {
   "cell_type": "code",
   "execution_count": null,
   "metadata": {},
   "outputs": [],
   "source": [
    "\"a\" not in morse"
   ]
  },
  {
   "cell_type": "code",
   "execution_count": null,
   "metadata": {},
   "outputs": [],
   "source": [
    "word = input(\"Your word: \")\n",
    "\n",
    "for char in word.upper():\n",
    "    print(char, morse[char])"
   ]
  },
  {
   "cell_type": "code",
   "execution_count": null,
   "metadata": {},
   "outputs": [],
   "source": [
    "word = input(\"Your word: \")\n",
    "\n",
    "morse_word = \"\"\n",
    "for char in word.upper():\n",
    "    if char == \" \":\n",
    "        morse_word += \"   \"\n",
    "    else:\n",
    "        if char not in morse:\n",
    "            continue          # continue with next char, go back to for\n",
    "        morse_word += morse[char] + \" \"\n",
    "\n",
    "print(morse_word)"
   ]
  },
  {
   "cell_type": "code",
   "execution_count": null,
   "metadata": {},
   "outputs": [],
   "source": [
    "for i in range(15):\n",
    "    if i == 13:\n",
    "        continue\n",
    "    print(i)"
   ]
  },
  {
   "cell_type": "markdown",
   "metadata": {},
   "source": [
    "### pop() and popitem()\n",
    "\n",
    "#### pop\n",
    "\n",
    "Lists can be used as stacks and the operator pop() is used to take an element from the stack. So far, so good for lists, but does it make sense to have a pop() method for dictionaries? After all, a dict is not a sequence data type, i.e. there is no ordering and no indexing. Therefore, pop() is defined differently with dictionaries. Keys and values are implemented in an arbitrary order, which is not random, but depends on the implementation.\n",
    "If D is a dictionary, then D.pop(k) removes the key k with its value from the dictionary D and returns the corresponding value as the return value, i.e. D[k].\n"
   ]
  },
  {
   "cell_type": "code",
   "execution_count": null,
   "metadata": {},
   "outputs": [],
   "source": [
    "en_de = {\"Austria\":\"Vienna\", \"Switzerland\":\"Bern\", \"Germany\":\"Berlin\", \"Netherlands\":\"Amsterdam\"}\n",
    "capitals = {\"Austria\":\"Vienna\", \"Germany\":\"Berlin\", \"Netherlands\":\"Amsterdam\"}\n",
    "capital = capitals.pop(\"Austria\")\n",
    "print(capital)"
   ]
  },
  {
   "cell_type": "markdown",
   "metadata": {},
   "source": [
    "If the key is not found, a KeyError is raised:"
   ]
  },
  {
   "cell_type": "code",
   "execution_count": null,
   "metadata": {},
   "outputs": [],
   "source": [
    "print(capitals)\n",
    "{'Netherlands': 'Amsterdam', 'Germany': 'Berlin'}\n",
    "capital = capitals.pop(\"Switzerland\")"
   ]
  },
  {
   "cell_type": "markdown",
   "metadata": {},
   "source": [
    "If we try to find out the capital of Switzerland in the previous example, we raise a KeyError. To prevent these errors, there is an elegant way. The method pop() has an optional second parameter, which can be used as a default value:"
   ]
  },
  {
   "cell_type": "code",
   "execution_count": null,
   "metadata": {},
   "outputs": [],
   "source": [
    "capital = capitals.pop(\"Switzerland\", \"Bern\")\n",
    "print(capital)"
   ]
  },
  {
   "cell_type": "code",
   "execution_count": null,
   "metadata": {},
   "outputs": [],
   "source": [
    "capital = capitals.pop(\"France\", \"Paris\")\n",
    "print(capital)"
   ]
  },
  {
   "cell_type": "code",
   "execution_count": null,
   "metadata": {},
   "outputs": [],
   "source": [
    "capital = capitals.pop(\"Germany\", \"München\")\n",
    "print(capital)"
   ]
  },
  {
   "cell_type": "markdown",
   "metadata": {},
   "source": [
    "#### popitem\n",
    "\n",
    "popitem() is a method of dict, which doesn't take any parameter and removes and returns an arbitrary (key,value) pair as a 2-tuple. If popitem() is applied on an empty dictionary, a KeyError will be raised."
   ]
  },
  {
   "cell_type": "code",
   "execution_count": null,
   "metadata": {},
   "outputs": [],
   "source": [
    "capitals = {\"Springfield\": \"Illinois\", \n",
    "            \"Augusta\": \"Maine\", \n",
    "            \"Boston\": \"Massachusetts\", \n",
    "            \"Lansing\": \"Michigan\", \n",
    "            \"Albany\": \"New York\", \n",
    "            \"Olympia\": \"Washington\", \n",
    "            \"Toronto\": \"Ontario\"}\n",
    "(city, state) = capitals.popitem()\n",
    "(city, state)"
   ]
  },
  {
   "cell_type": "code",
   "execution_count": null,
   "metadata": {},
   "outputs": [],
   "source": [
    "print(capitals.popitem())"
   ]
  },
  {
   "cell_type": "code",
   "execution_count": null,
   "metadata": {},
   "outputs": [],
   "source": [
    "print(capitals.popitem())"
   ]
  },
  {
   "cell_type": "code",
   "execution_count": null,
   "metadata": {},
   "outputs": [],
   "source": [
    "print(capitals.popitem())"
   ]
  },
  {
   "cell_type": "code",
   "execution_count": null,
   "metadata": {},
   "outputs": [],
   "source": [
    "print(capitals.popitem())"
   ]
  },
  {
   "cell_type": "markdown",
   "metadata": {},
   "source": [
    "### Accessing Non-existing Keys\n",
    "\n",
    "If you try to access a key which doesn't exist, you will get an error message:"
   ]
  },
  {
   "cell_type": "code",
   "execution_count": null,
   "metadata": {},
   "outputs": [],
   "source": [
    "locations = {\"Toronto\": \"Ontario\", \"Vancouver\": \"British Columbia\"}\n",
    "locations[\"Ottawa\"]"
   ]
  },
  {
   "cell_type": "markdown",
   "metadata": {},
   "source": [
    "You can prevent this by using the \"in\" operator:"
   ]
  },
  {
   "cell_type": "code",
   "execution_count": null,
   "metadata": {},
   "outputs": [],
   "source": [
    "province = \"Ottawa\"\n",
    "\n",
    "if province in locations: \n",
    "    print(locations[province])\n",
    "else:\n",
    "    print(province + \" is not in locations\")"
   ]
  },
  {
   "cell_type": "markdown",
   "metadata": {},
   "source": [
    "Another method to access the values via the key consists in using the get() method. get() is not raising an error, if an index doesn't exist. In this case it will return None. It's also possible to set a default value, which will be returned, if an index doesn't exist:\n"
   ]
  },
  {
   "cell_type": "code",
   "execution_count": null,
   "metadata": {},
   "outputs": [],
   "source": [
    "proj_language = {\"proj1\":\"Python\", \"proj2\":\"Perl\", \"proj3\":\"Java\"}\n",
    "proj_language[\"proj1\"]"
   ]
  },
  {
   "cell_type": "code",
   "execution_count": null,
   "metadata": {},
   "outputs": [],
   "source": [
    "proj_language.get(\"proj2\")"
   ]
  },
  {
   "cell_type": "code",
   "execution_count": null,
   "metadata": {},
   "outputs": [],
   "source": [
    "proj_language.get(\"proj4\")\n",
    "print(proj_language.get(\"proj4\")) "
   ]
  },
  {
   "cell_type": "code",
   "execution_count": null,
   "metadata": {},
   "outputs": [],
   "source": [
    "# setting a default value:\n",
    "proj_language.get(\"proj4\", \"Python\")"
   ]
  },
  {
   "cell_type": "markdown",
   "metadata": {},
   "source": [
    "### Important Methods\n",
    "A dictionary can be copied with the method copy():\n",
    "\n",
    "#### copy()"
   ]
  },
  {
   "cell_type": "code",
   "execution_count": null,
   "metadata": {},
   "outputs": [],
   "source": [
    "words = {'house': 'Haus', 'cat': 'Katze'}\n",
    "w = words.copy()\n",
    "words[\"cat\"]=\"chat\"\n",
    "print(w)"
   ]
  },
  {
   "cell_type": "code",
   "execution_count": null,
   "metadata": {},
   "outputs": [],
   "source": [
    "print(words)"
   ]
  },
  {
   "cell_type": "markdown",
   "metadata": {},
   "source": [
    "This copy is a shallow copy, not a deep copy. If a value is a complex data type like a list, for example, in-place changes in this object have effects on the copy as well:"
   ]
  },
  {
   "cell_type": "code",
   "execution_count": null,
   "metadata": {},
   "outputs": [],
   "source": [
    "trainings = { \"course1\":{\"title\":\"Python Training Course for Beginners\", \n",
    "                         \"location\":\"Frankfurt\", \n",
    "                         \"trainer\":\"Steve G. Snake\"},\n",
    "              \"course2\":{\"title\":\"Intermediate Python Training\",\n",
    "                         \"location\":\"Berlin\",\n",
    "                         \"trainer\":\"Ella M. Charming\"},\n",
    "              \"course3\":{\"title\":\"Python Text Processing Course\",\n",
    "                         \"location\":\"München\",\n",
    "                         \"trainer\":\"Monica A. Snowdon\"}\n",
    "              }\n",
    "\n",
    "trainings2 = trainings.copy()\n",
    "\n",
    "trainings[\"course2\"][\"title\"] = \"Perl Training Course for Beginners\"\n",
    "print(trainings2)"
   ]
  },
  {
   "cell_type": "markdown",
   "metadata": {},
   "source": [
    "If we check the output, we can see that the title of course2 has been changed not only in the dictionary training but in trainings2 as well."
   ]
  },
  {
   "cell_type": "markdown",
   "metadata": {},
   "source": [
    "Everything works the way you expect it, if you assign a new value, i.e. a new object, to a key:"
   ]
  },
  {
   "cell_type": "code",
   "execution_count": null,
   "metadata": {},
   "outputs": [],
   "source": [
    "trainings = { \"course1\": {\"title\": \"Python Training Course for Beginners\", \n",
    "                         \"location\": \"Frankfurt\", \n",
    "                         \"trainer\": \"Steve G. Snake\"},\n",
    "              \"course2\": {\"title\": \"Intermediate Python Training\",\n",
    "                         \"location\": \"Berlin\",\n",
    "                         \"trainer\": \"Ella M. Charming\"},\n",
    "              \"course3\": {\"title\": \"Python Text Processing Course\",\n",
    "                         \"location\": \"München\",\n",
    "                         \"trainer\": \"Monica A. Snowdon\"}\n",
    "              }\n",
    "\n",
    "trainings2 = trainings.copy()\n",
    "\n",
    "trainings[\"course2\"] = {\"title\": \"Perl Seminar for Beginners\",\n",
    "                         \"location\": \"Ulm\",\n",
    "                         \"trainer\": \"James D. Morgan\"}\n",
    "print(trainings2[\"course2\"])"
   ]
  },
  {
   "cell_type": "markdown",
   "metadata": {},
   "source": [
    "If you want to understand the reason for this behaviour, we recommend our chapter [\"Shallow and Deep Copy\"](python3_deep_copy.php).\n",
    "\n",
    "#### clear()\n",
    "The content of a dictionary can be cleared with the method clear(). The dictionary is not deleted, but set to an empty dictionary:"
   ]
  },
  {
   "cell_type": "code",
   "execution_count": null,
   "metadata": {},
   "outputs": [],
   "source": [
    "w.clear()\n",
    "print(w)"
   ]
  },
  {
   "cell_type": "markdown",
   "metadata": {},
   "source": [
    "### Update: Merging Dictionaries\n",
    "\n",
    "What about concatenating dictionaries, like we did with lists? There is someting similar for dictionaries: the update method\n",
    "update() merges the keys and values of one dictionary into another, overwriting values of the same key: "
   ]
  },
  {
   "cell_type": "code",
   "execution_count": null,
   "metadata": {},
   "outputs": [],
   "source": [
    "knowledge = {\"Frank\": {\"Perl\"}, \"Monica\":{\"C\",\"C++\"}}\n",
    "knowledge2 = {\"Guido\":{\"Python\"}, \"Frank\":{\"Perl\", \"Python\"}}\n",
    "knowledge.update(knowledge2)\n",
    "knowledge"
   ]
  },
  {
   "cell_type": "markdown",
   "metadata": {},
   "source": [
    "### Iterating over a Dictionary\n",
    "\n",
    "No method is needed to iterate over the keys of a dictionary:"
   ]
  },
  {
   "cell_type": "code",
   "execution_count": null,
   "metadata": {},
   "outputs": [],
   "source": [
    "d = {\"a\":123, \"b\":34, \"c\":304, \"d\":99}\n",
    "for key in d:\n",
    "     print(key) "
   ]
  },
  {
   "cell_type": "markdown",
   "metadata": {},
   "source": [
    "However, it's possible to use the method keys(), we will get the same result:"
   ]
  },
  {
   "cell_type": "code",
   "execution_count": null,
   "metadata": {},
   "outputs": [],
   "source": [
    "for key in d.keys():\n",
    "     print(key) "
   ]
  },
  {
   "cell_type": "markdown",
   "metadata": {},
   "source": [
    "The method values() is a convenient way for iterating directly over the values:"
   ]
  },
  {
   "cell_type": "code",
   "execution_count": null,
   "metadata": {},
   "outputs": [],
   "source": [
    "for value in d.values():\n",
    "    print(value)\n"
   ]
  },
  {
   "cell_type": "markdown",
   "metadata": {},
   "source": [
    "The above loop is logically equivalent to the following one:"
   ]
  },
  {
   "cell_type": "code",
   "execution_count": null,
   "metadata": {},
   "outputs": [],
   "source": [
    "for key in d:\n",
    "    print(d[key])"
   ]
  },
  {
   "cell_type": "markdown",
   "metadata": {},
   "source": [
    "We said logically, because the second way is less efficient!\n",
    "\n",
    "If you are familiar with the timeit possibility of ipython, you can measure the time used for the two alternatives:"
   ]
  },
  {
   "cell_type": "code",
   "execution_count": null,
   "metadata": {},
   "outputs": [],
   "source": [
    "%%timeit  d = {\"a\":123, \"b\":34, \"c\":304, \"d\":99}\n",
    "for key in d.keys():\n",
    "    x = d[key]"
   ]
  },
  {
   "cell_type": "code",
   "execution_count": null,
   "metadata": {},
   "outputs": [],
   "source": [
    "%%timeit  d = {\"a\":123, \"b\":34, \"c\":304, \"d\":99}\n",
    "for value in d.values():\n",
    "    x = value"
   ]
  },
  {
   "cell_type": "markdown",
   "metadata": {},
   "source": [
    "\n",
    "### Connection between Lists and Dictionaries\n",
    "\n",
    "\n",
    "<img width=200 height=200 class=\"imgright\" src=\"../images/zipper_sphere.webp\" alt=\"Zipper on a Ball\" />\n",
    "\n",
    " \n",
    "\n",
    "If you have worked for a while with Python, nearly inevitably the moment will come, when you want or have to convert lists into dictionaries or vice versa. It wouldn't be too hard to write a function doing this. But Python wouldn't be Python, if it didn't provide such functionalities.\n",
    "\n",
    "If we have a dictionary"
   ]
  },
  {
   "cell_type": "code",
   "execution_count": null,
   "metadata": {},
   "outputs": [],
   "source": [
    "D = {\"list\": \"Liste\", \"dictionary\": \"Wörterbuch\", \"function\": \"Funktion\"}"
   ]
  },
  {
   "cell_type": "markdown",
   "metadata": {},
   "source": [
    "we could turn this into a list with two-tuples:"
   ]
  },
  {
   "cell_type": "code",
   "execution_count": null,
   "metadata": {},
   "outputs": [],
   "source": [
    "L = [(\"list\", \"Liste\"), (\"dictionary\", \"Wörterbuch\"), (\"function\", \"Funktion\")]"
   ]
  },
  {
   "cell_type": "markdown",
   "metadata": {},
   "source": [
    "The list L and the dictionary D contain the same content, i.e. the information content, or to express \"The entropy of L and D is the same\" sententiously. Of course, the information is harder to retrieve from the list L than from the dictionary D. To find a certain key in L, we would have to browse through the tuples of the list and compare the first components of the tuples with the key we are looking for. The dictionary search is implicitly implemented for maximum efficiency\n",
    "\n",
    "\n",
    "### Lists from Dictionaries\n",
    "\n",
    "It's possible to create lists from dictionaries by using the methods items(), keys() and values(). As the name implies the method keys() creates a list, which consists solely of the keys of the dictionary. values() produces a list consisting of the values. items() can be used to create a list consisting of 2-tuples of (key,value)-pairs:\n"
   ]
  },
  {
   "cell_type": "code",
   "execution_count": null,
   "metadata": {},
   "outputs": [],
   "source": [
    "w = {\"house\": \"Haus\", \"cat\": \"\", \"red\": \"rot\"}\n",
    "items_view = w.items()\n",
    "items = list(items_view)\n",
    "items"
   ]
  },
  {
   "cell_type": "code",
   "execution_count": null,
   "metadata": {},
   "outputs": [],
   "source": [
    "keys_view = w.keys()\n",
    "keys = list(keys_view)\n",
    "keys"
   ]
  },
  {
   "cell_type": "code",
   "execution_count": null,
   "metadata": {},
   "outputs": [],
   "source": [
    "values_view = w.values()\n",
    "values = list(values_view)\n",
    "values"
   ]
  },
  {
   "cell_type": "code",
   "execution_count": null,
   "metadata": {},
   "outputs": [],
   "source": [
    "values_view"
   ]
  },
  {
   "cell_type": "code",
   "execution_count": null,
   "metadata": {},
   "outputs": [],
   "source": [
    "items_view "
   ]
  },
  {
   "cell_type": "code",
   "execution_count": null,
   "metadata": {},
   "outputs": [],
   "source": [
    "keys_view"
   ]
  },
  {
   "cell_type": "markdown",
   "metadata": {},
   "source": [
    "If we apply the method items() to a dictionary, we don't get a list back, as it used to be the case in Python 2, but a so-called items view. The items view can be turned into a list by applying the list function. We have no information loss by turning a dictionary into an item view or an items list, i.e. it is possible to recreate the original dictionary from the view created by items(). Even though this list of 2-tuples has the same entropy, i.e. the information content is the same, the efficiency of both approaches is completely different. The dictionary data type provides highly efficient methods to access, delete and change the elements of the dictionary, while in the case of lists these functions have to be implemented by the programmer.\n",
    "\n",
    "### Turn Lists into Dictionaries\n",
    "Now we will turn our attention to the art of cooking, but don't be afraid, this remains a python course and not a cooking course. We want to show you, how to turn lists into dictionaries, if these lists satisfy certain conditions.\n",
    "We have two lists, one containing the dishes and the other one the corresponding countries:"
   ]
  },
  {
   "cell_type": "markdown",
   "metadata": {},
   "source": [
    "Now we will create a dictionary, which assigns a dish, a country-specific dish, to a country; please forgive us for resorting to the common prejudices. For this purpose, we need the function zip(). The name zip was well chosen, because the two lists get combined, functioning like a zipper. The result is a list iterator.<sup>1</sup> This means that we have to wrap a list() casting function around the zip call to get a list so that we can see what is going on:"
   ]
  },
  {
   "cell_type": "code",
   "execution_count": null,
   "metadata": {},
   "outputs": [],
   "source": [
    "dishes = [\"pizza\", \"sauerkraut\", \"paella\", \"hamburger\"]\n",
    "countries = [\"Italy\", \"Germany\", \"Spain\", \"USA\"]\n",
    "country_specialities_iterator = zip(countries, dishes)\n",
    "country_specialities_iterator"
   ]
  },
  {
   "cell_type": "code",
   "execution_count": null,
   "metadata": {},
   "outputs": [],
   "source": [
    "country_specialities = list(country_specialities_iterator)\n",
    "print(country_specialities) "
   ]
  },
  {
   "cell_type": "markdown",
   "metadata": {},
   "source": [
    "Alternatively, you could have iteras over the zip object in a for loop. This way we are not creating a list, which is more efficient, if we only want to iterate over the values and don't need a list."
   ]
  },
  {
   "cell_type": "code",
   "execution_count": null,
   "metadata": {},
   "outputs": [],
   "source": [
    "for country, dish in zip(countries, dishes):\n",
    "    print(country, dish)"
   ]
  },
  {
   "cell_type": "markdown",
   "metadata": {},
   "source": [
    "Now our country-specific dishes are in a list form, - i.e. a list of two-tuples, where the first components are seen as keys and the second components as values - which can be automatically turned into a dictionary by casting it with dict()."
   ]
  },
  {
   "cell_type": "code",
   "execution_count": null,
   "metadata": {},
   "outputs": [],
   "source": [
    "country_specialities_dict = dict(country_specialities)\n",
    "print(country_specialities_dict)"
   ]
  },
  {
   "cell_type": "markdown",
   "metadata": {},
   "source": [
    "Yet, this is very inefficient, because we created a list of 2-tuples to turn this list into a dict. This can be done directly by applying dict to zip:"
   ]
  },
  {
   "cell_type": "code",
   "execution_count": null,
   "metadata": {},
   "outputs": [],
   "source": [
    "dishes = [\"pizza\", \"sauerkraut\", \"paella\", \"hamburger\"]\n",
    "countries = [\"Italy\", \"Germany\", \"Spain\", \"USA\"]\n",
    "dict(zip(countries, dishes)) "
   ]
  },
  {
   "cell_type": "markdown",
   "metadata": {},
   "source": [
    "There is still one question concerning the function zip(). What happens, if one of the two argument lists contains more elements than the other one?\n",
    "\n",
    "It's easy to answer: The superfluous elements, which cannot be paired, will be ignored:\n"
   ]
  },
  {
   "cell_type": "code",
   "execution_count": null,
   "metadata": {},
   "outputs": [],
   "source": [
    "dishes = [\"pizza\", \"sauerkraut\", \"paella\", \"hamburger\"]\n",
    "countries = [\"Italy\", \"Germany\", \"Spain\", \"USA\",\" Switzerland\"]\n",
    "country_specialities = list(zip(countries, dishes))\n",
    "country_specialities_dict = dict(country_specialities)\n",
    "print(country_specialities_dict)"
   ]
  },
  {
   "cell_type": "markdown",
   "metadata": {},
   "source": [
    "So in this course, we will not answer the question about what the national dish of Switzerland is.\n",
    "\n",
    "### Everything in One Step\n",
    "Normally, we recommend not implementing too many steps in one programming expression, though it looks more impressive and the code is more compact. Using \"talking\" variable names in intermediate steps can enhance legibility. Though it might be alluring to create our previous dictionary just in one go:\n"
   ]
  },
  {
   "cell_type": "code",
   "execution_count": null,
   "metadata": {},
   "outputs": [],
   "source": [
    "country_specialities_dict = dict(zip([\"pizza\", \"sauerkraut\", \"paella\", \"hamburger\"], \n",
    "                                     [\"Italy\", \"Germany\", \"Spain\", \"USA\",\" Switzerland\"]))\n",
    "print(country_specialities_dict)"
   ]
  },
  {
   "cell_type": "markdown",
   "metadata": {},
   "source": [
    "Of course, it is more readable like this:"
   ]
  },
  {
   "cell_type": "code",
   "execution_count": null,
   "metadata": {},
   "outputs": [],
   "source": [
    "dishes = [\"pizza\", \"sauerkraut\", \"paella\", \"hamburger\"]\n",
    "countries = [\"Italy\", \"Germany\", \"Spain\", \"USA\"]\n",
    "country_specialities_zip = zip(dishes,countries)\n",
    "country_specialities_dict = dict(country_specialities_zip)\n",
    "print(country_specialities_dict)"
   ]
  },
  {
   "cell_type": "markdown",
   "metadata": {},
   "source": [
    "We get the same result, as if we would have called it in one go.\n",
    "\n",
    "#### Danger Lurking\n",
    "Especialy for those migrating from Python 2.x to Python 3.x: zip() used to return a list, now it's returning an iterator. You have to keep in mind that iterators exhaust themselves, if they are used. You can see this in the following interactive session:"
   ]
  },
  {
   "cell_type": "code",
   "execution_count": null,
   "metadata": {},
   "outputs": [],
   "source": [
    "l1 = [\"a\",\"b\",\"c\"]\n",
    "l2 = [1,2,3]\n",
    "c = zip(l1, l2)\n",
    "for i in c:\n",
    "    print(i)"
   ]
  },
  {
   "cell_type": "markdown",
   "metadata": {},
   "source": [
    "This effect can be seen by calling the list casting operator as well:"
   ]
  },
  {
   "cell_type": "code",
   "execution_count": null,
   "metadata": {},
   "outputs": [],
   "source": [
    "l1 = [\"a\",\"b\",\"c\"]\n",
    "l2 = [1,2,3]\n",
    "c = zip(l1,l2)\n",
    "z1 = list(c)\n",
    "z2 = list(c)\n",
    "print(z1)"
   ]
  },
  {
   "cell_type": "code",
   "execution_count": null,
   "metadata": {},
   "outputs": [],
   "source": [
    "print(z2)"
   ]
  },
  {
   "cell_type": "markdown",
   "metadata": {},
   "source": [
    "As an exercise, you may muse about the following script. Why do we get an empty directory by calling ```dict(country_specialities_zip)```?"
   ]
  },
  {
   "cell_type": "code",
   "execution_count": null,
   "metadata": {},
   "outputs": [],
   "source": [
    "dishes = [\"pizza\", \"sauerkraut\", \"paella\", \"hamburger\"]\n",
    "countries = [\"Italy\", \"Germany\", \"Spain\", \"USA\"]\n",
    "country_specialities_zip = zip(dishes,countries)\n",
    "print(list(country_specialities_zip))\n",
    "\n",
    "country_specialities_dict = dict(country_specialities_zip)\n",
    "print(country_specialities_dict)"
   ]
  },
  {
   "cell_type": "markdown",
   "metadata": {},
   "source": [
    "### Exercises\n",
    "\n",
    "#### Exercise 1\n",
    "\n",
    "Write a function dict_merge_sum that takes two dictionaries ```d1``` and ```d2``` as parameters. The values of both dictionaries are numerical. The function should return the merged sum dictionary ```m``` of those dictionaries.  If a key ```k``` is both in ```d1``` and ```d2```, the corresponding values will be added and included in the dictionary ```m``` If ```k``` is only contained in one of the dictionaries, the ```k``` and the corresponding value will be included in ```m```\n",
    "\n",
    "#### Exercise 2\n",
    "\n",
    "Given is the following simplified data of a supermarket:\n",
    "\n"
   ]
  },
  {
   "cell_type": "code",
   "execution_count": null,
   "metadata": {},
   "outputs": [],
   "source": [
    "supermarket = { \"milk\": {\"quantity\": 20, \"price\": 1.19},\n",
    "               \"biscuits\":  {\"quantity\": 32, \"price\": 1.45},\n",
    "               \"butter\":  {\"quantity\": 20, \"price\": 2.29},\n",
    "               \"cheese\":  {\"quantity\": 15, \"price\": 1.90},\n",
    "               \"bread\":  {\"quantity\": 15, \"price\": 2.59},\n",
    "               \"cookies\":  {\"quantity\": 20, \"price\": 4.99},\n",
    "               \"yogurt\": {\"quantity\": 18, \"price\": 3.65},\n",
    "               \"apples\":  {\"quantity\": 35, \"price\": 3.15},\n",
    "               \"oranges\":  {\"quantity\": 40, \"price\": 0.99},\n",
    "               \"bananas\": {\"quantity\": 23, \"price\": 1.29}}"
   ]
  },
  {
   "cell_type": "markdown",
   "metadata": {},
   "source": [
    "To be ready for an imminent crisis you decide to buy everything. This isn't particularly social behavior, but for the sake of the task, let's imagine it. The question is how much will you have to pay?\n",
    "\n",
    "\n",
    "#### Exercise 3\n",
    "\n",
    "- Create a virtual supermarket. For every article there is a price per article and a quantity, i.e. the stock. (Hint: you can use the one from the previous exercise!)\n",
    "- Create shopping lists for customers. The shopping lists contain articles plus the quantity.\n",
    "- The customers fill their carts, one after the other. Check if enough goods are available! Create a receipt for each customer.\n",
    "\n",
    "\n",
    "#### Exercise 4\n",
    "\n",
    "Given is the island of Vannoth \n",
    "\n",
    "<img width=90% class=\"imgright\" src=\"../images/map_with_fake_cities_distances.webp\" srcset=\"../images/map_with_fake_cities_distances_800w.webp 800w,../images/map_with_fake_cities_distances_700w.webp 700w,../images/map_with_fake_cities_distances_600w.webp 600w,../images/map_with_fake_cities_distances_500w.webp 500w,../images/map_with_fake_cities_distances_400w.webp 400w,../images/map_with_fake_cities_distances_350w.webp 350w,../images/map_with_fake_cities_distances_300w.webp 300w\" alt=\"Island with fake Cities\" />\n",
    "\n",
    "Create a dictionary, where we get for every city of Vannoth the distance to the capital city of Rogeburgh\n",
    "\n",
    "#### Exercise 5\n",
    "\n",
    "Create a dictionary where you can get the distance between two arbitrary cities"
   ]
  },
  {
   "cell_type": "markdown",
   "metadata": {},
   "source": [
    "### Solutions\n",
    "\n",
    "#### Solution to Exercise 1\n",
    "\n",
    "We offer two solutions to this exercise: \n",
    "\n",
    "The first one is only using things you will have learned, if you followed our Python course sequentially. The second solution uses techniques which will be covered later in our tutorial.\n",
    "\n",
    "First solution:"
   ]
  },
  {
   "cell_type": "code",
   "execution_count": null,
   "metadata": {},
   "outputs": [],
   "source": [
    "def dict_merge_sum(d1, d2):\n",
    "    \"\"\" Merging and calculating the sum of two dictionaries: \n",
    "    Two dicionaries d1 and d2 with numerical values and\n",
    "    possibly disjoint keys are merged and the values are added if\n",
    "    the exist in both values, otherwise the missing value is taken to\n",
    "    be 0\"\"\"\n",
    "    \n",
    "    merged_sum = d1.copy()\n",
    "    for key, value in d2.items():\n",
    "        if key in d1:\n",
    "            d1[key] += value\n",
    "        else:\n",
    "            d1[key] = value\n",
    "    \n",
    "    return merged_sum\n",
    "\n",
    "d1 = dict(a=4, b=5, d=8)\n",
    "d2 = dict(a=1, d=10, e=9)\n",
    "\n",
    "dict_merge_sum(d1, d2)"
   ]
  },
  {
   "cell_type": "markdown",
   "metadata": {},
   "source": [
    "Second solution:"
   ]
  },
  {
   "cell_type": "code",
   "execution_count": null,
   "metadata": {},
   "outputs": [],
   "source": [
    "def dict_sum(d1, d2):\n",
    "    \"\"\"  Merging and calculating the sum of two dictionaries: \n",
    "    Two dicionaries d1 and d2 with numerical values and\n",
    "    possibly disjoint keys are merged and the values are added if\n",
    "    the exist in both values, otherwise the missing value is taken to\n",
    "    be 0\"\"\"\n",
    "    \n",
    "    return { k: d1.get(k, 0) + d2.get(k, 0) for k in set(d1) | set(d2) }\n",
    "\n",
    "d1 = dict(a=4, b=5, d=8)\n",
    "d2 = dict(a=1, d=10, e=9)\n",
    "\n",
    "dict_merge_sum(d1, d2)"
   ]
  },
  {
   "cell_type": "markdown",
   "metadata": {},
   "source": [
    "#### Solution to Exercise 2:"
   ]
  },
  {
   "cell_type": "code",
   "execution_count": null,
   "metadata": {},
   "outputs": [],
   "source": [
    "total_value = 0\n",
    "for article in supermarket:\n",
    "    quantity = supermarket[article][\"quantity\"]\n",
    "    price = supermarket[article][\"price\"]\n",
    "    total_value += quantity * price\n",
    "\n",
    "print(f\"The total price for buying everything: {total_value:7.2f}\")"
   ]
  },
  {
   "cell_type": "markdown",
   "metadata": {},
   "source": [
    "#### Solution to Exercise 3:\n",
    "\n"
   ]
  },
  {
   "cell_type": "code",
   "execution_count": null,
   "metadata": {},
   "outputs": [],
   "source": [
    "supermarket = { \"milk\": {\"quantity\": 20, \"price\": 1.19},\n",
    "               \"biscuits\":  {\"quantity\": 32, \"price\": 1.45},\n",
    "               \"butter\":  {\"quantity\": 20, \"price\": 2.29},\n",
    "               \"cheese\":  {\"quantity\": 15, \"price\": 1.90},\n",
    "               \"bread\":  {\"quantity\": 15, \"price\": 2.59},\n",
    "               \"cookies\":  {\"quantity\": 20, \"price\": 4.99},\n",
    "               \"yogurt\": {\"quantity\": 18, \"price\": 3.65},\n",
    "               \"apples\":  {\"quantity\": 35, \"price\": 3.15},\n",
    "               \"oranges\":  {\"quantity\": 40, \"price\": 0.99},\n",
    "               \"bananas\": {\"quantity\": 23, \"price\": 1.29}            \n",
    "              }\n",
    "\n",
    "\n",
    "\n",
    "customers = [\"Frank\", \"Mary\", \"Paul\"]\n",
    "shopping_lists = { \n",
    "   \"Frank\" : [('milk', 5), ('apples', 5), ('butter', 1), ('cookies', 1)],\n",
    "   \"Mary\":  [('apples', 2), ('cheese', 4), ('bread', 2), ('pears', 3), \n",
    "             ('bananas', 4), ('oranges', 1), ('cherries', 4)],\n",
    "   \"Paul\":  [('biscuits', 2), ('apples', 3), ('yogurt', 2), ('pears', 1), \n",
    "             ('butter', 3), ('cheese', 1), ('milk', 1), ('cookies', 4)]}\n",
    "\n",
    "    \n",
    "# filling the carts\n",
    "carts = {}\n",
    "for customer in customers:\n",
    "    carts[customer] = []\n",
    "    for article, quantity in shopping_lists[customer]:\n",
    "        if article in supermarket:\n",
    "            if supermarket[article][\"quantity\"] < quantity:\n",
    "                quantity = supermarket[article][\"quantity\"]\n",
    "            if quantity:\n",
    "                supermarket[article][\"quantity\"] -= quantity\n",
    "                carts[customer].append((article, quantity))\n",
    "for customer in customers:                            \n",
    "     print(carts[customer])\n",
    "            \n",
    "            \n",
    "print(\"checkout\")\n",
    "for customer in customers:\n",
    "    print(\"\\ncheckout for \" + customer + \":\")\n",
    "    total_sum = 0\n",
    "    for name, quantity in carts[customer]:\n",
    "        unit_price = supermarket[name][\"price\"]\n",
    "        item_sum = quantity * unit_price\n",
    "        print(f\"{quantity:3d} {name:12s} {unit_price:8.2f} {item_sum:8.2f}\")\n",
    "        total_sum += item_sum\n",
    "    print(f\"Total sum:             {total_sum:11.2f}\")"
   ]
  },
  {
   "cell_type": "markdown",
   "metadata": {},
   "source": [
    "Alternative solution to exercise 3, in which we create the chopping lists randomly:\n"
   ]
  },
  {
   "cell_type": "code",
   "execution_count": null,
   "metadata": {},
   "outputs": [],
   "source": [
    "import random\n",
    "\n",
    "supermarket = { \"milk\": {\"quantity\": 20, \"price\": 1.19},\n",
    "               \"biscuits\":  {\"quantity\": 32, \"price\": 1.45},\n",
    "               \"butter\":  {\"quantity\": 20, \"price\": 2.29},\n",
    "               \"cheese\":  {\"quantity\": 15, \"price\": 1.90},\n",
    "               \"bread\":  {\"quantity\": 15, \"price\": 2.59},\n",
    "               \"cookies\":  {\"quantity\": 20, \"price\": 4.99},\n",
    "               \"yogurt\": {\"quantity\": 18, \"price\": 3.65},\n",
    "               \"apples\":  {\"quantity\": 35, \"price\": 3.15},\n",
    "               \"oranges\":  {\"quantity\": 40, \"price\": 0.99},\n",
    "               \"bananas\": {\"quantity\": 23, \"price\": 1.29}            \n",
    "              }\n",
    "\n",
    "\n",
    "articles4shopping_lists = list(supermarket.keys()) + [\"pears\", \"cherries\"]\n",
    "\n",
    "max_articles_per_customer = 5 # not like a real supermarket :-)\n",
    "customers = [\"Frank\", \"Mary\", \"Paul\", \"Jennifer\"]\n",
    "shopping_lists = {}\n",
    "for customer in customers:\n",
    "    no_of_items = random.randint(1, len(articles4shopping_lists))\n",
    "    shopping_lists[customer] = []\n",
    "    for article_name in random.sample(articles4shopping_lists, no_of_items):\n",
    "        quantity = random.randint(1, max_articles_per_customer)\n",
    "        shopping_lists[customer].append((article_name, quantity))\n",
    "\n",
    "# let's look at the shopping lists\n",
    "print(\"Shopping lists:\")        \n",
    "for customer in customers:     \n",
    "    print(customer + \":  \" + str(shopping_lists[customer]))\n",
    "\n",
    "# filling the carts\n",
    "carts = {}\n",
    "for customer in customers:\n",
    "    carts[customer] = []\n",
    "    for article, quantity in shopping_lists[customer]:\n",
    "        if article in supermarket:\n",
    "            if supermarket[article][\"quantity\"] < quantity:\n",
    "                quantity = supermarket[article][\"quantity\"]\n",
    "            if quantity:\n",
    "                supermarket[article][\"quantity\"] -= quantity\n",
    "                carts[customer].append((article, quantity))\n",
    "\n",
    "\n",
    "print(\"\\nCheckout\")\n",
    "for customer in customers:\n",
    "    print(\"\\ncheckout for \" + customer + \":\")\n",
    "    total_sum = 0\n",
    "    for name, quantity in carts[customer]:\n",
    "        unit_price = supermarket[name][\"price\"]\n",
    "        item_sum = quantity * unit_price\n",
    "        print(f\"{quantity:3d} {name:12s} {unit_price:8.2f} {item_sum:8.2f}\")\n",
    "        total_sum += item_sum\n",
    "    print(f\"Total sum:             {total_sum:11.2f}\")"
   ]
  },
  {
   "cell_type": "markdown",
   "metadata": {},
   "source": [
    "#### Solution to Exercise 4:"
   ]
  },
  {
   "cell_type": "code",
   "execution_count": null,
   "metadata": {},
   "outputs": [],
   "source": [
    "rogerburgh = {'Smithstad': 5.2, 'Scottshire': 12.3, 'Clarkhaven': 14.9, 'Dixonshire': 12.7, 'Port Carol': 3.4}"
   ]
  },
  {
   "cell_type": "markdown",
   "metadata": {},
   "source": [
    "#### Solution to Exercise 5:"
   ]
  },
  {
   "cell_type": "code",
   "execution_count": null,
   "metadata": {},
   "outputs": [],
   "source": [
    "distances = {'Rogerburgh': {'Smithstad': 5.2, 'Scottshire': 12.3, 'Clarkhaven': 14.9, 'Dixonshire': 12.7, 'Port Carol': 3.4},\n",
    "             'Smithstad': {'Rogerburh': 5.2, 'Scottshire': 11.1, 'Clarkhaven': 19.1, 'Dixonshire': 17.9, 'Port Carol': 8.6},\n",
    "             'Scottshire': {'Smithstad': 11.1, 'Rogerburgh': 12.3, 'Clarkhaven': 18.1, 'Dixonshire': 19.3, 'Port Carol': 15.7},\n",
    "             'Clarkshaven': {'Smithstad': 19.1, 'Scottshire': 18.1, 'Rogerburgh': 14.9, 'Dixonshire': 6.8, 'Port Carol': 17.1},\n",
    "             'Dixonshire': {'Smithstad': 5.2, 'Scottshire': 12.3, 'Clarkhaven': 14.9, 'Rogerburg': 12.7, 'Port Carol': 16.1},\n",
    "             'Port Carol': {'Smithstad': 8.6, 'Scottshire': 15.7, 'Clarkhaven': 17.1, 'Dixonshire': 16.1, 'Rogerburgh': 3.4}     \n",
    "            }"
   ]
  },
  {
   "cell_type": "markdown",
   "metadata": {},
   "source": [
    "### Footnotes\n",
    "    \n",
    "<sup>1</sup>  If you would like to learn more about how iterators work and how to use them, we recommend that you go through our [Iterators and Generators chapter](python3_generators.php)."
   ]
  }
 ],
 "metadata": {
  "kernelspec": {
   "display_name": "Python 3",
   "language": "python",
   "name": "python3"
  },
  "language_info": {
   "codemirror_mode": {
    "name": "ipython",
    "version": 3
   },
   "file_extension": ".py",
   "mimetype": "text/x-python",
   "name": "python",
   "nbconvert_exporter": "python",
   "pygments_lexer": "ipython3",
   "version": "3.8.5"
  }
 },
 "nbformat": 4,
 "nbformat_minor": 4
}
