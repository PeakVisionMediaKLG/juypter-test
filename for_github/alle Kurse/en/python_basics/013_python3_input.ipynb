{
 "cells": [
  {
   "cell_type": "markdown",
   "metadata": {},
   "source": [
    "## Input from Keyboard\n",
    "\n",
    "### The input Function\n",
    "\n",
    "\n",
    "<img width=250 height=250 class=\"imgright\" src=\"../images/input_motion.webp\" srcset=\"../images/input_motion_350w.webp 350w,../images/input_motion_300w.webp 300w\" alt=\"Input via keyboard\" />\n",
    "\n",
    "There are hardly any programs without any input. Input can come in various ways, for example, from a database, another computer, mouse clicks and movements or from the internet. Yet, in most cases the input stems from the keyboard. For this purpose, Python provides the function input(). input has an optional parameter, which is the prompt string.\n",
    "\n",
    "If the input function is called, the program flow will be stopped until the user has given an input and has ended the input with the return key. The text of the optional parameter, i.e. the prompt, will be printed on the screen.\n",
    "\n",
    "The input of the user will be returned as a string without any changes. If this raw input has to be transformed into another data type needed by the algorithm, we can use either a casting function or the eval function.\n",
    "\n",
    "Let's have a look at the following example:"
   ]
  },
  {
   "cell_type": "code",
   "execution_count": 1,
   "metadata": {},
   "outputs": [
    {
     "name": "stdout",
     "output_type": "stream",
     "text": [
      "What's your name? Melisa\n",
      "Nice to meet you Melisa!\n"
     ]
    }
   ],
   "source": [
    "name = input(\"What's your name? \")\n",
    "print(\"Nice to meet you \" + name + \"!\")"
   ]
  },
  {
   "cell_type": "code",
   "execution_count": 2,
   "metadata": {},
   "outputs": [
    {
     "name": "stdout",
     "output_type": "stream",
     "text": [
      "Your age? 26\n",
      "So, you are already 26 years old, Melisa!\n"
     ]
    }
   ],
   "source": [
    "age = input(\"Your age? \")\n",
    "print(\"So, you are already \" + age + \" years old, \" + name + \"!\")"
   ]
  },
  {
   "cell_type": "markdown",
   "metadata": {},
   "source": [
    "We save the program as \"input_test.py\" and run it:"
   ]
  },
  {
   "cell_type": "markdown",
   "metadata": {},
   "source": [
    "<pre> $ python input_test.py \n",
    "What's your name? \"Frank\"\n",
    "Nice to meet you Frank!\n",
    "Your age? 42\n",
    "So, you are already 42 years old, Frank! </pre>"
   ]
  },
  {
   "cell_type": "markdown",
   "metadata": {},
   "source": [
    "We will further experiment with the input function in the following interactive Python session:"
   ]
  },
  {
   "cell_type": "code",
   "execution_count": 2,
   "metadata": {},
   "outputs": [
    {
     "name": "stdout",
     "output_type": "stream",
     "text": [
      "Largest cities in Canada: Toronto, Calgary, Montreal, Ottawa\n",
      "Toronto, Calgary, Montreal, Ottawa <class 'str'>\n"
     ]
    }
   ],
   "source": [
    "cities_canada = input(\"Largest cities in Canada: \")\n",
    "print(cities_canada, type(cities_canada))"
   ]
  },
  {
   "cell_type": "code",
   "execution_count": 3,
   "metadata": {},
   "outputs": [
    {
     "name": "stdout",
     "output_type": "stream",
     "text": [
      "Largest cities in Canada: Toronto, Calgary, Montreal, Ottawa\n"
     ]
    },
    {
     "ename": "NameError",
     "evalue": "name 'Toronto' is not defined",
     "output_type": "error",
     "traceback": [
      "\u001b[1;31m---------------------------------------------------------------------------\u001b[0m",
      "\u001b[1;31mNameError\u001b[0m                                 Traceback (most recent call last)",
      "\u001b[1;32m<ipython-input-3-4febe85dfcfd>\u001b[0m in \u001b[0;36m<module>\u001b[1;34m\u001b[0m\n\u001b[1;32m----> 1\u001b[1;33m \u001b[0mcities_canada\u001b[0m \u001b[1;33m=\u001b[0m \u001b[0meval\u001b[0m\u001b[1;33m(\u001b[0m\u001b[0minput\u001b[0m\u001b[1;33m(\u001b[0m\u001b[1;34m\"Largest cities in Canada: \"\u001b[0m\u001b[1;33m)\u001b[0m\u001b[1;33m)\u001b[0m\u001b[1;33m\u001b[0m\u001b[1;33m\u001b[0m\u001b[0m\n\u001b[0m\u001b[0;32m      2\u001b[0m \u001b[0mprint\u001b[0m\u001b[1;33m(\u001b[0m\u001b[0mcities_canada\u001b[0m\u001b[1;33m,\u001b[0m \u001b[0mtype\u001b[0m\u001b[1;33m(\u001b[0m\u001b[0mcities_canada\u001b[0m\u001b[1;33m)\u001b[0m\u001b[1;33m)\u001b[0m\u001b[1;33m\u001b[0m\u001b[1;33m\u001b[0m\u001b[0m\n",
      "\u001b[1;32m<string>\u001b[0m in \u001b[0;36m<module>\u001b[1;34m\u001b[0m\n",
      "\u001b[1;31mNameError\u001b[0m: name 'Toronto' is not defined"
     ]
    }
   ],
   "source": [
    "cities_canada = eval(input(\"Largest cities in Canada: \"))\n",
    "print(cities_canada, type(cities_canada)) "
   ]
  },
  {
   "cell_type": "code",
   "execution_count": 6,
   "metadata": {},
   "outputs": [
    {
     "name": "stdout",
     "output_type": "stream",
     "text": [
      "Population of Toronto? 2615069\n",
      "2615069 <class 'str'>\n"
     ]
    }
   ],
   "source": [
    "population = input(\"Population of Toronto? \")\n",
    "print(population, type(population))"
   ]
  },
  {
   "cell_type": "code",
   "execution_count": 7,
   "metadata": {},
   "outputs": [
    {
     "name": "stdout",
     "output_type": "stream",
     "text": [
      "Population of Toronto? 2615069\n",
      "2615069 <class 'int'>\n"
     ]
    }
   ],
   "source": [
    "population = int(input(\"Population of Toronto? \"))\n",
    "print(population, type(population))"
   ]
  },
  {
   "cell_type": "markdown",
   "metadata": {},
   "source": [
    "### Differences between Python2 and Python3\n",
    "\n",
    "The usage of input or better the implicit evaluation of the input has often lead to serious programming mistakes in the earlier Python versions, i.e. 2.x Therefore, in Python 3 the input function behaves like the raw_input function from Python2.\n",
    "\n",
    "The changes between the versions are illustrated in the following diagram:\n",
    "\n",
    "<img width=500 height=500 src=\"../images/input_difference_python2_python3.webp\" srcset=\"../images/input_difference_python2_python3_500w.webp 500w,../images/input_difference_python2_python3_400w.webp 400w,../images/input_difference_python2_python3_350w.webp 350w,../images/input_difference_python2_python3_300w.webp 300w\" alt=\"Differences between input, raw_input and the Python versions\" />\n"
   ]
  }
 ],
 "metadata": {
  "kernelspec": {
   "display_name": "Python 3",
   "language": "python",
   "name": "python3"
  },
  "language_info": {
   "codemirror_mode": {
    "name": "ipython",
    "version": 3
   },
   "file_extension": ".py",
   "mimetype": "text/x-python",
   "name": "python",
   "nbconvert_exporter": "python",
   "pygments_lexer": "ipython3",
   "version": "3.7.4"
  }
 },
 "nbformat": 4,
 "nbformat_minor": 2
}
