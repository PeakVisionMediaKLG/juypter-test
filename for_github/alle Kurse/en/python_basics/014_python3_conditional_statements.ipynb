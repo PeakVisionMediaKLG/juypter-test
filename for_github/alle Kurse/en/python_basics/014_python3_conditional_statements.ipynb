{
 "cells": [
  {
   "cell_type": "markdown",
   "metadata": {},
   "source": [
    "## Conditional Statements\n",
    "\n",
    "\n",
    "### Decision Making\n",
    "\n",
    "<img width=300 class=\"imgright\" src=\"../images/gender_decision.webp\" srcset=\"../images/gender_decision_500w.webp 500w,../images/gender_decision_400w.webp 400w,../images/gender_decision_350w.webp 350w,../images/gender_decision_300w.webp 300w\" alt=\"Gender Decision\" />\n",
    "\n",
    "Do you belong to those people who find it hard to make decisions? In real life, I mean. \n",
    "In certain circumstances, some decisions in daily life are unavoidable, e.g. \n",
    "people have to go their separate ways from time to time, as our picture shows. \n",
    "We all have to make decisions all the time, ranging from trivial issues like \n",
    "choosing what to wear in the morning, what to have for breakfast, right up to \n",
    "life-changing decisions like taking or changing a job, deciding what to study, \n",
    "and many more. However, there you are, having decided to learn more about the conditional statements in Python.  \n",
    "\n",
    "Conditions - usually in the form of if statements - are one of the key features of a programming language, \n",
    "and Python is no exception. You will hardly find a programming language without an if statement.<sup>1</sup> \n",
    "There is hardly a way to program without branches in the code flow, at least if the code needs to solve a \n",
    "useful problem.\n",
    "\n",
    "A decision must be made when the script or program comes to a point where there \n",
    "is a selection of actions, i.e. different calculations from which to choose.\n",
    "\n",
    "The decision, in most cases, depends on the value of variables or arithmetic expressions. \n",
    "These expressions are evaluated using the Boolean True or False values. The instructions \n",
    "for decision making are called conditional statements.\n",
    "In a programming language, therefore, the parts of the conditional statements are executed under the given conditions. In many cases there are two code parts: \n",
    "One which will be executed, if the condition is True, and another one, if it \n",
    "is False. In other words, a branch determines which of two (or even more) \n",
    "program parts (alternatives) will be executed depending on one (or more) conditions. \n",
    "Conditional statements and branches belong to the control structures of programming \n",
    "languages, because with their help a program can react to different states that result \n",
    "from inputs and calculations.\n",
    "\n",
    "\n",
    "### Conditional Statements in Real Life\n",
    "\n",
    "<img width=200 class=\"imgright\" src=\"../images/Mainz_psalter_detail.webp\" alt=\"Mainzer Psalter, Beispiel für Einrückung in Büchern\" />\n",
    "\n",
    "The principle of the indentation style is also known in natural languages, as we can deduce from the following text:\n",
    "\n",
    "     If it rains tomorrow, I'll clean up the basement. \n",
    "     After that, I will paint the walls. If there is \n",
    "     any time left, I will file my tax return.\n",
    "    \n",
    "Of course, as we all know, there will be no time left to file the tax return. Jokes aside: in the previous text, as you see, we have a sequence of actions that must be performed in chronological order. If you take a closer look at the text, you will find some ambiguity in it: is 'the painting of the walls' also related to the event of the rain? Will the tax declaration be done with or without rain? What will this person do, if it does not rain? Therefore, we extend the text with additional alternatives:\n",
    "\n",
    "    If it rains tomorrow, I'll clean up the basement. \n",
    "    After that I will paint the walls. If there is \n",
    "    any time left, I will file my tax return. Otherwise, \n",
    "    i.e. if it will not rain, I will go swimming. \n",
    "    In the evening, I will go to the cinema with my wife!\n",
    "\n",
    "It is still nor clear. Can his wife hope to be invited to the cinema? Does she have to pray or hope for rain? To make the text clear, we can phrase it to be closer to the programming code and the Python coding style, and hopefully there will be a happy ending for his wife:\n",
    "\n",
    "    If it rains tomorrow, I will do the following:\n",
    "         - Clean up the basement\n",
    "         - Paint the walls\n",
    "         - If there is any time left, I will make my \n",
    "           tax declaration\n",
    "    Otherwise I will do the following:\n",
    "         - Go swimming\n",
    "    Going to the movies in the evening with my wife\n",
    "\n",
    "We can also graphically depict this. \n",
    "Such a workflow is often referred to in the programming environment as a so-called flowchart or program schedule (PAP):\n",
    "\n",
    "<img width=400 src=\"../images/flowchart.webp\" srcset=\"../images/flowchart_700w.webp 700w,../images/flowchart_600w.webp 600w,../images/flowchart_500w.webp 500w,../images/flowchart_400w.webp 400w,../images/flowchart_350w.webp 350w,../images/flowchart_300w.webp 300w\" alt=\"Flowchart Example\" />\n",
    "\n",
    "To encode conditional statements in Python, we need to know how to combine statements into a block. So this seems to be the ideal moment to introduce the Python Block Principle in combination with the conditional statements.\n",
    "\n",
    "### Combining Statements into Blocks\n",
    "\n",
    "In programming, blocks are used to treat sets of statements as if they were a single statement. A block consists of one or more statements. A program can be considered a block consisting of statements and other nested blocks. In programming languages, there exist various approaches to syntactically describing blocks: ALGOL 60 and Pascal, for example, use \"begin\" and \"end\", while C and similar languages use curly braces \"{\" and \"}\". Bash has another design that uses 'do ... done' and 'if ... fi' or 'case ... esac' constructs.\n",
    "All these languages have in common is that the indentation style is not binding. The problems that may arise from this will be shown in the next subchapter. You can safely skip this, if you are only interested in Python. For inexperienced programmers, this chapter may seem a bit difficult.\n",
    "    \n",
    "### Excursion to C\n",
    "    \n",
    "For all these approaches, there is a big drawback: The code may be fine for the interpreter or compiler of the language, but it can be written in a way that is poorly structured for humans. We want to illustrate this in the following \"pseudo\" C-like code snippet:\n",
    "\n",
    "<pre>\n",
    "if (raining_tomorrow) {\n",
    "    tidy_up_the_cellar(); \n",
    "    paint_the_walls();\n",
    "    if (time_left) \n",
    "          do_taxes();\n",
    "} else\n",
    "    enjoy_swimming();\n",
    "go_cinema();\n",
    "</pre>\n",
    "\n",
    "We will add a couple of spaces in front of calling 'go_cinema'. This puts this call at the same level as 'enjoy_swimming':\n",
    "\n",
    "<pre>\n",
    "if (raining_tomorrow) {\n",
    "    tidy_up_the_cellar(); \n",
    "    paint_the_walls();\n",
    "    if (time_left) \n",
    "          do_taxes();\n",
    "} else\n",
    "    enjoy_swimming();\n",
    "    go_cinema();\n",
    "</pre>\n",
    "\n",
    "The execution of the program will not change: you will go to the cinema, whether it will be raining or not!\n",
    "However, the way the code is written falsely suggests that you will only go to the\n",
    "cinema if it does not rain. This example shows the possible ambiguity\n",
    "in the interpretation of C code by humans. In other words, you can inadvertently write the code,\n",
    "which leads to a procedure that does not \"behave\" as intended.\n",
    "<br>\n",
    "In this example lurks even another danger. What if the programmer had just forgotten to put the last statement out of the curly braces? \n",
    "\n",
    "Should the code look like this:\n",
    "\n",
    "\n",
    "<pre>\n",
    "if (raining_tomorrow) {\n",
    "    tidy_up_the_cellar(); \n",
    "    paint_the_walls();\n",
    "    if (time_left) \n",
    "          do_taxes();\n",
    "} else {\n",
    "    enjoy_swimming();\n",
    "    go_cinema();\n",
    "}\n",
    "</pre>\n",
    "\n",
    "In the following program you will only go to the cinema, if it is not a rainy day. \n",
    "That only makes sense if it's an open-air cinema.\n",
    "\n",
    "The following code is the right code to go to the movies regardless of the weather:\n",
    "\n",
    "<pre>\n",
    "if (raining_tomorrow) {\n",
    "    tidy_up_the_cellar(); \n",
    "    paint_the_walls();\n",
    "    if (time_left) \n",
    "          do_taxes();\n",
    "} else {\n",
    "    enjoy_swimming();\n",
    "}\n",
    "go_cinema();}\n",
    "</pre>\n",
    "\n",
    "The problem with C is that the way the code is indented has no meaning for the compiler, but it can lead to misunderstanding, if misinterpreted.\n",
    "<br> <br>\n",
    "This is different in Python. Blocks are created with indentations, in other words, blocks are based on indentation. We can say \"What you see is what you get!\"\n",
    "<br>\n",
    "The example above might look like this in a Python program:\n",
    "\n",
    "<pre>\n",
    "if raining_tomorrow:\n",
    "    tidy_up_the_cellar() \n",
    "    paint_the_walls()\n",
    "    if time_left: \n",
    "          do_taxes()\n",
    "else:\n",
    "    enjoy_swimming()\n",
    "go_cinema()\n",
    "</pre>\n",
    "\n",
    "There is no ambiguity in the Python version. The cinema visit of the couple will take place in any case, regardless\n",
    "of the weather. Moving the go_cinema() call to the same indentation level as enjoy_swimming() immediately changes the program logic. In that case, there will be no cinema if it rains.\n",
    "\n",
    "<br> <br>\n",
    "We have just seen that it is useful to use indentations in C or C++ programs\n",
    "to increase the readability of a program. For the compilation or execution of a program they are\n",
    "but irrelevant. The compiler relies exclusively on the structuring determined by the brackets.\n",
    "Code in Python, on the other hand, can only be structured with indents. That is,\n",
    "Python forces the programmer to use indentation that should be used anyway to write nice and readable\n",
    "codes. Python does not allow you to obscure the structure of a program by misleading indentations.\n",
    "<br> <br>\n",
    "Each line of a code block in Python must be indented with the same number of spaces or tabs.\n",
    "We will continue to delve into this in the next subsection on conditional statements in Python.\n",
    "  \n",
    "    \n",
    "### Conditional statements in Python\n",
    "    \n",
    "The if statement is used to control the program flow in a Python program.\n",
    "This makes it possible to decide at runtime whether certain program parts should be executed or not.\n",
    "<br>\n",
    "The simplest form of an if statement in a Python program looks like this:\n",
    "\n",
    "<pre>\n",
    "if condition:\n",
    "    statement\n",
    "    statement\n",
    "    # further statements, if necessary\n",
    "\n",
    "</pre>\n",
    "\n",
    "The indented block is only executed if the condition 'condition' is True. That is,\n",
    "if it is logically true.\n",
    "<br>\n",
    "The following example asks users for their nationality.\n",
    "The indented block will only be executed if the nationality is \"french\".\n",
    "If the user enters another nationality, nothing happens.\n"
   ]
  },
  {
   "cell_type": "code",
   "execution_count": 1,
   "metadata": {},
   "outputs": [
    {
     "name": "stdout",
     "output_type": "stream",
     "text": [
      "Nationality? french\n",
      "Préférez-vous parler français?\n"
     ]
    }
   ],
   "source": [
    "person = input(\"Nationality? \")\n",
    "if person == \"french\":\n",
    "    print(\"Préférez-vous parler français?\")"
   ]
  },
  {
   "cell_type": "markdown",
   "metadata": {},
   "source": [
    "Please note that if \"French\" is entered in the above program, nothing will happen.\n",
    "The check in the condition is case-sensitive and in this case only responds when \"french\" is entered in lower case.\n",
    "We now extend the condition with an \"or\""
   ]
  },
  {
   "cell_type": "code",
   "execution_count": 2,
   "metadata": {},
   "outputs": [
    {
     "name": "stdout",
     "output_type": "stream",
     "text": [
      "Nationality? french\n",
      "Préférez-vous parler français?\n"
     ]
    }
   ],
   "source": [
    "person = input(\"Nationality? \")\n",
    "if person == \"french\" or person == \"French\":\n",
    "    print(\"Préférez-vous parler français?\")"
   ]
  },
  {
   "cell_type": "markdown",
   "metadata": {},
   "source": [
    "\n",
    "The Italian colleagues might now feel disadvantaged because Italian speakers were not considered.\n",
    "We extend the program by another if statement.\n"
   ]
  },
  {
   "cell_type": "code",
   "execution_count": 3,
   "metadata": {},
   "outputs": [
    {
     "name": "stdout",
     "output_type": "stream",
     "text": [
      "Nationality? italian\n",
      "Preferisci parlare italiano?\n"
     ]
    }
   ],
   "source": [
    "person = input(\"Nationality? \")\n",
    "if person == \"french\" or person == \"French\":\n",
    "    print(\"Préférez-vous parler français?\")\n",
    "if person == \"italian\" or person == \"Italian\":\n",
    "    print(\"Preferisci parlare italiano?\")"
   ]
  },
  {
   "cell_type": "markdown",
   "metadata": {},
   "source": [
    "This little script has a drawback.\n",
    "Suppose that the user enters \"french\" as a nationality.\n",
    "In this case, the block of the first \"if\" will be executed.\n",
    "Afterwards, the program checks if the second \"if\" can be executed as well.\n",
    "This doesn't make sense, because we know that the input \"french\" does not match the condition \"italian\" or \"Italian\".\n",
    "In other words: if the first 'if' matched, the second one can never match as well.\n",
    "In the end, this is an unnecessary check when entering \"french\" or \"French\".\n",
    "<br><br>\n",
    "\n",
    "We solve the problem with an \"elif\" condition. \n",
    "The 'elif' expression is only checked if the expression of a previous \"elif\" or \"if\" was false."
   ]
  },
  {
   "cell_type": "code",
   "execution_count": 4,
   "metadata": {},
   "outputs": [
    {
     "name": "stdout",
     "output_type": "stream",
     "text": [
      "Nationality? german\n",
      "You are neither French nor Italian.\n",
      "So, let us speak English!\n"
     ]
    }
   ],
   "source": [
    "person = input(\"Nationality? \")\n",
    "if person == \"french\" or person == \"French\":\n",
    "    print(\"Préférez-vous parler français?\")\n",
    "elif person == \"italian\" or person == \"Italian\":\n",
    "    print(\"Preferisci parlare italiano?\")\n",
    "else:\n",
    "    print(\"You are neither French nor Italian.\")\n",
    "    print(\"So, let us speak English!\")"
   ]
  },
  {
   "cell_type": "markdown",
   "metadata": {},
   "source": [
    "As in our example, most if statements also have \"elif\" and \"else\" branches.\n",
    "This means, there may be more than one \"elif\" branches, but only one \"else\" branch.\n",
    "The \"else\" branch must be at the end of the if statement. Other \"elif\" branches can not be attached after an 'else'.\n",
    "'if' statements don't need either 'else' nor 'elif' statements.\n",
    "\n",
    "The general form of the if statement in Python looks like this: \n",
    "\n",
    "<pre>\n",
    "if condition_1:\n",
    "    statement_block_1\n",
    "elif condition_2:\n",
    "    statement_block_2\n",
    "\n",
    "...\n",
    "\n",
    "elif another_condition:    \n",
    "    another_statement_block\n",
    "else:\n",
    "    else_block\n",
    "</pre>\n",
    "\n",
    "If the condition \"condition_1\" is True, the statements of the block statement\"_block_1\" will be executed. If not, condition_2 will be evaluated. If \"condition_2\" evaluates to True, statement\"_block_2\" will be executed, if condition_2 is False, the other conditions of the following elif conditions will be checked, and finally if none of them has been evaluated to True, the indented block below the else keyword will be executed.\n",
    "\n",
    "\n",
    "\n",
    "### Example with if condition\n",
    "\n",
    "For children and dog lovers it is an interesting and frequently asked question how old their dog would be if it was not a dog, but a human being. To calculate this task, there are various scientific and pseudo-scientific approaches. An easy approach can be:\n",
    "\n",
    "     A one-year-old dog is roughly equivalent to a 14-year-old human being\n",
    "     A dog that is two years old corresponds in development to a 22 year old person.\n",
    "     Each additional dog year is equivalent to five human years.\n",
    "\n",
    "The following example program in Python requires the age of the dog as the input and calculates the age in human years according to the above rule. 'input' is a statement, where the program flow stops and waits for user input printing out the message in brackets:\n",
    "\n",
    "\n"
   ]
  },
  {
   "cell_type": "code",
   "execution_count": 5,
   "metadata": {},
   "outputs": [
    {
     "name": "stdout",
     "output_type": "stream",
     "text": [
      "Age of the dog: 1\n",
      "\n",
      "Roughly 14 years!\n"
     ]
    }
   ],
   "source": [
    "age = int(input(\"Age of the dog: \"))\n",
    "print()\n",
    "if age < 0:\n",
    "    print(\"This cannot be true!\")\n",
    "elif age == 0:\n",
    "    print(\"This corresponds to 0 human years!\")\n",
    "elif age == 1:\n",
    "    print(\"Roughly 14 years!\")\n",
    "elif age == 2:\n",
    "    print(\"Approximately 22 years!\")\n",
    "else:\n",
    "    human = 22 + (age -2) * 5\n",
    "    print(\"Corresponds to  \" + str(human) + \" human years!\")"
   ]
  },
  {
   "cell_type": "code",
   "execution_count": null,
   "metadata": {},
   "outputs": [],
   "source": [
    "We will use this example again in our tutorial "
   ]
  },
  {
   "cell_type": "markdown",
   "metadata": {},
   "source": [
    "\n",
    "Using if statements within programs can easily lead to complex decision trees, i.e. every if statements can be seen like the branches of a tree.\n",
    "\n",
    "We will read in three float numbers in the following program and will print out the largest value:"
   ]
  },
  {
   "cell_type": "code",
   "execution_count": 6,
   "metadata": {},
   "outputs": [
    {
     "name": "stdout",
     "output_type": "stream",
     "text": [
      "1st Number: 1\n",
      "2nd Number: 2\n",
      "3rd Number: 3\n",
      "The maximal value is: 3.0\n"
     ]
    }
   ],
   "source": [
    "x = float(input(\"1st Number: \"))\n",
    "y = float(input(\"2nd Number: \"))\n",
    "z = float(input(\"3rd Number: \"))\n",
    "\n",
    "if x > y and x > z:\n",
    "    maximum = x\n",
    "elif y > x and y > z:\n",
    "    maximum = y\n",
    "else:\n",
    "    maximum = z\n",
    "\n",
    "print(\"The maximal value is: \" + str(maximum))"
   ]
  },
  {
   "cell_type": "markdown",
   "metadata": {},
   "source": [
    "There are other ways to write the conditions like the following one: "
   ]
  },
  {
   "cell_type": "code",
   "execution_count": 7,
   "metadata": {},
   "outputs": [
    {
     "name": "stdout",
     "output_type": "stream",
     "text": [
      "1st Number: 4.4\n",
      "2nd Number: 1\n",
      "3rd Number: 8.3\n",
      "The maximal value is: 8.3\n"
     ]
    }
   ],
   "source": [
    "x = float(input(\"1st Number: \"))\n",
    "y = float(input(\"2nd Number: \"))\n",
    "z = float(input(\"3rd Number: \"))\n",
    "\n",
    "if x > y:\n",
    "    if x > z:\n",
    "        maximum = x\n",
    "    else:\n",
    "        maximum = z\n",
    "else: \n",
    "    if y > z:\n",
    "        maximum = y\n",
    "    else:\n",
    "        maximum = z\n",
    "\n",
    "print(\"The maximal value is: \" + str(maximum))"
   ]
  },
  {
   "cell_type": "markdown",
   "metadata": {},
   "source": [
    "Another way to find the maximum can be seen in the following example. We are using the built-in function max, which calculates the maximum of a list or a tuple of numerical values:"
   ]
  },
  {
   "cell_type": "code",
   "execution_count": 8,
   "metadata": {},
   "outputs": [
    {
     "name": "stdout",
     "output_type": "stream",
     "text": [
      "1st Number: 1\n",
      "2nd Number: 4\n",
      "3rd Number: 5.5\n",
      "The maximal value is: 5.5\n"
     ]
    }
   ],
   "source": [
    "x = float(input(\"1st Number: \"))\n",
    "y = float(input(\"2nd Number: \"))\n",
    "z = float(input(\"3rd Number: \"))\n",
    "\n",
    "maximum = max((x,y,z))\n",
    "\n",
    "print(\"The maximal value is: \" + str(maximum))"
   ]
  },
  {
   "cell_type": "markdown",
   "metadata": {},
   "source": [
    "\n",
    "\n",
    "\n",
    "\n",
    "\n",
    "\n",
    "### Ternary if Statement\n",
    "\n",
    "\n",
    "Let's look at the following English sentence, which is valid in Germany :\n",
    "\n",
    "The maximum speed is 50 if we are within the city, otherwise it is 100.\n",
    "\n",
    "This can be translated into ternary Python statements:"
   ]
  },
  {
   "cell_type": "code",
   "execution_count": 9,
   "metadata": {},
   "outputs": [
    {
     "name": "stdout",
     "output_type": "stream",
     "text": [
      "50\n"
     ]
    }
   ],
   "source": [
    "inside_city_limits = True\n",
    "maximum_speed = 50 if inside_city_limits else 100\n",
    "print(maximum_speed)"
   ]
  },
  {
   "cell_type": "markdown",
   "metadata": {},
   "source": [
    "This code looks like an abbreviation for the following code:"
   ]
  },
  {
   "cell_type": "code",
   "execution_count": 10,
   "metadata": {},
   "outputs": [
    {
     "name": "stdout",
     "output_type": "stream",
     "text": [
      "50\n"
     ]
    }
   ],
   "source": [
    "im_ort = True\n",
    "if im_ort:\n",
    "    maximale_geschwindigkeit = 50  \n",
    "else:\n",
    "    maximale_geschwindigkeit = 100\n",
    "print(maximale_geschwindigkeit)"
   ]
  },
  {
   "cell_type": "markdown",
   "metadata": {},
   "source": [
    "But it is something fundamentally different. \"50 if inside_city_limits else 100\" is an expression that we can also use  in function calls."
   ]
  },
  {
   "cell_type": "markdown",
   "metadata": {},
   "source": [
    "### Exercises\n",
    "\n",
    "#### Exercise 1\n",
    "\n",
    "- A leap year is a calendar year containing an additional day added to keep the calendar year synchronized with the astronomical or seasonal year. In the Gregorian calendar, each leap year has 366 days instead of 365, by extending February to 29 days rather than the common 28. These extra days occur in years which are multiples of four (with the exception of centennial years not divisible by 400). Write a Python program, which asks for a year and calculates, if this year is a leap year or not.\n",
    "\n",
    "#### Exercise 2\n",
    "\n",
    "- Body mass index (BMI) is a value derived from the mass (weight) and height of a person. The BMI is defined as the body mass divided by the square of the body height, and is universally expressed  in units of kg/m2, resulting from mass in kilograms and height in metres.\n",
    "$ BMI = \\frac{m}{l^{2}}$\n",
    "Write a program, which asks for the length and the weight of a person and returns an evaluation string according to the following table:<br>\n",
    "![BMI Evaluation](../images/bmi_evaluation.webp)\n",
    "\n"
   ]
  },
  {
   "cell_type": "markdown",
   "metadata": {},
   "source": [
    "### Solutions\n",
    "\n",
    "#### Exercise 1:\n",
    "\n",
    "We will use the modulo operator in the following solution. 'n % m' returns the remainder, if you divide (integer division) n by m. '5 % 3' returns 2 for example. \n"
   ]
  },
  {
   "cell_type": "code",
   "execution_count": 11,
   "metadata": {},
   "outputs": [
    {
     "name": "stdout",
     "output_type": "stream",
     "text": [
      "Which year? 2020\n",
      "leap year\n"
     ]
    }
   ],
   "source": [
    "year = int(input(\"Which year? \"))\n",
    "\n",
    "if year % 4:\n",
    "    # not divisible by 4\n",
    "    print(\"no leap year\")\n",
    "elif year % 100 == 0 and year % 400 != 0:\n",
    "    print(\"no leap year\")\n",
    "else:\n",
    "    print(\"leap year\")\n",
    "    "
   ]
  },
  {
   "cell_type": "markdown",
   "metadata": {},
   "source": [
    "#### Exercise 2:"
   ]
  },
  {
   "cell_type": "code",
   "execution_count": 12,
   "metadata": {},
   "outputs": [
    {
     "name": "stdout",
     "output_type": "stream",
     "text": [
      "What is your height? 180\n",
      "What is your weight? 74\n",
      "0.002283950617283951\n",
      "Very severely underweight\n"
     ]
    }
   ],
   "source": [
    "height = float(input(\"What is your height? \"))\n",
    "weight = float(input(\"What is your weight? \"))\n",
    "\n",
    "bmi = weight / height ** 2\n",
    "print(bmi)\n",
    "if bmi < 15:\n",
    "    print(\"Very severely underweight\")\n",
    "elif bmi < 16:\n",
    "    print(\"Severely underweight\")\n",
    "elif bmi < 18.5:\n",
    "    print(\"Underweight\")\n",
    "elif bmi < 25:\n",
    "    print(\"Normal (healthy weight)\")\n",
    "elif bmi < 30:\n",
    "    print(\"Overweight\")\n",
    "elif bmi < 35:\n",
    "    print(\"Obese Class I (Moderately obese)\")\n",
    "elif bmi < 40:\n",
    "    print(\"Obese Class II (Severely obese)\")\n",
    "else:\n",
    "    print(\"Obese Class III (Very severely obese)\")"
   ]
  },
  {
   "cell_type": "markdown",
   "metadata": {},
   "source": [
    "### Footnotes\n",
    "\n",
    "<sup>1</sup>\n",
    "LOOP is a programming language without conditionals, but this language is purely pedagogical. It has been designed by \n",
    "the German computer scientist Uwe Schöning. The only operations which are supported by LOOP are assignments, additions and\n",
    "loopings. But LOOP is of no practical interest and besides this, it is only a proper subset of the computable functions.\n",
    "<br><br>"
   ]
  }
 ],
 "metadata": {
  "kernelspec": {
   "display_name": "Python 3",
   "language": "python",
   "name": "python3"
  },
  "language_info": {
   "codemirror_mode": {
    "name": "ipython",
    "version": 3
   },
   "file_extension": ".py",
   "mimetype": "text/x-python",
   "name": "python",
   "nbconvert_exporter": "python",
   "pygments_lexer": "ipython3",
   "version": "3.7.6"
  }
 },
 "nbformat": 4,
 "nbformat_minor": 4
}
