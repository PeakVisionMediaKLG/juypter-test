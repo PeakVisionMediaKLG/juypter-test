{
 "cells": [
  {
   "cell_type": "markdown",
   "metadata": {},
   "source": [
    "## Loops\n",
    "\n",
    "<img width=150 height=100 class=\"imgright\" src=\"../images/moebius_infinite_loop.webp\" srcset=\"../images/moebius_infinite_loop_500w.webp 500w,../images/moebius_infinite_loop_400w.webp 400w,../images/moebius_infinite_loop_350w.webp 350w,../images/moebius_infinite_loop_300w.webp 300w\" alt=\"Moebius ring as an infinite loop\" />\n",
    "\n",
    "### General Structure of a Loop\n",
    "\n",
    "Many algorithms make it necessary for a programming language to have a construction which makes it possible to carry out a sequence of statements repeatedly. The code within the loop, i.e. the code carried out repeatedly, is called the body of the loop.\n",
    "\n",
    "Essentially, there are three different kinds of loops:\n",
    "\n",
    "- Count-controlled loops\n",
    "  A construction for repeating a loop a certain number of times. An example of this kind of loop is the for-loop of the programming language C:\n",
    "  \n",
    "    for (i=0; i <= n; i++)\n",
    "    \n",
    "    Python doesn't have this kind of loop.\n",
    "    \n",
    "- Condition-controlled loop\n",
    "    A loop will be repeated until a given condition changes, i.e. changes from True to False or from False to True, depending on the kind of loop. There are 'while loops' and 'do while' loops with this behaviour.\n",
    "    \n",
    "- Collection-controlled loop\n",
    "    This is a special construct which allows looping through the elements of a 'collection', which can be an array, list or other ordered sequence. Like the for loop of the bash shell (e.g. for i in *, do echo $i; done) or the foreach loop of Perl.\n",
    "    \n",
    "\n",
    "<img width=300 height=300 src=\"../images/while_loop_1.webp\" alt=\"Flowchart of a loop\" />\n",
    "\n",
    "Python supplies two different kinds of loops: the while loop and the for loop, which correspond to the condition-controlled loop and collection-controlled loop.\n",
    "\n",
    "Most loops contain a counter or more generally, variables, which change their values in the course of calculation. These variables have to be initialized before the loop is started. The counter or other variables, which can be altered in the body of the loop, are contained in the condition. Before the body of the loop is executed, the condition is evaluated. If it evaluates to False, the while loop is finished. In other words, the program flow will continue with the first statement after the while statement, i.e. on the same indentation level as the while loop. If the condition is evaluated to True, the body, - the indented block below the line with \"while\" - gets executed. After the body is finished, the condition will be evaluated again. The body of the loop will be executed as long as the condition yields True.\n",
    "\n",
    "\n",
    "### A Simple Example with a While Loop\n",
    "\n",
    "It's best to illustrate the operating principle of a loop with a simple Python example. The following small script calculates the sum of the numbers from 1 to 100. We will later introduce a more elegant way to do it."
   ]
  },
  {
   "cell_type": "code",
   "execution_count": 1,
   "metadata": {},
   "outputs": [
    {
     "name": "stdout",
     "output_type": "stream",
     "text": [
      "Sum of 1 until 100 results in 5050\n"
     ]
    }
   ],
   "source": [
    "n = 100\n",
    "\n",
    "total_sum = 0\n",
    "counter = 1\n",
    "while counter <= n:\n",
    "    total_sum += counter\n",
    "    counter += 1\n",
    "\n",
    "print(\"Sum of 1 until \" + str(n) +  \" results in \" + str(total_sum))"
   ]
  },
  {
   "cell_type": "markdown",
   "metadata": {},
   "source": [
    "### Exercise\n",
    "\n",
    "Write a program, which asks for the initial balance K0 and for the interest rate.\n",
    "The program shall calculate the new capital K1 after one year including the interest.\n",
    "\n",
    "Extend the program with a while-loop, so that the capital Kn after a period of n years can be calculated."
   ]
  },
  {
   "cell_type": "code",
   "execution_count": 4,
   "metadata": {},
   "outputs": [
    {
     "name": "stdin",
     "output_type": "stream",
     "text": [
      "Starting capital?  100\n",
      "Interest rate?  0.6\n",
      "Number of years?  10\n"
     ]
    },
    {
     "name": "stdout",
     "output_type": "stream",
     "text": [
      "1 100.6\n",
      "2 101.2036\n",
      "3 101.8108216\n",
      "4 102.4216865296\n",
      "5 103.0362166487776\n",
      "6 103.65443394867026\n",
      "7 104.27636055236228\n",
      "8 104.90201871567645\n",
      "9 105.53143082797051\n",
      "10 106.16461941293834\n",
      "Capital after 10 ys: 106.16461941293834\n"
     ]
    }
   ],
   "source": [
    "K = float(input(\"Starting capital? \"))\n",
    "p = float(input(\"Interest rate? \"))\n",
    "n = int(input(\"Number of years? \"))\n",
    "\n",
    "i = 0\n",
    "while i < n:\n",
    "    K +=  K * p / 100.0\n",
    "    # or K *=  1 +  p / 100.0\n",
    "    i += 1\n",
    "    print(i, K)\n",
    "print(\"Capital after \" + str(n) + \" ys: \" + str(K))"
   ]
  },
  {
   "cell_type": "markdown",
   "metadata": {},
   "source": [
    "### The else Part\n",
    "\n",
    "<img width=300 height=300 src=\"../images/while_loop_with_else.webp\" srcset=\"../images/while_loop_with_else_300w.webp 300w\" alt=\"While Loop with else part\" />\n",
    "\n",
    "Similar to the if statement, the while loop of Python has also an optional else part. This is an unfamiliar construct for many programmers of traditional programming languages.\n",
    "The statements in the else part are executed, when the condition is not fulfilled anymore. Some might ask themselves now, where the possible benefit of this extra branch is. If the statements of the additional else part were placed right after the while loop without an else, they would have been executed anyway, wouldn't they? We need to understand a new language construction, i.e. the break statement, to obtain a benefit from the additional else branch of the while loop.\n",
    "The general syntax of a while loop looks like this:"
   ]
  },
  {
   "cell_type": "markdown",
   "metadata": {},
   "source": [
    "<pre>while condition:\n",
    "\tstatement_1\n",
    "\t...\n",
    "\tstatement_n\n",
    "else:\n",
    "\tstatement_1\n",
    "\t...\n",
    "\tstatement_n </pre>\n",
    "    \n"
   ]
  },
  {
   "cell_type": "markdown",
   "metadata": {},
   "source": [
    "<pre> while potatoes:\n",
    "    peel\n",
    "    \n",
    "    cut\n",
    "else:\n",
    "    pot pot on oven\n",
    "    cook for 40 minutes\n",
    "    \n",
    "wash salad\n",
    "and so on </pre>"
   ]
  },
  {
   "cell_type": "markdown",
   "metadata": {},
   "source": [
    "### Premature Termination of a while Loop\n",
    "\n",
    "<img width=300 height=300 class=\"imgright\" src=\"../images/while_loop_with_else_break.webp\" srcset=\"../images/while_loop_with_else_break_300w.webp 300w\" alt=\"While Loop with else part and break \" />\n",
    "\n",
    "So far, a while loop only ends, if the condition in the loop head is fulfilled. With the help of a break statement a while loop can be left prematurely, i.e. as soon as the control flow of the program comes to a break inside of a while loop (or other loops) the loop will be immediately left. \"break\" shouldn't be confused with the continue statement. \"continue\" stops the current iteration of the loop and starts the next iteration by checking the condition.\n",
    "Here comes the crucial point: If a loop is left by break, the else part is not executed.\n",
    "\n",
    "This behaviour will be illustrated in the following example, a little guessing number game. A human player has to guess a number between a range of 1 to n. The player inputs his guess. The program informs the player, if this number is larger, smaller or equal to the secret number, i.e. the number which the program has randomly created. If the player wants to gives up, he or she can input a 0 or a negative number.\n",
    "Hint: The program needs to create a random number. Therefore it's necessary to include the module \"random\"."
   ]
  },
  {
   "cell_type": "code",
   "execution_count": 8,
   "metadata": {},
   "outputs": [
    {
     "name": "stdin",
     "output_type": "stream",
     "text": [
      "New number:  10\n"
     ]
    },
    {
     "name": "stdout",
     "output_type": "stream",
     "text": [
      "Number too small\n"
     ]
    },
    {
     "name": "stdin",
     "output_type": "stream",
     "text": [
      "New number:  14\n"
     ]
    },
    {
     "name": "stdout",
     "output_type": "stream",
     "text": [
      "Number too large\n"
     ]
    },
    {
     "name": "stdin",
     "output_type": "stream",
     "text": [
      "New number:  13\n"
     ]
    },
    {
     "name": "stdout",
     "output_type": "stream",
     "text": [
      "Number too large\n"
     ]
    },
    {
     "name": "stdin",
     "output_type": "stream",
     "text": [
      "New number:  12\n"
     ]
    },
    {
     "name": "stdout",
     "output_type": "stream",
     "text": [
      "Number too large\n"
     ]
    },
    {
     "name": "stdin",
     "output_type": "stream",
     "text": [
      "New number:  11\n"
     ]
    },
    {
     "name": "stdout",
     "output_type": "stream",
     "text": [
      "Congratulations. You made it!\n"
     ]
    }
   ],
   "source": [
    "import random\n",
    "upper_bound = 20\n",
    "lower_bound = 1\n",
    "#to_be_guessed = int(n * random.random()) + 1\n",
    "to_be_guessed = random.randint(lower_bound, upper_bound)\n",
    "guess = 0\n",
    "while guess != to_be_guessed:\n",
    "    guess = int(input(\"New number: \"))\n",
    "    if guess > 0:\n",
    "        if guess > to_be_guessed:\n",
    "            print(\"Number too large\")\n",
    "        elif guess < to_be_guessed:\n",
    "            print(\"Number too small\")\n",
    "    else:\n",
    "        # 0 means giving up\n",
    "        print(\"Sorry that you're giving up!\")\n",
    "        break   # break out of a loop, don't execute \"else\"\n",
    "else:\n",
    "    print(\"Congratulations. You made it!\")"
   ]
  },
  {
   "cell_type": "markdown",
   "metadata": {},
   "source": [
    "The previous program doesn't check if the ```number``` makes sense, i.e. if the number is between the boundaries ```upper_bound``` and ```over_bound```. We can improve our program:"
   ]
  },
  {
   "cell_type": "code",
   "execution_count": 10,
   "metadata": {},
   "outputs": [
    {
     "name": "stdin",
     "output_type": "stream",
     "text": [
      "New number:  10\n"
     ]
    },
    {
     "name": "stdout",
     "output_type": "stream",
     "text": [
      "Congratulations. You made it!\n"
     ]
    }
   ],
   "source": [
    "import random\n",
    "upper_bound = 20\n",
    "lower_bound = 1\n",
    "to_be_guessed = random.randint(lower_bound, upper_bound)\n",
    "guess = 0\n",
    "while guess != to_be_guessed:\n",
    "    guess = int(input(\"New number: \"))\n",
    "    if guess == 0:   # giving up\n",
    "        print(\"Sorry that you're giving up!\")\n",
    "        break   # break out of a loop, don't execute \"else\"\n",
    "    if guess < lower_bound or guess > upper_bound:\n",
    "        print(\"guess not within boundaries!\")\n",
    "    elif guess > to_be_guessed:\n",
    "        print(\"Number too large\")\n",
    "    elif guess < to_be_guessed:\n",
    "        print(\"Number too small\")       \n",
    "else:\n",
    "    print(\"Congratulations. You made it!\")"
   ]
  },
  {
   "cell_type": "markdown",
   "metadata": {},
   "source": [
    "The boundaries should be adapted according to the user input:"
   ]
  },
  {
   "cell_type": "code",
   "execution_count": 11,
   "metadata": {},
   "outputs": [
    {
     "name": "stdin",
     "output_type": "stream",
     "text": [
      "New number:  10\n"
     ]
    },
    {
     "name": "stdout",
     "output_type": "stream",
     "text": [
      "Number too small\n"
     ]
    },
    {
     "name": "stdin",
     "output_type": "stream",
     "text": [
      "New number:  14\n"
     ]
    },
    {
     "name": "stdout",
     "output_type": "stream",
     "text": [
      "Number too small\n"
     ]
    },
    {
     "name": "stdin",
     "output_type": "stream",
     "text": [
      "New number:  17\n"
     ]
    },
    {
     "name": "stdout",
     "output_type": "stream",
     "text": [
      "Number too large\n"
     ]
    },
    {
     "name": "stdin",
     "output_type": "stream",
     "text": [
      "New number:  15\n"
     ]
    },
    {
     "name": "stdout",
     "output_type": "stream",
     "text": [
      "Number too small\n"
     ]
    },
    {
     "name": "stdin",
     "output_type": "stream",
     "text": [
      "New number:  16\n"
     ]
    },
    {
     "name": "stdout",
     "output_type": "stream",
     "text": [
      "Congratulations. You made it!\n"
     ]
    }
   ],
   "source": [
    "import random\n",
    "upper_bound = 20\n",
    "lower_bound = 1\n",
    "to_be_guessed = random.randint(lower_bound, upper_bound)\n",
    "guess = 0\n",
    "while guess != to_be_guessed:\n",
    "    guess = int(input(\"New number: \"))\n",
    "    if guess == 0:   # giving up\n",
    "        print(\"Sorry that you're giving up!\")\n",
    "        break   # break out of a loop, don't execute \"else\"\n",
    "    if guess < lower_bound or guess > upper_bound:\n",
    "        print(\"guess not within boundaries!\")\n",
    "    elif guess > to_be_guessed:\n",
    "        upper_bound = guess - 1\n",
    "        print(\"Number too large\")\n",
    "    elif guess < to_be_guessed:\n",
    "        lower_bound = guess + 1\n",
    "        print(\"Number too small\")   \n",
    "else:\n",
    "    print(\"Congratulations. You made it!\")"
   ]
  },
  {
   "cell_type": "code",
   "execution_count": 12,
   "metadata": {},
   "outputs": [
    {
     "name": "stdin",
     "output_type": "stream",
     "text": [
      "New number:  10\n"
     ]
    },
    {
     "name": "stdout",
     "output_type": "stream",
     "text": [
      "Number too small\n"
     ]
    },
    {
     "name": "stdin",
     "output_type": "stream",
     "text": [
      "New number:  9\n"
     ]
    },
    {
     "name": "stdout",
     "output_type": "stream",
     "text": [
      "Your guess is contradictory to your previous guesses!\n"
     ]
    },
    {
     "name": "stdin",
     "output_type": "stream",
     "text": [
      "New number:  11\n"
     ]
    },
    {
     "name": "stdout",
     "output_type": "stream",
     "text": [
      "Number too small\n"
     ]
    },
    {
     "name": "stdin",
     "output_type": "stream",
     "text": [
      "New number:  5\n"
     ]
    },
    {
     "name": "stdout",
     "output_type": "stream",
     "text": [
      "Your guess is contradictory to your previous guesses!\n"
     ]
    },
    {
     "name": "stdin",
     "output_type": "stream",
     "text": [
      "New number:  30\n"
     ]
    },
    {
     "name": "stdout",
     "output_type": "stream",
     "text": [
      "guess not within boundaries!\n"
     ]
    },
    {
     "name": "stdin",
     "output_type": "stream",
     "text": [
      "New number:  15\n"
     ]
    },
    {
     "name": "stdout",
     "output_type": "stream",
     "text": [
      "Number too small\n"
     ]
    },
    {
     "name": "stdin",
     "output_type": "stream",
     "text": [
      "New number:  17\n"
     ]
    },
    {
     "name": "stdout",
     "output_type": "stream",
     "text": [
      "Number too small\n"
     ]
    },
    {
     "name": "stdin",
     "output_type": "stream",
     "text": [
      "New number:  18\n"
     ]
    },
    {
     "name": "stdout",
     "output_type": "stream",
     "text": [
      "Number too small\n"
     ]
    },
    {
     "name": "stdin",
     "output_type": "stream",
     "text": [
      "New number:  19\n"
     ]
    },
    {
     "name": "stdout",
     "output_type": "stream",
     "text": [
      "Number too small\n"
     ]
    },
    {
     "name": "stdin",
     "output_type": "stream",
     "text": [
      "New number:  20\n"
     ]
    },
    {
     "name": "stdout",
     "output_type": "stream",
     "text": [
      "Congratulations. You made it!\n"
     ]
    }
   ],
   "source": [
    "import random\n",
    "upper_bound = 20\n",
    "lower_bound = 1\n",
    "adaptive_upper_bound = upper_bound\n",
    "adaptive_lower_bound = lower_bound\n",
    "#to_be_guessed = int(n * random.random()) + 1\n",
    "to_be_guessed = random.randint(lower_bound, upper_bound)\n",
    "guess = 0\n",
    "while guess != to_be_guessed:\n",
    "    guess = int(input(\"New number: \"))\n",
    "    if guess == 0:   # giving up\n",
    "        print(\"Sorry that you're giving up!\")\n",
    "        break   # break out of a loop, don't execute \"else\"\n",
    "    if guess < lower_bound or guess > upper_bound:\n",
    "        print(\"guess not within boundaries!\")\n",
    "    elif guess < adaptive_lower_bound or guess > adaptive_upper_bound:\n",
    "        print(\"Your guess is contradictory to your previous guesses!\")\n",
    "    elif guess > to_be_guessed:\n",
    "        adaptive_upper_bound = guess - 1\n",
    "        print(\"Number too large\")\n",
    "    elif guess < to_be_guessed:\n",
    "        adaptive_lower_bound = guess + 1\n",
    "        print(\"Number too small\")   \n",
    "else:\n",
    "    print(\"Congratulations. You made it!\")"
   ]
  }
 ],
 "metadata": {
  "kernelspec": {
   "display_name": "Python 3",
   "language": "python",
   "name": "python3"
  },
  "language_info": {
   "codemirror_mode": {
    "name": "ipython",
    "version": 3
   },
   "file_extension": ".py",
   "mimetype": "text/x-python",
   "name": "python",
   "nbconvert_exporter": "python",
   "pygments_lexer": "ipython3",
   "version": "3.7.6"
  }
 },
 "nbformat": 4,
 "nbformat_minor": 4
}
