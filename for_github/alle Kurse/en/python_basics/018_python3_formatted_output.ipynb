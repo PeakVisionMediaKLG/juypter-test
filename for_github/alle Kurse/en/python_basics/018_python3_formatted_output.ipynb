{
 "cells": [
  {
   "cell_type": "markdown",
   "metadata": {},
   "source": [
    "## Formatted Output\n",
    "\n",
    "\n",
    "### Many Ways for a Nicer Output\n",
    "\n",
    "<img width=300 class=\"imgright\" src=\"../images/Printer_in_1568.webp\" srcset=\"../images/Printer_in_1568_300w.webp 300w\" alt=\"Traditional Output with movable types\" /> \n",
    "\n",
    "In this chapter of our Python tutorial we will have a closer look at the various ways of creating nicer output in Python. We present all the different ways, but we recommend that you should use the format method of the string class, which you will find at end of the chapter. \"string format\" is by far the most flexible and Pythonic approach.\n",
    "\n",
    "So far we have used the print function in two ways, when we had to print out more than two values:\n",
    "\n",
    "The easiest way, but not the most elegant one:\n",
    "\n",
    "We used print with a comma separated list of values to print out the results, as we can see in the following example. All the values are separated by blanks, which is the default behaviour. We can change the default value to an arbitrary string, if we assign this string to the keyword parameter \"sep\" of the print function:\n"
   ]
  },
  {
   "cell_type": "code",
   "execution_count": 1,
   "metadata": {},
   "outputs": [
    {
     "name": "stdout",
     "output_type": "stream",
     "text": [
      "459 0.098 44.982\n"
     ]
    }
   ],
   "source": [
    "q = 459\n",
    "p = 0.098\n",
    "print(q, p, p * q) "
   ]
  },
  {
   "cell_type": "code",
   "execution_count": 2,
   "metadata": {},
   "outputs": [
    {
     "name": "stdout",
     "output_type": "stream",
     "text": [
      "459,0.098,44.982\n"
     ]
    }
   ],
   "source": [
    "print(q, p, p * q, sep=\",\")"
   ]
  },
  {
   "cell_type": "code",
   "execution_count": 3,
   "metadata": {},
   "outputs": [
    {
     "name": "stdout",
     "output_type": "stream",
     "text": [
      "459 :-) 0.098 :-) 44.982\n"
     ]
    }
   ],
   "source": [
    "print(q, p, p * q, sep=\" :-) \")"
   ]
  },
  {
   "cell_type": "markdown",
   "metadata": {},
   "source": [
    "Alternatively, we can construe a new string out of the values by using the string concatenation operator:"
   ]
  },
  {
   "cell_type": "code",
   "execution_count": 5,
   "metadata": {},
   "outputs": [
    {
     "name": "stdout",
     "output_type": "stream",
     "text": [
      "459 0.098 44.982\n"
     ]
    }
   ],
   "source": [
    "print(str(q) + \" \" + str(p) + \" \" + str(p * q))"
   ]
  },
  {
   "cell_type": "markdown",
   "metadata": {},
   "source": [
    "The second method is inferior to the first one in this example. \n",
    "\n",
    "\n",
    "\n",
    "### The Old Way or the non-existing printf and sprintf\n",
    "\n",
    "Is there a printf in Python? A burning question for Python newbies coming from C, Perl, Bash or other programming languages who have this statement or function. To answer \"Python has a print function and no printf function\" is only one side of the coin or half of the truth. One can go as far as to say that this answer is not true. So there is a \"printf\" in Python? No, but the functionality of the \"ancient\" printf is contained in Python. To this purpose the modulo operator \"%\" is overloaded by the string class to perform string formatting. Therefore, it is often called string modulo (or somethimes even called modulus) operator, though it has not a lot in common with the actual modulo calculation on numbers. Another term for it is \"string interpolation\", because it interpolates various class types (like int, float and so on) into a formatted string. In many cases the string created via the string interpolation mechanism is used for outputting values in a special way. But it can also be used, for example, to create the right format to put the data into a database.\n",
    "Since Python 2.6 has been introduced, the string method format should be used instead of this old-style formatting. Unfortunately, string modulo \"%\" is still available in Python3 and what is even worse, it is still widely used. That's why we cover it in great detail in this tutorial. You should be capable of understanding it, when you encounter it in some Python code. However, it is very likely that one day this old style of formatting will be removed from the language. So you should get used to str.format().\n",
    "\n",
    "The following diagram depicts how the string modulo operator works:\n",
    "\n",
    "\n",
    "<img width=500 src=\"../images/string_modulo_overview.webp\" srcset=\"../images/string_modulo_overview_800w.webp 800w,../images/string_modulo_overview_700w.webp 700w,../images/string_modulo_overview_600w.webp 600w,../images/string_modulo_overview_500w.webp 500w,../images/string_modulo_overview_400w.webp 400w,../images/string_modulo_overview_350w.webp 350w,../images/string_modulo_overview_300w.webp 300w\" alt=\"General way of working of the string modulo operator\" />\n",
    "\n",
    "On the left side of the \"string modulo operator\" there is the so-called format string and on the right side is a tuple with the content, which is interpolated in the format string. The values can be literals, variables or arbitrary arithmetic expressions.\n",
    "\n",
    "<img width=500 src=\"../images/format_string_value_set.webp\" srcset=\"../images/format_string_value_set_800w.webp 800w,../images/format_string_value_set_700w.webp 700w,../images/format_string_value_set_600w.webp 600w,../images/format_string_value_set_500w.webp 500w,../images/format_string_value_set_400w.webp 400w,../images/format_string_value_set_350w.webp 350w,../images/format_string_value_set_300w.webp 300w\" alt=\"General way of working of the string modulo operator, format string\" />\n",
    "\n",
    "\n",
    "The format string contains placeholders. There are two of those in our example: \"%5d\" and \"%8.2f\".\n",
    "\n",
    "The general syntax for a format placeholder is\n",
    "\n",
    "    %[flags][width][.precision]type \n",
    "\n",
    "\n",
    "\n",
    "<img width=300 class=\"imgright\" src=\"../images/string_modulo_float.webp\" srcset=\"../images/string_modulo_float_350w.webp 350w,../images/string_modulo_float_300w.webp 300w\" alt=\"Explaining a float format\" /> \n",
    "\n",
    "\n",
    "Let's have a look at the placeholders in our example. The second one \"%8.2f\" is a format description for a float number. Like other placeholders, it is introduced with the \"%\" character. This is followed by the total number of digits the string should contain. This number includes the decimal point and all the digits, i.e. before and after the decimal point. Our float number 59.058 has to be formatted with 8 characters. The decimal part of the number or the precision is set to 2, i.e. the number following the \".\" in our placeholder. Finally, the last character \"f\" of our placeholder stands for \"float\".\n",
    "\n",
    "If you look at the output, you will notice that the 3 decimal digits have been rounded. Furthermore, the number has been preceded in the output with 3 leading blanks.\n",
    "\n",
    "The first placeholder \"%5d\" is used for the first component of our tuple, i.e. the integer 453. The number will be printed with 5 characters. As 453 consists only of 3 digits, the output is padded with 2 leading blanks. You may have expected a \"%5i\" instead of \"%5d\". Where is the difference? It's easy: There is no difference between \"d\" and \"i\" both are used for formatting integers. The advantage or beauty of a formatted output can only be seen, if more than one line is printed with the same pattern. In the following picture you can see, how it looks, if five float numbers are printed with the placeholder \"%6.2f\" in subsequent lines:\n",
    "\n",
    "\n",
    "<img width=400 src=\"../images/formatting_floats.webp\" srcset=\"../images/formatting_floats_800w.webp 800w,../images/formatting_floats_700w.webp 700w,../images/formatting_floats_600w.webp 600w,../images/formatting_floats_500w.webp 500w,../images/formatting_floats_400w.webp 400w,../images/formatting_floats_350w.webp 350w,../images/formatting_floats_300w.webp 300w\" alt=\"formatting multiple floats\" />\n",
    "\n",
    "\n",
    "<br>\n",
    "<br>\n",
    "<br>\n",
    "\n",
    "\n",
    "<table cellpadding=\"6\" cellspacing=\"0\" border=\"1\" bgcolor=\"#F5F5F5\">\n",
    "  <thead>\n",
    "    <tr>\n",
    "      <th>Conversion</th>\n",
    "      <th>Meaning</th>\n",
    "      </tr>\n",
    "    </thead>\n",
    "  <tbody>\n",
    "    <tr><td valign=\"baseline\"><tt>d</tt></td>\n",
    "        <td>Signed integer decimal.</td>\n",
    "        </tr>\n",
    "    <tr><td valign=\"baseline\"><tt>i</tt></td>\n",
    "        <td>Signed integer decimal.</td>\n",
    "        </tr>\n",
    "    <tr><td valign=\"baseline\"><tt>o</tt></td>\n",
    "        <td>Unsigned octal.</td>\n",
    "        </tr>\n",
    "    <tr><td valign=\"baseline\"><tt>u</tt></td>\n",
    "        <td>Obsolete and equivalent to 'd', i.e. signed integer decimal.</td>\n",
    "        </tr>\n",
    "    <tr><td valign=\"baseline\"><tt>x</tt></td>\n",
    "        <td>Unsigned hexadecimal (lowercase).</td>\n",
    "        </tr>\n",
    "    <tr><td valign=\"baseline\"><tt>X</tt></td>\n",
    "        <td>Unsigned hexadecimal (uppercase).</td>\n",
    "        </tr>\n",
    "    <tr><td valign=\"baseline\"><tt>e</tt></td>\n",
    "        <td>Floating point exponential format (lowercase).</td>\n",
    "        </tr>\n",
    "    <tr><td valign=\"baseline\"><tt>E</tt></td>\n",
    "        <td>Floating point exponential format (uppercase).</td>\n",
    "        </tr>\n",
    "    <tr><td valign=\"baseline\"><tt>f</tt></td>\n",
    "        <td>Floating point decimal format.</td>\n",
    "        </tr>\n",
    "    <tr><td valign=\"baseline\"><tt>F</tt></td>\n",
    "        <td>Floating point decimal format.</td>\n",
    "        </tr>\n",
    "    <tr><td valign=\"baseline\"><tt>g</tt></td>\n",
    "        <td>Same as \"<tt>e</tt>\" if exponent is greater than -4 or\n",
    "              less than precision, \"<tt>f</tt>\" otherwise.</td>\n",
    "        </tr>\n",
    "    <tr><td valign=\"baseline\"><tt>G</tt></td>\n",
    "        <td>Same as \"<tt>E</tt>\" if exponent is greater than -4 or\n",
    "              less than precision, \"<tt>F</tt>\" otherwise.</td>\n",
    "        </tr>\n",
    "    <tr><td valign=\"baseline\"><tt>c</tt></td>\n",
    "        <td>Single character (accepts integer or single character\n",
    "              string).</td>\n",
    "        </tr>\n",
    "    <tr><td valign=\"baseline\"><tt>r</tt></td>\n",
    "        <td>String (converts any python object using\n",
    "              <tt class=\"function\">repr()</tt>).</td>\n",
    "        </tr>\n",
    "    <tr><td valign=\"baseline\"><tt>s</tt></td>\n",
    "        <td>String (converts any python object using\n",
    "              <tt class=\"function\">str()</tt>).</td>\n",
    "        </tr>\n",
    "    <tr><td valign=\"baseline\"><tt>%</tt></td>\n",
    "        <td>No argument is converted, results in a \"<tt>%</tt>\"\n",
    "               character in the result.</td>\n",
    "        </tbody>\n",
    "</table>\n",
    "The following examples show some example cases of the conversion rules from the table above:"
   ]
  },
  {
   "cell_type": "code",
   "execution_count": 6,
   "metadata": {},
   "outputs": [
    {
     "name": "stdout",
     "output_type": "stream",
     "text": [
      " 3.561e+02\n"
     ]
    }
   ],
   "source": [
    "print(\"%10.3e\"% (356.08977))"
   ]
  },
  {
   "cell_type": "code",
   "execution_count": 7,
   "metadata": {},
   "outputs": [
    {
     "name": "stdout",
     "output_type": "stream",
     "text": [
      " 3.561E+02\n"
     ]
    }
   ],
   "source": [
    "print(\"%10.3E\"% (356.08977))"
   ]
  },
  {
   "cell_type": "code",
   "execution_count": 8,
   "metadata": {},
   "outputs": [
    {
     "name": "stdout",
     "output_type": "stream",
     "text": [
      "        31\n"
     ]
    }
   ],
   "source": [
    "print(\"%10o\"% (25))"
   ]
  },
  {
   "cell_type": "code",
   "execution_count": 9,
   "metadata": {},
   "outputs": [
    {
     "name": "stdout",
     "output_type": "stream",
     "text": [
      "       031\n"
     ]
    }
   ],
   "source": [
    "print(\"%10.3o\"% (25))"
   ]
  },
  {
   "cell_type": "code",
   "execution_count": 10,
   "metadata": {},
   "outputs": [
    {
     "name": "stdout",
     "output_type": "stream",
     "text": [
      "     00031\n"
     ]
    }
   ],
   "source": [
    "print(\"%10.5o\"% (25))"
   ]
  },
  {
   "cell_type": "code",
   "execution_count": 11,
   "metadata": {},
   "outputs": [
    {
     "name": "stdout",
     "output_type": "stream",
     "text": [
      "   2f\n"
     ]
    }
   ],
   "source": [
    "print(\"%5x\"% (47))"
   ]
  },
  {
   "cell_type": "code",
   "execution_count": 12,
   "metadata": {},
   "outputs": [
    {
     "name": "stdout",
     "output_type": "stream",
     "text": [
      " 002f\n"
     ]
    }
   ],
   "source": [
    "print(\"%5.4x\"% (47))"
   ]
  },
  {
   "cell_type": "code",
   "execution_count": 13,
   "metadata": {},
   "outputs": [
    {
     "name": "stdout",
     "output_type": "stream",
     "text": [
      " 002F\n"
     ]
    }
   ],
   "source": [
    "print(\"%5.4X\"% (47))"
   ]
  },
  {
   "cell_type": "code",
   "execution_count": 14,
   "metadata": {},
   "outputs": [
    {
     "name": "stdout",
     "output_type": "stream",
     "text": [
      "Only one percentage sign: % \n"
     ]
    }
   ],
   "source": [
    "print(\"Only one percentage sign: %% \" % ())"
   ]
  },
  {
   "cell_type": "markdown",
   "metadata": {},
   "source": [
    "<table cellpadding=\"6\" cellspacing=\"0\" border=\"1\" bgcolor=\"#F5F5F5\">\n",
    "  <thead>\n",
    "    <tr>\n",
    "      <th>Flag</th>\n",
    "      <th>Meaning</th>\n",
    "      </tr>\n",
    "    </thead>\n",
    "  <tbody>\n",
    "    <tr><td valign=\"baseline\"><tt>#</tt></td>\n",
    "        <td>Used with o, x or X specifiers the value is preceded with 0, 0o, 0O, 0x or 0X respectively.\n",
    "</td></tr>\n",
    "    <tr><td valign=\"baseline\"><tt>0</tt></td>\n",
    "        <td  >The conversion result will be zero padded for numeric values.</td></tr>\n",
    "    <tr><td valign=\"baseline\"><tt>-</tt></td>\n",
    "        <td>The converted value is left adjusted</td></tr>\n",
    "    <tr><td valign=\"baseline\"><tt>&nbsp;</tt></td>\n",
    "        <td>If no sign (minus sign e.g.) is going to be written, a blank space is inserted before the value.</td></tr>\n",
    "    <tr><td valign=\"baseline\"><tt>+</tt></td>\n",
    "        <td>A sign character (\"<tt>+</tt>\" or \"<tt>-</tt>\") will\n",
    "             precede the conversion (overrides a \"space\" flag).</td></tr></tbody>\n",
    "Examples:"
   ]
  },
  {
   "cell_type": "code",
   "execution_count": 15,
   "metadata": {},
   "outputs": [
    {
     "name": "stdout",
     "output_type": "stream",
     "text": [
      " 0X2F\n"
     ]
    }
   ],
   "source": [
    "print(\"%#5X\"% (47))"
   ]
  },
  {
   "cell_type": "code",
   "execution_count": 16,
   "metadata": {},
   "outputs": [
    {
     "name": "stdout",
     "output_type": "stream",
     "text": [
      "   2F\n"
     ]
    }
   ],
   "source": [
    "print(\"%5X\"% (47))"
   ]
  },
  {
   "cell_type": "code",
   "execution_count": 17,
   "metadata": {},
   "outputs": [
    {
     "name": "stdout",
     "output_type": "stream",
     "text": [
      "0X002F\n"
     ]
    }
   ],
   "source": [
    "print(\"%#5.4X\"% (47))"
   ]
  },
  {
   "cell_type": "code",
   "execution_count": 18,
   "metadata": {},
   "outputs": [
    {
     "name": "stdout",
     "output_type": "stream",
     "text": [
      " 0o31\n"
     ]
    }
   ],
   "source": [
    "print(\"%#5o\"% (25))"
   ]
  },
  {
   "cell_type": "code",
   "execution_count": 19,
   "metadata": {},
   "outputs": [
    {
     "name": "stdout",
     "output_type": "stream",
     "text": [
      "+42\n"
     ]
    }
   ],
   "source": [
    "print(\"%+d\"% (42))"
   ]
  },
  {
   "cell_type": "code",
   "execution_count": 20,
   "metadata": {},
   "outputs": [
    {
     "name": "stdout",
     "output_type": "stream",
     "text": [
      " 42\n"
     ]
    }
   ],
   "source": [
    "print(\"% d\"% (42)) "
   ]
  },
  {
   "cell_type": "code",
   "execution_count": 21,
   "metadata": {},
   "outputs": [
    {
     "name": "stdout",
     "output_type": "stream",
     "text": [
      "+42\n"
     ]
    }
   ],
   "source": [
    "print(\"%+2d\"% (42))"
   ]
  },
  {
   "cell_type": "code",
   "execution_count": 22,
   "metadata": {},
   "outputs": [
    {
     "name": "stdout",
     "output_type": "stream",
     "text": [
      " 42\n"
     ]
    }
   ],
   "source": [
    "print(\"% 2d\"% (42))"
   ]
  },
  {
   "cell_type": "code",
   "execution_count": 23,
   "metadata": {},
   "outputs": [
    {
     "name": "stdout",
     "output_type": "stream",
     "text": [
      "42\n"
     ]
    }
   ],
   "source": [
    "print(\"%2d\"% (42))"
   ]
  },
  {
   "cell_type": "markdown",
   "metadata": {},
   "source": [
    "Even though it may look so, the formatting is not part of the print function. If you have a closer look at our examples, you will see that we passed a formatted string to the print function. Or to put it in other words: If the string modulo operator is applied to a string, it returns a string. This string in turn is passed in our examples to the print function. So, we could have used the string modulo functionality of Python in a two layer approach as well, i.e. first create a formatted string, which will be assigned to a variable and this variable is passed to the print function:"
   ]
  },
  {
   "cell_type": "code",
   "execution_count": 24,
   "metadata": {},
   "outputs": [
    {
     "name": "stdout",
     "output_type": "stream",
     "text": [
      "Price: $   356.09\n"
     ]
    }
   ],
   "source": [
    "s = \"Price: $ %8.2f\"% (356.08977)\n",
    "print(s)"
   ]
  },
  {
   "cell_type": "markdown",
   "metadata": {},
   "source": [
    "### The Pythonic Way: The string method \"format\"\n",
    "\n",
    "The Python help function is not very helpful concerning the string format method. All it says is this:\n",
    "\n",
    "<pre> |  format(...)\n",
    " |      S.format(*args, **kwargs) -> str\n",
    " |      \n",
    " |      Return a formatted version of S, using substitutions from args and kwargs.\n",
    " |      The substitutions are identified by braces ('{' and '}').\n",
    " |  \n",
    " </pre>\n",
    "Let's dive into this topic a little bit deeper: The format method was added in Python 2.6. The general form of this method looks like this:\n",
    "\n",
    "<pre> template.format(p0, p1, ..., k0=v0, k1=v1, ...)</pre>\n",
    "\n",
    "\n",
    "The template (or format string) is a string which contains one or more format codes (fields to be replaced) embedded in constant text. The \"fields to be replaced\" are surrounded by curly braces {}. The curly braces and the \"code\" inside will be substituted with a formatted value from one of the arguments, according to the rules which we will specify soon. Anything else, which is not contained in curly braces will be literally printed, i.e. without any changes. If a brace character has to be printed, it has to be escaped by doubling it: {{ and }}.\n",
    "\n",
    "There are two kinds of arguments for the .format() method. The list of arguments starts with zero or more positional arguments (p0, p1, ...), it may be followed by zero or more keyword arguments of the form name=value.\n",
    "\n",
    "A positional parameter of the format method can be accessed by placing the index of the parameter after the opening brace, e.g. {0} accesses the first parameter, {1} the second one and so on. The index inside of the curly braces can be followed by a colon and a format string, which is similar to the notation of the string modulo, which we had discussed in the beginning of the chapter of our tutorial, e.g. {0:5d}\n",
    "If the positional parameters are used in the order in which they are written, the positional argument specifiers inside of the braces can be omitted, so '{} {} {}' corresponds to '{0} {1} {2}'. But they are needed, if you want to access them in different orders: '{2} {1} {0}'.\n",
    "\n",
    "The following diagram with an example usage depicts how the string method \"format\" works works for positional parameters:\n",
    "\n",
    "<img width=500 src=\"../images/format_method_positional_parameters.webp\" srcset=\"../images/format_method_positional_parameters_800w.webp 800w,../images/format_method_positional_parameters_700w.webp 700w,../images/format_method_positional_parameters_600w.webp 600w,../images/format_method_positional_parameters_500w.webp 500w,../images/format_method_positional_parameters_400w.webp 400w,../images/format_method_positional_parameters_350w.webp 350w,../images/format_method_positional_parameters_300w.webp 300w\" alt=\"General way of working of the format method with positional parameters\" />\n",
    "\n",
    "\n",
    "\n",
    "Examples of positional parameters:"
   ]
  },
  {
   "cell_type": "code",
   "execution_count": 25,
   "metadata": {},
   "outputs": [
    {
     "data": {
      "text/plain": [
       "'First argument: 47, second one: 11'"
      ]
     },
     "execution_count": 25,
     "metadata": {},
     "output_type": "execute_result"
    }
   ],
   "source": [
    "\"First argument: {0}, second one: {1}\".format(47,11) "
   ]
  },
  {
   "cell_type": "code",
   "execution_count": 26,
   "metadata": {},
   "outputs": [
    {
     "data": {
      "text/plain": [
       "'Second argument: 11, first one: 47'"
      ]
     },
     "execution_count": 26,
     "metadata": {},
     "output_type": "execute_result"
    }
   ],
   "source": [
    "\"Second argument: {1}, first one: {0}\".format(47,11) "
   ]
  },
  {
   "cell_type": "code",
   "execution_count": 27,
   "metadata": {},
   "outputs": [
    {
     "data": {
      "text/plain": [
       "'Second argument:  11, first one:   47.42'"
      ]
     },
     "execution_count": 27,
     "metadata": {},
     "output_type": "execute_result"
    }
   ],
   "source": [
    "\"Second argument: {1:3d}, first one: {0:7.2f}\".format(47.42,11)"
   ]
  },
  {
   "cell_type": "code",
   "execution_count": 4,
   "metadata": {},
   "outputs": [
    {
     "data": {
      "text/plain": [
       "'First argument: 47, second one: 11'"
      ]
     },
     "execution_count": 4,
     "metadata": {},
     "output_type": "execute_result"
    }
   ],
   "source": [
    "\"First argument: {}, second one: {}\".format(47,11) \n",
    "# arguments can be used more than once:"
   ]
  },
  {
   "cell_type": "code",
   "execution_count": 29,
   "metadata": {},
   "outputs": [
    {
     "data": {
      "text/plain": [
       "'various precisions:   1.41 or  1.415'"
      ]
     },
     "execution_count": 29,
     "metadata": {},
     "output_type": "execute_result"
    }
   ],
   "source": [
    "\"various precisions: {0:6.2f} or {0:6.3f}\".format(1.4148) "
   ]
  },
  {
   "cell_type": "markdown",
   "metadata": {},
   "source": [
    "In the following example we demonstrate how keyword parameters can be used with the format method:"
   ]
  },
  {
   "cell_type": "code",
   "execution_count": 30,
   "metadata": {},
   "outputs": [
    {
     "data": {
      "text/plain": [
       "'Art:   453,  Price:    59.06'"
      ]
     },
     "execution_count": 30,
     "metadata": {},
     "output_type": "execute_result"
    }
   ],
   "source": [
    "\"Art: {a:5d},  Price: {p:8.2f}\".format(a=453, p=59.058)"
   ]
  },
  {
   "cell_type": "markdown",
   "metadata": {},
   "source": [
    "<img width=500 src=\"../images/format_method_keyword_parameters.webp\" srcset=\"../images/format_method_keyword_parameters_800w.webp 800w,../images/format_method_keyword_parameters_700w.webp 700w,../images/format_method_keyword_parameters_600w.webp 600w,../images/format_method_keyword_parameters_500w.webp 500w,../images/format_method_keyword_parameters_400w.webp 400w,../images/format_method_keyword_parameters_350w.webp 350w,../images/format_method_keyword_parameters_300w.webp 300w\" alt=\"General way of working of the format method with keyword parameters\" />\n",
    "\n",
    "It's possible to \"left or right justify\" data with the format method. To this end, we can precede the formatting with a \"<\" (left justify) or \">\" (right justify). We demonstrate this with the following examples:\n"
   ]
  },
  {
   "cell_type": "code",
   "execution_count": 31,
   "metadata": {},
   "outputs": [
    {
     "data": {
      "text/plain": [
       "'Spam & Eggs:           6.99'"
      ]
     },
     "execution_count": 31,
     "metadata": {},
     "output_type": "execute_result"
    }
   ],
   "source": [
    "\"{0:<20s} {1:6.2f}\".format('Spam & Eggs:', 6.99)"
   ]
  },
  {
   "cell_type": "code",
   "execution_count": 32,
   "metadata": {},
   "outputs": [
    {
     "data": {
      "text/plain": [
       "'        Spam & Eggs:   6.99'"
      ]
     },
     "execution_count": 32,
     "metadata": {},
     "output_type": "execute_result"
    }
   ],
   "source": [
    "\"{0:>20s} {1:6.2f}\".format('Spam & Eggs:', 6.99)"
   ]
  },
  {
   "cell_type": "markdown",
   "metadata": {},
   "source": [
    "<table  cellpadding=\"6\" cellspacing=\"0\" border=\"1\" bgcolor=\"#F5F5F5\">\n",
    "<colgroup>\n",
    "<col width=\"14%\" />\n",
    "<col width=\"88%\" />\n",
    "</colgroup>\n",
    "<thead valign=\"bottom\">\n",
    "<tr><th class=\"head\">Option</th>\n",
    "<th class=\"head\">Meaning</th>\n",
    "</tr>\n",
    "</thead>\n",
    "<tbody valign=\"top\">\n",
    "<tr><td><tt><span class=\"pre\">'&lt;'</span></tt></td>\n",
    "<td>The field will be left-aligned within the available\n",
    "space. This is usually the default for strings.</td>\n",
    "</tr>\n",
    "<tr><td><tt><span class=\"pre\">'&gt;'</span></tt></td>\n",
    "<td>The field will be right-aligned within the\n",
    "available space. This is the default for numbers.</td>\n",
    "</tr>\n",
    "<tr><td><tt><span class=\"pre\">'0'</span></tt></td>\n",
    "<td>If the width field is preceded by a zero ('0') character,  \n",
    "sign-aware zero-padding for numeric types will be enabled.\n",
    "<pre>\n",
    ">>> x = 378\n",
    ">>> print(\"The value is {:06d}\".format(x))\n",
    "The value is 000378\n",
    ">>> x = -378\n",
    ">>> print(\"The value is {:06d}\".format(x))\n",
    "The value is -00378\n",
    "</pre>\n",
    "</td>\n",
    "</tr>\n",
    "<tr><td><tt><span class=\"pre\">','</span></tt></td>\n",
    "<td>This option signals the use of a comma for a thousands separator. \n",
    "<pre>\n",
    ">>> print(\"The value is {:,}\".format(x))\n",
    "The value is 78,962,324,245\n",
    ">>> print(\"The value is {0:6,d}\".format(x))\n",
    "The value is 5,897,653,423\n",
    ">>> x = 5897653423.89676\n",
    ">>> print(\"The value is {0:12,.3f}\".format(x))\n",
    "The value is 5,897,653,423.897\n",
    "</pre>\n",
    "</td>\n",
    "</tr>\n",
    "<tr><td><tt><span class=\"pre\">'='</span></tt></td>\n",
    "<td>Forces the padding to be placed after the sign (if any)\n",
    "but before the digits.  This is used for printing fields\n",
    "in the form \"+000000120\". This alignment option is only\n",
    "valid for numeric types.</td>\n",
    "</tr>\n",
    "<tr><td><tt><span class=\"pre\">'^'</span></tt></td>\n",
    "<td>Forces the field to be centered within the available\n",
    "space.</td>\n",
    "</tr>\n",
    "</tbody>\n",
    "</table>\n",
    "\n",
    "Unless a minimum field width is defined, the field width will always be the same size as the data to fill it, so that the alignment option has no meaning in this case.\n",
    "\n",
    "Additionally, we can modify the formatting with the sign option, which is only valid for number types:\n",
    "\n",
    "    \n",
    "<table  cellpadding=\"6\" cellspacing=\"0\" border=\"1\" bgcolor=\"#F5F5F5\">\n",
    "<colgroup>\n",
    "<col width=\"14%\" />\n",
    "<col width=\"88%\" />\n",
    "</colgroup>\n",
    "<thead valign=\"bottom\">\n",
    "<tr><th class=\"head\">Option</th>\n",
    "<th class=\"head\">Meaning</th>\n",
    "</tr>\n",
    "</thead>\n",
    "<tbody valign=\"top\">\n",
    "<tr><td><tt><span class=\"pre\">'+'</span></tt></td>\n",
    "<td>indicates that a sign should be used for both\n",
    "positive as well as negative numbers.</td>\n",
    "</tr>\n",
    "<tr><td><tt><span class=\"pre\">'-'</span></tt></td>\n",
    "<td>indicates that a sign should be used only for negative\n",
    "numbers, which is the default behavior.</td>\n",
    "</tr>\n",
    "<tr><td>space</td>\n",
    "<td>indicates that a leading space should be used on\n",
    "positive numbers, and a minus sign on negative numbers.</td>\n",
    "</tr>\n",
    "</tbody>\n",
    "</table>    \n",
    "\n",
    "\n",
    "### Using dictionaries in \"format\"\n",
    "We have seen in the previous chapters that we have two ways to access the values to be formatted:\n",
    "\n",
    "Using the position or the index:\n"
   ]
  },
  {
   "cell_type": "code",
   "execution_count": 33,
   "metadata": {},
   "outputs": [
    {
     "name": "stdout",
     "output_type": "stream",
     "text": [
      "The capital of Ontario is Toronto\n"
     ]
    }
   ],
   "source": [
    "print(\"The capital of {0:s} is {1:s}\".format(\"Ontario\",\"Toronto\"))"
   ]
  },
  {
   "cell_type": "markdown",
   "metadata": {},
   "source": [
    "Just to mention it once more: We could have used empty curly braces in the previous example!\n",
    "Using keyword parameters:\n"
   ]
  },
  {
   "cell_type": "code",
   "execution_count": 34,
   "metadata": {},
   "outputs": [
    {
     "name": "stdout",
     "output_type": "stream",
     "text": [
      "The capital of Ontario is Toronto\n"
     ]
    }
   ],
   "source": [
    "print(\"The capital of {province} is {capital}\".format(province=\"Ontario\",capital=\"Toronto\"))"
   ]
  },
  {
   "cell_type": "markdown",
   "metadata": {},
   "source": [
    "The second case can be expressed with a dictionary as well, as we can see in the following code:"
   ]
  },
  {
   "cell_type": "code",
   "execution_count": 35,
   "metadata": {},
   "outputs": [
    {
     "data": {
      "text/plain": [
       "{'province': 'Ontario', 'capital': 'Toronto'}"
      ]
     },
     "execution_count": 35,
     "metadata": {},
     "output_type": "execute_result"
    }
   ],
   "source": [
    "data = dict(province=\"Ontario\",capital=\"Toronto\")\n",
    "data"
   ]
  },
  {
   "cell_type": "code",
   "execution_count": 36,
   "metadata": {},
   "outputs": [
    {
     "name": "stdout",
     "output_type": "stream",
     "text": [
      "The capital of Ontario is Toronto\n"
     ]
    }
   ],
   "source": [
    "print(\"The capital of {province} is {capital}\".format(**data))"
   ]
  },
  {
   "cell_type": "markdown",
   "metadata": {},
   "source": [
    "The double \"*\" in front of data turns data automatically into the form 'province=\"Ontario\",capital=\"Toronto\"'. Let's look at the following Python program:"
   ]
  },
  {
   "cell_type": "code",
   "execution_count": 37,
   "metadata": {},
   "outputs": [
    {
     "name": "stdout",
     "output_type": "stream",
     "text": [
      "Countries and their capitals:\n",
      "United States: Washington\n",
      "US: Washington\n",
      "Canada: Ottawa\n",
      "Germany: Berlin\n",
      "France: Paris\n",
      "England: London\n",
      "UK: London\n",
      "Switzerland: Bern\n",
      "Austria: Vienna\n",
      "Netherlands: Amsterdam\n"
     ]
    }
   ],
   "source": [
    "capital_country = {\"United States\" : \"Washington\", \n",
    "                   \"US\" : \"Washington\", \n",
    "                   \"Canada\" : \"Ottawa\",\n",
    "                   \"Germany\": \"Berlin\",\n",
    "                   \"France\" : \"Paris\",\n",
    "                   \"England\" : \"London\",\n",
    "                   \"UK\" : \"London\",\n",
    "                   \"Switzerland\" : \"Bern\",\n",
    "                   \"Austria\" : \"Vienna\",\n",
    "                   \"Netherlands\" : \"Amsterdam\"}\n",
    "\n",
    "print(\"Countries and their capitals:\")\n",
    "for c in capital_country:\n",
    "    print(\"{country}: {capital}\".format(country=c, capital=capital_country[c]))"
   ]
  },
  {
   "cell_type": "markdown",
   "metadata": {},
   "source": [
    "We can rewrite the previous example by using the dictionary directly. The output will be the same:"
   ]
  },
  {
   "cell_type": "code",
   "execution_count": 38,
   "metadata": {},
   "outputs": [
    {
     "name": "stdout",
     "output_type": "stream",
     "text": [
      "Countries and their capitals:\n",
      "United States: Washington\n",
      "US: Washington\n",
      "Canada: Ottawa\n",
      "Germany: Berlin\n",
      "France: Paris\n",
      "England: London\n",
      "UK: London\n",
      "Switzerland: Bern\n",
      "Austria: Vienna\n",
      "Netherlands: Amsterdam\n"
     ]
    }
   ],
   "source": [
    "capital_country = {\"United States\" : \"Washington\", \n",
    "                   \"US\" : \"Washington\", \n",
    "                   \"Canada\" : \"Ottawa\",\n",
    "                   \"Germany\": \"Berlin\",\n",
    "                   \"France\" : \"Paris\",\n",
    "                   \"England\" : \"London\",\n",
    "                   \"UK\" : \"London\",\n",
    "                   \"Switzerland\" : \"Bern\",\n",
    "                   \"Austria\" : \"Vienna\",\n",
    "                   \"Netherlands\" : \"Amsterdam\"}\n",
    "\n",
    "print(\"Countries and their capitals:\")\n",
    "for c in capital_country:\n",
    "    format_string = c + \": {\" + c + \"}\" \n",
    "    print(format_string.format(**capital_country))"
   ]
  },
  {
   "cell_type": "markdown",
   "metadata": {},
   "source": [
    "### Using Local Variable Names in \"format\"\n",
    "\"locals\" is a function, which returns a dictionary with the current scope's local variables, i.e- the local variable names are the keys of this dictionary and the corresponding values are the values of these variables:\n"
   ]
  },
  {
   "cell_type": "code",
   "execution_count": 7,
   "metadata": {},
   "outputs": [],
   "source": [
    "a = 42\n",
    "b = 47\n",
    "def f():\n",
    "    return 42\n",
    "locals()"
   ]
  },
  {
   "cell_type": "markdown",
   "metadata": {},
   "source": [
    "The dictionary returned by locals() can be used as a parameter of the string format method. This way we can use all the local variable names inside of a format string.\n",
    "\n",
    "Continuing with the previous example, we can create the following output, in which we use the local variables a, b and f:\n"
   ]
  },
  {
   "cell_type": "code",
   "execution_count": 9,
   "metadata": {},
   "outputs": [
    {
     "name": "stdout",
     "output_type": "stream",
     "text": [
      "a=42, b=47 and f=<function f at 0x00000285FFA729D8>\n"
     ]
    }
   ],
   "source": [
    "print(\"a={a}, b={b} and f={f}\".format(**locals()))"
   ]
  },
  {
   "cell_type": "markdown",
   "metadata": {},
   "source": [
    "### Other string methods for Formatting\n",
    "The string class contains further methods, which can be used for formatting purposes as well: ljust, rjust, center and zfill.\n",
    "\n",
    "Let S be a string, the 4 methods are defined like this:\n",
    "\n",
    "    •center(...):\n",
    "\n",
    "   <pre> S.center(width[, fillchar]) -> str </pre>\n",
    "\n",
    "Return S centred in a string of length width. Padding is done using the specified fill character. The default value is a space.\n",
    "\n",
    "    Examples:"
   ]
  },
  {
   "cell_type": "code",
   "execution_count": 2,
   "metadata": {},
   "outputs": [
    {
     "data": {
      "text/plain": [
       "'  Python  '"
      ]
     },
     "execution_count": 2,
     "metadata": {},
     "output_type": "execute_result"
    }
   ],
   "source": [
    "s = \"Python\"\n",
    "s.center(10)   "
   ]
  },
  {
   "cell_type": "code",
   "execution_count": 42,
   "metadata": {},
   "outputs": [
    {
     "data": {
      "text/plain": [
       "'Price: $   356.09'"
      ]
     },
     "execution_count": 42,
     "metadata": {},
     "output_type": "execute_result"
    }
   ],
   "source": [
    "s.center(10,\"*\")"
   ]
  },
  {
   "cell_type": "markdown",
   "metadata": {},
   "source": [
    "    •ljust(...):\n",
    "\n",
    "   <pre> S.ljust(width[, fillchar]) -> str </pre>\n",
    "\n",
    "Return S left-justified in a string of length \"width\". Padding is done using the specified fill character. If none is given, a space will be used as default.\n",
    "\n",
    "Examples:"
   ]
  },
  {
   "cell_type": "code",
   "execution_count": 43,
   "metadata": {},
   "outputs": [
    {
     "data": {
      "text/plain": [
       "'Training    '"
      ]
     },
     "execution_count": 43,
     "metadata": {},
     "output_type": "execute_result"
    }
   ],
   "source": [
    "s = \"Training\"\n",
    "s.ljust(12)  "
   ]
  },
  {
   "cell_type": "code",
   "execution_count": 44,
   "metadata": {},
   "outputs": [
    {
     "data": {
      "text/plain": [
       "'Training::::'"
      ]
     },
     "execution_count": 44,
     "metadata": {},
     "output_type": "execute_result"
    }
   ],
   "source": [
    "s.ljust(12,\":\")\n"
   ]
  },
  {
   "cell_type": "markdown",
   "metadata": {},
   "source": [
    "    •rjust(...):\n",
    "\n",
    "<pre> S.rjust(width[, fillchar]) -> str </pre>\n",
    "\n",
    "Return S right-justified in a string of length width. Padding is done using the specified fill character. The default value is again a space.\n",
    "\n",
    "Examples:"
   ]
  },
  {
   "cell_type": "code",
   "execution_count": 45,
   "metadata": {},
   "outputs": [
    {
     "data": {
      "text/plain": [
       "'    Programming'"
      ]
     },
     "execution_count": 45,
     "metadata": {},
     "output_type": "execute_result"
    }
   ],
   "source": [
    "s = \"Programming\"\n",
    "s.rjust(15)"
   ]
  },
  {
   "cell_type": "code",
   "execution_count": 46,
   "metadata": {},
   "outputs": [
    {
     "data": {
      "text/plain": [
       "'~~~~Programming'"
      ]
     },
     "execution_count": 46,
     "metadata": {},
     "output_type": "execute_result"
    }
   ],
   "source": [
    "s.rjust(15, \"~\")"
   ]
  },
  {
   "cell_type": "markdown",
   "metadata": {},
   "source": [
    "    •zfill(...):\n",
    "\n",
    "   <pre> S.zfill(width) -> str </pre>\n",
    "\n",
    "Pad a string S with zeros on the left, to fill a field of the specified width. The string S is never truncated. This method can be easily emulated with rjust.\n",
    "\n",
    "Examples:"
   ]
  },
  {
   "cell_type": "code",
   "execution_count": 10,
   "metadata": {},
   "outputs": [
    {
     "data": {
      "text/plain": [
       "'000043447879'"
      ]
     },
     "execution_count": 10,
     "metadata": {},
     "output_type": "execute_result"
    }
   ],
   "source": [
    "account_number = \"43447879\"\n",
    "account_number.zfill(12)\n",
    "# can be emulated with rjust:"
   ]
  },
  {
   "cell_type": "code",
   "execution_count": 48,
   "metadata": {},
   "outputs": [
    {
     "data": {
      "text/plain": [
       "'000043447879'"
      ]
     },
     "execution_count": 48,
     "metadata": {},
     "output_type": "execute_result"
    }
   ],
   "source": [
    "account_number.rjust(12,\"0\")"
   ]
  },
  {
   "cell_type": "markdown",
   "metadata": {},
   "source": [
    "### Formatted String Literals\n",
    "Python 3.6 introduces formatted string literals. They are prefixed with an 'f'. The formatting syntax is similar to the format strings accepted by str.format(). Like the format string of format method, they contain replacement fields formed with curly braces. The replacement fields are expressions, which are evaluated at run time, and then formatted using the format() protocol. It's easiest to understand by looking at the following examples:\n"
   ]
  },
  {
   "cell_type": "code",
   "execution_count": 49,
   "metadata": {},
   "outputs": [
    {
     "data": {
      "text/plain": [
       "'Price in Euro: 11.23'"
      ]
     },
     "execution_count": 49,
     "metadata": {},
     "output_type": "execute_result"
    }
   ],
   "source": [
    "price = 11.23\n",
    "f\"Price in Euro: {price}\""
   ]
  },
  {
   "cell_type": "code",
   "execution_count": 50,
   "metadata": {},
   "outputs": [
    {
     "data": {
      "text/plain": [
       "'Price in Swiss Franks: 12.195780000000001'"
      ]
     },
     "execution_count": 50,
     "metadata": {},
     "output_type": "execute_result"
    }
   ],
   "source": [
    "f\"Price in Swiss Franks: {price * 1.086}\""
   ]
  },
  {
   "cell_type": "code",
   "execution_count": 51,
   "metadata": {},
   "outputs": [
    {
     "data": {
      "text/plain": [
       "'Price in Swiss Franks: 12.20'"
      ]
     },
     "execution_count": 51,
     "metadata": {},
     "output_type": "execute_result"
    }
   ],
   "source": [
    "f\"Price in Swiss Franks: {price * 1.086:5.2f}\""
   ]
  },
  {
   "cell_type": "code",
   "execution_count": 11,
   "metadata": {},
   "outputs": [
    {
     "name": "stdout",
     "output_type": "stream",
     "text": [
      "     bread:\n",
      "    butter:\n",
      "       tea:\n"
     ]
    }
   ],
   "source": [
    "for article in [\"bread\", \"butter\", \"tea\"]:\n",
    "    print(f\"{article:>10}:\")"
   ]
  }
 ],
 "metadata": {
  "kernelspec": {
   "display_name": "Python 3",
   "language": "python",
   "name": "python3"
  },
  "language_info": {
   "codemirror_mode": {
    "name": "ipython",
    "version": 3
   },
   "file_extension": ".py",
   "mimetype": "text/x-python",
   "name": "python",
   "nbconvert_exporter": "python",
   "pygments_lexer": "ipython3",
   "version": "3.7.4"
  }
 },
 "nbformat": 4,
 "nbformat_minor": 2
}
