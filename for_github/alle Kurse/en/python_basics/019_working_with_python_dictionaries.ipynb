{
 "cells": [
  {
   "cell_type": "markdown",
   "metadata": {},
   "source": [
    "## Working with Dictionaries\n",
    "\n",
    "# Introduction\n",
    "\n",
    "<img width=200 height=200 class=\"imgright\" src=\"../images/coffee_vending_machine.webp\" srcset=\"../images/coffee_vending_machine_600w.webp 600w,../images/coffee_vending_machine_500w.webp 500w,../images/coffee_vending_machine_400w.webp 400w,../images/coffee_vending_machine_350w.webp 350w,../images/coffee_vending_machine_300w.webp 300w\" alt=\"Coffee Vending Machine\" />\n",
    "\n",
    "\n",
    "In this chapter of our Python tutorial we assume that you are familiar with Python dictionaries and `while` loops, as we have discussed them in our chapters [Dictionaries](python3_dictionaries.php) and [Loops](python3_loops.php).\n",
    "\n",
    "We included this chapter to provide the learners with additional exercises of both dictionaries and `while` loops. \n",
    "The focus lies on nested dictionaries, in our case dictionaries of dictionaries. From the experiences of my courses, I know that these often cause special difficulties in particular for beginners. \n",
    "\n",
    "This chapter is also about coffee, tea and other hot drinks, whose consumption we manage using Python Dictionaries. "
   ]
  },
  {
   "cell_type": "markdown",
   "metadata": {},
   "source": [
    "## Coffee, Dictionary and a Loop"
   ]
  },
  {
   "cell_type": "code",
   "execution_count": 4,
   "metadata": {},
   "outputs": [
    {
     "name": "stdin",
     "output_type": "stream",
     "text": [
      "Name:  Peter\n"
     ]
    },
    {
     "name": "stdout",
     "output_type": "stream",
     "text": [
      "1\n"
     ]
    },
    {
     "name": "stdin",
     "output_type": "stream",
     "text": [
      "Name:  Franka\n"
     ]
    },
    {
     "name": "stdout",
     "output_type": "stream",
     "text": [
      "1\n"
     ]
    },
    {
     "name": "stdin",
     "output_type": "stream",
     "text": [
      "Name:  Franka\n"
     ]
    },
    {
     "name": "stdout",
     "output_type": "stream",
     "text": [
      "2\n"
     ]
    },
    {
     "name": "stdin",
     "output_type": "stream",
     "text": [
      "Name:  Eva\n"
     ]
    },
    {
     "name": "stdout",
     "output_type": "stream",
     "text": [
      "1\n"
     ]
    },
    {
     "name": "stdin",
     "output_type": "stream",
     "text": [
      "Name:  \n"
     ]
    },
    {
     "name": "stdout",
     "output_type": "stream",
     "text": [
      "kaffeeliste:  {'Peter': 1, 'Eva': 1, 'Franka': 2}\n"
     ]
    }
   ],
   "source": [
    "kaffeeliste = {\"Peter\": 0, \n",
    "               \"Eva\": 0, \n",
    "               \"Franka\": 0}\n",
    "\n",
    "while True:\n",
    "    name = input(\"Name: \")\n",
    "    if name == \"\":\n",
    "        break\n",
    "    kaffeeliste[name] += 1\n",
    "    print(kaffeeliste[name])\n",
    "    \n",
    "print(\"kaffeeliste: \", kaffeeliste)"
   ]
  },
  {
   "cell_type": "code",
   "execution_count": 5,
   "metadata": {},
   "outputs": [
    {
     "name": "stdin",
     "output_type": "stream",
     "text": [
      "Name:  Peter\n",
      "Getränk (kaffee/tee):  kaffee\n"
     ]
    },
    {
     "name": "stdout",
     "output_type": "stream",
     "text": [
      "1\n"
     ]
    },
    {
     "name": "stdin",
     "output_type": "stream",
     "text": [
      "Name:  Eva\n",
      "Getränk (kaffee/tee):  kaffee\n"
     ]
    },
    {
     "name": "stdout",
     "output_type": "stream",
     "text": [
      "1\n"
     ]
    },
    {
     "name": "stdin",
     "output_type": "stream",
     "text": [
      "Name:  Franka\n",
      "Getränk (kaffee/tee):  tee\n"
     ]
    },
    {
     "name": "stdout",
     "output_type": "stream",
     "text": [
      "1\n"
     ]
    },
    {
     "name": "stdin",
     "output_type": "stream",
     "text": [
      "Name:  \n"
     ]
    },
    {
     "name": "stdout",
     "output_type": "stream",
     "text": [
      "Kaffeeliste:  {'Peter': 1, 'Eva': 1, 'Franka': 0}\n",
      "Teeliste:  {'Peter': 0, 'Eva': 0, 'Franka': 1}\n"
     ]
    }
   ],
   "source": [
    "kaffeeliste = {\"Peter\": 0, \n",
    "               \"Eva\": 0, \n",
    "               \"Franka\": 0}\n",
    "teeliste = {\"Peter\": 0, \n",
    "            \"Eva\": 0, \n",
    "            \"Franka\": 0}\n",
    "\n",
    "while True:\n",
    "    name = input(\"Name: \")\n",
    "    if name == \"\":\n",
    "        break\n",
    "    getränk = input(\"Getränk (kaffee/tee): \")\n",
    "    if getränk.lower() == \"kaffee\":\n",
    "        kaffeeliste[name] += 1\n",
    "        print(kaffeeliste[name])\n",
    "    elif getränk.lower() == \"tee\":\n",
    "        teeliste[name] += 1\n",
    "        print(teeliste[name])\n",
    "        \n",
    "print(\"Kaffeeliste: \", kaffeeliste)\n",
    "print(\"Teeliste: \", teeliste)"
   ]
  },
  {
   "cell_type": "code",
   "execution_count": null,
   "metadata": {},
   "outputs": [
    {
     "name": "stdin",
     "output_type": "stream",
     "text": [
      "Name:  Peter\n",
      "Getränk (Kaffee/Tee):  Tee\n"
     ]
    }
   ],
   "source": [
    "getränkeliste = {\"Peter\": {\"Tee\": 0, \n",
    "                           \"Kaffee\": 0}, \n",
    "                 \"Eva\": {\"Tee\": 0, \n",
    "                         \"Kaffee\": 0}, \n",
    "                 \"Franka\": {\"Tee\": 0, \n",
    "                            \"Kaffee\": 0}}\n",
    "\n",
    "while True:\n",
    "    name = input(\"Name: \").capitalize()\n",
    "    if name == \"\":\n",
    "        break\n",
    "    if name not in getränkeliste:    # gibt keinen Key \"name\"\n",
    "        antwort = input(\"Sollen wir \" + name + \" in Liste aufnehmen? (j/n)\")\n",
    "        if antwort in [\"j\", \"ja\", \"Ja\", \"y\"]:\n",
    "            getränkeliste[name] = {\"Tee\": 0, \"Kaffee\": 0}\n",
    "        else:\n",
    "            print(\"Dann gibt's nichts zu trinken für \" + name + \"!\")\n",
    "            continue\n",
    "    drink = input(\"Getränk (Kaffee/Tee): \").capitalize()\n",
    "    getränkeliste[name][drink] += 1\n",
    "print(getränkeliste)\n"
   ]
  },
  {
   "cell_type": "code",
   "execution_count": 2,
   "metadata": {},
   "outputs": [
    {
     "name": "stdout",
     "output_type": "stream",
     "text": [
      "{'Peter': {}}\n",
      "{'Peter': {'Tee': 0, 'Kaffee': 0, 'Kakao': 0, 'Gemüsebrühe': 0}, 'Eva': {}}\n",
      "{'Peter': {'Tee': 0, 'Kaffee': 0, 'Kakao': 0, 'Gemüsebrühe': 0}, 'Eva': {'Tee': 0, 'Kaffee': 0, 'Kakao': 0, 'Gemüsebrühe': 0}, 'Sarah': {}}\n",
      "{'Peter': {'Tee': 0, 'Kaffee': 0, 'Kakao': 0, 'Gemüsebrühe': 0}, 'Eva': {'Tee': 0, 'Kaffee': 0, 'Kakao': 0, 'Gemüsebrühe': 0}, 'Sarah': {'Tee': 0, 'Kaffee': 0, 'Kakao': 0, 'Gemüsebrühe': 0}, 'Eddie': {}}\n",
      "{'Peter': {'Tee': 0, 'Kaffee': 0, 'Kakao': 0, 'Gemüsebrühe': 0}, 'Eva': {'Tee': 0, 'Kaffee': 0, 'Kakao': 0, 'Gemüsebrühe': 0}, 'Sarah': {'Tee': 0, 'Kaffee': 0, 'Kakao': 0, 'Gemüsebrühe': 0}, 'Eddie': {'Tee': 0, 'Kaffee': 0, 'Kakao': 0, 'Gemüsebrühe': 0}, 'Swen': {}}\n"
     ]
    }
   ],
   "source": [
    "getränke = [\"Tee\", \"Kaffee\", \"Kakao\", \"Gemüsebrühe\"]\n",
    "namen = [\"Peter\", \"Eva\", \"Sarah\", \"Eddie\", \"Swen\"]\n",
    "\n",
    "getränkekonsum = {}\n",
    "for name in namen:\n",
    "    getränkekonsum[name] = {}\n",
    "    print(getränkekonsum)\n",
    "    for getränk in getränke:\n",
    "        getränkekonsum[name][getränk] = 0"
   ]
  },
  {
   "cell_type": "code",
   "execution_count": 1,
   "metadata": {},
   "outputs": [],
   "source": [
    "supermarket = {\"milk\": {\"quantity\": 20, \"price\": 1.19},\n",
    "               \"biscuits\":  {\"quantity\": 32, \"price\": 1.45},\n",
    "               \"butter\":  {\"quantity\": 20, \"price\": 2.29},\n",
    "               \"cheese\":  {\"quantity\": 15, \"price\": 1.90},\n",
    "               \"bread\":  {\"quantity\": 15, \"price\": 2.59},\n",
    "               \"cookies\":  {\"quantity\": 20, \"price\": 4.99},\n",
    "               \"yogurt\": {\"quantity\": 18, \"price\": 3.65},\n",
    "               \"apples\":  {\"quantity\": 35, \"price\": 3.15},\n",
    "               \"oranges\":  {\"quantity\": 40, \"price\": 0.99},\n",
    "               \"bananas\": {\"quantity\": 23, \"price\": 1.29}}"
   ]
  },
  {
   "cell_type": "code",
   "execution_count": 2,
   "metadata": {},
   "outputs": [
    {
     "name": "stdout",
     "output_type": "stream",
     "text": [
      "milk:           00023.80\n",
      "biscuits:       00046.40\n",
      "butter:         00045.80\n",
      "cheese:         00028.50\n",
      "bread:          00038.85\n",
      "cookies:        00099.80\n",
      "yogurt:         00065.70\n",
      "apples:         00110.25\n",
      "oranges:        00039.60\n",
      "bananas:        00029.67\n",
      "========================\n",
      "Gesamtsumme:    00528.37\n"
     ]
    }
   ],
   "source": [
    "total_value = 0\n",
    "for article, numbers in supermarket.items():\n",
    "    quantity = numbers[\"quantity\"]\n",
    "    price = numbers[\"price\"]\n",
    "    product_price = quantity * price\n",
    "    article = article + ':'\n",
    "    print(f\"{article:15s} {product_price:08.2f}\")\n",
    "    total_value += product_price\n",
    "print(\"=\"*24)   \n",
    "print(f\"Gesamtsumme:    {total_value:08.2f}\")\n",
    "    "
   ]
  }
 ],
 "metadata": {
  "kernelspec": {
   "display_name": "Python 3",
   "language": "python",
   "name": "python3"
  },
  "language_info": {
   "codemirror_mode": {
    "name": "ipython",
    "version": 3
   },
   "file_extension": ".py",
   "mimetype": "text/x-python",
   "name": "python",
   "nbconvert_exporter": "python",
   "pygments_lexer": "ipython3",
   "version": "3.8.8"
  }
 },
 "nbformat": 4,
 "nbformat_minor": 4
}
