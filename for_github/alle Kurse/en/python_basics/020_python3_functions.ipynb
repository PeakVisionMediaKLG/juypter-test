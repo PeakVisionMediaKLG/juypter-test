{
 "cells": [
  {
   "cell_type": "markdown",
   "metadata": {},
   "source": [
    "## Functions\n",
    "### Syntax\n",
    "\n",
    "<img width=25% class=\"imgright\" src=\"../images/functions.webp\" alt=\"Functions\" />\n",
    "\n",
    "\n",
    "The concept of a function is one of the most important in mathematics. A common usage of functions in computer languages is to implement mathematical functions. Such a function is computing one or more results, which are entirely determined by the parameters passed to it.\n",
    "\n",
    "This is mathematics, but we are talking about programming and Python. So what is a function in programming? In the most general sense, a function is a structuring element in programming languages to group a bunch of statements so they can be utilized in a program more than once. The only way to accomplish this without functions would be to reuse code by copying it and adapting it to different contexts, which would be a bad idea. Redundant code - repeating code in this case - should be avoided! Using functions usually enhances the comprehensibility and quality of a program. It also lowers the cost for development and maintenance of the software.\n",
    "\n",
    "Functions are known under various names in programming languages, e.g. as subroutines, routines, procedures, methods, or subprograms.\n",
    "\n",
    "### Motivating Example of Functions\n",
    "\n",
    "Let us look at the following code:"
   ]
  },
  {
   "cell_type": "code",
   "execution_count": 1,
   "metadata": {},
   "outputs": [
    {
     "name": "stdout",
     "output_type": "stream",
     "text": [
      "Program starts\n",
      "Hi Peter\n",
      "Nice to see you again!\n",
      "Enjoy our video!\n",
      "Hi Sarah\n",
      "Nice to see you again!\n",
      "Enjoy our video!\n",
      "Hi Dominque\n",
      "Nice to see you again!\n",
      "Enjoy our video!\n"
     ]
    }
   ],
   "source": [
    "print(\"Program starts\")\n",
    "\n",
    "print(\"Hi Peter\")\n",
    "print(\"Nice to see you again!\")\n",
    "print(\"Enjoy our video!\")\n",
    "\n",
    "# some lines of codes\n",
    "the_answer = 42 \n",
    "\n",
    "print(\"Hi Sarah\")\n",
    "print(\"Nice to see you again!\")\n",
    "print(\"Enjoy our video!\")\n",
    "\n",
    "width, length = 3, 4\n",
    "area = width * length\n",
    "\n",
    "print(\"Hi Dominque\")\n",
    "print(\"Nice to see you again!\")\n",
    "print(\"Enjoy our video!\")"
   ]
  },
  {
   "cell_type": "markdown",
   "metadata": {},
   "source": [
    "Let us have a closer look at the code above:"
   ]
  },
  {
   "cell_type": "markdown",
   "metadata": {},
   "source": [
    "<img width=\"60%\" src=\"../images/same_blocks.webp\" srcset=\"../images/same_blocks_800w.webp 800w,../images/same_blocks_700w.webp 700w,../images/same_blocks_600w.webp 600w,../images/same_blocks_500w.webp 500w,../images/same_blocks_400w.webp 400w,../images/same_blocks_350w.webp 350w,../images/same_blocks_300w.webp 300w\" alt=\"same blocks\">\n",
    "\n",
    "You can see in the code that we are greeting three persons. Every time we use three print calls which are nearly the same. Just the name is different. This is what we call redundant code. \n",
    "We are repeating the code the times. \n",
    "This shouldn't be the case. \n",
    "This is the point where functions can and should be used in Python.\n",
    "\n",
    "We could use wildcards in the code instead of names. In the following diagram we use a piece of the puzzle. We only write the code once and replace the puzzle piece with the corresponding name:\n",
    "\n",
    "<img width=\"60%\" src=\"../images/same_blocks_to_function.webp\" srcset=\"../images/same_blocks_to_function_800w.webp 800w,../images/same_blocks_to_function_700w.webp 700w,../images/same_blocks_to_function_600w.webp 600w,../images/same_blocks_to_function_500w.webp 500w,../images/same_blocks_to_function_400w.webp 400w,../images/same_blocks_to_function_350w.webp 350w,../images/same_blocks_to_function_300w.webp 300w\" alt=\"same blocks to function\">\n",
    "\n",
    "Of course, this was no correct Python code. We show how to do this in Python in the following section. \n",
    "\n",
    "### Functions in Python\n",
    "\n",
    "\n",
    "\n",
    "The following code uses a function with the name ```greet```. The previous puzzle piece is now a parameter with the name \"name\":\n",
    "                         "
   ]
  },
  {
   "cell_type": "code",
   "execution_count": 2,
   "metadata": {},
   "outputs": [
    {
     "name": "stdout",
     "output_type": "stream",
     "text": [
      "Program starts\n",
      "Hi Peter\n",
      "Nice to see you again!\n",
      "Enjoy our video!\n",
      "Hi Sarah\n",
      "Nice to see you again!\n",
      "Enjoy our video!\n",
      "Hi Dominque\n",
      "Nice to see you again!\n",
      "Enjoy our video!\n"
     ]
    }
   ],
   "source": [
    "def greet(name):\n",
    "    print(\"Hi \" + name)\n",
    "    print(\"Nice to see you again!\")\n",
    "    print(\"Enjoy our video!\")\n",
    "\n",
    "\n",
    "print(\"Program starts\")\n",
    "\n",
    "greet(\"Peter\")         \n",
    "\n",
    "\n",
    "# some lines of codes\n",
    "the_answer = 42 \n",
    "\n",
    "greet(\"Sarah\")      \n",
    "\n",
    "width, length = 3, 4\n",
    "area = width * length\n",
    "\n",
    "\n",
    "greet(\"Dominque\")      \n"
   ]
  },
  {
   "cell_type": "markdown",
   "metadata": {},
   "source": [
    "<img width=\"60%\" src=\"../images/same_blocks_to_function2.webp\" srcset=\"../images/same_blocks_to_function2_800w.webp 800w,../images/same_blocks_to_function2_700w.webp 700w,../images/same_blocks_to_function2_600w.webp 600w,../images/same_blocks_to_function2_500w.webp 500w,../images/same_blocks_to_function2_400w.webp 400w,../images/same_blocks_to_function2_350w.webp 350w,../images/same_blocks_to_function2_300w.webp 300w\" alt=\"same blocks to function\">"
   ]
  },
  {
   "cell_type": "markdown",
   "metadata": {},
   "source": [
    "We used a function in the previous code. We saw that a function definition starts with the ```def``` keyword. The general syntax looks like this:\n",
    "\n",
    "```\n",
    "def function-name(Parameter list):\n",
    "    statements, i.e. the function body\n",
    "```\n",
    "\n",
    "The parameter list consists of none or more parameters. Parameters are called arguments, if the function is called. The function body consists of indented statements. The function body gets executed every time the function is called. We demonstrate this in the following picture:\n",
    "\n",
    "<img width=60% src=\"../images/function_call_1.webp\" srcset=\"../images/function_call_1_800w.webp 800w,../images/function_call_1_700w.webp 700w,../images/function_call_1_600w.webp 600w,../images/function_call_1_500w.webp 500w,../images/function_call_1_400w.webp 400w,../images/function_call_1_350w.webp 350w,../images/function_call_1_300w.webp 300w\" alt=\"Function Call: Control Flow\" />\n",
    "\n",
    "The code from the picture can be seen in the following:\n"
   ]
  },
  {
   "cell_type": "code",
   "execution_count": 3,
   "metadata": {},
   "outputs": [
    {
     "name": "stdout",
     "output_type": "stream",
     "text": [
      "Program starts!\n",
      "Result of function call: 16\n",
      "Result of function call: 22\n"
     ]
    }
   ],
   "source": [
    "def f(x, y):\n",
    "    z = 2 * (x + y)\n",
    "    return z\n",
    "\n",
    "\n",
    "print(\"Program starts!\")\n",
    "a = 3\n",
    "res1 = f(a, 2+a)\n",
    "print(\"Result of function call:\", res1)\n",
    "a = 4\n",
    "b = 7\n",
    "res2 = f(a, b)\n",
    "print(\"Result of function call:\", res2)"
   ]
  },
  {
   "cell_type": "markdown",
   "metadata": {},
   "source": [
    "We call the function twice in the program. The function has two parameters, which are called ```x``` and ```y```. This means that the function ```f``` is expecting two values, or I should say \"two objects\". Firstly, we call this function with ```f(a, 2+a)```. This means that ```a``` goes to ```x``` and the result of ```2+a``` (5) 'goes to' the variable ```y```.  The mechanism for assigning arguments to parameters is called **argument passing**.  When we reach the ```return``` statement, the object referenced by ```z``` will be return, which means that it will be assigned to the variable ```res1```. After leaving the function ```f```, the variable ```z``` and the parameters ```x``` and ```y``` will be deleted automatically.\n"
   ]
  },
  {
   "cell_type": "markdown",
   "metadata": {},
   "source": [
    "\n"
   ]
  },
  {
   "cell_type": "markdown",
   "metadata": {},
   "source": [
    "\n",
    "<img width=60% src=\"../images/function_call_2.webp\" srcset=\"../images/function_call_2_800w.webp 800w,../images/function_call_2_700w.webp 700w,../images/function_call_2_600w.webp 600w,../images/function_call_2_500w.webp 500w,../images/function_call_2_400w.webp 400w,../images/function_call_2_350w.webp 350w,../images/function_call_2_300w.webp 300w\" alt=\"Function Call: Argument Passing Part1\" />"
   ]
  },
  {
   "cell_type": "markdown",
   "metadata": {},
   "source": [
    "The references to the objects can be seen in the next diagram:\n",
    "\n",
    "<img width=20% src=\"../images/function_call_3.webp\" alt=\"Function Call: Argument Passing Part2\" />"
   ]
  },
  {
   "cell_type": "markdown",
   "metadata": {},
   "source": [
    "\n",
    "\n",
    "\n",
    "\n",
    "\n",
    "The next Python code block contains an example of a function without a return statement. We use the ```pass``` statement inside of this function. ```pass``` is a null operation. This means that when it is executed, nothing happens. It is useful as a placeholder in situations when a statement is required syntactically, but no code needs to be executed:\n",
    "\n",
    "<pre>\n",
    "def doNothing():\n",
    "    pass\n",
    "</pre>"
   ]
  },
  {
   "cell_type": "markdown",
   "metadata": {},
   "source": [
    "A more useful function:"
   ]
  },
  {
   "cell_type": "code",
   "execution_count": 4,
   "metadata": {},
   "outputs": [
    {
     "name": "stdout",
     "output_type": "stream",
     "text": [
      "22.6 :  72.68\n",
      "25.8 :  78.44\n",
      "27.3 :  81.14\n",
      "29.8 :  85.64\n"
     ]
    }
   ],
   "source": [
    "def fahrenheit(T_in_celsius):\n",
    "    \"\"\" returns the temperature in degrees Fahrenheit \"\"\"\n",
    "    return (T_in_celsius * 9 / 5) + 32\n",
    "\n",
    "for t in (22.6, 25.8, 27.3, 29.8):\n",
    "    print(t, \": \", fahrenheit(t))"
   ]
  },
  {
   "cell_type": "markdown",
   "metadata": {},
   "source": [
    "\"\"\" returns the temperature in degrees Fahrenheit \"\"\" is the so-called docstring. It is used by the help function: "
   ]
  },
  {
   "cell_type": "code",
   "execution_count": 5,
   "metadata": {},
   "outputs": [
    {
     "name": "stdout",
     "output_type": "stream",
     "text": [
      "Help on function fahrenheit in module __main__:\n",
      "\n",
      "fahrenheit(T_in_celsius)\n",
      "    returns the temperature in degrees Fahrenheit\n",
      "\n"
     ]
    }
   ],
   "source": [
    "help(fahrenheit)"
   ]
  },
  {
   "cell_type": "markdown",
   "metadata": {},
   "source": [
    "<img width=25% class=\"imgright\" src=\"../images/puppet_weight.webp\" srcset=\"../images/puppet_weight_800w.webp 800w,../images/puppet_weight_700w.webp 700w,../images/puppet_weight_600w.webp 600w,../images/puppet_weight_500w.webp 500w,../images/puppet_weight_400w.webp 400w,../images/puppet_weight_350w.webp 350w,../images/puppet_weight_300w.webp 300w\" alt=\"Functions\" />\n",
    "\n",
    "Our next example could be interesting for the calorie-conscious Python learners. \n",
    "We also had an exercise in the chapter [Conditional Statements](python3_conditional_statemtents.php) of our Python tutorial. We will create now a function version of the program.\n",
    "\n",
    "The body mass index (BMI) is a value derived from the mass (w) and height (l) of a person. The BMI is defined as the body mass divided by the square of the body height, and is universally expressed\n",
    "\n",
    "$BMI = {w \\over {l ^ 2}}$\n",
    "\n",
    "The weight is given in kg and the length in metres.\n"
   ]
  },
  {
   "cell_type": "code",
   "execution_count": 6,
   "metadata": {},
   "outputs": [],
   "source": [
    "def BMI(weight, height):\n",
    "    \"\"\" calculates the BMI where \n",
    "        weight is in kg and height in metres\"\"\"\n",
    "    return weight / height**2"
   ]
  },
  {
   "cell_type": "markdown",
   "metadata": {},
   "source": [
    "We like to write a function to evaluate the bmi values according to the following table:\n",
    "\n",
    "<br>\n",
    "![BMI Evaluation](../images/bmi_evaluation.webp)"
   ]
  },
  {
   "cell_type": "markdown",
   "metadata": {},
   "source": [
    "The following shows code which is directly calculating the bmi and the evaluation of the bmi, but it is not using functions:"
   ]
  },
  {
   "cell_type": "code",
   "execution_count": 7,
   "metadata": {},
   "outputs": [
    {
     "name": "stdin",
     "output_type": "stream",
     "text": [
      "What is your height?  1.76\n",
      "What is your weight?  73.4\n"
     ]
    },
    {
     "name": "stdout",
     "output_type": "stream",
     "text": [
      "23.69576446280992\n",
      "Normal (healthy weight)\n"
     ]
    }
   ],
   "source": [
    "height = float(input(\"What is your height? \"))\n",
    "weight = float(input(\"What is your weight? \"))\n",
    "\n",
    "bmi = weight / height ** 2\n",
    "print(bmi)\n",
    "if bmi < 15:\n",
    "    print(\"Very severely underweight\")\n",
    "elif bmi < 16:\n",
    "    print(\"Severely underweight\")\n",
    "elif bmi < 18.5:\n",
    "    print(\"Underweight\")\n",
    "elif bmi < 25:\n",
    "    print(\"Normal (healthy weight)\")\n",
    "elif bmi < 30:\n",
    "    print(\"Overweight\")\n",
    "elif bmi < 35:\n",
    "    print(\"Obese Class I (Moderately obese)\")\n",
    "elif bmi < 40:\n",
    "    print(\"Obese Class II (Severely obese)\")\n",
    "else:\n",
    "    print(\"Obese Class III (Very severely obese)\")"
   ]
  },
  {
   "cell_type": "markdown",
   "metadata": {},
   "source": [
    "Turn the previous code into proper functions and function calls."
   ]
  },
  {
   "cell_type": "code",
   "execution_count": 3,
   "metadata": {},
   "outputs": [],
   "source": [
    "def BMI(weight, height):\n",
    "    \"\"\" calculates the BMI where \n",
    "        weight is in kg and height in metres\"\"\"\n",
    "    return weight / height**2\n",
    "\n",
    "def bmi_evaluate(bmi_value):\n",
    "    if bmi_value < 15:\n",
    "        result = \"Very severely underweight\"\n",
    "    elif bmi_value < 16:\n",
    "        result = \"Severely underweight\"\n",
    "    elif bmi_value < 18.5:\n",
    "        result = \"Underweight\"\n",
    "    elif bmi_value < 25:\n",
    "        result = \"Normal (healthy weight)\"\n",
    "    elif bmi_value < 30:\n",
    "        result = \"Overweight\"\n",
    "    elif bmi_value < 35:\n",
    "        result = \"Obese Class I (Moderately obese)\"\n",
    "    elif bmi_value < 40:\n",
    "        result = \"Obese Class II (Severely obese)\"\n",
    "    else:\n",
    "        result = \"Obese Class III (Very severely obese)\"\n",
    "    return result"
   ]
  },
  {
   "cell_type": "markdown",
   "metadata": {},
   "source": [
    "Let us check these functions:"
   ]
  },
  {
   "cell_type": "code",
   "execution_count": 4,
   "metadata": {},
   "outputs": [
    {
     "name": "stdin",
     "output_type": "stream",
     "text": [
      "What is your height?  1.82\n",
      "What is your weight?  72\n"
     ]
    },
    {
     "name": "stdout",
     "output_type": "stream",
     "text": [
      "Normal (healthy weight)\n"
     ]
    }
   ],
   "source": [
    "height = float(input(\"What is your height? \"))\n",
    "weight = float(input(\"What is your weight? \"))\n",
    "\n",
    "res = BMI(weight, height)\n",
    "print(bmi_evaluate(res))"
   ]
  },
  {
   "cell_type": "markdown",
   "metadata": {},
   "source": [
    "### Default arguments in Python\n",
    "\n",
    "When we define a Python function, we can set a default value to a parameter. \n",
    "If the function is called without the argument, this default value will be assigned to the parameter. This makes a parameter optional. To say it in other words: Default parameters are parameters, which don't have to be given, if the function is called. In this case, the default values are used. \n",
    "\n",
    "We will demonstrate the operating principle of default parameters with a simple example. The following function ```hello```, - which isn't very useful, - greets a person. If no name is given, it will greet everybody:"
   ]
  },
  {
   "cell_type": "code",
   "execution_count": 8,
   "metadata": {},
   "outputs": [
    {
     "name": "stdout",
     "output_type": "stream",
     "text": [
      "Hello Peter!\n",
      "Hello everybody!\n"
     ]
    }
   ],
   "source": [
    "def hello(name=\"everybody\"):\n",
    "    \"\"\" Greets a person \"\"\"\n",
    "    result = \"Hello \" + name + \"!\")\n",
    "\n",
    "hello(\"Peter\")\n",
    "hello()"
   ]
  },
  {
   "cell_type": "markdown",
   "metadata": {},
   "source": [
    "### The Defaults Pitfall\n",
    "\n",
    "In the previous section we learned about default parameters. Default parameters are quite simple, but quite often programmers new to Python encounter a horrible and completely unexpected surprise. This surprise arises from the way Python treats the default arguments and the effects steming from mutable objects.\n",
    "\n",
    "\n",
    "Mutable objects are those which can be changed after creation. In Python, dictionaries are examples of mutable objects. Passing mutable lists or dictionaries as default arguments to a function can have unforeseen effects. Programmer who use lists or dictionaries as default arguments to a function, expect the program to create a new list or dictionary every time that the function is called. However, this is not what actually happens. Default values will not be created when a function is called.  Default values are created exactly once, when the function is defined, i.e. at compile-time. \n",
    "\n",
    "\n",
    "Let us look at the following Python function \"spammer\" which is capable of creating a \"bag\" full of spam:\n"
   ]
  },
  {
   "cell_type": "code",
   "execution_count": 9,
   "metadata": {},
   "outputs": [],
   "source": [
    "def spammer(bag=[]):\n",
    "    bag.append(\"spam\")\n",
    "    return bag"
   ]
  },
  {
   "cell_type": "markdown",
   "metadata": {},
   "source": [
    "Calling this function once without an argument, returns the expected result:"
   ]
  },
  {
   "cell_type": "code",
   "execution_count": 10,
   "metadata": {},
   "outputs": [
    {
     "data": {
      "text/plain": [
       "['spam']"
      ]
     },
     "execution_count": 10,
     "metadata": {},
     "output_type": "execute_result"
    }
   ],
   "source": [
    "spammer()"
   ]
  },
  {
   "cell_type": "markdown",
   "metadata": {},
   "source": [
    "The surprise shows when we call the function again without an argument:"
   ]
  },
  {
   "cell_type": "code",
   "execution_count": 11,
   "metadata": {},
   "outputs": [
    {
     "data": {
      "text/plain": [
       "['spam', 'spam']"
      ]
     },
     "execution_count": 11,
     "metadata": {},
     "output_type": "execute_result"
    }
   ],
   "source": [
    "spammer()"
   ]
  },
  {
   "cell_type": "markdown",
   "metadata": {},
   "source": [
    "Most programmers will have expected the same result as in the first call, i.e. ```['spam']```\n",
    "\n",
    "To understand what is going on, you have to know what happens when the function is defined. The compiler creates an attribute ```__defaults__```:"
   ]
  },
  {
   "cell_type": "code",
   "execution_count": 12,
   "metadata": {},
   "outputs": [
    {
     "data": {
      "text/plain": [
       "([],)"
      ]
     },
     "execution_count": 12,
     "metadata": {},
     "output_type": "execute_result"
    }
   ],
   "source": [
    "def spammer(bag=[]):\n",
    "    bag.append(\"spam\")\n",
    "    return bag\n",
    "\n",
    "spammer.__defaults__"
   ]
  },
  {
   "cell_type": "markdown",
   "metadata": {},
   "source": [
    "Whenever we will call the function, the parameter ```bag``` will be assigned to the list object referenced by ```spammer.__defaults__[0]```:"
   ]
  },
  {
   "cell_type": "code",
   "execution_count": 13,
   "metadata": {},
   "outputs": [
    {
     "name": "stdout",
     "output_type": "stream",
     "text": [
      "['spam']\n",
      "['spam', 'spam']\n",
      "['spam', 'spam', 'spam']\n",
      "['spam', 'spam', 'spam', 'spam']\n",
      "['spam', 'spam', 'spam', 'spam', 'spam']\n",
      "spammer.__defaults__ (['spam', 'spam', 'spam', 'spam', 'spam'],)\n"
     ]
    }
   ],
   "source": [
    "for i in range(5):\n",
    "    print(spammer())\n",
    "    \n",
    "print(\"spammer.__defaults__\", spammer.__defaults__)"
   ]
  },
  {
   "cell_type": "markdown",
   "metadata": {},
   "source": [
    "Now, you know and understand what is going on, but you may ask yourself how to overcome this problem. The solution consists in using the immutable value ```None``` as the default. This way, the function can set bag dynamically (at run-time) to an empty list:"
   ]
  },
  {
   "cell_type": "code",
   "execution_count": 14,
   "metadata": {},
   "outputs": [
    {
     "name": "stdout",
     "output_type": "stream",
     "text": [
      "['spam']\n",
      "['spam']\n",
      "['spam']\n",
      "['spam']\n",
      "['spam']\n",
      "spammer.__defaults__ (None,)\n"
     ]
    }
   ],
   "source": [
    "def spammer(bag=None):\n",
    "    if bag is None:\n",
    "        bag = []\n",
    "    bag.append(\"spam\")\n",
    "    return bag\n",
    "\n",
    "for i in range(5):\n",
    "    print(spammer())\n",
    "    \n",
    "print(\"spammer.__defaults__\", spammer.__defaults__)"
   ]
  },
  {
   "cell_type": "markdown",
   "metadata": {},
   "source": [
    "### Docstring\n",
    "\n",
    "The first statement in the body of a function is usually a string statement called a Docstring, which can be accessed with the ```function_name.__doc__```. For\n",
    "example:"
   ]
  },
  {
   "cell_type": "code",
   "execution_count": 15,
   "metadata": {},
   "outputs": [
    {
     "name": "stdout",
     "output_type": "stream",
     "text": [
      "The docstring of the function hello:  Greets a person \n"
     ]
    }
   ],
   "source": [
    "def hello(name=\"everybody\"):\n",
    "    \"\"\" Greets a person \"\"\"\n",
    "    print(\"Hello \" + name + \"!\")\n",
    "\n",
    "print(\"The docstring of the function hello: \" + hello.__doc__)"
   ]
  },
  {
   "cell_type": "markdown",
   "metadata": {},
   "source": [
    "### Keyword Parameters\n",
    "\n",
    "Using keyword parameters is an alternative way to make function calls. The definition of the function doesn't change.\n",
    "An example:"
   ]
  },
  {
   "cell_type": "code",
   "execution_count": 16,
   "metadata": {},
   "outputs": [
    {
     "name": "stdout",
     "output_type": "stream",
     "text": [
      "8\n",
      "17\n"
     ]
    }
   ],
   "source": [
    "def sumsub(a, b, c=0, d=0):\n",
    "    return a - b + c - d\n",
    "\n",
    "print(sumsub(12, 4))\n",
    "print(sumsub(42, 15, d=10))"
   ]
  },
  {
   "cell_type": "markdown",
   "metadata": {},
   "source": [
    "Keyword parameters can only be those, which are not used as positional arguments. We can see the benefit in the example. If we hadn't had keyword parameters, the second call to function would have needed all four arguments, even though the c argument needs just the default value:"
   ]
  },
  {
   "cell_type": "code",
   "execution_count": 17,
   "metadata": {},
   "outputs": [
    {
     "name": "stdout",
     "output_type": "stream",
     "text": [
      "17\n"
     ]
    }
   ],
   "source": [
    "print(sumsub(42,15,0,10))"
   ]
  },
  {
   "cell_type": "markdown",
   "metadata": {},
   "source": [
    "### Return Values\n",
    "In our previous examples, we used a return statement in the function sumsub but not in Hello. So, we can see that it is not mandatory to have a return statement. But what will be returned, if we don't explicitly give a return statement. Let's see:"
   ]
  },
  {
   "cell_type": "code",
   "execution_count": 18,
   "metadata": {},
   "outputs": [
    {
     "name": "stdout",
     "output_type": "stream",
     "text": [
      "None\n"
     ]
    }
   ],
   "source": [
    "def no_return(x, y):\n",
    "    c = x + y\n",
    "\n",
    "res = no_return(4, 5)\n",
    "print(res)"
   ]
  },
  {
   "cell_type": "markdown",
   "metadata": {},
   "source": [
    "If we start this little script, *None* will be printed, i.e. the special value *None* will be returned by a return-less function. *None* will also be returned, if we have just a return in a function without an expression:"
   ]
  },
  {
   "cell_type": "code",
   "execution_count": 19,
   "metadata": {},
   "outputs": [
    {
     "name": "stdout",
     "output_type": "stream",
     "text": [
      "None\n"
     ]
    }
   ],
   "source": [
    "def empty_return(x, y):\n",
    "    c = x + y\n",
    "    return\n",
    "\n",
    "res = empty_return(4, 5)\n",
    "print(res)"
   ]
  },
  {
   "cell_type": "markdown",
   "metadata": {},
   "source": [
    "Otherwise the value of the expression following return will be returned. In the next example 9 will be printed:"
   ]
  },
  {
   "cell_type": "code",
   "execution_count": 20,
   "metadata": {},
   "outputs": [
    {
     "name": "stdout",
     "output_type": "stream",
     "text": [
      "9\n"
     ]
    }
   ],
   "source": [
    "def return_sum(x, y):\n",
    "    c = x + y\n",
    "    return c\n",
    "\n",
    "res = return_sum(4, 5)\n",
    "print(res)"
   ]
  },
  {
   "cell_type": "markdown",
   "metadata": {},
   "source": [
    "Let's summarize this behavior: Function bodies can contain one or more return statements. They can be situated anywhere in the function body. A return statement ends the execution of the function call and \"returns\" the result, i.e. the value of the expression following the return keyword, to the caller. If the return statement is without an expression, the special value ```None``` is returned. If there is no return statement in the function code, the function ends, when the control flow reaches the end of the function body and the value ```None``` will be returned."
   ]
  },
  {
   "cell_type": "markdown",
   "metadata": {},
   "source": [
    "### Returning Multiple Values\n",
    "\n",
    "A function can return exactly one value, or we should better say one object. An object can be a numerical value, like an integer or a float. But it can also be e.g. a list or a dictionary. So, if we have to return, for example, 3 integer values, we can return a list or a tuple with these three integer values. That is, we can indirectly return multiple values. The following example, which is calculating the Fibonacci boundary for a positive number, returns a 2-tuple. The first element is the Largest Fibonacci Number smaller than x and the second component is the Smallest Fibonacci Number larger than x. The return value is immediately stored via unpacking into the variables lub and sup:"
   ]
  },
  {
   "cell_type": "code",
   "execution_count": 5,
   "metadata": {},
   "outputs": [
    {
     "name": "stdin",
     "output_type": "stream",
     "text": [
      "Your number:  7\n"
     ]
    },
    {
     "name": "stdout",
     "output_type": "stream",
     "text": [
      "Largest Fibonacci Number smaller than x: 5\n",
      "Smallest Fibonacci Number larger than x: 8\n"
     ]
    },
    {
     "name": "stdin",
     "output_type": "stream",
     "text": [
      "Your number:  -1\n"
     ]
    }
   ],
   "source": [
    "def fib_interval(x):\n",
    "    \"\"\" returns the largest fibonacci\n",
    "    number smaller than x and the lowest\n",
    "    fibonacci number higher than x\"\"\"\n",
    "    if x < 0:\n",
    "        return -1\n",
    "    old, new = 0, 1\n",
    "    while True:\n",
    "        if new < x:\n",
    "            old, new = new, old+new\n",
    "        else:\n",
    "            if new == x: \n",
    "                new = old + new\n",
    "            return (old, new)\n",
    "            \n",
    "while True:\n",
    "    x = int(input(\"Your number: \"))\n",
    "    if x <= 0:\n",
    "        break\n",
    "    lub, sup = fib_interval(x)\n",
    "    print(\"Largest Fibonacci Number smaller than x: \" + str(lub))\n",
    "    print(\"Smallest Fibonacci Number larger than x: \" + str(sup))"
   ]
  },
  {
   "cell_type": "markdown",
   "metadata": {},
   "source": [
    "### Local and Global Variables in Functions\n",
    "\n",
    "Variable names are by default local to the function, in which they get defined."
   ]
  },
  {
   "cell_type": "code",
   "execution_count": 22,
   "metadata": {},
   "outputs": [
    {
     "name": "stdout",
     "output_type": "stream",
     "text": [
      "Python\n"
     ]
    }
   ],
   "source": [
    "def f(): \n",
    "    print(s)      # free occurrence of s in f\n",
    "    \n",
    "s = \"Python\"\n",
    "f()"
   ]
  },
  {
   "cell_type": "code",
   "execution_count": 6,
   "metadata": {},
   "outputs": [
    {
     "name": "stdout",
     "output_type": "stream",
     "text": [
      "Perl\n",
      "Python\n"
     ]
    }
   ],
   "source": [
    "def f(): \n",
    "    s = \"Perl\"     # now s is local in f\n",
    "    print(s)\n",
    "    \n",
    "s = \"Python\"\n",
    "f()\n",
    "print(s)"
   ]
  },
  {
   "cell_type": "code",
   "execution_count": 25,
   "metadata": {},
   "outputs": [
    {
     "ename": "UnboundLocalError",
     "evalue": "local variable 's' referenced before assignment",
     "output_type": "error",
     "traceback": [
      "\u001b[0;31m---------------------------------------------------------------------------\u001b[0m",
      "\u001b[0;31mUnboundLocalError\u001b[0m                         Traceback (most recent call last)",
      "\u001b[0;32m<ipython-input-25-81b2fbbc4d42>\u001b[0m in \u001b[0;36m<module>\u001b[0;34m\u001b[0m\n\u001b[1;32m      6\u001b[0m \u001b[0;34m\u001b[0m\u001b[0m\n\u001b[1;32m      7\u001b[0m \u001b[0ms\u001b[0m \u001b[0;34m=\u001b[0m \u001b[0;34m\"Python\"\u001b[0m\u001b[0;34m\u001b[0m\u001b[0;34m\u001b[0m\u001b[0m\n\u001b[0;32m----> 8\u001b[0;31m \u001b[0mf\u001b[0m\u001b[0;34m(\u001b[0m\u001b[0;34m)\u001b[0m\u001b[0;34m\u001b[0m\u001b[0;34m\u001b[0m\u001b[0m\n\u001b[0m\u001b[1;32m      9\u001b[0m \u001b[0mprint\u001b[0m\u001b[0;34m(\u001b[0m\u001b[0ms\u001b[0m\u001b[0;34m)\u001b[0m\u001b[0;34m\u001b[0m\u001b[0;34m\u001b[0m\u001b[0m\n",
      "\u001b[0;32m<ipython-input-25-81b2fbbc4d42>\u001b[0m in \u001b[0;36mf\u001b[0;34m()\u001b[0m\n\u001b[1;32m      1\u001b[0m \u001b[0;32mdef\u001b[0m \u001b[0mf\u001b[0m\u001b[0;34m(\u001b[0m\u001b[0;34m)\u001b[0m\u001b[0;34m:\u001b[0m\u001b[0;34m\u001b[0m\u001b[0;34m\u001b[0m\u001b[0m\n\u001b[0;32m----> 2\u001b[0;31m     \u001b[0mprint\u001b[0m\u001b[0;34m(\u001b[0m\u001b[0ms\u001b[0m\u001b[0;34m)\u001b[0m\u001b[0;34m\u001b[0m\u001b[0;34m\u001b[0m\u001b[0m\n\u001b[0m\u001b[1;32m      3\u001b[0m     \u001b[0ms\u001b[0m \u001b[0;34m=\u001b[0m \u001b[0;34m\"Perl\"\u001b[0m\u001b[0;34m\u001b[0m\u001b[0;34m\u001b[0m\u001b[0m\n\u001b[1;32m      4\u001b[0m     \u001b[0mprint\u001b[0m\u001b[0;34m(\u001b[0m\u001b[0ms\u001b[0m\u001b[0;34m)\u001b[0m\u001b[0;34m\u001b[0m\u001b[0;34m\u001b[0m\u001b[0m\n\u001b[1;32m      5\u001b[0m \u001b[0;34m\u001b[0m\u001b[0m\n",
      "\u001b[0;31mUnboundLocalError\u001b[0m: local variable 's' referenced before assignment"
     ]
    }
   ],
   "source": [
    "def f(): \n",
    "    print(s)        # This means a free occurrence, contradiction to bein local\n",
    "    s = \"Perl\"      # This makes s local in f\n",
    "    print(s)\n",
    "\n",
    "\n",
    "s = \"Python\" \n",
    "f()\n",
    "print(s)"
   ]
  },
  {
   "cell_type": "markdown",
   "metadata": {},
   "source": [
    "If we execute the previous script, we get the error message:\n",
    "UnboundLocalError: local variable 's' referenced before assignment.\n",
    "\n",
    "The variable s is ambigious in f(), i.e. in the first print in f() the global s could be used with the value \"Python\". After this we define a local variable s with the assignment s = \"Perl\"."
   ]
  },
  {
   "cell_type": "code",
   "execution_count": 26,
   "metadata": {},
   "outputs": [
    {
     "name": "stdout",
     "output_type": "stream",
     "text": [
      "cat\n",
      "dog\n",
      "dog\n"
     ]
    }
   ],
   "source": [
    "def f():\n",
    "    global s\n",
    "    print(s)\n",
    "    s = \"dog\"\n",
    "    print(s) \n",
    "s = \"cat\" \n",
    "f()\n",
    "print(s)"
   ]
  },
  {
   "cell_type": "markdown",
   "metadata": {},
   "source": [
    "We made the variable s global inside of the script. Therefore anything we do to s inside of the function body of f is done to the global variable s outside of f.\n"
   ]
  },
  {
   "cell_type": "code",
   "execution_count": 7,
   "metadata": {},
   "outputs": [
    {
     "name": "stdout",
     "output_type": "stream",
     "text": [
      "cat\n",
      "dog\n",
      "dog\n",
      "snake\n",
      "dog\n"
     ]
    }
   ],
   "source": [
    "def f():\n",
    "    global s\n",
    "    print(s)\n",
    "    s = \"dog\"       # globally changed\n",
    "    print(s)     \n",
    "\n",
    "def g():\n",
    "    s = \"snake\"     # local s\n",
    "    print(s) \n",
    "\n",
    "s = \"cat\" \n",
    "f()\n",
    "print(s)\n",
    "g()\n",
    "print(s)"
   ]
  },
  {
   "cell_type": "markdown",
   "metadata": {},
   "source": [
    "### Arbitrary Number of Parameters\n",
    "\n",
    "There are many situations in programming, in which the exact number of necessary parameters cannot be determined a-priori. An arbitrary parameter number can be accomplished in Python with so-called tuple references. An asterisk \"*\" is used in front of the last parameter name to denote it as a tuple reference. This asterisk shouldn't be mistaken for the C syntax, where this notation is connected with pointers.\n",
    "Example:"
   ]
  },
  {
   "cell_type": "code",
   "execution_count": 27,
   "metadata": {},
   "outputs": [
    {
     "name": "stdout",
     "output_type": "stream",
     "text": [
      "61.0\n",
      "42502.3275\n",
      "38.5\n",
      "45.0\n"
     ]
    }
   ],
   "source": [
    "def arithmetic_mean(first, *values):\n",
    "    \"\"\" This function calculates the arithmetic mean of a non-empty\n",
    "        arbitrary number of numerical values \"\"\"\n",
    "\n",
    "    return (first + sum(values)) / (1 + len(values))\n",
    "\n",
    "print(arithmetic_mean(45,32,89,78))\n",
    "print(arithmetic_mean(8989.8,78787.78,3453,78778.73))\n",
    "print(arithmetic_mean(45,32))\n",
    "print(arithmetic_mean(45))"
   ]
  },
  {
   "cell_type": "markdown",
   "metadata": {},
   "source": [
    "This is great, but we have still have one problem. You may have a list of numerical values. Like, for example,"
   ]
  },
  {
   "cell_type": "code",
   "execution_count": 28,
   "metadata": {},
   "outputs": [],
   "source": [
    "x = [3, 5, 9]"
   ]
  },
  {
   "cell_type": "markdown",
   "metadata": {},
   "source": [
    "You cannot call it with\n",
    "\n",
    "<pre> arithmetic_mean(x)</pre>\n",
    "\n",
    "because \"arithmetic_mean\" can't cope with a list. Calling it with\n",
    "\n",
    "<pre> </pre>\n",
    "\n"
   ]
  },
  {
   "cell_type": "code",
   "execution_count": 29,
   "metadata": {},
   "outputs": [
    {
     "data": {
      "text/plain": [
       "5.666666666666667"
      ]
     },
     "execution_count": 29,
     "metadata": {},
     "output_type": "execute_result"
    }
   ],
   "source": [
    "arithmetic_mean(x[0], x[1], x[2])"
   ]
  },
  {
   "cell_type": "markdown",
   "metadata": {},
   "source": [
    "is cumbersome and above all impossible inside of a program, because list can be of arbitrary length.\n",
    "\n",
    "The solution is easy: The star operator. We add a star in front of the x, when we call the function.\n"
   ]
  },
  {
   "cell_type": "code",
   "execution_count": 30,
   "metadata": {},
   "outputs": [
    {
     "data": {
      "text/plain": [
       "5.666666666666667"
      ]
     },
     "execution_count": 30,
     "metadata": {},
     "output_type": "execute_result"
    }
   ],
   "source": [
    " arithmetic_mean(*x)"
   ]
  },
  {
   "cell_type": "markdown",
   "metadata": {},
   "source": [
    "This will \"unpack\" or singularize the list.\n",
    "\n",
    "A practical example for ```zip``` and the star or asterisk operator:\n",
    "We have a list of 4, 2-tuple elements:"
   ]
  },
  {
   "cell_type": "code",
   "execution_count": 31,
   "metadata": {},
   "outputs": [],
   "source": [
    "my_list = [('a', 232), \n",
    "           ('b', 343), \n",
    "           ('c', 543), \n",
    "           ('d', 23)]"
   ]
  },
  {
   "cell_type": "markdown",
   "metadata": {},
   "source": [
    "We want to turn this list into the following 2 element, 4-tuple list:"
   ]
  },
  {
   "cell_type": "markdown",
   "metadata": {},
   "source": [
    "<pre> [('a', 'b', 'c', 'd'), \n",
    " (232, 343, 543, 23)] </pre>"
   ]
  },
  {
   "cell_type": "markdown",
   "metadata": {},
   "source": [
    "This can be done by using the *-operator and the zip function in the following way:"
   ]
  },
  {
   "cell_type": "code",
   "execution_count": 32,
   "metadata": {},
   "outputs": [
    {
     "data": {
      "text/plain": [
       "[('a', 'b', 'c', 'd'), (232, 343, 543, 23)]"
      ]
     },
     "execution_count": 32,
     "metadata": {},
     "output_type": "execute_result"
    }
   ],
   "source": [
    "list(zip(*my_list))"
   ]
  },
  {
   "cell_type": "markdown",
   "metadata": {},
   "source": [
    "### Arbitrary Number of Keyword Parameters\n",
    "\n",
    "In the previous chapter we demonstrated how to pass an arbitrary number of positional parameters to a function. It is also possible to pass an arbitrary number of keyword parameters to a function as a dictionary. To this purpose, we have to use the double asterisk \"**\"\n"
   ]
  },
  {
   "cell_type": "code",
   "execution_count": 33,
   "metadata": {},
   "outputs": [],
   "source": [
    "def f(**kwargs):\n",
    "    print(kwargs)"
   ]
  },
  {
   "cell_type": "code",
   "execution_count": 34,
   "metadata": {},
   "outputs": [
    {
     "name": "stdout",
     "output_type": "stream",
     "text": [
      "{}\n"
     ]
    }
   ],
   "source": [
    "f()"
   ]
  },
  {
   "cell_type": "code",
   "execution_count": 35,
   "metadata": {},
   "outputs": [
    {
     "name": "stdout",
     "output_type": "stream",
     "text": [
      "{'de': 'German', 'en': 'English', 'fr': 'French'}\n"
     ]
    }
   ],
   "source": [
    "f(de=\"German\",en=\"English\",fr=\"French\")"
   ]
  },
  {
   "cell_type": "markdown",
   "metadata": {},
   "source": [
    "One use case is the following:"
   ]
  },
  {
   "cell_type": "code",
   "execution_count": 36,
   "metadata": {},
   "outputs": [
    {
     "name": "stdout",
     "output_type": "stream",
     "text": [
      "append block extract yes\n"
     ]
    }
   ],
   "source": [
    "def f(a, b, x, y):\n",
    "    print(a, b, x, y)\n",
    "d = {'a':'append', 'b':'block','x':'extract','y':'yes'}\n",
    "f(**d)"
   ]
  },
  {
   "cell_type": "markdown",
   "metadata": {},
   "source": [
    "### Exercises with Functions\n",
    "\n",
    "#### Exercise 1\n",
    "\n",
    "Rewrite the \"dog age\" exercise from chapter [Conditional Statements](python3_conditional_statemtents.php) as a function. \n",
    "\n",
    "The rules are:\n",
    "\n",
    "- A one-year-old dog is roughly equivalent to a 14-year-old human being\n",
    "- A dog that is two years old corresponds in development to a 22 year old person.\n",
    "- Each additional dog year is equivalent to five human years.\n",
    "\n",
    "\n",
    "#### Exercise 2\n",
    "\n",
    "Write a function which takes a text and encrypts it with a Caesar cipher. This is one of the simplest and most commonly known encryption techniques. Each letter in the text is replaced by a letter some fixed number of positions further in the alphabet.\n",
    "\n",
    "What about decrypting the coded text?\n",
    "\n",
    "The Caesar cipher is a substitution cipher.\n",
    "\n",
    "<img width=70% src=\"../images/caesar_cipher.webp\" srcset=\"../images/caesar_cipher_800w.webp 800w,../images/caesar_cipher_700w.webp 700w,../images/caesar_cipher_600w.webp 600w,../images/caesar_cipher_500w.webp 500w,../images/caesar_cipher_400w.webp 400w,../images/caesar_cipher_350w.webp 350w,../images/caesar_cipher_300w.webp 300w\" alt=\"caesar cipher\"/>\n",
    "\n",
    "#### Exercise 3\n",
    "\n",
    "We can create another substitution cipher by permutating the alphet and map the letters to the corresponding permutated alphabet. \n",
    "\n",
    "Write a function which takes a text and a dictionary to decrypt or encrypt the given text with a permutated alphabet.\n",
    "\n",
    "#### Exercise 4\n",
    "\n",
    "Write a function txt2morse, which translates a text to morse code, i.e. the function returns a string with the morse code.\n",
    "\n",
    "Write another function morse2txt which translates a string in Morse code into a „normal“ string. \n",
    "\n",
    "The Morse character are separated by spaces. Words by three spaces.\n",
    " \n",
    "\n",
    "<img width=50%  src=\"../images/International_Morse_Code.webp\" srcset=\"../images/International_Morse_Code_800w.webp 800w,../images/International_Morse_Code_700w.webp 700w,../images/International_Morse_Code_600w.webp 600w,../images/International_Morse_Code_500w.webp 500w,../images/International_Morse_Code_400w.webp 400w,../images/International_Morse_Code_350w.webp 350w,../images/International_Morse_Code_300w.webp 300w\" alt=\"International Morse Code\" />\n",
    "\n"
   ]
  },
  {
   "cell_type": "markdown",
   "metadata": {},
   "source": [
    "#### Exercise 5\n",
    "\n",
    "Perhaps the first algorithm used for approximating $\\sqrt{S}$ is known as the \"Babylonian method\", named after the Babylonians, or \"Hero's method\", named after the first-century Greek mathematician Hero of Alexandria who gave the first explicit description of the method.\n",
    "\n",
    "If a number $x_n$ is close to the square root of $a$ then \n",
    "$$x_{n+1} = \\frac{1}{2}(x_n + \\frac{a}{x_n})$$\n",
    "will be a better approximation.\n",
    "\n",
    "Write a program to calculate the square root of a number by using the Babylonian method.\n",
    "\n",
    "#### Exercise 6\n",
    "\n",
    "Write a function which calculates the position of the n-th occurence of a \n",
    "string sub in another string s. \n",
    "If  sub doesn't occur in s, -1 shall be returned.\n",
    "\n",
    "#### Exercise 7\n",
    "\n",
    "Write a function ```fuzzy_time``` which expects a time string in the form hh: mm (e.g. \"12:25\", \"04:56\"). The function rounds up or down to a quarter of an hour.\n",
    "Examples:\n",
    "\n",
    "fuzzy_time(\"12:58\") ---> \"13"
   ]
  },
  {
   "cell_type": "markdown",
   "metadata": {},
   "source": [
    "### Solutions\n",
    "\n",
    "#### Solution to Exercise 1\n"
   ]
  },
  {
   "cell_type": "code",
   "execution_count": 38,
   "metadata": {},
   "outputs": [
    {
     "name": "stdin",
     "output_type": "stream",
     "text": [
      "How old is your dog?  5\n"
     ]
    },
    {
     "name": "stdout",
     "output_type": "stream",
     "text": [
      "This corresponds to 37 human years!\n"
     ]
    }
   ],
   "source": [
    "def dog_age2human_age(dog_age):\n",
    "    \"\"\"dog_age2human_age(dog_age)\"\"\"\n",
    "    if dog_age == 1:\n",
    "        human_age = 14\n",
    "    elif dog_age == 2:\n",
    "        human_age = 22\n",
    "    else:\n",
    "        human_age =  22 + (dog_age-2)*5\n",
    "    return human_age\n",
    "\n",
    "age = int(input(\"How old is your dog? \"))\n",
    "print(f\"This corresponds to {dog_age2human_age(age)} human years!\")"
   ]
  },
  {
   "cell_type": "markdown",
   "metadata": {},
   "source": [
    "#### Solution to Exercise 2"
   ]
  },
  {
   "cell_type": "code",
   "execution_count": 39,
   "metadata": {},
   "outputs": [
    {
     "name": "stdout",
     "output_type": "stream",
     "text": [
      "EBIIL, EBOB F XJ!\n",
      "HELLO, HERE I AM!\n"
     ]
    }
   ],
   "source": [
    "import string\n",
    "abc = string.ascii_uppercase\n",
    "def caesar(txt, n, coded=False):\n",
    "    \"\"\" returns the coded or decoded text \"\"\"\n",
    "    result = \"\"\n",
    "    for char in txt.upper():\n",
    "        if char not in abc:\n",
    "            result += char\n",
    "        elif coded:\n",
    "            result += abc[(abc.find(char) + n) % len(abc)]\n",
    "        else:\n",
    "            result += abc[(abc.find(char) - n) % len(abc)]\n",
    "    return result\n",
    "\n",
    "n = 3\n",
    "x = caesar(\"Hello, here I am!\", n)\n",
    "print(x)\n",
    "print(caesar(x, n, True))"
   ]
  },
  {
   "cell_type": "markdown",
   "metadata": {},
   "source": [
    "In the previous solution we only replace the letters. Every special character is left untouched. The following solution adds some special characters which will be also permutated. Special charcters not in abc will be lost in this solution!"
   ]
  },
  {
   "cell_type": "code",
   "execution_count": 40,
   "metadata": {},
   "outputs": [
    {
     "name": "stdout",
     "output_type": "stream",
     "text": [
      "EBIILZXEBOBXFX-J,\n",
      "HELLO, HERE I AM!\n",
      "-?!ABCDEFGHI\n"
     ]
    }
   ],
   "source": [
    "import string\n",
    "abc = string.ascii_uppercase + \" .,-?!\"\n",
    "def caesar(txt, n, coded=False):\n",
    "    \"\"\" returns the coded or decoded text \"\"\"\n",
    "    result = \"\"\n",
    "    for char in txt.upper():\n",
    "        if coded:\n",
    "            result += abc[(abc.find(char) + n) % len(abc)]\n",
    "        else:\n",
    "            result += abc[(abc.find(char) - n) % len(abc)]\n",
    "    return result\n",
    "\n",
    "n = 3\n",
    "x = caesar(\"Hello, here I am!\", n)\n",
    "print(x)\n",
    "print(caesar(x, n, True))\n",
    "\n",
    "x = caesar(\"abcdefghijkl\", n)\n",
    "print(x)"
   ]
  },
  {
   "cell_type": "markdown",
   "metadata": {},
   "source": [
    "We will present another way to do it in the following implementation. The advantage is that there will be no calculations like in the previous versions. We do only lookups in the decrypted list 'abc_cipher':"
   ]
  },
  {
   "cell_type": "code",
   "execution_count": 41,
   "metadata": {},
   "outputs": [
    {
     "name": "stdout",
     "output_type": "stream",
     "text": [
      "-?!ABCDEFGHIJKLMNOPQRSTUVWXYZ .,\n",
      "EBIILZXEBOBXFX-J,\n",
      "-?!ABCDEFGH\n"
     ]
    }
   ],
   "source": [
    "import string\n",
    "\n",
    "shift = 3\n",
    "abc = string.ascii_uppercase + \" .,-?!\"\n",
    "abc_cipher = abc[-shift:] + abc[:-shift]\n",
    "print(abc_cipher)\n",
    "\n",
    "def caesar (txt, shift):\n",
    "    \"\"\"Encodes the text \"txt\" to caesar by shifting it 'shift' positions \"\"\"\n",
    "    new_txt=\"\"\n",
    "    for char in txt.upper():\n",
    "        position = abc.find(char)\n",
    "        new_txt +=abc_cipher[position]\n",
    "    return new_txt\n",
    "\n",
    "n = 3\n",
    "x = caesar(\"Hello, here I am!\", n)\n",
    "print(x)\n",
    "\n",
    "x = caesar(\"abcdefghijk\", n)\n",
    "print(x)"
   ]
  },
  {
   "cell_type": "markdown",
   "metadata": {},
   "source": [
    "\n",
    "#### Solution to Exercise 3\n"
   ]
  },
  {
   "cell_type": "code",
   "execution_count": 42,
   "metadata": {},
   "outputs": [
    {
     "name": "stdout",
     "output_type": "stream",
     "text": [
      "OQlerQGGk yDd xVd nDdyxdkx \n",
      "xVDdyx Ql xVd Fz xo hoxV hyGe \n",
      "yle noGedl dynGdk. gdeQy HGyQrk \n",
      "EQHxQolyG ‘nGohyG MyDrQln’ Qk MoDkd.\n",
      "\n",
      "Windmills are the greatest \n",
      "threat in the US to both bald \n",
      "and golden eagles. Media claims \n",
      "fictional ‘global warming’ is worse.\n"
     ]
    }
   ],
   "source": [
    "import string\n",
    "from random import sample\n",
    "\n",
    "alphabet = string.ascii_letters\n",
    "permutated_alphabet = sample(alphabet, len(alphabet))\n",
    "\n",
    "encrypt_dict = dict(zip(alphabet, permutated_alphabet))\n",
    "decrypt_dict = dict(zip(permutated_alphabet, alphabet))\n",
    "\n",
    "def encrypt(text, edict):\n",
    "    \"\"\" Every character of the text 'text'\n",
    "    is mapped to the value of edict. Characters\n",
    "    which are not keys of edict will not change\"\"\"\n",
    "    res = \"\"\n",
    "    for char in text:\n",
    "        res = res + edict.get(char, char)\n",
    "    return res\n",
    "\n",
    "# Donald Trump: 5:19 PM, September 9 2014\n",
    "txt = \"\"\"Windmills are the greatest \n",
    "threat in the US to both bald \n",
    "and golden eagles. Media claims \n",
    "fictional ‘global warming’ is worse.\"\"\"\n",
    "\n",
    "ctext = encrypt(txt, encrypt_dict)\n",
    "print(ctext + \"\\n\")\n",
    "print(encrypt(ctext, decrypt_dict))"
   ]
  },
  {
   "cell_type": "markdown",
   "metadata": {},
   "source": [
    "Alternative solution:"
   ]
  },
  {
   "cell_type": "code",
   "execution_count": 43,
   "metadata": {},
   "outputs": [
    {
     "name": "stdout",
     "output_type": "stream",
     "text": [
      "{'a': ' ', 'b': '.', 'c': '?', 'd': '!', 'e': '\\n', 'f': 'a', 'g': 'b', 'h': 'c', 'i': 'd', 'j': 'e', 'k': 'f', 'l': 'g', 'm': 'h', 'n': 'i', 'o': 'j', 'p': 'k', 'q': 'l', 'r': 'm', 's': 'n', 't': 'o', 'u': 'p', 'v': 'q', 'w': 'r', 'x': 's', 'y': 't', 'z': 'u', 'ä': 'v', 'ö': 'w', 'ü': 'x', 'ß': 'y', ' ': 'z', '.': 'ä', '?': 'ö', '!': 'ü', '\\n': 'ß'}\n",
      "{' ': 'a', '.': 'b', '?': 'c', '!': 'd', '\\n': 'e', 'a': 'f', 'b': 'g', 'c': 'h', 'd': 'i', 'e': 'j', 'f': 'k', 'g': 'l', 'h': 'm', 'i': 'n', 'j': 'o', 'k': 'p', 'l': 'q', 'm': 'r', 'n': 's', 'o': 't', 'p': 'u', 'q': 'v', 'r': 'w', 's': 'x', 't': 'y', 'u': 'z', 'v': 'ä', 'w': 'ö', 'x': 'ü', 'y': 'ß', 'z': ' ', 'ä': '.', 'ö': '?', 'ü': '!', 'ß': '\\n'}\n"
     ]
    },
    {
     "data": {
      "text/plain": [
       "'windmills are the greatest \\nthreat in the us to both bald \\nand golden eagles. media claims \\nfictional global warming is worse.'"
      ]
     },
     "execution_count": 43,
     "metadata": {},
     "output_type": "execute_result"
    }
   ],
   "source": [
    "import string\n",
    "alphabet = string.ascii_lowercase + \"äöüß .?!\\n\"\n",
    "\n",
    "def caesar_code(alphabet, c, text, mode=\"encoding\"):\n",
    "    text = text.lower()\n",
    "    coded_alphabet = alphabet[-c:] + alphabet[0:-c]\n",
    "    if mode == \"encoding\":\n",
    "        encoding_dict = dict(zip(alphabet, coded_alphabet))\n",
    "    elif mode == \"decoding\":\n",
    "        encoding_dict = dict(zip(coded_alphabet, alphabet))\n",
    "    print(encoding_dict)\n",
    "    result = \"\"\n",
    "    for char in text:\n",
    "        result += encoding_dict.get(char, \"\")\n",
    "    return result    \n",
    "        \n",
    "txt2 = caesar_code(alphabet, 5, txt)\n",
    "caesar_code(alphabet, 5, txt2, mode=\"decoding\")"
   ]
  },
  {
   "cell_type": "markdown",
   "metadata": {},
   "source": [
    "#### Solution to Exercise 4"
   ]
  },
  {
   "cell_type": "code",
   "execution_count": 44,
   "metadata": {},
   "outputs": [
    {
     "name": "stdout",
     "output_type": "stream",
     "text": [
      "{'.-': 'A', '-...': 'B', '-.-.': 'C', '-..': 'D', '.': 'E', '..-.': 'F', '--.': 'G', '....': 'H', '..': 'I', '.---': 'J', '-.-': 'K', '.-..': 'L', '--': 'M', '-.': 'N', '---': 'O', '.--.': 'P', '--.-': 'Q', '.-.': 'R', '...': 'S', '-': 'T', '..-': 'U', '...-': 'V', '.--': 'W', '-..-': 'X', '-.--': 'Y', '--..': 'Z', '.----': '1', '...--': '3', '....-': '4', '.....': '5', '-....': '6', '--...': '7', '---..': '8', '----.': '9', '-----': '0', '--..--': ',', '.-.-.-': '.', '..--..': '?', '-.-.-': ';', '---...': ':', '-..-.': '/', '-....-': '-', '.----.': \"'\", '-.--.-': '}', '..--.-': '_'}\n"
     ]
    }
   ],
   "source": [
    "latin2morse_dict = {'A':'.-', 'B':'-...', 'C':'-.-.', 'D':'-..', \n",
    "                    'E':'.', 'F':'..-.', 'G':'--.','H':'....', \n",
    "                    'I':'..', 'J':'.---', 'K':'-.-', 'L':'.-..', \n",
    "                    'M':'--', 'N':'-.', 'O':'---', 'P':'.--.', \n",
    "                    'Q':'--.-', 'R':'.-.', 'S':'...', 'T':'-', \n",
    "                    'U':'..-', 'V':'...-', 'W':'.--', 'X':'-..-', \n",
    "                    'Y':'-.--', 'Z':'--..', '1':'.----', '2':'...--', \n",
    "                    '3':'...--', '4':'....-', '5':'.....', '6':'-....', \n",
    "                    '7':'--...', '8':'---..', '9':'----.', '0':'-----', \n",
    "                    ',':'--..--', '.':'.-.-.-', '?':'..--..', ';':'-.-.-', \n",
    "                    ':':'---...', '/':'-..-.', '-':'-....-', '\\'':'.----.', \n",
    "                    '(':'-.--.-', ')':'-.--.-', '[':'-.--.-', ']':'-.--.-', \n",
    "                    '{':'-.--.-', '}':'-.--.-', '_':'..--.-'}\n",
    "\n",
    "# reversing the dictionary:\n",
    "morse2latin_dict = dict(zip(latin2morse_dict.values(),\n",
    "                            latin2morse_dict.keys()))\n",
    "\n",
    "print(morse2latin_dict)"
   ]
  },
  {
   "cell_type": "code",
   "execution_count": 45,
   "metadata": {},
   "outputs": [
    {
     "name": "stdout",
     "output_type": "stream",
     "text": [
      "... ---    .-- .... .- - ..--.. \n",
      "SO WHAT? \n"
     ]
    }
   ],
   "source": [
    "def txt2morse(txt, alphabet):\n",
    "    morse_code = \"\"\n",
    "    for char in txt.upper():\n",
    "        if char == \" \":\n",
    "            morse_code += \"   \"\n",
    "        else:\n",
    "            morse_code += alphabet[char] + \" \"\n",
    "    return morse_code\n",
    "\n",
    "def morse2txt(txt, alphabet):\n",
    "    res = \"\"\n",
    "    mwords = txt.split(\"   \")\n",
    "    for mword in mwords:\n",
    "        for mchar in mword.split():\n",
    "            res += alphabet[mchar]\n",
    "        res += \" \"\n",
    "    return res\n",
    "\n",
    "mstring = txt2morse(\"So what?\", latin2morse_dict)\n",
    "print(mstring)\n",
    "print(morse2txt(mstring, morse2latin_dict))"
   ]
  },
  {
   "cell_type": "markdown",
   "metadata": {},
   "source": [
    "#### Solution to Exercise 5\n",
    "\n"
   ]
  },
  {
   "cell_type": "code",
   "execution_count": 46,
   "metadata": {},
   "outputs": [
    {
     "name": "stdout",
     "output_type": "stream",
     "text": [
      "1.414213562373095\n",
      "1.4142135623746899\n"
     ]
    }
   ],
   "source": [
    "def heron(a, eps=0.000000001):\n",
    "    \"\"\" Approximate the square root of a\"\"\"\n",
    "    previous = 0\n",
    "    new = 1\n",
    "    while abs(new - previous) > eps:\n",
    "        previous = new\n",
    "        new = (previous + a/previous) / 2\n",
    "    return new\n",
    "\n",
    "print(heron(2))\n",
    "print(heron(2, 0.001))"
   ]
  },
  {
   "cell_type": "markdown",
   "metadata": {},
   "source": [
    "#### Solution to exercise 6\n",
    "    "
   ]
  },
  {
   "cell_type": "code",
   "execution_count": 47,
   "metadata": {},
   "outputs": [
    {
     "name": "stdout",
     "output_type": "stream",
     "text": [
      "19\n"
     ]
    }
   ],
   "source": [
    "def findnth(s, sub, n):\n",
    "    num = 0\n",
    "    start = -1\n",
    "    while num < n:\n",
    "        start = s.find(sub, start+1)\n",
    "        if start == -1: \n",
    "            break\n",
    "        num += 1\n",
    "    \n",
    "    return start\n",
    "\n",
    "s = \"abc xyz abc jkjkjk abc lkjkjlkj abc jlj\"\n",
    "print(findnth(s,\"abc\", 3))"
   ]
  },
  {
   "cell_type": "code",
   "execution_count": 48,
   "metadata": {},
   "outputs": [
    {
     "name": "stdout",
     "output_type": "stream",
     "text": [
      "Ungefähr 12 Uhr!\n",
      "Ungefähr 12 Uhr!\n",
      "Ungefähr 12 Uhr!\n",
      "Ungefähr viertel nach 12!\n",
      "Ungefähr viertel nach 12!\n",
      "Ungefähr viertel nach 12!\n",
      "Ungefähr viertel nach 12!\n",
      "Ungefähr viertel nach 12!\n",
      "Es ist ungefähr halb 1!\n",
      "Es ist ungefähr halb 1!\n",
      "Es ist ungefähr halb 1!\n",
      "Es ist ungefähr halb 1!\n",
      "Es ist ungefähr halb 1!\n",
      "Ungefähr eine viertel vor 1!\n",
      "Ungefähr eine viertel vor 1!\n",
      "Ungefähr eine viertel vor 1!\n",
      "Ungefähr eine viertel vor 1!\n",
      "Ungefähr eine viertel vor 1!\n",
      "Ungefähr 1 Uhr!\n",
      "Ungefähr 1 Uhr!\n"
     ]
    }
   ],
   "source": [
    "def vage_uhrzeit(zeit):\n",
    "    stunden, minuten = zeit.split(\":\")\n",
    "    minuten = int(minuten)\n",
    "    stunden = int(stunden)\n",
    "    minuten = minuten / 60   # Wandlung in Dezimalminuten\n",
    "    # Werte in 0.0, 0.25, 0.5, 0.75:\n",
    "    minuten = round(minuten * 4, 0) / 4\n",
    "    if minuten == 0:\n",
    "        print(\"Ungefähr \" + str(stunden) + \" Uhr!\")\n",
    "    elif minuten == 0.25:\n",
    "        print(\"Ungefähr viertel nach \" + str(stunden) + \"!\")\n",
    "    else:\n",
    "        if stunden == 12:\n",
    "            stunden = 1\n",
    "        else:\n",
    "            stunden += 1\n",
    "        if minuten == 0.50:\n",
    "            print(\"Es ist ungefähr halb \" + str(stunden) + \"!\")\n",
    "        elif minuten == 0.75:\n",
    "            print(\"Ungefähr eine viertel vor \" + str(stunden) + \"!\")\n",
    "        elif minuten == 1.00:\n",
    "            print(\"Ungefähr \" + str(stunden) + \" Uhr!\")\n",
    "    \n",
    "stunde = \"12\"\n",
    "for x in range(0, 60, 3):\n",
    "    vage_uhrzeit(stunde +\":\" + f\"{x:02d}\")"
   ]
  }
 ],
 "metadata": {
  "kernelspec": {
   "display_name": "Python 3",
   "language": "python",
   "name": "python3"
  },
  "language_info": {
   "codemirror_mode": {
    "name": "ipython",
    "version": 3
   },
   "file_extension": ".py",
   "mimetype": "text/x-python",
   "name": "python",
   "nbconvert_exporter": "python",
   "pygments_lexer": "ipython3",
   "version": "3.8.5"
  }
 },
 "nbformat": 4,
 "nbformat_minor": 4
}
