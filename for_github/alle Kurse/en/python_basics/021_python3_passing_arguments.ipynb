{
 "cells": [
  {
   "cell_type": "markdown",
   "metadata": {},
   "source": [
    "## Parameters and Arguments\n",
    "A function or procedure usually needs some information about the environment, in which it has been called. The interface between the environment, from which the function has been called, and the function, i.e. the function body, consists of special variables, which are called parameters. By using these parameters, it's possible to use all kind of objects from \"outside\" inside of a function. The syntax for how parameters are declared and the semantics for how the arguments are passed to the parameters of the function or procedure depends on the programming language.\n",
    "\n",
    "Very often the terms parameter and argument are used synonymously, but there is a clear difference. Parameters are inside functions or procedures, while arguments are used in procedure calls, i.e. the values passed to the function at run-time.\n",
    "\n",
    "### \"call by value\" and \"call by name\"\n",
    "\n",
    "\n",
    "<img height= 200 width=200 class=\"imgright\" src=\"../images/relay_race.webp\" srcset=\"../images/relay_race_300w.webp 300w\" alt=\"Parameterübergabe als Staffellauf\" />\n",
    " \n",
    "\n",
    "The evaluation strategy for arguments, i.e. how the arguments from a function call are passed to the parameters of the function, differs between programming languages. The most common evaluation strategies are \"call by value\" and \"call by reference\":\n",
    "\n",
    "- Call by Value\n",
    "    The most common strategy is the call-by-value evaluation, sometimes also called pass-by-value. This strategy is used in C and C++, for example. In call-by-value, the argument expression is evaluated, and the result of this evaluation is bound to the corresponding variable in the function. So, if the expression is a variable, its value will be assigned (copied) to the corresponding parameter. This ensures that the variable in the caller's scope will stay unchanged when the function returns.\n",
    "\n",
    "- Call by Reference\n",
    "    In call-by-reference evaluation, which is also known as pass-by-reference, a function gets an implicit reference to the argument, rather than a copy of its value. As a consequence, the function can modify the argument, i.e. the value of the variable in the caller's scope can be changed. By using Call by Reference we save both computation time and memory space, because arguments do not need to be copied. On the other hand this harbours the disadvantage that variables can be \"accidentally\" changed in a function call. So, special care has to be taken to \"protect\" the values, which shouldn't be changed.\n",
    "    Many programming languages support call-by-reference, like C or C++, but Perl uses it as default. \n",
    "\n",
    "In ALGOL 60 and COBOL there has been a different concept called call-by-name, which isn't used anymore in modern languages.\n",
    "\n",
    "\n",
    "\n",
    "### and what about Python?\n",
    "<img height= 200 width=200 class=\"imgright\" src=\"../images/HumptyDumpty.webp\" alt=\"Humpty Dumpty \" />\n",
    "\n",
    "There are some books which call the strategy of Python call-by-value, and some call it call-by-reference. You may ask yourself, what is right.\n",
    "\n",
    "Humpty Dumpty supplies the explanation:\n",
    "\n",
    "--- \"When I use a word,\" Humpty Dumpty said, in a rather a scornful tone, \"it means just what I choose it to mean - neither more nor less.\"\n",
    "\n",
    "--- \"The question is,\" said Alice, \"whether you can make words mean so many different things.\"\n",
    "\n",
    "--- \"The question is,\" said Humpty Dumpty, \"which is to be master - that's all.\"\n",
    "\n",
    "Lewis Carroll, Through the Looking-Glass\n",
    "\n",
    "\n",
    "To come back to our initial question what evaluation strategy is used in Python: the authors who call the mechanism call-by-value and those who call it call-by-reference are stretching the definitions until they fit.\n",
    "\n",
    "Correctly speaking, Python uses a mechanism, which is known as \"Call-by-Object\", sometimes also called \"Call by Object Reference\" or \"Call by Sharing\".\n",
    "\n",
    "<img height= 200 width=200 class=\"imgright\" src=\"../images/parameter_uebergabe1.webp\" alt=\"Paramterübergabe\" />\n",
    " \n",
    "If you pass immutable arguments like integers, strings or tuples to a function, the passing acts like call-by-value. The object reference is passed to the function parameters. They can't be changed within the function, because they can't be changed at all, i.e. they are immutable. It's different, if we pass mutable arguments. They are also passed by object reference, but they can be changed in place within the function. If we pass a list to a function, we have to consider two cases: Elements of a list can be changed in place, i.e. the list will be changed even in the caller's scope. If a new list is assigned to the name, the old list will not be affected, i.e. the list in the caller's scope will remain untouched.\n",
    "\n",
    "First, let's have a look at the integer variables below. The parameter inside the function remains a reference to the argument's variable, as long as the parameter is not changed. As soon as a new value is assigned to it, Python creates a separate local variable. The caller's variable will not be changed this way:"
   ]
  },
  {
   "cell_type": "code",
   "execution_count": 1,
   "metadata": {},
   "outputs": [],
   "source": [
    "def ref_demo(x):\n",
    "    print(\"x=\",x,\" id=\",id(x))\n",
    "    x=42\n",
    "    print(\"x=\",x,\" id=\",id(x))"
   ]
  },
  {
   "cell_type": "markdown",
   "metadata": {},
   "source": [
    "<img height= 200 width=200 class=\"imgright\" src=\"../images/parameter_uebergabe2.webp\" alt=\"Parameterübergabe\" />\n",
    "\n",
    "In the example above, we used the id() function, which takes an object as a parameter. id(obj) returns the \"identity\" of the object \"obj\". This identity, the return value of the function, is an integer which is unique and constant for this object during its lifetime. Two different objects with non-overlapping lifetimes may have the same id() value.\n",
    "\n",
    "If you call the function ref_demo() of the previous example - like we do in the green block further below - we can check what happens to x with the id() function: We can see that in the main scope, x has the identity 140709692940944. In the first print statement of the ref_demo() function, the x from the main scope is used, because we can see that we get the same identity. After we assigned the value 42 to x, x gets a new identity 140709692942000, i.e. a separate memory location from the global x. So, when we are back in the main scope x has still the original value 9 and the id 140709692940944.\n",
    "\n",
    "In other words, Python initially behaves like call-by-reference, but as soon as we change the value of such a variable, i.e. as soon as we assign a new object to it, Python \"switches\" to call-by-value. That is, a local variable x will be created and the value of the global variable x will be copied into it."
   ]
  },
  {
   "cell_type": "code",
   "execution_count": 11,
   "metadata": {},
   "outputs": [
    {
     "data": {
      "text/plain": [
       "140709692940944"
      ]
     },
     "execution_count": 11,
     "metadata": {},
     "output_type": "execute_result"
    }
   ],
   "source": [
    "x = 9\n",
    "id(x)"
   ]
  },
  {
   "cell_type": "code",
   "execution_count": 12,
   "metadata": {},
   "outputs": [
    {
     "name": "stdout",
     "output_type": "stream",
     "text": [
      "x= 9  id= 140709692940944\n",
      "x= 42  id= 140709692942000\n"
     ]
    }
   ],
   "source": [
    "ref_demo(x)"
   ]
  },
  {
   "cell_type": "code",
   "execution_count": 13,
   "metadata": {},
   "outputs": [
    {
     "data": {
      "text/plain": [
       "140709692940944"
      ]
     },
     "execution_count": 13,
     "metadata": {},
     "output_type": "execute_result"
    }
   ],
   "source": [
    "id(x)"
   ]
  },
  {
   "cell_type": "markdown",
   "metadata": {},
   "source": [
    "### Side effects\n",
    "A function is said to have a side effect, if, in addition to producing a return value, it modifies the caller's environment in other ways. For example, a function might modify a global or static variable, modify one of its arguments, raise an exception, write data to a display or file etc.\n",
    "\n",
    "There are situations, in which these side effects are intended, i.e. they are part of the function's specification. But in other cases, they are not wanted , they are hidden side effects. In this chapter, we are only interested in the side effects that change one or more global variables, which have been passed as arguments to a function.\n",
    "Let's assume, we are passing a list to a function. We expect the function not to change this list. First, let's have a look at a function which has no side effects. As a new list is assigned to the parameter list in func1(), a new memory location is created for list and list becomes a local variable."
   ]
  },
  {
   "cell_type": "code",
   "execution_count": 1,
   "metadata": {},
   "outputs": [
    {
     "name": "stdout",
     "output_type": "stream",
     "text": [
      "['London', 'Leeds', 'Glasgow', 'Sheffield']\n",
      "['London', 'Leeds', 'Glasgow', 'Sheffield', 'Birmingham', 'Bradford']\n"
     ]
    }
   ],
   "source": [
    "def no_side_effects(cities):\n",
    "    print(cities)\n",
    "    cities = cities + [\"Birmingham\", \"Bradford\"]\n",
    "    print(cities)\n",
    "locations = [\"London\", \"Leeds\", \"Glasgow\", \"Sheffield\"]\n",
    "no_side_effects(locations)"
   ]
  },
  {
   "cell_type": "code",
   "execution_count": 2,
   "metadata": {},
   "outputs": [
    {
     "name": "stdout",
     "output_type": "stream",
     "text": [
      "['London', 'Leeds', 'Glasgow', 'Sheffield']\n"
     ]
    }
   ],
   "source": [
    "print(locations)"
   ]
  },
  {
   "cell_type": "markdown",
   "metadata": {},
   "source": [
    "This changes drastically, if we increment the list by using augmented assignment operator +=. To show this, we change the previous function rename it as \"side_effects\" in the following example:"
   ]
  },
  {
   "cell_type": "code",
   "execution_count": 16,
   "metadata": {},
   "outputs": [
    {
     "name": "stdout",
     "output_type": "stream",
     "text": [
      "['London', 'Leeds', 'Glasgow', 'Sheffield']\n",
      "['London', 'Leeds', 'Glasgow', 'Sheffield', 'Birmingham', 'Bradford']\n"
     ]
    }
   ],
   "source": [
    "def side_effects(cities):\n",
    "    print(cities)\n",
    "    cities += [\"Birmingham\", \"Bradford\"]\n",
    "    print(cities)\n",
    " \n",
    "locations = [\"London\", \"Leeds\", \"Glasgow\", \"Sheffield\"]\n",
    "side_effects(locations)"
   ]
  },
  {
   "cell_type": "code",
   "execution_count": 17,
   "metadata": {},
   "outputs": [
    {
     "name": "stdout",
     "output_type": "stream",
     "text": [
      "['London', 'Leeds', 'Glasgow', 'Sheffield', 'Birmingham', 'Bradford']\n"
     ]
    }
   ],
   "source": [
    "print(locations)"
   ]
  },
  {
   "cell_type": "markdown",
   "metadata": {},
   "source": [
    "We can see that Birmingham and Bradford are included in the global list locations as well, because += acts as an in-place operation.\n",
    "\n",
    "The user of this function can prevent this side effect by passing a copy to the function. A shallow copy is sufficient, because there are no nested structures in the list. To satisfy our French customers as well, we change the city names in the next example to demonstrate the effect of the slice operator in the function call:"
   ]
  },
  {
   "cell_type": "code",
   "execution_count": 18,
   "metadata": {},
   "outputs": [
    {
     "name": "stdout",
     "output_type": "stream",
     "text": [
      "['Lyon', 'Toulouse', 'Nice', 'Nantes', 'Strasbourg']\n",
      "['Lyon', 'Toulouse', 'Nice', 'Nantes', 'Strasbourg', 'Paris', 'Marseille']\n",
      "['Lyon', 'Toulouse', 'Nice', 'Nantes', 'Strasbourg']\n"
     ]
    }
   ],
   "source": [
    "def side_effects(cities):\n",
    "    print(cities)\n",
    "    cities += [\"Paris\", \"Marseille\"]\n",
    "    print(cities)\n",
    " \n",
    "locations = [\"Lyon\", \"Toulouse\", \"Nice\", \"Nantes\", \"Strasbourg\"]\n",
    "side_effects(locations[:])\n",
    "print(locations) "
   ]
  },
  {
   "cell_type": "code",
   "execution_count": 19,
   "metadata": {},
   "outputs": [
    {
     "name": "stdout",
     "output_type": "stream",
     "text": [
      "['Lyon', 'Toulouse', 'Nice', 'Nantes', 'Strasbourg']\n"
     ]
    }
   ],
   "source": [
    "print(locations)"
   ]
  },
  {
   "cell_type": "markdown",
   "metadata": {},
   "source": [
    "We can see that the global list locations has not been effected by the execution of the function.\n",
    "### Command Line Arguments\n",
    "If you use a command line interface, i.e. a text user interface (TUI) , and not a graphical user interface (GUI), command line arguments are very useful. They are arguments which are added after the function call in the same line.\n",
    "\n",
    "It's easy to write Python scripts using command line arguments. If you call a Python script from a shell, the arguments are placed after the script name. The arguments are separated by spaces. Inside the script these arguments are accessible through the list variable sys.argv. The name of the script is included in this list sys.argv[0]. sys.argv[1] contains the first parameter, sys.argv[2] the second and so on.\n",
    "The following script (arguments.py) prints all arguments:"
   ]
  },
  {
   "cell_type": "markdown",
   "metadata": {},
   "source": [
    "<pre> # Module sys has to be imported:\n",
    "import sys\n",
    "</pre>\n",
    "\n",
    "### Iteration over all arguments:\n",
    "<pre>\n",
    "for eachArg in sys.argv:   \n",
    "        print(eachArg)\n",
    "        </pre>\n",
    "\n",
    "Example call to this script:\n",
    "\n",
    "<pre>python argumente.py python course for beginners</pre>\n",
    "\n",
    "This call creates the following output:\n",
    "\n",
    "<pre>\n",
    "argumente.py\n",
    "python\n",
    "course\n",
    "for\n",
    "beginners\n",
    "</pre>"
   ]
  },
  {
   "cell_type": "markdown",
   "metadata": {},
   "source": [
    "### Variable Length of Parameters\n",
    "We will introduce now functions, which can take an arbitrary number of arguments. Those who have some programming background in C or C++ know this from the varargs feature of these languages.\n",
    "\n",
    "Some definitions, which are not really necessary for the following: A function with an arbitrary number of arguments is usually called a variadic function in computer science. To use another special term: A variadic function is a function of indefinite arity. The arity of a function or an operation is the number of arguments or operands that the function or operation takes. The term was derived from words like \"unary\", \"binary\", \"ternary\", all ending in \"ary\".\n",
    "\n",
    "The asterisk \"*\" is used in Python to define a variable number of arguments. The asterisk character has to precede a variable identifier in the parameter list."
   ]
  },
  {
   "cell_type": "code",
   "execution_count": 3,
   "metadata": {},
   "outputs": [
    {
     "name": "stdout",
     "output_type": "stream",
     "text": [
      "()\n"
     ]
    }
   ],
   "source": [
    "def varpafu(*x): \n",
    "    print(x)\n",
    "varpafu()"
   ]
  },
  {
   "cell_type": "code",
   "execution_count": 25,
   "metadata": {},
   "outputs": [
    {
     "name": "stdout",
     "output_type": "stream",
     "text": [
      "(34, 'Do you like Python?', 'Of course')\n"
     ]
    }
   ],
   "source": [
    "varpafu(34,\"Do you like Python?\", \"Of course\")"
   ]
  },
  {
   "cell_type": "markdown",
   "metadata": {},
   "source": [
    "We learn from the previous example that the arguments passed to the function call of varpafu() are collected in a tuple, which can be accessed as a \"normal\" variable x within the body of the function. If the function is called without any arguments, the value of x is an empty tuple.\n",
    "\n",
    "Sometimes, it's necessary to use positional parameters followed by an arbitrary number of parameters in a function definition. This is possible, but the positional parameters always have to precede the arbitrary parameters. In the following example, we have a positional parameter \"city\", - the main location, - which always have to be given, followed by an arbitrary number of other locations:"
   ]
  },
  {
   "cell_type": "code",
   "execution_count": 27,
   "metadata": {},
   "outputs": [
    {
     "name": "stdout",
     "output_type": "stream",
     "text": [
      "Paris ()\n",
      "Paris ('Strasbourg', 'Lyon', 'Dijon', 'Bordeaux', 'Marseille')\n"
     ]
    }
   ],
   "source": [
    "def locations(city, *other_cities): print(city, other_cities)\n",
    "locations(\"Paris\")\n",
    "locations(\"Paris\", \"Strasbourg\", \"Lyon\", \"Dijon\", \"Bordeaux\", \"Marseille\")"
   ]
  },
  {
   "cell_type": "markdown",
   "metadata": {},
   "source": [
    "### * in Function Calls\n",
    "A * can appear in function calls as well, as we have just seen in the previous exercise: The semantics is in this case \"inverse\" to a star in a function definition. An argument will be unpacked and not packed. In other words, the elements of the list or tuple are singularized:"
   ]
  },
  {
   "cell_type": "code",
   "execution_count": 31,
   "metadata": {},
   "outputs": [
    {
     "name": "stdout",
     "output_type": "stream",
     "text": [
      "47 11 12\n"
     ]
    }
   ],
   "source": [
    "def f(x,y,z):\n",
    "    print(x,y,z)\n",
    "\n",
    "p = (47,11,12)\n",
    "f(*p)"
   ]
  },
  {
   "cell_type": "markdown",
   "metadata": {},
   "source": [
    "There is hardly any need to mention that this way of calling our function is more comfortable than the following one:"
   ]
  },
  {
   "cell_type": "code",
   "execution_count": 32,
   "metadata": {},
   "outputs": [
    {
     "name": "stdout",
     "output_type": "stream",
     "text": [
      "47 11 12\n"
     ]
    }
   ],
   "source": [
    "f(p[0],p[1],p[2])"
   ]
  },
  {
   "cell_type": "markdown",
   "metadata": {},
   "source": [
    "Additionally, the previous call (f(p[0],p[1],p[2])) doesn't work in the general case, i.e. lists of unknown lengths. \"Unknown\" means that the length is only known at runtime and not when we are writing the script.\n",
    "\n",
    "### Arbitrary Keyword Parameters\n",
    "There is also a mechanism for an arbitrary number of keyword parameters. To do this, we use the double asterisk \"**\" notation:"
   ]
  },
  {
   "cell_type": "code",
   "execution_count": 2,
   "metadata": {},
   "outputs": [
    {
     "name": "stdout",
     "output_type": "stream",
     "text": [
      "{}\n"
     ]
    }
   ],
   "source": [
    ">>> def f(**args):\n",
    "    print(args)\n",
    " \n",
    "f()"
   ]
  },
  {
   "cell_type": "code",
   "execution_count": 3,
   "metadata": {},
   "outputs": [
    {
     "name": "stdout",
     "output_type": "stream",
     "text": [
      "{'de': 'German', 'en': 'English', 'fr': 'French'}\n"
     ]
    }
   ],
   "source": [
    "f(de=\"German\",en=\"English\",fr=\"French\")"
   ]
  },
  {
   "cell_type": "markdown",
   "metadata": {},
   "source": [
    "### Double Asterisk in Function Calls\n",
    "The following example demonstrates the usage of ** in a function call:"
   ]
  },
  {
   "cell_type": "code",
   "execution_count": 35,
   "metadata": {},
   "outputs": [
    {
     "name": "stdout",
     "output_type": "stream",
     "text": [
      "append block extract yes\n"
     ]
    }
   ],
   "source": [
    "def f(a,b,x,y):\n",
    "    print(a,b,x,y)\n",
    "\n",
    "d = {'a':'append', 'b':'block','x':'extract','y':'yes'}\n",
    "f(**d)"
   ]
  },
  {
   "cell_type": "markdown",
   "metadata": {},
   "source": [
    "and now in combination with *:"
   ]
  },
  {
   "cell_type": "code",
   "execution_count": 36,
   "metadata": {},
   "outputs": [
    {
     "name": "stdout",
     "output_type": "stream",
     "text": [
      "47 11 extract yes\n"
     ]
    }
   ],
   "source": [
    "t = (47,11)\n",
    "d = {'x':'extract','y':'yes'}\n",
    "f(*t, **d)"
   ]
  },
  {
   "cell_type": "markdown",
   "metadata": {},
   "source": [
    "#### Exercise\n",
    "\n",
    "Write a function which calculates the arithmetic mean of a variable number of values.\n",
    "\n",
    "#### Solution\n"
   ]
  },
  {
   "cell_type": "code",
   "execution_count": 2,
   "metadata": {},
   "outputs": [],
   "source": [
    "def arithmetic_mean(x, *l):\n",
    "    \"\"\" The function calculates the arithmetic mean of a non-empty\n",
    "        arbitrary number of numbers \"\"\"\n",
    "    sum = x\n",
    "    for i in l:\n",
    "        sum += i\n",
    "\n",
    "    return sum / (1.0 + len(l))\n"
   ]
  },
  {
   "cell_type": "markdown",
   "metadata": {},
   "source": [
    "You might ask yourself, why we used both a positional parameter \"x\" and the variable parameter \"*l\" in our function definition. We could have only used *l to contain all our numbers. We wanted to enforce that we always have a non-empty list of numbers. This is necessary to prevent a division by zero error, because the average of an empty list of numbers is not defined.\n",
    "\n",
    "In the following interactive Python session, we can learn how to use this function. We assume that the function arithmetic_mean is saved in a file called statistics.py."
   ]
  },
  {
   "cell_type": "markdown",
   "metadata": {},
   "source": [
    "<pre>from statistics import arithmetic_mean\n",
    "arithmetic_mean(4,7,9)\n",
    "6.666666666666667\n",
    "arithmetic_mean(4,7,9,45,-3.7,99)\n",
    "26.71666666666667</pre>"
   ]
  },
  {
   "cell_type": "markdown",
   "metadata": {},
   "source": [
    "This works fine, but there is a catch. What if somebody wants to call the function with a list, instead of a variable number of numbers, as we have shown above? We can see in the following that we raise an error, as most hopefully, you might expect:"
   ]
  },
  {
   "cell_type": "code",
   "execution_count": 29,
   "metadata": {},
   "outputs": [
    {
     "ename": "NameError",
     "evalue": "name 'arithmetic_mean' is not defined",
     "output_type": "error",
     "traceback": [
      "\u001b[1;31m---------------------------------------------------------------------------\u001b[0m",
      "\u001b[1;31mNameError\u001b[0m                                 Traceback (most recent call last)",
      "\u001b[1;32m<ipython-input-29-b0693d70ca11>\u001b[0m in \u001b[0;36m<module>\u001b[1;34m\u001b[0m\n\u001b[0;32m      1\u001b[0m \u001b[0ml\u001b[0m \u001b[1;33m=\u001b[0m \u001b[1;33m[\u001b[0m\u001b[1;36m4\u001b[0m\u001b[1;33m,\u001b[0m\u001b[1;36m7\u001b[0m\u001b[1;33m,\u001b[0m\u001b[1;36m9\u001b[0m\u001b[1;33m,\u001b[0m\u001b[1;36m45\u001b[0m\u001b[1;33m,\u001b[0m\u001b[1;33m-\u001b[0m\u001b[1;36m3.7\u001b[0m\u001b[1;33m,\u001b[0m\u001b[1;36m99\u001b[0m\u001b[1;33m]\u001b[0m\u001b[1;33m\u001b[0m\u001b[1;33m\u001b[0m\u001b[0m\n\u001b[1;32m----> 2\u001b[1;33m \u001b[0marithmetic_mean\u001b[0m\u001b[1;33m(\u001b[0m\u001b[0ml\u001b[0m\u001b[1;33m)\u001b[0m\u001b[1;33m\u001b[0m\u001b[1;33m\u001b[0m\u001b[0m\n\u001b[0m",
      "\u001b[1;31mNameError\u001b[0m: name 'arithmetic_mean' is not defined"
     ]
    }
   ],
   "source": [
    "l = [4,7,9,45,-3.7,99]\n",
    "arithmetic_mean(l)"
   ]
  },
  {
   "cell_type": "markdown",
   "metadata": {},
   "source": [
    "The rescue is using another asterisk:"
   ]
  },
  {
   "cell_type": "markdown",
   "metadata": {},
   "source": [
    "<pre>\n",
    "arithmetic_mean(*l)\n",
    "26.71666666666667\n",
    "</pre>"
   ]
  }
 ],
 "metadata": {
  "kernelspec": {
   "display_name": "Python 3",
   "language": "python",
   "name": "python3"
  },
  "language_info": {
   "codemirror_mode": {
    "name": "ipython",
    "version": 3
   },
   "file_extension": ".py",
   "mimetype": "text/x-python",
   "name": "python",
   "nbconvert_exporter": "python",
   "pygments_lexer": "ipython3",
   "version": "3.8.5"
  }
 },
 "nbformat": 4,
 "nbformat_minor": 4
}
