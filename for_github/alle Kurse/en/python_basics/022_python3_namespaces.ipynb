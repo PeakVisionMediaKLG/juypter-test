{
 "cells": [
  {
   "cell_type": "markdown",
   "metadata": {},
   "source": [
    "## Namespaces and Scopes\n",
    "### Namespaces\n",
    "\n",
    "<img height= 200 width=300 class=\"imgright\" src=\"../images/names_as_namespaces.webp\" srcset=\"../images/names_as_namespaces_350w.webp 350w,../images/names_as_namespaces_300w.webp 300w\" alt=\"Names as Namespaces\" />\n",
    "\n",
    "Generally speaking, a namespace (sometimes also called a context) is a naming system for making names unique to avoid ambiguity. Everybody knows a namespacing system from daily life, i.e. the naming of people by the first name and family name (surname). Another example is a network: each network device (workstation, server, printer, ...) needs a unique name and address. Yet a further example is the directory structure of filesystems. The same filename can be used in different directories, the files can be uniquely accessed via the pathnames.\n",
    "Many programming languages use namespaces or contexts for identifiers. An identifier defined in a namespace is associated with that namespace. This way, the same identifier can be independently defined in multiple namespaces (Like the same filename in different directories). Programming languages, which support namespaces, may have different rules that determine to which namespace an identifier belongs to.\n",
    "Namespaces in Python are implemented as Python dictionaries, that is, they are defined by a mapping of names, i.e. the keys of the dictionary, to objects, i.e. the values. The user doesn't have to know this to write a Python program and when using namespaces.\n",
    "Some namespaces in Python:\n",
    "\n",
    "- *global names* of a module\n",
    "- *local names* in a function or method invocation\n",
    "- *built-in names*: this namespace contains built-in fuctions (e.g. abs(), cmp(), ...) and built-in exception names\n",
    "\n",
    "\n",
    "### Lifetime of a Namespace\n",
    "Not every namespace, which may be used in a script or program is accessible (or alive) at any moment during the execution of the script. Namespaces have different lifetimes, because they are often created at different points in time. There is one namespace which is present from beginning to end: The namespace containing the built-in names is created when the Python interpreter starts up, and is never deleted. The global namespace of a module is generated when the module is read in. Module namespaces normally last until the script ends, i.e. the interpreter quits. When a function is called, a local namespace is created for this function. This namespace is deleted either if the function ends, i.e. returns, or if the function raises an exception, which is not dealt with within the function.\n",
    "### Scopes\n",
    "A scope refers to a region of a program where a namespace can be directly accessed, i.e. without using a namespace prefix. In other words, the scope of a name is the area of a program where this name can be unambiguously used, for example, inside of a function. A name's namespace is identical to it's scope. Scopes are defined statically, but they are used dynamically.\n",
    "During program execution there are the following nested scopes available:\n",
    "\n",
    "- the innermost scope is searched first and it contains the local names\n",
    "- the scopes of any enclosing functions, which are searched starting with the nearest enclosing scope\n",
    "- the next-to-last scope contains the current module's global names\n",
    "- the outermost scope, which is searched last, is the namespace containing the built-in names "
   ]
  }
 ],
 "metadata": {
  "kernelspec": {
   "display_name": "Python 3",
   "language": "python",
   "name": "python3"
  },
  "language_info": {
   "codemirror_mode": {
    "name": "ipython",
    "version": 3
   },
   "file_extension": ".py",
   "mimetype": "text/x-python",
   "name": "python",
   "nbconvert_exporter": "python",
   "pygments_lexer": "ipython3",
   "version": "3.7.6"
  }
 },
 "nbformat": 4,
 "nbformat_minor": 4
}
