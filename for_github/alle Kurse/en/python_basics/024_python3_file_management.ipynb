{
 "cells": [
  {
   "cell_type": "markdown",
   "metadata": {},
   "source": [
    "## File Management\n",
    "\n",
    "### Files in General\n",
    "\n",
    "<img width=300 class=\"imgright\" src=\"../images/some_files.webp\" srcset=\"../images/some_files_800w.webp 800w,../images/some_files_700w.webp 700w,../images/some_files_600w.webp 600w,../images/some_files_500w.webp 500w,../images/some_files_400w.webp 400w,../images/some_files_350w.webp 350w,../images/some_files_300w.webp 300w\" alt=\"Files \" />\n",
    "\n",
    "\n",
    "It's hard to find anyone in the 21st century, who doesn't know what a file is. When we say file, we mean of course, a file on a computer. There may be people who don't know anymore the \"container\", like a cabinet or a folder, for keeping papers archived in a convenient order. A file on a computer is the modern counterpart of this. It is a collection of information, which can be accessed and used by a computer program. Usually, a file resides on a durable storage. Durable means that the data is persistent, i.e. it can be used by other programs after the program which has created or manipulated it, has terminated.\n",
    "\n",
    "The term file management in the context of computers refers to the manipulation of data in a file or files and documents on a computer. Though everybody has an understanding of the term file, we present a formal definition anyway:\n",
    "\n",
    "A file or a computer file is a chunk of logically related data or information which can be used by computer programs. Usually a file is kept on a permanent storage media, e.g. a hard drive disk. A unique name and path is used by human users or in programs or scripts to access a file for reading and modification purposes.\n",
    "\n",
    "The term \"file\" - as we have described it in the previous paragraph - appeared in the history of computers very early. Usage can be tracked down to the year 1952, when punch cards where used.\n",
    "\n",
    "A programming language without the capability to store and retrieve previously stored information would be hardly useful.\n",
    "\n",
    "The most basic tasks involved in file manipulation are reading data from files and writing or appending data to files.\n",
    "\n",
    "### Reading and Writing Files in Python\n",
    "The syntax for reading and writing files in Python is similar to programming languages like C, C++, Java, Perl, and others but a lot easier to handle.\n",
    "\n",
    "We will start with writing a file. We have a string which contains part of the definition of a general file from Wikipedia:"
   ]
  },
  {
   "cell_type": "code",
   "execution_count": 1,
   "metadata": {},
   "outputs": [],
   "source": [
    "definition = \"\"\"\n",
    "A computer file is a computer resource for recording data discretely in a\n",
    "computer storage device. Just as words can be written \n",
    "to paper, so can information be written to a computer\n",
    "file. Files can be edited and transferred through the \n",
    "internet on that particular computer system.\"\"\""
   ]
  },
  {
   "cell_type": "markdown",
   "metadata": {},
   "source": [
    "We will write this into a file with the name ```file_definition.txt```:"
   ]
  },
  {
   "cell_type": "code",
   "execution_count": 2,
   "metadata": {},
   "outputs": [
    {
     "data": {
      "text/plain": [
       "283"
      ]
     },
     "execution_count": 2,
     "metadata": {},
     "output_type": "execute_result"
    }
   ],
   "source": [
    "open(\"file_definition.txt\", \"w\").write(definition)"
   ]
  },
  {
   "cell_type": "markdown",
   "metadata": {},
   "source": [
    "If you check in your file browser, you will see a file with this name. The file will look like this: [file_definition.txt](file_definition.txt)"
   ]
  },
  {
   "cell_type": "markdown",
   "metadata": {},
   "source": [
    "We successfully created and have written to a text file. Now, we want to see how to read this file from Python. We can read the whole text file into one string, as you can see in the following code:"
   ]
  },
  {
   "cell_type": "code",
   "execution_count": 5,
   "metadata": {},
   "outputs": [],
   "source": [
    "text = open(\"file_definition.txt\").read()"
   ]
  },
  {
   "cell_type": "markdown",
   "metadata": {},
   "source": [
    "If you call ```print(text)```, you will see the text from above again.\n",
    "\n",
    "Reading in a text file in one string object is okay, as long as the file is not too large. \n",
    "If a file is large, wwe can read in the file line by line. We demonstrate how this can be achieved \n",
    "in the following example with a small file:"
   ]
  },
  {
   "cell_type": "code",
   "execution_count": 4,
   "metadata": {},
   "outputs": [
    {
     "name": "stdout",
     "output_type": "stream",
     "text": [
      "V. ad Lesbiam\n",
      "\n",
      "VIVAMUS mea Lesbia, atque amemus,\n",
      "rumoresque senum severiorum\n",
      "omnes unius aestimemus assis!\n",
      "soles occidere et redire possunt:\n",
      "nobis cum semel occidit breuis lux,\n",
      "nox est perpetua una dormienda.\n",
      "da mi basia mille, deinde centum,\n",
      "dein mille altera, dein secunda centum,\n",
      "deinde usque altera mille, deinde centum.\n",
      "dein, cum milia multa fecerimus,\n",
      "conturbabimus illa, ne sciamus,\n",
      "aut ne quis malus inuidere possit,\n",
      "cum tantum sciat esse basiorum.\n",
      "(GAIUS VALERIUS CATULLUS)\n"
     ]
    }
   ],
   "source": [
    "with open(\"ad_lesbiam.txt\", \"r\") as fh:\n",
    "    for line in fh:\n",
    "        print(line.strip())"
   ]
  },
  {
   "cell_type": "markdown",
   "metadata": {},
   "source": [
    "Some people don't use the with statement to read or write files. This is not a good idea. The code above without with looks like this:\n",
    "\n",
    "```\n",
    "fh = open(\"ad_lesbiam.txt\")\n",
    "for line in fh:\n",
    "        print(line.strip())\n",
    "fh.close()\n",
    "```\n",
    "\n",
    "A striking difference between both implementation consists in the usage of ```close```.  If we use ```with```, we do not have to explicitly close the file. The file will be closed automatically, when the with blocks ends. Without ```with```, we have to explicitly close the file, like in our second example with ```fh.close()```.\n",
    "There is a more important difference between them: If an exception occurs inside of the ```ẁith``` block, the file will be closed. If an exception occurs in the variant without ```with``` before the ```close```, the file will not be closed.\n",
    "This means, you should alwawys use the ```with``` statement.\n",
    "\n"
   ]
  },
  {
   "cell_type": "markdown",
   "metadata": {},
   "source": [
    "We saw already how to write into a file with \"write\". The following code is an example, in which we show how to read in from one file line by line, change the lines and write the changed content into another file. The file can be downloaded: [pythonista_and_python.txt](pythonista_and_python.txt):"
   ]
  },
  {
   "cell_type": "code",
   "execution_count": 5,
   "metadata": {},
   "outputs": [
    {
     "name": "stdout",
     "output_type": "stream",
     "text": [
      "A blue Python newbie, green behind the ears, went to Pythonia.\n",
      "She wanted to visit the famous wise green Python guru.\n",
      "She wanted to ask her about the white way to avoid the black.\n",
      "The bright path to program in a yellow, green, or blue style.\n",
      "The green Python turned red, when she addressed her.\n",
      "The Python newbie turned yellow in turn.\n",
      "After a long but not endless loop  the wise Python uttered:\n",
      "\"The rainbow!\"\n"
     ]
    }
   ],
   "source": [
    "with open(\"pythonista_and_python.txt\") as infile:\n",
    "    with open(\"python_newbie_and_the_guru.txt\", \"w\") as outfile:\n",
    "        for line in infile:\n",
    "            line = line.replace(\"Pythonista\", \"Python newbie\")\n",
    "            line = line.replace(\"Python snake\", \"Python guru\")\n",
    "            print(line.rstrip())\n",
    "            # write the line into the file:\n",
    "            outfile.write(line)"
   ]
  },
  {
   "cell_type": "markdown",
   "metadata": {},
   "source": [
    "As we have already mentioned: If a file is not to large and if we have to do replacements like we did in the previous example, we wouldn't read in and write out the file line by line. It is much better to use the ```read```method, which returns a string containing the complete content of the file, including the carriage returns and line feeds. We can apply the changes to this string and save it into the new file. Working like this, there is no need for a ```with```construct, because there will be no reference to the file, i.e. it will be immediately deleted afeter reading and writing:"
   ]
  },
  {
   "cell_type": "code",
   "execution_count": 6,
   "metadata": {},
   "outputs": [
    {
     "data": {
      "text/plain": [
       "''"
      ]
     },
     "execution_count": 6,
     "metadata": {},
     "output_type": "execute_result"
    }
   ],
   "source": [
    "txt = open(\"pythonista_and_python.txt\").read()\n",
    "txt = txt.replace(\"Pythonista\", \"Python newbie\")\n",
    "txt = txt.replace(\"Python snake\", \"Python guru\")\n",
    "open(\"python_newbie_and_the_guru.txt\", \"w\").write(txt)\n",
    ";"
   ]
  },
  {
   "cell_type": "markdown",
   "metadata": {},
   "source": [
    "### Resetting the Files Current Position\n",
    "It's possible to set - or reset - a file's position to a certain position, also called the offset. To do this, we use the method ```seek```.  The parameter of seek determines the offset which we want to set the current position to. To work with ```seek```, we will often need the method ```tell``` which \"tells\" us the current position. When we have just opened a file, it will be zero. Before we demonstrate the way of working of both ```seek``` and ```tell```, we create a simple file on which we will perform our commands:\n"
   ]
  },
  {
   "cell_type": "code",
   "execution_count": 7,
   "metadata": {},
   "outputs": [
    {
     "data": {
      "text/plain": [
       "''"
      ]
     },
     "execution_count": 7,
     "metadata": {},
     "output_type": "execute_result"
    }
   ],
   "source": [
    "open(\"small_text.txt\", \"w\").write(\"brown is her favorite colour\")\n",
    ";"
   ]
  },
  {
   "cell_type": "markdown",
   "metadata": {},
   "source": [
    "The method ```tell``` returns the current stream position, i.e. the position where we will continue, when we use a \"read\", \"readline\" or so on:"
   ]
  },
  {
   "cell_type": "code",
   "execution_count": 8,
   "metadata": {},
   "outputs": [
    {
     "data": {
      "text/plain": [
       "0"
      ]
     },
     "execution_count": 8,
     "metadata": {},
     "output_type": "execute_result"
    }
   ],
   "source": [
    "fh = open(\"small_text.txt\")\n",
    "fh.tell()"
   ]
  },
  {
   "cell_type": "markdown",
   "metadata": {},
   "source": [
    "Zero tells us that we are positioned at the first character of the file."
   ]
  },
  {
   "cell_type": "markdown",
   "metadata": {},
   "source": [
    "We will read now the next five characters of the file:"
   ]
  },
  {
   "cell_type": "code",
   "execution_count": 9,
   "metadata": {},
   "outputs": [
    {
     "data": {
      "text/plain": [
       "'brown'"
      ]
     },
     "execution_count": 9,
     "metadata": {},
     "output_type": "execute_result"
    }
   ],
   "source": [
    "fh.read(5)"
   ]
  },
  {
   "cell_type": "markdown",
   "metadata": {},
   "source": [
    "Using ```tell```again, shows that we are located at position 5:"
   ]
  },
  {
   "cell_type": "code",
   "execution_count": 10,
   "metadata": {},
   "outputs": [
    {
     "data": {
      "text/plain": [
       "5"
      ]
     },
     "execution_count": 10,
     "metadata": {},
     "output_type": "execute_result"
    }
   ],
   "source": [
    "fh.tell()"
   ]
  },
  {
   "cell_type": "markdown",
   "metadata": {},
   "source": [
    "Using ```read``` without parameters will read the remainder of the file starting from this position:"
   ]
  },
  {
   "cell_type": "code",
   "execution_count": 11,
   "metadata": {},
   "outputs": [
    {
     "data": {
      "text/plain": [
       "' is her favorite colour'"
      ]
     },
     "execution_count": 11,
     "metadata": {},
     "output_type": "execute_result"
    }
   ],
   "source": [
    "fh.read()"
   ]
  },
  {
   "cell_type": "markdown",
   "metadata": {},
   "source": [
    "Using ```tell```again, tells us about the position after the last character of the file. This number corresponds to the number of characters of the file!"
   ]
  },
  {
   "cell_type": "code",
   "execution_count": 12,
   "metadata": {},
   "outputs": [
    {
     "data": {
      "text/plain": [
       "28"
      ]
     },
     "execution_count": 12,
     "metadata": {},
     "output_type": "execute_result"
    }
   ],
   "source": [
    "fh.tell()"
   ]
  },
  {
   "cell_type": "markdown",
   "metadata": {},
   "source": [
    "With ```seek```we can move the position to an arbitrary place in the file. The method ```seek``` takes two parameters:\n",
    "\n",
    "```fh.seek(offset, startpoint_for_offset)```\n",
    "\n",
    "where fh is the file pointer, we are working with. \n",
    "The parameter ```offset``` specifies how many positions the pointer will be moved.\n",
    "The question is from which position should the pointer be moved.\n",
    "This position is specified by the second parameter ```startpoint_for_offset```. It can have the follwoing values:\n",
    "\n",
    "    0: reference point is the beginning of the file\n",
    "    1: reference point is the current file position\n",
    "    2: reference point is the end of the file\n",
    "\n",
    "if the ```startpoint_for_offset``` parameter is not given, it defaults to 0.\n",
    "\n",
    "WARNING: The values 1 and 2 for the second parameter work only, if the file has been opened for binary reading. We will cover this later! \n",
    "\n",
    "The following examples, use the default behaviour:"
   ]
  },
  {
   "cell_type": "code",
   "execution_count": 13,
   "metadata": {},
   "outputs": [
    {
     "name": "stdout",
     "output_type": "stream",
     "text": [
      "13\n"
     ]
    },
    {
     "data": {
      "text/plain": [
       "'favorite colour'"
      ]
     },
     "execution_count": 13,
     "metadata": {},
     "output_type": "execute_result"
    }
   ],
   "source": [
    "fh.seek(13)\n",
    "print(fh.tell())   # just to show you, what seek did!\n",
    "fh.read()          # reading the remainder of the file"
   ]
  },
  {
   "cell_type": "markdown",
   "metadata": {},
   "source": [
    "It is also possible to move the position relative to the current position. If we want to move ```k``` characters to the right, we can just set the argument of ```seek``` to ```fh.tell() + k```\n"
   ]
  },
  {
   "cell_type": "code",
   "execution_count": 14,
   "metadata": {},
   "outputs": [
    {
     "name": "stdout",
     "output_type": "stream",
     "text": [
      "We are now at position:  11\n"
     ]
    }
   ],
   "source": [
    "k = 6\n",
    "fh.seek(5)    # setting the position to 5\n",
    "fh.seek(fh.tell() + k)   #  moving k positions to the right\n",
    "print(\"We are now at position: \", fh.tell())"
   ]
  },
  {
   "cell_type": "markdown",
   "metadata": {},
   "source": [
    "```seek``` doesn't like negative arguments for the position. On the other hand it doesn't matter, if the value for the position is larger than the length of the file. We define a function in the following, which will set the position to zero, if a negative value is applied. As there is no efficient way to check the length of a file and because it doesn't matter, if the position is greater than the length of the file, we will keep possible values greater than the length of a file. \n"
   ]
  },
  {
   "cell_type": "code",
   "execution_count": 15,
   "metadata": {},
   "outputs": [
    {
     "name": "stdout",
     "output_type": "stream",
     "text": [
      "0\n",
      "7\n",
      "2\n",
      "0\n"
     ]
    }
   ],
   "source": [
    "def relative_seek(fp, k):\n",
    "    \"\"\" rel_seek moves the position of the file pointer k characters to\n",
    "    the left (k<0) or right (k>0) \n",
    "    \"\"\"\n",
    "    position = fp.tell() + k\n",
    "    if position < 0:\n",
    "        position = 0\n",
    "    fh.seek(position)\n",
    "    \n",
    "\n",
    "with open(\"small_text.txt\") as fh:\n",
    "    print(fh.tell())\n",
    "    relative_seek(fh, 7)\n",
    "    print(fh.tell())\n",
    "    relative_seek(fh, -5)\n",
    "    print(fh.tell())\n",
    "    relative_seek(fh, -10)\n",
    "    print(fh.tell())"
   ]
  },
  {
   "cell_type": "markdown",
   "metadata": {},
   "source": [
    "You might have thought, when we wrote the function ```relative_seek``` why do we not use the second parameter of ```seek```. After all the help file says\n",
    "\"1 -- current stream position;\". What the help file doesn't say is the fact that ```seek``` needs a file pointer opened with \"br\" (binary read), if the second parameter is set to 1 or 2.  We show this in the next subchapter.\n",
    "\n",
    "### Binary read\n",
    "\n",
    "\n",
    "So far we have only used the first parameter of ```open```, i.e. the filename. The second parameter is optional and is set to \"r\" (read) by default. \"r\" means that the file is read in text mode. In text mode, if encoding (another parameter of open) is not specified the encoding used is platform\n",
    "dependent: locale.getpreferredencoding(False) is called to get the\n",
    "  current locale encoding. \n",
    "\n",
    "The second parameter specifies the mode of access to the file or in other words the mode in which the file\n",
    " is opened.  Files opened in binary mode (appending 'b' to the mode argument) return contents as bytes objects without any decoding. \n",
    " \n",
    "We will demonstrate this in the following example. To demonstrate the different effects we need a string which uses characters which are not included in standard ASCII. This is why we use a Turkish text, because it uses many special characters and Umlaute. the English translation means \"See you, I'll come tomorrow.\". \n",
    "\n",
    "We will write a file with the Turkish text \"Görüşürüz, yarın geleceğim.\":"
   ]
  },
  {
   "cell_type": "code",
   "execution_count": 16,
   "metadata": {},
   "outputs": [],
   "source": [
    "txt = \"Görüşürüz, yarın geleceğim.\" \n",
    "number_of_chars_written = open(\"see_you_tomorrow.txt\", \"w\").write(txt)"
   ]
  },
  {
   "cell_type": "markdown",
   "metadata": {},
   "source": [
    "We will read in this files in text mode and binary mode to demonstrate the differences:"
   ]
  },
  {
   "cell_type": "code",
   "execution_count": 17,
   "metadata": {},
   "outputs": [
    {
     "name": "stdout",
     "output_type": "stream",
     "text": [
      "text mode:  Görüşürüz, yarın geleceğim.\n",
      "binary mode:  b'G\\xc3\\xb6r\\xc3\\xbc\\xc5\\x9f\\xc3\\xbcr\\xc3\\xbcz, yar\\xc4\\xb1n gelece\\xc4\\x9fim.'\n"
     ]
    }
   ],
   "source": [
    "text = open(\"see_you_tomorrow.txt\", \"r\").read()\n",
    "print(\"text mode: \", text)\n",
    "text_binary = open(\"see_you_tomorrow.txt\", \"rb\").read()\n",
    "print(\"binary mode: \", text_binary)"
   ]
  },
  {
   "cell_type": "markdown",
   "metadata": {},
   "source": [
    "In binary mode, the characters which are not plain ASCII like \"ö\", \"ü\", \"ş\", \"ğ\" and \"ı\" are represented by more than one byte. In our case by two characters. 14 bytes are needed for \"görüşürüz\":"
   ]
  },
  {
   "cell_type": "code",
   "execution_count": 18,
   "metadata": {},
   "outputs": [
    {
     "data": {
      "text/plain": [
       "b'G\\xc3\\xb6r\\xc3\\xbc\\xc5\\x9f\\xc3\\xbcr\\xc3\\xbcz'"
      ]
     },
     "execution_count": 18,
     "metadata": {},
     "output_type": "execute_result"
    }
   ],
   "source": [
    "text_binary[:14]"
   ]
  },
  {
   "cell_type": "markdown",
   "metadata": {},
   "source": [
    "\"ö\" for example consists of the two bytes \"\\xc3\" and \"\\xb6\"."
   ]
  },
  {
   "cell_type": "code",
   "execution_count": 19,
   "metadata": {},
   "outputs": [
    {
     "data": {
      "text/plain": [
       "'Görüşürüz'"
      ]
     },
     "execution_count": 19,
     "metadata": {},
     "output_type": "execute_result"
    }
   ],
   "source": [
    "text[:9]"
   ]
  },
  {
   "cell_type": "markdown",
   "metadata": {},
   "source": [
    "There are two ways to turn a byte string into a string again:"
   ]
  },
  {
   "cell_type": "code",
   "execution_count": 20,
   "metadata": {},
   "outputs": [
    {
     "name": "stdout",
     "output_type": "stream",
     "text": [
      "Görüşürüz, yarın geleceğim.\n",
      "Görüşürüz, yarın geleceğim.\n"
     ]
    }
   ],
   "source": [
    "t = text_binary.decode(\"utf-8\")\n",
    "print(t)\n",
    "t2 = str(text_binary, \"utf-8\")\n",
    "print(t2)"
   ]
  },
  {
   "cell_type": "markdown",
   "metadata": {},
   "source": [
    "It is possible to use the values \"1\" and \"2\" for the second parameter of ```seek```, if we open a file in binary format:"
   ]
  },
  {
   "cell_type": "code",
   "execution_count": 21,
   "metadata": {},
   "outputs": [
    {
     "name": "stdout",
     "output_type": "stream",
     "text": [
      "b'G\\xc3\\xb6r\\xc3\\xbc\\xc5\\x9f\\xc3\\xbcr\\xc3\\xbcz'\n",
      "b'\\xc4\\xb1n'\n",
      "ın\n",
      "b'ece\\xc4\\x9f'\n",
      "eceğ\n"
     ]
    }
   ],
   "source": [
    "with open(\"see_you_tomorrow.txt\", \"rb\") as fh:\n",
    "    x = fh.read(14)\n",
    "    print(x)\n",
    "    # move 5 bytes to the right from the current position:\n",
    "    fh.seek(5, 1)\n",
    "    x = fh.read(3)\n",
    "    print(x)\n",
    "    print(str(x, \"utf-8\"))\n",
    "    # let's move to the 8th byte from the right side of the byte string:\n",
    "    fh.seek(-8, 2)\n",
    "    x = fh.read(5)\n",
    "    print(x)\n",
    "    print(str(x, \"utf-8\"))\n"
   ]
  },
  {
   "cell_type": "markdown",
   "metadata": {},
   "source": [
    "### Read and Write to the Same File\n",
    "In the following example we will open a file for reading and writing at the same time. If the file doesn't exist, it will be created. If you want to open an existing file for read and write, you should better use \"r+\", because this will not delete the content of the file."
   ]
  },
  {
   "cell_type": "code",
   "execution_count": 22,
   "metadata": {},
   "outputs": [
    {
     "name": "stdout",
     "output_type": "stream",
     "text": [
      "brown\n",
      "16\n",
      "The colour green\n"
     ]
    }
   ],
   "source": [
    "fh = open('colours.txt', 'w+')\n",
    "fh.write('The colour brown')\n",
    "\n",
    "#Go to the 12th byte in the file, counting starts with 0\n",
    "fh.seek(11)   \n",
    "print(fh.read(5))\n",
    "print(fh.tell())\n",
    "fh.seek(11)\n",
    "fh.write('green')\n",
    "fh.seek(0)\n",
    "content = fh.read()\n",
    "print(content)\n"
   ]
  },
  {
   "cell_type": "markdown",
   "metadata": {},
   "source": [
    "### \"How to get into a Pickle\"\n",
    "\n",
    "<img width=150 height=150 class=\"imgright\" src=\"../images/pickle.webp\" alt=\"Pickle \" />\n",
    "\n",
    "We don't really mean what the header says. On the contrary, we want to prevent any nasty situation, like losing the data, which your Python program has calculated. So, we will show you, how you can save your data in an easy way that you or better your program can reread them at a later date again. We are \"pickling\" the data, so that nothing gets lost.\n",
    "\n",
    "Python offers a module for this purpose, which is called \"pickle\". With the algorithms of the pickle module we can serialize and de-serialize Python object structures. \"Pickling\" denotes the process which converts a Python object hierarchy into a byte stream, and \"unpickling\" on the other hand is the inverse operation, i.e. the byte stream is converted back into an object hierarchy. What we call pickling (and unpickling) is also known as \"serialization\" or \"flattening\" a data structure.\n",
    "\n",
    "An object can be dumped with the dump method of the pickle module:\n",
    "\n",
    "<pre> pickle.dump(obj, file[,protocol, *, fix_imports=True])</pre>\n",
    "\n",
    "dump() writes a pickled representation of obj to the open file object file. The optional protocol argument tells the pickler to use the given protocol:\n",
    "\n",
    "-   Protocol version 0 is the original (before Python3) human-readable (ascii) protocol and is backwards compatible with previous versions of Python.\n",
    "-   Protocol version 1 is the old binary format which is also compatible with previous versions of Python.\n",
    "-   Protocol version 2 was introduced in Python 2.3. It provides much more efficient pickling of new-style classes.\n",
    "-   Protocol version 3 was introduced with Python 3.0. It has explicit support for bytes and cannot be unpickled by Python 2.x pickle modules. It's the recommended protocol of Python 3.x.\n",
    "\n",
    "The default protocol of Python3 is 3.\n",
    "\n",
    "If fix_imports is True and protocol is less than 3, pickle will try to map the new Python3 names to the old module names used in Python2, so that the pickle data stream is readable with Python 2.\n",
    "\n",
    "Objects which have been dumped to a file with pickle.dump can be reread into a program by using the method pickle.load(file). pickle.load recognizes automatically, which format had been used for writing the data.\n",
    "A simple example:\n",
    "\n",
    "<pre>\n",
    "import pickle\n",
    "\n",
    "cities = [\"Paris\", \"Dijon\", \"Lyon\", \"Strasbourg\"]\n",
    "fh = open(\"data.pkl\", \"bw\")\n",
    "pickle.dump(cities, fh)\n",
    "fh.close()</pre>\n",
    "\n",
    "The file data.pkl can be read in again by Python in the same or another session or by a different program:\n",
    "\n",
    "<pre>\n",
    "import pickle\n",
    "f = open(\"data.pkl\", \"rb\")\n",
    "villes = pickle.load(f)\n",
    "print(villes)\n",
    "['Paris', 'Dijon', 'Lyon', 'Strasbourg']\n",
    "</pre>\n",
    "\n",
    "Only the objects and not their names are saved. That's why we use the assignment to villes in the previous example, i.e. data = pickle.load(f).\n",
    "\n",
    "In our previous example, we had pickled only one object, i.e. a list of French cities. But what about pickling multiple objects? The solution is easy: We pack the objects into another object, so we will only have to pickle one object again. We will pack two lists \"programming_languages\" and \"python_dialects\" into a list pickle_objects in the following example:\n",
    "\n",
    "<pre>\n",
    "import pickle\n",
    "fh = open(\"data.pkl\",\"bw\")\n",
    "programming_languages = [\"Python\", \"Perl\", \"C++\", \"Java\", \"Lisp\"]\n",
    "python_dialects = [\"Jython\", \"IronPython\", \"CPython\"]\n",
    "pickle_object = (programming_languages, python_dialects)\n",
    "pickle.dump(pickle_object,fh)\n",
    "fh.close()\n",
    "</pre>\n",
    "\n",
    "The pickled data from the previous example, - i.e. the data which we have written to the file data.pkl, - can be separated into two lists again, when we reread the data:\n",
    "\n",
    "</pre>\n",
    "import pickle\n",
    "f = open(\"data.pkl\",\"rb\")\n",
    "languages, dialects) = pickle.load(f)\n",
    "print(languages, dialects)\n",
    "['Python', 'Perl', 'C++', 'Java', 'Lisp'] ['Jython', 'IronPython', 'CPython']\n",
    "</pre> \n",
    "\n",
    "\n",
    "\n",
    "### shelve Module\n",
    "One drawback of the pickle module is that it is only capable of pickling one object at the time, which has to be unpickled in one go. Let's imagine this data object is a dictionary. It may be desirable that we don't have to save and load every time the whole dictionary, but save and load just a single value corresponding to just one key. The shelve module is the solution to this request. A \"shelf\" - as used in the shelve module - is a persistent, dictionary-like object. The difference with dbm databases is that the values (not the keys!) in a shelf can be essentially arbitrary Python objects -- anything that the \"pickle\" module can handle. This includes most class instances, recursive data types, and objects containing lots of shared sub-objects. The keys have to be strings.\n",
    "\n",
    "The shelve module can be easily used. Actually, it is as easy as using a dictionary in Python. Before we can use a shelf object, we have to import the module. After this, we have to open a shelve object with the shelve method open. The open method opens a special shelf file for reading and writing:\n",
    "\n",
    "</pre>\n",
    "import shelve\n",
    "s = shelve.open(\"MyShelve\")</pre>\n",
    "\n",
    "\n",
    "If the file \"MyShelve\" already exists, the open method will try to open it. If it isn't a shelf file, - i.e. a file which has been created with the shelve module, - we will get an error message. If the file doesn't exist, it will be created.\n",
    "\n",
    "We can use s like an ordinary dictionary, if we use strings as keys:\n",
    "<pre>\n",
    "s[\"street\"] = \"Fleet Str\"\n",
    "s[\"city\"] = \"London\"\n",
    "for key in s:\n",
    "    print(key)</pre>\n"
   ]
  },
  {
   "cell_type": "markdown",
   "metadata": {},
   "source": [
    "A shelf object has to be closed with the close method:\n",
    "\n",
    "<pre> s.close()</pre>\n",
    "\n",
    "\n",
    "\n",
    "We can use the previously created shelf file in another program or in an interactive Python session:\n",
    "\n",
    "<pre>\n",
    "$ python3\n",
    "Python 3.2.3 (default, Feb 28 2014, 00:22:33) \n",
    "[GCC 4.7.2] on linux2\n",
    "Type \"help\", \"copyright\", \"credits\" or \"license\" for more information.\n",
    "import shelve\n",
    "s = shelve.open(\"MyShelve\")\n",
    "s[\"street\"]\n",
    "'Fleet Str'\n",
    "s[\"city\"]\n",
    "'London'\n",
    "</pre>\n",
    "\n",
    "\n",
    "\n",
    "It is also possible to cast a shelf object into an \"ordinary\" dictionary with the dict function:\n",
    "\n",
    "<pre>\n",
    "s\n",
    "≤shelve.DbfilenameShelf object at 0xb7133dcc>\n",
    ">>> dict(s)\n",
    "{'city': 'London', 'street': 'Fleet Str'}\n",
    "</pre>\n",
    "\n",
    "\n",
    "\n",
    "The following example uses more complex values for our shelf object:\n",
    "\n",
    "<pre>\n",
    "import shelve\n",
    "tele = shelve.open(\"MyPhoneBook\")\n",
    "tele[\"Mike\"] = {\"first\":\"Mike\", \"last\":\"Miller\", \"phone\":\"4689\"}\n",
    "tele[\"Steve\"] = {\"first\":\"Stephan\", \"last\":\"Burns\", \"phone\":\"8745\"}\n",
    "tele[\"Eve\"] = {\"first\":\"Eve\", \"last\":\"Naomi\", \"phone\":\"9069\"}\n",
    "tele[\"Eve\"][\"phone\"]\n",
    "'9069'\n",
    "</pre>\n",
    "\n",
    "\n",
    "The data is persistent!\n",
    "\n",
    "To demonstrate this once more, we reopen our MyPhoneBook:\n",
    "\n",
    "<pre>\n",
    "$ python3\n",
    "Python 3.2.3 (default, Feb 28 2014, 00:22:33) \n",
    "[GCC 4.7.2] on linux2\n",
    "Type \"help\", \"copyright\", \"credits\" or \"license\" for more information.\n",
    "    import shelve\n",
    "    tele = shelve.open(\"MyPhoneBook\")\n",
    "    tele[\"Steve\"][\"phone\"]\n",
    "'8745'\n",
    "\n",
    "</pre>"
   ]
  },
  {
   "cell_type": "markdown",
   "metadata": {},
   "source": [
    "### Exercises\n",
    "\n",
    "#### Exercise 1\n",
    "\n",
    "Write a function which reads in a text from file and returns a list of the paragraphs.\n",
    "You may use one of the following books:\n",
    "\n",
    "- <a href=\"books/to_the_lighthouse_woolf.txt\" rel=\"nofollow\">Virginia Woolf: To the Lighthouse</a>\n",
    "- <a href=\"books/the_way_of_all_flash_butler.txt\" rel=\"nofollow\">Samuel Butler: The Way of all Flash</a>\n",
    "- <a href=\"books/moby_dick_melville.txt\" rel=\"nofollow\">Herman Melville: Moby Dick</a>\n",
    "- <a href=\"books/sons_and_lovers_lawrence.txt\" rel=\"nofollow\">David Herbert Lawrence: Sons and Lovers</a>\n",
    "- <a href=\"books/robinson_crusoe_defoe.txt\" rel=\"nofollow\">Daniel Defoe: The Life and Adventures of Robinson Crusoe</a>\n",
    "- <a href=\"books/james_joyce_ulysses.txt\" rel=\"nofollow\">James Joyce: Ulysses</a>\n",
    "\n",
    "#### Exercise 2\n",
    "\n",
    "Save the following text containing city names and times as \"cities_and_times.txt\".\n",
    "<pre> \n",
    "Chicago\tSun 01:52\n",
    "Columbus Sun 02:52\n",
    "Riyadh\tSun 10:52\n",
    "Copenhagen\tSun 08:52\n",
    "Kuwait City\tSun 10:52\n",
    "Rome\tSun 08:52\n",
    "Dallas\tSun 01:52\n",
    "Salt Lake City\tSun 01:52\n",
    "San Francisco Sun 00:52\n",
    "Amsterdam Sun 08:52\n",
    "Denver Sun 01:52\n",
    "San Salvador Sun 01:52\n",
    "Detroit\tSun 02:52\n",
    "Las Vegas Sun 00:52\n",
    "Santiago\tSun 04:52\n",
    "Anchorage Sat 23:52\n",
    "Ankara Sun 10:52\n",
    "Lisbon\tSun 07:52\n",
    "São Paulo\tSun 05:52\n",
    "Dubai\tSun 11:52\n",
    "London\tSun 07:52\n",
    "Seattle\tSun 00:52\n",
    "Dublin\tSun 07:52\n",
    "Los Angeles Sun 00:52\n",
    "Athens\tSun 09:52\n",
    "Edmonton Sun 01:52\n",
    "Madrid\tSun 08:52\n",
    "Shanghai Sun 15:52\n",
    "Atlanta\tSun 02:52\n",
    "Frankfurt\tSun 08:52\n",
    "Singapore Sun 15:52\n",
    "Auckland Sun 20:52\n",
    "Halifax\tSun 03:52\n",
    "Melbourne Sun 18:52\n",
    "Stockholm\tSun 08:52\n",
    "Barcelona\tSun 08:52\n",
    "Miami\tSun 02:52\n",
    "Minneapolis\tSun 01:52\n",
    "Sydney Sun 18:52\n",
    "Beirut\tSun 09:52\n",
    "Helsinki\tSun 09:52\n",
    "Montreal\tSun 02:52\n",
    "Berlin\tSun 08:52\n",
    "Houston\tSun 01:52\n",
    "Moscow\tSun 10:52\n",
    "Indianapolis\tSun 02:52\t\n",
    "Boston\tSun 02:52\n",
    "Tokyo\tSun 16:52\n",
    "Brasilia Sun 05:52\n",
    "Istanbul Sun 10:52\n",
    "Toronto\tSun 02:52\n",
    "Vancouver\tSun 00:52\n",
    "Brussels\tSun 08:52\n",
    "Jerusalem\tSun 09:52\n",
    "New Orleans\tSun 01:52\n",
    "Vienna\tSun 08:52\n",
    "Bucharest\tSun 09:52\n",
    "Johannesburg\tSun 09:52\n",
    "New York\tSun 02:52\n",
    "Warsaw\tSun 08:52\n",
    "Budapest\tSun 08:52\n",
    "Oslo\tSun 08:52\n",
    "Washington DC\tSun 02:52\n",
    "Ottawa\tSun 02:52\n",
    "Winnipeg\tSun 01:52\n",
    "Cairo\tSun 09:52\n",
    "Paris\tSun 08:52\n",
    "Calgary\tSun 01:52\n",
    "Kathmandu\tSun 13:37\n",
    "Philadelphia\tSun 02:52\n",
    "Zurich\tSun 08:52\n",
    "Cape Town\tSun 09:52\n",
    "Phoenix\tSun 00:52\t\t\n",
    "Prague\tSun 08:52\t\t\n",
    "Casablanca\tSun 07:52\n",
    "Reykjavik\tSun 07:52\n",
    "</pre>\n",
    "\n",
    "Each line contains the name of the city, followed by the name of the day (\"Sun\") and the time in the form hh:mm. Read in the file and create an alphabetically ordered list of the form\n",
    "\n",
    "    [('Amsterdam', 'Sun', (8, 52)), ('Anchorage', 'Sat', (23, 52)), ('Ankara', 'Sun', (10, 52)), ('Athens', 'Sun', (9, 52)), ('Atlanta', 'Sun', (2, 52)), ('Auckland', 'Sun', (20, 52)), ('Barcelona', 'Sun', (8, 52)), ('Beirut', 'Sun', (9, 52)), \n",
    "\n",
    "    ...\n",
    "\n",
    "     ('Toronto', 'Sun', (2, 52)), ('Vancouver', 'Sun', (0, 52)), ('Vienna', 'Sun', (8, 52)), ('Warsaw', 'Sun', (8, 52)), ('Washington DC', 'Sun', (2, 52)), ('Winnipeg', 'Sun', (1, 52)), ('Zurich', 'Sun', (8, 52))]\n",
    "\n",
    "\n",
    "\n",
    "Finally, the list should be dumped for later usage with the pickle module. We will use this list in our chapter on [Numpy dtype](numpy_dtype.php).\n",
    "\n",
    "\n",
    "\n",
    "### Solutions\n",
    "\n",
    "#### Solution 1"
   ]
  },
  {
   "cell_type": "code",
   "execution_count": 23,
   "metadata": {},
   "outputs": [
    {
     "name": "stdout",
     "output_type": "stream",
     "text": [
      "“I should think there would be no one to talk to in Manchester,” she\n",
      "replied at random. Mr. Fortescue had been observing her for a moment or\n",
      "two, as novelists are inclined to observe, and at this remark he smiled,\n",
      "and made it the text for a little further speculation.\n",
      "“In spite of a slight tendency to exaggeration, Katharine decidedly\n",
      "hits the mark,” he said, and lying back in his chair, with his opaque\n",
      "contemplative eyes fixed on the ceiling, and the tips of his fingers\n",
      "pressed together, he depicted, first the horrors of the streets of\n",
      "Manchester, and then the bare, immense moors on the outskirts of the\n",
      "town, and then the scrubby little house in which the girl would live,\n",
      "and then the professors and the miserable young students devoted to the\n",
      "more strenuous works of our younger dramatists, who would visit her,\n",
      "and how her appearance would change by degrees, and how she would fly to\n",
      "London, and how Katharine would have to lead her about, as one leads an\n",
      "eager dog on a chain, past rows of clamorous butchers’ shops, poor dear\n",
      "creature.\n",
      "“Oh, Mr. Fortescue,” exclaimed Mrs. Hilbery, as he finished, “I had just\n",
      "written to say how I envied her! I was thinking of the big gardens and\n",
      "the dear old ladies in mittens, who read nothing but the “Spectator,”\n",
      " and snuff the candles. Have they ALL disappeared? I told her she would\n",
      "find the nice things of London without the horrid streets that depress\n",
      "one so.”\n",
      "“There is the University,” said the thin gentleman, who had previously\n",
      "insisted upon the existence of people knowing Persian.\n"
     ]
    }
   ],
   "source": [
    "def text2paragraphs(filename, min_size=1):\n",
    "    \"\"\" A text contained in the file 'filename' will be read \n",
    "    and chopped into paragraphs.\n",
    "    Paragraphs with a string length less than min_size will be ignored.\n",
    "    A list of paragraph strings will be returned\"\"\"\n",
    "    \n",
    "    txt = open(filename).read()\n",
    "    paragraphs = [para for para in txt.split(\"\\n\\n\") if len(para) > min_size]\n",
    "    return paragraphs\n",
    "\n",
    "paragraphs = text2paragraphs(\"books/to_the_lighthouse_woolf.txt\", min_size=100)\n",
    "\n",
    "for i in range(10, 14):\n",
    "    print(paragraphs[i])"
   ]
  },
  {
   "cell_type": "markdown",
   "metadata": {},
   "source": [
    "#### Solution 2"
   ]
  },
  {
   "cell_type": "markdown",
   "metadata": {},
   "source": [
    "<pre>\n",
    "import pickle\n",
    "\n",
    "lines = open(\"cities_and_times.txt\").readlines()\n",
    "lines.sort()\n",
    "\n",
    "cities = []\n",
    "for line  in lines:\n",
    "    *city, day, time = line.split()\n",
    "     hours, minutes = time.split(\":\")\n",
    "     cities.append((\" \".join(city), day, (int(hours), int(minutes)) ))\n",
    "\n",
    "fh = open(\"cities_and_times.pkl\", \"bw\")\n",
    "pickle.dump(cities, fh)    </pre>"
   ]
  },
  {
   "cell_type": "markdown",
   "metadata": {},
   "source": [
    "City names can consist of multiple words like \"Salt Lake City\". That is why we have to use the asterisk in the line, in which we split a line. So city will be a list with the words of the city, e.g. [\"Salt\", \"Lake\", \"City\"]. \" \".join(city) turns such a list into a \"proper\" string with the city name, i.e. in our example \"Salt Lake City\". "
   ]
  }
 ],
 "metadata": {
  "kernelspec": {
   "display_name": "Python 3",
   "language": "python",
   "name": "python3"
  },
  "language_info": {
   "codemirror_mode": {
    "name": "ipython",
    "version": 3
   },
   "file_extension": ".py",
   "mimetype": "text/x-python",
   "name": "python",
   "nbconvert_exporter": "python",
   "pygments_lexer": "ipython3",
   "version": "3.8.3"
  }
 },
 "nbformat": 4,
 "nbformat_minor": 4
}
