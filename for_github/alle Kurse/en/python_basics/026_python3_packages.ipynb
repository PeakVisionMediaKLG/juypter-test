{
 "cells": [
  {
   "cell_type": "markdown",
   "metadata": {},
   "source": [
    "## Packages in Python\n",
    "\n",
    "\n",
    "\n",
    "### Introduction\n",
    "\n",
    "<img height= 300 width=300 class=\"imgright\" src=\"../images/packages_script.webp\" srcset=\"../images/packages_script_350w.webp 350w,../images/packages_script_300w.webp 300w\" alt=\"Packages \" /> \n",
    "\n",
    "We learned that modules are files containing Python statements and definitions, like function and class definitions. We will learn in this chapter how to bundle multiple modules together to form a package.\n",
    "\n",
    "A package is basically a directory with Python files and a file with the name ```__init__```.py. This means that every directory inside of the Python path, which contains a file named ```__init__```.py, will be treated as a package by Python. It's possible to put several modules into a Package.\n",
    "\n",
    "Packages are a way of structuring Python’s module namespace by using \"dotted module names\". A.B stands for a submodule named B in a package named A. Two different packages like P1 and P2 can both have modules with the same name, let's say A, for example. The submodule A of the package P1 and the submodule A of the package P2 can be totally different.\n",
    "A package is imported like a \"normal\" module.\n",
    "We will start this chapter with a simple example.\n",
    "\n",
    "### A Simple Example\n",
    "\n",
    "<img height= 300 width=300 src=\"../images/packages.webp\" srcset=\"../images/packages_300w.webp 300w\" alt=\"Creating Packages in Python \" /> \n",
    "\n",
    "We will demonstrate with a very simple example how to create a package with some Python modules.\n",
    "First of all, we need a directory. The name of this directory will be the name of the package, which we want to create. We will call our package \"simple_package\". This directory needs to contain a file with the name ```__init__```.py. This file can be empty, or it can contain valid Python code. This code will be executed when a package is imported, so it can be used to initialize a package, e.g. to make sure that some other modules are imported or some values set. Now we can put all of the Python files which will be the submodules of our module into this directory.\n",
    "We create two simple files a.py and b.py just for the sake of filling the package with modules.\n",
    "\n",
    "The content of a.py:"
   ]
  },
  {
   "cell_type": "code",
   "execution_count": 1,
   "metadata": {},
   "outputs": [],
   "source": [
    "def bar():\n",
    "    print(\"Hello, function 'bar' from module 'a' calling\")"
   ]
  },
  {
   "cell_type": "markdown",
   "metadata": {},
   "source": [
    "The content of b.py:"
   ]
  },
  {
   "cell_type": "code",
   "execution_count": 2,
   "metadata": {},
   "outputs": [],
   "source": [
    "def foo():\n",
    "    print(\"Hello, function 'foo' from module 'b' calling\")"
   ]
  },
  {
   "cell_type": "markdown",
   "metadata": {},
   "source": [
    "We will also add an empty file with the name ```__init__```.py inside of simple_package directory.\n",
    "\n",
    "Let's see what happens, when we import simple_package from the interactive Python shell, assuming that the directory simple_package is either in the directory from which you call the shell or that it is contained in the search path or environment variable \"PYTHONPATH\" (from your operating system):\n"
   ]
  },
  {
   "cell_type": "code",
   "execution_count": 5,
   "metadata": {},
   "outputs": [],
   "source": [
    "import simple_package"
   ]
  },
  {
   "cell_type": "code",
   "execution_count": 3,
   "metadata": {},
   "outputs": [
    {
     "ename": "NameError",
     "evalue": "name 'a' is not defined",
     "output_type": "error",
     "traceback": [
      "\u001b[1;31m---------------------------------------------------------------------------\u001b[0m",
      "\u001b[1;31mNameError\u001b[0m                                 Traceback (most recent call last)",
      "\u001b[1;32m<ipython-input-3-347df8a711cc>\u001b[0m in \u001b[0;36m<module>\u001b[1;34m\u001b[0m\n\u001b[1;32m----> 1\u001b[1;33m \u001b[0msimple_package\u001b[0m\u001b[1;33m/\u001b[0m\u001b[0ma\u001b[0m\u001b[1;33m\u001b[0m\u001b[1;33m\u001b[0m\u001b[0m\n\u001b[0m",
      "\u001b[1;31mNameError\u001b[0m: name 'a' is not defined"
     ]
    }
   ],
   "source": [
    "simple_package/a"
   ]
  },
  {
   "cell_type": "code",
   "execution_count": 4,
   "metadata": {},
   "outputs": [
    {
     "ename": "NameError",
     "evalue": "name 'b' is not defined",
     "output_type": "error",
     "traceback": [
      "\u001b[1;31m---------------------------------------------------------------------------\u001b[0m",
      "\u001b[1;31mNameError\u001b[0m                                 Traceback (most recent call last)",
      "\u001b[1;32m<ipython-input-4-e71d2904d2bd>\u001b[0m in \u001b[0;36m<module>\u001b[1;34m\u001b[0m\n\u001b[1;32m----> 1\u001b[1;33m \u001b[0msimple_package\u001b[0m\u001b[1;33m/\u001b[0m\u001b[0mb\u001b[0m\u001b[1;33m\u001b[0m\u001b[1;33m\u001b[0m\u001b[0m\n\u001b[0m",
      "\u001b[1;31mNameError\u001b[0m: name 'b' is not defined"
     ]
    }
   ],
   "source": [
    "simple_package/b"
   ]
  },
  {
   "cell_type": "markdown",
   "metadata": {},
   "source": [
    "We can see that the package simple_package has been loaded but neither the module \"a\" nor the module \"b\"! We can import the modules a and b in the following way:"
   ]
  },
  {
   "cell_type": "code",
   "execution_count": 8,
   "metadata": {},
   "outputs": [
    {
     "name": "stdout",
     "output_type": "stream",
     "text": [
      "Hello, function 'bar' from module 'a' calling\n",
      "Hello, function 'foo' from module 'b' calling\n"
     ]
    }
   ],
   "source": [
    "from simple_package import a, b\n",
    "a.bar()\n",
    "b.foo()"
   ]
  },
  {
   "cell_type": "markdown",
   "metadata": {},
   "source": [
    "As we have seen at the beginning of the chapter, we can't access neither \"a\" nor \"b\" by solely importing simple_package.\n",
    "\n",
    "Yet, there is a way to automatically load these modules. We can use the file ```__init__```.py for this purpose. All we have to do is add the following lines to the so far empty file ```__init__```.py:\n",
    "<pre>\n",
    "import simple_package.a\n",
    "import simple_package.b\n",
    "</pre>\n",
    "It will work now:"
   ]
  },
  {
   "cell_type": "code",
   "execution_count": 9,
   "metadata": {},
   "outputs": [
    {
     "name": "stdout",
     "output_type": "stream",
     "text": [
      "Hello, function 'bar' from module 'a' calling\n",
      "Hello, function 'foo' from module 'b' calling\n"
     ]
    }
   ],
   "source": [
    "import simple_package\n",
    "simple_package.a.bar()\n",
    "simple_package.b.foo()"
   ]
  },
  {
   "cell_type": "markdown",
   "metadata": {},
   "source": [
    "### A More Complex Package\n",
    "We will demonstrate in the following example how we can create a more complex package. We will use the hypothetical sound-Modul which is used in the official tutorial. (see https://docs.python.org/3/tutorial/modules.html)"
   ]
  },
  {
   "cell_type": "markdown",
   "metadata": {},
   "source": [
    "<pre>\n",
    "sound\n",
    "|-- effects\n",
    "|   |-- echo.py\n",
    "|   |-- __init__.py\n",
    "|   |-- reverse.py\n",
    "|   `-- surround.py\n",
    "|-- filters\n",
    "|   |-- equalizer.py\n",
    "|   |-- __init__.py\n",
    "|   |-- karaoke.py\n",
    "|   `-- vocoder.py\n",
    "|-- formats\n",
    "|   |-- aiffread.py\n",
    "|   |-- aiffwrite.py\n",
    "|   |-- auread.py\n",
    "|   |-- auwrite.py\n",
    "|   |-- __init__.py\n",
    "|   |-- wavread.py\n",
    "|   `-- wavwrite.py\n",
    "`-- __init__.py </pre>"
   ]
  },
  {
   "cell_type": "markdown",
   "metadata": {},
   "source": [
    "We will implement a dummy - just empty files with the right names - implementation of this structure. We will provide various variations of the implementations. To differentiate between the implementations we will call the modules soound1, sound2, sound3, and sound4. Basically, they should all be called ```sound```.\n",
    "You can download the examples as bzip-files: \n",
    "\n",
    "- [sounds1.tar.bz2](./sound1.tar.bz2)\n",
    "- [sounds2.tar.bz2](./sound2.tar.bz2)\n",
    "- [sounds3.tar.bz2](./sound3.tar.bz2)\n",
    "- [sounds4.tar.bz2](./sound4.tar.bz2)\n",
    "- [sounds5.tar.bz2](./sound5.tar.bz2)\n",
    "- [sounds6.tar.bz2](./sound6.tar.bz2)\n",
    "- [sounds7.tar.bz2](./sound7.tar.bz2)\n",
    "\n",
    "\n",
    "We will start with the package ```sound1```. (You can unpack it with ```tar xvjf sound1.tar.bz2```)\n",
    "\n",
    "If we import the package ```sound1``` by using the statement ```import sound1```, the package ```sound1``` but not the subpackages ```effects```, ```filters``` and ```formats``` will be imported, as we will see in the following example. The reason for this consists in the fact that the file ```__init__.py``` doesn't contain any code for importing subpackages:"
   ]
  },
  {
   "cell_type": "code",
   "execution_count": 2,
   "metadata": {},
   "outputs": [
    {
     "name": "stdout",
     "output_type": "stream",
     "text": [
      "<module 'sound1' from '/data/Dropbox (Bodenseo)/Bodenseo Team Folder/melisa/notebooks_en/sound1/__init__.py'>\n"
     ]
    },
    {
     "ename": "AttributeError",
     "evalue": "module 'sound1' has no attribute 'effects'",
     "output_type": "error",
     "traceback": [
      "\u001b[0;31m---------------------------------------------------------------------------\u001b[0m",
      "\u001b[0;31mAttributeError\u001b[0m                            Traceback (most recent call last)",
      "\u001b[0;32m<ipython-input-2-0b6d7fed3b24>\u001b[0m in \u001b[0;36m<module>\u001b[0;34m\u001b[0m\n\u001b[1;32m      3\u001b[0m \u001b[0mprint\u001b[0m\u001b[0;34m(\u001b[0m\u001b[0msound1\u001b[0m\u001b[0;34m)\u001b[0m\u001b[0;34m\u001b[0m\u001b[0;34m\u001b[0m\u001b[0m\n\u001b[1;32m      4\u001b[0m \u001b[0;34m\u001b[0m\u001b[0m\n\u001b[0;32m----> 5\u001b[0;31m \u001b[0mprint\u001b[0m\u001b[0;34m(\u001b[0m\u001b[0msound1\u001b[0m\u001b[0;34m.\u001b[0m\u001b[0meffects\u001b[0m\u001b[0;34m)\u001b[0m\u001b[0;34m\u001b[0m\u001b[0;34m\u001b[0m\u001b[0m\n\u001b[0m",
      "\u001b[0;31mAttributeError\u001b[0m: module 'sound1' has no attribute 'effects'"
     ]
    }
   ],
   "source": [
    "\n",
    "import sound1\n",
    "\n",
    "print(sound1)\n",
    "\n",
    "print(sound1.effects)\n"
   ]
  },
  {
   "cell_type": "markdown",
   "metadata": {},
   "source": [
    "If you also want to use the package effects, you have to import it explicitly with import sound.effects:"
   ]
  },
  {
   "cell_type": "code",
   "execution_count": 4,
   "metadata": {},
   "outputs": [
    {
     "name": "stdout",
     "output_type": "stream",
     "text": [
      "<module 'sound1.effects' from '/data/Dropbox (Bodenseo)/Bodenseo Team Folder/melisa/notebooks_en/sound1/effects/__init__.py'>\n"
     ]
    }
   ],
   "source": [
    "\n",
    "import sound1.effects\n",
    "print(sound1.effects)\n"
   ]
  },
  {
   "cell_type": "markdown",
   "metadata": {},
   "source": [
    "It is possible to have the submodule importing done automatically when importing the ```sound1``` module. \n",
    "We will change now to ```sound2``` to demonstrate how to do this. We use the same files as in ```sound1```, but we will add the code line ```import sound2.effects``` into the file ```__init__.py``` of the directory ```sound2```.\n",
    "The file should look like this now:"
   ]
  },
  {
   "cell_type": "markdown",
   "metadata": {},
   "source": [
    "<pre>\n",
    "\"\"\"An empty sound package\n",
    "\n",
    "This is the sound package, providing hardly anything!\"\"\"\n",
    "\n",
    "\n",
    "import sound2.effects\n",
    "print(\"sound2.effects package is getting imported!\")\n",
    ")</pre>"
   ]
  },
  {
   "cell_type": "markdown",
   "metadata": {},
   "source": [
    "If we import the package ```sound2``` from the interactive Python shell, we will see that the subpackage ```effects``` will also be automatically loaded:"
   ]
  },
  {
   "cell_type": "code",
   "execution_count": 1,
   "metadata": {},
   "outputs": [
    {
     "name": "stdout",
     "output_type": "stream",
     "text": [
      "sound2 package is getting imported!\n"
     ]
    }
   ],
   "source": [
    "\n",
    "import sound2\n",
    "\n"
   ]
  },
  {
   "cell_type": "markdown",
   "metadata": {},
   "source": [
    "Instead of using an absolute path we could have imported the effects-package relative to the sound package. "
   ]
  },
  {
   "cell_type": "markdown",
   "metadata": {},
   "source": [
    "<pre>\n",
    "\"\"\"An empty sound package\n",
    "\n",
    "This is the sound package, providing hardly anything!\"\"\"\n",
    "\n",
    "from . import effects\n",
    "print(\"sound package is getting imported!\")\n",
    "</pre>"
   ]
  },
  {
   "cell_type": "markdown",
   "metadata": {},
   "source": [
    "We will demonstrate this in the module ```sound3```:"
   ]
  },
  {
   "cell_type": "code",
   "execution_count": 1,
   "metadata": {},
   "outputs": [
    {
     "name": "stdout",
     "output_type": "stream",
     "text": [
      "effects package is getting imported!\n"
     ]
    }
   ],
   "source": [
    "import sound3"
   ]
  },
  {
   "cell_type": "markdown",
   "metadata": {},
   "source": [
    "It is also possible to automatically import the package formats, when we are importing the effects package. We can also do this with a relative path, which we will include into the ```__init__.py``` file of the directory ```effects```:"
   ]
  },
  {
   "cell_type": "markdown",
   "metadata": {},
   "source": [
    "<pre> from .. import formats </pre>"
   ]
  },
  {
   "cell_type": "markdown",
   "metadata": {},
   "source": [
    "Importing ```sound4``` will also automatically import the modules ```formats``` and ```effects```:"
   ]
  },
  {
   "cell_type": "markdown",
   "metadata": {},
   "source": [
    "\n",
    "import sound4\n"
   ]
  },
  {
   "cell_type": "markdown",
   "metadata": {},
   "source": [
    "To end this subchapter we want to show how to import the module karaoke from the package filters when we import the effects package. For this purpose we add the line\n",
    "from ..filters import karaoke\n",
    "into the ```__init__.py``` file of the directory effects. The complete file looks now like this:"
   ]
  },
  {
   "cell_type": "markdown",
   "metadata": {},
   "source": [
    "<pre>\n",
    "\"\"\"An empty effects package\n",
    "\n",
    "This is the effects package, providing hardly anything!\"\"\"\n",
    "\n",
    "from .. import formats\n",
    "from ..filters import karaoke\n",
    "print(\"effects package is getting imported!\")</pre>"
   ]
  },
  {
   "cell_type": "markdown",
   "metadata": {},
   "source": [
    "Importing sound results in the following output:"
   ]
  },
  {
   "cell_type": "code",
   "execution_count": 2,
   "metadata": {},
   "outputs": [
    {
     "name": "stdout",
     "output_type": "stream",
     "text": [
      "formats package is getting imported!\n",
      "importing from the effects package:\n",
      "formats module is getting imported!\n",
      "filters package is getting imported!\n",
      "Module karaoke.py has been loaded!\n",
      "karaoke module is getting imported!\n",
      "effects package is getting imported!\n"
     ]
    }
   ],
   "source": [
    "\n",
    "import sound5\n"
   ]
  },
  {
   "cell_type": "markdown",
   "metadata": {},
   "source": [
    "We can access and use the functions of karaoke now:"
   ]
  },
  {
   "cell_type": "code",
   "execution_count": 3,
   "metadata": {},
   "outputs": [
    {
     "name": "stdout",
     "output_type": "stream",
     "text": [
      "Funktion func1 has been called!\n"
     ]
    }
   ],
   "source": [
    "\n",
    "sound5.filters.karaoke.func1()\n",
    "\n"
   ]
  },
  {
   "cell_type": "markdown",
   "metadata": {},
   "source": [
    "### Importing a Complete Package\n",
    "For the next subchapter we will use again the initial example from the previous subchapter of our tutorial. We will add a module (file) foobar (filename: ```foobar.py```) to the sound directory. The complete package can again be downloaded as a bzip-file. We want to demonstrate now, what happens, if we import the sound package with the star, i.e. ```from sound import *```. Somebody might expect to import this way all the submodules and subpackages of the package. Let's see what happens:"
   ]
  },
  {
   "cell_type": "code",
   "execution_count": 4,
   "metadata": {},
   "outputs": [
    {
     "name": "stdout",
     "output_type": "stream",
     "text": [
      "sound package is getting imported!\n"
     ]
    }
   ],
   "source": [
    "\n",
    "from sound6 import *\n"
   ]
  },
  {
   "cell_type": "markdown",
   "metadata": {},
   "source": [
    "So we get the comforting message that the sound package has been imported. Yet, if we check with the dir function, we see that neither the module foobar nor the subpackages effects, filters and formats have been imported:"
   ]
  },
  {
   "cell_type": "code",
   "execution_count": 9,
   "metadata": {},
   "outputs": [
    {
     "name": "stdout",
     "output_type": "stream",
     "text": [
      "foobar False\n",
      "effects False\n",
      "filters False\n",
      "formats False\n"
     ]
    }
   ],
   "source": [
    "for mod in ['foobar', 'effects', 'filters', 'formats']:\n",
    "    print(mod, mod in dir())"
   ]
  },
  {
   "cell_type": "markdown",
   "metadata": {},
   "source": [
    "Python provides a mechanism to give an explicit index of the subpackages and modules of a packages, which should be imported. For this purpose, we can define a list named ```__all__```. This list will be taken as the list of module and package names to be imported when from package import * is encountered.\n"
   ]
  },
  {
   "cell_type": "markdown",
   "metadata": {},
   "source": [
    "We will add now the line\n",
    "\n",
    "<pre> __all__ = [\"formats\", \"filters\", \"effects\", \"foobar\"] </pre>\n",
    "\n",
    "to the ```__init__```.py file of the sound directory. We get a completely different result now:\n"
   ]
  },
  {
   "cell_type": "code",
   "execution_count": 1,
   "metadata": {},
   "outputs": [
    {
     "name": "stdout",
     "output_type": "stream",
     "text": [
      "sound package is getting imported!\n",
      "formats package is getting imported!\n",
      "filters package is getting imported!\n",
      "effects package is getting imported!\n",
      "foobar module is getting imported\n"
     ]
    }
   ],
   "source": [
    "\n",
    "from sound7 import *\n"
   ]
  },
  {
   "cell_type": "markdown",
   "metadata": {},
   "source": [
    "Even though it is already apparent that all the modules have been imported, we can check with dir again:"
   ]
  },
  {
   "cell_type": "code",
   "execution_count": 2,
   "metadata": {},
   "outputs": [
    {
     "name": "stdout",
     "output_type": "stream",
     "text": [
      "foobar True\n",
      "effects True\n",
      "filters True\n",
      "formats True\n"
     ]
    }
   ],
   "source": [
    "for mod in ['foobar', 'effects', 'filters', 'formats']:\n",
    "    print(mod, mod in dir())"
   ]
  },
  {
   "cell_type": "markdown",
   "metadata": {},
   "source": [
    "The next question is what will be imported, if we use * in a subpackage:"
   ]
  },
  {
   "cell_type": "markdown",
   "metadata": {},
   "source": [
    "<pre>\n",
    "from sound.effects import *\n",
    "sound package is getting imported!\n",
    "effects package is getting imported!\n",
    "dir()\n",
    "['__builtins__', '__doc__', '__loader__', '__name__', '__package__', '__spec__']\n",
    "</pre>"
   ]
  },
  {
   "cell_type": "markdown",
   "metadata": {},
   "source": [
    "Like expected the modules inside of effects have not been imported automatically. So we can add the following ```__all__``` list into the ```__init__``` file of the package effects:"
   ]
  },
  {
   "cell_type": "markdown",
   "metadata": {},
   "source": [
    "We have to add to the ```__init__.py``` files of the directories ```filters```, ```formats``` and ```effects``` corrrespondingly the following lines of code:\n",
    "\n",
    "```__all__ = [\"equalizer\", \"__init__\", \"karaoke\", \"vocoder\"]```\n",
    "\n",
    "```__all__ = [\"aiffread\", \"aiffwrite\", \"auread\", \"auwrite\", \"wavread\",  \"wavwrite\"]```\n",
    "\n",
    "```__all__ = [\"echo\", \"surround\", \"reverse\"]```\n",
    "\n",
    "\n"
   ]
  },
  {
   "cell_type": "markdown",
   "metadata": {},
   "source": [
    "Now we get the intended result:"
   ]
  },
  {
   "cell_type": "code",
   "execution_count": 1,
   "metadata": {},
   "outputs": [
    {
     "name": "stdout",
     "output_type": "stream",
     "text": [
      "sound package is getting imported!\n",
      "formats package is getting imported!\n",
      "filters package is getting imported!\n",
      "effects package is getting imported!\n",
      "foobar module is getting imported\n"
     ]
    }
   ],
   "source": [
    "\n",
    "from sound8 import *\n"
   ]
  },
  {
   "cell_type": "code",
   "execution_count": 2,
   "metadata": {},
   "outputs": [
    {
     "name": "stdout",
     "output_type": "stream",
     "text": [
      "Module echo.py has been loaded!\n",
      "Module surround.py has been loaded!\n",
      "Module reverse.py has been loaded!\n"
     ]
    }
   ],
   "source": [
    "from sound8.effects import *"
   ]
  },
  {
   "cell_type": "code",
   "execution_count": 3,
   "metadata": {},
   "outputs": [
    {
     "name": "stdout",
     "output_type": "stream",
     "text": [
      "Module equalizer.py has been loaded!\n",
      "Module karaoke.py has been loaded!\n",
      "Module vocoder.py has been loaded!\n"
     ]
    }
   ],
   "source": [
    "from sound8.filters import *"
   ]
  },
  {
   "cell_type": "code",
   "execution_count": 4,
   "metadata": {},
   "outputs": [
    {
     "name": "stdout",
     "output_type": "stream",
     "text": [
      "Module aiffread.py has been loaded!\n",
      "Module aiffwrite.py has been loaded!\n",
      "Module auread.py has been loaded!\n",
      "Module auwrite.py has been loaded!\n",
      "Module wavread.py has been loaded!\n",
      "Module wavwrite.py has been loaded!\n"
     ]
    }
   ],
   "source": [
    "from sound8.formats import *"
   ]
  },
  {
   "cell_type": "markdown",
   "metadata": {},
   "source": [
    "Although certain modules are designed to export only names that follow certain patterns when you use import *, it is still considered bad practice. The recommended way is to import specific modules from a package instead of using *. "
   ]
  }
 ],
 "metadata": {
  "kernelspec": {
   "display_name": "Python 3",
   "language": "python",
   "name": "python3"
  },
  "language_info": {
   "codemirror_mode": {
    "name": "ipython",
    "version": 3
   },
   "file_extension": ".py",
   "mimetype": "text/x-python",
   "name": "python",
   "nbconvert_exporter": "python",
   "pygments_lexer": "ipython3",
   "version": "3.7.6"
  }
 },
 "nbformat": 4,
 "nbformat_minor": 4
}
