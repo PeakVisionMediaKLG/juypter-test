{
 "cells": [
  {
   "cell_type": "markdown",
   "metadata": {},
   "source": [
    "## Errors and Exceptions\n",
    "\n",
    "\n",
    "### Exception Handling\n",
    "\n",
    "<img class=\"imgright\" src=\"../images/python_logo_band_aid.webp\" alt=\"Python logo with band aid\" />  \n",
    "\n",
    "An exception is an error that happens during the execution of a program. Exceptions are known to non-programmers as instances that do not conform to a general rule. The name \"exception\" in computer science has this meaning as well: It implies that the problem (the exception) doesn't occur frequently, i.e. the exception is the \"exception to the rule\". Exception handling is a construct in some programming languages to handle or deal with errors automatically. Many programming languages like C++, Objective-C, PHP, Java, Ruby, Python, and many others have built-in support for exception handling.\n",
    "\n",
    "Error handling is generally resolved by saving the state of execution at the moment the error occurred and interrupting the normal flow of the program to execute a special function or piece of code, which is known as the exception handler. Depending on the kind of error (\"division by zero\", \"file open error\" and so on) which had occurred, the error handler can \"fix\" the problem and the programm can be continued afterwards with the previously saved data.\n",
    "\n",
    "### Exception Handling in Python\n",
    "\n",
    "Exception handling in Python is very similar to Java. The code, which harbours the risk of an exception, is embedded in a try block. While in Java exceptions are caught by catch clauses, in Python we have statements introduced by an \"except\" keyword. It's possible to create \"custom-made\" exceptions: With the raise statement it's possible to force a specified exception to occur.\n",
    "\n",
    "Let's look at a simple example. Assuming we want to ask the user to enter an integer number. If we use a input(), the input will be a string, which we have to cast into an integer. If the input isn't a valid integer, we will generate (raise) a ValueError. We show this in the following interactive session:"
   ]
  },
  {
   "cell_type": "code",
   "execution_count": null,
   "metadata": {},
   "outputs": [],
   "source": [
    "n = int(input(\"Please enter a number: \"))"
   ]
  },
  {
   "cell_type": "markdown",
   "metadata": {},
   "source": [
    "With the aid of exception handling, we can write robust code for reading an integer from input:"
   ]
  },
  {
   "cell_type": "code",
   "execution_count": null,
   "metadata": {},
   "outputs": [],
   "source": [
    "while True:\n",
    "    try:\n",
    "        n = input(\"Please enter an integer: \")\n",
    "        n = int(n)\n",
    "        break\n",
    "    except ValueError:\n",
    "        print(\"No valid integer! Please try again ...\")\n",
    "print(\"Great, you successfully entered an integer!\")"
   ]
  },
  {
   "cell_type": "markdown",
   "metadata": {},
   "source": [
    "It's a loop, which breaks only if a valid integer has been given.\n",
    "The while loop is entered. The code within the try clause will be executed statement by statement. If no exception occurs during the execution, the execution will reach the break statement and the while loop will be left. If an exception occurs, i.e. in the casting of n, the rest of the try block will be skipped and the except clause will be executed. The raised error, in our case a ValueError, has to match one of the names after except. In our example only one, i.e. \"ValueError:\". After having printed the text of the print statement, the execution does another loop. It starts with a new input().\n",
    "\n",
    "We could turn the code above into a function, which can be used to have a foolproof input."
   ]
  },
  {
   "cell_type": "code",
   "execution_count": 2,
   "metadata": {},
   "outputs": [],
   "source": [
    "def int_input(prompt):\n",
    "    while True:\n",
    "        try:\n",
    "            age = int(input(prompt))\n",
    "            return age\n",
    "        except ValueError as e:\n",
    "            print(\"Not a proper integer! Try it again\")"
   ]
  },
  {
   "cell_type": "markdown",
   "metadata": {},
   "source": [
    "We use this with our dog age example from the chapter [Conditional Statements](python3_conditional_statements.php)."
   ]
  },
  {
   "cell_type": "code",
   "execution_count": 3,
   "metadata": {},
   "outputs": [],
   "source": [
    "def dog2human_age(dog_age):\n",
    "    human_age = -1\n",
    "    if dog_age < 0:\n",
    "        human_age = -1\n",
    "    elif dog_age == 0:\n",
    "        human_age = 0\n",
    "    elif dog_age == 1:\n",
    "        human_age = 14\n",
    "    elif dog_age == 2:\n",
    "        human_age = 22\n",
    "    else:\n",
    "        human_age = 22 + (dog_age -2) * 5\n",
    "    return human_age"
   ]
  },
  {
   "cell_type": "code",
   "execution_count": 4,
   "metadata": {},
   "outputs": [
    {
     "name": "stdin",
     "output_type": "stream",
     "text": [
      "Age of your dog?  four\n"
     ]
    },
    {
     "name": "stdout",
     "output_type": "stream",
     "text": [
      "Not a proper integer! Try it again\n"
     ]
    },
    {
     "name": "stdin",
     "output_type": "stream",
     "text": [
      "Age of your dog?  5.6\n"
     ]
    },
    {
     "name": "stdout",
     "output_type": "stream",
     "text": [
      "Not a proper integer! Try it again\n"
     ]
    },
    {
     "name": "stdin",
     "output_type": "stream",
     "text": [
      "Age of your dog?  5\n"
     ]
    },
    {
     "name": "stdout",
     "output_type": "stream",
     "text": [
      "Age of the dog:  37\n"
     ]
    }
   ],
   "source": [
    "age = int_input(\"Age of your dog? \")\n",
    "print(\"Age of the dog: \", dog2human_age(age))"
   ]
  },
  {
   "cell_type": "markdown",
   "metadata": {},
   "source": [
    "### Multiple Except Clauses\n",
    "\n",
    "A try statement may have more than one except clause for different exceptions. But at most one except clause will be executed.\n",
    "\n",
    "Our next example shows a try clause, in which we open a file for reading, read a line from this file and convert this line into an integer. There are at least two possible exceptions:\n",
    "\n",
    "    an IOError\n",
    "    ValueError\n",
    "\n",
    "Just in case we have an additional unnamed except clause for an unexpected error:"
   ]
  },
  {
   "cell_type": "code",
   "execution_count": 13,
   "metadata": {},
   "outputs": [
    {
     "name": "stdout",
     "output_type": "stream",
     "text": [
      "I/O error(2): No such file or directory\n"
     ]
    }
   ],
   "source": [
    "import sys\n",
    "\n",
    "try:\n",
    "    f = open('integers.txt')\n",
    "    s = f.readline()\n",
    "    i = int(s.strip())\n",
    "except IOError as e:\n",
    "    errno, strerror = e.args\n",
    "    print(\"I/O error({0}): {1}\".format(errno,strerror))\n",
    "    # e can be printed directly without using .args:\n",
    "    # print(e)\n",
    "except ValueError:\n",
    "    print(\"No valid integer in line.\")\n",
    "except:\n",
    "    print(\"Unexpected error:\", sys.exc_info()[0])\n",
    "    raise"
   ]
  },
  {
   "cell_type": "markdown",
   "metadata": {},
   "source": [
    "The handling of the IOError in the previous example is of special interest. The except clause for the IOError specifies a variable \"e\" after the exception name (IOError). The variable \"e\" is bound to an exception instance with the arguments stored in instance.args.\n",
    "If we call the above script with a non-existing file, we get the message:\n",
    "\n",
    "I/O error(2): No such file or directory\n",
    "\n",
    "And if the file integers.txt is not readable, e.g. if we don't have the permission to read it, we get the following message:\n",
    "\n",
    "I/O error(13): Permission denied\n",
    "\n",
    "An except clause may name more than one exception in a tuple of error names, as we see in the following example:"
   ]
  },
  {
   "cell_type": "code",
   "execution_count": 6,
   "metadata": {},
   "outputs": [
    {
     "name": "stdout",
     "output_type": "stream",
     "text": [
      "An I/O error or a ValueError occurred\n"
     ]
    }
   ],
   "source": [
    "try:\n",
    "    f = open('integers.txt')\n",
    "    s = f.readline()\n",
    "    i = int(s.strip())\n",
    "except (IOError, ValueError):\n",
    "    print(\"An I/O error or a ValueError occurred\")\n",
    "except:\n",
    "    print(\"An unexpected error occurred\")\n",
    "    raise"
   ]
  },
  {
   "cell_type": "markdown",
   "metadata": {},
   "source": [
    "We want to demonstrate now, what happens, if we call a function within a try block and if an exception occurs inside the function call:"
   ]
  },
  {
   "cell_type": "code",
   "execution_count": 5,
   "metadata": {},
   "outputs": [
    {
     "name": "stdout",
     "output_type": "stream",
     "text": [
      "got it :-)  invalid literal for int() with base 10: 'four'\n",
      "Let's get on\n"
     ]
    }
   ],
   "source": [
    "def f():\n",
    "    x = int(\"four\")\n",
    "\n",
    "try:\n",
    "    f()\n",
    "except ValueError as e:\n",
    "    print(\"got it :-) \", e)\n",
    "\n",
    "\n",
    "print(\"Let's get on\")"
   ]
  },
  {
   "cell_type": "markdown",
   "metadata": {},
   "source": [
    "the function catches the exception.\n",
    "\n",
    "We will extend our example now so that the function will catch the exception directly:"
   ]
  },
  {
   "cell_type": "code",
   "execution_count": 14,
   "metadata": {},
   "outputs": [
    {
     "name": "stdout",
     "output_type": "stream",
     "text": [
      "got it in the function :-)  invalid literal for int() with base 10: 'four'\n",
      "Let's get on\n"
     ]
    }
   ],
   "source": [
    "def f():\n",
    "    try:\n",
    "        x = int(\"four\")\n",
    "    except ValueError as e:\n",
    "        print(\"got it in the function :-) \", e)\n",
    "\n",
    "try:\n",
    "    f()\n",
    "except ValueError as e:\n",
    "    print(\"got it :-) \", e)\n",
    "\n",
    "\n",
    "print(\"Let's get on\")"
   ]
  },
  {
   "cell_type": "markdown",
   "metadata": {},
   "source": [
    "As we have expected, the exception is caught inside the function and not in the callers exception:\n",
    "\n",
    "We add now a \"raise\", which generates the ValueError again, so that the exception will be propagated to the caller:"
   ]
  },
  {
   "cell_type": "code",
   "execution_count": 4,
   "metadata": {},
   "outputs": [
    {
     "name": "stdout",
     "output_type": "stream",
     "text": [
      "got it in the function :-)  invalid literal for int() with base 10: 'four'\n",
      "got it :-)  invalid literal for int() with base 10: 'four'\n",
      "Let's get on\n"
     ]
    }
   ],
   "source": [
    "def f():\n",
    "    try:\n",
    "        x = int(\"four\")\n",
    "    except ValueError as e:\n",
    "        print(\"got it in the function :-) \", e)\n",
    "        raise\n",
    "\n",
    "try:\n",
    "    f()\n",
    "except ValueError as e:\n",
    "    print(\"got it :-) \", e)\n",
    "\n",
    "print(\"Let's get on\")"
   ]
  },
  {
   "cell_type": "markdown",
   "metadata": {},
   "source": [
    "### Custom-made Exceptions\n",
    "It's possible to create Exceptions yourself:"
   ]
  },
  {
   "cell_type": "code",
   "execution_count": 15,
   "metadata": {},
   "outputs": [
    {
     "ename": "SyntaxError",
     "evalue": "Sorry, my fault! (<string>)",
     "output_type": "error",
     "traceback": [
      "Traceback \u001b[1;36m(most recent call last)\u001b[0m:\n",
      "  File \u001b[0;32m\"C:\\Users\\melis\\Anaconda3\\lib\\site-packages\\IPython\\core\\interactiveshell.py\"\u001b[0m, line \u001b[0;32m3326\u001b[0m, in \u001b[0;35mrun_code\u001b[0m\n    exec(code_obj, self.user_global_ns, self.user_ns)\n",
      "\u001b[1;36m  File \u001b[1;32m\"<ipython-input-15-a5649918d59e>\"\u001b[1;36m, line \u001b[1;32m1\u001b[1;36m, in \u001b[1;35m<module>\u001b[1;36m\u001b[0m\n\u001b[1;33m    raise SyntaxError(\"Sorry, my fault!\")\u001b[0m\n",
      "\u001b[1;36m  File \u001b[1;32m\"<string>\"\u001b[1;36m, line \u001b[1;32munknown\u001b[0m\n\u001b[1;31mSyntaxError\u001b[0m\u001b[1;31m:\u001b[0m Sorry, my fault!\n"
     ]
    }
   ],
   "source": [
    "raise SyntaxError(\"Sorry, my fault!\")"
   ]
  },
  {
   "cell_type": "markdown",
   "metadata": {},
   "source": [
    "The best or the Pythonic way to do this, consists in defining an exception class which inherits from the Exception class. You will have to go through the chapter on [Object Oriented Programming](https://www.python-course.eu/python3_object_oriented_programming.php) to fully understand the following example:"
   ]
  },
  {
   "cell_type": "code",
   "execution_count": 3,
   "metadata": {},
   "outputs": [
    {
     "ename": "MyException",
     "evalue": "An exception doesn't always prove the rule!",
     "output_type": "error",
     "traceback": [
      "\u001b[1;31m---------------------------------------------------------------------------\u001b[0m",
      "\u001b[1;31mMyException\u001b[0m                               Traceback (most recent call last)",
      "\u001b[1;32m<ipython-input-3-d75bff75fe3a>\u001b[0m in \u001b[0;36m<module>\u001b[1;34m\u001b[0m\n\u001b[0;32m      2\u001b[0m     \u001b[1;32mpass\u001b[0m\u001b[1;33m\u001b[0m\u001b[1;33m\u001b[0m\u001b[0m\n\u001b[0;32m      3\u001b[0m \u001b[1;33m\u001b[0m\u001b[0m\n\u001b[1;32m----> 4\u001b[1;33m \u001b[1;32mraise\u001b[0m \u001b[0mMyException\u001b[0m\u001b[1;33m(\u001b[0m\u001b[1;34m\"An exception doesn't always prove the rule!\"\u001b[0m\u001b[1;33m)\u001b[0m\u001b[1;33m\u001b[0m\u001b[1;33m\u001b[0m\u001b[0m\n\u001b[0m",
      "\u001b[1;31mMyException\u001b[0m: An exception doesn't always prove the rule!"
     ]
    }
   ],
   "source": [
    "class MyException(Exception):\n",
    "    pass\n",
    "\n",
    "raise MyException(\"An exception doesn't always prove the rule!\")"
   ]
  },
  {
   "cell_type": "markdown",
   "metadata": {},
   "source": [
    "### Clean-up Actions (try ... finally)\n",
    "So far the try statement had always been paired with except clauses. But there is another way to use it as well. The try statement can be followed by a **finally** clause. Finally clauses are called clean-up or termination clauses, because they must be executed under all circumstances, i.e. a \"finally\" clause is always executed regardless if an exception occurred in a try block or not.\n",
    "A simple example to demonstrate the finally clause:"
   ]
  },
  {
   "cell_type": "code",
   "execution_count": 2,
   "metadata": {},
   "outputs": [
    {
     "name": "stdout",
     "output_type": "stream",
     "text": [
      "Your number: 34\n",
      "There may or may not have been an exception.\n",
      "The inverse:  0.029411764705882353\n"
     ]
    }
   ],
   "source": [
    "try:\n",
    "    x = float(input(\"Your number: \"))\n",
    "    inverse = 1.0 / x\n",
    "finally:\n",
    "    print(\"There may or may not have been an exception.\")\n",
    "print(\"The inverse: \", inverse)"
   ]
  },
  {
   "cell_type": "markdown",
   "metadata": {},
   "source": [
    "### Combining try, except and finally\n",
    "\"finally\" and \"except\" can be used together for the same try block, as it can be seen in the following Python example:"
   ]
  },
  {
   "cell_type": "code",
   "execution_count": 1,
   "metadata": {},
   "outputs": [
    {
     "name": "stdout",
     "output_type": "stream",
     "text": [
      "Your number: 23\n",
      "There may or may not have been an exception.\n"
     ]
    }
   ],
   "source": [
    "try:\n",
    "    x = float(input(\"Your number: \"))\n",
    "    inverse = 1.0 / x\n",
    "except ValueError:\n",
    "    print(\"You should have given either an int or a float\")\n",
    "except ZeroDivisionError:\n",
    "    print(\"Infinity\")\n",
    "finally:\n",
    "    print(\"There may or may not have been an exception.\")"
   ]
  },
  {
   "cell_type": "markdown",
   "metadata": {},
   "source": [
    "### else Clause\n",
    "The try ... except statement has an optional else clause. An else block has to be positioned after all the except clauses. An else clause will be executed if the try clause doesn't raise an exception.\n",
    "\n",
    "The following example opens a file and reads in all the lines into a list called \"text\":"
   ]
  },
  {
   "cell_type": "code",
   "execution_count": 16,
   "metadata": {},
   "outputs": [
    {
     "name": "stdout",
     "output_type": "stream",
     "text": [
      "cannot open -f\n"
     ]
    }
   ],
   "source": [
    "import sys\n",
    "file_name = sys.argv[1]\n",
    "text = []\n",
    "try:\n",
    "    fh = open(file_name, 'r')\n",
    "    text = fh.readlines()\n",
    "    fh.close()\n",
    "except IOError:\n",
    "    print('cannot open', file_name)\n",
    "\n",
    "if text:\n",
    "    print(text[100])"
   ]
  },
  {
   "cell_type": "markdown",
   "metadata": {},
   "source": [
    "This example receives the file name via a command line argument. So make sure that you call it properly: Let's assume that you saved this program as \"exception_test.py\". In this case, you have to call it with\n",
    "\n",
    "<pre> python exception_test.py integers.txt </pre>\n",
    "\n",
    "If you don't want this behaviour, just change the line \"file_name = sys.argv[1]\" to \"file_name = 'integers.txt'\".\n",
    "\n",
    "The previous example is nearly the same as:"
   ]
  },
  {
   "cell_type": "code",
   "execution_count": 17,
   "metadata": {},
   "outputs": [
    {
     "name": "stdout",
     "output_type": "stream",
     "text": [
      "cannot open -f\n"
     ]
    }
   ],
   "source": [
    "import sys\n",
    "file_name = sys.argv[1]\n",
    "text = []\n",
    "try:\n",
    "    fh = open(file_name, 'r')\n",
    "except IOError:\n",
    "    print('cannot open', file_name)\n",
    "else:\n",
    "    text = fh.readlines()\n",
    "    fh.close()\n",
    "\n",
    "if text:\n",
    "    print(text[100])"
   ]
  },
  {
   "cell_type": "markdown",
   "metadata": {},
   "source": [
    "The main difference is that in the first case, all statements of the try block can lead to the same error message \"cannot open ...\", which is wrong, if fh.close() or fh.readlines() raise an error. "
   ]
  }
 ],
 "metadata": {
  "kernelspec": {
   "display_name": "Python 3",
   "language": "python",
   "name": "python3"
  },
  "language_info": {
   "codemirror_mode": {
    "name": "ipython",
    "version": 3
   },
   "file_extension": ".py",
   "mimetype": "text/x-python",
   "name": "python",
   "nbconvert_exporter": "python",
   "pygments_lexer": "ipython3",
   "version": "3.8.5"
  }
 },
 "nbformat": 4,
 "nbformat_minor": 4
}
