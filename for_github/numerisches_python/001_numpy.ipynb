{
 "cells": [
  {
   "cell_type": "code",
   "execution_count": null,
   "metadata": {},
   "outputs": [],
   "source": [
    "# invisible\n",
    "import numpy as np\n",
    "np.core.arrayprint._line_width = 65\n",
    "\n",
    "import matplotlib as mpl\n",
    "mpl.rcParams['figure.dpi'] = 300"
   ]
  },
  {
   "cell_type": "markdown",
   "metadata": {},
   "source": [
    "\n",
    "## NumPy Tutorial\n",
    "### Einführung\n",
    "\n",
    " \n",
    "<br><br> \n",
    "\n",
    "\n"
   ]
  },
  {
   "cell_type": "markdown",
   "metadata": {},
   "source": [
    "\n",
    "<img width=\"40%\" class=\"imgright\" src=\"../images/hinton.webp\" srcset=\"../images/hinton_400w.webp 400w,../images/hinton_350w.webp 350w,../images/hinton_300w.webp 300w\" alt=\"Visualisierung einer Matrix als Hinton-Diagram\" />\n",
    "\n",
    "NumPy ist  ein Akronym für \"Numerisches Python\" (englisch: \"Numeric Python\" oder \"Numerical Python\"). \n",
    "Dabei handelt es sich um ein Erweiterungsmodul für Python, welches zum größten Teil in C  geschrieben ist.\n",
    "\n",
    "Dadurch wird sichergestellt, dass die kompilierten mathematischen und numerischen Funktionen und Funktionalitäten eine größtmögliche Ausführungsgeschwindigkeit garantieren.\n",
    "\n",
    "Außerdem bereichert NumPy die Programmiersprache Python um mächtige Datenstrukturen für das effiziente Rechnen mit großen Arrays und Matrizen.\n",
    "\n",
    "Die Implementierung zielt sogar auf extrem große (\"big data\") Matrizen und Arrays. \n",
    "Ferner bietet das Modul eine riesige Anzahl von hochwertigen mathematischen Funktionen, um mit diesen Matrizen und Arrays zu arbeiten. \n",
    "\n",
    "SciPy (Scientific Python) wird oft im gleichen Atemzug wie NumPy genannt. SciPy erweitert die Leistungsfähigkeit von NumPy um weitere nützliche Funktionen, wie zum Beispiel Minimierung, Regression, Fouriertransformation und vielen anderen.\n",
    "\n",
    "Sowohl NumPy als auch SciPy sind üblicherweise bei einer Standardinstallation von Python nicht installiert. NumPy sowie all die anderen erwähnten Module sind jedoch Bestandteil der Anaconda-Distribution.\n",
    "\n",
    "\n",
    "Will man NumPy jedoch manuell installieren, sollte man beachten, dass es als erstes, also vor SciPy installiert wird. NumPy kann von folgender Webseite heruntergelanden werden:\n",
    "\n",
    "[http://www.numpy.org](http://www.numpy.org) \n",
    "\n",
    "\n",
    "(Kommentar: Das Diagramm im Bild auf der rechten Seite ist eine grafische Visualisierung einer Matrix mit 14 Reihen und 20 Spalten. Es handelt sich um ein sogenanntes Hinton-Diagramm. Die Größe eines Quadrates innerhalb dieses Diagrammes korrespondiert zu der Größe des entsprechenden Wertes in der darzustellenden Matrix. Die Farbe bestimmt dabei, ob es sich um einen positiven oder negativen Wert handelt. In unserem Beispiel: Die Farbe Rot bezeichnet die negativen Werte und die Farbe Grün bezeichnet die positiven Werte.)\n",
    "\n",
    "NumPy basiert auf zwei früheren Python-Modulen, die mit Arrays zu tun hatten.\n",
    "Eines von diesen ist Numeric. Numeric ist wie NumPy ein Python-Modul für leistungsstarke numerische Berechnungen, aber es ist heute überholt. Ein anderer Vorgänger von NumPy ist Numarray, bei dem es sich um eine vollständige Überarbeitung von Numeric handelt, aber auch dieses Modul ist heute veraltet.   NumPy ist die Verschmelzung dieser beiden, d.h. es ist auf dem Code von Numeric und den Funktionalitäten von Numarray aufgebaut. \n",
    "\n",
    "<br><br>\n",
    "\n",
    "### Die Python-Alternative zu MATLAB\n",
    "\n",
    "Python in Kombination mit NumPy, SciPy, Matplotlib und Pandas kann prinzipiell als vollwertiger Ersatz für MATLAB genutzt werden. Bei Python und seinen Modulen handelt es sich um freie Software (\"free Software\" oder \"open source\"), frei steht hier im Sinne von \"Frei\"heit und nicht von \"Frei\"bier, auch wenn Python kostenlos ist. \n",
    "\n",
    "Obwohl für MATLAB eine riesige Anzahl von zusätzlichen Toolboxen verfügbar sind, hat Python in Verbindung mit oben erwähnten Modulen den Vorteil, dass es sich bei Python um die modernere und umfassendere  Programmiersprache handelt. \n",
    "\n",
    "SciPy fügt weitere MATLAB-ähnliche Funktionalitäten zu Python hinzu. Das Modul Matplotlib bietet die notwendigen Plot-Funktionalitäten. Das jüngste Glied dieser Modulfamilie stellt Pandas dar. Pandas ist ideal für das Arbeiten mit Tabellendaten, wie man sie aus Tabellenkalkulationsprogrammen wie beispielsweise Excel kennt.\n",
    "\n",
    "<img width=\"90%\" src=\"../images/matlab_python_vergleich.webp\" srcset=\"../images/matlab_python_vergleich_800w.webp 800w,../images/matlab_python_vergleich_700w.webp 700w,../images/matlab_python_vergleich_600w.webp 600w,../images/matlab_python_vergleich_500w.webp 500w,../images/matlab_python_vergleich_400w.webp 400w,../images/matlab_python_vergleich_350w.webp 350w,../images/matlab_python_vergleich_300w.webp 300w\" alt=\"Vergleich zwischen Python und Matlab\" />\n"
   ]
  },
  {
   "cell_type": "markdown",
   "metadata": {},
   "source": [
    "<br><br>\n",
    "\n",
    "### Vergleich zwischen Kern-Python und NumPy\n",
    "\n",
    "Wenn wir von Kern-Python sprechen, dann meinen wir das reine Python ohne seine speziellen Module, also in unserem Fall NumPy.\n",
    "\n",
    "Die Vorteile von Kern-Python:\n",
    "\n"
   ]
  },
  {
   "cell_type": "markdown",
   "metadata": {},
   "source": [
    "\n",
    "\n",
    "- Integers und Floats sind als mächtige Klassen implementiert. So können Integer-Zahlen beinahe \"unendlich\" groß oder klein werden. \n",
    "\n",
    "- Listen bieten effiziente Methoden zum Einfügen, Anhängen und Löschen von Elementen.\n",
    "- Dictionaries bieten einen schnellen Lookup.\n",
    "\n",
    "Vorteile von NumPy-Datenstrukturen gegenüber Python:\n",
    "\n",
    "- Array-basierte Berechnungen\n",
    "- Effizient implementierte mehrdimensionale Arrays\n",
    "- Entworfen für wissenschaftliche Berechnungen\n",
    "\n",
    "<br>\n",
    "\n",
    "\n",
    "### Ein einfaches NumPy-Beispiel\n",
    "\n",
    "Bevor wir NumPy benutzen können, müssen wir es importieren. Es wird importiert wie jedes andere Modul auch:\n",
    "\n",
    "\n"
   ]
  },
  {
   "cell_type": "code",
   "execution_count": 42,
   "metadata": {},
   "outputs": [],
   "source": [
    "import numpy"
   ]
  },
  {
   "cell_type": "markdown",
   "metadata": {},
   "source": [
    "\n",
    "Die obige import-Anweisung wird man aber nur sehr selten zu sehen bekommen. Üblicherweise wird NumPy in np umbenannt: \n",
    "\n",
    "\n"
   ]
  },
  {
   "cell_type": "code",
   "execution_count": 5,
   "metadata": {},
   "outputs": [],
   "source": [
    "import numpy as np"
   ]
  },
  {
   "cell_type": "markdown",
   "metadata": {},
   "source": [
    "In unserem ersten einfachen NumPy-Beispiel geht es um Temperaturen. Wir definieren eine Liste mit Temperaturwerten in Celsius:"
   ]
  },
  {
   "cell_type": "code",
   "execution_count": 44,
   "metadata": {},
   "outputs": [],
   "source": [
    "cvalues = [20.1, 20.8, 21.9, 22.5, 22.7, \n",
    "           21.8, 21.3, 20.9, 20.1]"
   ]
  },
  {
   "cell_type": "markdown",
   "metadata": {},
   "source": [
    "Aus unserer Liste ```cvalues``` erzeugen wir nun ein eindimensionales NumPy-Array:"
   ]
  },
  {
   "cell_type": "code",
   "execution_count": 45,
   "metadata": {},
   "outputs": [
    {
     "name": "stdout",
     "output_type": "stream",
     "text": [
      "[20.1 20.8 21.9 22.5 22.7 21.8 21.3 20.9 20.1] <class 'numpy.ndarray'>\n"
     ]
    }
   ],
   "source": [
    "C = np.array(cvalues)\n",
    "print(C, type(C))"
   ]
  },
  {
   "cell_type": "markdown",
   "metadata": {},
   "source": [
    "\n",
    "Nehmen wir nun an, dass wir die Werte in Grad Fahrenheit benötigen. \n",
    "\n",
    "\n",
    "\n",
    "Dies kann sehr einfach mit einem NumPy-Array bewerkstelligt werden. Die Lösung unseres Problems besteht in einfachen skalaren Operationen:"
   ]
  },
  {
   "cell_type": "code",
   "execution_count": 46,
   "metadata": {
    "scrolled": true
   },
   "outputs": [
    {
     "name": "stdout",
     "output_type": "stream",
     "text": [
      "[68.18 69.44 71.42 72.5  72.86 71.24 70.34 69.62 68.18]\n"
     ]
    }
   ],
   "source": [
    "print(C * 9 / 5 + 32)"
   ]
  },
  {
   "cell_type": "markdown",
   "metadata": {},
   "source": [
    "Das Array C selbst wurde dabei jedoch nicht verändert:"
   ]
  },
  {
   "cell_type": "code",
   "execution_count": 47,
   "metadata": {},
   "outputs": [
    {
     "name": "stdout",
     "output_type": "stream",
     "text": [
      "[20.1 20.8 21.9 22.5 22.7 21.8 21.3 20.9 20.1]\n"
     ]
    }
   ],
   "source": [
    "print(C)"
   ]
  },
  {
   "cell_type": "markdown",
   "metadata": {},
   "source": [
    "\n",
    "Verglichen zu diesem Vorgehen stellt sich die Python-Lösung, die die Liste mit Hilfe einer \n",
    "[Listen-Abstraktion](python3_list_comprehension.php)\n",
    "website \n",
    "in eine Liste mit Fahrenheit-Temperaturen wandelt, als umständlich dar!"
   ]
  },
  {
   "cell_type": "code",
   "execution_count": 48,
   "metadata": {},
   "outputs": [
    {
     "name": "stdout",
     "output_type": "stream",
     "text": [
      "[68.18, 69.44, 71.42, 72.5, 72.86, 71.24000000000001, 70.34, 69.62, 68.18]\n"
     ]
    }
   ],
   "source": [
    "fvalues = [ x*9/5 + 32 for x in cvalues] \n",
    "print(fvalues)"
   ]
  },
  {
   "cell_type": "markdown",
   "metadata": {},
   "source": [
    "Wir haben bisher C als ein Array bezeichnet. Die interne Typbezeichnung lautet jedoch ```ndarray``` oder noch genauer \"C ist eine Instanz der Klasse ```numpy.ndarray```\": "
   ]
  },
  {
   "cell_type": "code",
   "execution_count": 49,
   "metadata": {},
   "outputs": [
    {
     "data": {
      "text/plain": [
       "numpy.ndarray"
      ]
     },
     "execution_count": 49,
     "metadata": {},
     "output_type": "execute_result"
    }
   ],
   "source": [
    "type(C)"
   ]
  },
  {
   "cell_type": "markdown",
   "metadata": {},
   "source": [
    "Im Folgenden werden wir die Begriffe \"Array\" und \"ndarray\" meistens synonym verwenden.\n",
    "\n",
    "<br><br>\n",
    "\n",
    "### Grafische Darstellung der Werte\n",
    "\n",
    "Obwohl wir das Modul Matplotlib erst später im Detail besprechen werden, wollen wir zeigen, wie wir mit diesem Modul die obigen Temperaturwerte ausgeben können. Dazu benutzen wir das Paket ```pyplot``` aus ```matplotlib```. Wenn man mit dem Jupyter-Notebook arbeitet, empfiehlt es sich, die folgende Codezeile zu verwenden, damit der Plot innerhalb des Notebooks erscheint und nicht in einem separat erscheinenden Fenster dargestellt wird:"
   ]
  },
  {
   "cell_type": "code",
   "execution_count": 50,
   "metadata": {},
   "outputs": [],
   "source": [
    "%matplotlib inline"
   ]
  },
  {
   "cell_type": "markdown",
   "metadata": {},
   "source": [
    "Sollen die Plots in einem Notebook jedoch in externen Fenstern auftauchen, schreibt man obige Zeile ohne \"inline\", also nur \"%matplotlib\". \n",
    "\n",
    "Der Code zum Erzeugen eines Plots für unsere Werte sieht wie folgt aus:"
   ]
  },
  {
   "cell_type": "code",
   "execution_count": 51,
   "metadata": {},
   "outputs": [
    {
     "data": {
      "image/png": "[encoded data removed]",
      "text/plain": [
       "<Figure size 432x288 with 1 Axes>"
      ]
     },
     "metadata": {
      "needs_background": "light"
     },
     "output_type": "display_data"
    }
   ],
   "source": [
    "import matplotlib.pyplot as plt\n",
    "\n",
    "plt.plot(C)\n",
    "plt.show()"
   ]
  },
  {
   "cell_type": "markdown",
   "metadata": {},
   "source": [
    "Die Funktion ```plot``` benutzt das Array C als  Werte für die Ordinate, also die Y-Achse. Als Werte für die Abszisse wurden die Indizes des Arrays C genommen.  "
   ]
  },
  {
   "cell_type": "markdown",
   "metadata": {},
   "source": [
    "<br><br>\n",
    "\n",
    "### Speicherbedarf \n",
    "\n",
    "Die wesentlichen Vorteile von NumPy-Arrays sollten ein kleinerer Speicherverbrauch und ein besseres Laufzeitverhalten sein. \n",
    "Wir wollen uns den Speicherverbrauch von NumPy-Arrays in diesem Kapitel unseres Tutorials anschauen und ihn mit dem Speicherverbrauch von Python-Listen vergleichen."
   ]
  },
  {
   "cell_type": "markdown",
   "metadata": {},
   "source": [
    "<img width=\"85%\" src=\"../images/listen_struktur.webp\" srcset=\"../images/listen_struktur_800w.webp 800w,../images/listen_struktur_700w.webp 700w,../images/listen_struktur_600w.webp 600w,../images/listen_struktur_500w.webp 500w,../images/listen_struktur_400w.webp 400w,../images/listen_struktur_350w.webp 350w,../images/listen_struktur_300w.webp 300w\" alt=\"Python Listen: Interne Speicherstruktur\" />\n"
   ]
  },
  {
   "cell_type": "markdown",
   "metadata": {},
   "source": [
    "Um den Speicherverbrauch der Liste aus dem vorigen Bild zu berechnen, werden wir die Funktion ```getsizeof``` aus dem Modul ```sys``` benutzen:"
   ]
  },
  {
   "cell_type": "code",
   "execution_count": 2,
   "metadata": {},
   "outputs": [
    {
     "name": "stdout",
     "output_type": "stream",
     "text": [
      "Größe ohne Größe der Elemente:  120\n",
      "Größe aller Elemente:  84\n",
      "Gesamtgröße der Liste:  204\n"
     ]
    }
   ],
   "source": [
    "from sys import getsizeof as size\n",
    "\n",
    "lst = [24, 12, 57]\n",
    "\n",
    "size_of_list_object = size(lst)   # only green box\n",
    "size_of_elements = len(lst) * size(lst[0]) # 24, 12, 57\n",
    "\n",
    "total_list_size = size_of_list_object + size_of_elements\n",
    "print(\"Größe ohne Größe der Elemente: \", size_of_list_object)\n",
    "print(\"Größe aller Elemente: \", size_of_elements)\n",
    "print(\"Gesamtgröße der Liste: \", total_list_size)\n"
   ]
  },
  {
   "cell_type": "markdown",
   "metadata": {},
   "source": [
    "Der Speicherbedarf einer Python-Liste besteht aus der Größe der allgemeinen Listeninformation, dem Speicherbedarf für die Referenzen auf die Listenelemente und der Größe aller Elemente der Liste. Wenn wir ```sys.getsizeof``` auf eine Liste anwenden, erhalten wir nur den Speicherbedarf der reinen Liste ohne die Größe der Listenelemente. Im obigen Beispiel sind wir davon ausgegangen, dass alle Integer-Elemente unserer Liste die gleiche Größe haben. Dies stimmt natürlich nicht im allgemeinen Fall, da Integers bei steigender Größe auch einen größeren Speicherbedarf haben.\n",
    "\n",
    "Wir wollen nun prüfen, wie sich der Speicherverbrauch ändert, wenn wir weitere Integer-Elemente zu der Liste hinzufügen. Außerdem schauen wir uns den Speicherverbrauch einer leeren Liste an:\n"
   ]
  },
  {
   "cell_type": "code",
   "execution_count": 3,
   "metadata": {},
   "outputs": [
    {
     "name": "stdout",
     "output_type": "stream",
     "text": [
      "Größe ohne Größe der Elemente:  120\n",
      "Größe aller Elemente:  112\n",
      "Gesamtgröße der Liste:  232\n",
      "Speicherbedarf einer leeren Liste:  56\n"
     ]
    }
   ],
   "source": [
    "lst = [24, 12, 57, 42]\n",
    "\n",
    "size_of_list_object = size(lst)   \n",
    "size_of_elements = len(lst) * size(lst[0]) # 24, 12, 57, 42\n",
    "\n",
    "total_list_size = size_of_list_object + size_of_elements\n",
    "print(\"Größe ohne Größe der Elemente: \", size_of_list_object)\n",
    "print(\"Größe aller Elemente: \", size_of_elements)\n",
    "print(\"Gesamtgröße der Liste: \", total_list_size)\n",
    " \n",
    "lst = []\n",
    "\n",
    "print(\"Speicherbedarf einer leeren Liste: \", size(lst))"
   ]
  },
  {
   "cell_type": "markdown",
   "metadata": {},
   "source": [
    " Aus den Ausgaben des vorigen Codes können wir folgern, dass wir für jedes Integer-Element 8 Bytes für die Referenz benötigen. Ein Integer-Objekt selbst benötigt in unserem Fall 28 Bytes. Die Größe der Liste \"lst\" ohne den Speicherbedarf für die Elemente selbst kann also in unserem Fall wie folgt berechnet werden:\n",
    "\n",
    "```56 + 16 * len(lst)```\n",
    "\n",
    "Um den kompletten Speicherbedarf einer Integer-Liste auszurechnen, müssen wir noch den Speicherbedarf aller Integer hinzuaddieren."
   ]
  },
  {
   "cell_type": "markdown",
   "metadata": {},
   "source": [
    "Nun werden wir den Speicherbedarf eines NumPy-Arrays berechnen. Zu diesem Zweck schauen wir uns zunächst die Implementierung im folgenden Bild an:"
   ]
  },
  {
   "cell_type": "markdown",
   "metadata": {},
   "source": [
    "<img width=\"85%\" src=\"../images/numpy_array_struktur.webp\" srcset=\"../images/numpy_array_struktur_800w.webp 800w,../images/numpy_array_struktur_700w.webp 700w,../images/numpy_array_struktur_600w.webp 600w,../images/numpy_array_struktur_500w.webp 500w,../images/numpy_array_struktur_400w.webp 400w,../images/numpy_array_struktur_350w.webp 350w,../images/numpy_array_struktur_300w.webp 300w\" alt=\"NumPy-Arrays: Interne Speicherstruktur\" />"
   ]
  },
  {
   "cell_type": "markdown",
   "metadata": {},
   "source": [
    "Wir erzeugen nun das Array aus dem vorigen Bild und berechnen seinen Speicherbedarf:"
   ]
  },
  {
   "cell_type": "code",
   "execution_count": 9,
   "metadata": {},
   "outputs": [
    {
     "name": "stdout",
     "output_type": "stream",
     "text": [
      "116\n"
     ]
    }
   ],
   "source": [
    "a = np.array([24, 12, 57])\n",
    "print(size(a))"
   ]
  },
  {
   "cell_type": "markdown",
   "metadata": {},
   "source": [
    "Den Speicherbedarf für die allgemeine Array-Information können wir berechnen, indem wir ein leeres Array erzeugen:"
   ]
  },
  {
   "cell_type": "code",
   "execution_count": 8,
   "metadata": {},
   "outputs": [
    {
     "name": "stdout",
     "output_type": "stream",
     "text": [
      "104\n"
     ]
    }
   ],
   "source": [
    "e = np.array([])\n",
    "print(size(e))"
   ]
  },
  {
   "cell_type": "markdown",
   "metadata": {},
   "source": [
    "Wir können sehen, dass die Differenz zwischen dem leeren Array \"e\" und dem Array \"a\", bestehend aus 3 Integern, 24 Bytes beträgt. Dies bedeutet dass sich der Speicherbedarf für  ein beliebiges Integer-Array \"n\" wir folgt ergibt: \n",
    "\n",
    "```104 + n * 4 Bytes```\n",
    "\n",
    "Im Vergleich dazu berechnet sich der Speicherbedarf einer Integer-Liste, wie wir gesehen haben, als:\n",
    "\n",
    "```56 + 16 * len(lst) + len(lst) * 28```\n",
    "\n",
    "Dies ist eine untere Schranke, da Python-Integers größer als 28 Bytes werden können!\n",
    "\n",
    "Wenn wir ein NumPy-Array definieren, wählt NumPy automatisch eine feste Integer-Größe, in unserem Fall \"int64\". \n",
    "\n",
    "Diese Größe können wir auch bei der Definition eines Arrays festlegen. Damit ändert sich natürlich auch der Gesamtspeicherbedarf des Arrays:\n"
   ]
  },
  {
   "cell_type": "code",
   "execution_count": 12,
   "metadata": {},
   "outputs": [
    {
     "name": "stdout",
     "output_type": "stream",
     "text": [
      "3\n",
      "6\n",
      "12\n",
      "24\n"
     ]
    }
   ],
   "source": [
    "a = np.array([24, 12, 57], np.int8)\n",
    "print(size(a) - 104)\n",
    "\n",
    "a = np.array([24, 12, 57], np.int16)\n",
    "print(size(a) - 104)\n",
    "\n",
    "a = np.array([24, 12, 57], np.int32)\n",
    "print(size(a) - 104)\n",
    "\n",
    "a = np.array([24, 12, 57], np.int64)\n",
    "print(size(a) - 104)"
   ]
  },
  {
   "cell_type": "markdown",
   "metadata": {},
   "source": [
    "### Zeitvergleich zwischen Python-Listen und NumPy-Arrays\n",
    "\n",
    "\n",
    "Einer der Hauptvorteile von NumPy ist sein Zeitvorteil gegenüber Standardpython. Im Folgenden definieren wir zwei Funktionen. Die erste ```pure_python_version``` erzeugt zwei Python-Listen mittels ```range```, während die zweite zwei NumPy-Arrays mittels der NumPy-Funktion ```arange``` erzeugt. In beiden Funktionen addieren wir die Elemente komponentenweise:"
   ]
  },
  {
   "cell_type": "code",
   "execution_count": 57,
   "metadata": {
    "code_folding": []
   },
   "outputs": [],
   "source": [
    "import numpy as np\n",
    "import time\n",
    "\n",
    "size_of_vec = 1000\n",
    "\n",
    "def pure_python_version():\n",
    "    t1 = time.time()\n",
    "    X = range(size_of_vec)\n",
    "    Y = range(size_of_vec)\n",
    "    Z = [X[i] + Y[i] for i in range(len(X))]\n",
    "    return time.time() - t1\n",
    "\n",
    "def numpy_version():\n",
    "    t1 = time.time()\n",
    "    X = np.arange(size_of_vec)\n",
    "    Y = np.arange(size_of_vec)\n",
    "    Z = X + Y\n",
    "    return time.time() - t1"
   ]
  },
  {
   "cell_type": "markdown",
   "metadata": {},
   "source": [
    "Wir rufen diese Funktionen auf und können den Zeitvorteil sehen:"
   ]
  },
  {
   "cell_type": "code",
   "execution_count": 58,
   "metadata": {},
   "outputs": [
    {
     "name": "stdout",
     "output_type": "stream",
     "text": [
      "0.00020647048950195312 8.463859558105469e-05\n",
      "NumPy is in this example 2.4394366197183097 faster!\n"
     ]
    }
   ],
   "source": [
    "t1 = pure_python_version()\n",
    "t2 = numpy_version()\n",
    "\n",
    "print(t1, t2)\n",
    "print(\"NumPy is in this example \" + str(t1/t2) + \" faster!\")"
   ]
  },
  {
   "cell_type": "markdown",
   "metadata": {},
   "source": [
    "Die Zeitmessung gestaltet sich einfacher und vor allen Dingen besser, wenn wir dazu das Modul ```timeit``` verwenden. In dem folgenden Skript werden wir die Timer-Klasse nutzen.\n",
    "\n",
    "Dem Konstruktor eines Timer-Objektes können zwei Anweisungen übergeben werden: eine, die gemessen werden soll, und eine, die als Setup fungiert. Beide Anweisungen sind auf 'pass' per Default gesetzt. Ansonsten kann noch eine Timer-Funktion übergeben werden.\n",
    "\n",
    "Ein Timer-Objekt hat eine ```timeit```-Methode. Das Argument der ```timeit```-Methode ist die Anzahl der Schleifendurchläufe, die der Code wiederholt werden soll.\n",
    "\n",
    "```timeit(number=1000000)```\n",
    "\n",
    "```timeit``` liefert als Ergebnis die benötigte Zeit für ```number```-Durchläufe."
   ]
  },
  {
   "cell_type": "code",
   "execution_count": 3,
   "metadata": {},
   "outputs": [
    {
     "name": "stdout",
     "output_type": "stream",
     "text": [
      "0.0028577999999868098\n",
      "0.0009996000000001004\n"
     ]
    }
   ],
   "source": [
    "import numpy as np\n",
    "from timeit import Timer\n",
    "\n",
    "size_of_vec = 1000\n",
    "\n",
    "def pure_python_version():\n",
    "    X = range(size_of_vec)\n",
    "    Y = range(size_of_vec)\n",
    "    Z = [X[i] + Y[i] for i in range(len(X))]\n",
    "\n",
    "def numpy_version():\n",
    "    X = np.arange(size_of_vec)\n",
    "    Y = np.arange(size_of_vec)\n",
    "    Z = X + Y\n",
    "\n",
    "timer_obj1 = Timer(\"pure_python_version()\", \n",
    "                   \"from __main__ import pure_python_version\")\n",
    "timer_obj2 = Timer(\"numpy_version()\", \n",
    "                   \"from __main__ import numpy_version\")\n",
    "\n",
    "print(timer_obj1.timeit(10))\n",
    "print(timer_obj2.timeit(10))"
   ]
  },
  {
   "cell_type": "markdown",
   "metadata": {},
   "source": [
    "Die ```repeat```-Method ist eine vereinfachte Möglichkeit, die Methode ```timeit``` mehrmals aufzurufen und eine Liste der Ergebnisse zu erhalten:"
   ]
  },
  {
   "cell_type": "code",
   "execution_count": 60,
   "metadata": {},
   "outputs": [
    {
     "name": "stdout",
     "output_type": "stream",
     "text": [
      "[0.0030357750365510583, 0.0019908309914171696, 0.0027062779990956187]\n",
      "[0.0002585119800642133, 3.938097506761551e-05, 3.899098373949528e-05]\n"
     ]
    }
   ],
   "source": [
    "print(timer_obj1.repeat(repeat=3, number=10))\n",
    "print(timer_obj2.repeat(repeat=3, number=10))"
   ]
  }
 ],
 "metadata": {
  "anaconda-cloud": {},
  "kernelspec": {
   "display_name": "Python 3 (ipykernel)",
   "language": "python",
   "name": "python3"
  },
  "language_info": {
   "codemirror_mode": {
    "name": "ipython",
    "version": 3
   },
   "file_extension": ".py",
   "mimetype": "text/x-python",
   "name": "python",
   "nbconvert_exporter": "python",
   "pygments_lexer": "ipython3",
   "version": "3.9.12"
  },
  "toc": {
   "base_numbering": 1,
   "nav_menu": {},
   "number_sections": true,
   "sideBar": true,
   "skip_h1_title": false,
   "title_cell": "Table of Contents",
   "title_sidebar": "Contents",
   "toc_cell": false,
   "toc_position": {},
   "toc_section_display": true,
   "toc_window_display": false
  }
 },
 "nbformat": 4,
 "nbformat_minor": 4
}
