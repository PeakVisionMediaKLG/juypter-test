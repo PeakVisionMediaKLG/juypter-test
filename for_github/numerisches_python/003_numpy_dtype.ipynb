{
 "cells": [
  {
   "cell_type": "code",
   "execution_count": 107,
   "metadata": {},
   "outputs": [],
   "source": [
    "# invisible\n",
    "from IPython.display import HTML, display\n",
    "import numpy as np\n",
    "\n",
    "np.core.arrayprint._line_width = 65\n"
   ]
  },
  {
   "cell_type": "markdown",
   "metadata": {},
   "source": [
    "## Datentyp-Objekt: dtype\n",
    "<br>\n",
    "\n",
    "### dtype\n",
    "\n",
    "\n",
    "\n",
    "\n",
    "<img width=250 class=\"imgright\" src=\"../images/europe_dtype.webp\" srcset=\"../images/europe_dtype_700w.webp 700w,../images/europe_dtype_600w.webp 600w,../images/europe_dtype_500w.webp 500w,../images/europe_dtype_400w.webp 400w,../images/europe_dtype_350w.webp 350w,../images/europe_dtype_300w.webp 300w\" alt=\"Veranschaulichung von dtype-Daten mit Europa-Daten-Bild\" />\n",
    "Das Datentypobjekt 'dtype' ist eine Instanz der numpy.dtype-Klasse. Es kann mit numpy.dtype konstruiert werden.\n",
    "\n",
    "Bis jetzt haben wir in unseren Beispielen von NumPy-Arrays nur grundlegende numerische Typen wie 'int' und 'float' benutzt. Diese NumPy-Arrays enthielten nur homogene Datentypen. dtype-Objekte werden aus einer Kombination von grundlegenden  Datentypen erzeugt. Mit Hilfe von dtype sind wir in der Lage \"Strukturierte Arrays\" zu erzeugen, auch bekannt als \"record arrays\". Strukturierte Arrays statten uns mit der Möglichkeit aus verschiedene Datentypen in verschiedenen Spalten zu haben. Es gibt somit Ähnlichkeit zu Excel- oder CSV-Dokumenten. Dies ermöglicht es uns somit  Daten wie in der folgenden Tabelle mit dtype zu erzeugen:\n"
   ]
  },
  {
   "cell_type": "markdown",
   "metadata": {},
   "source": [
    "\n",
    "|Land| Bevölkerungsdichte | &nbsp;&nbsp;&nbsp;&nbsp; Fläche | &nbsp;&nbsp;&nbsp;&nbsp; Einwohner |\n",
    "|------------|----------:|----:|----:|\n",
    "|Niederlande |\t393 |\t41526 |\t16,928,800 |\n",
    "|Belgien \t|337 |\t30510\t|11,007,020|\n",
    "|Vereinigtes Königreich\t|256 |\t243610 |\t62,262,000|\n",
    "|Deutschland \t|233 |\t357021 |\t81,799,600 |\n",
    "|Liechtenstein | \t205 |\t160 \t|32,842|\n",
    "|Italien |\t192 |\t301230 |\t59,715,625|\n",
    "|Schweiz |\t177 |\t41290 |\t7,301,994 |\n",
    "|Luxemburg |\t173 |\t2586 |\t512,000|\n",
    "|Frankreich |\t111 |\t547030 |\t63,601,002|\n",
    "|Österreich |\t97 |\t83858 |\t8,169,929|\n",
    "|Griechenland |\t81 |\t131940 |\t11,606,813|\n",
    "|Irland |\t65 |\t70280 |\t4,581,269|\n",
    "|Schweden |\t20 |    449964 |\t9,515,744|\n",
    "|Finnland |\t16 |\t338424 |\t5,410,233|\n",
    "|Norwegen |\t13 |\t385252 |\t5,033,675|\n",
    "\n",
    "\n",
    "\n"
   ]
  },
  {
   "cell_type": "markdown",
   "metadata": {},
   "source": [
    "Bevor wir jedoch mit komplexen Daten wie den obigen starten, wollen wir dtype an einem sehr einfachen Beispiel einführen. Wir definieren einen ```Pixel```-Datentyp, der einem ```numpy.uint8```-Datentyp entspricht. \n",
    "\n",
    "Die Elemente der Liste ```lst``` werden in Pixel-Typen gewandelt, um das zweidimensionale Array ```A``` zu erzeugen. Wir können sehen, dass dabei auch Float-Werte automatisch in Pixel-Datentypen, also ```numpy.uint8```, gewandelt werden."
   ]
  },
  {
   "cell_type": "code",
   "execution_count": 108,
   "metadata": {},
   "outputs": [
    {
     "name": "stdout",
     "output_type": "stream",
     "text": [
      "uint8\n",
      "[[115 230 229 234]\n",
      " [117 229 232 235]\n",
      " [116 140 141 142]]\n"
     ]
    }
   ],
   "source": [
    "import numpy as np\n",
    "\n",
    "Pixel = np.dtype(np.uint8)\n",
    "print(Pixel)\n",
    "\n",
    "lst = [ [115, 230.9, 229.2, 234], \n",
    "        [117, 229, 232.1, 235],\n",
    "        [116, 140, 141, 142] ]\n",
    "\n",
    "A = np.array(lst, dtype=Pixel)\n",
    "\n",
    "print(A)"
   ]
  },
  {
   "cell_type": "markdown",
   "metadata": {},
   "source": [
    "Im vorigen Beispiel haben wir lediglich einen neuen Namen für einen Basisdatentyp eingeführt. Damit kann man beispielsweise die Lesbarkeit und Verständlichkeit eines Programmes erhöhen. Dies hat noch nichts mit \"Strukturierten Arrays\" zu tun, die wir am Anfang dieses Kapitels\n",
    "\n",
    "unseres Tutorials \n",
    "\n",
    "erwähnt hatten. \n",
    "\n",
    "### Strukturierte Arrays\n",
    "\n",
    "ndarrays sind homogene Datenobjekte, d.h. alle Elemente eines Arrays haben den gleichen Datentyp. Der Datentyp ```dtype``` hingegen erlaubt es uns, spaltenweise Typen zu deklarieren.\n",
    "\n",
    "Nun gehen wir den ersten Schritt in Richtung Implementierung der Tabelle  europäischer Länder mit den Informationen über Fläche, Bevölkerung und Bevölkerungsdichte. \n",
    "\n",
    "Wir erzeugen ein strukturiertes Array mit einer Spalte ```density```. Den Datentyp definieren wir als ```np.dtype([('density', np.int)])```. Diesen Datentyp weisen wir der  Variablen ```Density``` zu. Wir haben die Variable groß geschrieben, damit man sieht, dass es einen Unterschied gibt zu dem ```density``` in der Typdefinition selbst. Den Datentyp ```Density``` benutzen wir dann in der Definition des NumPy-Arrays, in dem wir die ersten drei Werte benutzen:"
   ]
  },
  {
   "cell_type": "code",
   "execution_count": 109,
   "metadata": {},
   "outputs": [
    {
     "name": "stdout",
     "output_type": "stream",
     "text": [
      "[(393,) (337,) (256,)]\n",
      "\n",
      "Die interne Darstellung:\n",
      "array([(393,), (337,), (256,)], dtype=[('density', '<i4')])\n"
     ]
    }
   ],
   "source": [
    "import numpy as np\n",
    "\n",
    "Density = np.dtype([('density', np.int32)])\n",
    "\n",
    "x = np.array([(393,), (337,), (256,)],\n",
    "             dtype=Density)\n",
    "\n",
    "print(x)\n",
    "\n",
    "print(\"\\nDie interne Darstellung:\")\n",
    "print(repr(x))"
   ]
  },
  {
   "cell_type": "markdown",
   "metadata": {},
   "source": [
    "Wir können auf die ```density```-Spalte zugreifen, indem wir als Schlüssel ```density``` eingeben. Es ähnelt einem \n",
    "\n",
    "[Dictionary](python3_dictionaries.php)-Zugriff\n",
    "\n",
    "\n",
    " in Python:\n"
   ]
  },
  {
   "cell_type": "code",
   "execution_count": 110,
   "metadata": {},
   "outputs": [
    {
     "name": "stdout",
     "output_type": "stream",
     "text": [
      "[393 337 256]\n"
     ]
    }
   ],
   "source": [
    "print(x['density'])"
   ]
  },
  {
   "cell_type": "markdown",
   "metadata": {},
   "source": [
    "Man wird sich vielleicht wundern, dass wir ```np.int32``` in unserer Definition benutzt haben, aber dass die interne Repräsentierung ```<i4``` zeigt.\n",
    "\n",
    "In einer ```dtype```-Definition können wir den Typ direkt verwenden, also beispielsweise ```np.int32```,  oder wir können einen String benutzen, z.B. ```i4```.\n",
    "\n",
    "In unserem Beispiel hätten wir unseren ```dtype``` auch wie folgt definieren können:"
   ]
  },
  {
   "cell_type": "code",
   "execution_count": 111,
   "metadata": {},
   "outputs": [
    {
     "name": "stdout",
     "output_type": "stream",
     "text": [
      "[(393,) (337,) (256,)]\n"
     ]
    }
   ],
   "source": [
    "Density = np.dtype([('density',  'i4')])\n",
    "x = np.array([(393,), (337,), (256,)],\n",
    "             dtype=Density)\n",
    "\n",
    "\n",
    "print(x)"
   ]
  },
  {
   "cell_type": "markdown",
   "metadata": {},
   "source": [
    "Das ```i``` steht für Integer, und die 4 bedeutet \"4 Bytes\". Was bedeutet aber das Kleiner-als-Zeichen vor der 4? Wir hätten ebensogut '&lt;i4' schreiben können.\n",
    "Wir können einem Typ ein '&lt;'- oder ein '&gt;'-Zeichen voranstellen. '&lt;' bedeutet, dass bei der Speicherorganisation Little-Endian verwendet wird, und '&gt;' bedeutet entsprechend, dass Big-Endian verwendet wird. Ohne Präfix wird die natürliche Byte-Reihenfolge des Systems verwendet. Wir demonstrieren dies im folgenden Beispiel, indem wir eine Gleitkommazahl mit doppelter Genauigkeit (double precision floating-point) in verschiedenen Byte-Reihenfolgen definieren:"
   ]
  },
  {
   "cell_type": "code",
   "execution_count": 112,
   "metadata": {},
   "outputs": [
    {
     "name": "stdout",
     "output_type": "stream",
     "text": [
      "float64 = 8\n",
      "float64 > 8\n",
      "float64 = 8\n"
     ]
    }
   ],
   "source": [
    "# little-endian ordering\n",
    "dt = np.dtype('<d')\n",
    "print(dt.name, dt.byteorder, dt.itemsize)\n",
    "\n",
    "# big-endian ordering\n",
    "dt = np.dtype('>d')  \n",
    "print(dt.name, dt.byteorder, dt.itemsize)\n",
    "\n",
    "# native byte ordering\n",
    "dt = np.dtype('d') \n",
    "print(dt.name, dt.byteorder, dt.itemsize)"
   ]
  },
  {
   "cell_type": "markdown",
   "metadata": {},
   "source": [
    "\n",
    "\n",
    "\n",
    "Das Gleichheitszeichen '=' steht für die natürliche Byte-Reihenfolge ('native byte ordering'), definiert durch das Betriebssystem. In unserem Fall bedeutet dies Little-Endian, weil wir uns auf einem Linux-Rechner befinden.\n",
    "\n",
    "Eine andere Sache in unserem Density-Array könnte verwirrend sein. Wir definierten das Array mit einer Liste, die 1-Tupels enthält. Vielleicht fragen Sie sich nun, ob es möglich ist Tupels und Listen austauschbar zu verwenden? Dies ist nicht möglich. Die Tupels werden verwendet um die Records zu definieren - in unserm Fall bestehen diese nur aus der Bevölkerungsdichte ('density') -, und die Liste ist der \n",
    "'Container' für die Records. Die Tupel definieren die atomaren Elemente der Struktur und die Listen die Dimensionen.\n",
    "\n",
    "\n",
    "\n",
    "\n",
    "\n",
    "\n",
    "Nun werden wir die Ländernamen, die Flächen und die Populationen zu unserem Typ hinzufügen:\n"
   ]
  },
  {
   "cell_type": "code",
   "execution_count": 113,
   "metadata": {},
   "outputs": [
    {
     "name": "stdout",
     "output_type": "stream",
     "text": [
      "[(393,) (337,) (256,)]\n"
     ]
    }
   ],
   "source": [
    "dt = np.dtype([('country', 'S20'), \n",
    "               ('density', 'i4'), \n",
    "               ('area', 'i4'), \n",
    "               ('population', 'i4')])\n",
    "population_table = np.array([('Netherlands', 393, 41526, 16928800),\n",
    "('Belgium', 337, 30510, 11007020),\n",
    "('United Kingdom', 256, 243610, 62262000),\n",
    "('Germany', 233, 357021, 81799600),\n",
    "('Liechtenstein', 205, 160, 32842),\n",
    "('Italy', 192, 301230, 59715625),\n",
    "('Switzerland', 177, 41290, 7301994),\n",
    "('Luxembourg', 173, 2586, 512000),\n",
    "('France', 111, 547030, 63601002),\n",
    "('Austria', 97, 83858, 8169929),\n",
    "('Greece', 81, 131940, 11606813),\n",
    "('Ireland', 65, 70280, 4581269),\n",
    "('Sweden', 20, 449964, 9515744),\n",
    "('Finland', 16, 338424, 5410233),\n",
    "('Norway', 13, 385252, 5033675)],\n",
    "             dtype=dt)\n",
    "print(x[:4])"
   ]
  },
  {
   "cell_type": "markdown",
   "metadata": {},
   "source": [
    "Wir können auf jedes Element individuell zugreifen: "
   ]
  },
  {
   "cell_type": "code",
   "execution_count": 114,
   "metadata": {},
   "outputs": [
    {
     "name": "stdout",
     "output_type": "stream",
     "text": [
      "[393 337 256 233 205 192 177 173 111  97  81  65  20  16  13]\n",
      "[b'Netherlands' b'Belgium' b'United Kingdom' b'Germany' b'Liechtenstein'\n",
      " b'Italy' b'Switzerland' b'Luxembourg' b'France' b'Austria' b'Greece'\n",
      " b'Ireland' b'Sweden' b'Finland' b'Norway']\n",
      "[243610 357021    160]\n"
     ]
    }
   ],
   "source": [
    "print(population_table['density'])\n",
    "print(population_table['country'])\n",
    "print(population_table['area'][2:5])"
   ]
  },
  {
   "cell_type": "markdown",
   "metadata": {},
   "source": [
    "Die Städtenamen sind Instanzen der NumPy-Klasse ```numpy.bytes_```. Man kann sie mit der Funktion ```str``` wieder in Unicode-Strings wandeln. Weiter unten werden wir auch sehen, wie man direkt mit Unicode-Strings in dtype-Arrays arbeitet."
   ]
  },
  {
   "cell_type": "code",
   "execution_count": 115,
   "metadata": {},
   "outputs": [
    {
     "name": "stdout",
     "output_type": "stream",
     "text": [
      "b'Netherlands' <class 'numpy.bytes_'>\n",
      "b'Netherlands' <class 'str'>\n"
     ]
    }
   ],
   "source": [
    "s = population_table['country'][0]\n",
    "print(s, type(s))\n",
    "s = str(s)\n",
    "print(s, type(s))"
   ]
  },
  {
   "cell_type": "markdown",
   "metadata": {},
   "source": [
    "<br><br>\n",
    "\n",
    "### Ein- und Ausgabe von strukturierten Arrays\n",
    "\n",
    "\n",
    "In den meisten Applikationen ist es notwendig, die Daten aus einem Programm in einer Datei zu speichern. Wir werden nun unser zuvor erzeugtes Array in einer Datei mit dem Kommando ```savetxt``` speichern. Eine detaillierte Einführung in diese Thematik findet man im Kapitel \n",
    "\n",
    "[Lesen und Schreiben von Daten-Dateien](numpy_dateien_lesen_schreiben.php) \n",
    "\n",
    "\n"
   ]
  },
  {
   "cell_type": "code",
   "execution_count": 116,
   "metadata": {},
   "outputs": [],
   "source": [
    "np.savetxt(\"population_table.csv\",\n",
    "           population_table,\n",
    "           fmt=\"%s;%d;%d;%d\", \n",
    "           delimiter=\";\")"
   ]
  },
  {
   "cell_type": "markdown",
   "metadata": {},
   "source": [
    "Sehr wahrscheinlich wird man zu einem späteren Zeitpunkt die Daten der eben gespeicherten Datei wieder einlesen wollen. Dies können wir mit dem Kommando ```genfromtxt``` bewerkstelligen."
   ]
  },
  {
   "cell_type": "code",
   "execution_count": 117,
   "metadata": {},
   "outputs": [
    {
     "name": "stdout",
     "output_type": "stream",
     "text": [
      "[(\"b'Netherlands'\", 393,  41526, 16928800)\n",
      " (\"b'Belgium'\", 337,  30510, 11007020)\n",
      " (\"b'United Kingdom'\", 256, 243610, 62262000)\n",
      " (\"b'Germany'\", 233, 357021, 81799600)\n",
      " (\"b'Liechtenstein'\", 205,    160,    32842)\n",
      " (\"b'Italy'\", 192, 301230, 59715625)\n",
      " (\"b'Switzerland'\", 177,  41290,  7301994)\n",
      " (\"b'Luxembourg'\", 173,   2586,   512000)\n",
      " (\"b'France'\", 111, 547030, 63601002)\n",
      " (\"b'Austria'\",  97,  83858,  8169929)\n",
      " (\"b'Greece'\",  81, 131940, 11606813)\n",
      " (\"b'Ireland'\",  65,  70280,  4581269)\n",
      " (\"b'Sweden'\",  20, 449964,  9515744)\n",
      " (\"b'Finland'\",  16, 338424,  5410233)\n",
      " (\"b'Norway'\",  13, 385252,  5033675)]\n"
     ]
    }
   ],
   "source": [
    "dt = np.dtype([('country', np.unicode, 20), \n",
    "               ('density', 'i4'), \n",
    "               ('area', 'i4'), \n",
    "               ('population', 'i4')])\n",
    "\n",
    "x = np.genfromtxt(\"population_table.csv\",\n",
    "               dtype=dt,\n",
    "               delimiter=\";\")\n",
    "\n",
    "print(x)"
   ]
  },
  {
   "cell_type": "markdown",
   "metadata": {},
   "source": [
    "Statt ```genfromtxt``` kann man auch ```loadtxt``` verwenden:"
   ]
  },
  {
   "cell_type": "code",
   "execution_count": 118,
   "metadata": {},
   "outputs": [
    {
     "name": "stdout",
     "output_type": "stream",
     "text": [
      "[(\"b'Netherlands'\", 393,  41526, 16928800)\n",
      " (\"b'Belgium'\", 337,  30510, 11007020)\n",
      " (\"b'United Kingdom'\", 256, 243610, 62262000)\n",
      " (\"b'Germany'\", 233, 357021, 81799600)\n",
      " (\"b'Liechtenstein'\", 205,    160,    32842)\n",
      " (\"b'Italy'\", 192, 301230, 59715625)\n",
      " (\"b'Switzerland'\", 177,  41290,  7301994)\n",
      " (\"b'Luxembourg'\", 173,   2586,   512000)\n",
      " (\"b'France'\", 111, 547030, 63601002)\n",
      " (\"b'Austria'\",  97,  83858,  8169929)\n",
      " (\"b'Greece'\",  81, 131940, 11606813)\n",
      " (\"b'Ireland'\",  65,  70280,  4581269)\n",
      " (\"b'Sweden'\",  20, 449964,  9515744)\n",
      " (\"b'Finland'\",  16, 338424,  5410233)\n",
      " (\"b'Norway'\",  13, 385252,  5033675)]\n"
     ]
    }
   ],
   "source": [
    "dt = np.dtype([('country', \n",
    "                np.unicode, 25), \n",
    "               ('density', 'i4'), \n",
    "               ('area', 'i4'), \n",
    "               ('population', 'i4')])\n",
    "\n",
    "x = np.loadtxt(\"population_table.csv\",\n",
    "               dtype=dt,\n",
    "               delimiter=\";\")\n",
    "\n",
    "print(x)"
   ]
  },
  {
   "cell_type": "markdown",
   "metadata": {},
   "source": [
    "<br><br>\n",
    "\n",
    "### Unicode-Strings in Arrays\n",
    "\n",
    "Wir hatten ja bereits darauf hingewiesen, dass die Strings in unserem vorigen Beispielarray ein kleines ```b``` als Präfix hatten. Dies kam dadurch, dass wir in unserer ```dtype```-Definition ```('country', 'S20')```  geschrieben und dadurch unsere Ländernamen als Binärstrings definiert hatten. \n",
    "\n",
    "Um Unicode-Strings zu erhalten, müssen wir die Definition in  ```('country', np.unicode, 20)``` umändern. Wir ändern die Definition für ```population_table``` wie folgt:"
   ]
  },
  {
   "cell_type": "code",
   "execution_count": 119,
   "metadata": {
    "scrolled": true
   },
   "outputs": [
    {
     "name": "stdout",
     "output_type": "stream",
     "text": [
      "[('Netherlands', 393,  41526, 16928800) ('Belgium', 337,  30510, 11007020)\n",
      " ('United Kingdom', 256, 243610, 62262000)\n",
      " ('Germany', 233, 357021, 81799600)]\n"
     ]
    }
   ],
   "source": [
    "dt = np.dtype([('country', np.unicode, 25), \n",
    "               ('density', 'i4'), \n",
    "               ('area', 'i4'), \n",
    "               ('population', 'i4')])\n",
    "population_table = np.array([\n",
    "    ('Netherlands', 393, 41526, 16928800),\n",
    "    ('Belgium', 337, 30510, 11007020),\n",
    "    ('United Kingdom', 256, 243610, 62262000),\n",
    "    ('Germany', 233, 357021, 81799600),\n",
    "    ('Liechtenstein', 205, 160, 32842),\n",
    "    ('Italy', 192, 301230, 59715625),\n",
    "    ('Switzerland', 177, 41290, 7301994),\n",
    "    ('Luxembourg', 173, 2586, 512000),\n",
    "    ('France', 111, 547030, 63601002),\n",
    "    ('Austria', 97, 83858, 8169929),\n",
    "    ('Greece', 81, 131940, 11606813),\n",
    "    ('Ireland', 65, 70280, 4581269),\n",
    "    ('Sweden', 20, 449964, 9515744),\n",
    "    ('Finland', 16, 338424, 5410233),\n",
    "    ('Norway', 13, 385252, 5033675)],\n",
    "    dtype=dt)\n",
    "print(population_table[:4])"
   ]
  },
  {
   "cell_type": "markdown",
   "metadata": {},
   "source": [
    "### Umbenennen von Spaltennamen\n",
    "\n",
    "\n",
    "Nun wollen wir die Spaltennamen in deutsche Bezeichnungen umbenennen. Auf die Spaltennamen kann man mit der Property ```names```  von dtype zugreifen:"
   ]
  },
  {
   "cell_type": "code",
   "execution_count": 120,
   "metadata": {},
   "outputs": [
    {
     "name": "stdout",
     "output_type": "stream",
     "text": [
      "('country', 'density', 'area', 'population')\n"
     ]
    }
   ],
   "source": [
    "print(population_table.dtype.names)"
   ]
  },
  {
   "cell_type": "markdown",
   "metadata": {},
   "source": [
    "Das Umbenennen gestaltet sich denkbar einfach. Man weist dieser Property einfach ein neues Tupel mit den neuen Namen zu:"
   ]
  },
  {
   "cell_type": "code",
   "execution_count": 121,
   "metadata": {},
   "outputs": [
    {
     "name": "stdout",
     "output_type": "stream",
     "text": [
      "['Netherlands' 'Belgium' 'United Kingdom' 'Germany' 'Liechtenstein'\n",
      " 'Italy' 'Switzerland' 'Luxembourg' 'France' 'Austria' 'Greece' 'Ireland'\n",
      " 'Sweden' 'Finland' 'Norway']\n"
     ]
    }
   ],
   "source": [
    "population_table.dtype.names = ('Land', \n",
    "                                'Bevölkerungsdichte', \n",
    "                                'Fläche', \n",
    "                                'Bevölkerung')\n",
    "\n",
    "print(population_table['Land'])"
   ]
  },
  {
   "cell_type": "markdown",
   "metadata": {},
   "source": [
    "### Spaltenwerte austauschen\n",
    "\n",
    "Nun wollen wir auch die Ländernamen von Englisch nach Deutsch übersetzen. Dazu erzeugen wir eine Liste ```lands```. Wir können diese mit ```np.array``` in ein Array wandeln und dann die bisherige Spalte ```population_table['Land']``` komplett austauschen:"
   ]
  },
  {
   "cell_type": "code",
   "execution_count": 122,
   "metadata": {},
   "outputs": [
    {
     "name": "stdout",
     "output_type": "stream",
     "text": [
      "[('Niederlande', 393,  41526, 16928800) ('Belgien', 337,  30510, 11007020)\n",
      " ('Vereinigtes Königreich', 256, 243610, 62262000)\n",
      " ('Deutschland', 233, 357021, 81799600)\n",
      " ('Liechtenstein', 205,    160,    32842)\n",
      " ('Italien', 192, 301230, 59715625) ('Schweiz', 177,  41290,  7301994)\n",
      " ('Luxemburg', 173,   2586,   512000)\n",
      " ('Frankreich', 111, 547030, 63601002)\n",
      " ('Österreich',  97,  83858,  8169929)\n",
      " ('Griechenland',  81, 131940, 11606813) ('Irland',  65,  70280,  4581269)\n",
      " ('Schweden',  20, 449964,  9515744) ('Finnland',  16, 338424,  5410233)\n",
      " ('Norwegen',  13, 385252,  5033675)]\n"
     ]
    }
   ],
   "source": [
    "lands = ['Niederlande', 'Belgien', 'Vereinigtes Königreich', \n",
    "         'Deutschland', 'Liechtenstein', 'Italien', 'Schweiz', \n",
    "         'Luxemburg', 'Frankreich', 'Österreich', 'Griechenland', \n",
    "         'Irland', 'Schweden', 'Finnland', 'Norwegen']\n",
    "\n",
    "population_table['Land'] = np.array(lands, dtype='<U25')\n",
    "\n",
    "print(population_table)"
   ]
  },
  {
   "cell_type": "markdown",
   "metadata": {},
   "source": [
    "<br>\n",
    "\n",
    "### Komplexeres Beispiel\n",
    "\n",
    "In den bisherigen Beispielen haben wir unsere Arrays direkt erzeugt. Normalerweise müssen wir uns jedoch die Daten für unsere strukturierten Arrays aus Datenbanken oder Dateien beschaffen.\n",
    "\n",
    "Wir werden nun die Liste benutzen, die wir im Kapitel über [Dateimanagement](python3_dateien.php) erzeugt und gespeichert hatten. Die Liste hatten wir mit Hilfe von pickle.dumpy in der Datei cities_and_times.pkl gespeichert.\n",
    "\n",
    "\n",
    "\n",
    "\n",
    "Die erste Aufgabe besteht also darin, diese Datei wieder zu ent\"pickeln\":"
   ]
  },
  {
   "cell_type": "code",
   "execution_count": 134,
   "metadata": {},
   "outputs": [
    {
     "name": "stdout",
     "output_type": "stream",
     "text": [
      "('Amsterdam', 'Sun', (8, 52))\n",
      "('Anchorage', 'Sat', (23, 52))\n",
      "('Ankara', 'Sun', (10, 52))\n",
      "('Athens', 'Sun', (9, 52))\n",
      "('Atlanta', 'Sun', (2, 52))\n"
     ]
    }
   ],
   "source": [
    "import pickle\n",
    "fh = open(\"cities_and_times.pkl\", \"br\")\n",
    "cities_and_times = pickle.load(fh)\n",
    "for i in range(5):\n",
    "    print(cities_and_times[i])"
   ]
  },
  {
   "cell_type": "markdown",
   "metadata": {},
   "source": [
    "Nun wandeln wir unsere Daten in ein strukturiertes Array:"
   ]
  },
  {
   "cell_type": "code",
   "execution_count": 124,
   "metadata": {},
   "outputs": [
    {
     "name": "stdout",
     "output_type": "stream",
     "text": [
      "[('Amsterdam', 'Sun', ( 8, 52)) ('Anchorage', 'Sat', (23, 52))\n",
      " ('Ankara', 'Sun', (10, 52)) ('Athens', 'Sun', ( 9, 52))]\n"
     ]
    }
   ],
   "source": [
    "time_type = np.dtype([('city', 'U30'), \n",
    "                      ('day', 'U3'), \n",
    "                      ('time', [('h', int), ('min', int)])])\n",
    "\n",
    "times = np.array( cities_and_times , dtype=time_type)\n",
    "print(times[:4])"
   ]
  },
  {
   "cell_type": "code",
   "execution_count": 125,
   "metadata": {},
   "outputs": [
    {
     "name": "stdout",
     "output_type": "stream",
     "text": [
      "[('Amsterdam', 'Sun', '08:52') ('Anchorage', 'Sat', '23:52')\n",
      " ('Ankara', 'Sun', '10:52') ('Athens', 'Sun', '09:52')\n",
      " ('Atlanta', 'Sun', '02:52') ('Auckland', 'Sun', '20:52')\n",
      " ('Barcelona', 'Sun', '08:52') ('Beirut', 'Sun', '09:52')\n",
      " ('Berlin', 'Sun', '08:52') ('Boston', 'Sun', '02:52')]\n"
     ]
    }
   ],
   "source": [
    "lst = []\n",
    "for row in times:\n",
    "    t = row[2]\n",
    "    t = f\"{t[0]:02d}:{t[1]:02d}\"\n",
    "    lst.append((row[0], row[1], t))\n",
    "\n",
    "time_type = np.dtype([('city', 'U30'), \n",
    "                      ('day', 'U3'), \n",
    "                      ('time', 'U5')])\n",
    "times2 = np.array( lst , dtype=time_type)\n",
    "\n",
    "print(times2[:10])"
   ]
  },
  {
   "cell_type": "markdown",
   "metadata": {},
   "source": [
    "Nun wollen wir diese Daten in einer csv-Datei speichern. Leider können wir die Funktion ```np.savetxt``` nicht nutzen, da diese Funktion nicht mit Unicode-Strings zurechtkommt. Wir benutzen deshalb die normale ```write```-Methode eines File-Streams:"
   ]
  },
  {
   "cell_type": "code",
   "execution_count": 126,
   "metadata": {},
   "outputs": [],
   "source": [
    "with open(\"cities_and_times.csv\", \"w\") as fh:\n",
    "    for city_data in times2:\n",
    "        fh.write(\",\".join(city_data) + \"\\n\")"
   ]
  },
  {
   "cell_type": "markdown",
   "metadata": {},
   "source": []
  },
  {
   "cell_type": "code",
   "execution_count": 127,
   "metadata": {},
   "outputs": [
    {
     "name": "stdout",
     "output_type": "stream",
     "text": [
      "(45765, 439.93)\n",
      "[34765 45765 99661 12129]\n",
      "344.19\n",
      "[(34765, 603.76) (45765, 439.93) (99661, 344.19) (12129, 129.39)]\n",
      "(4,)\n"
     ]
    }
   ],
   "source": [
    "# prog4book\n",
    "import numpy as np\n",
    "\n",
    "mytype = [('produktNr', np.int32), ('preise', np.float64)]\n",
    "\n",
    "produkte = np.array([(34765, 603.76), \n",
    "                     (45765, 439.93),\n",
    "                     (99661, 344.19),\n",
    "                     (12129, 129.39)], dtype=mytype)\n",
    "\n",
    "print(produkte[1])\n",
    "print(produkte[\"produktNr\"])\n",
    "print(produkte[2][\"preise\"])\n",
    "print(produkte)\n",
    "print(produkte.shape)"
   ]
  },
  {
   "cell_type": "markdown",
   "metadata": {},
   "source": [
    "\n"
   ]
  },
  {
   "cell_type": "code",
   "execution_count": 128,
   "metadata": {},
   "outputs": [
    {
     "name": "stdout",
     "output_type": "stream",
     "text": [
      "Erlöse pro Item:  [1811.28 2199.65  688.38  129.39]\n",
      "Gesamterlös:  4828.700000000001\n"
     ]
    }
   ],
   "source": [
    "# prog4book\n",
    "verkaufszahlen = np.array([3, 5, 2, 1])\n",
    "\n",
    "erlöse = produkte[\"preise\"] * verkaufszahlen\n",
    "\n",
    "print(\"Erlöse pro Item: \", erlöse)\n",
    "print(\"Gesamterlös: \", erlöse.sum())"
   ]
  },
  {
   "cell_type": "markdown",
   "metadata": {},
   "source": [
    "\n",
    "\n"
   ]
  },
  {
   "cell_type": "code",
   "execution_count": 129,
   "metadata": {},
   "outputs": [
    {
     "name": "stdout",
     "output_type": "stream",
     "text": [
      "[(11, 38, 5) (14, 56, 0) ( 3,  9, 1)]\n",
      "[11 14  3]\n",
      "[38 56  9]\n",
      "[5 0 1]\n"
     ]
    }
   ],
   "source": [
    "# prog4book\n",
    "time_type = np.dtype( [('h', int), \n",
    "                       ('min', int), \n",
    "                       ('sec', int)])\n",
    "\n",
    "times = np.array([(11, 38, 5), \n",
    "                  (14, 56, 0),\n",
    "                  ( 3,  9, 1)], dtype=time_type)\n",
    "print(times)\n",
    "print(times['h'])\n",
    "print(times['min'])\n",
    "print(times['sec'])"
   ]
  },
  {
   "cell_type": "markdown",
   "metadata": {},
   "source": []
  },
  {
   "cell_type": "code",
   "execution_count": 130,
   "metadata": {},
   "outputs": [
    {
     "data": {
      "text/plain": [
       "array([[11, 38,  5],\n",
       "       [14, 56,  0],\n",
       "       [ 3,  9,  1]])"
      ]
     },
     "execution_count": 130,
     "metadata": {},
     "output_type": "execute_result"
    }
   ],
   "source": [
    "# prog4book\n",
    "np.column_stack((times['h'], \n",
    "                 times['min'], \n",
    "                 times['sec']))"
   ]
  },
  {
   "cell_type": "markdown",
   "metadata": {},
   "source": []
  },
  {
   "cell_type": "code",
   "execution_count": 131,
   "metadata": {},
   "outputs": [
    {
     "name": "stdout",
     "output_type": "stream",
     "text": [
      "[((11, 42, 17), 20.8) ((13, 19,  3), 23.2) ((14, 50, 29), 24.6)]\n",
      "[(11, 42, 17) (13, 19,  3) (14, 50, 29)]\n",
      "[11 13 14]\n",
      "[20.8 23.2 24.6]\n"
     ]
    }
   ],
   "source": [
    "# prog4book\n",
    "time_temp_type = np.dtype( np.dtype([('time', [('h', int), ('min', int), ('sec', int)]),\n",
    "                                ('temperature', float)] ))\n",
    "\n",
    "time_temp = np.array( [((11, 42, 17), 20.8), \n",
    "                       ((13, 19,  3), 23.2),\n",
    "                       ((14, 50, 29), 24.6)], dtype=time_temp_type)\n",
    "print(time_temp)\n",
    "print(time_temp['time'])\n",
    "print(time_temp['time']['h'])\n",
    "print(time_temp['temperature'])"
   ]
  },
  {
   "cell_type": "markdown",
   "metadata": {},
   "source": []
  },
  {
   "cell_type": "code",
   "execution_count": 132,
   "metadata": {},
   "outputs": [
    {
     "name": "stdout",
     "output_type": "stream",
     "text": [
      "11:42:17 20.8\n",
      "13:19:03 23.2\n",
      "14:50:29 24.6\n"
     ]
    }
   ],
   "source": [
    "# prog4book\n",
    "with open(\"time_temp.csv\", \"w\") as fh:\n",
    "    for row in time_temp:\n",
    "        zeit = [f\"{el:02d}\" for el in row[0]]\n",
    "        zeit = \":\".join(zeit)\n",
    "        fh.write(zeit + \" \" + str(row[1]) + \"\\n\")\n",
    "        \n",
    "!cat time_temp.csv"
   ]
  },
  {
   "cell_type": "markdown",
   "metadata": {},
   "source": [
    "\n"
   ]
  }
 ],
 "metadata": {
  "anaconda-cloud": {},
  "kernelspec": {
   "display_name": "Python 3 (ipykernel)",
   "language": "python",
   "name": "python3"
  },
  "language_info": {
   "codemirror_mode": {
    "name": "ipython",
    "version": 3
   },
   "file_extension": ".py",
   "mimetype": "text/x-python",
   "name": "python",
   "nbconvert_exporter": "python",
   "pygments_lexer": "ipython3",
   "version": "3.9.12"
  },
  "toc": {
   "base_numbering": 1,
   "nav_menu": {},
   "number_sections": true,
   "sideBar": true,
   "skip_h1_title": false,
   "title_cell": "Table of Contents",
   "title_sidebar": "Contents",
   "toc_cell": false,
   "toc_position": {},
   "toc_section_display": true,
   "toc_window_display": false
  }
 },
 "nbformat": 4,
 "nbformat_minor": 2
}
