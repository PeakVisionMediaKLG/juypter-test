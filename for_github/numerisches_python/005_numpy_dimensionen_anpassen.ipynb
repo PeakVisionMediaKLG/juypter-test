{
 "cells": [
  {
   "cell_type": "code",
   "execution_count": 43,
   "metadata": {},
   "outputs": [],
   "source": [
    "# invisible\n",
    "import numpy as np\n",
    "np.core.arrayprint._line_width = 65"
   ]
  },
  {
   "cell_type": "markdown",
   "metadata": {},
   "source": [
    "## Dimensionsänderungen\n",
    "\n",
    "<br>\n",
    "\n",
    "\n",
    "\n",
    ""
   ]
  },
  {
   "cell_type": "markdown",
   "metadata": {},
   "source": [
    "\n",
    "\n",
    "\n",
    "\n",
    "<img width=\"50%\" class=\"imgright\" src=\"../images/tesseract.webp\" srcset=\"../images/tesseract_400w.webp 400w,../images/tesseract_350w.webp 350w,../images/tesseract_300w.webp 300w\" alt=\"Tesserakt\" />\n",
    "\n",
    "Bisher lernten wir, wie man Arrays erzeugt und wie wir numerische Operationen auf NumPy Arrays anwenden können. Wenn wir mit NumPy programmieren, kommen wir früher oder später zu dem Punkt, wo wir Funktionen benötigen, um die Gestalt (shape) und die Dimension von Arrays zu manipulieren. Die dazu nötigen Funktionalitäten lernen wir in diesem Kapitel kennen. Wir werden auch lernen, wie man Arrays zusammenhängt bzw. konkateniert. Weiterhin werden wir die Möglichkeiten demonstrieren, wie man weitere Dimensionen an existierende Arrays anhängen kann und wie man mehrere Arrays horizontal und vertikal \"stapeln\" (stack) kann. Dieses Kapitel beenden wir, indem wir zeigen, wie man neue Arrays durch Wiederholungen aus existierenden Arrays erzeugen kann.\n",
    "\n",
    "Das Bild zeigt einen Tesserakt, den man auch als vierdimensionalen Hyperwürfel bezeichnet. Ein Tesserakt kann man als die Übertragung des Konzeptes eines dreimensionalen Würfels in den vierdimensionalen Raum sehen. Ein Tesserakt verhält sich zum Würfel wie ein Würfel zum Quadrat. \n",
    "\n",
    "\n",
    "\n",
    "\n",
    "### Reduktion und Reshape von Arrays\n"
   ]
  },
  {
   "cell_type": "markdown",
   "metadata": {},
   "source": [
    "Es gibt mehrere Methoden, um ein multidimensionales Array zu reduzieren:\n",
    "\n",
    "-    ```flatten```\n",
    "-    ```ravel```\n",
    "-    ```reshape```\n"
   ]
  },
  {
   "cell_type": "markdown",
   "metadata": {},
   "source": [
    "#### flatten\n",
    "\n",
    "\n",
    ""
   ]
  },
  {
   "cell_type": "markdown",
   "metadata": {},
   "source": [
    "```flatten``` ist eine ndarray-Methode mit einem optionalen Parameter ```order```, der die Werte ```C```, ```F``` und ```A``` annehmen kann.\n",
    "Der Default-Wert von ```order``` ist ```C```.\n",
    "<br>\n",
    "```C``` steht dafür, dass im C-Stil in der Zeilen-Haupt-Ordnung linearisiert bzw. flach gemacht wird, d.h. der am weitesten rechts liegende Index \"ändert sich am schnellsten\". In anderen Worten: Der Zeilenindex variiert in der Zeilen-Haupt-Ordnung am langsamsten und am Spaltenindex am schnellsten, sodass ```a[0, 1]``` auf ```a[0, 0]``` folgt.\n",
    "<br>\n",
    "```F``` steht für \"Fortran Spalten-Haupt-Ordnung\".\n",
    "<br>\n",
    "```A``` steht für den Erhalt der \"C/Fortran-Anordnung\"."
   ]
  },
  {
   "cell_type": "code",
   "execution_count": 44,
   "metadata": {},
   "outputs": [
    {
     "name": "stdout",
     "output_type": "stream",
     "text": [
      "[ 0  1  2  3  4  5  6  7  8  9 10 11 12 13 14 15 16 17 18 19 20 21 22 23]\n",
      "[ 0  1  2  3  4  5  6  7  8  9 10 11 12 13 14 15 16 17 18 19 20 21 22 23]\n",
      "[ 0  8 16  2 10 18  4 12 20  6 14 22  1  9 17  3 11 19  5 13 21  7 15 23]\n",
      "[ 0  1  2  3  4  5  6  7  8  9 10 11 12 13 14 15 16 17 18 19 20 21 22 23]\n"
     ]
    }
   ],
   "source": [
    "import numpy as np\n",
    "\n",
    "A = np.array([[[ 0,  1],\n",
    "               [ 2,  3],\n",
    "               [ 4,  5],\n",
    "               [ 6,  7]],\n",
    "              [[ 8,  9],\n",
    "               [10, 11],\n",
    "               [12, 13],\n",
    "               [14, 15]],\n",
    "              [[16, 17],\n",
    "               [18, 19],\n",
    "               [20, 21],\n",
    "               [22, 23]]])\n",
    "\n",
    "Flattened_X = A.flatten()\n",
    "print(Flattened_X)\n",
    "\n",
    "print(A.flatten(order=\"C\"))\n",
    "print(A.flatten(order=\"F\"))\n",
    "print(A.flatten(order=\"A\"))"
   ]
  },
  {
   "cell_type": "markdown",
   "metadata": {},
   "source": [
    "#### ravel"
   ]
  },
  {
   "cell_type": "markdown",
   "metadata": {},
   "source": [
    "\n",
    "\n",
    "Die Reihenfolge der Elemente, die durch ravel() zurückgeliefert wird, ist standardmäßig im \"C-Stil\".\n",
    "\n",
    "```ravel(X, order='C')```\n",
    "\n",
    "```ravel``` erzeugt ein linearisiertes, also eindimensionales, Array .\n",
    "Eine Kopie wird nur bei Notwendigkeit erstellt.\n",
    "\n",
    "Der optionale Parameter ```order``` kann die Werte ```C```, ```F```, ```A``` oder ```K``` annehmen.\n",
    "\n",
    "```C```: C-Stil Reihenfolge, wobei sich der letzte Achsenindex am schnellsten ändert, zurück zum ersten Achsenindex, der sich am langsamsten ändert. \n",
    "```C``` ist der Default-Wert.\n",
    "\n",
    "```F```: Fortran-Stil Indexreihenfolge, wobei sich der erste Index am schnellsten ändert und der letzte Index am langsamsten.\n",
    "\n",
    "```A```: Fortran-Stil Indexreihenfolge, wenn das Array 'a' im Speicher als Fortran vorliegt, andernfalls wird die C-Stil Reihenfolge verwendet.\n",
    "\n",
    "```K```: Die Elemente werden so gelesen, wie sie im Speicher vorkommen, außer für Datenumkehrung, wenn die Schrittweiten negativ sind."
   ]
  },
  {
   "cell_type": "code",
   "execution_count": 45,
   "metadata": {},
   "outputs": [
    {
     "name": "stdout",
     "output_type": "stream",
     "text": [
      "[ 0  1  2  3  4  5  6  7  8  9 10 11 12 13 14 15 16 17 18 19 20 21 22 23]\n",
      "[ 0  1  2  3  4  5  6  7  8  9 10 11 12 13 14 15 16 17 18 19 20 21 22 23]\n",
      "[ 0  8 16  2 10 18  4 12 20  6 14 22  1  9 17  3 11 19  5 13 21  7 15 23]\n",
      "[ 0  1  2  3  4  5  6  7  8  9 10 11 12 13 14 15 16 17 18 19 20 21 22 23]\n",
      "[ 0  1  2  3  4  5  6  7  8  9 10 11 12 13 14 15 16 17 18 19 20 21 22 23]\n"
     ]
    }
   ],
   "source": [
    "print(A.ravel())\n",
    "\n",
    "print(A.ravel(order=\"A\"))\n",
    "\n",
    "print(A.ravel(order=\"F\"))\n",
    "\n",
    "print(A.ravel(order=\"A\"))\n",
    "\n",
    "print(A.ravel(order=\"K\"))"
   ]
  },
  {
   "cell_type": "markdown",
   "metadata": {},
   "source": [
    "#### Unterschiede zwischen ravel und flatten\n",
    "\n",
    "- ```ravel``` liefert in der Regel keine Kopie, sondern eine auf die Dimension angepasste View auf das Originalarray zurück. \n",
    "- ```flatten``` liefert immer eine Kopie zurück.\n",
    "- ```ravel``` ist schneller als ```flatten```, weil es keine Kopie erzeugen muss.\n",
    "\n",
    "Wir zeigen dies in Beispielen:\n"
   ]
  },
  {
   "cell_type": "code",
   "execution_count": 46,
   "metadata": {},
   "outputs": [
    {
     "name": "stdout",
     "output_type": "stream",
     "text": [
      "B: \n",
      " [ 1  2  3  4 42  6]\n",
      "A: \n",
      " [[1 2 3]\n",
      " [4 5 6]]\n",
      "False\n",
      "\n",
      "... und jetzt das Ganze mit ravel:\n",
      "B: \n",
      " [ 1  2  3  4 42  6]\n",
      "A: \n",
      " [[ 1  2  3]\n",
      " [ 4 42  6]]\n",
      "True\n"
     ]
    }
   ],
   "source": [
    "import numpy as np\n",
    "\n",
    "A = np.array([[1, 2, 3],\n",
    "              [4, 5, 6]])\n",
    "\n",
    "B = A.flatten()\n",
    "B[4] = 42\n",
    "\n",
    "print(\"B: \\n\", B)\n",
    "print(\"A: \\n\", A)\n",
    "print(np.may_share_memory(A, B))\n",
    "\n",
    "print(\"\\n... und jetzt das Ganze mit ravel:\")\n",
    "B = A.ravel()\n",
    "B[4] = 42\n",
    "\n",
    "print(\"B: \\n\", B)\n",
    "print(\"A: \\n\", A)\n",
    "print(np.may_share_memory(A, B))\n"
   ]
  },
  {
   "cell_type": "markdown",
   "metadata": {},
   "source": [
    "#### reshape"
   ]
  },
  {
   "cell_type": "markdown",
   "metadata": {},
   "source": [
    "\n",
    "\n",
    "Die ```reshape```-Methode wandelt ein Array in eine neue Gestalt, englisch ,,Shape'', ohne die darin enthaltenen Daten zu ändern, d.h. die eigentlichen Daten müssen nicht kopiert werden.\n",
    "\n",
    "\n",
    "```reshape(a, newshape, order='C')```\n",
    "\n",
    "\n",
    "| Parameter  |  Bedeutung |\n",
    "|------------|----------|\n",
    "| a | array-ähnlich,  Array, das geändert werden soll.|\n",
    "| newshape | Integer-Wert oder Integer-Tupel|\n",
    "| order |'C', 'F', 'A', wie in flatten() oder ravel() |\n",
    "\n",
    "\n",
    "Mittels ```reshape``` können wir ein Array auch linearisieren:"
   ]
  },
  {
   "cell_type": "code",
   "execution_count": 47,
   "metadata": {},
   "outputs": [
    {
     "name": "stdout",
     "output_type": "stream",
     "text": [
      "[1 2 3 4 5 6]\n"
     ]
    }
   ],
   "source": [
    "A = np.array([[1, 2, 3],\n",
    "              [4, 5, 6]])\n",
    "\n",
    "B = A.reshape((6,))\n",
    "print(B)"
   ]
  },
  {
   "cell_type": "markdown",
   "metadata": {},
   "source": [
    "Damit kann ```reshape``` die Aufgaben von ```ravel``` und ```flatten``` übernehmen. ```reshape``` kann aber noch mehr. Wir können damit ein Array A in eine beliebige Gestalt ```x``` überführen, solange das Produkt der Shape-Komponenten von A gleich dem Produkt der Shape-Komponenten von ```x``` ist, also\n",
    "\n",
    "```np.prod(A.shape) == np.prod(x)```"
   ]
  },
  {
   "cell_type": "code",
   "execution_count": 48,
   "metadata": {},
   "outputs": [
    {
     "name": "stdout",
     "output_type": "stream",
     "text": [
      "[[[ 0  1]\n",
      "  [ 2  3]\n",
      "  [ 4  5]\n",
      "  [ 6  7]]\n",
      "\n",
      " [[ 8  9]\n",
      "  [10 11]\n",
      "  [12 13]\n",
      "  [14 15]]\n",
      "\n",
      " [[16 17]\n",
      "  [18 19]\n",
      "  [20 21]\n",
      "  [22 23]]]\n",
      "[[[ 0  1  2  3]\n",
      "  [ 4  5  6  7]\n",
      "  [ 8  9 10 11]]\n",
      "\n",
      " [[12 13 14 15]\n",
      "  [16 17 18 19]\n",
      "  [20 21 22 23]]]\n"
     ]
    }
   ],
   "source": [
    "X = np.array(range(24))\n",
    "Y1 = X.reshape((3, 4, 2))\n",
    "print(Y1)\n",
    "new_shape = (2, 3, 4)\n",
    "Y2 = Y1.reshape(new_shape)\n",
    "print(Y2)\n"
   ]
  },
  {
   "cell_type": "markdown",
   "metadata": {},
   "source": [
    "Es gilt:"
   ]
  },
  {
   "cell_type": "code",
   "execution_count": 49,
   "metadata": {},
   "outputs": [
    {
     "data": {
      "text/plain": [
       "True"
      ]
     },
     "execution_count": 49,
     "metadata": {},
     "output_type": "execute_result"
    }
   ],
   "source": [
    "np.prod(Y1.shape) == np.prod(new_shape)"
   ]
  },
  {
   "cell_type": "markdown",
   "metadata": {},
   "source": [
    "<br>\n",
    "\n",
    "### Konkatenation von Arrays\n",
    "\n",
    "\n",
    "\n",
    ""
   ]
  },
  {
   "cell_type": "markdown",
   "metadata": {},
   "source": [
    "Im folgenden Beispiel konkatenieren wir drei eindimensionale Arrays zu einem.\n",
    "Die Elemente des zweiten Arrays werden an das erste Array horizontal angefügt. Anschließend werden die Elemente des dritten Arrays ebenfalls horizontal angefügt:"
   ]
  },
  {
   "cell_type": "code",
   "execution_count": 50,
   "metadata": {},
   "outputs": [
    {
     "name": "stdout",
     "output_type": "stream",
     "text": [
      "[11 22 18  7  6  1  3  5]\n"
     ]
    }
   ],
   "source": [
    "x = np.array([11, 22])\n",
    "y = np.array([18, 7, 6])\n",
    "z = np.array([1, 3, 5])\n",
    "c = np.concatenate((x, y, z))\n",
    "print(c)"
   ]
  },
  {
   "cell_type": "markdown",
   "metadata": {},
   "source": [
    "Wenn wir multidimensionale Arrays zusammenführen, müssen wir auf die Achsen achten.\n",
    "Die Arrays müssen die gleiche Shape haben, um mit ```concatenate``` zusammen gefügt werden zu können.\n",
    "Bei multidimensionalen Arrays können wir diese entsprechend anordnen. Der Default-Wert ist ```axis = 0```: "
   ]
  },
  {
   "cell_type": "code",
   "execution_count": 51,
   "metadata": {},
   "outputs": [
    {
     "name": "stdout",
     "output_type": "stream",
     "text": [
      "[[  0   1   2   3]\n",
      " [  4   5   6   7]\n",
      " [  8   9  10  11]\n",
      " [100 101 102 103]\n",
      " [104 105 106 107]\n",
      " [108 109 110 111]]\n"
     ]
    }
   ],
   "source": [
    "x = np.array(range(12))\n",
    "x = x.reshape((3, 4))\n",
    "y = np.array(range(100, 112))\n",
    "y = y.reshape((3, 4))\n",
    "z = np.concatenate((x, y))\n",
    "print(z)"
   ]
  },
  {
   "cell_type": "markdown",
   "metadata": {},
   "source": [
    "Wir führen die Zusammenführung nun mit ```axis = 1``` durch:"
   ]
  },
  {
   "cell_type": "code",
   "execution_count": 52,
   "metadata": {},
   "outputs": [
    {
     "name": "stdout",
     "output_type": "stream",
     "text": [
      "[[  0   1   2   3 100 101 102 103]\n",
      " [  4   5   6   7 104 105 106 107]\n",
      " [  8   9  10  11 108 109 110 111]]\n"
     ]
    }
   ],
   "source": [
    "z = np.concatenate((x, y), axis=1)\n",
    "print(z)"
   ]
  },
  {
   "cell_type": "markdown",
   "metadata": {},
   "source": [
    "<br>\n",
    "\n",
    "### Weitere Dimensionen hinzufügen"
   ]
  },
  {
   "cell_type": "markdown",
   "metadata": {},
   "source": [
    "\n",
    "\n",
    "Weitere Dimensionen können zu einem Array mit Hilfe von Slicing und ```np.newaxis``` hinzugefügt werden.\n",
    "Wir demonstrieren die Technik im folgenden Beispiel:"
   ]
  },
  {
   "cell_type": "code",
   "execution_count": 53,
   "metadata": {},
   "outputs": [
    {
     "name": "stdout",
     "output_type": "stream",
     "text": [
      "[[ 2]\n",
      " [ 5]\n",
      " [18]\n",
      " [14]\n",
      " [ 4]]\n"
     ]
    }
   ],
   "source": [
    "x = np.array([2,5,18,14,4])\n",
    "y = x[:, np.newaxis]\n",
    "print(y)"
   ]
  },
  {
   "cell_type": "markdown",
   "metadata": {},
   "source": [
    "Das gleiche Resultat lässt sich auch mit ```reshape``` bewerkstelligen:"
   ]
  },
  {
   "cell_type": "code",
   "execution_count": 54,
   "metadata": {},
   "outputs": [
    {
     "name": "stdout",
     "output_type": "stream",
     "text": [
      "[[ 2]\n",
      " [ 5]\n",
      " [18]\n",
      " [14]\n",
      " [ 4]]\n"
     ]
    }
   ],
   "source": [
    "x = np.array([2,5,18,14,4])\n",
    "y = x.reshape( (x.shape[0], 1) )\n",
    "print(y)"
   ]
  },
  {
   "cell_type": "markdown",
   "metadata": {},
   "source": [
    "<br><br>\n",
    "\n",
    "### Vektoren stapeln"
   ]
  },
  {
   "cell_type": "code",
   "execution_count": 55,
   "metadata": {},
   "outputs": [
    {
     "name": "stdout",
     "output_type": "stream",
     "text": [
      "Elemente von A:\n",
      "3, 4, 5, \n",
      "Elemente von B:\n",
      "1, 9, 0, "
     ]
    }
   ],
   "source": [
    "A = np.array([[3, 4, 5]])\n",
    "B = np.array([[1,9,0]])\n",
    "\n",
    "C = np.dstack((A, B))\n",
    "\n",
    "print(\"Elemente von A:\")\n",
    "for i in range(C.shape[1]):\n",
    "    print(C[0, i, 0], end=\", \")\n",
    "print(\"\\nElemente von B:\")\n",
    "for i in range(C.shape[1]):\n",
    "    print(C[0, i, 1], end=\", \")"
   ]
  },
  {
   "cell_type": "markdown",
   "metadata": {},
   "source": [
    "Wir können sehen, dass wir den i-ten Eingabevektor von C erhalten, indem wir den Ausdruck ```C[:, :, i]``` ausführen:"
   ]
  },
  {
   "cell_type": "code",
   "execution_count": 56,
   "metadata": {},
   "outputs": [
    {
     "name": "stdout",
     "output_type": "stream",
     "text": [
      "Erster Eingabevektor, d.h. A: [[3 4 5]]\n",
      "Zweiter Eingabevektor, d.h. B: [[1 9 0]]\n"
     ]
    }
   ],
   "source": [
    "print(\"Erster Eingabevektor, d.h. A:\", C[:, :, 0])\n",
    "print(\"Zweiter Eingabevektor, d.h. B:\", C[:, :, 1])"
   ]
  },
  {
   "cell_type": "markdown",
   "metadata": {},
   "source": [
    "\n",
    "\n",
    "\n",
    "Als Nächstes betrachten wir die Methoden ```row_stack``` und ```column_stack```:"
   ]
  },
  {
   "cell_type": "code",
   "execution_count": 57,
   "metadata": {},
   "outputs": [
    {
     "name": "stdout",
     "output_type": "stream",
     "text": [
      "[[3 4 5]\n",
      " [1 9 0]]\n",
      "[[3 1]\n",
      " [4 9]\n",
      " [5 0]]\n",
      "(3,)\n"
     ]
    }
   ],
   "source": [
    "A = np.array([3, 4, 5])\n",
    "B = np.array([1,9,0])\n",
    "\n",
    "print(np.row_stack((A, B)))\n",
    "\n",
    "print(np.column_stack((A, B)))\n",
    "print(np.shape(A))"
   ]
  },
  {
   "cell_type": "code",
   "execution_count": 58,
   "metadata": {},
   "outputs": [
    {
     "name": "stdout",
     "output_type": "stream",
     "text": [
      "[[1 2 1 2 1 2]\n",
      " [3 4 3 4 3 4]\n",
      " [1 2 1 2 1 2]\n",
      " [3 4 3 4 3 4]\n",
      " [1 2 1 2 1 2]\n",
      " [3 4 3 4 3 4]]\n"
     ]
    }
   ],
   "source": [
    "A = np.array([[1, 2],\n",
    "              [3, 4]])\n",
    "X = np.column_stack((A, A, A))\n",
    "print(np.row_stack((X, X, X)))     "
   ]
  },
  {
   "cell_type": "markdown",
   "metadata": {},
   "source": [
    ""
   ]
  },
  {
   "cell_type": "markdown",
   "metadata": {},
   "source": [
    "<br><br>\n",
    "\n",
    "### \"Fliesen\" mit \"tile\"\n",
    "\n",
    "\n",
    "Manchmal ist es nötig, eine Matrix zu erstellen (mit einer anderen Shape oder Dimension), die den Inhalt einer existierenden Matrix mehrfach enthält.\n",
    "\n",
    "Beispiel: \n",
    "\n",
    "Man möchte das eindimensionale Array ```array([ 3.4])``` in das Array ```array([ 3.4,  3.4,  3.4,  3.4,  3.4])``` wandeln.\n",
    "\n",
    "Weiteres Beispiel:\n",
    "\n",
    "Man möchte ein zweidimensionales Array, wie ```np.array([ [1, 2], [3, 4]])```, als Baustein benutzen, um ein Array mit der Shape (6, 8) zu erstellen:\n",
    "<pre>\n",
    "array([[1, 2, 1, 2, 1, 2, 1, 2],\n",
    "       [3, 4, 3, 4, 3, 4, 3, 4],\n",
    "       [1, 2, 1, 2, 1, 2, 1, 2],\n",
    "       [3, 4, 3, 4, 3, 4, 3, 4],\n",
    "       [1, 2, 1, 2, 1, 2, 1, 2],\n",
    "       [3, 4, 3, 4, 3, 4, 3, 4]])\n",
    "</pre>\n",
    "\n",
    "Die Konstruktionsidee ist im folgenden Diagramm dargestellt:\n",
    "\n",
    "\n",
    "\n",
    "\n",
    "\n",
    "<img src=\"../images/tiles_method.webp\" alt=\"Arbeitsweise der Tile-Methode\" />\n",
    "\n",
    "\n",
    "<br>\n"
   ]
  },
  {
   "cell_type": "code",
   "execution_count": 59,
   "metadata": {},
   "outputs": [
    {
     "name": "stdout",
     "output_type": "stream",
     "text": [
      "[[1 2 1 2 1 2 1 2]\n",
      " [3 4 3 4 3 4 3 4]\n",
      " [1 2 1 2 1 2 1 2]\n",
      " [3 4 3 4 3 4 3 4]\n",
      " [1 2 1 2 1 2 1 2]\n",
      " [3 4 3 4 3 4 3 4]]\n"
     ]
    }
   ],
   "source": [
    "import numpy as np\n",
    "x = np.array([ [1, 2], [3, 4]])\n",
    "print(np.tile(x, (3, 4)))"
   ]
  },
  {
   "cell_type": "code",
   "execution_count": 60,
   "metadata": {},
   "outputs": [
    {
     "name": "stdout",
     "output_type": "stream",
     "text": [
      "[3.4 3.4 3.4 3.4 3.4]\n"
     ]
    }
   ],
   "source": [
    "import numpy as np\n",
    "\n",
    "x = np.array([ 3.4])\n",
    "\n",
    "y = np.tile(x, (5,)) \n",
    "\n",
    "print(y)"
   ]
  },
  {
   "cell_type": "markdown",
   "metadata": {},
   "source": [
    "Im vorigen ```tile```-Beispiel hätten wir ebenso ```y = np.tile(x, 5) ``` schreiben können."
   ]
  },
  {
   "cell_type": "markdown",
   "metadata": {},
   "source": [
    "Wenn wir ```reps``` in Tupel- oder List-Form schreiben, oder ```reps = 5``` als Ersatz für ```reps = (5,)``` in Erwägung ziehen, so ist Folgendes wahr:\n",
    "\n",
    "Wenn ```reps``` die Länge ```n``` hat, so wird die Dimension des resultierenden Arrays maximal ```n``` und ```A.ndim``` sein.\n",
    "\n",
    "Wenn ```A.ndim < n``` ist, so wird ```A``` durch Voranstellen neuer Achsen auf die n-Dimensionen befördert.\n",
    "Beispielsweise wird ein Array mit der Shape ```(5,)``` auf ```(1, 5)``` bei einer 2-D-Replikation befördert oder auf die Shape ```(1, 1, 5)``` bei einer 3-D-Replikation.\n",
    "Sollte das nicht dem gewünschten Verhalten entsprechen, so ist ```A``` vor dem Aufruf der tile-Funktion auf die gewünschte Shape anzupassen.\n",
    "\n",
    "Wenn ```A.ndim > d``` ist, so wird ```reps``` auf ```A.ndim``` angepasst, indem 1's vorangestellt werden.\n",
    "Beispielsweise wird ein Array ```A``` mit der Shape ```(2, 3, 4, 5)``` und  ```reps = (2, 2)``` als ```(1, 1, 2, 2)``` behandelt.\n",
    "\n",
    "Weitere Beispiele:\n"
   ]
  },
  {
   "cell_type": "code",
   "execution_count": 61,
   "metadata": {},
   "outputs": [
    {
     "name": "stdout",
     "output_type": "stream",
     "text": [
      "[[1 2 1 2]\n",
      " [3 4 3 4]]\n"
     ]
    }
   ],
   "source": [
    "import numpy as np\n",
    "x = np.array([[1, 2], [3, 4]])\n",
    "print(np.tile(x, 2))\n"
   ]
  },
  {
   "cell_type": "code",
   "execution_count": 62,
   "metadata": {},
   "outputs": [
    {
     "name": "stdout",
     "output_type": "stream",
     "text": [
      "[[1 2]\n",
      " [3 4]\n",
      " [1 2]\n",
      " [3 4]]\n"
     ]
    }
   ],
   "source": [
    "import numpy as np\n",
    "x = np.array([[1, 2], [3, 4]])\n",
    "print(np.tile(x, (2, 1)))"
   ]
  },
  {
   "cell_type": "code",
   "execution_count": 63,
   "metadata": {},
   "outputs": [
    {
     "name": "stdout",
     "output_type": "stream",
     "text": [
      "[[1 2 1 2]\n",
      " [3 4 3 4]\n",
      " [1 2 1 2]\n",
      " [3 4 3 4]]\n"
     ]
    }
   ],
   "source": [
    "import numpy as np\n",
    "x = np.array([[1, 2], [3, 4]])\n",
    "print(np.tile(x, (2, 2)))"
   ]
  },
  {
   "cell_type": "markdown",
   "metadata": {},
   "source": [
    "<br><br><br>"
   ]
  }
 ],
 "metadata": {
  "anaconda-cloud": {},
  "kernelspec": {
   "display_name": "Python 3",
   "language": "python",
   "name": "python3"
  },
  "language_info": {
   "codemirror_mode": {
    "name": "ipython",
    "version": 3
   },
   "file_extension": ".py",
   "mimetype": "text/x-python",
   "name": "python",
   "nbconvert_exporter": "python",
   "pygments_lexer": "ipython3",
   "version": "3.7.1"
  },
  "toc": {
   "base_numbering": 1,
   "nav_menu": {},
   "number_sections": true,
   "sideBar": true,
   "skip_h1_title": false,
   "title_cell": "Table of Contents",
   "title_sidebar": "Contents",
   "toc_cell": false,
   "toc_position": {},
   "toc_section_display": true,
   "toc_window_display": false
  }
 },
 "nbformat": 4,
 "nbformat_minor": 2
}
