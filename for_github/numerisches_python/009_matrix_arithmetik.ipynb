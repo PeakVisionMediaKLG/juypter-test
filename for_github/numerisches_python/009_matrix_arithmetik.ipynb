{
 "cells": [
  {
   "cell_type": "markdown",
   "metadata": {},
   "source": [
    "## Matrix-Arithmetik unter NumPy und Python\n",
    "\n",
    "\n",
    "<img width=\"30%\" class=\"imgright\" src=\"../images/abacus.webp\" alt=\"Abacus\">\n",
    "\n",
    "\n",
    "\n",
    "Verfremdeter Abbakus Im vorigen Kapitel unserer Einführung in NumPy zeigten wir, wie man Arrays erzeugen und ändern kann. In diesem Kapitel wollen wir zeigen, wie wir in Python mittels NumPy ohne Aufwand und effizient Matrizen-Arithmetic betreiben können, also\n",
    "\n",
    "- Matrizenaddition\n",
    "- Matrizensubtraktion\n",
    "- Matrizenmultiplikation\n",
    "- Skalarprodukt\n",
    "- Kreuzprodukt\n",
    "- und weitere arithmetische Funktionen auf Matrizen\n",
    "\n",
    "\n",
    "\n",
    "Die arithmetischen Standardoperationen\n",
    "\n",
    "- +\n",
    "- -\n",
    "- *\n",
    "- /\n",
    "- **\n",
    "- %\n",
    "\n",
    "werden elementweise angewendet, d.h. die Arrays müssen die gleichen Größen haben, damit man diese Operatoren anwenden kann. \n",
    "\n"
   ]
  },
  {
   "cell_type": "code",
   "execution_count": 1,
   "metadata": {},
   "outputs": [
    {
     "data": {
      "text/plain": [
       "array([8, 9, 3])"
      ]
     },
     "execution_count": 1,
     "metadata": {},
     "output_type": "execute_result"
    }
   ],
   "source": [
    "import numpy as np\n",
    "\n",
    "x = np.array([1, 5, 2])\n",
    "y = np.array([7, 4, 1])\n",
    "x + y"
   ]
  },
  {
   "cell_type": "code",
   "execution_count": 3,
   "metadata": {},
   "outputs": [
    {
     "data": {
      "text/plain": [
       "array([ 7, 20,  2])"
      ]
     },
     "execution_count": 3,
     "metadata": {},
     "output_type": "execute_result"
    }
   ],
   "source": [
    "x * y"
   ]
  },
  {
   "cell_type": "code",
   "execution_count": null,
   "metadata": {},
   "outputs": [],
   "source": [
    "x - y"
   ]
  },
  {
   "cell_type": "code",
   "execution_count": 4,
   "metadata": {},
   "outputs": [
    {
     "data": {
      "text/plain": [
       "array([0.14285714, 1.25      , 2.        ])"
      ]
     },
     "execution_count": 4,
     "metadata": {},
     "output_type": "execute_result"
    }
   ],
   "source": [
    "x / y"
   ]
  },
  {
   "cell_type": "code",
   "execution_count": 5,
   "metadata": {},
   "outputs": [
    {
     "data": {
      "text/plain": [
       "array([1, 1, 0])"
      ]
     },
     "execution_count": 5,
     "metadata": {},
     "output_type": "execute_result"
    }
   ],
   "source": [
    "x % y"
   ]
  },
  {
   "cell_type": "markdown",
   "metadata": {},
   "source": [
    "### Vektor-Addition und Vektor-Subtraktion\n",
    "\n",
    "<img class=\"imgright\" src=\"../images/vektor_addition.webp\" srcset=\"../images/vektor_addition_400w.webp 400w,../images/vektor_addition_350w.webp 350w,../images/vektor_addition_300w.webp 300w\" alt=\"Visualisierung der Vektoraddition\">  \n",
    "\n",
    "Vielen dürfte die Vektoraddition aus dem Physikunterricht der Schule bekannt sein. Man benutzt die Vektoraddition, um die Gesamtkraft zu berechnen, wenn verschiedene Einzelkräfte mit unterschiedlichen Ausrichtungen auf einen als punktförmig angenommenen Körper einwirken. Wenn man wissen will, welche Kraft insgesamt auf den Körper ausgeübt wird, muss man eine sogenannte Vektoraddition durchführen. Grafisch wird eine Vektoraddition realisiert, indem man durch Parallelverschiebung an die Spitze des ersten Vektors, also die Stelle, an der sich der Pfeil befindet, den Anfang des zweiten Vektors ansetzt.\n",
    "\n",
    "Rechnerisch kann man mit der Vektoraddition die Gesamtverschiebung der Vektoren ermitteln, indem man die die jeweiligen Komponenten miteinander addiert. \n",
    "\n"
   ]
  },
  {
   "cell_type": "code",
   "execution_count": 6,
   "metadata": {},
   "outputs": [
    {
     "data": {
      "text/plain": [
       "array([8, 3])"
      ]
     },
     "execution_count": 6,
     "metadata": {},
     "output_type": "execute_result"
    }
   ],
   "source": [
    "x = np.array([3, 2])\n",
    "y = np.array([5, 1])\n",
    "z = x + y\n",
    "z"
   ]
  },
  {
   "cell_type": "markdown",
   "metadata": {},
   "source": [
    "<img class=\"imgright\" src=\"../images/vector_subtraction.webp\" srcset=\"../images/vector_subtraction_350w.webp 350w,../images/vector_subtraction_300w.webp 300w\" alt=\"Graphical Example of Vector Subtraction\">\n",
    "\n",
    "Einen Vektor y von einem Vektor x zu subtrahieren ist das Gleiche wie wenn man das Negative von y zu dem Vektor x addiert.\n",
    "Es gilt also:\n",
    "x - y = x + (-y)\n",
    "Geometrisch kann man die Subtraktion eines Vektors wie folgt durchführen: Um y von x zu subtrahieren plazieren wir die Endpunkte von x und y auf den gleichen Punkt. Dann zeichnen wir einen Pfeil von der Spitze von y zu der Spitze von x. Dieser \"Pfeil\" ist ein Repräsentant des Vektors x - y, siehe Bild auf der rechten Seite.\n",
    "\n",
    "Mathematisch gesehen, wird die Vektorsubtraktion durch eine Komponentenweise Subtraktion der einzelnen Komponenten durchgeführt. "
   ]
  },
  {
   "cell_type": "markdown",
   "metadata": {},
   "source": [
    "### Skalarprodukt / Dotprodukt\n",
    "\n",
    "Das Skalarprodukt wird häufig auch als Inneres Produkt oder Punktprodukt bezeichnet. Mathematisch stellt das Skalarprodukt eine algebraische Operation dar, die zwei Koordinationvektoren gleicher Größe als Argument nimmt und eine einfache Zahl zurückliefert. Das Ergebnis wird berechnet, indem die Komponenten mit gleichem Index multipliziert werden und die so erhaltenen Produkte anschließend addiert werden.\n",
    "Der Name Punktprodukt (oder englisch \"dot product\") stammt übrigens davon, dass der \".\" häufig als Operatorzeichen für diese Operation genutzt wird. Der Name Skalarprodukt stellt mehr den Aspekt in den Vordergrund, dass das Ergebnis der Operation ein Skalar ist.\n",
    "\n",
    "Definition des Skalarproduktes: \n",
    "<img src=\"../images/skalarprodukt.webp\" alt=\"Definition des Skalarpoduktes\">\n",
    "<br><br>\n",
    "Aus der Definition des Skalarproduktes können wir ersehen, dass es benutzt werden kann, um den Winkel zwischen zwei Vektoren zu ermittlen.\n",
    "\n",
    "Berechnung des Skalarproduktes:\n",
    "<br><br>\n",
    "<img src=\"../images/scalar_product1.webp\" alt=\"Calculation of the Scalar Product\">\n",
    "<br><br>\n",
    "Im folgenden zeigen wir, wie man das Skalarprodukt mit Python und NumPy berechnet: "
   ]
  },
  {
   "cell_type": "code",
   "execution_count": 9,
   "metadata": {},
   "outputs": [
    {
     "data": {
      "text/plain": [
       "36"
      ]
     },
     "execution_count": 9,
     "metadata": {},
     "output_type": "execute_result"
    }
   ],
   "source": [
    "x = np.array([1, 2, 3])\n",
    "y = np.array([-7, 8, 9])\n",
    "np.dot(x, y)"
   ]
  },
  {
   "cell_type": "code",
   "execution_count": 10,
   "metadata": {},
   "outputs": [
    {
     "data": {
      "text/plain": [
       "0.808233789010825"
      ]
     },
     "execution_count": 10,
     "metadata": {},
     "output_type": "execute_result"
    }
   ],
   "source": [
    "dot = np.dot(x ,y)\n",
    "x_modulus = np.sqrt((x*x).sum())\n",
    "y_modulus = np.sqrt((y*y).sum())\n",
    "cos_angle = dot / x_modulus / y_modulus # cosine of angle between x and y\n",
    "angle = np.arccos(cos_angle)\n",
    "angle"
   ]
  },
  {
   "cell_type": "code",
   "execution_count": 11,
   "metadata": {},
   "outputs": [
    {
     "data": {
      "text/plain": [
       "46.308384970187326"
      ]
     },
     "execution_count": 11,
     "metadata": {},
     "output_type": "execute_result"
    }
   ],
   "source": [
    "angle * 360 / 2 / np.pi # angle in degrees"
   ]
  },
  {
   "cell_type": "code",
   "execution_count": null,
   "metadata": {},
   "outputs": [],
   "source": [
    "36\n",
    ">>> dot = np.dot(x,y)\n",
    ">>> x_modulus = np.sqrt((x*x).sum())\n",
    ">>> y_modulus = np.sqrt((y*y).sum())\n",
    ">>> cos_angle = dot / x_modulus / y_modulus # cosine of angle between x and y\n",
    ">>> angle = np.arccos(cos_angle)\n",
    ">>> angle\n",
    "0.80823378901082499\n",
    ">>> angle * 360 / 2 / np.pi # angle in degrees"
   ]
  },
  {
   "cell_type": "markdown",
   "metadata": {},
   "source": [
    "### Matrixprodukt\n",
    "\n",
    "Das Matrixprodukt zweier Matrizen kann berechnet werden, wenn die Anzahl der Spalten \n",
    "der ersten Matrix gleich der Anzahl der Zeilen der zweiten Matrix ist.\n",
    "<br>\n",
    "Das Produkt einer (l x m)-Matrix A = (a<sub>ij</sub>)<sub>i=1...l, j= 1..m</sub>  und\n",
    "einer (m x n)-Matrix B = (b<sub>ij</sub>)<sub>i=1...m, j= 1..n</sub>  ist eine Matrix \n",
    "C = (c<sub>ij</sub>)<sub>i=1...l, j= 1..n</sub>, die wie folgt berechnet wird:\n",
    "<br><br>\n",
    "<img src=\"../images/matrix_product.webp\" alt=\"Matrix Product\">\n",
    "<br><br>\n",
    "Die folgende Grafik verdeutlicht dieses Verfahren:\n",
    "<br>\n",
    "<img src=\"../images/matrix_product2.webp\" alt=\"Illustration des Matrixproduktes\">\n",
    "<br><br>\n",
    "Wenn wir die Matrizenmultiplikation mit zwei NumPy Arrays (ndarray) durchführen wollen, müssen \n",
    "wir das Punktprodukt benutzen:\n",
    "<pre>&gt;&gt;&gt; x = np.array( ((2,3), (3, 5)) )\n",
    "&gt;&gt;&gt; y = np.matrix( ((1,2), (5, -1)) )\n",
    "&gt;&gt;&gt; np.dot(x,y)\n",
    "matrix([[17,  1],\n",
    "        [28,  1]])\n",
    "</pre>\n",
    "Alternativ können wir auch die Arrays ins Matrix Objekte casten und dann den \n",
    "\"*\"-Operator benutzen:\n",
    "<pre>&gt;&gt;&gt; np.mat(x) * np.mat(y)\n",
    "matrix([[17,  1],\n",
    "        [28,  1]])\n",
    "</pre>"
   ]
  },
  {
   "cell_type": "code",
   "execution_count": 12,
   "metadata": {},
   "outputs": [
    {
     "name": "stdout",
     "output_type": "stream",
     "text": [
      "[[17  1]\n",
      " [28  1]]\n"
     ]
    }
   ],
   "source": [
    "x = np.array( ((2,3), (3, 5)) )\n",
    "y = np.matrix( ((1,2), (5, -1)) )\n",
    "print(np.dot(x,y))"
   ]
  },
  {
   "cell_type": "markdown",
   "metadata": {},
   "source": [
    "<h3>Eine einfache praktische Anwendung zum Matrizenprodukt</h3>\n",
    "<img class=\"imgright\" src=\"../images/pralinen.webp\" alt=\"Pralinen\">\n",
    "In dem folgenden praktischen Beispiel kommen wir auf die Schokoladenseite des Lebens zu \n",
    "sprechen.<br>\n",
    "Nehmen wir an, wir haben vier Personen, die wir Lukas, Mia, Leon und Hannah taufen. Jeder\n",
    "von ihnen hat Pralinen der Marken A, B und C gekauft. Lukas kaufte 100 g der Marke A, 175 g \n",
    "der Marke B und 210 von C. Mia wählte 90 g von A, 160 g von B und 150 g von C. Leon kaufte 200 g\n",
    "von A, 50 von B und 100 g von C. Hannah mag allem Anschein nach nicht die Sorte B, \n",
    "weil sie keine Pralinen dieser Sorte gekauft hatte. Dafür scheint sie ein echter Fan der Sorte C\n",
    "zu sein, weil sie davon gleich 310 g gekauft hatte. Außerdem kaufte sie noch 120 g der Make A.\n",
    "<br><br>\n",
    "Nun wollen Sie natürlich wissen - oder auch nicht - wieviel die einzelnen Sorten kosten:\n",
    "A kostet 2.98 pro 100 g, B kostet 3.90 und C nur 1.99 Euro.\n",
    "<br><br> \n",
    "Wenn wir nun berechnen wollen wieviel jeder von ihnen zu zahlen hatte, können wir NumPy und\n",
    "die Matrizenmultiplikation nutzen:\n",
    "<br><br>"
   ]
  },
  {
   "cell_type": "code",
   "execution_count": 4,
   "metadata": {},
   "outputs": [
    {
     "data": {
      "text/plain": [
       "array([13.984, 11.907,  9.9  ,  9.745])"
      ]
     },
     "execution_count": 4,
     "metadata": {},
     "output_type": "execute_result"
    }
   ],
   "source": [
    "menge_pro_person = np.array([[100, 175, 210],\n",
    "                            [90, 160, 150],\n",
    "                            [200, 50, 100],\n",
    "                            [120, 0, 310]])\n",
    "preis_per_100_g = np.array([2.98, 3.90, 1.99])\n",
    "preis_in_Cent = np.dot(menge_pro_person, preis_per_100_g)\n",
    "preis_in_euro = preis_in_Cent / 100\n",
    "preis_in_euro\n"
   ]
  },
  {
   "cell_type": "markdown",
   "metadata": {},
   "source": [
    "<h3>Kreuzprodukt / Vektorprodukt</h3>\n",
    "\n",
    "<img class=\"imgright\" src=\"../images/Cross_product_vector.webp\" srcset=\"../images/Cross_product_vector_300w.webp 300w\" alt=\"Diagramm Kreuzprodukt\">\n",
    "So nun müssen wir wieder den Konsum der leckeren Pralinen einstellen und uns einem \n",
    "kalorienärmeren mathematischeren Thema zuwenden, dem Kreuzprodukt oder Vektorprodukt. \n",
    "<br><br>\n",
    "Das Kreuz- oder Vektorprodukt ist eine binäre Operation im dreidimensionalen Raum.\n",
    "<br>\n",
    "Das Kreuzprodukt zweier Vektoren a und b wird mit a × b bezeichnet.\n",
    "<br><br>\n",
    "Das Ergebnis ist ein Vektor, der senkrecht zu den Vektoren steht, die multipliziert werden. \n",
    "Senkrecht im Sinne eines Rechtssystems, d.h. die beiden Vektoren a und b sowie a x b verhalten\n",
    "sich wie Daumen, Zeigefinger und Mittelfinger der rechten Hand (sogenannte Drei-Finger-Regel).\n",
    "<br><br>\n",
    "\n",
    "Das Kreuzprodukt ist definiert als:\n",
    "<br>\n",
    "<img src=\"../images/cross_product_definition.webp\" alt=\"Definition des Kreuzproduktes\">\n",
    "<br>\n",
    "wobei n ein Einheitsvektor ist, der senkrecht auf der von a und b aufgespannten Ebene steht.\n",
    "Es gibt zwei Vektoren, die diese Eigenschaft erfüllen. Der richtige ist der, der mit der Drei-\n",
    "Finger-Regel (siehe oben) ermittelt werden kann.\n",
    "<br><br>\n",
    "Falls einer der Vektoren, die multipliziert werden Null ist oder wenn die beiden Vektoren\n",
    "parallel sind, dann ist ihr Kreuzprodukt gleich Null. Die Länge des Ergebnisvektors entspricht\n",
    "der Fläche des von den beiden multiplizierten Vektoren aufgespannten Parallelogrammes.\n",
    "Falls die beiden Vektoren senkrecht zueinander stehen, erhalten wir ein Rechteck.\n"
   ]
  },
  {
   "cell_type": "code",
   "execution_count": 17,
   "metadata": {},
   "outputs": [
    {
     "data": {
      "text/plain": [
       "array([-1,  0,  0])"
      ]
     },
     "execution_count": 17,
     "metadata": {},
     "output_type": "execute_result"
    }
   ],
   "source": [
    "x = np.array([0, 0, 1])\n",
    "y = np.array([0, 1, 0])\n",
    "\n",
    "np.cross(x, y)"
   ]
  },
  {
   "cell_type": "code",
   "execution_count": 18,
   "metadata": {},
   "outputs": [
    {
     "data": {
      "text/plain": [
       "array([1, 0, 0])"
      ]
     },
     "execution_count": 18,
     "metadata": {},
     "output_type": "execute_result"
    }
   ],
   "source": [
    "np.cross(y, x)"
   ]
  }
 ],
 "metadata": {
  "kernelspec": {
   "display_name": "Python 3",
   "language": "python",
   "name": "python3"
  },
  "language_info": {
   "codemirror_mode": {
    "name": "ipython",
    "version": 3
   },
   "file_extension": ".py",
   "mimetype": "text/x-python",
   "name": "python",
   "nbconvert_exporter": "python",
   "pygments_lexer": "ipython3",
   "version": "3.7.6"
  }
 },
 "nbformat": 4,
 "nbformat_minor": 4
}
