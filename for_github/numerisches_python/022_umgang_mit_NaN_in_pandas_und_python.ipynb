{
 "cells": [
  {
   "cell_type": "code",
   "execution_count": 21,
   "metadata": {},
   "outputs": [],
   "source": [
    "# invisible\n",
    "import pandas as pd\n",
    "\n",
    "pd.set_option('display.max_colwidth', 65)\n",
    "pd.set_option('display.max_columns', 65)"
   ]
  },
  {
   "cell_type": "markdown",
   "metadata": {},
   "source": [
    "## Umgang mit NaN\n",
    "\n",
    "\n",
    "\n",
    "\n",
    "\n",
    "<img width=\"60%\" class=\"imgright\" src=\"../images/dealing_with_NaN_de.webp\" srcset=\"../images/dealing_with_NaN_de_800w.webp 800w,../images/dealing_with_NaN_de_700w.webp 700w,../images/dealing_with_NaN_de_600w.webp 600w,../images/dealing_with_NaN_de_500w.webp 500w,../images/dealing_with_NaN_de_400w.webp 400w,../images/dealing_with_NaN_de_350w.webp 350w,../images/dealing_with_NaN_de_300w.webp 300w\" alt=\"Umgang mit NaN\" />\n",
    "\n",
    "\n",
    "\n",
    "\n",
    "\n",
    "\\index{NaN}\n",
    "\\index{NaN!Ursprung}\n",
    "\\index{\n",
    "NaN wurde offiziell eingeführt vom IEEE-Standard für Floating-Point Arithmetic (IEEE 754). Es ist ein technischer Standard für Fließkommaberechnungen, der 1985  durch das \"Institute of Electrical and Electronics Engineers\" (IEEE) eingeführt wurde -- Jahre bevor Python entstand, und noch mehr Jahre, bevor Pandas kreiert wurde. Der Standard wurde eingeführt, um Probleme zu lösen, die man in vielen Fließkommaßmplementierungen gefunden hatte, welche es schwierig gemacht haben, diese einfach und übergreifend zu verwenden.\n",
    "\n",
    "Der Standard fügte NaN zu den arithmetischen Formaten -- Mengen aus binären und dezimalen Fließkommadaten -- hinzu.\n",
    "\n",
    "### 'nan' in Python\n",
    "\n",
    "Python ohne Pandas kennt auch NaN-Werte. Wir können solche mit ```float()``` erstellen:"
   ]
  },
  {
   "cell_type": "code",
   "execution_count": 22,
   "metadata": {},
   "outputs": [
    {
     "name": "stdout",
     "output_type": "stream",
     "text": [
      "nan nan nan nan\n",
      "<class 'float'>\n"
     ]
    }
   ],
   "source": [
    "n1 = float(\"nan\")\n",
    "n2 = float(\"Nan\")\n",
    "n3 = float(\"NaN\")\n",
    "n4 = float(\"NAN\")\n",
    "print(n1, n2, n3, n4)\n",
    "print(type(n1))"
   ]
  },
  {
   "cell_type": "markdown",
   "metadata": {},
   "source": [
    "```nan``` ist auch Teil des ```math```-Moduls seit Python 3.5:\\index{NaN!math-Modul}"
   ]
  },
  {
   "cell_type": "code",
   "execution_count": 23,
   "metadata": {
    "scrolled": true
   },
   "outputs": [
    {
     "name": "stdout",
     "output_type": "stream",
     "text": [
      "nan\n",
      "True\n"
     ]
    }
   ],
   "source": [
    "import math\n",
    "n1 = math.nan\n",
    "print(n1)\n",
    "print(math.isnan(n1))"
   ]
  },
  {
   "cell_type": "markdown",
   "metadata": {},
   "source": [
    "Achtung: Führen Sie keine Vergleiche durch zwischen \"NaN\"-Werten und regulären Zahlen-Werten durch. Darüber hinaus gibt es keine Möglichkeit, NaN-Werte zu vergleichen und zu sortieren:"
   ]
  },
  {
   "cell_type": "code",
   "execution_count": 24,
   "metadata": {},
   "outputs": [
    {
     "name": "stdout",
     "output_type": "stream",
     "text": [
      "False\n",
      "False\n",
      "False\n",
      "False\n"
     ]
    }
   ],
   "source": [
    "print(n1 == n2)\n",
    "print(n1 == 0)\n",
    "print(n1 == 100)\n",
    "print(n2 < 0)"
   ]
  },
  {
   "cell_type": "markdown",
   "metadata": {},
   "source": [
    "### NaN in Pandas\n",
    "\n",
    "\n",
    "\n",
    "\n",
    "<img width=\"30%\" class=\"imgright\" src=\"../images/sensors.webp\" srcset=\"../images/sensors_350w.webp 350w,../images/sensors_300w.webp 300w\" alt=\"Sechs Temperaturfühler\" />\n",
    "\n",
    "\n",
    "\n",
    "In diesem Abschnitt möchten wir zeigen, wie man sinnvoll mit NaN-Werten in Pandas umgehen kann. Wir werden eine Datei mit Messwerten auswerten, die vereinzelt NaN-Werte aufweist. Doch bevor wir mit NaN-Werten arbeiten, bearbeiten wir zunächst eine Datei ohne jegliche NaN-Werte. Die Datei [temperatures.csv](\"data1/temperatures.csv\") beinhaltet die Temperaturen von sechs Sensoren, die alle 15 Minuten zwischen 6:00 Uhr und 19:15 Uhr gemessen wurden.\n",
    "\n",
    "Die Daten aus dieser Datei können mit der Funktion ```read_csv``` eingelesen werden:"
   ]
  },
  {
   "cell_type": "code",
   "execution_count": 25,
   "metadata": {},
   "outputs": [
    {
     "name": "stdout",
     "output_type": "stream",
     "text": [
      "          sensor1  sensor2  sensor3  sensor4  sensor5  sensor6\n",
      "time                                                          \n",
      "06:00:00     14.3     13.7     14.2     14.3     13.5     13.6\n",
      "06:15:00     14.5     14.5     14.0     15.0     14.5     14.7\n",
      "06:30:00     14.6     15.1     14.8     15.3     14.0     14.2\n",
      "06:45:00     14.8     14.5     15.6     15.2     14.7     14.6\n",
      "07:00:00     15.0     14.9     15.7     15.6     14.0     15.3\n"
     ]
    }
   ],
   "source": [
    "import pandas as pd\n",
    "\n",
    "df = pd.read_csv(\"data1/temperatures.csv\",\n",
    "                 sep=\";\",\n",
    "                 index_col=0,\n",
    "                 decimal=\",\")\n",
    "print(df.head())"
   ]
  },
  {
   "cell_type": "markdown",
   "metadata": {},
   "source": [
    "Wir wollen pro Messzeitpunkt die Durchschnittstemperatur berechnen. Dazu können wir die DataFrame-Methode ```mean``` verwenden. Bei Verwendung der Methode ```mean``` ohne Parameter  werden die Spalten aufsummiert. Auch wenn dies nicht das ist, was wir wollen, ist es aber trotzdem interessant, denn damit haben wir die Durchschnitt über den Messtag berechnet."
   ]
  },
  {
   "cell_type": "code",
   "execution_count": 26,
   "metadata": {},
   "outputs": [
    {
     "data": {
      "text/plain": [
       "sensor1    19.775926\n",
       "sensor2    19.757407\n",
       "sensor3    19.840741\n",
       "sensor4    20.187037\n",
       "sensor5    19.181481\n",
       "sensor6    19.437037\n",
       "dtype: float64"
      ]
     },
     "execution_count": 26,
     "metadata": {},
     "output_type": "execute_result"
    }
   ],
   "source": [
    "df.mean()"
   ]
  },
  {
   "cell_type": "markdown",
   "metadata": {},
   "source": [
    "Was wir eigentlich bestimmen wollen, ist die Durchschnittstemperatur über alle sechs Sensoren. Dazu setzen wir den Parameter ```axis``` auf den Wert ```1```:"
   ]
  },
  {
   "cell_type": "code",
   "execution_count": 27,
   "metadata": {},
   "outputs": [
    {
     "name": "stdout",
     "output_type": "stream",
     "text": [
      "time\n",
      "06:00:00    13.933333\n",
      "06:15:00    14.533333\n",
      "06:30:00    14.666667\n",
      "06:45:00    14.900000\n",
      "07:00:00    15.083333\n",
      "07:15:00    15.116667\n",
      "07:30:00    15.283333\n",
      "07:45:00    15.116667\n",
      "dtype: float64\n"
     ]
    }
   ],
   "source": [
    "average_temp_series = df.mean(axis=1)\n",
    "print(average_temp_series[:8]) # die ersten 8 Zeilen"
   ]
  },
  {
   "cell_type": "code",
   "execution_count": 28,
   "metadata": {},
   "outputs": [
    {
     "name": "stdout",
     "output_type": "stream",
     "text": [
      "Empty DataFrame\n",
      "Columns: []\n",
      "Index: [06:00:00, 06:15:00, 06:30:00, 06:45:00, 07:00:00]\n"
     ]
    }
   ],
   "source": [
    "sensors = df.columns.values\n",
    "# all columns will be removed:\n",
    "df = df.drop(sensors, axis=1)\n",
    "print(df[:5])"
   ]
  },
  {
   "cell_type": "markdown",
   "metadata": {},
   "source": [
    "Nun fügen wir die Werte der Durchschnittstemperaturen dem DataFrame als neue Spalte ```temperature``` hinzu:"
   ]
  },
  {
   "cell_type": "code",
   "execution_count": 29,
   "metadata": {},
   "outputs": [
    {
     "name": "stdout",
     "output_type": "stream",
     "text": [
      "          temperature\n",
      "time                 \n",
      "06:00:00    13.933333\n",
      "06:15:00    14.533333\n",
      "06:30:00    14.666667\n",
      "06:45:00    14.900000\n",
      "07:00:00    15.083333\n"
     ]
    }
   ],
   "source": [
    "# best practice:\n",
    "df = df.assign(temperature=average_temp_series)  # inplace option not available\n",
    "\n",
    "# alternatively:\n",
    "#df.loc[:,\"temperature\"] = average_temp_series\n",
    "print(df[:5])"
   ]
  },
  {
   "cell_type": "markdown",
   "metadata": {},
   "source": [
    "#### Beispiel mit NaNs\n",
    "\n",
    "Stellen wir uns vor, die Datei ```temperatures.csv``` enthielte in den Sensorspalten NaN-Werte. Ein NaN-Wert bedeutet, dass das Messgerät zu diesem Zeitpunkt keine Messung liefern konnte.\n",
    "\n",
    "Da wir keine solche Datei haben, werden wir eine solche Datei nun zu Übungszwecken künstlich erzeugen. Wir werden die Werte aus der Datei ```temperatures.csv``` nutzen, um ein DataFrame zu erzeugen. Dann erzeugen wir zufallsgesteuert NaN-Werte in dieser Datenstruktur:"
   ]
  },
  {
   "cell_type": "code",
   "execution_count": 30,
   "metadata": {},
   "outputs": [],
   "source": [
    "temp_df = pd.read_csv(\"data1/temperatures.csv\",\n",
    "                      sep=\";\",\n",
    "                      index_col=0,\n",
    "                      decimal=\",\")\n"
   ]
  },
  {
   "cell_type": "markdown",
   "metadata": {},
   "source": [
    "Nun weisen wir dem DataFrame-Objekt per Zufall NaN-Werte zu. Dazu verwenden wir die ```where```-Methode des DataFrame. Wenn ```where``` auf ein DataFrame-Objekt ```df``` angewendet wird, d.h. ```df.where(cond, other_df)```, wird ein Objekt mit dem identischen Muster (Shape) wie ```df``` zurückgeliefert, dessen Werte aus ```df``` stammen und das korrespondierende Element aus ```cond = True``` ist. Ansonsten stammt der Wert aus ```other_df```.\n",
    "\n",
    "Bevor wir mit unserem Temperaturen-Beispiel weitermachen, möchten wir die Arbeitsweise der ```where```-Methode an einfachen Beispielen demonstrieren:"
   ]
  },
  {
   "cell_type": "code",
   "execution_count": 31,
   "metadata": {},
   "outputs": [
    {
     "data": {
      "text/plain": [
       "0    NaN\n",
       "1    NaN\n",
       "2    2.0\n",
       "3    3.0\n",
       "4    4.0\n",
       "dtype: float64"
      ]
     },
     "execution_count": 31,
     "metadata": {},
     "output_type": "execute_result"
    }
   ],
   "source": [
    "s = pd.Series(range(5))\n",
    "s.where(s > 1)"
   ]
  },
  {
   "cell_type": "code",
   "execution_count": 32,
   "metadata": {},
   "outputs": [
    {
     "name": "stdout",
     "output_type": "stream",
     "text": [
      "   Foo  Bar\n",
      "0  -15    6\n",
      "1  -25   24\n",
      "2    4  -11\n",
      "3   -1    2\n"
     ]
    }
   ],
   "source": [
    "import numpy as np\n",
    "\n",
    "A = np.random.randint(1, 30, (4, 2))\n",
    "\n",
    "df = pd.DataFrame(A, columns=['Foo', 'Bar'])\n",
    "m = df % 2 == 0\n",
    "df.where(m, -df, inplace=True)\n",
    "print(df)"
   ]
  },
  {
   "cell_type": "markdown",
   "metadata": {},
   "source": [
    "\n",
    "\n",
    "\n",
    "Für unser Temperaturen-Beispiel brauchen wir ein DataFrame ```nan_df```, welches nur NaN-Werte beinhaltet und dasselbe Muster (Shape) wie unser Temperaturen-DataFrame ```temp_df``` aufweist. Dieses DataFrame verwenden wir dann in der ```where```-Methode. Zusätzlich brauchen wir ein DataFrame ```df_bool``` mit den Bedingungen als ```True```-Werten. Dazu erstellen wir ein DataFrame-Objekt mit Zufallswerten zwischen 0 und 1 mit der Anweisung ```random_df < 0.8```. Damit erhalten wir das DataFrame-Objekt ```df_bool```, in dem ca. 80 % der Werte ```True``` sind:\n",
    ""
   ]
  },
  {
   "cell_type": "code",
   "execution_count": 33,
   "metadata": {},
   "outputs": [
    {
     "name": "stdout",
     "output_type": "stream",
     "text": [
      "          sensor1  sensor2  sensor3  sensor4  sensor5  sensor6\n",
      "time                                                          \n",
      "06:00:00    False    False     True     True    False    False\n",
      "06:15:00     True     True     True     True     True    False\n",
      "06:30:00     True    False     True     True     True     True\n",
      "06:45:00     True     True     True     True    False     True\n",
      "07:00:00    False     True     True     True     True     True\n"
     ]
    }
   ],
   "source": [
    "random_df = pd.DataFrame(np.random.random(size=(54, 6)), \n",
    "                         columns=temp_df.columns.values, \n",
    "                         index=temp_df.index)\n",
    "nan_df = pd.DataFrame(np.nan,\n",
    "                      columns=temp_df.columns.values, \n",
    "                      index=temp_df.index)\n",
    "df_bool = random_df<0.8\n",
    "\n",
    "print(df_bool[:5])"
   ]
  },
  {
   "cell_type": "markdown",
   "metadata": {},
   "source": [
    "Wir haben nun alles zusammen, um unser DataFrame mit unvollständigen Messungen mittels ```where``` zu erstellen und dieses DataFrame dann mit der Methode ```to_csv``` in der Datei ```temperatures_with_NaN.csv``` abzuspeichern:"
   ]
  },
  {
   "cell_type": "code",
   "execution_count": 34,
   "metadata": {},
   "outputs": [
    {
     "name": "stdout",
     "output_type": "stream",
     "text": [
      "          sensor1  sensor2  sensor3  sensor4  sensor5  sensor6\n",
      "time                                                          \n",
      "06:00:00      NaN      NaN     14.2     14.3      NaN      NaN\n",
      "06:15:00     14.5     14.5     14.0     15.0     14.5      NaN\n",
      "06:30:00     14.6      NaN     14.8     15.3     14.0     14.2\n",
      "06:45:00     14.8     14.5     15.6     15.2      NaN     14.6\n",
      "07:00:00      NaN     14.9     15.7     15.6     14.0     15.3\n",
      "07:15:00     15.2     15.2     14.6     15.3     15.5     14.9\n",
      "07:30:00     15.4     15.3     15.6     15.6     14.7     15.1\n",
      "07:45:00     15.5     14.8     15.4     15.5     14.6     14.9\n",
      "08:00:00     15.7     15.6     15.9     16.2     15.4     15.4\n",
      "08:15:00      NaN     15.8     15.9     16.9     16.0     16.2\n"
     ]
    }
   ],
   "source": [
    "disturbed_data = temp_df.where(df_bool, nan_df)\n",
    "\n",
    "disturbed_data.to_csv(\"data1/temperatures_with_NaN.csv\")\n",
    "print(disturbed_data[:10])"
   ]
  },
  {
   "cell_type": "markdown",
   "metadata": {},
   "source": [
    "### dropna() verwenden\n",
    "\n",
    "```dropna``` ist eine DataFrame-Methode. Wenn wir diese Methode ohne Argumente verwenden, wird ein Objekt zurückgegeben, bei dem jede Zeile entfernt wurde, in der Daten gefehlt haben, also NaN-Werte waren:"
   ]
  },
  {
   "cell_type": "code",
   "execution_count": 35,
   "metadata": {},
   "outputs": [
    {
     "name": "stdout",
     "output_type": "stream",
     "text": [
      "          sensor1  sensor2  sensor3  sensor4  sensor5  sensor6\n",
      "time                                                          \n",
      "07:15:00     15.2     15.2     14.6     15.3     15.5     14.9\n",
      "07:30:00     15.4     15.3     15.6     15.6     14.7     15.1\n",
      "07:45:00     15.5     14.8     15.4     15.5     14.6     14.9\n",
      "08:00:00     15.7     15.6     15.9     16.2     15.4     15.4\n",
      "08:30:00     16.1     15.7     16.1     15.9     14.9     15.2\n",
      "09:45:00     18.4     19.0     19.0     19.4     18.4     18.3\n",
      "10:30:00     20.4     19.4     20.0     21.0     20.2     19.8\n",
      "12:00:00     24.0     23.1     23.1     24.8     22.5     22.7\n",
      "12:15:00     23.8     23.7     24.8     25.1     22.2     22.4\n",
      "12:30:00     23.6     24.2     23.6     24.1     22.1     22.5\n",
      "13:30:00     22.9     21.9     22.9     24.3     22.9     23.0\n",
      "14:30:00     22.1     21.9     22.3     22.2     21.2     22.1\n",
      "15:15:00     21.6     21.3     21.7     21.7     21.9     21.1\n",
      "15:30:00     21.4     21.3     21.7     21.9     21.0     21.7\n",
      "16:30:00     20.8     20.7     20.7     20.4     20.2     19.6\n",
      "17:15:00     20.3     20.7     19.6     21.3     19.8     19.0\n",
      "17:30:00     20.1     20.5     19.7     19.7     18.7     19.7\n",
      "18:15:00     19.6     19.9     19.2     19.9     20.0     18.6\n",
      "19:15:00     19.0     19.7     18.9     19.2     18.5     19.4\n"
     ]
    }
   ],
   "source": [
    "df = disturbed_data.dropna()\n",
    "print(df)"
   ]
  },
  {
   "cell_type": "markdown",
   "metadata": {},
   "source": [
    "```dropna``` kann auch verwendet werden, um alle Spalten zu entfernen, in denen einige Werte NaN sind. Dafür muss lediglich der Parameter ```axis = 1``` gesetzt werden. Wie wir im vorherigen Beispiel gesehen haben, ist der Default-Wert dafür ```False```. Sollte jede Spalte der Sensoren NaN-Werte enthalten, so werden auch alle Spalten ausgeblendet:"
   ]
  },
  {
   "cell_type": "code",
   "execution_count": 36,
   "metadata": {},
   "outputs": [
    {
     "data": {
      "text/html": [
       "<div>\n",
       "<style scoped>\n",
       "    .dataframe tbody tr th:only-of-type {\n",
       "        vertical-align: middle;\n",
       "    }\n",
       "\n",
       "    .dataframe tbody tr th {\n",
       "        vertical-align: top;\n",
       "    }\n",
       "\n",
       "    .dataframe thead th {\n",
       "        text-align: right;\n",
       "    }\n",
       "</style>\n",
       "<table border=\"1\" class=\"dataframe\">\n",
       "  <thead>\n",
       "    <tr style=\"text-align: right;\">\n",
       "      <th></th>\n",
       "    </tr>\n",
       "    <tr>\n",
       "      <th>time</th>\n",
       "    </tr>\n",
       "  </thead>\n",
       "  <tbody>\n",
       "    <tr>\n",
       "      <th>06:00:00</th>\n",
       "    </tr>\n",
       "    <tr>\n",
       "      <th>06:15:00</th>\n",
       "    </tr>\n",
       "    <tr>\n",
       "      <th>06:30:00</th>\n",
       "    </tr>\n",
       "    <tr>\n",
       "      <th>06:45:00</th>\n",
       "    </tr>\n",
       "    <tr>\n",
       "      <th>07:00:00</th>\n",
       "    </tr>\n",
       "  </tbody>\n",
       "</table>\n",
       "</div>"
      ],
      "text/plain": [
       "Empty DataFrame\n",
       "Columns: []\n",
       "Index: [06:00:00, 06:15:00, 06:30:00, 06:45:00, 07:00:00]"
      ]
     },
     "execution_count": 36,
     "metadata": {},
     "output_type": "execute_result"
    }
   ],
   "source": [
    "df = disturbed_data.dropna(axis=1)\n",
    "df[:5]"
   ]
  },
  {
   "cell_type": "markdown",
   "metadata": {},
   "source": [
    "Wir ändern unsere Aufgabe: Wir sind nun nur an den Zeilen interessiert, welche mehr als einen NaN-Wert enthalten. Dafür ist der Parameter ```thresh``` ideal. Dieser kann auf einen Minimal-Wert gesetzt werden. ```thresh``` wird auf den Integer-Wert gesetzt, der die minimale Anzahl an Nicht-NaN-Werten angibt. Wir haben sechs Temperaturwerte in jeder Zeile. Mit ```thresh = 5``` stellen wir sicher, dass mindestens 5 von ```NaN``` verschiedene Werte in jeder Zeile enthalten sind:"
   ]
  },
  {
   "cell_type": "code",
   "execution_count": 37,
   "metadata": {},
   "outputs": [
    {
     "name": "stdout",
     "output_type": "stream",
     "text": [
      "          sensor1  sensor2  sensor3  sensor4  sensor5  sensor6\n",
      "time                                                          \n",
      "06:15:00     14.5     14.5     14.0     15.0     14.5      NaN\n",
      "06:30:00     14.6      NaN     14.8     15.3     14.0     14.2\n",
      "06:45:00     14.8     14.5     15.6     15.2      NaN     14.6\n",
      "07:00:00      NaN     14.9     15.7     15.6     14.0     15.3\n",
      "07:15:00     15.2     15.2     14.6     15.3     15.5     14.9\n",
      "07:30:00     15.4     15.3     15.6     15.6     14.7     15.1\n",
      "07:45:00     15.5     14.8     15.4     15.5     14.6     14.9\n"
     ]
    }
   ],
   "source": [
    "cleansed_df = disturbed_data.dropna(thresh=5, axis=0)\n",
    "print(cleansed_df[:7])"
   ]
  },
  {
   "cell_type": "markdown",
   "metadata": {},
   "source": [
    "Jetzt berechnen wir erneut die Durchschnittswerte, aber diesmal aus ```cleansed_df```, d.h. das DataFrame, aus dem bereits alle Zeilen entfernt wurden, die mehr als einen NaN-Wert hatten:"
   ]
  },
  {
   "cell_type": "code",
   "execution_count": 38,
   "metadata": {},
   "outputs": [
    {
     "name": "stdout",
     "output_type": "stream",
     "text": [
      "          temperature\n",
      "time                 \n",
      "06:15:00    14.500000\n",
      "06:30:00    14.580000\n",
      "06:45:00    14.940000\n",
      "07:00:00    15.100000\n",
      "07:15:00    15.116667\n",
      "07:30:00    15.283333\n"
     ]
    }
   ],
   "source": [
    "average_temp_series = cleansed_df.mean(axis=1)\n",
    "sensors = cleansed_df.columns.values\n",
    "df = cleansed_df.drop(sensors, axis=1) # nicht unbedingt notwendig\n",
    "\n",
    "df = df.assign(temperature=average_temp_series)  # inplace option not available\n",
    "print(df[:6])"
   ]
  },
  {
   "cell_type": "markdown",
   "metadata": {},
   "source": [
    ""
   ]
  },
  {
   "cell_type": "code",
   "execution_count": 39,
   "metadata": {},
   "outputs": [
    {
     "name": "stdout",
     "output_type": "stream",
     "text": [
      "          sensor1  sensor2  sensor3  sensor4  sensor5  sensor6\n",
      "time                                                          \n",
      "06:15:00     14.5     14.5     14.0     15.0     14.5      NaN\n",
      "06:30:00     14.6      NaN     14.8     15.3     14.0     14.2\n",
      "06:45:00     14.8     14.5     15.6     15.2      NaN     14.6\n",
      "07:00:00      NaN     14.9     15.7     15.6     14.0     15.3\n",
      "07:15:00     15.2     15.2     14.6     15.3     15.5     14.9\n",
      "07:30:00     15.4     15.3     15.6     15.6     14.7     15.1\n",
      "07:45:00     15.5     14.8     15.4     15.5     14.6     14.9\n"
     ]
    }
   ],
   "source": [
    "#prog4book\n",
    "\n",
    "cleansed_df = disturbed_data.dropna(thresh=4, axis=0)\n",
    "print(cleansed_df[:7])"
   ]
  },
  {
   "cell_type": "markdown",
   "metadata": {},
   "source": [
    ""
   ]
  },
  {
   "cell_type": "code",
   "execution_count": 40,
   "metadata": {},
   "outputs": [
    {
     "name": "stdout",
     "output_type": "stream",
     "text": [
      "          temperature\n",
      "time                 \n",
      "06:15:00    14.500000\n",
      "06:30:00    14.580000\n",
      "06:45:00    14.940000\n",
      "07:00:00    15.100000\n",
      "07:15:00    15.116667\n",
      "07:30:00    15.283333\n"
     ]
    }
   ],
   "source": [
    "#prog4book\n",
    "\n",
    "average_temp_series = cleansed_df.mean(axis=1)\n",
    "sensors = cleansed_df.columns.values\n",
    "df = cleansed_df.drop(sensors, axis=1)\n",
    "\n",
    "df = df.assign(temperature=average_temp_series)\n",
    "print(df[:6])"
   ]
  }
 ],
 "metadata": {
  "kernelspec": {
   "display_name": "Python 3",
   "language": "python",
   "name": "python3"
  },
  "language_info": {
   "codemirror_mode": {
    "name": "ipython",
    "version": 3
   },
   "file_extension": ".py",
   "mimetype": "text/x-python",
   "name": "python",
   "nbconvert_exporter": "python",
   "pygments_lexer": "ipython3",
   "version": "3.7.3"
  },
  "toc": {
   "base_numbering": 1,
   "nav_menu": {},
   "number_sections": true,
   "sideBar": true,
   "skip_h1_title": false,
   "title_cell": "Table of Contents",
   "title_sidebar": "Contents",
   "toc_cell": false,
   "toc_position": {},
   "toc_section_display": true,
   "toc_window_display": false
  }
 },
 "nbformat": 4,
 "nbformat_minor": 2
}
