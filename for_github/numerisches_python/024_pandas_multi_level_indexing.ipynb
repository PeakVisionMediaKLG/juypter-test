{
 "cells": [
  {
   "cell_type": "code",
   "execution_count": 51,
   "metadata": {},
   "outputs": [],
   "source": [
    "# invisible\n",
    "import pandas as pd\n",
    "\n",
    "pd.set_option('display.max_colwidth', 65)\n",
    "pd.set_option('display.max_columns', 65)\n",
    "import numpy as np\n",
    "np.core.arrayprint._line_width = 65"
   ]
  },
  {
   "cell_type": "markdown",
   "metadata": {},
   "source": [
    "\n",
    "\n",
    "\n",
    "\n",
    "\n",
    "\n",
    "\n",
    "## Mehrstufige Indizierung\n",
    "\n",
    "### Einführung\n",
    "\n",
    "<img width=\"60%\" class=\"imgright\" src=\"../images/multi_level_indexing.webp\" srcset=\"../images/multi_level_indexing_800w.webp 800w,../images/multi_level_indexing_700w.webp 700w,../images/multi_level_indexing_600w.webp 600w,../images/multi_level_indexing_500w.webp 500w,../images/multi_level_indexing_400w.webp 400w,../images/multi_level_indexing_350w.webp 350w,../images/multi_level_indexing_300w.webp 300w\" alt=\"Multi Level Indizierung\" />\n",
    "\n",
    "Die Basiskonzepte von Pandas haben wir im vorherigen Kapitel gelernt. Dabei haben wir uns die Daten-Strukturen\n",
    "- Series und\n",
    "- DataFrame\n",
    "\n",
    "angeschaut.\n",
    "\n",
    "Ebenso haben wir gelernt, wie man Series- und DataFrame-Objekte in numerischen Python-Programmen erstellt und manipuliert.\n",
    "\n",
    "Jetzt wollen wir weitere Aspekte dieser Datenstrukturen betrachen. Wir beginnen mit den fortgeschrittenen Indizierungsmöglichkeiten in Pandas.\n",
    "\n"
   ]
  },
  {
   "cell_type": "markdown",
   "metadata": {},
   "source": [
    "\n",
    "\n",
    "### Mehrstufig indizierte Series\n",
    "\n",
    "Mehrstufige Indizierung ist sowohl für Series als auch für DataFrame verfügbar. Es ist eine faszinierende Möglichkeit, in höheren Daten-Dimensionen mit den Pandas-Datenstrukturen zu arbeiten. Ein effizienter Weg, um beliebig hoch dimensionierte Daten zu speichern und zu manipulieren und damit in 1-dimensionalen (Series) oder 2-dimensionalen (DataFrames) Strukturen zu arbeiten. Mit anderen Worten können wir mit höher-dimensionierten Daten in niedrigeren Dimensionen arbeiten. Es ist Zeit für ein Beispiel in Python:"
   ]
  },
  {
   "cell_type": "code",
   "execution_count": 52,
   "metadata": {},
   "outputs": [
    {
     "name": "stdout",
     "output_type": "stream",
     "text": [
      "Vienna   country           Austria\n",
      "         area                414.6\n",
      "         population        1805681\n",
      "Hamburg  country           Germany\n",
      "         area                  755\n",
      "         population        1760433\n",
      "Berlin   country           Germany\n",
      "         area               891.85\n",
      "         population        3562166\n",
      "Zürich   country       Switzerland\n",
      "         area                87.88\n",
      "         population         378884\n",
      "dtype: object\n"
     ]
    }
   ],
   "source": [
    "import pandas as pd\n",
    "\n",
    "cities = [\"Vienna\", \"Vienna\", \"Vienna\",\n",
    "          \"Hamburg\", \"Hamburg\", \"Hamburg\",\n",
    "          \"Berlin\", \"Berlin\", \"Berlin\",\n",
    "          \"Zürich\", \"Zürich\", \"Zürich\"]\n",
    "index = [cities, [\"country\", \"area\", \"population\",\n",
    "                  \"country\", \"area\", \"population\",\n",
    "                  \"country\", \"area\", \"population\",\n",
    "                  \"country\", \"area\", \"population\"]]\n",
    "\n",
    "data = [\"Austria\", 414.60,    1805681,\n",
    "        \"Germany\", 755.00,    1760433,\n",
    "        \"Germany\", 891.85,    3562166,\n",
    "        \"Switzerland\", 87.88, 378884]\n",
    "\n",
    "city_series = pd.Series(data, index=index)\n",
    "print(city_series)"
   ]
  },
  {
   "cell_type": "code",
   "execution_count": 53,
   "metadata": {},
   "outputs": [
    {
     "data": {
      "text/plain": [
       "Vienna   country           Austria\n",
       "         area                414.6\n",
       "         population        1805681\n",
       "Hamburg  country           Germany\n",
       "         area                  755\n",
       "         population        1760433\n",
       "Berlin   country           Germany\n",
       "         area               891.85\n",
       "         population        3562166\n",
       "Zürich   country       Switzerland\n",
       "         area                87.88\n",
       "         population         378884\n",
       "dtype: object"
      ]
     },
     "execution_count": 53,
     "metadata": {},
     "output_type": "execute_result"
    }
   ],
   "source": [
    "cities_data = { (\"Vienna\", \"country\"): \"Austria\",\n",
    "                (\"Vienna\", \"area\"): 414.6,\n",
    "                (\"Vienna\", \"population\"): 1805681,\n",
    "                (\"Hamburg\", \"country\"): \"Germany\",\n",
    "                (\"Hamburg\", \"area\"): 755,\n",
    "                (\"Hamburg\", \"population\"): 1760433,\n",
    "                (\"Berlin\", \"country\"): \"Germany\",\n",
    "                (\"Berlin\", \"area\"): 891.85,\n",
    "                (\"Berlin\", \"population\"): 3562166,\n",
    "                (\"Zürich\", \"country\"): \"Switzerland\",\n",
    "                (\"Zürich\", \"area\"): 87.88,\n",
    "                (\"Zürich\", \"population\"): 378884 }\n",
    "\n",
    "city_series = pd.Series(cities_data)\n",
    "\n",
    "city_series"
   ]
  },
  {
   "cell_type": "markdown",
   "metadata": {},
   "source": [
    "### Zugriffsmöglichkeiten\n",
    "\n",
    "Wir können über folgenden Weg auf die Daten, die mit dem ersten Index bezeichnet sind, zugreifen:"
   ]
  },
  {
   "cell_type": "code",
   "execution_count": 54,
   "metadata": {},
   "outputs": [
    {
     "name": "stdout",
     "output_type": "stream",
     "text": [
      "country       Austria\n",
      "area            414.6\n",
      "population    1805681\n",
      "dtype: object\n"
     ]
    }
   ],
   "source": [
    "print(city_series[\"Vienna\"])"
   ]
  },
  {
   "cell_type": "markdown",
   "metadata": {},
   "source": [
    "Ebenso kann auf die Information über das Land (country), Gebiet (area) oder Bevölkerung (population) einer Stadt zugegriffen werden. Dazu gibt es zwei Möglichkeiten:"
   ]
  },
  {
   "cell_type": "code",
   "execution_count": 55,
   "metadata": {},
   "outputs": [
    {
     "name": "stdout",
     "output_type": "stream",
     "text": [
      "414.6\n"
     ]
    }
   ],
   "source": [
    "print(city_series[\"Vienna\"][\"area\"])"
   ]
  },
  {
   "cell_type": "markdown",
   "metadata": {},
   "source": [
    "Zur Vervollständigung der zweite Weg:"
   ]
  },
  {
   "cell_type": "code",
   "execution_count": 56,
   "metadata": {},
   "outputs": [
    {
     "name": "stdout",
     "output_type": "stream",
     "text": [
      "414.6\n"
     ]
    }
   ],
   "source": [
    "print(city_series[\"Vienna\", \"area\"])"
   ]
  },
  {
   "cell_type": "markdown",
   "metadata": {},
   "source": [
    "Wenn der Index geordnet ist, kann auch die Slicing-Operation angewendet werden:"
   ]
  },
  {
   "cell_type": "code",
   "execution_count": 57,
   "metadata": {},
   "outputs": [
    {
     "name": "stdout",
     "output_type": "stream",
     "text": [
      "city_series with sorted index:\n",
      "Berlin   area               891.85\n",
      "         country           Germany\n",
      "         population        3562166\n",
      "Hamburg  area                  755\n",
      "         country           Germany\n",
      "         population        1760433\n",
      "Vienna   area                414.6\n",
      "         country           Austria\n",
      "         population        1805681\n",
      "Zürich   area                87.88\n",
      "         country       Switzerland\n",
      "         population         378884\n",
      "dtype: object\n",
      "\n",
      "Slicing the city_series:\n",
      "Berlin   area           891.85\n",
      "         country       Germany\n",
      "         population    3562166\n",
      "Hamburg  area              755\n",
      "         country       Germany\n",
      "         population    1760433\n",
      "Vienna   area            414.6\n",
      "         country       Austria\n",
      "         population    1805681\n",
      "dtype: object\n"
     ]
    }
   ],
   "source": [
    "city_series = city_series.sort_index()\n",
    "print(\"city_series with sorted index:\")\n",
    "print(city_series)\n",
    "\n",
    "print(\"\\nSlicing the city_series:\")\n",
    "print(city_series[\"Berlin\":\"Vienna\"])"
   ]
  },
  {
   "cell_type": "markdown",
   "metadata": {},
   "source": [
    "Ebenso können dann auch die Inhalte mehrerer Städte selektiv ausgegeben werden, indem man eine Liste der Stadtnamen als Schlüssel verwendet:"
   ]
  },
  {
   "cell_type": "code",
   "execution_count": 58,
   "metadata": {},
   "outputs": [
    {
     "data": {
      "text/plain": [
       "Berlin  area           891.85\n",
       "        country       Germany\n",
       "        population    3562166\n",
       "Vienna  area            414.6\n",
       "        country       Austria\n",
       "        population    1805681\n",
       "dtype: object"
      ]
     },
     "execution_count": 58,
     "metadata": {},
     "output_type": "execute_result"
    }
   ],
   "source": [
    "city_series[[\"Vienna\", \"Berlin\"]]"
   ]
  },
  {
   "cell_type": "markdown",
   "metadata": {},
   "source": [
    "Im nächsten Beispiel zeigen wir, wie mittels Slicing auf die inneren Schlüssel zugegriffen werden kann:"
   ]
  },
  {
   "cell_type": "code",
   "execution_count": 59,
   "metadata": {},
   "outputs": [
    {
     "name": "stdout",
     "output_type": "stream",
     "text": [
      "Berlin     891.85\n",
      "Hamburg       755\n",
      "Vienna      414.6\n",
      "Zürich      87.88\n",
      "dtype: object\n"
     ]
    }
   ],
   "source": [
    "print(city_series[:, \"area\"])"
   ]
  },
  {
   "cell_type": "markdown",
   "metadata": {},
   "source": [
    "Mit ```city_series.index.levels``` kann man auf die einzelnen Stufen des mehrstufigen Indexes  zugreifen. Bei diesem Objekt handelt es sich um eine FrozenList, über die wir hier iterieren: "
   ]
  },
  {
   "cell_type": "code",
   "execution_count": 60,
   "metadata": {},
   "outputs": [
    {
     "name": "stdout",
     "output_type": "stream",
     "text": [
      "Oberste Hierarchiestufe:\n",
      "Index(['Berlin', 'Hamburg', 'Vienna', 'Zürich'], dtype='object')\n",
      "Untere Hierarchiestufe:\n",
      "Index(['area', 'country', 'population'], dtype='object')\n"
     ]
    }
   ],
   "source": [
    "for i in range(len(city_series.index.levels)):\n",
    "    if i == 0:\n",
    "        print(\"Oberste Hierarchiestufe:\")\n",
    "    elif i == 1:\n",
    "        print(\"Untere Hierarchiestufe:\")\n",
    "    print(city_series.index.levels[i])"
   ]
  },
  {
   "cell_type": "markdown",
   "metadata": {},
   "source": [
    "### Zusammenhang zu DataFrames\n",
    "\n",
    "Einige werden sicherlich bemerkt haben, dass man obige mehrstufige Series auch als DataFrame-Objekte darstellen könnte. Ein DataFrame ist ja bereits zweidimensional, während eine Series nur eindimensional ist, sofern man keinen mehrstufigen Index verwendet.\n",
    "Nun stellt sich die Frage, wie man aus der Series ```city_series``` ein DataFrame erzeigen kann. Man kann dies zwar mit folgendem Code erreichen, aber wir werden danach einen direkteren Weg zeigen. \n"
   ]
  },
  {
   "cell_type": "code",
   "execution_count": 61,
   "metadata": {},
   "outputs": [
    {
     "name": "stdout",
     "output_type": "stream",
     "text": [
      "             country population     area\n",
      "Vienna       Austria      414.6  1805681\n",
      "Hamburg      Germany        755  1760433\n",
      "Berlin       Germany     891.85  3562166\n",
      "Zürich   Switzerland      87.88   378884\n"
     ]
    }
   ],
   "source": [
    "city_df = pd.DataFrame([], index=index[0])\n",
    "for key in index[1][:3]:\n",
    "    city_df = pd.concat([city_df,\n",
    "                        city_series[:, key]], \n",
    "                        axis=1,\n",
    "                        sort=False)\n",
    "    \n",
    "city_df.columns = [\"country\", \"population\", \"area\"]\n",
    "print(city_df)"
   ]
  },
  {
   "cell_type": "markdown",
   "metadata": {},
   "source": [
    "Setzt man ```sort``` auf ```False```, erhält man einen unsortierten Index, in unserem Fall:"
   ]
  },
  {
   "cell_type": "code",
   "execution_count": 62,
   "metadata": {},
   "outputs": [
    {
     "name": "stdout",
     "output_type": "stream",
     "text": [
      "             country population     area\n",
      "Vienna       Austria      414.6  1805681\n",
      "Hamburg      Germany        755  1760433\n",
      "Berlin       Germany     891.85  3562166\n",
      "Zürich   Switzerland      87.88   378884\n"
     ]
    }
   ],
   "source": [
    "city_df = pd.DataFrame([], index=index[0])\n",
    "for key in index[1][:3]:\n",
    "    city_df = pd.concat([city_df,\n",
    "                        city_series[:, key]], \n",
    "                        axis=1,\n",
    "                        sort=False)\n",
    "    \n",
    "city_df.columns = [\"country\", \"population\", \"area\"]\n",
    "print(city_df)"
   ]
  },
  {
   "cell_type": "markdown",
   "metadata": {},
   "source": [
    "\n",
    "\n",
    "Obiges können wir einfacher haben, indem wir die von der Series-Klasse zur Verfügung gestellte Methode ```unstack``` benutzen. ```unstack``` bietet zwei optionale Parameter:\n",
    "\n",
    "- ```level```, der per Default auf -1 gesetzt ist, bestimmt, welcher Teil des mehrstufigen Indexes als Spaltenbezeichner verwendet wird. -1 bedeutet, dass der innere Index verwendet wird. Das entspricht in unserem Beispiel city_series.index.levels[-1], also die Städtenamen.\n",
    "Setzen wir ```level``` auf 0, so werden die Städtenamen zum Index des DataFrame.\n",
    "- ```fill_value``` ist per Default auf None gesetzt. Mit diesem Parameter kann man den Wert bestimmen, auf den ```NaN```-Werte umgesetzt werden, falls diese sich in den Daten befinden.\n"
   ]
  },
  {
   "cell_type": "code",
   "execution_count": 63,
   "metadata": {},
   "outputs": [
    {
     "name": "stdout",
     "output_type": "stream",
     "text": [
      "Für level wurde der Default-Wert -1 genutzt:\n",
      "           area      country population\n",
      "Berlin   891.85      Germany    3562166\n",
      "Hamburg     755      Germany    1760433\n",
      "Vienna    414.6      Austria    1805681\n",
      "Zürich    87.88  Switzerland     378884\n",
      "\n",
      "Ergebnis für level=0:\n",
      "             Berlin  Hamburg   Vienna       Zürich\n",
      "area         891.85      755    414.6        87.88\n",
      "country     Germany  Germany  Austria  Switzerland\n",
      "population  3562166  1760433  1805681       378884\n"
     ]
    }
   ],
   "source": [
    "city_df = city_series.unstack()\n",
    "print(\"Für level wurde der Default-Wert -1 genutzt:\")\n",
    "print(city_df)\n",
    "\n",
    "city_df = city_series.unstack(level=0)\n",
    "print(\"\\nErgebnis für level=0:\")\n",
    "print(city_df)"
   ]
  },
  {
   "cell_type": "markdown",
   "metadata": {},
   "source": [
    "\n",
    "Die DataFrame-Methode ```stack``` entspricht der Umkehrfunktion, d.h. aus einem DataFrame-Objekt erzeugt sie ein Series-Objekt mit mehrstufigem Index:"
   ]
  },
  {
   "cell_type": "code",
   "execution_count": 64,
   "metadata": {},
   "outputs": [
    {
     "data": {
      "text/plain": [
       "area        Berlin          891.85\n",
       "            Hamburg            755\n",
       "            Vienna           414.6\n",
       "            Zürich           87.88\n",
       "country     Berlin         Germany\n",
       "            Hamburg        Germany\n",
       "            Vienna         Austria\n",
       "            Zürich     Switzerland\n",
       "population  Berlin         3562166\n",
       "            Hamburg        1760433\n",
       "            Vienna         1805681\n",
       "            Zürich          378884\n",
       "dtype: object"
      ]
     },
     "execution_count": 64,
     "metadata": {},
     "output_type": "execute_result"
    }
   ],
   "source": [
    "city_df.stack()"
   ]
  },
  {
   "cell_type": "markdown",
   "metadata": {},
   "source": [
    "### Dreistufige Indizes\n",
    "\n",
    "Zu Anfang dieses Kapitels haben wir gesehen, wie wir eine Series mit einem mehrstufigen Index direkt durch die Angabe einer Liste mit zwei oder mehr Index-Arrays oder Listen erzeugen können. Wir hatten ein Dictionary ```cities``` und die verschachtelte Liste ```index``` zu einer mehrstufigen ```Series``` gewandelt. Genaugenommen erhielten wir eine zweistufige Series. Im folgenden Beispiel zeigen wir ein Beispiel mit einem dreistufigen Index:"
   ]
  },
  {
   "cell_type": "code",
   "execution_count": 65,
   "metadata": {},
   "outputs": [
    {
     "name": "stdout",
     "output_type": "stream",
     "text": [
      "hot   red    right    16031\n",
      "             wrong    71724\n",
      "      green  right    51514\n",
      "             wrong    56067\n",
      "      blue   right    51977\n",
      "             wrong    28134\n",
      "cold  red    right     8368\n",
      "             wrong    54434\n",
      "      green  right     6894\n",
      "             wrong    82765\n",
      "      blue   right    34937\n",
      "             wrong    58604\n",
      "dtype: int64\n"
     ]
    }
   ],
   "source": [
    "import pandas as pd\n",
    "\n",
    "index = [ [\"hot\"] * 6 + [\"cold\"] * 6,  \n",
    "         ([\"red\"] * 2  + [\"green\"] * 2 + [\"blue\"] * 2) * 2, \n",
    "         [\"right\", \"wrong\"] * 6]\n",
    "\n",
    "data = np.random.randint(100, 100000, size=(12,))\n",
    "\n",
    "S3_series = pd.Series(data, index=index)\n",
    "print(S3_series)"
   ]
  },
  {
   "cell_type": "markdown",
   "metadata": {},
   "source": [
    "Auch im Falle von dreistufigen Indizes können wir mit Hilfe der Methode ```unstack``` ein DataFrame erzeugen. Wir zeigen die verschiedenen Möglichkeiten für den Parameter ```level```:"
   ]
  },
  {
   "cell_type": "code",
   "execution_count": 66,
   "metadata": {},
   "outputs": [
    {
     "name": "stdout",
     "output_type": "stream",
     "text": [
      "            right  wrong\n",
      "cold blue   34937  58604\n",
      "     green   6894  82765\n",
      "     red     8368  54434\n",
      "hot  blue   51977  28134\n",
      "     green  51514  56067\n",
      "     red    16031  71724\n"
     ]
    }
   ],
   "source": [
    "print(S3_series.unstack(level=-1))   # entspricht 'level=2'"
   ]
  },
  {
   "cell_type": "code",
   "execution_count": 67,
   "metadata": {},
   "outputs": [
    {
     "name": "stdout",
     "output_type": "stream",
     "text": [
      "              cold    hot\n",
      "blue  right  34937  51977\n",
      "      wrong  58604  28134\n",
      "green right   6894  51514\n",
      "      wrong  82765  56067\n",
      "red   right   8368  16031\n",
      "      wrong  54434  71724\n"
     ]
    }
   ],
   "source": [
    "print(S3_series.unstack(level=-0))"
   ]
  },
  {
   "cell_type": "code",
   "execution_count": 68,
   "metadata": {},
   "outputs": [
    {
     "name": "stdout",
     "output_type": "stream",
     "text": [
      "        red         green          blue       \n",
      "      right  wrong  right  wrong  right  wrong\n",
      "cold   8368  54434   6894  82765  34937  58604\n",
      "hot   16031  71724  51514  56067  51977  28134\n"
     ]
    }
   ],
   "source": [
    "x = S3_series.unstack(level=[1, 2])\n",
    "print(x)"
   ]
  },
  {
   "cell_type": "code",
   "execution_count": 69,
   "metadata": {},
   "outputs": [
    {
     "name": "stdout",
     "output_type": "stream",
     "text": [
      "cold     8368\n",
      "hot     16031\n",
      "Name: (red, right), dtype: int64\n"
     ]
    }
   ],
   "source": [
    "print(x[\"red\", \"right\"])"
   ]
  },
  {
   "cell_type": "code",
   "execution_count": 70,
   "metadata": {},
   "outputs": [
    {
     "name": "stdout",
     "output_type": "stream",
     "text": [
      "      right  wrong  right  wrong  right  wrong\n",
      "        red    red  green  green   blue   blue\n",
      "cold   8368  54434   6894  82765  34937  58604\n",
      "hot   16031  71724  51514  56067  51977  28134\n"
     ]
    }
   ],
   "source": [
    "x = S3_series.unstack(level=[2, 1])\n",
    "print(x)"
   ]
  },
  {
   "cell_type": "code",
   "execution_count": 71,
   "metadata": {},
   "outputs": [
    {
     "data": {
      "text/html": [
       "<div>\n",
       "<style scoped>\n",
       "    .dataframe tbody tr th:only-of-type {\n",
       "        vertical-align: middle;\n",
       "    }\n",
       "\n",
       "    .dataframe tbody tr th {\n",
       "        vertical-align: top;\n",
       "    }\n",
       "\n",
       "    .dataframe thead th {\n",
       "        text-align: right;\n",
       "    }\n",
       "</style>\n",
       "<table border=\"1\" class=\"dataframe\">\n",
       "  <thead>\n",
       "    <tr style=\"text-align: right;\">\n",
       "      <th></th>\n",
       "      <th>red</th>\n",
       "      <th>green</th>\n",
       "      <th>blue</th>\n",
       "    </tr>\n",
       "  </thead>\n",
       "  <tbody>\n",
       "    <tr>\n",
       "      <th>cold</th>\n",
       "      <td>8368</td>\n",
       "      <td>6894</td>\n",
       "      <td>34937</td>\n",
       "    </tr>\n",
       "    <tr>\n",
       "      <th>hot</th>\n",
       "      <td>16031</td>\n",
       "      <td>51514</td>\n",
       "      <td>51977</td>\n",
       "    </tr>\n",
       "  </tbody>\n",
       "</table>\n",
       "</div>"
      ],
      "text/plain": [
       "        red  green   blue\n",
       "cold   8368   6894  34937\n",
       "hot   16031  51514  51977"
      ]
     },
     "execution_count": 71,
     "metadata": {},
     "output_type": "execute_result"
    }
   ],
   "source": [
    "x[\"right\"]"
   ]
  },
  {
   "cell_type": "markdown",
   "metadata": {},
   "source": [
    "Die Daten hätten aber auch wie in folgendem Dictionary organisiert gewesen sein können. Auch dann können wir diese direkt in ein mehrstufiges Dictionary wandeln:"
   ]
  },
  {
   "cell_type": "markdown",
   "metadata": {},
   "source": [
    "### Vertauschen mehrstufiger Indizes\n",
    "\n",
    "\n",
    "Es ist möglich, die Ebenen eines mehrstufigen Index mit der Methode ```swaplevel``` zu vertauschen:"
   ]
  },
  {
   "cell_type": "code",
   "execution_count": 72,
   "metadata": {},
   "outputs": [
    {
     "data": {
      "text/plain": [
       "cold  right  blue     34937\n",
       "             green     6894\n",
       "             red       8368\n",
       "      wrong  blue     58604\n",
       "             green    82765\n",
       "             red      54434\n",
       "hot   right  blue     51977\n",
       "             green    51514\n",
       "             red      16031\n",
       "      wrong  blue     28134\n",
       "             green    56067\n",
       "             red      71724\n",
       "dtype: int64"
      ]
     },
     "execution_count": 72,
     "metadata": {},
     "output_type": "execute_result"
    }
   ],
   "source": [
    "S3_swapped = S3_series.swaplevel()\n",
    "S3_swapped.sort_index(inplace=True)\n",
    "S3_swapped"
   ]
  },
  {
   "cell_type": "code",
   "execution_count": 73,
   "metadata": {},
   "outputs": [
    {
     "name": "stdout",
     "output_type": "stream",
     "text": [
      "Berlin   area               891.85\n",
      "         country           Germany\n",
      "         population        3562166\n",
      "Hamburg  area                  755\n",
      "         country           Germany\n",
      "         population        1760433\n",
      "Vienna   area                414.6\n",
      "         country           Austria\n",
      "         population        1805681\n",
      "Zürich   area                87.88\n",
      "         country       Switzerland\n",
      "         population         378884\n",
      "dtype: object\n",
      "\n",
      "--- vertauscht ---\n"
     ]
    },
    {
     "data": {
      "text/plain": [
       "area        Berlin          891.85\n",
       "            Hamburg            755\n",
       "            Vienna           414.6\n",
       "            Zürich           87.88\n",
       "country     Berlin         Germany\n",
       "            Hamburg        Germany\n",
       "            Vienna         Austria\n",
       "            Zürich     Switzerland\n",
       "population  Berlin         3562166\n",
       "            Hamburg        1760433\n",
       "            Vienna         1805681\n",
       "            Zürich          378884\n",
       "dtype: object"
      ]
     },
     "execution_count": 73,
     "metadata": {},
     "output_type": "execute_result"
    }
   ],
   "source": [
    "print(city_series)\n",
    "city_series = city_series.swaplevel()\n",
    "city_series.sort_index(inplace=True)\n",
    "print(\"\\n--- vertauscht ---\")\n",
    "city_series"
   ]
  },
  {
   "cell_type": "markdown",
   "metadata": {},
   "source": [
    "\n",
    "\n",
    "\n",
    "    "
   ]
  },
  {
   "cell_type": "code",
   "execution_count": 74,
   "metadata": {},
   "outputs": [
    {
     "data": {
      "text/plain": [
       "Afghanistan  2015    1.31\n",
       "             2016    2.37\n",
       "             2017    2.60\n",
       "Ägypten      2015    4.37\n",
       "             2016    4.35\n",
       "             2017    4.18\n",
       "Albanien     2015    2.22\n",
       "             2016    3.35\n",
       "             2017    3.84\n",
       "dtype: float64"
      ]
     },
     "execution_count": 74,
     "metadata": {},
     "output_type": "execute_result"
    }
   ],
   "source": [
    "growth_rates = {(\"Afghanistan\", 2015): 1.31, \n",
    "                (\"Afghanistan\", 2016): 2.37,\n",
    "                (\"Afghanistan\", 2017): 2.60, \n",
    "                (\"Ägypten\", 2015): 4.37,\n",
    "                (\"Ägypten\", 2016): 4.35,\n",
    "                (\"Ägypten\", 2017): 4.18,\n",
    "                (\"Albanien\", 2015): 2.22,\n",
    "                (\"Albanien\", 2016): 3.35,\n",
    "                (\"Albanien\", 2017): 3.84}\n",
    "\n",
    "growth_rates_series = pd.Series(growth_rates)\n",
    "\n",
    "growth_rates_series"
   ]
  },
  {
   "cell_type": "code",
   "execution_count": 75,
   "metadata": {},
   "outputs": [
    {
     "data": {
      "text/plain": [
       "2015  Afghanistan    1.31\n",
       "      Albanien       2.22\n",
       "      Ägypten        4.37\n",
       "2016  Afghanistan    2.37\n",
       "      Albanien       3.35\n",
       "      Ägypten        4.35\n",
       "2017  Afghanistan    2.60\n",
       "      Albanien       3.84\n",
       "      Ägypten        4.18\n",
       "dtype: float64"
      ]
     },
     "execution_count": 75,
     "metadata": {},
     "output_type": "execute_result"
    }
   ],
   "source": [
    "growth_rates_series = growth_rates_series.swaplevel()\n",
    "growth_rates_series.sort_index(inplace=True)\n",
    "growth_rates_series"
   ]
  }
 ],
 "metadata": {
  "anaconda-cloud": {},
  "kernelspec": {
   "display_name": "Python 3",
   "language": "python",
   "name": "python3"
  },
  "language_info": {
   "codemirror_mode": {
    "name": "ipython",
    "version": 3
   },
   "file_extension": ".py",
   "mimetype": "text/x-python",
   "name": "python",
   "nbconvert_exporter": "python",
   "pygments_lexer": "ipython3",
   "version": "3.8.5"
  },
  "toc": {
   "base_numbering": 1,
   "nav_menu": {},
   "number_sections": true,
   "sideBar": true,
   "skip_h1_title": false,
   "title_cell": "Table of Contents",
   "title_sidebar": "Contents",
   "toc_cell": false,
   "toc_position": {},
   "toc_section_display": true,
   "toc_window_display": false
  }
 },
 "nbformat": 4,
 "nbformat_minor": 4
}
