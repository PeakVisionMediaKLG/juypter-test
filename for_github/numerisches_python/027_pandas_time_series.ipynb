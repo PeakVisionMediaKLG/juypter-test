{
 "cells": [
  {
   "cell_type": "code",
   "execution_count": 15,
   "metadata": {},
   "outputs": [],
   "source": [
    "# invisible\n",
    "import numpy as np\n",
    "np.core.arrayprint._line_width = 65"
   ]
  },
  {
   "cell_type": "markdown",
   "metadata": {},
   "source": [
    "\n",
    "\n",
    "\n",
    "\n",
    "\n",
    "## Python, Pandas und Zeitserien\n",
    "\n",
    "### Einführung\n",
    "\n",
    "<img width=\"60%\" class=\"imgright\" src=\"../images/timeseries.webp\" srcset=\"../images/timeseries_700w.webp 700w,../images/timeseries_600w.webp 600w,../images/timeseries_500w.webp 500w,../images/timeseries_400w.webp 400w,../images/timeseries_350w.webp 350w,../images/timeseries_300w.webp 300w\" alt=\"Time Series Pandas\" />\n",
    "\n",
    "In unserem nächsten Kapitel des Pandas-Tutorial behandeln wir Time Series. \n",
    "Eine Time Series ist eine Reihe von Datenpunkten, welche in chronologischer (zeitlicher) Reihenfolge gelistet (indiziert) sind. Für gewöhnlich ist eine Time Series eine Sequenz von Werten, mit gleichen zeitlichen Abständen. \n",
    "\n",
    "Alle gemessenen Daten, die auch mit einem bestimmten Zeitpunkt in Verbindung stehen, können als Time Series angesehen werden. Messungen können durchaus unregelmäßig sein, haben aber in den meisten Fällen eine feste Frequenz bzw. Regelmässigkeit. D.h. dass Daten bspw. alle 5 Millisekunden, alle 10 Sekunden oder jede Stunde erhoben werden.\n",
    "Time Series werden oft in Liniencharts dargestellt.\n",
    "\n",
    "Bevor Sie fortfahren möchten wir ihnen noch unser Tutorial empfehlen zum Thema Time Processing mit Standard Python-Modulen, wie z.B. datetime, time und calendar.\n",
    "\n",
    "\n",
    "\n",
    "\n",
    "\n",
    "Wir wollen in diesem Kapitel die Pandas-Tools vorstellen, um mit Time Series umzugehen. Sie werden also lernen, mit großen Time Series zu arbeiten und diese zu modifizieren:"
   ]
  },
  {
   "cell_type": "markdown",
   "metadata": {},
   "source": [
    "### Zeitreihen und Python\n",
    "\n",
    "Wir können eine Pandas-Series definieren, welche als Index eine Reihe von Zeitstempeln enthält:"
   ]
  },
  {
   "cell_type": "code",
   "execution_count": 16,
   "metadata": {},
   "outputs": [
    {
     "name": "stdout",
     "output_type": "stream",
     "text": [
      "2018-12-01    25\n",
      "2018-11-30    50\n",
      "2018-11-29    15\n",
      "2018-11-28    67\n",
      "2018-11-27    70\n",
      "2018-11-26     9\n",
      "2018-11-25    28\n",
      "2018-11-24    30\n",
      "2018-11-23    32\n",
      "2018-11-22    12\n",
      "dtype: int64\n"
     ]
    }
   ],
   "source": [
    "import numpy as np\n",
    "import pandas as pd\n",
    "from datetime import datetime, timedelta as delta\n",
    "\n",
    "ndays = 10\n",
    "start = datetime(2018, 12, 1)\n",
    "dates = [start - delta(days = x) for x in range(0, ndays)]\n",
    "\n",
    "values = [25, 50, 15, 67, 70, 9, 28, 30, 32, 12]\n",
    "\n",
    "ts = pd.Series(values, index = dates)\n",
    "print(ts)"
   ]
  },
  {
   "cell_type": "markdown",
   "metadata": {},
   "source": [
    "Wir ermitteln den Typ der soeben erstellten Time-Series:"
   ]
  },
  {
   "cell_type": "code",
   "execution_count": 17,
   "metadata": {},
   "outputs": [
    {
     "name": "stdout",
     "output_type": "stream",
     "text": [
      "<class 'pandas.core.series.Series'>\n"
     ]
    }
   ],
   "source": [
    "print(type(ts))"
   ]
  },
  {
   "cell_type": "markdown",
   "metadata": {},
   "source": [
    "Was wir erzeugt haben, ist eine Zeitreihe oder Time-Series, weil es auf den Series von Pandas basiert. Wie sieht der Index dieser Time-Series aus? Wir sehen es hier:"
   ]
  },
  {
   "cell_type": "code",
   "execution_count": 18,
   "metadata": {},
   "outputs": [
    {
     "name": "stdout",
     "output_type": "stream",
     "text": [
      "DatetimeIndex(['2018-12-01', '2018-11-30', '2018-11-29', '2018-11-28',\n",
      "               '2018-11-27', '2018-11-26', '2018-11-25', '2018-11-24',\n",
      "               '2018-11-23', '2018-11-22'],\n",
      "              dtype='datetime64[ns]', freq=None)\n"
     ]
    }
   ],
   "source": [
    "print(ts.index)"
   ]
  },
  {
   "cell_type": "markdown",
   "metadata": {},
   "source": [
    "Wir erstellen eine weitere Time-Series:"
   ]
  },
  {
   "cell_type": "code",
   "execution_count": 19,
   "metadata": {},
   "outputs": [],
   "source": [
    "values2 = [32, 54, 18, 61, 72, 19, 21, 33, 29, 17]\n",
    "\n",
    "ts2 = pd.Series(values2, index=dates)"
   ]
  },
  {
   "cell_type": "markdown",
   "metadata": {},
   "source": [
    "\n",
    "Es ist möglich, arithmetische Operationen auf Zeitreihen durchzuführen, wie bei anderen Series-Objekten auch. Als Beispiel addieren wir die beiden zuvor erstellten Time-Series:"
   ]
  },
  {
   "cell_type": "code",
   "execution_count": 20,
   "metadata": {},
   "outputs": [
    {
     "name": "stdout",
     "output_type": "stream",
     "text": [
      "2018-12-01     57\n",
      "2018-11-30    104\n",
      "2018-11-29     33\n",
      "2018-11-28    128\n",
      "2018-11-27    142\n",
      "2018-11-26     28\n",
      "2018-11-25     49\n",
      "2018-11-24     63\n",
      "2018-11-23     61\n",
      "2018-11-22     29\n",
      "dtype: int64\n"
     ]
    }
   ],
   "source": [
    "print(ts + ts2)"
   ]
  },
  {
   "cell_type": "markdown",
   "metadata": {},
   "source": [
    "Arithmetischer Durchschnitt der beiden Series-Objekte:"
   ]
  },
  {
   "cell_type": "code",
   "execution_count": 21,
   "metadata": {},
   "outputs": [
    {
     "name": "stdout",
     "output_type": "stream",
     "text": [
      "2018-12-01    28.5\n",
      "2018-11-30    52.0\n",
      "2018-11-29    16.5\n",
      "2018-11-28    64.0\n",
      "2018-11-27    71.0\n",
      "2018-11-26    14.0\n",
      "2018-11-25    24.5\n",
      "2018-11-24    31.5\n",
      "2018-11-23    30.5\n",
      "2018-11-22    14.5\n",
      "dtype: float64\n"
     ]
    }
   ],
   "source": [
    "print((ts + ts2) / 2)"
   ]
  },
  {
   "cell_type": "markdown",
   "metadata": {},
   "source": [
    "Dies kann auch mit Series-Objekten gemacht werden, die eine andere Indexierung haben."
   ]
  },
  {
   "cell_type": "code",
   "execution_count": 22,
   "metadata": {},
   "outputs": [
    {
     "name": "stdout",
     "output_type": "stream",
     "text": [
      "2018-05-19      NaN\n",
      "2018-05-20      NaN\n",
      "2018-05-21      NaN\n",
      "2018-05-22      NaN\n",
      "2018-05-23     31.0\n",
      "2018-05-24    104.0\n",
      "2018-05-25     91.0\n",
      "2018-05-26     46.0\n",
      "2018-05-27     63.0\n",
      "2018-05-28    102.0\n",
      "2018-05-29      NaN\n",
      "2018-05-30      NaN\n",
      "2018-05-31      NaN\n",
      "2018-06-01      NaN\n",
      "dtype: float64\n"
     ]
    }
   ],
   "source": [
    "import pandas as pd\n",
    "\n",
    "from datetime import datetime, timedelta as delta\n",
    "\n",
    "ndays = 10\n",
    "\n",
    "start = datetime(2018, 6, 1)\n",
    "dates = [start - delta(days=x) for x in range(0, ndays)]\n",
    "\n",
    "start2 = datetime(2018, 5, 28)\n",
    "dates2 = [start2 - delta(days=x) for x in range(0, ndays)]\n",
    "\n",
    "values = [25, 50, 15, 67, 70, 9, 28, 30, 32, 12]\n",
    "values2 = [32, 54, 18, 61, 72, 19, 21, 33, 29, 17]\n",
    "\n",
    "ts = pd.Series(values, index = dates)\n",
    "ts2 = pd.Series(values2, index = dates2)\n",
    "\n",
    "print(ts + ts2)"
   ]
  },
  {
   "cell_type": "markdown",
   "metadata": {},
   "source": [
    "### Datumsbereiche erstellen\n",
    "\n",
    "\n",
    "Die Methode ```date_range()``` aus dem Pandas-Modul kann für die Erstellung eines Datumsstempel-Index verwendet werden:"
   ]
  },
  {
   "cell_type": "code",
   "execution_count": 23,
   "metadata": {},
   "outputs": [
    {
     "name": "stdout",
     "output_type": "stream",
     "text": [
      "DatetimeIndex(['1970-12-24', '1970-12-25', '1970-12-26', '1970-12-27',\n",
      "               '1970-12-28', '1970-12-29', '1970-12-30', '1970-12-31',\n",
      "               '1971-01-01', '1971-01-02', '1971-01-03'],\n",
      "              dtype='datetime64[ns]', freq='D')\n"
     ]
    }
   ],
   "source": [
    "import pandas as pd\n",
    "\n",
    "index = pd.date_range('12/24/1970', '01/03/1971')\n",
    "print(index)"
   ]
  },
  {
   "cell_type": "markdown",
   "metadata": {},
   "source": [
    "Wir haben ein Start- und ein Ende-Datum an die ```date_range```-Methode übergeben. Ebenso ist es möglich, nur einen Start oder nur ein Ende zu übergeben. In diesem Fall muss jedoch die Anzahl der Perioden, über den Schlüsselwort-Parameter ```periods```, angegeben werden:"
   ]
  },
  {
   "cell_type": "code",
   "execution_count": 24,
   "metadata": {},
   "outputs": [
    {
     "name": "stdout",
     "output_type": "stream",
     "text": [
      "DatetimeIndex(['1970-12-24', '1970-12-25', '1970-12-26', '1970-12-27',\n",
      "               '1970-12-28', '1970-12-29', '1970-12-30'],\n",
      "              dtype='datetime64[ns]', freq='D')\n"
     ]
    }
   ],
   "source": [
    "index = pd.date_range(start='12/24/1970', periods=7)\n",
    "print(index)"
   ]
  },
  {
   "cell_type": "code",
   "execution_count": 25,
   "metadata": {},
   "outputs": [
    {
     "name": "stdout",
     "output_type": "stream",
     "text": [
      "DatetimeIndex(['1970-12-18', '1970-12-19', '1970-12-20', '1970-12-21',\n",
      "               '1970-12-22', '1970-12-23', '1970-12-24'],\n",
      "              dtype='datetime64[ns]', freq='D')\n"
     ]
    }
   ],
   "source": [
    "index = pd.date_range(end='12/24/1970', periods=7)\n",
    "print(index)"
   ]
  },
  {
   "cell_type": "markdown",
   "metadata": {},
   "source": [
    "Ebenso ist es möglich Zeitreihen zu erstellen, welche nur die Arbeitstage beinhalten. Dazu muss der Schlüsselwortparameter ```freq``` auf ```B``` gesetzt werden:"
   ]
  },
  {
   "cell_type": "code",
   "execution_count": 26,
   "metadata": {},
   "outputs": [
    {
     "name": "stdout",
     "output_type": "stream",
     "text": [
      "DatetimeIndex(['2017-04-07', '2017-04-10', '2017-04-11', '2017-04-12',\n",
      "               '2017-04-13'],\n",
      "              dtype='datetime64[ns]', freq='B')\n"
     ]
    }
   ],
   "source": [
    "index = pd.date_range('2017-04-07', '2017-04-13', freq=\"B\")\n",
    "print(index)"
   ]
  },
  {
   "cell_type": "markdown",
   "metadata": {},
   "source": [
    "Im nächsten Beispiel generieren wir eine Zeitreihe, welche die Monatsenden zwischen zwei Zeitpunkten enthält. Dabei sehen wir, dass das Jahr 2016 den 29. Februar hatte, weil es ein Schaltjahr war:"
   ]
  },
  {
   "cell_type": "code",
   "execution_count": 27,
   "metadata": {},
   "outputs": [
    {
     "name": "stdout",
     "output_type": "stream",
     "text": [
      "DatetimeIndex(['2016-02-29', '2016-03-31', '2016-04-30', '2016-05-31',\n",
      "               '2016-06-30'],\n",
      "              dtype='datetime64[ns]', freq='M')\n"
     ]
    }
   ],
   "source": [
    "index = pd.date_range('2016-02-25', '2016-07-02', freq=\"M\")\n",
    "print(index)"
   ]
  },
  {
   "cell_type": "markdown",
   "metadata": {},
   "source": [
    "Weitere Abkürzungen:\n",
    "\n",
    "| Alias          | Description |\n",
    "|----------------|-------------|\n",
    "| B     |   business day frequency   |\n",
    "| C \t|    custom business day frequency (experimental) |\n",
    "| D \t|    calendar day frequency |\n",
    "| W \t|    weekly frequency |\n",
    "| M \t|    month end frequency |\n",
    "| BM \t|   business month end frequency |\n",
    "| MS \t|   month start frequency |\n",
    "| BMS   |    business month start frequency |\n",
    "| Q \t|    quarter end frequency |\n",
    "| BQ \t|   business quarter end frequency |\n",
    "| QS \t|   quarter start frequency |\n",
    "| BQS \t|  business quarter start frequency |\n",
    "| A \t|    year end frequency |\n",
    "| BA \t|   business year end frequency |\n",
    "| AS \t|   year start frequency |\n",
    "| BAS \t|  business year start frequency |\n",
    "| H \t|    hourly frequency |\n",
    "| T \t|    minutely frequency |\n",
    "| S \t|    secondly frequency |\n",
    "| L \t|    milliseconds |\n",
    "| U \t|    microseconds |"
   ]
  },
  {
   "cell_type": "code",
   "execution_count": 28,
   "metadata": {},
   "outputs": [
    {
     "name": "stdout",
     "output_type": "stream",
     "text": [
      "DatetimeIndex(['2017-02-06', '2017-02-13', '2017-02-20', '2017-02-27',\n",
      "               '2017-03-06', '2017-03-13', '2017-03-20', '2017-03-27',\n",
      "               '2017-04-03', '2017-04-10'],\n",
      "              dtype='datetime64[ns]', freq='W-MON')\n"
     ]
    }
   ],
   "source": [
    "index = pd.date_range('2017-02-05', '2017-04-13', freq=\"W-Mon\")\n",
    "print(index)"
   ]
  }
 ],
 "metadata": {
  "anaconda-cloud": {},
  "kernelspec": {
   "display_name": "Python 3",
   "language": "python",
   "name": "python3"
  },
  "language_info": {
   "codemirror_mode": {
    "name": "ipython",
    "version": 3
   },
   "file_extension": ".py",
   "mimetype": "text/x-python",
   "name": "python",
   "nbconvert_exporter": "python",
   "pygments_lexer": "ipython3",
   "version": "3.8.5"
  },
  "toc": {
   "base_numbering": 1,
   "nav_menu": {},
   "number_sections": true,
   "sideBar": true,
   "skip_h1_title": false,
   "title_cell": "Table of Contents",
   "title_sidebar": "Contents",
   "toc_cell": false,
   "toc_position": {},
   "toc_section_display": true,
   "toc_window_display": false
  }
 },
 "nbformat": 4,
 "nbformat_minor": 4
}
